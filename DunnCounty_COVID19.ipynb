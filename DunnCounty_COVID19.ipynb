{
 "cells": [
  {
   "cell_type": "code",
   "execution_count": 1,
   "metadata": {
    "execution": {
     "iopub.execute_input": "2020-12-26T22:15:55.944656Z",
     "iopub.status.busy": "2020-12-26T22:15:55.944208Z",
     "iopub.status.idle": "2020-12-26T22:15:58.108296Z",
     "shell.execute_reply": "2020-12-26T22:15:58.106967Z"
    },
    "jupyter": {
     "source_hidden": true
    },
    "papermill": {
     "duration": 2.182269,
     "end_time": "2020-12-26T22:15:58.108492",
     "exception": false,
     "start_time": "2020-12-26T22:15:55.926223",
     "status": "completed"
    },
    "scrolled": true,
    "tags": [
     "hide-input"
    ]
   },
   "outputs": [],
   "source": [
    "import pandas as pd\n",
    "import matplotlib.pyplot as plt\n",
    "from matplotlib import dates\n",
    "from IPython.display import display, Markdown\n",
    "%matplotlib inline"
   ]
  },
  {
   "cell_type": "code",
   "execution_count": 2,
   "metadata": {
    "execution": {
     "iopub.execute_input": "2020-12-26T22:15:58.127609Z",
     "iopub.status.busy": "2020-12-26T22:15:58.126583Z",
     "iopub.status.idle": "2020-12-26T22:15:59.249506Z",
     "shell.execute_reply": "2020-12-26T22:15:59.248777Z"
    },
    "jupyter": {
     "source_hidden": true
    },
    "papermill": {
     "duration": 1.1345,
     "end_time": "2020-12-26T22:15:59.249706",
     "exception": false,
     "start_time": "2020-12-26T22:15:58.115206",
     "status": "completed"
    },
    "scrolled": true,
    "tags": [
     "hide-input"
    ]
   },
   "outputs": [],
   "source": [
    "# This is the data for all of Wisconsin.\n",
    "url = \"https://opendata.arcgis.com/datasets/5374188992374b318d3e2305216ee413_12.csv\"\n",
    "data = pd.read_csv(url, parse_dates=['DATE'], low_memory=False)"
   ]
  },
  {
   "cell_type": "code",
   "execution_count": 3,
   "metadata": {
    "execution": {
     "iopub.execute_input": "2020-12-26T22:15:59.269302Z",
     "iopub.status.busy": "2020-12-26T22:15:59.268836Z",
     "iopub.status.idle": "2020-12-26T22:15:59.275766Z",
     "shell.execute_reply": "2020-12-26T22:15:59.275287Z"
    },
    "jupyter": {
     "source_hidden": true
    },
    "papermill": {
     "duration": 0.018166,
     "end_time": "2020-12-26T22:15:59.275881",
     "exception": false,
     "start_time": "2020-12-26T22:15:59.257715",
     "status": "completed"
    },
    "scrolled": true,
    "tags": [
     "hide-input"
    ]
   },
   "outputs": [],
   "source": [
    "dc = data.groupby('NAME').get_group('Dunn').sort_values(by='DATE') # Select the data for Dunn County from the full data.\n",
    "PNi = dc.columns.get_loc(\"POS_NEW\")\n",
    "dc['7_DAY'] = dc.iloc[:,PNi].rolling(window=7).mean() # Calculates the rolling 7-day average of new cases.\n",
    "dc['14_DAY'] = dc.iloc[:,PNi].rolling(window=14).mean() # Calculates the rolling 14-day average of new cases."
   ]
  },
  {
   "cell_type": "code",
   "execution_count": 4,
   "metadata": {
    "execution": {
     "iopub.execute_input": "2020-12-26T22:15:59.292068Z",
     "iopub.status.busy": "2020-12-26T22:15:59.291498Z",
     "iopub.status.idle": "2020-12-26T22:15:59.294522Z",
     "shell.execute_reply": "2020-12-26T22:15:59.294847Z"
    },
    "jupyter": {
     "source_hidden": true
    },
    "papermill": {
     "duration": 0.013867,
     "end_time": "2020-12-26T22:15:59.294941",
     "exception": false,
     "start_time": "2020-12-26T22:15:59.281074",
     "status": "completed"
    },
    "scrolled": true,
    "tags": [
     "hide-input"
    ]
   },
   "outputs": [
    {
     "data": {
      "text/markdown": [
       "### Last updated: December 26, 2020"
      ],
      "text/plain": [
       "<IPython.core.display.Markdown object>"
      ]
     },
     "metadata": {},
     "output_type": "display_data"
    }
   ],
   "source": [
    "display(Markdown('### Last updated: ' + dc.iloc[-1]['DATE'].strftime(\"%B %d, %Y\")))"
   ]
  },
  {
   "cell_type": "code",
   "execution_count": 5,
   "metadata": {
    "execution": {
     "iopub.execute_input": "2020-12-26T22:15:59.310461Z",
     "iopub.status.busy": "2020-12-26T22:15:59.310086Z",
     "iopub.status.idle": "2020-12-26T22:15:59.313924Z",
     "shell.execute_reply": "2020-12-26T22:15:59.313547Z"
    },
    "jupyter": {
     "source_hidden": true
    },
    "papermill": {
     "duration": 0.013893,
     "end_time": "2020-12-26T22:15:59.314014",
     "exception": false,
     "start_time": "2020-12-26T22:15:59.300121",
     "status": "completed"
    },
    "tags": [
     "hide-input"
    ]
   },
   "outputs": [
    {
     "data": {
      "text/markdown": [
       "# Dunn County has 3389 total positive cases, with 0 new cases reported today."
      ],
      "text/plain": [
       "<IPython.core.display.Markdown object>"
      ]
     },
     "metadata": {},
     "output_type": "display_data"
    }
   ],
   "source": [
    "display(Markdown('# Dunn County has ' + str(dc.iloc[-1]['POSITIVE']) + ' total positive cases, with '+ str(int(dc.iloc[-1]['POS_NEW'])) + ' new cases reported today.'))"
   ]
  },
  {
   "cell_type": "code",
   "execution_count": 6,
   "metadata": {
    "execution": {
     "iopub.execute_input": "2020-12-26T22:15:59.329105Z",
     "iopub.status.busy": "2020-12-26T22:15:59.328680Z",
     "iopub.status.idle": "2020-12-26T22:15:59.525872Z",
     "shell.execute_reply": "2020-12-26T22:15:59.526306Z"
    },
    "jupyter": {
     "source_hidden": true
    },
    "papermill": {
     "duration": 0.206907,
     "end_time": "2020-12-26T22:15:59.526448",
     "exception": false,
     "start_time": "2020-12-26T22:15:59.319541",
     "status": "completed"
    },
    "scrolled": false,
    "tags": [
     "hide-input"
    ]
   },
   "outputs": [
    {
     "data": {
      "image/png": "[encoded data removed]",
      "text/plain": [
       "<Figure size 864x432 with 1 Axes>"
      ]
     },
     "metadata": {
      "needs_background": "light"
     },
     "output_type": "display_data"
    }
   ],
   "source": [
    "dc.plot(x='DATE',y='POSITIVE',color='red',grid='True',figsize=(12,6)).set_xlabel('Date');"
   ]
  },
  {
   "cell_type": "markdown",
   "metadata": {
    "papermill": {
     "duration": 0.007065,
     "end_time": "2020-12-26T22:15:59.540585",
     "exception": false,
     "start_time": "2020-12-26T22:15:59.533520",
     "status": "completed"
    },
    "tags": []
   },
   "source": [
    "## Figure 1: Cummulative number of positive cases."
   ]
  },
  {
   "cell_type": "code",
   "execution_count": 7,
   "metadata": {
    "execution": {
     "iopub.execute_input": "2020-12-26T22:15:59.581073Z",
     "iopub.status.busy": "2020-12-26T22:15:59.560244Z",
     "iopub.status.idle": "2020-12-26T22:15:59.758374Z",
     "shell.execute_reply": "2020-12-26T22:15:59.757919Z"
    },
    "jupyter": {
     "source_hidden": true
    },
    "papermill": {
     "duration": 0.209956,
     "end_time": "2020-12-26T22:15:59.758498",
     "exception": false,
     "start_time": "2020-12-26T22:15:59.548542",
     "status": "completed"
    },
    "scrolled": false,
    "tags": [
     "hide-input"
    ]
   },
   "outputs": [
    {
     "data": {
      "image/png": "[encoded data removed]",
      "text/plain": [
       "<Figure size 864x432 with 1 Axes>"
      ]
     },
     "metadata": {
      "needs_background": "light"
     },
     "output_type": "display_data"
    }
   ],
   "source": [
    "dc.plot(kind='line',x='DATE',y='7_DAY',color='blue',grid='True',figsize=(12,6)).set_xlabel('Date');"
   ]
  },
  {
   "cell_type": "markdown",
   "metadata": {
    "papermill": {
     "duration": 0.00884,
     "end_time": "2020-12-26T22:15:59.776095",
     "exception": false,
     "start_time": "2020-12-26T22:15:59.767255",
     "status": "completed"
    },
    "tags": []
   },
   "source": [
    "## Figure 2: Rolling 7-day average of daily new cases."
   ]
  },
  {
   "cell_type": "code",
   "execution_count": 8,
   "metadata": {
    "execution": {
     "iopub.execute_input": "2020-12-26T22:15:59.799082Z",
     "iopub.status.busy": "2020-12-26T22:15:59.798599Z",
     "iopub.status.idle": "2020-12-26T22:15:59.993572Z",
     "shell.execute_reply": "2020-12-26T22:15:59.994006Z"
    },
    "jupyter": {
     "source_hidden": true
    },
    "papermill": {
     "duration": 0.209188,
     "end_time": "2020-12-26T22:15:59.994160",
     "exception": false,
     "start_time": "2020-12-26T22:15:59.784972",
     "status": "completed"
    },
    "tags": []
   },
   "outputs": [
    {
     "data": {
      "image/png": "[encoded data removed]",
      "text/plain": [
       "<Figure size 864x432 with 1 Axes>"
      ]
     },
     "metadata": {
      "needs_background": "light"
     },
     "output_type": "display_data"
    }
   ],
   "source": [
    "dc.plot(kind='line',x='DATE',y='14_DAY',color='green',grid='True',figsize=(12,6)).set_xlabel('Date');"
   ]
  },
  {
   "cell_type": "markdown",
   "metadata": {
    "papermill": {
     "duration": 0.010306,
     "end_time": "2020-12-26T22:16:00.014653",
     "exception": false,
     "start_time": "2020-12-26T22:16:00.004347",
     "status": "completed"
    },
    "tags": []
   },
   "source": [
    "## Figure 3: Rolling 14-day average of daily new cases."
   ]
  },
  {
   "cell_type": "markdown",
   "metadata": {
    "papermill": {
     "duration": 0.010203,
     "end_time": "2020-12-26T22:16:00.034731",
     "exception": false,
     "start_time": "2020-12-26T22:16:00.024528",
     "status": "completed"
    },
    "tags": []
   },
   "source": [
    "Data source: [Wisconsin Department of Health Services](https://data.dhsgis.wi.gov/datasets/covid-19-historical-data-table/)"
   ]
  },
  {
   "cell_type": "code",
   "execution_count": 9,
   "metadata": {
    "execution": {
     "iopub.execute_input": "2020-12-26T22:16:00.060088Z",
     "iopub.status.busy": "2020-12-26T22:16:00.059573Z",
     "iopub.status.idle": "2020-12-26T22:16:00.062718Z",
     "shell.execute_reply": "2020-12-26T22:16:00.062242Z"
    },
    "jupyter": {
     "source_hidden": true
    },
    "papermill": {
     "duration": 0.017582,
     "end_time": "2020-12-26T22:16:00.062837",
     "exception": false,
     "start_time": "2020-12-26T22:16:00.045255",
     "status": "completed"
    },
    "tags": []
   },
   "outputs": [
    {
     "data": {
      "text/html": [
       "<style>\n",
       "div.input {\n",
       "    display:none;\n",
       "}\n",
       "</style>\n"
      ],
      "text/plain": [
       "<IPython.core.display.HTML object>"
      ]
     },
     "metadata": {},
     "output_type": "display_data"
    }
   ],
   "source": [
    "%%html\n",
    "<style>\n",
    "div.input {\n",
    "    display:none;\n",
    "}\n",
    "</style>"
   ]
  }
 ],
 "metadata": {
  "kernelspec": {
   "display_name": "Python 3",
   "language": "python",
   "name": "python3"
  },
  "language_info": {
   "codemirror_mode": {
    "name": "ipython",
    "version": 3
   },
   "file_extension": ".py",
   "mimetype": "text/x-python",
   "name": "python",
   "nbconvert_exporter": "python",
   "pygments_lexer": "ipython3",
   "version": "3.8.6"
  },
  "papermill": {
   "duration": 6.813317,
   "end_time": "2020-12-26T22:16:01.234979",
   "environment_variables": {},
   "exception": null,
   "input_path": "DunnCounty_COVID19.ipynb",
   "output_path": "DunnCounty_COVID19.ipynb",
   "parameters": {
    "Start": "True",
    "secretsPath": "/home/runner/work/_temp/secrets.json"
   },
   "start_time": "2020-12-26T22:15:54.421662",
   "version": "1.1.16"
  }
 },
 "nbformat": 4,
 "nbformat_minor": 2
}