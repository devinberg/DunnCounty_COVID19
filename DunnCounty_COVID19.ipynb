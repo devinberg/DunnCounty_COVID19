{
 "cells": [
  {
   "cell_type": "code",
   "execution_count": 1,
   "metadata": {
    "execution": {
     "iopub.execute_input": "2020-11-28T10:10:05.999833Z",
     "iopub.status.busy": "2020-11-28T10:10:05.999275Z",
     "iopub.status.idle": "2020-11-28T10:10:07.047852Z",
     "shell.execute_reply": "2020-11-28T10:10:07.047017Z"
    },
    "jupyter": {
     "source_hidden": true
    },
    "papermill": {
     "duration": 1.06709,
     "end_time": "2020-11-28T10:10:07.048162",
     "exception": false,
     "start_time": "2020-11-28T10:10:05.981072",
     "status": "completed"
    },
    "scrolled": true,
    "tags": [
     "hide-input"
    ]
   },
   "outputs": [],
   "source": [
    "import pandas as pd\n",
    "import matplotlib.pyplot as plt\n",
    "from matplotlib import dates\n",
    "from IPython.display import display, Markdown\n",
    "%matplotlib inline"
   ]
  },
  {
   "cell_type": "code",
   "execution_count": 2,
   "metadata": {
    "execution": {
     "iopub.execute_input": "2020-11-28T10:10:07.071817Z",
     "iopub.status.busy": "2020-11-28T10:10:07.071294Z",
     "iopub.status.idle": "2020-11-28T10:10:07.850000Z",
     "shell.execute_reply": "2020-11-28T10:10:07.849066Z"
    },
    "jupyter": {
     "source_hidden": true
    },
    "papermill": {
     "duration": 0.792797,
     "end_time": "2020-11-28T10:10:07.850290",
     "exception": false,
     "start_time": "2020-11-28T10:10:07.057493",
     "status": "completed"
    },
    "scrolled": true,
    "tags": [
     "hide-input"
    ]
   },
   "outputs": [],
   "source": [
    "# This is the data for all of Wisconsin.\n",
    "url = \"https://opendata.arcgis.com/datasets/5374188992374b318d3e2305216ee413_12.csv\"\n",
    "data = pd.read_csv(url, parse_dates=['DATE'], low_memory=False)"
   ]
  },
  {
   "cell_type": "code",
   "execution_count": 3,
   "metadata": {
    "execution": {
     "iopub.execute_input": "2020-11-28T10:10:07.872505Z",
     "iopub.status.busy": "2020-11-28T10:10:07.872051Z",
     "iopub.status.idle": "2020-11-28T10:10:07.880444Z",
     "shell.execute_reply": "2020-11-28T10:10:07.879930Z"
    },
    "jupyter": {
     "source_hidden": true
    },
    "papermill": {
     "duration": 0.020001,
     "end_time": "2020-11-28T10:10:07.880563",
     "exception": false,
     "start_time": "2020-11-28T10:10:07.860562",
     "status": "completed"
    },
    "scrolled": true,
    "tags": [
     "hide-input"
    ]
   },
   "outputs": [],
   "source": [
    "dc = data.groupby('NAME').get_group('Dunn').sort_values(by='DATE') # Select the data for Dunn County from the full data.\n",
    "PNi = dc.columns.get_loc(\"POS_NEW\")\n",
    "dc['7_DAY'] = dc.iloc[:,PNi].rolling(window=7).mean() # Calculates the rolling 7-day average of new cases.\n",
    "dc['14_DAY'] = dc.iloc[:,PNi].rolling(window=14).mean() # Calculates the rolling 14-day average of new cases."
   ]
  },
  {
   "cell_type": "code",
   "execution_count": 4,
   "metadata": {
    "execution": {
     "iopub.execute_input": "2020-11-28T10:10:07.898657Z",
     "iopub.status.busy": "2020-11-28T10:10:07.898057Z",
     "iopub.status.idle": "2020-11-28T10:10:07.901097Z",
     "shell.execute_reply": "2020-11-28T10:10:07.901568Z"
    },
    "jupyter": {
     "source_hidden": true
    },
    "papermill": {
     "duration": 0.014887,
     "end_time": "2020-11-28T10:10:07.901696",
     "exception": false,
     "start_time": "2020-11-28T10:10:07.886809",
     "status": "completed"
    },
    "scrolled": true,
    "tags": [
     "hide-input"
    ]
   },
   "outputs": [
    {
     "data": {
      "text/markdown": [
       "### Last updated: November 27, 2020"
      ],
      "text/plain": [
       "<IPython.core.display.Markdown object>"
      ]
     },
     "metadata": {},
     "output_type": "display_data"
    }
   ],
   "source": [
    "display(Markdown('### Last updated: ' + dc.iloc[-1]['DATE'].strftime(\"%B %d, %Y\")))"
   ]
  },
  {
   "cell_type": "code",
   "execution_count": 5,
   "metadata": {
    "execution": {
     "iopub.execute_input": "2020-11-28T10:10:07.918973Z",
     "iopub.status.busy": "2020-11-28T10:10:07.918545Z",
     "iopub.status.idle": "2020-11-28T10:10:07.923119Z",
     "shell.execute_reply": "2020-11-28T10:10:07.922733Z"
    },
    "jupyter": {
     "source_hidden": true
    },
    "papermill": {
     "duration": 0.015347,
     "end_time": "2020-11-28T10:10:07.923215",
     "exception": false,
     "start_time": "2020-11-28T10:10:07.907868",
     "status": "completed"
    },
    "tags": [
     "hide-input"
    ]
   },
   "outputs": [
    {
     "data": {
      "text/markdown": [
       "# Dunn County has 2720 total positive cases, with 0 new cases reported today."
      ],
      "text/plain": [
       "<IPython.core.display.Markdown object>"
      ]
     },
     "metadata": {},
     "output_type": "display_data"
    }
   ],
   "source": [
    "display(Markdown('# Dunn County has ' + str(dc.iloc[-1]['POSITIVE']) + ' total positive cases, with '+ str(int(dc.iloc[-1]['POS_NEW'])) + ' new cases reported today.'))"
   ]
  },
  {
   "cell_type": "code",
   "execution_count": 6,
   "metadata": {
    "execution": {
     "iopub.execute_input": "2020-11-28T10:10:07.939317Z",
     "iopub.status.busy": "2020-11-28T10:10:07.938850Z",
     "iopub.status.idle": "2020-11-28T10:10:08.137491Z",
     "shell.execute_reply": "2020-11-28T10:10:08.137124Z"
    },
    "jupyter": {
     "source_hidden": true
    },
    "papermill": {
     "duration": 0.20802,
     "end_time": "2020-11-28T10:10:08.137594",
     "exception": false,
     "start_time": "2020-11-28T10:10:07.929574",
     "status": "completed"
    },
    "scrolled": false,
    "tags": [
     "hide-input"
    ]
   },
   "outputs": [
    {
     "data": {
      "image/png": "[encoded data removed]",
      "text/plain": [
       "<Figure size 864x432 with 1 Axes>"
      ]
     },
     "metadata": {
      "needs_background": "light"
     },
     "output_type": "display_data"
    }
   ],
   "source": [
    "dc.plot(x='DATE',y='POSITIVE',color='red',grid='True',figsize=(12,6)).set_xlabel('Date');"
   ]
  },
  {
   "cell_type": "markdown",
   "metadata": {
    "papermill": {
     "duration": 0.007966,
     "end_time": "2020-11-28T10:10:08.152336",
     "exception": false,
     "start_time": "2020-11-28T10:10:08.144370",
     "status": "completed"
    },
    "tags": []
   },
   "source": [
    "## Figure 1: Cummulative number of positive cases."
   ]
  },
  {
   "cell_type": "code",
   "execution_count": 7,
   "metadata": {
    "execution": {
     "iopub.execute_input": "2020-11-28T10:10:08.171431Z",
     "iopub.status.busy": "2020-11-28T10:10:08.170661Z",
     "iopub.status.idle": "2020-11-28T10:10:08.360899Z",
     "shell.execute_reply": "2020-11-28T10:10:08.359836Z"
    },
    "jupyter": {
     "source_hidden": true
    },
    "papermill": {
     "duration": 0.201639,
     "end_time": "2020-11-28T10:10:08.361047",
     "exception": false,
     "start_time": "2020-11-28T10:10:08.159408",
     "status": "completed"
    },
    "scrolled": false,
    "tags": [
     "hide-input"
    ]
   },
   "outputs": [
    {
     "data": {
      "image/png": "[encoded data removed]",
      "text/plain": [
       "<Figure size 864x432 with 1 Axes>"
      ]
     },
     "metadata": {
      "needs_background": "light"
     },
     "output_type": "display_data"
    }
   ],
   "source": [
    "dc.plot(kind='line',x='DATE',y='7_DAY',color='blue',grid='True',figsize=(12,6)).set_xlabel('Date');"
   ]
  },
  {
   "cell_type": "markdown",
   "metadata": {
    "papermill": {
     "duration": 0.007641,
     "end_time": "2020-11-28T10:10:08.376838",
     "exception": false,
     "start_time": "2020-11-28T10:10:08.369197",
     "status": "completed"
    },
    "tags": []
   },
   "source": [
    "## Figure 2: Rolling 7-day average of daily new cases."
   ]
  },
  {
   "cell_type": "code",
   "execution_count": 8,
   "metadata": {
    "execution": {
     "iopub.execute_input": "2020-11-28T10:10:08.419845Z",
     "iopub.status.busy": "2020-11-28T10:10:08.398128Z",
     "iopub.status.idle": "2020-11-28T10:10:08.601845Z",
     "shell.execute_reply": "2020-11-28T10:10:08.602486Z"
    },
    "jupyter": {
     "source_hidden": true
    },
    "papermill": {
     "duration": 0.217404,
     "end_time": "2020-11-28T10:10:08.602703",
     "exception": false,
     "start_time": "2020-11-28T10:10:08.385299",
     "status": "completed"
    },
    "tags": []
   },
   "outputs": [
    {
     "data": {
      "image/png": "[encoded data removed]",
      "text/plain": [
       "<Figure size 864x432 with 1 Axes>"
      ]
     },
     "metadata": {
      "needs_background": "light"
     },
     "output_type": "display_data"
    }
   ],
   "source": [
    "dc.plot(kind='line',x='DATE',y='14_DAY',color='green',grid='True',figsize=(12,6)).set_xlabel('Date');"
   ]
  },
  {
   "cell_type": "markdown",
   "metadata": {
    "papermill": {
     "duration": 0.01077,
     "end_time": "2020-11-28T10:10:08.628669",
     "exception": false,
     "start_time": "2020-11-28T10:10:08.617899",
     "status": "completed"
    },
    "tags": []
   },
   "source": [
    "## Figure 3: Rolling 14-day average of daily new cases."
   ]
  },
  {
   "cell_type": "markdown",
   "metadata": {
    "papermill": {
     "duration": 0.011128,
     "end_time": "2020-11-28T10:10:08.651696",
     "exception": false,
     "start_time": "2020-11-28T10:10:08.640568",
     "status": "completed"
    },
    "tags": []
   },
   "source": [
    "Data source: [Wisconsin Department of Health Services](https://data.dhsgis.wi.gov/datasets/covid-19-historical-data-table/)"
   ]
  },
  {
   "cell_type": "code",
   "execution_count": 9,
   "metadata": {
    "execution": {
     "iopub.execute_input": "2020-11-28T10:10:08.678600Z",
     "iopub.status.busy": "2020-11-28T10:10:08.678007Z",
     "iopub.status.idle": "2020-11-28T10:10:08.681063Z",
     "shell.execute_reply": "2020-11-28T10:10:08.681531Z"
    },
    "jupyter": {
     "source_hidden": true
    },
    "papermill": {
     "duration": 0.019112,
     "end_time": "2020-11-28T10:10:08.681686",
     "exception": false,
     "start_time": "2020-11-28T10:10:08.662574",
     "status": "completed"
    },
    "tags": []
   },
   "outputs": [
    {
     "data": {
      "text/html": [
       "<style>\n",
       "div.input {\n",
       "    display:none;\n",
       "}\n",
       "</style>\n"
      ],
      "text/plain": [
       "<IPython.core.display.HTML object>"
      ]
     },
     "metadata": {},
     "output_type": "display_data"
    }
   ],
   "source": [
    "%%html\n",
    "<style>\n",
    "div.input {\n",
    "    display:none;\n",
    "}\n",
    "</style>"
   ]
  }
 ],
 "metadata": {
  "kernelspec": {
   "display_name": "Python 3",
   "language": "python",
   "name": "python3"
  },
  "language_info": {
   "codemirror_mode": {
    "name": "ipython",
    "version": 3
   },
   "file_extension": ".py",
   "mimetype": "text/x-python",
   "name": "python",
   "nbconvert_exporter": "python",
   "pygments_lexer": "ipython3",
   "version": "3.8.6"
  },
  "papermill": {
   "duration": 4.418355,
   "end_time": "2020-11-28T10:10:09.001050",
   "environment_variables": {},
   "exception": null,
   "input_path": "DunnCounty_COVID19.ipynb",
   "output_path": "DunnCounty_COVID19.ipynb",
   "parameters": {
    "Start": "True",
    "secretsPath": "/home/runner/work/_temp/secrets.json"
   },
   "start_time": "2020-11-28T10:10:04.582695",
   "version": "1.1.16"
  }
 },
 "nbformat": 4,
 "nbformat_minor": 2
}