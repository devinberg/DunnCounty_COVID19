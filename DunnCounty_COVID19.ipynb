{
 "cells": [
  {
   "cell_type": "code",
   "execution_count": 1,
   "id": "solar-understanding",
   "metadata": {
    "execution": {
     "iopub.execute_input": "2021-06-01T10:55:52.852484Z",
     "iopub.status.busy": "2021-06-01T10:55:52.851332Z",
     "iopub.status.idle": "2021-06-01T10:55:53.677118Z",
     "shell.execute_reply": "2021-06-01T10:55:53.676119Z"
    },
    "jupyter": {
     "source_hidden": true
    },
    "papermill": {
     "duration": 0.842274,
     "end_time": "2021-06-01T10:55:53.677352",
     "exception": false,
     "start_time": "2021-06-01T10:55:52.835078",
     "status": "completed"
    },
    "scrolled": true,
    "tags": [
     "hide-input"
    ]
   },
   "outputs": [],
   "source": [
    "import pandas as pd\n",
    "import matplotlib.pyplot as plt\n",
    "from matplotlib import dates\n",
    "from IPython.display import display, Markdown\n",
    "%matplotlib inline"
   ]
  },
  {
   "cell_type": "code",
   "execution_count": 2,
   "id": "purple-playlist",
   "metadata": {
    "execution": {
     "iopub.execute_input": "2021-06-01T10:55:53.699478Z",
     "iopub.status.busy": "2021-06-01T10:55:53.698989Z",
     "iopub.status.idle": "2021-06-01T10:55:54.411268Z",
     "shell.execute_reply": "2021-06-01T10:55:54.410408Z"
    },
    "jupyter": {
     "source_hidden": true
    },
    "papermill": {
     "duration": 0.724731,
     "end_time": "2021-06-01T10:55:54.411464",
     "exception": false,
     "start_time": "2021-06-01T10:55:53.686733",
     "status": "completed"
    },
    "scrolled": true,
    "tags": [
     "hide-input"
    ]
   },
   "outputs": [],
   "source": [
    "# This is the data for all of Wisconsin.\n",
    "url = \"https://opendata.arcgis.com/datasets/80ff9d4897db4d7692f0f4ad28447cab_12.csv\"\n",
    "data = pd.read_csv(url, parse_dates=['DATE'], low_memory=False)"
   ]
  },
  {
   "cell_type": "code",
   "execution_count": 3,
   "id": "proprietary-klein",
   "metadata": {
    "execution": {
     "iopub.execute_input": "2021-06-01T10:55:54.435805Z",
     "iopub.status.busy": "2021-06-01T10:55:54.435370Z",
     "iopub.status.idle": "2021-06-01T10:55:54.443414Z",
     "shell.execute_reply": "2021-06-01T10:55:54.442987Z"
    },
    "jupyter": {
     "source_hidden": true
    },
    "papermill": {
     "duration": 0.020851,
     "end_time": "2021-06-01T10:55:54.443506",
     "exception": false,
     "start_time": "2021-06-01T10:55:54.422655",
     "status": "completed"
    },
    "scrolled": true,
    "tags": [
     "hide-input"
    ]
   },
   "outputs": [],
   "source": [
    "dc = data.groupby('NAME').get_group('Dunn').sort_values(by='DATE') # Select the data for Dunn County from the full data.\n",
    "PNi = dc.columns.get_loc(\"POS_NEW\")\n",
    "dc['7_DAY'] = dc.iloc[:,PNi].rolling(window=7).mean() # Calculates the rolling 7-day average of new cases.\n",
    "dc['14_DAY'] = dc.iloc[:,PNi].rolling(window=14).mean() # Calculates the rolling 14-day average of new cases."
   ]
  },
  {
   "cell_type": "code",
   "execution_count": 4,
   "id": "steady-supervision",
   "metadata": {
    "execution": {
     "iopub.execute_input": "2021-06-01T10:55:54.464048Z",
     "iopub.status.busy": "2021-06-01T10:55:54.463528Z",
     "iopub.status.idle": "2021-06-01T10:55:54.466505Z",
     "shell.execute_reply": "2021-06-01T10:55:54.466122Z"
    },
    "jupyter": {
     "source_hidden": true
    },
    "papermill": {
     "duration": 0.015399,
     "end_time": "2021-06-01T10:55:54.466602",
     "exception": false,
     "start_time": "2021-06-01T10:55:54.451203",
     "status": "completed"
    },
    "scrolled": true,
    "tags": [
     "hide-input"
    ]
   },
   "outputs": [
    {
     "data": {
      "text/markdown": [
       "### Last updated: May 31, 2021"
      ],
      "text/plain": [
       "<IPython.core.display.Markdown object>"
      ]
     },
     "metadata": {},
     "output_type": "display_data"
    }
   ],
   "source": [
    "display(Markdown('### Last updated: ' + dc.iloc[-1]['DATE'].strftime(\"%B %d, %Y\")))"
   ]
  },
  {
   "cell_type": "code",
   "execution_count": 5,
   "id": "lonely-pitch",
   "metadata": {
    "execution": {
     "iopub.execute_input": "2021-06-01T10:55:54.485638Z",
     "iopub.status.busy": "2021-06-01T10:55:54.485119Z",
     "iopub.status.idle": "2021-06-01T10:55:54.487772Z",
     "shell.execute_reply": "2021-06-01T10:55:54.487399Z"
    },
    "jupyter": {
     "source_hidden": true
    },
    "papermill": {
     "duration": 0.014163,
     "end_time": "2021-06-01T10:55:54.487869",
     "exception": false,
     "start_time": "2021-06-01T10:55:54.473706",
     "status": "completed"
    },
    "tags": [
     "hide-input"
    ]
   },
   "outputs": [
    {
     "data": {
      "text/markdown": [
       "# Dunn County has 4684 total positive cases, with 0 new cases reported today."
      ],
      "text/plain": [
       "<IPython.core.display.Markdown object>"
      ]
     },
     "metadata": {},
     "output_type": "display_data"
    }
   ],
   "source": [
    "display(Markdown('# Dunn County has ' + str(dc.iloc[-1]['POSITIVE']) + ' total positive cases, with '+ str(int(dc.iloc[-1]['POS_NEW'])) + ' new cases reported today.'))"
   ]
  },
  {
   "cell_type": "code",
   "execution_count": 6,
   "id": "compound-nightmare",
   "metadata": {
    "execution": {
     "iopub.execute_input": "2021-06-01T10:55:54.508462Z",
     "iopub.status.busy": "2021-06-01T10:55:54.508002Z",
     "iopub.status.idle": "2021-06-01T10:55:54.760393Z",
     "shell.execute_reply": "2021-06-01T10:55:54.761192Z"
    },
    "jupyter": {
     "source_hidden": true
    },
    "papermill": {
     "duration": 0.264966,
     "end_time": "2021-06-01T10:55:54.761432",
     "exception": false,
     "start_time": "2021-06-01T10:55:54.496466",
     "status": "completed"
    },
    "scrolled": false,
    "tags": [
     "hide-input"
    ]
   },
   "outputs": [
    {
     "data": {
      "image/png": "[encoded data removed]",
      "text/plain": [
       "<Figure size 864x432 with 1 Axes>"
      ]
     },
     "metadata": {
      "needs_background": "light"
     },
     "output_type": "display_data"
    }
   ],
   "source": [
    "dc.plot(x='DATE',y='POSITIVE',color='red',grid='True',figsize=(12,6)).set_xlabel('Date');"
   ]
  },
  {
   "cell_type": "markdown",
   "id": "coupled-literacy",
   "metadata": {
    "papermill": {
     "duration": 0.010291,
     "end_time": "2021-06-01T10:55:54.782114",
     "exception": false,
     "start_time": "2021-06-01T10:55:54.771823",
     "status": "completed"
    },
    "tags": []
   },
   "source": [
    "## Figure 1: Cummulative number of positive cases."
   ]
  },
  {
   "cell_type": "code",
   "execution_count": 7,
   "id": "surrounded-reserve",
   "metadata": {
    "execution": {
     "iopub.execute_input": "2021-06-01T10:55:54.809271Z",
     "iopub.status.busy": "2021-06-01T10:55:54.805983Z",
     "iopub.status.idle": "2021-06-01T10:55:55.006798Z",
     "shell.execute_reply": "2021-06-01T10:55:55.006362Z"
    },
    "jupyter": {
     "source_hidden": true
    },
    "papermill": {
     "duration": 0.215399,
     "end_time": "2021-06-01T10:55:55.006915",
     "exception": false,
     "start_time": "2021-06-01T10:55:54.791516",
     "status": "completed"
    },
    "scrolled": false,
    "tags": [
     "hide-input"
    ]
   },
   "outputs": [
    {
     "data": {
      "image/png": "[encoded data removed]",
      "text/plain": [
       "<Figure size 864x432 with 1 Axes>"
      ]
     },
     "metadata": {
      "needs_background": "light"
     },
     "output_type": "display_data"
    }
   ],
   "source": [
    "dc.plot(kind='line',x='DATE',y='7_DAY',color='blue',grid='True',figsize=(12,6)).set_xlabel('Date');"
   ]
  },
  {
   "cell_type": "markdown",
   "id": "professional-savannah",
   "metadata": {
    "papermill": {
     "duration": 0.011278,
     "end_time": "2021-06-01T10:55:55.028590",
     "exception": false,
     "start_time": "2021-06-01T10:55:55.017312",
     "status": "completed"
    },
    "tags": []
   },
   "source": [
    "## Figure 2: Rolling 7-day average of daily new cases."
   ]
  },
  {
   "cell_type": "code",
   "execution_count": 8,
   "id": "stretch-investor",
   "metadata": {
    "execution": {
     "iopub.execute_input": "2021-06-01T10:55:55.069933Z",
     "iopub.status.busy": "2021-06-01T10:55:55.053193Z",
     "iopub.status.idle": "2021-06-01T10:55:55.259072Z",
     "shell.execute_reply": "2021-06-01T10:55:55.258619Z"
    },
    "jupyter": {
     "source_hidden": true
    },
    "papermill": {
     "duration": 0.220747,
     "end_time": "2021-06-01T10:55:55.259190",
     "exception": false,
     "start_time": "2021-06-01T10:55:55.038443",
     "status": "completed"
    },
    "tags": []
   },
   "outputs": [
    {
     "data": {
      "image/png": "[encoded data removed]",
      "text/plain": [
       "<Figure size 864x432 with 1 Axes>"
      ]
     },
     "metadata": {
      "needs_background": "light"
     },
     "output_type": "display_data"
    }
   ],
   "source": [
    "dc.plot(kind='line',x='DATE',y='14_DAY',color='green',grid='True',figsize=(12,6)).set_xlabel('Date');"
   ]
  },
  {
   "cell_type": "markdown",
   "id": "prerequisite-species",
   "metadata": {
    "papermill": {
     "duration": 0.010845,
     "end_time": "2021-06-01T10:55:55.282284",
     "exception": false,
     "start_time": "2021-06-01T10:55:55.271439",
     "status": "completed"
    },
    "tags": []
   },
   "source": [
    "## Figure 3: Rolling 14-day average of daily new cases."
   ]
  },
  {
   "cell_type": "markdown",
   "id": "palestinian-guard",
   "metadata": {
    "papermill": {
     "duration": 0.010781,
     "end_time": "2021-06-01T10:55:55.303736",
     "exception": false,
     "start_time": "2021-06-01T10:55:55.292955",
     "status": "completed"
    },
    "tags": []
   },
   "source": [
    "Data source: [Wisconsin Department of Health Services](https://data.dhsgis.wi.gov/datasets/covid-19-historical-data-by-county)"
   ]
  },
  {
   "cell_type": "code",
   "execution_count": 9,
   "id": "proof-medicare",
   "metadata": {
    "execution": {
     "iopub.execute_input": "2021-06-01T10:55:55.329850Z",
     "iopub.status.busy": "2021-06-01T10:55:55.329303Z",
     "iopub.status.idle": "2021-06-01T10:55:55.332525Z",
     "shell.execute_reply": "2021-06-01T10:55:55.332851Z"
    },
    "jupyter": {
     "source_hidden": true
    },
    "papermill": {
     "duration": 0.018466,
     "end_time": "2021-06-01T10:55:55.332986",
     "exception": false,
     "start_time": "2021-06-01T10:55:55.314520",
     "status": "completed"
    },
    "tags": []
   },
   "outputs": [
    {
     "data": {
      "text/html": [
       "<style>\n",
       "div.input {\n",
       "    display:none;\n",
       "}\n",
       "</style>\n"
      ],
      "text/plain": [
       "<IPython.core.display.HTML object>"
      ]
     },
     "metadata": {},
     "output_type": "display_data"
    }
   ],
   "source": [
    "%%html\n",
    "<style>\n",
    "div.input {\n",
    "    display:none;\n",
    "}\n",
    "</style>"
   ]
  }
 ],
 "metadata": {
  "kernelspec": {
   "display_name": "Python 3",
   "language": "python",
   "name": "python3"
  },
  "language_info": {
   "codemirror_mode": {
    "name": "ipython",
    "version": 3
   },
   "file_extension": ".py",
   "mimetype": "text/x-python",
   "name": "python",
   "nbconvert_exporter": "python",
   "pygments_lexer": "ipython3",
   "version": "3.8.10"
  },
  "papermill": {
   "duration": 3.882947,
   "end_time": "2021-06-01T10:55:55.650948",
   "environment_variables": {},
   "exception": null,
   "input_path": "DunnCounty_COVID19.ipynb",
   "output_path": "DunnCounty_COVID19.ipynb",
   "parameters": {
    "Start": "True",
    "secretsPath": "/home/runner/work/_temp/secrets.json"
   },
   "start_time": "2021-06-01T10:55:51.768001",
   "version": "1.1.16"
  }
 },
 "nbformat": 4,
 "nbformat_minor": 5
}