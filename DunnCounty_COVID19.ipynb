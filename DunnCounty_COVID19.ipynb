{
 "cells": [
  {
   "cell_type": "code",
   "execution_count": 1,
   "metadata": {
    "execution": {
     "iopub.execute_input": "2020-11-18T10:10:03.325033Z",
     "iopub.status.busy": "2020-11-18T10:10:03.324425Z",
     "iopub.status.idle": "2020-11-18T10:10:06.682128Z",
     "shell.execute_reply": "2020-11-18T10:10:06.680775Z"
    },
    "jupyter": {
     "source_hidden": true
    },
    "papermill": {
     "duration": 3.371727,
     "end_time": "2020-11-18T10:10:06.682351",
     "exception": false,
     "start_time": "2020-11-18T10:10:03.310624",
     "status": "completed"
    },
    "scrolled": true,
    "tags": [
     "hide-input"
    ]
   },
   "outputs": [],
   "source": [
    "import pandas as pd\n",
    "import matplotlib.pyplot as plt\n",
    "from matplotlib import dates\n",
    "from IPython.display import display, Markdown\n",
    "%matplotlib inline"
   ]
  },
  {
   "cell_type": "code",
   "execution_count": 2,
   "metadata": {
    "execution": {
     "iopub.execute_input": "2020-11-18T10:10:06.704658Z",
     "iopub.status.busy": "2020-11-18T10:10:06.704055Z",
     "iopub.status.idle": "2020-11-18T10:10:07.836302Z",
     "shell.execute_reply": "2020-11-18T10:10:07.835552Z"
    },
    "jupyter": {
     "source_hidden": true
    },
    "papermill": {
     "duration": 1.146612,
     "end_time": "2020-11-18T10:10:07.836453",
     "exception": false,
     "start_time": "2020-11-18T10:10:06.689841",
     "status": "completed"
    },
    "scrolled": true,
    "tags": [
     "hide-input"
    ]
   },
   "outputs": [],
   "source": [
    "# This is the data for all of Wisconsin.\n",
    "url = \"https://opendata.arcgis.com/datasets/5374188992374b318d3e2305216ee413_12.csv\"\n",
    "data = pd.read_csv(url, parse_dates=['DATE'], low_memory=False)"
   ]
  },
  {
   "cell_type": "code",
   "execution_count": 3,
   "metadata": {
    "execution": {
     "iopub.execute_input": "2020-11-18T10:10:07.857685Z",
     "iopub.status.busy": "2020-11-18T10:10:07.856541Z",
     "iopub.status.idle": "2020-11-18T10:10:07.865722Z",
     "shell.execute_reply": "2020-11-18T10:10:07.865262Z"
    },
    "jupyter": {
     "source_hidden": true
    },
    "papermill": {
     "duration": 0.021683,
     "end_time": "2020-11-18T10:10:07.865863",
     "exception": false,
     "start_time": "2020-11-18T10:10:07.844180",
     "status": "completed"
    },
    "scrolled": true,
    "tags": [
     "hide-input"
    ]
   },
   "outputs": [],
   "source": [
    "dc = data.groupby('NAME').get_group('Dunn').sort_values(by='DATE') # Select the data for Dunn County from the full data.\n",
    "PNi = dc.columns.get_loc(\"POS_NEW\")\n",
    "dc['7_DAY'] = dc.iloc[:,PNi].rolling(window=7).mean() # Calculates the rolling 7-day average of new cases.\n",
    "dc['14_DAY'] = dc.iloc[:,PNi].rolling(window=14).mean() # Calculates the rolling 14-day average of new cases."
   ]
  },
  {
   "cell_type": "code",
   "execution_count": 4,
   "metadata": {
    "execution": {
     "iopub.execute_input": "2020-11-18T10:10:07.891603Z",
     "iopub.status.busy": "2020-11-18T10:10:07.891002Z",
     "iopub.status.idle": "2020-11-18T10:10:07.894576Z",
     "shell.execute_reply": "2020-11-18T10:10:07.895021Z"
    },
    "jupyter": {
     "source_hidden": true
    },
    "papermill": {
     "duration": 0.021978,
     "end_time": "2020-11-18T10:10:07.895185",
     "exception": false,
     "start_time": "2020-11-18T10:10:07.873207",
     "status": "completed"
    },
    "scrolled": true,
    "tags": [
     "hide-input"
    ]
   },
   "outputs": [
    {
     "data": {
      "text/markdown": [
       "### Last updated: November 17, 2020"
      ],
      "text/plain": [
       "<IPython.core.display.Markdown object>"
      ]
     },
     "metadata": {},
     "output_type": "display_data"
    }
   ],
   "source": [
    "display(Markdown('### Last updated: ' + dc.iloc[-1]['DATE'].strftime(\"%B %d, %Y\")))"
   ]
  },
  {
   "cell_type": "code",
   "execution_count": 5,
   "metadata": {
    "execution": {
     "iopub.execute_input": "2020-11-18T10:10:07.916601Z",
     "iopub.status.busy": "2020-11-18T10:10:07.916032Z",
     "iopub.status.idle": "2020-11-18T10:10:07.920433Z",
     "shell.execute_reply": "2020-11-18T10:10:07.920877Z"
    },
    "jupyter": {
     "source_hidden": true
    },
    "papermill": {
     "duration": 0.018204,
     "end_time": "2020-11-18T10:10:07.921034",
     "exception": false,
     "start_time": "2020-11-18T10:10:07.902830",
     "status": "completed"
    },
    "tags": [
     "hide-input"
    ]
   },
   "outputs": [
    {
     "data": {
      "text/markdown": [
       "# Dunn County has 2116 total positive cases, with 53 new cases reported today."
      ],
      "text/plain": [
       "<IPython.core.display.Markdown object>"
      ]
     },
     "metadata": {},
     "output_type": "display_data"
    }
   ],
   "source": [
    "display(Markdown('# Dunn County has ' + str(dc.iloc[-1]['POSITIVE']) + ' total positive cases, with '+ str(int(dc.iloc[-1]['POS_NEW'])) + ' new cases reported today.'))"
   ]
  },
  {
   "cell_type": "code",
   "execution_count": 6,
   "metadata": {
    "execution": {
     "iopub.execute_input": "2020-11-18T10:10:07.940904Z",
     "iopub.status.busy": "2020-11-18T10:10:07.940368Z",
     "iopub.status.idle": "2020-11-18T10:10:08.170823Z",
     "shell.execute_reply": "2020-11-18T10:10:08.171599Z"
    },
    "jupyter": {
     "source_hidden": true
    },
    "papermill": {
     "duration": 0.242918,
     "end_time": "2020-11-18T10:10:08.171864",
     "exception": false,
     "start_time": "2020-11-18T10:10:07.928946",
     "status": "completed"
    },
    "scrolled": false,
    "tags": [
     "hide-input"
    ]
   },
   "outputs": [
    {
     "data": {
      "image/png": "[encoded data removed]",
      "text/plain": [
       "<Figure size 864x432 with 1 Axes>"
      ]
     },
     "metadata": {
      "needs_background": "light"
     },
     "output_type": "display_data"
    }
   ],
   "source": [
    "dc.plot(x='DATE',y='POSITIVE',color='red',grid='True',figsize=(12,6)).set_xlabel('Date');"
   ]
  },
  {
   "cell_type": "markdown",
   "metadata": {
    "papermill": {
     "duration": 0.010834,
     "end_time": "2020-11-18T10:10:08.200472",
     "exception": false,
     "start_time": "2020-11-18T10:10:08.189638",
     "status": "completed"
    },
    "tags": []
   },
   "source": [
    "## Figure 1: Cummulative number of positive cases."
   ]
  },
  {
   "cell_type": "code",
   "execution_count": 7,
   "metadata": {
    "execution": {
     "iopub.execute_input": "2020-11-18T10:10:08.224586Z",
     "iopub.status.busy": "2020-11-18T10:10:08.223993Z",
     "iopub.status.idle": "2020-11-18T10:10:08.437574Z",
     "shell.execute_reply": "2020-11-18T10:10:08.438001Z"
    },
    "jupyter": {
     "source_hidden": true
    },
    "papermill": {
     "duration": 0.228902,
     "end_time": "2020-11-18T10:10:08.438179",
     "exception": false,
     "start_time": "2020-11-18T10:10:08.209277",
     "status": "completed"
    },
    "scrolled": false,
    "tags": [
     "hide-input"
    ]
   },
   "outputs": [
    {
     "data": {
      "image/png": "[encoded data removed]",
      "text/plain": [
       "<Figure size 864x432 with 1 Axes>"
      ]
     },
     "metadata": {
      "needs_background": "light"
     },
     "output_type": "display_data"
    }
   ],
   "source": [
    "dc.plot(kind='line',x='DATE',y='7_DAY',color='blue',grid='True',figsize=(12,6)).set_xlabel('Date');"
   ]
  },
  {
   "cell_type": "markdown",
   "metadata": {
    "papermill": {
     "duration": 0.009762,
     "end_time": "2020-11-18T10:10:08.457886",
     "exception": false,
     "start_time": "2020-11-18T10:10:08.448124",
     "status": "completed"
    },
    "tags": []
   },
   "source": [
    "## Figure 2: Rolling 7-day average of daily new cases."
   ]
  },
  {
   "cell_type": "code",
   "execution_count": 8,
   "metadata": {
    "execution": {
     "iopub.execute_input": "2020-11-18T10:10:08.481924Z",
     "iopub.status.busy": "2020-11-18T10:10:08.481105Z",
     "iopub.status.idle": "2020-11-18T10:10:08.697023Z",
     "shell.execute_reply": "2020-11-18T10:10:08.697811Z"
    },
    "jupyter": {
     "source_hidden": true
    },
    "papermill": {
     "duration": 0.230742,
     "end_time": "2020-11-18T10:10:08.698072",
     "exception": false,
     "start_time": "2020-11-18T10:10:08.467330",
     "status": "completed"
    },
    "tags": []
   },
   "outputs": [
    {
     "data": {
      "image/png": "[encoded data removed]",
      "text/plain": [
       "<Figure size 864x432 with 1 Axes>"
      ]
     },
     "metadata": {
      "needs_background": "light"
     },
     "output_type": "display_data"
    }
   ],
   "source": [
    "dc.plot(kind='line',x='DATE',y='14_DAY',color='green',grid='True',figsize=(12,6)).set_xlabel('Date');"
   ]
  },
  {
   "cell_type": "markdown",
   "metadata": {
    "papermill": {
     "duration": 0.011057,
     "end_time": "2020-11-18T10:10:08.720978",
     "exception": false,
     "start_time": "2020-11-18T10:10:08.709921",
     "status": "completed"
    },
    "tags": []
   },
   "source": [
    "## Figure 3: Rolling 14-day average of daily new cases."
   ]
  },
  {
   "cell_type": "markdown",
   "metadata": {
    "papermill": {
     "duration": 0.010603,
     "end_time": "2020-11-18T10:10:08.742553",
     "exception": false,
     "start_time": "2020-11-18T10:10:08.731950",
     "status": "completed"
    },
    "tags": []
   },
   "source": [
    "Data source: [Wisconsin Department of Health Services](https://data.dhsgis.wi.gov/datasets/covid-19-historical-data-table/)"
   ]
  },
  {
   "cell_type": "code",
   "execution_count": 9,
   "metadata": {
    "execution": {
     "iopub.execute_input": "2020-11-18T10:10:08.771204Z",
     "iopub.status.busy": "2020-11-18T10:10:08.770621Z",
     "iopub.status.idle": "2020-11-18T10:10:08.775602Z",
     "shell.execute_reply": "2020-11-18T10:10:08.775111Z"
    },
    "jupyter": {
     "source_hidden": true
    },
    "papermill": {
     "duration": 0.022671,
     "end_time": "2020-11-18T10:10:08.775730",
     "exception": false,
     "start_time": "2020-11-18T10:10:08.753059",
     "status": "completed"
    },
    "tags": []
   },
   "outputs": [
    {
     "data": {
      "text/html": [
       "<style>\n",
       "div.input {\n",
       "    display:none;\n",
       "}\n",
       "</style>\n"
      ],
      "text/plain": [
       "<IPython.core.display.HTML object>"
      ]
     },
     "metadata": {},
     "output_type": "display_data"
    }
   ],
   "source": [
    "%%html\n",
    "<style>\n",
    "div.input {\n",
    "    display:none;\n",
    "}\n",
    "</style>"
   ]
  }
 ],
 "metadata": {
  "kernelspec": {
   "display_name": "Python 3",
   "language": "python",
   "name": "python3"
  },
  "language_info": {
   "codemirror_mode": {
    "name": "ipython",
    "version": 3
   },
   "file_extension": ".py",
   "mimetype": "text/x-python",
   "name": "python",
   "nbconvert_exporter": "python",
   "pygments_lexer": "ipython3",
   "version": "3.8.6"
  },
  "papermill": {
   "duration": 7.883224,
   "end_time": "2020-11-18T10:10:09.193985",
   "environment_variables": {},
   "exception": null,
   "input_path": "DunnCounty_COVID19.ipynb",
   "output_path": "DunnCounty_COVID19.ipynb",
   "parameters": {
    "Start": "True",
    "secretsPath": "/home/runner/work/_temp/secrets.json"
   },
   "start_time": "2020-11-18T10:10:01.310761",
   "version": "1.1.16"
  }
 },
 "nbformat": 4,
 "nbformat_minor": 2
}