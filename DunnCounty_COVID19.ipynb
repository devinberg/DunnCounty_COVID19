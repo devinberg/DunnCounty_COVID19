{
 "cells": [
  {
   "cell_type": "code",
   "execution_count": 1,
   "metadata": {
    "execution": {
     "iopub.execute_input": "2020-11-21T22:10:37.259488Z",
     "iopub.status.busy": "2020-11-21T22:10:37.258929Z",
     "iopub.status.idle": "2020-11-21T22:10:40.515971Z",
     "shell.execute_reply": "2020-11-21T22:10:40.514981Z"
    },
    "jupyter": {
     "source_hidden": true
    },
    "papermill": {
     "duration": 3.274758,
     "end_time": "2020-11-21T22:10:40.516311",
     "exception": false,
     "start_time": "2020-11-21T22:10:37.241553",
     "status": "completed"
    },
    "scrolled": true,
    "tags": [
     "hide-input"
    ]
   },
   "outputs": [],
   "source": [
    "import pandas as pd\n",
    "import matplotlib.pyplot as plt\n",
    "from matplotlib import dates\n",
    "from IPython.display import display, Markdown\n",
    "%matplotlib inline"
   ]
  },
  {
   "cell_type": "code",
   "execution_count": 2,
   "metadata": {
    "execution": {
     "iopub.execute_input": "2020-11-21T22:10:40.540675Z",
     "iopub.status.busy": "2020-11-21T22:10:40.540095Z",
     "iopub.status.idle": "2020-11-21T22:10:41.118863Z",
     "shell.execute_reply": "2020-11-21T22:10:41.119385Z"
    },
    "jupyter": {
     "source_hidden": true
    },
    "papermill": {
     "duration": 0.593176,
     "end_time": "2020-11-21T22:10:41.119567",
     "exception": false,
     "start_time": "2020-11-21T22:10:40.526391",
     "status": "completed"
    },
    "scrolled": true,
    "tags": [
     "hide-input"
    ]
   },
   "outputs": [],
   "source": [
    "# This is the data for all of Wisconsin.\n",
    "url = \"https://opendata.arcgis.com/datasets/5374188992374b318d3e2305216ee413_12.csv\"\n",
    "data = pd.read_csv(url, parse_dates=['DATE'], low_memory=False)"
   ]
  },
  {
   "cell_type": "code",
   "execution_count": 3,
   "metadata": {
    "execution": {
     "iopub.execute_input": "2020-11-21T22:10:41.140056Z",
     "iopub.status.busy": "2020-11-21T22:10:41.139507Z",
     "iopub.status.idle": "2020-11-21T22:10:41.148923Z",
     "shell.execute_reply": "2020-11-21T22:10:41.148433Z"
    },
    "jupyter": {
     "source_hidden": true
    },
    "papermill": {
     "duration": 0.022202,
     "end_time": "2020-11-21T22:10:41.149040",
     "exception": false,
     "start_time": "2020-11-21T22:10:41.126838",
     "status": "completed"
    },
    "scrolled": true,
    "tags": [
     "hide-input"
    ]
   },
   "outputs": [],
   "source": [
    "dc = data.groupby('NAME').get_group('Dunn').sort_values(by='DATE') # Select the data for Dunn County from the full data.\n",
    "PNi = dc.columns.get_loc(\"POS_NEW\")\n",
    "dc['7_DAY'] = dc.iloc[:,PNi].rolling(window=7).mean() # Calculates the rolling 7-day average of new cases.\n",
    "dc['14_DAY'] = dc.iloc[:,PNi].rolling(window=14).mean() # Calculates the rolling 14-day average of new cases."
   ]
  },
  {
   "cell_type": "code",
   "execution_count": 4,
   "metadata": {
    "execution": {
     "iopub.execute_input": "2020-11-21T22:10:41.168469Z",
     "iopub.status.busy": "2020-11-21T22:10:41.167932Z",
     "iopub.status.idle": "2020-11-21T22:10:41.170664Z",
     "shell.execute_reply": "2020-11-21T22:10:41.171096Z"
    },
    "jupyter": {
     "source_hidden": true
    },
    "papermill": {
     "duration": 0.015407,
     "end_time": "2020-11-21T22:10:41.171228",
     "exception": false,
     "start_time": "2020-11-21T22:10:41.155821",
     "status": "completed"
    },
    "scrolled": true,
    "tags": [
     "hide-input"
    ]
   },
   "outputs": [
    {
     "data": {
      "text/markdown": [
       "### Last updated: November 21, 2020"
      ],
      "text/plain": [
       "<IPython.core.display.Markdown object>"
      ]
     },
     "metadata": {},
     "output_type": "display_data"
    }
   ],
   "source": [
    "display(Markdown('### Last updated: ' + dc.iloc[-1]['DATE'].strftime(\"%B %d, %Y\")))"
   ]
  },
  {
   "cell_type": "code",
   "execution_count": 5,
   "metadata": {
    "execution": {
     "iopub.execute_input": "2020-11-21T22:10:41.189832Z",
     "iopub.status.busy": "2020-11-21T22:10:41.189299Z",
     "iopub.status.idle": "2020-11-21T22:10:41.192415Z",
     "shell.execute_reply": "2020-11-21T22:10:41.191929Z"
    },
    "jupyter": {
     "source_hidden": true
    },
    "papermill": {
     "duration": 0.014123,
     "end_time": "2020-11-21T22:10:41.192532",
     "exception": false,
     "start_time": "2020-11-21T22:10:41.178409",
     "status": "completed"
    },
    "tags": [
     "hide-input"
    ]
   },
   "outputs": [
    {
     "data": {
      "text/markdown": [
       "# Dunn County has 2304 total positive cases, with 29 new cases reported today."
      ],
      "text/plain": [
       "<IPython.core.display.Markdown object>"
      ]
     },
     "metadata": {},
     "output_type": "display_data"
    }
   ],
   "source": [
    "display(Markdown('# Dunn County has ' + str(dc.iloc[-1]['POSITIVE']) + ' total positive cases, with '+ str(int(dc.iloc[-1]['POS_NEW'])) + ' new cases reported today.'))"
   ]
  },
  {
   "cell_type": "code",
   "execution_count": 6,
   "metadata": {
    "execution": {
     "iopub.execute_input": "2020-11-21T22:10:41.211497Z",
     "iopub.status.busy": "2020-11-21T22:10:41.210962Z",
     "iopub.status.idle": "2020-11-21T22:10:41.424788Z",
     "shell.execute_reply": "2020-11-21T22:10:41.425419Z"
    },
    "jupyter": {
     "source_hidden": true
    },
    "papermill": {
     "duration": 0.225445,
     "end_time": "2020-11-21T22:10:41.425611",
     "exception": false,
     "start_time": "2020-11-21T22:10:41.200166",
     "status": "completed"
    },
    "scrolled": false,
    "tags": [
     "hide-input"
    ]
   },
   "outputs": [
    {
     "data": {
      "image/png": "[encoded data removed]",
      "text/plain": [
       "<Figure size 864x432 with 1 Axes>"
      ]
     },
     "metadata": {
      "needs_background": "light"
     },
     "output_type": "display_data"
    }
   ],
   "source": [
    "dc.plot(x='DATE',y='POSITIVE',color='red',grid='True',figsize=(12,6)).set_xlabel('Date');"
   ]
  },
  {
   "cell_type": "markdown",
   "metadata": {
    "papermill": {
     "duration": 0.00898,
     "end_time": "2020-11-21T22:10:41.443384",
     "exception": false,
     "start_time": "2020-11-21T22:10:41.434404",
     "status": "completed"
    },
    "tags": []
   },
   "source": [
    "## Figure 1: Cummulative number of positive cases."
   ]
  },
  {
   "cell_type": "code",
   "execution_count": 7,
   "metadata": {
    "execution": {
     "iopub.execute_input": "2020-11-21T22:10:41.466053Z",
     "iopub.status.busy": "2020-11-21T22:10:41.465519Z",
     "iopub.status.idle": "2020-11-21T22:10:41.681362Z",
     "shell.execute_reply": "2020-11-21T22:10:41.682026Z"
    },
    "jupyter": {
     "source_hidden": true
    },
    "papermill": {
     "duration": 0.230741,
     "end_time": "2020-11-21T22:10:41.682262",
     "exception": false,
     "start_time": "2020-11-21T22:10:41.451521",
     "status": "completed"
    },
    "scrolled": false,
    "tags": [
     "hide-input"
    ]
   },
   "outputs": [
    {
     "data": {
      "image/png": "[encoded data removed]",
      "text/plain": [
       "<Figure size 864x432 with 1 Axes>"
      ]
     },
     "metadata": {
      "needs_background": "light"
     },
     "output_type": "display_data"
    }
   ],
   "source": [
    "dc.plot(kind='line',x='DATE',y='7_DAY',color='blue',grid='True',figsize=(12,6)).set_xlabel('Date');"
   ]
  },
  {
   "cell_type": "markdown",
   "metadata": {
    "papermill": {
     "duration": 0.00988,
     "end_time": "2020-11-21T22:10:41.703132",
     "exception": false,
     "start_time": "2020-11-21T22:10:41.693252",
     "status": "completed"
    },
    "tags": []
   },
   "source": [
    "## Figure 2: Rolling 7-day average of daily new cases."
   ]
  },
  {
   "cell_type": "code",
   "execution_count": 8,
   "metadata": {
    "execution": {
     "iopub.execute_input": "2020-11-21T22:10:41.733559Z",
     "iopub.status.busy": "2020-11-21T22:10:41.732881Z",
     "iopub.status.idle": "2020-11-21T22:10:41.944629Z",
     "shell.execute_reply": "2020-11-21T22:10:41.945395Z"
    },
    "jupyter": {
     "source_hidden": true
    },
    "papermill": {
     "duration": 0.23049,
     "end_time": "2020-11-21T22:10:41.945653",
     "exception": false,
     "start_time": "2020-11-21T22:10:41.715163",
     "status": "completed"
    },
    "tags": []
   },
   "outputs": [
    {
     "data": {
      "image/png": "[encoded data removed]",
      "text/plain": [
       "<Figure size 864x432 with 1 Axes>"
      ]
     },
     "metadata": {
      "needs_background": "light"
     },
     "output_type": "display_data"
    }
   ],
   "source": [
    "dc.plot(kind='line',x='DATE',y='14_DAY',color='green',grid='True',figsize=(12,6)).set_xlabel('Date');"
   ]
  },
  {
   "cell_type": "markdown",
   "metadata": {
    "papermill": {
     "duration": 0.010979,
     "end_time": "2020-11-21T22:10:41.968744",
     "exception": false,
     "start_time": "2020-11-21T22:10:41.957765",
     "status": "completed"
    },
    "tags": []
   },
   "source": [
    "## Figure 3: Rolling 14-day average of daily new cases."
   ]
  },
  {
   "cell_type": "markdown",
   "metadata": {
    "papermill": {
     "duration": 0.0107,
     "end_time": "2020-11-21T22:10:41.989872",
     "exception": false,
     "start_time": "2020-11-21T22:10:41.979172",
     "status": "completed"
    },
    "tags": []
   },
   "source": [
    "Data source: [Wisconsin Department of Health Services](https://data.dhsgis.wi.gov/datasets/covid-19-historical-data-table/)"
   ]
  },
  {
   "cell_type": "code",
   "execution_count": 9,
   "metadata": {
    "execution": {
     "iopub.execute_input": "2020-11-21T22:10:42.016711Z",
     "iopub.status.busy": "2020-11-21T22:10:42.016116Z",
     "iopub.status.idle": "2020-11-21T22:10:42.019896Z",
     "shell.execute_reply": "2020-11-21T22:10:42.020445Z"
    },
    "jupyter": {
     "source_hidden": true
    },
    "papermill": {
     "duration": 0.020334,
     "end_time": "2020-11-21T22:10:42.020590",
     "exception": false,
     "start_time": "2020-11-21T22:10:42.000256",
     "status": "completed"
    },
    "tags": []
   },
   "outputs": [
    {
     "data": {
      "text/html": [
       "<style>\n",
       "div.input {\n",
       "    display:none;\n",
       "}\n",
       "</style>\n"
      ],
      "text/plain": [
       "<IPython.core.display.HTML object>"
      ]
     },
     "metadata": {},
     "output_type": "display_data"
    }
   ],
   "source": [
    "%%html\n",
    "<style>\n",
    "div.input {\n",
    "    display:none;\n",
    "}\n",
    "</style>"
   ]
  }
 ],
 "metadata": {
  "kernelspec": {
   "display_name": "Python 3",
   "language": "python",
   "name": "python3"
  },
  "language_info": {
   "codemirror_mode": {
    "name": "ipython",
    "version": 3
   },
   "file_extension": ".py",
   "mimetype": "text/x-python",
   "name": "python",
   "nbconvert_exporter": "python",
   "pygments_lexer": "ipython3",
   "version": "3.8.6"
  },
  "papermill": {
   "duration": 6.777248,
   "end_time": "2020-11-21T22:10:42.338814",
   "environment_variables": {},
   "exception": null,
   "input_path": "DunnCounty_COVID19.ipynb",
   "output_path": "DunnCounty_COVID19.ipynb",
   "parameters": {
    "Start": "True",
    "secretsPath": "/home/runner/work/_temp/secrets.json"
   },
   "start_time": "2020-11-21T22:10:35.561566",
   "version": "1.1.16"
  }
 },
 "nbformat": 4,
 "nbformat_minor": 2
}