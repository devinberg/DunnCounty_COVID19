{
 "cells": [
  {
   "cell_type": "code",
   "execution_count": 1,
   "id": "solar-understanding",
   "metadata": {
    "execution": {
     "iopub.execute_input": "2021-03-08T10:13:15.500631Z",
     "iopub.status.busy": "2021-03-08T10:13:15.500120Z",
     "iopub.status.idle": "2021-03-08T10:13:17.441106Z",
     "shell.execute_reply": "2021-03-08T10:13:17.440130Z"
    },
    "jupyter": {
     "source_hidden": true
    },
    "papermill": {
     "duration": 1.95979,
     "end_time": "2021-03-08T10:13:17.441245",
     "exception": false,
     "start_time": "2021-03-08T10:13:15.481455",
     "status": "completed"
    },
    "scrolled": true,
    "tags": [
     "hide-input"
    ]
   },
   "outputs": [],
   "source": [
    "import pandas as pd\n",
    "import matplotlib.pyplot as plt\n",
    "from matplotlib import dates\n",
    "from IPython.display import display, Markdown\n",
    "%matplotlib inline"
   ]
  },
  {
   "cell_type": "code",
   "execution_count": 2,
   "id": "purple-playlist",
   "metadata": {
    "execution": {
     "iopub.execute_input": "2021-03-08T10:13:17.462754Z",
     "iopub.status.busy": "2021-03-08T10:13:17.462283Z",
     "iopub.status.idle": "2021-03-08T10:13:18.112946Z",
     "shell.execute_reply": "2021-03-08T10:13:18.112445Z"
    },
    "jupyter": {
     "source_hidden": true
    },
    "papermill": {
     "duration": 0.663642,
     "end_time": "2021-03-08T10:13:18.113076",
     "exception": false,
     "start_time": "2021-03-08T10:13:17.449434",
     "status": "completed"
    },
    "scrolled": true,
    "tags": [
     "hide-input"
    ]
   },
   "outputs": [],
   "source": [
    "# This is the data for all of Wisconsin.\n",
    "url = \"https://opendata.arcgis.com/datasets/5374188992374b318d3e2305216ee413_12.csv\"\n",
    "data = pd.read_csv(url, parse_dates=['DATE'], low_memory=False)"
   ]
  },
  {
   "cell_type": "code",
   "execution_count": 3,
   "id": "proprietary-klein",
   "metadata": {
    "execution": {
     "iopub.execute_input": "2021-03-08T10:13:18.135161Z",
     "iopub.status.busy": "2021-03-08T10:13:18.134668Z",
     "iopub.status.idle": "2021-03-08T10:13:18.141963Z",
     "shell.execute_reply": "2021-03-08T10:13:18.142316Z"
    },
    "jupyter": {
     "source_hidden": true
    },
    "papermill": {
     "duration": 0.020903,
     "end_time": "2021-03-08T10:13:18.142452",
     "exception": false,
     "start_time": "2021-03-08T10:13:18.121549",
     "status": "completed"
    },
    "scrolled": true,
    "tags": [
     "hide-input"
    ]
   },
   "outputs": [],
   "source": [
    "dc = data.groupby('NAME').get_group('Dunn').sort_values(by='DATE') # Select the data for Dunn County from the full data.\n",
    "PNi = dc.columns.get_loc(\"POS_NEW\")\n",
    "dc['7_DAY'] = dc.iloc[:,PNi].rolling(window=7).mean() # Calculates the rolling 7-day average of new cases.\n",
    "dc['14_DAY'] = dc.iloc[:,PNi].rolling(window=14).mean() # Calculates the rolling 14-day average of new cases."
   ]
  },
  {
   "cell_type": "code",
   "execution_count": 4,
   "id": "steady-supervision",
   "metadata": {
    "execution": {
     "iopub.execute_input": "2021-03-08T10:13:18.164986Z",
     "iopub.status.busy": "2021-03-08T10:13:18.164479Z",
     "iopub.status.idle": "2021-03-08T10:13:18.166801Z",
     "shell.execute_reply": "2021-03-08T10:13:18.167195Z"
    },
    "jupyter": {
     "source_hidden": true
    },
    "papermill": {
     "duration": 0.017097,
     "end_time": "2021-03-08T10:13:18.167327",
     "exception": false,
     "start_time": "2021-03-08T10:13:18.150230",
     "status": "completed"
    },
    "scrolled": true,
    "tags": [
     "hide-input"
    ]
   },
   "outputs": [
    {
     "data": {
      "text/markdown": [
       "### Last updated: March 07, 2021"
      ],
      "text/plain": [
       "<IPython.core.display.Markdown object>"
      ]
     },
     "metadata": {},
     "output_type": "display_data"
    }
   ],
   "source": [
    "display(Markdown('### Last updated: ' + dc.iloc[-1]['DATE'].strftime(\"%B %d, %Y\")))"
   ]
  },
  {
   "cell_type": "code",
   "execution_count": 5,
   "id": "lonely-pitch",
   "metadata": {
    "execution": {
     "iopub.execute_input": "2021-03-08T10:13:18.187843Z",
     "iopub.status.busy": "2021-03-08T10:13:18.187377Z",
     "iopub.status.idle": "2021-03-08T10:13:18.190763Z",
     "shell.execute_reply": "2021-03-08T10:13:18.190386Z"
    },
    "jupyter": {
     "source_hidden": true
    },
    "papermill": {
     "duration": 0.015423,
     "end_time": "2021-03-08T10:13:18.190865",
     "exception": false,
     "start_time": "2021-03-08T10:13:18.175442",
     "status": "completed"
    },
    "tags": [
     "hide-input"
    ]
   },
   "outputs": [
    {
     "data": {
      "text/markdown": [
       "# Dunn County has 4283 total positive cases, with 4 new cases reported today."
      ],
      "text/plain": [
       "<IPython.core.display.Markdown object>"
      ]
     },
     "metadata": {},
     "output_type": "display_data"
    }
   ],
   "source": [
    "display(Markdown('# Dunn County has ' + str(dc.iloc[-1]['POSITIVE']) + ' total positive cases, with '+ str(int(dc.iloc[-1]['POS_NEW'])) + ' new cases reported today.'))"
   ]
  },
  {
   "cell_type": "code",
   "execution_count": 6,
   "id": "compound-nightmare",
   "metadata": {
    "execution": {
     "iopub.execute_input": "2021-03-08T10:13:18.211082Z",
     "iopub.status.busy": "2021-03-08T10:13:18.210597Z",
     "iopub.status.idle": "2021-03-08T10:13:18.445281Z",
     "shell.execute_reply": "2021-03-08T10:13:18.444876Z"
    },
    "jupyter": {
     "source_hidden": true
    },
    "papermill": {
     "duration": 0.24616,
     "end_time": "2021-03-08T10:13:18.445394",
     "exception": false,
     "start_time": "2021-03-08T10:13:18.199234",
     "status": "completed"
    },
    "scrolled": false,
    "tags": [
     "hide-input"
    ]
   },
   "outputs": [
    {
     "data": {
      "image/png": "[encoded data removed]",
      "text/plain": [
       "<Figure size 864x432 with 1 Axes>"
      ]
     },
     "metadata": {
      "needs_background": "light"
     },
     "output_type": "display_data"
    }
   ],
   "source": [
    "dc.plot(x='DATE',y='POSITIVE',color='red',grid='True',figsize=(12,6)).set_xlabel('Date');"
   ]
  },
  {
   "cell_type": "markdown",
   "id": "coupled-literacy",
   "metadata": {
    "papermill": {
     "duration": 0.009343,
     "end_time": "2021-03-08T10:13:18.464088",
     "exception": false,
     "start_time": "2021-03-08T10:13:18.454745",
     "status": "completed"
    },
    "tags": []
   },
   "source": [
    "## Figure 1: Cummulative number of positive cases."
   ]
  },
  {
   "cell_type": "code",
   "execution_count": 7,
   "id": "surrounded-reserve",
   "metadata": {
    "execution": {
     "iopub.execute_input": "2021-03-08T10:13:18.487058Z",
     "iopub.status.busy": "2021-03-08T10:13:18.486571Z",
     "iopub.status.idle": "2021-03-08T10:13:18.657470Z",
     "shell.execute_reply": "2021-03-08T10:13:18.657008Z"
    },
    "jupyter": {
     "source_hidden": true
    },
    "papermill": {
     "duration": 0.184238,
     "end_time": "2021-03-08T10:13:18.657598",
     "exception": false,
     "start_time": "2021-03-08T10:13:18.473360",
     "status": "completed"
    },
    "scrolled": false,
    "tags": [
     "hide-input"
    ]
   },
   "outputs": [
    {
     "data": {
      "image/png": "[encoded data removed]",
      "text/plain": [
       "<Figure size 864x432 with 1 Axes>"
      ]
     },
     "metadata": {
      "needs_background": "light"
     },
     "output_type": "display_data"
    }
   ],
   "source": [
    "dc.plot(kind='line',x='DATE',y='7_DAY',color='blue',grid='True',figsize=(12,6)).set_xlabel('Date');"
   ]
  },
  {
   "cell_type": "markdown",
   "id": "professional-savannah",
   "metadata": {
    "papermill": {
     "duration": 0.010485,
     "end_time": "2021-03-08T10:13:18.679560",
     "exception": false,
     "start_time": "2021-03-08T10:13:18.669075",
     "status": "completed"
    },
    "tags": []
   },
   "source": [
    "## Figure 2: Rolling 7-day average of daily new cases."
   ]
  },
  {
   "cell_type": "code",
   "execution_count": 8,
   "id": "stretch-investor",
   "metadata": {
    "execution": {
     "iopub.execute_input": "2021-03-08T10:13:18.703932Z",
     "iopub.status.busy": "2021-03-08T10:13:18.703480Z",
     "iopub.status.idle": "2021-03-08T10:13:18.871578Z",
     "shell.execute_reply": "2021-03-08T10:13:18.871948Z"
    },
    "jupyter": {
     "source_hidden": true
    },
    "papermill": {
     "duration": 0.182433,
     "end_time": "2021-03-08T10:13:18.872083",
     "exception": false,
     "start_time": "2021-03-08T10:13:18.689650",
     "status": "completed"
    },
    "tags": []
   },
   "outputs": [
    {
     "data": {
      "image/png": "[encoded data removed]",
      "text/plain": [
       "<Figure size 864x432 with 1 Axes>"
      ]
     },
     "metadata": {
      "needs_background": "light"
     },
     "output_type": "display_data"
    }
   ],
   "source": [
    "dc.plot(kind='line',x='DATE',y='14_DAY',color='green',grid='True',figsize=(12,6)).set_xlabel('Date');"
   ]
  },
  {
   "cell_type": "markdown",
   "id": "prerequisite-species",
   "metadata": {
    "papermill": {
     "duration": 0.011025,
     "end_time": "2021-03-08T10:13:18.894279",
     "exception": false,
     "start_time": "2021-03-08T10:13:18.883254",
     "status": "completed"
    },
    "tags": []
   },
   "source": [
    "## Figure 3: Rolling 14-day average of daily new cases."
   ]
  },
  {
   "cell_type": "markdown",
   "id": "palestinian-guard",
   "metadata": {
    "papermill": {
     "duration": 0.010879,
     "end_time": "2021-03-08T10:13:18.916093",
     "exception": false,
     "start_time": "2021-03-08T10:13:18.905214",
     "status": "completed"
    },
    "tags": []
   },
   "source": [
    "Data source: [Wisconsin Department of Health Services](https://data.dhsgis.wi.gov/datasets/covid-19-historical-data-table/)"
   ]
  },
  {
   "cell_type": "code",
   "execution_count": 9,
   "id": "proof-medicare",
   "metadata": {
    "execution": {
     "iopub.execute_input": "2021-03-08T10:13:18.941967Z",
     "iopub.status.busy": "2021-03-08T10:13:18.941512Z",
     "iopub.status.idle": "2021-03-08T10:13:18.944462Z",
     "shell.execute_reply": "2021-03-08T10:13:18.944064Z"
    },
    "jupyter": {
     "source_hidden": true
    },
    "papermill": {
     "duration": 0.017545,
     "end_time": "2021-03-08T10:13:18.944561",
     "exception": false,
     "start_time": "2021-03-08T10:13:18.927016",
     "status": "completed"
    },
    "tags": []
   },
   "outputs": [
    {
     "data": {
      "text/html": [
       "<style>\n",
       "div.input {\n",
       "    display:none;\n",
       "}\n",
       "</style>\n"
      ],
      "text/plain": [
       "<IPython.core.display.HTML object>"
      ]
     },
     "metadata": {},
     "output_type": "display_data"
    }
   ],
   "source": [
    "%%html\n",
    "<style>\n",
    "div.input {\n",
    "    display:none;\n",
    "}\n",
    "</style>"
   ]
  }
 ],
 "metadata": {
  "kernelspec": {
   "display_name": "Python 3",
   "language": "python",
   "name": "python3"
  },
  "language_info": {
   "codemirror_mode": {
    "name": "ipython",
    "version": 3
   },
   "file_extension": ".py",
   "mimetype": "text/x-python",
   "name": "python",
   "nbconvert_exporter": "python",
   "pygments_lexer": "ipython3",
   "version": "3.8.8"
  },
  "papermill": {
   "duration": 5.342063,
   "end_time": "2021-03-08T10:13:19.261404",
   "environment_variables": {},
   "exception": null,
   "input_path": "DunnCounty_COVID19.ipynb",
   "output_path": "DunnCounty_COVID19.ipynb",
   "parameters": {
    "Start": "True",
    "secretsPath": "/home/runner/work/_temp/secrets.json"
   },
   "start_time": "2021-03-08T10:13:13.919341",
   "version": "1.1.16"
  }
 },
 "nbformat": 4,
 "nbformat_minor": 5
}