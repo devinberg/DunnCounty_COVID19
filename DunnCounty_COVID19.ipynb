{
 "cells": [
  {
   "cell_type": "code",
   "execution_count": 1,
   "id": "solar-understanding",
   "metadata": {
    "execution": {
     "iopub.execute_input": "2021-05-15T22:16:07.387818Z",
     "iopub.status.busy": "2021-05-15T22:16:07.387262Z",
     "iopub.status.idle": "2021-05-15T22:16:08.259630Z",
     "shell.execute_reply": "2021-05-15T22:16:08.259045Z"
    },
    "jupyter": {
     "source_hidden": true
    },
    "papermill": {
     "duration": 0.892053,
     "end_time": "2021-05-15T22:16:08.259780",
     "exception": false,
     "start_time": "2021-05-15T22:16:07.367727",
     "status": "completed"
    },
    "scrolled": true,
    "tags": [
     "hide-input"
    ]
   },
   "outputs": [],
   "source": [
    "import pandas as pd\n",
    "import matplotlib.pyplot as plt\n",
    "from matplotlib import dates\n",
    "from IPython.display import display, Markdown\n",
    "%matplotlib inline"
   ]
  },
  {
   "cell_type": "code",
   "execution_count": 2,
   "id": "purple-playlist",
   "metadata": {
    "execution": {
     "iopub.execute_input": "2021-05-15T22:16:08.284484Z",
     "iopub.status.busy": "2021-05-15T22:16:08.283922Z",
     "iopub.status.idle": "2021-05-15T22:16:09.389572Z",
     "shell.execute_reply": "2021-05-15T22:16:09.388960Z"
    },
    "jupyter": {
     "source_hidden": true
    },
    "papermill": {
     "duration": 1.120852,
     "end_time": "2021-05-15T22:16:09.389704",
     "exception": false,
     "start_time": "2021-05-15T22:16:08.268852",
     "status": "completed"
    },
    "scrolled": true,
    "tags": [
     "hide-input"
    ]
   },
   "outputs": [],
   "source": [
    "# This is the data for all of Wisconsin.\n",
    "url = \"https://opendata.arcgis.com/datasets/80ff9d4897db4d7692f0f4ad28447cab_12.csv\"\n",
    "data = pd.read_csv(url, parse_dates=['DATE'], low_memory=False)"
   ]
  },
  {
   "cell_type": "code",
   "execution_count": 3,
   "id": "proprietary-klein",
   "metadata": {
    "execution": {
     "iopub.execute_input": "2021-05-15T22:16:09.414151Z",
     "iopub.status.busy": "2021-05-15T22:16:09.413585Z",
     "iopub.status.idle": "2021-05-15T22:16:09.422418Z",
     "shell.execute_reply": "2021-05-15T22:16:09.421905Z"
    },
    "jupyter": {
     "source_hidden": true
    },
    "papermill": {
     "duration": 0.023886,
     "end_time": "2021-05-15T22:16:09.422535",
     "exception": false,
     "start_time": "2021-05-15T22:16:09.398649",
     "status": "completed"
    },
    "scrolled": true,
    "tags": [
     "hide-input"
    ]
   },
   "outputs": [],
   "source": [
    "dc = data.groupby('NAME').get_group('Dunn').sort_values(by='DATE') # Select the data for Dunn County from the full data.\n",
    "PNi = dc.columns.get_loc(\"POS_NEW\")\n",
    "dc['7_DAY'] = dc.iloc[:,PNi].rolling(window=7).mean() # Calculates the rolling 7-day average of new cases.\n",
    "dc['14_DAY'] = dc.iloc[:,PNi].rolling(window=14).mean() # Calculates the rolling 14-day average of new cases."
   ]
  },
  {
   "cell_type": "code",
   "execution_count": 4,
   "id": "steady-supervision",
   "metadata": {
    "execution": {
     "iopub.execute_input": "2021-05-15T22:16:09.447851Z",
     "iopub.status.busy": "2021-05-15T22:16:09.446854Z",
     "iopub.status.idle": "2021-05-15T22:16:09.450005Z",
     "shell.execute_reply": "2021-05-15T22:16:09.450462Z"
    },
    "jupyter": {
     "source_hidden": true
    },
    "papermill": {
     "duration": 0.019576,
     "end_time": "2021-05-15T22:16:09.450597",
     "exception": false,
     "start_time": "2021-05-15T22:16:09.431021",
     "status": "completed"
    },
    "scrolled": true,
    "tags": [
     "hide-input"
    ]
   },
   "outputs": [
    {
     "data": {
      "text/markdown": [
       "### Last updated: May 14, 2021"
      ],
      "text/plain": [
       "<IPython.core.display.Markdown object>"
      ]
     },
     "metadata": {},
     "output_type": "display_data"
    }
   ],
   "source": [
    "display(Markdown('### Last updated: ' + dc.iloc[-1]['DATE'].strftime(\"%B %d, %Y\")))"
   ]
  },
  {
   "cell_type": "code",
   "execution_count": 5,
   "id": "lonely-pitch",
   "metadata": {
    "execution": {
     "iopub.execute_input": "2021-05-15T22:16:09.472625Z",
     "iopub.status.busy": "2021-05-15T22:16:09.472113Z",
     "iopub.status.idle": "2021-05-15T22:16:09.475073Z",
     "shell.execute_reply": "2021-05-15T22:16:09.474620Z"
    },
    "jupyter": {
     "source_hidden": true
    },
    "papermill": {
     "duration": 0.015984,
     "end_time": "2021-05-15T22:16:09.475182",
     "exception": false,
     "start_time": "2021-05-15T22:16:09.459198",
     "status": "completed"
    },
    "tags": [
     "hide-input"
    ]
   },
   "outputs": [
    {
     "data": {
      "text/markdown": [
       "# Dunn County has 4661 total positive cases, with 1 new cases reported today."
      ],
      "text/plain": [
       "<IPython.core.display.Markdown object>"
      ]
     },
     "metadata": {},
     "output_type": "display_data"
    }
   ],
   "source": [
    "display(Markdown('# Dunn County has ' + str(dc.iloc[-1]['POSITIVE']) + ' total positive cases, with '+ str(int(dc.iloc[-1]['POS_NEW'])) + ' new cases reported today.'))"
   ]
  },
  {
   "cell_type": "code",
   "execution_count": 6,
   "id": "compound-nightmare",
   "metadata": {
    "execution": {
     "iopub.execute_input": "2021-05-15T22:16:09.497819Z",
     "iopub.status.busy": "2021-05-15T22:16:09.497315Z",
     "iopub.status.idle": "2021-05-15T22:16:09.771053Z",
     "shell.execute_reply": "2021-05-15T22:16:09.770447Z"
    },
    "jupyter": {
     "source_hidden": true
    },
    "papermill": {
     "duration": 0.286754,
     "end_time": "2021-05-15T22:16:09.771212",
     "exception": false,
     "start_time": "2021-05-15T22:16:09.484458",
     "status": "completed"
    },
    "scrolled": false,
    "tags": [
     "hide-input"
    ]
   },
   "outputs": [
    {
     "data": {
      "image/png": "[encoded data removed]",
      "text/plain": [
       "<Figure size 864x432 with 1 Axes>"
      ]
     },
     "metadata": {
      "needs_background": "light"
     },
     "output_type": "display_data"
    }
   ],
   "source": [
    "dc.plot(x='DATE',y='POSITIVE',color='red',grid='True',figsize=(12,6)).set_xlabel('Date');"
   ]
  },
  {
   "cell_type": "markdown",
   "id": "coupled-literacy",
   "metadata": {
    "papermill": {
     "duration": 0.010272,
     "end_time": "2021-05-15T22:16:09.793027",
     "exception": false,
     "start_time": "2021-05-15T22:16:09.782755",
     "status": "completed"
    },
    "tags": []
   },
   "source": [
    "## Figure 1: Cummulative number of positive cases."
   ]
  },
  {
   "cell_type": "code",
   "execution_count": 7,
   "id": "surrounded-reserve",
   "metadata": {
    "execution": {
     "iopub.execute_input": "2021-05-15T22:16:09.818410Z",
     "iopub.status.busy": "2021-05-15T22:16:09.817877Z",
     "iopub.status.idle": "2021-05-15T22:16:10.040193Z",
     "shell.execute_reply": "2021-05-15T22:16:10.040892Z"
    },
    "jupyter": {
     "source_hidden": true
    },
    "papermill": {
     "duration": 0.237044,
     "end_time": "2021-05-15T22:16:10.041121",
     "exception": false,
     "start_time": "2021-05-15T22:16:09.804077",
     "status": "completed"
    },
    "scrolled": false,
    "tags": [
     "hide-input"
    ]
   },
   "outputs": [
    {
     "data": {
      "image/png": "[encoded data removed]",
      "text/plain": [
       "<Figure size 864x432 with 1 Axes>"
      ]
     },
     "metadata": {
      "needs_background": "light"
     },
     "output_type": "display_data"
    }
   ],
   "source": [
    "dc.plot(kind='line',x='DATE',y='7_DAY',color='blue',grid='True',figsize=(12,6)).set_xlabel('Date');"
   ]
  },
  {
   "cell_type": "markdown",
   "id": "professional-savannah",
   "metadata": {
    "papermill": {
     "duration": 0.011306,
     "end_time": "2021-05-15T22:16:10.064001",
     "exception": false,
     "start_time": "2021-05-15T22:16:10.052695",
     "status": "completed"
    },
    "tags": []
   },
   "source": [
    "## Figure 2: Rolling 7-day average of daily new cases."
   ]
  },
  {
   "cell_type": "code",
   "execution_count": 8,
   "id": "stretch-investor",
   "metadata": {
    "execution": {
     "iopub.execute_input": "2021-05-15T22:16:10.114795Z",
     "iopub.status.busy": "2021-05-15T22:16:10.108403Z",
     "iopub.status.idle": "2021-05-15T22:16:10.312080Z",
     "shell.execute_reply": "2021-05-15T22:16:10.311609Z"
    },
    "jupyter": {
     "source_hidden": true
    },
    "papermill": {
     "duration": 0.237287,
     "end_time": "2021-05-15T22:16:10.312213",
     "exception": false,
     "start_time": "2021-05-15T22:16:10.074926",
     "status": "completed"
    },
    "tags": []
   },
   "outputs": [
    {
     "data": {
      "image/png": "[encoded data removed]",
      "text/plain": [
       "<Figure size 864x432 with 1 Axes>"
      ]
     },
     "metadata": {
      "needs_background": "light"
     },
     "output_type": "display_data"
    }
   ],
   "source": [
    "dc.plot(kind='line',x='DATE',y='14_DAY',color='green',grid='True',figsize=(12,6)).set_xlabel('Date');"
   ]
  },
  {
   "cell_type": "markdown",
   "id": "prerequisite-species",
   "metadata": {
    "papermill": {
     "duration": 0.012121,
     "end_time": "2021-05-15T22:16:10.337273",
     "exception": false,
     "start_time": "2021-05-15T22:16:10.325152",
     "status": "completed"
    },
    "tags": []
   },
   "source": [
    "## Figure 3: Rolling 14-day average of daily new cases."
   ]
  },
  {
   "cell_type": "markdown",
   "id": "palestinian-guard",
   "metadata": {
    "papermill": {
     "duration": 0.011944,
     "end_time": "2021-05-15T22:16:10.360306",
     "exception": false,
     "start_time": "2021-05-15T22:16:10.348362",
     "status": "completed"
    },
    "tags": []
   },
   "source": [
    "Data source: [Wisconsin Department of Health Services](https://data.dhsgis.wi.gov/datasets/covid-19-historical-data-by-county)"
   ]
  },
  {
   "cell_type": "code",
   "execution_count": 9,
   "id": "proof-medicare",
   "metadata": {
    "execution": {
     "iopub.execute_input": "2021-05-15T22:16:10.389710Z",
     "iopub.status.busy": "2021-05-15T22:16:10.389131Z",
     "iopub.status.idle": "2021-05-15T22:16:10.391727Z",
     "shell.execute_reply": "2021-05-15T22:16:10.392149Z"
    },
    "jupyter": {
     "source_hidden": true
    },
    "papermill": {
     "duration": 0.020017,
     "end_time": "2021-05-15T22:16:10.392286",
     "exception": false,
     "start_time": "2021-05-15T22:16:10.372269",
     "status": "completed"
    },
    "tags": []
   },
   "outputs": [
    {
     "data": {
      "text/html": [
       "<style>\n",
       "div.input {\n",
       "    display:none;\n",
       "}\n",
       "</style>\n"
      ],
      "text/plain": [
       "<IPython.core.display.HTML object>"
      ]
     },
     "metadata": {},
     "output_type": "display_data"
    }
   ],
   "source": [
    "%%html\n",
    "<style>\n",
    "div.input {\n",
    "    display:none;\n",
    "}\n",
    "</style>"
   ]
  }
 ],
 "metadata": {
  "kernelspec": {
   "display_name": "Python 3",
   "language": "python",
   "name": "python3"
  },
  "language_info": {
   "codemirror_mode": {
    "name": "ipython",
    "version": 3
   },
   "file_extension": ".py",
   "mimetype": "text/x-python",
   "name": "python",
   "nbconvert_exporter": "python",
   "pygments_lexer": "ipython3",
   "version": "3.8.10"
  },
  "papermill": {
   "duration": 4.47858,
   "end_time": "2021-05-15T22:16:10.712507",
   "environment_variables": {},
   "exception": null,
   "input_path": "DunnCounty_COVID19.ipynb",
   "output_path": "DunnCounty_COVID19.ipynb",
   "parameters": {
    "Start": "True",
    "secretsPath": "/home/runner/work/_temp/secrets.json"
   },
   "start_time": "2021-05-15T22:16:06.233927",
   "version": "1.1.16"
  }
 },
 "nbformat": 4,
 "nbformat_minor": 5
}