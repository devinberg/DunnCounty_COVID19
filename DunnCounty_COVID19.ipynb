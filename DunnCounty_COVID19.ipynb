{
 "cells": [
  {
   "cell_type": "code",
   "execution_count": 1,
   "metadata": {
    "execution": {
     "iopub.execute_input": "2020-12-24T22:17:03.896726Z",
     "iopub.status.busy": "2020-12-24T22:17:03.896167Z",
     "iopub.status.idle": "2020-12-24T22:17:05.960085Z",
     "shell.execute_reply": "2020-12-24T22:17:05.959110Z"
    },
    "jupyter": {
     "source_hidden": true
    },
    "papermill": {
     "duration": 2.085221,
     "end_time": "2020-12-24T22:17:05.960328",
     "exception": false,
     "start_time": "2020-12-24T22:17:03.875107",
     "status": "completed"
    },
    "scrolled": true,
    "tags": [
     "hide-input"
    ]
   },
   "outputs": [],
   "source": [
    "import pandas as pd\n",
    "import matplotlib.pyplot as plt\n",
    "from matplotlib import dates\n",
    "from IPython.display import display, Markdown\n",
    "%matplotlib inline"
   ]
  },
  {
   "cell_type": "code",
   "execution_count": 2,
   "metadata": {
    "execution": {
     "iopub.execute_input": "2020-12-24T22:17:05.980141Z",
     "iopub.status.busy": "2020-12-24T22:17:05.979591Z",
     "iopub.status.idle": "2020-12-24T22:17:06.595683Z",
     "shell.execute_reply": "2020-12-24T22:17:06.594830Z"
    },
    "jupyter": {
     "source_hidden": true
    },
    "papermill": {
     "duration": 0.628147,
     "end_time": "2020-12-24T22:17:06.595904",
     "exception": false,
     "start_time": "2020-12-24T22:17:05.967757",
     "status": "completed"
    },
    "scrolled": true,
    "tags": [
     "hide-input"
    ]
   },
   "outputs": [],
   "source": [
    "# This is the data for all of Wisconsin.\n",
    "url = \"https://opendata.arcgis.com/datasets/5374188992374b318d3e2305216ee413_12.csv\"\n",
    "data = pd.read_csv(url, parse_dates=['DATE'], low_memory=False)"
   ]
  },
  {
   "cell_type": "code",
   "execution_count": 3,
   "metadata": {
    "execution": {
     "iopub.execute_input": "2020-12-24T22:17:06.618344Z",
     "iopub.status.busy": "2020-12-24T22:17:06.617778Z",
     "iopub.status.idle": "2020-12-24T22:17:06.627404Z",
     "shell.execute_reply": "2020-12-24T22:17:06.626922Z"
    },
    "jupyter": {
     "source_hidden": true
    },
    "papermill": {
     "duration": 0.022063,
     "end_time": "2020-12-24T22:17:06.627520",
     "exception": false,
     "start_time": "2020-12-24T22:17:06.605457",
     "status": "completed"
    },
    "scrolled": true,
    "tags": [
     "hide-input"
    ]
   },
   "outputs": [],
   "source": [
    "dc = data.groupby('NAME').get_group('Dunn').sort_values(by='DATE') # Select the data for Dunn County from the full data.\n",
    "PNi = dc.columns.get_loc(\"POS_NEW\")\n",
    "dc['7_DAY'] = dc.iloc[:,PNi].rolling(window=7).mean() # Calculates the rolling 7-day average of new cases.\n",
    "dc['14_DAY'] = dc.iloc[:,PNi].rolling(window=14).mean() # Calculates the rolling 14-day average of new cases."
   ]
  },
  {
   "cell_type": "code",
   "execution_count": 4,
   "metadata": {
    "execution": {
     "iopub.execute_input": "2020-12-24T22:17:06.647461Z",
     "iopub.status.busy": "2020-12-24T22:17:06.646882Z",
     "iopub.status.idle": "2020-12-24T22:17:06.649822Z",
     "shell.execute_reply": "2020-12-24T22:17:06.650281Z"
    },
    "jupyter": {
     "source_hidden": true
    },
    "papermill": {
     "duration": 0.016,
     "end_time": "2020-12-24T22:17:06.650412",
     "exception": false,
     "start_time": "2020-12-24T22:17:06.634412",
     "status": "completed"
    },
    "scrolled": true,
    "tags": [
     "hide-input"
    ]
   },
   "outputs": [
    {
     "data": {
      "text/markdown": [
       "### Last updated: December 24, 2020"
      ],
      "text/plain": [
       "<IPython.core.display.Markdown object>"
      ]
     },
     "metadata": {},
     "output_type": "display_data"
    }
   ],
   "source": [
    "display(Markdown('### Last updated: ' + dc.iloc[-1]['DATE'].strftime(\"%B %d, %Y\")))"
   ]
  },
  {
   "cell_type": "code",
   "execution_count": 5,
   "metadata": {
    "execution": {
     "iopub.execute_input": "2020-12-24T22:17:06.669673Z",
     "iopub.status.busy": "2020-12-24T22:17:06.669138Z",
     "iopub.status.idle": "2020-12-24T22:17:06.671688Z",
     "shell.execute_reply": "2020-12-24T22:17:06.672151Z"
    },
    "jupyter": {
     "source_hidden": true
    },
    "papermill": {
     "duration": 0.014428,
     "end_time": "2020-12-24T22:17:06.672279",
     "exception": false,
     "start_time": "2020-12-24T22:17:06.657851",
     "status": "completed"
    },
    "tags": [
     "hide-input"
    ]
   },
   "outputs": [
    {
     "data": {
      "text/markdown": [
       "# Dunn County has 3389 total positive cases, with 26 new cases reported today."
      ],
      "text/plain": [
       "<IPython.core.display.Markdown object>"
      ]
     },
     "metadata": {},
     "output_type": "display_data"
    }
   ],
   "source": [
    "display(Markdown('# Dunn County has ' + str(dc.iloc[-1]['POSITIVE']) + ' total positive cases, with '+ str(int(dc.iloc[-1]['POS_NEW'])) + ' new cases reported today.'))"
   ]
  },
  {
   "cell_type": "code",
   "execution_count": 6,
   "metadata": {
    "execution": {
     "iopub.execute_input": "2020-12-24T22:17:06.691473Z",
     "iopub.status.busy": "2020-12-24T22:17:06.690935Z",
     "iopub.status.idle": "2020-12-24T22:17:06.929329Z",
     "shell.execute_reply": "2020-12-24T22:17:06.929749Z"
    },
    "jupyter": {
     "source_hidden": true
    },
    "papermill": {
     "duration": 0.249887,
     "end_time": "2020-12-24T22:17:06.929916",
     "exception": false,
     "start_time": "2020-12-24T22:17:06.680029",
     "status": "completed"
    },
    "scrolled": false,
    "tags": [
     "hide-input"
    ]
   },
   "outputs": [
    {
     "data": {
      "image/png": "[encoded data removed]",
      "text/plain": [
       "<Figure size 864x432 with 1 Axes>"
      ]
     },
     "metadata": {
      "needs_background": "light"
     },
     "output_type": "display_data"
    }
   ],
   "source": [
    "dc.plot(x='DATE',y='POSITIVE',color='red',grid='True',figsize=(12,6)).set_xlabel('Date');"
   ]
  },
  {
   "cell_type": "markdown",
   "metadata": {
    "papermill": {
     "duration": 0.008744,
     "end_time": "2020-12-24T22:17:06.947661",
     "exception": false,
     "start_time": "2020-12-24T22:17:06.938917",
     "status": "completed"
    },
    "tags": []
   },
   "source": [
    "## Figure 1: Cummulative number of positive cases."
   ]
  },
  {
   "cell_type": "code",
   "execution_count": 7,
   "metadata": {
    "execution": {
     "iopub.execute_input": "2020-12-24T22:17:06.969448Z",
     "iopub.status.busy": "2020-12-24T22:17:06.968898Z",
     "iopub.status.idle": "2020-12-24T22:17:07.196751Z",
     "shell.execute_reply": "2020-12-24T22:17:07.195912Z"
    },
    "jupyter": {
     "source_hidden": true
    },
    "papermill": {
     "duration": 0.240589,
     "end_time": "2020-12-24T22:17:07.196961",
     "exception": false,
     "start_time": "2020-12-24T22:17:06.956372",
     "status": "completed"
    },
    "scrolled": false,
    "tags": [
     "hide-input"
    ]
   },
   "outputs": [
    {
     "data": {
      "image/png": "[encoded data removed]",
      "text/plain": [
       "<Figure size 864x432 with 1 Axes>"
      ]
     },
     "metadata": {
      "needs_background": "light"
     },
     "output_type": "display_data"
    }
   ],
   "source": [
    "dc.plot(kind='line',x='DATE',y='7_DAY',color='blue',grid='True',figsize=(12,6)).set_xlabel('Date');"
   ]
  },
  {
   "cell_type": "markdown",
   "metadata": {
    "papermill": {
     "duration": 0.010059,
     "end_time": "2020-12-24T22:17:07.217117",
     "exception": false,
     "start_time": "2020-12-24T22:17:07.207058",
     "status": "completed"
    },
    "tags": []
   },
   "source": [
    "## Figure 2: Rolling 7-day average of daily new cases."
   ]
  },
  {
   "cell_type": "code",
   "execution_count": 8,
   "metadata": {
    "execution": {
     "iopub.execute_input": "2020-12-24T22:17:07.242325Z",
     "iopub.status.busy": "2020-12-24T22:17:07.241791Z",
     "iopub.status.idle": "2020-12-24T22:17:07.465314Z",
     "shell.execute_reply": "2020-12-24T22:17:07.466020Z"
    },
    "jupyter": {
     "source_hidden": true
    },
    "papermill": {
     "duration": 0.238564,
     "end_time": "2020-12-24T22:17:07.466256",
     "exception": false,
     "start_time": "2020-12-24T22:17:07.227692",
     "status": "completed"
    },
    "tags": []
   },
   "outputs": [
    {
     "data": {
      "image/png": "[encoded data removed]",
      "text/plain": [
       "<Figure size 864x432 with 1 Axes>"
      ]
     },
     "metadata": {
      "needs_background": "light"
     },
     "output_type": "display_data"
    }
   ],
   "source": [
    "dc.plot(kind='line',x='DATE',y='14_DAY',color='green',grid='True',figsize=(12,6)).set_xlabel('Date');"
   ]
  },
  {
   "cell_type": "markdown",
   "metadata": {
    "papermill": {
     "duration": 0.011091,
     "end_time": "2020-12-24T22:17:07.490041",
     "exception": false,
     "start_time": "2020-12-24T22:17:07.478950",
     "status": "completed"
    },
    "tags": []
   },
   "source": [
    "## Figure 3: Rolling 14-day average of daily new cases."
   ]
  },
  {
   "cell_type": "markdown",
   "metadata": {
    "papermill": {
     "duration": 0.010518,
     "end_time": "2020-12-24T22:17:07.511266",
     "exception": false,
     "start_time": "2020-12-24T22:17:07.500748",
     "status": "completed"
    },
    "tags": []
   },
   "source": [
    "Data source: [Wisconsin Department of Health Services](https://data.dhsgis.wi.gov/datasets/covid-19-historical-data-table/)"
   ]
  },
  {
   "cell_type": "code",
   "execution_count": 9,
   "metadata": {
    "execution": {
     "iopub.execute_input": "2020-12-24T22:17:07.538164Z",
     "iopub.status.busy": "2020-12-24T22:17:07.537626Z",
     "iopub.status.idle": "2020-12-24T22:17:07.541604Z",
     "shell.execute_reply": "2020-12-24T22:17:07.542126Z"
    },
    "jupyter": {
     "source_hidden": true
    },
    "papermill": {
     "duration": 0.0204,
     "end_time": "2020-12-24T22:17:07.542265",
     "exception": false,
     "start_time": "2020-12-24T22:17:07.521865",
     "status": "completed"
    },
    "tags": []
   },
   "outputs": [
    {
     "data": {
      "text/html": [
       "<style>\n",
       "div.input {\n",
       "    display:none;\n",
       "}\n",
       "</style>\n"
      ],
      "text/plain": [
       "<IPython.core.display.HTML object>"
      ]
     },
     "metadata": {},
     "output_type": "display_data"
    }
   ],
   "source": [
    "%%html\n",
    "<style>\n",
    "div.input {\n",
    "    display:none;\n",
    "}\n",
    "</style>"
   ]
  }
 ],
 "metadata": {
  "kernelspec": {
   "display_name": "Python 3",
   "language": "python",
   "name": "python3"
  },
  "language_info": {
   "codemirror_mode": {
    "name": "ipython",
    "version": 3
   },
   "file_extension": ".py",
   "mimetype": "text/x-python",
   "name": "python",
   "nbconvert_exporter": "python",
   "pygments_lexer": "ipython3",
   "version": "3.8.6"
  },
  "papermill": {
   "duration": 5.470088,
   "end_time": "2020-12-24T22:17:07.859764",
   "environment_variables": {},
   "exception": null,
   "input_path": "DunnCounty_COVID19.ipynb",
   "output_path": "DunnCounty_COVID19.ipynb",
   "parameters": {
    "Start": "True",
    "secretsPath": "/home/runner/work/_temp/secrets.json"
   },
   "start_time": "2020-12-24T22:17:02.389676",
   "version": "1.1.16"
  }
 },
 "nbformat": 4,
 "nbformat_minor": 2
}