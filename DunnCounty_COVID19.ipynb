{
 "cells": [
  {
   "cell_type": "code",
   "execution_count": 1,
   "metadata": {
    "execution": {
     "iopub.execute_input": "2020-12-03T22:13:31.416053Z",
     "iopub.status.busy": "2020-12-03T22:13:31.415445Z",
     "iopub.status.idle": "2020-12-03T22:13:34.884366Z",
     "shell.execute_reply": "2020-12-03T22:13:34.884894Z"
    },
    "jupyter": {
     "source_hidden": true
    },
    "papermill": {
     "duration": 3.483858,
     "end_time": "2020-12-03T22:13:34.885213",
     "exception": false,
     "start_time": "2020-12-03T22:13:31.401355",
     "status": "completed"
    },
    "scrolled": true,
    "tags": [
     "hide-input"
    ]
   },
   "outputs": [],
   "source": [
    "import pandas as pd\n",
    "import matplotlib.pyplot as plt\n",
    "from matplotlib import dates\n",
    "from IPython.display import display, Markdown\n",
    "%matplotlib inline"
   ]
  },
  {
   "cell_type": "code",
   "execution_count": 2,
   "metadata": {
    "execution": {
     "iopub.execute_input": "2020-12-03T22:13:34.907480Z",
     "iopub.status.busy": "2020-12-03T22:13:34.906894Z",
     "iopub.status.idle": "2020-12-03T22:13:35.546243Z",
     "shell.execute_reply": "2020-12-03T22:13:35.545646Z"
    },
    "jupyter": {
     "source_hidden": true
    },
    "papermill": {
     "duration": 0.653073,
     "end_time": "2020-12-03T22:13:35.546381",
     "exception": false,
     "start_time": "2020-12-03T22:13:34.893308",
     "status": "completed"
    },
    "scrolled": true,
    "tags": [
     "hide-input"
    ]
   },
   "outputs": [],
   "source": [
    "# This is the data for all of Wisconsin.\n",
    "url = \"https://opendata.arcgis.com/datasets/5374188992374b318d3e2305216ee413_12.csv\"\n",
    "data = pd.read_csv(url, parse_dates=['DATE'], low_memory=False)"
   ]
  },
  {
   "cell_type": "code",
   "execution_count": 3,
   "metadata": {
    "execution": {
     "iopub.execute_input": "2020-12-03T22:13:35.570530Z",
     "iopub.status.busy": "2020-12-03T22:13:35.569940Z",
     "iopub.status.idle": "2020-12-03T22:13:35.579417Z",
     "shell.execute_reply": "2020-12-03T22:13:35.578705Z"
    },
    "jupyter": {
     "source_hidden": true
    },
    "papermill": {
     "duration": 0.025082,
     "end_time": "2020-12-03T22:13:35.579533",
     "exception": false,
     "start_time": "2020-12-03T22:13:35.554451",
     "status": "completed"
    },
    "scrolled": true,
    "tags": [
     "hide-input"
    ]
   },
   "outputs": [],
   "source": [
    "dc = data.groupby('NAME').get_group('Dunn').sort_values(by='DATE') # Select the data for Dunn County from the full data.\n",
    "PNi = dc.columns.get_loc(\"POS_NEW\")\n",
    "dc['7_DAY'] = dc.iloc[:,PNi].rolling(window=7).mean() # Calculates the rolling 7-day average of new cases.\n",
    "dc['14_DAY'] = dc.iloc[:,PNi].rolling(window=14).mean() # Calculates the rolling 14-day average of new cases."
   ]
  },
  {
   "cell_type": "code",
   "execution_count": 4,
   "metadata": {
    "execution": {
     "iopub.execute_input": "2020-12-03T22:13:35.601457Z",
     "iopub.status.busy": "2020-12-03T22:13:35.597274Z",
     "iopub.status.idle": "2020-12-03T22:13:35.604463Z",
     "shell.execute_reply": "2020-12-03T22:13:35.604939Z"
    },
    "jupyter": {
     "source_hidden": true
    },
    "papermill": {
     "duration": 0.018485,
     "end_time": "2020-12-03T22:13:35.605080",
     "exception": false,
     "start_time": "2020-12-03T22:13:35.586595",
     "status": "completed"
    },
    "scrolled": true,
    "tags": [
     "hide-input"
    ]
   },
   "outputs": [
    {
     "data": {
      "text/markdown": [
       "### Last updated: December 03, 2020"
      ],
      "text/plain": [
       "<IPython.core.display.Markdown object>"
      ]
     },
     "metadata": {},
     "output_type": "display_data"
    }
   ],
   "source": [
    "display(Markdown('### Last updated: ' + dc.iloc[-1]['DATE'].strftime(\"%B %d, %Y\")))"
   ]
  },
  {
   "cell_type": "code",
   "execution_count": 5,
   "metadata": {
    "execution": {
     "iopub.execute_input": "2020-12-03T22:13:35.625322Z",
     "iopub.status.busy": "2020-12-03T22:13:35.624731Z",
     "iopub.status.idle": "2020-12-03T22:13:35.627951Z",
     "shell.execute_reply": "2020-12-03T22:13:35.628495Z"
    },
    "jupyter": {
     "source_hidden": true
    },
    "papermill": {
     "duration": 0.016244,
     "end_time": "2020-12-03T22:13:35.628618",
     "exception": false,
     "start_time": "2020-12-03T22:13:35.612374",
     "status": "completed"
    },
    "tags": [
     "hide-input"
    ]
   },
   "outputs": [
    {
     "data": {
      "text/markdown": [
       "# Dunn County has 2886 total positive cases, with 23 new cases reported today."
      ],
      "text/plain": [
       "<IPython.core.display.Markdown object>"
      ]
     },
     "metadata": {},
     "output_type": "display_data"
    }
   ],
   "source": [
    "display(Markdown('# Dunn County has ' + str(dc.iloc[-1]['POSITIVE']) + ' total positive cases, with '+ str(int(dc.iloc[-1]['POS_NEW'])) + ' new cases reported today.'))"
   ]
  },
  {
   "cell_type": "code",
   "execution_count": 6,
   "metadata": {
    "execution": {
     "iopub.execute_input": "2020-12-03T22:13:35.647987Z",
     "iopub.status.busy": "2020-12-03T22:13:35.647416Z",
     "iopub.status.idle": "2020-12-03T22:13:35.901311Z",
     "shell.execute_reply": "2020-12-03T22:13:35.901791Z"
    },
    "jupyter": {
     "source_hidden": true
    },
    "papermill": {
     "duration": 0.265565,
     "end_time": "2020-12-03T22:13:35.901980",
     "exception": false,
     "start_time": "2020-12-03T22:13:35.636415",
     "status": "completed"
    },
    "scrolled": false,
    "tags": [
     "hide-input"
    ]
   },
   "outputs": [
    {
     "data": {
      "image/png": "[encoded data removed]",
      "text/plain": [
       "<Figure size 864x432 with 1 Axes>"
      ]
     },
     "metadata": {
      "needs_background": "light"
     },
     "output_type": "display_data"
    }
   ],
   "source": [
    "dc.plot(x='DATE',y='POSITIVE',color='red',grid='True',figsize=(12,6)).set_xlabel('Date');"
   ]
  },
  {
   "cell_type": "markdown",
   "metadata": {
    "papermill": {
     "duration": 0.010138,
     "end_time": "2020-12-03T22:13:35.921204",
     "exception": false,
     "start_time": "2020-12-03T22:13:35.911066",
     "status": "completed"
    },
    "tags": []
   },
   "source": [
    "## Figure 1: Cummulative number of positive cases."
   ]
  },
  {
   "cell_type": "code",
   "execution_count": 7,
   "metadata": {
    "execution": {
     "iopub.execute_input": "2020-12-03T22:13:35.945357Z",
     "iopub.status.busy": "2020-12-03T22:13:35.944769Z",
     "iopub.status.idle": "2020-12-03T22:13:36.196637Z",
     "shell.execute_reply": "2020-12-03T22:13:36.197150Z"
    },
    "jupyter": {
     "source_hidden": true
    },
    "papermill": {
     "duration": 0.265719,
     "end_time": "2020-12-03T22:13:36.197338",
     "exception": false,
     "start_time": "2020-12-03T22:13:35.931619",
     "status": "completed"
    },
    "scrolled": false,
    "tags": [
     "hide-input"
    ]
   },
   "outputs": [
    {
     "data": {
      "image/png": "[encoded data removed]",
      "text/plain": [
       "<Figure size 864x432 with 1 Axes>"
      ]
     },
     "metadata": {
      "needs_background": "light"
     },
     "output_type": "display_data"
    }
   ],
   "source": [
    "dc.plot(kind='line',x='DATE',y='7_DAY',color='blue',grid='True',figsize=(12,6)).set_xlabel('Date');"
   ]
  },
  {
   "cell_type": "markdown",
   "metadata": {
    "papermill": {
     "duration": 0.009844,
     "end_time": "2020-12-03T22:13:36.216966",
     "exception": false,
     "start_time": "2020-12-03T22:13:36.207122",
     "status": "completed"
    },
    "tags": []
   },
   "source": [
    "## Figure 2: Rolling 7-day average of daily new cases."
   ]
  },
  {
   "cell_type": "code",
   "execution_count": 8,
   "metadata": {
    "execution": {
     "iopub.execute_input": "2020-12-03T22:13:36.268529Z",
     "iopub.status.busy": "2020-12-03T22:13:36.264198Z",
     "iopub.status.idle": "2020-12-03T22:13:36.484202Z",
     "shell.execute_reply": "2020-12-03T22:13:36.484678Z"
    },
    "jupyter": {
     "source_hidden": true
    },
    "papermill": {
     "duration": 0.257461,
     "end_time": "2020-12-03T22:13:36.484837",
     "exception": false,
     "start_time": "2020-12-03T22:13:36.227376",
     "status": "completed"
    },
    "tags": []
   },
   "outputs": [
    {
     "data": {
      "image/png": "[encoded data removed]",
      "text/plain": [
       "<Figure size 864x432 with 1 Axes>"
      ]
     },
     "metadata": {
      "needs_background": "light"
     },
     "output_type": "display_data"
    }
   ],
   "source": [
    "dc.plot(kind='line',x='DATE',y='14_DAY',color='green',grid='True',figsize=(12,6)).set_xlabel('Date');"
   ]
  },
  {
   "cell_type": "markdown",
   "metadata": {
    "papermill": {
     "duration": 0.011177,
     "end_time": "2020-12-03T22:13:36.506821",
     "exception": false,
     "start_time": "2020-12-03T22:13:36.495644",
     "status": "completed"
    },
    "tags": []
   },
   "source": [
    "## Figure 3: Rolling 14-day average of daily new cases."
   ]
  },
  {
   "cell_type": "markdown",
   "metadata": {
    "papermill": {
     "duration": 0.0106,
     "end_time": "2020-12-03T22:13:36.534129",
     "exception": false,
     "start_time": "2020-12-03T22:13:36.523529",
     "status": "completed"
    },
    "tags": []
   },
   "source": [
    "Data source: [Wisconsin Department of Health Services](https://data.dhsgis.wi.gov/datasets/covid-19-historical-data-table/)"
   ]
  },
  {
   "cell_type": "code",
   "execution_count": 9,
   "metadata": {
    "execution": {
     "iopub.execute_input": "2020-12-03T22:13:36.560414Z",
     "iopub.status.busy": "2020-12-03T22:13:36.559686Z",
     "iopub.status.idle": "2020-12-03T22:13:36.564006Z",
     "shell.execute_reply": "2020-12-03T22:13:36.563371Z"
    },
    "jupyter": {
     "source_hidden": true
    },
    "papermill": {
     "duration": 0.0191,
     "end_time": "2020-12-03T22:13:36.564137",
     "exception": false,
     "start_time": "2020-12-03T22:13:36.545037",
     "status": "completed"
    },
    "tags": []
   },
   "outputs": [
    {
     "data": {
      "text/html": [
       "<style>\n",
       "div.input {\n",
       "    display:none;\n",
       "}\n",
       "</style>\n"
      ],
      "text/plain": [
       "<IPython.core.display.HTML object>"
      ]
     },
     "metadata": {},
     "output_type": "display_data"
    }
   ],
   "source": [
    "%%html\n",
    "<style>\n",
    "div.input {\n",
    "    display:none;\n",
    "}\n",
    "</style>"
   ]
  }
 ],
 "metadata": {
  "kernelspec": {
   "display_name": "Python 3",
   "language": "python",
   "name": "python3"
  },
  "language_info": {
   "codemirror_mode": {
    "name": "ipython",
    "version": 3
   },
   "file_extension": ".py",
   "mimetype": "text/x-python",
   "name": "python",
   "nbconvert_exporter": "python",
   "pygments_lexer": "ipython3",
   "version": "3.8.6"
  },
  "papermill": {
   "duration": 7.143383,
   "end_time": "2020-12-03T22:13:36.882330",
   "environment_variables": {},
   "exception": null,
   "input_path": "DunnCounty_COVID19.ipynb",
   "output_path": "DunnCounty_COVID19.ipynb",
   "parameters": {
    "Start": "True",
    "secretsPath": "/home/runner/work/_temp/secrets.json"
   },
   "start_time": "2020-12-03T22:13:29.738947",
   "version": "1.1.16"
  }
 },
 "nbformat": 4,
 "nbformat_minor": 2
}