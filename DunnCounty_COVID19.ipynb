{
 "cells": [
  {
   "cell_type": "code",
   "execution_count": 1,
   "id": "solar-understanding",
   "metadata": {
    "execution": {
     "iopub.execute_input": "2021-03-01T22:15:38.374024Z",
     "iopub.status.busy": "2021-03-01T22:15:38.373467Z",
     "iopub.status.idle": "2021-03-01T22:15:40.569846Z",
     "shell.execute_reply": "2021-03-01T22:15:40.570299Z"
    },
    "jupyter": {
     "source_hidden": true
    },
    "papermill": {
     "duration": 2.219661,
     "end_time": "2021-03-01T22:15:40.570554",
     "exception": false,
     "start_time": "2021-03-01T22:15:38.350893",
     "status": "completed"
    },
    "scrolled": true,
    "tags": [
     "hide-input"
    ]
   },
   "outputs": [],
   "source": [
    "import pandas as pd\n",
    "import matplotlib.pyplot as plt\n",
    "from matplotlib import dates\n",
    "from IPython.display import display, Markdown\n",
    "%matplotlib inline"
   ]
  },
  {
   "cell_type": "code",
   "execution_count": 2,
   "id": "purple-playlist",
   "metadata": {
    "execution": {
     "iopub.execute_input": "2021-03-01T22:15:40.596410Z",
     "iopub.status.busy": "2021-03-01T22:15:40.595846Z",
     "iopub.status.idle": "2021-03-01T22:15:41.151421Z",
     "shell.execute_reply": "2021-03-01T22:15:41.152160Z"
    },
    "jupyter": {
     "source_hidden": true
    },
    "papermill": {
     "duration": 0.572542,
     "end_time": "2021-03-01T22:15:41.152412",
     "exception": false,
     "start_time": "2021-03-01T22:15:40.579870",
     "status": "completed"
    },
    "scrolled": true,
    "tags": [
     "hide-input"
    ]
   },
   "outputs": [],
   "source": [
    "# This is the data for all of Wisconsin.\n",
    "url = \"https://opendata.arcgis.com/datasets/5374188992374b318d3e2305216ee413_12.csv\"\n",
    "data = pd.read_csv(url, parse_dates=['DATE'], low_memory=False)"
   ]
  },
  {
   "cell_type": "code",
   "execution_count": 3,
   "id": "proprietary-klein",
   "metadata": {
    "execution": {
     "iopub.execute_input": "2021-03-01T22:15:41.177672Z",
     "iopub.status.busy": "2021-03-01T22:15:41.177136Z",
     "iopub.status.idle": "2021-03-01T22:15:41.186143Z",
     "shell.execute_reply": "2021-03-01T22:15:41.185551Z"
    },
    "jupyter": {
     "source_hidden": true
    },
    "papermill": {
     "duration": 0.024317,
     "end_time": "2021-03-01T22:15:41.186284",
     "exception": false,
     "start_time": "2021-03-01T22:15:41.161967",
     "status": "completed"
    },
    "scrolled": true,
    "tags": [
     "hide-input"
    ]
   },
   "outputs": [],
   "source": [
    "dc = data.groupby('NAME').get_group('Dunn').sort_values(by='DATE') # Select the data for Dunn County from the full data.\n",
    "PNi = dc.columns.get_loc(\"POS_NEW\")\n",
    "dc['7_DAY'] = dc.iloc[:,PNi].rolling(window=7).mean() # Calculates the rolling 7-day average of new cases.\n",
    "dc['14_DAY'] = dc.iloc[:,PNi].rolling(window=14).mean() # Calculates the rolling 14-day average of new cases."
   ]
  },
  {
   "cell_type": "code",
   "execution_count": 4,
   "id": "steady-supervision",
   "metadata": {
    "execution": {
     "iopub.execute_input": "2021-03-01T22:15:41.209715Z",
     "iopub.status.busy": "2021-03-01T22:15:41.209177Z",
     "iopub.status.idle": "2021-03-01T22:15:41.212280Z",
     "shell.execute_reply": "2021-03-01T22:15:41.211821Z"
    },
    "jupyter": {
     "source_hidden": true
    },
    "papermill": {
     "duration": 0.017521,
     "end_time": "2021-03-01T22:15:41.212389",
     "exception": false,
     "start_time": "2021-03-01T22:15:41.194868",
     "status": "completed"
    },
    "scrolled": true,
    "tags": [
     "hide-input"
    ]
   },
   "outputs": [
    {
     "data": {
      "text/markdown": [
       "### Last updated: March 01, 2021"
      ],
      "text/plain": [
       "<IPython.core.display.Markdown object>"
      ]
     },
     "metadata": {},
     "output_type": "display_data"
    }
   ],
   "source": [
    "display(Markdown('### Last updated: ' + dc.iloc[-1]['DATE'].strftime(\"%B %d, %Y\")))"
   ]
  },
  {
   "cell_type": "code",
   "execution_count": 5,
   "id": "lonely-pitch",
   "metadata": {
    "execution": {
     "iopub.execute_input": "2021-03-01T22:15:41.235580Z",
     "iopub.status.busy": "2021-03-01T22:15:41.235052Z",
     "iopub.status.idle": "2021-03-01T22:15:41.237816Z",
     "shell.execute_reply": "2021-03-01T22:15:41.237290Z"
    },
    "jupyter": {
     "source_hidden": true
    },
    "papermill": {
     "duration": 0.016783,
     "end_time": "2021-03-01T22:15:41.237925",
     "exception": false,
     "start_time": "2021-03-01T22:15:41.221142",
     "status": "completed"
    },
    "tags": [
     "hide-input"
    ]
   },
   "outputs": [
    {
     "data": {
      "text/markdown": [
       "# Dunn County has 4264 total positive cases, with 2 new cases reported today."
      ],
      "text/plain": [
       "<IPython.core.display.Markdown object>"
      ]
     },
     "metadata": {},
     "output_type": "display_data"
    }
   ],
   "source": [
    "display(Markdown('# Dunn County has ' + str(dc.iloc[-1]['POSITIVE']) + ' total positive cases, with '+ str(int(dc.iloc[-1]['POS_NEW'])) + ' new cases reported today.'))"
   ]
  },
  {
   "cell_type": "code",
   "execution_count": 6,
   "id": "compound-nightmare",
   "metadata": {
    "execution": {
     "iopub.execute_input": "2021-03-01T22:15:41.260819Z",
     "iopub.status.busy": "2021-03-01T22:15:41.260253Z",
     "iopub.status.idle": "2021-03-01T22:15:41.509808Z",
     "shell.execute_reply": "2021-03-01T22:15:41.510233Z"
    },
    "jupyter": {
     "source_hidden": true
    },
    "papermill": {
     "duration": 0.263298,
     "end_time": "2021-03-01T22:15:41.510383",
     "exception": false,
     "start_time": "2021-03-01T22:15:41.247085",
     "status": "completed"
    },
    "scrolled": false,
    "tags": [
     "hide-input"
    ]
   },
   "outputs": [
    {
     "data": {
      "image/png": "[encoded data removed]",
      "text/plain": [
       "<Figure size 864x432 with 1 Axes>"
      ]
     },
     "metadata": {
      "needs_background": "light"
     },
     "output_type": "display_data"
    }
   ],
   "source": [
    "dc.plot(x='DATE',y='POSITIVE',color='red',grid='True',figsize=(12,6)).set_xlabel('Date');"
   ]
  },
  {
   "cell_type": "markdown",
   "id": "coupled-literacy",
   "metadata": {
    "papermill": {
     "duration": 0.018241,
     "end_time": "2021-03-01T22:15:41.541822",
     "exception": false,
     "start_time": "2021-03-01T22:15:41.523581",
     "status": "completed"
    },
    "tags": []
   },
   "source": [
    "## Figure 1: Cummulative number of positive cases."
   ]
  },
  {
   "cell_type": "code",
   "execution_count": 7,
   "id": "surrounded-reserve",
   "metadata": {
    "execution": {
     "iopub.execute_input": "2021-03-01T22:15:41.570762Z",
     "iopub.status.busy": "2021-03-01T22:15:41.570236Z",
     "iopub.status.idle": "2021-03-01T22:15:41.765588Z",
     "shell.execute_reply": "2021-03-01T22:15:41.766024Z"
    },
    "jupyter": {
     "source_hidden": true
    },
    "papermill": {
     "duration": 0.21232,
     "end_time": "2021-03-01T22:15:41.766177",
     "exception": false,
     "start_time": "2021-03-01T22:15:41.553857",
     "status": "completed"
    },
    "scrolled": false,
    "tags": [
     "hide-input"
    ]
   },
   "outputs": [
    {
     "data": {
      "image/png": "[encoded data removed]",
      "text/plain": [
       "<Figure size 864x432 with 1 Axes>"
      ]
     },
     "metadata": {
      "needs_background": "light"
     },
     "output_type": "display_data"
    }
   ],
   "source": [
    "dc.plot(kind='line',x='DATE',y='7_DAY',color='blue',grid='True',figsize=(12,6)).set_xlabel('Date');"
   ]
  },
  {
   "cell_type": "markdown",
   "id": "professional-savannah",
   "metadata": {
    "papermill": {
     "duration": 0.011517,
     "end_time": "2021-03-01T22:15:41.789114",
     "exception": false,
     "start_time": "2021-03-01T22:15:41.777597",
     "status": "completed"
    },
    "tags": []
   },
   "source": [
    "## Figure 2: Rolling 7-day average of daily new cases."
   ]
  },
  {
   "cell_type": "code",
   "execution_count": 8,
   "id": "stretch-investor",
   "metadata": {
    "execution": {
     "iopub.execute_input": "2021-03-01T22:15:41.816835Z",
     "iopub.status.busy": "2021-03-01T22:15:41.816257Z",
     "iopub.status.idle": "2021-03-01T22:15:42.014871Z",
     "shell.execute_reply": "2021-03-01T22:15:42.014225Z"
    },
    "jupyter": {
     "source_hidden": true
    },
    "papermill": {
     "duration": 0.214945,
     "end_time": "2021-03-01T22:15:42.015030",
     "exception": false,
     "start_time": "2021-03-01T22:15:41.800085",
     "status": "completed"
    },
    "tags": []
   },
   "outputs": [
    {
     "data": {
      "image/png": "[encoded data removed]",
      "text/plain": [
       "<Figure size 864x432 with 1 Axes>"
      ]
     },
     "metadata": {
      "needs_background": "light"
     },
     "output_type": "display_data"
    }
   ],
   "source": [
    "dc.plot(kind='line',x='DATE',y='14_DAY',color='green',grid='True',figsize=(12,6)).set_xlabel('Date');"
   ]
  },
  {
   "cell_type": "markdown",
   "id": "prerequisite-species",
   "metadata": {
    "papermill": {
     "duration": 0.013131,
     "end_time": "2021-03-01T22:15:42.041431",
     "exception": false,
     "start_time": "2021-03-01T22:15:42.028300",
     "status": "completed"
    },
    "tags": []
   },
   "source": [
    "## Figure 3: Rolling 14-day average of daily new cases."
   ]
  },
  {
   "cell_type": "markdown",
   "id": "palestinian-guard",
   "metadata": {
    "papermill": {
     "duration": 0.012219,
     "end_time": "2021-03-01T22:15:42.065701",
     "exception": false,
     "start_time": "2021-03-01T22:15:42.053482",
     "status": "completed"
    },
    "tags": []
   },
   "source": [
    "Data source: [Wisconsin Department of Health Services](https://data.dhsgis.wi.gov/datasets/covid-19-historical-data-table/)"
   ]
  },
  {
   "cell_type": "code",
   "execution_count": 9,
   "id": "proof-medicare",
   "metadata": {
    "execution": {
     "iopub.execute_input": "2021-03-01T22:15:42.101228Z",
     "iopub.status.busy": "2021-03-01T22:15:42.100568Z",
     "iopub.status.idle": "2021-03-01T22:15:42.103569Z",
     "shell.execute_reply": "2021-03-01T22:15:42.103976Z"
    },
    "jupyter": {
     "source_hidden": true
    },
    "papermill": {
     "duration": 0.02628,
     "end_time": "2021-03-01T22:15:42.104125",
     "exception": false,
     "start_time": "2021-03-01T22:15:42.077845",
     "status": "completed"
    },
    "tags": []
   },
   "outputs": [
    {
     "data": {
      "text/html": [
       "<style>\n",
       "div.input {\n",
       "    display:none;\n",
       "}\n",
       "</style>\n"
      ],
      "text/plain": [
       "<IPython.core.display.HTML object>"
      ]
     },
     "metadata": {},
     "output_type": "display_data"
    }
   ],
   "source": [
    "%%html\n",
    "<style>\n",
    "div.input {\n",
    "    display:none;\n",
    "}\n",
    "</style>"
   ]
  }
 ],
 "metadata": {
  "kernelspec": {
   "display_name": "Python 3",
   "language": "python",
   "name": "python3"
  },
  "language_info": {
   "codemirror_mode": {
    "name": "ipython",
    "version": 3
   },
   "file_extension": ".py",
   "mimetype": "text/x-python",
   "name": "python",
   "nbconvert_exporter": "python",
   "pygments_lexer": "ipython3",
   "version": "3.8.7"
  },
  "papermill": {
   "duration": 6.793555,
   "end_time": "2021-03-01T22:15:43.387892",
   "environment_variables": {},
   "exception": null,
   "input_path": "DunnCounty_COVID19.ipynb",
   "output_path": "DunnCounty_COVID19.ipynb",
   "parameters": {
    "Start": "True",
    "secretsPath": "/home/runner/work/_temp/secrets.json"
   },
   "start_time": "2021-03-01T22:15:36.594337",
   "version": "1.1.16"
  }
 },
 "nbformat": 4,
 "nbformat_minor": 5
}