{
 "cells": [
  {
   "cell_type": "code",
   "execution_count": 1,
   "metadata": {
    "execution": {
     "iopub.execute_input": "2020-11-30T22:11:35.542037Z",
     "iopub.status.busy": "2020-11-30T22:11:35.541471Z",
     "iopub.status.idle": "2020-11-30T22:11:36.651905Z",
     "shell.execute_reply": "2020-11-30T22:11:36.650755Z"
    },
    "jupyter": {
     "source_hidden": true
    },
    "papermill": {
     "duration": 1.129362,
     "end_time": "2020-11-30T22:11:36.652110",
     "exception": false,
     "start_time": "2020-11-30T22:11:35.522748",
     "status": "completed"
    },
    "scrolled": true,
    "tags": [
     "hide-input"
    ]
   },
   "outputs": [],
   "source": [
    "import pandas as pd\n",
    "import matplotlib.pyplot as plt\n",
    "from matplotlib import dates\n",
    "from IPython.display import display, Markdown\n",
    "%matplotlib inline"
   ]
  },
  {
   "cell_type": "code",
   "execution_count": 2,
   "metadata": {
    "execution": {
     "iopub.execute_input": "2020-11-30T22:11:36.672447Z",
     "iopub.status.busy": "2020-11-30T22:11:36.671800Z",
     "iopub.status.idle": "2020-11-30T22:11:37.295183Z",
     "shell.execute_reply": "2020-11-30T22:11:37.296142Z"
    },
    "jupyter": {
     "source_hidden": true
    },
    "papermill": {
     "duration": 0.636827,
     "end_time": "2020-11-30T22:11:37.296419",
     "exception": false,
     "start_time": "2020-11-30T22:11:36.659592",
     "status": "completed"
    },
    "scrolled": true,
    "tags": [
     "hide-input"
    ]
   },
   "outputs": [],
   "source": [
    "# This is the data for all of Wisconsin.\n",
    "url = \"https://opendata.arcgis.com/datasets/5374188992374b318d3e2305216ee413_12.csv\"\n",
    "data = pd.read_csv(url, parse_dates=['DATE'], low_memory=False)"
   ]
  },
  {
   "cell_type": "code",
   "execution_count": 3,
   "metadata": {
    "execution": {
     "iopub.execute_input": "2020-11-30T22:11:37.319437Z",
     "iopub.status.busy": "2020-11-30T22:11:37.318875Z",
     "iopub.status.idle": "2020-11-30T22:11:37.328475Z",
     "shell.execute_reply": "2020-11-30T22:11:37.327956Z"
    },
    "jupyter": {
     "source_hidden": true
    },
    "papermill": {
     "duration": 0.022745,
     "end_time": "2020-11-30T22:11:37.328602",
     "exception": false,
     "start_time": "2020-11-30T22:11:37.305857",
     "status": "completed"
    },
    "scrolled": true,
    "tags": [
     "hide-input"
    ]
   },
   "outputs": [],
   "source": [
    "dc = data.groupby('NAME').get_group('Dunn').sort_values(by='DATE') # Select the data for Dunn County from the full data.\n",
    "PNi = dc.columns.get_loc(\"POS_NEW\")\n",
    "dc['7_DAY'] = dc.iloc[:,PNi].rolling(window=7).mean() # Calculates the rolling 7-day average of new cases.\n",
    "dc['14_DAY'] = dc.iloc[:,PNi].rolling(window=14).mean() # Calculates the rolling 14-day average of new cases."
   ]
  },
  {
   "cell_type": "code",
   "execution_count": 4,
   "metadata": {
    "execution": {
     "iopub.execute_input": "2020-11-30T22:11:37.349495Z",
     "iopub.status.busy": "2020-11-30T22:11:37.348948Z",
     "iopub.status.idle": "2020-11-30T22:11:37.351659Z",
     "shell.execute_reply": "2020-11-30T22:11:37.352089Z"
    },
    "jupyter": {
     "source_hidden": true
    },
    "papermill": {
     "duration": 0.016481,
     "end_time": "2020-11-30T22:11:37.352233",
     "exception": false,
     "start_time": "2020-11-30T22:11:37.335752",
     "status": "completed"
    },
    "scrolled": true,
    "tags": [
     "hide-input"
    ]
   },
   "outputs": [
    {
     "data": {
      "text/markdown": [
       "### Last updated: November 30, 2020"
      ],
      "text/plain": [
       "<IPython.core.display.Markdown object>"
      ]
     },
     "metadata": {},
     "output_type": "display_data"
    }
   ],
   "source": [
    "display(Markdown('### Last updated: ' + dc.iloc[-1]['DATE'].strftime(\"%B %d, %Y\")))"
   ]
  },
  {
   "cell_type": "code",
   "execution_count": 5,
   "metadata": {
    "execution": {
     "iopub.execute_input": "2020-11-30T22:11:37.372400Z",
     "iopub.status.busy": "2020-11-30T22:11:37.371857Z",
     "iopub.status.idle": "2020-11-30T22:11:37.375193Z",
     "shell.execute_reply": "2020-11-30T22:11:37.374720Z"
    },
    "jupyter": {
     "source_hidden": true
    },
    "papermill": {
     "duration": 0.015553,
     "end_time": "2020-11-30T22:11:37.375316",
     "exception": false,
     "start_time": "2020-11-30T22:11:37.359763",
     "status": "completed"
    },
    "tags": [
     "hide-input"
    ]
   },
   "outputs": [
    {
     "data": {
      "text/markdown": [
       "# Dunn County has 2812 total positive cases, with 22 new cases reported today."
      ],
      "text/plain": [
       "<IPython.core.display.Markdown object>"
      ]
     },
     "metadata": {},
     "output_type": "display_data"
    }
   ],
   "source": [
    "display(Markdown('# Dunn County has ' + str(dc.iloc[-1]['POSITIVE']) + ' total positive cases, with '+ str(int(dc.iloc[-1]['POS_NEW'])) + ' new cases reported today.'))"
   ]
  },
  {
   "cell_type": "code",
   "execution_count": 6,
   "metadata": {
    "execution": {
     "iopub.execute_input": "2020-11-30T22:11:37.402382Z",
     "iopub.status.busy": "2020-11-30T22:11:37.401205Z",
     "iopub.status.idle": "2020-11-30T22:11:37.644070Z",
     "shell.execute_reply": "2020-11-30T22:11:37.643599Z"
    },
    "jupyter": {
     "source_hidden": true
    },
    "papermill": {
     "duration": 0.261025,
     "end_time": "2020-11-30T22:11:37.644205",
     "exception": false,
     "start_time": "2020-11-30T22:11:37.383180",
     "status": "completed"
    },
    "scrolled": false,
    "tags": [
     "hide-input"
    ]
   },
   "outputs": [
    {
     "data": {
      "image/png": "[encoded data removed]",
      "text/plain": [
       "<Figure size 864x432 with 1 Axes>"
      ]
     },
     "metadata": {
      "needs_background": "light"
     },
     "output_type": "display_data"
    }
   ],
   "source": [
    "dc.plot(x='DATE',y='POSITIVE',color='red',grid='True',figsize=(12,6)).set_xlabel('Date');"
   ]
  },
  {
   "cell_type": "markdown",
   "metadata": {
    "papermill": {
     "duration": 0.009068,
     "end_time": "2020-11-30T22:11:37.662246",
     "exception": false,
     "start_time": "2020-11-30T22:11:37.653178",
     "status": "completed"
    },
    "tags": []
   },
   "source": [
    "## Figure 1: Cummulative number of positive cases."
   ]
  },
  {
   "cell_type": "code",
   "execution_count": 7,
   "metadata": {
    "execution": {
     "iopub.execute_input": "2020-11-30T22:11:37.685274Z",
     "iopub.status.busy": "2020-11-30T22:11:37.684484Z",
     "iopub.status.idle": "2020-11-30T22:11:37.913619Z",
     "shell.execute_reply": "2020-11-30T22:11:37.914039Z"
    },
    "jupyter": {
     "source_hidden": true
    },
    "papermill": {
     "duration": 0.24319,
     "end_time": "2020-11-30T22:11:37.914205",
     "exception": false,
     "start_time": "2020-11-30T22:11:37.671015",
     "status": "completed"
    },
    "scrolled": false,
    "tags": [
     "hide-input"
    ]
   },
   "outputs": [
    {
     "data": {
      "image/png": "[encoded data removed]",
      "text/plain": [
       "<Figure size 864x432 with 1 Axes>"
      ]
     },
     "metadata": {
      "needs_background": "light"
     },
     "output_type": "display_data"
    }
   ],
   "source": [
    "dc.plot(kind='line',x='DATE',y='7_DAY',color='blue',grid='True',figsize=(12,6)).set_xlabel('Date');"
   ]
  },
  {
   "cell_type": "markdown",
   "metadata": {
    "papermill": {
     "duration": 0.01005,
     "end_time": "2020-11-30T22:11:37.937781",
     "exception": false,
     "start_time": "2020-11-30T22:11:37.927731",
     "status": "completed"
    },
    "tags": []
   },
   "source": [
    "## Figure 2: Rolling 7-day average of daily new cases."
   ]
  },
  {
   "cell_type": "code",
   "execution_count": 8,
   "metadata": {
    "execution": {
     "iopub.execute_input": "2020-11-30T22:11:38.005612Z",
     "iopub.status.busy": "2020-11-30T22:11:37.986528Z",
     "iopub.status.idle": "2020-11-30T22:11:38.188215Z",
     "shell.execute_reply": "2020-11-30T22:11:38.187726Z"
    },
    "jupyter": {
     "source_hidden": true
    },
    "papermill": {
     "duration": 0.24081,
     "end_time": "2020-11-30T22:11:38.188346",
     "exception": false,
     "start_time": "2020-11-30T22:11:37.947536",
     "status": "completed"
    },
    "tags": []
   },
   "outputs": [
    {
     "data": {
      "image/png": "[encoded data removed]",
      "text/plain": [
       "<Figure size 864x432 with 1 Axes>"
      ]
     },
     "metadata": {
      "needs_background": "light"
     },
     "output_type": "display_data"
    }
   ],
   "source": [
    "dc.plot(kind='line',x='DATE',y='14_DAY',color='green',grid='True',figsize=(12,6)).set_xlabel('Date');"
   ]
  },
  {
   "cell_type": "markdown",
   "metadata": {
    "papermill": {
     "duration": 0.010733,
     "end_time": "2020-11-30T22:11:38.210011",
     "exception": false,
     "start_time": "2020-11-30T22:11:38.199278",
     "status": "completed"
    },
    "tags": []
   },
   "source": [
    "## Figure 3: Rolling 14-day average of daily new cases."
   ]
  },
  {
   "cell_type": "markdown",
   "metadata": {
    "papermill": {
     "duration": 0.010573,
     "end_time": "2020-11-30T22:11:38.231408",
     "exception": false,
     "start_time": "2020-11-30T22:11:38.220835",
     "status": "completed"
    },
    "tags": []
   },
   "source": [
    "Data source: [Wisconsin Department of Health Services](https://data.dhsgis.wi.gov/datasets/covid-19-historical-data-table/)"
   ]
  },
  {
   "cell_type": "code",
   "execution_count": 9,
   "metadata": {
    "execution": {
     "iopub.execute_input": "2020-11-30T22:11:38.257400Z",
     "iopub.status.busy": "2020-11-30T22:11:38.256825Z",
     "iopub.status.idle": "2020-11-30T22:11:38.259882Z",
     "shell.execute_reply": "2020-11-30T22:11:38.259410Z"
    },
    "jupyter": {
     "source_hidden": true
    },
    "papermill": {
     "duration": 0.017875,
     "end_time": "2020-11-30T22:11:38.260002",
     "exception": false,
     "start_time": "2020-11-30T22:11:38.242127",
     "status": "completed"
    },
    "tags": []
   },
   "outputs": [
    {
     "data": {
      "text/html": [
       "<style>\n",
       "div.input {\n",
       "    display:none;\n",
       "}\n",
       "</style>\n"
      ],
      "text/plain": [
       "<IPython.core.display.HTML object>"
      ]
     },
     "metadata": {},
     "output_type": "display_data"
    }
   ],
   "source": [
    "%%html\n",
    "<style>\n",
    "div.input {\n",
    "    display:none;\n",
    "}\n",
    "</style>"
   ]
  }
 ],
 "metadata": {
  "kernelspec": {
   "display_name": "Python 3",
   "language": "python",
   "name": "python3"
  },
  "language_info": {
   "codemirror_mode": {
    "name": "ipython",
    "version": 3
   },
   "file_extension": ".py",
   "mimetype": "text/x-python",
   "name": "python",
   "nbconvert_exporter": "python",
   "pygments_lexer": "ipython3",
   "version": "3.8.6"
  },
  "papermill": {
   "duration": 5.081847,
   "end_time": "2020-11-30T22:11:38.578022",
   "environment_variables": {},
   "exception": null,
   "input_path": "DunnCounty_COVID19.ipynb",
   "output_path": "DunnCounty_COVID19.ipynb",
   "parameters": {
    "Start": "True",
    "secretsPath": "/home/runner/work/_temp/secrets.json"
   },
   "start_time": "2020-11-30T22:11:33.496175",
   "version": "1.1.16"
  }
 },
 "nbformat": 4,
 "nbformat_minor": 2
}