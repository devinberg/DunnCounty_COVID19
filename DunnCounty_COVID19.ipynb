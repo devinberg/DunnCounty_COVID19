{
 "cells": [
  {
   "cell_type": "code",
   "execution_count": 1,
   "id": "solar-understanding",
   "metadata": {
    "execution": {
     "iopub.execute_input": "2021-01-22T22:32:45.031243Z",
     "iopub.status.busy": "2021-01-22T22:32:45.030698Z",
     "iopub.status.idle": "2021-01-22T22:32:46.207315Z",
     "shell.execute_reply": "2021-01-22T22:32:46.206651Z"
    },
    "jupyter": {
     "source_hidden": true
    },
    "papermill": {
     "duration": 1.196152,
     "end_time": "2021-01-22T22:32:46.207527",
     "exception": false,
     "start_time": "2021-01-22T22:32:45.011375",
     "status": "completed"
    },
    "scrolled": true,
    "tags": [
     "hide-input"
    ]
   },
   "outputs": [],
   "source": [
    "import pandas as pd\n",
    "import matplotlib.pyplot as plt\n",
    "from matplotlib import dates\n",
    "from IPython.display import display, Markdown\n",
    "%matplotlib inline"
   ]
  },
  {
   "cell_type": "code",
   "execution_count": 2,
   "id": "purple-playlist",
   "metadata": {
    "execution": {
     "iopub.execute_input": "2021-01-22T22:32:46.231795Z",
     "iopub.status.busy": "2021-01-22T22:32:46.231011Z",
     "iopub.status.idle": "2021-01-22T22:32:46.845071Z",
     "shell.execute_reply": "2021-01-22T22:32:46.844574Z"
    },
    "jupyter": {
     "source_hidden": true
    },
    "papermill": {
     "duration": 0.629039,
     "end_time": "2021-01-22T22:32:46.845234",
     "exception": false,
     "start_time": "2021-01-22T22:32:46.216195",
     "status": "completed"
    },
    "scrolled": true,
    "tags": [
     "hide-input"
    ]
   },
   "outputs": [],
   "source": [
    "# This is the data for all of Wisconsin.\n",
    "url = \"https://opendata.arcgis.com/datasets/5374188992374b318d3e2305216ee413_12.csv\"\n",
    "data = pd.read_csv(url, parse_dates=['DATE'], low_memory=False)"
   ]
  },
  {
   "cell_type": "code",
   "execution_count": 3,
   "id": "proprietary-klein",
   "metadata": {
    "execution": {
     "iopub.execute_input": "2021-01-22T22:32:46.869799Z",
     "iopub.status.busy": "2021-01-22T22:32:46.869252Z",
     "iopub.status.idle": "2021-01-22T22:32:46.877818Z",
     "shell.execute_reply": "2021-01-22T22:32:46.877081Z"
    },
    "jupyter": {
     "source_hidden": true
    },
    "papermill": {
     "duration": 0.023534,
     "end_time": "2021-01-22T22:32:46.877934",
     "exception": false,
     "start_time": "2021-01-22T22:32:46.854400",
     "status": "completed"
    },
    "scrolled": true,
    "tags": [
     "hide-input"
    ]
   },
   "outputs": [],
   "source": [
    "dc = data.groupby('NAME').get_group('Dunn').sort_values(by='DATE') # Select the data for Dunn County from the full data.\n",
    "PNi = dc.columns.get_loc(\"POS_NEW\")\n",
    "dc['7_DAY'] = dc.iloc[:,PNi].rolling(window=7).mean() # Calculates the rolling 7-day average of new cases.\n",
    "dc['14_DAY'] = dc.iloc[:,PNi].rolling(window=14).mean() # Calculates the rolling 14-day average of new cases."
   ]
  },
  {
   "cell_type": "code",
   "execution_count": 4,
   "id": "steady-supervision",
   "metadata": {
    "execution": {
     "iopub.execute_input": "2021-01-22T22:32:46.902474Z",
     "iopub.status.busy": "2021-01-22T22:32:46.901772Z",
     "iopub.status.idle": "2021-01-22T22:32:46.905204Z",
     "shell.execute_reply": "2021-01-22T22:32:46.904710Z"
    },
    "jupyter": {
     "source_hidden": true
    },
    "papermill": {
     "duration": 0.018815,
     "end_time": "2021-01-22T22:32:46.905323",
     "exception": false,
     "start_time": "2021-01-22T22:32:46.886508",
     "status": "completed"
    },
    "scrolled": true,
    "tags": [
     "hide-input"
    ]
   },
   "outputs": [
    {
     "data": {
      "text/markdown": [
       "### Last updated: January 22, 2021"
      ],
      "text/plain": [
       "<IPython.core.display.Markdown object>"
      ]
     },
     "metadata": {},
     "output_type": "display_data"
    }
   ],
   "source": [
    "display(Markdown('### Last updated: ' + dc.iloc[-1]['DATE'].strftime(\"%B %d, %Y\")))"
   ]
  },
  {
   "cell_type": "code",
   "execution_count": 5,
   "id": "lonely-pitch",
   "metadata": {
    "execution": {
     "iopub.execute_input": "2021-01-22T22:32:46.930269Z",
     "iopub.status.busy": "2021-01-22T22:32:46.929759Z",
     "iopub.status.idle": "2021-01-22T22:32:46.932134Z",
     "shell.execute_reply": "2021-01-22T22:32:46.932634Z"
    },
    "jupyter": {
     "source_hidden": true
    },
    "papermill": {
     "duration": 0.018669,
     "end_time": "2021-01-22T22:32:46.932822",
     "exception": false,
     "start_time": "2021-01-22T22:32:46.914153",
     "status": "completed"
    },
    "tags": [
     "hide-input"
    ]
   },
   "outputs": [
    {
     "data": {
      "text/markdown": [
       "# Dunn County has 3938 total positive cases, with 25 new cases reported today."
      ],
      "text/plain": [
       "<IPython.core.display.Markdown object>"
      ]
     },
     "metadata": {},
     "output_type": "display_data"
    }
   ],
   "source": [
    "display(Markdown('# Dunn County has ' + str(dc.iloc[-1]['POSITIVE']) + ' total positive cases, with '+ str(int(dc.iloc[-1]['POS_NEW'])) + ' new cases reported today.'))"
   ]
  },
  {
   "cell_type": "code",
   "execution_count": 6,
   "id": "compound-nightmare",
   "metadata": {
    "execution": {
     "iopub.execute_input": "2021-01-22T22:32:46.954122Z",
     "iopub.status.busy": "2021-01-22T22:32:46.953562Z",
     "iopub.status.idle": "2021-01-22T22:32:47.260610Z",
     "shell.execute_reply": "2021-01-22T22:32:47.260124Z"
    },
    "jupyter": {
     "source_hidden": true
    },
    "papermill": {
     "duration": 0.319202,
     "end_time": "2021-01-22T22:32:47.260744",
     "exception": false,
     "start_time": "2021-01-22T22:32:46.941542",
     "status": "completed"
    },
    "scrolled": false,
    "tags": [
     "hide-input"
    ]
   },
   "outputs": [
    {
     "data": {
      "image/png": "[encoded data removed]",
      "text/plain": [
       "<Figure size 864x432 with 1 Axes>"
      ]
     },
     "metadata": {
      "needs_background": "light"
     },
     "output_type": "display_data"
    }
   ],
   "source": [
    "dc.plot(x='DATE',y='POSITIVE',color='red',grid='True',figsize=(12,6)).set_xlabel('Date');"
   ]
  },
  {
   "cell_type": "markdown",
   "id": "coupled-literacy",
   "metadata": {
    "papermill": {
     "duration": 0.009939,
     "end_time": "2021-01-22T22:32:47.281011",
     "exception": false,
     "start_time": "2021-01-22T22:32:47.271072",
     "status": "completed"
    },
    "tags": []
   },
   "source": [
    "## Figure 1: Cummulative number of positive cases."
   ]
  },
  {
   "cell_type": "code",
   "execution_count": 7,
   "id": "surrounded-reserve",
   "metadata": {
    "execution": {
     "iopub.execute_input": "2021-01-22T22:32:47.308178Z",
     "iopub.status.busy": "2021-01-22T22:32:47.307518Z",
     "iopub.status.idle": "2021-01-22T22:32:47.580823Z",
     "shell.execute_reply": "2021-01-22T22:32:47.580274Z"
    },
    "jupyter": {
     "source_hidden": true
    },
    "papermill": {
     "duration": 0.289524,
     "end_time": "2021-01-22T22:32:47.580950",
     "exception": false,
     "start_time": "2021-01-22T22:32:47.291426",
     "status": "completed"
    },
    "scrolled": false,
    "tags": [
     "hide-input"
    ]
   },
   "outputs": [
    {
     "data": {
      "image/png": "[encoded data removed]",
      "text/plain": [
       "<Figure size 864x432 with 1 Axes>"
      ]
     },
     "metadata": {
      "needs_background": "light"
     },
     "output_type": "display_data"
    }
   ],
   "source": [
    "dc.plot(kind='line',x='DATE',y='7_DAY',color='blue',grid='True',figsize=(12,6)).set_xlabel('Date');"
   ]
  },
  {
   "cell_type": "markdown",
   "id": "professional-savannah",
   "metadata": {
    "papermill": {
     "duration": 0.013536,
     "end_time": "2021-01-22T22:32:47.605796",
     "exception": false,
     "start_time": "2021-01-22T22:32:47.592260",
     "status": "completed"
    },
    "tags": []
   },
   "source": [
    "## Figure 2: Rolling 7-day average of daily new cases."
   ]
  },
  {
   "cell_type": "code",
   "execution_count": 8,
   "id": "stretch-investor",
   "metadata": {
    "execution": {
     "iopub.execute_input": "2021-01-22T22:32:47.652055Z",
     "iopub.status.busy": "2021-01-22T22:32:47.632661Z",
     "iopub.status.idle": "2021-01-22T22:32:47.915574Z",
     "shell.execute_reply": "2021-01-22T22:32:47.916047Z"
    },
    "jupyter": {
     "source_hidden": true
    },
    "papermill": {
     "duration": 0.299112,
     "end_time": "2021-01-22T22:32:47.916231",
     "exception": false,
     "start_time": "2021-01-22T22:32:47.617119",
     "status": "completed"
    },
    "tags": []
   },
   "outputs": [
    {
     "data": {
      "image/png": "[encoded data removed]",
      "text/plain": [
       "<Figure size 864x432 with 1 Axes>"
      ]
     },
     "metadata": {
      "needs_background": "light"
     },
     "output_type": "display_data"
    }
   ],
   "source": [
    "dc.plot(kind='line',x='DATE',y='14_DAY',color='green',grid='True',figsize=(12,6)).set_xlabel('Date');"
   ]
  },
  {
   "cell_type": "markdown",
   "id": "prerequisite-species",
   "metadata": {
    "papermill": {
     "duration": 0.012834,
     "end_time": "2021-01-22T22:32:47.941759",
     "exception": false,
     "start_time": "2021-01-22T22:32:47.928925",
     "status": "completed"
    },
    "tags": []
   },
   "source": [
    "## Figure 3: Rolling 14-day average of daily new cases."
   ]
  },
  {
   "cell_type": "markdown",
   "id": "palestinian-guard",
   "metadata": {
    "papermill": {
     "duration": 0.011984,
     "end_time": "2021-01-22T22:32:47.966098",
     "exception": false,
     "start_time": "2021-01-22T22:32:47.954114",
     "status": "completed"
    },
    "tags": []
   },
   "source": [
    "Data source: [Wisconsin Department of Health Services](https://data.dhsgis.wi.gov/datasets/covid-19-historical-data-table/)"
   ]
  },
  {
   "cell_type": "code",
   "execution_count": 9,
   "id": "proof-medicare",
   "metadata": {
    "execution": {
     "iopub.execute_input": "2021-01-22T22:32:47.995149Z",
     "iopub.status.busy": "2021-01-22T22:32:47.994460Z",
     "iopub.status.idle": "2021-01-22T22:32:47.997202Z",
     "shell.execute_reply": "2021-01-22T22:32:47.998301Z"
    },
    "jupyter": {
     "source_hidden": true
    },
    "papermill": {
     "duration": 0.020905,
     "end_time": "2021-01-22T22:32:47.998751",
     "exception": false,
     "start_time": "2021-01-22T22:32:47.977846",
     "status": "completed"
    },
    "tags": []
   },
   "outputs": [
    {
     "data": {
      "text/html": [
       "<style>\n",
       "div.input {\n",
       "    display:none;\n",
       "}\n",
       "</style>\n"
      ],
      "text/plain": [
       "<IPython.core.display.HTML object>"
      ]
     },
     "metadata": {},
     "output_type": "display_data"
    }
   ],
   "source": [
    "%%html\n",
    "<style>\n",
    "div.input {\n",
    "    display:none;\n",
    "}\n",
    "</style>"
   ]
  }
 ],
 "metadata": {
  "kernelspec": {
   "display_name": "Python 3",
   "language": "python",
   "name": "python3"
  },
  "language_info": {
   "codemirror_mode": {
    "name": "ipython",
    "version": 3
   },
   "file_extension": ".py",
   "mimetype": "text/x-python",
   "name": "python",
   "nbconvert_exporter": "python",
   "pygments_lexer": "ipython3",
   "version": "3.8.6"
  },
  "papermill": {
   "duration": 5.757839,
   "end_time": "2021-01-22T22:32:49.180369",
   "environment_variables": {},
   "exception": null,
   "input_path": "DunnCounty_COVID19.ipynb",
   "output_path": "DunnCounty_COVID19.ipynb",
   "parameters": {
    "Start": "True",
    "secretsPath": "/home/runner/work/_temp/secrets.json"
   },
   "start_time": "2021-01-22T22:32:43.422530",
   "version": "1.1.16"
  }
 },
 "nbformat": 4,
 "nbformat_minor": 5
}