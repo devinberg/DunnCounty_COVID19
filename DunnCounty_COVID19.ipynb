{
 "cells": [
  {
   "cell_type": "code",
   "execution_count": 1,
   "id": "solar-understanding",
   "metadata": {
    "execution": {
     "iopub.execute_input": "2021-01-26T10:14:36.858592Z",
     "iopub.status.busy": "2021-01-26T10:14:36.857868Z",
     "iopub.status.idle": "2021-01-26T10:14:37.852671Z",
     "shell.execute_reply": "2021-01-26T10:14:37.852135Z"
    },
    "jupyter": {
     "source_hidden": true
    },
    "papermill": {
     "duration": 1.011511,
     "end_time": "2021-01-26T10:14:37.852849",
     "exception": false,
     "start_time": "2021-01-26T10:14:36.841338",
     "status": "completed"
    },
    "scrolled": true,
    "tags": [
     "hide-input"
    ]
   },
   "outputs": [],
   "source": [
    "import pandas as pd\n",
    "import matplotlib.pyplot as plt\n",
    "from matplotlib import dates\n",
    "from IPython.display import display, Markdown\n",
    "%matplotlib inline"
   ]
  },
  {
   "cell_type": "code",
   "execution_count": 2,
   "id": "purple-playlist",
   "metadata": {
    "execution": {
     "iopub.execute_input": "2021-01-26T10:14:37.874252Z",
     "iopub.status.busy": "2021-01-26T10:14:37.873741Z",
     "iopub.status.idle": "2021-01-26T10:14:38.425786Z",
     "shell.execute_reply": "2021-01-26T10:14:38.425007Z"
    },
    "jupyter": {
     "source_hidden": true
    },
    "papermill": {
     "duration": 0.56475,
     "end_time": "2021-01-26T10:14:38.425993",
     "exception": false,
     "start_time": "2021-01-26T10:14:37.861243",
     "status": "completed"
    },
    "scrolled": true,
    "tags": [
     "hide-input"
    ]
   },
   "outputs": [],
   "source": [
    "# This is the data for all of Wisconsin.\n",
    "url = \"https://opendata.arcgis.com/datasets/5374188992374b318d3e2305216ee413_12.csv\"\n",
    "data = pd.read_csv(url, parse_dates=['DATE'], low_memory=False)"
   ]
  },
  {
   "cell_type": "code",
   "execution_count": 3,
   "id": "proprietary-klein",
   "metadata": {
    "execution": {
     "iopub.execute_input": "2021-01-26T10:14:38.447769Z",
     "iopub.status.busy": "2021-01-26T10:14:38.447264Z",
     "iopub.status.idle": "2021-01-26T10:14:38.455178Z",
     "shell.execute_reply": "2021-01-26T10:14:38.454623Z"
    },
    "jupyter": {
     "source_hidden": true
    },
    "papermill": {
     "duration": 0.02144,
     "end_time": "2021-01-26T10:14:38.455282",
     "exception": false,
     "start_time": "2021-01-26T10:14:38.433842",
     "status": "completed"
    },
    "scrolled": true,
    "tags": [
     "hide-input"
    ]
   },
   "outputs": [],
   "source": [
    "dc = data.groupby('NAME').get_group('Dunn').sort_values(by='DATE') # Select the data for Dunn County from the full data.\n",
    "PNi = dc.columns.get_loc(\"POS_NEW\")\n",
    "dc['7_DAY'] = dc.iloc[:,PNi].rolling(window=7).mean() # Calculates the rolling 7-day average of new cases.\n",
    "dc['14_DAY'] = dc.iloc[:,PNi].rolling(window=14).mean() # Calculates the rolling 14-day average of new cases."
   ]
  },
  {
   "cell_type": "code",
   "execution_count": 4,
   "id": "steady-supervision",
   "metadata": {
    "execution": {
     "iopub.execute_input": "2021-01-26T10:14:38.476184Z",
     "iopub.status.busy": "2021-01-26T10:14:38.475572Z",
     "iopub.status.idle": "2021-01-26T10:14:38.478001Z",
     "shell.execute_reply": "2021-01-26T10:14:38.478382Z"
    },
    "jupyter": {
     "source_hidden": true
    },
    "papermill": {
     "duration": 0.01584,
     "end_time": "2021-01-26T10:14:38.478506",
     "exception": false,
     "start_time": "2021-01-26T10:14:38.462666",
     "status": "completed"
    },
    "scrolled": true,
    "tags": [
     "hide-input"
    ]
   },
   "outputs": [
    {
     "data": {
      "text/markdown": [
       "### Last updated: January 25, 2021"
      ],
      "text/plain": [
       "<IPython.core.display.Markdown object>"
      ]
     },
     "metadata": {},
     "output_type": "display_data"
    }
   ],
   "source": [
    "display(Markdown('### Last updated: ' + dc.iloc[-1]['DATE'].strftime(\"%B %d, %Y\")))"
   ]
  },
  {
   "cell_type": "code",
   "execution_count": 5,
   "id": "lonely-pitch",
   "metadata": {
    "execution": {
     "iopub.execute_input": "2021-01-26T10:14:38.498675Z",
     "iopub.status.busy": "2021-01-26T10:14:38.498195Z",
     "iopub.status.idle": "2021-01-26T10:14:38.500733Z",
     "shell.execute_reply": "2021-01-26T10:14:38.501125Z"
    },
    "jupyter": {
     "source_hidden": true
    },
    "papermill": {
     "duration": 0.0148,
     "end_time": "2021-01-26T10:14:38.501240",
     "exception": false,
     "start_time": "2021-01-26T10:14:38.486440",
     "status": "completed"
    },
    "tags": [
     "hide-input"
    ]
   },
   "outputs": [
    {
     "data": {
      "text/markdown": [
       "# Dunn County has 3972 total positive cases, with 13 new cases reported today."
      ],
      "text/plain": [
       "<IPython.core.display.Markdown object>"
      ]
     },
     "metadata": {},
     "output_type": "display_data"
    }
   ],
   "source": [
    "display(Markdown('# Dunn County has ' + str(dc.iloc[-1]['POSITIVE']) + ' total positive cases, with '+ str(int(dc.iloc[-1]['POS_NEW'])) + ' new cases reported today.'))"
   ]
  },
  {
   "cell_type": "code",
   "execution_count": 6,
   "id": "compound-nightmare",
   "metadata": {
    "execution": {
     "iopub.execute_input": "2021-01-26T10:14:38.520714Z",
     "iopub.status.busy": "2021-01-26T10:14:38.520243Z",
     "iopub.status.idle": "2021-01-26T10:14:38.806330Z",
     "shell.execute_reply": "2021-01-26T10:14:38.806803Z"
    },
    "jupyter": {
     "source_hidden": true
    },
    "papermill": {
     "duration": 0.297706,
     "end_time": "2021-01-26T10:14:38.806956",
     "exception": false,
     "start_time": "2021-01-26T10:14:38.509250",
     "status": "completed"
    },
    "scrolled": false,
    "tags": [
     "hide-input"
    ]
   },
   "outputs": [
    {
     "data": {
      "image/png": "[encoded data removed]",
      "text/plain": [
       "<Figure size 864x432 with 1 Axes>"
      ]
     },
     "metadata": {
      "needs_background": "light"
     },
     "output_type": "display_data"
    }
   ],
   "source": [
    "dc.plot(x='DATE',y='POSITIVE',color='red',grid='True',figsize=(12,6)).set_xlabel('Date');"
   ]
  },
  {
   "cell_type": "markdown",
   "id": "coupled-literacy",
   "metadata": {
    "papermill": {
     "duration": 0.009932,
     "end_time": "2021-01-26T10:14:38.827183",
     "exception": false,
     "start_time": "2021-01-26T10:14:38.817251",
     "status": "completed"
    },
    "tags": []
   },
   "source": [
    "## Figure 1: Cummulative number of positive cases."
   ]
  },
  {
   "cell_type": "code",
   "execution_count": 7,
   "id": "surrounded-reserve",
   "metadata": {
    "execution": {
     "iopub.execute_input": "2021-01-26T10:14:38.880592Z",
     "iopub.status.busy": "2021-01-26T10:14:38.880071Z",
     "iopub.status.idle": "2021-01-26T10:14:39.125550Z",
     "shell.execute_reply": "2021-01-26T10:14:39.125935Z"
    },
    "jupyter": {
     "source_hidden": true
    },
    "papermill": {
     "duration": 0.263483,
     "end_time": "2021-01-26T10:14:39.126081",
     "exception": false,
     "start_time": "2021-01-26T10:14:38.862598",
     "status": "completed"
    },
    "scrolled": false,
    "tags": [
     "hide-input"
    ]
   },
   "outputs": [
    {
     "data": {
      "image/png": "[encoded data removed]",
      "text/plain": [
       "<Figure size 864x432 with 1 Axes>"
      ]
     },
     "metadata": {
      "needs_background": "light"
     },
     "output_type": "display_data"
    }
   ],
   "source": [
    "dc.plot(kind='line',x='DATE',y='7_DAY',color='blue',grid='True',figsize=(12,6)).set_xlabel('Date');"
   ]
  },
  {
   "cell_type": "markdown",
   "id": "professional-savannah",
   "metadata": {
    "papermill": {
     "duration": 0.010541,
     "end_time": "2021-01-26T10:14:39.146399",
     "exception": false,
     "start_time": "2021-01-26T10:14:39.135858",
     "status": "completed"
    },
    "tags": []
   },
   "source": [
    "## Figure 2: Rolling 7-day average of daily new cases."
   ]
  },
  {
   "cell_type": "code",
   "execution_count": 8,
   "id": "stretch-investor",
   "metadata": {
    "execution": {
     "iopub.execute_input": "2021-01-26T10:14:39.173660Z",
     "iopub.status.busy": "2021-01-26T10:14:39.173147Z",
     "iopub.status.idle": "2021-01-26T10:14:39.418845Z",
     "shell.execute_reply": "2021-01-26T10:14:39.418323Z"
    },
    "jupyter": {
     "source_hidden": true
    },
    "papermill": {
     "duration": 0.260812,
     "end_time": "2021-01-26T10:14:39.418998",
     "exception": false,
     "start_time": "2021-01-26T10:14:39.158186",
     "status": "completed"
    },
    "tags": []
   },
   "outputs": [
    {
     "data": {
      "image/png": "[encoded data removed]",
      "text/plain": [
       "<Figure size 864x432 with 1 Axes>"
      ]
     },
     "metadata": {
      "needs_background": "light"
     },
     "output_type": "display_data"
    }
   ],
   "source": [
    "dc.plot(kind='line',x='DATE',y='14_DAY',color='green',grid='True',figsize=(12,6)).set_xlabel('Date');"
   ]
  },
  {
   "cell_type": "markdown",
   "id": "prerequisite-species",
   "metadata": {
    "papermill": {
     "duration": 0.010538,
     "end_time": "2021-01-26T10:14:39.440200",
     "exception": false,
     "start_time": "2021-01-26T10:14:39.429662",
     "status": "completed"
    },
    "tags": []
   },
   "source": [
    "## Figure 3: Rolling 14-day average of daily new cases."
   ]
  },
  {
   "cell_type": "markdown",
   "id": "palestinian-guard",
   "metadata": {
    "papermill": {
     "duration": 0.010782,
     "end_time": "2021-01-26T10:14:39.461246",
     "exception": false,
     "start_time": "2021-01-26T10:14:39.450464",
     "status": "completed"
    },
    "tags": []
   },
   "source": [
    "Data source: [Wisconsin Department of Health Services](https://data.dhsgis.wi.gov/datasets/covid-19-historical-data-table/)"
   ]
  },
  {
   "cell_type": "code",
   "execution_count": 9,
   "id": "proof-medicare",
   "metadata": {
    "execution": {
     "iopub.execute_input": "2021-01-26T10:14:39.485024Z",
     "iopub.status.busy": "2021-01-26T10:14:39.484523Z",
     "iopub.status.idle": "2021-01-26T10:14:39.487408Z",
     "shell.execute_reply": "2021-01-26T10:14:39.486791Z"
    },
    "jupyter": {
     "source_hidden": true
    },
    "papermill": {
     "duration": 0.01652,
     "end_time": "2021-01-26T10:14:39.487603",
     "exception": false,
     "start_time": "2021-01-26T10:14:39.471083",
     "status": "completed"
    },
    "tags": []
   },
   "outputs": [
    {
     "data": {
      "text/html": [
       "<style>\n",
       "div.input {\n",
       "    display:none;\n",
       "}\n",
       "</style>\n"
      ],
      "text/plain": [
       "<IPython.core.display.HTML object>"
      ]
     },
     "metadata": {},
     "output_type": "display_data"
    }
   ],
   "source": [
    "%%html\n",
    "<style>\n",
    "div.input {\n",
    "    display:none;\n",
    "}\n",
    "</style>"
   ]
  }
 ],
 "metadata": {
  "kernelspec": {
   "display_name": "Python 3",
   "language": "python",
   "name": "python3"
  },
  "language_info": {
   "codemirror_mode": {
    "name": "ipython",
    "version": 3
   },
   "file_extension": ".py",
   "mimetype": "text/x-python",
   "name": "python",
   "nbconvert_exporter": "python",
   "pygments_lexer": "ipython3",
   "version": "3.8.6"
  },
  "papermill": {
   "duration": 4.256666,
   "end_time": "2021-01-26T10:14:39.803740",
   "environment_variables": {},
   "exception": null,
   "input_path": "DunnCounty_COVID19.ipynb",
   "output_path": "DunnCounty_COVID19.ipynb",
   "parameters": {
    "Start": "True",
    "secretsPath": "/home/runner/work/_temp/secrets.json"
   },
   "start_time": "2021-01-26T10:14:35.547074",
   "version": "1.1.16"
  }
 },
 "nbformat": 4,
 "nbformat_minor": 5
}