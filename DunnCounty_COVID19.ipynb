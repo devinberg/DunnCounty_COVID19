{
 "cells": [
  {
   "cell_type": "code",
   "execution_count": 1,
   "id": "solar-understanding",
   "metadata": {
    "execution": {
     "iopub.execute_input": "2021-04-29T22:16:42.885881Z",
     "iopub.status.busy": "2021-04-29T22:16:42.885375Z",
     "iopub.status.idle": "2021-04-29T22:16:43.729126Z",
     "shell.execute_reply": "2021-04-29T22:16:43.727997Z"
    },
    "jupyter": {
     "source_hidden": true
    },
    "papermill": {
     "duration": 0.863343,
     "end_time": "2021-04-29T22:16:43.729273",
     "exception": false,
     "start_time": "2021-04-29T22:16:42.865930",
     "status": "completed"
    },
    "scrolled": true,
    "tags": [
     "hide-input"
    ]
   },
   "outputs": [],
   "source": [
    "import pandas as pd\n",
    "import matplotlib.pyplot as plt\n",
    "from matplotlib import dates\n",
    "from IPython.display import display, Markdown\n",
    "%matplotlib inline"
   ]
  },
  {
   "cell_type": "code",
   "execution_count": 2,
   "id": "purple-playlist",
   "metadata": {
    "execution": {
     "iopub.execute_input": "2021-04-29T22:16:43.751459Z",
     "iopub.status.busy": "2021-04-29T22:16:43.750888Z",
     "iopub.status.idle": "2021-04-29T22:16:44.694860Z",
     "shell.execute_reply": "2021-04-29T22:16:44.694004Z"
    },
    "jupyter": {
     "source_hidden": true
    },
    "papermill": {
     "duration": 0.957136,
     "end_time": "2021-04-29T22:16:44.695091",
     "exception": false,
     "start_time": "2021-04-29T22:16:43.737955",
     "status": "completed"
    },
    "scrolled": true,
    "tags": [
     "hide-input"
    ]
   },
   "outputs": [],
   "source": [
    "# This is the data for all of Wisconsin.\n",
    "url = \"https://opendata.arcgis.com/datasets/0b7bac0afc464e7783474cb62272d9b8_12.csv\"\n",
    "data = pd.read_csv(url, parse_dates=['DATE'], low_memory=False)"
   ]
  },
  {
   "cell_type": "code",
   "execution_count": 3,
   "id": "proprietary-klein",
   "metadata": {
    "execution": {
     "iopub.execute_input": "2021-04-29T22:16:44.719161Z",
     "iopub.status.busy": "2021-04-29T22:16:44.718607Z",
     "iopub.status.idle": "2021-04-29T22:16:44.726527Z",
     "shell.execute_reply": "2021-04-29T22:16:44.726938Z"
    },
    "jupyter": {
     "source_hidden": true
    },
    "papermill": {
     "duration": 0.023108,
     "end_time": "2021-04-29T22:16:44.727106",
     "exception": false,
     "start_time": "2021-04-29T22:16:44.703998",
     "status": "completed"
    },
    "scrolled": true,
    "tags": [
     "hide-input"
    ]
   },
   "outputs": [],
   "source": [
    "dc = data.groupby('NAME').get_group('Dunn').sort_values(by='DATE') # Select the data for Dunn County from the full data.\n",
    "PNi = dc.columns.get_loc(\"POS_NEW\")\n",
    "dc['7_DAY'] = dc.iloc[:,PNi].rolling(window=7).mean() # Calculates the rolling 7-day average of new cases.\n",
    "dc['14_DAY'] = dc.iloc[:,PNi].rolling(window=14).mean() # Calculates the rolling 14-day average of new cases."
   ]
  },
  {
   "cell_type": "code",
   "execution_count": 4,
   "id": "steady-supervision",
   "metadata": {
    "execution": {
     "iopub.execute_input": "2021-04-29T22:16:44.750409Z",
     "iopub.status.busy": "2021-04-29T22:16:44.749967Z",
     "iopub.status.idle": "2021-04-29T22:16:44.754587Z",
     "shell.execute_reply": "2021-04-29T22:16:44.754184Z"
    },
    "jupyter": {
     "source_hidden": true
    },
    "papermill": {
     "duration": 0.019885,
     "end_time": "2021-04-29T22:16:44.754692",
     "exception": false,
     "start_time": "2021-04-29T22:16:44.734807",
     "status": "completed"
    },
    "scrolled": true,
    "tags": [
     "hide-input"
    ]
   },
   "outputs": [
    {
     "data": {
      "text/markdown": [
       "### Last updated: April 29, 2021"
      ],
      "text/plain": [
       "<IPython.core.display.Markdown object>"
      ]
     },
     "metadata": {},
     "output_type": "display_data"
    }
   ],
   "source": [
    "display(Markdown('### Last updated: ' + dc.iloc[-1]['DATE'].strftime(\"%B %d, %Y\")))"
   ]
  },
  {
   "cell_type": "code",
   "execution_count": 5,
   "id": "lonely-pitch",
   "metadata": {
    "execution": {
     "iopub.execute_input": "2021-04-29T22:16:44.774045Z",
     "iopub.status.busy": "2021-04-29T22:16:44.773538Z",
     "iopub.status.idle": "2021-04-29T22:16:44.778665Z",
     "shell.execute_reply": "2021-04-29T22:16:44.778252Z"
    },
    "jupyter": {
     "source_hidden": true
    },
    "papermill": {
     "duration": 0.016925,
     "end_time": "2021-04-29T22:16:44.778771",
     "exception": false,
     "start_time": "2021-04-29T22:16:44.761846",
     "status": "completed"
    },
    "tags": [
     "hide-input"
    ]
   },
   "outputs": [
    {
     "data": {
      "text/markdown": [
       "# Dunn County has 4605 total positive cases, with 2 new cases reported today."
      ],
      "text/plain": [
       "<IPython.core.display.Markdown object>"
      ]
     },
     "metadata": {},
     "output_type": "display_data"
    }
   ],
   "source": [
    "display(Markdown('# Dunn County has ' + str(dc.iloc[-1]['POSITIVE']) + ' total positive cases, with '+ str(int(dc.iloc[-1]['POS_NEW'])) + ' new cases reported today.'))"
   ]
  },
  {
   "cell_type": "code",
   "execution_count": 6,
   "id": "compound-nightmare",
   "metadata": {
    "execution": {
     "iopub.execute_input": "2021-04-29T22:16:44.798547Z",
     "iopub.status.busy": "2021-04-29T22:16:44.797991Z",
     "iopub.status.idle": "2021-04-29T22:16:45.013550Z",
     "shell.execute_reply": "2021-04-29T22:16:45.013161Z"
    },
    "jupyter": {
     "source_hidden": true
    },
    "papermill": {
     "duration": 0.227468,
     "end_time": "2021-04-29T22:16:45.013661",
     "exception": false,
     "start_time": "2021-04-29T22:16:44.786193",
     "status": "completed"
    },
    "scrolled": false,
    "tags": [
     "hide-input"
    ]
   },
   "outputs": [
    {
     "data": {
      "image/png": "[encoded data removed]",
      "text/plain": [
       "<Figure size 864x432 with 1 Axes>"
      ]
     },
     "metadata": {
      "needs_background": "light"
     },
     "output_type": "display_data"
    }
   ],
   "source": [
    "dc.plot(x='DATE',y='POSITIVE',color='red',grid='True',figsize=(12,6)).set_xlabel('Date');"
   ]
  },
  {
   "cell_type": "markdown",
   "id": "coupled-literacy",
   "metadata": {
    "papermill": {
     "duration": 0.009326,
     "end_time": "2021-04-29T22:16:45.032960",
     "exception": false,
     "start_time": "2021-04-29T22:16:45.023634",
     "status": "completed"
    },
    "tags": []
   },
   "source": [
    "## Figure 1: Cummulative number of positive cases."
   ]
  },
  {
   "cell_type": "code",
   "execution_count": 7,
   "id": "surrounded-reserve",
   "metadata": {
    "execution": {
     "iopub.execute_input": "2021-04-29T22:16:45.081072Z",
     "iopub.status.busy": "2021-04-29T22:16:45.076891Z",
     "iopub.status.idle": "2021-04-29T22:16:45.222088Z",
     "shell.execute_reply": "2021-04-29T22:16:45.222438Z"
    },
    "jupyter": {
     "source_hidden": true
    },
    "papermill": {
     "duration": 0.180329,
     "end_time": "2021-04-29T22:16:45.222590",
     "exception": false,
     "start_time": "2021-04-29T22:16:45.042261",
     "status": "completed"
    },
    "scrolled": false,
    "tags": [
     "hide-input"
    ]
   },
   "outputs": [
    {
     "data": {
      "image/png": "[encoded data removed]",
      "text/plain": [
       "<Figure size 864x432 with 1 Axes>"
      ]
     },
     "metadata": {
      "needs_background": "light"
     },
     "output_type": "display_data"
    }
   ],
   "source": [
    "dc.plot(kind='line',x='DATE',y='7_DAY',color='blue',grid='True',figsize=(12,6)).set_xlabel('Date');"
   ]
  },
  {
   "cell_type": "markdown",
   "id": "professional-savannah",
   "metadata": {
    "papermill": {
     "duration": 0.010209,
     "end_time": "2021-04-29T22:16:45.242300",
     "exception": false,
     "start_time": "2021-04-29T22:16:45.232091",
     "status": "completed"
    },
    "tags": []
   },
   "source": [
    "## Figure 2: Rolling 7-day average of daily new cases."
   ]
  },
  {
   "cell_type": "code",
   "execution_count": 8,
   "id": "stretch-investor",
   "metadata": {
    "execution": {
     "iopub.execute_input": "2021-04-29T22:16:45.279743Z",
     "iopub.status.busy": "2021-04-29T22:16:45.279096Z",
     "iopub.status.idle": "2021-04-29T22:16:45.434398Z",
     "shell.execute_reply": "2021-04-29T22:16:45.433615Z"
    },
    "jupyter": {
     "source_hidden": true
    },
    "papermill": {
     "duration": 0.183249,
     "end_time": "2021-04-29T22:16:45.434597",
     "exception": false,
     "start_time": "2021-04-29T22:16:45.251348",
     "status": "completed"
    },
    "tags": []
   },
   "outputs": [
    {
     "data": {
      "image/png": "[encoded data removed]",
      "text/plain": [
       "<Figure size 864x432 with 1 Axes>"
      ]
     },
     "metadata": {
      "needs_background": "light"
     },
     "output_type": "display_data"
    }
   ],
   "source": [
    "dc.plot(kind='line',x='DATE',y='14_DAY',color='green',grid='True',figsize=(12,6)).set_xlabel('Date');"
   ]
  },
  {
   "cell_type": "markdown",
   "id": "prerequisite-species",
   "metadata": {
    "papermill": {
     "duration": 0.011792,
     "end_time": "2021-04-29T22:16:45.460166",
     "exception": false,
     "start_time": "2021-04-29T22:16:45.448374",
     "status": "completed"
    },
    "tags": []
   },
   "source": [
    "## Figure 3: Rolling 14-day average of daily new cases."
   ]
  },
  {
   "cell_type": "markdown",
   "id": "palestinian-guard",
   "metadata": {
    "papermill": {
     "duration": 0.012176,
     "end_time": "2021-04-29T22:16:45.484323",
     "exception": false,
     "start_time": "2021-04-29T22:16:45.472147",
     "status": "completed"
    },
    "tags": []
   },
   "source": [
    "Data source: [Wisconsin Department of Health Services](https://data.dhsgis.wi.gov/datasets/covid-19-historical-data-by-county)"
   ]
  },
  {
   "cell_type": "code",
   "execution_count": 9,
   "id": "proof-medicare",
   "metadata": {
    "execution": {
     "iopub.execute_input": "2021-04-29T22:16:45.514305Z",
     "iopub.status.busy": "2021-04-29T22:16:45.513763Z",
     "iopub.status.idle": "2021-04-29T22:16:45.517176Z",
     "shell.execute_reply": "2021-04-29T22:16:45.517683Z"
    },
    "jupyter": {
     "source_hidden": true
    },
    "papermill": {
     "duration": 0.021387,
     "end_time": "2021-04-29T22:16:45.517818",
     "exception": false,
     "start_time": "2021-04-29T22:16:45.496431",
     "status": "completed"
    },
    "tags": []
   },
   "outputs": [
    {
     "data": {
      "text/html": [
       "<style>\n",
       "div.input {\n",
       "    display:none;\n",
       "}\n",
       "</style>\n"
      ],
      "text/plain": [
       "<IPython.core.display.HTML object>"
      ]
     },
     "metadata": {},
     "output_type": "display_data"
    }
   ],
   "source": [
    "%%html\n",
    "<style>\n",
    "div.input {\n",
    "    display:none;\n",
    "}\n",
    "</style>"
   ]
  }
 ],
 "metadata": {
  "kernelspec": {
   "display_name": "Python 3",
   "language": "python",
   "name": "python3"
  },
  "language_info": {
   "codemirror_mode": {
    "name": "ipython",
    "version": 3
   },
   "file_extension": ".py",
   "mimetype": "text/x-python",
   "name": "python",
   "nbconvert_exporter": "python",
   "pygments_lexer": "ipython3",
   "version": "3.8.9"
  },
  "papermill": {
   "duration": 4.141194,
   "end_time": "2021-04-29T22:16:45.840798",
   "environment_variables": {},
   "exception": null,
   "input_path": "DunnCounty_COVID19.ipynb",
   "output_path": "DunnCounty_COVID19.ipynb",
   "parameters": {
    "Start": "True",
    "secretsPath": "/home/runner/work/_temp/secrets.json"
   },
   "start_time": "2021-04-29T22:16:41.699604",
   "version": "1.1.16"
  }
 },
 "nbformat": 4,
 "nbformat_minor": 5
}