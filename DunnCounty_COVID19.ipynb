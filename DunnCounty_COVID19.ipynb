{
 "cells": [
  {
   "cell_type": "code",
   "execution_count": 1,
   "id": "solar-understanding",
   "metadata": {
    "execution": {
     "iopub.execute_input": "2021-07-19T10:12:39.546020Z",
     "iopub.status.busy": "2021-07-19T10:12:39.543418Z",
     "iopub.status.idle": "2021-07-19T10:12:40.693349Z",
     "shell.execute_reply": "2021-07-19T10:12:40.693757Z"
    },
    "jupyter": {
     "source_hidden": true
    },
    "papermill": {
     "duration": 1.173119,
     "end_time": "2021-07-19T10:12:40.693996",
     "exception": false,
     "start_time": "2021-07-19T10:12:39.520877",
     "status": "completed"
    },
    "scrolled": true,
    "tags": [
     "hide-input"
    ]
   },
   "outputs": [],
   "source": [
    "import pandas as pd\n",
    "import matplotlib.pyplot as plt\n",
    "from matplotlib import dates\n",
    "from IPython.display import display, Markdown\n",
    "%matplotlib inline"
   ]
  },
  {
   "cell_type": "code",
   "execution_count": 2,
   "id": "purple-playlist",
   "metadata": {
    "execution": {
     "iopub.execute_input": "2021-07-19T10:12:40.719192Z",
     "iopub.status.busy": "2021-07-19T10:12:40.718651Z",
     "iopub.status.idle": "2021-07-19T10:12:42.190556Z",
     "shell.execute_reply": "2021-07-19T10:12:42.189527Z"
    },
    "jupyter": {
     "source_hidden": true
    },
    "papermill": {
     "duration": 1.487238,
     "end_time": "2021-07-19T10:12:42.190773",
     "exception": false,
     "start_time": "2021-07-19T10:12:40.703535",
     "status": "completed"
    },
    "scrolled": true,
    "tags": [
     "hide-input"
    ]
   },
   "outputs": [],
   "source": [
    "# This is the data for all of Wisconsin.\n",
    "url = \"https://opendata.arcgis.com/api/v3/datasets/3161f6e01d8141c6abe85a29ff7f3d3c_12/downloads/data?format=csv&spatialRefId=3857\"\n",
    "data = pd.read_csv(url, parse_dates=['DATE'], low_memory=False)"
   ]
  },
  {
   "cell_type": "code",
   "execution_count": 3,
   "id": "proprietary-klein",
   "metadata": {
    "execution": {
     "iopub.execute_input": "2021-07-19T10:12:42.218716Z",
     "iopub.status.busy": "2021-07-19T10:12:42.218164Z",
     "iopub.status.idle": "2021-07-19T10:12:42.226728Z",
     "shell.execute_reply": "2021-07-19T10:12:42.226288Z"
    },
    "jupyter": {
     "source_hidden": true
    },
    "papermill": {
     "duration": 0.025202,
     "end_time": "2021-07-19T10:12:42.226851",
     "exception": false,
     "start_time": "2021-07-19T10:12:42.201649",
     "status": "completed"
    },
    "scrolled": true,
    "tags": [
     "hide-input"
    ]
   },
   "outputs": [],
   "source": [
    "dc = data.groupby('NAME').get_group('Dunn').sort_values(by='DATE') # Select the data for Dunn County from the full data.\n",
    "PNi = dc.columns.get_loc(\"POS_NEW\")\n",
    "dc['7_DAY'] = dc.iloc[:,PNi].rolling(window=7).mean() # Calculates the rolling 7-day average of new cases.\n",
    "dc['14_DAY'] = dc.iloc[:,PNi].rolling(window=14).mean() # Calculates the rolling 14-day average of new cases."
   ]
  },
  {
   "cell_type": "code",
   "execution_count": 4,
   "id": "steady-supervision",
   "metadata": {
    "execution": {
     "iopub.execute_input": "2021-07-19T10:12:42.251847Z",
     "iopub.status.busy": "2021-07-19T10:12:42.250770Z",
     "iopub.status.idle": "2021-07-19T10:12:42.253260Z",
     "shell.execute_reply": "2021-07-19T10:12:42.253680Z"
    },
    "jupyter": {
     "source_hidden": true
    },
    "papermill": {
     "duration": 0.018572,
     "end_time": "2021-07-19T10:12:42.253826",
     "exception": false,
     "start_time": "2021-07-19T10:12:42.235254",
     "status": "completed"
    },
    "scrolled": true,
    "tags": [
     "hide-input"
    ]
   },
   "outputs": [
    {
     "data": {
      "text/markdown": [
       "### Last updated: July 16, 2021"
      ],
      "text/plain": [
       "<IPython.core.display.Markdown object>"
      ]
     },
     "metadata": {},
     "output_type": "display_data"
    }
   ],
   "source": [
    "display(Markdown('### Last updated: ' + dc.iloc[-1]['DATE'].strftime(\"%B %d, %Y\")))"
   ]
  },
  {
   "cell_type": "code",
   "execution_count": 5,
   "id": "lonely-pitch",
   "metadata": {
    "execution": {
     "iopub.execute_input": "2021-07-19T10:12:42.278228Z",
     "iopub.status.busy": "2021-07-19T10:12:42.277572Z",
     "iopub.status.idle": "2021-07-19T10:12:42.281313Z",
     "shell.execute_reply": "2021-07-19T10:12:42.280862Z"
    },
    "jupyter": {
     "source_hidden": true
    },
    "papermill": {
     "duration": 0.017426,
     "end_time": "2021-07-19T10:12:42.281431",
     "exception": false,
     "start_time": "2021-07-19T10:12:42.264005",
     "status": "completed"
    },
    "tags": [
     "hide-input"
    ]
   },
   "outputs": [
    {
     "data": {
      "text/markdown": [
       "# Dunn County has 4741 total positive cases, with 4 new cases reported today."
      ],
      "text/plain": [
       "<IPython.core.display.Markdown object>"
      ]
     },
     "metadata": {},
     "output_type": "display_data"
    }
   ],
   "source": [
    "display(Markdown('# Dunn County has ' + str(dc.iloc[-1]['POSITIVE']) + ' total positive cases, with '+ str(int(dc.iloc[-1]['POS_NEW'])) + ' new cases reported today.'))"
   ]
  },
  {
   "cell_type": "code",
   "execution_count": 6,
   "id": "compound-nightmare",
   "metadata": {
    "execution": {
     "iopub.execute_input": "2021-07-19T10:12:42.304558Z",
     "iopub.status.busy": "2021-07-19T10:12:42.304027Z",
     "iopub.status.idle": "2021-07-19T10:12:42.741311Z",
     "shell.execute_reply": "2021-07-19T10:12:42.741945Z"
    },
    "jupyter": {
     "source_hidden": true
    },
    "papermill": {
     "duration": 0.450998,
     "end_time": "2021-07-19T10:12:42.742089",
     "exception": false,
     "start_time": "2021-07-19T10:12:42.291091",
     "status": "completed"
    },
    "scrolled": false,
    "tags": [
     "hide-input"
    ]
   },
   "outputs": [
    {
     "data": {
      "image/png": "[encoded data removed]",
      "text/plain": [
       "<Figure size 864x432 with 1 Axes>"
      ]
     },
     "metadata": {
      "needs_background": "light"
     },
     "output_type": "display_data"
    }
   ],
   "source": [
    "dc.plot(x='DATE',y='POSITIVE',color='red',grid='True',figsize=(12,6)).set_xlabel('Date');"
   ]
  },
  {
   "cell_type": "markdown",
   "id": "coupled-literacy",
   "metadata": {
    "papermill": {
     "duration": 0.010553,
     "end_time": "2021-07-19T10:12:42.763047",
     "exception": false,
     "start_time": "2021-07-19T10:12:42.752494",
     "status": "completed"
    },
    "tags": []
   },
   "source": [
    "## Figure 1: Cummulative number of positive cases."
   ]
  },
  {
   "cell_type": "code",
   "execution_count": 7,
   "id": "surrounded-reserve",
   "metadata": {
    "execution": {
     "iopub.execute_input": "2021-07-19T10:12:42.792647Z",
     "iopub.status.busy": "2021-07-19T10:12:42.788968Z",
     "iopub.status.idle": "2021-07-19T10:12:43.013422Z",
     "shell.execute_reply": "2021-07-19T10:12:43.012975Z"
    },
    "jupyter": {
     "source_hidden": true
    },
    "papermill": {
     "duration": 0.240118,
     "end_time": "2021-07-19T10:12:43.013534",
     "exception": false,
     "start_time": "2021-07-19T10:12:42.773416",
     "status": "completed"
    },
    "scrolled": false,
    "tags": [
     "hide-input"
    ]
   },
   "outputs": [
    {
     "data": {
      "image/png": "[encoded data removed]",
      "text/plain": [
       "<Figure size 864x432 with 1 Axes>"
      ]
     },
     "metadata": {
      "needs_background": "light"
     },
     "output_type": "display_data"
    }
   ],
   "source": [
    "dc.plot(kind='line',x='DATE',y='7_DAY',color='blue',grid='True',figsize=(12,6)).set_xlabel('Date');"
   ]
  },
  {
   "cell_type": "markdown",
   "id": "professional-savannah",
   "metadata": {
    "papermill": {
     "duration": 0.011066,
     "end_time": "2021-07-19T10:12:43.036530",
     "exception": false,
     "start_time": "2021-07-19T10:12:43.025464",
     "status": "completed"
    },
    "tags": []
   },
   "source": [
    "## Figure 2: Rolling 7-day average of daily new cases."
   ]
  },
  {
   "cell_type": "code",
   "execution_count": 8,
   "id": "stretch-investor",
   "metadata": {
    "execution": {
     "iopub.execute_input": "2021-07-19T10:12:43.065423Z",
     "iopub.status.busy": "2021-07-19T10:12:43.064875Z",
     "iopub.status.idle": "2021-07-19T10:12:43.279588Z",
     "shell.execute_reply": "2021-07-19T10:12:43.280010Z"
    },
    "jupyter": {
     "source_hidden": true
    },
    "papermill": {
     "duration": 0.232357,
     "end_time": "2021-07-19T10:12:43.280155",
     "exception": false,
     "start_time": "2021-07-19T10:12:43.047798",
     "status": "completed"
    },
    "tags": []
   },
   "outputs": [
    {
     "data": {
      "image/png": "[encoded data removed]",
      "text/plain": [
       "<Figure size 864x432 with 1 Axes>"
      ]
     },
     "metadata": {
      "needs_background": "light"
     },
     "output_type": "display_data"
    }
   ],
   "source": [
    "dc.plot(kind='line',x='DATE',y='14_DAY',color='green',grid='True',figsize=(12,6)).set_xlabel('Date');"
   ]
  },
  {
   "cell_type": "markdown",
   "id": "prerequisite-species",
   "metadata": {
    "papermill": {
     "duration": 0.013222,
     "end_time": "2021-07-19T10:12:43.307007",
     "exception": false,
     "start_time": "2021-07-19T10:12:43.293785",
     "status": "completed"
    },
    "tags": []
   },
   "source": [
    "## Figure 3: Rolling 14-day average of daily new cases."
   ]
  },
  {
   "cell_type": "markdown",
   "id": "palestinian-guard",
   "metadata": {
    "papermill": {
     "duration": 0.012701,
     "end_time": "2021-07-19T10:12:43.331759",
     "exception": false,
     "start_time": "2021-07-19T10:12:43.319058",
     "status": "completed"
    },
    "tags": []
   },
   "source": [
    "Data source: [Wisconsin Department of Health Services](https://data.dhsgis.wi.gov/datasets/wi-dhs::covid-19-historical-data-by-county-1)"
   ]
  },
  {
   "cell_type": "code",
   "execution_count": 9,
   "id": "proof-medicare",
   "metadata": {
    "execution": {
     "iopub.execute_input": "2021-07-19T10:12:43.363653Z",
     "iopub.status.busy": "2021-07-19T10:12:43.363120Z",
     "iopub.status.idle": "2021-07-19T10:12:43.365860Z",
     "shell.execute_reply": "2021-07-19T10:12:43.366251Z"
    },
    "jupyter": {
     "source_hidden": true
    },
    "papermill": {
     "duration": 0.021909,
     "end_time": "2021-07-19T10:12:43.366384",
     "exception": false,
     "start_time": "2021-07-19T10:12:43.344475",
     "status": "completed"
    },
    "tags": []
   },
   "outputs": [
    {
     "data": {
      "text/html": [
       "<style>\n",
       "div.input {\n",
       "    display:none;\n",
       "}\n",
       "</style>\n"
      ],
      "text/plain": [
       "<IPython.core.display.HTML object>"
      ]
     },
     "metadata": {},
     "output_type": "display_data"
    }
   ],
   "source": [
    "%%html\n",
    "<style>\n",
    "div.input {\n",
    "    display:none;\n",
    "}\n",
    "</style>"
   ]
  }
 ],
 "metadata": {
  "kernelspec": {
   "display_name": "Python 3",
   "language": "python",
   "name": "python3"
  },
  "language_info": {
   "codemirror_mode": {
    "name": "ipython",
    "version": 3
   },
   "file_extension": ".py",
   "mimetype": "text/x-python",
   "name": "python",
   "nbconvert_exporter": "python",
   "pygments_lexer": "ipython3",
   "version": "3.8.11"
  },
  "papermill": {
   "duration": 5.628232,
   "end_time": "2021-07-19T10:12:43.586180",
   "environment_variables": {},
   "exception": null,
   "input_path": "DunnCounty_COVID19.ipynb",
   "output_path": "DunnCounty_COVID19.ipynb",
   "parameters": {
    "Start": "True",
    "secretsPath": "/home/runner/work/_temp/secrets.json"
   },
   "start_time": "2021-07-19T10:12:37.957948",
   "version": "1.1.16"
  }
 },
 "nbformat": 4,
 "nbformat_minor": 5
}