{
 "cells": [
  {
   "cell_type": "code",
   "execution_count": 1,
   "metadata": {
    "execution": {
     "iopub.execute_input": "2020-11-05T22:17:11.039832Z",
     "iopub.status.busy": "2020-11-05T22:17:11.038468Z",
     "iopub.status.idle": "2020-11-05T22:17:15.216755Z",
     "shell.execute_reply": "2020-11-05T22:17:15.216200Z"
    },
    "jupyter": {
     "source_hidden": true
    },
    "papermill": {
     "duration": 4.205021,
     "end_time": "2020-11-05T22:17:15.216920",
     "exception": false,
     "start_time": "2020-11-05T22:17:11.011899",
     "status": "completed"
    },
    "scrolled": true,
    "tags": [
     "hide-input"
    ]
   },
   "outputs": [],
   "source": [
    "import pandas as pd\n",
    "import matplotlib.pyplot as plt\n",
    "from matplotlib import dates\n",
    "from IPython.display import display, Markdown\n",
    "%matplotlib inline"
   ]
  },
  {
   "cell_type": "code",
   "execution_count": 2,
   "metadata": {
    "execution": {
     "iopub.execute_input": "2020-11-05T22:17:15.235603Z",
     "iopub.status.busy": "2020-11-05T22:17:15.235133Z",
     "iopub.status.idle": "2020-11-05T22:17:16.110727Z",
     "shell.execute_reply": "2020-11-05T22:17:16.110194Z"
    },
    "jupyter": {
     "source_hidden": true
    },
    "papermill": {
     "duration": 0.887499,
     "end_time": "2020-11-05T22:17:16.110869",
     "exception": false,
     "start_time": "2020-11-05T22:17:15.223370",
     "status": "completed"
    },
    "scrolled": true,
    "tags": [
     "hide-input"
    ]
   },
   "outputs": [],
   "source": [
    "# This is the data for all of Wisconsin.\n",
    "url = \"https://opendata.arcgis.com/datasets/5374188992374b318d3e2305216ee413_12.csv\"\n",
    "data = pd.read_csv(url, parse_dates=['DATE'], low_memory=False)"
   ]
  },
  {
   "cell_type": "code",
   "execution_count": 3,
   "metadata": {
    "execution": {
     "iopub.execute_input": "2020-11-05T22:17:16.129582Z",
     "iopub.status.busy": "2020-11-05T22:17:16.129111Z",
     "iopub.status.idle": "2020-11-05T22:17:16.137342Z",
     "shell.execute_reply": "2020-11-05T22:17:16.136944Z"
    },
    "jupyter": {
     "source_hidden": true
    },
    "papermill": {
     "duration": 0.019333,
     "end_time": "2020-11-05T22:17:16.137443",
     "exception": false,
     "start_time": "2020-11-05T22:17:16.118110",
     "status": "completed"
    },
    "scrolled": true,
    "tags": [
     "hide-input"
    ]
   },
   "outputs": [],
   "source": [
    "dc = data.groupby('NAME').get_group('Dunn').sort_values(by='DATE') # Select the data for Dunn County from the full data.\n",
    "PNi = dc.columns.get_loc(\"POS_NEW\")\n",
    "dc['7_DAY'] = dc.iloc[:,PNi].rolling(window=7).mean() # Calculates the rolling 7-day average of new cases.\n",
    "dc['14_DAY'] = dc.iloc[:,PNi].rolling(window=14).mean() # Calculates the rolling 14-day average of new cases."
   ]
  },
  {
   "cell_type": "code",
   "execution_count": 4,
   "metadata": {
    "execution": {
     "iopub.execute_input": "2020-11-05T22:17:16.154717Z",
     "iopub.status.busy": "2020-11-05T22:17:16.154211Z",
     "iopub.status.idle": "2020-11-05T22:17:16.156601Z",
     "shell.execute_reply": "2020-11-05T22:17:16.156980Z"
    },
    "jupyter": {
     "source_hidden": true
    },
    "papermill": {
     "duration": 0.013661,
     "end_time": "2020-11-05T22:17:16.157094",
     "exception": false,
     "start_time": "2020-11-05T22:17:16.143433",
     "status": "completed"
    },
    "scrolled": true,
    "tags": [
     "hide-input"
    ]
   },
   "outputs": [
    {
     "data": {
      "text/markdown": [
       "### Last updated: November 05, 2020"
      ],
      "text/plain": [
       "<IPython.core.display.Markdown object>"
      ]
     },
     "metadata": {},
     "output_type": "display_data"
    }
   ],
   "source": [
    "display(Markdown('### Last updated: ' + dc.iloc[-1]['DATE'].strftime(\"%B %d, %Y\")))"
   ]
  },
  {
   "cell_type": "code",
   "execution_count": 5,
   "metadata": {
    "execution": {
     "iopub.execute_input": "2020-11-05T22:17:16.174031Z",
     "iopub.status.busy": "2020-11-05T22:17:16.173586Z",
     "iopub.status.idle": "2020-11-05T22:17:16.176671Z",
     "shell.execute_reply": "2020-11-05T22:17:16.176275Z"
    },
    "jupyter": {
     "source_hidden": true
    },
    "papermill": {
     "duration": 0.013157,
     "end_time": "2020-11-05T22:17:16.176765",
     "exception": false,
     "start_time": "2020-11-05T22:17:16.163608",
     "status": "completed"
    },
    "tags": [
     "hide-input"
    ]
   },
   "outputs": [
    {
     "data": {
      "text/markdown": [
       "# Dunn County has 1439 total positive cases, with 63 new cases reported today."
      ],
      "text/plain": [
       "<IPython.core.display.Markdown object>"
      ]
     },
     "metadata": {},
     "output_type": "display_data"
    }
   ],
   "source": [
    "display(Markdown('# Dunn County has ' + str(dc.iloc[-1]['POSITIVE']) + ' total positive cases, with '+ str(int(dc.iloc[-1]['POS_NEW'])) + ' new cases reported today.'))"
   ]
  },
  {
   "cell_type": "code",
   "execution_count": 6,
   "metadata": {
    "execution": {
     "iopub.execute_input": "2020-11-05T22:17:16.193219Z",
     "iopub.status.busy": "2020-11-05T22:17:16.192714Z",
     "iopub.status.idle": "2020-11-05T22:17:16.387471Z",
     "shell.execute_reply": "2020-11-05T22:17:16.387907Z"
    },
    "jupyter": {
     "source_hidden": true
    },
    "papermill": {
     "duration": 0.204643,
     "end_time": "2020-11-05T22:17:16.388068",
     "exception": false,
     "start_time": "2020-11-05T22:17:16.183425",
     "status": "completed"
    },
    "scrolled": false,
    "tags": [
     "hide-input"
    ]
   },
   "outputs": [
    {
     "data": {
      "image/png": "[encoded data removed]",
      "text/plain": [
       "<Figure size 864x432 with 1 Axes>"
      ]
     },
     "metadata": {
      "needs_background": "light"
     },
     "output_type": "display_data"
    }
   ],
   "source": [
    "dc.plot(x='DATE',y='POSITIVE',color='red',grid='True',figsize=(12,6)).set_xlabel('Date');"
   ]
  },
  {
   "cell_type": "markdown",
   "metadata": {
    "papermill": {
     "duration": 0.00774,
     "end_time": "2020-11-05T22:17:16.404081",
     "exception": false,
     "start_time": "2020-11-05T22:17:16.396341",
     "status": "completed"
    },
    "tags": []
   },
   "source": [
    "## Figure 1: Cummulative number of positive cases."
   ]
  },
  {
   "cell_type": "code",
   "execution_count": 7,
   "metadata": {
    "execution": {
     "iopub.execute_input": "2020-11-05T22:17:16.423070Z",
     "iopub.status.busy": "2020-11-05T22:17:16.422609Z",
     "iopub.status.idle": "2020-11-05T22:17:16.597085Z",
     "shell.execute_reply": "2020-11-05T22:17:16.596660Z"
    },
    "jupyter": {
     "source_hidden": true
    },
    "papermill": {
     "duration": 0.185552,
     "end_time": "2020-11-05T22:17:16.597199",
     "exception": false,
     "start_time": "2020-11-05T22:17:16.411647",
     "status": "completed"
    },
    "scrolled": false,
    "tags": [
     "hide-input"
    ]
   },
   "outputs": [
    {
     "data": {
      "image/png": "[encoded data removed]",
      "text/plain": [
       "<Figure size 864x432 with 1 Axes>"
      ]
     },
     "metadata": {
      "needs_background": "light"
     },
     "output_type": "display_data"
    }
   ],
   "source": [
    "dc.plot(kind='line',x='DATE',y='7_DAY',color='blue',grid='True',figsize=(12,6)).set_xlabel('Date');"
   ]
  },
  {
   "cell_type": "markdown",
   "metadata": {
    "papermill": {
     "duration": 0.008293,
     "end_time": "2020-11-05T22:17:16.613976",
     "exception": false,
     "start_time": "2020-11-05T22:17:16.605683",
     "status": "completed"
    },
    "tags": []
   },
   "source": [
    "## Figure 2: Rolling 7-day average of daily new cases."
   ]
  },
  {
   "cell_type": "code",
   "execution_count": 8,
   "metadata": {
    "execution": {
     "iopub.execute_input": "2020-11-05T22:17:16.634861Z",
     "iopub.status.busy": "2020-11-05T22:17:16.633810Z",
     "iopub.status.idle": "2020-11-05T22:17:16.815793Z",
     "shell.execute_reply": "2020-11-05T22:17:16.816219Z"
    },
    "jupyter": {
     "source_hidden": true
    },
    "papermill": {
     "duration": 0.194272,
     "end_time": "2020-11-05T22:17:16.816370",
     "exception": false,
     "start_time": "2020-11-05T22:17:16.622098",
     "status": "completed"
    },
    "tags": []
   },
   "outputs": [
    {
     "data": {
      "image/png": "[encoded data removed]",
      "text/plain": [
       "<Figure size 864x432 with 1 Axes>"
      ]
     },
     "metadata": {
      "needs_background": "light"
     },
     "output_type": "display_data"
    }
   ],
   "source": [
    "dc.plot(kind='line',x='DATE',y='14_DAY',color='green',grid='True',figsize=(12,6)).set_xlabel('Date');"
   ]
  },
  {
   "cell_type": "markdown",
   "metadata": {
    "papermill": {
     "duration": 0.009186,
     "end_time": "2020-11-05T22:17:16.834859",
     "exception": false,
     "start_time": "2020-11-05T22:17:16.825673",
     "status": "completed"
    },
    "tags": []
   },
   "source": [
    "## Figure 3: Rolling 14-day average of daily new cases."
   ]
  },
  {
   "cell_type": "markdown",
   "metadata": {
    "papermill": {
     "duration": 0.008819,
     "end_time": "2020-11-05T22:17:16.852636",
     "exception": false,
     "start_time": "2020-11-05T22:17:16.843817",
     "status": "completed"
    },
    "tags": []
   },
   "source": [
    "Data source: [Wisconsin Department of Health Services](https://data.dhsgis.wi.gov/datasets/covid-19-historical-data-table/)"
   ]
  },
  {
   "cell_type": "code",
   "execution_count": 9,
   "metadata": {
    "execution": {
     "iopub.execute_input": "2020-11-05T22:17:16.873894Z",
     "iopub.status.busy": "2020-11-05T22:17:16.873440Z",
     "iopub.status.idle": "2020-11-05T22:17:16.876893Z",
     "shell.execute_reply": "2020-11-05T22:17:16.877265Z"
    },
    "jupyter": {
     "source_hidden": true
    },
    "papermill": {
     "duration": 0.015738,
     "end_time": "2020-11-05T22:17:16.877379",
     "exception": false,
     "start_time": "2020-11-05T22:17:16.861641",
     "status": "completed"
    },
    "tags": []
   },
   "outputs": [
    {
     "data": {
      "text/html": [
       "<style>\n",
       "div.input {\n",
       "    display:none;\n",
       "}\n",
       "</style>\n"
      ],
      "text/plain": [
       "<IPython.core.display.HTML object>"
      ]
     },
     "metadata": {},
     "output_type": "display_data"
    }
   ],
   "source": [
    "%%html\n",
    "<style>\n",
    "div.input {\n",
    "    display:none;\n",
    "}\n",
    "</style>"
   ]
  }
 ],
 "metadata": {
  "kernelspec": {
   "display_name": "Python 3",
   "language": "python",
   "name": "python3"
  },
  "language_info": {
   "codemirror_mode": {
    "name": "ipython",
    "version": 3
   },
   "file_extension": ".py",
   "mimetype": "text/x-python",
   "name": "python",
   "nbconvert_exporter": "python",
   "pygments_lexer": "ipython3",
   "version": "3.8.6"
  },
  "papermill": {
   "duration": 8.856425,
   "end_time": "2020-11-05T22:17:17.192878",
   "environment_variables": {},
   "exception": null,
   "input_path": "DunnCounty_COVID19.ipynb",
   "output_path": "DunnCounty_COVID19.ipynb",
   "parameters": {
    "Start": "True",
    "secretsPath": "/home/runner/work/_temp/secrets.json"
   },
   "start_time": "2020-11-05T22:17:08.336453",
   "version": "1.1.16"
  }
 },
 "nbformat": 4,
 "nbformat_minor": 2
}