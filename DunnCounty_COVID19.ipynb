{
 "cells": [
  {
   "cell_type": "code",
   "execution_count": 1,
   "metadata": {
    "execution": {
     "iopub.execute_input": "2020-09-12T10:09:36.448009Z",
     "iopub.status.busy": "2020-09-12T10:09:36.447419Z",
     "iopub.status.idle": "2020-09-12T10:09:39.948183Z",
     "shell.execute_reply": "2020-09-12T10:09:39.948660Z"
    },
    "jupyter": {
     "source_hidden": true
    },
    "papermill": {
     "duration": 3.519047,
     "end_time": "2020-09-12T10:09:39.948961",
     "exception": false,
     "start_time": "2020-09-12T10:09:36.429914",
     "status": "completed"
    },
    "scrolled": true,
    "tags": [
     "hide-input"
    ]
   },
   "outputs": [],
   "source": [
    "import pandas as pd\n",
    "import matplotlib.pyplot as plt\n",
    "from matplotlib import dates\n",
    "from IPython.display import display, Markdown\n",
    "%matplotlib inline"
   ]
  },
  {
   "cell_type": "code",
   "execution_count": 2,
   "metadata": {
    "execution": {
     "iopub.execute_input": "2020-09-12T10:09:39.971018Z",
     "iopub.status.busy": "2020-09-12T10:09:39.970449Z",
     "iopub.status.idle": "2020-09-12T10:09:42.729623Z",
     "shell.execute_reply": "2020-09-12T10:09:42.729012Z"
    },
    "jupyter": {
     "source_hidden": true
    },
    "papermill": {
     "duration": 2.772334,
     "end_time": "2020-09-12T10:09:42.729770",
     "exception": false,
     "start_time": "2020-09-12T10:09:39.957436",
     "status": "completed"
    },
    "scrolled": true,
    "tags": [
     "hide-input"
    ]
   },
   "outputs": [],
   "source": [
    "# This is the data for all of Wisconsin.\n",
    "url = \"https://opendata.arcgis.com/datasets/b913e9591eae4912b33dc5b4e88646c5_10.csv\"\n",
    "data = pd.read_csv(url, parse_dates=['DATE'], low_memory=False)"
   ]
  },
  {
   "cell_type": "code",
   "execution_count": 3,
   "metadata": {
    "execution": {
     "iopub.execute_input": "2020-09-12T10:09:42.762057Z",
     "iopub.status.busy": "2020-09-12T10:09:42.761465Z",
     "iopub.status.idle": "2020-09-12T10:09:42.771908Z",
     "shell.execute_reply": "2020-09-12T10:09:42.771380Z"
    },
    "jupyter": {
     "source_hidden": true
    },
    "papermill": {
     "duration": 0.033815,
     "end_time": "2020-09-12T10:09:42.772048",
     "exception": false,
     "start_time": "2020-09-12T10:09:42.738233",
     "status": "completed"
    },
    "scrolled": true,
    "tags": [
     "hide-input"
    ]
   },
   "outputs": [],
   "source": [
    "dc = data.groupby('NAME').get_group('Dunn').sort_values(by='DATE') # Select the data for Dunn County from the full data.\n",
    "PNi = dc.columns.get_loc(\"POS_NEW\")\n",
    "dc['7_DAY'] = dc.iloc[:,PNi].rolling(window=7).mean() # Calculates the rolling 7-day average of new cases.\n",
    "dc['14_DAY'] = dc.iloc[:,PNi].rolling(window=14).mean() # Calculates the rolling 14-day average of new cases."
   ]
  },
  {
   "cell_type": "code",
   "execution_count": 4,
   "metadata": {
    "execution": {
     "iopub.execute_input": "2020-09-12T10:09:42.794508Z",
     "iopub.status.busy": "2020-09-12T10:09:42.793929Z",
     "iopub.status.idle": "2020-09-12T10:09:42.800549Z",
     "shell.execute_reply": "2020-09-12T10:09:42.800082Z"
    },
    "jupyter": {
     "source_hidden": true
    },
    "papermill": {
     "duration": 0.020689,
     "end_time": "2020-09-12T10:09:42.800678",
     "exception": false,
     "start_time": "2020-09-12T10:09:42.779989",
     "status": "completed"
    },
    "scrolled": true,
    "tags": [
     "hide-input"
    ]
   },
   "outputs": [
    {
     "data": {
      "text/markdown": [
       "### Last updated: September 11, 2020"
      ],
      "text/plain": [
       "<IPython.core.display.Markdown object>"
      ]
     },
     "metadata": {},
     "output_type": "display_data"
    }
   ],
   "source": [
    "display(Markdown('### Last updated: ' + dc.iloc[-1]['DATE'].strftime(\"%B %d, %Y\")))"
   ]
  },
  {
   "cell_type": "code",
   "execution_count": 5,
   "metadata": {
    "execution": {
     "iopub.execute_input": "2020-09-12T10:09:42.823249Z",
     "iopub.status.busy": "2020-09-12T10:09:42.822692Z",
     "iopub.status.idle": "2020-09-12T10:09:42.825868Z",
     "shell.execute_reply": "2020-09-12T10:09:42.825386Z"
    },
    "jupyter": {
     "source_hidden": true
    },
    "papermill": {
     "duration": 0.015501,
     "end_time": "2020-09-12T10:09:42.825990",
     "exception": false,
     "start_time": "2020-09-12T10:09:42.810489",
     "status": "completed"
    },
    "tags": [
     "hide-input"
    ]
   },
   "outputs": [
    {
     "data": {
      "text/markdown": [
       "# Dunn County has 224 total positive cases."
      ],
      "text/plain": [
       "<IPython.core.display.Markdown object>"
      ]
     },
     "metadata": {},
     "output_type": "display_data"
    }
   ],
   "source": [
    "display(Markdown('# Dunn County has ' + str(dc.iloc[-1]['POSITIVE']) + ' total positive cases.'))"
   ]
  },
  {
   "cell_type": "code",
   "execution_count": 6,
   "metadata": {
    "execution": {
     "iopub.execute_input": "2020-09-12T10:09:42.847247Z",
     "iopub.status.busy": "2020-09-12T10:09:42.846692Z",
     "iopub.status.idle": "2020-09-12T10:09:43.056264Z",
     "shell.execute_reply": "2020-09-12T10:09:43.056782Z"
    },
    "jupyter": {
     "source_hidden": true
    },
    "papermill": {
     "duration": 0.22229,
     "end_time": "2020-09-12T10:09:43.056947",
     "exception": false,
     "start_time": "2020-09-12T10:09:42.834657",
     "status": "completed"
    },
    "scrolled": false,
    "tags": [
     "hide-input"
    ]
   },
   "outputs": [
    {
     "data": {
      "image/png": "[encoded data removed]",
      "text/plain": [
       "<Figure size 864x432 with 1 Axes>"
      ]
     },
     "metadata": {
      "needs_background": "light"
     },
     "output_type": "display_data"
    }
   ],
   "source": [
    "dc.plot(x='DATE',y='POSITIVE',color='red',grid='True',figsize=(12,6)).set_xlabel('Date');"
   ]
  },
  {
   "cell_type": "markdown",
   "metadata": {
    "papermill": {
     "duration": 0.009811,
     "end_time": "2020-09-12T10:09:43.076483",
     "exception": false,
     "start_time": "2020-09-12T10:09:43.066672",
     "status": "completed"
    },
    "tags": []
   },
   "source": [
    "## Figure 1: Cummulative number of positive cases."
   ]
  },
  {
   "cell_type": "code",
   "execution_count": 7,
   "metadata": {
    "execution": {
     "iopub.execute_input": "2020-09-12T10:09:43.100341Z",
     "iopub.status.busy": "2020-09-12T10:09:43.099780Z",
     "iopub.status.idle": "2020-09-12T10:09:43.102986Z",
     "shell.execute_reply": "2020-09-12T10:09:43.102502Z"
    },
    "jupyter": {
     "source_hidden": true
    },
    "papermill": {
     "duration": 0.017222,
     "end_time": "2020-09-12T10:09:43.103105",
     "exception": false,
     "start_time": "2020-09-12T10:09:43.085883",
     "status": "completed"
    },
    "tags": [
     "hide-input"
    ]
   },
   "outputs": [
    {
     "data": {
      "text/markdown": [
       "# Dunn County reported 9.0 new cases today."
      ],
      "text/plain": [
       "<IPython.core.display.Markdown object>"
      ]
     },
     "metadata": {},
     "output_type": "display_data"
    }
   ],
   "source": [
    "display(Markdown('# Dunn County reported ' + str(dc.iloc[-1]['POS_NEW']) + ' new cases today.'))"
   ]
  },
  {
   "cell_type": "code",
   "execution_count": 8,
   "metadata": {
    "execution": {
     "iopub.execute_input": "2020-09-12T10:09:43.127555Z",
     "iopub.status.busy": "2020-09-12T10:09:43.126979Z",
     "iopub.status.idle": "2020-09-12T10:09:43.327677Z",
     "shell.execute_reply": "2020-09-12T10:09:43.328456Z"
    },
    "jupyter": {
     "source_hidden": true
    },
    "papermill": {
     "duration": 0.215722,
     "end_time": "2020-09-12T10:09:43.328708",
     "exception": false,
     "start_time": "2020-09-12T10:09:43.112986",
     "status": "completed"
    },
    "scrolled": false,
    "tags": [
     "hide-input"
    ]
   },
   "outputs": [
    {
     "data": {
      "image/png": "[encoded data removed]",
      "text/plain": [
       "<Figure size 864x432 with 1 Axes>"
      ]
     },
     "metadata": {
      "needs_background": "light"
     },
     "output_type": "display_data"
    }
   ],
   "source": [
    "dc.plot(kind='line',x='DATE',y='7_DAY',color='blue',grid='True',figsize=(12,6)).set_xlabel('Date');"
   ]
  },
  {
   "cell_type": "markdown",
   "metadata": {
    "papermill": {
     "duration": 0.011431,
     "end_time": "2020-09-12T10:09:43.352143",
     "exception": false,
     "start_time": "2020-09-12T10:09:43.340712",
     "status": "completed"
    },
    "tags": []
   },
   "source": [
    "## Figure 2: Rolling 7-day average of daily new cases."
   ]
  },
  {
   "cell_type": "code",
   "execution_count": 9,
   "metadata": {
    "execution": {
     "iopub.execute_input": "2020-09-12T10:09:43.380441Z",
     "iopub.status.busy": "2020-09-12T10:09:43.379870Z",
     "iopub.status.idle": "2020-09-12T10:09:43.596763Z",
     "shell.execute_reply": "2020-09-12T10:09:43.597217Z"
    },
    "jupyter": {
     "source_hidden": true
    },
    "papermill": {
     "duration": 0.234264,
     "end_time": "2020-09-12T10:09:43.597382",
     "exception": false,
     "start_time": "2020-09-12T10:09:43.363118",
     "status": "completed"
    },
    "tags": []
   },
   "outputs": [
    {
     "data": {
      "image/png": "[encoded data removed]",
      "text/plain": [
       "<Figure size 864x432 with 1 Axes>"
      ]
     },
     "metadata": {
      "needs_background": "light"
     },
     "output_type": "display_data"
    }
   ],
   "source": [
    "dc.plot(kind='line',x='DATE',y='14_DAY',color='green',grid='True',figsize=(12,6)).set_xlabel('Date');"
   ]
  },
  {
   "cell_type": "markdown",
   "metadata": {
    "papermill": {
     "duration": 0.012297,
     "end_time": "2020-09-12T10:09:43.622161",
     "exception": false,
     "start_time": "2020-09-12T10:09:43.609864",
     "status": "completed"
    },
    "tags": []
   },
   "source": [
    "## Figure 3: Rolling 14-day average of daily new cases."
   ]
  },
  {
   "cell_type": "markdown",
   "metadata": {
    "papermill": {
     "duration": 0.011933,
     "end_time": "2020-09-12T10:09:43.646051",
     "exception": false,
     "start_time": "2020-09-12T10:09:43.634118",
     "status": "completed"
    },
    "tags": []
   },
   "source": [
    "Data source: [Wisconsin Department of Health Services](https://data.dhsgis.wi.gov/datasets/covid-19-historical-data-table/)"
   ]
  },
  {
   "cell_type": "code",
   "execution_count": 10,
   "metadata": {
    "execution": {
     "iopub.execute_input": "2020-09-12T10:09:43.673778Z",
     "iopub.status.busy": "2020-09-12T10:09:43.672844Z",
     "iopub.status.idle": "2020-09-12T10:09:43.677254Z",
     "shell.execute_reply": "2020-09-12T10:09:43.676772Z"
    },
    "jupyter": {
     "source_hidden": true
    },
    "papermill": {
     "duration": 0.019378,
     "end_time": "2020-09-12T10:09:43.677376",
     "exception": false,
     "start_time": "2020-09-12T10:09:43.657998",
     "status": "completed"
    },
    "tags": []
   },
   "outputs": [
    {
     "data": {
      "text/html": [
       "<style>\n",
       "div.input {\n",
       "    display:none;\n",
       "}\n",
       "</style>\n"
      ],
      "text/plain": [
       "<IPython.core.display.HTML object>"
      ]
     },
     "metadata": {},
     "output_type": "display_data"
    }
   ],
   "source": [
    "%%html\n",
    "<style>\n",
    "div.input {\n",
    "    display:none;\n",
    "}\n",
    "</style>"
   ]
  }
 ],
 "metadata": {
  "kernelspec": {
   "display_name": "Python 3",
   "language": "python",
   "name": "python3"
  },
  "language_info": {
   "codemirror_mode": {
    "name": "ipython",
    "version": 3
   },
   "file_extension": ".py",
   "mimetype": "text/x-python",
   "name": "python",
   "nbconvert_exporter": "python",
   "pygments_lexer": "ipython3",
   "version": "3.8.5"
  },
  "papermill": {
   "duration": 9.373309,
   "end_time": "2020-09-12T10:09:43.996808",
   "environment_variables": {},
   "exception": null,
   "input_path": "DunnCounty_COVID19.ipynb",
   "output_path": "DunnCounty_COVID19.ipynb",
   "parameters": {
    "Start": "True",
    "secretsPath": "/home/runner/work/_temp/secrets.json"
   },
   "start_time": "2020-09-12T10:09:34.623499",
   "version": "1.1.16"
  }
 },
 "nbformat": 4,
 "nbformat_minor": 2
}