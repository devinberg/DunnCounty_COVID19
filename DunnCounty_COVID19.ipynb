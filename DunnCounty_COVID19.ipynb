{
 "cells": [
  {
   "cell_type": "code",
   "execution_count": 1,
   "id": "solar-understanding",
   "metadata": {
    "execution": {
     "iopub.execute_input": "2021-02-02T10:18:39.517662Z",
     "iopub.status.busy": "2021-02-02T10:18:39.517063Z",
     "iopub.status.idle": "2021-02-02T10:18:41.337937Z",
     "shell.execute_reply": "2021-02-02T10:18:41.336973Z"
    },
    "jupyter": {
     "source_hidden": true
    },
    "papermill": {
     "duration": 1.845358,
     "end_time": "2021-02-02T10:18:41.338249",
     "exception": false,
     "start_time": "2021-02-02T10:18:39.492891",
     "status": "completed"
    },
    "scrolled": true,
    "tags": [
     "hide-input"
    ]
   },
   "outputs": [],
   "source": [
    "import pandas as pd\n",
    "import matplotlib.pyplot as plt\n",
    "from matplotlib import dates\n",
    "from IPython.display import display, Markdown\n",
    "%matplotlib inline"
   ]
  },
  {
   "cell_type": "code",
   "execution_count": 2,
   "id": "purple-playlist",
   "metadata": {
    "execution": {
     "iopub.execute_input": "2021-02-02T10:18:41.363189Z",
     "iopub.status.busy": "2021-02-02T10:18:41.362598Z",
     "iopub.status.idle": "2021-02-02T10:18:41.971499Z",
     "shell.execute_reply": "2021-02-02T10:18:41.970792Z"
    },
    "jupyter": {
     "source_hidden": true
    },
    "papermill": {
     "duration": 0.623744,
     "end_time": "2021-02-02T10:18:41.971690",
     "exception": false,
     "start_time": "2021-02-02T10:18:41.347946",
     "status": "completed"
    },
    "scrolled": true,
    "tags": [
     "hide-input"
    ]
   },
   "outputs": [],
   "source": [
    "# This is the data for all of Wisconsin.\n",
    "url = \"https://opendata.arcgis.com/datasets/5374188992374b318d3e2305216ee413_12.csv\"\n",
    "data = pd.read_csv(url, parse_dates=['DATE'], low_memory=False)"
   ]
  },
  {
   "cell_type": "code",
   "execution_count": 3,
   "id": "proprietary-klein",
   "metadata": {
    "execution": {
     "iopub.execute_input": "2021-02-02T10:18:41.999501Z",
     "iopub.status.busy": "2021-02-02T10:18:41.998894Z",
     "iopub.status.idle": "2021-02-02T10:18:42.008448Z",
     "shell.execute_reply": "2021-02-02T10:18:42.007731Z"
    },
    "jupyter": {
     "source_hidden": true
    },
    "papermill": {
     "duration": 0.025606,
     "end_time": "2021-02-02T10:18:42.008590",
     "exception": false,
     "start_time": "2021-02-02T10:18:41.982984",
     "status": "completed"
    },
    "scrolled": true,
    "tags": [
     "hide-input"
    ]
   },
   "outputs": [],
   "source": [
    "dc = data.groupby('NAME').get_group('Dunn').sort_values(by='DATE') # Select the data for Dunn County from the full data.\n",
    "PNi = dc.columns.get_loc(\"POS_NEW\")\n",
    "dc['7_DAY'] = dc.iloc[:,PNi].rolling(window=7).mean() # Calculates the rolling 7-day average of new cases.\n",
    "dc['14_DAY'] = dc.iloc[:,PNi].rolling(window=14).mean() # Calculates the rolling 14-day average of new cases."
   ]
  },
  {
   "cell_type": "code",
   "execution_count": 4,
   "id": "steady-supervision",
   "metadata": {
    "execution": {
     "iopub.execute_input": "2021-02-02T10:18:42.033331Z",
     "iopub.status.busy": "2021-02-02T10:18:42.032755Z",
     "iopub.status.idle": "2021-02-02T10:18:42.038695Z",
     "shell.execute_reply": "2021-02-02T10:18:42.038198Z"
    },
    "jupyter": {
     "source_hidden": true
    },
    "papermill": {
     "duration": 0.02135,
     "end_time": "2021-02-02T10:18:42.038826",
     "exception": false,
     "start_time": "2021-02-02T10:18:42.017476",
     "status": "completed"
    },
    "scrolled": true,
    "tags": [
     "hide-input"
    ]
   },
   "outputs": [
    {
     "data": {
      "text/markdown": [
       "### Last updated: February 01, 2021"
      ],
      "text/plain": [
       "<IPython.core.display.Markdown object>"
      ]
     },
     "metadata": {},
     "output_type": "display_data"
    }
   ],
   "source": [
    "display(Markdown('### Last updated: ' + dc.iloc[-1]['DATE'].strftime(\"%B %d, %Y\")))"
   ]
  },
  {
   "cell_type": "code",
   "execution_count": 5,
   "id": "lonely-pitch",
   "metadata": {
    "execution": {
     "iopub.execute_input": "2021-02-02T10:18:42.068266Z",
     "iopub.status.busy": "2021-02-02T10:18:42.067658Z",
     "iopub.status.idle": "2021-02-02T10:18:42.070386Z",
     "shell.execute_reply": "2021-02-02T10:18:42.070839Z"
    },
    "jupyter": {
     "source_hidden": true
    },
    "papermill": {
     "duration": 0.019518,
     "end_time": "2021-02-02T10:18:42.070998",
     "exception": false,
     "start_time": "2021-02-02T10:18:42.051480",
     "status": "completed"
    },
    "tags": [
     "hide-input"
    ]
   },
   "outputs": [
    {
     "data": {
      "text/markdown": [
       "# Dunn County has 4067 total positive cases, with 13 new cases reported today."
      ],
      "text/plain": [
       "<IPython.core.display.Markdown object>"
      ]
     },
     "metadata": {},
     "output_type": "display_data"
    }
   ],
   "source": [
    "display(Markdown('# Dunn County has ' + str(dc.iloc[-1]['POSITIVE']) + ' total positive cases, with '+ str(int(dc.iloc[-1]['POS_NEW'])) + ' new cases reported today.'))"
   ]
  },
  {
   "cell_type": "code",
   "execution_count": 6,
   "id": "compound-nightmare",
   "metadata": {
    "execution": {
     "iopub.execute_input": "2021-02-02T10:18:42.095303Z",
     "iopub.status.busy": "2021-02-02T10:18:42.093405Z",
     "iopub.status.idle": "2021-02-02T10:18:42.408664Z",
     "shell.execute_reply": "2021-02-02T10:18:42.409231Z"
    },
    "jupyter": {
     "source_hidden": true
    },
    "papermill": {
     "duration": 0.328849,
     "end_time": "2021-02-02T10:18:42.409424",
     "exception": false,
     "start_time": "2021-02-02T10:18:42.080575",
     "status": "completed"
    },
    "scrolled": false,
    "tags": [
     "hide-input"
    ]
   },
   "outputs": [
    {
     "data": {
      "image/png": "[encoded data removed]",
      "text/plain": [
       "<Figure size 864x432 with 1 Axes>"
      ]
     },
     "metadata": {
      "needs_background": "light"
     },
     "output_type": "display_data"
    }
   ],
   "source": [
    "dc.plot(x='DATE',y='POSITIVE',color='red',grid='True',figsize=(12,6)).set_xlabel('Date');"
   ]
  },
  {
   "cell_type": "markdown",
   "id": "coupled-literacy",
   "metadata": {
    "papermill": {
     "duration": 0.012951,
     "end_time": "2021-02-02T10:18:42.433889",
     "exception": false,
     "start_time": "2021-02-02T10:18:42.420938",
     "status": "completed"
    },
    "tags": []
   },
   "source": [
    "## Figure 1: Cummulative number of positive cases."
   ]
  },
  {
   "cell_type": "code",
   "execution_count": 7,
   "id": "surrounded-reserve",
   "metadata": {
    "execution": {
     "iopub.execute_input": "2021-02-02T10:18:42.524530Z",
     "iopub.status.busy": "2021-02-02T10:18:42.491037Z",
     "iopub.status.idle": "2021-02-02T10:18:42.702493Z",
     "shell.execute_reply": "2021-02-02T10:18:42.701980Z"
    },
    "jupyter": {
     "source_hidden": true
    },
    "papermill": {
     "duration": 0.258261,
     "end_time": "2021-02-02T10:18:42.702627",
     "exception": false,
     "start_time": "2021-02-02T10:18:42.444366",
     "status": "completed"
    },
    "scrolled": false,
    "tags": [
     "hide-input"
    ]
   },
   "outputs": [
    {
     "data": {
      "image/png": "[encoded data removed]",
      "text/plain": [
       "<Figure size 864x432 with 1 Axes>"
      ]
     },
     "metadata": {
      "needs_background": "light"
     },
     "output_type": "display_data"
    }
   ],
   "source": [
    "dc.plot(kind='line',x='DATE',y='7_DAY',color='blue',grid='True',figsize=(12,6)).set_xlabel('Date');"
   ]
  },
  {
   "cell_type": "markdown",
   "id": "professional-savannah",
   "metadata": {
    "papermill": {
     "duration": 0.01145,
     "end_time": "2021-02-02T10:18:42.725648",
     "exception": false,
     "start_time": "2021-02-02T10:18:42.714198",
     "status": "completed"
    },
    "tags": []
   },
   "source": [
    "## Figure 2: Rolling 7-day average of daily new cases."
   ]
  },
  {
   "cell_type": "code",
   "execution_count": 8,
   "id": "stretch-investor",
   "metadata": {
    "execution": {
     "iopub.execute_input": "2021-02-02T10:18:42.754758Z",
     "iopub.status.busy": "2021-02-02T10:18:42.754200Z",
     "iopub.status.idle": "2021-02-02T10:18:43.005602Z",
     "shell.execute_reply": "2021-02-02T10:18:43.005127Z"
    },
    "jupyter": {
     "source_hidden": true
    },
    "papermill": {
     "duration": 0.268763,
     "end_time": "2021-02-02T10:18:43.005738",
     "exception": false,
     "start_time": "2021-02-02T10:18:42.736975",
     "status": "completed"
    },
    "tags": []
   },
   "outputs": [
    {
     "data": {
      "image/png": "[encoded data removed]",
      "text/plain": [
       "<Figure size 864x432 with 1 Axes>"
      ]
     },
     "metadata": {
      "needs_background": "light"
     },
     "output_type": "display_data"
    }
   ],
   "source": [
    "dc.plot(kind='line',x='DATE',y='14_DAY',color='green',grid='True',figsize=(12,6)).set_xlabel('Date');"
   ]
  },
  {
   "cell_type": "markdown",
   "id": "prerequisite-species",
   "metadata": {
    "papermill": {
     "duration": 0.012671,
     "end_time": "2021-02-02T10:18:43.031154",
     "exception": false,
     "start_time": "2021-02-02T10:18:43.018483",
     "status": "completed"
    },
    "tags": []
   },
   "source": [
    "## Figure 3: Rolling 14-day average of daily new cases."
   ]
  },
  {
   "cell_type": "markdown",
   "id": "palestinian-guard",
   "metadata": {
    "papermill": {
     "duration": 0.012297,
     "end_time": "2021-02-02T10:18:43.055763",
     "exception": false,
     "start_time": "2021-02-02T10:18:43.043466",
     "status": "completed"
    },
    "tags": []
   },
   "source": [
    "Data source: [Wisconsin Department of Health Services](https://data.dhsgis.wi.gov/datasets/covid-19-historical-data-table/)"
   ]
  },
  {
   "cell_type": "code",
   "execution_count": 9,
   "id": "proof-medicare",
   "metadata": {
    "execution": {
     "iopub.execute_input": "2021-02-02T10:18:43.090269Z",
     "iopub.status.busy": "2021-02-02T10:18:43.086350Z",
     "iopub.status.idle": "2021-02-02T10:18:43.094797Z",
     "shell.execute_reply": "2021-02-02T10:18:43.095240Z"
    },
    "jupyter": {
     "source_hidden": true
    },
    "papermill": {
     "duration": 0.027356,
     "end_time": "2021-02-02T10:18:43.095403",
     "exception": false,
     "start_time": "2021-02-02T10:18:43.068047",
     "status": "completed"
    },
    "tags": []
   },
   "outputs": [
    {
     "data": {
      "text/html": [
       "<style>\n",
       "div.input {\n",
       "    display:none;\n",
       "}\n",
       "</style>\n"
      ],
      "text/plain": [
       "<IPython.core.display.HTML object>"
      ]
     },
     "metadata": {},
     "output_type": "display_data"
    }
   ],
   "source": [
    "%%html\n",
    "<style>\n",
    "div.input {\n",
    "    display:none;\n",
    "}\n",
    "</style>"
   ]
  }
 ],
 "metadata": {
  "kernelspec": {
   "display_name": "Python 3",
   "language": "python",
   "name": "python3"
  },
  "language_info": {
   "codemirror_mode": {
    "name": "ipython",
    "version": 3
   },
   "file_extension": ".py",
   "mimetype": "text/x-python",
   "name": "python",
   "nbconvert_exporter": "python",
   "pygments_lexer": "ipython3",
   "version": "3.8.7"
  },
  "papermill": {
   "duration": 5.84769,
   "end_time": "2021-02-02T10:18:43.516782",
   "environment_variables": {},
   "exception": null,
   "input_path": "DunnCounty_COVID19.ipynb",
   "output_path": "DunnCounty_COVID19.ipynb",
   "parameters": {
    "Start": "True",
    "secretsPath": "/home/runner/work/_temp/secrets.json"
   },
   "start_time": "2021-02-02T10:18:37.669092",
   "version": "1.1.16"
  }
 },
 "nbformat": 4,
 "nbformat_minor": 5
}