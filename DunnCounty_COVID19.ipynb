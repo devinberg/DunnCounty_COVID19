{
 "cells": [
  {
   "cell_type": "code",
   "execution_count": 1,
   "id": "solar-understanding",
   "metadata": {
    "execution": {
     "iopub.execute_input": "2021-01-29T22:12:54.155892Z",
     "iopub.status.busy": "2021-01-29T22:12:54.155379Z",
     "iopub.status.idle": "2021-01-29T22:12:55.806022Z",
     "shell.execute_reply": "2021-01-29T22:12:55.806410Z"
    },
    "jupyter": {
     "source_hidden": true
    },
    "papermill": {
     "duration": 1.668454,
     "end_time": "2021-01-29T22:12:55.806677",
     "exception": false,
     "start_time": "2021-01-29T22:12:54.138223",
     "status": "completed"
    },
    "scrolled": true,
    "tags": [
     "hide-input"
    ]
   },
   "outputs": [],
   "source": [
    "import pandas as pd\n",
    "import matplotlib.pyplot as plt\n",
    "from matplotlib import dates\n",
    "from IPython.display import display, Markdown\n",
    "%matplotlib inline"
   ]
  },
  {
   "cell_type": "code",
   "execution_count": 2,
   "id": "purple-playlist",
   "metadata": {
    "execution": {
     "iopub.execute_input": "2021-01-29T22:12:55.827763Z",
     "iopub.status.busy": "2021-01-29T22:12:55.827292Z",
     "iopub.status.idle": "2021-01-29T22:12:56.335038Z",
     "shell.execute_reply": "2021-01-29T22:12:56.335421Z"
    },
    "jupyter": {
     "source_hidden": true
    },
    "papermill": {
     "duration": 0.520715,
     "end_time": "2021-01-29T22:12:56.335583",
     "exception": false,
     "start_time": "2021-01-29T22:12:55.814868",
     "status": "completed"
    },
    "scrolled": true,
    "tags": [
     "hide-input"
    ]
   },
   "outputs": [],
   "source": [
    "# This is the data for all of Wisconsin.\n",
    "url = \"https://opendata.arcgis.com/datasets/5374188992374b318d3e2305216ee413_12.csv\"\n",
    "data = pd.read_csv(url, parse_dates=['DATE'], low_memory=False)"
   ]
  },
  {
   "cell_type": "code",
   "execution_count": 3,
   "id": "proprietary-klein",
   "metadata": {
    "execution": {
     "iopub.execute_input": "2021-01-29T22:12:56.357082Z",
     "iopub.status.busy": "2021-01-29T22:12:56.356616Z",
     "iopub.status.idle": "2021-01-29T22:12:56.364038Z",
     "shell.execute_reply": "2021-01-29T22:12:56.363627Z"
    },
    "jupyter": {
     "source_hidden": true
    },
    "papermill": {
     "duration": 0.020605,
     "end_time": "2021-01-29T22:12:56.364156",
     "exception": false,
     "start_time": "2021-01-29T22:12:56.343551",
     "status": "completed"
    },
    "scrolled": true,
    "tags": [
     "hide-input"
    ]
   },
   "outputs": [],
   "source": [
    "dc = data.groupby('NAME').get_group('Dunn').sort_values(by='DATE') # Select the data for Dunn County from the full data.\n",
    "PNi = dc.columns.get_loc(\"POS_NEW\")\n",
    "dc['7_DAY'] = dc.iloc[:,PNi].rolling(window=7).mean() # Calculates the rolling 7-day average of new cases.\n",
    "dc['14_DAY'] = dc.iloc[:,PNi].rolling(window=14).mean() # Calculates the rolling 14-day average of new cases."
   ]
  },
  {
   "cell_type": "code",
   "execution_count": 4,
   "id": "steady-supervision",
   "metadata": {
    "execution": {
     "iopub.execute_input": "2021-01-29T22:12:56.385374Z",
     "iopub.status.busy": "2021-01-29T22:12:56.382539Z",
     "iopub.status.idle": "2021-01-29T22:12:56.387926Z",
     "shell.execute_reply": "2021-01-29T22:12:56.388382Z"
    },
    "jupyter": {
     "source_hidden": true
    },
    "papermill": {
     "duration": 0.016716,
     "end_time": "2021-01-29T22:12:56.388520",
     "exception": false,
     "start_time": "2021-01-29T22:12:56.371804",
     "status": "completed"
    },
    "scrolled": true,
    "tags": [
     "hide-input"
    ]
   },
   "outputs": [
    {
     "data": {
      "text/markdown": [
       "### Last updated: January 29, 2021"
      ],
      "text/plain": [
       "<IPython.core.display.Markdown object>"
      ]
     },
     "metadata": {},
     "output_type": "display_data"
    }
   ],
   "source": [
    "display(Markdown('### Last updated: ' + dc.iloc[-1]['DATE'].strftime(\"%B %d, %Y\")))"
   ]
  },
  {
   "cell_type": "code",
   "execution_count": 5,
   "id": "lonely-pitch",
   "metadata": {
    "execution": {
     "iopub.execute_input": "2021-01-29T22:12:56.409858Z",
     "iopub.status.busy": "2021-01-29T22:12:56.409349Z",
     "iopub.status.idle": "2021-01-29T22:12:56.411621Z",
     "shell.execute_reply": "2021-01-29T22:12:56.412033Z"
    },
    "jupyter": {
     "source_hidden": true
    },
    "papermill": {
     "duration": 0.015582,
     "end_time": "2021-01-29T22:12:56.412163",
     "exception": false,
     "start_time": "2021-01-29T22:12:56.396581",
     "status": "completed"
    },
    "tags": [
     "hide-input"
    ]
   },
   "outputs": [
    {
     "data": {
      "text/markdown": [
       "# Dunn County has 4022 total positive cases, with 15 new cases reported today."
      ],
      "text/plain": [
       "<IPython.core.display.Markdown object>"
      ]
     },
     "metadata": {},
     "output_type": "display_data"
    }
   ],
   "source": [
    "display(Markdown('# Dunn County has ' + str(dc.iloc[-1]['POSITIVE']) + ' total positive cases, with '+ str(int(dc.iloc[-1]['POS_NEW'])) + ' new cases reported today.'))"
   ]
  },
  {
   "cell_type": "code",
   "execution_count": 6,
   "id": "compound-nightmare",
   "metadata": {
    "execution": {
     "iopub.execute_input": "2021-01-29T22:12:56.432421Z",
     "iopub.status.busy": "2021-01-29T22:12:56.431959Z",
     "iopub.status.idle": "2021-01-29T22:12:56.698582Z",
     "shell.execute_reply": "2021-01-29T22:12:56.698161Z"
    },
    "jupyter": {
     "source_hidden": true
    },
    "papermill": {
     "duration": 0.278006,
     "end_time": "2021-01-29T22:12:56.698704",
     "exception": false,
     "start_time": "2021-01-29T22:12:56.420698",
     "status": "completed"
    },
    "scrolled": false,
    "tags": [
     "hide-input"
    ]
   },
   "outputs": [
    {
     "data": {
      "image/png": "[encoded data removed]",
      "text/plain": [
       "<Figure size 864x432 with 1 Axes>"
      ]
     },
     "metadata": {
      "needs_background": "light"
     },
     "output_type": "display_data"
    }
   ],
   "source": [
    "dc.plot(x='DATE',y='POSITIVE',color='red',grid='True',figsize=(12,6)).set_xlabel('Date');"
   ]
  },
  {
   "cell_type": "markdown",
   "id": "coupled-literacy",
   "metadata": {
    "papermill": {
     "duration": 0.009419,
     "end_time": "2021-01-29T22:12:56.717503",
     "exception": false,
     "start_time": "2021-01-29T22:12:56.708084",
     "status": "completed"
    },
    "tags": []
   },
   "source": [
    "## Figure 1: Cummulative number of positive cases."
   ]
  },
  {
   "cell_type": "code",
   "execution_count": 7,
   "id": "surrounded-reserve",
   "metadata": {
    "execution": {
     "iopub.execute_input": "2021-01-29T22:12:56.739950Z",
     "iopub.status.busy": "2021-01-29T22:12:56.739454Z",
     "iopub.status.idle": "2021-01-29T22:12:56.941504Z",
     "shell.execute_reply": "2021-01-29T22:12:56.941919Z"
    },
    "jupyter": {
     "source_hidden": true
    },
    "papermill": {
     "duration": 0.215447,
     "end_time": "2021-01-29T22:12:56.942086",
     "exception": false,
     "start_time": "2021-01-29T22:12:56.726639",
     "status": "completed"
    },
    "scrolled": false,
    "tags": [
     "hide-input"
    ]
   },
   "outputs": [
    {
     "data": {
      "image/png": "[encoded data removed]",
      "text/plain": [
       "<Figure size 864x432 with 1 Axes>"
      ]
     },
     "metadata": {
      "needs_background": "light"
     },
     "output_type": "display_data"
    }
   ],
   "source": [
    "dc.plot(kind='line',x='DATE',y='7_DAY',color='blue',grid='True',figsize=(12,6)).set_xlabel('Date');"
   ]
  },
  {
   "cell_type": "markdown",
   "id": "professional-savannah",
   "metadata": {
    "papermill": {
     "duration": 0.010974,
     "end_time": "2021-01-29T22:12:56.964393",
     "exception": false,
     "start_time": "2021-01-29T22:12:56.953419",
     "status": "completed"
    },
    "tags": []
   },
   "source": [
    "## Figure 2: Rolling 7-day average of daily new cases."
   ]
  },
  {
   "cell_type": "code",
   "execution_count": 8,
   "id": "stretch-investor",
   "metadata": {
    "execution": {
     "iopub.execute_input": "2021-01-29T22:12:56.988859Z",
     "iopub.status.busy": "2021-01-29T22:12:56.988400Z",
     "iopub.status.idle": "2021-01-29T22:12:57.188983Z",
     "shell.execute_reply": "2021-01-29T22:12:57.189401Z"
    },
    "jupyter": {
     "source_hidden": true
    },
    "papermill": {
     "duration": 0.215237,
     "end_time": "2021-01-29T22:12:57.189563",
     "exception": false,
     "start_time": "2021-01-29T22:12:56.974326",
     "status": "completed"
    },
    "tags": []
   },
   "outputs": [
    {
     "data": {
      "image/png": "[encoded data removed]",
      "text/plain": [
       "<Figure size 864x432 with 1 Axes>"
      ]
     },
     "metadata": {
      "needs_background": "light"
     },
     "output_type": "display_data"
    }
   ],
   "source": [
    "dc.plot(kind='line',x='DATE',y='14_DAY',color='green',grid='True',figsize=(12,6)).set_xlabel('Date');"
   ]
  },
  {
   "cell_type": "markdown",
   "id": "prerequisite-species",
   "metadata": {
    "papermill": {
     "duration": 0.012108,
     "end_time": "2021-01-29T22:12:57.213823",
     "exception": false,
     "start_time": "2021-01-29T22:12:57.201715",
     "status": "completed"
    },
    "tags": []
   },
   "source": [
    "## Figure 3: Rolling 14-day average of daily new cases."
   ]
  },
  {
   "cell_type": "markdown",
   "id": "palestinian-guard",
   "metadata": {
    "papermill": {
     "duration": 0.010812,
     "end_time": "2021-01-29T22:12:57.236191",
     "exception": false,
     "start_time": "2021-01-29T22:12:57.225379",
     "status": "completed"
    },
    "tags": []
   },
   "source": [
    "Data source: [Wisconsin Department of Health Services](https://data.dhsgis.wi.gov/datasets/covid-19-historical-data-table/)"
   ]
  },
  {
   "cell_type": "code",
   "execution_count": 9,
   "id": "proof-medicare",
   "metadata": {
    "execution": {
     "iopub.execute_input": "2021-01-29T22:12:57.262411Z",
     "iopub.status.busy": "2021-01-29T22:12:57.261863Z",
     "iopub.status.idle": "2021-01-29T22:12:57.264383Z",
     "shell.execute_reply": "2021-01-29T22:12:57.263946Z"
    },
    "jupyter": {
     "source_hidden": true
    },
    "papermill": {
     "duration": 0.017438,
     "end_time": "2021-01-29T22:12:57.264508",
     "exception": false,
     "start_time": "2021-01-29T22:12:57.247070",
     "status": "completed"
    },
    "tags": []
   },
   "outputs": [
    {
     "data": {
      "text/html": [
       "<style>\n",
       "div.input {\n",
       "    display:none;\n",
       "}\n",
       "</style>\n"
      ],
      "text/plain": [
       "<IPython.core.display.HTML object>"
      ]
     },
     "metadata": {},
     "output_type": "display_data"
    }
   ],
   "source": [
    "%%html\n",
    "<style>\n",
    "div.input {\n",
    "    display:none;\n",
    "}\n",
    "</style>"
   ]
  }
 ],
 "metadata": {
  "kernelspec": {
   "display_name": "Python 3",
   "language": "python",
   "name": "python3"
  },
  "language_info": {
   "codemirror_mode": {
    "name": "ipython",
    "version": 3
   },
   "file_extension": ".py",
   "mimetype": "text/x-python",
   "name": "python",
   "nbconvert_exporter": "python",
   "pygments_lexer": "ipython3",
   "version": "3.8.7"
  },
  "papermill": {
   "duration": 5.674233,
   "end_time": "2021-01-29T22:12:58.505433",
   "environment_variables": {},
   "exception": null,
   "input_path": "DunnCounty_COVID19.ipynb",
   "output_path": "DunnCounty_COVID19.ipynb",
   "parameters": {
    "Start": "True",
    "secretsPath": "/home/runner/work/_temp/secrets.json"
   },
   "start_time": "2021-01-29T22:12:52.831200",
   "version": "1.1.16"
  }
 },
 "nbformat": 4,
 "nbformat_minor": 5
}