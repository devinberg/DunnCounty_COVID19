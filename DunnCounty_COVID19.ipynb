{
 "cells": [
  {
   "cell_type": "code",
   "execution_count": 1,
   "id": "solar-understanding",
   "metadata": {
    "execution": {
     "iopub.execute_input": "2021-04-13T10:17:02.277746Z",
     "iopub.status.busy": "2021-04-13T10:17:02.277006Z",
     "iopub.status.idle": "2021-04-13T10:17:03.277067Z",
     "shell.execute_reply": "2021-04-13T10:17:03.276497Z"
    },
    "jupyter": {
     "source_hidden": true
    },
    "papermill": {
     "duration": 1.023409,
     "end_time": "2021-04-13T10:17:03.277209",
     "exception": false,
     "start_time": "2021-04-13T10:17:02.253800",
     "status": "completed"
    },
    "scrolled": true,
    "tags": [
     "hide-input"
    ]
   },
   "outputs": [],
   "source": [
    "import pandas as pd\n",
    "import matplotlib.pyplot as plt\n",
    "from matplotlib import dates\n",
    "from IPython.display import display, Markdown\n",
    "%matplotlib inline"
   ]
  },
  {
   "cell_type": "code",
   "execution_count": 2,
   "id": "purple-playlist",
   "metadata": {
    "execution": {
     "iopub.execute_input": "2021-04-13T10:17:03.301515Z",
     "iopub.status.busy": "2021-04-13T10:17:03.300974Z",
     "iopub.status.idle": "2021-04-13T10:17:04.103502Z",
     "shell.execute_reply": "2021-04-13T10:17:04.102884Z"
    },
    "jupyter": {
     "source_hidden": true
    },
    "papermill": {
     "duration": 0.817083,
     "end_time": "2021-04-13T10:17:04.103647",
     "exception": false,
     "start_time": "2021-04-13T10:17:03.286564",
     "status": "completed"
    },
    "scrolled": true,
    "tags": [
     "hide-input"
    ]
   },
   "outputs": [],
   "source": [
    "# This is the data for all of Wisconsin.\n",
    "url = \"https://opendata.arcgis.com/datasets/0b7bac0afc464e7783474cb62272d9b8_12.csv\"\n",
    "data = pd.read_csv(url, parse_dates=['DATE'], low_memory=False)"
   ]
  },
  {
   "cell_type": "code",
   "execution_count": 3,
   "id": "proprietary-klein",
   "metadata": {
    "execution": {
     "iopub.execute_input": "2021-04-13T10:17:04.128921Z",
     "iopub.status.busy": "2021-04-13T10:17:04.128382Z",
     "iopub.status.idle": "2021-04-13T10:17:04.138386Z",
     "shell.execute_reply": "2021-04-13T10:17:04.137810Z"
    },
    "jupyter": {
     "source_hidden": true
    },
    "papermill": {
     "duration": 0.024951,
     "end_time": "2021-04-13T10:17:04.138506",
     "exception": false,
     "start_time": "2021-04-13T10:17:04.113555",
     "status": "completed"
    },
    "scrolled": true,
    "tags": [
     "hide-input"
    ]
   },
   "outputs": [],
   "source": [
    "dc = data.groupby('NAME').get_group('Dunn').sort_values(by='DATE') # Select the data for Dunn County from the full data.\n",
    "PNi = dc.columns.get_loc(\"POS_NEW\")\n",
    "dc['7_DAY'] = dc.iloc[:,PNi].rolling(window=7).mean() # Calculates the rolling 7-day average of new cases.\n",
    "dc['14_DAY'] = dc.iloc[:,PNi].rolling(window=14).mean() # Calculates the rolling 14-day average of new cases."
   ]
  },
  {
   "cell_type": "code",
   "execution_count": 4,
   "id": "steady-supervision",
   "metadata": {
    "execution": {
     "iopub.execute_input": "2021-04-13T10:17:04.164176Z",
     "iopub.status.busy": "2021-04-13T10:17:04.163624Z",
     "iopub.status.idle": "2021-04-13T10:17:04.166468Z",
     "shell.execute_reply": "2021-04-13T10:17:04.166027Z"
    },
    "jupyter": {
     "source_hidden": true
    },
    "papermill": {
     "duration": 0.018603,
     "end_time": "2021-04-13T10:17:04.166584",
     "exception": false,
     "start_time": "2021-04-13T10:17:04.147981",
     "status": "completed"
    },
    "scrolled": true,
    "tags": [
     "hide-input"
    ]
   },
   "outputs": [
    {
     "data": {
      "text/markdown": [
       "### Last updated: April 12, 2021"
      ],
      "text/plain": [
       "<IPython.core.display.Markdown object>"
      ]
     },
     "metadata": {},
     "output_type": "display_data"
    }
   ],
   "source": [
    "display(Markdown('### Last updated: ' + dc.iloc[-1]['DATE'].strftime(\"%B %d, %Y\")))"
   ]
  },
  {
   "cell_type": "code",
   "execution_count": 5,
   "id": "lonely-pitch",
   "metadata": {
    "execution": {
     "iopub.execute_input": "2021-04-13T10:17:04.190247Z",
     "iopub.status.busy": "2021-04-13T10:17:04.189647Z",
     "iopub.status.idle": "2021-04-13T10:17:04.193334Z",
     "shell.execute_reply": "2021-04-13T10:17:04.193934Z"
    },
    "jupyter": {
     "source_hidden": true
    },
    "papermill": {
     "duration": 0.018518,
     "end_time": "2021-04-13T10:17:04.194122",
     "exception": false,
     "start_time": "2021-04-13T10:17:04.175604",
     "status": "completed"
    },
    "tags": [
     "hide-input"
    ]
   },
   "outputs": [
    {
     "data": {
      "text/markdown": [
       "# Dunn County has 4508 total positive cases, with 4 new cases reported today."
      ],
      "text/plain": [
       "<IPython.core.display.Markdown object>"
      ]
     },
     "metadata": {},
     "output_type": "display_data"
    }
   ],
   "source": [
    "display(Markdown('# Dunn County has ' + str(dc.iloc[-1]['POSITIVE']) + ' total positive cases, with '+ str(int(dc.iloc[-1]['POS_NEW'])) + ' new cases reported today.'))"
   ]
  },
  {
   "cell_type": "code",
   "execution_count": 6,
   "id": "compound-nightmare",
   "metadata": {
    "execution": {
     "iopub.execute_input": "2021-04-13T10:17:04.222015Z",
     "iopub.status.busy": "2021-04-13T10:17:04.220430Z",
     "iopub.status.idle": "2021-04-13T10:17:04.479456Z",
     "shell.execute_reply": "2021-04-13T10:17:04.479891Z"
    },
    "jupyter": {
     "source_hidden": true
    },
    "papermill": {
     "duration": 0.276559,
     "end_time": "2021-04-13T10:17:04.480045",
     "exception": false,
     "start_time": "2021-04-13T10:17:04.203486",
     "status": "completed"
    },
    "scrolled": false,
    "tags": [
     "hide-input"
    ]
   },
   "outputs": [
    {
     "data": {
      "image/png": "[encoded data removed]",
      "text/plain": [
       "<Figure size 864x432 with 1 Axes>"
      ]
     },
     "metadata": {
      "needs_background": "light"
     },
     "output_type": "display_data"
    }
   ],
   "source": [
    "dc.plot(x='DATE',y='POSITIVE',color='red',grid='True',figsize=(12,6)).set_xlabel('Date');"
   ]
  },
  {
   "cell_type": "markdown",
   "id": "coupled-literacy",
   "metadata": {
    "papermill": {
     "duration": 0.010719,
     "end_time": "2021-04-13T10:17:04.502061",
     "exception": false,
     "start_time": "2021-04-13T10:17:04.491342",
     "status": "completed"
    },
    "tags": []
   },
   "source": [
    "## Figure 1: Cummulative number of positive cases."
   ]
  },
  {
   "cell_type": "code",
   "execution_count": 7,
   "id": "surrounded-reserve",
   "metadata": {
    "execution": {
     "iopub.execute_input": "2021-04-13T10:17:04.528665Z",
     "iopub.status.busy": "2021-04-13T10:17:04.528132Z",
     "iopub.status.idle": "2021-04-13T10:17:04.732917Z",
     "shell.execute_reply": "2021-04-13T10:17:04.732414Z"
    },
    "jupyter": {
     "source_hidden": true
    },
    "papermill": {
     "duration": 0.220241,
     "end_time": "2021-04-13T10:17:04.733055",
     "exception": false,
     "start_time": "2021-04-13T10:17:04.512814",
     "status": "completed"
    },
    "scrolled": false,
    "tags": [
     "hide-input"
    ]
   },
   "outputs": [
    {
     "data": {
      "image/png": "[encoded data removed]",
      "text/plain": [
       "<Figure size 864x432 with 1 Axes>"
      ]
     },
     "metadata": {
      "needs_background": "light"
     },
     "output_type": "display_data"
    }
   ],
   "source": [
    "dc.plot(kind='line',x='DATE',y='7_DAY',color='blue',grid='True',figsize=(12,6)).set_xlabel('Date');"
   ]
  },
  {
   "cell_type": "markdown",
   "id": "professional-savannah",
   "metadata": {
    "papermill": {
     "duration": 0.012216,
     "end_time": "2021-04-13T10:17:04.757921",
     "exception": false,
     "start_time": "2021-04-13T10:17:04.745705",
     "status": "completed"
    },
    "tags": []
   },
   "source": [
    "## Figure 2: Rolling 7-day average of daily new cases."
   ]
  },
  {
   "cell_type": "code",
   "execution_count": 8,
   "id": "stretch-investor",
   "metadata": {
    "execution": {
     "iopub.execute_input": "2021-04-13T10:17:04.789161Z",
     "iopub.status.busy": "2021-04-13T10:17:04.787331Z",
     "iopub.status.idle": "2021-04-13T10:17:04.984143Z",
     "shell.execute_reply": "2021-04-13T10:17:04.984574Z"
    },
    "jupyter": {
     "source_hidden": true
    },
    "papermill": {
     "duration": 0.215036,
     "end_time": "2021-04-13T10:17:04.984725",
     "exception": false,
     "start_time": "2021-04-13T10:17:04.769689",
     "status": "completed"
    },
    "tags": []
   },
   "outputs": [
    {
     "data": {
      "image/png": "[encoded data removed]",
      "text/plain": [
       "<Figure size 864x432 with 1 Axes>"
      ]
     },
     "metadata": {
      "needs_background": "light"
     },
     "output_type": "display_data"
    }
   ],
   "source": [
    "dc.plot(kind='line',x='DATE',y='14_DAY',color='green',grid='True',figsize=(12,6)).set_xlabel('Date');"
   ]
  },
  {
   "cell_type": "markdown",
   "id": "prerequisite-species",
   "metadata": {
    "papermill": {
     "duration": 0.013838,
     "end_time": "2021-04-13T10:17:05.011689",
     "exception": false,
     "start_time": "2021-04-13T10:17:04.997851",
     "status": "completed"
    },
    "tags": []
   },
   "source": [
    "## Figure 3: Rolling 14-day average of daily new cases."
   ]
  },
  {
   "cell_type": "markdown",
   "id": "palestinian-guard",
   "metadata": {
    "papermill": {
     "duration": 0.013302,
     "end_time": "2021-04-13T10:17:05.037753",
     "exception": false,
     "start_time": "2021-04-13T10:17:05.024451",
     "status": "completed"
    },
    "tags": []
   },
   "source": [
    "Data source: [Wisconsin Department of Health Services](https://data.dhsgis.wi.gov/datasets/covid-19-historical-data-by-county)"
   ]
  },
  {
   "cell_type": "code",
   "execution_count": 9,
   "id": "proof-medicare",
   "metadata": {
    "execution": {
     "iopub.execute_input": "2021-04-13T10:17:05.068704Z",
     "iopub.status.busy": "2021-04-13T10:17:05.068128Z",
     "iopub.status.idle": "2021-04-13T10:17:05.071563Z",
     "shell.execute_reply": "2021-04-13T10:17:05.072018Z"
    },
    "jupyter": {
     "source_hidden": true
    },
    "papermill": {
     "duration": 0.021923,
     "end_time": "2021-04-13T10:17:05.072152",
     "exception": false,
     "start_time": "2021-04-13T10:17:05.050229",
     "status": "completed"
    },
    "tags": []
   },
   "outputs": [
    {
     "data": {
      "text/html": [
       "<style>\n",
       "div.input {\n",
       "    display:none;\n",
       "}\n",
       "</style>\n"
      ],
      "text/plain": [
       "<IPython.core.display.HTML object>"
      ]
     },
     "metadata": {},
     "output_type": "display_data"
    }
   ],
   "source": [
    "%%html\n",
    "<style>\n",
    "div.input {\n",
    "    display:none;\n",
    "}\n",
    "</style>"
   ]
  }
 ],
 "metadata": {
  "kernelspec": {
   "display_name": "Python 3",
   "language": "python",
   "name": "python3"
  },
  "language_info": {
   "codemirror_mode": {
    "name": "ipython",
    "version": 3
   },
   "file_extension": ".py",
   "mimetype": "text/x-python",
   "name": "python",
   "nbconvert_exporter": "python",
   "pygments_lexer": "ipython3",
   "version": "3.8.8"
  },
  "papermill": {
   "duration": 4.506044,
   "end_time": "2021-04-13T10:17:05.392534",
   "environment_variables": {},
   "exception": null,
   "input_path": "DunnCounty_COVID19.ipynb",
   "output_path": "DunnCounty_COVID19.ipynb",
   "parameters": {
    "Start": "True",
    "secretsPath": "/home/runner/work/_temp/secrets.json"
   },
   "start_time": "2021-04-13T10:17:00.886490",
   "version": "1.1.16"
  }
 },
 "nbformat": 4,
 "nbformat_minor": 5
}
