{
 "cells": [
  {
   "cell_type": "code",
   "execution_count": 1,
   "metadata": {
    "execution": {
     "iopub.execute_input": "2021-01-01T22:18:05.254589Z",
     "iopub.status.busy": "2021-01-01T22:18:05.254041Z",
     "iopub.status.idle": "2021-01-01T22:18:07.470056Z",
     "shell.execute_reply": "2021-01-01T22:18:07.469444Z"
    },
    "jupyter": {
     "source_hidden": true
    },
    "papermill": {
     "duration": 2.239291,
     "end_time": "2021-01-01T22:18:07.470237",
     "exception": false,
     "start_time": "2021-01-01T22:18:05.230946",
     "status": "completed"
    },
    "scrolled": true,
    "tags": [
     "hide-input"
    ]
   },
   "outputs": [],
   "source": [
    "import pandas as pd\n",
    "import matplotlib.pyplot as plt\n",
    "from matplotlib import dates\n",
    "from IPython.display import display, Markdown\n",
    "%matplotlib inline"
   ]
  },
  {
   "cell_type": "code",
   "execution_count": 2,
   "metadata": {
    "execution": {
     "iopub.execute_input": "2021-01-01T22:18:07.492191Z",
     "iopub.status.busy": "2021-01-01T22:18:07.491619Z",
     "iopub.status.idle": "2021-01-01T22:18:08.110708Z",
     "shell.execute_reply": "2021-01-01T22:18:08.111416Z"
    },
    "jupyter": {
     "source_hidden": true
    },
    "papermill": {
     "duration": 0.634238,
     "end_time": "2021-01-01T22:18:08.111667",
     "exception": false,
     "start_time": "2021-01-01T22:18:07.477429",
     "status": "completed"
    },
    "scrolled": true,
    "tags": [
     "hide-input"
    ]
   },
   "outputs": [],
   "source": [
    "# This is the data for all of Wisconsin.\n",
    "url = \"https://opendata.arcgis.com/datasets/5374188992374b318d3e2305216ee413_12.csv\"\n",
    "data = pd.read_csv(url, parse_dates=['DATE'], low_memory=False)"
   ]
  },
  {
   "cell_type": "code",
   "execution_count": 3,
   "metadata": {
    "execution": {
     "iopub.execute_input": "2021-01-01T22:18:08.135240Z",
     "iopub.status.busy": "2021-01-01T22:18:08.134698Z",
     "iopub.status.idle": "2021-01-01T22:18:08.143905Z",
     "shell.execute_reply": "2021-01-01T22:18:08.143424Z"
    },
    "jupyter": {
     "source_hidden": true
    },
    "papermill": {
     "duration": 0.022131,
     "end_time": "2021-01-01T22:18:08.144049",
     "exception": false,
     "start_time": "2021-01-01T22:18:08.121918",
     "status": "completed"
    },
    "scrolled": true,
    "tags": [
     "hide-input"
    ]
   },
   "outputs": [],
   "source": [
    "dc = data.groupby('NAME').get_group('Dunn').sort_values(by='DATE') # Select the data for Dunn County from the full data.\n",
    "PNi = dc.columns.get_loc(\"POS_NEW\")\n",
    "dc['7_DAY'] = dc.iloc[:,PNi].rolling(window=7).mean() # Calculates the rolling 7-day average of new cases.\n",
    "dc['14_DAY'] = dc.iloc[:,PNi].rolling(window=14).mean() # Calculates the rolling 14-day average of new cases."
   ]
  },
  {
   "cell_type": "code",
   "execution_count": 4,
   "metadata": {
    "execution": {
     "iopub.execute_input": "2021-01-01T22:18:08.168580Z",
     "iopub.status.busy": "2021-01-01T22:18:08.167578Z",
     "iopub.status.idle": "2021-01-01T22:18:08.171243Z",
     "shell.execute_reply": "2021-01-01T22:18:08.171754Z"
    },
    "jupyter": {
     "source_hidden": true
    },
    "papermill": {
     "duration": 0.021775,
     "end_time": "2021-01-01T22:18:08.173005",
     "exception": false,
     "start_time": "2021-01-01T22:18:08.151230",
     "status": "completed"
    },
    "scrolled": true,
    "tags": [
     "hide-input"
    ]
   },
   "outputs": [
    {
     "data": {
      "text/markdown": [
       "### Last updated: January 01, 2021"
      ],
      "text/plain": [
       "<IPython.core.display.Markdown object>"
      ]
     },
     "metadata": {},
     "output_type": "display_data"
    }
   ],
   "source": [
    "display(Markdown('### Last updated: ' + dc.iloc[-1]['DATE'].strftime(\"%B %d, %Y\")))"
   ]
  },
  {
   "cell_type": "code",
   "execution_count": 5,
   "metadata": {
    "execution": {
     "iopub.execute_input": "2021-01-01T22:18:08.193160Z",
     "iopub.status.busy": "2021-01-01T22:18:08.192626Z",
     "iopub.status.idle": "2021-01-01T22:18:08.196395Z",
     "shell.execute_reply": "2021-01-01T22:18:08.196805Z"
    },
    "jupyter": {
     "source_hidden": true
    },
    "papermill": {
     "duration": 0.016529,
     "end_time": "2021-01-01T22:18:08.196959",
     "exception": false,
     "start_time": "2021-01-01T22:18:08.180430",
     "status": "completed"
    },
    "tags": [
     "hide-input"
    ]
   },
   "outputs": [
    {
     "data": {
      "text/markdown": [
       "# Dunn County has 3546 total positive cases, with 32 new cases reported today."
      ],
      "text/plain": [
       "<IPython.core.display.Markdown object>"
      ]
     },
     "metadata": {},
     "output_type": "display_data"
    }
   ],
   "source": [
    "display(Markdown('# Dunn County has ' + str(dc.iloc[-1]['POSITIVE']) + ' total positive cases, with '+ str(int(dc.iloc[-1]['POS_NEW'])) + ' new cases reported today.'))"
   ]
  },
  {
   "cell_type": "code",
   "execution_count": 6,
   "metadata": {
    "execution": {
     "iopub.execute_input": "2021-01-01T22:18:08.216526Z",
     "iopub.status.busy": "2021-01-01T22:18:08.215971Z",
     "iopub.status.idle": "2021-01-01T22:18:08.464336Z",
     "shell.execute_reply": "2021-01-01T22:18:08.464776Z"
    },
    "jupyter": {
     "source_hidden": true
    },
    "papermill": {
     "duration": 0.260036,
     "end_time": "2021-01-01T22:18:08.464938",
     "exception": false,
     "start_time": "2021-01-01T22:18:08.204902",
     "status": "completed"
    },
    "scrolled": false,
    "tags": [
     "hide-input"
    ]
   },
   "outputs": [
    {
     "data": {
      "image/png": "[encoded data removed]",
      "text/plain": [
       "<Figure size 864x432 with 1 Axes>"
      ]
     },
     "metadata": {
      "needs_background": "light"
     },
     "output_type": "display_data"
    }
   ],
   "source": [
    "dc.plot(x='DATE',y='POSITIVE',color='red',grid='True',figsize=(12,6)).set_xlabel('Date');"
   ]
  },
  {
   "cell_type": "markdown",
   "metadata": {
    "papermill": {
     "duration": 0.008862,
     "end_time": "2021-01-01T22:18:08.483421",
     "exception": false,
     "start_time": "2021-01-01T22:18:08.474559",
     "status": "completed"
    },
    "tags": []
   },
   "source": [
    "## Figure 1: Cummulative number of positive cases."
   ]
  },
  {
   "cell_type": "code",
   "execution_count": 7,
   "metadata": {
    "execution": {
     "iopub.execute_input": "2021-01-01T22:18:08.510123Z",
     "iopub.status.busy": "2021-01-01T22:18:08.505797Z",
     "iopub.status.idle": "2021-01-01T22:18:08.739276Z",
     "shell.execute_reply": "2021-01-01T22:18:08.738814Z"
    },
    "jupyter": {
     "source_hidden": true
    },
    "papermill": {
     "duration": 0.247279,
     "end_time": "2021-01-01T22:18:08.739410",
     "exception": false,
     "start_time": "2021-01-01T22:18:08.492131",
     "status": "completed"
    },
    "scrolled": false,
    "tags": [
     "hide-input"
    ]
   },
   "outputs": [
    {
     "data": {
      "image/png": "[encoded data removed]",
      "text/plain": [
       "<Figure size 864x432 with 1 Axes>"
      ]
     },
     "metadata": {
      "needs_background": "light"
     },
     "output_type": "display_data"
    }
   ],
   "source": [
    "dc.plot(kind='line',x='DATE',y='7_DAY',color='blue',grid='True',figsize=(12,6)).set_xlabel('Date');"
   ]
  },
  {
   "cell_type": "markdown",
   "metadata": {
    "papermill": {
     "duration": 0.175412,
     "end_time": "2021-01-01T22:18:08.925973",
     "exception": false,
     "start_time": "2021-01-01T22:18:08.750561",
     "status": "completed"
    },
    "tags": []
   },
   "source": [
    "## Figure 2: Rolling 7-day average of daily new cases."
   ]
  },
  {
   "cell_type": "code",
   "execution_count": 8,
   "metadata": {
    "execution": {
     "iopub.execute_input": "2021-01-01T22:18:08.977779Z",
     "iopub.status.busy": "2021-01-01T22:18:08.952521Z",
     "iopub.status.idle": "2021-01-01T22:18:09.183140Z",
     "shell.execute_reply": "2021-01-01T22:18:09.182659Z"
    },
    "jupyter": {
     "source_hidden": true
    },
    "papermill": {
     "duration": 0.246148,
     "end_time": "2021-01-01T22:18:09.183278",
     "exception": false,
     "start_time": "2021-01-01T22:18:08.937130",
     "status": "completed"
    },
    "tags": []
   },
   "outputs": [
    {
     "data": {
      "image/png": "[encoded data removed]",
      "text/plain": [
       "<Figure size 864x432 with 1 Axes>"
      ]
     },
     "metadata": {
      "needs_background": "light"
     },
     "output_type": "display_data"
    }
   ],
   "source": [
    "dc.plot(kind='line',x='DATE',y='14_DAY',color='green',grid='True',figsize=(12,6)).set_xlabel('Date');"
   ]
  },
  {
   "cell_type": "markdown",
   "metadata": {
    "papermill": {
     "duration": 0.011083,
     "end_time": "2021-01-01T22:18:09.205609",
     "exception": false,
     "start_time": "2021-01-01T22:18:09.194526",
     "status": "completed"
    },
    "tags": []
   },
   "source": [
    "## Figure 3: Rolling 14-day average of daily new cases."
   ]
  },
  {
   "cell_type": "markdown",
   "metadata": {
    "papermill": {
     "duration": 0.010937,
     "end_time": "2021-01-01T22:18:09.227125",
     "exception": false,
     "start_time": "2021-01-01T22:18:09.216188",
     "status": "completed"
    },
    "tags": []
   },
   "source": [
    "Data source: [Wisconsin Department of Health Services](https://data.dhsgis.wi.gov/datasets/covid-19-historical-data-table/)"
   ]
  },
  {
   "cell_type": "code",
   "execution_count": 9,
   "metadata": {
    "execution": {
     "iopub.execute_input": "2021-01-01T22:18:09.254372Z",
     "iopub.status.busy": "2021-01-01T22:18:09.253807Z",
     "iopub.status.idle": "2021-01-01T22:18:09.256014Z",
     "shell.execute_reply": "2021-01-01T22:18:09.256455Z"
    },
    "jupyter": {
     "source_hidden": true
    },
    "papermill": {
     "duration": 0.018793,
     "end_time": "2021-01-01T22:18:09.256596",
     "exception": false,
     "start_time": "2021-01-01T22:18:09.237803",
     "status": "completed"
    },
    "tags": []
   },
   "outputs": [
    {
     "data": {
      "text/html": [
       "<style>\n",
       "div.input {\n",
       "    display:none;\n",
       "}\n",
       "</style>\n"
      ],
      "text/plain": [
       "<IPython.core.display.HTML object>"
      ]
     },
     "metadata": {},
     "output_type": "display_data"
    }
   ],
   "source": [
    "%%html\n",
    "<style>\n",
    "div.input {\n",
    "    display:none;\n",
    "}\n",
    "</style>"
   ]
  }
 ],
 "metadata": {
  "kernelspec": {
   "display_name": "Python 3",
   "language": "python",
   "name": "python3"
  },
  "language_info": {
   "codemirror_mode": {
    "name": "ipython",
    "version": 3
   },
   "file_extension": ".py",
   "mimetype": "text/x-python",
   "name": "python",
   "nbconvert_exporter": "python",
   "pygments_lexer": "ipython3",
   "version": "3.8.6"
  },
  "papermill": {
   "duration": 6.677602,
   "end_time": "2021-01-01T22:18:10.476219",
   "environment_variables": {},
   "exception": null,
   "input_path": "DunnCounty_COVID19.ipynb",
   "output_path": "DunnCounty_COVID19.ipynb",
   "parameters": {
    "Start": "True",
    "secretsPath": "/home/runner/work/_temp/secrets.json"
   },
   "start_time": "2021-01-01T22:18:03.798617",
   "version": "1.1.16"
  }
 },
 "nbformat": 4,
 "nbformat_minor": 2
}