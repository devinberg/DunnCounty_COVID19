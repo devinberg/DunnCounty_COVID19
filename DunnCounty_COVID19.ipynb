{
 "cells": [
  {
   "cell_type": "code",
   "execution_count": 1,
   "id": "solar-understanding",
   "metadata": {
    "execution": {
     "iopub.execute_input": "2021-02-22T22:11:36.208773Z",
     "iopub.status.busy": "2021-02-22T22:11:36.208283Z",
     "iopub.status.idle": "2021-02-22T22:11:37.863427Z",
     "shell.execute_reply": "2021-02-22T22:11:37.863869Z"
    },
    "jupyter": {
     "source_hidden": true
    },
    "papermill": {
     "duration": 1.673119,
     "end_time": "2021-02-22T22:11:37.864113",
     "exception": false,
     "start_time": "2021-02-22T22:11:36.190994",
     "status": "completed"
    },
    "scrolled": true,
    "tags": [
     "hide-input"
    ]
   },
   "outputs": [],
   "source": [
    "import pandas as pd\n",
    "import matplotlib.pyplot as plt\n",
    "from matplotlib import dates\n",
    "from IPython.display import display, Markdown\n",
    "%matplotlib inline"
   ]
  },
  {
   "cell_type": "code",
   "execution_count": 2,
   "id": "purple-playlist",
   "metadata": {
    "execution": {
     "iopub.execute_input": "2021-02-22T22:11:37.885615Z",
     "iopub.status.busy": "2021-02-22T22:11:37.885133Z",
     "iopub.status.idle": "2021-02-22T22:11:38.547139Z",
     "shell.execute_reply": "2021-02-22T22:11:38.546616Z"
    },
    "jupyter": {
     "source_hidden": true
    },
    "papermill": {
     "duration": 0.674721,
     "end_time": "2021-02-22T22:11:38.547272",
     "exception": false,
     "start_time": "2021-02-22T22:11:37.872551",
     "status": "completed"
    },
    "scrolled": true,
    "tags": [
     "hide-input"
    ]
   },
   "outputs": [],
   "source": [
    "# This is the data for all of Wisconsin.\n",
    "url = \"https://opendata.arcgis.com/datasets/5374188992374b318d3e2305216ee413_12.csv\"\n",
    "data = pd.read_csv(url, parse_dates=['DATE'], low_memory=False)"
   ]
  },
  {
   "cell_type": "code",
   "execution_count": 3,
   "id": "proprietary-klein",
   "metadata": {
    "execution": {
     "iopub.execute_input": "2021-02-22T22:11:38.569353Z",
     "iopub.status.busy": "2021-02-22T22:11:38.568845Z",
     "iopub.status.idle": "2021-02-22T22:11:38.577171Z",
     "shell.execute_reply": "2021-02-22T22:11:38.576718Z"
    },
    "jupyter": {
     "source_hidden": true
    },
    "papermill": {
     "duration": 0.021568,
     "end_time": "2021-02-22T22:11:38.577279",
     "exception": false,
     "start_time": "2021-02-22T22:11:38.555711",
     "status": "completed"
    },
    "scrolled": true,
    "tags": [
     "hide-input"
    ]
   },
   "outputs": [],
   "source": [
    "dc = data.groupby('NAME').get_group('Dunn').sort_values(by='DATE') # Select the data for Dunn County from the full data.\n",
    "PNi = dc.columns.get_loc(\"POS_NEW\")\n",
    "dc['7_DAY'] = dc.iloc[:,PNi].rolling(window=7).mean() # Calculates the rolling 7-day average of new cases.\n",
    "dc['14_DAY'] = dc.iloc[:,PNi].rolling(window=14).mean() # Calculates the rolling 14-day average of new cases."
   ]
  },
  {
   "cell_type": "code",
   "execution_count": 4,
   "id": "steady-supervision",
   "metadata": {
    "execution": {
     "iopub.execute_input": "2021-02-22T22:11:38.599445Z",
     "iopub.status.busy": "2021-02-22T22:11:38.598893Z",
     "iopub.status.idle": "2021-02-22T22:11:38.601868Z",
     "shell.execute_reply": "2021-02-22T22:11:38.601435Z"
    },
    "jupyter": {
     "source_hidden": true
    },
    "papermill": {
     "duration": 0.016495,
     "end_time": "2021-02-22T22:11:38.601988",
     "exception": false,
     "start_time": "2021-02-22T22:11:38.585493",
     "status": "completed"
    },
    "scrolled": true,
    "tags": [
     "hide-input"
    ]
   },
   "outputs": [
    {
     "data": {
      "text/markdown": [
       "### Last updated: February 22, 2021"
      ],
      "text/plain": [
       "<IPython.core.display.Markdown object>"
      ]
     },
     "metadata": {},
     "output_type": "display_data"
    }
   ],
   "source": [
    "display(Markdown('### Last updated: ' + dc.iloc[-1]['DATE'].strftime(\"%B %d, %Y\")))"
   ]
  },
  {
   "cell_type": "code",
   "execution_count": 5,
   "id": "lonely-pitch",
   "metadata": {
    "execution": {
     "iopub.execute_input": "2021-02-22T22:11:38.622257Z",
     "iopub.status.busy": "2021-02-22T22:11:38.621790Z",
     "iopub.status.idle": "2021-02-22T22:11:38.624408Z",
     "shell.execute_reply": "2021-02-22T22:11:38.624032Z"
    },
    "jupyter": {
     "source_hidden": true
    },
    "papermill": {
     "duration": 0.014353,
     "end_time": "2021-02-22T22:11:38.624509",
     "exception": false,
     "start_time": "2021-02-22T22:11:38.610156",
     "status": "completed"
    },
    "tags": [
     "hide-input"
    ]
   },
   "outputs": [
    {
     "data": {
      "text/markdown": [
       "# Dunn County has 4232 total positive cases, with 12 new cases reported today."
      ],
      "text/plain": [
       "<IPython.core.display.Markdown object>"
      ]
     },
     "metadata": {},
     "output_type": "display_data"
    }
   ],
   "source": [
    "display(Markdown('# Dunn County has ' + str(dc.iloc[-1]['POSITIVE']) + ' total positive cases, with '+ str(int(dc.iloc[-1]['POS_NEW'])) + ' new cases reported today.'))"
   ]
  },
  {
   "cell_type": "code",
   "execution_count": 6,
   "id": "compound-nightmare",
   "metadata": {
    "execution": {
     "iopub.execute_input": "2021-02-22T22:11:38.643995Z",
     "iopub.status.busy": "2021-02-22T22:11:38.643538Z",
     "iopub.status.idle": "2021-02-22T22:11:38.860159Z",
     "shell.execute_reply": "2021-02-22T22:11:38.860514Z"
    },
    "jupyter": {
     "source_hidden": true
    },
    "papermill": {
     "duration": 0.228084,
     "end_time": "2021-02-22T22:11:38.860660",
     "exception": false,
     "start_time": "2021-02-22T22:11:38.632576",
     "status": "completed"
    },
    "scrolled": false,
    "tags": [
     "hide-input"
    ]
   },
   "outputs": [
    {
     "data": {
      "image/png": "[encoded data removed]",
      "text/plain": [
       "<Figure size 864x432 with 1 Axes>"
      ]
     },
     "metadata": {
      "needs_background": "light"
     },
     "output_type": "display_data"
    }
   ],
   "source": [
    "dc.plot(x='DATE',y='POSITIVE',color='red',grid='True',figsize=(12,6)).set_xlabel('Date');"
   ]
  },
  {
   "cell_type": "markdown",
   "id": "coupled-literacy",
   "metadata": {
    "papermill": {
     "duration": 0.008902,
     "end_time": "2021-02-22T22:11:38.878712",
     "exception": false,
     "start_time": "2021-02-22T22:11:38.869810",
     "status": "completed"
    },
    "tags": []
   },
   "source": [
    "## Figure 1: Cummulative number of positive cases."
   ]
  },
  {
   "cell_type": "code",
   "execution_count": 7,
   "id": "surrounded-reserve",
   "metadata": {
    "execution": {
     "iopub.execute_input": "2021-02-22T22:11:38.922530Z",
     "iopub.status.busy": "2021-02-22T22:11:38.900188Z",
     "iopub.status.idle": "2021-02-22T22:11:39.070948Z",
     "shell.execute_reply": "2021-02-22T22:11:39.070450Z"
    },
    "jupyter": {
     "source_hidden": true
    },
    "papermill": {
     "duration": 0.18351,
     "end_time": "2021-02-22T22:11:39.071084",
     "exception": false,
     "start_time": "2021-02-22T22:11:38.887574",
     "status": "completed"
    },
    "scrolled": false,
    "tags": [
     "hide-input"
    ]
   },
   "outputs": [
    {
     "data": {
      "image/png": "[encoded data removed]",
      "text/plain": [
       "<Figure size 864x432 with 1 Axes>"
      ]
     },
     "metadata": {
      "needs_background": "light"
     },
     "output_type": "display_data"
    }
   ],
   "source": [
    "dc.plot(kind='line',x='DATE',y='7_DAY',color='blue',grid='True',figsize=(12,6)).set_xlabel('Date');"
   ]
  },
  {
   "cell_type": "markdown",
   "id": "professional-savannah",
   "metadata": {
    "papermill": {
     "duration": 0.010095,
     "end_time": "2021-02-22T22:11:39.092190",
     "exception": false,
     "start_time": "2021-02-22T22:11:39.082095",
     "status": "completed"
    },
    "tags": []
   },
   "source": [
    "## Figure 2: Rolling 7-day average of daily new cases."
   ]
  },
  {
   "cell_type": "code",
   "execution_count": 8,
   "id": "stretch-investor",
   "metadata": {
    "execution": {
     "iopub.execute_input": "2021-02-22T22:11:39.116272Z",
     "iopub.status.busy": "2021-02-22T22:11:39.115804Z",
     "iopub.status.idle": "2021-02-22T22:11:39.321043Z",
     "shell.execute_reply": "2021-02-22T22:11:39.321399Z"
    },
    "jupyter": {
     "source_hidden": true
    },
    "papermill": {
     "duration": 0.219618,
     "end_time": "2021-02-22T22:11:39.321542",
     "exception": false,
     "start_time": "2021-02-22T22:11:39.101924",
     "status": "completed"
    },
    "tags": []
   },
   "outputs": [
    {
     "data": {
      "image/png": "[encoded data removed]",
      "text/plain": [
       "<Figure size 864x432 with 1 Axes>"
      ]
     },
     "metadata": {
      "needs_background": "light"
     },
     "output_type": "display_data"
    }
   ],
   "source": [
    "dc.plot(kind='line',x='DATE',y='14_DAY',color='green',grid='True',figsize=(12,6)).set_xlabel('Date');"
   ]
  },
  {
   "cell_type": "markdown",
   "id": "prerequisite-species",
   "metadata": {
    "papermill": {
     "duration": 0.010591,
     "end_time": "2021-02-22T22:11:39.342977",
     "exception": false,
     "start_time": "2021-02-22T22:11:39.332386",
     "status": "completed"
    },
    "tags": []
   },
   "source": [
    "## Figure 3: Rolling 14-day average of daily new cases."
   ]
  },
  {
   "cell_type": "markdown",
   "id": "palestinian-guard",
   "metadata": {
    "papermill": {
     "duration": 0.010621,
     "end_time": "2021-02-22T22:11:39.364255",
     "exception": false,
     "start_time": "2021-02-22T22:11:39.353634",
     "status": "completed"
    },
    "tags": []
   },
   "source": [
    "Data source: [Wisconsin Department of Health Services](https://data.dhsgis.wi.gov/datasets/covid-19-historical-data-table/)"
   ]
  },
  {
   "cell_type": "code",
   "execution_count": 9,
   "id": "proof-medicare",
   "metadata": {
    "execution": {
     "iopub.execute_input": "2021-02-22T22:11:39.389974Z",
     "iopub.status.busy": "2021-02-22T22:11:39.389500Z",
     "iopub.status.idle": "2021-02-22T22:11:39.391294Z",
     "shell.execute_reply": "2021-02-22T22:11:39.391692Z"
    },
    "jupyter": {
     "source_hidden": true
    },
    "papermill": {
     "duration": 0.016923,
     "end_time": "2021-02-22T22:11:39.391829",
     "exception": false,
     "start_time": "2021-02-22T22:11:39.374906",
     "status": "completed"
    },
    "tags": []
   },
   "outputs": [
    {
     "data": {
      "text/html": [
       "<style>\n",
       "div.input {\n",
       "    display:none;\n",
       "}\n",
       "</style>\n"
      ],
      "text/plain": [
       "<IPython.core.display.HTML object>"
      ]
     },
     "metadata": {},
     "output_type": "display_data"
    }
   ],
   "source": [
    "%%html\n",
    "<style>\n",
    "div.input {\n",
    "    display:none;\n",
    "}\n",
    "</style>"
   ]
  }
 ],
 "metadata": {
  "kernelspec": {
   "display_name": "Python 3",
   "language": "python",
   "name": "python3"
  },
  "language_info": {
   "codemirror_mode": {
    "name": "ipython",
    "version": 3
   },
   "file_extension": ".py",
   "mimetype": "text/x-python",
   "name": "python",
   "nbconvert_exporter": "python",
   "pygments_lexer": "ipython3",
   "version": "3.8.7"
  },
  "papermill": {
   "duration": 5.469559,
   "end_time": "2021-02-22T22:11:40.611555",
   "environment_variables": {},
   "exception": null,
   "input_path": "DunnCounty_COVID19.ipynb",
   "output_path": "DunnCounty_COVID19.ipynb",
   "parameters": {
    "Start": "True",
    "secretsPath": "/home/runner/work/_temp/secrets.json"
   },
   "start_time": "2021-02-22T22:11:35.141996",
   "version": "1.1.16"
  }
 },
 "nbformat": 4,
 "nbformat_minor": 5
}