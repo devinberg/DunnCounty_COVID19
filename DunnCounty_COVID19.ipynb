{
 "cells": [
  {
   "cell_type": "code",
   "execution_count": 1,
   "metadata": {
    "execution": {
     "iopub.execute_input": "2020-11-24T10:11:52.197358Z",
     "iopub.status.busy": "2020-11-24T10:11:52.196850Z",
     "iopub.status.idle": "2020-11-24T10:11:54.652875Z",
     "shell.execute_reply": "2020-11-24T10:11:54.652284Z"
    },
    "jupyter": {
     "source_hidden": true
    },
    "papermill": {
     "duration": 2.468754,
     "end_time": "2020-11-24T10:11:54.653070",
     "exception": false,
     "start_time": "2020-11-24T10:11:52.184316",
     "status": "completed"
    },
    "scrolled": true,
    "tags": [
     "hide-input"
    ]
   },
   "outputs": [],
   "source": [
    "import pandas as pd\n",
    "import matplotlib.pyplot as plt\n",
    "from matplotlib import dates\n",
    "from IPython.display import display, Markdown\n",
    "%matplotlib inline"
   ]
  },
  {
   "cell_type": "code",
   "execution_count": 2,
   "metadata": {
    "execution": {
     "iopub.execute_input": "2020-11-24T10:11:54.672888Z",
     "iopub.status.busy": "2020-11-24T10:11:54.672405Z",
     "iopub.status.idle": "2020-11-24T10:11:55.746912Z",
     "shell.execute_reply": "2020-11-24T10:11:55.746409Z"
    },
    "jupyter": {
     "source_hidden": true
    },
    "papermill": {
     "duration": 1.087256,
     "end_time": "2020-11-24T10:11:55.747056",
     "exception": false,
     "start_time": "2020-11-24T10:11:54.659800",
     "status": "completed"
    },
    "scrolled": true,
    "tags": [
     "hide-input"
    ]
   },
   "outputs": [],
   "source": [
    "# This is the data for all of Wisconsin.\n",
    "url = \"https://opendata.arcgis.com/datasets/5374188992374b318d3e2305216ee413_12.csv\"\n",
    "data = pd.read_csv(url, parse_dates=['DATE'], low_memory=False)"
   ]
  },
  {
   "cell_type": "code",
   "execution_count": 3,
   "metadata": {
    "execution": {
     "iopub.execute_input": "2020-11-24T10:11:55.766090Z",
     "iopub.status.busy": "2020-11-24T10:11:55.765601Z",
     "iopub.status.idle": "2020-11-24T10:11:55.773318Z",
     "shell.execute_reply": "2020-11-24T10:11:55.773690Z"
    },
    "jupyter": {
     "source_hidden": true
    },
    "papermill": {
     "duration": 0.020136,
     "end_time": "2020-11-24T10:11:55.773848",
     "exception": false,
     "start_time": "2020-11-24T10:11:55.753712",
     "status": "completed"
    },
    "scrolled": true,
    "tags": [
     "hide-input"
    ]
   },
   "outputs": [],
   "source": [
    "dc = data.groupby('NAME').get_group('Dunn').sort_values(by='DATE') # Select the data for Dunn County from the full data.\n",
    "PNi = dc.columns.get_loc(\"POS_NEW\")\n",
    "dc['7_DAY'] = dc.iloc[:,PNi].rolling(window=7).mean() # Calculates the rolling 7-day average of new cases.\n",
    "dc['14_DAY'] = dc.iloc[:,PNi].rolling(window=14).mean() # Calculates the rolling 14-day average of new cases."
   ]
  },
  {
   "cell_type": "code",
   "execution_count": 4,
   "metadata": {
    "execution": {
     "iopub.execute_input": "2020-11-24T10:11:55.792830Z",
     "iopub.status.busy": "2020-11-24T10:11:55.792334Z",
     "iopub.status.idle": "2020-11-24T10:11:55.794811Z",
     "shell.execute_reply": "2020-11-24T10:11:55.795186Z"
    },
    "jupyter": {
     "source_hidden": true
    },
    "papermill": {
     "duration": 0.01513,
     "end_time": "2020-11-24T10:11:55.795345",
     "exception": false,
     "start_time": "2020-11-24T10:11:55.780215",
     "status": "completed"
    },
    "scrolled": true,
    "tags": [
     "hide-input"
    ]
   },
   "outputs": [
    {
     "data": {
      "text/markdown": [
       "### Last updated: November 23, 2020"
      ],
      "text/plain": [
       "<IPython.core.display.Markdown object>"
      ]
     },
     "metadata": {},
     "output_type": "display_data"
    }
   ],
   "source": [
    "display(Markdown('### Last updated: ' + dc.iloc[-1]['DATE'].strftime(\"%B %d, %Y\")))"
   ]
  },
  {
   "cell_type": "code",
   "execution_count": 5,
   "metadata": {
    "execution": {
     "iopub.execute_input": "2020-11-24T10:11:55.813672Z",
     "iopub.status.busy": "2020-11-24T10:11:55.813197Z",
     "iopub.status.idle": "2020-11-24T10:11:55.815877Z",
     "shell.execute_reply": "2020-11-24T10:11:55.816251Z"
    },
    "jupyter": {
     "source_hidden": true
    },
    "papermill": {
     "duration": 0.014268,
     "end_time": "2020-11-24T10:11:55.816390",
     "exception": false,
     "start_time": "2020-11-24T10:11:55.802122",
     "status": "completed"
    },
    "tags": [
     "hide-input"
    ]
   },
   "outputs": [
    {
     "data": {
      "text/markdown": [
       "# Dunn County has 2446 total positive cases, with 33 new cases reported today."
      ],
      "text/plain": [
       "<IPython.core.display.Markdown object>"
      ]
     },
     "metadata": {},
     "output_type": "display_data"
    }
   ],
   "source": [
    "display(Markdown('# Dunn County has ' + str(dc.iloc[-1]['POSITIVE']) + ' total positive cases, with '+ str(int(dc.iloc[-1]['POS_NEW'])) + ' new cases reported today.'))"
   ]
  },
  {
   "cell_type": "code",
   "execution_count": 6,
   "metadata": {
    "execution": {
     "iopub.execute_input": "2020-11-24T10:11:55.834596Z",
     "iopub.status.busy": "2020-11-24T10:11:55.834116Z",
     "iopub.status.idle": "2020-11-24T10:11:56.032667Z",
     "shell.execute_reply": "2020-11-24T10:11:56.033052Z"
    },
    "jupyter": {
     "source_hidden": true
    },
    "papermill": {
     "duration": 0.209809,
     "end_time": "2020-11-24T10:11:56.033203",
     "exception": false,
     "start_time": "2020-11-24T10:11:55.823394",
     "status": "completed"
    },
    "scrolled": false,
    "tags": [
     "hide-input"
    ]
   },
   "outputs": [
    {
     "data": {
      "image/png": "[encoded data removed]",
      "text/plain": [
       "<Figure size 864x432 with 1 Axes>"
      ]
     },
     "metadata": {
      "needs_background": "light"
     },
     "output_type": "display_data"
    }
   ],
   "source": [
    "dc.plot(x='DATE',y='POSITIVE',color='red',grid='True',figsize=(12,6)).set_xlabel('Date');"
   ]
  },
  {
   "cell_type": "markdown",
   "metadata": {
    "papermill": {
     "duration": 0.008074,
     "end_time": "2020-11-24T10:11:56.049250",
     "exception": false,
     "start_time": "2020-11-24T10:11:56.041176",
     "status": "completed"
    },
    "tags": []
   },
   "source": [
    "## Figure 1: Cummulative number of positive cases."
   ]
  },
  {
   "cell_type": "code",
   "execution_count": 7,
   "metadata": {
    "execution": {
     "iopub.execute_input": "2020-11-24T10:11:56.069463Z",
     "iopub.status.busy": "2020-11-24T10:11:56.068976Z",
     "iopub.status.idle": "2020-11-24T10:11:56.257068Z",
     "shell.execute_reply": "2020-11-24T10:11:56.257429Z"
    },
    "jupyter": {
     "source_hidden": true
    },
    "papermill": {
     "duration": 0.200622,
     "end_time": "2020-11-24T10:11:56.257584",
     "exception": false,
     "start_time": "2020-11-24T10:11:56.056962",
     "status": "completed"
    },
    "scrolled": false,
    "tags": [
     "hide-input"
    ]
   },
   "outputs": [
    {
     "data": {
      "image/png": "[encoded data removed]",
      "text/plain": [
       "<Figure size 864x432 with 1 Axes>"
      ]
     },
     "metadata": {
      "needs_background": "light"
     },
     "output_type": "display_data"
    }
   ],
   "source": [
    "dc.plot(kind='line',x='DATE',y='7_DAY',color='blue',grid='True',figsize=(12,6)).set_xlabel('Date');"
   ]
  },
  {
   "cell_type": "markdown",
   "metadata": {
    "papermill": {
     "duration": 0.008563,
     "end_time": "2020-11-24T10:11:56.274920",
     "exception": false,
     "start_time": "2020-11-24T10:11:56.266357",
     "status": "completed"
    },
    "tags": []
   },
   "source": [
    "## Figure 2: Rolling 7-day average of daily new cases."
   ]
  },
  {
   "cell_type": "code",
   "execution_count": 8,
   "metadata": {
    "execution": {
     "iopub.execute_input": "2020-11-24T10:11:56.296167Z",
     "iopub.status.busy": "2020-11-24T10:11:56.295683Z",
     "iopub.status.idle": "2020-11-24T10:11:56.483239Z",
     "shell.execute_reply": "2020-11-24T10:11:56.483707Z"
    },
    "jupyter": {
     "source_hidden": true
    },
    "papermill": {
     "duration": 0.200452,
     "end_time": "2020-11-24T10:11:56.483873",
     "exception": false,
     "start_time": "2020-11-24T10:11:56.283421",
     "status": "completed"
    },
    "tags": []
   },
   "outputs": [
    {
     "data": {
      "image/png": "[encoded data removed]",
      "text/plain": [
       "<Figure size 864x432 with 1 Axes>"
      ]
     },
     "metadata": {
      "needs_background": "light"
     },
     "output_type": "display_data"
    }
   ],
   "source": [
    "dc.plot(kind='line',x='DATE',y='14_DAY',color='green',grid='True',figsize=(12,6)).set_xlabel('Date');"
   ]
  },
  {
   "cell_type": "markdown",
   "metadata": {
    "papermill": {
     "duration": 0.009795,
     "end_time": "2020-11-24T10:11:56.503869",
     "exception": false,
     "start_time": "2020-11-24T10:11:56.494074",
     "status": "completed"
    },
    "tags": []
   },
   "source": [
    "## Figure 3: Rolling 14-day average of daily new cases."
   ]
  },
  {
   "cell_type": "markdown",
   "metadata": {
    "papermill": {
     "duration": 0.00919,
     "end_time": "2020-11-24T10:11:56.522469",
     "exception": false,
     "start_time": "2020-11-24T10:11:56.513279",
     "status": "completed"
    },
    "tags": []
   },
   "source": [
    "Data source: [Wisconsin Department of Health Services](https://data.dhsgis.wi.gov/datasets/covid-19-historical-data-table/)"
   ]
  },
  {
   "cell_type": "code",
   "execution_count": 9,
   "metadata": {
    "execution": {
     "iopub.execute_input": "2020-11-24T10:11:56.545688Z",
     "iopub.status.busy": "2020-11-24T10:11:56.545204Z",
     "iopub.status.idle": "2020-11-24T10:11:56.552671Z",
     "shell.execute_reply": "2020-11-24T10:11:56.552261Z"
    },
    "jupyter": {
     "source_hidden": true
    },
    "papermill": {
     "duration": 0.02094,
     "end_time": "2020-11-24T10:11:56.552790",
     "exception": false,
     "start_time": "2020-11-24T10:11:56.531850",
     "status": "completed"
    },
    "tags": []
   },
   "outputs": [
    {
     "data": {
      "text/html": [
       "<style>\n",
       "div.input {\n",
       "    display:none;\n",
       "}\n",
       "</style>\n"
      ],
      "text/plain": [
       "<IPython.core.display.HTML object>"
      ]
     },
     "metadata": {},
     "output_type": "display_data"
    }
   ],
   "source": [
    "%%html\n",
    "<style>\n",
    "div.input {\n",
    "    display:none;\n",
    "}\n",
    "</style>"
   ]
  }
 ],
 "metadata": {
  "kernelspec": {
   "display_name": "Python 3",
   "language": "python",
   "name": "python3"
  },
  "language_info": {
   "codemirror_mode": {
    "name": "ipython",
    "version": 3
   },
   "file_extension": ".py",
   "mimetype": "text/x-python",
   "name": "python",
   "nbconvert_exporter": "python",
   "pygments_lexer": "ipython3",
   "version": "3.8.6"
  },
  "papermill": {
   "duration": 5.922718,
   "end_time": "2020-11-24T10:11:56.970105",
   "environment_variables": {},
   "exception": null,
   "input_path": "DunnCounty_COVID19.ipynb",
   "output_path": "DunnCounty_COVID19.ipynb",
   "parameters": {
    "Start": "True",
    "secretsPath": "/home/runner/work/_temp/secrets.json"
   },
   "start_time": "2020-11-24T10:11:51.047387",
   "version": "1.1.16"
  }
 },
 "nbformat": 4,
 "nbformat_minor": 2
}