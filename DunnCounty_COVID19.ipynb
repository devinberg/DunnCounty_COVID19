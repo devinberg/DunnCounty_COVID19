{
 "cells": [
  {
   "cell_type": "code",
   "execution_count": 1,
   "id": "solar-understanding",
   "metadata": {
    "execution": {
     "iopub.execute_input": "2021-02-25T10:22:46.009304Z",
     "iopub.status.busy": "2021-02-25T10:22:46.008831Z",
     "iopub.status.idle": "2021-02-25T10:22:46.940873Z",
     "shell.execute_reply": "2021-02-25T10:22:46.940296Z"
    },
    "jupyter": {
     "source_hidden": true
    },
    "papermill": {
     "duration": 0.948529,
     "end_time": "2021-02-25T10:22:46.941020",
     "exception": false,
     "start_time": "2021-02-25T10:22:45.992491",
     "status": "completed"
    },
    "scrolled": true,
    "tags": [
     "hide-input"
    ]
   },
   "outputs": [],
   "source": [
    "import pandas as pd\n",
    "import matplotlib.pyplot as plt\n",
    "from matplotlib import dates\n",
    "from IPython.display import display, Markdown\n",
    "%matplotlib inline"
   ]
  },
  {
   "cell_type": "code",
   "execution_count": 2,
   "id": "purple-playlist",
   "metadata": {
    "execution": {
     "iopub.execute_input": "2021-02-25T10:22:46.962162Z",
     "iopub.status.busy": "2021-02-25T10:22:46.961696Z",
     "iopub.status.idle": "2021-02-25T10:22:48.051207Z",
     "shell.execute_reply": "2021-02-25T10:22:48.050685Z"
    },
    "jupyter": {
     "source_hidden": true
    },
    "papermill": {
     "duration": 1.101718,
     "end_time": "2021-02-25T10:22:48.051328",
     "exception": false,
     "start_time": "2021-02-25T10:22:46.949610",
     "status": "completed"
    },
    "scrolled": true,
    "tags": [
     "hide-input"
    ]
   },
   "outputs": [],
   "source": [
    "# This is the data for all of Wisconsin.\n",
    "url = \"https://opendata.arcgis.com/datasets/5374188992374b318d3e2305216ee413_12.csv\"\n",
    "data = pd.read_csv(url, parse_dates=['DATE'], low_memory=False)"
   ]
  },
  {
   "cell_type": "code",
   "execution_count": 3,
   "id": "proprietary-klein",
   "metadata": {
    "execution": {
     "iopub.execute_input": "2021-02-25T10:22:48.073510Z",
     "iopub.status.busy": "2021-02-25T10:22:48.073046Z",
     "iopub.status.idle": "2021-02-25T10:22:48.081142Z",
     "shell.execute_reply": "2021-02-25T10:22:48.081490Z"
    },
    "jupyter": {
     "source_hidden": true
    },
    "papermill": {
     "duration": 0.021755,
     "end_time": "2021-02-25T10:22:48.081614",
     "exception": false,
     "start_time": "2021-02-25T10:22:48.059859",
     "status": "completed"
    },
    "scrolled": true,
    "tags": [
     "hide-input"
    ]
   },
   "outputs": [],
   "source": [
    "dc = data.groupby('NAME').get_group('Dunn').sort_values(by='DATE') # Select the data for Dunn County from the full data.\n",
    "PNi = dc.columns.get_loc(\"POS_NEW\")\n",
    "dc['7_DAY'] = dc.iloc[:,PNi].rolling(window=7).mean() # Calculates the rolling 7-day average of new cases.\n",
    "dc['14_DAY'] = dc.iloc[:,PNi].rolling(window=14).mean() # Calculates the rolling 14-day average of new cases."
   ]
  },
  {
   "cell_type": "code",
   "execution_count": 4,
   "id": "steady-supervision",
   "metadata": {
    "execution": {
     "iopub.execute_input": "2021-02-25T10:22:48.102245Z",
     "iopub.status.busy": "2021-02-25T10:22:48.101722Z",
     "iopub.status.idle": "2021-02-25T10:22:48.107125Z",
     "shell.execute_reply": "2021-02-25T10:22:48.107473Z"
    },
    "jupyter": {
     "source_hidden": true
    },
    "papermill": {
     "duration": 0.018522,
     "end_time": "2021-02-25T10:22:48.107587",
     "exception": false,
     "start_time": "2021-02-25T10:22:48.089065",
     "status": "completed"
    },
    "scrolled": true,
    "tags": [
     "hide-input"
    ]
   },
   "outputs": [
    {
     "data": {
      "text/markdown": [
       "### Last updated: February 24, 2021"
      ],
      "text/plain": [
       "<IPython.core.display.Markdown object>"
      ]
     },
     "metadata": {},
     "output_type": "display_data"
    }
   ],
   "source": [
    "display(Markdown('### Last updated: ' + dc.iloc[-1]['DATE'].strftime(\"%B %d, %Y\")))"
   ]
  },
  {
   "cell_type": "code",
   "execution_count": 5,
   "id": "lonely-pitch",
   "metadata": {
    "execution": {
     "iopub.execute_input": "2021-02-25T10:22:48.127176Z",
     "iopub.status.busy": "2021-02-25T10:22:48.126725Z",
     "iopub.status.idle": "2021-02-25T10:22:48.129358Z",
     "shell.execute_reply": "2021-02-25T10:22:48.128964Z"
    },
    "jupyter": {
     "source_hidden": true
    },
    "papermill": {
     "duration": 0.013974,
     "end_time": "2021-02-25T10:22:48.129450",
     "exception": false,
     "start_time": "2021-02-25T10:22:48.115476",
     "status": "completed"
    },
    "tags": [
     "hide-input"
    ]
   },
   "outputs": [
    {
     "data": {
      "text/markdown": [
       "# Dunn County has 4244 total positive cases, with 10 new cases reported today."
      ],
      "text/plain": [
       "<IPython.core.display.Markdown object>"
      ]
     },
     "metadata": {},
     "output_type": "display_data"
    }
   ],
   "source": [
    "display(Markdown('# Dunn County has ' + str(dc.iloc[-1]['POSITIVE']) + ' total positive cases, with '+ str(int(dc.iloc[-1]['POS_NEW'])) + ' new cases reported today.'))"
   ]
  },
  {
   "cell_type": "code",
   "execution_count": 6,
   "id": "compound-nightmare",
   "metadata": {
    "execution": {
     "iopub.execute_input": "2021-02-25T10:22:48.148829Z",
     "iopub.status.busy": "2021-02-25T10:22:48.148355Z",
     "iopub.status.idle": "2021-02-25T10:22:48.359465Z",
     "shell.execute_reply": "2021-02-25T10:22:48.359042Z"
    },
    "jupyter": {
     "source_hidden": true
    },
    "papermill": {
     "duration": 0.221996,
     "end_time": "2021-02-25T10:22:48.359576",
     "exception": false,
     "start_time": "2021-02-25T10:22:48.137580",
     "status": "completed"
    },
    "scrolled": false,
    "tags": [
     "hide-input"
    ]
   },
   "outputs": [
    {
     "data": {
      "image/png": "[encoded data removed]",
      "text/plain": [
       "<Figure size 864x432 with 1 Axes>"
      ]
     },
     "metadata": {
      "needs_background": "light"
     },
     "output_type": "display_data"
    }
   ],
   "source": [
    "dc.plot(x='DATE',y='POSITIVE',color='red',grid='True',figsize=(12,6)).set_xlabel('Date');"
   ]
  },
  {
   "cell_type": "markdown",
   "id": "coupled-literacy",
   "metadata": {
    "papermill": {
     "duration": 0.009181,
     "end_time": "2021-02-25T10:22:48.377992",
     "exception": false,
     "start_time": "2021-02-25T10:22:48.368811",
     "status": "completed"
    },
    "tags": []
   },
   "source": [
    "## Figure 1: Cummulative number of positive cases."
   ]
  },
  {
   "cell_type": "code",
   "execution_count": 7,
   "id": "surrounded-reserve",
   "metadata": {
    "execution": {
     "iopub.execute_input": "2021-02-25T10:22:48.399423Z",
     "iopub.status.busy": "2021-02-25T10:22:48.398970Z",
     "iopub.status.idle": "2021-02-25T10:22:48.566225Z",
     "shell.execute_reply": "2021-02-25T10:22:48.566654Z"
    },
    "jupyter": {
     "source_hidden": true
    },
    "papermill": {
     "duration": 0.179966,
     "end_time": "2021-02-25T10:22:48.566807",
     "exception": false,
     "start_time": "2021-02-25T10:22:48.386841",
     "status": "completed"
    },
    "scrolled": false,
    "tags": [
     "hide-input"
    ]
   },
   "outputs": [
    {
     "data": {
      "image/png": "[encoded data removed]",
      "text/plain": [
       "<Figure size 864x432 with 1 Axes>"
      ]
     },
     "metadata": {
      "needs_background": "light"
     },
     "output_type": "display_data"
    }
   ],
   "source": [
    "dc.plot(kind='line',x='DATE',y='7_DAY',color='blue',grid='True',figsize=(12,6)).set_xlabel('Date');"
   ]
  },
  {
   "cell_type": "markdown",
   "id": "professional-savannah",
   "metadata": {
    "papermill": {
     "duration": 0.010126,
     "end_time": "2021-02-25T10:22:48.588813",
     "exception": false,
     "start_time": "2021-02-25T10:22:48.578687",
     "status": "completed"
    },
    "tags": []
   },
   "source": [
    "## Figure 2: Rolling 7-day average of daily new cases."
   ]
  },
  {
   "cell_type": "code",
   "execution_count": 8,
   "id": "stretch-investor",
   "metadata": {
    "execution": {
     "iopub.execute_input": "2021-02-25T10:22:48.612183Z",
     "iopub.status.busy": "2021-02-25T10:22:48.611736Z",
     "iopub.status.idle": "2021-02-25T10:22:48.778297Z",
     "shell.execute_reply": "2021-02-25T10:22:48.778673Z"
    },
    "jupyter": {
     "source_hidden": true
    },
    "papermill": {
     "duration": 0.180332,
     "end_time": "2021-02-25T10:22:48.778814",
     "exception": false,
     "start_time": "2021-02-25T10:22:48.598482",
     "status": "completed"
    },
    "tags": []
   },
   "outputs": [
    {
     "data": {
      "image/png": "[encoded data removed]",
      "text/plain": [
       "<Figure size 864x432 with 1 Axes>"
      ]
     },
     "metadata": {
      "needs_background": "light"
     },
     "output_type": "display_data"
    }
   ],
   "source": [
    "dc.plot(kind='line',x='DATE',y='14_DAY',color='green',grid='True',figsize=(12,6)).set_xlabel('Date');"
   ]
  },
  {
   "cell_type": "markdown",
   "id": "prerequisite-species",
   "metadata": {
    "papermill": {
     "duration": 0.010853,
     "end_time": "2021-02-25T10:22:48.800559",
     "exception": false,
     "start_time": "2021-02-25T10:22:48.789706",
     "status": "completed"
    },
    "tags": []
   },
   "source": [
    "## Figure 3: Rolling 14-day average of daily new cases."
   ]
  },
  {
   "cell_type": "markdown",
   "id": "palestinian-guard",
   "metadata": {
    "papermill": {
     "duration": 0.010582,
     "end_time": "2021-02-25T10:22:48.821736",
     "exception": false,
     "start_time": "2021-02-25T10:22:48.811154",
     "status": "completed"
    },
    "tags": []
   },
   "source": [
    "Data source: [Wisconsin Department of Health Services](https://data.dhsgis.wi.gov/datasets/covid-19-historical-data-table/)"
   ]
  },
  {
   "cell_type": "code",
   "execution_count": 9,
   "id": "proof-medicare",
   "metadata": {
    "execution": {
     "iopub.execute_input": "2021-02-25T10:22:48.846597Z",
     "iopub.status.busy": "2021-02-25T10:22:48.846148Z",
     "iopub.status.idle": "2021-02-25T10:22:48.849166Z",
     "shell.execute_reply": "2021-02-25T10:22:48.848791Z"
    },
    "jupyter": {
     "source_hidden": true
    },
    "papermill": {
     "duration": 0.016978,
     "end_time": "2021-02-25T10:22:48.849265",
     "exception": false,
     "start_time": "2021-02-25T10:22:48.832287",
     "status": "completed"
    },
    "tags": []
   },
   "outputs": [
    {
     "data": {
      "text/html": [
       "<style>\n",
       "div.input {\n",
       "    display:none;\n",
       "}\n",
       "</style>\n"
      ],
      "text/plain": [
       "<IPython.core.display.HTML object>"
      ]
     },
     "metadata": {},
     "output_type": "display_data"
    }
   ],
   "source": [
    "%%html\n",
    "<style>\n",
    "div.input {\n",
    "    display:none;\n",
    "}\n",
    "</style>"
   ]
  }
 ],
 "metadata": {
  "kernelspec": {
   "display_name": "Python 3",
   "language": "python",
   "name": "python3"
  },
  "language_info": {
   "codemirror_mode": {
    "name": "ipython",
    "version": 3
   },
   "file_extension": ".py",
   "mimetype": "text/x-python",
   "name": "python",
   "nbconvert_exporter": "python",
   "pygments_lexer": "ipython3",
   "version": "3.8.7"
  },
  "papermill": {
   "duration": 5.850555,
   "end_time": "2021-02-25T10:22:50.161049",
   "environment_variables": {},
   "exception": null,
   "input_path": "DunnCounty_COVID19.ipynb",
   "output_path": "DunnCounty_COVID19.ipynb",
   "parameters": {
    "Start": "True",
    "secretsPath": "/home/runner/work/_temp/secrets.json"
   },
   "start_time": "2021-02-25T10:22:44.310494",
   "version": "1.1.16"
  }
 },
 "nbformat": 4,
 "nbformat_minor": 5
}