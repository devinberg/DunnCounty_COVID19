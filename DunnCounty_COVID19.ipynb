{
 "cells": [
  {
   "cell_type": "code",
   "execution_count": 1,
   "metadata": {
    "execution": {
     "iopub.execute_input": "2020-09-25T22:09:57.038630Z",
     "iopub.status.busy": "2020-09-25T22:09:57.038021Z",
     "iopub.status.idle": "2020-09-25T22:09:58.244483Z",
     "shell.execute_reply": "2020-09-25T22:09:58.243920Z"
    },
    "jupyter": {
     "source_hidden": true
    },
    "papermill": {
     "duration": 1.220247,
     "end_time": "2020-09-25T22:09:58.244662",
     "exception": false,
     "start_time": "2020-09-25T22:09:57.024415",
     "status": "completed"
    },
    "scrolled": true,
    "tags": [
     "hide-input"
    ]
   },
   "outputs": [],
   "source": [
    "import pandas as pd\n",
    "import matplotlib.pyplot as plt\n",
    "from matplotlib import dates\n",
    "from IPython.display import display, Markdown\n",
    "%matplotlib inline"
   ]
  },
  {
   "cell_type": "code",
   "execution_count": 2,
   "metadata": {
    "execution": {
     "iopub.execute_input": "2020-09-25T22:09:58.264239Z",
     "iopub.status.busy": "2020-09-25T22:09:58.263631Z",
     "iopub.status.idle": "2020-09-25T22:10:01.897433Z",
     "shell.execute_reply": "2020-09-25T22:10:01.896797Z"
    },
    "jupyter": {
     "source_hidden": true
    },
    "papermill": {
     "duration": 3.645796,
     "end_time": "2020-09-25T22:10:01.897601",
     "exception": false,
     "start_time": "2020-09-25T22:09:58.251805",
     "status": "completed"
    },
    "scrolled": true,
    "tags": [
     "hide-input"
    ]
   },
   "outputs": [],
   "source": [
    "# This is the data for all of Wisconsin.\n",
    "url = \"https://opendata.arcgis.com/datasets/b913e9591eae4912b33dc5b4e88646c5_10.csv\"\n",
    "data = pd.read_csv(url, parse_dates=['DATE'], low_memory=False)"
   ]
  },
  {
   "cell_type": "code",
   "execution_count": 3,
   "metadata": {
    "execution": {
     "iopub.execute_input": "2020-09-25T22:10:01.926523Z",
     "iopub.status.busy": "2020-09-25T22:10:01.925988Z",
     "iopub.status.idle": "2020-09-25T22:10:01.935336Z",
     "shell.execute_reply": "2020-09-25T22:10:01.934872Z"
    },
    "jupyter": {
     "source_hidden": true
    },
    "papermill": {
     "duration": 0.029442,
     "end_time": "2020-09-25T22:10:01.935450",
     "exception": false,
     "start_time": "2020-09-25T22:10:01.906008",
     "status": "completed"
    },
    "scrolled": true,
    "tags": [
     "hide-input"
    ]
   },
   "outputs": [],
   "source": [
    "dc = data.groupby('NAME').get_group('Dunn').sort_values(by='DATE') # Select the data for Dunn County from the full data.\n",
    "PNi = dc.columns.get_loc(\"POS_NEW\")\n",
    "dc['7_DAY'] = dc.iloc[:,PNi].rolling(window=7).mean() # Calculates the rolling 7-day average of new cases.\n",
    "dc['14_DAY'] = dc.iloc[:,PNi].rolling(window=14).mean() # Calculates the rolling 14-day average of new cases."
   ]
  },
  {
   "cell_type": "code",
   "execution_count": 4,
   "metadata": {
    "execution": {
     "iopub.execute_input": "2020-09-25T22:10:01.955250Z",
     "iopub.status.busy": "2020-09-25T22:10:01.952052Z",
     "iopub.status.idle": "2020-09-25T22:10:01.958589Z",
     "shell.execute_reply": "2020-09-25T22:10:01.959246Z"
    },
    "jupyter": {
     "source_hidden": true
    },
    "papermill": {
     "duration": 0.017241,
     "end_time": "2020-09-25T22:10:01.959394",
     "exception": false,
     "start_time": "2020-09-25T22:10:01.942153",
     "status": "completed"
    },
    "scrolled": true,
    "tags": [
     "hide-input"
    ]
   },
   "outputs": [
    {
     "data": {
      "text/markdown": [
       "### Last updated: September 25, 2020"
      ],
      "text/plain": [
       "<IPython.core.display.Markdown object>"
      ]
     },
     "metadata": {},
     "output_type": "display_data"
    }
   ],
   "source": [
    "display(Markdown('### Last updated: ' + dc.iloc[-1]['DATE'].strftime(\"%B %d, %Y\")))"
   ]
  },
  {
   "cell_type": "code",
   "execution_count": 5,
   "metadata": {
    "execution": {
     "iopub.execute_input": "2020-09-25T22:10:01.979860Z",
     "iopub.status.busy": "2020-09-25T22:10:01.979271Z",
     "iopub.status.idle": "2020-09-25T22:10:01.982644Z",
     "shell.execute_reply": "2020-09-25T22:10:01.982206Z"
    },
    "jupyter": {
     "source_hidden": true
    },
    "papermill": {
     "duration": 0.01494,
     "end_time": "2020-09-25T22:10:01.982755",
     "exception": false,
     "start_time": "2020-09-25T22:10:01.967815",
     "status": "completed"
    },
    "tags": [
     "hide-input"
    ]
   },
   "outputs": [
    {
     "data": {
      "text/markdown": [
       "# Dunn County has 472 total positive cases, with 23 new cases reported today."
      ],
      "text/plain": [
       "<IPython.core.display.Markdown object>"
      ]
     },
     "metadata": {},
     "output_type": "display_data"
    }
   ],
   "source": [
    "display(Markdown('# Dunn County has ' + str(dc.iloc[-1]['POSITIVE']) + ' total positive cases, with '+ str(int(dc.iloc[-1]['POS_NEW'])) + ' new cases reported today.'))"
   ]
  },
  {
   "cell_type": "code",
   "execution_count": 6,
   "metadata": {
    "execution": {
     "iopub.execute_input": "2020-09-25T22:10:02.002072Z",
     "iopub.status.busy": "2020-09-25T22:10:02.001518Z",
     "iopub.status.idle": "2020-09-25T22:10:02.222389Z",
     "shell.execute_reply": "2020-09-25T22:10:02.222830Z"
    },
    "jupyter": {
     "source_hidden": true
    },
    "papermill": {
     "duration": 0.23243,
     "end_time": "2020-09-25T22:10:02.222987",
     "exception": false,
     "start_time": "2020-09-25T22:10:01.990557",
     "status": "completed"
    },
    "scrolled": false,
    "tags": [
     "hide-input"
    ]
   },
   "outputs": [
    {
     "data": {
      "image/png": "[encoded data removed]",
      "text/plain": [
       "<Figure size 864x432 with 1 Axes>"
      ]
     },
     "metadata": {
      "needs_background": "light"
     },
     "output_type": "display_data"
    }
   ],
   "source": [
    "dc.plot(x='DATE',y='POSITIVE',color='red',grid='True',figsize=(12,6)).set_xlabel('Date');"
   ]
  },
  {
   "cell_type": "markdown",
   "metadata": {
    "papermill": {
     "duration": 0.008622,
     "end_time": "2020-09-25T22:10:02.239931",
     "exception": false,
     "start_time": "2020-09-25T22:10:02.231309",
     "status": "completed"
    },
    "tags": []
   },
   "source": [
    "## Figure 1: Cummulative number of positive cases."
   ]
  },
  {
   "cell_type": "code",
   "execution_count": 7,
   "metadata": {
    "execution": {
     "iopub.execute_input": "2020-09-25T22:10:02.262090Z",
     "iopub.status.busy": "2020-09-25T22:10:02.261551Z",
     "iopub.status.idle": "2020-09-25T22:10:02.463193Z",
     "shell.execute_reply": "2020-09-25T22:10:02.463677Z"
    },
    "jupyter": {
     "source_hidden": true
    },
    "papermill": {
     "duration": 0.215467,
     "end_time": "2020-09-25T22:10:02.463834",
     "exception": false,
     "start_time": "2020-09-25T22:10:02.248367",
     "status": "completed"
    },
    "scrolled": false,
    "tags": [
     "hide-input"
    ]
   },
   "outputs": [
    {
     "data": {
      "image/png": "[encoded data removed]",
      "text/plain": [
       "<Figure size 864x432 with 1 Axes>"
      ]
     },
     "metadata": {
      "needs_background": "light"
     },
     "output_type": "display_data"
    }
   ],
   "source": [
    "dc.plot(kind='line',x='DATE',y='7_DAY',color='blue',grid='True',figsize=(12,6)).set_xlabel('Date');"
   ]
  },
  {
   "cell_type": "markdown",
   "metadata": {
    "papermill": {
     "duration": 0.008546,
     "end_time": "2020-09-25T22:10:02.481456",
     "exception": false,
     "start_time": "2020-09-25T22:10:02.472910",
     "status": "completed"
    },
    "tags": []
   },
   "source": [
    "## Figure 2: Rolling 7-day average of daily new cases."
   ]
  },
  {
   "cell_type": "code",
   "execution_count": 8,
   "metadata": {
    "execution": {
     "iopub.execute_input": "2020-09-25T22:10:02.520435Z",
     "iopub.status.busy": "2020-09-25T22:10:02.502743Z",
     "iopub.status.idle": "2020-09-25T22:10:02.722256Z",
     "shell.execute_reply": "2020-09-25T22:10:02.721709Z"
    },
    "jupyter": {
     "source_hidden": true
    },
    "papermill": {
     "duration": 0.232186,
     "end_time": "2020-09-25T22:10:02.722381",
     "exception": false,
     "start_time": "2020-09-25T22:10:02.490195",
     "status": "completed"
    },
    "tags": []
   },
   "outputs": [
    {
     "data": {
      "image/png": "[encoded data removed]",
      "text/plain": [
       "<Figure size 864x432 with 1 Axes>"
      ]
     },
     "metadata": {
      "needs_background": "light"
     },
     "output_type": "display_data"
    }
   ],
   "source": [
    "dc.plot(kind='line',x='DATE',y='14_DAY',color='green',grid='True',figsize=(12,6)).set_xlabel('Date');"
   ]
  },
  {
   "cell_type": "markdown",
   "metadata": {
    "papermill": {
     "duration": 0.009551,
     "end_time": "2020-09-25T22:10:02.741528",
     "exception": false,
     "start_time": "2020-09-25T22:10:02.731977",
     "status": "completed"
    },
    "tags": []
   },
   "source": [
    "## Figure 3: Rolling 14-day average of daily new cases."
   ]
  },
  {
   "cell_type": "markdown",
   "metadata": {
    "papermill": {
     "duration": 0.009924,
     "end_time": "2020-09-25T22:10:02.760773",
     "exception": false,
     "start_time": "2020-09-25T22:10:02.750849",
     "status": "completed"
    },
    "tags": []
   },
   "source": [
    "Data source: [Wisconsin Department of Health Services](https://data.dhsgis.wi.gov/datasets/covid-19-historical-data-table/)"
   ]
  },
  {
   "cell_type": "code",
   "execution_count": 9,
   "metadata": {
    "execution": {
     "iopub.execute_input": "2020-09-25T22:10:02.787337Z",
     "iopub.status.busy": "2020-09-25T22:10:02.786694Z",
     "iopub.status.idle": "2020-09-25T22:10:02.789903Z",
     "shell.execute_reply": "2020-09-25T22:10:02.789441Z"
    },
    "jupyter": {
     "source_hidden": true
    },
    "papermill": {
     "duration": 0.017764,
     "end_time": "2020-09-25T22:10:02.790014",
     "exception": false,
     "start_time": "2020-09-25T22:10:02.772250",
     "status": "completed"
    },
    "tags": []
   },
   "outputs": [
    {
     "data": {
      "text/html": [
       "<style>\n",
       "div.input {\n",
       "    display:none;\n",
       "}\n",
       "</style>\n"
      ],
      "text/plain": [
       "<IPython.core.display.HTML object>"
      ]
     },
     "metadata": {},
     "output_type": "display_data"
    }
   ],
   "source": [
    "%%html\n",
    "<style>\n",
    "div.input {\n",
    "    display:none;\n",
    "}\n",
    "</style>"
   ]
  }
 ],
 "metadata": {
  "kernelspec": {
   "display_name": "Python 3",
   "language": "python",
   "name": "python3"
  },
  "language_info": {
   "codemirror_mode": {
    "name": "ipython",
    "version": 3
   },
   "file_extension": ".py",
   "mimetype": "text/x-python",
   "name": "python",
   "nbconvert_exporter": "python",
   "pygments_lexer": "ipython3",
   "version": "3.8.5"
  },
  "papermill": {
   "duration": 7.621754,
   "end_time": "2020-09-25T22:10:03.106762",
   "environment_variables": {},
   "exception": null,
   "input_path": "DunnCounty_COVID19.ipynb",
   "output_path": "DunnCounty_COVID19.ipynb",
   "parameters": {
    "Start": "True",
    "secretsPath": "/home/runner/work/_temp/secrets.json"
   },
   "start_time": "2020-09-25T22:09:55.485008",
   "version": "1.1.16"
  }
 },
 "nbformat": 4,
 "nbformat_minor": 2
}