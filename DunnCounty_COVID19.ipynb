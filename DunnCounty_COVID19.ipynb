{
 "cells": [
  {
   "cell_type": "code",
   "execution_count": 1,
   "id": "solar-understanding",
   "metadata": {
    "execution": {
     "iopub.execute_input": "2021-02-04T10:16:24.847917Z",
     "iopub.status.busy": "2021-02-04T10:16:24.847311Z",
     "iopub.status.idle": "2021-02-04T10:16:26.396761Z",
     "shell.execute_reply": "2021-02-04T10:16:26.396165Z"
    },
    "jupyter": {
     "source_hidden": true
    },
    "papermill": {
     "duration": 1.567819,
     "end_time": "2021-02-04T10:16:26.396952",
     "exception": false,
     "start_time": "2021-02-04T10:16:24.829133",
     "status": "completed"
    },
    "scrolled": true,
    "tags": [
     "hide-input"
    ]
   },
   "outputs": [],
   "source": [
    "import pandas as pd\n",
    "import matplotlib.pyplot as plt\n",
    "from matplotlib import dates\n",
    "from IPython.display import display, Markdown\n",
    "%matplotlib inline"
   ]
  },
  {
   "cell_type": "code",
   "execution_count": 2,
   "id": "purple-playlist",
   "metadata": {
    "execution": {
     "iopub.execute_input": "2021-02-04T10:16:26.419681Z",
     "iopub.status.busy": "2021-02-04T10:16:26.419135Z",
     "iopub.status.idle": "2021-02-04T10:16:27.103089Z",
     "shell.execute_reply": "2021-02-04T10:16:27.102511Z"
    },
    "jupyter": {
     "source_hidden": true
    },
    "papermill": {
     "duration": 0.697329,
     "end_time": "2021-02-04T10:16:27.103232",
     "exception": false,
     "start_time": "2021-02-04T10:16:26.405903",
     "status": "completed"
    },
    "scrolled": true,
    "tags": [
     "hide-input"
    ]
   },
   "outputs": [],
   "source": [
    "# This is the data for all of Wisconsin.\n",
    "url = \"https://opendata.arcgis.com/datasets/5374188992374b318d3e2305216ee413_12.csv\"\n",
    "data = pd.read_csv(url, parse_dates=['DATE'], low_memory=False)"
   ]
  },
  {
   "cell_type": "code",
   "execution_count": 3,
   "id": "proprietary-klein",
   "metadata": {
    "execution": {
     "iopub.execute_input": "2021-02-04T10:16:27.126074Z",
     "iopub.status.busy": "2021-02-04T10:16:27.125517Z",
     "iopub.status.idle": "2021-02-04T10:16:27.133376Z",
     "shell.execute_reply": "2021-02-04T10:16:27.132858Z"
    },
    "jupyter": {
     "source_hidden": true
    },
    "papermill": {
     "duration": 0.021599,
     "end_time": "2021-02-04T10:16:27.133484",
     "exception": false,
     "start_time": "2021-02-04T10:16:27.111885",
     "status": "completed"
    },
    "scrolled": true,
    "tags": [
     "hide-input"
    ]
   },
   "outputs": [],
   "source": [
    "dc = data.groupby('NAME').get_group('Dunn').sort_values(by='DATE') # Select the data for Dunn County from the full data.\n",
    "PNi = dc.columns.get_loc(\"POS_NEW\")\n",
    "dc['7_DAY'] = dc.iloc[:,PNi].rolling(window=7).mean() # Calculates the rolling 7-day average of new cases.\n",
    "dc['14_DAY'] = dc.iloc[:,PNi].rolling(window=14).mean() # Calculates the rolling 14-day average of new cases."
   ]
  },
  {
   "cell_type": "code",
   "execution_count": 4,
   "id": "steady-supervision",
   "metadata": {
    "execution": {
     "iopub.execute_input": "2021-02-04T10:16:27.155553Z",
     "iopub.status.busy": "2021-02-04T10:16:27.155039Z",
     "iopub.status.idle": "2021-02-04T10:16:27.158144Z",
     "shell.execute_reply": "2021-02-04T10:16:27.157695Z"
    },
    "jupyter": {
     "source_hidden": true
    },
    "papermill": {
     "duration": 0.016239,
     "end_time": "2021-02-04T10:16:27.158251",
     "exception": false,
     "start_time": "2021-02-04T10:16:27.142012",
     "status": "completed"
    },
    "scrolled": true,
    "tags": [
     "hide-input"
    ]
   },
   "outputs": [
    {
     "data": {
      "text/markdown": [
       "### Last updated: February 03, 2021"
      ],
      "text/plain": [
       "<IPython.core.display.Markdown object>"
      ]
     },
     "metadata": {},
     "output_type": "display_data"
    }
   ],
   "source": [
    "display(Markdown('### Last updated: ' + dc.iloc[-1]['DATE'].strftime(\"%B %d, %Y\")))"
   ]
  },
  {
   "cell_type": "code",
   "execution_count": 5,
   "id": "lonely-pitch",
   "metadata": {
    "execution": {
     "iopub.execute_input": "2021-02-04T10:16:27.179494Z",
     "iopub.status.busy": "2021-02-04T10:16:27.178957Z",
     "iopub.status.idle": "2021-02-04T10:16:27.182709Z",
     "shell.execute_reply": "2021-02-04T10:16:27.182197Z"
    },
    "jupyter": {
     "source_hidden": true
    },
    "papermill": {
     "duration": 0.016164,
     "end_time": "2021-02-04T10:16:27.182815",
     "exception": false,
     "start_time": "2021-02-04T10:16:27.166651",
     "status": "completed"
    },
    "tags": [
     "hide-input"
    ]
   },
   "outputs": [
    {
     "data": {
      "text/markdown": [
       "# Dunn County has 4096 total positive cases, with 22 new cases reported today."
      ],
      "text/plain": [
       "<IPython.core.display.Markdown object>"
      ]
     },
     "metadata": {},
     "output_type": "display_data"
    }
   ],
   "source": [
    "display(Markdown('# Dunn County has ' + str(dc.iloc[-1]['POSITIVE']) + ' total positive cases, with '+ str(int(dc.iloc[-1]['POS_NEW'])) + ' new cases reported today.'))"
   ]
  },
  {
   "cell_type": "code",
   "execution_count": 6,
   "id": "compound-nightmare",
   "metadata": {
    "execution": {
     "iopub.execute_input": "2021-02-04T10:16:27.204754Z",
     "iopub.status.busy": "2021-02-04T10:16:27.204196Z",
     "iopub.status.idle": "2021-02-04T10:16:27.487279Z",
     "shell.execute_reply": "2021-02-04T10:16:27.486830Z"
    },
    "jupyter": {
     "source_hidden": true
    },
    "papermill": {
     "duration": 0.296051,
     "end_time": "2021-02-04T10:16:27.487411",
     "exception": false,
     "start_time": "2021-02-04T10:16:27.191360",
     "status": "completed"
    },
    "scrolled": false,
    "tags": [
     "hide-input"
    ]
   },
   "outputs": [
    {
     "data": {
      "image/png": "[encoded data removed]",
      "text/plain": [
       "<Figure size 864x432 with 1 Axes>"
      ]
     },
     "metadata": {
      "needs_background": "light"
     },
     "output_type": "display_data"
    }
   ],
   "source": [
    "dc.plot(x='DATE',y='POSITIVE',color='red',grid='True',figsize=(12,6)).set_xlabel('Date');"
   ]
  },
  {
   "cell_type": "markdown",
   "id": "coupled-literacy",
   "metadata": {
    "papermill": {
     "duration": 0.009349,
     "end_time": "2021-02-04T10:16:27.506978",
     "exception": false,
     "start_time": "2021-02-04T10:16:27.497629",
     "status": "completed"
    },
    "tags": []
   },
   "source": [
    "## Figure 1: Cummulative number of positive cases."
   ]
  },
  {
   "cell_type": "code",
   "execution_count": 7,
   "id": "surrounded-reserve",
   "metadata": {
    "execution": {
     "iopub.execute_input": "2021-02-04T10:16:27.531103Z",
     "iopub.status.busy": "2021-02-04T10:16:27.530232Z",
     "iopub.status.idle": "2021-02-04T10:16:27.767016Z",
     "shell.execute_reply": "2021-02-04T10:16:27.766536Z"
    },
    "jupyter": {
     "source_hidden": true
    },
    "papermill": {
     "duration": 0.250858,
     "end_time": "2021-02-04T10:16:27.767151",
     "exception": false,
     "start_time": "2021-02-04T10:16:27.516293",
     "status": "completed"
    },
    "scrolled": false,
    "tags": [
     "hide-input"
    ]
   },
   "outputs": [
    {
     "data": {
      "image/png": "[encoded data removed]",
      "text/plain": [
       "<Figure size 864x432 with 1 Axes>"
      ]
     },
     "metadata": {
      "needs_background": "light"
     },
     "output_type": "display_data"
    }
   ],
   "source": [
    "dc.plot(kind='line',x='DATE',y='7_DAY',color='blue',grid='True',figsize=(12,6)).set_xlabel('Date');"
   ]
  },
  {
   "cell_type": "markdown",
   "id": "professional-savannah",
   "metadata": {
    "papermill": {
     "duration": 0.010422,
     "end_time": "2021-02-04T10:16:27.788441",
     "exception": false,
     "start_time": "2021-02-04T10:16:27.778019",
     "status": "completed"
    },
    "tags": []
   },
   "source": [
    "## Figure 2: Rolling 7-day average of daily new cases."
   ]
  },
  {
   "cell_type": "code",
   "execution_count": 8,
   "id": "stretch-investor",
   "metadata": {
    "execution": {
     "iopub.execute_input": "2021-02-04T10:16:27.814705Z",
     "iopub.status.busy": "2021-02-04T10:16:27.813849Z",
     "iopub.status.idle": "2021-02-04T10:16:28.054480Z",
     "shell.execute_reply": "2021-02-04T10:16:28.053934Z"
    },
    "jupyter": {
     "source_hidden": true
    },
    "papermill": {
     "duration": 0.255158,
     "end_time": "2021-02-04T10:16:28.054613",
     "exception": false,
     "start_time": "2021-02-04T10:16:27.799455",
     "status": "completed"
    },
    "tags": []
   },
   "outputs": [
    {
     "data": {
      "image/png": "[encoded data removed]",
      "text/plain": [
       "<Figure size 864x432 with 1 Axes>"
      ]
     },
     "metadata": {
      "needs_background": "light"
     },
     "output_type": "display_data"
    }
   ],
   "source": [
    "dc.plot(kind='line',x='DATE',y='14_DAY',color='green',grid='True',figsize=(12,6)).set_xlabel('Date');"
   ]
  },
  {
   "cell_type": "markdown",
   "id": "prerequisite-species",
   "metadata": {
    "papermill": {
     "duration": 0.011892,
     "end_time": "2021-02-04T10:16:28.078513",
     "exception": false,
     "start_time": "2021-02-04T10:16:28.066621",
     "status": "completed"
    },
    "tags": []
   },
   "source": [
    "## Figure 3: Rolling 14-day average of daily new cases."
   ]
  },
  {
   "cell_type": "markdown",
   "id": "palestinian-guard",
   "metadata": {
    "papermill": {
     "duration": 0.010983,
     "end_time": "2021-02-04T10:16:28.102184",
     "exception": false,
     "start_time": "2021-02-04T10:16:28.091201",
     "status": "completed"
    },
    "tags": []
   },
   "source": [
    "Data source: [Wisconsin Department of Health Services](https://data.dhsgis.wi.gov/datasets/covid-19-historical-data-table/)"
   ]
  },
  {
   "cell_type": "code",
   "execution_count": 9,
   "id": "proof-medicare",
   "metadata": {
    "execution": {
     "iopub.execute_input": "2021-02-04T10:16:28.128570Z",
     "iopub.status.busy": "2021-02-04T10:16:28.127991Z",
     "iopub.status.idle": "2021-02-04T10:16:28.131147Z",
     "shell.execute_reply": "2021-02-04T10:16:28.131634Z"
    },
    "jupyter": {
     "source_hidden": true
    },
    "papermill": {
     "duration": 0.018538,
     "end_time": "2021-02-04T10:16:28.131766",
     "exception": false,
     "start_time": "2021-02-04T10:16:28.113228",
     "status": "completed"
    },
    "tags": []
   },
   "outputs": [
    {
     "data": {
      "text/html": [
       "<style>\n",
       "div.input {\n",
       "    display:none;\n",
       "}\n",
       "</style>\n"
      ],
      "text/plain": [
       "<IPython.core.display.HTML object>"
      ]
     },
     "metadata": {},
     "output_type": "display_data"
    }
   ],
   "source": [
    "%%html\n",
    "<style>\n",
    "div.input {\n",
    "    display:none;\n",
    "}\n",
    "</style>"
   ]
  }
 ],
 "metadata": {
  "kernelspec": {
   "display_name": "Python 3",
   "language": "python",
   "name": "python3"
  },
  "language_info": {
   "codemirror_mode": {
    "name": "ipython",
    "version": 3
   },
   "file_extension": ".py",
   "mimetype": "text/x-python",
   "name": "python",
   "nbconvert_exporter": "python",
   "pygments_lexer": "ipython3",
   "version": "3.8.7"
  },
  "papermill": {
   "duration": 5.125613,
   "end_time": "2021-02-04T10:16:28.449751",
   "environment_variables": {},
   "exception": null,
   "input_path": "DunnCounty_COVID19.ipynb",
   "output_path": "DunnCounty_COVID19.ipynb",
   "parameters": {
    "Start": "True",
    "secretsPath": "/home/runner/work/_temp/secrets.json"
   },
   "start_time": "2021-02-04T10:16:23.324138",
   "version": "1.1.16"
  }
 },
 "nbformat": 4,
 "nbformat_minor": 5
}