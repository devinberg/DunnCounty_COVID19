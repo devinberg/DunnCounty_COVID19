{
 "cells": [
  {
   "cell_type": "code",
   "execution_count": 1,
   "id": "solar-understanding",
   "metadata": {
    "execution": {
     "iopub.execute_input": "2021-05-19T22:16:06.347620Z",
     "iopub.status.busy": "2021-05-19T22:16:06.347163Z",
     "iopub.status.idle": "2021-05-19T22:16:07.106812Z",
     "shell.execute_reply": "2021-05-19T22:16:07.107256Z"
    },
    "jupyter": {
     "source_hidden": true
    },
    "papermill": {
     "duration": 0.778589,
     "end_time": "2021-05-19T22:16:07.107517",
     "exception": false,
     "start_time": "2021-05-19T22:16:06.328928",
     "status": "completed"
    },
    "scrolled": true,
    "tags": [
     "hide-input"
    ]
   },
   "outputs": [],
   "source": [
    "import pandas as pd\n",
    "import matplotlib.pyplot as plt\n",
    "from matplotlib import dates\n",
    "from IPython.display import display, Markdown\n",
    "%matplotlib inline"
   ]
  },
  {
   "cell_type": "code",
   "execution_count": 2,
   "id": "purple-playlist",
   "metadata": {
    "execution": {
     "iopub.execute_input": "2021-05-19T22:16:07.128219Z",
     "iopub.status.busy": "2021-05-19T22:16:07.127761Z",
     "iopub.status.idle": "2021-05-19T22:16:07.815021Z",
     "shell.execute_reply": "2021-05-19T22:16:07.814531Z"
    },
    "jupyter": {
     "source_hidden": true
    },
    "papermill": {
     "duration": 0.699299,
     "end_time": "2021-05-19T22:16:07.815156",
     "exception": false,
     "start_time": "2021-05-19T22:16:07.115857",
     "status": "completed"
    },
    "scrolled": true,
    "tags": [
     "hide-input"
    ]
   },
   "outputs": [],
   "source": [
    "# This is the data for all of Wisconsin.\n",
    "url = \"https://opendata.arcgis.com/datasets/80ff9d4897db4d7692f0f4ad28447cab_12.csv\"\n",
    "data = pd.read_csv(url, parse_dates=['DATE'], low_memory=False)"
   ]
  },
  {
   "cell_type": "code",
   "execution_count": 3,
   "id": "proprietary-klein",
   "metadata": {
    "execution": {
     "iopub.execute_input": "2021-05-19T22:16:07.836578Z",
     "iopub.status.busy": "2021-05-19T22:16:07.835837Z",
     "iopub.status.idle": "2021-05-19T22:16:07.845603Z",
     "shell.execute_reply": "2021-05-19T22:16:07.845205Z"
    },
    "jupyter": {
     "source_hidden": true
    },
    "papermill": {
     "duration": 0.02219,
     "end_time": "2021-05-19T22:16:07.845698",
     "exception": false,
     "start_time": "2021-05-19T22:16:07.823508",
     "status": "completed"
    },
    "scrolled": true,
    "tags": [
     "hide-input"
    ]
   },
   "outputs": [],
   "source": [
    "dc = data.groupby('NAME').get_group('Dunn').sort_values(by='DATE') # Select the data for Dunn County from the full data.\n",
    "PNi = dc.columns.get_loc(\"POS_NEW\")\n",
    "dc['7_DAY'] = dc.iloc[:,PNi].rolling(window=7).mean() # Calculates the rolling 7-day average of new cases.\n",
    "dc['14_DAY'] = dc.iloc[:,PNi].rolling(window=14).mean() # Calculates the rolling 14-day average of new cases."
   ]
  },
  {
   "cell_type": "code",
   "execution_count": 4,
   "id": "steady-supervision",
   "metadata": {
    "execution": {
     "iopub.execute_input": "2021-05-19T22:16:07.867024Z",
     "iopub.status.busy": "2021-05-19T22:16:07.866504Z",
     "iopub.status.idle": "2021-05-19T22:16:07.868554Z",
     "shell.execute_reply": "2021-05-19T22:16:07.868960Z"
    },
    "jupyter": {
     "source_hidden": true
    },
    "papermill": {
     "duration": 0.015877,
     "end_time": "2021-05-19T22:16:07.869068",
     "exception": false,
     "start_time": "2021-05-19T22:16:07.853191",
     "status": "completed"
    },
    "scrolled": true,
    "tags": [
     "hide-input"
    ]
   },
   "outputs": [
    {
     "data": {
      "text/markdown": [
       "### Last updated: May 18, 2021"
      ],
      "text/plain": [
       "<IPython.core.display.Markdown object>"
      ]
     },
     "metadata": {},
     "output_type": "display_data"
    }
   ],
   "source": [
    "display(Markdown('### Last updated: ' + dc.iloc[-1]['DATE'].strftime(\"%B %d, %Y\")))"
   ]
  },
  {
   "cell_type": "code",
   "execution_count": 5,
   "id": "lonely-pitch",
   "metadata": {
    "execution": {
     "iopub.execute_input": "2021-05-19T22:16:07.889209Z",
     "iopub.status.busy": "2021-05-19T22:16:07.888690Z",
     "iopub.status.idle": "2021-05-19T22:16:07.891068Z",
     "shell.execute_reply": "2021-05-19T22:16:07.890686Z"
    },
    "jupyter": {
     "source_hidden": true
    },
    "papermill": {
     "duration": 0.014251,
     "end_time": "2021-05-19T22:16:07.891158",
     "exception": false,
     "start_time": "2021-05-19T22:16:07.876907",
     "status": "completed"
    },
    "tags": [
     "hide-input"
    ]
   },
   "outputs": [
    {
     "data": {
      "text/markdown": [
       "# Dunn County has 4668 total positive cases, with 2 new cases reported today."
      ],
      "text/plain": [
       "<IPython.core.display.Markdown object>"
      ]
     },
     "metadata": {},
     "output_type": "display_data"
    }
   ],
   "source": [
    "display(Markdown('# Dunn County has ' + str(dc.iloc[-1]['POSITIVE']) + ' total positive cases, with '+ str(int(dc.iloc[-1]['POS_NEW'])) + ' new cases reported today.'))"
   ]
  },
  {
   "cell_type": "code",
   "execution_count": 6,
   "id": "compound-nightmare",
   "metadata": {
    "execution": {
     "iopub.execute_input": "2021-05-19T22:16:07.910353Z",
     "iopub.status.busy": "2021-05-19T22:16:07.909910Z",
     "iopub.status.idle": "2021-05-19T22:16:08.155477Z",
     "shell.execute_reply": "2021-05-19T22:16:08.155074Z"
    },
    "jupyter": {
     "source_hidden": true
    },
    "papermill": {
     "duration": 0.256292,
     "end_time": "2021-05-19T22:16:08.155590",
     "exception": false,
     "start_time": "2021-05-19T22:16:07.899298",
     "status": "completed"
    },
    "scrolled": false,
    "tags": [
     "hide-input"
    ]
   },
   "outputs": [
    {
     "data": {
      "image/png": "[encoded data removed]",
      "text/plain": [
       "<Figure size 864x432 with 1 Axes>"
      ]
     },
     "metadata": {
      "needs_background": "light"
     },
     "output_type": "display_data"
    }
   ],
   "source": [
    "dc.plot(x='DATE',y='POSITIVE',color='red',grid='True',figsize=(12,6)).set_xlabel('Date');"
   ]
  },
  {
   "cell_type": "markdown",
   "id": "coupled-literacy",
   "metadata": {
    "papermill": {
     "duration": 0.009462,
     "end_time": "2021-05-19T22:16:08.174272",
     "exception": false,
     "start_time": "2021-05-19T22:16:08.164810",
     "status": "completed"
    },
    "tags": []
   },
   "source": [
    "## Figure 1: Cummulative number of positive cases."
   ]
  },
  {
   "cell_type": "code",
   "execution_count": 7,
   "id": "surrounded-reserve",
   "metadata": {
    "execution": {
     "iopub.execute_input": "2021-05-19T22:16:08.216891Z",
     "iopub.status.busy": "2021-05-19T22:16:08.195760Z",
     "iopub.status.idle": "2021-05-19T22:16:08.384861Z",
     "shell.execute_reply": "2021-05-19T22:16:08.384372Z"
    },
    "jupyter": {
     "source_hidden": true
    },
    "papermill": {
     "duration": 0.201258,
     "end_time": "2021-05-19T22:16:08.384994",
     "exception": false,
     "start_time": "2021-05-19T22:16:08.183736",
     "status": "completed"
    },
    "scrolled": false,
    "tags": [
     "hide-input"
    ]
   },
   "outputs": [
    {
     "data": {
      "image/png": "[encoded data removed]",
      "text/plain": [
       "<Figure size 864x432 with 1 Axes>"
      ]
     },
     "metadata": {
      "needs_background": "light"
     },
     "output_type": "display_data"
    }
   ],
   "source": [
    "dc.plot(kind='line',x='DATE',y='7_DAY',color='blue',grid='True',figsize=(12,6)).set_xlabel('Date');"
   ]
  },
  {
   "cell_type": "markdown",
   "id": "professional-savannah",
   "metadata": {
    "papermill": {
     "duration": 0.010128,
     "end_time": "2021-05-19T22:16:08.405354",
     "exception": false,
     "start_time": "2021-05-19T22:16:08.395226",
     "status": "completed"
    },
    "tags": []
   },
   "source": [
    "## Figure 2: Rolling 7-day average of daily new cases."
   ]
  },
  {
   "cell_type": "code",
   "execution_count": 8,
   "id": "stretch-investor",
   "metadata": {
    "execution": {
     "iopub.execute_input": "2021-05-19T22:16:08.428923Z",
     "iopub.status.busy": "2021-05-19T22:16:08.428425Z",
     "iopub.status.idle": "2021-05-19T22:16:08.616800Z",
     "shell.execute_reply": "2021-05-19T22:16:08.616335Z"
    },
    "jupyter": {
     "source_hidden": true
    },
    "papermill": {
     "duration": 0.201836,
     "end_time": "2021-05-19T22:16:08.616925",
     "exception": false,
     "start_time": "2021-05-19T22:16:08.415089",
     "status": "completed"
    },
    "tags": []
   },
   "outputs": [
    {
     "data": {
      "image/png": "[encoded data removed]",
      "text/plain": [
       "<Figure size 864x432 with 1 Axes>"
      ]
     },
     "metadata": {
      "needs_background": "light"
     },
     "output_type": "display_data"
    }
   ],
   "source": [
    "dc.plot(kind='line',x='DATE',y='14_DAY',color='green',grid='True',figsize=(12,6)).set_xlabel('Date');"
   ]
  },
  {
   "cell_type": "markdown",
   "id": "prerequisite-species",
   "metadata": {
    "papermill": {
     "duration": 0.011099,
     "end_time": "2021-05-19T22:16:08.639201",
     "exception": false,
     "start_time": "2021-05-19T22:16:08.628102",
     "status": "completed"
    },
    "tags": []
   },
   "source": [
    "## Figure 3: Rolling 14-day average of daily new cases."
   ]
  },
  {
   "cell_type": "markdown",
   "id": "palestinian-guard",
   "metadata": {
    "papermill": {
     "duration": 0.010696,
     "end_time": "2021-05-19T22:16:08.660562",
     "exception": false,
     "start_time": "2021-05-19T22:16:08.649866",
     "status": "completed"
    },
    "tags": []
   },
   "source": [
    "Data source: [Wisconsin Department of Health Services](https://data.dhsgis.wi.gov/datasets/covid-19-historical-data-by-county)"
   ]
  },
  {
   "cell_type": "code",
   "execution_count": 9,
   "id": "proof-medicare",
   "metadata": {
    "execution": {
     "iopub.execute_input": "2021-05-19T22:16:08.686177Z",
     "iopub.status.busy": "2021-05-19T22:16:08.684880Z",
     "iopub.status.idle": "2021-05-19T22:16:08.688509Z",
     "shell.execute_reply": "2021-05-19T22:16:08.688120Z"
    },
    "jupyter": {
     "source_hidden": true
    },
    "papermill": {
     "duration": 0.017341,
     "end_time": "2021-05-19T22:16:08.688607",
     "exception": false,
     "start_time": "2021-05-19T22:16:08.671266",
     "status": "completed"
    },
    "tags": []
   },
   "outputs": [
    {
     "data": {
      "text/html": [
       "<style>\n",
       "div.input {\n",
       "    display:none;\n",
       "}\n",
       "</style>\n"
      ],
      "text/plain": [
       "<IPython.core.display.HTML object>"
      ]
     },
     "metadata": {},
     "output_type": "display_data"
    }
   ],
   "source": [
    "%%html\n",
    "<style>\n",
    "div.input {\n",
    "    display:none;\n",
    "}\n",
    "</style>"
   ]
  }
 ],
 "metadata": {
  "kernelspec": {
   "display_name": "Python 3",
   "language": "python",
   "name": "python3"
  },
  "language_info": {
   "codemirror_mode": {
    "name": "ipython",
    "version": 3
   },
   "file_extension": ".py",
   "mimetype": "text/x-python",
   "name": "python",
   "nbconvert_exporter": "python",
   "pygments_lexer": "ipython3",
   "version": "3.8.10"
  },
  "papermill": {
   "duration": 3.785547,
   "end_time": "2021-05-19T22:16:09.007301",
   "environment_variables": {},
   "exception": null,
   "input_path": "DunnCounty_COVID19.ipynb",
   "output_path": "DunnCounty_COVID19.ipynb",
   "parameters": {
    "Start": "True",
    "secretsPath": "/home/runner/work/_temp/secrets.json"
   },
   "start_time": "2021-05-19T22:16:05.221754",
   "version": "1.1.16"
  }
 },
 "nbformat": 4,
 "nbformat_minor": 5
}