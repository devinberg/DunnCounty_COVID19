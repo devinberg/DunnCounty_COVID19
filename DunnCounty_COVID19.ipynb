{
 "cells": [
  {
   "cell_type": "code",
   "execution_count": 1,
   "id": "solar-understanding",
   "metadata": {
    "execution": {
     "iopub.execute_input": "2021-04-06T22:15:50.751325Z",
     "iopub.status.busy": "2021-04-06T22:15:50.750727Z",
     "iopub.status.idle": "2021-04-06T22:15:51.606427Z",
     "shell.execute_reply": "2021-04-06T22:15:51.605851Z"
    },
    "jupyter": {
     "source_hidden": true
    },
    "papermill": {
     "duration": 0.880372,
     "end_time": "2021-04-06T22:15:51.606573",
     "exception": false,
     "start_time": "2021-04-06T22:15:50.726201",
     "status": "completed"
    },
    "scrolled": true,
    "tags": [
     "hide-input"
    ]
   },
   "outputs": [],
   "source": [
    "import pandas as pd\n",
    "import matplotlib.pyplot as plt\n",
    "from matplotlib import dates\n",
    "from IPython.display import display, Markdown\n",
    "%matplotlib inline"
   ]
  },
  {
   "cell_type": "code",
   "execution_count": 2,
   "id": "purple-playlist",
   "metadata": {
    "execution": {
     "iopub.execute_input": "2021-04-06T22:15:51.630607Z",
     "iopub.status.busy": "2021-04-06T22:15:51.630065Z",
     "iopub.status.idle": "2021-04-06T22:15:52.706068Z",
     "shell.execute_reply": "2021-04-06T22:15:52.705205Z"
    },
    "jupyter": {
     "source_hidden": true
    },
    "papermill": {
     "duration": 1.090419,
     "end_time": "2021-04-06T22:15:52.706268",
     "exception": false,
     "start_time": "2021-04-06T22:15:51.615849",
     "status": "completed"
    },
    "scrolled": true,
    "tags": [
     "hide-input"
    ]
   },
   "outputs": [],
   "source": [
    "# This is the data for all of Wisconsin.\n",
    "url = \"https://opendata.arcgis.com/datasets/5374188992374b318d3e2305216ee413_12.csv\"\n",
    "data = pd.read_csv(url, parse_dates=['DATE'], low_memory=False)"
   ]
  },
  {
   "cell_type": "code",
   "execution_count": 3,
   "id": "proprietary-klein",
   "metadata": {
    "execution": {
     "iopub.execute_input": "2021-04-06T22:15:52.732543Z",
     "iopub.status.busy": "2021-04-06T22:15:52.731971Z",
     "iopub.status.idle": "2021-04-06T22:15:52.740541Z",
     "shell.execute_reply": "2021-04-06T22:15:52.739987Z"
    },
    "jupyter": {
     "source_hidden": true
    },
    "papermill": {
     "duration": 0.023304,
     "end_time": "2021-04-06T22:15:52.740659",
     "exception": false,
     "start_time": "2021-04-06T22:15:52.717355",
     "status": "completed"
    },
    "scrolled": true,
    "tags": [
     "hide-input"
    ]
   },
   "outputs": [],
   "source": [
    "dc = data.groupby('NAME').get_group('Dunn').sort_values(by='DATE') # Select the data for Dunn County from the full data.\n",
    "PNi = dc.columns.get_loc(\"POS_NEW\")\n",
    "dc['7_DAY'] = dc.iloc[:,PNi].rolling(window=7).mean() # Calculates the rolling 7-day average of new cases.\n",
    "dc['14_DAY'] = dc.iloc[:,PNi].rolling(window=14).mean() # Calculates the rolling 14-day average of new cases."
   ]
  },
  {
   "cell_type": "code",
   "execution_count": 4,
   "id": "steady-supervision",
   "metadata": {
    "execution": {
     "iopub.execute_input": "2021-04-06T22:15:52.765428Z",
     "iopub.status.busy": "2021-04-06T22:15:52.764898Z",
     "iopub.status.idle": "2021-04-06T22:15:52.769712Z",
     "shell.execute_reply": "2021-04-06T22:15:52.770114Z"
    },
    "jupyter": {
     "source_hidden": true
    },
    "papermill": {
     "duration": 0.020094,
     "end_time": "2021-04-06T22:15:52.770252",
     "exception": false,
     "start_time": "2021-04-06T22:15:52.750158",
     "status": "completed"
    },
    "scrolled": true,
    "tags": [
     "hide-input"
    ]
   },
   "outputs": [
    {
     "data": {
      "text/markdown": [
       "### Last updated: April 06, 2021"
      ],
      "text/plain": [
       "<IPython.core.display.Markdown object>"
      ]
     },
     "metadata": {},
     "output_type": "display_data"
    }
   ],
   "source": [
    "display(Markdown('### Last updated: ' + dc.iloc[-1]['DATE'].strftime(\"%B %d, %Y\")))"
   ]
  },
  {
   "cell_type": "code",
   "execution_count": 5,
   "id": "lonely-pitch",
   "metadata": {
    "execution": {
     "iopub.execute_input": "2021-04-06T22:15:52.796090Z",
     "iopub.status.busy": "2021-04-06T22:15:52.795157Z",
     "iopub.status.idle": "2021-04-06T22:15:52.799179Z",
     "shell.execute_reply": "2021-04-06T22:15:52.798398Z"
    },
    "jupyter": {
     "source_hidden": true
    },
    "papermill": {
     "duration": 0.020123,
     "end_time": "2021-04-06T22:15:52.799363",
     "exception": false,
     "start_time": "2021-04-06T22:15:52.779240",
     "status": "completed"
    },
    "tags": [
     "hide-input"
    ]
   },
   "outputs": [
    {
     "data": {
      "text/markdown": [
       "# Dunn County has 4442 total positive cases, with 19 new cases reported today."
      ],
      "text/plain": [
       "<IPython.core.display.Markdown object>"
      ]
     },
     "metadata": {},
     "output_type": "display_data"
    }
   ],
   "source": [
    "display(Markdown('# Dunn County has ' + str(dc.iloc[-1]['POSITIVE']) + ' total positive cases, with '+ str(int(dc.iloc[-1]['POS_NEW'])) + ' new cases reported today.'))"
   ]
  },
  {
   "cell_type": "code",
   "execution_count": 6,
   "id": "compound-nightmare",
   "metadata": {
    "execution": {
     "iopub.execute_input": "2021-04-06T22:15:52.823503Z",
     "iopub.status.busy": "2021-04-06T22:15:52.822984Z",
     "iopub.status.idle": "2021-04-06T22:15:53.062903Z",
     "shell.execute_reply": "2021-04-06T22:15:53.062115Z"
    },
    "jupyter": {
     "source_hidden": true
    },
    "papermill": {
     "duration": 0.25317,
     "end_time": "2021-04-06T22:15:53.063110",
     "exception": false,
     "start_time": "2021-04-06T22:15:52.809940",
     "status": "completed"
    },
    "scrolled": false,
    "tags": [
     "hide-input"
    ]
   },
   "outputs": [
    {
     "data": {
      "image/png": "[encoded data removed]",
      "text/plain": [
       "<Figure size 864x432 with 1 Axes>"
      ]
     },
     "metadata": {
      "needs_background": "light"
     },
     "output_type": "display_data"
    }
   ],
   "source": [
    "dc.plot(x='DATE',y='POSITIVE',color='red',grid='True',figsize=(12,6)).set_xlabel('Date');"
   ]
  },
  {
   "cell_type": "markdown",
   "id": "coupled-literacy",
   "metadata": {
    "papermill": {
     "duration": 0.010664,
     "end_time": "2021-04-06T22:15:53.085553",
     "exception": false,
     "start_time": "2021-04-06T22:15:53.074889",
     "status": "completed"
    },
    "tags": []
   },
   "source": [
    "## Figure 1: Cummulative number of positive cases."
   ]
  },
  {
   "cell_type": "code",
   "execution_count": 7,
   "id": "surrounded-reserve",
   "metadata": {
    "execution": {
     "iopub.execute_input": "2021-04-06T22:15:53.111779Z",
     "iopub.status.busy": "2021-04-06T22:15:53.111253Z",
     "iopub.status.idle": "2021-04-06T22:15:53.296603Z",
     "shell.execute_reply": "2021-04-06T22:15:53.297362Z"
    },
    "jupyter": {
     "source_hidden": true
    },
    "papermill": {
     "duration": 0.201707,
     "end_time": "2021-04-06T22:15:53.297605",
     "exception": false,
     "start_time": "2021-04-06T22:15:53.095898",
     "status": "completed"
    },
    "scrolled": false,
    "tags": [
     "hide-input"
    ]
   },
   "outputs": [
    {
     "data": {
      "image/png": "[encoded data removed]",
      "text/plain": [
       "<Figure size 864x432 with 1 Axes>"
      ]
     },
     "metadata": {
      "needs_background": "light"
     },
     "output_type": "display_data"
    }
   ],
   "source": [
    "dc.plot(kind='line',x='DATE',y='7_DAY',color='blue',grid='True',figsize=(12,6)).set_xlabel('Date');"
   ]
  },
  {
   "cell_type": "markdown",
   "id": "professional-savannah",
   "metadata": {
    "papermill": {
     "duration": 0.01185,
     "end_time": "2021-04-06T22:15:53.321798",
     "exception": false,
     "start_time": "2021-04-06T22:15:53.309948",
     "status": "completed"
    },
    "tags": []
   },
   "source": [
    "## Figure 2: Rolling 7-day average of daily new cases."
   ]
  },
  {
   "cell_type": "code",
   "execution_count": 8,
   "id": "stretch-investor",
   "metadata": {
    "execution": {
     "iopub.execute_input": "2021-04-06T22:15:53.350993Z",
     "iopub.status.busy": "2021-04-06T22:15:53.350466Z",
     "iopub.status.idle": "2021-04-06T22:15:53.533209Z",
     "shell.execute_reply": "2021-04-06T22:15:53.533638Z"
    },
    "jupyter": {
     "source_hidden": true
    },
    "papermill": {
     "duration": 0.200535,
     "end_time": "2021-04-06T22:15:53.533792",
     "exception": false,
     "start_time": "2021-04-06T22:15:53.333257",
     "status": "completed"
    },
    "tags": []
   },
   "outputs": [
    {
     "data": {
      "image/png": "[encoded data removed]",
      "text/plain": [
       "<Figure size 864x432 with 1 Axes>"
      ]
     },
     "metadata": {
      "needs_background": "light"
     },
     "output_type": "display_data"
    }
   ],
   "source": [
    "dc.plot(kind='line',x='DATE',y='14_DAY',color='green',grid='True',figsize=(12,6)).set_xlabel('Date');"
   ]
  },
  {
   "cell_type": "markdown",
   "id": "prerequisite-species",
   "metadata": {
    "papermill": {
     "duration": 0.015487,
     "end_time": "2021-04-06T22:15:53.562914",
     "exception": false,
     "start_time": "2021-04-06T22:15:53.547427",
     "status": "completed"
    },
    "tags": []
   },
   "source": [
    "## Figure 3: Rolling 14-day average of daily new cases."
   ]
  },
  {
   "cell_type": "markdown",
   "id": "palestinian-guard",
   "metadata": {
    "papermill": {
     "duration": 0.012436,
     "end_time": "2021-04-06T22:15:53.587578",
     "exception": false,
     "start_time": "2021-04-06T22:15:53.575142",
     "status": "completed"
    },
    "tags": []
   },
   "source": [
    "Data source: [Wisconsin Department of Health Services](https://data.dhsgis.wi.gov/datasets/covid-19-historical-data-table/)"
   ]
  },
  {
   "cell_type": "code",
   "execution_count": 9,
   "id": "proof-medicare",
   "metadata": {
    "execution": {
     "iopub.execute_input": "2021-04-06T22:15:53.618587Z",
     "iopub.status.busy": "2021-04-06T22:15:53.618048Z",
     "iopub.status.idle": "2021-04-06T22:15:53.622118Z",
     "shell.execute_reply": "2021-04-06T22:15:53.622570Z"
    },
    "jupyter": {
     "source_hidden": true
    },
    "papermill": {
     "duration": 0.022896,
     "end_time": "2021-04-06T22:15:53.622713",
     "exception": false,
     "start_time": "2021-04-06T22:15:53.599817",
     "status": "completed"
    },
    "tags": []
   },
   "outputs": [
    {
     "data": {
      "text/html": [
       "<style>\n",
       "div.input {\n",
       "    display:none;\n",
       "}\n",
       "</style>\n"
      ],
      "text/plain": [
       "<IPython.core.display.HTML object>"
      ]
     },
     "metadata": {},
     "output_type": "display_data"
    }
   ],
   "source": [
    "%%html\n",
    "<style>\n",
    "div.input {\n",
    "    display:none;\n",
    "}\n",
    "</style>"
   ]
  }
 ],
 "metadata": {
  "kernelspec": {
   "display_name": "Python 3",
   "language": "python",
   "name": "python3"
  },
  "language_info": {
   "codemirror_mode": {
    "name": "ipython",
    "version": 3
   },
   "file_extension": ".py",
   "mimetype": "text/x-python",
   "name": "python",
   "nbconvert_exporter": "python",
   "pygments_lexer": "ipython3",
   "version": "3.8.8"
  },
  "papermill": {
   "duration": 5.51247,
   "end_time": "2021-04-06T22:15:54.884097",
   "environment_variables": {},
   "exception": null,
   "input_path": "DunnCounty_COVID19.ipynb",
   "output_path": "DunnCounty_COVID19.ipynb",
   "parameters": {
    "Start": "True",
    "secretsPath": "/home/runner/work/_temp/secrets.json"
   },
   "start_time": "2021-04-06T22:15:49.371627",
   "version": "1.1.16"
  }
 },
 "nbformat": 4,
 "nbformat_minor": 5
}