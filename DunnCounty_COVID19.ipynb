{
 "cells": [
  {
   "cell_type": "code",
   "execution_count": 1,
   "id": "solar-understanding",
   "metadata": {
    "execution": {
     "iopub.execute_input": "2021-02-16T10:13:09.966537Z",
     "iopub.status.busy": "2021-02-16T10:13:09.966037Z",
     "iopub.status.idle": "2021-02-16T10:13:11.964282Z",
     "shell.execute_reply": "2021-02-16T10:13:11.964776Z"
    },
    "jupyter": {
     "source_hidden": true
    },
    "papermill": {
     "duration": 2.015201,
     "end_time": "2021-02-16T10:13:11.965017",
     "exception": false,
     "start_time": "2021-02-16T10:13:09.949816",
     "status": "completed"
    },
    "scrolled": true,
    "tags": [
     "hide-input"
    ]
   },
   "outputs": [],
   "source": [
    "import pandas as pd\n",
    "import matplotlib.pyplot as plt\n",
    "from matplotlib import dates\n",
    "from IPython.display import display, Markdown\n",
    "%matplotlib inline"
   ]
  },
  {
   "cell_type": "code",
   "execution_count": 2,
   "id": "purple-playlist",
   "metadata": {
    "execution": {
     "iopub.execute_input": "2021-02-16T10:13:11.988273Z",
     "iopub.status.busy": "2021-02-16T10:13:11.987687Z",
     "iopub.status.idle": "2021-02-16T10:13:12.845257Z",
     "shell.execute_reply": "2021-02-16T10:13:12.844501Z"
    },
    "jupyter": {
     "source_hidden": true
    },
    "papermill": {
     "duration": 0.871546,
     "end_time": "2021-02-16T10:13:12.845376",
     "exception": false,
     "start_time": "2021-02-16T10:13:11.973830",
     "status": "completed"
    },
    "scrolled": true,
    "tags": [
     "hide-input"
    ]
   },
   "outputs": [],
   "source": [
    "# This is the data for all of Wisconsin.\n",
    "url = \"https://opendata.arcgis.com/datasets/5374188992374b318d3e2305216ee413_12.csv\"\n",
    "data = pd.read_csv(url, parse_dates=['DATE'], low_memory=False)"
   ]
  },
  {
   "cell_type": "code",
   "execution_count": 3,
   "id": "proprietary-klein",
   "metadata": {
    "execution": {
     "iopub.execute_input": "2021-02-16T10:13:12.867388Z",
     "iopub.status.busy": "2021-02-16T10:13:12.866880Z",
     "iopub.status.idle": "2021-02-16T10:13:12.876496Z",
     "shell.execute_reply": "2021-02-16T10:13:12.875924Z"
    },
    "jupyter": {
     "source_hidden": true
    },
    "papermill": {
     "duration": 0.023047,
     "end_time": "2021-02-16T10:13:12.876600",
     "exception": false,
     "start_time": "2021-02-16T10:13:12.853553",
     "status": "completed"
    },
    "scrolled": true,
    "tags": [
     "hide-input"
    ]
   },
   "outputs": [],
   "source": [
    "dc = data.groupby('NAME').get_group('Dunn').sort_values(by='DATE') # Select the data for Dunn County from the full data.\n",
    "PNi = dc.columns.get_loc(\"POS_NEW\")\n",
    "dc['7_DAY'] = dc.iloc[:,PNi].rolling(window=7).mean() # Calculates the rolling 7-day average of new cases.\n",
    "dc['14_DAY'] = dc.iloc[:,PNi].rolling(window=14).mean() # Calculates the rolling 14-day average of new cases."
   ]
  },
  {
   "cell_type": "code",
   "execution_count": 4,
   "id": "steady-supervision",
   "metadata": {
    "execution": {
     "iopub.execute_input": "2021-02-16T10:13:12.899864Z",
     "iopub.status.busy": "2021-02-16T10:13:12.899325Z",
     "iopub.status.idle": "2021-02-16T10:13:12.902101Z",
     "shell.execute_reply": "2021-02-16T10:13:12.902507Z"
    },
    "jupyter": {
     "source_hidden": true
    },
    "papermill": {
     "duration": 0.017049,
     "end_time": "2021-02-16T10:13:12.902621",
     "exception": false,
     "start_time": "2021-02-16T10:13:12.885572",
     "status": "completed"
    },
    "scrolled": true,
    "tags": [
     "hide-input"
    ]
   },
   "outputs": [
    {
     "data": {
      "text/markdown": [
       "### Last updated: February 15, 2021"
      ],
      "text/plain": [
       "<IPython.core.display.Markdown object>"
      ]
     },
     "metadata": {},
     "output_type": "display_data"
    }
   ],
   "source": [
    "display(Markdown('### Last updated: ' + dc.iloc[-1]['DATE'].strftime(\"%B %d, %Y\")))"
   ]
  },
  {
   "cell_type": "code",
   "execution_count": 5,
   "id": "lonely-pitch",
   "metadata": {
    "execution": {
     "iopub.execute_input": "2021-02-16T10:13:12.923923Z",
     "iopub.status.busy": "2021-02-16T10:13:12.923428Z",
     "iopub.status.idle": "2021-02-16T10:13:12.926670Z",
     "shell.execute_reply": "2021-02-16T10:13:12.926257Z"
    },
    "jupyter": {
     "source_hidden": true
    },
    "papermill": {
     "duration": 0.016108,
     "end_time": "2021-02-16T10:13:12.926770",
     "exception": false,
     "start_time": "2021-02-16T10:13:12.910662",
     "status": "completed"
    },
    "tags": [
     "hide-input"
    ]
   },
   "outputs": [
    {
     "data": {
      "text/markdown": [
       "# Dunn County has 4194 total positive cases, with 6 new cases reported today."
      ],
      "text/plain": [
       "<IPython.core.display.Markdown object>"
      ]
     },
     "metadata": {},
     "output_type": "display_data"
    }
   ],
   "source": [
    "display(Markdown('# Dunn County has ' + str(dc.iloc[-1]['POSITIVE']) + ' total positive cases, with '+ str(int(dc.iloc[-1]['POS_NEW'])) + ' new cases reported today.'))"
   ]
  },
  {
   "cell_type": "code",
   "execution_count": 6,
   "id": "compound-nightmare",
   "metadata": {
    "execution": {
     "iopub.execute_input": "2021-02-16T10:13:12.947904Z",
     "iopub.status.busy": "2021-02-16T10:13:12.947305Z",
     "iopub.status.idle": "2021-02-16T10:13:13.200276Z",
     "shell.execute_reply": "2021-02-16T10:13:13.201394Z"
    },
    "jupyter": {
     "source_hidden": true
    },
    "papermill": {
     "duration": 0.26588,
     "end_time": "2021-02-16T10:13:13.201665",
     "exception": false,
     "start_time": "2021-02-16T10:13:12.935785",
     "status": "completed"
    },
    "scrolled": false,
    "tags": [
     "hide-input"
    ]
   },
   "outputs": [
    {
     "data": {
      "image/png": "[encoded data removed]",
      "text/plain": [
       "<Figure size 864x432 with 1 Axes>"
      ]
     },
     "metadata": {
      "needs_background": "light"
     },
     "output_type": "display_data"
    }
   ],
   "source": [
    "dc.plot(x='DATE',y='POSITIVE',color='red',grid='True',figsize=(12,6)).set_xlabel('Date');"
   ]
  },
  {
   "cell_type": "markdown",
   "id": "coupled-literacy",
   "metadata": {
    "papermill": {
     "duration": 0.009154,
     "end_time": "2021-02-16T10:13:13.223712",
     "exception": false,
     "start_time": "2021-02-16T10:13:13.214558",
     "status": "completed"
    },
    "tags": []
   },
   "source": [
    "## Figure 1: Cummulative number of positive cases."
   ]
  },
  {
   "cell_type": "code",
   "execution_count": 7,
   "id": "surrounded-reserve",
   "metadata": {
    "execution": {
     "iopub.execute_input": "2021-02-16T10:13:13.248060Z",
     "iopub.status.busy": "2021-02-16T10:13:13.247533Z",
     "iopub.status.idle": "2021-02-16T10:13:13.502952Z",
     "shell.execute_reply": "2021-02-16T10:13:13.503360Z"
    },
    "jupyter": {
     "source_hidden": true
    },
    "papermill": {
     "duration": 0.268976,
     "end_time": "2021-02-16T10:13:13.503501",
     "exception": false,
     "start_time": "2021-02-16T10:13:13.234525",
     "status": "completed"
    },
    "scrolled": false,
    "tags": [
     "hide-input"
    ]
   },
   "outputs": [
    {
     "data": {
      "image/png": "[encoded data removed]",
      "text/plain": [
       "<Figure size 864x432 with 1 Axes>"
      ]
     },
     "metadata": {
      "needs_background": "light"
     },
     "output_type": "display_data"
    }
   ],
   "source": [
    "dc.plot(kind='line',x='DATE',y='7_DAY',color='blue',grid='True',figsize=(12,6)).set_xlabel('Date');"
   ]
  },
  {
   "cell_type": "markdown",
   "id": "professional-savannah",
   "metadata": {
    "papermill": {
     "duration": 0.010662,
     "end_time": "2021-02-16T10:13:13.525060",
     "exception": false,
     "start_time": "2021-02-16T10:13:13.514398",
     "status": "completed"
    },
    "tags": []
   },
   "source": [
    "## Figure 2: Rolling 7-day average of daily new cases."
   ]
  },
  {
   "cell_type": "code",
   "execution_count": 8,
   "id": "stretch-investor",
   "metadata": {
    "execution": {
     "iopub.execute_input": "2021-02-16T10:13:13.549399Z",
     "iopub.status.busy": "2021-02-16T10:13:13.548929Z",
     "iopub.status.idle": "2021-02-16T10:13:13.808079Z",
     "shell.execute_reply": "2021-02-16T10:13:13.808470Z"
    },
    "jupyter": {
     "source_hidden": true
    },
    "papermill": {
     "duration": 0.273672,
     "end_time": "2021-02-16T10:13:13.808641",
     "exception": false,
     "start_time": "2021-02-16T10:13:13.534969",
     "status": "completed"
    },
    "tags": []
   },
   "outputs": [
    {
     "data": {
      "image/png": "[encoded data removed]",
      "text/plain": [
       "<Figure size 864x432 with 1 Axes>"
      ]
     },
     "metadata": {
      "needs_background": "light"
     },
     "output_type": "display_data"
    }
   ],
   "source": [
    "dc.plot(kind='line',x='DATE',y='14_DAY',color='green',grid='True',figsize=(12,6)).set_xlabel('Date');"
   ]
  },
  {
   "cell_type": "markdown",
   "id": "prerequisite-species",
   "metadata": {
    "papermill": {
     "duration": 0.010725,
     "end_time": "2021-02-16T10:13:13.831242",
     "exception": false,
     "start_time": "2021-02-16T10:13:13.820517",
     "status": "completed"
    },
    "tags": []
   },
   "source": [
    "## Figure 3: Rolling 14-day average of daily new cases."
   ]
  },
  {
   "cell_type": "markdown",
   "id": "palestinian-guard",
   "metadata": {
    "papermill": {
     "duration": 0.011098,
     "end_time": "2021-02-16T10:13:13.853671",
     "exception": false,
     "start_time": "2021-02-16T10:13:13.842573",
     "status": "completed"
    },
    "tags": []
   },
   "source": [
    "Data source: [Wisconsin Department of Health Services](https://data.dhsgis.wi.gov/datasets/covid-19-historical-data-table/)"
   ]
  },
  {
   "cell_type": "code",
   "execution_count": 9,
   "id": "proof-medicare",
   "metadata": {
    "execution": {
     "iopub.execute_input": "2021-02-16T10:13:13.882802Z",
     "iopub.status.busy": "2021-02-16T10:13:13.882247Z",
     "iopub.status.idle": "2021-02-16T10:13:13.886361Z",
     "shell.execute_reply": "2021-02-16T10:13:13.885829Z"
    },
    "jupyter": {
     "source_hidden": true
    },
    "papermill": {
     "duration": 0.021609,
     "end_time": "2021-02-16T10:13:13.886465",
     "exception": false,
     "start_time": "2021-02-16T10:13:13.864856",
     "status": "completed"
    },
    "tags": []
   },
   "outputs": [
    {
     "data": {
      "text/html": [
       "<style>\n",
       "div.input {\n",
       "    display:none;\n",
       "}\n",
       "</style>\n"
      ],
      "text/plain": [
       "<IPython.core.display.HTML object>"
      ]
     },
     "metadata": {},
     "output_type": "display_data"
    }
   ],
   "source": [
    "%%html\n",
    "<style>\n",
    "div.input {\n",
    "    display:none;\n",
    "}\n",
    "</style>"
   ]
  }
 ],
 "metadata": {
  "kernelspec": {
   "display_name": "Python 3",
   "language": "python",
   "name": "python3"
  },
  "language_info": {
   "codemirror_mode": {
    "name": "ipython",
    "version": 3
   },
   "file_extension": ".py",
   "mimetype": "text/x-python",
   "name": "python",
   "nbconvert_exporter": "python",
   "pygments_lexer": "ipython3",
   "version": "3.8.7"
  },
  "papermill": {
   "duration": 6.692904,
   "end_time": "2021-02-16T10:13:15.119137",
   "environment_variables": {},
   "exception": null,
   "input_path": "DunnCounty_COVID19.ipynb",
   "output_path": "DunnCounty_COVID19.ipynb",
   "parameters": {
    "Start": "True",
    "secretsPath": "/home/runner/work/_temp/secrets.json"
   },
   "start_time": "2021-02-16T10:13:08.426233",
   "version": "1.1.16"
  }
 },
 "nbformat": 4,
 "nbformat_minor": 5
}