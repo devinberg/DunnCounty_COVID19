{
 "cells": [
  {
   "cell_type": "code",
   "execution_count": 1,
   "metadata": {
    "execution": {
     "iopub.execute_input": "2020-09-29T22:10:41.859941Z",
     "iopub.status.busy": "2020-09-29T22:10:41.859175Z",
     "iopub.status.idle": "2020-09-29T22:10:44.797496Z",
     "shell.execute_reply": "2020-09-29T22:10:44.798028Z"
    },
    "jupyter": {
     "source_hidden": true
    },
    "papermill": {
     "duration": 2.953557,
     "end_time": "2020-09-29T22:10:44.798312",
     "exception": false,
     "start_time": "2020-09-29T22:10:41.844755",
     "status": "completed"
    },
    "scrolled": true,
    "tags": [
     "hide-input"
    ]
   },
   "outputs": [],
   "source": [
    "import pandas as pd\n",
    "import matplotlib.pyplot as plt\n",
    "from matplotlib import dates\n",
    "from IPython.display import display, Markdown\n",
    "%matplotlib inline"
   ]
  },
  {
   "cell_type": "code",
   "execution_count": 2,
   "metadata": {
    "execution": {
     "iopub.execute_input": "2020-09-29T22:10:44.822061Z",
     "iopub.status.busy": "2020-09-29T22:10:44.821219Z",
     "iopub.status.idle": "2020-09-29T22:10:48.664146Z",
     "shell.execute_reply": "2020-09-29T22:10:48.663620Z"
    },
    "jupyter": {
     "source_hidden": true
    },
    "papermill": {
     "duration": 3.857288,
     "end_time": "2020-09-29T22:10:48.664339",
     "exception": false,
     "start_time": "2020-09-29T22:10:44.807051",
     "status": "completed"
    },
    "scrolled": true,
    "tags": [
     "hide-input"
    ]
   },
   "outputs": [],
   "source": [
    "# This is the data for all of Wisconsin.\n",
    "url = \"https://opendata.arcgis.com/datasets/b913e9591eae4912b33dc5b4e88646c5_10.csv\"\n",
    "data = pd.read_csv(url, parse_dates=['DATE'], low_memory=False)"
   ]
  },
  {
   "cell_type": "code",
   "execution_count": 3,
   "metadata": {
    "execution": {
     "iopub.execute_input": "2020-09-29T22:10:48.698992Z",
     "iopub.status.busy": "2020-09-29T22:10:48.698340Z",
     "iopub.status.idle": "2020-09-29T22:10:48.709163Z",
     "shell.execute_reply": "2020-09-29T22:10:48.708310Z"
    },
    "jupyter": {
     "source_hidden": true
    },
    "papermill": {
     "duration": 0.03696,
     "end_time": "2020-09-29T22:10:48.709290",
     "exception": false,
     "start_time": "2020-09-29T22:10:48.672330",
     "status": "completed"
    },
    "scrolled": true,
    "tags": [
     "hide-input"
    ]
   },
   "outputs": [],
   "source": [
    "dc = data.groupby('NAME').get_group('Dunn').sort_values(by='DATE') # Select the data for Dunn County from the full data.\n",
    "PNi = dc.columns.get_loc(\"POS_NEW\")\n",
    "dc['7_DAY'] = dc.iloc[:,PNi].rolling(window=7).mean() # Calculates the rolling 7-day average of new cases.\n",
    "dc['14_DAY'] = dc.iloc[:,PNi].rolling(window=14).mean() # Calculates the rolling 14-day average of new cases."
   ]
  },
  {
   "cell_type": "code",
   "execution_count": 4,
   "metadata": {
    "execution": {
     "iopub.execute_input": "2020-09-29T22:10:48.732727Z",
     "iopub.status.busy": "2020-09-29T22:10:48.731885Z",
     "iopub.status.idle": "2020-09-29T22:10:48.735454Z",
     "shell.execute_reply": "2020-09-29T22:10:48.736075Z"
    },
    "jupyter": {
     "source_hidden": true
    },
    "papermill": {
     "duration": 0.019537,
     "end_time": "2020-09-29T22:10:48.736228",
     "exception": false,
     "start_time": "2020-09-29T22:10:48.716691",
     "status": "completed"
    },
    "scrolled": true,
    "tags": [
     "hide-input"
    ]
   },
   "outputs": [
    {
     "data": {
      "text/markdown": [
       "### Last updated: September 29, 2020"
      ],
      "text/plain": [
       "<IPython.core.display.Markdown object>"
      ]
     },
     "metadata": {},
     "output_type": "display_data"
    }
   ],
   "source": [
    "display(Markdown('### Last updated: ' + dc.iloc[-1]['DATE'].strftime(\"%B %d, %Y\")))"
   ]
  },
  {
   "cell_type": "code",
   "execution_count": 5,
   "metadata": {
    "execution": {
     "iopub.execute_input": "2020-09-29T22:10:48.757483Z",
     "iopub.status.busy": "2020-09-29T22:10:48.756766Z",
     "iopub.status.idle": "2020-09-29T22:10:48.761072Z",
     "shell.execute_reply": "2020-09-29T22:10:48.760354Z"
    },
    "jupyter": {
     "source_hidden": true
    },
    "papermill": {
     "duration": 0.017714,
     "end_time": "2020-09-29T22:10:48.761267",
     "exception": false,
     "start_time": "2020-09-29T22:10:48.743553",
     "status": "completed"
    },
    "tags": [
     "hide-input"
    ]
   },
   "outputs": [
    {
     "data": {
      "text/markdown": [
       "# Dunn County has 593 total positive cases, with 37 new cases reported today."
      ],
      "text/plain": [
       "<IPython.core.display.Markdown object>"
      ]
     },
     "metadata": {},
     "output_type": "display_data"
    }
   ],
   "source": [
    "display(Markdown('# Dunn County has ' + str(dc.iloc[-1]['POSITIVE']) + ' total positive cases, with '+ str(int(dc.iloc[-1]['POS_NEW'])) + ' new cases reported today.'))"
   ]
  },
  {
   "cell_type": "code",
   "execution_count": 6,
   "metadata": {
    "execution": {
     "iopub.execute_input": "2020-09-29T22:10:48.783583Z",
     "iopub.status.busy": "2020-09-29T22:10:48.782986Z",
     "iopub.status.idle": "2020-09-29T22:10:49.049582Z",
     "shell.execute_reply": "2020-09-29T22:10:49.049068Z"
    },
    "jupyter": {
     "source_hidden": true
    },
    "papermill": {
     "duration": 0.27953,
     "end_time": "2020-09-29T22:10:49.049733",
     "exception": false,
     "start_time": "2020-09-29T22:10:48.770203",
     "status": "completed"
    },
    "scrolled": false,
    "tags": [
     "hide-input"
    ]
   },
   "outputs": [
    {
     "data": {
      "image/png": "[encoded data removed]",
      "text/plain": [
       "<Figure size 864x432 with 1 Axes>"
      ]
     },
     "metadata": {
      "needs_background": "light"
     },
     "output_type": "display_data"
    }
   ],
   "source": [
    "dc.plot(x='DATE',y='POSITIVE',color='red',grid='True',figsize=(12,6)).set_xlabel('Date');"
   ]
  },
  {
   "cell_type": "markdown",
   "metadata": {
    "papermill": {
     "duration": 0.010528,
     "end_time": "2020-09-29T22:10:49.070391",
     "exception": false,
     "start_time": "2020-09-29T22:10:49.059863",
     "status": "completed"
    },
    "tags": []
   },
   "source": [
    "## Figure 1: Cummulative number of positive cases."
   ]
  },
  {
   "cell_type": "code",
   "execution_count": 7,
   "metadata": {
    "execution": {
     "iopub.execute_input": "2020-09-29T22:10:49.094493Z",
     "iopub.status.busy": "2020-09-29T22:10:49.093826Z",
     "iopub.status.idle": "2020-09-29T22:10:49.335010Z",
     "shell.execute_reply": "2020-09-29T22:10:49.335582Z"
    },
    "jupyter": {
     "source_hidden": true
    },
    "papermill": {
     "duration": 0.255467,
     "end_time": "2020-09-29T22:10:49.335829",
     "exception": false,
     "start_time": "2020-09-29T22:10:49.080362",
     "status": "completed"
    },
    "scrolled": false,
    "tags": [
     "hide-input"
    ]
   },
   "outputs": [
    {
     "data": {
      "image/png": "[encoded data removed]",
      "text/plain": [
       "<Figure size 864x432 with 1 Axes>"
      ]
     },
     "metadata": {
      "needs_background": "light"
     },
     "output_type": "display_data"
    }
   ],
   "source": [
    "dc.plot(kind='line',x='DATE',y='7_DAY',color='blue',grid='True',figsize=(12,6)).set_xlabel('Date');"
   ]
  },
  {
   "cell_type": "markdown",
   "metadata": {
    "papermill": {
     "duration": 0.010648,
     "end_time": "2020-09-29T22:10:49.357558",
     "exception": false,
     "start_time": "2020-09-29T22:10:49.346910",
     "status": "completed"
    },
    "tags": []
   },
   "source": [
    "## Figure 2: Rolling 7-day average of daily new cases."
   ]
  },
  {
   "cell_type": "code",
   "execution_count": 8,
   "metadata": {
    "execution": {
     "iopub.execute_input": "2020-09-29T22:10:49.384408Z",
     "iopub.status.busy": "2020-09-29T22:10:49.383760Z",
     "iopub.status.idle": "2020-09-29T22:10:49.625815Z",
     "shell.execute_reply": "2020-09-29T22:10:49.626833Z"
    },
    "jupyter": {
     "source_hidden": true
    },
    "papermill": {
     "duration": 0.258533,
     "end_time": "2020-09-29T22:10:49.627068",
     "exception": false,
     "start_time": "2020-09-29T22:10:49.368535",
     "status": "completed"
    },
    "tags": []
   },
   "outputs": [
    {
     "data": {
      "image/png": "[encoded data removed]",
      "text/plain": [
       "<Figure size 864x432 with 1 Axes>"
      ]
     },
     "metadata": {
      "needs_background": "light"
     },
     "output_type": "display_data"
    }
   ],
   "source": [
    "dc.plot(kind='line',x='DATE',y='14_DAY',color='green',grid='True',figsize=(12,6)).set_xlabel('Date');"
   ]
  },
  {
   "cell_type": "markdown",
   "metadata": {
    "papermill": {
     "duration": 0.011221,
     "end_time": "2020-09-29T22:10:49.650892",
     "exception": false,
     "start_time": "2020-09-29T22:10:49.639671",
     "status": "completed"
    },
    "tags": []
   },
   "source": [
    "## Figure 3: Rolling 14-day average of daily new cases."
   ]
  },
  {
   "cell_type": "markdown",
   "metadata": {
    "papermill": {
     "duration": 0.010746,
     "end_time": "2020-09-29T22:10:49.673386",
     "exception": false,
     "start_time": "2020-09-29T22:10:49.662640",
     "status": "completed"
    },
    "tags": []
   },
   "source": [
    "Data source: [Wisconsin Department of Health Services](https://data.dhsgis.wi.gov/datasets/covid-19-historical-data-table/)"
   ]
  },
  {
   "cell_type": "code",
   "execution_count": 9,
   "metadata": {
    "execution": {
     "iopub.execute_input": "2020-09-29T22:10:49.700421Z",
     "iopub.status.busy": "2020-09-29T22:10:49.699735Z",
     "iopub.status.idle": "2020-09-29T22:10:49.702980Z",
     "shell.execute_reply": "2020-09-29T22:10:49.703566Z"
    },
    "jupyter": {
     "source_hidden": true
    },
    "papermill": {
     "duration": 0.019713,
     "end_time": "2020-09-29T22:10:49.703717",
     "exception": false,
     "start_time": "2020-09-29T22:10:49.684004",
     "status": "completed"
    },
    "tags": []
   },
   "outputs": [
    {
     "data": {
      "text/html": [
       "<style>\n",
       "div.input {\n",
       "    display:none;\n",
       "}\n",
       "</style>\n"
      ],
      "text/plain": [
       "<IPython.core.display.HTML object>"
      ]
     },
     "metadata": {},
     "output_type": "display_data"
    }
   ],
   "source": [
    "%%html\n",
    "<style>\n",
    "div.input {\n",
    "    display:none;\n",
    "}\n",
    "</style>"
   ]
  }
 ],
 "metadata": {
  "kernelspec": {
   "display_name": "Python 3",
   "language": "python",
   "name": "python3"
  },
  "language_info": {
   "codemirror_mode": {
    "name": "ipython",
    "version": 3
   },
   "file_extension": ".py",
   "mimetype": "text/x-python",
   "name": "python",
   "nbconvert_exporter": "python",
   "pygments_lexer": "ipython3",
   "version": "3.8.5"
  },
  "papermill": {
   "duration": 9.725801,
   "end_time": "2020-09-29T22:10:50.023714",
   "environment_variables": {},
   "exception": null,
   "input_path": "DunnCounty_COVID19.ipynb",
   "output_path": "DunnCounty_COVID19.ipynb",
   "parameters": {
    "Start": "True",
    "secretsPath": "/home/runner/work/_temp/secrets.json"
   },
   "start_time": "2020-09-29T22:10:40.297913",
   "version": "1.1.16"
  }
 },
 "nbformat": 4,
 "nbformat_minor": 2
}