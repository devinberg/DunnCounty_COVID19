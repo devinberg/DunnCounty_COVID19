{
 "cells": [
  {
   "cell_type": "code",
   "execution_count": 1,
   "id": "solar-understanding",
   "metadata": {
    "execution": {
     "iopub.execute_input": "2021-05-25T10:22:33.812899Z",
     "iopub.status.busy": "2021-05-25T10:22:33.812432Z",
     "iopub.status.idle": "2021-05-25T10:22:34.567427Z",
     "shell.execute_reply": "2021-05-25T10:22:34.566851Z"
    },
    "jupyter": {
     "source_hidden": true
    },
    "papermill": {
     "duration": 0.771803,
     "end_time": "2021-05-25T10:22:34.567569",
     "exception": false,
     "start_time": "2021-05-25T10:22:33.795766",
     "status": "completed"
    },
    "scrolled": true,
    "tags": [
     "hide-input"
    ]
   },
   "outputs": [],
   "source": [
    "import pandas as pd\n",
    "import matplotlib.pyplot as plt\n",
    "from matplotlib import dates\n",
    "from IPython.display import display, Markdown\n",
    "%matplotlib inline"
   ]
  },
  {
   "cell_type": "code",
   "execution_count": 2,
   "id": "purple-playlist",
   "metadata": {
    "execution": {
     "iopub.execute_input": "2021-05-25T10:22:34.588462Z",
     "iopub.status.busy": "2021-05-25T10:22:34.587998Z",
     "iopub.status.idle": "2021-05-25T10:22:35.335167Z",
     "shell.execute_reply": "2021-05-25T10:22:35.334657Z"
    },
    "jupyter": {
     "source_hidden": true
    },
    "papermill": {
     "duration": 0.759296,
     "end_time": "2021-05-25T10:22:35.335274",
     "exception": false,
     "start_time": "2021-05-25T10:22:34.575978",
     "status": "completed"
    },
    "scrolled": true,
    "tags": [
     "hide-input"
    ]
   },
   "outputs": [],
   "source": [
    "# This is the data for all of Wisconsin.\n",
    "url = \"https://opendata.arcgis.com/datasets/80ff9d4897db4d7692f0f4ad28447cab_12.csv\"\n",
    "data = pd.read_csv(url, parse_dates=['DATE'], low_memory=False)"
   ]
  },
  {
   "cell_type": "code",
   "execution_count": 3,
   "id": "proprietary-klein",
   "metadata": {
    "execution": {
     "iopub.execute_input": "2021-05-25T10:22:35.356540Z",
     "iopub.status.busy": "2021-05-25T10:22:35.356079Z",
     "iopub.status.idle": "2021-05-25T10:22:35.363860Z",
     "shell.execute_reply": "2021-05-25T10:22:35.363405Z"
    },
    "jupyter": {
     "source_hidden": true
    },
    "papermill": {
     "duration": 0.020852,
     "end_time": "2021-05-25T10:22:35.363960",
     "exception": false,
     "start_time": "2021-05-25T10:22:35.343108",
     "status": "completed"
    },
    "scrolled": true,
    "tags": [
     "hide-input"
    ]
   },
   "outputs": [],
   "source": [
    "dc = data.groupby('NAME').get_group('Dunn').sort_values(by='DATE') # Select the data for Dunn County from the full data.\n",
    "PNi = dc.columns.get_loc(\"POS_NEW\")\n",
    "dc['7_DAY'] = dc.iloc[:,PNi].rolling(window=7).mean() # Calculates the rolling 7-day average of new cases.\n",
    "dc['14_DAY'] = dc.iloc[:,PNi].rolling(window=14).mean() # Calculates the rolling 14-day average of new cases."
   ]
  },
  {
   "cell_type": "code",
   "execution_count": 4,
   "id": "steady-supervision",
   "metadata": {
    "execution": {
     "iopub.execute_input": "2021-05-25T10:22:35.384740Z",
     "iopub.status.busy": "2021-05-25T10:22:35.384282Z",
     "iopub.status.idle": "2021-05-25T10:22:35.387046Z",
     "shell.execute_reply": "2021-05-25T10:22:35.386674Z"
    },
    "jupyter": {
     "source_hidden": true
    },
    "papermill": {
     "duration": 0.015661,
     "end_time": "2021-05-25T10:22:35.387146",
     "exception": false,
     "start_time": "2021-05-25T10:22:35.371485",
     "status": "completed"
    },
    "scrolled": true,
    "tags": [
     "hide-input"
    ]
   },
   "outputs": [
    {
     "data": {
      "text/markdown": [
       "### Last updated: May 24, 2021"
      ],
      "text/plain": [
       "<IPython.core.display.Markdown object>"
      ]
     },
     "metadata": {},
     "output_type": "display_data"
    }
   ],
   "source": [
    "display(Markdown('### Last updated: ' + dc.iloc[-1]['DATE'].strftime(\"%B %d, %Y\")))"
   ]
  },
  {
   "cell_type": "code",
   "execution_count": 5,
   "id": "lonely-pitch",
   "metadata": {
    "execution": {
     "iopub.execute_input": "2021-05-25T10:22:35.406835Z",
     "iopub.status.busy": "2021-05-25T10:22:35.406385Z",
     "iopub.status.idle": "2021-05-25T10:22:35.409079Z",
     "shell.execute_reply": "2021-05-25T10:22:35.408698Z"
    },
    "jupyter": {
     "source_hidden": true
    },
    "papermill": {
     "duration": 0.014225,
     "end_time": "2021-05-25T10:22:35.409175",
     "exception": false,
     "start_time": "2021-05-25T10:22:35.394950",
     "status": "completed"
    },
    "tags": [
     "hide-input"
    ]
   },
   "outputs": [
    {
     "data": {
      "text/markdown": [
       "# Dunn County has 4675 total positive cases, with -1 new cases reported today."
      ],
      "text/plain": [
       "<IPython.core.display.Markdown object>"
      ]
     },
     "metadata": {},
     "output_type": "display_data"
    }
   ],
   "source": [
    "display(Markdown('# Dunn County has ' + str(dc.iloc[-1]['POSITIVE']) + ' total positive cases, with '+ str(int(dc.iloc[-1]['POS_NEW'])) + ' new cases reported today.'))"
   ]
  },
  {
   "cell_type": "code",
   "execution_count": 6,
   "id": "compound-nightmare",
   "metadata": {
    "execution": {
     "iopub.execute_input": "2021-05-25T10:22:35.428776Z",
     "iopub.status.busy": "2021-05-25T10:22:35.428323Z",
     "iopub.status.idle": "2021-05-25T10:22:35.669852Z",
     "shell.execute_reply": "2021-05-25T10:22:35.669373Z"
    },
    "jupyter": {
     "source_hidden": true
    },
    "papermill": {
     "duration": 0.252636,
     "end_time": "2021-05-25T10:22:35.669982",
     "exception": false,
     "start_time": "2021-05-25T10:22:35.417346",
     "status": "completed"
    },
    "scrolled": false,
    "tags": [
     "hide-input"
    ]
   },
   "outputs": [
    {
     "data": {
      "image/png": "[encoded data removed]",
      "text/plain": [
       "<Figure size 864x432 with 1 Axes>"
      ]
     },
     "metadata": {
      "needs_background": "light"
     },
     "output_type": "display_data"
    }
   ],
   "source": [
    "dc.plot(x='DATE',y='POSITIVE',color='red',grid='True',figsize=(12,6)).set_xlabel('Date');"
   ]
  },
  {
   "cell_type": "markdown",
   "id": "coupled-literacy",
   "metadata": {
    "papermill": {
     "duration": 0.009286,
     "end_time": "2021-05-25T10:22:35.688891",
     "exception": false,
     "start_time": "2021-05-25T10:22:35.679605",
     "status": "completed"
    },
    "tags": []
   },
   "source": [
    "## Figure 1: Cummulative number of positive cases."
   ]
  },
  {
   "cell_type": "code",
   "execution_count": 7,
   "id": "surrounded-reserve",
   "metadata": {
    "execution": {
     "iopub.execute_input": "2021-05-25T10:22:35.712847Z",
     "iopub.status.busy": "2021-05-25T10:22:35.710699Z",
     "iopub.status.idle": "2021-05-25T10:22:35.909614Z",
     "shell.execute_reply": "2021-05-25T10:22:35.910004Z"
    },
    "jupyter": {
     "source_hidden": true
    },
    "papermill": {
     "duration": 0.212317,
     "end_time": "2021-05-25T10:22:35.910150",
     "exception": false,
     "start_time": "2021-05-25T10:22:35.697833",
     "status": "completed"
    },
    "scrolled": false,
    "tags": [
     "hide-input"
    ]
   },
   "outputs": [
    {
     "data": {
      "image/png": "[encoded data removed]",
      "text/plain": [
       "<Figure size 864x432 with 1 Axes>"
      ]
     },
     "metadata": {
      "needs_background": "light"
     },
     "output_type": "display_data"
    }
   ],
   "source": [
    "dc.plot(kind='line',x='DATE',y='7_DAY',color='blue',grid='True',figsize=(12,6)).set_xlabel('Date');"
   ]
  },
  {
   "cell_type": "markdown",
   "id": "professional-savannah",
   "metadata": {
    "papermill": {
     "duration": 0.01014,
     "end_time": "2021-05-25T10:22:35.930487",
     "exception": false,
     "start_time": "2021-05-25T10:22:35.920347",
     "status": "completed"
    },
    "tags": []
   },
   "source": [
    "## Figure 2: Rolling 7-day average of daily new cases."
   ]
  },
  {
   "cell_type": "code",
   "execution_count": 8,
   "id": "stretch-investor",
   "metadata": {
    "execution": {
     "iopub.execute_input": "2021-05-25T10:22:35.954550Z",
     "iopub.status.busy": "2021-05-25T10:22:35.954088Z",
     "iopub.status.idle": "2021-05-25T10:22:36.147325Z",
     "shell.execute_reply": "2021-05-25T10:22:36.146874Z"
    },
    "jupyter": {
     "source_hidden": true
    },
    "papermill": {
     "duration": 0.207019,
     "end_time": "2021-05-25T10:22:36.147449",
     "exception": false,
     "start_time": "2021-05-25T10:22:35.940430",
     "status": "completed"
    },
    "tags": []
   },
   "outputs": [
    {
     "data": {
      "image/png": "[encoded data removed]",
      "text/plain": [
       "<Figure size 864x432 with 1 Axes>"
      ]
     },
     "metadata": {
      "needs_background": "light"
     },
     "output_type": "display_data"
    }
   ],
   "source": [
    "dc.plot(kind='line',x='DATE',y='14_DAY',color='green',grid='True',figsize=(12,6)).set_xlabel('Date');"
   ]
  },
  {
   "cell_type": "markdown",
   "id": "prerequisite-species",
   "metadata": {
    "papermill": {
     "duration": 0.011263,
     "end_time": "2021-05-25T10:22:36.170481",
     "exception": false,
     "start_time": "2021-05-25T10:22:36.159218",
     "status": "completed"
    },
    "tags": []
   },
   "source": [
    "## Figure 3: Rolling 14-day average of daily new cases."
   ]
  },
  {
   "cell_type": "markdown",
   "id": "palestinian-guard",
   "metadata": {
    "papermill": {
     "duration": 0.010712,
     "end_time": "2021-05-25T10:22:36.191940",
     "exception": false,
     "start_time": "2021-05-25T10:22:36.181228",
     "status": "completed"
    },
    "tags": []
   },
   "source": [
    "Data source: [Wisconsin Department of Health Services](https://data.dhsgis.wi.gov/datasets/covid-19-historical-data-by-county)"
   ]
  },
  {
   "cell_type": "code",
   "execution_count": 9,
   "id": "proof-medicare",
   "metadata": {
    "execution": {
     "iopub.execute_input": "2021-05-25T10:22:36.218054Z",
     "iopub.status.busy": "2021-05-25T10:22:36.217491Z",
     "iopub.status.idle": "2021-05-25T10:22:36.221314Z",
     "shell.execute_reply": "2021-05-25T10:22:36.220784Z"
    },
    "jupyter": {
     "source_hidden": true
    },
    "papermill": {
     "duration": 0.018709,
     "end_time": "2021-05-25T10:22:36.221426",
     "exception": false,
     "start_time": "2021-05-25T10:22:36.202717",
     "status": "completed"
    },
    "tags": []
   },
   "outputs": [
    {
     "data": {
      "text/html": [
       "<style>\n",
       "div.input {\n",
       "    display:none;\n",
       "}\n",
       "</style>\n"
      ],
      "text/plain": [
       "<IPython.core.display.HTML object>"
      ]
     },
     "metadata": {},
     "output_type": "display_data"
    }
   ],
   "source": [
    "%%html\n",
    "<style>\n",
    "div.input {\n",
    "    display:none;\n",
    "}\n",
    "</style>"
   ]
  }
 ],
 "metadata": {
  "kernelspec": {
   "display_name": "Python 3",
   "language": "python",
   "name": "python3"
  },
  "language_info": {
   "codemirror_mode": {
    "name": "ipython",
    "version": 3
   },
   "file_extension": ".py",
   "mimetype": "text/x-python",
   "name": "python",
   "nbconvert_exporter": "python",
   "pygments_lexer": "ipython3",
   "version": "3.8.10"
  },
  "papermill": {
   "duration": 3.933077,
   "end_time": "2021-05-25T10:22:36.539676",
   "environment_variables": {},
   "exception": null,
   "input_path": "DunnCounty_COVID19.ipynb",
   "output_path": "DunnCounty_COVID19.ipynb",
   "parameters": {
    "Start": "True",
    "secretsPath": "/home/runner/work/_temp/secrets.json"
   },
   "start_time": "2021-05-25T10:22:32.606599",
   "version": "1.1.16"
  }
 },
 "nbformat": 4,
 "nbformat_minor": 5
}