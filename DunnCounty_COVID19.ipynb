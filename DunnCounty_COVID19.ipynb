{
 "cells": [
  {
   "cell_type": "code",
   "execution_count": 1,
   "id": "solar-understanding",
   "metadata": {
    "execution": {
     "iopub.execute_input": "2021-06-24T10:08:05.320023Z",
     "iopub.status.busy": "2021-06-24T10:08:05.319453Z",
     "iopub.status.idle": "2021-06-24T10:08:08.102648Z",
     "shell.execute_reply": "2021-06-24T10:08:08.102007Z"
    },
    "jupyter": {
     "source_hidden": true
    },
    "papermill": {
     "duration": 2.802574,
     "end_time": "2021-06-24T10:08:08.102798",
     "exception": false,
     "start_time": "2021-06-24T10:08:05.300224",
     "status": "completed"
    },
    "scrolled": true,
    "tags": [
     "hide-input"
    ]
   },
   "outputs": [],
   "source": [
    "import pandas as pd\n",
    "import matplotlib.pyplot as plt\n",
    "from matplotlib import dates\n",
    "from IPython.display import display, Markdown\n",
    "%matplotlib inline"
   ]
  },
  {
   "cell_type": "code",
   "execution_count": 2,
   "id": "purple-playlist",
   "metadata": {
    "execution": {
     "iopub.execute_input": "2021-06-24T10:08:08.126827Z",
     "iopub.status.busy": "2021-06-24T10:08:08.126263Z",
     "iopub.status.idle": "2021-06-24T10:08:09.204777Z",
     "shell.execute_reply": "2021-06-24T10:08:09.205235Z"
    },
    "jupyter": {
     "source_hidden": true
    },
    "papermill": {
     "duration": 1.093401,
     "end_time": "2021-06-24T10:08:09.205405",
     "exception": false,
     "start_time": "2021-06-24T10:08:08.112004",
     "status": "completed"
    },
    "scrolled": true,
    "tags": [
     "hide-input"
    ]
   },
   "outputs": [],
   "source": [
    "# This is the data for all of Wisconsin.\n",
    "url = \"https://opendata.arcgis.com/api/v3/datasets/3161f6e01d8141c6abe85a29ff7f3d3c_12/downloads/data?format=csv&spatialRefId=3857\"\n",
    "data = pd.read_csv(url, parse_dates=['DATE'], low_memory=False)"
   ]
  },
  {
   "cell_type": "code",
   "execution_count": 3,
   "id": "proprietary-klein",
   "metadata": {
    "execution": {
     "iopub.execute_input": "2021-06-24T10:08:09.229266Z",
     "iopub.status.busy": "2021-06-24T10:08:09.228708Z",
     "iopub.status.idle": "2021-06-24T10:08:09.239094Z",
     "shell.execute_reply": "2021-06-24T10:08:09.238583Z"
    },
    "jupyter": {
     "source_hidden": true
    },
    "papermill": {
     "duration": 0.024687,
     "end_time": "2021-06-24T10:08:09.239219",
     "exception": false,
     "start_time": "2021-06-24T10:08:09.214532",
     "status": "completed"
    },
    "scrolled": true,
    "tags": [
     "hide-input"
    ]
   },
   "outputs": [],
   "source": [
    "dc = data.groupby('NAME').get_group('Dunn').sort_values(by='DATE') # Select the data for Dunn County from the full data.\n",
    "PNi = dc.columns.get_loc(\"POS_NEW\")\n",
    "dc['7_DAY'] = dc.iloc[:,PNi].rolling(window=7).mean() # Calculates the rolling 7-day average of new cases.\n",
    "dc['14_DAY'] = dc.iloc[:,PNi].rolling(window=14).mean() # Calculates the rolling 14-day average of new cases."
   ]
  },
  {
   "cell_type": "code",
   "execution_count": 4,
   "id": "steady-supervision",
   "metadata": {
    "execution": {
     "iopub.execute_input": "2021-06-24T10:08:09.265947Z",
     "iopub.status.busy": "2021-06-24T10:08:09.264876Z",
     "iopub.status.idle": "2021-06-24T10:08:09.268147Z",
     "shell.execute_reply": "2021-06-24T10:08:09.268576Z"
    },
    "jupyter": {
     "source_hidden": true
    },
    "papermill": {
     "duration": 0.020799,
     "end_time": "2021-06-24T10:08:09.268730",
     "exception": false,
     "start_time": "2021-06-24T10:08:09.247931",
     "status": "completed"
    },
    "scrolled": true,
    "tags": [
     "hide-input"
    ]
   },
   "outputs": [
    {
     "data": {
      "text/markdown": [
       "### Last updated: June 23, 2021"
      ],
      "text/plain": [
       "<IPython.core.display.Markdown object>"
      ]
     },
     "metadata": {},
     "output_type": "display_data"
    }
   ],
   "source": [
    "display(Markdown('### Last updated: ' + dc.iloc[-1]['DATE'].strftime(\"%B %d, %Y\")))"
   ]
  },
  {
   "cell_type": "code",
   "execution_count": 5,
   "id": "lonely-pitch",
   "metadata": {
    "execution": {
     "iopub.execute_input": "2021-06-24T10:08:09.292903Z",
     "iopub.status.busy": "2021-06-24T10:08:09.291897Z",
     "iopub.status.idle": "2021-06-24T10:08:09.296070Z",
     "shell.execute_reply": "2021-06-24T10:08:09.296500Z"
    },
    "jupyter": {
     "source_hidden": true
    },
    "papermill": {
     "duration": 0.018846,
     "end_time": "2021-06-24T10:08:09.296643",
     "exception": false,
     "start_time": "2021-06-24T10:08:09.277797",
     "status": "completed"
    },
    "tags": [
     "hide-input"
    ]
   },
   "outputs": [
    {
     "data": {
      "text/markdown": [
       "# Dunn County has 4700 total positive cases, with 2 new cases reported today."
      ],
      "text/plain": [
       "<IPython.core.display.Markdown object>"
      ]
     },
     "metadata": {},
     "output_type": "display_data"
    }
   ],
   "source": [
    "display(Markdown('# Dunn County has ' + str(dc.iloc[-1]['POSITIVE']) + ' total positive cases, with '+ str(int(dc.iloc[-1]['POS_NEW'])) + ' new cases reported today.'))"
   ]
  },
  {
   "cell_type": "code",
   "execution_count": 6,
   "id": "compound-nightmare",
   "metadata": {
    "execution": {
     "iopub.execute_input": "2021-06-24T10:08:09.319922Z",
     "iopub.status.busy": "2021-06-24T10:08:09.319384Z",
     "iopub.status.idle": "2021-06-24T10:08:09.581364Z",
     "shell.execute_reply": "2021-06-24T10:08:09.581877Z"
    },
    "jupyter": {
     "source_hidden": true
    },
    "papermill": {
     "duration": 0.276095,
     "end_time": "2021-06-24T10:08:09.582052",
     "exception": false,
     "start_time": "2021-06-24T10:08:09.305957",
     "status": "completed"
    },
    "scrolled": false,
    "tags": [
     "hide-input"
    ]
   },
   "outputs": [
    {
     "data": {
      "image/png": "[encoded data removed]",
      "text/plain": [
       "<Figure size 864x432 with 1 Axes>"
      ]
     },
     "metadata": {
      "needs_background": "light"
     },
     "output_type": "display_data"
    }
   ],
   "source": [
    "dc.plot(x='DATE',y='POSITIVE',color='red',grid='True',figsize=(12,6)).set_xlabel('Date');"
   ]
  },
  {
   "cell_type": "markdown",
   "id": "coupled-literacy",
   "metadata": {
    "papermill": {
     "duration": 0.010604,
     "end_time": "2021-06-24T10:08:09.604080",
     "exception": false,
     "start_time": "2021-06-24T10:08:09.593476",
     "status": "completed"
    },
    "tags": []
   },
   "source": [
    "## Figure 1: Cummulative number of positive cases."
   ]
  },
  {
   "cell_type": "code",
   "execution_count": 7,
   "id": "surrounded-reserve",
   "metadata": {
    "execution": {
     "iopub.execute_input": "2021-06-24T10:08:09.630337Z",
     "iopub.status.busy": "2021-06-24T10:08:09.629763Z",
     "iopub.status.idle": "2021-06-24T10:08:09.867561Z",
     "shell.execute_reply": "2021-06-24T10:08:09.868192Z"
    },
    "jupyter": {
     "source_hidden": true
    },
    "papermill": {
     "duration": 0.254092,
     "end_time": "2021-06-24T10:08:09.868395",
     "exception": false,
     "start_time": "2021-06-24T10:08:09.614303",
     "status": "completed"
    },
    "scrolled": false,
    "tags": [
     "hide-input"
    ]
   },
   "outputs": [
    {
     "data": {
      "image/png": "[encoded data removed]",
      "text/plain": [
       "<Figure size 864x432 with 1 Axes>"
      ]
     },
     "metadata": {
      "needs_background": "light"
     },
     "output_type": "display_data"
    }
   ],
   "source": [
    "dc.plot(kind='line',x='DATE',y='7_DAY',color='blue',grid='True',figsize=(12,6)).set_xlabel('Date');"
   ]
  },
  {
   "cell_type": "markdown",
   "id": "professional-savannah",
   "metadata": {
    "papermill": {
     "duration": 0.011582,
     "end_time": "2021-06-24T10:08:09.893030",
     "exception": false,
     "start_time": "2021-06-24T10:08:09.881448",
     "status": "completed"
    },
    "tags": []
   },
   "source": [
    "## Figure 2: Rolling 7-day average of daily new cases."
   ]
  },
  {
   "cell_type": "code",
   "execution_count": 8,
   "id": "stretch-investor",
   "metadata": {
    "execution": {
     "iopub.execute_input": "2021-06-24T10:08:09.921993Z",
     "iopub.status.busy": "2021-06-24T10:08:09.921459Z",
     "iopub.status.idle": "2021-06-24T10:08:10.150575Z",
     "shell.execute_reply": "2021-06-24T10:08:10.151224Z"
    },
    "jupyter": {
     "source_hidden": true
    },
    "papermill": {
     "duration": 0.24709,
     "end_time": "2021-06-24T10:08:10.151430",
     "exception": false,
     "start_time": "2021-06-24T10:08:09.904340",
     "status": "completed"
    },
    "tags": []
   },
   "outputs": [
    {
     "data": {
      "image/png": "[encoded data removed]",
      "text/plain": [
       "<Figure size 864x432 with 1 Axes>"
      ]
     },
     "metadata": {
      "needs_background": "light"
     },
     "output_type": "display_data"
    }
   ],
   "source": [
    "dc.plot(kind='line',x='DATE',y='14_DAY',color='green',grid='True',figsize=(12,6)).set_xlabel('Date');"
   ]
  },
  {
   "cell_type": "markdown",
   "id": "prerequisite-species",
   "metadata": {
    "papermill": {
     "duration": 0.01266,
     "end_time": "2021-06-24T10:08:10.178414",
     "exception": false,
     "start_time": "2021-06-24T10:08:10.165754",
     "status": "completed"
    },
    "tags": []
   },
   "source": [
    "## Figure 3: Rolling 14-day average of daily new cases."
   ]
  },
  {
   "cell_type": "markdown",
   "id": "palestinian-guard",
   "metadata": {
    "papermill": {
     "duration": 0.012338,
     "end_time": "2021-06-24T10:08:10.203099",
     "exception": false,
     "start_time": "2021-06-24T10:08:10.190761",
     "status": "completed"
    },
    "tags": []
   },
   "source": [
    "Data source: [Wisconsin Department of Health Services](https://data.dhsgis.wi.gov/datasets/wi-dhs::covid-19-historical-data-by-county-1)"
   ]
  },
  {
   "cell_type": "code",
   "execution_count": 9,
   "id": "proof-medicare",
   "metadata": {
    "execution": {
     "iopub.execute_input": "2021-06-24T10:08:10.233037Z",
     "iopub.status.busy": "2021-06-24T10:08:10.232464Z",
     "iopub.status.idle": "2021-06-24T10:08:10.235791Z",
     "shell.execute_reply": "2021-06-24T10:08:10.236313Z"
    },
    "jupyter": {
     "source_hidden": true
    },
    "papermill": {
     "duration": 0.021078,
     "end_time": "2021-06-24T10:08:10.236465",
     "exception": false,
     "start_time": "2021-06-24T10:08:10.215387",
     "status": "completed"
    },
    "tags": []
   },
   "outputs": [
    {
     "data": {
      "text/html": [
       "<style>\n",
       "div.input {\n",
       "    display:none;\n",
       "}\n",
       "</style>\n"
      ],
      "text/plain": [
       "<IPython.core.display.HTML object>"
      ]
     },
     "metadata": {},
     "output_type": "display_data"
    }
   ],
   "source": [
    "%%html\n",
    "<style>\n",
    "div.input {\n",
    "    display:none;\n",
    "}\n",
    "</style>"
   ]
  }
 ],
 "metadata": {
  "kernelspec": {
   "display_name": "Python 3",
   "language": "python",
   "name": "python3"
  },
  "language_info": {
   "codemirror_mode": {
    "name": "ipython",
    "version": 3
   },
   "file_extension": ".py",
   "mimetype": "text/x-python",
   "name": "python",
   "nbconvert_exporter": "python",
   "pygments_lexer": "ipython3",
   "version": "3.8.10"
  },
  "papermill": {
   "duration": 8.040007,
   "end_time": "2021-06-24T10:08:11.537301",
   "environment_variables": {},
   "exception": null,
   "input_path": "DunnCounty_COVID19.ipynb",
   "output_path": "DunnCounty_COVID19.ipynb",
   "parameters": {
    "Start": "True",
    "secretsPath": "/home/runner/work/_temp/secrets.json"
   },
   "start_time": "2021-06-24T10:08:03.497294",
   "version": "1.1.16"
  }
 },
 "nbformat": 4,
 "nbformat_minor": 5
}