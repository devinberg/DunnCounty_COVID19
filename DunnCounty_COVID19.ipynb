{
 "cells": [
  {
   "cell_type": "code",
   "execution_count": 1,
   "id": "solar-understanding",
   "metadata": {
    "execution": {
     "iopub.execute_input": "2021-04-20T10:16:14.664727Z",
     "iopub.status.busy": "2021-04-20T10:16:14.664126Z",
     "iopub.status.idle": "2021-04-20T10:16:17.343511Z",
     "shell.execute_reply": "2021-04-20T10:16:17.342833Z"
    },
    "jupyter": {
     "source_hidden": true
    },
    "papermill": {
     "duration": 2.699328,
     "end_time": "2021-04-20T10:16:17.343665",
     "exception": false,
     "start_time": "2021-04-20T10:16:14.644337",
     "status": "completed"
    },
    "scrolled": true,
    "tags": [
     "hide-input"
    ]
   },
   "outputs": [],
   "source": [
    "import pandas as pd\n",
    "import matplotlib.pyplot as plt\n",
    "from matplotlib import dates\n",
    "from IPython.display import display, Markdown\n",
    "%matplotlib inline"
   ]
  },
  {
   "cell_type": "code",
   "execution_count": 2,
   "id": "purple-playlist",
   "metadata": {
    "execution": {
     "iopub.execute_input": "2021-04-20T10:16:17.370863Z",
     "iopub.status.busy": "2021-04-20T10:16:17.370230Z",
     "iopub.status.idle": "2021-04-20T10:16:18.248192Z",
     "shell.execute_reply": "2021-04-20T10:16:18.247667Z"
    },
    "jupyter": {
     "source_hidden": true
    },
    "papermill": {
     "duration": 0.894358,
     "end_time": "2021-04-20T10:16:18.248333",
     "exception": false,
     "start_time": "2021-04-20T10:16:17.353975",
     "status": "completed"
    },
    "scrolled": true,
    "tags": [
     "hide-input"
    ]
   },
   "outputs": [],
   "source": [
    "# This is the data for all of Wisconsin.\n",
    "url = \"https://opendata.arcgis.com/datasets/0b7bac0afc464e7783474cb62272d9b8_12.csv\"\n",
    "data = pd.read_csv(url, parse_dates=['DATE'], low_memory=False)"
   ]
  },
  {
   "cell_type": "code",
   "execution_count": 3,
   "id": "proprietary-klein",
   "metadata": {
    "execution": {
     "iopub.execute_input": "2021-04-20T10:16:18.276534Z",
     "iopub.status.busy": "2021-04-20T10:16:18.275899Z",
     "iopub.status.idle": "2021-04-20T10:16:18.289070Z",
     "shell.execute_reply": "2021-04-20T10:16:18.288531Z"
    },
    "jupyter": {
     "source_hidden": true
    },
    "papermill": {
     "duration": 0.031106,
     "end_time": "2021-04-20T10:16:18.289208",
     "exception": false,
     "start_time": "2021-04-20T10:16:18.258102",
     "status": "completed"
    },
    "scrolled": true,
    "tags": [
     "hide-input"
    ]
   },
   "outputs": [],
   "source": [
    "dc = data.groupby('NAME').get_group('Dunn').sort_values(by='DATE') # Select the data for Dunn County from the full data.\n",
    "PNi = dc.columns.get_loc(\"POS_NEW\")\n",
    "dc['7_DAY'] = dc.iloc[:,PNi].rolling(window=7).mean() # Calculates the rolling 7-day average of new cases.\n",
    "dc['14_DAY'] = dc.iloc[:,PNi].rolling(window=14).mean() # Calculates the rolling 14-day average of new cases."
   ]
  },
  {
   "cell_type": "code",
   "execution_count": 4,
   "id": "steady-supervision",
   "metadata": {
    "execution": {
     "iopub.execute_input": "2021-04-20T10:16:18.316139Z",
     "iopub.status.busy": "2021-04-20T10:16:18.315535Z",
     "iopub.status.idle": "2021-04-20T10:16:18.318178Z",
     "shell.execute_reply": "2021-04-20T10:16:18.318633Z"
    },
    "jupyter": {
     "source_hidden": true
    },
    "papermill": {
     "duration": 0.020017,
     "end_time": "2021-04-20T10:16:18.318785",
     "exception": false,
     "start_time": "2021-04-20T10:16:18.298768",
     "status": "completed"
    },
    "scrolled": true,
    "tags": [
     "hide-input"
    ]
   },
   "outputs": [
    {
     "data": {
      "text/markdown": [
       "### Last updated: April 19, 2021"
      ],
      "text/plain": [
       "<IPython.core.display.Markdown object>"
      ]
     },
     "metadata": {},
     "output_type": "display_data"
    }
   ],
   "source": [
    "display(Markdown('### Last updated: ' + dc.iloc[-1]['DATE'].strftime(\"%B %d, %Y\")))"
   ]
  },
  {
   "cell_type": "code",
   "execution_count": 5,
   "id": "lonely-pitch",
   "metadata": {
    "execution": {
     "iopub.execute_input": "2021-04-20T10:16:18.344100Z",
     "iopub.status.busy": "2021-04-20T10:16:18.343505Z",
     "iopub.status.idle": "2021-04-20T10:16:18.346687Z",
     "shell.execute_reply": "2021-04-20T10:16:18.346206Z"
    },
    "jupyter": {
     "source_hidden": true
    },
    "papermill": {
     "duration": 0.018346,
     "end_time": "2021-04-20T10:16:18.346816",
     "exception": false,
     "start_time": "2021-04-20T10:16:18.328470",
     "status": "completed"
    },
    "tags": [
     "hide-input"
    ]
   },
   "outputs": [
    {
     "data": {
      "text/markdown": [
       "# Dunn County has 4549 total positive cases, with 6 new cases reported today."
      ],
      "text/plain": [
       "<IPython.core.display.Markdown object>"
      ]
     },
     "metadata": {},
     "output_type": "display_data"
    }
   ],
   "source": [
    "display(Markdown('# Dunn County has ' + str(dc.iloc[-1]['POSITIVE']) + ' total positive cases, with '+ str(int(dc.iloc[-1]['POS_NEW'])) + ' new cases reported today.'))"
   ]
  },
  {
   "cell_type": "code",
   "execution_count": 6,
   "id": "compound-nightmare",
   "metadata": {
    "execution": {
     "iopub.execute_input": "2021-04-20T10:16:18.372825Z",
     "iopub.status.busy": "2021-04-20T10:16:18.372122Z",
     "iopub.status.idle": "2021-04-20T10:16:18.689717Z",
     "shell.execute_reply": "2021-04-20T10:16:18.690193Z"
    },
    "jupyter": {
     "source_hidden": true
    },
    "papermill": {
     "duration": 0.331695,
     "end_time": "2021-04-20T10:16:18.690358",
     "exception": false,
     "start_time": "2021-04-20T10:16:18.358663",
     "status": "completed"
    },
    "scrolled": false,
    "tags": [
     "hide-input"
    ]
   },
   "outputs": [
    {
     "data": {
      "image/png": "[encoded data removed]",
      "text/plain": [
       "<Figure size 864x432 with 1 Axes>"
      ]
     },
     "metadata": {
      "needs_background": "light"
     },
     "output_type": "display_data"
    }
   ],
   "source": [
    "dc.plot(x='DATE',y='POSITIVE',color='red',grid='True',figsize=(12,6)).set_xlabel('Date');"
   ]
  },
  {
   "cell_type": "markdown",
   "id": "coupled-literacy",
   "metadata": {
    "papermill": {
     "duration": 0.01106,
     "end_time": "2021-04-20T10:16:18.712749",
     "exception": false,
     "start_time": "2021-04-20T10:16:18.701689",
     "status": "completed"
    },
    "tags": []
   },
   "source": [
    "## Figure 1: Cummulative number of positive cases."
   ]
  },
  {
   "cell_type": "code",
   "execution_count": 7,
   "id": "surrounded-reserve",
   "metadata": {
    "execution": {
     "iopub.execute_input": "2021-04-20T10:16:18.742856Z",
     "iopub.status.busy": "2021-04-20T10:16:18.742269Z",
     "iopub.status.idle": "2021-04-20T10:16:18.977289Z",
     "shell.execute_reply": "2021-04-20T10:16:18.977982Z"
    },
    "jupyter": {
     "source_hidden": true
    },
    "papermill": {
     "duration": 0.25323,
     "end_time": "2021-04-20T10:16:18.978168",
     "exception": false,
     "start_time": "2021-04-20T10:16:18.724938",
     "status": "completed"
    },
    "scrolled": false,
    "tags": [
     "hide-input"
    ]
   },
   "outputs": [
    {
     "data": {
      "image/png": "[encoded data removed]",
      "text/plain": [
       "<Figure size 864x432 with 1 Axes>"
      ]
     },
     "metadata": {
      "needs_background": "light"
     },
     "output_type": "display_data"
    }
   ],
   "source": [
    "dc.plot(kind='line',x='DATE',y='7_DAY',color='blue',grid='True',figsize=(12,6)).set_xlabel('Date');"
   ]
  },
  {
   "cell_type": "markdown",
   "id": "professional-savannah",
   "metadata": {
    "papermill": {
     "duration": 0.013846,
     "end_time": "2021-04-20T10:16:19.004780",
     "exception": false,
     "start_time": "2021-04-20T10:16:18.990934",
     "status": "completed"
    },
    "tags": []
   },
   "source": [
    "## Figure 2: Rolling 7-day average of daily new cases."
   ]
  },
  {
   "cell_type": "code",
   "execution_count": 8,
   "id": "stretch-investor",
   "metadata": {
    "execution": {
     "iopub.execute_input": "2021-04-20T10:16:19.035273Z",
     "iopub.status.busy": "2021-04-20T10:16:19.034652Z",
     "iopub.status.idle": "2021-04-20T10:16:19.268450Z",
     "shell.execute_reply": "2021-04-20T10:16:19.267947Z"
    },
    "jupyter": {
     "source_hidden": true
    },
    "papermill": {
     "duration": 0.25098,
     "end_time": "2021-04-20T10:16:19.268590",
     "exception": false,
     "start_time": "2021-04-20T10:16:19.017610",
     "status": "completed"
    },
    "tags": []
   },
   "outputs": [
    {
     "data": {
      "image/png": "[encoded data removed]",
      "text/plain": [
       "<Figure size 864x432 with 1 Axes>"
      ]
     },
     "metadata": {
      "needs_background": "light"
     },
     "output_type": "display_data"
    }
   ],
   "source": [
    "dc.plot(kind='line',x='DATE',y='14_DAY',color='green',grid='True',figsize=(12,6)).set_xlabel('Date');"
   ]
  },
  {
   "cell_type": "markdown",
   "id": "prerequisite-species",
   "metadata": {
    "papermill": {
     "duration": 0.015495,
     "end_time": "2021-04-20T10:16:19.297450",
     "exception": false,
     "start_time": "2021-04-20T10:16:19.281955",
     "status": "completed"
    },
    "tags": []
   },
   "source": [
    "## Figure 3: Rolling 14-day average of daily new cases."
   ]
  },
  {
   "cell_type": "markdown",
   "id": "palestinian-guard",
   "metadata": {
    "papermill": {
     "duration": 0.013648,
     "end_time": "2021-04-20T10:16:19.324627",
     "exception": false,
     "start_time": "2021-04-20T10:16:19.310979",
     "status": "completed"
    },
    "tags": []
   },
   "source": [
    "Data source: [Wisconsin Department of Health Services](https://data.dhsgis.wi.gov/datasets/covid-19-historical-data-by-county)"
   ]
  },
  {
   "cell_type": "code",
   "execution_count": 9,
   "id": "proof-medicare",
   "metadata": {
    "execution": {
     "iopub.execute_input": "2021-04-20T10:16:19.358230Z",
     "iopub.status.busy": "2021-04-20T10:16:19.357623Z",
     "iopub.status.idle": "2021-04-20T10:16:19.360819Z",
     "shell.execute_reply": "2021-04-20T10:16:19.360292Z"
    },
    "jupyter": {
     "source_hidden": true
    },
    "papermill": {
     "duration": 0.022172,
     "end_time": "2021-04-20T10:16:19.360963",
     "exception": false,
     "start_time": "2021-04-20T10:16:19.338791",
     "status": "completed"
    },
    "tags": []
   },
   "outputs": [
    {
     "data": {
      "text/html": [
       "<style>\n",
       "div.input {\n",
       "    display:none;\n",
       "}\n",
       "</style>\n"
      ],
      "text/plain": [
       "<IPython.core.display.HTML object>"
      ]
     },
     "metadata": {},
     "output_type": "display_data"
    }
   ],
   "source": [
    "%%html\n",
    "<style>\n",
    "div.input {\n",
    "    display:none;\n",
    "}\n",
    "</style>"
   ]
  }
 ],
 "metadata": {
  "kernelspec": {
   "display_name": "Python 3",
   "language": "python",
   "name": "python3"
  },
  "language_info": {
   "codemirror_mode": {
    "name": "ipython",
    "version": 3
   },
   "file_extension": ".py",
   "mimetype": "text/x-python",
   "name": "python",
   "nbconvert_exporter": "python",
   "pygments_lexer": "ipython3",
   "version": "3.8.9"
  },
  "papermill": {
   "duration": 6.721554,
   "end_time": "2021-04-20T10:16:19.782718",
   "environment_variables": {},
   "exception": null,
   "input_path": "DunnCounty_COVID19.ipynb",
   "output_path": "DunnCounty_COVID19.ipynb",
   "parameters": {
    "Start": "True",
    "secretsPath": "/home/runner/work/_temp/secrets.json"
   },
   "start_time": "2021-04-20T10:16:13.061164",
   "version": "1.1.16"
  }
 },
 "nbformat": 4,
 "nbformat_minor": 5
}