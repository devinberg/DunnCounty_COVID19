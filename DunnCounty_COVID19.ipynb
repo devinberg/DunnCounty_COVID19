{
 "cells": [
  {
   "cell_type": "code",
   "execution_count": 1,
   "metadata": {
    "execution": {
     "iopub.execute_input": "2020-12-15T22:12:46.116433Z",
     "iopub.status.busy": "2020-12-15T22:12:46.115951Z",
     "iopub.status.idle": "2020-12-15T22:12:50.602766Z",
     "shell.execute_reply": "2020-12-15T22:12:50.603234Z"
    },
    "jupyter": {
     "source_hidden": true
    },
    "papermill": {
     "duration": 4.503019,
     "end_time": "2020-12-15T22:12:50.603504",
     "exception": false,
     "start_time": "2020-12-15T22:12:46.100485",
     "status": "completed"
    },
    "scrolled": true,
    "tags": [
     "hide-input"
    ]
   },
   "outputs": [],
   "source": [
    "import pandas as pd\n",
    "import matplotlib.pyplot as plt\n",
    "from matplotlib import dates\n",
    "from IPython.display import display, Markdown\n",
    "%matplotlib inline"
   ]
  },
  {
   "cell_type": "code",
   "execution_count": 2,
   "metadata": {
    "execution": {
     "iopub.execute_input": "2020-12-15T22:12:50.622863Z",
     "iopub.status.busy": "2020-12-15T22:12:50.622358Z",
     "iopub.status.idle": "2020-12-15T22:12:51.225015Z",
     "shell.execute_reply": "2020-12-15T22:12:51.225402Z"
    },
    "jupyter": {
     "source_hidden": true
    },
    "papermill": {
     "duration": 0.615493,
     "end_time": "2020-12-15T22:12:51.225560",
     "exception": false,
     "start_time": "2020-12-15T22:12:50.610067",
     "status": "completed"
    },
    "scrolled": true,
    "tags": [
     "hide-input"
    ]
   },
   "outputs": [],
   "source": [
    "# This is the data for all of Wisconsin.\n",
    "url = \"https://opendata.arcgis.com/datasets/5374188992374b318d3e2305216ee413_12.csv\"\n",
    "data = pd.read_csv(url, parse_dates=['DATE'], low_memory=False)"
   ]
  },
  {
   "cell_type": "code",
   "execution_count": 3,
   "metadata": {
    "execution": {
     "iopub.execute_input": "2020-12-15T22:12:51.244067Z",
     "iopub.status.busy": "2020-12-15T22:12:51.243599Z",
     "iopub.status.idle": "2020-12-15T22:12:51.251722Z",
     "shell.execute_reply": "2020-12-15T22:12:51.251316Z"
    },
    "jupyter": {
     "source_hidden": true
    },
    "papermill": {
     "duration": 0.019661,
     "end_time": "2020-12-15T22:12:51.251827",
     "exception": false,
     "start_time": "2020-12-15T22:12:51.232166",
     "status": "completed"
    },
    "scrolled": true,
    "tags": [
     "hide-input"
    ]
   },
   "outputs": [],
   "source": [
    "dc = data.groupby('NAME').get_group('Dunn').sort_values(by='DATE') # Select the data for Dunn County from the full data.\n",
    "PNi = dc.columns.get_loc(\"POS_NEW\")\n",
    "dc['7_DAY'] = dc.iloc[:,PNi].rolling(window=7).mean() # Calculates the rolling 7-day average of new cases.\n",
    "dc['14_DAY'] = dc.iloc[:,PNi].rolling(window=14).mean() # Calculates the rolling 14-day average of new cases."
   ]
  },
  {
   "cell_type": "code",
   "execution_count": 4,
   "metadata": {
    "execution": {
     "iopub.execute_input": "2020-12-15T22:12:51.269447Z",
     "iopub.status.busy": "2020-12-15T22:12:51.268974Z",
     "iopub.status.idle": "2020-12-15T22:12:51.271370Z",
     "shell.execute_reply": "2020-12-15T22:12:51.271749Z"
    },
    "jupyter": {
     "source_hidden": true
    },
    "papermill": {
     "duration": 0.013937,
     "end_time": "2020-12-15T22:12:51.271871",
     "exception": false,
     "start_time": "2020-12-15T22:12:51.257934",
     "status": "completed"
    },
    "scrolled": true,
    "tags": [
     "hide-input"
    ]
   },
   "outputs": [
    {
     "data": {
      "text/markdown": [
       "### Last updated: December 15, 2020"
      ],
      "text/plain": [
       "<IPython.core.display.Markdown object>"
      ]
     },
     "metadata": {},
     "output_type": "display_data"
    }
   ],
   "source": [
    "display(Markdown('### Last updated: ' + dc.iloc[-1]['DATE'].strftime(\"%B %d, %Y\")))"
   ]
  },
  {
   "cell_type": "code",
   "execution_count": 5,
   "metadata": {
    "execution": {
     "iopub.execute_input": "2020-12-15T22:12:51.289171Z",
     "iopub.status.busy": "2020-12-15T22:12:51.288725Z",
     "iopub.status.idle": "2020-12-15T22:12:51.291790Z",
     "shell.execute_reply": "2020-12-15T22:12:51.291421Z"
    },
    "jupyter": {
     "source_hidden": true
    },
    "papermill": {
     "duration": 0.013373,
     "end_time": "2020-12-15T22:12:51.291888",
     "exception": false,
     "start_time": "2020-12-15T22:12:51.278515",
     "status": "completed"
    },
    "tags": [
     "hide-input"
    ]
   },
   "outputs": [
    {
     "data": {
      "text/markdown": [
       "# Dunn County has 3182 total positive cases, with 17 new cases reported today."
      ],
      "text/plain": [
       "<IPython.core.display.Markdown object>"
      ]
     },
     "metadata": {},
     "output_type": "display_data"
    }
   ],
   "source": [
    "display(Markdown('# Dunn County has ' + str(dc.iloc[-1]['POSITIVE']) + ' total positive cases, with '+ str(int(dc.iloc[-1]['POS_NEW'])) + ' new cases reported today.'))"
   ]
  },
  {
   "cell_type": "code",
   "execution_count": 6,
   "metadata": {
    "execution": {
     "iopub.execute_input": "2020-12-15T22:12:51.308960Z",
     "iopub.status.busy": "2020-12-15T22:12:51.308510Z",
     "iopub.status.idle": "2020-12-15T22:12:51.505745Z",
     "shell.execute_reply": "2020-12-15T22:12:51.506177Z"
    },
    "jupyter": {
     "source_hidden": true
    },
    "papermill": {
     "duration": 0.207678,
     "end_time": "2020-12-15T22:12:51.506344",
     "exception": false,
     "start_time": "2020-12-15T22:12:51.298666",
     "status": "completed"
    },
    "scrolled": false,
    "tags": [
     "hide-input"
    ]
   },
   "outputs": [
    {
     "data": {
      "image/png": "[encoded data removed]",
      "text/plain": [
       "<Figure size 864x432 with 1 Axes>"
      ]
     },
     "metadata": {
      "needs_background": "light"
     },
     "output_type": "display_data"
    }
   ],
   "source": [
    "dc.plot(x='DATE',y='POSITIVE',color='red',grid='True',figsize=(12,6)).set_xlabel('Date');"
   ]
  },
  {
   "cell_type": "markdown",
   "metadata": {
    "papermill": {
     "duration": 0.007988,
     "end_time": "2020-12-15T22:12:51.522506",
     "exception": false,
     "start_time": "2020-12-15T22:12:51.514518",
     "status": "completed"
    },
    "tags": []
   },
   "source": [
    "## Figure 1: Cummulative number of positive cases."
   ]
  },
  {
   "cell_type": "code",
   "execution_count": 7,
   "metadata": {
    "execution": {
     "iopub.execute_input": "2020-12-15T22:12:51.555924Z",
     "iopub.status.busy": "2020-12-15T22:12:51.555444Z",
     "iopub.status.idle": "2020-12-15T22:12:51.730148Z",
     "shell.execute_reply": "2020-12-15T22:12:51.729689Z"
    },
    "jupyter": {
     "source_hidden": true
    },
    "papermill": {
     "duration": 0.200155,
     "end_time": "2020-12-15T22:12:51.730279",
     "exception": false,
     "start_time": "2020-12-15T22:12:51.530124",
     "status": "completed"
    },
    "scrolled": false,
    "tags": [
     "hide-input"
    ]
   },
   "outputs": [
    {
     "data": {
      "image/png": "[encoded data removed]",
      "text/plain": [
       "<Figure size 864x432 with 1 Axes>"
      ]
     },
     "metadata": {
      "needs_background": "light"
     },
     "output_type": "display_data"
    }
   ],
   "source": [
    "dc.plot(kind='line',x='DATE',y='7_DAY',color='blue',grid='True',figsize=(12,6)).set_xlabel('Date');"
   ]
  },
  {
   "cell_type": "markdown",
   "metadata": {
    "papermill": {
     "duration": 0.009404,
     "end_time": "2020-12-15T22:12:51.749756",
     "exception": false,
     "start_time": "2020-12-15T22:12:51.740352",
     "status": "completed"
    },
    "tags": []
   },
   "source": [
    "## Figure 2: Rolling 7-day average of daily new cases."
   ]
  },
  {
   "cell_type": "code",
   "execution_count": 8,
   "metadata": {
    "execution": {
     "iopub.execute_input": "2020-12-15T22:12:51.770799Z",
     "iopub.status.busy": "2020-12-15T22:12:51.770316Z",
     "iopub.status.idle": "2020-12-15T22:12:51.957040Z",
     "shell.execute_reply": "2020-12-15T22:12:51.957411Z"
    },
    "jupyter": {
     "source_hidden": true
    },
    "papermill": {
     "duration": 0.199503,
     "end_time": "2020-12-15T22:12:51.957559",
     "exception": false,
     "start_time": "2020-12-15T22:12:51.758056",
     "status": "completed"
    },
    "tags": []
   },
   "outputs": [
    {
     "data": {
      "image/png": "[encoded data removed]",
      "text/plain": [
       "<Figure size 864x432 with 1 Axes>"
      ]
     },
     "metadata": {
      "needs_background": "light"
     },
     "output_type": "display_data"
    }
   ],
   "source": [
    "dc.plot(kind='line',x='DATE',y='14_DAY',color='green',grid='True',figsize=(12,6)).set_xlabel('Date');"
   ]
  },
  {
   "cell_type": "markdown",
   "metadata": {
    "papermill": {
     "duration": 0.009586,
     "end_time": "2020-12-15T22:12:51.976727",
     "exception": false,
     "start_time": "2020-12-15T22:12:51.967141",
     "status": "completed"
    },
    "tags": []
   },
   "source": [
    "## Figure 3: Rolling 14-day average of daily new cases."
   ]
  },
  {
   "cell_type": "markdown",
   "metadata": {
    "papermill": {
     "duration": 0.009175,
     "end_time": "2020-12-15T22:12:51.995082",
     "exception": false,
     "start_time": "2020-12-15T22:12:51.985907",
     "status": "completed"
    },
    "tags": []
   },
   "source": [
    "Data source: [Wisconsin Department of Health Services](https://data.dhsgis.wi.gov/datasets/covid-19-historical-data-table/)"
   ]
  },
  {
   "cell_type": "code",
   "execution_count": 9,
   "metadata": {
    "execution": {
     "iopub.execute_input": "2020-12-15T22:12:52.017793Z",
     "iopub.status.busy": "2020-12-15T22:12:52.017306Z",
     "iopub.status.idle": "2020-12-15T22:12:52.020127Z",
     "shell.execute_reply": "2020-12-15T22:12:52.019724Z"
    },
    "jupyter": {
     "source_hidden": true
    },
    "papermill": {
     "duration": 0.015868,
     "end_time": "2020-12-15T22:12:52.020234",
     "exception": false,
     "start_time": "2020-12-15T22:12:52.004366",
     "status": "completed"
    },
    "tags": []
   },
   "outputs": [
    {
     "data": {
      "text/html": [
       "<style>\n",
       "div.input {\n",
       "    display:none;\n",
       "}\n",
       "</style>\n"
      ],
      "text/plain": [
       "<IPython.core.display.HTML object>"
      ]
     },
     "metadata": {},
     "output_type": "display_data"
    }
   ],
   "source": [
    "%%html\n",
    "<style>\n",
    "div.input {\n",
    "    display:none;\n",
    "}\n",
    "</style>"
   ]
  }
 ],
 "metadata": {
  "kernelspec": {
   "display_name": "Python 3",
   "language": "python",
   "name": "python3"
  },
  "language_info": {
   "codemirror_mode": {
    "name": "ipython",
    "version": 3
   },
   "file_extension": ".py",
   "mimetype": "text/x-python",
   "name": "python",
   "nbconvert_exporter": "python",
   "pygments_lexer": "ipython3",
   "version": "3.8.6"
  },
  "papermill": {
   "duration": 8.475413,
   "end_time": "2020-12-15T22:12:52.335928",
   "environment_variables": {},
   "exception": null,
   "input_path": "DunnCounty_COVID19.ipynb",
   "output_path": "DunnCounty_COVID19.ipynb",
   "parameters": {
    "Start": "True",
    "secretsPath": "/home/runner/work/_temp/secrets.json"
   },
   "start_time": "2020-12-15T22:12:43.860515",
   "version": "1.1.16"
  }
 },
 "nbformat": 4,
 "nbformat_minor": 2
}