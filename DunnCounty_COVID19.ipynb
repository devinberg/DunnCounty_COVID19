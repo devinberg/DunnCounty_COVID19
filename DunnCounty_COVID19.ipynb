{
 "cells": [
  {
   "cell_type": "code",
   "execution_count": 1,
   "metadata": {
    "execution": {
     "iopub.execute_input": "2020-09-12T22:12:25.960681Z",
     "iopub.status.busy": "2020-09-12T22:12:25.960093Z",
     "iopub.status.idle": "2020-09-12T22:12:29.489365Z",
     "shell.execute_reply": "2020-09-12T22:12:29.490001Z"
    },
    "jupyter": {
     "source_hidden": true
    },
    "papermill": {
     "duration": 3.546293,
     "end_time": "2020-09-12T22:12:29.490348",
     "exception": false,
     "start_time": "2020-09-12T22:12:25.944055",
     "status": "completed"
    },
    "scrolled": true,
    "tags": [
     "hide-input"
    ]
   },
   "outputs": [],
   "source": [
    "import pandas as pd\n",
    "import matplotlib.pyplot as plt\n",
    "from matplotlib import dates\n",
    "from IPython.display import display, Markdown\n",
    "%matplotlib inline"
   ]
  },
  {
   "cell_type": "code",
   "execution_count": 2,
   "metadata": {
    "execution": {
     "iopub.execute_input": "2020-09-12T22:12:29.515012Z",
     "iopub.status.busy": "2020-09-12T22:12:29.514435Z",
     "iopub.status.idle": "2020-09-12T22:12:32.438443Z",
     "shell.execute_reply": "2020-09-12T22:12:32.439203Z"
    },
    "jupyter": {
     "source_hidden": true
    },
    "papermill": {
     "duration": 2.93927,
     "end_time": "2020-09-12T22:12:32.439369",
     "exception": false,
     "start_time": "2020-09-12T22:12:29.500099",
     "status": "completed"
    },
    "scrolled": true,
    "tags": [
     "hide-input"
    ]
   },
   "outputs": [],
   "source": [
    "# This is the data for all of Wisconsin.\n",
    "url = \"https://opendata.arcgis.com/datasets/b913e9591eae4912b33dc5b4e88646c5_10.csv\"\n",
    "data = pd.read_csv(url, parse_dates=['DATE'], low_memory=False)"
   ]
  },
  {
   "cell_type": "code",
   "execution_count": 3,
   "metadata": {
    "execution": {
     "iopub.execute_input": "2020-09-12T22:12:32.470908Z",
     "iopub.status.busy": "2020-09-12T22:12:32.470327Z",
     "iopub.status.idle": "2020-09-12T22:12:32.480500Z",
     "shell.execute_reply": "2020-09-12T22:12:32.479974Z"
    },
    "jupyter": {
     "source_hidden": true
    },
    "papermill": {
     "duration": 0.032763,
     "end_time": "2020-09-12T22:12:32.480625",
     "exception": false,
     "start_time": "2020-09-12T22:12:32.447862",
     "status": "completed"
    },
    "scrolled": true,
    "tags": [
     "hide-input"
    ]
   },
   "outputs": [],
   "source": [
    "dc = data.groupby('NAME').get_group('Dunn').sort_values(by='DATE') # Select the data for Dunn County from the full data.\n",
    "PNi = dc.columns.get_loc(\"POS_NEW\")\n",
    "dc['7_DAY'] = dc.iloc[:,PNi].rolling(window=7).mean() # Calculates the rolling 7-day average of new cases.\n",
    "dc['14_DAY'] = dc.iloc[:,PNi].rolling(window=14).mean() # Calculates the rolling 14-day average of new cases."
   ]
  },
  {
   "cell_type": "code",
   "execution_count": 4,
   "metadata": {
    "execution": {
     "iopub.execute_input": "2020-09-12T22:12:32.503626Z",
     "iopub.status.busy": "2020-09-12T22:12:32.503037Z",
     "iopub.status.idle": "2020-09-12T22:12:32.506802Z",
     "shell.execute_reply": "2020-09-12T22:12:32.507269Z"
    },
    "jupyter": {
     "source_hidden": true
    },
    "papermill": {
     "duration": 0.019395,
     "end_time": "2020-09-12T22:12:32.507423",
     "exception": false,
     "start_time": "2020-09-12T22:12:32.488028",
     "status": "completed"
    },
    "scrolled": true,
    "tags": [
     "hide-input"
    ]
   },
   "outputs": [
    {
     "data": {
      "text/markdown": [
       "### Last updated: September 12, 2020"
      ],
      "text/plain": [
       "<IPython.core.display.Markdown object>"
      ]
     },
     "metadata": {},
     "output_type": "display_data"
    }
   ],
   "source": [
    "display(Markdown('### Last updated: ' + dc.iloc[-1]['DATE'].strftime(\"%B %d, %Y\")))"
   ]
  },
  {
   "cell_type": "code",
   "execution_count": 5,
   "metadata": {
    "execution": {
     "iopub.execute_input": "2020-09-12T22:12:32.533903Z",
     "iopub.status.busy": "2020-09-12T22:12:32.533251Z",
     "iopub.status.idle": "2020-09-12T22:12:32.537521Z",
     "shell.execute_reply": "2020-09-12T22:12:32.538027Z"
    },
    "jupyter": {
     "source_hidden": true
    },
    "papermill": {
     "duration": 0.021288,
     "end_time": "2020-09-12T22:12:32.538182",
     "exception": false,
     "start_time": "2020-09-12T22:12:32.516894",
     "status": "completed"
    },
    "tags": [
     "hide-input"
    ]
   },
   "outputs": [
    {
     "data": {
      "text/markdown": [
       "# Dunn County has 237 total positive cases."
      ],
      "text/plain": [
       "<IPython.core.display.Markdown object>"
      ]
     },
     "metadata": {},
     "output_type": "display_data"
    }
   ],
   "source": [
    "display(Markdown('# Dunn County has ' + str(dc.iloc[-1]['POSITIVE']) + ' total positive cases.'))"
   ]
  },
  {
   "cell_type": "code",
   "execution_count": 6,
   "metadata": {
    "execution": {
     "iopub.execute_input": "2020-09-12T22:12:32.558614Z",
     "iopub.status.busy": "2020-09-12T22:12:32.558061Z",
     "iopub.status.idle": "2020-09-12T22:12:32.751818Z",
     "shell.execute_reply": "2020-09-12T22:12:32.751340Z"
    },
    "jupyter": {
     "source_hidden": true
    },
    "papermill": {
     "duration": 0.205514,
     "end_time": "2020-09-12T22:12:32.751942",
     "exception": false,
     "start_time": "2020-09-12T22:12:32.546428",
     "status": "completed"
    },
    "scrolled": false,
    "tags": [
     "hide-input"
    ]
   },
   "outputs": [
    {
     "data": {
      "image/png": "[encoded data removed]",
      "text/plain": [
       "<Figure size 864x432 with 1 Axes>"
      ]
     },
     "metadata": {
      "needs_background": "light"
     },
     "output_type": "display_data"
    }
   ],
   "source": [
    "dc.plot(x='DATE',y='POSITIVE',color='red',grid='True',figsize=(12,6)).set_xlabel('Date');"
   ]
  },
  {
   "cell_type": "markdown",
   "metadata": {
    "papermill": {
     "duration": 0.008471,
     "end_time": "2020-09-12T22:12:32.770147",
     "exception": false,
     "start_time": "2020-09-12T22:12:32.761676",
     "status": "completed"
    },
    "tags": []
   },
   "source": [
    "## Figure 1: Cummulative number of positive cases."
   ]
  },
  {
   "cell_type": "code",
   "execution_count": 7,
   "metadata": {
    "execution": {
     "iopub.execute_input": "2020-09-12T22:12:32.793295Z",
     "iopub.status.busy": "2020-09-12T22:12:32.792724Z",
     "iopub.status.idle": "2020-09-12T22:12:32.795915Z",
     "shell.execute_reply": "2020-09-12T22:12:32.795449Z"
    },
    "jupyter": {
     "source_hidden": true
    },
    "papermill": {
     "duration": 0.016953,
     "end_time": "2020-09-12T22:12:32.796028",
     "exception": false,
     "start_time": "2020-09-12T22:12:32.779075",
     "status": "completed"
    },
    "tags": [
     "hide-input"
    ]
   },
   "outputs": [
    {
     "data": {
      "text/markdown": [
       "# Dunn County reported 13.0 new cases today."
      ],
      "text/plain": [
       "<IPython.core.display.Markdown object>"
      ]
     },
     "metadata": {},
     "output_type": "display_data"
    }
   ],
   "source": [
    "display(Markdown('# Dunn County reported ' + str(dc.iloc[-1]['POS_NEW']) + ' new cases today.'))"
   ]
  },
  {
   "cell_type": "code",
   "execution_count": 8,
   "metadata": {
    "execution": {
     "iopub.execute_input": "2020-09-12T22:12:32.819565Z",
     "iopub.status.busy": "2020-09-12T22:12:32.818952Z",
     "iopub.status.idle": "2020-09-12T22:12:33.017148Z",
     "shell.execute_reply": "2020-09-12T22:12:33.017602Z"
    },
    "jupyter": {
     "source_hidden": true
    },
    "papermill": {
     "duration": 0.21224,
     "end_time": "2020-09-12T22:12:33.017760",
     "exception": false,
     "start_time": "2020-09-12T22:12:32.805520",
     "status": "completed"
    },
    "scrolled": false,
    "tags": [
     "hide-input"
    ]
   },
   "outputs": [
    {
     "data": {
      "image/png": "[encoded data removed]",
      "text/plain": [
       "<Figure size 864x432 with 1 Axes>"
      ]
     },
     "metadata": {
      "needs_background": "light"
     },
     "output_type": "display_data"
    }
   ],
   "source": [
    "dc.plot(kind='line',x='DATE',y='7_DAY',color='blue',grid='True',figsize=(12,6)).set_xlabel('Date');"
   ]
  },
  {
   "cell_type": "markdown",
   "metadata": {
    "papermill": {
     "duration": 0.010968,
     "end_time": "2020-09-12T22:12:33.039039",
     "exception": false,
     "start_time": "2020-09-12T22:12:33.028071",
     "status": "completed"
    },
    "tags": []
   },
   "source": [
    "## Figure 2: Rolling 7-day average of daily new cases."
   ]
  },
  {
   "cell_type": "code",
   "execution_count": 9,
   "metadata": {
    "execution": {
     "iopub.execute_input": "2020-09-12T22:12:33.078714Z",
     "iopub.status.busy": "2020-09-12T22:12:33.064113Z",
     "iopub.status.idle": "2020-09-12T22:12:33.251716Z",
     "shell.execute_reply": "2020-09-12T22:12:33.252155Z"
    },
    "jupyter": {
     "source_hidden": true
    },
    "papermill": {
     "duration": 0.203538,
     "end_time": "2020-09-12T22:12:33.252327",
     "exception": false,
     "start_time": "2020-09-12T22:12:33.048789",
     "status": "completed"
    },
    "tags": []
   },
   "outputs": [
    {
     "data": {
      "image/png": "[encoded data removed]",
      "text/plain": [
       "<Figure size 864x432 with 1 Axes>"
      ]
     },
     "metadata": {
      "needs_background": "light"
     },
     "output_type": "display_data"
    }
   ],
   "source": [
    "dc.plot(kind='line',x='DATE',y='14_DAY',color='green',grid='True',figsize=(12,6)).set_xlabel('Date');"
   ]
  },
  {
   "cell_type": "markdown",
   "metadata": {
    "papermill": {
     "duration": 0.0138,
     "end_time": "2020-09-12T22:12:33.278640",
     "exception": false,
     "start_time": "2020-09-12T22:12:33.264840",
     "status": "completed"
    },
    "tags": []
   },
   "source": [
    "## Figure 3: Rolling 14-day average of daily new cases."
   ]
  },
  {
   "cell_type": "markdown",
   "metadata": {
    "papermill": {
     "duration": 0.011232,
     "end_time": "2020-09-12T22:12:33.301408",
     "exception": false,
     "start_time": "2020-09-12T22:12:33.290176",
     "status": "completed"
    },
    "tags": []
   },
   "source": [
    "Data source: [Wisconsin Department of Health Services](https://data.dhsgis.wi.gov/datasets/covid-19-historical-data-table/)"
   ]
  },
  {
   "cell_type": "code",
   "execution_count": 10,
   "metadata": {
    "execution": {
     "iopub.execute_input": "2020-09-12T22:12:33.330610Z",
     "iopub.status.busy": "2020-09-12T22:12:33.329916Z",
     "iopub.status.idle": "2020-09-12T22:12:33.333576Z",
     "shell.execute_reply": "2020-09-12T22:12:33.333089Z"
    },
    "jupyter": {
     "source_hidden": true
    },
    "papermill": {
     "duration": 0.020961,
     "end_time": "2020-09-12T22:12:33.333695",
     "exception": false,
     "start_time": "2020-09-12T22:12:33.312734",
     "status": "completed"
    },
    "tags": []
   },
   "outputs": [
    {
     "data": {
      "text/html": [
       "<style>\n",
       "div.input {\n",
       "    display:none;\n",
       "}\n",
       "</style>\n"
      ],
      "text/plain": [
       "<IPython.core.display.HTML object>"
      ]
     },
     "metadata": {},
     "output_type": "display_data"
    }
   ],
   "source": [
    "%%html\n",
    "<style>\n",
    "div.input {\n",
    "    display:none;\n",
    "}\n",
    "</style>"
   ]
  }
 ],
 "metadata": {
  "kernelspec": {
   "display_name": "Python 3",
   "language": "python",
   "name": "python3"
  },
  "language_info": {
   "codemirror_mode": {
    "name": "ipython",
    "version": 3
   },
   "file_extension": ".py",
   "mimetype": "text/x-python",
   "name": "python",
   "nbconvert_exporter": "python",
   "pygments_lexer": "ipython3",
   "version": "3.8.5"
  },
  "papermill": {
   "duration": 9.547808,
   "end_time": "2020-09-12T22:12:33.655107",
   "environment_variables": {},
   "exception": null,
   "input_path": "DunnCounty_COVID19.ipynb",
   "output_path": "DunnCounty_COVID19.ipynb",
   "parameters": {
    "Start": "True",
    "secretsPath": "/home/runner/work/_temp/secrets.json"
   },
   "start_time": "2020-09-12T22:12:24.107299",
   "version": "1.1.16"
  }
 },
 "nbformat": 4,
 "nbformat_minor": 2
}