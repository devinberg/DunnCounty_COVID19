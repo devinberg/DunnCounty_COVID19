{
 "cells": [
  {
   "cell_type": "code",
   "execution_count": 1,
   "id": "solar-understanding",
   "metadata": {
    "execution": {
     "iopub.execute_input": "2021-05-14T22:16:32.490244Z",
     "iopub.status.busy": "2021-05-14T22:16:32.489756Z",
     "iopub.status.idle": "2021-05-14T22:16:34.586108Z",
     "shell.execute_reply": "2021-05-14T22:16:34.585051Z"
    },
    "jupyter": {
     "source_hidden": true
    },
    "papermill": {
     "duration": 2.115842,
     "end_time": "2021-05-14T22:16:34.586273",
     "exception": false,
     "start_time": "2021-05-14T22:16:32.470431",
     "status": "completed"
    },
    "scrolled": true,
    "tags": [
     "hide-input"
    ]
   },
   "outputs": [],
   "source": [
    "import pandas as pd\n",
    "import matplotlib.pyplot as plt\n",
    "from matplotlib import dates\n",
    "from IPython.display import display, Markdown\n",
    "%matplotlib inline"
   ]
  },
  {
   "cell_type": "code",
   "execution_count": 2,
   "id": "purple-playlist",
   "metadata": {
    "execution": {
     "iopub.execute_input": "2021-05-14T22:16:34.607762Z",
     "iopub.status.busy": "2021-05-14T22:16:34.607237Z",
     "iopub.status.idle": "2021-05-14T22:16:35.347651Z",
     "shell.execute_reply": "2021-05-14T22:16:35.347134Z"
    },
    "jupyter": {
     "source_hidden": true
    },
    "papermill": {
     "duration": 0.753358,
     "end_time": "2021-05-14T22:16:35.347798",
     "exception": false,
     "start_time": "2021-05-14T22:16:34.594440",
     "status": "completed"
    },
    "scrolled": true,
    "tags": [
     "hide-input"
    ]
   },
   "outputs": [],
   "source": [
    "# This is the data for all of Wisconsin.\n",
    "url = \"https://opendata.arcgis.com/datasets/80ff9d4897db4d7692f0f4ad28447cab_12.csv\"\n",
    "data = pd.read_csv(url, parse_dates=['DATE'], low_memory=False)"
   ]
  },
  {
   "cell_type": "code",
   "execution_count": 3,
   "id": "proprietary-klein",
   "metadata": {
    "execution": {
     "iopub.execute_input": "2021-05-14T22:16:35.370489Z",
     "iopub.status.busy": "2021-05-14T22:16:35.370044Z",
     "iopub.status.idle": "2021-05-14T22:16:35.378466Z",
     "shell.execute_reply": "2021-05-14T22:16:35.377999Z"
    },
    "jupyter": {
     "source_hidden": true
    },
    "papermill": {
     "duration": 0.022063,
     "end_time": "2021-05-14T22:16:35.378571",
     "exception": false,
     "start_time": "2021-05-14T22:16:35.356508",
     "status": "completed"
    },
    "scrolled": true,
    "tags": [
     "hide-input"
    ]
   },
   "outputs": [],
   "source": [
    "dc = data.groupby('NAME').get_group('Dunn').sort_values(by='DATE') # Select the data for Dunn County from the full data.\n",
    "PNi = dc.columns.get_loc(\"POS_NEW\")\n",
    "dc['7_DAY'] = dc.iloc[:,PNi].rolling(window=7).mean() # Calculates the rolling 7-day average of new cases.\n",
    "dc['14_DAY'] = dc.iloc[:,PNi].rolling(window=14).mean() # Calculates the rolling 14-day average of new cases."
   ]
  },
  {
   "cell_type": "code",
   "execution_count": 4,
   "id": "steady-supervision",
   "metadata": {
    "execution": {
     "iopub.execute_input": "2021-05-14T22:16:35.399755Z",
     "iopub.status.busy": "2021-05-14T22:16:35.399222Z",
     "iopub.status.idle": "2021-05-14T22:16:35.401968Z",
     "shell.execute_reply": "2021-05-14T22:16:35.401446Z"
    },
    "jupyter": {
     "source_hidden": true
    },
    "papermill": {
     "duration": 0.016092,
     "end_time": "2021-05-14T22:16:35.402077",
     "exception": false,
     "start_time": "2021-05-14T22:16:35.385985",
     "status": "completed"
    },
    "scrolled": true,
    "tags": [
     "hide-input"
    ]
   },
   "outputs": [
    {
     "data": {
      "text/markdown": [
       "### Last updated: May 13, 2021"
      ],
      "text/plain": [
       "<IPython.core.display.Markdown object>"
      ]
     },
     "metadata": {},
     "output_type": "display_data"
    }
   ],
   "source": [
    "display(Markdown('### Last updated: ' + dc.iloc[-1]['DATE'].strftime(\"%B %d, %Y\")))"
   ]
  },
  {
   "cell_type": "code",
   "execution_count": 5,
   "id": "lonely-pitch",
   "metadata": {
    "execution": {
     "iopub.execute_input": "2021-05-14T22:16:35.421927Z",
     "iopub.status.busy": "2021-05-14T22:16:35.421483Z",
     "iopub.status.idle": "2021-05-14T22:16:35.423762Z",
     "shell.execute_reply": "2021-05-14T22:16:35.424164Z"
    },
    "jupyter": {
     "source_hidden": true
    },
    "papermill": {
     "duration": 0.014352,
     "end_time": "2021-05-14T22:16:35.424275",
     "exception": false,
     "start_time": "2021-05-14T22:16:35.409923",
     "status": "completed"
    },
    "tags": [
     "hide-input"
    ]
   },
   "outputs": [
    {
     "data": {
      "text/markdown": [
       "# Dunn County has 4660 total positive cases, with 2 new cases reported today."
      ],
      "text/plain": [
       "<IPython.core.display.Markdown object>"
      ]
     },
     "metadata": {},
     "output_type": "display_data"
    }
   ],
   "source": [
    "display(Markdown('# Dunn County has ' + str(dc.iloc[-1]['POSITIVE']) + ' total positive cases, with '+ str(int(dc.iloc[-1]['POS_NEW'])) + ' new cases reported today.'))"
   ]
  },
  {
   "cell_type": "code",
   "execution_count": 6,
   "id": "compound-nightmare",
   "metadata": {
    "execution": {
     "iopub.execute_input": "2021-05-14T22:16:35.444019Z",
     "iopub.status.busy": "2021-05-14T22:16:35.443544Z",
     "iopub.status.idle": "2021-05-14T22:16:35.714405Z",
     "shell.execute_reply": "2021-05-14T22:16:35.714770Z"
    },
    "jupyter": {
     "source_hidden": true
    },
    "papermill": {
     "duration": 0.282551,
     "end_time": "2021-05-14T22:16:35.714948",
     "exception": false,
     "start_time": "2021-05-14T22:16:35.432397",
     "status": "completed"
    },
    "scrolled": false,
    "tags": [
     "hide-input"
    ]
   },
   "outputs": [
    {
     "data": {
      "image/png": "[encoded data removed]",
      "text/plain": [
       "<Figure size 864x432 with 1 Axes>"
      ]
     },
     "metadata": {
      "needs_background": "light"
     },
     "output_type": "display_data"
    }
   ],
   "source": [
    "dc.plot(x='DATE',y='POSITIVE',color='red',grid='True',figsize=(12,6)).set_xlabel('Date');"
   ]
  },
  {
   "cell_type": "markdown",
   "id": "coupled-literacy",
   "metadata": {
    "papermill": {
     "duration": 0.009018,
     "end_time": "2021-05-14T22:16:35.733295",
     "exception": false,
     "start_time": "2021-05-14T22:16:35.724277",
     "status": "completed"
    },
    "tags": []
   },
   "source": [
    "## Figure 1: Cummulative number of positive cases."
   ]
  },
  {
   "cell_type": "code",
   "execution_count": 7,
   "id": "surrounded-reserve",
   "metadata": {
    "execution": {
     "iopub.execute_input": "2021-05-14T22:16:35.755281Z",
     "iopub.status.busy": "2021-05-14T22:16:35.754827Z",
     "iopub.status.idle": "2021-05-14T22:16:35.949724Z",
     "shell.execute_reply": "2021-05-14T22:16:35.949224Z"
    },
    "jupyter": {
     "source_hidden": true
    },
    "papermill": {
     "duration": 0.207811,
     "end_time": "2021-05-14T22:16:35.949872",
     "exception": false,
     "start_time": "2021-05-14T22:16:35.742061",
     "status": "completed"
    },
    "scrolled": false,
    "tags": [
     "hide-input"
    ]
   },
   "outputs": [
    {
     "data": {
      "image/png": "[encoded data removed]",
      "text/plain": [
       "<Figure size 864x432 with 1 Axes>"
      ]
     },
     "metadata": {
      "needs_background": "light"
     },
     "output_type": "display_data"
    }
   ],
   "source": [
    "dc.plot(kind='line',x='DATE',y='7_DAY',color='blue',grid='True',figsize=(12,6)).set_xlabel('Date');"
   ]
  },
  {
   "cell_type": "markdown",
   "id": "professional-savannah",
   "metadata": {
    "papermill": {
     "duration": 0.010179,
     "end_time": "2021-05-14T22:16:35.970522",
     "exception": false,
     "start_time": "2021-05-14T22:16:35.960343",
     "status": "completed"
    },
    "tags": []
   },
   "source": [
    "## Figure 2: Rolling 7-day average of daily new cases."
   ]
  },
  {
   "cell_type": "code",
   "execution_count": 8,
   "id": "stretch-investor",
   "metadata": {
    "execution": {
     "iopub.execute_input": "2021-05-14T22:16:35.994143Z",
     "iopub.status.busy": "2021-05-14T22:16:35.993693Z",
     "iopub.status.idle": "2021-05-14T22:16:36.194282Z",
     "shell.execute_reply": "2021-05-14T22:16:36.194653Z"
    },
    "jupyter": {
     "source_hidden": true
    },
    "papermill": {
     "duration": 0.214498,
     "end_time": "2021-05-14T22:16:36.194829",
     "exception": false,
     "start_time": "2021-05-14T22:16:35.980331",
     "status": "completed"
    },
    "tags": []
   },
   "outputs": [
    {
     "data": {
      "image/png": "[encoded data removed]",
      "text/plain": [
       "<Figure size 864x432 with 1 Axes>"
      ]
     },
     "metadata": {
      "needs_background": "light"
     },
     "output_type": "display_data"
    }
   ],
   "source": [
    "dc.plot(kind='line',x='DATE',y='14_DAY',color='green',grid='True',figsize=(12,6)).set_xlabel('Date');"
   ]
  },
  {
   "cell_type": "markdown",
   "id": "prerequisite-species",
   "metadata": {
    "papermill": {
     "duration": 0.011237,
     "end_time": "2021-05-14T22:16:36.217628",
     "exception": false,
     "start_time": "2021-05-14T22:16:36.206391",
     "status": "completed"
    },
    "tags": []
   },
   "source": [
    "## Figure 3: Rolling 14-day average of daily new cases."
   ]
  },
  {
   "cell_type": "markdown",
   "id": "palestinian-guard",
   "metadata": {
    "papermill": {
     "duration": 0.010621,
     "end_time": "2021-05-14T22:16:36.238912",
     "exception": false,
     "start_time": "2021-05-14T22:16:36.228291",
     "status": "completed"
    },
    "tags": []
   },
   "source": [
    "Data source: [Wisconsin Department of Health Services](https://data.dhsgis.wi.gov/datasets/covid-19-historical-data-by-county)"
   ]
  },
  {
   "cell_type": "code",
   "execution_count": 9,
   "id": "proof-medicare",
   "metadata": {
    "execution": {
     "iopub.execute_input": "2021-05-14T22:16:36.264857Z",
     "iopub.status.busy": "2021-05-14T22:16:36.264291Z",
     "iopub.status.idle": "2021-05-14T22:16:36.267919Z",
     "shell.execute_reply": "2021-05-14T22:16:36.267505Z"
    },
    "jupyter": {
     "source_hidden": true
    },
    "papermill": {
     "duration": 0.018438,
     "end_time": "2021-05-14T22:16:36.268024",
     "exception": false,
     "start_time": "2021-05-14T22:16:36.249586",
     "status": "completed"
    },
    "tags": []
   },
   "outputs": [
    {
     "data": {
      "text/html": [
       "<style>\n",
       "div.input {\n",
       "    display:none;\n",
       "}\n",
       "</style>\n"
      ],
      "text/plain": [
       "<IPython.core.display.HTML object>"
      ]
     },
     "metadata": {},
     "output_type": "display_data"
    }
   ],
   "source": [
    "%%html\n",
    "<style>\n",
    "div.input {\n",
    "    display:none;\n",
    "}\n",
    "</style>"
   ]
  }
 ],
 "metadata": {
  "kernelspec": {
   "display_name": "Python 3",
   "language": "python",
   "name": "python3"
  },
  "language_info": {
   "codemirror_mode": {
    "name": "ipython",
    "version": 3
   },
   "file_extension": ".py",
   "mimetype": "text/x-python",
   "name": "python",
   "nbconvert_exporter": "python",
   "pygments_lexer": "ipython3",
   "version": "3.8.10"
  },
  "papermill": {
   "duration": 6.617713,
   "end_time": "2021-05-14T22:16:37.671211",
   "environment_variables": {},
   "exception": null,
   "input_path": "DunnCounty_COVID19.ipynb",
   "output_path": "DunnCounty_COVID19.ipynb",
   "parameters": {
    "Start": "True",
    "secretsPath": "/home/runner/work/_temp/secrets.json"
   },
   "start_time": "2021-05-14T22:16:31.053498",
   "version": "1.1.16"
  }
 },
 "nbformat": 4,
 "nbformat_minor": 5
}