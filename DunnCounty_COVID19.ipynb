{
 "cells": [
  {
   "cell_type": "code",
   "execution_count": 1,
   "id": "solar-understanding",
   "metadata": {
    "execution": {
     "iopub.execute_input": "2021-03-22T22:13:23.188718Z",
     "iopub.status.busy": "2021-03-22T22:13:23.188134Z",
     "iopub.status.idle": "2021-03-22T22:13:24.151163Z",
     "shell.execute_reply": "2021-03-22T22:13:24.151620Z"
    },
    "jupyter": {
     "source_hidden": true
    },
    "papermill": {
     "duration": 0.983705,
     "end_time": "2021-03-22T22:13:24.151957",
     "exception": false,
     "start_time": "2021-03-22T22:13:23.168252",
     "status": "completed"
    },
    "scrolled": true,
    "tags": [
     "hide-input"
    ]
   },
   "outputs": [],
   "source": [
    "import pandas as pd\n",
    "import matplotlib.pyplot as plt\n",
    "from matplotlib import dates\n",
    "from IPython.display import display, Markdown\n",
    "%matplotlib inline"
   ]
  },
  {
   "cell_type": "code",
   "execution_count": 2,
   "id": "purple-playlist",
   "metadata": {
    "execution": {
     "iopub.execute_input": "2021-03-22T22:13:24.177811Z",
     "iopub.status.busy": "2021-03-22T22:13:24.177272Z",
     "iopub.status.idle": "2021-03-22T22:13:25.431213Z",
     "shell.execute_reply": "2021-03-22T22:13:25.431702Z"
    },
    "jupyter": {
     "source_hidden": true
    },
    "papermill": {
     "duration": 1.269692,
     "end_time": "2021-03-22T22:13:25.431996",
     "exception": false,
     "start_time": "2021-03-22T22:13:24.162304",
     "status": "completed"
    },
    "scrolled": true,
    "tags": [
     "hide-input"
    ]
   },
   "outputs": [],
   "source": [
    "# This is the data for all of Wisconsin.\n",
    "url = \"https://opendata.arcgis.com/datasets/5374188992374b318d3e2305216ee413_12.csv\"\n",
    "data = pd.read_csv(url, parse_dates=['DATE'], low_memory=False)"
   ]
  },
  {
   "cell_type": "code",
   "execution_count": 3,
   "id": "proprietary-klein",
   "metadata": {
    "execution": {
     "iopub.execute_input": "2021-03-22T22:13:25.459889Z",
     "iopub.status.busy": "2021-03-22T22:13:25.459311Z",
     "iopub.status.idle": "2021-03-22T22:13:25.468535Z",
     "shell.execute_reply": "2021-03-22T22:13:25.470344Z"
    },
    "jupyter": {
     "source_hidden": true
    },
    "papermill": {
     "duration": 0.028633,
     "end_time": "2021-03-22T22:13:25.470511",
     "exception": false,
     "start_time": "2021-03-22T22:13:25.441878",
     "status": "completed"
    },
    "scrolled": true,
    "tags": [
     "hide-input"
    ]
   },
   "outputs": [],
   "source": [
    "dc = data.groupby('NAME').get_group('Dunn').sort_values(by='DATE') # Select the data for Dunn County from the full data.\n",
    "PNi = dc.columns.get_loc(\"POS_NEW\")\n",
    "dc['7_DAY'] = dc.iloc[:,PNi].rolling(window=7).mean() # Calculates the rolling 7-day average of new cases.\n",
    "dc['14_DAY'] = dc.iloc[:,PNi].rolling(window=14).mean() # Calculates the rolling 14-day average of new cases."
   ]
  },
  {
   "cell_type": "code",
   "execution_count": 4,
   "id": "steady-supervision",
   "metadata": {
    "execution": {
     "iopub.execute_input": "2021-03-22T22:13:25.496446Z",
     "iopub.status.busy": "2021-03-22T22:13:25.495862Z",
     "iopub.status.idle": "2021-03-22T22:13:25.499881Z",
     "shell.execute_reply": "2021-03-22T22:13:25.500333Z"
    },
    "jupyter": {
     "source_hidden": true
    },
    "papermill": {
     "duration": 0.02058,
     "end_time": "2021-03-22T22:13:25.500476",
     "exception": false,
     "start_time": "2021-03-22T22:13:25.479896",
     "status": "completed"
    },
    "scrolled": true,
    "tags": [
     "hide-input"
    ]
   },
   "outputs": [
    {
     "data": {
      "text/markdown": [
       "### Last updated: March 22, 2021"
      ],
      "text/plain": [
       "<IPython.core.display.Markdown object>"
      ]
     },
     "metadata": {},
     "output_type": "display_data"
    }
   ],
   "source": [
    "display(Markdown('### Last updated: ' + dc.iloc[-1]['DATE'].strftime(\"%B %d, %Y\")))"
   ]
  },
  {
   "cell_type": "code",
   "execution_count": 5,
   "id": "lonely-pitch",
   "metadata": {
    "execution": {
     "iopub.execute_input": "2021-03-22T22:13:25.526242Z",
     "iopub.status.busy": "2021-03-22T22:13:25.525512Z",
     "iopub.status.idle": "2021-03-22T22:13:25.529118Z",
     "shell.execute_reply": "2021-03-22T22:13:25.529741Z"
    },
    "jupyter": {
     "source_hidden": true
    },
    "papermill": {
     "duration": 0.018798,
     "end_time": "2021-03-22T22:13:25.529885",
     "exception": false,
     "start_time": "2021-03-22T22:13:25.511087",
     "status": "completed"
    },
    "tags": [
     "hide-input"
    ]
   },
   "outputs": [
    {
     "data": {
      "text/markdown": [
       "# Dunn County has 4330 total positive cases, with 2 new cases reported today."
      ],
      "text/plain": [
       "<IPython.core.display.Markdown object>"
      ]
     },
     "metadata": {},
     "output_type": "display_data"
    }
   ],
   "source": [
    "display(Markdown('# Dunn County has ' + str(dc.iloc[-1]['POSITIVE']) + ' total positive cases, with '+ str(int(dc.iloc[-1]['POS_NEW'])) + ' new cases reported today.'))"
   ]
  },
  {
   "cell_type": "code",
   "execution_count": 6,
   "id": "compound-nightmare",
   "metadata": {
    "execution": {
     "iopub.execute_input": "2021-03-22T22:13:25.554249Z",
     "iopub.status.busy": "2021-03-22T22:13:25.553704Z",
     "iopub.status.idle": "2021-03-22T22:13:25.846298Z",
     "shell.execute_reply": "2021-03-22T22:13:25.846732Z"
    },
    "jupyter": {
     "source_hidden": true
    },
    "papermill": {
     "duration": 0.307025,
     "end_time": "2021-03-22T22:13:25.846889",
     "exception": false,
     "start_time": "2021-03-22T22:13:25.539864",
     "status": "completed"
    },
    "scrolled": false,
    "tags": [
     "hide-input"
    ]
   },
   "outputs": [
    {
     "data": {
      "image/png": "[encoded data removed]",
      "text/plain": [
       "<Figure size 864x432 with 1 Axes>"
      ]
     },
     "metadata": {
      "needs_background": "light"
     },
     "output_type": "display_data"
    }
   ],
   "source": [
    "dc.plot(x='DATE',y='POSITIVE',color='red',grid='True',figsize=(12,6)).set_xlabel('Date');"
   ]
  },
  {
   "cell_type": "markdown",
   "id": "coupled-literacy",
   "metadata": {
    "papermill": {
     "duration": 0.011149,
     "end_time": "2021-03-22T22:13:25.868473",
     "exception": false,
     "start_time": "2021-03-22T22:13:25.857324",
     "status": "completed"
    },
    "tags": []
   },
   "source": [
    "## Figure 1: Cummulative number of positive cases."
   ]
  },
  {
   "cell_type": "code",
   "execution_count": 7,
   "id": "surrounded-reserve",
   "metadata": {
    "execution": {
     "iopub.execute_input": "2021-03-22T22:13:25.895697Z",
     "iopub.status.busy": "2021-03-22T22:13:25.895175Z",
     "iopub.status.idle": "2021-03-22T22:13:26.132964Z",
     "shell.execute_reply": "2021-03-22T22:13:26.133479Z"
    },
    "jupyter": {
     "source_hidden": true
    },
    "papermill": {
     "duration": 0.254362,
     "end_time": "2021-03-22T22:13:26.133627",
     "exception": false,
     "start_time": "2021-03-22T22:13:25.879265",
     "status": "completed"
    },
    "scrolled": false,
    "tags": [
     "hide-input"
    ]
   },
   "outputs": [
    {
     "data": {
      "image/png": "[encoded data removed]",
      "text/plain": [
       "<Figure size 864x432 with 1 Axes>"
      ]
     },
     "metadata": {
      "needs_background": "light"
     },
     "output_type": "display_data"
    }
   ],
   "source": [
    "dc.plot(kind='line',x='DATE',y='7_DAY',color='blue',grid='True',figsize=(12,6)).set_xlabel('Date');"
   ]
  },
  {
   "cell_type": "markdown",
   "id": "professional-savannah",
   "metadata": {
    "papermill": {
     "duration": 0.012919,
     "end_time": "2021-03-22T22:13:26.158908",
     "exception": false,
     "start_time": "2021-03-22T22:13:26.145989",
     "status": "completed"
    },
    "tags": []
   },
   "source": [
    "## Figure 2: Rolling 7-day average of daily new cases."
   ]
  },
  {
   "cell_type": "code",
   "execution_count": 8,
   "id": "stretch-investor",
   "metadata": {
    "execution": {
     "iopub.execute_input": "2021-03-22T22:13:26.192015Z",
     "iopub.status.busy": "2021-03-22T22:13:26.191439Z",
     "iopub.status.idle": "2021-03-22T22:13:26.426373Z",
     "shell.execute_reply": "2021-03-22T22:13:26.426850Z"
    },
    "jupyter": {
     "source_hidden": true
    },
    "papermill": {
     "duration": 0.256667,
     "end_time": "2021-03-22T22:13:26.427094",
     "exception": false,
     "start_time": "2021-03-22T22:13:26.170427",
     "status": "completed"
    },
    "tags": []
   },
   "outputs": [
    {
     "data": {
      "image/png": "[encoded data removed]",
      "text/plain": [
       "<Figure size 864x432 with 1 Axes>"
      ]
     },
     "metadata": {
      "needs_background": "light"
     },
     "output_type": "display_data"
    }
   ],
   "source": [
    "dc.plot(kind='line',x='DATE',y='14_DAY',color='green',grid='True',figsize=(12,6)).set_xlabel('Date');"
   ]
  },
  {
   "cell_type": "markdown",
   "id": "prerequisite-species",
   "metadata": {
    "papermill": {
     "duration": 0.014329,
     "end_time": "2021-03-22T22:13:26.456108",
     "exception": false,
     "start_time": "2021-03-22T22:13:26.441779",
     "status": "completed"
    },
    "tags": []
   },
   "source": [
    "## Figure 3: Rolling 14-day average of daily new cases."
   ]
  },
  {
   "cell_type": "markdown",
   "id": "palestinian-guard",
   "metadata": {
    "papermill": {
     "duration": 0.01448,
     "end_time": "2021-03-22T22:13:26.484332",
     "exception": false,
     "start_time": "2021-03-22T22:13:26.469852",
     "status": "completed"
    },
    "tags": []
   },
   "source": [
    "Data source: [Wisconsin Department of Health Services](https://data.dhsgis.wi.gov/datasets/covid-19-historical-data-table/)"
   ]
  },
  {
   "cell_type": "code",
   "execution_count": 9,
   "id": "proof-medicare",
   "metadata": {
    "execution": {
     "iopub.execute_input": "2021-03-22T22:13:26.518187Z",
     "iopub.status.busy": "2021-03-22T22:13:26.517495Z",
     "iopub.status.idle": "2021-03-22T22:13:26.522341Z",
     "shell.execute_reply": "2021-03-22T22:13:26.521742Z"
    },
    "jupyter": {
     "source_hidden": true
    },
    "papermill": {
     "duration": 0.023511,
     "end_time": "2021-03-22T22:13:26.522470",
     "exception": false,
     "start_time": "2021-03-22T22:13:26.498959",
     "status": "completed"
    },
    "tags": []
   },
   "outputs": [
    {
     "data": {
      "text/html": [
       "<style>\n",
       "div.input {\n",
       "    display:none;\n",
       "}\n",
       "</style>\n"
      ],
      "text/plain": [
       "<IPython.core.display.HTML object>"
      ]
     },
     "metadata": {},
     "output_type": "display_data"
    }
   ],
   "source": [
    "%%html\n",
    "<style>\n",
    "div.input {\n",
    "    display:none;\n",
    "}\n",
    "</style>"
   ]
  }
 ],
 "metadata": {
  "kernelspec": {
   "display_name": "Python 3",
   "language": "python",
   "name": "python3"
  },
  "language_info": {
   "codemirror_mode": {
    "name": "ipython",
    "version": 3
   },
   "file_extension": ".py",
   "mimetype": "text/x-python",
   "name": "python",
   "nbconvert_exporter": "python",
   "pygments_lexer": "ipython3",
   "version": "3.8.8"
  },
  "papermill": {
   "duration": 5.182627,
   "end_time": "2021-03-22T22:13:26.843745",
   "environment_variables": {},
   "exception": null,
   "input_path": "DunnCounty_COVID19.ipynb",
   "output_path": "DunnCounty_COVID19.ipynb",
   "parameters": {
    "Start": "True",
    "secretsPath": "/home/runner/work/_temp/secrets.json"
   },
   "start_time": "2021-03-22T22:13:21.661118",
   "version": "1.1.16"
  }
 },
 "nbformat": 4,
 "nbformat_minor": 5
}