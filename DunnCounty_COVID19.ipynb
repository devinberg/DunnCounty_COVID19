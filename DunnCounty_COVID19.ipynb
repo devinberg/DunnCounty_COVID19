{
 "cells": [
  {
   "cell_type": "code",
   "execution_count": 1,
   "id": "solar-understanding",
   "metadata": {
    "execution": {
     "iopub.execute_input": "2021-06-25T10:12:46.619254Z",
     "iopub.status.busy": "2021-06-25T10:12:46.618769Z",
     "iopub.status.idle": "2021-06-25T10:12:47.940071Z",
     "shell.execute_reply": "2021-06-25T10:12:47.939492Z"
    },
    "jupyter": {
     "source_hidden": true
    },
    "papermill": {
     "duration": 1.339003,
     "end_time": "2021-06-25T10:12:47.940217",
     "exception": false,
     "start_time": "2021-06-25T10:12:46.601214",
     "status": "completed"
    },
    "scrolled": true,
    "tags": [
     "hide-input"
    ]
   },
   "outputs": [],
   "source": [
    "import pandas as pd\n",
    "import matplotlib.pyplot as plt\n",
    "from matplotlib import dates\n",
    "from IPython.display import display, Markdown\n",
    "%matplotlib inline"
   ]
  },
  {
   "cell_type": "code",
   "execution_count": 2,
   "id": "purple-playlist",
   "metadata": {
    "execution": {
     "iopub.execute_input": "2021-06-25T10:12:47.961902Z",
     "iopub.status.busy": "2021-06-25T10:12:47.961438Z",
     "iopub.status.idle": "2021-06-25T10:12:49.022173Z",
     "shell.execute_reply": "2021-06-25T10:12:49.021298Z"
    },
    "jupyter": {
     "source_hidden": true
    },
    "papermill": {
     "duration": 1.073501,
     "end_time": "2021-06-25T10:12:49.022298",
     "exception": false,
     "start_time": "2021-06-25T10:12:47.948797",
     "status": "completed"
    },
    "scrolled": true,
    "tags": [
     "hide-input"
    ]
   },
   "outputs": [],
   "source": [
    "# This is the data for all of Wisconsin.\n",
    "url = \"https://opendata.arcgis.com/api/v3/datasets/3161f6e01d8141c6abe85a29ff7f3d3c_12/downloads/data?format=csv&spatialRefId=3857\"\n",
    "data = pd.read_csv(url, parse_dates=['DATE'], low_memory=False)"
   ]
  },
  {
   "cell_type": "code",
   "execution_count": 3,
   "id": "proprietary-klein",
   "metadata": {
    "execution": {
     "iopub.execute_input": "2021-06-25T10:12:49.043402Z",
     "iopub.status.busy": "2021-06-25T10:12:49.042913Z",
     "iopub.status.idle": "2021-06-25T10:12:49.050837Z",
     "shell.execute_reply": "2021-06-25T10:12:49.050358Z"
    },
    "jupyter": {
     "source_hidden": true
    },
    "papermill": {
     "duration": 0.020808,
     "end_time": "2021-06-25T10:12:49.050940",
     "exception": false,
     "start_time": "2021-06-25T10:12:49.030132",
     "status": "completed"
    },
    "scrolled": true,
    "tags": [
     "hide-input"
    ]
   },
   "outputs": [],
   "source": [
    "dc = data.groupby('NAME').get_group('Dunn').sort_values(by='DATE') # Select the data for Dunn County from the full data.\n",
    "PNi = dc.columns.get_loc(\"POS_NEW\")\n",
    "dc['7_DAY'] = dc.iloc[:,PNi].rolling(window=7).mean() # Calculates the rolling 7-day average of new cases.\n",
    "dc['14_DAY'] = dc.iloc[:,PNi].rolling(window=14).mean() # Calculates the rolling 14-day average of new cases."
   ]
  },
  {
   "cell_type": "code",
   "execution_count": 4,
   "id": "steady-supervision",
   "metadata": {
    "execution": {
     "iopub.execute_input": "2021-06-25T10:12:49.071423Z",
     "iopub.status.busy": "2021-06-25T10:12:49.070974Z",
     "iopub.status.idle": "2021-06-25T10:12:49.075646Z",
     "shell.execute_reply": "2021-06-25T10:12:49.075172Z"
    },
    "jupyter": {
     "source_hidden": true
    },
    "papermill": {
     "duration": 0.017327,
     "end_time": "2021-06-25T10:12:49.075742",
     "exception": false,
     "start_time": "2021-06-25T10:12:49.058415",
     "status": "completed"
    },
    "scrolled": true,
    "tags": [
     "hide-input"
    ]
   },
   "outputs": [
    {
     "data": {
      "text/markdown": [
       "### Last updated: June 24, 2021"
      ],
      "text/plain": [
       "<IPython.core.display.Markdown object>"
      ]
     },
     "metadata": {},
     "output_type": "display_data"
    }
   ],
   "source": [
    "display(Markdown('### Last updated: ' + dc.iloc[-1]['DATE'].strftime(\"%B %d, %Y\")))"
   ]
  },
  {
   "cell_type": "code",
   "execution_count": 5,
   "id": "lonely-pitch",
   "metadata": {
    "execution": {
     "iopub.execute_input": "2021-06-25T10:12:49.095652Z",
     "iopub.status.busy": "2021-06-25T10:12:49.095204Z",
     "iopub.status.idle": "2021-06-25T10:12:49.098077Z",
     "shell.execute_reply": "2021-06-25T10:12:49.097711Z"
    },
    "jupyter": {
     "source_hidden": true
    },
    "papermill": {
     "duration": 0.014615,
     "end_time": "2021-06-25T10:12:49.098172",
     "exception": false,
     "start_time": "2021-06-25T10:12:49.083557",
     "status": "completed"
    },
    "tags": [
     "hide-input"
    ]
   },
   "outputs": [
    {
     "data": {
      "text/markdown": [
       "# Dunn County has 4701 total positive cases, with 1 new cases reported today."
      ],
      "text/plain": [
       "<IPython.core.display.Markdown object>"
      ]
     },
     "metadata": {},
     "output_type": "display_data"
    }
   ],
   "source": [
    "display(Markdown('# Dunn County has ' + str(dc.iloc[-1]['POSITIVE']) + ' total positive cases, with '+ str(int(dc.iloc[-1]['POS_NEW'])) + ' new cases reported today.'))"
   ]
  },
  {
   "cell_type": "code",
   "execution_count": 6,
   "id": "compound-nightmare",
   "metadata": {
    "execution": {
     "iopub.execute_input": "2021-06-25T10:12:49.117609Z",
     "iopub.status.busy": "2021-06-25T10:12:49.117092Z",
     "iopub.status.idle": "2021-06-25T10:12:49.335713Z",
     "shell.execute_reply": "2021-06-25T10:12:49.336086Z"
    },
    "jupyter": {
     "source_hidden": true
    },
    "papermill": {
     "duration": 0.229978,
     "end_time": "2021-06-25T10:12:49.336224",
     "exception": false,
     "start_time": "2021-06-25T10:12:49.106246",
     "status": "completed"
    },
    "scrolled": false,
    "tags": [
     "hide-input"
    ]
   },
   "outputs": [
    {
     "data": {
      "image/png": "[encoded data removed]",
      "text/plain": [
       "<Figure size 864x432 with 1 Axes>"
      ]
     },
     "metadata": {
      "needs_background": "light"
     },
     "output_type": "display_data"
    }
   ],
   "source": [
    "dc.plot(x='DATE',y='POSITIVE',color='red',grid='True',figsize=(12,6)).set_xlabel('Date');"
   ]
  },
  {
   "cell_type": "markdown",
   "id": "coupled-literacy",
   "metadata": {
    "papermill": {
     "duration": 0.009299,
     "end_time": "2021-06-25T10:12:49.354705",
     "exception": false,
     "start_time": "2021-06-25T10:12:49.345406",
     "status": "completed"
    },
    "tags": []
   },
   "source": [
    "## Figure 1: Cummulative number of positive cases."
   ]
  },
  {
   "cell_type": "code",
   "execution_count": 7,
   "id": "surrounded-reserve",
   "metadata": {
    "execution": {
     "iopub.execute_input": "2021-06-25T10:12:49.376683Z",
     "iopub.status.busy": "2021-06-25T10:12:49.376233Z",
     "iopub.status.idle": "2021-06-25T10:12:49.574918Z",
     "shell.execute_reply": "2021-06-25T10:12:49.575351Z"
    },
    "jupyter": {
     "source_hidden": true
    },
    "papermill": {
     "duration": 0.211947,
     "end_time": "2021-06-25T10:12:49.575505",
     "exception": false,
     "start_time": "2021-06-25T10:12:49.363558",
     "status": "completed"
    },
    "scrolled": false,
    "tags": [
     "hide-input"
    ]
   },
   "outputs": [
    {
     "data": {
      "image/png": "[encoded data removed]",
      "text/plain": [
       "<Figure size 864x432 with 1 Axes>"
      ]
     },
     "metadata": {
      "needs_background": "light"
     },
     "output_type": "display_data"
    }
   ],
   "source": [
    "dc.plot(kind='line',x='DATE',y='7_DAY',color='blue',grid='True',figsize=(12,6)).set_xlabel('Date');"
   ]
  },
  {
   "cell_type": "markdown",
   "id": "professional-savannah",
   "metadata": {
    "papermill": {
     "duration": 0.010099,
     "end_time": "2021-06-25T10:12:49.596999",
     "exception": false,
     "start_time": "2021-06-25T10:12:49.586900",
     "status": "completed"
    },
    "tags": []
   },
   "source": [
    "## Figure 2: Rolling 7-day average of daily new cases."
   ]
  },
  {
   "cell_type": "code",
   "execution_count": 8,
   "id": "stretch-investor",
   "metadata": {
    "execution": {
     "iopub.execute_input": "2021-06-25T10:12:49.621003Z",
     "iopub.status.busy": "2021-06-25T10:12:49.620551Z",
     "iopub.status.idle": "2021-06-25T10:12:49.814149Z",
     "shell.execute_reply": "2021-06-25T10:12:49.813743Z"
    },
    "jupyter": {
     "source_hidden": true
    },
    "papermill": {
     "duration": 0.207466,
     "end_time": "2021-06-25T10:12:49.814263",
     "exception": false,
     "start_time": "2021-06-25T10:12:49.606797",
     "status": "completed"
    },
    "tags": []
   },
   "outputs": [
    {
     "data": {
      "image/png": "[encoded data removed]",
      "text/plain": [
       "<Figure size 864x432 with 1 Axes>"
      ]
     },
     "metadata": {
      "needs_background": "light"
     },
     "output_type": "display_data"
    }
   ],
   "source": [
    "dc.plot(kind='line',x='DATE',y='14_DAY',color='green',grid='True',figsize=(12,6)).set_xlabel('Date');"
   ]
  },
  {
   "cell_type": "markdown",
   "id": "prerequisite-species",
   "metadata": {
    "papermill": {
     "duration": 0.011176,
     "end_time": "2021-06-25T10:12:49.836589",
     "exception": false,
     "start_time": "2021-06-25T10:12:49.825413",
     "status": "completed"
    },
    "tags": []
   },
   "source": [
    "## Figure 3: Rolling 14-day average of daily new cases."
   ]
  },
  {
   "cell_type": "markdown",
   "id": "palestinian-guard",
   "metadata": {
    "papermill": {
     "duration": 0.010641,
     "end_time": "2021-06-25T10:12:49.857929",
     "exception": false,
     "start_time": "2021-06-25T10:12:49.847288",
     "status": "completed"
    },
    "tags": []
   },
   "source": [
    "Data source: [Wisconsin Department of Health Services](https://data.dhsgis.wi.gov/datasets/wi-dhs::covid-19-historical-data-by-county-1)"
   ]
  },
  {
   "cell_type": "code",
   "execution_count": 9,
   "id": "proof-medicare",
   "metadata": {
    "execution": {
     "iopub.execute_input": "2021-06-25T10:12:49.883355Z",
     "iopub.status.busy": "2021-06-25T10:12:49.882883Z",
     "iopub.status.idle": "2021-06-25T10:12:49.885618Z",
     "shell.execute_reply": "2021-06-25T10:12:49.885219Z"
    },
    "jupyter": {
     "source_hidden": true
    },
    "papermill": {
     "duration": 0.017091,
     "end_time": "2021-06-25T10:12:49.885712",
     "exception": false,
     "start_time": "2021-06-25T10:12:49.868621",
     "status": "completed"
    },
    "tags": []
   },
   "outputs": [
    {
     "data": {
      "text/html": [
       "<style>\n",
       "div.input {\n",
       "    display:none;\n",
       "}\n",
       "</style>\n"
      ],
      "text/plain": [
       "<IPython.core.display.HTML object>"
      ]
     },
     "metadata": {},
     "output_type": "display_data"
    }
   ],
   "source": [
    "%%html\n",
    "<style>\n",
    "div.input {\n",
    "    display:none;\n",
    "}\n",
    "</style>"
   ]
  }
 ],
 "metadata": {
  "kernelspec": {
   "display_name": "Python 3",
   "language": "python",
   "name": "python3"
  },
  "language_info": {
   "codemirror_mode": {
    "name": "ipython",
    "version": 3
   },
   "file_extension": ".py",
   "mimetype": "text/x-python",
   "name": "python",
   "nbconvert_exporter": "python",
   "pygments_lexer": "ipython3",
   "version": "3.8.10"
  },
  "papermill": {
   "duration": 5.066477,
   "end_time": "2021-06-25T10:12:50.202832",
   "environment_variables": {},
   "exception": null,
   "input_path": "DunnCounty_COVID19.ipynb",
   "output_path": "DunnCounty_COVID19.ipynb",
   "parameters": {
    "Start": "True",
    "secretsPath": "/home/runner/work/_temp/secrets.json"
   },
   "start_time": "2021-06-25T10:12:45.136355",
   "version": "1.1.16"
  }
 },
 "nbformat": 4,
 "nbformat_minor": 5
}