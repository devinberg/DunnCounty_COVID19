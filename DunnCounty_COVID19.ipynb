{
 "cells": [
  {
   "cell_type": "code",
   "execution_count": 1,
   "metadata": {
    "execution": {
     "iopub.execute_input": "2020-12-17T10:13:04.341487Z",
     "iopub.status.busy": "2020-12-17T10:13:04.340877Z",
     "iopub.status.idle": "2020-12-17T10:13:06.461775Z",
     "shell.execute_reply": "2020-12-17T10:13:06.462362Z"
    },
    "jupyter": {
     "source_hidden": true
    },
    "papermill": {
     "duration": 2.140846,
     "end_time": "2020-12-17T10:13:06.462724",
     "exception": false,
     "start_time": "2020-12-17T10:13:04.321878",
     "status": "completed"
    },
    "scrolled": true,
    "tags": [
     "hide-input"
    ]
   },
   "outputs": [],
   "source": [
    "import pandas as pd\n",
    "import matplotlib.pyplot as plt\n",
    "from matplotlib import dates\n",
    "from IPython.display import display, Markdown\n",
    "%matplotlib inline"
   ]
  },
  {
   "cell_type": "code",
   "execution_count": 2,
   "metadata": {
    "execution": {
     "iopub.execute_input": "2020-12-17T10:13:06.485906Z",
     "iopub.status.busy": "2020-12-17T10:13:06.485344Z",
     "iopub.status.idle": "2020-12-17T10:13:07.131795Z",
     "shell.execute_reply": "2020-12-17T10:13:07.131147Z"
    },
    "jupyter": {
     "source_hidden": true
    },
    "papermill": {
     "duration": 0.66009,
     "end_time": "2020-12-17T10:13:07.131969",
     "exception": false,
     "start_time": "2020-12-17T10:13:06.471879",
     "status": "completed"
    },
    "scrolled": true,
    "tags": [
     "hide-input"
    ]
   },
   "outputs": [],
   "source": [
    "# This is the data for all of Wisconsin.\n",
    "url = \"https://opendata.arcgis.com/datasets/5374188992374b318d3e2305216ee413_12.csv\"\n",
    "data = pd.read_csv(url, parse_dates=['DATE'], low_memory=False)"
   ]
  },
  {
   "cell_type": "code",
   "execution_count": 3,
   "metadata": {
    "execution": {
     "iopub.execute_input": "2020-12-17T10:13:07.154372Z",
     "iopub.status.busy": "2020-12-17T10:13:07.153812Z",
     "iopub.status.idle": "2020-12-17T10:13:07.162668Z",
     "shell.execute_reply": "2020-12-17T10:13:07.163099Z"
    },
    "jupyter": {
     "source_hidden": true
    },
    "papermill": {
     "duration": 0.022508,
     "end_time": "2020-12-17T10:13:07.163271",
     "exception": false,
     "start_time": "2020-12-17T10:13:07.140763",
     "status": "completed"
    },
    "scrolled": true,
    "tags": [
     "hide-input"
    ]
   },
   "outputs": [],
   "source": [
    "dc = data.groupby('NAME').get_group('Dunn').sort_values(by='DATE') # Select the data for Dunn County from the full data.\n",
    "PNi = dc.columns.get_loc(\"POS_NEW\")\n",
    "dc['7_DAY'] = dc.iloc[:,PNi].rolling(window=7).mean() # Calculates the rolling 7-day average of new cases.\n",
    "dc['14_DAY'] = dc.iloc[:,PNi].rolling(window=14).mean() # Calculates the rolling 14-day average of new cases."
   ]
  },
  {
   "cell_type": "code",
   "execution_count": 4,
   "metadata": {
    "execution": {
     "iopub.execute_input": "2020-12-17T10:13:07.184039Z",
     "iopub.status.busy": "2020-12-17T10:13:07.183440Z",
     "iopub.status.idle": "2020-12-17T10:13:07.186669Z",
     "shell.execute_reply": "2020-12-17T10:13:07.187117Z"
    },
    "jupyter": {
     "source_hidden": true
    },
    "papermill": {
     "duration": 0.016775,
     "end_time": "2020-12-17T10:13:07.187258",
     "exception": false,
     "start_time": "2020-12-17T10:13:07.170483",
     "status": "completed"
    },
    "scrolled": true,
    "tags": [
     "hide-input"
    ]
   },
   "outputs": [
    {
     "data": {
      "text/markdown": [
       "### Last updated: December 16, 2020"
      ],
      "text/plain": [
       "<IPython.core.display.Markdown object>"
      ]
     },
     "metadata": {},
     "output_type": "display_data"
    }
   ],
   "source": [
    "display(Markdown('### Last updated: ' + dc.iloc[-1]['DATE'].strftime(\"%B %d, %Y\")))"
   ]
  },
  {
   "cell_type": "code",
   "execution_count": 5,
   "metadata": {
    "execution": {
     "iopub.execute_input": "2020-12-17T10:13:07.209607Z",
     "iopub.status.busy": "2020-12-17T10:13:07.208867Z",
     "iopub.status.idle": "2020-12-17T10:13:07.211198Z",
     "shell.execute_reply": "2020-12-17T10:13:07.211663Z"
    },
    "jupyter": {
     "source_hidden": true
    },
    "papermill": {
     "duration": 0.016257,
     "end_time": "2020-12-17T10:13:07.211815",
     "exception": false,
     "start_time": "2020-12-17T10:13:07.195558",
     "status": "completed"
    },
    "tags": [
     "hide-input"
    ]
   },
   "outputs": [
    {
     "data": {
      "text/markdown": [
       "# Dunn County has 3212 total positive cases, with 30 new cases reported today."
      ],
      "text/plain": [
       "<IPython.core.display.Markdown object>"
      ]
     },
     "metadata": {},
     "output_type": "display_data"
    }
   ],
   "source": [
    "display(Markdown('# Dunn County has ' + str(dc.iloc[-1]['POSITIVE']) + ' total positive cases, with '+ str(int(dc.iloc[-1]['POS_NEW'])) + ' new cases reported today.'))"
   ]
  },
  {
   "cell_type": "code",
   "execution_count": 6,
   "metadata": {
    "execution": {
     "iopub.execute_input": "2020-12-17T10:13:07.231227Z",
     "iopub.status.busy": "2020-12-17T10:13:07.230724Z",
     "iopub.status.idle": "2020-12-17T10:13:07.458283Z",
     "shell.execute_reply": "2020-12-17T10:13:07.457819Z"
    },
    "jupyter": {
     "source_hidden": true
    },
    "papermill": {
     "duration": 0.238955,
     "end_time": "2020-12-17T10:13:07.458416",
     "exception": false,
     "start_time": "2020-12-17T10:13:07.219461",
     "status": "completed"
    },
    "scrolled": false,
    "tags": [
     "hide-input"
    ]
   },
   "outputs": [
    {
     "data": {
      "image/png": "[encoded data removed]",
      "text/plain": [
       "<Figure size 864x432 with 1 Axes>"
      ]
     },
     "metadata": {
      "needs_background": "light"
     },
     "output_type": "display_data"
    }
   ],
   "source": [
    "dc.plot(x='DATE',y='POSITIVE',color='red',grid='True',figsize=(12,6)).set_xlabel('Date');"
   ]
  },
  {
   "cell_type": "markdown",
   "metadata": {
    "papermill": {
     "duration": 0.009083,
     "end_time": "2020-12-17T10:13:07.476630",
     "exception": false,
     "start_time": "2020-12-17T10:13:07.467547",
     "status": "completed"
    },
    "tags": []
   },
   "source": [
    "## Figure 1: Cummulative number of positive cases."
   ]
  },
  {
   "cell_type": "code",
   "execution_count": 7,
   "metadata": {
    "execution": {
     "iopub.execute_input": "2020-12-17T10:13:07.500754Z",
     "iopub.status.busy": "2020-12-17T10:13:07.499988Z",
     "iopub.status.idle": "2020-12-17T10:13:07.718099Z",
     "shell.execute_reply": "2020-12-17T10:13:07.718520Z"
    },
    "jupyter": {
     "source_hidden": true
    },
    "papermill": {
     "duration": 0.233375,
     "end_time": "2020-12-17T10:13:07.718691",
     "exception": false,
     "start_time": "2020-12-17T10:13:07.485316",
     "status": "completed"
    },
    "scrolled": false,
    "tags": [
     "hide-input"
    ]
   },
   "outputs": [
    {
     "data": {
      "image/png": "[encoded data removed]",
      "text/plain": [
       "<Figure size 864x432 with 1 Axes>"
      ]
     },
     "metadata": {
      "needs_background": "light"
     },
     "output_type": "display_data"
    }
   ],
   "source": [
    "dc.plot(kind='line',x='DATE',y='7_DAY',color='blue',grid='True',figsize=(12,6)).set_xlabel('Date');"
   ]
  },
  {
   "cell_type": "markdown",
   "metadata": {
    "papermill": {
     "duration": 0.009592,
     "end_time": "2020-12-17T10:13:07.738158",
     "exception": false,
     "start_time": "2020-12-17T10:13:07.728566",
     "status": "completed"
    },
    "tags": []
   },
   "source": [
    "## Figure 2: Rolling 7-day average of daily new cases."
   ]
  },
  {
   "cell_type": "code",
   "execution_count": 8,
   "metadata": {
    "execution": {
     "iopub.execute_input": "2020-12-17T10:13:07.763732Z",
     "iopub.status.busy": "2020-12-17T10:13:07.763141Z",
     "iopub.status.idle": "2020-12-17T10:13:07.982336Z",
     "shell.execute_reply": "2020-12-17T10:13:07.981873Z"
    },
    "jupyter": {
     "source_hidden": true
    },
    "papermill": {
     "duration": 0.234731,
     "end_time": "2020-12-17T10:13:07.982460",
     "exception": false,
     "start_time": "2020-12-17T10:13:07.747729",
     "status": "completed"
    },
    "tags": []
   },
   "outputs": [
    {
     "data": {
      "image/png": "[encoded data removed]",
      "text/plain": [
       "<Figure size 864x432 with 1 Axes>"
      ]
     },
     "metadata": {
      "needs_background": "light"
     },
     "output_type": "display_data"
    }
   ],
   "source": [
    "dc.plot(kind='line',x='DATE',y='14_DAY',color='green',grid='True',figsize=(12,6)).set_xlabel('Date');"
   ]
  },
  {
   "cell_type": "markdown",
   "metadata": {
    "papermill": {
     "duration": 0.009973,
     "end_time": "2020-12-17T10:13:08.002825",
     "exception": false,
     "start_time": "2020-12-17T10:13:07.992852",
     "status": "completed"
    },
    "tags": []
   },
   "source": [
    "## Figure 3: Rolling 14-day average of daily new cases."
   ]
  },
  {
   "cell_type": "markdown",
   "metadata": {
    "papermill": {
     "duration": 0.009764,
     "end_time": "2020-12-17T10:13:08.022731",
     "exception": false,
     "start_time": "2020-12-17T10:13:08.012967",
     "status": "completed"
    },
    "tags": []
   },
   "source": [
    "Data source: [Wisconsin Department of Health Services](https://data.dhsgis.wi.gov/datasets/covid-19-historical-data-table/)"
   ]
  },
  {
   "cell_type": "code",
   "execution_count": 9,
   "metadata": {
    "execution": {
     "iopub.execute_input": "2020-12-17T10:13:08.048083Z",
     "iopub.status.busy": "2020-12-17T10:13:08.047499Z",
     "iopub.status.idle": "2020-12-17T10:13:08.051389Z",
     "shell.execute_reply": "2020-12-17T10:13:08.051857Z"
    },
    "jupyter": {
     "source_hidden": true
    },
    "papermill": {
     "duration": 0.01898,
     "end_time": "2020-12-17T10:13:08.051997",
     "exception": false,
     "start_time": "2020-12-17T10:13:08.033017",
     "status": "completed"
    },
    "tags": []
   },
   "outputs": [
    {
     "data": {
      "text/html": [
       "<style>\n",
       "div.input {\n",
       "    display:none;\n",
       "}\n",
       "</style>\n"
      ],
      "text/plain": [
       "<IPython.core.display.HTML object>"
      ]
     },
     "metadata": {},
     "output_type": "display_data"
    }
   ],
   "source": [
    "%%html\n",
    "<style>\n",
    "div.input {\n",
    "    display:none;\n",
    "}\n",
    "</style>"
   ]
  }
 ],
 "metadata": {
  "kernelspec": {
   "display_name": "Python 3",
   "language": "python",
   "name": "python3"
  },
  "language_info": {
   "codemirror_mode": {
    "name": "ipython",
    "version": 3
   },
   "file_extension": ".py",
   "mimetype": "text/x-python",
   "name": "python",
   "nbconvert_exporter": "python",
   "pygments_lexer": "ipython3",
   "version": "3.8.6"
  },
  "papermill": {
   "duration": 5.555202,
   "end_time": "2020-12-17T10:13:08.371309",
   "environment_variables": {},
   "exception": null,
   "input_path": "DunnCounty_COVID19.ipynb",
   "output_path": "DunnCounty_COVID19.ipynb",
   "parameters": {
    "Start": "True",
    "secretsPath": "/home/runner/work/_temp/secrets.json"
   },
   "start_time": "2020-12-17T10:13:02.816107",
   "version": "1.1.16"
  }
 },
 "nbformat": 4,
 "nbformat_minor": 2
}