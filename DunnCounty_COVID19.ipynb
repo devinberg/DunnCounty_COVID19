{
 "cells": [
  {
   "cell_type": "code",
   "execution_count": 1,
   "metadata": {
    "execution": {
     "iopub.execute_input": "2021-01-01T10:23:33.421092Z",
     "iopub.status.busy": "2021-01-01T10:23:33.420539Z",
     "iopub.status.idle": "2021-01-01T10:23:34.573782Z",
     "shell.execute_reply": "2021-01-01T10:23:34.573175Z"
    },
    "jupyter": {
     "source_hidden": true
    },
    "papermill": {
     "duration": 1.176036,
     "end_time": "2021-01-01T10:23:34.573975",
     "exception": false,
     "start_time": "2021-01-01T10:23:33.397939",
     "status": "completed"
    },
    "scrolled": true,
    "tags": [
     "hide-input"
    ]
   },
   "outputs": [],
   "source": [
    "import pandas as pd\n",
    "import matplotlib.pyplot as plt\n",
    "from matplotlib import dates\n",
    "from IPython.display import display, Markdown\n",
    "%matplotlib inline"
   ]
  },
  {
   "cell_type": "code",
   "execution_count": 2,
   "metadata": {
    "execution": {
     "iopub.execute_input": "2021-01-01T10:23:34.595502Z",
     "iopub.status.busy": "2021-01-01T10:23:34.594815Z",
     "iopub.status.idle": "2021-01-01T10:23:35.397638Z",
     "shell.execute_reply": "2021-01-01T10:23:35.398116Z"
    },
    "jupyter": {
     "source_hidden": true
    },
    "papermill": {
     "duration": 0.816398,
     "end_time": "2021-01-01T10:23:35.398286",
     "exception": false,
     "start_time": "2021-01-01T10:23:34.581888",
     "status": "completed"
    },
    "scrolled": true,
    "tags": [
     "hide-input"
    ]
   },
   "outputs": [],
   "source": [
    "# This is the data for all of Wisconsin.\n",
    "url = \"https://opendata.arcgis.com/datasets/5374188992374b318d3e2305216ee413_12.csv\"\n",
    "data = pd.read_csv(url, parse_dates=['DATE'], low_memory=False)"
   ]
  },
  {
   "cell_type": "code",
   "execution_count": 3,
   "metadata": {
    "execution": {
     "iopub.execute_input": "2021-01-01T10:23:35.418472Z",
     "iopub.status.busy": "2021-01-01T10:23:35.417964Z",
     "iopub.status.idle": "2021-01-01T10:23:35.425886Z",
     "shell.execute_reply": "2021-01-01T10:23:35.425237Z"
    },
    "jupyter": {
     "source_hidden": true
    },
    "papermill": {
     "duration": 0.020323,
     "end_time": "2021-01-01T10:23:35.426008",
     "exception": false,
     "start_time": "2021-01-01T10:23:35.405685",
     "status": "completed"
    },
    "scrolled": true,
    "tags": [
     "hide-input"
    ]
   },
   "outputs": [],
   "source": [
    "dc = data.groupby('NAME').get_group('Dunn').sort_values(by='DATE') # Select the data for Dunn County from the full data.\n",
    "PNi = dc.columns.get_loc(\"POS_NEW\")\n",
    "dc['7_DAY'] = dc.iloc[:,PNi].rolling(window=7).mean() # Calculates the rolling 7-day average of new cases.\n",
    "dc['14_DAY'] = dc.iloc[:,PNi].rolling(window=14).mean() # Calculates the rolling 14-day average of new cases."
   ]
  },
  {
   "cell_type": "code",
   "execution_count": 4,
   "metadata": {
    "execution": {
     "iopub.execute_input": "2021-01-01T10:23:35.445466Z",
     "iopub.status.busy": "2021-01-01T10:23:35.444961Z",
     "iopub.status.idle": "2021-01-01T10:23:35.447452Z",
     "shell.execute_reply": "2021-01-01T10:23:35.447830Z"
    },
    "jupyter": {
     "source_hidden": true
    },
    "papermill": {
     "duration": 0.015207,
     "end_time": "2021-01-01T10:23:35.447968",
     "exception": false,
     "start_time": "2021-01-01T10:23:35.432761",
     "status": "completed"
    },
    "scrolled": true,
    "tags": [
     "hide-input"
    ]
   },
   "outputs": [
    {
     "data": {
      "text/markdown": [
       "### Last updated: December 31, 2020"
      ],
      "text/plain": [
       "<IPython.core.display.Markdown object>"
      ]
     },
     "metadata": {},
     "output_type": "display_data"
    }
   ],
   "source": [
    "display(Markdown('### Last updated: ' + dc.iloc[-1]['DATE'].strftime(\"%B %d, %Y\")))"
   ]
  },
  {
   "cell_type": "code",
   "execution_count": 5,
   "metadata": {
    "execution": {
     "iopub.execute_input": "2021-01-01T10:23:35.466165Z",
     "iopub.status.busy": "2021-01-01T10:23:35.465650Z",
     "iopub.status.idle": "2021-01-01T10:23:35.468839Z",
     "shell.execute_reply": "2021-01-01T10:23:35.468301Z"
    },
    "jupyter": {
     "source_hidden": true
    },
    "papermill": {
     "duration": 0.01395,
     "end_time": "2021-01-01T10:23:35.468951",
     "exception": false,
     "start_time": "2021-01-01T10:23:35.455001",
     "status": "completed"
    },
    "tags": [
     "hide-input"
    ]
   },
   "outputs": [
    {
     "data": {
      "text/markdown": [
       "# Dunn County has 3514 total positive cases, with 26 new cases reported today."
      ],
      "text/plain": [
       "<IPython.core.display.Markdown object>"
      ]
     },
     "metadata": {},
     "output_type": "display_data"
    }
   ],
   "source": [
    "display(Markdown('# Dunn County has ' + str(dc.iloc[-1]['POSITIVE']) + ' total positive cases, with '+ str(int(dc.iloc[-1]['POS_NEW'])) + ' new cases reported today.'))"
   ]
  },
  {
   "cell_type": "code",
   "execution_count": 6,
   "metadata": {
    "execution": {
     "iopub.execute_input": "2021-01-01T10:23:35.486985Z",
     "iopub.status.busy": "2021-01-01T10:23:35.486490Z",
     "iopub.status.idle": "2021-01-01T10:23:35.722282Z",
     "shell.execute_reply": "2021-01-01T10:23:35.722699Z"
    },
    "jupyter": {
     "source_hidden": true
    },
    "papermill": {
     "duration": 0.246809,
     "end_time": "2021-01-01T10:23:35.722860",
     "exception": false,
     "start_time": "2021-01-01T10:23:35.476051",
     "status": "completed"
    },
    "scrolled": false,
    "tags": [
     "hide-input"
    ]
   },
   "outputs": [
    {
     "data": {
      "image/png": "[encoded data removed]",
      "text/plain": [
       "<Figure size 864x432 with 1 Axes>"
      ]
     },
     "metadata": {
      "needs_background": "light"
     },
     "output_type": "display_data"
    }
   ],
   "source": [
    "dc.plot(x='DATE',y='POSITIVE',color='red',grid='True',figsize=(12,6)).set_xlabel('Date');"
   ]
  },
  {
   "cell_type": "markdown",
   "metadata": {
    "papermill": {
     "duration": 0.00856,
     "end_time": "2021-01-01T10:23:35.739933",
     "exception": false,
     "start_time": "2021-01-01T10:23:35.731373",
     "status": "completed"
    },
    "tags": []
   },
   "source": [
    "## Figure 1: Cummulative number of positive cases."
   ]
  },
  {
   "cell_type": "code",
   "execution_count": 7,
   "metadata": {
    "execution": {
     "iopub.execute_input": "2021-01-01T10:23:35.761034Z",
     "iopub.status.busy": "2021-01-01T10:23:35.760533Z",
     "iopub.status.idle": "2021-01-01T10:23:35.973848Z",
     "shell.execute_reply": "2021-01-01T10:23:35.973341Z"
    },
    "jupyter": {
     "source_hidden": true
    },
    "papermill": {
     "duration": 0.226315,
     "end_time": "2021-01-01T10:23:35.973987",
     "exception": false,
     "start_time": "2021-01-01T10:23:35.747672",
     "status": "completed"
    },
    "scrolled": false,
    "tags": [
     "hide-input"
    ]
   },
   "outputs": [
    {
     "data": {
      "image/png": "[encoded data removed]",
      "text/plain": [
       "<Figure size 864x432 with 1 Axes>"
      ]
     },
     "metadata": {
      "needs_background": "light"
     },
     "output_type": "display_data"
    }
   ],
   "source": [
    "dc.plot(kind='line',x='DATE',y='7_DAY',color='blue',grid='True',figsize=(12,6)).set_xlabel('Date');"
   ]
  },
  {
   "cell_type": "markdown",
   "metadata": {
    "papermill": {
     "duration": 0.063869,
     "end_time": "2021-01-01T10:23:36.047875",
     "exception": false,
     "start_time": "2021-01-01T10:23:35.984006",
     "status": "completed"
    },
    "tags": []
   },
   "source": [
    "## Figure 2: Rolling 7-day average of daily new cases."
   ]
  },
  {
   "cell_type": "code",
   "execution_count": 8,
   "metadata": {
    "execution": {
     "iopub.execute_input": "2021-01-01T10:23:36.074285Z",
     "iopub.status.busy": "2021-01-01T10:23:36.073756Z",
     "iopub.status.idle": "2021-01-01T10:23:36.288647Z",
     "shell.execute_reply": "2021-01-01T10:23:36.289110Z"
    },
    "jupyter": {
     "source_hidden": true
    },
    "papermill": {
     "duration": 0.228621,
     "end_time": "2021-01-01T10:23:36.289268",
     "exception": false,
     "start_time": "2021-01-01T10:23:36.060647",
     "status": "completed"
    },
    "tags": []
   },
   "outputs": [
    {
     "data": {
      "image/png": "[encoded data removed]",
      "text/plain": [
       "<Figure size 864x432 with 1 Axes>"
      ]
     },
     "metadata": {
      "needs_background": "light"
     },
     "output_type": "display_data"
    }
   ],
   "source": [
    "dc.plot(kind='line',x='DATE',y='14_DAY',color='green',grid='True',figsize=(12,6)).set_xlabel('Date');"
   ]
  },
  {
   "cell_type": "markdown",
   "metadata": {
    "papermill": {
     "duration": 0.011059,
     "end_time": "2021-01-01T10:23:36.311269",
     "exception": false,
     "start_time": "2021-01-01T10:23:36.300210",
     "status": "completed"
    },
    "tags": []
   },
   "source": [
    "## Figure 3: Rolling 14-day average of daily new cases."
   ]
  },
  {
   "cell_type": "markdown",
   "metadata": {
    "papermill": {
     "duration": 0.010197,
     "end_time": "2021-01-01T10:23:36.331995",
     "exception": false,
     "start_time": "2021-01-01T10:23:36.321798",
     "status": "completed"
    },
    "tags": []
   },
   "source": [
    "Data source: [Wisconsin Department of Health Services](https://data.dhsgis.wi.gov/datasets/covid-19-historical-data-table/)"
   ]
  },
  {
   "cell_type": "code",
   "execution_count": 9,
   "metadata": {
    "execution": {
     "iopub.execute_input": "2021-01-01T10:23:36.358354Z",
     "iopub.status.busy": "2021-01-01T10:23:36.357389Z",
     "iopub.status.idle": "2021-01-01T10:23:36.360448Z",
     "shell.execute_reply": "2021-01-01T10:23:36.360877Z"
    },
    "jupyter": {
     "source_hidden": true
    },
    "papermill": {
     "duration": 0.019578,
     "end_time": "2021-01-01T10:23:36.361024",
     "exception": false,
     "start_time": "2021-01-01T10:23:36.341446",
     "status": "completed"
    },
    "tags": []
   },
   "outputs": [
    {
     "data": {
      "text/html": [
       "<style>\n",
       "div.input {\n",
       "    display:none;\n",
       "}\n",
       "</style>\n"
      ],
      "text/plain": [
       "<IPython.core.display.HTML object>"
      ]
     },
     "metadata": {},
     "output_type": "display_data"
    }
   ],
   "source": [
    "%%html\n",
    "<style>\n",
    "div.input {\n",
    "    display:none;\n",
    "}\n",
    "</style>"
   ]
  }
 ],
 "metadata": {
  "kernelspec": {
   "display_name": "Python 3",
   "language": "python",
   "name": "python3"
  },
  "language_info": {
   "codemirror_mode": {
    "name": "ipython",
    "version": 3
   },
   "file_extension": ".py",
   "mimetype": "text/x-python",
   "name": "python",
   "nbconvert_exporter": "python",
   "pygments_lexer": "ipython3",
   "version": "3.8.6"
  },
  "papermill": {
   "duration": 5.771334,
   "end_time": "2021-01-01T10:23:37.635997",
   "environment_variables": {},
   "exception": null,
   "input_path": "DunnCounty_COVID19.ipynb",
   "output_path": "DunnCounty_COVID19.ipynb",
   "parameters": {
    "Start": "True",
    "secretsPath": "/home/runner/work/_temp/secrets.json"
   },
   "start_time": "2021-01-01T10:23:31.864663",
   "version": "1.1.16"
  }
 },
 "nbformat": 4,
 "nbformat_minor": 2
}