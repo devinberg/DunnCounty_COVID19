{
 "cells": [
  {
   "cell_type": "code",
   "execution_count": 1,
   "metadata": {
    "execution": {
     "iopub.execute_input": "2020-09-15T10:10:01.604956Z",
     "iopub.status.busy": "2020-09-15T10:10:01.603980Z",
     "iopub.status.idle": "2020-09-15T10:10:04.621413Z",
     "shell.execute_reply": "2020-09-15T10:10:04.620341Z"
    },
    "jupyter": {
     "source_hidden": true
    },
    "papermill": {
     "duration": 3.032635,
     "end_time": "2020-09-15T10:10:04.621620",
     "exception": false,
     "start_time": "2020-09-15T10:10:01.588985",
     "status": "completed"
    },
    "scrolled": true,
    "tags": [
     "hide-input"
    ]
   },
   "outputs": [],
   "source": [
    "import pandas as pd\n",
    "import matplotlib.pyplot as plt\n",
    "from matplotlib import dates\n",
    "from IPython.display import display, Markdown\n",
    "%matplotlib inline"
   ]
  },
  {
   "cell_type": "code",
   "execution_count": 2,
   "metadata": {
    "execution": {
     "iopub.execute_input": "2020-09-15T10:10:04.644054Z",
     "iopub.status.busy": "2020-09-15T10:10:04.643355Z",
     "iopub.status.idle": "2020-09-15T10:10:07.626651Z",
     "shell.execute_reply": "2020-09-15T10:10:07.625797Z"
    },
    "jupyter": {
     "source_hidden": true
    },
    "papermill": {
     "duration": 2.997506,
     "end_time": "2020-09-15T10:10:07.626876",
     "exception": false,
     "start_time": "2020-09-15T10:10:04.629370",
     "status": "completed"
    },
    "scrolled": true,
    "tags": [
     "hide-input"
    ]
   },
   "outputs": [],
   "source": [
    "# This is the data for all of Wisconsin.\n",
    "url = \"https://opendata.arcgis.com/datasets/b913e9591eae4912b33dc5b4e88646c5_10.csv\"\n",
    "data = pd.read_csv(url, parse_dates=['DATE'], low_memory=False)"
   ]
  },
  {
   "cell_type": "code",
   "execution_count": 3,
   "metadata": {
    "execution": {
     "iopub.execute_input": "2020-09-15T10:10:07.659372Z",
     "iopub.status.busy": "2020-09-15T10:10:07.658794Z",
     "iopub.status.idle": "2020-09-15T10:10:07.669613Z",
     "shell.execute_reply": "2020-09-15T10:10:07.668977Z"
    },
    "jupyter": {
     "source_hidden": true
    },
    "papermill": {
     "duration": 0.035199,
     "end_time": "2020-09-15T10:10:07.669795",
     "exception": false,
     "start_time": "2020-09-15T10:10:07.634596",
     "status": "completed"
    },
    "scrolled": true,
    "tags": [
     "hide-input"
    ]
   },
   "outputs": [],
   "source": [
    "dc = data.groupby('NAME').get_group('Dunn').sort_values(by='DATE') # Select the data for Dunn County from the full data.\n",
    "PNi = dc.columns.get_loc(\"POS_NEW\")\n",
    "dc['7_DAY'] = dc.iloc[:,PNi].rolling(window=7).mean() # Calculates the rolling 7-day average of new cases.\n",
    "dc['14_DAY'] = dc.iloc[:,PNi].rolling(window=14).mean() # Calculates the rolling 14-day average of new cases."
   ]
  },
  {
   "cell_type": "code",
   "execution_count": 4,
   "metadata": {
    "execution": {
     "iopub.execute_input": "2020-09-15T10:10:07.693357Z",
     "iopub.status.busy": "2020-09-15T10:10:07.692801Z",
     "iopub.status.idle": "2020-09-15T10:10:07.695586Z",
     "shell.execute_reply": "2020-09-15T10:10:07.696108Z"
    },
    "jupyter": {
     "source_hidden": true
    },
    "papermill": {
     "duration": 0.017197,
     "end_time": "2020-09-15T10:10:07.696259",
     "exception": false,
     "start_time": "2020-09-15T10:10:07.679062",
     "status": "completed"
    },
    "scrolled": true,
    "tags": [
     "hide-input"
    ]
   },
   "outputs": [
    {
     "data": {
      "text/markdown": [
       "### Last updated: September 14, 2020"
      ],
      "text/plain": [
       "<IPython.core.display.Markdown object>"
      ]
     },
     "metadata": {},
     "output_type": "display_data"
    }
   ],
   "source": [
    "display(Markdown('### Last updated: ' + dc.iloc[-1]['DATE'].strftime(\"%B %d, %Y\")))"
   ]
  },
  {
   "cell_type": "code",
   "execution_count": 5,
   "metadata": {
    "execution": {
     "iopub.execute_input": "2020-09-15T10:10:07.718031Z",
     "iopub.status.busy": "2020-09-15T10:10:07.717461Z",
     "iopub.status.idle": "2020-09-15T10:10:07.720372Z",
     "shell.execute_reply": "2020-09-15T10:10:07.720838Z"
    },
    "jupyter": {
     "source_hidden": true
    },
    "papermill": {
     "duration": 0.016797,
     "end_time": "2020-09-15T10:10:07.720987",
     "exception": false,
     "start_time": "2020-09-15T10:10:07.704190",
     "status": "completed"
    },
    "tags": [
     "hide-input"
    ]
   },
   "outputs": [
    {
     "data": {
      "text/markdown": [
       "# Dunn County has 254 total positive cases, with 5 new cases reported today."
      ],
      "text/plain": [
       "<IPython.core.display.Markdown object>"
      ]
     },
     "metadata": {},
     "output_type": "display_data"
    }
   ],
   "source": [
    "display(Markdown('# Dunn County has ' + str(dc.iloc[-1]['POSITIVE']) + ' total positive cases, with '+ str(int(dc.iloc[-1]['POS_NEW'])) + ' new cases reported today.'))"
   ]
  },
  {
   "cell_type": "code",
   "execution_count": 6,
   "metadata": {
    "execution": {
     "iopub.execute_input": "2020-09-15T10:10:07.741777Z",
     "iopub.status.busy": "2020-09-15T10:10:07.741224Z",
     "iopub.status.idle": "2020-09-15T10:10:07.960270Z",
     "shell.execute_reply": "2020-09-15T10:10:07.960715Z"
    },
    "jupyter": {
     "source_hidden": true
    },
    "papermill": {
     "duration": 0.231703,
     "end_time": "2020-09-15T10:10:07.960876",
     "exception": false,
     "start_time": "2020-09-15T10:10:07.729173",
     "status": "completed"
    },
    "scrolled": false,
    "tags": [
     "hide-input"
    ]
   },
   "outputs": [
    {
     "data": {
      "image/png": "[encoded data removed]",
      "text/plain": [
       "<Figure size 864x432 with 1 Axes>"
      ]
     },
     "metadata": {
      "needs_background": "light"
     },
     "output_type": "display_data"
    }
   ],
   "source": [
    "dc.plot(x='DATE',y='POSITIVE',color='red',grid='True',figsize=(12,6)).set_xlabel('Date');"
   ]
  },
  {
   "cell_type": "markdown",
   "metadata": {
    "papermill": {
     "duration": 0.009821,
     "end_time": "2020-09-15T10:10:07.979895",
     "exception": false,
     "start_time": "2020-09-15T10:10:07.970074",
     "status": "completed"
    },
    "tags": []
   },
   "source": [
    "## Figure 1: Cummulative number of positive cases."
   ]
  },
  {
   "cell_type": "code",
   "execution_count": 7,
   "metadata": {
    "execution": {
     "iopub.execute_input": "2020-09-15T10:10:08.006760Z",
     "iopub.status.busy": "2020-09-15T10:10:08.006212Z",
     "iopub.status.idle": "2020-09-15T10:10:08.218411Z",
     "shell.execute_reply": "2020-09-15T10:10:08.218853Z"
    },
    "jupyter": {
     "source_hidden": true
    },
    "papermill": {
     "duration": 0.229062,
     "end_time": "2020-09-15T10:10:08.219014",
     "exception": false,
     "start_time": "2020-09-15T10:10:07.989952",
     "status": "completed"
    },
    "scrolled": false,
    "tags": [
     "hide-input"
    ]
   },
   "outputs": [
    {
     "data": {
      "image/png": "[encoded data removed]",
      "text/plain": [
       "<Figure size 864x432 with 1 Axes>"
      ]
     },
     "metadata": {
      "needs_background": "light"
     },
     "output_type": "display_data"
    }
   ],
   "source": [
    "dc.plot(kind='line',x='DATE',y='7_DAY',color='blue',grid='True',figsize=(12,6)).set_xlabel('Date');"
   ]
  },
  {
   "cell_type": "markdown",
   "metadata": {
    "papermill": {
     "duration": 0.011074,
     "end_time": "2020-09-15T10:10:08.240195",
     "exception": false,
     "start_time": "2020-09-15T10:10:08.229121",
     "status": "completed"
    },
    "tags": []
   },
   "source": [
    "## Figure 2: Rolling 7-day average of daily new cases."
   ]
  },
  {
   "cell_type": "code",
   "execution_count": 8,
   "metadata": {
    "execution": {
     "iopub.execute_input": "2020-09-15T10:10:08.266143Z",
     "iopub.status.busy": "2020-09-15T10:10:08.265555Z",
     "iopub.status.idle": "2020-09-15T10:10:08.471247Z",
     "shell.execute_reply": "2020-09-15T10:10:08.471741Z"
    },
    "jupyter": {
     "source_hidden": true
    },
    "papermill": {
     "duration": 0.221908,
     "end_time": "2020-09-15T10:10:08.471903",
     "exception": false,
     "start_time": "2020-09-15T10:10:08.249995",
     "status": "completed"
    },
    "tags": []
   },
   "outputs": [
    {
     "data": {
      "image/png": "[encoded data removed]",
      "text/plain": [
       "<Figure size 864x432 with 1 Axes>"
      ]
     },
     "metadata": {
      "needs_background": "light"
     },
     "output_type": "display_data"
    }
   ],
   "source": [
    "dc.plot(kind='line',x='DATE',y='14_DAY',color='green',grid='True',figsize=(12,6)).set_xlabel('Date');"
   ]
  },
  {
   "cell_type": "markdown",
   "metadata": {
    "papermill": {
     "duration": 0.012183,
     "end_time": "2020-09-15T10:10:08.496117",
     "exception": false,
     "start_time": "2020-09-15T10:10:08.483934",
     "status": "completed"
    },
    "tags": []
   },
   "source": [
    "## Figure 3: Rolling 14-day average of daily new cases."
   ]
  },
  {
   "cell_type": "markdown",
   "metadata": {
    "papermill": {
     "duration": 0.011633,
     "end_time": "2020-09-15T10:10:08.518986",
     "exception": false,
     "start_time": "2020-09-15T10:10:08.507353",
     "status": "completed"
    },
    "tags": []
   },
   "source": [
    "Data source: [Wisconsin Department of Health Services](https://data.dhsgis.wi.gov/datasets/covid-19-historical-data-table/)"
   ]
  },
  {
   "cell_type": "code",
   "execution_count": 9,
   "metadata": {
    "execution": {
     "iopub.execute_input": "2020-09-15T10:10:08.545939Z",
     "iopub.status.busy": "2020-09-15T10:10:08.545347Z",
     "iopub.status.idle": "2020-09-15T10:10:08.548591Z",
     "shell.execute_reply": "2020-09-15T10:10:08.549298Z"
    },
    "jupyter": {
     "source_hidden": true
    },
    "papermill": {
     "duration": 0.019659,
     "end_time": "2020-09-15T10:10:08.549467",
     "exception": false,
     "start_time": "2020-09-15T10:10:08.529808",
     "status": "completed"
    },
    "tags": []
   },
   "outputs": [
    {
     "data": {
      "text/html": [
       "<style>\n",
       "div.input {\n",
       "    display:none;\n",
       "}\n",
       "</style>\n"
      ],
      "text/plain": [
       "<IPython.core.display.HTML object>"
      ]
     },
     "metadata": {},
     "output_type": "display_data"
    }
   ],
   "source": [
    "%%html\n",
    "<style>\n",
    "div.input {\n",
    "    display:none;\n",
    "}\n",
    "</style>"
   ]
  }
 ],
 "metadata": {
  "kernelspec": {
   "display_name": "Python 3",
   "language": "python",
   "name": "python3"
  },
  "language_info": {
   "codemirror_mode": {
    "name": "ipython",
    "version": 3
   },
   "file_extension": ".py",
   "mimetype": "text/x-python",
   "name": "python",
   "nbconvert_exporter": "python",
   "pygments_lexer": "ipython3",
   "version": "3.8.5"
  },
  "papermill": {
   "duration": 9.862322,
   "end_time": "2020-09-15T10:10:09.827512",
   "environment_variables": {},
   "exception": null,
   "input_path": "DunnCounty_COVID19.ipynb",
   "output_path": "DunnCounty_COVID19.ipynb",
   "parameters": {
    "Start": "True",
    "secretsPath": "/home/runner/work/_temp/secrets.json"
   },
   "start_time": "2020-09-15T10:09:59.965190",
   "version": "1.1.16"
  }
 },
 "nbformat": 4,
 "nbformat_minor": 2
}