{
 "cells": [
  {
   "cell_type": "code",
   "execution_count": 1,
   "metadata": {
    "execution": {
     "iopub.execute_input": "2020-11-14T10:09:08.348357Z",
     "iopub.status.busy": "2020-11-14T10:09:08.347383Z",
     "iopub.status.idle": "2020-11-14T10:09:11.445492Z",
     "shell.execute_reply": "2020-11-14T10:09:11.444530Z"
    },
    "jupyter": {
     "source_hidden": true
    },
    "papermill": {
     "duration": 3.116555,
     "end_time": "2020-11-14T10:09:11.445818",
     "exception": false,
     "start_time": "2020-11-14T10:09:08.329263",
     "status": "completed"
    },
    "scrolled": true,
    "tags": [
     "hide-input"
    ]
   },
   "outputs": [],
   "source": [
    "import pandas as pd\n",
    "import matplotlib.pyplot as plt\n",
    "from matplotlib import dates\n",
    "from IPython.display import display, Markdown\n",
    "%matplotlib inline"
   ]
  },
  {
   "cell_type": "code",
   "execution_count": 2,
   "metadata": {
    "execution": {
     "iopub.execute_input": "2020-11-14T10:09:11.470155Z",
     "iopub.status.busy": "2020-11-14T10:09:11.469563Z",
     "iopub.status.idle": "2020-11-14T10:09:12.375900Z",
     "shell.execute_reply": "2020-11-14T10:09:12.375194Z"
    },
    "jupyter": {
     "source_hidden": true
    },
    "papermill": {
     "duration": 0.920336,
     "end_time": "2020-11-14T10:09:12.376074",
     "exception": false,
     "start_time": "2020-11-14T10:09:11.455738",
     "status": "completed"
    },
    "scrolled": true,
    "tags": [
     "hide-input"
    ]
   },
   "outputs": [],
   "source": [
    "# This is the data for all of Wisconsin.\n",
    "url = \"https://opendata.arcgis.com/datasets/5374188992374b318d3e2305216ee413_12.csv\"\n",
    "data = pd.read_csv(url, parse_dates=['DATE'], low_memory=False)"
   ]
  },
  {
   "cell_type": "code",
   "execution_count": 3,
   "metadata": {
    "execution": {
     "iopub.execute_input": "2020-11-14T10:09:12.400524Z",
     "iopub.status.busy": "2020-11-14T10:09:12.399945Z",
     "iopub.status.idle": "2020-11-14T10:09:12.410137Z",
     "shell.execute_reply": "2020-11-14T10:09:12.410591Z"
    },
    "jupyter": {
     "source_hidden": true
    },
    "papermill": {
     "duration": 0.025237,
     "end_time": "2020-11-14T10:09:12.410744",
     "exception": false,
     "start_time": "2020-11-14T10:09:12.385507",
     "status": "completed"
    },
    "scrolled": true,
    "tags": [
     "hide-input"
    ]
   },
   "outputs": [],
   "source": [
    "dc = data.groupby('NAME').get_group('Dunn').sort_values(by='DATE') # Select the data for Dunn County from the full data.\n",
    "PNi = dc.columns.get_loc(\"POS_NEW\")\n",
    "dc['7_DAY'] = dc.iloc[:,PNi].rolling(window=7).mean() # Calculates the rolling 7-day average of new cases.\n",
    "dc['14_DAY'] = dc.iloc[:,PNi].rolling(window=14).mean() # Calculates the rolling 14-day average of new cases."
   ]
  },
  {
   "cell_type": "code",
   "execution_count": 4,
   "metadata": {
    "execution": {
     "iopub.execute_input": "2020-11-14T10:09:12.431719Z",
     "iopub.status.busy": "2020-11-14T10:09:12.431080Z",
     "iopub.status.idle": "2020-11-14T10:09:12.434907Z",
     "shell.execute_reply": "2020-11-14T10:09:12.435345Z"
    },
    "jupyter": {
     "source_hidden": true
    },
    "papermill": {
     "duration": 0.01774,
     "end_time": "2020-11-14T10:09:12.435491",
     "exception": false,
     "start_time": "2020-11-14T10:09:12.417751",
     "status": "completed"
    },
    "scrolled": true,
    "tags": [
     "hide-input"
    ]
   },
   "outputs": [
    {
     "data": {
      "text/markdown": [
       "### Last updated: November 13, 2020"
      ],
      "text/plain": [
       "<IPython.core.display.Markdown object>"
      ]
     },
     "metadata": {},
     "output_type": "display_data"
    }
   ],
   "source": [
    "display(Markdown('### Last updated: ' + dc.iloc[-1]['DATE'].strftime(\"%B %d, %Y\")))"
   ]
  },
  {
   "cell_type": "code",
   "execution_count": 5,
   "metadata": {
    "execution": {
     "iopub.execute_input": "2020-11-14T10:09:12.455632Z",
     "iopub.status.busy": "2020-11-14T10:09:12.455097Z",
     "iopub.status.idle": "2020-11-14T10:09:12.458160Z",
     "shell.execute_reply": "2020-11-14T10:09:12.457663Z"
    },
    "jupyter": {
     "source_hidden": true
    },
    "papermill": {
     "duration": 0.015242,
     "end_time": "2020-11-14T10:09:12.458281",
     "exception": false,
     "start_time": "2020-11-14T10:09:12.443039",
     "status": "completed"
    },
    "tags": [
     "hide-input"
    ]
   },
   "outputs": [
    {
     "data": {
      "text/markdown": [
       "# Dunn County has 1840 total positive cases, with 72 new cases reported today."
      ],
      "text/plain": [
       "<IPython.core.display.Markdown object>"
      ]
     },
     "metadata": {},
     "output_type": "display_data"
    }
   ],
   "source": [
    "display(Markdown('# Dunn County has ' + str(dc.iloc[-1]['POSITIVE']) + ' total positive cases, with '+ str(int(dc.iloc[-1]['POS_NEW'])) + ' new cases reported today.'))"
   ]
  },
  {
   "cell_type": "code",
   "execution_count": 6,
   "metadata": {
    "execution": {
     "iopub.execute_input": "2020-11-14T10:09:12.477586Z",
     "iopub.status.busy": "2020-11-14T10:09:12.477066Z",
     "iopub.status.idle": "2020-11-14T10:09:12.699083Z",
     "shell.execute_reply": "2020-11-14T10:09:12.698545Z"
    },
    "jupyter": {
     "source_hidden": true
    },
    "papermill": {
     "duration": 0.233145,
     "end_time": "2020-11-14T10:09:12.699212",
     "exception": false,
     "start_time": "2020-11-14T10:09:12.466067",
     "status": "completed"
    },
    "scrolled": false,
    "tags": [
     "hide-input"
    ]
   },
   "outputs": [
    {
     "data": {
      "image/png": "[encoded data removed]",
      "text/plain": [
       "<Figure size 864x432 with 1 Axes>"
      ]
     },
     "metadata": {
      "needs_background": "light"
     },
     "output_type": "display_data"
    }
   ],
   "source": [
    "dc.plot(x='DATE',y='POSITIVE',color='red',grid='True',figsize=(12,6)).set_xlabel('Date');"
   ]
  },
  {
   "cell_type": "markdown",
   "metadata": {
    "papermill": {
     "duration": 0.008949,
     "end_time": "2020-11-14T10:09:12.717300",
     "exception": false,
     "start_time": "2020-11-14T10:09:12.708351",
     "status": "completed"
    },
    "tags": []
   },
   "source": [
    "## Figure 1: Cummulative number of positive cases."
   ]
  },
  {
   "cell_type": "code",
   "execution_count": 7,
   "metadata": {
    "execution": {
     "iopub.execute_input": "2020-11-14T10:09:12.739834Z",
     "iopub.status.busy": "2020-11-14T10:09:12.739286Z",
     "iopub.status.idle": "2020-11-14T10:09:12.940727Z",
     "shell.execute_reply": "2020-11-14T10:09:12.941153Z"
    },
    "jupyter": {
     "source_hidden": true
    },
    "papermill": {
     "duration": 0.215424,
     "end_time": "2020-11-14T10:09:12.941320",
     "exception": false,
     "start_time": "2020-11-14T10:09:12.725896",
     "status": "completed"
    },
    "scrolled": false,
    "tags": [
     "hide-input"
    ]
   },
   "outputs": [
    {
     "data": {
      "image/png": "[encoded data removed]",
      "text/plain": [
       "<Figure size 864x432 with 1 Axes>"
      ]
     },
     "metadata": {
      "needs_background": "light"
     },
     "output_type": "display_data"
    }
   ],
   "source": [
    "dc.plot(kind='line',x='DATE',y='7_DAY',color='blue',grid='True',figsize=(12,6)).set_xlabel('Date');"
   ]
  },
  {
   "cell_type": "markdown",
   "metadata": {
    "papermill": {
     "duration": 0.009728,
     "end_time": "2020-11-14T10:09:12.961162",
     "exception": false,
     "start_time": "2020-11-14T10:09:12.951434",
     "status": "completed"
    },
    "tags": []
   },
   "source": [
    "## Figure 2: Rolling 7-day average of daily new cases."
   ]
  },
  {
   "cell_type": "code",
   "execution_count": 8,
   "metadata": {
    "execution": {
     "iopub.execute_input": "2020-11-14T10:09:13.012570Z",
     "iopub.status.busy": "2020-11-14T10:09:13.008375Z",
     "iopub.status.idle": "2020-11-14T10:09:13.189023Z",
     "shell.execute_reply": "2020-11-14T10:09:13.189466Z"
    },
    "jupyter": {
     "source_hidden": true
    },
    "papermill": {
     "duration": 0.218962,
     "end_time": "2020-11-14T10:09:13.189637",
     "exception": false,
     "start_time": "2020-11-14T10:09:12.970675",
     "status": "completed"
    },
    "tags": []
   },
   "outputs": [
    {
     "data": {
      "image/png": "[encoded data removed]",
      "text/plain": [
       "<Figure size 864x432 with 1 Axes>"
      ]
     },
     "metadata": {
      "needs_background": "light"
     },
     "output_type": "display_data"
    }
   ],
   "source": [
    "dc.plot(kind='line',x='DATE',y='14_DAY',color='green',grid='True',figsize=(12,6)).set_xlabel('Date');"
   ]
  },
  {
   "cell_type": "markdown",
   "metadata": {
    "papermill": {
     "duration": 0.010738,
     "end_time": "2020-11-14T10:09:13.211404",
     "exception": false,
     "start_time": "2020-11-14T10:09:13.200666",
     "status": "completed"
    },
    "tags": []
   },
   "source": [
    "## Figure 3: Rolling 14-day average of daily new cases."
   ]
  },
  {
   "cell_type": "markdown",
   "metadata": {
    "papermill": {
     "duration": 0.010478,
     "end_time": "2020-11-14T10:09:13.232525",
     "exception": false,
     "start_time": "2020-11-14T10:09:13.222047",
     "status": "completed"
    },
    "tags": []
   },
   "source": [
    "Data source: [Wisconsin Department of Health Services](https://data.dhsgis.wi.gov/datasets/covid-19-historical-data-table/)"
   ]
  },
  {
   "cell_type": "code",
   "execution_count": 9,
   "metadata": {
    "execution": {
     "iopub.execute_input": "2020-11-14T10:09:13.259206Z",
     "iopub.status.busy": "2020-11-14T10:09:13.258650Z",
     "iopub.status.idle": "2020-11-14T10:09:13.261044Z",
     "shell.execute_reply": "2020-11-14T10:09:13.261480Z"
    },
    "jupyter": {
     "source_hidden": true
    },
    "papermill": {
     "duration": 0.018534,
     "end_time": "2020-11-14T10:09:13.261630",
     "exception": false,
     "start_time": "2020-11-14T10:09:13.243096",
     "status": "completed"
    },
    "tags": []
   },
   "outputs": [
    {
     "data": {
      "text/html": [
       "<style>\n",
       "div.input {\n",
       "    display:none;\n",
       "}\n",
       "</style>\n"
      ],
      "text/plain": [
       "<IPython.core.display.HTML object>"
      ]
     },
     "metadata": {},
     "output_type": "display_data"
    }
   ],
   "source": [
    "%%html\n",
    "<style>\n",
    "div.input {\n",
    "    display:none;\n",
    "}\n",
    "</style>"
   ]
  }
 ],
 "metadata": {
  "kernelspec": {
   "display_name": "Python 3",
   "language": "python",
   "name": "python3"
  },
  "language_info": {
   "codemirror_mode": {
    "name": "ipython",
    "version": 3
   },
   "file_extension": ".py",
   "mimetype": "text/x-python",
   "name": "python",
   "nbconvert_exporter": "python",
   "pygments_lexer": "ipython3",
   "version": "3.8.6"
  },
  "papermill": {
   "duration": 7.876851,
   "end_time": "2020-11-14T10:09:14.567344",
   "environment_variables": {},
   "exception": null,
   "input_path": "DunnCounty_COVID19.ipynb",
   "output_path": "DunnCounty_COVID19.ipynb",
   "parameters": {
    "Start": "True",
    "secretsPath": "/home/runner/work/_temp/secrets.json"
   },
   "start_time": "2020-11-14T10:09:06.690493",
   "version": "1.1.16"
  }
 },
 "nbformat": 4,
 "nbformat_minor": 2
}