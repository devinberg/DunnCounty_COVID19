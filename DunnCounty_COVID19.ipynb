{
 "cells": [
  {
   "cell_type": "code",
   "execution_count": 1,
   "id": "solar-understanding",
   "metadata": {
    "execution": {
     "iopub.execute_input": "2021-01-27T22:13:06.637918Z",
     "iopub.status.busy": "2021-01-27T22:13:06.636038Z",
     "iopub.status.idle": "2021-01-27T22:13:08.889467Z",
     "shell.execute_reply": "2021-01-27T22:13:08.888351Z"
    },
    "jupyter": {
     "source_hidden": true
    },
    "papermill": {
     "duration": 2.274705,
     "end_time": "2021-01-27T22:13:08.889783",
     "exception": false,
     "start_time": "2021-01-27T22:13:06.615078",
     "status": "completed"
    },
    "scrolled": true,
    "tags": [
     "hide-input"
    ]
   },
   "outputs": [],
   "source": [
    "import pandas as pd\n",
    "import matplotlib.pyplot as plt\n",
    "from matplotlib import dates\n",
    "from IPython.display import display, Markdown\n",
    "%matplotlib inline"
   ]
  },
  {
   "cell_type": "code",
   "execution_count": 2,
   "id": "purple-playlist",
   "metadata": {
    "execution": {
     "iopub.execute_input": "2021-01-27T22:13:08.913499Z",
     "iopub.status.busy": "2021-01-27T22:13:08.912962Z",
     "iopub.status.idle": "2021-01-27T22:13:09.541891Z",
     "shell.execute_reply": "2021-01-27T22:13:09.541285Z"
    },
    "jupyter": {
     "source_hidden": true
    },
    "papermill": {
     "duration": 0.642825,
     "end_time": "2021-01-27T22:13:09.542022",
     "exception": false,
     "start_time": "2021-01-27T22:13:08.899197",
     "status": "completed"
    },
    "scrolled": true,
    "tags": [
     "hide-input"
    ]
   },
   "outputs": [],
   "source": [
    "# This is the data for all of Wisconsin.\n",
    "url = \"https://opendata.arcgis.com/datasets/5374188992374b318d3e2305216ee413_12.csv\"\n",
    "data = pd.read_csv(url, parse_dates=['DATE'], low_memory=False)"
   ]
  },
  {
   "cell_type": "code",
   "execution_count": 3,
   "id": "proprietary-klein",
   "metadata": {
    "execution": {
     "iopub.execute_input": "2021-01-27T22:13:09.565341Z",
     "iopub.status.busy": "2021-01-27T22:13:09.564792Z",
     "iopub.status.idle": "2021-01-27T22:13:09.572898Z",
     "shell.execute_reply": "2021-01-27T22:13:09.572367Z"
    },
    "jupyter": {
     "source_hidden": true
    },
    "papermill": {
     "duration": 0.022244,
     "end_time": "2021-01-27T22:13:09.573013",
     "exception": false,
     "start_time": "2021-01-27T22:13:09.550769",
     "status": "completed"
    },
    "scrolled": true,
    "tags": [
     "hide-input"
    ]
   },
   "outputs": [],
   "source": [
    "dc = data.groupby('NAME').get_group('Dunn').sort_values(by='DATE') # Select the data for Dunn County from the full data.\n",
    "PNi = dc.columns.get_loc(\"POS_NEW\")\n",
    "dc['7_DAY'] = dc.iloc[:,PNi].rolling(window=7).mean() # Calculates the rolling 7-day average of new cases.\n",
    "dc['14_DAY'] = dc.iloc[:,PNi].rolling(window=14).mean() # Calculates the rolling 14-day average of new cases."
   ]
  },
  {
   "cell_type": "code",
   "execution_count": 4,
   "id": "steady-supervision",
   "metadata": {
    "execution": {
     "iopub.execute_input": "2021-01-27T22:13:09.597314Z",
     "iopub.status.busy": "2021-01-27T22:13:09.596652Z",
     "iopub.status.idle": "2021-01-27T22:13:09.598998Z",
     "shell.execute_reply": "2021-01-27T22:13:09.599553Z"
    },
    "jupyter": {
     "source_hidden": true
    },
    "papermill": {
     "duration": 0.018281,
     "end_time": "2021-01-27T22:13:09.599721",
     "exception": false,
     "start_time": "2021-01-27T22:13:09.581440",
     "status": "completed"
    },
    "scrolled": true,
    "tags": [
     "hide-input"
    ]
   },
   "outputs": [
    {
     "data": {
      "text/markdown": [
       "### Last updated: January 27, 2021"
      ],
      "text/plain": [
       "<IPython.core.display.Markdown object>"
      ]
     },
     "metadata": {},
     "output_type": "display_data"
    }
   ],
   "source": [
    "display(Markdown('### Last updated: ' + dc.iloc[-1]['DATE'].strftime(\"%B %d, %Y\")))"
   ]
  },
  {
   "cell_type": "code",
   "execution_count": 5,
   "id": "lonely-pitch",
   "metadata": {
    "execution": {
     "iopub.execute_input": "2021-01-27T22:13:09.623298Z",
     "iopub.status.busy": "2021-01-27T22:13:09.622769Z",
     "iopub.status.idle": "2021-01-27T22:13:09.625546Z",
     "shell.execute_reply": "2021-01-27T22:13:09.625116Z"
    },
    "jupyter": {
     "source_hidden": true
    },
    "papermill": {
     "duration": 0.016839,
     "end_time": "2021-01-27T22:13:09.625667",
     "exception": false,
     "start_time": "2021-01-27T22:13:09.608828",
     "status": "completed"
    },
    "tags": [
     "hide-input"
    ]
   },
   "outputs": [
    {
     "data": {
      "text/markdown": [
       "# Dunn County has 3989 total positive cases, with 17 new cases reported today."
      ],
      "text/plain": [
       "<IPython.core.display.Markdown object>"
      ]
     },
     "metadata": {},
     "output_type": "display_data"
    }
   ],
   "source": [
    "display(Markdown('# Dunn County has ' + str(dc.iloc[-1]['POSITIVE']) + ' total positive cases, with '+ str(int(dc.iloc[-1]['POS_NEW'])) + ' new cases reported today.'))"
   ]
  },
  {
   "cell_type": "code",
   "execution_count": 6,
   "id": "compound-nightmare",
   "metadata": {
    "execution": {
     "iopub.execute_input": "2021-01-27T22:13:09.648333Z",
     "iopub.status.busy": "2021-01-27T22:13:09.647795Z",
     "iopub.status.idle": "2021-01-27T22:13:09.910420Z",
     "shell.execute_reply": "2021-01-27T22:13:09.911192Z"
    },
    "jupyter": {
     "source_hidden": true
    },
    "papermill": {
     "duration": 0.27657,
     "end_time": "2021-01-27T22:13:09.911471",
     "exception": false,
     "start_time": "2021-01-27T22:13:09.634901",
     "status": "completed"
    },
    "scrolled": false,
    "tags": [
     "hide-input"
    ]
   },
   "outputs": [
    {
     "data": {
      "image/png": "[encoded data removed]",
      "text/plain": [
       "<Figure size 864x432 with 1 Axes>"
      ]
     },
     "metadata": {
      "needs_background": "light"
     },
     "output_type": "display_data"
    }
   ],
   "source": [
    "dc.plot(x='DATE',y='POSITIVE',color='red',grid='True',figsize=(12,6)).set_xlabel('Date');"
   ]
  },
  {
   "cell_type": "markdown",
   "id": "coupled-literacy",
   "metadata": {
    "papermill": {
     "duration": 0.010649,
     "end_time": "2021-01-27T22:13:09.933744",
     "exception": false,
     "start_time": "2021-01-27T22:13:09.923095",
     "status": "completed"
    },
    "tags": []
   },
   "source": [
    "## Figure 1: Cummulative number of positive cases."
   ]
  },
  {
   "cell_type": "code",
   "execution_count": 7,
   "id": "surrounded-reserve",
   "metadata": {
    "execution": {
     "iopub.execute_input": "2021-01-27T22:13:09.960256Z",
     "iopub.status.busy": "2021-01-27T22:13:09.959725Z",
     "iopub.status.idle": "2021-01-27T22:13:10.194193Z",
     "shell.execute_reply": "2021-01-27T22:13:10.194942Z"
    },
    "jupyter": {
     "source_hidden": true
    },
    "papermill": {
     "duration": 0.251188,
     "end_time": "2021-01-27T22:13:10.195192",
     "exception": false,
     "start_time": "2021-01-27T22:13:09.944004",
     "status": "completed"
    },
    "scrolled": false,
    "tags": [
     "hide-input"
    ]
   },
   "outputs": [
    {
     "data": {
      "image/png": "[encoded data removed]",
      "text/plain": [
       "<Figure size 864x432 with 1 Axes>"
      ]
     },
     "metadata": {
      "needs_background": "light"
     },
     "output_type": "display_data"
    }
   ],
   "source": [
    "dc.plot(kind='line',x='DATE',y='7_DAY',color='blue',grid='True',figsize=(12,6)).set_xlabel('Date');"
   ]
  },
  {
   "cell_type": "markdown",
   "id": "professional-savannah",
   "metadata": {
    "papermill": {
     "duration": 0.011613,
     "end_time": "2021-01-27T22:13:10.219748",
     "exception": false,
     "start_time": "2021-01-27T22:13:10.208135",
     "status": "completed"
    },
    "tags": []
   },
   "source": [
    "## Figure 2: Rolling 7-day average of daily new cases."
   ]
  },
  {
   "cell_type": "code",
   "execution_count": 8,
   "id": "stretch-investor",
   "metadata": {
    "execution": {
     "iopub.execute_input": "2021-01-27T22:13:10.247194Z",
     "iopub.status.busy": "2021-01-27T22:13:10.246664Z",
     "iopub.status.idle": "2021-01-27T22:13:10.477387Z",
     "shell.execute_reply": "2021-01-27T22:13:10.478138Z"
    },
    "jupyter": {
     "source_hidden": true
    },
    "papermill": {
     "duration": 0.247451,
     "end_time": "2021-01-27T22:13:10.478384",
     "exception": false,
     "start_time": "2021-01-27T22:13:10.230933",
     "status": "completed"
    },
    "tags": []
   },
   "outputs": [
    {
     "data": {
      "image/png": "[encoded data removed]",
      "text/plain": [
       "<Figure size 864x432 with 1 Axes>"
      ]
     },
     "metadata": {
      "needs_background": "light"
     },
     "output_type": "display_data"
    }
   ],
   "source": [
    "dc.plot(kind='line',x='DATE',y='14_DAY',color='green',grid='True',figsize=(12,6)).set_xlabel('Date');"
   ]
  },
  {
   "cell_type": "markdown",
   "id": "prerequisite-species",
   "metadata": {
    "papermill": {
     "duration": 0.012658,
     "end_time": "2021-01-27T22:13:10.505359",
     "exception": false,
     "start_time": "2021-01-27T22:13:10.492701",
     "status": "completed"
    },
    "tags": []
   },
   "source": [
    "## Figure 3: Rolling 14-day average of daily new cases."
   ]
  },
  {
   "cell_type": "markdown",
   "id": "palestinian-guard",
   "metadata": {
    "papermill": {
     "duration": 0.012267,
     "end_time": "2021-01-27T22:13:10.529859",
     "exception": false,
     "start_time": "2021-01-27T22:13:10.517592",
     "status": "completed"
    },
    "tags": []
   },
   "source": [
    "Data source: [Wisconsin Department of Health Services](https://data.dhsgis.wi.gov/datasets/covid-19-historical-data-table/)"
   ]
  },
  {
   "cell_type": "code",
   "execution_count": 9,
   "id": "proof-medicare",
   "metadata": {
    "execution": {
     "iopub.execute_input": "2021-01-27T22:13:10.559904Z",
     "iopub.status.busy": "2021-01-27T22:13:10.559327Z",
     "iopub.status.idle": "2021-01-27T22:13:10.563429Z",
     "shell.execute_reply": "2021-01-27T22:13:10.562950Z"
    },
    "jupyter": {
     "source_hidden": true
    },
    "papermill": {
     "duration": 0.021637,
     "end_time": "2021-01-27T22:13:10.563550",
     "exception": false,
     "start_time": "2021-01-27T22:13:10.541913",
     "status": "completed"
    },
    "tags": []
   },
   "outputs": [
    {
     "data": {
      "text/html": [
       "<style>\n",
       "div.input {\n",
       "    display:none;\n",
       "}\n",
       "</style>\n"
      ],
      "text/plain": [
       "<IPython.core.display.HTML object>"
      ]
     },
     "metadata": {},
     "output_type": "display_data"
    }
   ],
   "source": [
    "%%html\n",
    "<style>\n",
    "div.input {\n",
    "    display:none;\n",
    "}\n",
    "</style>"
   ]
  }
 ],
 "metadata": {
  "kernelspec": {
   "display_name": "Python 3",
   "language": "python",
   "name": "python3"
  },
  "language_info": {
   "codemirror_mode": {
    "name": "ipython",
    "version": 3
   },
   "file_extension": ".py",
   "mimetype": "text/x-python",
   "name": "python",
   "nbconvert_exporter": "python",
   "pygments_lexer": "ipython3",
   "version": "3.8.6"
  },
  "papermill": {
   "duration": 6.985444,
   "end_time": "2021-01-27T22:13:11.741832",
   "environment_variables": {},
   "exception": null,
   "input_path": "DunnCounty_COVID19.ipynb",
   "output_path": "DunnCounty_COVID19.ipynb",
   "parameters": {
    "Start": "True",
    "secretsPath": "/home/runner/work/_temp/secrets.json"
   },
   "start_time": "2021-01-27T22:13:04.756388",
   "version": "1.1.16"
  }
 },
 "nbformat": 4,
 "nbformat_minor": 5
}