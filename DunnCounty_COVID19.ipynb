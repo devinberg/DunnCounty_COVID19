{
 "cells": [
  {
   "cell_type": "code",
   "execution_count": 1,
   "id": "solar-understanding",
   "metadata": {
    "execution": {
     "iopub.execute_input": "2021-07-15T22:11:15.935606Z",
     "iopub.status.busy": "2021-07-15T22:11:15.935049Z",
     "iopub.status.idle": "2021-07-15T22:11:16.859851Z",
     "shell.execute_reply": "2021-07-15T22:11:16.858716Z"
    },
    "jupyter": {
     "source_hidden": true
    },
    "papermill": {
     "duration": 0.946674,
     "end_time": "2021-07-15T22:11:16.860005",
     "exception": false,
     "start_time": "2021-07-15T22:11:15.913331",
     "status": "completed"
    },
    "scrolled": true,
    "tags": [
     "hide-input"
    ]
   },
   "outputs": [],
   "source": [
    "import pandas as pd\n",
    "import matplotlib.pyplot as plt\n",
    "from matplotlib import dates\n",
    "from IPython.display import display, Markdown\n",
    "%matplotlib inline"
   ]
  },
  {
   "cell_type": "code",
   "execution_count": 2,
   "id": "purple-playlist",
   "metadata": {
    "execution": {
     "iopub.execute_input": "2021-07-15T22:11:16.883812Z",
     "iopub.status.busy": "2021-07-15T22:11:16.883268Z",
     "iopub.status.idle": "2021-07-15T22:11:17.858748Z",
     "shell.execute_reply": "2021-07-15T22:11:17.857995Z"
    },
    "jupyter": {
     "source_hidden": true
    },
    "papermill": {
     "duration": 0.989642,
     "end_time": "2021-07-15T22:11:17.858877",
     "exception": false,
     "start_time": "2021-07-15T22:11:16.869235",
     "status": "completed"
    },
    "scrolled": true,
    "tags": [
     "hide-input"
    ]
   },
   "outputs": [],
   "source": [
    "# This is the data for all of Wisconsin.\n",
    "url = \"https://opendata.arcgis.com/api/v3/datasets/3161f6e01d8141c6abe85a29ff7f3d3c_12/downloads/data?format=csv&spatialRefId=3857\"\n",
    "data = pd.read_csv(url, parse_dates=['DATE'], low_memory=False)"
   ]
  },
  {
   "cell_type": "code",
   "execution_count": 3,
   "id": "proprietary-klein",
   "metadata": {
    "execution": {
     "iopub.execute_input": "2021-07-15T22:11:17.882633Z",
     "iopub.status.busy": "2021-07-15T22:11:17.881910Z",
     "iopub.status.idle": "2021-07-15T22:11:17.890912Z",
     "shell.execute_reply": "2021-07-15T22:11:17.890482Z"
    },
    "jupyter": {
     "source_hidden": true
    },
    "papermill": {
     "duration": 0.023468,
     "end_time": "2021-07-15T22:11:17.891016",
     "exception": false,
     "start_time": "2021-07-15T22:11:17.867548",
     "status": "completed"
    },
    "scrolled": true,
    "tags": [
     "hide-input"
    ]
   },
   "outputs": [],
   "source": [
    "dc = data.groupby('NAME').get_group('Dunn').sort_values(by='DATE') # Select the data for Dunn County from the full data.\n",
    "PNi = dc.columns.get_loc(\"POS_NEW\")\n",
    "dc['7_DAY'] = dc.iloc[:,PNi].rolling(window=7).mean() # Calculates the rolling 7-day average of new cases.\n",
    "dc['14_DAY'] = dc.iloc[:,PNi].rolling(window=14).mean() # Calculates the rolling 14-day average of new cases."
   ]
  },
  {
   "cell_type": "code",
   "execution_count": 4,
   "id": "steady-supervision",
   "metadata": {
    "execution": {
     "iopub.execute_input": "2021-07-15T22:11:17.914421Z",
     "iopub.status.busy": "2021-07-15T22:11:17.913859Z",
     "iopub.status.idle": "2021-07-15T22:11:17.916420Z",
     "shell.execute_reply": "2021-07-15T22:11:17.916816Z"
    },
    "jupyter": {
     "source_hidden": true
    },
    "papermill": {
     "duration": 0.018303,
     "end_time": "2021-07-15T22:11:17.916935",
     "exception": false,
     "start_time": "2021-07-15T22:11:17.898632",
     "status": "completed"
    },
    "scrolled": true,
    "tags": [
     "hide-input"
    ]
   },
   "outputs": [
    {
     "data": {
      "text/markdown": [
       "### Last updated: July 15, 2021"
      ],
      "text/plain": [
       "<IPython.core.display.Markdown object>"
      ]
     },
     "metadata": {},
     "output_type": "display_data"
    }
   ],
   "source": [
    "display(Markdown('### Last updated: ' + dc.iloc[-1]['DATE'].strftime(\"%B %d, %Y\")))"
   ]
  },
  {
   "cell_type": "code",
   "execution_count": 5,
   "id": "lonely-pitch",
   "metadata": {
    "execution": {
     "iopub.execute_input": "2021-07-15T22:11:17.939177Z",
     "iopub.status.busy": "2021-07-15T22:11:17.937717Z",
     "iopub.status.idle": "2021-07-15T22:11:17.942794Z",
     "shell.execute_reply": "2021-07-15T22:11:17.942314Z"
    },
    "jupyter": {
     "source_hidden": true
    },
    "papermill": {
     "duration": 0.017464,
     "end_time": "2021-07-15T22:11:17.942897",
     "exception": false,
     "start_time": "2021-07-15T22:11:17.925433",
     "status": "completed"
    },
    "tags": [
     "hide-input"
    ]
   },
   "outputs": [
    {
     "data": {
      "text/markdown": [
       "# Dunn County has 4737 total positive cases, with -1 new cases reported today."
      ],
      "text/plain": [
       "<IPython.core.display.Markdown object>"
      ]
     },
     "metadata": {},
     "output_type": "display_data"
    }
   ],
   "source": [
    "display(Markdown('# Dunn County has ' + str(dc.iloc[-1]['POSITIVE']) + ' total positive cases, with '+ str(int(dc.iloc[-1]['POS_NEW'])) + ' new cases reported today.'))"
   ]
  },
  {
   "cell_type": "code",
   "execution_count": 6,
   "id": "compound-nightmare",
   "metadata": {
    "execution": {
     "iopub.execute_input": "2021-07-15T22:11:17.965702Z",
     "iopub.status.busy": "2021-07-15T22:11:17.965175Z",
     "iopub.status.idle": "2021-07-15T22:11:18.318577Z",
     "shell.execute_reply": "2021-07-15T22:11:18.319298Z"
    },
    "jupyter": {
     "source_hidden": true
    },
    "papermill": {
     "duration": 0.367546,
     "end_time": "2021-07-15T22:11:18.319463",
     "exception": false,
     "start_time": "2021-07-15T22:11:17.951917",
     "status": "completed"
    },
    "scrolled": false,
    "tags": [
     "hide-input"
    ]
   },
   "outputs": [
    {
     "data": {
      "image/png": "[encoded data removed]",
      "text/plain": [
       "<Figure size 864x432 with 1 Axes>"
      ]
     },
     "metadata": {
      "needs_background": "light"
     },
     "output_type": "display_data"
    }
   ],
   "source": [
    "dc.plot(x='DATE',y='POSITIVE',color='red',grid='True',figsize=(12,6)).set_xlabel('Date');"
   ]
  },
  {
   "cell_type": "markdown",
   "id": "coupled-literacy",
   "metadata": {
    "papermill": {
     "duration": 0.010272,
     "end_time": "2021-07-15T22:11:18.340073",
     "exception": false,
     "start_time": "2021-07-15T22:11:18.329801",
     "status": "completed"
    },
    "tags": []
   },
   "source": [
    "## Figure 1: Cummulative number of positive cases."
   ]
  },
  {
   "cell_type": "code",
   "execution_count": 7,
   "id": "surrounded-reserve",
   "metadata": {
    "execution": {
     "iopub.execute_input": "2021-07-15T22:11:18.381074Z",
     "iopub.status.busy": "2021-07-15T22:11:18.380299Z",
     "iopub.status.idle": "2021-07-15T22:11:18.572535Z",
     "shell.execute_reply": "2021-07-15T22:11:18.571720Z"
    },
    "jupyter": {
     "source_hidden": true
    },
    "papermill": {
     "duration": 0.222926,
     "end_time": "2021-07-15T22:11:18.572661",
     "exception": false,
     "start_time": "2021-07-15T22:11:18.349735",
     "status": "completed"
    },
    "scrolled": false,
    "tags": [
     "hide-input"
    ]
   },
   "outputs": [
    {
     "data": {
      "image/png": "[encoded data removed]",
      "text/plain": [
       "<Figure size 864x432 with 1 Axes>"
      ]
     },
     "metadata": {
      "needs_background": "light"
     },
     "output_type": "display_data"
    }
   ],
   "source": [
    "dc.plot(kind='line',x='DATE',y='7_DAY',color='blue',grid='True',figsize=(12,6)).set_xlabel('Date');"
   ]
  },
  {
   "cell_type": "markdown",
   "id": "professional-savannah",
   "metadata": {
    "papermill": {
     "duration": 0.010463,
     "end_time": "2021-07-15T22:11:18.594194",
     "exception": false,
     "start_time": "2021-07-15T22:11:18.583731",
     "status": "completed"
    },
    "tags": []
   },
   "source": [
    "## Figure 2: Rolling 7-day average of daily new cases."
   ]
  },
  {
   "cell_type": "code",
   "execution_count": 8,
   "id": "stretch-investor",
   "metadata": {
    "execution": {
     "iopub.execute_input": "2021-07-15T22:11:18.638830Z",
     "iopub.status.busy": "2021-07-15T22:11:18.629268Z",
     "iopub.status.idle": "2021-07-15T22:11:18.822346Z",
     "shell.execute_reply": "2021-07-15T22:11:18.821917Z"
    },
    "jupyter": {
     "source_hidden": true
    },
    "papermill": {
     "duration": 0.217154,
     "end_time": "2021-07-15T22:11:18.822463",
     "exception": false,
     "start_time": "2021-07-15T22:11:18.605309",
     "status": "completed"
    },
    "tags": []
   },
   "outputs": [
    {
     "data": {
      "image/png": "[encoded data removed]",
      "text/plain": [
       "<Figure size 864x432 with 1 Axes>"
      ]
     },
     "metadata": {
      "needs_background": "light"
     },
     "output_type": "display_data"
    }
   ],
   "source": [
    "dc.plot(kind='line',x='DATE',y='14_DAY',color='green',grid='True',figsize=(12,6)).set_xlabel('Date');"
   ]
  },
  {
   "cell_type": "markdown",
   "id": "prerequisite-species",
   "metadata": {
    "papermill": {
     "duration": 0.012538,
     "end_time": "2021-07-15T22:11:18.847329",
     "exception": false,
     "start_time": "2021-07-15T22:11:18.834791",
     "status": "completed"
    },
    "tags": []
   },
   "source": [
    "## Figure 3: Rolling 14-day average of daily new cases."
   ]
  },
  {
   "cell_type": "markdown",
   "id": "palestinian-guard",
   "metadata": {
    "papermill": {
     "duration": 0.011615,
     "end_time": "2021-07-15T22:11:18.871110",
     "exception": false,
     "start_time": "2021-07-15T22:11:18.859495",
     "status": "completed"
    },
    "tags": []
   },
   "source": [
    "Data source: [Wisconsin Department of Health Services](https://data.dhsgis.wi.gov/datasets/wi-dhs::covid-19-historical-data-by-county-1)"
   ]
  },
  {
   "cell_type": "code",
   "execution_count": 9,
   "id": "proof-medicare",
   "metadata": {
    "execution": {
     "iopub.execute_input": "2021-07-15T22:11:18.900960Z",
     "iopub.status.busy": "2021-07-15T22:11:18.900334Z",
     "iopub.status.idle": "2021-07-15T22:11:18.904399Z",
     "shell.execute_reply": "2021-07-15T22:11:18.903880Z"
    },
    "jupyter": {
     "source_hidden": true
    },
    "papermill": {
     "duration": 0.02154,
     "end_time": "2021-07-15T22:11:18.904502",
     "exception": false,
     "start_time": "2021-07-15T22:11:18.882962",
     "status": "completed"
    },
    "tags": []
   },
   "outputs": [
    {
     "data": {
      "text/html": [
       "<style>\n",
       "div.input {\n",
       "    display:none;\n",
       "}\n",
       "</style>\n"
      ],
      "text/plain": [
       "<IPython.core.display.HTML object>"
      ]
     },
     "metadata": {},
     "output_type": "display_data"
    }
   ],
   "source": [
    "%%html\n",
    "<style>\n",
    "div.input {\n",
    "    display:none;\n",
    "}\n",
    "</style>"
   ]
  }
 ],
 "metadata": {
  "kernelspec": {
   "display_name": "Python 3",
   "language": "python",
   "name": "python3"
  },
  "language_info": {
   "codemirror_mode": {
    "name": "ipython",
    "version": 3
   },
   "file_extension": ".py",
   "mimetype": "text/x-python",
   "name": "python",
   "nbconvert_exporter": "python",
   "pygments_lexer": "ipython3",
   "version": "3.8.11"
  },
  "papermill": {
   "duration": 5.70801,
   "end_time": "2021-07-15T22:11:20.075078",
   "environment_variables": {},
   "exception": null,
   "input_path": "DunnCounty_COVID19.ipynb",
   "output_path": "DunnCounty_COVID19.ipynb",
   "parameters": {
    "Start": "True",
    "secretsPath": "/home/runner/work/_temp/secrets.json"
   },
   "start_time": "2021-07-15T22:11:14.367068",
   "version": "1.1.16"
  }
 },
 "nbformat": 4,
 "nbformat_minor": 5
}