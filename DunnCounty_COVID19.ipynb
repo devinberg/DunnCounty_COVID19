{
 "cells": [
  {
   "cell_type": "code",
   "execution_count": 1,
   "metadata": {
    "execution": {
     "iopub.execute_input": "2020-09-28T10:10:15.502599Z",
     "iopub.status.busy": "2020-09-28T10:10:15.501991Z",
     "iopub.status.idle": "2020-09-28T10:10:16.616389Z",
     "shell.execute_reply": "2020-09-28T10:10:16.615221Z"
    },
    "jupyter": {
     "source_hidden": true
    },
    "papermill": {
     "duration": 1.127815,
     "end_time": "2020-09-28T10:10:16.616595",
     "exception": false,
     "start_time": "2020-09-28T10:10:15.488780",
     "status": "completed"
    },
    "scrolled": true,
    "tags": [
     "hide-input"
    ]
   },
   "outputs": [],
   "source": [
    "import pandas as pd\n",
    "import matplotlib.pyplot as plt\n",
    "from matplotlib import dates\n",
    "from IPython.display import display, Markdown\n",
    "%matplotlib inline"
   ]
  },
  {
   "cell_type": "code",
   "execution_count": 2,
   "metadata": {
    "execution": {
     "iopub.execute_input": "2020-09-28T10:10:16.636945Z",
     "iopub.status.busy": "2020-09-28T10:10:16.636375Z",
     "iopub.status.idle": "2020-09-28T10:10:19.746411Z",
     "shell.execute_reply": "2020-09-28T10:10:19.745913Z"
    },
    "jupyter": {
     "source_hidden": true
    },
    "papermill": {
     "duration": 3.122463,
     "end_time": "2020-09-28T10:10:19.746552",
     "exception": false,
     "start_time": "2020-09-28T10:10:16.624089",
     "status": "completed"
    },
    "scrolled": true,
    "tags": [
     "hide-input"
    ]
   },
   "outputs": [],
   "source": [
    "# This is the data for all of Wisconsin.\n",
    "url = \"https://opendata.arcgis.com/datasets/b913e9591eae4912b33dc5b4e88646c5_10.csv\"\n",
    "data = pd.read_csv(url, parse_dates=['DATE'], low_memory=False)"
   ]
  },
  {
   "cell_type": "code",
   "execution_count": 3,
   "metadata": {
    "execution": {
     "iopub.execute_input": "2020-09-28T10:10:19.787500Z",
     "iopub.status.busy": "2020-09-28T10:10:19.786909Z",
     "iopub.status.idle": "2020-09-28T10:10:19.797259Z",
     "shell.execute_reply": "2020-09-28T10:10:19.796775Z"
    },
    "jupyter": {
     "source_hidden": true
    },
    "papermill": {
     "duration": 0.041773,
     "end_time": "2020-09-28T10:10:19.797390",
     "exception": false,
     "start_time": "2020-09-28T10:10:19.755617",
     "status": "completed"
    },
    "scrolled": true,
    "tags": [
     "hide-input"
    ]
   },
   "outputs": [],
   "source": [
    "dc = data.groupby('NAME').get_group('Dunn').sort_values(by='DATE') # Select the data for Dunn County from the full data.\n",
    "PNi = dc.columns.get_loc(\"POS_NEW\")\n",
    "dc['7_DAY'] = dc.iloc[:,PNi].rolling(window=7).mean() # Calculates the rolling 7-day average of new cases.\n",
    "dc['14_DAY'] = dc.iloc[:,PNi].rolling(window=14).mean() # Calculates the rolling 14-day average of new cases."
   ]
  },
  {
   "cell_type": "code",
   "execution_count": 4,
   "metadata": {
    "execution": {
     "iopub.execute_input": "2020-09-28T10:10:19.818188Z",
     "iopub.status.busy": "2020-09-28T10:10:19.817648Z",
     "iopub.status.idle": "2020-09-28T10:10:19.824109Z",
     "shell.execute_reply": "2020-09-28T10:10:19.823618Z"
    },
    "jupyter": {
     "source_hidden": true
    },
    "papermill": {
     "duration": 0.019483,
     "end_time": "2020-09-28T10:10:19.824229",
     "exception": false,
     "start_time": "2020-09-28T10:10:19.804746",
     "status": "completed"
    },
    "scrolled": true,
    "tags": [
     "hide-input"
    ]
   },
   "outputs": [
    {
     "data": {
      "text/markdown": [
       "### Last updated: September 27, 2020"
      ],
      "text/plain": [
       "<IPython.core.display.Markdown object>"
      ]
     },
     "metadata": {},
     "output_type": "display_data"
    }
   ],
   "source": [
    "display(Markdown('### Last updated: ' + dc.iloc[-1]['DATE'].strftime(\"%B %d, %Y\")))"
   ]
  },
  {
   "cell_type": "code",
   "execution_count": 5,
   "metadata": {
    "execution": {
     "iopub.execute_input": "2020-09-28T10:10:19.845244Z",
     "iopub.status.busy": "2020-09-28T10:10:19.844685Z",
     "iopub.status.idle": "2020-09-28T10:10:19.848260Z",
     "shell.execute_reply": "2020-09-28T10:10:19.847793Z"
    },
    "jupyter": {
     "source_hidden": true
    },
    "papermill": {
     "duration": 0.016481,
     "end_time": "2020-09-28T10:10:19.848377",
     "exception": false,
     "start_time": "2020-09-28T10:10:19.831896",
     "status": "completed"
    },
    "tags": [
     "hide-input"
    ]
   },
   "outputs": [
    {
     "data": {
      "text/markdown": [
       "# Dunn County has 527 total positive cases, with 29 new cases reported today."
      ],
      "text/plain": [
       "<IPython.core.display.Markdown object>"
      ]
     },
     "metadata": {},
     "output_type": "display_data"
    }
   ],
   "source": [
    "display(Markdown('# Dunn County has ' + str(dc.iloc[-1]['POSITIVE']) + ' total positive cases, with '+ str(int(dc.iloc[-1]['POS_NEW'])) + ' new cases reported today.'))"
   ]
  },
  {
   "cell_type": "code",
   "execution_count": 6,
   "metadata": {
    "execution": {
     "iopub.execute_input": "2020-09-28T10:10:19.868292Z",
     "iopub.status.busy": "2020-09-28T10:10:19.867765Z",
     "iopub.status.idle": "2020-09-28T10:10:20.079001Z",
     "shell.execute_reply": "2020-09-28T10:10:20.079475Z"
    },
    "jupyter": {
     "source_hidden": true
    },
    "papermill": {
     "duration": 0.22329,
     "end_time": "2020-09-28T10:10:20.079637",
     "exception": false,
     "start_time": "2020-09-28T10:10:19.856347",
     "status": "completed"
    },
    "scrolled": false,
    "tags": [
     "hide-input"
    ]
   },
   "outputs": [
    {
     "data": {
      "image/png": "[encoded data removed]",
      "text/plain": [
       "<Figure size 864x432 with 1 Axes>"
      ]
     },
     "metadata": {
      "needs_background": "light"
     },
     "output_type": "display_data"
    }
   ],
   "source": [
    "dc.plot(x='DATE',y='POSITIVE',color='red',grid='True',figsize=(12,6)).set_xlabel('Date');"
   ]
  },
  {
   "cell_type": "markdown",
   "metadata": {
    "papermill": {
     "duration": 0.009069,
     "end_time": "2020-09-28T10:10:20.098067",
     "exception": false,
     "start_time": "2020-09-28T10:10:20.088998",
     "status": "completed"
    },
    "tags": []
   },
   "source": [
    "## Figure 1: Cummulative number of positive cases."
   ]
  },
  {
   "cell_type": "code",
   "execution_count": 7,
   "metadata": {
    "execution": {
     "iopub.execute_input": "2020-09-28T10:10:20.121844Z",
     "iopub.status.busy": "2020-09-28T10:10:20.121253Z",
     "iopub.status.idle": "2020-09-28T10:10:20.313620Z",
     "shell.execute_reply": "2020-09-28T10:10:20.314226Z"
    },
    "jupyter": {
     "source_hidden": true
    },
    "papermill": {
     "duration": 0.208102,
     "end_time": "2020-09-28T10:10:20.314821",
     "exception": false,
     "start_time": "2020-09-28T10:10:20.106719",
     "status": "completed"
    },
    "scrolled": false,
    "tags": [
     "hide-input"
    ]
   },
   "outputs": [
    {
     "data": {
      "image/png": "[encoded data removed]",
      "text/plain": [
       "<Figure size 864x432 with 1 Axes>"
      ]
     },
     "metadata": {
      "needs_background": "light"
     },
     "output_type": "display_data"
    }
   ],
   "source": [
    "dc.plot(kind='line',x='DATE',y='7_DAY',color='blue',grid='True',figsize=(12,6)).set_xlabel('Date');"
   ]
  },
  {
   "cell_type": "markdown",
   "metadata": {
    "papermill": {
     "duration": 0.010768,
     "end_time": "2020-09-28T10:10:20.335811",
     "exception": false,
     "start_time": "2020-09-28T10:10:20.325043",
     "status": "completed"
    },
    "tags": []
   },
   "source": [
    "## Figure 2: Rolling 7-day average of daily new cases."
   ]
  },
  {
   "cell_type": "code",
   "execution_count": 8,
   "metadata": {
    "execution": {
     "iopub.execute_input": "2020-09-28T10:10:20.361176Z",
     "iopub.status.busy": "2020-09-28T10:10:20.360628Z",
     "iopub.status.idle": "2020-09-28T10:10:20.584576Z",
     "shell.execute_reply": "2020-09-28T10:10:20.585141Z"
    },
    "jupyter": {
     "source_hidden": true
    },
    "papermill": {
     "duration": 0.240148,
     "end_time": "2020-09-28T10:10:20.585339",
     "exception": false,
     "start_time": "2020-09-28T10:10:20.345191",
     "status": "completed"
    },
    "tags": []
   },
   "outputs": [
    {
     "data": {
      "image/png": "[encoded data removed]",
      "text/plain": [
       "<Figure size 864x432 with 1 Axes>"
      ]
     },
     "metadata": {
      "needs_background": "light"
     },
     "output_type": "display_data"
    }
   ],
   "source": [
    "dc.plot(kind='line',x='DATE',y='14_DAY',color='green',grid='True',figsize=(12,6)).set_xlabel('Date');"
   ]
  },
  {
   "cell_type": "markdown",
   "metadata": {
    "papermill": {
     "duration": 0.010617,
     "end_time": "2020-09-28T10:10:20.608089",
     "exception": false,
     "start_time": "2020-09-28T10:10:20.597472",
     "status": "completed"
    },
    "tags": []
   },
   "source": [
    "## Figure 3: Rolling 14-day average of daily new cases."
   ]
  },
  {
   "cell_type": "markdown",
   "metadata": {
    "papermill": {
     "duration": 0.010269,
     "end_time": "2020-09-28T10:10:20.628819",
     "exception": false,
     "start_time": "2020-09-28T10:10:20.618550",
     "status": "completed"
    },
    "tags": []
   },
   "source": [
    "Data source: [Wisconsin Department of Health Services](https://data.dhsgis.wi.gov/datasets/covid-19-historical-data-table/)"
   ]
  },
  {
   "cell_type": "code",
   "execution_count": 9,
   "metadata": {
    "execution": {
     "iopub.execute_input": "2020-09-28T10:10:20.655055Z",
     "iopub.status.busy": "2020-09-28T10:10:20.654479Z",
     "iopub.status.idle": "2020-09-28T10:10:20.657599Z",
     "shell.execute_reply": "2020-09-28T10:10:20.657131Z"
    },
    "jupyter": {
     "source_hidden": true
    },
    "papermill": {
     "duration": 0.018701,
     "end_time": "2020-09-28T10:10:20.657715",
     "exception": false,
     "start_time": "2020-09-28T10:10:20.639014",
     "status": "completed"
    },
    "tags": []
   },
   "outputs": [
    {
     "data": {
      "text/html": [
       "<style>\n",
       "div.input {\n",
       "    display:none;\n",
       "}\n",
       "</style>\n"
      ],
      "text/plain": [
       "<IPython.core.display.HTML object>"
      ]
     },
     "metadata": {},
     "output_type": "display_data"
    }
   ],
   "source": [
    "%%html\n",
    "<style>\n",
    "div.input {\n",
    "    display:none;\n",
    "}\n",
    "</style>"
   ]
  }
 ],
 "metadata": {
  "kernelspec": {
   "display_name": "Python 3",
   "language": "python",
   "name": "python3"
  },
  "language_info": {
   "codemirror_mode": {
    "name": "ipython",
    "version": 3
   },
   "file_extension": ".py",
   "mimetype": "text/x-python",
   "name": "python",
   "nbconvert_exporter": "python",
   "pygments_lexer": "ipython3",
   "version": "3.8.5"
  },
  "papermill": {
   "duration": 6.795232,
   "end_time": "2020-09-28T10:10:20.976973",
   "environment_variables": {},
   "exception": null,
   "input_path": "DunnCounty_COVID19.ipynb",
   "output_path": "DunnCounty_COVID19.ipynb",
   "parameters": {
    "Start": "True",
    "secretsPath": "/home/runner/work/_temp/secrets.json"
   },
   "start_time": "2020-09-28T10:10:14.181741",
   "version": "1.1.16"
  }
 },
 "nbformat": 4,
 "nbformat_minor": 2
}