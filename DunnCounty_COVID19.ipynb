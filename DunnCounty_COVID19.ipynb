{
 "cells": [
  {
   "cell_type": "code",
   "execution_count": 1,
   "metadata": {
    "execution": {
     "iopub.execute_input": "2020-12-20T10:13:18.064759Z",
     "iopub.status.busy": "2020-12-20T10:13:18.064155Z",
     "iopub.status.idle": "2020-12-20T10:13:20.912926Z",
     "shell.execute_reply": "2020-12-20T10:13:20.912226Z"
    },
    "jupyter": {
     "source_hidden": true
    },
    "papermill": {
     "duration": 2.866262,
     "end_time": "2020-12-20T10:13:20.913159",
     "exception": false,
     "start_time": "2020-12-20T10:13:18.046897",
     "status": "completed"
    },
    "scrolled": true,
    "tags": [
     "hide-input"
    ]
   },
   "outputs": [],
   "source": [
    "import pandas as pd\n",
    "import matplotlib.pyplot as plt\n",
    "from matplotlib import dates\n",
    "from IPython.display import display, Markdown\n",
    "%matplotlib inline"
   ]
  },
  {
   "cell_type": "code",
   "execution_count": 2,
   "metadata": {
    "execution": {
     "iopub.execute_input": "2020-12-20T10:13:20.936269Z",
     "iopub.status.busy": "2020-12-20T10:13:20.935560Z",
     "iopub.status.idle": "2020-12-20T10:13:21.645139Z",
     "shell.execute_reply": "2020-12-20T10:13:21.645645Z"
    },
    "jupyter": {
     "source_hidden": true
    },
    "papermill": {
     "duration": 0.723867,
     "end_time": "2020-12-20T10:13:21.645838",
     "exception": false,
     "start_time": "2020-12-20T10:13:20.921971",
     "status": "completed"
    },
    "scrolled": true,
    "tags": [
     "hide-input"
    ]
   },
   "outputs": [],
   "source": [
    "# This is the data for all of Wisconsin.\n",
    "url = \"https://opendata.arcgis.com/datasets/5374188992374b318d3e2305216ee413_12.csv\"\n",
    "data = pd.read_csv(url, parse_dates=['DATE'], low_memory=False)"
   ]
  },
  {
   "cell_type": "code",
   "execution_count": 3,
   "metadata": {
    "execution": {
     "iopub.execute_input": "2020-12-20T10:13:21.672891Z",
     "iopub.status.busy": "2020-12-20T10:13:21.671112Z",
     "iopub.status.idle": "2020-12-20T10:13:21.680980Z",
     "shell.execute_reply": "2020-12-20T10:13:21.681478Z"
    },
    "jupyter": {
     "source_hidden": true
    },
    "papermill": {
     "duration": 0.027174,
     "end_time": "2020-12-20T10:13:21.681689",
     "exception": false,
     "start_time": "2020-12-20T10:13:21.654515",
     "status": "completed"
    },
    "scrolled": true,
    "tags": [
     "hide-input"
    ]
   },
   "outputs": [],
   "source": [
    "dc = data.groupby('NAME').get_group('Dunn').sort_values(by='DATE') # Select the data for Dunn County from the full data.\n",
    "PNi = dc.columns.get_loc(\"POS_NEW\")\n",
    "dc['7_DAY'] = dc.iloc[:,PNi].rolling(window=7).mean() # Calculates the rolling 7-day average of new cases.\n",
    "dc['14_DAY'] = dc.iloc[:,PNi].rolling(window=14).mean() # Calculates the rolling 14-day average of new cases."
   ]
  },
  {
   "cell_type": "code",
   "execution_count": 4,
   "metadata": {
    "execution": {
     "iopub.execute_input": "2020-12-20T10:13:21.705779Z",
     "iopub.status.busy": "2020-12-20T10:13:21.705218Z",
     "iopub.status.idle": "2020-12-20T10:13:21.708545Z",
     "shell.execute_reply": "2020-12-20T10:13:21.709108Z"
    },
    "jupyter": {
     "source_hidden": true
    },
    "papermill": {
     "duration": 0.01919,
     "end_time": "2020-12-20T10:13:21.709341",
     "exception": false,
     "start_time": "2020-12-20T10:13:21.690151",
     "status": "completed"
    },
    "scrolled": true,
    "tags": [
     "hide-input"
    ]
   },
   "outputs": [
    {
     "data": {
      "text/markdown": [
       "### Last updated: December 19, 2020"
      ],
      "text/plain": [
       "<IPython.core.display.Markdown object>"
      ]
     },
     "metadata": {},
     "output_type": "display_data"
    }
   ],
   "source": [
    "display(Markdown('### Last updated: ' + dc.iloc[-1]['DATE'].strftime(\"%B %d, %Y\")))"
   ]
  },
  {
   "cell_type": "code",
   "execution_count": 5,
   "metadata": {
    "execution": {
     "iopub.execute_input": "2020-12-20T10:13:21.737839Z",
     "iopub.status.busy": "2020-12-20T10:13:21.737275Z",
     "iopub.status.idle": "2020-12-20T10:13:21.740632Z",
     "shell.execute_reply": "2020-12-20T10:13:21.740159Z"
    },
    "jupyter": {
     "source_hidden": true
    },
    "papermill": {
     "duration": 0.016968,
     "end_time": "2020-12-20T10:13:21.740747",
     "exception": false,
     "start_time": "2020-12-20T10:13:21.723779",
     "status": "completed"
    },
    "tags": [
     "hide-input"
    ]
   },
   "outputs": [
    {
     "data": {
      "text/markdown": [
       "# Dunn County has 3290 total positive cases, with 18 new cases reported today."
      ],
      "text/plain": [
       "<IPython.core.display.Markdown object>"
      ]
     },
     "metadata": {},
     "output_type": "display_data"
    }
   ],
   "source": [
    "display(Markdown('# Dunn County has ' + str(dc.iloc[-1]['POSITIVE']) + ' total positive cases, with '+ str(int(dc.iloc[-1]['POS_NEW'])) + ' new cases reported today.'))"
   ]
  },
  {
   "cell_type": "code",
   "execution_count": 6,
   "metadata": {
    "execution": {
     "iopub.execute_input": "2020-12-20T10:13:21.763315Z",
     "iopub.status.busy": "2020-12-20T10:13:21.762693Z",
     "iopub.status.idle": "2020-12-20T10:13:22.054028Z",
     "shell.execute_reply": "2020-12-20T10:13:22.054498Z"
    },
    "jupyter": {
     "source_hidden": true
    },
    "papermill": {
     "duration": 0.304589,
     "end_time": "2020-12-20T10:13:22.054664",
     "exception": false,
     "start_time": "2020-12-20T10:13:21.750075",
     "status": "completed"
    },
    "scrolled": false,
    "tags": [
     "hide-input"
    ]
   },
   "outputs": [
    {
     "data": {
      "image/png": "[encoded data removed]",
      "text/plain": [
       "<Figure size 864x432 with 1 Axes>"
      ]
     },
     "metadata": {
      "needs_background": "light"
     },
     "output_type": "display_data"
    }
   ],
   "source": [
    "dc.plot(x='DATE',y='POSITIVE',color='red',grid='True',figsize=(12,6)).set_xlabel('Date');"
   ]
  },
  {
   "cell_type": "markdown",
   "metadata": {
    "papermill": {
     "duration": 0.009172,
     "end_time": "2020-12-20T10:13:22.073168",
     "exception": false,
     "start_time": "2020-12-20T10:13:22.063996",
     "status": "completed"
    },
    "tags": []
   },
   "source": [
    "## Figure 1: Cummulative number of positive cases."
   ]
  },
  {
   "cell_type": "code",
   "execution_count": 7,
   "metadata": {
    "execution": {
     "iopub.execute_input": "2020-12-20T10:13:22.099268Z",
     "iopub.status.busy": "2020-12-20T10:13:22.098625Z",
     "iopub.status.idle": "2020-12-20T10:13:22.397924Z",
     "shell.execute_reply": "2020-12-20T10:13:22.398347Z"
    },
    "jupyter": {
     "source_hidden": true
    },
    "papermill": {
     "duration": 0.314064,
     "end_time": "2020-12-20T10:13:22.398495",
     "exception": false,
     "start_time": "2020-12-20T10:13:22.084431",
     "status": "completed"
    },
    "scrolled": false,
    "tags": [
     "hide-input"
    ]
   },
   "outputs": [
    {
     "data": {
      "image/png": "[encoded data removed]",
      "text/plain": [
       "<Figure size 864x432 with 1 Axes>"
      ]
     },
     "metadata": {
      "needs_background": "light"
     },
     "output_type": "display_data"
    }
   ],
   "source": [
    "dc.plot(kind='line',x='DATE',y='7_DAY',color='blue',grid='True',figsize=(12,6)).set_xlabel('Date');"
   ]
  },
  {
   "cell_type": "markdown",
   "metadata": {
    "papermill": {
     "duration": 0.010734,
     "end_time": "2020-12-20T10:13:22.419763",
     "exception": false,
     "start_time": "2020-12-20T10:13:22.409029",
     "status": "completed"
    },
    "tags": []
   },
   "source": [
    "## Figure 2: Rolling 7-day average of daily new cases."
   ]
  },
  {
   "cell_type": "code",
   "execution_count": 8,
   "metadata": {
    "execution": {
     "iopub.execute_input": "2020-12-20T10:13:22.445034Z",
     "iopub.status.busy": "2020-12-20T10:13:22.444505Z",
     "iopub.status.idle": "2020-12-20T10:13:22.720535Z",
     "shell.execute_reply": "2020-12-20T10:13:22.721022Z"
    },
    "jupyter": {
     "source_hidden": true
    },
    "papermill": {
     "duration": 0.291207,
     "end_time": "2020-12-20T10:13:22.721202",
     "exception": false,
     "start_time": "2020-12-20T10:13:22.429995",
     "status": "completed"
    },
    "tags": []
   },
   "outputs": [
    {
     "data": {
      "image/png": "[encoded data removed]",
      "text/plain": [
       "<Figure size 864x432 with 1 Axes>"
      ]
     },
     "metadata": {
      "needs_background": "light"
     },
     "output_type": "display_data"
    }
   ],
   "source": [
    "dc.plot(kind='line',x='DATE',y='14_DAY',color='green',grid='True',figsize=(12,6)).set_xlabel('Date');"
   ]
  },
  {
   "cell_type": "markdown",
   "metadata": {
    "papermill": {
     "duration": 0.012013,
     "end_time": "2020-12-20T10:13:22.748156",
     "exception": false,
     "start_time": "2020-12-20T10:13:22.736143",
     "status": "completed"
    },
    "tags": []
   },
   "source": [
    "## Figure 3: Rolling 14-day average of daily new cases."
   ]
  },
  {
   "cell_type": "markdown",
   "metadata": {
    "papermill": {
     "duration": 0.011539,
     "end_time": "2020-12-20T10:13:22.770371",
     "exception": false,
     "start_time": "2020-12-20T10:13:22.758832",
     "status": "completed"
    },
    "tags": []
   },
   "source": [
    "Data source: [Wisconsin Department of Health Services](https://data.dhsgis.wi.gov/datasets/covid-19-historical-data-table/)"
   ]
  },
  {
   "cell_type": "code",
   "execution_count": 9,
   "metadata": {
    "execution": {
     "iopub.execute_input": "2020-12-20T10:13:22.798424Z",
     "iopub.status.busy": "2020-12-20T10:13:22.797799Z",
     "iopub.status.idle": "2020-12-20T10:13:22.801305Z",
     "shell.execute_reply": "2020-12-20T10:13:22.800768Z"
    },
    "jupyter": {
     "source_hidden": true
    },
    "papermill": {
     "duration": 0.019631,
     "end_time": "2020-12-20T10:13:22.801434",
     "exception": false,
     "start_time": "2020-12-20T10:13:22.781803",
     "status": "completed"
    },
    "tags": []
   },
   "outputs": [
    {
     "data": {
      "text/html": [
       "<style>\n",
       "div.input {\n",
       "    display:none;\n",
       "}\n",
       "</style>\n"
      ],
      "text/plain": [
       "<IPython.core.display.HTML object>"
      ]
     },
     "metadata": {},
     "output_type": "display_data"
    }
   ],
   "source": [
    "%%html\n",
    "<style>\n",
    "div.input {\n",
    "    display:none;\n",
    "}\n",
    "</style>"
   ]
  }
 ],
 "metadata": {
  "kernelspec": {
   "display_name": "Python 3",
   "language": "python",
   "name": "python3"
  },
  "language_info": {
   "codemirror_mode": {
    "name": "ipython",
    "version": 3
   },
   "file_extension": ".py",
   "mimetype": "text/x-python",
   "name": "python",
   "nbconvert_exporter": "python",
   "pygments_lexer": "ipython3",
   "version": "3.8.6"
  },
  "papermill": {
   "duration": 6.745013,
   "end_time": "2020-12-20T10:13:23.122516",
   "environment_variables": {},
   "exception": null,
   "input_path": "DunnCounty_COVID19.ipynb",
   "output_path": "DunnCounty_COVID19.ipynb",
   "parameters": {
    "Start": "True",
    "secretsPath": "/home/runner/work/_temp/secrets.json"
   },
   "start_time": "2020-12-20T10:13:16.377503",
   "version": "1.1.16"
  }
 },
 "nbformat": 4,
 "nbformat_minor": 2
}