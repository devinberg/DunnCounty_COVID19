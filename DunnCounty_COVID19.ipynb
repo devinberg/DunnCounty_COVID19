{
 "cells": [
  {
   "cell_type": "code",
   "execution_count": 1,
   "id": "solar-understanding",
   "metadata": {
    "execution": {
     "iopub.execute_input": "2021-08-02T22:11:31.210071Z",
     "iopub.status.busy": "2021-08-02T22:11:31.209563Z",
     "iopub.status.idle": "2021-08-02T22:11:31.995194Z",
     "shell.execute_reply": "2021-08-02T22:11:31.994668Z"
    },
    "jupyter": {
     "source_hidden": true
    },
    "papermill": {
     "duration": 0.803295,
     "end_time": "2021-08-02T22:11:31.995330",
     "exception": false,
     "start_time": "2021-08-02T22:11:31.192035",
     "status": "completed"
    },
    "scrolled": true,
    "tags": [
     "hide-input"
    ]
   },
   "outputs": [],
   "source": [
    "import pandas as pd\n",
    "import matplotlib.pyplot as plt\n",
    "from matplotlib import dates\n",
    "from IPython.display import display, Markdown\n",
    "%matplotlib inline"
   ]
  },
  {
   "cell_type": "code",
   "execution_count": 2,
   "id": "purple-playlist",
   "metadata": {
    "execution": {
     "iopub.execute_input": "2021-08-02T22:11:32.017079Z",
     "iopub.status.busy": "2021-08-02T22:11:32.016597Z",
     "iopub.status.idle": "2021-08-02T22:11:32.846700Z",
     "shell.execute_reply": "2021-08-02T22:11:32.845974Z"
    },
    "jupyter": {
     "source_hidden": true
    },
    "papermill": {
     "duration": 0.842899,
     "end_time": "2021-08-02T22:11:32.846825",
     "exception": false,
     "start_time": "2021-08-02T22:11:32.003926",
     "status": "completed"
    },
    "scrolled": true,
    "tags": [
     "hide-input"
    ]
   },
   "outputs": [],
   "source": [
    "# This is the data for all of Wisconsin.\n",
    "url = \"https://opendata.arcgis.com/api/v3/datasets/3161f6e01d8141c6abe85a29ff7f3d3c_12/downloads/data?format=csv&spatialRefId=3857\"\n",
    "data = pd.read_csv(url, parse_dates=['DATE'], low_memory=False)"
   ]
  },
  {
   "cell_type": "code",
   "execution_count": 3,
   "id": "proprietary-klein",
   "metadata": {
    "execution": {
     "iopub.execute_input": "2021-08-02T22:11:32.865024Z",
     "iopub.status.busy": "2021-08-02T22:11:32.864564Z",
     "iopub.status.idle": "2021-08-02T22:11:32.876141Z",
     "shell.execute_reply": "2021-08-02T22:11:32.875764Z"
    },
    "jupyter": {
     "source_hidden": true
    },
    "papermill": {
     "duration": 0.021563,
     "end_time": "2021-08-02T22:11:32.876241",
     "exception": false,
     "start_time": "2021-08-02T22:11:32.854678",
     "status": "completed"
    },
    "scrolled": true,
    "tags": [
     "hide-input"
    ]
   },
   "outputs": [],
   "source": [
    "dc = data.groupby('NAME').get_group('Dunn').sort_values(by='DATE') # Select the data for Dunn County from the full data.\n",
    "PNi = dc.columns.get_loc(\"POS_NEW\")\n",
    "dc['7_DAY'] = dc.iloc[:,PNi].rolling(window=7).mean() # Calculates the rolling 7-day average of new cases.\n",
    "dc['14_DAY'] = dc.iloc[:,PNi].rolling(window=14).mean() # Calculates the rolling 14-day average of new cases."
   ]
  },
  {
   "cell_type": "code",
   "execution_count": 4,
   "id": "steady-supervision",
   "metadata": {
    "execution": {
     "iopub.execute_input": "2021-08-02T22:11:32.897391Z",
     "iopub.status.busy": "2021-08-02T22:11:32.896913Z",
     "iopub.status.idle": "2021-08-02T22:11:32.899137Z",
     "shell.execute_reply": "2021-08-02T22:11:32.899493Z"
    },
    "jupyter": {
     "source_hidden": true
    },
    "papermill": {
     "duration": 0.01596,
     "end_time": "2021-08-02T22:11:32.899606",
     "exception": false,
     "start_time": "2021-08-02T22:11:32.883646",
     "status": "completed"
    },
    "scrolled": true,
    "tags": [
     "hide-input"
    ]
   },
   "outputs": [
    {
     "data": {
      "text/markdown": [
       "### Last updated: August 02, 2021"
      ],
      "text/plain": [
       "<IPython.core.display.Markdown object>"
      ]
     },
     "metadata": {},
     "output_type": "display_data"
    }
   ],
   "source": [
    "display(Markdown('### Last updated: ' + dc.iloc[-1]['DATE'].strftime(\"%B %d, %Y\")))"
   ]
  },
  {
   "cell_type": "code",
   "execution_count": 5,
   "id": "lonely-pitch",
   "metadata": {
    "execution": {
     "iopub.execute_input": "2021-08-02T22:11:32.920630Z",
     "iopub.status.busy": "2021-08-02T22:11:32.920187Z",
     "iopub.status.idle": "2021-08-02T22:11:32.922384Z",
     "shell.execute_reply": "2021-08-02T22:11:32.922745Z"
    },
    "jupyter": {
     "source_hidden": true
    },
    "papermill": {
     "duration": 0.015452,
     "end_time": "2021-08-02T22:11:32.922856",
     "exception": false,
     "start_time": "2021-08-02T22:11:32.907404",
     "status": "completed"
    },
    "tags": [
     "hide-input"
    ]
   },
   "outputs": [
    {
     "data": {
      "text/markdown": [
       "# Dunn County has 4793 total positive cases, with 5 new cases reported today."
      ],
      "text/plain": [
       "<IPython.core.display.Markdown object>"
      ]
     },
     "metadata": {},
     "output_type": "display_data"
    }
   ],
   "source": [
    "display(Markdown('# Dunn County has ' + str(dc.iloc[-1]['POSITIVE']) + ' total positive cases, with '+ str(int(dc.iloc[-1]['POS_NEW'])) + ' new cases reported today.'))"
   ]
  },
  {
   "cell_type": "code",
   "execution_count": 6,
   "id": "compound-nightmare",
   "metadata": {
    "execution": {
     "iopub.execute_input": "2021-08-02T22:11:32.943180Z",
     "iopub.status.busy": "2021-08-02T22:11:32.942735Z",
     "iopub.status.idle": "2021-08-02T22:11:33.256532Z",
     "shell.execute_reply": "2021-08-02T22:11:33.256947Z"
    },
    "jupyter": {
     "source_hidden": true
    },
    "papermill": {
     "duration": 0.326036,
     "end_time": "2021-08-02T22:11:33.257090",
     "exception": false,
     "start_time": "2021-08-02T22:11:32.931054",
     "status": "completed"
    },
    "scrolled": false,
    "tags": [
     "hide-input"
    ]
   },
   "outputs": [
    {
     "data": {
      "image/png": "[encoded data removed]",
      "text/plain": [
       "<Figure size 864x432 with 1 Axes>"
      ]
     },
     "metadata": {
      "needs_background": "light"
     },
     "output_type": "display_data"
    }
   ],
   "source": [
    "dc.plot(x='DATE',y='POSITIVE',color='red',grid='True',figsize=(12,6)).set_xlabel('Date');"
   ]
  },
  {
   "cell_type": "markdown",
   "id": "coupled-literacy",
   "metadata": {
    "papermill": {
     "duration": 0.009355,
     "end_time": "2021-08-02T22:11:33.276585",
     "exception": false,
     "start_time": "2021-08-02T22:11:33.267230",
     "status": "completed"
    },
    "tags": []
   },
   "source": [
    "## Figure 1: Cummulative number of positive cases."
   ]
  },
  {
   "cell_type": "code",
   "execution_count": 7,
   "id": "surrounded-reserve",
   "metadata": {
    "execution": {
     "iopub.execute_input": "2021-08-02T22:11:33.299009Z",
     "iopub.status.busy": "2021-08-02T22:11:33.298558Z",
     "iopub.status.idle": "2021-08-02T22:11:33.489309Z",
     "shell.execute_reply": "2021-08-02T22:11:33.488916Z"
    },
    "jupyter": {
     "source_hidden": true
    },
    "papermill": {
     "duration": 0.203826,
     "end_time": "2021-08-02T22:11:33.489419",
     "exception": false,
     "start_time": "2021-08-02T22:11:33.285593",
     "status": "completed"
    },
    "scrolled": false,
    "tags": [
     "hide-input"
    ]
   },
   "outputs": [
    {
     "data": {
      "image/png": "[encoded data removed]",
      "text/plain": [
       "<Figure size 864x432 with 1 Axes>"
      ]
     },
     "metadata": {
      "needs_background": "light"
     },
     "output_type": "display_data"
    }
   ],
   "source": [
    "dc.plot(kind='line',x='DATE',y='7_DAY',color='blue',grid='True',figsize=(12,6)).set_xlabel('Date');"
   ]
  },
  {
   "cell_type": "markdown",
   "id": "professional-savannah",
   "metadata": {
    "papermill": {
     "duration": 0.01012,
     "end_time": "2021-08-02T22:11:33.509752",
     "exception": false,
     "start_time": "2021-08-02T22:11:33.499632",
     "status": "completed"
    },
    "tags": []
   },
   "source": [
    "## Figure 2: Rolling 7-day average of daily new cases."
   ]
  },
  {
   "cell_type": "code",
   "execution_count": 8,
   "id": "stretch-investor",
   "metadata": {
    "execution": {
     "iopub.execute_input": "2021-08-02T22:11:33.531934Z",
     "iopub.status.busy": "2021-08-02T22:11:33.531487Z",
     "iopub.status.idle": "2021-08-02T22:11:33.716981Z",
     "shell.execute_reply": "2021-08-02T22:11:33.717346Z"
    },
    "jupyter": {
     "source_hidden": true
    },
    "papermill": {
     "duration": 0.197896,
     "end_time": "2021-08-02T22:11:33.717480",
     "exception": false,
     "start_time": "2021-08-02T22:11:33.519584",
     "status": "completed"
    },
    "tags": []
   },
   "outputs": [
    {
     "data": {
      "image/png": "[encoded data removed]",
      "text/plain": [
       "<Figure size 864x432 with 1 Axes>"
      ]
     },
     "metadata": {
      "needs_background": "light"
     },
     "output_type": "display_data"
    }
   ],
   "source": [
    "dc.plot(kind='line',x='DATE',y='14_DAY',color='green',grid='True',figsize=(12,6)).set_xlabel('Date');"
   ]
  },
  {
   "cell_type": "markdown",
   "id": "prerequisite-species",
   "metadata": {
    "papermill": {
     "duration": 0.011266,
     "end_time": "2021-08-02T22:11:33.739839",
     "exception": false,
     "start_time": "2021-08-02T22:11:33.728573",
     "status": "completed"
    },
    "tags": []
   },
   "source": [
    "## Figure 3: Rolling 14-day average of daily new cases."
   ]
  },
  {
   "cell_type": "markdown",
   "id": "palestinian-guard",
   "metadata": {
    "papermill": {
     "duration": 0.010754,
     "end_time": "2021-08-02T22:11:33.761457",
     "exception": false,
     "start_time": "2021-08-02T22:11:33.750703",
     "status": "completed"
    },
    "tags": []
   },
   "source": [
    "Data source: [Wisconsin Department of Health Services](https://data.dhsgis.wi.gov/datasets/wi-dhs::covid-19-historical-data-by-county-1)"
   ]
  },
  {
   "cell_type": "code",
   "execution_count": 9,
   "id": "proof-medicare",
   "metadata": {
    "execution": {
     "iopub.execute_input": "2021-08-02T22:11:33.787380Z",
     "iopub.status.busy": "2021-08-02T22:11:33.786744Z",
     "iopub.status.idle": "2021-08-02T22:11:33.790242Z",
     "shell.execute_reply": "2021-08-02T22:11:33.789837Z"
    },
    "jupyter": {
     "source_hidden": true
    },
    "papermill": {
     "duration": 0.018102,
     "end_time": "2021-08-02T22:11:33.790343",
     "exception": false,
     "start_time": "2021-08-02T22:11:33.772241",
     "status": "completed"
    },
    "tags": []
   },
   "outputs": [
    {
     "data": {
      "text/html": [
       "<style>\n",
       "div.input {\n",
       "    display:none;\n",
       "}\n",
       "</style>\n"
      ],
      "text/plain": [
       "<IPython.core.display.HTML object>"
      ]
     },
     "metadata": {},
     "output_type": "display_data"
    }
   ],
   "source": [
    "%%html\n",
    "<style>\n",
    "div.input {\n",
    "    display:none;\n",
    "}\n",
    "</style>"
   ]
  }
 ],
 "metadata": {
  "kernelspec": {
   "display_name": "Python 3",
   "language": "python",
   "name": "python3"
  },
  "language_info": {
   "codemirror_mode": {
    "name": "ipython",
    "version": 3
   },
   "file_extension": ".py",
   "mimetype": "text/x-python",
   "name": "python",
   "nbconvert_exporter": "python",
   "pygments_lexer": "ipython3",
   "version": "3.8.11"
  },
  "papermill": {
   "duration": 4.104508,
   "end_time": "2021-08-02T22:11:34.007344",
   "environment_variables": {},
   "exception": null,
   "input_path": "DunnCounty_COVID19.ipynb",
   "output_path": "DunnCounty_COVID19.ipynb",
   "parameters": {
    "Start": "True",
    "secretsPath": "/home/runner/work/_temp/secrets.json"
   },
   "start_time": "2021-08-02T22:11:29.902836",
   "version": "1.1.16"
  }
 },
 "nbformat": 4,
 "nbformat_minor": 5
}