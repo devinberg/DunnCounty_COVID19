{
 "cells": [
  {
   "cell_type": "code",
   "execution_count": 1,
   "id": "solar-understanding",
   "metadata": {
    "execution": {
     "iopub.execute_input": "2021-05-26T10:26:57.591082Z",
     "iopub.status.busy": "2021-05-26T10:26:57.590515Z",
     "iopub.status.idle": "2021-05-26T10:26:59.019405Z",
     "shell.execute_reply": "2021-05-26T10:26:59.018832Z"
    },
    "jupyter": {
     "source_hidden": true
    },
    "papermill": {
     "duration": 1.452571,
     "end_time": "2021-05-26T10:26:59.019521",
     "exception": false,
     "start_time": "2021-05-26T10:26:57.566950",
     "status": "completed"
    },
    "scrolled": true,
    "tags": [
     "hide-input"
    ]
   },
   "outputs": [],
   "source": [
    "import pandas as pd\n",
    "import matplotlib.pyplot as plt\n",
    "from matplotlib import dates\n",
    "from IPython.display import display, Markdown\n",
    "%matplotlib inline"
   ]
  },
  {
   "cell_type": "code",
   "execution_count": 2,
   "id": "purple-playlist",
   "metadata": {
    "execution": {
     "iopub.execute_input": "2021-05-26T10:26:59.042701Z",
     "iopub.status.busy": "2021-05-26T10:26:59.042158Z",
     "iopub.status.idle": "2021-05-26T10:27:00.026278Z",
     "shell.execute_reply": "2021-05-26T10:27:00.025737Z"
    },
    "jupyter": {
     "source_hidden": true
    },
    "papermill": {
     "duration": 0.998185,
     "end_time": "2021-05-26T10:27:00.026401",
     "exception": false,
     "start_time": "2021-05-26T10:26:59.028216",
     "status": "completed"
    },
    "scrolled": true,
    "tags": [
     "hide-input"
    ]
   },
   "outputs": [],
   "source": [
    "# This is the data for all of Wisconsin.\n",
    "url = \"https://opendata.arcgis.com/datasets/80ff9d4897db4d7692f0f4ad28447cab_12.csv\"\n",
    "data = pd.read_csv(url, parse_dates=['DATE'], low_memory=False)"
   ]
  },
  {
   "cell_type": "code",
   "execution_count": 3,
   "id": "proprietary-klein",
   "metadata": {
    "execution": {
     "iopub.execute_input": "2021-05-26T10:27:00.050302Z",
     "iopub.status.busy": "2021-05-26T10:27:00.049754Z",
     "iopub.status.idle": "2021-05-26T10:27:00.058515Z",
     "shell.execute_reply": "2021-05-26T10:27:00.058058Z"
    },
    "jupyter": {
     "source_hidden": true
    },
    "papermill": {
     "duration": 0.023361,
     "end_time": "2021-05-26T10:27:00.058633",
     "exception": false,
     "start_time": "2021-05-26T10:27:00.035272",
     "status": "completed"
    },
    "scrolled": true,
    "tags": [
     "hide-input"
    ]
   },
   "outputs": [],
   "source": [
    "dc = data.groupby('NAME').get_group('Dunn').sort_values(by='DATE') # Select the data for Dunn County from the full data.\n",
    "PNi = dc.columns.get_loc(\"POS_NEW\")\n",
    "dc['7_DAY'] = dc.iloc[:,PNi].rolling(window=7).mean() # Calculates the rolling 7-day average of new cases.\n",
    "dc['14_DAY'] = dc.iloc[:,PNi].rolling(window=14).mean() # Calculates the rolling 14-day average of new cases."
   ]
  },
  {
   "cell_type": "code",
   "execution_count": 4,
   "id": "steady-supervision",
   "metadata": {
    "execution": {
     "iopub.execute_input": "2021-05-26T10:27:00.082806Z",
     "iopub.status.busy": "2021-05-26T10:27:00.082291Z",
     "iopub.status.idle": "2021-05-26T10:27:00.087528Z",
     "shell.execute_reply": "2021-05-26T10:27:00.087090Z"
    },
    "jupyter": {
     "source_hidden": true
    },
    "papermill": {
     "duration": 0.019716,
     "end_time": "2021-05-26T10:27:00.087631",
     "exception": false,
     "start_time": "2021-05-26T10:27:00.067915",
     "status": "completed"
    },
    "scrolled": true,
    "tags": [
     "hide-input"
    ]
   },
   "outputs": [
    {
     "data": {
      "text/markdown": [
       "### Last updated: May 25, 2021"
      ],
      "text/plain": [
       "<IPython.core.display.Markdown object>"
      ]
     },
     "metadata": {},
     "output_type": "display_data"
    }
   ],
   "source": [
    "display(Markdown('### Last updated: ' + dc.iloc[-1]['DATE'].strftime(\"%B %d, %Y\")))"
   ]
  },
  {
   "cell_type": "code",
   "execution_count": 5,
   "id": "lonely-pitch",
   "metadata": {
    "execution": {
     "iopub.execute_input": "2021-05-26T10:27:00.109624Z",
     "iopub.status.busy": "2021-05-26T10:27:00.109132Z",
     "iopub.status.idle": "2021-05-26T10:27:00.113312Z",
     "shell.execute_reply": "2021-05-26T10:27:00.112854Z"
    },
    "jupyter": {
     "source_hidden": true
    },
    "papermill": {
     "duration": 0.017259,
     "end_time": "2021-05-26T10:27:00.113445",
     "exception": false,
     "start_time": "2021-05-26T10:27:00.096186",
     "status": "completed"
    },
    "tags": [
     "hide-input"
    ]
   },
   "outputs": [
    {
     "data": {
      "text/markdown": [
       "# Dunn County has 4679 total positive cases, with 4 new cases reported today."
      ],
      "text/plain": [
       "<IPython.core.display.Markdown object>"
      ]
     },
     "metadata": {},
     "output_type": "display_data"
    }
   ],
   "source": [
    "display(Markdown('# Dunn County has ' + str(dc.iloc[-1]['POSITIVE']) + ' total positive cases, with '+ str(int(dc.iloc[-1]['POS_NEW'])) + ' new cases reported today.'))"
   ]
  },
  {
   "cell_type": "code",
   "execution_count": 6,
   "id": "compound-nightmare",
   "metadata": {
    "execution": {
     "iopub.execute_input": "2021-05-26T10:27:00.136876Z",
     "iopub.status.busy": "2021-05-26T10:27:00.136381Z",
     "iopub.status.idle": "2021-05-26T10:27:00.412808Z",
     "shell.execute_reply": "2021-05-26T10:27:00.413221Z"
    },
    "jupyter": {
     "source_hidden": true
    },
    "papermill": {
     "duration": 0.290708,
     "end_time": "2021-05-26T10:27:00.413390",
     "exception": false,
     "start_time": "2021-05-26T10:27:00.122682",
     "status": "completed"
    },
    "scrolled": false,
    "tags": [
     "hide-input"
    ]
   },
   "outputs": [
    {
     "data": {
      "image/png": "[encoded data removed]",
      "text/plain": [
       "<Figure size 864x432 with 1 Axes>"
      ]
     },
     "metadata": {
      "needs_background": "light"
     },
     "output_type": "display_data"
    }
   ],
   "source": [
    "dc.plot(x='DATE',y='POSITIVE',color='red',grid='True',figsize=(12,6)).set_xlabel('Date');"
   ]
  },
  {
   "cell_type": "markdown",
   "id": "coupled-literacy",
   "metadata": {
    "papermill": {
     "duration": 0.009976,
     "end_time": "2021-05-26T10:27:00.432786",
     "exception": false,
     "start_time": "2021-05-26T10:27:00.422810",
     "status": "completed"
    },
    "tags": []
   },
   "source": [
    "## Figure 1: Cummulative number of positive cases."
   ]
  },
  {
   "cell_type": "code",
   "execution_count": 7,
   "id": "surrounded-reserve",
   "metadata": {
    "execution": {
     "iopub.execute_input": "2021-05-26T10:27:00.457855Z",
     "iopub.status.busy": "2021-05-26T10:27:00.457286Z",
     "iopub.status.idle": "2021-05-26T10:27:00.662763Z",
     "shell.execute_reply": "2021-05-26T10:27:00.663221Z"
    },
    "jupyter": {
     "source_hidden": true
    },
    "papermill": {
     "duration": 0.220453,
     "end_time": "2021-05-26T10:27:00.663376",
     "exception": false,
     "start_time": "2021-05-26T10:27:00.442923",
     "status": "completed"
    },
    "scrolled": false,
    "tags": [
     "hide-input"
    ]
   },
   "outputs": [
    {
     "data": {
      "image/png": "[encoded data removed]",
      "text/plain": [
       "<Figure size 864x432 with 1 Axes>"
      ]
     },
     "metadata": {
      "needs_background": "light"
     },
     "output_type": "display_data"
    }
   ],
   "source": [
    "dc.plot(kind='line',x='DATE',y='7_DAY',color='blue',grid='True',figsize=(12,6)).set_xlabel('Date');"
   ]
  },
  {
   "cell_type": "markdown",
   "id": "professional-savannah",
   "metadata": {
    "papermill": {
     "duration": 0.011367,
     "end_time": "2021-05-26T10:27:00.686292",
     "exception": false,
     "start_time": "2021-05-26T10:27:00.674925",
     "status": "completed"
    },
    "tags": []
   },
   "source": [
    "## Figure 2: Rolling 7-day average of daily new cases."
   ]
  },
  {
   "cell_type": "code",
   "execution_count": 8,
   "id": "stretch-investor",
   "metadata": {
    "execution": {
     "iopub.execute_input": "2021-05-26T10:27:00.713277Z",
     "iopub.status.busy": "2021-05-26T10:27:00.712749Z",
     "iopub.status.idle": "2021-05-26T10:27:00.921134Z",
     "shell.execute_reply": "2021-05-26T10:27:00.920553Z"
    },
    "jupyter": {
     "source_hidden": true
    },
    "papermill": {
     "duration": 0.224133,
     "end_time": "2021-05-26T10:27:00.921255",
     "exception": false,
     "start_time": "2021-05-26T10:27:00.697122",
     "status": "completed"
    },
    "tags": []
   },
   "outputs": [
    {
     "data": {
      "image/png": "[encoded data removed]",
      "text/plain": [
       "<Figure size 864x432 with 1 Axes>"
      ]
     },
     "metadata": {
      "needs_background": "light"
     },
     "output_type": "display_data"
    }
   ],
   "source": [
    "dc.plot(kind='line',x='DATE',y='14_DAY',color='green',grid='True',figsize=(12,6)).set_xlabel('Date');"
   ]
  },
  {
   "cell_type": "markdown",
   "id": "prerequisite-species",
   "metadata": {
    "papermill": {
     "duration": 0.010805,
     "end_time": "2021-05-26T10:27:00.944800",
     "exception": false,
     "start_time": "2021-05-26T10:27:00.933995",
     "status": "completed"
    },
    "tags": []
   },
   "source": [
    "## Figure 3: Rolling 14-day average of daily new cases."
   ]
  },
  {
   "cell_type": "markdown",
   "id": "palestinian-guard",
   "metadata": {
    "papermill": {
     "duration": 0.011518,
     "end_time": "2021-05-26T10:27:00.966990",
     "exception": false,
     "start_time": "2021-05-26T10:27:00.955472",
     "status": "completed"
    },
    "tags": []
   },
   "source": [
    "Data source: [Wisconsin Department of Health Services](https://data.dhsgis.wi.gov/datasets/covid-19-historical-data-by-county)"
   ]
  },
  {
   "cell_type": "code",
   "execution_count": 9,
   "id": "proof-medicare",
   "metadata": {
    "execution": {
     "iopub.execute_input": "2021-05-26T10:27:00.996026Z",
     "iopub.status.busy": "2021-05-26T10:27:00.995496Z",
     "iopub.status.idle": "2021-05-26T10:27:00.999024Z",
     "shell.execute_reply": "2021-05-26T10:27:00.999498Z"
    },
    "jupyter": {
     "source_hidden": true
    },
    "papermill": {
     "duration": 0.020519,
     "end_time": "2021-05-26T10:27:00.999622",
     "exception": false,
     "start_time": "2021-05-26T10:27:00.979103",
     "status": "completed"
    },
    "tags": []
   },
   "outputs": [
    {
     "data": {
      "text/html": [
       "<style>\n",
       "div.input {\n",
       "    display:none;\n",
       "}\n",
       "</style>\n"
      ],
      "text/plain": [
       "<IPython.core.display.HTML object>"
      ]
     },
     "metadata": {},
     "output_type": "display_data"
    }
   ],
   "source": [
    "%%html\n",
    "<style>\n",
    "div.input {\n",
    "    display:none;\n",
    "}\n",
    "</style>"
   ]
  }
 ],
 "metadata": {
  "kernelspec": {
   "display_name": "Python 3",
   "language": "python",
   "name": "python3"
  },
  "language_info": {
   "codemirror_mode": {
    "name": "ipython",
    "version": 3
   },
   "file_extension": ".py",
   "mimetype": "text/x-python",
   "name": "python",
   "nbconvert_exporter": "python",
   "pygments_lexer": "ipython3",
   "version": "3.8.10"
  },
  "papermill": {
   "duration": 5.077012,
   "end_time": "2021-05-26T10:27:01.319339",
   "environment_variables": {},
   "exception": null,
   "input_path": "DunnCounty_COVID19.ipynb",
   "output_path": "DunnCounty_COVID19.ipynb",
   "parameters": {
    "Start": "True",
    "secretsPath": "/home/runner/work/_temp/secrets.json"
   },
   "start_time": "2021-05-26T10:26:56.242327",
   "version": "1.1.16"
  }
 },
 "nbformat": 4,
 "nbformat_minor": 5
}