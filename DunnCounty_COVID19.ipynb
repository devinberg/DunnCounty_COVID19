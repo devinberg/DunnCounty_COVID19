{
 "cells": [
  {
   "cell_type": "code",
   "execution_count": 1,
   "metadata": {
    "execution": {
     "iopub.execute_input": "2020-12-13T22:15:03.652026Z",
     "iopub.status.busy": "2020-12-13T22:15:03.651467Z",
     "iopub.status.idle": "2020-12-13T22:15:06.075003Z",
     "shell.execute_reply": "2020-12-13T22:15:06.074019Z"
    },
    "jupyter": {
     "source_hidden": true
    },
    "papermill": {
     "duration": 2.443845,
     "end_time": "2020-12-13T22:15:06.075199",
     "exception": false,
     "start_time": "2020-12-13T22:15:03.631354",
     "status": "completed"
    },
    "scrolled": true,
    "tags": [
     "hide-input"
    ]
   },
   "outputs": [],
   "source": [
    "import pandas as pd\n",
    "import matplotlib.pyplot as plt\n",
    "from matplotlib import dates\n",
    "from IPython.display import display, Markdown\n",
    "%matplotlib inline"
   ]
  },
  {
   "cell_type": "code",
   "execution_count": 2,
   "metadata": {
    "execution": {
     "iopub.execute_input": "2020-12-13T22:15:06.095507Z",
     "iopub.status.busy": "2020-12-13T22:15:06.094903Z",
     "iopub.status.idle": "2020-12-13T22:15:06.756161Z",
     "shell.execute_reply": "2020-12-13T22:15:06.755579Z"
    },
    "jupyter": {
     "source_hidden": true
    },
    "papermill": {
     "duration": 0.674115,
     "end_time": "2020-12-13T22:15:06.756301",
     "exception": false,
     "start_time": "2020-12-13T22:15:06.082186",
     "status": "completed"
    },
    "scrolled": true,
    "tags": [
     "hide-input"
    ]
   },
   "outputs": [],
   "source": [
    "# This is the data for all of Wisconsin.\n",
    "url = \"https://opendata.arcgis.com/datasets/5374188992374b318d3e2305216ee413_12.csv\"\n",
    "data = pd.read_csv(url, parse_dates=['DATE'], low_memory=False)"
   ]
  },
  {
   "cell_type": "code",
   "execution_count": 3,
   "metadata": {
    "execution": {
     "iopub.execute_input": "2020-12-13T22:15:06.777450Z",
     "iopub.status.busy": "2020-12-13T22:15:06.776905Z",
     "iopub.status.idle": "2020-12-13T22:15:06.785958Z",
     "shell.execute_reply": "2020-12-13T22:15:06.785474Z"
    },
    "jupyter": {
     "source_hidden": true
    },
    "papermill": {
     "duration": 0.021741,
     "end_time": "2020-12-13T22:15:06.786094",
     "exception": false,
     "start_time": "2020-12-13T22:15:06.764353",
     "status": "completed"
    },
    "scrolled": true,
    "tags": [
     "hide-input"
    ]
   },
   "outputs": [],
   "source": [
    "dc = data.groupby('NAME').get_group('Dunn').sort_values(by='DATE') # Select the data for Dunn County from the full data.\n",
    "PNi = dc.columns.get_loc(\"POS_NEW\")\n",
    "dc['7_DAY'] = dc.iloc[:,PNi].rolling(window=7).mean() # Calculates the rolling 7-day average of new cases.\n",
    "dc['14_DAY'] = dc.iloc[:,PNi].rolling(window=14).mean() # Calculates the rolling 14-day average of new cases."
   ]
  },
  {
   "cell_type": "code",
   "execution_count": 4,
   "metadata": {
    "execution": {
     "iopub.execute_input": "2020-12-13T22:15:06.805441Z",
     "iopub.status.busy": "2020-12-13T22:15:06.802685Z",
     "iopub.status.idle": "2020-12-13T22:15:06.808183Z",
     "shell.execute_reply": "2020-12-13T22:15:06.808562Z"
    },
    "jupyter": {
     "source_hidden": true
    },
    "papermill": {
     "duration": 0.016289,
     "end_time": "2020-12-13T22:15:06.808691",
     "exception": false,
     "start_time": "2020-12-13T22:15:06.792402",
     "status": "completed"
    },
    "scrolled": true,
    "tags": [
     "hide-input"
    ]
   },
   "outputs": [
    {
     "data": {
      "text/markdown": [
       "### Last updated: December 13, 2020"
      ],
      "text/plain": [
       "<IPython.core.display.Markdown object>"
      ]
     },
     "metadata": {},
     "output_type": "display_data"
    }
   ],
   "source": [
    "display(Markdown('### Last updated: ' + dc.iloc[-1]['DATE'].strftime(\"%B %d, %Y\")))"
   ]
  },
  {
   "cell_type": "code",
   "execution_count": 5,
   "metadata": {
    "execution": {
     "iopub.execute_input": "2020-12-13T22:15:06.827359Z",
     "iopub.status.busy": "2020-12-13T22:15:06.826867Z",
     "iopub.status.idle": "2020-12-13T22:15:06.830377Z",
     "shell.execute_reply": "2020-12-13T22:15:06.830854Z"
    },
    "jupyter": {
     "source_hidden": true
    },
    "papermill": {
     "duration": 0.015149,
     "end_time": "2020-12-13T22:15:06.830975",
     "exception": false,
     "start_time": "2020-12-13T22:15:06.815826",
     "status": "completed"
    },
    "tags": [
     "hide-input"
    ]
   },
   "outputs": [
    {
     "data": {
      "text/markdown": [
       "# Dunn County has 3156 total positive cases, with 29 new cases reported today."
      ],
      "text/plain": [
       "<IPython.core.display.Markdown object>"
      ]
     },
     "metadata": {},
     "output_type": "display_data"
    }
   ],
   "source": [
    "display(Markdown('# Dunn County has ' + str(dc.iloc[-1]['POSITIVE']) + ' total positive cases, with '+ str(int(dc.iloc[-1]['POS_NEW'])) + ' new cases reported today.'))"
   ]
  },
  {
   "cell_type": "code",
   "execution_count": 6,
   "metadata": {
    "execution": {
     "iopub.execute_input": "2020-12-13T22:15:06.849451Z",
     "iopub.status.busy": "2020-12-13T22:15:06.848965Z",
     "iopub.status.idle": "2020-12-13T22:15:07.070918Z",
     "shell.execute_reply": "2020-12-13T22:15:07.070510Z"
    },
    "jupyter": {
     "source_hidden": true
    },
    "papermill": {
     "duration": 0.232903,
     "end_time": "2020-12-13T22:15:07.071032",
     "exception": false,
     "start_time": "2020-12-13T22:15:06.838129",
     "status": "completed"
    },
    "scrolled": false,
    "tags": [
     "hide-input"
    ]
   },
   "outputs": [
    {
     "data": {
      "image/png": "[encoded data removed]",
      "text/plain": [
       "<Figure size 864x432 with 1 Axes>"
      ]
     },
     "metadata": {
      "needs_background": "light"
     },
     "output_type": "display_data"
    }
   ],
   "source": [
    "dc.plot(x='DATE',y='POSITIVE',color='red',grid='True',figsize=(12,6)).set_xlabel('Date');"
   ]
  },
  {
   "cell_type": "markdown",
   "metadata": {
    "papermill": {
     "duration": 0.008618,
     "end_time": "2020-12-13T22:15:07.088387",
     "exception": false,
     "start_time": "2020-12-13T22:15:07.079769",
     "status": "completed"
    },
    "tags": []
   },
   "source": [
    "## Figure 1: Cummulative number of positive cases."
   ]
  },
  {
   "cell_type": "code",
   "execution_count": 7,
   "metadata": {
    "execution": {
     "iopub.execute_input": "2020-12-13T22:15:07.109959Z",
     "iopub.status.busy": "2020-12-13T22:15:07.109278Z",
     "iopub.status.idle": "2020-12-13T22:15:07.332253Z",
     "shell.execute_reply": "2020-12-13T22:15:07.332708Z"
    },
    "jupyter": {
     "source_hidden": true
    },
    "papermill": {
     "duration": 0.236261,
     "end_time": "2020-12-13T22:15:07.332860",
     "exception": false,
     "start_time": "2020-12-13T22:15:07.096599",
     "status": "completed"
    },
    "scrolled": false,
    "tags": [
     "hide-input"
    ]
   },
   "outputs": [
    {
     "data": {
      "image/png": "[encoded data removed]",
      "text/plain": [
       "<Figure size 864x432 with 1 Axes>"
      ]
     },
     "metadata": {
      "needs_background": "light"
     },
     "output_type": "display_data"
    }
   ],
   "source": [
    "dc.plot(kind='line',x='DATE',y='7_DAY',color='blue',grid='True',figsize=(12,6)).set_xlabel('Date');"
   ]
  },
  {
   "cell_type": "markdown",
   "metadata": {
    "papermill": {
     "duration": 0.010964,
     "end_time": "2020-12-13T22:15:07.353442",
     "exception": false,
     "start_time": "2020-12-13T22:15:07.342478",
     "status": "completed"
    },
    "tags": []
   },
   "source": [
    "## Figure 2: Rolling 7-day average of daily new cases."
   ]
  },
  {
   "cell_type": "code",
   "execution_count": 8,
   "metadata": {
    "execution": {
     "iopub.execute_input": "2020-12-13T22:15:07.377750Z",
     "iopub.status.busy": "2020-12-13T22:15:07.377077Z",
     "iopub.status.idle": "2020-12-13T22:15:07.586474Z",
     "shell.execute_reply": "2020-12-13T22:15:07.586913Z"
    },
    "jupyter": {
     "source_hidden": true
    },
    "papermill": {
     "duration": 0.223862,
     "end_time": "2020-12-13T22:15:07.587069",
     "exception": false,
     "start_time": "2020-12-13T22:15:07.363207",
     "status": "completed"
    },
    "tags": []
   },
   "outputs": [
    {
     "data": {
      "image/png": "[encoded data removed]",
      "text/plain": [
       "<Figure size 864x432 with 1 Axes>"
      ]
     },
     "metadata": {
      "needs_background": "light"
     },
     "output_type": "display_data"
    }
   ],
   "source": [
    "dc.plot(kind='line',x='DATE',y='14_DAY',color='green',grid='True',figsize=(12,6)).set_xlabel('Date');"
   ]
  },
  {
   "cell_type": "markdown",
   "metadata": {
    "papermill": {
     "duration": 0.010477,
     "end_time": "2020-12-13T22:15:07.607574",
     "exception": false,
     "start_time": "2020-12-13T22:15:07.597097",
     "status": "completed"
    },
    "tags": []
   },
   "source": [
    "## Figure 3: Rolling 14-day average of daily new cases."
   ]
  },
  {
   "cell_type": "markdown",
   "metadata": {
    "papermill": {
     "duration": 0.010162,
     "end_time": "2020-12-13T22:15:07.628018",
     "exception": false,
     "start_time": "2020-12-13T22:15:07.617856",
     "status": "completed"
    },
    "tags": []
   },
   "source": [
    "Data source: [Wisconsin Department of Health Services](https://data.dhsgis.wi.gov/datasets/covid-19-historical-data-table/)"
   ]
  },
  {
   "cell_type": "code",
   "execution_count": 9,
   "metadata": {
    "execution": {
     "iopub.execute_input": "2020-12-13T22:15:07.652112Z",
     "iopub.status.busy": "2020-12-13T22:15:07.651519Z",
     "iopub.status.idle": "2020-12-13T22:15:07.655146Z",
     "shell.execute_reply": "2020-12-13T22:15:07.655546Z"
    },
    "jupyter": {
     "source_hidden": true
    },
    "papermill": {
     "duration": 0.017959,
     "end_time": "2020-12-13T22:15:07.655669",
     "exception": false,
     "start_time": "2020-12-13T22:15:07.637710",
     "status": "completed"
    },
    "tags": []
   },
   "outputs": [
    {
     "data": {
      "text/html": [
       "<style>\n",
       "div.input {\n",
       "    display:none;\n",
       "}\n",
       "</style>\n"
      ],
      "text/plain": [
       "<IPython.core.display.HTML object>"
      ]
     },
     "metadata": {},
     "output_type": "display_data"
    }
   ],
   "source": [
    "%%html\n",
    "<style>\n",
    "div.input {\n",
    "    display:none;\n",
    "}\n",
    "</style>"
   ]
  }
 ],
 "metadata": {
  "kernelspec": {
   "display_name": "Python 3",
   "language": "python",
   "name": "python3"
  },
  "language_info": {
   "codemirror_mode": {
    "name": "ipython",
    "version": 3
   },
   "file_extension": ".py",
   "mimetype": "text/x-python",
   "name": "python",
   "nbconvert_exporter": "python",
   "pygments_lexer": "ipython3",
   "version": "3.8.6"
  },
  "papermill": {
   "duration": 6.706488,
   "end_time": "2020-12-13T22:15:08.870446",
   "environment_variables": {},
   "exception": null,
   "input_path": "DunnCounty_COVID19.ipynb",
   "output_path": "DunnCounty_COVID19.ipynb",
   "parameters": {
    "Start": "True",
    "secretsPath": "/home/runner/work/_temp/secrets.json"
   },
   "start_time": "2020-12-13T22:15:02.163958",
   "version": "1.1.16"
  }
 },
 "nbformat": 4,
 "nbformat_minor": 2
}