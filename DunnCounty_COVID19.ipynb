{
 "cells": [
  {
   "cell_type": "code",
   "execution_count": 1,
   "metadata": {
    "execution": {
     "iopub.execute_input": "2020-11-17T10:10:42.401990Z",
     "iopub.status.busy": "2020-11-17T10:10:42.401368Z",
     "iopub.status.idle": "2020-11-17T10:10:43.612232Z",
     "shell.execute_reply": "2020-11-17T10:10:43.611591Z"
    },
    "jupyter": {
     "source_hidden": true
    },
    "papermill": {
     "duration": 1.225211,
     "end_time": "2020-11-17T10:10:43.612470",
     "exception": false,
     "start_time": "2020-11-17T10:10:42.387259",
     "status": "completed"
    },
    "scrolled": true,
    "tags": [
     "hide-input"
    ]
   },
   "outputs": [],
   "source": [
    "import pandas as pd\n",
    "import matplotlib.pyplot as plt\n",
    "from matplotlib import dates\n",
    "from IPython.display import display, Markdown\n",
    "%matplotlib inline"
   ]
  },
  {
   "cell_type": "code",
   "execution_count": 2,
   "metadata": {
    "execution": {
     "iopub.execute_input": "2020-11-17T10:10:43.636720Z",
     "iopub.status.busy": "2020-11-17T10:10:43.636060Z",
     "iopub.status.idle": "2020-11-17T10:10:44.660940Z",
     "shell.execute_reply": "2020-11-17T10:10:44.660380Z"
    },
    "jupyter": {
     "source_hidden": true
    },
    "papermill": {
     "duration": 1.039503,
     "end_time": "2020-11-17T10:10:44.661093",
     "exception": false,
     "start_time": "2020-11-17T10:10:43.621590",
     "status": "completed"
    },
    "scrolled": true,
    "tags": [
     "hide-input"
    ]
   },
   "outputs": [],
   "source": [
    "# This is the data for all of Wisconsin.\n",
    "url = \"https://opendata.arcgis.com/datasets/5374188992374b318d3e2305216ee413_12.csv\"\n",
    "data = pd.read_csv(url, parse_dates=['DATE'], low_memory=False)"
   ]
  },
  {
   "cell_type": "code",
   "execution_count": 3,
   "metadata": {
    "execution": {
     "iopub.execute_input": "2020-11-17T10:10:44.685321Z",
     "iopub.status.busy": "2020-11-17T10:10:44.684700Z",
     "iopub.status.idle": "2020-11-17T10:10:44.693934Z",
     "shell.execute_reply": "2020-11-17T10:10:44.694411Z"
    },
    "jupyter": {
     "source_hidden": true
    },
    "papermill": {
     "duration": 0.024169,
     "end_time": "2020-11-17T10:10:44.694579",
     "exception": false,
     "start_time": "2020-11-17T10:10:44.670410",
     "status": "completed"
    },
    "scrolled": true,
    "tags": [
     "hide-input"
    ]
   },
   "outputs": [],
   "source": [
    "dc = data.groupby('NAME').get_group('Dunn').sort_values(by='DATE') # Select the data for Dunn County from the full data.\n",
    "PNi = dc.columns.get_loc(\"POS_NEW\")\n",
    "dc['7_DAY'] = dc.iloc[:,PNi].rolling(window=7).mean() # Calculates the rolling 7-day average of new cases.\n",
    "dc['14_DAY'] = dc.iloc[:,PNi].rolling(window=14).mean() # Calculates the rolling 14-day average of new cases."
   ]
  },
  {
   "cell_type": "code",
   "execution_count": 4,
   "metadata": {
    "execution": {
     "iopub.execute_input": "2020-11-17T10:10:44.716344Z",
     "iopub.status.busy": "2020-11-17T10:10:44.715714Z",
     "iopub.status.idle": "2020-11-17T10:10:44.721462Z",
     "shell.execute_reply": "2020-11-17T10:10:44.721969Z"
    },
    "jupyter": {
     "source_hidden": true
    },
    "papermill": {
     "duration": 0.019923,
     "end_time": "2020-11-17T10:10:44.722129",
     "exception": false,
     "start_time": "2020-11-17T10:10:44.702206",
     "status": "completed"
    },
    "scrolled": true,
    "tags": [
     "hide-input"
    ]
   },
   "outputs": [
    {
     "data": {
      "text/markdown": [
       "### Last updated: November 16, 2020"
      ],
      "text/plain": [
       "<IPython.core.display.Markdown object>"
      ]
     },
     "metadata": {},
     "output_type": "display_data"
    }
   ],
   "source": [
    "display(Markdown('### Last updated: ' + dc.iloc[-1]['DATE'].strftime(\"%B %d, %Y\")))"
   ]
  },
  {
   "cell_type": "code",
   "execution_count": 5,
   "metadata": {
    "execution": {
     "iopub.execute_input": "2020-11-17T10:10:44.743517Z",
     "iopub.status.busy": "2020-11-17T10:10:44.742907Z",
     "iopub.status.idle": "2020-11-17T10:10:44.748830Z",
     "shell.execute_reply": "2020-11-17T10:10:44.749303Z"
    },
    "jupyter": {
     "source_hidden": true
    },
    "papermill": {
     "duration": 0.019301,
     "end_time": "2020-11-17T10:10:44.749468",
     "exception": false,
     "start_time": "2020-11-17T10:10:44.730167",
     "status": "completed"
    },
    "tags": [
     "hide-input"
    ]
   },
   "outputs": [
    {
     "data": {
      "text/markdown": [
       "# Dunn County has 2063 total positive cases, with 80 new cases reported today."
      ],
      "text/plain": [
       "<IPython.core.display.Markdown object>"
      ]
     },
     "metadata": {},
     "output_type": "display_data"
    }
   ],
   "source": [
    "display(Markdown('# Dunn County has ' + str(dc.iloc[-1]['POSITIVE']) + ' total positive cases, with '+ str(int(dc.iloc[-1]['POS_NEW'])) + ' new cases reported today.'))"
   ]
  },
  {
   "cell_type": "code",
   "execution_count": 6,
   "metadata": {
    "execution": {
     "iopub.execute_input": "2020-11-17T10:10:44.795119Z",
     "iopub.status.busy": "2020-11-17T10:10:44.770812Z",
     "iopub.status.idle": "2020-11-17T10:10:45.012874Z",
     "shell.execute_reply": "2020-11-17T10:10:45.012222Z"
    },
    "jupyter": {
     "source_hidden": true
    },
    "papermill": {
     "duration": 0.255141,
     "end_time": "2020-11-17T10:10:45.013019",
     "exception": false,
     "start_time": "2020-11-17T10:10:44.757878",
     "status": "completed"
    },
    "scrolled": false,
    "tags": [
     "hide-input"
    ]
   },
   "outputs": [
    {
     "data": {
      "image/png": "[encoded data removed]",
      "text/plain": [
       "<Figure size 864x432 with 1 Axes>"
      ]
     },
     "metadata": {
      "needs_background": "light"
     },
     "output_type": "display_data"
    }
   ],
   "source": [
    "dc.plot(x='DATE',y='POSITIVE',color='red',grid='True',figsize=(12,6)).set_xlabel('Date');"
   ]
  },
  {
   "cell_type": "markdown",
   "metadata": {
    "papermill": {
     "duration": 0.009101,
     "end_time": "2020-11-17T10:10:45.032258",
     "exception": false,
     "start_time": "2020-11-17T10:10:45.023157",
     "status": "completed"
    },
    "tags": []
   },
   "source": [
    "## Figure 1: Cummulative number of positive cases."
   ]
  },
  {
   "cell_type": "code",
   "execution_count": 7,
   "metadata": {
    "execution": {
     "iopub.execute_input": "2020-11-17T10:10:45.078663Z",
     "iopub.status.busy": "2020-11-17T10:10:45.072257Z",
     "iopub.status.idle": "2020-11-17T10:10:45.295677Z",
     "shell.execute_reply": "2020-11-17T10:10:45.295148Z"
    },
    "jupyter": {
     "source_hidden": true
    },
    "papermill": {
     "duration": 0.254464,
     "end_time": "2020-11-17T10:10:45.295826",
     "exception": false,
     "start_time": "2020-11-17T10:10:45.041362",
     "status": "completed"
    },
    "scrolled": false,
    "tags": [
     "hide-input"
    ]
   },
   "outputs": [
    {
     "data": {
      "image/png": "[encoded data removed]",
      "text/plain": [
       "<Figure size 864x432 with 1 Axes>"
      ]
     },
     "metadata": {
      "needs_background": "light"
     },
     "output_type": "display_data"
    }
   ],
   "source": [
    "dc.plot(kind='line',x='DATE',y='7_DAY',color='blue',grid='True',figsize=(12,6)).set_xlabel('Date');"
   ]
  },
  {
   "cell_type": "markdown",
   "metadata": {
    "papermill": {
     "duration": 0.010658,
     "end_time": "2020-11-17T10:10:45.316985",
     "exception": false,
     "start_time": "2020-11-17T10:10:45.306327",
     "status": "completed"
    },
    "tags": []
   },
   "source": [
    "## Figure 2: Rolling 7-day average of daily new cases."
   ]
  },
  {
   "cell_type": "code",
   "execution_count": 8,
   "metadata": {
    "execution": {
     "iopub.execute_input": "2020-11-17T10:10:45.341497Z",
     "iopub.status.busy": "2020-11-17T10:10:45.340899Z",
     "iopub.status.idle": "2020-11-17T10:10:45.579493Z",
     "shell.execute_reply": "2020-11-17T10:10:45.580107Z"
    },
    "jupyter": {
     "source_hidden": true
    },
    "papermill": {
     "duration": 0.253509,
     "end_time": "2020-11-17T10:10:45.580329",
     "exception": false,
     "start_time": "2020-11-17T10:10:45.326820",
     "status": "completed"
    },
    "tags": []
   },
   "outputs": [
    {
     "data": {
      "image/png": "[encoded data removed]",
      "text/plain": [
       "<Figure size 864x432 with 1 Axes>"
      ]
     },
     "metadata": {
      "needs_background": "light"
     },
     "output_type": "display_data"
    }
   ],
   "source": [
    "dc.plot(kind='line',x='DATE',y='14_DAY',color='green',grid='True',figsize=(12,6)).set_xlabel('Date');"
   ]
  },
  {
   "cell_type": "markdown",
   "metadata": {
    "papermill": {
     "duration": 0.010955,
     "end_time": "2020-11-17T10:10:45.602496",
     "exception": false,
     "start_time": "2020-11-17T10:10:45.591541",
     "status": "completed"
    },
    "tags": []
   },
   "source": [
    "## Figure 3: Rolling 14-day average of daily new cases."
   ]
  },
  {
   "cell_type": "markdown",
   "metadata": {
    "papermill": {
     "duration": 0.016962,
     "end_time": "2020-11-17T10:10:45.632230",
     "exception": false,
     "start_time": "2020-11-17T10:10:45.615268",
     "status": "completed"
    },
    "tags": []
   },
   "source": [
    "Data source: [Wisconsin Department of Health Services](https://data.dhsgis.wi.gov/datasets/covid-19-historical-data-table/)"
   ]
  },
  {
   "cell_type": "code",
   "execution_count": 9,
   "metadata": {
    "execution": {
     "iopub.execute_input": "2020-11-17T10:10:45.658563Z",
     "iopub.status.busy": "2020-11-17T10:10:45.657948Z",
     "iopub.status.idle": "2020-11-17T10:10:45.660823Z",
     "shell.execute_reply": "2020-11-17T10:10:45.661406Z"
    },
    "jupyter": {
     "source_hidden": true
    },
    "papermill": {
     "duration": 0.018537,
     "end_time": "2020-11-17T10:10:45.661566",
     "exception": false,
     "start_time": "2020-11-17T10:10:45.643029",
     "status": "completed"
    },
    "tags": []
   },
   "outputs": [
    {
     "data": {
      "text/html": [
       "<style>\n",
       "div.input {\n",
       "    display:none;\n",
       "}\n",
       "</style>\n"
      ],
      "text/plain": [
       "<IPython.core.display.HTML object>"
      ]
     },
     "metadata": {},
     "output_type": "display_data"
    }
   ],
   "source": [
    "%%html\n",
    "<style>\n",
    "div.input {\n",
    "    display:none;\n",
    "}\n",
    "</style>"
   ]
  }
 ],
 "metadata": {
  "kernelspec": {
   "display_name": "Python 3",
   "language": "python",
   "name": "python3"
  },
  "language_info": {
   "codemirror_mode": {
    "name": "ipython",
    "version": 3
   },
   "file_extension": ".py",
   "mimetype": "text/x-python",
   "name": "python",
   "nbconvert_exporter": "python",
   "pygments_lexer": "ipython3",
   "version": "3.8.6"
  },
  "papermill": {
   "duration": 5.683547,
   "end_time": "2020-11-17T10:10:45.984982",
   "environment_variables": {},
   "exception": null,
   "input_path": "DunnCounty_COVID19.ipynb",
   "output_path": "DunnCounty_COVID19.ipynb",
   "parameters": {
    "Start": "True",
    "secretsPath": "/home/runner/work/_temp/secrets.json"
   },
   "start_time": "2020-11-17T10:10:40.301435",
   "version": "1.1.16"
  }
 },
 "nbformat": 4,
 "nbformat_minor": 2
}