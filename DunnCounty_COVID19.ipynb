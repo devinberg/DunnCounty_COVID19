{
 "cells": [
  {
   "cell_type": "code",
   "execution_count": 1,
   "metadata": {
    "execution": {
     "iopub.execute_input": "2020-11-27T10:11:26.775616Z",
     "iopub.status.busy": "2020-11-27T10:11:26.775052Z",
     "iopub.status.idle": "2020-11-27T10:11:28.770436Z",
     "shell.execute_reply": "2020-11-27T10:11:28.769399Z"
    },
    "jupyter": {
     "source_hidden": true
    },
    "papermill": {
     "duration": 2.010406,
     "end_time": "2020-11-27T10:11:28.770642",
     "exception": false,
     "start_time": "2020-11-27T10:11:26.760236",
     "status": "completed"
    },
    "scrolled": true,
    "tags": [
     "hide-input"
    ]
   },
   "outputs": [],
   "source": [
    "import pandas as pd\n",
    "import matplotlib.pyplot as plt\n",
    "from matplotlib import dates\n",
    "from IPython.display import display, Markdown\n",
    "%matplotlib inline"
   ]
  },
  {
   "cell_type": "code",
   "execution_count": 2,
   "metadata": {
    "execution": {
     "iopub.execute_input": "2020-11-27T10:11:28.789914Z",
     "iopub.status.busy": "2020-11-27T10:11:28.789245Z",
     "iopub.status.idle": "2020-11-27T10:11:29.491856Z",
     "shell.execute_reply": "2020-11-27T10:11:29.491005Z"
    },
    "jupyter": {
     "source_hidden": true
    },
    "papermill": {
     "duration": 0.714365,
     "end_time": "2020-11-27T10:11:29.492082",
     "exception": false,
     "start_time": "2020-11-27T10:11:28.777717",
     "status": "completed"
    },
    "scrolled": true,
    "tags": [
     "hide-input"
    ]
   },
   "outputs": [],
   "source": [
    "# This is the data for all of Wisconsin.\n",
    "url = \"https://opendata.arcgis.com/datasets/5374188992374b318d3e2305216ee413_12.csv\"\n",
    "data = pd.read_csv(url, parse_dates=['DATE'], low_memory=False)"
   ]
  },
  {
   "cell_type": "code",
   "execution_count": 3,
   "metadata": {
    "execution": {
     "iopub.execute_input": "2020-11-27T10:11:29.516642Z",
     "iopub.status.busy": "2020-11-27T10:11:29.516056Z",
     "iopub.status.idle": "2020-11-27T10:11:29.525076Z",
     "shell.execute_reply": "2020-11-27T10:11:29.524594Z"
    },
    "jupyter": {
     "source_hidden": true
    },
    "papermill": {
     "duration": 0.021952,
     "end_time": "2020-11-27T10:11:29.525193",
     "exception": false,
     "start_time": "2020-11-27T10:11:29.503241",
     "status": "completed"
    },
    "scrolled": true,
    "tags": [
     "hide-input"
    ]
   },
   "outputs": [],
   "source": [
    "dc = data.groupby('NAME').get_group('Dunn').sort_values(by='DATE') # Select the data for Dunn County from the full data.\n",
    "PNi = dc.columns.get_loc(\"POS_NEW\")\n",
    "dc['7_DAY'] = dc.iloc[:,PNi].rolling(window=7).mean() # Calculates the rolling 7-day average of new cases.\n",
    "dc['14_DAY'] = dc.iloc[:,PNi].rolling(window=14).mean() # Calculates the rolling 14-day average of new cases."
   ]
  },
  {
   "cell_type": "code",
   "execution_count": 4,
   "metadata": {
    "execution": {
     "iopub.execute_input": "2020-11-27T10:11:29.544160Z",
     "iopub.status.busy": "2020-11-27T10:11:29.543616Z",
     "iopub.status.idle": "2020-11-27T10:11:29.546220Z",
     "shell.execute_reply": "2020-11-27T10:11:29.546623Z"
    },
    "jupyter": {
     "source_hidden": true
    },
    "papermill": {
     "duration": 0.014966,
     "end_time": "2020-11-27T10:11:29.546753",
     "exception": false,
     "start_time": "2020-11-27T10:11:29.531787",
     "status": "completed"
    },
    "scrolled": true,
    "tags": [
     "hide-input"
    ]
   },
   "outputs": [
    {
     "data": {
      "text/markdown": [
       "### Last updated: November 26, 2020"
      ],
      "text/plain": [
       "<IPython.core.display.Markdown object>"
      ]
     },
     "metadata": {},
     "output_type": "display_data"
    }
   ],
   "source": [
    "display(Markdown('### Last updated: ' + dc.iloc[-1]['DATE'].strftime(\"%B %d, %Y\")))"
   ]
  },
  {
   "cell_type": "code",
   "execution_count": 5,
   "metadata": {
    "execution": {
     "iopub.execute_input": "2020-11-27T10:11:29.565363Z",
     "iopub.status.busy": "2020-11-27T10:11:29.564822Z",
     "iopub.status.idle": "2020-11-27T10:11:29.567173Z",
     "shell.execute_reply": "2020-11-27T10:11:29.567691Z"
    },
    "jupyter": {
     "source_hidden": true
    },
    "papermill": {
     "duration": 0.014241,
     "end_time": "2020-11-27T10:11:29.567824",
     "exception": false,
     "start_time": "2020-11-27T10:11:29.553583",
     "status": "completed"
    },
    "tags": [
     "hide-input"
    ]
   },
   "outputs": [
    {
     "data": {
      "text/markdown": [
       "# Dunn County has 2720 total positive cases, with 69 new cases reported today."
      ],
      "text/plain": [
       "<IPython.core.display.Markdown object>"
      ]
     },
     "metadata": {},
     "output_type": "display_data"
    }
   ],
   "source": [
    "display(Markdown('# Dunn County has ' + str(dc.iloc[-1]['POSITIVE']) + ' total positive cases, with '+ str(int(dc.iloc[-1]['POS_NEW'])) + ' new cases reported today.'))"
   ]
  },
  {
   "cell_type": "code",
   "execution_count": 6,
   "metadata": {
    "execution": {
     "iopub.execute_input": "2020-11-27T10:11:29.586293Z",
     "iopub.status.busy": "2020-11-27T10:11:29.585749Z",
     "iopub.status.idle": "2020-11-27T10:11:29.806162Z",
     "shell.execute_reply": "2020-11-27T10:11:29.805686Z"
    },
    "jupyter": {
     "source_hidden": true
    },
    "papermill": {
     "duration": 0.231212,
     "end_time": "2020-11-27T10:11:29.806304",
     "exception": false,
     "start_time": "2020-11-27T10:11:29.575092",
     "status": "completed"
    },
    "scrolled": false,
    "tags": [
     "hide-input"
    ]
   },
   "outputs": [
    {
     "data": {
      "image/png": "[encoded data removed]",
      "text/plain": [
       "<Figure size 864x432 with 1 Axes>"
      ]
     },
     "metadata": {
      "needs_background": "light"
     },
     "output_type": "display_data"
    }
   ],
   "source": [
    "dc.plot(x='DATE',y='POSITIVE',color='red',grid='True',figsize=(12,6)).set_xlabel('Date');"
   ]
  },
  {
   "cell_type": "markdown",
   "metadata": {
    "papermill": {
     "duration": 0.008924,
     "end_time": "2020-11-27T10:11:29.823913",
     "exception": false,
     "start_time": "2020-11-27T10:11:29.814989",
     "status": "completed"
    },
    "tags": []
   },
   "source": [
    "## Figure 1: Cummulative number of positive cases."
   ]
  },
  {
   "cell_type": "code",
   "execution_count": 7,
   "metadata": {
    "execution": {
     "iopub.execute_input": "2020-11-27T10:11:29.845650Z",
     "iopub.status.busy": "2020-11-27T10:11:29.845096Z",
     "iopub.status.idle": "2020-11-27T10:11:30.058527Z",
     "shell.execute_reply": "2020-11-27T10:11:30.058955Z"
    },
    "jupyter": {
     "source_hidden": true
    },
    "papermill": {
     "duration": 0.226581,
     "end_time": "2020-11-27T10:11:30.059132",
     "exception": false,
     "start_time": "2020-11-27T10:11:29.832551",
     "status": "completed"
    },
    "scrolled": false,
    "tags": [
     "hide-input"
    ]
   },
   "outputs": [
    {
     "data": {
      "image/png": "[encoded data removed]",
      "text/plain": [
       "<Figure size 864x432 with 1 Axes>"
      ]
     },
     "metadata": {
      "needs_background": "light"
     },
     "output_type": "display_data"
    }
   ],
   "source": [
    "dc.plot(kind='line',x='DATE',y='7_DAY',color='blue',grid='True',figsize=(12,6)).set_xlabel('Date');"
   ]
  },
  {
   "cell_type": "markdown",
   "metadata": {
    "papermill": {
     "duration": 0.010085,
     "end_time": "2020-11-27T10:11:30.079109",
     "exception": false,
     "start_time": "2020-11-27T10:11:30.069024",
     "status": "completed"
    },
    "tags": []
   },
   "source": [
    "## Figure 2: Rolling 7-day average of daily new cases."
   ]
  },
  {
   "cell_type": "code",
   "execution_count": 8,
   "metadata": {
    "execution": {
     "iopub.execute_input": "2020-11-27T10:11:30.133904Z",
     "iopub.status.busy": "2020-11-27T10:11:30.130954Z",
     "iopub.status.idle": "2020-11-27T10:11:30.372227Z",
     "shell.execute_reply": "2020-11-27T10:11:30.371337Z"
    },
    "jupyter": {
     "source_hidden": true
    },
    "papermill": {
     "duration": 0.283667,
     "end_time": "2020-11-27T10:11:30.372419",
     "exception": false,
     "start_time": "2020-11-27T10:11:30.088752",
     "status": "completed"
    },
    "tags": []
   },
   "outputs": [
    {
     "data": {
      "image/png": "[encoded data removed]",
      "text/plain": [
       "<Figure size 864x432 with 1 Axes>"
      ]
     },
     "metadata": {
      "needs_background": "light"
     },
     "output_type": "display_data"
    }
   ],
   "source": [
    "dc.plot(kind='line',x='DATE',y='14_DAY',color='green',grid='True',figsize=(12,6)).set_xlabel('Date');"
   ]
  },
  {
   "cell_type": "markdown",
   "metadata": {
    "papermill": {
     "duration": 0.010477,
     "end_time": "2020-11-27T10:11:30.393639",
     "exception": false,
     "start_time": "2020-11-27T10:11:30.383162",
     "status": "completed"
    },
    "tags": []
   },
   "source": [
    "## Figure 3: Rolling 14-day average of daily new cases."
   ]
  },
  {
   "cell_type": "markdown",
   "metadata": {
    "papermill": {
     "duration": 0.010033,
     "end_time": "2020-11-27T10:11:30.413918",
     "exception": false,
     "start_time": "2020-11-27T10:11:30.403885",
     "status": "completed"
    },
    "tags": []
   },
   "source": [
    "Data source: [Wisconsin Department of Health Services](https://data.dhsgis.wi.gov/datasets/covid-19-historical-data-table/)"
   ]
  },
  {
   "cell_type": "code",
   "execution_count": 9,
   "metadata": {
    "execution": {
     "iopub.execute_input": "2020-11-27T10:11:30.438808Z",
     "iopub.status.busy": "2020-11-27T10:11:30.438291Z",
     "iopub.status.idle": "2020-11-27T10:11:30.442012Z",
     "shell.execute_reply": "2020-11-27T10:11:30.441622Z"
    },
    "jupyter": {
     "source_hidden": true
    },
    "papermill": {
     "duration": 0.018144,
     "end_time": "2020-11-27T10:11:30.442116",
     "exception": false,
     "start_time": "2020-11-27T10:11:30.423972",
     "status": "completed"
    },
    "tags": []
   },
   "outputs": [
    {
     "data": {
      "text/html": [
       "<style>\n",
       "div.input {\n",
       "    display:none;\n",
       "}\n",
       "</style>\n"
      ],
      "text/plain": [
       "<IPython.core.display.HTML object>"
      ]
     },
     "metadata": {},
     "output_type": "display_data"
    }
   ],
   "source": [
    "%%html\n",
    "<style>\n",
    "div.input {\n",
    "    display:none;\n",
    "}\n",
    "</style>"
   ]
  }
 ],
 "metadata": {
  "kernelspec": {
   "display_name": "Python 3",
   "language": "python",
   "name": "python3"
  },
  "language_info": {
   "codemirror_mode": {
    "name": "ipython",
    "version": 3
   },
   "file_extension": ".py",
   "mimetype": "text/x-python",
   "name": "python",
   "nbconvert_exporter": "python",
   "pygments_lexer": "ipython3",
   "version": "3.8.6"
  },
  "papermill": {
   "duration": 5.244699,
   "end_time": "2020-11-27T10:11:30.760404",
   "environment_variables": {},
   "exception": null,
   "input_path": "DunnCounty_COVID19.ipynb",
   "output_path": "DunnCounty_COVID19.ipynb",
   "parameters": {
    "Start": "True",
    "secretsPath": "/home/runner/work/_temp/secrets.json"
   },
   "start_time": "2020-11-27T10:11:25.515705",
   "version": "1.1.16"
  }
 },
 "nbformat": 4,
 "nbformat_minor": 2
}