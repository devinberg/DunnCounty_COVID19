{
 "cells": [
  {
   "cell_type": "code",
   "execution_count": 1,
   "id": "solar-understanding",
   "metadata": {
    "execution": {
     "iopub.execute_input": "2021-07-30T10:12:53.668082Z",
     "iopub.status.busy": "2021-07-30T10:12:53.666339Z",
     "iopub.status.idle": "2021-07-30T10:12:56.108397Z",
     "shell.execute_reply": "2021-07-30T10:12:56.107731Z"
    },
    "jupyter": {
     "source_hidden": true
    },
    "papermill": {
     "duration": 2.462015,
     "end_time": "2021-07-30T10:12:56.108565",
     "exception": false,
     "start_time": "2021-07-30T10:12:53.646550",
     "status": "completed"
    },
    "scrolled": true,
    "tags": [
     "hide-input"
    ]
   },
   "outputs": [],
   "source": [
    "import pandas as pd\n",
    "import matplotlib.pyplot as plt\n",
    "from matplotlib import dates\n",
    "from IPython.display import display, Markdown\n",
    "%matplotlib inline"
   ]
  },
  {
   "cell_type": "code",
   "execution_count": 2,
   "id": "purple-playlist",
   "metadata": {
    "execution": {
     "iopub.execute_input": "2021-07-30T10:12:56.133588Z",
     "iopub.status.busy": "2021-07-30T10:12:56.132973Z",
     "iopub.status.idle": "2021-07-30T10:12:57.240169Z",
     "shell.execute_reply": "2021-07-30T10:12:57.239593Z"
    },
    "jupyter": {
     "source_hidden": true
    },
    "papermill": {
     "duration": 1.121933,
     "end_time": "2021-07-30T10:12:57.240318",
     "exception": false,
     "start_time": "2021-07-30T10:12:56.118385",
     "status": "completed"
    },
    "scrolled": true,
    "tags": [
     "hide-input"
    ]
   },
   "outputs": [],
   "source": [
    "# This is the data for all of Wisconsin.\n",
    "url = \"https://opendata.arcgis.com/api/v3/datasets/3161f6e01d8141c6abe85a29ff7f3d3c_12/downloads/data?format=csv&spatialRefId=3857\"\n",
    "data = pd.read_csv(url, parse_dates=['DATE'], low_memory=False)"
   ]
  },
  {
   "cell_type": "code",
   "execution_count": 3,
   "id": "proprietary-klein",
   "metadata": {
    "execution": {
     "iopub.execute_input": "2021-07-30T10:12:57.266776Z",
     "iopub.status.busy": "2021-07-30T10:12:57.266272Z",
     "iopub.status.idle": "2021-07-30T10:12:57.274853Z",
     "shell.execute_reply": "2021-07-30T10:12:57.274439Z"
    },
    "jupyter": {
     "source_hidden": true
    },
    "papermill": {
     "duration": 0.024669,
     "end_time": "2021-07-30T10:12:57.274962",
     "exception": false,
     "start_time": "2021-07-30T10:12:57.250293",
     "status": "completed"
    },
    "scrolled": true,
    "tags": [
     "hide-input"
    ]
   },
   "outputs": [],
   "source": [
    "dc = data.groupby('NAME').get_group('Dunn').sort_values(by='DATE') # Select the data for Dunn County from the full data.\n",
    "PNi = dc.columns.get_loc(\"POS_NEW\")\n",
    "dc['7_DAY'] = dc.iloc[:,PNi].rolling(window=7).mean() # Calculates the rolling 7-day average of new cases.\n",
    "dc['14_DAY'] = dc.iloc[:,PNi].rolling(window=14).mean() # Calculates the rolling 14-day average of new cases."
   ]
  },
  {
   "cell_type": "code",
   "execution_count": 4,
   "id": "steady-supervision",
   "metadata": {
    "execution": {
     "iopub.execute_input": "2021-07-30T10:12:57.299592Z",
     "iopub.status.busy": "2021-07-30T10:12:57.299016Z",
     "iopub.status.idle": "2021-07-30T10:12:57.301577Z",
     "shell.execute_reply": "2021-07-30T10:12:57.302035Z"
    },
    "jupyter": {
     "source_hidden": true
    },
    "papermill": {
     "duration": 0.018904,
     "end_time": "2021-07-30T10:12:57.302166",
     "exception": false,
     "start_time": "2021-07-30T10:12:57.283262",
     "status": "completed"
    },
    "scrolled": true,
    "tags": [
     "hide-input"
    ]
   },
   "outputs": [
    {
     "data": {
      "text/markdown": [
       "### Last updated: July 29, 2021"
      ],
      "text/plain": [
       "<IPython.core.display.Markdown object>"
      ]
     },
     "metadata": {},
     "output_type": "display_data"
    }
   ],
   "source": [
    "display(Markdown('### Last updated: ' + dc.iloc[-1]['DATE'].strftime(\"%B %d, %Y\")))"
   ]
  },
  {
   "cell_type": "code",
   "execution_count": 5,
   "id": "lonely-pitch",
   "metadata": {
    "execution": {
     "iopub.execute_input": "2021-07-30T10:12:57.325662Z",
     "iopub.status.busy": "2021-07-30T10:12:57.325092Z",
     "iopub.status.idle": "2021-07-30T10:12:57.328843Z",
     "shell.execute_reply": "2021-07-30T10:12:57.328380Z"
    },
    "jupyter": {
     "source_hidden": true
    },
    "papermill": {
     "duration": 0.017916,
     "end_time": "2021-07-30T10:12:57.328953",
     "exception": false,
     "start_time": "2021-07-30T10:12:57.311037",
     "status": "completed"
    },
    "tags": [
     "hide-input"
    ]
   },
   "outputs": [
    {
     "data": {
      "text/markdown": [
       "# Dunn County has 4772 total positive cases, with 4 new cases reported today."
      ],
      "text/plain": [
       "<IPython.core.display.Markdown object>"
      ]
     },
     "metadata": {},
     "output_type": "display_data"
    }
   ],
   "source": [
    "display(Markdown('# Dunn County has ' + str(dc.iloc[-1]['POSITIVE']) + ' total positive cases, with '+ str(int(dc.iloc[-1]['POS_NEW'])) + ' new cases reported today.'))"
   ]
  },
  {
   "cell_type": "code",
   "execution_count": 6,
   "id": "compound-nightmare",
   "metadata": {
    "execution": {
     "iopub.execute_input": "2021-07-30T10:12:57.352074Z",
     "iopub.status.busy": "2021-07-30T10:12:57.351542Z",
     "iopub.status.idle": "2021-07-30T10:12:57.905893Z",
     "shell.execute_reply": "2021-07-30T10:12:57.906394Z"
    },
    "jupyter": {
     "source_hidden": true
    },
    "papermill": {
     "duration": 0.568261,
     "end_time": "2021-07-30T10:12:57.906576",
     "exception": false,
     "start_time": "2021-07-30T10:12:57.338315",
     "status": "completed"
    },
    "scrolled": false,
    "tags": [
     "hide-input"
    ]
   },
   "outputs": [
    {
     "data": {
      "image/png": "[encoded data removed]",
      "text/plain": [
       "<Figure size 864x432 with 1 Axes>"
      ]
     },
     "metadata": {
      "needs_background": "light"
     },
     "output_type": "display_data"
    }
   ],
   "source": [
    "dc.plot(x='DATE',y='POSITIVE',color='red',grid='True',figsize=(12,6)).set_xlabel('Date');"
   ]
  },
  {
   "cell_type": "markdown",
   "id": "coupled-literacy",
   "metadata": {
    "papermill": {
     "duration": 0.01049,
     "end_time": "2021-07-30T10:12:57.928638",
     "exception": false,
     "start_time": "2021-07-30T10:12:57.918148",
     "status": "completed"
    },
    "tags": []
   },
   "source": [
    "## Figure 1: Cummulative number of positive cases."
   ]
  },
  {
   "cell_type": "code",
   "execution_count": 7,
   "id": "surrounded-reserve",
   "metadata": {
    "execution": {
     "iopub.execute_input": "2021-07-30T10:12:57.953733Z",
     "iopub.status.busy": "2021-07-30T10:12:57.953198Z",
     "iopub.status.idle": "2021-07-30T10:12:58.171392Z",
     "shell.execute_reply": "2021-07-30T10:12:58.171801Z"
    },
    "jupyter": {
     "source_hidden": true
    },
    "papermill": {
     "duration": 0.233402,
     "end_time": "2021-07-30T10:12:58.171980",
     "exception": false,
     "start_time": "2021-07-30T10:12:57.938578",
     "status": "completed"
    },
    "scrolled": false,
    "tags": [
     "hide-input"
    ]
   },
   "outputs": [
    {
     "data": {
      "image/png": "[encoded data removed]",
      "text/plain": [
       "<Figure size 864x432 with 1 Axes>"
      ]
     },
     "metadata": {
      "needs_background": "light"
     },
     "output_type": "display_data"
    }
   ],
   "source": [
    "dc.plot(kind='line',x='DATE',y='7_DAY',color='blue',grid='True',figsize=(12,6)).set_xlabel('Date');"
   ]
  },
  {
   "cell_type": "markdown",
   "id": "professional-savannah",
   "metadata": {
    "papermill": {
     "duration": 0.011448,
     "end_time": "2021-07-30T10:12:58.196477",
     "exception": false,
     "start_time": "2021-07-30T10:12:58.185029",
     "status": "completed"
    },
    "tags": []
   },
   "source": [
    "## Figure 2: Rolling 7-day average of daily new cases."
   ]
  },
  {
   "cell_type": "code",
   "execution_count": 8,
   "id": "stretch-investor",
   "metadata": {
    "execution": {
     "iopub.execute_input": "2021-07-30T10:12:58.223695Z",
     "iopub.status.busy": "2021-07-30T10:12:58.223151Z",
     "iopub.status.idle": "2021-07-30T10:12:58.440622Z",
     "shell.execute_reply": "2021-07-30T10:12:58.440167Z"
    },
    "jupyter": {
     "source_hidden": true
    },
    "papermill": {
     "duration": 0.233179,
     "end_time": "2021-07-30T10:12:58.440748",
     "exception": false,
     "start_time": "2021-07-30T10:12:58.207569",
     "status": "completed"
    },
    "tags": []
   },
   "outputs": [
    {
     "data": {
      "image/png": "[encoded data removed]",
      "text/plain": [
       "<Figure size 864x432 with 1 Axes>"
      ]
     },
     "metadata": {
      "needs_background": "light"
     },
     "output_type": "display_data"
    }
   ],
   "source": [
    "dc.plot(kind='line',x='DATE',y='14_DAY',color='green',grid='True',figsize=(12,6)).set_xlabel('Date');"
   ]
  },
  {
   "cell_type": "markdown",
   "id": "prerequisite-species",
   "metadata": {
    "papermill": {
     "duration": 0.012452,
     "end_time": "2021-07-30T10:12:58.466049",
     "exception": false,
     "start_time": "2021-07-30T10:12:58.453597",
     "status": "completed"
    },
    "tags": []
   },
   "source": [
    "## Figure 3: Rolling 14-day average of daily new cases."
   ]
  },
  {
   "cell_type": "markdown",
   "id": "palestinian-guard",
   "metadata": {
    "papermill": {
     "duration": 0.012234,
     "end_time": "2021-07-30T10:12:58.490611",
     "exception": false,
     "start_time": "2021-07-30T10:12:58.478377",
     "status": "completed"
    },
    "tags": []
   },
   "source": [
    "Data source: [Wisconsin Department of Health Services](https://data.dhsgis.wi.gov/datasets/wi-dhs::covid-19-historical-data-by-county-1)"
   ]
  },
  {
   "cell_type": "code",
   "execution_count": 9,
   "id": "proof-medicare",
   "metadata": {
    "execution": {
     "iopub.execute_input": "2021-07-30T10:12:58.521922Z",
     "iopub.status.busy": "2021-07-30T10:12:58.521290Z",
     "iopub.status.idle": "2021-07-30T10:12:58.523450Z",
     "shell.execute_reply": "2021-07-30T10:12:58.523846Z"
    },
    "jupyter": {
     "source_hidden": true
    },
    "papermill": {
     "duration": 0.02095,
     "end_time": "2021-07-30T10:12:58.523981",
     "exception": false,
     "start_time": "2021-07-30T10:12:58.503031",
     "status": "completed"
    },
    "tags": []
   },
   "outputs": [
    {
     "data": {
      "text/html": [
       "<style>\n",
       "div.input {\n",
       "    display:none;\n",
       "}\n",
       "</style>\n"
      ],
      "text/plain": [
       "<IPython.core.display.HTML object>"
      ]
     },
     "metadata": {},
     "output_type": "display_data"
    }
   ],
   "source": [
    "%%html\n",
    "<style>\n",
    "div.input {\n",
    "    display:none;\n",
    "}\n",
    "</style>"
   ]
  }
 ],
 "metadata": {
  "kernelspec": {
   "display_name": "Python 3",
   "language": "python",
   "name": "python3"
  },
  "language_info": {
   "codemirror_mode": {
    "name": "ipython",
    "version": 3
   },
   "file_extension": ".py",
   "mimetype": "text/x-python",
   "name": "python",
   "nbconvert_exporter": "python",
   "pygments_lexer": "ipython3",
   "version": "3.8.11"
  },
  "papermill": {
   "duration": 8.008456,
   "end_time": "2021-07-30T10:12:59.729494",
   "environment_variables": {},
   "exception": null,
   "input_path": "DunnCounty_COVID19.ipynb",
   "output_path": "DunnCounty_COVID19.ipynb",
   "parameters": {
    "Start": "True",
    "secretsPath": "/home/runner/work/_temp/secrets.json"
   },
   "start_time": "2021-07-30T10:12:51.721038",
   "version": "1.1.16"
  }
 },
 "nbformat": 4,
 "nbformat_minor": 5
}