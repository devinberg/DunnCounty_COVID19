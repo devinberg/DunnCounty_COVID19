{
 "cells": [
  {
   "cell_type": "code",
   "execution_count": 1,
   "metadata": {
    "execution": {
     "iopub.execute_input": "2020-12-29T22:19:11.627957Z",
     "iopub.status.busy": "2020-12-29T22:19:11.627374Z",
     "iopub.status.idle": "2020-12-29T22:19:14.109608Z",
     "shell.execute_reply": "2020-12-29T22:19:14.108555Z"
    },
    "jupyter": {
     "source_hidden": true
    },
    "papermill": {
     "duration": 2.501108,
     "end_time": "2020-12-29T22:19:14.109803",
     "exception": false,
     "start_time": "2020-12-29T22:19:11.608695",
     "status": "completed"
    },
    "scrolled": true,
    "tags": [
     "hide-input"
    ]
   },
   "outputs": [],
   "source": [
    "import pandas as pd\n",
    "import matplotlib.pyplot as plt\n",
    "from matplotlib import dates\n",
    "from IPython.display import display, Markdown\n",
    "%matplotlib inline"
   ]
  },
  {
   "cell_type": "code",
   "execution_count": 2,
   "metadata": {
    "execution": {
     "iopub.execute_input": "2020-12-29T22:19:14.130789Z",
     "iopub.status.busy": "2020-12-29T22:19:14.130144Z",
     "iopub.status.idle": "2020-12-29T22:19:14.673882Z",
     "shell.execute_reply": "2020-12-29T22:19:14.673319Z"
    },
    "jupyter": {
     "source_hidden": true
    },
    "papermill": {
     "duration": 0.556481,
     "end_time": "2020-12-29T22:19:14.674026",
     "exception": false,
     "start_time": "2020-12-29T22:19:14.117545",
     "status": "completed"
    },
    "scrolled": true,
    "tags": [
     "hide-input"
    ]
   },
   "outputs": [],
   "source": [
    "# This is the data for all of Wisconsin.\n",
    "url = \"https://opendata.arcgis.com/datasets/5374188992374b318d3e2305216ee413_12.csv\"\n",
    "data = pd.read_csv(url, parse_dates=['DATE'], low_memory=False)"
   ]
  },
  {
   "cell_type": "code",
   "execution_count": 3,
   "metadata": {
    "execution": {
     "iopub.execute_input": "2020-12-29T22:19:14.695822Z",
     "iopub.status.busy": "2020-12-29T22:19:14.695202Z",
     "iopub.status.idle": "2020-12-29T22:19:14.702687Z",
     "shell.execute_reply": "2020-12-29T22:19:14.702244Z"
    },
    "jupyter": {
     "source_hidden": true
    },
    "papermill": {
     "duration": 0.020939,
     "end_time": "2020-12-29T22:19:14.702802",
     "exception": false,
     "start_time": "2020-12-29T22:19:14.681863",
     "status": "completed"
    },
    "scrolled": true,
    "tags": [
     "hide-input"
    ]
   },
   "outputs": [],
   "source": [
    "dc = data.groupby('NAME').get_group('Dunn').sort_values(by='DATE') # Select the data for Dunn County from the full data.\n",
    "PNi = dc.columns.get_loc(\"POS_NEW\")\n",
    "dc['7_DAY'] = dc.iloc[:,PNi].rolling(window=7).mean() # Calculates the rolling 7-day average of new cases.\n",
    "dc['14_DAY'] = dc.iloc[:,PNi].rolling(window=14).mean() # Calculates the rolling 14-day average of new cases."
   ]
  },
  {
   "cell_type": "code",
   "execution_count": 4,
   "metadata": {
    "execution": {
     "iopub.execute_input": "2020-12-29T22:19:14.724441Z",
     "iopub.status.busy": "2020-12-29T22:19:14.723641Z",
     "iopub.status.idle": "2020-12-29T22:19:14.727463Z",
     "shell.execute_reply": "2020-12-29T22:19:14.727902Z"
    },
    "jupyter": {
     "source_hidden": true
    },
    "papermill": {
     "duration": 0.017819,
     "end_time": "2020-12-29T22:19:14.728036",
     "exception": false,
     "start_time": "2020-12-29T22:19:14.710217",
     "status": "completed"
    },
    "scrolled": true,
    "tags": [
     "hide-input"
    ]
   },
   "outputs": [
    {
     "data": {
      "text/markdown": [
       "### Last updated: December 29, 2020"
      ],
      "text/plain": [
       "<IPython.core.display.Markdown object>"
      ]
     },
     "metadata": {},
     "output_type": "display_data"
    }
   ],
   "source": [
    "display(Markdown('### Last updated: ' + dc.iloc[-1]['DATE'].strftime(\"%B %d, %Y\")))"
   ]
  },
  {
   "cell_type": "code",
   "execution_count": 5,
   "metadata": {
    "execution": {
     "iopub.execute_input": "2020-12-29T22:19:14.746832Z",
     "iopub.status.busy": "2020-12-29T22:19:14.746203Z",
     "iopub.status.idle": "2020-12-29T22:19:14.749641Z",
     "shell.execute_reply": "2020-12-29T22:19:14.749163Z"
    },
    "jupyter": {
     "source_hidden": true
    },
    "papermill": {
     "duration": 0.014681,
     "end_time": "2020-12-29T22:19:14.749755",
     "exception": false,
     "start_time": "2020-12-29T22:19:14.735074",
     "status": "completed"
    },
    "tags": [
     "hide-input"
    ]
   },
   "outputs": [
    {
     "data": {
      "text/markdown": [
       "# Dunn County has 3446 total positive cases, with 7 new cases reported today."
      ],
      "text/plain": [
       "<IPython.core.display.Markdown object>"
      ]
     },
     "metadata": {},
     "output_type": "display_data"
    }
   ],
   "source": [
    "display(Markdown('# Dunn County has ' + str(dc.iloc[-1]['POSITIVE']) + ' total positive cases, with '+ str(int(dc.iloc[-1]['POS_NEW'])) + ' new cases reported today.'))"
   ]
  },
  {
   "cell_type": "code",
   "execution_count": 6,
   "metadata": {
    "execution": {
     "iopub.execute_input": "2020-12-29T22:19:14.769627Z",
     "iopub.status.busy": "2020-12-29T22:19:14.768997Z",
     "iopub.status.idle": "2020-12-29T22:19:15.032274Z",
     "shell.execute_reply": "2020-12-29T22:19:15.032908Z"
    },
    "jupyter": {
     "source_hidden": true
    },
    "papermill": {
     "duration": 0.275567,
     "end_time": "2020-12-29T22:19:15.033093",
     "exception": false,
     "start_time": "2020-12-29T22:19:14.757526",
     "status": "completed"
    },
    "scrolled": false,
    "tags": [
     "hide-input"
    ]
   },
   "outputs": [
    {
     "data": {
      "image/png": "[encoded data removed]",
      "text/plain": [
       "<Figure size 864x432 with 1 Axes>"
      ]
     },
     "metadata": {
      "needs_background": "light"
     },
     "output_type": "display_data"
    }
   ],
   "source": [
    "dc.plot(x='DATE',y='POSITIVE',color='red',grid='True',figsize=(12,6)).set_xlabel('Date');"
   ]
  },
  {
   "cell_type": "markdown",
   "metadata": {
    "papermill": {
     "duration": 0.010373,
     "end_time": "2020-12-29T22:19:15.052253",
     "exception": false,
     "start_time": "2020-12-29T22:19:15.041880",
     "status": "completed"
    },
    "tags": []
   },
   "source": [
    "## Figure 1: Cummulative number of positive cases."
   ]
  },
  {
   "cell_type": "code",
   "execution_count": 7,
   "metadata": {
    "execution": {
     "iopub.execute_input": "2020-12-29T22:19:15.074787Z",
     "iopub.status.busy": "2020-12-29T22:19:15.074256Z",
     "iopub.status.idle": "2020-12-29T22:19:15.317521Z",
     "shell.execute_reply": "2020-12-29T22:19:15.317962Z"
    },
    "jupyter": {
     "source_hidden": true
    },
    "papermill": {
     "duration": 0.257234,
     "end_time": "2020-12-29T22:19:15.318120",
     "exception": false,
     "start_time": "2020-12-29T22:19:15.060886",
     "status": "completed"
    },
    "scrolled": false,
    "tags": [
     "hide-input"
    ]
   },
   "outputs": [
    {
     "data": {
      "image/png": "[encoded data removed]",
      "text/plain": [
       "<Figure size 864x432 with 1 Axes>"
      ]
     },
     "metadata": {
      "needs_background": "light"
     },
     "output_type": "display_data"
    }
   ],
   "source": [
    "dc.plot(kind='line',x='DATE',y='7_DAY',color='blue',grid='True',figsize=(12,6)).set_xlabel('Date');"
   ]
  },
  {
   "cell_type": "markdown",
   "metadata": {
    "papermill": {
     "duration": 0.009745,
     "end_time": "2020-12-29T22:19:15.337690",
     "exception": false,
     "start_time": "2020-12-29T22:19:15.327945",
     "status": "completed"
    },
    "tags": []
   },
   "source": [
    "## Figure 2: Rolling 7-day average of daily new cases."
   ]
  },
  {
   "cell_type": "code",
   "execution_count": 8,
   "metadata": {
    "execution": {
     "iopub.execute_input": "2020-12-29T22:19:15.360239Z",
     "iopub.status.busy": "2020-12-29T22:19:15.359630Z",
     "iopub.status.idle": "2020-12-29T22:19:15.598511Z",
     "shell.execute_reply": "2020-12-29T22:19:15.598952Z"
    },
    "jupyter": {
     "source_hidden": true
    },
    "papermill": {
     "duration": 0.251672,
     "end_time": "2020-12-29T22:19:15.599128",
     "exception": false,
     "start_time": "2020-12-29T22:19:15.347456",
     "status": "completed"
    },
    "tags": []
   },
   "outputs": [
    {
     "data": {
      "image/png": "[encoded data removed]",
      "text/plain": [
       "<Figure size 864x432 with 1 Axes>"
      ]
     },
     "metadata": {
      "needs_background": "light"
     },
     "output_type": "display_data"
    }
   ],
   "source": [
    "dc.plot(kind='line',x='DATE',y='14_DAY',color='green',grid='True',figsize=(12,6)).set_xlabel('Date');"
   ]
  },
  {
   "cell_type": "markdown",
   "metadata": {
    "papermill": {
     "duration": 0.010738,
     "end_time": "2020-12-29T22:19:15.619927",
     "exception": false,
     "start_time": "2020-12-29T22:19:15.609189",
     "status": "completed"
    },
    "tags": []
   },
   "source": [
    "## Figure 3: Rolling 14-day average of daily new cases."
   ]
  },
  {
   "cell_type": "markdown",
   "metadata": {
    "papermill": {
     "duration": 0.011228,
     "end_time": "2020-12-29T22:19:15.641046",
     "exception": false,
     "start_time": "2020-12-29T22:19:15.629818",
     "status": "completed"
    },
    "tags": []
   },
   "source": [
    "Data source: [Wisconsin Department of Health Services](https://data.dhsgis.wi.gov/datasets/covid-19-historical-data-table/)"
   ]
  },
  {
   "cell_type": "code",
   "execution_count": 9,
   "metadata": {
    "execution": {
     "iopub.execute_input": "2020-12-29T22:19:15.665505Z",
     "iopub.status.busy": "2020-12-29T22:19:15.664944Z",
     "iopub.status.idle": "2020-12-29T22:19:15.668723Z",
     "shell.execute_reply": "2020-12-29T22:19:15.667941Z"
    },
    "jupyter": {
     "source_hidden": true
    },
    "papermill": {
     "duration": 0.017901,
     "end_time": "2020-12-29T22:19:15.668852",
     "exception": false,
     "start_time": "2020-12-29T22:19:15.650951",
     "status": "completed"
    },
    "tags": []
   },
   "outputs": [
    {
     "data": {
      "text/html": [
       "<style>\n",
       "div.input {\n",
       "    display:none;\n",
       "}\n",
       "</style>\n"
      ],
      "text/plain": [
       "<IPython.core.display.HTML object>"
      ]
     },
     "metadata": {},
     "output_type": "display_data"
    }
   ],
   "source": [
    "%%html\n",
    "<style>\n",
    "div.input {\n",
    "    display:none;\n",
    "}\n",
    "</style>"
   ]
  }
 ],
 "metadata": {
  "kernelspec": {
   "display_name": "Python 3",
   "language": "python",
   "name": "python3"
  },
  "language_info": {
   "codemirror_mode": {
    "name": "ipython",
    "version": 3
   },
   "file_extension": ".py",
   "mimetype": "text/x-python",
   "name": "python",
   "nbconvert_exporter": "python",
   "pygments_lexer": "ipython3",
   "version": "3.8.6"
  },
  "papermill": {
   "duration": 6.734518,
   "end_time": "2020-12-29T22:19:16.845683",
   "environment_variables": {},
   "exception": null,
   "input_path": "DunnCounty_COVID19.ipynb",
   "output_path": "DunnCounty_COVID19.ipynb",
   "parameters": {
    "Start": "True",
    "secretsPath": "/home/runner/work/_temp/secrets.json"
   },
   "start_time": "2020-12-29T22:19:10.111165",
   "version": "1.1.16"
  }
 },
 "nbformat": 4,
 "nbformat_minor": 2
}