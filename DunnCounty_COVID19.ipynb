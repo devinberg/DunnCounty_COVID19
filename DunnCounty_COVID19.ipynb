{
 "cells": [
  {
   "cell_type": "code",
   "execution_count": 1,
   "id": "solar-understanding",
   "metadata": {
    "execution": {
     "iopub.execute_input": "2021-08-05T10:12:55.313381Z",
     "iopub.status.busy": "2021-08-05T10:12:55.312917Z",
     "iopub.status.idle": "2021-08-05T10:12:56.095121Z",
     "shell.execute_reply": "2021-08-05T10:12:56.094183Z"
    },
    "jupyter": {
     "source_hidden": true
    },
    "papermill": {
     "duration": 0.802617,
     "end_time": "2021-08-05T10:12:56.095498",
     "exception": false,
     "start_time": "2021-08-05T10:12:55.292881",
     "status": "completed"
    },
    "scrolled": true,
    "tags": [
     "hide-input"
    ]
   },
   "outputs": [],
   "source": [
    "import pandas as pd\n",
    "import matplotlib.pyplot as plt\n",
    "from matplotlib import dates\n",
    "from IPython.display import display, Markdown\n",
    "%matplotlib inline"
   ]
  },
  {
   "cell_type": "code",
   "execution_count": 2,
   "id": "purple-playlist",
   "metadata": {
    "execution": {
     "iopub.execute_input": "2021-08-05T10:12:56.120159Z",
     "iopub.status.busy": "2021-08-05T10:12:56.119634Z",
     "iopub.status.idle": "2021-08-05T10:12:57.271656Z",
     "shell.execute_reply": "2021-08-05T10:12:57.270805Z"
    },
    "jupyter": {
     "source_hidden": true
    },
    "papermill": {
     "duration": 1.16433,
     "end_time": "2021-08-05T10:12:57.271852",
     "exception": false,
     "start_time": "2021-08-05T10:12:56.107522",
     "status": "completed"
    },
    "scrolled": true,
    "tags": [
     "hide-input"
    ]
   },
   "outputs": [],
   "source": [
    "# This is the data for all of Wisconsin.\n",
    "url = \"https://opendata.arcgis.com/api/v3/datasets/3161f6e01d8141c6abe85a29ff7f3d3c_12/downloads/data?format=csv&spatialRefId=3857\"\n",
    "data = pd.read_csv(url, parse_dates=['DATE'], low_memory=False)"
   ]
  },
  {
   "cell_type": "code",
   "execution_count": 3,
   "id": "proprietary-klein",
   "metadata": {
    "execution": {
     "iopub.execute_input": "2021-08-05T10:12:57.296317Z",
     "iopub.status.busy": "2021-08-05T10:12:57.295797Z",
     "iopub.status.idle": "2021-08-05T10:12:57.303865Z",
     "shell.execute_reply": "2021-08-05T10:12:57.303489Z"
    },
    "jupyter": {
     "source_hidden": true
    },
    "papermill": {
     "duration": 0.021985,
     "end_time": "2021-08-05T10:12:57.303954",
     "exception": false,
     "start_time": "2021-08-05T10:12:57.281969",
     "status": "completed"
    },
    "scrolled": true,
    "tags": [
     "hide-input"
    ]
   },
   "outputs": [],
   "source": [
    "dc = data.groupby('NAME').get_group('Dunn').sort_values(by='DATE') # Select the data for Dunn County from the full data.\n",
    "PNi = dc.columns.get_loc(\"POS_NEW\")\n",
    "dc['7_DAY'] = dc.iloc[:,PNi].rolling(window=7).mean() # Calculates the rolling 7-day average of new cases.\n",
    "dc['14_DAY'] = dc.iloc[:,PNi].rolling(window=14).mean() # Calculates the rolling 14-day average of new cases."
   ]
  },
  {
   "cell_type": "code",
   "execution_count": 4,
   "id": "steady-supervision",
   "metadata": {
    "execution": {
     "iopub.execute_input": "2021-08-05T10:12:57.325102Z",
     "iopub.status.busy": "2021-08-05T10:12:57.324592Z",
     "iopub.status.idle": "2021-08-05T10:12:57.327213Z",
     "shell.execute_reply": "2021-08-05T10:12:57.327603Z"
    },
    "jupyter": {
     "source_hidden": true
    },
    "papermill": {
     "duration": 0.016742,
     "end_time": "2021-08-05T10:12:57.327717",
     "exception": false,
     "start_time": "2021-08-05T10:12:57.310975",
     "status": "completed"
    },
    "scrolled": true,
    "tags": [
     "hide-input"
    ]
   },
   "outputs": [
    {
     "data": {
      "text/markdown": [
       "### Last updated: August 04, 2021"
      ],
      "text/plain": [
       "<IPython.core.display.Markdown object>"
      ]
     },
     "metadata": {},
     "output_type": "display_data"
    }
   ],
   "source": [
    "display(Markdown('### Last updated: ' + dc.iloc[-1]['DATE'].strftime(\"%B %d, %Y\")))"
   ]
  },
  {
   "cell_type": "code",
   "execution_count": 5,
   "id": "lonely-pitch",
   "metadata": {
    "execution": {
     "iopub.execute_input": "2021-08-05T10:12:57.347896Z",
     "iopub.status.busy": "2021-08-05T10:12:57.347405Z",
     "iopub.status.idle": "2021-08-05T10:12:57.351262Z",
     "shell.execute_reply": "2021-08-05T10:12:57.350836Z"
    },
    "jupyter": {
     "source_hidden": true
    },
    "papermill": {
     "duration": 0.016381,
     "end_time": "2021-08-05T10:12:57.351365",
     "exception": false,
     "start_time": "2021-08-05T10:12:57.334984",
     "status": "completed"
    },
    "tags": [
     "hide-input"
    ]
   },
   "outputs": [
    {
     "data": {
      "text/markdown": [
       "# Dunn County has 4806 total positive cases, with 4 new cases reported today."
      ],
      "text/plain": [
       "<IPython.core.display.Markdown object>"
      ]
     },
     "metadata": {},
     "output_type": "display_data"
    }
   ],
   "source": [
    "display(Markdown('# Dunn County has ' + str(dc.iloc[-1]['POSITIVE']) + ' total positive cases, with '+ str(int(dc.iloc[-1]['POS_NEW'])) + ' new cases reported today.'))"
   ]
  },
  {
   "cell_type": "code",
   "execution_count": 6,
   "id": "compound-nightmare",
   "metadata": {
    "execution": {
     "iopub.execute_input": "2021-08-05T10:12:57.373812Z",
     "iopub.status.busy": "2021-08-05T10:12:57.373261Z",
     "iopub.status.idle": "2021-08-05T10:12:57.744313Z",
     "shell.execute_reply": "2021-08-05T10:12:57.743763Z"
    },
    "jupyter": {
     "source_hidden": true
    },
    "papermill": {
     "duration": 0.383999,
     "end_time": "2021-08-05T10:12:57.744419",
     "exception": false,
     "start_time": "2021-08-05T10:12:57.360420",
     "status": "completed"
    },
    "scrolled": false,
    "tags": [
     "hide-input"
    ]
   },
   "outputs": [
    {
     "data": {
      "image/png": "[encoded data removed]",
      "text/plain": [
       "<Figure size 864x432 with 1 Axes>"
      ]
     },
     "metadata": {
      "needs_background": "light"
     },
     "output_type": "display_data"
    }
   ],
   "source": [
    "dc.plot(x='DATE',y='POSITIVE',color='red',grid='True',figsize=(12,6)).set_xlabel('Date');"
   ]
  },
  {
   "cell_type": "markdown",
   "id": "coupled-literacy",
   "metadata": {
    "papermill": {
     "duration": 0.008245,
     "end_time": "2021-08-05T10:12:57.761635",
     "exception": false,
     "start_time": "2021-08-05T10:12:57.753390",
     "status": "completed"
    },
    "tags": []
   },
   "source": [
    "## Figure 1: Cummulative number of positive cases."
   ]
  },
  {
   "cell_type": "code",
   "execution_count": 7,
   "id": "surrounded-reserve",
   "metadata": {
    "execution": {
     "iopub.execute_input": "2021-08-05T10:12:57.785242Z",
     "iopub.status.busy": "2021-08-05T10:12:57.784399Z",
     "iopub.status.idle": "2021-08-05T10:12:57.988855Z",
     "shell.execute_reply": "2021-08-05T10:12:57.989427Z"
    },
    "jupyter": {
     "source_hidden": true
    },
    "papermill": {
     "duration": 0.218615,
     "end_time": "2021-08-05T10:12:57.989566",
     "exception": false,
     "start_time": "2021-08-05T10:12:57.770951",
     "status": "completed"
    },
    "scrolled": false,
    "tags": [
     "hide-input"
    ]
   },
   "outputs": [
    {
     "data": {
      "image/png": "[encoded data removed]",
      "text/plain": [
       "<Figure size 864x432 with 1 Axes>"
      ]
     },
     "metadata": {
      "needs_background": "light"
     },
     "output_type": "display_data"
    }
   ],
   "source": [
    "dc.plot(kind='line',x='DATE',y='7_DAY',color='blue',grid='True',figsize=(12,6)).set_xlabel('Date');"
   ]
  },
  {
   "cell_type": "markdown",
   "id": "professional-savannah",
   "metadata": {
    "papermill": {
     "duration": 0.010627,
     "end_time": "2021-08-05T10:12:58.010255",
     "exception": false,
     "start_time": "2021-08-05T10:12:57.999628",
     "status": "completed"
    },
    "tags": []
   },
   "source": [
    "## Figure 2: Rolling 7-day average of daily new cases."
   ]
  },
  {
   "cell_type": "code",
   "execution_count": 8,
   "id": "stretch-investor",
   "metadata": {
    "execution": {
     "iopub.execute_input": "2021-08-05T10:12:58.036978Z",
     "iopub.status.busy": "2021-08-05T10:12:58.036499Z",
     "iopub.status.idle": "2021-08-05T10:12:58.238172Z",
     "shell.execute_reply": "2021-08-05T10:12:58.237640Z"
    },
    "jupyter": {
     "source_hidden": true
    },
    "papermill": {
     "duration": 0.217783,
     "end_time": "2021-08-05T10:12:58.238302",
     "exception": false,
     "start_time": "2021-08-05T10:12:58.020519",
     "status": "completed"
    },
    "tags": []
   },
   "outputs": [
    {
     "data": {
      "image/png": "[encoded data removed]",
      "text/plain": [
       "<Figure size 864x432 with 1 Axes>"
      ]
     },
     "metadata": {
      "needs_background": "light"
     },
     "output_type": "display_data"
    }
   ],
   "source": [
    "dc.plot(kind='line',x='DATE',y='14_DAY',color='green',grid='True',figsize=(12,6)).set_xlabel('Date');"
   ]
  },
  {
   "cell_type": "markdown",
   "id": "prerequisite-species",
   "metadata": {
    "papermill": {
     "duration": 0.012814,
     "end_time": "2021-08-05T10:12:58.263907",
     "exception": false,
     "start_time": "2021-08-05T10:12:58.251093",
     "status": "completed"
    },
    "tags": []
   },
   "source": [
    "## Figure 3: Rolling 14-day average of daily new cases."
   ]
  },
  {
   "cell_type": "markdown",
   "id": "palestinian-guard",
   "metadata": {
    "papermill": {
     "duration": 0.012058,
     "end_time": "2021-08-05T10:12:58.288399",
     "exception": false,
     "start_time": "2021-08-05T10:12:58.276341",
     "status": "completed"
    },
    "tags": []
   },
   "source": [
    "Data source: [Wisconsin Department of Health Services](https://data.dhsgis.wi.gov/datasets/wi-dhs::covid-19-historical-data-by-county-1)"
   ]
  },
  {
   "cell_type": "code",
   "execution_count": 9,
   "id": "proof-medicare",
   "metadata": {
    "execution": {
     "iopub.execute_input": "2021-08-05T10:12:58.318583Z",
     "iopub.status.busy": "2021-08-05T10:12:58.318085Z",
     "iopub.status.idle": "2021-08-05T10:12:58.324444Z",
     "shell.execute_reply": "2021-08-05T10:12:58.323948Z"
    },
    "jupyter": {
     "source_hidden": true
    },
    "papermill": {
     "duration": 0.023872,
     "end_time": "2021-08-05T10:12:58.324544",
     "exception": false,
     "start_time": "2021-08-05T10:12:58.300672",
     "status": "completed"
    },
    "tags": []
   },
   "outputs": [
    {
     "data": {
      "text/html": [
       "<style>\n",
       "div.input {\n",
       "    display:none;\n",
       "}\n",
       "</style>\n"
      ],
      "text/plain": [
       "<IPython.core.display.HTML object>"
      ]
     },
     "metadata": {},
     "output_type": "display_data"
    }
   ],
   "source": [
    "%%html\n",
    "<style>\n",
    "div.input {\n",
    "    display:none;\n",
    "}\n",
    "</style>"
   ]
  }
 ],
 "metadata": {
  "kernelspec": {
   "display_name": "Python 3",
   "language": "python",
   "name": "python3"
  },
  "language_info": {
   "codemirror_mode": {
    "name": "ipython",
    "version": 3
   },
   "file_extension": ".py",
   "mimetype": "text/x-python",
   "name": "python",
   "nbconvert_exporter": "python",
   "pygments_lexer": "ipython3",
   "version": "3.8.11"
  },
  "papermill": {
   "duration": 5.649688,
   "end_time": "2021-08-05T10:12:59.512313",
   "environment_variables": {},
   "exception": null,
   "input_path": "DunnCounty_COVID19.ipynb",
   "output_path": "DunnCounty_COVID19.ipynb",
   "parameters": {
    "Start": "True",
    "secretsPath": "/home/runner/work/_temp/secrets.json"
   },
   "start_time": "2021-08-05T10:12:53.862625",
   "version": "1.1.16"
  }
 },
 "nbformat": 4,
 "nbformat_minor": 5
}