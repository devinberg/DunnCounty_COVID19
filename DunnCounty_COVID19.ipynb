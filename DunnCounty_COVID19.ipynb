{
 "cells": [
  {
   "cell_type": "code",
   "execution_count": 1,
   "id": "solar-understanding",
   "metadata": {
    "execution": {
     "iopub.execute_input": "2021-05-04T10:12:43.550470Z",
     "iopub.status.busy": "2021-05-04T10:12:43.549856Z",
     "iopub.status.idle": "2021-05-04T10:12:44.420214Z",
     "shell.execute_reply": "2021-05-04T10:12:44.419067Z"
    },
    "jupyter": {
     "source_hidden": true
    },
    "papermill": {
     "duration": 0.891003,
     "end_time": "2021-05-04T10:12:44.420364",
     "exception": false,
     "start_time": "2021-05-04T10:12:43.529361",
     "status": "completed"
    },
    "scrolled": true,
    "tags": [
     "hide-input"
    ]
   },
   "outputs": [],
   "source": [
    "import pandas as pd\n",
    "import matplotlib.pyplot as plt\n",
    "from matplotlib import dates\n",
    "from IPython.display import display, Markdown\n",
    "%matplotlib inline"
   ]
  },
  {
   "cell_type": "code",
   "execution_count": 2,
   "id": "purple-playlist",
   "metadata": {
    "execution": {
     "iopub.execute_input": "2021-05-04T10:12:44.442442Z",
     "iopub.status.busy": "2021-05-04T10:12:44.441653Z",
     "iopub.status.idle": "2021-05-04T10:12:45.207171Z",
     "shell.execute_reply": "2021-05-04T10:12:45.206674Z"
    },
    "jupyter": {
     "source_hidden": true
    },
    "papermill": {
     "duration": 0.778747,
     "end_time": "2021-05-04T10:12:45.207267",
     "exception": false,
     "start_time": "2021-05-04T10:12:44.428520",
     "status": "completed"
    },
    "scrolled": true,
    "tags": [
     "hide-input"
    ]
   },
   "outputs": [],
   "source": [
    "# This is the data for all of Wisconsin.\n",
    "url = \"https://opendata.arcgis.com/datasets/80ff9d4897db4d7692f0f4ad28447cab_12.csv\"\n",
    "data = pd.read_csv(url, parse_dates=['DATE'], low_memory=False)"
   ]
  },
  {
   "cell_type": "code",
   "execution_count": 3,
   "id": "proprietary-klein",
   "metadata": {
    "execution": {
     "iopub.execute_input": "2021-05-04T10:12:45.229251Z",
     "iopub.status.busy": "2021-05-04T10:12:45.228674Z",
     "iopub.status.idle": "2021-05-04T10:12:45.237312Z",
     "shell.execute_reply": "2021-05-04T10:12:45.237647Z"
    },
    "jupyter": {
     "source_hidden": true
    },
    "papermill": {
     "duration": 0.023075,
     "end_time": "2021-05-04T10:12:45.237750",
     "exception": false,
     "start_time": "2021-05-04T10:12:45.214675",
     "status": "completed"
    },
    "scrolled": true,
    "tags": [
     "hide-input"
    ]
   },
   "outputs": [],
   "source": [
    "dc = data.groupby('NAME').get_group('Dunn').sort_values(by='DATE') # Select the data for Dunn County from the full data.\n",
    "PNi = dc.columns.get_loc(\"POS_NEW\")\n",
    "dc['7_DAY'] = dc.iloc[:,PNi].rolling(window=7).mean() # Calculates the rolling 7-day average of new cases.\n",
    "dc['14_DAY'] = dc.iloc[:,PNi].rolling(window=14).mean() # Calculates the rolling 14-day average of new cases."
   ]
  },
  {
   "cell_type": "code",
   "execution_count": 4,
   "id": "steady-supervision",
   "metadata": {
    "execution": {
     "iopub.execute_input": "2021-05-04T10:12:45.259323Z",
     "iopub.status.busy": "2021-05-04T10:12:45.258829Z",
     "iopub.status.idle": "2021-05-04T10:12:45.263620Z",
     "shell.execute_reply": "2021-05-04T10:12:45.263995Z"
    },
    "jupyter": {
     "source_hidden": true
    },
    "papermill": {
     "duration": 0.01875,
     "end_time": "2021-05-04T10:12:45.264119",
     "exception": false,
     "start_time": "2021-05-04T10:12:45.245369",
     "status": "completed"
    },
    "scrolled": true,
    "tags": [
     "hide-input"
    ]
   },
   "outputs": [
    {
     "data": {
      "text/markdown": [
       "### Last updated: May 03, 2021"
      ],
      "text/plain": [
       "<IPython.core.display.Markdown object>"
      ]
     },
     "metadata": {},
     "output_type": "display_data"
    }
   ],
   "source": [
    "display(Markdown('### Last updated: ' + dc.iloc[-1]['DATE'].strftime(\"%B %d, %Y\")))"
   ]
  },
  {
   "cell_type": "code",
   "execution_count": 5,
   "id": "lonely-pitch",
   "metadata": {
    "execution": {
     "iopub.execute_input": "2021-05-04T10:12:45.283802Z",
     "iopub.status.busy": "2021-05-04T10:12:45.283287Z",
     "iopub.status.idle": "2021-05-04T10:12:45.285846Z",
     "shell.execute_reply": "2021-05-04T10:12:45.285500Z"
    },
    "jupyter": {
     "source_hidden": true
    },
    "papermill": {
     "duration": 0.014453,
     "end_time": "2021-05-04T10:12:45.285935",
     "exception": false,
     "start_time": "2021-05-04T10:12:45.271482",
     "status": "completed"
    },
    "tags": [
     "hide-input"
    ]
   },
   "outputs": [
    {
     "data": {
      "text/markdown": [
       "# Dunn County has 4620 total positive cases, with 4 new cases reported today."
      ],
      "text/plain": [
       "<IPython.core.display.Markdown object>"
      ]
     },
     "metadata": {},
     "output_type": "display_data"
    }
   ],
   "source": [
    "display(Markdown('# Dunn County has ' + str(dc.iloc[-1]['POSITIVE']) + ' total positive cases, with '+ str(int(dc.iloc[-1]['POS_NEW'])) + ' new cases reported today.'))"
   ]
  },
  {
   "cell_type": "code",
   "execution_count": 6,
   "id": "compound-nightmare",
   "metadata": {
    "execution": {
     "iopub.execute_input": "2021-05-04T10:12:45.306921Z",
     "iopub.status.busy": "2021-05-04T10:12:45.306406Z",
     "iopub.status.idle": "2021-05-04T10:12:45.580441Z",
     "shell.execute_reply": "2021-05-04T10:12:45.580889Z"
    },
    "jupyter": {
     "source_hidden": true
    },
    "papermill": {
     "duration": 0.286512,
     "end_time": "2021-05-04T10:12:45.581060",
     "exception": false,
     "start_time": "2021-05-04T10:12:45.294548",
     "status": "completed"
    },
    "scrolled": false,
    "tags": [
     "hide-input"
    ]
   },
   "outputs": [
    {
     "data": {
      "image/png": "[encoded data removed]",
      "text/plain": [
       "<Figure size 864x432 with 1 Axes>"
      ]
     },
     "metadata": {
      "needs_background": "light"
     },
     "output_type": "display_data"
    }
   ],
   "source": [
    "dc.plot(x='DATE',y='POSITIVE',color='red',grid='True',figsize=(12,6)).set_xlabel('Date');"
   ]
  },
  {
   "cell_type": "markdown",
   "id": "coupled-literacy",
   "metadata": {
    "papermill": {
     "duration": 0.012298,
     "end_time": "2021-05-04T10:12:45.603620",
     "exception": false,
     "start_time": "2021-05-04T10:12:45.591322",
     "status": "completed"
    },
    "tags": []
   },
   "source": [
    "## Figure 1: Cummulative number of positive cases."
   ]
  },
  {
   "cell_type": "code",
   "execution_count": 7,
   "id": "surrounded-reserve",
   "metadata": {
    "execution": {
     "iopub.execute_input": "2021-05-04T10:12:45.628266Z",
     "iopub.status.busy": "2021-05-04T10:12:45.627782Z",
     "iopub.status.idle": "2021-05-04T10:12:45.820733Z",
     "shell.execute_reply": "2021-05-04T10:12:45.821170Z"
    },
    "jupyter": {
     "source_hidden": true
    },
    "papermill": {
     "duration": 0.207943,
     "end_time": "2021-05-04T10:12:45.821338",
     "exception": false,
     "start_time": "2021-05-04T10:12:45.613395",
     "status": "completed"
    },
    "scrolled": false,
    "tags": [
     "hide-input"
    ]
   },
   "outputs": [
    {
     "data": {
      "image/png": "[encoded data removed]",
      "text/plain": [
       "<Figure size 864x432 with 1 Axes>"
      ]
     },
     "metadata": {
      "needs_background": "light"
     },
     "output_type": "display_data"
    }
   ],
   "source": [
    "dc.plot(kind='line',x='DATE',y='7_DAY',color='blue',grid='True',figsize=(12,6)).set_xlabel('Date');"
   ]
  },
  {
   "cell_type": "markdown",
   "id": "professional-savannah",
   "metadata": {
    "papermill": {
     "duration": 0.009455,
     "end_time": "2021-05-04T10:12:45.840274",
     "exception": false,
     "start_time": "2021-05-04T10:12:45.830819",
     "status": "completed"
    },
    "tags": []
   },
   "source": [
    "## Figure 2: Rolling 7-day average of daily new cases."
   ]
  },
  {
   "cell_type": "code",
   "execution_count": 8,
   "id": "stretch-investor",
   "metadata": {
    "execution": {
     "iopub.execute_input": "2021-05-04T10:12:45.863964Z",
     "iopub.status.busy": "2021-05-04T10:12:45.863447Z",
     "iopub.status.idle": "2021-05-04T10:12:46.081140Z",
     "shell.execute_reply": "2021-05-04T10:12:46.080740Z"
    },
    "jupyter": {
     "source_hidden": true
    },
    "papermill": {
     "duration": 0.232032,
     "end_time": "2021-05-04T10:12:46.081244",
     "exception": false,
     "start_time": "2021-05-04T10:12:45.849212",
     "status": "completed"
    },
    "tags": []
   },
   "outputs": [
    {
     "data": {
      "image/png": "[encoded data removed]",
      "text/plain": [
       "<Figure size 864x432 with 1 Axes>"
      ]
     },
     "metadata": {
      "needs_background": "light"
     },
     "output_type": "display_data"
    }
   ],
   "source": [
    "dc.plot(kind='line',x='DATE',y='14_DAY',color='green',grid='True',figsize=(12,6)).set_xlabel('Date');"
   ]
  },
  {
   "cell_type": "markdown",
   "id": "prerequisite-species",
   "metadata": {
    "papermill": {
     "duration": 0.011901,
     "end_time": "2021-05-04T10:12:46.107332",
     "exception": false,
     "start_time": "2021-05-04T10:12:46.095431",
     "status": "completed"
    },
    "tags": []
   },
   "source": [
    "## Figure 3: Rolling 14-day average of daily new cases."
   ]
  },
  {
   "cell_type": "markdown",
   "id": "palestinian-guard",
   "metadata": {
    "papermill": {
     "duration": 0.011714,
     "end_time": "2021-05-04T10:12:46.130779",
     "exception": false,
     "start_time": "2021-05-04T10:12:46.119065",
     "status": "completed"
    },
    "tags": []
   },
   "source": [
    "Data source: [Wisconsin Department of Health Services](https://data.dhsgis.wi.gov/datasets/covid-19-historical-data-by-county)"
   ]
  },
  {
   "cell_type": "code",
   "execution_count": 9,
   "id": "proof-medicare",
   "metadata": {
    "execution": {
     "iopub.execute_input": "2021-05-04T10:12:46.158042Z",
     "iopub.status.busy": "2021-05-04T10:12:46.157391Z",
     "iopub.status.idle": "2021-05-04T10:12:46.160479Z",
     "shell.execute_reply": "2021-05-04T10:12:46.160816Z"
    },
    "jupyter": {
     "source_hidden": true
    },
    "papermill": {
     "duration": 0.019047,
     "end_time": "2021-05-04T10:12:46.160929",
     "exception": false,
     "start_time": "2021-05-04T10:12:46.141882",
     "status": "completed"
    },
    "tags": []
   },
   "outputs": [
    {
     "data": {
      "text/html": [
       "<style>\n",
       "div.input {\n",
       "    display:none;\n",
       "}\n",
       "</style>\n"
      ],
      "text/plain": [
       "<IPython.core.display.HTML object>"
      ]
     },
     "metadata": {},
     "output_type": "display_data"
    }
   ],
   "source": [
    "%%html\n",
    "<style>\n",
    "div.input {\n",
    "    display:none;\n",
    "}\n",
    "</style>"
   ]
  }
 ],
 "metadata": {
  "kernelspec": {
   "display_name": "Python 3",
   "language": "python",
   "name": "python3"
  },
  "language_info": {
   "codemirror_mode": {
    "name": "ipython",
    "version": 3
   },
   "file_extension": ".py",
   "mimetype": "text/x-python",
   "name": "python",
   "nbconvert_exporter": "python",
   "pygments_lexer": "ipython3",
   "version": "3.8.9"
  },
  "papermill": {
   "duration": 4.494474,
   "end_time": "2021-05-04T10:12:46.479778",
   "environment_variables": {},
   "exception": null,
   "input_path": "DunnCounty_COVID19.ipynb",
   "output_path": "DunnCounty_COVID19.ipynb",
   "parameters": {
    "Start": "True",
    "secretsPath": "/home/runner/work/_temp/secrets.json"
   },
   "start_time": "2021-05-04T10:12:41.985304",
   "version": "1.1.16"
  }
 },
 "nbformat": 4,
 "nbformat_minor": 5
}