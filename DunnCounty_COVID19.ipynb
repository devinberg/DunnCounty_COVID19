{
 "cells": [
  {
   "cell_type": "code",
   "execution_count": 1,
   "metadata": {
    "execution": {
     "iopub.execute_input": "2020-12-01T22:12:03.494030Z",
     "iopub.status.busy": "2020-12-01T22:12:03.493386Z",
     "iopub.status.idle": "2020-12-01T22:12:04.595181Z",
     "shell.execute_reply": "2020-12-01T22:12:04.594175Z"
    },
    "jupyter": {
     "source_hidden": true
    },
    "papermill": {
     "duration": 1.139133,
     "end_time": "2020-12-01T22:12:04.595378",
     "exception": false,
     "start_time": "2020-12-01T22:12:03.456245",
     "status": "completed"
    },
    "scrolled": true,
    "tags": [
     "hide-input"
    ]
   },
   "outputs": [],
   "source": [
    "import pandas as pd\n",
    "import matplotlib.pyplot as plt\n",
    "from matplotlib import dates\n",
    "from IPython.display import display, Markdown\n",
    "%matplotlib inline"
   ]
  },
  {
   "cell_type": "code",
   "execution_count": 2,
   "metadata": {
    "execution": {
     "iopub.execute_input": "2020-12-01T22:12:04.617367Z",
     "iopub.status.busy": "2020-12-01T22:12:04.616802Z",
     "iopub.status.idle": "2020-12-01T22:12:05.670042Z",
     "shell.execute_reply": "2020-12-01T22:12:05.669356Z"
    },
    "jupyter": {
     "source_hidden": true
    },
    "papermill": {
     "duration": 1.066403,
     "end_time": "2020-12-01T22:12:05.670223",
     "exception": false,
     "start_time": "2020-12-01T22:12:04.603820",
     "status": "completed"
    },
    "scrolled": true,
    "tags": [
     "hide-input"
    ]
   },
   "outputs": [],
   "source": [
    "# This is the data for all of Wisconsin.\n",
    "url = \"https://opendata.arcgis.com/datasets/5374188992374b318d3e2305216ee413_12.csv\"\n",
    "data = pd.read_csv(url, parse_dates=['DATE'], low_memory=False)"
   ]
  },
  {
   "cell_type": "code",
   "execution_count": 3,
   "metadata": {
    "execution": {
     "iopub.execute_input": "2020-12-01T22:12:05.695412Z",
     "iopub.status.busy": "2020-12-01T22:12:05.694859Z",
     "iopub.status.idle": "2020-12-01T22:12:05.703750Z",
     "shell.execute_reply": "2020-12-01T22:12:05.704176Z"
    },
    "jupyter": {
     "source_hidden": true
    },
    "papermill": {
     "duration": 0.022844,
     "end_time": "2020-12-01T22:12:05.704343",
     "exception": false,
     "start_time": "2020-12-01T22:12:05.681499",
     "status": "completed"
    },
    "scrolled": true,
    "tags": [
     "hide-input"
    ]
   },
   "outputs": [],
   "source": [
    "dc = data.groupby('NAME').get_group('Dunn').sort_values(by='DATE') # Select the data for Dunn County from the full data.\n",
    "PNi = dc.columns.get_loc(\"POS_NEW\")\n",
    "dc['7_DAY'] = dc.iloc[:,PNi].rolling(window=7).mean() # Calculates the rolling 7-day average of new cases.\n",
    "dc['14_DAY'] = dc.iloc[:,PNi].rolling(window=14).mean() # Calculates the rolling 14-day average of new cases."
   ]
  },
  {
   "cell_type": "code",
   "execution_count": 4,
   "metadata": {
    "execution": {
     "iopub.execute_input": "2020-12-01T22:12:05.726572Z",
     "iopub.status.busy": "2020-12-01T22:12:05.725978Z",
     "iopub.status.idle": "2020-12-01T22:12:05.728971Z",
     "shell.execute_reply": "2020-12-01T22:12:05.729406Z"
    },
    "jupyter": {
     "source_hidden": true
    },
    "papermill": {
     "duration": 0.01774,
     "end_time": "2020-12-01T22:12:05.729566",
     "exception": false,
     "start_time": "2020-12-01T22:12:05.711826",
     "status": "completed"
    },
    "scrolled": true,
    "tags": [
     "hide-input"
    ]
   },
   "outputs": [
    {
     "data": {
      "text/markdown": [
       "### Last updated: December 01, 2020"
      ],
      "text/plain": [
       "<IPython.core.display.Markdown object>"
      ]
     },
     "metadata": {},
     "output_type": "display_data"
    }
   ],
   "source": [
    "display(Markdown('### Last updated: ' + dc.iloc[-1]['DATE'].strftime(\"%B %d, %Y\")))"
   ]
  },
  {
   "cell_type": "code",
   "execution_count": 5,
   "metadata": {
    "execution": {
     "iopub.execute_input": "2020-12-01T22:12:05.750943Z",
     "iopub.status.busy": "2020-12-01T22:12:05.750405Z",
     "iopub.status.idle": "2020-12-01T22:12:05.753690Z",
     "shell.execute_reply": "2020-12-01T22:12:05.753211Z"
    },
    "jupyter": {
     "source_hidden": true
    },
    "papermill": {
     "duration": 0.016573,
     "end_time": "2020-12-01T22:12:05.753823",
     "exception": false,
     "start_time": "2020-12-01T22:12:05.737250",
     "status": "completed"
    },
    "tags": [
     "hide-input"
    ]
   },
   "outputs": [
    {
     "data": {
      "text/markdown": [
       "# Dunn County has 2829 total positive cases, with 17 new cases reported today."
      ],
      "text/plain": [
       "<IPython.core.display.Markdown object>"
      ]
     },
     "metadata": {},
     "output_type": "display_data"
    }
   ],
   "source": [
    "display(Markdown('# Dunn County has ' + str(dc.iloc[-1]['POSITIVE']) + ' total positive cases, with '+ str(int(dc.iloc[-1]['POS_NEW'])) + ' new cases reported today.'))"
   ]
  },
  {
   "cell_type": "code",
   "execution_count": 6,
   "metadata": {
    "execution": {
     "iopub.execute_input": "2020-12-01T22:12:05.773831Z",
     "iopub.status.busy": "2020-12-01T22:12:05.773234Z",
     "iopub.status.idle": "2020-12-01T22:12:05.999983Z",
     "shell.execute_reply": "2020-12-01T22:12:06.000758Z"
    },
    "jupyter": {
     "source_hidden": true
    },
    "papermill": {
     "duration": 0.239306,
     "end_time": "2020-12-01T22:12:06.001018",
     "exception": false,
     "start_time": "2020-12-01T22:12:05.761712",
     "status": "completed"
    },
    "scrolled": false,
    "tags": [
     "hide-input"
    ]
   },
   "outputs": [
    {
     "data": {
      "image/png": "[encoded data removed]",
      "text/plain": [
       "<Figure size 864x432 with 1 Axes>"
      ]
     },
     "metadata": {
      "needs_background": "light"
     },
     "output_type": "display_data"
    }
   ],
   "source": [
    "dc.plot(x='DATE',y='POSITIVE',color='red',grid='True',figsize=(12,6)).set_xlabel('Date');"
   ]
  },
  {
   "cell_type": "markdown",
   "metadata": {
    "papermill": {
     "duration": 0.009373,
     "end_time": "2020-12-01T22:12:06.020576",
     "exception": false,
     "start_time": "2020-12-01T22:12:06.011203",
     "status": "completed"
    },
    "tags": []
   },
   "source": [
    "## Figure 1: Cummulative number of positive cases."
   ]
  },
  {
   "cell_type": "code",
   "execution_count": 7,
   "metadata": {
    "execution": {
     "iopub.execute_input": "2020-12-01T22:12:06.043400Z",
     "iopub.status.busy": "2020-12-01T22:12:06.042879Z",
     "iopub.status.idle": "2020-12-01T22:12:06.261096Z",
     "shell.execute_reply": "2020-12-01T22:12:06.261531Z"
    },
    "jupyter": {
     "source_hidden": true
    },
    "papermill": {
     "duration": 0.232173,
     "end_time": "2020-12-01T22:12:06.261718",
     "exception": false,
     "start_time": "2020-12-01T22:12:06.029545",
     "status": "completed"
    },
    "scrolled": false,
    "tags": [
     "hide-input"
    ]
   },
   "outputs": [
    {
     "data": {
      "image/png": "[encoded data removed]",
      "text/plain": [
       "<Figure size 864x432 with 1 Axes>"
      ]
     },
     "metadata": {
      "needs_background": "light"
     },
     "output_type": "display_data"
    }
   ],
   "source": [
    "dc.plot(kind='line',x='DATE',y='7_DAY',color='blue',grid='True',figsize=(12,6)).set_xlabel('Date');"
   ]
  },
  {
   "cell_type": "markdown",
   "metadata": {
    "papermill": {
     "duration": 0.010217,
     "end_time": "2020-12-01T22:12:06.282252",
     "exception": false,
     "start_time": "2020-12-01T22:12:06.272035",
     "status": "completed"
    },
    "tags": []
   },
   "source": [
    "## Figure 2: Rolling 7-day average of daily new cases."
   ]
  },
  {
   "cell_type": "code",
   "execution_count": 8,
   "metadata": {
    "execution": {
     "iopub.execute_input": "2020-12-01T22:12:06.308040Z",
     "iopub.status.busy": "2020-12-01T22:12:06.307499Z",
     "iopub.status.idle": "2020-12-01T22:12:06.528592Z",
     "shell.execute_reply": "2020-12-01T22:12:06.529023Z"
    },
    "jupyter": {
     "source_hidden": true
    },
    "papermill": {
     "duration": 0.237034,
     "end_time": "2020-12-01T22:12:06.529186",
     "exception": false,
     "start_time": "2020-12-01T22:12:06.292152",
     "status": "completed"
    },
    "tags": []
   },
   "outputs": [
    {
     "data": {
      "image/png": "[encoded data removed]",
      "text/plain": [
       "<Figure size 864x432 with 1 Axes>"
      ]
     },
     "metadata": {
      "needs_background": "light"
     },
     "output_type": "display_data"
    }
   ],
   "source": [
    "dc.plot(kind='line',x='DATE',y='14_DAY',color='green',grid='True',figsize=(12,6)).set_xlabel('Date');"
   ]
  },
  {
   "cell_type": "markdown",
   "metadata": {
    "papermill": {
     "duration": 0.011254,
     "end_time": "2020-12-01T22:12:06.552436",
     "exception": false,
     "start_time": "2020-12-01T22:12:06.541182",
     "status": "completed"
    },
    "tags": []
   },
   "source": [
    "## Figure 3: Rolling 14-day average of daily new cases."
   ]
  },
  {
   "cell_type": "markdown",
   "metadata": {
    "papermill": {
     "duration": 0.010712,
     "end_time": "2020-12-01T22:12:06.575726",
     "exception": false,
     "start_time": "2020-12-01T22:12:06.565014",
     "status": "completed"
    },
    "tags": []
   },
   "source": [
    "Data source: [Wisconsin Department of Health Services](https://data.dhsgis.wi.gov/datasets/covid-19-historical-data-table/)"
   ]
  },
  {
   "cell_type": "code",
   "execution_count": 9,
   "metadata": {
    "execution": {
     "iopub.execute_input": "2020-12-01T22:12:06.603023Z",
     "iopub.status.busy": "2020-12-01T22:12:06.602470Z",
     "iopub.status.idle": "2020-12-01T22:12:06.605884Z",
     "shell.execute_reply": "2020-12-01T22:12:06.605371Z"
    },
    "jupyter": {
     "source_hidden": true
    },
    "papermill": {
     "duration": 0.018686,
     "end_time": "2020-12-01T22:12:06.606018",
     "exception": false,
     "start_time": "2020-12-01T22:12:06.587332",
     "status": "completed"
    },
    "tags": []
   },
   "outputs": [
    {
     "data": {
      "text/html": [
       "<style>\n",
       "div.input {\n",
       "    display:none;\n",
       "}\n",
       "</style>\n"
      ],
      "text/plain": [
       "<IPython.core.display.HTML object>"
      ]
     },
     "metadata": {},
     "output_type": "display_data"
    }
   ],
   "source": [
    "%%html\n",
    "<style>\n",
    "div.input {\n",
    "    display:none;\n",
    "}\n",
    "</style>"
   ]
  }
 ],
 "metadata": {
  "kernelspec": {
   "display_name": "Python 3",
   "language": "python",
   "name": "python3"
  },
  "language_info": {
   "codemirror_mode": {
    "name": "ipython",
    "version": 3
   },
   "file_extension": ".py",
   "mimetype": "text/x-python",
   "name": "python",
   "nbconvert_exporter": "python",
   "pygments_lexer": "ipython3",
   "version": "3.8.6"
  },
  "papermill": {
   "duration": 5.106503,
   "end_time": "2020-12-01T22:12:07.025355",
   "environment_variables": {},
   "exception": null,
   "input_path": "DunnCounty_COVID19.ipynb",
   "output_path": "DunnCounty_COVID19.ipynb",
   "parameters": {
    "Start": "True",
    "secretsPath": "/home/runner/work/_temp/secrets.json"
   },
   "start_time": "2020-12-01T22:12:01.918852",
   "version": "1.1.16"
  }
 },
 "nbformat": 4,
 "nbformat_minor": 2
}