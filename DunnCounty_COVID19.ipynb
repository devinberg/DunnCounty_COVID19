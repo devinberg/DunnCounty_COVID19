{
 "cells": [
  {
   "cell_type": "code",
   "execution_count": 1,
   "id": "solar-understanding",
   "metadata": {
    "execution": {
     "iopub.execute_input": "2021-03-16T22:12:42.126708Z",
     "iopub.status.busy": "2021-03-16T22:12:42.126092Z",
     "iopub.status.idle": "2021-03-16T22:12:42.917764Z",
     "shell.execute_reply": "2021-03-16T22:12:42.917176Z"
    },
    "jupyter": {
     "source_hidden": true
    },
    "papermill": {
     "duration": 0.810389,
     "end_time": "2021-03-16T22:12:42.917910",
     "exception": false,
     "start_time": "2021-03-16T22:12:42.107521",
     "status": "completed"
    },
    "scrolled": true,
    "tags": [
     "hide-input"
    ]
   },
   "outputs": [],
   "source": [
    "import pandas as pd\n",
    "import matplotlib.pyplot as plt\n",
    "from matplotlib import dates\n",
    "from IPython.display import display, Markdown\n",
    "%matplotlib inline"
   ]
  },
  {
   "cell_type": "code",
   "execution_count": 2,
   "id": "purple-playlist",
   "metadata": {
    "execution": {
     "iopub.execute_input": "2021-03-16T22:12:42.951435Z",
     "iopub.status.busy": "2021-03-16T22:12:42.950392Z",
     "iopub.status.idle": "2021-03-16T22:12:43.589341Z",
     "shell.execute_reply": "2021-03-16T22:12:43.588340Z"
    },
    "jupyter": {
     "source_hidden": true
    },
    "papermill": {
     "duration": 0.656303,
     "end_time": "2021-03-16T22:12:43.589479",
     "exception": false,
     "start_time": "2021-03-16T22:12:42.933176",
     "status": "completed"
    },
    "scrolled": true,
    "tags": [
     "hide-input"
    ]
   },
   "outputs": [],
   "source": [
    "# This is the data for all of Wisconsin.\n",
    "url = \"https://opendata.arcgis.com/datasets/5374188992374b318d3e2305216ee413_12.csv\"\n",
    "data = pd.read_csv(url, parse_dates=['DATE'], low_memory=False)"
   ]
  },
  {
   "cell_type": "code",
   "execution_count": 3,
   "id": "proprietary-klein",
   "metadata": {
    "execution": {
     "iopub.execute_input": "2021-03-16T22:12:43.614751Z",
     "iopub.status.busy": "2021-03-16T22:12:43.614177Z",
     "iopub.status.idle": "2021-03-16T22:12:43.622221Z",
     "shell.execute_reply": "2021-03-16T22:12:43.622656Z"
    },
    "jupyter": {
     "source_hidden": true
    },
    "papermill": {
     "duration": 0.02353,
     "end_time": "2021-03-16T22:12:43.622807",
     "exception": false,
     "start_time": "2021-03-16T22:12:43.599277",
     "status": "completed"
    },
    "scrolled": true,
    "tags": [
     "hide-input"
    ]
   },
   "outputs": [],
   "source": [
    "dc = data.groupby('NAME').get_group('Dunn').sort_values(by='DATE') # Select the data for Dunn County from the full data.\n",
    "PNi = dc.columns.get_loc(\"POS_NEW\")\n",
    "dc['7_DAY'] = dc.iloc[:,PNi].rolling(window=7).mean() # Calculates the rolling 7-day average of new cases.\n",
    "dc['14_DAY'] = dc.iloc[:,PNi].rolling(window=14).mean() # Calculates the rolling 14-day average of new cases."
   ]
  },
  {
   "cell_type": "code",
   "execution_count": 4,
   "id": "steady-supervision",
   "metadata": {
    "execution": {
     "iopub.execute_input": "2021-03-16T22:12:43.648434Z",
     "iopub.status.busy": "2021-03-16T22:12:43.647877Z",
     "iopub.status.idle": "2021-03-16T22:12:43.651130Z",
     "shell.execute_reply": "2021-03-16T22:12:43.650646Z"
    },
    "jupyter": {
     "source_hidden": true
    },
    "papermill": {
     "duration": 0.01951,
     "end_time": "2021-03-16T22:12:43.651245",
     "exception": false,
     "start_time": "2021-03-16T22:12:43.631735",
     "status": "completed"
    },
    "scrolled": true,
    "tags": [
     "hide-input"
    ]
   },
   "outputs": [
    {
     "data": {
      "text/markdown": [
       "### Last updated: March 16, 2021"
      ],
      "text/plain": [
       "<IPython.core.display.Markdown object>"
      ]
     },
     "metadata": {},
     "output_type": "display_data"
    }
   ],
   "source": [
    "display(Markdown('### Last updated: ' + dc.iloc[-1]['DATE'].strftime(\"%B %d, %Y\")))"
   ]
  },
  {
   "cell_type": "code",
   "execution_count": 5,
   "id": "lonely-pitch",
   "metadata": {
    "execution": {
     "iopub.execute_input": "2021-03-16T22:12:43.675030Z",
     "iopub.status.busy": "2021-03-16T22:12:43.674440Z",
     "iopub.status.idle": "2021-03-16T22:12:43.677879Z",
     "shell.execute_reply": "2021-03-16T22:12:43.677424Z"
    },
    "jupyter": {
     "source_hidden": true
    },
    "papermill": {
     "duration": 0.017662,
     "end_time": "2021-03-16T22:12:43.678004",
     "exception": false,
     "start_time": "2021-03-16T22:12:43.660342",
     "status": "completed"
    },
    "tags": [
     "hide-input"
    ]
   },
   "outputs": [
    {
     "data": {
      "text/markdown": [
       "# Dunn County has 4302 total positive cases, with 2 new cases reported today."
      ],
      "text/plain": [
       "<IPython.core.display.Markdown object>"
      ]
     },
     "metadata": {},
     "output_type": "display_data"
    }
   ],
   "source": [
    "display(Markdown('# Dunn County has ' + str(dc.iloc[-1]['POSITIVE']) + ' total positive cases, with '+ str(int(dc.iloc[-1]['POS_NEW'])) + ' new cases reported today.'))"
   ]
  },
  {
   "cell_type": "code",
   "execution_count": 6,
   "id": "compound-nightmare",
   "metadata": {
    "execution": {
     "iopub.execute_input": "2021-03-16T22:12:43.702307Z",
     "iopub.status.busy": "2021-03-16T22:12:43.701588Z",
     "iopub.status.idle": "2021-03-16T22:12:43.961458Z",
     "shell.execute_reply": "2021-03-16T22:12:43.961889Z"
    },
    "jupyter": {
     "source_hidden": true
    },
    "papermill": {
     "duration": 0.27448,
     "end_time": "2021-03-16T22:12:43.962049",
     "exception": false,
     "start_time": "2021-03-16T22:12:43.687569",
     "status": "completed"
    },
    "scrolled": false,
    "tags": [
     "hide-input"
    ]
   },
   "outputs": [
    {
     "data": {
      "image/png": "[encoded data removed]",
      "text/plain": [
       "<Figure size 864x432 with 1 Axes>"
      ]
     },
     "metadata": {
      "needs_background": "light"
     },
     "output_type": "display_data"
    }
   ],
   "source": [
    "dc.plot(x='DATE',y='POSITIVE',color='red',grid='True',figsize=(12,6)).set_xlabel('Date');"
   ]
  },
  {
   "cell_type": "markdown",
   "id": "coupled-literacy",
   "metadata": {
    "papermill": {
     "duration": 0.010403,
     "end_time": "2021-03-16T22:12:43.983074",
     "exception": false,
     "start_time": "2021-03-16T22:12:43.972671",
     "status": "completed"
    },
    "tags": []
   },
   "source": [
    "## Figure 1: Cummulative number of positive cases."
   ]
  },
  {
   "cell_type": "code",
   "execution_count": 7,
   "id": "surrounded-reserve",
   "metadata": {
    "execution": {
     "iopub.execute_input": "2021-03-16T22:12:44.009666Z",
     "iopub.status.busy": "2021-03-16T22:12:44.009093Z",
     "iopub.status.idle": "2021-03-16T22:12:44.220229Z",
     "shell.execute_reply": "2021-03-16T22:12:44.220664Z"
    },
    "jupyter": {
     "source_hidden": true
    },
    "papermill": {
     "duration": 0.227357,
     "end_time": "2021-03-16T22:12:44.220818",
     "exception": false,
     "start_time": "2021-03-16T22:12:43.993461",
     "status": "completed"
    },
    "scrolled": false,
    "tags": [
     "hide-input"
    ]
   },
   "outputs": [
    {
     "data": {
      "image/png": "[encoded data removed]",
      "text/plain": [
       "<Figure size 864x432 with 1 Axes>"
      ]
     },
     "metadata": {
      "needs_background": "light"
     },
     "output_type": "display_data"
    }
   ],
   "source": [
    "dc.plot(kind='line',x='DATE',y='7_DAY',color='blue',grid='True',figsize=(12,6)).set_xlabel('Date');"
   ]
  },
  {
   "cell_type": "markdown",
   "id": "professional-savannah",
   "metadata": {
    "papermill": {
     "duration": 0.011837,
     "end_time": "2021-03-16T22:12:44.244881",
     "exception": false,
     "start_time": "2021-03-16T22:12:44.233044",
     "status": "completed"
    },
    "tags": []
   },
   "source": [
    "## Figure 2: Rolling 7-day average of daily new cases."
   ]
  },
  {
   "cell_type": "code",
   "execution_count": 8,
   "id": "stretch-investor",
   "metadata": {
    "execution": {
     "iopub.execute_input": "2021-03-16T22:12:44.326771Z",
     "iopub.status.busy": "2021-03-16T22:12:44.311836Z",
     "iopub.status.idle": "2021-03-16T22:12:44.480954Z",
     "shell.execute_reply": "2021-03-16T22:12:44.481676Z"
    },
    "jupyter": {
     "source_hidden": true
    },
    "papermill": {
     "duration": 0.224471,
     "end_time": "2021-03-16T22:12:44.481842",
     "exception": false,
     "start_time": "2021-03-16T22:12:44.257371",
     "status": "completed"
    },
    "tags": []
   },
   "outputs": [
    {
     "data": {
      "image/png": "[encoded data removed]",
      "text/plain": [
       "<Figure size 864x432 with 1 Axes>"
      ]
     },
     "metadata": {
      "needs_background": "light"
     },
     "output_type": "display_data"
    }
   ],
   "source": [
    "dc.plot(kind='line',x='DATE',y='14_DAY',color='green',grid='True',figsize=(12,6)).set_xlabel('Date');"
   ]
  },
  {
   "cell_type": "markdown",
   "id": "prerequisite-species",
   "metadata": {
    "papermill": {
     "duration": 0.012899,
     "end_time": "2021-03-16T22:12:44.507775",
     "exception": false,
     "start_time": "2021-03-16T22:12:44.494876",
     "status": "completed"
    },
    "tags": []
   },
   "source": [
    "## Figure 3: Rolling 14-day average of daily new cases."
   ]
  },
  {
   "cell_type": "markdown",
   "id": "palestinian-guard",
   "metadata": {
    "papermill": {
     "duration": 0.012838,
     "end_time": "2021-03-16T22:12:44.533646",
     "exception": false,
     "start_time": "2021-03-16T22:12:44.520808",
     "status": "completed"
    },
    "tags": []
   },
   "source": [
    "Data source: [Wisconsin Department of Health Services](https://data.dhsgis.wi.gov/datasets/covid-19-historical-data-table/)"
   ]
  },
  {
   "cell_type": "code",
   "execution_count": 9,
   "id": "proof-medicare",
   "metadata": {
    "execution": {
     "iopub.execute_input": "2021-03-16T22:12:44.564536Z",
     "iopub.status.busy": "2021-03-16T22:12:44.563963Z",
     "iopub.status.idle": "2021-03-16T22:12:44.566462Z",
     "shell.execute_reply": "2021-03-16T22:12:44.565920Z"
    },
    "jupyter": {
     "source_hidden": true
    },
    "papermill": {
     "duration": 0.020109,
     "end_time": "2021-03-16T22:12:44.566614",
     "exception": false,
     "start_time": "2021-03-16T22:12:44.546505",
     "status": "completed"
    },
    "tags": []
   },
   "outputs": [
    {
     "data": {
      "text/html": [
       "<style>\n",
       "div.input {\n",
       "    display:none;\n",
       "}\n",
       "</style>\n"
      ],
      "text/plain": [
       "<IPython.core.display.HTML object>"
      ]
     },
     "metadata": {},
     "output_type": "display_data"
    }
   ],
   "source": [
    "%%html\n",
    "<style>\n",
    "div.input {\n",
    "    display:none;\n",
    "}\n",
    "</style>"
   ]
  }
 ],
 "metadata": {
  "kernelspec": {
   "display_name": "Python 3",
   "language": "python",
   "name": "python3"
  },
  "language_info": {
   "codemirror_mode": {
    "name": "ipython",
    "version": 3
   },
   "file_extension": ".py",
   "mimetype": "text/x-python",
   "name": "python",
   "nbconvert_exporter": "python",
   "pygments_lexer": "ipython3",
   "version": "3.8.8"
  },
  "papermill": {
   "duration": 4.164955,
   "end_time": "2021-03-16T22:12:44.887376",
   "environment_variables": {},
   "exception": null,
   "input_path": "DunnCounty_COVID19.ipynb",
   "output_path": "DunnCounty_COVID19.ipynb",
   "parameters": {
    "Start": "True",
    "secretsPath": "/home/runner/work/_temp/secrets.json"
   },
   "start_time": "2021-03-16T22:12:40.722421",
   "version": "1.1.16"
  }
 },
 "nbformat": 4,
 "nbformat_minor": 5
}