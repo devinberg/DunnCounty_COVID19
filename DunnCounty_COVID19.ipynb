{
 "cells": [
  {
   "cell_type": "code",
   "execution_count": 1,
   "metadata": {
    "execution": {
     "iopub.execute_input": "2021-01-10T22:21:43.478142Z",
     "iopub.status.busy": "2021-01-10T22:21:43.477510Z",
     "iopub.status.idle": "2021-01-10T22:21:45.548930Z",
     "shell.execute_reply": "2021-01-10T22:21:45.548208Z"
    },
    "jupyter": {
     "source_hidden": true
    },
    "papermill": {
     "duration": 2.090663,
     "end_time": "2021-01-10T22:21:45.549145",
     "exception": false,
     "start_time": "2021-01-10T22:21:43.458482",
     "status": "completed"
    },
    "scrolled": true,
    "tags": [
     "hide-input"
    ]
   },
   "outputs": [],
   "source": [
    "import pandas as pd\n",
    "import matplotlib.pyplot as plt\n",
    "from matplotlib import dates\n",
    "from IPython.display import display, Markdown\n",
    "%matplotlib inline"
   ]
  },
  {
   "cell_type": "code",
   "execution_count": 2,
   "metadata": {
    "execution": {
     "iopub.execute_input": "2021-01-10T22:21:45.573139Z",
     "iopub.status.busy": "2021-01-10T22:21:45.572412Z",
     "iopub.status.idle": "2021-01-10T22:21:47.287068Z",
     "shell.execute_reply": "2021-01-10T22:21:47.286371Z"
    },
    "jupyter": {
     "source_hidden": true
    },
    "papermill": {
     "duration": 1.72994,
     "end_time": "2021-01-10T22:21:47.287226",
     "exception": false,
     "start_time": "2021-01-10T22:21:45.557286",
     "status": "completed"
    },
    "scrolled": true,
    "tags": [
     "hide-input"
    ]
   },
   "outputs": [],
   "source": [
    "# This is the data for all of Wisconsin.\n",
    "url = \"https://opendata.arcgis.com/datasets/5374188992374b318d3e2305216ee413_12.csv\"\n",
    "data = pd.read_csv(url, parse_dates=['DATE'], low_memory=False)"
   ]
  },
  {
   "cell_type": "code",
   "execution_count": 3,
   "metadata": {
    "execution": {
     "iopub.execute_input": "2021-01-10T22:21:47.314366Z",
     "iopub.status.busy": "2021-01-10T22:21:47.313554Z",
     "iopub.status.idle": "2021-01-10T22:21:47.323338Z",
     "shell.execute_reply": "2021-01-10T22:21:47.322348Z"
    },
    "jupyter": {
     "source_hidden": true
    },
    "papermill": {
     "duration": 0.026606,
     "end_time": "2021-01-10T22:21:47.323487",
     "exception": false,
     "start_time": "2021-01-10T22:21:47.296881",
     "status": "completed"
    },
    "scrolled": true,
    "tags": [
     "hide-input"
    ]
   },
   "outputs": [],
   "source": [
    "dc = data.groupby('NAME').get_group('Dunn').sort_values(by='DATE') # Select the data for Dunn County from the full data.\n",
    "PNi = dc.columns.get_loc(\"POS_NEW\")\n",
    "dc['7_DAY'] = dc.iloc[:,PNi].rolling(window=7).mean() # Calculates the rolling 7-day average of new cases.\n",
    "dc['14_DAY'] = dc.iloc[:,PNi].rolling(window=14).mean() # Calculates the rolling 14-day average of new cases."
   ]
  },
  {
   "cell_type": "code",
   "execution_count": 4,
   "metadata": {
    "execution": {
     "iopub.execute_input": "2021-01-10T22:21:47.349206Z",
     "iopub.status.busy": "2021-01-10T22:21:47.348431Z",
     "iopub.status.idle": "2021-01-10T22:21:47.359346Z",
     "shell.execute_reply": "2021-01-10T22:21:47.355428Z"
    },
    "jupyter": {
     "source_hidden": true
    },
    "papermill": {
     "duration": 0.026844,
     "end_time": "2021-01-10T22:21:47.359494",
     "exception": false,
     "start_time": "2021-01-10T22:21:47.332650",
     "status": "completed"
    },
    "scrolled": true,
    "tags": [
     "hide-input"
    ]
   },
   "outputs": [
    {
     "data": {
      "text/markdown": [
       "### Last updated: January 10, 2021"
      ],
      "text/plain": [
       "<IPython.core.display.Markdown object>"
      ]
     },
     "metadata": {},
     "output_type": "display_data"
    }
   ],
   "source": [
    "display(Markdown('### Last updated: ' + dc.iloc[-1]['DATE'].strftime(\"%B %d, %Y\")))"
   ]
  },
  {
   "cell_type": "code",
   "execution_count": 5,
   "metadata": {
    "execution": {
     "iopub.execute_input": "2021-01-10T22:21:47.383672Z",
     "iopub.status.busy": "2021-01-10T22:21:47.382552Z",
     "iopub.status.idle": "2021-01-10T22:21:47.385690Z",
     "shell.execute_reply": "2021-01-10T22:21:47.386196Z"
    },
    "jupyter": {
     "source_hidden": true
    },
    "papermill": {
     "duration": 0.018348,
     "end_time": "2021-01-10T22:21:47.386368",
     "exception": false,
     "start_time": "2021-01-10T22:21:47.368020",
     "status": "completed"
    },
    "tags": [
     "hide-input"
    ]
   },
   "outputs": [
    {
     "data": {
      "text/markdown": [
       "# Dunn County has 3712 total positive cases, with 14 new cases reported today."
      ],
      "text/plain": [
       "<IPython.core.display.Markdown object>"
      ]
     },
     "metadata": {},
     "output_type": "display_data"
    }
   ],
   "source": [
    "display(Markdown('# Dunn County has ' + str(dc.iloc[-1]['POSITIVE']) + ' total positive cases, with '+ str(int(dc.iloc[-1]['POS_NEW'])) + ' new cases reported today.'))"
   ]
  },
  {
   "cell_type": "code",
   "execution_count": 6,
   "metadata": {
    "execution": {
     "iopub.execute_input": "2021-01-10T22:21:47.408303Z",
     "iopub.status.busy": "2021-01-10T22:21:47.407676Z",
     "iopub.status.idle": "2021-01-10T22:21:47.738447Z",
     "shell.execute_reply": "2021-01-10T22:21:47.737504Z"
    },
    "jupyter": {
     "source_hidden": true
    },
    "papermill": {
     "duration": 0.343556,
     "end_time": "2021-01-10T22:21:47.738594",
     "exception": false,
     "start_time": "2021-01-10T22:21:47.395038",
     "status": "completed"
    },
    "scrolled": false,
    "tags": [
     "hide-input"
    ]
   },
   "outputs": [
    {
     "data": {
      "image/png": "[encoded data removed]",
      "text/plain": [
       "<Figure size 864x432 with 1 Axes>"
      ]
     },
     "metadata": {
      "needs_background": "light"
     },
     "output_type": "display_data"
    }
   ],
   "source": [
    "dc.plot(x='DATE',y='POSITIVE',color='red',grid='True',figsize=(12,6)).set_xlabel('Date');"
   ]
  },
  {
   "cell_type": "markdown",
   "metadata": {
    "papermill": {
     "duration": 0.009394,
     "end_time": "2021-01-10T22:21:47.758112",
     "exception": false,
     "start_time": "2021-01-10T22:21:47.748718",
     "status": "completed"
    },
    "tags": []
   },
   "source": [
    "## Figure 1: Cummulative number of positive cases."
   ]
  },
  {
   "cell_type": "code",
   "execution_count": 7,
   "metadata": {
    "execution": {
     "iopub.execute_input": "2021-01-10T22:21:47.811022Z",
     "iopub.status.busy": "2021-01-10T22:21:47.781525Z",
     "iopub.status.idle": "2021-01-10T22:21:48.061324Z",
     "shell.execute_reply": "2021-01-10T22:21:48.058487Z"
    },
    "jupyter": {
     "source_hidden": true
    },
    "papermill": {
     "duration": 0.293783,
     "end_time": "2021-01-10T22:21:48.061476",
     "exception": false,
     "start_time": "2021-01-10T22:21:47.767693",
     "status": "completed"
    },
    "scrolled": false,
    "tags": [
     "hide-input"
    ]
   },
   "outputs": [
    {
     "data": {
      "image/png": "[encoded data removed]",
      "text/plain": [
       "<Figure size 864x432 with 1 Axes>"
      ]
     },
     "metadata": {
      "needs_background": "light"
     },
     "output_type": "display_data"
    }
   ],
   "source": [
    "dc.plot(kind='line',x='DATE',y='7_DAY',color='blue',grid='True',figsize=(12,6)).set_xlabel('Date');"
   ]
  },
  {
   "cell_type": "markdown",
   "metadata": {
    "papermill": {
     "duration": 0.010664,
     "end_time": "2021-01-10T22:21:48.083605",
     "exception": false,
     "start_time": "2021-01-10T22:21:48.072941",
     "status": "completed"
    },
    "tags": []
   },
   "source": [
    "## Figure 2: Rolling 7-day average of daily new cases."
   ]
  },
  {
   "cell_type": "code",
   "execution_count": 8,
   "metadata": {
    "execution": {
     "iopub.execute_input": "2021-01-10T22:21:48.109302Z",
     "iopub.status.busy": "2021-01-10T22:21:48.108658Z",
     "iopub.status.idle": "2021-01-10T22:21:48.375757Z",
     "shell.execute_reply": "2021-01-10T22:21:48.376247Z"
    },
    "jupyter": {
     "source_hidden": true
    },
    "papermill": {
     "duration": 0.282676,
     "end_time": "2021-01-10T22:21:48.376459",
     "exception": false,
     "start_time": "2021-01-10T22:21:48.093783",
     "status": "completed"
    },
    "tags": []
   },
   "outputs": [
    {
     "data": {
      "image/png": "[encoded data removed]",
      "text/plain": [
       "<Figure size 864x432 with 1 Axes>"
      ]
     },
     "metadata": {
      "needs_background": "light"
     },
     "output_type": "display_data"
    }
   ],
   "source": [
    "dc.plot(kind='line',x='DATE',y='14_DAY',color='green',grid='True',figsize=(12,6)).set_xlabel('Date');"
   ]
  },
  {
   "cell_type": "markdown",
   "metadata": {
    "papermill": {
     "duration": 0.011503,
     "end_time": "2021-01-10T22:21:48.399534",
     "exception": false,
     "start_time": "2021-01-10T22:21:48.388031",
     "status": "completed"
    },
    "tags": []
   },
   "source": [
    "## Figure 3: Rolling 14-day average of daily new cases."
   ]
  },
  {
   "cell_type": "markdown",
   "metadata": {
    "papermill": {
     "duration": 0.011249,
     "end_time": "2021-01-10T22:21:48.421921",
     "exception": false,
     "start_time": "2021-01-10T22:21:48.410672",
     "status": "completed"
    },
    "tags": []
   },
   "source": [
    "Data source: [Wisconsin Department of Health Services](https://data.dhsgis.wi.gov/datasets/covid-19-historical-data-table/)"
   ]
  },
  {
   "cell_type": "code",
   "execution_count": 9,
   "metadata": {
    "execution": {
     "iopub.execute_input": "2021-01-10T22:21:48.448780Z",
     "iopub.status.busy": "2021-01-10T22:21:48.448126Z",
     "iopub.status.idle": "2021-01-10T22:21:48.450994Z",
     "shell.execute_reply": "2021-01-10T22:21:48.451512Z"
    },
    "jupyter": {
     "source_hidden": true
    },
    "papermill": {
     "duration": 0.018716,
     "end_time": "2021-01-10T22:21:48.451661",
     "exception": false,
     "start_time": "2021-01-10T22:21:48.432945",
     "status": "completed"
    },
    "tags": []
   },
   "outputs": [
    {
     "data": {
      "text/html": [
       "<style>\n",
       "div.input {\n",
       "    display:none;\n",
       "}\n",
       "</style>\n"
      ],
      "text/plain": [
       "<IPython.core.display.HTML object>"
      ]
     },
     "metadata": {},
     "output_type": "display_data"
    }
   ],
   "source": [
    "%%html\n",
    "<style>\n",
    "div.input {\n",
    "    display:none;\n",
    "}\n",
    "</style>"
   ]
  }
 ],
 "metadata": {
  "kernelspec": {
   "display_name": "Python 3",
   "language": "python",
   "name": "python3"
  },
  "language_info": {
   "codemirror_mode": {
    "name": "ipython",
    "version": 3
   },
   "file_extension": ".py",
   "mimetype": "text/x-python",
   "name": "python",
   "nbconvert_exporter": "python",
   "pygments_lexer": "ipython3",
   "version": "3.8.6"
  },
  "papermill": {
   "duration": 7.036356,
   "end_time": "2021-01-10T22:21:48.769437",
   "environment_variables": {},
   "exception": null,
   "input_path": "DunnCounty_COVID19.ipynb",
   "output_path": "DunnCounty_COVID19.ipynb",
   "parameters": {
    "Start": "True",
    "secretsPath": "/home/runner/work/_temp/secrets.json"
   },
   "start_time": "2021-01-10T22:21:41.733081",
   "version": "1.1.16"
  }
 },
 "nbformat": 4,
 "nbformat_minor": 2
}