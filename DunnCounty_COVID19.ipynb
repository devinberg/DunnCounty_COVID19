{
 "cells": [
  {
   "cell_type": "code",
   "execution_count": 1,
   "id": "solar-understanding",
   "metadata": {
    "execution": {
     "iopub.execute_input": "2021-04-11T10:15:52.459496Z",
     "iopub.status.busy": "2021-04-11T10:15:52.458818Z",
     "iopub.status.idle": "2021-04-11T10:15:55.063723Z",
     "shell.execute_reply": "2021-04-11T10:15:55.063112Z"
    },
    "jupyter": {
     "source_hidden": true
    },
    "papermill": {
     "duration": 2.622749,
     "end_time": "2021-04-11T10:15:55.063890",
     "exception": false,
     "start_time": "2021-04-11T10:15:52.441141",
     "status": "completed"
    },
    "scrolled": true,
    "tags": [
     "hide-input"
    ]
   },
   "outputs": [],
   "source": [
    "import pandas as pd\n",
    "import matplotlib.pyplot as plt\n",
    "from matplotlib import dates\n",
    "from IPython.display import display, Markdown\n",
    "%matplotlib inline"
   ]
  },
  {
   "cell_type": "code",
   "execution_count": 2,
   "id": "purple-playlist",
   "metadata": {
    "execution": {
     "iopub.execute_input": "2021-04-11T10:15:55.093337Z",
     "iopub.status.busy": "2021-04-11T10:15:55.092749Z",
     "iopub.status.idle": "2021-04-11T10:15:56.234170Z",
     "shell.execute_reply": "2021-04-11T10:15:56.233646Z"
    },
    "jupyter": {
     "source_hidden": true
    },
    "papermill": {
     "duration": 1.160497,
     "end_time": "2021-04-11T10:15:56.234319",
     "exception": false,
     "start_time": "2021-04-11T10:15:55.073822",
     "status": "completed"
    },
    "scrolled": true,
    "tags": [
     "hide-input"
    ]
   },
   "outputs": [],
   "source": [
    "# This is the data for all of Wisconsin.\n",
    "url = \"https://opendata.arcgis.com/datasets/5374188992374b318d3e2305216ee413_12.csv\"\n",
    "data = pd.read_csv(url, parse_dates=['DATE'], low_memory=False)"
   ]
  },
  {
   "cell_type": "code",
   "execution_count": 3,
   "id": "proprietary-klein",
   "metadata": {
    "execution": {
     "iopub.execute_input": "2021-04-11T10:15:56.261434Z",
     "iopub.status.busy": "2021-04-11T10:15:56.260837Z",
     "iopub.status.idle": "2021-04-11T10:15:56.273952Z",
     "shell.execute_reply": "2021-04-11T10:15:56.274407Z"
    },
    "jupyter": {
     "source_hidden": true
    },
    "papermill": {
     "duration": 0.030118,
     "end_time": "2021-04-11T10:15:56.274572",
     "exception": false,
     "start_time": "2021-04-11T10:15:56.244454",
     "status": "completed"
    },
    "scrolled": true,
    "tags": [
     "hide-input"
    ]
   },
   "outputs": [],
   "source": [
    "dc = data.groupby('NAME').get_group('Dunn').sort_values(by='DATE') # Select the data for Dunn County from the full data.\n",
    "PNi = dc.columns.get_loc(\"POS_NEW\")\n",
    "dc['7_DAY'] = dc.iloc[:,PNi].rolling(window=7).mean() # Calculates the rolling 7-day average of new cases.\n",
    "dc['14_DAY'] = dc.iloc[:,PNi].rolling(window=14).mean() # Calculates the rolling 14-day average of new cases."
   ]
  },
  {
   "cell_type": "code",
   "execution_count": 4,
   "id": "steady-supervision",
   "metadata": {
    "execution": {
     "iopub.execute_input": "2021-04-11T10:15:56.301287Z",
     "iopub.status.busy": "2021-04-11T10:15:56.300713Z",
     "iopub.status.idle": "2021-04-11T10:15:56.306383Z",
     "shell.execute_reply": "2021-04-11T10:15:56.305786Z"
    },
    "jupyter": {
     "source_hidden": true
    },
    "papermill": {
     "duration": 0.02223,
     "end_time": "2021-04-11T10:15:56.306506",
     "exception": false,
     "start_time": "2021-04-11T10:15:56.284276",
     "status": "completed"
    },
    "scrolled": true,
    "tags": [
     "hide-input"
    ]
   },
   "outputs": [
    {
     "data": {
      "text/markdown": [
       "### Last updated: April 10, 2021"
      ],
      "text/plain": [
       "<IPython.core.display.Markdown object>"
      ]
     },
     "metadata": {},
     "output_type": "display_data"
    }
   ],
   "source": [
    "display(Markdown('### Last updated: ' + dc.iloc[-1]['DATE'].strftime(\"%B %d, %Y\")))"
   ]
  },
  {
   "cell_type": "code",
   "execution_count": 5,
   "id": "lonely-pitch",
   "metadata": {
    "execution": {
     "iopub.execute_input": "2021-04-11T10:15:56.332584Z",
     "iopub.status.busy": "2021-04-11T10:15:56.331622Z",
     "iopub.status.idle": "2021-04-11T10:15:56.335960Z",
     "shell.execute_reply": "2021-04-11T10:15:56.335430Z"
    },
    "jupyter": {
     "source_hidden": true
    },
    "papermill": {
     "duration": 0.019487,
     "end_time": "2021-04-11T10:15:56.336120",
     "exception": false,
     "start_time": "2021-04-11T10:15:56.316633",
     "status": "completed"
    },
    "tags": [
     "hide-input"
    ]
   },
   "outputs": [
    {
     "data": {
      "text/markdown": [
       "# Dunn County has 4494 total positive cases, with 10 new cases reported today."
      ],
      "text/plain": [
       "<IPython.core.display.Markdown object>"
      ]
     },
     "metadata": {},
     "output_type": "display_data"
    }
   ],
   "source": [
    "display(Markdown('# Dunn County has ' + str(dc.iloc[-1]['POSITIVE']) + ' total positive cases, with '+ str(int(dc.iloc[-1]['POS_NEW'])) + ' new cases reported today.'))"
   ]
  },
  {
   "cell_type": "code",
   "execution_count": 6,
   "id": "compound-nightmare",
   "metadata": {
    "execution": {
     "iopub.execute_input": "2021-04-11T10:15:56.361179Z",
     "iopub.status.busy": "2021-04-11T10:15:56.360533Z",
     "iopub.status.idle": "2021-04-11T10:15:56.650447Z",
     "shell.execute_reply": "2021-04-11T10:15:56.650903Z"
    },
    "jupyter": {
     "source_hidden": true
    },
    "papermill": {
     "duration": 0.304824,
     "end_time": "2021-04-11T10:15:56.651096",
     "exception": false,
     "start_time": "2021-04-11T10:15:56.346272",
     "status": "completed"
    },
    "scrolled": false,
    "tags": [
     "hide-input"
    ]
   },
   "outputs": [
    {
     "data": {
      "image/png": "[encoded data removed]",
      "text/plain": [
       "<Figure size 864x432 with 1 Axes>"
      ]
     },
     "metadata": {
      "needs_background": "light"
     },
     "output_type": "display_data"
    }
   ],
   "source": [
    "dc.plot(x='DATE',y='POSITIVE',color='red',grid='True',figsize=(12,6)).set_xlabel('Date');"
   ]
  },
  {
   "cell_type": "markdown",
   "id": "coupled-literacy",
   "metadata": {
    "papermill": {
     "duration": 0.016128,
     "end_time": "2021-04-11T10:15:56.678031",
     "exception": false,
     "start_time": "2021-04-11T10:15:56.661903",
     "status": "completed"
    },
    "tags": []
   },
   "source": [
    "## Figure 1: Cummulative number of positive cases."
   ]
  },
  {
   "cell_type": "code",
   "execution_count": 7,
   "id": "surrounded-reserve",
   "metadata": {
    "execution": {
     "iopub.execute_input": "2021-04-11T10:15:56.706698Z",
     "iopub.status.busy": "2021-04-11T10:15:56.706117Z",
     "iopub.status.idle": "2021-04-11T10:15:56.938755Z",
     "shell.execute_reply": "2021-04-11T10:15:56.939205Z"
    },
    "jupyter": {
     "source_hidden": true
    },
    "papermill": {
     "duration": 0.249156,
     "end_time": "2021-04-11T10:15:56.939370",
     "exception": false,
     "start_time": "2021-04-11T10:15:56.690214",
     "status": "completed"
    },
    "scrolled": false,
    "tags": [
     "hide-input"
    ]
   },
   "outputs": [
    {
     "data": {
      "image/png": "[encoded data removed]",
      "text/plain": [
       "<Figure size 864x432 with 1 Axes>"
      ]
     },
     "metadata": {
      "needs_background": "light"
     },
     "output_type": "display_data"
    }
   ],
   "source": [
    "dc.plot(kind='line',x='DATE',y='7_DAY',color='blue',grid='True',figsize=(12,6)).set_xlabel('Date');"
   ]
  },
  {
   "cell_type": "markdown",
   "id": "professional-savannah",
   "metadata": {
    "papermill": {
     "duration": 0.022234,
     "end_time": "2021-04-11T10:15:56.974054",
     "exception": false,
     "start_time": "2021-04-11T10:15:56.951820",
     "status": "completed"
    },
    "tags": []
   },
   "source": [
    "## Figure 2: Rolling 7-day average of daily new cases."
   ]
  },
  {
   "cell_type": "code",
   "execution_count": 8,
   "id": "stretch-investor",
   "metadata": {
    "execution": {
     "iopub.execute_input": "2021-04-11T10:15:57.004734Z",
     "iopub.status.busy": "2021-04-11T10:15:57.004150Z",
     "iopub.status.idle": "2021-04-11T10:15:57.214360Z",
     "shell.execute_reply": "2021-04-11T10:15:57.214870Z"
    },
    "jupyter": {
     "source_hidden": true
    },
    "papermill": {
     "duration": 0.227285,
     "end_time": "2021-04-11T10:15:57.215060",
     "exception": false,
     "start_time": "2021-04-11T10:15:56.987775",
     "status": "completed"
    },
    "tags": []
   },
   "outputs": [
    {
     "data": {
      "image/png": "[encoded data removed]",
      "text/plain": [
       "<Figure size 864x432 with 1 Axes>"
      ]
     },
     "metadata": {
      "needs_background": "light"
     },
     "output_type": "display_data"
    }
   ],
   "source": [
    "dc.plot(kind='line',x='DATE',y='14_DAY',color='green',grid='True',figsize=(12,6)).set_xlabel('Date');"
   ]
  },
  {
   "cell_type": "markdown",
   "id": "prerequisite-species",
   "metadata": {
    "papermill": {
     "duration": 0.015414,
     "end_time": "2021-04-11T10:15:57.246164",
     "exception": false,
     "start_time": "2021-04-11T10:15:57.230750",
     "status": "completed"
    },
    "tags": []
   },
   "source": [
    "## Figure 3: Rolling 14-day average of daily new cases."
   ]
  },
  {
   "cell_type": "markdown",
   "id": "palestinian-guard",
   "metadata": {
    "papermill": {
     "duration": 0.012789,
     "end_time": "2021-04-11T10:15:57.271589",
     "exception": false,
     "start_time": "2021-04-11T10:15:57.258800",
     "status": "completed"
    },
    "tags": []
   },
   "source": [
    "Data source: [Wisconsin Department of Health Services](https://data.dhsgis.wi.gov/datasets/covid-19-historical-data-table/)"
   ]
  },
  {
   "cell_type": "code",
   "execution_count": 9,
   "id": "proof-medicare",
   "metadata": {
    "execution": {
     "iopub.execute_input": "2021-04-11T10:15:57.302173Z",
     "iopub.status.busy": "2021-04-11T10:15:57.301606Z",
     "iopub.status.idle": "2021-04-11T10:15:57.305720Z",
     "shell.execute_reply": "2021-04-11T10:15:57.306181Z"
    },
    "jupyter": {
     "source_hidden": true
    },
    "papermill": {
     "duration": 0.022229,
     "end_time": "2021-04-11T10:15:57.306324",
     "exception": false,
     "start_time": "2021-04-11T10:15:57.284095",
     "status": "completed"
    },
    "tags": []
   },
   "outputs": [
    {
     "data": {
      "text/html": [
       "<style>\n",
       "div.input {\n",
       "    display:none;\n",
       "}\n",
       "</style>\n"
      ],
      "text/plain": [
       "<IPython.core.display.HTML object>"
      ]
     },
     "metadata": {},
     "output_type": "display_data"
    }
   ],
   "source": [
    "%%html\n",
    "<style>\n",
    "div.input {\n",
    "    display:none;\n",
    "}\n",
    "</style>"
   ]
  }
 ],
 "metadata": {
  "kernelspec": {
   "display_name": "Python 3",
   "language": "python",
   "name": "python3"
  },
  "language_info": {
   "codemirror_mode": {
    "name": "ipython",
    "version": 3
   },
   "file_extension": ".py",
   "mimetype": "text/x-python",
   "name": "python",
   "nbconvert_exporter": "python",
   "pygments_lexer": "ipython3",
   "version": "3.8.8"
  },
  "papermill": {
   "duration": 7.780129,
   "end_time": "2021-04-11T10:15:58.480373",
   "environment_variables": {},
   "exception": null,
   "input_path": "DunnCounty_COVID19.ipynb",
   "output_path": "DunnCounty_COVID19.ipynb",
   "parameters": {
    "Start": "True",
    "secretsPath": "/home/runner/work/_temp/secrets.json"
   },
   "start_time": "2021-04-11T10:15:50.700244",
   "version": "1.1.16"
  }
 },
 "nbformat": 4,
 "nbformat_minor": 5
}