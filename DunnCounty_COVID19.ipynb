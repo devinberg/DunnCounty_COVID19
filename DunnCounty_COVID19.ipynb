{
 "cells": [
  {
   "cell_type": "code",
   "execution_count": 1,
   "id": "solar-understanding",
   "metadata": {
    "execution": {
     "iopub.execute_input": "2021-01-22T10:46:48.228485Z",
     "iopub.status.busy": "2021-01-22T10:46:48.227915Z",
     "iopub.status.idle": "2021-01-22T10:46:51.585182Z",
     "shell.execute_reply": "2021-01-22T10:46:51.584009Z"
    },
    "jupyter": {
     "source_hidden": true
    },
    "papermill": {
     "duration": 3.375734,
     "end_time": "2021-01-22T10:46:51.585382",
     "exception": false,
     "start_time": "2021-01-22T10:46:48.209648",
     "status": "completed"
    },
    "scrolled": true,
    "tags": [
     "hide-input"
    ]
   },
   "outputs": [],
   "source": [
    "import pandas as pd\n",
    "import matplotlib.pyplot as plt\n",
    "from matplotlib import dates\n",
    "from IPython.display import display, Markdown\n",
    "%matplotlib inline"
   ]
  },
  {
   "cell_type": "code",
   "execution_count": 2,
   "id": "purple-playlist",
   "metadata": {
    "execution": {
     "iopub.execute_input": "2021-01-22T10:46:51.609380Z",
     "iopub.status.busy": "2021-01-22T10:46:51.608820Z",
     "iopub.status.idle": "2021-01-22T10:46:52.277827Z",
     "shell.execute_reply": "2021-01-22T10:46:52.277223Z"
    },
    "jupyter": {
     "source_hidden": true
    },
    "papermill": {
     "duration": 0.683565,
     "end_time": "2021-01-22T10:46:52.277988",
     "exception": false,
     "start_time": "2021-01-22T10:46:51.594423",
     "status": "completed"
    },
    "scrolled": true,
    "tags": [
     "hide-input"
    ]
   },
   "outputs": [],
   "source": [
    "# This is the data for all of Wisconsin.\n",
    "url = \"https://opendata.arcgis.com/datasets/5374188992374b318d3e2305216ee413_12.csv\"\n",
    "data = pd.read_csv(url, parse_dates=['DATE'], low_memory=False)"
   ]
  },
  {
   "cell_type": "code",
   "execution_count": 3,
   "id": "proprietary-klein",
   "metadata": {
    "execution": {
     "iopub.execute_input": "2021-01-22T10:46:52.302273Z",
     "iopub.status.busy": "2021-01-22T10:46:52.301718Z",
     "iopub.status.idle": "2021-01-22T10:46:52.311067Z",
     "shell.execute_reply": "2021-01-22T10:46:52.310595Z"
    },
    "jupyter": {
     "source_hidden": true
    },
    "papermill": {
     "duration": 0.024252,
     "end_time": "2021-01-22T10:46:52.311203",
     "exception": false,
     "start_time": "2021-01-22T10:46:52.286951",
     "status": "completed"
    },
    "scrolled": true,
    "tags": [
     "hide-input"
    ]
   },
   "outputs": [],
   "source": [
    "dc = data.groupby('NAME').get_group('Dunn').sort_values(by='DATE') # Select the data for Dunn County from the full data.\n",
    "PNi = dc.columns.get_loc(\"POS_NEW\")\n",
    "dc['7_DAY'] = dc.iloc[:,PNi].rolling(window=7).mean() # Calculates the rolling 7-day average of new cases.\n",
    "dc['14_DAY'] = dc.iloc[:,PNi].rolling(window=14).mean() # Calculates the rolling 14-day average of new cases."
   ]
  },
  {
   "cell_type": "code",
   "execution_count": 4,
   "id": "steady-supervision",
   "metadata": {
    "execution": {
     "iopub.execute_input": "2021-01-22T10:46:52.337411Z",
     "iopub.status.busy": "2021-01-22T10:46:52.336649Z",
     "iopub.status.idle": "2021-01-22T10:46:52.339105Z",
     "shell.execute_reply": "2021-01-22T10:46:52.339550Z"
    },
    "jupyter": {
     "source_hidden": true
    },
    "papermill": {
     "duration": 0.019646,
     "end_time": "2021-01-22T10:46:52.339705",
     "exception": false,
     "start_time": "2021-01-22T10:46:52.320059",
     "status": "completed"
    },
    "scrolled": true,
    "tags": [
     "hide-input"
    ]
   },
   "outputs": [
    {
     "data": {
      "text/markdown": [
       "### Last updated: January 21, 2021"
      ],
      "text/plain": [
       "<IPython.core.display.Markdown object>"
      ]
     },
     "metadata": {},
     "output_type": "display_data"
    }
   ],
   "source": [
    "display(Markdown('### Last updated: ' + dc.iloc[-1]['DATE'].strftime(\"%B %d, %Y\")))"
   ]
  },
  {
   "cell_type": "code",
   "execution_count": 5,
   "id": "lonely-pitch",
   "metadata": {
    "execution": {
     "iopub.execute_input": "2021-01-22T10:46:52.365975Z",
     "iopub.status.busy": "2021-01-22T10:46:52.365405Z",
     "iopub.status.idle": "2021-01-22T10:46:52.367524Z",
     "shell.execute_reply": "2021-01-22T10:46:52.368027Z"
    },
    "jupyter": {
     "source_hidden": true
    },
    "papermill": {
     "duration": 0.019077,
     "end_time": "2021-01-22T10:46:52.368182",
     "exception": false,
     "start_time": "2021-01-22T10:46:52.349105",
     "status": "completed"
    },
    "tags": [
     "hide-input"
    ]
   },
   "outputs": [
    {
     "data": {
      "text/markdown": [
       "# Dunn County has 3913 total positive cases, with 37 new cases reported today."
      ],
      "text/plain": [
       "<IPython.core.display.Markdown object>"
      ]
     },
     "metadata": {},
     "output_type": "display_data"
    }
   ],
   "source": [
    "display(Markdown('# Dunn County has ' + str(dc.iloc[-1]['POSITIVE']) + ' total positive cases, with '+ str(int(dc.iloc[-1]['POS_NEW'])) + ' new cases reported today.'))"
   ]
  },
  {
   "cell_type": "code",
   "execution_count": 6,
   "id": "compound-nightmare",
   "metadata": {
    "execution": {
     "iopub.execute_input": "2021-01-22T10:46:52.393127Z",
     "iopub.status.busy": "2021-01-22T10:46:52.392586Z",
     "iopub.status.idle": "2021-01-22T10:46:52.670313Z",
     "shell.execute_reply": "2021-01-22T10:46:52.669766Z"
    },
    "jupyter": {
     "source_hidden": true
    },
    "papermill": {
     "duration": 0.292844,
     "end_time": "2021-01-22T10:46:52.670445",
     "exception": false,
     "start_time": "2021-01-22T10:46:52.377601",
     "status": "completed"
    },
    "scrolled": false,
    "tags": [
     "hide-input"
    ]
   },
   "outputs": [
    {
     "data": {
      "image/png": "[encoded data removed]",
      "text/plain": [
       "<Figure size 864x432 with 1 Axes>"
      ]
     },
     "metadata": {
      "needs_background": "light"
     },
     "output_type": "display_data"
    }
   ],
   "source": [
    "dc.plot(x='DATE',y='POSITIVE',color='red',grid='True',figsize=(12,6)).set_xlabel('Date');"
   ]
  },
  {
   "cell_type": "markdown",
   "id": "coupled-literacy",
   "metadata": {
    "papermill": {
     "duration": 0.014782,
     "end_time": "2021-01-22T10:46:52.739443",
     "exception": false,
     "start_time": "2021-01-22T10:46:52.724661",
     "status": "completed"
    },
    "tags": []
   },
   "source": [
    "## Figure 1: Cummulative number of positive cases."
   ]
  },
  {
   "cell_type": "code",
   "execution_count": 7,
   "id": "surrounded-reserve",
   "metadata": {
    "execution": {
     "iopub.execute_input": "2021-01-22T10:46:52.765108Z",
     "iopub.status.busy": "2021-01-22T10:46:52.764575Z",
     "iopub.status.idle": "2021-01-22T10:46:53.005892Z",
     "shell.execute_reply": "2021-01-22T10:46:53.006514Z"
    },
    "jupyter": {
     "source_hidden": true
    },
    "papermill": {
     "duration": 0.256937,
     "end_time": "2021-01-22T10:46:53.006733",
     "exception": false,
     "start_time": "2021-01-22T10:46:52.749796",
     "status": "completed"
    },
    "scrolled": false,
    "tags": [
     "hide-input"
    ]
   },
   "outputs": [
    {
     "data": {
      "image/png": "[encoded data removed]",
      "text/plain": [
       "<Figure size 864x432 with 1 Axes>"
      ]
     },
     "metadata": {
      "needs_background": "light"
     },
     "output_type": "display_data"
    }
   ],
   "source": [
    "dc.plot(kind='line',x='DATE',y='7_DAY',color='blue',grid='True',figsize=(12,6)).set_xlabel('Date');"
   ]
  },
  {
   "cell_type": "markdown",
   "id": "professional-savannah",
   "metadata": {
    "papermill": {
     "duration": 0.011768,
     "end_time": "2021-01-22T10:46:53.030846",
     "exception": false,
     "start_time": "2021-01-22T10:46:53.019078",
     "status": "completed"
    },
    "tags": []
   },
   "source": [
    "## Figure 2: Rolling 7-day average of daily new cases."
   ]
  },
  {
   "cell_type": "code",
   "execution_count": 8,
   "id": "stretch-investor",
   "metadata": {
    "execution": {
     "iopub.execute_input": "2021-01-22T10:46:53.059886Z",
     "iopub.status.busy": "2021-01-22T10:46:53.059335Z",
     "iopub.status.idle": "2021-01-22T10:46:53.300181Z",
     "shell.execute_reply": "2021-01-22T10:46:53.300615Z"
    },
    "jupyter": {
     "source_hidden": true
    },
    "papermill": {
     "duration": 0.258548,
     "end_time": "2021-01-22T10:46:53.300778",
     "exception": false,
     "start_time": "2021-01-22T10:46:53.042230",
     "status": "completed"
    },
    "tags": []
   },
   "outputs": [
    {
     "data": {
      "image/png": "[encoded data removed]",
      "text/plain": [
       "<Figure size 864x432 with 1 Axes>"
      ]
     },
     "metadata": {
      "needs_background": "light"
     },
     "output_type": "display_data"
    }
   ],
   "source": [
    "dc.plot(kind='line',x='DATE',y='14_DAY',color='green',grid='True',figsize=(12,6)).set_xlabel('Date');"
   ]
  },
  {
   "cell_type": "markdown",
   "id": "prerequisite-species",
   "metadata": {
    "papermill": {
     "duration": 0.012851,
     "end_time": "2021-01-22T10:46:53.326810",
     "exception": false,
     "start_time": "2021-01-22T10:46:53.313959",
     "status": "completed"
    },
    "tags": []
   },
   "source": [
    "## Figure 3: Rolling 14-day average of daily new cases."
   ]
  },
  {
   "cell_type": "markdown",
   "id": "palestinian-guard",
   "metadata": {
    "papermill": {
     "duration": 0.012654,
     "end_time": "2021-01-22T10:46:53.352086",
     "exception": false,
     "start_time": "2021-01-22T10:46:53.339432",
     "status": "completed"
    },
    "tags": []
   },
   "source": [
    "Data source: [Wisconsin Department of Health Services](https://data.dhsgis.wi.gov/datasets/covid-19-historical-data-table/)"
   ]
  },
  {
   "cell_type": "code",
   "execution_count": 9,
   "id": "proof-medicare",
   "metadata": {
    "execution": {
     "iopub.execute_input": "2021-01-22T10:46:53.383192Z",
     "iopub.status.busy": "2021-01-22T10:46:53.382638Z",
     "iopub.status.idle": "2021-01-22T10:46:53.386108Z",
     "shell.execute_reply": "2021-01-22T10:46:53.385666Z"
    },
    "jupyter": {
     "source_hidden": true
    },
    "papermill": {
     "duration": 0.021568,
     "end_time": "2021-01-22T10:46:53.386236",
     "exception": false,
     "start_time": "2021-01-22T10:46:53.364668",
     "status": "completed"
    },
    "tags": []
   },
   "outputs": [
    {
     "data": {
      "text/html": [
       "<style>\n",
       "div.input {\n",
       "    display:none;\n",
       "}\n",
       "</style>\n"
      ],
      "text/plain": [
       "<IPython.core.display.HTML object>"
      ]
     },
     "metadata": {},
     "output_type": "display_data"
    }
   ],
   "source": [
    "%%html\n",
    "<style>\n",
    "div.input {\n",
    "    display:none;\n",
    "}\n",
    "</style>"
   ]
  }
 ],
 "metadata": {
  "kernelspec": {
   "display_name": "Python 3",
   "language": "python",
   "name": "python3"
  },
  "language_info": {
   "codemirror_mode": {
    "name": "ipython",
    "version": 3
   },
   "file_extension": ".py",
   "mimetype": "text/x-python",
   "name": "python",
   "nbconvert_exporter": "python",
   "pygments_lexer": "ipython3",
   "version": "3.8.6"
  },
  "papermill": {
   "duration": 7.122752,
   "end_time": "2021-01-22T10:46:53.807212",
   "environment_variables": {},
   "exception": null,
   "input_path": "DunnCounty_COVID19.ipynb",
   "output_path": "DunnCounty_COVID19.ipynb",
   "parameters": {
    "Start": "True",
    "secretsPath": "/home/runner/work/_temp/secrets.json"
   },
   "start_time": "2021-01-22T10:46:46.684460",
   "version": "1.1.16"
  }
 },
 "nbformat": 4,
 "nbformat_minor": 5
}