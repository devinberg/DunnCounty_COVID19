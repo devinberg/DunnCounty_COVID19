{
 "cells": [
  {
   "cell_type": "code",
   "execution_count": 1,
   "metadata": {
    "execution": {
     "iopub.execute_input": "2020-09-30T22:10:21.066926Z",
     "iopub.status.busy": "2020-09-30T22:10:21.066252Z",
     "iopub.status.idle": "2020-09-30T22:10:22.293429Z",
     "shell.execute_reply": "2020-09-30T22:10:22.292391Z"
    },
    "jupyter": {
     "source_hidden": true
    },
    "papermill": {
     "duration": 1.243333,
     "end_time": "2020-09-30T22:10:22.293650",
     "exception": false,
     "start_time": "2020-09-30T22:10:21.050317",
     "status": "completed"
    },
    "scrolled": true,
    "tags": [
     "hide-input"
    ]
   },
   "outputs": [],
   "source": [
    "import pandas as pd\n",
    "import matplotlib.pyplot as plt\n",
    "from matplotlib import dates\n",
    "from IPython.display import display, Markdown\n",
    "%matplotlib inline"
   ]
  },
  {
   "cell_type": "code",
   "execution_count": 2,
   "metadata": {
    "execution": {
     "iopub.execute_input": "2020-09-30T22:10:22.314214Z",
     "iopub.status.busy": "2020-09-30T22:10:22.313574Z",
     "iopub.status.idle": "2020-09-30T22:10:28.210484Z",
     "shell.execute_reply": "2020-09-30T22:10:28.209523Z"
    },
    "jupyter": {
     "source_hidden": true
    },
    "papermill": {
     "duration": 5.909357,
     "end_time": "2020-09-30T22:10:28.210625",
     "exception": false,
     "start_time": "2020-09-30T22:10:22.301268",
     "status": "completed"
    },
    "scrolled": true,
    "tags": [
     "hide-input"
    ]
   },
   "outputs": [],
   "source": [
    "# This is the data for all of Wisconsin.\n",
    "url = \"https://opendata.arcgis.com/datasets/b913e9591eae4912b33dc5b4e88646c5_10.csv\"\n",
    "data = pd.read_csv(url, parse_dates=['DATE'], low_memory=False)"
   ]
  },
  {
   "cell_type": "code",
   "execution_count": 3,
   "metadata": {
    "execution": {
     "iopub.execute_input": "2020-09-30T22:10:28.242831Z",
     "iopub.status.busy": "2020-09-30T22:10:28.242223Z",
     "iopub.status.idle": "2020-09-30T22:10:28.252264Z",
     "shell.execute_reply": "2020-09-30T22:10:28.252715Z"
    },
    "jupyter": {
     "source_hidden": true
    },
    "papermill": {
     "duration": 0.033456,
     "end_time": "2020-09-30T22:10:28.252867",
     "exception": false,
     "start_time": "2020-09-30T22:10:28.219411",
     "status": "completed"
    },
    "scrolled": true,
    "tags": [
     "hide-input"
    ]
   },
   "outputs": [],
   "source": [
    "dc = data.groupby('NAME').get_group('Dunn').sort_values(by='DATE') # Select the data for Dunn County from the full data.\n",
    "PNi = dc.columns.get_loc(\"POS_NEW\")\n",
    "dc['7_DAY'] = dc.iloc[:,PNi].rolling(window=7).mean() # Calculates the rolling 7-day average of new cases.\n",
    "dc['14_DAY'] = dc.iloc[:,PNi].rolling(window=14).mean() # Calculates the rolling 14-day average of new cases."
   ]
  },
  {
   "cell_type": "code",
   "execution_count": 4,
   "metadata": {
    "execution": {
     "iopub.execute_input": "2020-09-30T22:10:28.273249Z",
     "iopub.status.busy": "2020-09-30T22:10:28.272703Z",
     "iopub.status.idle": "2020-09-30T22:10:28.275556Z",
     "shell.execute_reply": "2020-09-30T22:10:28.276009Z"
    },
    "jupyter": {
     "source_hidden": true
    },
    "papermill": {
     "duration": 0.01637,
     "end_time": "2020-09-30T22:10:28.276146",
     "exception": false,
     "start_time": "2020-09-30T22:10:28.259776",
     "status": "completed"
    },
    "scrolled": true,
    "tags": [
     "hide-input"
    ]
   },
   "outputs": [
    {
     "data": {
      "text/markdown": [
       "### Last updated: September 30, 2020"
      ],
      "text/plain": [
       "<IPython.core.display.Markdown object>"
      ]
     },
     "metadata": {},
     "output_type": "display_data"
    }
   ],
   "source": [
    "display(Markdown('### Last updated: ' + dc.iloc[-1]['DATE'].strftime(\"%B %d, %Y\")))"
   ]
  },
  {
   "cell_type": "code",
   "execution_count": 5,
   "metadata": {
    "execution": {
     "iopub.execute_input": "2020-09-30T22:10:28.296360Z",
     "iopub.status.busy": "2020-09-30T22:10:28.295824Z",
     "iopub.status.idle": "2020-09-30T22:10:28.299035Z",
     "shell.execute_reply": "2020-09-30T22:10:28.298631Z"
    },
    "jupyter": {
     "source_hidden": true
    },
    "papermill": {
     "duration": 0.015313,
     "end_time": "2020-09-30T22:10:28.299162",
     "exception": false,
     "start_time": "2020-09-30T22:10:28.283849",
     "status": "completed"
    },
    "tags": [
     "hide-input"
    ]
   },
   "outputs": [
    {
     "data": {
      "text/markdown": [
       "# Dunn County has 612 total positive cases, with 19 new cases reported today."
      ],
      "text/plain": [
       "<IPython.core.display.Markdown object>"
      ]
     },
     "metadata": {},
     "output_type": "display_data"
    }
   ],
   "source": [
    "display(Markdown('# Dunn County has ' + str(dc.iloc[-1]['POSITIVE']) + ' total positive cases, with '+ str(int(dc.iloc[-1]['POS_NEW'])) + ' new cases reported today.'))"
   ]
  },
  {
   "cell_type": "code",
   "execution_count": 6,
   "metadata": {
    "execution": {
     "iopub.execute_input": "2020-09-30T22:10:28.319259Z",
     "iopub.status.busy": "2020-09-30T22:10:28.318065Z",
     "iopub.status.idle": "2020-09-30T22:10:28.548625Z",
     "shell.execute_reply": "2020-09-30T22:10:28.549064Z"
    },
    "jupyter": {
     "source_hidden": true
    },
    "papermill": {
     "duration": 0.242409,
     "end_time": "2020-09-30T22:10:28.549265",
     "exception": false,
     "start_time": "2020-09-30T22:10:28.306856",
     "status": "completed"
    },
    "scrolled": false,
    "tags": [
     "hide-input"
    ]
   },
   "outputs": [
    {
     "data": {
      "image/png": "[encoded data removed]",
      "text/plain": [
       "<Figure size 864x432 with 1 Axes>"
      ]
     },
     "metadata": {
      "needs_background": "light"
     },
     "output_type": "display_data"
    }
   ],
   "source": [
    "dc.plot(x='DATE',y='POSITIVE',color='red',grid='True',figsize=(12,6)).set_xlabel('Date');"
   ]
  },
  {
   "cell_type": "markdown",
   "metadata": {
    "papermill": {
     "duration": 0.009583,
     "end_time": "2020-09-30T22:10:28.568207",
     "exception": false,
     "start_time": "2020-09-30T22:10:28.558624",
     "status": "completed"
    },
    "tags": []
   },
   "source": [
    "## Figure 1: Cummulative number of positive cases."
   ]
  },
  {
   "cell_type": "code",
   "execution_count": 7,
   "metadata": {
    "execution": {
     "iopub.execute_input": "2020-09-30T22:10:28.590676Z",
     "iopub.status.busy": "2020-09-30T22:10:28.590136Z",
     "iopub.status.idle": "2020-09-30T22:10:28.795324Z",
     "shell.execute_reply": "2020-09-30T22:10:28.795852Z"
    },
    "jupyter": {
     "source_hidden": true
    },
    "papermill": {
     "duration": 0.219137,
     "end_time": "2020-09-30T22:10:28.796031",
     "exception": false,
     "start_time": "2020-09-30T22:10:28.576894",
     "status": "completed"
    },
    "scrolled": false,
    "tags": [
     "hide-input"
    ]
   },
   "outputs": [
    {
     "data": {
      "image/png": "[encoded data removed]",
      "text/plain": [
       "<Figure size 864x432 with 1 Axes>"
      ]
     },
     "metadata": {
      "needs_background": "light"
     },
     "output_type": "display_data"
    }
   ],
   "source": [
    "dc.plot(kind='line',x='DATE',y='7_DAY',color='blue',grid='True',figsize=(12,6)).set_xlabel('Date');"
   ]
  },
  {
   "cell_type": "markdown",
   "metadata": {
    "papermill": {
     "duration": 0.009362,
     "end_time": "2020-09-30T22:10:28.815635",
     "exception": false,
     "start_time": "2020-09-30T22:10:28.806273",
     "status": "completed"
    },
    "tags": []
   },
   "source": [
    "## Figure 2: Rolling 7-day average of daily new cases."
   ]
  },
  {
   "cell_type": "code",
   "execution_count": 8,
   "metadata": {
    "execution": {
     "iopub.execute_input": "2020-09-30T22:10:28.839976Z",
     "iopub.status.busy": "2020-09-30T22:10:28.839447Z",
     "iopub.status.idle": "2020-09-30T22:10:29.039856Z",
     "shell.execute_reply": "2020-09-30T22:10:29.040369Z"
    },
    "jupyter": {
     "source_hidden": true
    },
    "papermill": {
     "duration": 0.215598,
     "end_time": "2020-09-30T22:10:29.040547",
     "exception": false,
     "start_time": "2020-09-30T22:10:28.824949",
     "status": "completed"
    },
    "tags": []
   },
   "outputs": [
    {
     "data": {
      "image/png": "[encoded data removed]",
      "text/plain": [
       "<Figure size 864x432 with 1 Axes>"
      ]
     },
     "metadata": {
      "needs_background": "light"
     },
     "output_type": "display_data"
    }
   ],
   "source": [
    "dc.plot(kind='line',x='DATE',y='14_DAY',color='green',grid='True',figsize=(12,6)).set_xlabel('Date');"
   ]
  },
  {
   "cell_type": "markdown",
   "metadata": {
    "papermill": {
     "duration": 0.013732,
     "end_time": "2020-09-30T22:10:29.066159",
     "exception": false,
     "start_time": "2020-09-30T22:10:29.052427",
     "status": "completed"
    },
    "tags": []
   },
   "source": [
    "## Figure 3: Rolling 14-day average of daily new cases."
   ]
  },
  {
   "cell_type": "markdown",
   "metadata": {
    "papermill": {
     "duration": 0.010311,
     "end_time": "2020-09-30T22:10:29.087111",
     "exception": false,
     "start_time": "2020-09-30T22:10:29.076800",
     "status": "completed"
    },
    "tags": []
   },
   "source": [
    "Data source: [Wisconsin Department of Health Services](https://data.dhsgis.wi.gov/datasets/covid-19-historical-data-table/)"
   ]
  },
  {
   "cell_type": "code",
   "execution_count": 9,
   "metadata": {
    "execution": {
     "iopub.execute_input": "2020-09-30T22:10:29.113252Z",
     "iopub.status.busy": "2020-09-30T22:10:29.112719Z",
     "iopub.status.idle": "2020-09-30T22:10:29.115950Z",
     "shell.execute_reply": "2020-09-30T22:10:29.115512Z"
    },
    "jupyter": {
     "source_hidden": true
    },
    "papermill": {
     "duration": 0.0185,
     "end_time": "2020-09-30T22:10:29.116073",
     "exception": false,
     "start_time": "2020-09-30T22:10:29.097573",
     "status": "completed"
    },
    "tags": []
   },
   "outputs": [
    {
     "data": {
      "text/html": [
       "<style>\n",
       "div.input {\n",
       "    display:none;\n",
       "}\n",
       "</style>\n"
      ],
      "text/plain": [
       "<IPython.core.display.HTML object>"
      ]
     },
     "metadata": {},
     "output_type": "display_data"
    }
   ],
   "source": [
    "%%html\n",
    "<style>\n",
    "div.input {\n",
    "    display:none;\n",
    "}\n",
    "</style>"
   ]
  }
 ],
 "metadata": {
  "kernelspec": {
   "display_name": "Python 3",
   "language": "python",
   "name": "python3"
  },
  "language_info": {
   "codemirror_mode": {
    "name": "ipython",
    "version": 3
   },
   "file_extension": ".py",
   "mimetype": "text/x-python",
   "name": "python",
   "nbconvert_exporter": "python",
   "pygments_lexer": "ipython3",
   "version": "3.8.5"
  },
  "papermill": {
   "duration": 10.606819,
   "end_time": "2020-09-30T22:10:30.293757",
   "environment_variables": {},
   "exception": null,
   "input_path": "DunnCounty_COVID19.ipynb",
   "output_path": "DunnCounty_COVID19.ipynb",
   "parameters": {
    "Start": "True",
    "secretsPath": "/home/runner/work/_temp/secrets.json"
   },
   "start_time": "2020-09-30T22:10:19.686938",
   "version": "1.1.16"
  }
 },
 "nbformat": 4,
 "nbformat_minor": 2
}