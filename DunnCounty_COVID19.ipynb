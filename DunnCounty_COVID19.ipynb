{
 "cells": [
  {
   "cell_type": "code",
   "execution_count": 1,
   "metadata": {
    "execution": {
     "iopub.execute_input": "2020-11-04T22:16:32.735258Z",
     "iopub.status.busy": "2020-11-04T22:16:32.734650Z",
     "iopub.status.idle": "2020-11-04T22:16:34.976613Z",
     "shell.execute_reply": "2020-11-04T22:16:34.975245Z"
    },
    "jupyter": {
     "source_hidden": true
    },
    "papermill": {
     "duration": 2.259042,
     "end_time": "2020-11-04T22:16:34.976846",
     "exception": false,
     "start_time": "2020-11-04T22:16:32.717804",
     "status": "completed"
    },
    "scrolled": true,
    "tags": [
     "hide-input"
    ]
   },
   "outputs": [],
   "source": [
    "import pandas as pd\n",
    "import matplotlib.pyplot as plt\n",
    "from matplotlib import dates\n",
    "from IPython.display import display, Markdown\n",
    "%matplotlib inline"
   ]
  },
  {
   "cell_type": "code",
   "execution_count": 2,
   "metadata": {
    "execution": {
     "iopub.execute_input": "2020-11-04T22:16:34.997766Z",
     "iopub.status.busy": "2020-11-04T22:16:34.997173Z",
     "iopub.status.idle": "2020-11-04T22:16:35.592791Z",
     "shell.execute_reply": "2020-11-04T22:16:35.593558Z"
    },
    "jupyter": {
     "source_hidden": true
    },
    "papermill": {
     "duration": 0.609477,
     "end_time": "2020-11-04T22:16:35.593836",
     "exception": false,
     "start_time": "2020-11-04T22:16:34.984359",
     "status": "completed"
    },
    "scrolled": true,
    "tags": [
     "hide-input"
    ]
   },
   "outputs": [],
   "source": [
    "# This is the data for all of Wisconsin.\n",
    "url = \"https://opendata.arcgis.com/datasets/5374188992374b318d3e2305216ee413_12.csv\"\n",
    "data = pd.read_csv(url, parse_dates=['DATE'], low_memory=False)"
   ]
  },
  {
   "cell_type": "code",
   "execution_count": 3,
   "metadata": {
    "execution": {
     "iopub.execute_input": "2020-11-04T22:16:35.620066Z",
     "iopub.status.busy": "2020-11-04T22:16:35.619483Z",
     "iopub.status.idle": "2020-11-04T22:16:35.628642Z",
     "shell.execute_reply": "2020-11-04T22:16:35.628154Z"
    },
    "jupyter": {
     "source_hidden": true
    },
    "papermill": {
     "duration": 0.022688,
     "end_time": "2020-11-04T22:16:35.628784",
     "exception": false,
     "start_time": "2020-11-04T22:16:35.606096",
     "status": "completed"
    },
    "scrolled": true,
    "tags": [
     "hide-input"
    ]
   },
   "outputs": [],
   "source": [
    "dc = data.groupby('NAME').get_group('Dunn').sort_values(by='DATE') # Select the data for Dunn County from the full data.\n",
    "PNi = dc.columns.get_loc(\"POS_NEW\")\n",
    "dc['7_DAY'] = dc.iloc[:,PNi].rolling(window=7).mean() # Calculates the rolling 7-day average of new cases.\n",
    "dc['14_DAY'] = dc.iloc[:,PNi].rolling(window=14).mean() # Calculates the rolling 14-day average of new cases."
   ]
  },
  {
   "cell_type": "code",
   "execution_count": 4,
   "metadata": {
    "execution": {
     "iopub.execute_input": "2020-11-04T22:16:35.650051Z",
     "iopub.status.busy": "2020-11-04T22:16:35.649473Z",
     "iopub.status.idle": "2020-11-04T22:16:35.652288Z",
     "shell.execute_reply": "2020-11-04T22:16:35.652728Z"
    },
    "jupyter": {
     "source_hidden": true
    },
    "papermill": {
     "duration": 0.017029,
     "end_time": "2020-11-04T22:16:35.652881",
     "exception": false,
     "start_time": "2020-11-04T22:16:35.635852",
     "status": "completed"
    },
    "scrolled": true,
    "tags": [
     "hide-input"
    ]
   },
   "outputs": [
    {
     "data": {
      "text/markdown": [
       "### Last updated: November 04, 2020"
      ],
      "text/plain": [
       "<IPython.core.display.Markdown object>"
      ]
     },
     "metadata": {},
     "output_type": "display_data"
    }
   ],
   "source": [
    "display(Markdown('### Last updated: ' + dc.iloc[-1]['DATE'].strftime(\"%B %d, %Y\")))"
   ]
  },
  {
   "cell_type": "code",
   "execution_count": 5,
   "metadata": {
    "execution": {
     "iopub.execute_input": "2020-11-04T22:16:35.672977Z",
     "iopub.status.busy": "2020-11-04T22:16:35.672426Z",
     "iopub.status.idle": "2020-11-04T22:16:35.675887Z",
     "shell.execute_reply": "2020-11-04T22:16:35.675408Z"
    },
    "jupyter": {
     "source_hidden": true
    },
    "papermill": {
     "duration": 0.015815,
     "end_time": "2020-11-04T22:16:35.676014",
     "exception": false,
     "start_time": "2020-11-04T22:16:35.660199",
     "status": "completed"
    },
    "tags": [
     "hide-input"
    ]
   },
   "outputs": [
    {
     "data": {
      "text/markdown": [
       "# Dunn County has 1376 total positive cases, with 92 new cases reported today."
      ],
      "text/plain": [
       "<IPython.core.display.Markdown object>"
      ]
     },
     "metadata": {},
     "output_type": "display_data"
    }
   ],
   "source": [
    "display(Markdown('# Dunn County has ' + str(dc.iloc[-1]['POSITIVE']) + ' total positive cases, with '+ str(int(dc.iloc[-1]['POS_NEW'])) + ' new cases reported today.'))"
   ]
  },
  {
   "cell_type": "code",
   "execution_count": 6,
   "metadata": {
    "execution": {
     "iopub.execute_input": "2020-11-04T22:16:35.697058Z",
     "iopub.status.busy": "2020-11-04T22:16:35.696504Z",
     "iopub.status.idle": "2020-11-04T22:16:35.935673Z",
     "shell.execute_reply": "2020-11-04T22:16:35.936121Z"
    },
    "jupyter": {
     "source_hidden": true
    },
    "papermill": {
     "duration": 0.252364,
     "end_time": "2020-11-04T22:16:35.936298",
     "exception": false,
     "start_time": "2020-11-04T22:16:35.683934",
     "status": "completed"
    },
    "scrolled": false,
    "tags": [
     "hide-input"
    ]
   },
   "outputs": [
    {
     "data": {
      "image/png": "[encoded data removed]",
      "text/plain": [
       "<Figure size 864x432 with 1 Axes>"
      ]
     },
     "metadata": {
      "needs_background": "light"
     },
     "output_type": "display_data"
    }
   ],
   "source": [
    "dc.plot(x='DATE',y='POSITIVE',color='red',grid='True',figsize=(12,6)).set_xlabel('Date');"
   ]
  },
  {
   "cell_type": "markdown",
   "metadata": {
    "papermill": {
     "duration": 0.009194,
     "end_time": "2020-11-04T22:16:35.954840",
     "exception": false,
     "start_time": "2020-11-04T22:16:35.945646",
     "status": "completed"
    },
    "tags": []
   },
   "source": [
    "## Figure 1: Cummulative number of positive cases."
   ]
  },
  {
   "cell_type": "code",
   "execution_count": 7,
   "metadata": {
    "execution": {
     "iopub.execute_input": "2020-11-04T22:16:35.978429Z",
     "iopub.status.busy": "2020-11-04T22:16:35.977821Z",
     "iopub.status.idle": "2020-11-04T22:16:36.207584Z",
     "shell.execute_reply": "2020-11-04T22:16:36.208071Z"
    },
    "jupyter": {
     "source_hidden": true
    },
    "papermill": {
     "duration": 0.243987,
     "end_time": "2020-11-04T22:16:36.208239",
     "exception": false,
     "start_time": "2020-11-04T22:16:35.964252",
     "status": "completed"
    },
    "scrolled": false,
    "tags": [
     "hide-input"
    ]
   },
   "outputs": [
    {
     "data": {
      "image/png": "[encoded data removed]",
      "text/plain": [
       "<Figure size 864x432 with 1 Axes>"
      ]
     },
     "metadata": {
      "needs_background": "light"
     },
     "output_type": "display_data"
    }
   ],
   "source": [
    "dc.plot(kind='line',x='DATE',y='7_DAY',color='blue',grid='True',figsize=(12,6)).set_xlabel('Date');"
   ]
  },
  {
   "cell_type": "markdown",
   "metadata": {
    "papermill": {
     "duration": 0.01005,
     "end_time": "2020-11-04T22:16:36.229289",
     "exception": false,
     "start_time": "2020-11-04T22:16:36.219239",
     "status": "completed"
    },
    "tags": []
   },
   "source": [
    "## Figure 2: Rolling 7-day average of daily new cases."
   ]
  },
  {
   "cell_type": "code",
   "execution_count": 8,
   "metadata": {
    "execution": {
     "iopub.execute_input": "2020-11-04T22:16:36.254741Z",
     "iopub.status.busy": "2020-11-04T22:16:36.254133Z",
     "iopub.status.idle": "2020-11-04T22:16:36.485609Z",
     "shell.execute_reply": "2020-11-04T22:16:36.486057Z"
    },
    "jupyter": {
     "source_hidden": true
    },
    "papermill": {
     "duration": 0.247137,
     "end_time": "2020-11-04T22:16:36.486223",
     "exception": false,
     "start_time": "2020-11-04T22:16:36.239086",
     "status": "completed"
    },
    "tags": []
   },
   "outputs": [
    {
     "data": {
      "image/png": "[encoded data removed]",
      "text/plain": [
       "<Figure size 864x432 with 1 Axes>"
      ]
     },
     "metadata": {
      "needs_background": "light"
     },
     "output_type": "display_data"
    }
   ],
   "source": [
    "dc.plot(kind='line',x='DATE',y='14_DAY',color='green',grid='True',figsize=(12,6)).set_xlabel('Date');"
   ]
  },
  {
   "cell_type": "markdown",
   "metadata": {
    "papermill": {
     "duration": 0.010852,
     "end_time": "2020-11-04T22:16:36.507976",
     "exception": false,
     "start_time": "2020-11-04T22:16:36.497124",
     "status": "completed"
    },
    "tags": []
   },
   "source": [
    "## Figure 3: Rolling 14-day average of daily new cases."
   ]
  },
  {
   "cell_type": "markdown",
   "metadata": {
    "papermill": {
     "duration": 0.010461,
     "end_time": "2020-11-04T22:16:36.529056",
     "exception": false,
     "start_time": "2020-11-04T22:16:36.518595",
     "status": "completed"
    },
    "tags": []
   },
   "source": [
    "Data source: [Wisconsin Department of Health Services](https://data.dhsgis.wi.gov/datasets/covid-19-historical-data-table/)"
   ]
  },
  {
   "cell_type": "code",
   "execution_count": 9,
   "metadata": {
    "execution": {
     "iopub.execute_input": "2020-11-04T22:16:36.555241Z",
     "iopub.status.busy": "2020-11-04T22:16:36.554670Z",
     "iopub.status.idle": "2020-11-04T22:16:36.557559Z",
     "shell.execute_reply": "2020-11-04T22:16:36.558005Z"
    },
    "jupyter": {
     "source_hidden": true
    },
    "papermill": {
     "duration": 0.018483,
     "end_time": "2020-11-04T22:16:36.558186",
     "exception": false,
     "start_time": "2020-11-04T22:16:36.539703",
     "status": "completed"
    },
    "tags": []
   },
   "outputs": [
    {
     "data": {
      "text/html": [
       "<style>\n",
       "div.input {\n",
       "    display:none;\n",
       "}\n",
       "</style>\n"
      ],
      "text/plain": [
       "<IPython.core.display.HTML object>"
      ]
     },
     "metadata": {},
     "output_type": "display_data"
    }
   ],
   "source": [
    "%%html\n",
    "<style>\n",
    "div.input {\n",
    "    display:none;\n",
    "}\n",
    "</style>"
   ]
  }
 ],
 "metadata": {
  "kernelspec": {
   "display_name": "Python 3",
   "language": "python",
   "name": "python3"
  },
  "language_info": {
   "codemirror_mode": {
    "name": "ipython",
    "version": 3
   },
   "file_extension": ".py",
   "mimetype": "text/x-python",
   "name": "python",
   "nbconvert_exporter": "python",
   "pygments_lexer": "ipython3",
   "version": "3.8.6"
  },
  "papermill": {
   "duration": 6.7065,
   "end_time": "2020-11-04T22:16:37.966027",
   "environment_variables": {},
   "exception": null,
   "input_path": "DunnCounty_COVID19.ipynb",
   "output_path": "DunnCounty_COVID19.ipynb",
   "parameters": {
    "Start": "True",
    "secretsPath": "/home/runner/work/_temp/secrets.json"
   },
   "start_time": "2020-11-04T22:16:31.259527",
   "version": "1.1.16"
  }
 },
 "nbformat": 4,
 "nbformat_minor": 2
}