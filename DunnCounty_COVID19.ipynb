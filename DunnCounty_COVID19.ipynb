{
 "cells": [
  {
   "cell_type": "code",
   "execution_count": 1,
   "id": "solar-understanding",
   "metadata": {
    "execution": {
     "iopub.execute_input": "2021-07-30T22:11:26.112296Z",
     "iopub.status.busy": "2021-07-30T22:11:26.111735Z",
     "iopub.status.idle": "2021-07-30T22:11:28.982246Z",
     "shell.execute_reply": "2021-07-30T22:11:28.981432Z"
    },
    "jupyter": {
     "source_hidden": true
    },
    "papermill": {
     "duration": 2.891285,
     "end_time": "2021-07-30T22:11:28.982463",
     "exception": false,
     "start_time": "2021-07-30T22:11:26.091178",
     "status": "completed"
    },
    "scrolled": true,
    "tags": [
     "hide-input"
    ]
   },
   "outputs": [],
   "source": [
    "import pandas as pd\n",
    "import matplotlib.pyplot as plt\n",
    "from matplotlib import dates\n",
    "from IPython.display import display, Markdown\n",
    "%matplotlib inline"
   ]
  },
  {
   "cell_type": "code",
   "execution_count": 2,
   "id": "purple-playlist",
   "metadata": {
    "execution": {
     "iopub.execute_input": "2021-07-30T22:11:29.009637Z",
     "iopub.status.busy": "2021-07-30T22:11:29.009071Z",
     "iopub.status.idle": "2021-07-30T22:11:30.473393Z",
     "shell.execute_reply": "2021-07-30T22:11:30.472671Z"
    },
    "jupyter": {
     "source_hidden": true
    },
    "papermill": {
     "duration": 1.480445,
     "end_time": "2021-07-30T22:11:30.473586",
     "exception": false,
     "start_time": "2021-07-30T22:11:28.993141",
     "status": "completed"
    },
    "scrolled": true,
    "tags": [
     "hide-input"
    ]
   },
   "outputs": [],
   "source": [
    "# This is the data for all of Wisconsin.\n",
    "url = \"https://opendata.arcgis.com/api/v3/datasets/3161f6e01d8141c6abe85a29ff7f3d3c_12/downloads/data?format=csv&spatialRefId=3857\"\n",
    "data = pd.read_csv(url, parse_dates=['DATE'], low_memory=False)"
   ]
  },
  {
   "cell_type": "code",
   "execution_count": 3,
   "id": "proprietary-klein",
   "metadata": {
    "execution": {
     "iopub.execute_input": "2021-07-30T22:11:30.501943Z",
     "iopub.status.busy": "2021-07-30T22:11:30.501362Z",
     "iopub.status.idle": "2021-07-30T22:11:30.511659Z",
     "shell.execute_reply": "2021-07-30T22:11:30.510053Z"
    },
    "jupyter": {
     "source_hidden": true
    },
    "papermill": {
     "duration": 0.027192,
     "end_time": "2021-07-30T22:11:30.511794",
     "exception": false,
     "start_time": "2021-07-30T22:11:30.484602",
     "status": "completed"
    },
    "scrolled": true,
    "tags": [
     "hide-input"
    ]
   },
   "outputs": [],
   "source": [
    "dc = data.groupby('NAME').get_group('Dunn').sort_values(by='DATE') # Select the data for Dunn County from the full data.\n",
    "PNi = dc.columns.get_loc(\"POS_NEW\")\n",
    "dc['7_DAY'] = dc.iloc[:,PNi].rolling(window=7).mean() # Calculates the rolling 7-day average of new cases.\n",
    "dc['14_DAY'] = dc.iloc[:,PNi].rolling(window=14).mean() # Calculates the rolling 14-day average of new cases."
   ]
  },
  {
   "cell_type": "code",
   "execution_count": 4,
   "id": "steady-supervision",
   "metadata": {
    "execution": {
     "iopub.execute_input": "2021-07-30T22:11:30.536647Z",
     "iopub.status.busy": "2021-07-30T22:11:30.536131Z",
     "iopub.status.idle": "2021-07-30T22:11:30.541210Z",
     "shell.execute_reply": "2021-07-30T22:11:30.541618Z"
    },
    "jupyter": {
     "source_hidden": true
    },
    "papermill": {
     "duration": 0.021294,
     "end_time": "2021-07-30T22:11:30.541794",
     "exception": false,
     "start_time": "2021-07-30T22:11:30.520500",
     "status": "completed"
    },
    "scrolled": true,
    "tags": [
     "hide-input"
    ]
   },
   "outputs": [
    {
     "data": {
      "text/markdown": [
       "### Last updated: July 30, 2021"
      ],
      "text/plain": [
       "<IPython.core.display.Markdown object>"
      ]
     },
     "metadata": {},
     "output_type": "display_data"
    }
   ],
   "source": [
    "display(Markdown('### Last updated: ' + dc.iloc[-1]['DATE'].strftime(\"%B %d, %Y\")))"
   ]
  },
  {
   "cell_type": "code",
   "execution_count": 5,
   "id": "lonely-pitch",
   "metadata": {
    "execution": {
     "iopub.execute_input": "2021-07-30T22:11:30.565776Z",
     "iopub.status.busy": "2021-07-30T22:11:30.565215Z",
     "iopub.status.idle": "2021-07-30T22:11:30.568051Z",
     "shell.execute_reply": "2021-07-30T22:11:30.567523Z"
    },
    "jupyter": {
     "source_hidden": true
    },
    "papermill": {
     "duration": 0.01704,
     "end_time": "2021-07-30T22:11:30.568164",
     "exception": false,
     "start_time": "2021-07-30T22:11:30.551124",
     "status": "completed"
    },
    "tags": [
     "hide-input"
    ]
   },
   "outputs": [
    {
     "data": {
      "text/markdown": [
       "# Dunn County has 4783 total positive cases, with 11 new cases reported today."
      ],
      "text/plain": [
       "<IPython.core.display.Markdown object>"
      ]
     },
     "metadata": {},
     "output_type": "display_data"
    }
   ],
   "source": [
    "display(Markdown('# Dunn County has ' + str(dc.iloc[-1]['POSITIVE']) + ' total positive cases, with '+ str(int(dc.iloc[-1]['POS_NEW'])) + ' new cases reported today.'))"
   ]
  },
  {
   "cell_type": "code",
   "execution_count": 6,
   "id": "compound-nightmare",
   "metadata": {
    "execution": {
     "iopub.execute_input": "2021-07-30T22:11:30.591351Z",
     "iopub.status.busy": "2021-07-30T22:11:30.590819Z",
     "iopub.status.idle": "2021-07-30T22:11:31.100732Z",
     "shell.execute_reply": "2021-07-30T22:11:31.100243Z"
    },
    "jupyter": {
     "source_hidden": true
    },
    "papermill": {
     "duration": 0.523252,
     "end_time": "2021-07-30T22:11:31.100867",
     "exception": false,
     "start_time": "2021-07-30T22:11:30.577615",
     "status": "completed"
    },
    "scrolled": false,
    "tags": [
     "hide-input"
    ]
   },
   "outputs": [
    {
     "data": {
      "image/png": "[encoded data removed]",
      "text/plain": [
       "<Figure size 864x432 with 1 Axes>"
      ]
     },
     "metadata": {
      "needs_background": "light"
     },
     "output_type": "display_data"
    }
   ],
   "source": [
    "dc.plot(x='DATE',y='POSITIVE',color='red',grid='True',figsize=(12,6)).set_xlabel('Date');"
   ]
  },
  {
   "cell_type": "markdown",
   "id": "coupled-literacy",
   "metadata": {
    "papermill": {
     "duration": 0.010766,
     "end_time": "2021-07-30T22:11:31.122736",
     "exception": false,
     "start_time": "2021-07-30T22:11:31.111970",
     "status": "completed"
    },
    "tags": []
   },
   "source": [
    "## Figure 1: Cummulative number of positive cases."
   ]
  },
  {
   "cell_type": "code",
   "execution_count": 7,
   "id": "surrounded-reserve",
   "metadata": {
    "execution": {
     "iopub.execute_input": "2021-07-30T22:11:31.148871Z",
     "iopub.status.busy": "2021-07-30T22:11:31.148338Z",
     "iopub.status.idle": "2021-07-30T22:11:31.388497Z",
     "shell.execute_reply": "2021-07-30T22:11:31.387997Z"
    },
    "jupyter": {
     "source_hidden": true
    },
    "papermill": {
     "duration": 0.253661,
     "end_time": "2021-07-30T22:11:31.388620",
     "exception": false,
     "start_time": "2021-07-30T22:11:31.134959",
     "status": "completed"
    },
    "scrolled": false,
    "tags": [
     "hide-input"
    ]
   },
   "outputs": [
    {
     "data": {
      "image/png": "[encoded data removed]",
      "text/plain": [
       "<Figure size 864x432 with 1 Axes>"
      ]
     },
     "metadata": {
      "needs_background": "light"
     },
     "output_type": "display_data"
    }
   ],
   "source": [
    "dc.plot(kind='line',x='DATE',y='7_DAY',color='blue',grid='True',figsize=(12,6)).set_xlabel('Date');"
   ]
  },
  {
   "cell_type": "markdown",
   "id": "professional-savannah",
   "metadata": {
    "papermill": {
     "duration": 0.011034,
     "end_time": "2021-07-30T22:11:31.411075",
     "exception": false,
     "start_time": "2021-07-30T22:11:31.400041",
     "status": "completed"
    },
    "tags": []
   },
   "source": [
    "## Figure 2: Rolling 7-day average of daily new cases."
   ]
  },
  {
   "cell_type": "code",
   "execution_count": 8,
   "id": "stretch-investor",
   "metadata": {
    "execution": {
     "iopub.execute_input": "2021-07-30T22:11:31.443541Z",
     "iopub.status.busy": "2021-07-30T22:11:31.442945Z",
     "iopub.status.idle": "2021-07-30T22:11:31.665894Z",
     "shell.execute_reply": "2021-07-30T22:11:31.665370Z"
    },
    "jupyter": {
     "source_hidden": true
    },
    "papermill": {
     "duration": 0.243718,
     "end_time": "2021-07-30T22:11:31.666028",
     "exception": false,
     "start_time": "2021-07-30T22:11:31.422310",
     "status": "completed"
    },
    "tags": []
   },
   "outputs": [
    {
     "data": {
      "image/png": "[encoded data removed]",
      "text/plain": [
       "<Figure size 864x432 with 1 Axes>"
      ]
     },
     "metadata": {
      "needs_background": "light"
     },
     "output_type": "display_data"
    }
   ],
   "source": [
    "dc.plot(kind='line',x='DATE',y='14_DAY',color='green',grid='True',figsize=(12,6)).set_xlabel('Date');"
   ]
  },
  {
   "cell_type": "markdown",
   "id": "prerequisite-species",
   "metadata": {
    "papermill": {
     "duration": 0.01364,
     "end_time": "2021-07-30T22:11:31.693273",
     "exception": false,
     "start_time": "2021-07-30T22:11:31.679633",
     "status": "completed"
    },
    "tags": []
   },
   "source": [
    "## Figure 3: Rolling 14-day average of daily new cases."
   ]
  },
  {
   "cell_type": "markdown",
   "id": "palestinian-guard",
   "metadata": {
    "papermill": {
     "duration": 0.012695,
     "end_time": "2021-07-30T22:11:31.718715",
     "exception": false,
     "start_time": "2021-07-30T22:11:31.706020",
     "status": "completed"
    },
    "tags": []
   },
   "source": [
    "Data source: [Wisconsin Department of Health Services](https://data.dhsgis.wi.gov/datasets/wi-dhs::covid-19-historical-data-by-county-1)"
   ]
  },
  {
   "cell_type": "code",
   "execution_count": 9,
   "id": "proof-medicare",
   "metadata": {
    "execution": {
     "iopub.execute_input": "2021-07-30T22:11:31.748517Z",
     "iopub.status.busy": "2021-07-30T22:11:31.747960Z",
     "iopub.status.idle": "2021-07-30T22:11:31.753153Z",
     "shell.execute_reply": "2021-07-30T22:11:31.753582Z"
    },
    "jupyter": {
     "source_hidden": true
    },
    "papermill": {
     "duration": 0.0221,
     "end_time": "2021-07-30T22:11:31.753762",
     "exception": false,
     "start_time": "2021-07-30T22:11:31.731662",
     "status": "completed"
    },
    "tags": []
   },
   "outputs": [
    {
     "data": {
      "text/html": [
       "<style>\n",
       "div.input {\n",
       "    display:none;\n",
       "}\n",
       "</style>\n"
      ],
      "text/plain": [
       "<IPython.core.display.HTML object>"
      ]
     },
     "metadata": {},
     "output_type": "display_data"
    }
   ],
   "source": [
    "%%html\n",
    "<style>\n",
    "div.input {\n",
    "    display:none;\n",
    "}\n",
    "</style>"
   ]
  }
 ],
 "metadata": {
  "kernelspec": {
   "display_name": "Python 3",
   "language": "python",
   "name": "python3"
  },
  "language_info": {
   "codemirror_mode": {
    "name": "ipython",
    "version": 3
   },
   "file_extension": ".py",
   "mimetype": "text/x-python",
   "name": "python",
   "nbconvert_exporter": "python",
   "pygments_lexer": "ipython3",
   "version": "3.8.11"
  },
  "papermill": {
   "duration": 7.778346,
   "end_time": "2021-07-30T22:11:32.076733",
   "environment_variables": {},
   "exception": null,
   "input_path": "DunnCounty_COVID19.ipynb",
   "output_path": "DunnCounty_COVID19.ipynb",
   "parameters": {
    "Start": "True",
    "secretsPath": "/home/runner/work/_temp/secrets.json"
   },
   "start_time": "2021-07-30T22:11:24.298387",
   "version": "1.1.16"
  }
 },
 "nbformat": 4,
 "nbformat_minor": 5
}