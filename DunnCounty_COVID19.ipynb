{
 "cells": [
  {
   "cell_type": "code",
   "execution_count": 1,
   "metadata": {
    "execution": {
     "iopub.execute_input": "2020-11-26T10:10:23.285918Z",
     "iopub.status.busy": "2020-11-26T10:10:23.285503Z",
     "iopub.status.idle": "2020-11-26T10:10:26.742558Z",
     "shell.execute_reply": "2020-11-26T10:10:26.741831Z"
    },
    "jupyter": {
     "source_hidden": true
    },
    "papermill": {
     "duration": 3.474471,
     "end_time": "2020-11-26T10:10:26.742748",
     "exception": false,
     "start_time": "2020-11-26T10:10:23.268277",
     "status": "completed"
    },
    "scrolled": true,
    "tags": [
     "hide-input"
    ]
   },
   "outputs": [],
   "source": [
    "import pandas as pd\n",
    "import matplotlib.pyplot as plt\n",
    "from matplotlib import dates\n",
    "from IPython.display import display, Markdown\n",
    "%matplotlib inline"
   ]
  },
  {
   "cell_type": "code",
   "execution_count": 2,
   "metadata": {
    "execution": {
     "iopub.execute_input": "2020-11-26T10:10:26.763871Z",
     "iopub.status.busy": "2020-11-26T10:10:26.763311Z",
     "iopub.status.idle": "2020-11-26T10:10:27.403873Z",
     "shell.execute_reply": "2020-11-26T10:10:27.402970Z"
    },
    "jupyter": {
     "source_hidden": true
    },
    "papermill": {
     "duration": 0.653866,
     "end_time": "2020-11-26T10:10:27.404092",
     "exception": false,
     "start_time": "2020-11-26T10:10:26.750226",
     "status": "completed"
    },
    "scrolled": true,
    "tags": [
     "hide-input"
    ]
   },
   "outputs": [],
   "source": [
    "# This is the data for all of Wisconsin.\n",
    "url = \"https://opendata.arcgis.com/datasets/5374188992374b318d3e2305216ee413_12.csv\"\n",
    "data = pd.read_csv(url, parse_dates=['DATE'], low_memory=False)"
   ]
  },
  {
   "cell_type": "code",
   "execution_count": 3,
   "metadata": {
    "execution": {
     "iopub.execute_input": "2020-11-26T10:10:27.426045Z",
     "iopub.status.busy": "2020-11-26T10:10:27.424477Z",
     "iopub.status.idle": "2020-11-26T10:10:27.433136Z",
     "shell.execute_reply": "2020-11-26T10:10:27.433574Z"
    },
    "jupyter": {
     "source_hidden": true
    },
    "papermill": {
     "duration": 0.021547,
     "end_time": "2020-11-26T10:10:27.433724",
     "exception": false,
     "start_time": "2020-11-26T10:10:27.412177",
     "status": "completed"
    },
    "scrolled": true,
    "tags": [
     "hide-input"
    ]
   },
   "outputs": [],
   "source": [
    "dc = data.groupby('NAME').get_group('Dunn').sort_values(by='DATE') # Select the data for Dunn County from the full data.\n",
    "PNi = dc.columns.get_loc(\"POS_NEW\")\n",
    "dc['7_DAY'] = dc.iloc[:,PNi].rolling(window=7).mean() # Calculates the rolling 7-day average of new cases.\n",
    "dc['14_DAY'] = dc.iloc[:,PNi].rolling(window=14).mean() # Calculates the rolling 14-day average of new cases."
   ]
  },
  {
   "cell_type": "code",
   "execution_count": 4,
   "metadata": {
    "execution": {
     "iopub.execute_input": "2020-11-26T10:10:27.453747Z",
     "iopub.status.busy": "2020-11-26T10:10:27.453057Z",
     "iopub.status.idle": "2020-11-26T10:10:27.456143Z",
     "shell.execute_reply": "2020-11-26T10:10:27.456574Z"
    },
    "jupyter": {
     "source_hidden": true
    },
    "papermill": {
     "duration": 0.015404,
     "end_time": "2020-11-26T10:10:27.456709",
     "exception": false,
     "start_time": "2020-11-26T10:10:27.441305",
     "status": "completed"
    },
    "scrolled": true,
    "tags": [
     "hide-input"
    ]
   },
   "outputs": [
    {
     "data": {
      "text/markdown": [
       "### Last updated: November 25, 2020"
      ],
      "text/plain": [
       "<IPython.core.display.Markdown object>"
      ]
     },
     "metadata": {},
     "output_type": "display_data"
    }
   ],
   "source": [
    "display(Markdown('### Last updated: ' + dc.iloc[-1]['DATE'].strftime(\"%B %d, %Y\")))"
   ]
  },
  {
   "cell_type": "code",
   "execution_count": 5,
   "metadata": {
    "execution": {
     "iopub.execute_input": "2020-11-26T10:10:27.475857Z",
     "iopub.status.busy": "2020-11-26T10:10:27.475315Z",
     "iopub.status.idle": "2020-11-26T10:10:27.478883Z",
     "shell.execute_reply": "2020-11-26T10:10:27.478393Z"
    },
    "jupyter": {
     "source_hidden": true
    },
    "papermill": {
     "duration": 0.015508,
     "end_time": "2020-11-26T10:10:27.479000",
     "exception": false,
     "start_time": "2020-11-26T10:10:27.463492",
     "status": "completed"
    },
    "tags": [
     "hide-input"
    ]
   },
   "outputs": [
    {
     "data": {
      "text/markdown": [
       "# Dunn County has 2651 total positive cases, with 157 new cases reported today."
      ],
      "text/plain": [
       "<IPython.core.display.Markdown object>"
      ]
     },
     "metadata": {},
     "output_type": "display_data"
    }
   ],
   "source": [
    "display(Markdown('# Dunn County has ' + str(dc.iloc[-1]['POSITIVE']) + ' total positive cases, with '+ str(int(dc.iloc[-1]['POS_NEW'])) + ' new cases reported today.'))"
   ]
  },
  {
   "cell_type": "code",
   "execution_count": 6,
   "metadata": {
    "execution": {
     "iopub.execute_input": "2020-11-26T10:10:27.497365Z",
     "iopub.status.busy": "2020-11-26T10:10:27.496855Z",
     "iopub.status.idle": "2020-11-26T10:10:27.702505Z",
     "shell.execute_reply": "2020-11-26T10:10:27.702943Z"
    },
    "jupyter": {
     "source_hidden": true
    },
    "papermill": {
     "duration": 0.216704,
     "end_time": "2020-11-26T10:10:27.703111",
     "exception": false,
     "start_time": "2020-11-26T10:10:27.486407",
     "status": "completed"
    },
    "scrolled": false,
    "tags": [
     "hide-input"
    ]
   },
   "outputs": [
    {
     "data": {
      "image/png": "[encoded data removed]",
      "text/plain": [
       "<Figure size 864x432 with 1 Axes>"
      ]
     },
     "metadata": {
      "needs_background": "light"
     },
     "output_type": "display_data"
    }
   ],
   "source": [
    "dc.plot(x='DATE',y='POSITIVE',color='red',grid='True',figsize=(12,6)).set_xlabel('Date');"
   ]
  },
  {
   "cell_type": "markdown",
   "metadata": {
    "papermill": {
     "duration": 0.008712,
     "end_time": "2020-11-26T10:10:27.719430",
     "exception": false,
     "start_time": "2020-11-26T10:10:27.710718",
     "status": "completed"
    },
    "tags": []
   },
   "source": [
    "## Figure 1: Cummulative number of positive cases."
   ]
  },
  {
   "cell_type": "code",
   "execution_count": 7,
   "metadata": {
    "execution": {
     "iopub.execute_input": "2020-11-26T10:10:27.744685Z",
     "iopub.status.busy": "2020-11-26T10:10:27.740882Z",
     "iopub.status.idle": "2020-11-26T10:10:27.947614Z",
     "shell.execute_reply": "2020-11-26T10:10:27.948037Z"
    },
    "jupyter": {
     "source_hidden": true
    },
    "papermill": {
     "duration": 0.220876,
     "end_time": "2020-11-26T10:10:27.948221",
     "exception": false,
     "start_time": "2020-11-26T10:10:27.727345",
     "status": "completed"
    },
    "scrolled": false,
    "tags": [
     "hide-input"
    ]
   },
   "outputs": [
    {
     "data": {
      "image/png": "[encoded data removed]",
      "text/plain": [
       "<Figure size 864x432 with 1 Axes>"
      ]
     },
     "metadata": {
      "needs_background": "light"
     },
     "output_type": "display_data"
    }
   ],
   "source": [
    "dc.plot(kind='line',x='DATE',y='7_DAY',color='blue',grid='True',figsize=(12,6)).set_xlabel('Date');"
   ]
  },
  {
   "cell_type": "markdown",
   "metadata": {
    "papermill": {
     "duration": 0.008305,
     "end_time": "2020-11-26T10:10:27.965941",
     "exception": false,
     "start_time": "2020-11-26T10:10:27.957636",
     "status": "completed"
    },
    "tags": []
   },
   "source": [
    "## Figure 2: Rolling 7-day average of daily new cases."
   ]
  },
  {
   "cell_type": "code",
   "execution_count": 8,
   "metadata": {
    "execution": {
     "iopub.execute_input": "2020-11-26T10:10:27.988129Z",
     "iopub.status.busy": "2020-11-26T10:10:27.987568Z",
     "iopub.status.idle": "2020-11-26T10:10:28.210229Z",
     "shell.execute_reply": "2020-11-26T10:10:28.209749Z"
    },
    "jupyter": {
     "source_hidden": true
    },
    "papermill": {
     "duration": 0.235186,
     "end_time": "2020-11-26T10:10:28.210386",
     "exception": false,
     "start_time": "2020-11-26T10:10:27.975200",
     "status": "completed"
    },
    "tags": []
   },
   "outputs": [
    {
     "data": {
      "image/png": "[encoded data removed]",
      "text/plain": [
       "<Figure size 864x432 with 1 Axes>"
      ]
     },
     "metadata": {
      "needs_background": "light"
     },
     "output_type": "display_data"
    }
   ],
   "source": [
    "dc.plot(kind='line',x='DATE',y='14_DAY',color='green',grid='True',figsize=(12,6)).set_xlabel('Date');"
   ]
  },
  {
   "cell_type": "markdown",
   "metadata": {
    "papermill": {
     "duration": 0.010661,
     "end_time": "2020-11-26T10:10:28.232015",
     "exception": false,
     "start_time": "2020-11-26T10:10:28.221354",
     "status": "completed"
    },
    "tags": []
   },
   "source": [
    "## Figure 3: Rolling 14-day average of daily new cases."
   ]
  },
  {
   "cell_type": "markdown",
   "metadata": {
    "papermill": {
     "duration": 0.010314,
     "end_time": "2020-11-26T10:10:28.252940",
     "exception": false,
     "start_time": "2020-11-26T10:10:28.242626",
     "status": "completed"
    },
    "tags": []
   },
   "source": [
    "Data source: [Wisconsin Department of Health Services](https://data.dhsgis.wi.gov/datasets/covid-19-historical-data-table/)"
   ]
  },
  {
   "cell_type": "code",
   "execution_count": 9,
   "metadata": {
    "execution": {
     "iopub.execute_input": "2020-11-26T10:10:28.280950Z",
     "iopub.status.busy": "2020-11-26T10:10:28.280179Z",
     "iopub.status.idle": "2020-11-26T10:10:28.282549Z",
     "shell.execute_reply": "2020-11-26T10:10:28.283010Z"
    },
    "jupyter": {
     "source_hidden": true
    },
    "papermill": {
     "duration": 0.01985,
     "end_time": "2020-11-26T10:10:28.283160",
     "exception": false,
     "start_time": "2020-11-26T10:10:28.263310",
     "status": "completed"
    },
    "tags": []
   },
   "outputs": [
    {
     "data": {
      "text/html": [
       "<style>\n",
       "div.input {\n",
       "    display:none;\n",
       "}\n",
       "</style>\n"
      ],
      "text/plain": [
       "<IPython.core.display.HTML object>"
      ]
     },
     "metadata": {},
     "output_type": "display_data"
    }
   ],
   "source": [
    "%%html\n",
    "<style>\n",
    "div.input {\n",
    "    display:none;\n",
    "}\n",
    "</style>"
   ]
  }
 ],
 "metadata": {
  "kernelspec": {
   "display_name": "Python 3",
   "language": "python",
   "name": "python3"
  },
  "language_info": {
   "codemirror_mode": {
    "name": "ipython",
    "version": 3
   },
   "file_extension": ".py",
   "mimetype": "text/x-python",
   "name": "python",
   "nbconvert_exporter": "python",
   "pygments_lexer": "ipython3",
   "version": "3.8.6"
  },
  "papermill": {
   "duration": 8.027397,
   "end_time": "2020-11-26T10:10:29.506805",
   "environment_variables": {},
   "exception": null,
   "input_path": "DunnCounty_COVID19.ipynb",
   "output_path": "DunnCounty_COVID19.ipynb",
   "parameters": {
    "Start": "True",
    "secretsPath": "/home/runner/work/_temp/secrets.json"
   },
   "start_time": "2020-11-26T10:10:21.479408",
   "version": "1.1.16"
  }
 },
 "nbformat": 4,
 "nbformat_minor": 2
}