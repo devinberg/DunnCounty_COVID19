{
 "cells": [
  {
   "cell_type": "code",
   "execution_count": 1,
   "id": "solar-understanding",
   "metadata": {
    "execution": {
     "iopub.execute_input": "2021-05-13T22:16:38.377587Z",
     "iopub.status.busy": "2021-05-13T22:16:38.377089Z",
     "iopub.status.idle": "2021-05-13T22:16:39.430096Z",
     "shell.execute_reply": "2021-05-13T22:16:39.429541Z"
    },
    "jupyter": {
     "source_hidden": true
    },
    "papermill": {
     "duration": 1.069667,
     "end_time": "2021-05-13T22:16:39.430235",
     "exception": false,
     "start_time": "2021-05-13T22:16:38.360568",
     "status": "completed"
    },
    "scrolled": true,
    "tags": [
     "hide-input"
    ]
   },
   "outputs": [],
   "source": [
    "import pandas as pd\n",
    "import matplotlib.pyplot as plt\n",
    "from matplotlib import dates\n",
    "from IPython.display import display, Markdown\n",
    "%matplotlib inline"
   ]
  },
  {
   "cell_type": "code",
   "execution_count": 2,
   "id": "purple-playlist",
   "metadata": {
    "execution": {
     "iopub.execute_input": "2021-05-13T22:16:39.451632Z",
     "iopub.status.busy": "2021-05-13T22:16:39.451178Z",
     "iopub.status.idle": "2021-05-13T22:16:40.206977Z",
     "shell.execute_reply": "2021-05-13T22:16:40.207392Z"
    },
    "jupyter": {
     "source_hidden": true
    },
    "papermill": {
     "duration": 0.768283,
     "end_time": "2021-05-13T22:16:40.207548",
     "exception": false,
     "start_time": "2021-05-13T22:16:39.439265",
     "status": "completed"
    },
    "scrolled": true,
    "tags": [
     "hide-input"
    ]
   },
   "outputs": [],
   "source": [
    "# This is the data for all of Wisconsin.\n",
    "url = \"https://opendata.arcgis.com/datasets/80ff9d4897db4d7692f0f4ad28447cab_12.csv\"\n",
    "data = pd.read_csv(url, parse_dates=['DATE'], low_memory=False)"
   ]
  },
  {
   "cell_type": "code",
   "execution_count": 3,
   "id": "proprietary-klein",
   "metadata": {
    "execution": {
     "iopub.execute_input": "2021-05-13T22:16:40.229346Z",
     "iopub.status.busy": "2021-05-13T22:16:40.228871Z",
     "iopub.status.idle": "2021-05-13T22:16:40.235930Z",
     "shell.execute_reply": "2021-05-13T22:16:40.236277Z"
    },
    "jupyter": {
     "source_hidden": true
    },
    "papermill": {
     "duration": 0.020432,
     "end_time": "2021-05-13T22:16:40.236401",
     "exception": false,
     "start_time": "2021-05-13T22:16:40.215969",
     "status": "completed"
    },
    "scrolled": true,
    "tags": [
     "hide-input"
    ]
   },
   "outputs": [],
   "source": [
    "dc = data.groupby('NAME').get_group('Dunn').sort_values(by='DATE') # Select the data for Dunn County from the full data.\n",
    "PNi = dc.columns.get_loc(\"POS_NEW\")\n",
    "dc['7_DAY'] = dc.iloc[:,PNi].rolling(window=7).mean() # Calculates the rolling 7-day average of new cases.\n",
    "dc['14_DAY'] = dc.iloc[:,PNi].rolling(window=14).mean() # Calculates the rolling 14-day average of new cases."
   ]
  },
  {
   "cell_type": "code",
   "execution_count": 4,
   "id": "steady-supervision",
   "metadata": {
    "execution": {
     "iopub.execute_input": "2021-05-13T22:16:40.257768Z",
     "iopub.status.busy": "2021-05-13T22:16:40.257233Z",
     "iopub.status.idle": "2021-05-13T22:16:40.259678Z",
     "shell.execute_reply": "2021-05-13T22:16:40.259263Z"
    },
    "jupyter": {
     "source_hidden": true
    },
    "papermill": {
     "duration": 0.015858,
     "end_time": "2021-05-13T22:16:40.259785",
     "exception": false,
     "start_time": "2021-05-13T22:16:40.243927",
     "status": "completed"
    },
    "scrolled": true,
    "tags": [
     "hide-input"
    ]
   },
   "outputs": [
    {
     "data": {
      "text/markdown": [
       "### Last updated: May 12, 2021"
      ],
      "text/plain": [
       "<IPython.core.display.Markdown object>"
      ]
     },
     "metadata": {},
     "output_type": "display_data"
    }
   ],
   "source": [
    "display(Markdown('### Last updated: ' + dc.iloc[-1]['DATE'].strftime(\"%B %d, %Y\")))"
   ]
  },
  {
   "cell_type": "code",
   "execution_count": 5,
   "id": "lonely-pitch",
   "metadata": {
    "execution": {
     "iopub.execute_input": "2021-05-13T22:16:40.280198Z",
     "iopub.status.busy": "2021-05-13T22:16:40.279694Z",
     "iopub.status.idle": "2021-05-13T22:16:40.282128Z",
     "shell.execute_reply": "2021-05-13T22:16:40.281685Z"
    },
    "jupyter": {
     "source_hidden": true
    },
    "papermill": {
     "duration": 0.014383,
     "end_time": "2021-05-13T22:16:40.282218",
     "exception": false,
     "start_time": "2021-05-13T22:16:40.267835",
     "status": "completed"
    },
    "tags": [
     "hide-input"
    ]
   },
   "outputs": [
    {
     "data": {
      "text/markdown": [
       "# Dunn County has 4658 total positive cases, with 6 new cases reported today."
      ],
      "text/plain": [
       "<IPython.core.display.Markdown object>"
      ]
     },
     "metadata": {},
     "output_type": "display_data"
    }
   ],
   "source": [
    "display(Markdown('# Dunn County has ' + str(dc.iloc[-1]['POSITIVE']) + ' total positive cases, with '+ str(int(dc.iloc[-1]['POS_NEW'])) + ' new cases reported today.'))"
   ]
  },
  {
   "cell_type": "code",
   "execution_count": 6,
   "id": "compound-nightmare",
   "metadata": {
    "execution": {
     "iopub.execute_input": "2021-05-13T22:16:40.301776Z",
     "iopub.status.busy": "2021-05-13T22:16:40.301330Z",
     "iopub.status.idle": "2021-05-13T22:16:40.541147Z",
     "shell.execute_reply": "2021-05-13T22:16:40.541579Z"
    },
    "jupyter": {
     "source_hidden": true
    },
    "papermill": {
     "duration": 0.251329,
     "end_time": "2021-05-13T22:16:40.541728",
     "exception": false,
     "start_time": "2021-05-13T22:16:40.290399",
     "status": "completed"
    },
    "scrolled": false,
    "tags": [
     "hide-input"
    ]
   },
   "outputs": [
    {
     "data": {
      "image/png": "[encoded data removed]",
      "text/plain": [
       "<Figure size 864x432 with 1 Axes>"
      ]
     },
     "metadata": {
      "needs_background": "light"
     },
     "output_type": "display_data"
    }
   ],
   "source": [
    "dc.plot(x='DATE',y='POSITIVE',color='red',grid='True',figsize=(12,6)).set_xlabel('Date');"
   ]
  },
  {
   "cell_type": "markdown",
   "id": "coupled-literacy",
   "metadata": {
    "papermill": {
     "duration": 0.009275,
     "end_time": "2021-05-13T22:16:40.560575",
     "exception": false,
     "start_time": "2021-05-13T22:16:40.551300",
     "status": "completed"
    },
    "tags": []
   },
   "source": [
    "## Figure 1: Cummulative number of positive cases."
   ]
  },
  {
   "cell_type": "code",
   "execution_count": 7,
   "id": "surrounded-reserve",
   "metadata": {
    "execution": {
     "iopub.execute_input": "2021-05-13T22:16:40.582204Z",
     "iopub.status.busy": "2021-05-13T22:16:40.581738Z",
     "iopub.status.idle": "2021-05-13T22:16:40.769132Z",
     "shell.execute_reply": "2021-05-13T22:16:40.768723Z"
    },
    "jupyter": {
     "source_hidden": true
    },
    "papermill": {
     "duration": 0.199691,
     "end_time": "2021-05-13T22:16:40.769244",
     "exception": false,
     "start_time": "2021-05-13T22:16:40.569553",
     "status": "completed"
    },
    "scrolled": false,
    "tags": [
     "hide-input"
    ]
   },
   "outputs": [
    {
     "data": {
      "image/png": "[encoded data removed]",
      "text/plain": [
       "<Figure size 864x432 with 1 Axes>"
      ]
     },
     "metadata": {
      "needs_background": "light"
     },
     "output_type": "display_data"
    }
   ],
   "source": [
    "dc.plot(kind='line',x='DATE',y='7_DAY',color='blue',grid='True',figsize=(12,6)).set_xlabel('Date');"
   ]
  },
  {
   "cell_type": "markdown",
   "id": "professional-savannah",
   "metadata": {
    "papermill": {
     "duration": 0.010181,
     "end_time": "2021-05-13T22:16:40.789589",
     "exception": false,
     "start_time": "2021-05-13T22:16:40.779408",
     "status": "completed"
    },
    "tags": []
   },
   "source": [
    "## Figure 2: Rolling 7-day average of daily new cases."
   ]
  },
  {
   "cell_type": "code",
   "execution_count": 8,
   "id": "stretch-investor",
   "metadata": {
    "execution": {
     "iopub.execute_input": "2021-05-13T22:16:40.813365Z",
     "iopub.status.busy": "2021-05-13T22:16:40.812880Z",
     "iopub.status.idle": "2021-05-13T22:16:40.999066Z",
     "shell.execute_reply": "2021-05-13T22:16:40.999483Z"
    },
    "jupyter": {
     "source_hidden": true
    },
    "papermill": {
     "duration": 0.200255,
     "end_time": "2021-05-13T22:16:40.999630",
     "exception": false,
     "start_time": "2021-05-13T22:16:40.799375",
     "status": "completed"
    },
    "tags": []
   },
   "outputs": [
    {
     "data": {
      "image/png": "[encoded data removed]",
      "text/plain": [
       "<Figure size 864x432 with 1 Axes>"
      ]
     },
     "metadata": {
      "needs_background": "light"
     },
     "output_type": "display_data"
    }
   ],
   "source": [
    "dc.plot(kind='line',x='DATE',y='14_DAY',color='green',grid='True',figsize=(12,6)).set_xlabel('Date');"
   ]
  },
  {
   "cell_type": "markdown",
   "id": "prerequisite-species",
   "metadata": {
    "papermill": {
     "duration": 0.011154,
     "end_time": "2021-05-13T22:16:41.022031",
     "exception": false,
     "start_time": "2021-05-13T22:16:41.010877",
     "status": "completed"
    },
    "tags": []
   },
   "source": [
    "## Figure 3: Rolling 14-day average of daily new cases."
   ]
  },
  {
   "cell_type": "markdown",
   "id": "palestinian-guard",
   "metadata": {
    "papermill": {
     "duration": 0.010615,
     "end_time": "2021-05-13T22:16:41.043296",
     "exception": false,
     "start_time": "2021-05-13T22:16:41.032681",
     "status": "completed"
    },
    "tags": []
   },
   "source": [
    "Data source: [Wisconsin Department of Health Services](https://data.dhsgis.wi.gov/datasets/covid-19-historical-data-by-county)"
   ]
  },
  {
   "cell_type": "code",
   "execution_count": 9,
   "id": "proof-medicare",
   "metadata": {
    "execution": {
     "iopub.execute_input": "2021-05-13T22:16:41.069189Z",
     "iopub.status.busy": "2021-05-13T22:16:41.068644Z",
     "iopub.status.idle": "2021-05-13T22:16:41.070888Z",
     "shell.execute_reply": "2021-05-13T22:16:41.071322Z"
    },
    "jupyter": {
     "source_hidden": true
    },
    "papermill": {
     "duration": 0.017436,
     "end_time": "2021-05-13T22:16:41.071452",
     "exception": false,
     "start_time": "2021-05-13T22:16:41.054016",
     "status": "completed"
    },
    "tags": []
   },
   "outputs": [
    {
     "data": {
      "text/html": [
       "<style>\n",
       "div.input {\n",
       "    display:none;\n",
       "}\n",
       "</style>\n"
      ],
      "text/plain": [
       "<IPython.core.display.HTML object>"
      ]
     },
     "metadata": {},
     "output_type": "display_data"
    }
   ],
   "source": [
    "%%html\n",
    "<style>\n",
    "div.input {\n",
    "    display:none;\n",
    "}\n",
    "</style>"
   ]
  }
 ],
 "metadata": {
  "kernelspec": {
   "display_name": "Python 3",
   "language": "python",
   "name": "python3"
  },
  "language_info": {
   "codemirror_mode": {
    "name": "ipython",
    "version": 3
   },
   "file_extension": ".py",
   "mimetype": "text/x-python",
   "name": "python",
   "nbconvert_exporter": "python",
   "pygments_lexer": "ipython3",
   "version": "3.8.10"
  },
  "papermill": {
   "duration": 4.133445,
   "end_time": "2021-05-13T22:16:41.388002",
   "environment_variables": {},
   "exception": null,
   "input_path": "DunnCounty_COVID19.ipynb",
   "output_path": "DunnCounty_COVID19.ipynb",
   "parameters": {
    "Start": "True",
    "secretsPath": "/home/runner/work/_temp/secrets.json"
   },
   "start_time": "2021-05-13T22:16:37.254557",
   "version": "1.1.16"
  }
 },
 "nbformat": 4,
 "nbformat_minor": 5
}