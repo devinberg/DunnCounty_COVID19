{
 "cells": [
  {
   "cell_type": "code",
   "execution_count": 1,
   "id": "solar-understanding",
   "metadata": {
    "execution": {
     "iopub.execute_input": "2021-03-11T10:12:53.228004Z",
     "iopub.status.busy": "2021-03-11T10:12:53.227452Z",
     "iopub.status.idle": "2021-03-11T10:12:54.096515Z",
     "shell.execute_reply": "2021-03-11T10:12:54.095354Z"
    },
    "jupyter": {
     "source_hidden": true
    },
    "papermill": {
     "duration": 0.8901,
     "end_time": "2021-03-11T10:12:54.096671",
     "exception": false,
     "start_time": "2021-03-11T10:12:53.206571",
     "status": "completed"
    },
    "scrolled": true,
    "tags": [
     "hide-input"
    ]
   },
   "outputs": [],
   "source": [
    "import pandas as pd\n",
    "import matplotlib.pyplot as plt\n",
    "from matplotlib import dates\n",
    "from IPython.display import display, Markdown\n",
    "%matplotlib inline"
   ]
  },
  {
   "cell_type": "code",
   "execution_count": 2,
   "id": "purple-playlist",
   "metadata": {
    "execution": {
     "iopub.execute_input": "2021-03-11T10:12:54.122353Z",
     "iopub.status.busy": "2021-03-11T10:12:54.121767Z",
     "iopub.status.idle": "2021-03-11T10:12:54.839560Z",
     "shell.execute_reply": "2021-03-11T10:12:54.838743Z"
    },
    "jupyter": {
     "source_hidden": true
    },
    "papermill": {
     "duration": 0.732864,
     "end_time": "2021-03-11T10:12:54.839767",
     "exception": false,
     "start_time": "2021-03-11T10:12:54.106903",
     "status": "completed"
    },
    "scrolled": true,
    "tags": [
     "hide-input"
    ]
   },
   "outputs": [],
   "source": [
    "# This is the data for all of Wisconsin.\n",
    "url = \"https://opendata.arcgis.com/datasets/5374188992374b318d3e2305216ee413_12.csv\"\n",
    "data = pd.read_csv(url, parse_dates=['DATE'], low_memory=False)"
   ]
  },
  {
   "cell_type": "code",
   "execution_count": 3,
   "id": "proprietary-klein",
   "metadata": {
    "execution": {
     "iopub.execute_input": "2021-03-11T10:12:54.866280Z",
     "iopub.status.busy": "2021-03-11T10:12:54.865688Z",
     "iopub.status.idle": "2021-03-11T10:12:54.873694Z",
     "shell.execute_reply": "2021-03-11T10:12:54.874143Z"
    },
    "jupyter": {
     "source_hidden": true
    },
    "papermill": {
     "duration": 0.025537,
     "end_time": "2021-03-11T10:12:54.874300",
     "exception": false,
     "start_time": "2021-03-11T10:12:54.848763",
     "status": "completed"
    },
    "scrolled": true,
    "tags": [
     "hide-input"
    ]
   },
   "outputs": [],
   "source": [
    "dc = data.groupby('NAME').get_group('Dunn').sort_values(by='DATE') # Select the data for Dunn County from the full data.\n",
    "PNi = dc.columns.get_loc(\"POS_NEW\")\n",
    "dc['7_DAY'] = dc.iloc[:,PNi].rolling(window=7).mean() # Calculates the rolling 7-day average of new cases.\n",
    "dc['14_DAY'] = dc.iloc[:,PNi].rolling(window=14).mean() # Calculates the rolling 14-day average of new cases."
   ]
  },
  {
   "cell_type": "code",
   "execution_count": 4,
   "id": "steady-supervision",
   "metadata": {
    "execution": {
     "iopub.execute_input": "2021-03-11T10:12:54.901011Z",
     "iopub.status.busy": "2021-03-11T10:12:54.900335Z",
     "iopub.status.idle": "2021-03-11T10:12:54.906784Z",
     "shell.execute_reply": "2021-03-11T10:12:54.906308Z"
    },
    "jupyter": {
     "source_hidden": true
    },
    "papermill": {
     "duration": 0.023545,
     "end_time": "2021-03-11T10:12:54.906900",
     "exception": false,
     "start_time": "2021-03-11T10:12:54.883355",
     "status": "completed"
    },
    "scrolled": true,
    "tags": [
     "hide-input"
    ]
   },
   "outputs": [
    {
     "data": {
      "text/markdown": [
       "### Last updated: March 10, 2021"
      ],
      "text/plain": [
       "<IPython.core.display.Markdown object>"
      ]
     },
     "metadata": {},
     "output_type": "display_data"
    }
   ],
   "source": [
    "display(Markdown('### Last updated: ' + dc.iloc[-1]['DATE'].strftime(\"%B %d, %Y\")))"
   ]
  },
  {
   "cell_type": "code",
   "execution_count": 5,
   "id": "lonely-pitch",
   "metadata": {
    "execution": {
     "iopub.execute_input": "2021-03-11T10:12:54.930645Z",
     "iopub.status.busy": "2021-03-11T10:12:54.930099Z",
     "iopub.status.idle": "2021-03-11T10:12:54.933202Z",
     "shell.execute_reply": "2021-03-11T10:12:54.932761Z"
    },
    "jupyter": {
     "source_hidden": true
    },
    "papermill": {
     "duration": 0.017118,
     "end_time": "2021-03-11T10:12:54.933319",
     "exception": false,
     "start_time": "2021-03-11T10:12:54.916201",
     "status": "completed"
    },
    "tags": [
     "hide-input"
    ]
   },
   "outputs": [
    {
     "data": {
      "text/markdown": [
       "# Dunn County has 4286 total positive cases, with 2 new cases reported today."
      ],
      "text/plain": [
       "<IPython.core.display.Markdown object>"
      ]
     },
     "metadata": {},
     "output_type": "display_data"
    }
   ],
   "source": [
    "display(Markdown('# Dunn County has ' + str(dc.iloc[-1]['POSITIVE']) + ' total positive cases, with '+ str(int(dc.iloc[-1]['POS_NEW'])) + ' new cases reported today.'))"
   ]
  },
  {
   "cell_type": "code",
   "execution_count": 6,
   "id": "compound-nightmare",
   "metadata": {
    "execution": {
     "iopub.execute_input": "2021-03-11T10:12:54.957120Z",
     "iopub.status.busy": "2021-03-11T10:12:54.956580Z",
     "iopub.status.idle": "2021-03-11T10:12:55.232130Z",
     "shell.execute_reply": "2021-03-11T10:12:55.232559Z"
    },
    "jupyter": {
     "source_hidden": true
    },
    "papermill": {
     "duration": 0.289834,
     "end_time": "2021-03-11T10:12:55.232713",
     "exception": false,
     "start_time": "2021-03-11T10:12:54.942879",
     "status": "completed"
    },
    "scrolled": false,
    "tags": [
     "hide-input"
    ]
   },
   "outputs": [
    {
     "data": {
      "image/png": "[encoded data removed]",
      "text/plain": [
       "<Figure size 864x432 with 1 Axes>"
      ]
     },
     "metadata": {
      "needs_background": "light"
     },
     "output_type": "display_data"
    }
   ],
   "source": [
    "dc.plot(x='DATE',y='POSITIVE',color='red',grid='True',figsize=(12,6)).set_xlabel('Date');"
   ]
  },
  {
   "cell_type": "markdown",
   "id": "coupled-literacy",
   "metadata": {
    "papermill": {
     "duration": 0.010796,
     "end_time": "2021-03-11T10:12:55.254066",
     "exception": false,
     "start_time": "2021-03-11T10:12:55.243270",
     "status": "completed"
    },
    "tags": []
   },
   "source": [
    "## Figure 1: Cummulative number of positive cases."
   ]
  },
  {
   "cell_type": "code",
   "execution_count": 7,
   "id": "surrounded-reserve",
   "metadata": {
    "execution": {
     "iopub.execute_input": "2021-03-11T10:12:55.279926Z",
     "iopub.status.busy": "2021-03-11T10:12:55.278921Z",
     "iopub.status.idle": "2021-03-11T10:12:55.483227Z",
     "shell.execute_reply": "2021-03-11T10:12:55.483661Z"
    },
    "jupyter": {
     "source_hidden": true
    },
    "papermill": {
     "duration": 0.219278,
     "end_time": "2021-03-11T10:12:55.483812",
     "exception": false,
     "start_time": "2021-03-11T10:12:55.264534",
     "status": "completed"
    },
    "scrolled": false,
    "tags": [
     "hide-input"
    ]
   },
   "outputs": [
    {
     "data": {
      "image/png": "[encoded data removed]",
      "text/plain": [
       "<Figure size 864x432 with 1 Axes>"
      ]
     },
     "metadata": {
      "needs_background": "light"
     },
     "output_type": "display_data"
    }
   ],
   "source": [
    "dc.plot(kind='line',x='DATE',y='7_DAY',color='blue',grid='True',figsize=(12,6)).set_xlabel('Date');"
   ]
  },
  {
   "cell_type": "markdown",
   "id": "professional-savannah",
   "metadata": {
    "papermill": {
     "duration": 0.012008,
     "end_time": "2021-03-11T10:12:55.507651",
     "exception": false,
     "start_time": "2021-03-11T10:12:55.495643",
     "status": "completed"
    },
    "tags": []
   },
   "source": [
    "## Figure 2: Rolling 7-day average of daily new cases."
   ]
  },
  {
   "cell_type": "code",
   "execution_count": 8,
   "id": "stretch-investor",
   "metadata": {
    "execution": {
     "iopub.execute_input": "2021-03-11T10:12:55.535243Z",
     "iopub.status.busy": "2021-03-11T10:12:55.534706Z",
     "iopub.status.idle": "2021-03-11T10:12:55.731928Z",
     "shell.execute_reply": "2021-03-11T10:12:55.731438Z"
    },
    "jupyter": {
     "source_hidden": true
    },
    "papermill": {
     "duration": 0.212887,
     "end_time": "2021-03-11T10:12:55.732045",
     "exception": false,
     "start_time": "2021-03-11T10:12:55.519158",
     "status": "completed"
    },
    "tags": []
   },
   "outputs": [
    {
     "data": {
      "image/png": "[encoded data removed]",
      "text/plain": [
       "<Figure size 864x432 with 1 Axes>"
      ]
     },
     "metadata": {
      "needs_background": "light"
     },
     "output_type": "display_data"
    }
   ],
   "source": [
    "dc.plot(kind='line',x='DATE',y='14_DAY',color='green',grid='True',figsize=(12,6)).set_xlabel('Date');"
   ]
  },
  {
   "cell_type": "markdown",
   "id": "prerequisite-species",
   "metadata": {
    "papermill": {
     "duration": 0.012964,
     "end_time": "2021-03-11T10:12:55.757713",
     "exception": false,
     "start_time": "2021-03-11T10:12:55.744749",
     "status": "completed"
    },
    "tags": []
   },
   "source": [
    "## Figure 3: Rolling 14-day average of daily new cases."
   ]
  },
  {
   "cell_type": "markdown",
   "id": "palestinian-guard",
   "metadata": {
    "papermill": {
     "duration": 0.012424,
     "end_time": "2021-03-11T10:12:55.782822",
     "exception": false,
     "start_time": "2021-03-11T10:12:55.770398",
     "status": "completed"
    },
    "tags": []
   },
   "source": [
    "Data source: [Wisconsin Department of Health Services](https://data.dhsgis.wi.gov/datasets/covid-19-historical-data-table/)"
   ]
  },
  {
   "cell_type": "code",
   "execution_count": 9,
   "id": "proof-medicare",
   "metadata": {
    "execution": {
     "iopub.execute_input": "2021-03-11T10:12:55.812398Z",
     "iopub.status.busy": "2021-03-11T10:12:55.811844Z",
     "iopub.status.idle": "2021-03-11T10:12:55.814153Z",
     "shell.execute_reply": "2021-03-11T10:12:55.814614Z"
    },
    "jupyter": {
     "source_hidden": true
    },
    "papermill": {
     "duration": 0.019382,
     "end_time": "2021-03-11T10:12:55.814756",
     "exception": false,
     "start_time": "2021-03-11T10:12:55.795374",
     "status": "completed"
    },
    "tags": []
   },
   "outputs": [
    {
     "data": {
      "text/html": [
       "<style>\n",
       "div.input {\n",
       "    display:none;\n",
       "}\n",
       "</style>\n"
      ],
      "text/plain": [
       "<IPython.core.display.HTML object>"
      ]
     },
     "metadata": {},
     "output_type": "display_data"
    }
   ],
   "source": [
    "%%html\n",
    "<style>\n",
    "div.input {\n",
    "    display:none;\n",
    "}\n",
    "</style>"
   ]
  }
 ],
 "metadata": {
  "kernelspec": {
   "display_name": "Python 3",
   "language": "python",
   "name": "python3"
  },
  "language_info": {
   "codemirror_mode": {
    "name": "ipython",
    "version": 3
   },
   "file_extension": ".py",
   "mimetype": "text/x-python",
   "name": "python",
   "nbconvert_exporter": "python",
   "pygments_lexer": "ipython3",
   "version": "3.8.8"
  },
  "papermill": {
   "duration": 4.289052,
   "end_time": "2021-03-11T10:12:56.133795",
   "environment_variables": {},
   "exception": null,
   "input_path": "DunnCounty_COVID19.ipynb",
   "output_path": "DunnCounty_COVID19.ipynb",
   "parameters": {
    "Start": "True",
    "secretsPath": "/home/runner/work/_temp/secrets.json"
   },
   "start_time": "2021-03-11T10:12:51.844743",
   "version": "1.1.16"
  }
 },
 "nbformat": 4,
 "nbformat_minor": 5
}