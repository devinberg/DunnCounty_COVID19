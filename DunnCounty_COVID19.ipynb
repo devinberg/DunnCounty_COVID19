{
 "cells": [
  {
   "cell_type": "code",
   "execution_count": 1,
   "metadata": {
    "execution": {
     "iopub.execute_input": "2021-01-03T22:18:39.661571Z",
     "iopub.status.busy": "2021-01-03T22:18:39.661046Z",
     "iopub.status.idle": "2021-01-03T22:18:43.309754Z",
     "shell.execute_reply": "2021-01-03T22:18:43.309116Z"
    },
    "jupyter": {
     "source_hidden": true
    },
    "papermill": {
     "duration": 3.667214,
     "end_time": "2021-01-03T22:18:43.309946",
     "exception": false,
     "start_time": "2021-01-03T22:18:39.642732",
     "status": "completed"
    },
    "scrolled": true,
    "tags": [
     "hide-input"
    ]
   },
   "outputs": [],
   "source": [
    "import pandas as pd\n",
    "import matplotlib.pyplot as plt\n",
    "from matplotlib import dates\n",
    "from IPython.display import display, Markdown\n",
    "%matplotlib inline"
   ]
  },
  {
   "cell_type": "code",
   "execution_count": 2,
   "metadata": {
    "execution": {
     "iopub.execute_input": "2021-01-03T22:18:43.326929Z",
     "iopub.status.busy": "2021-01-03T22:18:43.326532Z",
     "iopub.status.idle": "2021-01-03T22:18:44.276933Z",
     "shell.execute_reply": "2021-01-03T22:18:44.276356Z"
    },
    "jupyter": {
     "source_hidden": true
    },
    "papermill": {
     "duration": 0.960438,
     "end_time": "2021-01-03T22:18:44.277055",
     "exception": false,
     "start_time": "2021-01-03T22:18:43.316617",
     "status": "completed"
    },
    "scrolled": true,
    "tags": [
     "hide-input"
    ]
   },
   "outputs": [],
   "source": [
    "# This is the data for all of Wisconsin.\n",
    "url = \"https://opendata.arcgis.com/datasets/5374188992374b318d3e2305216ee413_12.csv\"\n",
    "data = pd.read_csv(url, parse_dates=['DATE'], low_memory=False)"
   ]
  },
  {
   "cell_type": "code",
   "execution_count": 3,
   "metadata": {
    "execution": {
     "iopub.execute_input": "2021-01-03T22:18:44.294014Z",
     "iopub.status.busy": "2021-01-03T22:18:44.293621Z",
     "iopub.status.idle": "2021-01-03T22:18:44.300031Z",
     "shell.execute_reply": "2021-01-03T22:18:44.299709Z"
    },
    "jupyter": {
     "source_hidden": true
    },
    "papermill": {
     "duration": 0.016476,
     "end_time": "2021-01-03T22:18:44.300118",
     "exception": false,
     "start_time": "2021-01-03T22:18:44.283642",
     "status": "completed"
    },
    "scrolled": true,
    "tags": [
     "hide-input"
    ]
   },
   "outputs": [],
   "source": [
    "dc = data.groupby('NAME').get_group('Dunn').sort_values(by='DATE') # Select the data for Dunn County from the full data.\n",
    "PNi = dc.columns.get_loc(\"POS_NEW\")\n",
    "dc['7_DAY'] = dc.iloc[:,PNi].rolling(window=7).mean() # Calculates the rolling 7-day average of new cases.\n",
    "dc['14_DAY'] = dc.iloc[:,PNi].rolling(window=14).mean() # Calculates the rolling 14-day average of new cases."
   ]
  },
  {
   "cell_type": "code",
   "execution_count": 4,
   "metadata": {
    "execution": {
     "iopub.execute_input": "2021-01-03T22:18:44.315170Z",
     "iopub.status.busy": "2021-01-03T22:18:44.314790Z",
     "iopub.status.idle": "2021-01-03T22:18:44.318189Z",
     "shell.execute_reply": "2021-01-03T22:18:44.318495Z"
    },
    "jupyter": {
     "source_hidden": true
    },
    "papermill": {
     "duration": 0.013712,
     "end_time": "2021-01-03T22:18:44.318587",
     "exception": false,
     "start_time": "2021-01-03T22:18:44.304875",
     "status": "completed"
    },
    "scrolled": true,
    "tags": [
     "hide-input"
    ]
   },
   "outputs": [
    {
     "data": {
      "text/markdown": [
       "### Last updated: January 03, 2021"
      ],
      "text/plain": [
       "<IPython.core.display.Markdown object>"
      ]
     },
     "metadata": {},
     "output_type": "display_data"
    }
   ],
   "source": [
    "display(Markdown('### Last updated: ' + dc.iloc[-1]['DATE'].strftime(\"%B %d, %Y\")))"
   ]
  },
  {
   "cell_type": "code",
   "execution_count": 5,
   "metadata": {
    "execution": {
     "iopub.execute_input": "2021-01-03T22:18:44.333583Z",
     "iopub.status.busy": "2021-01-03T22:18:44.333052Z",
     "iopub.status.idle": "2021-01-03T22:18:44.335722Z",
     "shell.execute_reply": "2021-01-03T22:18:44.335415Z"
    },
    "jupyter": {
     "source_hidden": true
    },
    "papermill": {
     "duration": 0.012051,
     "end_time": "2021-01-03T22:18:44.335802",
     "exception": false,
     "start_time": "2021-01-03T22:18:44.323751",
     "status": "completed"
    },
    "tags": [
     "hide-input"
    ]
   },
   "outputs": [
    {
     "data": {
      "text/markdown": [
       "# Dunn County has 3571 total positive cases, with 25 new cases reported today."
      ],
      "text/plain": [
       "<IPython.core.display.Markdown object>"
      ]
     },
     "metadata": {},
     "output_type": "display_data"
    }
   ],
   "source": [
    "display(Markdown('# Dunn County has ' + str(dc.iloc[-1]['POSITIVE']) + ' total positive cases, with '+ str(int(dc.iloc[-1]['POS_NEW'])) + ' new cases reported today.'))"
   ]
  },
  {
   "cell_type": "code",
   "execution_count": 6,
   "metadata": {
    "execution": {
     "iopub.execute_input": "2021-01-03T22:18:44.350267Z",
     "iopub.status.busy": "2021-01-03T22:18:44.349890Z",
     "iopub.status.idle": "2021-01-03T22:18:44.531162Z",
     "shell.execute_reply": "2021-01-03T22:18:44.531576Z"
    },
    "jupyter": {
     "source_hidden": true
    },
    "papermill": {
     "duration": 0.190415,
     "end_time": "2021-01-03T22:18:44.531700",
     "exception": false,
     "start_time": "2021-01-03T22:18:44.341285",
     "status": "completed"
    },
    "scrolled": false,
    "tags": [
     "hide-input"
    ]
   },
   "outputs": [
    {
     "data": {
      "image/png": "[encoded data removed]",
      "text/plain": [
       "<Figure size 864x432 with 1 Axes>"
      ]
     },
     "metadata": {
      "needs_background": "light"
     },
     "output_type": "display_data"
    }
   ],
   "source": [
    "dc.plot(x='DATE',y='POSITIVE',color='red',grid='True',figsize=(12,6)).set_xlabel('Date');"
   ]
  },
  {
   "cell_type": "markdown",
   "metadata": {
    "papermill": {
     "duration": 0.008148,
     "end_time": "2021-01-03T22:18:44.547727",
     "exception": false,
     "start_time": "2021-01-03T22:18:44.539579",
     "status": "completed"
    },
    "tags": []
   },
   "source": [
    "## Figure 1: Cummulative number of positive cases."
   ]
  },
  {
   "cell_type": "code",
   "execution_count": 7,
   "metadata": {
    "execution": {
     "iopub.execute_input": "2021-01-03T22:18:44.586342Z",
     "iopub.status.busy": "2021-01-03T22:18:44.567160Z",
     "iopub.status.idle": "2021-01-03T22:18:44.756072Z",
     "shell.execute_reply": "2021-01-03T22:18:44.756374Z"
    },
    "jupyter": {
     "source_hidden": true
    },
    "papermill": {
     "duration": 0.201496,
     "end_time": "2021-01-03T22:18:44.756502",
     "exception": false,
     "start_time": "2021-01-03T22:18:44.555006",
     "status": "completed"
    },
    "scrolled": false,
    "tags": [
     "hide-input"
    ]
   },
   "outputs": [
    {
     "data": {
      "image/png": "[encoded data removed]",
      "text/plain": [
       "<Figure size 864x432 with 1 Axes>"
      ]
     },
     "metadata": {
      "needs_background": "light"
     },
     "output_type": "display_data"
    }
   ],
   "source": [
    "dc.plot(kind='line',x='DATE',y='7_DAY',color='blue',grid='True',figsize=(12,6)).set_xlabel('Date');"
   ]
  },
  {
   "cell_type": "markdown",
   "metadata": {
    "papermill": {
     "duration": 0.007488,
     "end_time": "2021-01-03T22:18:44.771009",
     "exception": false,
     "start_time": "2021-01-03T22:18:44.763521",
     "status": "completed"
    },
    "tags": []
   },
   "source": [
    "## Figure 2: Rolling 7-day average of daily new cases."
   ]
  },
  {
   "cell_type": "code",
   "execution_count": 8,
   "metadata": {
    "execution": {
     "iopub.execute_input": "2021-01-03T22:18:44.789457Z",
     "iopub.status.busy": "2021-01-03T22:18:44.789033Z",
     "iopub.status.idle": "2021-01-03T22:18:44.970634Z",
     "shell.execute_reply": "2021-01-03T22:18:44.970089Z"
    },
    "jupyter": {
     "source_hidden": true
    },
    "papermill": {
     "duration": 0.192727,
     "end_time": "2021-01-03T22:18:44.970786",
     "exception": false,
     "start_time": "2021-01-03T22:18:44.778059",
     "status": "completed"
    },
    "tags": []
   },
   "outputs": [
    {
     "data": {
      "image/png": "[encoded data removed]",
      "text/plain": [
       "<Figure size 864x432 with 1 Axes>"
      ]
     },
     "metadata": {
      "needs_background": "light"
     },
     "output_type": "display_data"
    }
   ],
   "source": [
    "dc.plot(kind='line',x='DATE',y='14_DAY',color='green',grid='True',figsize=(12,6)).set_xlabel('Date');"
   ]
  },
  {
   "cell_type": "markdown",
   "metadata": {
    "papermill": {
     "duration": 0.00942,
     "end_time": "2021-01-03T22:18:44.991090",
     "exception": false,
     "start_time": "2021-01-03T22:18:44.981670",
     "status": "completed"
    },
    "tags": []
   },
   "source": [
    "## Figure 3: Rolling 14-day average of daily new cases."
   ]
  },
  {
   "cell_type": "markdown",
   "metadata": {
    "papermill": {
     "duration": 0.008837,
     "end_time": "2021-01-03T22:18:45.008191",
     "exception": false,
     "start_time": "2021-01-03T22:18:44.999354",
     "status": "completed"
    },
    "tags": []
   },
   "source": [
    "Data source: [Wisconsin Department of Health Services](https://data.dhsgis.wi.gov/datasets/covid-19-historical-data-table/)"
   ]
  },
  {
   "cell_type": "code",
   "execution_count": 9,
   "metadata": {
    "execution": {
     "iopub.execute_input": "2021-01-03T22:18:45.033130Z",
     "iopub.status.busy": "2021-01-03T22:18:45.031977Z",
     "iopub.status.idle": "2021-01-03T22:18:45.036369Z",
     "shell.execute_reply": "2021-01-03T22:18:45.035560Z"
    },
    "jupyter": {
     "source_hidden": true
    },
    "papermill": {
     "duration": 0.019523,
     "end_time": "2021-01-03T22:18:45.036498",
     "exception": false,
     "start_time": "2021-01-03T22:18:45.016975",
     "status": "completed"
    },
    "tags": []
   },
   "outputs": [
    {
     "data": {
      "text/html": [
       "<style>\n",
       "div.input {\n",
       "    display:none;\n",
       "}\n",
       "</style>\n"
      ],
      "text/plain": [
       "<IPython.core.display.HTML object>"
      ]
     },
     "metadata": {},
     "output_type": "display_data"
    }
   ],
   "source": [
    "%%html\n",
    "<style>\n",
    "div.input {\n",
    "    display:none;\n",
    "}\n",
    "</style>"
   ]
  }
 ],
 "metadata": {
  "kernelspec": {
   "display_name": "Python 3",
   "language": "python",
   "name": "python3"
  },
  "language_info": {
   "codemirror_mode": {
    "name": "ipython",
    "version": 3
   },
   "file_extension": ".py",
   "mimetype": "text/x-python",
   "name": "python",
   "nbconvert_exporter": "python",
   "pygments_lexer": "ipython3",
   "version": "3.8.6"
  },
  "papermill": {
   "duration": 7.425157,
   "end_time": "2021-01-03T22:18:45.352095",
   "environment_variables": {},
   "exception": null,
   "input_path": "DunnCounty_COVID19.ipynb",
   "output_path": "DunnCounty_COVID19.ipynb",
   "parameters": {
    "Start": "True",
    "secretsPath": "/home/runner/work/_temp/secrets.json"
   },
   "start_time": "2021-01-03T22:18:37.926938",
   "version": "1.1.16"
  }
 },
 "nbformat": 4,
 "nbformat_minor": 2
}