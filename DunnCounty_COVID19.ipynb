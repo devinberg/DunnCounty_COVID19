{
 "cells": [
  {
   "cell_type": "code",
   "execution_count": 1,
   "id": "solar-understanding",
   "metadata": {
    "execution": {
     "iopub.execute_input": "2021-02-12T10:11:46.504908Z",
     "iopub.status.busy": "2021-02-12T10:11:46.504374Z",
     "iopub.status.idle": "2021-02-12T10:11:47.309345Z",
     "shell.execute_reply": "2021-02-12T10:11:47.308386Z"
    },
    "jupyter": {
     "source_hidden": true
    },
    "papermill": {
     "duration": 0.829169,
     "end_time": "2021-02-12T10:11:47.309587",
     "exception": false,
     "start_time": "2021-02-12T10:11:46.480418",
     "status": "completed"
    },
    "scrolled": true,
    "tags": [
     "hide-input"
    ]
   },
   "outputs": [],
   "source": [
    "import pandas as pd\n",
    "import matplotlib.pyplot as plt\n",
    "from matplotlib import dates\n",
    "from IPython.display import display, Markdown\n",
    "%matplotlib inline"
   ]
  },
  {
   "cell_type": "code",
   "execution_count": 2,
   "id": "purple-playlist",
   "metadata": {
    "execution": {
     "iopub.execute_input": "2021-02-12T10:11:47.330878Z",
     "iopub.status.busy": "2021-02-12T10:11:47.330359Z",
     "iopub.status.idle": "2021-02-12T10:11:48.239175Z",
     "shell.execute_reply": "2021-02-12T10:11:48.238272Z"
    },
    "jupyter": {
     "source_hidden": true
    },
    "papermill": {
     "duration": 0.922473,
     "end_time": "2021-02-12T10:11:48.239394",
     "exception": false,
     "start_time": "2021-02-12T10:11:47.316921",
     "status": "completed"
    },
    "scrolled": true,
    "tags": [
     "hide-input"
    ]
   },
   "outputs": [],
   "source": [
    "# This is the data for all of Wisconsin.\n",
    "url = \"https://opendata.arcgis.com/datasets/5374188992374b318d3e2305216ee413_12.csv\"\n",
    "data = pd.read_csv(url, parse_dates=['DATE'], low_memory=False)"
   ]
  },
  {
   "cell_type": "code",
   "execution_count": 3,
   "id": "proprietary-klein",
   "metadata": {
    "execution": {
     "iopub.execute_input": "2021-02-12T10:11:48.262745Z",
     "iopub.status.busy": "2021-02-12T10:11:48.262153Z",
     "iopub.status.idle": "2021-02-12T10:11:48.269955Z",
     "shell.execute_reply": "2021-02-12T10:11:48.269506Z"
    },
    "jupyter": {
     "source_hidden": true
    },
    "papermill": {
     "duration": 0.021184,
     "end_time": "2021-02-12T10:11:48.270055",
     "exception": false,
     "start_time": "2021-02-12T10:11:48.248871",
     "status": "completed"
    },
    "scrolled": true,
    "tags": [
     "hide-input"
    ]
   },
   "outputs": [],
   "source": [
    "dc = data.groupby('NAME').get_group('Dunn').sort_values(by='DATE') # Select the data for Dunn County from the full data.\n",
    "PNi = dc.columns.get_loc(\"POS_NEW\")\n",
    "dc['7_DAY'] = dc.iloc[:,PNi].rolling(window=7).mean() # Calculates the rolling 7-day average of new cases.\n",
    "dc['14_DAY'] = dc.iloc[:,PNi].rolling(window=14).mean() # Calculates the rolling 14-day average of new cases."
   ]
  },
  {
   "cell_type": "code",
   "execution_count": 4,
   "id": "steady-supervision",
   "metadata": {
    "execution": {
     "iopub.execute_input": "2021-02-12T10:11:48.290138Z",
     "iopub.status.busy": "2021-02-12T10:11:48.289632Z",
     "iopub.status.idle": "2021-02-12T10:11:48.294114Z",
     "shell.execute_reply": "2021-02-12T10:11:48.294470Z"
    },
    "jupyter": {
     "source_hidden": true
    },
    "papermill": {
     "duration": 0.016638,
     "end_time": "2021-02-12T10:11:48.294586",
     "exception": false,
     "start_time": "2021-02-12T10:11:48.277948",
     "status": "completed"
    },
    "scrolled": true,
    "tags": [
     "hide-input"
    ]
   },
   "outputs": [
    {
     "data": {
      "text/markdown": [
       "### Last updated: February 11, 2021"
      ],
      "text/plain": [
       "<IPython.core.display.Markdown object>"
      ]
     },
     "metadata": {},
     "output_type": "display_data"
    }
   ],
   "source": [
    "display(Markdown('### Last updated: ' + dc.iloc[-1]['DATE'].strftime(\"%B %d, %Y\")))"
   ]
  },
  {
   "cell_type": "code",
   "execution_count": 5,
   "id": "lonely-pitch",
   "metadata": {
    "execution": {
     "iopub.execute_input": "2021-02-12T10:11:48.313336Z",
     "iopub.status.busy": "2021-02-12T10:11:48.312596Z",
     "iopub.status.idle": "2021-02-12T10:11:48.315380Z",
     "shell.execute_reply": "2021-02-12T10:11:48.314946Z"
    },
    "jupyter": {
     "source_hidden": true
    },
    "papermill": {
     "duration": 0.014041,
     "end_time": "2021-02-12T10:11:48.315477",
     "exception": false,
     "start_time": "2021-02-12T10:11:48.301436",
     "status": "completed"
    },
    "tags": [
     "hide-input"
    ]
   },
   "outputs": [
    {
     "data": {
      "text/markdown": [
       "# Dunn County has 4156 total positive cases, with 4 new cases reported today."
      ],
      "text/plain": [
       "<IPython.core.display.Markdown object>"
      ]
     },
     "metadata": {},
     "output_type": "display_data"
    }
   ],
   "source": [
    "display(Markdown('# Dunn County has ' + str(dc.iloc[-1]['POSITIVE']) + ' total positive cases, with '+ str(int(dc.iloc[-1]['POS_NEW'])) + ' new cases reported today.'))"
   ]
  },
  {
   "cell_type": "code",
   "execution_count": 6,
   "id": "compound-nightmare",
   "metadata": {
    "execution": {
     "iopub.execute_input": "2021-02-12T10:11:48.335474Z",
     "iopub.status.busy": "2021-02-12T10:11:48.335046Z",
     "iopub.status.idle": "2021-02-12T10:11:48.546658Z",
     "shell.execute_reply": "2021-02-12T10:11:48.547018Z"
    },
    "jupyter": {
     "source_hidden": true
    },
    "papermill": {
     "duration": 0.223845,
     "end_time": "2021-02-12T10:11:48.547152",
     "exception": false,
     "start_time": "2021-02-12T10:11:48.323307",
     "status": "completed"
    },
    "scrolled": false,
    "tags": [
     "hide-input"
    ]
   },
   "outputs": [
    {
     "data": {
      "image/png": "[encoded data removed]",
      "text/plain": [
       "<Figure size 864x432 with 1 Axes>"
      ]
     },
     "metadata": {
      "needs_background": "light"
     },
     "output_type": "display_data"
    }
   ],
   "source": [
    "dc.plot(x='DATE',y='POSITIVE',color='red',grid='True',figsize=(12,6)).set_xlabel('Date');"
   ]
  },
  {
   "cell_type": "markdown",
   "id": "coupled-literacy",
   "metadata": {
    "papermill": {
     "duration": 0.010427,
     "end_time": "2021-02-12T10:11:48.567603",
     "exception": false,
     "start_time": "2021-02-12T10:11:48.557176",
     "status": "completed"
    },
    "tags": []
   },
   "source": [
    "## Figure 1: Cummulative number of positive cases."
   ]
  },
  {
   "cell_type": "code",
   "execution_count": 7,
   "id": "surrounded-reserve",
   "metadata": {
    "execution": {
     "iopub.execute_input": "2021-02-12T10:11:48.591426Z",
     "iopub.status.busy": "2021-02-12T10:11:48.590922Z",
     "iopub.status.idle": "2021-02-12T10:11:48.792186Z",
     "shell.execute_reply": "2021-02-12T10:11:48.791673Z"
    },
    "jupyter": {
     "source_hidden": true
    },
    "papermill": {
     "duration": 0.215019,
     "end_time": "2021-02-12T10:11:48.792312",
     "exception": false,
     "start_time": "2021-02-12T10:11:48.577293",
     "status": "completed"
    },
    "scrolled": false,
    "tags": [
     "hide-input"
    ]
   },
   "outputs": [
    {
     "data": {
      "image/png": "[encoded data removed]",
      "text/plain": [
       "<Figure size 864x432 with 1 Axes>"
      ]
     },
     "metadata": {
      "needs_background": "light"
     },
     "output_type": "display_data"
    }
   ],
   "source": [
    "dc.plot(kind='line',x='DATE',y='7_DAY',color='blue',grid='True',figsize=(12,6)).set_xlabel('Date');"
   ]
  },
  {
   "cell_type": "markdown",
   "id": "professional-savannah",
   "metadata": {
    "papermill": {
     "duration": 0.009969,
     "end_time": "2021-02-12T10:11:48.811538",
     "exception": false,
     "start_time": "2021-02-12T10:11:48.801569",
     "status": "completed"
    },
    "tags": []
   },
   "source": [
    "## Figure 2: Rolling 7-day average of daily new cases."
   ]
  },
  {
   "cell_type": "code",
   "execution_count": 8,
   "id": "stretch-investor",
   "metadata": {
    "execution": {
     "iopub.execute_input": "2021-02-12T10:11:48.855181Z",
     "iopub.status.busy": "2021-02-12T10:11:48.839522Z",
     "iopub.status.idle": "2021-02-12T10:11:49.053535Z",
     "shell.execute_reply": "2021-02-12T10:11:49.053962Z"
    },
    "jupyter": {
     "source_hidden": true
    },
    "papermill": {
     "duration": 0.232899,
     "end_time": "2021-02-12T10:11:49.054127",
     "exception": false,
     "start_time": "2021-02-12T10:11:48.821228",
     "status": "completed"
    },
    "tags": []
   },
   "outputs": [
    {
     "data": {
      "image/png": "[encoded data removed]",
      "text/plain": [
       "<Figure size 864x432 with 1 Axes>"
      ]
     },
     "metadata": {
      "needs_background": "light"
     },
     "output_type": "display_data"
    }
   ],
   "source": [
    "dc.plot(kind='line',x='DATE',y='14_DAY',color='green',grid='True',figsize=(12,6)).set_xlabel('Date');"
   ]
  },
  {
   "cell_type": "markdown",
   "id": "prerequisite-species",
   "metadata": {
    "papermill": {
     "duration": 0.012068,
     "end_time": "2021-02-12T10:11:49.078475",
     "exception": false,
     "start_time": "2021-02-12T10:11:49.066407",
     "status": "completed"
    },
    "tags": []
   },
   "source": [
    "## Figure 3: Rolling 14-day average of daily new cases."
   ]
  },
  {
   "cell_type": "markdown",
   "id": "palestinian-guard",
   "metadata": {
    "papermill": {
     "duration": 0.011725,
     "end_time": "2021-02-12T10:11:49.102301",
     "exception": false,
     "start_time": "2021-02-12T10:11:49.090576",
     "status": "completed"
    },
    "tags": []
   },
   "source": [
    "Data source: [Wisconsin Department of Health Services](https://data.dhsgis.wi.gov/datasets/covid-19-historical-data-table/)"
   ]
  },
  {
   "cell_type": "code",
   "execution_count": 9,
   "id": "proof-medicare",
   "metadata": {
    "execution": {
     "iopub.execute_input": "2021-02-12T10:11:49.131949Z",
     "iopub.status.busy": "2021-02-12T10:11:49.131443Z",
     "iopub.status.idle": "2021-02-12T10:11:49.134949Z",
     "shell.execute_reply": "2021-02-12T10:11:49.135405Z"
    },
    "jupyter": {
     "source_hidden": true
    },
    "papermill": {
     "duration": 0.021243,
     "end_time": "2021-02-12T10:11:49.135546",
     "exception": false,
     "start_time": "2021-02-12T10:11:49.114303",
     "status": "completed"
    },
    "tags": []
   },
   "outputs": [
    {
     "data": {
      "text/html": [
       "<style>\n",
       "div.input {\n",
       "    display:none;\n",
       "}\n",
       "</style>\n"
      ],
      "text/plain": [
       "<IPython.core.display.HTML object>"
      ]
     },
     "metadata": {},
     "output_type": "display_data"
    }
   ],
   "source": [
    "%%html\n",
    "<style>\n",
    "div.input {\n",
    "    display:none;\n",
    "}\n",
    "</style>"
   ]
  }
 ],
 "metadata": {
  "kernelspec": {
   "display_name": "Python 3",
   "language": "python",
   "name": "python3"
  },
  "language_info": {
   "codemirror_mode": {
    "name": "ipython",
    "version": 3
   },
   "file_extension": ".py",
   "mimetype": "text/x-python",
   "name": "python",
   "nbconvert_exporter": "python",
   "pygments_lexer": "ipython3",
   "version": "3.8.7"
  },
  "papermill": {
   "duration": 4.43764,
   "end_time": "2021-02-12T10:11:49.454184",
   "environment_variables": {},
   "exception": null,
   "input_path": "DunnCounty_COVID19.ipynb",
   "output_path": "DunnCounty_COVID19.ipynb",
   "parameters": {
    "Start": "True",
    "secretsPath": "/home/runner/work/_temp/secrets.json"
   },
   "start_time": "2021-02-12T10:11:45.016544",
   "version": "1.1.16"
  }
 },
 "nbformat": 4,
 "nbformat_minor": 5
}