{
 "cells": [
  {
   "cell_type": "code",
   "execution_count": 1,
   "id": "solar-understanding",
   "metadata": {
    "execution": {
     "iopub.execute_input": "2021-05-20T22:15:46.029932Z",
     "iopub.status.busy": "2021-05-20T22:15:46.025240Z",
     "iopub.status.idle": "2021-05-20T22:15:46.882458Z",
     "shell.execute_reply": "2021-05-20T22:15:46.883023Z"
    },
    "jupyter": {
     "source_hidden": true
    },
    "papermill": {
     "duration": 0.87667,
     "end_time": "2021-05-20T22:15:46.883330",
     "exception": false,
     "start_time": "2021-05-20T22:15:46.006660",
     "status": "completed"
    },
    "scrolled": true,
    "tags": [
     "hide-input"
    ]
   },
   "outputs": [],
   "source": [
    "import pandas as pd\n",
    "import matplotlib.pyplot as plt\n",
    "from matplotlib import dates\n",
    "from IPython.display import display, Markdown\n",
    "%matplotlib inline"
   ]
  },
  {
   "cell_type": "code",
   "execution_count": 2,
   "id": "purple-playlist",
   "metadata": {
    "execution": {
     "iopub.execute_input": "2021-05-20T22:15:46.908890Z",
     "iopub.status.busy": "2021-05-20T22:15:46.908351Z",
     "iopub.status.idle": "2021-05-20T22:15:47.689398Z",
     "shell.execute_reply": "2021-05-20T22:15:47.688534Z"
    },
    "jupyter": {
     "source_hidden": true
    },
    "papermill": {
     "duration": 0.79556,
     "end_time": "2021-05-20T22:15:47.689615",
     "exception": false,
     "start_time": "2021-05-20T22:15:46.894055",
     "status": "completed"
    },
    "scrolled": true,
    "tags": [
     "hide-input"
    ]
   },
   "outputs": [],
   "source": [
    "# This is the data for all of Wisconsin.\n",
    "url = \"https://opendata.arcgis.com/datasets/80ff9d4897db4d7692f0f4ad28447cab_12.csv\"\n",
    "data = pd.read_csv(url, parse_dates=['DATE'], low_memory=False)"
   ]
  },
  {
   "cell_type": "code",
   "execution_count": 3,
   "id": "proprietary-klein",
   "metadata": {
    "execution": {
     "iopub.execute_input": "2021-05-20T22:15:47.714671Z",
     "iopub.status.busy": "2021-05-20T22:15:47.714114Z",
     "iopub.status.idle": "2021-05-20T22:15:47.722812Z",
     "shell.execute_reply": "2021-05-20T22:15:47.722320Z"
    },
    "jupyter": {
     "source_hidden": true
    },
    "papermill": {
     "duration": 0.023472,
     "end_time": "2021-05-20T22:15:47.722926",
     "exception": false,
     "start_time": "2021-05-20T22:15:47.699454",
     "status": "completed"
    },
    "scrolled": true,
    "tags": [
     "hide-input"
    ]
   },
   "outputs": [],
   "source": [
    "dc = data.groupby('NAME').get_group('Dunn').sort_values(by='DATE') # Select the data for Dunn County from the full data.\n",
    "PNi = dc.columns.get_loc(\"POS_NEW\")\n",
    "dc['7_DAY'] = dc.iloc[:,PNi].rolling(window=7).mean() # Calculates the rolling 7-day average of new cases.\n",
    "dc['14_DAY'] = dc.iloc[:,PNi].rolling(window=14).mean() # Calculates the rolling 14-day average of new cases."
   ]
  },
  {
   "cell_type": "code",
   "execution_count": 4,
   "id": "steady-supervision",
   "metadata": {
    "execution": {
     "iopub.execute_input": "2021-05-20T22:15:47.745700Z",
     "iopub.status.busy": "2021-05-20T22:15:47.745157Z",
     "iopub.status.idle": "2021-05-20T22:15:47.748527Z",
     "shell.execute_reply": "2021-05-20T22:15:47.748104Z"
    },
    "jupyter": {
     "source_hidden": true
    },
    "papermill": {
     "duration": 0.017349,
     "end_time": "2021-05-20T22:15:47.748629",
     "exception": false,
     "start_time": "2021-05-20T22:15:47.731280",
     "status": "completed"
    },
    "scrolled": true,
    "tags": [
     "hide-input"
    ]
   },
   "outputs": [
    {
     "data": {
      "text/markdown": [
       "### Last updated: May 19, 2021"
      ],
      "text/plain": [
       "<IPython.core.display.Markdown object>"
      ]
     },
     "metadata": {},
     "output_type": "display_data"
    }
   ],
   "source": [
    "display(Markdown('### Last updated: ' + dc.iloc[-1]['DATE'].strftime(\"%B %d, %Y\")))"
   ]
  },
  {
   "cell_type": "code",
   "execution_count": 5,
   "id": "lonely-pitch",
   "metadata": {
    "execution": {
     "iopub.execute_input": "2021-05-20T22:15:47.771172Z",
     "iopub.status.busy": "2021-05-20T22:15:47.770673Z",
     "iopub.status.idle": "2021-05-20T22:15:47.774742Z",
     "shell.execute_reply": "2021-05-20T22:15:47.774347Z"
    },
    "jupyter": {
     "source_hidden": true
    },
    "papermill": {
     "duration": 0.017821,
     "end_time": "2021-05-20T22:15:47.774842",
     "exception": false,
     "start_time": "2021-05-20T22:15:47.757021",
     "status": "completed"
    },
    "tags": [
     "hide-input"
    ]
   },
   "outputs": [
    {
     "data": {
      "text/markdown": [
       "# Dunn County has 4670 total positive cases, with 2 new cases reported today."
      ],
      "text/plain": [
       "<IPython.core.display.Markdown object>"
      ]
     },
     "metadata": {},
     "output_type": "display_data"
    }
   ],
   "source": [
    "display(Markdown('# Dunn County has ' + str(dc.iloc[-1]['POSITIVE']) + ' total positive cases, with '+ str(int(dc.iloc[-1]['POS_NEW'])) + ' new cases reported today.'))"
   ]
  },
  {
   "cell_type": "code",
   "execution_count": 6,
   "id": "compound-nightmare",
   "metadata": {
    "execution": {
     "iopub.execute_input": "2021-05-20T22:15:47.796175Z",
     "iopub.status.busy": "2021-05-20T22:15:47.795690Z",
     "iopub.status.idle": "2021-05-20T22:15:48.060247Z",
     "shell.execute_reply": "2021-05-20T22:15:48.059704Z"
    },
    "jupyter": {
     "source_hidden": true
    },
    "papermill": {
     "duration": 0.276739,
     "end_time": "2021-05-20T22:15:48.060367",
     "exception": false,
     "start_time": "2021-05-20T22:15:47.783628",
     "status": "completed"
    },
    "scrolled": false,
    "tags": [
     "hide-input"
    ]
   },
   "outputs": [
    {
     "data": {
      "image/png": "[encoded data removed]",
      "text/plain": [
       "<Figure size 864x432 with 1 Axes>"
      ]
     },
     "metadata": {
      "needs_background": "light"
     },
     "output_type": "display_data"
    }
   ],
   "source": [
    "dc.plot(x='DATE',y='POSITIVE',color='red',grid='True',figsize=(12,6)).set_xlabel('Date');"
   ]
  },
  {
   "cell_type": "markdown",
   "id": "coupled-literacy",
   "metadata": {
    "papermill": {
     "duration": 0.01015,
     "end_time": "2021-05-20T22:15:48.080656",
     "exception": false,
     "start_time": "2021-05-20T22:15:48.070506",
     "status": "completed"
    },
    "tags": []
   },
   "source": [
    "## Figure 1: Cummulative number of positive cases."
   ]
  },
  {
   "cell_type": "code",
   "execution_count": 7,
   "id": "surrounded-reserve",
   "metadata": {
    "execution": {
     "iopub.execute_input": "2021-05-20T22:15:48.105602Z",
     "iopub.status.busy": "2021-05-20T22:15:48.104914Z",
     "iopub.status.idle": "2021-05-20T22:15:48.316022Z",
     "shell.execute_reply": "2021-05-20T22:15:48.315469Z"
    },
    "jupyter": {
     "source_hidden": true
    },
    "papermill": {
     "duration": 0.22566,
     "end_time": "2021-05-20T22:15:48.316160",
     "exception": false,
     "start_time": "2021-05-20T22:15:48.090500",
     "status": "completed"
    },
    "scrolled": false,
    "tags": [
     "hide-input"
    ]
   },
   "outputs": [
    {
     "data": {
      "image/png": "[encoded data removed]",
      "text/plain": [
       "<Figure size 864x432 with 1 Axes>"
      ]
     },
     "metadata": {
      "needs_background": "light"
     },
     "output_type": "display_data"
    }
   ],
   "source": [
    "dc.plot(kind='line',x='DATE',y='7_DAY',color='blue',grid='True',figsize=(12,6)).set_xlabel('Date');"
   ]
  },
  {
   "cell_type": "markdown",
   "id": "professional-savannah",
   "metadata": {
    "papermill": {
     "duration": 0.010587,
     "end_time": "2021-05-20T22:15:48.338007",
     "exception": false,
     "start_time": "2021-05-20T22:15:48.327420",
     "status": "completed"
    },
    "tags": []
   },
   "source": [
    "## Figure 2: Rolling 7-day average of daily new cases."
   ]
  },
  {
   "cell_type": "code",
   "execution_count": 8,
   "id": "stretch-investor",
   "metadata": {
    "execution": {
     "iopub.execute_input": "2021-05-20T22:15:48.365421Z",
     "iopub.status.busy": "2021-05-20T22:15:48.364875Z",
     "iopub.status.idle": "2021-05-20T22:15:48.570737Z",
     "shell.execute_reply": "2021-05-20T22:15:48.571396Z"
    },
    "jupyter": {
     "source_hidden": true
    },
    "papermill": {
     "duration": 0.222924,
     "end_time": "2021-05-20T22:15:48.571613",
     "exception": false,
     "start_time": "2021-05-20T22:15:48.348689",
     "status": "completed"
    },
    "tags": []
   },
   "outputs": [
    {
     "data": {
      "image/png": "[encoded data removed]",
      "text/plain": [
       "<Figure size 864x432 with 1 Axes>"
      ]
     },
     "metadata": {
      "needs_background": "light"
     },
     "output_type": "display_data"
    }
   ],
   "source": [
    "dc.plot(kind='line',x='DATE',y='14_DAY',color='green',grid='True',figsize=(12,6)).set_xlabel('Date');"
   ]
  },
  {
   "cell_type": "markdown",
   "id": "prerequisite-species",
   "metadata": {
    "papermill": {
     "duration": 0.012226,
     "end_time": "2021-05-20T22:15:48.597908",
     "exception": false,
     "start_time": "2021-05-20T22:15:48.585682",
     "status": "completed"
    },
    "tags": []
   },
   "source": [
    "## Figure 3: Rolling 14-day average of daily new cases."
   ]
  },
  {
   "cell_type": "markdown",
   "id": "palestinian-guard",
   "metadata": {
    "papermill": {
     "duration": 0.012161,
     "end_time": "2021-05-20T22:15:48.622250",
     "exception": false,
     "start_time": "2021-05-20T22:15:48.610089",
     "status": "completed"
    },
    "tags": []
   },
   "source": [
    "Data source: [Wisconsin Department of Health Services](https://data.dhsgis.wi.gov/datasets/covid-19-historical-data-by-county)"
   ]
  },
  {
   "cell_type": "code",
   "execution_count": 9,
   "id": "proof-medicare",
   "metadata": {
    "execution": {
     "iopub.execute_input": "2021-05-20T22:15:48.651695Z",
     "iopub.status.busy": "2021-05-20T22:15:48.651176Z",
     "iopub.status.idle": "2021-05-20T22:15:48.654881Z",
     "shell.execute_reply": "2021-05-20T22:15:48.654453Z"
    },
    "jupyter": {
     "source_hidden": true
    },
    "papermill": {
     "duration": 0.020661,
     "end_time": "2021-05-20T22:15:48.654985",
     "exception": false,
     "start_time": "2021-05-20T22:15:48.634324",
     "status": "completed"
    },
    "tags": []
   },
   "outputs": [
    {
     "data": {
      "text/html": [
       "<style>\n",
       "div.input {\n",
       "    display:none;\n",
       "}\n",
       "</style>\n"
      ],
      "text/plain": [
       "<IPython.core.display.HTML object>"
      ]
     },
     "metadata": {},
     "output_type": "display_data"
    }
   ],
   "source": [
    "%%html\n",
    "<style>\n",
    "div.input {\n",
    "    display:none;\n",
    "}\n",
    "</style>"
   ]
  }
 ],
 "metadata": {
  "kernelspec": {
   "display_name": "Python 3",
   "language": "python",
   "name": "python3"
  },
  "language_info": {
   "codemirror_mode": {
    "name": "ipython",
    "version": 3
   },
   "file_extension": ".py",
   "mimetype": "text/x-python",
   "name": "python",
   "nbconvert_exporter": "python",
   "pygments_lexer": "ipython3",
   "version": "3.8.10"
  },
  "papermill": {
   "duration": 4.202439,
   "end_time": "2021-05-20T22:15:48.973858",
   "environment_variables": {},
   "exception": null,
   "input_path": "DunnCounty_COVID19.ipynb",
   "output_path": "DunnCounty_COVID19.ipynb",
   "parameters": {
    "Start": "True",
    "secretsPath": "/home/runner/work/_temp/secrets.json"
   },
   "start_time": "2021-05-20T22:15:44.771419",
   "version": "1.1.16"
  }
 },
 "nbformat": 4,
 "nbformat_minor": 5
}