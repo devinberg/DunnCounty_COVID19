{
 "cells": [
  {
   "cell_type": "code",
   "execution_count": 1,
   "metadata": {
    "execution": {
     "iopub.execute_input": "2021-01-15T10:43:24.587878Z",
     "iopub.status.busy": "2021-01-15T10:43:24.587353Z",
     "iopub.status.idle": "2021-01-15T10:43:25.680297Z",
     "shell.execute_reply": "2021-01-15T10:43:25.679407Z"
    },
    "jupyter": {
     "source_hidden": true
    },
    "papermill": {
     "duration": 1.109162,
     "end_time": "2021-01-15T10:43:25.680483",
     "exception": false,
     "start_time": "2021-01-15T10:43:24.571321",
     "status": "completed"
    },
    "scrolled": true,
    "tags": [
     "hide-input"
    ]
   },
   "outputs": [],
   "source": [
    "import pandas as pd\n",
    "import matplotlib.pyplot as plt\n",
    "from matplotlib import dates\n",
    "from IPython.display import display, Markdown\n",
    "%matplotlib inline"
   ]
  },
  {
   "cell_type": "code",
   "execution_count": 2,
   "metadata": {
    "execution": {
     "iopub.execute_input": "2021-01-15T10:43:25.699421Z",
     "iopub.status.busy": "2021-01-15T10:43:25.698846Z",
     "iopub.status.idle": "2021-01-15T10:43:26.333787Z",
     "shell.execute_reply": "2021-01-15T10:43:26.333223Z"
    },
    "jupyter": {
     "source_hidden": true
    },
    "papermill": {
     "duration": 0.646763,
     "end_time": "2021-01-15T10:43:26.333925",
     "exception": false,
     "start_time": "2021-01-15T10:43:25.687162",
     "status": "completed"
    },
    "scrolled": true,
    "tags": [
     "hide-input"
    ]
   },
   "outputs": [],
   "source": [
    "# This is the data for all of Wisconsin.\n",
    "url = \"https://opendata.arcgis.com/datasets/5374188992374b318d3e2305216ee413_12.csv\"\n",
    "data = pd.read_csv(url, parse_dates=['DATE'], low_memory=False)"
   ]
  },
  {
   "cell_type": "code",
   "execution_count": 3,
   "metadata": {
    "execution": {
     "iopub.execute_input": "2021-01-15T10:43:26.354016Z",
     "iopub.status.busy": "2021-01-15T10:43:26.353419Z",
     "iopub.status.idle": "2021-01-15T10:43:26.361057Z",
     "shell.execute_reply": "2021-01-15T10:43:26.360601Z"
    },
    "jupyter": {
     "source_hidden": true
    },
    "papermill": {
     "duration": 0.019761,
     "end_time": "2021-01-15T10:43:26.361175",
     "exception": false,
     "start_time": "2021-01-15T10:43:26.341414",
     "status": "completed"
    },
    "scrolled": true,
    "tags": [
     "hide-input"
    ]
   },
   "outputs": [],
   "source": [
    "dc = data.groupby('NAME').get_group('Dunn').sort_values(by='DATE') # Select the data for Dunn County from the full data.\n",
    "PNi = dc.columns.get_loc(\"POS_NEW\")\n",
    "dc['7_DAY'] = dc.iloc[:,PNi].rolling(window=7).mean() # Calculates the rolling 7-day average of new cases.\n",
    "dc['14_DAY'] = dc.iloc[:,PNi].rolling(window=14).mean() # Calculates the rolling 14-day average of new cases."
   ]
  },
  {
   "cell_type": "code",
   "execution_count": 4,
   "metadata": {
    "execution": {
     "iopub.execute_input": "2021-01-15T10:43:26.380716Z",
     "iopub.status.busy": "2021-01-15T10:43:26.380191Z",
     "iopub.status.idle": "2021-01-15T10:43:26.383282Z",
     "shell.execute_reply": "2021-01-15T10:43:26.383653Z"
    },
    "jupyter": {
     "source_hidden": true
    },
    "papermill": {
     "duration": 0.016289,
     "end_time": "2021-01-15T10:43:26.383799",
     "exception": false,
     "start_time": "2021-01-15T10:43:26.367510",
     "status": "completed"
    },
    "scrolled": true,
    "tags": [
     "hide-input"
    ]
   },
   "outputs": [
    {
     "data": {
      "text/markdown": [
       "### Last updated: January 14, 2021"
      ],
      "text/plain": [
       "<IPython.core.display.Markdown object>"
      ]
     },
     "metadata": {},
     "output_type": "display_data"
    }
   ],
   "source": [
    "display(Markdown('### Last updated: ' + dc.iloc[-1]['DATE'].strftime(\"%B %d, %Y\")))"
   ]
  },
  {
   "cell_type": "code",
   "execution_count": 5,
   "metadata": {
    "execution": {
     "iopub.execute_input": "2021-01-15T10:43:26.402298Z",
     "iopub.status.busy": "2021-01-15T10:43:26.401813Z",
     "iopub.status.idle": "2021-01-15T10:43:26.404590Z",
     "shell.execute_reply": "2021-01-15T10:43:26.404177Z"
    },
    "jupyter": {
     "source_hidden": true
    },
    "papermill": {
     "duration": 0.014168,
     "end_time": "2021-01-15T10:43:26.404702",
     "exception": false,
     "start_time": "2021-01-15T10:43:26.390534",
     "status": "completed"
    },
    "tags": [
     "hide-input"
    ]
   },
   "outputs": [
    {
     "data": {
      "text/markdown": [
       "# Dunn County has 3794 total positive cases, with 37 new cases reported today."
      ],
      "text/plain": [
       "<IPython.core.display.Markdown object>"
      ]
     },
     "metadata": {},
     "output_type": "display_data"
    }
   ],
   "source": [
    "display(Markdown('# Dunn County has ' + str(dc.iloc[-1]['POSITIVE']) + ' total positive cases, with '+ str(int(dc.iloc[-1]['POS_NEW'])) + ' new cases reported today.'))"
   ]
  },
  {
   "cell_type": "code",
   "execution_count": 6,
   "metadata": {
    "execution": {
     "iopub.execute_input": "2021-01-15T10:43:26.422520Z",
     "iopub.status.busy": "2021-01-15T10:43:26.422046Z",
     "iopub.status.idle": "2021-01-15T10:43:26.647065Z",
     "shell.execute_reply": "2021-01-15T10:43:26.647444Z"
    },
    "jupyter": {
     "source_hidden": true
    },
    "papermill": {
     "duration": 0.235903,
     "end_time": "2021-01-15T10:43:26.647590",
     "exception": false,
     "start_time": "2021-01-15T10:43:26.411687",
     "status": "completed"
    },
    "scrolled": false,
    "tags": [
     "hide-input"
    ]
   },
   "outputs": [
    {
     "data": {
      "image/png": "[encoded data removed]",
      "text/plain": [
       "<Figure size 864x432 with 1 Axes>"
      ]
     },
     "metadata": {
      "needs_background": "light"
     },
     "output_type": "display_data"
    }
   ],
   "source": [
    "dc.plot(x='DATE',y='POSITIVE',color='red',grid='True',figsize=(12,6)).set_xlabel('Date');"
   ]
  },
  {
   "cell_type": "markdown",
   "metadata": {
    "papermill": {
     "duration": 0.008133,
     "end_time": "2021-01-15T10:43:26.663680",
     "exception": false,
     "start_time": "2021-01-15T10:43:26.655547",
     "status": "completed"
    },
    "tags": []
   },
   "source": [
    "## Figure 1: Cummulative number of positive cases."
   ]
  },
  {
   "cell_type": "code",
   "execution_count": 7,
   "metadata": {
    "execution": {
     "iopub.execute_input": "2021-01-15T10:43:26.684647Z",
     "iopub.status.busy": "2021-01-15T10:43:26.684143Z",
     "iopub.status.idle": "2021-01-15T10:43:26.891777Z",
     "shell.execute_reply": "2021-01-15T10:43:26.891332Z"
    },
    "jupyter": {
     "source_hidden": true
    },
    "papermill": {
     "duration": 0.220371,
     "end_time": "2021-01-15T10:43:26.891898",
     "exception": false,
     "start_time": "2021-01-15T10:43:26.671527",
     "status": "completed"
    },
    "scrolled": false,
    "tags": [
     "hide-input"
    ]
   },
   "outputs": [
    {
     "data": {
      "image/png": "[encoded data removed]",
      "text/plain": [
       "<Figure size 864x432 with 1 Axes>"
      ]
     },
     "metadata": {
      "needs_background": "light"
     },
     "output_type": "display_data"
    }
   ],
   "source": [
    "dc.plot(kind='line',x='DATE',y='7_DAY',color='blue',grid='True',figsize=(12,6)).set_xlabel('Date');"
   ]
  },
  {
   "cell_type": "markdown",
   "metadata": {
    "papermill": {
     "duration": 0.008792,
     "end_time": "2021-01-15T10:43:26.909686",
     "exception": false,
     "start_time": "2021-01-15T10:43:26.900894",
     "status": "completed"
    },
    "tags": []
   },
   "source": [
    "## Figure 2: Rolling 7-day average of daily new cases."
   ]
  },
  {
   "cell_type": "code",
   "execution_count": 8,
   "metadata": {
    "execution": {
     "iopub.execute_input": "2021-01-15T10:43:26.931375Z",
     "iopub.status.busy": "2021-01-15T10:43:26.930882Z",
     "iopub.status.idle": "2021-01-15T10:43:27.133438Z",
     "shell.execute_reply": "2021-01-15T10:43:27.133930Z"
    },
    "jupyter": {
     "source_hidden": true
    },
    "papermill": {
     "duration": 0.21576,
     "end_time": "2021-01-15T10:43:27.134110",
     "exception": false,
     "start_time": "2021-01-15T10:43:26.918350",
     "status": "completed"
    },
    "tags": []
   },
   "outputs": [
    {
     "data": {
      "image/png": "[encoded data removed]",
      "text/plain": [
       "<Figure size 864x432 with 1 Axes>"
      ]
     },
     "metadata": {
      "needs_background": "light"
     },
     "output_type": "display_data"
    }
   ],
   "source": [
    "dc.plot(kind='line',x='DATE',y='14_DAY',color='green',grid='True',figsize=(12,6)).set_xlabel('Date');"
   ]
  },
  {
   "cell_type": "markdown",
   "metadata": {
    "papermill": {
     "duration": 0.010052,
     "end_time": "2021-01-15T10:43:27.155436",
     "exception": false,
     "start_time": "2021-01-15T10:43:27.145384",
     "status": "completed"
    },
    "tags": []
   },
   "source": [
    "## Figure 3: Rolling 14-day average of daily new cases."
   ]
  },
  {
   "cell_type": "markdown",
   "metadata": {
    "papermill": {
     "duration": 0.009629,
     "end_time": "2021-01-15T10:43:27.174660",
     "exception": false,
     "start_time": "2021-01-15T10:43:27.165031",
     "status": "completed"
    },
    "tags": []
   },
   "source": [
    "Data source: [Wisconsin Department of Health Services](https://data.dhsgis.wi.gov/datasets/covid-19-historical-data-table/)"
   ]
  },
  {
   "cell_type": "code",
   "execution_count": 9,
   "metadata": {
    "execution": {
     "iopub.execute_input": "2021-01-15T10:43:27.198171Z",
     "iopub.status.busy": "2021-01-15T10:43:27.197665Z",
     "iopub.status.idle": "2021-01-15T10:43:27.200282Z",
     "shell.execute_reply": "2021-01-15T10:43:27.199863Z"
    },
    "jupyter": {
     "source_hidden": true
    },
    "papermill": {
     "duration": 0.016125,
     "end_time": "2021-01-15T10:43:27.200399",
     "exception": false,
     "start_time": "2021-01-15T10:43:27.184274",
     "status": "completed"
    },
    "tags": []
   },
   "outputs": [
    {
     "data": {
      "text/html": [
       "<style>\n",
       "div.input {\n",
       "    display:none;\n",
       "}\n",
       "</style>\n"
      ],
      "text/plain": [
       "<IPython.core.display.HTML object>"
      ]
     },
     "metadata": {},
     "output_type": "display_data"
    }
   ],
   "source": [
    "%%html\n",
    "<style>\n",
    "div.input {\n",
    "    display:none;\n",
    "}\n",
    "</style>"
   ]
  }
 ],
 "metadata": {
  "kernelspec": {
   "display_name": "Python 3",
   "language": "python",
   "name": "python3"
  },
  "language_info": {
   "codemirror_mode": {
    "name": "ipython",
    "version": 3
   },
   "file_extension": ".py",
   "mimetype": "text/x-python",
   "name": "python",
   "nbconvert_exporter": "python",
   "pygments_lexer": "ipython3",
   "version": "3.8.7"
  },
  "papermill": {
   "duration": 4.680883,
   "end_time": "2021-01-15T10:43:27.617067",
   "environment_variables": {},
   "exception": null,
   "input_path": "DunnCounty_COVID19.ipynb",
   "output_path": "DunnCounty_COVID19.ipynb",
   "parameters": {
    "Start": "True",
    "secretsPath": "/home/runner/work/_temp/secrets.json"
   },
   "start_time": "2021-01-15T10:43:22.936184",
   "version": "1.1.16"
  }
 },
 "nbformat": 4,
 "nbformat_minor": 2
}