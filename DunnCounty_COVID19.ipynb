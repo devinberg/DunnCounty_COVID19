{
 "cells": [
  {
   "cell_type": "code",
   "execution_count": 1,
   "metadata": {
    "execution": {
     "iopub.execute_input": "2020-11-29T22:10:54.763452Z",
     "iopub.status.busy": "2020-11-29T22:10:54.762901Z",
     "iopub.status.idle": "2020-11-29T22:10:55.926180Z",
     "shell.execute_reply": "2020-11-29T22:10:55.925497Z"
    },
    "jupyter": {
     "source_hidden": true
    },
    "papermill": {
     "duration": 1.180909,
     "end_time": "2020-11-29T22:10:55.926365",
     "exception": false,
     "start_time": "2020-11-29T22:10:54.745456",
     "status": "completed"
    },
    "scrolled": true,
    "tags": [
     "hide-input"
    ]
   },
   "outputs": [],
   "source": [
    "import pandas as pd\n",
    "import matplotlib.pyplot as plt\n",
    "from matplotlib import dates\n",
    "from IPython.display import display, Markdown\n",
    "%matplotlib inline"
   ]
  },
  {
   "cell_type": "code",
   "execution_count": 2,
   "metadata": {
    "execution": {
     "iopub.execute_input": "2020-11-29T22:10:55.947003Z",
     "iopub.status.busy": "2020-11-29T22:10:55.946379Z",
     "iopub.status.idle": "2020-11-29T22:10:56.995129Z",
     "shell.execute_reply": "2020-11-29T22:10:56.999665Z"
    },
    "jupyter": {
     "source_hidden": true
    },
    "papermill": {
     "duration": 1.066064,
     "end_time": "2020-11-29T22:10:56.999829",
     "exception": false,
     "start_time": "2020-11-29T22:10:55.933765",
     "status": "completed"
    },
    "scrolled": true,
    "tags": [
     "hide-input"
    ]
   },
   "outputs": [],
   "source": [
    "# This is the data for all of Wisconsin.\n",
    "url = \"https://opendata.arcgis.com/datasets/5374188992374b318d3e2305216ee413_12.csv\"\n",
    "data = pd.read_csv(url, parse_dates=['DATE'], low_memory=False)"
   ]
  },
  {
   "cell_type": "code",
   "execution_count": 3,
   "metadata": {
    "execution": {
     "iopub.execute_input": "2020-11-29T22:10:57.023296Z",
     "iopub.status.busy": "2020-11-29T22:10:57.022743Z",
     "iopub.status.idle": "2020-11-29T22:10:57.031741Z",
     "shell.execute_reply": "2020-11-29T22:10:57.031282Z"
    },
    "jupyter": {
     "source_hidden": true
    },
    "papermill": {
     "duration": 0.022776,
     "end_time": "2020-11-29T22:10:57.031867",
     "exception": false,
     "start_time": "2020-11-29T22:10:57.009091",
     "status": "completed"
    },
    "scrolled": true,
    "tags": [
     "hide-input"
    ]
   },
   "outputs": [],
   "source": [
    "dc = data.groupby('NAME').get_group('Dunn').sort_values(by='DATE') # Select the data for Dunn County from the full data.\n",
    "PNi = dc.columns.get_loc(\"POS_NEW\")\n",
    "dc['7_DAY'] = dc.iloc[:,PNi].rolling(window=7).mean() # Calculates the rolling 7-day average of new cases.\n",
    "dc['14_DAY'] = dc.iloc[:,PNi].rolling(window=14).mean() # Calculates the rolling 14-day average of new cases."
   ]
  },
  {
   "cell_type": "code",
   "execution_count": 4,
   "metadata": {
    "execution": {
     "iopub.execute_input": "2020-11-29T22:10:57.052822Z",
     "iopub.status.busy": "2020-11-29T22:10:57.052271Z",
     "iopub.status.idle": "2020-11-29T22:10:57.057080Z",
     "shell.execute_reply": "2020-11-29T22:10:57.057485Z"
    },
    "jupyter": {
     "source_hidden": true
    },
    "papermill": {
     "duration": 0.018642,
     "end_time": "2020-11-29T22:10:57.057637",
     "exception": false,
     "start_time": "2020-11-29T22:10:57.038995",
     "status": "completed"
    },
    "scrolled": true,
    "tags": [
     "hide-input"
    ]
   },
   "outputs": [
    {
     "data": {
      "text/markdown": [
       "### Last updated: November 29, 2020"
      ],
      "text/plain": [
       "<IPython.core.display.Markdown object>"
      ]
     },
     "metadata": {},
     "output_type": "display_data"
    }
   ],
   "source": [
    "display(Markdown('### Last updated: ' + dc.iloc[-1]['DATE'].strftime(\"%B %d, %Y\")))"
   ]
  },
  {
   "cell_type": "code",
   "execution_count": 5,
   "metadata": {
    "execution": {
     "iopub.execute_input": "2020-11-29T22:10:57.078190Z",
     "iopub.status.busy": "2020-11-29T22:10:57.077664Z",
     "iopub.status.idle": "2020-11-29T22:10:57.080393Z",
     "shell.execute_reply": "2020-11-29T22:10:57.080794Z"
    },
    "jupyter": {
     "source_hidden": true
    },
    "papermill": {
     "duration": 0.015516,
     "end_time": "2020-11-29T22:10:57.080935",
     "exception": false,
     "start_time": "2020-11-29T22:10:57.065419",
     "status": "completed"
    },
    "tags": [
     "hide-input"
    ]
   },
   "outputs": [
    {
     "data": {
      "text/markdown": [
       "# Dunn County has 2790 total positive cases, with 25 new cases reported today."
      ],
      "text/plain": [
       "<IPython.core.display.Markdown object>"
      ]
     },
     "metadata": {},
     "output_type": "display_data"
    }
   ],
   "source": [
    "display(Markdown('# Dunn County has ' + str(dc.iloc[-1]['POSITIVE']) + ' total positive cases, with '+ str(int(dc.iloc[-1]['POS_NEW'])) + ' new cases reported today.'))"
   ]
  },
  {
   "cell_type": "code",
   "execution_count": 6,
   "metadata": {
    "execution": {
     "iopub.execute_input": "2020-11-29T22:10:57.100386Z",
     "iopub.status.busy": "2020-11-29T22:10:57.099857Z",
     "iopub.status.idle": "2020-11-29T22:10:57.323571Z",
     "shell.execute_reply": "2020-11-29T22:10:57.324061Z"
    },
    "jupyter": {
     "source_hidden": true
    },
    "papermill": {
     "duration": 0.235405,
     "end_time": "2020-11-29T22:10:57.324223",
     "exception": false,
     "start_time": "2020-11-29T22:10:57.088818",
     "status": "completed"
    },
    "scrolled": false,
    "tags": [
     "hide-input"
    ]
   },
   "outputs": [
    {
     "data": {
      "image/png": "[encoded data removed]",
      "text/plain": [
       "<Figure size 864x432 with 1 Axes>"
      ]
     },
     "metadata": {
      "needs_background": "light"
     },
     "output_type": "display_data"
    }
   ],
   "source": [
    "dc.plot(x='DATE',y='POSITIVE',color='red',grid='True',figsize=(12,6)).set_xlabel('Date');"
   ]
  },
  {
   "cell_type": "markdown",
   "metadata": {
    "papermill": {
     "duration": 0.008955,
     "end_time": "2020-11-29T22:10:57.342714",
     "exception": false,
     "start_time": "2020-11-29T22:10:57.333759",
     "status": "completed"
    },
    "tags": []
   },
   "source": [
    "## Figure 1: Cummulative number of positive cases."
   ]
  },
  {
   "cell_type": "code",
   "execution_count": 7,
   "metadata": {
    "execution": {
     "iopub.execute_input": "2020-11-29T22:10:57.365371Z",
     "iopub.status.busy": "2020-11-29T22:10:57.364846Z",
     "iopub.status.idle": "2020-11-29T22:10:57.593978Z",
     "shell.execute_reply": "2020-11-29T22:10:57.595645Z"
    },
    "jupyter": {
     "source_hidden": true
    },
    "papermill": {
     "duration": 0.244362,
     "end_time": "2020-11-29T22:10:57.595872",
     "exception": false,
     "start_time": "2020-11-29T22:10:57.351510",
     "status": "completed"
    },
    "scrolled": false,
    "tags": [
     "hide-input"
    ]
   },
   "outputs": [
    {
     "data": {
      "image/png": "[encoded data removed]",
      "text/plain": [
       "<Figure size 864x432 with 1 Axes>"
      ]
     },
     "metadata": {
      "needs_background": "light"
     },
     "output_type": "display_data"
    }
   ],
   "source": [
    "dc.plot(kind='line',x='DATE',y='7_DAY',color='blue',grid='True',figsize=(12,6)).set_xlabel('Date');"
   ]
  },
  {
   "cell_type": "markdown",
   "metadata": {
    "papermill": {
     "duration": 0.010175,
     "end_time": "2020-11-29T22:10:57.616281",
     "exception": false,
     "start_time": "2020-11-29T22:10:57.606106",
     "status": "completed"
    },
    "tags": []
   },
   "source": [
    "## Figure 2: Rolling 7-day average of daily new cases."
   ]
  },
  {
   "cell_type": "code",
   "execution_count": 8,
   "metadata": {
    "execution": {
     "iopub.execute_input": "2020-11-29T22:10:57.641460Z",
     "iopub.status.busy": "2020-11-29T22:10:57.640931Z",
     "iopub.status.idle": "2020-11-29T22:10:57.877744Z",
     "shell.execute_reply": "2020-11-29T22:10:57.878655Z"
    },
    "jupyter": {
     "source_hidden": true
    },
    "papermill": {
     "duration": 0.253103,
     "end_time": "2020-11-29T22:10:57.878926",
     "exception": false,
     "start_time": "2020-11-29T22:10:57.625823",
     "status": "completed"
    },
    "tags": []
   },
   "outputs": [
    {
     "data": {
      "image/png": "[encoded data removed]",
      "text/plain": [
       "<Figure size 864x432 with 1 Axes>"
      ]
     },
     "metadata": {
      "needs_background": "light"
     },
     "output_type": "display_data"
    }
   ],
   "source": [
    "dc.plot(kind='line',x='DATE',y='14_DAY',color='green',grid='True',figsize=(12,6)).set_xlabel('Date');"
   ]
  },
  {
   "cell_type": "markdown",
   "metadata": {
    "papermill": {
     "duration": 0.012505,
     "end_time": "2020-11-29T22:10:57.902690",
     "exception": false,
     "start_time": "2020-11-29T22:10:57.890185",
     "status": "completed"
    },
    "tags": []
   },
   "source": [
    "## Figure 3: Rolling 14-day average of daily new cases."
   ]
  },
  {
   "cell_type": "markdown",
   "metadata": {
    "papermill": {
     "duration": 0.010458,
     "end_time": "2020-11-29T22:10:57.924182",
     "exception": false,
     "start_time": "2020-11-29T22:10:57.913724",
     "status": "completed"
    },
    "tags": []
   },
   "source": [
    "Data source: [Wisconsin Department of Health Services](https://data.dhsgis.wi.gov/datasets/covid-19-historical-data-table/)"
   ]
  },
  {
   "cell_type": "code",
   "execution_count": 9,
   "metadata": {
    "execution": {
     "iopub.execute_input": "2020-11-29T22:10:57.952045Z",
     "iopub.status.busy": "2020-11-29T22:10:57.951537Z",
     "iopub.status.idle": "2020-11-29T22:10:57.954690Z",
     "shell.execute_reply": "2020-11-29T22:10:57.954231Z"
    },
    "jupyter": {
     "source_hidden": true
    },
    "papermill": {
     "duration": 0.019652,
     "end_time": "2020-11-29T22:10:57.954815",
     "exception": false,
     "start_time": "2020-11-29T22:10:57.935163",
     "status": "completed"
    },
    "tags": []
   },
   "outputs": [
    {
     "data": {
      "text/html": [
       "<style>\n",
       "div.input {\n",
       "    display:none;\n",
       "}\n",
       "</style>\n"
      ],
      "text/plain": [
       "<IPython.core.display.HTML object>"
      ]
     },
     "metadata": {},
     "output_type": "display_data"
    }
   ],
   "source": [
    "%%html\n",
    "<style>\n",
    "div.input {\n",
    "    display:none;\n",
    "}\n",
    "</style>"
   ]
  }
 ],
 "metadata": {
  "kernelspec": {
   "display_name": "Python 3",
   "language": "python",
   "name": "python3"
  },
  "language_info": {
   "codemirror_mode": {
    "name": "ipython",
    "version": 3
   },
   "file_extension": ".py",
   "mimetype": "text/x-python",
   "name": "python",
   "nbconvert_exporter": "python",
   "pygments_lexer": "ipython3",
   "version": "3.8.6"
  },
  "papermill": {
   "duration": 5.437274,
   "end_time": "2020-11-29T22:10:58.272550",
   "environment_variables": {},
   "exception": null,
   "input_path": "DunnCounty_COVID19.ipynb",
   "output_path": "DunnCounty_COVID19.ipynb",
   "parameters": {
    "Start": "True",
    "secretsPath": "/home/runner/work/_temp/secrets.json"
   },
   "start_time": "2020-11-29T22:10:52.835276",
   "version": "1.1.16"
  }
 },
 "nbformat": 4,
 "nbformat_minor": 2
}