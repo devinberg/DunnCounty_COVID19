{
 "cells": [
  {
   "cell_type": "code",
   "execution_count": 1,
   "id": "solar-understanding",
   "metadata": {
    "execution": {
     "iopub.execute_input": "2021-03-26T10:17:24.133045Z",
     "iopub.status.busy": "2021-03-26T10:17:24.132390Z",
     "iopub.status.idle": "2021-03-26T10:17:25.107986Z",
     "shell.execute_reply": "2021-03-26T10:17:25.108469Z"
    },
    "jupyter": {
     "source_hidden": true
    },
    "papermill": {
     "duration": 0.997375,
     "end_time": "2021-03-26T10:17:25.108733",
     "exception": false,
     "start_time": "2021-03-26T10:17:24.111358",
     "status": "completed"
    },
    "scrolled": true,
    "tags": [
     "hide-input"
    ]
   },
   "outputs": [],
   "source": [
    "import pandas as pd\n",
    "import matplotlib.pyplot as plt\n",
    "from matplotlib import dates\n",
    "from IPython.display import display, Markdown\n",
    "%matplotlib inline"
   ]
  },
  {
   "cell_type": "code",
   "execution_count": 2,
   "id": "purple-playlist",
   "metadata": {
    "execution": {
     "iopub.execute_input": "2021-03-26T10:17:25.134569Z",
     "iopub.status.busy": "2021-03-26T10:17:25.133962Z",
     "iopub.status.idle": "2021-03-26T10:17:26.260862Z",
     "shell.execute_reply": "2021-03-26T10:17:26.260294Z"
    },
    "jupyter": {
     "source_hidden": true
    },
    "papermill": {
     "duration": 1.142017,
     "end_time": "2021-03-26T10:17:26.260997",
     "exception": false,
     "start_time": "2021-03-26T10:17:25.118980",
     "status": "completed"
    },
    "scrolled": true,
    "tags": [
     "hide-input"
    ]
   },
   "outputs": [],
   "source": [
    "# This is the data for all of Wisconsin.\n",
    "url = \"https://opendata.arcgis.com/datasets/5374188992374b318d3e2305216ee413_12.csv\"\n",
    "data = pd.read_csv(url, parse_dates=['DATE'], low_memory=False)"
   ]
  },
  {
   "cell_type": "code",
   "execution_count": 3,
   "id": "proprietary-klein",
   "metadata": {
    "execution": {
     "iopub.execute_input": "2021-03-26T10:17:26.290137Z",
     "iopub.status.busy": "2021-03-26T10:17:26.289456Z",
     "iopub.status.idle": "2021-03-26T10:17:26.297934Z",
     "shell.execute_reply": "2021-03-26T10:17:26.298365Z"
    },
    "jupyter": {
     "source_hidden": true
    },
    "papermill": {
     "duration": 0.027784,
     "end_time": "2021-03-26T10:17:26.298525",
     "exception": false,
     "start_time": "2021-03-26T10:17:26.270741",
     "status": "completed"
    },
    "scrolled": true,
    "tags": [
     "hide-input"
    ]
   },
   "outputs": [],
   "source": [
    "dc = data.groupby('NAME').get_group('Dunn').sort_values(by='DATE') # Select the data for Dunn County from the full data.\n",
    "PNi = dc.columns.get_loc(\"POS_NEW\")\n",
    "dc['7_DAY'] = dc.iloc[:,PNi].rolling(window=7).mean() # Calculates the rolling 7-day average of new cases.\n",
    "dc['14_DAY'] = dc.iloc[:,PNi].rolling(window=14).mean() # Calculates the rolling 14-day average of new cases."
   ]
  },
  {
   "cell_type": "code",
   "execution_count": 4,
   "id": "steady-supervision",
   "metadata": {
    "execution": {
     "iopub.execute_input": "2021-03-26T10:17:26.323389Z",
     "iopub.status.busy": "2021-03-26T10:17:26.322795Z",
     "iopub.status.idle": "2021-03-26T10:17:26.328078Z",
     "shell.execute_reply": "2021-03-26T10:17:26.328535Z"
    },
    "jupyter": {
     "source_hidden": true
    },
    "papermill": {
     "duration": 0.021211,
     "end_time": "2021-03-26T10:17:26.328702",
     "exception": false,
     "start_time": "2021-03-26T10:17:26.307491",
     "status": "completed"
    },
    "scrolled": true,
    "tags": [
     "hide-input"
    ]
   },
   "outputs": [
    {
     "data": {
      "text/markdown": [
       "### Last updated: March 25, 2021"
      ],
      "text/plain": [
       "<IPython.core.display.Markdown object>"
      ]
     },
     "metadata": {},
     "output_type": "display_data"
    }
   ],
   "source": [
    "display(Markdown('### Last updated: ' + dc.iloc[-1]['DATE'].strftime(\"%B %d, %Y\")))"
   ]
  },
  {
   "cell_type": "code",
   "execution_count": 5,
   "id": "lonely-pitch",
   "metadata": {
    "execution": {
     "iopub.execute_input": "2021-03-26T10:17:26.354005Z",
     "iopub.status.busy": "2021-03-26T10:17:26.353405Z",
     "iopub.status.idle": "2021-03-26T10:17:26.356480Z",
     "shell.execute_reply": "2021-03-26T10:17:26.355968Z"
    },
    "jupyter": {
     "source_hidden": true
    },
    "papermill": {
     "duration": 0.017919,
     "end_time": "2021-03-26T10:17:26.356605",
     "exception": false,
     "start_time": "2021-03-26T10:17:26.338686",
     "status": "completed"
    },
    "tags": [
     "hide-input"
    ]
   },
   "outputs": [
    {
     "data": {
      "text/markdown": [
       "# Dunn County has 4341 total positive cases, with 1 new cases reported today."
      ],
      "text/plain": [
       "<IPython.core.display.Markdown object>"
      ]
     },
     "metadata": {},
     "output_type": "display_data"
    }
   ],
   "source": [
    "display(Markdown('# Dunn County has ' + str(dc.iloc[-1]['POSITIVE']) + ' total positive cases, with '+ str(int(dc.iloc[-1]['POS_NEW'])) + ' new cases reported today.'))"
   ]
  },
  {
   "cell_type": "code",
   "execution_count": 6,
   "id": "compound-nightmare",
   "metadata": {
    "execution": {
     "iopub.execute_input": "2021-03-26T10:17:26.382795Z",
     "iopub.status.busy": "2021-03-26T10:17:26.382177Z",
     "iopub.status.idle": "2021-03-26T10:17:26.663234Z",
     "shell.execute_reply": "2021-03-26T10:17:26.663708Z"
    },
    "jupyter": {
     "source_hidden": true
    },
    "papermill": {
     "duration": 0.296425,
     "end_time": "2021-03-26T10:17:26.663864",
     "exception": false,
     "start_time": "2021-03-26T10:17:26.367439",
     "status": "completed"
    },
    "scrolled": false,
    "tags": [
     "hide-input"
    ]
   },
   "outputs": [
    {
     "data": {
      "image/png": "[encoded data removed]",
      "text/plain": [
       "<Figure size 864x432 with 1 Axes>"
      ]
     },
     "metadata": {
      "needs_background": "light"
     },
     "output_type": "display_data"
    }
   ],
   "source": [
    "dc.plot(x='DATE',y='POSITIVE',color='red',grid='True',figsize=(12,6)).set_xlabel('Date');"
   ]
  },
  {
   "cell_type": "markdown",
   "id": "coupled-literacy",
   "metadata": {
    "papermill": {
     "duration": 0.013642,
     "end_time": "2021-03-26T10:17:26.688536",
     "exception": false,
     "start_time": "2021-03-26T10:17:26.674894",
     "status": "completed"
    },
    "tags": []
   },
   "source": [
    "## Figure 1: Cummulative number of positive cases."
   ]
  },
  {
   "cell_type": "code",
   "execution_count": 7,
   "id": "surrounded-reserve",
   "metadata": {
    "execution": {
     "iopub.execute_input": "2021-03-26T10:17:26.716139Z",
     "iopub.status.busy": "2021-03-26T10:17:26.715548Z",
     "iopub.status.idle": "2021-03-26T10:17:26.923485Z",
     "shell.execute_reply": "2021-03-26T10:17:26.922975Z"
    },
    "jupyter": {
     "source_hidden": true
    },
    "papermill": {
     "duration": 0.223543,
     "end_time": "2021-03-26T10:17:26.923625",
     "exception": false,
     "start_time": "2021-03-26T10:17:26.700082",
     "status": "completed"
    },
    "scrolled": false,
    "tags": [
     "hide-input"
    ]
   },
   "outputs": [
    {
     "data": {
      "image/png": "[encoded data removed]",
      "text/plain": [
       "<Figure size 864x432 with 1 Axes>"
      ]
     },
     "metadata": {
      "needs_background": "light"
     },
     "output_type": "display_data"
    }
   ],
   "source": [
    "dc.plot(kind='line',x='DATE',y='7_DAY',color='blue',grid='True',figsize=(12,6)).set_xlabel('Date');"
   ]
  },
  {
   "cell_type": "markdown",
   "id": "professional-savannah",
   "metadata": {
    "papermill": {
     "duration": 0.021827,
     "end_time": "2021-03-26T10:17:26.972904",
     "exception": false,
     "start_time": "2021-03-26T10:17:26.951077",
     "status": "completed"
    },
    "tags": []
   },
   "source": [
    "## Figure 2: Rolling 7-day average of daily new cases."
   ]
  },
  {
   "cell_type": "code",
   "execution_count": 8,
   "id": "stretch-investor",
   "metadata": {
    "execution": {
     "iopub.execute_input": "2021-03-26T10:17:27.004033Z",
     "iopub.status.busy": "2021-03-26T10:17:27.003421Z",
     "iopub.status.idle": "2021-03-26T10:17:27.221209Z",
     "shell.execute_reply": "2021-03-26T10:17:27.221635Z"
    },
    "jupyter": {
     "source_hidden": true
    },
    "papermill": {
     "duration": 0.23578,
     "end_time": "2021-03-26T10:17:27.221786",
     "exception": false,
     "start_time": "2021-03-26T10:17:26.986006",
     "status": "completed"
    },
    "tags": []
   },
   "outputs": [
    {
     "data": {
      "image/png": "[encoded data removed]",
      "text/plain": [
       "<Figure size 864x432 with 1 Axes>"
      ]
     },
     "metadata": {
      "needs_background": "light"
     },
     "output_type": "display_data"
    }
   ],
   "source": [
    "dc.plot(kind='line',x='DATE',y='14_DAY',color='green',grid='True',figsize=(12,6)).set_xlabel('Date');"
   ]
  },
  {
   "cell_type": "markdown",
   "id": "prerequisite-species",
   "metadata": {
    "papermill": {
     "duration": 0.013779,
     "end_time": "2021-03-26T10:17:27.249065",
     "exception": false,
     "start_time": "2021-03-26T10:17:27.235286",
     "status": "completed"
    },
    "tags": []
   },
   "source": [
    "## Figure 3: Rolling 14-day average of daily new cases."
   ]
  },
  {
   "cell_type": "markdown",
   "id": "palestinian-guard",
   "metadata": {
    "papermill": {
     "duration": 0.012936,
     "end_time": "2021-03-26T10:17:27.273462",
     "exception": false,
     "start_time": "2021-03-26T10:17:27.260526",
     "status": "completed"
    },
    "tags": []
   },
   "source": [
    "Data source: [Wisconsin Department of Health Services](https://data.dhsgis.wi.gov/datasets/covid-19-historical-data-table/)"
   ]
  },
  {
   "cell_type": "code",
   "execution_count": 9,
   "id": "proof-medicare",
   "metadata": {
    "execution": {
     "iopub.execute_input": "2021-03-26T10:17:27.304747Z",
     "iopub.status.busy": "2021-03-26T10:17:27.304152Z",
     "iopub.status.idle": "2021-03-26T10:17:27.307458Z",
     "shell.execute_reply": "2021-03-26T10:17:27.306943Z"
    },
    "jupyter": {
     "source_hidden": true
    },
    "papermill": {
     "duration": 0.021063,
     "end_time": "2021-03-26T10:17:27.307575",
     "exception": false,
     "start_time": "2021-03-26T10:17:27.286512",
     "status": "completed"
    },
    "tags": []
   },
   "outputs": [
    {
     "data": {
      "text/html": [
       "<style>\n",
       "div.input {\n",
       "    display:none;\n",
       "}\n",
       "</style>\n"
      ],
      "text/plain": [
       "<IPython.core.display.HTML object>"
      ]
     },
     "metadata": {},
     "output_type": "display_data"
    }
   ],
   "source": [
    "%%html\n",
    "<style>\n",
    "div.input {\n",
    "    display:none;\n",
    "}\n",
    "</style>"
   ]
  }
 ],
 "metadata": {
  "kernelspec": {
   "display_name": "Python 3",
   "language": "python",
   "name": "python3"
  },
  "language_info": {
   "codemirror_mode": {
    "name": "ipython",
    "version": 3
   },
   "file_extension": ".py",
   "mimetype": "text/x-python",
   "name": "python",
   "nbconvert_exporter": "python",
   "pygments_lexer": "ipython3",
   "version": "3.8.8"
  },
  "papermill": {
   "duration": 4.994869,
   "end_time": "2021-03-26T10:17:27.626520",
   "environment_variables": {},
   "exception": null,
   "input_path": "DunnCounty_COVID19.ipynb",
   "output_path": "DunnCounty_COVID19.ipynb",
   "parameters": {
    "Start": "True",
    "secretsPath": "/home/runner/work/_temp/secrets.json"
   },
   "start_time": "2021-03-26T10:17:22.631651",
   "version": "1.1.16"
  }
 },
 "nbformat": 4,
 "nbformat_minor": 5
}