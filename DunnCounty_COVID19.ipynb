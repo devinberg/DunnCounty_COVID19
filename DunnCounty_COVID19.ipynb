{
 "cells": [
  {
   "cell_type": "code",
   "execution_count": 1,
   "metadata": {
    "execution": {
     "iopub.execute_input": "2020-12-15T10:12:44.688472Z",
     "iopub.status.busy": "2020-12-15T10:12:44.687915Z",
     "iopub.status.idle": "2020-12-15T10:12:46.714239Z",
     "shell.execute_reply": "2020-12-15T10:12:46.714711Z"
    },
    "jupyter": {
     "source_hidden": true
    },
    "papermill": {
     "duration": 2.044242,
     "end_time": "2020-12-15T10:12:46.714999",
     "exception": false,
     "start_time": "2020-12-15T10:12:44.670757",
     "status": "completed"
    },
    "scrolled": true,
    "tags": [
     "hide-input"
    ]
   },
   "outputs": [],
   "source": [
    "import pandas as pd\n",
    "import matplotlib.pyplot as plt\n",
    "from matplotlib import dates\n",
    "from IPython.display import display, Markdown\n",
    "%matplotlib inline"
   ]
  },
  {
   "cell_type": "code",
   "execution_count": 2,
   "metadata": {
    "execution": {
     "iopub.execute_input": "2020-12-15T10:12:46.739171Z",
     "iopub.status.busy": "2020-12-15T10:12:46.738620Z",
     "iopub.status.idle": "2020-12-15T10:12:47.422321Z",
     "shell.execute_reply": "2020-12-15T10:12:47.421743Z"
    },
    "jupyter": {
     "source_hidden": true
    },
    "papermill": {
     "duration": 0.698083,
     "end_time": "2020-12-15T10:12:47.422500",
     "exception": false,
     "start_time": "2020-12-15T10:12:46.724417",
     "status": "completed"
    },
    "scrolled": true,
    "tags": [
     "hide-input"
    ]
   },
   "outputs": [],
   "source": [
    "# This is the data for all of Wisconsin.\n",
    "url = \"https://opendata.arcgis.com/datasets/5374188992374b318d3e2305216ee413_12.csv\"\n",
    "data = pd.read_csv(url, parse_dates=['DATE'], low_memory=False)"
   ]
  },
  {
   "cell_type": "code",
   "execution_count": 3,
   "metadata": {
    "execution": {
     "iopub.execute_input": "2020-12-15T10:12:47.443131Z",
     "iopub.status.busy": "2020-12-15T10:12:47.442546Z",
     "iopub.status.idle": "2020-12-15T10:12:47.452032Z",
     "shell.execute_reply": "2020-12-15T10:12:47.451570Z"
    },
    "jupyter": {
     "source_hidden": true
    },
    "papermill": {
     "duration": 0.021807,
     "end_time": "2020-12-15T10:12:47.452149",
     "exception": false,
     "start_time": "2020-12-15T10:12:47.430342",
     "status": "completed"
    },
    "scrolled": true,
    "tags": [
     "hide-input"
    ]
   },
   "outputs": [],
   "source": [
    "dc = data.groupby('NAME').get_group('Dunn').sort_values(by='DATE') # Select the data for Dunn County from the full data.\n",
    "PNi = dc.columns.get_loc(\"POS_NEW\")\n",
    "dc['7_DAY'] = dc.iloc[:,PNi].rolling(window=7).mean() # Calculates the rolling 7-day average of new cases.\n",
    "dc['14_DAY'] = dc.iloc[:,PNi].rolling(window=14).mean() # Calculates the rolling 14-day average of new cases."
   ]
  },
  {
   "cell_type": "code",
   "execution_count": 4,
   "metadata": {
    "execution": {
     "iopub.execute_input": "2020-12-15T10:12:47.473434Z",
     "iopub.status.busy": "2020-12-15T10:12:47.472848Z",
     "iopub.status.idle": "2020-12-15T10:12:47.476424Z",
     "shell.execute_reply": "2020-12-15T10:12:47.476853Z"
    },
    "jupyter": {
     "source_hidden": true
    },
    "papermill": {
     "duration": 0.017998,
     "end_time": "2020-12-15T10:12:47.476985",
     "exception": false,
     "start_time": "2020-12-15T10:12:47.458987",
     "status": "completed"
    },
    "scrolled": true,
    "tags": [
     "hide-input"
    ]
   },
   "outputs": [
    {
     "data": {
      "text/markdown": [
       "### Last updated: December 14, 2020"
      ],
      "text/plain": [
       "<IPython.core.display.Markdown object>"
      ]
     },
     "metadata": {},
     "output_type": "display_data"
    }
   ],
   "source": [
    "display(Markdown('### Last updated: ' + dc.iloc[-1]['DATE'].strftime(\"%B %d, %Y\")))"
   ]
  },
  {
   "cell_type": "code",
   "execution_count": 5,
   "metadata": {
    "execution": {
     "iopub.execute_input": "2020-12-15T10:12:47.500425Z",
     "iopub.status.busy": "2020-12-15T10:12:47.499853Z",
     "iopub.status.idle": "2020-12-15T10:12:47.502392Z",
     "shell.execute_reply": "2020-12-15T10:12:47.502840Z"
    },
    "jupyter": {
     "source_hidden": true
    },
    "papermill": {
     "duration": 0.0186,
     "end_time": "2020-12-15T10:12:47.502985",
     "exception": false,
     "start_time": "2020-12-15T10:12:47.484385",
     "status": "completed"
    },
    "tags": [
     "hide-input"
    ]
   },
   "outputs": [
    {
     "data": {
      "text/markdown": [
       "# Dunn County has 3165 total positive cases, with 9 new cases reported today."
      ],
      "text/plain": [
       "<IPython.core.display.Markdown object>"
      ]
     },
     "metadata": {},
     "output_type": "display_data"
    }
   ],
   "source": [
    "display(Markdown('# Dunn County has ' + str(dc.iloc[-1]['POSITIVE']) + ' total positive cases, with '+ str(int(dc.iloc[-1]['POS_NEW'])) + ' new cases reported today.'))"
   ]
  },
  {
   "cell_type": "code",
   "execution_count": 6,
   "metadata": {
    "execution": {
     "iopub.execute_input": "2020-12-15T10:12:47.523240Z",
     "iopub.status.busy": "2020-12-15T10:12:47.522702Z",
     "iopub.status.idle": "2020-12-15T10:12:47.751904Z",
     "shell.execute_reply": "2020-12-15T10:12:47.752323Z"
    },
    "jupyter": {
     "source_hidden": true
    },
    "papermill": {
     "duration": 0.241452,
     "end_time": "2020-12-15T10:12:47.752476",
     "exception": false,
     "start_time": "2020-12-15T10:12:47.511024",
     "status": "completed"
    },
    "scrolled": false,
    "tags": [
     "hide-input"
    ]
   },
   "outputs": [
    {
     "data": {
      "image/png": "[encoded data removed]",
      "text/plain": [
       "<Figure size 864x432 with 1 Axes>"
      ]
     },
     "metadata": {
      "needs_background": "light"
     },
     "output_type": "display_data"
    }
   ],
   "source": [
    "dc.plot(x='DATE',y='POSITIVE',color='red',grid='True',figsize=(12,6)).set_xlabel('Date');"
   ]
  },
  {
   "cell_type": "markdown",
   "metadata": {
    "papermill": {
     "duration": 0.008956,
     "end_time": "2020-12-15T10:12:47.770218",
     "exception": false,
     "start_time": "2020-12-15T10:12:47.761262",
     "status": "completed"
    },
    "tags": []
   },
   "source": [
    "## Figure 1: Cummulative number of positive cases."
   ]
  },
  {
   "cell_type": "code",
   "execution_count": 7,
   "metadata": {
    "execution": {
     "iopub.execute_input": "2020-12-15T10:12:47.792184Z",
     "iopub.status.busy": "2020-12-15T10:12:47.791647Z",
     "iopub.status.idle": "2020-12-15T10:12:48.004639Z",
     "shell.execute_reply": "2020-12-15T10:12:48.004124Z"
    },
    "jupyter": {
     "source_hidden": true
    },
    "papermill": {
     "duration": 0.22591,
     "end_time": "2020-12-15T10:12:48.004772",
     "exception": false,
     "start_time": "2020-12-15T10:12:47.778862",
     "status": "completed"
    },
    "scrolled": false,
    "tags": [
     "hide-input"
    ]
   },
   "outputs": [
    {
     "data": {
      "image/png": "[encoded data removed]",
      "text/plain": [
       "<Figure size 864x432 with 1 Axes>"
      ]
     },
     "metadata": {
      "needs_background": "light"
     },
     "output_type": "display_data"
    }
   ],
   "source": [
    "dc.plot(kind='line',x='DATE',y='7_DAY',color='blue',grid='True',figsize=(12,6)).set_xlabel('Date');"
   ]
  },
  {
   "cell_type": "markdown",
   "metadata": {
    "papermill": {
     "duration": 0.009924,
     "end_time": "2020-12-15T10:12:48.024503",
     "exception": false,
     "start_time": "2020-12-15T10:12:48.014579",
     "status": "completed"
    },
    "tags": []
   },
   "source": [
    "## Figure 2: Rolling 7-day average of daily new cases."
   ]
  },
  {
   "cell_type": "code",
   "execution_count": 8,
   "metadata": {
    "execution": {
     "iopub.execute_input": "2020-12-15T10:12:48.047382Z",
     "iopub.status.busy": "2020-12-15T10:12:48.046848Z",
     "iopub.status.idle": "2020-12-15T10:12:48.259456Z",
     "shell.execute_reply": "2020-12-15T10:12:48.259896Z"
    },
    "jupyter": {
     "source_hidden": true
    },
    "papermill": {
     "duration": 0.226234,
     "end_time": "2020-12-15T10:12:48.260053",
     "exception": false,
     "start_time": "2020-12-15T10:12:48.033819",
     "status": "completed"
    },
    "tags": []
   },
   "outputs": [
    {
     "data": {
      "image/png": "[encoded data removed]",
      "text/plain": [
       "<Figure size 864x432 with 1 Axes>"
      ]
     },
     "metadata": {
      "needs_background": "light"
     },
     "output_type": "display_data"
    }
   ],
   "source": [
    "dc.plot(kind='line',x='DATE',y='14_DAY',color='green',grid='True',figsize=(12,6)).set_xlabel('Date');"
   ]
  },
  {
   "cell_type": "markdown",
   "metadata": {
    "papermill": {
     "duration": 0.014027,
     "end_time": "2020-12-15T10:12:48.285010",
     "exception": false,
     "start_time": "2020-12-15T10:12:48.270983",
     "status": "completed"
    },
    "tags": []
   },
   "source": [
    "## Figure 3: Rolling 14-day average of daily new cases."
   ]
  },
  {
   "cell_type": "markdown",
   "metadata": {
    "papermill": {
     "duration": 0.010608,
     "end_time": "2020-12-15T10:12:48.306488",
     "exception": false,
     "start_time": "2020-12-15T10:12:48.295880",
     "status": "completed"
    },
    "tags": []
   },
   "source": [
    "Data source: [Wisconsin Department of Health Services](https://data.dhsgis.wi.gov/datasets/covid-19-historical-data-table/)"
   ]
  },
  {
   "cell_type": "code",
   "execution_count": 9,
   "metadata": {
    "execution": {
     "iopub.execute_input": "2020-12-15T10:12:48.331853Z",
     "iopub.status.busy": "2020-12-15T10:12:48.331309Z",
     "iopub.status.idle": "2020-12-15T10:12:48.334722Z",
     "shell.execute_reply": "2020-12-15T10:12:48.335132Z"
    },
    "jupyter": {
     "source_hidden": true
    },
    "papermill": {
     "duration": 0.018422,
     "end_time": "2020-12-15T10:12:48.335275",
     "exception": false,
     "start_time": "2020-12-15T10:12:48.316853",
     "status": "completed"
    },
    "tags": []
   },
   "outputs": [
    {
     "data": {
      "text/html": [
       "<style>\n",
       "div.input {\n",
       "    display:none;\n",
       "}\n",
       "</style>\n"
      ],
      "text/plain": [
       "<IPython.core.display.HTML object>"
      ]
     },
     "metadata": {},
     "output_type": "display_data"
    }
   ],
   "source": [
    "%%html\n",
    "<style>\n",
    "div.input {\n",
    "    display:none;\n",
    "}\n",
    "</style>"
   ]
  }
 ],
 "metadata": {
  "kernelspec": {
   "display_name": "Python 3",
   "language": "python",
   "name": "python3"
  },
  "language_info": {
   "codemirror_mode": {
    "name": "ipython",
    "version": 3
   },
   "file_extension": ".py",
   "mimetype": "text/x-python",
   "name": "python",
   "nbconvert_exporter": "python",
   "pygments_lexer": "ipython3",
   "version": "3.8.6"
  },
  "papermill": {
   "duration": 5.224998,
   "end_time": "2020-12-15T10:12:48.654712",
   "environment_variables": {},
   "exception": null,
   "input_path": "DunnCounty_COVID19.ipynb",
   "output_path": "DunnCounty_COVID19.ipynb",
   "parameters": {
    "Start": "True",
    "secretsPath": "/home/runner/work/_temp/secrets.json"
   },
   "start_time": "2020-12-15T10:12:43.429714",
   "version": "1.1.16"
  }
 },
 "nbformat": 4,
 "nbformat_minor": 2
}