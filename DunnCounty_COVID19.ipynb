{
 "cells": [
  {
   "cell_type": "code",
   "execution_count": 1,
   "metadata": {
    "execution": {
     "iopub.execute_input": "2020-12-09T10:12:22.257849Z",
     "iopub.status.busy": "2020-12-09T10:12:22.257294Z",
     "iopub.status.idle": "2020-12-09T10:12:25.421322Z",
     "shell.execute_reply": "2020-12-09T10:12:25.420737Z"
    },
    "jupyter": {
     "source_hidden": true
    },
    "papermill": {
     "duration": 3.178015,
     "end_time": "2020-12-09T10:12:25.421499",
     "exception": false,
     "start_time": "2020-12-09T10:12:22.243484",
     "status": "completed"
    },
    "scrolled": true,
    "tags": [
     "hide-input"
    ]
   },
   "outputs": [],
   "source": [
    "import pandas as pd\n",
    "import matplotlib.pyplot as plt\n",
    "from matplotlib import dates\n",
    "from IPython.display import display, Markdown\n",
    "%matplotlib inline"
   ]
  },
  {
   "cell_type": "code",
   "execution_count": 2,
   "metadata": {
    "execution": {
     "iopub.execute_input": "2020-12-09T10:12:25.443748Z",
     "iopub.status.busy": "2020-12-09T10:12:25.443195Z",
     "iopub.status.idle": "2020-12-09T10:12:26.149899Z",
     "shell.execute_reply": "2020-12-09T10:12:26.149081Z"
    },
    "jupyter": {
     "source_hidden": true
    },
    "papermill": {
     "duration": 0.721278,
     "end_time": "2020-12-09T10:12:26.150116",
     "exception": false,
     "start_time": "2020-12-09T10:12:25.428838",
     "status": "completed"
    },
    "scrolled": true,
    "tags": [
     "hide-input"
    ]
   },
   "outputs": [],
   "source": [
    "# This is the data for all of Wisconsin.\n",
    "url = \"https://opendata.arcgis.com/datasets/5374188992374b318d3e2305216ee413_12.csv\"\n",
    "data = pd.read_csv(url, parse_dates=['DATE'], low_memory=False)"
   ]
  },
  {
   "cell_type": "code",
   "execution_count": 3,
   "metadata": {
    "execution": {
     "iopub.execute_input": "2020-12-09T10:12:26.173143Z",
     "iopub.status.busy": "2020-12-09T10:12:26.172567Z",
     "iopub.status.idle": "2020-12-09T10:12:26.180984Z",
     "shell.execute_reply": "2020-12-09T10:12:26.181389Z"
    },
    "jupyter": {
     "source_hidden": true
    },
    "papermill": {
     "duration": 0.022713,
     "end_time": "2020-12-09T10:12:26.181600",
     "exception": false,
     "start_time": "2020-12-09T10:12:26.158887",
     "status": "completed"
    },
    "scrolled": true,
    "tags": [
     "hide-input"
    ]
   },
   "outputs": [],
   "source": [
    "dc = data.groupby('NAME').get_group('Dunn').sort_values(by='DATE') # Select the data for Dunn County from the full data.\n",
    "PNi = dc.columns.get_loc(\"POS_NEW\")\n",
    "dc['7_DAY'] = dc.iloc[:,PNi].rolling(window=7).mean() # Calculates the rolling 7-day average of new cases.\n",
    "dc['14_DAY'] = dc.iloc[:,PNi].rolling(window=14).mean() # Calculates the rolling 14-day average of new cases."
   ]
  },
  {
   "cell_type": "code",
   "execution_count": 4,
   "metadata": {
    "execution": {
     "iopub.execute_input": "2020-12-09T10:12:26.204496Z",
     "iopub.status.busy": "2020-12-09T10:12:26.201410Z",
     "iopub.status.idle": "2020-12-09T10:12:26.210529Z",
     "shell.execute_reply": "2020-12-09T10:12:26.209935Z"
    },
    "jupyter": {
     "source_hidden": true
    },
    "papermill": {
     "duration": 0.021918,
     "end_time": "2020-12-09T10:12:26.210756",
     "exception": false,
     "start_time": "2020-12-09T10:12:26.188838",
     "status": "completed"
    },
    "scrolled": true,
    "tags": [
     "hide-input"
    ]
   },
   "outputs": [
    {
     "data": {
      "text/markdown": [
       "### Last updated: December 08, 2020"
      ],
      "text/plain": [
       "<IPython.core.display.Markdown object>"
      ]
     },
     "metadata": {},
     "output_type": "display_data"
    }
   ],
   "source": [
    "display(Markdown('### Last updated: ' + dc.iloc[-1]['DATE'].strftime(\"%B %d, %Y\")))"
   ]
  },
  {
   "cell_type": "code",
   "execution_count": 5,
   "metadata": {
    "execution": {
     "iopub.execute_input": "2020-12-09T10:12:26.232897Z",
     "iopub.status.busy": "2020-12-09T10:12:26.232355Z",
     "iopub.status.idle": "2020-12-09T10:12:26.238072Z",
     "shell.execute_reply": "2020-12-09T10:12:26.237280Z"
    },
    "jupyter": {
     "source_hidden": true
    },
    "papermill": {
     "duration": 0.020214,
     "end_time": "2020-12-09T10:12:26.238197",
     "exception": false,
     "start_time": "2020-12-09T10:12:26.217983",
     "status": "completed"
    },
    "tags": [
     "hide-input"
    ]
   },
   "outputs": [
    {
     "data": {
      "text/markdown": [
       "# Dunn County has 3012 total positive cases, with 24 new cases reported today."
      ],
      "text/plain": [
       "<IPython.core.display.Markdown object>"
      ]
     },
     "metadata": {},
     "output_type": "display_data"
    }
   ],
   "source": [
    "display(Markdown('# Dunn County has ' + str(dc.iloc[-1]['POSITIVE']) + ' total positive cases, with '+ str(int(dc.iloc[-1]['POS_NEW'])) + ' new cases reported today.'))"
   ]
  },
  {
   "cell_type": "code",
   "execution_count": 6,
   "metadata": {
    "execution": {
     "iopub.execute_input": "2020-12-09T10:12:26.256923Z",
     "iopub.status.busy": "2020-12-09T10:12:26.256430Z",
     "iopub.status.idle": "2020-12-09T10:12:26.479653Z",
     "shell.execute_reply": "2020-12-09T10:12:26.479195Z"
    },
    "jupyter": {
     "source_hidden": true
    },
    "papermill": {
     "duration": 0.234039,
     "end_time": "2020-12-09T10:12:26.479786",
     "exception": false,
     "start_time": "2020-12-09T10:12:26.245747",
     "status": "completed"
    },
    "scrolled": false,
    "tags": [
     "hide-input"
    ]
   },
   "outputs": [
    {
     "data": {
      "image/png": "[encoded data removed]",
      "text/plain": [
       "<Figure size 864x432 with 1 Axes>"
      ]
     },
     "metadata": {
      "needs_background": "light"
     },
     "output_type": "display_data"
    }
   ],
   "source": [
    "dc.plot(x='DATE',y='POSITIVE',color='red',grid='True',figsize=(12,6)).set_xlabel('Date');"
   ]
  },
  {
   "cell_type": "markdown",
   "metadata": {
    "papermill": {
     "duration": 0.008569,
     "end_time": "2020-12-09T10:12:26.497154",
     "exception": false,
     "start_time": "2020-12-09T10:12:26.488585",
     "status": "completed"
    },
    "tags": []
   },
   "source": [
    "## Figure 1: Cummulative number of positive cases."
   ]
  },
  {
   "cell_type": "code",
   "execution_count": 7,
   "metadata": {
    "execution": {
     "iopub.execute_input": "2020-12-09T10:12:26.519437Z",
     "iopub.status.busy": "2020-12-09T10:12:26.518940Z",
     "iopub.status.idle": "2020-12-09T10:12:26.736627Z",
     "shell.execute_reply": "2020-12-09T10:12:26.738612Z"
    },
    "jupyter": {
     "source_hidden": true
    },
    "papermill": {
     "duration": 0.233125,
     "end_time": "2020-12-09T10:12:26.738862",
     "exception": false,
     "start_time": "2020-12-09T10:12:26.505737",
     "status": "completed"
    },
    "scrolled": false,
    "tags": [
     "hide-input"
    ]
   },
   "outputs": [
    {
     "data": {
      "image/png": "[encoded data removed]",
      "text/plain": [
       "<Figure size 864x432 with 1 Axes>"
      ]
     },
     "metadata": {
      "needs_background": "light"
     },
     "output_type": "display_data"
    }
   ],
   "source": [
    "dc.plot(kind='line',x='DATE',y='7_DAY',color='blue',grid='True',figsize=(12,6)).set_xlabel('Date');"
   ]
  },
  {
   "cell_type": "markdown",
   "metadata": {
    "papermill": {
     "duration": 0.010417,
     "end_time": "2020-12-09T10:12:26.760644",
     "exception": false,
     "start_time": "2020-12-09T10:12:26.750227",
     "status": "completed"
    },
    "tags": []
   },
   "source": [
    "## Figure 2: Rolling 7-day average of daily new cases."
   ]
  },
  {
   "cell_type": "code",
   "execution_count": 8,
   "metadata": {
    "execution": {
     "iopub.execute_input": "2020-12-09T10:12:26.785553Z",
     "iopub.status.busy": "2020-12-09T10:12:26.785017Z",
     "iopub.status.idle": "2020-12-09T10:12:26.996624Z",
     "shell.execute_reply": "2020-12-09T10:12:26.998096Z"
    },
    "jupyter": {
     "source_hidden": true
    },
    "papermill": {
     "duration": 0.228021,
     "end_time": "2020-12-09T10:12:26.998284",
     "exception": false,
     "start_time": "2020-12-09T10:12:26.770263",
     "status": "completed"
    },
    "tags": []
   },
   "outputs": [
    {
     "data": {
      "image/png": "[encoded data removed]",
      "text/plain": [
       "<Figure size 864x432 with 1 Axes>"
      ]
     },
     "metadata": {
      "needs_background": "light"
     },
     "output_type": "display_data"
    }
   ],
   "source": [
    "dc.plot(kind='line',x='DATE',y='14_DAY',color='green',grid='True',figsize=(12,6)).set_xlabel('Date');"
   ]
  },
  {
   "cell_type": "markdown",
   "metadata": {
    "papermill": {
     "duration": 0.010589,
     "end_time": "2020-12-09T10:12:27.020623",
     "exception": false,
     "start_time": "2020-12-09T10:12:27.010034",
     "status": "completed"
    },
    "tags": []
   },
   "source": [
    "## Figure 3: Rolling 14-day average of daily new cases."
   ]
  },
  {
   "cell_type": "markdown",
   "metadata": {
    "papermill": {
     "duration": 0.01032,
     "end_time": "2020-12-09T10:12:27.041440",
     "exception": false,
     "start_time": "2020-12-09T10:12:27.031120",
     "status": "completed"
    },
    "tags": []
   },
   "source": [
    "Data source: [Wisconsin Department of Health Services](https://data.dhsgis.wi.gov/datasets/covid-19-historical-data-table/)"
   ]
  },
  {
   "cell_type": "code",
   "execution_count": 9,
   "metadata": {
    "execution": {
     "iopub.execute_input": "2020-12-09T10:12:27.068226Z",
     "iopub.status.busy": "2020-12-09T10:12:27.067661Z",
     "iopub.status.idle": "2020-12-09T10:12:27.070538Z",
     "shell.execute_reply": "2020-12-09T10:12:27.070067Z"
    },
    "jupyter": {
     "source_hidden": true
    },
    "papermill": {
     "duration": 0.018716,
     "end_time": "2020-12-09T10:12:27.070659",
     "exception": false,
     "start_time": "2020-12-09T10:12:27.051943",
     "status": "completed"
    },
    "tags": []
   },
   "outputs": [
    {
     "data": {
      "text/html": [
       "<style>\n",
       "div.input {\n",
       "    display:none;\n",
       "}\n",
       "</style>\n"
      ],
      "text/plain": [
       "<IPython.core.display.HTML object>"
      ]
     },
     "metadata": {},
     "output_type": "display_data"
    }
   ],
   "source": [
    "%%html\n",
    "<style>\n",
    "div.input {\n",
    "    display:none;\n",
    "}\n",
    "</style>"
   ]
  }
 ],
 "metadata": {
  "kernelspec": {
   "display_name": "Python 3",
   "language": "python",
   "name": "python3"
  },
  "language_info": {
   "codemirror_mode": {
    "name": "ipython",
    "version": 3
   },
   "file_extension": ".py",
   "mimetype": "text/x-python",
   "name": "python",
   "nbconvert_exporter": "python",
   "pygments_lexer": "ipython3",
   "version": "3.8.6"
  },
  "papermill": {
   "duration": 6.579813,
   "end_time": "2020-12-09T10:12:27.388604",
   "environment_variables": {},
   "exception": null,
   "input_path": "DunnCounty_COVID19.ipynb",
   "output_path": "DunnCounty_COVID19.ipynb",
   "parameters": {
    "Start": "True",
    "secretsPath": "/home/runner/work/_temp/secrets.json"
   },
   "start_time": "2020-12-09T10:12:20.808791",
   "version": "1.1.16"
  }
 },
 "nbformat": 4,
 "nbformat_minor": 2
}