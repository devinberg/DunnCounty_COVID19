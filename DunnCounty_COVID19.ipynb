{
 "cells": [
  {
   "cell_type": "code",
   "execution_count": 1,
   "metadata": {
    "execution": {
     "iopub.execute_input": "2020-12-30T22:18:17.802832Z",
     "iopub.status.busy": "2020-12-30T22:18:17.802331Z",
     "iopub.status.idle": "2020-12-30T22:18:18.770112Z",
     "shell.execute_reply": "2020-12-30T22:18:18.769070Z"
    },
    "jupyter": {
     "source_hidden": true
    },
    "papermill": {
     "duration": 0.988823,
     "end_time": "2020-12-30T22:18:18.770285",
     "exception": false,
     "start_time": "2020-12-30T22:18:17.781462",
     "status": "completed"
    },
    "scrolled": true,
    "tags": [
     "hide-input"
    ]
   },
   "outputs": [],
   "source": [
    "import pandas as pd\n",
    "import matplotlib.pyplot as plt\n",
    "from matplotlib import dates\n",
    "from IPython.display import display, Markdown\n",
    "%matplotlib inline"
   ]
  },
  {
   "cell_type": "code",
   "execution_count": 2,
   "metadata": {
    "execution": {
     "iopub.execute_input": "2020-12-30T22:18:18.785766Z",
     "iopub.status.busy": "2020-12-30T22:18:18.785365Z",
     "iopub.status.idle": "2020-12-30T22:18:19.434122Z",
     "shell.execute_reply": "2020-12-30T22:18:19.433300Z"
    },
    "jupyter": {
     "source_hidden": true
    },
    "papermill": {
     "duration": 0.658648,
     "end_time": "2020-12-30T22:18:19.434336",
     "exception": false,
     "start_time": "2020-12-30T22:18:18.775688",
     "status": "completed"
    },
    "scrolled": true,
    "tags": [
     "hide-input"
    ]
   },
   "outputs": [],
   "source": [
    "# This is the data for all of Wisconsin.\n",
    "url = \"https://opendata.arcgis.com/datasets/5374188992374b318d3e2305216ee413_12.csv\"\n",
    "data = pd.read_csv(url, parse_dates=['DATE'], low_memory=False)"
   ]
  },
  {
   "cell_type": "code",
   "execution_count": 3,
   "metadata": {
    "execution": {
     "iopub.execute_input": "2020-12-30T22:18:19.456334Z",
     "iopub.status.busy": "2020-12-30T22:18:19.455823Z",
     "iopub.status.idle": "2020-12-30T22:18:19.463149Z",
     "shell.execute_reply": "2020-12-30T22:18:19.462694Z"
    },
    "jupyter": {
     "source_hidden": true
    },
    "papermill": {
     "duration": 0.019491,
     "end_time": "2020-12-30T22:18:19.463286",
     "exception": false,
     "start_time": "2020-12-30T22:18:19.443795",
     "status": "completed"
    },
    "scrolled": true,
    "tags": [
     "hide-input"
    ]
   },
   "outputs": [],
   "source": [
    "dc = data.groupby('NAME').get_group('Dunn').sort_values(by='DATE') # Select the data for Dunn County from the full data.\n",
    "PNi = dc.columns.get_loc(\"POS_NEW\")\n",
    "dc['7_DAY'] = dc.iloc[:,PNi].rolling(window=7).mean() # Calculates the rolling 7-day average of new cases.\n",
    "dc['14_DAY'] = dc.iloc[:,PNi].rolling(window=14).mean() # Calculates the rolling 14-day average of new cases."
   ]
  },
  {
   "cell_type": "code",
   "execution_count": 4,
   "metadata": {
    "execution": {
     "iopub.execute_input": "2020-12-30T22:18:19.483723Z",
     "iopub.status.busy": "2020-12-30T22:18:19.483142Z",
     "iopub.status.idle": "2020-12-30T22:18:19.485828Z",
     "shell.execute_reply": "2020-12-30T22:18:19.486227Z"
    },
    "jupyter": {
     "source_hidden": true
    },
    "papermill": {
     "duration": 0.015549,
     "end_time": "2020-12-30T22:18:19.486367",
     "exception": false,
     "start_time": "2020-12-30T22:18:19.470818",
     "status": "completed"
    },
    "scrolled": true,
    "tags": [
     "hide-input"
    ]
   },
   "outputs": [
    {
     "data": {
      "text/markdown": [
       "### Last updated: December 30, 2020"
      ],
      "text/plain": [
       "<IPython.core.display.Markdown object>"
      ]
     },
     "metadata": {},
     "output_type": "display_data"
    }
   ],
   "source": [
    "display(Markdown('### Last updated: ' + dc.iloc[-1]['DATE'].strftime(\"%B %d, %Y\")))"
   ]
  },
  {
   "cell_type": "code",
   "execution_count": 5,
   "metadata": {
    "execution": {
     "iopub.execute_input": "2020-12-30T22:18:19.505827Z",
     "iopub.status.busy": "2020-12-30T22:18:19.505169Z",
     "iopub.status.idle": "2020-12-30T22:18:19.507515Z",
     "shell.execute_reply": "2020-12-30T22:18:19.508057Z"
    },
    "jupyter": {
     "source_hidden": true
    },
    "papermill": {
     "duration": 0.014766,
     "end_time": "2020-12-30T22:18:19.508211",
     "exception": false,
     "start_time": "2020-12-30T22:18:19.493445",
     "status": "completed"
    },
    "tags": [
     "hide-input"
    ]
   },
   "outputs": [
    {
     "data": {
      "text/markdown": [
       "# Dunn County has 3488 total positive cases, with 42 new cases reported today."
      ],
      "text/plain": [
       "<IPython.core.display.Markdown object>"
      ]
     },
     "metadata": {},
     "output_type": "display_data"
    }
   ],
   "source": [
    "display(Markdown('# Dunn County has ' + str(dc.iloc[-1]['POSITIVE']) + ' total positive cases, with '+ str(int(dc.iloc[-1]['POS_NEW'])) + ' new cases reported today.'))"
   ]
  },
  {
   "cell_type": "code",
   "execution_count": 6,
   "metadata": {
    "execution": {
     "iopub.execute_input": "2020-12-30T22:18:19.527093Z",
     "iopub.status.busy": "2020-12-30T22:18:19.526571Z",
     "iopub.status.idle": "2020-12-30T22:18:19.735558Z",
     "shell.execute_reply": "2020-12-30T22:18:19.735865Z"
    },
    "jupyter": {
     "source_hidden": true
    },
    "papermill": {
     "duration": 0.219769,
     "end_time": "2020-12-30T22:18:19.735981",
     "exception": false,
     "start_time": "2020-12-30T22:18:19.516212",
     "status": "completed"
    },
    "scrolled": false,
    "tags": [
     "hide-input"
    ]
   },
   "outputs": [
    {
     "data": {
      "image/png": "[encoded data removed]",
      "text/plain": [
       "<Figure size 864x432 with 1 Axes>"
      ]
     },
     "metadata": {
      "needs_background": "light"
     },
     "output_type": "display_data"
    }
   ],
   "source": [
    "dc.plot(x='DATE',y='POSITIVE',color='red',grid='True',figsize=(12,6)).set_xlabel('Date');"
   ]
  },
  {
   "cell_type": "markdown",
   "metadata": {
    "papermill": {
     "duration": 0.007215,
     "end_time": "2020-12-30T22:18:19.749428",
     "exception": false,
     "start_time": "2020-12-30T22:18:19.742213",
     "status": "completed"
    },
    "tags": []
   },
   "source": [
    "## Figure 1: Cummulative number of positive cases."
   ]
  },
  {
   "cell_type": "code",
   "execution_count": 7,
   "metadata": {
    "execution": {
     "iopub.execute_input": "2020-12-30T22:18:19.785190Z",
     "iopub.status.busy": "2020-12-30T22:18:19.784805Z",
     "iopub.status.idle": "2020-12-30T22:18:19.943860Z",
     "shell.execute_reply": "2020-12-30T22:18:19.943446Z"
    },
    "jupyter": {
     "source_hidden": true
    },
    "papermill": {
     "duration": 0.188141,
     "end_time": "2020-12-30T22:18:19.943957",
     "exception": false,
     "start_time": "2020-12-30T22:18:19.755816",
     "status": "completed"
    },
    "scrolled": false,
    "tags": [
     "hide-input"
    ]
   },
   "outputs": [
    {
     "data": {
      "image/png": "[encoded data removed]",
      "text/plain": [
       "<Figure size 864x432 with 1 Axes>"
      ]
     },
     "metadata": {
      "needs_background": "light"
     },
     "output_type": "display_data"
    }
   ],
   "source": [
    "dc.plot(kind='line',x='DATE',y='7_DAY',color='blue',grid='True',figsize=(12,6)).set_xlabel('Date');"
   ]
  },
  {
   "cell_type": "markdown",
   "metadata": {
    "papermill": {
     "duration": 0.007185,
     "end_time": "2020-12-30T22:18:19.958562",
     "exception": false,
     "start_time": "2020-12-30T22:18:19.951377",
     "status": "completed"
    },
    "tags": []
   },
   "source": [
    "## Figure 2: Rolling 7-day average of daily new cases."
   ]
  },
  {
   "cell_type": "code",
   "execution_count": 8,
   "metadata": {
    "execution": {
     "iopub.execute_input": "2020-12-30T22:18:19.978225Z",
     "iopub.status.busy": "2020-12-30T22:18:19.977809Z",
     "iopub.status.idle": "2020-12-30T22:18:20.150316Z",
     "shell.execute_reply": "2020-12-30T22:18:20.149978Z"
    },
    "jupyter": {
     "source_hidden": true
    },
    "papermill": {
     "duration": 0.184358,
     "end_time": "2020-12-30T22:18:20.150400",
     "exception": false,
     "start_time": "2020-12-30T22:18:19.966042",
     "status": "completed"
    },
    "tags": []
   },
   "outputs": [
    {
     "data": {
      "image/png": "[encoded data removed]",
      "text/plain": [
       "<Figure size 864x432 with 1 Axes>"
      ]
     },
     "metadata": {
      "needs_background": "light"
     },
     "output_type": "display_data"
    }
   ],
   "source": [
    "dc.plot(kind='line',x='DATE',y='14_DAY',color='green',grid='True',figsize=(12,6)).set_xlabel('Date');"
   ]
  },
  {
   "cell_type": "markdown",
   "metadata": {
    "papermill": {
     "duration": 0.008437,
     "end_time": "2020-12-30T22:18:20.167301",
     "exception": false,
     "start_time": "2020-12-30T22:18:20.158864",
     "status": "completed"
    },
    "tags": []
   },
   "source": [
    "## Figure 3: Rolling 14-day average of daily new cases."
   ]
  },
  {
   "cell_type": "markdown",
   "metadata": {
    "papermill": {
     "duration": 0.008329,
     "end_time": "2020-12-30T22:18:20.183683",
     "exception": false,
     "start_time": "2020-12-30T22:18:20.175354",
     "status": "completed"
    },
    "tags": []
   },
   "source": [
    "Data source: [Wisconsin Department of Health Services](https://data.dhsgis.wi.gov/datasets/covid-19-historical-data-table/)"
   ]
  },
  {
   "cell_type": "code",
   "execution_count": 9,
   "metadata": {
    "execution": {
     "iopub.execute_input": "2020-12-30T22:18:20.206082Z",
     "iopub.status.busy": "2020-12-30T22:18:20.205263Z",
     "iopub.status.idle": "2020-12-30T22:18:20.211312Z",
     "shell.execute_reply": "2020-12-30T22:18:20.210823Z"
    },
    "jupyter": {
     "source_hidden": true
    },
    "papermill": {
     "duration": 0.019772,
     "end_time": "2020-12-30T22:18:20.211426",
     "exception": false,
     "start_time": "2020-12-30T22:18:20.191654",
     "status": "completed"
    },
    "tags": []
   },
   "outputs": [
    {
     "data": {
      "text/html": [
       "<style>\n",
       "div.input {\n",
       "    display:none;\n",
       "}\n",
       "</style>\n"
      ],
      "text/plain": [
       "<IPython.core.display.HTML object>"
      ]
     },
     "metadata": {},
     "output_type": "display_data"
    }
   ],
   "source": [
    "%%html\n",
    "<style>\n",
    "div.input {\n",
    "    display:none;\n",
    "}\n",
    "</style>"
   ]
  }
 ],
 "metadata": {
  "kernelspec": {
   "display_name": "Python 3",
   "language": "python",
   "name": "python3"
  },
  "language_info": {
   "codemirror_mode": {
    "name": "ipython",
    "version": 3
   },
   "file_extension": ".py",
   "mimetype": "text/x-python",
   "name": "python",
   "nbconvert_exporter": "python",
   "pygments_lexer": "ipython3",
   "version": "3.8.6"
  },
  "papermill": {
   "duration": 3.850998,
   "end_time": "2020-12-30T22:18:20.526601",
   "environment_variables": {},
   "exception": null,
   "input_path": "DunnCounty_COVID19.ipynb",
   "output_path": "DunnCounty_COVID19.ipynb",
   "parameters": {
    "Start": "True",
    "secretsPath": "/home/runner/work/_temp/secrets.json"
   },
   "start_time": "2020-12-30T22:18:16.675603",
   "version": "1.1.16"
  }
 },
 "nbformat": 4,
 "nbformat_minor": 2
}