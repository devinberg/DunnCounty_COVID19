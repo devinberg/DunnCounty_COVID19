{
 "cells": [
  {
   "cell_type": "code",
   "execution_count": 1,
   "id": "solar-understanding",
   "metadata": {
    "execution": {
     "iopub.execute_input": "2021-03-28T10:15:59.083118Z",
     "iopub.status.busy": "2021-03-28T10:15:59.082501Z",
     "iopub.status.idle": "2021-03-28T10:16:00.959215Z",
     "shell.execute_reply": "2021-03-28T10:16:00.958253Z"
    },
    "jupyter": {
     "source_hidden": true
    },
    "papermill": {
     "duration": 1.895865,
     "end_time": "2021-03-28T10:16:00.959385",
     "exception": false,
     "start_time": "2021-03-28T10:15:59.063520",
     "status": "completed"
    },
    "scrolled": true,
    "tags": [
     "hide-input"
    ]
   },
   "outputs": [],
   "source": [
    "import pandas as pd\n",
    "import matplotlib.pyplot as plt\n",
    "from matplotlib import dates\n",
    "from IPython.display import display, Markdown\n",
    "%matplotlib inline"
   ]
  },
  {
   "cell_type": "code",
   "execution_count": 2,
   "id": "purple-playlist",
   "metadata": {
    "execution": {
     "iopub.execute_input": "2021-03-28T10:16:00.997506Z",
     "iopub.status.busy": "2021-03-28T10:16:00.996912Z",
     "iopub.status.idle": "2021-03-28T10:16:01.704745Z",
     "shell.execute_reply": "2021-03-28T10:16:01.704215Z"
    },
    "jupyter": {
     "source_hidden": true
    },
    "papermill": {
     "duration": 0.725181,
     "end_time": "2021-03-28T10:16:01.704885",
     "exception": false,
     "start_time": "2021-03-28T10:16:00.979704",
     "status": "completed"
    },
    "scrolled": true,
    "tags": [
     "hide-input"
    ]
   },
   "outputs": [],
   "source": [
    "# This is the data for all of Wisconsin.\n",
    "url = \"https://opendata.arcgis.com/datasets/5374188992374b318d3e2305216ee413_12.csv\"\n",
    "data = pd.read_csv(url, parse_dates=['DATE'], low_memory=False)"
   ]
  },
  {
   "cell_type": "code",
   "execution_count": 3,
   "id": "proprietary-klein",
   "metadata": {
    "execution": {
     "iopub.execute_input": "2021-03-28T10:16:01.732499Z",
     "iopub.status.busy": "2021-03-28T10:16:01.731921Z",
     "iopub.status.idle": "2021-03-28T10:16:01.740995Z",
     "shell.execute_reply": "2021-03-28T10:16:01.740415Z"
    },
    "jupyter": {
     "source_hidden": true
    },
    "papermill": {
     "duration": 0.025325,
     "end_time": "2021-03-28T10:16:01.741116",
     "exception": false,
     "start_time": "2021-03-28T10:16:01.715791",
     "status": "completed"
    },
    "scrolled": true,
    "tags": [
     "hide-input"
    ]
   },
   "outputs": [],
   "source": [
    "dc = data.groupby('NAME').get_group('Dunn').sort_values(by='DATE') # Select the data for Dunn County from the full data.\n",
    "PNi = dc.columns.get_loc(\"POS_NEW\")\n",
    "dc['7_DAY'] = dc.iloc[:,PNi].rolling(window=7).mean() # Calculates the rolling 7-day average of new cases.\n",
    "dc['14_DAY'] = dc.iloc[:,PNi].rolling(window=14).mean() # Calculates the rolling 14-day average of new cases."
   ]
  },
  {
   "cell_type": "code",
   "execution_count": 4,
   "id": "steady-supervision",
   "metadata": {
    "execution": {
     "iopub.execute_input": "2021-03-28T10:16:01.765203Z",
     "iopub.status.busy": "2021-03-28T10:16:01.762818Z",
     "iopub.status.idle": "2021-03-28T10:16:01.768029Z",
     "shell.execute_reply": "2021-03-28T10:16:01.768503Z"
    },
    "jupyter": {
     "source_hidden": true
    },
    "papermill": {
     "duration": 0.01814,
     "end_time": "2021-03-28T10:16:01.768641",
     "exception": false,
     "start_time": "2021-03-28T10:16:01.750501",
     "status": "completed"
    },
    "scrolled": true,
    "tags": [
     "hide-input"
    ]
   },
   "outputs": [
    {
     "data": {
      "text/markdown": [
       "### Last updated: March 27, 2021"
      ],
      "text/plain": [
       "<IPython.core.display.Markdown object>"
      ]
     },
     "metadata": {},
     "output_type": "display_data"
    }
   ],
   "source": [
    "display(Markdown('### Last updated: ' + dc.iloc[-1]['DATE'].strftime(\"%B %d, %Y\")))"
   ]
  },
  {
   "cell_type": "code",
   "execution_count": 5,
   "id": "lonely-pitch",
   "metadata": {
    "execution": {
     "iopub.execute_input": "2021-03-28T10:16:01.792741Z",
     "iopub.status.busy": "2021-03-28T10:16:01.792170Z",
     "iopub.status.idle": "2021-03-28T10:16:01.795547Z",
     "shell.execute_reply": "2021-03-28T10:16:01.794950Z"
    },
    "jupyter": {
     "source_hidden": true
    },
    "papermill": {
     "duration": 0.01715,
     "end_time": "2021-03-28T10:16:01.795663",
     "exception": false,
     "start_time": "2021-03-28T10:16:01.778513",
     "status": "completed"
    },
    "tags": [
     "hide-input"
    ]
   },
   "outputs": [
    {
     "data": {
      "text/markdown": [
       "# Dunn County has 4358 total positive cases, with 3 new cases reported today."
      ],
      "text/plain": [
       "<IPython.core.display.Markdown object>"
      ]
     },
     "metadata": {},
     "output_type": "display_data"
    }
   ],
   "source": [
    "display(Markdown('# Dunn County has ' + str(dc.iloc[-1]['POSITIVE']) + ' total positive cases, with '+ str(int(dc.iloc[-1]['POS_NEW'])) + ' new cases reported today.'))"
   ]
  },
  {
   "cell_type": "code",
   "execution_count": 6,
   "id": "compound-nightmare",
   "metadata": {
    "execution": {
     "iopub.execute_input": "2021-03-28T10:16:01.820841Z",
     "iopub.status.busy": "2021-03-28T10:16:01.820203Z",
     "iopub.status.idle": "2021-03-28T10:16:02.079632Z",
     "shell.execute_reply": "2021-03-28T10:16:02.080107Z"
    },
    "jupyter": {
     "source_hidden": true
    },
    "papermill": {
     "duration": 0.274344,
     "end_time": "2021-03-28T10:16:02.080270",
     "exception": false,
     "start_time": "2021-03-28T10:16:01.805926",
     "status": "completed"
    },
    "scrolled": false,
    "tags": [
     "hide-input"
    ]
   },
   "outputs": [
    {
     "data": {
      "image/png": "[encoded data removed]",
      "text/plain": [
       "<Figure size 864x432 with 1 Axes>"
      ]
     },
     "metadata": {
      "needs_background": "light"
     },
     "output_type": "display_data"
    }
   ],
   "source": [
    "dc.plot(x='DATE',y='POSITIVE',color='red',grid='True',figsize=(12,6)).set_xlabel('Date');"
   ]
  },
  {
   "cell_type": "markdown",
   "id": "coupled-literacy",
   "metadata": {
    "papermill": {
     "duration": 0.010667,
     "end_time": "2021-03-28T10:16:02.102493",
     "exception": false,
     "start_time": "2021-03-28T10:16:02.091826",
     "status": "completed"
    },
    "tags": []
   },
   "source": [
    "## Figure 1: Cummulative number of positive cases."
   ]
  },
  {
   "cell_type": "code",
   "execution_count": 7,
   "id": "surrounded-reserve",
   "metadata": {
    "execution": {
     "iopub.execute_input": "2021-03-28T10:16:02.129125Z",
     "iopub.status.busy": "2021-03-28T10:16:02.128330Z",
     "iopub.status.idle": "2021-03-28T10:16:02.336143Z",
     "shell.execute_reply": "2021-03-28T10:16:02.335648Z"
    },
    "jupyter": {
     "source_hidden": true
    },
    "papermill": {
     "duration": 0.223214,
     "end_time": "2021-03-28T10:16:02.336280",
     "exception": false,
     "start_time": "2021-03-28T10:16:02.113066",
     "status": "completed"
    },
    "scrolled": false,
    "tags": [
     "hide-input"
    ]
   },
   "outputs": [
    {
     "data": {
      "image/png": "[encoded data removed]",
      "text/plain": [
       "<Figure size 864x432 with 1 Axes>"
      ]
     },
     "metadata": {
      "needs_background": "light"
     },
     "output_type": "display_data"
    }
   ],
   "source": [
    "dc.plot(kind='line',x='DATE',y='7_DAY',color='blue',grid='True',figsize=(12,6)).set_xlabel('Date');"
   ]
  },
  {
   "cell_type": "markdown",
   "id": "professional-savannah",
   "metadata": {
    "papermill": {
     "duration": 0.011883,
     "end_time": "2021-03-28T10:16:02.362175",
     "exception": false,
     "start_time": "2021-03-28T10:16:02.350292",
     "status": "completed"
    },
    "tags": []
   },
   "source": [
    "## Figure 2: Rolling 7-day average of daily new cases."
   ]
  },
  {
   "cell_type": "code",
   "execution_count": 8,
   "id": "stretch-investor",
   "metadata": {
    "execution": {
     "iopub.execute_input": "2021-03-28T10:16:02.391301Z",
     "iopub.status.busy": "2021-03-28T10:16:02.390686Z",
     "iopub.status.idle": "2021-03-28T10:16:02.599037Z",
     "shell.execute_reply": "2021-03-28T10:16:02.598516Z"
    },
    "jupyter": {
     "source_hidden": true
    },
    "papermill": {
     "duration": 0.224905,
     "end_time": "2021-03-28T10:16:02.599179",
     "exception": false,
     "start_time": "2021-03-28T10:16:02.374274",
     "status": "completed"
    },
    "tags": []
   },
   "outputs": [
    {
     "data": {
      "image/png": "[encoded data removed]",
      "text/plain": [
       "<Figure size 864x432 with 1 Axes>"
      ]
     },
     "metadata": {
      "needs_background": "light"
     },
     "output_type": "display_data"
    }
   ],
   "source": [
    "dc.plot(kind='line',x='DATE',y='14_DAY',color='green',grid='True',figsize=(12,6)).set_xlabel('Date');"
   ]
  },
  {
   "cell_type": "markdown",
   "id": "prerequisite-species",
   "metadata": {
    "papermill": {
     "duration": 0.01515,
     "end_time": "2021-03-28T10:16:02.627641",
     "exception": false,
     "start_time": "2021-03-28T10:16:02.612491",
     "status": "completed"
    },
    "tags": []
   },
   "source": [
    "## Figure 3: Rolling 14-day average of daily new cases."
   ]
  },
  {
   "cell_type": "markdown",
   "id": "palestinian-guard",
   "metadata": {
    "papermill": {
     "duration": 0.012621,
     "end_time": "2021-03-28T10:16:02.653704",
     "exception": false,
     "start_time": "2021-03-28T10:16:02.641083",
     "status": "completed"
    },
    "tags": []
   },
   "source": [
    "Data source: [Wisconsin Department of Health Services](https://data.dhsgis.wi.gov/datasets/covid-19-historical-data-table/)"
   ]
  },
  {
   "cell_type": "code",
   "execution_count": 9,
   "id": "proof-medicare",
   "metadata": {
    "execution": {
     "iopub.execute_input": "2021-03-28T10:16:02.684323Z",
     "iopub.status.busy": "2021-03-28T10:16:02.683734Z",
     "iopub.status.idle": "2021-03-28T10:16:02.687011Z",
     "shell.execute_reply": "2021-03-28T10:16:02.686489Z"
    },
    "jupyter": {
     "source_hidden": true
    },
    "papermill": {
     "duration": 0.020732,
     "end_time": "2021-03-28T10:16:02.687134",
     "exception": false,
     "start_time": "2021-03-28T10:16:02.666402",
     "status": "completed"
    },
    "tags": []
   },
   "outputs": [
    {
     "data": {
      "text/html": [
       "<style>\n",
       "div.input {\n",
       "    display:none;\n",
       "}\n",
       "</style>\n"
      ],
      "text/plain": [
       "<IPython.core.display.HTML object>"
      ]
     },
     "metadata": {},
     "output_type": "display_data"
    }
   ],
   "source": [
    "%%html\n",
    "<style>\n",
    "div.input {\n",
    "    display:none;\n",
    "}\n",
    "</style>"
   ]
  }
 ],
 "metadata": {
  "kernelspec": {
   "display_name": "Python 3",
   "language": "python",
   "name": "python3"
  },
  "language_info": {
   "codemirror_mode": {
    "name": "ipython",
    "version": 3
   },
   "file_extension": ".py",
   "mimetype": "text/x-python",
   "name": "python",
   "nbconvert_exporter": "python",
   "pygments_lexer": "ipython3",
   "version": "3.8.8"
  },
  "papermill": {
   "duration": 5.351964,
   "end_time": "2021-03-28T10:16:03.006777",
   "environment_variables": {},
   "exception": null,
   "input_path": "DunnCounty_COVID19.ipynb",
   "output_path": "DunnCounty_COVID19.ipynb",
   "parameters": {
    "Start": "True",
    "secretsPath": "/home/runner/work/_temp/secrets.json"
   },
   "start_time": "2021-03-28T10:15:57.654813",
   "version": "1.1.16"
  }
 },
 "nbformat": 4,
 "nbformat_minor": 5
}