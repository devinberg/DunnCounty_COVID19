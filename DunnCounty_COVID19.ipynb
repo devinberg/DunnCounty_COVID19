{
 "cells": [
  {
   "cell_type": "code",
   "execution_count": 1,
   "id": "solar-understanding",
   "metadata": {
    "execution": {
     "iopub.execute_input": "2021-03-31T22:17:43.743128Z",
     "iopub.status.busy": "2021-03-31T22:17:43.742566Z",
     "iopub.status.idle": "2021-03-31T22:17:44.640768Z",
     "shell.execute_reply": "2021-03-31T22:17:44.639809Z"
    },
    "jupyter": {
     "source_hidden": true
    },
    "papermill": {
     "duration": 0.91761,
     "end_time": "2021-03-31T22:17:44.641002",
     "exception": false,
     "start_time": "2021-03-31T22:17:43.723392",
     "status": "completed"
    },
    "scrolled": true,
    "tags": [
     "hide-input"
    ]
   },
   "outputs": [],
   "source": [
    "import pandas as pd\n",
    "import matplotlib.pyplot as plt\n",
    "from matplotlib import dates\n",
    "from IPython.display import display, Markdown\n",
    "%matplotlib inline"
   ]
  },
  {
   "cell_type": "code",
   "execution_count": 2,
   "id": "purple-playlist",
   "metadata": {
    "execution": {
     "iopub.execute_input": "2021-03-31T22:17:44.666895Z",
     "iopub.status.busy": "2021-03-31T22:17:44.666235Z",
     "iopub.status.idle": "2021-03-31T22:17:45.551004Z",
     "shell.execute_reply": "2021-03-31T22:17:45.549974Z"
    },
    "jupyter": {
     "source_hidden": true
    },
    "papermill": {
     "duration": 0.900301,
     "end_time": "2021-03-31T22:17:45.551142",
     "exception": false,
     "start_time": "2021-03-31T22:17:44.650841",
     "status": "completed"
    },
    "scrolled": true,
    "tags": [
     "hide-input"
    ]
   },
   "outputs": [],
   "source": [
    "# This is the data for all of Wisconsin.\n",
    "url = \"https://opendata.arcgis.com/datasets/5374188992374b318d3e2305216ee413_12.csv\"\n",
    "data = pd.read_csv(url, parse_dates=['DATE'], low_memory=False)"
   ]
  },
  {
   "cell_type": "code",
   "execution_count": 3,
   "id": "proprietary-klein",
   "metadata": {
    "execution": {
     "iopub.execute_input": "2021-03-31T22:17:45.576021Z",
     "iopub.status.busy": "2021-03-31T22:17:45.575467Z",
     "iopub.status.idle": "2021-03-31T22:17:45.585491Z",
     "shell.execute_reply": "2021-03-31T22:17:45.584778Z"
    },
    "jupyter": {
     "source_hidden": true
    },
    "papermill": {
     "duration": 0.02534,
     "end_time": "2021-03-31T22:17:45.585623",
     "exception": false,
     "start_time": "2021-03-31T22:17:45.560283",
     "status": "completed"
    },
    "scrolled": true,
    "tags": [
     "hide-input"
    ]
   },
   "outputs": [],
   "source": [
    "dc = data.groupby('NAME').get_group('Dunn').sort_values(by='DATE') # Select the data for Dunn County from the full data.\n",
    "PNi = dc.columns.get_loc(\"POS_NEW\")\n",
    "dc['7_DAY'] = dc.iloc[:,PNi].rolling(window=7).mean() # Calculates the rolling 7-day average of new cases.\n",
    "dc['14_DAY'] = dc.iloc[:,PNi].rolling(window=14).mean() # Calculates the rolling 14-day average of new cases."
   ]
  },
  {
   "cell_type": "code",
   "execution_count": 4,
   "id": "steady-supervision",
   "metadata": {
    "execution": {
     "iopub.execute_input": "2021-03-31T22:17:45.611217Z",
     "iopub.status.busy": "2021-03-31T22:17:45.610646Z",
     "iopub.status.idle": "2021-03-31T22:17:45.613406Z",
     "shell.execute_reply": "2021-03-31T22:17:45.613948Z"
    },
    "jupyter": {
     "source_hidden": true
    },
    "papermill": {
     "duration": 0.01973,
     "end_time": "2021-03-31T22:17:45.614101",
     "exception": false,
     "start_time": "2021-03-31T22:17:45.594371",
     "status": "completed"
    },
    "scrolled": true,
    "tags": [
     "hide-input"
    ]
   },
   "outputs": [
    {
     "data": {
      "text/markdown": [
       "### Last updated: March 31, 2021"
      ],
      "text/plain": [
       "<IPython.core.display.Markdown object>"
      ]
     },
     "metadata": {},
     "output_type": "display_data"
    }
   ],
   "source": [
    "display(Markdown('### Last updated: ' + dc.iloc[-1]['DATE'].strftime(\"%B %d, %Y\")))"
   ]
  },
  {
   "cell_type": "code",
   "execution_count": 5,
   "id": "lonely-pitch",
   "metadata": {
    "execution": {
     "iopub.execute_input": "2021-03-31T22:17:45.639066Z",
     "iopub.status.busy": "2021-03-31T22:17:45.638539Z",
     "iopub.status.idle": "2021-03-31T22:17:45.642482Z",
     "shell.execute_reply": "2021-03-31T22:17:45.642040Z"
    },
    "jupyter": {
     "source_hidden": true
    },
    "papermill": {
     "duration": 0.019056,
     "end_time": "2021-03-31T22:17:45.642601",
     "exception": false,
     "start_time": "2021-03-31T22:17:45.623545",
     "status": "completed"
    },
    "tags": [
     "hide-input"
    ]
   },
   "outputs": [
    {
     "data": {
      "text/markdown": [
       "# Dunn County has 4394 total positive cases, with 11 new cases reported today."
      ],
      "text/plain": [
       "<IPython.core.display.Markdown object>"
      ]
     },
     "metadata": {},
     "output_type": "display_data"
    }
   ],
   "source": [
    "display(Markdown('# Dunn County has ' + str(dc.iloc[-1]['POSITIVE']) + ' total positive cases, with '+ str(int(dc.iloc[-1]['POS_NEW'])) + ' new cases reported today.'))"
   ]
  },
  {
   "cell_type": "code",
   "execution_count": 6,
   "id": "compound-nightmare",
   "metadata": {
    "execution": {
     "iopub.execute_input": "2021-03-31T22:17:45.666941Z",
     "iopub.status.busy": "2021-03-31T22:17:45.666406Z",
     "iopub.status.idle": "2021-03-31T22:17:45.928189Z",
     "shell.execute_reply": "2021-03-31T22:17:45.928828Z"
    },
    "jupyter": {
     "source_hidden": true
    },
    "papermill": {
     "duration": 0.276463,
     "end_time": "2021-03-31T22:17:45.929013",
     "exception": false,
     "start_time": "2021-03-31T22:17:45.652550",
     "status": "completed"
    },
    "scrolled": false,
    "tags": [
     "hide-input"
    ]
   },
   "outputs": [
    {
     "data": {
      "image/png": "[encoded data removed]",
      "text/plain": [
       "<Figure size 864x432 with 1 Axes>"
      ]
     },
     "metadata": {
      "needs_background": "light"
     },
     "output_type": "display_data"
    }
   ],
   "source": [
    "dc.plot(x='DATE',y='POSITIVE',color='red',grid='True',figsize=(12,6)).set_xlabel('Date');"
   ]
  },
  {
   "cell_type": "markdown",
   "id": "coupled-literacy",
   "metadata": {
    "papermill": {
     "duration": 0.011066,
     "end_time": "2021-03-31T22:17:45.951773",
     "exception": false,
     "start_time": "2021-03-31T22:17:45.940707",
     "status": "completed"
    },
    "tags": []
   },
   "source": [
    "## Figure 1: Cummulative number of positive cases."
   ]
  },
  {
   "cell_type": "code",
   "execution_count": 7,
   "id": "surrounded-reserve",
   "metadata": {
    "execution": {
     "iopub.execute_input": "2021-03-31T22:17:45.979085Z",
     "iopub.status.busy": "2021-03-31T22:17:45.978585Z",
     "iopub.status.idle": "2021-03-31T22:17:46.172324Z",
     "shell.execute_reply": "2021-03-31T22:17:46.171856Z"
    },
    "jupyter": {
     "source_hidden": true
    },
    "papermill": {
     "duration": 0.209736,
     "end_time": "2021-03-31T22:17:46.172454",
     "exception": false,
     "start_time": "2021-03-31T22:17:45.962718",
     "status": "completed"
    },
    "scrolled": false,
    "tags": [
     "hide-input"
    ]
   },
   "outputs": [
    {
     "data": {
      "image/png": "[encoded data removed]",
      "text/plain": [
       "<Figure size 864x432 with 1 Axes>"
      ]
     },
     "metadata": {
      "needs_background": "light"
     },
     "output_type": "display_data"
    }
   ],
   "source": [
    "dc.plot(kind='line',x='DATE',y='7_DAY',color='blue',grid='True',figsize=(12,6)).set_xlabel('Date');"
   ]
  },
  {
   "cell_type": "markdown",
   "id": "professional-savannah",
   "metadata": {
    "papermill": {
     "duration": 0.012057,
     "end_time": "2021-03-31T22:17:46.196385",
     "exception": false,
     "start_time": "2021-03-31T22:17:46.184328",
     "status": "completed"
    },
    "tags": []
   },
   "source": [
    "## Figure 2: Rolling 7-day average of daily new cases."
   ]
  },
  {
   "cell_type": "code",
   "execution_count": 8,
   "id": "stretch-investor",
   "metadata": {
    "execution": {
     "iopub.execute_input": "2021-03-31T22:17:46.225022Z",
     "iopub.status.busy": "2021-03-31T22:17:46.224487Z",
     "iopub.status.idle": "2021-03-31T22:17:46.408925Z",
     "shell.execute_reply": "2021-03-31T22:17:46.409400Z"
    },
    "jupyter": {
     "source_hidden": true
    },
    "papermill": {
     "duration": 0.201787,
     "end_time": "2021-03-31T22:17:46.409566",
     "exception": false,
     "start_time": "2021-03-31T22:17:46.207779",
     "status": "completed"
    },
    "tags": []
   },
   "outputs": [
    {
     "data": {
      "image/png": "[encoded data removed]",
      "text/plain": [
       "<Figure size 864x432 with 1 Axes>"
      ]
     },
     "metadata": {
      "needs_background": "light"
     },
     "output_type": "display_data"
    }
   ],
   "source": [
    "dc.plot(kind='line',x='DATE',y='14_DAY',color='green',grid='True',figsize=(12,6)).set_xlabel('Date');"
   ]
  },
  {
   "cell_type": "markdown",
   "id": "prerequisite-species",
   "metadata": {
    "papermill": {
     "duration": 0.013861,
     "end_time": "2021-03-31T22:17:46.437248",
     "exception": false,
     "start_time": "2021-03-31T22:17:46.423387",
     "status": "completed"
    },
    "tags": []
   },
   "source": [
    "## Figure 3: Rolling 14-day average of daily new cases."
   ]
  },
  {
   "cell_type": "markdown",
   "id": "palestinian-guard",
   "metadata": {
    "papermill": {
     "duration": 0.013067,
     "end_time": "2021-03-31T22:17:46.469794",
     "exception": false,
     "start_time": "2021-03-31T22:17:46.456727",
     "status": "completed"
    },
    "tags": []
   },
   "source": [
    "Data source: [Wisconsin Department of Health Services](https://data.dhsgis.wi.gov/datasets/covid-19-historical-data-table/)"
   ]
  },
  {
   "cell_type": "code",
   "execution_count": 9,
   "id": "proof-medicare",
   "metadata": {
    "execution": {
     "iopub.execute_input": "2021-03-31T22:17:46.501588Z",
     "iopub.status.busy": "2021-03-31T22:17:46.501003Z",
     "iopub.status.idle": "2021-03-31T22:17:46.504677Z",
     "shell.execute_reply": "2021-03-31T22:17:46.504200Z"
    },
    "jupyter": {
     "source_hidden": true
    },
    "papermill": {
     "duration": 0.021006,
     "end_time": "2021-03-31T22:17:46.504795",
     "exception": false,
     "start_time": "2021-03-31T22:17:46.483789",
     "status": "completed"
    },
    "tags": []
   },
   "outputs": [
    {
     "data": {
      "text/html": [
       "<style>\n",
       "div.input {\n",
       "    display:none;\n",
       "}\n",
       "</style>\n"
      ],
      "text/plain": [
       "<IPython.core.display.HTML object>"
      ]
     },
     "metadata": {},
     "output_type": "display_data"
    }
   ],
   "source": [
    "%%html\n",
    "<style>\n",
    "div.input {\n",
    "    display:none;\n",
    "}\n",
    "</style>"
   ]
  }
 ],
 "metadata": {
  "kernelspec": {
   "display_name": "Python 3",
   "language": "python",
   "name": "python3"
  },
  "language_info": {
   "codemirror_mode": {
    "name": "ipython",
    "version": 3
   },
   "file_extension": ".py",
   "mimetype": "text/x-python",
   "name": "python",
   "nbconvert_exporter": "python",
   "pygments_lexer": "ipython3",
   "version": "3.8.8"
  },
  "papermill": {
   "duration": 4.77053,
   "end_time": "2021-03-31T22:17:46.926790",
   "environment_variables": {},
   "exception": null,
   "input_path": "DunnCounty_COVID19.ipynb",
   "output_path": "DunnCounty_COVID19.ipynb",
   "parameters": {
    "Start": "True",
    "secretsPath": "/home/runner/work/_temp/secrets.json"
   },
   "start_time": "2021-03-31T22:17:42.156260",
   "version": "1.1.16"
  }
 },
 "nbformat": 4,
 "nbformat_minor": 5
}