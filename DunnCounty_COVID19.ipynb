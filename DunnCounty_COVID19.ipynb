{
 "cells": [
  {
   "cell_type": "code",
   "execution_count": 1,
   "id": "solar-understanding",
   "metadata": {
    "execution": {
     "iopub.execute_input": "2021-07-10T22:10:58.024455Z",
     "iopub.status.busy": "2021-07-10T22:10:58.023922Z",
     "iopub.status.idle": "2021-07-10T22:11:00.003727Z",
     "shell.execute_reply": "2021-07-10T22:11:00.002863Z"
    },
    "jupyter": {
     "source_hidden": true
    },
    "papermill": {
     "duration": 1.999745,
     "end_time": "2021-07-10T22:11:00.003920",
     "exception": false,
     "start_time": "2021-07-10T22:10:58.004175",
     "status": "completed"
    },
    "scrolled": true,
    "tags": [
     "hide-input"
    ]
   },
   "outputs": [],
   "source": [
    "import pandas as pd\n",
    "import matplotlib.pyplot as plt\n",
    "from matplotlib import dates\n",
    "from IPython.display import display, Markdown\n",
    "%matplotlib inline"
   ]
  },
  {
   "cell_type": "code",
   "execution_count": 2,
   "id": "purple-playlist",
   "metadata": {
    "execution": {
     "iopub.execute_input": "2021-07-10T22:11:00.031144Z",
     "iopub.status.busy": "2021-07-10T22:11:00.030487Z",
     "iopub.status.idle": "2021-07-10T22:11:00.886185Z",
     "shell.execute_reply": "2021-07-10T22:11:00.885635Z"
    },
    "jupyter": {
     "source_hidden": true
    },
    "papermill": {
     "duration": 0.872459,
     "end_time": "2021-07-10T22:11:00.886356",
     "exception": false,
     "start_time": "2021-07-10T22:11:00.013897",
     "status": "completed"
    },
    "scrolled": true,
    "tags": [
     "hide-input"
    ]
   },
   "outputs": [],
   "source": [
    "# This is the data for all of Wisconsin.\n",
    "url = \"https://opendata.arcgis.com/api/v3/datasets/3161f6e01d8141c6abe85a29ff7f3d3c_12/downloads/data?format=csv&spatialRefId=3857\"\n",
    "data = pd.read_csv(url, parse_dates=['DATE'], low_memory=False)"
   ]
  },
  {
   "cell_type": "code",
   "execution_count": 3,
   "id": "proprietary-klein",
   "metadata": {
    "execution": {
     "iopub.execute_input": "2021-07-10T22:11:00.913012Z",
     "iopub.status.busy": "2021-07-10T22:11:00.912432Z",
     "iopub.status.idle": "2021-07-10T22:11:00.921462Z",
     "shell.execute_reply": "2021-07-10T22:11:00.920995Z"
    },
    "jupyter": {
     "source_hidden": true
    },
    "papermill": {
     "duration": 0.025407,
     "end_time": "2021-07-10T22:11:00.921576",
     "exception": false,
     "start_time": "2021-07-10T22:11:00.896169",
     "status": "completed"
    },
    "scrolled": true,
    "tags": [
     "hide-input"
    ]
   },
   "outputs": [],
   "source": [
    "dc = data.groupby('NAME').get_group('Dunn').sort_values(by='DATE') # Select the data for Dunn County from the full data.\n",
    "PNi = dc.columns.get_loc(\"POS_NEW\")\n",
    "dc['7_DAY'] = dc.iloc[:,PNi].rolling(window=7).mean() # Calculates the rolling 7-day average of new cases.\n",
    "dc['14_DAY'] = dc.iloc[:,PNi].rolling(window=14).mean() # Calculates the rolling 14-day average of new cases."
   ]
  },
  {
   "cell_type": "code",
   "execution_count": 4,
   "id": "steady-supervision",
   "metadata": {
    "execution": {
     "iopub.execute_input": "2021-07-10T22:11:00.946559Z",
     "iopub.status.busy": "2021-07-10T22:11:00.941725Z",
     "iopub.status.idle": "2021-07-10T22:11:00.949176Z",
     "shell.execute_reply": "2021-07-10T22:11:00.949635Z"
    },
    "jupyter": {
     "source_hidden": true
    },
    "papermill": {
     "duration": 0.019089,
     "end_time": "2021-07-10T22:11:00.949782",
     "exception": false,
     "start_time": "2021-07-10T22:11:00.930693",
     "status": "completed"
    },
    "scrolled": true,
    "tags": [
     "hide-input"
    ]
   },
   "outputs": [
    {
     "data": {
      "text/markdown": [
       "### Last updated: July 09, 2021"
      ],
      "text/plain": [
       "<IPython.core.display.Markdown object>"
      ]
     },
     "metadata": {},
     "output_type": "display_data"
    }
   ],
   "source": [
    "display(Markdown('### Last updated: ' + dc.iloc[-1]['DATE'].strftime(\"%B %d, %Y\")))"
   ]
  },
  {
   "cell_type": "code",
   "execution_count": 5,
   "id": "lonely-pitch",
   "metadata": {
    "execution": {
     "iopub.execute_input": "2021-07-10T22:11:00.970719Z",
     "iopub.status.busy": "2021-07-10T22:11:00.970195Z",
     "iopub.status.idle": "2021-07-10T22:11:00.975874Z",
     "shell.execute_reply": "2021-07-10T22:11:00.975434Z"
    },
    "jupyter": {
     "source_hidden": true
    },
    "papermill": {
     "duration": 0.016628,
     "end_time": "2021-07-10T22:11:00.975970",
     "exception": false,
     "start_time": "2021-07-10T22:11:00.959342",
     "status": "completed"
    },
    "tags": [
     "hide-input"
    ]
   },
   "outputs": [
    {
     "data": {
      "text/markdown": [
       "# Dunn County has 4729 total positive cases, with 1 new cases reported today."
      ],
      "text/plain": [
       "<IPython.core.display.Markdown object>"
      ]
     },
     "metadata": {},
     "output_type": "display_data"
    }
   ],
   "source": [
    "display(Markdown('# Dunn County has ' + str(dc.iloc[-1]['POSITIVE']) + ' total positive cases, with '+ str(int(dc.iloc[-1]['POS_NEW'])) + ' new cases reported today.'))"
   ]
  },
  {
   "cell_type": "code",
   "execution_count": 6,
   "id": "compound-nightmare",
   "metadata": {
    "execution": {
     "iopub.execute_input": "2021-07-10T22:11:01.001316Z",
     "iopub.status.busy": "2021-07-10T22:11:01.000645Z",
     "iopub.status.idle": "2021-07-10T22:11:01.406432Z",
     "shell.execute_reply": "2021-07-10T22:11:01.406881Z"
    },
    "jupyter": {
     "source_hidden": true
    },
    "papermill": {
     "duration": 0.420794,
     "end_time": "2021-07-10T22:11:01.407045",
     "exception": false,
     "start_time": "2021-07-10T22:11:00.986251",
     "status": "completed"
    },
    "scrolled": false,
    "tags": [
     "hide-input"
    ]
   },
   "outputs": [
    {
     "data": {
      "image/png": "[encoded data removed]",
      "text/plain": [
       "<Figure size 864x432 with 1 Axes>"
      ]
     },
     "metadata": {
      "needs_background": "light"
     },
     "output_type": "display_data"
    }
   ],
   "source": [
    "dc.plot(x='DATE',y='POSITIVE',color='red',grid='True',figsize=(12,6)).set_xlabel('Date');"
   ]
  },
  {
   "cell_type": "markdown",
   "id": "coupled-literacy",
   "metadata": {
    "papermill": {
     "duration": 0.011095,
     "end_time": "2021-07-10T22:11:01.429476",
     "exception": false,
     "start_time": "2021-07-10T22:11:01.418381",
     "status": "completed"
    },
    "tags": []
   },
   "source": [
    "## Figure 1: Cummulative number of positive cases."
   ]
  },
  {
   "cell_type": "code",
   "execution_count": 7,
   "id": "surrounded-reserve",
   "metadata": {
    "execution": {
     "iopub.execute_input": "2021-07-10T22:11:01.456746Z",
     "iopub.status.busy": "2021-07-10T22:11:01.456116Z",
     "iopub.status.idle": "2021-07-10T22:11:01.718179Z",
     "shell.execute_reply": "2021-07-10T22:11:01.717547Z"
    },
    "jupyter": {
     "source_hidden": true
    },
    "papermill": {
     "duration": 0.2782,
     "end_time": "2021-07-10T22:11:01.718347",
     "exception": false,
     "start_time": "2021-07-10T22:11:01.440147",
     "status": "completed"
    },
    "scrolled": false,
    "tags": [
     "hide-input"
    ]
   },
   "outputs": [
    {
     "data": {
      "image/png": "[encoded data removed]",
      "text/plain": [
       "<Figure size 864x432 with 1 Axes>"
      ]
     },
     "metadata": {
      "needs_background": "light"
     },
     "output_type": "display_data"
    }
   ],
   "source": [
    "dc.plot(kind='line',x='DATE',y='7_DAY',color='blue',grid='True',figsize=(12,6)).set_xlabel('Date');"
   ]
  },
  {
   "cell_type": "markdown",
   "id": "professional-savannah",
   "metadata": {
    "papermill": {
     "duration": 0.012013,
     "end_time": "2021-07-10T22:11:01.743424",
     "exception": false,
     "start_time": "2021-07-10T22:11:01.731411",
     "status": "completed"
    },
    "tags": []
   },
   "source": [
    "## Figure 2: Rolling 7-day average of daily new cases."
   ]
  },
  {
   "cell_type": "code",
   "execution_count": 8,
   "id": "stretch-investor",
   "metadata": {
    "execution": {
     "iopub.execute_input": "2021-07-10T22:11:01.773322Z",
     "iopub.status.busy": "2021-07-10T22:11:01.772704Z",
     "iopub.status.idle": "2021-07-10T22:11:02.028829Z",
     "shell.execute_reply": "2021-07-10T22:11:02.029339Z"
    },
    "jupyter": {
     "source_hidden": true
    },
    "papermill": {
     "duration": 0.273722,
     "end_time": "2021-07-10T22:11:02.029531",
     "exception": false,
     "start_time": "2021-07-10T22:11:01.755809",
     "status": "completed"
    },
    "tags": []
   },
   "outputs": [
    {
     "data": {
      "image/png": "[encoded data removed]",
      "text/plain": [
       "<Figure size 864x432 with 1 Axes>"
      ]
     },
     "metadata": {
      "needs_background": "light"
     },
     "output_type": "display_data"
    }
   ],
   "source": [
    "dc.plot(kind='line',x='DATE',y='14_DAY',color='green',grid='True',figsize=(12,6)).set_xlabel('Date');"
   ]
  },
  {
   "cell_type": "markdown",
   "id": "prerequisite-species",
   "metadata": {
    "papermill": {
     "duration": 0.013015,
     "end_time": "2021-07-10T22:11:02.056636",
     "exception": false,
     "start_time": "2021-07-10T22:11:02.043621",
     "status": "completed"
    },
    "tags": []
   },
   "source": [
    "## Figure 3: Rolling 14-day average of daily new cases."
   ]
  },
  {
   "cell_type": "markdown",
   "id": "palestinian-guard",
   "metadata": {
    "papermill": {
     "duration": 0.014039,
     "end_time": "2021-07-10T22:11:02.082910",
     "exception": false,
     "start_time": "2021-07-10T22:11:02.068871",
     "status": "completed"
    },
    "tags": []
   },
   "source": [
    "Data source: [Wisconsin Department of Health Services](https://data.dhsgis.wi.gov/datasets/wi-dhs::covid-19-historical-data-by-county-1)"
   ]
  },
  {
   "cell_type": "code",
   "execution_count": 9,
   "id": "proof-medicare",
   "metadata": {
    "execution": {
     "iopub.execute_input": "2021-07-10T22:11:02.113437Z",
     "iopub.status.busy": "2021-07-10T22:11:02.112716Z",
     "iopub.status.idle": "2021-07-10T22:11:02.116764Z",
     "shell.execute_reply": "2021-07-10T22:11:02.116302Z"
    },
    "jupyter": {
     "source_hidden": true
    },
    "papermill": {
     "duration": 0.021151,
     "end_time": "2021-07-10T22:11:02.116874",
     "exception": false,
     "start_time": "2021-07-10T22:11:02.095723",
     "status": "completed"
    },
    "tags": []
   },
   "outputs": [
    {
     "data": {
      "text/html": [
       "<style>\n",
       "div.input {\n",
       "    display:none;\n",
       "}\n",
       "</style>\n"
      ],
      "text/plain": [
       "<IPython.core.display.HTML object>"
      ]
     },
     "metadata": {},
     "output_type": "display_data"
    }
   ],
   "source": [
    "%%html\n",
    "<style>\n",
    "div.input {\n",
    "    display:none;\n",
    "}\n",
    "</style>"
   ]
  }
 ],
 "metadata": {
  "kernelspec": {
   "display_name": "Python 3",
   "language": "python",
   "name": "python3"
  },
  "language_info": {
   "codemirror_mode": {
    "name": "ipython",
    "version": 3
   },
   "file_extension": ".py",
   "mimetype": "text/x-python",
   "name": "python",
   "nbconvert_exporter": "python",
   "pygments_lexer": "ipython3",
   "version": "3.8.10"
  },
  "papermill": {
   "duration": 5.964845,
   "end_time": "2021-07-10T22:11:02.335786",
   "environment_variables": {},
   "exception": null,
   "input_path": "DunnCounty_COVID19.ipynb",
   "output_path": "DunnCounty_COVID19.ipynb",
   "parameters": {
    "Start": "True",
    "secretsPath": "/home/runner/work/_temp/secrets.json"
   },
   "start_time": "2021-07-10T22:10:56.370941",
   "version": "1.1.16"
  }
 },
 "nbformat": 4,
 "nbformat_minor": 5
}