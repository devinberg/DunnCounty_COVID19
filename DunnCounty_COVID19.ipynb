{
 "cells": [
  {
   "cell_type": "code",
   "execution_count": 1,
   "id": "solar-understanding",
   "metadata": {
    "execution": {
     "iopub.execute_input": "2021-03-20T22:12:41.103108Z",
     "iopub.status.busy": "2021-03-20T22:12:41.102555Z",
     "iopub.status.idle": "2021-03-20T22:12:43.190347Z",
     "shell.execute_reply": "2021-03-20T22:12:43.189762Z"
    },
    "jupyter": {
     "source_hidden": true
    },
    "papermill": {
     "duration": 2.111042,
     "end_time": "2021-03-20T22:12:43.190493",
     "exception": false,
     "start_time": "2021-03-20T22:12:41.079451",
     "status": "completed"
    },
    "scrolled": true,
    "tags": [
     "hide-input"
    ]
   },
   "outputs": [],
   "source": [
    "import pandas as pd\n",
    "import matplotlib.pyplot as plt\n",
    "from matplotlib import dates\n",
    "from IPython.display import display, Markdown\n",
    "%matplotlib inline"
   ]
  },
  {
   "cell_type": "code",
   "execution_count": 2,
   "id": "purple-playlist",
   "metadata": {
    "execution": {
     "iopub.execute_input": "2021-03-20T22:12:43.215912Z",
     "iopub.status.busy": "2021-03-20T22:12:43.215373Z",
     "iopub.status.idle": "2021-03-20T22:12:43.846262Z",
     "shell.execute_reply": "2021-03-20T22:12:43.845439Z"
    },
    "jupyter": {
     "source_hidden": true
    },
    "papermill": {
     "duration": 0.646705,
     "end_time": "2021-03-20T22:12:43.846468",
     "exception": false,
     "start_time": "2021-03-20T22:12:43.199763",
     "status": "completed"
    },
    "scrolled": true,
    "tags": [
     "hide-input"
    ]
   },
   "outputs": [],
   "source": [
    "# This is the data for all of Wisconsin.\n",
    "url = \"https://opendata.arcgis.com/datasets/5374188992374b318d3e2305216ee413_12.csv\"\n",
    "data = pd.read_csv(url, parse_dates=['DATE'], low_memory=False)"
   ]
  },
  {
   "cell_type": "code",
   "execution_count": 3,
   "id": "proprietary-klein",
   "metadata": {
    "execution": {
     "iopub.execute_input": "2021-03-20T22:12:43.872511Z",
     "iopub.status.busy": "2021-03-20T22:12:43.871946Z",
     "iopub.status.idle": "2021-03-20T22:12:43.881355Z",
     "shell.execute_reply": "2021-03-20T22:12:43.880867Z"
    },
    "jupyter": {
     "source_hidden": true
    },
    "papermill": {
     "duration": 0.024436,
     "end_time": "2021-03-20T22:12:43.881473",
     "exception": false,
     "start_time": "2021-03-20T22:12:43.857037",
     "status": "completed"
    },
    "scrolled": true,
    "tags": [
     "hide-input"
    ]
   },
   "outputs": [],
   "source": [
    "dc = data.groupby('NAME').get_group('Dunn').sort_values(by='DATE') # Select the data for Dunn County from the full data.\n",
    "PNi = dc.columns.get_loc(\"POS_NEW\")\n",
    "dc['7_DAY'] = dc.iloc[:,PNi].rolling(window=7).mean() # Calculates the rolling 7-day average of new cases.\n",
    "dc['14_DAY'] = dc.iloc[:,PNi].rolling(window=14).mean() # Calculates the rolling 14-day average of new cases."
   ]
  },
  {
   "cell_type": "code",
   "execution_count": 4,
   "id": "steady-supervision",
   "metadata": {
    "execution": {
     "iopub.execute_input": "2021-03-20T22:12:43.905529Z",
     "iopub.status.busy": "2021-03-20T22:12:43.903170Z",
     "iopub.status.idle": "2021-03-20T22:12:43.909494Z",
     "shell.execute_reply": "2021-03-20T22:12:43.909930Z"
    },
    "jupyter": {
     "source_hidden": true
    },
    "papermill": {
     "duration": 0.01978,
     "end_time": "2021-03-20T22:12:43.910079",
     "exception": false,
     "start_time": "2021-03-20T22:12:43.890299",
     "status": "completed"
    },
    "scrolled": true,
    "tags": [
     "hide-input"
    ]
   },
   "outputs": [
    {
     "data": {
      "text/markdown": [
       "### Last updated: March 20, 2021"
      ],
      "text/plain": [
       "<IPython.core.display.Markdown object>"
      ]
     },
     "metadata": {},
     "output_type": "display_data"
    }
   ],
   "source": [
    "display(Markdown('### Last updated: ' + dc.iloc[-1]['DATE'].strftime(\"%B %d, %Y\")))"
   ]
  },
  {
   "cell_type": "code",
   "execution_count": 5,
   "id": "lonely-pitch",
   "metadata": {
    "execution": {
     "iopub.execute_input": "2021-03-20T22:12:43.934308Z",
     "iopub.status.busy": "2021-03-20T22:12:43.933768Z",
     "iopub.status.idle": "2021-03-20T22:12:43.937933Z",
     "shell.execute_reply": "2021-03-20T22:12:43.937467Z"
    },
    "jupyter": {
     "source_hidden": true
    },
    "papermill": {
     "duration": 0.018819,
     "end_time": "2021-03-20T22:12:43.938045",
     "exception": false,
     "start_time": "2021-03-20T22:12:43.919226",
     "status": "completed"
    },
    "tags": [
     "hide-input"
    ]
   },
   "outputs": [
    {
     "data": {
      "text/markdown": [
       "# Dunn County has 4319 total positive cases, with 1 new cases reported today."
      ],
      "text/plain": [
       "<IPython.core.display.Markdown object>"
      ]
     },
     "metadata": {},
     "output_type": "display_data"
    }
   ],
   "source": [
    "display(Markdown('# Dunn County has ' + str(dc.iloc[-1]['POSITIVE']) + ' total positive cases, with '+ str(int(dc.iloc[-1]['POS_NEW'])) + ' new cases reported today.'))"
   ]
  },
  {
   "cell_type": "code",
   "execution_count": 6,
   "id": "compound-nightmare",
   "metadata": {
    "execution": {
     "iopub.execute_input": "2021-03-20T22:12:43.961913Z",
     "iopub.status.busy": "2021-03-20T22:12:43.961148Z",
     "iopub.status.idle": "2021-03-20T22:12:44.221991Z",
     "shell.execute_reply": "2021-03-20T22:12:44.221472Z"
    },
    "jupyter": {
     "source_hidden": true
    },
    "papermill": {
     "duration": 0.274583,
     "end_time": "2021-03-20T22:12:44.222130",
     "exception": false,
     "start_time": "2021-03-20T22:12:43.947547",
     "status": "completed"
    },
    "scrolled": false,
    "tags": [
     "hide-input"
    ]
   },
   "outputs": [
    {
     "data": {
      "image/png": "[encoded data removed]",
      "text/plain": [
       "<Figure size 864x432 with 1 Axes>"
      ]
     },
     "metadata": {
      "needs_background": "light"
     },
     "output_type": "display_data"
    }
   ],
   "source": [
    "dc.plot(x='DATE',y='POSITIVE',color='red',grid='True',figsize=(12,6)).set_xlabel('Date');"
   ]
  },
  {
   "cell_type": "markdown",
   "id": "coupled-literacy",
   "metadata": {
    "papermill": {
     "duration": 0.010922,
     "end_time": "2021-03-20T22:12:44.244841",
     "exception": false,
     "start_time": "2021-03-20T22:12:44.233919",
     "status": "completed"
    },
    "tags": []
   },
   "source": [
    "## Figure 1: Cummulative number of positive cases."
   ]
  },
  {
   "cell_type": "code",
   "execution_count": 7,
   "id": "surrounded-reserve",
   "metadata": {
    "execution": {
     "iopub.execute_input": "2021-03-20T22:12:44.272491Z",
     "iopub.status.busy": "2021-03-20T22:12:44.271868Z",
     "iopub.status.idle": "2021-03-20T22:12:44.470296Z",
     "shell.execute_reply": "2021-03-20T22:12:44.470734Z"
    },
    "jupyter": {
     "source_hidden": true
    },
    "papermill": {
     "duration": 0.215374,
     "end_time": "2021-03-20T22:12:44.470891",
     "exception": false,
     "start_time": "2021-03-20T22:12:44.255517",
     "status": "completed"
    },
    "scrolled": false,
    "tags": [
     "hide-input"
    ]
   },
   "outputs": [
    {
     "data": {
      "image/png": "[encoded data removed]",
      "text/plain": [
       "<Figure size 864x432 with 1 Axes>"
      ]
     },
     "metadata": {
      "needs_background": "light"
     },
     "output_type": "display_data"
    }
   ],
   "source": [
    "dc.plot(kind='line',x='DATE',y='7_DAY',color='blue',grid='True',figsize=(12,6)).set_xlabel('Date');"
   ]
  },
  {
   "cell_type": "markdown",
   "id": "professional-savannah",
   "metadata": {
    "papermill": {
     "duration": 0.018183,
     "end_time": "2021-03-20T22:12:44.506935",
     "exception": false,
     "start_time": "2021-03-20T22:12:44.488752",
     "status": "completed"
    },
    "tags": []
   },
   "source": [
    "## Figure 2: Rolling 7-day average of daily new cases."
   ]
  },
  {
   "cell_type": "code",
   "execution_count": 8,
   "id": "stretch-investor",
   "metadata": {
    "execution": {
     "iopub.execute_input": "2021-03-20T22:12:44.535626Z",
     "iopub.status.busy": "2021-03-20T22:12:44.534511Z",
     "iopub.status.idle": "2021-03-20T22:12:44.735612Z",
     "shell.execute_reply": "2021-03-20T22:12:44.734859Z"
    },
    "jupyter": {
     "source_hidden": true
    },
    "papermill": {
     "duration": 0.217229,
     "end_time": "2021-03-20T22:12:44.735742",
     "exception": false,
     "start_time": "2021-03-20T22:12:44.518513",
     "status": "completed"
    },
    "tags": []
   },
   "outputs": [
    {
     "data": {
      "image/png": "[encoded data removed]",
      "text/plain": [
       "<Figure size 864x432 with 1 Axes>"
      ]
     },
     "metadata": {
      "needs_background": "light"
     },
     "output_type": "display_data"
    }
   ],
   "source": [
    "dc.plot(kind='line',x='DATE',y='14_DAY',color='green',grid='True',figsize=(12,6)).set_xlabel('Date');"
   ]
  },
  {
   "cell_type": "markdown",
   "id": "prerequisite-species",
   "metadata": {
    "papermill": {
     "duration": 0.012584,
     "end_time": "2021-03-20T22:12:44.761247",
     "exception": false,
     "start_time": "2021-03-20T22:12:44.748663",
     "status": "completed"
    },
    "tags": []
   },
   "source": [
    "## Figure 3: Rolling 14-day average of daily new cases."
   ]
  },
  {
   "cell_type": "markdown",
   "id": "palestinian-guard",
   "metadata": {
    "papermill": {
     "duration": 0.012575,
     "end_time": "2021-03-20T22:12:44.786527",
     "exception": false,
     "start_time": "2021-03-20T22:12:44.773952",
     "status": "completed"
    },
    "tags": []
   },
   "source": [
    "Data source: [Wisconsin Department of Health Services](https://data.dhsgis.wi.gov/datasets/covid-19-historical-data-table/)"
   ]
  },
  {
   "cell_type": "code",
   "execution_count": 9,
   "id": "proof-medicare",
   "metadata": {
    "execution": {
     "iopub.execute_input": "2021-03-20T22:12:44.817528Z",
     "iopub.status.busy": "2021-03-20T22:12:44.816987Z",
     "iopub.status.idle": "2021-03-20T22:12:44.819437Z",
     "shell.execute_reply": "2021-03-20T22:12:44.819867Z"
    },
    "jupyter": {
     "source_hidden": true
    },
    "papermill": {
     "duration": 0.020891,
     "end_time": "2021-03-20T22:12:44.820014",
     "exception": false,
     "start_time": "2021-03-20T22:12:44.799123",
     "status": "completed"
    },
    "tags": []
   },
   "outputs": [
    {
     "data": {
      "text/html": [
       "<style>\n",
       "div.input {\n",
       "    display:none;\n",
       "}\n",
       "</style>\n"
      ],
      "text/plain": [
       "<IPython.core.display.HTML object>"
      ]
     },
     "metadata": {},
     "output_type": "display_data"
    }
   ],
   "source": [
    "%%html\n",
    "<style>\n",
    "div.input {\n",
    "    display:none;\n",
    "}\n",
    "</style>"
   ]
  }
 ],
 "metadata": {
  "kernelspec": {
   "display_name": "Python 3",
   "language": "python",
   "name": "python3"
  },
  "language_info": {
   "codemirror_mode": {
    "name": "ipython",
    "version": 3
   },
   "file_extension": ".py",
   "mimetype": "text/x-python",
   "name": "python",
   "nbconvert_exporter": "python",
   "pygments_lexer": "ipython3",
   "version": "3.8.8"
  },
  "papermill": {
   "duration": 5.603229,
   "end_time": "2021-03-20T22:12:45.140333",
   "environment_variables": {},
   "exception": null,
   "input_path": "DunnCounty_COVID19.ipynb",
   "output_path": "DunnCounty_COVID19.ipynb",
   "parameters": {
    "Start": "True",
    "secretsPath": "/home/runner/work/_temp/secrets.json"
   },
   "start_time": "2021-03-20T22:12:39.537104",
   "version": "1.1.16"
  }
 },
 "nbformat": 4,
 "nbformat_minor": 5
}