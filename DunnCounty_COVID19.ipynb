{
 "cells": [
  {
   "cell_type": "code",
   "execution_count": 1,
   "metadata": {
    "execution": {
     "iopub.execute_input": "2020-12-21T22:17:41.678078Z",
     "iopub.status.busy": "2020-12-21T22:17:41.677459Z",
     "iopub.status.idle": "2020-12-21T22:17:42.924757Z",
     "shell.execute_reply": "2020-12-21T22:17:42.925253Z"
    },
    "jupyter": {
     "source_hidden": true
    },
    "papermill": {
     "duration": 1.265243,
     "end_time": "2020-12-21T22:17:42.925533",
     "exception": false,
     "start_time": "2020-12-21T22:17:41.660290",
     "status": "completed"
    },
    "scrolled": true,
    "tags": [
     "hide-input"
    ]
   },
   "outputs": [],
   "source": [
    "import pandas as pd\n",
    "import matplotlib.pyplot as plt\n",
    "from matplotlib import dates\n",
    "from IPython.display import display, Markdown\n",
    "%matplotlib inline"
   ]
  },
  {
   "cell_type": "code",
   "execution_count": 2,
   "metadata": {
    "execution": {
     "iopub.execute_input": "2020-12-21T22:17:42.946722Z",
     "iopub.status.busy": "2020-12-21T22:17:42.946060Z",
     "iopub.status.idle": "2020-12-21T22:17:43.577369Z",
     "shell.execute_reply": "2020-12-21T22:17:43.576815Z"
    },
    "jupyter": {
     "source_hidden": true
    },
    "papermill": {
     "duration": 0.643824,
     "end_time": "2020-12-21T22:17:43.577498",
     "exception": false,
     "start_time": "2020-12-21T22:17:42.933674",
     "status": "completed"
    },
    "scrolled": true,
    "tags": [
     "hide-input"
    ]
   },
   "outputs": [],
   "source": [
    "# This is the data for all of Wisconsin.\n",
    "url = \"https://opendata.arcgis.com/datasets/5374188992374b318d3e2305216ee413_12.csv\"\n",
    "data = pd.read_csv(url, parse_dates=['DATE'], low_memory=False)"
   ]
  },
  {
   "cell_type": "code",
   "execution_count": 3,
   "metadata": {
    "execution": {
     "iopub.execute_input": "2020-12-21T22:17:43.600664Z",
     "iopub.status.busy": "2020-12-21T22:17:43.600074Z",
     "iopub.status.idle": "2020-12-21T22:17:43.609975Z",
     "shell.execute_reply": "2020-12-21T22:17:43.609300Z"
    },
    "jupyter": {
     "source_hidden": true
    },
    "papermill": {
     "duration": 0.024456,
     "end_time": "2020-12-21T22:17:43.610117",
     "exception": false,
     "start_time": "2020-12-21T22:17:43.585661",
     "status": "completed"
    },
    "scrolled": true,
    "tags": [
     "hide-input"
    ]
   },
   "outputs": [],
   "source": [
    "dc = data.groupby('NAME').get_group('Dunn').sort_values(by='DATE') # Select the data for Dunn County from the full data.\n",
    "PNi = dc.columns.get_loc(\"POS_NEW\")\n",
    "dc['7_DAY'] = dc.iloc[:,PNi].rolling(window=7).mean() # Calculates the rolling 7-day average of new cases.\n",
    "dc['14_DAY'] = dc.iloc[:,PNi].rolling(window=14).mean() # Calculates the rolling 14-day average of new cases."
   ]
  },
  {
   "cell_type": "code",
   "execution_count": 4,
   "metadata": {
    "execution": {
     "iopub.execute_input": "2020-12-21T22:17:43.632225Z",
     "iopub.status.busy": "2020-12-21T22:17:43.631678Z",
     "iopub.status.idle": "2020-12-21T22:17:43.634462Z",
     "shell.execute_reply": "2020-12-21T22:17:43.635034Z"
    },
    "jupyter": {
     "source_hidden": true
    },
    "papermill": {
     "duration": 0.017054,
     "end_time": "2020-12-21T22:17:43.635159",
     "exception": false,
     "start_time": "2020-12-21T22:17:43.618105",
     "status": "completed"
    },
    "scrolled": true,
    "tags": [
     "hide-input"
    ]
   },
   "outputs": [
    {
     "data": {
      "text/markdown": [
       "### Last updated: December 21, 2020"
      ],
      "text/plain": [
       "<IPython.core.display.Markdown object>"
      ]
     },
     "metadata": {},
     "output_type": "display_data"
    }
   ],
   "source": [
    "display(Markdown('### Last updated: ' + dc.iloc[-1]['DATE'].strftime(\"%B %d, %Y\")))"
   ]
  },
  {
   "cell_type": "code",
   "execution_count": 5,
   "metadata": {
    "execution": {
     "iopub.execute_input": "2020-12-21T22:17:43.653873Z",
     "iopub.status.busy": "2020-12-21T22:17:43.653320Z",
     "iopub.status.idle": "2020-12-21T22:17:43.657179Z",
     "shell.execute_reply": "2020-12-21T22:17:43.656736Z"
    },
    "jupyter": {
     "source_hidden": true
    },
    "papermill": {
     "duration": 0.015103,
     "end_time": "2020-12-21T22:17:43.657281",
     "exception": false,
     "start_time": "2020-12-21T22:17:43.642178",
     "status": "completed"
    },
    "tags": [
     "hide-input"
    ]
   },
   "outputs": [
    {
     "data": {
      "text/markdown": [
       "# Dunn County has 3321 total positive cases, with 8 new cases reported today."
      ],
      "text/plain": [
       "<IPython.core.display.Markdown object>"
      ]
     },
     "metadata": {},
     "output_type": "display_data"
    }
   ],
   "source": [
    "display(Markdown('# Dunn County has ' + str(dc.iloc[-1]['POSITIVE']) + ' total positive cases, with '+ str(int(dc.iloc[-1]['POS_NEW'])) + ' new cases reported today.'))"
   ]
  },
  {
   "cell_type": "code",
   "execution_count": 6,
   "metadata": {
    "execution": {
     "iopub.execute_input": "2020-12-21T22:17:43.677206Z",
     "iopub.status.busy": "2020-12-21T22:17:43.676673Z",
     "iopub.status.idle": "2020-12-21T22:17:43.950064Z",
     "shell.execute_reply": "2020-12-21T22:17:43.950544Z"
    },
    "jupyter": {
     "source_hidden": true
    },
    "papermill": {
     "duration": 0.285796,
     "end_time": "2020-12-21T22:17:43.950717",
     "exception": false,
     "start_time": "2020-12-21T22:17:43.664921",
     "status": "completed"
    },
    "scrolled": false,
    "tags": [
     "hide-input"
    ]
   },
   "outputs": [
    {
     "data": {
      "image/png": "[encoded data removed]",
      "text/plain": [
       "<Figure size 864x432 with 1 Axes>"
      ]
     },
     "metadata": {
      "needs_background": "light"
     },
     "output_type": "display_data"
    }
   ],
   "source": [
    "dc.plot(x='DATE',y='POSITIVE',color='red',grid='True',figsize=(12,6)).set_xlabel('Date');"
   ]
  },
  {
   "cell_type": "markdown",
   "metadata": {
    "papermill": {
     "duration": 0.009685,
     "end_time": "2020-12-21T22:17:43.970112",
     "exception": false,
     "start_time": "2020-12-21T22:17:43.960427",
     "status": "completed"
    },
    "tags": []
   },
   "source": [
    "## Figure 1: Cummulative number of positive cases."
   ]
  },
  {
   "cell_type": "code",
   "execution_count": 7,
   "metadata": {
    "execution": {
     "iopub.execute_input": "2020-12-21T22:17:43.991692Z",
     "iopub.status.busy": "2020-12-21T22:17:43.991074Z",
     "iopub.status.idle": "2020-12-21T22:17:44.262773Z",
     "shell.execute_reply": "2020-12-21T22:17:44.263233Z"
    },
    "jupyter": {
     "source_hidden": true
    },
    "papermill": {
     "duration": 0.284492,
     "end_time": "2020-12-21T22:17:44.263397",
     "exception": false,
     "start_time": "2020-12-21T22:17:43.978905",
     "status": "completed"
    },
    "scrolled": false,
    "tags": [
     "hide-input"
    ]
   },
   "outputs": [
    {
     "data": {
      "image/png": "[encoded data removed]",
      "text/plain": [
       "<Figure size 864x432 with 1 Axes>"
      ]
     },
     "metadata": {
      "needs_background": "light"
     },
     "output_type": "display_data"
    }
   ],
   "source": [
    "dc.plot(kind='line',x='DATE',y='7_DAY',color='blue',grid='True',figsize=(12,6)).set_xlabel('Date');"
   ]
  },
  {
   "cell_type": "markdown",
   "metadata": {
    "papermill": {
     "duration": 0.009994,
     "end_time": "2020-12-21T22:17:44.283157",
     "exception": false,
     "start_time": "2020-12-21T22:17:44.273163",
     "status": "completed"
    },
    "tags": []
   },
   "source": [
    "## Figure 2: Rolling 7-day average of daily new cases."
   ]
  },
  {
   "cell_type": "code",
   "execution_count": 8,
   "metadata": {
    "execution": {
     "iopub.execute_input": "2020-12-21T22:17:44.324509Z",
     "iopub.status.busy": "2020-12-21T22:17:44.323593Z",
     "iopub.status.idle": "2020-12-21T22:17:44.580970Z",
     "shell.execute_reply": "2020-12-21T22:17:44.580413Z"
    },
    "jupyter": {
     "source_hidden": true
    },
    "papermill": {
     "duration": 0.288539,
     "end_time": "2020-12-21T22:17:44.581106",
     "exception": false,
     "start_time": "2020-12-21T22:17:44.292567",
     "status": "completed"
    },
    "tags": []
   },
   "outputs": [
    {
     "data": {
      "image/png": "[encoded data removed]",
      "text/plain": [
       "<Figure size 864x432 with 1 Axes>"
      ]
     },
     "metadata": {
      "needs_background": "light"
     },
     "output_type": "display_data"
    }
   ],
   "source": [
    "dc.plot(kind='line',x='DATE',y='14_DAY',color='green',grid='True',figsize=(12,6)).set_xlabel('Date');"
   ]
  },
  {
   "cell_type": "markdown",
   "metadata": {
    "papermill": {
     "duration": 0.010637,
     "end_time": "2020-12-21T22:17:44.603730",
     "exception": false,
     "start_time": "2020-12-21T22:17:44.593093",
     "status": "completed"
    },
    "tags": []
   },
   "source": [
    "## Figure 3: Rolling 14-day average of daily new cases."
   ]
  },
  {
   "cell_type": "markdown",
   "metadata": {
    "papermill": {
     "duration": 0.010617,
     "end_time": "2020-12-21T22:17:44.624566",
     "exception": false,
     "start_time": "2020-12-21T22:17:44.613949",
     "status": "completed"
    },
    "tags": []
   },
   "source": [
    "Data source: [Wisconsin Department of Health Services](https://data.dhsgis.wi.gov/datasets/covid-19-historical-data-table/)"
   ]
  },
  {
   "cell_type": "code",
   "execution_count": 9,
   "metadata": {
    "execution": {
     "iopub.execute_input": "2020-12-21T22:17:44.652573Z",
     "iopub.status.busy": "2020-12-21T22:17:44.651878Z",
     "iopub.status.idle": "2020-12-21T22:17:44.655642Z",
     "shell.execute_reply": "2020-12-21T22:17:44.655117Z"
    },
    "jupyter": {
     "source_hidden": true
    },
    "papermill": {
     "duration": 0.019654,
     "end_time": "2020-12-21T22:17:44.655772",
     "exception": false,
     "start_time": "2020-12-21T22:17:44.636118",
     "status": "completed"
    },
    "tags": []
   },
   "outputs": [
    {
     "data": {
      "text/html": [
       "<style>\n",
       "div.input {\n",
       "    display:none;\n",
       "}\n",
       "</style>\n"
      ],
      "text/plain": [
       "<IPython.core.display.HTML object>"
      ]
     },
     "metadata": {},
     "output_type": "display_data"
    }
   ],
   "source": [
    "%%html\n",
    "<style>\n",
    "div.input {\n",
    "    display:none;\n",
    "}\n",
    "</style>"
   ]
  }
 ],
 "metadata": {
  "kernelspec": {
   "display_name": "Python 3",
   "language": "python",
   "name": "python3"
  },
  "language_info": {
   "codemirror_mode": {
    "name": "ipython",
    "version": 3
   },
   "file_extension": ".py",
   "mimetype": "text/x-python",
   "name": "python",
   "nbconvert_exporter": "python",
   "pygments_lexer": "ipython3",
   "version": "3.8.6"
  },
  "papermill": {
   "duration": 5.905404,
   "end_time": "2020-12-21T22:17:45.878380",
   "environment_variables": {},
   "exception": null,
   "input_path": "DunnCounty_COVID19.ipynb",
   "output_path": "DunnCounty_COVID19.ipynb",
   "parameters": {
    "Start": "True",
    "secretsPath": "/home/runner/work/_temp/secrets.json"
   },
   "start_time": "2020-12-21T22:17:39.972976",
   "version": "1.1.16"
  }
 },
 "nbformat": 4,
 "nbformat_minor": 2
}