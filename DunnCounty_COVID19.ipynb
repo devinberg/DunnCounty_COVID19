{
 "cells": [
  {
   "cell_type": "code",
   "execution_count": 1,
   "metadata": {
    "execution": {
     "iopub.execute_input": "2021-01-09T10:29:09.211876Z",
     "iopub.status.busy": "2021-01-09T10:29:09.211303Z",
     "iopub.status.idle": "2021-01-09T10:29:10.286332Z",
     "shell.execute_reply": "2021-01-09T10:29:10.285745Z"
    },
    "jupyter": {
     "source_hidden": true
    },
    "papermill": {
     "duration": 1.092874,
     "end_time": "2021-01-09T10:29:10.286501",
     "exception": false,
     "start_time": "2021-01-09T10:29:09.193627",
     "status": "completed"
    },
    "scrolled": true,
    "tags": [
     "hide-input"
    ]
   },
   "outputs": [],
   "source": [
    "import pandas as pd\n",
    "import matplotlib.pyplot as plt\n",
    "from matplotlib import dates\n",
    "from IPython.display import display, Markdown\n",
    "%matplotlib inline"
   ]
  },
  {
   "cell_type": "code",
   "execution_count": 2,
   "metadata": {
    "execution": {
     "iopub.execute_input": "2021-01-09T10:29:10.307245Z",
     "iopub.status.busy": "2021-01-09T10:29:10.306688Z",
     "iopub.status.idle": "2021-01-09T10:29:11.002329Z",
     "shell.execute_reply": "2021-01-09T10:29:11.001792Z"
    },
    "jupyter": {
     "source_hidden": true
    },
    "papermill": {
     "duration": 0.70766,
     "end_time": "2021-01-09T10:29:11.002460",
     "exception": false,
     "start_time": "2021-01-09T10:29:10.294800",
     "status": "completed"
    },
    "scrolled": true,
    "tags": [
     "hide-input"
    ]
   },
   "outputs": [],
   "source": [
    "# This is the data for all of Wisconsin.\n",
    "url = \"https://opendata.arcgis.com/datasets/5374188992374b318d3e2305216ee413_12.csv\"\n",
    "data = pd.read_csv(url, parse_dates=['DATE'], low_memory=False)"
   ]
  },
  {
   "cell_type": "code",
   "execution_count": 3,
   "metadata": {
    "execution": {
     "iopub.execute_input": "2021-01-09T10:29:11.022458Z",
     "iopub.status.busy": "2021-01-09T10:29:11.021897Z",
     "iopub.status.idle": "2021-01-09T10:29:11.029618Z",
     "shell.execute_reply": "2021-01-09T10:29:11.030043Z"
    },
    "jupyter": {
     "source_hidden": true
    },
    "papermill": {
     "duration": 0.020834,
     "end_time": "2021-01-09T10:29:11.030172",
     "exception": false,
     "start_time": "2021-01-09T10:29:11.009338",
     "status": "completed"
    },
    "scrolled": true,
    "tags": [
     "hide-input"
    ]
   },
   "outputs": [],
   "source": [
    "dc = data.groupby('NAME').get_group('Dunn').sort_values(by='DATE') # Select the data for Dunn County from the full data.\n",
    "PNi = dc.columns.get_loc(\"POS_NEW\")\n",
    "dc['7_DAY'] = dc.iloc[:,PNi].rolling(window=7).mean() # Calculates the rolling 7-day average of new cases.\n",
    "dc['14_DAY'] = dc.iloc[:,PNi].rolling(window=14).mean() # Calculates the rolling 14-day average of new cases."
   ]
  },
  {
   "cell_type": "code",
   "execution_count": 4,
   "metadata": {
    "execution": {
     "iopub.execute_input": "2021-01-09T10:29:11.050500Z",
     "iopub.status.busy": "2021-01-09T10:29:11.049775Z",
     "iopub.status.idle": "2021-01-09T10:29:11.053127Z",
     "shell.execute_reply": "2021-01-09T10:29:11.053596Z"
    },
    "jupyter": {
     "source_hidden": true
    },
    "papermill": {
     "duration": 0.017326,
     "end_time": "2021-01-09T10:29:11.053719",
     "exception": false,
     "start_time": "2021-01-09T10:29:11.036393",
     "status": "completed"
    },
    "scrolled": true,
    "tags": [
     "hide-input"
    ]
   },
   "outputs": [
    {
     "data": {
      "text/markdown": [
       "### Last updated: January 08, 2021"
      ],
      "text/plain": [
       "<IPython.core.display.Markdown object>"
      ]
     },
     "metadata": {},
     "output_type": "display_data"
    }
   ],
   "source": [
    "display(Markdown('### Last updated: ' + dc.iloc[-1]['DATE'].strftime(\"%B %d, %Y\")))"
   ]
  },
  {
   "cell_type": "code",
   "execution_count": 5,
   "metadata": {
    "execution": {
     "iopub.execute_input": "2021-01-09T10:29:11.076092Z",
     "iopub.status.busy": "2021-01-09T10:29:11.075423Z",
     "iopub.status.idle": "2021-01-09T10:29:11.078682Z",
     "shell.execute_reply": "2021-01-09T10:29:11.079406Z"
    },
    "jupyter": {
     "source_hidden": true
    },
    "papermill": {
     "duration": 0.017034,
     "end_time": "2021-01-09T10:29:11.079549",
     "exception": false,
     "start_time": "2021-01-09T10:29:11.062515",
     "status": "completed"
    },
    "tags": [
     "hide-input"
    ]
   },
   "outputs": [
    {
     "data": {
      "text/markdown": [
       "# Dunn County has 3688 total positive cases, with 36 new cases reported today."
      ],
      "text/plain": [
       "<IPython.core.display.Markdown object>"
      ]
     },
     "metadata": {},
     "output_type": "display_data"
    }
   ],
   "source": [
    "display(Markdown('# Dunn County has ' + str(dc.iloc[-1]['POSITIVE']) + ' total positive cases, with '+ str(int(dc.iloc[-1]['POS_NEW'])) + ' new cases reported today.'))"
   ]
  },
  {
   "cell_type": "code",
   "execution_count": 6,
   "metadata": {
    "execution": {
     "iopub.execute_input": "2021-01-09T10:29:11.102123Z",
     "iopub.status.busy": "2021-01-09T10:29:11.101556Z",
     "iopub.status.idle": "2021-01-09T10:29:11.398994Z",
     "shell.execute_reply": "2021-01-09T10:29:11.398494Z"
    },
    "jupyter": {
     "source_hidden": true
    },
    "papermill": {
     "duration": 0.31049,
     "end_time": "2021-01-09T10:29:11.399143",
     "exception": false,
     "start_time": "2021-01-09T10:29:11.088653",
     "status": "completed"
    },
    "scrolled": false,
    "tags": [
     "hide-input"
    ]
   },
   "outputs": [
    {
     "data": {
      "image/png": "[encoded data removed]",
      "text/plain": [
       "<Figure size 864x432 with 1 Axes>"
      ]
     },
     "metadata": {
      "needs_background": "light"
     },
     "output_type": "display_data"
    }
   ],
   "source": [
    "dc.plot(x='DATE',y='POSITIVE',color='red',grid='True',figsize=(12,6)).set_xlabel('Date');"
   ]
  },
  {
   "cell_type": "markdown",
   "metadata": {
    "papermill": {
     "duration": 0.00934,
     "end_time": "2021-01-09T10:29:11.417125",
     "exception": false,
     "start_time": "2021-01-09T10:29:11.407785",
     "status": "completed"
    },
    "tags": []
   },
   "source": [
    "## Figure 1: Cummulative number of positive cases."
   ]
  },
  {
   "cell_type": "code",
   "execution_count": 7,
   "metadata": {
    "execution": {
     "iopub.execute_input": "2021-01-09T10:29:11.458661Z",
     "iopub.status.busy": "2021-01-09T10:29:11.440022Z",
     "iopub.status.idle": "2021-01-09T10:29:11.713172Z",
     "shell.execute_reply": "2021-01-09T10:29:11.712609Z"
    },
    "jupyter": {
     "source_hidden": true
    },
    "papermill": {
     "duration": 0.287555,
     "end_time": "2021-01-09T10:29:11.713303",
     "exception": false,
     "start_time": "2021-01-09T10:29:11.425748",
     "status": "completed"
    },
    "scrolled": false,
    "tags": [
     "hide-input"
    ]
   },
   "outputs": [
    {
     "data": {
      "image/png": "[encoded data removed]",
      "text/plain": [
       "<Figure size 864x432 with 1 Axes>"
      ]
     },
     "metadata": {
      "needs_background": "light"
     },
     "output_type": "display_data"
    }
   ],
   "source": [
    "dc.plot(kind='line',x='DATE',y='7_DAY',color='blue',grid='True',figsize=(12,6)).set_xlabel('Date');"
   ]
  },
  {
   "cell_type": "markdown",
   "metadata": {
    "papermill": {
     "duration": 0.010274,
     "end_time": "2021-01-09T10:29:11.734413",
     "exception": false,
     "start_time": "2021-01-09T10:29:11.724139",
     "status": "completed"
    },
    "tags": []
   },
   "source": [
    "## Figure 2: Rolling 7-day average of daily new cases."
   ]
  },
  {
   "cell_type": "code",
   "execution_count": 8,
   "metadata": {
    "execution": {
     "iopub.execute_input": "2021-01-09T10:29:11.769829Z",
     "iopub.status.busy": "2021-01-09T10:29:11.758799Z",
     "iopub.status.idle": "2021-01-09T10:29:12.021658Z",
     "shell.execute_reply": "2021-01-09T10:29:12.022049Z"
    },
    "jupyter": {
     "source_hidden": true
    },
    "papermill": {
     "duration": 0.277758,
     "end_time": "2021-01-09T10:29:12.022272",
     "exception": false,
     "start_time": "2021-01-09T10:29:11.744514",
     "status": "completed"
    },
    "tags": []
   },
   "outputs": [
    {
     "data": {
      "image/png": "[encoded data removed]",
      "text/plain": [
       "<Figure size 864x432 with 1 Axes>"
      ]
     },
     "metadata": {
      "needs_background": "light"
     },
     "output_type": "display_data"
    }
   ],
   "source": [
    "dc.plot(kind='line',x='DATE',y='14_DAY',color='green',grid='True',figsize=(12,6)).set_xlabel('Date');"
   ]
  },
  {
   "cell_type": "markdown",
   "metadata": {
    "papermill": {
     "duration": 0.009874,
     "end_time": "2021-01-09T10:29:12.042912",
     "exception": false,
     "start_time": "2021-01-09T10:29:12.033038",
     "status": "completed"
    },
    "tags": []
   },
   "source": [
    "## Figure 3: Rolling 14-day average of daily new cases."
   ]
  },
  {
   "cell_type": "markdown",
   "metadata": {
    "papermill": {
     "duration": 0.010774,
     "end_time": "2021-01-09T10:29:12.063791",
     "exception": false,
     "start_time": "2021-01-09T10:29:12.053017",
     "status": "completed"
    },
    "tags": []
   },
   "source": [
    "Data source: [Wisconsin Department of Health Services](https://data.dhsgis.wi.gov/datasets/covid-19-historical-data-table/)"
   ]
  },
  {
   "cell_type": "code",
   "execution_count": 9,
   "metadata": {
    "execution": {
     "iopub.execute_input": "2021-01-09T10:29:12.091270Z",
     "iopub.status.busy": "2021-01-09T10:29:12.090603Z",
     "iopub.status.idle": "2021-01-09T10:29:12.094140Z",
     "shell.execute_reply": "2021-01-09T10:29:12.093639Z"
    },
    "jupyter": {
     "source_hidden": true
    },
    "papermill": {
     "duration": 0.020637,
     "end_time": "2021-01-09T10:29:12.094271",
     "exception": false,
     "start_time": "2021-01-09T10:29:12.073634",
     "status": "completed"
    },
    "tags": []
   },
   "outputs": [
    {
     "data": {
      "text/html": [
       "<style>\n",
       "div.input {\n",
       "    display:none;\n",
       "}\n",
       "</style>\n"
      ],
      "text/plain": [
       "<IPython.core.display.HTML object>"
      ]
     },
     "metadata": {},
     "output_type": "display_data"
    }
   ],
   "source": [
    "%%html\n",
    "<style>\n",
    "div.input {\n",
    "    display:none;\n",
    "}\n",
    "</style>"
   ]
  }
 ],
 "metadata": {
  "kernelspec": {
   "display_name": "Python 3",
   "language": "python",
   "name": "python3"
  },
  "language_info": {
   "codemirror_mode": {
    "name": "ipython",
    "version": 3
   },
   "file_extension": ".py",
   "mimetype": "text/x-python",
   "name": "python",
   "nbconvert_exporter": "python",
   "pygments_lexer": "ipython3",
   "version": "3.8.6"
  },
  "papermill": {
   "duration": 5.382427,
   "end_time": "2021-01-09T10:29:13.326504",
   "environment_variables": {},
   "exception": null,
   "input_path": "DunnCounty_COVID19.ipynb",
   "output_path": "DunnCounty_COVID19.ipynb",
   "parameters": {
    "Start": "True",
    "secretsPath": "/home/runner/work/_temp/secrets.json"
   },
   "start_time": "2021-01-09T10:29:07.944077",
   "version": "1.1.16"
  }
 },
 "nbformat": 4,
 "nbformat_minor": 2
}