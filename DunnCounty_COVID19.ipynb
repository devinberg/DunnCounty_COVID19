{
 "cells": [
  {
   "cell_type": "code",
   "execution_count": 1,
   "id": "solar-understanding",
   "metadata": {
    "execution": {
     "iopub.execute_input": "2021-04-03T22:21:58.873661Z",
     "iopub.status.busy": "2021-04-03T22:21:58.873092Z",
     "iopub.status.idle": "2021-04-03T22:22:01.078553Z",
     "shell.execute_reply": "2021-04-03T22:22:01.077941Z"
    },
    "jupyter": {
     "source_hidden": true
    },
    "papermill": {
     "duration": 2.226256,
     "end_time": "2021-04-03T22:22:01.078705",
     "exception": false,
     "start_time": "2021-04-03T22:21:58.852449",
     "status": "completed"
    },
    "scrolled": true,
    "tags": [
     "hide-input"
    ]
   },
   "outputs": [],
   "source": [
    "import pandas as pd\n",
    "import matplotlib.pyplot as plt\n",
    "from matplotlib import dates\n",
    "from IPython.display import display, Markdown\n",
    "%matplotlib inline"
   ]
  },
  {
   "cell_type": "code",
   "execution_count": 2,
   "id": "purple-playlist",
   "metadata": {
    "execution": {
     "iopub.execute_input": "2021-04-03T22:22:01.103453Z",
     "iopub.status.busy": "2021-04-03T22:22:01.102900Z",
     "iopub.status.idle": "2021-04-03T22:22:01.868666Z",
     "shell.execute_reply": "2021-04-03T22:22:01.868172Z"
    },
    "jupyter": {
     "source_hidden": true
    },
    "papermill": {
     "duration": 0.780645,
     "end_time": "2021-04-03T22:22:01.868791",
     "exception": false,
     "start_time": "2021-04-03T22:22:01.088146",
     "status": "completed"
    },
    "scrolled": true,
    "tags": [
     "hide-input"
    ]
   },
   "outputs": [],
   "source": [
    "# This is the data for all of Wisconsin.\n",
    "url = \"https://opendata.arcgis.com/datasets/5374188992374b318d3e2305216ee413_12.csv\"\n",
    "data = pd.read_csv(url, parse_dates=['DATE'], low_memory=False)"
   ]
  },
  {
   "cell_type": "code",
   "execution_count": 3,
   "id": "proprietary-klein",
   "metadata": {
    "execution": {
     "iopub.execute_input": "2021-04-03T22:22:01.893458Z",
     "iopub.status.busy": "2021-04-03T22:22:01.892906Z",
     "iopub.status.idle": "2021-04-03T22:22:01.901517Z",
     "shell.execute_reply": "2021-04-03T22:22:01.901052Z"
    },
    "jupyter": {
     "source_hidden": true
    },
    "papermill": {
     "duration": 0.023842,
     "end_time": "2021-04-03T22:22:01.901639",
     "exception": false,
     "start_time": "2021-04-03T22:22:01.877797",
     "status": "completed"
    },
    "scrolled": true,
    "tags": [
     "hide-input"
    ]
   },
   "outputs": [],
   "source": [
    "dc = data.groupby('NAME').get_group('Dunn').sort_values(by='DATE') # Select the data for Dunn County from the full data.\n",
    "PNi = dc.columns.get_loc(\"POS_NEW\")\n",
    "dc['7_DAY'] = dc.iloc[:,PNi].rolling(window=7).mean() # Calculates the rolling 7-day average of new cases.\n",
    "dc['14_DAY'] = dc.iloc[:,PNi].rolling(window=14).mean() # Calculates the rolling 14-day average of new cases."
   ]
  },
  {
   "cell_type": "code",
   "execution_count": 4,
   "id": "steady-supervision",
   "metadata": {
    "execution": {
     "iopub.execute_input": "2021-04-03T22:22:01.926667Z",
     "iopub.status.busy": "2021-04-03T22:22:01.926069Z",
     "iopub.status.idle": "2021-04-03T22:22:01.929180Z",
     "shell.execute_reply": "2021-04-03T22:22:01.928619Z"
    },
    "jupyter": {
     "source_hidden": true
    },
    "papermill": {
     "duration": 0.018889,
     "end_time": "2021-04-03T22:22:01.929302",
     "exception": false,
     "start_time": "2021-04-03T22:22:01.910413",
     "status": "completed"
    },
    "scrolled": true,
    "tags": [
     "hide-input"
    ]
   },
   "outputs": [
    {
     "data": {
      "text/markdown": [
       "### Last updated: April 03, 2021"
      ],
      "text/plain": [
       "<IPython.core.display.Markdown object>"
      ]
     },
     "metadata": {},
     "output_type": "display_data"
    }
   ],
   "source": [
    "display(Markdown('### Last updated: ' + dc.iloc[-1]['DATE'].strftime(\"%B %d, %Y\")))"
   ]
  },
  {
   "cell_type": "code",
   "execution_count": 5,
   "id": "lonely-pitch",
   "metadata": {
    "execution": {
     "iopub.execute_input": "2021-04-03T22:22:01.953885Z",
     "iopub.status.busy": "2021-04-03T22:22:01.953343Z",
     "iopub.status.idle": "2021-04-03T22:22:01.956264Z",
     "shell.execute_reply": "2021-04-03T22:22:01.955823Z"
    },
    "jupyter": {
     "source_hidden": true
    },
    "papermill": {
     "duration": 0.017889,
     "end_time": "2021-04-03T22:22:01.956383",
     "exception": false,
     "start_time": "2021-04-03T22:22:01.938494",
     "status": "completed"
    },
    "tags": [
     "hide-input"
    ]
   },
   "outputs": [
    {
     "data": {
      "text/markdown": [
       "# Dunn County has 4420 total positive cases, with 3 new cases reported today."
      ],
      "text/plain": [
       "<IPython.core.display.Markdown object>"
      ]
     },
     "metadata": {},
     "output_type": "display_data"
    }
   ],
   "source": [
    "display(Markdown('# Dunn County has ' + str(dc.iloc[-1]['POSITIVE']) + ' total positive cases, with '+ str(int(dc.iloc[-1]['POS_NEW'])) + ' new cases reported today.'))"
   ]
  },
  {
   "cell_type": "code",
   "execution_count": 6,
   "id": "compound-nightmare",
   "metadata": {
    "execution": {
     "iopub.execute_input": "2021-04-03T22:22:01.980035Z",
     "iopub.status.busy": "2021-04-03T22:22:01.979498Z",
     "iopub.status.idle": "2021-04-03T22:22:02.271630Z",
     "shell.execute_reply": "2021-04-03T22:22:02.272090Z"
    },
    "jupyter": {
     "source_hidden": true
    },
    "papermill": {
     "duration": 0.306314,
     "end_time": "2021-04-03T22:22:02.272312",
     "exception": false,
     "start_time": "2021-04-03T22:22:01.965998",
     "status": "completed"
    },
    "scrolled": false,
    "tags": [
     "hide-input"
    ]
   },
   "outputs": [
    {
     "data": {
      "image/png": "[encoded data removed]",
      "text/plain": [
       "<Figure size 864x432 with 1 Axes>"
      ]
     },
     "metadata": {
      "needs_background": "light"
     },
     "output_type": "display_data"
    }
   ],
   "source": [
    "dc.plot(x='DATE',y='POSITIVE',color='red',grid='True',figsize=(12,6)).set_xlabel('Date');"
   ]
  },
  {
   "cell_type": "markdown",
   "id": "coupled-literacy",
   "metadata": {
    "papermill": {
     "duration": 0.010512,
     "end_time": "2021-04-03T22:22:02.293448",
     "exception": false,
     "start_time": "2021-04-03T22:22:02.282936",
     "status": "completed"
    },
    "tags": []
   },
   "source": [
    "## Figure 1: Cummulative number of positive cases."
   ]
  },
  {
   "cell_type": "code",
   "execution_count": 7,
   "id": "surrounded-reserve",
   "metadata": {
    "execution": {
     "iopub.execute_input": "2021-04-03T22:22:02.319843Z",
     "iopub.status.busy": "2021-04-03T22:22:02.319294Z",
     "iopub.status.idle": "2021-04-03T22:22:02.506154Z",
     "shell.execute_reply": "2021-04-03T22:22:02.506611Z"
    },
    "jupyter": {
     "source_hidden": true
    },
    "papermill": {
     "duration": 0.202873,
     "end_time": "2021-04-03T22:22:02.506770",
     "exception": false,
     "start_time": "2021-04-03T22:22:02.303897",
     "status": "completed"
    },
    "scrolled": false,
    "tags": [
     "hide-input"
    ]
   },
   "outputs": [
    {
     "data": {
      "image/png": "[encoded data removed]",
      "text/plain": [
       "<Figure size 864x432 with 1 Axes>"
      ]
     },
     "metadata": {
      "needs_background": "light"
     },
     "output_type": "display_data"
    }
   ],
   "source": [
    "dc.plot(kind='line',x='DATE',y='7_DAY',color='blue',grid='True',figsize=(12,6)).set_xlabel('Date');"
   ]
  },
  {
   "cell_type": "markdown",
   "id": "professional-savannah",
   "metadata": {
    "papermill": {
     "duration": 0.01197,
     "end_time": "2021-04-03T22:22:02.530594",
     "exception": false,
     "start_time": "2021-04-03T22:22:02.518624",
     "status": "completed"
    },
    "tags": []
   },
   "source": [
    "## Figure 2: Rolling 7-day average of daily new cases."
   ]
  },
  {
   "cell_type": "code",
   "execution_count": 8,
   "id": "stretch-investor",
   "metadata": {
    "execution": {
     "iopub.execute_input": "2021-04-03T22:22:02.559484Z",
     "iopub.status.busy": "2021-04-03T22:22:02.558940Z",
     "iopub.status.idle": "2021-04-03T22:22:02.742953Z",
     "shell.execute_reply": "2021-04-03T22:22:02.743384Z"
    },
    "jupyter": {
     "source_hidden": true
    },
    "papermill": {
     "duration": 0.201411,
     "end_time": "2021-04-03T22:22:02.743534",
     "exception": false,
     "start_time": "2021-04-03T22:22:02.542123",
     "status": "completed"
    },
    "tags": []
   },
   "outputs": [
    {
     "data": {
      "image/png": "[encoded data removed]",
      "text/plain": [
       "<Figure size 864x432 with 1 Axes>"
      ]
     },
     "metadata": {
      "needs_background": "light"
     },
     "output_type": "display_data"
    }
   ],
   "source": [
    "dc.plot(kind='line',x='DATE',y='14_DAY',color='green',grid='True',figsize=(12,6)).set_xlabel('Date');"
   ]
  },
  {
   "cell_type": "markdown",
   "id": "prerequisite-species",
   "metadata": {
    "papermill": {
     "duration": 0.013373,
     "end_time": "2021-04-03T22:22:02.769876",
     "exception": false,
     "start_time": "2021-04-03T22:22:02.756503",
     "status": "completed"
    },
    "tags": []
   },
   "source": [
    "## Figure 3: Rolling 14-day average of daily new cases."
   ]
  },
  {
   "cell_type": "markdown",
   "id": "palestinian-guard",
   "metadata": {
    "papermill": {
     "duration": 0.012548,
     "end_time": "2021-04-03T22:22:02.795093",
     "exception": false,
     "start_time": "2021-04-03T22:22:02.782545",
     "status": "completed"
    },
    "tags": []
   },
   "source": [
    "Data source: [Wisconsin Department of Health Services](https://data.dhsgis.wi.gov/datasets/covid-19-historical-data-table/)"
   ]
  },
  {
   "cell_type": "code",
   "execution_count": 9,
   "id": "proof-medicare",
   "metadata": {
    "execution": {
     "iopub.execute_input": "2021-04-03T22:22:02.825427Z",
     "iopub.status.busy": "2021-04-03T22:22:02.824900Z",
     "iopub.status.idle": "2021-04-03T22:22:02.828315Z",
     "shell.execute_reply": "2021-04-03T22:22:02.827853Z"
    },
    "jupyter": {
     "source_hidden": true
    },
    "papermill": {
     "duration": 0.020618,
     "end_time": "2021-04-03T22:22:02.828425",
     "exception": false,
     "start_time": "2021-04-03T22:22:02.807807",
     "status": "completed"
    },
    "tags": []
   },
   "outputs": [
    {
     "data": {
      "text/html": [
       "<style>\n",
       "div.input {\n",
       "    display:none;\n",
       "}\n",
       "</style>\n"
      ],
      "text/plain": [
       "<IPython.core.display.HTML object>"
      ]
     },
     "metadata": {},
     "output_type": "display_data"
    }
   ],
   "source": [
    "%%html\n",
    "<style>\n",
    "div.input {\n",
    "    display:none;\n",
    "}\n",
    "</style>"
   ]
  }
 ],
 "metadata": {
  "kernelspec": {
   "display_name": "Python 3",
   "language": "python",
   "name": "python3"
  },
  "language_info": {
   "codemirror_mode": {
    "name": "ipython",
    "version": 3
   },
   "file_extension": ".py",
   "mimetype": "text/x-python",
   "name": "python",
   "nbconvert_exporter": "python",
   "pygments_lexer": "ipython3",
   "version": "3.8.8"
  },
  "papermill": {
   "duration": 6.938284,
   "end_time": "2021-04-03T22:22:04.098774",
   "environment_variables": {},
   "exception": null,
   "input_path": "DunnCounty_COVID19.ipynb",
   "output_path": "DunnCounty_COVID19.ipynb",
   "parameters": {
    "Start": "True",
    "secretsPath": "/home/runner/work/_temp/secrets.json"
   },
   "start_time": "2021-04-03T22:21:57.160490",
   "version": "1.1.16"
  }
 },
 "nbformat": 4,
 "nbformat_minor": 5
}