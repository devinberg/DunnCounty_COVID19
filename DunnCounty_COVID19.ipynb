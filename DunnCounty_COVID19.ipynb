{
 "cells": [
  {
   "cell_type": "code",
   "execution_count": 1,
   "metadata": {
    "execution": {
     "iopub.execute_input": "2020-09-13T22:09:19.160552Z",
     "iopub.status.busy": "2020-09-13T22:09:19.159990Z",
     "iopub.status.idle": "2020-09-13T22:09:20.293873Z",
     "shell.execute_reply": "2020-09-13T22:09:20.292745Z"
    },
    "jupyter": {
     "source_hidden": true
    },
    "papermill": {
     "duration": 1.152705,
     "end_time": "2020-09-13T22:09:20.294070",
     "exception": false,
     "start_time": "2020-09-13T22:09:19.141365",
     "status": "completed"
    },
    "scrolled": true,
    "tags": [
     "hide-input"
    ]
   },
   "outputs": [],
   "source": [
    "import pandas as pd\n",
    "import matplotlib.pyplot as plt\n",
    "from matplotlib import dates\n",
    "from IPython.display import display, Markdown\n",
    "%matplotlib inline"
   ]
  },
  {
   "cell_type": "code",
   "execution_count": 2,
   "metadata": {
    "execution": {
     "iopub.execute_input": "2020-09-13T22:09:20.317408Z",
     "iopub.status.busy": "2020-09-13T22:09:20.316837Z",
     "iopub.status.idle": "2020-09-13T22:09:23.959872Z",
     "shell.execute_reply": "2020-09-13T22:09:23.958757Z"
    },
    "jupyter": {
     "source_hidden": true
    },
    "papermill": {
     "duration": 3.656926,
     "end_time": "2020-09-13T22:09:23.960015",
     "exception": false,
     "start_time": "2020-09-13T22:09:20.303089",
     "status": "completed"
    },
    "scrolled": true,
    "tags": [
     "hide-input"
    ]
   },
   "outputs": [],
   "source": [
    "# This is the data for all of Wisconsin.\n",
    "url = \"https://opendata.arcgis.com/datasets/b913e9591eae4912b33dc5b4e88646c5_10.csv\"\n",
    "data = pd.read_csv(url, parse_dates=['DATE'], low_memory=False)"
   ]
  },
  {
   "cell_type": "code",
   "execution_count": 3,
   "metadata": {
    "execution": {
     "iopub.execute_input": "2020-09-13T22:09:23.990817Z",
     "iopub.status.busy": "2020-09-13T22:09:23.990164Z",
     "iopub.status.idle": "2020-09-13T22:09:23.999907Z",
     "shell.execute_reply": "2020-09-13T22:09:23.999413Z"
    },
    "jupyter": {
     "source_hidden": true
    },
    "papermill": {
     "duration": 0.031219,
     "end_time": "2020-09-13T22:09:24.000031",
     "exception": false,
     "start_time": "2020-09-13T22:09:23.968812",
     "status": "completed"
    },
    "scrolled": true,
    "tags": [
     "hide-input"
    ]
   },
   "outputs": [],
   "source": [
    "dc = data.groupby('NAME').get_group('Dunn').sort_values(by='DATE') # Select the data for Dunn County from the full data.\n",
    "PNi = dc.columns.get_loc(\"POS_NEW\")\n",
    "dc['7_DAY'] = dc.iloc[:,PNi].rolling(window=7).mean() # Calculates the rolling 7-day average of new cases.\n",
    "dc['14_DAY'] = dc.iloc[:,PNi].rolling(window=14).mean() # Calculates the rolling 14-day average of new cases."
   ]
  },
  {
   "cell_type": "code",
   "execution_count": 4,
   "metadata": {
    "execution": {
     "iopub.execute_input": "2020-09-13T22:09:24.024122Z",
     "iopub.status.busy": "2020-09-13T22:09:24.023579Z",
     "iopub.status.idle": "2020-09-13T22:09:24.029398Z",
     "shell.execute_reply": "2020-09-13T22:09:24.028868Z"
    },
    "jupyter": {
     "source_hidden": true
    },
    "papermill": {
     "duration": 0.022165,
     "end_time": "2020-09-13T22:09:24.029537",
     "exception": false,
     "start_time": "2020-09-13T22:09:24.007372",
     "status": "completed"
    },
    "scrolled": true,
    "tags": [
     "hide-input"
    ]
   },
   "outputs": [
    {
     "data": {
      "text/markdown": [
       "### Last updated: September 13, 2020"
      ],
      "text/plain": [
       "<IPython.core.display.Markdown object>"
      ]
     },
     "metadata": {},
     "output_type": "display_data"
    }
   ],
   "source": [
    "display(Markdown('### Last updated: ' + dc.iloc[-1]['DATE'].strftime(\"%B %d, %Y\")))"
   ]
  },
  {
   "cell_type": "code",
   "execution_count": 5,
   "metadata": {
    "execution": {
     "iopub.execute_input": "2020-09-13T22:09:24.057633Z",
     "iopub.status.busy": "2020-09-13T22:09:24.057062Z",
     "iopub.status.idle": "2020-09-13T22:09:24.060377Z",
     "shell.execute_reply": "2020-09-13T22:09:24.061275Z"
    },
    "jupyter": {
     "source_hidden": true
    },
    "papermill": {
     "duration": 0.018086,
     "end_time": "2020-09-13T22:09:24.061439",
     "exception": false,
     "start_time": "2020-09-13T22:09:24.043353",
     "status": "completed"
    },
    "tags": [
     "hide-input"
    ]
   },
   "outputs": [
    {
     "data": {
      "text/markdown": [
       "# Dunn County has 249 total positive cases, with 12 new cases reported today."
      ],
      "text/plain": [
       "<IPython.core.display.Markdown object>"
      ]
     },
     "metadata": {},
     "output_type": "display_data"
    }
   ],
   "source": [
    "display(Markdown('# Dunn County has ' + str(dc.iloc[-1]['POSITIVE']) + ' total positive cases, with '+ str(int(dc.iloc[-1]['POS_NEW'])) + ' new cases reported today.'))"
   ]
  },
  {
   "cell_type": "code",
   "execution_count": 6,
   "metadata": {
    "execution": {
     "iopub.execute_input": "2020-09-13T22:09:24.085574Z",
     "iopub.status.busy": "2020-09-13T22:09:24.085040Z",
     "iopub.status.idle": "2020-09-13T22:09:24.300963Z",
     "shell.execute_reply": "2020-09-13T22:09:24.300411Z"
    },
    "jupyter": {
     "source_hidden": true
    },
    "papermill": {
     "duration": 0.229298,
     "end_time": "2020-09-13T22:09:24.301120",
     "exception": false,
     "start_time": "2020-09-13T22:09:24.071822",
     "status": "completed"
    },
    "scrolled": false,
    "tags": [
     "hide-input"
    ]
   },
   "outputs": [
    {
     "data": {
      "image/png": "[encoded data removed]",
      "text/plain": [
       "<Figure size 864x432 with 1 Axes>"
      ]
     },
     "metadata": {
      "needs_background": "light"
     },
     "output_type": "display_data"
    }
   ],
   "source": [
    "dc.plot(x='DATE',y='POSITIVE',color='red',grid='True',figsize=(12,6)).set_xlabel('Date');"
   ]
  },
  {
   "cell_type": "markdown",
   "metadata": {
    "papermill": {
     "duration": 0.008965,
     "end_time": "2020-09-13T22:09:24.319059",
     "exception": false,
     "start_time": "2020-09-13T22:09:24.310094",
     "status": "completed"
    },
    "tags": []
   },
   "source": [
    "## Figure 1: Cummulative number of positive cases."
   ]
  },
  {
   "cell_type": "code",
   "execution_count": 7,
   "metadata": {
    "execution": {
     "iopub.execute_input": "2020-09-13T22:09:24.347146Z",
     "iopub.status.busy": "2020-09-13T22:09:24.346575Z",
     "iopub.status.idle": "2020-09-13T22:09:24.579064Z",
     "shell.execute_reply": "2020-09-13T22:09:24.579493Z"
    },
    "jupyter": {
     "source_hidden": true
    },
    "papermill": {
     "duration": 0.251033,
     "end_time": "2020-09-13T22:09:24.579665",
     "exception": false,
     "start_time": "2020-09-13T22:09:24.328632",
     "status": "completed"
    },
    "scrolled": false,
    "tags": [
     "hide-input"
    ]
   },
   "outputs": [
    {
     "data": {
      "image/png": "[encoded data removed]",
      "text/plain": [
       "<Figure size 864x432 with 1 Axes>"
      ]
     },
     "metadata": {
      "needs_background": "light"
     },
     "output_type": "display_data"
    }
   ],
   "source": [
    "dc.plot(kind='line',x='DATE',y='7_DAY',color='blue',grid='True',figsize=(12,6)).set_xlabel('Date');"
   ]
  },
  {
   "cell_type": "markdown",
   "metadata": {
    "papermill": {
     "duration": 0.010181,
     "end_time": "2020-09-13T22:09:24.601430",
     "exception": false,
     "start_time": "2020-09-13T22:09:24.591249",
     "status": "completed"
    },
    "tags": []
   },
   "source": [
    "## Figure 2: Rolling 7-day average of daily new cases."
   ]
  },
  {
   "cell_type": "code",
   "execution_count": 8,
   "metadata": {
    "execution": {
     "iopub.execute_input": "2020-09-13T22:09:24.642302Z",
     "iopub.status.busy": "2020-09-13T22:09:24.631653Z",
     "iopub.status.idle": "2020-09-13T22:09:24.824340Z",
     "shell.execute_reply": "2020-09-13T22:09:24.823826Z"
    },
    "jupyter": {
     "source_hidden": true
    },
    "papermill": {
     "duration": 0.213611,
     "end_time": "2020-09-13T22:09:24.824471",
     "exception": false,
     "start_time": "2020-09-13T22:09:24.610860",
     "status": "completed"
    },
    "tags": []
   },
   "outputs": [
    {
     "data": {
      "image/png": "[encoded data removed]",
      "text/plain": [
       "<Figure size 864x432 with 1 Axes>"
      ]
     },
     "metadata": {
      "needs_background": "light"
     },
     "output_type": "display_data"
    }
   ],
   "source": [
    "dc.plot(kind='line',x='DATE',y='14_DAY',color='green',grid='True',figsize=(12,6)).set_xlabel('Date');"
   ]
  },
  {
   "cell_type": "markdown",
   "metadata": {
    "papermill": {
     "duration": 0.010548,
     "end_time": "2020-09-13T22:09:24.846175",
     "exception": false,
     "start_time": "2020-09-13T22:09:24.835627",
     "status": "completed"
    },
    "tags": []
   },
   "source": [
    "## Figure 3: Rolling 14-day average of daily new cases."
   ]
  },
  {
   "cell_type": "markdown",
   "metadata": {
    "papermill": {
     "duration": 0.012491,
     "end_time": "2020-09-13T22:09:24.872138",
     "exception": false,
     "start_time": "2020-09-13T22:09:24.859647",
     "status": "completed"
    },
    "tags": []
   },
   "source": [
    "Data source: [Wisconsin Department of Health Services](https://data.dhsgis.wi.gov/datasets/covid-19-historical-data-table/)"
   ]
  },
  {
   "cell_type": "code",
   "execution_count": 9,
   "metadata": {
    "execution": {
     "iopub.execute_input": "2020-09-13T22:09:24.899998Z",
     "iopub.status.busy": "2020-09-13T22:09:24.899451Z",
     "iopub.status.idle": "2020-09-13T22:09:24.903743Z",
     "shell.execute_reply": "2020-09-13T22:09:24.903262Z"
    },
    "jupyter": {
     "source_hidden": true
    },
    "papermill": {
     "duration": 0.020703,
     "end_time": "2020-09-13T22:09:24.903866",
     "exception": false,
     "start_time": "2020-09-13T22:09:24.883163",
     "status": "completed"
    },
    "tags": []
   },
   "outputs": [
    {
     "data": {
      "text/html": [
       "<style>\n",
       "div.input {\n",
       "    display:none;\n",
       "}\n",
       "</style>\n"
      ],
      "text/plain": [
       "<IPython.core.display.HTML object>"
      ]
     },
     "metadata": {},
     "output_type": "display_data"
    }
   ],
   "source": [
    "%%html\n",
    "<style>\n",
    "div.input {\n",
    "    display:none;\n",
    "}\n",
    "</style>"
   ]
  }
 ],
 "metadata": {
  "kernelspec": {
   "display_name": "Python 3",
   "language": "python",
   "name": "python3"
  },
  "language_info": {
   "codemirror_mode": {
    "name": "ipython",
    "version": 3
   },
   "file_extension": ".py",
   "mimetype": "text/x-python",
   "name": "python",
   "nbconvert_exporter": "python",
   "pygments_lexer": "ipython3",
   "version": "3.8.5"
  },
  "papermill": {
   "duration": 7.389698,
   "end_time": "2020-09-13T22:09:25.222288",
   "environment_variables": {},
   "exception": null,
   "input_path": "DunnCounty_COVID19.ipynb",
   "output_path": "DunnCounty_COVID19.ipynb",
   "parameters": {
    "Start": "True",
    "secretsPath": "/home/runner/work/_temp/secrets.json"
   },
   "start_time": "2020-09-13T22:09:17.832590",
   "version": "1.1.16"
  }
 },
 "nbformat": 4,
 "nbformat_minor": 2
}