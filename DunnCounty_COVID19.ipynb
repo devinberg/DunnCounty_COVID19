{
 "cells": [
  {
   "cell_type": "code",
   "execution_count": 1,
   "metadata": {
    "execution": {
     "iopub.execute_input": "2020-11-03T22:10:07.325031Z",
     "iopub.status.busy": "2020-11-03T22:10:07.324331Z",
     "iopub.status.idle": "2020-11-03T22:10:08.396184Z",
     "shell.execute_reply": "2020-11-03T22:10:08.395215Z"
    },
    "jupyter": {
     "source_hidden": true
    },
    "papermill": {
     "duration": 1.08905,
     "end_time": "2020-11-03T22:10:08.396496",
     "exception": false,
     "start_time": "2020-11-03T22:10:07.307446",
     "status": "completed"
    },
    "scrolled": true,
    "tags": [
     "hide-input"
    ]
   },
   "outputs": [],
   "source": [
    "import pandas as pd\n",
    "import matplotlib.pyplot as plt\n",
    "from matplotlib import dates\n",
    "from IPython.display import display, Markdown\n",
    "%matplotlib inline"
   ]
  },
  {
   "cell_type": "code",
   "execution_count": 2,
   "metadata": {
    "execution": {
     "iopub.execute_input": "2020-11-03T22:10:08.417964Z",
     "iopub.status.busy": "2020-11-03T22:10:08.417378Z",
     "iopub.status.idle": "2020-11-03T22:10:09.356066Z",
     "shell.execute_reply": "2020-11-03T22:10:09.356845Z"
    },
    "jupyter": {
     "source_hidden": true
    },
    "papermill": {
     "duration": 0.95245,
     "end_time": "2020-11-03T22:10:09.357110",
     "exception": false,
     "start_time": "2020-11-03T22:10:08.404660",
     "status": "completed"
    },
    "scrolled": true,
    "tags": [
     "hide-input"
    ]
   },
   "outputs": [],
   "source": [
    "# This is the data for all of Wisconsin.\n",
    "url = \"https://opendata.arcgis.com/datasets/5374188992374b318d3e2305216ee413_12.csv\"\n",
    "data = pd.read_csv(url, parse_dates=['DATE'], low_memory=False)"
   ]
  },
  {
   "cell_type": "code",
   "execution_count": 3,
   "metadata": {
    "execution": {
     "iopub.execute_input": "2020-11-03T22:10:09.382146Z",
     "iopub.status.busy": "2020-11-03T22:10:09.381552Z",
     "iopub.status.idle": "2020-11-03T22:10:09.390233Z",
     "shell.execute_reply": "2020-11-03T22:10:09.390678Z"
    },
    "jupyter": {
     "source_hidden": true
    },
    "papermill": {
     "duration": 0.022697,
     "end_time": "2020-11-03T22:10:09.390842",
     "exception": false,
     "start_time": "2020-11-03T22:10:09.368145",
     "status": "completed"
    },
    "scrolled": true,
    "tags": [
     "hide-input"
    ]
   },
   "outputs": [],
   "source": [
    "dc = data.groupby('NAME').get_group('Dunn').sort_values(by='DATE') # Select the data for Dunn County from the full data.\n",
    "PNi = dc.columns.get_loc(\"POS_NEW\")\n",
    "dc['7_DAY'] = dc.iloc[:,PNi].rolling(window=7).mean() # Calculates the rolling 7-day average of new cases.\n",
    "dc['14_DAY'] = dc.iloc[:,PNi].rolling(window=14).mean() # Calculates the rolling 14-day average of new cases."
   ]
  },
  {
   "cell_type": "code",
   "execution_count": 4,
   "metadata": {
    "execution": {
     "iopub.execute_input": "2020-11-03T22:10:09.411688Z",
     "iopub.status.busy": "2020-11-03T22:10:09.411136Z",
     "iopub.status.idle": "2020-11-03T22:10:09.416063Z",
     "shell.execute_reply": "2020-11-03T22:10:09.416499Z"
    },
    "jupyter": {
     "source_hidden": true
    },
    "papermill": {
     "duration": 0.018642,
     "end_time": "2020-11-03T22:10:09.416651",
     "exception": false,
     "start_time": "2020-11-03T22:10:09.398009",
     "status": "completed"
    },
    "scrolled": true,
    "tags": [
     "hide-input"
    ]
   },
   "outputs": [
    {
     "data": {
      "text/markdown": [
       "### Last updated: November 03, 2020"
      ],
      "text/plain": [
       "<IPython.core.display.Markdown object>"
      ]
     },
     "metadata": {},
     "output_type": "display_data"
    }
   ],
   "source": [
    "display(Markdown('### Last updated: ' + dc.iloc[-1]['DATE'].strftime(\"%B %d, %Y\")))"
   ]
  },
  {
   "cell_type": "code",
   "execution_count": 5,
   "metadata": {
    "execution": {
     "iopub.execute_input": "2020-11-03T22:10:09.438251Z",
     "iopub.status.busy": "2020-11-03T22:10:09.437695Z",
     "iopub.status.idle": "2020-11-03T22:10:09.441093Z",
     "shell.execute_reply": "2020-11-03T22:10:09.441664Z"
    },
    "jupyter": {
     "source_hidden": true
    },
    "papermill": {
     "duration": 0.017512,
     "end_time": "2020-11-03T22:10:09.441822",
     "exception": false,
     "start_time": "2020-11-03T22:10:09.424310",
     "status": "completed"
    },
    "tags": [
     "hide-input"
    ]
   },
   "outputs": [
    {
     "data": {
      "text/markdown": [
       "# Dunn County has 1284 total positive cases, with 39 new cases reported today."
      ],
      "text/plain": [
       "<IPython.core.display.Markdown object>"
      ]
     },
     "metadata": {},
     "output_type": "display_data"
    }
   ],
   "source": [
    "display(Markdown('# Dunn County has ' + str(dc.iloc[-1]['POSITIVE']) + ' total positive cases, with '+ str(int(dc.iloc[-1]['POS_NEW'])) + ' new cases reported today.'))"
   ]
  },
  {
   "cell_type": "code",
   "execution_count": 6,
   "metadata": {
    "execution": {
     "iopub.execute_input": "2020-11-03T22:10:09.461668Z",
     "iopub.status.busy": "2020-11-03T22:10:09.461112Z",
     "iopub.status.idle": "2020-11-03T22:10:09.686552Z",
     "shell.execute_reply": "2020-11-03T22:10:09.686989Z"
    },
    "jupyter": {
     "source_hidden": true
    },
    "papermill": {
     "duration": 0.237373,
     "end_time": "2020-11-03T22:10:09.687150",
     "exception": false,
     "start_time": "2020-11-03T22:10:09.449777",
     "status": "completed"
    },
    "scrolled": false,
    "tags": [
     "hide-input"
    ]
   },
   "outputs": [
    {
     "data": {
      "image/png": "[encoded data removed]",
      "text/plain": [
       "<Figure size 864x432 with 1 Axes>"
      ]
     },
     "metadata": {
      "needs_background": "light"
     },
     "output_type": "display_data"
    }
   ],
   "source": [
    "dc.plot(x='DATE',y='POSITIVE',color='red',grid='True',figsize=(12,6)).set_xlabel('Date');"
   ]
  },
  {
   "cell_type": "markdown",
   "metadata": {
    "papermill": {
     "duration": 0.009094,
     "end_time": "2020-11-03T22:10:09.705171",
     "exception": false,
     "start_time": "2020-11-03T22:10:09.696077",
     "status": "completed"
    },
    "tags": []
   },
   "source": [
    "## Figure 1: Cummulative number of positive cases."
   ]
  },
  {
   "cell_type": "code",
   "execution_count": 7,
   "metadata": {
    "execution": {
     "iopub.execute_input": "2020-11-03T22:10:09.728045Z",
     "iopub.status.busy": "2020-11-03T22:10:09.727495Z",
     "iopub.status.idle": "2020-11-03T22:10:09.944347Z",
     "shell.execute_reply": "2020-11-03T22:10:09.943857Z"
    },
    "jupyter": {
     "source_hidden": true
    },
    "papermill": {
     "duration": 0.230538,
     "end_time": "2020-11-03T22:10:09.944479",
     "exception": false,
     "start_time": "2020-11-03T22:10:09.713941",
     "status": "completed"
    },
    "scrolled": false,
    "tags": [
     "hide-input"
    ]
   },
   "outputs": [
    {
     "data": {
      "image/png": "[encoded data removed]",
      "text/plain": [
       "<Figure size 864x432 with 1 Axes>"
      ]
     },
     "metadata": {
      "needs_background": "light"
     },
     "output_type": "display_data"
    }
   ],
   "source": [
    "dc.plot(kind='line',x='DATE',y='7_DAY',color='blue',grid='True',figsize=(12,6)).set_xlabel('Date');"
   ]
  },
  {
   "cell_type": "markdown",
   "metadata": {
    "papermill": {
     "duration": 0.009788,
     "end_time": "2020-11-03T22:10:09.964421",
     "exception": false,
     "start_time": "2020-11-03T22:10:09.954633",
     "status": "completed"
    },
    "tags": []
   },
   "source": [
    "## Figure 2: Rolling 7-day average of daily new cases."
   ]
  },
  {
   "cell_type": "code",
   "execution_count": 8,
   "metadata": {
    "execution": {
     "iopub.execute_input": "2020-11-03T22:10:10.006368Z",
     "iopub.status.busy": "2020-11-03T22:10:09.988525Z",
     "iopub.status.idle": "2020-11-03T22:10:10.203077Z",
     "shell.execute_reply": "2020-11-03T22:10:10.203494Z"
    },
    "jupyter": {
     "source_hidden": true
    },
    "papermill": {
     "duration": 0.229582,
     "end_time": "2020-11-03T22:10:10.203659",
     "exception": false,
     "start_time": "2020-11-03T22:10:09.974077",
     "status": "completed"
    },
    "tags": []
   },
   "outputs": [
    {
     "data": {
      "image/png": "[encoded data removed]",
      "text/plain": [
       "<Figure size 864x432 with 1 Axes>"
      ]
     },
     "metadata": {
      "needs_background": "light"
     },
     "output_type": "display_data"
    }
   ],
   "source": [
    "dc.plot(kind='line',x='DATE',y='14_DAY',color='green',grid='True',figsize=(12,6)).set_xlabel('Date');"
   ]
  },
  {
   "cell_type": "markdown",
   "metadata": {
    "papermill": {
     "duration": 0.010568,
     "end_time": "2020-11-03T22:10:10.225291",
     "exception": false,
     "start_time": "2020-11-03T22:10:10.214723",
     "status": "completed"
    },
    "tags": []
   },
   "source": [
    "## Figure 3: Rolling 14-day average of daily new cases."
   ]
  },
  {
   "cell_type": "markdown",
   "metadata": {
    "papermill": {
     "duration": 0.010626,
     "end_time": "2020-11-03T22:10:10.246592",
     "exception": false,
     "start_time": "2020-11-03T22:10:10.235966",
     "status": "completed"
    },
    "tags": []
   },
   "source": [
    "Data source: [Wisconsin Department of Health Services](https://data.dhsgis.wi.gov/datasets/covid-19-historical-data-table/)"
   ]
  },
  {
   "cell_type": "code",
   "execution_count": 9,
   "metadata": {
    "execution": {
     "iopub.execute_input": "2020-11-03T22:10:10.272188Z",
     "iopub.status.busy": "2020-11-03T22:10:10.271644Z",
     "iopub.status.idle": "2020-11-03T22:10:10.275550Z",
     "shell.execute_reply": "2020-11-03T22:10:10.275095Z"
    },
    "jupyter": {
     "source_hidden": true
    },
    "papermill": {
     "duration": 0.018409,
     "end_time": "2020-11-03T22:10:10.275679",
     "exception": false,
     "start_time": "2020-11-03T22:10:10.257270",
     "status": "completed"
    },
    "tags": []
   },
   "outputs": [
    {
     "data": {
      "text/html": [
       "<style>\n",
       "div.input {\n",
       "    display:none;\n",
       "}\n",
       "</style>\n"
      ],
      "text/plain": [
       "<IPython.core.display.HTML object>"
      ]
     },
     "metadata": {},
     "output_type": "display_data"
    }
   ],
   "source": [
    "%%html\n",
    "<style>\n",
    "div.input {\n",
    "    display:none;\n",
    "}\n",
    "</style>"
   ]
  }
 ],
 "metadata": {
  "kernelspec": {
   "display_name": "Python 3",
   "language": "python",
   "name": "python3"
  },
  "language_info": {
   "codemirror_mode": {
    "name": "ipython",
    "version": 3
   },
   "file_extension": ".py",
   "mimetype": "text/x-python",
   "name": "python",
   "nbconvert_exporter": "python",
   "pygments_lexer": "ipython3",
   "version": "3.8.6"
  },
  "papermill": {
   "duration": 4.77713,
   "end_time": "2020-11-03T22:10:10.594046",
   "environment_variables": {},
   "exception": null,
   "input_path": "DunnCounty_COVID19.ipynb",
   "output_path": "DunnCounty_COVID19.ipynb",
   "parameters": {
    "Start": "True",
    "secretsPath": "/home/runner/work/_temp/secrets.json"
   },
   "start_time": "2020-11-03T22:10:05.816916",
   "version": "1.1.16"
  }
 },
 "nbformat": 4,
 "nbformat_minor": 2
}