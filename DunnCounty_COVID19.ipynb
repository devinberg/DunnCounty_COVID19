{
 "cells": [
  {
   "cell_type": "code",
   "execution_count": 1,
   "id": "solar-understanding",
   "metadata": {
    "execution": {
     "iopub.execute_input": "2021-02-06T22:11:36.920043Z",
     "iopub.status.busy": "2021-02-06T22:11:36.919349Z",
     "iopub.status.idle": "2021-02-06T22:11:39.526648Z",
     "shell.execute_reply": "2021-02-06T22:11:39.525992Z"
    },
    "jupyter": {
     "source_hidden": true
    },
    "papermill": {
     "duration": 2.629499,
     "end_time": "2021-02-06T22:11:39.526891",
     "exception": false,
     "start_time": "2021-02-06T22:11:36.897392",
     "status": "completed"
    },
    "scrolled": true,
    "tags": [
     "hide-input"
    ]
   },
   "outputs": [],
   "source": [
    "import pandas as pd\n",
    "import matplotlib.pyplot as plt\n",
    "from matplotlib import dates\n",
    "from IPython.display import display, Markdown\n",
    "%matplotlib inline"
   ]
  },
  {
   "cell_type": "code",
   "execution_count": 2,
   "id": "purple-playlist",
   "metadata": {
    "execution": {
     "iopub.execute_input": "2021-02-06T22:11:39.556190Z",
     "iopub.status.busy": "2021-02-06T22:11:39.555534Z",
     "iopub.status.idle": "2021-02-06T22:11:40.189137Z",
     "shell.execute_reply": "2021-02-06T22:11:40.188557Z"
    },
    "jupyter": {
     "source_hidden": true
    },
    "papermill": {
     "duration": 0.651343,
     "end_time": "2021-02-06T22:11:40.189286",
     "exception": false,
     "start_time": "2021-02-06T22:11:39.537943",
     "status": "completed"
    },
    "scrolled": true,
    "tags": [
     "hide-input"
    ]
   },
   "outputs": [],
   "source": [
    "# This is the data for all of Wisconsin.\n",
    "url = \"https://opendata.arcgis.com/datasets/5374188992374b318d3e2305216ee413_12.csv\"\n",
    "data = pd.read_csv(url, parse_dates=['DATE'], low_memory=False)"
   ]
  },
  {
   "cell_type": "code",
   "execution_count": 3,
   "id": "proprietary-klein",
   "metadata": {
    "execution": {
     "iopub.execute_input": "2021-02-06T22:11:40.217597Z",
     "iopub.status.busy": "2021-02-06T22:11:40.216805Z",
     "iopub.status.idle": "2021-02-06T22:11:40.226482Z",
     "shell.execute_reply": "2021-02-06T22:11:40.225739Z"
    },
    "jupyter": {
     "source_hidden": true
    },
    "papermill": {
     "duration": 0.026974,
     "end_time": "2021-02-06T22:11:40.226723",
     "exception": false,
     "start_time": "2021-02-06T22:11:40.199749",
     "status": "completed"
    },
    "scrolled": true,
    "tags": [
     "hide-input"
    ]
   },
   "outputs": [],
   "source": [
    "dc = data.groupby('NAME').get_group('Dunn').sort_values(by='DATE') # Select the data for Dunn County from the full data.\n",
    "PNi = dc.columns.get_loc(\"POS_NEW\")\n",
    "dc['7_DAY'] = dc.iloc[:,PNi].rolling(window=7).mean() # Calculates the rolling 7-day average of new cases.\n",
    "dc['14_DAY'] = dc.iloc[:,PNi].rolling(window=14).mean() # Calculates the rolling 14-day average of new cases."
   ]
  },
  {
   "cell_type": "code",
   "execution_count": 4,
   "id": "steady-supervision",
   "metadata": {
    "execution": {
     "iopub.execute_input": "2021-02-06T22:11:40.254920Z",
     "iopub.status.busy": "2021-02-06T22:11:40.253989Z",
     "iopub.status.idle": "2021-02-06T22:11:40.256579Z",
     "shell.execute_reply": "2021-02-06T22:11:40.257131Z"
    },
    "jupyter": {
     "source_hidden": true
    },
    "papermill": {
     "duration": 0.020482,
     "end_time": "2021-02-06T22:11:40.257288",
     "exception": false,
     "start_time": "2021-02-06T22:11:40.236806",
     "status": "completed"
    },
    "scrolled": true,
    "tags": [
     "hide-input"
    ]
   },
   "outputs": [
    {
     "data": {
      "text/markdown": [
       "### Last updated: February 06, 2021"
      ],
      "text/plain": [
       "<IPython.core.display.Markdown object>"
      ]
     },
     "metadata": {},
     "output_type": "display_data"
    }
   ],
   "source": [
    "display(Markdown('### Last updated: ' + dc.iloc[-1]['DATE'].strftime(\"%B %d, %Y\")))"
   ]
  },
  {
   "cell_type": "code",
   "execution_count": 5,
   "id": "lonely-pitch",
   "metadata": {
    "execution": {
     "iopub.execute_input": "2021-02-06T22:11:40.286044Z",
     "iopub.status.busy": "2021-02-06T22:11:40.285301Z",
     "iopub.status.idle": "2021-02-06T22:11:40.288495Z",
     "shell.execute_reply": "2021-02-06T22:11:40.289248Z"
    },
    "jupyter": {
     "source_hidden": true
    },
    "papermill": {
     "duration": 0.020098,
     "end_time": "2021-02-06T22:11:40.289474",
     "exception": false,
     "start_time": "2021-02-06T22:11:40.269376",
     "status": "completed"
    },
    "tags": [
     "hide-input"
    ]
   },
   "outputs": [
    {
     "data": {
      "text/markdown": [
       "# Dunn County has 4131 total positive cases, with 3 new cases reported today."
      ],
      "text/plain": [
       "<IPython.core.display.Markdown object>"
      ]
     },
     "metadata": {},
     "output_type": "display_data"
    }
   ],
   "source": [
    "display(Markdown('# Dunn County has ' + str(dc.iloc[-1]['POSITIVE']) + ' total positive cases, with '+ str(int(dc.iloc[-1]['POS_NEW'])) + ' new cases reported today.'))"
   ]
  },
  {
   "cell_type": "code",
   "execution_count": 6,
   "id": "compound-nightmare",
   "metadata": {
    "execution": {
     "iopub.execute_input": "2021-02-06T22:11:40.317140Z",
     "iopub.status.busy": "2021-02-06T22:11:40.316476Z",
     "iopub.status.idle": "2021-02-06T22:11:40.664898Z",
     "shell.execute_reply": "2021-02-06T22:11:40.665448Z"
    },
    "jupyter": {
     "source_hidden": true
    },
    "papermill": {
     "duration": 0.364747,
     "end_time": "2021-02-06T22:11:40.665633",
     "exception": false,
     "start_time": "2021-02-06T22:11:40.300886",
     "status": "completed"
    },
    "scrolled": false,
    "tags": [
     "hide-input"
    ]
   },
   "outputs": [
    {
     "data": {
      "image/png": "[encoded data removed]",
      "text/plain": [
       "<Figure size 864x432 with 1 Axes>"
      ]
     },
     "metadata": {
      "needs_background": "light"
     },
     "output_type": "display_data"
    }
   ],
   "source": [
    "dc.plot(x='DATE',y='POSITIVE',color='red',grid='True',figsize=(12,6)).set_xlabel('Date');"
   ]
  },
  {
   "cell_type": "markdown",
   "id": "coupled-literacy",
   "metadata": {
    "papermill": {
     "duration": 0.01158,
     "end_time": "2021-02-06T22:11:40.689105",
     "exception": false,
     "start_time": "2021-02-06T22:11:40.677525",
     "status": "completed"
    },
    "tags": []
   },
   "source": [
    "## Figure 1: Cummulative number of positive cases."
   ]
  },
  {
   "cell_type": "code",
   "execution_count": 7,
   "id": "surrounded-reserve",
   "metadata": {
    "execution": {
     "iopub.execute_input": "2021-02-06T22:11:40.720367Z",
     "iopub.status.busy": "2021-02-06T22:11:40.719682Z",
     "iopub.status.idle": "2021-02-06T22:11:41.004915Z",
     "shell.execute_reply": "2021-02-06T22:11:41.004307Z"
    },
    "jupyter": {
     "source_hidden": true
    },
    "papermill": {
     "duration": 0.303535,
     "end_time": "2021-02-06T22:11:41.005113",
     "exception": false,
     "start_time": "2021-02-06T22:11:40.701578",
     "status": "completed"
    },
    "scrolled": false,
    "tags": [
     "hide-input"
    ]
   },
   "outputs": [
    {
     "data": {
      "image/png": "[encoded data removed]",
      "text/plain": [
       "<Figure size 864x432 with 1 Axes>"
      ]
     },
     "metadata": {
      "needs_background": "light"
     },
     "output_type": "display_data"
    }
   ],
   "source": [
    "dc.plot(kind='line',x='DATE',y='7_DAY',color='blue',grid='True',figsize=(12,6)).set_xlabel('Date');"
   ]
  },
  {
   "cell_type": "markdown",
   "id": "professional-savannah",
   "metadata": {
    "papermill": {
     "duration": 0.012684,
     "end_time": "2021-02-06T22:11:41.030337",
     "exception": false,
     "start_time": "2021-02-06T22:11:41.017653",
     "status": "completed"
    },
    "tags": []
   },
   "source": [
    "## Figure 2: Rolling 7-day average of daily new cases."
   ]
  },
  {
   "cell_type": "code",
   "execution_count": 8,
   "id": "stretch-investor",
   "metadata": {
    "execution": {
     "iopub.execute_input": "2021-02-06T22:11:41.063963Z",
     "iopub.status.busy": "2021-02-06T22:11:41.063351Z",
     "iopub.status.idle": "2021-02-06T22:11:41.374911Z",
     "shell.execute_reply": "2021-02-06T22:11:41.375460Z"
    },
    "jupyter": {
     "source_hidden": true
    },
    "papermill": {
     "duration": 0.331033,
     "end_time": "2021-02-06T22:11:41.375682",
     "exception": false,
     "start_time": "2021-02-06T22:11:41.044649",
     "status": "completed"
    },
    "tags": []
   },
   "outputs": [
    {
     "data": {
      "image/png": "[encoded data removed]",
      "text/plain": [
       "<Figure size 864x432 with 1 Axes>"
      ]
     },
     "metadata": {
      "needs_background": "light"
     },
     "output_type": "display_data"
    }
   ],
   "source": [
    "dc.plot(kind='line',x='DATE',y='14_DAY',color='green',grid='True',figsize=(12,6)).set_xlabel('Date');"
   ]
  },
  {
   "cell_type": "markdown",
   "id": "prerequisite-species",
   "metadata": {
    "papermill": {
     "duration": 0.014531,
     "end_time": "2021-02-06T22:11:41.404300",
     "exception": false,
     "start_time": "2021-02-06T22:11:41.389769",
     "status": "completed"
    },
    "tags": []
   },
   "source": [
    "## Figure 3: Rolling 14-day average of daily new cases."
   ]
  },
  {
   "cell_type": "markdown",
   "id": "palestinian-guard",
   "metadata": {
    "papermill": {
     "duration": 0.01387,
     "end_time": "2021-02-06T22:11:41.432194",
     "exception": false,
     "start_time": "2021-02-06T22:11:41.418324",
     "status": "completed"
    },
    "tags": []
   },
   "source": [
    "Data source: [Wisconsin Department of Health Services](https://data.dhsgis.wi.gov/datasets/covid-19-historical-data-table/)"
   ]
  },
  {
   "cell_type": "code",
   "execution_count": 9,
   "id": "proof-medicare",
   "metadata": {
    "execution": {
     "iopub.execute_input": "2021-02-06T22:11:41.465179Z",
     "iopub.status.busy": "2021-02-06T22:11:41.464534Z",
     "iopub.status.idle": "2021-02-06T22:11:41.467594Z",
     "shell.execute_reply": "2021-02-06T22:11:41.468128Z"
    },
    "jupyter": {
     "source_hidden": true
    },
    "papermill": {
     "duration": 0.021937,
     "end_time": "2021-02-06T22:11:41.468312",
     "exception": false,
     "start_time": "2021-02-06T22:11:41.446375",
     "status": "completed"
    },
    "tags": []
   },
   "outputs": [
    {
     "data": {
      "text/html": [
       "<style>\n",
       "div.input {\n",
       "    display:none;\n",
       "}\n",
       "</style>\n"
      ],
      "text/plain": [
       "<IPython.core.display.HTML object>"
      ]
     },
     "metadata": {},
     "output_type": "display_data"
    }
   ],
   "source": [
    "%%html\n",
    "<style>\n",
    "div.input {\n",
    "    display:none;\n",
    "}\n",
    "</style>"
   ]
  }
 ],
 "metadata": {
  "kernelspec": {
   "display_name": "Python 3",
   "language": "python",
   "name": "python3"
  },
  "language_info": {
   "codemirror_mode": {
    "name": "ipython",
    "version": 3
   },
   "file_extension": ".py",
   "mimetype": "text/x-python",
   "name": "python",
   "nbconvert_exporter": "python",
   "pygments_lexer": "ipython3",
   "version": "3.8.7"
  },
  "papermill": {
   "duration": 6.994478,
   "end_time": "2021-02-06T22:11:41.891369",
   "environment_variables": {},
   "exception": null,
   "input_path": "DunnCounty_COVID19.ipynb",
   "output_path": "DunnCounty_COVID19.ipynb",
   "parameters": {
    "Start": "True",
    "secretsPath": "/home/runner/work/_temp/secrets.json"
   },
   "start_time": "2021-02-06T22:11:34.896891",
   "version": "1.1.16"
  }
 },
 "nbformat": 4,
 "nbformat_minor": 5
}