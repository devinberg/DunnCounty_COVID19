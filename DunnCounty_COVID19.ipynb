{
 "cells": [
  {
   "cell_type": "code",
   "execution_count": 1,
   "id": "solar-understanding",
   "metadata": {
    "execution": {
     "iopub.execute_input": "2021-02-22T10:10:39.765523Z",
     "iopub.status.busy": "2021-02-22T10:10:39.764978Z",
     "iopub.status.idle": "2021-02-22T10:10:42.336016Z",
     "shell.execute_reply": "2021-02-22T10:10:42.335039Z"
    },
    "jupyter": {
     "source_hidden": true
    },
    "papermill": {
     "duration": 2.589937,
     "end_time": "2021-02-22T10:10:42.336246",
     "exception": false,
     "start_time": "2021-02-22T10:10:39.746309",
     "status": "completed"
    },
    "scrolled": true,
    "tags": [
     "hide-input"
    ]
   },
   "outputs": [],
   "source": [
    "import pandas as pd\n",
    "import matplotlib.pyplot as plt\n",
    "from matplotlib import dates\n",
    "from IPython.display import display, Markdown\n",
    "%matplotlib inline"
   ]
  },
  {
   "cell_type": "code",
   "execution_count": 2,
   "id": "purple-playlist",
   "metadata": {
    "execution": {
     "iopub.execute_input": "2021-02-22T10:10:42.359646Z",
     "iopub.status.busy": "2021-02-22T10:10:42.359133Z",
     "iopub.status.idle": "2021-02-22T10:10:43.234275Z",
     "shell.execute_reply": "2021-02-22T10:10:43.233744Z"
    },
    "jupyter": {
     "source_hidden": true
    },
    "papermill": {
     "duration": 0.888173,
     "end_time": "2021-02-22T10:10:43.234403",
     "exception": false,
     "start_time": "2021-02-22T10:10:42.346230",
     "status": "completed"
    },
    "scrolled": true,
    "tags": [
     "hide-input"
    ]
   },
   "outputs": [],
   "source": [
    "# This is the data for all of Wisconsin.\n",
    "url = \"https://opendata.arcgis.com/datasets/5374188992374b318d3e2305216ee413_12.csv\"\n",
    "data = pd.read_csv(url, parse_dates=['DATE'], low_memory=False)"
   ]
  },
  {
   "cell_type": "code",
   "execution_count": 3,
   "id": "proprietary-klein",
   "metadata": {
    "execution": {
     "iopub.execute_input": "2021-02-22T10:10:43.255574Z",
     "iopub.status.busy": "2021-02-22T10:10:43.255006Z",
     "iopub.status.idle": "2021-02-22T10:10:43.263732Z",
     "shell.execute_reply": "2021-02-22T10:10:43.263183Z"
    },
    "jupyter": {
     "source_hidden": true
    },
    "papermill": {
     "duration": 0.022038,
     "end_time": "2021-02-22T10:10:43.263845",
     "exception": false,
     "start_time": "2021-02-22T10:10:43.241807",
     "status": "completed"
    },
    "scrolled": true,
    "tags": [
     "hide-input"
    ]
   },
   "outputs": [],
   "source": [
    "dc = data.groupby('NAME').get_group('Dunn').sort_values(by='DATE') # Select the data for Dunn County from the full data.\n",
    "PNi = dc.columns.get_loc(\"POS_NEW\")\n",
    "dc['7_DAY'] = dc.iloc[:,PNi].rolling(window=7).mean() # Calculates the rolling 7-day average of new cases.\n",
    "dc['14_DAY'] = dc.iloc[:,PNi].rolling(window=14).mean() # Calculates the rolling 14-day average of new cases."
   ]
  },
  {
   "cell_type": "code",
   "execution_count": 4,
   "id": "steady-supervision",
   "metadata": {
    "execution": {
     "iopub.execute_input": "2021-02-22T10:10:43.284294Z",
     "iopub.status.busy": "2021-02-22T10:10:43.283760Z",
     "iopub.status.idle": "2021-02-22T10:10:43.286696Z",
     "shell.execute_reply": "2021-02-22T10:10:43.286259Z"
    },
    "jupyter": {
     "source_hidden": true
    },
    "papermill": {
     "duration": 0.015987,
     "end_time": "2021-02-22T10:10:43.286828",
     "exception": false,
     "start_time": "2021-02-22T10:10:43.270841",
     "status": "completed"
    },
    "scrolled": true,
    "tags": [
     "hide-input"
    ]
   },
   "outputs": [
    {
     "data": {
      "text/markdown": [
       "### Last updated: February 21, 2021"
      ],
      "text/plain": [
       "<IPython.core.display.Markdown object>"
      ]
     },
     "metadata": {},
     "output_type": "display_data"
    }
   ],
   "source": [
    "display(Markdown('### Last updated: ' + dc.iloc[-1]['DATE'].strftime(\"%B %d, %Y\")))"
   ]
  },
  {
   "cell_type": "code",
   "execution_count": 5,
   "id": "lonely-pitch",
   "metadata": {
    "execution": {
     "iopub.execute_input": "2021-02-22T10:10:43.308969Z",
     "iopub.status.busy": "2021-02-22T10:10:43.308312Z",
     "iopub.status.idle": "2021-02-22T10:10:43.310669Z",
     "shell.execute_reply": "2021-02-22T10:10:43.311225Z"
    },
    "jupyter": {
     "source_hidden": true
    },
    "papermill": {
     "duration": 0.016327,
     "end_time": "2021-02-22T10:10:43.311380",
     "exception": false,
     "start_time": "2021-02-22T10:10:43.295053",
     "status": "completed"
    },
    "tags": [
     "hide-input"
    ]
   },
   "outputs": [
    {
     "data": {
      "text/markdown": [
       "# Dunn County has 4220 total positive cases, with 3 new cases reported today."
      ],
      "text/plain": [
       "<IPython.core.display.Markdown object>"
      ]
     },
     "metadata": {},
     "output_type": "display_data"
    }
   ],
   "source": [
    "display(Markdown('# Dunn County has ' + str(dc.iloc[-1]['POSITIVE']) + ' total positive cases, with '+ str(int(dc.iloc[-1]['POS_NEW'])) + ' new cases reported today.'))"
   ]
  },
  {
   "cell_type": "code",
   "execution_count": 6,
   "id": "compound-nightmare",
   "metadata": {
    "execution": {
     "iopub.execute_input": "2021-02-22T10:10:43.332106Z",
     "iopub.status.busy": "2021-02-22T10:10:43.331614Z",
     "iopub.status.idle": "2021-02-22T10:10:43.563857Z",
     "shell.execute_reply": "2021-02-22T10:10:43.564619Z"
    },
    "jupyter": {
     "source_hidden": true
    },
    "papermill": {
     "duration": 0.244661,
     "end_time": "2021-02-22T10:10:43.564862",
     "exception": false,
     "start_time": "2021-02-22T10:10:43.320201",
     "status": "completed"
    },
    "scrolled": false,
    "tags": [
     "hide-input"
    ]
   },
   "outputs": [
    {
     "data": {
      "image/png": "[encoded data removed]",
      "text/plain": [
       "<Figure size 864x432 with 1 Axes>"
      ]
     },
     "metadata": {
      "needs_background": "light"
     },
     "output_type": "display_data"
    }
   ],
   "source": [
    "dc.plot(x='DATE',y='POSITIVE',color='red',grid='True',figsize=(12,6)).set_xlabel('Date');"
   ]
  },
  {
   "cell_type": "markdown",
   "id": "coupled-literacy",
   "metadata": {
    "papermill": {
     "duration": 0.01022,
     "end_time": "2021-02-22T10:10:43.586049",
     "exception": false,
     "start_time": "2021-02-22T10:10:43.575829",
     "status": "completed"
    },
    "tags": []
   },
   "source": [
    "## Figure 1: Cummulative number of positive cases."
   ]
  },
  {
   "cell_type": "code",
   "execution_count": 7,
   "id": "surrounded-reserve",
   "metadata": {
    "execution": {
     "iopub.execute_input": "2021-02-22T10:10:43.610108Z",
     "iopub.status.busy": "2021-02-22T10:10:43.609619Z",
     "iopub.status.idle": "2021-02-22T10:10:43.792346Z",
     "shell.execute_reply": "2021-02-22T10:10:43.792841Z"
    },
    "jupyter": {
     "source_hidden": true
    },
    "papermill": {
     "duration": 0.197187,
     "end_time": "2021-02-22T10:10:43.793006",
     "exception": false,
     "start_time": "2021-02-22T10:10:43.595819",
     "status": "completed"
    },
    "scrolled": false,
    "tags": [
     "hide-input"
    ]
   },
   "outputs": [
    {
     "data": {
      "image/png": "[encoded data removed]",
      "text/plain": [
       "<Figure size 864x432 with 1 Axes>"
      ]
     },
     "metadata": {
      "needs_background": "light"
     },
     "output_type": "display_data"
    }
   ],
   "source": [
    "dc.plot(kind='line',x='DATE',y='7_DAY',color='blue',grid='True',figsize=(12,6)).set_xlabel('Date');"
   ]
  },
  {
   "cell_type": "markdown",
   "id": "professional-savannah",
   "metadata": {
    "papermill": {
     "duration": 0.011378,
     "end_time": "2021-02-22T10:10:43.815861",
     "exception": false,
     "start_time": "2021-02-22T10:10:43.804483",
     "status": "completed"
    },
    "tags": []
   },
   "source": [
    "## Figure 2: Rolling 7-day average of daily new cases."
   ]
  },
  {
   "cell_type": "code",
   "execution_count": 8,
   "id": "stretch-investor",
   "metadata": {
    "execution": {
     "iopub.execute_input": "2021-02-22T10:10:43.842383Z",
     "iopub.status.busy": "2021-02-22T10:10:43.841859Z",
     "iopub.status.idle": "2021-02-22T10:10:44.069229Z",
     "shell.execute_reply": "2021-02-22T10:10:44.069853Z"
    },
    "jupyter": {
     "source_hidden": true
    },
    "papermill": {
     "duration": 0.243385,
     "end_time": "2021-02-22T10:10:44.070053",
     "exception": false,
     "start_time": "2021-02-22T10:10:43.826668",
     "status": "completed"
    },
    "tags": []
   },
   "outputs": [
    {
     "data": {
      "image/png": "[encoded data removed]",
      "text/plain": [
       "<Figure size 864x432 with 1 Axes>"
      ]
     },
     "metadata": {
      "needs_background": "light"
     },
     "output_type": "display_data"
    }
   ],
   "source": [
    "dc.plot(kind='line',x='DATE',y='14_DAY',color='green',grid='True',figsize=(12,6)).set_xlabel('Date');"
   ]
  },
  {
   "cell_type": "markdown",
   "id": "prerequisite-species",
   "metadata": {
    "papermill": {
     "duration": 0.011834,
     "end_time": "2021-02-22T10:10:44.095027",
     "exception": false,
     "start_time": "2021-02-22T10:10:44.083193",
     "status": "completed"
    },
    "tags": []
   },
   "source": [
    "## Figure 3: Rolling 14-day average of daily new cases."
   ]
  },
  {
   "cell_type": "markdown",
   "id": "palestinian-guard",
   "metadata": {
    "papermill": {
     "duration": 0.011013,
     "end_time": "2021-02-22T10:10:44.117340",
     "exception": false,
     "start_time": "2021-02-22T10:10:44.106327",
     "status": "completed"
    },
    "tags": []
   },
   "source": [
    "Data source: [Wisconsin Department of Health Services](https://data.dhsgis.wi.gov/datasets/covid-19-historical-data-table/)"
   ]
  },
  {
   "cell_type": "code",
   "execution_count": 9,
   "id": "proof-medicare",
   "metadata": {
    "execution": {
     "iopub.execute_input": "2021-02-22T10:10:44.145010Z",
     "iopub.status.busy": "2021-02-22T10:10:44.144429Z",
     "iopub.status.idle": "2021-02-22T10:10:44.146338Z",
     "shell.execute_reply": "2021-02-22T10:10:44.146733Z"
    },
    "jupyter": {
     "source_hidden": true
    },
    "papermill": {
     "duration": 0.018722,
     "end_time": "2021-02-22T10:10:44.146878",
     "exception": false,
     "start_time": "2021-02-22T10:10:44.128156",
     "status": "completed"
    },
    "tags": []
   },
   "outputs": [
    {
     "data": {
      "text/html": [
       "<style>\n",
       "div.input {\n",
       "    display:none;\n",
       "}\n",
       "</style>\n"
      ],
      "text/plain": [
       "<IPython.core.display.HTML object>"
      ]
     },
     "metadata": {},
     "output_type": "display_data"
    }
   ],
   "source": [
    "%%html\n",
    "<style>\n",
    "div.input {\n",
    "    display:none;\n",
    "}\n",
    "</style>"
   ]
  }
 ],
 "metadata": {
  "kernelspec": {
   "display_name": "Python 3",
   "language": "python",
   "name": "python3"
  },
  "language_info": {
   "codemirror_mode": {
    "name": "ipython",
    "version": 3
   },
   "file_extension": ".py",
   "mimetype": "text/x-python",
   "name": "python",
   "nbconvert_exporter": "python",
   "pygments_lexer": "ipython3",
   "version": "3.8.7"
  },
  "papermill": {
   "duration": 6.318698,
   "end_time": "2021-02-22T10:10:44.465652",
   "environment_variables": {},
   "exception": null,
   "input_path": "DunnCounty_COVID19.ipynb",
   "output_path": "DunnCounty_COVID19.ipynb",
   "parameters": {
    "Start": "True",
    "secretsPath": "/home/runner/work/_temp/secrets.json"
   },
   "start_time": "2021-02-22T10:10:38.146954",
   "version": "1.1.16"
  }
 },
 "nbformat": 4,
 "nbformat_minor": 5
}