{
 "cells": [
  {
   "cell_type": "code",
   "execution_count": 1,
   "id": "solar-understanding",
   "metadata": {
    "execution": {
     "iopub.execute_input": "2021-06-29T22:11:22.710256Z",
     "iopub.status.busy": "2021-06-29T22:11:22.709686Z",
     "iopub.status.idle": "2021-06-29T22:11:23.590870Z",
     "shell.execute_reply": "2021-06-29T22:11:23.589835Z"
    },
    "jupyter": {
     "source_hidden": true
    },
    "papermill": {
     "duration": 0.900428,
     "end_time": "2021-06-29T22:11:23.591030",
     "exception": false,
     "start_time": "2021-06-29T22:11:22.690602",
     "status": "completed"
    },
    "scrolled": true,
    "tags": [
     "hide-input"
    ]
   },
   "outputs": [],
   "source": [
    "import pandas as pd\n",
    "import matplotlib.pyplot as plt\n",
    "from matplotlib import dates\n",
    "from IPython.display import display, Markdown\n",
    "%matplotlib inline"
   ]
  },
  {
   "cell_type": "code",
   "execution_count": 2,
   "id": "purple-playlist",
   "metadata": {
    "execution": {
     "iopub.execute_input": "2021-06-29T22:11:23.618502Z",
     "iopub.status.busy": "2021-06-29T22:11:23.615176Z",
     "iopub.status.idle": "2021-06-29T22:11:24.501001Z",
     "shell.execute_reply": "2021-06-29T22:11:24.499874Z"
    },
    "jupyter": {
     "source_hidden": true
    },
    "papermill": {
     "duration": 0.900869,
     "end_time": "2021-06-29T22:11:24.501153",
     "exception": false,
     "start_time": "2021-06-29T22:11:23.600284",
     "status": "completed"
    },
    "scrolled": true,
    "tags": [
     "hide-input"
    ]
   },
   "outputs": [],
   "source": [
    "# This is the data for all of Wisconsin.\n",
    "url = \"https://opendata.arcgis.com/api/v3/datasets/3161f6e01d8141c6abe85a29ff7f3d3c_12/downloads/data?format=csv&spatialRefId=3857\"\n",
    "data = pd.read_csv(url, parse_dates=['DATE'], low_memory=False)"
   ]
  },
  {
   "cell_type": "code",
   "execution_count": 3,
   "id": "proprietary-klein",
   "metadata": {
    "execution": {
     "iopub.execute_input": "2021-06-29T22:11:24.524802Z",
     "iopub.status.busy": "2021-06-29T22:11:24.523989Z",
     "iopub.status.idle": "2021-06-29T22:11:24.533784Z",
     "shell.execute_reply": "2021-06-29T22:11:24.533279Z"
    },
    "jupyter": {
     "source_hidden": true
    },
    "papermill": {
     "duration": 0.023752,
     "end_time": "2021-06-29T22:11:24.533900",
     "exception": false,
     "start_time": "2021-06-29T22:11:24.510148",
     "status": "completed"
    },
    "scrolled": true,
    "tags": [
     "hide-input"
    ]
   },
   "outputs": [],
   "source": [
    "dc = data.groupby('NAME').get_group('Dunn').sort_values(by='DATE') # Select the data for Dunn County from the full data.\n",
    "PNi = dc.columns.get_loc(\"POS_NEW\")\n",
    "dc['7_DAY'] = dc.iloc[:,PNi].rolling(window=7).mean() # Calculates the rolling 7-day average of new cases.\n",
    "dc['14_DAY'] = dc.iloc[:,PNi].rolling(window=14).mean() # Calculates the rolling 14-day average of new cases."
   ]
  },
  {
   "cell_type": "code",
   "execution_count": 4,
   "id": "steady-supervision",
   "metadata": {
    "execution": {
     "iopub.execute_input": "2021-06-29T22:11:24.558100Z",
     "iopub.status.busy": "2021-06-29T22:11:24.557563Z",
     "iopub.status.idle": "2021-06-29T22:11:24.560727Z",
     "shell.execute_reply": "2021-06-29T22:11:24.560289Z"
    },
    "jupyter": {
     "source_hidden": true
    },
    "papermill": {
     "duration": 0.018097,
     "end_time": "2021-06-29T22:11:24.560865",
     "exception": false,
     "start_time": "2021-06-29T22:11:24.542768",
     "status": "completed"
    },
    "scrolled": true,
    "tags": [
     "hide-input"
    ]
   },
   "outputs": [
    {
     "data": {
      "text/markdown": [
       "### Last updated: June 29, 2021"
      ],
      "text/plain": [
       "<IPython.core.display.Markdown object>"
      ]
     },
     "metadata": {},
     "output_type": "display_data"
    }
   ],
   "source": [
    "display(Markdown('### Last updated: ' + dc.iloc[-1]['DATE'].strftime(\"%B %d, %Y\")))"
   ]
  },
  {
   "cell_type": "code",
   "execution_count": 5,
   "id": "lonely-pitch",
   "metadata": {
    "execution": {
     "iopub.execute_input": "2021-06-29T22:11:24.584982Z",
     "iopub.status.busy": "2021-06-29T22:11:24.583941Z",
     "iopub.status.idle": "2021-06-29T22:11:24.588025Z",
     "shell.execute_reply": "2021-06-29T22:11:24.587568Z"
    },
    "jupyter": {
     "source_hidden": true
    },
    "papermill": {
     "duration": 0.018472,
     "end_time": "2021-06-29T22:11:24.588127",
     "exception": false,
     "start_time": "2021-06-29T22:11:24.569655",
     "status": "completed"
    },
    "tags": [
     "hide-input"
    ]
   },
   "outputs": [
    {
     "data": {
      "text/markdown": [
       "# Dunn County has 4706 total positive cases, with 1 new cases reported today."
      ],
      "text/plain": [
       "<IPython.core.display.Markdown object>"
      ]
     },
     "metadata": {},
     "output_type": "display_data"
    }
   ],
   "source": [
    "display(Markdown('# Dunn County has ' + str(dc.iloc[-1]['POSITIVE']) + ' total positive cases, with '+ str(int(dc.iloc[-1]['POS_NEW'])) + ' new cases reported today.'))"
   ]
  },
  {
   "cell_type": "code",
   "execution_count": 6,
   "id": "compound-nightmare",
   "metadata": {
    "execution": {
     "iopub.execute_input": "2021-06-29T22:11:24.611666Z",
     "iopub.status.busy": "2021-06-29T22:11:24.611135Z",
     "iopub.status.idle": "2021-06-29T22:11:24.863866Z",
     "shell.execute_reply": "2021-06-29T22:11:24.864528Z"
    },
    "jupyter": {
     "source_hidden": true
    },
    "papermill": {
     "duration": 0.267219,
     "end_time": "2021-06-29T22:11:24.864742",
     "exception": false,
     "start_time": "2021-06-29T22:11:24.597523",
     "status": "completed"
    },
    "scrolled": false,
    "tags": [
     "hide-input"
    ]
   },
   "outputs": [
    {
     "data": {
      "image/png": "[encoded data removed]",
      "text/plain": [
       "<Figure size 864x432 with 1 Axes>"
      ]
     },
     "metadata": {
      "needs_background": "light"
     },
     "output_type": "display_data"
    }
   ],
   "source": [
    "dc.plot(x='DATE',y='POSITIVE',color='red',grid='True',figsize=(12,6)).set_xlabel('Date');"
   ]
  },
  {
   "cell_type": "markdown",
   "id": "coupled-literacy",
   "metadata": {
    "papermill": {
     "duration": 0.010704,
     "end_time": "2021-06-29T22:11:24.887827",
     "exception": false,
     "start_time": "2021-06-29T22:11:24.877123",
     "status": "completed"
    },
    "tags": []
   },
   "source": [
    "## Figure 1: Cummulative number of positive cases."
   ]
  },
  {
   "cell_type": "code",
   "execution_count": 7,
   "id": "surrounded-reserve",
   "metadata": {
    "execution": {
     "iopub.execute_input": "2021-06-29T22:11:24.913109Z",
     "iopub.status.busy": "2021-06-29T22:11:24.912547Z",
     "iopub.status.idle": "2021-06-29T22:11:25.144687Z",
     "shell.execute_reply": "2021-06-29T22:11:25.144253Z"
    },
    "jupyter": {
     "source_hidden": true
    },
    "papermill": {
     "duration": 0.246961,
     "end_time": "2021-06-29T22:11:25.144829",
     "exception": false,
     "start_time": "2021-06-29T22:11:24.897868",
     "status": "completed"
    },
    "scrolled": false,
    "tags": [
     "hide-input"
    ]
   },
   "outputs": [
    {
     "data": {
      "image/png": "[encoded data removed]",
      "text/plain": [
       "<Figure size 864x432 with 1 Axes>"
      ]
     },
     "metadata": {
      "needs_background": "light"
     },
     "output_type": "display_data"
    }
   ],
   "source": [
    "dc.plot(kind='line',x='DATE',y='7_DAY',color='blue',grid='True',figsize=(12,6)).set_xlabel('Date');"
   ]
  },
  {
   "cell_type": "markdown",
   "id": "professional-savannah",
   "metadata": {
    "papermill": {
     "duration": 0.011642,
     "end_time": "2021-06-29T22:11:25.168223",
     "exception": false,
     "start_time": "2021-06-29T22:11:25.156581",
     "status": "completed"
    },
    "tags": []
   },
   "source": [
    "## Figure 2: Rolling 7-day average of daily new cases."
   ]
  },
  {
   "cell_type": "code",
   "execution_count": 8,
   "id": "stretch-investor",
   "metadata": {
    "execution": {
     "iopub.execute_input": "2021-06-29T22:11:25.195786Z",
     "iopub.status.busy": "2021-06-29T22:11:25.195262Z",
     "iopub.status.idle": "2021-06-29T22:11:25.413868Z",
     "shell.execute_reply": "2021-06-29T22:11:25.414334Z"
    },
    "jupyter": {
     "source_hidden": true
    },
    "papermill": {
     "duration": 0.234716,
     "end_time": "2021-06-29T22:11:25.414498",
     "exception": false,
     "start_time": "2021-06-29T22:11:25.179782",
     "status": "completed"
    },
    "tags": []
   },
   "outputs": [
    {
     "data": {
      "image/png": "[encoded data removed]",
      "text/plain": [
       "<Figure size 864x432 with 1 Axes>"
      ]
     },
     "metadata": {
      "needs_background": "light"
     },
     "output_type": "display_data"
    }
   ],
   "source": [
    "dc.plot(kind='line',x='DATE',y='14_DAY',color='green',grid='True',figsize=(12,6)).set_xlabel('Date');"
   ]
  },
  {
   "cell_type": "markdown",
   "id": "prerequisite-species",
   "metadata": {
    "papermill": {
     "duration": 0.013886,
     "end_time": "2021-06-29T22:11:25.441719",
     "exception": false,
     "start_time": "2021-06-29T22:11:25.427833",
     "status": "completed"
    },
    "tags": []
   },
   "source": [
    "## Figure 3: Rolling 14-day average of daily new cases."
   ]
  },
  {
   "cell_type": "markdown",
   "id": "palestinian-guard",
   "metadata": {
    "papermill": {
     "duration": 0.012165,
     "end_time": "2021-06-29T22:11:25.467060",
     "exception": false,
     "start_time": "2021-06-29T22:11:25.454895",
     "status": "completed"
    },
    "tags": []
   },
   "source": [
    "Data source: [Wisconsin Department of Health Services](https://data.dhsgis.wi.gov/datasets/wi-dhs::covid-19-historical-data-by-county-1)"
   ]
  },
  {
   "cell_type": "code",
   "execution_count": 9,
   "id": "proof-medicare",
   "metadata": {
    "execution": {
     "iopub.execute_input": "2021-06-29T22:11:25.494204Z",
     "iopub.status.busy": "2021-06-29T22:11:25.493672Z",
     "iopub.status.idle": "2021-06-29T22:11:25.500556Z",
     "shell.execute_reply": "2021-06-29T22:11:25.501095Z"
    },
    "jupyter": {
     "source_hidden": true
    },
    "papermill": {
     "duration": 0.022108,
     "end_time": "2021-06-29T22:11:25.501235",
     "exception": false,
     "start_time": "2021-06-29T22:11:25.479127",
     "status": "completed"
    },
    "tags": []
   },
   "outputs": [
    {
     "data": {
      "text/html": [
       "<style>\n",
       "div.input {\n",
       "    display:none;\n",
       "}\n",
       "</style>\n"
      ],
      "text/plain": [
       "<IPython.core.display.HTML object>"
      ]
     },
     "metadata": {},
     "output_type": "display_data"
    }
   ],
   "source": [
    "%%html\n",
    "<style>\n",
    "div.input {\n",
    "    display:none;\n",
    "}\n",
    "</style>"
   ]
  }
 ],
 "metadata": {
  "kernelspec": {
   "display_name": "Python 3",
   "language": "python",
   "name": "python3"
  },
  "language_info": {
   "codemirror_mode": {
    "name": "ipython",
    "version": 3
   },
   "file_extension": ".py",
   "mimetype": "text/x-python",
   "name": "python",
   "nbconvert_exporter": "python",
   "pygments_lexer": "ipython3",
   "version": "3.8.10"
  },
  "papermill": {
   "duration": 4.400499,
   "end_time": "2021-06-29T22:11:25.820655",
   "environment_variables": {},
   "exception": null,
   "input_path": "DunnCounty_COVID19.ipynb",
   "output_path": "DunnCounty_COVID19.ipynb",
   "parameters": {
    "Start": "True",
    "secretsPath": "/home/runner/work/_temp/secrets.json"
   },
   "start_time": "2021-06-29T22:11:21.420156",
   "version": "1.1.16"
  }
 },
 "nbformat": 4,
 "nbformat_minor": 5
}