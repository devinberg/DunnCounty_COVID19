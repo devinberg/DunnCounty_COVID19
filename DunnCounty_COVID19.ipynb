{
 "cells": [
  {
   "cell_type": "code",
   "execution_count": 1,
   "id": "solar-understanding",
   "metadata": {
    "execution": {
     "iopub.execute_input": "2021-04-23T22:19:13.275380Z",
     "iopub.status.busy": "2021-04-23T22:19:13.274903Z",
     "iopub.status.idle": "2021-04-23T22:19:14.535385Z",
     "shell.execute_reply": "2021-04-23T22:19:14.534797Z"
    },
    "jupyter": {
     "source_hidden": true
    },
    "papermill": {
     "duration": 1.278796,
     "end_time": "2021-04-23T22:19:14.535572",
     "exception": false,
     "start_time": "2021-04-23T22:19:13.256776",
     "status": "completed"
    },
    "scrolled": true,
    "tags": [
     "hide-input"
    ]
   },
   "outputs": [],
   "source": [
    "import pandas as pd\n",
    "import matplotlib.pyplot as plt\n",
    "from matplotlib import dates\n",
    "from IPython.display import display, Markdown\n",
    "%matplotlib inline"
   ]
  },
  {
   "cell_type": "code",
   "execution_count": 2,
   "id": "purple-playlist",
   "metadata": {
    "execution": {
     "iopub.execute_input": "2021-04-23T22:19:14.557117Z",
     "iopub.status.busy": "2021-04-23T22:19:14.556651Z",
     "iopub.status.idle": "2021-04-23T22:19:15.290479Z",
     "shell.execute_reply": "2021-04-23T22:19:15.289997Z"
    },
    "jupyter": {
     "source_hidden": true
    },
    "papermill": {
     "duration": 0.746288,
     "end_time": "2021-04-23T22:19:15.290610",
     "exception": false,
     "start_time": "2021-04-23T22:19:14.544322",
     "status": "completed"
    },
    "scrolled": true,
    "tags": [
     "hide-input"
    ]
   },
   "outputs": [],
   "source": [
    "# This is the data for all of Wisconsin.\n",
    "url = \"https://opendata.arcgis.com/datasets/0b7bac0afc464e7783474cb62272d9b8_12.csv\"\n",
    "data = pd.read_csv(url, parse_dates=['DATE'], low_memory=False)"
   ]
  },
  {
   "cell_type": "code",
   "execution_count": 3,
   "id": "proprietary-klein",
   "metadata": {
    "execution": {
     "iopub.execute_input": "2021-04-23T22:19:15.312796Z",
     "iopub.status.busy": "2021-04-23T22:19:15.312333Z",
     "iopub.status.idle": "2021-04-23T22:19:15.320020Z",
     "shell.execute_reply": "2021-04-23T22:19:15.319610Z"
    },
    "jupyter": {
     "source_hidden": true
    },
    "papermill": {
     "duration": 0.020761,
     "end_time": "2021-04-23T22:19:15.320120",
     "exception": false,
     "start_time": "2021-04-23T22:19:15.299359",
     "status": "completed"
    },
    "scrolled": true,
    "tags": [
     "hide-input"
    ]
   },
   "outputs": [],
   "source": [
    "dc = data.groupby('NAME').get_group('Dunn').sort_values(by='DATE') # Select the data for Dunn County from the full data.\n",
    "PNi = dc.columns.get_loc(\"POS_NEW\")\n",
    "dc['7_DAY'] = dc.iloc[:,PNi].rolling(window=7).mean() # Calculates the rolling 7-day average of new cases.\n",
    "dc['14_DAY'] = dc.iloc[:,PNi].rolling(window=14).mean() # Calculates the rolling 14-day average of new cases."
   ]
  },
  {
   "cell_type": "code",
   "execution_count": 4,
   "id": "steady-supervision",
   "metadata": {
    "execution": {
     "iopub.execute_input": "2021-04-23T22:19:15.340468Z",
     "iopub.status.busy": "2021-04-23T22:19:15.340002Z",
     "iopub.status.idle": "2021-04-23T22:19:15.342827Z",
     "shell.execute_reply": "2021-04-23T22:19:15.342451Z"
    },
    "jupyter": {
     "source_hidden": true
    },
    "papermill": {
     "duration": 0.015378,
     "end_time": "2021-04-23T22:19:15.342927",
     "exception": false,
     "start_time": "2021-04-23T22:19:15.327549",
     "status": "completed"
    },
    "scrolled": true,
    "tags": [
     "hide-input"
    ]
   },
   "outputs": [
    {
     "data": {
      "text/markdown": [
       "### Last updated: April 23, 2021"
      ],
      "text/plain": [
       "<IPython.core.display.Markdown object>"
      ]
     },
     "metadata": {},
     "output_type": "display_data"
    }
   ],
   "source": [
    "display(Markdown('### Last updated: ' + dc.iloc[-1]['DATE'].strftime(\"%B %d, %Y\")))"
   ]
  },
  {
   "cell_type": "code",
   "execution_count": 5,
   "id": "lonely-pitch",
   "metadata": {
    "execution": {
     "iopub.execute_input": "2021-04-23T22:19:15.362763Z",
     "iopub.status.busy": "2021-04-23T22:19:15.362306Z",
     "iopub.status.idle": "2021-04-23T22:19:15.364582Z",
     "shell.execute_reply": "2021-04-23T22:19:15.364971Z"
    },
    "jupyter": {
     "source_hidden": true
    },
    "papermill": {
     "duration": 0.014377,
     "end_time": "2021-04-23T22:19:15.365083",
     "exception": false,
     "start_time": "2021-04-23T22:19:15.350706",
     "status": "completed"
    },
    "tags": [
     "hide-input"
    ]
   },
   "outputs": [
    {
     "data": {
      "text/markdown": [
       "# Dunn County has 4586 total positive cases, with 11 new cases reported today."
      ],
      "text/plain": [
       "<IPython.core.display.Markdown object>"
      ]
     },
     "metadata": {},
     "output_type": "display_data"
    }
   ],
   "source": [
    "display(Markdown('# Dunn County has ' + str(dc.iloc[-1]['POSITIVE']) + ' total positive cases, with '+ str(int(dc.iloc[-1]['POS_NEW'])) + ' new cases reported today.'))"
   ]
  },
  {
   "cell_type": "code",
   "execution_count": 6,
   "id": "compound-nightmare",
   "metadata": {
    "execution": {
     "iopub.execute_input": "2021-04-23T22:19:15.386204Z",
     "iopub.status.busy": "2021-04-23T22:19:15.385685Z",
     "iopub.status.idle": "2021-04-23T22:19:15.604964Z",
     "shell.execute_reply": "2021-04-23T22:19:15.605382Z"
    },
    "jupyter": {
     "source_hidden": true
    },
    "papermill": {
     "duration": 0.232402,
     "end_time": "2021-04-23T22:19:15.605545",
     "exception": false,
     "start_time": "2021-04-23T22:19:15.373143",
     "status": "completed"
    },
    "scrolled": false,
    "tags": [
     "hide-input"
    ]
   },
   "outputs": [
    {
     "data": {
      "image/png": "[encoded data removed]",
      "text/plain": [
       "<Figure size 864x432 with 1 Axes>"
      ]
     },
     "metadata": {
      "needs_background": "light"
     },
     "output_type": "display_data"
    }
   ],
   "source": [
    "dc.plot(x='DATE',y='POSITIVE',color='red',grid='True',figsize=(12,6)).set_xlabel('Date');"
   ]
  },
  {
   "cell_type": "markdown",
   "id": "coupled-literacy",
   "metadata": {
    "papermill": {
     "duration": 0.009431,
     "end_time": "2021-04-23T22:19:15.624336",
     "exception": false,
     "start_time": "2021-04-23T22:19:15.614905",
     "status": "completed"
    },
    "tags": []
   },
   "source": [
    "## Figure 1: Cummulative number of positive cases."
   ]
  },
  {
   "cell_type": "code",
   "execution_count": 7,
   "id": "surrounded-reserve",
   "metadata": {
    "execution": {
     "iopub.execute_input": "2021-04-23T22:19:15.646570Z",
     "iopub.status.busy": "2021-04-23T22:19:15.646109Z",
     "iopub.status.idle": "2021-04-23T22:19:15.812100Z",
     "shell.execute_reply": "2021-04-23T22:19:15.812473Z"
    },
    "jupyter": {
     "source_hidden": true
    },
    "papermill": {
     "duration": 0.17929,
     "end_time": "2021-04-23T22:19:15.812613",
     "exception": false,
     "start_time": "2021-04-23T22:19:15.633323",
     "status": "completed"
    },
    "scrolled": false,
    "tags": [
     "hide-input"
    ]
   },
   "outputs": [
    {
     "data": {
      "image/png": "[encoded data removed]",
      "text/plain": [
       "<Figure size 864x432 with 1 Axes>"
      ]
     },
     "metadata": {
      "needs_background": "light"
     },
     "output_type": "display_data"
    }
   ],
   "source": [
    "dc.plot(kind='line',x='DATE',y='7_DAY',color='blue',grid='True',figsize=(12,6)).set_xlabel('Date');"
   ]
  },
  {
   "cell_type": "markdown",
   "id": "professional-savannah",
   "metadata": {
    "papermill": {
     "duration": 0.010445,
     "end_time": "2021-04-23T22:19:15.833207",
     "exception": false,
     "start_time": "2021-04-23T22:19:15.822762",
     "status": "completed"
    },
    "tags": []
   },
   "source": [
    "## Figure 2: Rolling 7-day average of daily new cases."
   ]
  },
  {
   "cell_type": "code",
   "execution_count": 8,
   "id": "stretch-investor",
   "metadata": {
    "execution": {
     "iopub.execute_input": "2021-04-23T22:19:15.857277Z",
     "iopub.status.busy": "2021-04-23T22:19:15.856821Z",
     "iopub.status.idle": "2021-04-23T22:19:16.026579Z",
     "shell.execute_reply": "2021-04-23T22:19:16.026956Z"
    },
    "jupyter": {
     "source_hidden": true
    },
    "papermill": {
     "duration": 0.183853,
     "end_time": "2021-04-23T22:19:16.027100",
     "exception": false,
     "start_time": "2021-04-23T22:19:15.843247",
     "status": "completed"
    },
    "tags": []
   },
   "outputs": [
    {
     "data": {
      "image/png": "[encoded data removed]",
      "text/plain": [
       "<Figure size 864x432 with 1 Axes>"
      ]
     },
     "metadata": {
      "needs_background": "light"
     },
     "output_type": "display_data"
    }
   ],
   "source": [
    "dc.plot(kind='line',x='DATE',y='14_DAY',color='green',grid='True',figsize=(12,6)).set_xlabel('Date');"
   ]
  },
  {
   "cell_type": "markdown",
   "id": "prerequisite-species",
   "metadata": {
    "papermill": {
     "duration": 0.011307,
     "end_time": "2021-04-23T22:19:16.049777",
     "exception": false,
     "start_time": "2021-04-23T22:19:16.038470",
     "status": "completed"
    },
    "tags": []
   },
   "source": [
    "## Figure 3: Rolling 14-day average of daily new cases."
   ]
  },
  {
   "cell_type": "markdown",
   "id": "palestinian-guard",
   "metadata": {
    "papermill": {
     "duration": 0.010956,
     "end_time": "2021-04-23T22:19:16.071792",
     "exception": false,
     "start_time": "2021-04-23T22:19:16.060836",
     "status": "completed"
    },
    "tags": []
   },
   "source": [
    "Data source: [Wisconsin Department of Health Services](https://data.dhsgis.wi.gov/datasets/covid-19-historical-data-by-county)"
   ]
  },
  {
   "cell_type": "code",
   "execution_count": 9,
   "id": "proof-medicare",
   "metadata": {
    "execution": {
     "iopub.execute_input": "2021-04-23T22:19:16.098408Z",
     "iopub.status.busy": "2021-04-23T22:19:16.097933Z",
     "iopub.status.idle": "2021-04-23T22:19:16.100757Z",
     "shell.execute_reply": "2021-04-23T22:19:16.100354Z"
    },
    "jupyter": {
     "source_hidden": true
    },
    "papermill": {
     "duration": 0.018146,
     "end_time": "2021-04-23T22:19:16.100856",
     "exception": false,
     "start_time": "2021-04-23T22:19:16.082710",
     "status": "completed"
    },
    "tags": []
   },
   "outputs": [
    {
     "data": {
      "text/html": [
       "<style>\n",
       "div.input {\n",
       "    display:none;\n",
       "}\n",
       "</style>\n"
      ],
      "text/plain": [
       "<IPython.core.display.HTML object>"
      ]
     },
     "metadata": {},
     "output_type": "display_data"
    }
   ],
   "source": [
    "%%html\n",
    "<style>\n",
    "div.input {\n",
    "    display:none;\n",
    "}\n",
    "</style>"
   ]
  }
 ],
 "metadata": {
  "kernelspec": {
   "display_name": "Python 3",
   "language": "python",
   "name": "python3"
  },
  "language_info": {
   "codemirror_mode": {
    "name": "ipython",
    "version": 3
   },
   "file_extension": ".py",
   "mimetype": "text/x-python",
   "name": "python",
   "nbconvert_exporter": "python",
   "pygments_lexer": "ipython3",
   "version": "3.8.9"
  },
  "papermill": {
   "duration": 4.3927,
   "end_time": "2021-04-23T22:19:16.418507",
   "environment_variables": {},
   "exception": null,
   "input_path": "DunnCounty_COVID19.ipynb",
   "output_path": "DunnCounty_COVID19.ipynb",
   "parameters": {
    "Start": "True",
    "secretsPath": "/home/runner/work/_temp/secrets.json"
   },
   "start_time": "2021-04-23T22:19:12.025807",
   "version": "1.1.16"
  }
 },
 "nbformat": 4,
 "nbformat_minor": 5
}