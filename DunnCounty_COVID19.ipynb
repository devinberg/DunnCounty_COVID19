{
 "cells": [
  {
   "cell_type": "code",
   "execution_count": 1,
   "metadata": {
    "execution": {
     "iopub.execute_input": "2020-09-23T10:10:14.509670Z",
     "iopub.status.busy": "2020-09-23T10:10:14.509212Z",
     "iopub.status.idle": "2020-09-23T10:10:18.235219Z",
     "shell.execute_reply": "2020-09-23T10:10:18.234182Z"
    },
    "jupyter": {
     "source_hidden": true
    },
    "papermill": {
     "duration": 3.743708,
     "end_time": "2020-09-23T10:10:18.235518",
     "exception": false,
     "start_time": "2020-09-23T10:10:14.491810",
     "status": "completed"
    },
    "scrolled": true,
    "tags": [
     "hide-input"
    ]
   },
   "outputs": [],
   "source": [
    "import pandas as pd\n",
    "import matplotlib.pyplot as plt\n",
    "from matplotlib import dates\n",
    "from IPython.display import display, Markdown\n",
    "%matplotlib inline"
   ]
  },
  {
   "cell_type": "code",
   "execution_count": 2,
   "metadata": {
    "execution": {
     "iopub.execute_input": "2020-09-23T10:10:18.256061Z",
     "iopub.status.busy": "2020-09-23T10:10:18.255550Z",
     "iopub.status.idle": "2020-09-23T10:10:21.312543Z",
     "shell.execute_reply": "2020-09-23T10:10:21.311707Z"
    },
    "jupyter": {
     "source_hidden": true
    },
    "papermill": {
     "duration": 3.069932,
     "end_time": "2020-09-23T10:10:21.312756",
     "exception": false,
     "start_time": "2020-09-23T10:10:18.242824",
     "status": "completed"
    },
    "scrolled": true,
    "tags": [
     "hide-input"
    ]
   },
   "outputs": [],
   "source": [
    "# This is the data for all of Wisconsin.\n",
    "url = \"https://opendata.arcgis.com/datasets/b913e9591eae4912b33dc5b4e88646c5_10.csv\"\n",
    "data = pd.read_csv(url, parse_dates=['DATE'], low_memory=False)"
   ]
  },
  {
   "cell_type": "code",
   "execution_count": 3,
   "metadata": {
    "execution": {
     "iopub.execute_input": "2020-09-23T10:10:21.345403Z",
     "iopub.status.busy": "2020-09-23T10:10:21.344862Z",
     "iopub.status.idle": "2020-09-23T10:10:21.353704Z",
     "shell.execute_reply": "2020-09-23T10:10:21.354093Z"
    },
    "jupyter": {
     "source_hidden": true
    },
    "papermill": {
     "duration": 0.032051,
     "end_time": "2020-09-23T10:10:21.354241",
     "exception": false,
     "start_time": "2020-09-23T10:10:21.322190",
     "status": "completed"
    },
    "scrolled": true,
    "tags": [
     "hide-input"
    ]
   },
   "outputs": [],
   "source": [
    "dc = data.groupby('NAME').get_group('Dunn').sort_values(by='DATE') # Select the data for Dunn County from the full data.\n",
    "PNi = dc.columns.get_loc(\"POS_NEW\")\n",
    "dc['7_DAY'] = dc.iloc[:,PNi].rolling(window=7).mean() # Calculates the rolling 7-day average of new cases.\n",
    "dc['14_DAY'] = dc.iloc[:,PNi].rolling(window=14).mean() # Calculates the rolling 14-day average of new cases."
   ]
  },
  {
   "cell_type": "code",
   "execution_count": 4,
   "metadata": {
    "execution": {
     "iopub.execute_input": "2020-09-23T10:10:21.375345Z",
     "iopub.status.busy": "2020-09-23T10:10:21.374644Z",
     "iopub.status.idle": "2020-09-23T10:10:21.377810Z",
     "shell.execute_reply": "2020-09-23T10:10:21.378280Z"
    },
    "jupyter": {
     "source_hidden": true
    },
    "papermill": {
     "duration": 0.017074,
     "end_time": "2020-09-23T10:10:21.378431",
     "exception": false,
     "start_time": "2020-09-23T10:10:21.361357",
     "status": "completed"
    },
    "scrolled": true,
    "tags": [
     "hide-input"
    ]
   },
   "outputs": [
    {
     "data": {
      "text/markdown": [
       "### Last updated: September 22, 2020"
      ],
      "text/plain": [
       "<IPython.core.display.Markdown object>"
      ]
     },
     "metadata": {},
     "output_type": "display_data"
    }
   ],
   "source": [
    "display(Markdown('### Last updated: ' + dc.iloc[-1]['DATE'].strftime(\"%B %d, %Y\")))"
   ]
  },
  {
   "cell_type": "code",
   "execution_count": 5,
   "metadata": {
    "execution": {
     "iopub.execute_input": "2020-09-23T10:10:21.397431Z",
     "iopub.status.busy": "2020-09-23T10:10:21.396937Z",
     "iopub.status.idle": "2020-09-23T10:10:21.401566Z",
     "shell.execute_reply": "2020-09-23T10:10:21.400890Z"
    },
    "jupyter": {
     "source_hidden": true
    },
    "papermill": {
     "duration": 0.016629,
     "end_time": "2020-09-23T10:10:21.401678",
     "exception": false,
     "start_time": "2020-09-23T10:10:21.385049",
     "status": "completed"
    },
    "tags": [
     "hide-input"
    ]
   },
   "outputs": [
    {
     "data": {
      "text/markdown": [
       "# Dunn County has 402 total positive cases, with 17 new cases reported today."
      ],
      "text/plain": [
       "<IPython.core.display.Markdown object>"
      ]
     },
     "metadata": {},
     "output_type": "display_data"
    }
   ],
   "source": [
    "display(Markdown('# Dunn County has ' + str(dc.iloc[-1]['POSITIVE']) + ' total positive cases, with '+ str(int(dc.iloc[-1]['POS_NEW'])) + ' new cases reported today.'))"
   ]
  },
  {
   "cell_type": "code",
   "execution_count": 6,
   "metadata": {
    "execution": {
     "iopub.execute_input": "2020-09-23T10:10:21.419920Z",
     "iopub.status.busy": "2020-09-23T10:10:21.419396Z",
     "iopub.status.idle": "2020-09-23T10:10:21.641088Z",
     "shell.execute_reply": "2020-09-23T10:10:21.641846Z"
    },
    "jupyter": {
     "source_hidden": true
    },
    "papermill": {
     "duration": 0.233167,
     "end_time": "2020-09-23T10:10:21.642092",
     "exception": false,
     "start_time": "2020-09-23T10:10:21.408925",
     "status": "completed"
    },
    "scrolled": false,
    "tags": [
     "hide-input"
    ]
   },
   "outputs": [
    {
     "data": {
      "image/png": "[encoded data removed]",
      "text/plain": [
       "<Figure size 864x432 with 1 Axes>"
      ]
     },
     "metadata": {
      "needs_background": "light"
     },
     "output_type": "display_data"
    }
   ],
   "source": [
    "dc.plot(x='DATE',y='POSITIVE',color='red',grid='True',figsize=(12,6)).set_xlabel('Date');"
   ]
  },
  {
   "cell_type": "markdown",
   "metadata": {
    "papermill": {
     "duration": 0.008664,
     "end_time": "2020-09-23T10:10:21.659227",
     "exception": false,
     "start_time": "2020-09-23T10:10:21.650563",
     "status": "completed"
    },
    "tags": []
   },
   "source": [
    "## Figure 1: Cummulative number of positive cases."
   ]
  },
  {
   "cell_type": "code",
   "execution_count": 7,
   "metadata": {
    "execution": {
     "iopub.execute_input": "2020-09-23T10:10:21.681177Z",
     "iopub.status.busy": "2020-09-23T10:10:21.680678Z",
     "iopub.status.idle": "2020-09-23T10:10:21.881209Z",
     "shell.execute_reply": "2020-09-23T10:10:21.881732Z"
    },
    "jupyter": {
     "source_hidden": true
    },
    "papermill": {
     "duration": 0.21379,
     "end_time": "2020-09-23T10:10:21.881930",
     "exception": false,
     "start_time": "2020-09-23T10:10:21.668140",
     "status": "completed"
    },
    "scrolled": false,
    "tags": [
     "hide-input"
    ]
   },
   "outputs": [
    {
     "data": {
      "image/png": "[encoded data removed]",
      "text/plain": [
       "<Figure size 864x432 with 1 Axes>"
      ]
     },
     "metadata": {
      "needs_background": "light"
     },
     "output_type": "display_data"
    }
   ],
   "source": [
    "dc.plot(kind='line',x='DATE',y='7_DAY',color='blue',grid='True',figsize=(12,6)).set_xlabel('Date');"
   ]
  },
  {
   "cell_type": "markdown",
   "metadata": {
    "papermill": {
     "duration": 0.008827,
     "end_time": "2020-09-23T10:10:21.900492",
     "exception": false,
     "start_time": "2020-09-23T10:10:21.891665",
     "status": "completed"
    },
    "tags": []
   },
   "source": [
    "## Figure 2: Rolling 7-day average of daily new cases."
   ]
  },
  {
   "cell_type": "code",
   "execution_count": 8,
   "metadata": {
    "execution": {
     "iopub.execute_input": "2020-09-23T10:10:21.948422Z",
     "iopub.status.busy": "2020-09-23T10:10:21.946800Z",
     "iopub.status.idle": "2020-09-23T10:10:22.108864Z",
     "shell.execute_reply": "2020-09-23T10:10:22.108248Z"
    },
    "jupyter": {
     "source_hidden": true
    },
    "papermill": {
     "duration": 0.19966,
     "end_time": "2020-09-23T10:10:22.109002",
     "exception": false,
     "start_time": "2020-09-23T10:10:21.909342",
     "status": "completed"
    },
    "tags": []
   },
   "outputs": [
    {
     "data": {
      "image/png": "[encoded data removed]",
      "text/plain": [
       "<Figure size 864x432 with 1 Axes>"
      ]
     },
     "metadata": {
      "needs_background": "light"
     },
     "output_type": "display_data"
    }
   ],
   "source": [
    "dc.plot(kind='line',x='DATE',y='14_DAY',color='green',grid='True',figsize=(12,6)).set_xlabel('Date');"
   ]
  },
  {
   "cell_type": "markdown",
   "metadata": {
    "papermill": {
     "duration": 0.009368,
     "end_time": "2020-09-23T10:10:22.128154",
     "exception": false,
     "start_time": "2020-09-23T10:10:22.118786",
     "status": "completed"
    },
    "tags": []
   },
   "source": [
    "## Figure 3: Rolling 14-day average of daily new cases."
   ]
  },
  {
   "cell_type": "markdown",
   "metadata": {
    "papermill": {
     "duration": 0.009013,
     "end_time": "2020-09-23T10:10:22.146137",
     "exception": false,
     "start_time": "2020-09-23T10:10:22.137124",
     "status": "completed"
    },
    "tags": []
   },
   "source": [
    "Data source: [Wisconsin Department of Health Services](https://data.dhsgis.wi.gov/datasets/covid-19-historical-data-table/)"
   ]
  },
  {
   "cell_type": "code",
   "execution_count": 9,
   "metadata": {
    "execution": {
     "iopub.execute_input": "2020-09-23T10:10:22.169867Z",
     "iopub.status.busy": "2020-09-23T10:10:22.169303Z",
     "iopub.status.idle": "2020-09-23T10:10:22.172153Z",
     "shell.execute_reply": "2020-09-23T10:10:22.171772Z"
    },
    "jupyter": {
     "source_hidden": true
    },
    "papermill": {
     "duration": 0.017302,
     "end_time": "2020-09-23T10:10:22.172246",
     "exception": false,
     "start_time": "2020-09-23T10:10:22.154944",
     "status": "completed"
    },
    "tags": []
   },
   "outputs": [
    {
     "data": {
      "text/html": [
       "<style>\n",
       "div.input {\n",
       "    display:none;\n",
       "}\n",
       "</style>\n"
      ],
      "text/plain": [
       "<IPython.core.display.HTML object>"
      ]
     },
     "metadata": {},
     "output_type": "display_data"
    }
   ],
   "source": [
    "%%html\n",
    "<style>\n",
    "div.input {\n",
    "    display:none;\n",
    "}\n",
    "</style>"
   ]
  }
 ],
 "metadata": {
  "kernelspec": {
   "display_name": "Python 3",
   "language": "python",
   "name": "python3"
  },
  "language_info": {
   "codemirror_mode": {
    "name": "ipython",
    "version": 3
   },
   "file_extension": ".py",
   "mimetype": "text/x-python",
   "name": "python",
   "nbconvert_exporter": "python",
   "pygments_lexer": "ipython3",
   "version": "3.8.5"
  },
  "papermill": {
   "duration": 9.83215,
   "end_time": "2020-09-23T10:10:22.489181",
   "environment_variables": {},
   "exception": null,
   "input_path": "DunnCounty_COVID19.ipynb",
   "output_path": "DunnCounty_COVID19.ipynb",
   "parameters": {
    "Start": "True",
    "secretsPath": "/home/runner/work/_temp/secrets.json"
   },
   "start_time": "2020-09-23T10:10:12.657031",
   "version": "1.1.16"
  }
 },
 "nbformat": 4,
 "nbformat_minor": 2
}