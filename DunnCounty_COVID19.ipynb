{
 "cells": [
  {
   "cell_type": "code",
   "execution_count": 1,
   "id": "solar-understanding",
   "metadata": {
    "execution": {
     "iopub.execute_input": "2021-05-06T22:14:58.715588Z",
     "iopub.status.busy": "2021-05-06T22:14:58.715050Z",
     "iopub.status.idle": "2021-05-06T22:14:59.616664Z",
     "shell.execute_reply": "2021-05-06T22:14:59.616126Z"
    },
    "jupyter": {
     "source_hidden": true
    },
    "papermill": {
     "duration": 0.924417,
     "end_time": "2021-05-06T22:14:59.616799",
     "exception": false,
     "start_time": "2021-05-06T22:14:58.692382",
     "status": "completed"
    },
    "scrolled": true,
    "tags": [
     "hide-input"
    ]
   },
   "outputs": [],
   "source": [
    "import pandas as pd\n",
    "import matplotlib.pyplot as plt\n",
    "from matplotlib import dates\n",
    "from IPython.display import display, Markdown\n",
    "%matplotlib inline"
   ]
  },
  {
   "cell_type": "code",
   "execution_count": 2,
   "id": "purple-playlist",
   "metadata": {
    "execution": {
     "iopub.execute_input": "2021-05-06T22:14:59.640095Z",
     "iopub.status.busy": "2021-05-06T22:14:59.639565Z",
     "iopub.status.idle": "2021-05-06T22:15:00.317639Z",
     "shell.execute_reply": "2021-05-06T22:15:00.317065Z"
    },
    "jupyter": {
     "source_hidden": true
    },
    "papermill": {
     "duration": 0.691998,
     "end_time": "2021-05-06T22:15:00.317781",
     "exception": false,
     "start_time": "2021-05-06T22:14:59.625783",
     "status": "completed"
    },
    "scrolled": true,
    "tags": [
     "hide-input"
    ]
   },
   "outputs": [],
   "source": [
    "# This is the data for all of Wisconsin.\n",
    "url = \"https://opendata.arcgis.com/datasets/80ff9d4897db4d7692f0f4ad28447cab_12.csv\"\n",
    "data = pd.read_csv(url, parse_dates=['DATE'], low_memory=False)"
   ]
  },
  {
   "cell_type": "code",
   "execution_count": 3,
   "id": "proprietary-klein",
   "metadata": {
    "execution": {
     "iopub.execute_input": "2021-05-06T22:15:00.340730Z",
     "iopub.status.busy": "2021-05-06T22:15:00.340236Z",
     "iopub.status.idle": "2021-05-06T22:15:00.348659Z",
     "shell.execute_reply": "2021-05-06T22:15:00.348170Z"
    },
    "jupyter": {
     "source_hidden": true
    },
    "papermill": {
     "duration": 0.022369,
     "end_time": "2021-05-06T22:15:00.348770",
     "exception": false,
     "start_time": "2021-05-06T22:15:00.326401",
     "status": "completed"
    },
    "scrolled": true,
    "tags": [
     "hide-input"
    ]
   },
   "outputs": [],
   "source": [
    "dc = data.groupby('NAME').get_group('Dunn').sort_values(by='DATE') # Select the data for Dunn County from the full data.\n",
    "PNi = dc.columns.get_loc(\"POS_NEW\")\n",
    "dc['7_DAY'] = dc.iloc[:,PNi].rolling(window=7).mean() # Calculates the rolling 7-day average of new cases.\n",
    "dc['14_DAY'] = dc.iloc[:,PNi].rolling(window=14).mean() # Calculates the rolling 14-day average of new cases."
   ]
  },
  {
   "cell_type": "code",
   "execution_count": 4,
   "id": "steady-supervision",
   "metadata": {
    "execution": {
     "iopub.execute_input": "2021-05-06T22:15:00.376190Z",
     "iopub.status.busy": "2021-05-06T22:15:00.375170Z",
     "iopub.status.idle": "2021-05-06T22:15:00.378363Z",
     "shell.execute_reply": "2021-05-06T22:15:00.378786Z"
    },
    "jupyter": {
     "source_hidden": true
    },
    "papermill": {
     "duration": 0.021602,
     "end_time": "2021-05-06T22:15:00.378915",
     "exception": false,
     "start_time": "2021-05-06T22:15:00.357313",
     "status": "completed"
    },
    "scrolled": true,
    "tags": [
     "hide-input"
    ]
   },
   "outputs": [
    {
     "data": {
      "text/markdown": [
       "### Last updated: May 05, 2021"
      ],
      "text/plain": [
       "<IPython.core.display.Markdown object>"
      ]
     },
     "metadata": {},
     "output_type": "display_data"
    }
   ],
   "source": [
    "display(Markdown('### Last updated: ' + dc.iloc[-1]['DATE'].strftime(\"%B %d, %Y\")))"
   ]
  },
  {
   "cell_type": "code",
   "execution_count": 5,
   "id": "lonely-pitch",
   "metadata": {
    "execution": {
     "iopub.execute_input": "2021-05-06T22:15:00.402023Z",
     "iopub.status.busy": "2021-05-06T22:15:00.401472Z",
     "iopub.status.idle": "2021-05-06T22:15:00.404355Z",
     "shell.execute_reply": "2021-05-06T22:15:00.403870Z"
    },
    "jupyter": {
     "source_hidden": true
    },
    "papermill": {
     "duration": 0.016539,
     "end_time": "2021-05-06T22:15:00.404468",
     "exception": false,
     "start_time": "2021-05-06T22:15:00.387929",
     "status": "completed"
    },
    "tags": [
     "hide-input"
    ]
   },
   "outputs": [
    {
     "data": {
      "text/markdown": [
       "# Dunn County has 4633 total positive cases, with 8 new cases reported today."
      ],
      "text/plain": [
       "<IPython.core.display.Markdown object>"
      ]
     },
     "metadata": {},
     "output_type": "display_data"
    }
   ],
   "source": [
    "display(Markdown('# Dunn County has ' + str(dc.iloc[-1]['POSITIVE']) + ' total positive cases, with '+ str(int(dc.iloc[-1]['POS_NEW'])) + ' new cases reported today.'))"
   ]
  },
  {
   "cell_type": "code",
   "execution_count": 6,
   "id": "compound-nightmare",
   "metadata": {
    "execution": {
     "iopub.execute_input": "2021-05-06T22:15:00.428575Z",
     "iopub.status.busy": "2021-05-06T22:15:00.427908Z",
     "iopub.status.idle": "2021-05-06T22:15:00.693428Z",
     "shell.execute_reply": "2021-05-06T22:15:00.693816Z"
    },
    "jupyter": {
     "source_hidden": true
    },
    "papermill": {
     "duration": 0.279567,
     "end_time": "2021-05-06T22:15:00.693945",
     "exception": false,
     "start_time": "2021-05-06T22:15:00.414378",
     "status": "completed"
    },
    "scrolled": false,
    "tags": [
     "hide-input"
    ]
   },
   "outputs": [
    {
     "data": {
      "image/png": "[encoded data removed]",
      "text/plain": [
       "<Figure size 864x432 with 1 Axes>"
      ]
     },
     "metadata": {
      "needs_background": "light"
     },
     "output_type": "display_data"
    }
   ],
   "source": [
    "dc.plot(x='DATE',y='POSITIVE',color='red',grid='True',figsize=(12,6)).set_xlabel('Date');"
   ]
  },
  {
   "cell_type": "markdown",
   "id": "coupled-literacy",
   "metadata": {
    "papermill": {
     "duration": 0.010512,
     "end_time": "2021-05-06T22:15:00.714483",
     "exception": false,
     "start_time": "2021-05-06T22:15:00.703971",
     "status": "completed"
    },
    "tags": []
   },
   "source": [
    "## Figure 1: Cummulative number of positive cases."
   ]
  },
  {
   "cell_type": "code",
   "execution_count": 7,
   "id": "surrounded-reserve",
   "metadata": {
    "execution": {
     "iopub.execute_input": "2021-05-06T22:15:00.742046Z",
     "iopub.status.busy": "2021-05-06T22:15:00.741136Z",
     "iopub.status.idle": "2021-05-06T22:15:00.950814Z",
     "shell.execute_reply": "2021-05-06T22:15:00.950165Z"
    },
    "jupyter": {
     "source_hidden": true
    },
    "papermill": {
     "duration": 0.226285,
     "end_time": "2021-05-06T22:15:00.950983",
     "exception": false,
     "start_time": "2021-05-06T22:15:00.724698",
     "status": "completed"
    },
    "scrolled": false,
    "tags": [
     "hide-input"
    ]
   },
   "outputs": [
    {
     "data": {
      "image/png": "[encoded data removed]",
      "text/plain": [
       "<Figure size 864x432 with 1 Axes>"
      ]
     },
     "metadata": {
      "needs_background": "light"
     },
     "output_type": "display_data"
    }
   ],
   "source": [
    "dc.plot(kind='line',x='DATE',y='7_DAY',color='blue',grid='True',figsize=(12,6)).set_xlabel('Date');"
   ]
  },
  {
   "cell_type": "markdown",
   "id": "professional-savannah",
   "metadata": {
    "papermill": {
     "duration": 0.011713,
     "end_time": "2021-05-06T22:15:00.975121",
     "exception": false,
     "start_time": "2021-05-06T22:15:00.963408",
     "status": "completed"
    },
    "tags": []
   },
   "source": [
    "## Figure 2: Rolling 7-day average of daily new cases."
   ]
  },
  {
   "cell_type": "code",
   "execution_count": 8,
   "id": "stretch-investor",
   "metadata": {
    "execution": {
     "iopub.execute_input": "2021-05-06T22:15:01.004142Z",
     "iopub.status.busy": "2021-05-06T22:15:01.003650Z",
     "iopub.status.idle": "2021-05-06T22:15:01.214135Z",
     "shell.execute_reply": "2021-05-06T22:15:01.215109Z"
    },
    "jupyter": {
     "source_hidden": true
    },
    "papermill": {
     "duration": 0.228883,
     "end_time": "2021-05-06T22:15:01.215378",
     "exception": false,
     "start_time": "2021-05-06T22:15:00.986495",
     "status": "completed"
    },
    "tags": []
   },
   "outputs": [
    {
     "data": {
      "image/png": "[encoded data removed]",
      "text/plain": [
       "<Figure size 864x432 with 1 Axes>"
      ]
     },
     "metadata": {
      "needs_background": "light"
     },
     "output_type": "display_data"
    }
   ],
   "source": [
    "dc.plot(kind='line',x='DATE',y='14_DAY',color='green',grid='True',figsize=(12,6)).set_xlabel('Date');"
   ]
  },
  {
   "cell_type": "markdown",
   "id": "prerequisite-species",
   "metadata": {
    "papermill": {
     "duration": 0.01307,
     "end_time": "2021-05-06T22:15:01.242913",
     "exception": false,
     "start_time": "2021-05-06T22:15:01.229843",
     "status": "completed"
    },
    "tags": []
   },
   "source": [
    "## Figure 3: Rolling 14-day average of daily new cases."
   ]
  },
  {
   "cell_type": "markdown",
   "id": "palestinian-guard",
   "metadata": {
    "papermill": {
     "duration": 0.012614,
     "end_time": "2021-05-06T22:15:01.268068",
     "exception": false,
     "start_time": "2021-05-06T22:15:01.255454",
     "status": "completed"
    },
    "tags": []
   },
   "source": [
    "Data source: [Wisconsin Department of Health Services](https://data.dhsgis.wi.gov/datasets/covid-19-historical-data-by-county)"
   ]
  },
  {
   "cell_type": "code",
   "execution_count": 9,
   "id": "proof-medicare",
   "metadata": {
    "execution": {
     "iopub.execute_input": "2021-05-06T22:15:01.299667Z",
     "iopub.status.busy": "2021-05-06T22:15:01.298287Z",
     "iopub.status.idle": "2021-05-06T22:15:01.303305Z",
     "shell.execute_reply": "2021-05-06T22:15:01.303727Z"
    },
    "jupyter": {
     "source_hidden": true
    },
    "papermill": {
     "duration": 0.023345,
     "end_time": "2021-05-06T22:15:01.303862",
     "exception": false,
     "start_time": "2021-05-06T22:15:01.280517",
     "status": "completed"
    },
    "tags": []
   },
   "outputs": [
    {
     "data": {
      "text/html": [
       "<style>\n",
       "div.input {\n",
       "    display:none;\n",
       "}\n",
       "</style>\n"
      ],
      "text/plain": [
       "<IPython.core.display.HTML object>"
      ]
     },
     "metadata": {},
     "output_type": "display_data"
    }
   ],
   "source": [
    "%%html\n",
    "<style>\n",
    "div.input {\n",
    "    display:none;\n",
    "}\n",
    "</style>"
   ]
  }
 ],
 "metadata": {
  "kernelspec": {
   "display_name": "Python 3",
   "language": "python",
   "name": "python3"
  },
  "language_info": {
   "codemirror_mode": {
    "name": "ipython",
    "version": 3
   },
   "file_extension": ".py",
   "mimetype": "text/x-python",
   "name": "python",
   "nbconvert_exporter": "python",
   "pygments_lexer": "ipython3",
   "version": "3.8.10"
  },
  "papermill": {
   "duration": 4.553682,
   "end_time": "2021-05-06T22:15:01.623029",
   "environment_variables": {},
   "exception": null,
   "input_path": "DunnCounty_COVID19.ipynb",
   "output_path": "DunnCounty_COVID19.ipynb",
   "parameters": {
    "Start": "True",
    "secretsPath": "/home/runner/work/_temp/secrets.json"
   },
   "start_time": "2021-05-06T22:14:57.069347",
   "version": "1.1.16"
  }
 },
 "nbformat": 4,
 "nbformat_minor": 5
}