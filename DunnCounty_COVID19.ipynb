{
 "cells": [
  {
   "cell_type": "code",
   "execution_count": 1,
   "id": "solar-understanding",
   "metadata": {
    "execution": {
     "iopub.execute_input": "2021-04-19T10:16:02.299629Z",
     "iopub.status.busy": "2021-04-19T10:16:02.299027Z",
     "iopub.status.idle": "2021-04-19T10:16:04.008336Z",
     "shell.execute_reply": "2021-04-19T10:16:04.008923Z"
    },
    "jupyter": {
     "source_hidden": true
    },
    "papermill": {
     "duration": 1.730357,
     "end_time": "2021-04-19T10:16:04.009479",
     "exception": false,
     "start_time": "2021-04-19T10:16:02.279122",
     "status": "completed"
    },
    "scrolled": true,
    "tags": [
     "hide-input"
    ]
   },
   "outputs": [],
   "source": [
    "import pandas as pd\n",
    "import matplotlib.pyplot as plt\n",
    "from matplotlib import dates\n",
    "from IPython.display import display, Markdown\n",
    "%matplotlib inline"
   ]
  },
  {
   "cell_type": "code",
   "execution_count": 2,
   "id": "purple-playlist",
   "metadata": {
    "execution": {
     "iopub.execute_input": "2021-04-19T10:16:04.036197Z",
     "iopub.status.busy": "2021-04-19T10:16:04.035653Z",
     "iopub.status.idle": "2021-04-19T10:16:04.927907Z",
     "shell.execute_reply": "2021-04-19T10:16:04.927340Z"
    },
    "jupyter": {
     "source_hidden": true
    },
    "papermill": {
     "duration": 0.909121,
     "end_time": "2021-04-19T10:16:04.928036",
     "exception": false,
     "start_time": "2021-04-19T10:16:04.018915",
     "status": "completed"
    },
    "scrolled": true,
    "tags": [
     "hide-input"
    ]
   },
   "outputs": [],
   "source": [
    "# This is the data for all of Wisconsin.\n",
    "url = \"https://opendata.arcgis.com/datasets/0b7bac0afc464e7783474cb62272d9b8_12.csv\"\n",
    "data = pd.read_csv(url, parse_dates=['DATE'], low_memory=False)"
   ]
  },
  {
   "cell_type": "code",
   "execution_count": 3,
   "id": "proprietary-klein",
   "metadata": {
    "execution": {
     "iopub.execute_input": "2021-04-19T10:16:04.957578Z",
     "iopub.status.busy": "2021-04-19T10:16:04.956955Z",
     "iopub.status.idle": "2021-04-19T10:16:04.967955Z",
     "shell.execute_reply": "2021-04-19T10:16:04.967419Z"
    },
    "jupyter": {
     "source_hidden": true
    },
    "papermill": {
     "duration": 0.030233,
     "end_time": "2021-04-19T10:16:04.968083",
     "exception": false,
     "start_time": "2021-04-19T10:16:04.937850",
     "status": "completed"
    },
    "scrolled": true,
    "tags": [
     "hide-input"
    ]
   },
   "outputs": [],
   "source": [
    "dc = data.groupby('NAME').get_group('Dunn').sort_values(by='DATE') # Select the data for Dunn County from the full data.\n",
    "PNi = dc.columns.get_loc(\"POS_NEW\")\n",
    "dc['7_DAY'] = dc.iloc[:,PNi].rolling(window=7).mean() # Calculates the rolling 7-day average of new cases.\n",
    "dc['14_DAY'] = dc.iloc[:,PNi].rolling(window=14).mean() # Calculates the rolling 14-day average of new cases."
   ]
  },
  {
   "cell_type": "code",
   "execution_count": 4,
   "id": "steady-supervision",
   "metadata": {
    "execution": {
     "iopub.execute_input": "2021-04-19T10:16:04.992441Z",
     "iopub.status.busy": "2021-04-19T10:16:04.991880Z",
     "iopub.status.idle": "2021-04-19T10:16:05.001356Z",
     "shell.execute_reply": "2021-04-19T10:16:05.000846Z"
    },
    "jupyter": {
     "source_hidden": true
    },
    "papermill": {
     "duration": 0.02165,
     "end_time": "2021-04-19T10:16:05.001479",
     "exception": false,
     "start_time": "2021-04-19T10:16:04.979829",
     "status": "completed"
    },
    "scrolled": true,
    "tags": [
     "hide-input"
    ]
   },
   "outputs": [
    {
     "data": {
      "text/markdown": [
       "### Last updated: April 18, 2021"
      ],
      "text/plain": [
       "<IPython.core.display.Markdown object>"
      ]
     },
     "metadata": {},
     "output_type": "display_data"
    }
   ],
   "source": [
    "display(Markdown('### Last updated: ' + dc.iloc[-1]['DATE'].strftime(\"%B %d, %Y\")))"
   ]
  },
  {
   "cell_type": "code",
   "execution_count": 5,
   "id": "lonely-pitch",
   "metadata": {
    "execution": {
     "iopub.execute_input": "2021-04-19T10:16:05.028520Z",
     "iopub.status.busy": "2021-04-19T10:16:05.027149Z",
     "iopub.status.idle": "2021-04-19T10:16:05.030306Z",
     "shell.execute_reply": "2021-04-19T10:16:05.030951Z"
    },
    "jupyter": {
     "source_hidden": true
    },
    "papermill": {
     "duration": 0.01996,
     "end_time": "2021-04-19T10:16:05.031106",
     "exception": false,
     "start_time": "2021-04-19T10:16:05.011146",
     "status": "completed"
    },
    "tags": [
     "hide-input"
    ]
   },
   "outputs": [
    {
     "data": {
      "text/markdown": [
       "# Dunn County has 4543 total positive cases, with 10 new cases reported today."
      ],
      "text/plain": [
       "<IPython.core.display.Markdown object>"
      ]
     },
     "metadata": {},
     "output_type": "display_data"
    }
   ],
   "source": [
    "display(Markdown('# Dunn County has ' + str(dc.iloc[-1]['POSITIVE']) + ' total positive cases, with '+ str(int(dc.iloc[-1]['POS_NEW'])) + ' new cases reported today.'))"
   ]
  },
  {
   "cell_type": "code",
   "execution_count": 6,
   "id": "compound-nightmare",
   "metadata": {
    "execution": {
     "iopub.execute_input": "2021-04-19T10:16:05.059222Z",
     "iopub.status.busy": "2021-04-19T10:16:05.058634Z",
     "iopub.status.idle": "2021-04-19T10:16:05.361811Z",
     "shell.execute_reply": "2021-04-19T10:16:05.362338Z"
    },
    "jupyter": {
     "source_hidden": true
    },
    "papermill": {
     "duration": 0.319614,
     "end_time": "2021-04-19T10:16:05.362547",
     "exception": false,
     "start_time": "2021-04-19T10:16:05.042933",
     "status": "completed"
    },
    "scrolled": false,
    "tags": [
     "hide-input"
    ]
   },
   "outputs": [
    {
     "data": {
      "image/png": "[encoded data removed]",
      "text/plain": [
       "<Figure size 864x432 with 1 Axes>"
      ]
     },
     "metadata": {
      "needs_background": "light"
     },
     "output_type": "display_data"
    }
   ],
   "source": [
    "dc.plot(x='DATE',y='POSITIVE',color='red',grid='True',figsize=(12,6)).set_xlabel('Date');"
   ]
  },
  {
   "cell_type": "markdown",
   "id": "coupled-literacy",
   "metadata": {
    "papermill": {
     "duration": 0.012719,
     "end_time": "2021-04-19T10:16:05.388314",
     "exception": false,
     "start_time": "2021-04-19T10:16:05.375595",
     "status": "completed"
    },
    "tags": []
   },
   "source": [
    "## Figure 1: Cummulative number of positive cases."
   ]
  },
  {
   "cell_type": "code",
   "execution_count": 7,
   "id": "surrounded-reserve",
   "metadata": {
    "execution": {
     "iopub.execute_input": "2021-04-19T10:16:05.419293Z",
     "iopub.status.busy": "2021-04-19T10:16:05.418595Z",
     "iopub.status.idle": "2021-04-19T10:16:05.661270Z",
     "shell.execute_reply": "2021-04-19T10:16:05.661754Z"
    },
    "jupyter": {
     "source_hidden": true
    },
    "papermill": {
     "duration": 0.26083,
     "end_time": "2021-04-19T10:16:05.661912",
     "exception": false,
     "start_time": "2021-04-19T10:16:05.401082",
     "status": "completed"
    },
    "scrolled": false,
    "tags": [
     "hide-input"
    ]
   },
   "outputs": [
    {
     "data": {
      "image/png": "[encoded data removed]",
      "text/plain": [
       "<Figure size 864x432 with 1 Axes>"
      ]
     },
     "metadata": {
      "needs_background": "light"
     },
     "output_type": "display_data"
    }
   ],
   "source": [
    "dc.plot(kind='line',x='DATE',y='7_DAY',color='blue',grid='True',figsize=(12,6)).set_xlabel('Date');"
   ]
  },
  {
   "cell_type": "markdown",
   "id": "professional-savannah",
   "metadata": {
    "papermill": {
     "duration": 0.012897,
     "end_time": "2021-04-19T10:16:05.689456",
     "exception": false,
     "start_time": "2021-04-19T10:16:05.676559",
     "status": "completed"
    },
    "tags": []
   },
   "source": [
    "## Figure 2: Rolling 7-day average of daily new cases."
   ]
  },
  {
   "cell_type": "code",
   "execution_count": 8,
   "id": "stretch-investor",
   "metadata": {
    "execution": {
     "iopub.execute_input": "2021-04-19T10:16:05.720038Z",
     "iopub.status.busy": "2021-04-19T10:16:05.719434Z",
     "iopub.status.idle": "2021-04-19T10:16:05.973768Z",
     "shell.execute_reply": "2021-04-19T10:16:05.973190Z"
    },
    "jupyter": {
     "source_hidden": true
    },
    "papermill": {
     "duration": 0.272241,
     "end_time": "2021-04-19T10:16:05.973939",
     "exception": false,
     "start_time": "2021-04-19T10:16:05.701698",
     "status": "completed"
    },
    "tags": []
   },
   "outputs": [
    {
     "data": {
      "image/png": "[encoded data removed]",
      "text/plain": [
       "<Figure size 864x432 with 1 Axes>"
      ]
     },
     "metadata": {
      "needs_background": "light"
     },
     "output_type": "display_data"
    }
   ],
   "source": [
    "dc.plot(kind='line',x='DATE',y='14_DAY',color='green',grid='True',figsize=(12,6)).set_xlabel('Date');"
   ]
  },
  {
   "cell_type": "markdown",
   "id": "prerequisite-species",
   "metadata": {
    "papermill": {
     "duration": 0.016124,
     "end_time": "2021-04-19T10:16:06.004667",
     "exception": false,
     "start_time": "2021-04-19T10:16:05.988543",
     "status": "completed"
    },
    "tags": []
   },
   "source": [
    "## Figure 3: Rolling 14-day average of daily new cases."
   ]
  },
  {
   "cell_type": "markdown",
   "id": "palestinian-guard",
   "metadata": {
    "papermill": {
     "duration": 0.014118,
     "end_time": "2021-04-19T10:16:06.032799",
     "exception": false,
     "start_time": "2021-04-19T10:16:06.018681",
     "status": "completed"
    },
    "tags": []
   },
   "source": [
    "Data source: [Wisconsin Department of Health Services](https://data.dhsgis.wi.gov/datasets/covid-19-historical-data-by-county)"
   ]
  },
  {
   "cell_type": "code",
   "execution_count": 9,
   "id": "proof-medicare",
   "metadata": {
    "execution": {
     "iopub.execute_input": "2021-04-19T10:16:06.065974Z",
     "iopub.status.busy": "2021-04-19T10:16:06.065375Z",
     "iopub.status.idle": "2021-04-19T10:16:06.068738Z",
     "shell.execute_reply": "2021-04-19T10:16:06.068158Z"
    },
    "jupyter": {
     "source_hidden": true
    },
    "papermill": {
     "duration": 0.02221,
     "end_time": "2021-04-19T10:16:06.068880",
     "exception": false,
     "start_time": "2021-04-19T10:16:06.046670",
     "status": "completed"
    },
    "tags": []
   },
   "outputs": [
    {
     "data": {
      "text/html": [
       "<style>\n",
       "div.input {\n",
       "    display:none;\n",
       "}\n",
       "</style>\n"
      ],
      "text/plain": [
       "<IPython.core.display.HTML object>"
      ]
     },
     "metadata": {},
     "output_type": "display_data"
    }
   ],
   "source": [
    "%%html\n",
    "<style>\n",
    "div.input {\n",
    "    display:none;\n",
    "}\n",
    "</style>"
   ]
  }
 ],
 "metadata": {
  "kernelspec": {
   "display_name": "Python 3",
   "language": "python",
   "name": "python3"
  },
  "language_info": {
   "codemirror_mode": {
    "name": "ipython",
    "version": 3
   },
   "file_extension": ".py",
   "mimetype": "text/x-python",
   "name": "python",
   "nbconvert_exporter": "python",
   "pygments_lexer": "ipython3",
   "version": "3.8.9"
  },
  "papermill": {
   "duration": 6.702335,
   "end_time": "2021-04-19T10:16:07.316790",
   "environment_variables": {},
   "exception": null,
   "input_path": "DunnCounty_COVID19.ipynb",
   "output_path": "DunnCounty_COVID19.ipynb",
   "parameters": {
    "Start": "True",
    "secretsPath": "/home/runner/work/_temp/secrets.json"
   },
   "start_time": "2021-04-19T10:16:00.614455",
   "version": "1.1.16"
  }
 },
 "nbformat": 4,
 "nbformat_minor": 5
}