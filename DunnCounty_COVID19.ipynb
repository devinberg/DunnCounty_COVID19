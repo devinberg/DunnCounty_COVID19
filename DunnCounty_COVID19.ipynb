{
 "cells": [
  {
   "cell_type": "code",
   "execution_count": 1,
   "metadata": {
    "execution": {
     "iopub.execute_input": "2020-11-11T10:09:06.481784Z",
     "iopub.status.busy": "2020-11-11T10:09:06.481164Z",
     "iopub.status.idle": "2020-11-11T10:09:07.865699Z",
     "shell.execute_reply": "2020-11-11T10:09:07.865121Z"
    },
    "jupyter": {
     "source_hidden": true
    },
    "papermill": {
     "duration": 1.399839,
     "end_time": "2020-11-11T10:09:07.866448",
     "exception": false,
     "start_time": "2020-11-11T10:09:06.466609",
     "status": "completed"
    },
    "scrolled": true,
    "tags": [
     "hide-input"
    ]
   },
   "outputs": [],
   "source": [
    "import pandas as pd\n",
    "import matplotlib.pyplot as plt\n",
    "from matplotlib import dates\n",
    "from IPython.display import display, Markdown\n",
    "%matplotlib inline"
   ]
  },
  {
   "cell_type": "code",
   "execution_count": 2,
   "metadata": {
    "execution": {
     "iopub.execute_input": "2020-11-11T10:09:07.888952Z",
     "iopub.status.busy": "2020-11-11T10:09:07.888277Z",
     "iopub.status.idle": "2020-11-11T10:09:08.936947Z",
     "shell.execute_reply": "2020-11-11T10:09:08.936410Z"
    },
    "jupyter": {
     "source_hidden": true
    },
    "papermill": {
     "duration": 1.062171,
     "end_time": "2020-11-11T10:09:08.937102",
     "exception": false,
     "start_time": "2020-11-11T10:09:07.874931",
     "status": "completed"
    },
    "scrolled": true,
    "tags": [
     "hide-input"
    ]
   },
   "outputs": [],
   "source": [
    "# This is the data for all of Wisconsin.\n",
    "url = \"https://opendata.arcgis.com/datasets/5374188992374b318d3e2305216ee413_12.csv\"\n",
    "data = pd.read_csv(url, parse_dates=['DATE'], low_memory=False)"
   ]
  },
  {
   "cell_type": "code",
   "execution_count": 3,
   "metadata": {
    "execution": {
     "iopub.execute_input": "2020-11-11T10:09:08.957658Z",
     "iopub.status.busy": "2020-11-11T10:09:08.957065Z",
     "iopub.status.idle": "2020-11-11T10:09:08.966098Z",
     "shell.execute_reply": "2020-11-11T10:09:08.966581Z"
    },
    "jupyter": {
     "source_hidden": true
    },
    "papermill": {
     "duration": 0.022047,
     "end_time": "2020-11-11T10:09:08.966764",
     "exception": false,
     "start_time": "2020-11-11T10:09:08.944717",
     "status": "completed"
    },
    "scrolled": true,
    "tags": [
     "hide-input"
    ]
   },
   "outputs": [],
   "source": [
    "dc = data.groupby('NAME').get_group('Dunn').sort_values(by='DATE') # Select the data for Dunn County from the full data.\n",
    "PNi = dc.columns.get_loc(\"POS_NEW\")\n",
    "dc['7_DAY'] = dc.iloc[:,PNi].rolling(window=7).mean() # Calculates the rolling 7-day average of new cases.\n",
    "dc['14_DAY'] = dc.iloc[:,PNi].rolling(window=14).mean() # Calculates the rolling 14-day average of new cases."
   ]
  },
  {
   "cell_type": "code",
   "execution_count": 4,
   "metadata": {
    "execution": {
     "iopub.execute_input": "2020-11-11T10:09:08.988500Z",
     "iopub.status.busy": "2020-11-11T10:09:08.987918Z",
     "iopub.status.idle": "2020-11-11T10:09:08.991882Z",
     "shell.execute_reply": "2020-11-11T10:09:08.991243Z"
    },
    "jupyter": {
     "source_hidden": true
    },
    "papermill": {
     "duration": 0.018101,
     "end_time": "2020-11-11T10:09:08.992012",
     "exception": false,
     "start_time": "2020-11-11T10:09:08.973911",
     "status": "completed"
    },
    "scrolled": true,
    "tags": [
     "hide-input"
    ]
   },
   "outputs": [
    {
     "data": {
      "text/markdown": [
       "### Last updated: November 10, 2020"
      ],
      "text/plain": [
       "<IPython.core.display.Markdown object>"
      ]
     },
     "metadata": {},
     "output_type": "display_data"
    }
   ],
   "source": [
    "display(Markdown('### Last updated: ' + dc.iloc[-1]['DATE'].strftime(\"%B %d, %Y\")))"
   ]
  },
  {
   "cell_type": "code",
   "execution_count": 5,
   "metadata": {
    "execution": {
     "iopub.execute_input": "2020-11-11T10:09:09.012534Z",
     "iopub.status.busy": "2020-11-11T10:09:09.011954Z",
     "iopub.status.idle": "2020-11-11T10:09:09.017417Z",
     "shell.execute_reply": "2020-11-11T10:09:09.017852Z"
    },
    "jupyter": {
     "source_hidden": true
    },
    "papermill": {
     "duration": 0.017809,
     "end_time": "2020-11-11T10:09:09.017991",
     "exception": false,
     "start_time": "2020-11-11T10:09:09.000182",
     "status": "completed"
    },
    "tags": [
     "hide-input"
    ]
   },
   "outputs": [
    {
     "data": {
      "text/markdown": [
       "# Dunn County has 1661 total positive cases, with 33 new cases reported today."
      ],
      "text/plain": [
       "<IPython.core.display.Markdown object>"
      ]
     },
     "metadata": {},
     "output_type": "display_data"
    }
   ],
   "source": [
    "display(Markdown('# Dunn County has ' + str(dc.iloc[-1]['POSITIVE']) + ' total positive cases, with '+ str(int(dc.iloc[-1]['POS_NEW'])) + ' new cases reported today.'))"
   ]
  },
  {
   "cell_type": "code",
   "execution_count": 6,
   "metadata": {
    "execution": {
     "iopub.execute_input": "2020-11-11T10:09:09.038683Z",
     "iopub.status.busy": "2020-11-11T10:09:09.038057Z",
     "iopub.status.idle": "2020-11-11T10:09:09.285395Z",
     "shell.execute_reply": "2020-11-11T10:09:09.284866Z"
    },
    "jupyter": {
     "source_hidden": true
    },
    "papermill": {
     "duration": 0.258834,
     "end_time": "2020-11-11T10:09:09.285530",
     "exception": false,
     "start_time": "2020-11-11T10:09:09.026696",
     "status": "completed"
    },
    "scrolled": false,
    "tags": [
     "hide-input"
    ]
   },
   "outputs": [
    {
     "data": {
      "image/png": "[encoded data removed]",
      "text/plain": [
       "<Figure size 864x432 with 1 Axes>"
      ]
     },
     "metadata": {
      "needs_background": "light"
     },
     "output_type": "display_data"
    }
   ],
   "source": [
    "dc.plot(x='DATE',y='POSITIVE',color='red',grid='True',figsize=(12,6)).set_xlabel('Date');"
   ]
  },
  {
   "cell_type": "markdown",
   "metadata": {
    "papermill": {
     "duration": 0.008344,
     "end_time": "2020-11-11T10:09:09.302900",
     "exception": false,
     "start_time": "2020-11-11T10:09:09.294556",
     "status": "completed"
    },
    "tags": []
   },
   "source": [
    "## Figure 1: Cummulative number of positive cases."
   ]
  },
  {
   "cell_type": "code",
   "execution_count": 7,
   "metadata": {
    "execution": {
     "iopub.execute_input": "2020-11-11T10:09:09.325004Z",
     "iopub.status.busy": "2020-11-11T10:09:09.324458Z",
     "iopub.status.idle": "2020-11-11T10:09:09.547468Z",
     "shell.execute_reply": "2020-11-11T10:09:09.547973Z"
    },
    "jupyter": {
     "source_hidden": true
    },
    "papermill": {
     "duration": 0.236348,
     "end_time": "2020-11-11T10:09:09.548163",
     "exception": false,
     "start_time": "2020-11-11T10:09:09.311815",
     "status": "completed"
    },
    "scrolled": false,
    "tags": [
     "hide-input"
    ]
   },
   "outputs": [
    {
     "data": {
      "image/png": "[encoded data removed]",
      "text/plain": [
       "<Figure size 864x432 with 1 Axes>"
      ]
     },
     "metadata": {
      "needs_background": "light"
     },
     "output_type": "display_data"
    }
   ],
   "source": [
    "dc.plot(kind='line',x='DATE',y='7_DAY',color='blue',grid='True',figsize=(12,6)).set_xlabel('Date');"
   ]
  },
  {
   "cell_type": "markdown",
   "metadata": {
    "papermill": {
     "duration": 0.00929,
     "end_time": "2020-11-11T10:09:09.567654",
     "exception": false,
     "start_time": "2020-11-11T10:09:09.558364",
     "status": "completed"
    },
    "tags": []
   },
   "source": [
    "## Figure 2: Rolling 7-day average of daily new cases."
   ]
  },
  {
   "cell_type": "code",
   "execution_count": 8,
   "metadata": {
    "execution": {
     "iopub.execute_input": "2020-11-11T10:09:09.592216Z",
     "iopub.status.busy": "2020-11-11T10:09:09.591593Z",
     "iopub.status.idle": "2020-11-11T10:09:09.810626Z",
     "shell.execute_reply": "2020-11-11T10:09:09.811119Z"
    },
    "jupyter": {
     "source_hidden": true
    },
    "papermill": {
     "duration": 0.233171,
     "end_time": "2020-11-11T10:09:09.811290",
     "exception": false,
     "start_time": "2020-11-11T10:09:09.578119",
     "status": "completed"
    },
    "tags": []
   },
   "outputs": [
    {
     "data": {
      "image/png": "[encoded data removed]",
      "text/plain": [
       "<Figure size 864x432 with 1 Axes>"
      ]
     },
     "metadata": {
      "needs_background": "light"
     },
     "output_type": "display_data"
    }
   ],
   "source": [
    "dc.plot(kind='line',x='DATE',y='14_DAY',color='green',grid='True',figsize=(12,6)).set_xlabel('Date');"
   ]
  },
  {
   "cell_type": "markdown",
   "metadata": {
    "papermill": {
     "duration": 0.009885,
     "end_time": "2020-11-11T10:09:09.832147",
     "exception": false,
     "start_time": "2020-11-11T10:09:09.822262",
     "status": "completed"
    },
    "tags": []
   },
   "source": [
    "## Figure 3: Rolling 14-day average of daily new cases."
   ]
  },
  {
   "cell_type": "markdown",
   "metadata": {
    "papermill": {
     "duration": 0.009589,
     "end_time": "2020-11-11T10:09:09.852471",
     "exception": false,
     "start_time": "2020-11-11T10:09:09.842882",
     "status": "completed"
    },
    "tags": []
   },
   "source": [
    "Data source: [Wisconsin Department of Health Services](https://data.dhsgis.wi.gov/datasets/covid-19-historical-data-table/)"
   ]
  },
  {
   "cell_type": "code",
   "execution_count": 9,
   "metadata": {
    "execution": {
     "iopub.execute_input": "2020-11-11T10:09:09.877345Z",
     "iopub.status.busy": "2020-11-11T10:09:09.876779Z",
     "iopub.status.idle": "2020-11-11T10:09:09.880165Z",
     "shell.execute_reply": "2020-11-11T10:09:09.879633Z"
    },
    "jupyter": {
     "source_hidden": true
    },
    "papermill": {
     "duration": 0.018214,
     "end_time": "2020-11-11T10:09:09.880284",
     "exception": false,
     "start_time": "2020-11-11T10:09:09.862070",
     "status": "completed"
    },
    "tags": []
   },
   "outputs": [
    {
     "data": {
      "text/html": [
       "<style>\n",
       "div.input {\n",
       "    display:none;\n",
       "}\n",
       "</style>\n"
      ],
      "text/plain": [
       "<IPython.core.display.HTML object>"
      ]
     },
     "metadata": {},
     "output_type": "display_data"
    }
   ],
   "source": [
    "%%html\n",
    "<style>\n",
    "div.input {\n",
    "    display:none;\n",
    "}\n",
    "</style>"
   ]
  }
 ],
 "metadata": {
  "kernelspec": {
   "display_name": "Python 3",
   "language": "python",
   "name": "python3"
  },
  "language_info": {
   "codemirror_mode": {
    "name": "ipython",
    "version": 3
   },
   "file_extension": ".py",
   "mimetype": "text/x-python",
   "name": "python",
   "nbconvert_exporter": "python",
   "pygments_lexer": "ipython3",
   "version": "3.8.6"
  },
  "papermill": {
   "duration": 5.578161,
   "end_time": "2020-11-11T10:09:10.197928",
   "environment_variables": {},
   "exception": null,
   "input_path": "DunnCounty_COVID19.ipynb",
   "output_path": "DunnCounty_COVID19.ipynb",
   "parameters": {
    "Start": "True",
    "secretsPath": "/home/runner/work/_temp/secrets.json"
   },
   "start_time": "2020-11-11T10:09:04.619767",
   "version": "1.1.16"
  }
 },
 "nbformat": 4,
 "nbformat_minor": 2
}