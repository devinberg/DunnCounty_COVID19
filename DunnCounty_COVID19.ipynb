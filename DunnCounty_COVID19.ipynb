{
 "cells": [
  {
   "cell_type": "code",
   "execution_count": 1,
   "id": "solar-understanding",
   "metadata": {
    "execution": {
     "iopub.execute_input": "2021-03-25T10:19:14.018949Z",
     "iopub.status.busy": "2021-03-25T10:19:14.018302Z",
     "iopub.status.idle": "2021-03-25T10:19:15.108249Z",
     "shell.execute_reply": "2021-03-25T10:19:15.107148Z"
    },
    "jupyter": {
     "source_hidden": true
    },
    "papermill": {
     "duration": 1.111271,
     "end_time": "2021-03-25T10:19:15.108414",
     "exception": false,
     "start_time": "2021-03-25T10:19:13.997143",
     "status": "completed"
    },
    "scrolled": true,
    "tags": [
     "hide-input"
    ]
   },
   "outputs": [],
   "source": [
    "import pandas as pd\n",
    "import matplotlib.pyplot as plt\n",
    "from matplotlib import dates\n",
    "from IPython.display import display, Markdown\n",
    "%matplotlib inline"
   ]
  },
  {
   "cell_type": "code",
   "execution_count": 2,
   "id": "purple-playlist",
   "metadata": {
    "execution": {
     "iopub.execute_input": "2021-03-25T10:19:15.136137Z",
     "iopub.status.busy": "2021-03-25T10:19:15.135517Z",
     "iopub.status.idle": "2021-03-25T10:19:16.309975Z",
     "shell.execute_reply": "2021-03-25T10:19:16.310498Z"
    },
    "jupyter": {
     "source_hidden": true
    },
    "papermill": {
     "duration": 1.191308,
     "end_time": "2021-03-25T10:19:16.310754",
     "exception": false,
     "start_time": "2021-03-25T10:19:15.119446",
     "status": "completed"
    },
    "scrolled": true,
    "tags": [
     "hide-input"
    ]
   },
   "outputs": [],
   "source": [
    "# This is the data for all of Wisconsin.\n",
    "url = \"https://opendata.arcgis.com/datasets/5374188992374b318d3e2305216ee413_12.csv\"\n",
    "data = pd.read_csv(url, parse_dates=['DATE'], low_memory=False)"
   ]
  },
  {
   "cell_type": "code",
   "execution_count": 3,
   "id": "proprietary-klein",
   "metadata": {
    "execution": {
     "iopub.execute_input": "2021-03-25T10:19:16.339345Z",
     "iopub.status.busy": "2021-03-25T10:19:16.338669Z",
     "iopub.status.idle": "2021-03-25T10:19:16.348302Z",
     "shell.execute_reply": "2021-03-25T10:19:16.348780Z"
    },
    "jupyter": {
     "source_hidden": true
    },
    "papermill": {
     "duration": 0.026927,
     "end_time": "2021-03-25T10:19:16.348927",
     "exception": false,
     "start_time": "2021-03-25T10:19:16.322000",
     "status": "completed"
    },
    "scrolled": true,
    "tags": [
     "hide-input"
    ]
   },
   "outputs": [],
   "source": [
    "dc = data.groupby('NAME').get_group('Dunn').sort_values(by='DATE') # Select the data for Dunn County from the full data.\n",
    "PNi = dc.columns.get_loc(\"POS_NEW\")\n",
    "dc['7_DAY'] = dc.iloc[:,PNi].rolling(window=7).mean() # Calculates the rolling 7-day average of new cases.\n",
    "dc['14_DAY'] = dc.iloc[:,PNi].rolling(window=14).mean() # Calculates the rolling 14-day average of new cases."
   ]
  },
  {
   "cell_type": "code",
   "execution_count": 4,
   "id": "steady-supervision",
   "metadata": {
    "execution": {
     "iopub.execute_input": "2021-03-25T10:19:16.377648Z",
     "iopub.status.busy": "2021-03-25T10:19:16.376754Z",
     "iopub.status.idle": "2021-03-25T10:19:16.382457Z",
     "shell.execute_reply": "2021-03-25T10:19:16.383055Z"
    },
    "jupyter": {
     "source_hidden": true
    },
    "papermill": {
     "duration": 0.023722,
     "end_time": "2021-03-25T10:19:16.383199",
     "exception": false,
     "start_time": "2021-03-25T10:19:16.359477",
     "status": "completed"
    },
    "scrolled": true,
    "tags": [
     "hide-input"
    ]
   },
   "outputs": [
    {
     "data": {
      "text/markdown": [
       "### Last updated: March 24, 2021"
      ],
      "text/plain": [
       "<IPython.core.display.Markdown object>"
      ]
     },
     "metadata": {},
     "output_type": "display_data"
    }
   ],
   "source": [
    "display(Markdown('### Last updated: ' + dc.iloc[-1]['DATE'].strftime(\"%B %d, %Y\")))"
   ]
  },
  {
   "cell_type": "code",
   "execution_count": 5,
   "id": "lonely-pitch",
   "metadata": {
    "execution": {
     "iopub.execute_input": "2021-03-25T10:19:16.411661Z",
     "iopub.status.busy": "2021-03-25T10:19:16.411045Z",
     "iopub.status.idle": "2021-03-25T10:19:16.414039Z",
     "shell.execute_reply": "2021-03-25T10:19:16.414540Z"
    },
    "jupyter": {
     "source_hidden": true
    },
    "papermill": {
     "duration": 0.019585,
     "end_time": "2021-03-25T10:19:16.414684",
     "exception": false,
     "start_time": "2021-03-25T10:19:16.395099",
     "status": "completed"
    },
    "tags": [
     "hide-input"
    ]
   },
   "outputs": [
    {
     "data": {
      "text/markdown": [
       "# Dunn County has 4340 total positive cases, with 6 new cases reported today."
      ],
      "text/plain": [
       "<IPython.core.display.Markdown object>"
      ]
     },
     "metadata": {},
     "output_type": "display_data"
    }
   ],
   "source": [
    "display(Markdown('# Dunn County has ' + str(dc.iloc[-1]['POSITIVE']) + ' total positive cases, with '+ str(int(dc.iloc[-1]['POS_NEW'])) + ' new cases reported today.'))"
   ]
  },
  {
   "cell_type": "code",
   "execution_count": 6,
   "id": "compound-nightmare",
   "metadata": {
    "execution": {
     "iopub.execute_input": "2021-03-25T10:19:16.441714Z",
     "iopub.status.busy": "2021-03-25T10:19:16.441103Z",
     "iopub.status.idle": "2021-03-25T10:19:16.766220Z",
     "shell.execute_reply": "2021-03-25T10:19:16.766809Z"
    },
    "jupyter": {
     "source_hidden": true
    },
    "papermill": {
     "duration": 0.341112,
     "end_time": "2021-03-25T10:19:16.766981",
     "exception": false,
     "start_time": "2021-03-25T10:19:16.425869",
     "status": "completed"
    },
    "scrolled": false,
    "tags": [
     "hide-input"
    ]
   },
   "outputs": [
    {
     "data": {
      "image/png": "[encoded data removed]",
      "text/plain": [
       "<Figure size 864x432 with 1 Axes>"
      ]
     },
     "metadata": {
      "needs_background": "light"
     },
     "output_type": "display_data"
    }
   ],
   "source": [
    "dc.plot(x='DATE',y='POSITIVE',color='red',grid='True',figsize=(12,6)).set_xlabel('Date');"
   ]
  },
  {
   "cell_type": "markdown",
   "id": "coupled-literacy",
   "metadata": {
    "papermill": {
     "duration": 0.01187,
     "end_time": "2021-03-25T10:19:16.791011",
     "exception": false,
     "start_time": "2021-03-25T10:19:16.779141",
     "status": "completed"
    },
    "tags": []
   },
   "source": [
    "## Figure 1: Cummulative number of positive cases."
   ]
  },
  {
   "cell_type": "code",
   "execution_count": 7,
   "id": "surrounded-reserve",
   "metadata": {
    "execution": {
     "iopub.execute_input": "2021-03-25T10:19:16.820619Z",
     "iopub.status.busy": "2021-03-25T10:19:16.819926Z",
     "iopub.status.idle": "2021-03-25T10:19:17.061072Z",
     "shell.execute_reply": "2021-03-25T10:19:17.061673Z"
    },
    "jupyter": {
     "source_hidden": true
    },
    "papermill": {
     "duration": 0.258076,
     "end_time": "2021-03-25T10:19:17.061864",
     "exception": false,
     "start_time": "2021-03-25T10:19:16.803788",
     "status": "completed"
    },
    "scrolled": false,
    "tags": [
     "hide-input"
    ]
   },
   "outputs": [
    {
     "data": {
      "image/png": "[encoded data removed]",
      "text/plain": [
       "<Figure size 864x432 with 1 Axes>"
      ]
     },
     "metadata": {
      "needs_background": "light"
     },
     "output_type": "display_data"
    }
   ],
   "source": [
    "dc.plot(kind='line',x='DATE',y='7_DAY',color='blue',grid='True',figsize=(12,6)).set_xlabel('Date');"
   ]
  },
  {
   "cell_type": "markdown",
   "id": "professional-savannah",
   "metadata": {
    "papermill": {
     "duration": 0.013216,
     "end_time": "2021-03-25T10:19:17.087982",
     "exception": false,
     "start_time": "2021-03-25T10:19:17.074766",
     "status": "completed"
    },
    "tags": []
   },
   "source": [
    "## Figure 2: Rolling 7-day average of daily new cases."
   ]
  },
  {
   "cell_type": "code",
   "execution_count": 8,
   "id": "stretch-investor",
   "metadata": {
    "execution": {
     "iopub.execute_input": "2021-03-25T10:19:17.122290Z",
     "iopub.status.busy": "2021-03-25T10:19:17.121498Z",
     "iopub.status.idle": "2021-03-25T10:19:17.380936Z",
     "shell.execute_reply": "2021-03-25T10:19:17.381659Z"
    },
    "jupyter": {
     "source_hidden": true
    },
    "papermill": {
     "duration": 0.279438,
     "end_time": "2021-03-25T10:19:17.381865",
     "exception": false,
     "start_time": "2021-03-25T10:19:17.102427",
     "status": "completed"
    },
    "tags": []
   },
   "outputs": [
    {
     "data": {
      "image/png": "[encoded data removed]",
      "text/plain": [
       "<Figure size 864x432 with 1 Axes>"
      ]
     },
     "metadata": {
      "needs_background": "light"
     },
     "output_type": "display_data"
    }
   ],
   "source": [
    "dc.plot(kind='line',x='DATE',y='14_DAY',color='green',grid='True',figsize=(12,6)).set_xlabel('Date');"
   ]
  },
  {
   "cell_type": "markdown",
   "id": "prerequisite-species",
   "metadata": {
    "papermill": {
     "duration": 0.014534,
     "end_time": "2021-03-25T10:19:17.410913",
     "exception": false,
     "start_time": "2021-03-25T10:19:17.396379",
     "status": "completed"
    },
    "tags": []
   },
   "source": [
    "## Figure 3: Rolling 14-day average of daily new cases."
   ]
  },
  {
   "cell_type": "markdown",
   "id": "palestinian-guard",
   "metadata": {
    "papermill": {
     "duration": 0.01389,
     "end_time": "2021-03-25T10:19:17.440005",
     "exception": false,
     "start_time": "2021-03-25T10:19:17.426115",
     "status": "completed"
    },
    "tags": []
   },
   "source": [
    "Data source: [Wisconsin Department of Health Services](https://data.dhsgis.wi.gov/datasets/covid-19-historical-data-table/)"
   ]
  },
  {
   "cell_type": "code",
   "execution_count": 9,
   "id": "proof-medicare",
   "metadata": {
    "execution": {
     "iopub.execute_input": "2021-03-25T10:19:17.472572Z",
     "iopub.status.busy": "2021-03-25T10:19:17.471833Z",
     "iopub.status.idle": "2021-03-25T10:19:17.476438Z",
     "shell.execute_reply": "2021-03-25T10:19:17.475824Z"
    },
    "jupyter": {
     "source_hidden": true
    },
    "papermill": {
     "duration": 0.022567,
     "end_time": "2021-03-25T10:19:17.476563",
     "exception": false,
     "start_time": "2021-03-25T10:19:17.453996",
     "status": "completed"
    },
    "tags": []
   },
   "outputs": [
    {
     "data": {
      "text/html": [
       "<style>\n",
       "div.input {\n",
       "    display:none;\n",
       "}\n",
       "</style>\n"
      ],
      "text/plain": [
       "<IPython.core.display.HTML object>"
      ]
     },
     "metadata": {},
     "output_type": "display_data"
    }
   ],
   "source": [
    "%%html\n",
    "<style>\n",
    "div.input {\n",
    "    display:none;\n",
    "}\n",
    "</style>"
   ]
  }
 ],
 "metadata": {
  "kernelspec": {
   "display_name": "Python 3",
   "language": "python",
   "name": "python3"
  },
  "language_info": {
   "codemirror_mode": {
    "name": "ipython",
    "version": 3
   },
   "file_extension": ".py",
   "mimetype": "text/x-python",
   "name": "python",
   "nbconvert_exporter": "python",
   "pygments_lexer": "ipython3",
   "version": "3.8.8"
  },
  "papermill": {
   "duration": 5.455646,
   "end_time": "2021-03-25T10:19:17.800335",
   "environment_variables": {},
   "exception": null,
   "input_path": "DunnCounty_COVID19.ipynb",
   "output_path": "DunnCounty_COVID19.ipynb",
   "parameters": {
    "Start": "True",
    "secretsPath": "/home/runner/work/_temp/secrets.json"
   },
   "start_time": "2021-03-25T10:19:12.344689",
   "version": "1.1.16"
  }
 },
 "nbformat": 4,
 "nbformat_minor": 5
}