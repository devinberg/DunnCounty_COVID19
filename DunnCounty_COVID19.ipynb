{
 "cells": [
  {
   "cell_type": "code",
   "execution_count": 1,
   "id": "solar-understanding",
   "metadata": {
    "execution": {
     "iopub.execute_input": "2021-04-23T10:17:13.932971Z",
     "iopub.status.busy": "2021-04-23T10:17:13.932346Z",
     "iopub.status.idle": "2021-04-23T10:17:14.919221Z",
     "shell.execute_reply": "2021-04-23T10:17:14.918603Z"
    },
    "jupyter": {
     "source_hidden": true
    },
    "papermill": {
     "duration": 1.007893,
     "end_time": "2021-04-23T10:17:14.919378",
     "exception": false,
     "start_time": "2021-04-23T10:17:13.911485",
     "status": "completed"
    },
    "scrolled": true,
    "tags": [
     "hide-input"
    ]
   },
   "outputs": [],
   "source": [
    "import pandas as pd\n",
    "import matplotlib.pyplot as plt\n",
    "from matplotlib import dates\n",
    "from IPython.display import display, Markdown\n",
    "%matplotlib inline"
   ]
  },
  {
   "cell_type": "code",
   "execution_count": 2,
   "id": "purple-playlist",
   "metadata": {
    "execution": {
     "iopub.execute_input": "2021-04-23T10:17:14.944542Z",
     "iopub.status.busy": "2021-04-23T10:17:14.943984Z",
     "iopub.status.idle": "2021-04-23T10:17:15.955436Z",
     "shell.execute_reply": "2021-04-23T10:17:15.954937Z"
    },
    "jupyter": {
     "source_hidden": true
    },
    "papermill": {
     "duration": 1.026959,
     "end_time": "2021-04-23T10:17:15.955570",
     "exception": false,
     "start_time": "2021-04-23T10:17:14.928611",
     "status": "completed"
    },
    "scrolled": true,
    "tags": [
     "hide-input"
    ]
   },
   "outputs": [],
   "source": [
    "# This is the data for all of Wisconsin.\n",
    "url = \"https://opendata.arcgis.com/datasets/0b7bac0afc464e7783474cb62272d9b8_12.csv\"\n",
    "data = pd.read_csv(url, parse_dates=['DATE'], low_memory=False)"
   ]
  },
  {
   "cell_type": "code",
   "execution_count": 3,
   "id": "proprietary-klein",
   "metadata": {
    "execution": {
     "iopub.execute_input": "2021-04-23T10:17:15.985707Z",
     "iopub.status.busy": "2021-04-23T10:17:15.985140Z",
     "iopub.status.idle": "2021-04-23T10:17:15.997961Z",
     "shell.execute_reply": "2021-04-23T10:17:15.998387Z"
    },
    "jupyter": {
     "source_hidden": true
    },
    "papermill": {
     "duration": 0.033925,
     "end_time": "2021-04-23T10:17:15.998551",
     "exception": false,
     "start_time": "2021-04-23T10:17:15.964626",
     "status": "completed"
    },
    "scrolled": true,
    "tags": [
     "hide-input"
    ]
   },
   "outputs": [],
   "source": [
    "dc = data.groupby('NAME').get_group('Dunn').sort_values(by='DATE') # Select the data for Dunn County from the full data.\n",
    "PNi = dc.columns.get_loc(\"POS_NEW\")\n",
    "dc['7_DAY'] = dc.iloc[:,PNi].rolling(window=7).mean() # Calculates the rolling 7-day average of new cases.\n",
    "dc['14_DAY'] = dc.iloc[:,PNi].rolling(window=14).mean() # Calculates the rolling 14-day average of new cases."
   ]
  },
  {
   "cell_type": "code",
   "execution_count": 4,
   "id": "steady-supervision",
   "metadata": {
    "execution": {
     "iopub.execute_input": "2021-04-23T10:17:16.024420Z",
     "iopub.status.busy": "2021-04-23T10:17:16.023842Z",
     "iopub.status.idle": "2021-04-23T10:17:16.029976Z",
     "shell.execute_reply": "2021-04-23T10:17:16.029229Z"
    },
    "jupyter": {
     "source_hidden": true
    },
    "papermill": {
     "duration": 0.022699,
     "end_time": "2021-04-23T10:17:16.030115",
     "exception": false,
     "start_time": "2021-04-23T10:17:16.007416",
     "status": "completed"
    },
    "scrolled": true,
    "tags": [
     "hide-input"
    ]
   },
   "outputs": [
    {
     "data": {
      "text/markdown": [
       "### Last updated: April 22, 2021"
      ],
      "text/plain": [
       "<IPython.core.display.Markdown object>"
      ]
     },
     "metadata": {},
     "output_type": "display_data"
    }
   ],
   "source": [
    "display(Markdown('### Last updated: ' + dc.iloc[-1]['DATE'].strftime(\"%B %d, %Y\")))"
   ]
  },
  {
   "cell_type": "code",
   "execution_count": 5,
   "id": "lonely-pitch",
   "metadata": {
    "execution": {
     "iopub.execute_input": "2021-04-23T10:17:16.055088Z",
     "iopub.status.busy": "2021-04-23T10:17:16.054534Z",
     "iopub.status.idle": "2021-04-23T10:17:16.056459Z",
     "shell.execute_reply": "2021-04-23T10:17:16.056880Z"
    },
    "jupyter": {
     "source_hidden": true
    },
    "papermill": {
     "duration": 0.017652,
     "end_time": "2021-04-23T10:17:16.057021",
     "exception": false,
     "start_time": "2021-04-23T10:17:16.039369",
     "status": "completed"
    },
    "tags": [
     "hide-input"
    ]
   },
   "outputs": [
    {
     "data": {
      "text/markdown": [
       "# Dunn County has 4575 total positive cases, with 6 new cases reported today."
      ],
      "text/plain": [
       "<IPython.core.display.Markdown object>"
      ]
     },
     "metadata": {},
     "output_type": "display_data"
    }
   ],
   "source": [
    "display(Markdown('# Dunn County has ' + str(dc.iloc[-1]['POSITIVE']) + ' total positive cases, with '+ str(int(dc.iloc[-1]['POS_NEW'])) + ' new cases reported today.'))"
   ]
  },
  {
   "cell_type": "code",
   "execution_count": 6,
   "id": "compound-nightmare",
   "metadata": {
    "execution": {
     "iopub.execute_input": "2021-04-23T10:17:16.081039Z",
     "iopub.status.busy": "2021-04-23T10:17:16.080481Z",
     "iopub.status.idle": "2021-04-23T10:17:16.345691Z",
     "shell.execute_reply": "2021-04-23T10:17:16.346135Z"
    },
    "jupyter": {
     "source_hidden": true
    },
    "papermill": {
     "duration": 0.279439,
     "end_time": "2021-04-23T10:17:16.346292",
     "exception": false,
     "start_time": "2021-04-23T10:17:16.066853",
     "status": "completed"
    },
    "scrolled": false,
    "tags": [
     "hide-input"
    ]
   },
   "outputs": [
    {
     "data": {
      "image/png": "[encoded data removed]",
      "text/plain": [
       "<Figure size 864x432 with 1 Axes>"
      ]
     },
     "metadata": {
      "needs_background": "light"
     },
     "output_type": "display_data"
    }
   ],
   "source": [
    "dc.plot(x='DATE',y='POSITIVE',color='red',grid='True',figsize=(12,6)).set_xlabel('Date');"
   ]
  },
  {
   "cell_type": "markdown",
   "id": "coupled-literacy",
   "metadata": {
    "papermill": {
     "duration": 0.010837,
     "end_time": "2021-04-23T10:17:16.368060",
     "exception": false,
     "start_time": "2021-04-23T10:17:16.357223",
     "status": "completed"
    },
    "tags": []
   },
   "source": [
    "## Figure 1: Cummulative number of positive cases."
   ]
  },
  {
   "cell_type": "code",
   "execution_count": 7,
   "id": "surrounded-reserve",
   "metadata": {
    "execution": {
     "iopub.execute_input": "2021-04-23T10:17:16.397222Z",
     "iopub.status.busy": "2021-04-23T10:17:16.395898Z",
     "iopub.status.idle": "2021-04-23T10:17:16.602224Z",
     "shell.execute_reply": "2021-04-23T10:17:16.601740Z"
    },
    "jupyter": {
     "source_hidden": true
    },
    "papermill": {
     "duration": 0.222021,
     "end_time": "2021-04-23T10:17:16.602354",
     "exception": false,
     "start_time": "2021-04-23T10:17:16.380333",
     "status": "completed"
    },
    "scrolled": false,
    "tags": [
     "hide-input"
    ]
   },
   "outputs": [
    {
     "data": {
      "image/png": "[encoded data removed]",
      "text/plain": [
       "<Figure size 864x432 with 1 Axes>"
      ]
     },
     "metadata": {
      "needs_background": "light"
     },
     "output_type": "display_data"
    }
   ],
   "source": [
    "dc.plot(kind='line',x='DATE',y='7_DAY',color='blue',grid='True',figsize=(12,6)).set_xlabel('Date');"
   ]
  },
  {
   "cell_type": "markdown",
   "id": "professional-savannah",
   "metadata": {
    "papermill": {
     "duration": 0.018053,
     "end_time": "2021-04-23T10:17:16.632203",
     "exception": false,
     "start_time": "2021-04-23T10:17:16.614150",
     "status": "completed"
    },
    "tags": []
   },
   "source": [
    "## Figure 2: Rolling 7-day average of daily new cases."
   ]
  },
  {
   "cell_type": "code",
   "execution_count": 8,
   "id": "stretch-investor",
   "metadata": {
    "execution": {
     "iopub.execute_input": "2021-04-23T10:17:16.661908Z",
     "iopub.status.busy": "2021-04-23T10:17:16.661371Z",
     "iopub.status.idle": "2021-04-23T10:17:16.863966Z",
     "shell.execute_reply": "2021-04-23T10:17:16.864413Z"
    },
    "jupyter": {
     "source_hidden": true
    },
    "papermill": {
     "duration": 0.219439,
     "end_time": "2021-04-23T10:17:16.864574",
     "exception": false,
     "start_time": "2021-04-23T10:17:16.645135",
     "status": "completed"
    },
    "tags": []
   },
   "outputs": [
    {
     "data": {
      "image/png": "[encoded data removed]",
      "text/plain": [
       "<Figure size 864x432 with 1 Axes>"
      ]
     },
     "metadata": {
      "needs_background": "light"
     },
     "output_type": "display_data"
    }
   ],
   "source": [
    "dc.plot(kind='line',x='DATE',y='14_DAY',color='green',grid='True',figsize=(12,6)).set_xlabel('Date');"
   ]
  },
  {
   "cell_type": "markdown",
   "id": "prerequisite-species",
   "metadata": {
    "papermill": {
     "duration": 0.013186,
     "end_time": "2021-04-23T10:17:16.891810",
     "exception": false,
     "start_time": "2021-04-23T10:17:16.878624",
     "status": "completed"
    },
    "tags": []
   },
   "source": [
    "## Figure 3: Rolling 14-day average of daily new cases."
   ]
  },
  {
   "cell_type": "markdown",
   "id": "palestinian-guard",
   "metadata": {
    "papermill": {
     "duration": 0.012649,
     "end_time": "2021-04-23T10:17:16.917400",
     "exception": false,
     "start_time": "2021-04-23T10:17:16.904751",
     "status": "completed"
    },
    "tags": []
   },
   "source": [
    "Data source: [Wisconsin Department of Health Services](https://data.dhsgis.wi.gov/datasets/covid-19-historical-data-by-county)"
   ]
  },
  {
   "cell_type": "code",
   "execution_count": 9,
   "id": "proof-medicare",
   "metadata": {
    "execution": {
     "iopub.execute_input": "2021-04-23T10:17:16.949347Z",
     "iopub.status.busy": "2021-04-23T10:17:16.948142Z",
     "iopub.status.idle": "2021-04-23T10:17:16.952797Z",
     "shell.execute_reply": "2021-04-23T10:17:16.952246Z"
    },
    "jupyter": {
     "source_hidden": true
    },
    "papermill": {
     "duration": 0.02268,
     "end_time": "2021-04-23T10:17:16.952916",
     "exception": false,
     "start_time": "2021-04-23T10:17:16.930236",
     "status": "completed"
    },
    "tags": []
   },
   "outputs": [
    {
     "data": {
      "text/html": [
       "<style>\n",
       "div.input {\n",
       "    display:none;\n",
       "}\n",
       "</style>\n"
      ],
      "text/plain": [
       "<IPython.core.display.HTML object>"
      ]
     },
     "metadata": {},
     "output_type": "display_data"
    }
   ],
   "source": [
    "%%html\n",
    "<style>\n",
    "div.input {\n",
    "    display:none;\n",
    "}\n",
    "</style>"
   ]
  }
 ],
 "metadata": {
  "kernelspec": {
   "display_name": "Python 3",
   "language": "python",
   "name": "python3"
  },
  "language_info": {
   "codemirror_mode": {
    "name": "ipython",
    "version": 3
   },
   "file_extension": ".py",
   "mimetype": "text/x-python",
   "name": "python",
   "nbconvert_exporter": "python",
   "pygments_lexer": "ipython3",
   "version": "3.8.9"
  },
  "papermill": {
   "duration": 4.647926,
   "end_time": "2021-04-23T10:17:17.276462",
   "environment_variables": {},
   "exception": null,
   "input_path": "DunnCounty_COVID19.ipynb",
   "output_path": "DunnCounty_COVID19.ipynb",
   "parameters": {
    "Start": "True",
    "secretsPath": "/home/runner/work/_temp/secrets.json"
   },
   "start_time": "2021-04-23T10:17:12.628536",
   "version": "1.1.16"
  }
 },
 "nbformat": 4,
 "nbformat_minor": 5
}