{
 "cells": [
  {
   "cell_type": "code",
   "execution_count": 1,
   "id": "solar-understanding",
   "metadata": {
    "execution": {
     "iopub.execute_input": "2021-03-31T10:16:42.091287Z",
     "iopub.status.busy": "2021-03-31T10:16:42.090711Z",
     "iopub.status.idle": "2021-03-31T10:16:44.669056Z",
     "shell.execute_reply": "2021-03-31T10:16:44.669547Z"
    },
    "jupyter": {
     "source_hidden": true
    },
    "papermill": {
     "duration": 2.603314,
     "end_time": "2021-03-31T10:16:44.669807",
     "exception": false,
     "start_time": "2021-03-31T10:16:42.066493",
     "status": "completed"
    },
    "scrolled": true,
    "tags": [
     "hide-input"
    ]
   },
   "outputs": [],
   "source": [
    "import pandas as pd\n",
    "import matplotlib.pyplot as plt\n",
    "from matplotlib import dates\n",
    "from IPython.display import display, Markdown\n",
    "%matplotlib inline"
   ]
  },
  {
   "cell_type": "code",
   "execution_count": 2,
   "id": "purple-playlist",
   "metadata": {
    "execution": {
     "iopub.execute_input": "2021-03-31T10:16:44.694605Z",
     "iopub.status.busy": "2021-03-31T10:16:44.694007Z",
     "iopub.status.idle": "2021-03-31T10:16:45.414374Z",
     "shell.execute_reply": "2021-03-31T10:16:45.413195Z"
    },
    "jupyter": {
     "source_hidden": true
    },
    "papermill": {
     "duration": 0.73507,
     "end_time": "2021-03-31T10:16:45.414524",
     "exception": false,
     "start_time": "2021-03-31T10:16:44.679454",
     "status": "completed"
    },
    "scrolled": true,
    "tags": [
     "hide-input"
    ]
   },
   "outputs": [],
   "source": [
    "# This is the data for all of Wisconsin.\n",
    "url = \"https://opendata.arcgis.com/datasets/5374188992374b318d3e2305216ee413_12.csv\"\n",
    "data = pd.read_csv(url, parse_dates=['DATE'], low_memory=False)"
   ]
  },
  {
   "cell_type": "code",
   "execution_count": 3,
   "id": "proprietary-klein",
   "metadata": {
    "execution": {
     "iopub.execute_input": "2021-03-31T10:16:45.439584Z",
     "iopub.status.busy": "2021-03-31T10:16:45.439018Z",
     "iopub.status.idle": "2021-03-31T10:16:45.448259Z",
     "shell.execute_reply": "2021-03-31T10:16:45.447711Z"
    },
    "jupyter": {
     "source_hidden": true
    },
    "papermill": {
     "duration": 0.024572,
     "end_time": "2021-03-31T10:16:45.448384",
     "exception": false,
     "start_time": "2021-03-31T10:16:45.423812",
     "status": "completed"
    },
    "scrolled": true,
    "tags": [
     "hide-input"
    ]
   },
   "outputs": [],
   "source": [
    "dc = data.groupby('NAME').get_group('Dunn').sort_values(by='DATE') # Select the data for Dunn County from the full data.\n",
    "PNi = dc.columns.get_loc(\"POS_NEW\")\n",
    "dc['7_DAY'] = dc.iloc[:,PNi].rolling(window=7).mean() # Calculates the rolling 7-day average of new cases.\n",
    "dc['14_DAY'] = dc.iloc[:,PNi].rolling(window=14).mean() # Calculates the rolling 14-day average of new cases."
   ]
  },
  {
   "cell_type": "code",
   "execution_count": 4,
   "id": "steady-supervision",
   "metadata": {
    "execution": {
     "iopub.execute_input": "2021-03-31T10:16:45.472884Z",
     "iopub.status.busy": "2021-03-31T10:16:45.472329Z",
     "iopub.status.idle": "2021-03-31T10:16:45.475521Z",
     "shell.execute_reply": "2021-03-31T10:16:45.475070Z"
    },
    "jupyter": {
     "source_hidden": true
    },
    "papermill": {
     "duration": 0.018205,
     "end_time": "2021-03-31T10:16:45.475639",
     "exception": false,
     "start_time": "2021-03-31T10:16:45.457434",
     "status": "completed"
    },
    "scrolled": true,
    "tags": [
     "hide-input"
    ]
   },
   "outputs": [
    {
     "data": {
      "text/markdown": [
       "### Last updated: March 30, 2021"
      ],
      "text/plain": [
       "<IPython.core.display.Markdown object>"
      ]
     },
     "metadata": {},
     "output_type": "display_data"
    }
   ],
   "source": [
    "display(Markdown('### Last updated: ' + dc.iloc[-1]['DATE'].strftime(\"%B %d, %Y\")))"
   ]
  },
  {
   "cell_type": "code",
   "execution_count": 5,
   "id": "lonely-pitch",
   "metadata": {
    "execution": {
     "iopub.execute_input": "2021-03-31T10:16:45.499756Z",
     "iopub.status.busy": "2021-03-31T10:16:45.499211Z",
     "iopub.status.idle": "2021-03-31T10:16:45.502853Z",
     "shell.execute_reply": "2021-03-31T10:16:45.502370Z"
    },
    "jupyter": {
     "source_hidden": true
    },
    "papermill": {
     "duration": 0.018058,
     "end_time": "2021-03-31T10:16:45.502964",
     "exception": false,
     "start_time": "2021-03-31T10:16:45.484906",
     "status": "completed"
    },
    "tags": [
     "hide-input"
    ]
   },
   "outputs": [
    {
     "data": {
      "text/markdown": [
       "# Dunn County has 4383 total positive cases, with 9 new cases reported today."
      ],
      "text/plain": [
       "<IPython.core.display.Markdown object>"
      ]
     },
     "metadata": {},
     "output_type": "display_data"
    }
   ],
   "source": [
    "display(Markdown('# Dunn County has ' + str(dc.iloc[-1]['POSITIVE']) + ' total positive cases, with '+ str(int(dc.iloc[-1]['POS_NEW'])) + ' new cases reported today.'))"
   ]
  },
  {
   "cell_type": "code",
   "execution_count": 6,
   "id": "compound-nightmare",
   "metadata": {
    "execution": {
     "iopub.execute_input": "2021-03-31T10:16:45.527230Z",
     "iopub.status.busy": "2021-03-31T10:16:45.526683Z",
     "iopub.status.idle": "2021-03-31T10:16:45.782958Z",
     "shell.execute_reply": "2021-03-31T10:16:45.783728Z"
    },
    "jupyter": {
     "source_hidden": true
    },
    "papermill": {
     "duration": 0.271245,
     "end_time": "2021-03-31T10:16:45.783967",
     "exception": false,
     "start_time": "2021-03-31T10:16:45.512722",
     "status": "completed"
    },
    "scrolled": false,
    "tags": [
     "hide-input"
    ]
   },
   "outputs": [
    {
     "data": {
      "image/png": "[encoded data removed]",
      "text/plain": [
       "<Figure size 864x432 with 1 Axes>"
      ]
     },
     "metadata": {
      "needs_background": "light"
     },
     "output_type": "display_data"
    }
   ],
   "source": [
    "dc.plot(x='DATE',y='POSITIVE',color='red',grid='True',figsize=(12,6)).set_xlabel('Date');"
   ]
  },
  {
   "cell_type": "markdown",
   "id": "coupled-literacy",
   "metadata": {
    "papermill": {
     "duration": 0.011139,
     "end_time": "2021-03-31T10:16:45.806228",
     "exception": false,
     "start_time": "2021-03-31T10:16:45.795089",
     "status": "completed"
    },
    "tags": []
   },
   "source": [
    "## Figure 1: Cummulative number of positive cases."
   ]
  },
  {
   "cell_type": "code",
   "execution_count": 7,
   "id": "surrounded-reserve",
   "metadata": {
    "execution": {
     "iopub.execute_input": "2021-03-31T10:16:45.832978Z",
     "iopub.status.busy": "2021-03-31T10:16:45.832436Z",
     "iopub.status.idle": "2021-03-31T10:16:46.026263Z",
     "shell.execute_reply": "2021-03-31T10:16:46.027032Z"
    },
    "jupyter": {
     "source_hidden": true
    },
    "papermill": {
     "duration": 0.210399,
     "end_time": "2021-03-31T10:16:46.027192",
     "exception": false,
     "start_time": "2021-03-31T10:16:45.816793",
     "status": "completed"
    },
    "scrolled": false,
    "tags": [
     "hide-input"
    ]
   },
   "outputs": [
    {
     "data": {
      "image/png": "[encoded data removed]",
      "text/plain": [
       "<Figure size 864x432 with 1 Axes>"
      ]
     },
     "metadata": {
      "needs_background": "light"
     },
     "output_type": "display_data"
    }
   ],
   "source": [
    "dc.plot(kind='line',x='DATE',y='7_DAY',color='blue',grid='True',figsize=(12,6)).set_xlabel('Date');"
   ]
  },
  {
   "cell_type": "markdown",
   "id": "professional-savannah",
   "metadata": {
    "papermill": {
     "duration": 0.013001,
     "end_time": "2021-03-31T10:16:46.053296",
     "exception": false,
     "start_time": "2021-03-31T10:16:46.040295",
     "status": "completed"
    },
    "tags": []
   },
   "source": [
    "## Figure 2: Rolling 7-day average of daily new cases."
   ]
  },
  {
   "cell_type": "code",
   "execution_count": 8,
   "id": "stretch-investor",
   "metadata": {
    "execution": {
     "iopub.execute_input": "2021-03-31T10:16:46.082815Z",
     "iopub.status.busy": "2021-03-31T10:16:46.082260Z",
     "iopub.status.idle": "2021-03-31T10:16:46.275086Z",
     "shell.execute_reply": "2021-03-31T10:16:46.275792Z"
    },
    "jupyter": {
     "source_hidden": true
    },
    "papermill": {
     "duration": 0.211087,
     "end_time": "2021-03-31T10:16:46.276019",
     "exception": false,
     "start_time": "2021-03-31T10:16:46.064932",
     "status": "completed"
    },
    "tags": []
   },
   "outputs": [
    {
     "data": {
      "image/png": "[encoded data removed]",
      "text/plain": [
       "<Figure size 864x432 with 1 Axes>"
      ]
     },
     "metadata": {
      "needs_background": "light"
     },
     "output_type": "display_data"
    }
   ],
   "source": [
    "dc.plot(kind='line',x='DATE',y='14_DAY',color='green',grid='True',figsize=(12,6)).set_xlabel('Date');"
   ]
  },
  {
   "cell_type": "markdown",
   "id": "prerequisite-species",
   "metadata": {
    "papermill": {
     "duration": 0.014663,
     "end_time": "2021-03-31T10:16:46.305823",
     "exception": false,
     "start_time": "2021-03-31T10:16:46.291160",
     "status": "completed"
    },
    "tags": []
   },
   "source": [
    "## Figure 3: Rolling 14-day average of daily new cases."
   ]
  },
  {
   "cell_type": "markdown",
   "id": "palestinian-guard",
   "metadata": {
    "papermill": {
     "duration": 0.012808,
     "end_time": "2021-03-31T10:16:46.331913",
     "exception": false,
     "start_time": "2021-03-31T10:16:46.319105",
     "status": "completed"
    },
    "tags": []
   },
   "source": [
    "Data source: [Wisconsin Department of Health Services](https://data.dhsgis.wi.gov/datasets/covid-19-historical-data-table/)"
   ]
  },
  {
   "cell_type": "code",
   "execution_count": 9,
   "id": "proof-medicare",
   "metadata": {
    "execution": {
     "iopub.execute_input": "2021-03-31T10:16:46.362321Z",
     "iopub.status.busy": "2021-03-31T10:16:46.361745Z",
     "iopub.status.idle": "2021-03-31T10:16:46.365418Z",
     "shell.execute_reply": "2021-03-31T10:16:46.364940Z"
    },
    "jupyter": {
     "source_hidden": true
    },
    "papermill": {
     "duration": 0.020699,
     "end_time": "2021-03-31T10:16:46.365532",
     "exception": false,
     "start_time": "2021-03-31T10:16:46.344833",
     "status": "completed"
    },
    "tags": []
   },
   "outputs": [
    {
     "data": {
      "text/html": [
       "<style>\n",
       "div.input {\n",
       "    display:none;\n",
       "}\n",
       "</style>\n"
      ],
      "text/plain": [
       "<IPython.core.display.HTML object>"
      ]
     },
     "metadata": {},
     "output_type": "display_data"
    }
   ],
   "source": [
    "%%html\n",
    "<style>\n",
    "div.input {\n",
    "    display:none;\n",
    "}\n",
    "</style>"
   ]
  }
 ],
 "metadata": {
  "kernelspec": {
   "display_name": "Python 3",
   "language": "python",
   "name": "python3"
  },
  "language_info": {
   "codemirror_mode": {
    "name": "ipython",
    "version": 3
   },
   "file_extension": ".py",
   "mimetype": "text/x-python",
   "name": "python",
   "nbconvert_exporter": "python",
   "pygments_lexer": "ipython3",
   "version": "3.8.8"
  },
  "papermill": {
   "duration": 6.280216,
   "end_time": "2021-03-31T10:16:46.685084",
   "environment_variables": {},
   "exception": null,
   "input_path": "DunnCounty_COVID19.ipynb",
   "output_path": "DunnCounty_COVID19.ipynb",
   "parameters": {
    "Start": "True",
    "secretsPath": "/home/runner/work/_temp/secrets.json"
   },
   "start_time": "2021-03-31T10:16:40.404868",
   "version": "1.1.16"
  }
 },
 "nbformat": 4,
 "nbformat_minor": 5
}