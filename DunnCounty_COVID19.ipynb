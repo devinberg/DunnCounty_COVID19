{
 "cells": [
  {
   "cell_type": "code",
   "execution_count": 1,
   "metadata": {
    "execution": {
     "iopub.execute_input": "2020-09-20T22:09:47.088872Z",
     "iopub.status.busy": "2020-09-20T22:09:47.088318Z",
     "iopub.status.idle": "2020-09-20T22:09:50.371683Z",
     "shell.execute_reply": "2020-09-20T22:09:50.370726Z"
    },
    "jupyter": {
     "source_hidden": true
    },
    "papermill": {
     "duration": 3.297001,
     "end_time": "2020-09-20T22:09:50.372014",
     "exception": false,
     "start_time": "2020-09-20T22:09:47.075013",
     "status": "completed"
    },
    "scrolled": true,
    "tags": [
     "hide-input"
    ]
   },
   "outputs": [],
   "source": [
    "import pandas as pd\n",
    "import matplotlib.pyplot as plt\n",
    "from matplotlib import dates\n",
    "from IPython.display import display, Markdown\n",
    "%matplotlib inline"
   ]
  },
  {
   "cell_type": "code",
   "execution_count": 2,
   "metadata": {
    "execution": {
     "iopub.execute_input": "2020-09-20T22:09:50.393584Z",
     "iopub.status.busy": "2020-09-20T22:09:50.393020Z",
     "iopub.status.idle": "2020-09-20T22:09:53.367636Z",
     "shell.execute_reply": "2020-09-20T22:09:53.367111Z"
    },
    "jupyter": {
     "source_hidden": true
    },
    "papermill": {
     "duration": 2.988263,
     "end_time": "2020-09-20T22:09:53.367789",
     "exception": false,
     "start_time": "2020-09-20T22:09:50.379526",
     "status": "completed"
    },
    "scrolled": true,
    "tags": [
     "hide-input"
    ]
   },
   "outputs": [],
   "source": [
    "# This is the data for all of Wisconsin.\n",
    "url = \"https://opendata.arcgis.com/datasets/b913e9591eae4912b33dc5b4e88646c5_10.csv\"\n",
    "data = pd.read_csv(url, parse_dates=['DATE'], low_memory=False)"
   ]
  },
  {
   "cell_type": "code",
   "execution_count": 3,
   "metadata": {
    "execution": {
     "iopub.execute_input": "2020-09-20T22:09:53.399000Z",
     "iopub.status.busy": "2020-09-20T22:09:53.398400Z",
     "iopub.status.idle": "2020-09-20T22:09:53.407844Z",
     "shell.execute_reply": "2020-09-20T22:09:53.408292Z"
    },
    "jupyter": {
     "source_hidden": true
    },
    "papermill": {
     "duration": 0.033357,
     "end_time": "2020-09-20T22:09:53.408458",
     "exception": false,
     "start_time": "2020-09-20T22:09:53.375101",
     "status": "completed"
    },
    "scrolled": true,
    "tags": [
     "hide-input"
    ]
   },
   "outputs": [],
   "source": [
    "dc = data.groupby('NAME').get_group('Dunn').sort_values(by='DATE') # Select the data for Dunn County from the full data.\n",
    "PNi = dc.columns.get_loc(\"POS_NEW\")\n",
    "dc['7_DAY'] = dc.iloc[:,PNi].rolling(window=7).mean() # Calculates the rolling 7-day average of new cases.\n",
    "dc['14_DAY'] = dc.iloc[:,PNi].rolling(window=14).mean() # Calculates the rolling 14-day average of new cases."
   ]
  },
  {
   "cell_type": "code",
   "execution_count": 4,
   "metadata": {
    "execution": {
     "iopub.execute_input": "2020-09-20T22:09:53.429454Z",
     "iopub.status.busy": "2020-09-20T22:09:53.428843Z",
     "iopub.status.idle": "2020-09-20T22:09:53.431855Z",
     "shell.execute_reply": "2020-09-20T22:09:53.432369Z"
    },
    "jupyter": {
     "source_hidden": true
    },
    "papermill": {
     "duration": 0.017045,
     "end_time": "2020-09-20T22:09:53.432515",
     "exception": false,
     "start_time": "2020-09-20T22:09:53.415470",
     "status": "completed"
    },
    "scrolled": true,
    "tags": [
     "hide-input"
    ]
   },
   "outputs": [
    {
     "data": {
      "text/markdown": [
       "### Last updated: September 20, 2020"
      ],
      "text/plain": [
       "<IPython.core.display.Markdown object>"
      ]
     },
     "metadata": {},
     "output_type": "display_data"
    }
   ],
   "source": [
    "display(Markdown('### Last updated: ' + dc.iloc[-1]['DATE'].strftime(\"%B %d, %Y\")))"
   ]
  },
  {
   "cell_type": "code",
   "execution_count": 5,
   "metadata": {
    "execution": {
     "iopub.execute_input": "2020-09-20T22:09:53.451864Z",
     "iopub.status.busy": "2020-09-20T22:09:53.451328Z",
     "iopub.status.idle": "2020-09-20T22:09:53.455000Z",
     "shell.execute_reply": "2020-09-20T22:09:53.454541Z"
    },
    "jupyter": {
     "source_hidden": true
    },
    "papermill": {
     "duration": 0.015079,
     "end_time": "2020-09-20T22:09:53.455121",
     "exception": false,
     "start_time": "2020-09-20T22:09:53.440042",
     "status": "completed"
    },
    "tags": [
     "hide-input"
    ]
   },
   "outputs": [
    {
     "data": {
      "text/markdown": [
       "# Dunn County has 377 total positive cases, with 26 new cases reported today."
      ],
      "text/plain": [
       "<IPython.core.display.Markdown object>"
      ]
     },
     "metadata": {},
     "output_type": "display_data"
    }
   ],
   "source": [
    "display(Markdown('# Dunn County has ' + str(dc.iloc[-1]['POSITIVE']) + ' total positive cases, with '+ str(int(dc.iloc[-1]['POS_NEW'])) + ' new cases reported today.'))"
   ]
  },
  {
   "cell_type": "code",
   "execution_count": 6,
   "metadata": {
    "execution": {
     "iopub.execute_input": "2020-09-20T22:09:53.475155Z",
     "iopub.status.busy": "2020-09-20T22:09:53.474625Z",
     "iopub.status.idle": "2020-09-20T22:09:53.690431Z",
     "shell.execute_reply": "2020-09-20T22:09:53.690845Z"
    },
    "jupyter": {
     "source_hidden": true
    },
    "papermill": {
     "duration": 0.22813,
     "end_time": "2020-09-20T22:09:53.691012",
     "exception": false,
     "start_time": "2020-09-20T22:09:53.462882",
     "status": "completed"
    },
    "scrolled": false,
    "tags": [
     "hide-input"
    ]
   },
   "outputs": [
    {
     "data": {
      "image/png": "[encoded data removed]",
      "text/plain": [
       "<Figure size 864x432 with 1 Axes>"
      ]
     },
     "metadata": {
      "needs_background": "light"
     },
     "output_type": "display_data"
    }
   ],
   "source": [
    "dc.plot(x='DATE',y='POSITIVE',color='red',grid='True',figsize=(12,6)).set_xlabel('Date');"
   ]
  },
  {
   "cell_type": "markdown",
   "metadata": {
    "papermill": {
     "duration": 0.008608,
     "end_time": "2020-09-20T22:09:53.708624",
     "exception": false,
     "start_time": "2020-09-20T22:09:53.700016",
     "status": "completed"
    },
    "tags": []
   },
   "source": [
    "## Figure 1: Cummulative number of positive cases."
   ]
  },
  {
   "cell_type": "code",
   "execution_count": 7,
   "metadata": {
    "execution": {
     "iopub.execute_input": "2020-09-20T22:09:53.730484Z",
     "iopub.status.busy": "2020-09-20T22:09:53.729944Z",
     "iopub.status.idle": "2020-09-20T22:09:53.952730Z",
     "shell.execute_reply": "2020-09-20T22:09:53.952246Z"
    },
    "jupyter": {
     "source_hidden": true
    },
    "papermill": {
     "duration": 0.235642,
     "end_time": "2020-09-20T22:09:53.952862",
     "exception": false,
     "start_time": "2020-09-20T22:09:53.717220",
     "status": "completed"
    },
    "scrolled": false,
    "tags": [
     "hide-input"
    ]
   },
   "outputs": [
    {
     "data": {
      "image/png": "[encoded data removed]",
      "text/plain": [
       "<Figure size 864x432 with 1 Axes>"
      ]
     },
     "metadata": {
      "needs_background": "light"
     },
     "output_type": "display_data"
    }
   ],
   "source": [
    "dc.plot(kind='line',x='DATE',y='7_DAY',color='blue',grid='True',figsize=(12,6)).set_xlabel('Date');"
   ]
  },
  {
   "cell_type": "markdown",
   "metadata": {
    "papermill": {
     "duration": 0.009839,
     "end_time": "2020-09-20T22:09:53.972491",
     "exception": false,
     "start_time": "2020-09-20T22:09:53.962652",
     "status": "completed"
    },
    "tags": []
   },
   "source": [
    "## Figure 2: Rolling 7-day average of daily new cases."
   ]
  },
  {
   "cell_type": "code",
   "execution_count": 8,
   "metadata": {
    "execution": {
     "iopub.execute_input": "2020-09-20T22:09:53.997782Z",
     "iopub.status.busy": "2020-09-20T22:09:53.997241Z",
     "iopub.status.idle": "2020-09-20T22:09:54.199429Z",
     "shell.execute_reply": "2020-09-20T22:09:54.198637Z"
    },
    "jupyter": {
     "source_hidden": true
    },
    "papermill": {
     "duration": 0.217742,
     "end_time": "2020-09-20T22:09:54.199628",
     "exception": false,
     "start_time": "2020-09-20T22:09:53.981886",
     "status": "completed"
    },
    "tags": []
   },
   "outputs": [
    {
     "data": {
      "image/png": "[encoded data removed]",
      "text/plain": [
       "<Figure size 864x432 with 1 Axes>"
      ]
     },
     "metadata": {
      "needs_background": "light"
     },
     "output_type": "display_data"
    }
   ],
   "source": [
    "dc.plot(kind='line',x='DATE',y='14_DAY',color='green',grid='True',figsize=(12,6)).set_xlabel('Date');"
   ]
  },
  {
   "cell_type": "markdown",
   "metadata": {
    "papermill": {
     "duration": 0.010765,
     "end_time": "2020-09-20T22:09:54.222158",
     "exception": false,
     "start_time": "2020-09-20T22:09:54.211393",
     "status": "completed"
    },
    "tags": []
   },
   "source": [
    "## Figure 3: Rolling 14-day average of daily new cases."
   ]
  },
  {
   "cell_type": "markdown",
   "metadata": {
    "papermill": {
     "duration": 0.010221,
     "end_time": "2020-09-20T22:09:54.242819",
     "exception": false,
     "start_time": "2020-09-20T22:09:54.232598",
     "status": "completed"
    },
    "tags": []
   },
   "source": [
    "Data source: [Wisconsin Department of Health Services](https://data.dhsgis.wi.gov/datasets/covid-19-historical-data-table/)"
   ]
  },
  {
   "cell_type": "code",
   "execution_count": 9,
   "metadata": {
    "execution": {
     "iopub.execute_input": "2020-09-20T22:09:54.270857Z",
     "iopub.status.busy": "2020-09-20T22:09:54.269896Z",
     "iopub.status.idle": "2020-09-20T22:09:54.273413Z",
     "shell.execute_reply": "2020-09-20T22:09:54.273868Z"
    },
    "jupyter": {
     "source_hidden": true
    },
    "papermill": {
     "duration": 0.020835,
     "end_time": "2020-09-20T22:09:54.274018",
     "exception": false,
     "start_time": "2020-09-20T22:09:54.253183",
     "status": "completed"
    },
    "tags": []
   },
   "outputs": [
    {
     "data": {
      "text/html": [
       "<style>\n",
       "div.input {\n",
       "    display:none;\n",
       "}\n",
       "</style>\n"
      ],
      "text/plain": [
       "<IPython.core.display.HTML object>"
      ]
     },
     "metadata": {},
     "output_type": "display_data"
    }
   ],
   "source": [
    "%%html\n",
    "<style>\n",
    "div.input {\n",
    "    display:none;\n",
    "}\n",
    "</style>"
   ]
  }
 ],
 "metadata": {
  "kernelspec": {
   "display_name": "Python 3",
   "language": "python",
   "name": "python3"
  },
  "language_info": {
   "codemirror_mode": {
    "name": "ipython",
    "version": 3
   },
   "file_extension": ".py",
   "mimetype": "text/x-python",
   "name": "python",
   "nbconvert_exporter": "python",
   "pygments_lexer": "ipython3",
   "version": "3.8.5"
  },
  "papermill": {
   "duration": 9.412357,
   "end_time": "2020-09-20T22:09:54.694453",
   "environment_variables": {},
   "exception": null,
   "input_path": "DunnCounty_COVID19.ipynb",
   "output_path": "DunnCounty_COVID19.ipynb",
   "parameters": {
    "Start": "True",
    "secretsPath": "/home/runner/work/_temp/secrets.json"
   },
   "start_time": "2020-09-20T22:09:45.282096",
   "version": "1.1.16"
  }
 },
 "nbformat": 4,
 "nbformat_minor": 2
}