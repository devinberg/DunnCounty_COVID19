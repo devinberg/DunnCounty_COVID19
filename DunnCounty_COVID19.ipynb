{
 "cells": [
  {
   "cell_type": "code",
   "execution_count": 1,
   "metadata": {
    "execution": {
     "iopub.execute_input": "2020-09-17T22:09:29.442743Z",
     "iopub.status.busy": "2020-09-17T22:09:29.442170Z",
     "iopub.status.idle": "2020-09-17T22:09:32.732182Z",
     "shell.execute_reply": "2020-09-17T22:09:32.732635Z"
    },
    "jupyter": {
     "source_hidden": true
    },
    "papermill": {
     "duration": 3.305297,
     "end_time": "2020-09-17T22:09:32.732907",
     "exception": false,
     "start_time": "2020-09-17T22:09:29.427610",
     "status": "completed"
    },
    "scrolled": true,
    "tags": [
     "hide-input"
    ]
   },
   "outputs": [],
   "source": [
    "import pandas as pd\n",
    "import matplotlib.pyplot as plt\n",
    "from matplotlib import dates\n",
    "from IPython.display import display, Markdown\n",
    "%matplotlib inline"
   ]
  },
  {
   "cell_type": "code",
   "execution_count": 2,
   "metadata": {
    "execution": {
     "iopub.execute_input": "2020-09-17T22:09:32.752340Z",
     "iopub.status.busy": "2020-09-17T22:09:32.751820Z",
     "iopub.status.idle": "2020-09-17T22:09:36.202779Z",
     "shell.execute_reply": "2020-09-17T22:09:36.202293Z"
    },
    "jupyter": {
     "source_hidden": true
    },
    "papermill": {
     "duration": 3.462612,
     "end_time": "2020-09-17T22:09:36.202918",
     "exception": false,
     "start_time": "2020-09-17T22:09:32.740306",
     "status": "completed"
    },
    "scrolled": true,
    "tags": [
     "hide-input"
    ]
   },
   "outputs": [],
   "source": [
    "# This is the data for all of Wisconsin.\n",
    "url = \"https://opendata.arcgis.com/datasets/b913e9591eae4912b33dc5b4e88646c5_10.csv\"\n",
    "data = pd.read_csv(url, parse_dates=['DATE'], low_memory=False)"
   ]
  },
  {
   "cell_type": "code",
   "execution_count": 3,
   "metadata": {
    "execution": {
     "iopub.execute_input": "2020-09-17T22:09:36.231419Z",
     "iopub.status.busy": "2020-09-17T22:09:36.230906Z",
     "iopub.status.idle": "2020-09-17T22:09:36.240307Z",
     "shell.execute_reply": "2020-09-17T22:09:36.239827Z"
    },
    "jupyter": {
     "source_hidden": true
    },
    "papermill": {
     "duration": 0.028962,
     "end_time": "2020-09-17T22:09:36.240424",
     "exception": false,
     "start_time": "2020-09-17T22:09:36.211462",
     "status": "completed"
    },
    "scrolled": true,
    "tags": [
     "hide-input"
    ]
   },
   "outputs": [],
   "source": [
    "dc = data.groupby('NAME').get_group('Dunn').sort_values(by='DATE') # Select the data for Dunn County from the full data.\n",
    "PNi = dc.columns.get_loc(\"POS_NEW\")\n",
    "dc['7_DAY'] = dc.iloc[:,PNi].rolling(window=7).mean() # Calculates the rolling 7-day average of new cases.\n",
    "dc['14_DAY'] = dc.iloc[:,PNi].rolling(window=14).mean() # Calculates the rolling 14-day average of new cases."
   ]
  },
  {
   "cell_type": "code",
   "execution_count": 4,
   "metadata": {
    "execution": {
     "iopub.execute_input": "2020-09-17T22:09:36.259608Z",
     "iopub.status.busy": "2020-09-17T22:09:36.259103Z",
     "iopub.status.idle": "2020-09-17T22:09:36.262858Z",
     "shell.execute_reply": "2020-09-17T22:09:36.263260Z"
    },
    "jupyter": {
     "source_hidden": true
    },
    "papermill": {
     "duration": 0.016465,
     "end_time": "2020-09-17T22:09:36.263402",
     "exception": false,
     "start_time": "2020-09-17T22:09:36.246937",
     "status": "completed"
    },
    "scrolled": true,
    "tags": [
     "hide-input"
    ]
   },
   "outputs": [
    {
     "data": {
      "text/markdown": [
       "### Last updated: September 17, 2020"
      ],
      "text/plain": [
       "<IPython.core.display.Markdown object>"
      ]
     },
     "metadata": {},
     "output_type": "display_data"
    }
   ],
   "source": [
    "display(Markdown('### Last updated: ' + dc.iloc[-1]['DATE'].strftime(\"%B %d, %Y\")))"
   ]
  },
  {
   "cell_type": "code",
   "execution_count": 5,
   "metadata": {
    "execution": {
     "iopub.execute_input": "2020-09-17T22:09:36.281947Z",
     "iopub.status.busy": "2020-09-17T22:09:36.281395Z",
     "iopub.status.idle": "2020-09-17T22:09:36.284620Z",
     "shell.execute_reply": "2020-09-17T22:09:36.285023Z"
    },
    "jupyter": {
     "source_hidden": true
    },
    "papermill": {
     "duration": 0.014781,
     "end_time": "2020-09-17T22:09:36.285158",
     "exception": false,
     "start_time": "2020-09-17T22:09:36.270377",
     "status": "completed"
    },
    "tags": [
     "hide-input"
    ]
   },
   "outputs": [
    {
     "data": {
      "text/markdown": [
       "# Dunn County has 289 total positive cases, with 24 new cases reported today."
      ],
      "text/plain": [
       "<IPython.core.display.Markdown object>"
      ]
     },
     "metadata": {},
     "output_type": "display_data"
    }
   ],
   "source": [
    "display(Markdown('# Dunn County has ' + str(dc.iloc[-1]['POSITIVE']) + ' total positive cases, with '+ str(int(dc.iloc[-1]['POS_NEW'])) + ' new cases reported today.'))"
   ]
  },
  {
   "cell_type": "code",
   "execution_count": 6,
   "metadata": {
    "execution": {
     "iopub.execute_input": "2020-09-17T22:09:36.302589Z",
     "iopub.status.busy": "2020-09-17T22:09:36.302099Z",
     "iopub.status.idle": "2020-09-17T22:09:36.497803Z",
     "shell.execute_reply": "2020-09-17T22:09:36.498220Z"
    },
    "jupyter": {
     "source_hidden": true
    },
    "papermill": {
     "duration": 0.206342,
     "end_time": "2020-09-17T22:09:36.498376",
     "exception": false,
     "start_time": "2020-09-17T22:09:36.292034",
     "status": "completed"
    },
    "scrolled": false,
    "tags": [
     "hide-input"
    ]
   },
   "outputs": [
    {
     "data": {
      "image/png": "[encoded data removed]",
      "text/plain": [
       "<Figure size 864x432 with 1 Axes>"
      ]
     },
     "metadata": {
      "needs_background": "light"
     },
     "output_type": "display_data"
    }
   ],
   "source": [
    "dc.plot(x='DATE',y='POSITIVE',color='red',grid='True',figsize=(12,6)).set_xlabel('Date');"
   ]
  },
  {
   "cell_type": "markdown",
   "metadata": {
    "papermill": {
     "duration": 0.008346,
     "end_time": "2020-09-17T22:09:36.515260",
     "exception": false,
     "start_time": "2020-09-17T22:09:36.506914",
     "status": "completed"
    },
    "tags": []
   },
   "source": [
    "## Figure 1: Cummulative number of positive cases."
   ]
  },
  {
   "cell_type": "code",
   "execution_count": 7,
   "metadata": {
    "execution": {
     "iopub.execute_input": "2020-09-17T22:09:36.560378Z",
     "iopub.status.busy": "2020-09-17T22:09:36.537244Z",
     "iopub.status.idle": "2020-09-17T22:09:36.712792Z",
     "shell.execute_reply": "2020-09-17T22:09:36.712322Z"
    },
    "jupyter": {
     "source_hidden": true
    },
    "papermill": {
     "duration": 0.189259,
     "end_time": "2020-09-17T22:09:36.712930",
     "exception": false,
     "start_time": "2020-09-17T22:09:36.523671",
     "status": "completed"
    },
    "scrolled": false,
    "tags": [
     "hide-input"
    ]
   },
   "outputs": [
    {
     "data": {
      "image/png": "[encoded data removed]",
      "text/plain": [
       "<Figure size 864x432 with 1 Axes>"
      ]
     },
     "metadata": {
      "needs_background": "light"
     },
     "output_type": "display_data"
    }
   ],
   "source": [
    "dc.plot(kind='line',x='DATE',y='7_DAY',color='blue',grid='True',figsize=(12,6)).set_xlabel('Date');"
   ]
  },
  {
   "cell_type": "markdown",
   "metadata": {
    "papermill": {
     "duration": 0.008995,
     "end_time": "2020-09-17T22:09:36.731188",
     "exception": false,
     "start_time": "2020-09-17T22:09:36.722193",
     "status": "completed"
    },
    "tags": []
   },
   "source": [
    "## Figure 2: Rolling 7-day average of daily new cases."
   ]
  },
  {
   "cell_type": "code",
   "execution_count": 8,
   "metadata": {
    "execution": {
     "iopub.execute_input": "2020-09-17T22:09:36.753172Z",
     "iopub.status.busy": "2020-09-17T22:09:36.752678Z",
     "iopub.status.idle": "2020-09-17T22:09:36.934524Z",
     "shell.execute_reply": "2020-09-17T22:09:36.934879Z"
    },
    "jupyter": {
     "source_hidden": true
    },
    "papermill": {
     "duration": 0.19505,
     "end_time": "2020-09-17T22:09:36.935018",
     "exception": false,
     "start_time": "2020-09-17T22:09:36.739968",
     "status": "completed"
    },
    "tags": []
   },
   "outputs": [
    {
     "data": {
      "image/png": "[encoded data removed]",
      "text/plain": [
       "<Figure size 864x432 with 1 Axes>"
      ]
     },
     "metadata": {
      "needs_background": "light"
     },
     "output_type": "display_data"
    }
   ],
   "source": [
    "dc.plot(kind='line',x='DATE',y='14_DAY',color='green',grid='True',figsize=(12,6)).set_xlabel('Date');"
   ]
  },
  {
   "cell_type": "markdown",
   "metadata": {
    "papermill": {
     "duration": 0.01016,
     "end_time": "2020-09-17T22:09:36.954817",
     "exception": false,
     "start_time": "2020-09-17T22:09:36.944657",
     "status": "completed"
    },
    "tags": []
   },
   "source": [
    "## Figure 3: Rolling 14-day average of daily new cases."
   ]
  },
  {
   "cell_type": "markdown",
   "metadata": {
    "papermill": {
     "duration": 0.009947,
     "end_time": "2020-09-17T22:09:36.974826",
     "exception": false,
     "start_time": "2020-09-17T22:09:36.964879",
     "status": "completed"
    },
    "tags": []
   },
   "source": [
    "Data source: [Wisconsin Department of Health Services](https://data.dhsgis.wi.gov/datasets/covid-19-historical-data-table/)"
   ]
  },
  {
   "cell_type": "code",
   "execution_count": 9,
   "metadata": {
    "execution": {
     "iopub.execute_input": "2020-09-17T22:09:36.999995Z",
     "iopub.status.busy": "2020-09-17T22:09:36.999495Z",
     "iopub.status.idle": "2020-09-17T22:09:37.003278Z",
     "shell.execute_reply": "2020-09-17T22:09:37.002911Z"
    },
    "jupyter": {
     "source_hidden": true
    },
    "papermill": {
     "duration": 0.01797,
     "end_time": "2020-09-17T22:09:37.003382",
     "exception": false,
     "start_time": "2020-09-17T22:09:36.985412",
     "status": "completed"
    },
    "tags": []
   },
   "outputs": [
    {
     "data": {
      "text/html": [
       "<style>\n",
       "div.input {\n",
       "    display:none;\n",
       "}\n",
       "</style>\n"
      ],
      "text/plain": [
       "<IPython.core.display.HTML object>"
      ]
     },
     "metadata": {},
     "output_type": "display_data"
    }
   ],
   "source": [
    "%%html\n",
    "<style>\n",
    "div.input {\n",
    "    display:none;\n",
    "}\n",
    "</style>"
   ]
  }
 ],
 "metadata": {
  "kernelspec": {
   "display_name": "Python 3",
   "language": "python",
   "name": "python3"
  },
  "language_info": {
   "codemirror_mode": {
    "name": "ipython",
    "version": 3
   },
   "file_extension": ".py",
   "mimetype": "text/x-python",
   "name": "python",
   "nbconvert_exporter": "python",
   "pygments_lexer": "ipython3",
   "version": "3.8.5"
  },
  "papermill": {
   "duration": 9.620424,
   "end_time": "2020-09-17T22:09:37.322760",
   "environment_variables": {},
   "exception": null,
   "input_path": "DunnCounty_COVID19.ipynb",
   "output_path": "DunnCounty_COVID19.ipynb",
   "parameters": {
    "Start": "True",
    "secretsPath": "/home/runner/work/_temp/secrets.json"
   },
   "start_time": "2020-09-17T22:09:27.702336",
   "version": "1.1.16"
  }
 },
 "nbformat": 4,
 "nbformat_minor": 2
}