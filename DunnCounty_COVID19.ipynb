{
 "cells": [
  {
   "cell_type": "code",
   "execution_count": 1,
   "id": "solar-understanding",
   "metadata": {
    "execution": {
     "iopub.execute_input": "2021-08-03T22:11:26.128415Z",
     "iopub.status.busy": "2021-08-03T22:11:26.127993Z",
     "iopub.status.idle": "2021-08-03T22:11:27.711818Z",
     "shell.execute_reply": "2021-08-03T22:11:27.712281Z"
    },
    "jupyter": {
     "source_hidden": true
    },
    "papermill": {
     "duration": 1.602282,
     "end_time": "2021-08-03T22:11:27.712515",
     "exception": false,
     "start_time": "2021-08-03T22:11:26.110233",
     "status": "completed"
    },
    "scrolled": true,
    "tags": [
     "hide-input"
    ]
   },
   "outputs": [],
   "source": [
    "import pandas as pd\n",
    "import matplotlib.pyplot as plt\n",
    "from matplotlib import dates\n",
    "from IPython.display import display, Markdown\n",
    "%matplotlib inline"
   ]
  },
  {
   "cell_type": "code",
   "execution_count": 2,
   "id": "purple-playlist",
   "metadata": {
    "execution": {
     "iopub.execute_input": "2021-08-03T22:11:27.731233Z",
     "iopub.status.busy": "2021-08-03T22:11:27.730815Z",
     "iopub.status.idle": "2021-08-03T22:11:28.695732Z",
     "shell.execute_reply": "2021-08-03T22:11:28.695353Z"
    },
    "jupyter": {
     "source_hidden": true
    },
    "papermill": {
     "duration": 0.975926,
     "end_time": "2021-08-03T22:11:28.695835",
     "exception": false,
     "start_time": "2021-08-03T22:11:27.719909",
     "status": "completed"
    },
    "scrolled": true,
    "tags": [
     "hide-input"
    ]
   },
   "outputs": [],
   "source": [
    "# This is the data for all of Wisconsin.\n",
    "url = \"https://opendata.arcgis.com/api/v3/datasets/3161f6e01d8141c6abe85a29ff7f3d3c_12/downloads/data?format=csv&spatialRefId=3857\"\n",
    "data = pd.read_csv(url, parse_dates=['DATE'], low_memory=False)"
   ]
  },
  {
   "cell_type": "code",
   "execution_count": 3,
   "id": "proprietary-klein",
   "metadata": {
    "execution": {
     "iopub.execute_input": "2021-08-03T22:11:28.715639Z",
     "iopub.status.busy": "2021-08-03T22:11:28.715226Z",
     "iopub.status.idle": "2021-08-03T22:11:28.722665Z",
     "shell.execute_reply": "2021-08-03T22:11:28.722330Z"
    },
    "jupyter": {
     "source_hidden": true
    },
    "papermill": {
     "duration": 0.020045,
     "end_time": "2021-08-03T22:11:28.722750",
     "exception": false,
     "start_time": "2021-08-03T22:11:28.702705",
     "status": "completed"
    },
    "scrolled": true,
    "tags": [
     "hide-input"
    ]
   },
   "outputs": [],
   "source": [
    "dc = data.groupby('NAME').get_group('Dunn').sort_values(by='DATE') # Select the data for Dunn County from the full data.\n",
    "PNi = dc.columns.get_loc(\"POS_NEW\")\n",
    "dc['7_DAY'] = dc.iloc[:,PNi].rolling(window=7).mean() # Calculates the rolling 7-day average of new cases.\n",
    "dc['14_DAY'] = dc.iloc[:,PNi].rolling(window=14).mean() # Calculates the rolling 14-day average of new cases."
   ]
  },
  {
   "cell_type": "code",
   "execution_count": 4,
   "id": "steady-supervision",
   "metadata": {
    "execution": {
     "iopub.execute_input": "2021-08-03T22:11:28.741710Z",
     "iopub.status.busy": "2021-08-03T22:11:28.741284Z",
     "iopub.status.idle": "2021-08-03T22:11:28.743276Z",
     "shell.execute_reply": "2021-08-03T22:11:28.743597Z"
    },
    "jupyter": {
     "source_hidden": true
    },
    "papermill": {
     "duration": 0.014673,
     "end_time": "2021-08-03T22:11:28.743693",
     "exception": false,
     "start_time": "2021-08-03T22:11:28.729020",
     "status": "completed"
    },
    "scrolled": true,
    "tags": [
     "hide-input"
    ]
   },
   "outputs": [
    {
     "data": {
      "text/markdown": [
       "### Last updated: August 03, 2021"
      ],
      "text/plain": [
       "<IPython.core.display.Markdown object>"
      ]
     },
     "metadata": {},
     "output_type": "display_data"
    }
   ],
   "source": [
    "display(Markdown('### Last updated: ' + dc.iloc[-1]['DATE'].strftime(\"%B %d, %Y\")))"
   ]
  },
  {
   "cell_type": "code",
   "execution_count": 5,
   "id": "lonely-pitch",
   "metadata": {
    "execution": {
     "iopub.execute_input": "2021-08-03T22:11:28.762329Z",
     "iopub.status.busy": "2021-08-03T22:11:28.761844Z",
     "iopub.status.idle": "2021-08-03T22:11:28.763980Z",
     "shell.execute_reply": "2021-08-03T22:11:28.764336Z"
    },
    "jupyter": {
     "source_hidden": true
    },
    "papermill": {
     "duration": 0.013825,
     "end_time": "2021-08-03T22:11:28.764448",
     "exception": false,
     "start_time": "2021-08-03T22:11:28.750623",
     "status": "completed"
    },
    "tags": [
     "hide-input"
    ]
   },
   "outputs": [
    {
     "data": {
      "text/markdown": [
       "# Dunn County has 4802 total positive cases, with 9 new cases reported today."
      ],
      "text/plain": [
       "<IPython.core.display.Markdown object>"
      ]
     },
     "metadata": {},
     "output_type": "display_data"
    }
   ],
   "source": [
    "display(Markdown('# Dunn County has ' + str(dc.iloc[-1]['POSITIVE']) + ' total positive cases, with '+ str(int(dc.iloc[-1]['POS_NEW'])) + ' new cases reported today.'))"
   ]
  },
  {
   "cell_type": "code",
   "execution_count": 6,
   "id": "compound-nightmare",
   "metadata": {
    "execution": {
     "iopub.execute_input": "2021-08-03T22:11:28.783986Z",
     "iopub.status.busy": "2021-08-03T22:11:28.783542Z",
     "iopub.status.idle": "2021-08-03T22:11:29.121225Z",
     "shell.execute_reply": "2021-08-03T22:11:29.120440Z"
    },
    "jupyter": {
     "source_hidden": true
    },
    "papermill": {
     "duration": 0.348779,
     "end_time": "2021-08-03T22:11:29.121354",
     "exception": false,
     "start_time": "2021-08-03T22:11:28.772575",
     "status": "completed"
    },
    "scrolled": false,
    "tags": [
     "hide-input"
    ]
   },
   "outputs": [
    {
     "data": {
      "image/png": "[encoded data removed]",
      "text/plain": [
       "<Figure size 864x432 with 1 Axes>"
      ]
     },
     "metadata": {
      "needs_background": "light"
     },
     "output_type": "display_data"
    }
   ],
   "source": [
    "dc.plot(x='DATE',y='POSITIVE',color='red',grid='True',figsize=(12,6)).set_xlabel('Date');"
   ]
  },
  {
   "cell_type": "markdown",
   "id": "coupled-literacy",
   "metadata": {
    "papermill": {
     "duration": 0.00893,
     "end_time": "2021-08-03T22:11:29.139907",
     "exception": false,
     "start_time": "2021-08-03T22:11:29.130977",
     "status": "completed"
    },
    "tags": []
   },
   "source": [
    "## Figure 1: Cummulative number of positive cases."
   ]
  },
  {
   "cell_type": "code",
   "execution_count": 7,
   "id": "surrounded-reserve",
   "metadata": {
    "execution": {
     "iopub.execute_input": "2021-08-03T22:11:29.175623Z",
     "iopub.status.busy": "2021-08-03T22:11:29.175148Z",
     "iopub.status.idle": "2021-08-03T22:11:29.348795Z",
     "shell.execute_reply": "2021-08-03T22:11:29.348406Z"
    },
    "jupyter": {
     "source_hidden": true
    },
    "papermill": {
     "duration": 0.20007,
     "end_time": "2021-08-03T22:11:29.348904",
     "exception": false,
     "start_time": "2021-08-03T22:11:29.148834",
     "status": "completed"
    },
    "scrolled": false,
    "tags": [
     "hide-input"
    ]
   },
   "outputs": [
    {
     "data": {
      "image/png": "[encoded data removed]",
      "text/plain": [
       "<Figure size 864x432 with 1 Axes>"
      ]
     },
     "metadata": {
      "needs_background": "light"
     },
     "output_type": "display_data"
    }
   ],
   "source": [
    "dc.plot(kind='line',x='DATE',y='7_DAY',color='blue',grid='True',figsize=(12,6)).set_xlabel('Date');"
   ]
  },
  {
   "cell_type": "markdown",
   "id": "professional-savannah",
   "metadata": {
    "papermill": {
     "duration": 0.010763,
     "end_time": "2021-08-03T22:11:29.369837",
     "exception": false,
     "start_time": "2021-08-03T22:11:29.359074",
     "status": "completed"
    },
    "tags": []
   },
   "source": [
    "## Figure 2: Rolling 7-day average of daily new cases."
   ]
  },
  {
   "cell_type": "code",
   "execution_count": 8,
   "id": "stretch-investor",
   "metadata": {
    "execution": {
     "iopub.execute_input": "2021-08-03T22:11:29.393381Z",
     "iopub.status.busy": "2021-08-03T22:11:29.392930Z",
     "iopub.status.idle": "2021-08-03T22:11:29.573569Z",
     "shell.execute_reply": "2021-08-03T22:11:29.573934Z"
    },
    "jupyter": {
     "source_hidden": true
    },
    "papermill": {
     "duration": 0.194427,
     "end_time": "2021-08-03T22:11:29.574063",
     "exception": false,
     "start_time": "2021-08-03T22:11:29.379636",
     "status": "completed"
    },
    "tags": []
   },
   "outputs": [
    {
     "data": {
      "image/png": "[encoded data removed]",
      "text/plain": [
       "<Figure size 864x432 with 1 Axes>"
      ]
     },
     "metadata": {
      "needs_background": "light"
     },
     "output_type": "display_data"
    }
   ],
   "source": [
    "dc.plot(kind='line',x='DATE',y='14_DAY',color='green',grid='True',figsize=(12,6)).set_xlabel('Date');"
   ]
  },
  {
   "cell_type": "markdown",
   "id": "prerequisite-species",
   "metadata": {
    "papermill": {
     "duration": 0.011144,
     "end_time": "2021-08-03T22:11:29.596221",
     "exception": false,
     "start_time": "2021-08-03T22:11:29.585077",
     "status": "completed"
    },
    "tags": []
   },
   "source": [
    "## Figure 3: Rolling 14-day average of daily new cases."
   ]
  },
  {
   "cell_type": "markdown",
   "id": "palestinian-guard",
   "metadata": {
    "papermill": {
     "duration": 0.010769,
     "end_time": "2021-08-03T22:11:29.617737",
     "exception": false,
     "start_time": "2021-08-03T22:11:29.606968",
     "status": "completed"
    },
    "tags": []
   },
   "source": [
    "Data source: [Wisconsin Department of Health Services](https://data.dhsgis.wi.gov/datasets/wi-dhs::covid-19-historical-data-by-county-1)"
   ]
  },
  {
   "cell_type": "code",
   "execution_count": 9,
   "id": "proof-medicare",
   "metadata": {
    "execution": {
     "iopub.execute_input": "2021-08-03T22:11:29.643744Z",
     "iopub.status.busy": "2021-08-03T22:11:29.643294Z",
     "iopub.status.idle": "2021-08-03T22:11:29.646442Z",
     "shell.execute_reply": "2021-08-03T22:11:29.646786Z"
    },
    "jupyter": {
     "source_hidden": true
    },
    "papermill": {
     "duration": 0.018392,
     "end_time": "2021-08-03T22:11:29.646906",
     "exception": false,
     "start_time": "2021-08-03T22:11:29.628514",
     "status": "completed"
    },
    "tags": []
   },
   "outputs": [
    {
     "data": {
      "text/html": [
       "<style>\n",
       "div.input {\n",
       "    display:none;\n",
       "}\n",
       "</style>\n"
      ],
      "text/plain": [
       "<IPython.core.display.HTML object>"
      ]
     },
     "metadata": {},
     "output_type": "display_data"
    }
   ],
   "source": [
    "%%html\n",
    "<style>\n",
    "div.input {\n",
    "    display:none;\n",
    "}\n",
    "</style>"
   ]
  }
 ],
 "metadata": {
  "kernelspec": {
   "display_name": "Python 3",
   "language": "python",
   "name": "python3"
  },
  "language_info": {
   "codemirror_mode": {
    "name": "ipython",
    "version": 3
   },
   "file_extension": ".py",
   "mimetype": "text/x-python",
   "name": "python",
   "nbconvert_exporter": "python",
   "pygments_lexer": "ipython3",
   "version": "3.8.11"
  },
  "papermill": {
   "duration": 5.329527,
   "end_time": "2021-08-03T22:11:29.865015",
   "environment_variables": {},
   "exception": null,
   "input_path": "DunnCounty_COVID19.ipynb",
   "output_path": "DunnCounty_COVID19.ipynb",
   "parameters": {
    "Start": "True",
    "secretsPath": "/home/runner/work/_temp/secrets.json"
   },
   "start_time": "2021-08-03T22:11:24.535488",
   "version": "1.1.16"
  }
 },
 "nbformat": 4,
 "nbformat_minor": 5
}