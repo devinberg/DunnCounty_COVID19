{
 "cells": [
  {
   "cell_type": "code",
   "execution_count": 1,
   "id": "solar-understanding",
   "metadata": {
    "execution": {
     "iopub.execute_input": "2021-03-18T10:13:03.422405Z",
     "iopub.status.busy": "2021-03-18T10:13:03.421838Z",
     "iopub.status.idle": "2021-03-18T10:13:07.363645Z",
     "shell.execute_reply": "2021-03-18T10:13:07.362655Z"
    },
    "jupyter": {
     "source_hidden": true
    },
    "papermill": {
     "duration": 3.962305,
     "end_time": "2021-03-18T10:13:07.363885",
     "exception": false,
     "start_time": "2021-03-18T10:13:03.401580",
     "status": "completed"
    },
    "scrolled": true,
    "tags": [
     "hide-input"
    ]
   },
   "outputs": [],
   "source": [
    "import pandas as pd\n",
    "import matplotlib.pyplot as plt\n",
    "from matplotlib import dates\n",
    "from IPython.display import display, Markdown\n",
    "%matplotlib inline"
   ]
  },
  {
   "cell_type": "code",
   "execution_count": 2,
   "id": "purple-playlist",
   "metadata": {
    "execution": {
     "iopub.execute_input": "2021-03-18T10:13:07.389319Z",
     "iopub.status.busy": "2021-03-18T10:13:07.388761Z",
     "iopub.status.idle": "2021-03-18T10:13:08.132297Z",
     "shell.execute_reply": "2021-03-18T10:13:08.131697Z"
    },
    "jupyter": {
     "source_hidden": true
    },
    "papermill": {
     "duration": 0.758089,
     "end_time": "2021-03-18T10:13:08.132442",
     "exception": false,
     "start_time": "2021-03-18T10:13:07.374353",
     "status": "completed"
    },
    "scrolled": true,
    "tags": [
     "hide-input"
    ]
   },
   "outputs": [],
   "source": [
    "# This is the data for all of Wisconsin.\n",
    "url = \"https://opendata.arcgis.com/datasets/5374188992374b318d3e2305216ee413_12.csv\"\n",
    "data = pd.read_csv(url, parse_dates=['DATE'], low_memory=False)"
   ]
  },
  {
   "cell_type": "code",
   "execution_count": 3,
   "id": "proprietary-klein",
   "metadata": {
    "execution": {
     "iopub.execute_input": "2021-03-18T10:13:08.163248Z",
     "iopub.status.busy": "2021-03-18T10:13:08.162638Z",
     "iopub.status.idle": "2021-03-18T10:13:08.170886Z",
     "shell.execute_reply": "2021-03-18T10:13:08.171352Z"
    },
    "jupyter": {
     "source_hidden": true
    },
    "papermill": {
     "duration": 0.025013,
     "end_time": "2021-03-18T10:13:08.171507",
     "exception": false,
     "start_time": "2021-03-18T10:13:08.146494",
     "status": "completed"
    },
    "scrolled": true,
    "tags": [
     "hide-input"
    ]
   },
   "outputs": [],
   "source": [
    "dc = data.groupby('NAME').get_group('Dunn').sort_values(by='DATE') # Select the data for Dunn County from the full data.\n",
    "PNi = dc.columns.get_loc(\"POS_NEW\")\n",
    "dc['7_DAY'] = dc.iloc[:,PNi].rolling(window=7).mean() # Calculates the rolling 7-day average of new cases.\n",
    "dc['14_DAY'] = dc.iloc[:,PNi].rolling(window=14).mean() # Calculates the rolling 14-day average of new cases."
   ]
  },
  {
   "cell_type": "code",
   "execution_count": 4,
   "id": "steady-supervision",
   "metadata": {
    "execution": {
     "iopub.execute_input": "2021-03-18T10:13:08.197443Z",
     "iopub.status.busy": "2021-03-18T10:13:08.196712Z",
     "iopub.status.idle": "2021-03-18T10:13:08.199181Z",
     "shell.execute_reply": "2021-03-18T10:13:08.199629Z"
    },
    "jupyter": {
     "source_hidden": true
    },
    "papermill": {
     "duration": 0.019301,
     "end_time": "2021-03-18T10:13:08.199765",
     "exception": false,
     "start_time": "2021-03-18T10:13:08.180464",
     "status": "completed"
    },
    "scrolled": true,
    "tags": [
     "hide-input"
    ]
   },
   "outputs": [
    {
     "data": {
      "text/markdown": [
       "### Last updated: March 17, 2021"
      ],
      "text/plain": [
       "<IPython.core.display.Markdown object>"
      ]
     },
     "metadata": {},
     "output_type": "display_data"
    }
   ],
   "source": [
    "display(Markdown('### Last updated: ' + dc.iloc[-1]['DATE'].strftime(\"%B %d, %Y\")))"
   ]
  },
  {
   "cell_type": "code",
   "execution_count": 5,
   "id": "lonely-pitch",
   "metadata": {
    "execution": {
     "iopub.execute_input": "2021-03-18T10:13:08.224319Z",
     "iopub.status.busy": "2021-03-18T10:13:08.223586Z",
     "iopub.status.idle": "2021-03-18T10:13:08.226122Z",
     "shell.execute_reply": "2021-03-18T10:13:08.226701Z"
    },
    "jupyter": {
     "source_hidden": true
    },
    "papermill": {
     "duration": 0.017748,
     "end_time": "2021-03-18T10:13:08.226872",
     "exception": false,
     "start_time": "2021-03-18T10:13:08.209124",
     "status": "completed"
    },
    "tags": [
     "hide-input"
    ]
   },
   "outputs": [
    {
     "data": {
      "text/markdown": [
       "# Dunn County has 4310 total positive cases, with 8 new cases reported today."
      ],
      "text/plain": [
       "<IPython.core.display.Markdown object>"
      ]
     },
     "metadata": {},
     "output_type": "display_data"
    }
   ],
   "source": [
    "display(Markdown('# Dunn County has ' + str(dc.iloc[-1]['POSITIVE']) + ' total positive cases, with '+ str(int(dc.iloc[-1]['POS_NEW'])) + ' new cases reported today.'))"
   ]
  },
  {
   "cell_type": "code",
   "execution_count": 6,
   "id": "compound-nightmare",
   "metadata": {
    "execution": {
     "iopub.execute_input": "2021-03-18T10:13:08.252747Z",
     "iopub.status.busy": "2021-03-18T10:13:08.252197Z",
     "iopub.status.idle": "2021-03-18T10:13:08.543287Z",
     "shell.execute_reply": "2021-03-18T10:13:08.542614Z"
    },
    "jupyter": {
     "source_hidden": true
    },
    "papermill": {
     "duration": 0.304936,
     "end_time": "2021-03-18T10:13:08.543419",
     "exception": false,
     "start_time": "2021-03-18T10:13:08.238483",
     "status": "completed"
    },
    "scrolled": false,
    "tags": [
     "hide-input"
    ]
   },
   "outputs": [
    {
     "data": {
      "image/png": "[encoded data removed]",
      "text/plain": [
       "<Figure size 864x432 with 1 Axes>"
      ]
     },
     "metadata": {
      "needs_background": "light"
     },
     "output_type": "display_data"
    }
   ],
   "source": [
    "dc.plot(x='DATE',y='POSITIVE',color='red',grid='True',figsize=(12,6)).set_xlabel('Date');"
   ]
  },
  {
   "cell_type": "markdown",
   "id": "coupled-literacy",
   "metadata": {
    "papermill": {
     "duration": 0.011104,
     "end_time": "2021-03-18T10:13:08.565371",
     "exception": false,
     "start_time": "2021-03-18T10:13:08.554267",
     "status": "completed"
    },
    "tags": []
   },
   "source": [
    "## Figure 1: Cummulative number of positive cases."
   ]
  },
  {
   "cell_type": "code",
   "execution_count": 7,
   "id": "surrounded-reserve",
   "metadata": {
    "execution": {
     "iopub.execute_input": "2021-03-18T10:13:08.592090Z",
     "iopub.status.busy": "2021-03-18T10:13:08.591537Z",
     "iopub.status.idle": "2021-03-18T10:13:08.794932Z",
     "shell.execute_reply": "2021-03-18T10:13:08.795415Z"
    },
    "jupyter": {
     "source_hidden": true
    },
    "papermill": {
     "duration": 0.219487,
     "end_time": "2021-03-18T10:13:08.795577",
     "exception": false,
     "start_time": "2021-03-18T10:13:08.576090",
     "status": "completed"
    },
    "scrolled": false,
    "tags": [
     "hide-input"
    ]
   },
   "outputs": [
    {
     "data": {
      "image/png": "[encoded data removed]",
      "text/plain": [
       "<Figure size 864x432 with 1 Axes>"
      ]
     },
     "metadata": {
      "needs_background": "light"
     },
     "output_type": "display_data"
    }
   ],
   "source": [
    "dc.plot(kind='line',x='DATE',y='7_DAY',color='blue',grid='True',figsize=(12,6)).set_xlabel('Date');"
   ]
  },
  {
   "cell_type": "markdown",
   "id": "professional-savannah",
   "metadata": {
    "papermill": {
     "duration": 0.012184,
     "end_time": "2021-03-18T10:13:08.819886",
     "exception": false,
     "start_time": "2021-03-18T10:13:08.807702",
     "status": "completed"
    },
    "tags": []
   },
   "source": [
    "## Figure 2: Rolling 7-day average of daily new cases."
   ]
  },
  {
   "cell_type": "code",
   "execution_count": 8,
   "id": "stretch-investor",
   "metadata": {
    "execution": {
     "iopub.execute_input": "2021-03-18T10:13:08.849227Z",
     "iopub.status.busy": "2021-03-18T10:13:08.848682Z",
     "iopub.status.idle": "2021-03-18T10:13:09.051759Z",
     "shell.execute_reply": "2021-03-18T10:13:09.052205Z"
    },
    "jupyter": {
     "source_hidden": true
    },
    "papermill": {
     "duration": 0.221543,
     "end_time": "2021-03-18T10:13:09.053135",
     "exception": false,
     "start_time": "2021-03-18T10:13:08.831592",
     "status": "completed"
    },
    "tags": []
   },
   "outputs": [
    {
     "data": {
      "image/png": "[encoded data removed]",
      "text/plain": [
       "<Figure size 864x432 with 1 Axes>"
      ]
     },
     "metadata": {
      "needs_background": "light"
     },
     "output_type": "display_data"
    }
   ],
   "source": [
    "dc.plot(kind='line',x='DATE',y='14_DAY',color='green',grid='True',figsize=(12,6)).set_xlabel('Date');"
   ]
  },
  {
   "cell_type": "markdown",
   "id": "prerequisite-species",
   "metadata": {
    "papermill": {
     "duration": 0.013367,
     "end_time": "2021-03-18T10:13:09.079814",
     "exception": false,
     "start_time": "2021-03-18T10:13:09.066447",
     "status": "completed"
    },
    "tags": []
   },
   "source": [
    "## Figure 3: Rolling 14-day average of daily new cases."
   ]
  },
  {
   "cell_type": "markdown",
   "id": "palestinian-guard",
   "metadata": {
    "papermill": {
     "duration": 0.012962,
     "end_time": "2021-03-18T10:13:09.105842",
     "exception": false,
     "start_time": "2021-03-18T10:13:09.092880",
     "status": "completed"
    },
    "tags": []
   },
   "source": [
    "Data source: [Wisconsin Department of Health Services](https://data.dhsgis.wi.gov/datasets/covid-19-historical-data-table/)"
   ]
  },
  {
   "cell_type": "code",
   "execution_count": 9,
   "id": "proof-medicare",
   "metadata": {
    "execution": {
     "iopub.execute_input": "2021-03-18T10:13:09.138408Z",
     "iopub.status.busy": "2021-03-18T10:13:09.137469Z",
     "iopub.status.idle": "2021-03-18T10:13:09.140766Z",
     "shell.execute_reply": "2021-03-18T10:13:09.141304Z"
    },
    "jupyter": {
     "source_hidden": true
    },
    "papermill": {
     "duration": 0.022605,
     "end_time": "2021-03-18T10:13:09.141446",
     "exception": false,
     "start_time": "2021-03-18T10:13:09.118841",
     "status": "completed"
    },
    "tags": []
   },
   "outputs": [
    {
     "data": {
      "text/html": [
       "<style>\n",
       "div.input {\n",
       "    display:none;\n",
       "}\n",
       "</style>\n"
      ],
      "text/plain": [
       "<IPython.core.display.HTML object>"
      ]
     },
     "metadata": {},
     "output_type": "display_data"
    }
   ],
   "source": [
    "%%html\n",
    "<style>\n",
    "div.input {\n",
    "    display:none;\n",
    "}\n",
    "</style>"
   ]
  }
 ],
 "metadata": {
  "kernelspec": {
   "display_name": "Python 3",
   "language": "python",
   "name": "python3"
  },
  "language_info": {
   "codemirror_mode": {
    "name": "ipython",
    "version": 3
   },
   "file_extension": ".py",
   "mimetype": "text/x-python",
   "name": "python",
   "nbconvert_exporter": "python",
   "pygments_lexer": "ipython3",
   "version": "3.8.8"
  },
  "papermill": {
   "duration": 8.273355,
   "end_time": "2021-03-18T10:13:09.462370",
   "environment_variables": {},
   "exception": null,
   "input_path": "DunnCounty_COVID19.ipynb",
   "output_path": "DunnCounty_COVID19.ipynb",
   "parameters": {
    "Start": "True",
    "secretsPath": "/home/runner/work/_temp/secrets.json"
   },
   "start_time": "2021-03-18T10:13:01.189015",
   "version": "1.1.16"
  }
 },
 "nbformat": 4,
 "nbformat_minor": 5
}