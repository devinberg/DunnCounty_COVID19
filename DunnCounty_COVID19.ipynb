{
 "cells": [
  {
   "cell_type": "code",
   "execution_count": 1,
   "metadata": {
    "execution": {
     "iopub.execute_input": "2020-11-07T22:14:09.695613Z",
     "iopub.status.busy": "2020-11-07T22:14:09.695031Z",
     "iopub.status.idle": "2020-11-07T22:14:13.019861Z",
     "shell.execute_reply": "2020-11-07T22:14:13.018906Z"
    },
    "jupyter": {
     "source_hidden": true
    },
    "papermill": {
     "duration": 3.340915,
     "end_time": "2020-11-07T22:14:13.020155",
     "exception": false,
     "start_time": "2020-11-07T22:14:09.679240",
     "status": "completed"
    },
    "scrolled": true,
    "tags": [
     "hide-input"
    ]
   },
   "outputs": [],
   "source": [
    "import pandas as pd\n",
    "import matplotlib.pyplot as plt\n",
    "from matplotlib import dates\n",
    "from IPython.display import display, Markdown\n",
    "%matplotlib inline"
   ]
  },
  {
   "cell_type": "code",
   "execution_count": 2,
   "metadata": {
    "execution": {
     "iopub.execute_input": "2020-11-07T22:14:13.044038Z",
     "iopub.status.busy": "2020-11-07T22:14:13.043472Z",
     "iopub.status.idle": "2020-11-07T22:14:13.824359Z",
     "shell.execute_reply": "2020-11-07T22:14:13.823370Z"
    },
    "jupyter": {
     "source_hidden": true
    },
    "papermill": {
     "duration": 0.794965,
     "end_time": "2020-11-07T22:14:13.824509",
     "exception": false,
     "start_time": "2020-11-07T22:14:13.029544",
     "status": "completed"
    },
    "scrolled": true,
    "tags": [
     "hide-input"
    ]
   },
   "outputs": [],
   "source": [
    "# This is the data for all of Wisconsin.\n",
    "url = \"https://opendata.arcgis.com/datasets/5374188992374b318d3e2305216ee413_12.csv\"\n",
    "data = pd.read_csv(url, parse_dates=['DATE'], low_memory=False)"
   ]
  },
  {
   "cell_type": "code",
   "execution_count": 3,
   "metadata": {
    "execution": {
     "iopub.execute_input": "2020-11-07T22:14:13.845132Z",
     "iopub.status.busy": "2020-11-07T22:14:13.844474Z",
     "iopub.status.idle": "2020-11-07T22:14:13.853111Z",
     "shell.execute_reply": "2020-11-07T22:14:13.853577Z"
    },
    "jupyter": {
     "source_hidden": true
    },
    "papermill": {
     "duration": 0.021702,
     "end_time": "2020-11-07T22:14:13.853721",
     "exception": false,
     "start_time": "2020-11-07T22:14:13.832019",
     "status": "completed"
    },
    "scrolled": true,
    "tags": [
     "hide-input"
    ]
   },
   "outputs": [],
   "source": [
    "dc = data.groupby('NAME').get_group('Dunn').sort_values(by='DATE') # Select the data for Dunn County from the full data.\n",
    "PNi = dc.columns.get_loc(\"POS_NEW\")\n",
    "dc['7_DAY'] = dc.iloc[:,PNi].rolling(window=7).mean() # Calculates the rolling 7-day average of new cases.\n",
    "dc['14_DAY'] = dc.iloc[:,PNi].rolling(window=14).mean() # Calculates the rolling 14-day average of new cases."
   ]
  },
  {
   "cell_type": "code",
   "execution_count": 4,
   "metadata": {
    "execution": {
     "iopub.execute_input": "2020-11-07T22:14:13.874238Z",
     "iopub.status.busy": "2020-11-07T22:14:13.873658Z",
     "iopub.status.idle": "2020-11-07T22:14:13.876418Z",
     "shell.execute_reply": "2020-11-07T22:14:13.876856Z"
    },
    "jupyter": {
     "source_hidden": true
    },
    "papermill": {
     "duration": 0.016082,
     "end_time": "2020-11-07T22:14:13.876989",
     "exception": false,
     "start_time": "2020-11-07T22:14:13.860907",
     "status": "completed"
    },
    "scrolled": true,
    "tags": [
     "hide-input"
    ]
   },
   "outputs": [
    {
     "data": {
      "text/markdown": [
       "### Last updated: November 07, 2020"
      ],
      "text/plain": [
       "<IPython.core.display.Markdown object>"
      ]
     },
     "metadata": {},
     "output_type": "display_data"
    }
   ],
   "source": [
    "display(Markdown('### Last updated: ' + dc.iloc[-1]['DATE'].strftime(\"%B %d, %Y\")))"
   ]
  },
  {
   "cell_type": "code",
   "execution_count": 5,
   "metadata": {
    "execution": {
     "iopub.execute_input": "2020-11-07T22:14:13.896968Z",
     "iopub.status.busy": "2020-11-07T22:14:13.896418Z",
     "iopub.status.idle": "2020-11-07T22:14:13.899592Z",
     "shell.execute_reply": "2020-11-07T22:14:13.899120Z"
    },
    "jupyter": {
     "source_hidden": true
    },
    "papermill": {
     "duration": 0.014952,
     "end_time": "2020-11-07T22:14:13.899706",
     "exception": false,
     "start_time": "2020-11-07T22:14:13.884754",
     "status": "completed"
    },
    "tags": [
     "hide-input"
    ]
   },
   "outputs": [
    {
     "data": {
      "text/markdown": [
       "# Dunn County has 1551 total positive cases, with 51 new cases reported today."
      ],
      "text/plain": [
       "<IPython.core.display.Markdown object>"
      ]
     },
     "metadata": {},
     "output_type": "display_data"
    }
   ],
   "source": [
    "display(Markdown('# Dunn County has ' + str(dc.iloc[-1]['POSITIVE']) + ' total positive cases, with '+ str(int(dc.iloc[-1]['POS_NEW'])) + ' new cases reported today.'))"
   ]
  },
  {
   "cell_type": "code",
   "execution_count": 6,
   "metadata": {
    "execution": {
     "iopub.execute_input": "2020-11-07T22:14:13.920024Z",
     "iopub.status.busy": "2020-11-07T22:14:13.919478Z",
     "iopub.status.idle": "2020-11-07T22:14:14.165195Z",
     "shell.execute_reply": "2020-11-07T22:14:14.164696Z"
    },
    "jupyter": {
     "source_hidden": true
    },
    "papermill": {
     "duration": 0.257629,
     "end_time": "2020-11-07T22:14:14.165323",
     "exception": false,
     "start_time": "2020-11-07T22:14:13.907694",
     "status": "completed"
    },
    "scrolled": false,
    "tags": [
     "hide-input"
    ]
   },
   "outputs": [
    {
     "data": {
      "image/png": "[encoded data removed]",
      "text/plain": [
       "<Figure size 864x432 with 1 Axes>"
      ]
     },
     "metadata": {
      "needs_background": "light"
     },
     "output_type": "display_data"
    }
   ],
   "source": [
    "dc.plot(x='DATE',y='POSITIVE',color='red',grid='True',figsize=(12,6)).set_xlabel('Date');"
   ]
  },
  {
   "cell_type": "markdown",
   "metadata": {
    "papermill": {
     "duration": 0.008961,
     "end_time": "2020-11-07T22:14:14.183580",
     "exception": false,
     "start_time": "2020-11-07T22:14:14.174619",
     "status": "completed"
    },
    "tags": []
   },
   "source": [
    "## Figure 1: Cummulative number of positive cases."
   ]
  },
  {
   "cell_type": "code",
   "execution_count": 7,
   "metadata": {
    "execution": {
     "iopub.execute_input": "2020-11-07T22:14:14.208034Z",
     "iopub.status.busy": "2020-11-07T22:14:14.207484Z",
     "iopub.status.idle": "2020-11-07T22:14:14.419668Z",
     "shell.execute_reply": "2020-11-07T22:14:14.419175Z"
    },
    "jupyter": {
     "source_hidden": true
    },
    "papermill": {
     "duration": 0.227289,
     "end_time": "2020-11-07T22:14:14.419794",
     "exception": false,
     "start_time": "2020-11-07T22:14:14.192505",
     "status": "completed"
    },
    "scrolled": false,
    "tags": [
     "hide-input"
    ]
   },
   "outputs": [
    {
     "data": {
      "image/png": "[encoded data removed]",
      "text/plain": [
       "<Figure size 864x432 with 1 Axes>"
      ]
     },
     "metadata": {
      "needs_background": "light"
     },
     "output_type": "display_data"
    }
   ],
   "source": [
    "dc.plot(kind='line',x='DATE',y='7_DAY',color='blue',grid='True',figsize=(12,6)).set_xlabel('Date');"
   ]
  },
  {
   "cell_type": "markdown",
   "metadata": {
    "papermill": {
     "duration": 0.009884,
     "end_time": "2020-11-07T22:14:14.439821",
     "exception": false,
     "start_time": "2020-11-07T22:14:14.429937",
     "status": "completed"
    },
    "tags": []
   },
   "source": [
    "## Figure 2: Rolling 7-day average of daily new cases."
   ]
  },
  {
   "cell_type": "code",
   "execution_count": 8,
   "metadata": {
    "execution": {
     "iopub.execute_input": "2020-11-07T22:14:14.464813Z",
     "iopub.status.busy": "2020-11-07T22:14:14.464266Z",
     "iopub.status.idle": "2020-11-07T22:14:14.692285Z",
     "shell.execute_reply": "2020-11-07T22:14:14.691815Z"
    },
    "jupyter": {
     "source_hidden": true
    },
    "papermill": {
     "duration": 0.242817,
     "end_time": "2020-11-07T22:14:14.692420",
     "exception": false,
     "start_time": "2020-11-07T22:14:14.449603",
     "status": "completed"
    },
    "tags": []
   },
   "outputs": [
    {
     "data": {
      "image/png": "[encoded data removed]",
      "text/plain": [
       "<Figure size 864x432 with 1 Axes>"
      ]
     },
     "metadata": {
      "needs_background": "light"
     },
     "output_type": "display_data"
    }
   ],
   "source": [
    "dc.plot(kind='line',x='DATE',y='14_DAY',color='green',grid='True',figsize=(12,6)).set_xlabel('Date');"
   ]
  },
  {
   "cell_type": "markdown",
   "metadata": {
    "papermill": {
     "duration": 0.011203,
     "end_time": "2020-11-07T22:14:14.714866",
     "exception": false,
     "start_time": "2020-11-07T22:14:14.703663",
     "status": "completed"
    },
    "tags": []
   },
   "source": [
    "## Figure 3: Rolling 14-day average of daily new cases."
   ]
  },
  {
   "cell_type": "markdown",
   "metadata": {
    "papermill": {
     "duration": 0.010694,
     "end_time": "2020-11-07T22:14:14.736412",
     "exception": false,
     "start_time": "2020-11-07T22:14:14.725718",
     "status": "completed"
    },
    "tags": []
   },
   "source": [
    "Data source: [Wisconsin Department of Health Services](https://data.dhsgis.wi.gov/datasets/covid-19-historical-data-table/)"
   ]
  },
  {
   "cell_type": "code",
   "execution_count": 9,
   "metadata": {
    "execution": {
     "iopub.execute_input": "2020-11-07T22:14:14.764394Z",
     "iopub.status.busy": "2020-11-07T22:14:14.763570Z",
     "iopub.status.idle": "2020-11-07T22:14:14.765815Z",
     "shell.execute_reply": "2020-11-07T22:14:14.766265Z"
    },
    "jupyter": {
     "source_hidden": true
    },
    "papermill": {
     "duration": 0.019209,
     "end_time": "2020-11-07T22:14:14.766397",
     "exception": false,
     "start_time": "2020-11-07T22:14:14.747188",
     "status": "completed"
    },
    "tags": []
   },
   "outputs": [
    {
     "data": {
      "text/html": [
       "<style>\n",
       "div.input {\n",
       "    display:none;\n",
       "}\n",
       "</style>\n"
      ],
      "text/plain": [
       "<IPython.core.display.HTML object>"
      ]
     },
     "metadata": {},
     "output_type": "display_data"
    }
   ],
   "source": [
    "%%html\n",
    "<style>\n",
    "div.input {\n",
    "    display:none;\n",
    "}\n",
    "</style>"
   ]
  }
 ],
 "metadata": {
  "kernelspec": {
   "display_name": "Python 3",
   "language": "python",
   "name": "python3"
  },
  "language_info": {
   "codemirror_mode": {
    "name": "ipython",
    "version": 3
   },
   "file_extension": ".py",
   "mimetype": "text/x-python",
   "name": "python",
   "nbconvert_exporter": "python",
   "pygments_lexer": "ipython3",
   "version": "3.8.6"
  },
  "papermill": {
   "duration": 7.160528,
   "end_time": "2020-11-07T22:14:15.085052",
   "environment_variables": {},
   "exception": null,
   "input_path": "DunnCounty_COVID19.ipynb",
   "output_path": "DunnCounty_COVID19.ipynb",
   "parameters": {
    "Start": "True",
    "secretsPath": "/home/runner/work/_temp/secrets.json"
   },
   "start_time": "2020-11-07T22:14:07.924524",
   "version": "1.1.16"
  }
 },
 "nbformat": 4,
 "nbformat_minor": 2
}