{
 "cells": [
  {
   "cell_type": "code",
   "execution_count": 1,
   "id": "solar-understanding",
   "metadata": {
    "execution": {
     "iopub.execute_input": "2021-02-06T10:11:36.706043Z",
     "iopub.status.busy": "2021-02-06T10:11:36.705473Z",
     "iopub.status.idle": "2021-02-06T10:11:39.014512Z",
     "shell.execute_reply": "2021-02-06T10:11:39.013560Z"
    },
    "jupyter": {
     "source_hidden": true
    },
    "papermill": {
     "duration": 2.327596,
     "end_time": "2021-02-06T10:11:39.014812",
     "exception": false,
     "start_time": "2021-02-06T10:11:36.687216",
     "status": "completed"
    },
    "scrolled": true,
    "tags": [
     "hide-input"
    ]
   },
   "outputs": [],
   "source": [
    "import pandas as pd\n",
    "import matplotlib.pyplot as plt\n",
    "from matplotlib import dates\n",
    "from IPython.display import display, Markdown\n",
    "%matplotlib inline"
   ]
  },
  {
   "cell_type": "code",
   "execution_count": 2,
   "id": "purple-playlist",
   "metadata": {
    "execution": {
     "iopub.execute_input": "2021-02-06T10:11:39.042282Z",
     "iopub.status.busy": "2021-02-06T10:11:39.041715Z",
     "iopub.status.idle": "2021-02-06T10:11:39.730400Z",
     "shell.execute_reply": "2021-02-06T10:11:39.729567Z"
    },
    "jupyter": {
     "source_hidden": true
    },
    "papermill": {
     "duration": 0.703693,
     "end_time": "2021-02-06T10:11:39.730621",
     "exception": false,
     "start_time": "2021-02-06T10:11:39.026928",
     "status": "completed"
    },
    "scrolled": true,
    "tags": [
     "hide-input"
    ]
   },
   "outputs": [],
   "source": [
    "# This is the data for all of Wisconsin.\n",
    "url = \"https://opendata.arcgis.com/datasets/5374188992374b318d3e2305216ee413_12.csv\"\n",
    "data = pd.read_csv(url, parse_dates=['DATE'], low_memory=False)"
   ]
  },
  {
   "cell_type": "code",
   "execution_count": 3,
   "id": "proprietary-klein",
   "metadata": {
    "execution": {
     "iopub.execute_input": "2021-02-06T10:11:39.757457Z",
     "iopub.status.busy": "2021-02-06T10:11:39.756864Z",
     "iopub.status.idle": "2021-02-06T10:11:39.766088Z",
     "shell.execute_reply": "2021-02-06T10:11:39.765480Z"
    },
    "jupyter": {
     "source_hidden": true
    },
    "papermill": {
     "duration": 0.025471,
     "end_time": "2021-02-06T10:11:39.766474",
     "exception": false,
     "start_time": "2021-02-06T10:11:39.741003",
     "status": "completed"
    },
    "scrolled": true,
    "tags": [
     "hide-input"
    ]
   },
   "outputs": [],
   "source": [
    "dc = data.groupby('NAME').get_group('Dunn').sort_values(by='DATE') # Select the data for Dunn County from the full data.\n",
    "PNi = dc.columns.get_loc(\"POS_NEW\")\n",
    "dc['7_DAY'] = dc.iloc[:,PNi].rolling(window=7).mean() # Calculates the rolling 7-day average of new cases.\n",
    "dc['14_DAY'] = dc.iloc[:,PNi].rolling(window=14).mean() # Calculates the rolling 14-day average of new cases."
   ]
  },
  {
   "cell_type": "code",
   "execution_count": 4,
   "id": "steady-supervision",
   "metadata": {
    "execution": {
     "iopub.execute_input": "2021-02-06T10:11:39.792656Z",
     "iopub.status.busy": "2021-02-06T10:11:39.792075Z",
     "iopub.status.idle": "2021-02-06T10:11:39.794349Z",
     "shell.execute_reply": "2021-02-06T10:11:39.794775Z"
    },
    "jupyter": {
     "source_hidden": true
    },
    "papermill": {
     "duration": 0.019746,
     "end_time": "2021-02-06T10:11:39.794925",
     "exception": false,
     "start_time": "2021-02-06T10:11:39.775179",
     "status": "completed"
    },
    "scrolled": true,
    "tags": [
     "hide-input"
    ]
   },
   "outputs": [
    {
     "data": {
      "text/markdown": [
       "### Last updated: February 05, 2021"
      ],
      "text/plain": [
       "<IPython.core.display.Markdown object>"
      ]
     },
     "metadata": {},
     "output_type": "display_data"
    }
   ],
   "source": [
    "display(Markdown('### Last updated: ' + dc.iloc[-1]['DATE'].strftime(\"%B %d, %Y\")))"
   ]
  },
  {
   "cell_type": "code",
   "execution_count": 5,
   "id": "lonely-pitch",
   "metadata": {
    "execution": {
     "iopub.execute_input": "2021-02-06T10:11:39.819535Z",
     "iopub.status.busy": "2021-02-06T10:11:39.818943Z",
     "iopub.status.idle": "2021-02-06T10:11:39.821945Z",
     "shell.execute_reply": "2021-02-06T10:11:39.822440Z"
    },
    "jupyter": {
     "source_hidden": true
    },
    "papermill": {
     "duration": 0.018295,
     "end_time": "2021-02-06T10:11:39.822590",
     "exception": false,
     "start_time": "2021-02-06T10:11:39.804295",
     "status": "completed"
    },
    "tags": [
     "hide-input"
    ]
   },
   "outputs": [
    {
     "data": {
      "text/markdown": [
       "# Dunn County has 4128 total positive cases, with 11 new cases reported today."
      ],
      "text/plain": [
       "<IPython.core.display.Markdown object>"
      ]
     },
     "metadata": {},
     "output_type": "display_data"
    }
   ],
   "source": [
    "display(Markdown('# Dunn County has ' + str(dc.iloc[-1]['POSITIVE']) + ' total positive cases, with '+ str(int(dc.iloc[-1]['POS_NEW'])) + ' new cases reported today.'))"
   ]
  },
  {
   "cell_type": "code",
   "execution_count": 6,
   "id": "compound-nightmare",
   "metadata": {
    "execution": {
     "iopub.execute_input": "2021-02-06T10:11:39.846760Z",
     "iopub.status.busy": "2021-02-06T10:11:39.846207Z",
     "iopub.status.idle": "2021-02-06T10:11:40.148996Z",
     "shell.execute_reply": "2021-02-06T10:11:40.149466Z"
    },
    "jupyter": {
     "source_hidden": true
    },
    "papermill": {
     "duration": 0.317358,
     "end_time": "2021-02-06T10:11:40.149626",
     "exception": false,
     "start_time": "2021-02-06T10:11:39.832268",
     "status": "completed"
    },
    "scrolled": false,
    "tags": [
     "hide-input"
    ]
   },
   "outputs": [
    {
     "data": {
      "image/png": "[encoded data removed]",
      "text/plain": [
       "<Figure size 864x432 with 1 Axes>"
      ]
     },
     "metadata": {
      "needs_background": "light"
     },
     "output_type": "display_data"
    }
   ],
   "source": [
    "dc.plot(x='DATE',y='POSITIVE',color='red',grid='True',figsize=(12,6)).set_xlabel('Date');"
   ]
  },
  {
   "cell_type": "markdown",
   "id": "coupled-literacy",
   "metadata": {
    "papermill": {
     "duration": 0.01057,
     "end_time": "2021-02-06T10:11:40.170616",
     "exception": false,
     "start_time": "2021-02-06T10:11:40.160046",
     "status": "completed"
    },
    "tags": []
   },
   "source": [
    "## Figure 1: Cummulative number of positive cases."
   ]
  },
  {
   "cell_type": "code",
   "execution_count": 7,
   "id": "surrounded-reserve",
   "metadata": {
    "execution": {
     "iopub.execute_input": "2021-02-06T10:11:40.220285Z",
     "iopub.status.busy": "2021-02-06T10:11:40.195532Z",
     "iopub.status.idle": "2021-02-06T10:11:40.443009Z",
     "shell.execute_reply": "2021-02-06T10:11:40.443427Z"
    },
    "jupyter": {
     "source_hidden": true
    },
    "papermill": {
     "duration": 0.262839,
     "end_time": "2021-02-06T10:11:40.443591",
     "exception": false,
     "start_time": "2021-02-06T10:11:40.180752",
     "status": "completed"
    },
    "scrolled": false,
    "tags": [
     "hide-input"
    ]
   },
   "outputs": [
    {
     "data": {
      "image/png": "[encoded data removed]",
      "text/plain": [
       "<Figure size 864x432 with 1 Axes>"
      ]
     },
     "metadata": {
      "needs_background": "light"
     },
     "output_type": "display_data"
    }
   ],
   "source": [
    "dc.plot(kind='line',x='DATE',y='7_DAY',color='blue',grid='True',figsize=(12,6)).set_xlabel('Date');"
   ]
  },
  {
   "cell_type": "markdown",
   "id": "professional-savannah",
   "metadata": {
    "papermill": {
     "duration": 0.013751,
     "end_time": "2021-02-06T10:11:40.469780",
     "exception": false,
     "start_time": "2021-02-06T10:11:40.456029",
     "status": "completed"
    },
    "tags": []
   },
   "source": [
    "## Figure 2: Rolling 7-day average of daily new cases."
   ]
  },
  {
   "cell_type": "code",
   "execution_count": 8,
   "id": "stretch-investor",
   "metadata": {
    "execution": {
     "iopub.execute_input": "2021-02-06T10:11:40.526706Z",
     "iopub.status.busy": "2021-02-06T10:11:40.521888Z",
     "iopub.status.idle": "2021-02-06T10:11:40.751098Z",
     "shell.execute_reply": "2021-02-06T10:11:40.750440Z"
    },
    "jupyter": {
     "source_hidden": true
    },
    "papermill": {
     "duration": 0.269653,
     "end_time": "2021-02-06T10:11:40.751243",
     "exception": false,
     "start_time": "2021-02-06T10:11:40.481590",
     "status": "completed"
    },
    "tags": []
   },
   "outputs": [
    {
     "data": {
      "image/png": "[encoded data removed]",
      "text/plain": [
       "<Figure size 864x432 with 1 Axes>"
      ]
     },
     "metadata": {
      "needs_background": "light"
     },
     "output_type": "display_data"
    }
   ],
   "source": [
    "dc.plot(kind='line',x='DATE',y='14_DAY',color='green',grid='True',figsize=(12,6)).set_xlabel('Date');"
   ]
  },
  {
   "cell_type": "markdown",
   "id": "prerequisite-species",
   "metadata": {
    "papermill": {
     "duration": 0.012474,
     "end_time": "2021-02-06T10:11:40.776695",
     "exception": false,
     "start_time": "2021-02-06T10:11:40.764221",
     "status": "completed"
    },
    "tags": []
   },
   "source": [
    "## Figure 3: Rolling 14-day average of daily new cases."
   ]
  },
  {
   "cell_type": "markdown",
   "id": "palestinian-guard",
   "metadata": {
    "papermill": {
     "duration": 0.012959,
     "end_time": "2021-02-06T10:11:40.802284",
     "exception": false,
     "start_time": "2021-02-06T10:11:40.789325",
     "status": "completed"
    },
    "tags": []
   },
   "source": [
    "Data source: [Wisconsin Department of Health Services](https://data.dhsgis.wi.gov/datasets/covid-19-historical-data-table/)"
   ]
  },
  {
   "cell_type": "code",
   "execution_count": 9,
   "id": "proof-medicare",
   "metadata": {
    "execution": {
     "iopub.execute_input": "2021-02-06T10:11:40.832545Z",
     "iopub.status.busy": "2021-02-06T10:11:40.831879Z",
     "iopub.status.idle": "2021-02-06T10:11:40.834277Z",
     "shell.execute_reply": "2021-02-06T10:11:40.834757Z"
    },
    "jupyter": {
     "source_hidden": true
    },
    "papermill": {
     "duration": 0.020214,
     "end_time": "2021-02-06T10:11:40.834915",
     "exception": false,
     "start_time": "2021-02-06T10:11:40.814701",
     "status": "completed"
    },
    "tags": []
   },
   "outputs": [
    {
     "data": {
      "text/html": [
       "<style>\n",
       "div.input {\n",
       "    display:none;\n",
       "}\n",
       "</style>\n"
      ],
      "text/plain": [
       "<IPython.core.display.HTML object>"
      ]
     },
     "metadata": {},
     "output_type": "display_data"
    }
   ],
   "source": [
    "%%html\n",
    "<style>\n",
    "div.input {\n",
    "    display:none;\n",
    "}\n",
    "</style>"
   ]
  }
 ],
 "metadata": {
  "kernelspec": {
   "display_name": "Python 3",
   "language": "python",
   "name": "python3"
  },
  "language_info": {
   "codemirror_mode": {
    "name": "ipython",
    "version": 3
   },
   "file_extension": ".py",
   "mimetype": "text/x-python",
   "name": "python",
   "nbconvert_exporter": "python",
   "pygments_lexer": "ipython3",
   "version": "3.8.7"
  },
  "papermill": {
   "duration": 6.296617,
   "end_time": "2021-02-06T10:11:41.254823",
   "environment_variables": {},
   "exception": null,
   "input_path": "DunnCounty_COVID19.ipynb",
   "output_path": "DunnCounty_COVID19.ipynb",
   "parameters": {
    "Start": "True",
    "secretsPath": "/home/runner/work/_temp/secrets.json"
   },
   "start_time": "2021-02-06T10:11:34.958206",
   "version": "1.1.16"
  }
 },
 "nbformat": 4,
 "nbformat_minor": 5
}