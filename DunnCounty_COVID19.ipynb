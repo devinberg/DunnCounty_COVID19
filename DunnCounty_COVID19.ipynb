{
 "cells": [
  {
   "cell_type": "code",
   "execution_count": 1,
   "metadata": {
    "execution": {
     "iopub.execute_input": "2020-12-21T10:16:04.168801Z",
     "iopub.status.busy": "2020-12-21T10:16:04.168124Z",
     "iopub.status.idle": "2020-12-21T10:16:06.652428Z",
     "shell.execute_reply": "2020-12-21T10:16:06.651759Z"
    },
    "jupyter": {
     "source_hidden": true
    },
    "papermill": {
     "duration": 2.503167,
     "end_time": "2020-12-21T10:16:06.652630",
     "exception": false,
     "start_time": "2020-12-21T10:16:04.149463",
     "status": "completed"
    },
    "scrolled": true,
    "tags": [
     "hide-input"
    ]
   },
   "outputs": [],
   "source": [
    "import pandas as pd\n",
    "import matplotlib.pyplot as plt\n",
    "from matplotlib import dates\n",
    "from IPython.display import display, Markdown\n",
    "%matplotlib inline"
   ]
  },
  {
   "cell_type": "code",
   "execution_count": 2,
   "metadata": {
    "execution": {
     "iopub.execute_input": "2020-12-21T10:16:06.676466Z",
     "iopub.status.busy": "2020-12-21T10:16:06.675760Z",
     "iopub.status.idle": "2020-12-21T10:16:07.462021Z",
     "shell.execute_reply": "2020-12-21T10:16:07.462525Z"
    },
    "jupyter": {
     "source_hidden": true
    },
    "papermill": {
     "duration": 0.801095,
     "end_time": "2020-12-21T10:16:07.462718",
     "exception": false,
     "start_time": "2020-12-21T10:16:06.661623",
     "status": "completed"
    },
    "scrolled": true,
    "tags": [
     "hide-input"
    ]
   },
   "outputs": [],
   "source": [
    "# This is the data for all of Wisconsin.\n",
    "url = \"https://opendata.arcgis.com/datasets/5374188992374b318d3e2305216ee413_12.csv\"\n",
    "data = pd.read_csv(url, parse_dates=['DATE'], low_memory=False)"
   ]
  },
  {
   "cell_type": "code",
   "execution_count": 3,
   "metadata": {
    "execution": {
     "iopub.execute_input": "2020-12-21T10:16:07.491125Z",
     "iopub.status.busy": "2020-12-21T10:16:07.489634Z",
     "iopub.status.idle": "2020-12-21T10:16:07.499612Z",
     "shell.execute_reply": "2020-12-21T10:16:07.500158Z"
    },
    "jupyter": {
     "source_hidden": true
    },
    "papermill": {
     "duration": 0.026577,
     "end_time": "2020-12-21T10:16:07.500343",
     "exception": false,
     "start_time": "2020-12-21T10:16:07.473766",
     "status": "completed"
    },
    "scrolled": true,
    "tags": [
     "hide-input"
    ]
   },
   "outputs": [],
   "source": [
    "dc = data.groupby('NAME').get_group('Dunn').sort_values(by='DATE') # Select the data for Dunn County from the full data.\n",
    "PNi = dc.columns.get_loc(\"POS_NEW\")\n",
    "dc['7_DAY'] = dc.iloc[:,PNi].rolling(window=7).mean() # Calculates the rolling 7-day average of new cases.\n",
    "dc['14_DAY'] = dc.iloc[:,PNi].rolling(window=14).mean() # Calculates the rolling 14-day average of new cases."
   ]
  },
  {
   "cell_type": "code",
   "execution_count": 4,
   "metadata": {
    "execution": {
     "iopub.execute_input": "2020-12-21T10:16:07.520923Z",
     "iopub.status.busy": "2020-12-21T10:16:07.520051Z",
     "iopub.status.idle": "2020-12-21T10:16:07.530661Z",
     "shell.execute_reply": "2020-12-21T10:16:07.531209Z"
    },
    "jupyter": {
     "source_hidden": true
    },
    "papermill": {
     "duration": 0.023068,
     "end_time": "2020-12-21T10:16:07.531376",
     "exception": false,
     "start_time": "2020-12-21T10:16:07.508308",
     "status": "completed"
    },
    "scrolled": true,
    "tags": [
     "hide-input"
    ]
   },
   "outputs": [
    {
     "data": {
      "text/markdown": [
       "### Last updated: December 20, 2020"
      ],
      "text/plain": [
       "<IPython.core.display.Markdown object>"
      ]
     },
     "metadata": {},
     "output_type": "display_data"
    }
   ],
   "source": [
    "display(Markdown('### Last updated: ' + dc.iloc[-1]['DATE'].strftime(\"%B %d, %Y\")))"
   ]
  },
  {
   "cell_type": "code",
   "execution_count": 5,
   "metadata": {
    "execution": {
     "iopub.execute_input": "2020-12-21T10:16:07.556121Z",
     "iopub.status.busy": "2020-12-21T10:16:07.555461Z",
     "iopub.status.idle": "2020-12-21T10:16:07.558742Z",
     "shell.execute_reply": "2020-12-21T10:16:07.559411Z"
    },
    "jupyter": {
     "source_hidden": true
    },
    "papermill": {
     "duration": 0.019021,
     "end_time": "2020-12-21T10:16:07.559593",
     "exception": false,
     "start_time": "2020-12-21T10:16:07.540572",
     "status": "completed"
    },
    "tags": [
     "hide-input"
    ]
   },
   "outputs": [
    {
     "data": {
      "text/markdown": [
       "# Dunn County has 3313 total positive cases, with 23 new cases reported today."
      ],
      "text/plain": [
       "<IPython.core.display.Markdown object>"
      ]
     },
     "metadata": {},
     "output_type": "display_data"
    }
   ],
   "source": [
    "display(Markdown('# Dunn County has ' + str(dc.iloc[-1]['POSITIVE']) + ' total positive cases, with '+ str(int(dc.iloc[-1]['POS_NEW'])) + ' new cases reported today.'))"
   ]
  },
  {
   "cell_type": "code",
   "execution_count": 6,
   "metadata": {
    "execution": {
     "iopub.execute_input": "2020-12-21T10:16:07.584189Z",
     "iopub.status.busy": "2020-12-21T10:16:07.583479Z",
     "iopub.status.idle": "2020-12-21T10:16:07.889767Z",
     "shell.execute_reply": "2020-12-21T10:16:07.889228Z"
    },
    "jupyter": {
     "source_hidden": true
    },
    "papermill": {
     "duration": 0.320855,
     "end_time": "2020-12-21T10:16:07.889916",
     "exception": false,
     "start_time": "2020-12-21T10:16:07.569061",
     "status": "completed"
    },
    "scrolled": false,
    "tags": [
     "hide-input"
    ]
   },
   "outputs": [
    {
     "data": {
      "image/png": "[encoded data removed]",
      "text/plain": [
       "<Figure size 864x432 with 1 Axes>"
      ]
     },
     "metadata": {
      "needs_background": "light"
     },
     "output_type": "display_data"
    }
   ],
   "source": [
    "dc.plot(x='DATE',y='POSITIVE',color='red',grid='True',figsize=(12,6)).set_xlabel('Date');"
   ]
  },
  {
   "cell_type": "markdown",
   "metadata": {
    "papermill": {
     "duration": 0.009456,
     "end_time": "2020-12-21T10:16:07.909654",
     "exception": false,
     "start_time": "2020-12-21T10:16:07.900198",
     "status": "completed"
    },
    "tags": []
   },
   "source": [
    "## Figure 1: Cummulative number of positive cases."
   ]
  },
  {
   "cell_type": "code",
   "execution_count": 7,
   "metadata": {
    "execution": {
     "iopub.execute_input": "2020-12-21T10:16:07.936018Z",
     "iopub.status.busy": "2020-12-21T10:16:07.935338Z",
     "iopub.status.idle": "2020-12-21T10:16:08.227008Z",
     "shell.execute_reply": "2020-12-21T10:16:08.227555Z"
    },
    "jupyter": {
     "source_hidden": true
    },
    "papermill": {
     "duration": 0.30763,
     "end_time": "2020-12-21T10:16:08.227749",
     "exception": false,
     "start_time": "2020-12-21T10:16:07.920119",
     "status": "completed"
    },
    "scrolled": false,
    "tags": [
     "hide-input"
    ]
   },
   "outputs": [
    {
     "data": {
      "image/png": "[encoded data removed]",
      "text/plain": [
       "<Figure size 864x432 with 1 Axes>"
      ]
     },
     "metadata": {
      "needs_background": "light"
     },
     "output_type": "display_data"
    }
   ],
   "source": [
    "dc.plot(kind='line',x='DATE',y='7_DAY',color='blue',grid='True',figsize=(12,6)).set_xlabel('Date');"
   ]
  },
  {
   "cell_type": "markdown",
   "metadata": {
    "papermill": {
     "duration": 0.013338,
     "end_time": "2020-12-21T10:16:08.251561",
     "exception": false,
     "start_time": "2020-12-21T10:16:08.238223",
     "status": "completed"
    },
    "tags": []
   },
   "source": [
    "## Figure 2: Rolling 7-day average of daily new cases."
   ]
  },
  {
   "cell_type": "code",
   "execution_count": 8,
   "metadata": {
    "execution": {
     "iopub.execute_input": "2020-12-21T10:16:08.281378Z",
     "iopub.status.busy": "2020-12-21T10:16:08.280741Z",
     "iopub.status.idle": "2020-12-21T10:16:08.570366Z",
     "shell.execute_reply": "2020-12-21T10:16:08.570972Z"
    },
    "jupyter": {
     "source_hidden": true
    },
    "papermill": {
     "duration": 0.306712,
     "end_time": "2020-12-21T10:16:08.571152",
     "exception": false,
     "start_time": "2020-12-21T10:16:08.264440",
     "status": "completed"
    },
    "tags": []
   },
   "outputs": [
    {
     "data": {
      "image/png": "[encoded data removed]",
      "text/plain": [
       "<Figure size 864x432 with 1 Axes>"
      ]
     },
     "metadata": {
      "needs_background": "light"
     },
     "output_type": "display_data"
    }
   ],
   "source": [
    "dc.plot(kind='line',x='DATE',y='14_DAY',color='green',grid='True',figsize=(12,6)).set_xlabel('Date');"
   ]
  },
  {
   "cell_type": "markdown",
   "metadata": {
    "papermill": {
     "duration": 0.012545,
     "end_time": "2020-12-21T10:16:08.595557",
     "exception": false,
     "start_time": "2020-12-21T10:16:08.583012",
     "status": "completed"
    },
    "tags": []
   },
   "source": [
    "## Figure 3: Rolling 14-day average of daily new cases."
   ]
  },
  {
   "cell_type": "markdown",
   "metadata": {
    "papermill": {
     "duration": 0.011272,
     "end_time": "2020-12-21T10:16:08.618579",
     "exception": false,
     "start_time": "2020-12-21T10:16:08.607307",
     "status": "completed"
    },
    "tags": []
   },
   "source": [
    "Data source: [Wisconsin Department of Health Services](https://data.dhsgis.wi.gov/datasets/covid-19-historical-data-table/)"
   ]
  },
  {
   "cell_type": "code",
   "execution_count": 9,
   "metadata": {
    "execution": {
     "iopub.execute_input": "2020-12-21T10:16:08.647004Z",
     "iopub.status.busy": "2020-12-21T10:16:08.646355Z",
     "iopub.status.idle": "2020-12-21T10:16:08.649178Z",
     "shell.execute_reply": "2020-12-21T10:16:08.649714Z"
    },
    "jupyter": {
     "source_hidden": true
    },
    "papermill": {
     "duration": 0.019935,
     "end_time": "2020-12-21T10:16:08.649915",
     "exception": false,
     "start_time": "2020-12-21T10:16:08.629980",
     "status": "completed"
    },
    "tags": []
   },
   "outputs": [
    {
     "data": {
      "text/html": [
       "<style>\n",
       "div.input {\n",
       "    display:none;\n",
       "}\n",
       "</style>\n"
      ],
      "text/plain": [
       "<IPython.core.display.HTML object>"
      ]
     },
     "metadata": {},
     "output_type": "display_data"
    }
   ],
   "source": [
    "%%html\n",
    "<style>\n",
    "div.input {\n",
    "    display:none;\n",
    "}\n",
    "</style>"
   ]
  }
 ],
 "metadata": {
  "kernelspec": {
   "display_name": "Python 3",
   "language": "python",
   "name": "python3"
  },
  "language_info": {
   "codemirror_mode": {
    "name": "ipython",
    "version": 3
   },
   "file_extension": ".py",
   "mimetype": "text/x-python",
   "name": "python",
   "nbconvert_exporter": "python",
   "pygments_lexer": "ipython3",
   "version": "3.8.6"
  },
  "papermill": {
   "duration": 6.358063,
   "end_time": "2020-12-21T10:16:08.969751",
   "environment_variables": {},
   "exception": null,
   "input_path": "DunnCounty_COVID19.ipynb",
   "output_path": "DunnCounty_COVID19.ipynb",
   "parameters": {
    "Start": "True",
    "secretsPath": "/home/runner/work/_temp/secrets.json"
   },
   "start_time": "2020-12-21T10:16:02.611688",
   "version": "1.1.16"
  }
 },
 "nbformat": 4,
 "nbformat_minor": 2
}