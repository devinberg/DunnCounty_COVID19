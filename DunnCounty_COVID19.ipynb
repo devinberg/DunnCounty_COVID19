{
 "cells": [
  {
   "cell_type": "code",
   "execution_count": 1,
   "id": "solar-understanding",
   "metadata": {
    "execution": {
     "iopub.execute_input": "2021-07-09T10:12:37.655639Z",
     "iopub.status.busy": "2021-07-09T10:12:37.655173Z",
     "iopub.status.idle": "2021-07-09T10:12:38.467626Z",
     "shell.execute_reply": "2021-07-09T10:12:38.467050Z"
    },
    "jupyter": {
     "source_hidden": true
    },
    "papermill": {
     "duration": 0.831015,
     "end_time": "2021-07-09T10:12:38.467767",
     "exception": false,
     "start_time": "2021-07-09T10:12:37.636752",
     "status": "completed"
    },
    "scrolled": true,
    "tags": [
     "hide-input"
    ]
   },
   "outputs": [],
   "source": [
    "import pandas as pd\n",
    "import matplotlib.pyplot as plt\n",
    "from matplotlib import dates\n",
    "from IPython.display import display, Markdown\n",
    "%matplotlib inline"
   ]
  },
  {
   "cell_type": "code",
   "execution_count": 2,
   "id": "purple-playlist",
   "metadata": {
    "execution": {
     "iopub.execute_input": "2021-07-09T10:12:38.489344Z",
     "iopub.status.busy": "2021-07-09T10:12:38.488867Z",
     "iopub.status.idle": "2021-07-09T10:12:39.729476Z",
     "shell.execute_reply": "2021-07-09T10:12:39.729846Z"
    },
    "jupyter": {
     "source_hidden": true
    },
    "papermill": {
     "duration": 1.253771,
     "end_time": "2021-07-09T10:12:39.730005",
     "exception": false,
     "start_time": "2021-07-09T10:12:38.476234",
     "status": "completed"
    },
    "scrolled": true,
    "tags": [
     "hide-input"
    ]
   },
   "outputs": [],
   "source": [
    "# This is the data for all of Wisconsin.\n",
    "url = \"https://opendata.arcgis.com/api/v3/datasets/3161f6e01d8141c6abe85a29ff7f3d3c_12/downloads/data?format=csv&spatialRefId=3857\"\n",
    "data = pd.read_csv(url, parse_dates=['DATE'], low_memory=False)"
   ]
  },
  {
   "cell_type": "code",
   "execution_count": 3,
   "id": "proprietary-klein",
   "metadata": {
    "execution": {
     "iopub.execute_input": "2021-07-09T10:12:39.755865Z",
     "iopub.status.busy": "2021-07-09T10:12:39.755384Z",
     "iopub.status.idle": "2021-07-09T10:12:39.761976Z",
     "shell.execute_reply": "2021-07-09T10:12:39.761599Z"
    },
    "jupyter": {
     "source_hidden": true
    },
    "papermill": {
     "duration": 0.024076,
     "end_time": "2021-07-09T10:12:39.762081",
     "exception": false,
     "start_time": "2021-07-09T10:12:39.738005",
     "status": "completed"
    },
    "scrolled": true,
    "tags": [
     "hide-input"
    ]
   },
   "outputs": [],
   "source": [
    "dc = data.groupby('NAME').get_group('Dunn').sort_values(by='DATE') # Select the data for Dunn County from the full data.\n",
    "PNi = dc.columns.get_loc(\"POS_NEW\")\n",
    "dc['7_DAY'] = dc.iloc[:,PNi].rolling(window=7).mean() # Calculates the rolling 7-day average of new cases.\n",
    "dc['14_DAY'] = dc.iloc[:,PNi].rolling(window=14).mean() # Calculates the rolling 14-day average of new cases."
   ]
  },
  {
   "cell_type": "code",
   "execution_count": 4,
   "id": "steady-supervision",
   "metadata": {
    "execution": {
     "iopub.execute_input": "2021-07-09T10:12:39.783115Z",
     "iopub.status.busy": "2021-07-09T10:12:39.782661Z",
     "iopub.status.idle": "2021-07-09T10:12:39.786326Z",
     "shell.execute_reply": "2021-07-09T10:12:39.785961Z"
    },
    "jupyter": {
     "source_hidden": true
    },
    "papermill": {
     "duration": 0.016766,
     "end_time": "2021-07-09T10:12:39.786445",
     "exception": false,
     "start_time": "2021-07-09T10:12:39.769679",
     "status": "completed"
    },
    "scrolled": true,
    "tags": [
     "hide-input"
    ]
   },
   "outputs": [
    {
     "data": {
      "text/markdown": [
       "### Last updated: July 08, 2021"
      ],
      "text/plain": [
       "<IPython.core.display.Markdown object>"
      ]
     },
     "metadata": {},
     "output_type": "display_data"
    }
   ],
   "source": [
    "display(Markdown('### Last updated: ' + dc.iloc[-1]['DATE'].strftime(\"%B %d, %Y\")))"
   ]
  },
  {
   "cell_type": "code",
   "execution_count": 5,
   "id": "lonely-pitch",
   "metadata": {
    "execution": {
     "iopub.execute_input": "2021-07-09T10:12:39.808313Z",
     "iopub.status.busy": "2021-07-09T10:12:39.807843Z",
     "iopub.status.idle": "2021-07-09T10:12:39.810093Z",
     "shell.execute_reply": "2021-07-09T10:12:39.810478Z"
    },
    "jupyter": {
     "source_hidden": true
    },
    "papermill": {
     "duration": 0.016231,
     "end_time": "2021-07-09T10:12:39.810594",
     "exception": false,
     "start_time": "2021-07-09T10:12:39.794363",
     "status": "completed"
    },
    "tags": [
     "hide-input"
    ]
   },
   "outputs": [
    {
     "data": {
      "text/markdown": [
       "# Dunn County has 4728 total positive cases, with 2 new cases reported today."
      ],
      "text/plain": [
       "<IPython.core.display.Markdown object>"
      ]
     },
     "metadata": {},
     "output_type": "display_data"
    }
   ],
   "source": [
    "display(Markdown('# Dunn County has ' + str(dc.iloc[-1]['POSITIVE']) + ' total positive cases, with '+ str(int(dc.iloc[-1]['POS_NEW'])) + ' new cases reported today.'))"
   ]
  },
  {
   "cell_type": "code",
   "execution_count": 6,
   "id": "compound-nightmare",
   "metadata": {
    "execution": {
     "iopub.execute_input": "2021-07-09T10:12:39.831081Z",
     "iopub.status.busy": "2021-07-09T10:12:39.830568Z",
     "iopub.status.idle": "2021-07-09T10:12:40.153032Z",
     "shell.execute_reply": "2021-07-09T10:12:40.152459Z"
    },
    "jupyter": {
     "source_hidden": true
    },
    "papermill": {
     "duration": 0.334261,
     "end_time": "2021-07-09T10:12:40.153169",
     "exception": false,
     "start_time": "2021-07-09T10:12:39.818908",
     "status": "completed"
    },
    "scrolled": false,
    "tags": [
     "hide-input"
    ]
   },
   "outputs": [
    {
     "data": {
      "image/png": "[encoded data removed]",
      "text/plain": [
       "<Figure size 864x432 with 1 Axes>"
      ]
     },
     "metadata": {
      "needs_background": "light"
     },
     "output_type": "display_data"
    }
   ],
   "source": [
    "dc.plot(x='DATE',y='POSITIVE',color='red',grid='True',figsize=(12,6)).set_xlabel('Date');"
   ]
  },
  {
   "cell_type": "markdown",
   "id": "coupled-literacy",
   "metadata": {
    "papermill": {
     "duration": 0.00934,
     "end_time": "2021-07-09T10:12:40.172322",
     "exception": false,
     "start_time": "2021-07-09T10:12:40.162982",
     "status": "completed"
    },
    "tags": []
   },
   "source": [
    "## Figure 1: Cummulative number of positive cases."
   ]
  },
  {
   "cell_type": "code",
   "execution_count": 7,
   "id": "surrounded-reserve",
   "metadata": {
    "execution": {
     "iopub.execute_input": "2021-07-09T10:12:40.194945Z",
     "iopub.status.busy": "2021-07-09T10:12:40.194478Z",
     "iopub.status.idle": "2021-07-09T10:12:40.384773Z",
     "shell.execute_reply": "2021-07-09T10:12:40.385197Z"
    },
    "jupyter": {
     "source_hidden": true
    },
    "papermill": {
     "duration": 0.204008,
     "end_time": "2021-07-09T10:12:40.385351",
     "exception": false,
     "start_time": "2021-07-09T10:12:40.181343",
     "status": "completed"
    },
    "scrolled": false,
    "tags": [
     "hide-input"
    ]
   },
   "outputs": [
    {
     "data": {
      "image/png": "[encoded data removed]",
      "text/plain": [
       "<Figure size 864x432 with 1 Axes>"
      ]
     },
     "metadata": {
      "needs_background": "light"
     },
     "output_type": "display_data"
    }
   ],
   "source": [
    "dc.plot(kind='line',x='DATE',y='7_DAY',color='blue',grid='True',figsize=(12,6)).set_xlabel('Date');"
   ]
  },
  {
   "cell_type": "markdown",
   "id": "professional-savannah",
   "metadata": {
    "papermill": {
     "duration": 0.010577,
     "end_time": "2021-07-09T10:12:40.407001",
     "exception": false,
     "start_time": "2021-07-09T10:12:40.396424",
     "status": "completed"
    },
    "tags": []
   },
   "source": [
    "## Figure 2: Rolling 7-day average of daily new cases."
   ]
  },
  {
   "cell_type": "code",
   "execution_count": 8,
   "id": "stretch-investor",
   "metadata": {
    "execution": {
     "iopub.execute_input": "2021-07-09T10:12:40.431615Z",
     "iopub.status.busy": "2021-07-09T10:12:40.431162Z",
     "iopub.status.idle": "2021-07-09T10:12:40.614255Z",
     "shell.execute_reply": "2021-07-09T10:12:40.614650Z"
    },
    "jupyter": {
     "source_hidden": true
    },
    "papermill": {
     "duration": 0.197744,
     "end_time": "2021-07-09T10:12:40.614793",
     "exception": false,
     "start_time": "2021-07-09T10:12:40.417049",
     "status": "completed"
    },
    "tags": []
   },
   "outputs": [
    {
     "data": {
      "image/png": "[encoded data removed]",
      "text/plain": [
       "<Figure size 864x432 with 1 Axes>"
      ]
     },
     "metadata": {
      "needs_background": "light"
     },
     "output_type": "display_data"
    }
   ],
   "source": [
    "dc.plot(kind='line',x='DATE',y='14_DAY',color='green',grid='True',figsize=(12,6)).set_xlabel('Date');"
   ]
  },
  {
   "cell_type": "markdown",
   "id": "prerequisite-species",
   "metadata": {
    "papermill": {
     "duration": 0.010933,
     "end_time": "2021-07-09T10:12:40.637721",
     "exception": false,
     "start_time": "2021-07-09T10:12:40.626788",
     "status": "completed"
    },
    "tags": []
   },
   "source": [
    "## Figure 3: Rolling 14-day average of daily new cases."
   ]
  },
  {
   "cell_type": "markdown",
   "id": "palestinian-guard",
   "metadata": {
    "papermill": {
     "duration": 0.010816,
     "end_time": "2021-07-09T10:12:40.659278",
     "exception": false,
     "start_time": "2021-07-09T10:12:40.648462",
     "status": "completed"
    },
    "tags": []
   },
   "source": [
    "Data source: [Wisconsin Department of Health Services](https://data.dhsgis.wi.gov/datasets/wi-dhs::covid-19-historical-data-by-county-1)"
   ]
  },
  {
   "cell_type": "code",
   "execution_count": 9,
   "id": "proof-medicare",
   "metadata": {
    "execution": {
     "iopub.execute_input": "2021-07-09T10:12:40.685763Z",
     "iopub.status.busy": "2021-07-09T10:12:40.685290Z",
     "iopub.status.idle": "2021-07-09T10:12:40.687984Z",
     "shell.execute_reply": "2021-07-09T10:12:40.687589Z"
    },
    "jupyter": {
     "source_hidden": true
    },
    "papermill": {
     "duration": 0.017923,
     "end_time": "2021-07-09T10:12:40.688080",
     "exception": false,
     "start_time": "2021-07-09T10:12:40.670157",
     "status": "completed"
    },
    "tags": []
   },
   "outputs": [
    {
     "data": {
      "text/html": [
       "<style>\n",
       "div.input {\n",
       "    display:none;\n",
       "}\n",
       "</style>\n"
      ],
      "text/plain": [
       "<IPython.core.display.HTML object>"
      ]
     },
     "metadata": {},
     "output_type": "display_data"
    }
   ],
   "source": [
    "%%html\n",
    "<style>\n",
    "div.input {\n",
    "    display:none;\n",
    "}\n",
    "</style>"
   ]
  }
 ],
 "metadata": {
  "kernelspec": {
   "display_name": "Python 3",
   "language": "python",
   "name": "python3"
  },
  "language_info": {
   "codemirror_mode": {
    "name": "ipython",
    "version": 3
   },
   "file_extension": ".py",
   "mimetype": "text/x-python",
   "name": "python",
   "nbconvert_exporter": "python",
   "pygments_lexer": "ipython3",
   "version": "3.8.10"
  },
  "papermill": {
   "duration": 5.512867,
   "end_time": "2021-07-09T10:12:41.804442",
   "environment_variables": {},
   "exception": null,
   "input_path": "DunnCounty_COVID19.ipynb",
   "output_path": "DunnCounty_COVID19.ipynb",
   "parameters": {
    "Start": "True",
    "secretsPath": "/home/runner/work/_temp/secrets.json"
   },
   "start_time": "2021-07-09T10:12:36.291575",
   "version": "1.1.16"
  }
 },
 "nbformat": 4,
 "nbformat_minor": 5
}