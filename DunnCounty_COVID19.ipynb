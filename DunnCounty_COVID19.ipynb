{
 "cells": [
  {
   "cell_type": "code",
   "execution_count": 1,
   "id": "solar-understanding",
   "metadata": {
    "execution": {
     "iopub.execute_input": "2021-05-28T10:41:26.230370Z",
     "iopub.status.busy": "2021-05-28T10:41:26.229754Z",
     "iopub.status.idle": "2021-05-28T10:41:27.242673Z",
     "shell.execute_reply": "2021-05-28T10:41:27.243154Z"
    },
    "jupyter": {
     "source_hidden": true
    },
    "papermill": {
     "duration": 1.034365,
     "end_time": "2021-05-28T10:41:27.243420",
     "exception": false,
     "start_time": "2021-05-28T10:41:26.209055",
     "status": "completed"
    },
    "scrolled": true,
    "tags": [
     "hide-input"
    ]
   },
   "outputs": [],
   "source": [
    "import pandas as pd\n",
    "import matplotlib.pyplot as plt\n",
    "from matplotlib import dates\n",
    "from IPython.display import display, Markdown\n",
    "%matplotlib inline"
   ]
  },
  {
   "cell_type": "code",
   "execution_count": 2,
   "id": "purple-playlist",
   "metadata": {
    "execution": {
     "iopub.execute_input": "2021-05-28T10:41:27.269648Z",
     "iopub.status.busy": "2021-05-28T10:41:27.268998Z",
     "iopub.status.idle": "2021-05-28T10:41:28.245302Z",
     "shell.execute_reply": "2021-05-28T10:41:28.245773Z"
    },
    "jupyter": {
     "source_hidden": true
    },
    "papermill": {
     "duration": 0.992623,
     "end_time": "2021-05-28T10:41:28.245952",
     "exception": false,
     "start_time": "2021-05-28T10:41:27.253329",
     "status": "completed"
    },
    "scrolled": true,
    "tags": [
     "hide-input"
    ]
   },
   "outputs": [],
   "source": [
    "# This is the data for all of Wisconsin.\n",
    "url = \"https://opendata.arcgis.com/datasets/80ff9d4897db4d7692f0f4ad28447cab_12.csv\"\n",
    "data = pd.read_csv(url, parse_dates=['DATE'], low_memory=False)"
   ]
  },
  {
   "cell_type": "code",
   "execution_count": 3,
   "id": "proprietary-klein",
   "metadata": {
    "execution": {
     "iopub.execute_input": "2021-05-28T10:41:28.271573Z",
     "iopub.status.busy": "2021-05-28T10:41:28.270981Z",
     "iopub.status.idle": "2021-05-28T10:41:28.283975Z",
     "shell.execute_reply": "2021-05-28T10:41:28.284440Z"
    },
    "jupyter": {
     "source_hidden": true
    },
    "papermill": {
     "duration": 0.028674,
     "end_time": "2021-05-28T10:41:28.284609",
     "exception": false,
     "start_time": "2021-05-28T10:41:28.255935",
     "status": "completed"
    },
    "scrolled": true,
    "tags": [
     "hide-input"
    ]
   },
   "outputs": [],
   "source": [
    "dc = data.groupby('NAME').get_group('Dunn').sort_values(by='DATE') # Select the data for Dunn County from the full data.\n",
    "PNi = dc.columns.get_loc(\"POS_NEW\")\n",
    "dc['7_DAY'] = dc.iloc[:,PNi].rolling(window=7).mean() # Calculates the rolling 7-day average of new cases.\n",
    "dc['14_DAY'] = dc.iloc[:,PNi].rolling(window=14).mean() # Calculates the rolling 14-day average of new cases."
   ]
  },
  {
   "cell_type": "code",
   "execution_count": 4,
   "id": "steady-supervision",
   "metadata": {
    "execution": {
     "iopub.execute_input": "2021-05-28T10:41:28.310573Z",
     "iopub.status.busy": "2021-05-28T10:41:28.309996Z",
     "iopub.status.idle": "2021-05-28T10:41:28.313545Z",
     "shell.execute_reply": "2021-05-28T10:41:28.313069Z"
    },
    "jupyter": {
     "source_hidden": true
    },
    "papermill": {
     "duration": 0.019654,
     "end_time": "2021-05-28T10:41:28.313670",
     "exception": false,
     "start_time": "2021-05-28T10:41:28.294016",
     "status": "completed"
    },
    "scrolled": true,
    "tags": [
     "hide-input"
    ]
   },
   "outputs": [
    {
     "data": {
      "text/markdown": [
       "### Last updated: May 27, 2021"
      ],
      "text/plain": [
       "<IPython.core.display.Markdown object>"
      ]
     },
     "metadata": {},
     "output_type": "display_data"
    }
   ],
   "source": [
    "display(Markdown('### Last updated: ' + dc.iloc[-1]['DATE'].strftime(\"%B %d, %Y\")))"
   ]
  },
  {
   "cell_type": "code",
   "execution_count": 5,
   "id": "lonely-pitch",
   "metadata": {
    "execution": {
     "iopub.execute_input": "2021-05-28T10:41:28.340495Z",
     "iopub.status.busy": "2021-05-28T10:41:28.339912Z",
     "iopub.status.idle": "2021-05-28T10:41:28.343307Z",
     "shell.execute_reply": "2021-05-28T10:41:28.342806Z"
    },
    "jupyter": {
     "source_hidden": true
    },
    "papermill": {
     "duration": 0.018714,
     "end_time": "2021-05-28T10:41:28.343465",
     "exception": false,
     "start_time": "2021-05-28T10:41:28.324751",
     "status": "completed"
    },
    "tags": [
     "hide-input"
    ]
   },
   "outputs": [
    {
     "data": {
      "text/markdown": [
       "# Dunn County has 4683 total positive cases, with 2 new cases reported today."
      ],
      "text/plain": [
       "<IPython.core.display.Markdown object>"
      ]
     },
     "metadata": {},
     "output_type": "display_data"
    }
   ],
   "source": [
    "display(Markdown('# Dunn County has ' + str(dc.iloc[-1]['POSITIVE']) + ' total positive cases, with '+ str(int(dc.iloc[-1]['POS_NEW'])) + ' new cases reported today.'))"
   ]
  },
  {
   "cell_type": "code",
   "execution_count": 6,
   "id": "compound-nightmare",
   "metadata": {
    "execution": {
     "iopub.execute_input": "2021-05-28T10:41:28.368609Z",
     "iopub.status.busy": "2021-05-28T10:41:28.368030Z",
     "iopub.status.idle": "2021-05-28T10:41:28.677704Z",
     "shell.execute_reply": "2021-05-28T10:41:28.678182Z"
    },
    "jupyter": {
     "source_hidden": true
    },
    "papermill": {
     "duration": 0.324373,
     "end_time": "2021-05-28T10:41:28.678345",
     "exception": false,
     "start_time": "2021-05-28T10:41:28.353972",
     "status": "completed"
    },
    "scrolled": false,
    "tags": [
     "hide-input"
    ]
   },
   "outputs": [
    {
     "data": {
      "image/png": "[encoded data removed]",
      "text/plain": [
       "<Figure size 864x432 with 1 Axes>"
      ]
     },
     "metadata": {
      "needs_background": "light"
     },
     "output_type": "display_data"
    }
   ],
   "source": [
    "dc.plot(x='DATE',y='POSITIVE',color='red',grid='True',figsize=(12,6)).set_xlabel('Date');"
   ]
  },
  {
   "cell_type": "markdown",
   "id": "coupled-literacy",
   "metadata": {
    "papermill": {
     "duration": 0.011009,
     "end_time": "2021-05-28T10:41:28.700464",
     "exception": false,
     "start_time": "2021-05-28T10:41:28.689455",
     "status": "completed"
    },
    "tags": []
   },
   "source": [
    "## Figure 1: Cummulative number of positive cases."
   ]
  },
  {
   "cell_type": "code",
   "execution_count": 7,
   "id": "surrounded-reserve",
   "metadata": {
    "execution": {
     "iopub.execute_input": "2021-05-28T10:41:28.728238Z",
     "iopub.status.busy": "2021-05-28T10:41:28.727646Z",
     "iopub.status.idle": "2021-05-28T10:41:28.979061Z",
     "shell.execute_reply": "2021-05-28T10:41:28.977892Z"
    },
    "jupyter": {
     "source_hidden": true
    },
    "papermill": {
     "duration": 0.267759,
     "end_time": "2021-05-28T10:41:28.979197",
     "exception": false,
     "start_time": "2021-05-28T10:41:28.711438",
     "status": "completed"
    },
    "scrolled": false,
    "tags": [
     "hide-input"
    ]
   },
   "outputs": [
    {
     "data": {
      "image/png": "[encoded data removed]",
      "text/plain": [
       "<Figure size 864x432 with 1 Axes>"
      ]
     },
     "metadata": {
      "needs_background": "light"
     },
     "output_type": "display_data"
    }
   ],
   "source": [
    "dc.plot(kind='line',x='DATE',y='7_DAY',color='blue',grid='True',figsize=(12,6)).set_xlabel('Date');"
   ]
  },
  {
   "cell_type": "markdown",
   "id": "professional-savannah",
   "metadata": {
    "papermill": {
     "duration": 0.012069,
     "end_time": "2021-05-28T10:41:29.003402",
     "exception": false,
     "start_time": "2021-05-28T10:41:28.991333",
     "status": "completed"
    },
    "tags": []
   },
   "source": [
    "## Figure 2: Rolling 7-day average of daily new cases."
   ]
  },
  {
   "cell_type": "code",
   "execution_count": 8,
   "id": "stretch-investor",
   "metadata": {
    "execution": {
     "iopub.execute_input": "2021-05-28T10:41:29.034480Z",
     "iopub.status.busy": "2021-05-28T10:41:29.033893Z",
     "iopub.status.idle": "2021-05-28T10:41:29.290338Z",
     "shell.execute_reply": "2021-05-28T10:41:29.290822Z"
    },
    "jupyter": {
     "source_hidden": true
    },
    "papermill": {
     "duration": 0.275749,
     "end_time": "2021-05-28T10:41:29.290987",
     "exception": false,
     "start_time": "2021-05-28T10:41:29.015238",
     "status": "completed"
    },
    "tags": []
   },
   "outputs": [
    {
     "data": {
      "image/png": "[encoded data removed]",
      "text/plain": [
       "<Figure size 864x432 with 1 Axes>"
      ]
     },
     "metadata": {
      "needs_background": "light"
     },
     "output_type": "display_data"
    }
   ],
   "source": [
    "dc.plot(kind='line',x='DATE',y='14_DAY',color='green',grid='True',figsize=(12,6)).set_xlabel('Date');"
   ]
  },
  {
   "cell_type": "markdown",
   "id": "prerequisite-species",
   "metadata": {
    "papermill": {
     "duration": 0.013603,
     "end_time": "2021-05-28T10:41:29.317672",
     "exception": false,
     "start_time": "2021-05-28T10:41:29.304069",
     "status": "completed"
    },
    "tags": []
   },
   "source": [
    "## Figure 3: Rolling 14-day average of daily new cases."
   ]
  },
  {
   "cell_type": "markdown",
   "id": "palestinian-guard",
   "metadata": {
    "papermill": {
     "duration": 0.012578,
     "end_time": "2021-05-28T10:41:29.344000",
     "exception": false,
     "start_time": "2021-05-28T10:41:29.331422",
     "status": "completed"
    },
    "tags": []
   },
   "source": [
    "Data source: [Wisconsin Department of Health Services](https://data.dhsgis.wi.gov/datasets/covid-19-historical-data-by-county)"
   ]
  },
  {
   "cell_type": "code",
   "execution_count": 9,
   "id": "proof-medicare",
   "metadata": {
    "execution": {
     "iopub.execute_input": "2021-05-28T10:41:29.375939Z",
     "iopub.status.busy": "2021-05-28T10:41:29.375271Z",
     "iopub.status.idle": "2021-05-28T10:41:29.378606Z",
     "shell.execute_reply": "2021-05-28T10:41:29.378102Z"
    },
    "jupyter": {
     "source_hidden": true
    },
    "papermill": {
     "duration": 0.021024,
     "end_time": "2021-05-28T10:41:29.378726",
     "exception": false,
     "start_time": "2021-05-28T10:41:29.357702",
     "status": "completed"
    },
    "tags": []
   },
   "outputs": [
    {
     "data": {
      "text/html": [
       "<style>\n",
       "div.input {\n",
       "    display:none;\n",
       "}\n",
       "</style>\n"
      ],
      "text/plain": [
       "<IPython.core.display.HTML object>"
      ]
     },
     "metadata": {},
     "output_type": "display_data"
    }
   ],
   "source": [
    "%%html\n",
    "<style>\n",
    "div.input {\n",
    "    display:none;\n",
    "}\n",
    "</style>"
   ]
  }
 ],
 "metadata": {
  "kernelspec": {
   "display_name": "Python 3",
   "language": "python",
   "name": "python3"
  },
  "language_info": {
   "codemirror_mode": {
    "name": "ipython",
    "version": 3
   },
   "file_extension": ".py",
   "mimetype": "text/x-python",
   "name": "python",
   "nbconvert_exporter": "python",
   "pygments_lexer": "ipython3",
   "version": "3.8.10"
  },
  "papermill": {
   "duration": 4.875689,
   "end_time": "2021-05-28T10:41:29.699661",
   "environment_variables": {},
   "exception": null,
   "input_path": "DunnCounty_COVID19.ipynb",
   "output_path": "DunnCounty_COVID19.ipynb",
   "parameters": {
    "Start": "True",
    "secretsPath": "/home/runner/work/_temp/secrets.json"
   },
   "start_time": "2021-05-28T10:41:24.823972",
   "version": "1.1.16"
  }
 },
 "nbformat": 4,
 "nbformat_minor": 5
}