{
 "cells": [
  {
   "cell_type": "code",
   "execution_count": 1,
   "id": "solar-understanding",
   "metadata": {
    "execution": {
     "iopub.execute_input": "2021-04-09T10:16:59.328150Z",
     "iopub.status.busy": "2021-04-09T10:16:59.327530Z",
     "iopub.status.idle": "2021-04-09T10:17:00.231615Z",
     "shell.execute_reply": "2021-04-09T10:17:00.230786Z"
    },
    "jupyter": {
     "source_hidden": true
    },
    "papermill": {
     "duration": 0.924981,
     "end_time": "2021-04-09T10:17:00.231766",
     "exception": false,
     "start_time": "2021-04-09T10:16:59.306785",
     "status": "completed"
    },
    "scrolled": true,
    "tags": [
     "hide-input"
    ]
   },
   "outputs": [],
   "source": [
    "import pandas as pd\n",
    "import matplotlib.pyplot as plt\n",
    "from matplotlib import dates\n",
    "from IPython.display import display, Markdown\n",
    "%matplotlib inline"
   ]
  },
  {
   "cell_type": "code",
   "execution_count": 2,
   "id": "purple-playlist",
   "metadata": {
    "execution": {
     "iopub.execute_input": "2021-04-09T10:17:00.256646Z",
     "iopub.status.busy": "2021-04-09T10:17:00.256029Z",
     "iopub.status.idle": "2021-04-09T10:17:00.966342Z",
     "shell.execute_reply": "2021-04-09T10:17:00.967110Z"
    },
    "jupyter": {
     "source_hidden": true
    },
    "papermill": {
     "duration": 0.726231,
     "end_time": "2021-04-09T10:17:00.967377",
     "exception": false,
     "start_time": "2021-04-09T10:17:00.241146",
     "status": "completed"
    },
    "scrolled": true,
    "tags": [
     "hide-input"
    ]
   },
   "outputs": [],
   "source": [
    "# This is the data for all of Wisconsin.\n",
    "url = \"https://opendata.arcgis.com/datasets/5374188992374b318d3e2305216ee413_12.csv\"\n",
    "data = pd.read_csv(url, parse_dates=['DATE'], low_memory=False)"
   ]
  },
  {
   "cell_type": "code",
   "execution_count": 3,
   "id": "proprietary-klein",
   "metadata": {
    "execution": {
     "iopub.execute_input": "2021-04-09T10:17:00.995071Z",
     "iopub.status.busy": "2021-04-09T10:17:00.994483Z",
     "iopub.status.idle": "2021-04-09T10:17:01.003559Z",
     "shell.execute_reply": "2021-04-09T10:17:01.003061Z"
    },
    "jupyter": {
     "source_hidden": true
    },
    "papermill": {
     "duration": 0.025118,
     "end_time": "2021-04-09T10:17:01.003696",
     "exception": false,
     "start_time": "2021-04-09T10:17:00.978578",
     "status": "completed"
    },
    "scrolled": true,
    "tags": [
     "hide-input"
    ]
   },
   "outputs": [],
   "source": [
    "dc = data.groupby('NAME').get_group('Dunn').sort_values(by='DATE') # Select the data for Dunn County from the full data.\n",
    "PNi = dc.columns.get_loc(\"POS_NEW\")\n",
    "dc['7_DAY'] = dc.iloc[:,PNi].rolling(window=7).mean() # Calculates the rolling 7-day average of new cases.\n",
    "dc['14_DAY'] = dc.iloc[:,PNi].rolling(window=14).mean() # Calculates the rolling 14-day average of new cases."
   ]
  },
  {
   "cell_type": "code",
   "execution_count": 4,
   "id": "steady-supervision",
   "metadata": {
    "execution": {
     "iopub.execute_input": "2021-04-09T10:17:01.031297Z",
     "iopub.status.busy": "2021-04-09T10:17:01.030483Z",
     "iopub.status.idle": "2021-04-09T10:17:01.033148Z",
     "shell.execute_reply": "2021-04-09T10:17:01.033584Z"
    },
    "jupyter": {
     "source_hidden": true
    },
    "papermill": {
     "duration": 0.020867,
     "end_time": "2021-04-09T10:17:01.033747",
     "exception": false,
     "start_time": "2021-04-09T10:17:01.012880",
     "status": "completed"
    },
    "scrolled": true,
    "tags": [
     "hide-input"
    ]
   },
   "outputs": [
    {
     "data": {
      "text/markdown": [
       "### Last updated: April 08, 2021"
      ],
      "text/plain": [
       "<IPython.core.display.Markdown object>"
      ]
     },
     "metadata": {},
     "output_type": "display_data"
    }
   ],
   "source": [
    "display(Markdown('### Last updated: ' + dc.iloc[-1]['DATE'].strftime(\"%B %d, %Y\")))"
   ]
  },
  {
   "cell_type": "code",
   "execution_count": 5,
   "id": "lonely-pitch",
   "metadata": {
    "execution": {
     "iopub.execute_input": "2021-04-09T10:17:01.058508Z",
     "iopub.status.busy": "2021-04-09T10:17:01.057951Z",
     "iopub.status.idle": "2021-04-09T10:17:01.061449Z",
     "shell.execute_reply": "2021-04-09T10:17:01.060958Z"
    },
    "jupyter": {
     "source_hidden": true
    },
    "papermill": {
     "duration": 0.018481,
     "end_time": "2021-04-09T10:17:01.061574",
     "exception": false,
     "start_time": "2021-04-09T10:17:01.043093",
     "status": "completed"
    },
    "tags": [
     "hide-input"
    ]
   },
   "outputs": [
    {
     "data": {
      "text/markdown": [
       "# Dunn County has 4472 total positive cases, with 12 new cases reported today."
      ],
      "text/plain": [
       "<IPython.core.display.Markdown object>"
      ]
     },
     "metadata": {},
     "output_type": "display_data"
    }
   ],
   "source": [
    "display(Markdown('# Dunn County has ' + str(dc.iloc[-1]['POSITIVE']) + ' total positive cases, with '+ str(int(dc.iloc[-1]['POS_NEW'])) + ' new cases reported today.'))"
   ]
  },
  {
   "cell_type": "code",
   "execution_count": 6,
   "id": "compound-nightmare",
   "metadata": {
    "execution": {
     "iopub.execute_input": "2021-04-09T10:17:01.086244Z",
     "iopub.status.busy": "2021-04-09T10:17:01.085689Z",
     "iopub.status.idle": "2021-04-09T10:17:01.351958Z",
     "shell.execute_reply": "2021-04-09T10:17:01.352668Z"
    },
    "jupyter": {
     "source_hidden": true
    },
    "papermill": {
     "duration": 0.281648,
     "end_time": "2021-04-09T10:17:01.352890",
     "exception": false,
     "start_time": "2021-04-09T10:17:01.071242",
     "status": "completed"
    },
    "scrolled": false,
    "tags": [
     "hide-input"
    ]
   },
   "outputs": [
    {
     "data": {
      "image/png": "[encoded data removed]",
      "text/plain": [
       "<Figure size 864x432 with 1 Axes>"
      ]
     },
     "metadata": {
      "needs_background": "light"
     },
     "output_type": "display_data"
    }
   ],
   "source": [
    "dc.plot(x='DATE',y='POSITIVE',color='red',grid='True',figsize=(12,6)).set_xlabel('Date');"
   ]
  },
  {
   "cell_type": "markdown",
   "id": "coupled-literacy",
   "metadata": {
    "papermill": {
     "duration": 0.011186,
     "end_time": "2021-04-09T10:17:01.376467",
     "exception": false,
     "start_time": "2021-04-09T10:17:01.365281",
     "status": "completed"
    },
    "tags": []
   },
   "source": [
    "## Figure 1: Cummulative number of positive cases."
   ]
  },
  {
   "cell_type": "code",
   "execution_count": 7,
   "id": "surrounded-reserve",
   "metadata": {
    "execution": {
     "iopub.execute_input": "2021-04-09T10:17:01.429131Z",
     "iopub.status.busy": "2021-04-09T10:17:01.402681Z",
     "iopub.status.idle": "2021-04-09T10:17:01.600785Z",
     "shell.execute_reply": "2021-04-09T10:17:01.600199Z"
    },
    "jupyter": {
     "source_hidden": true
    },
    "papermill": {
     "duration": 0.213859,
     "end_time": "2021-04-09T10:17:01.600910",
     "exception": false,
     "start_time": "2021-04-09T10:17:01.387051",
     "status": "completed"
    },
    "scrolled": false,
    "tags": [
     "hide-input"
    ]
   },
   "outputs": [
    {
     "data": {
      "image/png": "[encoded data removed]",
      "text/plain": [
       "<Figure size 864x432 with 1 Axes>"
      ]
     },
     "metadata": {
      "needs_background": "light"
     },
     "output_type": "display_data"
    }
   ],
   "source": [
    "dc.plot(kind='line',x='DATE',y='7_DAY',color='blue',grid='True',figsize=(12,6)).set_xlabel('Date');"
   ]
  },
  {
   "cell_type": "markdown",
   "id": "professional-savannah",
   "metadata": {
    "papermill": {
     "duration": 0.011684,
     "end_time": "2021-04-09T10:17:01.624535",
     "exception": false,
     "start_time": "2021-04-09T10:17:01.612851",
     "status": "completed"
    },
    "tags": []
   },
   "source": [
    "## Figure 2: Rolling 7-day average of daily new cases."
   ]
  },
  {
   "cell_type": "code",
   "execution_count": 8,
   "id": "stretch-investor",
   "metadata": {
    "execution": {
     "iopub.execute_input": "2021-04-09T10:17:01.653456Z",
     "iopub.status.busy": "2021-04-09T10:17:01.652905Z",
     "iopub.status.idle": "2021-04-09T10:17:01.846383Z",
     "shell.execute_reply": "2021-04-09T10:17:01.845908Z"
    },
    "jupyter": {
     "source_hidden": true
    },
    "papermill": {
     "duration": 0.210162,
     "end_time": "2021-04-09T10:17:01.846513",
     "exception": false,
     "start_time": "2021-04-09T10:17:01.636351",
     "status": "completed"
    },
    "tags": []
   },
   "outputs": [
    {
     "data": {
      "image/png": "[encoded data removed]",
      "text/plain": [
       "<Figure size 864x432 with 1 Axes>"
      ]
     },
     "metadata": {
      "needs_background": "light"
     },
     "output_type": "display_data"
    }
   ],
   "source": [
    "dc.plot(kind='line',x='DATE',y='14_DAY',color='green',grid='True',figsize=(12,6)).set_xlabel('Date');"
   ]
  },
  {
   "cell_type": "markdown",
   "id": "prerequisite-species",
   "metadata": {
    "papermill": {
     "duration": 0.013083,
     "end_time": "2021-04-09T10:17:01.872767",
     "exception": false,
     "start_time": "2021-04-09T10:17:01.859684",
     "status": "completed"
    },
    "tags": []
   },
   "source": [
    "## Figure 3: Rolling 14-day average of daily new cases."
   ]
  },
  {
   "cell_type": "markdown",
   "id": "palestinian-guard",
   "metadata": {
    "papermill": {
     "duration": 0.01273,
     "end_time": "2021-04-09T10:17:01.898376",
     "exception": false,
     "start_time": "2021-04-09T10:17:01.885646",
     "status": "completed"
    },
    "tags": []
   },
   "source": [
    "Data source: [Wisconsin Department of Health Services](https://data.dhsgis.wi.gov/datasets/covid-19-historical-data-table/)"
   ]
  },
  {
   "cell_type": "code",
   "execution_count": 9,
   "id": "proof-medicare",
   "metadata": {
    "execution": {
     "iopub.execute_input": "2021-04-09T10:17:01.928891Z",
     "iopub.status.busy": "2021-04-09T10:17:01.928333Z",
     "iopub.status.idle": "2021-04-09T10:17:01.930951Z",
     "shell.execute_reply": "2021-04-09T10:17:01.931376Z"
    },
    "jupyter": {
     "source_hidden": true
    },
    "papermill": {
     "duration": 0.020427,
     "end_time": "2021-04-09T10:17:01.931523",
     "exception": false,
     "start_time": "2021-04-09T10:17:01.911096",
     "status": "completed"
    },
    "tags": []
   },
   "outputs": [
    {
     "data": {
      "text/html": [
       "<style>\n",
       "div.input {\n",
       "    display:none;\n",
       "}\n",
       "</style>\n"
      ],
      "text/plain": [
       "<IPython.core.display.HTML object>"
      ]
     },
     "metadata": {},
     "output_type": "display_data"
    }
   ],
   "source": [
    "%%html\n",
    "<style>\n",
    "div.input {\n",
    "    display:none;\n",
    "}\n",
    "</style>"
   ]
  }
 ],
 "metadata": {
  "kernelspec": {
   "display_name": "Python 3",
   "language": "python",
   "name": "python3"
  },
  "language_info": {
   "codemirror_mode": {
    "name": "ipython",
    "version": 3
   },
   "file_extension": ".py",
   "mimetype": "text/x-python",
   "name": "python",
   "nbconvert_exporter": "python",
   "pygments_lexer": "ipython3",
   "version": "3.8.8"
  },
  "papermill": {
   "duration": 4.254575,
   "end_time": "2021-04-09T10:17:02.251930",
   "environment_variables": {},
   "exception": null,
   "input_path": "DunnCounty_COVID19.ipynb",
   "output_path": "DunnCounty_COVID19.ipynb",
   "parameters": {
    "Start": "True",
    "secretsPath": "/home/runner/work/_temp/secrets.json"
   },
   "start_time": "2021-04-09T10:16:57.997355",
   "version": "1.1.16"
  }
 },
 "nbformat": 4,
 "nbformat_minor": 5
}