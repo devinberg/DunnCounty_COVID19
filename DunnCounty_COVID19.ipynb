{
 "cells": [
  {
   "cell_type": "code",
   "execution_count": 1,
   "id": "solar-understanding",
   "metadata": {
    "execution": {
     "iopub.execute_input": "2021-04-21T10:16:10.867150Z",
     "iopub.status.busy": "2021-04-21T10:16:10.866538Z",
     "iopub.status.idle": "2021-04-21T10:16:11.803381Z",
     "shell.execute_reply": "2021-04-21T10:16:11.803875Z"
    },
    "jupyter": {
     "source_hidden": true
    },
    "papermill": {
     "duration": 0.957067,
     "end_time": "2021-04-21T10:16:11.804161",
     "exception": false,
     "start_time": "2021-04-21T10:16:10.847094",
     "status": "completed"
    },
    "scrolled": true,
    "tags": [
     "hide-input"
    ]
   },
   "outputs": [],
   "source": [
    "import pandas as pd\n",
    "import matplotlib.pyplot as plt\n",
    "from matplotlib import dates\n",
    "from IPython.display import display, Markdown\n",
    "%matplotlib inline"
   ]
  },
  {
   "cell_type": "code",
   "execution_count": 2,
   "id": "purple-playlist",
   "metadata": {
    "execution": {
     "iopub.execute_input": "2021-04-21T10:16:11.829978Z",
     "iopub.status.busy": "2021-04-21T10:16:11.829358Z",
     "iopub.status.idle": "2021-04-21T10:16:12.719971Z",
     "shell.execute_reply": "2021-04-21T10:16:12.719456Z"
    },
    "jupyter": {
     "source_hidden": true
    },
    "papermill": {
     "duration": 0.905421,
     "end_time": "2021-04-21T10:16:12.720094",
     "exception": false,
     "start_time": "2021-04-21T10:16:11.814673",
     "status": "completed"
    },
    "scrolled": true,
    "tags": [
     "hide-input"
    ]
   },
   "outputs": [],
   "source": [
    "# This is the data for all of Wisconsin.\n",
    "url = \"https://opendata.arcgis.com/datasets/0b7bac0afc464e7783474cb62272d9b8_12.csv\"\n",
    "data = pd.read_csv(url, parse_dates=['DATE'], low_memory=False)"
   ]
  },
  {
   "cell_type": "code",
   "execution_count": 3,
   "id": "proprietary-klein",
   "metadata": {
    "execution": {
     "iopub.execute_input": "2021-04-21T10:16:12.745760Z",
     "iopub.status.busy": "2021-04-21T10:16:12.745080Z",
     "iopub.status.idle": "2021-04-21T10:16:12.753991Z",
     "shell.execute_reply": "2021-04-21T10:16:12.753417Z"
    },
    "jupyter": {
     "source_hidden": true
    },
    "papermill": {
     "duration": 0.023969,
     "end_time": "2021-04-21T10:16:12.754095",
     "exception": false,
     "start_time": "2021-04-21T10:16:12.730126",
     "status": "completed"
    },
    "scrolled": true,
    "tags": [
     "hide-input"
    ]
   },
   "outputs": [],
   "source": [
    "dc = data.groupby('NAME').get_group('Dunn').sort_values(by='DATE') # Select the data for Dunn County from the full data.\n",
    "PNi = dc.columns.get_loc(\"POS_NEW\")\n",
    "dc['7_DAY'] = dc.iloc[:,PNi].rolling(window=7).mean() # Calculates the rolling 7-day average of new cases.\n",
    "dc['14_DAY'] = dc.iloc[:,PNi].rolling(window=14).mean() # Calculates the rolling 14-day average of new cases."
   ]
  },
  {
   "cell_type": "code",
   "execution_count": 4,
   "id": "steady-supervision",
   "metadata": {
    "execution": {
     "iopub.execute_input": "2021-04-21T10:16:12.780437Z",
     "iopub.status.busy": "2021-04-21T10:16:12.779880Z",
     "iopub.status.idle": "2021-04-21T10:16:12.782729Z",
     "shell.execute_reply": "2021-04-21T10:16:12.783219Z"
    },
    "jupyter": {
     "source_hidden": true
    },
    "papermill": {
     "duration": 0.019843,
     "end_time": "2021-04-21T10:16:12.783339",
     "exception": false,
     "start_time": "2021-04-21T10:16:12.763496",
     "status": "completed"
    },
    "scrolled": true,
    "tags": [
     "hide-input"
    ]
   },
   "outputs": [
    {
     "data": {
      "text/markdown": [
       "### Last updated: April 20, 2021"
      ],
      "text/plain": [
       "<IPython.core.display.Markdown object>"
      ]
     },
     "metadata": {},
     "output_type": "display_data"
    }
   ],
   "source": [
    "display(Markdown('### Last updated: ' + dc.iloc[-1]['DATE'].strftime(\"%B %d, %Y\")))"
   ]
  },
  {
   "cell_type": "code",
   "execution_count": 5,
   "id": "lonely-pitch",
   "metadata": {
    "execution": {
     "iopub.execute_input": "2021-04-21T10:16:12.806602Z",
     "iopub.status.busy": "2021-04-21T10:16:12.806055Z",
     "iopub.status.idle": "2021-04-21T10:16:12.809335Z",
     "shell.execute_reply": "2021-04-21T10:16:12.809842Z"
    },
    "jupyter": {
     "source_hidden": true
    },
    "papermill": {
     "duration": 0.017616,
     "end_time": "2021-04-21T10:16:12.810006",
     "exception": false,
     "start_time": "2021-04-21T10:16:12.792390",
     "status": "completed"
    },
    "tags": [
     "hide-input"
    ]
   },
   "outputs": [
    {
     "data": {
      "text/markdown": [
       "# Dunn County has 4554 total positive cases, with 5 new cases reported today."
      ],
      "text/plain": [
       "<IPython.core.display.Markdown object>"
      ]
     },
     "metadata": {},
     "output_type": "display_data"
    }
   ],
   "source": [
    "display(Markdown('# Dunn County has ' + str(dc.iloc[-1]['POSITIVE']) + ' total positive cases, with '+ str(int(dc.iloc[-1]['POS_NEW'])) + ' new cases reported today.'))"
   ]
  },
  {
   "cell_type": "code",
   "execution_count": 6,
   "id": "compound-nightmare",
   "metadata": {
    "execution": {
     "iopub.execute_input": "2021-04-21T10:16:12.832390Z",
     "iopub.status.busy": "2021-04-21T10:16:12.831793Z",
     "iopub.status.idle": "2021-04-21T10:16:13.120495Z",
     "shell.execute_reply": "2021-04-21T10:16:13.119447Z"
    },
    "jupyter": {
     "source_hidden": true
    },
    "papermill": {
     "duration": 0.301142,
     "end_time": "2021-04-21T10:16:13.120643",
     "exception": false,
     "start_time": "2021-04-21T10:16:12.819501",
     "status": "completed"
    },
    "scrolled": false,
    "tags": [
     "hide-input"
    ]
   },
   "outputs": [
    {
     "data": {
      "image/png": "[encoded data removed]",
      "text/plain": [
       "<Figure size 864x432 with 1 Axes>"
      ]
     },
     "metadata": {
      "needs_background": "light"
     },
     "output_type": "display_data"
    }
   ],
   "source": [
    "dc.plot(x='DATE',y='POSITIVE',color='red',grid='True',figsize=(12,6)).set_xlabel('Date');"
   ]
  },
  {
   "cell_type": "markdown",
   "id": "coupled-literacy",
   "metadata": {
    "papermill": {
     "duration": 0.011453,
     "end_time": "2021-04-21T10:16:13.143310",
     "exception": false,
     "start_time": "2021-04-21T10:16:13.131857",
     "status": "completed"
    },
    "tags": []
   },
   "source": [
    "## Figure 1: Cummulative number of positive cases."
   ]
  },
  {
   "cell_type": "code",
   "execution_count": 7,
   "id": "surrounded-reserve",
   "metadata": {
    "execution": {
     "iopub.execute_input": "2021-04-21T10:16:13.175870Z",
     "iopub.status.busy": "2021-04-21T10:16:13.175256Z",
     "iopub.status.idle": "2021-04-21T10:16:13.390025Z",
     "shell.execute_reply": "2021-04-21T10:16:13.389534Z"
    },
    "jupyter": {
     "source_hidden": true
    },
    "papermill": {
     "duration": 0.230171,
     "end_time": "2021-04-21T10:16:13.390198",
     "exception": false,
     "start_time": "2021-04-21T10:16:13.160027",
     "status": "completed"
    },
    "scrolled": false,
    "tags": [
     "hide-input"
    ]
   },
   "outputs": [
    {
     "data": {
      "image/png": "[encoded data removed]",
      "text/plain": [
       "<Figure size 864x432 with 1 Axes>"
      ]
     },
     "metadata": {
      "needs_background": "light"
     },
     "output_type": "display_data"
    }
   ],
   "source": [
    "dc.plot(kind='line',x='DATE',y='7_DAY',color='blue',grid='True',figsize=(12,6)).set_xlabel('Date');"
   ]
  },
  {
   "cell_type": "markdown",
   "id": "professional-savannah",
   "metadata": {
    "papermill": {
     "duration": 0.013108,
     "end_time": "2021-04-21T10:16:13.415535",
     "exception": false,
     "start_time": "2021-04-21T10:16:13.402427",
     "status": "completed"
    },
    "tags": []
   },
   "source": [
    "## Figure 2: Rolling 7-day average of daily new cases."
   ]
  },
  {
   "cell_type": "code",
   "execution_count": 8,
   "id": "stretch-investor",
   "metadata": {
    "execution": {
     "iopub.execute_input": "2021-04-21T10:16:13.443642Z",
     "iopub.status.busy": "2021-04-21T10:16:13.443025Z",
     "iopub.status.idle": "2021-04-21T10:16:13.655987Z",
     "shell.execute_reply": "2021-04-21T10:16:13.656538Z"
    },
    "jupyter": {
     "source_hidden": true
    },
    "papermill": {
     "duration": 0.229118,
     "end_time": "2021-04-21T10:16:13.656690",
     "exception": false,
     "start_time": "2021-04-21T10:16:13.427572",
     "status": "completed"
    },
    "tags": []
   },
   "outputs": [
    {
     "data": {
      "image/png": "[encoded data removed]",
      "text/plain": [
       "<Figure size 864x432 with 1 Axes>"
      ]
     },
     "metadata": {
      "needs_background": "light"
     },
     "output_type": "display_data"
    }
   ],
   "source": [
    "dc.plot(kind='line',x='DATE',y='14_DAY',color='green',grid='True',figsize=(12,6)).set_xlabel('Date');"
   ]
  },
  {
   "cell_type": "markdown",
   "id": "prerequisite-species",
   "metadata": {
    "papermill": {
     "duration": 0.012758,
     "end_time": "2021-04-21T10:16:13.682170",
     "exception": false,
     "start_time": "2021-04-21T10:16:13.669412",
     "status": "completed"
    },
    "tags": []
   },
   "source": [
    "## Figure 3: Rolling 14-day average of daily new cases."
   ]
  },
  {
   "cell_type": "markdown",
   "id": "palestinian-guard",
   "metadata": {
    "papermill": {
     "duration": 0.012429,
     "end_time": "2021-04-21T10:16:13.708253",
     "exception": false,
     "start_time": "2021-04-21T10:16:13.695824",
     "status": "completed"
    },
    "tags": []
   },
   "source": [
    "Data source: [Wisconsin Department of Health Services](https://data.dhsgis.wi.gov/datasets/covid-19-historical-data-by-county)"
   ]
  },
  {
   "cell_type": "code",
   "execution_count": 9,
   "id": "proof-medicare",
   "metadata": {
    "execution": {
     "iopub.execute_input": "2021-04-21T10:16:13.736466Z",
     "iopub.status.busy": "2021-04-21T10:16:13.735948Z",
     "iopub.status.idle": "2021-04-21T10:16:13.741997Z",
     "shell.execute_reply": "2021-04-21T10:16:13.741477Z"
    },
    "jupyter": {
     "source_hidden": true
    },
    "papermill": {
     "duration": 0.022065,
     "end_time": "2021-04-21T10:16:13.742102",
     "exception": false,
     "start_time": "2021-04-21T10:16:13.720037",
     "status": "completed"
    },
    "tags": []
   },
   "outputs": [
    {
     "data": {
      "text/html": [
       "<style>\n",
       "div.input {\n",
       "    display:none;\n",
       "}\n",
       "</style>\n"
      ],
      "text/plain": [
       "<IPython.core.display.HTML object>"
      ]
     },
     "metadata": {},
     "output_type": "display_data"
    }
   ],
   "source": [
    "%%html\n",
    "<style>\n",
    "div.input {\n",
    "    display:none;\n",
    "}\n",
    "</style>"
   ]
  }
 ],
 "metadata": {
  "kernelspec": {
   "display_name": "Python 3",
   "language": "python",
   "name": "python3"
  },
  "language_info": {
   "codemirror_mode": {
    "name": "ipython",
    "version": 3
   },
   "file_extension": ".py",
   "mimetype": "text/x-python",
   "name": "python",
   "nbconvert_exporter": "python",
   "pygments_lexer": "ipython3",
   "version": "3.8.9"
  },
  "papermill": {
   "duration": 4.768162,
   "end_time": "2021-04-21T10:16:14.061619",
   "environment_variables": {},
   "exception": null,
   "input_path": "DunnCounty_COVID19.ipynb",
   "output_path": "DunnCounty_COVID19.ipynb",
   "parameters": {
    "Start": "True",
    "secretsPath": "/home/runner/work/_temp/secrets.json"
   },
   "start_time": "2021-04-21T10:16:09.293457",
   "version": "1.1.16"
  }
 },
 "nbformat": 4,
 "nbformat_minor": 5
}