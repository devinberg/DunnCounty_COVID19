{
 "cells": [
  {
   "cell_type": "code",
   "execution_count": 1,
   "id": "solar-understanding",
   "metadata": {
    "execution": {
     "iopub.execute_input": "2021-03-14T10:13:01.168824Z",
     "iopub.status.busy": "2021-03-14T10:13:01.168162Z",
     "iopub.status.idle": "2021-03-14T10:13:02.057304Z",
     "shell.execute_reply": "2021-03-14T10:13:02.058571Z"
    },
    "jupyter": {
     "source_hidden": true
    },
    "papermill": {
     "duration": 0.911322,
     "end_time": "2021-03-14T10:13:02.058843",
     "exception": false,
     "start_time": "2021-03-14T10:13:01.147521",
     "status": "completed"
    },
    "scrolled": true,
    "tags": [
     "hide-input"
    ]
   },
   "outputs": [],
   "source": [
    "import pandas as pd\n",
    "import matplotlib.pyplot as plt\n",
    "from matplotlib import dates\n",
    "from IPython.display import display, Markdown\n",
    "%matplotlib inline"
   ]
  },
  {
   "cell_type": "code",
   "execution_count": 2,
   "id": "purple-playlist",
   "metadata": {
    "execution": {
     "iopub.execute_input": "2021-03-14T10:13:02.086989Z",
     "iopub.status.busy": "2021-03-14T10:13:02.086321Z",
     "iopub.status.idle": "2021-03-14T10:13:02.851692Z",
     "shell.execute_reply": "2021-03-14T10:13:02.851113Z"
    },
    "jupyter": {
     "source_hidden": true
    },
    "papermill": {
     "duration": 0.782514,
     "end_time": "2021-03-14T10:13:02.851831",
     "exception": false,
     "start_time": "2021-03-14T10:13:02.069317",
     "status": "completed"
    },
    "scrolled": true,
    "tags": [
     "hide-input"
    ]
   },
   "outputs": [],
   "source": [
    "# This is the data for all of Wisconsin.\n",
    "url = \"https://opendata.arcgis.com/datasets/5374188992374b318d3e2305216ee413_12.csv\"\n",
    "data = pd.read_csv(url, parse_dates=['DATE'], low_memory=False)"
   ]
  },
  {
   "cell_type": "code",
   "execution_count": 3,
   "id": "proprietary-klein",
   "metadata": {
    "execution": {
     "iopub.execute_input": "2021-03-14T10:13:02.879762Z",
     "iopub.status.busy": "2021-03-14T10:13:02.879047Z",
     "iopub.status.idle": "2021-03-14T10:13:02.888758Z",
     "shell.execute_reply": "2021-03-14T10:13:02.888214Z"
    },
    "jupyter": {
     "source_hidden": true
    },
    "papermill": {
     "duration": 0.026734,
     "end_time": "2021-03-14T10:13:02.888902",
     "exception": false,
     "start_time": "2021-03-14T10:13:02.862168",
     "status": "completed"
    },
    "scrolled": true,
    "tags": [
     "hide-input"
    ]
   },
   "outputs": [],
   "source": [
    "dc = data.groupby('NAME').get_group('Dunn').sort_values(by='DATE') # Select the data for Dunn County from the full data.\n",
    "PNi = dc.columns.get_loc(\"POS_NEW\")\n",
    "dc['7_DAY'] = dc.iloc[:,PNi].rolling(window=7).mean() # Calculates the rolling 7-day average of new cases.\n",
    "dc['14_DAY'] = dc.iloc[:,PNi].rolling(window=14).mean() # Calculates the rolling 14-day average of new cases."
   ]
  },
  {
   "cell_type": "code",
   "execution_count": 4,
   "id": "steady-supervision",
   "metadata": {
    "execution": {
     "iopub.execute_input": "2021-03-14T10:13:02.916304Z",
     "iopub.status.busy": "2021-03-14T10:13:02.915656Z",
     "iopub.status.idle": "2021-03-14T10:13:02.920274Z",
     "shell.execute_reply": "2021-03-14T10:13:02.920769Z"
    },
    "jupyter": {
     "source_hidden": true
    },
    "papermill": {
     "duration": 0.022651,
     "end_time": "2021-03-14T10:13:02.920958",
     "exception": false,
     "start_time": "2021-03-14T10:13:02.898307",
     "status": "completed"
    },
    "scrolled": true,
    "tags": [
     "hide-input"
    ]
   },
   "outputs": [
    {
     "data": {
      "text/markdown": [
       "### Last updated: March 13, 2021"
      ],
      "text/plain": [
       "<IPython.core.display.Markdown object>"
      ]
     },
     "metadata": {},
     "output_type": "display_data"
    }
   ],
   "source": [
    "display(Markdown('### Last updated: ' + dc.iloc[-1]['DATE'].strftime(\"%B %d, %Y\")))"
   ]
  },
  {
   "cell_type": "code",
   "execution_count": 5,
   "id": "lonely-pitch",
   "metadata": {
    "execution": {
     "iopub.execute_input": "2021-03-14T10:13:02.948613Z",
     "iopub.status.busy": "2021-03-14T10:13:02.947616Z",
     "iopub.status.idle": "2021-03-14T10:13:02.950286Z",
     "shell.execute_reply": "2021-03-14T10:13:02.950882Z"
    },
    "jupyter": {
     "source_hidden": true
    },
    "papermill": {
     "duration": 0.020089,
     "end_time": "2021-03-14T10:13:02.951050",
     "exception": false,
     "start_time": "2021-03-14T10:13:02.930961",
     "status": "completed"
    },
    "tags": [
     "hide-input"
    ]
   },
   "outputs": [
    {
     "data": {
      "text/markdown": [
       "# Dunn County has 4295 total positive cases, with -1 new cases reported today."
      ],
      "text/plain": [
       "<IPython.core.display.Markdown object>"
      ]
     },
     "metadata": {},
     "output_type": "display_data"
    }
   ],
   "source": [
    "display(Markdown('# Dunn County has ' + str(dc.iloc[-1]['POSITIVE']) + ' total positive cases, with '+ str(int(dc.iloc[-1]['POS_NEW'])) + ' new cases reported today.'))"
   ]
  },
  {
   "cell_type": "code",
   "execution_count": 6,
   "id": "compound-nightmare",
   "metadata": {
    "execution": {
     "iopub.execute_input": "2021-03-14T10:13:02.977895Z",
     "iopub.status.busy": "2021-03-14T10:13:02.977277Z",
     "iopub.status.idle": "2021-03-14T10:13:03.283069Z",
     "shell.execute_reply": "2021-03-14T10:13:03.282503Z"
    },
    "jupyter": {
     "source_hidden": true
    },
    "papermill": {
     "duration": 0.321812,
     "end_time": "2021-03-14T10:13:03.283210",
     "exception": false,
     "start_time": "2021-03-14T10:13:02.961398",
     "status": "completed"
    },
    "scrolled": false,
    "tags": [
     "hide-input"
    ]
   },
   "outputs": [
    {
     "data": {
      "image/png": "[encoded data removed]",
      "text/plain": [
       "<Figure size 864x432 with 1 Axes>"
      ]
     },
     "metadata": {
      "needs_background": "light"
     },
     "output_type": "display_data"
    }
   ],
   "source": [
    "dc.plot(x='DATE',y='POSITIVE',color='red',grid='True',figsize=(12,6)).set_xlabel('Date');"
   ]
  },
  {
   "cell_type": "markdown",
   "id": "coupled-literacy",
   "metadata": {
    "papermill": {
     "duration": 0.011199,
     "end_time": "2021-03-14T10:13:03.306087",
     "exception": false,
     "start_time": "2021-03-14T10:13:03.294888",
     "status": "completed"
    },
    "tags": []
   },
   "source": [
    "## Figure 1: Cummulative number of positive cases."
   ]
  },
  {
   "cell_type": "code",
   "execution_count": 7,
   "id": "surrounded-reserve",
   "metadata": {
    "execution": {
     "iopub.execute_input": "2021-03-14T10:13:03.335004Z",
     "iopub.status.busy": "2021-03-14T10:13:03.334370Z",
     "iopub.status.idle": "2021-03-14T10:13:03.566098Z",
     "shell.execute_reply": "2021-03-14T10:13:03.566612Z"
    },
    "jupyter": {
     "source_hidden": true
    },
    "papermill": {
     "duration": 0.248434,
     "end_time": "2021-03-14T10:13:03.566785",
     "exception": false,
     "start_time": "2021-03-14T10:13:03.318351",
     "status": "completed"
    },
    "scrolled": false,
    "tags": [
     "hide-input"
    ]
   },
   "outputs": [
    {
     "data": {
      "image/png": "[encoded data removed]",
      "text/plain": [
       "<Figure size 864x432 with 1 Axes>"
      ]
     },
     "metadata": {
      "needs_background": "light"
     },
     "output_type": "display_data"
    }
   ],
   "source": [
    "dc.plot(kind='line',x='DATE',y='7_DAY',color='blue',grid='True',figsize=(12,6)).set_xlabel('Date');"
   ]
  },
  {
   "cell_type": "markdown",
   "id": "professional-savannah",
   "metadata": {
    "papermill": {
     "duration": 0.012897,
     "end_time": "2021-03-14T10:13:03.592109",
     "exception": false,
     "start_time": "2021-03-14T10:13:03.579212",
     "status": "completed"
    },
    "tags": []
   },
   "source": [
    "## Figure 2: Rolling 7-day average of daily new cases."
   ]
  },
  {
   "cell_type": "code",
   "execution_count": 8,
   "id": "stretch-investor",
   "metadata": {
    "execution": {
     "iopub.execute_input": "2021-03-14T10:13:03.626974Z",
     "iopub.status.busy": "2021-03-14T10:13:03.625962Z",
     "iopub.status.idle": "2021-03-14T10:13:03.867063Z",
     "shell.execute_reply": "2021-03-14T10:13:03.867548Z"
    },
    "jupyter": {
     "source_hidden": true
    },
    "papermill": {
     "duration": 0.261041,
     "end_time": "2021-03-14T10:13:03.867723",
     "exception": false,
     "start_time": "2021-03-14T10:13:03.606682",
     "status": "completed"
    },
    "tags": []
   },
   "outputs": [
    {
     "data": {
      "image/png": "[encoded data removed]",
      "text/plain": [
       "<Figure size 864x432 with 1 Axes>"
      ]
     },
     "metadata": {
      "needs_background": "light"
     },
     "output_type": "display_data"
    }
   ],
   "source": [
    "dc.plot(kind='line',x='DATE',y='14_DAY',color='green',grid='True',figsize=(12,6)).set_xlabel('Date');"
   ]
  },
  {
   "cell_type": "markdown",
   "id": "prerequisite-species",
   "metadata": {
    "papermill": {
     "duration": 0.013765,
     "end_time": "2021-03-14T10:13:03.894952",
     "exception": false,
     "start_time": "2021-03-14T10:13:03.881187",
     "status": "completed"
    },
    "tags": []
   },
   "source": [
    "## Figure 3: Rolling 14-day average of daily new cases."
   ]
  },
  {
   "cell_type": "markdown",
   "id": "palestinian-guard",
   "metadata": {
    "papermill": {
     "duration": 0.013407,
     "end_time": "2021-03-14T10:13:03.922157",
     "exception": false,
     "start_time": "2021-03-14T10:13:03.908750",
     "status": "completed"
    },
    "tags": []
   },
   "source": [
    "Data source: [Wisconsin Department of Health Services](https://data.dhsgis.wi.gov/datasets/covid-19-historical-data-table/)"
   ]
  },
  {
   "cell_type": "code",
   "execution_count": 9,
   "id": "proof-medicare",
   "metadata": {
    "execution": {
     "iopub.execute_input": "2021-03-14T10:13:03.954962Z",
     "iopub.status.busy": "2021-03-14T10:13:03.954316Z",
     "iopub.status.idle": "2021-03-14T10:13:03.957008Z",
     "shell.execute_reply": "2021-03-14T10:13:03.957525Z"
    },
    "jupyter": {
     "source_hidden": true
    },
    "papermill": {
     "duration": 0.022033,
     "end_time": "2021-03-14T10:13:03.957697",
     "exception": false,
     "start_time": "2021-03-14T10:13:03.935664",
     "status": "completed"
    },
    "tags": []
   },
   "outputs": [
    {
     "data": {
      "text/html": [
       "<style>\n",
       "div.input {\n",
       "    display:none;\n",
       "}\n",
       "</style>\n"
      ],
      "text/plain": [
       "<IPython.core.display.HTML object>"
      ]
     },
     "metadata": {},
     "output_type": "display_data"
    }
   ],
   "source": [
    "%%html\n",
    "<style>\n",
    "div.input {\n",
    "    display:none;\n",
    "}\n",
    "</style>"
   ]
  }
 ],
 "metadata": {
  "kernelspec": {
   "display_name": "Python 3",
   "language": "python",
   "name": "python3"
  },
  "language_info": {
   "codemirror_mode": {
    "name": "ipython",
    "version": 3
   },
   "file_extension": ".py",
   "mimetype": "text/x-python",
   "name": "python",
   "nbconvert_exporter": "python",
   "pygments_lexer": "ipython3",
   "version": "3.8.8"
  },
  "papermill": {
   "duration": 5.64985,
   "end_time": "2021-03-14T10:13:05.227715",
   "environment_variables": {},
   "exception": null,
   "input_path": "DunnCounty_COVID19.ipynb",
   "output_path": "DunnCounty_COVID19.ipynb",
   "parameters": {
    "Start": "True",
    "secretsPath": "/home/runner/work/_temp/secrets.json"
   },
   "start_time": "2021-03-14T10:12:59.577865",
   "version": "1.1.16"
  }
 },
 "nbformat": 4,
 "nbformat_minor": 5
}