{
 "cells": [
  {
   "cell_type": "code",
   "execution_count": 1,
   "id": "solar-understanding",
   "metadata": {
    "execution": {
     "iopub.execute_input": "2021-03-16T10:14:31.300707Z",
     "iopub.status.busy": "2021-03-16T10:14:31.299989Z",
     "iopub.status.idle": "2021-03-16T10:14:32.504452Z",
     "shell.execute_reply": "2021-03-16T10:14:32.505243Z"
    },
    "jupyter": {
     "source_hidden": true
    },
    "papermill": {
     "duration": 1.232945,
     "end_time": "2021-03-16T10:14:32.505505",
     "exception": false,
     "start_time": "2021-03-16T10:14:31.272560",
     "status": "completed"
    },
    "scrolled": true,
    "tags": [
     "hide-input"
    ]
   },
   "outputs": [],
   "source": [
    "import pandas as pd\n",
    "import matplotlib.pyplot as plt\n",
    "from matplotlib import dates\n",
    "from IPython.display import display, Markdown\n",
    "%matplotlib inline"
   ]
  },
  {
   "cell_type": "code",
   "execution_count": 2,
   "id": "purple-playlist",
   "metadata": {
    "execution": {
     "iopub.execute_input": "2021-03-16T10:14:32.529882Z",
     "iopub.status.busy": "2021-03-16T10:14:32.529305Z",
     "iopub.status.idle": "2021-03-16T10:14:33.288450Z",
     "shell.execute_reply": "2021-03-16T10:14:33.287927Z"
    },
    "jupyter": {
     "source_hidden": true
    },
    "papermill": {
     "duration": 0.773885,
     "end_time": "2021-03-16T10:14:33.288576",
     "exception": false,
     "start_time": "2021-03-16T10:14:32.514691",
     "status": "completed"
    },
    "scrolled": true,
    "tags": [
     "hide-input"
    ]
   },
   "outputs": [],
   "source": [
    "# This is the data for all of Wisconsin.\n",
    "url = \"https://opendata.arcgis.com/datasets/5374188992374b318d3e2305216ee413_12.csv\"\n",
    "data = pd.read_csv(url, parse_dates=['DATE'], low_memory=False)"
   ]
  },
  {
   "cell_type": "code",
   "execution_count": 3,
   "id": "proprietary-klein",
   "metadata": {
    "execution": {
     "iopub.execute_input": "2021-03-16T10:14:33.313904Z",
     "iopub.status.busy": "2021-03-16T10:14:33.313234Z",
     "iopub.status.idle": "2021-03-16T10:14:33.321497Z",
     "shell.execute_reply": "2021-03-16T10:14:33.321908Z"
    },
    "jupyter": {
     "source_hidden": true
    },
    "papermill": {
     "duration": 0.0238,
     "end_time": "2021-03-16T10:14:33.322061",
     "exception": false,
     "start_time": "2021-03-16T10:14:33.298261",
     "status": "completed"
    },
    "scrolled": true,
    "tags": [
     "hide-input"
    ]
   },
   "outputs": [],
   "source": [
    "dc = data.groupby('NAME').get_group('Dunn').sort_values(by='DATE') # Select the data for Dunn County from the full data.\n",
    "PNi = dc.columns.get_loc(\"POS_NEW\")\n",
    "dc['7_DAY'] = dc.iloc[:,PNi].rolling(window=7).mean() # Calculates the rolling 7-day average of new cases.\n",
    "dc['14_DAY'] = dc.iloc[:,PNi].rolling(window=14).mean() # Calculates the rolling 14-day average of new cases."
   ]
  },
  {
   "cell_type": "code",
   "execution_count": 4,
   "id": "steady-supervision",
   "metadata": {
    "execution": {
     "iopub.execute_input": "2021-03-16T10:14:33.345779Z",
     "iopub.status.busy": "2021-03-16T10:14:33.343629Z",
     "iopub.status.idle": "2021-03-16T10:14:33.350571Z",
     "shell.execute_reply": "2021-03-16T10:14:33.350100Z"
    },
    "jupyter": {
     "source_hidden": true
    },
    "papermill": {
     "duration": 0.019834,
     "end_time": "2021-03-16T10:14:33.350687",
     "exception": false,
     "start_time": "2021-03-16T10:14:33.330853",
     "status": "completed"
    },
    "scrolled": true,
    "tags": [
     "hide-input"
    ]
   },
   "outputs": [
    {
     "data": {
      "text/markdown": [
       "### Last updated: March 15, 2021"
      ],
      "text/plain": [
       "<IPython.core.display.Markdown object>"
      ]
     },
     "metadata": {},
     "output_type": "display_data"
    }
   ],
   "source": [
    "display(Markdown('### Last updated: ' + dc.iloc[-1]['DATE'].strftime(\"%B %d, %Y\")))"
   ]
  },
  {
   "cell_type": "code",
   "execution_count": 5,
   "id": "lonely-pitch",
   "metadata": {
    "execution": {
     "iopub.execute_input": "2021-03-16T10:14:33.374014Z",
     "iopub.status.busy": "2021-03-16T10:14:33.373481Z",
     "iopub.status.idle": "2021-03-16T10:14:33.375985Z",
     "shell.execute_reply": "2021-03-16T10:14:33.376478Z"
    },
    "jupyter": {
     "source_hidden": true
    },
    "papermill": {
     "duration": 0.016921,
     "end_time": "2021-03-16T10:14:33.376746",
     "exception": false,
     "start_time": "2021-03-16T10:14:33.359825",
     "status": "completed"
    },
    "tags": [
     "hide-input"
    ]
   },
   "outputs": [
    {
     "data": {
      "text/markdown": [
       "# Dunn County has 4300 total positive cases, with 3 new cases reported today."
      ],
      "text/plain": [
       "<IPython.core.display.Markdown object>"
      ]
     },
     "metadata": {},
     "output_type": "display_data"
    }
   ],
   "source": [
    "display(Markdown('# Dunn County has ' + str(dc.iloc[-1]['POSITIVE']) + ' total positive cases, with '+ str(int(dc.iloc[-1]['POS_NEW'])) + ' new cases reported today.'))"
   ]
  },
  {
   "cell_type": "code",
   "execution_count": 6,
   "id": "compound-nightmare",
   "metadata": {
    "execution": {
     "iopub.execute_input": "2021-03-16T10:14:33.401610Z",
     "iopub.status.busy": "2021-03-16T10:14:33.401077Z",
     "iopub.status.idle": "2021-03-16T10:14:33.735459Z",
     "shell.execute_reply": "2021-03-16T10:14:33.734957Z"
    },
    "jupyter": {
     "source_hidden": true
    },
    "papermill": {
     "duration": 0.349459,
     "end_time": "2021-03-16T10:14:33.735590",
     "exception": false,
     "start_time": "2021-03-16T10:14:33.386131",
     "status": "completed"
    },
    "scrolled": false,
    "tags": [
     "hide-input"
    ]
   },
   "outputs": [
    {
     "data": {
      "image/png": "[encoded data removed]",
      "text/plain": [
       "<Figure size 864x432 with 1 Axes>"
      ]
     },
     "metadata": {
      "needs_background": "light"
     },
     "output_type": "display_data"
    }
   ],
   "source": [
    "dc.plot(x='DATE',y='POSITIVE',color='red',grid='True',figsize=(12,6)).set_xlabel('Date');"
   ]
  },
  {
   "cell_type": "markdown",
   "id": "coupled-literacy",
   "metadata": {
    "papermill": {
     "duration": 0.010725,
     "end_time": "2021-03-16T10:14:33.757215",
     "exception": false,
     "start_time": "2021-03-16T10:14:33.746490",
     "status": "completed"
    },
    "tags": []
   },
   "source": [
    "## Figure 1: Cummulative number of positive cases."
   ]
  },
  {
   "cell_type": "code",
   "execution_count": 7,
   "id": "surrounded-reserve",
   "metadata": {
    "execution": {
     "iopub.execute_input": "2021-03-16T10:14:33.784128Z",
     "iopub.status.busy": "2021-03-16T10:14:33.783579Z",
     "iopub.status.idle": "2021-03-16T10:14:33.995789Z",
     "shell.execute_reply": "2021-03-16T10:14:33.995299Z"
    },
    "jupyter": {
     "source_hidden": true
    },
    "papermill": {
     "duration": 0.228244,
     "end_time": "2021-03-16T10:14:33.995912",
     "exception": false,
     "start_time": "2021-03-16T10:14:33.767668",
     "status": "completed"
    },
    "scrolled": false,
    "tags": [
     "hide-input"
    ]
   },
   "outputs": [
    {
     "data": {
      "image/png": "[encoded data removed]",
      "text/plain": [
       "<Figure size 864x432 with 1 Axes>"
      ]
     },
     "metadata": {
      "needs_background": "light"
     },
     "output_type": "display_data"
    }
   ],
   "source": [
    "dc.plot(kind='line',x='DATE',y='7_DAY',color='blue',grid='True',figsize=(12,6)).set_xlabel('Date');"
   ]
  },
  {
   "cell_type": "markdown",
   "id": "professional-savannah",
   "metadata": {
    "papermill": {
     "duration": 0.012128,
     "end_time": "2021-03-16T10:14:34.019862",
     "exception": false,
     "start_time": "2021-03-16T10:14:34.007734",
     "status": "completed"
    },
    "tags": []
   },
   "source": [
    "## Figure 2: Rolling 7-day average of daily new cases."
   ]
  },
  {
   "cell_type": "code",
   "execution_count": 8,
   "id": "stretch-investor",
   "metadata": {
    "execution": {
     "iopub.execute_input": "2021-03-16T10:14:34.049731Z",
     "iopub.status.busy": "2021-03-16T10:14:34.049174Z",
     "iopub.status.idle": "2021-03-16T10:14:34.255708Z",
     "shell.execute_reply": "2021-03-16T10:14:34.256141Z"
    },
    "jupyter": {
     "source_hidden": true
    },
    "papermill": {
     "duration": 0.224755,
     "end_time": "2021-03-16T10:14:34.256294",
     "exception": false,
     "start_time": "2021-03-16T10:14:34.031539",
     "status": "completed"
    },
    "tags": []
   },
   "outputs": [
    {
     "data": {
      "image/png": "[encoded data removed]",
      "text/plain": [
       "<Figure size 864x432 with 1 Axes>"
      ]
     },
     "metadata": {
      "needs_background": "light"
     },
     "output_type": "display_data"
    }
   ],
   "source": [
    "dc.plot(kind='line',x='DATE',y='14_DAY',color='green',grid='True',figsize=(12,6)).set_xlabel('Date');"
   ]
  },
  {
   "cell_type": "markdown",
   "id": "prerequisite-species",
   "metadata": {
    "papermill": {
     "duration": 0.013079,
     "end_time": "2021-03-16T10:14:34.283012",
     "exception": false,
     "start_time": "2021-03-16T10:14:34.269933",
     "status": "completed"
    },
    "tags": []
   },
   "source": [
    "## Figure 3: Rolling 14-day average of daily new cases."
   ]
  },
  {
   "cell_type": "markdown",
   "id": "palestinian-guard",
   "metadata": {
    "papermill": {
     "duration": 0.013002,
     "end_time": "2021-03-16T10:14:34.313713",
     "exception": false,
     "start_time": "2021-03-16T10:14:34.300711",
     "status": "completed"
    },
    "tags": []
   },
   "source": [
    "Data source: [Wisconsin Department of Health Services](https://data.dhsgis.wi.gov/datasets/covid-19-historical-data-table/)"
   ]
  },
  {
   "cell_type": "code",
   "execution_count": 9,
   "id": "proof-medicare",
   "metadata": {
    "execution": {
     "iopub.execute_input": "2021-03-16T10:14:34.344157Z",
     "iopub.status.busy": "2021-03-16T10:14:34.343604Z",
     "iopub.status.idle": "2021-03-16T10:14:34.347264Z",
     "shell.execute_reply": "2021-03-16T10:14:34.346801Z"
    },
    "jupyter": {
     "source_hidden": true
    },
    "papermill": {
     "duration": 0.021034,
     "end_time": "2021-03-16T10:14:34.347388",
     "exception": false,
     "start_time": "2021-03-16T10:14:34.326354",
     "status": "completed"
    },
    "tags": []
   },
   "outputs": [
    {
     "data": {
      "text/html": [
       "<style>\n",
       "div.input {\n",
       "    display:none;\n",
       "}\n",
       "</style>\n"
      ],
      "text/plain": [
       "<IPython.core.display.HTML object>"
      ]
     },
     "metadata": {},
     "output_type": "display_data"
    }
   ],
   "source": [
    "%%html\n",
    "<style>\n",
    "div.input {\n",
    "    display:none;\n",
    "}\n",
    "</style>"
   ]
  }
 ],
 "metadata": {
  "kernelspec": {
   "display_name": "Python 3",
   "language": "python",
   "name": "python3"
  },
  "language_info": {
   "codemirror_mode": {
    "name": "ipython",
    "version": 3
   },
   "file_extension": ".py",
   "mimetype": "text/x-python",
   "name": "python",
   "nbconvert_exporter": "python",
   "pygments_lexer": "ipython3",
   "version": "3.8.8"
  },
  "papermill": {
   "duration": 6.626456,
   "end_time": "2021-03-16T10:14:34.671930",
   "environment_variables": {},
   "exception": null,
   "input_path": "DunnCounty_COVID19.ipynb",
   "output_path": "DunnCounty_COVID19.ipynb",
   "parameters": {
    "Start": "True",
    "secretsPath": "/home/runner/work/_temp/secrets.json"
   },
   "start_time": "2021-03-16T10:14:28.045474",
   "version": "1.1.16"
  }
 },
 "nbformat": 4,
 "nbformat_minor": 5
}