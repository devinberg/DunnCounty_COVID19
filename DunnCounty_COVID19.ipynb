{
 "cells": [
  {
   "cell_type": "code",
   "execution_count": 1,
   "metadata": {
    "execution": {
     "iopub.execute_input": "2020-12-12T10:14:57.075639Z",
     "iopub.status.busy": "2020-12-12T10:14:57.074954Z",
     "iopub.status.idle": "2020-12-12T10:14:58.963888Z",
     "shell.execute_reply": "2020-12-12T10:14:58.964528Z"
    },
    "jupyter": {
     "source_hidden": true
    },
    "papermill": {
     "duration": 1.909487,
     "end_time": "2020-12-12T10:14:58.964941",
     "exception": false,
     "start_time": "2020-12-12T10:14:57.055454",
     "status": "completed"
    },
    "scrolled": true,
    "tags": [
     "hide-input"
    ]
   },
   "outputs": [],
   "source": [
    "import pandas as pd\n",
    "import matplotlib.pyplot as plt\n",
    "from matplotlib import dates\n",
    "from IPython.display import display, Markdown\n",
    "%matplotlib inline"
   ]
  },
  {
   "cell_type": "code",
   "execution_count": 2,
   "metadata": {
    "execution": {
     "iopub.execute_input": "2020-12-12T10:14:58.987218Z",
     "iopub.status.busy": "2020-12-12T10:14:58.986697Z",
     "iopub.status.idle": "2020-12-12T10:14:59.614228Z",
     "shell.execute_reply": "2020-12-12T10:14:59.614922Z"
    },
    "jupyter": {
     "source_hidden": true
    },
    "papermill": {
     "duration": 0.641979,
     "end_time": "2020-12-12T10:14:59.615239",
     "exception": false,
     "start_time": "2020-12-12T10:14:58.973260",
     "status": "completed"
    },
    "scrolled": true,
    "tags": [
     "hide-input"
    ]
   },
   "outputs": [],
   "source": [
    "# This is the data for all of Wisconsin.\n",
    "url = \"https://opendata.arcgis.com/datasets/5374188992374b318d3e2305216ee413_12.csv\"\n",
    "data = pd.read_csv(url, parse_dates=['DATE'], low_memory=False)"
   ]
  },
  {
   "cell_type": "code",
   "execution_count": 3,
   "metadata": {
    "execution": {
     "iopub.execute_input": "2020-12-12T10:14:59.639620Z",
     "iopub.status.busy": "2020-12-12T10:14:59.638938Z",
     "iopub.status.idle": "2020-12-12T10:14:59.648526Z",
     "shell.execute_reply": "2020-12-12T10:14:59.649124Z"
    },
    "jupyter": {
     "source_hidden": true
    },
    "papermill": {
     "duration": 0.025755,
     "end_time": "2020-12-12T10:14:59.649332",
     "exception": false,
     "start_time": "2020-12-12T10:14:59.623577",
     "status": "completed"
    },
    "scrolled": true,
    "tags": [
     "hide-input"
    ]
   },
   "outputs": [],
   "source": [
    "dc = data.groupby('NAME').get_group('Dunn').sort_values(by='DATE') # Select the data for Dunn County from the full data.\n",
    "PNi = dc.columns.get_loc(\"POS_NEW\")\n",
    "dc['7_DAY'] = dc.iloc[:,PNi].rolling(window=7).mean() # Calculates the rolling 7-day average of new cases.\n",
    "dc['14_DAY'] = dc.iloc[:,PNi].rolling(window=14).mean() # Calculates the rolling 14-day average of new cases."
   ]
  },
  {
   "cell_type": "code",
   "execution_count": 4,
   "metadata": {
    "execution": {
     "iopub.execute_input": "2020-12-12T10:14:59.673338Z",
     "iopub.status.busy": "2020-12-12T10:14:59.672764Z",
     "iopub.status.idle": "2020-12-12T10:14:59.676885Z",
     "shell.execute_reply": "2020-12-12T10:14:59.677415Z"
    },
    "jupyter": {
     "source_hidden": true
    },
    "papermill": {
     "duration": 0.020863,
     "end_time": "2020-12-12T10:14:59.677636",
     "exception": false,
     "start_time": "2020-12-12T10:14:59.656773",
     "status": "completed"
    },
    "scrolled": true,
    "tags": [
     "hide-input"
    ]
   },
   "outputs": [
    {
     "data": {
      "text/markdown": [
       "### Last updated: December 11, 2020"
      ],
      "text/plain": [
       "<IPython.core.display.Markdown object>"
      ]
     },
     "metadata": {},
     "output_type": "display_data"
    }
   ],
   "source": [
    "display(Markdown('### Last updated: ' + dc.iloc[-1]['DATE'].strftime(\"%B %d, %Y\")))"
   ]
  },
  {
   "cell_type": "code",
   "execution_count": 5,
   "metadata": {
    "execution": {
     "iopub.execute_input": "2020-12-12T10:14:59.698612Z",
     "iopub.status.busy": "2020-12-12T10:14:59.698063Z",
     "iopub.status.idle": "2020-12-12T10:14:59.701726Z",
     "shell.execute_reply": "2020-12-12T10:14:59.701252Z"
    },
    "jupyter": {
     "source_hidden": true
    },
    "papermill": {
     "duration": 0.016316,
     "end_time": "2020-12-12T10:14:59.701835",
     "exception": false,
     "start_time": "2020-12-12T10:14:59.685519",
     "status": "completed"
    },
    "tags": [
     "hide-input"
    ]
   },
   "outputs": [
    {
     "data": {
      "text/markdown": [
       "# Dunn County has 3101 total positive cases, with 38 new cases reported today."
      ],
      "text/plain": [
       "<IPython.core.display.Markdown object>"
      ]
     },
     "metadata": {},
     "output_type": "display_data"
    }
   ],
   "source": [
    "display(Markdown('# Dunn County has ' + str(dc.iloc[-1]['POSITIVE']) + ' total positive cases, with '+ str(int(dc.iloc[-1]['POS_NEW'])) + ' new cases reported today.'))"
   ]
  },
  {
   "cell_type": "code",
   "execution_count": 6,
   "metadata": {
    "execution": {
     "iopub.execute_input": "2020-12-12T10:14:59.724409Z",
     "iopub.status.busy": "2020-12-12T10:14:59.723835Z",
     "iopub.status.idle": "2020-12-12T10:15:00.008955Z",
     "shell.execute_reply": "2020-12-12T10:15:00.009491Z"
    },
    "jupyter": {
     "source_hidden": true
    },
    "papermill": {
     "duration": 0.299019,
     "end_time": "2020-12-12T10:15:00.009690",
     "exception": false,
     "start_time": "2020-12-12T10:14:59.710671",
     "status": "completed"
    },
    "scrolled": false,
    "tags": [
     "hide-input"
    ]
   },
   "outputs": [
    {
     "data": {
      "image/png": "[encoded data removed]",
      "text/plain": [
       "<Figure size 864x432 with 1 Axes>"
      ]
     },
     "metadata": {
      "needs_background": "light"
     },
     "output_type": "display_data"
    }
   ],
   "source": [
    "dc.plot(x='DATE',y='POSITIVE',color='red',grid='True',figsize=(12,6)).set_xlabel('Date');"
   ]
  },
  {
   "cell_type": "markdown",
   "metadata": {
    "papermill": {
     "duration": 0.010008,
     "end_time": "2020-12-12T10:15:00.030030",
     "exception": false,
     "start_time": "2020-12-12T10:15:00.020022",
     "status": "completed"
    },
    "tags": []
   },
   "source": [
    "## Figure 1: Cummulative number of positive cases."
   ]
  },
  {
   "cell_type": "code",
   "execution_count": 7,
   "metadata": {
    "execution": {
     "iopub.execute_input": "2020-12-12T10:15:00.053249Z",
     "iopub.status.busy": "2020-12-12T10:15:00.052679Z",
     "iopub.status.idle": "2020-12-12T10:15:00.312956Z",
     "shell.execute_reply": "2020-12-12T10:15:00.312358Z"
    },
    "jupyter": {
     "source_hidden": true
    },
    "papermill": {
     "duration": 0.274665,
     "end_time": "2020-12-12T10:15:00.313155",
     "exception": false,
     "start_time": "2020-12-12T10:15:00.038490",
     "status": "completed"
    },
    "scrolled": false,
    "tags": [
     "hide-input"
    ]
   },
   "outputs": [
    {
     "data": {
      "image/png": "[encoded data removed]",
      "text/plain": [
       "<Figure size 864x432 with 1 Axes>"
      ]
     },
     "metadata": {
      "needs_background": "light"
     },
     "output_type": "display_data"
    }
   ],
   "source": [
    "dc.plot(kind='line',x='DATE',y='7_DAY',color='blue',grid='True',figsize=(12,6)).set_xlabel('Date');"
   ]
  },
  {
   "cell_type": "markdown",
   "metadata": {
    "papermill": {
     "duration": 0.01163,
     "end_time": "2020-12-12T10:15:00.335479",
     "exception": false,
     "start_time": "2020-12-12T10:15:00.323849",
     "status": "completed"
    },
    "tags": []
   },
   "source": [
    "## Figure 2: Rolling 7-day average of daily new cases."
   ]
  },
  {
   "cell_type": "code",
   "execution_count": 8,
   "metadata": {
    "execution": {
     "iopub.execute_input": "2020-12-12T10:15:00.359646Z",
     "iopub.status.busy": "2020-12-12T10:15:00.358932Z",
     "iopub.status.idle": "2020-12-12T10:15:00.614631Z",
     "shell.execute_reply": "2020-12-12T10:15:00.615087Z"
    },
    "jupyter": {
     "source_hidden": true
    },
    "papermill": {
     "duration": 0.270467,
     "end_time": "2020-12-12T10:15:00.615287",
     "exception": false,
     "start_time": "2020-12-12T10:15:00.344820",
     "status": "completed"
    },
    "tags": []
   },
   "outputs": [
    {
     "data": {
      "image/png": "[encoded data removed]",
      "text/plain": [
       "<Figure size 864x432 with 1 Axes>"
      ]
     },
     "metadata": {
      "needs_background": "light"
     },
     "output_type": "display_data"
    }
   ],
   "source": [
    "dc.plot(kind='line',x='DATE',y='14_DAY',color='green',grid='True',figsize=(12,6)).set_xlabel('Date');"
   ]
  },
  {
   "cell_type": "markdown",
   "metadata": {
    "papermill": {
     "duration": 0.010405,
     "end_time": "2020-12-12T10:15:00.636240",
     "exception": false,
     "start_time": "2020-12-12T10:15:00.625835",
     "status": "completed"
    },
    "tags": []
   },
   "source": [
    "## Figure 3: Rolling 14-day average of daily new cases."
   ]
  },
  {
   "cell_type": "markdown",
   "metadata": {
    "papermill": {
     "duration": 0.011363,
     "end_time": "2020-12-12T10:15:00.659232",
     "exception": false,
     "start_time": "2020-12-12T10:15:00.647869",
     "status": "completed"
    },
    "tags": []
   },
   "source": [
    "Data source: [Wisconsin Department of Health Services](https://data.dhsgis.wi.gov/datasets/covid-19-historical-data-table/)"
   ]
  },
  {
   "cell_type": "code",
   "execution_count": 9,
   "metadata": {
    "execution": {
     "iopub.execute_input": "2020-12-12T10:15:00.686707Z",
     "iopub.status.busy": "2020-12-12T10:15:00.686043Z",
     "iopub.status.idle": "2020-12-12T10:15:00.690164Z",
     "shell.execute_reply": "2020-12-12T10:15:00.689667Z"
    },
    "jupyter": {
     "source_hidden": true
    },
    "papermill": {
     "duration": 0.020456,
     "end_time": "2020-12-12T10:15:00.690281",
     "exception": false,
     "start_time": "2020-12-12T10:15:00.669825",
     "status": "completed"
    },
    "tags": []
   },
   "outputs": [
    {
     "data": {
      "text/html": [
       "<style>\n",
       "div.input {\n",
       "    display:none;\n",
       "}\n",
       "</style>\n"
      ],
      "text/plain": [
       "<IPython.core.display.HTML object>"
      ]
     },
     "metadata": {},
     "output_type": "display_data"
    }
   ],
   "source": [
    "%%html\n",
    "<style>\n",
    "div.input {\n",
    "    display:none;\n",
    "}\n",
    "</style>"
   ]
  }
 ],
 "metadata": {
  "kernelspec": {
   "display_name": "Python 3",
   "language": "python",
   "name": "python3"
  },
  "language_info": {
   "codemirror_mode": {
    "name": "ipython",
    "version": 3
   },
   "file_extension": ".py",
   "mimetype": "text/x-python",
   "name": "python",
   "nbconvert_exporter": "python",
   "pygments_lexer": "ipython3",
   "version": "3.8.6"
  },
  "papermill": {
   "duration": 5.428507,
   "end_time": "2020-12-12T10:15:01.008067",
   "environment_variables": {},
   "exception": null,
   "input_path": "DunnCounty_COVID19.ipynb",
   "output_path": "DunnCounty_COVID19.ipynb",
   "parameters": {
    "Start": "True",
    "secretsPath": "/home/runner/work/_temp/secrets.json"
   },
   "start_time": "2020-12-12T10:14:55.579560",
   "version": "1.1.16"
  }
 },
 "nbformat": 4,
 "nbformat_minor": 2
}