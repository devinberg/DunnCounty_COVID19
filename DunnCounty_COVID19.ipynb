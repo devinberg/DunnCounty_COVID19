{
 "cells": [
  {
   "cell_type": "code",
   "execution_count": 1,
   "id": "solar-understanding",
   "metadata": {
    "execution": {
     "iopub.execute_input": "2021-02-13T22:11:44.639619Z",
     "iopub.status.busy": "2021-02-13T22:11:44.639002Z",
     "iopub.status.idle": "2021-02-13T22:11:46.937311Z",
     "shell.execute_reply": "2021-02-13T22:11:46.936345Z"
    },
    "jupyter": {
     "source_hidden": true
    },
    "papermill": {
     "duration": 2.32258,
     "end_time": "2021-02-13T22:11:46.937541",
     "exception": false,
     "start_time": "2021-02-13T22:11:44.614961",
     "status": "completed"
    },
    "scrolled": true,
    "tags": [
     "hide-input"
    ]
   },
   "outputs": [],
   "source": [
    "import pandas as pd\n",
    "import matplotlib.pyplot as plt\n",
    "from matplotlib import dates\n",
    "from IPython.display import display, Markdown\n",
    "%matplotlib inline"
   ]
  },
  {
   "cell_type": "code",
   "execution_count": 2,
   "id": "purple-playlist",
   "metadata": {
    "execution": {
     "iopub.execute_input": "2021-02-13T22:11:46.961243Z",
     "iopub.status.busy": "2021-02-13T22:11:46.960687Z",
     "iopub.status.idle": "2021-02-13T22:11:47.553079Z",
     "shell.execute_reply": "2021-02-13T22:11:47.552223Z"
    },
    "jupyter": {
     "source_hidden": true
    },
    "papermill": {
     "duration": 0.606549,
     "end_time": "2021-02-13T22:11:47.553279",
     "exception": false,
     "start_time": "2021-02-13T22:11:46.946730",
     "status": "completed"
    },
    "scrolled": true,
    "tags": [
     "hide-input"
    ]
   },
   "outputs": [],
   "source": [
    "# This is the data for all of Wisconsin.\n",
    "url = \"https://opendata.arcgis.com/datasets/5374188992374b318d3e2305216ee413_12.csv\"\n",
    "data = pd.read_csv(url, parse_dates=['DATE'], low_memory=False)"
   ]
  },
  {
   "cell_type": "code",
   "execution_count": 3,
   "id": "proprietary-klein",
   "metadata": {
    "execution": {
     "iopub.execute_input": "2021-02-13T22:11:47.578892Z",
     "iopub.status.busy": "2021-02-13T22:11:47.578321Z",
     "iopub.status.idle": "2021-02-13T22:11:47.587007Z",
     "shell.execute_reply": "2021-02-13T22:11:47.587421Z"
    },
    "jupyter": {
     "source_hidden": true
    },
    "papermill": {
     "duration": 0.023935,
     "end_time": "2021-02-13T22:11:47.587607",
     "exception": false,
     "start_time": "2021-02-13T22:11:47.563672",
     "status": "completed"
    },
    "scrolled": true,
    "tags": [
     "hide-input"
    ]
   },
   "outputs": [],
   "source": [
    "dc = data.groupby('NAME').get_group('Dunn').sort_values(by='DATE') # Select the data for Dunn County from the full data.\n",
    "PNi = dc.columns.get_loc(\"POS_NEW\")\n",
    "dc['7_DAY'] = dc.iloc[:,PNi].rolling(window=7).mean() # Calculates the rolling 7-day average of new cases.\n",
    "dc['14_DAY'] = dc.iloc[:,PNi].rolling(window=14).mean() # Calculates the rolling 14-day average of new cases."
   ]
  },
  {
   "cell_type": "code",
   "execution_count": 4,
   "id": "steady-supervision",
   "metadata": {
    "execution": {
     "iopub.execute_input": "2021-02-13T22:11:47.611669Z",
     "iopub.status.busy": "2021-02-13T22:11:47.611085Z",
     "iopub.status.idle": "2021-02-13T22:11:47.613763Z",
     "shell.execute_reply": "2021-02-13T22:11:47.614167Z"
    },
    "jupyter": {
     "source_hidden": true
    },
    "papermill": {
     "duration": 0.01807,
     "end_time": "2021-02-13T22:11:47.614315",
     "exception": false,
     "start_time": "2021-02-13T22:11:47.596245",
     "status": "completed"
    },
    "scrolled": true,
    "tags": [
     "hide-input"
    ]
   },
   "outputs": [
    {
     "data": {
      "text/markdown": [
       "### Last updated: February 13, 2021"
      ],
      "text/plain": [
       "<IPython.core.display.Markdown object>"
      ]
     },
     "metadata": {},
     "output_type": "display_data"
    }
   ],
   "source": [
    "display(Markdown('### Last updated: ' + dc.iloc[-1]['DATE'].strftime(\"%B %d, %Y\")))"
   ]
  },
  {
   "cell_type": "code",
   "execution_count": 5,
   "id": "lonely-pitch",
   "metadata": {
    "execution": {
     "iopub.execute_input": "2021-02-13T22:11:47.638355Z",
     "iopub.status.busy": "2021-02-13T22:11:47.637807Z",
     "iopub.status.idle": "2021-02-13T22:11:47.640898Z",
     "shell.execute_reply": "2021-02-13T22:11:47.640455Z"
    },
    "jupyter": {
     "source_hidden": true
    },
    "papermill": {
     "duration": 0.017124,
     "end_time": "2021-02-13T22:11:47.641020",
     "exception": false,
     "start_time": "2021-02-13T22:11:47.623896",
     "status": "completed"
    },
    "tags": [
     "hide-input"
    ]
   },
   "outputs": [
    {
     "data": {
      "text/markdown": [
       "# Dunn County has 4176 total positive cases, with 8 new cases reported today."
      ],
      "text/plain": [
       "<IPython.core.display.Markdown object>"
      ]
     },
     "metadata": {},
     "output_type": "display_data"
    }
   ],
   "source": [
    "display(Markdown('# Dunn County has ' + str(dc.iloc[-1]['POSITIVE']) + ' total positive cases, with '+ str(int(dc.iloc[-1]['POS_NEW'])) + ' new cases reported today.'))"
   ]
  },
  {
   "cell_type": "code",
   "execution_count": 6,
   "id": "compound-nightmare",
   "metadata": {
    "execution": {
     "iopub.execute_input": "2021-02-13T22:11:47.664866Z",
     "iopub.status.busy": "2021-02-13T22:11:47.664323Z",
     "iopub.status.idle": "2021-02-13T22:11:47.922567Z",
     "shell.execute_reply": "2021-02-13T22:11:47.923001Z"
    },
    "jupyter": {
     "source_hidden": true
    },
    "papermill": {
     "duration": 0.272505,
     "end_time": "2021-02-13T22:11:47.923155",
     "exception": false,
     "start_time": "2021-02-13T22:11:47.650650",
     "status": "completed"
    },
    "scrolled": false,
    "tags": [
     "hide-input"
    ]
   },
   "outputs": [
    {
     "data": {
      "image/png": "[encoded data removed]",
      "text/plain": [
       "<Figure size 864x432 with 1 Axes>"
      ]
     },
     "metadata": {
      "needs_background": "light"
     },
     "output_type": "display_data"
    }
   ],
   "source": [
    "dc.plot(x='DATE',y='POSITIVE',color='red',grid='True',figsize=(12,6)).set_xlabel('Date');"
   ]
  },
  {
   "cell_type": "markdown",
   "id": "coupled-literacy",
   "metadata": {
    "papermill": {
     "duration": 0.010547,
     "end_time": "2021-02-13T22:11:47.944096",
     "exception": false,
     "start_time": "2021-02-13T22:11:47.933549",
     "status": "completed"
    },
    "tags": []
   },
   "source": [
    "## Figure 1: Cummulative number of positive cases."
   ]
  },
  {
   "cell_type": "code",
   "execution_count": 7,
   "id": "surrounded-reserve",
   "metadata": {
    "execution": {
     "iopub.execute_input": "2021-02-13T22:11:47.973203Z",
     "iopub.status.busy": "2021-02-13T22:11:47.972649Z",
     "iopub.status.idle": "2021-02-13T22:11:48.212130Z",
     "shell.execute_reply": "2021-02-13T22:11:48.212573Z"
    },
    "jupyter": {
     "source_hidden": true
    },
    "papermill": {
     "duration": 0.258367,
     "end_time": "2021-02-13T22:11:48.212728",
     "exception": false,
     "start_time": "2021-02-13T22:11:47.954361",
     "status": "completed"
    },
    "scrolled": false,
    "tags": [
     "hide-input"
    ]
   },
   "outputs": [
    {
     "data": {
      "image/png": "[encoded data removed]",
      "text/plain": [
       "<Figure size 864x432 with 1 Axes>"
      ]
     },
     "metadata": {
      "needs_background": "light"
     },
     "output_type": "display_data"
    }
   ],
   "source": [
    "dc.plot(kind='line',x='DATE',y='7_DAY',color='blue',grid='True',figsize=(12,6)).set_xlabel('Date');"
   ]
  },
  {
   "cell_type": "markdown",
   "id": "professional-savannah",
   "metadata": {
    "papermill": {
     "duration": 0.012091,
     "end_time": "2021-02-13T22:11:48.237105",
     "exception": false,
     "start_time": "2021-02-13T22:11:48.225014",
     "status": "completed"
    },
    "tags": []
   },
   "source": [
    "## Figure 2: Rolling 7-day average of daily new cases."
   ]
  },
  {
   "cell_type": "code",
   "execution_count": 8,
   "id": "stretch-investor",
   "metadata": {
    "execution": {
     "iopub.execute_input": "2021-02-13T22:11:48.267260Z",
     "iopub.status.busy": "2021-02-13T22:11:48.266451Z",
     "iopub.status.idle": "2021-02-13T22:11:48.513162Z",
     "shell.execute_reply": "2021-02-13T22:11:48.512690Z"
    },
    "jupyter": {
     "source_hidden": true
    },
    "papermill": {
     "duration": 0.264484,
     "end_time": "2021-02-13T22:11:48.513295",
     "exception": false,
     "start_time": "2021-02-13T22:11:48.248811",
     "status": "completed"
    },
    "tags": []
   },
   "outputs": [
    {
     "data": {
      "image/png": "[encoded data removed]",
      "text/plain": [
       "<Figure size 864x432 with 1 Axes>"
      ]
     },
     "metadata": {
      "needs_background": "light"
     },
     "output_type": "display_data"
    }
   ],
   "source": [
    "dc.plot(kind='line',x='DATE',y='14_DAY',color='green',grid='True',figsize=(12,6)).set_xlabel('Date');"
   ]
  },
  {
   "cell_type": "markdown",
   "id": "prerequisite-species",
   "metadata": {
    "papermill": {
     "duration": 0.014559,
     "end_time": "2021-02-13T22:11:48.540569",
     "exception": false,
     "start_time": "2021-02-13T22:11:48.526010",
     "status": "completed"
    },
    "tags": []
   },
   "source": [
    "## Figure 3: Rolling 14-day average of daily new cases."
   ]
  },
  {
   "cell_type": "markdown",
   "id": "palestinian-guard",
   "metadata": {
    "papermill": {
     "duration": 0.013583,
     "end_time": "2021-02-13T22:11:48.572836",
     "exception": false,
     "start_time": "2021-02-13T22:11:48.559253",
     "status": "completed"
    },
    "tags": []
   },
   "source": [
    "Data source: [Wisconsin Department of Health Services](https://data.dhsgis.wi.gov/datasets/covid-19-historical-data-table/)"
   ]
  },
  {
   "cell_type": "code",
   "execution_count": 9,
   "id": "proof-medicare",
   "metadata": {
    "execution": {
     "iopub.execute_input": "2021-02-13T22:11:48.604430Z",
     "iopub.status.busy": "2021-02-13T22:11:48.603876Z",
     "iopub.status.idle": "2021-02-13T22:11:48.606925Z",
     "shell.execute_reply": "2021-02-13T22:11:48.606450Z"
    },
    "jupyter": {
     "source_hidden": true
    },
    "papermill": {
     "duration": 0.020535,
     "end_time": "2021-02-13T22:11:48.607051",
     "exception": false,
     "start_time": "2021-02-13T22:11:48.586516",
     "status": "completed"
    },
    "tags": []
   },
   "outputs": [
    {
     "data": {
      "text/html": [
       "<style>\n",
       "div.input {\n",
       "    display:none;\n",
       "}\n",
       "</style>\n"
      ],
      "text/plain": [
       "<IPython.core.display.HTML object>"
      ]
     },
     "metadata": {},
     "output_type": "display_data"
    }
   ],
   "source": [
    "%%html\n",
    "<style>\n",
    "div.input {\n",
    "    display:none;\n",
    "}\n",
    "</style>"
   ]
  }
 ],
 "metadata": {
  "kernelspec": {
   "display_name": "Python 3",
   "language": "python",
   "name": "python3"
  },
  "language_info": {
   "codemirror_mode": {
    "name": "ipython",
    "version": 3
   },
   "file_extension": ".py",
   "mimetype": "text/x-python",
   "name": "python",
   "nbconvert_exporter": "python",
   "pygments_lexer": "ipython3",
   "version": "3.8.7"
  },
  "papermill": {
   "duration": 6.269674,
   "end_time": "2021-02-13T22:11:49.027426",
   "environment_variables": {},
   "exception": null,
   "input_path": "DunnCounty_COVID19.ipynb",
   "output_path": "DunnCounty_COVID19.ipynb",
   "parameters": {
    "Start": "True",
    "secretsPath": "/home/runner/work/_temp/secrets.json"
   },
   "start_time": "2021-02-13T22:11:42.757752",
   "version": "1.1.16"
  }
 },
 "nbformat": 4,
 "nbformat_minor": 5
}