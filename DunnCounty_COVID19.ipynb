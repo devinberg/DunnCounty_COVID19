{
 "cells": [
  {
   "cell_type": "code",
   "execution_count": 1,
   "id": "solar-understanding",
   "metadata": {
    "execution": {
     "iopub.execute_input": "2021-05-09T22:14:42.963085Z",
     "iopub.status.busy": "2021-05-09T22:14:42.962630Z",
     "iopub.status.idle": "2021-05-09T22:14:43.639358Z",
     "shell.execute_reply": "2021-05-09T22:14:43.638804Z"
    },
    "jupyter": {
     "source_hidden": true
    },
    "papermill": {
     "duration": 0.694437,
     "end_time": "2021-05-09T22:14:43.639495",
     "exception": false,
     "start_time": "2021-05-09T22:14:42.945058",
     "status": "completed"
    },
    "scrolled": true,
    "tags": [
     "hide-input"
    ]
   },
   "outputs": [],
   "source": [
    "import pandas as pd\n",
    "import matplotlib.pyplot as plt\n",
    "from matplotlib import dates\n",
    "from IPython.display import display, Markdown\n",
    "%matplotlib inline"
   ]
  },
  {
   "cell_type": "code",
   "execution_count": 2,
   "id": "purple-playlist",
   "metadata": {
    "execution": {
     "iopub.execute_input": "2021-05-09T22:14:43.660454Z",
     "iopub.status.busy": "2021-05-09T22:14:43.659996Z",
     "iopub.status.idle": "2021-05-09T22:14:44.438215Z",
     "shell.execute_reply": "2021-05-09T22:14:44.438635Z"
    },
    "jupyter": {
     "source_hidden": true
    },
    "papermill": {
     "duration": 0.790895,
     "end_time": "2021-05-09T22:14:44.438794",
     "exception": false,
     "start_time": "2021-05-09T22:14:43.647899",
     "status": "completed"
    },
    "scrolled": true,
    "tags": [
     "hide-input"
    ]
   },
   "outputs": [],
   "source": [
    "# This is the data for all of Wisconsin.\n",
    "url = \"https://opendata.arcgis.com/datasets/80ff9d4897db4d7692f0f4ad28447cab_12.csv\"\n",
    "data = pd.read_csv(url, parse_dates=['DATE'], low_memory=False)"
   ]
  },
  {
   "cell_type": "code",
   "execution_count": 3,
   "id": "proprietary-klein",
   "metadata": {
    "execution": {
     "iopub.execute_input": "2021-05-09T22:14:44.460444Z",
     "iopub.status.busy": "2021-05-09T22:14:44.459977Z",
     "iopub.status.idle": "2021-05-09T22:14:44.467444Z",
     "shell.execute_reply": "2021-05-09T22:14:44.466999Z"
    },
    "jupyter": {
     "source_hidden": true
    },
    "papermill": {
     "duration": 0.019888,
     "end_time": "2021-05-09T22:14:44.467537",
     "exception": false,
     "start_time": "2021-05-09T22:14:44.447649",
     "status": "completed"
    },
    "scrolled": true,
    "tags": [
     "hide-input"
    ]
   },
   "outputs": [],
   "source": [
    "dc = data.groupby('NAME').get_group('Dunn').sort_values(by='DATE') # Select the data for Dunn County from the full data.\n",
    "PNi = dc.columns.get_loc(\"POS_NEW\")\n",
    "dc['7_DAY'] = dc.iloc[:,PNi].rolling(window=7).mean() # Calculates the rolling 7-day average of new cases.\n",
    "dc['14_DAY'] = dc.iloc[:,PNi].rolling(window=14).mean() # Calculates the rolling 14-day average of new cases."
   ]
  },
  {
   "cell_type": "code",
   "execution_count": 4,
   "id": "steady-supervision",
   "metadata": {
    "execution": {
     "iopub.execute_input": "2021-05-09T22:14:44.487637Z",
     "iopub.status.busy": "2021-05-09T22:14:44.487194Z",
     "iopub.status.idle": "2021-05-09T22:14:44.491386Z",
     "shell.execute_reply": "2021-05-09T22:14:44.491728Z"
    },
    "jupyter": {
     "source_hidden": true
    },
    "papermill": {
     "duration": 0.016904,
     "end_time": "2021-05-09T22:14:44.491837",
     "exception": false,
     "start_time": "2021-05-09T22:14:44.474933",
     "status": "completed"
    },
    "scrolled": true,
    "tags": [
     "hide-input"
    ]
   },
   "outputs": [
    {
     "data": {
      "text/markdown": [
       "### Last updated: May 08, 2021"
      ],
      "text/plain": [
       "<IPython.core.display.Markdown object>"
      ]
     },
     "metadata": {},
     "output_type": "display_data"
    }
   ],
   "source": [
    "display(Markdown('### Last updated: ' + dc.iloc[-1]['DATE'].strftime(\"%B %d, %Y\")))"
   ]
  },
  {
   "cell_type": "code",
   "execution_count": 5,
   "id": "lonely-pitch",
   "metadata": {
    "execution": {
     "iopub.execute_input": "2021-05-09T22:14:44.511574Z",
     "iopub.status.busy": "2021-05-09T22:14:44.511135Z",
     "iopub.status.idle": "2021-05-09T22:14:44.513708Z",
     "shell.execute_reply": "2021-05-09T22:14:44.514065Z"
    },
    "jupyter": {
     "source_hidden": true
    },
    "papermill": {
     "duration": 0.014578,
     "end_time": "2021-05-09T22:14:44.514168",
     "exception": false,
     "start_time": "2021-05-09T22:14:44.499590",
     "status": "completed"
    },
    "tags": [
     "hide-input"
    ]
   },
   "outputs": [
    {
     "data": {
      "text/markdown": [
       "# Dunn County has 4642 total positive cases, with 2 new cases reported today."
      ],
      "text/plain": [
       "<IPython.core.display.Markdown object>"
      ]
     },
     "metadata": {},
     "output_type": "display_data"
    }
   ],
   "source": [
    "display(Markdown('# Dunn County has ' + str(dc.iloc[-1]['POSITIVE']) + ' total positive cases, with '+ str(int(dc.iloc[-1]['POS_NEW'])) + ' new cases reported today.'))"
   ]
  },
  {
   "cell_type": "code",
   "execution_count": 6,
   "id": "compound-nightmare",
   "metadata": {
    "execution": {
     "iopub.execute_input": "2021-05-09T22:14:44.533511Z",
     "iopub.status.busy": "2021-05-09T22:14:44.533074Z",
     "iopub.status.idle": "2021-05-09T22:14:44.769159Z",
     "shell.execute_reply": "2021-05-09T22:14:44.768712Z"
    },
    "jupyter": {
     "source_hidden": true
    },
    "papermill": {
     "duration": 0.247039,
     "end_time": "2021-05-09T22:14:44.769284",
     "exception": false,
     "start_time": "2021-05-09T22:14:44.522245",
     "status": "completed"
    },
    "scrolled": false,
    "tags": [
     "hide-input"
    ]
   },
   "outputs": [
    {
     "data": {
      "image/png": "[encoded data removed]",
      "text/plain": [
       "<Figure size 864x432 with 1 Axes>"
      ]
     },
     "metadata": {
      "needs_background": "light"
     },
     "output_type": "display_data"
    }
   ],
   "source": [
    "dc.plot(x='DATE',y='POSITIVE',color='red',grid='True',figsize=(12,6)).set_xlabel('Date');"
   ]
  },
  {
   "cell_type": "markdown",
   "id": "coupled-literacy",
   "metadata": {
    "papermill": {
     "duration": 0.009245,
     "end_time": "2021-05-09T22:14:44.787867",
     "exception": false,
     "start_time": "2021-05-09T22:14:44.778622",
     "status": "completed"
    },
    "tags": []
   },
   "source": [
    "## Figure 1: Cummulative number of positive cases."
   ]
  },
  {
   "cell_type": "code",
   "execution_count": 7,
   "id": "surrounded-reserve",
   "metadata": {
    "execution": {
     "iopub.execute_input": "2021-05-09T22:14:44.809421Z",
     "iopub.status.busy": "2021-05-09T22:14:44.808903Z",
     "iopub.status.idle": "2021-05-09T22:14:44.998068Z",
     "shell.execute_reply": "2021-05-09T22:14:44.997617Z"
    },
    "jupyter": {
     "source_hidden": true
    },
    "papermill": {
     "duration": 0.201449,
     "end_time": "2021-05-09T22:14:44.998180",
     "exception": false,
     "start_time": "2021-05-09T22:14:44.796731",
     "status": "completed"
    },
    "scrolled": false,
    "tags": [
     "hide-input"
    ]
   },
   "outputs": [
    {
     "data": {
      "image/png": "[encoded data removed]",
      "text/plain": [
       "<Figure size 864x432 with 1 Axes>"
      ]
     },
     "metadata": {
      "needs_background": "light"
     },
     "output_type": "display_data"
    }
   ],
   "source": [
    "dc.plot(kind='line',x='DATE',y='7_DAY',color='blue',grid='True',figsize=(12,6)).set_xlabel('Date');"
   ]
  },
  {
   "cell_type": "markdown",
   "id": "professional-savannah",
   "metadata": {
    "papermill": {
     "duration": 0.010047,
     "end_time": "2021-05-09T22:14:45.019115",
     "exception": false,
     "start_time": "2021-05-09T22:14:45.009068",
     "status": "completed"
    },
    "tags": []
   },
   "source": [
    "## Figure 2: Rolling 7-day average of daily new cases."
   ]
  },
  {
   "cell_type": "code",
   "execution_count": 8,
   "id": "stretch-investor",
   "metadata": {
    "execution": {
     "iopub.execute_input": "2021-05-09T22:14:45.042197Z",
     "iopub.status.busy": "2021-05-09T22:14:45.041754Z",
     "iopub.status.idle": "2021-05-09T22:14:45.227638Z",
     "shell.execute_reply": "2021-05-09T22:14:45.227261Z"
    },
    "jupyter": {
     "source_hidden": true
    },
    "papermill": {
     "duration": 0.198855,
     "end_time": "2021-05-09T22:14:45.227742",
     "exception": false,
     "start_time": "2021-05-09T22:14:45.028887",
     "status": "completed"
    },
    "tags": []
   },
   "outputs": [
    {
     "data": {
      "image/png": "[encoded data removed]",
      "text/plain": [
       "<Figure size 864x432 with 1 Axes>"
      ]
     },
     "metadata": {
      "needs_background": "light"
     },
     "output_type": "display_data"
    }
   ],
   "source": [
    "dc.plot(kind='line',x='DATE',y='14_DAY',color='green',grid='True',figsize=(12,6)).set_xlabel('Date');"
   ]
  },
  {
   "cell_type": "markdown",
   "id": "prerequisite-species",
   "metadata": {
    "papermill": {
     "duration": 0.011338,
     "end_time": "2021-05-09T22:14:45.250115",
     "exception": false,
     "start_time": "2021-05-09T22:14:45.238777",
     "status": "completed"
    },
    "tags": []
   },
   "source": [
    "## Figure 3: Rolling 14-day average of daily new cases."
   ]
  },
  {
   "cell_type": "markdown",
   "id": "palestinian-guard",
   "metadata": {
    "papermill": {
     "duration": 0.010632,
     "end_time": "2021-05-09T22:14:45.271417",
     "exception": false,
     "start_time": "2021-05-09T22:14:45.260785",
     "status": "completed"
    },
    "tags": []
   },
   "source": [
    "Data source: [Wisconsin Department of Health Services](https://data.dhsgis.wi.gov/datasets/covid-19-historical-data-by-county)"
   ]
  },
  {
   "cell_type": "code",
   "execution_count": 9,
   "id": "proof-medicare",
   "metadata": {
    "execution": {
     "iopub.execute_input": "2021-05-09T22:14:45.296755Z",
     "iopub.status.busy": "2021-05-09T22:14:45.295572Z",
     "iopub.status.idle": "2021-05-09T22:14:45.299082Z",
     "shell.execute_reply": "2021-05-09T22:14:45.298696Z"
    },
    "jupyter": {
     "source_hidden": true
    },
    "papermill": {
     "duration": 0.017132,
     "end_time": "2021-05-09T22:14:45.299174",
     "exception": false,
     "start_time": "2021-05-09T22:14:45.282042",
     "status": "completed"
    },
    "tags": []
   },
   "outputs": [
    {
     "data": {
      "text/html": [
       "<style>\n",
       "div.input {\n",
       "    display:none;\n",
       "}\n",
       "</style>\n"
      ],
      "text/plain": [
       "<IPython.core.display.HTML object>"
      ]
     },
     "metadata": {},
     "output_type": "display_data"
    }
   ],
   "source": [
    "%%html\n",
    "<style>\n",
    "div.input {\n",
    "    display:none;\n",
    "}\n",
    "</style>"
   ]
  }
 ],
 "metadata": {
  "kernelspec": {
   "display_name": "Python 3",
   "language": "python",
   "name": "python3"
  },
  "language_info": {
   "codemirror_mode": {
    "name": "ipython",
    "version": 3
   },
   "file_extension": ".py",
   "mimetype": "text/x-python",
   "name": "python",
   "nbconvert_exporter": "python",
   "pygments_lexer": "ipython3",
   "version": "3.8.10"
  },
  "papermill": {
   "duration": 3.773682,
   "end_time": "2021-05-09T22:14:45.617635",
   "environment_variables": {},
   "exception": null,
   "input_path": "DunnCounty_COVID19.ipynb",
   "output_path": "DunnCounty_COVID19.ipynb",
   "parameters": {
    "Start": "True",
    "secretsPath": "/home/runner/work/_temp/secrets.json"
   },
   "start_time": "2021-05-09T22:14:41.843953",
   "version": "1.1.16"
  }
 },
 "nbformat": 4,
 "nbformat_minor": 5
}