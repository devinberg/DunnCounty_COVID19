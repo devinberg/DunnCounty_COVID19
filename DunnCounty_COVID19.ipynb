{
 "cells": [
  {
   "cell_type": "code",
   "execution_count": 1,
   "id": "solar-understanding",
   "metadata": {
    "execution": {
     "iopub.execute_input": "2021-04-18T10:15:47.108546Z",
     "iopub.status.busy": "2021-04-18T10:15:47.107954Z",
     "iopub.status.idle": "2021-04-18T10:15:48.029036Z",
     "shell.execute_reply": "2021-04-18T10:15:48.028451Z"
    },
    "jupyter": {
     "source_hidden": true
    },
    "papermill": {
     "duration": 0.943035,
     "end_time": "2021-04-18T10:15:48.029181",
     "exception": false,
     "start_time": "2021-04-18T10:15:47.086146",
     "status": "completed"
    },
    "scrolled": true,
    "tags": [
     "hide-input"
    ]
   },
   "outputs": [],
   "source": [
    "import pandas as pd\n",
    "import matplotlib.pyplot as plt\n",
    "from matplotlib import dates\n",
    "from IPython.display import display, Markdown\n",
    "%matplotlib inline"
   ]
  },
  {
   "cell_type": "code",
   "execution_count": 2,
   "id": "purple-playlist",
   "metadata": {
    "execution": {
     "iopub.execute_input": "2021-04-18T10:15:48.053987Z",
     "iopub.status.busy": "2021-04-18T10:15:48.053432Z",
     "iopub.status.idle": "2021-04-18T10:15:48.832100Z",
     "shell.execute_reply": "2021-04-18T10:15:48.831167Z"
    },
    "jupyter": {
     "source_hidden": true
    },
    "papermill": {
     "duration": 0.793849,
     "end_time": "2021-04-18T10:15:48.832239",
     "exception": false,
     "start_time": "2021-04-18T10:15:48.038390",
     "status": "completed"
    },
    "scrolled": true,
    "tags": [
     "hide-input"
    ]
   },
   "outputs": [],
   "source": [
    "# This is the data for all of Wisconsin.\n",
    "url = \"https://opendata.arcgis.com/datasets/0b7bac0afc464e7783474cb62272d9b8_12.csv\"\n",
    "data = pd.read_csv(url, parse_dates=['DATE'], low_memory=False)"
   ]
  },
  {
   "cell_type": "code",
   "execution_count": 3,
   "id": "proprietary-klein",
   "metadata": {
    "execution": {
     "iopub.execute_input": "2021-04-18T10:15:48.856010Z",
     "iopub.status.busy": "2021-04-18T10:15:48.855381Z",
     "iopub.status.idle": "2021-04-18T10:15:48.864624Z",
     "shell.execute_reply": "2021-04-18T10:15:48.864171Z"
    },
    "jupyter": {
     "source_hidden": true
    },
    "papermill": {
     "duration": 0.023472,
     "end_time": "2021-04-18T10:15:48.864745",
     "exception": false,
     "start_time": "2021-04-18T10:15:48.841273",
     "status": "completed"
    },
    "scrolled": true,
    "tags": [
     "hide-input"
    ]
   },
   "outputs": [],
   "source": [
    "dc = data.groupby('NAME').get_group('Dunn').sort_values(by='DATE') # Select the data for Dunn County from the full data.\n",
    "PNi = dc.columns.get_loc(\"POS_NEW\")\n",
    "dc['7_DAY'] = dc.iloc[:,PNi].rolling(window=7).mean() # Calculates the rolling 7-day average of new cases.\n",
    "dc['14_DAY'] = dc.iloc[:,PNi].rolling(window=14).mean() # Calculates the rolling 14-day average of new cases."
   ]
  },
  {
   "cell_type": "code",
   "execution_count": 4,
   "id": "steady-supervision",
   "metadata": {
    "execution": {
     "iopub.execute_input": "2021-04-18T10:15:48.891236Z",
     "iopub.status.busy": "2021-04-18T10:15:48.890474Z",
     "iopub.status.idle": "2021-04-18T10:15:48.896421Z",
     "shell.execute_reply": "2021-04-18T10:15:48.895961Z"
    },
    "jupyter": {
     "source_hidden": true
    },
    "papermill": {
     "duration": 0.022884,
     "end_time": "2021-04-18T10:15:48.896544",
     "exception": false,
     "start_time": "2021-04-18T10:15:48.873660",
     "status": "completed"
    },
    "scrolled": true,
    "tags": [
     "hide-input"
    ]
   },
   "outputs": [
    {
     "data": {
      "text/markdown": [
       "### Last updated: April 17, 2021"
      ],
      "text/plain": [
       "<IPython.core.display.Markdown object>"
      ]
     },
     "metadata": {},
     "output_type": "display_data"
    }
   ],
   "source": [
    "display(Markdown('### Last updated: ' + dc.iloc[-1]['DATE'].strftime(\"%B %d, %Y\")))"
   ]
  },
  {
   "cell_type": "code",
   "execution_count": 5,
   "id": "lonely-pitch",
   "metadata": {
    "execution": {
     "iopub.execute_input": "2021-04-18T10:15:48.921987Z",
     "iopub.status.busy": "2021-04-18T10:15:48.921434Z",
     "iopub.status.idle": "2021-04-18T10:15:48.925020Z",
     "shell.execute_reply": "2021-04-18T10:15:48.924572Z"
    },
    "jupyter": {
     "source_hidden": true
    },
    "papermill": {
     "duration": 0.01926,
     "end_time": "2021-04-18T10:15:48.925145",
     "exception": false,
     "start_time": "2021-04-18T10:15:48.905885",
     "status": "completed"
    },
    "tags": [
     "hide-input"
    ]
   },
   "outputs": [
    {
     "data": {
      "text/markdown": [
       "# Dunn County has 4533 total positive cases, with 3 new cases reported today."
      ],
      "text/plain": [
       "<IPython.core.display.Markdown object>"
      ]
     },
     "metadata": {},
     "output_type": "display_data"
    }
   ],
   "source": [
    "display(Markdown('# Dunn County has ' + str(dc.iloc[-1]['POSITIVE']) + ' total positive cases, with '+ str(int(dc.iloc[-1]['POS_NEW'])) + ' new cases reported today.'))"
   ]
  },
  {
   "cell_type": "code",
   "execution_count": 6,
   "id": "compound-nightmare",
   "metadata": {
    "execution": {
     "iopub.execute_input": "2021-04-18T10:15:48.949684Z",
     "iopub.status.busy": "2021-04-18T10:15:48.948944Z",
     "iopub.status.idle": "2021-04-18T10:15:49.206340Z",
     "shell.execute_reply": "2021-04-18T10:15:49.205546Z"
    },
    "jupyter": {
     "source_hidden": true
    },
    "papermill": {
     "duration": 0.271811,
     "end_time": "2021-04-18T10:15:49.206544",
     "exception": false,
     "start_time": "2021-04-18T10:15:48.934733",
     "status": "completed"
    },
    "scrolled": false,
    "tags": [
     "hide-input"
    ]
   },
   "outputs": [
    {
     "data": {
      "image/png": "[encoded data removed]",
      "text/plain": [
       "<Figure size 864x432 with 1 Axes>"
      ]
     },
     "metadata": {
      "needs_background": "light"
     },
     "output_type": "display_data"
    }
   ],
   "source": [
    "dc.plot(x='DATE',y='POSITIVE',color='red',grid='True',figsize=(12,6)).set_xlabel('Date');"
   ]
  },
  {
   "cell_type": "markdown",
   "id": "coupled-literacy",
   "metadata": {
    "papermill": {
     "duration": 0.010868,
     "end_time": "2021-04-18T10:15:49.228340",
     "exception": false,
     "start_time": "2021-04-18T10:15:49.217472",
     "status": "completed"
    },
    "tags": []
   },
   "source": [
    "## Figure 1: Cummulative number of positive cases."
   ]
  },
  {
   "cell_type": "code",
   "execution_count": 7,
   "id": "surrounded-reserve",
   "metadata": {
    "execution": {
     "iopub.execute_input": "2021-04-18T10:15:49.284601Z",
     "iopub.status.busy": "2021-04-18T10:15:49.272153Z",
     "iopub.status.idle": "2021-04-18T10:15:49.460339Z",
     "shell.execute_reply": "2021-04-18T10:15:49.459203Z"
    },
    "jupyter": {
     "source_hidden": true
    },
    "papermill": {
     "duration": 0.221652,
     "end_time": "2021-04-18T10:15:49.460478",
     "exception": false,
     "start_time": "2021-04-18T10:15:49.238826",
     "status": "completed"
    },
    "scrolled": false,
    "tags": [
     "hide-input"
    ]
   },
   "outputs": [
    {
     "data": {
      "image/png": "[encoded data removed]",
      "text/plain": [
       "<Figure size 864x432 with 1 Axes>"
      ]
     },
     "metadata": {
      "needs_background": "light"
     },
     "output_type": "display_data"
    }
   ],
   "source": [
    "dc.plot(kind='line',x='DATE',y='7_DAY',color='blue',grid='True',figsize=(12,6)).set_xlabel('Date');"
   ]
  },
  {
   "cell_type": "markdown",
   "id": "professional-savannah",
   "metadata": {
    "papermill": {
     "duration": 0.012089,
     "end_time": "2021-04-18T10:15:49.492609",
     "exception": false,
     "start_time": "2021-04-18T10:15:49.480520",
     "status": "completed"
    },
    "tags": []
   },
   "source": [
    "## Figure 2: Rolling 7-day average of daily new cases."
   ]
  },
  {
   "cell_type": "code",
   "execution_count": 8,
   "id": "stretch-investor",
   "metadata": {
    "execution": {
     "iopub.execute_input": "2021-04-18T10:15:49.527710Z",
     "iopub.status.busy": "2021-04-18T10:15:49.527121Z",
     "iopub.status.idle": "2021-04-18T10:15:49.721860Z",
     "shell.execute_reply": "2021-04-18T10:15:49.721374Z"
    },
    "jupyter": {
     "source_hidden": true
    },
    "papermill": {
     "duration": 0.217443,
     "end_time": "2021-04-18T10:15:49.721982",
     "exception": false,
     "start_time": "2021-04-18T10:15:49.504539",
     "status": "completed"
    },
    "tags": []
   },
   "outputs": [
    {
     "data": {
      "image/png": "[encoded data removed]",
      "text/plain": [
       "<Figure size 864x432 with 1 Axes>"
      ]
     },
     "metadata": {
      "needs_background": "light"
     },
     "output_type": "display_data"
    }
   ],
   "source": [
    "dc.plot(kind='line',x='DATE',y='14_DAY',color='green',grid='True',figsize=(12,6)).set_xlabel('Date');"
   ]
  },
  {
   "cell_type": "markdown",
   "id": "prerequisite-species",
   "metadata": {
    "papermill": {
     "duration": 0.012739,
     "end_time": "2021-04-18T10:15:49.747850",
     "exception": false,
     "start_time": "2021-04-18T10:15:49.735111",
     "status": "completed"
    },
    "tags": []
   },
   "source": [
    "## Figure 3: Rolling 14-day average of daily new cases."
   ]
  },
  {
   "cell_type": "markdown",
   "id": "palestinian-guard",
   "metadata": {
    "papermill": {
     "duration": 0.012797,
     "end_time": "2021-04-18T10:15:49.774144",
     "exception": false,
     "start_time": "2021-04-18T10:15:49.761347",
     "status": "completed"
    },
    "tags": []
   },
   "source": [
    "Data source: [Wisconsin Department of Health Services](https://data.dhsgis.wi.gov/datasets/covid-19-historical-data-by-county)"
   ]
  },
  {
   "cell_type": "code",
   "execution_count": 9,
   "id": "proof-medicare",
   "metadata": {
    "execution": {
     "iopub.execute_input": "2021-04-18T10:15:49.806977Z",
     "iopub.status.busy": "2021-04-18T10:15:49.806397Z",
     "iopub.status.idle": "2021-04-18T10:15:49.809047Z",
     "shell.execute_reply": "2021-04-18T10:15:49.809469Z"
    },
    "jupyter": {
     "source_hidden": true
    },
    "papermill": {
     "duration": 0.022653,
     "end_time": "2021-04-18T10:15:49.809616",
     "exception": false,
     "start_time": "2021-04-18T10:15:49.786963",
     "status": "completed"
    },
    "tags": []
   },
   "outputs": [
    {
     "data": {
      "text/html": [
       "<style>\n",
       "div.input {\n",
       "    display:none;\n",
       "}\n",
       "</style>\n"
      ],
      "text/plain": [
       "<IPython.core.display.HTML object>"
      ]
     },
     "metadata": {},
     "output_type": "display_data"
    }
   ],
   "source": [
    "%%html\n",
    "<style>\n",
    "div.input {\n",
    "    display:none;\n",
    "}\n",
    "</style>"
   ]
  }
 ],
 "metadata": {
  "kernelspec": {
   "display_name": "Python 3",
   "language": "python",
   "name": "python3"
  },
  "language_info": {
   "codemirror_mode": {
    "name": "ipython",
    "version": 3
   },
   "file_extension": ".py",
   "mimetype": "text/x-python",
   "name": "python",
   "nbconvert_exporter": "python",
   "pygments_lexer": "ipython3",
   "version": "3.8.9"
  },
  "papermill": {
   "duration": 5.847025,
   "end_time": "2021-04-18T10:15:51.123149",
   "environment_variables": {},
   "exception": null,
   "input_path": "DunnCounty_COVID19.ipynb",
   "output_path": "DunnCounty_COVID19.ipynb",
   "parameters": {
    "Start": "True",
    "secretsPath": "/home/runner/work/_temp/secrets.json"
   },
   "start_time": "2021-04-18T10:15:45.276124",
   "version": "1.1.16"
  }
 },
 "nbformat": 4,
 "nbformat_minor": 5
}