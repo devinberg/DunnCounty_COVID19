{
 "cells": [
  {
   "cell_type": "code",
   "execution_count": 1,
   "id": "solar-understanding",
   "metadata": {
    "execution": {
     "iopub.execute_input": "2021-07-02T22:13:51.749830Z",
     "iopub.status.busy": "2021-07-02T22:13:51.749270Z",
     "iopub.status.idle": "2021-07-02T22:13:52.654462Z",
     "shell.execute_reply": "2021-07-02T22:13:52.653582Z"
    },
    "jupyter": {
     "source_hidden": true
    },
    "papermill": {
     "duration": 0.922238,
     "end_time": "2021-07-02T22:13:52.654624",
     "exception": false,
     "start_time": "2021-07-02T22:13:51.732386",
     "status": "completed"
    },
    "scrolled": true,
    "tags": [
     "hide-input"
    ]
   },
   "outputs": [],
   "source": [
    "import pandas as pd\n",
    "import matplotlib.pyplot as plt\n",
    "from matplotlib import dates\n",
    "from IPython.display import display, Markdown\n",
    "%matplotlib inline"
   ]
  },
  {
   "cell_type": "code",
   "execution_count": 2,
   "id": "purple-playlist",
   "metadata": {
    "execution": {
     "iopub.execute_input": "2021-07-02T22:13:52.677811Z",
     "iopub.status.busy": "2021-07-02T22:13:52.677267Z",
     "iopub.status.idle": "2021-07-02T22:13:53.617197Z",
     "shell.execute_reply": "2021-07-02T22:13:53.616140Z"
    },
    "jupyter": {
     "source_hidden": true
    },
    "papermill": {
     "duration": 0.954,
     "end_time": "2021-07-02T22:13:53.617340",
     "exception": false,
     "start_time": "2021-07-02T22:13:52.663340",
     "status": "completed"
    },
    "scrolled": true,
    "tags": [
     "hide-input"
    ]
   },
   "outputs": [],
   "source": [
    "# This is the data for all of Wisconsin.\n",
    "url = \"https://opendata.arcgis.com/api/v3/datasets/3161f6e01d8141c6abe85a29ff7f3d3c_12/downloads/data?format=csv&spatialRefId=3857\"\n",
    "data = pd.read_csv(url, parse_dates=['DATE'], low_memory=False)"
   ]
  },
  {
   "cell_type": "code",
   "execution_count": 3,
   "id": "proprietary-klein",
   "metadata": {
    "execution": {
     "iopub.execute_input": "2021-07-02T22:13:53.640518Z",
     "iopub.status.busy": "2021-07-02T22:13:53.639608Z",
     "iopub.status.idle": "2021-07-02T22:13:53.649509Z",
     "shell.execute_reply": "2021-07-02T22:13:53.649014Z"
    },
    "jupyter": {
     "source_hidden": true
    },
    "papermill": {
     "duration": 0.023853,
     "end_time": "2021-07-02T22:13:53.649621",
     "exception": false,
     "start_time": "2021-07-02T22:13:53.625768",
     "status": "completed"
    },
    "scrolled": true,
    "tags": [
     "hide-input"
    ]
   },
   "outputs": [],
   "source": [
    "dc = data.groupby('NAME').get_group('Dunn').sort_values(by='DATE') # Select the data for Dunn County from the full data.\n",
    "PNi = dc.columns.get_loc(\"POS_NEW\")\n",
    "dc['7_DAY'] = dc.iloc[:,PNi].rolling(window=7).mean() # Calculates the rolling 7-day average of new cases.\n",
    "dc['14_DAY'] = dc.iloc[:,PNi].rolling(window=14).mean() # Calculates the rolling 14-day average of new cases."
   ]
  },
  {
   "cell_type": "code",
   "execution_count": 4,
   "id": "steady-supervision",
   "metadata": {
    "execution": {
     "iopub.execute_input": "2021-07-02T22:13:53.673322Z",
     "iopub.status.busy": "2021-07-02T22:13:53.672796Z",
     "iopub.status.idle": "2021-07-02T22:13:53.675077Z",
     "shell.execute_reply": "2021-07-02T22:13:53.675495Z"
    },
    "jupyter": {
     "source_hidden": true
    },
    "papermill": {
     "duration": 0.01757,
     "end_time": "2021-07-02T22:13:53.675624",
     "exception": false,
     "start_time": "2021-07-02T22:13:53.658054",
     "status": "completed"
    },
    "scrolled": true,
    "tags": [
     "hide-input"
    ]
   },
   "outputs": [
    {
     "data": {
      "text/markdown": [
       "### Last updated: July 02, 2021"
      ],
      "text/plain": [
       "<IPython.core.display.Markdown object>"
      ]
     },
     "metadata": {},
     "output_type": "display_data"
    }
   ],
   "source": [
    "display(Markdown('### Last updated: ' + dc.iloc[-1]['DATE'].strftime(\"%B %d, %Y\")))"
   ]
  },
  {
   "cell_type": "code",
   "execution_count": 5,
   "id": "lonely-pitch",
   "metadata": {
    "execution": {
     "iopub.execute_input": "2021-07-02T22:13:53.698911Z",
     "iopub.status.busy": "2021-07-02T22:13:53.698361Z",
     "iopub.status.idle": "2021-07-02T22:13:53.700819Z",
     "shell.execute_reply": "2021-07-02T22:13:53.701253Z"
    },
    "jupyter": {
     "source_hidden": true
    },
    "papermill": {
     "duration": 0.017308,
     "end_time": "2021-07-02T22:13:53.701382",
     "exception": false,
     "start_time": "2021-07-02T22:13:53.684074",
     "status": "completed"
    },
    "tags": [
     "hide-input"
    ]
   },
   "outputs": [
    {
     "data": {
      "text/markdown": [
       "# Dunn County has 4719 total positive cases, with 1 new cases reported today."
      ],
      "text/plain": [
       "<IPython.core.display.Markdown object>"
      ]
     },
     "metadata": {},
     "output_type": "display_data"
    }
   ],
   "source": [
    "display(Markdown('# Dunn County has ' + str(dc.iloc[-1]['POSITIVE']) + ' total positive cases, with '+ str(int(dc.iloc[-1]['POS_NEW'])) + ' new cases reported today.'))"
   ]
  },
  {
   "cell_type": "code",
   "execution_count": 6,
   "id": "compound-nightmare",
   "metadata": {
    "execution": {
     "iopub.execute_input": "2021-07-02T22:13:53.725191Z",
     "iopub.status.busy": "2021-07-02T22:13:53.723889Z",
     "iopub.status.idle": "2021-07-02T22:13:53.950316Z",
     "shell.execute_reply": "2021-07-02T22:13:53.949464Z"
    },
    "jupyter": {
     "source_hidden": true
    },
    "papermill": {
     "duration": 0.240112,
     "end_time": "2021-07-02T22:13:53.950442",
     "exception": false,
     "start_time": "2021-07-02T22:13:53.710330",
     "status": "completed"
    },
    "scrolled": false,
    "tags": [
     "hide-input"
    ]
   },
   "outputs": [
    {
     "data": {
      "image/png": "[encoded data removed]",
      "text/plain": [
       "<Figure size 864x432 with 1 Axes>"
      ]
     },
     "metadata": {
      "needs_background": "light"
     },
     "output_type": "display_data"
    }
   ],
   "source": [
    "dc.plot(x='DATE',y='POSITIVE',color='red',grid='True',figsize=(12,6)).set_xlabel('Date');"
   ]
  },
  {
   "cell_type": "markdown",
   "id": "coupled-literacy",
   "metadata": {
    "papermill": {
     "duration": 0.010163,
     "end_time": "2021-07-02T22:13:53.970856",
     "exception": false,
     "start_time": "2021-07-02T22:13:53.960693",
     "status": "completed"
    },
    "tags": []
   },
   "source": [
    "## Figure 1: Cummulative number of positive cases."
   ]
  },
  {
   "cell_type": "code",
   "execution_count": 7,
   "id": "surrounded-reserve",
   "metadata": {
    "execution": {
     "iopub.execute_input": "2021-07-02T22:13:54.004911Z",
     "iopub.status.busy": "2021-07-02T22:13:53.995991Z",
     "iopub.status.idle": "2021-07-02T22:13:54.209028Z",
     "shell.execute_reply": "2021-07-02T22:13:54.208539Z"
    },
    "jupyter": {
     "source_hidden": true
    },
    "papermill": {
     "duration": 0.228427,
     "end_time": "2021-07-02T22:13:54.209149",
     "exception": false,
     "start_time": "2021-07-02T22:13:53.980722",
     "status": "completed"
    },
    "scrolled": false,
    "tags": [
     "hide-input"
    ]
   },
   "outputs": [
    {
     "data": {
      "image/png": "[encoded data removed]",
      "text/plain": [
       "<Figure size 864x432 with 1 Axes>"
      ]
     },
     "metadata": {
      "needs_background": "light"
     },
     "output_type": "display_data"
    }
   ],
   "source": [
    "dc.plot(kind='line',x='DATE',y='7_DAY',color='blue',grid='True',figsize=(12,6)).set_xlabel('Date');"
   ]
  },
  {
   "cell_type": "markdown",
   "id": "professional-savannah",
   "metadata": {
    "papermill": {
     "duration": 0.01095,
     "end_time": "2021-07-02T22:13:54.230810",
     "exception": false,
     "start_time": "2021-07-02T22:13:54.219860",
     "status": "completed"
    },
    "tags": []
   },
   "source": [
    "## Figure 2: Rolling 7-day average of daily new cases."
   ]
  },
  {
   "cell_type": "code",
   "execution_count": 8,
   "id": "stretch-investor",
   "metadata": {
    "execution": {
     "iopub.execute_input": "2021-07-02T22:13:54.261578Z",
     "iopub.status.busy": "2021-07-02T22:13:54.256655Z",
     "iopub.status.idle": "2021-07-02T22:13:54.463765Z",
     "shell.execute_reply": "2021-07-02T22:13:54.464190Z"
    },
    "jupyter": {
     "source_hidden": true
    },
    "papermill": {
     "duration": 0.222567,
     "end_time": "2021-07-02T22:13:54.464349",
     "exception": false,
     "start_time": "2021-07-02T22:13:54.241782",
     "status": "completed"
    },
    "tags": []
   },
   "outputs": [
    {
     "data": {
      "image/png": "[encoded data removed]",
      "text/plain": [
       "<Figure size 864x432 with 1 Axes>"
      ]
     },
     "metadata": {
      "needs_background": "light"
     },
     "output_type": "display_data"
    }
   ],
   "source": [
    "dc.plot(kind='line',x='DATE',y='14_DAY',color='green',grid='True',figsize=(12,6)).set_xlabel('Date');"
   ]
  },
  {
   "cell_type": "markdown",
   "id": "prerequisite-species",
   "metadata": {
    "papermill": {
     "duration": 0.01835,
     "end_time": "2021-07-02T22:13:54.495754",
     "exception": false,
     "start_time": "2021-07-02T22:13:54.477404",
     "status": "completed"
    },
    "tags": []
   },
   "source": [
    "## Figure 3: Rolling 14-day average of daily new cases."
   ]
  },
  {
   "cell_type": "markdown",
   "id": "palestinian-guard",
   "metadata": {
    "papermill": {
     "duration": 0.013259,
     "end_time": "2021-07-02T22:13:54.523119",
     "exception": false,
     "start_time": "2021-07-02T22:13:54.509860",
     "status": "completed"
    },
    "tags": []
   },
   "source": [
    "Data source: [Wisconsin Department of Health Services](https://data.dhsgis.wi.gov/datasets/wi-dhs::covid-19-historical-data-by-county-1)"
   ]
  },
  {
   "cell_type": "code",
   "execution_count": 9,
   "id": "proof-medicare",
   "metadata": {
    "execution": {
     "iopub.execute_input": "2021-07-02T22:13:54.557183Z",
     "iopub.status.busy": "2021-07-02T22:13:54.556620Z",
     "iopub.status.idle": "2021-07-02T22:13:54.560285Z",
     "shell.execute_reply": "2021-07-02T22:13:54.560716Z"
    },
    "jupyter": {
     "source_hidden": true
    },
    "papermill": {
     "duration": 0.023026,
     "end_time": "2021-07-02T22:13:54.560857",
     "exception": false,
     "start_time": "2021-07-02T22:13:54.537831",
     "status": "completed"
    },
    "tags": []
   },
   "outputs": [
    {
     "data": {
      "text/html": [
       "<style>\n",
       "div.input {\n",
       "    display:none;\n",
       "}\n",
       "</style>\n"
      ],
      "text/plain": [
       "<IPython.core.display.HTML object>"
      ]
     },
     "metadata": {},
     "output_type": "display_data"
    }
   ],
   "source": [
    "%%html\n",
    "<style>\n",
    "div.input {\n",
    "    display:none;\n",
    "}\n",
    "</style>"
   ]
  }
 ],
 "metadata": {
  "kernelspec": {
   "display_name": "Python 3",
   "language": "python",
   "name": "python3"
  },
  "language_info": {
   "codemirror_mode": {
    "name": "ipython",
    "version": 3
   },
   "file_extension": ".py",
   "mimetype": "text/x-python",
   "name": "python",
   "nbconvert_exporter": "python",
   "pygments_lexer": "ipython3",
   "version": "3.8.10"
  },
  "papermill": {
   "duration": 4.278309,
   "end_time": "2021-07-02T22:13:54.782353",
   "environment_variables": {},
   "exception": null,
   "input_path": "DunnCounty_COVID19.ipynb",
   "output_path": "DunnCounty_COVID19.ipynb",
   "parameters": {
    "Start": "True",
    "secretsPath": "/home/runner/work/_temp/secrets.json"
   },
   "start_time": "2021-07-02T22:13:50.504044",
   "version": "1.1.16"
  }
 },
 "nbformat": 4,
 "nbformat_minor": 5
}