{
 "cells": [
  {
   "cell_type": "code",
   "execution_count": 1,
   "metadata": {
    "execution": {
     "iopub.execute_input": "2020-12-17T22:14:06.043780Z",
     "iopub.status.busy": "2020-12-17T22:14:06.043198Z",
     "iopub.status.idle": "2020-12-17T22:14:09.278236Z",
     "shell.execute_reply": "2020-12-17T22:14:09.277543Z"
    },
    "jupyter": {
     "source_hidden": true
    },
    "papermill": {
     "duration": 3.256184,
     "end_time": "2020-12-17T22:14:09.278416",
     "exception": false,
     "start_time": "2020-12-17T22:14:06.022232",
     "status": "completed"
    },
    "scrolled": true,
    "tags": [
     "hide-input"
    ]
   },
   "outputs": [],
   "source": [
    "import pandas as pd\n",
    "import matplotlib.pyplot as plt\n",
    "from matplotlib import dates\n",
    "from IPython.display import display, Markdown\n",
    "%matplotlib inline"
   ]
  },
  {
   "cell_type": "code",
   "execution_count": 2,
   "metadata": {
    "execution": {
     "iopub.execute_input": "2020-12-17T22:14:09.299701Z",
     "iopub.status.busy": "2020-12-17T22:14:09.299066Z",
     "iopub.status.idle": "2020-12-17T22:14:10.270604Z",
     "shell.execute_reply": "2020-12-17T22:14:10.270030Z"
    },
    "jupyter": {
     "source_hidden": true
    },
    "papermill": {
     "duration": 0.98465,
     "end_time": "2020-12-17T22:14:10.270740",
     "exception": false,
     "start_time": "2020-12-17T22:14:09.286090",
     "status": "completed"
    },
    "scrolled": true,
    "tags": [
     "hide-input"
    ]
   },
   "outputs": [],
   "source": [
    "# This is the data for all of Wisconsin.\n",
    "url = \"https://opendata.arcgis.com/datasets/5374188992374b318d3e2305216ee413_12.csv\"\n",
    "data = pd.read_csv(url, parse_dates=['DATE'], low_memory=False)"
   ]
  },
  {
   "cell_type": "code",
   "execution_count": 3,
   "metadata": {
    "execution": {
     "iopub.execute_input": "2020-12-17T22:14:10.294022Z",
     "iopub.status.busy": "2020-12-17T22:14:10.293323Z",
     "iopub.status.idle": "2020-12-17T22:14:10.303998Z",
     "shell.execute_reply": "2020-12-17T22:14:10.303394Z"
    },
    "jupyter": {
     "source_hidden": true
    },
    "papermill": {
     "duration": 0.025335,
     "end_time": "2020-12-17T22:14:10.304198",
     "exception": false,
     "start_time": "2020-12-17T22:14:10.278863",
     "status": "completed"
    },
    "scrolled": true,
    "tags": [
     "hide-input"
    ]
   },
   "outputs": [],
   "source": [
    "dc = data.groupby('NAME').get_group('Dunn').sort_values(by='DATE') # Select the data for Dunn County from the full data.\n",
    "PNi = dc.columns.get_loc(\"POS_NEW\")\n",
    "dc['7_DAY'] = dc.iloc[:,PNi].rolling(window=7).mean() # Calculates the rolling 7-day average of new cases.\n",
    "dc['14_DAY'] = dc.iloc[:,PNi].rolling(window=14).mean() # Calculates the rolling 14-day average of new cases."
   ]
  },
  {
   "cell_type": "code",
   "execution_count": 4,
   "metadata": {
    "execution": {
     "iopub.execute_input": "2020-12-17T22:14:10.325852Z",
     "iopub.status.busy": "2020-12-17T22:14:10.325186Z",
     "iopub.status.idle": "2020-12-17T22:14:10.328244Z",
     "shell.execute_reply": "2020-12-17T22:14:10.328686Z"
    },
    "jupyter": {
     "source_hidden": true
    },
    "papermill": {
     "duration": 0.016936,
     "end_time": "2020-12-17T22:14:10.328824",
     "exception": false,
     "start_time": "2020-12-17T22:14:10.311888",
     "status": "completed"
    },
    "scrolled": true,
    "tags": [
     "hide-input"
    ]
   },
   "outputs": [
    {
     "data": {
      "text/markdown": [
       "### Last updated: December 17, 2020"
      ],
      "text/plain": [
       "<IPython.core.display.Markdown object>"
      ]
     },
     "metadata": {},
     "output_type": "display_data"
    }
   ],
   "source": [
    "display(Markdown('### Last updated: ' + dc.iloc[-1]['DATE'].strftime(\"%B %d, %Y\")))"
   ]
  },
  {
   "cell_type": "code",
   "execution_count": 5,
   "metadata": {
    "execution": {
     "iopub.execute_input": "2020-12-17T22:14:10.348832Z",
     "iopub.status.busy": "2020-12-17T22:14:10.348284Z",
     "iopub.status.idle": "2020-12-17T22:14:10.351824Z",
     "shell.execute_reply": "2020-12-17T22:14:10.351263Z"
    },
    "jupyter": {
     "source_hidden": true
    },
    "papermill": {
     "duration": 0.015761,
     "end_time": "2020-12-17T22:14:10.351955",
     "exception": false,
     "start_time": "2020-12-17T22:14:10.336194",
     "status": "completed"
    },
    "tags": [
     "hide-input"
    ]
   },
   "outputs": [
    {
     "data": {
      "text/markdown": [
       "# Dunn County has 3251 total positive cases, with 39 new cases reported today."
      ],
      "text/plain": [
       "<IPython.core.display.Markdown object>"
      ]
     },
     "metadata": {},
     "output_type": "display_data"
    }
   ],
   "source": [
    "display(Markdown('# Dunn County has ' + str(dc.iloc[-1]['POSITIVE']) + ' total positive cases, with '+ str(int(dc.iloc[-1]['POS_NEW'])) + ' new cases reported today.'))"
   ]
  },
  {
   "cell_type": "code",
   "execution_count": 6,
   "metadata": {
    "execution": {
     "iopub.execute_input": "2020-12-17T22:14:10.373275Z",
     "iopub.status.busy": "2020-12-17T22:14:10.372621Z",
     "iopub.status.idle": "2020-12-17T22:14:10.647412Z",
     "shell.execute_reply": "2020-12-17T22:14:10.647884Z"
    },
    "jupyter": {
     "source_hidden": true
    },
    "papermill": {
     "duration": 0.287759,
     "end_time": "2020-12-17T22:14:10.648055",
     "exception": false,
     "start_time": "2020-12-17T22:14:10.360296",
     "status": "completed"
    },
    "scrolled": false,
    "tags": [
     "hide-input"
    ]
   },
   "outputs": [
    {
     "data": {
      "image/png": "[encoded data removed]",
      "text/plain": [
       "<Figure size 864x432 with 1 Axes>"
      ]
     },
     "metadata": {
      "needs_background": "light"
     },
     "output_type": "display_data"
    }
   ],
   "source": [
    "dc.plot(x='DATE',y='POSITIVE',color='red',grid='True',figsize=(12,6)).set_xlabel('Date');"
   ]
  },
  {
   "cell_type": "markdown",
   "metadata": {
    "papermill": {
     "duration": 0.008737,
     "end_time": "2020-12-17T22:14:10.666198",
     "exception": false,
     "start_time": "2020-12-17T22:14:10.657461",
     "status": "completed"
    },
    "tags": []
   },
   "source": [
    "## Figure 1: Cummulative number of positive cases."
   ]
  },
  {
   "cell_type": "code",
   "execution_count": 7,
   "metadata": {
    "execution": {
     "iopub.execute_input": "2020-12-17T22:14:10.689673Z",
     "iopub.status.busy": "2020-12-17T22:14:10.688930Z",
     "iopub.status.idle": "2020-12-17T22:14:10.955186Z",
     "shell.execute_reply": "2020-12-17T22:14:10.955657Z"
    },
    "jupyter": {
     "source_hidden": true
    },
    "papermill": {
     "duration": 0.2804,
     "end_time": "2020-12-17T22:14:10.955828",
     "exception": false,
     "start_time": "2020-12-17T22:14:10.675428",
     "status": "completed"
    },
    "scrolled": false,
    "tags": [
     "hide-input"
    ]
   },
   "outputs": [
    {
     "data": {
      "image/png": "[encoded data removed]",
      "text/plain": [
       "<Figure size 864x432 with 1 Axes>"
      ]
     },
     "metadata": {
      "needs_background": "light"
     },
     "output_type": "display_data"
    }
   ],
   "source": [
    "dc.plot(kind='line',x='DATE',y='7_DAY',color='blue',grid='True',figsize=(12,6)).set_xlabel('Date');"
   ]
  },
  {
   "cell_type": "markdown",
   "metadata": {
    "papermill": {
     "duration": 0.009958,
     "end_time": "2020-12-17T22:14:10.976748",
     "exception": false,
     "start_time": "2020-12-17T22:14:10.966790",
     "status": "completed"
    },
    "tags": []
   },
   "source": [
    "## Figure 2: Rolling 7-day average of daily new cases."
   ]
  },
  {
   "cell_type": "code",
   "execution_count": 8,
   "metadata": {
    "execution": {
     "iopub.execute_input": "2020-12-17T22:14:11.002235Z",
     "iopub.status.busy": "2020-12-17T22:14:11.001654Z",
     "iopub.status.idle": "2020-12-17T22:14:11.264490Z",
     "shell.execute_reply": "2020-12-17T22:14:11.265031Z"
    },
    "jupyter": {
     "source_hidden": true
    },
    "papermill": {
     "duration": 0.278882,
     "end_time": "2020-12-17T22:14:11.265228",
     "exception": false,
     "start_time": "2020-12-17T22:14:10.986346",
     "status": "completed"
    },
    "tags": []
   },
   "outputs": [
    {
     "data": {
      "image/png": "[encoded data removed]",
      "text/plain": [
       "<Figure size 864x432 with 1 Axes>"
      ]
     },
     "metadata": {
      "needs_background": "light"
     },
     "output_type": "display_data"
    }
   ],
   "source": [
    "dc.plot(kind='line',x='DATE',y='14_DAY',color='green',grid='True',figsize=(12,6)).set_xlabel('Date');"
   ]
  },
  {
   "cell_type": "markdown",
   "metadata": {
    "papermill": {
     "duration": 0.011416,
     "end_time": "2020-12-17T22:14:11.290141",
     "exception": false,
     "start_time": "2020-12-17T22:14:11.278725",
     "status": "completed"
    },
    "tags": []
   },
   "source": [
    "## Figure 3: Rolling 14-day average of daily new cases."
   ]
  },
  {
   "cell_type": "markdown",
   "metadata": {
    "papermill": {
     "duration": 0.010714,
     "end_time": "2020-12-17T22:14:11.311554",
     "exception": false,
     "start_time": "2020-12-17T22:14:11.300840",
     "status": "completed"
    },
    "tags": []
   },
   "source": [
    "Data source: [Wisconsin Department of Health Services](https://data.dhsgis.wi.gov/datasets/covid-19-historical-data-table/)"
   ]
  },
  {
   "cell_type": "code",
   "execution_count": 9,
   "metadata": {
    "execution": {
     "iopub.execute_input": "2020-12-17T22:14:11.336955Z",
     "iopub.status.busy": "2020-12-17T22:14:11.336331Z",
     "iopub.status.idle": "2020-12-17T22:14:11.339972Z",
     "shell.execute_reply": "2020-12-17T22:14:11.340487Z"
    },
    "jupyter": {
     "source_hidden": true
    },
    "papermill": {
     "duration": 0.018828,
     "end_time": "2020-12-17T22:14:11.340628",
     "exception": false,
     "start_time": "2020-12-17T22:14:11.321800",
     "status": "completed"
    },
    "tags": []
   },
   "outputs": [
    {
     "data": {
      "text/html": [
       "<style>\n",
       "div.input {\n",
       "    display:none;\n",
       "}\n",
       "</style>\n"
      ],
      "text/plain": [
       "<IPython.core.display.HTML object>"
      ]
     },
     "metadata": {},
     "output_type": "display_data"
    }
   ],
   "source": [
    "%%html\n",
    "<style>\n",
    "div.input {\n",
    "    display:none;\n",
    "}\n",
    "</style>"
   ]
  }
 ],
 "metadata": {
  "kernelspec": {
   "display_name": "Python 3",
   "language": "python",
   "name": "python3"
  },
  "language_info": {
   "codemirror_mode": {
    "name": "ipython",
    "version": 3
   },
   "file_extension": ".py",
   "mimetype": "text/x-python",
   "name": "python",
   "nbconvert_exporter": "python",
   "pygments_lexer": "ipython3",
   "version": "3.8.6"
  },
  "papermill": {
   "duration": 7.145938,
   "end_time": "2020-12-17T22:14:11.660126",
   "environment_variables": {},
   "exception": null,
   "input_path": "DunnCounty_COVID19.ipynb",
   "output_path": "DunnCounty_COVID19.ipynb",
   "parameters": {
    "Start": "True",
    "secretsPath": "/home/runner/work/_temp/secrets.json"
   },
   "start_time": "2020-12-17T22:14:04.514188",
   "version": "1.1.16"
  }
 },
 "nbformat": 4,
 "nbformat_minor": 2
}