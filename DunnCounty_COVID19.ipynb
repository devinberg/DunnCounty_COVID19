{
 "cells": [
  {
   "cell_type": "code",
   "execution_count": 1,
   "id": "solar-understanding",
   "metadata": {
    "execution": {
     "iopub.execute_input": "2021-07-01T22:11:32.946689Z",
     "iopub.status.busy": "2021-07-01T22:11:32.946177Z",
     "iopub.status.idle": "2021-07-01T22:11:33.744964Z",
     "shell.execute_reply": "2021-07-01T22:11:33.744396Z"
    },
    "jupyter": {
     "source_hidden": true
    },
    "papermill": {
     "duration": 0.816739,
     "end_time": "2021-07-01T22:11:33.745104",
     "exception": false,
     "start_time": "2021-07-01T22:11:32.928365",
     "status": "completed"
    },
    "scrolled": true,
    "tags": [
     "hide-input"
    ]
   },
   "outputs": [],
   "source": [
    "import pandas as pd\n",
    "import matplotlib.pyplot as plt\n",
    "from matplotlib import dates\n",
    "from IPython.display import display, Markdown\n",
    "%matplotlib inline"
   ]
  },
  {
   "cell_type": "code",
   "execution_count": 2,
   "id": "purple-playlist",
   "metadata": {
    "execution": {
     "iopub.execute_input": "2021-07-01T22:11:33.766424Z",
     "iopub.status.busy": "2021-07-01T22:11:33.765957Z",
     "iopub.status.idle": "2021-07-01T22:11:34.518192Z",
     "shell.execute_reply": "2021-07-01T22:11:34.518654Z"
    },
    "jupyter": {
     "source_hidden": true
    },
    "papermill": {
     "duration": 0.765433,
     "end_time": "2021-07-01T22:11:34.518820",
     "exception": false,
     "start_time": "2021-07-01T22:11:33.753387",
     "status": "completed"
    },
    "scrolled": true,
    "tags": [
     "hide-input"
    ]
   },
   "outputs": [],
   "source": [
    "# This is the data for all of Wisconsin.\n",
    "url = \"https://opendata.arcgis.com/api/v3/datasets/3161f6e01d8141c6abe85a29ff7f3d3c_12/downloads/data?format=csv&spatialRefId=3857\"\n",
    "data = pd.read_csv(url, parse_dates=['DATE'], low_memory=False)"
   ]
  },
  {
   "cell_type": "code",
   "execution_count": 3,
   "id": "proprietary-klein",
   "metadata": {
    "execution": {
     "iopub.execute_input": "2021-07-01T22:11:34.542540Z",
     "iopub.status.busy": "2021-07-01T22:11:34.542048Z",
     "iopub.status.idle": "2021-07-01T22:11:34.551511Z",
     "shell.execute_reply": "2021-07-01T22:11:34.551108Z"
    },
    "jupyter": {
     "source_hidden": true
    },
    "papermill": {
     "duration": 0.024892,
     "end_time": "2021-07-01T22:11:34.551618",
     "exception": false,
     "start_time": "2021-07-01T22:11:34.526726",
     "status": "completed"
    },
    "scrolled": true,
    "tags": [
     "hide-input"
    ]
   },
   "outputs": [],
   "source": [
    "dc = data.groupby('NAME').get_group('Dunn').sort_values(by='DATE') # Select the data for Dunn County from the full data.\n",
    "PNi = dc.columns.get_loc(\"POS_NEW\")\n",
    "dc['7_DAY'] = dc.iloc[:,PNi].rolling(window=7).mean() # Calculates the rolling 7-day average of new cases.\n",
    "dc['14_DAY'] = dc.iloc[:,PNi].rolling(window=14).mean() # Calculates the rolling 14-day average of new cases."
   ]
  },
  {
   "cell_type": "code",
   "execution_count": 4,
   "id": "steady-supervision",
   "metadata": {
    "execution": {
     "iopub.execute_input": "2021-07-01T22:11:34.573628Z",
     "iopub.status.busy": "2021-07-01T22:11:34.573146Z",
     "iopub.status.idle": "2021-07-01T22:11:34.575823Z",
     "shell.execute_reply": "2021-07-01T22:11:34.576169Z"
    },
    "jupyter": {
     "source_hidden": true
    },
    "papermill": {
     "duration": 0.017125,
     "end_time": "2021-07-01T22:11:34.576292",
     "exception": false,
     "start_time": "2021-07-01T22:11:34.559167",
     "status": "completed"
    },
    "scrolled": true,
    "tags": [
     "hide-input"
    ]
   },
   "outputs": [
    {
     "data": {
      "text/markdown": [
       "### Last updated: July 01, 2021"
      ],
      "text/plain": [
       "<IPython.core.display.Markdown object>"
      ]
     },
     "metadata": {},
     "output_type": "display_data"
    }
   ],
   "source": [
    "display(Markdown('### Last updated: ' + dc.iloc[-1]['DATE'].strftime(\"%B %d, %Y\")))"
   ]
  },
  {
   "cell_type": "code",
   "execution_count": 5,
   "id": "lonely-pitch",
   "metadata": {
    "execution": {
     "iopub.execute_input": "2021-07-01T22:11:34.596083Z",
     "iopub.status.busy": "2021-07-01T22:11:34.595570Z",
     "iopub.status.idle": "2021-07-01T22:11:34.598832Z",
     "shell.execute_reply": "2021-07-01T22:11:34.598387Z"
    },
    "jupyter": {
     "source_hidden": true
    },
    "papermill": {
     "duration": 0.01479,
     "end_time": "2021-07-01T22:11:34.598926",
     "exception": false,
     "start_time": "2021-07-01T22:11:34.584136",
     "status": "completed"
    },
    "tags": [
     "hide-input"
    ]
   },
   "outputs": [
    {
     "data": {
      "text/markdown": [
       "# Dunn County has 4718 total positive cases, with 3 new cases reported today."
      ],
      "text/plain": [
       "<IPython.core.display.Markdown object>"
      ]
     },
     "metadata": {},
     "output_type": "display_data"
    }
   ],
   "source": [
    "display(Markdown('# Dunn County has ' + str(dc.iloc[-1]['POSITIVE']) + ' total positive cases, with '+ str(int(dc.iloc[-1]['POS_NEW'])) + ' new cases reported today.'))"
   ]
  },
  {
   "cell_type": "code",
   "execution_count": 6,
   "id": "compound-nightmare",
   "metadata": {
    "execution": {
     "iopub.execute_input": "2021-07-01T22:11:34.617368Z",
     "iopub.status.busy": "2021-07-01T22:11:34.616922Z",
     "iopub.status.idle": "2021-07-01T22:11:34.820230Z",
     "shell.execute_reply": "2021-07-01T22:11:34.820662Z"
    },
    "jupyter": {
     "source_hidden": true
    },
    "papermill": {
     "duration": 0.213777,
     "end_time": "2021-07-01T22:11:34.820813",
     "exception": false,
     "start_time": "2021-07-01T22:11:34.607036",
     "status": "completed"
    },
    "scrolled": false,
    "tags": [
     "hide-input"
    ]
   },
   "outputs": [
    {
     "data": {
      "image/png": "[encoded data removed]",
      "text/plain": [
       "<Figure size 864x432 with 1 Axes>"
      ]
     },
     "metadata": {
      "needs_background": "light"
     },
     "output_type": "display_data"
    }
   ],
   "source": [
    "dc.plot(x='DATE',y='POSITIVE',color='red',grid='True',figsize=(12,6)).set_xlabel('Date');"
   ]
  },
  {
   "cell_type": "markdown",
   "id": "coupled-literacy",
   "metadata": {
    "papermill": {
     "duration": 0.009322,
     "end_time": "2021-07-01T22:11:34.839953",
     "exception": false,
     "start_time": "2021-07-01T22:11:34.830631",
     "status": "completed"
    },
    "tags": []
   },
   "source": [
    "## Figure 1: Cummulative number of positive cases."
   ]
  },
  {
   "cell_type": "code",
   "execution_count": 7,
   "id": "surrounded-reserve",
   "metadata": {
    "execution": {
     "iopub.execute_input": "2021-07-01T22:11:34.862433Z",
     "iopub.status.busy": "2021-07-01T22:11:34.861886Z",
     "iopub.status.idle": "2021-07-01T22:11:35.051861Z",
     "shell.execute_reply": "2021-07-01T22:11:35.051456Z"
    },
    "jupyter": {
     "source_hidden": true
    },
    "papermill": {
     "duration": 0.203091,
     "end_time": "2021-07-01T22:11:35.051973",
     "exception": false,
     "start_time": "2021-07-01T22:11:34.848882",
     "status": "completed"
    },
    "scrolled": false,
    "tags": [
     "hide-input"
    ]
   },
   "outputs": [
    {
     "data": {
      "image/png": "[encoded data removed]",
      "text/plain": [
       "<Figure size 864x432 with 1 Axes>"
      ]
     },
     "metadata": {
      "needs_background": "light"
     },
     "output_type": "display_data"
    }
   ],
   "source": [
    "dc.plot(kind='line',x='DATE',y='7_DAY',color='blue',grid='True',figsize=(12,6)).set_xlabel('Date');"
   ]
  },
  {
   "cell_type": "markdown",
   "id": "professional-savannah",
   "metadata": {
    "papermill": {
     "duration": 0.010168,
     "end_time": "2021-07-01T22:11:35.072252",
     "exception": false,
     "start_time": "2021-07-01T22:11:35.062084",
     "status": "completed"
    },
    "tags": []
   },
   "source": [
    "## Figure 2: Rolling 7-day average of daily new cases."
   ]
  },
  {
   "cell_type": "code",
   "execution_count": 8,
   "id": "stretch-investor",
   "metadata": {
    "execution": {
     "iopub.execute_input": "2021-07-01T22:11:35.096472Z",
     "iopub.status.busy": "2021-07-01T22:11:35.096009Z",
     "iopub.status.idle": "2021-07-01T22:11:35.278863Z",
     "shell.execute_reply": "2021-07-01T22:11:35.278370Z"
    },
    "jupyter": {
     "source_hidden": true
    },
    "papermill": {
     "duration": 0.196898,
     "end_time": "2021-07-01T22:11:35.278993",
     "exception": false,
     "start_time": "2021-07-01T22:11:35.082095",
     "status": "completed"
    },
    "tags": []
   },
   "outputs": [
    {
     "data": {
      "image/png": "[encoded data removed]",
      "text/plain": [
       "<Figure size 864x432 with 1 Axes>"
      ]
     },
     "metadata": {
      "needs_background": "light"
     },
     "output_type": "display_data"
    }
   ],
   "source": [
    "dc.plot(kind='line',x='DATE',y='14_DAY',color='green',grid='True',figsize=(12,6)).set_xlabel('Date');"
   ]
  },
  {
   "cell_type": "markdown",
   "id": "prerequisite-species",
   "metadata": {
    "papermill": {
     "duration": 0.01199,
     "end_time": "2021-07-01T22:11:35.302581",
     "exception": false,
     "start_time": "2021-07-01T22:11:35.290591",
     "status": "completed"
    },
    "tags": []
   },
   "source": [
    "## Figure 3: Rolling 14-day average of daily new cases."
   ]
  },
  {
   "cell_type": "markdown",
   "id": "palestinian-guard",
   "metadata": {
    "papermill": {
     "duration": 0.010733,
     "end_time": "2021-07-01T22:11:35.325238",
     "exception": false,
     "start_time": "2021-07-01T22:11:35.314505",
     "status": "completed"
    },
    "tags": []
   },
   "source": [
    "Data source: [Wisconsin Department of Health Services](https://data.dhsgis.wi.gov/datasets/wi-dhs::covid-19-historical-data-by-county-1)"
   ]
  },
  {
   "cell_type": "code",
   "execution_count": 9,
   "id": "proof-medicare",
   "metadata": {
    "execution": {
     "iopub.execute_input": "2021-07-01T22:11:35.351271Z",
     "iopub.status.busy": "2021-07-01T22:11:35.350802Z",
     "iopub.status.idle": "2021-07-01T22:11:35.353786Z",
     "shell.execute_reply": "2021-07-01T22:11:35.353391Z"
    },
    "jupyter": {
     "source_hidden": true
    },
    "papermill": {
     "duration": 0.017905,
     "end_time": "2021-07-01T22:11:35.353885",
     "exception": false,
     "start_time": "2021-07-01T22:11:35.335980",
     "status": "completed"
    },
    "tags": []
   },
   "outputs": [
    {
     "data": {
      "text/html": [
       "<style>\n",
       "div.input {\n",
       "    display:none;\n",
       "}\n",
       "</style>\n"
      ],
      "text/plain": [
       "<IPython.core.display.HTML object>"
      ]
     },
     "metadata": {},
     "output_type": "display_data"
    }
   ],
   "source": [
    "%%html\n",
    "<style>\n",
    "div.input {\n",
    "    display:none;\n",
    "}\n",
    "</style>"
   ]
  }
 ],
 "metadata": {
  "kernelspec": {
   "display_name": "Python 3",
   "language": "python",
   "name": "python3"
  },
  "language_info": {
   "codemirror_mode": {
    "name": "ipython",
    "version": 3
   },
   "file_extension": ".py",
   "mimetype": "text/x-python",
   "name": "python",
   "nbconvert_exporter": "python",
   "pygments_lexer": "ipython3",
   "version": "3.8.10"
  },
  "papermill": {
   "duration": 4.004205,
   "end_time": "2021-07-01T22:11:35.571304",
   "environment_variables": {},
   "exception": null,
   "input_path": "DunnCounty_COVID19.ipynb",
   "output_path": "DunnCounty_COVID19.ipynb",
   "parameters": {
    "Start": "True",
    "secretsPath": "/home/runner/work/_temp/secrets.json"
   },
   "start_time": "2021-07-01T22:11:31.567099",
   "version": "1.1.16"
  }
 },
 "nbformat": 4,
 "nbformat_minor": 5
}