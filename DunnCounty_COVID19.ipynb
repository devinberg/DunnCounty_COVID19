{
 "cells": [
  {
   "cell_type": "code",
   "execution_count": 1,
   "metadata": {
    "execution": {
     "iopub.execute_input": "2021-01-13T10:43:56.084530Z",
     "iopub.status.busy": "2021-01-13T10:43:56.083866Z",
     "iopub.status.idle": "2021-01-13T10:43:57.233290Z",
     "shell.execute_reply": "2021-01-13T10:43:57.233794Z"
    },
    "jupyter": {
     "source_hidden": true
    },
    "papermill": {
     "duration": 1.169603,
     "end_time": "2021-01-13T10:43:57.234105",
     "exception": false,
     "start_time": "2021-01-13T10:43:56.064502",
     "status": "completed"
    },
    "scrolled": true,
    "tags": [
     "hide-input"
    ]
   },
   "outputs": [],
   "source": [
    "import pandas as pd\n",
    "import matplotlib.pyplot as plt\n",
    "from matplotlib import dates\n",
    "from IPython.display import display, Markdown\n",
    "%matplotlib inline"
   ]
  },
  {
   "cell_type": "code",
   "execution_count": 2,
   "metadata": {
    "execution": {
     "iopub.execute_input": "2021-01-13T10:43:57.255634Z",
     "iopub.status.busy": "2021-01-13T10:43:57.254987Z",
     "iopub.status.idle": "2021-01-13T10:43:57.946510Z",
     "shell.execute_reply": "2021-01-13T10:43:57.945974Z"
    },
    "jupyter": {
     "source_hidden": true
    },
    "papermill": {
     "duration": 0.704339,
     "end_time": "2021-01-13T10:43:57.946661",
     "exception": false,
     "start_time": "2021-01-13T10:43:57.242322",
     "status": "completed"
    },
    "scrolled": true,
    "tags": [
     "hide-input"
    ]
   },
   "outputs": [],
   "source": [
    "# This is the data for all of Wisconsin.\n",
    "url = \"https://opendata.arcgis.com/datasets/5374188992374b318d3e2305216ee413_12.csv\"\n",
    "data = pd.read_csv(url, parse_dates=['DATE'], low_memory=False)"
   ]
  },
  {
   "cell_type": "code",
   "execution_count": 3,
   "metadata": {
    "execution": {
     "iopub.execute_input": "2021-01-13T10:43:57.968172Z",
     "iopub.status.busy": "2021-01-13T10:43:57.967561Z",
     "iopub.status.idle": "2021-01-13T10:43:57.975662Z",
     "shell.execute_reply": "2021-01-13T10:43:57.976130Z"
    },
    "jupyter": {
     "source_hidden": true
    },
    "papermill": {
     "duration": 0.021889,
     "end_time": "2021-01-13T10:43:57.976280",
     "exception": false,
     "start_time": "2021-01-13T10:43:57.954391",
     "status": "completed"
    },
    "scrolled": true,
    "tags": [
     "hide-input"
    ]
   },
   "outputs": [],
   "source": [
    "dc = data.groupby('NAME').get_group('Dunn').sort_values(by='DATE') # Select the data for Dunn County from the full data.\n",
    "PNi = dc.columns.get_loc(\"POS_NEW\")\n",
    "dc['7_DAY'] = dc.iloc[:,PNi].rolling(window=7).mean() # Calculates the rolling 7-day average of new cases.\n",
    "dc['14_DAY'] = dc.iloc[:,PNi].rolling(window=14).mean() # Calculates the rolling 14-day average of new cases."
   ]
  },
  {
   "cell_type": "code",
   "execution_count": 4,
   "metadata": {
    "execution": {
     "iopub.execute_input": "2021-01-13T10:43:57.997788Z",
     "iopub.status.busy": "2021-01-13T10:43:57.997182Z",
     "iopub.status.idle": "2021-01-13T10:43:58.002229Z",
     "shell.execute_reply": "2021-01-13T10:43:58.002699Z"
    },
    "jupyter": {
     "source_hidden": true
    },
    "papermill": {
     "duration": 0.018926,
     "end_time": "2021-01-13T10:43:58.002853",
     "exception": false,
     "start_time": "2021-01-13T10:43:57.983927",
     "status": "completed"
    },
    "scrolled": true,
    "tags": [
     "hide-input"
    ]
   },
   "outputs": [
    {
     "data": {
      "text/markdown": [
       "### Last updated: January 12, 2021"
      ],
      "text/plain": [
       "<IPython.core.display.Markdown object>"
      ]
     },
     "metadata": {},
     "output_type": "display_data"
    }
   ],
   "source": [
    "display(Markdown('### Last updated: ' + dc.iloc[-1]['DATE'].strftime(\"%B %d, %Y\")))"
   ]
  },
  {
   "cell_type": "code",
   "execution_count": 5,
   "metadata": {
    "execution": {
     "iopub.execute_input": "2021-01-13T10:43:58.025243Z",
     "iopub.status.busy": "2021-01-13T10:43:58.024646Z",
     "iopub.status.idle": "2021-01-13T10:43:58.029340Z",
     "shell.execute_reply": "2021-01-13T10:43:58.028741Z"
    },
    "jupyter": {
     "source_hidden": true
    },
    "papermill": {
     "duration": 0.016843,
     "end_time": "2021-01-13T10:43:58.029469",
     "exception": false,
     "start_time": "2021-01-13T10:43:58.012626",
     "status": "completed"
    },
    "tags": [
     "hide-input"
    ]
   },
   "outputs": [
    {
     "data": {
      "text/markdown": [
       "# Dunn County has 3734 total positive cases, with 18 new cases reported today."
      ],
      "text/plain": [
       "<IPython.core.display.Markdown object>"
      ]
     },
     "metadata": {},
     "output_type": "display_data"
    }
   ],
   "source": [
    "display(Markdown('# Dunn County has ' + str(dc.iloc[-1]['POSITIVE']) + ' total positive cases, with '+ str(int(dc.iloc[-1]['POS_NEW'])) + ' new cases reported today.'))"
   ]
  },
  {
   "cell_type": "code",
   "execution_count": 6,
   "metadata": {
    "execution": {
     "iopub.execute_input": "2021-01-13T10:43:58.049622Z",
     "iopub.status.busy": "2021-01-13T10:43:58.049027Z",
     "iopub.status.idle": "2021-01-13T10:43:58.345117Z",
     "shell.execute_reply": "2021-01-13T10:43:58.344590Z"
    },
    "jupyter": {
     "source_hidden": true
    },
    "papermill": {
     "duration": 0.307531,
     "end_time": "2021-01-13T10:43:58.345265",
     "exception": false,
     "start_time": "2021-01-13T10:43:58.037734",
     "status": "completed"
    },
    "scrolled": false,
    "tags": [
     "hide-input"
    ]
   },
   "outputs": [
    {
     "data": {
      "image/png": "[encoded data removed]",
      "text/plain": [
       "<Figure size 864x432 with 1 Axes>"
      ]
     },
     "metadata": {
      "needs_background": "light"
     },
     "output_type": "display_data"
    }
   ],
   "source": [
    "dc.plot(x='DATE',y='POSITIVE',color='red',grid='True',figsize=(12,6)).set_xlabel('Date');"
   ]
  },
  {
   "cell_type": "markdown",
   "metadata": {
    "papermill": {
     "duration": 0.008923,
     "end_time": "2021-01-13T10:43:58.363715",
     "exception": false,
     "start_time": "2021-01-13T10:43:58.354792",
     "status": "completed"
    },
    "tags": []
   },
   "source": [
    "## Figure 1: Cummulative number of positive cases."
   ]
  },
  {
   "cell_type": "code",
   "execution_count": 7,
   "metadata": {
    "execution": {
     "iopub.execute_input": "2021-01-13T10:43:58.403981Z",
     "iopub.status.busy": "2021-01-13T10:43:58.385055Z",
     "iopub.status.idle": "2021-01-13T10:43:58.649642Z",
     "shell.execute_reply": "2021-01-13T10:43:58.650111Z"
    },
    "jupyter": {
     "source_hidden": true
    },
    "papermill": {
     "duration": 0.277604,
     "end_time": "2021-01-13T10:43:58.650287",
     "exception": false,
     "start_time": "2021-01-13T10:43:58.372683",
     "status": "completed"
    },
    "scrolled": false,
    "tags": [
     "hide-input"
    ]
   },
   "outputs": [
    {
     "data": {
      "image/png": "[encoded data removed]",
      "text/plain": [
       "<Figure size 864x432 with 1 Axes>"
      ]
     },
     "metadata": {
      "needs_background": "light"
     },
     "output_type": "display_data"
    }
   ],
   "source": [
    "dc.plot(kind='line',x='DATE',y='7_DAY',color='blue',grid='True',figsize=(12,6)).set_xlabel('Date');"
   ]
  },
  {
   "cell_type": "markdown",
   "metadata": {
    "papermill": {
     "duration": 0.010117,
     "end_time": "2021-01-13T10:43:58.671124",
     "exception": false,
     "start_time": "2021-01-13T10:43:58.661007",
     "status": "completed"
    },
    "tags": []
   },
   "source": [
    "## Figure 2: Rolling 7-day average of daily new cases."
   ]
  },
  {
   "cell_type": "code",
   "execution_count": 8,
   "metadata": {
    "execution": {
     "iopub.execute_input": "2021-01-13T10:43:58.696244Z",
     "iopub.status.busy": "2021-01-13T10:43:58.695655Z",
     "iopub.status.idle": "2021-01-13T10:43:58.944467Z",
     "shell.execute_reply": "2021-01-13T10:43:58.944954Z"
    },
    "jupyter": {
     "source_hidden": true
    },
    "papermill": {
     "duration": 0.264187,
     "end_time": "2021-01-13T10:43:58.945126",
     "exception": false,
     "start_time": "2021-01-13T10:43:58.680939",
     "status": "completed"
    },
    "tags": []
   },
   "outputs": [
    {
     "data": {
      "image/png": "[encoded data removed]",
      "text/plain": [
       "<Figure size 864x432 with 1 Axes>"
      ]
     },
     "metadata": {
      "needs_background": "light"
     },
     "output_type": "display_data"
    }
   ],
   "source": [
    "dc.plot(kind='line',x='DATE',y='14_DAY',color='green',grid='True',figsize=(12,6)).set_xlabel('Date');"
   ]
  },
  {
   "cell_type": "markdown",
   "metadata": {
    "papermill": {
     "duration": 0.010885,
     "end_time": "2021-01-13T10:43:58.966848",
     "exception": false,
     "start_time": "2021-01-13T10:43:58.955963",
     "status": "completed"
    },
    "tags": []
   },
   "source": [
    "## Figure 3: Rolling 14-day average of daily new cases."
   ]
  },
  {
   "cell_type": "markdown",
   "metadata": {
    "papermill": {
     "duration": 0.011102,
     "end_time": "2021-01-13T10:43:58.988578",
     "exception": false,
     "start_time": "2021-01-13T10:43:58.977476",
     "status": "completed"
    },
    "tags": []
   },
   "source": [
    "Data source: [Wisconsin Department of Health Services](https://data.dhsgis.wi.gov/datasets/covid-19-historical-data-table/)"
   ]
  },
  {
   "cell_type": "code",
   "execution_count": 9,
   "metadata": {
    "execution": {
     "iopub.execute_input": "2021-01-13T10:43:59.014018Z",
     "iopub.status.busy": "2021-01-13T10:43:59.013402Z",
     "iopub.status.idle": "2021-01-13T10:43:59.016678Z",
     "shell.execute_reply": "2021-01-13T10:43:59.016147Z"
    },
    "jupyter": {
     "source_hidden": true
    },
    "papermill": {
     "duration": 0.017754,
     "end_time": "2021-01-13T10:43:59.016810",
     "exception": false,
     "start_time": "2021-01-13T10:43:58.999056",
     "status": "completed"
    },
    "tags": []
   },
   "outputs": [
    {
     "data": {
      "text/html": [
       "<style>\n",
       "div.input {\n",
       "    display:none;\n",
       "}\n",
       "</style>\n"
      ],
      "text/plain": [
       "<IPython.core.display.HTML object>"
      ]
     },
     "metadata": {},
     "output_type": "display_data"
    }
   ],
   "source": [
    "%%html\n",
    "<style>\n",
    "div.input {\n",
    "    display:none;\n",
    "}\n",
    "</style>"
   ]
  }
 ],
 "metadata": {
  "kernelspec": {
   "display_name": "Python 3",
   "language": "python",
   "name": "python3"
  },
  "language_info": {
   "codemirror_mode": {
    "name": "ipython",
    "version": 3
   },
   "file_extension": ".py",
   "mimetype": "text/x-python",
   "name": "python",
   "nbconvert_exporter": "python",
   "pygments_lexer": "ipython3",
   "version": "3.8.6"
  },
  "papermill": {
   "duration": 4.782576,
   "end_time": "2021-01-13T10:43:59.334911",
   "environment_variables": {},
   "exception": null,
   "input_path": "DunnCounty_COVID19.ipynb",
   "output_path": "DunnCounty_COVID19.ipynb",
   "parameters": {
    "Start": "True",
    "secretsPath": "/home/runner/work/_temp/secrets.json"
   },
   "start_time": "2021-01-13T10:43:54.552335",
   "version": "1.1.16"
  }
 },
 "nbformat": 4,
 "nbformat_minor": 2
}