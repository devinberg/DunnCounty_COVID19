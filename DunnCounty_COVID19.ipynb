{
 "cells": [
  {
   "cell_type": "code",
   "execution_count": 1,
   "metadata": {
    "execution": {
     "iopub.execute_input": "2020-09-15T22:09:33.323443Z",
     "iopub.status.busy": "2020-09-15T22:09:33.322833Z",
     "iopub.status.idle": "2020-09-15T22:09:34.600923Z",
     "shell.execute_reply": "2020-09-15T22:09:34.599971Z"
    },
    "jupyter": {
     "source_hidden": true
    },
    "papermill": {
     "duration": 1.294011,
     "end_time": "2020-09-15T22:09:34.601217",
     "exception": false,
     "start_time": "2020-09-15T22:09:33.307206",
     "status": "completed"
    },
    "scrolled": true,
    "tags": [
     "hide-input"
    ]
   },
   "outputs": [],
   "source": [
    "import pandas as pd\n",
    "import matplotlib.pyplot as plt\n",
    "from matplotlib import dates\n",
    "from IPython.display import display, Markdown\n",
    "%matplotlib inline"
   ]
  },
  {
   "cell_type": "code",
   "execution_count": 2,
   "metadata": {
    "execution": {
     "iopub.execute_input": "2020-09-15T22:09:34.624018Z",
     "iopub.status.busy": "2020-09-15T22:09:34.623444Z",
     "iopub.status.idle": "2020-09-15T22:09:38.344454Z",
     "shell.execute_reply": "2020-09-15T22:09:38.343371Z"
    },
    "jupyter": {
     "source_hidden": true
    },
    "papermill": {
     "duration": 3.733903,
     "end_time": "2020-09-15T22:09:38.344604",
     "exception": false,
     "start_time": "2020-09-15T22:09:34.610701",
     "status": "completed"
    },
    "scrolled": true,
    "tags": [
     "hide-input"
    ]
   },
   "outputs": [],
   "source": [
    "# This is the data for all of Wisconsin.\n",
    "url = \"https://opendata.arcgis.com/datasets/b913e9591eae4912b33dc5b4e88646c5_10.csv\"\n",
    "data = pd.read_csv(url, parse_dates=['DATE'], low_memory=False)"
   ]
  },
  {
   "cell_type": "code",
   "execution_count": 3,
   "metadata": {
    "execution": {
     "iopub.execute_input": "2020-09-15T22:09:38.377492Z",
     "iopub.status.busy": "2020-09-15T22:09:38.376725Z",
     "iopub.status.idle": "2020-09-15T22:09:38.387255Z",
     "shell.execute_reply": "2020-09-15T22:09:38.386744Z"
    },
    "jupyter": {
     "source_hidden": true
    },
    "papermill": {
     "duration": 0.033623,
     "end_time": "2020-09-15T22:09:38.387397",
     "exception": false,
     "start_time": "2020-09-15T22:09:38.353774",
     "status": "completed"
    },
    "scrolled": true,
    "tags": [
     "hide-input"
    ]
   },
   "outputs": [],
   "source": [
    "dc = data.groupby('NAME').get_group('Dunn').sort_values(by='DATE') # Select the data for Dunn County from the full data.\n",
    "PNi = dc.columns.get_loc(\"POS_NEW\")\n",
    "dc['7_DAY'] = dc.iloc[:,PNi].rolling(window=7).mean() # Calculates the rolling 7-day average of new cases.\n",
    "dc['14_DAY'] = dc.iloc[:,PNi].rolling(window=14).mean() # Calculates the rolling 14-day average of new cases."
   ]
  },
  {
   "cell_type": "code",
   "execution_count": 4,
   "metadata": {
    "execution": {
     "iopub.execute_input": "2020-09-15T22:09:38.411745Z",
     "iopub.status.busy": "2020-09-15T22:09:38.411029Z",
     "iopub.status.idle": "2020-09-15T22:09:38.414385Z",
     "shell.execute_reply": "2020-09-15T22:09:38.414837Z"
    },
    "jupyter": {
     "source_hidden": true
    },
    "papermill": {
     "duration": 0.019427,
     "end_time": "2020-09-15T22:09:38.414994",
     "exception": false,
     "start_time": "2020-09-15T22:09:38.395567",
     "status": "completed"
    },
    "scrolled": true,
    "tags": [
     "hide-input"
    ]
   },
   "outputs": [
    {
     "data": {
      "text/markdown": [
       "### Last updated: September 15, 2020"
      ],
      "text/plain": [
       "<IPython.core.display.Markdown object>"
      ]
     },
     "metadata": {},
     "output_type": "display_data"
    }
   ],
   "source": [
    "display(Markdown('### Last updated: ' + dc.iloc[-1]['DATE'].strftime(\"%B %d, %Y\")))"
   ]
  },
  {
   "cell_type": "code",
   "execution_count": 5,
   "metadata": {
    "execution": {
     "iopub.execute_input": "2020-09-15T22:09:38.437675Z",
     "iopub.status.busy": "2020-09-15T22:09:38.437116Z",
     "iopub.status.idle": "2020-09-15T22:09:38.442445Z",
     "shell.execute_reply": "2020-09-15T22:09:38.442869Z"
    },
    "jupyter": {
     "source_hidden": true
    },
    "papermill": {
     "duration": 0.020144,
     "end_time": "2020-09-15T22:09:38.443031",
     "exception": false,
     "start_time": "2020-09-15T22:09:38.422887",
     "status": "completed"
    },
    "tags": [
     "hide-input"
    ]
   },
   "outputs": [
    {
     "data": {
      "text/markdown": [
       "# Dunn County has 259 total positive cases, with 5 new cases reported today."
      ],
      "text/plain": [
       "<IPython.core.display.Markdown object>"
      ]
     },
     "metadata": {},
     "output_type": "display_data"
    }
   ],
   "source": [
    "display(Markdown('# Dunn County has ' + str(dc.iloc[-1]['POSITIVE']) + ' total positive cases, with '+ str(int(dc.iloc[-1]['POS_NEW'])) + ' new cases reported today.'))"
   ]
  },
  {
   "cell_type": "code",
   "execution_count": 6,
   "metadata": {
    "execution": {
     "iopub.execute_input": "2020-09-15T22:09:38.465370Z",
     "iopub.status.busy": "2020-09-15T22:09:38.463656Z",
     "iopub.status.idle": "2020-09-15T22:09:38.683671Z",
     "shell.execute_reply": "2020-09-15T22:09:38.684107Z"
    },
    "jupyter": {
     "source_hidden": true
    },
    "papermill": {
     "duration": 0.233034,
     "end_time": "2020-09-15T22:09:38.684283",
     "exception": false,
     "start_time": "2020-09-15T22:09:38.451249",
     "status": "completed"
    },
    "scrolled": false,
    "tags": [
     "hide-input"
    ]
   },
   "outputs": [
    {
     "data": {
      "image/png": "[encoded data removed]",
      "text/plain": [
       "<Figure size 864x432 with 1 Axes>"
      ]
     },
     "metadata": {
      "needs_background": "light"
     },
     "output_type": "display_data"
    }
   ],
   "source": [
    "dc.plot(x='DATE',y='POSITIVE',color='red',grid='True',figsize=(12,6)).set_xlabel('Date');"
   ]
  },
  {
   "cell_type": "markdown",
   "metadata": {
    "papermill": {
     "duration": 0.033641,
     "end_time": "2020-09-15T22:09:38.727428",
     "exception": false,
     "start_time": "2020-09-15T22:09:38.693787",
     "status": "completed"
    },
    "tags": []
   },
   "source": [
    "## Figure 1: Cummulative number of positive cases."
   ]
  },
  {
   "cell_type": "code",
   "execution_count": 7,
   "metadata": {
    "execution": {
     "iopub.execute_input": "2020-09-15T22:09:38.788564Z",
     "iopub.status.busy": "2020-09-15T22:09:38.787998Z",
     "iopub.status.idle": "2020-09-15T22:09:39.019541Z",
     "shell.execute_reply": "2020-09-15T22:09:39.020002Z"
    },
    "jupyter": {
     "source_hidden": true
    },
    "papermill": {
     "duration": 0.249335,
     "end_time": "2020-09-15T22:09:39.020170",
     "exception": false,
     "start_time": "2020-09-15T22:09:38.770835",
     "status": "completed"
    },
    "scrolled": false,
    "tags": [
     "hide-input"
    ]
   },
   "outputs": [
    {
     "data": {
      "image/png": "[encoded data removed]",
      "text/plain": [
       "<Figure size 864x432 with 1 Axes>"
      ]
     },
     "metadata": {
      "needs_background": "light"
     },
     "output_type": "display_data"
    }
   ],
   "source": [
    "dc.plot(kind='line',x='DATE',y='7_DAY',color='blue',grid='True',figsize=(12,6)).set_xlabel('Date');"
   ]
  },
  {
   "cell_type": "markdown",
   "metadata": {
    "papermill": {
     "duration": 0.010448,
     "end_time": "2020-09-15T22:09:39.041057",
     "exception": false,
     "start_time": "2020-09-15T22:09:39.030609",
     "status": "completed"
    },
    "tags": []
   },
   "source": [
    "## Figure 2: Rolling 7-day average of daily new cases."
   ]
  },
  {
   "cell_type": "code",
   "execution_count": 8,
   "metadata": {
    "execution": {
     "iopub.execute_input": "2020-09-15T22:09:39.066466Z",
     "iopub.status.busy": "2020-09-15T22:09:39.065748Z",
     "iopub.status.idle": "2020-09-15T22:09:39.268711Z",
     "shell.execute_reply": "2020-09-15T22:09:39.268082Z"
    },
    "jupyter": {
     "source_hidden": true
    },
    "papermill": {
     "duration": 0.217716,
     "end_time": "2020-09-15T22:09:39.268887",
     "exception": false,
     "start_time": "2020-09-15T22:09:39.051171",
     "status": "completed"
    },
    "tags": []
   },
   "outputs": [
    {
     "data": {
      "image/png": "[encoded data removed]",
      "text/plain": [
       "<Figure size 864x432 with 1 Axes>"
      ]
     },
     "metadata": {
      "needs_background": "light"
     },
     "output_type": "display_data"
    }
   ],
   "source": [
    "dc.plot(kind='line',x='DATE',y='14_DAY',color='green',grid='True',figsize=(12,6)).set_xlabel('Date');"
   ]
  },
  {
   "cell_type": "markdown",
   "metadata": {
    "papermill": {
     "duration": 0.012098,
     "end_time": "2020-09-15T22:09:39.296720",
     "exception": false,
     "start_time": "2020-09-15T22:09:39.284622",
     "status": "completed"
    },
    "tags": []
   },
   "source": [
    "## Figure 3: Rolling 14-day average of daily new cases."
   ]
  },
  {
   "cell_type": "markdown",
   "metadata": {
    "papermill": {
     "duration": 0.011312,
     "end_time": "2020-09-15T22:09:39.319309",
     "exception": false,
     "start_time": "2020-09-15T22:09:39.307997",
     "status": "completed"
    },
    "tags": []
   },
   "source": [
    "Data source: [Wisconsin Department of Health Services](https://data.dhsgis.wi.gov/datasets/covid-19-historical-data-table/)"
   ]
  },
  {
   "cell_type": "code",
   "execution_count": 9,
   "metadata": {
    "execution": {
     "iopub.execute_input": "2020-09-15T22:09:39.350030Z",
     "iopub.status.busy": "2020-09-15T22:09:39.348000Z",
     "iopub.status.idle": "2020-09-15T22:09:39.353131Z",
     "shell.execute_reply": "2020-09-15T22:09:39.350963Z"
    },
    "jupyter": {
     "source_hidden": true
    },
    "papermill": {
     "duration": 0.022946,
     "end_time": "2020-09-15T22:09:39.353335",
     "exception": false,
     "start_time": "2020-09-15T22:09:39.330389",
     "status": "completed"
    },
    "tags": []
   },
   "outputs": [
    {
     "data": {
      "text/html": [
       "<style>\n",
       "div.input {\n",
       "    display:none;\n",
       "}\n",
       "</style>\n"
      ],
      "text/plain": [
       "<IPython.core.display.HTML object>"
      ]
     },
     "metadata": {},
     "output_type": "display_data"
    }
   ],
   "source": [
    "%%html\n",
    "<style>\n",
    "div.input {\n",
    "    display:none;\n",
    "}\n",
    "</style>"
   ]
  }
 ],
 "metadata": {
  "kernelspec": {
   "display_name": "Python 3",
   "language": "python",
   "name": "python3"
  },
  "language_info": {
   "codemirror_mode": {
    "name": "ipython",
    "version": 3
   },
   "file_extension": ".py",
   "mimetype": "text/x-python",
   "name": "python",
   "nbconvert_exporter": "python",
   "pygments_lexer": "ipython3",
   "version": "3.8.5"
  },
  "papermill": {
   "duration": 8.790551,
   "end_time": "2020-09-15T22:09:40.546243",
   "environment_variables": {},
   "exception": null,
   "input_path": "DunnCounty_COVID19.ipynb",
   "output_path": "DunnCounty_COVID19.ipynb",
   "parameters": {
    "Start": "True",
    "secretsPath": "/home/runner/work/_temp/secrets.json"
   },
   "start_time": "2020-09-15T22:09:31.755692",
   "version": "1.1.16"
  }
 },
 "nbformat": 4,
 "nbformat_minor": 2
}