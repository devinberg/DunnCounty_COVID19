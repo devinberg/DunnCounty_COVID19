{
 "cells": [
  {
   "cell_type": "code",
   "execution_count": 1,
   "id": "solar-understanding",
   "metadata": {
    "execution": {
     "iopub.execute_input": "2021-03-02T22:12:17.140777Z",
     "iopub.status.busy": "2021-03-02T22:12:17.140093Z",
     "iopub.status.idle": "2021-03-02T22:12:18.179514Z",
     "shell.execute_reply": "2021-03-02T22:12:18.178014Z"
    },
    "jupyter": {
     "source_hidden": true
    },
    "papermill": {
     "duration": 1.062034,
     "end_time": "2021-03-02T22:12:18.179685",
     "exception": false,
     "start_time": "2021-03-02T22:12:17.117651",
     "status": "completed"
    },
    "scrolled": true,
    "tags": [
     "hide-input"
    ]
   },
   "outputs": [],
   "source": [
    "import pandas as pd\n",
    "import matplotlib.pyplot as plt\n",
    "from matplotlib import dates\n",
    "from IPython.display import display, Markdown\n",
    "%matplotlib inline"
   ]
  },
  {
   "cell_type": "code",
   "execution_count": 2,
   "id": "purple-playlist",
   "metadata": {
    "execution": {
     "iopub.execute_input": "2021-03-02T22:12:18.209178Z",
     "iopub.status.busy": "2021-03-02T22:12:18.208498Z",
     "iopub.status.idle": "2021-03-02T22:12:18.830068Z",
     "shell.execute_reply": "2021-03-02T22:12:18.829467Z"
    },
    "jupyter": {
     "source_hidden": true
    },
    "papermill": {
     "duration": 0.639175,
     "end_time": "2021-03-02T22:12:18.830278",
     "exception": false,
     "start_time": "2021-03-02T22:12:18.191103",
     "status": "completed"
    },
    "scrolled": true,
    "tags": [
     "hide-input"
    ]
   },
   "outputs": [],
   "source": [
    "# This is the data for all of Wisconsin.\n",
    "url = \"https://opendata.arcgis.com/datasets/5374188992374b318d3e2305216ee413_12.csv\"\n",
    "data = pd.read_csv(url, parse_dates=['DATE'], low_memory=False)"
   ]
  },
  {
   "cell_type": "code",
   "execution_count": 3,
   "id": "proprietary-klein",
   "metadata": {
    "execution": {
     "iopub.execute_input": "2021-03-02T22:12:18.860893Z",
     "iopub.status.busy": "2021-03-02T22:12:18.860237Z",
     "iopub.status.idle": "2021-03-02T22:12:18.871182Z",
     "shell.execute_reply": "2021-03-02T22:12:18.870514Z"
    },
    "jupyter": {
     "source_hidden": true
    },
    "papermill": {
     "duration": 0.029887,
     "end_time": "2021-03-02T22:12:18.871316",
     "exception": false,
     "start_time": "2021-03-02T22:12:18.841429",
     "status": "completed"
    },
    "scrolled": true,
    "tags": [
     "hide-input"
    ]
   },
   "outputs": [],
   "source": [
    "dc = data.groupby('NAME').get_group('Dunn').sort_values(by='DATE') # Select the data for Dunn County from the full data.\n",
    "PNi = dc.columns.get_loc(\"POS_NEW\")\n",
    "dc['7_DAY'] = dc.iloc[:,PNi].rolling(window=7).mean() # Calculates the rolling 7-day average of new cases.\n",
    "dc['14_DAY'] = dc.iloc[:,PNi].rolling(window=14).mean() # Calculates the rolling 14-day average of new cases."
   ]
  },
  {
   "cell_type": "code",
   "execution_count": 4,
   "id": "steady-supervision",
   "metadata": {
    "execution": {
     "iopub.execute_input": "2021-03-02T22:12:18.899550Z",
     "iopub.status.busy": "2021-03-02T22:12:18.898822Z",
     "iopub.status.idle": "2021-03-02T22:12:18.901630Z",
     "shell.execute_reply": "2021-03-02T22:12:18.902199Z"
    },
    "jupyter": {
     "source_hidden": true
    },
    "papermill": {
     "duration": 0.020554,
     "end_time": "2021-03-02T22:12:18.902347",
     "exception": false,
     "start_time": "2021-03-02T22:12:18.881793",
     "status": "completed"
    },
    "scrolled": true,
    "tags": [
     "hide-input"
    ]
   },
   "outputs": [
    {
     "data": {
      "text/markdown": [
       "### Last updated: March 02, 2021"
      ],
      "text/plain": [
       "<IPython.core.display.Markdown object>"
      ]
     },
     "metadata": {},
     "output_type": "display_data"
    }
   ],
   "source": [
    "display(Markdown('### Last updated: ' + dc.iloc[-1]['DATE'].strftime(\"%B %d, %Y\")))"
   ]
  },
  {
   "cell_type": "code",
   "execution_count": 5,
   "id": "lonely-pitch",
   "metadata": {
    "execution": {
     "iopub.execute_input": "2021-03-02T22:12:18.930407Z",
     "iopub.status.busy": "2021-03-02T22:12:18.929686Z",
     "iopub.status.idle": "2021-03-02T22:12:18.932963Z",
     "shell.execute_reply": "2021-03-02T22:12:18.933557Z"
    },
    "jupyter": {
     "source_hidden": true
    },
    "papermill": {
     "duration": 0.020315,
     "end_time": "2021-03-02T22:12:18.933794",
     "exception": false,
     "start_time": "2021-03-02T22:12:18.913479",
     "status": "completed"
    },
    "tags": [
     "hide-input"
    ]
   },
   "outputs": [
    {
     "data": {
      "text/markdown": [
       "# Dunn County has 4269 total positive cases, with 5 new cases reported today."
      ],
      "text/plain": [
       "<IPython.core.display.Markdown object>"
      ]
     },
     "metadata": {},
     "output_type": "display_data"
    }
   ],
   "source": [
    "display(Markdown('# Dunn County has ' + str(dc.iloc[-1]['POSITIVE']) + ' total positive cases, with '+ str(int(dc.iloc[-1]['POS_NEW'])) + ' new cases reported today.'))"
   ]
  },
  {
   "cell_type": "code",
   "execution_count": 6,
   "id": "compound-nightmare",
   "metadata": {
    "execution": {
     "iopub.execute_input": "2021-03-02T22:12:18.964035Z",
     "iopub.status.busy": "2021-03-02T22:12:18.963225Z",
     "iopub.status.idle": "2021-03-02T22:12:19.265770Z",
     "shell.execute_reply": "2021-03-02T22:12:19.266308Z"
    },
    "jupyter": {
     "source_hidden": true
    },
    "papermill": {
     "duration": 0.319407,
     "end_time": "2021-03-02T22:12:19.266486",
     "exception": false,
     "start_time": "2021-03-02T22:12:18.947079",
     "status": "completed"
    },
    "scrolled": false,
    "tags": [
     "hide-input"
    ]
   },
   "outputs": [
    {
     "data": {
      "image/png": "[encoded data removed]",
      "text/plain": [
       "<Figure size 864x432 with 1 Axes>"
      ]
     },
     "metadata": {
      "needs_background": "light"
     },
     "output_type": "display_data"
    }
   ],
   "source": [
    "dc.plot(x='DATE',y='POSITIVE',color='red',grid='True',figsize=(12,6)).set_xlabel('Date');"
   ]
  },
  {
   "cell_type": "markdown",
   "id": "coupled-literacy",
   "metadata": {
    "papermill": {
     "duration": 0.011513,
     "end_time": "2021-03-02T22:12:19.290560",
     "exception": false,
     "start_time": "2021-03-02T22:12:19.279047",
     "status": "completed"
    },
    "tags": []
   },
   "source": [
    "## Figure 1: Cummulative number of positive cases."
   ]
  },
  {
   "cell_type": "code",
   "execution_count": 7,
   "id": "surrounded-reserve",
   "metadata": {
    "execution": {
     "iopub.execute_input": "2021-03-02T22:12:19.319387Z",
     "iopub.status.busy": "2021-03-02T22:12:19.318715Z",
     "iopub.status.idle": "2021-03-02T22:12:19.597944Z",
     "shell.execute_reply": "2021-03-02T22:12:19.598435Z"
    },
    "jupyter": {
     "source_hidden": true
    },
    "papermill": {
     "duration": 0.296519,
     "end_time": "2021-03-02T22:12:19.598624",
     "exception": false,
     "start_time": "2021-03-02T22:12:19.302105",
     "status": "completed"
    },
    "scrolled": false,
    "tags": [
     "hide-input"
    ]
   },
   "outputs": [
    {
     "data": {
      "image/png": "[encoded data removed]",
      "text/plain": [
       "<Figure size 864x432 with 1 Axes>"
      ]
     },
     "metadata": {
      "needs_background": "light"
     },
     "output_type": "display_data"
    }
   ],
   "source": [
    "dc.plot(kind='line',x='DATE',y='7_DAY',color='blue',grid='True',figsize=(12,6)).set_xlabel('Date');"
   ]
  },
  {
   "cell_type": "markdown",
   "id": "professional-savannah",
   "metadata": {
    "papermill": {
     "duration": 0.012464,
     "end_time": "2021-03-02T22:12:19.624522",
     "exception": false,
     "start_time": "2021-03-02T22:12:19.612058",
     "status": "completed"
    },
    "tags": []
   },
   "source": [
    "## Figure 2: Rolling 7-day average of daily new cases."
   ]
  },
  {
   "cell_type": "code",
   "execution_count": 8,
   "id": "stretch-investor",
   "metadata": {
    "execution": {
     "iopub.execute_input": "2021-03-02T22:12:19.655686Z",
     "iopub.status.busy": "2021-03-02T22:12:19.654999Z",
     "iopub.status.idle": "2021-03-02T22:12:19.914240Z",
     "shell.execute_reply": "2021-03-02T22:12:19.913596Z"
    },
    "jupyter": {
     "source_hidden": true
    },
    "papermill": {
     "duration": 0.276926,
     "end_time": "2021-03-02T22:12:19.914460",
     "exception": false,
     "start_time": "2021-03-02T22:12:19.637534",
     "status": "completed"
    },
    "tags": []
   },
   "outputs": [
    {
     "data": {
      "image/png": "[encoded data removed]",
      "text/plain": [
       "<Figure size 864x432 with 1 Axes>"
      ]
     },
     "metadata": {
      "needs_background": "light"
     },
     "output_type": "display_data"
    }
   ],
   "source": [
    "dc.plot(kind='line',x='DATE',y='14_DAY',color='green',grid='True',figsize=(12,6)).set_xlabel('Date');"
   ]
  },
  {
   "cell_type": "markdown",
   "id": "prerequisite-species",
   "metadata": {
    "papermill": {
     "duration": 0.014897,
     "end_time": "2021-03-02T22:12:19.943254",
     "exception": false,
     "start_time": "2021-03-02T22:12:19.928357",
     "status": "completed"
    },
    "tags": []
   },
   "source": [
    "## Figure 3: Rolling 14-day average of daily new cases."
   ]
  },
  {
   "cell_type": "markdown",
   "id": "palestinian-guard",
   "metadata": {
    "papermill": {
     "duration": 0.016097,
     "end_time": "2021-03-02T22:12:19.978438",
     "exception": false,
     "start_time": "2021-03-02T22:12:19.962341",
     "status": "completed"
    },
    "tags": []
   },
   "source": [
    "Data source: [Wisconsin Department of Health Services](https://data.dhsgis.wi.gov/datasets/covid-19-historical-data-table/)"
   ]
  },
  {
   "cell_type": "code",
   "execution_count": 9,
   "id": "proof-medicare",
   "metadata": {
    "execution": {
     "iopub.execute_input": "2021-03-02T22:12:20.014609Z",
     "iopub.status.busy": "2021-03-02T22:12:20.013961Z",
     "iopub.status.idle": "2021-03-02T22:12:20.017305Z",
     "shell.execute_reply": "2021-03-02T22:12:20.016703Z"
    },
    "jupyter": {
     "source_hidden": true
    },
    "papermill": {
     "duration": 0.024821,
     "end_time": "2021-03-02T22:12:20.017432",
     "exception": false,
     "start_time": "2021-03-02T22:12:19.992611",
     "status": "completed"
    },
    "tags": []
   },
   "outputs": [
    {
     "data": {
      "text/html": [
       "<style>\n",
       "div.input {\n",
       "    display:none;\n",
       "}\n",
       "</style>\n"
      ],
      "text/plain": [
       "<IPython.core.display.HTML object>"
      ]
     },
     "metadata": {},
     "output_type": "display_data"
    }
   ],
   "source": [
    "%%html\n",
    "<style>\n",
    "div.input {\n",
    "    display:none;\n",
    "}\n",
    "</style>"
   ]
  }
 ],
 "metadata": {
  "kernelspec": {
   "display_name": "Python 3",
   "language": "python",
   "name": "python3"
  },
  "language_info": {
   "codemirror_mode": {
    "name": "ipython",
    "version": 3
   },
   "file_extension": ".py",
   "mimetype": "text/x-python",
   "name": "python",
   "nbconvert_exporter": "python",
   "pygments_lexer": "ipython3",
   "version": "3.8.7"
  },
  "papermill": {
   "duration": 4.810229,
   "end_time": "2021-03-02T22:12:20.340659",
   "environment_variables": {},
   "exception": null,
   "input_path": "DunnCounty_COVID19.ipynb",
   "output_path": "DunnCounty_COVID19.ipynb",
   "parameters": {
    "Start": "True",
    "secretsPath": "/home/runner/work/_temp/secrets.json"
   },
   "start_time": "2021-03-02T22:12:15.530430",
   "version": "1.1.16"
  }
 },
 "nbformat": 4,
 "nbformat_minor": 5
}