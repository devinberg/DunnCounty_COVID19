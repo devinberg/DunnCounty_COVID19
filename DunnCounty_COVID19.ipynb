{
 "cells": [
  {
   "cell_type": "code",
   "execution_count": 1,
   "id": "solar-understanding",
   "metadata": {
    "execution": {
     "iopub.execute_input": "2021-02-11T10:12:41.461050Z",
     "iopub.status.busy": "2021-02-11T10:12:41.460392Z",
     "iopub.status.idle": "2021-02-11T10:12:46.007133Z",
     "shell.execute_reply": "2021-02-11T10:12:46.005940Z"
    },
    "jupyter": {
     "source_hidden": true
    },
    "papermill": {
     "duration": 4.566985,
     "end_time": "2021-02-11T10:12:46.007279",
     "exception": false,
     "start_time": "2021-02-11T10:12:41.440294",
     "status": "completed"
    },
    "scrolled": true,
    "tags": [
     "hide-input"
    ]
   },
   "outputs": [],
   "source": [
    "import pandas as pd\n",
    "import matplotlib.pyplot as plt\n",
    "from matplotlib import dates\n",
    "from IPython.display import display, Markdown\n",
    "%matplotlib inline"
   ]
  },
  {
   "cell_type": "code",
   "execution_count": 2,
   "id": "purple-playlist",
   "metadata": {
    "execution": {
     "iopub.execute_input": "2021-02-11T10:12:46.033205Z",
     "iopub.status.busy": "2021-02-11T10:12:46.032575Z",
     "iopub.status.idle": "2021-02-11T10:12:46.683913Z",
     "shell.execute_reply": "2021-02-11T10:12:46.683330Z"
    },
    "jupyter": {
     "source_hidden": true
    },
    "papermill": {
     "duration": 0.666505,
     "end_time": "2021-02-11T10:12:46.684048",
     "exception": false,
     "start_time": "2021-02-11T10:12:46.017543",
     "status": "completed"
    },
    "scrolled": true,
    "tags": [
     "hide-input"
    ]
   },
   "outputs": [],
   "source": [
    "# This is the data for all of Wisconsin.\n",
    "url = \"https://opendata.arcgis.com/datasets/5374188992374b318d3e2305216ee413_12.csv\"\n",
    "data = pd.read_csv(url, parse_dates=['DATE'], low_memory=False)"
   ]
  },
  {
   "cell_type": "code",
   "execution_count": 3,
   "id": "proprietary-klein",
   "metadata": {
    "execution": {
     "iopub.execute_input": "2021-02-11T10:12:46.710338Z",
     "iopub.status.busy": "2021-02-11T10:12:46.709718Z",
     "iopub.status.idle": "2021-02-11T10:12:46.719208Z",
     "shell.execute_reply": "2021-02-11T10:12:46.718558Z"
    },
    "jupyter": {
     "source_hidden": true
    },
    "papermill": {
     "duration": 0.024466,
     "end_time": "2021-02-11T10:12:46.719317",
     "exception": false,
     "start_time": "2021-02-11T10:12:46.694851",
     "status": "completed"
    },
    "scrolled": true,
    "tags": [
     "hide-input"
    ]
   },
   "outputs": [],
   "source": [
    "dc = data.groupby('NAME').get_group('Dunn').sort_values(by='DATE') # Select the data for Dunn County from the full data.\n",
    "PNi = dc.columns.get_loc(\"POS_NEW\")\n",
    "dc['7_DAY'] = dc.iloc[:,PNi].rolling(window=7).mean() # Calculates the rolling 7-day average of new cases.\n",
    "dc['14_DAY'] = dc.iloc[:,PNi].rolling(window=14).mean() # Calculates the rolling 14-day average of new cases."
   ]
  },
  {
   "cell_type": "code",
   "execution_count": 4,
   "id": "steady-supervision",
   "metadata": {
    "execution": {
     "iopub.execute_input": "2021-02-11T10:12:46.749094Z",
     "iopub.status.busy": "2021-02-11T10:12:46.748409Z",
     "iopub.status.idle": "2021-02-11T10:12:46.751682Z",
     "shell.execute_reply": "2021-02-11T10:12:46.752261Z"
    },
    "jupyter": {
     "source_hidden": true
    },
    "papermill": {
     "duration": 0.022175,
     "end_time": "2021-02-11T10:12:46.752419",
     "exception": false,
     "start_time": "2021-02-11T10:12:46.730244",
     "status": "completed"
    },
    "scrolled": true,
    "tags": [
     "hide-input"
    ]
   },
   "outputs": [
    {
     "data": {
      "text/markdown": [
       "### Last updated: February 10, 2021"
      ],
      "text/plain": [
       "<IPython.core.display.Markdown object>"
      ]
     },
     "metadata": {},
     "output_type": "display_data"
    }
   ],
   "source": [
    "display(Markdown('### Last updated: ' + dc.iloc[-1]['DATE'].strftime(\"%B %d, %Y\")))"
   ]
  },
  {
   "cell_type": "code",
   "execution_count": 5,
   "id": "lonely-pitch",
   "metadata": {
    "execution": {
     "iopub.execute_input": "2021-02-11T10:12:46.777623Z",
     "iopub.status.busy": "2021-02-11T10:12:46.776980Z",
     "iopub.status.idle": "2021-02-11T10:12:46.780370Z",
     "shell.execute_reply": "2021-02-11T10:12:46.779814Z"
    },
    "jupyter": {
     "source_hidden": true
    },
    "papermill": {
     "duration": 0.017756,
     "end_time": "2021-02-11T10:12:46.780487",
     "exception": false,
     "start_time": "2021-02-11T10:12:46.762731",
     "status": "completed"
    },
    "tags": [
     "hide-input"
    ]
   },
   "outputs": [
    {
     "data": {
      "text/markdown": [
       "# Dunn County has 4152 total positive cases, with 15 new cases reported today."
      ],
      "text/plain": [
       "<IPython.core.display.Markdown object>"
      ]
     },
     "metadata": {},
     "output_type": "display_data"
    }
   ],
   "source": [
    "display(Markdown('# Dunn County has ' + str(dc.iloc[-1]['POSITIVE']) + ' total positive cases, with '+ str(int(dc.iloc[-1]['POS_NEW'])) + ' new cases reported today.'))"
   ]
  },
  {
   "cell_type": "code",
   "execution_count": 6,
   "id": "compound-nightmare",
   "metadata": {
    "execution": {
     "iopub.execute_input": "2021-02-11T10:12:46.806217Z",
     "iopub.status.busy": "2021-02-11T10:12:46.805602Z",
     "iopub.status.idle": "2021-02-11T10:12:47.151831Z",
     "shell.execute_reply": "2021-02-11T10:12:47.152341Z"
    },
    "jupyter": {
     "source_hidden": true
    },
    "papermill": {
     "duration": 0.361606,
     "end_time": "2021-02-11T10:12:47.152543",
     "exception": false,
     "start_time": "2021-02-11T10:12:46.790937",
     "status": "completed"
    },
    "scrolled": false,
    "tags": [
     "hide-input"
    ]
   },
   "outputs": [
    {
     "data": {
      "image/png": "[encoded data removed]",
      "text/plain": [
       "<Figure size 864x432 with 1 Axes>"
      ]
     },
     "metadata": {
      "needs_background": "light"
     },
     "output_type": "display_data"
    }
   ],
   "source": [
    "dc.plot(x='DATE',y='POSITIVE',color='red',grid='True',figsize=(12,6)).set_xlabel('Date');"
   ]
  },
  {
   "cell_type": "markdown",
   "id": "coupled-literacy",
   "metadata": {
    "papermill": {
     "duration": 0.011239,
     "end_time": "2021-02-11T10:12:47.175269",
     "exception": false,
     "start_time": "2021-02-11T10:12:47.164030",
     "status": "completed"
    },
    "tags": []
   },
   "source": [
    "## Figure 1: Cummulative number of positive cases."
   ]
  },
  {
   "cell_type": "code",
   "execution_count": 7,
   "id": "surrounded-reserve",
   "metadata": {
    "execution": {
     "iopub.execute_input": "2021-02-11T10:12:47.202646Z",
     "iopub.status.busy": "2021-02-11T10:12:47.201973Z",
     "iopub.status.idle": "2021-02-11T10:12:47.489075Z",
     "shell.execute_reply": "2021-02-11T10:12:47.488529Z"
    },
    "jupyter": {
     "source_hidden": true
    },
    "papermill": {
     "duration": 0.302595,
     "end_time": "2021-02-11T10:12:47.489211",
     "exception": false,
     "start_time": "2021-02-11T10:12:47.186616",
     "status": "completed"
    },
    "scrolled": false,
    "tags": [
     "hide-input"
    ]
   },
   "outputs": [
    {
     "data": {
      "image/png": "[encoded data removed]",
      "text/plain": [
       "<Figure size 864x432 with 1 Axes>"
      ]
     },
     "metadata": {
      "needs_background": "light"
     },
     "output_type": "display_data"
    }
   ],
   "source": [
    "dc.plot(kind='line',x='DATE',y='7_DAY',color='blue',grid='True',figsize=(12,6)).set_xlabel('Date');"
   ]
  },
  {
   "cell_type": "markdown",
   "id": "professional-savannah",
   "metadata": {
    "papermill": {
     "duration": 0.012457,
     "end_time": "2021-02-11T10:12:47.515637",
     "exception": false,
     "start_time": "2021-02-11T10:12:47.503180",
     "status": "completed"
    },
    "tags": []
   },
   "source": [
    "## Figure 2: Rolling 7-day average of daily new cases."
   ]
  },
  {
   "cell_type": "code",
   "execution_count": 8,
   "id": "stretch-investor",
   "metadata": {
    "execution": {
     "iopub.execute_input": "2021-02-11T10:12:47.544658Z",
     "iopub.status.busy": "2021-02-11T10:12:47.544029Z",
     "iopub.status.idle": "2021-02-11T10:12:47.820097Z",
     "shell.execute_reply": "2021-02-11T10:12:47.820580Z"
    },
    "jupyter": {
     "source_hidden": true
    },
    "papermill": {
     "duration": 0.292497,
     "end_time": "2021-02-11T10:12:47.820789",
     "exception": false,
     "start_time": "2021-02-11T10:12:47.528292",
     "status": "completed"
    },
    "tags": []
   },
   "outputs": [
    {
     "data": {
      "image/png": "[encoded data removed]",
      "text/plain": [
       "<Figure size 864x432 with 1 Axes>"
      ]
     },
     "metadata": {
      "needs_background": "light"
     },
     "output_type": "display_data"
    }
   ],
   "source": [
    "dc.plot(kind='line',x='DATE',y='14_DAY',color='green',grid='True',figsize=(12,6)).set_xlabel('Date');"
   ]
  },
  {
   "cell_type": "markdown",
   "id": "prerequisite-species",
   "metadata": {
    "papermill": {
     "duration": 0.012868,
     "end_time": "2021-02-11T10:12:47.847520",
     "exception": false,
     "start_time": "2021-02-11T10:12:47.834652",
     "status": "completed"
    },
    "tags": []
   },
   "source": [
    "## Figure 3: Rolling 14-day average of daily new cases."
   ]
  },
  {
   "cell_type": "markdown",
   "id": "palestinian-guard",
   "metadata": {
    "papermill": {
     "duration": 0.013504,
     "end_time": "2021-02-11T10:12:47.873925",
     "exception": false,
     "start_time": "2021-02-11T10:12:47.860421",
     "status": "completed"
    },
    "tags": []
   },
   "source": [
    "Data source: [Wisconsin Department of Health Services](https://data.dhsgis.wi.gov/datasets/covid-19-historical-data-table/)"
   ]
  },
  {
   "cell_type": "code",
   "execution_count": 9,
   "id": "proof-medicare",
   "metadata": {
    "execution": {
     "iopub.execute_input": "2021-02-11T10:12:47.904785Z",
     "iopub.status.busy": "2021-02-11T10:12:47.904134Z",
     "iopub.status.idle": "2021-02-11T10:12:47.908324Z",
     "shell.execute_reply": "2021-02-11T10:12:47.907796Z"
    },
    "jupyter": {
     "source_hidden": true
    },
    "papermill": {
     "duration": 0.020953,
     "end_time": "2021-02-11T10:12:47.908463",
     "exception": false,
     "start_time": "2021-02-11T10:12:47.887510",
     "status": "completed"
    },
    "tags": []
   },
   "outputs": [
    {
     "data": {
      "text/html": [
       "<style>\n",
       "div.input {\n",
       "    display:none;\n",
       "}\n",
       "</style>\n"
      ],
      "text/plain": [
       "<IPython.core.display.HTML object>"
      ]
     },
     "metadata": {},
     "output_type": "display_data"
    }
   ],
   "source": [
    "%%html\n",
    "<style>\n",
    "div.input {\n",
    "    display:none;\n",
    "}\n",
    "</style>"
   ]
  }
 ],
 "metadata": {
  "kernelspec": {
   "display_name": "Python 3",
   "language": "python",
   "name": "python3"
  },
  "language_info": {
   "codemirror_mode": {
    "name": "ipython",
    "version": 3
   },
   "file_extension": ".py",
   "mimetype": "text/x-python",
   "name": "python",
   "nbconvert_exporter": "python",
   "pygments_lexer": "ipython3",
   "version": "3.8.7"
  },
  "papermill": {
   "duration": 8.736147,
   "end_time": "2021-02-11T10:12:48.228849",
   "environment_variables": {},
   "exception": null,
   "input_path": "DunnCounty_COVID19.ipynb",
   "output_path": "DunnCounty_COVID19.ipynb",
   "parameters": {
    "Start": "True",
    "secretsPath": "/home/runner/work/_temp/secrets.json"
   },
   "start_time": "2021-02-11T10:12:39.492702",
   "version": "1.1.16"
  }
 },
 "nbformat": 4,
 "nbformat_minor": 5
}