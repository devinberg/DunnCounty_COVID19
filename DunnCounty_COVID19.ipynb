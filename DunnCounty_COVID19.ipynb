{
 "cells": [
  {
   "cell_type": "code",
   "execution_count": 1,
   "id": "solar-understanding",
   "metadata": {
    "execution": {
     "iopub.execute_input": "2021-05-05T10:12:27.603760Z",
     "iopub.status.busy": "2021-05-05T10:12:27.603164Z",
     "iopub.status.idle": "2021-05-05T10:12:28.509396Z",
     "shell.execute_reply": "2021-05-05T10:12:28.508783Z"
    },
    "jupyter": {
     "source_hidden": true
    },
    "papermill": {
     "duration": 0.926314,
     "end_time": "2021-05-05T10:12:28.509569",
     "exception": false,
     "start_time": "2021-05-05T10:12:27.583255",
     "status": "completed"
    },
    "scrolled": true,
    "tags": [
     "hide-input"
    ]
   },
   "outputs": [],
   "source": [
    "import pandas as pd\n",
    "import matplotlib.pyplot as plt\n",
    "from matplotlib import dates\n",
    "from IPython.display import display, Markdown\n",
    "%matplotlib inline"
   ]
  },
  {
   "cell_type": "code",
   "execution_count": 2,
   "id": "purple-playlist",
   "metadata": {
    "execution": {
     "iopub.execute_input": "2021-05-05T10:12:28.534795Z",
     "iopub.status.busy": "2021-05-05T10:12:28.534203Z",
     "iopub.status.idle": "2021-05-05T10:12:29.961070Z",
     "shell.execute_reply": "2021-05-05T10:12:29.960542Z"
    },
    "jupyter": {
     "source_hidden": true
    },
    "papermill": {
     "duration": 1.441277,
     "end_time": "2021-05-05T10:12:29.961204",
     "exception": false,
     "start_time": "2021-05-05T10:12:28.519927",
     "status": "completed"
    },
    "scrolled": true,
    "tags": [
     "hide-input"
    ]
   },
   "outputs": [],
   "source": [
    "# This is the data for all of Wisconsin.\n",
    "url = \"https://opendata.arcgis.com/datasets/80ff9d4897db4d7692f0f4ad28447cab_12.csv\"\n",
    "data = pd.read_csv(url, parse_dates=['DATE'], low_memory=False)"
   ]
  },
  {
   "cell_type": "code",
   "execution_count": 3,
   "id": "proprietary-klein",
   "metadata": {
    "execution": {
     "iopub.execute_input": "2021-05-05T10:12:29.986740Z",
     "iopub.status.busy": "2021-05-05T10:12:29.985765Z",
     "iopub.status.idle": "2021-05-05T10:12:29.995084Z",
     "shell.execute_reply": "2021-05-05T10:12:29.994642Z"
    },
    "jupyter": {
     "source_hidden": true
    },
    "papermill": {
     "duration": 0.023802,
     "end_time": "2021-05-05T10:12:29.995207",
     "exception": false,
     "start_time": "2021-05-05T10:12:29.971405",
     "status": "completed"
    },
    "scrolled": true,
    "tags": [
     "hide-input"
    ]
   },
   "outputs": [],
   "source": [
    "dc = data.groupby('NAME').get_group('Dunn').sort_values(by='DATE') # Select the data for Dunn County from the full data.\n",
    "PNi = dc.columns.get_loc(\"POS_NEW\")\n",
    "dc['7_DAY'] = dc.iloc[:,PNi].rolling(window=7).mean() # Calculates the rolling 7-day average of new cases.\n",
    "dc['14_DAY'] = dc.iloc[:,PNi].rolling(window=14).mean() # Calculates the rolling 14-day average of new cases."
   ]
  },
  {
   "cell_type": "code",
   "execution_count": 4,
   "id": "steady-supervision",
   "metadata": {
    "execution": {
     "iopub.execute_input": "2021-05-05T10:12:30.019398Z",
     "iopub.status.busy": "2021-05-05T10:12:30.018840Z",
     "iopub.status.idle": "2021-05-05T10:12:30.022049Z",
     "shell.execute_reply": "2021-05-05T10:12:30.021604Z"
    },
    "jupyter": {
     "source_hidden": true
    },
    "papermill": {
     "duration": 0.018471,
     "end_time": "2021-05-05T10:12:30.022167",
     "exception": false,
     "start_time": "2021-05-05T10:12:30.003696",
     "status": "completed"
    },
    "scrolled": true,
    "tags": [
     "hide-input"
    ]
   },
   "outputs": [
    {
     "data": {
      "text/markdown": [
       "### Last updated: May 04, 2021"
      ],
      "text/plain": [
       "<IPython.core.display.Markdown object>"
      ]
     },
     "metadata": {},
     "output_type": "display_data"
    }
   ],
   "source": [
    "display(Markdown('### Last updated: ' + dc.iloc[-1]['DATE'].strftime(\"%B %d, %Y\")))"
   ]
  },
  {
   "cell_type": "code",
   "execution_count": 5,
   "id": "lonely-pitch",
   "metadata": {
    "execution": {
     "iopub.execute_input": "2021-05-05T10:12:30.045402Z",
     "iopub.status.busy": "2021-05-05T10:12:30.044857Z",
     "iopub.status.idle": "2021-05-05T10:12:30.047835Z",
     "shell.execute_reply": "2021-05-05T10:12:30.048287Z"
    },
    "jupyter": {
     "source_hidden": true
    },
    "papermill": {
     "duration": 0.017061,
     "end_time": "2021-05-05T10:12:30.048422",
     "exception": false,
     "start_time": "2021-05-05T10:12:30.031361",
     "status": "completed"
    },
    "tags": [
     "hide-input"
    ]
   },
   "outputs": [
    {
     "data": {
      "text/markdown": [
       "# Dunn County has 4625 total positive cases, with 5 new cases reported today."
      ],
      "text/plain": [
       "<IPython.core.display.Markdown object>"
      ]
     },
     "metadata": {},
     "output_type": "display_data"
    }
   ],
   "source": [
    "display(Markdown('# Dunn County has ' + str(dc.iloc[-1]['POSITIVE']) + ' total positive cases, with '+ str(int(dc.iloc[-1]['POS_NEW'])) + ' new cases reported today.'))"
   ]
  },
  {
   "cell_type": "code",
   "execution_count": 6,
   "id": "compound-nightmare",
   "metadata": {
    "execution": {
     "iopub.execute_input": "2021-05-05T10:12:30.072860Z",
     "iopub.status.busy": "2021-05-05T10:12:30.072343Z",
     "iopub.status.idle": "2021-05-05T10:12:30.367555Z",
     "shell.execute_reply": "2021-05-05T10:12:30.368041Z"
    },
    "jupyter": {
     "source_hidden": true
    },
    "papermill": {
     "duration": 0.309757,
     "end_time": "2021-05-05T10:12:30.368276",
     "exception": false,
     "start_time": "2021-05-05T10:12:30.058519",
     "status": "completed"
    },
    "scrolled": false,
    "tags": [
     "hide-input"
    ]
   },
   "outputs": [
    {
     "data": {
      "image/png": "[encoded data removed]",
      "text/plain": [
       "<Figure size 864x432 with 1 Axes>"
      ]
     },
     "metadata": {
      "needs_background": "light"
     },
     "output_type": "display_data"
    }
   ],
   "source": [
    "dc.plot(x='DATE',y='POSITIVE',color='red',grid='True',figsize=(12,6)).set_xlabel('Date');"
   ]
  },
  {
   "cell_type": "markdown",
   "id": "coupled-literacy",
   "metadata": {
    "papermill": {
     "duration": 0.011661,
     "end_time": "2021-05-05T10:12:30.390923",
     "exception": false,
     "start_time": "2021-05-05T10:12:30.379262",
     "status": "completed"
    },
    "tags": []
   },
   "source": [
    "## Figure 1: Cummulative number of positive cases."
   ]
  },
  {
   "cell_type": "code",
   "execution_count": 7,
   "id": "surrounded-reserve",
   "metadata": {
    "execution": {
     "iopub.execute_input": "2021-05-05T10:12:30.417454Z",
     "iopub.status.busy": "2021-05-05T10:12:30.416905Z",
     "iopub.status.idle": "2021-05-05T10:12:30.665159Z",
     "shell.execute_reply": "2021-05-05T10:12:30.665725Z"
    },
    "jupyter": {
     "source_hidden": true
    },
    "papermill": {
     "duration": 0.264639,
     "end_time": "2021-05-05T10:12:30.665910",
     "exception": false,
     "start_time": "2021-05-05T10:12:30.401271",
     "status": "completed"
    },
    "scrolled": false,
    "tags": [
     "hide-input"
    ]
   },
   "outputs": [
    {
     "data": {
      "image/png": "[encoded data removed]",
      "text/plain": [
       "<Figure size 864x432 with 1 Axes>"
      ]
     },
     "metadata": {
      "needs_background": "light"
     },
     "output_type": "display_data"
    }
   ],
   "source": [
    "dc.plot(kind='line',x='DATE',y='7_DAY',color='blue',grid='True',figsize=(12,6)).set_xlabel('Date');"
   ]
  },
  {
   "cell_type": "markdown",
   "id": "professional-savannah",
   "metadata": {
    "papermill": {
     "duration": 0.01282,
     "end_time": "2021-05-05T10:12:30.691775",
     "exception": false,
     "start_time": "2021-05-05T10:12:30.678955",
     "status": "completed"
    },
    "tags": []
   },
   "source": [
    "## Figure 2: Rolling 7-day average of daily new cases."
   ]
  },
  {
   "cell_type": "code",
   "execution_count": 8,
   "id": "stretch-investor",
   "metadata": {
    "execution": {
     "iopub.execute_input": "2021-05-05T10:12:30.719956Z",
     "iopub.status.busy": "2021-05-05T10:12:30.719366Z",
     "iopub.status.idle": "2021-05-05T10:12:30.971465Z",
     "shell.execute_reply": "2021-05-05T10:12:30.971922Z"
    },
    "jupyter": {
     "source_hidden": true
    },
    "papermill": {
     "duration": 0.2686,
     "end_time": "2021-05-05T10:12:30.972078",
     "exception": false,
     "start_time": "2021-05-05T10:12:30.703478",
     "status": "completed"
    },
    "tags": []
   },
   "outputs": [
    {
     "data": {
      "image/png": "[encoded data removed]",
      "text/plain": [
       "<Figure size 864x432 with 1 Axes>"
      ]
     },
     "metadata": {
      "needs_background": "light"
     },
     "output_type": "display_data"
    }
   ],
   "source": [
    "dc.plot(kind='line',x='DATE',y='14_DAY',color='green',grid='True',figsize=(12,6)).set_xlabel('Date');"
   ]
  },
  {
   "cell_type": "markdown",
   "id": "prerequisite-species",
   "metadata": {
    "papermill": {
     "duration": 0.016994,
     "end_time": "2021-05-05T10:12:31.004774",
     "exception": false,
     "start_time": "2021-05-05T10:12:30.987780",
     "status": "completed"
    },
    "tags": []
   },
   "source": [
    "## Figure 3: Rolling 14-day average of daily new cases."
   ]
  },
  {
   "cell_type": "markdown",
   "id": "palestinian-guard",
   "metadata": {
    "papermill": {
     "duration": 0.01257,
     "end_time": "2021-05-05T10:12:31.031543",
     "exception": false,
     "start_time": "2021-05-05T10:12:31.018973",
     "status": "completed"
    },
    "tags": []
   },
   "source": [
    "Data source: [Wisconsin Department of Health Services](https://data.dhsgis.wi.gov/datasets/covid-19-historical-data-by-county)"
   ]
  },
  {
   "cell_type": "code",
   "execution_count": 9,
   "id": "proof-medicare",
   "metadata": {
    "execution": {
     "iopub.execute_input": "2021-05-05T10:12:31.061738Z",
     "iopub.status.busy": "2021-05-05T10:12:31.060364Z",
     "iopub.status.idle": "2021-05-05T10:12:31.065007Z",
     "shell.execute_reply": "2021-05-05T10:12:31.065485Z"
    },
    "jupyter": {
     "source_hidden": true
    },
    "papermill": {
     "duration": 0.022125,
     "end_time": "2021-05-05T10:12:31.065654",
     "exception": false,
     "start_time": "2021-05-05T10:12:31.043529",
     "status": "completed"
    },
    "tags": []
   },
   "outputs": [
    {
     "data": {
      "text/html": [
       "<style>\n",
       "div.input {\n",
       "    display:none;\n",
       "}\n",
       "</style>\n"
      ],
      "text/plain": [
       "<IPython.core.display.HTML object>"
      ]
     },
     "metadata": {},
     "output_type": "display_data"
    }
   ],
   "source": [
    "%%html\n",
    "<style>\n",
    "div.input {\n",
    "    display:none;\n",
    "}\n",
    "</style>"
   ]
  }
 ],
 "metadata": {
  "kernelspec": {
   "display_name": "Python 3",
   "language": "python",
   "name": "python3"
  },
  "language_info": {
   "codemirror_mode": {
    "name": "ipython",
    "version": 3
   },
   "file_extension": ".py",
   "mimetype": "text/x-python",
   "name": "python",
   "nbconvert_exporter": "python",
   "pygments_lexer": "ipython3",
   "version": "3.8.9"
  },
  "papermill": {
   "duration": 5.083985,
   "end_time": "2021-05-05T10:12:31.384541",
   "environment_variables": {},
   "exception": null,
   "input_path": "DunnCounty_COVID19.ipynb",
   "output_path": "DunnCounty_COVID19.ipynb",
   "parameters": {
    "Start": "True",
    "secretsPath": "/home/runner/work/_temp/secrets.json"
   },
   "start_time": "2021-05-05T10:12:26.300556",
   "version": "1.1.16"
  }
 },
 "nbformat": 4,
 "nbformat_minor": 5
}