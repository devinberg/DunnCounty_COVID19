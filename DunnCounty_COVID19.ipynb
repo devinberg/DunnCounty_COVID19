{
 "cells": [
  {
   "cell_type": "code",
   "execution_count": 1,
   "id": "solar-understanding",
   "metadata": {
    "execution": {
     "iopub.execute_input": "2021-03-01T10:46:01.936258Z",
     "iopub.status.busy": "2021-03-01T10:46:01.935489Z",
     "iopub.status.idle": "2021-03-01T10:46:04.016370Z",
     "shell.execute_reply": "2021-03-01T10:46:04.015134Z"
    },
    "jupyter": {
     "source_hidden": true
    },
    "papermill": {
     "duration": 2.099685,
     "end_time": "2021-03-01T10:46:04.016536",
     "exception": false,
     "start_time": "2021-03-01T10:46:01.916851",
     "status": "completed"
    },
    "scrolled": true,
    "tags": [
     "hide-input"
    ]
   },
   "outputs": [],
   "source": [
    "import pandas as pd\n",
    "import matplotlib.pyplot as plt\n",
    "from matplotlib import dates\n",
    "from IPython.display import display, Markdown\n",
    "%matplotlib inline"
   ]
  },
  {
   "cell_type": "code",
   "execution_count": 2,
   "id": "purple-playlist",
   "metadata": {
    "execution": {
     "iopub.execute_input": "2021-03-01T10:46:04.044898Z",
     "iopub.status.busy": "2021-03-01T10:46:04.044324Z",
     "iopub.status.idle": "2021-03-01T10:46:04.706917Z",
     "shell.execute_reply": "2021-03-01T10:46:04.706392Z"
    },
    "jupyter": {
     "source_hidden": true
    },
    "papermill": {
     "duration": 0.678189,
     "end_time": "2021-03-01T10:46:04.707046",
     "exception": false,
     "start_time": "2021-03-01T10:46:04.028857",
     "status": "completed"
    },
    "scrolled": true,
    "tags": [
     "hide-input"
    ]
   },
   "outputs": [],
   "source": [
    "# This is the data for all of Wisconsin.\n",
    "url = \"https://opendata.arcgis.com/datasets/5374188992374b318d3e2305216ee413_12.csv\"\n",
    "data = pd.read_csv(url, parse_dates=['DATE'], low_memory=False)"
   ]
  },
  {
   "cell_type": "code",
   "execution_count": 3,
   "id": "proprietary-klein",
   "metadata": {
    "execution": {
     "iopub.execute_input": "2021-03-01T10:46:04.732701Z",
     "iopub.status.busy": "2021-03-01T10:46:04.732146Z",
     "iopub.status.idle": "2021-03-01T10:46:04.740928Z",
     "shell.execute_reply": "2021-03-01T10:46:04.740400Z"
    },
    "jupyter": {
     "source_hidden": true
    },
    "papermill": {
     "duration": 0.024493,
     "end_time": "2021-03-01T10:46:04.741052",
     "exception": false,
     "start_time": "2021-03-01T10:46:04.716559",
     "status": "completed"
    },
    "scrolled": true,
    "tags": [
     "hide-input"
    ]
   },
   "outputs": [],
   "source": [
    "dc = data.groupby('NAME').get_group('Dunn').sort_values(by='DATE') # Select the data for Dunn County from the full data.\n",
    "PNi = dc.columns.get_loc(\"POS_NEW\")\n",
    "dc['7_DAY'] = dc.iloc[:,PNi].rolling(window=7).mean() # Calculates the rolling 7-day average of new cases.\n",
    "dc['14_DAY'] = dc.iloc[:,PNi].rolling(window=14).mean() # Calculates the rolling 14-day average of new cases."
   ]
  },
  {
   "cell_type": "code",
   "execution_count": 4,
   "id": "steady-supervision",
   "metadata": {
    "execution": {
     "iopub.execute_input": "2021-03-01T10:46:04.765710Z",
     "iopub.status.busy": "2021-03-01T10:46:04.762967Z",
     "iopub.status.idle": "2021-03-01T10:46:04.769129Z",
     "shell.execute_reply": "2021-03-01T10:46:04.769540Z"
    },
    "jupyter": {
     "source_hidden": true
    },
    "papermill": {
     "duration": 0.019681,
     "end_time": "2021-03-01T10:46:04.769695",
     "exception": false,
     "start_time": "2021-03-01T10:46:04.750014",
     "status": "completed"
    },
    "scrolled": true,
    "tags": [
     "hide-input"
    ]
   },
   "outputs": [
    {
     "data": {
      "text/markdown": [
       "### Last updated: February 28, 2021"
      ],
      "text/plain": [
       "<IPython.core.display.Markdown object>"
      ]
     },
     "metadata": {},
     "output_type": "display_data"
    }
   ],
   "source": [
    "display(Markdown('### Last updated: ' + dc.iloc[-1]['DATE'].strftime(\"%B %d, %Y\")))"
   ]
  },
  {
   "cell_type": "code",
   "execution_count": 5,
   "id": "lonely-pitch",
   "metadata": {
    "execution": {
     "iopub.execute_input": "2021-03-01T10:46:04.795363Z",
     "iopub.status.busy": "2021-03-01T10:46:04.794820Z",
     "iopub.status.idle": "2021-03-01T10:46:04.798714Z",
     "shell.execute_reply": "2021-03-01T10:46:04.798236Z"
    },
    "jupyter": {
     "source_hidden": true
    },
    "papermill": {
     "duration": 0.019935,
     "end_time": "2021-03-01T10:46:04.798836",
     "exception": false,
     "start_time": "2021-03-01T10:46:04.778901",
     "status": "completed"
    },
    "tags": [
     "hide-input"
    ]
   },
   "outputs": [
    {
     "data": {
      "text/markdown": [
       "# Dunn County has 4262 total positive cases, with 7 new cases reported today."
      ],
      "text/plain": [
       "<IPython.core.display.Markdown object>"
      ]
     },
     "metadata": {},
     "output_type": "display_data"
    }
   ],
   "source": [
    "display(Markdown('# Dunn County has ' + str(dc.iloc[-1]['POSITIVE']) + ' total positive cases, with '+ str(int(dc.iloc[-1]['POS_NEW'])) + ' new cases reported today.'))"
   ]
  },
  {
   "cell_type": "code",
   "execution_count": 6,
   "id": "compound-nightmare",
   "metadata": {
    "execution": {
     "iopub.execute_input": "2021-03-01T10:46:04.822125Z",
     "iopub.status.busy": "2021-03-01T10:46:04.821534Z",
     "iopub.status.idle": "2021-03-01T10:46:05.081991Z",
     "shell.execute_reply": "2021-03-01T10:46:05.082440Z"
    },
    "jupyter": {
     "source_hidden": true
    },
    "papermill": {
     "duration": 0.274284,
     "end_time": "2021-03-01T10:46:05.082598",
     "exception": false,
     "start_time": "2021-03-01T10:46:04.808314",
     "status": "completed"
    },
    "scrolled": false,
    "tags": [
     "hide-input"
    ]
   },
   "outputs": [
    {
     "data": {
      "image/png": "[encoded data removed]",
      "text/plain": [
       "<Figure size 864x432 with 1 Axes>"
      ]
     },
     "metadata": {
      "needs_background": "light"
     },
     "output_type": "display_data"
    }
   ],
   "source": [
    "dc.plot(x='DATE',y='POSITIVE',color='red',grid='True',figsize=(12,6)).set_xlabel('Date');"
   ]
  },
  {
   "cell_type": "markdown",
   "id": "coupled-literacy",
   "metadata": {
    "papermill": {
     "duration": 0.010743,
     "end_time": "2021-03-01T10:46:05.103979",
     "exception": false,
     "start_time": "2021-03-01T10:46:05.093236",
     "status": "completed"
    },
    "tags": []
   },
   "source": [
    "## Figure 1: Cummulative number of positive cases."
   ]
  },
  {
   "cell_type": "code",
   "execution_count": 7,
   "id": "surrounded-reserve",
   "metadata": {
    "execution": {
     "iopub.execute_input": "2021-03-01T10:46:05.129850Z",
     "iopub.status.busy": "2021-03-01T10:46:05.129272Z",
     "iopub.status.idle": "2021-03-01T10:46:05.341112Z",
     "shell.execute_reply": "2021-03-01T10:46:05.341549Z"
    },
    "jupyter": {
     "source_hidden": true
    },
    "papermill": {
     "duration": 0.227485,
     "end_time": "2021-03-01T10:46:05.341705",
     "exception": false,
     "start_time": "2021-03-01T10:46:05.114220",
     "status": "completed"
    },
    "scrolled": false,
    "tags": [
     "hide-input"
    ]
   },
   "outputs": [
    {
     "data": {
      "image/png": "[encoded data removed]",
      "text/plain": [
       "<Figure size 864x432 with 1 Axes>"
      ]
     },
     "metadata": {
      "needs_background": "light"
     },
     "output_type": "display_data"
    }
   ],
   "source": [
    "dc.plot(kind='line',x='DATE',y='7_DAY',color='blue',grid='True',figsize=(12,6)).set_xlabel('Date');"
   ]
  },
  {
   "cell_type": "markdown",
   "id": "professional-savannah",
   "metadata": {
    "papermill": {
     "duration": 0.012045,
     "end_time": "2021-03-01T10:46:05.366233",
     "exception": false,
     "start_time": "2021-03-01T10:46:05.354188",
     "status": "completed"
    },
    "tags": []
   },
   "source": [
    "## Figure 2: Rolling 7-day average of daily new cases."
   ]
  },
  {
   "cell_type": "code",
   "execution_count": 8,
   "id": "stretch-investor",
   "metadata": {
    "execution": {
     "iopub.execute_input": "2021-03-01T10:46:05.394517Z",
     "iopub.status.busy": "2021-03-01T10:46:05.393966Z",
     "iopub.status.idle": "2021-03-01T10:46:05.593789Z",
     "shell.execute_reply": "2021-03-01T10:46:05.594249Z"
    },
    "jupyter": {
     "source_hidden": true
    },
    "papermill": {
     "duration": 0.215949,
     "end_time": "2021-03-01T10:46:05.594403",
     "exception": false,
     "start_time": "2021-03-01T10:46:05.378454",
     "status": "completed"
    },
    "tags": []
   },
   "outputs": [
    {
     "data": {
      "image/png": "[encoded data removed]",
      "text/plain": [
       "<Figure size 864x432 with 1 Axes>"
      ]
     },
     "metadata": {
      "needs_background": "light"
     },
     "output_type": "display_data"
    }
   ],
   "source": [
    "dc.plot(kind='line',x='DATE',y='14_DAY',color='green',grid='True',figsize=(12,6)).set_xlabel('Date');"
   ]
  },
  {
   "cell_type": "markdown",
   "id": "prerequisite-species",
   "metadata": {
    "papermill": {
     "duration": 0.012295,
     "end_time": "2021-03-01T10:46:05.619820",
     "exception": false,
     "start_time": "2021-03-01T10:46:05.607525",
     "status": "completed"
    },
    "tags": []
   },
   "source": [
    "## Figure 3: Rolling 14-day average of daily new cases."
   ]
  },
  {
   "cell_type": "markdown",
   "id": "palestinian-guard",
   "metadata": {
    "papermill": {
     "duration": 0.012126,
     "end_time": "2021-03-01T10:46:05.644423",
     "exception": false,
     "start_time": "2021-03-01T10:46:05.632297",
     "status": "completed"
    },
    "tags": []
   },
   "source": [
    "Data source: [Wisconsin Department of Health Services](https://data.dhsgis.wi.gov/datasets/covid-19-historical-data-table/)"
   ]
  },
  {
   "cell_type": "code",
   "execution_count": 9,
   "id": "proof-medicare",
   "metadata": {
    "execution": {
     "iopub.execute_input": "2021-03-01T10:46:05.676155Z",
     "iopub.status.busy": "2021-03-01T10:46:05.675606Z",
     "iopub.status.idle": "2021-03-01T10:46:05.679912Z",
     "shell.execute_reply": "2021-03-01T10:46:05.680421Z"
    },
    "jupyter": {
     "source_hidden": true
    },
    "papermill": {
     "duration": 0.023735,
     "end_time": "2021-03-01T10:46:05.680568",
     "exception": false,
     "start_time": "2021-03-01T10:46:05.656833",
     "status": "completed"
    },
    "tags": []
   },
   "outputs": [
    {
     "data": {
      "text/html": [
       "<style>\n",
       "div.input {\n",
       "    display:none;\n",
       "}\n",
       "</style>\n"
      ],
      "text/plain": [
       "<IPython.core.display.HTML object>"
      ]
     },
     "metadata": {},
     "output_type": "display_data"
    }
   ],
   "source": [
    "%%html\n",
    "<style>\n",
    "div.input {\n",
    "    display:none;\n",
    "}\n",
    "</style>"
   ]
  }
 ],
 "metadata": {
  "kernelspec": {
   "display_name": "Python 3",
   "language": "python",
   "name": "python3"
  },
  "language_info": {
   "codemirror_mode": {
    "name": "ipython",
    "version": 3
   },
   "file_extension": ".py",
   "mimetype": "text/x-python",
   "name": "python",
   "nbconvert_exporter": "python",
   "pygments_lexer": "ipython3",
   "version": "3.8.7"
  },
  "papermill": {
   "duration": 5.948785,
   "end_time": "2021-03-01T10:46:06.105925",
   "environment_variables": {},
   "exception": null,
   "input_path": "DunnCounty_COVID19.ipynb",
   "output_path": "DunnCounty_COVID19.ipynb",
   "parameters": {
    "Start": "True",
    "secretsPath": "/home/runner/work/_temp/secrets.json"
   },
   "start_time": "2021-03-01T10:46:00.157140",
   "version": "1.1.16"
  }
 },
 "nbformat": 4,
 "nbformat_minor": 5
}