{
 "cells": [
  {
   "cell_type": "code",
   "execution_count": 1,
   "id": "solar-understanding",
   "metadata": {
    "execution": {
     "iopub.execute_input": "2021-02-24T10:12:40.380513Z",
     "iopub.status.busy": "2021-02-24T10:12:40.379999Z",
     "iopub.status.idle": "2021-02-24T10:12:41.839128Z",
     "shell.execute_reply": "2021-02-24T10:12:41.838147Z"
    },
    "jupyter": {
     "source_hidden": true
    },
    "papermill": {
     "duration": 1.477551,
     "end_time": "2021-02-24T10:12:41.839359",
     "exception": false,
     "start_time": "2021-02-24T10:12:40.361808",
     "status": "completed"
    },
    "scrolled": true,
    "tags": [
     "hide-input"
    ]
   },
   "outputs": [],
   "source": [
    "import pandas as pd\n",
    "import matplotlib.pyplot as plt\n",
    "from matplotlib import dates\n",
    "from IPython.display import display, Markdown\n",
    "%matplotlib inline"
   ]
  },
  {
   "cell_type": "code",
   "execution_count": 2,
   "id": "purple-playlist",
   "metadata": {
    "execution": {
     "iopub.execute_input": "2021-02-24T10:12:41.864047Z",
     "iopub.status.busy": "2021-02-24T10:12:41.863177Z",
     "iopub.status.idle": "2021-02-24T10:12:42.649707Z",
     "shell.execute_reply": "2021-02-24T10:12:42.650488Z"
    },
    "jupyter": {
     "source_hidden": true
    },
    "papermill": {
     "duration": 0.801219,
     "end_time": "2021-02-24T10:12:42.650748",
     "exception": false,
     "start_time": "2021-02-24T10:12:41.849529",
     "status": "completed"
    },
    "scrolled": true,
    "tags": [
     "hide-input"
    ]
   },
   "outputs": [],
   "source": [
    "# This is the data for all of Wisconsin.\n",
    "url = \"https://opendata.arcgis.com/datasets/5374188992374b318d3e2305216ee413_12.csv\"\n",
    "data = pd.read_csv(url, parse_dates=['DATE'], low_memory=False)"
   ]
  },
  {
   "cell_type": "code",
   "execution_count": 3,
   "id": "proprietary-klein",
   "metadata": {
    "execution": {
     "iopub.execute_input": "2021-02-24T10:12:42.675473Z",
     "iopub.status.busy": "2021-02-24T10:12:42.674969Z",
     "iopub.status.idle": "2021-02-24T10:12:42.683031Z",
     "shell.execute_reply": "2021-02-24T10:12:42.682535Z"
    },
    "jupyter": {
     "source_hidden": true
    },
    "papermill": {
     "duration": 0.022435,
     "end_time": "2021-02-24T10:12:42.683143",
     "exception": false,
     "start_time": "2021-02-24T10:12:42.660708",
     "status": "completed"
    },
    "scrolled": true,
    "tags": [
     "hide-input"
    ]
   },
   "outputs": [],
   "source": [
    "dc = data.groupby('NAME').get_group('Dunn').sort_values(by='DATE') # Select the data for Dunn County from the full data.\n",
    "PNi = dc.columns.get_loc(\"POS_NEW\")\n",
    "dc['7_DAY'] = dc.iloc[:,PNi].rolling(window=7).mean() # Calculates the rolling 7-day average of new cases.\n",
    "dc['14_DAY'] = dc.iloc[:,PNi].rolling(window=14).mean() # Calculates the rolling 14-day average of new cases."
   ]
  },
  {
   "cell_type": "code",
   "execution_count": 4,
   "id": "steady-supervision",
   "metadata": {
    "execution": {
     "iopub.execute_input": "2021-02-24T10:12:42.707045Z",
     "iopub.status.busy": "2021-02-24T10:12:42.704884Z",
     "iopub.status.idle": "2021-02-24T10:12:42.709616Z",
     "shell.execute_reply": "2021-02-24T10:12:42.710107Z"
    },
    "jupyter": {
     "source_hidden": true
    },
    "papermill": {
     "duration": 0.016755,
     "end_time": "2021-02-24T10:12:42.710239",
     "exception": false,
     "start_time": "2021-02-24T10:12:42.693484",
     "status": "completed"
    },
    "scrolled": true,
    "tags": [
     "hide-input"
    ]
   },
   "outputs": [
    {
     "data": {
      "text/markdown": [
       "### Last updated: February 23, 2021"
      ],
      "text/plain": [
       "<IPython.core.display.Markdown object>"
      ]
     },
     "metadata": {},
     "output_type": "display_data"
    }
   ],
   "source": [
    "display(Markdown('### Last updated: ' + dc.iloc[-1]['DATE'].strftime(\"%B %d, %Y\")))"
   ]
  },
  {
   "cell_type": "code",
   "execution_count": 5,
   "id": "lonely-pitch",
   "metadata": {
    "execution": {
     "iopub.execute_input": "2021-02-24T10:12:42.732348Z",
     "iopub.status.busy": "2021-02-24T10:12:42.731668Z",
     "iopub.status.idle": "2021-02-24T10:12:42.733891Z",
     "shell.execute_reply": "2021-02-24T10:12:42.734369Z"
    },
    "jupyter": {
     "source_hidden": true
    },
    "papermill": {
     "duration": 0.015465,
     "end_time": "2021-02-24T10:12:42.734498",
     "exception": false,
     "start_time": "2021-02-24T10:12:42.719033",
     "status": "completed"
    },
    "tags": [
     "hide-input"
    ]
   },
   "outputs": [
    {
     "data": {
      "text/markdown": [
       "# Dunn County has 4234 total positive cases, with 2 new cases reported today."
      ],
      "text/plain": [
       "<IPython.core.display.Markdown object>"
      ]
     },
     "metadata": {},
     "output_type": "display_data"
    }
   ],
   "source": [
    "display(Markdown('# Dunn County has ' + str(dc.iloc[-1]['POSITIVE']) + ' total positive cases, with '+ str(int(dc.iloc[-1]['POS_NEW'])) + ' new cases reported today.'))"
   ]
  },
  {
   "cell_type": "code",
   "execution_count": 6,
   "id": "compound-nightmare",
   "metadata": {
    "execution": {
     "iopub.execute_input": "2021-02-24T10:12:42.756032Z",
     "iopub.status.busy": "2021-02-24T10:12:42.755545Z",
     "iopub.status.idle": "2021-02-24T10:12:42.990005Z",
     "shell.execute_reply": "2021-02-24T10:12:42.990458Z"
    },
    "jupyter": {
     "source_hidden": true
    },
    "papermill": {
     "duration": 0.247205,
     "end_time": "2021-02-24T10:12:42.990607",
     "exception": false,
     "start_time": "2021-02-24T10:12:42.743402",
     "status": "completed"
    },
    "scrolled": false,
    "tags": [
     "hide-input"
    ]
   },
   "outputs": [
    {
     "data": {
      "image/png": "[encoded data removed]",
      "text/plain": [
       "<Figure size 864x432 with 1 Axes>"
      ]
     },
     "metadata": {
      "needs_background": "light"
     },
     "output_type": "display_data"
    }
   ],
   "source": [
    "dc.plot(x='DATE',y='POSITIVE',color='red',grid='True',figsize=(12,6)).set_xlabel('Date');"
   ]
  },
  {
   "cell_type": "markdown",
   "id": "coupled-literacy",
   "metadata": {
    "papermill": {
     "duration": 0.010618,
     "end_time": "2021-02-24T10:12:43.012166",
     "exception": false,
     "start_time": "2021-02-24T10:12:43.001548",
     "status": "completed"
    },
    "tags": []
   },
   "source": [
    "## Figure 1: Cummulative number of positive cases."
   ]
  },
  {
   "cell_type": "code",
   "execution_count": 7,
   "id": "surrounded-reserve",
   "metadata": {
    "execution": {
     "iopub.execute_input": "2021-02-24T10:12:43.055330Z",
     "iopub.status.busy": "2021-02-24T10:12:43.054829Z",
     "iopub.status.idle": "2021-02-24T10:12:43.216823Z",
     "shell.execute_reply": "2021-02-24T10:12:43.217247Z"
    },
    "jupyter": {
     "source_hidden": true
    },
    "papermill": {
     "duration": 0.194741,
     "end_time": "2021-02-24T10:12:43.217409",
     "exception": false,
     "start_time": "2021-02-24T10:12:43.022668",
     "status": "completed"
    },
    "scrolled": false,
    "tags": [
     "hide-input"
    ]
   },
   "outputs": [
    {
     "data": {
      "image/png": "[encoded data removed]",
      "text/plain": [
       "<Figure size 864x432 with 1 Axes>"
      ]
     },
     "metadata": {
      "needs_background": "light"
     },
     "output_type": "display_data"
    }
   ],
   "source": [
    "dc.plot(kind='line',x='DATE',y='7_DAY',color='blue',grid='True',figsize=(12,6)).set_xlabel('Date');"
   ]
  },
  {
   "cell_type": "markdown",
   "id": "professional-savannah",
   "metadata": {
    "papermill": {
     "duration": 0.010868,
     "end_time": "2021-02-24T10:12:43.238822",
     "exception": false,
     "start_time": "2021-02-24T10:12:43.227954",
     "status": "completed"
    },
    "tags": []
   },
   "source": [
    "## Figure 2: Rolling 7-day average of daily new cases."
   ]
  },
  {
   "cell_type": "code",
   "execution_count": 8,
   "id": "stretch-investor",
   "metadata": {
    "execution": {
     "iopub.execute_input": "2021-02-24T10:12:43.265120Z",
     "iopub.status.busy": "2021-02-24T10:12:43.264618Z",
     "iopub.status.idle": "2021-02-24T10:12:43.485403Z",
     "shell.execute_reply": "2021-02-24T10:12:43.485834Z"
    },
    "jupyter": {
     "source_hidden": true
    },
    "papermill": {
     "duration": 0.23651,
     "end_time": "2021-02-24T10:12:43.485981",
     "exception": false,
     "start_time": "2021-02-24T10:12:43.249471",
     "status": "completed"
    },
    "tags": []
   },
   "outputs": [
    {
     "data": {
      "image/png": "[encoded data removed]",
      "text/plain": [
       "<Figure size 864x432 with 1 Axes>"
      ]
     },
     "metadata": {
      "needs_background": "light"
     },
     "output_type": "display_data"
    }
   ],
   "source": [
    "dc.plot(kind='line',x='DATE',y='14_DAY',color='green',grid='True',figsize=(12,6)).set_xlabel('Date');"
   ]
  },
  {
   "cell_type": "markdown",
   "id": "prerequisite-species",
   "metadata": {
    "papermill": {
     "duration": 0.012413,
     "end_time": "2021-02-24T10:12:43.510517",
     "exception": false,
     "start_time": "2021-02-24T10:12:43.498104",
     "status": "completed"
    },
    "tags": []
   },
   "source": [
    "## Figure 3: Rolling 14-day average of daily new cases."
   ]
  },
  {
   "cell_type": "markdown",
   "id": "palestinian-guard",
   "metadata": {
    "papermill": {
     "duration": 0.011255,
     "end_time": "2021-02-24T10:12:43.533634",
     "exception": false,
     "start_time": "2021-02-24T10:12:43.522379",
     "status": "completed"
    },
    "tags": []
   },
   "source": [
    "Data source: [Wisconsin Department of Health Services](https://data.dhsgis.wi.gov/datasets/covid-19-historical-data-table/)"
   ]
  },
  {
   "cell_type": "code",
   "execution_count": 9,
   "id": "proof-medicare",
   "metadata": {
    "execution": {
     "iopub.execute_input": "2021-02-24T10:12:43.564029Z",
     "iopub.status.busy": "2021-02-24T10:12:43.563246Z",
     "iopub.status.idle": "2021-02-24T10:12:43.566136Z",
     "shell.execute_reply": "2021-02-24T10:12:43.566568Z"
    },
    "jupyter": {
     "source_hidden": true
    },
    "papermill": {
     "duration": 0.020722,
     "end_time": "2021-02-24T10:12:43.566699",
     "exception": false,
     "start_time": "2021-02-24T10:12:43.545977",
     "status": "completed"
    },
    "tags": []
   },
   "outputs": [
    {
     "data": {
      "text/html": [
       "<style>\n",
       "div.input {\n",
       "    display:none;\n",
       "}\n",
       "</style>\n"
      ],
      "text/plain": [
       "<IPython.core.display.HTML object>"
      ]
     },
     "metadata": {},
     "output_type": "display_data"
    }
   ],
   "source": [
    "%%html\n",
    "<style>\n",
    "div.input {\n",
    "    display:none;\n",
    "}\n",
    "</style>"
   ]
  }
 ],
 "metadata": {
  "kernelspec": {
   "display_name": "Python 3",
   "language": "python",
   "name": "python3"
  },
  "language_info": {
   "codemirror_mode": {
    "name": "ipython",
    "version": 3
   },
   "file_extension": ".py",
   "mimetype": "text/x-python",
   "name": "python",
   "nbconvert_exporter": "python",
   "pygments_lexer": "ipython3",
   "version": "3.8.7"
  },
  "papermill": {
   "duration": 4.92824,
   "end_time": "2021-02-24T10:12:43.885393",
   "environment_variables": {},
   "exception": null,
   "input_path": "DunnCounty_COVID19.ipynb",
   "output_path": "DunnCounty_COVID19.ipynb",
   "parameters": {
    "Start": "True",
    "secretsPath": "/home/runner/work/_temp/secrets.json"
   },
   "start_time": "2021-02-24T10:12:38.957153",
   "version": "1.1.16"
  }
 },
 "nbformat": 4,
 "nbformat_minor": 5
}