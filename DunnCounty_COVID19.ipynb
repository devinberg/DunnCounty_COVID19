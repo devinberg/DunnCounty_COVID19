{
 "cells": [
  {
   "cell_type": "code",
   "execution_count": 1,
   "id": "solar-understanding",
   "metadata": {
    "execution": {
     "iopub.execute_input": "2021-02-26T10:12:55.579666Z",
     "iopub.status.busy": "2021-02-26T10:12:55.579137Z",
     "iopub.status.idle": "2021-02-26T10:12:57.461115Z",
     "shell.execute_reply": "2021-02-26T10:12:57.459991Z"
    },
    "jupyter": {
     "source_hidden": true
    },
    "papermill": {
     "duration": 1.900161,
     "end_time": "2021-02-26T10:12:57.461277",
     "exception": false,
     "start_time": "2021-02-26T10:12:55.561116",
     "status": "completed"
    },
    "scrolled": true,
    "tags": [
     "hide-input"
    ]
   },
   "outputs": [],
   "source": [
    "import pandas as pd\n",
    "import matplotlib.pyplot as plt\n",
    "from matplotlib import dates\n",
    "from IPython.display import display, Markdown\n",
    "%matplotlib inline"
   ]
  },
  {
   "cell_type": "code",
   "execution_count": 2,
   "id": "purple-playlist",
   "metadata": {
    "execution": {
     "iopub.execute_input": "2021-02-26T10:12:57.486425Z",
     "iopub.status.busy": "2021-02-26T10:12:57.485868Z",
     "iopub.status.idle": "2021-02-26T10:12:58.157191Z",
     "shell.execute_reply": "2021-02-26T10:12:58.156616Z"
    },
    "jupyter": {
     "source_hidden": true
    },
    "papermill": {
     "duration": 0.687094,
     "end_time": "2021-02-26T10:12:58.157313",
     "exception": false,
     "start_time": "2021-02-26T10:12:57.470219",
     "status": "completed"
    },
    "scrolled": true,
    "tags": [
     "hide-input"
    ]
   },
   "outputs": [],
   "source": [
    "# This is the data for all of Wisconsin.\n",
    "url = \"https://opendata.arcgis.com/datasets/5374188992374b318d3e2305216ee413_12.csv\"\n",
    "data = pd.read_csv(url, parse_dates=['DATE'], low_memory=False)"
   ]
  },
  {
   "cell_type": "code",
   "execution_count": 3,
   "id": "proprietary-klein",
   "metadata": {
    "execution": {
     "iopub.execute_input": "2021-02-26T10:12:58.179626Z",
     "iopub.status.busy": "2021-02-26T10:12:58.178828Z",
     "iopub.status.idle": "2021-02-26T10:12:58.186445Z",
     "shell.execute_reply": "2021-02-26T10:12:58.185998Z"
    },
    "jupyter": {
     "source_hidden": true
    },
    "papermill": {
     "duration": 0.020232,
     "end_time": "2021-02-26T10:12:58.186541",
     "exception": false,
     "start_time": "2021-02-26T10:12:58.166309",
     "status": "completed"
    },
    "scrolled": true,
    "tags": [
     "hide-input"
    ]
   },
   "outputs": [],
   "source": [
    "dc = data.groupby('NAME').get_group('Dunn').sort_values(by='DATE') # Select the data for Dunn County from the full data.\n",
    "PNi = dc.columns.get_loc(\"POS_NEW\")\n",
    "dc['7_DAY'] = dc.iloc[:,PNi].rolling(window=7).mean() # Calculates the rolling 7-day average of new cases.\n",
    "dc['14_DAY'] = dc.iloc[:,PNi].rolling(window=14).mean() # Calculates the rolling 14-day average of new cases."
   ]
  },
  {
   "cell_type": "code",
   "execution_count": 4,
   "id": "steady-supervision",
   "metadata": {
    "execution": {
     "iopub.execute_input": "2021-02-26T10:12:58.209893Z",
     "iopub.status.busy": "2021-02-26T10:12:58.209249Z",
     "iopub.status.idle": "2021-02-26T10:12:58.212319Z",
     "shell.execute_reply": "2021-02-26T10:12:58.212782Z"
    },
    "jupyter": {
     "source_hidden": true
    },
    "papermill": {
     "duration": 0.017333,
     "end_time": "2021-02-26T10:12:58.212942",
     "exception": false,
     "start_time": "2021-02-26T10:12:58.195609",
     "status": "completed"
    },
    "scrolled": true,
    "tags": [
     "hide-input"
    ]
   },
   "outputs": [
    {
     "data": {
      "text/markdown": [
       "### Last updated: February 25, 2021"
      ],
      "text/plain": [
       "<IPython.core.display.Markdown object>"
      ]
     },
     "metadata": {},
     "output_type": "display_data"
    }
   ],
   "source": [
    "display(Markdown('### Last updated: ' + dc.iloc[-1]['DATE'].strftime(\"%B %d, %Y\")))"
   ]
  },
  {
   "cell_type": "code",
   "execution_count": 5,
   "id": "lonely-pitch",
   "metadata": {
    "execution": {
     "iopub.execute_input": "2021-02-26T10:12:58.236349Z",
     "iopub.status.busy": "2021-02-26T10:12:58.235823Z",
     "iopub.status.idle": "2021-02-26T10:12:58.238897Z",
     "shell.execute_reply": "2021-02-26T10:12:58.238258Z"
    },
    "jupyter": {
     "source_hidden": true
    },
    "papermill": {
     "duration": 0.016239,
     "end_time": "2021-02-26T10:12:58.239011",
     "exception": false,
     "start_time": "2021-02-26T10:12:58.222772",
     "status": "completed"
    },
    "tags": [
     "hide-input"
    ]
   },
   "outputs": [
    {
     "data": {
      "text/markdown": [
       "# Dunn County has 4250 total positive cases, with 6 new cases reported today."
      ],
      "text/plain": [
       "<IPython.core.display.Markdown object>"
      ]
     },
     "metadata": {},
     "output_type": "display_data"
    }
   ],
   "source": [
    "display(Markdown('# Dunn County has ' + str(dc.iloc[-1]['POSITIVE']) + ' total positive cases, with '+ str(int(dc.iloc[-1]['POS_NEW'])) + ' new cases reported today.'))"
   ]
  },
  {
   "cell_type": "code",
   "execution_count": 6,
   "id": "compound-nightmare",
   "metadata": {
    "execution": {
     "iopub.execute_input": "2021-02-26T10:12:58.261738Z",
     "iopub.status.busy": "2021-02-26T10:12:58.261163Z",
     "iopub.status.idle": "2021-02-26T10:12:58.524204Z",
     "shell.execute_reply": "2021-02-26T10:12:58.524632Z"
    },
    "jupyter": {
     "source_hidden": true
    },
    "papermill": {
     "duration": 0.276629,
     "end_time": "2021-02-26T10:12:58.524772",
     "exception": false,
     "start_time": "2021-02-26T10:12:58.248143",
     "status": "completed"
    },
    "scrolled": false,
    "tags": [
     "hide-input"
    ]
   },
   "outputs": [
    {
     "data": {
      "image/png": "[encoded data removed]",
      "text/plain": [
       "<Figure size 864x432 with 1 Axes>"
      ]
     },
     "metadata": {
      "needs_background": "light"
     },
     "output_type": "display_data"
    }
   ],
   "source": [
    "dc.plot(x='DATE',y='POSITIVE',color='red',grid='True',figsize=(12,6)).set_xlabel('Date');"
   ]
  },
  {
   "cell_type": "markdown",
   "id": "coupled-literacy",
   "metadata": {
    "papermill": {
     "duration": 0.010191,
     "end_time": "2021-02-26T10:12:58.544978",
     "exception": false,
     "start_time": "2021-02-26T10:12:58.534787",
     "status": "completed"
    },
    "tags": []
   },
   "source": [
    "## Figure 1: Cummulative number of positive cases."
   ]
  },
  {
   "cell_type": "code",
   "execution_count": 7,
   "id": "surrounded-reserve",
   "metadata": {
    "execution": {
     "iopub.execute_input": "2021-02-26T10:12:58.588701Z",
     "iopub.status.busy": "2021-02-26T10:12:58.570670Z",
     "iopub.status.idle": "2021-02-26T10:12:58.793390Z",
     "shell.execute_reply": "2021-02-26T10:12:58.792631Z"
    },
    "jupyter": {
     "source_hidden": true
    },
    "papermill": {
     "duration": 0.238687,
     "end_time": "2021-02-26T10:12:58.793599",
     "exception": false,
     "start_time": "2021-02-26T10:12:58.554912",
     "status": "completed"
    },
    "scrolled": false,
    "tags": [
     "hide-input"
    ]
   },
   "outputs": [
    {
     "data": {
      "image/png": "[encoded data removed]",
      "text/plain": [
       "<Figure size 864x432 with 1 Axes>"
      ]
     },
     "metadata": {
      "needs_background": "light"
     },
     "output_type": "display_data"
    }
   ],
   "source": [
    "dc.plot(kind='line',x='DATE',y='7_DAY',color='blue',grid='True',figsize=(12,6)).set_xlabel('Date');"
   ]
  },
  {
   "cell_type": "markdown",
   "id": "professional-savannah",
   "metadata": {
    "papermill": {
     "duration": 0.012111,
     "end_time": "2021-02-26T10:12:58.818010",
     "exception": false,
     "start_time": "2021-02-26T10:12:58.805899",
     "status": "completed"
    },
    "tags": []
   },
   "source": [
    "## Figure 2: Rolling 7-day average of daily new cases."
   ]
  },
  {
   "cell_type": "code",
   "execution_count": 8,
   "id": "stretch-investor",
   "metadata": {
    "execution": {
     "iopub.execute_input": "2021-02-26T10:12:58.845218Z",
     "iopub.status.busy": "2021-02-26T10:12:58.844637Z",
     "iopub.status.idle": "2021-02-26T10:12:59.077389Z",
     "shell.execute_reply": "2021-02-26T10:12:59.077814Z"
    },
    "jupyter": {
     "source_hidden": true
    },
    "papermill": {
     "duration": 0.248649,
     "end_time": "2021-02-26T10:12:59.077962",
     "exception": false,
     "start_time": "2021-02-26T10:12:58.829313",
     "status": "completed"
    },
    "tags": []
   },
   "outputs": [
    {
     "data": {
      "image/png": "[encoded data removed]",
      "text/plain": [
       "<Figure size 864x432 with 1 Axes>"
      ]
     },
     "metadata": {
      "needs_background": "light"
     },
     "output_type": "display_data"
    }
   ],
   "source": [
    "dc.plot(kind='line',x='DATE',y='14_DAY',color='green',grid='True',figsize=(12,6)).set_xlabel('Date');"
   ]
  },
  {
   "cell_type": "markdown",
   "id": "prerequisite-species",
   "metadata": {
    "papermill": {
     "duration": 0.011009,
     "end_time": "2021-02-26T10:12:59.101413",
     "exception": false,
     "start_time": "2021-02-26T10:12:59.090404",
     "status": "completed"
    },
    "tags": []
   },
   "source": [
    "## Figure 3: Rolling 14-day average of daily new cases."
   ]
  },
  {
   "cell_type": "markdown",
   "id": "palestinian-guard",
   "metadata": {
    "papermill": {
     "duration": 0.010943,
     "end_time": "2021-02-26T10:12:59.122110",
     "exception": false,
     "start_time": "2021-02-26T10:12:59.111167",
     "status": "completed"
    },
    "tags": []
   },
   "source": [
    "Data source: [Wisconsin Department of Health Services](https://data.dhsgis.wi.gov/datasets/covid-19-historical-data-table/)"
   ]
  },
  {
   "cell_type": "code",
   "execution_count": 9,
   "id": "proof-medicare",
   "metadata": {
    "execution": {
     "iopub.execute_input": "2021-02-26T10:12:59.149685Z",
     "iopub.status.busy": "2021-02-26T10:12:59.149070Z",
     "iopub.status.idle": "2021-02-26T10:12:59.152035Z",
     "shell.execute_reply": "2021-02-26T10:12:59.152491Z"
    },
    "jupyter": {
     "source_hidden": true
    },
    "papermill": {
     "duration": 0.018552,
     "end_time": "2021-02-26T10:12:59.152604",
     "exception": false,
     "start_time": "2021-02-26T10:12:59.134052",
     "status": "completed"
    },
    "tags": []
   },
   "outputs": [
    {
     "data": {
      "text/html": [
       "<style>\n",
       "div.input {\n",
       "    display:none;\n",
       "}\n",
       "</style>\n"
      ],
      "text/plain": [
       "<IPython.core.display.HTML object>"
      ]
     },
     "metadata": {},
     "output_type": "display_data"
    }
   ],
   "source": [
    "%%html\n",
    "<style>\n",
    "div.input {\n",
    "    display:none;\n",
    "}\n",
    "</style>"
   ]
  }
 ],
 "metadata": {
  "kernelspec": {
   "display_name": "Python 3",
   "language": "python",
   "name": "python3"
  },
  "language_info": {
   "codemirror_mode": {
    "name": "ipython",
    "version": 3
   },
   "file_extension": ".py",
   "mimetype": "text/x-python",
   "name": "python",
   "nbconvert_exporter": "python",
   "pygments_lexer": "ipython3",
   "version": "3.8.7"
  },
  "papermill": {
   "duration": 5.287778,
   "end_time": "2021-02-26T10:12:59.470536",
   "environment_variables": {},
   "exception": null,
   "input_path": "DunnCounty_COVID19.ipynb",
   "output_path": "DunnCounty_COVID19.ipynb",
   "parameters": {
    "Start": "True",
    "secretsPath": "/home/runner/work/_temp/secrets.json"
   },
   "start_time": "2021-02-26T10:12:54.182758",
   "version": "1.1.16"
  }
 },
 "nbformat": 4,
 "nbformat_minor": 5
}