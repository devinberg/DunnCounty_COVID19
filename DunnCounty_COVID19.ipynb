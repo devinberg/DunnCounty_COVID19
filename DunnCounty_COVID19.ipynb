{
 "cells": [
  {
   "cell_type": "code",
   "execution_count": 1,
   "id": "solar-understanding",
   "metadata": {
    "execution": {
     "iopub.execute_input": "2021-03-19T22:13:00.957581Z",
     "iopub.status.busy": "2021-03-19T22:13:00.957021Z",
     "iopub.status.idle": "2021-03-19T22:13:02.695439Z",
     "shell.execute_reply": "2021-03-19T22:13:02.694336Z"
    },
    "jupyter": {
     "source_hidden": true
    },
    "papermill": {
     "duration": 1.761886,
     "end_time": "2021-03-19T22:13:02.695587",
     "exception": false,
     "start_time": "2021-03-19T22:13:00.933701",
     "status": "completed"
    },
    "scrolled": true,
    "tags": [
     "hide-input"
    ]
   },
   "outputs": [],
   "source": [
    "import pandas as pd\n",
    "import matplotlib.pyplot as plt\n",
    "from matplotlib import dates\n",
    "from IPython.display import display, Markdown\n",
    "%matplotlib inline"
   ]
  },
  {
   "cell_type": "code",
   "execution_count": 2,
   "id": "purple-playlist",
   "metadata": {
    "execution": {
     "iopub.execute_input": "2021-03-19T22:13:02.720374Z",
     "iopub.status.busy": "2021-03-19T22:13:02.719806Z",
     "iopub.status.idle": "2021-03-19T22:13:03.804913Z",
     "shell.execute_reply": "2021-03-19T22:13:03.804429Z"
    },
    "jupyter": {
     "source_hidden": true
    },
    "papermill": {
     "duration": 1.099581,
     "end_time": "2021-03-19T22:13:03.805042",
     "exception": false,
     "start_time": "2021-03-19T22:13:02.705461",
     "status": "completed"
    },
    "scrolled": true,
    "tags": [
     "hide-input"
    ]
   },
   "outputs": [],
   "source": [
    "# This is the data for all of Wisconsin.\n",
    "url = \"https://opendata.arcgis.com/datasets/5374188992374b318d3e2305216ee413_12.csv\"\n",
    "data = pd.read_csv(url, parse_dates=['DATE'], low_memory=False)"
   ]
  },
  {
   "cell_type": "code",
   "execution_count": 3,
   "id": "proprietary-klein",
   "metadata": {
    "execution": {
     "iopub.execute_input": "2021-03-19T22:13:03.832030Z",
     "iopub.status.busy": "2021-03-19T22:13:03.831460Z",
     "iopub.status.idle": "2021-03-19T22:13:03.840854Z",
     "shell.execute_reply": "2021-03-19T22:13:03.840356Z"
    },
    "jupyter": {
     "source_hidden": true
    },
    "papermill": {
     "duration": 0.026722,
     "end_time": "2021-03-19T22:13:03.840973",
     "exception": false,
     "start_time": "2021-03-19T22:13:03.814251",
     "status": "completed"
    },
    "scrolled": true,
    "tags": [
     "hide-input"
    ]
   },
   "outputs": [],
   "source": [
    "dc = data.groupby('NAME').get_group('Dunn').sort_values(by='DATE') # Select the data for Dunn County from the full data.\n",
    "PNi = dc.columns.get_loc(\"POS_NEW\")\n",
    "dc['7_DAY'] = dc.iloc[:,PNi].rolling(window=7).mean() # Calculates the rolling 7-day average of new cases.\n",
    "dc['14_DAY'] = dc.iloc[:,PNi].rolling(window=14).mean() # Calculates the rolling 14-day average of new cases."
   ]
  },
  {
   "cell_type": "code",
   "execution_count": 4,
   "id": "steady-supervision",
   "metadata": {
    "execution": {
     "iopub.execute_input": "2021-03-19T22:13:03.864979Z",
     "iopub.status.busy": "2021-03-19T22:13:03.864420Z",
     "iopub.status.idle": "2021-03-19T22:13:03.868501Z",
     "shell.execute_reply": "2021-03-19T22:13:03.868925Z"
    },
    "jupyter": {
     "source_hidden": true
    },
    "papermill": {
     "duration": 0.019186,
     "end_time": "2021-03-19T22:13:03.869062",
     "exception": false,
     "start_time": "2021-03-19T22:13:03.849876",
     "status": "completed"
    },
    "scrolled": true,
    "tags": [
     "hide-input"
    ]
   },
   "outputs": [
    {
     "data": {
      "text/markdown": [
       "### Last updated: March 18, 2021"
      ],
      "text/plain": [
       "<IPython.core.display.Markdown object>"
      ]
     },
     "metadata": {},
     "output_type": "display_data"
    }
   ],
   "source": [
    "display(Markdown('### Last updated: ' + dc.iloc[-1]['DATE'].strftime(\"%B %d, %Y\")))"
   ]
  },
  {
   "cell_type": "code",
   "execution_count": 5,
   "id": "lonely-pitch",
   "metadata": {
    "execution": {
     "iopub.execute_input": "2021-03-19T22:13:03.893025Z",
     "iopub.status.busy": "2021-03-19T22:13:03.892401Z",
     "iopub.status.idle": "2021-03-19T22:13:03.894876Z",
     "shell.execute_reply": "2021-03-19T22:13:03.895379Z"
    },
    "jupyter": {
     "source_hidden": true
    },
    "papermill": {
     "duration": 0.01734,
     "end_time": "2021-03-19T22:13:03.895559",
     "exception": false,
     "start_time": "2021-03-19T22:13:03.878219",
     "status": "completed"
    },
    "tags": [
     "hide-input"
    ]
   },
   "outputs": [
    {
     "data": {
      "text/markdown": [
       "# Dunn County has 4312 total positive cases, with 2 new cases reported today."
      ],
      "text/plain": [
       "<IPython.core.display.Markdown object>"
      ]
     },
     "metadata": {},
     "output_type": "display_data"
    }
   ],
   "source": [
    "display(Markdown('# Dunn County has ' + str(dc.iloc[-1]['POSITIVE']) + ' total positive cases, with '+ str(int(dc.iloc[-1]['POS_NEW'])) + ' new cases reported today.'))"
   ]
  },
  {
   "cell_type": "code",
   "execution_count": 6,
   "id": "compound-nightmare",
   "metadata": {
    "execution": {
     "iopub.execute_input": "2021-03-19T22:13:03.921251Z",
     "iopub.status.busy": "2021-03-19T22:13:03.920725Z",
     "iopub.status.idle": "2021-03-19T22:13:04.200543Z",
     "shell.execute_reply": "2021-03-19T22:13:04.200108Z"
    },
    "jupyter": {
     "source_hidden": true
    },
    "papermill": {
     "duration": 0.294579,
     "end_time": "2021-03-19T22:13:04.200661",
     "exception": false,
     "start_time": "2021-03-19T22:13:03.906082",
     "status": "completed"
    },
    "scrolled": false,
    "tags": [
     "hide-input"
    ]
   },
   "outputs": [
    {
     "data": {
      "image/png": "[encoded data removed]",
      "text/plain": [
       "<Figure size 864x432 with 1 Axes>"
      ]
     },
     "metadata": {
      "needs_background": "light"
     },
     "output_type": "display_data"
    }
   ],
   "source": [
    "dc.plot(x='DATE',y='POSITIVE',color='red',grid='True',figsize=(12,6)).set_xlabel('Date');"
   ]
  },
  {
   "cell_type": "markdown",
   "id": "coupled-literacy",
   "metadata": {
    "papermill": {
     "duration": 0.010749,
     "end_time": "2021-03-19T22:13:04.221821",
     "exception": false,
     "start_time": "2021-03-19T22:13:04.211072",
     "status": "completed"
    },
    "tags": []
   },
   "source": [
    "## Figure 1: Cummulative number of positive cases."
   ]
  },
  {
   "cell_type": "code",
   "execution_count": 7,
   "id": "surrounded-reserve",
   "metadata": {
    "execution": {
     "iopub.execute_input": "2021-03-19T22:13:04.249448Z",
     "iopub.status.busy": "2021-03-19T22:13:04.248729Z",
     "iopub.status.idle": "2021-03-19T22:13:04.449512Z",
     "shell.execute_reply": "2021-03-19T22:13:04.448843Z"
    },
    "jupyter": {
     "source_hidden": true
    },
    "papermill": {
     "duration": 0.217584,
     "end_time": "2021-03-19T22:13:04.449656",
     "exception": false,
     "start_time": "2021-03-19T22:13:04.232072",
     "status": "completed"
    },
    "scrolled": false,
    "tags": [
     "hide-input"
    ]
   },
   "outputs": [
    {
     "data": {
      "image/png": "[encoded data removed]",
      "text/plain": [
       "<Figure size 864x432 with 1 Axes>"
      ]
     },
     "metadata": {
      "needs_background": "light"
     },
     "output_type": "display_data"
    }
   ],
   "source": [
    "dc.plot(kind='line',x='DATE',y='7_DAY',color='blue',grid='True',figsize=(12,6)).set_xlabel('Date');"
   ]
  },
  {
   "cell_type": "markdown",
   "id": "professional-savannah",
   "metadata": {
    "papermill": {
     "duration": 0.012076,
     "end_time": "2021-03-19T22:13:04.474078",
     "exception": false,
     "start_time": "2021-03-19T22:13:04.462002",
     "status": "completed"
    },
    "tags": []
   },
   "source": [
    "## Figure 2: Rolling 7-day average of daily new cases."
   ]
  },
  {
   "cell_type": "code",
   "execution_count": 8,
   "id": "stretch-investor",
   "metadata": {
    "execution": {
     "iopub.execute_input": "2021-03-19T22:13:04.502957Z",
     "iopub.status.busy": "2021-03-19T22:13:04.502428Z",
     "iopub.status.idle": "2021-03-19T22:13:04.717462Z",
     "shell.execute_reply": "2021-03-19T22:13:04.718020Z"
    },
    "jupyter": {
     "source_hidden": true
    },
    "papermill": {
     "duration": 0.232499,
     "end_time": "2021-03-19T22:13:04.718227",
     "exception": false,
     "start_time": "2021-03-19T22:13:04.485728",
     "status": "completed"
    },
    "tags": []
   },
   "outputs": [
    {
     "data": {
      "image/png": "[encoded data removed]",
      "text/plain": [
       "<Figure size 864x432 with 1 Axes>"
      ]
     },
     "metadata": {
      "needs_background": "light"
     },
     "output_type": "display_data"
    }
   ],
   "source": [
    "dc.plot(kind='line',x='DATE',y='14_DAY',color='green',grid='True',figsize=(12,6)).set_xlabel('Date');"
   ]
  },
  {
   "cell_type": "markdown",
   "id": "prerequisite-species",
   "metadata": {
    "papermill": {
     "duration": 0.01305,
     "end_time": "2021-03-19T22:13:04.744482",
     "exception": false,
     "start_time": "2021-03-19T22:13:04.731432",
     "status": "completed"
    },
    "tags": []
   },
   "source": [
    "## Figure 3: Rolling 14-day average of daily new cases."
   ]
  },
  {
   "cell_type": "markdown",
   "id": "palestinian-guard",
   "metadata": {
    "papermill": {
     "duration": 0.012646,
     "end_time": "2021-03-19T22:13:04.770203",
     "exception": false,
     "start_time": "2021-03-19T22:13:04.757557",
     "status": "completed"
    },
    "tags": []
   },
   "source": [
    "Data source: [Wisconsin Department of Health Services](https://data.dhsgis.wi.gov/datasets/covid-19-historical-data-table/)"
   ]
  },
  {
   "cell_type": "code",
   "execution_count": 9,
   "id": "proof-medicare",
   "metadata": {
    "execution": {
     "iopub.execute_input": "2021-03-19T22:13:04.799985Z",
     "iopub.status.busy": "2021-03-19T22:13:04.799437Z",
     "iopub.status.idle": "2021-03-19T22:13:04.802627Z",
     "shell.execute_reply": "2021-03-19T22:13:04.803031Z"
    },
    "jupyter": {
     "source_hidden": true
    },
    "papermill": {
     "duration": 0.020319,
     "end_time": "2021-03-19T22:13:04.803174",
     "exception": false,
     "start_time": "2021-03-19T22:13:04.782855",
     "status": "completed"
    },
    "tags": []
   },
   "outputs": [
    {
     "data": {
      "text/html": [
       "<style>\n",
       "div.input {\n",
       "    display:none;\n",
       "}\n",
       "</style>\n"
      ],
      "text/plain": [
       "<IPython.core.display.HTML object>"
      ]
     },
     "metadata": {},
     "output_type": "display_data"
    }
   ],
   "source": [
    "%%html\n",
    "<style>\n",
    "div.input {\n",
    "    display:none;\n",
    "}\n",
    "</style>"
   ]
  }
 ],
 "metadata": {
  "kernelspec": {
   "display_name": "Python 3",
   "language": "python",
   "name": "python3"
  },
  "language_info": {
   "codemirror_mode": {
    "name": "ipython",
    "version": 3
   },
   "file_extension": ".py",
   "mimetype": "text/x-python",
   "name": "python",
   "nbconvert_exporter": "python",
   "pygments_lexer": "ipython3",
   "version": "3.8.8"
  },
  "papermill": {
   "duration": 5.806921,
   "end_time": "2021-03-19T22:13:05.225005",
   "environment_variables": {},
   "exception": null,
   "input_path": "DunnCounty_COVID19.ipynb",
   "output_path": "DunnCounty_COVID19.ipynb",
   "parameters": {
    "Start": "True",
    "secretsPath": "/home/runner/work/_temp/secrets.json"
   },
   "start_time": "2021-03-19T22:12:59.418084",
   "version": "1.1.16"
  }
 },
 "nbformat": 4,
 "nbformat_minor": 5
}