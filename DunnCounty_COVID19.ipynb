{
 "cells": [
  {
   "cell_type": "code",
   "execution_count": 1,
   "id": "solar-understanding",
   "metadata": {
    "execution": {
     "iopub.execute_input": "2021-03-09T22:14:14.556171Z",
     "iopub.status.busy": "2021-03-09T22:14:14.555512Z",
     "iopub.status.idle": "2021-03-09T22:14:15.636622Z",
     "shell.execute_reply": "2021-03-09T22:14:15.635640Z"
    },
    "jupyter": {
     "source_hidden": true
    },
    "papermill": {
     "duration": 1.095742,
     "end_time": "2021-03-09T22:14:15.636793",
     "exception": false,
     "start_time": "2021-03-09T22:14:14.541051",
     "status": "completed"
    },
    "scrolled": true,
    "tags": [
     "hide-input"
    ]
   },
   "outputs": [],
   "source": [
    "import pandas as pd\n",
    "import matplotlib.pyplot as plt\n",
    "from matplotlib import dates\n",
    "from IPython.display import display, Markdown\n",
    "%matplotlib inline"
   ]
  },
  {
   "cell_type": "code",
   "execution_count": 2,
   "id": "purple-playlist",
   "metadata": {
    "execution": {
     "iopub.execute_input": "2021-03-09T22:14:15.667111Z",
     "iopub.status.busy": "2021-03-09T22:14:15.666475Z",
     "iopub.status.idle": "2021-03-09T22:14:16.466473Z",
     "shell.execute_reply": "2021-03-09T22:14:16.465666Z"
    },
    "jupyter": {
     "source_hidden": true
    },
    "papermill": {
     "duration": 0.818799,
     "end_time": "2021-03-09T22:14:16.466627",
     "exception": false,
     "start_time": "2021-03-09T22:14:15.647828",
     "status": "completed"
    },
    "scrolled": true,
    "tags": [
     "hide-input"
    ]
   },
   "outputs": [],
   "source": [
    "# This is the data for all of Wisconsin.\n",
    "url = \"https://opendata.arcgis.com/datasets/5374188992374b318d3e2305216ee413_12.csv\"\n",
    "data = pd.read_csv(url, parse_dates=['DATE'], low_memory=False)"
   ]
  },
  {
   "cell_type": "code",
   "execution_count": 3,
   "id": "proprietary-klein",
   "metadata": {
    "execution": {
     "iopub.execute_input": "2021-03-09T22:14:16.496795Z",
     "iopub.status.busy": "2021-03-09T22:14:16.496112Z",
     "iopub.status.idle": "2021-03-09T22:14:16.510049Z",
     "shell.execute_reply": "2021-03-09T22:14:16.509427Z"
    },
    "jupyter": {
     "source_hidden": true
    },
    "papermill": {
     "duration": 0.031824,
     "end_time": "2021-03-09T22:14:16.510226",
     "exception": false,
     "start_time": "2021-03-09T22:14:16.478402",
     "status": "completed"
    },
    "scrolled": true,
    "tags": [
     "hide-input"
    ]
   },
   "outputs": [],
   "source": [
    "dc = data.groupby('NAME').get_group('Dunn').sort_values(by='DATE') # Select the data for Dunn County from the full data.\n",
    "PNi = dc.columns.get_loc(\"POS_NEW\")\n",
    "dc['7_DAY'] = dc.iloc[:,PNi].rolling(window=7).mean() # Calculates the rolling 7-day average of new cases.\n",
    "dc['14_DAY'] = dc.iloc[:,PNi].rolling(window=14).mean() # Calculates the rolling 14-day average of new cases."
   ]
  },
  {
   "cell_type": "code",
   "execution_count": 4,
   "id": "steady-supervision",
   "metadata": {
    "execution": {
     "iopub.execute_input": "2021-03-09T22:14:16.545894Z",
     "iopub.status.busy": "2021-03-09T22:14:16.545114Z",
     "iopub.status.idle": "2021-03-09T22:14:16.551438Z",
     "shell.execute_reply": "2021-03-09T22:14:16.550865Z"
    },
    "jupyter": {
     "source_hidden": true
    },
    "papermill": {
     "duration": 0.030044,
     "end_time": "2021-03-09T22:14:16.551573",
     "exception": false,
     "start_time": "2021-03-09T22:14:16.521529",
     "status": "completed"
    },
    "scrolled": true,
    "tags": [
     "hide-input"
    ]
   },
   "outputs": [
    {
     "data": {
      "text/markdown": [
       "### Last updated: March 09, 2021"
      ],
      "text/plain": [
       "<IPython.core.display.Markdown object>"
      ]
     },
     "metadata": {},
     "output_type": "display_data"
    }
   ],
   "source": [
    "display(Markdown('### Last updated: ' + dc.iloc[-1]['DATE'].strftime(\"%B %d, %Y\")))"
   ]
  },
  {
   "cell_type": "code",
   "execution_count": 5,
   "id": "lonely-pitch",
   "metadata": {
    "execution": {
     "iopub.execute_input": "2021-03-09T22:14:16.582907Z",
     "iopub.status.busy": "2021-03-09T22:14:16.582242Z",
     "iopub.status.idle": "2021-03-09T22:14:16.585914Z",
     "shell.execute_reply": "2021-03-09T22:14:16.585301Z"
    },
    "jupyter": {
     "source_hidden": true
    },
    "papermill": {
     "duration": 0.022645,
     "end_time": "2021-03-09T22:14:16.586105",
     "exception": false,
     "start_time": "2021-03-09T22:14:16.563460",
     "status": "completed"
    },
    "tags": [
     "hide-input"
    ]
   },
   "outputs": [
    {
     "data": {
      "text/markdown": [
       "# Dunn County has 4284 total positive cases, with 1 new cases reported today."
      ],
      "text/plain": [
       "<IPython.core.display.Markdown object>"
      ]
     },
     "metadata": {},
     "output_type": "display_data"
    }
   ],
   "source": [
    "display(Markdown('# Dunn County has ' + str(dc.iloc[-1]['POSITIVE']) + ' total positive cases, with '+ str(int(dc.iloc[-1]['POS_NEW'])) + ' new cases reported today.'))"
   ]
  },
  {
   "cell_type": "code",
   "execution_count": 6,
   "id": "compound-nightmare",
   "metadata": {
    "execution": {
     "iopub.execute_input": "2021-03-09T22:14:16.617422Z",
     "iopub.status.busy": "2021-03-09T22:14:16.616791Z",
     "iopub.status.idle": "2021-03-09T22:14:16.933779Z",
     "shell.execute_reply": "2021-03-09T22:14:16.934342Z"
    },
    "jupyter": {
     "source_hidden": true
    },
    "papermill": {
     "duration": 0.335907,
     "end_time": "2021-03-09T22:14:16.934540",
     "exception": false,
     "start_time": "2021-03-09T22:14:16.598633",
     "status": "completed"
    },
    "scrolled": false,
    "tags": [
     "hide-input"
    ]
   },
   "outputs": [
    {
     "data": {
      "image/png": "[encoded data removed]",
      "text/plain": [
       "<Figure size 864x432 with 1 Axes>"
      ]
     },
     "metadata": {
      "needs_background": "light"
     },
     "output_type": "display_data"
    }
   ],
   "source": [
    "dc.plot(x='DATE',y='POSITIVE',color='red',grid='True',figsize=(12,6)).set_xlabel('Date');"
   ]
  },
  {
   "cell_type": "markdown",
   "id": "coupled-literacy",
   "metadata": {
    "papermill": {
     "duration": 0.012169,
     "end_time": "2021-03-09T22:14:16.959690",
     "exception": false,
     "start_time": "2021-03-09T22:14:16.947521",
     "status": "completed"
    },
    "tags": []
   },
   "source": [
    "## Figure 1: Cummulative number of positive cases."
   ]
  },
  {
   "cell_type": "code",
   "execution_count": 7,
   "id": "surrounded-reserve",
   "metadata": {
    "execution": {
     "iopub.execute_input": "2021-03-09T22:14:16.991039Z",
     "iopub.status.busy": "2021-03-09T22:14:16.990405Z",
     "iopub.status.idle": "2021-03-09T22:14:17.255797Z",
     "shell.execute_reply": "2021-03-09T22:14:17.255205Z"
    },
    "jupyter": {
     "source_hidden": true
    },
    "papermill": {
     "duration": 0.283411,
     "end_time": "2021-03-09T22:14:17.256100",
     "exception": false,
     "start_time": "2021-03-09T22:14:16.972689",
     "status": "completed"
    },
    "scrolled": false,
    "tags": [
     "hide-input"
    ]
   },
   "outputs": [
    {
     "data": {
      "image/png": "[encoded data removed]",
      "text/plain": [
       "<Figure size 864x432 with 1 Axes>"
      ]
     },
     "metadata": {
      "needs_background": "light"
     },
     "output_type": "display_data"
    }
   ],
   "source": [
    "dc.plot(kind='line',x='DATE',y='7_DAY',color='blue',grid='True',figsize=(12,6)).set_xlabel('Date');"
   ]
  },
  {
   "cell_type": "markdown",
   "id": "professional-savannah",
   "metadata": {
    "papermill": {
     "duration": 0.013385,
     "end_time": "2021-03-09T22:14:17.285734",
     "exception": false,
     "start_time": "2021-03-09T22:14:17.272349",
     "status": "completed"
    },
    "tags": []
   },
   "source": [
    "## Figure 2: Rolling 7-day average of daily new cases."
   ]
  },
  {
   "cell_type": "code",
   "execution_count": 8,
   "id": "stretch-investor",
   "metadata": {
    "execution": {
     "iopub.execute_input": "2021-03-09T22:14:17.329010Z",
     "iopub.status.busy": "2021-03-09T22:14:17.328342Z",
     "iopub.status.idle": "2021-03-09T22:14:17.592735Z",
     "shell.execute_reply": "2021-03-09T22:14:17.591778Z"
    },
    "jupyter": {
     "source_hidden": true
    },
    "papermill": {
     "duration": 0.291682,
     "end_time": "2021-03-09T22:14:17.593008",
     "exception": false,
     "start_time": "2021-03-09T22:14:17.301326",
     "status": "completed"
    },
    "tags": []
   },
   "outputs": [
    {
     "data": {
      "image/png": "[encoded data removed]",
      "text/plain": [
       "<Figure size 864x432 with 1 Axes>"
      ]
     },
     "metadata": {
      "needs_background": "light"
     },
     "output_type": "display_data"
    }
   ],
   "source": [
    "dc.plot(kind='line',x='DATE',y='14_DAY',color='green',grid='True',figsize=(12,6)).set_xlabel('Date');"
   ]
  },
  {
   "cell_type": "markdown",
   "id": "prerequisite-species",
   "metadata": {
    "papermill": {
     "duration": 0.015225,
     "end_time": "2021-03-09T22:14:17.622894",
     "exception": false,
     "start_time": "2021-03-09T22:14:17.607669",
     "status": "completed"
    },
    "tags": []
   },
   "source": [
    "## Figure 3: Rolling 14-day average of daily new cases."
   ]
  },
  {
   "cell_type": "markdown",
   "id": "palestinian-guard",
   "metadata": {
    "papermill": {
     "duration": 0.014074,
     "end_time": "2021-03-09T22:14:17.651791",
     "exception": false,
     "start_time": "2021-03-09T22:14:17.637717",
     "status": "completed"
    },
    "tags": []
   },
   "source": [
    "Data source: [Wisconsin Department of Health Services](https://data.dhsgis.wi.gov/datasets/covid-19-historical-data-table/)"
   ]
  },
  {
   "cell_type": "code",
   "execution_count": 9,
   "id": "proof-medicare",
   "metadata": {
    "execution": {
     "iopub.execute_input": "2021-03-09T22:14:17.686605Z",
     "iopub.status.busy": "2021-03-09T22:14:17.685933Z",
     "iopub.status.idle": "2021-03-09T22:14:17.688868Z",
     "shell.execute_reply": "2021-03-09T22:14:17.689384Z"
    },
    "jupyter": {
     "source_hidden": true
    },
    "papermill": {
     "duration": 0.022593,
     "end_time": "2021-03-09T22:14:17.689590",
     "exception": false,
     "start_time": "2021-03-09T22:14:17.666997",
     "status": "completed"
    },
    "tags": []
   },
   "outputs": [
    {
     "data": {
      "text/html": [
       "<style>\n",
       "div.input {\n",
       "    display:none;\n",
       "}\n",
       "</style>\n"
      ],
      "text/plain": [
       "<IPython.core.display.HTML object>"
      ]
     },
     "metadata": {},
     "output_type": "display_data"
    }
   ],
   "source": [
    "%%html\n",
    "<style>\n",
    "div.input {\n",
    "    display:none;\n",
    "}\n",
    "</style>"
   ]
  }
 ],
 "metadata": {
  "kernelspec": {
   "display_name": "Python 3",
   "language": "python",
   "name": "python3"
  },
  "language_info": {
   "codemirror_mode": {
    "name": "ipython",
    "version": 3
   },
   "file_extension": ".py",
   "mimetype": "text/x-python",
   "name": "python",
   "nbconvert_exporter": "python",
   "pygments_lexer": "ipython3",
   "version": "3.8.8"
  },
  "papermill": {
   "duration": 5.732493,
   "end_time": "2021-03-09T22:14:18.112791",
   "environment_variables": {},
   "exception": null,
   "input_path": "DunnCounty_COVID19.ipynb",
   "output_path": "DunnCounty_COVID19.ipynb",
   "parameters": {
    "Start": "True",
    "secretsPath": "/home/runner/work/_temp/secrets.json"
   },
   "start_time": "2021-03-09T22:14:12.380298",
   "version": "1.1.16"
  }
 },
 "nbformat": 4,
 "nbformat_minor": 5
}