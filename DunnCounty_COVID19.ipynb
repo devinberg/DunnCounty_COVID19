{
 "cells": [
  {
   "cell_type": "code",
   "execution_count": 1,
   "metadata": {
    "execution": {
     "iopub.execute_input": "2020-09-17T10:09:57.955148Z",
     "iopub.status.busy": "2020-09-17T10:09:57.954597Z",
     "iopub.status.idle": "2020-09-17T10:10:01.571743Z",
     "shell.execute_reply": "2020-09-17T10:10:01.571132Z"
    },
    "jupyter": {
     "source_hidden": true
    },
    "papermill": {
     "duration": 3.633188,
     "end_time": "2020-09-17T10:10:01.571935",
     "exception": false,
     "start_time": "2020-09-17T10:09:57.938747",
     "status": "completed"
    },
    "scrolled": true,
    "tags": [
     "hide-input"
    ]
   },
   "outputs": [],
   "source": [
    "import pandas as pd\n",
    "import matplotlib.pyplot as plt\n",
    "from matplotlib import dates\n",
    "from IPython.display import display, Markdown\n",
    "%matplotlib inline"
   ]
  },
  {
   "cell_type": "code",
   "execution_count": 2,
   "metadata": {
    "execution": {
     "iopub.execute_input": "2020-09-17T10:10:01.594787Z",
     "iopub.status.busy": "2020-09-17T10:10:01.594213Z",
     "iopub.status.idle": "2020-09-17T10:10:04.608688Z",
     "shell.execute_reply": "2020-09-17T10:10:04.607656Z"
    },
    "jupyter": {
     "source_hidden": true
    },
    "papermill": {
     "duration": 3.028958,
     "end_time": "2020-09-17T10:10:04.608833",
     "exception": false,
     "start_time": "2020-09-17T10:10:01.579875",
     "status": "completed"
    },
    "scrolled": true,
    "tags": [
     "hide-input"
    ]
   },
   "outputs": [],
   "source": [
    "# This is the data for all of Wisconsin.\n",
    "url = \"https://opendata.arcgis.com/datasets/b913e9591eae4912b33dc5b4e88646c5_10.csv\"\n",
    "data = pd.read_csv(url, parse_dates=['DATE'], low_memory=False)"
   ]
  },
  {
   "cell_type": "code",
   "execution_count": 3,
   "metadata": {
    "execution": {
     "iopub.execute_input": "2020-09-17T10:10:04.638645Z",
     "iopub.status.busy": "2020-09-17T10:10:04.638066Z",
     "iopub.status.idle": "2020-09-17T10:10:04.648027Z",
     "shell.execute_reply": "2020-09-17T10:10:04.647540Z"
    },
    "jupyter": {
     "source_hidden": true
    },
    "papermill": {
     "duration": 0.032061,
     "end_time": "2020-09-17T10:10:04.648153",
     "exception": false,
     "start_time": "2020-09-17T10:10:04.616092",
     "status": "completed"
    },
    "scrolled": true,
    "tags": [
     "hide-input"
    ]
   },
   "outputs": [],
   "source": [
    "dc = data.groupby('NAME').get_group('Dunn').sort_values(by='DATE') # Select the data for Dunn County from the full data.\n",
    "PNi = dc.columns.get_loc(\"POS_NEW\")\n",
    "dc['7_DAY'] = dc.iloc[:,PNi].rolling(window=7).mean() # Calculates the rolling 7-day average of new cases.\n",
    "dc['14_DAY'] = dc.iloc[:,PNi].rolling(window=14).mean() # Calculates the rolling 14-day average of new cases."
   ]
  },
  {
   "cell_type": "code",
   "execution_count": 4,
   "metadata": {
    "execution": {
     "iopub.execute_input": "2020-09-17T10:10:04.669199Z",
     "iopub.status.busy": "2020-09-17T10:10:04.668629Z",
     "iopub.status.idle": "2020-09-17T10:10:04.672122Z",
     "shell.execute_reply": "2020-09-17T10:10:04.672553Z"
    },
    "jupyter": {
     "source_hidden": true
    },
    "papermill": {
     "duration": 0.017449,
     "end_time": "2020-09-17T10:10:04.672695",
     "exception": false,
     "start_time": "2020-09-17T10:10:04.655246",
     "status": "completed"
    },
    "scrolled": true,
    "tags": [
     "hide-input"
    ]
   },
   "outputs": [
    {
     "data": {
      "text/markdown": [
       "### Last updated: September 16, 2020"
      ],
      "text/plain": [
       "<IPython.core.display.Markdown object>"
      ]
     },
     "metadata": {},
     "output_type": "display_data"
    }
   ],
   "source": [
    "display(Markdown('### Last updated: ' + dc.iloc[-1]['DATE'].strftime(\"%B %d, %Y\")))"
   ]
  },
  {
   "cell_type": "code",
   "execution_count": 5,
   "metadata": {
    "execution": {
     "iopub.execute_input": "2020-09-17T10:10:04.693035Z",
     "iopub.status.busy": "2020-09-17T10:10:04.692505Z",
     "iopub.status.idle": "2020-09-17T10:10:04.697153Z",
     "shell.execute_reply": "2020-09-17T10:10:04.697670Z"
    },
    "jupyter": {
     "source_hidden": true
    },
    "papermill": {
     "duration": 0.017533,
     "end_time": "2020-09-17T10:10:04.697807",
     "exception": false,
     "start_time": "2020-09-17T10:10:04.680274",
     "status": "completed"
    },
    "tags": [
     "hide-input"
    ]
   },
   "outputs": [
    {
     "data": {
      "text/markdown": [
       "# Dunn County has 265 total positive cases, with 6 new cases reported today."
      ],
      "text/plain": [
       "<IPython.core.display.Markdown object>"
      ]
     },
     "metadata": {},
     "output_type": "display_data"
    }
   ],
   "source": [
    "display(Markdown('# Dunn County has ' + str(dc.iloc[-1]['POSITIVE']) + ' total positive cases, with '+ str(int(dc.iloc[-1]['POS_NEW'])) + ' new cases reported today.'))"
   ]
  },
  {
   "cell_type": "code",
   "execution_count": 6,
   "metadata": {
    "execution": {
     "iopub.execute_input": "2020-09-17T10:10:04.718281Z",
     "iopub.status.busy": "2020-09-17T10:10:04.717071Z",
     "iopub.status.idle": "2020-09-17T10:10:04.929165Z",
     "shell.execute_reply": "2020-09-17T10:10:04.929962Z"
    },
    "jupyter": {
     "source_hidden": true
    },
    "papermill": {
     "duration": 0.224287,
     "end_time": "2020-09-17T10:10:04.930213",
     "exception": false,
     "start_time": "2020-09-17T10:10:04.705926",
     "status": "completed"
    },
    "scrolled": false,
    "tags": [
     "hide-input"
    ]
   },
   "outputs": [
    {
     "data": {
      "image/png": "[encoded data removed]",
      "text/plain": [
       "<Figure size 864x432 with 1 Axes>"
      ]
     },
     "metadata": {
      "needs_background": "light"
     },
     "output_type": "display_data"
    }
   ],
   "source": [
    "dc.plot(x='DATE',y='POSITIVE',color='red',grid='True',figsize=(12,6)).set_xlabel('Date');"
   ]
  },
  {
   "cell_type": "markdown",
   "metadata": {
    "papermill": {
     "duration": 0.009008,
     "end_time": "2020-09-17T10:10:04.949920",
     "exception": false,
     "start_time": "2020-09-17T10:10:04.940912",
     "status": "completed"
    },
    "tags": []
   },
   "source": [
    "## Figure 1: Cummulative number of positive cases."
   ]
  },
  {
   "cell_type": "code",
   "execution_count": 7,
   "metadata": {
    "execution": {
     "iopub.execute_input": "2020-09-17T10:10:04.995474Z",
     "iopub.status.busy": "2020-09-17T10:10:04.971637Z",
     "iopub.status.idle": "2020-09-17T10:10:05.178934Z",
     "shell.execute_reply": "2020-09-17T10:10:05.178157Z"
    },
    "jupyter": {
     "source_hidden": true
    },
    "papermill": {
     "duration": 0.22052,
     "end_time": "2020-09-17T10:10:05.179072",
     "exception": false,
     "start_time": "2020-09-17T10:10:04.958552",
     "status": "completed"
    },
    "scrolled": false,
    "tags": [
     "hide-input"
    ]
   },
   "outputs": [
    {
     "data": {
      "image/png": "[encoded data removed]",
      "text/plain": [
       "<Figure size 864x432 with 1 Axes>"
      ]
     },
     "metadata": {
      "needs_background": "light"
     },
     "output_type": "display_data"
    }
   ],
   "source": [
    "dc.plot(kind='line',x='DATE',y='7_DAY',color='blue',grid='True',figsize=(12,6)).set_xlabel('Date');"
   ]
  },
  {
   "cell_type": "markdown",
   "metadata": {
    "papermill": {
     "duration": 0.010035,
     "end_time": "2020-09-17T10:10:05.199340",
     "exception": false,
     "start_time": "2020-09-17T10:10:05.189305",
     "status": "completed"
    },
    "tags": []
   },
   "source": [
    "## Figure 2: Rolling 7-day average of daily new cases."
   ]
  },
  {
   "cell_type": "code",
   "execution_count": 8,
   "metadata": {
    "execution": {
     "iopub.execute_input": "2020-09-17T10:10:05.225511Z",
     "iopub.status.busy": "2020-09-17T10:10:05.224968Z",
     "iopub.status.idle": "2020-09-17T10:10:05.421647Z",
     "shell.execute_reply": "2020-09-17T10:10:05.422109Z"
    },
    "jupyter": {
     "source_hidden": true
    },
    "papermill": {
     "duration": 0.212763,
     "end_time": "2020-09-17T10:10:05.422275",
     "exception": false,
     "start_time": "2020-09-17T10:10:05.209512",
     "status": "completed"
    },
    "tags": []
   },
   "outputs": [
    {
     "data": {
      "image/png": "[encoded data removed]",
      "text/plain": [
       "<Figure size 864x432 with 1 Axes>"
      ]
     },
     "metadata": {
      "needs_background": "light"
     },
     "output_type": "display_data"
    }
   ],
   "source": [
    "dc.plot(kind='line',x='DATE',y='14_DAY',color='green',grid='True',figsize=(12,6)).set_xlabel('Date');"
   ]
  },
  {
   "cell_type": "markdown",
   "metadata": {
    "papermill": {
     "duration": 0.011034,
     "end_time": "2020-09-17T10:10:05.444105",
     "exception": false,
     "start_time": "2020-09-17T10:10:05.433071",
     "status": "completed"
    },
    "tags": []
   },
   "source": [
    "## Figure 3: Rolling 14-day average of daily new cases."
   ]
  },
  {
   "cell_type": "markdown",
   "metadata": {
    "papermill": {
     "duration": 0.010438,
     "end_time": "2020-09-17T10:10:05.465203",
     "exception": false,
     "start_time": "2020-09-17T10:10:05.454765",
     "status": "completed"
    },
    "tags": []
   },
   "source": [
    "Data source: [Wisconsin Department of Health Services](https://data.dhsgis.wi.gov/datasets/covid-19-historical-data-table/)"
   ]
  },
  {
   "cell_type": "code",
   "execution_count": 9,
   "metadata": {
    "execution": {
     "iopub.execute_input": "2020-09-17T10:10:05.492752Z",
     "iopub.status.busy": "2020-09-17T10:10:05.492183Z",
     "iopub.status.idle": "2020-09-17T10:10:05.494736Z",
     "shell.execute_reply": "2020-09-17T10:10:05.495142Z"
    },
    "jupyter": {
     "source_hidden": true
    },
    "papermill": {
     "duration": 0.019382,
     "end_time": "2020-09-17T10:10:05.495289",
     "exception": false,
     "start_time": "2020-09-17T10:10:05.475907",
     "status": "completed"
    },
    "tags": []
   },
   "outputs": [
    {
     "data": {
      "text/html": [
       "<style>\n",
       "div.input {\n",
       "    display:none;\n",
       "}\n",
       "</style>\n"
      ],
      "text/plain": [
       "<IPython.core.display.HTML object>"
      ]
     },
     "metadata": {},
     "output_type": "display_data"
    }
   ],
   "source": [
    "%%html\n",
    "<style>\n",
    "div.input {\n",
    "    display:none;\n",
    "}\n",
    "</style>"
   ]
  }
 ],
 "metadata": {
  "kernelspec": {
   "display_name": "Python 3",
   "language": "python",
   "name": "python3"
  },
  "language_info": {
   "codemirror_mode": {
    "name": "ipython",
    "version": 3
   },
   "file_extension": ".py",
   "mimetype": "text/x-python",
   "name": "python",
   "nbconvert_exporter": "python",
   "pygments_lexer": "ipython3",
   "version": "3.8.5"
  },
  "papermill": {
   "duration": 9.447297,
   "end_time": "2020-09-17T10:10:05.813660",
   "environment_variables": {},
   "exception": null,
   "input_path": "DunnCounty_COVID19.ipynb",
   "output_path": "DunnCounty_COVID19.ipynb",
   "parameters": {
    "Start": "True",
    "secretsPath": "/home/runner/work/_temp/secrets.json"
   },
   "start_time": "2020-09-17T10:09:56.366363",
   "version": "1.1.16"
  }
 },
 "nbformat": 4,
 "nbformat_minor": 2
}