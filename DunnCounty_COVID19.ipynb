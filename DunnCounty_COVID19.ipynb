{
 "cells": [
  {
   "cell_type": "code",
   "execution_count": 1,
   "id": "solar-understanding",
   "metadata": {
    "execution": {
     "iopub.execute_input": "2021-04-02T10:16:51.759703Z",
     "iopub.status.busy": "2021-04-02T10:16:51.759229Z",
     "iopub.status.idle": "2021-04-02T10:16:54.252080Z",
     "shell.execute_reply": "2021-04-02T10:16:54.251543Z"
    },
    "jupyter": {
     "source_hidden": true
    },
    "papermill": {
     "duration": 2.508679,
     "end_time": "2021-04-02T10:16:54.252221",
     "exception": false,
     "start_time": "2021-04-02T10:16:51.743542",
     "status": "completed"
    },
    "scrolled": true,
    "tags": [
     "hide-input"
    ]
   },
   "outputs": [],
   "source": [
    "import pandas as pd\n",
    "import matplotlib.pyplot as plt\n",
    "from matplotlib import dates\n",
    "from IPython.display import display, Markdown\n",
    "%matplotlib inline"
   ]
  },
  {
   "cell_type": "code",
   "execution_count": 2,
   "id": "purple-playlist",
   "metadata": {
    "execution": {
     "iopub.execute_input": "2021-04-02T10:16:54.274037Z",
     "iopub.status.busy": "2021-04-02T10:16:54.273552Z",
     "iopub.status.idle": "2021-04-02T10:16:55.043927Z",
     "shell.execute_reply": "2021-04-02T10:16:55.043482Z"
    },
    "jupyter": {
     "source_hidden": true
    },
    "papermill": {
     "duration": 0.783613,
     "end_time": "2021-04-02T10:16:55.044050",
     "exception": false,
     "start_time": "2021-04-02T10:16:54.260437",
     "status": "completed"
    },
    "scrolled": true,
    "tags": [
     "hide-input"
    ]
   },
   "outputs": [],
   "source": [
    "# This is the data for all of Wisconsin.\n",
    "url = \"https://opendata.arcgis.com/datasets/5374188992374b318d3e2305216ee413_12.csv\"\n",
    "data = pd.read_csv(url, parse_dates=['DATE'], low_memory=False)"
   ]
  },
  {
   "cell_type": "code",
   "execution_count": 3,
   "id": "proprietary-klein",
   "metadata": {
    "execution": {
     "iopub.execute_input": "2021-04-02T10:16:55.066296Z",
     "iopub.status.busy": "2021-04-02T10:16:55.065809Z",
     "iopub.status.idle": "2021-04-02T10:16:55.075011Z",
     "shell.execute_reply": "2021-04-02T10:16:55.074576Z"
    },
    "jupyter": {
     "source_hidden": true
    },
    "papermill": {
     "duration": 0.023068,
     "end_time": "2021-04-02T10:16:55.075131",
     "exception": false,
     "start_time": "2021-04-02T10:16:55.052063",
     "status": "completed"
    },
    "scrolled": true,
    "tags": [
     "hide-input"
    ]
   },
   "outputs": [],
   "source": [
    "dc = data.groupby('NAME').get_group('Dunn').sort_values(by='DATE') # Select the data for Dunn County from the full data.\n",
    "PNi = dc.columns.get_loc(\"POS_NEW\")\n",
    "dc['7_DAY'] = dc.iloc[:,PNi].rolling(window=7).mean() # Calculates the rolling 7-day average of new cases.\n",
    "dc['14_DAY'] = dc.iloc[:,PNi].rolling(window=14).mean() # Calculates the rolling 14-day average of new cases."
   ]
  },
  {
   "cell_type": "code",
   "execution_count": 4,
   "id": "steady-supervision",
   "metadata": {
    "execution": {
     "iopub.execute_input": "2021-04-02T10:16:55.096581Z",
     "iopub.status.busy": "2021-04-02T10:16:55.096149Z",
     "iopub.status.idle": "2021-04-02T10:16:55.098908Z",
     "shell.execute_reply": "2021-04-02T10:16:55.098555Z"
    },
    "jupyter": {
     "source_hidden": true
    },
    "papermill": {
     "duration": 0.016113,
     "end_time": "2021-04-02T10:16:55.099008",
     "exception": false,
     "start_time": "2021-04-02T10:16:55.082895",
     "status": "completed"
    },
    "scrolled": true,
    "tags": [
     "hide-input"
    ]
   },
   "outputs": [
    {
     "data": {
      "text/markdown": [
       "### Last updated: April 01, 2021"
      ],
      "text/plain": [
       "<IPython.core.display.Markdown object>"
      ]
     },
     "metadata": {},
     "output_type": "display_data"
    }
   ],
   "source": [
    "display(Markdown('### Last updated: ' + dc.iloc[-1]['DATE'].strftime(\"%B %d, %Y\")))"
   ]
  },
  {
   "cell_type": "code",
   "execution_count": 5,
   "id": "lonely-pitch",
   "metadata": {
    "execution": {
     "iopub.execute_input": "2021-04-02T10:16:55.118240Z",
     "iopub.status.busy": "2021-04-02T10:16:55.117766Z",
     "iopub.status.idle": "2021-04-02T10:16:55.119899Z",
     "shell.execute_reply": "2021-04-02T10:16:55.120293Z"
    },
    "jupyter": {
     "source_hidden": true
    },
    "papermill": {
     "duration": 0.014285,
     "end_time": "2021-04-02T10:16:55.120432",
     "exception": false,
     "start_time": "2021-04-02T10:16:55.106147",
     "status": "completed"
    },
    "tags": [
     "hide-input"
    ]
   },
   "outputs": [
    {
     "data": {
      "text/markdown": [
       "# Dunn County has 4397 total positive cases, with 3 new cases reported today."
      ],
      "text/plain": [
       "<IPython.core.display.Markdown object>"
      ]
     },
     "metadata": {},
     "output_type": "display_data"
    }
   ],
   "source": [
    "display(Markdown('# Dunn County has ' + str(dc.iloc[-1]['POSITIVE']) + ' total positive cases, with '+ str(int(dc.iloc[-1]['POS_NEW'])) + ' new cases reported today.'))"
   ]
  },
  {
   "cell_type": "code",
   "execution_count": 6,
   "id": "compound-nightmare",
   "metadata": {
    "execution": {
     "iopub.execute_input": "2021-04-02T10:16:55.141030Z",
     "iopub.status.busy": "2021-04-02T10:16:55.140568Z",
     "iopub.status.idle": "2021-04-02T10:16:55.363887Z",
     "shell.execute_reply": "2021-04-02T10:16:55.364273Z"
    },
    "jupyter": {
     "source_hidden": true
    },
    "papermill": {
     "duration": 0.235959,
     "end_time": "2021-04-02T10:16:55.364827",
     "exception": false,
     "start_time": "2021-04-02T10:16:55.128868",
     "status": "completed"
    },
    "scrolled": false,
    "tags": [
     "hide-input"
    ]
   },
   "outputs": [
    {
     "data": {
      "image/png": "[encoded data removed]",
      "text/plain": [
       "<Figure size 864x432 with 1 Axes>"
      ]
     },
     "metadata": {
      "needs_background": "light"
     },
     "output_type": "display_data"
    }
   ],
   "source": [
    "dc.plot(x='DATE',y='POSITIVE',color='red',grid='True',figsize=(12,6)).set_xlabel('Date');"
   ]
  },
  {
   "cell_type": "markdown",
   "id": "coupled-literacy",
   "metadata": {
    "papermill": {
     "duration": 0.009789,
     "end_time": "2021-04-02T10:16:55.386728",
     "exception": false,
     "start_time": "2021-04-02T10:16:55.376939",
     "status": "completed"
    },
    "tags": []
   },
   "source": [
    "## Figure 1: Cummulative number of positive cases."
   ]
  },
  {
   "cell_type": "code",
   "execution_count": 7,
   "id": "surrounded-reserve",
   "metadata": {
    "execution": {
     "iopub.execute_input": "2021-04-02T10:16:55.409750Z",
     "iopub.status.busy": "2021-04-02T10:16:55.409271Z",
     "iopub.status.idle": "2021-04-02T10:16:55.558591Z",
     "shell.execute_reply": "2021-04-02T10:16:55.558976Z"
    },
    "jupyter": {
     "source_hidden": true
    },
    "papermill": {
     "duration": 0.163141,
     "end_time": "2021-04-02T10:16:55.559122",
     "exception": false,
     "start_time": "2021-04-02T10:16:55.395981",
     "status": "completed"
    },
    "scrolled": false,
    "tags": [
     "hide-input"
    ]
   },
   "outputs": [
    {
     "data": {
      "image/png": "[encoded data removed]",
      "text/plain": [
       "<Figure size 864x432 with 1 Axes>"
      ]
     },
     "metadata": {
      "needs_background": "light"
     },
     "output_type": "display_data"
    }
   ],
   "source": [
    "dc.plot(kind='line',x='DATE',y='7_DAY',color='blue',grid='True',figsize=(12,6)).set_xlabel('Date');"
   ]
  },
  {
   "cell_type": "markdown",
   "id": "professional-savannah",
   "metadata": {
    "papermill": {
     "duration": 0.010606,
     "end_time": "2021-04-02T10:16:55.580120",
     "exception": false,
     "start_time": "2021-04-02T10:16:55.569514",
     "status": "completed"
    },
    "tags": []
   },
   "source": [
    "## Figure 2: Rolling 7-day average of daily new cases."
   ]
  },
  {
   "cell_type": "code",
   "execution_count": 8,
   "id": "stretch-investor",
   "metadata": {
    "execution": {
     "iopub.execute_input": "2021-04-02T10:16:55.605421Z",
     "iopub.status.busy": "2021-04-02T10:16:55.604934Z",
     "iopub.status.idle": "2021-04-02T10:16:55.793012Z",
     "shell.execute_reply": "2021-04-02T10:16:55.792637Z"
    },
    "jupyter": {
     "source_hidden": true
    },
    "papermill": {
     "duration": 0.202674,
     "end_time": "2021-04-02T10:16:55.793122",
     "exception": false,
     "start_time": "2021-04-02T10:16:55.590448",
     "status": "completed"
    },
    "tags": []
   },
   "outputs": [
    {
     "data": {
      "image/png": "[encoded data removed]",
      "text/plain": [
       "<Figure size 864x432 with 1 Axes>"
      ]
     },
     "metadata": {
      "needs_background": "light"
     },
     "output_type": "display_data"
    }
   ],
   "source": [
    "dc.plot(kind='line',x='DATE',y='14_DAY',color='green',grid='True',figsize=(12,6)).set_xlabel('Date');"
   ]
  },
  {
   "cell_type": "markdown",
   "id": "prerequisite-species",
   "metadata": {
    "papermill": {
     "duration": 0.010295,
     "end_time": "2021-04-02T10:16:55.813912",
     "exception": false,
     "start_time": "2021-04-02T10:16:55.803617",
     "status": "completed"
    },
    "tags": []
   },
   "source": [
    "## Figure 3: Rolling 14-day average of daily new cases."
   ]
  },
  {
   "cell_type": "markdown",
   "id": "palestinian-guard",
   "metadata": {
    "papermill": {
     "duration": 0.009835,
     "end_time": "2021-04-02T10:16:55.833685",
     "exception": false,
     "start_time": "2021-04-02T10:16:55.823850",
     "status": "completed"
    },
    "tags": []
   },
   "source": [
    "Data source: [Wisconsin Department of Health Services](https://data.dhsgis.wi.gov/datasets/covid-19-historical-data-table/)"
   ]
  },
  {
   "cell_type": "code",
   "execution_count": 9,
   "id": "proof-medicare",
   "metadata": {
    "execution": {
     "iopub.execute_input": "2021-04-02T10:16:55.861923Z",
     "iopub.status.busy": "2021-04-02T10:16:55.858937Z",
     "iopub.status.idle": "2021-04-02T10:16:55.864605Z",
     "shell.execute_reply": "2021-04-02T10:16:55.863539Z"
    },
    "jupyter": {
     "source_hidden": true
    },
    "papermill": {
     "duration": 0.021217,
     "end_time": "2021-04-02T10:16:55.864710",
     "exception": false,
     "start_time": "2021-04-02T10:16:55.843493",
     "status": "completed"
    },
    "tags": []
   },
   "outputs": [
    {
     "data": {
      "text/html": [
       "<style>\n",
       "div.input {\n",
       "    display:none;\n",
       "}\n",
       "</style>\n"
      ],
      "text/plain": [
       "<IPython.core.display.HTML object>"
      ]
     },
     "metadata": {},
     "output_type": "display_data"
    }
   ],
   "source": [
    "%%html\n",
    "<style>\n",
    "div.input {\n",
    "    display:none;\n",
    "}\n",
    "</style>"
   ]
  }
 ],
 "metadata": {
  "kernelspec": {
   "display_name": "Python 3",
   "language": "python",
   "name": "python3"
  },
  "language_info": {
   "codemirror_mode": {
    "name": "ipython",
    "version": 3
   },
   "file_extension": ".py",
   "mimetype": "text/x-python",
   "name": "python",
   "nbconvert_exporter": "python",
   "pygments_lexer": "ipython3",
   "version": "3.8.8"
  },
  "papermill": {
   "duration": 6.933904,
   "end_time": "2021-04-02T10:16:57.091593",
   "environment_variables": {},
   "exception": null,
   "input_path": "DunnCounty_COVID19.ipynb",
   "output_path": "DunnCounty_COVID19.ipynb",
   "parameters": {
    "Start": "True",
    "secretsPath": "/home/runner/work/_temp/secrets.json"
   },
   "start_time": "2021-04-02T10:16:50.157689",
   "version": "1.1.16"
  }
 },
 "nbformat": 4,
 "nbformat_minor": 5
}