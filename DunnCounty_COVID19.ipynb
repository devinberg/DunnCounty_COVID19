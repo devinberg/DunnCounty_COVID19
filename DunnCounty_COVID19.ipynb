{
 "cells": [
  {
   "cell_type": "code",
   "execution_count": 1,
   "id": "solar-understanding",
   "metadata": {
    "execution": {
     "iopub.execute_input": "2021-03-29T22:17:20.247120Z",
     "iopub.status.busy": "2021-03-29T22:17:20.246297Z",
     "iopub.status.idle": "2021-03-29T22:17:21.214573Z",
     "shell.execute_reply": "2021-03-29T22:17:21.215063Z"
    },
    "jupyter": {
     "source_hidden": true
    },
    "papermill": {
     "duration": 0.987921,
     "end_time": "2021-03-29T22:17:21.215367",
     "exception": false,
     "start_time": "2021-03-29T22:17:20.227446",
     "status": "completed"
    },
    "scrolled": true,
    "tags": [
     "hide-input"
    ]
   },
   "outputs": [],
   "source": [
    "import pandas as pd\n",
    "import matplotlib.pyplot as plt\n",
    "from matplotlib import dates\n",
    "from IPython.display import display, Markdown\n",
    "%matplotlib inline"
   ]
  },
  {
   "cell_type": "code",
   "execution_count": 2,
   "id": "purple-playlist",
   "metadata": {
    "execution": {
     "iopub.execute_input": "2021-03-29T22:17:21.247604Z",
     "iopub.status.busy": "2021-03-29T22:17:21.246944Z",
     "iopub.status.idle": "2021-03-29T22:17:23.016898Z",
     "shell.execute_reply": "2021-03-29T22:17:23.016371Z"
    },
    "jupyter": {
     "source_hidden": true
    },
    "papermill": {
     "duration": 1.78823,
     "end_time": "2021-03-29T22:17:23.017038",
     "exception": false,
     "start_time": "2021-03-29T22:17:21.228808",
     "status": "completed"
    },
    "scrolled": true,
    "tags": [
     "hide-input"
    ]
   },
   "outputs": [],
   "source": [
    "# This is the data for all of Wisconsin.\n",
    "url = \"https://opendata.arcgis.com/datasets/5374188992374b318d3e2305216ee413_12.csv\"\n",
    "data = pd.read_csv(url, parse_dates=['DATE'], low_memory=False)"
   ]
  },
  {
   "cell_type": "code",
   "execution_count": 3,
   "id": "proprietary-klein",
   "metadata": {
    "execution": {
     "iopub.execute_input": "2021-03-29T22:17:23.046966Z",
     "iopub.status.busy": "2021-03-29T22:17:23.046369Z",
     "iopub.status.idle": "2021-03-29T22:17:23.058702Z",
     "shell.execute_reply": "2021-03-29T22:17:23.057592Z"
    },
    "jupyter": {
     "source_hidden": true
    },
    "papermill": {
     "duration": 0.031257,
     "end_time": "2021-03-29T22:17:23.058845",
     "exception": false,
     "start_time": "2021-03-29T22:17:23.027588",
     "status": "completed"
    },
    "scrolled": true,
    "tags": [
     "hide-input"
    ]
   },
   "outputs": [],
   "source": [
    "dc = data.groupby('NAME').get_group('Dunn').sort_values(by='DATE') # Select the data for Dunn County from the full data.\n",
    "PNi = dc.columns.get_loc(\"POS_NEW\")\n",
    "dc['7_DAY'] = dc.iloc[:,PNi].rolling(window=7).mean() # Calculates the rolling 7-day average of new cases.\n",
    "dc['14_DAY'] = dc.iloc[:,PNi].rolling(window=14).mean() # Calculates the rolling 14-day average of new cases."
   ]
  },
  {
   "cell_type": "code",
   "execution_count": 4,
   "id": "steady-supervision",
   "metadata": {
    "execution": {
     "iopub.execute_input": "2021-03-29T22:17:23.087744Z",
     "iopub.status.busy": "2021-03-29T22:17:23.086782Z",
     "iopub.status.idle": "2021-03-29T22:17:23.090748Z",
     "shell.execute_reply": "2021-03-29T22:17:23.091263Z"
    },
    "jupyter": {
     "source_hidden": true
    },
    "papermill": {
     "duration": 0.023182,
     "end_time": "2021-03-29T22:17:23.091426",
     "exception": false,
     "start_time": "2021-03-29T22:17:23.068244",
     "status": "completed"
    },
    "scrolled": true,
    "tags": [
     "hide-input"
    ]
   },
   "outputs": [
    {
     "data": {
      "text/markdown": [
       "### Last updated: March 29, 2021"
      ],
      "text/plain": [
       "<IPython.core.display.Markdown object>"
      ]
     },
     "metadata": {},
     "output_type": "display_data"
    }
   ],
   "source": [
    "display(Markdown('### Last updated: ' + dc.iloc[-1]['DATE'].strftime(\"%B %d, %Y\")))"
   ]
  },
  {
   "cell_type": "code",
   "execution_count": 5,
   "id": "lonely-pitch",
   "metadata": {
    "execution": {
     "iopub.execute_input": "2021-03-29T22:17:23.118867Z",
     "iopub.status.busy": "2021-03-29T22:17:23.118254Z",
     "iopub.status.idle": "2021-03-29T22:17:23.122072Z",
     "shell.execute_reply": "2021-03-29T22:17:23.121465Z"
    },
    "jupyter": {
     "source_hidden": true
    },
    "papermill": {
     "duration": 0.020807,
     "end_time": "2021-03-29T22:17:23.122207",
     "exception": false,
     "start_time": "2021-03-29T22:17:23.101400",
     "status": "completed"
    },
    "tags": [
     "hide-input"
    ]
   },
   "outputs": [
    {
     "data": {
      "text/markdown": [
       "# Dunn County has 4374 total positive cases, with 7 new cases reported today."
      ],
      "text/plain": [
       "<IPython.core.display.Markdown object>"
      ]
     },
     "metadata": {},
     "output_type": "display_data"
    }
   ],
   "source": [
    "display(Markdown('# Dunn County has ' + str(dc.iloc[-1]['POSITIVE']) + ' total positive cases, with '+ str(int(dc.iloc[-1]['POS_NEW'])) + ' new cases reported today.'))"
   ]
  },
  {
   "cell_type": "code",
   "execution_count": 6,
   "id": "compound-nightmare",
   "metadata": {
    "execution": {
     "iopub.execute_input": "2021-03-29T22:17:23.148610Z",
     "iopub.status.busy": "2021-03-29T22:17:23.148014Z",
     "iopub.status.idle": "2021-03-29T22:17:23.504742Z",
     "shell.execute_reply": "2021-03-29T22:17:23.505208Z"
    },
    "jupyter": {
     "source_hidden": true
    },
    "papermill": {
     "duration": 0.371618,
     "end_time": "2021-03-29T22:17:23.505386",
     "exception": false,
     "start_time": "2021-03-29T22:17:23.133768",
     "status": "completed"
    },
    "scrolled": false,
    "tags": [
     "hide-input"
    ]
   },
   "outputs": [
    {
     "data": {
      "image/png": "[encoded data removed]",
      "text/plain": [
       "<Figure size 864x432 with 1 Axes>"
      ]
     },
     "metadata": {
      "needs_background": "light"
     },
     "output_type": "display_data"
    }
   ],
   "source": [
    "dc.plot(x='DATE',y='POSITIVE',color='red',grid='True',figsize=(12,6)).set_xlabel('Date');"
   ]
  },
  {
   "cell_type": "markdown",
   "id": "coupled-literacy",
   "metadata": {
    "papermill": {
     "duration": 0.012442,
     "end_time": "2021-03-29T22:17:23.532027",
     "exception": false,
     "start_time": "2021-03-29T22:17:23.519585",
     "status": "completed"
    },
    "tags": []
   },
   "source": [
    "## Figure 1: Cummulative number of positive cases."
   ]
  },
  {
   "cell_type": "code",
   "execution_count": 7,
   "id": "surrounded-reserve",
   "metadata": {
    "execution": {
     "iopub.execute_input": "2021-03-29T22:17:23.563263Z",
     "iopub.status.busy": "2021-03-29T22:17:23.562629Z",
     "iopub.status.idle": "2021-03-29T22:17:23.782806Z",
     "shell.execute_reply": "2021-03-29T22:17:23.782275Z"
    },
    "jupyter": {
     "source_hidden": true
    },
    "papermill": {
     "duration": 0.236825,
     "end_time": "2021-03-29T22:17:23.782943",
     "exception": false,
     "start_time": "2021-03-29T22:17:23.546118",
     "status": "completed"
    },
    "scrolled": false,
    "tags": [
     "hide-input"
    ]
   },
   "outputs": [
    {
     "data": {
      "image/png": "[encoded data removed]",
      "text/plain": [
       "<Figure size 864x432 with 1 Axes>"
      ]
     },
     "metadata": {
      "needs_background": "light"
     },
     "output_type": "display_data"
    }
   ],
   "source": [
    "dc.plot(kind='line',x='DATE',y='7_DAY',color='blue',grid='True',figsize=(12,6)).set_xlabel('Date');"
   ]
  },
  {
   "cell_type": "markdown",
   "id": "professional-savannah",
   "metadata": {
    "papermill": {
     "duration": 0.015126,
     "end_time": "2021-03-29T22:17:23.811664",
     "exception": false,
     "start_time": "2021-03-29T22:17:23.796538",
     "status": "completed"
    },
    "tags": []
   },
   "source": [
    "## Figure 2: Rolling 7-day average of daily new cases."
   ]
  },
  {
   "cell_type": "code",
   "execution_count": 8,
   "id": "stretch-investor",
   "metadata": {
    "execution": {
     "iopub.execute_input": "2021-03-29T22:17:23.856642Z",
     "iopub.status.busy": "2021-03-29T22:17:23.856054Z",
     "iopub.status.idle": "2021-03-29T22:17:24.078814Z",
     "shell.execute_reply": "2021-03-29T22:17:24.079341Z"
    },
    "jupyter": {
     "source_hidden": true
    },
    "papermill": {
     "duration": 0.240009,
     "end_time": "2021-03-29T22:17:24.079515",
     "exception": false,
     "start_time": "2021-03-29T22:17:23.839506",
     "status": "completed"
    },
    "tags": []
   },
   "outputs": [
    {
     "data": {
      "image/png": "[encoded data removed]",
      "text/plain": [
       "<Figure size 864x432 with 1 Axes>"
      ]
     },
     "metadata": {
      "needs_background": "light"
     },
     "output_type": "display_data"
    }
   ],
   "source": [
    "dc.plot(kind='line',x='DATE',y='14_DAY',color='green',grid='True',figsize=(12,6)).set_xlabel('Date');"
   ]
  },
  {
   "cell_type": "markdown",
   "id": "prerequisite-species",
   "metadata": {
    "papermill": {
     "duration": 0.013457,
     "end_time": "2021-03-29T22:17:24.107413",
     "exception": false,
     "start_time": "2021-03-29T22:17:24.093956",
     "status": "completed"
    },
    "tags": []
   },
   "source": [
    "## Figure 3: Rolling 14-day average of daily new cases."
   ]
  },
  {
   "cell_type": "markdown",
   "id": "palestinian-guard",
   "metadata": {
    "papermill": {
     "duration": 0.013216,
     "end_time": "2021-03-29T22:17:24.133637",
     "exception": false,
     "start_time": "2021-03-29T22:17:24.120421",
     "status": "completed"
    },
    "tags": []
   },
   "source": [
    "Data source: [Wisconsin Department of Health Services](https://data.dhsgis.wi.gov/datasets/covid-19-historical-data-table/)"
   ]
  },
  {
   "cell_type": "code",
   "execution_count": 9,
   "id": "proof-medicare",
   "metadata": {
    "execution": {
     "iopub.execute_input": "2021-03-29T22:17:24.164861Z",
     "iopub.status.busy": "2021-03-29T22:17:24.164169Z",
     "iopub.status.idle": "2021-03-29T22:17:24.167958Z",
     "shell.execute_reply": "2021-03-29T22:17:24.167436Z"
    },
    "jupyter": {
     "source_hidden": true
    },
    "papermill": {
     "duration": 0.021313,
     "end_time": "2021-03-29T22:17:24.168091",
     "exception": false,
     "start_time": "2021-03-29T22:17:24.146778",
     "status": "completed"
    },
    "tags": []
   },
   "outputs": [
    {
     "data": {
      "text/html": [
       "<style>\n",
       "div.input {\n",
       "    display:none;\n",
       "}\n",
       "</style>\n"
      ],
      "text/plain": [
       "<IPython.core.display.HTML object>"
      ]
     },
     "metadata": {},
     "output_type": "display_data"
    }
   ],
   "source": [
    "%%html\n",
    "<style>\n",
    "div.input {\n",
    "    display:none;\n",
    "}\n",
    "</style>"
   ]
  }
 ],
 "metadata": {
  "kernelspec": {
   "display_name": "Python 3",
   "language": "python",
   "name": "python3"
  },
  "language_info": {
   "codemirror_mode": {
    "name": "ipython",
    "version": 3
   },
   "file_extension": ".py",
   "mimetype": "text/x-python",
   "name": "python",
   "nbconvert_exporter": "python",
   "pygments_lexer": "ipython3",
   "version": "3.8.8"
  },
  "papermill": {
   "duration": 5.932962,
   "end_time": "2021-03-29T22:17:24.591436",
   "environment_variables": {},
   "exception": null,
   "input_path": "DunnCounty_COVID19.ipynb",
   "output_path": "DunnCounty_COVID19.ipynb",
   "parameters": {
    "Start": "True",
    "secretsPath": "/home/runner/work/_temp/secrets.json"
   },
   "start_time": "2021-03-29T22:17:18.658474",
   "version": "1.1.16"
  }
 },
 "nbformat": 4,
 "nbformat_minor": 5
}