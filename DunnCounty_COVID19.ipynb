{
 "cells": [
  {
   "cell_type": "code",
   "execution_count": 1,
   "metadata": {
    "execution": {
     "iopub.execute_input": "2021-01-13T22:30:55.982053Z",
     "iopub.status.busy": "2021-01-13T22:30:55.981484Z",
     "iopub.status.idle": "2021-01-13T22:30:57.141914Z",
     "shell.execute_reply": "2021-01-13T22:30:57.140973Z"
    },
    "jupyter": {
     "source_hidden": true
    },
    "papermill": {
     "duration": 1.17745,
     "end_time": "2021-01-13T22:30:57.142215",
     "exception": false,
     "start_time": "2021-01-13T22:30:55.964765",
     "status": "completed"
    },
    "scrolled": true,
    "tags": [
     "hide-input"
    ]
   },
   "outputs": [],
   "source": [
    "import pandas as pd\n",
    "import matplotlib.pyplot as plt\n",
    "from matplotlib import dates\n",
    "from IPython.display import display, Markdown\n",
    "%matplotlib inline"
   ]
  },
  {
   "cell_type": "code",
   "execution_count": 2,
   "metadata": {
    "execution": {
     "iopub.execute_input": "2021-01-13T22:30:57.163272Z",
     "iopub.status.busy": "2021-01-13T22:30:57.162245Z",
     "iopub.status.idle": "2021-01-13T22:30:57.745989Z",
     "shell.execute_reply": "2021-01-13T22:30:57.745454Z"
    },
    "jupyter": {
     "source_hidden": true
    },
    "papermill": {
     "duration": 0.596488,
     "end_time": "2021-01-13T22:30:57.746119",
     "exception": false,
     "start_time": "2021-01-13T22:30:57.149631",
     "status": "completed"
    },
    "scrolled": true,
    "tags": [
     "hide-input"
    ]
   },
   "outputs": [],
   "source": [
    "# This is the data for all of Wisconsin.\n",
    "url = \"https://opendata.arcgis.com/datasets/5374188992374b318d3e2305216ee413_12.csv\"\n",
    "data = pd.read_csv(url, parse_dates=['DATE'], low_memory=False)"
   ]
  },
  {
   "cell_type": "code",
   "execution_count": 3,
   "metadata": {
    "execution": {
     "iopub.execute_input": "2021-01-13T22:30:57.767904Z",
     "iopub.status.busy": "2021-01-13T22:30:57.766760Z",
     "iopub.status.idle": "2021-01-13T22:30:57.776093Z",
     "shell.execute_reply": "2021-01-13T22:30:57.776521Z"
    },
    "jupyter": {
     "source_hidden": true
    },
    "papermill": {
     "duration": 0.022547,
     "end_time": "2021-01-13T22:30:57.776650",
     "exception": false,
     "start_time": "2021-01-13T22:30:57.754103",
     "status": "completed"
    },
    "scrolled": true,
    "tags": [
     "hide-input"
    ]
   },
   "outputs": [],
   "source": [
    "dc = data.groupby('NAME').get_group('Dunn').sort_values(by='DATE') # Select the data for Dunn County from the full data.\n",
    "PNi = dc.columns.get_loc(\"POS_NEW\")\n",
    "dc['7_DAY'] = dc.iloc[:,PNi].rolling(window=7).mean() # Calculates the rolling 7-day average of new cases.\n",
    "dc['14_DAY'] = dc.iloc[:,PNi].rolling(window=14).mean() # Calculates the rolling 14-day average of new cases."
   ]
  },
  {
   "cell_type": "code",
   "execution_count": 4,
   "metadata": {
    "execution": {
     "iopub.execute_input": "2021-01-13T22:30:57.794542Z",
     "iopub.status.busy": "2021-01-13T22:30:57.792599Z",
     "iopub.status.idle": "2021-01-13T22:30:57.797808Z",
     "shell.execute_reply": "2021-01-13T22:30:57.797365Z"
    },
    "jupyter": {
     "source_hidden": true
    },
    "papermill": {
     "duration": 0.015089,
     "end_time": "2021-01-13T22:30:57.797959",
     "exception": false,
     "start_time": "2021-01-13T22:30:57.782870",
     "status": "completed"
    },
    "scrolled": true,
    "tags": [
     "hide-input"
    ]
   },
   "outputs": [
    {
     "data": {
      "text/markdown": [
       "### Last updated: January 13, 2021"
      ],
      "text/plain": [
       "<IPython.core.display.Markdown object>"
      ]
     },
     "metadata": {},
     "output_type": "display_data"
    }
   ],
   "source": [
    "display(Markdown('### Last updated: ' + dc.iloc[-1]['DATE'].strftime(\"%B %d, %Y\")))"
   ]
  },
  {
   "cell_type": "code",
   "execution_count": 5,
   "metadata": {
    "execution": {
     "iopub.execute_input": "2021-01-13T22:30:57.824497Z",
     "iopub.status.busy": "2021-01-13T22:30:57.823878Z",
     "iopub.status.idle": "2021-01-13T22:30:57.826891Z",
     "shell.execute_reply": "2021-01-13T22:30:57.826365Z"
    },
    "jupyter": {
     "source_hidden": true
    },
    "papermill": {
     "duration": 0.017194,
     "end_time": "2021-01-13T22:30:57.827058",
     "exception": false,
     "start_time": "2021-01-13T22:30:57.809864",
     "status": "completed"
    },
    "tags": [
     "hide-input"
    ]
   },
   "outputs": [
    {
     "data": {
      "text/markdown": [
       "# Dunn County has 3757 total positive cases, with 23 new cases reported today."
      ],
      "text/plain": [
       "<IPython.core.display.Markdown object>"
      ]
     },
     "metadata": {},
     "output_type": "display_data"
    }
   ],
   "source": [
    "display(Markdown('# Dunn County has ' + str(dc.iloc[-1]['POSITIVE']) + ' total positive cases, with '+ str(int(dc.iloc[-1]['POS_NEW'])) + ' new cases reported today.'))"
   ]
  },
  {
   "cell_type": "code",
   "execution_count": 6,
   "metadata": {
    "execution": {
     "iopub.execute_input": "2021-01-13T22:30:57.846997Z",
     "iopub.status.busy": "2021-01-13T22:30:57.846455Z",
     "iopub.status.idle": "2021-01-13T22:30:58.138111Z",
     "shell.execute_reply": "2021-01-13T22:30:58.137624Z"
    },
    "jupyter": {
     "source_hidden": true
    },
    "papermill": {
     "duration": 0.30291,
     "end_time": "2021-01-13T22:30:58.138261",
     "exception": false,
     "start_time": "2021-01-13T22:30:57.835351",
     "status": "completed"
    },
    "scrolled": false,
    "tags": [
     "hide-input"
    ]
   },
   "outputs": [
    {
     "data": {
      "image/png": "[encoded data removed]",
      "text/plain": [
       "<Figure size 864x432 with 1 Axes>"
      ]
     },
     "metadata": {
      "needs_background": "light"
     },
     "output_type": "display_data"
    }
   ],
   "source": [
    "dc.plot(x='DATE',y='POSITIVE',color='red',grid='True',figsize=(12,6)).set_xlabel('Date');"
   ]
  },
  {
   "cell_type": "markdown",
   "metadata": {
    "papermill": {
     "duration": 0.010079,
     "end_time": "2021-01-13T22:30:58.158075",
     "exception": false,
     "start_time": "2021-01-13T22:30:58.147996",
     "status": "completed"
    },
    "tags": []
   },
   "source": [
    "## Figure 1: Cummulative number of positive cases."
   ]
  },
  {
   "cell_type": "code",
   "execution_count": 7,
   "metadata": {
    "execution": {
     "iopub.execute_input": "2021-01-13T22:30:58.184484Z",
     "iopub.status.busy": "2021-01-13T22:30:58.183918Z",
     "iopub.status.idle": "2021-01-13T22:30:58.457052Z",
     "shell.execute_reply": "2021-01-13T22:30:58.456138Z"
    },
    "jupyter": {
     "source_hidden": true
    },
    "papermill": {
     "duration": 0.290454,
     "end_time": "2021-01-13T22:30:58.457179",
     "exception": false,
     "start_time": "2021-01-13T22:30:58.166725",
     "status": "completed"
    },
    "scrolled": false,
    "tags": [
     "hide-input"
    ]
   },
   "outputs": [
    {
     "data": {
      "image/png": "[encoded data removed]",
      "text/plain": [
       "<Figure size 864x432 with 1 Axes>"
      ]
     },
     "metadata": {
      "needs_background": "light"
     },
     "output_type": "display_data"
    }
   ],
   "source": [
    "dc.plot(kind='line',x='DATE',y='7_DAY',color='blue',grid='True',figsize=(12,6)).set_xlabel('Date');"
   ]
  },
  {
   "cell_type": "markdown",
   "metadata": {
    "papermill": {
     "duration": 0.009828,
     "end_time": "2021-01-13T22:30:58.477466",
     "exception": false,
     "start_time": "2021-01-13T22:30:58.467638",
     "status": "completed"
    },
    "tags": []
   },
   "source": [
    "## Figure 2: Rolling 7-day average of daily new cases."
   ]
  },
  {
   "cell_type": "code",
   "execution_count": 8,
   "metadata": {
    "execution": {
     "iopub.execute_input": "2021-01-13T22:30:58.503756Z",
     "iopub.status.busy": "2021-01-13T22:30:58.503175Z",
     "iopub.status.idle": "2021-01-13T22:30:58.775864Z",
     "shell.execute_reply": "2021-01-13T22:30:58.776292Z"
    },
    "jupyter": {
     "source_hidden": true
    },
    "papermill": {
     "duration": 0.288376,
     "end_time": "2021-01-13T22:30:58.776463",
     "exception": false,
     "start_time": "2021-01-13T22:30:58.488087",
     "status": "completed"
    },
    "tags": []
   },
   "outputs": [
    {
     "data": {
      "image/png": "[encoded data removed]",
      "text/plain": [
       "<Figure size 864x432 with 1 Axes>"
      ]
     },
     "metadata": {
      "needs_background": "light"
     },
     "output_type": "display_data"
    }
   ],
   "source": [
    "dc.plot(kind='line',x='DATE',y='14_DAY',color='green',grid='True',figsize=(12,6)).set_xlabel('Date');"
   ]
  },
  {
   "cell_type": "markdown",
   "metadata": {
    "papermill": {
     "duration": 0.013389,
     "end_time": "2021-01-13T22:30:58.801651",
     "exception": false,
     "start_time": "2021-01-13T22:30:58.788262",
     "status": "completed"
    },
    "tags": []
   },
   "source": [
    "## Figure 3: Rolling 14-day average of daily new cases."
   ]
  },
  {
   "cell_type": "markdown",
   "metadata": {
    "papermill": {
     "duration": 0.010499,
     "end_time": "2021-01-13T22:30:58.826907",
     "exception": false,
     "start_time": "2021-01-13T22:30:58.816408",
     "status": "completed"
    },
    "tags": []
   },
   "source": [
    "Data source: [Wisconsin Department of Health Services](https://data.dhsgis.wi.gov/datasets/covid-19-historical-data-table/)"
   ]
  },
  {
   "cell_type": "code",
   "execution_count": 9,
   "metadata": {
    "execution": {
     "iopub.execute_input": "2021-01-13T22:30:58.857197Z",
     "iopub.status.busy": "2021-01-13T22:30:58.856543Z",
     "iopub.status.idle": "2021-01-13T22:30:58.860503Z",
     "shell.execute_reply": "2021-01-13T22:30:58.861292Z"
    },
    "jupyter": {
     "source_hidden": true
    },
    "papermill": {
     "duration": 0.021321,
     "end_time": "2021-01-13T22:30:58.861508",
     "exception": false,
     "start_time": "2021-01-13T22:30:58.840187",
     "status": "completed"
    },
    "tags": []
   },
   "outputs": [
    {
     "data": {
      "text/html": [
       "<style>\n",
       "div.input {\n",
       "    display:none;\n",
       "}\n",
       "</style>\n"
      ],
      "text/plain": [
       "<IPython.core.display.HTML object>"
      ]
     },
     "metadata": {},
     "output_type": "display_data"
    }
   ],
   "source": [
    "%%html\n",
    "<style>\n",
    "div.input {\n",
    "    display:none;\n",
    "}\n",
    "</style>"
   ]
  }
 ],
 "metadata": {
  "kernelspec": {
   "display_name": "Python 3",
   "language": "python",
   "name": "python3"
  },
  "language_info": {
   "codemirror_mode": {
    "name": "ipython",
    "version": 3
   },
   "file_extension": ".py",
   "mimetype": "text/x-python",
   "name": "python",
   "nbconvert_exporter": "python",
   "pygments_lexer": "ipython3",
   "version": "3.8.6"
  },
  "papermill": {
   "duration": 5.519892,
   "end_time": "2021-01-13T22:31:00.112440",
   "environment_variables": {},
   "exception": null,
   "input_path": "DunnCounty_COVID19.ipynb",
   "output_path": "DunnCounty_COVID19.ipynb",
   "parameters": {
    "Start": "True",
    "secretsPath": "/home/runner/work/_temp/secrets.json"
   },
   "start_time": "2021-01-13T22:30:54.592548",
   "version": "1.1.16"
  }
 },
 "nbformat": 4,
 "nbformat_minor": 2
}