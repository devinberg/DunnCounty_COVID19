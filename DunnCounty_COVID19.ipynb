{
 "cells": [
  {
   "cell_type": "code",
   "execution_count": 1,
   "id": "solar-understanding",
   "metadata": {
    "execution": {
     "iopub.execute_input": "2021-04-11T22:17:24.071142Z",
     "iopub.status.busy": "2021-04-11T22:17:24.070574Z",
     "iopub.status.idle": "2021-04-11T22:17:24.839464Z",
     "shell.execute_reply": "2021-04-11T22:17:24.838536Z"
    },
    "jupyter": {
     "source_hidden": true
    },
    "papermill": {
     "duration": 0.785996,
     "end_time": "2021-04-11T22:17:24.839603",
     "exception": false,
     "start_time": "2021-04-11T22:17:24.053607",
     "status": "completed"
    },
    "scrolled": true,
    "tags": [
     "hide-input"
    ]
   },
   "outputs": [],
   "source": [
    "import pandas as pd\n",
    "import matplotlib.pyplot as plt\n",
    "from matplotlib import dates\n",
    "from IPython.display import display, Markdown\n",
    "%matplotlib inline"
   ]
  },
  {
   "cell_type": "code",
   "execution_count": 2,
   "id": "purple-playlist",
   "metadata": {
    "execution": {
     "iopub.execute_input": "2021-04-11T22:17:24.861152Z",
     "iopub.status.busy": "2021-04-11T22:17:24.860664Z",
     "iopub.status.idle": "2021-04-11T22:17:25.874906Z",
     "shell.execute_reply": "2021-04-11T22:17:25.874054Z"
    },
    "jupyter": {
     "source_hidden": true
    },
    "papermill": {
     "duration": 1.027228,
     "end_time": "2021-04-11T22:17:25.875040",
     "exception": false,
     "start_time": "2021-04-11T22:17:24.847812",
     "status": "completed"
    },
    "scrolled": true,
    "tags": [
     "hide-input"
    ]
   },
   "outputs": [],
   "source": [
    "# This is the data for all of Wisconsin.\n",
    "url = \"https://opendata.arcgis.com/datasets/5374188992374b318d3e2305216ee413_12.csv\"\n",
    "data = pd.read_csv(url, parse_dates=['DATE'], low_memory=False)"
   ]
  },
  {
   "cell_type": "code",
   "execution_count": 3,
   "id": "proprietary-klein",
   "metadata": {
    "execution": {
     "iopub.execute_input": "2021-04-11T22:17:25.897832Z",
     "iopub.status.busy": "2021-04-11T22:17:25.897343Z",
     "iopub.status.idle": "2021-04-11T22:17:25.905639Z",
     "shell.execute_reply": "2021-04-11T22:17:25.905199Z"
    },
    "jupyter": {
     "source_hidden": true
    },
    "papermill": {
     "duration": 0.021658,
     "end_time": "2021-04-11T22:17:25.905755",
     "exception": false,
     "start_time": "2021-04-11T22:17:25.884097",
     "status": "completed"
    },
    "scrolled": true,
    "tags": [
     "hide-input"
    ]
   },
   "outputs": [],
   "source": [
    "dc = data.groupby('NAME').get_group('Dunn').sort_values(by='DATE') # Select the data for Dunn County from the full data.\n",
    "PNi = dc.columns.get_loc(\"POS_NEW\")\n",
    "dc['7_DAY'] = dc.iloc[:,PNi].rolling(window=7).mean() # Calculates the rolling 7-day average of new cases.\n",
    "dc['14_DAY'] = dc.iloc[:,PNi].rolling(window=14).mean() # Calculates the rolling 14-day average of new cases."
   ]
  },
  {
   "cell_type": "code",
   "execution_count": 4,
   "id": "steady-supervision",
   "metadata": {
    "execution": {
     "iopub.execute_input": "2021-04-11T22:17:25.927840Z",
     "iopub.status.busy": "2021-04-11T22:17:25.927350Z",
     "iopub.status.idle": "2021-04-11T22:17:25.931028Z",
     "shell.execute_reply": "2021-04-11T22:17:25.931377Z"
    },
    "jupyter": {
     "source_hidden": true
    },
    "papermill": {
     "duration": 0.017933,
     "end_time": "2021-04-11T22:17:25.931518",
     "exception": false,
     "start_time": "2021-04-11T22:17:25.913585",
     "status": "completed"
    },
    "scrolled": true,
    "tags": [
     "hide-input"
    ]
   },
   "outputs": [
    {
     "data": {
      "text/markdown": [
       "### Last updated: April 11, 2021"
      ],
      "text/plain": [
       "<IPython.core.display.Markdown object>"
      ]
     },
     "metadata": {},
     "output_type": "display_data"
    }
   ],
   "source": [
    "display(Markdown('### Last updated: ' + dc.iloc[-1]['DATE'].strftime(\"%B %d, %Y\")))"
   ]
  },
  {
   "cell_type": "code",
   "execution_count": 5,
   "id": "lonely-pitch",
   "metadata": {
    "execution": {
     "iopub.execute_input": "2021-04-11T22:17:25.953198Z",
     "iopub.status.busy": "2021-04-11T22:17:25.952661Z",
     "iopub.status.idle": "2021-04-11T22:17:25.954754Z",
     "shell.execute_reply": "2021-04-11T22:17:25.955121Z"
    },
    "jupyter": {
     "source_hidden": true
    },
    "papermill": {
     "duration": 0.015614,
     "end_time": "2021-04-11T22:17:25.955249",
     "exception": false,
     "start_time": "2021-04-11T22:17:25.939635",
     "status": "completed"
    },
    "tags": [
     "hide-input"
    ]
   },
   "outputs": [
    {
     "data": {
      "text/markdown": [
       "# Dunn County has 4504 total positive cases, with 10 new cases reported today."
      ],
      "text/plain": [
       "<IPython.core.display.Markdown object>"
      ]
     },
     "metadata": {},
     "output_type": "display_data"
    }
   ],
   "source": [
    "display(Markdown('# Dunn County has ' + str(dc.iloc[-1]['POSITIVE']) + ' total positive cases, with '+ str(int(dc.iloc[-1]['POS_NEW'])) + ' new cases reported today.'))"
   ]
  },
  {
   "cell_type": "code",
   "execution_count": 6,
   "id": "compound-nightmare",
   "metadata": {
    "execution": {
     "iopub.execute_input": "2021-04-11T22:17:25.975831Z",
     "iopub.status.busy": "2021-04-11T22:17:25.975361Z",
     "iopub.status.idle": "2021-04-11T22:17:26.201634Z",
     "shell.execute_reply": "2021-04-11T22:17:26.202075Z"
    },
    "jupyter": {
     "source_hidden": true
    },
    "papermill": {
     "duration": 0.238638,
     "end_time": "2021-04-11T22:17:26.202229",
     "exception": false,
     "start_time": "2021-04-11T22:17:25.963591",
     "status": "completed"
    },
    "scrolled": false,
    "tags": [
     "hide-input"
    ]
   },
   "outputs": [
    {
     "data": {
      "image/png": "[encoded data removed]",
      "text/plain": [
       "<Figure size 864x432 with 1 Axes>"
      ]
     },
     "metadata": {
      "needs_background": "light"
     },
     "output_type": "display_data"
    }
   ],
   "source": [
    "dc.plot(x='DATE',y='POSITIVE',color='red',grid='True',figsize=(12,6)).set_xlabel('Date');"
   ]
  },
  {
   "cell_type": "markdown",
   "id": "coupled-literacy",
   "metadata": {
    "papermill": {
     "duration": 0.00946,
     "end_time": "2021-04-11T22:17:26.221854",
     "exception": false,
     "start_time": "2021-04-11T22:17:26.212394",
     "status": "completed"
    },
    "tags": []
   },
   "source": [
    "## Figure 1: Cummulative number of positive cases."
   ]
  },
  {
   "cell_type": "code",
   "execution_count": 7,
   "id": "surrounded-reserve",
   "metadata": {
    "execution": {
     "iopub.execute_input": "2021-04-11T22:17:26.244918Z",
     "iopub.status.busy": "2021-04-11T22:17:26.244443Z",
     "iopub.status.idle": "2021-04-11T22:17:26.412919Z",
     "shell.execute_reply": "2021-04-11T22:17:26.413293Z"
    },
    "jupyter": {
     "source_hidden": true
    },
    "papermill": {
     "duration": 0.182487,
     "end_time": "2021-04-11T22:17:26.413437",
     "exception": false,
     "start_time": "2021-04-11T22:17:26.230950",
     "status": "completed"
    },
    "scrolled": false,
    "tags": [
     "hide-input"
    ]
   },
   "outputs": [
    {
     "data": {
      "image/png": "[encoded data removed]",
      "text/plain": [
       "<Figure size 864x432 with 1 Axes>"
      ]
     },
     "metadata": {
      "needs_background": "light"
     },
     "output_type": "display_data"
    }
   ],
   "source": [
    "dc.plot(kind='line',x='DATE',y='7_DAY',color='blue',grid='True',figsize=(12,6)).set_xlabel('Date');"
   ]
  },
  {
   "cell_type": "markdown",
   "id": "professional-savannah",
   "metadata": {
    "papermill": {
     "duration": 0.010566,
     "end_time": "2021-04-11T22:17:26.434327",
     "exception": false,
     "start_time": "2021-04-11T22:17:26.423761",
     "status": "completed"
    },
    "tags": []
   },
   "source": [
    "## Figure 2: Rolling 7-day average of daily new cases."
   ]
  },
  {
   "cell_type": "code",
   "execution_count": 8,
   "id": "stretch-investor",
   "metadata": {
    "execution": {
     "iopub.execute_input": "2021-04-11T22:17:26.459547Z",
     "iopub.status.busy": "2021-04-11T22:17:26.459064Z",
     "iopub.status.idle": "2021-04-11T22:17:26.622523Z",
     "shell.execute_reply": "2021-04-11T22:17:26.622903Z"
    },
    "jupyter": {
     "source_hidden": true
    },
    "papermill": {
     "duration": 0.178577,
     "end_time": "2021-04-11T22:17:26.623043",
     "exception": false,
     "start_time": "2021-04-11T22:17:26.444466",
     "status": "completed"
    },
    "tags": []
   },
   "outputs": [
    {
     "data": {
      "image/png": "[encoded data removed]",
      "text/plain": [
       "<Figure size 864x432 with 1 Axes>"
      ]
     },
     "metadata": {
      "needs_background": "light"
     },
     "output_type": "display_data"
    }
   ],
   "source": [
    "dc.plot(kind='line',x='DATE',y='14_DAY',color='green',grid='True',figsize=(12,6)).set_xlabel('Date');"
   ]
  },
  {
   "cell_type": "markdown",
   "id": "prerequisite-species",
   "metadata": {
    "papermill": {
     "duration": 0.011209,
     "end_time": "2021-04-11T22:17:26.645580",
     "exception": false,
     "start_time": "2021-04-11T22:17:26.634371",
     "status": "completed"
    },
    "tags": []
   },
   "source": [
    "## Figure 3: Rolling 14-day average of daily new cases."
   ]
  },
  {
   "cell_type": "markdown",
   "id": "palestinian-guard",
   "metadata": {
    "papermill": {
     "duration": 0.010893,
     "end_time": "2021-04-11T22:17:26.667377",
     "exception": false,
     "start_time": "2021-04-11T22:17:26.656484",
     "status": "completed"
    },
    "tags": []
   },
   "source": [
    "Data source: [Wisconsin Department of Health Services](https://data.dhsgis.wi.gov/datasets/covid-19-historical-data-table/)"
   ]
  },
  {
   "cell_type": "code",
   "execution_count": 9,
   "id": "proof-medicare",
   "metadata": {
    "execution": {
     "iopub.execute_input": "2021-04-11T22:17:26.693906Z",
     "iopub.status.busy": "2021-04-11T22:17:26.693444Z",
     "iopub.status.idle": "2021-04-11T22:17:26.696593Z",
     "shell.execute_reply": "2021-04-11T22:17:26.696189Z"
    },
    "jupyter": {
     "source_hidden": true
    },
    "papermill": {
     "duration": 0.018415,
     "end_time": "2021-04-11T22:17:26.696696",
     "exception": false,
     "start_time": "2021-04-11T22:17:26.678281",
     "status": "completed"
    },
    "tags": []
   },
   "outputs": [
    {
     "data": {
      "text/html": [
       "<style>\n",
       "div.input {\n",
       "    display:none;\n",
       "}\n",
       "</style>\n"
      ],
      "text/plain": [
       "<IPython.core.display.HTML object>"
      ]
     },
     "metadata": {},
     "output_type": "display_data"
    }
   ],
   "source": [
    "%%html\n",
    "<style>\n",
    "div.input {\n",
    "    display:none;\n",
    "}\n",
    "</style>"
   ]
  }
 ],
 "metadata": {
  "kernelspec": {
   "display_name": "Python 3",
   "language": "python",
   "name": "python3"
  },
  "language_info": {
   "codemirror_mode": {
    "name": "ipython",
    "version": 3
   },
   "file_extension": ".py",
   "mimetype": "text/x-python",
   "name": "python",
   "nbconvert_exporter": "python",
   "pygments_lexer": "ipython3",
   "version": "3.8.8"
  },
  "papermill": {
   "duration": 4.211572,
   "end_time": "2021-04-11T22:17:27.115176",
   "environment_variables": {},
   "exception": null,
   "input_path": "DunnCounty_COVID19.ipynb",
   "output_path": "DunnCounty_COVID19.ipynb",
   "parameters": {
    "Start": "True",
    "secretsPath": "/home/runner/work/_temp/secrets.json"
   },
   "start_time": "2021-04-11T22:17:22.903604",
   "version": "1.1.16"
  }
 },
 "nbformat": 4,
 "nbformat_minor": 5
}