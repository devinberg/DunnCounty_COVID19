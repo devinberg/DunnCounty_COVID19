{
 "cells": [
  {
   "cell_type": "code",
   "execution_count": 1,
   "id": "solar-understanding",
   "metadata": {
    "execution": {
     "iopub.execute_input": "2021-02-20T10:12:13.701597Z",
     "iopub.status.busy": "2021-02-20T10:12:13.701114Z",
     "iopub.status.idle": "2021-02-20T10:12:17.425112Z",
     "shell.execute_reply": "2021-02-20T10:12:17.425546Z"
    },
    "jupyter": {
     "source_hidden": true
    },
    "papermill": {
     "duration": 3.741213,
     "end_time": "2021-02-20T10:12:17.425792",
     "exception": false,
     "start_time": "2021-02-20T10:12:13.684579",
     "status": "completed"
    },
    "scrolled": true,
    "tags": [
     "hide-input"
    ]
   },
   "outputs": [],
   "source": [
    "import pandas as pd\n",
    "import matplotlib.pyplot as plt\n",
    "from matplotlib import dates\n",
    "from IPython.display import display, Markdown\n",
    "%matplotlib inline"
   ]
  },
  {
   "cell_type": "code",
   "execution_count": 2,
   "id": "purple-playlist",
   "metadata": {
    "execution": {
     "iopub.execute_input": "2021-02-20T10:12:17.446905Z",
     "iopub.status.busy": "2021-02-20T10:12:17.446459Z",
     "iopub.status.idle": "2021-02-20T10:12:18.856789Z",
     "shell.execute_reply": "2021-02-20T10:12:18.855879Z"
    },
    "jupyter": {
     "source_hidden": true
    },
    "papermill": {
     "duration": 1.422508,
     "end_time": "2021-02-20T10:12:18.856935",
     "exception": false,
     "start_time": "2021-02-20T10:12:17.434427",
     "status": "completed"
    },
    "scrolled": true,
    "tags": [
     "hide-input"
    ]
   },
   "outputs": [],
   "source": [
    "# This is the data for all of Wisconsin.\n",
    "url = \"https://opendata.arcgis.com/datasets/5374188992374b318d3e2305216ee413_12.csv\"\n",
    "data = pd.read_csv(url, parse_dates=['DATE'], low_memory=False)"
   ]
  },
  {
   "cell_type": "code",
   "execution_count": 3,
   "id": "proprietary-klein",
   "metadata": {
    "execution": {
     "iopub.execute_input": "2021-02-20T10:12:18.887943Z",
     "iopub.status.busy": "2021-02-20T10:12:18.887386Z",
     "iopub.status.idle": "2021-02-20T10:12:18.890318Z",
     "shell.execute_reply": "2021-02-20T10:12:18.890723Z"
    },
    "jupyter": {
     "source_hidden": true
    },
    "papermill": {
     "duration": 0.024603,
     "end_time": "2021-02-20T10:12:18.890870",
     "exception": false,
     "start_time": "2021-02-20T10:12:18.866267",
     "status": "completed"
    },
    "scrolled": true,
    "tags": [
     "hide-input"
    ]
   },
   "outputs": [],
   "source": [
    "dc = data.groupby('NAME').get_group('Dunn').sort_values(by='DATE') # Select the data for Dunn County from the full data.\n",
    "PNi = dc.columns.get_loc(\"POS_NEW\")\n",
    "dc['7_DAY'] = dc.iloc[:,PNi].rolling(window=7).mean() # Calculates the rolling 7-day average of new cases.\n",
    "dc['14_DAY'] = dc.iloc[:,PNi].rolling(window=14).mean() # Calculates the rolling 14-day average of new cases."
   ]
  },
  {
   "cell_type": "code",
   "execution_count": 4,
   "id": "steady-supervision",
   "metadata": {
    "execution": {
     "iopub.execute_input": "2021-02-20T10:12:18.913414Z",
     "iopub.status.busy": "2021-02-20T10:12:18.912918Z",
     "iopub.status.idle": "2021-02-20T10:12:18.915534Z",
     "shell.execute_reply": "2021-02-20T10:12:18.915978Z"
    },
    "jupyter": {
     "source_hidden": true
    },
    "papermill": {
     "duration": 0.016844,
     "end_time": "2021-02-20T10:12:18.916100",
     "exception": false,
     "start_time": "2021-02-20T10:12:18.899256",
     "status": "completed"
    },
    "scrolled": true,
    "tags": [
     "hide-input"
    ]
   },
   "outputs": [
    {
     "data": {
      "text/markdown": [
       "### Last updated: February 19, 2021"
      ],
      "text/plain": [
       "<IPython.core.display.Markdown object>"
      ]
     },
     "metadata": {},
     "output_type": "display_data"
    }
   ],
   "source": [
    "display(Markdown('### Last updated: ' + dc.iloc[-1]['DATE'].strftime(\"%B %d, %Y\")))"
   ]
  },
  {
   "cell_type": "code",
   "execution_count": 5,
   "id": "lonely-pitch",
   "metadata": {
    "execution": {
     "iopub.execute_input": "2021-02-20T10:12:18.937685Z",
     "iopub.status.busy": "2021-02-20T10:12:18.937194Z",
     "iopub.status.idle": "2021-02-20T10:12:18.940033Z",
     "shell.execute_reply": "2021-02-20T10:12:18.939579Z"
    },
    "jupyter": {
     "source_hidden": true
    },
    "papermill": {
     "duration": 0.016371,
     "end_time": "2021-02-20T10:12:18.940135",
     "exception": false,
     "start_time": "2021-02-20T10:12:18.923764",
     "status": "completed"
    },
    "tags": [
     "hide-input"
    ]
   },
   "outputs": [
    {
     "data": {
      "text/markdown": [
       "# Dunn County has 4213 total positive cases, with 8 new cases reported today."
      ],
      "text/plain": [
       "<IPython.core.display.Markdown object>"
      ]
     },
     "metadata": {},
     "output_type": "display_data"
    }
   ],
   "source": [
    "display(Markdown('# Dunn County has ' + str(dc.iloc[-1]['POSITIVE']) + ' total positive cases, with '+ str(int(dc.iloc[-1]['POS_NEW'])) + ' new cases reported today.'))"
   ]
  },
  {
   "cell_type": "code",
   "execution_count": 6,
   "id": "compound-nightmare",
   "metadata": {
    "execution": {
     "iopub.execute_input": "2021-02-20T10:12:18.960765Z",
     "iopub.status.busy": "2021-02-20T10:12:18.960273Z",
     "iopub.status.idle": "2021-02-20T10:12:19.194346Z",
     "shell.execute_reply": "2021-02-20T10:12:19.194817Z"
    },
    "jupyter": {
     "source_hidden": true
    },
    "papermill": {
     "duration": 0.245939,
     "end_time": "2021-02-20T10:12:19.194979",
     "exception": false,
     "start_time": "2021-02-20T10:12:18.949040",
     "status": "completed"
    },
    "scrolled": false,
    "tags": [
     "hide-input"
    ]
   },
   "outputs": [
    {
     "data": {
      "image/png": "[encoded data removed]",
      "text/plain": [
       "<Figure size 864x432 with 1 Axes>"
      ]
     },
     "metadata": {
      "needs_background": "light"
     },
     "output_type": "display_data"
    }
   ],
   "source": [
    "dc.plot(x='DATE',y='POSITIVE',color='red',grid='True',figsize=(12,6)).set_xlabel('Date');"
   ]
  },
  {
   "cell_type": "markdown",
   "id": "coupled-literacy",
   "metadata": {
    "papermill": {
     "duration": 0.010101,
     "end_time": "2021-02-20T10:12:19.215392",
     "exception": false,
     "start_time": "2021-02-20T10:12:19.205291",
     "status": "completed"
    },
    "tags": []
   },
   "source": [
    "## Figure 1: Cummulative number of positive cases."
   ]
  },
  {
   "cell_type": "code",
   "execution_count": 7,
   "id": "surrounded-reserve",
   "metadata": {
    "execution": {
     "iopub.execute_input": "2021-02-20T10:12:19.241575Z",
     "iopub.status.busy": "2021-02-20T10:12:19.241043Z",
     "iopub.status.idle": "2021-02-20T10:12:19.453512Z",
     "shell.execute_reply": "2021-02-20T10:12:19.454022Z"
    },
    "jupyter": {
     "source_hidden": true
    },
    "papermill": {
     "duration": 0.227844,
     "end_time": "2021-02-20T10:12:19.454195",
     "exception": false,
     "start_time": "2021-02-20T10:12:19.226351",
     "status": "completed"
    },
    "scrolled": false,
    "tags": [
     "hide-input"
    ]
   },
   "outputs": [
    {
     "data": {
      "image/png": "[encoded data removed]",
      "text/plain": [
       "<Figure size 864x432 with 1 Axes>"
      ]
     },
     "metadata": {
      "needs_background": "light"
     },
     "output_type": "display_data"
    }
   ],
   "source": [
    "dc.plot(kind='line',x='DATE',y='7_DAY',color='blue',grid='True',figsize=(12,6)).set_xlabel('Date');"
   ]
  },
  {
   "cell_type": "markdown",
   "id": "professional-savannah",
   "metadata": {
    "papermill": {
     "duration": 0.011871,
     "end_time": "2021-02-20T10:12:19.477924",
     "exception": false,
     "start_time": "2021-02-20T10:12:19.466053",
     "status": "completed"
    },
    "tags": []
   },
   "source": [
    "## Figure 2: Rolling 7-day average of daily new cases."
   ]
  },
  {
   "cell_type": "code",
   "execution_count": 8,
   "id": "stretch-investor",
   "metadata": {
    "execution": {
     "iopub.execute_input": "2021-02-20T10:12:19.518833Z",
     "iopub.status.busy": "2021-02-20T10:12:19.511320Z",
     "iopub.status.idle": "2021-02-20T10:12:19.736494Z",
     "shell.execute_reply": "2021-02-20T10:12:19.736059Z"
    },
    "jupyter": {
     "source_hidden": true
    },
    "papermill": {
     "duration": 0.248382,
     "end_time": "2021-02-20T10:12:19.736613",
     "exception": false,
     "start_time": "2021-02-20T10:12:19.488231",
     "status": "completed"
    },
    "tags": []
   },
   "outputs": [
    {
     "data": {
      "image/png": "[encoded data removed]",
      "text/plain": [
       "<Figure size 864x432 with 1 Axes>"
      ]
     },
     "metadata": {
      "needs_background": "light"
     },
     "output_type": "display_data"
    }
   ],
   "source": [
    "dc.plot(kind='line',x='DATE',y='14_DAY',color='green',grid='True',figsize=(12,6)).set_xlabel('Date');"
   ]
  },
  {
   "cell_type": "markdown",
   "id": "prerequisite-species",
   "metadata": {
    "papermill": {
     "duration": 0.012248,
     "end_time": "2021-02-20T10:12:19.760777",
     "exception": false,
     "start_time": "2021-02-20T10:12:19.748529",
     "status": "completed"
    },
    "tags": []
   },
   "source": [
    "## Figure 3: Rolling 14-day average of daily new cases."
   ]
  },
  {
   "cell_type": "markdown",
   "id": "palestinian-guard",
   "metadata": {
    "papermill": {
     "duration": 0.011521,
     "end_time": "2021-02-20T10:12:19.785023",
     "exception": false,
     "start_time": "2021-02-20T10:12:19.773502",
     "status": "completed"
    },
    "tags": []
   },
   "source": [
    "Data source: [Wisconsin Department of Health Services](https://data.dhsgis.wi.gov/datasets/covid-19-historical-data-table/)"
   ]
  },
  {
   "cell_type": "code",
   "execution_count": 9,
   "id": "proof-medicare",
   "metadata": {
    "execution": {
     "iopub.execute_input": "2021-02-20T10:12:19.812492Z",
     "iopub.status.busy": "2021-02-20T10:12:19.811913Z",
     "iopub.status.idle": "2021-02-20T10:12:19.814315Z",
     "shell.execute_reply": "2021-02-20T10:12:19.814716Z"
    },
    "jupyter": {
     "source_hidden": true
    },
    "papermill": {
     "duration": 0.018459,
     "end_time": "2021-02-20T10:12:19.814852",
     "exception": false,
     "start_time": "2021-02-20T10:12:19.796393",
     "status": "completed"
    },
    "tags": []
   },
   "outputs": [
    {
     "data": {
      "text/html": [
       "<style>\n",
       "div.input {\n",
       "    display:none;\n",
       "}\n",
       "</style>\n"
      ],
      "text/plain": [
       "<IPython.core.display.HTML object>"
      ]
     },
     "metadata": {},
     "output_type": "display_data"
    }
   ],
   "source": [
    "%%html\n",
    "<style>\n",
    "div.input {\n",
    "    display:none;\n",
    "}\n",
    "</style>"
   ]
  }
 ],
 "metadata": {
  "kernelspec": {
   "display_name": "Python 3",
   "language": "python",
   "name": "python3"
  },
  "language_info": {
   "codemirror_mode": {
    "name": "ipython",
    "version": 3
   },
   "file_extension": ".py",
   "mimetype": "text/x-python",
   "name": "python",
   "nbconvert_exporter": "python",
   "pygments_lexer": "ipython3",
   "version": "3.8.7"
  },
  "papermill": {
   "duration": 9.001867,
   "end_time": "2021-02-20T10:12:21.023999",
   "environment_variables": {},
   "exception": null,
   "input_path": "DunnCounty_COVID19.ipynb",
   "output_path": "DunnCounty_COVID19.ipynb",
   "parameters": {
    "Start": "True",
    "secretsPath": "/home/runner/work/_temp/secrets.json"
   },
   "start_time": "2021-02-20T10:12:12.022132",
   "version": "1.1.16"
  }
 },
 "nbformat": 4,
 "nbformat_minor": 5
}