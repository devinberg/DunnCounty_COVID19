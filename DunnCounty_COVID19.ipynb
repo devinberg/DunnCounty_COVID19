{
 "cells": [
  {
   "cell_type": "code",
   "execution_count": 1,
   "id": "solar-understanding",
   "metadata": {
    "execution": {
     "iopub.execute_input": "2021-05-12T22:16:33.326483Z",
     "iopub.status.busy": "2021-05-12T22:16:33.325887Z",
     "iopub.status.idle": "2021-05-12T22:16:34.330397Z",
     "shell.execute_reply": "2021-05-12T22:16:34.330883Z"
    },
    "jupyter": {
     "source_hidden": true
    },
    "papermill": {
     "duration": 1.02724,
     "end_time": "2021-05-12T22:16:34.331172",
     "exception": false,
     "start_time": "2021-05-12T22:16:33.303932",
     "status": "completed"
    },
    "scrolled": true,
    "tags": [
     "hide-input"
    ]
   },
   "outputs": [],
   "source": [
    "import pandas as pd\n",
    "import matplotlib.pyplot as plt\n",
    "from matplotlib import dates\n",
    "from IPython.display import display, Markdown\n",
    "%matplotlib inline"
   ]
  },
  {
   "cell_type": "code",
   "execution_count": 2,
   "id": "purple-playlist",
   "metadata": {
    "execution": {
     "iopub.execute_input": "2021-05-12T22:16:34.356329Z",
     "iopub.status.busy": "2021-05-12T22:16:34.355735Z",
     "iopub.status.idle": "2021-05-12T22:16:35.101687Z",
     "shell.execute_reply": "2021-05-12T22:16:35.101172Z"
    },
    "jupyter": {
     "source_hidden": true
    },
    "papermill": {
     "duration": 0.760921,
     "end_time": "2021-05-12T22:16:35.101825",
     "exception": false,
     "start_time": "2021-05-12T22:16:34.340904",
     "status": "completed"
    },
    "scrolled": true,
    "tags": [
     "hide-input"
    ]
   },
   "outputs": [],
   "source": [
    "# This is the data for all of Wisconsin.\n",
    "url = \"https://opendata.arcgis.com/datasets/80ff9d4897db4d7692f0f4ad28447cab_12.csv\"\n",
    "data = pd.read_csv(url, parse_dates=['DATE'], low_memory=False)"
   ]
  },
  {
   "cell_type": "code",
   "execution_count": 3,
   "id": "proprietary-klein",
   "metadata": {
    "execution": {
     "iopub.execute_input": "2021-05-12T22:16:35.127306Z",
     "iopub.status.busy": "2021-05-12T22:16:35.126694Z",
     "iopub.status.idle": "2021-05-12T22:16:35.135289Z",
     "shell.execute_reply": "2021-05-12T22:16:35.135744Z"
    },
    "jupyter": {
     "source_hidden": true
    },
    "papermill": {
     "duration": 0.024521,
     "end_time": "2021-05-12T22:16:35.135886",
     "exception": false,
     "start_time": "2021-05-12T22:16:35.111365",
     "status": "completed"
    },
    "scrolled": true,
    "tags": [
     "hide-input"
    ]
   },
   "outputs": [],
   "source": [
    "dc = data.groupby('NAME').get_group('Dunn').sort_values(by='DATE') # Select the data for Dunn County from the full data.\n",
    "PNi = dc.columns.get_loc(\"POS_NEW\")\n",
    "dc['7_DAY'] = dc.iloc[:,PNi].rolling(window=7).mean() # Calculates the rolling 7-day average of new cases.\n",
    "dc['14_DAY'] = dc.iloc[:,PNi].rolling(window=14).mean() # Calculates the rolling 14-day average of new cases."
   ]
  },
  {
   "cell_type": "code",
   "execution_count": 4,
   "id": "steady-supervision",
   "metadata": {
    "execution": {
     "iopub.execute_input": "2021-05-12T22:16:35.160761Z",
     "iopub.status.busy": "2021-05-12T22:16:35.160172Z",
     "iopub.status.idle": "2021-05-12T22:16:35.163276Z",
     "shell.execute_reply": "2021-05-12T22:16:35.163788Z"
    },
    "jupyter": {
     "source_hidden": true
    },
    "papermill": {
     "duration": 0.018713,
     "end_time": "2021-05-12T22:16:35.163923",
     "exception": false,
     "start_time": "2021-05-12T22:16:35.145210",
     "status": "completed"
    },
    "scrolled": true,
    "tags": [
     "hide-input"
    ]
   },
   "outputs": [
    {
     "data": {
      "text/markdown": [
       "### Last updated: May 11, 2021"
      ],
      "text/plain": [
       "<IPython.core.display.Markdown object>"
      ]
     },
     "metadata": {},
     "output_type": "display_data"
    }
   ],
   "source": [
    "display(Markdown('### Last updated: ' + dc.iloc[-1]['DATE'].strftime(\"%B %d, %Y\")))"
   ]
  },
  {
   "cell_type": "code",
   "execution_count": 5,
   "id": "lonely-pitch",
   "metadata": {
    "execution": {
     "iopub.execute_input": "2021-05-12T22:16:35.188003Z",
     "iopub.status.busy": "2021-05-12T22:16:35.187428Z",
     "iopub.status.idle": "2021-05-12T22:16:35.190670Z",
     "shell.execute_reply": "2021-05-12T22:16:35.190104Z"
    },
    "jupyter": {
     "source_hidden": true
    },
    "papermill": {
     "duration": 0.017351,
     "end_time": "2021-05-12T22:16:35.190786",
     "exception": false,
     "start_time": "2021-05-12T22:16:35.173435",
     "status": "completed"
    },
    "tags": [
     "hide-input"
    ]
   },
   "outputs": [
    {
     "data": {
      "text/markdown": [
       "# Dunn County has 4652 total positive cases, with 2 new cases reported today."
      ],
      "text/plain": [
       "<IPython.core.display.Markdown object>"
      ]
     },
     "metadata": {},
     "output_type": "display_data"
    }
   ],
   "source": [
    "display(Markdown('# Dunn County has ' + str(dc.iloc[-1]['POSITIVE']) + ' total positive cases, with '+ str(int(dc.iloc[-1]['POS_NEW'])) + ' new cases reported today.'))"
   ]
  },
  {
   "cell_type": "code",
   "execution_count": 6,
   "id": "compound-nightmare",
   "metadata": {
    "execution": {
     "iopub.execute_input": "2021-05-12T22:16:35.214670Z",
     "iopub.status.busy": "2021-05-12T22:16:35.214088Z",
     "iopub.status.idle": "2021-05-12T22:16:35.516812Z",
     "shell.execute_reply": "2021-05-12T22:16:35.517295Z"
    },
    "jupyter": {
     "source_hidden": true
    },
    "papermill": {
     "duration": 0.31639,
     "end_time": "2021-05-12T22:16:35.517457",
     "exception": false,
     "start_time": "2021-05-12T22:16:35.201067",
     "status": "completed"
    },
    "scrolled": false,
    "tags": [
     "hide-input"
    ]
   },
   "outputs": [
    {
     "data": {
      "image/png": "[encoded data removed]",
      "text/plain": [
       "<Figure size 864x432 with 1 Axes>"
      ]
     },
     "metadata": {
      "needs_background": "light"
     },
     "output_type": "display_data"
    }
   ],
   "source": [
    "dc.plot(x='DATE',y='POSITIVE',color='red',grid='True',figsize=(12,6)).set_xlabel('Date');"
   ]
  },
  {
   "cell_type": "markdown",
   "id": "coupled-literacy",
   "metadata": {
    "papermill": {
     "duration": 0.011277,
     "end_time": "2021-05-12T22:16:35.540119",
     "exception": false,
     "start_time": "2021-05-12T22:16:35.528842",
     "status": "completed"
    },
    "tags": []
   },
   "source": [
    "## Figure 1: Cummulative number of positive cases."
   ]
  },
  {
   "cell_type": "code",
   "execution_count": 7,
   "id": "surrounded-reserve",
   "metadata": {
    "execution": {
     "iopub.execute_input": "2021-05-12T22:16:35.570164Z",
     "iopub.status.busy": "2021-05-12T22:16:35.569276Z",
     "iopub.status.idle": "2021-05-12T22:16:35.822501Z",
     "shell.execute_reply": "2021-05-12T22:16:35.821627Z"
    },
    "jupyter": {
     "source_hidden": true
    },
    "papermill": {
     "duration": 0.269915,
     "end_time": "2021-05-12T22:16:35.822637",
     "exception": false,
     "start_time": "2021-05-12T22:16:35.552722",
     "status": "completed"
    },
    "scrolled": false,
    "tags": [
     "hide-input"
    ]
   },
   "outputs": [
    {
     "data": {
      "image/png": "[encoded data removed]",
      "text/plain": [
       "<Figure size 864x432 with 1 Axes>"
      ]
     },
     "metadata": {
      "needs_background": "light"
     },
     "output_type": "display_data"
    }
   ],
   "source": [
    "dc.plot(kind='line',x='DATE',y='7_DAY',color='blue',grid='True',figsize=(12,6)).set_xlabel('Date');"
   ]
  },
  {
   "cell_type": "markdown",
   "id": "professional-savannah",
   "metadata": {
    "papermill": {
     "duration": 0.011573,
     "end_time": "2021-05-12T22:16:35.846308",
     "exception": false,
     "start_time": "2021-05-12T22:16:35.834735",
     "status": "completed"
    },
    "tags": []
   },
   "source": [
    "## Figure 2: Rolling 7-day average of daily new cases."
   ]
  },
  {
   "cell_type": "code",
   "execution_count": 8,
   "id": "stretch-investor",
   "metadata": {
    "execution": {
     "iopub.execute_input": "2021-05-12T22:16:35.874420Z",
     "iopub.status.busy": "2021-05-12T22:16:35.873842Z",
     "iopub.status.idle": "2021-05-12T22:16:36.128654Z",
     "shell.execute_reply": "2021-05-12T22:16:36.129137Z"
    },
    "jupyter": {
     "source_hidden": true
    },
    "papermill": {
     "duration": 0.271233,
     "end_time": "2021-05-12T22:16:36.129300",
     "exception": false,
     "start_time": "2021-05-12T22:16:35.858067",
     "status": "completed"
    },
    "tags": []
   },
   "outputs": [
    {
     "data": {
      "image/png": "[encoded data removed]",
      "text/plain": [
       "<Figure size 864x432 with 1 Axes>"
      ]
     },
     "metadata": {
      "needs_background": "light"
     },
     "output_type": "display_data"
    }
   ],
   "source": [
    "dc.plot(kind='line',x='DATE',y='14_DAY',color='green',grid='True',figsize=(12,6)).set_xlabel('Date');"
   ]
  },
  {
   "cell_type": "markdown",
   "id": "prerequisite-species",
   "metadata": {
    "papermill": {
     "duration": 0.013729,
     "end_time": "2021-05-12T22:16:36.156350",
     "exception": false,
     "start_time": "2021-05-12T22:16:36.142621",
     "status": "completed"
    },
    "tags": []
   },
   "source": [
    "## Figure 3: Rolling 14-day average of daily new cases."
   ]
  },
  {
   "cell_type": "markdown",
   "id": "palestinian-guard",
   "metadata": {
    "papermill": {
     "duration": 0.013003,
     "end_time": "2021-05-12T22:16:36.182021",
     "exception": false,
     "start_time": "2021-05-12T22:16:36.169018",
     "status": "completed"
    },
    "tags": []
   },
   "source": [
    "Data source: [Wisconsin Department of Health Services](https://data.dhsgis.wi.gov/datasets/covid-19-historical-data-by-county)"
   ]
  },
  {
   "cell_type": "code",
   "execution_count": 9,
   "id": "proof-medicare",
   "metadata": {
    "execution": {
     "iopub.execute_input": "2021-05-12T22:16:36.213391Z",
     "iopub.status.busy": "2021-05-12T22:16:36.212803Z",
     "iopub.status.idle": "2021-05-12T22:16:36.216352Z",
     "shell.execute_reply": "2021-05-12T22:16:36.215844Z"
    },
    "jupyter": {
     "source_hidden": true
    },
    "papermill": {
     "duration": 0.021119,
     "end_time": "2021-05-12T22:16:36.216470",
     "exception": false,
     "start_time": "2021-05-12T22:16:36.195351",
     "status": "completed"
    },
    "tags": []
   },
   "outputs": [
    {
     "data": {
      "text/html": [
       "<style>\n",
       "div.input {\n",
       "    display:none;\n",
       "}\n",
       "</style>\n"
      ],
      "text/plain": [
       "<IPython.core.display.HTML object>"
      ]
     },
     "metadata": {},
     "output_type": "display_data"
    }
   ],
   "source": [
    "%%html\n",
    "<style>\n",
    "div.input {\n",
    "    display:none;\n",
    "}\n",
    "</style>"
   ]
  }
 ],
 "metadata": {
  "kernelspec": {
   "display_name": "Python 3",
   "language": "python",
   "name": "python3"
  },
  "language_info": {
   "codemirror_mode": {
    "name": "ipython",
    "version": 3
   },
   "file_extension": ".py",
   "mimetype": "text/x-python",
   "name": "python",
   "nbconvert_exporter": "python",
   "pygments_lexer": "ipython3",
   "version": "3.8.10"
  },
  "papermill": {
   "duration": 4.641526,
   "end_time": "2021-05-12T22:16:36.536865",
   "environment_variables": {},
   "exception": null,
   "input_path": "DunnCounty_COVID19.ipynb",
   "output_path": "DunnCounty_COVID19.ipynb",
   "parameters": {
    "Start": "True",
    "secretsPath": "/home/runner/work/_temp/secrets.json"
   },
   "start_time": "2021-05-12T22:16:31.895339",
   "version": "1.1.16"
  }
 },
 "nbformat": 4,
 "nbformat_minor": 5
}