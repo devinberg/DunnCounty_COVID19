{
 "cells": [
  {
   "cell_type": "code",
   "execution_count": 1,
   "id": "solar-understanding",
   "metadata": {
    "execution": {
     "iopub.execute_input": "2021-03-09T10:17:58.111874Z",
     "iopub.status.busy": "2021-03-09T10:17:58.111227Z",
     "iopub.status.idle": "2021-03-09T10:17:58.956718Z",
     "shell.execute_reply": "2021-03-09T10:17:58.956131Z"
    },
    "jupyter": {
     "source_hidden": true
    },
    "papermill": {
     "duration": 0.865497,
     "end_time": "2021-03-09T10:17:58.956866",
     "exception": false,
     "start_time": "2021-03-09T10:17:58.091369",
     "status": "completed"
    },
    "scrolled": true,
    "tags": [
     "hide-input"
    ]
   },
   "outputs": [],
   "source": [
    "import pandas as pd\n",
    "import matplotlib.pyplot as plt\n",
    "from matplotlib import dates\n",
    "from IPython.display import display, Markdown\n",
    "%matplotlib inline"
   ]
  },
  {
   "cell_type": "code",
   "execution_count": 2,
   "id": "purple-playlist",
   "metadata": {
    "execution": {
     "iopub.execute_input": "2021-03-09T10:17:58.981862Z",
     "iopub.status.busy": "2021-03-09T10:17:58.981250Z",
     "iopub.status.idle": "2021-03-09T10:17:59.599683Z",
     "shell.execute_reply": "2021-03-09T10:17:59.599186Z"
    },
    "jupyter": {
     "source_hidden": true
    },
    "papermill": {
     "duration": 0.633145,
     "end_time": "2021-03-09T10:17:59.599809",
     "exception": false,
     "start_time": "2021-03-09T10:17:58.966664",
     "status": "completed"
    },
    "scrolled": true,
    "tags": [
     "hide-input"
    ]
   },
   "outputs": [],
   "source": [
    "# This is the data for all of Wisconsin.\n",
    "url = \"https://opendata.arcgis.com/datasets/5374188992374b318d3e2305216ee413_12.csv\"\n",
    "data = pd.read_csv(url, parse_dates=['DATE'], low_memory=False)"
   ]
  },
  {
   "cell_type": "code",
   "execution_count": 3,
   "id": "proprietary-klein",
   "metadata": {
    "execution": {
     "iopub.execute_input": "2021-03-09T10:17:59.624567Z",
     "iopub.status.busy": "2021-03-09T10:17:59.623963Z",
     "iopub.status.idle": "2021-03-09T10:17:59.632934Z",
     "shell.execute_reply": "2021-03-09T10:17:59.632427Z"
    },
    "jupyter": {
     "source_hidden": true
    },
    "papermill": {
     "duration": 0.023973,
     "end_time": "2021-03-09T10:17:59.633049",
     "exception": false,
     "start_time": "2021-03-09T10:17:59.609076",
     "status": "completed"
    },
    "scrolled": true,
    "tags": [
     "hide-input"
    ]
   },
   "outputs": [],
   "source": [
    "dc = data.groupby('NAME').get_group('Dunn').sort_values(by='DATE') # Select the data for Dunn County from the full data.\n",
    "PNi = dc.columns.get_loc(\"POS_NEW\")\n",
    "dc['7_DAY'] = dc.iloc[:,PNi].rolling(window=7).mean() # Calculates the rolling 7-day average of new cases.\n",
    "dc['14_DAY'] = dc.iloc[:,PNi].rolling(window=14).mean() # Calculates the rolling 14-day average of new cases."
   ]
  },
  {
   "cell_type": "code",
   "execution_count": 4,
   "id": "steady-supervision",
   "metadata": {
    "execution": {
     "iopub.execute_input": "2021-03-09T10:17:59.655903Z",
     "iopub.status.busy": "2021-03-09T10:17:59.655405Z",
     "iopub.status.idle": "2021-03-09T10:17:59.658835Z",
     "shell.execute_reply": "2021-03-09T10:17:59.658394Z"
    },
    "jupyter": {
     "source_hidden": true
    },
    "papermill": {
     "duration": 0.017415,
     "end_time": "2021-03-09T10:17:59.658933",
     "exception": false,
     "start_time": "2021-03-09T10:17:59.641518",
     "status": "completed"
    },
    "scrolled": true,
    "tags": [
     "hide-input"
    ]
   },
   "outputs": [
    {
     "data": {
      "text/markdown": [
       "### Last updated: March 08, 2021"
      ],
      "text/plain": [
       "<IPython.core.display.Markdown object>"
      ]
     },
     "metadata": {},
     "output_type": "display_data"
    }
   ],
   "source": [
    "display(Markdown('### Last updated: ' + dc.iloc[-1]['DATE'].strftime(\"%B %d, %Y\")))"
   ]
  },
  {
   "cell_type": "code",
   "execution_count": 5,
   "id": "lonely-pitch",
   "metadata": {
    "execution": {
     "iopub.execute_input": "2021-03-09T10:17:59.681066Z",
     "iopub.status.busy": "2021-03-09T10:17:59.680548Z",
     "iopub.status.idle": "2021-03-09T10:17:59.683147Z",
     "shell.execute_reply": "2021-03-09T10:17:59.683608Z"
    },
    "jupyter": {
     "source_hidden": true
    },
    "papermill": {
     "duration": 0.01624,
     "end_time": "2021-03-09T10:17:59.683751",
     "exception": false,
     "start_time": "2021-03-09T10:17:59.667511",
     "status": "completed"
    },
    "tags": [
     "hide-input"
    ]
   },
   "outputs": [
    {
     "data": {
      "text/markdown": [
       "# Dunn County has 4283 total positive cases, with 0 new cases reported today."
      ],
      "text/plain": [
       "<IPython.core.display.Markdown object>"
      ]
     },
     "metadata": {},
     "output_type": "display_data"
    }
   ],
   "source": [
    "display(Markdown('# Dunn County has ' + str(dc.iloc[-1]['POSITIVE']) + ' total positive cases, with '+ str(int(dc.iloc[-1]['POS_NEW'])) + ' new cases reported today.'))"
   ]
  },
  {
   "cell_type": "code",
   "execution_count": 6,
   "id": "compound-nightmare",
   "metadata": {
    "execution": {
     "iopub.execute_input": "2021-03-09T10:17:59.708700Z",
     "iopub.status.busy": "2021-03-09T10:17:59.708177Z",
     "iopub.status.idle": "2021-03-09T10:17:59.993958Z",
     "shell.execute_reply": "2021-03-09T10:17:59.994432Z"
    },
    "jupyter": {
     "source_hidden": true
    },
    "papermill": {
     "duration": 0.300786,
     "end_time": "2021-03-09T10:17:59.994582",
     "exception": false,
     "start_time": "2021-03-09T10:17:59.693796",
     "status": "completed"
    },
    "scrolled": false,
    "tags": [
     "hide-input"
    ]
   },
   "outputs": [
    {
     "data": {
      "image/png": "[encoded data removed]",
      "text/plain": [
       "<Figure size 864x432 with 1 Axes>"
      ]
     },
     "metadata": {
      "needs_background": "light"
     },
     "output_type": "display_data"
    }
   ],
   "source": [
    "dc.plot(x='DATE',y='POSITIVE',color='red',grid='True',figsize=(12,6)).set_xlabel('Date');"
   ]
  },
  {
   "cell_type": "markdown",
   "id": "coupled-literacy",
   "metadata": {
    "papermill": {
     "duration": 0.011812,
     "end_time": "2021-03-09T10:18:00.018935",
     "exception": false,
     "start_time": "2021-03-09T10:18:00.007123",
     "status": "completed"
    },
    "tags": []
   },
   "source": [
    "## Figure 1: Cummulative number of positive cases."
   ]
  },
  {
   "cell_type": "code",
   "execution_count": 7,
   "id": "surrounded-reserve",
   "metadata": {
    "execution": {
     "iopub.execute_input": "2021-03-09T10:18:00.045813Z",
     "iopub.status.busy": "2021-03-09T10:18:00.045268Z",
     "iopub.status.idle": "2021-03-09T10:18:00.271509Z",
     "shell.execute_reply": "2021-03-09T10:18:00.272036Z"
    },
    "jupyter": {
     "source_hidden": true
    },
    "papermill": {
     "duration": 0.242306,
     "end_time": "2021-03-09T10:18:00.272245",
     "exception": false,
     "start_time": "2021-03-09T10:18:00.029939",
     "status": "completed"
    },
    "scrolled": false,
    "tags": [
     "hide-input"
    ]
   },
   "outputs": [
    {
     "data": {
      "image/png": "[encoded data removed]",
      "text/plain": [
       "<Figure size 864x432 with 1 Axes>"
      ]
     },
     "metadata": {
      "needs_background": "light"
     },
     "output_type": "display_data"
    }
   ],
   "source": [
    "dc.plot(kind='line',x='DATE',y='7_DAY',color='blue',grid='True',figsize=(12,6)).set_xlabel('Date');"
   ]
  },
  {
   "cell_type": "markdown",
   "id": "professional-savannah",
   "metadata": {
    "papermill": {
     "duration": 0.012402,
     "end_time": "2021-03-09T10:18:00.298312",
     "exception": false,
     "start_time": "2021-03-09T10:18:00.285910",
     "status": "completed"
    },
    "tags": []
   },
   "source": [
    "## Figure 2: Rolling 7-day average of daily new cases."
   ]
  },
  {
   "cell_type": "code",
   "execution_count": 8,
   "id": "stretch-investor",
   "metadata": {
    "execution": {
     "iopub.execute_input": "2021-03-09T10:18:00.348944Z",
     "iopub.status.busy": "2021-03-09T10:18:00.328219Z",
     "iopub.status.idle": "2021-03-09T10:18:00.568206Z",
     "shell.execute_reply": "2021-03-09T10:18:00.568651Z"
    },
    "jupyter": {
     "source_hidden": true
    },
    "papermill": {
     "duration": 0.258834,
     "end_time": "2021-03-09T10:18:00.568823",
     "exception": false,
     "start_time": "2021-03-09T10:18:00.309989",
     "status": "completed"
    },
    "tags": []
   },
   "outputs": [
    {
     "data": {
      "image/png": "[encoded data removed]",
      "text/plain": [
       "<Figure size 864x432 with 1 Axes>"
      ]
     },
     "metadata": {
      "needs_background": "light"
     },
     "output_type": "display_data"
    }
   ],
   "source": [
    "dc.plot(kind='line',x='DATE',y='14_DAY',color='green',grid='True',figsize=(12,6)).set_xlabel('Date');"
   ]
  },
  {
   "cell_type": "markdown",
   "id": "prerequisite-species",
   "metadata": {
    "papermill": {
     "duration": 0.012813,
     "end_time": "2021-03-09T10:18:00.594918",
     "exception": false,
     "start_time": "2021-03-09T10:18:00.582105",
     "status": "completed"
    },
    "tags": []
   },
   "source": [
    "## Figure 3: Rolling 14-day average of daily new cases."
   ]
  },
  {
   "cell_type": "markdown",
   "id": "palestinian-guard",
   "metadata": {
    "papermill": {
     "duration": 0.012463,
     "end_time": "2021-03-09T10:18:00.619957",
     "exception": false,
     "start_time": "2021-03-09T10:18:00.607494",
     "status": "completed"
    },
    "tags": []
   },
   "source": [
    "Data source: [Wisconsin Department of Health Services](https://data.dhsgis.wi.gov/datasets/covid-19-historical-data-table/)"
   ]
  },
  {
   "cell_type": "code",
   "execution_count": 9,
   "id": "proof-medicare",
   "metadata": {
    "execution": {
     "iopub.execute_input": "2021-03-09T10:18:00.651313Z",
     "iopub.status.busy": "2021-03-09T10:18:00.650777Z",
     "iopub.status.idle": "2021-03-09T10:18:00.656487Z",
     "shell.execute_reply": "2021-03-09T10:18:00.656977Z"
    },
    "jupyter": {
     "source_hidden": true
    },
    "papermill": {
     "duration": 0.023396,
     "end_time": "2021-03-09T10:18:00.657201",
     "exception": false,
     "start_time": "2021-03-09T10:18:00.633805",
     "status": "completed"
    },
    "tags": []
   },
   "outputs": [
    {
     "data": {
      "text/html": [
       "<style>\n",
       "div.input {\n",
       "    display:none;\n",
       "}\n",
       "</style>\n"
      ],
      "text/plain": [
       "<IPython.core.display.HTML object>"
      ]
     },
     "metadata": {},
     "output_type": "display_data"
    }
   ],
   "source": [
    "%%html\n",
    "<style>\n",
    "div.input {\n",
    "    display:none;\n",
    "}\n",
    "</style>"
   ]
  }
 ],
 "metadata": {
  "kernelspec": {
   "display_name": "Python 3",
   "language": "python",
   "name": "python3"
  },
  "language_info": {
   "codemirror_mode": {
    "name": "ipython",
    "version": 3
   },
   "file_extension": ".py",
   "mimetype": "text/x-python",
   "name": "python",
   "nbconvert_exporter": "python",
   "pygments_lexer": "ipython3",
   "version": "3.8.8"
  },
  "papermill": {
   "duration": 4.286879,
   "end_time": "2021-03-09T10:18:00.977722",
   "environment_variables": {},
   "exception": null,
   "input_path": "DunnCounty_COVID19.ipynb",
   "output_path": "DunnCounty_COVID19.ipynb",
   "parameters": {
    "Start": "True",
    "secretsPath": "/home/runner/work/_temp/secrets.json"
   },
   "start_time": "2021-03-09T10:17:56.690843",
   "version": "1.1.16"
  }
 },
 "nbformat": 4,
 "nbformat_minor": 5
}