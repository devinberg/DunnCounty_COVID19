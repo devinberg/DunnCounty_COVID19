{
 "cells": [
  {
   "cell_type": "code",
   "execution_count": 1,
   "id": "solar-understanding",
   "metadata": {
    "execution": {
     "iopub.execute_input": "2021-01-23T22:29:44.122237Z",
     "iopub.status.busy": "2021-01-23T22:29:44.120480Z",
     "iopub.status.idle": "2021-01-23T22:29:46.366038Z",
     "shell.execute_reply": "2021-01-23T22:29:46.365081Z"
    },
    "jupyter": {
     "source_hidden": true
    },
    "papermill": {
     "duration": 2.265198,
     "end_time": "2021-01-23T22:29:46.366229",
     "exception": false,
     "start_time": "2021-01-23T22:29:44.101031",
     "status": "completed"
    },
    "scrolled": true,
    "tags": [
     "hide-input"
    ]
   },
   "outputs": [],
   "source": [
    "import pandas as pd\n",
    "import matplotlib.pyplot as plt\n",
    "from matplotlib import dates\n",
    "from IPython.display import display, Markdown\n",
    "%matplotlib inline"
   ]
  },
  {
   "cell_type": "code",
   "execution_count": 2,
   "id": "purple-playlist",
   "metadata": {
    "execution": {
     "iopub.execute_input": "2021-01-23T22:29:46.387729Z",
     "iopub.status.busy": "2021-01-23T22:29:46.387267Z",
     "iopub.status.idle": "2021-01-23T22:29:47.471461Z",
     "shell.execute_reply": "2021-01-23T22:29:47.470570Z"
    },
    "jupyter": {
     "source_hidden": true
    },
    "papermill": {
     "duration": 1.097075,
     "end_time": "2021-01-23T22:29:47.471598",
     "exception": false,
     "start_time": "2021-01-23T22:29:46.374523",
     "status": "completed"
    },
    "scrolled": true,
    "tags": [
     "hide-input"
    ]
   },
   "outputs": [],
   "source": [
    "# This is the data for all of Wisconsin.\n",
    "url = \"https://opendata.arcgis.com/datasets/5374188992374b318d3e2305216ee413_12.csv\"\n",
    "data = pd.read_csv(url, parse_dates=['DATE'], low_memory=False)"
   ]
  },
  {
   "cell_type": "code",
   "execution_count": 3,
   "id": "proprietary-klein",
   "metadata": {
    "execution": {
     "iopub.execute_input": "2021-01-23T22:29:47.492542Z",
     "iopub.status.busy": "2021-01-23T22:29:47.492009Z",
     "iopub.status.idle": "2021-01-23T22:29:47.499554Z",
     "shell.execute_reply": "2021-01-23T22:29:47.499059Z"
    },
    "jupyter": {
     "source_hidden": true
    },
    "papermill": {
     "duration": 0.019992,
     "end_time": "2021-01-23T22:29:47.499679",
     "exception": false,
     "start_time": "2021-01-23T22:29:47.479687",
     "status": "completed"
    },
    "scrolled": true,
    "tags": [
     "hide-input"
    ]
   },
   "outputs": [],
   "source": [
    "dc = data.groupby('NAME').get_group('Dunn').sort_values(by='DATE') # Select the data for Dunn County from the full data.\n",
    "PNi = dc.columns.get_loc(\"POS_NEW\")\n",
    "dc['7_DAY'] = dc.iloc[:,PNi].rolling(window=7).mean() # Calculates the rolling 7-day average of new cases.\n",
    "dc['14_DAY'] = dc.iloc[:,PNi].rolling(window=14).mean() # Calculates the rolling 14-day average of new cases."
   ]
  },
  {
   "cell_type": "code",
   "execution_count": 4,
   "id": "steady-supervision",
   "metadata": {
    "execution": {
     "iopub.execute_input": "2021-01-23T22:29:47.520215Z",
     "iopub.status.busy": "2021-01-23T22:29:47.519783Z",
     "iopub.status.idle": "2021-01-23T22:29:47.524208Z",
     "shell.execute_reply": "2021-01-23T22:29:47.523856Z"
    },
    "jupyter": {
     "source_hidden": true
    },
    "papermill": {
     "duration": 0.017113,
     "end_time": "2021-01-23T22:29:47.524307",
     "exception": false,
     "start_time": "2021-01-23T22:29:47.507194",
     "status": "completed"
    },
    "scrolled": true,
    "tags": [
     "hide-input"
    ]
   },
   "outputs": [
    {
     "data": {
      "text/markdown": [
       "### Last updated: January 23, 2021"
      ],
      "text/plain": [
       "<IPython.core.display.Markdown object>"
      ]
     },
     "metadata": {},
     "output_type": "display_data"
    }
   ],
   "source": [
    "display(Markdown('### Last updated: ' + dc.iloc[-1]['DATE'].strftime(\"%B %d, %Y\")))"
   ]
  },
  {
   "cell_type": "code",
   "execution_count": 5,
   "id": "lonely-pitch",
   "metadata": {
    "execution": {
     "iopub.execute_input": "2021-01-23T22:29:47.543920Z",
     "iopub.status.busy": "2021-01-23T22:29:47.543457Z",
     "iopub.status.idle": "2021-01-23T22:29:47.545404Z",
     "shell.execute_reply": "2021-01-23T22:29:47.544986Z"
    },
    "jupyter": {
     "source_hidden": true
    },
    "papermill": {
     "duration": 0.01362,
     "end_time": "2021-01-23T22:29:47.545491",
     "exception": false,
     "start_time": "2021-01-23T22:29:47.531871",
     "status": "completed"
    },
    "tags": [
     "hide-input"
    ]
   },
   "outputs": [
    {
     "data": {
      "text/markdown": [
       "# Dunn County has 3945 total positive cases, with 7 new cases reported today."
      ],
      "text/plain": [
       "<IPython.core.display.Markdown object>"
      ]
     },
     "metadata": {},
     "output_type": "display_data"
    }
   ],
   "source": [
    "display(Markdown('# Dunn County has ' + str(dc.iloc[-1]['POSITIVE']) + ' total positive cases, with '+ str(int(dc.iloc[-1]['POS_NEW'])) + ' new cases reported today.'))"
   ]
  },
  {
   "cell_type": "code",
   "execution_count": 6,
   "id": "compound-nightmare",
   "metadata": {
    "execution": {
     "iopub.execute_input": "2021-01-23T22:29:47.564693Z",
     "iopub.status.busy": "2021-01-23T22:29:47.564229Z",
     "iopub.status.idle": "2021-01-23T22:29:47.792234Z",
     "shell.execute_reply": "2021-01-23T22:29:47.791577Z"
    },
    "jupyter": {
     "source_hidden": true
    },
    "papermill": {
     "duration": 0.239359,
     "end_time": "2021-01-23T22:29:47.792402",
     "exception": false,
     "start_time": "2021-01-23T22:29:47.553043",
     "status": "completed"
    },
    "scrolled": false,
    "tags": [
     "hide-input"
    ]
   },
   "outputs": [
    {
     "data": {
      "image/png": "[encoded data removed]",
      "text/plain": [
       "<Figure size 864x432 with 1 Axes>"
      ]
     },
     "metadata": {
      "needs_background": "light"
     },
     "output_type": "display_data"
    }
   ],
   "source": [
    "dc.plot(x='DATE',y='POSITIVE',color='red',grid='True',figsize=(12,6)).set_xlabel('Date');"
   ]
  },
  {
   "cell_type": "markdown",
   "id": "coupled-literacy",
   "metadata": {
    "papermill": {
     "duration": 0.009436,
     "end_time": "2021-01-23T22:29:47.812467",
     "exception": false,
     "start_time": "2021-01-23T22:29:47.803031",
     "status": "completed"
    },
    "tags": []
   },
   "source": [
    "## Figure 1: Cummulative number of positive cases."
   ]
  },
  {
   "cell_type": "code",
   "execution_count": 7,
   "id": "surrounded-reserve",
   "metadata": {
    "execution": {
     "iopub.execute_input": "2021-01-23T22:29:47.836627Z",
     "iopub.status.busy": "2021-01-23T22:29:47.836139Z",
     "iopub.status.idle": "2021-01-23T22:29:48.036234Z",
     "shell.execute_reply": "2021-01-23T22:29:48.036989Z"
    },
    "jupyter": {
     "source_hidden": true
    },
    "papermill": {
     "duration": 0.215474,
     "end_time": "2021-01-23T22:29:48.037235",
     "exception": false,
     "start_time": "2021-01-23T22:29:47.821761",
     "status": "completed"
    },
    "scrolled": false,
    "tags": [
     "hide-input"
    ]
   },
   "outputs": [
    {
     "data": {
      "image/png": "[encoded data removed]",
      "text/plain": [
       "<Figure size 864x432 with 1 Axes>"
      ]
     },
     "metadata": {
      "needs_background": "light"
     },
     "output_type": "display_data"
    }
   ],
   "source": [
    "dc.plot(kind='line',x='DATE',y='7_DAY',color='blue',grid='True',figsize=(12,6)).set_xlabel('Date');"
   ]
  },
  {
   "cell_type": "markdown",
   "id": "professional-savannah",
   "metadata": {
    "papermill": {
     "duration": 0.01056,
     "end_time": "2021-01-23T22:29:48.059415",
     "exception": false,
     "start_time": "2021-01-23T22:29:48.048855",
     "status": "completed"
    },
    "tags": []
   },
   "source": [
    "## Figure 2: Rolling 7-day average of daily new cases."
   ]
  },
  {
   "cell_type": "code",
   "execution_count": 8,
   "id": "stretch-investor",
   "metadata": {
    "execution": {
     "iopub.execute_input": "2021-01-23T22:29:48.086704Z",
     "iopub.status.busy": "2021-01-23T22:29:48.086203Z",
     "iopub.status.idle": "2021-01-23T22:29:48.285900Z",
     "shell.execute_reply": "2021-01-23T22:29:48.286658Z"
    },
    "jupyter": {
     "source_hidden": true
    },
    "papermill": {
     "duration": 0.216459,
     "end_time": "2021-01-23T22:29:48.286905",
     "exception": false,
     "start_time": "2021-01-23T22:29:48.070446",
     "status": "completed"
    },
    "tags": []
   },
   "outputs": [
    {
     "data": {
      "image/png": "[encoded data removed]",
      "text/plain": [
       "<Figure size 864x432 with 1 Axes>"
      ]
     },
     "metadata": {
      "needs_background": "light"
     },
     "output_type": "display_data"
    }
   ],
   "source": [
    "dc.plot(kind='line',x='DATE',y='14_DAY',color='green',grid='True',figsize=(12,6)).set_xlabel('Date');"
   ]
  },
  {
   "cell_type": "markdown",
   "id": "prerequisite-species",
   "metadata": {
    "papermill": {
     "duration": 0.010808,
     "end_time": "2021-01-23T22:29:48.311171",
     "exception": false,
     "start_time": "2021-01-23T22:29:48.300363",
     "status": "completed"
    },
    "tags": []
   },
   "source": [
    "## Figure 3: Rolling 14-day average of daily new cases."
   ]
  },
  {
   "cell_type": "markdown",
   "id": "palestinian-guard",
   "metadata": {
    "papermill": {
     "duration": 0.01053,
     "end_time": "2021-01-23T22:29:48.332117",
     "exception": false,
     "start_time": "2021-01-23T22:29:48.321587",
     "status": "completed"
    },
    "tags": []
   },
   "source": [
    "Data source: [Wisconsin Department of Health Services](https://data.dhsgis.wi.gov/datasets/covid-19-historical-data-table/)"
   ]
  },
  {
   "cell_type": "code",
   "execution_count": 9,
   "id": "proof-medicare",
   "metadata": {
    "execution": {
     "iopub.execute_input": "2021-01-23T22:29:48.356928Z",
     "iopub.status.busy": "2021-01-23T22:29:48.356500Z",
     "iopub.status.idle": "2021-01-23T22:29:48.360029Z",
     "shell.execute_reply": "2021-01-23T22:29:48.360435Z"
    },
    "jupyter": {
     "source_hidden": true
    },
    "papermill": {
     "duration": 0.018412,
     "end_time": "2021-01-23T22:29:48.360543",
     "exception": false,
     "start_time": "2021-01-23T22:29:48.342131",
     "status": "completed"
    },
    "tags": []
   },
   "outputs": [
    {
     "data": {
      "text/html": [
       "<style>\n",
       "div.input {\n",
       "    display:none;\n",
       "}\n",
       "</style>\n"
      ],
      "text/plain": [
       "<IPython.core.display.HTML object>"
      ]
     },
     "metadata": {},
     "output_type": "display_data"
    }
   ],
   "source": [
    "%%html\n",
    "<style>\n",
    "div.input {\n",
    "    display:none;\n",
    "}\n",
    "</style>"
   ]
  }
 ],
 "metadata": {
  "kernelspec": {
   "display_name": "Python 3",
   "language": "python",
   "name": "python3"
  },
  "language_info": {
   "codemirror_mode": {
    "name": "ipython",
    "version": 3
   },
   "file_extension": ".py",
   "mimetype": "text/x-python",
   "name": "python",
   "nbconvert_exporter": "python",
   "pygments_lexer": "ipython3",
   "version": "3.8.6"
  },
  "papermill": {
   "duration": 6.006465,
   "end_time": "2021-01-23T22:29:48.677749",
   "environment_variables": {},
   "exception": null,
   "input_path": "DunnCounty_COVID19.ipynb",
   "output_path": "DunnCounty_COVID19.ipynb",
   "parameters": {
    "Start": "True",
    "secretsPath": "/home/runner/work/_temp/secrets.json"
   },
   "start_time": "2021-01-23T22:29:42.671284",
   "version": "1.1.16"
  }
 },
 "nbformat": 4,
 "nbformat_minor": 5
}