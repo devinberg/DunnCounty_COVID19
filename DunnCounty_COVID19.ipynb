{
 "cells": [
  {
   "cell_type": "code",
   "execution_count": 1,
   "id": "solar-understanding",
   "metadata": {
    "execution": {
     "iopub.execute_input": "2021-02-13T10:11:41.373747Z",
     "iopub.status.busy": "2021-02-13T10:11:41.372826Z",
     "iopub.status.idle": "2021-02-13T10:11:42.328810Z",
     "shell.execute_reply": "2021-02-13T10:11:42.328170Z"
    },
    "jupyter": {
     "source_hidden": true
    },
    "papermill": {
     "duration": 0.978848,
     "end_time": "2021-02-13T10:11:42.328961",
     "exception": false,
     "start_time": "2021-02-13T10:11:41.350113",
     "status": "completed"
    },
    "scrolled": true,
    "tags": [
     "hide-input"
    ]
   },
   "outputs": [],
   "source": [
    "import pandas as pd\n",
    "import matplotlib.pyplot as plt\n",
    "from matplotlib import dates\n",
    "from IPython.display import display, Markdown\n",
    "%matplotlib inline"
   ]
  },
  {
   "cell_type": "code",
   "execution_count": 2,
   "id": "purple-playlist",
   "metadata": {
    "execution": {
     "iopub.execute_input": "2021-02-13T10:11:42.356031Z",
     "iopub.status.busy": "2021-02-13T10:11:42.355383Z",
     "iopub.status.idle": "2021-02-13T10:11:43.036953Z",
     "shell.execute_reply": "2021-02-13T10:11:43.037436Z"
    },
    "jupyter": {
     "source_hidden": true
    },
    "papermill": {
     "duration": 0.697215,
     "end_time": "2021-02-13T10:11:43.037613",
     "exception": false,
     "start_time": "2021-02-13T10:11:42.340398",
     "status": "completed"
    },
    "scrolled": true,
    "tags": [
     "hide-input"
    ]
   },
   "outputs": [],
   "source": [
    "# This is the data for all of Wisconsin.\n",
    "url = \"https://opendata.arcgis.com/datasets/5374188992374b318d3e2305216ee413_12.csv\"\n",
    "data = pd.read_csv(url, parse_dates=['DATE'], low_memory=False)"
   ]
  },
  {
   "cell_type": "code",
   "execution_count": 3,
   "id": "proprietary-klein",
   "metadata": {
    "execution": {
     "iopub.execute_input": "2021-02-13T10:11:43.062845Z",
     "iopub.status.busy": "2021-02-13T10:11:43.061899Z",
     "iopub.status.idle": "2021-02-13T10:11:43.072065Z",
     "shell.execute_reply": "2021-02-13T10:11:43.071528Z"
    },
    "jupyter": {
     "source_hidden": true
    },
    "papermill": {
     "duration": 0.024849,
     "end_time": "2021-02-13T10:11:43.072172",
     "exception": false,
     "start_time": "2021-02-13T10:11:43.047323",
     "status": "completed"
    },
    "scrolled": true,
    "tags": [
     "hide-input"
    ]
   },
   "outputs": [],
   "source": [
    "dc = data.groupby('NAME').get_group('Dunn').sort_values(by='DATE') # Select the data for Dunn County from the full data.\n",
    "PNi = dc.columns.get_loc(\"POS_NEW\")\n",
    "dc['7_DAY'] = dc.iloc[:,PNi].rolling(window=7).mean() # Calculates the rolling 7-day average of new cases.\n",
    "dc['14_DAY'] = dc.iloc[:,PNi].rolling(window=14).mean() # Calculates the rolling 14-day average of new cases."
   ]
  },
  {
   "cell_type": "code",
   "execution_count": 4,
   "id": "steady-supervision",
   "metadata": {
    "execution": {
     "iopub.execute_input": "2021-02-13T10:11:43.097631Z",
     "iopub.status.busy": "2021-02-13T10:11:43.096543Z",
     "iopub.status.idle": "2021-02-13T10:11:43.100371Z",
     "shell.execute_reply": "2021-02-13T10:11:43.100830Z"
    },
    "jupyter": {
     "source_hidden": true
    },
    "papermill": {
     "duration": 0.020039,
     "end_time": "2021-02-13T10:11:43.100958",
     "exception": false,
     "start_time": "2021-02-13T10:11:43.080919",
     "status": "completed"
    },
    "scrolled": true,
    "tags": [
     "hide-input"
    ]
   },
   "outputs": [
    {
     "data": {
      "text/markdown": [
       "### Last updated: February 12, 2021"
      ],
      "text/plain": [
       "<IPython.core.display.Markdown object>"
      ]
     },
     "metadata": {},
     "output_type": "display_data"
    }
   ],
   "source": [
    "display(Markdown('### Last updated: ' + dc.iloc[-1]['DATE'].strftime(\"%B %d, %Y\")))"
   ]
  },
  {
   "cell_type": "code",
   "execution_count": 5,
   "id": "lonely-pitch",
   "metadata": {
    "execution": {
     "iopub.execute_input": "2021-02-13T10:11:43.129594Z",
     "iopub.status.busy": "2021-02-13T10:11:43.128978Z",
     "iopub.status.idle": "2021-02-13T10:11:43.132997Z",
     "shell.execute_reply": "2021-02-13T10:11:43.132432Z"
    },
    "jupyter": {
     "source_hidden": true
    },
    "papermill": {
     "duration": 0.018006,
     "end_time": "2021-02-13T10:11:43.133104",
     "exception": false,
     "start_time": "2021-02-13T10:11:43.115098",
     "status": "completed"
    },
    "tags": [
     "hide-input"
    ]
   },
   "outputs": [
    {
     "data": {
      "text/markdown": [
       "# Dunn County has 4168 total positive cases, with 12 new cases reported today."
      ],
      "text/plain": [
       "<IPython.core.display.Markdown object>"
      ]
     },
     "metadata": {},
     "output_type": "display_data"
    }
   ],
   "source": [
    "display(Markdown('# Dunn County has ' + str(dc.iloc[-1]['POSITIVE']) + ' total positive cases, with '+ str(int(dc.iloc[-1]['POS_NEW'])) + ' new cases reported today.'))"
   ]
  },
  {
   "cell_type": "code",
   "execution_count": 6,
   "id": "compound-nightmare",
   "metadata": {
    "execution": {
     "iopub.execute_input": "2021-02-13T10:11:43.157626Z",
     "iopub.status.busy": "2021-02-13T10:11:43.157008Z",
     "iopub.status.idle": "2021-02-13T10:11:43.423073Z",
     "shell.execute_reply": "2021-02-13T10:11:43.423556Z"
    },
    "jupyter": {
     "source_hidden": true
    },
    "papermill": {
     "duration": 0.281049,
     "end_time": "2021-02-13T10:11:43.423713",
     "exception": false,
     "start_time": "2021-02-13T10:11:43.142664",
     "status": "completed"
    },
    "scrolled": false,
    "tags": [
     "hide-input"
    ]
   },
   "outputs": [
    {
     "data": {
      "image/png": "[encoded data removed]",
      "text/plain": [
       "<Figure size 864x432 with 1 Axes>"
      ]
     },
     "metadata": {
      "needs_background": "light"
     },
     "output_type": "display_data"
    }
   ],
   "source": [
    "dc.plot(x='DATE',y='POSITIVE',color='red',grid='True',figsize=(12,6)).set_xlabel('Date');"
   ]
  },
  {
   "cell_type": "markdown",
   "id": "coupled-literacy",
   "metadata": {
    "papermill": {
     "duration": 0.011058,
     "end_time": "2021-02-13T10:11:43.446220",
     "exception": false,
     "start_time": "2021-02-13T10:11:43.435162",
     "status": "completed"
    },
    "tags": []
   },
   "source": [
    "## Figure 1: Cummulative number of positive cases."
   ]
  },
  {
   "cell_type": "code",
   "execution_count": 7,
   "id": "surrounded-reserve",
   "metadata": {
    "execution": {
     "iopub.execute_input": "2021-02-13T10:11:43.472060Z",
     "iopub.status.busy": "2021-02-13T10:11:43.471538Z",
     "iopub.status.idle": "2021-02-13T10:11:43.757121Z",
     "shell.execute_reply": "2021-02-13T10:11:43.757578Z"
    },
    "jupyter": {
     "source_hidden": true
    },
    "papermill": {
     "duration": 0.301221,
     "end_time": "2021-02-13T10:11:43.757737",
     "exception": false,
     "start_time": "2021-02-13T10:11:43.456516",
     "status": "completed"
    },
    "scrolled": false,
    "tags": [
     "hide-input"
    ]
   },
   "outputs": [
    {
     "data": {
      "image/png": "[encoded data removed]",
      "text/plain": [
       "<Figure size 864x432 with 1 Axes>"
      ]
     },
     "metadata": {
      "needs_background": "light"
     },
     "output_type": "display_data"
    }
   ],
   "source": [
    "dc.plot(kind='line',x='DATE',y='7_DAY',color='blue',grid='True',figsize=(12,6)).set_xlabel('Date');"
   ]
  },
  {
   "cell_type": "markdown",
   "id": "professional-savannah",
   "metadata": {
    "papermill": {
     "duration": 0.011485,
     "end_time": "2021-02-13T10:11:43.781711",
     "exception": false,
     "start_time": "2021-02-13T10:11:43.770226",
     "status": "completed"
    },
    "tags": []
   },
   "source": [
    "## Figure 2: Rolling 7-day average of daily new cases."
   ]
  },
  {
   "cell_type": "code",
   "execution_count": 8,
   "id": "stretch-investor",
   "metadata": {
    "execution": {
     "iopub.execute_input": "2021-02-13T10:11:43.810546Z",
     "iopub.status.busy": "2021-02-13T10:11:43.810036Z",
     "iopub.status.idle": "2021-02-13T10:11:44.100767Z",
     "shell.execute_reply": "2021-02-13T10:11:44.100156Z"
    },
    "jupyter": {
     "source_hidden": true
    },
    "papermill": {
     "duration": 0.307532,
     "end_time": "2021-02-13T10:11:44.100901",
     "exception": false,
     "start_time": "2021-02-13T10:11:43.793369",
     "status": "completed"
    },
    "tags": []
   },
   "outputs": [
    {
     "data": {
      "image/png": "[encoded data removed]",
      "text/plain": [
       "<Figure size 864x432 with 1 Axes>"
      ]
     },
     "metadata": {
      "needs_background": "light"
     },
     "output_type": "display_data"
    }
   ],
   "source": [
    "dc.plot(kind='line',x='DATE',y='14_DAY',color='green',grid='True',figsize=(12,6)).set_xlabel('Date');"
   ]
  },
  {
   "cell_type": "markdown",
   "id": "prerequisite-species",
   "metadata": {
    "papermill": {
     "duration": 0.01323,
     "end_time": "2021-02-13T10:11:44.128016",
     "exception": false,
     "start_time": "2021-02-13T10:11:44.114786",
     "status": "completed"
    },
    "tags": []
   },
   "source": [
    "## Figure 3: Rolling 14-day average of daily new cases."
   ]
  },
  {
   "cell_type": "markdown",
   "id": "palestinian-guard",
   "metadata": {
    "papermill": {
     "duration": 0.012807,
     "end_time": "2021-02-13T10:11:44.154335",
     "exception": false,
     "start_time": "2021-02-13T10:11:44.141528",
     "status": "completed"
    },
    "tags": []
   },
   "source": [
    "Data source: [Wisconsin Department of Health Services](https://data.dhsgis.wi.gov/datasets/covid-19-historical-data-table/)"
   ]
  },
  {
   "cell_type": "code",
   "execution_count": 9,
   "id": "proof-medicare",
   "metadata": {
    "execution": {
     "iopub.execute_input": "2021-02-13T10:11:44.184894Z",
     "iopub.status.busy": "2021-02-13T10:11:44.184347Z",
     "iopub.status.idle": "2021-02-13T10:11:44.188237Z",
     "shell.execute_reply": "2021-02-13T10:11:44.187764Z"
    },
    "jupyter": {
     "source_hidden": true
    },
    "papermill": {
     "duration": 0.021395,
     "end_time": "2021-02-13T10:11:44.188351",
     "exception": false,
     "start_time": "2021-02-13T10:11:44.166956",
     "status": "completed"
    },
    "tags": []
   },
   "outputs": [
    {
     "data": {
      "text/html": [
       "<style>\n",
       "div.input {\n",
       "    display:none;\n",
       "}\n",
       "</style>\n"
      ],
      "text/plain": [
       "<IPython.core.display.HTML object>"
      ]
     },
     "metadata": {},
     "output_type": "display_data"
    }
   ],
   "source": [
    "%%html\n",
    "<style>\n",
    "div.input {\n",
    "    display:none;\n",
    "}\n",
    "</style>"
   ]
  }
 ],
 "metadata": {
  "kernelspec": {
   "display_name": "Python 3",
   "language": "python",
   "name": "python3"
  },
  "language_info": {
   "codemirror_mode": {
    "name": "ipython",
    "version": 3
   },
   "file_extension": ".py",
   "mimetype": "text/x-python",
   "name": "python",
   "nbconvert_exporter": "python",
   "pygments_lexer": "ipython3",
   "version": "3.8.7"
  },
  "papermill": {
   "duration": 4.467594,
   "end_time": "2021-02-13T10:11:44.510765",
   "environment_variables": {},
   "exception": null,
   "input_path": "DunnCounty_COVID19.ipynb",
   "output_path": "DunnCounty_COVID19.ipynb",
   "parameters": {
    "Start": "True",
    "secretsPath": "/home/runner/work/_temp/secrets.json"
   },
   "start_time": "2021-02-13T10:11:40.043171",
   "version": "1.1.16"
  }
 },
 "nbformat": 4,
 "nbformat_minor": 5
}