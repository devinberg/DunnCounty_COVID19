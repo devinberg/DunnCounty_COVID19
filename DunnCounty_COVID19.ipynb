{
 "cells": [
  {
   "cell_type": "code",
   "execution_count": 1,
   "id": "solar-understanding",
   "metadata": {
    "execution": {
     "iopub.execute_input": "2021-05-30T10:42:59.691220Z",
     "iopub.status.busy": "2021-05-30T10:42:59.690666Z",
     "iopub.status.idle": "2021-05-30T10:43:00.585532Z",
     "shell.execute_reply": "2021-05-30T10:43:00.584768Z"
    },
    "jupyter": {
     "source_hidden": true
    },
    "papermill": {
     "duration": 0.914658,
     "end_time": "2021-05-30T10:43:00.585716",
     "exception": false,
     "start_time": "2021-05-30T10:42:59.671058",
     "status": "completed"
    },
    "scrolled": true,
    "tags": [
     "hide-input"
    ]
   },
   "outputs": [],
   "source": [
    "import pandas as pd\n",
    "import matplotlib.pyplot as plt\n",
    "from matplotlib import dates\n",
    "from IPython.display import display, Markdown\n",
    "%matplotlib inline"
   ]
  },
  {
   "cell_type": "code",
   "execution_count": 2,
   "id": "purple-playlist",
   "metadata": {
    "execution": {
     "iopub.execute_input": "2021-05-30T10:43:00.610181Z",
     "iopub.status.busy": "2021-05-30T10:43:00.609648Z",
     "iopub.status.idle": "2021-05-30T10:43:01.323565Z",
     "shell.execute_reply": "2021-05-30T10:43:01.322553Z"
    },
    "jupyter": {
     "source_hidden": true
    },
    "papermill": {
     "duration": 0.728597,
     "end_time": "2021-05-30T10:43:01.323707",
     "exception": false,
     "start_time": "2021-05-30T10:43:00.595110",
     "status": "completed"
    },
    "scrolled": true,
    "tags": [
     "hide-input"
    ]
   },
   "outputs": [],
   "source": [
    "# This is the data for all of Wisconsin.\n",
    "url = \"https://opendata.arcgis.com/datasets/80ff9d4897db4d7692f0f4ad28447cab_12.csv\"\n",
    "data = pd.read_csv(url, parse_dates=['DATE'], low_memory=False)"
   ]
  },
  {
   "cell_type": "code",
   "execution_count": 3,
   "id": "proprietary-klein",
   "metadata": {
    "execution": {
     "iopub.execute_input": "2021-05-30T10:43:01.350601Z",
     "iopub.status.busy": "2021-05-30T10:43:01.349857Z",
     "iopub.status.idle": "2021-05-30T10:43:01.360277Z",
     "shell.execute_reply": "2021-05-30T10:43:01.359799Z"
    },
    "jupyter": {
     "source_hidden": true
    },
    "papermill": {
     "duration": 0.025874,
     "end_time": "2021-05-30T10:43:01.360395",
     "exception": false,
     "start_time": "2021-05-30T10:43:01.334521",
     "status": "completed"
    },
    "scrolled": true,
    "tags": [
     "hide-input"
    ]
   },
   "outputs": [],
   "source": [
    "dc = data.groupby('NAME').get_group('Dunn').sort_values(by='DATE') # Select the data for Dunn County from the full data.\n",
    "PNi = dc.columns.get_loc(\"POS_NEW\")\n",
    "dc['7_DAY'] = dc.iloc[:,PNi].rolling(window=7).mean() # Calculates the rolling 7-day average of new cases.\n",
    "dc['14_DAY'] = dc.iloc[:,PNi].rolling(window=14).mean() # Calculates the rolling 14-day average of new cases."
   ]
  },
  {
   "cell_type": "code",
   "execution_count": 4,
   "id": "steady-supervision",
   "metadata": {
    "execution": {
     "iopub.execute_input": "2021-05-30T10:43:01.384656Z",
     "iopub.status.busy": "2021-05-30T10:43:01.384131Z",
     "iopub.status.idle": "2021-05-30T10:43:01.387185Z",
     "shell.execute_reply": "2021-05-30T10:43:01.386712Z"
    },
    "jupyter": {
     "source_hidden": true
    },
    "papermill": {
     "duration": 0.017891,
     "end_time": "2021-05-30T10:43:01.387295",
     "exception": false,
     "start_time": "2021-05-30T10:43:01.369404",
     "status": "completed"
    },
    "scrolled": true,
    "tags": [
     "hide-input"
    ]
   },
   "outputs": [
    {
     "data": {
      "text/markdown": [
       "### Last updated: May 28, 2021"
      ],
      "text/plain": [
       "<IPython.core.display.Markdown object>"
      ]
     },
     "metadata": {},
     "output_type": "display_data"
    }
   ],
   "source": [
    "display(Markdown('### Last updated: ' + dc.iloc[-1]['DATE'].strftime(\"%B %d, %Y\")))"
   ]
  },
  {
   "cell_type": "code",
   "execution_count": 5,
   "id": "lonely-pitch",
   "metadata": {
    "execution": {
     "iopub.execute_input": "2021-05-30T10:43:01.409954Z",
     "iopub.status.busy": "2021-05-30T10:43:01.409422Z",
     "iopub.status.idle": "2021-05-30T10:43:01.412168Z",
     "shell.execute_reply": "2021-05-30T10:43:01.411736Z"
    },
    "jupyter": {
     "source_hidden": true
    },
    "papermill": {
     "duration": 0.015987,
     "end_time": "2021-05-30T10:43:01.412279",
     "exception": false,
     "start_time": "2021-05-30T10:43:01.396292",
     "status": "completed"
    },
    "tags": [
     "hide-input"
    ]
   },
   "outputs": [
    {
     "data": {
      "text/markdown": [
       "# Dunn County has 4683 total positive cases, with 0 new cases reported today."
      ],
      "text/plain": [
       "<IPython.core.display.Markdown object>"
      ]
     },
     "metadata": {},
     "output_type": "display_data"
    }
   ],
   "source": [
    "display(Markdown('# Dunn County has ' + str(dc.iloc[-1]['POSITIVE']) + ' total positive cases, with '+ str(int(dc.iloc[-1]['POS_NEW'])) + ' new cases reported today.'))"
   ]
  },
  {
   "cell_type": "code",
   "execution_count": 6,
   "id": "compound-nightmare",
   "metadata": {
    "execution": {
     "iopub.execute_input": "2021-05-30T10:43:01.435704Z",
     "iopub.status.busy": "2021-05-30T10:43:01.435151Z",
     "iopub.status.idle": "2021-05-30T10:43:01.711978Z",
     "shell.execute_reply": "2021-05-30T10:43:01.712744Z"
    },
    "jupyter": {
     "source_hidden": true
    },
    "papermill": {
     "duration": 0.290903,
     "end_time": "2021-05-30T10:43:01.712979",
     "exception": false,
     "start_time": "2021-05-30T10:43:01.422076",
     "status": "completed"
    },
    "scrolled": false,
    "tags": [
     "hide-input"
    ]
   },
   "outputs": [
    {
     "data": {
      "image/png": "[encoded data removed]",
      "text/plain": [
       "<Figure size 864x432 with 1 Axes>"
      ]
     },
     "metadata": {
      "needs_background": "light"
     },
     "output_type": "display_data"
    }
   ],
   "source": [
    "dc.plot(x='DATE',y='POSITIVE',color='red',grid='True',figsize=(12,6)).set_xlabel('Date');"
   ]
  },
  {
   "cell_type": "markdown",
   "id": "coupled-literacy",
   "metadata": {
    "papermill": {
     "duration": 0.010292,
     "end_time": "2021-05-30T10:43:01.734035",
     "exception": false,
     "start_time": "2021-05-30T10:43:01.723743",
     "status": "completed"
    },
    "tags": []
   },
   "source": [
    "## Figure 1: Cummulative number of positive cases."
   ]
  },
  {
   "cell_type": "code",
   "execution_count": 7,
   "id": "surrounded-reserve",
   "metadata": {
    "execution": {
     "iopub.execute_input": "2021-05-30T10:43:01.758345Z",
     "iopub.status.busy": "2021-05-30T10:43:01.757803Z",
     "iopub.status.idle": "2021-05-30T10:43:01.988735Z",
     "shell.execute_reply": "2021-05-30T10:43:01.988245Z"
    },
    "jupyter": {
     "source_hidden": true
    },
    "papermill": {
     "duration": 0.24507,
     "end_time": "2021-05-30T10:43:01.988849",
     "exception": false,
     "start_time": "2021-05-30T10:43:01.743779",
     "status": "completed"
    },
    "scrolled": false,
    "tags": [
     "hide-input"
    ]
   },
   "outputs": [
    {
     "data": {
      "image/png": "[encoded data removed]",
      "text/plain": [
       "<Figure size 864x432 with 1 Axes>"
      ]
     },
     "metadata": {
      "needs_background": "light"
     },
     "output_type": "display_data"
    }
   ],
   "source": [
    "dc.plot(kind='line',x='DATE',y='7_DAY',color='blue',grid='True',figsize=(12,6)).set_xlabel('Date');"
   ]
  },
  {
   "cell_type": "markdown",
   "id": "professional-savannah",
   "metadata": {
    "papermill": {
     "duration": 0.011175,
     "end_time": "2021-05-30T10:43:02.011568",
     "exception": false,
     "start_time": "2021-05-30T10:43:02.000393",
     "status": "completed"
    },
    "tags": []
   },
   "source": [
    "## Figure 2: Rolling 7-day average of daily new cases."
   ]
  },
  {
   "cell_type": "code",
   "execution_count": 8,
   "id": "stretch-investor",
   "metadata": {
    "execution": {
     "iopub.execute_input": "2021-05-30T10:43:02.039175Z",
     "iopub.status.busy": "2021-05-30T10:43:02.038668Z",
     "iopub.status.idle": "2021-05-30T10:43:02.262592Z",
     "shell.execute_reply": "2021-05-30T10:43:02.263077Z"
    },
    "jupyter": {
     "source_hidden": true
    },
    "papermill": {
     "duration": 0.24056,
     "end_time": "2021-05-30T10:43:02.263241",
     "exception": false,
     "start_time": "2021-05-30T10:43:02.022681",
     "status": "completed"
    },
    "tags": []
   },
   "outputs": [
    {
     "data": {
      "image/png": "[encoded data removed]",
      "text/plain": [
       "<Figure size 864x432 with 1 Axes>"
      ]
     },
     "metadata": {
      "needs_background": "light"
     },
     "output_type": "display_data"
    }
   ],
   "source": [
    "dc.plot(kind='line',x='DATE',y='14_DAY',color='green',grid='True',figsize=(12,6)).set_xlabel('Date');"
   ]
  },
  {
   "cell_type": "markdown",
   "id": "prerequisite-species",
   "metadata": {
    "papermill": {
     "duration": 0.012964,
     "end_time": "2021-05-30T10:43:02.289075",
     "exception": false,
     "start_time": "2021-05-30T10:43:02.276111",
     "status": "completed"
    },
    "tags": []
   },
   "source": [
    "## Figure 3: Rolling 14-day average of daily new cases."
   ]
  },
  {
   "cell_type": "markdown",
   "id": "palestinian-guard",
   "metadata": {
    "papermill": {
     "duration": 0.012478,
     "end_time": "2021-05-30T10:43:02.313929",
     "exception": false,
     "start_time": "2021-05-30T10:43:02.301451",
     "status": "completed"
    },
    "tags": []
   },
   "source": [
    "Data source: [Wisconsin Department of Health Services](https://data.dhsgis.wi.gov/datasets/covid-19-historical-data-by-county)"
   ]
  },
  {
   "cell_type": "code",
   "execution_count": 9,
   "id": "proof-medicare",
   "metadata": {
    "execution": {
     "iopub.execute_input": "2021-05-30T10:43:02.343197Z",
     "iopub.status.busy": "2021-05-30T10:43:02.342658Z",
     "iopub.status.idle": "2021-05-30T10:43:02.346378Z",
     "shell.execute_reply": "2021-05-30T10:43:02.346778Z"
    },
    "jupyter": {
     "source_hidden": true
    },
    "papermill": {
     "duration": 0.020882,
     "end_time": "2021-05-30T10:43:02.346917",
     "exception": false,
     "start_time": "2021-05-30T10:43:02.326035",
     "status": "completed"
    },
    "tags": []
   },
   "outputs": [
    {
     "data": {
      "text/html": [
       "<style>\n",
       "div.input {\n",
       "    display:none;\n",
       "}\n",
       "</style>\n"
      ],
      "text/plain": [
       "<IPython.core.display.HTML object>"
      ]
     },
     "metadata": {},
     "output_type": "display_data"
    }
   ],
   "source": [
    "%%html\n",
    "<style>\n",
    "div.input {\n",
    "    display:none;\n",
    "}\n",
    "</style>"
   ]
  }
 ],
 "metadata": {
  "kernelspec": {
   "display_name": "Python 3",
   "language": "python",
   "name": "python3"
  },
  "language_info": {
   "codemirror_mode": {
    "name": "ipython",
    "version": 3
   },
   "file_extension": ".py",
   "mimetype": "text/x-python",
   "name": "python",
   "nbconvert_exporter": "python",
   "pygments_lexer": "ipython3",
   "version": "3.8.10"
  },
  "papermill": {
   "duration": 4.43913,
   "end_time": "2021-05-30T10:43:02.666577",
   "environment_variables": {},
   "exception": null,
   "input_path": "DunnCounty_COVID19.ipynb",
   "output_path": "DunnCounty_COVID19.ipynb",
   "parameters": {
    "Start": "True",
    "secretsPath": "/home/runner/work/_temp/secrets.json"
   },
   "start_time": "2021-05-30T10:42:58.227447",
   "version": "1.1.16"
  }
 },
 "nbformat": 4,
 "nbformat_minor": 5
}