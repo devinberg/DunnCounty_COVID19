{
 "cells": [
  {
   "cell_type": "code",
   "execution_count": 1,
   "metadata": {
    "execution": {
     "iopub.execute_input": "2020-11-24T22:11:12.755023Z",
     "iopub.status.busy": "2020-11-24T22:11:12.754351Z",
     "iopub.status.idle": "2020-11-24T22:11:14.350380Z",
     "shell.execute_reply": "2020-11-24T22:11:14.351195Z"
    },
    "jupyter": {
     "source_hidden": true
    },
    "papermill": {
     "duration": 1.611356,
     "end_time": "2020-11-24T22:11:14.351501",
     "exception": false,
     "start_time": "2020-11-24T22:11:12.740145",
     "status": "completed"
    },
    "scrolled": true,
    "tags": [
     "hide-input"
    ]
   },
   "outputs": [],
   "source": [
    "import pandas as pd\n",
    "import matplotlib.pyplot as plt\n",
    "from matplotlib import dates\n",
    "from IPython.display import display, Markdown\n",
    "%matplotlib inline"
   ]
  },
  {
   "cell_type": "code",
   "execution_count": 2,
   "metadata": {
    "execution": {
     "iopub.execute_input": "2020-11-24T22:11:14.373486Z",
     "iopub.status.busy": "2020-11-24T22:11:14.372824Z",
     "iopub.status.idle": "2020-11-24T22:11:15.477946Z",
     "shell.execute_reply": "2020-11-24T22:11:15.477308Z"
    },
    "jupyter": {
     "source_hidden": true
    },
    "papermill": {
     "duration": 1.118221,
     "end_time": "2020-11-24T22:11:15.478121",
     "exception": false,
     "start_time": "2020-11-24T22:11:14.359900",
     "status": "completed"
    },
    "scrolled": true,
    "tags": [
     "hide-input"
    ]
   },
   "outputs": [],
   "source": [
    "# This is the data for all of Wisconsin.\n",
    "url = \"https://opendata.arcgis.com/datasets/5374188992374b318d3e2305216ee413_12.csv\"\n",
    "data = pd.read_csv(url, parse_dates=['DATE'], low_memory=False)"
   ]
  },
  {
   "cell_type": "code",
   "execution_count": 3,
   "metadata": {
    "execution": {
     "iopub.execute_input": "2020-11-24T22:11:15.503029Z",
     "iopub.status.busy": "2020-11-24T22:11:15.502375Z",
     "iopub.status.idle": "2020-11-24T22:11:15.512684Z",
     "shell.execute_reply": "2020-11-24T22:11:15.512093Z"
    },
    "jupyter": {
     "source_hidden": true
    },
    "papermill": {
     "duration": 0.024872,
     "end_time": "2020-11-24T22:11:15.512833",
     "exception": false,
     "start_time": "2020-11-24T22:11:15.487961",
     "status": "completed"
    },
    "scrolled": true,
    "tags": [
     "hide-input"
    ]
   },
   "outputs": [],
   "source": [
    "dc = data.groupby('NAME').get_group('Dunn').sort_values(by='DATE') # Select the data for Dunn County from the full data.\n",
    "PNi = dc.columns.get_loc(\"POS_NEW\")\n",
    "dc['7_DAY'] = dc.iloc[:,PNi].rolling(window=7).mean() # Calculates the rolling 7-day average of new cases.\n",
    "dc['14_DAY'] = dc.iloc[:,PNi].rolling(window=14).mean() # Calculates the rolling 14-day average of new cases."
   ]
  },
  {
   "cell_type": "code",
   "execution_count": 4,
   "metadata": {
    "execution": {
     "iopub.execute_input": "2020-11-24T22:11:15.536297Z",
     "iopub.status.busy": "2020-11-24T22:11:15.535535Z",
     "iopub.status.idle": "2020-11-24T22:11:15.541606Z",
     "shell.execute_reply": "2020-11-24T22:11:15.540960Z"
    },
    "jupyter": {
     "source_hidden": true
    },
    "papermill": {
     "duration": 0.021145,
     "end_time": "2020-11-24T22:11:15.541829",
     "exception": false,
     "start_time": "2020-11-24T22:11:15.520684",
     "status": "completed"
    },
    "scrolled": true,
    "tags": [
     "hide-input"
    ]
   },
   "outputs": [
    {
     "data": {
      "text/markdown": [
       "### Last updated: November 24, 2020"
      ],
      "text/plain": [
       "<IPython.core.display.Markdown object>"
      ]
     },
     "metadata": {},
     "output_type": "display_data"
    }
   ],
   "source": [
    "display(Markdown('### Last updated: ' + dc.iloc[-1]['DATE'].strftime(\"%B %d, %Y\")))"
   ]
  },
  {
   "cell_type": "code",
   "execution_count": 5,
   "metadata": {
    "execution": {
     "iopub.execute_input": "2020-11-24T22:11:15.565437Z",
     "iopub.status.busy": "2020-11-24T22:11:15.564807Z",
     "iopub.status.idle": "2020-11-24T22:11:15.570654Z",
     "shell.execute_reply": "2020-11-24T22:11:15.569954Z"
    },
    "jupyter": {
     "source_hidden": true
    },
    "papermill": {
     "duration": 0.019658,
     "end_time": "2020-11-24T22:11:15.570803",
     "exception": false,
     "start_time": "2020-11-24T22:11:15.551145",
     "status": "completed"
    },
    "tags": [
     "hide-input"
    ]
   },
   "outputs": [
    {
     "data": {
      "text/markdown": [
       "# Dunn County has 2494 total positive cases, with 48 new cases reported today."
      ],
      "text/plain": [
       "<IPython.core.display.Markdown object>"
      ]
     },
     "metadata": {},
     "output_type": "display_data"
    }
   ],
   "source": [
    "display(Markdown('# Dunn County has ' + str(dc.iloc[-1]['POSITIVE']) + ' total positive cases, with '+ str(int(dc.iloc[-1]['POS_NEW'])) + ' new cases reported today.'))"
   ]
  },
  {
   "cell_type": "code",
   "execution_count": 6,
   "metadata": {
    "execution": {
     "iopub.execute_input": "2020-11-24T22:11:15.593162Z",
     "iopub.status.busy": "2020-11-24T22:11:15.592534Z",
     "iopub.status.idle": "2020-11-24T22:11:15.895366Z",
     "shell.execute_reply": "2020-11-24T22:11:15.896633Z"
    },
    "jupyter": {
     "source_hidden": true
    },
    "papermill": {
     "duration": 0.316768,
     "end_time": "2020-11-24T22:11:15.896823",
     "exception": false,
     "start_time": "2020-11-24T22:11:15.580055",
     "status": "completed"
    },
    "scrolled": false,
    "tags": [
     "hide-input"
    ]
   },
   "outputs": [
    {
     "data": {
      "image/png": "[encoded data removed]",
      "text/plain": [
       "<Figure size 864x432 with 1 Axes>"
      ]
     },
     "metadata": {
      "needs_background": "light"
     },
     "output_type": "display_data"
    }
   ],
   "source": [
    "dc.plot(x='DATE',y='POSITIVE',color='red',grid='True',figsize=(12,6)).set_xlabel('Date');"
   ]
  },
  {
   "cell_type": "markdown",
   "metadata": {
    "papermill": {
     "duration": 0.010478,
     "end_time": "2020-11-24T22:11:15.918475",
     "exception": false,
     "start_time": "2020-11-24T22:11:15.907997",
     "status": "completed"
    },
    "tags": []
   },
   "source": [
    "## Figure 1: Cummulative number of positive cases."
   ]
  },
  {
   "cell_type": "code",
   "execution_count": 7,
   "metadata": {
    "execution": {
     "iopub.execute_input": "2020-11-24T22:11:15.944035Z",
     "iopub.status.busy": "2020-11-24T22:11:15.943404Z",
     "iopub.status.idle": "2020-11-24T22:11:16.239387Z",
     "shell.execute_reply": "2020-11-24T22:11:16.239910Z"
    },
    "jupyter": {
     "source_hidden": true
    },
    "papermill": {
     "duration": 0.3112,
     "end_time": "2020-11-24T22:11:16.240095",
     "exception": false,
     "start_time": "2020-11-24T22:11:15.928895",
     "status": "completed"
    },
    "scrolled": false,
    "tags": [
     "hide-input"
    ]
   },
   "outputs": [
    {
     "data": {
      "image/png": "[encoded data removed]",
      "text/plain": [
       "<Figure size 864x432 with 1 Axes>"
      ]
     },
     "metadata": {
      "needs_background": "light"
     },
     "output_type": "display_data"
    }
   ],
   "source": [
    "dc.plot(kind='line',x='DATE',y='7_DAY',color='blue',grid='True',figsize=(12,6)).set_xlabel('Date');"
   ]
  },
  {
   "cell_type": "markdown",
   "metadata": {
    "papermill": {
     "duration": 0.01191,
     "end_time": "2020-11-24T22:11:16.264096",
     "exception": false,
     "start_time": "2020-11-24T22:11:16.252186",
     "status": "completed"
    },
    "tags": []
   },
   "source": [
    "## Figure 2: Rolling 7-day average of daily new cases."
   ]
  },
  {
   "cell_type": "code",
   "execution_count": 8,
   "metadata": {
    "execution": {
     "iopub.execute_input": "2020-11-24T22:11:16.291847Z",
     "iopub.status.busy": "2020-11-24T22:11:16.291209Z",
     "iopub.status.idle": "2020-11-24T22:11:16.572574Z",
     "shell.execute_reply": "2020-11-24T22:11:16.573140Z"
    },
    "jupyter": {
     "source_hidden": true
    },
    "papermill": {
     "duration": 0.297763,
     "end_time": "2020-11-24T22:11:16.573626",
     "exception": false,
     "start_time": "2020-11-24T22:11:16.275863",
     "status": "completed"
    },
    "tags": []
   },
   "outputs": [
    {
     "data": {
      "image/png": "[encoded data removed]",
      "text/plain": [
       "<Figure size 864x432 with 1 Axes>"
      ]
     },
     "metadata": {
      "needs_background": "light"
     },
     "output_type": "display_data"
    }
   ],
   "source": [
    "dc.plot(kind='line',x='DATE',y='14_DAY',color='green',grid='True',figsize=(12,6)).set_xlabel('Date');"
   ]
  },
  {
   "cell_type": "markdown",
   "metadata": {
    "papermill": {
     "duration": 0.466997,
     "end_time": "2020-11-24T22:11:17.053981",
     "exception": false,
     "start_time": "2020-11-24T22:11:16.586984",
     "status": "completed"
    },
    "tags": []
   },
   "source": [
    "## Figure 3: Rolling 14-day average of daily new cases."
   ]
  },
  {
   "cell_type": "markdown",
   "metadata": {
    "papermill": {
     "duration": 0.011686,
     "end_time": "2020-11-24T22:11:17.111970",
     "exception": false,
     "start_time": "2020-11-24T22:11:17.100284",
     "status": "completed"
    },
    "tags": []
   },
   "source": [
    "Data source: [Wisconsin Department of Health Services](https://data.dhsgis.wi.gov/datasets/covid-19-historical-data-table/)"
   ]
  },
  {
   "cell_type": "code",
   "execution_count": 9,
   "metadata": {
    "execution": {
     "iopub.execute_input": "2020-11-24T22:11:17.147561Z",
     "iopub.status.busy": "2020-11-24T22:11:17.146812Z",
     "iopub.status.idle": "2020-11-24T22:11:17.151915Z",
     "shell.execute_reply": "2020-11-24T22:11:17.151204Z"
    },
    "jupyter": {
     "source_hidden": true
    },
    "papermill": {
     "duration": 0.023261,
     "end_time": "2020-11-24T22:11:17.152048",
     "exception": false,
     "start_time": "2020-11-24T22:11:17.128787",
     "status": "completed"
    },
    "tags": []
   },
   "outputs": [
    {
     "data": {
      "text/html": [
       "<style>\n",
       "div.input {\n",
       "    display:none;\n",
       "}\n",
       "</style>\n"
      ],
      "text/plain": [
       "<IPython.core.display.HTML object>"
      ]
     },
     "metadata": {},
     "output_type": "display_data"
    }
   ],
   "source": [
    "%%html\n",
    "<style>\n",
    "div.input {\n",
    "    display:none;\n",
    "}\n",
    "</style>"
   ]
  }
 ],
 "metadata": {
  "kernelspec": {
   "display_name": "Python 3",
   "language": "python",
   "name": "python3"
  },
  "language_info": {
   "codemirror_mode": {
    "name": "ipython",
    "version": 3
   },
   "file_extension": ".py",
   "mimetype": "text/x-python",
   "name": "python",
   "nbconvert_exporter": "python",
   "pygments_lexer": "ipython3",
   "version": "3.8.6"
  },
  "papermill": {
   "duration": 6.70383,
   "end_time": "2020-11-24T22:11:17.474524",
   "environment_variables": {},
   "exception": null,
   "input_path": "DunnCounty_COVID19.ipynb",
   "output_path": "DunnCounty_COVID19.ipynb",
   "parameters": {
    "Start": "True",
    "secretsPath": "/home/runner/work/_temp/secrets.json"
   },
   "start_time": "2020-11-24T22:11:10.770694",
   "version": "1.1.16"
  }
 },
 "nbformat": 4,
 "nbformat_minor": 2
}