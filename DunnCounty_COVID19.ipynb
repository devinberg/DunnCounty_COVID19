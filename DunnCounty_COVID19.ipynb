{
 "cells": [
  {
   "cell_type": "code",
   "execution_count": 1,
   "id": "solar-understanding",
   "metadata": {
    "execution": {
     "iopub.execute_input": "2021-02-27T22:12:26.025862Z",
     "iopub.status.busy": "2021-02-27T22:12:26.025351Z",
     "iopub.status.idle": "2021-02-27T22:12:28.001009Z",
     "shell.execute_reply": "2021-02-27T22:12:28.000249Z"
    },
    "jupyter": {
     "source_hidden": true
    },
    "papermill": {
     "duration": 1.994486,
     "end_time": "2021-02-27T22:12:28.001195",
     "exception": false,
     "start_time": "2021-02-27T22:12:26.006709",
     "status": "completed"
    },
    "scrolled": true,
    "tags": [
     "hide-input"
    ]
   },
   "outputs": [],
   "source": [
    "import pandas as pd\n",
    "import matplotlib.pyplot as plt\n",
    "from matplotlib import dates\n",
    "from IPython.display import display, Markdown\n",
    "%matplotlib inline"
   ]
  },
  {
   "cell_type": "code",
   "execution_count": 2,
   "id": "purple-playlist",
   "metadata": {
    "execution": {
     "iopub.execute_input": "2021-02-27T22:12:28.025687Z",
     "iopub.status.busy": "2021-02-27T22:12:28.025181Z",
     "iopub.status.idle": "2021-02-27T22:12:28.634441Z",
     "shell.execute_reply": "2021-02-27T22:12:28.633439Z"
    },
    "jupyter": {
     "source_hidden": true
    },
    "papermill": {
     "duration": 0.622185,
     "end_time": "2021-02-27T22:12:28.634571",
     "exception": false,
     "start_time": "2021-02-27T22:12:28.012386",
     "status": "completed"
    },
    "scrolled": true,
    "tags": [
     "hide-input"
    ]
   },
   "outputs": [],
   "source": [
    "# This is the data for all of Wisconsin.\n",
    "url = \"https://opendata.arcgis.com/datasets/5374188992374b318d3e2305216ee413_12.csv\"\n",
    "data = pd.read_csv(url, parse_dates=['DATE'], low_memory=False)"
   ]
  },
  {
   "cell_type": "code",
   "execution_count": 3,
   "id": "proprietary-klein",
   "metadata": {
    "execution": {
     "iopub.execute_input": "2021-02-27T22:12:28.655743Z",
     "iopub.status.busy": "2021-02-27T22:12:28.655234Z",
     "iopub.status.idle": "2021-02-27T22:12:28.663312Z",
     "shell.execute_reply": "2021-02-27T22:12:28.662820Z"
    },
    "jupyter": {
     "source_hidden": true
    },
    "papermill": {
     "duration": 0.021093,
     "end_time": "2021-02-27T22:12:28.663412",
     "exception": false,
     "start_time": "2021-02-27T22:12:28.642319",
     "status": "completed"
    },
    "scrolled": true,
    "tags": [
     "hide-input"
    ]
   },
   "outputs": [],
   "source": [
    "dc = data.groupby('NAME').get_group('Dunn').sort_values(by='DATE') # Select the data for Dunn County from the full data.\n",
    "PNi = dc.columns.get_loc(\"POS_NEW\")\n",
    "dc['7_DAY'] = dc.iloc[:,PNi].rolling(window=7).mean() # Calculates the rolling 7-day average of new cases.\n",
    "dc['14_DAY'] = dc.iloc[:,PNi].rolling(window=14).mean() # Calculates the rolling 14-day average of new cases."
   ]
  },
  {
   "cell_type": "code",
   "execution_count": 4,
   "id": "steady-supervision",
   "metadata": {
    "execution": {
     "iopub.execute_input": "2021-02-27T22:12:28.686150Z",
     "iopub.status.busy": "2021-02-27T22:12:28.685485Z",
     "iopub.status.idle": "2021-02-27T22:12:28.687608Z",
     "shell.execute_reply": "2021-02-27T22:12:28.688063Z"
    },
    "jupyter": {
     "source_hidden": true
    },
    "papermill": {
     "duration": 0.016855,
     "end_time": "2021-02-27T22:12:28.688179",
     "exception": false,
     "start_time": "2021-02-27T22:12:28.671324",
     "status": "completed"
    },
    "scrolled": true,
    "tags": [
     "hide-input"
    ]
   },
   "outputs": [
    {
     "data": {
      "text/markdown": [
       "### Last updated: February 27, 2021"
      ],
      "text/plain": [
       "<IPython.core.display.Markdown object>"
      ]
     },
     "metadata": {},
     "output_type": "display_data"
    }
   ],
   "source": [
    "display(Markdown('### Last updated: ' + dc.iloc[-1]['DATE'].strftime(\"%B %d, %Y\")))"
   ]
  },
  {
   "cell_type": "code",
   "execution_count": 5,
   "id": "lonely-pitch",
   "metadata": {
    "execution": {
     "iopub.execute_input": "2021-02-27T22:12:28.709875Z",
     "iopub.status.busy": "2021-02-27T22:12:28.709383Z",
     "iopub.status.idle": "2021-02-27T22:12:28.712176Z",
     "shell.execute_reply": "2021-02-27T22:12:28.711750Z"
    },
    "jupyter": {
     "source_hidden": true
    },
    "papermill": {
     "duration": 0.015249,
     "end_time": "2021-02-27T22:12:28.712275",
     "exception": false,
     "start_time": "2021-02-27T22:12:28.697026",
     "status": "completed"
    },
    "tags": [
     "hide-input"
    ]
   },
   "outputs": [
    {
     "data": {
      "text/markdown": [
       "# Dunn County has 4255 total positive cases, with 2 new cases reported today."
      ],
      "text/plain": [
       "<IPython.core.display.Markdown object>"
      ]
     },
     "metadata": {},
     "output_type": "display_data"
    }
   ],
   "source": [
    "display(Markdown('# Dunn County has ' + str(dc.iloc[-1]['POSITIVE']) + ' total positive cases, with '+ str(int(dc.iloc[-1]['POS_NEW'])) + ' new cases reported today.'))"
   ]
  },
  {
   "cell_type": "code",
   "execution_count": 6,
   "id": "compound-nightmare",
   "metadata": {
    "execution": {
     "iopub.execute_input": "2021-02-27T22:12:28.733395Z",
     "iopub.status.busy": "2021-02-27T22:12:28.732896Z",
     "iopub.status.idle": "2021-02-27T22:12:28.960081Z",
     "shell.execute_reply": "2021-02-27T22:12:28.960854Z"
    },
    "jupyter": {
     "source_hidden": true
    },
    "papermill": {
     "duration": 0.240193,
     "end_time": "2021-02-27T22:12:28.961090",
     "exception": false,
     "start_time": "2021-02-27T22:12:28.720897",
     "status": "completed"
    },
    "scrolled": false,
    "tags": [
     "hide-input"
    ]
   },
   "outputs": [
    {
     "data": {
      "image/png": "[encoded data removed]",
      "text/plain": [
       "<Figure size 864x432 with 1 Axes>"
      ]
     },
     "metadata": {
      "needs_background": "light"
     },
     "output_type": "display_data"
    }
   ],
   "source": [
    "dc.plot(x='DATE',y='POSITIVE',color='red',grid='True',figsize=(12,6)).set_xlabel('Date');"
   ]
  },
  {
   "cell_type": "markdown",
   "id": "coupled-literacy",
   "metadata": {
    "papermill": {
     "duration": 0.009924,
     "end_time": "2021-02-27T22:12:28.980682",
     "exception": false,
     "start_time": "2021-02-27T22:12:28.970758",
     "status": "completed"
    },
    "tags": []
   },
   "source": [
    "## Figure 1: Cummulative number of positive cases."
   ]
  },
  {
   "cell_type": "code",
   "execution_count": 7,
   "id": "surrounded-reserve",
   "metadata": {
    "execution": {
     "iopub.execute_input": "2021-02-27T22:12:29.005247Z",
     "iopub.status.busy": "2021-02-27T22:12:29.004718Z",
     "iopub.status.idle": "2021-02-27T22:12:29.195354Z",
     "shell.execute_reply": "2021-02-27T22:12:29.195762Z"
    },
    "jupyter": {
     "source_hidden": true
    },
    "papermill": {
     "duration": 0.20563,
     "end_time": "2021-02-27T22:12:29.195901",
     "exception": false,
     "start_time": "2021-02-27T22:12:28.990271",
     "status": "completed"
    },
    "scrolled": false,
    "tags": [
     "hide-input"
    ]
   },
   "outputs": [
    {
     "data": {
      "image/png": "[encoded data removed]",
      "text/plain": [
       "<Figure size 864x432 with 1 Axes>"
      ]
     },
     "metadata": {
      "needs_background": "light"
     },
     "output_type": "display_data"
    }
   ],
   "source": [
    "dc.plot(kind='line',x='DATE',y='7_DAY',color='blue',grid='True',figsize=(12,6)).set_xlabel('Date');"
   ]
  },
  {
   "cell_type": "markdown",
   "id": "professional-savannah",
   "metadata": {
    "papermill": {
     "duration": 0.01158,
     "end_time": "2021-02-27T22:12:29.218803",
     "exception": false,
     "start_time": "2021-02-27T22:12:29.207223",
     "status": "completed"
    },
    "tags": []
   },
   "source": [
    "## Figure 2: Rolling 7-day average of daily new cases."
   ]
  },
  {
   "cell_type": "code",
   "execution_count": 8,
   "id": "stretch-investor",
   "metadata": {
    "execution": {
     "iopub.execute_input": "2021-02-27T22:12:29.245243Z",
     "iopub.status.busy": "2021-02-27T22:12:29.244714Z",
     "iopub.status.idle": "2021-02-27T22:12:29.435537Z",
     "shell.execute_reply": "2021-02-27T22:12:29.436289Z"
    },
    "jupyter": {
     "source_hidden": true
    },
    "papermill": {
     "duration": 0.207446,
     "end_time": "2021-02-27T22:12:29.436519",
     "exception": false,
     "start_time": "2021-02-27T22:12:29.229073",
     "status": "completed"
    },
    "tags": []
   },
   "outputs": [
    {
     "data": {
      "image/png": "[encoded data removed]",
      "text/plain": [
       "<Figure size 864x432 with 1 Axes>"
      ]
     },
     "metadata": {
      "needs_background": "light"
     },
     "output_type": "display_data"
    }
   ],
   "source": [
    "dc.plot(kind='line',x='DATE',y='14_DAY',color='green',grid='True',figsize=(12,6)).set_xlabel('Date');"
   ]
  },
  {
   "cell_type": "markdown",
   "id": "prerequisite-species",
   "metadata": {
    "papermill": {
     "duration": 0.012064,
     "end_time": "2021-02-27T22:12:29.460549",
     "exception": false,
     "start_time": "2021-02-27T22:12:29.448485",
     "status": "completed"
    },
    "tags": []
   },
   "source": [
    "## Figure 3: Rolling 14-day average of daily new cases."
   ]
  },
  {
   "cell_type": "markdown",
   "id": "palestinian-guard",
   "metadata": {
    "papermill": {
     "duration": 0.011496,
     "end_time": "2021-02-27T22:12:29.484050",
     "exception": false,
     "start_time": "2021-02-27T22:12:29.472554",
     "status": "completed"
    },
    "tags": []
   },
   "source": [
    "Data source: [Wisconsin Department of Health Services](https://data.dhsgis.wi.gov/datasets/covid-19-historical-data-table/)"
   ]
  },
  {
   "cell_type": "code",
   "execution_count": 9,
   "id": "proof-medicare",
   "metadata": {
    "execution": {
     "iopub.execute_input": "2021-02-27T22:12:29.511649Z",
     "iopub.status.busy": "2021-02-27T22:12:29.511114Z",
     "iopub.status.idle": "2021-02-27T22:12:29.514780Z",
     "shell.execute_reply": "2021-02-27T22:12:29.515258Z"
    },
    "jupyter": {
     "source_hidden": true
    },
    "papermill": {
     "duration": 0.019276,
     "end_time": "2021-02-27T22:12:29.515382",
     "exception": false,
     "start_time": "2021-02-27T22:12:29.496106",
     "status": "completed"
    },
    "tags": []
   },
   "outputs": [
    {
     "data": {
      "text/html": [
       "<style>\n",
       "div.input {\n",
       "    display:none;\n",
       "}\n",
       "</style>\n"
      ],
      "text/plain": [
       "<IPython.core.display.HTML object>"
      ]
     },
     "metadata": {},
     "output_type": "display_data"
    }
   ],
   "source": [
    "%%html\n",
    "<style>\n",
    "div.input {\n",
    "    display:none;\n",
    "}\n",
    "</style>"
   ]
  }
 ],
 "metadata": {
  "kernelspec": {
   "display_name": "Python 3",
   "language": "python",
   "name": "python3"
  },
  "language_info": {
   "codemirror_mode": {
    "name": "ipython",
    "version": 3
   },
   "file_extension": ".py",
   "mimetype": "text/x-python",
   "name": "python",
   "nbconvert_exporter": "python",
   "pygments_lexer": "ipython3",
   "version": "3.8.7"
  },
  "papermill": {
   "duration": 5.432875,
   "end_time": "2021-02-27T22:12:29.835606",
   "environment_variables": {},
   "exception": null,
   "input_path": "DunnCounty_COVID19.ipynb",
   "output_path": "DunnCounty_COVID19.ipynb",
   "parameters": {
    "Start": "True",
    "secretsPath": "/home/runner/work/_temp/secrets.json"
   },
   "start_time": "2021-02-27T22:12:24.402731",
   "version": "1.1.16"
  }
 },
 "nbformat": 4,
 "nbformat_minor": 5
}