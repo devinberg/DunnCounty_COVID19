{
 "cells": [
  {
   "cell_type": "code",
   "execution_count": 1,
   "metadata": {
    "execution": {
     "iopub.execute_input": "2020-09-23T22:10:13.957367Z",
     "iopub.status.busy": "2020-09-23T22:10:13.956815Z",
     "iopub.status.idle": "2020-09-23T22:10:17.349527Z",
     "shell.execute_reply": "2020-09-23T22:10:17.348898Z"
    },
    "jupyter": {
     "source_hidden": true
    },
    "papermill": {
     "duration": 3.407306,
     "end_time": "2020-09-23T22:10:17.349684",
     "exception": false,
     "start_time": "2020-09-23T22:10:13.942378",
     "status": "completed"
    },
    "scrolled": true,
    "tags": [
     "hide-input"
    ]
   },
   "outputs": [],
   "source": [
    "import pandas as pd\n",
    "import matplotlib.pyplot as plt\n",
    "from matplotlib import dates\n",
    "from IPython.display import display, Markdown\n",
    "%matplotlib inline"
   ]
  },
  {
   "cell_type": "code",
   "execution_count": 2,
   "metadata": {
    "execution": {
     "iopub.execute_input": "2020-09-23T22:10:17.367574Z",
     "iopub.status.busy": "2020-09-23T22:10:17.367113Z",
     "iopub.status.idle": "2020-09-23T22:10:21.219382Z",
     "shell.execute_reply": "2020-09-23T22:10:21.218396Z"
    },
    "jupyter": {
     "source_hidden": true
    },
    "papermill": {
     "duration": 3.86335,
     "end_time": "2020-09-23T22:10:21.219529",
     "exception": false,
     "start_time": "2020-09-23T22:10:17.356179",
     "status": "completed"
    },
    "scrolled": true,
    "tags": [
     "hide-input"
    ]
   },
   "outputs": [],
   "source": [
    "# This is the data for all of Wisconsin.\n",
    "url = \"https://opendata.arcgis.com/datasets/b913e9591eae4912b33dc5b4e88646c5_10.csv\"\n",
    "data = pd.read_csv(url, parse_dates=['DATE'], low_memory=False)"
   ]
  },
  {
   "cell_type": "code",
   "execution_count": 3,
   "metadata": {
    "execution": {
     "iopub.execute_input": "2020-09-23T22:10:21.251340Z",
     "iopub.status.busy": "2020-09-23T22:10:21.250679Z",
     "iopub.status.idle": "2020-09-23T22:10:21.261393Z",
     "shell.execute_reply": "2020-09-23T22:10:21.260876Z"
    },
    "jupyter": {
     "source_hidden": true
    },
    "papermill": {
     "duration": 0.033042,
     "end_time": "2020-09-23T22:10:21.261535",
     "exception": false,
     "start_time": "2020-09-23T22:10:21.228493",
     "status": "completed"
    },
    "scrolled": true,
    "tags": [
     "hide-input"
    ]
   },
   "outputs": [],
   "source": [
    "dc = data.groupby('NAME').get_group('Dunn').sort_values(by='DATE') # Select the data for Dunn County from the full data.\n",
    "PNi = dc.columns.get_loc(\"POS_NEW\")\n",
    "dc['7_DAY'] = dc.iloc[:,PNi].rolling(window=7).mean() # Calculates the rolling 7-day average of new cases.\n",
    "dc['14_DAY'] = dc.iloc[:,PNi].rolling(window=14).mean() # Calculates the rolling 14-day average of new cases."
   ]
  },
  {
   "cell_type": "code",
   "execution_count": 4,
   "metadata": {
    "execution": {
     "iopub.execute_input": "2020-09-23T22:10:21.282892Z",
     "iopub.status.busy": "2020-09-23T22:10:21.282313Z",
     "iopub.status.idle": "2020-09-23T22:10:21.285887Z",
     "shell.execute_reply": "2020-09-23T22:10:21.286329Z"
    },
    "jupyter": {
     "source_hidden": true
    },
    "papermill": {
     "duration": 0.017542,
     "end_time": "2020-09-23T22:10:21.286472",
     "exception": false,
     "start_time": "2020-09-23T22:10:21.268930",
     "status": "completed"
    },
    "scrolled": true,
    "tags": [
     "hide-input"
    ]
   },
   "outputs": [
    {
     "data": {
      "text/markdown": [
       "### Last updated: September 23, 2020"
      ],
      "text/plain": [
       "<IPython.core.display.Markdown object>"
      ]
     },
     "metadata": {},
     "output_type": "display_data"
    }
   ],
   "source": [
    "display(Markdown('### Last updated: ' + dc.iloc[-1]['DATE'].strftime(\"%B %d, %Y\")))"
   ]
  },
  {
   "cell_type": "code",
   "execution_count": 5,
   "metadata": {
    "execution": {
     "iopub.execute_input": "2020-09-23T22:10:21.305610Z",
     "iopub.status.busy": "2020-09-23T22:10:21.305077Z",
     "iopub.status.idle": "2020-09-23T22:10:21.308036Z",
     "shell.execute_reply": "2020-09-23T22:10:21.307491Z"
    },
    "jupyter": {
     "source_hidden": true
    },
    "papermill": {
     "duration": 0.014249,
     "end_time": "2020-09-23T22:10:21.308145",
     "exception": false,
     "start_time": "2020-09-23T22:10:21.293896",
     "status": "completed"
    },
    "tags": [
     "hide-input"
    ]
   },
   "outputs": [
    {
     "data": {
      "text/markdown": [
       "# Dunn County has 426 total positive cases, with 24 new cases reported today."
      ],
      "text/plain": [
       "<IPython.core.display.Markdown object>"
      ]
     },
     "metadata": {},
     "output_type": "display_data"
    }
   ],
   "source": [
    "display(Markdown('# Dunn County has ' + str(dc.iloc[-1]['POSITIVE']) + ' total positive cases, with '+ str(int(dc.iloc[-1]['POS_NEW'])) + ' new cases reported today.'))"
   ]
  },
  {
   "cell_type": "code",
   "execution_count": 6,
   "metadata": {
    "execution": {
     "iopub.execute_input": "2020-09-23T22:10:21.328664Z",
     "iopub.status.busy": "2020-09-23T22:10:21.328119Z",
     "iopub.status.idle": "2020-09-23T22:10:21.529380Z",
     "shell.execute_reply": "2020-09-23T22:10:21.529878Z"
    },
    "jupyter": {
     "source_hidden": true
    },
    "papermill": {
     "duration": 0.214408,
     "end_time": "2020-09-23T22:10:21.530064",
     "exception": false,
     "start_time": "2020-09-23T22:10:21.315656",
     "status": "completed"
    },
    "scrolled": false,
    "tags": [
     "hide-input"
    ]
   },
   "outputs": [
    {
     "data": {
      "image/png": "[encoded data removed]",
      "text/plain": [
       "<Figure size 864x432 with 1 Axes>"
      ]
     },
     "metadata": {
      "needs_background": "light"
     },
     "output_type": "display_data"
    }
   ],
   "source": [
    "dc.plot(x='DATE',y='POSITIVE',color='red',grid='True',figsize=(12,6)).set_xlabel('Date');"
   ]
  },
  {
   "cell_type": "markdown",
   "metadata": {
    "papermill": {
     "duration": 0.009136,
     "end_time": "2020-09-23T22:10:21.548671",
     "exception": false,
     "start_time": "2020-09-23T22:10:21.539535",
     "status": "completed"
    },
    "tags": []
   },
   "source": [
    "## Figure 1: Cummulative number of positive cases."
   ]
  },
  {
   "cell_type": "code",
   "execution_count": 7,
   "metadata": {
    "execution": {
     "iopub.execute_input": "2020-09-23T22:10:21.588617Z",
     "iopub.status.busy": "2020-09-23T22:10:21.588160Z",
     "iopub.status.idle": "2020-09-23T22:10:21.753496Z",
     "shell.execute_reply": "2020-09-23T22:10:21.752928Z"
    },
    "jupyter": {
     "source_hidden": true
    },
    "papermill": {
     "duration": 0.196251,
     "end_time": "2020-09-23T22:10:21.753644",
     "exception": false,
     "start_time": "2020-09-23T22:10:21.557393",
     "status": "completed"
    },
    "scrolled": false,
    "tags": [
     "hide-input"
    ]
   },
   "outputs": [
    {
     "data": {
      "image/png": "[encoded data removed]",
      "text/plain": [
       "<Figure size 864x432 with 1 Axes>"
      ]
     },
     "metadata": {
      "needs_background": "light"
     },
     "output_type": "display_data"
    }
   ],
   "source": [
    "dc.plot(kind='line',x='DATE',y='7_DAY',color='blue',grid='True',figsize=(12,6)).set_xlabel('Date');"
   ]
  },
  {
   "cell_type": "markdown",
   "metadata": {
    "papermill": {
     "duration": 0.009122,
     "end_time": "2020-09-23T22:10:21.772389",
     "exception": false,
     "start_time": "2020-09-23T22:10:21.763267",
     "status": "completed"
    },
    "tags": []
   },
   "source": [
    "## Figure 2: Rolling 7-day average of daily new cases."
   ]
  },
  {
   "cell_type": "code",
   "execution_count": 8,
   "metadata": {
    "execution": {
     "iopub.execute_input": "2020-09-23T22:10:21.815673Z",
     "iopub.status.busy": "2020-09-23T22:10:21.794071Z",
     "iopub.status.idle": "2020-09-23T22:10:22.014080Z",
     "shell.execute_reply": "2020-09-23T22:10:22.013606Z"
    },
    "jupyter": {
     "source_hidden": true
    },
    "papermill": {
     "duration": 0.233515,
     "end_time": "2020-09-23T22:10:22.014215",
     "exception": false,
     "start_time": "2020-09-23T22:10:21.780700",
     "status": "completed"
    },
    "tags": []
   },
   "outputs": [
    {
     "data": {
      "image/png": "[encoded data removed]",
      "text/plain": [
       "<Figure size 864x432 with 1 Axes>"
      ]
     },
     "metadata": {
      "needs_background": "light"
     },
     "output_type": "display_data"
    }
   ],
   "source": [
    "dc.plot(kind='line',x='DATE',y='14_DAY',color='green',grid='True',figsize=(12,6)).set_xlabel('Date');"
   ]
  },
  {
   "cell_type": "markdown",
   "metadata": {
    "papermill": {
     "duration": 0.009568,
     "end_time": "2020-09-23T22:10:22.033807",
     "exception": false,
     "start_time": "2020-09-23T22:10:22.024239",
     "status": "completed"
    },
    "tags": []
   },
   "source": [
    "## Figure 3: Rolling 14-day average of daily new cases."
   ]
  },
  {
   "cell_type": "markdown",
   "metadata": {
    "papermill": {
     "duration": 0.009834,
     "end_time": "2020-09-23T22:10:22.053723",
     "exception": false,
     "start_time": "2020-09-23T22:10:22.043889",
     "status": "completed"
    },
    "tags": []
   },
   "source": [
    "Data source: [Wisconsin Department of Health Services](https://data.dhsgis.wi.gov/datasets/covid-19-historical-data-table/)"
   ]
  },
  {
   "cell_type": "code",
   "execution_count": 9,
   "metadata": {
    "execution": {
     "iopub.execute_input": "2020-09-23T22:10:22.077793Z",
     "iopub.status.busy": "2020-09-23T22:10:22.077152Z",
     "iopub.status.idle": "2020-09-23T22:10:22.082442Z",
     "shell.execute_reply": "2020-09-23T22:10:22.082005Z"
    },
    "jupyter": {
     "source_hidden": true
    },
    "papermill": {
     "duration": 0.019846,
     "end_time": "2020-09-23T22:10:22.082605",
     "exception": false,
     "start_time": "2020-09-23T22:10:22.062759",
     "status": "completed"
    },
    "tags": []
   },
   "outputs": [
    {
     "data": {
      "text/html": [
       "<style>\n",
       "div.input {\n",
       "    display:none;\n",
       "}\n",
       "</style>\n"
      ],
      "text/plain": [
       "<IPython.core.display.HTML object>"
      ]
     },
     "metadata": {},
     "output_type": "display_data"
    }
   ],
   "source": [
    "%%html\n",
    "<style>\n",
    "div.input {\n",
    "    display:none;\n",
    "}\n",
    "</style>"
   ]
  }
 ],
 "metadata": {
  "kernelspec": {
   "display_name": "Python 3",
   "language": "python",
   "name": "python3"
  },
  "language_info": {
   "codemirror_mode": {
    "name": "ipython",
    "version": 3
   },
   "file_extension": ".py",
   "mimetype": "text/x-python",
   "name": "python",
   "nbconvert_exporter": "python",
   "pygments_lexer": "ipython3",
   "version": "3.8.5"
  },
  "papermill": {
   "duration": 11.401915,
   "end_time": "2020-09-23T22:10:23.268657",
   "environment_variables": {},
   "exception": null,
   "input_path": "DunnCounty_COVID19.ipynb",
   "output_path": "DunnCounty_COVID19.ipynb",
   "parameters": {
    "Start": "True",
    "secretsPath": "/home/runner/work/_temp/secrets.json"
   },
   "start_time": "2020-09-23T22:10:11.866742",
   "version": "1.1.16"
  }
 },
 "nbformat": 4,
 "nbformat_minor": 2
}