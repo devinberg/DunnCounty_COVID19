{
 "cells": [
  {
   "cell_type": "code",
   "execution_count": 1,
   "metadata": {
    "execution": {
     "iopub.execute_input": "2020-11-19T10:11:27.053178Z",
     "iopub.status.busy": "2020-11-19T10:11:27.052139Z",
     "iopub.status.idle": "2020-11-19T10:11:31.496570Z",
     "shell.execute_reply": "2020-11-19T10:11:31.495544Z"
    },
    "jupyter": {
     "source_hidden": true
    },
    "papermill": {
     "duration": 4.458168,
     "end_time": "2020-11-19T10:11:31.496793",
     "exception": false,
     "start_time": "2020-11-19T10:11:27.038625",
     "status": "completed"
    },
    "scrolled": true,
    "tags": [
     "hide-input"
    ]
   },
   "outputs": [],
   "source": [
    "import pandas as pd\n",
    "import matplotlib.pyplot as plt\n",
    "from matplotlib import dates\n",
    "from IPython.display import display, Markdown\n",
    "%matplotlib inline"
   ]
  },
  {
   "cell_type": "code",
   "execution_count": 2,
   "metadata": {
    "execution": {
     "iopub.execute_input": "2020-11-19T10:11:31.521147Z",
     "iopub.status.busy": "2020-11-19T10:11:31.520534Z",
     "iopub.status.idle": "2020-11-19T10:11:32.176972Z",
     "shell.execute_reply": "2020-11-19T10:11:32.176452Z"
    },
    "jupyter": {
     "source_hidden": true
    },
    "papermill": {
     "duration": 0.671669,
     "end_time": "2020-11-19T10:11:32.177106",
     "exception": false,
     "start_time": "2020-11-19T10:11:31.505437",
     "status": "completed"
    },
    "scrolled": true,
    "tags": [
     "hide-input"
    ]
   },
   "outputs": [],
   "source": [
    "# This is the data for all of Wisconsin.\n",
    "url = \"https://opendata.arcgis.com/datasets/5374188992374b318d3e2305216ee413_12.csv\"\n",
    "data = pd.read_csv(url, parse_dates=['DATE'], low_memory=False)"
   ]
  },
  {
   "cell_type": "code",
   "execution_count": 3,
   "metadata": {
    "execution": {
     "iopub.execute_input": "2020-11-19T10:11:32.205583Z",
     "iopub.status.busy": "2020-11-19T10:11:32.204889Z",
     "iopub.status.idle": "2020-11-19T10:11:32.218111Z",
     "shell.execute_reply": "2020-11-19T10:11:32.217595Z"
    },
    "jupyter": {
     "source_hidden": true
    },
    "papermill": {
     "duration": 0.032223,
     "end_time": "2020-11-19T10:11:32.218261",
     "exception": false,
     "start_time": "2020-11-19T10:11:32.186038",
     "status": "completed"
    },
    "scrolled": true,
    "tags": [
     "hide-input"
    ]
   },
   "outputs": [],
   "source": [
    "dc = data.groupby('NAME').get_group('Dunn').sort_values(by='DATE') # Select the data for Dunn County from the full data.\n",
    "PNi = dc.columns.get_loc(\"POS_NEW\")\n",
    "dc['7_DAY'] = dc.iloc[:,PNi].rolling(window=7).mean() # Calculates the rolling 7-day average of new cases.\n",
    "dc['14_DAY'] = dc.iloc[:,PNi].rolling(window=14).mean() # Calculates the rolling 14-day average of new cases."
   ]
  },
  {
   "cell_type": "code",
   "execution_count": 4,
   "metadata": {
    "execution": {
     "iopub.execute_input": "2020-11-19T10:11:32.242465Z",
     "iopub.status.busy": "2020-11-19T10:11:32.241749Z",
     "iopub.status.idle": "2020-11-19T10:11:32.245052Z",
     "shell.execute_reply": "2020-11-19T10:11:32.245612Z"
    },
    "jupyter": {
     "source_hidden": true
    },
    "papermill": {
     "duration": 0.01854,
     "end_time": "2020-11-19T10:11:32.245773",
     "exception": false,
     "start_time": "2020-11-19T10:11:32.227233",
     "status": "completed"
    },
    "scrolled": true,
    "tags": [
     "hide-input"
    ]
   },
   "outputs": [
    {
     "data": {
      "text/markdown": [
       "### Last updated: November 18, 2020"
      ],
      "text/plain": [
       "<IPython.core.display.Markdown object>"
      ]
     },
     "metadata": {},
     "output_type": "display_data"
    }
   ],
   "source": [
    "display(Markdown('### Last updated: ' + dc.iloc[-1]['DATE'].strftime(\"%B %d, %Y\")))"
   ]
  },
  {
   "cell_type": "code",
   "execution_count": 5,
   "metadata": {
    "execution": {
     "iopub.execute_input": "2020-11-19T10:11:32.268066Z",
     "iopub.status.busy": "2020-11-19T10:11:32.267464Z",
     "iopub.status.idle": "2020-11-19T10:11:32.270508Z",
     "shell.execute_reply": "2020-11-19T10:11:32.270990Z"
    },
    "jupyter": {
     "source_hidden": true
    },
    "papermill": {
     "duration": 0.01672,
     "end_time": "2020-11-19T10:11:32.271141",
     "exception": false,
     "start_time": "2020-11-19T10:11:32.254421",
     "status": "completed"
    },
    "tags": [
     "hide-input"
    ]
   },
   "outputs": [
    {
     "data": {
      "text/markdown": [
       "# Dunn County has 2161 total positive cases, with 45 new cases reported today."
      ],
      "text/plain": [
       "<IPython.core.display.Markdown object>"
      ]
     },
     "metadata": {},
     "output_type": "display_data"
    }
   ],
   "source": [
    "display(Markdown('# Dunn County has ' + str(dc.iloc[-1]['POSITIVE']) + ' total positive cases, with '+ str(int(dc.iloc[-1]['POS_NEW'])) + ' new cases reported today.'))"
   ]
  },
  {
   "cell_type": "code",
   "execution_count": 6,
   "metadata": {
    "execution": {
     "iopub.execute_input": "2020-11-19T10:11:32.295448Z",
     "iopub.status.busy": "2020-11-19T10:11:32.294847Z",
     "iopub.status.idle": "2020-11-19T10:11:32.556870Z",
     "shell.execute_reply": "2020-11-19T10:11:32.556338Z"
    },
    "jupyter": {
     "source_hidden": true
    },
    "papermill": {
     "duration": 0.275574,
     "end_time": "2020-11-19T10:11:32.557018",
     "exception": false,
     "start_time": "2020-11-19T10:11:32.281444",
     "status": "completed"
    },
    "scrolled": false,
    "tags": [
     "hide-input"
    ]
   },
   "outputs": [
    {
     "data": {
      "image/png": "[encoded data removed]",
      "text/plain": [
       "<Figure size 864x432 with 1 Axes>"
      ]
     },
     "metadata": {
      "needs_background": "light"
     },
     "output_type": "display_data"
    }
   ],
   "source": [
    "dc.plot(x='DATE',y='POSITIVE',color='red',grid='True',figsize=(12,6)).set_xlabel('Date');"
   ]
  },
  {
   "cell_type": "markdown",
   "metadata": {
    "papermill": {
     "duration": 0.009644,
     "end_time": "2020-11-19T10:11:32.577032",
     "exception": false,
     "start_time": "2020-11-19T10:11:32.567388",
     "status": "completed"
    },
    "tags": []
   },
   "source": [
    "## Figure 1: Cummulative number of positive cases."
   ]
  },
  {
   "cell_type": "code",
   "execution_count": 7,
   "metadata": {
    "execution": {
     "iopub.execute_input": "2020-11-19T10:11:32.605249Z",
     "iopub.status.busy": "2020-11-19T10:11:32.604550Z",
     "iopub.status.idle": "2020-11-19T10:11:32.844387Z",
     "shell.execute_reply": "2020-11-19T10:11:32.844904Z"
    },
    "jupyter": {
     "source_hidden": true
    },
    "papermill": {
     "duration": 0.258434,
     "end_time": "2020-11-19T10:11:32.845052",
     "exception": false,
     "start_time": "2020-11-19T10:11:32.586618",
     "status": "completed"
    },
    "scrolled": false,
    "tags": [
     "hide-input"
    ]
   },
   "outputs": [
    {
     "data": {
      "image/png": "[encoded data removed]",
      "text/plain": [
       "<Figure size 864x432 with 1 Axes>"
      ]
     },
     "metadata": {
      "needs_background": "light"
     },
     "output_type": "display_data"
    }
   ],
   "source": [
    "dc.plot(kind='line',x='DATE',y='7_DAY',color='blue',grid='True',figsize=(12,6)).set_xlabel('Date');"
   ]
  },
  {
   "cell_type": "markdown",
   "metadata": {
    "papermill": {
     "duration": 0.010152,
     "end_time": "2020-11-19T10:11:32.865390",
     "exception": false,
     "start_time": "2020-11-19T10:11:32.855238",
     "status": "completed"
    },
    "tags": []
   },
   "source": [
    "## Figure 2: Rolling 7-day average of daily new cases."
   ]
  },
  {
   "cell_type": "code",
   "execution_count": 8,
   "metadata": {
    "execution": {
     "iopub.execute_input": "2020-11-19T10:11:32.889828Z",
     "iopub.status.busy": "2020-11-19T10:11:32.889245Z",
     "iopub.status.idle": "2020-11-19T10:11:33.141079Z",
     "shell.execute_reply": "2020-11-19T10:11:33.141566Z"
    },
    "jupyter": {
     "source_hidden": true
    },
    "papermill": {
     "duration": 0.266726,
     "end_time": "2020-11-19T10:11:33.141739",
     "exception": false,
     "start_time": "2020-11-19T10:11:32.875013",
     "status": "completed"
    },
    "tags": []
   },
   "outputs": [
    {
     "data": {
      "image/png": "[encoded data removed]",
      "text/plain": [
       "<Figure size 864x432 with 1 Axes>"
      ]
     },
     "metadata": {
      "needs_background": "light"
     },
     "output_type": "display_data"
    }
   ],
   "source": [
    "dc.plot(kind='line',x='DATE',y='14_DAY',color='green',grid='True',figsize=(12,6)).set_xlabel('Date');"
   ]
  },
  {
   "cell_type": "markdown",
   "metadata": {
    "papermill": {
     "duration": 0.011577,
     "end_time": "2020-11-19T10:11:33.165549",
     "exception": false,
     "start_time": "2020-11-19T10:11:33.153972",
     "status": "completed"
    },
    "tags": []
   },
   "source": [
    "## Figure 3: Rolling 14-day average of daily new cases."
   ]
  },
  {
   "cell_type": "markdown",
   "metadata": {
    "papermill": {
     "duration": 0.011841,
     "end_time": "2020-11-19T10:11:33.194480",
     "exception": false,
     "start_time": "2020-11-19T10:11:33.182639",
     "status": "completed"
    },
    "tags": []
   },
   "source": [
    "Data source: [Wisconsin Department of Health Services](https://data.dhsgis.wi.gov/datasets/covid-19-historical-data-table/)"
   ]
  },
  {
   "cell_type": "code",
   "execution_count": 9,
   "metadata": {
    "execution": {
     "iopub.execute_input": "2020-11-19T10:11:33.221605Z",
     "iopub.status.busy": "2020-11-19T10:11:33.220984Z",
     "iopub.status.idle": "2020-11-19T10:11:33.224346Z",
     "shell.execute_reply": "2020-11-19T10:11:33.223784Z"
    },
    "jupyter": {
     "source_hidden": true
    },
    "papermill": {
     "duration": 0.019142,
     "end_time": "2020-11-19T10:11:33.224629",
     "exception": false,
     "start_time": "2020-11-19T10:11:33.205487",
     "status": "completed"
    },
    "tags": []
   },
   "outputs": [
    {
     "data": {
      "text/html": [
       "<style>\n",
       "div.input {\n",
       "    display:none;\n",
       "}\n",
       "</style>\n"
      ],
      "text/plain": [
       "<IPython.core.display.HTML object>"
      ]
     },
     "metadata": {},
     "output_type": "display_data"
    }
   ],
   "source": [
    "%%html\n",
    "<style>\n",
    "div.input {\n",
    "    display:none;\n",
    "}\n",
    "</style>"
   ]
  }
 ],
 "metadata": {
  "kernelspec": {
   "display_name": "Python 3",
   "language": "python",
   "name": "python3"
  },
  "language_info": {
   "codemirror_mode": {
    "name": "ipython",
    "version": 3
   },
   "file_extension": ".py",
   "mimetype": "text/x-python",
   "name": "python",
   "nbconvert_exporter": "python",
   "pygments_lexer": "ipython3",
   "version": "3.8.6"
  },
  "papermill": {
   "duration": 8.849992,
   "end_time": "2020-11-19T10:11:33.542647",
   "environment_variables": {},
   "exception": null,
   "input_path": "DunnCounty_COVID19.ipynb",
   "output_path": "DunnCounty_COVID19.ipynb",
   "parameters": {
    "Start": "True",
    "secretsPath": "/home/runner/work/_temp/secrets.json"
   },
   "start_time": "2020-11-19T10:11:24.692655",
   "version": "1.1.16"
  }
 },
 "nbformat": 4,
 "nbformat_minor": 2
}