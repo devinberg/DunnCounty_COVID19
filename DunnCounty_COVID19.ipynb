{
 "cells": [
  {
   "cell_type": "code",
   "execution_count": 1,
   "id": "solar-understanding",
   "metadata": {
    "execution": {
     "iopub.execute_input": "2021-01-28T22:13:27.762138Z",
     "iopub.status.busy": "2021-01-28T22:13:27.757202Z",
     "iopub.status.idle": "2021-01-28T22:13:30.150653Z",
     "shell.execute_reply": "2021-01-28T22:13:30.149557Z"
    },
    "jupyter": {
     "source_hidden": true
    },
    "papermill": {
     "duration": 2.404392,
     "end_time": "2021-01-28T22:13:30.150844",
     "exception": false,
     "start_time": "2021-01-28T22:13:27.746452",
     "status": "completed"
    },
    "scrolled": true,
    "tags": [
     "hide-input"
    ]
   },
   "outputs": [],
   "source": [
    "import pandas as pd\n",
    "import matplotlib.pyplot as plt\n",
    "from matplotlib import dates\n",
    "from IPython.display import display, Markdown\n",
    "%matplotlib inline"
   ]
  },
  {
   "cell_type": "code",
   "execution_count": 2,
   "id": "purple-playlist",
   "metadata": {
    "execution": {
     "iopub.execute_input": "2021-01-28T22:13:30.172884Z",
     "iopub.status.busy": "2021-01-28T22:13:30.172387Z",
     "iopub.status.idle": "2021-01-28T22:13:30.684913Z",
     "shell.execute_reply": "2021-01-28T22:13:30.685315Z"
    },
    "jupyter": {
     "source_hidden": true
    },
    "papermill": {
     "duration": 0.52583,
     "end_time": "2021-01-28T22:13:30.685472",
     "exception": false,
     "start_time": "2021-01-28T22:13:30.159642",
     "status": "completed"
    },
    "scrolled": true,
    "tags": [
     "hide-input"
    ]
   },
   "outputs": [],
   "source": [
    "# This is the data for all of Wisconsin.\n",
    "url = \"https://opendata.arcgis.com/datasets/5374188992374b318d3e2305216ee413_12.csv\"\n",
    "data = pd.read_csv(url, parse_dates=['DATE'], low_memory=False)"
   ]
  },
  {
   "cell_type": "code",
   "execution_count": 3,
   "id": "proprietary-klein",
   "metadata": {
    "execution": {
     "iopub.execute_input": "2021-01-28T22:13:30.705949Z",
     "iopub.status.busy": "2021-01-28T22:13:30.705438Z",
     "iopub.status.idle": "2021-01-28T22:13:30.712741Z",
     "shell.execute_reply": "2021-01-28T22:13:30.713122Z"
    },
    "jupyter": {
     "source_hidden": true
    },
    "papermill": {
     "duration": 0.019946,
     "end_time": "2021-01-28T22:13:30.713241",
     "exception": false,
     "start_time": "2021-01-28T22:13:30.693295",
     "status": "completed"
    },
    "scrolled": true,
    "tags": [
     "hide-input"
    ]
   },
   "outputs": [],
   "source": [
    "dc = data.groupby('NAME').get_group('Dunn').sort_values(by='DATE') # Select the data for Dunn County from the full data.\n",
    "PNi = dc.columns.get_loc(\"POS_NEW\")\n",
    "dc['7_DAY'] = dc.iloc[:,PNi].rolling(window=7).mean() # Calculates the rolling 7-day average of new cases.\n",
    "dc['14_DAY'] = dc.iloc[:,PNi].rolling(window=14).mean() # Calculates the rolling 14-day average of new cases."
   ]
  },
  {
   "cell_type": "code",
   "execution_count": 4,
   "id": "steady-supervision",
   "metadata": {
    "execution": {
     "iopub.execute_input": "2021-01-28T22:13:30.733369Z",
     "iopub.status.busy": "2021-01-28T22:13:30.732569Z",
     "iopub.status.idle": "2021-01-28T22:13:30.737537Z",
     "shell.execute_reply": "2021-01-28T22:13:30.737965Z"
    },
    "jupyter": {
     "source_hidden": true
    },
    "papermill": {
     "duration": 0.017358,
     "end_time": "2021-01-28T22:13:30.738084",
     "exception": false,
     "start_time": "2021-01-28T22:13:30.720726",
     "status": "completed"
    },
    "scrolled": true,
    "tags": [
     "hide-input"
    ]
   },
   "outputs": [
    {
     "data": {
      "text/markdown": [
       "### Last updated: January 28, 2021"
      ],
      "text/plain": [
       "<IPython.core.display.Markdown object>"
      ]
     },
     "metadata": {},
     "output_type": "display_data"
    }
   ],
   "source": [
    "display(Markdown('### Last updated: ' + dc.iloc[-1]['DATE'].strftime(\"%B %d, %Y\")))"
   ]
  },
  {
   "cell_type": "code",
   "execution_count": 5,
   "id": "lonely-pitch",
   "metadata": {
    "execution": {
     "iopub.execute_input": "2021-01-28T22:13:30.757448Z",
     "iopub.status.busy": "2021-01-28T22:13:30.756877Z",
     "iopub.status.idle": "2021-01-28T22:13:30.759869Z",
     "shell.execute_reply": "2021-01-28T22:13:30.759444Z"
    },
    "jupyter": {
     "source_hidden": true
    },
    "papermill": {
     "duration": 0.014314,
     "end_time": "2021-01-28T22:13:30.759976",
     "exception": false,
     "start_time": "2021-01-28T22:13:30.745662",
     "status": "completed"
    },
    "tags": [
     "hide-input"
    ]
   },
   "outputs": [
    {
     "data": {
      "text/markdown": [
       "# Dunn County has 4007 total positive cases, with 18 new cases reported today."
      ],
      "text/plain": [
       "<IPython.core.display.Markdown object>"
      ]
     },
     "metadata": {},
     "output_type": "display_data"
    }
   ],
   "source": [
    "display(Markdown('# Dunn County has ' + str(dc.iloc[-1]['POSITIVE']) + ' total positive cases, with '+ str(int(dc.iloc[-1]['POS_NEW'])) + ' new cases reported today.'))"
   ]
  },
  {
   "cell_type": "code",
   "execution_count": 6,
   "id": "compound-nightmare",
   "metadata": {
    "execution": {
     "iopub.execute_input": "2021-01-28T22:13:30.779854Z",
     "iopub.status.busy": "2021-01-28T22:13:30.779197Z",
     "iopub.status.idle": "2021-01-28T22:13:31.087802Z",
     "shell.execute_reply": "2021-01-28T22:13:31.087361Z"
    },
    "jupyter": {
     "source_hidden": true
    },
    "papermill": {
     "duration": 0.319623,
     "end_time": "2021-01-28T22:13:31.087920",
     "exception": false,
     "start_time": "2021-01-28T22:13:30.768297",
     "status": "completed"
    },
    "scrolled": false,
    "tags": [
     "hide-input"
    ]
   },
   "outputs": [
    {
     "data": {
      "image/png": "[encoded data removed]",
      "text/plain": [
       "<Figure size 864x432 with 1 Axes>"
      ]
     },
     "metadata": {
      "needs_background": "light"
     },
     "output_type": "display_data"
    }
   ],
   "source": [
    "dc.plot(x='DATE',y='POSITIVE',color='red',grid='True',figsize=(12,6)).set_xlabel('Date');"
   ]
  },
  {
   "cell_type": "markdown",
   "id": "coupled-literacy",
   "metadata": {
    "papermill": {
     "duration": 0.00957,
     "end_time": "2021-01-28T22:13:31.107123",
     "exception": false,
     "start_time": "2021-01-28T22:13:31.097553",
     "status": "completed"
    },
    "tags": []
   },
   "source": [
    "## Figure 1: Cummulative number of positive cases."
   ]
  },
  {
   "cell_type": "code",
   "execution_count": 7,
   "id": "surrounded-reserve",
   "metadata": {
    "execution": {
     "iopub.execute_input": "2021-01-28T22:13:31.129137Z",
     "iopub.status.busy": "2021-01-28T22:13:31.128650Z",
     "iopub.status.idle": "2021-01-28T22:13:31.368528Z",
     "shell.execute_reply": "2021-01-28T22:13:31.368991Z"
    },
    "jupyter": {
     "source_hidden": true
    },
    "papermill": {
     "duration": 0.252614,
     "end_time": "2021-01-28T22:13:31.369172",
     "exception": false,
     "start_time": "2021-01-28T22:13:31.116558",
     "status": "completed"
    },
    "scrolled": false,
    "tags": [
     "hide-input"
    ]
   },
   "outputs": [
    {
     "data": {
      "image/png": "[encoded data removed]",
      "text/plain": [
       "<Figure size 864x432 with 1 Axes>"
      ]
     },
     "metadata": {
      "needs_background": "light"
     },
     "output_type": "display_data"
    }
   ],
   "source": [
    "dc.plot(kind='line',x='DATE',y='7_DAY',color='blue',grid='True',figsize=(12,6)).set_xlabel('Date');"
   ]
  },
  {
   "cell_type": "markdown",
   "id": "professional-savannah",
   "metadata": {
    "papermill": {
     "duration": 0.009683,
     "end_time": "2021-01-28T22:13:31.389641",
     "exception": false,
     "start_time": "2021-01-28T22:13:31.379958",
     "status": "completed"
    },
    "tags": []
   },
   "source": [
    "## Figure 2: Rolling 7-day average of daily new cases."
   ]
  },
  {
   "cell_type": "code",
   "execution_count": 8,
   "id": "stretch-investor",
   "metadata": {
    "execution": {
     "iopub.execute_input": "2021-01-28T22:13:31.413846Z",
     "iopub.status.busy": "2021-01-28T22:13:31.413364Z",
     "iopub.status.idle": "2021-01-28T22:13:31.645287Z",
     "shell.execute_reply": "2021-01-28T22:13:31.645766Z"
    },
    "jupyter": {
     "source_hidden": true
    },
    "papermill": {
     "duration": 0.245769,
     "end_time": "2021-01-28T22:13:31.645911",
     "exception": false,
     "start_time": "2021-01-28T22:13:31.400142",
     "status": "completed"
    },
    "tags": []
   },
   "outputs": [
    {
     "data": {
      "image/png": "[encoded data removed]",
      "text/plain": [
       "<Figure size 864x432 with 1 Axes>"
      ]
     },
     "metadata": {
      "needs_background": "light"
     },
     "output_type": "display_data"
    }
   ],
   "source": [
    "dc.plot(kind='line',x='DATE',y='14_DAY',color='green',grid='True',figsize=(12,6)).set_xlabel('Date');"
   ]
  },
  {
   "cell_type": "markdown",
   "id": "prerequisite-species",
   "metadata": {
    "papermill": {
     "duration": 0.010212,
     "end_time": "2021-01-28T22:13:31.666561",
     "exception": false,
     "start_time": "2021-01-28T22:13:31.656349",
     "status": "completed"
    },
    "tags": []
   },
   "source": [
    "## Figure 3: Rolling 14-day average of daily new cases."
   ]
  },
  {
   "cell_type": "markdown",
   "id": "palestinian-guard",
   "metadata": {
    "papermill": {
     "duration": 0.010235,
     "end_time": "2021-01-28T22:13:31.687051",
     "exception": false,
     "start_time": "2021-01-28T22:13:31.676816",
     "status": "completed"
    },
    "tags": []
   },
   "source": [
    "Data source: [Wisconsin Department of Health Services](https://data.dhsgis.wi.gov/datasets/covid-19-historical-data-table/)"
   ]
  },
  {
   "cell_type": "code",
   "execution_count": 9,
   "id": "proof-medicare",
   "metadata": {
    "execution": {
     "iopub.execute_input": "2021-01-28T22:13:31.710643Z",
     "iopub.status.busy": "2021-01-28T22:13:31.710142Z",
     "iopub.status.idle": "2021-01-28T22:13:31.713454Z",
     "shell.execute_reply": "2021-01-28T22:13:31.713036Z"
    },
    "jupyter": {
     "source_hidden": true
    },
    "papermill": {
     "duration": 0.016556,
     "end_time": "2021-01-28T22:13:31.713556",
     "exception": false,
     "start_time": "2021-01-28T22:13:31.697000",
     "status": "completed"
    },
    "tags": []
   },
   "outputs": [
    {
     "data": {
      "text/html": [
       "<style>\n",
       "div.input {\n",
       "    display:none;\n",
       "}\n",
       "</style>\n"
      ],
      "text/plain": [
       "<IPython.core.display.HTML object>"
      ]
     },
     "metadata": {},
     "output_type": "display_data"
    }
   ],
   "source": [
    "%%html\n",
    "<style>\n",
    "div.input {\n",
    "    display:none;\n",
    "}\n",
    "</style>"
   ]
  }
 ],
 "metadata": {
  "kernelspec": {
   "display_name": "Python 3",
   "language": "python",
   "name": "python3"
  },
  "language_info": {
   "codemirror_mode": {
    "name": "ipython",
    "version": 3
   },
   "file_extension": ".py",
   "mimetype": "text/x-python",
   "name": "python",
   "nbconvert_exporter": "python",
   "pygments_lexer": "ipython3",
   "version": "3.8.7"
  },
  "papermill": {
   "duration": 5.888079,
   "end_time": "2021-01-28T22:13:32.031208",
   "environment_variables": {},
   "exception": null,
   "input_path": "DunnCounty_COVID19.ipynb",
   "output_path": "DunnCounty_COVID19.ipynb",
   "parameters": {
    "Start": "True",
    "secretsPath": "/home/runner/work/_temp/secrets.json"
   },
   "start_time": "2021-01-28T22:13:26.143129",
   "version": "1.1.16"
  }
 },
 "nbformat": 4,
 "nbformat_minor": 5
}