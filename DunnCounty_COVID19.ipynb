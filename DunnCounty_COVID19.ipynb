{
 "cells": [
  {
   "cell_type": "code",
   "execution_count": 1,
   "id": "solar-understanding",
   "metadata": {
    "execution": {
     "iopub.execute_input": "2021-05-21T10:15:24.812680Z",
     "iopub.status.busy": "2021-05-21T10:15:24.812211Z",
     "iopub.status.idle": "2021-05-21T10:15:27.205828Z",
     "shell.execute_reply": "2021-05-21T10:15:27.205284Z"
    },
    "jupyter": {
     "source_hidden": true
    },
    "papermill": {
     "duration": 2.41232,
     "end_time": "2021-05-21T10:15:27.205951",
     "exception": false,
     "start_time": "2021-05-21T10:15:24.793631",
     "status": "completed"
    },
    "scrolled": true,
    "tags": [
     "hide-input"
    ]
   },
   "outputs": [],
   "source": [
    "import pandas as pd\n",
    "import matplotlib.pyplot as plt\n",
    "from matplotlib import dates\n",
    "from IPython.display import display, Markdown\n",
    "%matplotlib inline"
   ]
  },
  {
   "cell_type": "code",
   "execution_count": 2,
   "id": "purple-playlist",
   "metadata": {
    "execution": {
     "iopub.execute_input": "2021-05-21T10:15:27.227161Z",
     "iopub.status.busy": "2021-05-21T10:15:27.226691Z",
     "iopub.status.idle": "2021-05-21T10:15:28.241462Z",
     "shell.execute_reply": "2021-05-21T10:15:28.240989Z"
    },
    "jupyter": {
     "source_hidden": true
    },
    "papermill": {
     "duration": 1.02761,
     "end_time": "2021-05-21T10:15:28.241589",
     "exception": false,
     "start_time": "2021-05-21T10:15:27.213979",
     "status": "completed"
    },
    "scrolled": true,
    "tags": [
     "hide-input"
    ]
   },
   "outputs": [],
   "source": [
    "# This is the data for all of Wisconsin.\n",
    "url = \"https://opendata.arcgis.com/datasets/80ff9d4897db4d7692f0f4ad28447cab_12.csv\"\n",
    "data = pd.read_csv(url, parse_dates=['DATE'], low_memory=False)"
   ]
  },
  {
   "cell_type": "code",
   "execution_count": 3,
   "id": "proprietary-klein",
   "metadata": {
    "execution": {
     "iopub.execute_input": "2021-05-21T10:15:28.264076Z",
     "iopub.status.busy": "2021-05-21T10:15:28.263591Z",
     "iopub.status.idle": "2021-05-21T10:15:28.271829Z",
     "shell.execute_reply": "2021-05-21T10:15:28.271390Z"
    },
    "jupyter": {
     "source_hidden": true
    },
    "papermill": {
     "duration": 0.021699,
     "end_time": "2021-05-21T10:15:28.271930",
     "exception": false,
     "start_time": "2021-05-21T10:15:28.250231",
     "status": "completed"
    },
    "scrolled": true,
    "tags": [
     "hide-input"
    ]
   },
   "outputs": [],
   "source": [
    "dc = data.groupby('NAME').get_group('Dunn').sort_values(by='DATE') # Select the data for Dunn County from the full data.\n",
    "PNi = dc.columns.get_loc(\"POS_NEW\")\n",
    "dc['7_DAY'] = dc.iloc[:,PNi].rolling(window=7).mean() # Calculates the rolling 7-day average of new cases.\n",
    "dc['14_DAY'] = dc.iloc[:,PNi].rolling(window=14).mean() # Calculates the rolling 14-day average of new cases."
   ]
  },
  {
   "cell_type": "code",
   "execution_count": 4,
   "id": "steady-supervision",
   "metadata": {
    "execution": {
     "iopub.execute_input": "2021-05-21T10:15:28.293997Z",
     "iopub.status.busy": "2021-05-21T10:15:28.293447Z",
     "iopub.status.idle": "2021-05-21T10:15:28.296462Z",
     "shell.execute_reply": "2021-05-21T10:15:28.296006Z"
    },
    "jupyter": {
     "source_hidden": true
    },
    "papermill": {
     "duration": 0.017052,
     "end_time": "2021-05-21T10:15:28.296581",
     "exception": false,
     "start_time": "2021-05-21T10:15:28.279529",
     "status": "completed"
    },
    "scrolled": true,
    "tags": [
     "hide-input"
    ]
   },
   "outputs": [
    {
     "data": {
      "text/markdown": [
       "### Last updated: May 20, 2021"
      ],
      "text/plain": [
       "<IPython.core.display.Markdown object>"
      ]
     },
     "metadata": {},
     "output_type": "display_data"
    }
   ],
   "source": [
    "display(Markdown('### Last updated: ' + dc.iloc[-1]['DATE'].strftime(\"%B %d, %Y\")))"
   ]
  },
  {
   "cell_type": "code",
   "execution_count": 5,
   "id": "lonely-pitch",
   "metadata": {
    "execution": {
     "iopub.execute_input": "2021-05-21T10:15:28.317592Z",
     "iopub.status.busy": "2021-05-21T10:15:28.317137Z",
     "iopub.status.idle": "2021-05-21T10:15:28.319878Z",
     "shell.execute_reply": "2021-05-21T10:15:28.319503Z"
    },
    "jupyter": {
     "source_hidden": true
    },
    "papermill": {
     "duration": 0.015336,
     "end_time": "2021-05-21T10:15:28.319984",
     "exception": false,
     "start_time": "2021-05-21T10:15:28.304648",
     "status": "completed"
    },
    "tags": [
     "hide-input"
    ]
   },
   "outputs": [
    {
     "data": {
      "text/markdown": [
       "# Dunn County has 4672 total positive cases, with 2 new cases reported today."
      ],
      "text/plain": [
       "<IPython.core.display.Markdown object>"
      ]
     },
     "metadata": {},
     "output_type": "display_data"
    }
   ],
   "source": [
    "display(Markdown('# Dunn County has ' + str(dc.iloc[-1]['POSITIVE']) + ' total positive cases, with '+ str(int(dc.iloc[-1]['POS_NEW'])) + ' new cases reported today.'))"
   ]
  },
  {
   "cell_type": "code",
   "execution_count": 6,
   "id": "compound-nightmare",
   "metadata": {
    "execution": {
     "iopub.execute_input": "2021-05-21T10:15:28.339912Z",
     "iopub.status.busy": "2021-05-21T10:15:28.339464Z",
     "iopub.status.idle": "2021-05-21T10:15:28.615683Z",
     "shell.execute_reply": "2021-05-21T10:15:28.616135Z"
    },
    "jupyter": {
     "source_hidden": true
    },
    "papermill": {
     "duration": 0.287956,
     "end_time": "2021-05-21T10:15:28.616290",
     "exception": false,
     "start_time": "2021-05-21T10:15:28.328334",
     "status": "completed"
    },
    "scrolled": false,
    "tags": [
     "hide-input"
    ]
   },
   "outputs": [
    {
     "data": {
      "image/png": "[encoded data removed]",
      "text/plain": [
       "<Figure size 864x432 with 1 Axes>"
      ]
     },
     "metadata": {
      "needs_background": "light"
     },
     "output_type": "display_data"
    }
   ],
   "source": [
    "dc.plot(x='DATE',y='POSITIVE',color='red',grid='True',figsize=(12,6)).set_xlabel('Date');"
   ]
  },
  {
   "cell_type": "markdown",
   "id": "coupled-literacy",
   "metadata": {
    "papermill": {
     "duration": 0.009316,
     "end_time": "2021-05-21T10:15:28.635431",
     "exception": false,
     "start_time": "2021-05-21T10:15:28.626115",
     "status": "completed"
    },
    "tags": []
   },
   "source": [
    "## Figure 1: Cummulative number of positive cases."
   ]
  },
  {
   "cell_type": "code",
   "execution_count": 7,
   "id": "surrounded-reserve",
   "metadata": {
    "execution": {
     "iopub.execute_input": "2021-05-21T10:15:28.657375Z",
     "iopub.status.busy": "2021-05-21T10:15:28.656920Z",
     "iopub.status.idle": "2021-05-21T10:15:28.847934Z",
     "shell.execute_reply": "2021-05-21T10:15:28.848407Z"
    },
    "jupyter": {
     "source_hidden": true
    },
    "papermill": {
     "duration": 0.204184,
     "end_time": "2021-05-21T10:15:28.848562",
     "exception": false,
     "start_time": "2021-05-21T10:15:28.644378",
     "status": "completed"
    },
    "scrolled": false,
    "tags": [
     "hide-input"
    ]
   },
   "outputs": [
    {
     "data": {
      "image/png": "[encoded data removed]",
      "text/plain": [
       "<Figure size 864x432 with 1 Axes>"
      ]
     },
     "metadata": {
      "needs_background": "light"
     },
     "output_type": "display_data"
    }
   ],
   "source": [
    "dc.plot(kind='line',x='DATE',y='7_DAY',color='blue',grid='True',figsize=(12,6)).set_xlabel('Date');"
   ]
  },
  {
   "cell_type": "markdown",
   "id": "professional-savannah",
   "metadata": {
    "papermill": {
     "duration": 0.010262,
     "end_time": "2021-05-21T10:15:28.869911",
     "exception": false,
     "start_time": "2021-05-21T10:15:28.859649",
     "status": "completed"
    },
    "tags": []
   },
   "source": [
    "## Figure 2: Rolling 7-day average of daily new cases."
   ]
  },
  {
   "cell_type": "code",
   "execution_count": 8,
   "id": "stretch-investor",
   "metadata": {
    "execution": {
     "iopub.execute_input": "2021-05-21T10:15:28.893952Z",
     "iopub.status.busy": "2021-05-21T10:15:28.893493Z",
     "iopub.status.idle": "2021-05-21T10:15:29.084183Z",
     "shell.execute_reply": "2021-05-21T10:15:29.084615Z"
    },
    "jupyter": {
     "source_hidden": true
    },
    "papermill": {
     "duration": 0.204991,
     "end_time": "2021-05-21T10:15:29.084764",
     "exception": false,
     "start_time": "2021-05-21T10:15:28.879773",
     "status": "completed"
    },
    "tags": []
   },
   "outputs": [
    {
     "data": {
      "image/png": "[encoded data removed]",
      "text/plain": [
       "<Figure size 864x432 with 1 Axes>"
      ]
     },
     "metadata": {
      "needs_background": "light"
     },
     "output_type": "display_data"
    }
   ],
   "source": [
    "dc.plot(kind='line',x='DATE',y='14_DAY',color='green',grid='True',figsize=(12,6)).set_xlabel('Date');"
   ]
  },
  {
   "cell_type": "markdown",
   "id": "prerequisite-species",
   "metadata": {
    "papermill": {
     "duration": 0.011272,
     "end_time": "2021-05-21T10:15:29.108461",
     "exception": false,
     "start_time": "2021-05-21T10:15:29.097189",
     "status": "completed"
    },
    "tags": []
   },
   "source": [
    "## Figure 3: Rolling 14-day average of daily new cases."
   ]
  },
  {
   "cell_type": "markdown",
   "id": "palestinian-guard",
   "metadata": {
    "papermill": {
     "duration": 0.010753,
     "end_time": "2021-05-21T10:15:29.130000",
     "exception": false,
     "start_time": "2021-05-21T10:15:29.119247",
     "status": "completed"
    },
    "tags": []
   },
   "source": [
    "Data source: [Wisconsin Department of Health Services](https://data.dhsgis.wi.gov/datasets/covid-19-historical-data-by-county)"
   ]
  },
  {
   "cell_type": "code",
   "execution_count": 9,
   "id": "proof-medicare",
   "metadata": {
    "execution": {
     "iopub.execute_input": "2021-05-21T10:15:29.156304Z",
     "iopub.status.busy": "2021-05-21T10:15:29.155828Z",
     "iopub.status.idle": "2021-05-21T10:15:29.158305Z",
     "shell.execute_reply": "2021-05-21T10:15:29.158697Z"
    },
    "jupyter": {
     "source_hidden": true
    },
    "papermill": {
     "duration": 0.017988,
     "end_time": "2021-05-21T10:15:29.158825",
     "exception": false,
     "start_time": "2021-05-21T10:15:29.140837",
     "status": "completed"
    },
    "tags": []
   },
   "outputs": [
    {
     "data": {
      "text/html": [
       "<style>\n",
       "div.input {\n",
       "    display:none;\n",
       "}\n",
       "</style>\n"
      ],
      "text/plain": [
       "<IPython.core.display.HTML object>"
      ]
     },
     "metadata": {},
     "output_type": "display_data"
    }
   ],
   "source": [
    "%%html\n",
    "<style>\n",
    "div.input {\n",
    "    display:none;\n",
    "}\n",
    "</style>"
   ]
  }
 ],
 "metadata": {
  "kernelspec": {
   "display_name": "Python 3",
   "language": "python",
   "name": "python3"
  },
  "language_info": {
   "codemirror_mode": {
    "name": "ipython",
    "version": 3
   },
   "file_extension": ".py",
   "mimetype": "text/x-python",
   "name": "python",
   "nbconvert_exporter": "python",
   "pygments_lexer": "ipython3",
   "version": "3.8.10"
  },
  "papermill": {
   "duration": 6.243781,
   "end_time": "2021-05-21T10:15:29.476377",
   "environment_variables": {},
   "exception": null,
   "input_path": "DunnCounty_COVID19.ipynb",
   "output_path": "DunnCounty_COVID19.ipynb",
   "parameters": {
    "Start": "True",
    "secretsPath": "/home/runner/work/_temp/secrets.json"
   },
   "start_time": "2021-05-21T10:15:23.232596",
   "version": "1.1.16"
  }
 },
 "nbformat": 4,
 "nbformat_minor": 5
}