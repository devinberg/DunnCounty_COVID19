{
 "cells": [
  {
   "cell_type": "code",
   "execution_count": 1,
   "id": "solar-understanding",
   "metadata": {
    "execution": {
     "iopub.execute_input": "2021-04-24T22:18:43.328034Z",
     "iopub.status.busy": "2021-04-24T22:18:43.327440Z",
     "iopub.status.idle": "2021-04-24T22:18:44.221406Z",
     "shell.execute_reply": "2021-04-24T22:18:44.220442Z"
    },
    "jupyter": {
     "source_hidden": true
    },
    "papermill": {
     "duration": 0.912979,
     "end_time": "2021-04-24T22:18:44.221598",
     "exception": false,
     "start_time": "2021-04-24T22:18:43.308619",
     "status": "completed"
    },
    "scrolled": true,
    "tags": [
     "hide-input"
    ]
   },
   "outputs": [],
   "source": [
    "import pandas as pd\n",
    "import matplotlib.pyplot as plt\n",
    "from matplotlib import dates\n",
    "from IPython.display import display, Markdown\n",
    "%matplotlib inline"
   ]
  },
  {
   "cell_type": "code",
   "execution_count": 2,
   "id": "purple-playlist",
   "metadata": {
    "execution": {
     "iopub.execute_input": "2021-04-24T22:18:44.246807Z",
     "iopub.status.busy": "2021-04-24T22:18:44.246219Z",
     "iopub.status.idle": "2021-04-24T22:18:44.994996Z",
     "shell.execute_reply": "2021-04-24T22:18:44.994469Z"
    },
    "jupyter": {
     "source_hidden": true
    },
    "papermill": {
     "duration": 0.763684,
     "end_time": "2021-04-24T22:18:44.995141",
     "exception": false,
     "start_time": "2021-04-24T22:18:44.231457",
     "status": "completed"
    },
    "scrolled": true,
    "tags": [
     "hide-input"
    ]
   },
   "outputs": [],
   "source": [
    "# This is the data for all of Wisconsin.\n",
    "url = \"https://opendata.arcgis.com/datasets/0b7bac0afc464e7783474cb62272d9b8_12.csv\"\n",
    "data = pd.read_csv(url, parse_dates=['DATE'], low_memory=False)"
   ]
  },
  {
   "cell_type": "code",
   "execution_count": 3,
   "id": "proprietary-klein",
   "metadata": {
    "execution": {
     "iopub.execute_input": "2021-04-24T22:18:45.021107Z",
     "iopub.status.busy": "2021-04-24T22:18:45.020182Z",
     "iopub.status.idle": "2021-04-24T22:18:45.030320Z",
     "shell.execute_reply": "2021-04-24T22:18:45.029624Z"
    },
    "jupyter": {
     "source_hidden": true
    },
    "papermill": {
     "duration": 0.025283,
     "end_time": "2021-04-24T22:18:45.030441",
     "exception": false,
     "start_time": "2021-04-24T22:18:45.005158",
     "status": "completed"
    },
    "scrolled": true,
    "tags": [
     "hide-input"
    ]
   },
   "outputs": [],
   "source": [
    "dc = data.groupby('NAME').get_group('Dunn').sort_values(by='DATE') # Select the data for Dunn County from the full data.\n",
    "PNi = dc.columns.get_loc(\"POS_NEW\")\n",
    "dc['7_DAY'] = dc.iloc[:,PNi].rolling(window=7).mean() # Calculates the rolling 7-day average of new cases.\n",
    "dc['14_DAY'] = dc.iloc[:,PNi].rolling(window=14).mean() # Calculates the rolling 14-day average of new cases."
   ]
  },
  {
   "cell_type": "code",
   "execution_count": 4,
   "id": "steady-supervision",
   "metadata": {
    "execution": {
     "iopub.execute_input": "2021-04-24T22:18:45.056681Z",
     "iopub.status.busy": "2021-04-24T22:18:45.055961Z",
     "iopub.status.idle": "2021-04-24T22:18:45.059235Z",
     "shell.execute_reply": "2021-04-24T22:18:45.058726Z"
    },
    "jupyter": {
     "source_hidden": true
    },
    "papermill": {
     "duration": 0.019854,
     "end_time": "2021-04-24T22:18:45.059356",
     "exception": false,
     "start_time": "2021-04-24T22:18:45.039502",
     "status": "completed"
    },
    "scrolled": true,
    "tags": [
     "hide-input"
    ]
   },
   "outputs": [
    {
     "data": {
      "text/markdown": [
       "### Last updated: April 24, 2021"
      ],
      "text/plain": [
       "<IPython.core.display.Markdown object>"
      ]
     },
     "metadata": {},
     "output_type": "display_data"
    }
   ],
   "source": [
    "display(Markdown('### Last updated: ' + dc.iloc[-1]['DATE'].strftime(\"%B %d, %Y\")))"
   ]
  },
  {
   "cell_type": "code",
   "execution_count": 5,
   "id": "lonely-pitch",
   "metadata": {
    "execution": {
     "iopub.execute_input": "2021-04-24T22:18:45.084137Z",
     "iopub.status.busy": "2021-04-24T22:18:45.083543Z",
     "iopub.status.idle": "2021-04-24T22:18:45.086282Z",
     "shell.execute_reply": "2021-04-24T22:18:45.086787Z"
    },
    "jupyter": {
     "source_hidden": true
    },
    "papermill": {
     "duration": 0.017659,
     "end_time": "2021-04-24T22:18:45.086924",
     "exception": false,
     "start_time": "2021-04-24T22:18:45.069265",
     "status": "completed"
    },
    "tags": [
     "hide-input"
    ]
   },
   "outputs": [
    {
     "data": {
      "text/markdown": [
       "# Dunn County has 4589 total positive cases, with 3 new cases reported today."
      ],
      "text/plain": [
       "<IPython.core.display.Markdown object>"
      ]
     },
     "metadata": {},
     "output_type": "display_data"
    }
   ],
   "source": [
    "display(Markdown('# Dunn County has ' + str(dc.iloc[-1]['POSITIVE']) + ' total positive cases, with '+ str(int(dc.iloc[-1]['POS_NEW'])) + ' new cases reported today.'))"
   ]
  },
  {
   "cell_type": "code",
   "execution_count": 6,
   "id": "compound-nightmare",
   "metadata": {
    "execution": {
     "iopub.execute_input": "2021-04-24T22:18:45.112165Z",
     "iopub.status.busy": "2021-04-24T22:18:45.111584Z",
     "iopub.status.idle": "2021-04-24T22:18:45.376404Z",
     "shell.execute_reply": "2021-04-24T22:18:45.376892Z"
    },
    "jupyter": {
     "source_hidden": true
    },
    "papermill": {
     "duration": 0.278948,
     "end_time": "2021-04-24T22:18:45.377053",
     "exception": false,
     "start_time": "2021-04-24T22:18:45.098105",
     "status": "completed"
    },
    "scrolled": false,
    "tags": [
     "hide-input"
    ]
   },
   "outputs": [
    {
     "data": {
      "image/png": "[encoded data removed]",
      "text/plain": [
       "<Figure size 864x432 with 1 Axes>"
      ]
     },
     "metadata": {
      "needs_background": "light"
     },
     "output_type": "display_data"
    }
   ],
   "source": [
    "dc.plot(x='DATE',y='POSITIVE',color='red',grid='True',figsize=(12,6)).set_xlabel('Date');"
   ]
  },
  {
   "cell_type": "markdown",
   "id": "coupled-literacy",
   "metadata": {
    "papermill": {
     "duration": 0.011609,
     "end_time": "2021-04-24T22:18:45.399964",
     "exception": false,
     "start_time": "2021-04-24T22:18:45.388355",
     "status": "completed"
    },
    "tags": []
   },
   "source": [
    "## Figure 1: Cummulative number of positive cases."
   ]
  },
  {
   "cell_type": "code",
   "execution_count": 7,
   "id": "surrounded-reserve",
   "metadata": {
    "execution": {
     "iopub.execute_input": "2021-04-24T22:18:45.426493Z",
     "iopub.status.busy": "2021-04-24T22:18:45.425899Z",
     "iopub.status.idle": "2021-04-24T22:18:45.643936Z",
     "shell.execute_reply": "2021-04-24T22:18:45.644397Z"
    },
    "jupyter": {
     "source_hidden": true
    },
    "papermill": {
     "duration": 0.233604,
     "end_time": "2021-04-24T22:18:45.644567",
     "exception": false,
     "start_time": "2021-04-24T22:18:45.410963",
     "status": "completed"
    },
    "scrolled": false,
    "tags": [
     "hide-input"
    ]
   },
   "outputs": [
    {
     "data": {
      "image/png": "[encoded data removed]",
      "text/plain": [
       "<Figure size 864x432 with 1 Axes>"
      ]
     },
     "metadata": {
      "needs_background": "light"
     },
     "output_type": "display_data"
    }
   ],
   "source": [
    "dc.plot(kind='line',x='DATE',y='7_DAY',color='blue',grid='True',figsize=(12,6)).set_xlabel('Date');"
   ]
  },
  {
   "cell_type": "markdown",
   "id": "professional-savannah",
   "metadata": {
    "papermill": {
     "duration": 0.012447,
     "end_time": "2021-04-24T22:18:45.670634",
     "exception": false,
     "start_time": "2021-04-24T22:18:45.658187",
     "status": "completed"
    },
    "tags": []
   },
   "source": [
    "## Figure 2: Rolling 7-day average of daily new cases."
   ]
  },
  {
   "cell_type": "code",
   "execution_count": 8,
   "id": "stretch-investor",
   "metadata": {
    "execution": {
     "iopub.execute_input": "2021-04-24T22:18:45.700149Z",
     "iopub.status.busy": "2021-04-24T22:18:45.699350Z",
     "iopub.status.idle": "2021-04-24T22:18:45.930209Z",
     "shell.execute_reply": "2021-04-24T22:18:45.930666Z"
    },
    "jupyter": {
     "source_hidden": true
    },
    "papermill": {
     "duration": 0.248328,
     "end_time": "2021-04-24T22:18:45.930832",
     "exception": false,
     "start_time": "2021-04-24T22:18:45.682504",
     "status": "completed"
    },
    "tags": []
   },
   "outputs": [
    {
     "data": {
      "image/png": "[encoded data removed]",
      "text/plain": [
       "<Figure size 864x432 with 1 Axes>"
      ]
     },
     "metadata": {
      "needs_background": "light"
     },
     "output_type": "display_data"
    }
   ],
   "source": [
    "dc.plot(kind='line',x='DATE',y='14_DAY',color='green',grid='True',figsize=(12,6)).set_xlabel('Date');"
   ]
  },
  {
   "cell_type": "markdown",
   "id": "prerequisite-species",
   "metadata": {
    "papermill": {
     "duration": 0.025221,
     "end_time": "2021-04-24T22:18:45.969657",
     "exception": false,
     "start_time": "2021-04-24T22:18:45.944436",
     "status": "completed"
    },
    "tags": []
   },
   "source": [
    "## Figure 3: Rolling 14-day average of daily new cases."
   ]
  },
  {
   "cell_type": "markdown",
   "id": "palestinian-guard",
   "metadata": {
    "papermill": {
     "duration": 0.013298,
     "end_time": "2021-04-24T22:18:45.995655",
     "exception": false,
     "start_time": "2021-04-24T22:18:45.982357",
     "status": "completed"
    },
    "tags": []
   },
   "source": [
    "Data source: [Wisconsin Department of Health Services](https://data.dhsgis.wi.gov/datasets/covid-19-historical-data-by-county)"
   ]
  },
  {
   "cell_type": "code",
   "execution_count": 9,
   "id": "proof-medicare",
   "metadata": {
    "execution": {
     "iopub.execute_input": "2021-04-24T22:18:46.026002Z",
     "iopub.status.busy": "2021-04-24T22:18:46.025265Z",
     "iopub.status.idle": "2021-04-24T22:18:46.029503Z",
     "shell.execute_reply": "2021-04-24T22:18:46.028969Z"
    },
    "jupyter": {
     "source_hidden": true
    },
    "papermill": {
     "duration": 0.021298,
     "end_time": "2021-04-24T22:18:46.029625",
     "exception": false,
     "start_time": "2021-04-24T22:18:46.008327",
     "status": "completed"
    },
    "tags": []
   },
   "outputs": [
    {
     "data": {
      "text/html": [
       "<style>\n",
       "div.input {\n",
       "    display:none;\n",
       "}\n",
       "</style>\n"
      ],
      "text/plain": [
       "<IPython.core.display.HTML object>"
      ]
     },
     "metadata": {},
     "output_type": "display_data"
    }
   ],
   "source": [
    "%%html\n",
    "<style>\n",
    "div.input {\n",
    "    display:none;\n",
    "}\n",
    "</style>"
   ]
  }
 ],
 "metadata": {
  "kernelspec": {
   "display_name": "Python 3",
   "language": "python",
   "name": "python3"
  },
  "language_info": {
   "codemirror_mode": {
    "name": "ipython",
    "version": 3
   },
   "file_extension": ".py",
   "mimetype": "text/x-python",
   "name": "python",
   "nbconvert_exporter": "python",
   "pygments_lexer": "ipython3",
   "version": "3.8.9"
  },
  "papermill": {
   "duration": 4.488326,
   "end_time": "2021-04-24T22:18:46.348986",
   "environment_variables": {},
   "exception": null,
   "input_path": "DunnCounty_COVID19.ipynb",
   "output_path": "DunnCounty_COVID19.ipynb",
   "parameters": {
    "Start": "True",
    "secretsPath": "/home/runner/work/_temp/secrets.json"
   },
   "start_time": "2021-04-24T22:18:41.860660",
   "version": "1.1.16"
  }
 },
 "nbformat": 4,
 "nbformat_minor": 5
}