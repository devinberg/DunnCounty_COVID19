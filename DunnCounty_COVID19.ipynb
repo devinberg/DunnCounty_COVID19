{
 "cells": [
  {
   "cell_type": "code",
   "execution_count": 1,
   "id": "solar-understanding",
   "metadata": {
    "execution": {
     "iopub.execute_input": "2021-06-22T10:13:09.844622Z",
     "iopub.status.busy": "2021-06-22T10:13:09.844160Z",
     "iopub.status.idle": "2021-06-22T10:13:11.954309Z",
     "shell.execute_reply": "2021-06-22T10:13:11.953737Z"
    },
    "jupyter": {
     "source_hidden": true
    },
    "papermill": {
     "duration": 2.12738,
     "end_time": "2021-06-22T10:13:11.954451",
     "exception": false,
     "start_time": "2021-06-22T10:13:09.827071",
     "status": "completed"
    },
    "scrolled": true,
    "tags": [
     "hide-input"
    ]
   },
   "outputs": [],
   "source": [
    "import pandas as pd\n",
    "import matplotlib.pyplot as plt\n",
    "from matplotlib import dates\n",
    "from IPython.display import display, Markdown\n",
    "%matplotlib inline"
   ]
  },
  {
   "cell_type": "code",
   "execution_count": 2,
   "id": "purple-playlist",
   "metadata": {
    "execution": {
     "iopub.execute_input": "2021-06-22T10:13:11.975575Z",
     "iopub.status.busy": "2021-06-22T10:13:11.975119Z",
     "iopub.status.idle": "2021-06-22T10:13:12.788117Z",
     "shell.execute_reply": "2021-06-22T10:13:12.787307Z"
    },
    "jupyter": {
     "source_hidden": true
    },
    "papermill": {
     "duration": 0.825064,
     "end_time": "2021-06-22T10:13:12.788237",
     "exception": false,
     "start_time": "2021-06-22T10:13:11.963173",
     "status": "completed"
    },
    "scrolled": true,
    "tags": [
     "hide-input"
    ]
   },
   "outputs": [],
   "source": [
    "# This is the data for all of Wisconsin.\n",
    "url = \"https://opendata.arcgis.com/api/v3/datasets/3161f6e01d8141c6abe85a29ff7f3d3c_12/downloads/data?format=csv&spatialRefId=3857\"\n",
    "data = pd.read_csv(url, parse_dates=['DATE'], low_memory=False)"
   ]
  },
  {
   "cell_type": "code",
   "execution_count": 3,
   "id": "proprietary-klein",
   "metadata": {
    "execution": {
     "iopub.execute_input": "2021-06-22T10:13:12.808868Z",
     "iopub.status.busy": "2021-06-22T10:13:12.808404Z",
     "iopub.status.idle": "2021-06-22T10:13:12.816162Z",
     "shell.execute_reply": "2021-06-22T10:13:12.816505Z"
    },
    "jupyter": {
     "source_hidden": true
    },
    "papermill": {
     "duration": 0.020672,
     "end_time": "2021-06-22T10:13:12.816621",
     "exception": false,
     "start_time": "2021-06-22T10:13:12.795949",
     "status": "completed"
    },
    "scrolled": true,
    "tags": [
     "hide-input"
    ]
   },
   "outputs": [],
   "source": [
    "dc = data.groupby('NAME').get_group('Dunn').sort_values(by='DATE') # Select the data for Dunn County from the full data.\n",
    "PNi = dc.columns.get_loc(\"POS_NEW\")\n",
    "dc['7_DAY'] = dc.iloc[:,PNi].rolling(window=7).mean() # Calculates the rolling 7-day average of new cases.\n",
    "dc['14_DAY'] = dc.iloc[:,PNi].rolling(window=14).mean() # Calculates the rolling 14-day average of new cases."
   ]
  },
  {
   "cell_type": "code",
   "execution_count": 4,
   "id": "steady-supervision",
   "metadata": {
    "execution": {
     "iopub.execute_input": "2021-06-22T10:13:12.836669Z",
     "iopub.status.busy": "2021-06-22T10:13:12.836228Z",
     "iopub.status.idle": "2021-06-22T10:13:12.840013Z",
     "shell.execute_reply": "2021-06-22T10:13:12.839573Z"
    },
    "jupyter": {
     "source_hidden": true
    },
    "papermill": {
     "duration": 0.016069,
     "end_time": "2021-06-22T10:13:12.840104",
     "exception": false,
     "start_time": "2021-06-22T10:13:12.824035",
     "status": "completed"
    },
    "scrolled": true,
    "tags": [
     "hide-input"
    ]
   },
   "outputs": [
    {
     "data": {
      "text/markdown": [
       "### Last updated: June 21, 2021"
      ],
      "text/plain": [
       "<IPython.core.display.Markdown object>"
      ]
     },
     "metadata": {},
     "output_type": "display_data"
    }
   ],
   "source": [
    "display(Markdown('### Last updated: ' + dc.iloc[-1]['DATE'].strftime(\"%B %d, %Y\")))"
   ]
  },
  {
   "cell_type": "code",
   "execution_count": 5,
   "id": "lonely-pitch",
   "metadata": {
    "execution": {
     "iopub.execute_input": "2021-06-22T10:13:12.860341Z",
     "iopub.status.busy": "2021-06-22T10:13:12.859831Z",
     "iopub.status.idle": "2021-06-22T10:13:12.862420Z",
     "shell.execute_reply": "2021-06-22T10:13:12.862007Z"
    },
    "jupyter": {
     "source_hidden": true
    },
    "papermill": {
     "duration": 0.014615,
     "end_time": "2021-06-22T10:13:12.862524",
     "exception": false,
     "start_time": "2021-06-22T10:13:12.847909",
     "status": "completed"
    },
    "tags": [
     "hide-input"
    ]
   },
   "outputs": [
    {
     "data": {
      "text/markdown": [
       "# Dunn County has 4697 total positive cases, with 0 new cases reported today."
      ],
      "text/plain": [
       "<IPython.core.display.Markdown object>"
      ]
     },
     "metadata": {},
     "output_type": "display_data"
    }
   ],
   "source": [
    "display(Markdown('# Dunn County has ' + str(dc.iloc[-1]['POSITIVE']) + ' total positive cases, with '+ str(int(dc.iloc[-1]['POS_NEW'])) + ' new cases reported today.'))"
   ]
  },
  {
   "cell_type": "code",
   "execution_count": 6,
   "id": "compound-nightmare",
   "metadata": {
    "execution": {
     "iopub.execute_input": "2021-06-22T10:13:12.882019Z",
     "iopub.status.busy": "2021-06-22T10:13:12.881555Z",
     "iopub.status.idle": "2021-06-22T10:13:13.106516Z",
     "shell.execute_reply": "2021-06-22T10:13:13.105966Z"
    },
    "jupyter": {
     "source_hidden": true
    },
    "papermill": {
     "duration": 0.235821,
     "end_time": "2021-06-22T10:13:13.106636",
     "exception": false,
     "start_time": "2021-06-22T10:13:12.870815",
     "status": "completed"
    },
    "scrolled": false,
    "tags": [
     "hide-input"
    ]
   },
   "outputs": [
    {
     "data": {
      "image/png": "[encoded data removed]",
      "text/plain": [
       "<Figure size 864x432 with 1 Axes>"
      ]
     },
     "metadata": {
      "needs_background": "light"
     },
     "output_type": "display_data"
    }
   ],
   "source": [
    "dc.plot(x='DATE',y='POSITIVE',color='red',grid='True',figsize=(12,6)).set_xlabel('Date');"
   ]
  },
  {
   "cell_type": "markdown",
   "id": "coupled-literacy",
   "metadata": {
    "papermill": {
     "duration": 0.009191,
     "end_time": "2021-06-22T10:13:13.125044",
     "exception": false,
     "start_time": "2021-06-22T10:13:13.115853",
     "status": "completed"
    },
    "tags": []
   },
   "source": [
    "## Figure 1: Cummulative number of positive cases."
   ]
  },
  {
   "cell_type": "code",
   "execution_count": 7,
   "id": "surrounded-reserve",
   "metadata": {
    "execution": {
     "iopub.execute_input": "2021-06-22T10:13:13.185459Z",
     "iopub.status.busy": "2021-06-22T10:13:13.171020Z",
     "iopub.status.idle": "2021-06-22T10:13:13.352568Z",
     "shell.execute_reply": "2021-06-22T10:13:13.352177Z"
    },
    "jupyter": {
     "source_hidden": true
    },
    "papermill": {
     "duration": 0.218801,
     "end_time": "2021-06-22T10:13:13.352679",
     "exception": false,
     "start_time": "2021-06-22T10:13:13.133878",
     "status": "completed"
    },
    "scrolled": false,
    "tags": [
     "hide-input"
    ]
   },
   "outputs": [
    {
     "data": {
      "image/png": "[encoded data removed]",
      "text/plain": [
       "<Figure size 864x432 with 1 Axes>"
      ]
     },
     "metadata": {
      "needs_background": "light"
     },
     "output_type": "display_data"
    }
   ],
   "source": [
    "dc.plot(kind='line',x='DATE',y='7_DAY',color='blue',grid='True',figsize=(12,6)).set_xlabel('Date');"
   ]
  },
  {
   "cell_type": "markdown",
   "id": "professional-savannah",
   "metadata": {
    "papermill": {
     "duration": 0.009806,
     "end_time": "2021-06-22T10:13:13.372611",
     "exception": false,
     "start_time": "2021-06-22T10:13:13.362805",
     "status": "completed"
    },
    "tags": []
   },
   "source": [
    "## Figure 2: Rolling 7-day average of daily new cases."
   ]
  },
  {
   "cell_type": "code",
   "execution_count": 8,
   "id": "stretch-investor",
   "metadata": {
    "execution": {
     "iopub.execute_input": "2021-06-22T10:13:13.417817Z",
     "iopub.status.busy": "2021-06-22T10:13:13.395642Z",
     "iopub.status.idle": "2021-06-22T10:13:13.597295Z",
     "shell.execute_reply": "2021-06-22T10:13:13.595859Z"
    },
    "jupyter": {
     "source_hidden": true
    },
    "papermill": {
     "duration": 0.215063,
     "end_time": "2021-06-22T10:13:13.597422",
     "exception": false,
     "start_time": "2021-06-22T10:13:13.382359",
     "status": "completed"
    },
    "tags": []
   },
   "outputs": [
    {
     "data": {
      "image/png": "[encoded data removed]",
      "text/plain": [
       "<Figure size 864x432 with 1 Axes>"
      ]
     },
     "metadata": {
      "needs_background": "light"
     },
     "output_type": "display_data"
    }
   ],
   "source": [
    "dc.plot(kind='line',x='DATE',y='14_DAY',color='green',grid='True',figsize=(12,6)).set_xlabel('Date');"
   ]
  },
  {
   "cell_type": "markdown",
   "id": "prerequisite-species",
   "metadata": {
    "papermill": {
     "duration": 0.022622,
     "end_time": "2021-06-22T10:13:13.653298",
     "exception": false,
     "start_time": "2021-06-22T10:13:13.630676",
     "status": "completed"
    },
    "tags": []
   },
   "source": [
    "## Figure 3: Rolling 14-day average of daily new cases."
   ]
  },
  {
   "cell_type": "markdown",
   "id": "palestinian-guard",
   "metadata": {
    "papermill": {
     "duration": 0.010668,
     "end_time": "2021-06-22T10:13:13.675105",
     "exception": false,
     "start_time": "2021-06-22T10:13:13.664437",
     "status": "completed"
    },
    "tags": []
   },
   "source": [
    "Data source: [Wisconsin Department of Health Services](https://data.dhsgis.wi.gov/datasets/wi-dhs::covid-19-historical-data-by-county-1)"
   ]
  },
  {
   "cell_type": "code",
   "execution_count": 9,
   "id": "proof-medicare",
   "metadata": {
    "execution": {
     "iopub.execute_input": "2021-06-22T10:13:13.701454Z",
     "iopub.status.busy": "2021-06-22T10:13:13.700908Z",
     "iopub.status.idle": "2021-06-22T10:13:13.702956Z",
     "shell.execute_reply": "2021-06-22T10:13:13.703368Z"
    },
    "jupyter": {
     "source_hidden": true
    },
    "papermill": {
     "duration": 0.017598,
     "end_time": "2021-06-22T10:13:13.703507",
     "exception": false,
     "start_time": "2021-06-22T10:13:13.685909",
     "status": "completed"
    },
    "tags": []
   },
   "outputs": [
    {
     "data": {
      "text/html": [
       "<style>\n",
       "div.input {\n",
       "    display:none;\n",
       "}\n",
       "</style>\n"
      ],
      "text/plain": [
       "<IPython.core.display.HTML object>"
      ]
     },
     "metadata": {},
     "output_type": "display_data"
    }
   ],
   "source": [
    "%%html\n",
    "<style>\n",
    "div.input {\n",
    "    display:none;\n",
    "}\n",
    "</style>"
   ]
  }
 ],
 "metadata": {
  "kernelspec": {
   "display_name": "Python 3",
   "language": "python",
   "name": "python3"
  },
  "language_info": {
   "codemirror_mode": {
    "name": "ipython",
    "version": 3
   },
   "file_extension": ".py",
   "mimetype": "text/x-python",
   "name": "python",
   "nbconvert_exporter": "python",
   "pygments_lexer": "ipython3",
   "version": "3.8.10"
  },
  "papermill": {
   "duration": 6.78268,
   "end_time": "2021-06-22T10:13:14.994778",
   "environment_variables": {},
   "exception": null,
   "input_path": "DunnCounty_COVID19.ipynb",
   "output_path": "DunnCounty_COVID19.ipynb",
   "parameters": {
    "Start": "True",
    "secretsPath": "/home/runner/work/_temp/secrets.json"
   },
   "start_time": "2021-06-22T10:13:08.212098",
   "version": "1.1.16"
  }
 },
 "nbformat": 4,
 "nbformat_minor": 5
}