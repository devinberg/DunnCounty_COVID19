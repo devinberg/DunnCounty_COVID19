{
 "cells": [
  {
   "cell_type": "code",
   "execution_count": 1,
   "id": "solar-understanding",
   "metadata": {
    "execution": {
     "iopub.execute_input": "2021-01-30T22:13:05.037797Z",
     "iopub.status.busy": "2021-01-30T22:13:05.037185Z",
     "iopub.status.idle": "2021-01-30T22:13:07.311276Z",
     "shell.execute_reply": "2021-01-30T22:13:07.311818Z"
    },
    "jupyter": {
     "source_hidden": true
    },
    "papermill": {
     "duration": 2.295718,
     "end_time": "2021-01-30T22:13:07.312133",
     "exception": false,
     "start_time": "2021-01-30T22:13:05.016415",
     "status": "completed"
    },
    "scrolled": true,
    "tags": [
     "hide-input"
    ]
   },
   "outputs": [],
   "source": [
    "import pandas as pd\n",
    "import matplotlib.pyplot as plt\n",
    "from matplotlib import dates\n",
    "from IPython.display import display, Markdown\n",
    "%matplotlib inline"
   ]
  },
  {
   "cell_type": "code",
   "execution_count": 2,
   "id": "purple-playlist",
   "metadata": {
    "execution": {
     "iopub.execute_input": "2021-01-30T22:13:07.339394Z",
     "iopub.status.busy": "2021-01-30T22:13:07.338766Z",
     "iopub.status.idle": "2021-01-30T22:13:08.051146Z",
     "shell.execute_reply": "2021-01-30T22:13:08.050589Z"
    },
    "jupyter": {
     "source_hidden": true
    },
    "papermill": {
     "duration": 0.728346,
     "end_time": "2021-01-30T22:13:08.051280",
     "exception": false,
     "start_time": "2021-01-30T22:13:07.322934",
     "status": "completed"
    },
    "scrolled": true,
    "tags": [
     "hide-input"
    ]
   },
   "outputs": [],
   "source": [
    "# This is the data for all of Wisconsin.\n",
    "url = \"https://opendata.arcgis.com/datasets/5374188992374b318d3e2305216ee413_12.csv\"\n",
    "data = pd.read_csv(url, parse_dates=['DATE'], low_memory=False)"
   ]
  },
  {
   "cell_type": "code",
   "execution_count": 3,
   "id": "proprietary-klein",
   "metadata": {
    "execution": {
     "iopub.execute_input": "2021-01-30T22:13:08.078352Z",
     "iopub.status.busy": "2021-01-30T22:13:08.077743Z",
     "iopub.status.idle": "2021-01-30T22:13:08.086614Z",
     "shell.execute_reply": "2021-01-30T22:13:08.085884Z"
    },
    "jupyter": {
     "source_hidden": true
    },
    "papermill": {
     "duration": 0.025659,
     "end_time": "2021-01-30T22:13:08.086817",
     "exception": false,
     "start_time": "2021-01-30T22:13:08.061158",
     "status": "completed"
    },
    "scrolled": true,
    "tags": [
     "hide-input"
    ]
   },
   "outputs": [],
   "source": [
    "dc = data.groupby('NAME').get_group('Dunn').sort_values(by='DATE') # Select the data for Dunn County from the full data.\n",
    "PNi = dc.columns.get_loc(\"POS_NEW\")\n",
    "dc['7_DAY'] = dc.iloc[:,PNi].rolling(window=7).mean() # Calculates the rolling 7-day average of new cases.\n",
    "dc['14_DAY'] = dc.iloc[:,PNi].rolling(window=14).mean() # Calculates the rolling 14-day average of new cases."
   ]
  },
  {
   "cell_type": "code",
   "execution_count": 4,
   "id": "steady-supervision",
   "metadata": {
    "execution": {
     "iopub.execute_input": "2021-01-30T22:13:08.111868Z",
     "iopub.status.busy": "2021-01-30T22:13:08.111088Z",
     "iopub.status.idle": "2021-01-30T22:13:08.114143Z",
     "shell.execute_reply": "2021-01-30T22:13:08.114598Z"
    },
    "jupyter": {
     "source_hidden": true
    },
    "papermill": {
     "duration": 0.019158,
     "end_time": "2021-01-30T22:13:08.114799",
     "exception": false,
     "start_time": "2021-01-30T22:13:08.095641",
     "status": "completed"
    },
    "scrolled": true,
    "tags": [
     "hide-input"
    ]
   },
   "outputs": [
    {
     "data": {
      "text/markdown": [
       "### Last updated: January 30, 2021"
      ],
      "text/plain": [
       "<IPython.core.display.Markdown object>"
      ]
     },
     "metadata": {},
     "output_type": "display_data"
    }
   ],
   "source": [
    "display(Markdown('### Last updated: ' + dc.iloc[-1]['DATE'].strftime(\"%B %d, %Y\")))"
   ]
  },
  {
   "cell_type": "code",
   "execution_count": 5,
   "id": "lonely-pitch",
   "metadata": {
    "execution": {
     "iopub.execute_input": "2021-01-30T22:13:08.139268Z",
     "iopub.status.busy": "2021-01-30T22:13:08.138357Z",
     "iopub.status.idle": "2021-01-30T22:13:08.141356Z",
     "shell.execute_reply": "2021-01-30T22:13:08.141834Z"
    },
    "jupyter": {
     "source_hidden": true
    },
    "papermill": {
     "duration": 0.017342,
     "end_time": "2021-01-30T22:13:08.141987",
     "exception": false,
     "start_time": "2021-01-30T22:13:08.124645",
     "status": "completed"
    },
    "tags": [
     "hide-input"
    ]
   },
   "outputs": [
    {
     "data": {
      "text/markdown": [
       "# Dunn County has 4040 total positive cases, with 18 new cases reported today."
      ],
      "text/plain": [
       "<IPython.core.display.Markdown object>"
      ]
     },
     "metadata": {},
     "output_type": "display_data"
    }
   ],
   "source": [
    "display(Markdown('# Dunn County has ' + str(dc.iloc[-1]['POSITIVE']) + ' total positive cases, with '+ str(int(dc.iloc[-1]['POS_NEW'])) + ' new cases reported today.'))"
   ]
  },
  {
   "cell_type": "code",
   "execution_count": 6,
   "id": "compound-nightmare",
   "metadata": {
    "execution": {
     "iopub.execute_input": "2021-01-30T22:13:08.167417Z",
     "iopub.status.busy": "2021-01-30T22:13:08.166813Z",
     "iopub.status.idle": "2021-01-30T22:13:08.515374Z",
     "shell.execute_reply": "2021-01-30T22:13:08.514767Z"
    },
    "jupyter": {
     "source_hidden": true
    },
    "papermill": {
     "duration": 0.362678,
     "end_time": "2021-01-30T22:13:08.515517",
     "exception": false,
     "start_time": "2021-01-30T22:13:08.152839",
     "status": "completed"
    },
    "scrolled": false,
    "tags": [
     "hide-input"
    ]
   },
   "outputs": [
    {
     "data": {
      "image/png": "[encoded data removed]",
      "text/plain": [
       "<Figure size 864x432 with 1 Axes>"
      ]
     },
     "metadata": {
      "needs_background": "light"
     },
     "output_type": "display_data"
    }
   ],
   "source": [
    "dc.plot(x='DATE',y='POSITIVE',color='red',grid='True',figsize=(12,6)).set_xlabel('Date');"
   ]
  },
  {
   "cell_type": "markdown",
   "id": "coupled-literacy",
   "metadata": {
    "papermill": {
     "duration": 0.010613,
     "end_time": "2021-01-30T22:13:08.537562",
     "exception": false,
     "start_time": "2021-01-30T22:13:08.526949",
     "status": "completed"
    },
    "tags": []
   },
   "source": [
    "## Figure 1: Cummulative number of positive cases."
   ]
  },
  {
   "cell_type": "code",
   "execution_count": 7,
   "id": "surrounded-reserve",
   "metadata": {
    "execution": {
     "iopub.execute_input": "2021-01-30T22:13:08.565441Z",
     "iopub.status.busy": "2021-01-30T22:13:08.564846Z",
     "iopub.status.idle": "2021-01-30T22:13:08.842329Z",
     "shell.execute_reply": "2021-01-30T22:13:08.841650Z"
    },
    "jupyter": {
     "source_hidden": true
    },
    "papermill": {
     "duration": 0.293416,
     "end_time": "2021-01-30T22:13:08.842475",
     "exception": false,
     "start_time": "2021-01-30T22:13:08.549059",
     "status": "completed"
    },
    "scrolled": false,
    "tags": [
     "hide-input"
    ]
   },
   "outputs": [
    {
     "data": {
      "image/png": "[encoded data removed]",
      "text/plain": [
       "<Figure size 864x432 with 1 Axes>"
      ]
     },
     "metadata": {
      "needs_background": "light"
     },
     "output_type": "display_data"
    }
   ],
   "source": [
    "dc.plot(kind='line',x='DATE',y='7_DAY',color='blue',grid='True',figsize=(12,6)).set_xlabel('Date');"
   ]
  },
  {
   "cell_type": "markdown",
   "id": "professional-savannah",
   "metadata": {
    "papermill": {
     "duration": 0.012342,
     "end_time": "2021-01-30T22:13:08.867493",
     "exception": false,
     "start_time": "2021-01-30T22:13:08.855151",
     "status": "completed"
    },
    "tags": []
   },
   "source": [
    "## Figure 2: Rolling 7-day average of daily new cases."
   ]
  },
  {
   "cell_type": "code",
   "execution_count": 8,
   "id": "stretch-investor",
   "metadata": {
    "execution": {
     "iopub.execute_input": "2021-01-30T22:13:08.896660Z",
     "iopub.status.busy": "2021-01-30T22:13:08.894688Z",
     "iopub.status.idle": "2021-01-30T22:13:09.169493Z",
     "shell.execute_reply": "2021-01-30T22:13:09.169945Z"
    },
    "jupyter": {
     "source_hidden": true
    },
    "papermill": {
     "duration": 0.290447,
     "end_time": "2021-01-30T22:13:09.170112",
     "exception": false,
     "start_time": "2021-01-30T22:13:08.879665",
     "status": "completed"
    },
    "tags": []
   },
   "outputs": [
    {
     "data": {
      "image/png": "[encoded data removed]",
      "text/plain": [
       "<Figure size 864x432 with 1 Axes>"
      ]
     },
     "metadata": {
      "needs_background": "light"
     },
     "output_type": "display_data"
    }
   ],
   "source": [
    "dc.plot(kind='line',x='DATE',y='14_DAY',color='green',grid='True',figsize=(12,6)).set_xlabel('Date');"
   ]
  },
  {
   "cell_type": "markdown",
   "id": "prerequisite-species",
   "metadata": {
    "papermill": {
     "duration": 0.013217,
     "end_time": "2021-01-30T22:13:09.196659",
     "exception": false,
     "start_time": "2021-01-30T22:13:09.183442",
     "status": "completed"
    },
    "tags": []
   },
   "source": [
    "## Figure 3: Rolling 14-day average of daily new cases."
   ]
  },
  {
   "cell_type": "markdown",
   "id": "palestinian-guard",
   "metadata": {
    "papermill": {
     "duration": 0.012214,
     "end_time": "2021-01-30T22:13:09.221444",
     "exception": false,
     "start_time": "2021-01-30T22:13:09.209230",
     "status": "completed"
    },
    "tags": []
   },
   "source": [
    "Data source: [Wisconsin Department of Health Services](https://data.dhsgis.wi.gov/datasets/covid-19-historical-data-table/)"
   ]
  },
  {
   "cell_type": "code",
   "execution_count": 9,
   "id": "proof-medicare",
   "metadata": {
    "execution": {
     "iopub.execute_input": "2021-01-30T22:13:09.251786Z",
     "iopub.status.busy": "2021-01-30T22:13:09.251030Z",
     "iopub.status.idle": "2021-01-30T22:13:09.253739Z",
     "shell.execute_reply": "2021-01-30T22:13:09.254178Z"
    },
    "jupyter": {
     "source_hidden": true
    },
    "papermill": {
     "duration": 0.020242,
     "end_time": "2021-01-30T22:13:09.254319",
     "exception": false,
     "start_time": "2021-01-30T22:13:09.234077",
     "status": "completed"
    },
    "tags": []
   },
   "outputs": [
    {
     "data": {
      "text/html": [
       "<style>\n",
       "div.input {\n",
       "    display:none;\n",
       "}\n",
       "</style>\n"
      ],
      "text/plain": [
       "<IPython.core.display.HTML object>"
      ]
     },
     "metadata": {},
     "output_type": "display_data"
    }
   ],
   "source": [
    "%%html\n",
    "<style>\n",
    "div.input {\n",
    "    display:none;\n",
    "}\n",
    "</style>"
   ]
  }
 ],
 "metadata": {
  "kernelspec": {
   "display_name": "Python 3",
   "language": "python",
   "name": "python3"
  },
  "language_info": {
   "codemirror_mode": {
    "name": "ipython",
    "version": 3
   },
   "file_extension": ".py",
   "mimetype": "text/x-python",
   "name": "python",
   "nbconvert_exporter": "python",
   "pygments_lexer": "ipython3",
   "version": "3.8.7"
  },
  "papermill": {
   "duration": 6.387162,
   "end_time": "2021-01-30T22:13:09.576225",
   "environment_variables": {},
   "exception": null,
   "input_path": "DunnCounty_COVID19.ipynb",
   "output_path": "DunnCounty_COVID19.ipynb",
   "parameters": {
    "Start": "True",
    "secretsPath": "/home/runner/work/_temp/secrets.json"
   },
   "start_time": "2021-01-30T22:13:03.189063",
   "version": "1.1.16"
  }
 },
 "nbformat": 4,
 "nbformat_minor": 5
}