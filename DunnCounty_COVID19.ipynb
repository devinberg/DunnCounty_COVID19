{
 "cells": [
  {
   "cell_type": "code",
   "execution_count": 1,
   "id": "solar-understanding",
   "metadata": {
    "execution": {
     "iopub.execute_input": "2021-03-07T10:12:46.759773Z",
     "iopub.status.busy": "2021-03-07T10:12:46.759247Z",
     "iopub.status.idle": "2021-03-07T10:12:48.596883Z",
     "shell.execute_reply": "2021-03-07T10:12:48.595357Z"
    },
    "jupyter": {
     "source_hidden": true
    },
    "papermill": {
     "duration": 1.860386,
     "end_time": "2021-03-07T10:12:48.597109",
     "exception": false,
     "start_time": "2021-03-07T10:12:46.736723",
     "status": "completed"
    },
    "scrolled": true,
    "tags": [
     "hide-input"
    ]
   },
   "outputs": [],
   "source": [
    "import pandas as pd\n",
    "import matplotlib.pyplot as plt\n",
    "from matplotlib import dates\n",
    "from IPython.display import display, Markdown\n",
    "%matplotlib inline"
   ]
  },
  {
   "cell_type": "code",
   "execution_count": 2,
   "id": "purple-playlist",
   "metadata": {
    "execution": {
     "iopub.execute_input": "2021-03-07T10:12:48.617426Z",
     "iopub.status.busy": "2021-03-07T10:12:48.616992Z",
     "iopub.status.idle": "2021-03-07T10:12:49.348888Z",
     "shell.execute_reply": "2021-03-07T10:12:49.348037Z"
    },
    "jupyter": {
     "source_hidden": true
    },
    "papermill": {
     "duration": 0.743995,
     "end_time": "2021-03-07T10:12:49.349078",
     "exception": false,
     "start_time": "2021-03-07T10:12:48.605083",
     "status": "completed"
    },
    "scrolled": true,
    "tags": [
     "hide-input"
    ]
   },
   "outputs": [],
   "source": [
    "# This is the data for all of Wisconsin.\n",
    "url = \"https://opendata.arcgis.com/datasets/5374188992374b318d3e2305216ee413_12.csv\"\n",
    "data = pd.read_csv(url, parse_dates=['DATE'], low_memory=False)"
   ]
  },
  {
   "cell_type": "code",
   "execution_count": 3,
   "id": "proprietary-klein",
   "metadata": {
    "execution": {
     "iopub.execute_input": "2021-03-07T10:12:49.373746Z",
     "iopub.status.busy": "2021-03-07T10:12:49.373311Z",
     "iopub.status.idle": "2021-03-07T10:12:49.380951Z",
     "shell.execute_reply": "2021-03-07T10:12:49.381325Z"
    },
    "jupyter": {
     "source_hidden": true
    },
    "papermill": {
     "duration": 0.020925,
     "end_time": "2021-03-07T10:12:49.381455",
     "exception": false,
     "start_time": "2021-03-07T10:12:49.360530",
     "status": "completed"
    },
    "scrolled": true,
    "tags": [
     "hide-input"
    ]
   },
   "outputs": [],
   "source": [
    "dc = data.groupby('NAME').get_group('Dunn').sort_values(by='DATE') # Select the data for Dunn County from the full data.\n",
    "PNi = dc.columns.get_loc(\"POS_NEW\")\n",
    "dc['7_DAY'] = dc.iloc[:,PNi].rolling(window=7).mean() # Calculates the rolling 7-day average of new cases.\n",
    "dc['14_DAY'] = dc.iloc[:,PNi].rolling(window=14).mean() # Calculates the rolling 14-day average of new cases."
   ]
  },
  {
   "cell_type": "code",
   "execution_count": 4,
   "id": "steady-supervision",
   "metadata": {
    "execution": {
     "iopub.execute_input": "2021-03-07T10:12:49.402382Z",
     "iopub.status.busy": "2021-03-07T10:12:49.401946Z",
     "iopub.status.idle": "2021-03-07T10:12:49.404444Z",
     "shell.execute_reply": "2021-03-07T10:12:49.404855Z"
    },
    "jupyter": {
     "source_hidden": true
    },
    "papermill": {
     "duration": 0.015783,
     "end_time": "2021-03-07T10:12:49.404987",
     "exception": false,
     "start_time": "2021-03-07T10:12:49.389204",
     "status": "completed"
    },
    "scrolled": true,
    "tags": [
     "hide-input"
    ]
   },
   "outputs": [
    {
     "data": {
      "text/markdown": [
       "### Last updated: March 06, 2021"
      ],
      "text/plain": [
       "<IPython.core.display.Markdown object>"
      ]
     },
     "metadata": {},
     "output_type": "display_data"
    }
   ],
   "source": [
    "display(Markdown('### Last updated: ' + dc.iloc[-1]['DATE'].strftime(\"%B %d, %Y\")))"
   ]
  },
  {
   "cell_type": "code",
   "execution_count": 5,
   "id": "lonely-pitch",
   "metadata": {
    "execution": {
     "iopub.execute_input": "2021-03-07T10:12:49.425393Z",
     "iopub.status.busy": "2021-03-07T10:12:49.424907Z",
     "iopub.status.idle": "2021-03-07T10:12:49.427307Z",
     "shell.execute_reply": "2021-03-07T10:12:49.427702Z"
    },
    "jupyter": {
     "source_hidden": true
    },
    "papermill": {
     "duration": 0.014789,
     "end_time": "2021-03-07T10:12:49.427817",
     "exception": false,
     "start_time": "2021-03-07T10:12:49.413028",
     "status": "completed"
    },
    "tags": [
     "hide-input"
    ]
   },
   "outputs": [
    {
     "data": {
      "text/markdown": [
       "# Dunn County has 4279 total positive cases, with -10 new cases reported today."
      ],
      "text/plain": [
       "<IPython.core.display.Markdown object>"
      ]
     },
     "metadata": {},
     "output_type": "display_data"
    }
   ],
   "source": [
    "display(Markdown('# Dunn County has ' + str(dc.iloc[-1]['POSITIVE']) + ' total positive cases, with '+ str(int(dc.iloc[-1]['POS_NEW'])) + ' new cases reported today.'))"
   ]
  },
  {
   "cell_type": "code",
   "execution_count": 6,
   "id": "compound-nightmare",
   "metadata": {
    "execution": {
     "iopub.execute_input": "2021-03-07T10:12:49.448153Z",
     "iopub.status.busy": "2021-03-07T10:12:49.447630Z",
     "iopub.status.idle": "2021-03-07T10:12:49.681874Z",
     "shell.execute_reply": "2021-03-07T10:12:49.680622Z"
    },
    "jupyter": {
     "source_hidden": true
    },
    "papermill": {
     "duration": 0.245811,
     "end_time": "2021-03-07T10:12:49.682017",
     "exception": false,
     "start_time": "2021-03-07T10:12:49.436206",
     "status": "completed"
    },
    "scrolled": false,
    "tags": [
     "hide-input"
    ]
   },
   "outputs": [
    {
     "data": {
      "image/png": "[encoded data removed]",
      "text/plain": [
       "<Figure size 864x432 with 1 Axes>"
      ]
     },
     "metadata": {
      "needs_background": "light"
     },
     "output_type": "display_data"
    }
   ],
   "source": [
    "dc.plot(x='DATE',y='POSITIVE',color='red',grid='True',figsize=(12,6)).set_xlabel('Date');"
   ]
  },
  {
   "cell_type": "markdown",
   "id": "coupled-literacy",
   "metadata": {
    "papermill": {
     "duration": 0.010058,
     "end_time": "2021-03-07T10:12:49.702096",
     "exception": false,
     "start_time": "2021-03-07T10:12:49.692038",
     "status": "completed"
    },
    "tags": []
   },
   "source": [
    "## Figure 1: Cummulative number of positive cases."
   ]
  },
  {
   "cell_type": "code",
   "execution_count": 7,
   "id": "surrounded-reserve",
   "metadata": {
    "execution": {
     "iopub.execute_input": "2021-03-07T10:12:49.732965Z",
     "iopub.status.busy": "2021-03-07T10:12:49.732445Z",
     "iopub.status.idle": "2021-03-07T10:12:49.895221Z",
     "shell.execute_reply": "2021-03-07T10:12:49.895586Z"
    },
    "jupyter": {
     "source_hidden": true
    },
    "papermill": {
     "duration": 0.18348,
     "end_time": "2021-03-07T10:12:49.895718",
     "exception": false,
     "start_time": "2021-03-07T10:12:49.712238",
     "status": "completed"
    },
    "scrolled": false,
    "tags": [
     "hide-input"
    ]
   },
   "outputs": [
    {
     "data": {
      "image/png": "[encoded data removed]",
      "text/plain": [
       "<Figure size 864x432 with 1 Axes>"
      ]
     },
     "metadata": {
      "needs_background": "light"
     },
     "output_type": "display_data"
    }
   ],
   "source": [
    "dc.plot(kind='line',x='DATE',y='7_DAY',color='blue',grid='True',figsize=(12,6)).set_xlabel('Date');"
   ]
  },
  {
   "cell_type": "markdown",
   "id": "professional-savannah",
   "metadata": {
    "papermill": {
     "duration": 0.010216,
     "end_time": "2021-03-07T10:12:49.916957",
     "exception": false,
     "start_time": "2021-03-07T10:12:49.906741",
     "status": "completed"
    },
    "tags": []
   },
   "source": [
    "## Figure 2: Rolling 7-day average of daily new cases."
   ]
  },
  {
   "cell_type": "code",
   "execution_count": 8,
   "id": "stretch-investor",
   "metadata": {
    "execution": {
     "iopub.execute_input": "2021-03-07T10:12:49.943870Z",
     "iopub.status.busy": "2021-03-07T10:12:49.943442Z",
     "iopub.status.idle": "2021-03-07T10:12:50.112853Z",
     "shell.execute_reply": "2021-03-07T10:12:50.112069Z"
    },
    "jupyter": {
     "source_hidden": true
    },
    "papermill": {
     "duration": 0.186662,
     "end_time": "2021-03-07T10:12:50.113055",
     "exception": false,
     "start_time": "2021-03-07T10:12:49.926393",
     "status": "completed"
    },
    "tags": []
   },
   "outputs": [
    {
     "data": {
      "image/png": "[encoded data removed]",
      "text/plain": [
       "<Figure size 864x432 with 1 Axes>"
      ]
     },
     "metadata": {
      "needs_background": "light"
     },
     "output_type": "display_data"
    }
   ],
   "source": [
    "dc.plot(kind='line',x='DATE',y='14_DAY',color='green',grid='True',figsize=(12,6)).set_xlabel('Date');"
   ]
  },
  {
   "cell_type": "markdown",
   "id": "prerequisite-species",
   "metadata": {
    "papermill": {
     "duration": 0.011202,
     "end_time": "2021-03-07T10:12:50.137333",
     "exception": false,
     "start_time": "2021-03-07T10:12:50.126131",
     "status": "completed"
    },
    "tags": []
   },
   "source": [
    "## Figure 3: Rolling 14-day average of daily new cases."
   ]
  },
  {
   "cell_type": "markdown",
   "id": "palestinian-guard",
   "metadata": {
    "papermill": {
     "duration": 0.011503,
     "end_time": "2021-03-07T10:12:50.159866",
     "exception": false,
     "start_time": "2021-03-07T10:12:50.148363",
     "status": "completed"
    },
    "tags": []
   },
   "source": [
    "Data source: [Wisconsin Department of Health Services](https://data.dhsgis.wi.gov/datasets/covid-19-historical-data-table/)"
   ]
  },
  {
   "cell_type": "code",
   "execution_count": 9,
   "id": "proof-medicare",
   "metadata": {
    "execution": {
     "iopub.execute_input": "2021-03-07T10:12:50.187416Z",
     "iopub.status.busy": "2021-03-07T10:12:50.186882Z",
     "iopub.status.idle": "2021-03-07T10:12:50.189686Z",
     "shell.execute_reply": "2021-03-07T10:12:50.190108Z"
    },
    "jupyter": {
     "source_hidden": true
    },
    "papermill": {
     "duration": 0.018488,
     "end_time": "2021-03-07T10:12:50.190233",
     "exception": false,
     "start_time": "2021-03-07T10:12:50.171745",
     "status": "completed"
    },
    "tags": []
   },
   "outputs": [
    {
     "data": {
      "text/html": [
       "<style>\n",
       "div.input {\n",
       "    display:none;\n",
       "}\n",
       "</style>\n"
      ],
      "text/plain": [
       "<IPython.core.display.HTML object>"
      ]
     },
     "metadata": {},
     "output_type": "display_data"
    }
   ],
   "source": [
    "%%html\n",
    "<style>\n",
    "div.input {\n",
    "    display:none;\n",
    "}\n",
    "</style>"
   ]
  }
 ],
 "metadata": {
  "kernelspec": {
   "display_name": "Python 3",
   "language": "python",
   "name": "python3"
  },
  "language_info": {
   "codemirror_mode": {
    "name": "ipython",
    "version": 3
   },
   "file_extension": ".py",
   "mimetype": "text/x-python",
   "name": "python",
   "nbconvert_exporter": "python",
   "pygments_lexer": "ipython3",
   "version": "3.8.8"
  },
  "papermill": {
   "duration": 5.353508,
   "end_time": "2021-03-07T10:12:50.508776",
   "environment_variables": {},
   "exception": null,
   "input_path": "DunnCounty_COVID19.ipynb",
   "output_path": "DunnCounty_COVID19.ipynb",
   "parameters": {
    "Start": "True",
    "secretsPath": "/home/runner/work/_temp/secrets.json"
   },
   "start_time": "2021-03-07T10:12:45.155268",
   "version": "1.1.16"
  }
 },
 "nbformat": 4,
 "nbformat_minor": 5
}