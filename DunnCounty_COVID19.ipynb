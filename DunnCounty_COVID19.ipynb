{
 "cells": [
  {
   "cell_type": "code",
   "execution_count": 1,
   "id": "solar-understanding",
   "metadata": {
    "execution": {
     "iopub.execute_input": "2021-02-01T10:17:44.303280Z",
     "iopub.status.busy": "2021-02-01T10:17:44.302701Z",
     "iopub.status.idle": "2021-02-01T10:17:46.111505Z",
     "shell.execute_reply": "2021-02-01T10:17:46.112078Z"
    },
    "jupyter": {
     "source_hidden": true
    },
    "papermill": {
     "duration": 1.834164,
     "end_time": "2021-02-01T10:17:46.112436",
     "exception": false,
     "start_time": "2021-02-01T10:17:44.278272",
     "status": "completed"
    },
    "scrolled": true,
    "tags": [
     "hide-input"
    ]
   },
   "outputs": [],
   "source": [
    "import pandas as pd\n",
    "import matplotlib.pyplot as plt\n",
    "from matplotlib import dates\n",
    "from IPython.display import display, Markdown\n",
    "%matplotlib inline"
   ]
  },
  {
   "cell_type": "code",
   "execution_count": 2,
   "id": "purple-playlist",
   "metadata": {
    "execution": {
     "iopub.execute_input": "2021-02-01T10:17:46.136808Z",
     "iopub.status.busy": "2021-02-01T10:17:46.136265Z",
     "iopub.status.idle": "2021-02-01T10:17:47.243918Z",
     "shell.execute_reply": "2021-02-01T10:17:47.243413Z"
    },
    "jupyter": {
     "source_hidden": true
    },
    "papermill": {
     "duration": 1.122195,
     "end_time": "2021-02-01T10:17:47.244065",
     "exception": false,
     "start_time": "2021-02-01T10:17:46.121870",
     "status": "completed"
    },
    "scrolled": true,
    "tags": [
     "hide-input"
    ]
   },
   "outputs": [],
   "source": [
    "# This is the data for all of Wisconsin.\n",
    "url = \"https://opendata.arcgis.com/datasets/5374188992374b318d3e2305216ee413_12.csv\"\n",
    "data = pd.read_csv(url, parse_dates=['DATE'], low_memory=False)"
   ]
  },
  {
   "cell_type": "code",
   "execution_count": 3,
   "id": "proprietary-klein",
   "metadata": {
    "execution": {
     "iopub.execute_input": "2021-02-01T10:17:47.268102Z",
     "iopub.status.busy": "2021-02-01T10:17:47.267531Z",
     "iopub.status.idle": "2021-02-01T10:17:47.276300Z",
     "shell.execute_reply": "2021-02-01T10:17:47.275782Z"
    },
    "jupyter": {
     "source_hidden": true
    },
    "papermill": {
     "duration": 0.023467,
     "end_time": "2021-02-01T10:17:47.276422",
     "exception": false,
     "start_time": "2021-02-01T10:17:47.252955",
     "status": "completed"
    },
    "scrolled": true,
    "tags": [
     "hide-input"
    ]
   },
   "outputs": [],
   "source": [
    "dc = data.groupby('NAME').get_group('Dunn').sort_values(by='DATE') # Select the data for Dunn County from the full data.\n",
    "PNi = dc.columns.get_loc(\"POS_NEW\")\n",
    "dc['7_DAY'] = dc.iloc[:,PNi].rolling(window=7).mean() # Calculates the rolling 7-day average of new cases.\n",
    "dc['14_DAY'] = dc.iloc[:,PNi].rolling(window=14).mean() # Calculates the rolling 14-day average of new cases."
   ]
  },
  {
   "cell_type": "code",
   "execution_count": 4,
   "id": "steady-supervision",
   "metadata": {
    "execution": {
     "iopub.execute_input": "2021-02-01T10:17:47.299339Z",
     "iopub.status.busy": "2021-02-01T10:17:47.298777Z",
     "iopub.status.idle": "2021-02-01T10:17:47.303743Z",
     "shell.execute_reply": "2021-02-01T10:17:47.304161Z"
    },
    "jupyter": {
     "source_hidden": true
    },
    "papermill": {
     "duration": 0.019557,
     "end_time": "2021-02-01T10:17:47.304305",
     "exception": false,
     "start_time": "2021-02-01T10:17:47.284748",
     "status": "completed"
    },
    "scrolled": true,
    "tags": [
     "hide-input"
    ]
   },
   "outputs": [
    {
     "data": {
      "text/markdown": [
       "### Last updated: January 31, 2021"
      ],
      "text/plain": [
       "<IPython.core.display.Markdown object>"
      ]
     },
     "metadata": {},
     "output_type": "display_data"
    }
   ],
   "source": [
    "display(Markdown('### Last updated: ' + dc.iloc[-1]['DATE'].strftime(\"%B %d, %Y\")))"
   ]
  },
  {
   "cell_type": "code",
   "execution_count": 5,
   "id": "lonely-pitch",
   "metadata": {
    "execution": {
     "iopub.execute_input": "2021-02-01T10:17:47.328858Z",
     "iopub.status.busy": "2021-02-01T10:17:47.328226Z",
     "iopub.status.idle": "2021-02-01T10:17:47.331177Z",
     "shell.execute_reply": "2021-02-01T10:17:47.331688Z"
    },
    "jupyter": {
     "source_hidden": true
    },
    "papermill": {
     "duration": 0.0176,
     "end_time": "2021-02-01T10:17:47.331848",
     "exception": false,
     "start_time": "2021-02-01T10:17:47.314248",
     "status": "completed"
    },
    "tags": [
     "hide-input"
    ]
   },
   "outputs": [
    {
     "data": {
      "text/markdown": [
       "# Dunn County has 4054 total positive cases, with 14 new cases reported today."
      ],
      "text/plain": [
       "<IPython.core.display.Markdown object>"
      ]
     },
     "metadata": {},
     "output_type": "display_data"
    }
   ],
   "source": [
    "display(Markdown('# Dunn County has ' + str(dc.iloc[-1]['POSITIVE']) + ' total positive cases, with '+ str(int(dc.iloc[-1]['POS_NEW'])) + ' new cases reported today.'))"
   ]
  },
  {
   "cell_type": "code",
   "execution_count": 6,
   "id": "compound-nightmare",
   "metadata": {
    "execution": {
     "iopub.execute_input": "2021-02-01T10:17:47.354309Z",
     "iopub.status.busy": "2021-02-01T10:17:47.353762Z",
     "iopub.status.idle": "2021-02-01T10:17:47.644331Z",
     "shell.execute_reply": "2021-02-01T10:17:47.643526Z"
    },
    "jupyter": {
     "source_hidden": true
    },
    "papermill": {
     "duration": 0.303599,
     "end_time": "2021-02-01T10:17:47.644554",
     "exception": false,
     "start_time": "2021-02-01T10:17:47.340955",
     "status": "completed"
    },
    "scrolled": false,
    "tags": [
     "hide-input"
    ]
   },
   "outputs": [
    {
     "data": {
      "image/png": "[encoded data removed]",
      "text/plain": [
       "<Figure size 864x432 with 1 Axes>"
      ]
     },
     "metadata": {
      "needs_background": "light"
     },
     "output_type": "display_data"
    }
   ],
   "source": [
    "dc.plot(x='DATE',y='POSITIVE',color='red',grid='True',figsize=(12,6)).set_xlabel('Date');"
   ]
  },
  {
   "cell_type": "markdown",
   "id": "coupled-literacy",
   "metadata": {
    "papermill": {
     "duration": 0.010647,
     "end_time": "2021-02-01T10:17:47.667770",
     "exception": false,
     "start_time": "2021-02-01T10:17:47.657123",
     "status": "completed"
    },
    "tags": []
   },
   "source": [
    "## Figure 1: Cummulative number of positive cases."
   ]
  },
  {
   "cell_type": "code",
   "execution_count": 7,
   "id": "surrounded-reserve",
   "metadata": {
    "execution": {
     "iopub.execute_input": "2021-02-01T10:17:47.694325Z",
     "iopub.status.busy": "2021-02-01T10:17:47.693775Z",
     "iopub.status.idle": "2021-02-01T10:17:47.919894Z",
     "shell.execute_reply": "2021-02-01T10:17:47.920339Z"
    },
    "jupyter": {
     "source_hidden": true
    },
    "papermill": {
     "duration": 0.241997,
     "end_time": "2021-02-01T10:17:47.920500",
     "exception": false,
     "start_time": "2021-02-01T10:17:47.678503",
     "status": "completed"
    },
    "scrolled": false,
    "tags": [
     "hide-input"
    ]
   },
   "outputs": [
    {
     "data": {
      "image/png": "[encoded data removed]",
      "text/plain": [
       "<Figure size 864x432 with 1 Axes>"
      ]
     },
     "metadata": {
      "needs_background": "light"
     },
     "output_type": "display_data"
    }
   ],
   "source": [
    "dc.plot(kind='line',x='DATE',y='7_DAY',color='blue',grid='True',figsize=(12,6)).set_xlabel('Date');"
   ]
  },
  {
   "cell_type": "markdown",
   "id": "professional-savannah",
   "metadata": {
    "papermill": {
     "duration": 0.01187,
     "end_time": "2021-02-01T10:17:47.944498",
     "exception": false,
     "start_time": "2021-02-01T10:17:47.932628",
     "status": "completed"
    },
    "tags": []
   },
   "source": [
    "## Figure 2: Rolling 7-day average of daily new cases."
   ]
  },
  {
   "cell_type": "code",
   "execution_count": 8,
   "id": "stretch-investor",
   "metadata": {
    "execution": {
     "iopub.execute_input": "2021-02-01T10:17:47.972832Z",
     "iopub.status.busy": "2021-02-01T10:17:47.972296Z",
     "iopub.status.idle": "2021-02-01T10:17:48.197666Z",
     "shell.execute_reply": "2021-02-01T10:17:48.198112Z"
    },
    "jupyter": {
     "source_hidden": true
    },
    "papermill": {
     "duration": 0.241915,
     "end_time": "2021-02-01T10:17:48.198272",
     "exception": false,
     "start_time": "2021-02-01T10:17:47.956357",
     "status": "completed"
    },
    "tags": []
   },
   "outputs": [
    {
     "data": {
      "image/png": "[encoded data removed]",
      "text/plain": [
       "<Figure size 864x432 with 1 Axes>"
      ]
     },
     "metadata": {
      "needs_background": "light"
     },
     "output_type": "display_data"
    }
   ],
   "source": [
    "dc.plot(kind='line',x='DATE',y='14_DAY',color='green',grid='True',figsize=(12,6)).set_xlabel('Date');"
   ]
  },
  {
   "cell_type": "markdown",
   "id": "prerequisite-species",
   "metadata": {
    "papermill": {
     "duration": 0.012699,
     "end_time": "2021-02-01T10:17:48.223940",
     "exception": false,
     "start_time": "2021-02-01T10:17:48.211241",
     "status": "completed"
    },
    "tags": []
   },
   "source": [
    "## Figure 3: Rolling 14-day average of daily new cases."
   ]
  },
  {
   "cell_type": "markdown",
   "id": "palestinian-guard",
   "metadata": {
    "papermill": {
     "duration": 0.01122,
     "end_time": "2021-02-01T10:17:48.247419",
     "exception": false,
     "start_time": "2021-02-01T10:17:48.236199",
     "status": "completed"
    },
    "tags": []
   },
   "source": [
    "Data source: [Wisconsin Department of Health Services](https://data.dhsgis.wi.gov/datasets/covid-19-historical-data-table/)"
   ]
  },
  {
   "cell_type": "code",
   "execution_count": 9,
   "id": "proof-medicare",
   "metadata": {
    "execution": {
     "iopub.execute_input": "2021-02-01T10:17:48.277932Z",
     "iopub.status.busy": "2021-02-01T10:17:48.277115Z",
     "iopub.status.idle": "2021-02-01T10:17:48.279779Z",
     "shell.execute_reply": "2021-02-01T10:17:48.280368Z"
    },
    "jupyter": {
     "source_hidden": true
    },
    "papermill": {
     "duration": 0.020517,
     "end_time": "2021-02-01T10:17:48.280560",
     "exception": false,
     "start_time": "2021-02-01T10:17:48.260043",
     "status": "completed"
    },
    "tags": []
   },
   "outputs": [
    {
     "data": {
      "text/html": [
       "<style>\n",
       "div.input {\n",
       "    display:none;\n",
       "}\n",
       "</style>\n"
      ],
      "text/plain": [
       "<IPython.core.display.HTML object>"
      ]
     },
     "metadata": {},
     "output_type": "display_data"
    }
   ],
   "source": [
    "%%html\n",
    "<style>\n",
    "div.input {\n",
    "    display:none;\n",
    "}\n",
    "</style>"
   ]
  }
 ],
 "metadata": {
  "kernelspec": {
   "display_name": "Python 3",
   "language": "python",
   "name": "python3"
  },
  "language_info": {
   "codemirror_mode": {
    "name": "ipython",
    "version": 3
   },
   "file_extension": ".py",
   "mimetype": "text/x-python",
   "name": "python",
   "nbconvert_exporter": "python",
   "pygments_lexer": "ipython3",
   "version": "3.8.7"
  },
  "papermill": {
   "duration": 5.979633,
   "end_time": "2021-02-01T10:17:48.601212",
   "environment_variables": {},
   "exception": null,
   "input_path": "DunnCounty_COVID19.ipynb",
   "output_path": "DunnCounty_COVID19.ipynb",
   "parameters": {
    "Start": "True",
    "secretsPath": "/home/runner/work/_temp/secrets.json"
   },
   "start_time": "2021-02-01T10:17:42.621579",
   "version": "1.1.16"
  }
 },
 "nbformat": 4,
 "nbformat_minor": 5
}