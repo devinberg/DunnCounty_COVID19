{
 "cells": [
  {
   "cell_type": "code",
   "execution_count": 1,
   "id": "solar-understanding",
   "metadata": {
    "execution": {
     "iopub.execute_input": "2021-05-24T10:18:35.164669Z",
     "iopub.status.busy": "2021-05-24T10:18:35.164187Z",
     "iopub.status.idle": "2021-05-24T10:18:35.943082Z",
     "shell.execute_reply": "2021-05-24T10:18:35.942528Z"
    },
    "jupyter": {
     "source_hidden": true
    },
    "papermill": {
     "duration": 0.795382,
     "end_time": "2021-05-24T10:18:35.943223",
     "exception": false,
     "start_time": "2021-05-24T10:18:35.147841",
     "status": "completed"
    },
    "scrolled": true,
    "tags": [
     "hide-input"
    ]
   },
   "outputs": [],
   "source": [
    "import pandas as pd\n",
    "import matplotlib.pyplot as plt\n",
    "from matplotlib import dates\n",
    "from IPython.display import display, Markdown\n",
    "%matplotlib inline"
   ]
  },
  {
   "cell_type": "code",
   "execution_count": 2,
   "id": "purple-playlist",
   "metadata": {
    "execution": {
     "iopub.execute_input": "2021-05-24T10:18:35.964018Z",
     "iopub.status.busy": "2021-05-24T10:18:35.963561Z",
     "iopub.status.idle": "2021-05-24T10:18:36.698474Z",
     "shell.execute_reply": "2021-05-24T10:18:36.697969Z"
    },
    "jupyter": {
     "source_hidden": true
    },
    "papermill": {
     "duration": 0.747289,
     "end_time": "2021-05-24T10:18:36.698596",
     "exception": false,
     "start_time": "2021-05-24T10:18:35.951307",
     "status": "completed"
    },
    "scrolled": true,
    "tags": [
     "hide-input"
    ]
   },
   "outputs": [],
   "source": [
    "# This is the data for all of Wisconsin.\n",
    "url = \"https://opendata.arcgis.com/datasets/80ff9d4897db4d7692f0f4ad28447cab_12.csv\"\n",
    "data = pd.read_csv(url, parse_dates=['DATE'], low_memory=False)"
   ]
  },
  {
   "cell_type": "code",
   "execution_count": 3,
   "id": "proprietary-klein",
   "metadata": {
    "execution": {
     "iopub.execute_input": "2021-05-24T10:18:36.720598Z",
     "iopub.status.busy": "2021-05-24T10:18:36.720129Z",
     "iopub.status.idle": "2021-05-24T10:18:36.728006Z",
     "shell.execute_reply": "2021-05-24T10:18:36.727579Z"
    },
    "jupyter": {
     "source_hidden": true
    },
    "papermill": {
     "duration": 0.021328,
     "end_time": "2021-05-24T10:18:36.728108",
     "exception": false,
     "start_time": "2021-05-24T10:18:36.706780",
     "status": "completed"
    },
    "scrolled": true,
    "tags": [
     "hide-input"
    ]
   },
   "outputs": [],
   "source": [
    "dc = data.groupby('NAME').get_group('Dunn').sort_values(by='DATE') # Select the data for Dunn County from the full data.\n",
    "PNi = dc.columns.get_loc(\"POS_NEW\")\n",
    "dc['7_DAY'] = dc.iloc[:,PNi].rolling(window=7).mean() # Calculates the rolling 7-day average of new cases.\n",
    "dc['14_DAY'] = dc.iloc[:,PNi].rolling(window=14).mean() # Calculates the rolling 14-day average of new cases."
   ]
  },
  {
   "cell_type": "code",
   "execution_count": 4,
   "id": "steady-supervision",
   "metadata": {
    "execution": {
     "iopub.execute_input": "2021-05-24T10:18:36.749602Z",
     "iopub.status.busy": "2021-05-24T10:18:36.749067Z",
     "iopub.status.idle": "2021-05-24T10:18:36.751111Z",
     "shell.execute_reply": "2021-05-24T10:18:36.751526Z"
    },
    "jupyter": {
     "source_hidden": true
    },
    "papermill": {
     "duration": 0.016039,
     "end_time": "2021-05-24T10:18:36.751658",
     "exception": false,
     "start_time": "2021-05-24T10:18:36.735619",
     "status": "completed"
    },
    "scrolled": true,
    "tags": [
     "hide-input"
    ]
   },
   "outputs": [
    {
     "data": {
      "text/markdown": [
       "### Last updated: May 23, 2021"
      ],
      "text/plain": [
       "<IPython.core.display.Markdown object>"
      ]
     },
     "metadata": {},
     "output_type": "display_data"
    }
   ],
   "source": [
    "display(Markdown('### Last updated: ' + dc.iloc[-1]['DATE'].strftime(\"%B %d, %Y\")))"
   ]
  },
  {
   "cell_type": "code",
   "execution_count": 5,
   "id": "lonely-pitch",
   "metadata": {
    "execution": {
     "iopub.execute_input": "2021-05-24T10:18:36.772185Z",
     "iopub.status.busy": "2021-05-24T10:18:36.771674Z",
     "iopub.status.idle": "2021-05-24T10:18:36.774185Z",
     "shell.execute_reply": "2021-05-24T10:18:36.773820Z"
    },
    "jupyter": {
     "source_hidden": true
    },
    "papermill": {
     "duration": 0.014696,
     "end_time": "2021-05-24T10:18:36.774282",
     "exception": false,
     "start_time": "2021-05-24T10:18:36.759586",
     "status": "completed"
    },
    "tags": [
     "hide-input"
    ]
   },
   "outputs": [
    {
     "data": {
      "text/markdown": [
       "# Dunn County has 4676 total positive cases, with 2 new cases reported today."
      ],
      "text/plain": [
       "<IPython.core.display.Markdown object>"
      ]
     },
     "metadata": {},
     "output_type": "display_data"
    }
   ],
   "source": [
    "display(Markdown('# Dunn County has ' + str(dc.iloc[-1]['POSITIVE']) + ' total positive cases, with '+ str(int(dc.iloc[-1]['POS_NEW'])) + ' new cases reported today.'))"
   ]
  },
  {
   "cell_type": "code",
   "execution_count": 6,
   "id": "compound-nightmare",
   "metadata": {
    "execution": {
     "iopub.execute_input": "2021-05-24T10:18:36.794466Z",
     "iopub.status.busy": "2021-05-24T10:18:36.794007Z",
     "iopub.status.idle": "2021-05-24T10:18:37.032520Z",
     "shell.execute_reply": "2021-05-24T10:18:37.032951Z"
    },
    "jupyter": {
     "source_hidden": true
    },
    "papermill": {
     "duration": 0.250611,
     "end_time": "2021-05-24T10:18:37.033110",
     "exception": false,
     "start_time": "2021-05-24T10:18:36.782499",
     "status": "completed"
    },
    "scrolled": false,
    "tags": [
     "hide-input"
    ]
   },
   "outputs": [
    {
     "data": {
      "image/png": "[encoded data removed]",
      "text/plain": [
       "<Figure size 864x432 with 1 Axes>"
      ]
     },
     "metadata": {
      "needs_background": "light"
     },
     "output_type": "display_data"
    }
   ],
   "source": [
    "dc.plot(x='DATE',y='POSITIVE',color='red',grid='True',figsize=(12,6)).set_xlabel('Date');"
   ]
  },
  {
   "cell_type": "markdown",
   "id": "coupled-literacy",
   "metadata": {
    "papermill": {
     "duration": 0.009292,
     "end_time": "2021-05-24T10:18:37.051982",
     "exception": false,
     "start_time": "2021-05-24T10:18:37.042690",
     "status": "completed"
    },
    "tags": []
   },
   "source": [
    "## Figure 1: Cummulative number of positive cases."
   ]
  },
  {
   "cell_type": "code",
   "execution_count": 7,
   "id": "surrounded-reserve",
   "metadata": {
    "execution": {
     "iopub.execute_input": "2021-05-24T10:18:37.073798Z",
     "iopub.status.busy": "2021-05-24T10:18:37.073333Z",
     "iopub.status.idle": "2021-05-24T10:18:37.264783Z",
     "shell.execute_reply": "2021-05-24T10:18:37.265215Z"
    },
    "jupyter": {
     "source_hidden": true
    },
    "papermill": {
     "duration": 0.204547,
     "end_time": "2021-05-24T10:18:37.265365",
     "exception": false,
     "start_time": "2021-05-24T10:18:37.060818",
     "status": "completed"
    },
    "scrolled": false,
    "tags": [
     "hide-input"
    ]
   },
   "outputs": [
    {
     "data": {
      "image/png": "[encoded data removed]",
      "text/plain": [
       "<Figure size 864x432 with 1 Axes>"
      ]
     },
     "metadata": {
      "needs_background": "light"
     },
     "output_type": "display_data"
    }
   ],
   "source": [
    "dc.plot(kind='line',x='DATE',y='7_DAY',color='blue',grid='True',figsize=(12,6)).set_xlabel('Date');"
   ]
  },
  {
   "cell_type": "markdown",
   "id": "professional-savannah",
   "metadata": {
    "papermill": {
     "duration": 0.010097,
     "end_time": "2021-05-24T10:18:37.286769",
     "exception": false,
     "start_time": "2021-05-24T10:18:37.276672",
     "status": "completed"
    },
    "tags": []
   },
   "source": [
    "## Figure 2: Rolling 7-day average of daily new cases."
   ]
  },
  {
   "cell_type": "code",
   "execution_count": 8,
   "id": "stretch-investor",
   "metadata": {
    "execution": {
     "iopub.execute_input": "2021-05-24T10:18:37.311043Z",
     "iopub.status.busy": "2021-05-24T10:18:37.310355Z",
     "iopub.status.idle": "2021-05-24T10:18:37.499297Z",
     "shell.execute_reply": "2021-05-24T10:18:37.498886Z"
    },
    "jupyter": {
     "source_hidden": true
    },
    "papermill": {
     "duration": 0.202781,
     "end_time": "2021-05-24T10:18:37.499405",
     "exception": false,
     "start_time": "2021-05-24T10:18:37.296624",
     "status": "completed"
    },
    "tags": []
   },
   "outputs": [
    {
     "data": {
      "image/png": "[encoded data removed]",
      "text/plain": [
       "<Figure size 864x432 with 1 Axes>"
      ]
     },
     "metadata": {
      "needs_background": "light"
     },
     "output_type": "display_data"
    }
   ],
   "source": [
    "dc.plot(kind='line',x='DATE',y='14_DAY',color='green',grid='True',figsize=(12,6)).set_xlabel('Date');"
   ]
  },
  {
   "cell_type": "markdown",
   "id": "prerequisite-species",
   "metadata": {
    "papermill": {
     "duration": 0.010962,
     "end_time": "2021-05-24T10:18:37.521519",
     "exception": false,
     "start_time": "2021-05-24T10:18:37.510557",
     "status": "completed"
    },
    "tags": []
   },
   "source": [
    "## Figure 3: Rolling 14-day average of daily new cases."
   ]
  },
  {
   "cell_type": "markdown",
   "id": "palestinian-guard",
   "metadata": {
    "papermill": {
     "duration": 0.010874,
     "end_time": "2021-05-24T10:18:37.543333",
     "exception": false,
     "start_time": "2021-05-24T10:18:37.532459",
     "status": "completed"
    },
    "tags": []
   },
   "source": [
    "Data source: [Wisconsin Department of Health Services](https://data.dhsgis.wi.gov/datasets/covid-19-historical-data-by-county)"
   ]
  },
  {
   "cell_type": "code",
   "execution_count": 9,
   "id": "proof-medicare",
   "metadata": {
    "execution": {
     "iopub.execute_input": "2021-05-24T10:18:37.569700Z",
     "iopub.status.busy": "2021-05-24T10:18:37.569223Z",
     "iopub.status.idle": "2021-05-24T10:18:37.571258Z",
     "shell.execute_reply": "2021-05-24T10:18:37.571600Z"
    },
    "jupyter": {
     "source_hidden": true
    },
    "papermill": {
     "duration": 0.017508,
     "end_time": "2021-05-24T10:18:37.571729",
     "exception": false,
     "start_time": "2021-05-24T10:18:37.554221",
     "status": "completed"
    },
    "tags": []
   },
   "outputs": [
    {
     "data": {
      "text/html": [
       "<style>\n",
       "div.input {\n",
       "    display:none;\n",
       "}\n",
       "</style>\n"
      ],
      "text/plain": [
       "<IPython.core.display.HTML object>"
      ]
     },
     "metadata": {},
     "output_type": "display_data"
    }
   ],
   "source": [
    "%%html\n",
    "<style>\n",
    "div.input {\n",
    "    display:none;\n",
    "}\n",
    "</style>"
   ]
  }
 ],
 "metadata": {
  "kernelspec": {
   "display_name": "Python 3",
   "language": "python",
   "name": "python3"
  },
  "language_info": {
   "codemirror_mode": {
    "name": "ipython",
    "version": 3
   },
   "file_extension": ".py",
   "mimetype": "text/x-python",
   "name": "python",
   "nbconvert_exporter": "python",
   "pygments_lexer": "ipython3",
   "version": "3.8.10"
  },
  "papermill": {
   "duration": 4.376025,
   "end_time": "2021-05-24T10:18:37.888899",
   "environment_variables": {},
   "exception": null,
   "input_path": "DunnCounty_COVID19.ipynb",
   "output_path": "DunnCounty_COVID19.ipynb",
   "parameters": {
    "Start": "True",
    "secretsPath": "/home/runner/work/_temp/secrets.json"
   },
   "start_time": "2021-05-24T10:18:33.512874",
   "version": "1.1.16"
  }
 },
 "nbformat": 4,
 "nbformat_minor": 5
}