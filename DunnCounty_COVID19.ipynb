{
 "cells": [
  {
   "cell_type": "code",
   "execution_count": 1,
   "id": "solar-understanding",
   "metadata": {
    "execution": {
     "iopub.execute_input": "2021-04-04T22:17:48.678554Z",
     "iopub.status.busy": "2021-04-04T22:17:48.677932Z",
     "iopub.status.idle": "2021-04-04T22:17:49.687910Z",
     "shell.execute_reply": "2021-04-04T22:17:49.687234Z"
    },
    "jupyter": {
     "source_hidden": true
    },
    "papermill": {
     "duration": 1.030345,
     "end_time": "2021-04-04T22:17:49.688082",
     "exception": false,
     "start_time": "2021-04-04T22:17:48.657737",
     "status": "completed"
    },
    "scrolled": true,
    "tags": [
     "hide-input"
    ]
   },
   "outputs": [],
   "source": [
    "import pandas as pd\n",
    "import matplotlib.pyplot as plt\n",
    "from matplotlib import dates\n",
    "from IPython.display import display, Markdown\n",
    "%matplotlib inline"
   ]
  },
  {
   "cell_type": "code",
   "execution_count": 2,
   "id": "purple-playlist",
   "metadata": {
    "execution": {
     "iopub.execute_input": "2021-04-04T22:17:49.715422Z",
     "iopub.status.busy": "2021-04-04T22:17:49.714758Z",
     "iopub.status.idle": "2021-04-04T22:17:50.853892Z",
     "shell.execute_reply": "2021-04-04T22:17:50.852975Z"
    },
    "jupyter": {
     "source_hidden": true
    },
    "papermill": {
     "duration": 1.155704,
     "end_time": "2021-04-04T22:17:50.854043",
     "exception": false,
     "start_time": "2021-04-04T22:17:49.698339",
     "status": "completed"
    },
    "scrolled": true,
    "tags": [
     "hide-input"
    ]
   },
   "outputs": [],
   "source": [
    "# This is the data for all of Wisconsin.\n",
    "url = \"https://opendata.arcgis.com/datasets/5374188992374b318d3e2305216ee413_12.csv\"\n",
    "data = pd.read_csv(url, parse_dates=['DATE'], low_memory=False)"
   ]
  },
  {
   "cell_type": "code",
   "execution_count": 3,
   "id": "proprietary-klein",
   "metadata": {
    "execution": {
     "iopub.execute_input": "2021-04-04T22:17:50.892095Z",
     "iopub.status.busy": "2021-04-04T22:17:50.891473Z",
     "iopub.status.idle": "2021-04-04T22:17:50.900465Z",
     "shell.execute_reply": "2021-04-04T22:17:50.900930Z"
    },
    "jupyter": {
     "source_hidden": true
    },
    "papermill": {
     "duration": 0.036348,
     "end_time": "2021-04-04T22:17:50.901102",
     "exception": false,
     "start_time": "2021-04-04T22:17:50.864754",
     "status": "completed"
    },
    "scrolled": true,
    "tags": [
     "hide-input"
    ]
   },
   "outputs": [],
   "source": [
    "dc = data.groupby('NAME').get_group('Dunn').sort_values(by='DATE') # Select the data for Dunn County from the full data.\n",
    "PNi = dc.columns.get_loc(\"POS_NEW\")\n",
    "dc['7_DAY'] = dc.iloc[:,PNi].rolling(window=7).mean() # Calculates the rolling 7-day average of new cases.\n",
    "dc['14_DAY'] = dc.iloc[:,PNi].rolling(window=14).mean() # Calculates the rolling 14-day average of new cases."
   ]
  },
  {
   "cell_type": "code",
   "execution_count": 4,
   "id": "steady-supervision",
   "metadata": {
    "execution": {
     "iopub.execute_input": "2021-04-04T22:17:50.928446Z",
     "iopub.status.busy": "2021-04-04T22:17:50.927809Z",
     "iopub.status.idle": "2021-04-04T22:17:50.932430Z",
     "shell.execute_reply": "2021-04-04T22:17:50.932905Z"
    },
    "jupyter": {
     "source_hidden": true
    },
    "papermill": {
     "duration": 0.022297,
     "end_time": "2021-04-04T22:17:50.933083",
     "exception": false,
     "start_time": "2021-04-04T22:17:50.910786",
     "status": "completed"
    },
    "scrolled": true,
    "tags": [
     "hide-input"
    ]
   },
   "outputs": [
    {
     "data": {
      "text/markdown": [
       "### Last updated: April 04, 2021"
      ],
      "text/plain": [
       "<IPython.core.display.Markdown object>"
      ]
     },
     "metadata": {},
     "output_type": "display_data"
    }
   ],
   "source": [
    "display(Markdown('### Last updated: ' + dc.iloc[-1]['DATE'].strftime(\"%B %d, %Y\")))"
   ]
  },
  {
   "cell_type": "code",
   "execution_count": 5,
   "id": "lonely-pitch",
   "metadata": {
    "execution": {
     "iopub.execute_input": "2021-04-04T22:17:50.962216Z",
     "iopub.status.busy": "2021-04-04T22:17:50.960649Z",
     "iopub.status.idle": "2021-04-04T22:17:50.966647Z",
     "shell.execute_reply": "2021-04-04T22:17:50.966115Z"
    },
    "jupyter": {
     "source_hidden": true
    },
    "papermill": {
     "duration": 0.023202,
     "end_time": "2021-04-04T22:17:50.966784",
     "exception": false,
     "start_time": "2021-04-04T22:17:50.943582",
     "status": "completed"
    },
    "tags": [
     "hide-input"
    ]
   },
   "outputs": [
    {
     "data": {
      "text/markdown": [
       "# Dunn County has 4423 total positive cases, with 3 new cases reported today."
      ],
      "text/plain": [
       "<IPython.core.display.Markdown object>"
      ]
     },
     "metadata": {},
     "output_type": "display_data"
    }
   ],
   "source": [
    "display(Markdown('# Dunn County has ' + str(dc.iloc[-1]['POSITIVE']) + ' total positive cases, with '+ str(int(dc.iloc[-1]['POS_NEW'])) + ' new cases reported today.'))"
   ]
  },
  {
   "cell_type": "code",
   "execution_count": 6,
   "id": "compound-nightmare",
   "metadata": {
    "execution": {
     "iopub.execute_input": "2021-04-04T22:17:51.008371Z",
     "iopub.status.busy": "2021-04-04T22:17:51.007768Z",
     "iopub.status.idle": "2021-04-04T22:17:51.292667Z",
     "shell.execute_reply": "2021-04-04T22:17:51.293166Z"
    },
    "jupyter": {
     "source_hidden": true
    },
    "papermill": {
     "duration": 0.314163,
     "end_time": "2021-04-04T22:17:51.293344",
     "exception": false,
     "start_time": "2021-04-04T22:17:50.979181",
     "status": "completed"
    },
    "scrolled": false,
    "tags": [
     "hide-input"
    ]
   },
   "outputs": [
    {
     "data": {
      "image/png": "[encoded data removed]",
      "text/plain": [
       "<Figure size 864x432 with 1 Axes>"
      ]
     },
     "metadata": {
      "needs_background": "light"
     },
     "output_type": "display_data"
    }
   ],
   "source": [
    "dc.plot(x='DATE',y='POSITIVE',color='red',grid='True',figsize=(12,6)).set_xlabel('Date');"
   ]
  },
  {
   "cell_type": "markdown",
   "id": "coupled-literacy",
   "metadata": {
    "papermill": {
     "duration": 0.013371,
     "end_time": "2021-04-04T22:17:51.318928",
     "exception": false,
     "start_time": "2021-04-04T22:17:51.305557",
     "status": "completed"
    },
    "tags": []
   },
   "source": [
    "## Figure 1: Cummulative number of positive cases."
   ]
  },
  {
   "cell_type": "code",
   "execution_count": 7,
   "id": "surrounded-reserve",
   "metadata": {
    "execution": {
     "iopub.execute_input": "2021-04-04T22:17:51.350589Z",
     "iopub.status.busy": "2021-04-04T22:17:51.349991Z",
     "iopub.status.idle": "2021-04-04T22:17:51.586022Z",
     "shell.execute_reply": "2021-04-04T22:17:51.586500Z"
    },
    "jupyter": {
     "source_hidden": true
    },
    "papermill": {
     "duration": 0.2561,
     "end_time": "2021-04-04T22:17:51.586663",
     "exception": false,
     "start_time": "2021-04-04T22:17:51.330563",
     "status": "completed"
    },
    "scrolled": false,
    "tags": [
     "hide-input"
    ]
   },
   "outputs": [
    {
     "data": {
      "image/png": "[encoded data removed]",
      "text/plain": [
       "<Figure size 864x432 with 1 Axes>"
      ]
     },
     "metadata": {
      "needs_background": "light"
     },
     "output_type": "display_data"
    }
   ],
   "source": [
    "dc.plot(kind='line',x='DATE',y='7_DAY',color='blue',grid='True',figsize=(12,6)).set_xlabel('Date');"
   ]
  },
  {
   "cell_type": "markdown",
   "id": "professional-savannah",
   "metadata": {
    "papermill": {
     "duration": 0.012828,
     "end_time": "2021-04-04T22:17:51.612419",
     "exception": false,
     "start_time": "2021-04-04T22:17:51.599591",
     "status": "completed"
    },
    "tags": []
   },
   "source": [
    "## Figure 2: Rolling 7-day average of daily new cases."
   ]
  },
  {
   "cell_type": "code",
   "execution_count": 8,
   "id": "stretch-investor",
   "metadata": {
    "execution": {
     "iopub.execute_input": "2021-04-04T22:17:51.646144Z",
     "iopub.status.busy": "2021-04-04T22:17:51.645514Z",
     "iopub.status.idle": "2021-04-04T22:17:51.876254Z",
     "shell.execute_reply": "2021-04-04T22:17:51.876764Z"
    },
    "jupyter": {
     "source_hidden": true
    },
    "papermill": {
     "duration": 0.252128,
     "end_time": "2021-04-04T22:17:51.876942",
     "exception": false,
     "start_time": "2021-04-04T22:17:51.624814",
     "status": "completed"
    },
    "tags": []
   },
   "outputs": [
    {
     "data": {
      "image/png": "[encoded data removed]",
      "text/plain": [
       "<Figure size 864x432 with 1 Axes>"
      ]
     },
     "metadata": {
      "needs_background": "light"
     },
     "output_type": "display_data"
    }
   ],
   "source": [
    "dc.plot(kind='line',x='DATE',y='14_DAY',color='green',grid='True',figsize=(12,6)).set_xlabel('Date');"
   ]
  },
  {
   "cell_type": "markdown",
   "id": "prerequisite-species",
   "metadata": {
    "papermill": {
     "duration": 0.015041,
     "end_time": "2021-04-04T22:17:51.905863",
     "exception": false,
     "start_time": "2021-04-04T22:17:51.890822",
     "status": "completed"
    },
    "tags": []
   },
   "source": [
    "## Figure 3: Rolling 14-day average of daily new cases."
   ]
  },
  {
   "cell_type": "markdown",
   "id": "palestinian-guard",
   "metadata": {
    "papermill": {
     "duration": 0.013858,
     "end_time": "2021-04-04T22:17:51.933574",
     "exception": false,
     "start_time": "2021-04-04T22:17:51.919716",
     "status": "completed"
    },
    "tags": []
   },
   "source": [
    "Data source: [Wisconsin Department of Health Services](https://data.dhsgis.wi.gov/datasets/covid-19-historical-data-table/)"
   ]
  },
  {
   "cell_type": "code",
   "execution_count": 9,
   "id": "proof-medicare",
   "metadata": {
    "execution": {
     "iopub.execute_input": "2021-04-04T22:17:51.967272Z",
     "iopub.status.busy": "2021-04-04T22:17:51.966659Z",
     "iopub.status.idle": "2021-04-04T22:17:51.969808Z",
     "shell.execute_reply": "2021-04-04T22:17:51.969251Z"
    },
    "jupyter": {
     "source_hidden": true
    },
    "papermill": {
     "duration": 0.021885,
     "end_time": "2021-04-04T22:17:51.969939",
     "exception": false,
     "start_time": "2021-04-04T22:17:51.948054",
     "status": "completed"
    },
    "tags": []
   },
   "outputs": [
    {
     "data": {
      "text/html": [
       "<style>\n",
       "div.input {\n",
       "    display:none;\n",
       "}\n",
       "</style>\n"
      ],
      "text/plain": [
       "<IPython.core.display.HTML object>"
      ]
     },
     "metadata": {},
     "output_type": "display_data"
    }
   ],
   "source": [
    "%%html\n",
    "<style>\n",
    "div.input {\n",
    "    display:none;\n",
    "}\n",
    "</style>"
   ]
  }
 ],
 "metadata": {
  "kernelspec": {
   "display_name": "Python 3",
   "language": "python",
   "name": "python3"
  },
  "language_info": {
   "codemirror_mode": {
    "name": "ipython",
    "version": 3
   },
   "file_extension": ".py",
   "mimetype": "text/x-python",
   "name": "python",
   "nbconvert_exporter": "python",
   "pygments_lexer": "ipython3",
   "version": "3.8.8"
  },
  "papermill": {
   "duration": 4.947433,
   "end_time": "2021-04-04T22:17:52.392876",
   "environment_variables": {},
   "exception": null,
   "input_path": "DunnCounty_COVID19.ipynb",
   "output_path": "DunnCounty_COVID19.ipynb",
   "parameters": {
    "Start": "True",
    "secretsPath": "/home/runner/work/_temp/secrets.json"
   },
   "start_time": "2021-04-04T22:17:47.445443",
   "version": "1.1.16"
  }
 },
 "nbformat": 4,
 "nbformat_minor": 5
}