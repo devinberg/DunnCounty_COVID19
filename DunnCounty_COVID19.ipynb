{
 "cells": [
  {
   "cell_type": "code",
   "execution_count": 1,
   "metadata": {
    "execution": {
     "iopub.execute_input": "2020-09-28T22:49:26.145121Z",
     "iopub.status.busy": "2020-09-28T22:49:26.144376Z",
     "iopub.status.idle": "2020-09-28T22:49:29.263255Z",
     "shell.execute_reply": "2020-09-28T22:49:29.263775Z"
    },
    "jupyter": {
     "source_hidden": true
    },
    "papermill": {
     "duration": 3.136568,
     "end_time": "2020-09-28T22:49:29.264058",
     "exception": false,
     "start_time": "2020-09-28T22:49:26.127490",
     "status": "completed"
    },
    "scrolled": true,
    "tags": [
     "hide-input"
    ]
   },
   "outputs": [],
   "source": [
    "import pandas as pd\n",
    "import matplotlib.pyplot as plt\n",
    "from matplotlib import dates\n",
    "from IPython.display import display, Markdown\n",
    "%matplotlib inline"
   ]
  },
  {
   "cell_type": "code",
   "execution_count": 2,
   "metadata": {
    "execution": {
     "iopub.execute_input": "2020-09-28T22:49:29.287493Z",
     "iopub.status.busy": "2020-09-28T22:49:29.286661Z",
     "iopub.status.idle": "2020-09-28T22:49:32.979495Z",
     "shell.execute_reply": "2020-09-28T22:49:32.980000Z"
    },
    "jupyter": {
     "source_hidden": true
    },
    "papermill": {
     "duration": 3.707651,
     "end_time": "2020-09-28T22:49:32.980168",
     "exception": false,
     "start_time": "2020-09-28T22:49:29.272517",
     "status": "completed"
    },
    "scrolled": true,
    "tags": [
     "hide-input"
    ]
   },
   "outputs": [],
   "source": [
    "# This is the data for all of Wisconsin.\n",
    "url = \"https://opendata.arcgis.com/datasets/b913e9591eae4912b33dc5b4e88646c5_10.csv\"\n",
    "data = pd.read_csv(url, parse_dates=['DATE'], low_memory=False)"
   ]
  },
  {
   "cell_type": "code",
   "execution_count": 3,
   "metadata": {
    "execution": {
     "iopub.execute_input": "2020-09-28T22:49:33.010407Z",
     "iopub.status.busy": "2020-09-28T22:49:33.009851Z",
     "iopub.status.idle": "2020-09-28T22:49:33.020379Z",
     "shell.execute_reply": "2020-09-28T22:49:33.019934Z"
    },
    "jupyter": {
     "source_hidden": true
    },
    "papermill": {
     "duration": 0.032101,
     "end_time": "2020-09-28T22:49:33.020500",
     "exception": false,
     "start_time": "2020-09-28T22:49:32.988399",
     "status": "completed"
    },
    "scrolled": true,
    "tags": [
     "hide-input"
    ]
   },
   "outputs": [],
   "source": [
    "dc = data.groupby('NAME').get_group('Dunn').sort_values(by='DATE') # Select the data for Dunn County from the full data.\n",
    "PNi = dc.columns.get_loc(\"POS_NEW\")\n",
    "dc['7_DAY'] = dc.iloc[:,PNi].rolling(window=7).mean() # Calculates the rolling 7-day average of new cases.\n",
    "dc['14_DAY'] = dc.iloc[:,PNi].rolling(window=14).mean() # Calculates the rolling 14-day average of new cases."
   ]
  },
  {
   "cell_type": "code",
   "execution_count": 4,
   "metadata": {
    "execution": {
     "iopub.execute_input": "2020-09-28T22:49:33.042617Z",
     "iopub.status.busy": "2020-09-28T22:49:33.041863Z",
     "iopub.status.idle": "2020-09-28T22:49:33.044812Z",
     "shell.execute_reply": "2020-09-28T22:49:33.045452Z"
    },
    "jupyter": {
     "source_hidden": true
    },
    "papermill": {
     "duration": 0.017377,
     "end_time": "2020-09-28T22:49:33.045606",
     "exception": false,
     "start_time": "2020-09-28T22:49:33.028229",
     "status": "completed"
    },
    "scrolled": true,
    "tags": [
     "hide-input"
    ]
   },
   "outputs": [
    {
     "data": {
      "text/markdown": [
       "### Last updated: September 28, 2020"
      ],
      "text/plain": [
       "<IPython.core.display.Markdown object>"
      ]
     },
     "metadata": {},
     "output_type": "display_data"
    }
   ],
   "source": [
    "display(Markdown('### Last updated: ' + dc.iloc[-1]['DATE'].strftime(\"%B %d, %Y\")))"
   ]
  },
  {
   "cell_type": "code",
   "execution_count": 5,
   "metadata": {
    "execution": {
     "iopub.execute_input": "2020-09-28T22:49:33.068848Z",
     "iopub.status.busy": "2020-09-28T22:49:33.068129Z",
     "iopub.status.idle": "2020-09-28T22:49:33.072182Z",
     "shell.execute_reply": "2020-09-28T22:49:33.071635Z"
    },
    "jupyter": {
     "source_hidden": true
    },
    "papermill": {
     "duration": 0.017986,
     "end_time": "2020-09-28T22:49:33.072303",
     "exception": false,
     "start_time": "2020-09-28T22:49:33.054317",
     "status": "completed"
    },
    "tags": [
     "hide-input"
    ]
   },
   "outputs": [
    {
     "data": {
      "text/markdown": [
       "# Dunn County has 556 total positive cases, with 29 new cases reported today."
      ],
      "text/plain": [
       "<IPython.core.display.Markdown object>"
      ]
     },
     "metadata": {},
     "output_type": "display_data"
    }
   ],
   "source": [
    "display(Markdown('# Dunn County has ' + str(dc.iloc[-1]['POSITIVE']) + ' total positive cases, with '+ str(int(dc.iloc[-1]['POS_NEW'])) + ' new cases reported today.'))"
   ]
  },
  {
   "cell_type": "code",
   "execution_count": 6,
   "metadata": {
    "execution": {
     "iopub.execute_input": "2020-09-28T22:49:33.093085Z",
     "iopub.status.busy": "2020-09-28T22:49:33.092494Z",
     "iopub.status.idle": "2020-09-28T22:49:33.356447Z",
     "shell.execute_reply": "2020-09-28T22:49:33.356891Z"
    },
    "jupyter": {
     "source_hidden": true
    },
    "papermill": {
     "duration": 0.276709,
     "end_time": "2020-09-28T22:49:33.357046",
     "exception": false,
     "start_time": "2020-09-28T22:49:33.080337",
     "status": "completed"
    },
    "scrolled": false,
    "tags": [
     "hide-input"
    ]
   },
   "outputs": [
    {
     "data": {
      "image/png": "[encoded data removed]",
      "text/plain": [
       "<Figure size 864x432 with 1 Axes>"
      ]
     },
     "metadata": {
      "needs_background": "light"
     },
     "output_type": "display_data"
    }
   ],
   "source": [
    "dc.plot(x='DATE',y='POSITIVE',color='red',grid='True',figsize=(12,6)).set_xlabel('Date');"
   ]
  },
  {
   "cell_type": "markdown",
   "metadata": {
    "papermill": {
     "duration": 0.008217,
     "end_time": "2020-09-28T22:49:33.374995",
     "exception": false,
     "start_time": "2020-09-28T22:49:33.366778",
     "status": "completed"
    },
    "tags": []
   },
   "source": [
    "## Figure 1: Cummulative number of positive cases."
   ]
  },
  {
   "cell_type": "code",
   "execution_count": 7,
   "metadata": {
    "execution": {
     "iopub.execute_input": "2020-09-28T22:49:33.397990Z",
     "iopub.status.busy": "2020-09-28T22:49:33.397395Z",
     "iopub.status.idle": "2020-09-28T22:49:33.632380Z",
     "shell.execute_reply": "2020-09-28T22:49:33.632921Z"
    },
    "jupyter": {
     "source_hidden": true
    },
    "papermill": {
     "duration": 0.248834,
     "end_time": "2020-09-28T22:49:33.633211",
     "exception": false,
     "start_time": "2020-09-28T22:49:33.384377",
     "status": "completed"
    },
    "scrolled": false,
    "tags": [
     "hide-input"
    ]
   },
   "outputs": [
    {
     "data": {
      "image/png": "[encoded data removed]",
      "text/plain": [
       "<Figure size 864x432 with 1 Axes>"
      ]
     },
     "metadata": {
      "needs_background": "light"
     },
     "output_type": "display_data"
    }
   ],
   "source": [
    "dc.plot(kind='line',x='DATE',y='7_DAY',color='blue',grid='True',figsize=(12,6)).set_xlabel('Date');"
   ]
  },
  {
   "cell_type": "markdown",
   "metadata": {
    "papermill": {
     "duration": 0.010797,
     "end_time": "2020-09-28T22:49:33.654795",
     "exception": false,
     "start_time": "2020-09-28T22:49:33.643998",
     "status": "completed"
    },
    "tags": []
   },
   "source": [
    "## Figure 2: Rolling 7-day average of daily new cases."
   ]
  },
  {
   "cell_type": "code",
   "execution_count": 8,
   "metadata": {
    "execution": {
     "iopub.execute_input": "2020-09-28T22:49:33.679850Z",
     "iopub.status.busy": "2020-09-28T22:49:33.679072Z",
     "iopub.status.idle": "2020-09-28T22:49:33.909390Z",
     "shell.execute_reply": "2020-09-28T22:49:33.909867Z"
    },
    "jupyter": {
     "source_hidden": true
    },
    "papermill": {
     "duration": 0.244979,
     "end_time": "2020-09-28T22:49:33.910024",
     "exception": false,
     "start_time": "2020-09-28T22:49:33.665045",
     "status": "completed"
    },
    "tags": []
   },
   "outputs": [
    {
     "data": {
      "image/png": "[encoded data removed]",
      "text/plain": [
       "<Figure size 864x432 with 1 Axes>"
      ]
     },
     "metadata": {
      "needs_background": "light"
     },
     "output_type": "display_data"
    }
   ],
   "source": [
    "dc.plot(kind='line',x='DATE',y='14_DAY',color='green',grid='True',figsize=(12,6)).set_xlabel('Date');"
   ]
  },
  {
   "cell_type": "markdown",
   "metadata": {
    "papermill": {
     "duration": 0.011379,
     "end_time": "2020-09-28T22:49:33.931453",
     "exception": false,
     "start_time": "2020-09-28T22:49:33.920074",
     "status": "completed"
    },
    "tags": []
   },
   "source": [
    "## Figure 3: Rolling 14-day average of daily new cases."
   ]
  },
  {
   "cell_type": "markdown",
   "metadata": {
    "papermill": {
     "duration": 0.009774,
     "end_time": "2020-09-28T22:49:33.952195",
     "exception": false,
     "start_time": "2020-09-28T22:49:33.942421",
     "status": "completed"
    },
    "tags": []
   },
   "source": [
    "Data source: [Wisconsin Department of Health Services](https://data.dhsgis.wi.gov/datasets/covid-19-historical-data-table/)"
   ]
  },
  {
   "cell_type": "code",
   "execution_count": 9,
   "metadata": {
    "execution": {
     "iopub.execute_input": "2020-09-28T22:49:33.978311Z",
     "iopub.status.busy": "2020-09-28T22:49:33.977730Z",
     "iopub.status.idle": "2020-09-28T22:49:33.981279Z",
     "shell.execute_reply": "2020-09-28T22:49:33.980804Z"
    },
    "jupyter": {
     "source_hidden": true
    },
    "papermill": {
     "duration": 0.017987,
     "end_time": "2020-09-28T22:49:33.981395",
     "exception": false,
     "start_time": "2020-09-28T22:49:33.963408",
     "status": "completed"
    },
    "tags": []
   },
   "outputs": [
    {
     "data": {
      "text/html": [
       "<style>\n",
       "div.input {\n",
       "    display:none;\n",
       "}\n",
       "</style>\n"
      ],
      "text/plain": [
       "<IPython.core.display.HTML object>"
      ]
     },
     "metadata": {},
     "output_type": "display_data"
    }
   ],
   "source": [
    "%%html\n",
    "<style>\n",
    "div.input {\n",
    "    display:none;\n",
    "}\n",
    "</style>"
   ]
  }
 ],
 "metadata": {
  "kernelspec": {
   "display_name": "Python 3",
   "language": "python",
   "name": "python3"
  },
  "language_info": {
   "codemirror_mode": {
    "name": "ipython",
    "version": 3
   },
   "file_extension": ".py",
   "mimetype": "text/x-python",
   "name": "python",
   "nbconvert_exporter": "python",
   "pygments_lexer": "ipython3",
   "version": "3.8.5"
  },
  "papermill": {
   "duration": 9.800993,
   "end_time": "2020-09-28T22:49:34.298711",
   "environment_variables": {},
   "exception": null,
   "input_path": "DunnCounty_COVID19.ipynb",
   "output_path": "DunnCounty_COVID19.ipynb",
   "parameters": {
    "Start": "True",
    "secretsPath": "/home/runner/work/_temp/secrets.json"
   },
   "start_time": "2020-09-28T22:49:24.497718",
   "version": "1.1.16"
  }
 },
 "nbformat": 4,
 "nbformat_minor": 2
}