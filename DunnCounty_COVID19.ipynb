{
 "cells": [
  {
   "cell_type": "code",
   "execution_count": 1,
   "metadata": {
    "execution": {
     "iopub.execute_input": "2020-10-31T22:14:18.965652Z",
     "iopub.status.busy": "2020-10-31T22:14:18.965021Z",
     "iopub.status.idle": "2020-10-31T22:14:21.765308Z",
     "shell.execute_reply": "2020-10-31T22:14:21.764099Z"
    },
    "jupyter": {
     "source_hidden": true
    },
    "papermill": {
     "duration": 2.815197,
     "end_time": "2020-10-31T22:14:21.765521",
     "exception": false,
     "start_time": "2020-10-31T22:14:18.950324",
     "status": "completed"
    },
    "scrolled": true,
    "tags": [
     "hide-input"
    ]
   },
   "outputs": [],
   "source": [
    "import pandas as pd\n",
    "import matplotlib.pyplot as plt\n",
    "from matplotlib import dates\n",
    "from IPython.display import display, Markdown\n",
    "%matplotlib inline"
   ]
  },
  {
   "cell_type": "code",
   "execution_count": 2,
   "metadata": {
    "execution": {
     "iopub.execute_input": "2020-10-31T22:14:21.788035Z",
     "iopub.status.busy": "2020-10-31T22:14:21.787397Z",
     "iopub.status.idle": "2020-10-31T22:14:27.585231Z",
     "shell.execute_reply": "2020-10-31T22:14:27.585684Z"
    },
    "jupyter": {
     "source_hidden": true
    },
    "papermill": {
     "duration": 5.812156,
     "end_time": "2020-10-31T22:14:27.585880",
     "exception": false,
     "start_time": "2020-10-31T22:14:21.773724",
     "status": "completed"
    },
    "scrolled": true,
    "tags": [
     "hide-input"
    ]
   },
   "outputs": [],
   "source": [
    "# This is the data for all of Wisconsin.\n",
    "url = \"https://opendata.arcgis.com/datasets/5374188992374b318d3e2305216ee413_12.csv\"\n",
    "data = pd.read_csv(url, parse_dates=['DATE'], low_memory=False)"
   ]
  },
  {
   "cell_type": "code",
   "execution_count": 3,
   "metadata": {
    "execution": {
     "iopub.execute_input": "2020-10-31T22:14:27.608061Z",
     "iopub.status.busy": "2020-10-31T22:14:27.607537Z",
     "iopub.status.idle": "2020-10-31T22:14:27.616266Z",
     "shell.execute_reply": "2020-10-31T22:14:27.615735Z"
    },
    "jupyter": {
     "source_hidden": true
    },
    "papermill": {
     "duration": 0.02221,
     "end_time": "2020-10-31T22:14:27.616371",
     "exception": false,
     "start_time": "2020-10-31T22:14:27.594161",
     "status": "completed"
    },
    "scrolled": true,
    "tags": [
     "hide-input"
    ]
   },
   "outputs": [],
   "source": [
    "dc = data.groupby('NAME').get_group('Dunn').sort_values(by='DATE') # Select the data for Dunn County from the full data.\n",
    "PNi = dc.columns.get_loc(\"POS_NEW\")\n",
    "dc['7_DAY'] = dc.iloc[:,PNi].rolling(window=7).mean() # Calculates the rolling 7-day average of new cases.\n",
    "dc['14_DAY'] = dc.iloc[:,PNi].rolling(window=14).mean() # Calculates the rolling 14-day average of new cases."
   ]
  },
  {
   "cell_type": "code",
   "execution_count": 4,
   "metadata": {
    "execution": {
     "iopub.execute_input": "2020-10-31T22:14:27.637957Z",
     "iopub.status.busy": "2020-10-31T22:14:27.637296Z",
     "iopub.status.idle": "2020-10-31T22:14:27.640146Z",
     "shell.execute_reply": "2020-10-31T22:14:27.640647Z"
    },
    "jupyter": {
     "source_hidden": true
    },
    "papermill": {
     "duration": 0.017704,
     "end_time": "2020-10-31T22:14:27.640766",
     "exception": false,
     "start_time": "2020-10-31T22:14:27.623062",
     "status": "completed"
    },
    "scrolled": true,
    "tags": [
     "hide-input"
    ]
   },
   "outputs": [
    {
     "data": {
      "text/markdown": [
       "### Last updated: October 31, 2020"
      ],
      "text/plain": [
       "<IPython.core.display.Markdown object>"
      ]
     },
     "metadata": {},
     "output_type": "display_data"
    }
   ],
   "source": [
    "display(Markdown('### Last updated: ' + dc.iloc[-1]['DATE'].strftime(\"%B %d, %Y\")))"
   ]
  },
  {
   "cell_type": "code",
   "execution_count": 5,
   "metadata": {
    "execution": {
     "iopub.execute_input": "2020-10-31T22:14:27.661898Z",
     "iopub.status.busy": "2020-10-31T22:14:27.661383Z",
     "iopub.status.idle": "2020-10-31T22:14:27.664895Z",
     "shell.execute_reply": "2020-10-31T22:14:27.664193Z"
    },
    "jupyter": {
     "source_hidden": true
    },
    "papermill": {
     "duration": 0.015919,
     "end_time": "2020-10-31T22:14:27.665065",
     "exception": false,
     "start_time": "2020-10-31T22:14:27.649146",
     "status": "completed"
    },
    "tags": [
     "hide-input"
    ]
   },
   "outputs": [
    {
     "data": {
      "text/markdown": [
       "# Dunn County has 1177 total positive cases, with 47 new cases reported today."
      ],
      "text/plain": [
       "<IPython.core.display.Markdown object>"
      ]
     },
     "metadata": {},
     "output_type": "display_data"
    }
   ],
   "source": [
    "display(Markdown('# Dunn County has ' + str(dc.iloc[-1]['POSITIVE']) + ' total positive cases, with '+ str(int(dc.iloc[-1]['POS_NEW'])) + ' new cases reported today.'))"
   ]
  },
  {
   "cell_type": "code",
   "execution_count": 6,
   "metadata": {
    "execution": {
     "iopub.execute_input": "2020-10-31T22:14:27.685171Z",
     "iopub.status.busy": "2020-10-31T22:14:27.684673Z",
     "iopub.status.idle": "2020-10-31T22:14:27.934979Z",
     "shell.execute_reply": "2020-10-31T22:14:27.934354Z"
    },
    "jupyter": {
     "source_hidden": true
    },
    "papermill": {
     "duration": 0.262083,
     "end_time": "2020-10-31T22:14:27.935151",
     "exception": false,
     "start_time": "2020-10-31T22:14:27.673068",
     "status": "completed"
    },
    "scrolled": false,
    "tags": [
     "hide-input"
    ]
   },
   "outputs": [
    {
     "data": {
      "image/png": "[encoded data removed]",
      "text/plain": [
       "<Figure size 864x432 with 1 Axes>"
      ]
     },
     "metadata": {
      "needs_background": "light"
     },
     "output_type": "display_data"
    }
   ],
   "source": [
    "dc.plot(x='DATE',y='POSITIVE',color='red',grid='True',figsize=(12,6)).set_xlabel('Date');"
   ]
  },
  {
   "cell_type": "markdown",
   "metadata": {
    "papermill": {
     "duration": 0.008612,
     "end_time": "2020-10-31T22:14:27.951642",
     "exception": false,
     "start_time": "2020-10-31T22:14:27.943030",
     "status": "completed"
    },
    "tags": []
   },
   "source": [
    "## Figure 1: Cummulative number of positive cases."
   ]
  },
  {
   "cell_type": "code",
   "execution_count": 7,
   "metadata": {
    "execution": {
     "iopub.execute_input": "2020-10-31T22:14:27.972979Z",
     "iopub.status.busy": "2020-10-31T22:14:27.972441Z",
     "iopub.status.idle": "2020-10-31T22:14:28.203392Z",
     "shell.execute_reply": "2020-10-31T22:14:28.203816Z"
    },
    "jupyter": {
     "source_hidden": true
    },
    "papermill": {
     "duration": 0.244347,
     "end_time": "2020-10-31T22:14:28.204029",
     "exception": false,
     "start_time": "2020-10-31T22:14:27.959682",
     "status": "completed"
    },
    "scrolled": false,
    "tags": [
     "hide-input"
    ]
   },
   "outputs": [
    {
     "data": {
      "image/png": "[encoded data removed]",
      "text/plain": [
       "<Figure size 864x432 with 1 Axes>"
      ]
     },
     "metadata": {
      "needs_background": "light"
     },
     "output_type": "display_data"
    }
   ],
   "source": [
    "dc.plot(kind='line',x='DATE',y='7_DAY',color='blue',grid='True',figsize=(12,6)).set_xlabel('Date');"
   ]
  },
  {
   "cell_type": "markdown",
   "metadata": {
    "papermill": {
     "duration": 0.008636,
     "end_time": "2020-10-31T22:14:28.222987",
     "exception": false,
     "start_time": "2020-10-31T22:14:28.214351",
     "status": "completed"
    },
    "tags": []
   },
   "source": [
    "## Figure 2: Rolling 7-day average of daily new cases."
   ]
  },
  {
   "cell_type": "code",
   "execution_count": 8,
   "metadata": {
    "execution": {
     "iopub.execute_input": "2020-10-31T22:14:28.243871Z",
     "iopub.status.busy": "2020-10-31T22:14:28.243064Z",
     "iopub.status.idle": "2020-10-31T22:14:28.462663Z",
     "shell.execute_reply": "2020-10-31T22:14:28.462087Z"
    },
    "jupyter": {
     "source_hidden": true
    },
    "papermill": {
     "duration": 0.231301,
     "end_time": "2020-10-31T22:14:28.462815",
     "exception": false,
     "start_time": "2020-10-31T22:14:28.231514",
     "status": "completed"
    },
    "tags": []
   },
   "outputs": [
    {
     "data": {
      "image/png": "[encoded data removed]",
      "text/plain": [
       "<Figure size 864x432 with 1 Axes>"
      ]
     },
     "metadata": {
      "needs_background": "light"
     },
     "output_type": "display_data"
    }
   ],
   "source": [
    "dc.plot(kind='line',x='DATE',y='14_DAY',color='green',grid='True',figsize=(12,6)).set_xlabel('Date');"
   ]
  },
  {
   "cell_type": "markdown",
   "metadata": {
    "papermill": {
     "duration": 0.010599,
     "end_time": "2020-10-31T22:14:28.483994",
     "exception": false,
     "start_time": "2020-10-31T22:14:28.473395",
     "status": "completed"
    },
    "tags": []
   },
   "source": [
    "## Figure 3: Rolling 14-day average of daily new cases."
   ]
  },
  {
   "cell_type": "markdown",
   "metadata": {
    "papermill": {
     "duration": 0.009511,
     "end_time": "2020-10-31T22:14:28.502868",
     "exception": false,
     "start_time": "2020-10-31T22:14:28.493357",
     "status": "completed"
    },
    "tags": []
   },
   "source": [
    "Data source: [Wisconsin Department of Health Services](https://data.dhsgis.wi.gov/datasets/covid-19-historical-data-table/)"
   ]
  },
  {
   "cell_type": "code",
   "execution_count": 9,
   "metadata": {
    "execution": {
     "iopub.execute_input": "2020-10-31T22:14:28.527267Z",
     "iopub.status.busy": "2020-10-31T22:14:28.526762Z",
     "iopub.status.idle": "2020-10-31T22:14:28.529787Z",
     "shell.execute_reply": "2020-10-31T22:14:28.529358Z"
    },
    "jupyter": {
     "source_hidden": true
    },
    "papermill": {
     "duration": 0.015844,
     "end_time": "2020-10-31T22:14:28.529914",
     "exception": false,
     "start_time": "2020-10-31T22:14:28.514070",
     "status": "completed"
    },
    "tags": []
   },
   "outputs": [
    {
     "data": {
      "text/html": [
       "<style>\n",
       "div.input {\n",
       "    display:none;\n",
       "}\n",
       "</style>\n"
      ],
      "text/plain": [
       "<IPython.core.display.HTML object>"
      ]
     },
     "metadata": {},
     "output_type": "display_data"
    }
   ],
   "source": [
    "%%html\n",
    "<style>\n",
    "div.input {\n",
    "    display:none;\n",
    "}\n",
    "</style>"
   ]
  }
 ],
 "metadata": {
  "kernelspec": {
   "display_name": "Python 3",
   "language": "python",
   "name": "python3"
  },
  "language_info": {
   "codemirror_mode": {
    "name": "ipython",
    "version": 3
   },
   "file_extension": ".py",
   "mimetype": "text/x-python",
   "name": "python",
   "nbconvert_exporter": "python",
   "pygments_lexer": "ipython3",
   "version": "3.8.6"
  },
  "papermill": {
   "duration": 11.27334,
   "end_time": "2020-10-31T22:14:28.845489",
   "environment_variables": {},
   "exception": null,
   "input_path": "DunnCounty_COVID19.ipynb",
   "output_path": "DunnCounty_COVID19.ipynb",
   "parameters": {
    "Start": "True",
    "secretsPath": "/home/runner/work/_temp/secrets.json"
   },
   "start_time": "2020-10-31T22:14:17.572149",
   "version": "1.1.16"
  }
 },
 "nbformat": 4,
 "nbformat_minor": 2
}