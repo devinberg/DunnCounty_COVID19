{
 "cells": [
  {
   "cell_type": "code",
   "execution_count": 1,
   "id": "solar-understanding",
   "metadata": {
    "execution": {
     "iopub.execute_input": "2021-05-11T10:12:52.625652Z",
     "iopub.status.busy": "2021-05-11T10:12:52.625099Z",
     "iopub.status.idle": "2021-05-11T10:12:54.273761Z",
     "shell.execute_reply": "2021-05-11T10:12:54.272786Z"
    },
    "jupyter": {
     "source_hidden": true
    },
    "papermill": {
     "duration": 1.671336,
     "end_time": "2021-05-11T10:12:54.273912",
     "exception": false,
     "start_time": "2021-05-11T10:12:52.602576",
     "status": "completed"
    },
    "scrolled": true,
    "tags": [
     "hide-input"
    ]
   },
   "outputs": [],
   "source": [
    "import pandas as pd\n",
    "import matplotlib.pyplot as plt\n",
    "from matplotlib import dates\n",
    "from IPython.display import display, Markdown\n",
    "%matplotlib inline"
   ]
  },
  {
   "cell_type": "code",
   "execution_count": 2,
   "id": "purple-playlist",
   "metadata": {
    "execution": {
     "iopub.execute_input": "2021-05-11T10:12:54.296955Z",
     "iopub.status.busy": "2021-05-11T10:12:54.296305Z",
     "iopub.status.idle": "2021-05-11T10:12:55.282000Z",
     "shell.execute_reply": "2021-05-11T10:12:55.282514Z"
    },
    "jupyter": {
     "source_hidden": true
    },
    "papermill": {
     "duration": 1.000369,
     "end_time": "2021-05-11T10:12:55.282702",
     "exception": false,
     "start_time": "2021-05-11T10:12:54.282333",
     "status": "completed"
    },
    "scrolled": true,
    "tags": [
     "hide-input"
    ]
   },
   "outputs": [],
   "source": [
    "# This is the data for all of Wisconsin.\n",
    "url = \"https://opendata.arcgis.com/datasets/80ff9d4897db4d7692f0f4ad28447cab_12.csv\"\n",
    "data = pd.read_csv(url, parse_dates=['DATE'], low_memory=False)"
   ]
  },
  {
   "cell_type": "code",
   "execution_count": 3,
   "id": "proprietary-klein",
   "metadata": {
    "execution": {
     "iopub.execute_input": "2021-05-11T10:12:55.307055Z",
     "iopub.status.busy": "2021-05-11T10:12:55.306514Z",
     "iopub.status.idle": "2021-05-11T10:12:55.314878Z",
     "shell.execute_reply": "2021-05-11T10:12:55.315275Z"
    },
    "jupyter": {
     "source_hidden": true
    },
    "papermill": {
     "duration": 0.023398,
     "end_time": "2021-05-11T10:12:55.315413",
     "exception": false,
     "start_time": "2021-05-11T10:12:55.292015",
     "status": "completed"
    },
    "scrolled": true,
    "tags": [
     "hide-input"
    ]
   },
   "outputs": [],
   "source": [
    "dc = data.groupby('NAME').get_group('Dunn').sort_values(by='DATE') # Select the data for Dunn County from the full data.\n",
    "PNi = dc.columns.get_loc(\"POS_NEW\")\n",
    "dc['7_DAY'] = dc.iloc[:,PNi].rolling(window=7).mean() # Calculates the rolling 7-day average of new cases.\n",
    "dc['14_DAY'] = dc.iloc[:,PNi].rolling(window=14).mean() # Calculates the rolling 14-day average of new cases."
   ]
  },
  {
   "cell_type": "code",
   "execution_count": 4,
   "id": "steady-supervision",
   "metadata": {
    "execution": {
     "iopub.execute_input": "2021-05-11T10:12:55.338309Z",
     "iopub.status.busy": "2021-05-11T10:12:55.337792Z",
     "iopub.status.idle": "2021-05-11T10:12:55.340114Z",
     "shell.execute_reply": "2021-05-11T10:12:55.340489Z"
    },
    "jupyter": {
     "source_hidden": true
    },
    "papermill": {
     "duration": 0.017127,
     "end_time": "2021-05-11T10:12:55.340767",
     "exception": false,
     "start_time": "2021-05-11T10:12:55.323640",
     "status": "completed"
    },
    "scrolled": true,
    "tags": [
     "hide-input"
    ]
   },
   "outputs": [
    {
     "data": {
      "text/markdown": [
       "### Last updated: May 10, 2021"
      ],
      "text/plain": [
       "<IPython.core.display.Markdown object>"
      ]
     },
     "metadata": {},
     "output_type": "display_data"
    }
   ],
   "source": [
    "display(Markdown('### Last updated: ' + dc.iloc[-1]['DATE'].strftime(\"%B %d, %Y\")))"
   ]
  },
  {
   "cell_type": "code",
   "execution_count": 5,
   "id": "lonely-pitch",
   "metadata": {
    "execution": {
     "iopub.execute_input": "2021-05-11T10:12:55.364863Z",
     "iopub.status.busy": "2021-05-11T10:12:55.364328Z",
     "iopub.status.idle": "2021-05-11T10:12:55.367649Z",
     "shell.execute_reply": "2021-05-11T10:12:55.367246Z"
    },
    "jupyter": {
     "source_hidden": true
    },
    "papermill": {
     "duration": 0.018414,
     "end_time": "2021-05-11T10:12:55.367756",
     "exception": false,
     "start_time": "2021-05-11T10:12:55.349342",
     "status": "completed"
    },
    "tags": [
     "hide-input"
    ]
   },
   "outputs": [
    {
     "data": {
      "text/markdown": [
       "# Dunn County has 4650 total positive cases, with 3 new cases reported today."
      ],
      "text/plain": [
       "<IPython.core.display.Markdown object>"
      ]
     },
     "metadata": {},
     "output_type": "display_data"
    }
   ],
   "source": [
    "display(Markdown('# Dunn County has ' + str(dc.iloc[-1]['POSITIVE']) + ' total positive cases, with '+ str(int(dc.iloc[-1]['POS_NEW'])) + ' new cases reported today.'))"
   ]
  },
  {
   "cell_type": "code",
   "execution_count": 6,
   "id": "compound-nightmare",
   "metadata": {
    "execution": {
     "iopub.execute_input": "2021-05-11T10:12:55.391055Z",
     "iopub.status.busy": "2021-05-11T10:12:55.390478Z",
     "iopub.status.idle": "2021-05-11T10:12:55.661120Z",
     "shell.execute_reply": "2021-05-11T10:12:55.661567Z"
    },
    "jupyter": {
     "source_hidden": true
    },
    "papermill": {
     "duration": 0.284966,
     "end_time": "2021-05-11T10:12:55.661723",
     "exception": false,
     "start_time": "2021-05-11T10:12:55.376757",
     "status": "completed"
    },
    "scrolled": false,
    "tags": [
     "hide-input"
    ]
   },
   "outputs": [
    {
     "data": {
      "image/png": "[encoded data removed]",
      "text/plain": [
       "<Figure size 864x432 with 1 Axes>"
      ]
     },
     "metadata": {
      "needs_background": "light"
     },
     "output_type": "display_data"
    }
   ],
   "source": [
    "dc.plot(x='DATE',y='POSITIVE',color='red',grid='True',figsize=(12,6)).set_xlabel('Date');"
   ]
  },
  {
   "cell_type": "markdown",
   "id": "coupled-literacy",
   "metadata": {
    "papermill": {
     "duration": 0.010106,
     "end_time": "2021-05-11T10:12:55.681615",
     "exception": false,
     "start_time": "2021-05-11T10:12:55.671509",
     "status": "completed"
    },
    "tags": []
   },
   "source": [
    "## Figure 1: Cummulative number of positive cases."
   ]
  },
  {
   "cell_type": "code",
   "execution_count": 7,
   "id": "surrounded-reserve",
   "metadata": {
    "execution": {
     "iopub.execute_input": "2021-05-11T10:12:55.711880Z",
     "iopub.status.busy": "2021-05-11T10:12:55.711443Z",
     "iopub.status.idle": "2021-05-11T10:12:55.919952Z",
     "shell.execute_reply": "2021-05-11T10:12:55.919357Z"
    },
    "jupyter": {
     "source_hidden": true
    },
    "papermill": {
     "duration": 0.223692,
     "end_time": "2021-05-11T10:12:55.920110",
     "exception": false,
     "start_time": "2021-05-11T10:12:55.696418",
     "status": "completed"
    },
    "scrolled": false,
    "tags": [
     "hide-input"
    ]
   },
   "outputs": [
    {
     "data": {
      "image/png": "[encoded data removed]",
      "text/plain": [
       "<Figure size 864x432 with 1 Axes>"
      ]
     },
     "metadata": {
      "needs_background": "light"
     },
     "output_type": "display_data"
    }
   ],
   "source": [
    "dc.plot(kind='line',x='DATE',y='7_DAY',color='blue',grid='True',figsize=(12,6)).set_xlabel('Date');"
   ]
  },
  {
   "cell_type": "markdown",
   "id": "professional-savannah",
   "metadata": {
    "papermill": {
     "duration": 0.011076,
     "end_time": "2021-05-11T10:12:55.943702",
     "exception": false,
     "start_time": "2021-05-11T10:12:55.932626",
     "status": "completed"
    },
    "tags": []
   },
   "source": [
    "## Figure 2: Rolling 7-day average of daily new cases."
   ]
  },
  {
   "cell_type": "code",
   "execution_count": 8,
   "id": "stretch-investor",
   "metadata": {
    "execution": {
     "iopub.execute_input": "2021-05-11T10:12:55.971206Z",
     "iopub.status.busy": "2021-05-11T10:12:55.970701Z",
     "iopub.status.idle": "2021-05-11T10:12:56.176930Z",
     "shell.execute_reply": "2021-05-11T10:12:56.176057Z"
    },
    "jupyter": {
     "source_hidden": true
    },
    "papermill": {
     "duration": 0.222066,
     "end_time": "2021-05-11T10:12:56.177125",
     "exception": false,
     "start_time": "2021-05-11T10:12:55.955059",
     "status": "completed"
    },
    "tags": []
   },
   "outputs": [
    {
     "data": {
      "image/png": "[encoded data removed]",
      "text/plain": [
       "<Figure size 864x432 with 1 Axes>"
      ]
     },
     "metadata": {
      "needs_background": "light"
     },
     "output_type": "display_data"
    }
   ],
   "source": [
    "dc.plot(kind='line',x='DATE',y='14_DAY',color='green',grid='True',figsize=(12,6)).set_xlabel('Date');"
   ]
  },
  {
   "cell_type": "markdown",
   "id": "prerequisite-species",
   "metadata": {
    "papermill": {
     "duration": 0.012181,
     "end_time": "2021-05-11T10:12:56.201316",
     "exception": false,
     "start_time": "2021-05-11T10:12:56.189135",
     "status": "completed"
    },
    "tags": []
   },
   "source": [
    "## Figure 3: Rolling 14-day average of daily new cases."
   ]
  },
  {
   "cell_type": "markdown",
   "id": "palestinian-guard",
   "metadata": {
    "papermill": {
     "duration": 0.012268,
     "end_time": "2021-05-11T10:12:56.225122",
     "exception": false,
     "start_time": "2021-05-11T10:12:56.212854",
     "status": "completed"
    },
    "tags": []
   },
   "source": [
    "Data source: [Wisconsin Department of Health Services](https://data.dhsgis.wi.gov/datasets/covid-19-historical-data-by-county)"
   ]
  },
  {
   "cell_type": "code",
   "execution_count": 9,
   "id": "proof-medicare",
   "metadata": {
    "execution": {
     "iopub.execute_input": "2021-05-11T10:12:56.254515Z",
     "iopub.status.busy": "2021-05-11T10:12:56.253983Z",
     "iopub.status.idle": "2021-05-11T10:12:56.256797Z",
     "shell.execute_reply": "2021-05-11T10:12:56.257166Z"
    },
    "jupyter": {
     "source_hidden": true
    },
    "papermill": {
     "duration": 0.019959,
     "end_time": "2021-05-11T10:12:56.257294",
     "exception": false,
     "start_time": "2021-05-11T10:12:56.237335",
     "status": "completed"
    },
    "tags": []
   },
   "outputs": [
    {
     "data": {
      "text/html": [
       "<style>\n",
       "div.input {\n",
       "    display:none;\n",
       "}\n",
       "</style>\n"
      ],
      "text/plain": [
       "<IPython.core.display.HTML object>"
      ]
     },
     "metadata": {},
     "output_type": "display_data"
    }
   ],
   "source": [
    "%%html\n",
    "<style>\n",
    "div.input {\n",
    "    display:none;\n",
    "}\n",
    "</style>"
   ]
  }
 ],
 "metadata": {
  "kernelspec": {
   "display_name": "Python 3",
   "language": "python",
   "name": "python3"
  },
  "language_info": {
   "codemirror_mode": {
    "name": "ipython",
    "version": 3
   },
   "file_extension": ".py",
   "mimetype": "text/x-python",
   "name": "python",
   "nbconvert_exporter": "python",
   "pygments_lexer": "ipython3",
   "version": "3.8.10"
  },
  "papermill": {
   "duration": 5.41523,
   "end_time": "2021-05-11T10:12:56.576186",
   "environment_variables": {},
   "exception": null,
   "input_path": "DunnCounty_COVID19.ipynb",
   "output_path": "DunnCounty_COVID19.ipynb",
   "parameters": {
    "Start": "True",
    "secretsPath": "/home/runner/work/_temp/secrets.json"
   },
   "start_time": "2021-05-11T10:12:51.160956",
   "version": "1.1.16"
  }
 },
 "nbformat": 4,
 "nbformat_minor": 5
}