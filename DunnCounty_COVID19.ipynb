{
 "cells": [
  {
   "cell_type": "code",
   "execution_count": 1,
   "metadata": {
    "execution": {
     "iopub.execute_input": "2021-01-07T22:20:09.986151Z",
     "iopub.status.busy": "2021-01-07T22:20:09.985564Z",
     "iopub.status.idle": "2021-01-07T22:20:12.094198Z",
     "shell.execute_reply": "2021-01-07T22:20:12.094719Z"
    },
    "jupyter": {
     "source_hidden": true
    },
    "papermill": {
     "duration": 2.135056,
     "end_time": "2021-01-07T22:20:12.095024",
     "exception": false,
     "start_time": "2021-01-07T22:20:09.959968",
     "status": "completed"
    },
    "scrolled": true,
    "tags": [
     "hide-input"
    ]
   },
   "outputs": [],
   "source": [
    "import pandas as pd\n",
    "import matplotlib.pyplot as plt\n",
    "from matplotlib import dates\n",
    "from IPython.display import display, Markdown\n",
    "%matplotlib inline"
   ]
  },
  {
   "cell_type": "code",
   "execution_count": 2,
   "metadata": {
    "execution": {
     "iopub.execute_input": "2021-01-07T22:20:12.125122Z",
     "iopub.status.busy": "2021-01-07T22:20:12.124528Z",
     "iopub.status.idle": "2021-01-07T22:20:12.802011Z",
     "shell.execute_reply": "2021-01-07T22:20:12.801159Z"
    },
    "jupyter": {
     "source_hidden": true
    },
    "papermill": {
     "duration": 0.696341,
     "end_time": "2021-01-07T22:20:12.802234",
     "exception": false,
     "start_time": "2021-01-07T22:20:12.105893",
     "status": "completed"
    },
    "scrolled": true,
    "tags": [
     "hide-input"
    ]
   },
   "outputs": [],
   "source": [
    "# This is the data for all of Wisconsin.\n",
    "url = \"https://opendata.arcgis.com/datasets/5374188992374b318d3e2305216ee413_12.csv\"\n",
    "data = pd.read_csv(url, parse_dates=['DATE'], low_memory=False)"
   ]
  },
  {
   "cell_type": "code",
   "execution_count": 3,
   "metadata": {
    "execution": {
     "iopub.execute_input": "2021-01-07T22:20:12.825983Z",
     "iopub.status.busy": "2021-01-07T22:20:12.825418Z",
     "iopub.status.idle": "2021-01-07T22:20:12.833583Z",
     "shell.execute_reply": "2021-01-07T22:20:12.834000Z"
    },
    "jupyter": {
     "source_hidden": true
    },
    "papermill": {
     "duration": 0.022668,
     "end_time": "2021-01-07T22:20:12.834159",
     "exception": false,
     "start_time": "2021-01-07T22:20:12.811491",
     "status": "completed"
    },
    "scrolled": true,
    "tags": [
     "hide-input"
    ]
   },
   "outputs": [],
   "source": [
    "dc = data.groupby('NAME').get_group('Dunn').sort_values(by='DATE') # Select the data for Dunn County from the full data.\n",
    "PNi = dc.columns.get_loc(\"POS_NEW\")\n",
    "dc['7_DAY'] = dc.iloc[:,PNi].rolling(window=7).mean() # Calculates the rolling 7-day average of new cases.\n",
    "dc['14_DAY'] = dc.iloc[:,PNi].rolling(window=14).mean() # Calculates the rolling 14-day average of new cases."
   ]
  },
  {
   "cell_type": "code",
   "execution_count": 4,
   "metadata": {
    "execution": {
     "iopub.execute_input": "2021-01-07T22:20:12.855332Z",
     "iopub.status.busy": "2021-01-07T22:20:12.852312Z",
     "iopub.status.idle": "2021-01-07T22:20:12.858310Z",
     "shell.execute_reply": "2021-01-07T22:20:12.858771Z"
    },
    "jupyter": {
     "source_hidden": true
    },
    "papermill": {
     "duration": 0.017742,
     "end_time": "2021-01-07T22:20:12.858927",
     "exception": false,
     "start_time": "2021-01-07T22:20:12.841185",
     "status": "completed"
    },
    "scrolled": true,
    "tags": [
     "hide-input"
    ]
   },
   "outputs": [
    {
     "data": {
      "text/markdown": [
       "### Last updated: January 07, 2021"
      ],
      "text/plain": [
       "<IPython.core.display.Markdown object>"
      ]
     },
     "metadata": {},
     "output_type": "display_data"
    }
   ],
   "source": [
    "display(Markdown('### Last updated: ' + dc.iloc[-1]['DATE'].strftime(\"%B %d, %Y\")))"
   ]
  },
  {
   "cell_type": "code",
   "execution_count": 5,
   "metadata": {
    "execution": {
     "iopub.execute_input": "2021-01-07T22:20:12.879014Z",
     "iopub.status.busy": "2021-01-07T22:20:12.878428Z",
     "iopub.status.idle": "2021-01-07T22:20:12.881770Z",
     "shell.execute_reply": "2021-01-07T22:20:12.882206Z"
    },
    "jupyter": {
     "source_hidden": true
    },
    "papermill": {
     "duration": 0.015835,
     "end_time": "2021-01-07T22:20:12.882361",
     "exception": false,
     "start_time": "2021-01-07T22:20:12.866526",
     "status": "completed"
    },
    "tags": [
     "hide-input"
    ]
   },
   "outputs": [
    {
     "data": {
      "text/markdown": [
       "# Dunn County has 3652 total positive cases, with 18 new cases reported today."
      ],
      "text/plain": [
       "<IPython.core.display.Markdown object>"
      ]
     },
     "metadata": {},
     "output_type": "display_data"
    }
   ],
   "source": [
    "display(Markdown('# Dunn County has ' + str(dc.iloc[-1]['POSITIVE']) + ' total positive cases, with '+ str(int(dc.iloc[-1]['POS_NEW'])) + ' new cases reported today.'))"
   ]
  },
  {
   "cell_type": "code",
   "execution_count": 6,
   "metadata": {
    "execution": {
     "iopub.execute_input": "2021-01-07T22:20:12.903110Z",
     "iopub.status.busy": "2021-01-07T22:20:12.902509Z",
     "iopub.status.idle": "2021-01-07T22:20:13.161381Z",
     "shell.execute_reply": "2021-01-07T22:20:13.161826Z"
    },
    "jupyter": {
     "source_hidden": true
    },
    "papermill": {
     "duration": 0.271738,
     "end_time": "2021-01-07T22:20:13.161990",
     "exception": false,
     "start_time": "2021-01-07T22:20:12.890252",
     "status": "completed"
    },
    "scrolled": false,
    "tags": [
     "hide-input"
    ]
   },
   "outputs": [
    {
     "data": {
      "image/png": "[encoded data removed]",
      "text/plain": [
       "<Figure size 864x432 with 1 Axes>"
      ]
     },
     "metadata": {
      "needs_background": "light"
     },
     "output_type": "display_data"
    }
   ],
   "source": [
    "dc.plot(x='DATE',y='POSITIVE',color='red',grid='True',figsize=(12,6)).set_xlabel('Date');"
   ]
  },
  {
   "cell_type": "markdown",
   "metadata": {
    "papermill": {
     "duration": 0.008926,
     "end_time": "2021-01-07T22:20:13.179842",
     "exception": false,
     "start_time": "2021-01-07T22:20:13.170916",
     "status": "completed"
    },
    "tags": []
   },
   "source": [
    "## Figure 1: Cummulative number of positive cases."
   ]
  },
  {
   "cell_type": "code",
   "execution_count": 7,
   "metadata": {
    "execution": {
     "iopub.execute_input": "2021-01-07T22:20:13.211691Z",
     "iopub.status.busy": "2021-01-07T22:20:13.202183Z",
     "iopub.status.idle": "2021-01-07T22:20:13.452566Z",
     "shell.execute_reply": "2021-01-07T22:20:13.452058Z"
    },
    "jupyter": {
     "source_hidden": true
    },
    "papermill": {
     "duration": 0.264044,
     "end_time": "2021-01-07T22:20:13.452712",
     "exception": false,
     "start_time": "2021-01-07T22:20:13.188668",
     "status": "completed"
    },
    "scrolled": false,
    "tags": [
     "hide-input"
    ]
   },
   "outputs": [
    {
     "data": {
      "image/png": "[encoded data removed]",
      "text/plain": [
       "<Figure size 864x432 with 1 Axes>"
      ]
     },
     "metadata": {
      "needs_background": "light"
     },
     "output_type": "display_data"
    }
   ],
   "source": [
    "dc.plot(kind='line',x='DATE',y='7_DAY',color='blue',grid='True',figsize=(12,6)).set_xlabel('Date');"
   ]
  },
  {
   "cell_type": "markdown",
   "metadata": {
    "papermill": {
     "duration": 0.01082,
     "end_time": "2021-01-07T22:20:13.473961",
     "exception": false,
     "start_time": "2021-01-07T22:20:13.463141",
     "status": "completed"
    },
    "tags": []
   },
   "source": [
    "## Figure 2: Rolling 7-day average of daily new cases."
   ]
  },
  {
   "cell_type": "code",
   "execution_count": 8,
   "metadata": {
    "execution": {
     "iopub.execute_input": "2021-01-07T22:20:13.502827Z",
     "iopub.status.busy": "2021-01-07T22:20:13.501454Z",
     "iopub.status.idle": "2021-01-07T22:20:13.737040Z",
     "shell.execute_reply": "2021-01-07T22:20:13.736560Z"
    },
    "jupyter": {
     "source_hidden": true
    },
    "papermill": {
     "duration": 0.25294,
     "end_time": "2021-01-07T22:20:13.737182",
     "exception": false,
     "start_time": "2021-01-07T22:20:13.484242",
     "status": "completed"
    },
    "tags": []
   },
   "outputs": [
    {
     "data": {
      "image/png": "[encoded data removed]",
      "text/plain": [
       "<Figure size 864x432 with 1 Axes>"
      ]
     },
     "metadata": {
      "needs_background": "light"
     },
     "output_type": "display_data"
    }
   ],
   "source": [
    "dc.plot(kind='line',x='DATE',y='14_DAY',color='green',grid='True',figsize=(12,6)).set_xlabel('Date');"
   ]
  },
  {
   "cell_type": "markdown",
   "metadata": {
    "papermill": {
     "duration": 0.011502,
     "end_time": "2021-01-07T22:20:13.759967",
     "exception": false,
     "start_time": "2021-01-07T22:20:13.748465",
     "status": "completed"
    },
    "tags": []
   },
   "source": [
    "## Figure 3: Rolling 14-day average of daily new cases."
   ]
  },
  {
   "cell_type": "markdown",
   "metadata": {
    "papermill": {
     "duration": 0.01279,
     "end_time": "2021-01-07T22:20:13.785856",
     "exception": false,
     "start_time": "2021-01-07T22:20:13.773066",
     "status": "completed"
    },
    "tags": []
   },
   "source": [
    "Data source: [Wisconsin Department of Health Services](https://data.dhsgis.wi.gov/datasets/covid-19-historical-data-table/)"
   ]
  },
  {
   "cell_type": "code",
   "execution_count": 9,
   "metadata": {
    "execution": {
     "iopub.execute_input": "2021-01-07T22:20:13.822031Z",
     "iopub.status.busy": "2021-01-07T22:20:13.821466Z",
     "iopub.status.idle": "2021-01-07T22:20:13.826157Z",
     "shell.execute_reply": "2021-01-07T22:20:13.826589Z"
    },
    "jupyter": {
     "source_hidden": true
    },
    "papermill": {
     "duration": 0.029781,
     "end_time": "2021-01-07T22:20:13.826773",
     "exception": false,
     "start_time": "2021-01-07T22:20:13.796992",
     "status": "completed"
    },
    "tags": []
   },
   "outputs": [
    {
     "data": {
      "text/html": [
       "<style>\n",
       "div.input {\n",
       "    display:none;\n",
       "}\n",
       "</style>\n"
      ],
      "text/plain": [
       "<IPython.core.display.HTML object>"
      ]
     },
     "metadata": {},
     "output_type": "display_data"
    }
   ],
   "source": [
    "%%html\n",
    "<style>\n",
    "div.input {\n",
    "    display:none;\n",
    "}\n",
    "</style>"
   ]
  }
 ],
 "metadata": {
  "kernelspec": {
   "display_name": "Python 3",
   "language": "python",
   "name": "python3"
  },
  "language_info": {
   "codemirror_mode": {
    "name": "ipython",
    "version": 3
   },
   "file_extension": ".py",
   "mimetype": "text/x-python",
   "name": "python",
   "nbconvert_exporter": "python",
   "pygments_lexer": "ipython3",
   "version": "3.8.6"
  },
  "papermill": {
   "duration": 6.543264,
   "end_time": "2021-01-07T22:20:15.198999",
   "environment_variables": {},
   "exception": null,
   "input_path": "DunnCounty_COVID19.ipynb",
   "output_path": "DunnCounty_COVID19.ipynb",
   "parameters": {
    "Start": "True",
    "secretsPath": "/home/runner/work/_temp/secrets.json"
   },
   "start_time": "2021-01-07T22:20:08.655735",
   "version": "1.1.16"
  }
 },
 "nbformat": 4,
 "nbformat_minor": 2
}