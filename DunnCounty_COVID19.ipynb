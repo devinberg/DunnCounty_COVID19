{
 "cells": [
  {
   "cell_type": "code",
   "execution_count": 1,
   "id": "solar-understanding",
   "metadata": {
    "execution": {
     "iopub.execute_input": "2021-02-14T22:11:42.563432Z",
     "iopub.status.busy": "2021-02-14T22:11:42.562868Z",
     "iopub.status.idle": "2021-02-14T22:11:43.521663Z",
     "shell.execute_reply": "2021-02-14T22:11:43.520499Z"
    },
    "jupyter": {
     "source_hidden": true
    },
    "papermill": {
     "duration": 0.976985,
     "end_time": "2021-02-14T22:11:43.521804",
     "exception": false,
     "start_time": "2021-02-14T22:11:42.544819",
     "status": "completed"
    },
    "scrolled": true,
    "tags": [
     "hide-input"
    ]
   },
   "outputs": [],
   "source": [
    "import pandas as pd\n",
    "import matplotlib.pyplot as plt\n",
    "from matplotlib import dates\n",
    "from IPython.display import display, Markdown\n",
    "%matplotlib inline"
   ]
  },
  {
   "cell_type": "code",
   "execution_count": 2,
   "id": "purple-playlist",
   "metadata": {
    "execution": {
     "iopub.execute_input": "2021-02-14T22:11:43.545389Z",
     "iopub.status.busy": "2021-02-14T22:11:43.544822Z",
     "iopub.status.idle": "2021-02-14T22:11:44.191667Z",
     "shell.execute_reply": "2021-02-14T22:11:44.190735Z"
    },
    "jupyter": {
     "source_hidden": true
    },
    "papermill": {
     "duration": 0.660946,
     "end_time": "2021-02-14T22:11:44.191800",
     "exception": false,
     "start_time": "2021-02-14T22:11:43.530854",
     "status": "completed"
    },
    "scrolled": true,
    "tags": [
     "hide-input"
    ]
   },
   "outputs": [],
   "source": [
    "# This is the data for all of Wisconsin.\n",
    "url = \"https://opendata.arcgis.com/datasets/5374188992374b318d3e2305216ee413_12.csv\"\n",
    "data = pd.read_csv(url, parse_dates=['DATE'], low_memory=False)"
   ]
  },
  {
   "cell_type": "code",
   "execution_count": 3,
   "id": "proprietary-klein",
   "metadata": {
    "execution": {
     "iopub.execute_input": "2021-02-14T22:11:44.214047Z",
     "iopub.status.busy": "2021-02-14T22:11:44.213484Z",
     "iopub.status.idle": "2021-02-14T22:11:44.222654Z",
     "shell.execute_reply": "2021-02-14T22:11:44.222160Z"
    },
    "jupyter": {
     "source_hidden": true
    },
    "papermill": {
     "duration": 0.022449,
     "end_time": "2021-02-14T22:11:44.222782",
     "exception": false,
     "start_time": "2021-02-14T22:11:44.200333",
     "status": "completed"
    },
    "scrolled": true,
    "tags": [
     "hide-input"
    ]
   },
   "outputs": [],
   "source": [
    "dc = data.groupby('NAME').get_group('Dunn').sort_values(by='DATE') # Select the data for Dunn County from the full data.\n",
    "PNi = dc.columns.get_loc(\"POS_NEW\")\n",
    "dc['7_DAY'] = dc.iloc[:,PNi].rolling(window=7).mean() # Calculates the rolling 7-day average of new cases.\n",
    "dc['14_DAY'] = dc.iloc[:,PNi].rolling(window=14).mean() # Calculates the rolling 14-day average of new cases."
   ]
  },
  {
   "cell_type": "code",
   "execution_count": 4,
   "id": "steady-supervision",
   "metadata": {
    "execution": {
     "iopub.execute_input": "2021-02-14T22:11:44.246404Z",
     "iopub.status.busy": "2021-02-14T22:11:44.245774Z",
     "iopub.status.idle": "2021-02-14T22:11:44.249689Z",
     "shell.execute_reply": "2021-02-14T22:11:44.249285Z"
    },
    "jupyter": {
     "source_hidden": true
    },
    "papermill": {
     "duration": 0.018782,
     "end_time": "2021-02-14T22:11:44.249793",
     "exception": false,
     "start_time": "2021-02-14T22:11:44.231011",
     "status": "completed"
    },
    "scrolled": true,
    "tags": [
     "hide-input"
    ]
   },
   "outputs": [
    {
     "data": {
      "text/markdown": [
       "### Last updated: February 14, 2021"
      ],
      "text/plain": [
       "<IPython.core.display.Markdown object>"
      ]
     },
     "metadata": {},
     "output_type": "display_data"
    }
   ],
   "source": [
    "display(Markdown('### Last updated: ' + dc.iloc[-1]['DATE'].strftime(\"%B %d, %Y\")))"
   ]
  },
  {
   "cell_type": "code",
   "execution_count": 5,
   "id": "lonely-pitch",
   "metadata": {
    "execution": {
     "iopub.execute_input": "2021-02-14T22:11:44.271604Z",
     "iopub.status.busy": "2021-02-14T22:11:44.271111Z",
     "iopub.status.idle": "2021-02-14T22:11:44.274118Z",
     "shell.execute_reply": "2021-02-14T22:11:44.273658Z"
    },
    "jupyter": {
     "source_hidden": true
    },
    "papermill": {
     "duration": 0.016449,
     "end_time": "2021-02-14T22:11:44.274226",
     "exception": false,
     "start_time": "2021-02-14T22:11:44.257777",
     "status": "completed"
    },
    "tags": [
     "hide-input"
    ]
   },
   "outputs": [
    {
     "data": {
      "text/markdown": [
       "# Dunn County has 4188 total positive cases, with 12 new cases reported today."
      ],
      "text/plain": [
       "<IPython.core.display.Markdown object>"
      ]
     },
     "metadata": {},
     "output_type": "display_data"
    }
   ],
   "source": [
    "display(Markdown('# Dunn County has ' + str(dc.iloc[-1]['POSITIVE']) + ' total positive cases, with '+ str(int(dc.iloc[-1]['POS_NEW'])) + ' new cases reported today.'))"
   ]
  },
  {
   "cell_type": "code",
   "execution_count": 6,
   "id": "compound-nightmare",
   "metadata": {
    "execution": {
     "iopub.execute_input": "2021-02-14T22:11:44.295962Z",
     "iopub.status.busy": "2021-02-14T22:11:44.295464Z",
     "iopub.status.idle": "2021-02-14T22:11:44.544618Z",
     "shell.execute_reply": "2021-02-14T22:11:44.545058Z"
    },
    "jupyter": {
     "source_hidden": true
    },
    "papermill": {
     "duration": 0.26224,
     "end_time": "2021-02-14T22:11:44.545210",
     "exception": false,
     "start_time": "2021-02-14T22:11:44.282970",
     "status": "completed"
    },
    "scrolled": false,
    "tags": [
     "hide-input"
    ]
   },
   "outputs": [
    {
     "data": {
      "image/png": "[encoded data removed]",
      "text/plain": [
       "<Figure size 864x432 with 1 Axes>"
      ]
     },
     "metadata": {
      "needs_background": "light"
     },
     "output_type": "display_data"
    }
   ],
   "source": [
    "dc.plot(x='DATE',y='POSITIVE',color='red',grid='True',figsize=(12,6)).set_xlabel('Date');"
   ]
  },
  {
   "cell_type": "markdown",
   "id": "coupled-literacy",
   "metadata": {
    "papermill": {
     "duration": 0.01017,
     "end_time": "2021-02-14T22:11:44.565684",
     "exception": false,
     "start_time": "2021-02-14T22:11:44.555514",
     "status": "completed"
    },
    "tags": []
   },
   "source": [
    "## Figure 1: Cummulative number of positive cases."
   ]
  },
  {
   "cell_type": "code",
   "execution_count": 7,
   "id": "surrounded-reserve",
   "metadata": {
    "execution": {
     "iopub.execute_input": "2021-02-14T22:11:44.594952Z",
     "iopub.status.busy": "2021-02-14T22:11:44.593901Z",
     "iopub.status.idle": "2021-02-14T22:11:44.824206Z",
     "shell.execute_reply": "2021-02-14T22:11:44.823682Z"
    },
    "jupyter": {
     "source_hidden": true
    },
    "papermill": {
     "duration": 0.248498,
     "end_time": "2021-02-14T22:11:44.824339",
     "exception": false,
     "start_time": "2021-02-14T22:11:44.575841",
     "status": "completed"
    },
    "scrolled": false,
    "tags": [
     "hide-input"
    ]
   },
   "outputs": [
    {
     "data": {
      "image/png": "[encoded data removed]",
      "text/plain": [
       "<Figure size 864x432 with 1 Axes>"
      ]
     },
     "metadata": {
      "needs_background": "light"
     },
     "output_type": "display_data"
    }
   ],
   "source": [
    "dc.plot(kind='line',x='DATE',y='7_DAY',color='blue',grid='True',figsize=(12,6)).set_xlabel('Date');"
   ]
  },
  {
   "cell_type": "markdown",
   "id": "professional-savannah",
   "metadata": {
    "papermill": {
     "duration": 0.011013,
     "end_time": "2021-02-14T22:11:44.845675",
     "exception": false,
     "start_time": "2021-02-14T22:11:44.834662",
     "status": "completed"
    },
    "tags": []
   },
   "source": [
    "## Figure 2: Rolling 7-day average of daily new cases."
   ]
  },
  {
   "cell_type": "code",
   "execution_count": 8,
   "id": "stretch-investor",
   "metadata": {
    "execution": {
     "iopub.execute_input": "2021-02-14T22:11:44.874334Z",
     "iopub.status.busy": "2021-02-14T22:11:44.873807Z",
     "iopub.status.idle": "2021-02-14T22:11:45.101670Z",
     "shell.execute_reply": "2021-02-14T22:11:45.102446Z"
    },
    "jupyter": {
     "source_hidden": true
    },
    "papermill": {
     "duration": 0.245898,
     "end_time": "2021-02-14T22:11:45.102620",
     "exception": false,
     "start_time": "2021-02-14T22:11:44.856722",
     "status": "completed"
    },
    "tags": []
   },
   "outputs": [
    {
     "data": {
      "image/png": "[encoded data removed]",
      "text/plain": [
       "<Figure size 864x432 with 1 Axes>"
      ]
     },
     "metadata": {
      "needs_background": "light"
     },
     "output_type": "display_data"
    }
   ],
   "source": [
    "dc.plot(kind='line',x='DATE',y='14_DAY',color='green',grid='True',figsize=(12,6)).set_xlabel('Date');"
   ]
  },
  {
   "cell_type": "markdown",
   "id": "prerequisite-species",
   "metadata": {
    "papermill": {
     "duration": 0.012867,
     "end_time": "2021-02-14T22:11:45.128533",
     "exception": false,
     "start_time": "2021-02-14T22:11:45.115666",
     "status": "completed"
    },
    "tags": []
   },
   "source": [
    "## Figure 3: Rolling 14-day average of daily new cases."
   ]
  },
  {
   "cell_type": "markdown",
   "id": "palestinian-guard",
   "metadata": {
    "papermill": {
     "duration": 0.012686,
     "end_time": "2021-02-14T22:11:45.160689",
     "exception": false,
     "start_time": "2021-02-14T22:11:45.148003",
     "status": "completed"
    },
    "tags": []
   },
   "source": [
    "Data source: [Wisconsin Department of Health Services](https://data.dhsgis.wi.gov/datasets/covid-19-historical-data-table/)"
   ]
  },
  {
   "cell_type": "code",
   "execution_count": 9,
   "id": "proof-medicare",
   "metadata": {
    "execution": {
     "iopub.execute_input": "2021-02-14T22:11:45.191460Z",
     "iopub.status.busy": "2021-02-14T22:11:45.190993Z",
     "iopub.status.idle": "2021-02-14T22:11:45.193914Z",
     "shell.execute_reply": "2021-02-14T22:11:45.193551Z"
    },
    "jupyter": {
     "source_hidden": true
    },
    "papermill": {
     "duration": 0.020829,
     "end_time": "2021-02-14T22:11:45.194032",
     "exception": false,
     "start_time": "2021-02-14T22:11:45.173203",
     "status": "completed"
    },
    "tags": []
   },
   "outputs": [
    {
     "data": {
      "text/html": [
       "<style>\n",
       "div.input {\n",
       "    display:none;\n",
       "}\n",
       "</style>\n"
      ],
      "text/plain": [
       "<IPython.core.display.HTML object>"
      ]
     },
     "metadata": {},
     "output_type": "display_data"
    }
   ],
   "source": [
    "%%html\n",
    "<style>\n",
    "div.input {\n",
    "    display:none;\n",
    "}\n",
    "</style>"
   ]
  }
 ],
 "metadata": {
  "kernelspec": {
   "display_name": "Python 3",
   "language": "python",
   "name": "python3"
  },
  "language_info": {
   "codemirror_mode": {
    "name": "ipython",
    "version": 3
   },
   "file_extension": ".py",
   "mimetype": "text/x-python",
   "name": "python",
   "nbconvert_exporter": "python",
   "pygments_lexer": "ipython3",
   "version": "3.8.7"
  },
  "papermill": {
   "duration": 4.33637,
   "end_time": "2021-02-14T22:11:45.512211",
   "environment_variables": {},
   "exception": null,
   "input_path": "DunnCounty_COVID19.ipynb",
   "output_path": "DunnCounty_COVID19.ipynb",
   "parameters": {
    "Start": "True",
    "secretsPath": "/home/runner/work/_temp/secrets.json"
   },
   "start_time": "2021-02-14T22:11:41.175841",
   "version": "1.1.16"
  }
 },
 "nbformat": 4,
 "nbformat_minor": 5
}