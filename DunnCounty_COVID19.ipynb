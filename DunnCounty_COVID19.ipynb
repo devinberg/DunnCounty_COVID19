{
 "cells": [
  {
   "cell_type": "code",
   "execution_count": 1,
   "metadata": {
    "execution": {
     "iopub.execute_input": "2020-11-20T22:11:36.777373Z",
     "iopub.status.busy": "2020-11-20T22:11:36.776800Z",
     "iopub.status.idle": "2020-11-20T22:11:40.742095Z",
     "shell.execute_reply": "2020-11-20T22:11:40.741132Z"
    },
    "jupyter": {
     "source_hidden": true
    },
    "papermill": {
     "duration": 3.981609,
     "end_time": "2020-11-20T22:11:40.742400",
     "exception": false,
     "start_time": "2020-11-20T22:11:36.760791",
     "status": "completed"
    },
    "scrolled": true,
    "tags": [
     "hide-input"
    ]
   },
   "outputs": [],
   "source": [
    "import pandas as pd\n",
    "import matplotlib.pyplot as plt\n",
    "from matplotlib import dates\n",
    "from IPython.display import display, Markdown\n",
    "%matplotlib inline"
   ]
  },
  {
   "cell_type": "code",
   "execution_count": 2,
   "metadata": {
    "execution": {
     "iopub.execute_input": "2020-11-20T22:11:40.766647Z",
     "iopub.status.busy": "2020-11-20T22:11:40.766098Z",
     "iopub.status.idle": "2020-11-20T22:11:41.477111Z",
     "shell.execute_reply": "2020-11-20T22:11:41.476199Z"
    },
    "jupyter": {
     "source_hidden": true
    },
    "papermill": {
     "duration": 0.725082,
     "end_time": "2020-11-20T22:11:41.477248",
     "exception": false,
     "start_time": "2020-11-20T22:11:40.752166",
     "status": "completed"
    },
    "scrolled": true,
    "tags": [
     "hide-input"
    ]
   },
   "outputs": [],
   "source": [
    "# This is the data for all of Wisconsin.\n",
    "url = \"https://opendata.arcgis.com/datasets/5374188992374b318d3e2305216ee413_12.csv\"\n",
    "data = pd.read_csv(url, parse_dates=['DATE'], low_memory=False)"
   ]
  },
  {
   "cell_type": "code",
   "execution_count": 3,
   "metadata": {
    "execution": {
     "iopub.execute_input": "2020-11-20T22:11:41.497667Z",
     "iopub.status.busy": "2020-11-20T22:11:41.497108Z",
     "iopub.status.idle": "2020-11-20T22:11:41.506448Z",
     "shell.execute_reply": "2020-11-20T22:11:41.505937Z"
    },
    "jupyter": {
     "source_hidden": true
    },
    "papermill": {
     "duration": 0.022117,
     "end_time": "2020-11-20T22:11:41.506579",
     "exception": false,
     "start_time": "2020-11-20T22:11:41.484462",
     "status": "completed"
    },
    "scrolled": true,
    "tags": [
     "hide-input"
    ]
   },
   "outputs": [],
   "source": [
    "dc = data.groupby('NAME').get_group('Dunn').sort_values(by='DATE') # Select the data for Dunn County from the full data.\n",
    "PNi = dc.columns.get_loc(\"POS_NEW\")\n",
    "dc['7_DAY'] = dc.iloc[:,PNi].rolling(window=7).mean() # Calculates the rolling 7-day average of new cases.\n",
    "dc['14_DAY'] = dc.iloc[:,PNi].rolling(window=14).mean() # Calculates the rolling 14-day average of new cases."
   ]
  },
  {
   "cell_type": "code",
   "execution_count": 4,
   "metadata": {
    "execution": {
     "iopub.execute_input": "2020-11-20T22:11:41.528399Z",
     "iopub.status.busy": "2020-11-20T22:11:41.527807Z",
     "iopub.status.idle": "2020-11-20T22:11:41.530870Z",
     "shell.execute_reply": "2020-11-20T22:11:41.531302Z"
    },
    "jupyter": {
     "source_hidden": true
    },
    "papermill": {
     "duration": 0.017165,
     "end_time": "2020-11-20T22:11:41.531491",
     "exception": false,
     "start_time": "2020-11-20T22:11:41.514326",
     "status": "completed"
    },
    "scrolled": true,
    "tags": [
     "hide-input"
    ]
   },
   "outputs": [
    {
     "data": {
      "text/markdown": [
       "### Last updated: November 20, 2020"
      ],
      "text/plain": [
       "<IPython.core.display.Markdown object>"
      ]
     },
     "metadata": {},
     "output_type": "display_data"
    }
   ],
   "source": [
    "display(Markdown('### Last updated: ' + dc.iloc[-1]['DATE'].strftime(\"%B %d, %Y\")))"
   ]
  },
  {
   "cell_type": "code",
   "execution_count": 5,
   "metadata": {
    "execution": {
     "iopub.execute_input": "2020-11-20T22:11:41.552451Z",
     "iopub.status.busy": "2020-11-20T22:11:41.551885Z",
     "iopub.status.idle": "2020-11-20T22:11:41.554440Z",
     "shell.execute_reply": "2020-11-20T22:11:41.554872Z"
    },
    "jupyter": {
     "source_hidden": true
    },
    "papermill": {
     "duration": 0.015944,
     "end_time": "2020-11-20T22:11:41.555027",
     "exception": false,
     "start_time": "2020-11-20T22:11:41.539083",
     "status": "completed"
    },
    "tags": [
     "hide-input"
    ]
   },
   "outputs": [
    {
     "data": {
      "text/markdown": [
       "# Dunn County has 2275 total positive cases, with 58 new cases reported today."
      ],
      "text/plain": [
       "<IPython.core.display.Markdown object>"
      ]
     },
     "metadata": {},
     "output_type": "display_data"
    }
   ],
   "source": [
    "display(Markdown('# Dunn County has ' + str(dc.iloc[-1]['POSITIVE']) + ' total positive cases, with '+ str(int(dc.iloc[-1]['POS_NEW'])) + ' new cases reported today.'))"
   ]
  },
  {
   "cell_type": "code",
   "execution_count": 6,
   "metadata": {
    "execution": {
     "iopub.execute_input": "2020-11-20T22:11:41.576870Z",
     "iopub.status.busy": "2020-11-20T22:11:41.576323Z",
     "iopub.status.idle": "2020-11-20T22:11:41.800368Z",
     "shell.execute_reply": "2020-11-20T22:11:41.801033Z"
    },
    "jupyter": {
     "source_hidden": true
    },
    "papermill": {
     "duration": 0.238069,
     "end_time": "2020-11-20T22:11:41.801260",
     "exception": false,
     "start_time": "2020-11-20T22:11:41.563191",
     "status": "completed"
    },
    "scrolled": false,
    "tags": [
     "hide-input"
    ]
   },
   "outputs": [
    {
     "data": {
      "image/png": "[encoded data removed]",
      "text/plain": [
       "<Figure size 864x432 with 1 Axes>"
      ]
     },
     "metadata": {
      "needs_background": "light"
     },
     "output_type": "display_data"
    }
   ],
   "source": [
    "dc.plot(x='DATE',y='POSITIVE',color='red',grid='True',figsize=(12,6)).set_xlabel('Date');"
   ]
  },
  {
   "cell_type": "markdown",
   "metadata": {
    "papermill": {
     "duration": 0.008766,
     "end_time": "2020-11-20T22:11:41.819368",
     "exception": false,
     "start_time": "2020-11-20T22:11:41.810602",
     "status": "completed"
    },
    "tags": []
   },
   "source": [
    "## Figure 1: Cummulative number of positive cases."
   ]
  },
  {
   "cell_type": "code",
   "execution_count": 7,
   "metadata": {
    "execution": {
     "iopub.execute_input": "2020-11-20T22:11:41.842287Z",
     "iopub.status.busy": "2020-11-20T22:11:41.841758Z",
     "iopub.status.idle": "2020-11-20T22:11:42.063246Z",
     "shell.execute_reply": "2020-11-20T22:11:42.064071Z"
    },
    "jupyter": {
     "source_hidden": true
    },
    "papermill": {
     "duration": 0.236526,
     "end_time": "2020-11-20T22:11:42.064330",
     "exception": false,
     "start_time": "2020-11-20T22:11:41.827804",
     "status": "completed"
    },
    "scrolled": false,
    "tags": [
     "hide-input"
    ]
   },
   "outputs": [
    {
     "data": {
      "image/png": "[encoded data removed]",
      "text/plain": [
       "<Figure size 864x432 with 1 Axes>"
      ]
     },
     "metadata": {
      "needs_background": "light"
     },
     "output_type": "display_data"
    }
   ],
   "source": [
    "dc.plot(kind='line',x='DATE',y='7_DAY',color='blue',grid='True',figsize=(12,6)).set_xlabel('Date');"
   ]
  },
  {
   "cell_type": "markdown",
   "metadata": {
    "papermill": {
     "duration": 0.013331,
     "end_time": "2020-11-20T22:11:42.088606",
     "exception": false,
     "start_time": "2020-11-20T22:11:42.075275",
     "status": "completed"
    },
    "tags": []
   },
   "source": [
    "## Figure 2: Rolling 7-day average of daily new cases."
   ]
  },
  {
   "cell_type": "code",
   "execution_count": 8,
   "metadata": {
    "execution": {
     "iopub.execute_input": "2020-11-20T22:11:42.115599Z",
     "iopub.status.busy": "2020-11-20T22:11:42.115006Z",
     "iopub.status.idle": "2020-11-20T22:11:42.361929Z",
     "shell.execute_reply": "2020-11-20T22:11:42.361116Z"
    },
    "jupyter": {
     "source_hidden": true
    },
    "papermill": {
     "duration": 0.263626,
     "end_time": "2020-11-20T22:11:42.362070",
     "exception": false,
     "start_time": "2020-11-20T22:11:42.098444",
     "status": "completed"
    },
    "tags": []
   },
   "outputs": [
    {
     "data": {
      "image/png": "[encoded data removed]",
      "text/plain": [
       "<Figure size 864x432 with 1 Axes>"
      ]
     },
     "metadata": {
      "needs_background": "light"
     },
     "output_type": "display_data"
    }
   ],
   "source": [
    "dc.plot(kind='line',x='DATE',y='14_DAY',color='green',grid='True',figsize=(12,6)).set_xlabel('Date');"
   ]
  },
  {
   "cell_type": "markdown",
   "metadata": {
    "papermill": {
     "duration": 0.011674,
     "end_time": "2020-11-20T22:11:42.385066",
     "exception": false,
     "start_time": "2020-11-20T22:11:42.373392",
     "status": "completed"
    },
    "tags": []
   },
   "source": [
    "## Figure 3: Rolling 14-day average of daily new cases."
   ]
  },
  {
   "cell_type": "markdown",
   "metadata": {
    "papermill": {
     "duration": 0.010994,
     "end_time": "2020-11-20T22:11:42.406764",
     "exception": false,
     "start_time": "2020-11-20T22:11:42.395770",
     "status": "completed"
    },
    "tags": []
   },
   "source": [
    "Data source: [Wisconsin Department of Health Services](https://data.dhsgis.wi.gov/datasets/covid-19-historical-data-table/)"
   ]
  },
  {
   "cell_type": "code",
   "execution_count": 9,
   "metadata": {
    "execution": {
     "iopub.execute_input": "2020-11-20T22:11:42.435446Z",
     "iopub.status.busy": "2020-11-20T22:11:42.434843Z",
     "iopub.status.idle": "2020-11-20T22:11:42.437532Z",
     "shell.execute_reply": "2020-11-20T22:11:42.438010Z"
    },
    "jupyter": {
     "source_hidden": true
    },
    "papermill": {
     "duration": 0.018661,
     "end_time": "2020-11-20T22:11:42.438177",
     "exception": false,
     "start_time": "2020-11-20T22:11:42.419516",
     "status": "completed"
    },
    "tags": []
   },
   "outputs": [
    {
     "data": {
      "text/html": [
       "<style>\n",
       "div.input {\n",
       "    display:none;\n",
       "}\n",
       "</style>\n"
      ],
      "text/plain": [
       "<IPython.core.display.HTML object>"
      ]
     },
     "metadata": {},
     "output_type": "display_data"
    }
   ],
   "source": [
    "%%html\n",
    "<style>\n",
    "div.input {\n",
    "    display:none;\n",
    "}\n",
    "</style>"
   ]
  }
 ],
 "metadata": {
  "kernelspec": {
   "display_name": "Python 3",
   "language": "python",
   "name": "python3"
  },
  "language_info": {
   "codemirror_mode": {
    "name": "ipython",
    "version": 3
   },
   "file_extension": ".py",
   "mimetype": "text/x-python",
   "name": "python",
   "nbconvert_exporter": "python",
   "pygments_lexer": "ipython3",
   "version": "3.8.6"
  },
  "papermill": {
   "duration": 7.801409,
   "end_time": "2020-11-20T22:11:42.857448",
   "environment_variables": {},
   "exception": null,
   "input_path": "DunnCounty_COVID19.ipynb",
   "output_path": "DunnCounty_COVID19.ipynb",
   "parameters": {
    "Start": "True",
    "secretsPath": "/home/runner/work/_temp/secrets.json"
   },
   "start_time": "2020-11-20T22:11:35.056039",
   "version": "1.1.16"
  }
 },
 "nbformat": 4,
 "nbformat_minor": 2
}