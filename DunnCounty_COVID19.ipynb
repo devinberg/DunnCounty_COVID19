{
 "cells": [
  {
   "cell_type": "code",
   "execution_count": 1,
   "id": "solar-understanding",
   "metadata": {
    "execution": {
     "iopub.execute_input": "2021-08-12T22:11:48.360579Z",
     "iopub.status.busy": "2021-08-12T22:11:48.359952Z",
     "iopub.status.idle": "2021-08-12T22:11:51.316025Z",
     "shell.execute_reply": "2021-08-12T22:11:51.314904Z"
    },
    "jupyter": {
     "source_hidden": true
    },
    "papermill": {
     "duration": 2.971406,
     "end_time": "2021-08-12T22:11:51.316194",
     "exception": false,
     "start_time": "2021-08-12T22:11:48.344788",
     "status": "completed"
    },
    "scrolled": true,
    "tags": [
     "hide-input"
    ]
   },
   "outputs": [],
   "source": [
    "import pandas as pd\n",
    "import matplotlib.pyplot as plt\n",
    "from matplotlib import dates\n",
    "from IPython.display import display, Markdown\n",
    "%matplotlib inline"
   ]
  },
  {
   "cell_type": "code",
   "execution_count": 2,
   "id": "purple-playlist",
   "metadata": {
    "execution": {
     "iopub.execute_input": "2021-08-12T22:11:51.342107Z",
     "iopub.status.busy": "2021-08-12T22:11:51.341462Z",
     "iopub.status.idle": "2021-08-12T22:11:52.281686Z",
     "shell.execute_reply": "2021-08-12T22:11:52.282182Z"
    },
    "jupyter": {
     "source_hidden": true
    },
    "papermill": {
     "duration": 0.95588,
     "end_time": "2021-08-12T22:11:52.282372",
     "exception": false,
     "start_time": "2021-08-12T22:11:51.326492",
     "status": "completed"
    },
    "scrolled": true,
    "tags": [
     "hide-input"
    ]
   },
   "outputs": [],
   "source": [
    "# This is the data for all of Wisconsin.\n",
    "url = \"https://opendata.arcgis.com/api/v3/datasets/3161f6e01d8141c6abe85a29ff7f3d3c_12/downloads/data?format=csv&spatialRefId=3857\"\n",
    "data = pd.read_csv(url, parse_dates=['DATE'], low_memory=False)"
   ]
  },
  {
   "cell_type": "code",
   "execution_count": 3,
   "id": "proprietary-klein",
   "metadata": {
    "execution": {
     "iopub.execute_input": "2021-08-12T22:11:52.309280Z",
     "iopub.status.busy": "2021-08-12T22:11:52.308670Z",
     "iopub.status.idle": "2021-08-12T22:11:52.318427Z",
     "shell.execute_reply": "2021-08-12T22:11:52.317878Z"
    },
    "jupyter": {
     "source_hidden": true
    },
    "papermill": {
     "duration": 0.026573,
     "end_time": "2021-08-12T22:11:52.318561",
     "exception": false,
     "start_time": "2021-08-12T22:11:52.291988",
     "status": "completed"
    },
    "scrolled": true,
    "tags": [
     "hide-input"
    ]
   },
   "outputs": [],
   "source": [
    "dc = data.groupby('NAME').get_group('Dunn').sort_values(by='DATE') # Select the data for Dunn County from the full data.\n",
    "PNi = dc.columns.get_loc(\"POS_NEW\")\n",
    "dc['7_DAY'] = dc.iloc[:,PNi].rolling(window=7).mean() # Calculates the rolling 7-day average of new cases.\n",
    "dc['14_DAY'] = dc.iloc[:,PNi].rolling(window=14).mean() # Calculates the rolling 14-day average of new cases."
   ]
  },
  {
   "cell_type": "code",
   "execution_count": 4,
   "id": "steady-supervision",
   "metadata": {
    "execution": {
     "iopub.execute_input": "2021-08-12T22:11:52.344185Z",
     "iopub.status.busy": "2021-08-12T22:11:52.341282Z",
     "iopub.status.idle": "2021-08-12T22:11:52.347190Z",
     "shell.execute_reply": "2021-08-12T22:11:52.347681Z"
    },
    "jupyter": {
     "source_hidden": true
    },
    "papermill": {
     "duration": 0.020001,
     "end_time": "2021-08-12T22:11:52.347830",
     "exception": false,
     "start_time": "2021-08-12T22:11:52.327829",
     "status": "completed"
    },
    "scrolled": true,
    "tags": [
     "hide-input"
    ]
   },
   "outputs": [
    {
     "data": {
      "text/markdown": [
       "### Last updated: August 12, 2021"
      ],
      "text/plain": [
       "<IPython.core.display.Markdown object>"
      ]
     },
     "metadata": {},
     "output_type": "display_data"
    }
   ],
   "source": [
    "display(Markdown('### Last updated: ' + dc.iloc[-1]['DATE'].strftime(\"%B %d, %Y\")))"
   ]
  },
  {
   "cell_type": "code",
   "execution_count": 5,
   "id": "lonely-pitch",
   "metadata": {
    "execution": {
     "iopub.execute_input": "2021-08-12T22:11:52.373251Z",
     "iopub.status.busy": "2021-08-12T22:11:52.372648Z",
     "iopub.status.idle": "2021-08-12T22:11:52.375982Z",
     "shell.execute_reply": "2021-08-12T22:11:52.375324Z"
    },
    "jupyter": {
     "source_hidden": true
    },
    "papermill": {
     "duration": 0.01807,
     "end_time": "2021-08-12T22:11:52.376108",
     "exception": false,
     "start_time": "2021-08-12T22:11:52.358038",
     "status": "completed"
    },
    "tags": [
     "hide-input"
    ]
   },
   "outputs": [
    {
     "data": {
      "text/markdown": [
       "# Dunn County has 4880 total positive cases, with 2 new cases reported today."
      ],
      "text/plain": [
       "<IPython.core.display.Markdown object>"
      ]
     },
     "metadata": {},
     "output_type": "display_data"
    }
   ],
   "source": [
    "display(Markdown('# Dunn County has ' + str(dc.iloc[-1]['POSITIVE']) + ' total positive cases, with '+ str(int(dc.iloc[-1]['POS_NEW'])) + ' new cases reported today.'))"
   ]
  },
  {
   "cell_type": "code",
   "execution_count": 6,
   "id": "compound-nightmare",
   "metadata": {
    "execution": {
     "iopub.execute_input": "2021-08-12T22:11:52.403962Z",
     "iopub.status.busy": "2021-08-12T22:11:52.403358Z",
     "iopub.status.idle": "2021-08-12T22:11:52.961034Z",
     "shell.execute_reply": "2021-08-12T22:11:52.960524Z"
    },
    "jupyter": {
     "source_hidden": true
    },
    "papermill": {
     "duration": 0.573425,
     "end_time": "2021-08-12T22:11:52.961181",
     "exception": false,
     "start_time": "2021-08-12T22:11:52.387756",
     "status": "completed"
    },
    "scrolled": false,
    "tags": [
     "hide-input"
    ]
   },
   "outputs": [
    {
     "data": {
      "image/png": "[encoded data removed]",
      "text/plain": [
       "<Figure size 864x432 with 1 Axes>"
      ]
     },
     "metadata": {
      "needs_background": "light"
     },
     "output_type": "display_data"
    }
   ],
   "source": [
    "dc.plot(x='DATE',y='POSITIVE',color='red',grid='True',figsize=(12,6)).set_xlabel('Date');"
   ]
  },
  {
   "cell_type": "markdown",
   "id": "coupled-literacy",
   "metadata": {
    "papermill": {
     "duration": 0.01115,
     "end_time": "2021-08-12T22:11:52.983706",
     "exception": false,
     "start_time": "2021-08-12T22:11:52.972556",
     "status": "completed"
    },
    "tags": []
   },
   "source": [
    "## Figure 1: Cummulative number of positive cases."
   ]
  },
  {
   "cell_type": "code",
   "execution_count": 7,
   "id": "surrounded-reserve",
   "metadata": {
    "execution": {
     "iopub.execute_input": "2021-08-12T22:11:53.013962Z",
     "iopub.status.busy": "2021-08-12T22:11:53.013355Z",
     "iopub.status.idle": "2021-08-12T22:11:53.287077Z",
     "shell.execute_reply": "2021-08-12T22:11:53.287591Z"
    },
    "jupyter": {
     "source_hidden": true
    },
    "papermill": {
     "duration": 0.291396,
     "end_time": "2021-08-12T22:11:53.287768",
     "exception": false,
     "start_time": "2021-08-12T22:11:52.996372",
     "status": "completed"
    },
    "scrolled": false,
    "tags": [
     "hide-input"
    ]
   },
   "outputs": [
    {
     "data": {
      "image/png": "[encoded data removed]",
      "text/plain": [
       "<Figure size 864x432 with 1 Axes>"
      ]
     },
     "metadata": {
      "needs_background": "light"
     },
     "output_type": "display_data"
    }
   ],
   "source": [
    "dc.plot(kind='line',x='DATE',y='7_DAY',color='blue',grid='True',figsize=(12,6)).set_xlabel('Date');"
   ]
  },
  {
   "cell_type": "markdown",
   "id": "professional-savannah",
   "metadata": {
    "papermill": {
     "duration": 0.013041,
     "end_time": "2021-08-12T22:11:53.313335",
     "exception": false,
     "start_time": "2021-08-12T22:11:53.300294",
     "status": "completed"
    },
    "tags": []
   },
   "source": [
    "## Figure 2: Rolling 7-day average of daily new cases."
   ]
  },
  {
   "cell_type": "code",
   "execution_count": 8,
   "id": "stretch-investor",
   "metadata": {
    "execution": {
     "iopub.execute_input": "2021-08-12T22:11:53.343124Z",
     "iopub.status.busy": "2021-08-12T22:11:53.342512Z",
     "iopub.status.idle": "2021-08-12T22:11:53.600216Z",
     "shell.execute_reply": "2021-08-12T22:11:53.600712Z"
    },
    "jupyter": {
     "source_hidden": true
    },
    "papermill": {
     "duration": 0.275704,
     "end_time": "2021-08-12T22:11:53.600889",
     "exception": false,
     "start_time": "2021-08-12T22:11:53.325185",
     "status": "completed"
    },
    "tags": []
   },
   "outputs": [
    {
     "data": {
      "image/png": "[encoded data removed]",
      "text/plain": [
       "<Figure size 864x432 with 1 Axes>"
      ]
     },
     "metadata": {
      "needs_background": "light"
     },
     "output_type": "display_data"
    }
   ],
   "source": [
    "dc.plot(kind='line',x='DATE',y='14_DAY',color='green',grid='True',figsize=(12,6)).set_xlabel('Date');"
   ]
  },
  {
   "cell_type": "markdown",
   "id": "prerequisite-species",
   "metadata": {
    "papermill": {
     "duration": 0.013328,
     "end_time": "2021-08-12T22:11:53.628460",
     "exception": false,
     "start_time": "2021-08-12T22:11:53.615132",
     "status": "completed"
    },
    "tags": []
   },
   "source": [
    "## Figure 3: Rolling 14-day average of daily new cases."
   ]
  },
  {
   "cell_type": "markdown",
   "id": "palestinian-guard",
   "metadata": {
    "papermill": {
     "duration": 0.013581,
     "end_time": "2021-08-12T22:11:53.655005",
     "exception": false,
     "start_time": "2021-08-12T22:11:53.641424",
     "status": "completed"
    },
    "tags": []
   },
   "source": [
    "Data source: [Wisconsin Department of Health Services](https://data.dhsgis.wi.gov/datasets/wi-dhs::covid-19-historical-data-by-county-1)"
   ]
  },
  {
   "cell_type": "code",
   "execution_count": 9,
   "id": "proof-medicare",
   "metadata": {
    "execution": {
     "iopub.execute_input": "2021-08-12T22:11:53.687869Z",
     "iopub.status.busy": "2021-08-12T22:11:53.687253Z",
     "iopub.status.idle": "2021-08-12T22:11:53.689412Z",
     "shell.execute_reply": "2021-08-12T22:11:53.689909Z"
    },
    "jupyter": {
     "source_hidden": true
    },
    "papermill": {
     "duration": 0.021738,
     "end_time": "2021-08-12T22:11:53.690055",
     "exception": false,
     "start_time": "2021-08-12T22:11:53.668317",
     "status": "completed"
    },
    "tags": []
   },
   "outputs": [
    {
     "data": {
      "text/html": [
       "<style>\n",
       "div.input {\n",
       "    display:none;\n",
       "}\n",
       "</style>\n"
      ],
      "text/plain": [
       "<IPython.core.display.HTML object>"
      ]
     },
     "metadata": {},
     "output_type": "display_data"
    }
   ],
   "source": [
    "%%html\n",
    "<style>\n",
    "div.input {\n",
    "    display:none;\n",
    "}\n",
    "</style>"
   ]
  }
 ],
 "metadata": {
  "kernelspec": {
   "display_name": "Python 3",
   "language": "python",
   "name": "python3"
  },
  "language_info": {
   "codemirror_mode": {
    "name": "ipython",
    "version": 3
   },
   "file_extension": ".py",
   "mimetype": "text/x-python",
   "name": "python",
   "nbconvert_exporter": "python",
   "pygments_lexer": "ipython3",
   "version": "3.8.11"
  },
  "papermill": {
   "duration": 7.154746,
   "end_time": "2021-08-12T22:11:53.911865",
   "environment_variables": {},
   "exception": null,
   "input_path": "DunnCounty_COVID19.ipynb",
   "output_path": "DunnCounty_COVID19.ipynb",
   "parameters": {
    "Start": "True",
    "secretsPath": "/home/runner/work/_temp/secrets.json"
   },
   "start_time": "2021-08-12T22:11:46.757119",
   "version": "1.1.16"
  }
 },
 "nbformat": 4,
 "nbformat_minor": 5
}