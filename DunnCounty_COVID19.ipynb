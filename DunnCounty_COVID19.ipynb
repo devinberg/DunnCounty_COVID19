{
 "cells": [
  {
   "cell_type": "code",
   "execution_count": 1,
   "id": "solar-understanding",
   "metadata": {
    "execution": {
     "iopub.execute_input": "2021-05-18T22:16:27.677520Z",
     "iopub.status.busy": "2021-05-18T22:16:27.676952Z",
     "iopub.status.idle": "2021-05-18T22:16:28.549844Z",
     "shell.execute_reply": "2021-05-18T22:16:28.549163Z"
    },
    "jupyter": {
     "source_hidden": true
    },
    "papermill": {
     "duration": 0.897472,
     "end_time": "2021-05-18T22:16:28.549991",
     "exception": false,
     "start_time": "2021-05-18T22:16:27.652519",
     "status": "completed"
    },
    "scrolled": true,
    "tags": [
     "hide-input"
    ]
   },
   "outputs": [],
   "source": [
    "import pandas as pd\n",
    "import matplotlib.pyplot as plt\n",
    "from matplotlib import dates\n",
    "from IPython.display import display, Markdown\n",
    "%matplotlib inline"
   ]
  },
  {
   "cell_type": "code",
   "execution_count": 2,
   "id": "purple-playlist",
   "metadata": {
    "execution": {
     "iopub.execute_input": "2021-05-18T22:16:28.573867Z",
     "iopub.status.busy": "2021-05-18T22:16:28.573298Z",
     "iopub.status.idle": "2021-05-18T22:16:29.368452Z",
     "shell.execute_reply": "2021-05-18T22:16:29.367856Z"
    },
    "jupyter": {
     "source_hidden": true
    },
    "papermill": {
     "duration": 0.809459,
     "end_time": "2021-05-18T22:16:29.368597",
     "exception": false,
     "start_time": "2021-05-18T22:16:28.559138",
     "status": "completed"
    },
    "scrolled": true,
    "tags": [
     "hide-input"
    ]
   },
   "outputs": [],
   "source": [
    "# This is the data for all of Wisconsin.\n",
    "url = \"https://opendata.arcgis.com/datasets/80ff9d4897db4d7692f0f4ad28447cab_12.csv\"\n",
    "data = pd.read_csv(url, parse_dates=['DATE'], low_memory=False)"
   ]
  },
  {
   "cell_type": "code",
   "execution_count": 3,
   "id": "proprietary-klein",
   "metadata": {
    "execution": {
     "iopub.execute_input": "2021-05-18T22:16:29.394126Z",
     "iopub.status.busy": "2021-05-18T22:16:29.393080Z",
     "iopub.status.idle": "2021-05-18T22:16:29.405077Z",
     "shell.execute_reply": "2021-05-18T22:16:29.404267Z"
    },
    "jupyter": {
     "source_hidden": true
    },
    "papermill": {
     "duration": 0.027769,
     "end_time": "2021-05-18T22:16:29.405269",
     "exception": false,
     "start_time": "2021-05-18T22:16:29.377500",
     "status": "completed"
    },
    "scrolled": true,
    "tags": [
     "hide-input"
    ]
   },
   "outputs": [],
   "source": [
    "dc = data.groupby('NAME').get_group('Dunn').sort_values(by='DATE') # Select the data for Dunn County from the full data.\n",
    "PNi = dc.columns.get_loc(\"POS_NEW\")\n",
    "dc['7_DAY'] = dc.iloc[:,PNi].rolling(window=7).mean() # Calculates the rolling 7-day average of new cases.\n",
    "dc['14_DAY'] = dc.iloc[:,PNi].rolling(window=14).mean() # Calculates the rolling 14-day average of new cases."
   ]
  },
  {
   "cell_type": "code",
   "execution_count": 4,
   "id": "steady-supervision",
   "metadata": {
    "execution": {
     "iopub.execute_input": "2021-05-18T22:16:29.431582Z",
     "iopub.status.busy": "2021-05-18T22:16:29.431029Z",
     "iopub.status.idle": "2021-05-18T22:16:29.436392Z",
     "shell.execute_reply": "2021-05-18T22:16:29.435954Z"
    },
    "jupyter": {
     "source_hidden": true
    },
    "papermill": {
     "duration": 0.021722,
     "end_time": "2021-05-18T22:16:29.436513",
     "exception": false,
     "start_time": "2021-05-18T22:16:29.414791",
     "status": "completed"
    },
    "scrolled": true,
    "tags": [
     "hide-input"
    ]
   },
   "outputs": [
    {
     "data": {
      "text/markdown": [
       "### Last updated: May 17, 2021"
      ],
      "text/plain": [
       "<IPython.core.display.Markdown object>"
      ]
     },
     "metadata": {},
     "output_type": "display_data"
    }
   ],
   "source": [
    "display(Markdown('### Last updated: ' + dc.iloc[-1]['DATE'].strftime(\"%B %d, %Y\")))"
   ]
  },
  {
   "cell_type": "code",
   "execution_count": 5,
   "id": "lonely-pitch",
   "metadata": {
    "execution": {
     "iopub.execute_input": "2021-05-18T22:16:29.461015Z",
     "iopub.status.busy": "2021-05-18T22:16:29.460489Z",
     "iopub.status.idle": "2021-05-18T22:16:29.465999Z",
     "shell.execute_reply": "2021-05-18T22:16:29.465536Z"
    },
    "jupyter": {
     "source_hidden": true
    },
    "papermill": {
     "duration": 0.020385,
     "end_time": "2021-05-18T22:16:29.466120",
     "exception": false,
     "start_time": "2021-05-18T22:16:29.445735",
     "status": "completed"
    },
    "tags": [
     "hide-input"
    ]
   },
   "outputs": [
    {
     "data": {
      "text/markdown": [
       "# Dunn County has 4666 total positive cases, with 1 new cases reported today."
      ],
      "text/plain": [
       "<IPython.core.display.Markdown object>"
      ]
     },
     "metadata": {},
     "output_type": "display_data"
    }
   ],
   "source": [
    "display(Markdown('# Dunn County has ' + str(dc.iloc[-1]['POSITIVE']) + ' total positive cases, with '+ str(int(dc.iloc[-1]['POS_NEW'])) + ' new cases reported today.'))"
   ]
  },
  {
   "cell_type": "code",
   "execution_count": 6,
   "id": "compound-nightmare",
   "metadata": {
    "execution": {
     "iopub.execute_input": "2021-05-18T22:16:29.489874Z",
     "iopub.status.busy": "2021-05-18T22:16:29.488504Z",
     "iopub.status.idle": "2021-05-18T22:16:29.766650Z",
     "shell.execute_reply": "2021-05-18T22:16:29.766021Z"
    },
    "jupyter": {
     "source_hidden": true
    },
    "papermill": {
     "duration": 0.291233,
     "end_time": "2021-05-18T22:16:29.766816",
     "exception": false,
     "start_time": "2021-05-18T22:16:29.475583",
     "status": "completed"
    },
    "scrolled": false,
    "tags": [
     "hide-input"
    ]
   },
   "outputs": [
    {
     "data": {
      "image/png": "[encoded data removed]",
      "text/plain": [
       "<Figure size 864x432 with 1 Axes>"
      ]
     },
     "metadata": {
      "needs_background": "light"
     },
     "output_type": "display_data"
    }
   ],
   "source": [
    "dc.plot(x='DATE',y='POSITIVE',color='red',grid='True',figsize=(12,6)).set_xlabel('Date');"
   ]
  },
  {
   "cell_type": "markdown",
   "id": "coupled-literacy",
   "metadata": {
    "papermill": {
     "duration": 0.010696,
     "end_time": "2021-05-18T22:16:29.789546",
     "exception": false,
     "start_time": "2021-05-18T22:16:29.778850",
     "status": "completed"
    },
    "tags": []
   },
   "source": [
    "## Figure 1: Cummulative number of positive cases."
   ]
  },
  {
   "cell_type": "code",
   "execution_count": 7,
   "id": "surrounded-reserve",
   "metadata": {
    "execution": {
     "iopub.execute_input": "2021-05-18T22:16:29.814851Z",
     "iopub.status.busy": "2021-05-18T22:16:29.814329Z",
     "iopub.status.idle": "2021-05-18T22:16:30.038483Z",
     "shell.execute_reply": "2021-05-18T22:16:30.038018Z"
    },
    "jupyter": {
     "source_hidden": true
    },
    "papermill": {
     "duration": 0.238764,
     "end_time": "2021-05-18T22:16:30.038613",
     "exception": false,
     "start_time": "2021-05-18T22:16:29.799849",
     "status": "completed"
    },
    "scrolled": false,
    "tags": [
     "hide-input"
    ]
   },
   "outputs": [
    {
     "data": {
      "image/png": "[encoded data removed]",
      "text/plain": [
       "<Figure size 864x432 with 1 Axes>"
      ]
     },
     "metadata": {
      "needs_background": "light"
     },
     "output_type": "display_data"
    }
   ],
   "source": [
    "dc.plot(kind='line',x='DATE',y='7_DAY',color='blue',grid='True',figsize=(12,6)).set_xlabel('Date');"
   ]
  },
  {
   "cell_type": "markdown",
   "id": "professional-savannah",
   "metadata": {
    "papermill": {
     "duration": 0.011302,
     "end_time": "2021-05-18T22:16:30.061505",
     "exception": false,
     "start_time": "2021-05-18T22:16:30.050203",
     "status": "completed"
    },
    "tags": []
   },
   "source": [
    "## Figure 2: Rolling 7-day average of daily new cases."
   ]
  },
  {
   "cell_type": "code",
   "execution_count": 8,
   "id": "stretch-investor",
   "metadata": {
    "execution": {
     "iopub.execute_input": "2021-05-18T22:16:30.114396Z",
     "iopub.status.busy": "2021-05-18T22:16:30.088592Z",
     "iopub.status.idle": "2021-05-18T22:16:30.313001Z",
     "shell.execute_reply": "2021-05-18T22:16:30.312543Z"
    },
    "jupyter": {
     "source_hidden": true
    },
    "papermill": {
     "duration": 0.240362,
     "end_time": "2021-05-18T22:16:30.313127",
     "exception": false,
     "start_time": "2021-05-18T22:16:30.072765",
     "status": "completed"
    },
    "tags": []
   },
   "outputs": [
    {
     "data": {
      "image/png": "[encoded data removed]",
      "text/plain": [
       "<Figure size 864x432 with 1 Axes>"
      ]
     },
     "metadata": {
      "needs_background": "light"
     },
     "output_type": "display_data"
    }
   ],
   "source": [
    "dc.plot(kind='line',x='DATE',y='14_DAY',color='green',grid='True',figsize=(12,6)).set_xlabel('Date');"
   ]
  },
  {
   "cell_type": "markdown",
   "id": "prerequisite-species",
   "metadata": {
    "papermill": {
     "duration": 0.01333,
     "end_time": "2021-05-18T22:16:30.339807",
     "exception": false,
     "start_time": "2021-05-18T22:16:30.326477",
     "status": "completed"
    },
    "tags": []
   },
   "source": [
    "## Figure 3: Rolling 14-day average of daily new cases."
   ]
  },
  {
   "cell_type": "markdown",
   "id": "palestinian-guard",
   "metadata": {
    "papermill": {
     "duration": 0.012766,
     "end_time": "2021-05-18T22:16:30.369527",
     "exception": false,
     "start_time": "2021-05-18T22:16:30.356761",
     "status": "completed"
    },
    "tags": []
   },
   "source": [
    "Data source: [Wisconsin Department of Health Services](https://data.dhsgis.wi.gov/datasets/covid-19-historical-data-by-county)"
   ]
  },
  {
   "cell_type": "code",
   "execution_count": 9,
   "id": "proof-medicare",
   "metadata": {
    "execution": {
     "iopub.execute_input": "2021-05-18T22:16:30.401333Z",
     "iopub.status.busy": "2021-05-18T22:16:30.400177Z",
     "iopub.status.idle": "2021-05-18T22:16:30.405192Z",
     "shell.execute_reply": "2021-05-18T22:16:30.404757Z"
    },
    "jupyter": {
     "source_hidden": true
    },
    "papermill": {
     "duration": 0.023116,
     "end_time": "2021-05-18T22:16:30.405313",
     "exception": false,
     "start_time": "2021-05-18T22:16:30.382197",
     "status": "completed"
    },
    "tags": []
   },
   "outputs": [
    {
     "data": {
      "text/html": [
       "<style>\n",
       "div.input {\n",
       "    display:none;\n",
       "}\n",
       "</style>\n"
      ],
      "text/plain": [
       "<IPython.core.display.HTML object>"
      ]
     },
     "metadata": {},
     "output_type": "display_data"
    }
   ],
   "source": [
    "%%html\n",
    "<style>\n",
    "div.input {\n",
    "    display:none;\n",
    "}\n",
    "</style>"
   ]
  }
 ],
 "metadata": {
  "kernelspec": {
   "display_name": "Python 3",
   "language": "python",
   "name": "python3"
  },
  "language_info": {
   "codemirror_mode": {
    "name": "ipython",
    "version": 3
   },
   "file_extension": ".py",
   "mimetype": "text/x-python",
   "name": "python",
   "nbconvert_exporter": "python",
   "pygments_lexer": "ipython3",
   "version": "3.8.10"
  },
  "papermill": {
   "duration": 4.495859,
   "end_time": "2021-05-18T22:16:30.725325",
   "environment_variables": {},
   "exception": null,
   "input_path": "DunnCounty_COVID19.ipynb",
   "output_path": "DunnCounty_COVID19.ipynb",
   "parameters": {
    "Start": "True",
    "secretsPath": "/home/runner/work/_temp/secrets.json"
   },
   "start_time": "2021-05-18T22:16:26.229466",
   "version": "1.1.16"
  }
 },
 "nbformat": 4,
 "nbformat_minor": 5
}