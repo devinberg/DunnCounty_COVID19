{
 "cells": [
  {
   "cell_type": "code",
   "execution_count": 1,
   "metadata": {
    "execution": {
     "iopub.execute_input": "2021-01-11T22:26:11.978336Z",
     "iopub.status.busy": "2021-01-11T22:26:11.977861Z",
     "iopub.status.idle": "2021-01-11T22:26:12.956681Z",
     "shell.execute_reply": "2021-01-11T22:26:12.956088Z"
    },
    "jupyter": {
     "source_hidden": true
    },
    "papermill": {
     "duration": 0.995007,
     "end_time": "2021-01-11T22:26:12.956874",
     "exception": false,
     "start_time": "2021-01-11T22:26:11.961867",
     "status": "completed"
    },
    "scrolled": true,
    "tags": [
     "hide-input"
    ]
   },
   "outputs": [],
   "source": [
    "import pandas as pd\n",
    "import matplotlib.pyplot as plt\n",
    "from matplotlib import dates\n",
    "from IPython.display import display, Markdown\n",
    "%matplotlib inline"
   ]
  },
  {
   "cell_type": "code",
   "execution_count": 2,
   "metadata": {
    "execution": {
     "iopub.execute_input": "2021-01-11T22:26:12.974870Z",
     "iopub.status.busy": "2021-01-11T22:26:12.974403Z",
     "iopub.status.idle": "2021-01-11T22:26:14.521915Z",
     "shell.execute_reply": "2021-01-11T22:26:14.521242Z"
    },
    "jupyter": {
     "source_hidden": true
    },
    "papermill": {
     "duration": 1.558313,
     "end_time": "2021-01-11T22:26:14.522050",
     "exception": false,
     "start_time": "2021-01-11T22:26:12.963737",
     "status": "completed"
    },
    "scrolled": true,
    "tags": [
     "hide-input"
    ]
   },
   "outputs": [],
   "source": [
    "# This is the data for all of Wisconsin.\n",
    "url = \"https://opendata.arcgis.com/datasets/5374188992374b318d3e2305216ee413_12.csv\"\n",
    "data = pd.read_csv(url, parse_dates=['DATE'], low_memory=False)"
   ]
  },
  {
   "cell_type": "code",
   "execution_count": 3,
   "metadata": {
    "execution": {
     "iopub.execute_input": "2021-01-11T22:26:14.540313Z",
     "iopub.status.busy": "2021-01-11T22:26:14.539847Z",
     "iopub.status.idle": "2021-01-11T22:26:14.546420Z",
     "shell.execute_reply": "2021-01-11T22:26:14.546769Z"
    },
    "jupyter": {
     "source_hidden": true
    },
    "papermill": {
     "duration": 0.018271,
     "end_time": "2021-01-11T22:26:14.546890",
     "exception": false,
     "start_time": "2021-01-11T22:26:14.528619",
     "status": "completed"
    },
    "scrolled": true,
    "tags": [
     "hide-input"
    ]
   },
   "outputs": [],
   "source": [
    "dc = data.groupby('NAME').get_group('Dunn').sort_values(by='DATE') # Select the data for Dunn County from the full data.\n",
    "PNi = dc.columns.get_loc(\"POS_NEW\")\n",
    "dc['7_DAY'] = dc.iloc[:,PNi].rolling(window=7).mean() # Calculates the rolling 7-day average of new cases.\n",
    "dc['14_DAY'] = dc.iloc[:,PNi].rolling(window=14).mean() # Calculates the rolling 14-day average of new cases."
   ]
  },
  {
   "cell_type": "code",
   "execution_count": 4,
   "metadata": {
    "execution": {
     "iopub.execute_input": "2021-01-11T22:26:14.564071Z",
     "iopub.status.busy": "2021-01-11T22:26:14.563583Z",
     "iopub.status.idle": "2021-01-11T22:26:14.566307Z",
     "shell.execute_reply": "2021-01-11T22:26:14.566679Z"
    },
    "jupyter": {
     "source_hidden": true
    },
    "papermill": {
     "duration": 0.01391,
     "end_time": "2021-01-11T22:26:14.566794",
     "exception": false,
     "start_time": "2021-01-11T22:26:14.552884",
     "status": "completed"
    },
    "scrolled": true,
    "tags": [
     "hide-input"
    ]
   },
   "outputs": [
    {
     "data": {
      "text/markdown": [
       "### Last updated: January 11, 2021"
      ],
      "text/plain": [
       "<IPython.core.display.Markdown object>"
      ]
     },
     "metadata": {},
     "output_type": "display_data"
    }
   ],
   "source": [
    "display(Markdown('### Last updated: ' + dc.iloc[-1]['DATE'].strftime(\"%B %d, %Y\")))"
   ]
  },
  {
   "cell_type": "code",
   "execution_count": 5,
   "metadata": {
    "execution": {
     "iopub.execute_input": "2021-01-11T22:26:14.583665Z",
     "iopub.status.busy": "2021-01-11T22:26:14.583202Z",
     "iopub.status.idle": "2021-01-11T22:26:14.585665Z",
     "shell.execute_reply": "2021-01-11T22:26:14.586012Z"
    },
    "jupyter": {
     "source_hidden": true
    },
    "papermill": {
     "duration": 0.012781,
     "end_time": "2021-01-11T22:26:14.586128",
     "exception": false,
     "start_time": "2021-01-11T22:26:14.573347",
     "status": "completed"
    },
    "tags": [
     "hide-input"
    ]
   },
   "outputs": [
    {
     "data": {
      "text/markdown": [
       "# Dunn County has 3716 total positive cases, with 4 new cases reported today."
      ],
      "text/plain": [
       "<IPython.core.display.Markdown object>"
      ]
     },
     "metadata": {},
     "output_type": "display_data"
    }
   ],
   "source": [
    "display(Markdown('# Dunn County has ' + str(dc.iloc[-1]['POSITIVE']) + ' total positive cases, with '+ str(int(dc.iloc[-1]['POS_NEW'])) + ' new cases reported today.'))"
   ]
  },
  {
   "cell_type": "code",
   "execution_count": 6,
   "metadata": {
    "execution": {
     "iopub.execute_input": "2021-01-11T22:26:14.602727Z",
     "iopub.status.busy": "2021-01-11T22:26:14.602283Z",
     "iopub.status.idle": "2021-01-11T22:26:14.817220Z",
     "shell.execute_reply": "2021-01-11T22:26:14.817647Z"
    },
    "jupyter": {
     "source_hidden": true
    },
    "papermill": {
     "duration": 0.224907,
     "end_time": "2021-01-11T22:26:14.817802",
     "exception": false,
     "start_time": "2021-01-11T22:26:14.592895",
     "status": "completed"
    },
    "scrolled": false,
    "tags": [
     "hide-input"
    ]
   },
   "outputs": [
    {
     "data": {
      "image/png": "[encoded data removed]",
      "text/plain": [
       "<Figure size 864x432 with 1 Axes>"
      ]
     },
     "metadata": {
      "needs_background": "light"
     },
     "output_type": "display_data"
    }
   ],
   "source": [
    "dc.plot(x='DATE',y='POSITIVE',color='red',grid='True',figsize=(12,6)).set_xlabel('Date');"
   ]
  },
  {
   "cell_type": "markdown",
   "metadata": {
    "papermill": {
     "duration": 0.007924,
     "end_time": "2021-01-11T22:26:14.834460",
     "exception": false,
     "start_time": "2021-01-11T22:26:14.826536",
     "status": "completed"
    },
    "tags": []
   },
   "source": [
    "## Figure 1: Cummulative number of positive cases."
   ]
  },
  {
   "cell_type": "code",
   "execution_count": 7,
   "metadata": {
    "execution": {
     "iopub.execute_input": "2021-01-11T22:26:14.853596Z",
     "iopub.status.busy": "2021-01-11T22:26:14.853147Z",
     "iopub.status.idle": "2021-01-11T22:26:15.047377Z",
     "shell.execute_reply": "2021-01-11T22:26:15.047825Z"
    },
    "jupyter": {
     "source_hidden": true
    },
    "papermill": {
     "duration": 0.205923,
     "end_time": "2021-01-11T22:26:15.047994",
     "exception": false,
     "start_time": "2021-01-11T22:26:14.842071",
     "status": "completed"
    },
    "scrolled": false,
    "tags": [
     "hide-input"
    ]
   },
   "outputs": [
    {
     "data": {
      "image/png": "[encoded data removed]",
      "text/plain": [
       "<Figure size 864x432 with 1 Axes>"
      ]
     },
     "metadata": {
      "needs_background": "light"
     },
     "output_type": "display_data"
    }
   ],
   "source": [
    "dc.plot(kind='line',x='DATE',y='7_DAY',color='blue',grid='True',figsize=(12,6)).set_xlabel('Date');"
   ]
  },
  {
   "cell_type": "markdown",
   "metadata": {
    "papermill": {
     "duration": 0.008848,
     "end_time": "2021-01-11T22:26:15.065651",
     "exception": false,
     "start_time": "2021-01-11T22:26:15.056803",
     "status": "completed"
    },
    "tags": []
   },
   "source": [
    "## Figure 2: Rolling 7-day average of daily new cases."
   ]
  },
  {
   "cell_type": "code",
   "execution_count": 8,
   "metadata": {
    "execution": {
     "iopub.execute_input": "2021-01-11T22:26:15.104679Z",
     "iopub.status.busy": "2021-01-11T22:26:15.099613Z",
     "iopub.status.idle": "2021-01-11T22:26:15.280236Z",
     "shell.execute_reply": "2021-01-11T22:26:15.280592Z"
    },
    "jupyter": {
     "source_hidden": true
    },
    "papermill": {
     "duration": 0.206686,
     "end_time": "2021-01-11T22:26:15.280744",
     "exception": false,
     "start_time": "2021-01-11T22:26:15.074058",
     "status": "completed"
    },
    "tags": []
   },
   "outputs": [
    {
     "data": {
      "image/png": "[encoded data removed]",
      "text/plain": [
       "<Figure size 864x432 with 1 Axes>"
      ]
     },
     "metadata": {
      "needs_background": "light"
     },
     "output_type": "display_data"
    }
   ],
   "source": [
    "dc.plot(kind='line',x='DATE',y='14_DAY',color='green',grid='True',figsize=(12,6)).set_xlabel('Date');"
   ]
  },
  {
   "cell_type": "markdown",
   "metadata": {
    "papermill": {
     "duration": 0.009319,
     "end_time": "2021-01-11T22:26:15.299681",
     "exception": false,
     "start_time": "2021-01-11T22:26:15.290362",
     "status": "completed"
    },
    "tags": []
   },
   "source": [
    "## Figure 3: Rolling 14-day average of daily new cases."
   ]
  },
  {
   "cell_type": "markdown",
   "metadata": {
    "papermill": {
     "duration": 0.009244,
     "end_time": "2021-01-11T22:26:15.318246",
     "exception": false,
     "start_time": "2021-01-11T22:26:15.309002",
     "status": "completed"
    },
    "tags": []
   },
   "source": [
    "Data source: [Wisconsin Department of Health Services](https://data.dhsgis.wi.gov/datasets/covid-19-historical-data-table/)"
   ]
  },
  {
   "cell_type": "code",
   "execution_count": 9,
   "metadata": {
    "execution": {
     "iopub.execute_input": "2021-01-11T22:26:15.340818Z",
     "iopub.status.busy": "2021-01-11T22:26:15.340286Z",
     "iopub.status.idle": "2021-01-11T22:26:15.342949Z",
     "shell.execute_reply": "2021-01-11T22:26:15.342414Z"
    },
    "jupyter": {
     "source_hidden": true
    },
    "papermill": {
     "duration": 0.015578,
     "end_time": "2021-01-11T22:26:15.343085",
     "exception": false,
     "start_time": "2021-01-11T22:26:15.327507",
     "status": "completed"
    },
    "tags": []
   },
   "outputs": [
    {
     "data": {
      "text/html": [
       "<style>\n",
       "div.input {\n",
       "    display:none;\n",
       "}\n",
       "</style>\n"
      ],
      "text/plain": [
       "<IPython.core.display.HTML object>"
      ]
     },
     "metadata": {},
     "output_type": "display_data"
    }
   ],
   "source": [
    "%%html\n",
    "<style>\n",
    "div.input {\n",
    "    display:none;\n",
    "}\n",
    "</style>"
   ]
  }
 ],
 "metadata": {
  "kernelspec": {
   "display_name": "Python 3",
   "language": "python",
   "name": "python3"
  },
  "language_info": {
   "codemirror_mode": {
    "name": "ipython",
    "version": 3
   },
   "file_extension": ".py",
   "mimetype": "text/x-python",
   "name": "python",
   "nbconvert_exporter": "python",
   "pygments_lexer": "ipython3",
   "version": "3.8.6"
  },
  "papermill": {
   "duration": 5.009149,
   "end_time": "2021-01-11T22:26:15.659340",
   "environment_variables": {},
   "exception": null,
   "input_path": "DunnCounty_COVID19.ipynb",
   "output_path": "DunnCounty_COVID19.ipynb",
   "parameters": {
    "Start": "True",
    "secretsPath": "/home/runner/work/_temp/secrets.json"
   },
   "start_time": "2021-01-11T22:26:10.650191",
   "version": "1.1.16"
  }
 },
 "nbformat": 4,
 "nbformat_minor": 2
}