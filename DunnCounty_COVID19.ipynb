{
 "cells": [
  {
   "cell_type": "code",
   "execution_count": 1,
   "metadata": {
    "execution": {
     "iopub.execute_input": "2020-12-11T10:12:57.087000Z",
     "iopub.status.busy": "2020-12-11T10:12:57.086408Z",
     "iopub.status.idle": "2020-12-11T10:12:58.054693Z",
     "shell.execute_reply": "2020-12-11T10:12:58.055142Z"
    },
    "jupyter": {
     "source_hidden": true
    },
    "papermill": {
     "duration": 0.985539,
     "end_time": "2020-12-11T10:12:58.055488",
     "exception": false,
     "start_time": "2020-12-11T10:12:57.069949",
     "status": "completed"
    },
    "scrolled": true,
    "tags": [
     "hide-input"
    ]
   },
   "outputs": [],
   "source": [
    "import pandas as pd\n",
    "import matplotlib.pyplot as plt\n",
    "from matplotlib import dates\n",
    "from IPython.display import display, Markdown\n",
    "%matplotlib inline"
   ]
  },
  {
   "cell_type": "code",
   "execution_count": 2,
   "metadata": {
    "execution": {
     "iopub.execute_input": "2020-12-11T10:12:58.074663Z",
     "iopub.status.busy": "2020-12-11T10:12:58.074155Z",
     "iopub.status.idle": "2020-12-11T10:12:58.643473Z",
     "shell.execute_reply": "2020-12-11T10:12:58.642953Z"
    },
    "jupyter": {
     "source_hidden": true
    },
    "papermill": {
     "duration": 0.580818,
     "end_time": "2020-12-11T10:12:58.643616",
     "exception": false,
     "start_time": "2020-12-11T10:12:58.062798",
     "status": "completed"
    },
    "scrolled": true,
    "tags": [
     "hide-input"
    ]
   },
   "outputs": [],
   "source": [
    "# This is the data for all of Wisconsin.\n",
    "url = \"https://opendata.arcgis.com/datasets/5374188992374b318d3e2305216ee413_12.csv\"\n",
    "data = pd.read_csv(url, parse_dates=['DATE'], low_memory=False)"
   ]
  },
  {
   "cell_type": "code",
   "execution_count": 3,
   "metadata": {
    "execution": {
     "iopub.execute_input": "2020-12-11T10:12:58.665859Z",
     "iopub.status.busy": "2020-12-11T10:12:58.664395Z",
     "iopub.status.idle": "2020-12-11T10:12:58.673338Z",
     "shell.execute_reply": "2020-12-11T10:12:58.672917Z"
    },
    "jupyter": {
     "source_hidden": true
    },
    "papermill": {
     "duration": 0.021239,
     "end_time": "2020-12-11T10:12:58.673461",
     "exception": false,
     "start_time": "2020-12-11T10:12:58.652222",
     "status": "completed"
    },
    "scrolled": true,
    "tags": [
     "hide-input"
    ]
   },
   "outputs": [],
   "source": [
    "dc = data.groupby('NAME').get_group('Dunn').sort_values(by='DATE') # Select the data for Dunn County from the full data.\n",
    "PNi = dc.columns.get_loc(\"POS_NEW\")\n",
    "dc['7_DAY'] = dc.iloc[:,PNi].rolling(window=7).mean() # Calculates the rolling 7-day average of new cases.\n",
    "dc['14_DAY'] = dc.iloc[:,PNi].rolling(window=14).mean() # Calculates the rolling 14-day average of new cases."
   ]
  },
  {
   "cell_type": "code",
   "execution_count": 4,
   "metadata": {
    "execution": {
     "iopub.execute_input": "2020-12-11T10:12:58.693412Z",
     "iopub.status.busy": "2020-12-11T10:12:58.692889Z",
     "iopub.status.idle": "2020-12-11T10:12:58.695620Z",
     "shell.execute_reply": "2020-12-11T10:12:58.696003Z"
    },
    "jupyter": {
     "source_hidden": true
    },
    "papermill": {
     "duration": 0.01553,
     "end_time": "2020-12-11T10:12:58.696146",
     "exception": false,
     "start_time": "2020-12-11T10:12:58.680616",
     "status": "completed"
    },
    "scrolled": true,
    "tags": [
     "hide-input"
    ]
   },
   "outputs": [
    {
     "data": {
      "text/markdown": [
       "### Last updated: December 10, 2020"
      ],
      "text/plain": [
       "<IPython.core.display.Markdown object>"
      ]
     },
     "metadata": {},
     "output_type": "display_data"
    }
   ],
   "source": [
    "display(Markdown('### Last updated: ' + dc.iloc[-1]['DATE'].strftime(\"%B %d, %Y\")))"
   ]
  },
  {
   "cell_type": "code",
   "execution_count": 5,
   "metadata": {
    "execution": {
     "iopub.execute_input": "2020-12-11T10:12:58.715077Z",
     "iopub.status.busy": "2020-12-11T10:12:58.714519Z",
     "iopub.status.idle": "2020-12-11T10:12:58.716721Z",
     "shell.execute_reply": "2020-12-11T10:12:58.717188Z"
    },
    "jupyter": {
     "source_hidden": true
    },
    "papermill": {
     "duration": 0.014428,
     "end_time": "2020-12-11T10:12:58.717342",
     "exception": false,
     "start_time": "2020-12-11T10:12:58.702914",
     "status": "completed"
    },
    "tags": [
     "hide-input"
    ]
   },
   "outputs": [
    {
     "data": {
      "text/markdown": [
       "# Dunn County has 3063 total positive cases, with 24 new cases reported today."
      ],
      "text/plain": [
       "<IPython.core.display.Markdown object>"
      ]
     },
     "metadata": {},
     "output_type": "display_data"
    }
   ],
   "source": [
    "display(Markdown('# Dunn County has ' + str(dc.iloc[-1]['POSITIVE']) + ' total positive cases, with '+ str(int(dc.iloc[-1]['POS_NEW'])) + ' new cases reported today.'))"
   ]
  },
  {
   "cell_type": "code",
   "execution_count": 6,
   "metadata": {
    "execution": {
     "iopub.execute_input": "2020-12-11T10:12:58.736172Z",
     "iopub.status.busy": "2020-12-11T10:12:58.735682Z",
     "iopub.status.idle": "2020-12-11T10:12:58.942822Z",
     "shell.execute_reply": "2020-12-11T10:12:58.942354Z"
    },
    "jupyter": {
     "source_hidden": true
    },
    "papermill": {
     "duration": 0.218268,
     "end_time": "2020-12-11T10:12:58.942958",
     "exception": false,
     "start_time": "2020-12-11T10:12:58.724690",
     "status": "completed"
    },
    "scrolled": false,
    "tags": [
     "hide-input"
    ]
   },
   "outputs": [
    {
     "data": {
      "image/png": "[encoded data removed]",
      "text/plain": [
       "<Figure size 864x432 with 1 Axes>"
      ]
     },
     "metadata": {
      "needs_background": "light"
     },
     "output_type": "display_data"
    }
   ],
   "source": [
    "dc.plot(x='DATE',y='POSITIVE',color='red',grid='True',figsize=(12,6)).set_xlabel('Date');"
   ]
  },
  {
   "cell_type": "markdown",
   "metadata": {
    "papermill": {
     "duration": 0.008144,
     "end_time": "2020-12-11T10:12:58.959191",
     "exception": false,
     "start_time": "2020-12-11T10:12:58.951047",
     "status": "completed"
    },
    "tags": []
   },
   "source": [
    "## Figure 1: Cummulative number of positive cases."
   ]
  },
  {
   "cell_type": "code",
   "execution_count": 7,
   "metadata": {
    "execution": {
     "iopub.execute_input": "2020-12-11T10:12:58.979735Z",
     "iopub.status.busy": "2020-12-11T10:12:58.979204Z",
     "iopub.status.idle": "2020-12-11T10:12:59.173484Z",
     "shell.execute_reply": "2020-12-11T10:12:59.173848Z"
    },
    "jupyter": {
     "source_hidden": true
    },
    "papermill": {
     "duration": 0.207017,
     "end_time": "2020-12-11T10:12:59.174000",
     "exception": false,
     "start_time": "2020-12-11T10:12:58.966983",
     "status": "completed"
    },
    "scrolled": false,
    "tags": [
     "hide-input"
    ]
   },
   "outputs": [
    {
     "data": {
      "image/png": "[encoded data removed]",
      "text/plain": [
       "<Figure size 864x432 with 1 Axes>"
      ]
     },
     "metadata": {
      "needs_background": "light"
     },
     "output_type": "display_data"
    }
   ],
   "source": [
    "dc.plot(kind='line',x='DATE',y='7_DAY',color='blue',grid='True',figsize=(12,6)).set_xlabel('Date');"
   ]
  },
  {
   "cell_type": "markdown",
   "metadata": {
    "papermill": {
     "duration": 0.008692,
     "end_time": "2020-12-11T10:12:59.191537",
     "exception": false,
     "start_time": "2020-12-11T10:12:59.182845",
     "status": "completed"
    },
    "tags": []
   },
   "source": [
    "## Figure 2: Rolling 7-day average of daily new cases."
   ]
  },
  {
   "cell_type": "code",
   "execution_count": 8,
   "metadata": {
    "execution": {
     "iopub.execute_input": "2020-12-11T10:12:59.213775Z",
     "iopub.status.busy": "2020-12-11T10:12:59.213291Z",
     "iopub.status.idle": "2020-12-11T10:12:59.404987Z",
     "shell.execute_reply": "2020-12-11T10:12:59.405428Z"
    },
    "jupyter": {
     "source_hidden": true
    },
    "papermill": {
     "duration": 0.204907,
     "end_time": "2020-12-11T10:12:59.405593",
     "exception": false,
     "start_time": "2020-12-11T10:12:59.200686",
     "status": "completed"
    },
    "tags": []
   },
   "outputs": [
    {
     "data": {
      "image/png": "[encoded data removed]",
      "text/plain": [
       "<Figure size 864x432 with 1 Axes>"
      ]
     },
     "metadata": {
      "needs_background": "light"
     },
     "output_type": "display_data"
    }
   ],
   "source": [
    "dc.plot(kind='line',x='DATE',y='14_DAY',color='green',grid='True',figsize=(12,6)).set_xlabel('Date');"
   ]
  },
  {
   "cell_type": "markdown",
   "metadata": {
    "papermill": {
     "duration": 0.009488,
     "end_time": "2020-12-11T10:12:59.425036",
     "exception": false,
     "start_time": "2020-12-11T10:12:59.415548",
     "status": "completed"
    },
    "tags": []
   },
   "source": [
    "## Figure 3: Rolling 14-day average of daily new cases."
   ]
  },
  {
   "cell_type": "markdown",
   "metadata": {
    "papermill": {
     "duration": 0.00935,
     "end_time": "2020-12-11T10:12:59.443806",
     "exception": false,
     "start_time": "2020-12-11T10:12:59.434456",
     "status": "completed"
    },
    "tags": []
   },
   "source": [
    "Data source: [Wisconsin Department of Health Services](https://data.dhsgis.wi.gov/datasets/covid-19-historical-data-table/)"
   ]
  },
  {
   "cell_type": "code",
   "execution_count": 9,
   "metadata": {
    "execution": {
     "iopub.execute_input": "2020-12-11T10:12:59.468554Z",
     "iopub.status.busy": "2020-12-11T10:12:59.467570Z",
     "iopub.status.idle": "2020-12-11T10:12:59.470399Z",
     "shell.execute_reply": "2020-12-11T10:12:59.470773Z"
    },
    "jupyter": {
     "source_hidden": true
    },
    "papermill": {
     "duration": 0.017657,
     "end_time": "2020-12-11T10:12:59.470914",
     "exception": false,
     "start_time": "2020-12-11T10:12:59.453257",
     "status": "completed"
    },
    "tags": []
   },
   "outputs": [
    {
     "data": {
      "text/html": [
       "<style>\n",
       "div.input {\n",
       "    display:none;\n",
       "}\n",
       "</style>\n"
      ],
      "text/plain": [
       "<IPython.core.display.HTML object>"
      ]
     },
     "metadata": {},
     "output_type": "display_data"
    }
   ],
   "source": [
    "%%html\n",
    "<style>\n",
    "div.input {\n",
    "    display:none;\n",
    "}\n",
    "</style>"
   ]
  }
 ],
 "metadata": {
  "kernelspec": {
   "display_name": "Python 3",
   "language": "python",
   "name": "python3"
  },
  "language_info": {
   "codemirror_mode": {
    "name": "ipython",
    "version": 3
   },
   "file_extension": ".py",
   "mimetype": "text/x-python",
   "name": "python",
   "nbconvert_exporter": "python",
   "pygments_lexer": "ipython3",
   "version": "3.8.6"
  },
  "papermill": {
   "duration": 3.889455,
   "end_time": "2020-12-11T10:12:59.888235",
   "environment_variables": {},
   "exception": null,
   "input_path": "DunnCounty_COVID19.ipynb",
   "output_path": "DunnCounty_COVID19.ipynb",
   "parameters": {
    "Start": "True",
    "secretsPath": "/home/runner/work/_temp/secrets.json"
   },
   "start_time": "2020-12-11T10:12:55.998780",
   "version": "1.1.16"
  }
 },
 "nbformat": 4,
 "nbformat_minor": 2
}