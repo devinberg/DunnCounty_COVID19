{
 "cells": [
  {
   "cell_type": "code",
   "execution_count": 1,
   "metadata": {
    "execution": {
     "iopub.execute_input": "2020-11-15T22:09:25.352264Z",
     "iopub.status.busy": "2020-11-15T22:09:25.351616Z",
     "iopub.status.idle": "2020-11-15T22:09:28.038176Z",
     "shell.execute_reply": "2020-11-15T22:09:28.037336Z"
    },
    "jupyter": {
     "source_hidden": true
    },
    "papermill": {
     "duration": 2.70194,
     "end_time": "2020-11-15T22:09:28.038415",
     "exception": false,
     "start_time": "2020-11-15T22:09:25.336475",
     "status": "completed"
    },
    "scrolled": true,
    "tags": [
     "hide-input"
    ]
   },
   "outputs": [],
   "source": [
    "import pandas as pd\n",
    "import matplotlib.pyplot as plt\n",
    "from matplotlib import dates\n",
    "from IPython.display import display, Markdown\n",
    "%matplotlib inline"
   ]
  },
  {
   "cell_type": "code",
   "execution_count": 2,
   "metadata": {
    "execution": {
     "iopub.execute_input": "2020-11-15T22:09:28.061149Z",
     "iopub.status.busy": "2020-11-15T22:09:28.060512Z",
     "iopub.status.idle": "2020-11-15T22:09:28.716454Z",
     "shell.execute_reply": "2020-11-15T22:09:28.715893Z"
    },
    "jupyter": {
     "source_hidden": true
    },
    "papermill": {
     "duration": 0.670207,
     "end_time": "2020-11-15T22:09:28.716597",
     "exception": false,
     "start_time": "2020-11-15T22:09:28.046390",
     "status": "completed"
    },
    "scrolled": true,
    "tags": [
     "hide-input"
    ]
   },
   "outputs": [],
   "source": [
    "# This is the data for all of Wisconsin.\n",
    "url = \"https://opendata.arcgis.com/datasets/5374188992374b318d3e2305216ee413_12.csv\"\n",
    "data = pd.read_csv(url, parse_dates=['DATE'], low_memory=False)"
   ]
  },
  {
   "cell_type": "code",
   "execution_count": 3,
   "metadata": {
    "execution": {
     "iopub.execute_input": "2020-11-15T22:09:28.738507Z",
     "iopub.status.busy": "2020-11-15T22:09:28.737896Z",
     "iopub.status.idle": "2020-11-15T22:09:28.747667Z",
     "shell.execute_reply": "2020-11-15T22:09:28.748102Z"
    },
    "jupyter": {
     "source_hidden": true
    },
    "papermill": {
     "duration": 0.023555,
     "end_time": "2020-11-15T22:09:28.748243",
     "exception": false,
     "start_time": "2020-11-15T22:09:28.724688",
     "status": "completed"
    },
    "scrolled": true,
    "tags": [
     "hide-input"
    ]
   },
   "outputs": [],
   "source": [
    "dc = data.groupby('NAME').get_group('Dunn').sort_values(by='DATE') # Select the data for Dunn County from the full data.\n",
    "PNi = dc.columns.get_loc(\"POS_NEW\")\n",
    "dc['7_DAY'] = dc.iloc[:,PNi].rolling(window=7).mean() # Calculates the rolling 7-day average of new cases.\n",
    "dc['14_DAY'] = dc.iloc[:,PNi].rolling(window=14).mean() # Calculates the rolling 14-day average of new cases."
   ]
  },
  {
   "cell_type": "code",
   "execution_count": 4,
   "metadata": {
    "execution": {
     "iopub.execute_input": "2020-11-15T22:09:28.769745Z",
     "iopub.status.busy": "2020-11-15T22:09:28.769173Z",
     "iopub.status.idle": "2020-11-15T22:09:28.772138Z",
     "shell.execute_reply": "2020-11-15T22:09:28.772623Z"
    },
    "jupyter": {
     "source_hidden": true
    },
    "papermill": {
     "duration": 0.016686,
     "end_time": "2020-11-15T22:09:28.772829",
     "exception": false,
     "start_time": "2020-11-15T22:09:28.756143",
     "status": "completed"
    },
    "scrolled": true,
    "tags": [
     "hide-input"
    ]
   },
   "outputs": [
    {
     "data": {
      "text/markdown": [
       "### Last updated: November 15, 2020"
      ],
      "text/plain": [
       "<IPython.core.display.Markdown object>"
      ]
     },
     "metadata": {},
     "output_type": "display_data"
    }
   ],
   "source": [
    "display(Markdown('### Last updated: ' + dc.iloc[-1]['DATE'].strftime(\"%B %d, %Y\")))"
   ]
  },
  {
   "cell_type": "code",
   "execution_count": 5,
   "metadata": {
    "execution": {
     "iopub.execute_input": "2020-11-15T22:09:28.793153Z",
     "iopub.status.busy": "2020-11-15T22:09:28.792568Z",
     "iopub.status.idle": "2020-11-15T22:09:28.795950Z",
     "shell.execute_reply": "2020-11-15T22:09:28.796408Z"
    },
    "jupyter": {
     "source_hidden": true
    },
    "papermill": {
     "duration": 0.016283,
     "end_time": "2020-11-15T22:09:28.796540",
     "exception": false,
     "start_time": "2020-11-15T22:09:28.780257",
     "status": "completed"
    },
    "tags": [
     "hide-input"
    ]
   },
   "outputs": [
    {
     "data": {
      "text/markdown": [
       "# Dunn County has 1983 total positive cases, with 104 new cases reported today."
      ],
      "text/plain": [
       "<IPython.core.display.Markdown object>"
      ]
     },
     "metadata": {},
     "output_type": "display_data"
    }
   ],
   "source": [
    "display(Markdown('# Dunn County has ' + str(dc.iloc[-1]['POSITIVE']) + ' total positive cases, with '+ str(int(dc.iloc[-1]['POS_NEW'])) + ' new cases reported today.'))"
   ]
  },
  {
   "cell_type": "code",
   "execution_count": 6,
   "metadata": {
    "execution": {
     "iopub.execute_input": "2020-11-15T22:09:28.817404Z",
     "iopub.status.busy": "2020-11-15T22:09:28.816580Z",
     "iopub.status.idle": "2020-11-15T22:09:29.096969Z",
     "shell.execute_reply": "2020-11-15T22:09:29.096394Z"
    },
    "jupyter": {
     "source_hidden": true
    },
    "papermill": {
     "duration": 0.292266,
     "end_time": "2020-11-15T22:09:29.097107",
     "exception": false,
     "start_time": "2020-11-15T22:09:28.804841",
     "status": "completed"
    },
    "scrolled": false,
    "tags": [
     "hide-input"
    ]
   },
   "outputs": [
    {
     "data": {
      "image/png": "[encoded data removed]",
      "text/plain": [
       "<Figure size 864x432 with 1 Axes>"
      ]
     },
     "metadata": {
      "needs_background": "light"
     },
     "output_type": "display_data"
    }
   ],
   "source": [
    "dc.plot(x='DATE',y='POSITIVE',color='red',grid='True',figsize=(12,6)).set_xlabel('Date');"
   ]
  },
  {
   "cell_type": "markdown",
   "metadata": {
    "papermill": {
     "duration": 0.010169,
     "end_time": "2020-11-15T22:09:29.117197",
     "exception": false,
     "start_time": "2020-11-15T22:09:29.107028",
     "status": "completed"
    },
    "tags": []
   },
   "source": [
    "## Figure 1: Cummulative number of positive cases."
   ]
  },
  {
   "cell_type": "code",
   "execution_count": 7,
   "metadata": {
    "execution": {
     "iopub.execute_input": "2020-11-15T22:09:29.141752Z",
     "iopub.status.busy": "2020-11-15T22:09:29.141056Z",
     "iopub.status.idle": "2020-11-15T22:09:29.391300Z",
     "shell.execute_reply": "2020-11-15T22:09:29.391808Z"
    },
    "jupyter": {
     "source_hidden": true
    },
    "papermill": {
     "duration": 0.265949,
     "end_time": "2020-11-15T22:09:29.391979",
     "exception": false,
     "start_time": "2020-11-15T22:09:29.126030",
     "status": "completed"
    },
    "scrolled": false,
    "tags": [
     "hide-input"
    ]
   },
   "outputs": [
    {
     "data": {
      "image/png": "[encoded data removed]",
      "text/plain": [
       "<Figure size 864x432 with 1 Axes>"
      ]
     },
     "metadata": {
      "needs_background": "light"
     },
     "output_type": "display_data"
    }
   ],
   "source": [
    "dc.plot(kind='line',x='DATE',y='7_DAY',color='blue',grid='True',figsize=(12,6)).set_xlabel('Date');"
   ]
  },
  {
   "cell_type": "markdown",
   "metadata": {
    "papermill": {
     "duration": 0.010285,
     "end_time": "2020-11-15T22:09:29.412954",
     "exception": false,
     "start_time": "2020-11-15T22:09:29.402669",
     "status": "completed"
    },
    "tags": []
   },
   "source": [
    "## Figure 2: Rolling 7-day average of daily new cases."
   ]
  },
  {
   "cell_type": "code",
   "execution_count": 8,
   "metadata": {
    "execution": {
     "iopub.execute_input": "2020-11-15T22:09:29.437836Z",
     "iopub.status.busy": "2020-11-15T22:09:29.437224Z",
     "iopub.status.idle": "2020-11-15T22:09:29.688621Z",
     "shell.execute_reply": "2020-11-15T22:09:29.689098Z"
    },
    "jupyter": {
     "source_hidden": true
    },
    "papermill": {
     "duration": 0.266271,
     "end_time": "2020-11-15T22:09:29.689265",
     "exception": false,
     "start_time": "2020-11-15T22:09:29.422994",
     "status": "completed"
    },
    "tags": []
   },
   "outputs": [
    {
     "data": {
      "image/png": "[encoded data removed]",
      "text/plain": [
       "<Figure size 864x432 with 1 Axes>"
      ]
     },
     "metadata": {
      "needs_background": "light"
     },
     "output_type": "display_data"
    }
   ],
   "source": [
    "dc.plot(kind='line',x='DATE',y='14_DAY',color='green',grid='True',figsize=(12,6)).set_xlabel('Date');"
   ]
  },
  {
   "cell_type": "markdown",
   "metadata": {
    "papermill": {
     "duration": 0.011515,
     "end_time": "2020-11-15T22:09:29.712281",
     "exception": false,
     "start_time": "2020-11-15T22:09:29.700766",
     "status": "completed"
    },
    "tags": []
   },
   "source": [
    "## Figure 3: Rolling 14-day average of daily new cases."
   ]
  },
  {
   "cell_type": "markdown",
   "metadata": {
    "papermill": {
     "duration": 0.010547,
     "end_time": "2020-11-15T22:09:29.733761",
     "exception": false,
     "start_time": "2020-11-15T22:09:29.723214",
     "status": "completed"
    },
    "tags": []
   },
   "source": [
    "Data source: [Wisconsin Department of Health Services](https://data.dhsgis.wi.gov/datasets/covid-19-historical-data-table/)"
   ]
  },
  {
   "cell_type": "code",
   "execution_count": 9,
   "metadata": {
    "execution": {
     "iopub.execute_input": "2020-11-15T22:09:29.758663Z",
     "iopub.status.busy": "2020-11-15T22:09:29.758096Z",
     "iopub.status.idle": "2020-11-15T22:09:29.761738Z",
     "shell.execute_reply": "2020-11-15T22:09:29.762282Z"
    },
    "jupyter": {
     "source_hidden": true
    },
    "papermill": {
     "duration": 0.018014,
     "end_time": "2020-11-15T22:09:29.762526",
     "exception": false,
     "start_time": "2020-11-15T22:09:29.744512",
     "status": "completed"
    },
    "tags": []
   },
   "outputs": [
    {
     "data": {
      "text/html": [
       "<style>\n",
       "div.input {\n",
       "    display:none;\n",
       "}\n",
       "</style>\n"
      ],
      "text/plain": [
       "<IPython.core.display.HTML object>"
      ]
     },
     "metadata": {},
     "output_type": "display_data"
    }
   ],
   "source": [
    "%%html\n",
    "<style>\n",
    "div.input {\n",
    "    display:none;\n",
    "}\n",
    "</style>"
   ]
  }
 ],
 "metadata": {
  "kernelspec": {
   "display_name": "Python 3",
   "language": "python",
   "name": "python3"
  },
  "language_info": {
   "codemirror_mode": {
    "name": "ipython",
    "version": 3
   },
   "file_extension": ".py",
   "mimetype": "text/x-python",
   "name": "python",
   "nbconvert_exporter": "python",
   "pygments_lexer": "ipython3",
   "version": "3.8.6"
  },
  "papermill": {
   "duration": 6.49212,
   "end_time": "2020-11-15T22:09:30.080598",
   "environment_variables": {},
   "exception": null,
   "input_path": "DunnCounty_COVID19.ipynb",
   "output_path": "DunnCounty_COVID19.ipynb",
   "parameters": {
    "Start": "True",
    "secretsPath": "/home/runner/work/_temp/secrets.json"
   },
   "start_time": "2020-11-15T22:09:23.588478",
   "version": "1.1.16"
  }
 },
 "nbformat": 4,
 "nbformat_minor": 2
}