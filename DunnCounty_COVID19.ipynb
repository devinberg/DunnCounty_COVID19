{
 "cells": [
  {
   "cell_type": "code",
   "execution_count": 1,
   "id": "solar-understanding",
   "metadata": {
    "execution": {
     "iopub.execute_input": "2021-07-21T10:12:40.627626Z",
     "iopub.status.busy": "2021-07-21T10:12:40.626961Z",
     "iopub.status.idle": "2021-07-21T10:12:41.646534Z",
     "shell.execute_reply": "2021-07-21T10:12:41.645550Z"
    },
    "jupyter": {
     "source_hidden": true
    },
    "papermill": {
     "duration": 1.036028,
     "end_time": "2021-07-21T10:12:41.646666",
     "exception": false,
     "start_time": "2021-07-21T10:12:40.610638",
     "status": "completed"
    },
    "scrolled": true,
    "tags": [
     "hide-input"
    ]
   },
   "outputs": [],
   "source": [
    "import pandas as pd\n",
    "import matplotlib.pyplot as plt\n",
    "from matplotlib import dates\n",
    "from IPython.display import display, Markdown\n",
    "%matplotlib inline"
   ]
  },
  {
   "cell_type": "code",
   "execution_count": 2,
   "id": "purple-playlist",
   "metadata": {
    "execution": {
     "iopub.execute_input": "2021-07-21T10:12:41.673094Z",
     "iopub.status.busy": "2021-07-21T10:12:41.672452Z",
     "iopub.status.idle": "2021-07-21T10:12:42.967293Z",
     "shell.execute_reply": "2021-07-21T10:12:42.966718Z"
    },
    "jupyter": {
     "source_hidden": true
    },
    "papermill": {
     "duration": 1.310482,
     "end_time": "2021-07-21T10:12:42.967418",
     "exception": false,
     "start_time": "2021-07-21T10:12:41.656936",
     "status": "completed"
    },
    "scrolled": true,
    "tags": [
     "hide-input"
    ]
   },
   "outputs": [],
   "source": [
    "# This is the data for all of Wisconsin.\n",
    "url = \"https://opendata.arcgis.com/api/v3/datasets/3161f6e01d8141c6abe85a29ff7f3d3c_12/downloads/data?format=csv&spatialRefId=3857\"\n",
    "data = pd.read_csv(url, parse_dates=['DATE'], low_memory=False)"
   ]
  },
  {
   "cell_type": "code",
   "execution_count": 3,
   "id": "proprietary-klein",
   "metadata": {
    "execution": {
     "iopub.execute_input": "2021-07-21T10:12:42.990755Z",
     "iopub.status.busy": "2021-07-21T10:12:42.990292Z",
     "iopub.status.idle": "2021-07-21T10:12:43.000114Z",
     "shell.execute_reply": "2021-07-21T10:12:42.999704Z"
    },
    "jupyter": {
     "source_hidden": true
    },
    "papermill": {
     "duration": 0.024602,
     "end_time": "2021-07-21T10:12:43.000211",
     "exception": false,
     "start_time": "2021-07-21T10:12:42.975609",
     "status": "completed"
    },
    "scrolled": true,
    "tags": [
     "hide-input"
    ]
   },
   "outputs": [],
   "source": [
    "dc = data.groupby('NAME').get_group('Dunn').sort_values(by='DATE') # Select the data for Dunn County from the full data.\n",
    "PNi = dc.columns.get_loc(\"POS_NEW\")\n",
    "dc['7_DAY'] = dc.iloc[:,PNi].rolling(window=7).mean() # Calculates the rolling 7-day average of new cases.\n",
    "dc['14_DAY'] = dc.iloc[:,PNi].rolling(window=14).mean() # Calculates the rolling 14-day average of new cases."
   ]
  },
  {
   "cell_type": "code",
   "execution_count": 4,
   "id": "steady-supervision",
   "metadata": {
    "execution": {
     "iopub.execute_input": "2021-07-21T10:12:43.022840Z",
     "iopub.status.busy": "2021-07-21T10:12:43.022361Z",
     "iopub.status.idle": "2021-07-21T10:12:43.024910Z",
     "shell.execute_reply": "2021-07-21T10:12:43.025308Z"
    },
    "jupyter": {
     "source_hidden": true
    },
    "papermill": {
     "duration": 0.017371,
     "end_time": "2021-07-21T10:12:43.025418",
     "exception": false,
     "start_time": "2021-07-21T10:12:43.008047",
     "status": "completed"
    },
    "scrolled": true,
    "tags": [
     "hide-input"
    ]
   },
   "outputs": [
    {
     "data": {
      "text/markdown": [
       "### Last updated: July 20, 2021"
      ],
      "text/plain": [
       "<IPython.core.display.Markdown object>"
      ]
     },
     "metadata": {},
     "output_type": "display_data"
    }
   ],
   "source": [
    "display(Markdown('### Last updated: ' + dc.iloc[-1]['DATE'].strftime(\"%B %d, %Y\")))"
   ]
  },
  {
   "cell_type": "code",
   "execution_count": 5,
   "id": "lonely-pitch",
   "metadata": {
    "execution": {
     "iopub.execute_input": "2021-07-21T10:12:43.047004Z",
     "iopub.status.busy": "2021-07-21T10:12:43.044840Z",
     "iopub.status.idle": "2021-07-21T10:12:43.050803Z",
     "shell.execute_reply": "2021-07-21T10:12:43.050367Z"
    },
    "jupyter": {
     "source_hidden": true
    },
    "papermill": {
     "duration": 0.017238,
     "end_time": "2021-07-21T10:12:43.050901",
     "exception": false,
     "start_time": "2021-07-21T10:12:43.033663",
     "status": "completed"
    },
    "tags": [
     "hide-input"
    ]
   },
   "outputs": [
    {
     "data": {
      "text/markdown": [
       "# Dunn County has 4748 total positive cases, with 4 new cases reported today."
      ],
      "text/plain": [
       "<IPython.core.display.Markdown object>"
      ]
     },
     "metadata": {},
     "output_type": "display_data"
    }
   ],
   "source": [
    "display(Markdown('# Dunn County has ' + str(dc.iloc[-1]['POSITIVE']) + ' total positive cases, with '+ str(int(dc.iloc[-1]['POS_NEW'])) + ' new cases reported today.'))"
   ]
  },
  {
   "cell_type": "code",
   "execution_count": 6,
   "id": "compound-nightmare",
   "metadata": {
    "execution": {
     "iopub.execute_input": "2021-07-21T10:12:43.075901Z",
     "iopub.status.busy": "2021-07-21T10:12:43.075413Z",
     "iopub.status.idle": "2021-07-21T10:12:43.518728Z",
     "shell.execute_reply": "2021-07-21T10:12:43.519549Z"
    },
    "jupyter": {
     "source_hidden": true
    },
    "papermill": {
     "duration": 0.459032,
     "end_time": "2021-07-21T10:12:43.519717",
     "exception": false,
     "start_time": "2021-07-21T10:12:43.060685",
     "status": "completed"
    },
    "scrolled": false,
    "tags": [
     "hide-input"
    ]
   },
   "outputs": [
    {
     "data": {
      "image/png": "[encoded data removed]",
      "text/plain": [
       "<Figure size 864x432 with 1 Axes>"
      ]
     },
     "metadata": {
      "needs_background": "light"
     },
     "output_type": "display_data"
    }
   ],
   "source": [
    "dc.plot(x='DATE',y='POSITIVE',color='red',grid='True',figsize=(12,6)).set_xlabel('Date');"
   ]
  },
  {
   "cell_type": "markdown",
   "id": "coupled-literacy",
   "metadata": {
    "papermill": {
     "duration": 0.009309,
     "end_time": "2021-07-21T10:12:43.539044",
     "exception": false,
     "start_time": "2021-07-21T10:12:43.529735",
     "status": "completed"
    },
    "tags": []
   },
   "source": [
    "## Figure 1: Cummulative number of positive cases."
   ]
  },
  {
   "cell_type": "code",
   "execution_count": 7,
   "id": "surrounded-reserve",
   "metadata": {
    "execution": {
     "iopub.execute_input": "2021-07-21T10:12:43.580024Z",
     "iopub.status.busy": "2021-07-21T10:12:43.562805Z",
     "iopub.status.idle": "2021-07-21T10:12:43.797658Z",
     "shell.execute_reply": "2021-07-21T10:12:43.797255Z"
    },
    "jupyter": {
     "source_hidden": true
    },
    "papermill": {
     "duration": 0.249228,
     "end_time": "2021-07-21T10:12:43.797780",
     "exception": false,
     "start_time": "2021-07-21T10:12:43.548552",
     "status": "completed"
    },
    "scrolled": false,
    "tags": [
     "hide-input"
    ]
   },
   "outputs": [
    {
     "data": {
      "image/png": "[encoded data removed]",
      "text/plain": [
       "<Figure size 864x432 with 1 Axes>"
      ]
     },
     "metadata": {
      "needs_background": "light"
     },
     "output_type": "display_data"
    }
   ],
   "source": [
    "dc.plot(kind='line',x='DATE',y='7_DAY',color='blue',grid='True',figsize=(12,6)).set_xlabel('Date');"
   ]
  },
  {
   "cell_type": "markdown",
   "id": "professional-savannah",
   "metadata": {
    "papermill": {
     "duration": 0.010232,
     "end_time": "2021-07-21T10:12:43.818622",
     "exception": false,
     "start_time": "2021-07-21T10:12:43.808390",
     "status": "completed"
    },
    "tags": []
   },
   "source": [
    "## Figure 2: Rolling 7-day average of daily new cases."
   ]
  },
  {
   "cell_type": "code",
   "execution_count": 8,
   "id": "stretch-investor",
   "metadata": {
    "execution": {
     "iopub.execute_input": "2021-07-21T10:12:43.843121Z",
     "iopub.status.busy": "2021-07-21T10:12:43.841163Z",
     "iopub.status.idle": "2021-07-21T10:12:44.075127Z",
     "shell.execute_reply": "2021-07-21T10:12:44.074709Z"
    },
    "jupyter": {
     "source_hidden": true
    },
    "papermill": {
     "duration": 0.246369,
     "end_time": "2021-07-21T10:12:44.075238",
     "exception": false,
     "start_time": "2021-07-21T10:12:43.828869",
     "status": "completed"
    },
    "tags": []
   },
   "outputs": [
    {
     "data": {
      "image/png": "[encoded data removed]",
      "text/plain": [
       "<Figure size 864x432 with 1 Axes>"
      ]
     },
     "metadata": {
      "needs_background": "light"
     },
     "output_type": "display_data"
    }
   ],
   "source": [
    "dc.plot(kind='line',x='DATE',y='14_DAY',color='green',grid='True',figsize=(12,6)).set_xlabel('Date');"
   ]
  },
  {
   "cell_type": "markdown",
   "id": "prerequisite-species",
   "metadata": {
    "papermill": {
     "duration": 0.010693,
     "end_time": "2021-07-21T10:12:44.097231",
     "exception": false,
     "start_time": "2021-07-21T10:12:44.086538",
     "status": "completed"
    },
    "tags": []
   },
   "source": [
    "## Figure 3: Rolling 14-day average of daily new cases."
   ]
  },
  {
   "cell_type": "markdown",
   "id": "palestinian-guard",
   "metadata": {
    "papermill": {
     "duration": 0.010574,
     "end_time": "2021-07-21T10:12:44.118366",
     "exception": false,
     "start_time": "2021-07-21T10:12:44.107792",
     "status": "completed"
    },
    "tags": []
   },
   "source": [
    "Data source: [Wisconsin Department of Health Services](https://data.dhsgis.wi.gov/datasets/wi-dhs::covid-19-historical-data-by-county-1)"
   ]
  },
  {
   "cell_type": "code",
   "execution_count": 9,
   "id": "proof-medicare",
   "metadata": {
    "execution": {
     "iopub.execute_input": "2021-07-21T10:12:44.145907Z",
     "iopub.status.busy": "2021-07-21T10:12:44.145376Z",
     "iopub.status.idle": "2021-07-21T10:12:44.147438Z",
     "shell.execute_reply": "2021-07-21T10:12:44.147844Z"
    },
    "jupyter": {
     "source_hidden": true
    },
    "papermill": {
     "duration": 0.018867,
     "end_time": "2021-07-21T10:12:44.147961",
     "exception": false,
     "start_time": "2021-07-21T10:12:44.129094",
     "status": "completed"
    },
    "tags": []
   },
   "outputs": [
    {
     "data": {
      "text/html": [
       "<style>\n",
       "div.input {\n",
       "    display:none;\n",
       "}\n",
       "</style>\n"
      ],
      "text/plain": [
       "<IPython.core.display.HTML object>"
      ]
     },
     "metadata": {},
     "output_type": "display_data"
    }
   ],
   "source": [
    "%%html\n",
    "<style>\n",
    "div.input {\n",
    "    display:none;\n",
    "}\n",
    "</style>"
   ]
  }
 ],
 "metadata": {
  "kernelspec": {
   "display_name": "Python 3",
   "language": "python",
   "name": "python3"
  },
  "language_info": {
   "codemirror_mode": {
    "name": "ipython",
    "version": 3
   },
   "file_extension": ".py",
   "mimetype": "text/x-python",
   "name": "python",
   "nbconvert_exporter": "python",
   "pygments_lexer": "ipython3",
   "version": "3.8.11"
  },
  "papermill": {
   "duration": 5.319493,
   "end_time": "2021-07-21T10:12:44.367290",
   "environment_variables": {},
   "exception": null,
   "input_path": "DunnCounty_COVID19.ipynb",
   "output_path": "DunnCounty_COVID19.ipynb",
   "parameters": {
    "Start": "True",
    "secretsPath": "/home/runner/work/_temp/secrets.json"
   },
   "start_time": "2021-07-21T10:12:39.047797",
   "version": "1.1.16"
  }
 },
 "nbformat": 4,
 "nbformat_minor": 5
}