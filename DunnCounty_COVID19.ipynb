{
 "cells": [
  {
   "cell_type": "code",
   "execution_count": 1,
   "id": "solar-understanding",
   "metadata": {
    "execution": {
     "iopub.execute_input": "2021-01-26T22:13:14.412324Z",
     "iopub.status.busy": "2021-01-26T22:13:14.411772Z",
     "iopub.status.idle": "2021-01-26T22:13:16.840978Z",
     "shell.execute_reply": "2021-01-26T22:13:16.841506Z"
    },
    "jupyter": {
     "source_hidden": true
    },
    "papermill": {
     "duration": 2.450461,
     "end_time": "2021-01-26T22:13:16.841834",
     "exception": false,
     "start_time": "2021-01-26T22:13:14.391373",
     "status": "completed"
    },
    "scrolled": true,
    "tags": [
     "hide-input"
    ]
   },
   "outputs": [],
   "source": [
    "import pandas as pd\n",
    "import matplotlib.pyplot as plt\n",
    "from matplotlib import dates\n",
    "from IPython.display import display, Markdown\n",
    "%matplotlib inline"
   ]
  },
  {
   "cell_type": "code",
   "execution_count": 2,
   "id": "purple-playlist",
   "metadata": {
    "execution": {
     "iopub.execute_input": "2021-01-26T22:13:16.866575Z",
     "iopub.status.busy": "2021-01-26T22:13:16.866034Z",
     "iopub.status.idle": "2021-01-26T22:13:17.438789Z",
     "shell.execute_reply": "2021-01-26T22:13:17.438209Z"
    },
    "jupyter": {
     "source_hidden": true
    },
    "papermill": {
     "duration": 0.587565,
     "end_time": "2021-01-26T22:13:17.438950",
     "exception": false,
     "start_time": "2021-01-26T22:13:16.851385",
     "status": "completed"
    },
    "scrolled": true,
    "tags": [
     "hide-input"
    ]
   },
   "outputs": [],
   "source": [
    "# This is the data for all of Wisconsin.\n",
    "url = \"https://opendata.arcgis.com/datasets/5374188992374b318d3e2305216ee413_12.csv\"\n",
    "data = pd.read_csv(url, parse_dates=['DATE'], low_memory=False)"
   ]
  },
  {
   "cell_type": "code",
   "execution_count": 3,
   "id": "proprietary-klein",
   "metadata": {
    "execution": {
     "iopub.execute_input": "2021-01-26T22:13:17.463544Z",
     "iopub.status.busy": "2021-01-26T22:13:17.463004Z",
     "iopub.status.idle": "2021-01-26T22:13:17.470325Z",
     "shell.execute_reply": "2021-01-26T22:13:17.470699Z"
    },
    "jupyter": {
     "source_hidden": true
    },
    "papermill": {
     "duration": 0.022437,
     "end_time": "2021-01-26T22:13:17.470840",
     "exception": false,
     "start_time": "2021-01-26T22:13:17.448403",
     "status": "completed"
    },
    "scrolled": true,
    "tags": [
     "hide-input"
    ]
   },
   "outputs": [],
   "source": [
    "dc = data.groupby('NAME').get_group('Dunn').sort_values(by='DATE') # Select the data for Dunn County from the full data.\n",
    "PNi = dc.columns.get_loc(\"POS_NEW\")\n",
    "dc['7_DAY'] = dc.iloc[:,PNi].rolling(window=7).mean() # Calculates the rolling 7-day average of new cases.\n",
    "dc['14_DAY'] = dc.iloc[:,PNi].rolling(window=14).mean() # Calculates the rolling 14-day average of new cases."
   ]
  },
  {
   "cell_type": "code",
   "execution_count": 4,
   "id": "steady-supervision",
   "metadata": {
    "execution": {
     "iopub.execute_input": "2021-01-26T22:13:17.493910Z",
     "iopub.status.busy": "2021-01-26T22:13:17.493287Z",
     "iopub.status.idle": "2021-01-26T22:13:17.495369Z",
     "shell.execute_reply": "2021-01-26T22:13:17.495816Z"
    },
    "jupyter": {
     "source_hidden": true
    },
    "papermill": {
     "duration": 0.017242,
     "end_time": "2021-01-26T22:13:17.495947",
     "exception": false,
     "start_time": "2021-01-26T22:13:17.478705",
     "status": "completed"
    },
    "scrolled": true,
    "tags": [
     "hide-input"
    ]
   },
   "outputs": [
    {
     "data": {
      "text/markdown": [
       "### Last updated: January 26, 2021"
      ],
      "text/plain": [
       "<IPython.core.display.Markdown object>"
      ]
     },
     "metadata": {},
     "output_type": "display_data"
    }
   ],
   "source": [
    "display(Markdown('### Last updated: ' + dc.iloc[-1]['DATE'].strftime(\"%B %d, %Y\")))"
   ]
  },
  {
   "cell_type": "code",
   "execution_count": 5,
   "id": "lonely-pitch",
   "metadata": {
    "execution": {
     "iopub.execute_input": "2021-01-26T22:13:17.517681Z",
     "iopub.status.busy": "2021-01-26T22:13:17.517164Z",
     "iopub.status.idle": "2021-01-26T22:13:17.519915Z",
     "shell.execute_reply": "2021-01-26T22:13:17.519519Z"
    },
    "jupyter": {
     "source_hidden": true
    },
    "papermill": {
     "duration": 0.015231,
     "end_time": "2021-01-26T22:13:17.520024",
     "exception": false,
     "start_time": "2021-01-26T22:13:17.504793",
     "status": "completed"
    },
    "tags": [
     "hide-input"
    ]
   },
   "outputs": [
    {
     "data": {
      "text/markdown": [
       "# Dunn County has 3972 total positive cases, with 0 new cases reported today."
      ],
      "text/plain": [
       "<IPython.core.display.Markdown object>"
      ]
     },
     "metadata": {},
     "output_type": "display_data"
    }
   ],
   "source": [
    "display(Markdown('# Dunn County has ' + str(dc.iloc[-1]['POSITIVE']) + ' total positive cases, with '+ str(int(dc.iloc[-1]['POS_NEW'])) + ' new cases reported today.'))"
   ]
  },
  {
   "cell_type": "code",
   "execution_count": 6,
   "id": "compound-nightmare",
   "metadata": {
    "execution": {
     "iopub.execute_input": "2021-01-26T22:13:17.541869Z",
     "iopub.status.busy": "2021-01-26T22:13:17.541346Z",
     "iopub.status.idle": "2021-01-26T22:13:17.798872Z",
     "shell.execute_reply": "2021-01-26T22:13:17.799261Z"
    },
    "jupyter": {
     "source_hidden": true
    },
    "papermill": {
     "duration": 0.270637,
     "end_time": "2021-01-26T22:13:17.799440",
     "exception": false,
     "start_time": "2021-01-26T22:13:17.528803",
     "status": "completed"
    },
    "scrolled": false,
    "tags": [
     "hide-input"
    ]
   },
   "outputs": [
    {
     "data": {
      "image/png": "[encoded data removed]",
      "text/plain": [
       "<Figure size 864x432 with 1 Axes>"
      ]
     },
     "metadata": {
      "needs_background": "light"
     },
     "output_type": "display_data"
    }
   ],
   "source": [
    "dc.plot(x='DATE',y='POSITIVE',color='red',grid='True',figsize=(12,6)).set_xlabel('Date');"
   ]
  },
  {
   "cell_type": "markdown",
   "id": "coupled-literacy",
   "metadata": {
    "papermill": {
     "duration": 0.009876,
     "end_time": "2021-01-26T22:13:17.819661",
     "exception": false,
     "start_time": "2021-01-26T22:13:17.809785",
     "status": "completed"
    },
    "tags": []
   },
   "source": [
    "## Figure 1: Cummulative number of positive cases."
   ]
  },
  {
   "cell_type": "code",
   "execution_count": 7,
   "id": "surrounded-reserve",
   "metadata": {
    "execution": {
     "iopub.execute_input": "2021-01-26T22:13:17.844200Z",
     "iopub.status.busy": "2021-01-26T22:13:17.843664Z",
     "iopub.status.idle": "2021-01-26T22:13:18.067091Z",
     "shell.execute_reply": "2021-01-26T22:13:18.067494Z"
    },
    "jupyter": {
     "source_hidden": true
    },
    "papermill": {
     "duration": 0.237917,
     "end_time": "2021-01-26T22:13:18.067645",
     "exception": false,
     "start_time": "2021-01-26T22:13:17.829728",
     "status": "completed"
    },
    "scrolled": false,
    "tags": [
     "hide-input"
    ]
   },
   "outputs": [
    {
     "data": {
      "image/png": "[encoded data removed]",
      "text/plain": [
       "<Figure size 864x432 with 1 Axes>"
      ]
     },
     "metadata": {
      "needs_background": "light"
     },
     "output_type": "display_data"
    }
   ],
   "source": [
    "dc.plot(kind='line',x='DATE',y='7_DAY',color='blue',grid='True',figsize=(12,6)).set_xlabel('Date');"
   ]
  },
  {
   "cell_type": "markdown",
   "id": "professional-savannah",
   "metadata": {
    "papermill": {
     "duration": 0.011437,
     "end_time": "2021-01-26T22:13:18.090054",
     "exception": false,
     "start_time": "2021-01-26T22:13:18.078617",
     "status": "completed"
    },
    "tags": []
   },
   "source": [
    "## Figure 2: Rolling 7-day average of daily new cases."
   ]
  },
  {
   "cell_type": "code",
   "execution_count": 8,
   "id": "stretch-investor",
   "metadata": {
    "execution": {
     "iopub.execute_input": "2021-01-26T22:13:18.116010Z",
     "iopub.status.busy": "2021-01-26T22:13:18.115531Z",
     "iopub.status.idle": "2021-01-26T22:13:18.344255Z",
     "shell.execute_reply": "2021-01-26T22:13:18.344835Z"
    },
    "jupyter": {
     "source_hidden": true
    },
    "papermill": {
     "duration": 0.244402,
     "end_time": "2021-01-26T22:13:18.345024",
     "exception": false,
     "start_time": "2021-01-26T22:13:18.100622",
     "status": "completed"
    },
    "tags": []
   },
   "outputs": [
    {
     "data": {
      "image/png": "[encoded data removed]",
      "text/plain": [
       "<Figure size 864x432 with 1 Axes>"
      ]
     },
     "metadata": {
      "needs_background": "light"
     },
     "output_type": "display_data"
    }
   ],
   "source": [
    "dc.plot(kind='line',x='DATE',y='14_DAY',color='green',grid='True',figsize=(12,6)).set_xlabel('Date');"
   ]
  },
  {
   "cell_type": "markdown",
   "id": "prerequisite-species",
   "metadata": {
    "papermill": {
     "duration": 0.012474,
     "end_time": "2021-01-26T22:13:18.369411",
     "exception": false,
     "start_time": "2021-01-26T22:13:18.356937",
     "status": "completed"
    },
    "tags": []
   },
   "source": [
    "## Figure 3: Rolling 14-day average of daily new cases."
   ]
  },
  {
   "cell_type": "markdown",
   "id": "palestinian-guard",
   "metadata": {
    "papermill": {
     "duration": 0.011801,
     "end_time": "2021-01-26T22:13:18.392868",
     "exception": false,
     "start_time": "2021-01-26T22:13:18.381067",
     "status": "completed"
    },
    "tags": []
   },
   "source": [
    "Data source: [Wisconsin Department of Health Services](https://data.dhsgis.wi.gov/datasets/covid-19-historical-data-table/)"
   ]
  },
  {
   "cell_type": "code",
   "execution_count": 9,
   "id": "proof-medicare",
   "metadata": {
    "execution": {
     "iopub.execute_input": "2021-01-26T22:13:18.420010Z",
     "iopub.status.busy": "2021-01-26T22:13:18.419468Z",
     "iopub.status.idle": "2021-01-26T22:13:18.422792Z",
     "shell.execute_reply": "2021-01-26T22:13:18.423203Z"
    },
    "jupyter": {
     "source_hidden": true
    },
    "papermill": {
     "duration": 0.019078,
     "end_time": "2021-01-26T22:13:18.423336",
     "exception": false,
     "start_time": "2021-01-26T22:13:18.404258",
     "status": "completed"
    },
    "tags": []
   },
   "outputs": [
    {
     "data": {
      "text/html": [
       "<style>\n",
       "div.input {\n",
       "    display:none;\n",
       "}\n",
       "</style>\n"
      ],
      "text/plain": [
       "<IPython.core.display.HTML object>"
      ]
     },
     "metadata": {},
     "output_type": "display_data"
    }
   ],
   "source": [
    "%%html\n",
    "<style>\n",
    "div.input {\n",
    "    display:none;\n",
    "}\n",
    "</style>"
   ]
  }
 ],
 "metadata": {
  "kernelspec": {
   "display_name": "Python 3",
   "language": "python",
   "name": "python3"
  },
  "language_info": {
   "codemirror_mode": {
    "name": "ipython",
    "version": 3
   },
   "file_extension": ".py",
   "mimetype": "text/x-python",
   "name": "python",
   "nbconvert_exporter": "python",
   "pygments_lexer": "ipython3",
   "version": "3.8.6"
  },
  "papermill": {
   "duration": 6.993803,
   "end_time": "2021-01-26T22:13:19.632873",
   "environment_variables": {},
   "exception": null,
   "input_path": "DunnCounty_COVID19.ipynb",
   "output_path": "DunnCounty_COVID19.ipynb",
   "parameters": {
    "Start": "True",
    "secretsPath": "/home/runner/work/_temp/secrets.json"
   },
   "start_time": "2021-01-26T22:13:12.639070",
   "version": "1.1.16"
  }
 },
 "nbformat": 4,
 "nbformat_minor": 5
}