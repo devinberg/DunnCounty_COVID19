{
 "cells": [
  {
   "cell_type": "code",
   "execution_count": 1,
   "id": "solar-understanding",
   "metadata": {
    "execution": {
     "iopub.execute_input": "2021-02-20T22:11:47.873598Z",
     "iopub.status.busy": "2021-02-20T22:11:47.872926Z",
     "iopub.status.idle": "2021-02-20T22:11:49.160020Z",
     "shell.execute_reply": "2021-02-20T22:11:49.158912Z"
    },
    "jupyter": {
     "source_hidden": true
    },
    "papermill": {
     "duration": 1.306481,
     "end_time": "2021-02-20T22:11:49.160190",
     "exception": false,
     "start_time": "2021-02-20T22:11:47.853709",
     "status": "completed"
    },
    "scrolled": true,
    "tags": [
     "hide-input"
    ]
   },
   "outputs": [],
   "source": [
    "import pandas as pd\n",
    "import matplotlib.pyplot as plt\n",
    "from matplotlib import dates\n",
    "from IPython.display import display, Markdown\n",
    "%matplotlib inline"
   ]
  },
  {
   "cell_type": "code",
   "execution_count": 2,
   "id": "purple-playlist",
   "metadata": {
    "execution": {
     "iopub.execute_input": "2021-02-20T22:11:49.185312Z",
     "iopub.status.busy": "2021-02-20T22:11:49.184640Z",
     "iopub.status.idle": "2021-02-20T22:11:49.791577Z",
     "shell.execute_reply": "2021-02-20T22:11:49.791025Z"
    },
    "jupyter": {
     "source_hidden": true
    },
    "papermill": {
     "duration": 0.621579,
     "end_time": "2021-02-20T22:11:49.791726",
     "exception": false,
     "start_time": "2021-02-20T22:11:49.170147",
     "status": "completed"
    },
    "scrolled": true,
    "tags": [
     "hide-input"
    ]
   },
   "outputs": [],
   "source": [
    "# This is the data for all of Wisconsin.\n",
    "url = \"https://opendata.arcgis.com/datasets/5374188992374b318d3e2305216ee413_12.csv\"\n",
    "data = pd.read_csv(url, parse_dates=['DATE'], low_memory=False)"
   ]
  },
  {
   "cell_type": "code",
   "execution_count": 3,
   "id": "proprietary-klein",
   "metadata": {
    "execution": {
     "iopub.execute_input": "2021-02-20T22:11:49.817753Z",
     "iopub.status.busy": "2021-02-20T22:11:49.817071Z",
     "iopub.status.idle": "2021-02-20T22:11:49.827192Z",
     "shell.execute_reply": "2021-02-20T22:11:49.826667Z"
    },
    "jupyter": {
     "source_hidden": true
    },
    "papermill": {
     "duration": 0.025259,
     "end_time": "2021-02-20T22:11:49.827317",
     "exception": false,
     "start_time": "2021-02-20T22:11:49.802058",
     "status": "completed"
    },
    "scrolled": true,
    "tags": [
     "hide-input"
    ]
   },
   "outputs": [],
   "source": [
    "dc = data.groupby('NAME').get_group('Dunn').sort_values(by='DATE') # Select the data for Dunn County from the full data.\n",
    "PNi = dc.columns.get_loc(\"POS_NEW\")\n",
    "dc['7_DAY'] = dc.iloc[:,PNi].rolling(window=7).mean() # Calculates the rolling 7-day average of new cases.\n",
    "dc['14_DAY'] = dc.iloc[:,PNi].rolling(window=14).mean() # Calculates the rolling 14-day average of new cases."
   ]
  },
  {
   "cell_type": "code",
   "execution_count": 4,
   "id": "steady-supervision",
   "metadata": {
    "execution": {
     "iopub.execute_input": "2021-02-20T22:11:49.852679Z",
     "iopub.status.busy": "2021-02-20T22:11:49.852058Z",
     "iopub.status.idle": "2021-02-20T22:11:49.855633Z",
     "shell.execute_reply": "2021-02-20T22:11:49.855104Z"
    },
    "jupyter": {
     "source_hidden": true
    },
    "papermill": {
     "duration": 0.018596,
     "end_time": "2021-02-20T22:11:49.855760",
     "exception": false,
     "start_time": "2021-02-20T22:11:49.837164",
     "status": "completed"
    },
    "scrolled": true,
    "tags": [
     "hide-input"
    ]
   },
   "outputs": [
    {
     "data": {
      "text/markdown": [
       "### Last updated: February 20, 2021"
      ],
      "text/plain": [
       "<IPython.core.display.Markdown object>"
      ]
     },
     "metadata": {},
     "output_type": "display_data"
    }
   ],
   "source": [
    "display(Markdown('### Last updated: ' + dc.iloc[-1]['DATE'].strftime(\"%B %d, %Y\")))"
   ]
  },
  {
   "cell_type": "code",
   "execution_count": 5,
   "id": "lonely-pitch",
   "metadata": {
    "execution": {
     "iopub.execute_input": "2021-02-20T22:11:49.880634Z",
     "iopub.status.busy": "2021-02-20T22:11:49.880037Z",
     "iopub.status.idle": "2021-02-20T22:11:49.883385Z",
     "shell.execute_reply": "2021-02-20T22:11:49.882865Z"
    },
    "jupyter": {
     "source_hidden": true
    },
    "papermill": {
     "duration": 0.017339,
     "end_time": "2021-02-20T22:11:49.883512",
     "exception": false,
     "start_time": "2021-02-20T22:11:49.866173",
     "status": "completed"
    },
    "tags": [
     "hide-input"
    ]
   },
   "outputs": [
    {
     "data": {
      "text/markdown": [
       "# Dunn County has 4217 total positive cases, with 4 new cases reported today."
      ],
      "text/plain": [
       "<IPython.core.display.Markdown object>"
      ]
     },
     "metadata": {},
     "output_type": "display_data"
    }
   ],
   "source": [
    "display(Markdown('# Dunn County has ' + str(dc.iloc[-1]['POSITIVE']) + ' total positive cases, with '+ str(int(dc.iloc[-1]['POS_NEW'])) + ' new cases reported today.'))"
   ]
  },
  {
   "cell_type": "code",
   "execution_count": 6,
   "id": "compound-nightmare",
   "metadata": {
    "execution": {
     "iopub.execute_input": "2021-02-20T22:11:49.909416Z",
     "iopub.status.busy": "2021-02-20T22:11:49.908638Z",
     "iopub.status.idle": "2021-02-20T22:11:50.187035Z",
     "shell.execute_reply": "2021-02-20T22:11:50.187532Z"
    },
    "jupyter": {
     "source_hidden": true
    },
    "papermill": {
     "duration": 0.29309,
     "end_time": "2021-02-20T22:11:50.187707",
     "exception": false,
     "start_time": "2021-02-20T22:11:49.894617",
     "status": "completed"
    },
    "scrolled": false,
    "tags": [
     "hide-input"
    ]
   },
   "outputs": [
    {
     "data": {
      "image/png": "[encoded data removed]",
      "text/plain": [
       "<Figure size 864x432 with 1 Axes>"
      ]
     },
     "metadata": {
      "needs_background": "light"
     },
     "output_type": "display_data"
    }
   ],
   "source": [
    "dc.plot(x='DATE',y='POSITIVE',color='red',grid='True',figsize=(12,6)).set_xlabel('Date');"
   ]
  },
  {
   "cell_type": "markdown",
   "id": "coupled-literacy",
   "metadata": {
    "papermill": {
     "duration": 0.011545,
     "end_time": "2021-02-20T22:11:50.210795",
     "exception": false,
     "start_time": "2021-02-20T22:11:50.199250",
     "status": "completed"
    },
    "tags": []
   },
   "source": [
    "## Figure 1: Cummulative number of positive cases."
   ]
  },
  {
   "cell_type": "code",
   "execution_count": 7,
   "id": "surrounded-reserve",
   "metadata": {
    "execution": {
     "iopub.execute_input": "2021-02-20T22:11:50.237760Z",
     "iopub.status.busy": "2021-02-20T22:11:50.236752Z",
     "iopub.status.idle": "2021-02-20T22:11:50.468275Z",
     "shell.execute_reply": "2021-02-20T22:11:50.467757Z"
    },
    "jupyter": {
     "source_hidden": true
    },
    "papermill": {
     "duration": 0.24691,
     "end_time": "2021-02-20T22:11:50.468419",
     "exception": false,
     "start_time": "2021-02-20T22:11:50.221509",
     "status": "completed"
    },
    "scrolled": false,
    "tags": [
     "hide-input"
    ]
   },
   "outputs": [
    {
     "data": {
      "image/png": "[encoded data removed]",
      "text/plain": [
       "<Figure size 864x432 with 1 Axes>"
      ]
     },
     "metadata": {
      "needs_background": "light"
     },
     "output_type": "display_data"
    }
   ],
   "source": [
    "dc.plot(kind='line',x='DATE',y='7_DAY',color='blue',grid='True',figsize=(12,6)).set_xlabel('Date');"
   ]
  },
  {
   "cell_type": "markdown",
   "id": "professional-savannah",
   "metadata": {
    "papermill": {
     "duration": 0.013761,
     "end_time": "2021-02-20T22:11:50.494362",
     "exception": false,
     "start_time": "2021-02-20T22:11:50.480601",
     "status": "completed"
    },
    "tags": []
   },
   "source": [
    "## Figure 2: Rolling 7-day average of daily new cases."
   ]
  },
  {
   "cell_type": "code",
   "execution_count": 8,
   "id": "stretch-investor",
   "metadata": {
    "execution": {
     "iopub.execute_input": "2021-02-20T22:11:50.522636Z",
     "iopub.status.busy": "2021-02-20T22:11:50.522045Z",
     "iopub.status.idle": "2021-02-20T22:11:50.832343Z",
     "shell.execute_reply": "2021-02-20T22:11:50.832843Z"
    },
    "jupyter": {
     "source_hidden": true
    },
    "papermill": {
     "duration": 0.326519,
     "end_time": "2021-02-20T22:11:50.833022",
     "exception": false,
     "start_time": "2021-02-20T22:11:50.506503",
     "status": "completed"
    },
    "tags": []
   },
   "outputs": [
    {
     "data": {
      "image/png": "[encoded data removed]",
      "text/plain": [
       "<Figure size 864x432 with 1 Axes>"
      ]
     },
     "metadata": {
      "needs_background": "light"
     },
     "output_type": "display_data"
    }
   ],
   "source": [
    "dc.plot(kind='line',x='DATE',y='14_DAY',color='green',grid='True',figsize=(12,6)).set_xlabel('Date');"
   ]
  },
  {
   "cell_type": "markdown",
   "id": "prerequisite-species",
   "metadata": {
    "papermill": {
     "duration": 0.013011,
     "end_time": "2021-02-20T22:11:50.858967",
     "exception": false,
     "start_time": "2021-02-20T22:11:50.845956",
     "status": "completed"
    },
    "tags": []
   },
   "source": [
    "## Figure 3: Rolling 14-day average of daily new cases."
   ]
  },
  {
   "cell_type": "markdown",
   "id": "palestinian-guard",
   "metadata": {
    "papermill": {
     "duration": 0.012596,
     "end_time": "2021-02-20T22:11:50.884282",
     "exception": false,
     "start_time": "2021-02-20T22:11:50.871686",
     "status": "completed"
    },
    "tags": []
   },
   "source": [
    "Data source: [Wisconsin Department of Health Services](https://data.dhsgis.wi.gov/datasets/covid-19-historical-data-table/)"
   ]
  },
  {
   "cell_type": "code",
   "execution_count": 9,
   "id": "proof-medicare",
   "metadata": {
    "execution": {
     "iopub.execute_input": "2021-02-20T22:11:50.914631Z",
     "iopub.status.busy": "2021-02-20T22:11:50.914013Z",
     "iopub.status.idle": "2021-02-20T22:11:50.917427Z",
     "shell.execute_reply": "2021-02-20T22:11:50.916842Z"
    },
    "jupyter": {
     "source_hidden": true
    },
    "papermill": {
     "duration": 0.020313,
     "end_time": "2021-02-20T22:11:50.917563",
     "exception": false,
     "start_time": "2021-02-20T22:11:50.897250",
     "status": "completed"
    },
    "tags": []
   },
   "outputs": [
    {
     "data": {
      "text/html": [
       "<style>\n",
       "div.input {\n",
       "    display:none;\n",
       "}\n",
       "</style>\n"
      ],
      "text/plain": [
       "<IPython.core.display.HTML object>"
      ]
     },
     "metadata": {},
     "output_type": "display_data"
    }
   ],
   "source": [
    "%%html\n",
    "<style>\n",
    "div.input {\n",
    "    display:none;\n",
    "}\n",
    "</style>"
   ]
  }
 ],
 "metadata": {
  "kernelspec": {
   "display_name": "Python 3",
   "language": "python",
   "name": "python3"
  },
  "language_info": {
   "codemirror_mode": {
    "name": "ipython",
    "version": 3
   },
   "file_extension": ".py",
   "mimetype": "text/x-python",
   "name": "python",
   "nbconvert_exporter": "python",
   "pygments_lexer": "ipython3",
   "version": "3.8.7"
  },
  "papermill": {
   "duration": 5.746414,
   "end_time": "2021-02-20T22:11:52.185223",
   "environment_variables": {},
   "exception": null,
   "input_path": "DunnCounty_COVID19.ipynb",
   "output_path": "DunnCounty_COVID19.ipynb",
   "parameters": {
    "Start": "True",
    "secretsPath": "/home/runner/work/_temp/secrets.json"
   },
   "start_time": "2021-02-20T22:11:46.438809",
   "version": "1.1.16"
  }
 },
 "nbformat": 4,
 "nbformat_minor": 5
}