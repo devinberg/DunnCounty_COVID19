{
 "cells": [
  {
   "cell_type": "code",
   "execution_count": 1,
   "id": "solar-understanding",
   "metadata": {
    "execution": {
     "iopub.execute_input": "2021-05-22T10:15:32.832846Z",
     "iopub.status.busy": "2021-05-22T10:15:32.831103Z",
     "iopub.status.idle": "2021-05-22T10:15:33.788359Z",
     "shell.execute_reply": "2021-05-22T10:15:33.789109Z"
    },
    "jupyter": {
     "source_hidden": true
    },
    "papermill": {
     "duration": 0.976877,
     "end_time": "2021-05-22T10:15:33.789386",
     "exception": false,
     "start_time": "2021-05-22T10:15:32.812509",
     "status": "completed"
    },
    "scrolled": true,
    "tags": [
     "hide-input"
    ]
   },
   "outputs": [],
   "source": [
    "import pandas as pd\n",
    "import matplotlib.pyplot as plt\n",
    "from matplotlib import dates\n",
    "from IPython.display import display, Markdown\n",
    "%matplotlib inline"
   ]
  },
  {
   "cell_type": "code",
   "execution_count": 2,
   "id": "purple-playlist",
   "metadata": {
    "execution": {
     "iopub.execute_input": "2021-05-22T10:15:33.815348Z",
     "iopub.status.busy": "2021-05-22T10:15:33.814621Z",
     "iopub.status.idle": "2021-05-22T10:15:34.896383Z",
     "shell.execute_reply": "2021-05-22T10:15:34.895503Z"
    },
    "jupyter": {
     "source_hidden": true
    },
    "papermill": {
     "duration": 1.097255,
     "end_time": "2021-05-22T10:15:34.896531",
     "exception": false,
     "start_time": "2021-05-22T10:15:33.799276",
     "status": "completed"
    },
    "scrolled": true,
    "tags": [
     "hide-input"
    ]
   },
   "outputs": [],
   "source": [
    "# This is the data for all of Wisconsin.\n",
    "url = \"https://opendata.arcgis.com/datasets/80ff9d4897db4d7692f0f4ad28447cab_12.csv\"\n",
    "data = pd.read_csv(url, parse_dates=['DATE'], low_memory=False)"
   ]
  },
  {
   "cell_type": "code",
   "execution_count": 3,
   "id": "proprietary-klein",
   "metadata": {
    "execution": {
     "iopub.execute_input": "2021-05-22T10:15:34.922746Z",
     "iopub.status.busy": "2021-05-22T10:15:34.922168Z",
     "iopub.status.idle": "2021-05-22T10:15:34.931522Z",
     "shell.execute_reply": "2021-05-22T10:15:34.930941Z"
    },
    "jupyter": {
     "source_hidden": true
    },
    "papermill": {
     "duration": 0.025261,
     "end_time": "2021-05-22T10:15:34.931639",
     "exception": false,
     "start_time": "2021-05-22T10:15:34.906378",
     "status": "completed"
    },
    "scrolled": true,
    "tags": [
     "hide-input"
    ]
   },
   "outputs": [],
   "source": [
    "dc = data.groupby('NAME').get_group('Dunn').sort_values(by='DATE') # Select the data for Dunn County from the full data.\n",
    "PNi = dc.columns.get_loc(\"POS_NEW\")\n",
    "dc['7_DAY'] = dc.iloc[:,PNi].rolling(window=7).mean() # Calculates the rolling 7-day average of new cases.\n",
    "dc['14_DAY'] = dc.iloc[:,PNi].rolling(window=14).mean() # Calculates the rolling 14-day average of new cases."
   ]
  },
  {
   "cell_type": "code",
   "execution_count": 4,
   "id": "steady-supervision",
   "metadata": {
    "execution": {
     "iopub.execute_input": "2021-05-22T10:15:34.956335Z",
     "iopub.status.busy": "2021-05-22T10:15:34.955746Z",
     "iopub.status.idle": "2021-05-22T10:15:34.962208Z",
     "shell.execute_reply": "2021-05-22T10:15:34.961710Z"
    },
    "jupyter": {
     "source_hidden": true
    },
    "papermill": {
     "duration": 0.021572,
     "end_time": "2021-05-22T10:15:34.962321",
     "exception": false,
     "start_time": "2021-05-22T10:15:34.940749",
     "status": "completed"
    },
    "scrolled": true,
    "tags": [
     "hide-input"
    ]
   },
   "outputs": [
    {
     "data": {
      "text/markdown": [
       "### Last updated: May 21, 2021"
      ],
      "text/plain": [
       "<IPython.core.display.Markdown object>"
      ]
     },
     "metadata": {},
     "output_type": "display_data"
    }
   ],
   "source": [
    "display(Markdown('### Last updated: ' + dc.iloc[-1]['DATE'].strftime(\"%B %d, %Y\")))"
   ]
  },
  {
   "cell_type": "code",
   "execution_count": 5,
   "id": "lonely-pitch",
   "metadata": {
    "execution": {
     "iopub.execute_input": "2021-05-22T10:15:34.987942Z",
     "iopub.status.busy": "2021-05-22T10:15:34.986829Z",
     "iopub.status.idle": "2021-05-22T10:15:34.990088Z",
     "shell.execute_reply": "2021-05-22T10:15:34.990556Z"
    },
    "jupyter": {
     "source_hidden": true
    },
    "papermill": {
     "duration": 0.018601,
     "end_time": "2021-05-22T10:15:34.990685",
     "exception": false,
     "start_time": "2021-05-22T10:15:34.972084",
     "status": "completed"
    },
    "tags": [
     "hide-input"
    ]
   },
   "outputs": [
    {
     "data": {
      "text/markdown": [
       "# Dunn County has 4674 total positive cases, with 2 new cases reported today."
      ],
      "text/plain": [
       "<IPython.core.display.Markdown object>"
      ]
     },
     "metadata": {},
     "output_type": "display_data"
    }
   ],
   "source": [
    "display(Markdown('# Dunn County has ' + str(dc.iloc[-1]['POSITIVE']) + ' total positive cases, with '+ str(int(dc.iloc[-1]['POS_NEW'])) + ' new cases reported today.'))"
   ]
  },
  {
   "cell_type": "code",
   "execution_count": 6,
   "id": "compound-nightmare",
   "metadata": {
    "execution": {
     "iopub.execute_input": "2021-05-22T10:15:35.015749Z",
     "iopub.status.busy": "2021-05-22T10:15:35.015163Z",
     "iopub.status.idle": "2021-05-22T10:15:35.315635Z",
     "shell.execute_reply": "2021-05-22T10:15:35.316091Z"
    },
    "jupyter": {
     "source_hidden": true
    },
    "papermill": {
     "duration": 0.315723,
     "end_time": "2021-05-22T10:15:35.316265",
     "exception": false,
     "start_time": "2021-05-22T10:15:35.000542",
     "status": "completed"
    },
    "scrolled": false,
    "tags": [
     "hide-input"
    ]
   },
   "outputs": [
    {
     "data": {
      "image/png": "[encoded data removed]",
      "text/plain": [
       "<Figure size 864x432 with 1 Axes>"
      ]
     },
     "metadata": {
      "needs_background": "light"
     },
     "output_type": "display_data"
    }
   ],
   "source": [
    "dc.plot(x='DATE',y='POSITIVE',color='red',grid='True',figsize=(12,6)).set_xlabel('Date');"
   ]
  },
  {
   "cell_type": "markdown",
   "id": "coupled-literacy",
   "metadata": {
    "papermill": {
     "duration": 0.010775,
     "end_time": "2021-05-22T10:15:35.338406",
     "exception": false,
     "start_time": "2021-05-22T10:15:35.327631",
     "status": "completed"
    },
    "tags": []
   },
   "source": [
    "## Figure 1: Cummulative number of positive cases."
   ]
  },
  {
   "cell_type": "code",
   "execution_count": 7,
   "id": "surrounded-reserve",
   "metadata": {
    "execution": {
     "iopub.execute_input": "2021-05-22T10:15:35.365270Z",
     "iopub.status.busy": "2021-05-22T10:15:35.364686Z",
     "iopub.status.idle": "2021-05-22T10:15:35.619207Z",
     "shell.execute_reply": "2021-05-22T10:15:35.619671Z"
    },
    "jupyter": {
     "source_hidden": true
    },
    "papermill": {
     "duration": 0.270542,
     "end_time": "2021-05-22T10:15:35.619842",
     "exception": false,
     "start_time": "2021-05-22T10:15:35.349300",
     "status": "completed"
    },
    "scrolled": false,
    "tags": [
     "hide-input"
    ]
   },
   "outputs": [
    {
     "data": {
      "image/png": "[encoded data removed]",
      "text/plain": [
       "<Figure size 864x432 with 1 Axes>"
      ]
     },
     "metadata": {
      "needs_background": "light"
     },
     "output_type": "display_data"
    }
   ],
   "source": [
    "dc.plot(kind='line',x='DATE',y='7_DAY',color='blue',grid='True',figsize=(12,6)).set_xlabel('Date');"
   ]
  },
  {
   "cell_type": "markdown",
   "id": "professional-savannah",
   "metadata": {
    "papermill": {
     "duration": 0.012597,
     "end_time": "2021-05-22T10:15:35.645010",
     "exception": false,
     "start_time": "2021-05-22T10:15:35.632413",
     "status": "completed"
    },
    "tags": []
   },
   "source": [
    "## Figure 2: Rolling 7-day average of daily new cases."
   ]
  },
  {
   "cell_type": "code",
   "execution_count": 8,
   "id": "stretch-investor",
   "metadata": {
    "execution": {
     "iopub.execute_input": "2021-05-22T10:15:35.674128Z",
     "iopub.status.busy": "2021-05-22T10:15:35.673540Z",
     "iopub.status.idle": "2021-05-22T10:15:35.927990Z",
     "shell.execute_reply": "2021-05-22T10:15:35.927421Z"
    },
    "jupyter": {
     "source_hidden": true
    },
    "papermill": {
     "duration": 0.270777,
     "end_time": "2021-05-22T10:15:35.928127",
     "exception": false,
     "start_time": "2021-05-22T10:15:35.657350",
     "status": "completed"
    },
    "tags": []
   },
   "outputs": [
    {
     "data": {
      "image/png": "[encoded data removed]",
      "text/plain": [
       "<Figure size 864x432 with 1 Axes>"
      ]
     },
     "metadata": {
      "needs_background": "light"
     },
     "output_type": "display_data"
    }
   ],
   "source": [
    "dc.plot(kind='line',x='DATE',y='14_DAY',color='green',grid='True',figsize=(12,6)).set_xlabel('Date');"
   ]
  },
  {
   "cell_type": "markdown",
   "id": "prerequisite-species",
   "metadata": {
    "papermill": {
     "duration": 0.013699,
     "end_time": "2021-05-22T10:15:35.955144",
     "exception": false,
     "start_time": "2021-05-22T10:15:35.941445",
     "status": "completed"
    },
    "tags": []
   },
   "source": [
    "## Figure 3: Rolling 14-day average of daily new cases."
   ]
  },
  {
   "cell_type": "markdown",
   "id": "palestinian-guard",
   "metadata": {
    "papermill": {
     "duration": 0.012953,
     "end_time": "2021-05-22T10:15:35.981065",
     "exception": false,
     "start_time": "2021-05-22T10:15:35.968112",
     "status": "completed"
    },
    "tags": []
   },
   "source": [
    "Data source: [Wisconsin Department of Health Services](https://data.dhsgis.wi.gov/datasets/covid-19-historical-data-by-county)"
   ]
  },
  {
   "cell_type": "code",
   "execution_count": 9,
   "id": "proof-medicare",
   "metadata": {
    "execution": {
     "iopub.execute_input": "2021-05-22T10:15:36.015210Z",
     "iopub.status.busy": "2021-05-22T10:15:36.014580Z",
     "iopub.status.idle": "2021-05-22T10:15:36.017768Z",
     "shell.execute_reply": "2021-05-22T10:15:36.018247Z"
    },
    "jupyter": {
     "source_hidden": true
    },
    "papermill": {
     "duration": 0.023179,
     "end_time": "2021-05-22T10:15:36.018390",
     "exception": false,
     "start_time": "2021-05-22T10:15:35.995211",
     "status": "completed"
    },
    "tags": []
   },
   "outputs": [
    {
     "data": {
      "text/html": [
       "<style>\n",
       "div.input {\n",
       "    display:none;\n",
       "}\n",
       "</style>\n"
      ],
      "text/plain": [
       "<IPython.core.display.HTML object>"
      ]
     },
     "metadata": {},
     "output_type": "display_data"
    }
   ],
   "source": [
    "%%html\n",
    "<style>\n",
    "div.input {\n",
    "    display:none;\n",
    "}\n",
    "</style>"
   ]
  }
 ],
 "metadata": {
  "kernelspec": {
   "display_name": "Python 3",
   "language": "python",
   "name": "python3"
  },
  "language_info": {
   "codemirror_mode": {
    "name": "ipython",
    "version": 3
   },
   "file_extension": ".py",
   "mimetype": "text/x-python",
   "name": "python",
   "nbconvert_exporter": "python",
   "pygments_lexer": "ipython3",
   "version": "3.8.10"
  },
  "papermill": {
   "duration": 4.662702,
   "end_time": "2021-05-22T10:15:36.338348",
   "environment_variables": {},
   "exception": null,
   "input_path": "DunnCounty_COVID19.ipynb",
   "output_path": "DunnCounty_COVID19.ipynb",
   "parameters": {
    "Start": "True",
    "secretsPath": "/home/runner/work/_temp/secrets.json"
   },
   "start_time": "2021-05-22T10:15:31.675646",
   "version": "1.1.16"
  }
 },
 "nbformat": 4,
 "nbformat_minor": 5
}