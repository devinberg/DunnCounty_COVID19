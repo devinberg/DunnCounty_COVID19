{
 "cells": [
  {
   "cell_type": "code",
   "execution_count": 1,
   "metadata": {
    "execution": {
     "iopub.execute_input": "2020-12-05T10:11:43.885141Z",
     "iopub.status.busy": "2020-12-05T10:11:43.884550Z",
     "iopub.status.idle": "2020-12-05T10:11:45.087373Z",
     "shell.execute_reply": "2020-12-05T10:11:45.086161Z"
    },
    "jupyter": {
     "source_hidden": true
    },
    "papermill": {
     "duration": 1.219824,
     "end_time": "2020-12-05T10:11:45.087593",
     "exception": false,
     "start_time": "2020-12-05T10:11:43.867769",
     "status": "completed"
    },
    "scrolled": true,
    "tags": [
     "hide-input"
    ]
   },
   "outputs": [],
   "source": [
    "import pandas as pd\n",
    "import matplotlib.pyplot as plt\n",
    "from matplotlib import dates\n",
    "from IPython.display import display, Markdown\n",
    "%matplotlib inline"
   ]
  },
  {
   "cell_type": "code",
   "execution_count": 2,
   "metadata": {
    "execution": {
     "iopub.execute_input": "2020-12-05T10:11:45.107492Z",
     "iopub.status.busy": "2020-12-05T10:11:45.106921Z",
     "iopub.status.idle": "2020-12-05T10:11:46.020583Z",
     "shell.execute_reply": "2020-12-05T10:11:46.019899Z"
    },
    "jupyter": {
     "source_hidden": true
    },
    "papermill": {
     "duration": 0.925731,
     "end_time": "2020-12-05T10:11:46.020769",
     "exception": false,
     "start_time": "2020-12-05T10:11:45.095038",
     "status": "completed"
    },
    "scrolled": true,
    "tags": [
     "hide-input"
    ]
   },
   "outputs": [],
   "source": [
    "# This is the data for all of Wisconsin.\n",
    "url = \"https://opendata.arcgis.com/datasets/5374188992374b318d3e2305216ee413_12.csv\"\n",
    "data = pd.read_csv(url, parse_dates=['DATE'], low_memory=False)"
   ]
  },
  {
   "cell_type": "code",
   "execution_count": 3,
   "metadata": {
    "execution": {
     "iopub.execute_input": "2020-12-05T10:11:46.045208Z",
     "iopub.status.busy": "2020-12-05T10:11:46.044612Z",
     "iopub.status.idle": "2020-12-05T10:11:46.053735Z",
     "shell.execute_reply": "2020-12-05T10:11:46.053264Z"
    },
    "jupyter": {
     "source_hidden": true
    },
    "papermill": {
     "duration": 0.022101,
     "end_time": "2020-12-05T10:11:46.053861",
     "exception": false,
     "start_time": "2020-12-05T10:11:46.031760",
     "status": "completed"
    },
    "scrolled": true,
    "tags": [
     "hide-input"
    ]
   },
   "outputs": [],
   "source": [
    "dc = data.groupby('NAME').get_group('Dunn').sort_values(by='DATE') # Select the data for Dunn County from the full data.\n",
    "PNi = dc.columns.get_loc(\"POS_NEW\")\n",
    "dc['7_DAY'] = dc.iloc[:,PNi].rolling(window=7).mean() # Calculates the rolling 7-day average of new cases.\n",
    "dc['14_DAY'] = dc.iloc[:,PNi].rolling(window=14).mean() # Calculates the rolling 14-day average of new cases."
   ]
  },
  {
   "cell_type": "code",
   "execution_count": 4,
   "metadata": {
    "execution": {
     "iopub.execute_input": "2020-12-05T10:11:46.078024Z",
     "iopub.status.busy": "2020-12-05T10:11:46.076821Z",
     "iopub.status.idle": "2020-12-05T10:11:46.081237Z",
     "shell.execute_reply": "2020-12-05T10:11:46.081888Z"
    },
    "jupyter": {
     "source_hidden": true
    },
    "papermill": {
     "duration": 0.021233,
     "end_time": "2020-12-05T10:11:46.082031",
     "exception": false,
     "start_time": "2020-12-05T10:11:46.060798",
     "status": "completed"
    },
    "scrolled": true,
    "tags": [
     "hide-input"
    ]
   },
   "outputs": [
    {
     "data": {
      "text/markdown": [
       "### Last updated: December 04, 2020"
      ],
      "text/plain": [
       "<IPython.core.display.Markdown object>"
      ]
     },
     "metadata": {},
     "output_type": "display_data"
    }
   ],
   "source": [
    "display(Markdown('### Last updated: ' + dc.iloc[-1]['DATE'].strftime(\"%B %d, %Y\")))"
   ]
  },
  {
   "cell_type": "code",
   "execution_count": 5,
   "metadata": {
    "execution": {
     "iopub.execute_input": "2020-12-05T10:11:46.102058Z",
     "iopub.status.busy": "2020-12-05T10:11:46.100951Z",
     "iopub.status.idle": "2020-12-05T10:11:46.104127Z",
     "shell.execute_reply": "2020-12-05T10:11:46.104558Z"
    },
    "jupyter": {
     "source_hidden": true
    },
    "papermill": {
     "duration": 0.015265,
     "end_time": "2020-12-05T10:11:46.104692",
     "exception": false,
     "start_time": "2020-12-05T10:11:46.089427",
     "status": "completed"
    },
    "tags": [
     "hide-input"
    ]
   },
   "outputs": [
    {
     "data": {
      "text/markdown": [
       "# Dunn County has 2931 total positive cases, with 45 new cases reported today."
      ],
      "text/plain": [
       "<IPython.core.display.Markdown object>"
      ]
     },
     "metadata": {},
     "output_type": "display_data"
    }
   ],
   "source": [
    "display(Markdown('# Dunn County has ' + str(dc.iloc[-1]['POSITIVE']) + ' total positive cases, with '+ str(int(dc.iloc[-1]['POS_NEW'])) + ' new cases reported today.'))"
   ]
  },
  {
   "cell_type": "code",
   "execution_count": 6,
   "metadata": {
    "execution": {
     "iopub.execute_input": "2020-12-05T10:11:46.124067Z",
     "iopub.status.busy": "2020-12-05T10:11:46.123478Z",
     "iopub.status.idle": "2020-12-05T10:11:46.355744Z",
     "shell.execute_reply": "2020-12-05T10:11:46.356167Z"
    },
    "jupyter": {
     "source_hidden": true
    },
    "papermill": {
     "duration": 0.24405,
     "end_time": "2020-12-05T10:11:46.356344",
     "exception": false,
     "start_time": "2020-12-05T10:11:46.112294",
     "status": "completed"
    },
    "scrolled": false,
    "tags": [
     "hide-input"
    ]
   },
   "outputs": [
    {
     "data": {
      "image/png": "[encoded data removed]",
      "text/plain": [
       "<Figure size 864x432 with 1 Axes>"
      ]
     },
     "metadata": {
      "needs_background": "light"
     },
     "output_type": "display_data"
    }
   ],
   "source": [
    "dc.plot(x='DATE',y='POSITIVE',color='red',grid='True',figsize=(12,6)).set_xlabel('Date');"
   ]
  },
  {
   "cell_type": "markdown",
   "metadata": {
    "papermill": {
     "duration": 0.008718,
     "end_time": "2020-12-05T10:11:46.374112",
     "exception": false,
     "start_time": "2020-12-05T10:11:46.365394",
     "status": "completed"
    },
    "tags": []
   },
   "source": [
    "## Figure 1: Cummulative number of positive cases."
   ]
  },
  {
   "cell_type": "code",
   "execution_count": 7,
   "metadata": {
    "execution": {
     "iopub.execute_input": "2020-12-05T10:11:46.396047Z",
     "iopub.status.busy": "2020-12-05T10:11:46.395504Z",
     "iopub.status.idle": "2020-12-05T10:11:46.615993Z",
     "shell.execute_reply": "2020-12-05T10:11:46.615512Z"
    },
    "jupyter": {
     "source_hidden": true
    },
    "papermill": {
     "duration": 0.233433,
     "end_time": "2020-12-05T10:11:46.616134",
     "exception": false,
     "start_time": "2020-12-05T10:11:46.382701",
     "status": "completed"
    },
    "scrolled": false,
    "tags": [
     "hide-input"
    ]
   },
   "outputs": [
    {
     "data": {
      "image/png": "[encoded data removed]",
      "text/plain": [
       "<Figure size 864x432 with 1 Axes>"
      ]
     },
     "metadata": {
      "needs_background": "light"
     },
     "output_type": "display_data"
    }
   ],
   "source": [
    "dc.plot(kind='line',x='DATE',y='7_DAY',color='blue',grid='True',figsize=(12,6)).set_xlabel('Date');"
   ]
  },
  {
   "cell_type": "markdown",
   "metadata": {
    "papermill": {
     "duration": 0.009959,
     "end_time": "2020-12-05T10:11:46.635894",
     "exception": false,
     "start_time": "2020-12-05T10:11:46.625935",
     "status": "completed"
    },
    "tags": []
   },
   "source": [
    "## Figure 2: Rolling 7-day average of daily new cases."
   ]
  },
  {
   "cell_type": "code",
   "execution_count": 8,
   "metadata": {
    "execution": {
     "iopub.execute_input": "2020-12-05T10:11:46.661285Z",
     "iopub.status.busy": "2020-12-05T10:11:46.660709Z",
     "iopub.status.idle": "2020-12-05T10:11:46.878224Z",
     "shell.execute_reply": "2020-12-05T10:11:46.877749Z"
    },
    "jupyter": {
     "source_hidden": true
    },
    "papermill": {
     "duration": 0.233009,
     "end_time": "2020-12-05T10:11:46.878366",
     "exception": false,
     "start_time": "2020-12-05T10:11:46.645357",
     "status": "completed"
    },
    "tags": []
   },
   "outputs": [
    {
     "data": {
      "image/png": "[encoded data removed]",
      "text/plain": [
       "<Figure size 864x432 with 1 Axes>"
      ]
     },
     "metadata": {
      "needs_background": "light"
     },
     "output_type": "display_data"
    }
   ],
   "source": [
    "dc.plot(kind='line',x='DATE',y='14_DAY',color='green',grid='True',figsize=(12,6)).set_xlabel('Date');"
   ]
  },
  {
   "cell_type": "markdown",
   "metadata": {
    "papermill": {
     "duration": 0.010831,
     "end_time": "2020-12-05T10:11:46.899986",
     "exception": false,
     "start_time": "2020-12-05T10:11:46.889155",
     "status": "completed"
    },
    "tags": []
   },
   "source": [
    "## Figure 3: Rolling 14-day average of daily new cases."
   ]
  },
  {
   "cell_type": "markdown",
   "metadata": {
    "papermill": {
     "duration": 0.010382,
     "end_time": "2020-12-05T10:11:46.920804",
     "exception": false,
     "start_time": "2020-12-05T10:11:46.910422",
     "status": "completed"
    },
    "tags": []
   },
   "source": [
    "Data source: [Wisconsin Department of Health Services](https://data.dhsgis.wi.gov/datasets/covid-19-historical-data-table/)"
   ]
  },
  {
   "cell_type": "code",
   "execution_count": 9,
   "metadata": {
    "execution": {
     "iopub.execute_input": "2020-12-05T10:11:46.947581Z",
     "iopub.status.busy": "2020-12-05T10:11:46.947040Z",
     "iopub.status.idle": "2020-12-05T10:11:46.950192Z",
     "shell.execute_reply": "2020-12-05T10:11:46.950627Z"
    },
    "jupyter": {
     "source_hidden": true
    },
    "papermill": {
     "duration": 0.019489,
     "end_time": "2020-12-05T10:11:46.950778",
     "exception": false,
     "start_time": "2020-12-05T10:11:46.931289",
     "status": "completed"
    },
    "tags": []
   },
   "outputs": [
    {
     "data": {
      "text/html": [
       "<style>\n",
       "div.input {\n",
       "    display:none;\n",
       "}\n",
       "</style>\n"
      ],
      "text/plain": [
       "<IPython.core.display.HTML object>"
      ]
     },
     "metadata": {},
     "output_type": "display_data"
    }
   ],
   "source": [
    "%%html\n",
    "<style>\n",
    "div.input {\n",
    "    display:none;\n",
    "}\n",
    "</style>"
   ]
  }
 ],
 "metadata": {
  "kernelspec": {
   "display_name": "Python 3",
   "language": "python",
   "name": "python3"
  },
  "language_info": {
   "codemirror_mode": {
    "name": "ipython",
    "version": 3
   },
   "file_extension": ".py",
   "mimetype": "text/x-python",
   "name": "python",
   "nbconvert_exporter": "python",
   "pygments_lexer": "ipython3",
   "version": "3.8.6"
  },
  "papermill": {
   "duration": 5.373486,
   "end_time": "2020-12-05T10:11:47.268557",
   "environment_variables": {},
   "exception": null,
   "input_path": "DunnCounty_COVID19.ipynb",
   "output_path": "DunnCounty_COVID19.ipynb",
   "parameters": {
    "Start": "True",
    "secretsPath": "/home/runner/work/_temp/secrets.json"
   },
   "start_time": "2020-12-05T10:11:41.895071",
   "version": "1.1.16"
  }
 },
 "nbformat": 4,
 "nbformat_minor": 2
}