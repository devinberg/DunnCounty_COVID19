{
 "cells": [
  {
   "cell_type": "code",
   "execution_count": 1,
   "id": "solar-understanding",
   "metadata": {
    "execution": {
     "iopub.execute_input": "2021-04-02T22:17:56.356587Z",
     "iopub.status.busy": "2021-04-02T22:17:56.356017Z",
     "iopub.status.idle": "2021-04-02T22:17:57.483179Z",
     "shell.execute_reply": "2021-04-02T22:17:57.482183Z"
    },
    "jupyter": {
     "source_hidden": true
    },
    "papermill": {
     "duration": 1.148304,
     "end_time": "2021-04-02T22:17:57.483356",
     "exception": false,
     "start_time": "2021-04-02T22:17:56.335052",
     "status": "completed"
    },
    "scrolled": true,
    "tags": [
     "hide-input"
    ]
   },
   "outputs": [],
   "source": [
    "import pandas as pd\n",
    "import matplotlib.pyplot as plt\n",
    "from matplotlib import dates\n",
    "from IPython.display import display, Markdown\n",
    "%matplotlib inline"
   ]
  },
  {
   "cell_type": "code",
   "execution_count": 2,
   "id": "purple-playlist",
   "metadata": {
    "execution": {
     "iopub.execute_input": "2021-04-02T22:17:57.509653Z",
     "iopub.status.busy": "2021-04-02T22:17:57.509061Z",
     "iopub.status.idle": "2021-04-02T22:17:58.194802Z",
     "shell.execute_reply": "2021-04-02T22:17:58.194099Z"
    },
    "jupyter": {
     "source_hidden": true
    },
    "papermill": {
     "duration": 0.701319,
     "end_time": "2021-04-02T22:17:58.194952",
     "exception": false,
     "start_time": "2021-04-02T22:17:57.493633",
     "status": "completed"
    },
    "scrolled": true,
    "tags": [
     "hide-input"
    ]
   },
   "outputs": [],
   "source": [
    "# This is the data for all of Wisconsin.\n",
    "url = \"https://opendata.arcgis.com/datasets/5374188992374b318d3e2305216ee413_12.csv\"\n",
    "data = pd.read_csv(url, parse_dates=['DATE'], low_memory=False)"
   ]
  },
  {
   "cell_type": "code",
   "execution_count": 3,
   "id": "proprietary-klein",
   "metadata": {
    "execution": {
     "iopub.execute_input": "2021-04-02T22:17:58.222136Z",
     "iopub.status.busy": "2021-04-02T22:17:58.221529Z",
     "iopub.status.idle": "2021-04-02T22:17:58.230487Z",
     "shell.execute_reply": "2021-04-02T22:17:58.229916Z"
    },
    "jupyter": {
     "source_hidden": true
    },
    "papermill": {
     "duration": 0.025287,
     "end_time": "2021-04-02T22:17:58.230599",
     "exception": false,
     "start_time": "2021-04-02T22:17:58.205312",
     "status": "completed"
    },
    "scrolled": true,
    "tags": [
     "hide-input"
    ]
   },
   "outputs": [],
   "source": [
    "dc = data.groupby('NAME').get_group('Dunn').sort_values(by='DATE') # Select the data for Dunn County from the full data.\n",
    "PNi = dc.columns.get_loc(\"POS_NEW\")\n",
    "dc['7_DAY'] = dc.iloc[:,PNi].rolling(window=7).mean() # Calculates the rolling 7-day average of new cases.\n",
    "dc['14_DAY'] = dc.iloc[:,PNi].rolling(window=14).mean() # Calculates the rolling 14-day average of new cases."
   ]
  },
  {
   "cell_type": "code",
   "execution_count": 4,
   "id": "steady-supervision",
   "metadata": {
    "execution": {
     "iopub.execute_input": "2021-04-02T22:17:58.257090Z",
     "iopub.status.busy": "2021-04-02T22:17:58.256434Z",
     "iopub.status.idle": "2021-04-02T22:17:58.259292Z",
     "shell.execute_reply": "2021-04-02T22:17:58.259765Z"
    },
    "jupyter": {
     "source_hidden": true
    },
    "papermill": {
     "duration": 0.018714,
     "end_time": "2021-04-02T22:17:58.259891",
     "exception": false,
     "start_time": "2021-04-02T22:17:58.241177",
     "status": "completed"
    },
    "scrolled": true,
    "tags": [
     "hide-input"
    ]
   },
   "outputs": [
    {
     "data": {
      "text/markdown": [
       "### Last updated: April 02, 2021"
      ],
      "text/plain": [
       "<IPython.core.display.Markdown object>"
      ]
     },
     "metadata": {},
     "output_type": "display_data"
    }
   ],
   "source": [
    "display(Markdown('### Last updated: ' + dc.iloc[-1]['DATE'].strftime(\"%B %d, %Y\")))"
   ]
  },
  {
   "cell_type": "code",
   "execution_count": 5,
   "id": "lonely-pitch",
   "metadata": {
    "execution": {
     "iopub.execute_input": "2021-04-02T22:17:58.283791Z",
     "iopub.status.busy": "2021-04-02T22:17:58.283144Z",
     "iopub.status.idle": "2021-04-02T22:17:58.286545Z",
     "shell.execute_reply": "2021-04-02T22:17:58.285973Z"
    },
    "jupyter": {
     "source_hidden": true
    },
    "papermill": {
     "duration": 0.01753,
     "end_time": "2021-04-02T22:17:58.286655",
     "exception": false,
     "start_time": "2021-04-02T22:17:58.269125",
     "status": "completed"
    },
    "tags": [
     "hide-input"
    ]
   },
   "outputs": [
    {
     "data": {
      "text/markdown": [
       "# Dunn County has 4417 total positive cases, with 20 new cases reported today."
      ],
      "text/plain": [
       "<IPython.core.display.Markdown object>"
      ]
     },
     "metadata": {},
     "output_type": "display_data"
    }
   ],
   "source": [
    "display(Markdown('# Dunn County has ' + str(dc.iloc[-1]['POSITIVE']) + ' total positive cases, with '+ str(int(dc.iloc[-1]['POS_NEW'])) + ' new cases reported today.'))"
   ]
  },
  {
   "cell_type": "code",
   "execution_count": 6,
   "id": "compound-nightmare",
   "metadata": {
    "execution": {
     "iopub.execute_input": "2021-04-02T22:17:58.311715Z",
     "iopub.status.busy": "2021-04-02T22:17:58.311111Z",
     "iopub.status.idle": "2021-04-02T22:17:58.610549Z",
     "shell.execute_reply": "2021-04-02T22:17:58.610997Z"
    },
    "jupyter": {
     "source_hidden": true
    },
    "papermill": {
     "duration": 0.314185,
     "end_time": "2021-04-02T22:17:58.611150",
     "exception": false,
     "start_time": "2021-04-02T22:17:58.296965",
     "status": "completed"
    },
    "scrolled": false,
    "tags": [
     "hide-input"
    ]
   },
   "outputs": [
    {
     "data": {
      "image/png": "[encoded data removed]",
      "text/plain": [
       "<Figure size 864x432 with 1 Axes>"
      ]
     },
     "metadata": {
      "needs_background": "light"
     },
     "output_type": "display_data"
    }
   ],
   "source": [
    "dc.plot(x='DATE',y='POSITIVE',color='red',grid='True',figsize=(12,6)).set_xlabel('Date');"
   ]
  },
  {
   "cell_type": "markdown",
   "id": "coupled-literacy",
   "metadata": {
    "papermill": {
     "duration": 0.011586,
     "end_time": "2021-04-02T22:17:58.634245",
     "exception": false,
     "start_time": "2021-04-02T22:17:58.622659",
     "status": "completed"
    },
    "tags": []
   },
   "source": [
    "## Figure 1: Cummulative number of positive cases."
   ]
  },
  {
   "cell_type": "code",
   "execution_count": 7,
   "id": "surrounded-reserve",
   "metadata": {
    "execution": {
     "iopub.execute_input": "2021-04-02T22:17:58.677792Z",
     "iopub.status.busy": "2021-04-02T22:17:58.659041Z",
     "iopub.status.idle": "2021-04-02T22:17:58.881862Z",
     "shell.execute_reply": "2021-04-02T22:17:58.881353Z"
    },
    "jupyter": {
     "source_hidden": true
    },
    "papermill": {
     "duration": 0.237403,
     "end_time": "2021-04-02T22:17:58.882005",
     "exception": false,
     "start_time": "2021-04-02T22:17:58.644602",
     "status": "completed"
    },
    "scrolled": false,
    "tags": [
     "hide-input"
    ]
   },
   "outputs": [
    {
     "data": {
      "image/png": "[encoded data removed]",
      "text/plain": [
       "<Figure size 864x432 with 1 Axes>"
      ]
     },
     "metadata": {
      "needs_background": "light"
     },
     "output_type": "display_data"
    }
   ],
   "source": [
    "dc.plot(kind='line',x='DATE',y='7_DAY',color='blue',grid='True',figsize=(12,6)).set_xlabel('Date');"
   ]
  },
  {
   "cell_type": "markdown",
   "id": "professional-savannah",
   "metadata": {
    "papermill": {
     "duration": 0.012547,
     "end_time": "2021-04-02T22:17:58.906750",
     "exception": false,
     "start_time": "2021-04-02T22:17:58.894203",
     "status": "completed"
    },
    "tags": []
   },
   "source": [
    "## Figure 2: Rolling 7-day average of daily new cases."
   ]
  },
  {
   "cell_type": "code",
   "execution_count": 8,
   "id": "stretch-investor",
   "metadata": {
    "execution": {
     "iopub.execute_input": "2021-04-02T22:17:58.933181Z",
     "iopub.status.busy": "2021-04-02T22:17:58.932568Z",
     "iopub.status.idle": "2021-04-02T22:17:59.157917Z",
     "shell.execute_reply": "2021-04-02T22:17:59.158484Z"
    },
    "jupyter": {
     "source_hidden": true
    },
    "papermill": {
     "duration": 0.24149,
     "end_time": "2021-04-02T22:17:59.158681",
     "exception": false,
     "start_time": "2021-04-02T22:17:58.917191",
     "status": "completed"
    },
    "tags": []
   },
   "outputs": [
    {
     "data": {
      "image/png": "[encoded data removed]",
      "text/plain": [
       "<Figure size 864x432 with 1 Axes>"
      ]
     },
     "metadata": {
      "needs_background": "light"
     },
     "output_type": "display_data"
    }
   ],
   "source": [
    "dc.plot(kind='line',x='DATE',y='14_DAY',color='green',grid='True',figsize=(12,6)).set_xlabel('Date');"
   ]
  },
  {
   "cell_type": "markdown",
   "id": "prerequisite-species",
   "metadata": {
    "papermill": {
     "duration": 0.012079,
     "end_time": "2021-04-02T22:17:59.184361",
     "exception": false,
     "start_time": "2021-04-02T22:17:59.172282",
     "status": "completed"
    },
    "tags": []
   },
   "source": [
    "## Figure 3: Rolling 14-day average of daily new cases."
   ]
  },
  {
   "cell_type": "markdown",
   "id": "palestinian-guard",
   "metadata": {
    "papermill": {
     "duration": 0.014855,
     "end_time": "2021-04-02T22:17:59.212739",
     "exception": false,
     "start_time": "2021-04-02T22:17:59.197884",
     "status": "completed"
    },
    "tags": []
   },
   "source": [
    "Data source: [Wisconsin Department of Health Services](https://data.dhsgis.wi.gov/datasets/covid-19-historical-data-table/)"
   ]
  },
  {
   "cell_type": "code",
   "execution_count": 9,
   "id": "proof-medicare",
   "metadata": {
    "execution": {
     "iopub.execute_input": "2021-04-02T22:17:59.244610Z",
     "iopub.status.busy": "2021-04-02T22:17:59.243935Z",
     "iopub.status.idle": "2021-04-02T22:17:59.247641Z",
     "shell.execute_reply": "2021-04-02T22:17:59.247083Z"
    },
    "jupyter": {
     "source_hidden": true
    },
    "papermill": {
     "duration": 0.020799,
     "end_time": "2021-04-02T22:17:59.247756",
     "exception": false,
     "start_time": "2021-04-02T22:17:59.226957",
     "status": "completed"
    },
    "tags": []
   },
   "outputs": [
    {
     "data": {
      "text/html": [
       "<style>\n",
       "div.input {\n",
       "    display:none;\n",
       "}\n",
       "</style>\n"
      ],
      "text/plain": [
       "<IPython.core.display.HTML object>"
      ]
     },
     "metadata": {},
     "output_type": "display_data"
    }
   ],
   "source": [
    "%%html\n",
    "<style>\n",
    "div.input {\n",
    "    display:none;\n",
    "}\n",
    "</style>"
   ]
  }
 ],
 "metadata": {
  "kernelspec": {
   "display_name": "Python 3",
   "language": "python",
   "name": "python3"
  },
  "language_info": {
   "codemirror_mode": {
    "name": "ipython",
    "version": 3
   },
   "file_extension": ".py",
   "mimetype": "text/x-python",
   "name": "python",
   "nbconvert_exporter": "python",
   "pygments_lexer": "ipython3",
   "version": "3.8.8"
  },
  "papermill": {
   "duration": 4.985992,
   "end_time": "2021-04-02T22:17:59.566534",
   "environment_variables": {},
   "exception": null,
   "input_path": "DunnCounty_COVID19.ipynb",
   "output_path": "DunnCounty_COVID19.ipynb",
   "parameters": {
    "Start": "True",
    "secretsPath": "/home/runner/work/_temp/secrets.json"
   },
   "start_time": "2021-04-02T22:17:54.580542",
   "version": "1.1.16"
  }
 },
 "nbformat": 4,
 "nbformat_minor": 5
}