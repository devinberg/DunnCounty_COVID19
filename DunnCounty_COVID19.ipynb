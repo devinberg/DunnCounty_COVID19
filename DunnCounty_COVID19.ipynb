{
 "cells": [
  {
   "cell_type": "code",
   "execution_count": 1,
   "id": "solar-understanding",
   "metadata": {
    "execution": {
     "iopub.execute_input": "2021-06-16T22:11:40.670971Z",
     "iopub.status.busy": "2021-06-16T22:11:40.670458Z",
     "iopub.status.idle": "2021-06-16T22:11:41.497200Z",
     "shell.execute_reply": "2021-06-16T22:11:41.497755Z"
    },
    "jupyter": {
     "source_hidden": true
    },
    "papermill": {
     "duration": 0.845572,
     "end_time": "2021-06-16T22:11:41.498009",
     "exception": false,
     "start_time": "2021-06-16T22:11:40.652437",
     "status": "completed"
    },
    "scrolled": true,
    "tags": [
     "hide-input"
    ]
   },
   "outputs": [],
   "source": [
    "import pandas as pd\n",
    "import matplotlib.pyplot as plt\n",
    "from matplotlib import dates\n",
    "from IPython.display import display, Markdown\n",
    "%matplotlib inline"
   ]
  },
  {
   "cell_type": "code",
   "execution_count": 2,
   "id": "purple-playlist",
   "metadata": {
    "execution": {
     "iopub.execute_input": "2021-06-16T22:11:41.519743Z",
     "iopub.status.busy": "2021-06-16T22:11:41.519204Z",
     "iopub.status.idle": "2021-06-16T22:11:42.224893Z",
     "shell.execute_reply": "2021-06-16T22:11:42.224147Z"
    },
    "jupyter": {
     "source_hidden": true
    },
    "papermill": {
     "duration": 0.718499,
     "end_time": "2021-06-16T22:11:42.225067",
     "exception": false,
     "start_time": "2021-06-16T22:11:41.506568",
     "status": "completed"
    },
    "scrolled": true,
    "tags": [
     "hide-input"
    ]
   },
   "outputs": [],
   "source": [
    "# This is the data for all of Wisconsin.\n",
    "url = \"https://opendata.arcgis.com/api/v3/datasets/3161f6e01d8141c6abe85a29ff7f3d3c_12/downloads/data?format=csv&spatialRefId=3857\"\n",
    "data = pd.read_csv(url, parse_dates=['DATE'], low_memory=False)"
   ]
  },
  {
   "cell_type": "code",
   "execution_count": 3,
   "id": "proprietary-klein",
   "metadata": {
    "execution": {
     "iopub.execute_input": "2021-06-16T22:11:42.250852Z",
     "iopub.status.busy": "2021-06-16T22:11:42.250285Z",
     "iopub.status.idle": "2021-06-16T22:11:42.258889Z",
     "shell.execute_reply": "2021-06-16T22:11:42.258438Z"
    },
    "jupyter": {
     "source_hidden": true
    },
    "papermill": {
     "duration": 0.02184,
     "end_time": "2021-06-16T22:11:42.258992",
     "exception": false,
     "start_time": "2021-06-16T22:11:42.237152",
     "status": "completed"
    },
    "scrolled": true,
    "tags": [
     "hide-input"
    ]
   },
   "outputs": [],
   "source": [
    "dc = data.groupby('NAME').get_group('Dunn').sort_values(by='DATE') # Select the data for Dunn County from the full data.\n",
    "PNi = dc.columns.get_loc(\"POS_NEW\")\n",
    "dc['7_DAY'] = dc.iloc[:,PNi].rolling(window=7).mean() # Calculates the rolling 7-day average of new cases.\n",
    "dc['14_DAY'] = dc.iloc[:,PNi].rolling(window=14).mean() # Calculates the rolling 14-day average of new cases."
   ]
  },
  {
   "cell_type": "code",
   "execution_count": 4,
   "id": "steady-supervision",
   "metadata": {
    "execution": {
     "iopub.execute_input": "2021-06-16T22:11:42.281145Z",
     "iopub.status.busy": "2021-06-16T22:11:42.280657Z",
     "iopub.status.idle": "2021-06-16T22:11:42.283553Z",
     "shell.execute_reply": "2021-06-16T22:11:42.283098Z"
    },
    "jupyter": {
     "source_hidden": true
    },
    "papermill": {
     "duration": 0.016463,
     "end_time": "2021-06-16T22:11:42.283664",
     "exception": false,
     "start_time": "2021-06-16T22:11:42.267201",
     "status": "completed"
    },
    "scrolled": true,
    "tags": [
     "hide-input"
    ]
   },
   "outputs": [
    {
     "data": {
      "text/markdown": [
       "### Last updated: June 16, 2021"
      ],
      "text/plain": [
       "<IPython.core.display.Markdown object>"
      ]
     },
     "metadata": {},
     "output_type": "display_data"
    }
   ],
   "source": [
    "display(Markdown('### Last updated: ' + dc.iloc[-1]['DATE'].strftime(\"%B %d, %Y\")))"
   ]
  },
  {
   "cell_type": "code",
   "execution_count": 5,
   "id": "lonely-pitch",
   "metadata": {
    "execution": {
     "iopub.execute_input": "2021-06-16T22:11:42.304977Z",
     "iopub.status.busy": "2021-06-16T22:11:42.304416Z",
     "iopub.status.idle": "2021-06-16T22:11:42.308826Z",
     "shell.execute_reply": "2021-06-16T22:11:42.308289Z"
    },
    "jupyter": {
     "source_hidden": true
    },
    "papermill": {
     "duration": 0.017013,
     "end_time": "2021-06-16T22:11:42.308938",
     "exception": false,
     "start_time": "2021-06-16T22:11:42.291925",
     "status": "completed"
    },
    "tags": [
     "hide-input"
    ]
   },
   "outputs": [
    {
     "data": {
      "text/markdown": [
       "# Dunn County has 4696 total positive cases, with 1 new cases reported today."
      ],
      "text/plain": [
       "<IPython.core.display.Markdown object>"
      ]
     },
     "metadata": {},
     "output_type": "display_data"
    }
   ],
   "source": [
    "display(Markdown('# Dunn County has ' + str(dc.iloc[-1]['POSITIVE']) + ' total positive cases, with '+ str(int(dc.iloc[-1]['POS_NEW'])) + ' new cases reported today.'))"
   ]
  },
  {
   "cell_type": "code",
   "execution_count": 6,
   "id": "compound-nightmare",
   "metadata": {
    "execution": {
     "iopub.execute_input": "2021-06-16T22:11:42.330359Z",
     "iopub.status.busy": "2021-06-16T22:11:42.329882Z",
     "iopub.status.idle": "2021-06-16T22:11:42.559198Z",
     "shell.execute_reply": "2021-06-16T22:11:42.559948Z"
    },
    "jupyter": {
     "source_hidden": true
    },
    "papermill": {
     "duration": 0.242436,
     "end_time": "2021-06-16T22:11:42.560183",
     "exception": false,
     "start_time": "2021-06-16T22:11:42.317747",
     "status": "completed"
    },
    "scrolled": false,
    "tags": [
     "hide-input"
    ]
   },
   "outputs": [
    {
     "data": {
      "image/png": "[encoded data removed]",
      "text/plain": [
       "<Figure size 864x432 with 1 Axes>"
      ]
     },
     "metadata": {
      "needs_background": "light"
     },
     "output_type": "display_data"
    }
   ],
   "source": [
    "dc.plot(x='DATE',y='POSITIVE',color='red',grid='True',figsize=(12,6)).set_xlabel('Date');"
   ]
  },
  {
   "cell_type": "markdown",
   "id": "coupled-literacy",
   "metadata": {
    "papermill": {
     "duration": 0.010273,
     "end_time": "2021-06-16T22:11:42.580598",
     "exception": false,
     "start_time": "2021-06-16T22:11:42.570325",
     "status": "completed"
    },
    "tags": []
   },
   "source": [
    "## Figure 1: Cummulative number of positive cases."
   ]
  },
  {
   "cell_type": "code",
   "execution_count": 7,
   "id": "surrounded-reserve",
   "metadata": {
    "execution": {
     "iopub.execute_input": "2021-06-16T22:11:42.605653Z",
     "iopub.status.busy": "2021-06-16T22:11:42.605116Z",
     "iopub.status.idle": "2021-06-16T22:11:42.819255Z",
     "shell.execute_reply": "2021-06-16T22:11:42.819676Z"
    },
    "jupyter": {
     "source_hidden": true
    },
    "papermill": {
     "duration": 0.228482,
     "end_time": "2021-06-16T22:11:42.819816",
     "exception": false,
     "start_time": "2021-06-16T22:11:42.591334",
     "status": "completed"
    },
    "scrolled": false,
    "tags": [
     "hide-input"
    ]
   },
   "outputs": [
    {
     "data": {
      "image/png": "[encoded data removed]",
      "text/plain": [
       "<Figure size 864x432 with 1 Axes>"
      ]
     },
     "metadata": {
      "needs_background": "light"
     },
     "output_type": "display_data"
    }
   ],
   "source": [
    "dc.plot(kind='line',x='DATE',y='7_DAY',color='blue',grid='True',figsize=(12,6)).set_xlabel('Date');"
   ]
  },
  {
   "cell_type": "markdown",
   "id": "professional-savannah",
   "metadata": {
    "papermill": {
     "duration": 0.010089,
     "end_time": "2021-06-16T22:11:42.840245",
     "exception": false,
     "start_time": "2021-06-16T22:11:42.830156",
     "status": "completed"
    },
    "tags": []
   },
   "source": [
    "## Figure 2: Rolling 7-day average of daily new cases."
   ]
  },
  {
   "cell_type": "code",
   "execution_count": 8,
   "id": "stretch-investor",
   "metadata": {
    "execution": {
     "iopub.execute_input": "2021-06-16T22:11:42.866915Z",
     "iopub.status.busy": "2021-06-16T22:11:42.866386Z",
     "iopub.status.idle": "2021-06-16T22:11:43.070321Z",
     "shell.execute_reply": "2021-06-16T22:11:43.069457Z"
    },
    "jupyter": {
     "source_hidden": true
    },
    "papermill": {
     "duration": 0.218441,
     "end_time": "2021-06-16T22:11:43.070447",
     "exception": false,
     "start_time": "2021-06-16T22:11:42.852006",
     "status": "completed"
    },
    "tags": []
   },
   "outputs": [
    {
     "data": {
      "image/png": "[encoded data removed]",
      "text/plain": [
       "<Figure size 864x432 with 1 Axes>"
      ]
     },
     "metadata": {
      "needs_background": "light"
     },
     "output_type": "display_data"
    }
   ],
   "source": [
    "dc.plot(kind='line',x='DATE',y='14_DAY',color='green',grid='True',figsize=(12,6)).set_xlabel('Date');"
   ]
  },
  {
   "cell_type": "markdown",
   "id": "prerequisite-species",
   "metadata": {
    "papermill": {
     "duration": 0.011198,
     "end_time": "2021-06-16T22:11:43.093441",
     "exception": false,
     "start_time": "2021-06-16T22:11:43.082243",
     "status": "completed"
    },
    "tags": []
   },
   "source": [
    "## Figure 3: Rolling 14-day average of daily new cases."
   ]
  },
  {
   "cell_type": "markdown",
   "id": "palestinian-guard",
   "metadata": {
    "papermill": {
     "duration": 0.011087,
     "end_time": "2021-06-16T22:11:43.115715",
     "exception": false,
     "start_time": "2021-06-16T22:11:43.104628",
     "status": "completed"
    },
    "tags": []
   },
   "source": [
    "Data source: [Wisconsin Department of Health Services](https://data.dhsgis.wi.gov/datasets/wi-dhs::covid-19-historical-data-by-county-1)"
   ]
  },
  {
   "cell_type": "code",
   "execution_count": 9,
   "id": "proof-medicare",
   "metadata": {
    "execution": {
     "iopub.execute_input": "2021-06-16T22:11:43.143013Z",
     "iopub.status.busy": "2021-06-16T22:11:43.142507Z",
     "iopub.status.idle": "2021-06-16T22:11:43.145173Z",
     "shell.execute_reply": "2021-06-16T22:11:43.144735Z"
    },
    "jupyter": {
     "source_hidden": true
    },
    "papermill": {
     "duration": 0.018196,
     "end_time": "2021-06-16T22:11:43.145275",
     "exception": false,
     "start_time": "2021-06-16T22:11:43.127079",
     "status": "completed"
    },
    "tags": []
   },
   "outputs": [
    {
     "data": {
      "text/html": [
       "<style>\n",
       "div.input {\n",
       "    display:none;\n",
       "}\n",
       "</style>\n"
      ],
      "text/plain": [
       "<IPython.core.display.HTML object>"
      ]
     },
     "metadata": {},
     "output_type": "display_data"
    }
   ],
   "source": [
    "%%html\n",
    "<style>\n",
    "div.input {\n",
    "    display:none;\n",
    "}\n",
    "</style>"
   ]
  }
 ],
 "metadata": {
  "kernelspec": {
   "display_name": "Python 3",
   "language": "python",
   "name": "python3"
  },
  "language_info": {
   "codemirror_mode": {
    "name": "ipython",
    "version": 3
   },
   "file_extension": ".py",
   "mimetype": "text/x-python",
   "name": "python",
   "nbconvert_exporter": "python",
   "pygments_lexer": "ipython3",
   "version": "3.8.10"
  },
  "papermill": {
   "duration": 4.115979,
   "end_time": "2021-06-16T22:11:43.463978",
   "environment_variables": {},
   "exception": null,
   "input_path": "DunnCounty_COVID19.ipynb",
   "output_path": "DunnCounty_COVID19.ipynb",
   "parameters": {
    "Start": "True",
    "secretsPath": "/home/runner/work/_temp/secrets.json"
   },
   "start_time": "2021-06-16T22:11:39.347999",
   "version": "1.1.16"
  }
 },
 "nbformat": 4,
 "nbformat_minor": 5
}