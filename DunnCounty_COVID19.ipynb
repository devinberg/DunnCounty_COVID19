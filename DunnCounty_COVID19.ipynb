{
 "cells": [
  {
   "cell_type": "code",
   "execution_count": 1,
   "metadata": {
    "execution": {
     "iopub.execute_input": "2020-11-29T10:11:37.842533Z",
     "iopub.status.busy": "2020-11-29T10:11:37.841978Z",
     "iopub.status.idle": "2020-11-29T10:11:41.856448Z",
     "shell.execute_reply": "2020-11-29T10:11:41.856917Z"
    },
    "jupyter": {
     "source_hidden": true
    },
    "papermill": {
     "duration": 4.030507,
     "end_time": "2020-11-29T10:11:41.857206",
     "exception": false,
     "start_time": "2020-11-29T10:11:37.826699",
     "status": "completed"
    },
    "scrolled": true,
    "tags": [
     "hide-input"
    ]
   },
   "outputs": [],
   "source": [
    "import pandas as pd\n",
    "import matplotlib.pyplot as plt\n",
    "from matplotlib import dates\n",
    "from IPython.display import display, Markdown\n",
    "%matplotlib inline"
   ]
  },
  {
   "cell_type": "code",
   "execution_count": 2,
   "metadata": {
    "execution": {
     "iopub.execute_input": "2020-11-29T10:11:41.878670Z",
     "iopub.status.busy": "2020-11-29T10:11:41.878161Z",
     "iopub.status.idle": "2020-11-29T10:11:42.589041Z",
     "shell.execute_reply": "2020-11-29T10:11:42.588065Z"
    },
    "jupyter": {
     "source_hidden": true
    },
    "papermill": {
     "duration": 0.724359,
     "end_time": "2020-11-29T10:11:42.589187",
     "exception": false,
     "start_time": "2020-11-29T10:11:41.864828",
     "status": "completed"
    },
    "scrolled": true,
    "tags": [
     "hide-input"
    ]
   },
   "outputs": [],
   "source": [
    "# This is the data for all of Wisconsin.\n",
    "url = \"https://opendata.arcgis.com/datasets/5374188992374b318d3e2305216ee413_12.csv\"\n",
    "data = pd.read_csv(url, parse_dates=['DATE'], low_memory=False)"
   ]
  },
  {
   "cell_type": "code",
   "execution_count": 3,
   "metadata": {
    "execution": {
     "iopub.execute_input": "2020-11-29T10:11:42.608832Z",
     "iopub.status.busy": "2020-11-29T10:11:42.608233Z",
     "iopub.status.idle": "2020-11-29T10:11:42.617270Z",
     "shell.execute_reply": "2020-11-29T10:11:42.616811Z"
    },
    "jupyter": {
     "source_hidden": true
    },
    "papermill": {
     "duration": 0.020919,
     "end_time": "2020-11-29T10:11:42.617393",
     "exception": false,
     "start_time": "2020-11-29T10:11:42.596474",
     "status": "completed"
    },
    "scrolled": true,
    "tags": [
     "hide-input"
    ]
   },
   "outputs": [],
   "source": [
    "dc = data.groupby('NAME').get_group('Dunn').sort_values(by='DATE') # Select the data for Dunn County from the full data.\n",
    "PNi = dc.columns.get_loc(\"POS_NEW\")\n",
    "dc['7_DAY'] = dc.iloc[:,PNi].rolling(window=7).mean() # Calculates the rolling 7-day average of new cases.\n",
    "dc['14_DAY'] = dc.iloc[:,PNi].rolling(window=14).mean() # Calculates the rolling 14-day average of new cases."
   ]
  },
  {
   "cell_type": "code",
   "execution_count": 4,
   "metadata": {
    "execution": {
     "iopub.execute_input": "2020-11-29T10:11:42.637040Z",
     "iopub.status.busy": "2020-11-29T10:11:42.636463Z",
     "iopub.status.idle": "2020-11-29T10:11:42.639155Z",
     "shell.execute_reply": "2020-11-29T10:11:42.639563Z"
    },
    "jupyter": {
     "source_hidden": true
    },
    "papermill": {
     "duration": 0.015458,
     "end_time": "2020-11-29T10:11:42.639684",
     "exception": false,
     "start_time": "2020-11-29T10:11:42.624226",
     "status": "completed"
    },
    "scrolled": true,
    "tags": [
     "hide-input"
    ]
   },
   "outputs": [
    {
     "data": {
      "text/markdown": [
       "### Last updated: November 28, 2020"
      ],
      "text/plain": [
       "<IPython.core.display.Markdown object>"
      ]
     },
     "metadata": {},
     "output_type": "display_data"
    }
   ],
   "source": [
    "display(Markdown('### Last updated: ' + dc.iloc[-1]['DATE'].strftime(\"%B %d, %Y\")))"
   ]
  },
  {
   "cell_type": "code",
   "execution_count": 5,
   "metadata": {
    "execution": {
     "iopub.execute_input": "2020-11-29T10:11:42.658611Z",
     "iopub.status.busy": "2020-11-29T10:11:42.658087Z",
     "iopub.status.idle": "2020-11-29T10:11:42.661965Z",
     "shell.execute_reply": "2020-11-29T10:11:42.661536Z"
    },
    "jupyter": {
     "source_hidden": true
    },
    "papermill": {
     "duration": 0.015181,
     "end_time": "2020-11-29T10:11:42.662078",
     "exception": false,
     "start_time": "2020-11-29T10:11:42.646897",
     "status": "completed"
    },
    "tags": [
     "hide-input"
    ]
   },
   "outputs": [
    {
     "data": {
      "text/markdown": [
       "# Dunn County has 2765 total positive cases, with 45 new cases reported today."
      ],
      "text/plain": [
       "<IPython.core.display.Markdown object>"
      ]
     },
     "metadata": {},
     "output_type": "display_data"
    }
   ],
   "source": [
    "display(Markdown('# Dunn County has ' + str(dc.iloc[-1]['POSITIVE']) + ' total positive cases, with '+ str(int(dc.iloc[-1]['POS_NEW'])) + ' new cases reported today.'))"
   ]
  },
  {
   "cell_type": "code",
   "execution_count": 6,
   "metadata": {
    "execution": {
     "iopub.execute_input": "2020-11-29T10:11:42.680064Z",
     "iopub.status.busy": "2020-11-29T10:11:42.679529Z",
     "iopub.status.idle": "2020-11-29T10:11:42.890901Z",
     "shell.execute_reply": "2020-11-29T10:11:42.890433Z"
    },
    "jupyter": {
     "source_hidden": true
    },
    "papermill": {
     "duration": 0.221412,
     "end_time": "2020-11-29T10:11:42.891023",
     "exception": false,
     "start_time": "2020-11-29T10:11:42.669611",
     "status": "completed"
    },
    "scrolled": false,
    "tags": [
     "hide-input"
    ]
   },
   "outputs": [
    {
     "data": {
      "image/png": "[encoded data removed]",
      "text/plain": [
       "<Figure size 864x432 with 1 Axes>"
      ]
     },
     "metadata": {
      "needs_background": "light"
     },
     "output_type": "display_data"
    }
   ],
   "source": [
    "dc.plot(x='DATE',y='POSITIVE',color='red',grid='True',figsize=(12,6)).set_xlabel('Date');"
   ]
  },
  {
   "cell_type": "markdown",
   "metadata": {
    "papermill": {
     "duration": 0.00839,
     "end_time": "2020-11-29T10:11:42.910583",
     "exception": false,
     "start_time": "2020-11-29T10:11:42.902193",
     "status": "completed"
    },
    "tags": []
   },
   "source": [
    "## Figure 1: Cummulative number of positive cases."
   ]
  },
  {
   "cell_type": "code",
   "execution_count": 7,
   "metadata": {
    "execution": {
     "iopub.execute_input": "2020-11-29T10:11:42.932406Z",
     "iopub.status.busy": "2020-11-29T10:11:42.931865Z",
     "iopub.status.idle": "2020-11-29T10:11:43.143669Z",
     "shell.execute_reply": "2020-11-29T10:11:43.143223Z"
    },
    "jupyter": {
     "source_hidden": true
    },
    "papermill": {
     "duration": 0.224862,
     "end_time": "2020-11-29T10:11:43.143789",
     "exception": false,
     "start_time": "2020-11-29T10:11:42.918927",
     "status": "completed"
    },
    "scrolled": false,
    "tags": [
     "hide-input"
    ]
   },
   "outputs": [
    {
     "data": {
      "image/png": "[encoded data removed]",
      "text/plain": [
       "<Figure size 864x432 with 1 Axes>"
      ]
     },
     "metadata": {
      "needs_background": "light"
     },
     "output_type": "display_data"
    }
   ],
   "source": [
    "dc.plot(kind='line',x='DATE',y='7_DAY',color='blue',grid='True',figsize=(12,6)).set_xlabel('Date');"
   ]
  },
  {
   "cell_type": "markdown",
   "metadata": {
    "papermill": {
     "duration": 0.009428,
     "end_time": "2020-11-29T10:11:43.162519",
     "exception": false,
     "start_time": "2020-11-29T10:11:43.153091",
     "status": "completed"
    },
    "tags": []
   },
   "source": [
    "## Figure 2: Rolling 7-day average of daily new cases."
   ]
  },
  {
   "cell_type": "code",
   "execution_count": 8,
   "metadata": {
    "execution": {
     "iopub.execute_input": "2020-11-29T10:11:43.185574Z",
     "iopub.status.busy": "2020-11-29T10:11:43.185025Z",
     "iopub.status.idle": "2020-11-29T10:11:43.401476Z",
     "shell.execute_reply": "2020-11-29T10:11:43.401970Z"
    },
    "jupyter": {
     "source_hidden": true
    },
    "papermill": {
     "duration": 0.230191,
     "end_time": "2020-11-29T10:11:43.402140",
     "exception": false,
     "start_time": "2020-11-29T10:11:43.171949",
     "status": "completed"
    },
    "tags": []
   },
   "outputs": [
    {
     "data": {
      "image/png": "[encoded data removed]",
      "text/plain": [
       "<Figure size 864x432 with 1 Axes>"
      ]
     },
     "metadata": {
      "needs_background": "light"
     },
     "output_type": "display_data"
    }
   ],
   "source": [
    "dc.plot(kind='line',x='DATE',y='14_DAY',color='green',grid='True',figsize=(12,6)).set_xlabel('Date');"
   ]
  },
  {
   "cell_type": "markdown",
   "metadata": {
    "papermill": {
     "duration": 0.010752,
     "end_time": "2020-11-29T10:11:43.423521",
     "exception": false,
     "start_time": "2020-11-29T10:11:43.412769",
     "status": "completed"
    },
    "tags": []
   },
   "source": [
    "## Figure 3: Rolling 14-day average of daily new cases."
   ]
  },
  {
   "cell_type": "markdown",
   "metadata": {
    "papermill": {
     "duration": 0.010196,
     "end_time": "2020-11-29T10:11:43.444311",
     "exception": false,
     "start_time": "2020-11-29T10:11:43.434115",
     "status": "completed"
    },
    "tags": []
   },
   "source": [
    "Data source: [Wisconsin Department of Health Services](https://data.dhsgis.wi.gov/datasets/covid-19-historical-data-table/)"
   ]
  },
  {
   "cell_type": "code",
   "execution_count": 9,
   "metadata": {
    "execution": {
     "iopub.execute_input": "2020-11-29T10:11:43.467925Z",
     "iopub.status.busy": "2020-11-29T10:11:43.467421Z",
     "iopub.status.idle": "2020-11-29T10:11:43.470785Z",
     "shell.execute_reply": "2020-11-29T10:11:43.470318Z"
    },
    "jupyter": {
     "source_hidden": true
    },
    "papermill": {
     "duration": 0.016667,
     "end_time": "2020-11-29T10:11:43.470903",
     "exception": false,
     "start_time": "2020-11-29T10:11:43.454236",
     "status": "completed"
    },
    "tags": []
   },
   "outputs": [
    {
     "data": {
      "text/html": [
       "<style>\n",
       "div.input {\n",
       "    display:none;\n",
       "}\n",
       "</style>\n"
      ],
      "text/plain": [
       "<IPython.core.display.HTML object>"
      ]
     },
     "metadata": {},
     "output_type": "display_data"
    }
   ],
   "source": [
    "%%html\n",
    "<style>\n",
    "div.input {\n",
    "    display:none;\n",
    "}\n",
    "</style>"
   ]
  }
 ],
 "metadata": {
  "kernelspec": {
   "display_name": "Python 3",
   "language": "python",
   "name": "python3"
  },
  "language_info": {
   "codemirror_mode": {
    "name": "ipython",
    "version": 3
   },
   "file_extension": ".py",
   "mimetype": "text/x-python",
   "name": "python",
   "nbconvert_exporter": "python",
   "pygments_lexer": "ipython3",
   "version": "3.8.6"
  },
  "papermill": {
   "duration": 7.720412,
   "end_time": "2020-11-29T10:11:43.789025",
   "environment_variables": {},
   "exception": null,
   "input_path": "DunnCounty_COVID19.ipynb",
   "output_path": "DunnCounty_COVID19.ipynb",
   "parameters": {
    "Start": "True",
    "secretsPath": "/home/runner/work/_temp/secrets.json"
   },
   "start_time": "2020-11-29T10:11:36.068613",
   "version": "1.1.16"
  }
 },
 "nbformat": 4,
 "nbformat_minor": 2
}