{
 "cells": [
  {
   "cell_type": "code",
   "execution_count": 1,
   "id": "solar-understanding",
   "metadata": {
    "execution": {
     "iopub.execute_input": "2021-06-28T22:11:32.108840Z",
     "iopub.status.busy": "2021-06-28T22:11:32.108370Z",
     "iopub.status.idle": "2021-06-28T22:11:32.853526Z",
     "shell.execute_reply": "2021-06-28T22:11:32.852975Z"
    },
    "jupyter": {
     "source_hidden": true
    },
    "papermill": {
     "duration": 0.761342,
     "end_time": "2021-06-28T22:11:32.853649",
     "exception": false,
     "start_time": "2021-06-28T22:11:32.092307",
     "status": "completed"
    },
    "scrolled": true,
    "tags": [
     "hide-input"
    ]
   },
   "outputs": [],
   "source": [
    "import pandas as pd\n",
    "import matplotlib.pyplot as plt\n",
    "from matplotlib import dates\n",
    "from IPython.display import display, Markdown\n",
    "%matplotlib inline"
   ]
  },
  {
   "cell_type": "code",
   "execution_count": 2,
   "id": "purple-playlist",
   "metadata": {
    "execution": {
     "iopub.execute_input": "2021-06-28T22:11:32.874385Z",
     "iopub.status.busy": "2021-06-28T22:11:32.873916Z",
     "iopub.status.idle": "2021-06-28T22:11:33.616149Z",
     "shell.execute_reply": "2021-06-28T22:11:33.615642Z"
    },
    "jupyter": {
     "source_hidden": true
    },
    "papermill": {
     "duration": 0.754425,
     "end_time": "2021-06-28T22:11:33.616270",
     "exception": false,
     "start_time": "2021-06-28T22:11:32.861845",
     "status": "completed"
    },
    "scrolled": true,
    "tags": [
     "hide-input"
    ]
   },
   "outputs": [],
   "source": [
    "# This is the data for all of Wisconsin.\n",
    "url = \"https://opendata.arcgis.com/api/v3/datasets/3161f6e01d8141c6abe85a29ff7f3d3c_12/downloads/data?format=csv&spatialRefId=3857\"\n",
    "data = pd.read_csv(url, parse_dates=['DATE'], low_memory=False)"
   ]
  },
  {
   "cell_type": "code",
   "execution_count": 3,
   "id": "proprietary-klein",
   "metadata": {
    "execution": {
     "iopub.execute_input": "2021-06-28T22:11:33.638542Z",
     "iopub.status.busy": "2021-06-28T22:11:33.638085Z",
     "iopub.status.idle": "2021-06-28T22:11:33.646197Z",
     "shell.execute_reply": "2021-06-28T22:11:33.645780Z"
    },
    "jupyter": {
     "source_hidden": true
    },
    "papermill": {
     "duration": 0.021296,
     "end_time": "2021-06-28T22:11:33.646291",
     "exception": false,
     "start_time": "2021-06-28T22:11:33.624995",
     "status": "completed"
    },
    "scrolled": true,
    "tags": [
     "hide-input"
    ]
   },
   "outputs": [],
   "source": [
    "dc = data.groupby('NAME').get_group('Dunn').sort_values(by='DATE') # Select the data for Dunn County from the full data.\n",
    "PNi = dc.columns.get_loc(\"POS_NEW\")\n",
    "dc['7_DAY'] = dc.iloc[:,PNi].rolling(window=7).mean() # Calculates the rolling 7-day average of new cases.\n",
    "dc['14_DAY'] = dc.iloc[:,PNi].rolling(window=14).mean() # Calculates the rolling 14-day average of new cases."
   ]
  },
  {
   "cell_type": "code",
   "execution_count": 4,
   "id": "steady-supervision",
   "metadata": {
    "execution": {
     "iopub.execute_input": "2021-06-28T22:11:33.666290Z",
     "iopub.status.busy": "2021-06-28T22:11:33.665833Z",
     "iopub.status.idle": "2021-06-28T22:11:33.668525Z",
     "shell.execute_reply": "2021-06-28T22:11:33.668141Z"
    },
    "jupyter": {
     "source_hidden": true
    },
    "papermill": {
     "duration": 0.01489,
     "end_time": "2021-06-28T22:11:33.668621",
     "exception": false,
     "start_time": "2021-06-28T22:11:33.653731",
     "status": "completed"
    },
    "scrolled": true,
    "tags": [
     "hide-input"
    ]
   },
   "outputs": [
    {
     "data": {
      "text/markdown": [
       "### Last updated: June 28, 2021"
      ],
      "text/plain": [
       "<IPython.core.display.Markdown object>"
      ]
     },
     "metadata": {},
     "output_type": "display_data"
    }
   ],
   "source": [
    "display(Markdown('### Last updated: ' + dc.iloc[-1]['DATE'].strftime(\"%B %d, %Y\")))"
   ]
  },
  {
   "cell_type": "code",
   "execution_count": 5,
   "id": "lonely-pitch",
   "metadata": {
    "execution": {
     "iopub.execute_input": "2021-06-28T22:11:33.688818Z",
     "iopub.status.busy": "2021-06-28T22:11:33.688259Z",
     "iopub.status.idle": "2021-06-28T22:11:33.690229Z",
     "shell.execute_reply": "2021-06-28T22:11:33.690670Z"
    },
    "jupyter": {
     "source_hidden": true
    },
    "papermill": {
     "duration": 0.014338,
     "end_time": "2021-06-28T22:11:33.690790",
     "exception": false,
     "start_time": "2021-06-28T22:11:33.676452",
     "status": "completed"
    },
    "tags": [
     "hide-input"
    ]
   },
   "outputs": [
    {
     "data": {
      "text/markdown": [
       "# Dunn County has 4705 total positive cases, with 2 new cases reported today."
      ],
      "text/plain": [
       "<IPython.core.display.Markdown object>"
      ]
     },
     "metadata": {},
     "output_type": "display_data"
    }
   ],
   "source": [
    "display(Markdown('# Dunn County has ' + str(dc.iloc[-1]['POSITIVE']) + ' total positive cases, with '+ str(int(dc.iloc[-1]['POS_NEW'])) + ' new cases reported today.'))"
   ]
  },
  {
   "cell_type": "code",
   "execution_count": 6,
   "id": "compound-nightmare",
   "metadata": {
    "execution": {
     "iopub.execute_input": "2021-06-28T22:11:33.710786Z",
     "iopub.status.busy": "2021-06-28T22:11:33.710339Z",
     "iopub.status.idle": "2021-06-28T22:11:33.913938Z",
     "shell.execute_reply": "2021-06-28T22:11:33.914362Z"
    },
    "jupyter": {
     "source_hidden": true
    },
    "papermill": {
     "duration": 0.215079,
     "end_time": "2021-06-28T22:11:33.914492",
     "exception": false,
     "start_time": "2021-06-28T22:11:33.699413",
     "status": "completed"
    },
    "scrolled": false,
    "tags": [
     "hide-input"
    ]
   },
   "outputs": [
    {
     "data": {
      "image/png": "[encoded data removed]",
      "text/plain": [
       "<Figure size 864x432 with 1 Axes>"
      ]
     },
     "metadata": {
      "needs_background": "light"
     },
     "output_type": "display_data"
    }
   ],
   "source": [
    "dc.plot(x='DATE',y='POSITIVE',color='red',grid='True',figsize=(12,6)).set_xlabel('Date');"
   ]
  },
  {
   "cell_type": "markdown",
   "id": "coupled-literacy",
   "metadata": {
    "papermill": {
     "duration": 0.009304,
     "end_time": "2021-06-28T22:11:33.933306",
     "exception": false,
     "start_time": "2021-06-28T22:11:33.924002",
     "status": "completed"
    },
    "tags": []
   },
   "source": [
    "## Figure 1: Cummulative number of positive cases."
   ]
  },
  {
   "cell_type": "code",
   "execution_count": 7,
   "id": "surrounded-reserve",
   "metadata": {
    "execution": {
     "iopub.execute_input": "2021-06-28T22:11:33.954966Z",
     "iopub.status.busy": "2021-06-28T22:11:33.954411Z",
     "iopub.status.idle": "2021-06-28T22:11:34.148633Z",
     "shell.execute_reply": "2021-06-28T22:11:34.149059Z"
    },
    "jupyter": {
     "source_hidden": true
    },
    "papermill": {
     "duration": 0.206984,
     "end_time": "2021-06-28T22:11:34.149185",
     "exception": false,
     "start_time": "2021-06-28T22:11:33.942201",
     "status": "completed"
    },
    "scrolled": false,
    "tags": [
     "hide-input"
    ]
   },
   "outputs": [
    {
     "data": {
      "image/png": "[encoded data removed]",
      "text/plain": [
       "<Figure size 864x432 with 1 Axes>"
      ]
     },
     "metadata": {
      "needs_background": "light"
     },
     "output_type": "display_data"
    }
   ],
   "source": [
    "dc.plot(kind='line',x='DATE',y='7_DAY',color='blue',grid='True',figsize=(12,6)).set_xlabel('Date');"
   ]
  },
  {
   "cell_type": "markdown",
   "id": "professional-savannah",
   "metadata": {
    "papermill": {
     "duration": 0.010124,
     "end_time": "2021-06-28T22:11:34.169554",
     "exception": false,
     "start_time": "2021-06-28T22:11:34.159430",
     "status": "completed"
    },
    "tags": []
   },
   "source": [
    "## Figure 2: Rolling 7-day average of daily new cases."
   ]
  },
  {
   "cell_type": "code",
   "execution_count": 8,
   "id": "stretch-investor",
   "metadata": {
    "execution": {
     "iopub.execute_input": "2021-06-28T22:11:34.192841Z",
     "iopub.status.busy": "2021-06-28T22:11:34.192380Z",
     "iopub.status.idle": "2021-06-28T22:11:34.386271Z",
     "shell.execute_reply": "2021-06-28T22:11:34.385877Z"
    },
    "jupyter": {
     "source_hidden": true
    },
    "papermill": {
     "duration": 0.206985,
     "end_time": "2021-06-28T22:11:34.386381",
     "exception": false,
     "start_time": "2021-06-28T22:11:34.179396",
     "status": "completed"
    },
    "tags": []
   },
   "outputs": [
    {
     "data": {
      "image/png": "[encoded data removed]",
      "text/plain": [
       "<Figure size 864x432 with 1 Axes>"
      ]
     },
     "metadata": {
      "needs_background": "light"
     },
     "output_type": "display_data"
    }
   ],
   "source": [
    "dc.plot(kind='line',x='DATE',y='14_DAY',color='green',grid='True',figsize=(12,6)).set_xlabel('Date');"
   ]
  },
  {
   "cell_type": "markdown",
   "id": "prerequisite-species",
   "metadata": {
    "papermill": {
     "duration": 0.011105,
     "end_time": "2021-06-28T22:11:34.408573",
     "exception": false,
     "start_time": "2021-06-28T22:11:34.397468",
     "status": "completed"
    },
    "tags": []
   },
   "source": [
    "## Figure 3: Rolling 14-day average of daily new cases."
   ]
  },
  {
   "cell_type": "markdown",
   "id": "palestinian-guard",
   "metadata": {
    "papermill": {
     "duration": 0.010771,
     "end_time": "2021-06-28T22:11:34.430105",
     "exception": false,
     "start_time": "2021-06-28T22:11:34.419334",
     "status": "completed"
    },
    "tags": []
   },
   "source": [
    "Data source: [Wisconsin Department of Health Services](https://data.dhsgis.wi.gov/datasets/wi-dhs::covid-19-historical-data-by-county-1)"
   ]
  },
  {
   "cell_type": "code",
   "execution_count": 9,
   "id": "proof-medicare",
   "metadata": {
    "execution": {
     "iopub.execute_input": "2021-06-28T22:11:34.455192Z",
     "iopub.status.busy": "2021-06-28T22:11:34.454697Z",
     "iopub.status.idle": "2021-06-28T22:11:34.457880Z",
     "shell.execute_reply": "2021-06-28T22:11:34.457490Z"
    },
    "jupyter": {
     "source_hidden": true
    },
    "papermill": {
     "duration": 0.017176,
     "end_time": "2021-06-28T22:11:34.457973",
     "exception": false,
     "start_time": "2021-06-28T22:11:34.440797",
     "status": "completed"
    },
    "tags": []
   },
   "outputs": [
    {
     "data": {
      "text/html": [
       "<style>\n",
       "div.input {\n",
       "    display:none;\n",
       "}\n",
       "</style>\n"
      ],
      "text/plain": [
       "<IPython.core.display.HTML object>"
      ]
     },
     "metadata": {},
     "output_type": "display_data"
    }
   ],
   "source": [
    "%%html\n",
    "<style>\n",
    "div.input {\n",
    "    display:none;\n",
    "}\n",
    "</style>"
   ]
  }
 ],
 "metadata": {
  "kernelspec": {
   "display_name": "Python 3",
   "language": "python",
   "name": "python3"
  },
  "language_info": {
   "codemirror_mode": {
    "name": "ipython",
    "version": 3
   },
   "file_extension": ".py",
   "mimetype": "text/x-python",
   "name": "python",
   "nbconvert_exporter": "python",
   "pygments_lexer": "ipython3",
   "version": "3.8.10"
  },
  "papermill": {
   "duration": 3.902521,
   "end_time": "2021-06-28T22:11:34.775606",
   "environment_variables": {},
   "exception": null,
   "input_path": "DunnCounty_COVID19.ipynb",
   "output_path": "DunnCounty_COVID19.ipynb",
   "parameters": {
    "Start": "True",
    "secretsPath": "/home/runner/work/_temp/secrets.json"
   },
   "start_time": "2021-06-28T22:11:30.873085",
   "version": "1.1.16"
  }
 },
 "nbformat": 4,
 "nbformat_minor": 5
}