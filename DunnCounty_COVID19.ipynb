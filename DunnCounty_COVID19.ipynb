{
 "cells": [
  {
   "cell_type": "code",
   "execution_count": 1,
   "id": "solar-understanding",
   "metadata": {
    "execution": {
     "iopub.execute_input": "2021-07-22T22:11:11.847426Z",
     "iopub.status.busy": "2021-07-22T22:11:11.846953Z",
     "iopub.status.idle": "2021-07-22T22:11:12.547882Z",
     "shell.execute_reply": "2021-07-22T22:11:12.547305Z"
    },
    "jupyter": {
     "source_hidden": true
    },
    "papermill": {
     "duration": 0.718636,
     "end_time": "2021-07-22T22:11:12.548033",
     "exception": false,
     "start_time": "2021-07-22T22:11:11.829397",
     "status": "completed"
    },
    "scrolled": true,
    "tags": [
     "hide-input"
    ]
   },
   "outputs": [],
   "source": [
    "import pandas as pd\n",
    "import matplotlib.pyplot as plt\n",
    "from matplotlib import dates\n",
    "from IPython.display import display, Markdown\n",
    "%matplotlib inline"
   ]
  },
  {
   "cell_type": "code",
   "execution_count": 2,
   "id": "purple-playlist",
   "metadata": {
    "execution": {
     "iopub.execute_input": "2021-07-22T22:11:12.569800Z",
     "iopub.status.busy": "2021-07-22T22:11:12.569307Z",
     "iopub.status.idle": "2021-07-22T22:11:13.403624Z",
     "shell.execute_reply": "2021-07-22T22:11:13.403135Z"
    },
    "jupyter": {
     "source_hidden": true
    },
    "papermill": {
     "duration": 0.847168,
     "end_time": "2021-07-22T22:11:13.403762",
     "exception": false,
     "start_time": "2021-07-22T22:11:12.556594",
     "status": "completed"
    },
    "scrolled": true,
    "tags": [
     "hide-input"
    ]
   },
   "outputs": [],
   "source": [
    "# This is the data for all of Wisconsin.\n",
    "url = \"https://opendata.arcgis.com/api/v3/datasets/3161f6e01d8141c6abe85a29ff7f3d3c_12/downloads/data?format=csv&spatialRefId=3857\"\n",
    "data = pd.read_csv(url, parse_dates=['DATE'], low_memory=False)"
   ]
  },
  {
   "cell_type": "code",
   "execution_count": 3,
   "id": "proprietary-klein",
   "metadata": {
    "execution": {
     "iopub.execute_input": "2021-07-22T22:11:13.427169Z",
     "iopub.status.busy": "2021-07-22T22:11:13.426691Z",
     "iopub.status.idle": "2021-07-22T22:11:13.434722Z",
     "shell.execute_reply": "2021-07-22T22:11:13.435084Z"
    },
    "jupyter": {
     "source_hidden": true
    },
    "papermill": {
     "duration": 0.022517,
     "end_time": "2021-07-22T22:11:13.435225",
     "exception": false,
     "start_time": "2021-07-22T22:11:13.412708",
     "status": "completed"
    },
    "scrolled": true,
    "tags": [
     "hide-input"
    ]
   },
   "outputs": [],
   "source": [
    "dc = data.groupby('NAME').get_group('Dunn').sort_values(by='DATE') # Select the data for Dunn County from the full data.\n",
    "PNi = dc.columns.get_loc(\"POS_NEW\")\n",
    "dc['7_DAY'] = dc.iloc[:,PNi].rolling(window=7).mean() # Calculates the rolling 7-day average of new cases.\n",
    "dc['14_DAY'] = dc.iloc[:,PNi].rolling(window=14).mean() # Calculates the rolling 14-day average of new cases."
   ]
  },
  {
   "cell_type": "code",
   "execution_count": 4,
   "id": "steady-supervision",
   "metadata": {
    "execution": {
     "iopub.execute_input": "2021-07-22T22:11:13.455446Z",
     "iopub.status.busy": "2021-07-22T22:11:13.454993Z",
     "iopub.status.idle": "2021-07-22T22:11:13.457692Z",
     "shell.execute_reply": "2021-07-22T22:11:13.457291Z"
    },
    "jupyter": {
     "source_hidden": true
    },
    "papermill": {
     "duration": 0.01518,
     "end_time": "2021-07-22T22:11:13.457787",
     "exception": false,
     "start_time": "2021-07-22T22:11:13.442607",
     "status": "completed"
    },
    "scrolled": true,
    "tags": [
     "hide-input"
    ]
   },
   "outputs": [
    {
     "data": {
      "text/markdown": [
       "### Last updated: July 22, 2021"
      ],
      "text/plain": [
       "<IPython.core.display.Markdown object>"
      ]
     },
     "metadata": {},
     "output_type": "display_data"
    }
   ],
   "source": [
    "display(Markdown('### Last updated: ' + dc.iloc[-1]['DATE'].strftime(\"%B %d, %Y\")))"
   ]
  },
  {
   "cell_type": "code",
   "execution_count": 5,
   "id": "lonely-pitch",
   "metadata": {
    "execution": {
     "iopub.execute_input": "2021-07-22T22:11:13.477665Z",
     "iopub.status.busy": "2021-07-22T22:11:13.477202Z",
     "iopub.status.idle": "2021-07-22T22:11:13.479407Z",
     "shell.execute_reply": "2021-07-22T22:11:13.479827Z"
    },
    "jupyter": {
     "source_hidden": true
    },
    "papermill": {
     "duration": 0.014385,
     "end_time": "2021-07-22T22:11:13.479934",
     "exception": false,
     "start_time": "2021-07-22T22:11:13.465549",
     "status": "completed"
    },
    "tags": [
     "hide-input"
    ]
   },
   "outputs": [
    {
     "data": {
      "text/markdown": [
       "# Dunn County has 4754 total positive cases, with 4 new cases reported today."
      ],
      "text/plain": [
       "<IPython.core.display.Markdown object>"
      ]
     },
     "metadata": {},
     "output_type": "display_data"
    }
   ],
   "source": [
    "display(Markdown('# Dunn County has ' + str(dc.iloc[-1]['POSITIVE']) + ' total positive cases, with '+ str(int(dc.iloc[-1]['POS_NEW'])) + ' new cases reported today.'))"
   ]
  },
  {
   "cell_type": "code",
   "execution_count": 6,
   "id": "compound-nightmare",
   "metadata": {
    "execution": {
     "iopub.execute_input": "2021-07-22T22:11:13.499241Z",
     "iopub.status.busy": "2021-07-22T22:11:13.497838Z",
     "iopub.status.idle": "2021-07-22T22:11:13.803961Z",
     "shell.execute_reply": "2021-07-22T22:11:13.804372Z"
    },
    "jupyter": {
     "source_hidden": true
    },
    "papermill": {
     "duration": 0.316527,
     "end_time": "2021-07-22T22:11:13.804534",
     "exception": false,
     "start_time": "2021-07-22T22:11:13.488007",
     "status": "completed"
    },
    "scrolled": false,
    "tags": [
     "hide-input"
    ]
   },
   "outputs": [
    {
     "data": {
      "image/png": "[encoded data removed]",
      "text/plain": [
       "<Figure size 864x432 with 1 Axes>"
      ]
     },
     "metadata": {
      "needs_background": "light"
     },
     "output_type": "display_data"
    }
   ],
   "source": [
    "dc.plot(x='DATE',y='POSITIVE',color='red',grid='True',figsize=(12,6)).set_xlabel('Date');"
   ]
  },
  {
   "cell_type": "markdown",
   "id": "coupled-literacy",
   "metadata": {
    "papermill": {
     "duration": 0.009306,
     "end_time": "2021-07-22T22:11:13.823297",
     "exception": false,
     "start_time": "2021-07-22T22:11:13.813991",
     "status": "completed"
    },
    "tags": []
   },
   "source": [
    "## Figure 1: Cummulative number of positive cases."
   ]
  },
  {
   "cell_type": "code",
   "execution_count": 7,
   "id": "surrounded-reserve",
   "metadata": {
    "execution": {
     "iopub.execute_input": "2021-07-22T22:11:13.845444Z",
     "iopub.status.busy": "2021-07-22T22:11:13.844973Z",
     "iopub.status.idle": "2021-07-22T22:11:14.031008Z",
     "shell.execute_reply": "2021-07-22T22:11:14.031376Z"
    },
    "jupyter": {
     "source_hidden": true
    },
    "papermill": {
     "duration": 0.199165,
     "end_time": "2021-07-22T22:11:14.031506",
     "exception": false,
     "start_time": "2021-07-22T22:11:13.832341",
     "status": "completed"
    },
    "scrolled": false,
    "tags": [
     "hide-input"
    ]
   },
   "outputs": [
    {
     "data": {
      "image/png": "[encoded data removed]",
      "text/plain": [
       "<Figure size 864x432 with 1 Axes>"
      ]
     },
     "metadata": {
      "needs_background": "light"
     },
     "output_type": "display_data"
    }
   ],
   "source": [
    "dc.plot(kind='line',x='DATE',y='7_DAY',color='blue',grid='True',figsize=(12,6)).set_xlabel('Date');"
   ]
  },
  {
   "cell_type": "markdown",
   "id": "professional-savannah",
   "metadata": {
    "papermill": {
     "duration": 0.009901,
     "end_time": "2021-07-22T22:11:14.051644",
     "exception": false,
     "start_time": "2021-07-22T22:11:14.041743",
     "status": "completed"
    },
    "tags": []
   },
   "source": [
    "## Figure 2: Rolling 7-day average of daily new cases."
   ]
  },
  {
   "cell_type": "code",
   "execution_count": 8,
   "id": "stretch-investor",
   "metadata": {
    "execution": {
     "iopub.execute_input": "2021-07-22T22:11:14.074892Z",
     "iopub.status.busy": "2021-07-22T22:11:14.074448Z",
     "iopub.status.idle": "2021-07-22T22:11:14.256909Z",
     "shell.execute_reply": "2021-07-22T22:11:14.256223Z"
    },
    "jupyter": {
     "source_hidden": true
    },
    "papermill": {
     "duration": 0.19573,
     "end_time": "2021-07-22T22:11:14.257018",
     "exception": false,
     "start_time": "2021-07-22T22:11:14.061288",
     "status": "completed"
    },
    "tags": []
   },
   "outputs": [
    {
     "data": {
      "image/png": "[encoded data removed]",
      "text/plain": [
       "<Figure size 864x432 with 1 Axes>"
      ]
     },
     "metadata": {
      "needs_background": "light"
     },
     "output_type": "display_data"
    }
   ],
   "source": [
    "dc.plot(kind='line',x='DATE',y='14_DAY',color='green',grid='True',figsize=(12,6)).set_xlabel('Date');"
   ]
  },
  {
   "cell_type": "markdown",
   "id": "prerequisite-species",
   "metadata": {
    "papermill": {
     "duration": 0.010728,
     "end_time": "2021-07-22T22:11:14.278606",
     "exception": false,
     "start_time": "2021-07-22T22:11:14.267878",
     "status": "completed"
    },
    "tags": []
   },
   "source": [
    "## Figure 3: Rolling 14-day average of daily new cases."
   ]
  },
  {
   "cell_type": "markdown",
   "id": "palestinian-guard",
   "metadata": {
    "papermill": {
     "duration": 0.010522,
     "end_time": "2021-07-22T22:11:14.299689",
     "exception": false,
     "start_time": "2021-07-22T22:11:14.289167",
     "status": "completed"
    },
    "tags": []
   },
   "source": [
    "Data source: [Wisconsin Department of Health Services](https://data.dhsgis.wi.gov/datasets/wi-dhs::covid-19-historical-data-by-county-1)"
   ]
  },
  {
   "cell_type": "code",
   "execution_count": 9,
   "id": "proof-medicare",
   "metadata": {
    "execution": {
     "iopub.execute_input": "2021-07-22T22:11:14.325809Z",
     "iopub.status.busy": "2021-07-22T22:11:14.325046Z",
     "iopub.status.idle": "2021-07-22T22:11:14.327514Z",
     "shell.execute_reply": "2021-07-22T22:11:14.327926Z"
    },
    "jupyter": {
     "source_hidden": true
    },
    "papermill": {
     "duration": 0.017746,
     "end_time": "2021-07-22T22:11:14.328049",
     "exception": false,
     "start_time": "2021-07-22T22:11:14.310303",
     "status": "completed"
    },
    "tags": []
   },
   "outputs": [
    {
     "data": {
      "text/html": [
       "<style>\n",
       "div.input {\n",
       "    display:none;\n",
       "}\n",
       "</style>\n"
      ],
      "text/plain": [
       "<IPython.core.display.HTML object>"
      ]
     },
     "metadata": {},
     "output_type": "display_data"
    }
   ],
   "source": [
    "%%html\n",
    "<style>\n",
    "div.input {\n",
    "    display:none;\n",
    "}\n",
    "</style>"
   ]
  }
 ],
 "metadata": {
  "kernelspec": {
   "display_name": "Python 3",
   "language": "python",
   "name": "python3"
  },
  "language_info": {
   "codemirror_mode": {
    "name": "ipython",
    "version": 3
   },
   "file_extension": ".py",
   "mimetype": "text/x-python",
   "name": "python",
   "nbconvert_exporter": "python",
   "pygments_lexer": "ipython3",
   "version": "3.8.11"
  },
  "papermill": {
   "duration": 3.823093,
   "end_time": "2021-07-22T22:11:14.546076",
   "environment_variables": {},
   "exception": null,
   "input_path": "DunnCounty_COVID19.ipynb",
   "output_path": "DunnCounty_COVID19.ipynb",
   "parameters": {
    "Start": "True",
    "secretsPath": "/home/runner/work/_temp/secrets.json"
   },
   "start_time": "2021-07-22T22:11:10.722983",
   "version": "1.1.16"
  }
 },
 "nbformat": 4,
 "nbformat_minor": 5
}