{
 "cells": [
  {
   "cell_type": "code",
   "execution_count": 1,
   "metadata": {
    "execution": {
     "iopub.execute_input": "2021-01-06T10:27:49.889887Z",
     "iopub.status.busy": "2021-01-06T10:27:49.889248Z",
     "iopub.status.idle": "2021-01-06T10:27:52.296628Z",
     "shell.execute_reply": "2021-01-06T10:27:52.295979Z"
    },
    "jupyter": {
     "source_hidden": true
    },
    "papermill": {
     "duration": 2.428851,
     "end_time": "2021-01-06T10:27:52.296835",
     "exception": false,
     "start_time": "2021-01-06T10:27:49.867984",
     "status": "completed"
    },
    "scrolled": true,
    "tags": [
     "hide-input"
    ]
   },
   "outputs": [],
   "source": [
    "import pandas as pd\n",
    "import matplotlib.pyplot as plt\n",
    "from matplotlib import dates\n",
    "from IPython.display import display, Markdown\n",
    "%matplotlib inline"
   ]
  },
  {
   "cell_type": "code",
   "execution_count": 2,
   "metadata": {
    "execution": {
     "iopub.execute_input": "2021-01-06T10:27:52.323556Z",
     "iopub.status.busy": "2021-01-06T10:27:52.322742Z",
     "iopub.status.idle": "2021-01-06T10:27:53.175531Z",
     "shell.execute_reply": "2021-01-06T10:27:53.174920Z"
    },
    "jupyter": {
     "source_hidden": true
    },
    "papermill": {
     "duration": 0.869159,
     "end_time": "2021-01-06T10:27:53.175684",
     "exception": false,
     "start_time": "2021-01-06T10:27:52.306525",
     "status": "completed"
    },
    "scrolled": true,
    "tags": [
     "hide-input"
    ]
   },
   "outputs": [],
   "source": [
    "# This is the data for all of Wisconsin.\n",
    "url = \"https://opendata.arcgis.com/datasets/5374188992374b318d3e2305216ee413_12.csv\"\n",
    "data = pd.read_csv(url, parse_dates=['DATE'], low_memory=False)"
   ]
  },
  {
   "cell_type": "code",
   "execution_count": 3,
   "metadata": {
    "execution": {
     "iopub.execute_input": "2021-01-06T10:27:53.199271Z",
     "iopub.status.busy": "2021-01-06T10:27:53.198663Z",
     "iopub.status.idle": "2021-01-06T10:27:53.207720Z",
     "shell.execute_reply": "2021-01-06T10:27:53.207157Z"
    },
    "jupyter": {
     "source_hidden": true
    },
    "papermill": {
     "duration": 0.023752,
     "end_time": "2021-01-06T10:27:53.207848",
     "exception": false,
     "start_time": "2021-01-06T10:27:53.184096",
     "status": "completed"
    },
    "scrolled": true,
    "tags": [
     "hide-input"
    ]
   },
   "outputs": [],
   "source": [
    "dc = data.groupby('NAME').get_group('Dunn').sort_values(by='DATE') # Select the data for Dunn County from the full data.\n",
    "PNi = dc.columns.get_loc(\"POS_NEW\")\n",
    "dc['7_DAY'] = dc.iloc[:,PNi].rolling(window=7).mean() # Calculates the rolling 7-day average of new cases.\n",
    "dc['14_DAY'] = dc.iloc[:,PNi].rolling(window=14).mean() # Calculates the rolling 14-day average of new cases."
   ]
  },
  {
   "cell_type": "code",
   "execution_count": 4,
   "metadata": {
    "execution": {
     "iopub.execute_input": "2021-01-06T10:27:53.231652Z",
     "iopub.status.busy": "2021-01-06T10:27:53.230972Z",
     "iopub.status.idle": "2021-01-06T10:27:53.234108Z",
     "shell.execute_reply": "2021-01-06T10:27:53.234661Z"
    },
    "jupyter": {
     "source_hidden": true
    },
    "papermill": {
     "duration": 0.019071,
     "end_time": "2021-01-06T10:27:53.234831",
     "exception": false,
     "start_time": "2021-01-06T10:27:53.215760",
     "status": "completed"
    },
    "scrolled": true,
    "tags": [
     "hide-input"
    ]
   },
   "outputs": [
    {
     "data": {
      "text/markdown": [
       "### Last updated: January 05, 2021"
      ],
      "text/plain": [
       "<IPython.core.display.Markdown object>"
      ]
     },
     "metadata": {},
     "output_type": "display_data"
    }
   ],
   "source": [
    "display(Markdown('### Last updated: ' + dc.iloc[-1]['DATE'].strftime(\"%B %d, %Y\")))"
   ]
  },
  {
   "cell_type": "code",
   "execution_count": 5,
   "metadata": {
    "execution": {
     "iopub.execute_input": "2021-01-06T10:27:53.257102Z",
     "iopub.status.busy": "2021-01-06T10:27:53.256450Z",
     "iopub.status.idle": "2021-01-06T10:27:53.259362Z",
     "shell.execute_reply": "2021-01-06T10:27:53.259914Z"
    },
    "jupyter": {
     "source_hidden": true
    },
    "papermill": {
     "duration": 0.017235,
     "end_time": "2021-01-06T10:27:53.260074",
     "exception": false,
     "start_time": "2021-01-06T10:27:53.242839",
     "status": "completed"
    },
    "tags": [
     "hide-input"
    ]
   },
   "outputs": [
    {
     "data": {
      "text/markdown": [
       "# Dunn County has 3595 total positive cases, with 15 new cases reported today."
      ],
      "text/plain": [
       "<IPython.core.display.Markdown object>"
      ]
     },
     "metadata": {},
     "output_type": "display_data"
    }
   ],
   "source": [
    "display(Markdown('# Dunn County has ' + str(dc.iloc[-1]['POSITIVE']) + ' total positive cases, with '+ str(int(dc.iloc[-1]['POS_NEW'])) + ' new cases reported today.'))"
   ]
  },
  {
   "cell_type": "code",
   "execution_count": 6,
   "metadata": {
    "execution": {
     "iopub.execute_input": "2021-01-06T10:27:53.281764Z",
     "iopub.status.busy": "2021-01-06T10:27:53.280874Z",
     "iopub.status.idle": "2021-01-06T10:27:53.605298Z",
     "shell.execute_reply": "2021-01-06T10:27:53.604785Z"
    },
    "jupyter": {
     "source_hidden": true
    },
    "papermill": {
     "duration": 0.33686,
     "end_time": "2021-01-06T10:27:53.605468",
     "exception": false,
     "start_time": "2021-01-06T10:27:53.268608",
     "status": "completed"
    },
    "scrolled": false,
    "tags": [
     "hide-input"
    ]
   },
   "outputs": [
    {
     "data": {
      "image/png": "[encoded data removed]",
      "text/plain": [
       "<Figure size 864x432 with 1 Axes>"
      ]
     },
     "metadata": {
      "needs_background": "light"
     },
     "output_type": "display_data"
    }
   ],
   "source": [
    "dc.plot(x='DATE',y='POSITIVE',color='red',grid='True',figsize=(12,6)).set_xlabel('Date');"
   ]
  },
  {
   "cell_type": "markdown",
   "metadata": {
    "papermill": {
     "duration": 0.011479,
     "end_time": "2021-01-06T10:27:53.626993",
     "exception": false,
     "start_time": "2021-01-06T10:27:53.615514",
     "status": "completed"
    },
    "tags": []
   },
   "source": [
    "## Figure 1: Cummulative number of positive cases."
   ]
  },
  {
   "cell_type": "code",
   "execution_count": 7,
   "metadata": {
    "execution": {
     "iopub.execute_input": "2021-01-06T10:27:53.651399Z",
     "iopub.status.busy": "2021-01-06T10:27:53.650736Z",
     "iopub.status.idle": "2021-01-06T10:27:53.936977Z",
     "shell.execute_reply": "2021-01-06T10:27:53.937508Z"
    },
    "jupyter": {
     "source_hidden": true
    },
    "papermill": {
     "duration": 0.301341,
     "end_time": "2021-01-06T10:27:53.937712",
     "exception": false,
     "start_time": "2021-01-06T10:27:53.636371",
     "status": "completed"
    },
    "scrolled": false,
    "tags": [
     "hide-input"
    ]
   },
   "outputs": [
    {
     "data": {
      "image/png": "[encoded data removed]",
      "text/plain": [
       "<Figure size 864x432 with 1 Axes>"
      ]
     },
     "metadata": {
      "needs_background": "light"
     },
     "output_type": "display_data"
    }
   ],
   "source": [
    "dc.plot(kind='line',x='DATE',y='7_DAY',color='blue',grid='True',figsize=(12,6)).set_xlabel('Date');"
   ]
  },
  {
   "cell_type": "markdown",
   "metadata": {
    "papermill": {
     "duration": 0.013247,
     "end_time": "2021-01-06T10:27:53.962191",
     "exception": false,
     "start_time": "2021-01-06T10:27:53.948944",
     "status": "completed"
    },
    "tags": []
   },
   "source": [
    "## Figure 2: Rolling 7-day average of daily new cases."
   ]
  },
  {
   "cell_type": "code",
   "execution_count": 8,
   "metadata": {
    "execution": {
     "iopub.execute_input": "2021-01-06T10:27:53.990218Z",
     "iopub.status.busy": "2021-01-06T10:27:53.989583Z",
     "iopub.status.idle": "2021-01-06T10:27:54.282218Z",
     "shell.execute_reply": "2021-01-06T10:27:54.282707Z"
    },
    "jupyter": {
     "source_hidden": true
    },
    "papermill": {
     "duration": 0.309299,
     "end_time": "2021-01-06T10:27:54.282875",
     "exception": false,
     "start_time": "2021-01-06T10:27:53.973576",
     "status": "completed"
    },
    "tags": []
   },
   "outputs": [
    {
     "data": {
      "image/png": "[encoded data removed]",
      "text/plain": [
       "<Figure size 864x432 with 1 Axes>"
      ]
     },
     "metadata": {
      "needs_background": "light"
     },
     "output_type": "display_data"
    }
   ],
   "source": [
    "dc.plot(kind='line',x='DATE',y='14_DAY',color='green',grid='True',figsize=(12,6)).set_xlabel('Date');"
   ]
  },
  {
   "cell_type": "markdown",
   "metadata": {
    "papermill": {
     "duration": 0.012115,
     "end_time": "2021-01-06T10:27:54.306376",
     "exception": false,
     "start_time": "2021-01-06T10:27:54.294261",
     "status": "completed"
    },
    "tags": []
   },
   "source": [
    "## Figure 3: Rolling 14-day average of daily new cases."
   ]
  },
  {
   "cell_type": "markdown",
   "metadata": {
    "papermill": {
     "duration": 0.011944,
     "end_time": "2021-01-06T10:27:54.329505",
     "exception": false,
     "start_time": "2021-01-06T10:27:54.317561",
     "status": "completed"
    },
    "tags": []
   },
   "source": [
    "Data source: [Wisconsin Department of Health Services](https://data.dhsgis.wi.gov/datasets/covid-19-historical-data-table/)"
   ]
  },
  {
   "cell_type": "code",
   "execution_count": 9,
   "metadata": {
    "execution": {
     "iopub.execute_input": "2021-01-06T10:27:54.356989Z",
     "iopub.status.busy": "2021-01-06T10:27:54.356431Z",
     "iopub.status.idle": "2021-01-06T10:27:54.360207Z",
     "shell.execute_reply": "2021-01-06T10:27:54.359702Z"
    },
    "jupyter": {
     "source_hidden": true
    },
    "papermill": {
     "duration": 0.020112,
     "end_time": "2021-01-06T10:27:54.360349",
     "exception": false,
     "start_time": "2021-01-06T10:27:54.340237",
     "status": "completed"
    },
    "tags": []
   },
   "outputs": [
    {
     "data": {
      "text/html": [
       "<style>\n",
       "div.input {\n",
       "    display:none;\n",
       "}\n",
       "</style>\n"
      ],
      "text/plain": [
       "<IPython.core.display.HTML object>"
      ]
     },
     "metadata": {},
     "output_type": "display_data"
    }
   ],
   "source": [
    "%%html\n",
    "<style>\n",
    "div.input {\n",
    "    display:none;\n",
    "}\n",
    "</style>"
   ]
  }
 ],
 "metadata": {
  "kernelspec": {
   "display_name": "Python 3",
   "language": "python",
   "name": "python3"
  },
  "language_info": {
   "codemirror_mode": {
    "name": "ipython",
    "version": 3
   },
   "file_extension": ".py",
   "mimetype": "text/x-python",
   "name": "python",
   "nbconvert_exporter": "python",
   "pygments_lexer": "ipython3",
   "version": "3.8.6"
  },
  "papermill": {
   "duration": 6.232614,
   "end_time": "2021-01-06T10:27:54.680636",
   "environment_variables": {},
   "exception": null,
   "input_path": "DunnCounty_COVID19.ipynb",
   "output_path": "DunnCounty_COVID19.ipynb",
   "parameters": {
    "Start": "True",
    "secretsPath": "/home/runner/work/_temp/secrets.json"
   },
   "start_time": "2021-01-06T10:27:48.448022",
   "version": "1.1.16"
  }
 },
 "nbformat": 4,
 "nbformat_minor": 2
}