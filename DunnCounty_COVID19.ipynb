{
 "cells": [
  {
   "cell_type": "code",
   "execution_count": 1,
   "id": "solar-understanding",
   "metadata": {
    "execution": {
     "iopub.execute_input": "2021-07-06T10:12:30.154411Z",
     "iopub.status.busy": "2021-07-06T10:12:30.153908Z",
     "iopub.status.idle": "2021-07-06T10:12:30.864388Z",
     "shell.execute_reply": "2021-07-06T10:12:30.864824Z"
    },
    "jupyter": {
     "source_hidden": true
    },
    "papermill": {
     "duration": 0.727614,
     "end_time": "2021-07-06T10:12:30.865114",
     "exception": false,
     "start_time": "2021-07-06T10:12:30.137500",
     "status": "completed"
    },
    "scrolled": true,
    "tags": [
     "hide-input"
    ]
   },
   "outputs": [],
   "source": [
    "import pandas as pd\n",
    "import matplotlib.pyplot as plt\n",
    "from matplotlib import dates\n",
    "from IPython.display import display, Markdown\n",
    "%matplotlib inline"
   ]
  },
  {
   "cell_type": "code",
   "execution_count": 2,
   "id": "purple-playlist",
   "metadata": {
    "execution": {
     "iopub.execute_input": "2021-07-06T10:12:30.887800Z",
     "iopub.status.busy": "2021-07-06T10:12:30.887324Z",
     "iopub.status.idle": "2021-07-06T10:12:31.721155Z",
     "shell.execute_reply": "2021-07-06T10:12:31.720286Z"
    },
    "jupyter": {
     "source_hidden": true
    },
    "papermill": {
     "duration": 0.847255,
     "end_time": "2021-07-06T10:12:31.721288",
     "exception": false,
     "start_time": "2021-07-06T10:12:30.874033",
     "status": "completed"
    },
    "scrolled": true,
    "tags": [
     "hide-input"
    ]
   },
   "outputs": [],
   "source": [
    "# This is the data for all of Wisconsin.\n",
    "url = \"https://opendata.arcgis.com/api/v3/datasets/3161f6e01d8141c6abe85a29ff7f3d3c_12/downloads/data?format=csv&spatialRefId=3857\"\n",
    "data = pd.read_csv(url, parse_dates=['DATE'], low_memory=False)"
   ]
  },
  {
   "cell_type": "code",
   "execution_count": 3,
   "id": "proprietary-klein",
   "metadata": {
    "execution": {
     "iopub.execute_input": "2021-07-06T10:12:31.742711Z",
     "iopub.status.busy": "2021-07-06T10:12:31.742241Z",
     "iopub.status.idle": "2021-07-06T10:12:31.750350Z",
     "shell.execute_reply": "2021-07-06T10:12:31.749948Z"
    },
    "jupyter": {
     "source_hidden": true
    },
    "papermill": {
     "duration": 0.021271,
     "end_time": "2021-07-06T10:12:31.750449",
     "exception": false,
     "start_time": "2021-07-06T10:12:31.729178",
     "status": "completed"
    },
    "scrolled": true,
    "tags": [
     "hide-input"
    ]
   },
   "outputs": [],
   "source": [
    "dc = data.groupby('NAME').get_group('Dunn').sort_values(by='DATE') # Select the data for Dunn County from the full data.\n",
    "PNi = dc.columns.get_loc(\"POS_NEW\")\n",
    "dc['7_DAY'] = dc.iloc[:,PNi].rolling(window=7).mean() # Calculates the rolling 7-day average of new cases.\n",
    "dc['14_DAY'] = dc.iloc[:,PNi].rolling(window=14).mean() # Calculates the rolling 14-day average of new cases."
   ]
  },
  {
   "cell_type": "code",
   "execution_count": 4,
   "id": "steady-supervision",
   "metadata": {
    "execution": {
     "iopub.execute_input": "2021-07-06T10:12:31.772721Z",
     "iopub.status.busy": "2021-07-06T10:12:31.769977Z",
     "iopub.status.idle": "2021-07-06T10:12:31.774731Z",
     "shell.execute_reply": "2021-07-06T10:12:31.775120Z"
    },
    "jupyter": {
     "source_hidden": true
    },
    "papermill": {
     "duration": 0.017226,
     "end_time": "2021-07-06T10:12:31.775230",
     "exception": false,
     "start_time": "2021-07-06T10:12:31.758004",
     "status": "completed"
    },
    "scrolled": true,
    "tags": [
     "hide-input"
    ]
   },
   "outputs": [
    {
     "data": {
      "text/markdown": [
       "### Last updated: July 05, 2021"
      ],
      "text/plain": [
       "<IPython.core.display.Markdown object>"
      ]
     },
     "metadata": {},
     "output_type": "display_data"
    }
   ],
   "source": [
    "display(Markdown('### Last updated: ' + dc.iloc[-1]['DATE'].strftime(\"%B %d, %Y\")))"
   ]
  },
  {
   "cell_type": "code",
   "execution_count": 5,
   "id": "lonely-pitch",
   "metadata": {
    "execution": {
     "iopub.execute_input": "2021-07-06T10:12:31.795378Z",
     "iopub.status.busy": "2021-07-06T10:12:31.794928Z",
     "iopub.status.idle": "2021-07-06T10:12:31.797515Z",
     "shell.execute_reply": "2021-07-06T10:12:31.797118Z"
    },
    "jupyter": {
     "source_hidden": true
    },
    "papermill": {
     "duration": 0.01452,
     "end_time": "2021-07-06T10:12:31.797609",
     "exception": false,
     "start_time": "2021-07-06T10:12:31.783089",
     "status": "completed"
    },
    "tags": [
     "hide-input"
    ]
   },
   "outputs": [
    {
     "data": {
      "text/markdown": [
       "# Dunn County has 4723 total positive cases, with 2 new cases reported today."
      ],
      "text/plain": [
       "<IPython.core.display.Markdown object>"
      ]
     },
     "metadata": {},
     "output_type": "display_data"
    }
   ],
   "source": [
    "display(Markdown('# Dunn County has ' + str(dc.iloc[-1]['POSITIVE']) + ' total positive cases, with '+ str(int(dc.iloc[-1]['POS_NEW'])) + ' new cases reported today.'))"
   ]
  },
  {
   "cell_type": "code",
   "execution_count": 6,
   "id": "compound-nightmare",
   "metadata": {
    "execution": {
     "iopub.execute_input": "2021-07-06T10:12:31.817413Z",
     "iopub.status.busy": "2021-07-06T10:12:31.816878Z",
     "iopub.status.idle": "2021-07-06T10:12:32.122317Z",
     "shell.execute_reply": "2021-07-06T10:12:32.122695Z"
    },
    "jupyter": {
     "source_hidden": true
    },
    "papermill": {
     "duration": 0.317059,
     "end_time": "2021-07-06T10:12:32.122836",
     "exception": false,
     "start_time": "2021-07-06T10:12:31.805777",
     "status": "completed"
    },
    "scrolled": false,
    "tags": [
     "hide-input"
    ]
   },
   "outputs": [
    {
     "data": {
      "image/png": "[encoded data removed]",
      "text/plain": [
       "<Figure size 864x432 with 1 Axes>"
      ]
     },
     "metadata": {
      "needs_background": "light"
     },
     "output_type": "display_data"
    }
   ],
   "source": [
    "dc.plot(x='DATE',y='POSITIVE',color='red',grid='True',figsize=(12,6)).set_xlabel('Date');"
   ]
  },
  {
   "cell_type": "markdown",
   "id": "coupled-literacy",
   "metadata": {
    "papermill": {
     "duration": 0.009547,
     "end_time": "2021-07-06T10:12:32.141822",
     "exception": false,
     "start_time": "2021-07-06T10:12:32.132275",
     "status": "completed"
    },
    "tags": []
   },
   "source": [
    "## Figure 1: Cummulative number of positive cases."
   ]
  },
  {
   "cell_type": "code",
   "execution_count": 7,
   "id": "surrounded-reserve",
   "metadata": {
    "execution": {
     "iopub.execute_input": "2021-07-06T10:12:32.163880Z",
     "iopub.status.busy": "2021-07-06T10:12:32.163429Z",
     "iopub.status.idle": "2021-07-06T10:12:32.350030Z",
     "shell.execute_reply": "2021-07-06T10:12:32.350696Z"
    },
    "jupyter": {
     "source_hidden": true
    },
    "papermill": {
     "duration": 0.200091,
     "end_time": "2021-07-06T10:12:32.350877",
     "exception": false,
     "start_time": "2021-07-06T10:12:32.150786",
     "status": "completed"
    },
    "scrolled": false,
    "tags": [
     "hide-input"
    ]
   },
   "outputs": [
    {
     "data": {
      "image/png": "[encoded data removed]",
      "text/plain": [
       "<Figure size 864x432 with 1 Axes>"
      ]
     },
     "metadata": {
      "needs_background": "light"
     },
     "output_type": "display_data"
    }
   ],
   "source": [
    "dc.plot(kind='line',x='DATE',y='7_DAY',color='blue',grid='True',figsize=(12,6)).set_xlabel('Date');"
   ]
  },
  {
   "cell_type": "markdown",
   "id": "professional-savannah",
   "metadata": {
    "papermill": {
     "duration": 0.010196,
     "end_time": "2021-07-06T10:12:32.371753",
     "exception": false,
     "start_time": "2021-07-06T10:12:32.361557",
     "status": "completed"
    },
    "tags": []
   },
   "source": [
    "## Figure 2: Rolling 7-day average of daily new cases."
   ]
  },
  {
   "cell_type": "code",
   "execution_count": 8,
   "id": "stretch-investor",
   "metadata": {
    "execution": {
     "iopub.execute_input": "2021-07-06T10:12:32.395421Z",
     "iopub.status.busy": "2021-07-06T10:12:32.394970Z",
     "iopub.status.idle": "2021-07-06T10:12:32.573969Z",
     "shell.execute_reply": "2021-07-06T10:12:32.574388Z"
    },
    "jupyter": {
     "source_hidden": true
    },
    "papermill": {
     "duration": 0.192821,
     "end_time": "2021-07-06T10:12:32.574518",
     "exception": false,
     "start_time": "2021-07-06T10:12:32.381697",
     "status": "completed"
    },
    "tags": []
   },
   "outputs": [
    {
     "data": {
      "image/png": "[encoded data removed]",
      "text/plain": [
       "<Figure size 864x432 with 1 Axes>"
      ]
     },
     "metadata": {
      "needs_background": "light"
     },
     "output_type": "display_data"
    }
   ],
   "source": [
    "dc.plot(kind='line',x='DATE',y='14_DAY',color='green',grid='True',figsize=(12,6)).set_xlabel('Date');"
   ]
  },
  {
   "cell_type": "markdown",
   "id": "prerequisite-species",
   "metadata": {
    "papermill": {
     "duration": 0.010866,
     "end_time": "2021-07-06T10:12:32.596899",
     "exception": false,
     "start_time": "2021-07-06T10:12:32.586033",
     "status": "completed"
    },
    "tags": []
   },
   "source": [
    "## Figure 3: Rolling 14-day average of daily new cases."
   ]
  },
  {
   "cell_type": "markdown",
   "id": "palestinian-guard",
   "metadata": {
    "papermill": {
     "duration": 0.010851,
     "end_time": "2021-07-06T10:12:32.618593",
     "exception": false,
     "start_time": "2021-07-06T10:12:32.607742",
     "status": "completed"
    },
    "tags": []
   },
   "source": [
    "Data source: [Wisconsin Department of Health Services](https://data.dhsgis.wi.gov/datasets/wi-dhs::covid-19-historical-data-by-county-1)"
   ]
  },
  {
   "cell_type": "code",
   "execution_count": 9,
   "id": "proof-medicare",
   "metadata": {
    "execution": {
     "iopub.execute_input": "2021-07-06T10:12:32.644664Z",
     "iopub.status.busy": "2021-07-06T10:12:32.644211Z",
     "iopub.status.idle": "2021-07-06T10:12:32.646607Z",
     "shell.execute_reply": "2021-07-06T10:12:32.646995Z"
    },
    "jupyter": {
     "source_hidden": true
    },
    "papermill": {
     "duration": 0.017613,
     "end_time": "2021-07-06T10:12:32.647107",
     "exception": false,
     "start_time": "2021-07-06T10:12:32.629494",
     "status": "completed"
    },
    "tags": []
   },
   "outputs": [
    {
     "data": {
      "text/html": [
       "<style>\n",
       "div.input {\n",
       "    display:none;\n",
       "}\n",
       "</style>\n"
      ],
      "text/plain": [
       "<IPython.core.display.HTML object>"
      ]
     },
     "metadata": {},
     "output_type": "display_data"
    }
   ],
   "source": [
    "%%html\n",
    "<style>\n",
    "div.input {\n",
    "    display:none;\n",
    "}\n",
    "</style>"
   ]
  }
 ],
 "metadata": {
  "kernelspec": {
   "display_name": "Python 3",
   "language": "python",
   "name": "python3"
  },
  "language_info": {
   "codemirror_mode": {
    "name": "ipython",
    "version": 3
   },
   "file_extension": ".py",
   "mimetype": "text/x-python",
   "name": "python",
   "nbconvert_exporter": "python",
   "pygments_lexer": "ipython3",
   "version": "3.8.10"
  },
  "papermill": {
   "duration": 3.83445,
   "end_time": "2021-07-06T10:12:32.864887",
   "environment_variables": {},
   "exception": null,
   "input_path": "DunnCounty_COVID19.ipynb",
   "output_path": "DunnCounty_COVID19.ipynb",
   "parameters": {
    "Start": "True",
    "secretsPath": "/home/runner/work/_temp/secrets.json"
   },
   "start_time": "2021-07-06T10:12:29.030437",
   "version": "1.1.16"
  }
 },
 "nbformat": 4,
 "nbformat_minor": 5
}