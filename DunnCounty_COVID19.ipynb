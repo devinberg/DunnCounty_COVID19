{
 "cells": [
  {
   "cell_type": "code",
   "execution_count": 1,
   "id": "solar-understanding",
   "metadata": {
    "execution": {
     "iopub.execute_input": "2021-02-16T22:12:44.848590Z",
     "iopub.status.busy": "2021-02-16T22:12:44.847980Z",
     "iopub.status.idle": "2021-02-16T22:12:46.705348Z",
     "shell.execute_reply": "2021-02-16T22:12:46.705857Z"
    },
    "jupyter": {
     "source_hidden": true
    },
    "papermill": {
     "duration": 1.877786,
     "end_time": "2021-02-16T22:12:46.706149",
     "exception": false,
     "start_time": "2021-02-16T22:12:44.828363",
     "status": "completed"
    },
    "scrolled": true,
    "tags": [
     "hide-input"
    ]
   },
   "outputs": [],
   "source": [
    "import pandas as pd\n",
    "import matplotlib.pyplot as plt\n",
    "from matplotlib import dates\n",
    "from IPython.display import display, Markdown\n",
    "%matplotlib inline"
   ]
  },
  {
   "cell_type": "code",
   "execution_count": 2,
   "id": "purple-playlist",
   "metadata": {
    "execution": {
     "iopub.execute_input": "2021-02-16T22:12:46.731635Z",
     "iopub.status.busy": "2021-02-16T22:12:46.731024Z",
     "iopub.status.idle": "2021-02-16T22:12:47.252733Z",
     "shell.execute_reply": "2021-02-16T22:12:47.251857Z"
    },
    "jupyter": {
     "source_hidden": true
    },
    "papermill": {
     "duration": 0.536823,
     "end_time": "2021-02-16T22:12:47.252872",
     "exception": false,
     "start_time": "2021-02-16T22:12:46.716049",
     "status": "completed"
    },
    "scrolled": true,
    "tags": [
     "hide-input"
    ]
   },
   "outputs": [],
   "source": [
    "# This is the data for all of Wisconsin.\n",
    "url = \"https://opendata.arcgis.com/datasets/5374188992374b318d3e2305216ee413_12.csv\"\n",
    "data = pd.read_csv(url, parse_dates=['DATE'], low_memory=False)"
   ]
  },
  {
   "cell_type": "code",
   "execution_count": 3,
   "id": "proprietary-klein",
   "metadata": {
    "execution": {
     "iopub.execute_input": "2021-02-16T22:12:47.278047Z",
     "iopub.status.busy": "2021-02-16T22:12:47.277441Z",
     "iopub.status.idle": "2021-02-16T22:12:47.286554Z",
     "shell.execute_reply": "2021-02-16T22:12:47.285944Z"
    },
    "jupyter": {
     "source_hidden": true
    },
    "papermill": {
     "duration": 0.024585,
     "end_time": "2021-02-16T22:12:47.286678",
     "exception": false,
     "start_time": "2021-02-16T22:12:47.262093",
     "status": "completed"
    },
    "scrolled": true,
    "tags": [
     "hide-input"
    ]
   },
   "outputs": [],
   "source": [
    "dc = data.groupby('NAME').get_group('Dunn').sort_values(by='DATE') # Select the data for Dunn County from the full data.\n",
    "PNi = dc.columns.get_loc(\"POS_NEW\")\n",
    "dc['7_DAY'] = dc.iloc[:,PNi].rolling(window=7).mean() # Calculates the rolling 7-day average of new cases.\n",
    "dc['14_DAY'] = dc.iloc[:,PNi].rolling(window=14).mean() # Calculates the rolling 14-day average of new cases."
   ]
  },
  {
   "cell_type": "code",
   "execution_count": 4,
   "id": "steady-supervision",
   "metadata": {
    "execution": {
     "iopub.execute_input": "2021-02-16T22:12:47.315202Z",
     "iopub.status.busy": "2021-02-16T22:12:47.314488Z",
     "iopub.status.idle": "2021-02-16T22:12:47.317151Z",
     "shell.execute_reply": "2021-02-16T22:12:47.317872Z"
    },
    "jupyter": {
     "source_hidden": true
    },
    "papermill": {
     "duration": 0.021901,
     "end_time": "2021-02-16T22:12:47.318019",
     "exception": false,
     "start_time": "2021-02-16T22:12:47.296118",
     "status": "completed"
    },
    "scrolled": true,
    "tags": [
     "hide-input"
    ]
   },
   "outputs": [
    {
     "data": {
      "text/markdown": [
       "### Last updated: February 16, 2021"
      ],
      "text/plain": [
       "<IPython.core.display.Markdown object>"
      ]
     },
     "metadata": {},
     "output_type": "display_data"
    }
   ],
   "source": [
    "display(Markdown('### Last updated: ' + dc.iloc[-1]['DATE'].strftime(\"%B %d, %Y\")))"
   ]
  },
  {
   "cell_type": "code",
   "execution_count": 5,
   "id": "lonely-pitch",
   "metadata": {
    "execution": {
     "iopub.execute_input": "2021-02-16T22:12:47.348558Z",
     "iopub.status.busy": "2021-02-16T22:12:47.347963Z",
     "iopub.status.idle": "2021-02-16T22:12:47.351596Z",
     "shell.execute_reply": "2021-02-16T22:12:47.352158Z"
    },
    "jupyter": {
     "source_hidden": true
    },
    "papermill": {
     "duration": 0.020398,
     "end_time": "2021-02-16T22:12:47.352294",
     "exception": false,
     "start_time": "2021-02-16T22:12:47.331896",
     "status": "completed"
    },
    "tags": [
     "hide-input"
    ]
   },
   "outputs": [
    {
     "data": {
      "text/markdown": [
       "# Dunn County has 4200 total positive cases, with 6 new cases reported today."
      ],
      "text/plain": [
       "<IPython.core.display.Markdown object>"
      ]
     },
     "metadata": {},
     "output_type": "display_data"
    }
   ],
   "source": [
    "display(Markdown('# Dunn County has ' + str(dc.iloc[-1]['POSITIVE']) + ' total positive cases, with '+ str(int(dc.iloc[-1]['POS_NEW'])) + ' new cases reported today.'))"
   ]
  },
  {
   "cell_type": "code",
   "execution_count": 6,
   "id": "compound-nightmare",
   "metadata": {
    "execution": {
     "iopub.execute_input": "2021-02-16T22:12:47.377185Z",
     "iopub.status.busy": "2021-02-16T22:12:47.376591Z",
     "iopub.status.idle": "2021-02-16T22:12:47.641943Z",
     "shell.execute_reply": "2021-02-16T22:12:47.642480Z"
    },
    "jupyter": {
     "source_hidden": true
    },
    "papermill": {
     "duration": 0.279627,
     "end_time": "2021-02-16T22:12:47.642647",
     "exception": false,
     "start_time": "2021-02-16T22:12:47.363020",
     "status": "completed"
    },
    "scrolled": false,
    "tags": [
     "hide-input"
    ]
   },
   "outputs": [
    {
     "data": {
      "image/png": "[encoded data removed]",
      "text/plain": [
       "<Figure size 864x432 with 1 Axes>"
      ]
     },
     "metadata": {
      "needs_background": "light"
     },
     "output_type": "display_data"
    }
   ],
   "source": [
    "dc.plot(x='DATE',y='POSITIVE',color='red',grid='True',figsize=(12,6)).set_xlabel('Date');"
   ]
  },
  {
   "cell_type": "markdown",
   "id": "coupled-literacy",
   "metadata": {
    "papermill": {
     "duration": 0.010785,
     "end_time": "2021-02-16T22:12:47.664464",
     "exception": false,
     "start_time": "2021-02-16T22:12:47.653679",
     "status": "completed"
    },
    "tags": []
   },
   "source": [
    "## Figure 1: Cummulative number of positive cases."
   ]
  },
  {
   "cell_type": "code",
   "execution_count": 7,
   "id": "surrounded-reserve",
   "metadata": {
    "execution": {
     "iopub.execute_input": "2021-02-16T22:12:47.690350Z",
     "iopub.status.busy": "2021-02-16T22:12:47.689730Z",
     "iopub.status.idle": "2021-02-16T22:12:47.966528Z",
     "shell.execute_reply": "2021-02-16T22:12:47.967080Z"
    },
    "jupyter": {
     "source_hidden": true
    },
    "papermill": {
     "duration": 0.291428,
     "end_time": "2021-02-16T22:12:47.967251",
     "exception": false,
     "start_time": "2021-02-16T22:12:47.675823",
     "status": "completed"
    },
    "scrolled": false,
    "tags": [
     "hide-input"
    ]
   },
   "outputs": [
    {
     "data": {
      "image/png": "[encoded data removed]",
      "text/plain": [
       "<Figure size 864x432 with 1 Axes>"
      ]
     },
     "metadata": {
      "needs_background": "light"
     },
     "output_type": "display_data"
    }
   ],
   "source": [
    "dc.plot(kind='line',x='DATE',y='7_DAY',color='blue',grid='True',figsize=(12,6)).set_xlabel('Date');"
   ]
  },
  {
   "cell_type": "markdown",
   "id": "professional-savannah",
   "metadata": {
    "papermill": {
     "duration": 0.012005,
     "end_time": "2021-02-16T22:12:47.990762",
     "exception": false,
     "start_time": "2021-02-16T22:12:47.978757",
     "status": "completed"
    },
    "tags": []
   },
   "source": [
    "## Figure 2: Rolling 7-day average of daily new cases."
   ]
  },
  {
   "cell_type": "code",
   "execution_count": 8,
   "id": "stretch-investor",
   "metadata": {
    "execution": {
     "iopub.execute_input": "2021-02-16T22:12:48.018332Z",
     "iopub.status.busy": "2021-02-16T22:12:48.017713Z",
     "iopub.status.idle": "2021-02-16T22:12:48.285926Z",
     "shell.execute_reply": "2021-02-16T22:12:48.286485Z"
    },
    "jupyter": {
     "source_hidden": true
    },
    "papermill": {
     "duration": 0.283987,
     "end_time": "2021-02-16T22:12:48.286652",
     "exception": false,
     "start_time": "2021-02-16T22:12:48.002665",
     "status": "completed"
    },
    "tags": []
   },
   "outputs": [
    {
     "data": {
      "image/png": "[encoded data removed]",
      "text/plain": [
       "<Figure size 864x432 with 1 Axes>"
      ]
     },
     "metadata": {
      "needs_background": "light"
     },
     "output_type": "display_data"
    }
   ],
   "source": [
    "dc.plot(kind='line',x='DATE',y='14_DAY',color='green',grid='True',figsize=(12,6)).set_xlabel('Date');"
   ]
  },
  {
   "cell_type": "markdown",
   "id": "prerequisite-species",
   "metadata": {
    "papermill": {
     "duration": 0.012501,
     "end_time": "2021-02-16T22:12:48.311738",
     "exception": false,
     "start_time": "2021-02-16T22:12:48.299237",
     "status": "completed"
    },
    "tags": []
   },
   "source": [
    "## Figure 3: Rolling 14-day average of daily new cases."
   ]
  },
  {
   "cell_type": "markdown",
   "id": "palestinian-guard",
   "metadata": {
    "papermill": {
     "duration": 0.016126,
     "end_time": "2021-02-16T22:12:48.340324",
     "exception": false,
     "start_time": "2021-02-16T22:12:48.324198",
     "status": "completed"
    },
    "tags": []
   },
   "source": [
    "Data source: [Wisconsin Department of Health Services](https://data.dhsgis.wi.gov/datasets/covid-19-historical-data-table/)"
   ]
  },
  {
   "cell_type": "code",
   "execution_count": 9,
   "id": "proof-medicare",
   "metadata": {
    "execution": {
     "iopub.execute_input": "2021-02-16T22:12:48.369905Z",
     "iopub.status.busy": "2021-02-16T22:12:48.369321Z",
     "iopub.status.idle": "2021-02-16T22:12:48.372658Z",
     "shell.execute_reply": "2021-02-16T22:12:48.372148Z"
    },
    "jupyter": {
     "source_hidden": true
    },
    "papermill": {
     "duration": 0.019934,
     "end_time": "2021-02-16T22:12:48.372780",
     "exception": false,
     "start_time": "2021-02-16T22:12:48.352846",
     "status": "completed"
    },
    "tags": []
   },
   "outputs": [
    {
     "data": {
      "text/html": [
       "<style>\n",
       "div.input {\n",
       "    display:none;\n",
       "}\n",
       "</style>\n"
      ],
      "text/plain": [
       "<IPython.core.display.HTML object>"
      ]
     },
     "metadata": {},
     "output_type": "display_data"
    }
   ],
   "source": [
    "%%html\n",
    "<style>\n",
    "div.input {\n",
    "    display:none;\n",
    "}\n",
    "</style>"
   ]
  }
 ],
 "metadata": {
  "kernelspec": {
   "display_name": "Python 3",
   "language": "python",
   "name": "python3"
  },
  "language_info": {
   "codemirror_mode": {
    "name": "ipython",
    "version": 3
   },
   "file_extension": ".py",
   "mimetype": "text/x-python",
   "name": "python",
   "nbconvert_exporter": "python",
   "pygments_lexer": "ipython3",
   "version": "3.8.7"
  },
  "papermill": {
   "duration": 5.464254,
   "end_time": "2021-02-16T22:12:48.693504",
   "environment_variables": {},
   "exception": null,
   "input_path": "DunnCounty_COVID19.ipynb",
   "output_path": "DunnCounty_COVID19.ipynb",
   "parameters": {
    "Start": "True",
    "secretsPath": "/home/runner/work/_temp/secrets.json"
   },
   "start_time": "2021-02-16T22:12:43.229250",
   "version": "1.1.16"
  }
 },
 "nbformat": 4,
 "nbformat_minor": 5
}