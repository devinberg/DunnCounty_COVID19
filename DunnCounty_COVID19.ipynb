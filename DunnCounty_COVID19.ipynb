{
 "cells": [
  {
   "cell_type": "code",
   "execution_count": 1,
   "id": "solar-understanding",
   "metadata": {
    "execution": {
     "iopub.execute_input": "2021-04-25T22:19:00.646183Z",
     "iopub.status.busy": "2021-04-25T22:19:00.645494Z",
     "iopub.status.idle": "2021-04-25T22:19:01.736455Z",
     "shell.execute_reply": "2021-04-25T22:19:01.734863Z"
    },
    "jupyter": {
     "source_hidden": true
    },
    "papermill": {
     "duration": 1.112827,
     "end_time": "2021-04-25T22:19:01.736618",
     "exception": false,
     "start_time": "2021-04-25T22:19:00.623791",
     "status": "completed"
    },
    "scrolled": true,
    "tags": [
     "hide-input"
    ]
   },
   "outputs": [],
   "source": [
    "import pandas as pd\n",
    "import matplotlib.pyplot as plt\n",
    "from matplotlib import dates\n",
    "from IPython.display import display, Markdown\n",
    "%matplotlib inline"
   ]
  },
  {
   "cell_type": "code",
   "execution_count": 2,
   "id": "purple-playlist",
   "metadata": {
    "execution": {
     "iopub.execute_input": "2021-04-25T22:19:01.766006Z",
     "iopub.status.busy": "2021-04-25T22:19:01.765113Z",
     "iopub.status.idle": "2021-04-25T22:19:02.648811Z",
     "shell.execute_reply": "2021-04-25T22:19:02.648217Z"
    },
    "jupyter": {
     "source_hidden": true
    },
    "papermill": {
     "duration": 0.900783,
     "end_time": "2021-04-25T22:19:02.648950",
     "exception": false,
     "start_time": "2021-04-25T22:19:01.748167",
     "status": "completed"
    },
    "scrolled": true,
    "tags": [
     "hide-input"
    ]
   },
   "outputs": [],
   "source": [
    "# This is the data for all of Wisconsin.\n",
    "url = \"https://opendata.arcgis.com/datasets/0b7bac0afc464e7783474cb62272d9b8_12.csv\"\n",
    "data = pd.read_csv(url, parse_dates=['DATE'], low_memory=False)"
   ]
  },
  {
   "cell_type": "code",
   "execution_count": 3,
   "id": "proprietary-klein",
   "metadata": {
    "execution": {
     "iopub.execute_input": "2021-04-25T22:19:02.684698Z",
     "iopub.status.busy": "2021-04-25T22:19:02.684011Z",
     "iopub.status.idle": "2021-04-25T22:19:02.710074Z",
     "shell.execute_reply": "2021-04-25T22:19:02.709372Z"
    },
    "jupyter": {
     "source_hidden": true
    },
    "papermill": {
     "duration": 0.049471,
     "end_time": "2021-04-25T22:19:02.710225",
     "exception": false,
     "start_time": "2021-04-25T22:19:02.660754",
     "status": "completed"
    },
    "scrolled": true,
    "tags": [
     "hide-input"
    ]
   },
   "outputs": [],
   "source": [
    "dc = data.groupby('NAME').get_group('Dunn').sort_values(by='DATE') # Select the data for Dunn County from the full data.\n",
    "PNi = dc.columns.get_loc(\"POS_NEW\")\n",
    "dc['7_DAY'] = dc.iloc[:,PNi].rolling(window=7).mean() # Calculates the rolling 7-day average of new cases.\n",
    "dc['14_DAY'] = dc.iloc[:,PNi].rolling(window=14).mean() # Calculates the rolling 14-day average of new cases."
   ]
  },
  {
   "cell_type": "code",
   "execution_count": 4,
   "id": "steady-supervision",
   "metadata": {
    "execution": {
     "iopub.execute_input": "2021-04-25T22:19:02.741106Z",
     "iopub.status.busy": "2021-04-25T22:19:02.740356Z",
     "iopub.status.idle": "2021-04-25T22:19:02.743414Z",
     "shell.execute_reply": "2021-04-25T22:19:02.744104Z"
    },
    "jupyter": {
     "source_hidden": true
    },
    "papermill": {
     "duration": 0.022339,
     "end_time": "2021-04-25T22:19:02.744269",
     "exception": false,
     "start_time": "2021-04-25T22:19:02.721930",
     "status": "completed"
    },
    "scrolled": true,
    "tags": [
     "hide-input"
    ]
   },
   "outputs": [
    {
     "data": {
      "text/markdown": [
       "### Last updated: April 25, 2021"
      ],
      "text/plain": [
       "<IPython.core.display.Markdown object>"
      ]
     },
     "metadata": {},
     "output_type": "display_data"
    }
   ],
   "source": [
    "display(Markdown('### Last updated: ' + dc.iloc[-1]['DATE'].strftime(\"%B %d, %Y\")))"
   ]
  },
  {
   "cell_type": "code",
   "execution_count": 5,
   "id": "lonely-pitch",
   "metadata": {
    "execution": {
     "iopub.execute_input": "2021-04-25T22:19:02.776335Z",
     "iopub.status.busy": "2021-04-25T22:19:02.775725Z",
     "iopub.status.idle": "2021-04-25T22:19:02.779339Z",
     "shell.execute_reply": "2021-04-25T22:19:02.779980Z"
    },
    "jupyter": {
     "source_hidden": true
    },
    "papermill": {
     "duration": 0.022265,
     "end_time": "2021-04-25T22:19:02.780167",
     "exception": false,
     "start_time": "2021-04-25T22:19:02.757902",
     "status": "completed"
    },
    "tags": [
     "hide-input"
    ]
   },
   "outputs": [
    {
     "data": {
      "text/markdown": [
       "# Dunn County has 4594 total positive cases, with 5 new cases reported today."
      ],
      "text/plain": [
       "<IPython.core.display.Markdown object>"
      ]
     },
     "metadata": {},
     "output_type": "display_data"
    }
   ],
   "source": [
    "display(Markdown('# Dunn County has ' + str(dc.iloc[-1]['POSITIVE']) + ' total positive cases, with '+ str(int(dc.iloc[-1]['POS_NEW'])) + ' new cases reported today.'))"
   ]
  },
  {
   "cell_type": "code",
   "execution_count": 6,
   "id": "compound-nightmare",
   "metadata": {
    "execution": {
     "iopub.execute_input": "2021-04-25T22:19:02.809119Z",
     "iopub.status.busy": "2021-04-25T22:19:02.808430Z",
     "iopub.status.idle": "2021-04-25T22:19:03.125895Z",
     "shell.execute_reply": "2021-04-25T22:19:03.126386Z"
    },
    "jupyter": {
     "source_hidden": true
    },
    "papermill": {
     "duration": 0.334738,
     "end_time": "2021-04-25T22:19:03.126553",
     "exception": false,
     "start_time": "2021-04-25T22:19:02.791815",
     "status": "completed"
    },
    "scrolled": false,
    "tags": [
     "hide-input"
    ]
   },
   "outputs": [
    {
     "data": {
      "image/png": "[encoded data removed]",
      "text/plain": [
       "<Figure size 864x432 with 1 Axes>"
      ]
     },
     "metadata": {
      "needs_background": "light"
     },
     "output_type": "display_data"
    }
   ],
   "source": [
    "dc.plot(x='DATE',y='POSITIVE',color='red',grid='True',figsize=(12,6)).set_xlabel('Date');"
   ]
  },
  {
   "cell_type": "markdown",
   "id": "coupled-literacy",
   "metadata": {
    "papermill": {
     "duration": 0.012303,
     "end_time": "2021-04-25T22:19:03.152687",
     "exception": false,
     "start_time": "2021-04-25T22:19:03.140384",
     "status": "completed"
    },
    "tags": []
   },
   "source": [
    "## Figure 1: Cummulative number of positive cases."
   ]
  },
  {
   "cell_type": "code",
   "execution_count": 7,
   "id": "surrounded-reserve",
   "metadata": {
    "execution": {
     "iopub.execute_input": "2021-04-25T22:19:03.183411Z",
     "iopub.status.busy": "2021-04-25T22:19:03.182770Z",
     "iopub.status.idle": "2021-04-25T22:19:03.440436Z",
     "shell.execute_reply": "2021-04-25T22:19:03.440956Z"
    },
    "jupyter": {
     "source_hidden": true
    },
    "papermill": {
     "duration": 0.276358,
     "end_time": "2021-04-25T22:19:03.441152",
     "exception": false,
     "start_time": "2021-04-25T22:19:03.164794",
     "status": "completed"
    },
    "scrolled": false,
    "tags": [
     "hide-input"
    ]
   },
   "outputs": [
    {
     "data": {
      "image/png": "[encoded data removed]",
      "text/plain": [
       "<Figure size 864x432 with 1 Axes>"
      ]
     },
     "metadata": {
      "needs_background": "light"
     },
     "output_type": "display_data"
    }
   ],
   "source": [
    "dc.plot(kind='line',x='DATE',y='7_DAY',color='blue',grid='True',figsize=(12,6)).set_xlabel('Date');"
   ]
  },
  {
   "cell_type": "markdown",
   "id": "professional-savannah",
   "metadata": {
    "papermill": {
     "duration": 0.013535,
     "end_time": "2021-04-25T22:19:03.468427",
     "exception": false,
     "start_time": "2021-04-25T22:19:03.454892",
     "status": "completed"
    },
    "tags": []
   },
   "source": [
    "## Figure 2: Rolling 7-day average of daily new cases."
   ]
  },
  {
   "cell_type": "code",
   "execution_count": 8,
   "id": "stretch-investor",
   "metadata": {
    "execution": {
     "iopub.execute_input": "2021-04-25T22:19:03.500672Z",
     "iopub.status.busy": "2021-04-25T22:19:03.500000Z",
     "iopub.status.idle": "2021-04-25T22:19:03.782635Z",
     "shell.execute_reply": "2021-04-25T22:19:03.783397Z"
    },
    "jupyter": {
     "source_hidden": true
    },
    "papermill": {
     "duration": 0.301626,
     "end_time": "2021-04-25T22:19:03.783588",
     "exception": false,
     "start_time": "2021-04-25T22:19:03.481962",
     "status": "completed"
    },
    "tags": []
   },
   "outputs": [
    {
     "data": {
      "image/png": "[encoded data removed]",
      "text/plain": [
       "<Figure size 864x432 with 1 Axes>"
      ]
     },
     "metadata": {
      "needs_background": "light"
     },
     "output_type": "display_data"
    }
   ],
   "source": [
    "dc.plot(kind='line',x='DATE',y='14_DAY',color='green',grid='True',figsize=(12,6)).set_xlabel('Date');"
   ]
  },
  {
   "cell_type": "markdown",
   "id": "prerequisite-species",
   "metadata": {
    "papermill": {
     "duration": 0.016957,
     "end_time": "2021-04-25T22:19:03.818531",
     "exception": false,
     "start_time": "2021-04-25T22:19:03.801574",
     "status": "completed"
    },
    "tags": []
   },
   "source": [
    "## Figure 3: Rolling 14-day average of daily new cases."
   ]
  },
  {
   "cell_type": "markdown",
   "id": "palestinian-guard",
   "metadata": {
    "papermill": {
     "duration": 0.014176,
     "end_time": "2021-04-25T22:19:03.846927",
     "exception": false,
     "start_time": "2021-04-25T22:19:03.832751",
     "status": "completed"
    },
    "tags": []
   },
   "source": [
    "Data source: [Wisconsin Department of Health Services](https://data.dhsgis.wi.gov/datasets/covid-19-historical-data-by-county)"
   ]
  },
  {
   "cell_type": "code",
   "execution_count": 9,
   "id": "proof-medicare",
   "metadata": {
    "execution": {
     "iopub.execute_input": "2021-04-25T22:19:03.882656Z",
     "iopub.status.busy": "2021-04-25T22:19:03.881627Z",
     "iopub.status.idle": "2021-04-25T22:19:03.887145Z",
     "shell.execute_reply": "2021-04-25T22:19:03.886584Z"
    },
    "jupyter": {
     "source_hidden": true
    },
    "papermill": {
     "duration": 0.025669,
     "end_time": "2021-04-25T22:19:03.887317",
     "exception": false,
     "start_time": "2021-04-25T22:19:03.861648",
     "status": "completed"
    },
    "tags": []
   },
   "outputs": [
    {
     "data": {
      "text/html": [
       "<style>\n",
       "div.input {\n",
       "    display:none;\n",
       "}\n",
       "</style>\n"
      ],
      "text/plain": [
       "<IPython.core.display.HTML object>"
      ]
     },
     "metadata": {},
     "output_type": "display_data"
    }
   ],
   "source": [
    "%%html\n",
    "<style>\n",
    "div.input {\n",
    "    display:none;\n",
    "}\n",
    "</style>"
   ]
  }
 ],
 "metadata": {
  "kernelspec": {
   "display_name": "Python 3",
   "language": "python",
   "name": "python3"
  },
  "language_info": {
   "codemirror_mode": {
    "name": "ipython",
    "version": 3
   },
   "file_extension": ".py",
   "mimetype": "text/x-python",
   "name": "python",
   "nbconvert_exporter": "python",
   "pygments_lexer": "ipython3",
   "version": "3.8.9"
  },
  "papermill": {
   "duration": 5.275896,
   "end_time": "2021-04-25T22:19:04.310584",
   "environment_variables": {},
   "exception": null,
   "input_path": "DunnCounty_COVID19.ipynb",
   "output_path": "DunnCounty_COVID19.ipynb",
   "parameters": {
    "Start": "True",
    "secretsPath": "/home/runner/work/_temp/secrets.json"
   },
   "start_time": "2021-04-25T22:18:59.034688",
   "version": "1.1.16"
  }
 },
 "nbformat": 4,
 "nbformat_minor": 5
}