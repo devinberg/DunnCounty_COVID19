{
 "cells": [
  {
   "cell_type": "code",
   "execution_count": 1,
   "metadata": {
    "execution": {
     "iopub.execute_input": "2020-09-20T10:09:53.647128Z",
     "iopub.status.busy": "2020-09-20T10:09:53.645624Z",
     "iopub.status.idle": "2020-09-20T10:09:54.781022Z",
     "shell.execute_reply": "2020-09-20T10:09:54.779949Z"
    },
    "jupyter": {
     "source_hidden": true
    },
    "papermill": {
     "duration": 1.15162,
     "end_time": "2020-09-20T10:09:54.781233",
     "exception": false,
     "start_time": "2020-09-20T10:09:53.629613",
     "status": "completed"
    },
    "scrolled": true,
    "tags": [
     "hide-input"
    ]
   },
   "outputs": [],
   "source": [
    "import pandas as pd\n",
    "import matplotlib.pyplot as plt\n",
    "from matplotlib import dates\n",
    "from IPython.display import display, Markdown\n",
    "%matplotlib inline"
   ]
  },
  {
   "cell_type": "code",
   "execution_count": 2,
   "metadata": {
    "execution": {
     "iopub.execute_input": "2020-09-20T10:09:54.801451Z",
     "iopub.status.busy": "2020-09-20T10:09:54.800810Z",
     "iopub.status.idle": "2020-09-20T10:09:57.949131Z",
     "shell.execute_reply": "2020-09-20T10:09:57.948621Z"
    },
    "jupyter": {
     "source_hidden": true
    },
    "papermill": {
     "duration": 3.160619,
     "end_time": "2020-09-20T10:09:57.949295",
     "exception": false,
     "start_time": "2020-09-20T10:09:54.788676",
     "status": "completed"
    },
    "scrolled": true,
    "tags": [
     "hide-input"
    ]
   },
   "outputs": [],
   "source": [
    "# This is the data for all of Wisconsin.\n",
    "url = \"https://opendata.arcgis.com/datasets/b913e9591eae4912b33dc5b4e88646c5_10.csv\"\n",
    "data = pd.read_csv(url, parse_dates=['DATE'], low_memory=False)"
   ]
  },
  {
   "cell_type": "code",
   "execution_count": 3,
   "metadata": {
    "execution": {
     "iopub.execute_input": "2020-09-20T10:09:57.983200Z",
     "iopub.status.busy": "2020-09-20T10:09:57.982616Z",
     "iopub.status.idle": "2020-09-20T10:09:57.993367Z",
     "shell.execute_reply": "2020-09-20T10:09:57.992866Z"
    },
    "jupyter": {
     "source_hidden": true
    },
    "papermill": {
     "duration": 0.035157,
     "end_time": "2020-09-20T10:09:57.993509",
     "exception": false,
     "start_time": "2020-09-20T10:09:57.958352",
     "status": "completed"
    },
    "scrolled": true,
    "tags": [
     "hide-input"
    ]
   },
   "outputs": [],
   "source": [
    "dc = data.groupby('NAME').get_group('Dunn').sort_values(by='DATE') # Select the data for Dunn County from the full data.\n",
    "PNi = dc.columns.get_loc(\"POS_NEW\")\n",
    "dc['7_DAY'] = dc.iloc[:,PNi].rolling(window=7).mean() # Calculates the rolling 7-day average of new cases.\n",
    "dc['14_DAY'] = dc.iloc[:,PNi].rolling(window=14).mean() # Calculates the rolling 14-day average of new cases."
   ]
  },
  {
   "cell_type": "code",
   "execution_count": 4,
   "metadata": {
    "execution": {
     "iopub.execute_input": "2020-09-20T10:09:58.014717Z",
     "iopub.status.busy": "2020-09-20T10:09:58.014174Z",
     "iopub.status.idle": "2020-09-20T10:09:58.020496Z",
     "shell.execute_reply": "2020-09-20T10:09:58.020875Z"
    },
    "jupyter": {
     "source_hidden": true
    },
    "papermill": {
     "duration": 0.020381,
     "end_time": "2020-09-20T10:09:58.021018",
     "exception": false,
     "start_time": "2020-09-20T10:09:58.000637",
     "status": "completed"
    },
    "scrolled": true,
    "tags": [
     "hide-input"
    ]
   },
   "outputs": [
    {
     "data": {
      "text/markdown": [
       "### Last updated: September 19, 2020"
      ],
      "text/plain": [
       "<IPython.core.display.Markdown object>"
      ]
     },
     "metadata": {},
     "output_type": "display_data"
    }
   ],
   "source": [
    "display(Markdown('### Last updated: ' + dc.iloc[-1]['DATE'].strftime(\"%B %d, %Y\")))"
   ]
  },
  {
   "cell_type": "code",
   "execution_count": 5,
   "metadata": {
    "execution": {
     "iopub.execute_input": "2020-09-20T10:09:58.040982Z",
     "iopub.status.busy": "2020-09-20T10:09:58.040426Z",
     "iopub.status.idle": "2020-09-20T10:09:58.043402Z",
     "shell.execute_reply": "2020-09-20T10:09:58.042832Z"
    },
    "jupyter": {
     "source_hidden": true
    },
    "papermill": {
     "duration": 0.015103,
     "end_time": "2020-09-20T10:09:58.043532",
     "exception": false,
     "start_time": "2020-09-20T10:09:58.028429",
     "status": "completed"
    },
    "tags": [
     "hide-input"
    ]
   },
   "outputs": [
    {
     "data": {
      "text/markdown": [
       "# Dunn County has 351 total positive cases, with 32 new cases reported today."
      ],
      "text/plain": [
       "<IPython.core.display.Markdown object>"
      ]
     },
     "metadata": {},
     "output_type": "display_data"
    }
   ],
   "source": [
    "display(Markdown('# Dunn County has ' + str(dc.iloc[-1]['POSITIVE']) + ' total positive cases, with '+ str(int(dc.iloc[-1]['POS_NEW'])) + ' new cases reported today.'))"
   ]
  },
  {
   "cell_type": "code",
   "execution_count": 6,
   "metadata": {
    "execution": {
     "iopub.execute_input": "2020-09-20T10:09:58.064780Z",
     "iopub.status.busy": "2020-09-20T10:09:58.064030Z",
     "iopub.status.idle": "2020-09-20T10:09:58.293639Z",
     "shell.execute_reply": "2020-09-20T10:09:58.294217Z"
    },
    "jupyter": {
     "source_hidden": true
    },
    "papermill": {
     "duration": 0.242594,
     "end_time": "2020-09-20T10:09:58.294413",
     "exception": false,
     "start_time": "2020-09-20T10:09:58.051819",
     "status": "completed"
    },
    "scrolled": false,
    "tags": [
     "hide-input"
    ]
   },
   "outputs": [
    {
     "data": {
      "image/png": "[encoded data removed]",
      "text/plain": [
       "<Figure size 864x432 with 1 Axes>"
      ]
     },
     "metadata": {
      "needs_background": "light"
     },
     "output_type": "display_data"
    }
   ],
   "source": [
    "dc.plot(x='DATE',y='POSITIVE',color='red',grid='True',figsize=(12,6)).set_xlabel('Date');"
   ]
  },
  {
   "cell_type": "markdown",
   "metadata": {
    "papermill": {
     "duration": 0.008995,
     "end_time": "2020-09-20T10:09:58.313829",
     "exception": false,
     "start_time": "2020-09-20T10:09:58.304834",
     "status": "completed"
    },
    "tags": []
   },
   "source": [
    "## Figure 1: Cummulative number of positive cases."
   ]
  },
  {
   "cell_type": "code",
   "execution_count": 7,
   "metadata": {
    "execution": {
     "iopub.execute_input": "2020-09-20T10:09:58.336687Z",
     "iopub.status.busy": "2020-09-20T10:09:58.336151Z",
     "iopub.status.idle": "2020-09-20T10:09:58.551813Z",
     "shell.execute_reply": "2020-09-20T10:09:58.552392Z"
    },
    "jupyter": {
     "source_hidden": true
    },
    "papermill": {
     "duration": 0.229717,
     "end_time": "2020-09-20T10:09:58.552603",
     "exception": false,
     "start_time": "2020-09-20T10:09:58.322886",
     "status": "completed"
    },
    "scrolled": false,
    "tags": [
     "hide-input"
    ]
   },
   "outputs": [
    {
     "data": {
      "image/png": "[encoded data removed]",
      "text/plain": [
       "<Figure size 864x432 with 1 Axes>"
      ]
     },
     "metadata": {
      "needs_background": "light"
     },
     "output_type": "display_data"
    }
   ],
   "source": [
    "dc.plot(kind='line',x='DATE',y='7_DAY',color='blue',grid='True',figsize=(12,6)).set_xlabel('Date');"
   ]
  },
  {
   "cell_type": "markdown",
   "metadata": {
    "papermill": {
     "duration": 0.011116,
     "end_time": "2020-09-20T10:09:58.573796",
     "exception": false,
     "start_time": "2020-09-20T10:09:58.562680",
     "status": "completed"
    },
    "tags": []
   },
   "source": [
    "## Figure 2: Rolling 7-day average of daily new cases."
   ]
  },
  {
   "cell_type": "code",
   "execution_count": 8,
   "metadata": {
    "execution": {
     "iopub.execute_input": "2020-09-20T10:09:58.598541Z",
     "iopub.status.busy": "2020-09-20T10:09:58.597812Z",
     "iopub.status.idle": "2020-09-20T10:09:58.804019Z",
     "shell.execute_reply": "2020-09-20T10:09:58.804788Z"
    },
    "jupyter": {
     "source_hidden": true
    },
    "papermill": {
     "duration": 0.221107,
     "end_time": "2020-09-20T10:09:58.805038",
     "exception": false,
     "start_time": "2020-09-20T10:09:58.583931",
     "status": "completed"
    },
    "tags": []
   },
   "outputs": [
    {
     "data": {
      "image/png": "[encoded data removed]",
      "text/plain": [
       "<Figure size 864x432 with 1 Axes>"
      ]
     },
     "metadata": {
      "needs_background": "light"
     },
     "output_type": "display_data"
    }
   ],
   "source": [
    "dc.plot(kind='line',x='DATE',y='14_DAY',color='green',grid='True',figsize=(12,6)).set_xlabel('Date');"
   ]
  },
  {
   "cell_type": "markdown",
   "metadata": {
    "papermill": {
     "duration": 0.010736,
     "end_time": "2020-09-20T10:09:58.828493",
     "exception": false,
     "start_time": "2020-09-20T10:09:58.817757",
     "status": "completed"
    },
    "tags": []
   },
   "source": [
    "## Figure 3: Rolling 14-day average of daily new cases."
   ]
  },
  {
   "cell_type": "markdown",
   "metadata": {
    "papermill": {
     "duration": 0.010765,
     "end_time": "2020-09-20T10:09:58.849844",
     "exception": false,
     "start_time": "2020-09-20T10:09:58.839079",
     "status": "completed"
    },
    "tags": []
   },
   "source": [
    "Data source: [Wisconsin Department of Health Services](https://data.dhsgis.wi.gov/datasets/covid-19-historical-data-table/)"
   ]
  },
  {
   "cell_type": "code",
   "execution_count": 9,
   "metadata": {
    "execution": {
     "iopub.execute_input": "2020-09-20T10:09:58.876004Z",
     "iopub.status.busy": "2020-09-20T10:09:58.875460Z",
     "iopub.status.idle": "2020-09-20T10:09:58.879047Z",
     "shell.execute_reply": "2020-09-20T10:09:58.879583Z"
    },
    "jupyter": {
     "source_hidden": true
    },
    "papermill": {
     "duration": 0.019139,
     "end_time": "2020-09-20T10:09:58.879728",
     "exception": false,
     "start_time": "2020-09-20T10:09:58.860589",
     "status": "completed"
    },
    "tags": []
   },
   "outputs": [
    {
     "data": {
      "text/html": [
       "<style>\n",
       "div.input {\n",
       "    display:none;\n",
       "}\n",
       "</style>\n"
      ],
      "text/plain": [
       "<IPython.core.display.HTML object>"
      ]
     },
     "metadata": {},
     "output_type": "display_data"
    }
   ],
   "source": [
    "%%html\n",
    "<style>\n",
    "div.input {\n",
    "    display:none;\n",
    "}\n",
    "</style>"
   ]
  }
 ],
 "metadata": {
  "kernelspec": {
   "display_name": "Python 3",
   "language": "python",
   "name": "python3"
  },
  "language_info": {
   "codemirror_mode": {
    "name": "ipython",
    "version": 3
   },
   "file_extension": ".py",
   "mimetype": "text/x-python",
   "name": "python",
   "nbconvert_exporter": "python",
   "pygments_lexer": "ipython3",
   "version": "3.8.5"
  },
  "papermill": {
   "duration": 7.249688,
   "end_time": "2020-09-20T10:09:59.198920",
   "environment_variables": {},
   "exception": null,
   "input_path": "DunnCounty_COVID19.ipynb",
   "output_path": "DunnCounty_COVID19.ipynb",
   "parameters": {
    "Start": "True",
    "secretsPath": "/home/runner/work/_temp/secrets.json"
   },
   "start_time": "2020-09-20T10:09:51.949232",
   "version": "1.1.16"
  }
 },
 "nbformat": 4,
 "nbformat_minor": 2
}