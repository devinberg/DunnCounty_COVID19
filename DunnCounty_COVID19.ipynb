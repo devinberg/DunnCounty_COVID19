{
 "cells": [
  {
   "cell_type": "code",
   "execution_count": 1,
   "id": "solar-understanding",
   "metadata": {
    "execution": {
     "iopub.execute_input": "2021-02-18T10:13:12.721385Z",
     "iopub.status.busy": "2021-02-18T10:13:12.720834Z",
     "iopub.status.idle": "2021-02-18T10:13:15.489330Z",
     "shell.execute_reply": "2021-02-18T10:13:15.488356Z"
    },
    "jupyter": {
     "source_hidden": true
    },
    "papermill": {
     "duration": 2.79239,
     "end_time": "2021-02-18T10:13:15.489558",
     "exception": false,
     "start_time": "2021-02-18T10:13:12.697168",
     "status": "completed"
    },
    "scrolled": true,
    "tags": [
     "hide-input"
    ]
   },
   "outputs": [],
   "source": [
    "import pandas as pd\n",
    "import matplotlib.pyplot as plt\n",
    "from matplotlib import dates\n",
    "from IPython.display import display, Markdown\n",
    "%matplotlib inline"
   ]
  },
  {
   "cell_type": "code",
   "execution_count": 2,
   "id": "purple-playlist",
   "metadata": {
    "execution": {
     "iopub.execute_input": "2021-02-18T10:13:15.512794Z",
     "iopub.status.busy": "2021-02-18T10:13:15.512255Z",
     "iopub.status.idle": "2021-02-18T10:13:16.185021Z",
     "shell.execute_reply": "2021-02-18T10:13:16.186301Z"
    },
    "jupyter": {
     "source_hidden": true
    },
    "papermill": {
     "duration": 0.687864,
     "end_time": "2021-02-18T10:13:16.186550",
     "exception": false,
     "start_time": "2021-02-18T10:13:15.498686",
     "status": "completed"
    },
    "scrolled": true,
    "tags": [
     "hide-input"
    ]
   },
   "outputs": [],
   "source": [
    "# This is the data for all of Wisconsin.\n",
    "url = \"https://opendata.arcgis.com/datasets/5374188992374b318d3e2305216ee413_12.csv\"\n",
    "data = pd.read_csv(url, parse_dates=['DATE'], low_memory=False)"
   ]
  },
  {
   "cell_type": "code",
   "execution_count": 3,
   "id": "proprietary-klein",
   "metadata": {
    "execution": {
     "iopub.execute_input": "2021-02-18T10:13:16.210737Z",
     "iopub.status.busy": "2021-02-18T10:13:16.210190Z",
     "iopub.status.idle": "2021-02-18T10:13:16.218413Z",
     "shell.execute_reply": "2021-02-18T10:13:16.217959Z"
    },
    "jupyter": {
     "source_hidden": true
    },
    "papermill": {
     "duration": 0.022625,
     "end_time": "2021-02-18T10:13:16.218531",
     "exception": false,
     "start_time": "2021-02-18T10:13:16.195906",
     "status": "completed"
    },
    "scrolled": true,
    "tags": [
     "hide-input"
    ]
   },
   "outputs": [],
   "source": [
    "dc = data.groupby('NAME').get_group('Dunn').sort_values(by='DATE') # Select the data for Dunn County from the full data.\n",
    "PNi = dc.columns.get_loc(\"POS_NEW\")\n",
    "dc['7_DAY'] = dc.iloc[:,PNi].rolling(window=7).mean() # Calculates the rolling 7-day average of new cases.\n",
    "dc['14_DAY'] = dc.iloc[:,PNi].rolling(window=14).mean() # Calculates the rolling 14-day average of new cases."
   ]
  },
  {
   "cell_type": "code",
   "execution_count": 4,
   "id": "steady-supervision",
   "metadata": {
    "execution": {
     "iopub.execute_input": "2021-02-18T10:13:16.243687Z",
     "iopub.status.busy": "2021-02-18T10:13:16.243124Z",
     "iopub.status.idle": "2021-02-18T10:13:16.245831Z",
     "shell.execute_reply": "2021-02-18T10:13:16.246290Z"
    },
    "jupyter": {
     "source_hidden": true
    },
    "papermill": {
     "duration": 0.018178,
     "end_time": "2021-02-18T10:13:16.246424",
     "exception": false,
     "start_time": "2021-02-18T10:13:16.228246",
     "status": "completed"
    },
    "scrolled": true,
    "tags": [
     "hide-input"
    ]
   },
   "outputs": [
    {
     "data": {
      "text/markdown": [
       "### Last updated: February 17, 2021"
      ],
      "text/plain": [
       "<IPython.core.display.Markdown object>"
      ]
     },
     "metadata": {},
     "output_type": "display_data"
    }
   ],
   "source": [
    "display(Markdown('### Last updated: ' + dc.iloc[-1]['DATE'].strftime(\"%B %d, %Y\")))"
   ]
  },
  {
   "cell_type": "code",
   "execution_count": 5,
   "id": "lonely-pitch",
   "metadata": {
    "execution": {
     "iopub.execute_input": "2021-02-18T10:13:16.269749Z",
     "iopub.status.busy": "2021-02-18T10:13:16.269213Z",
     "iopub.status.idle": "2021-02-18T10:13:16.272204Z",
     "shell.execute_reply": "2021-02-18T10:13:16.271736Z"
    },
    "jupyter": {
     "source_hidden": true
    },
    "papermill": {
     "duration": 0.016914,
     "end_time": "2021-02-18T10:13:16.272309",
     "exception": false,
     "start_time": "2021-02-18T10:13:16.255395",
     "status": "completed"
    },
    "tags": [
     "hide-input"
    ]
   },
   "outputs": [
    {
     "data": {
      "text/markdown": [
       "# Dunn County has 4204 total positive cases, with 4 new cases reported today."
      ],
      "text/plain": [
       "<IPython.core.display.Markdown object>"
      ]
     },
     "metadata": {},
     "output_type": "display_data"
    }
   ],
   "source": [
    "display(Markdown('# Dunn County has ' + str(dc.iloc[-1]['POSITIVE']) + ' total positive cases, with '+ str(int(dc.iloc[-1]['POS_NEW'])) + ' new cases reported today.'))"
   ]
  },
  {
   "cell_type": "code",
   "execution_count": 6,
   "id": "compound-nightmare",
   "metadata": {
    "execution": {
     "iopub.execute_input": "2021-02-18T10:13:16.296559Z",
     "iopub.status.busy": "2021-02-18T10:13:16.293746Z",
     "iopub.status.idle": "2021-02-18T10:13:16.534213Z",
     "shell.execute_reply": "2021-02-18T10:13:16.534632Z"
    },
    "jupyter": {
     "source_hidden": true
    },
    "papermill": {
     "duration": 0.253327,
     "end_time": "2021-02-18T10:13:16.534792",
     "exception": false,
     "start_time": "2021-02-18T10:13:16.281465",
     "status": "completed"
    },
    "scrolled": false,
    "tags": [
     "hide-input"
    ]
   },
   "outputs": [
    {
     "data": {
      "image/png": "[encoded data removed]",
      "text/plain": [
       "<Figure size 864x432 with 1 Axes>"
      ]
     },
     "metadata": {
      "needs_background": "light"
     },
     "output_type": "display_data"
    }
   ],
   "source": [
    "dc.plot(x='DATE',y='POSITIVE',color='red',grid='True',figsize=(12,6)).set_xlabel('Date');"
   ]
  },
  {
   "cell_type": "markdown",
   "id": "coupled-literacy",
   "metadata": {
    "papermill": {
     "duration": 0.009904,
     "end_time": "2021-02-18T10:13:16.555106",
     "exception": false,
     "start_time": "2021-02-18T10:13:16.545202",
     "status": "completed"
    },
    "tags": []
   },
   "source": [
    "## Figure 1: Cummulative number of positive cases."
   ]
  },
  {
   "cell_type": "code",
   "execution_count": 7,
   "id": "surrounded-reserve",
   "metadata": {
    "execution": {
     "iopub.execute_input": "2021-02-18T10:13:16.600500Z",
     "iopub.status.busy": "2021-02-18T10:13:16.599936Z",
     "iopub.status.idle": "2021-02-18T10:13:16.776285Z",
     "shell.execute_reply": "2021-02-18T10:13:16.775815Z"
    },
    "jupyter": {
     "source_hidden": true
    },
    "papermill": {
     "duration": 0.211258,
     "end_time": "2021-02-18T10:13:16.776410",
     "exception": false,
     "start_time": "2021-02-18T10:13:16.565152",
     "status": "completed"
    },
    "scrolled": false,
    "tags": [
     "hide-input"
    ]
   },
   "outputs": [
    {
     "data": {
      "image/png": "[encoded data removed]",
      "text/plain": [
       "<Figure size 864x432 with 1 Axes>"
      ]
     },
     "metadata": {
      "needs_background": "light"
     },
     "output_type": "display_data"
    }
   ],
   "source": [
    "dc.plot(kind='line',x='DATE',y='7_DAY',color='blue',grid='True',figsize=(12,6)).set_xlabel('Date');"
   ]
  },
  {
   "cell_type": "markdown",
   "id": "professional-savannah",
   "metadata": {
    "papermill": {
     "duration": 0.011463,
     "end_time": "2021-02-18T10:13:16.799134",
     "exception": false,
     "start_time": "2021-02-18T10:13:16.787671",
     "status": "completed"
    },
    "tags": []
   },
   "source": [
    "## Figure 2: Rolling 7-day average of daily new cases."
   ]
  },
  {
   "cell_type": "code",
   "execution_count": 8,
   "id": "stretch-investor",
   "metadata": {
    "execution": {
     "iopub.execute_input": "2021-02-18T10:13:16.848447Z",
     "iopub.status.busy": "2021-02-18T10:13:16.845789Z",
     "iopub.status.idle": "2021-02-18T10:13:17.062350Z",
     "shell.execute_reply": "2021-02-18T10:13:17.061853Z"
    },
    "jupyter": {
     "source_hidden": true
    },
    "papermill": {
     "duration": 0.252182,
     "end_time": "2021-02-18T10:13:17.062484",
     "exception": false,
     "start_time": "2021-02-18T10:13:16.810302",
     "status": "completed"
    },
    "tags": []
   },
   "outputs": [
    {
     "data": {
      "image/png": "[encoded data removed]",
      "text/plain": [
       "<Figure size 864x432 with 1 Axes>"
      ]
     },
     "metadata": {
      "needs_background": "light"
     },
     "output_type": "display_data"
    }
   ],
   "source": [
    "dc.plot(kind='line',x='DATE',y='14_DAY',color='green',grid='True',figsize=(12,6)).set_xlabel('Date');"
   ]
  },
  {
   "cell_type": "markdown",
   "id": "prerequisite-species",
   "metadata": {
    "papermill": {
     "duration": 0.012332,
     "end_time": "2021-02-18T10:13:17.087417",
     "exception": false,
     "start_time": "2021-02-18T10:13:17.075085",
     "status": "completed"
    },
    "tags": []
   },
   "source": [
    "## Figure 3: Rolling 14-day average of daily new cases."
   ]
  },
  {
   "cell_type": "markdown",
   "id": "palestinian-guard",
   "metadata": {
    "papermill": {
     "duration": 0.011954,
     "end_time": "2021-02-18T10:13:17.111182",
     "exception": false,
     "start_time": "2021-02-18T10:13:17.099228",
     "status": "completed"
    },
    "tags": []
   },
   "source": [
    "Data source: [Wisconsin Department of Health Services](https://data.dhsgis.wi.gov/datasets/covid-19-historical-data-table/)"
   ]
  },
  {
   "cell_type": "code",
   "execution_count": 9,
   "id": "proof-medicare",
   "metadata": {
    "execution": {
     "iopub.execute_input": "2021-02-18T10:13:17.140675Z",
     "iopub.status.busy": "2021-02-18T10:13:17.140108Z",
     "iopub.status.idle": "2021-02-18T10:13:17.142940Z",
     "shell.execute_reply": "2021-02-18T10:13:17.142478Z"
    },
    "jupyter": {
     "source_hidden": true
    },
    "papermill": {
     "duration": 0.019907,
     "end_time": "2021-02-18T10:13:17.143048",
     "exception": false,
     "start_time": "2021-02-18T10:13:17.123141",
     "status": "completed"
    },
    "tags": []
   },
   "outputs": [
    {
     "data": {
      "text/html": [
       "<style>\n",
       "div.input {\n",
       "    display:none;\n",
       "}\n",
       "</style>\n"
      ],
      "text/plain": [
       "<IPython.core.display.HTML object>"
      ]
     },
     "metadata": {},
     "output_type": "display_data"
    }
   ],
   "source": [
    "%%html\n",
    "<style>\n",
    "div.input {\n",
    "    display:none;\n",
    "}\n",
    "</style>"
   ]
  }
 ],
 "metadata": {
  "kernelspec": {
   "display_name": "Python 3",
   "language": "python",
   "name": "python3"
  },
  "language_info": {
   "codemirror_mode": {
    "name": "ipython",
    "version": 3
   },
   "file_extension": ".py",
   "mimetype": "text/x-python",
   "name": "python",
   "nbconvert_exporter": "python",
   "pygments_lexer": "ipython3",
   "version": "3.8.7"
  },
  "papermill": {
   "duration": 6.33726,
   "end_time": "2021-02-18T10:13:17.461911",
   "environment_variables": {},
   "exception": null,
   "input_path": "DunnCounty_COVID19.ipynb",
   "output_path": "DunnCounty_COVID19.ipynb",
   "parameters": {
    "Start": "True",
    "secretsPath": "/home/runner/work/_temp/secrets.json"
   },
   "start_time": "2021-02-18T10:13:11.124651",
   "version": "1.1.16"
  }
 },
 "nbformat": 4,
 "nbformat_minor": 5
}