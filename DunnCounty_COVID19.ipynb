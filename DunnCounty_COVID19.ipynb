{
 "cells": [
  {
   "cell_type": "code",
   "execution_count": 1,
   "id": "solar-understanding",
   "metadata": {
    "execution": {
     "iopub.execute_input": "2021-06-14T22:12:54.240576Z",
     "iopub.status.busy": "2021-06-14T22:12:54.239945Z",
     "iopub.status.idle": "2021-06-14T22:12:55.174850Z",
     "shell.execute_reply": "2021-06-14T22:12:55.174302Z"
    },
    "jupyter": {
     "source_hidden": true
    },
    "papermill": {
     "duration": 0.955815,
     "end_time": "2021-06-14T22:12:55.174984",
     "exception": false,
     "start_time": "2021-06-14T22:12:54.219169",
     "status": "completed"
    },
    "scrolled": true,
    "tags": [
     "hide-input"
    ]
   },
   "outputs": [],
   "source": [
    "import pandas as pd\n",
    "import matplotlib.pyplot as plt\n",
    "from matplotlib import dates\n",
    "from IPython.display import display, Markdown\n",
    "%matplotlib inline"
   ]
  },
  {
   "cell_type": "code",
   "execution_count": 2,
   "id": "purple-playlist",
   "metadata": {
    "execution": {
     "iopub.execute_input": "2021-06-14T22:12:55.204503Z",
     "iopub.status.busy": "2021-06-14T22:12:55.203915Z",
     "iopub.status.idle": "2021-06-14T22:12:56.285503Z",
     "shell.execute_reply": "2021-06-14T22:12:56.286023Z"
    },
    "jupyter": {
     "source_hidden": true
    },
    "papermill": {
     "duration": 1.095318,
     "end_time": "2021-06-14T22:12:56.286267",
     "exception": false,
     "start_time": "2021-06-14T22:12:55.190949",
     "status": "completed"
    },
    "scrolled": true,
    "tags": [
     "hide-input"
    ]
   },
   "outputs": [],
   "source": [
    "# This is the data for all of Wisconsin.\n",
    "url = \"https://opendata.arcgis.com/api/v3/datasets/3161f6e01d8141c6abe85a29ff7f3d3c_12/downloads/data?format=csv&spatialRefId=3857\"\n",
    "data = pd.read_csv(url, parse_dates=['DATE'], low_memory=False)"
   ]
  },
  {
   "cell_type": "code",
   "execution_count": 3,
   "id": "proprietary-klein",
   "metadata": {
    "execution": {
     "iopub.execute_input": "2021-06-14T22:12:56.313411Z",
     "iopub.status.busy": "2021-06-14T22:12:56.312762Z",
     "iopub.status.idle": "2021-06-14T22:12:56.361354Z",
     "shell.execute_reply": "2021-06-14T22:12:56.360757Z"
    },
    "jupyter": {
     "source_hidden": true
    },
    "papermill": {
     "duration": 0.065371,
     "end_time": "2021-06-14T22:12:56.361496",
     "exception": false,
     "start_time": "2021-06-14T22:12:56.296125",
     "status": "completed"
    },
    "scrolled": true,
    "tags": [
     "hide-input"
    ]
   },
   "outputs": [],
   "source": [
    "dc = data.groupby('NAME').get_group('Dunn').sort_values(by='DATE') # Select the data for Dunn County from the full data.\n",
    "PNi = dc.columns.get_loc(\"POS_NEW\")\n",
    "dc['7_DAY'] = dc.iloc[:,PNi].rolling(window=7).mean() # Calculates the rolling 7-day average of new cases.\n",
    "dc['14_DAY'] = dc.iloc[:,PNi].rolling(window=14).mean() # Calculates the rolling 14-day average of new cases."
   ]
  },
  {
   "cell_type": "code",
   "execution_count": 4,
   "id": "steady-supervision",
   "metadata": {
    "execution": {
     "iopub.execute_input": "2021-06-14T22:12:56.390109Z",
     "iopub.status.busy": "2021-06-14T22:12:56.389483Z",
     "iopub.status.idle": "2021-06-14T22:12:56.392692Z",
     "shell.execute_reply": "2021-06-14T22:12:56.393168Z"
    },
    "jupyter": {
     "source_hidden": true
    },
    "papermill": {
     "duration": 0.021467,
     "end_time": "2021-06-14T22:12:56.393318",
     "exception": false,
     "start_time": "2021-06-14T22:12:56.371851",
     "status": "completed"
    },
    "scrolled": true,
    "tags": [
     "hide-input"
    ]
   },
   "outputs": [
    {
     "data": {
      "text/markdown": [
       "### Last updated: June 14, 2021"
      ],
      "text/plain": [
       "<IPython.core.display.Markdown object>"
      ]
     },
     "metadata": {},
     "output_type": "display_data"
    }
   ],
   "source": [
    "display(Markdown('### Last updated: ' + dc.iloc[-1]['DATE'].strftime(\"%B %d, %Y\")))"
   ]
  },
  {
   "cell_type": "code",
   "execution_count": 5,
   "id": "lonely-pitch",
   "metadata": {
    "execution": {
     "iopub.execute_input": "2021-06-14T22:12:56.417224Z",
     "iopub.status.busy": "2021-06-14T22:12:56.416627Z",
     "iopub.status.idle": "2021-06-14T22:12:56.420480Z",
     "shell.execute_reply": "2021-06-14T22:12:56.421052Z"
    },
    "jupyter": {
     "source_hidden": true
    },
    "papermill": {
     "duration": 0.017628,
     "end_time": "2021-06-14T22:12:56.421176",
     "exception": false,
     "start_time": "2021-06-14T22:12:56.403548",
     "status": "completed"
    },
    "tags": [
     "hide-input"
    ]
   },
   "outputs": [
    {
     "data": {
      "text/markdown": [
       "# Dunn County has 4694 total positive cases, with 0 new cases reported today."
      ],
      "text/plain": [
       "<IPython.core.display.Markdown object>"
      ]
     },
     "metadata": {},
     "output_type": "display_data"
    }
   ],
   "source": [
    "display(Markdown('# Dunn County has ' + str(dc.iloc[-1]['POSITIVE']) + ' total positive cases, with '+ str(int(dc.iloc[-1]['POS_NEW'])) + ' new cases reported today.'))"
   ]
  },
  {
   "cell_type": "code",
   "execution_count": 6,
   "id": "compound-nightmare",
   "metadata": {
    "execution": {
     "iopub.execute_input": "2021-06-14T22:12:56.443805Z",
     "iopub.status.busy": "2021-06-14T22:12:56.443303Z",
     "iopub.status.idle": "2021-06-14T22:12:56.745567Z",
     "shell.execute_reply": "2021-06-14T22:12:56.744999Z"
    },
    "jupyter": {
     "source_hidden": true
    },
    "papermill": {
     "duration": 0.314487,
     "end_time": "2021-06-14T22:12:56.745713",
     "exception": false,
     "start_time": "2021-06-14T22:12:56.431226",
     "status": "completed"
    },
    "scrolled": false,
    "tags": [
     "hide-input"
    ]
   },
   "outputs": [
    {
     "data": {
      "image/png": "[encoded data removed]",
      "text/plain": [
       "<Figure size 864x432 with 1 Axes>"
      ]
     },
     "metadata": {
      "needs_background": "light"
     },
     "output_type": "display_data"
    }
   ],
   "source": [
    "dc.plot(x='DATE',y='POSITIVE',color='red',grid='True',figsize=(12,6)).set_xlabel('Date');"
   ]
  },
  {
   "cell_type": "markdown",
   "id": "coupled-literacy",
   "metadata": {
    "papermill": {
     "duration": 0.010972,
     "end_time": "2021-06-14T22:12:56.766823",
     "exception": false,
     "start_time": "2021-06-14T22:12:56.755851",
     "status": "completed"
    },
    "tags": []
   },
   "source": [
    "## Figure 1: Cummulative number of positive cases."
   ]
  },
  {
   "cell_type": "code",
   "execution_count": 7,
   "id": "surrounded-reserve",
   "metadata": {
    "execution": {
     "iopub.execute_input": "2021-06-14T22:12:56.792345Z",
     "iopub.status.busy": "2021-06-14T22:12:56.791859Z",
     "iopub.status.idle": "2021-06-14T22:12:57.063284Z",
     "shell.execute_reply": "2021-06-14T22:12:57.063701Z"
    },
    "jupyter": {
     "source_hidden": true
    },
    "papermill": {
     "duration": 0.285607,
     "end_time": "2021-06-14T22:12:57.063856",
     "exception": false,
     "start_time": "2021-06-14T22:12:56.778249",
     "status": "completed"
    },
    "scrolled": false,
    "tags": [
     "hide-input"
    ]
   },
   "outputs": [
    {
     "data": {
      "image/png": "[encoded data removed]",
      "text/plain": [
       "<Figure size 864x432 with 1 Axes>"
      ]
     },
     "metadata": {
      "needs_background": "light"
     },
     "output_type": "display_data"
    }
   ],
   "source": [
    "dc.plot(kind='line',x='DATE',y='7_DAY',color='blue',grid='True',figsize=(12,6)).set_xlabel('Date');"
   ]
  },
  {
   "cell_type": "markdown",
   "id": "professional-savannah",
   "metadata": {
    "papermill": {
     "duration": 0.011586,
     "end_time": "2021-06-14T22:12:57.087268",
     "exception": false,
     "start_time": "2021-06-14T22:12:57.075682",
     "status": "completed"
    },
    "tags": []
   },
   "source": [
    "## Figure 2: Rolling 7-day average of daily new cases."
   ]
  },
  {
   "cell_type": "code",
   "execution_count": 8,
   "id": "stretch-investor",
   "metadata": {
    "execution": {
     "iopub.execute_input": "2021-06-14T22:12:57.117825Z",
     "iopub.status.busy": "2021-06-14T22:12:57.117243Z",
     "iopub.status.idle": "2021-06-14T22:12:57.388516Z",
     "shell.execute_reply": "2021-06-14T22:12:57.387670Z"
    },
    "jupyter": {
     "source_hidden": true
    },
    "papermill": {
     "duration": 0.288746,
     "end_time": "2021-06-14T22:12:57.388684",
     "exception": false,
     "start_time": "2021-06-14T22:12:57.099938",
     "status": "completed"
    },
    "tags": []
   },
   "outputs": [
    {
     "data": {
      "image/png": "[encoded data removed]",
      "text/plain": [
       "<Figure size 864x432 with 1 Axes>"
      ]
     },
     "metadata": {
      "needs_background": "light"
     },
     "output_type": "display_data"
    }
   ],
   "source": [
    "dc.plot(kind='line',x='DATE',y='14_DAY',color='green',grid='True',figsize=(12,6)).set_xlabel('Date');"
   ]
  },
  {
   "cell_type": "markdown",
   "id": "prerequisite-species",
   "metadata": {
    "papermill": {
     "duration": 0.012631,
     "end_time": "2021-06-14T22:12:57.414992",
     "exception": false,
     "start_time": "2021-06-14T22:12:57.402361",
     "status": "completed"
    },
    "tags": []
   },
   "source": [
    "## Figure 3: Rolling 14-day average of daily new cases."
   ]
  },
  {
   "cell_type": "markdown",
   "id": "palestinian-guard",
   "metadata": {
    "papermill": {
     "duration": 0.012316,
     "end_time": "2021-06-14T22:12:57.439228",
     "exception": false,
     "start_time": "2021-06-14T22:12:57.426912",
     "status": "completed"
    },
    "tags": []
   },
   "source": [
    "Data source: [Wisconsin Department of Health Services](https://data.dhsgis.wi.gov/datasets/wi-dhs::covid-19-historical-data-by-county-1)"
   ]
  },
  {
   "cell_type": "code",
   "execution_count": 9,
   "id": "proof-medicare",
   "metadata": {
    "execution": {
     "iopub.execute_input": "2021-06-14T22:12:57.466524Z",
     "iopub.status.busy": "2021-06-14T22:12:57.465935Z",
     "iopub.status.idle": "2021-06-14T22:12:57.469152Z",
     "shell.execute_reply": "2021-06-14T22:12:57.469662Z"
    },
    "jupyter": {
     "source_hidden": true
    },
    "papermill": {
     "duration": 0.019331,
     "end_time": "2021-06-14T22:12:57.469804",
     "exception": false,
     "start_time": "2021-06-14T22:12:57.450473",
     "status": "completed"
    },
    "tags": []
   },
   "outputs": [
    {
     "data": {
      "text/html": [
       "<style>\n",
       "div.input {\n",
       "    display:none;\n",
       "}\n",
       "</style>\n"
      ],
      "text/plain": [
       "<IPython.core.display.HTML object>"
      ]
     },
     "metadata": {},
     "output_type": "display_data"
    }
   ],
   "source": [
    "%%html\n",
    "<style>\n",
    "div.input {\n",
    "    display:none;\n",
    "}\n",
    "</style>"
   ]
  }
 ],
 "metadata": {
  "kernelspec": {
   "display_name": "Python 3",
   "language": "python",
   "name": "python3"
  },
  "language_info": {
   "codemirror_mode": {
    "name": "ipython",
    "version": 3
   },
   "file_extension": ".py",
   "mimetype": "text/x-python",
   "name": "python",
   "nbconvert_exporter": "python",
   "pygments_lexer": "ipython3",
   "version": "3.8.10"
  },
  "papermill": {
   "duration": 4.813904,
   "end_time": "2021-06-14T22:12:57.788923",
   "environment_variables": {},
   "exception": null,
   "input_path": "DunnCounty_COVID19.ipynb",
   "output_path": "DunnCounty_COVID19.ipynb",
   "parameters": {
    "Start": "True",
    "secretsPath": "/home/runner/work/_temp/secrets.json"
   },
   "start_time": "2021-06-14T22:12:52.975019",
   "version": "1.1.16"
  }
 },
 "nbformat": 4,
 "nbformat_minor": 5
}