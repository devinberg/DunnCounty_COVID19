{
 "cells": [
  {
   "cell_type": "code",
   "execution_count": 1,
   "id": "solar-understanding",
   "metadata": {
    "execution": {
     "iopub.execute_input": "2021-01-21T10:47:44.101872Z",
     "iopub.status.busy": "2021-01-21T10:47:44.101400Z",
     "iopub.status.idle": "2021-01-21T10:47:45.071799Z",
     "shell.execute_reply": "2021-01-21T10:47:45.071279Z"
    },
    "jupyter": {
     "source_hidden": true
    },
    "papermill": {
     "duration": 0.987168,
     "end_time": "2021-01-21T10:47:45.071972",
     "exception": false,
     "start_time": "2021-01-21T10:47:44.084804",
     "status": "completed"
    },
    "scrolled": true,
    "tags": [
     "hide-input"
    ]
   },
   "outputs": [],
   "source": [
    "import pandas as pd\n",
    "import matplotlib.pyplot as plt\n",
    "from matplotlib import dates\n",
    "from IPython.display import display, Markdown\n",
    "%matplotlib inline"
   ]
  },
  {
   "cell_type": "code",
   "execution_count": 2,
   "id": "purple-playlist",
   "metadata": {
    "execution": {
     "iopub.execute_input": "2021-01-21T10:47:45.098166Z",
     "iopub.status.busy": "2021-01-21T10:47:45.097695Z",
     "iopub.status.idle": "2021-01-21T10:47:45.801218Z",
     "shell.execute_reply": "2021-01-21T10:47:45.800718Z"
    },
    "jupyter": {
     "source_hidden": true
    },
    "papermill": {
     "duration": 0.721356,
     "end_time": "2021-01-21T10:47:45.801346",
     "exception": false,
     "start_time": "2021-01-21T10:47:45.079990",
     "status": "completed"
    },
    "scrolled": true,
    "tags": [
     "hide-input"
    ]
   },
   "outputs": [],
   "source": [
    "# This is the data for all of Wisconsin.\n",
    "url = \"https://opendata.arcgis.com/datasets/5374188992374b318d3e2305216ee413_12.csv\"\n",
    "data = pd.read_csv(url, parse_dates=['DATE'], low_memory=False)"
   ]
  },
  {
   "cell_type": "code",
   "execution_count": 3,
   "id": "proprietary-klein",
   "metadata": {
    "execution": {
     "iopub.execute_input": "2021-01-21T10:47:45.821987Z",
     "iopub.status.busy": "2021-01-21T10:47:45.821533Z",
     "iopub.status.idle": "2021-01-21T10:47:45.828653Z",
     "shell.execute_reply": "2021-01-21T10:47:45.828254Z"
    },
    "jupyter": {
     "source_hidden": true
    },
    "papermill": {
     "duration": 0.019663,
     "end_time": "2021-01-21T10:47:45.828751",
     "exception": false,
     "start_time": "2021-01-21T10:47:45.809088",
     "status": "completed"
    },
    "scrolled": true,
    "tags": [
     "hide-input"
    ]
   },
   "outputs": [],
   "source": [
    "dc = data.groupby('NAME').get_group('Dunn').sort_values(by='DATE') # Select the data for Dunn County from the full data.\n",
    "PNi = dc.columns.get_loc(\"POS_NEW\")\n",
    "dc['7_DAY'] = dc.iloc[:,PNi].rolling(window=7).mean() # Calculates the rolling 7-day average of new cases.\n",
    "dc['14_DAY'] = dc.iloc[:,PNi].rolling(window=14).mean() # Calculates the rolling 14-day average of new cases."
   ]
  },
  {
   "cell_type": "code",
   "execution_count": 4,
   "id": "steady-supervision",
   "metadata": {
    "execution": {
     "iopub.execute_input": "2021-01-21T10:47:45.848901Z",
     "iopub.status.busy": "2021-01-21T10:47:45.848416Z",
     "iopub.status.idle": "2021-01-21T10:47:45.850749Z",
     "shell.execute_reply": "2021-01-21T10:47:45.851111Z"
    },
    "jupyter": {
     "source_hidden": true
    },
    "papermill": {
     "duration": 0.015069,
     "end_time": "2021-01-21T10:47:45.851235",
     "exception": false,
     "start_time": "2021-01-21T10:47:45.836166",
     "status": "completed"
    },
    "scrolled": true,
    "tags": [
     "hide-input"
    ]
   },
   "outputs": [
    {
     "data": {
      "text/markdown": [
       "### Last updated: January 20, 2021"
      ],
      "text/plain": [
       "<IPython.core.display.Markdown object>"
      ]
     },
     "metadata": {},
     "output_type": "display_data"
    }
   ],
   "source": [
    "display(Markdown('### Last updated: ' + dc.iloc[-1]['DATE'].strftime(\"%B %d, %Y\")))"
   ]
  },
  {
   "cell_type": "code",
   "execution_count": 5,
   "id": "lonely-pitch",
   "metadata": {
    "execution": {
     "iopub.execute_input": "2021-01-21T10:47:45.870990Z",
     "iopub.status.busy": "2021-01-21T10:47:45.870536Z",
     "iopub.status.idle": "2021-01-21T10:47:45.873085Z",
     "shell.execute_reply": "2021-01-21T10:47:45.872638Z"
    },
    "jupyter": {
     "source_hidden": true
    },
    "papermill": {
     "duration": 0.014184,
     "end_time": "2021-01-21T10:47:45.873205",
     "exception": false,
     "start_time": "2021-01-21T10:47:45.859021",
     "status": "completed"
    },
    "tags": [
     "hide-input"
    ]
   },
   "outputs": [
    {
     "data": {
      "text/markdown": [
       "# Dunn County has 3876 total positive cases, with 12 new cases reported today."
      ],
      "text/plain": [
       "<IPython.core.display.Markdown object>"
      ]
     },
     "metadata": {},
     "output_type": "display_data"
    }
   ],
   "source": [
    "display(Markdown('# Dunn County has ' + str(dc.iloc[-1]['POSITIVE']) + ' total positive cases, with '+ str(int(dc.iloc[-1]['POS_NEW'])) + ' new cases reported today.'))"
   ]
  },
  {
   "cell_type": "code",
   "execution_count": 6,
   "id": "compound-nightmare",
   "metadata": {
    "execution": {
     "iopub.execute_input": "2021-01-21T10:47:45.892468Z",
     "iopub.status.busy": "2021-01-21T10:47:45.892026Z",
     "iopub.status.idle": "2021-01-21T10:47:46.115814Z",
     "shell.execute_reply": "2021-01-21T10:47:46.116184Z"
    },
    "jupyter": {
     "source_hidden": true
    },
    "papermill": {
     "duration": 0.235054,
     "end_time": "2021-01-21T10:47:46.116333",
     "exception": false,
     "start_time": "2021-01-21T10:47:45.881279",
     "status": "completed"
    },
    "scrolled": false,
    "tags": [
     "hide-input"
    ]
   },
   "outputs": [
    {
     "data": {
      "image/png": "[encoded data removed]",
      "text/plain": [
       "<Figure size 864x432 with 1 Axes>"
      ]
     },
     "metadata": {
      "needs_background": "light"
     },
     "output_type": "display_data"
    }
   ],
   "source": [
    "dc.plot(x='DATE',y='POSITIVE',color='red',grid='True',figsize=(12,6)).set_xlabel('Date');"
   ]
  },
  {
   "cell_type": "markdown",
   "id": "coupled-literacy",
   "metadata": {
    "papermill": {
     "duration": 0.008866,
     "end_time": "2021-01-21T10:47:46.134344",
     "exception": false,
     "start_time": "2021-01-21T10:47:46.125478",
     "status": "completed"
    },
    "tags": []
   },
   "source": [
    "## Figure 1: Cummulative number of positive cases."
   ]
  },
  {
   "cell_type": "code",
   "execution_count": 7,
   "id": "surrounded-reserve",
   "metadata": {
    "execution": {
     "iopub.execute_input": "2021-01-21T10:47:46.168736Z",
     "iopub.status.busy": "2021-01-21T10:47:46.159471Z",
     "iopub.status.idle": "2021-01-21T10:47:46.358687Z",
     "shell.execute_reply": "2021-01-21T10:47:46.358233Z"
    },
    "jupyter": {
     "source_hidden": true
    },
    "papermill": {
     "duration": 0.215653,
     "end_time": "2021-01-21T10:47:46.358824",
     "exception": false,
     "start_time": "2021-01-21T10:47:46.143171",
     "status": "completed"
    },
    "scrolled": false,
    "tags": [
     "hide-input"
    ]
   },
   "outputs": [
    {
     "data": {
      "image/png": "[encoded data removed]",
      "text/plain": [
       "<Figure size 864x432 with 1 Axes>"
      ]
     },
     "metadata": {
      "needs_background": "light"
     },
     "output_type": "display_data"
    }
   ],
   "source": [
    "dc.plot(kind='line',x='DATE',y='7_DAY',color='blue',grid='True',figsize=(12,6)).set_xlabel('Date');"
   ]
  },
  {
   "cell_type": "markdown",
   "id": "professional-savannah",
   "metadata": {
    "papermill": {
     "duration": 0.009782,
     "end_time": "2021-01-21T10:47:46.378697",
     "exception": false,
     "start_time": "2021-01-21T10:47:46.368915",
     "status": "completed"
    },
    "tags": []
   },
   "source": [
    "## Figure 2: Rolling 7-day average of daily new cases."
   ]
  },
  {
   "cell_type": "code",
   "execution_count": 8,
   "id": "stretch-investor",
   "metadata": {
    "execution": {
     "iopub.execute_input": "2021-01-21T10:47:46.406051Z",
     "iopub.status.busy": "2021-01-21T10:47:46.405602Z",
     "iopub.status.idle": "2021-01-21T10:47:46.605281Z",
     "shell.execute_reply": "2021-01-21T10:47:46.604626Z"
    },
    "jupyter": {
     "source_hidden": true
    },
    "papermill": {
     "duration": 0.216969,
     "end_time": "2021-01-21T10:47:46.605409",
     "exception": false,
     "start_time": "2021-01-21T10:47:46.388440",
     "status": "completed"
    },
    "tags": []
   },
   "outputs": [
    {
     "data": {
      "image/png": "[encoded data removed]",
      "text/plain": [
       "<Figure size 864x432 with 1 Axes>"
      ]
     },
     "metadata": {
      "needs_background": "light"
     },
     "output_type": "display_data"
    }
   ],
   "source": [
    "dc.plot(kind='line',x='DATE',y='14_DAY',color='green',grid='True',figsize=(12,6)).set_xlabel('Date');"
   ]
  },
  {
   "cell_type": "markdown",
   "id": "prerequisite-species",
   "metadata": {
    "papermill": {
     "duration": 0.010876,
     "end_time": "2021-01-21T10:47:46.627278",
     "exception": false,
     "start_time": "2021-01-21T10:47:46.616402",
     "status": "completed"
    },
    "tags": []
   },
   "source": [
    "## Figure 3: Rolling 14-day average of daily new cases."
   ]
  },
  {
   "cell_type": "markdown",
   "id": "palestinian-guard",
   "metadata": {
    "papermill": {
     "duration": 0.010576,
     "end_time": "2021-01-21T10:47:46.648463",
     "exception": false,
     "start_time": "2021-01-21T10:47:46.637887",
     "status": "completed"
    },
    "tags": []
   },
   "source": [
    "Data source: [Wisconsin Department of Health Services](https://data.dhsgis.wi.gov/datasets/covid-19-historical-data-table/)"
   ]
  },
  {
   "cell_type": "code",
   "execution_count": 9,
   "id": "proof-medicare",
   "metadata": {
    "execution": {
     "iopub.execute_input": "2021-01-21T10:47:46.673484Z",
     "iopub.status.busy": "2021-01-21T10:47:46.672982Z",
     "iopub.status.idle": "2021-01-21T10:47:46.675659Z",
     "shell.execute_reply": "2021-01-21T10:47:46.675263Z"
    },
    "jupyter": {
     "source_hidden": true
    },
    "papermill": {
     "duration": 0.016727,
     "end_time": "2021-01-21T10:47:46.675762",
     "exception": false,
     "start_time": "2021-01-21T10:47:46.659035",
     "status": "completed"
    },
    "tags": []
   },
   "outputs": [
    {
     "data": {
      "text/html": [
       "<style>\n",
       "div.input {\n",
       "    display:none;\n",
       "}\n",
       "</style>\n"
      ],
      "text/plain": [
       "<IPython.core.display.HTML object>"
      ]
     },
     "metadata": {},
     "output_type": "display_data"
    }
   ],
   "source": [
    "%%html\n",
    "<style>\n",
    "div.input {\n",
    "    display:none;\n",
    "}\n",
    "</style>"
   ]
  }
 ],
 "metadata": {
  "kernelspec": {
   "display_name": "Python 3",
   "language": "python",
   "name": "python3"
  },
  "language_info": {
   "codemirror_mode": {
    "name": "ipython",
    "version": 3
   },
   "file_extension": ".py",
   "mimetype": "text/x-python",
   "name": "python",
   "nbconvert_exporter": "python",
   "pygments_lexer": "ipython3",
   "version": "3.8.6"
  },
  "papermill": {
   "duration": 4.481212,
   "end_time": "2021-01-21T10:47:46.991999",
   "environment_variables": {},
   "exception": null,
   "input_path": "DunnCounty_COVID19.ipynb",
   "output_path": "DunnCounty_COVID19.ipynb",
   "parameters": {
    "Start": "True",
    "secretsPath": "/home/runner/work/_temp/secrets.json"
   },
   "start_time": "2021-01-21T10:47:42.510787",
   "version": "1.1.16"
  }
 },
 "nbformat": 4,
 "nbformat_minor": 5
}