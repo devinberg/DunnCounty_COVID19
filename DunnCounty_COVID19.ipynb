{
 "cells": [
  {
   "cell_type": "code",
   "execution_count": 1,
   "id": "solar-understanding",
   "metadata": {
    "execution": {
     "iopub.execute_input": "2021-04-10T10:15:57.293123Z",
     "iopub.status.busy": "2021-04-10T10:15:57.292620Z",
     "iopub.status.idle": "2021-04-10T10:15:58.842119Z",
     "shell.execute_reply": "2021-04-10T10:15:58.841058Z"
    },
    "jupyter": {
     "source_hidden": true
    },
    "papermill": {
     "duration": 1.568932,
     "end_time": "2021-04-10T10:15:58.842285",
     "exception": false,
     "start_time": "2021-04-10T10:15:57.273353",
     "status": "completed"
    },
    "scrolled": true,
    "tags": [
     "hide-input"
    ]
   },
   "outputs": [],
   "source": [
    "import pandas as pd\n",
    "import matplotlib.pyplot as plt\n",
    "from matplotlib import dates\n",
    "from IPython.display import display, Markdown\n",
    "%matplotlib inline"
   ]
  },
  {
   "cell_type": "code",
   "execution_count": 2,
   "id": "purple-playlist",
   "metadata": {
    "execution": {
     "iopub.execute_input": "2021-04-10T10:15:58.867224Z",
     "iopub.status.busy": "2021-04-10T10:15:58.866587Z",
     "iopub.status.idle": "2021-04-10T10:15:59.550661Z",
     "shell.execute_reply": "2021-04-10T10:15:59.551124Z"
    },
    "jupyter": {
     "source_hidden": true
    },
    "papermill": {
     "duration": 0.699414,
     "end_time": "2021-04-10T10:15:59.551288",
     "exception": false,
     "start_time": "2021-04-10T10:15:58.851874",
     "status": "completed"
    },
    "scrolled": true,
    "tags": [
     "hide-input"
    ]
   },
   "outputs": [],
   "source": [
    "# This is the data for all of Wisconsin.\n",
    "url = \"https://opendata.arcgis.com/datasets/5374188992374b318d3e2305216ee413_12.csv\"\n",
    "data = pd.read_csv(url, parse_dates=['DATE'], low_memory=False)"
   ]
  },
  {
   "cell_type": "code",
   "execution_count": 3,
   "id": "proprietary-klein",
   "metadata": {
    "execution": {
     "iopub.execute_input": "2021-04-10T10:15:59.579253Z",
     "iopub.status.busy": "2021-04-10T10:15:59.578668Z",
     "iopub.status.idle": "2021-04-10T10:15:59.588521Z",
     "shell.execute_reply": "2021-04-10T10:15:59.587878Z"
    },
    "jupyter": {
     "source_hidden": true
    },
    "papermill": {
     "duration": 0.027942,
     "end_time": "2021-04-10T10:15:59.588635",
     "exception": false,
     "start_time": "2021-04-10T10:15:59.560693",
     "status": "completed"
    },
    "scrolled": true,
    "tags": [
     "hide-input"
    ]
   },
   "outputs": [],
   "source": [
    "dc = data.groupby('NAME').get_group('Dunn').sort_values(by='DATE') # Select the data for Dunn County from the full data.\n",
    "PNi = dc.columns.get_loc(\"POS_NEW\")\n",
    "dc['7_DAY'] = dc.iloc[:,PNi].rolling(window=7).mean() # Calculates the rolling 7-day average of new cases.\n",
    "dc['14_DAY'] = dc.iloc[:,PNi].rolling(window=14).mean() # Calculates the rolling 14-day average of new cases."
   ]
  },
  {
   "cell_type": "code",
   "execution_count": 4,
   "id": "steady-supervision",
   "metadata": {
    "execution": {
     "iopub.execute_input": "2021-04-10T10:15:59.612801Z",
     "iopub.status.busy": "2021-04-10T10:15:59.612291Z",
     "iopub.status.idle": "2021-04-10T10:15:59.615018Z",
     "shell.execute_reply": "2021-04-10T10:15:59.615421Z"
    },
    "jupyter": {
     "source_hidden": true
    },
    "papermill": {
     "duration": 0.017766,
     "end_time": "2021-04-10T10:15:59.615560",
     "exception": false,
     "start_time": "2021-04-10T10:15:59.597794",
     "status": "completed"
    },
    "scrolled": true,
    "tags": [
     "hide-input"
    ]
   },
   "outputs": [
    {
     "data": {
      "text/markdown": [
       "### Last updated: April 09, 2021"
      ],
      "text/plain": [
       "<IPython.core.display.Markdown object>"
      ]
     },
     "metadata": {},
     "output_type": "display_data"
    }
   ],
   "source": [
    "display(Markdown('### Last updated: ' + dc.iloc[-1]['DATE'].strftime(\"%B %d, %Y\")))"
   ]
  },
  {
   "cell_type": "code",
   "execution_count": 5,
   "id": "lonely-pitch",
   "metadata": {
    "execution": {
     "iopub.execute_input": "2021-04-10T10:15:59.639269Z",
     "iopub.status.busy": "2021-04-10T10:15:59.638746Z",
     "iopub.status.idle": "2021-04-10T10:15:59.641669Z",
     "shell.execute_reply": "2021-04-10T10:15:59.642199Z"
    },
    "jupyter": {
     "source_hidden": true
    },
    "papermill": {
     "duration": 0.017761,
     "end_time": "2021-04-10T10:15:59.642354",
     "exception": false,
     "start_time": "2021-04-10T10:15:59.624593",
     "status": "completed"
    },
    "tags": [
     "hide-input"
    ]
   },
   "outputs": [
    {
     "data": {
      "text/markdown": [
       "# Dunn County has 4484 total positive cases, with 12 new cases reported today."
      ],
      "text/plain": [
       "<IPython.core.display.Markdown object>"
      ]
     },
     "metadata": {},
     "output_type": "display_data"
    }
   ],
   "source": [
    "display(Markdown('# Dunn County has ' + str(dc.iloc[-1]['POSITIVE']) + ' total positive cases, with '+ str(int(dc.iloc[-1]['POS_NEW'])) + ' new cases reported today.'))"
   ]
  },
  {
   "cell_type": "code",
   "execution_count": 6,
   "id": "compound-nightmare",
   "metadata": {
    "execution": {
     "iopub.execute_input": "2021-04-10T10:15:59.665439Z",
     "iopub.status.busy": "2021-04-10T10:15:59.664820Z",
     "iopub.status.idle": "2021-04-10T10:15:59.948820Z",
     "shell.execute_reply": "2021-04-10T10:15:59.949263Z"
    },
    "jupyter": {
     "source_hidden": true
    },
    "papermill": {
     "duration": 0.297251,
     "end_time": "2021-04-10T10:15:59.949428",
     "exception": false,
     "start_time": "2021-04-10T10:15:59.652177",
     "status": "completed"
    },
    "scrolled": false,
    "tags": [
     "hide-input"
    ]
   },
   "outputs": [
    {
     "data": {
      "image/png": "[encoded data removed]",
      "text/plain": [
       "<Figure size 864x432 with 1 Axes>"
      ]
     },
     "metadata": {
      "needs_background": "light"
     },
     "output_type": "display_data"
    }
   ],
   "source": [
    "dc.plot(x='DATE',y='POSITIVE',color='red',grid='True',figsize=(12,6)).set_xlabel('Date');"
   ]
  },
  {
   "cell_type": "markdown",
   "id": "coupled-literacy",
   "metadata": {
    "papermill": {
     "duration": 0.011789,
     "end_time": "2021-04-10T10:15:59.972835",
     "exception": false,
     "start_time": "2021-04-10T10:15:59.961046",
     "status": "completed"
    },
    "tags": []
   },
   "source": [
    "## Figure 1: Cummulative number of positive cases."
   ]
  },
  {
   "cell_type": "code",
   "execution_count": 7,
   "id": "surrounded-reserve",
   "metadata": {
    "execution": {
     "iopub.execute_input": "2021-04-10T10:16:00.001743Z",
     "iopub.status.busy": "2021-04-10T10:16:00.001031Z",
     "iopub.status.idle": "2021-04-10T10:16:00.235981Z",
     "shell.execute_reply": "2021-04-10T10:16:00.236417Z"
    },
    "jupyter": {
     "source_hidden": true
    },
    "papermill": {
     "duration": 0.253179,
     "end_time": "2021-04-10T10:16:00.236573",
     "exception": false,
     "start_time": "2021-04-10T10:15:59.983394",
     "status": "completed"
    },
    "scrolled": false,
    "tags": [
     "hide-input"
    ]
   },
   "outputs": [
    {
     "data": {
      "image/png": "[encoded data removed]",
      "text/plain": [
       "<Figure size 864x432 with 1 Axes>"
      ]
     },
     "metadata": {
      "needs_background": "light"
     },
     "output_type": "display_data"
    }
   ],
   "source": [
    "dc.plot(kind='line',x='DATE',y='7_DAY',color='blue',grid='True',figsize=(12,6)).set_xlabel('Date');"
   ]
  },
  {
   "cell_type": "markdown",
   "id": "professional-savannah",
   "metadata": {
    "papermill": {
     "duration": 0.011847,
     "end_time": "2021-04-10T10:16:00.260702",
     "exception": false,
     "start_time": "2021-04-10T10:16:00.248855",
     "status": "completed"
    },
    "tags": []
   },
   "source": [
    "## Figure 2: Rolling 7-day average of daily new cases."
   ]
  },
  {
   "cell_type": "code",
   "execution_count": 8,
   "id": "stretch-investor",
   "metadata": {
    "execution": {
     "iopub.execute_input": "2021-04-10T10:16:00.312554Z",
     "iopub.status.busy": "2021-04-10T10:16:00.289017Z",
     "iopub.status.idle": "2021-04-10T10:16:00.527208Z",
     "shell.execute_reply": "2021-04-10T10:16:00.526717Z"
    },
    "jupyter": {
     "source_hidden": true
    },
    "papermill": {
     "duration": 0.254555,
     "end_time": "2021-04-10T10:16:00.527353",
     "exception": false,
     "start_time": "2021-04-10T10:16:00.272798",
     "status": "completed"
    },
    "tags": []
   },
   "outputs": [
    {
     "data": {
      "image/png": "[encoded data removed]",
      "text/plain": [
       "<Figure size 864x432 with 1 Axes>"
      ]
     },
     "metadata": {
      "needs_background": "light"
     },
     "output_type": "display_data"
    }
   ],
   "source": [
    "dc.plot(kind='line',x='DATE',y='14_DAY',color='green',grid='True',figsize=(12,6)).set_xlabel('Date');"
   ]
  },
  {
   "cell_type": "markdown",
   "id": "prerequisite-species",
   "metadata": {
    "papermill": {
     "duration": 0.015982,
     "end_time": "2021-04-10T10:16:00.557299",
     "exception": false,
     "start_time": "2021-04-10T10:16:00.541317",
     "status": "completed"
    },
    "tags": []
   },
   "source": [
    "## Figure 3: Rolling 14-day average of daily new cases."
   ]
  },
  {
   "cell_type": "markdown",
   "id": "palestinian-guard",
   "metadata": {
    "papermill": {
     "duration": 0.014718,
     "end_time": "2021-04-10T10:16:00.586340",
     "exception": false,
     "start_time": "2021-04-10T10:16:00.571622",
     "status": "completed"
    },
    "tags": []
   },
   "source": [
    "Data source: [Wisconsin Department of Health Services](https://data.dhsgis.wi.gov/datasets/covid-19-historical-data-table/)"
   ]
  },
  {
   "cell_type": "code",
   "execution_count": 9,
   "id": "proof-medicare",
   "metadata": {
    "execution": {
     "iopub.execute_input": "2021-04-10T10:16:00.619375Z",
     "iopub.status.busy": "2021-04-10T10:16:00.618799Z",
     "iopub.status.idle": "2021-04-10T10:16:00.621729Z",
     "shell.execute_reply": "2021-04-10T10:16:00.621095Z"
    },
    "jupyter": {
     "source_hidden": true
    },
    "papermill": {
     "duration": 0.020947,
     "end_time": "2021-04-10T10:16:00.621850",
     "exception": false,
     "start_time": "2021-04-10T10:16:00.600903",
     "status": "completed"
    },
    "tags": []
   },
   "outputs": [
    {
     "data": {
      "text/html": [
       "<style>\n",
       "div.input {\n",
       "    display:none;\n",
       "}\n",
       "</style>\n"
      ],
      "text/plain": [
       "<IPython.core.display.HTML object>"
      ]
     },
     "metadata": {},
     "output_type": "display_data"
    }
   ],
   "source": [
    "%%html\n",
    "<style>\n",
    "div.input {\n",
    "    display:none;\n",
    "}\n",
    "</style>"
   ]
  }
 ],
 "metadata": {
  "kernelspec": {
   "display_name": "Python 3",
   "language": "python",
   "name": "python3"
  },
  "language_info": {
   "codemirror_mode": {
    "name": "ipython",
    "version": 3
   },
   "file_extension": ".py",
   "mimetype": "text/x-python",
   "name": "python",
   "nbconvert_exporter": "python",
   "pygments_lexer": "ipython3",
   "version": "3.8.8"
  },
  "papermill": {
   "duration": 5.030334,
   "end_time": "2021-04-10T10:16:00.944197",
   "environment_variables": {},
   "exception": null,
   "input_path": "DunnCounty_COVID19.ipynb",
   "output_path": "DunnCounty_COVID19.ipynb",
   "parameters": {
    "Start": "True",
    "secretsPath": "/home/runner/work/_temp/secrets.json"
   },
   "start_time": "2021-04-10T10:15:55.913863",
   "version": "1.1.16"
  }
 },
 "nbformat": 4,
 "nbformat_minor": 5
}