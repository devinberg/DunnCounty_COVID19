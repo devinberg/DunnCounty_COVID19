{
 "cells": [
  {
   "cell_type": "code",
   "execution_count": 1,
   "metadata": {
    "execution": {
     "iopub.execute_input": "2021-01-07T10:28:24.783793Z",
     "iopub.status.busy": "2021-01-07T10:28:24.783257Z",
     "iopub.status.idle": "2021-01-07T10:28:27.144950Z",
     "shell.execute_reply": "2021-01-07T10:28:27.144264Z"
    },
    "jupyter": {
     "source_hidden": true
    },
    "papermill": {
     "duration": 2.380795,
     "end_time": "2021-01-07T10:28:27.145232",
     "exception": false,
     "start_time": "2021-01-07T10:28:24.764437",
     "status": "completed"
    },
    "scrolled": true,
    "tags": [
     "hide-input"
    ]
   },
   "outputs": [],
   "source": [
    "import pandas as pd\n",
    "import matplotlib.pyplot as plt\n",
    "from matplotlib import dates\n",
    "from IPython.display import display, Markdown\n",
    "%matplotlib inline"
   ]
  },
  {
   "cell_type": "code",
   "execution_count": 2,
   "metadata": {
    "execution": {
     "iopub.execute_input": "2021-01-07T10:28:27.164917Z",
     "iopub.status.busy": "2021-01-07T10:28:27.164354Z",
     "iopub.status.idle": "2021-01-07T10:28:27.790471Z",
     "shell.execute_reply": "2021-01-07T10:28:27.790006Z"
    },
    "jupyter": {
     "source_hidden": true
    },
    "papermill": {
     "duration": 0.637679,
     "end_time": "2021-01-07T10:28:27.790598",
     "exception": false,
     "start_time": "2021-01-07T10:28:27.152919",
     "status": "completed"
    },
    "scrolled": true,
    "tags": [
     "hide-input"
    ]
   },
   "outputs": [],
   "source": [
    "# This is the data for all of Wisconsin.\n",
    "url = \"https://opendata.arcgis.com/datasets/5374188992374b318d3e2305216ee413_12.csv\"\n",
    "data = pd.read_csv(url, parse_dates=['DATE'], low_memory=False)"
   ]
  },
  {
   "cell_type": "code",
   "execution_count": 3,
   "metadata": {
    "execution": {
     "iopub.execute_input": "2021-01-07T10:28:27.808774Z",
     "iopub.status.busy": "2021-01-07T10:28:27.807695Z",
     "iopub.status.idle": "2021-01-07T10:28:27.815958Z",
     "shell.execute_reply": "2021-01-07T10:28:27.816335Z"
    },
    "jupyter": {
     "source_hidden": true
    },
    "papermill": {
     "duration": 0.018679,
     "end_time": "2021-01-07T10:28:27.816448",
     "exception": false,
     "start_time": "2021-01-07T10:28:27.797769",
     "status": "completed"
    },
    "scrolled": true,
    "tags": [
     "hide-input"
    ]
   },
   "outputs": [],
   "source": [
    "dc = data.groupby('NAME').get_group('Dunn').sort_values(by='DATE') # Select the data for Dunn County from the full data.\n",
    "PNi = dc.columns.get_loc(\"POS_NEW\")\n",
    "dc['7_DAY'] = dc.iloc[:,PNi].rolling(window=7).mean() # Calculates the rolling 7-day average of new cases.\n",
    "dc['14_DAY'] = dc.iloc[:,PNi].rolling(window=14).mean() # Calculates the rolling 14-day average of new cases."
   ]
  },
  {
   "cell_type": "code",
   "execution_count": 4,
   "metadata": {
    "execution": {
     "iopub.execute_input": "2021-01-07T10:28:27.834335Z",
     "iopub.status.busy": "2021-01-07T10:28:27.833802Z",
     "iopub.status.idle": "2021-01-07T10:28:27.836464Z",
     "shell.execute_reply": "2021-01-07T10:28:27.836938Z"
    },
    "jupyter": {
     "source_hidden": true
    },
    "papermill": {
     "duration": 0.015037,
     "end_time": "2021-01-07T10:28:27.837050",
     "exception": false,
     "start_time": "2021-01-07T10:28:27.822013",
     "status": "completed"
    },
    "scrolled": true,
    "tags": [
     "hide-input"
    ]
   },
   "outputs": [
    {
     "data": {
      "text/markdown": [
       "### Last updated: January 06, 2021"
      ],
      "text/plain": [
       "<IPython.core.display.Markdown object>"
      ]
     },
     "metadata": {},
     "output_type": "display_data"
    }
   ],
   "source": [
    "display(Markdown('### Last updated: ' + dc.iloc[-1]['DATE'].strftime(\"%B %d, %Y\")))"
   ]
  },
  {
   "cell_type": "code",
   "execution_count": 5,
   "metadata": {
    "execution": {
     "iopub.execute_input": "2021-01-07T10:28:27.856155Z",
     "iopub.status.busy": "2021-01-07T10:28:27.855460Z",
     "iopub.status.idle": "2021-01-07T10:28:27.858546Z",
     "shell.execute_reply": "2021-01-07T10:28:27.858945Z"
    },
    "jupyter": {
     "source_hidden": true
    },
    "papermill": {
     "duration": 0.015404,
     "end_time": "2021-01-07T10:28:27.859056",
     "exception": false,
     "start_time": "2021-01-07T10:28:27.843652",
     "status": "completed"
    },
    "tags": [
     "hide-input"
    ]
   },
   "outputs": [
    {
     "data": {
      "text/markdown": [
       "# Dunn County has 3634 total positive cases, with 39 new cases reported today."
      ],
      "text/plain": [
       "<IPython.core.display.Markdown object>"
      ]
     },
     "metadata": {},
     "output_type": "display_data"
    }
   ],
   "source": [
    "display(Markdown('# Dunn County has ' + str(dc.iloc[-1]['POSITIVE']) + ' total positive cases, with '+ str(int(dc.iloc[-1]['POS_NEW'])) + ' new cases reported today.'))"
   ]
  },
  {
   "cell_type": "code",
   "execution_count": 6,
   "metadata": {
    "execution": {
     "iopub.execute_input": "2021-01-07T10:28:27.875968Z",
     "iopub.status.busy": "2021-01-07T10:28:27.875470Z",
     "iopub.status.idle": "2021-01-07T10:28:28.145513Z",
     "shell.execute_reply": "2021-01-07T10:28:28.145944Z"
    },
    "jupyter": {
     "source_hidden": true
    },
    "papermill": {
     "duration": 0.280246,
     "end_time": "2021-01-07T10:28:28.146088",
     "exception": false,
     "start_time": "2021-01-07T10:28:27.865842",
     "status": "completed"
    },
    "scrolled": false,
    "tags": [
     "hide-input"
    ]
   },
   "outputs": [
    {
     "data": {
      "image/png": "[encoded data removed]",
      "text/plain": [
       "<Figure size 864x432 with 1 Axes>"
      ]
     },
     "metadata": {
      "needs_background": "light"
     },
     "output_type": "display_data"
    }
   ],
   "source": [
    "dc.plot(x='DATE',y='POSITIVE',color='red',grid='True',figsize=(12,6)).set_xlabel('Date');"
   ]
  },
  {
   "cell_type": "markdown",
   "metadata": {
    "papermill": {
     "duration": 0.008185,
     "end_time": "2021-01-07T10:28:28.162620",
     "exception": false,
     "start_time": "2021-01-07T10:28:28.154435",
     "status": "completed"
    },
    "tags": []
   },
   "source": [
    "## Figure 1: Cummulative number of positive cases."
   ]
  },
  {
   "cell_type": "code",
   "execution_count": 7,
   "metadata": {
    "execution": {
     "iopub.execute_input": "2021-01-07T10:28:28.181803Z",
     "iopub.status.busy": "2021-01-07T10:28:28.181294Z",
     "iopub.status.idle": "2021-01-07T10:28:28.417513Z",
     "shell.execute_reply": "2021-01-07T10:28:28.417929Z"
    },
    "jupyter": {
     "source_hidden": true
    },
    "papermill": {
     "duration": 0.247568,
     "end_time": "2021-01-07T10:28:28.418077",
     "exception": false,
     "start_time": "2021-01-07T10:28:28.170509",
     "status": "completed"
    },
    "scrolled": false,
    "tags": [
     "hide-input"
    ]
   },
   "outputs": [
    {
     "data": {
      "image/png": "[encoded data removed]",
      "text/plain": [
       "<Figure size 864x432 with 1 Axes>"
      ]
     },
     "metadata": {
      "needs_background": "light"
     },
     "output_type": "display_data"
    }
   ],
   "source": [
    "dc.plot(kind='line',x='DATE',y='7_DAY',color='blue',grid='True',figsize=(12,6)).set_xlabel('Date');"
   ]
  },
  {
   "cell_type": "markdown",
   "metadata": {
    "papermill": {
     "duration": 0.008308,
     "end_time": "2021-01-07T10:28:28.434770",
     "exception": false,
     "start_time": "2021-01-07T10:28:28.426462",
     "status": "completed"
    },
    "tags": []
   },
   "source": [
    "## Figure 2: Rolling 7-day average of daily new cases."
   ]
  },
  {
   "cell_type": "code",
   "execution_count": 8,
   "metadata": {
    "execution": {
     "iopub.execute_input": "2021-01-07T10:28:28.456481Z",
     "iopub.status.busy": "2021-01-07T10:28:28.456006Z",
     "iopub.status.idle": "2021-01-07T10:28:28.684012Z",
     "shell.execute_reply": "2021-01-07T10:28:28.684437Z"
    },
    "jupyter": {
     "source_hidden": true
    },
    "papermill": {
     "duration": 0.240967,
     "end_time": "2021-01-07T10:28:28.684576",
     "exception": false,
     "start_time": "2021-01-07T10:28:28.443609",
     "status": "completed"
    },
    "tags": []
   },
   "outputs": [
    {
     "data": {
      "image/png": "[encoded data removed]",
      "text/plain": [
       "<Figure size 864x432 with 1 Axes>"
      ]
     },
     "metadata": {
      "needs_background": "light"
     },
     "output_type": "display_data"
    }
   ],
   "source": [
    "dc.plot(kind='line',x='DATE',y='14_DAY',color='green',grid='True',figsize=(12,6)).set_xlabel('Date');"
   ]
  },
  {
   "cell_type": "markdown",
   "metadata": {
    "papermill": {
     "duration": 0.009705,
     "end_time": "2021-01-07T10:28:28.704370",
     "exception": false,
     "start_time": "2021-01-07T10:28:28.694665",
     "status": "completed"
    },
    "tags": []
   },
   "source": [
    "## Figure 3: Rolling 14-day average of daily new cases."
   ]
  },
  {
   "cell_type": "markdown",
   "metadata": {
    "papermill": {
     "duration": 0.009124,
     "end_time": "2021-01-07T10:28:28.722665",
     "exception": false,
     "start_time": "2021-01-07T10:28:28.713541",
     "status": "completed"
    },
    "tags": []
   },
   "source": [
    "Data source: [Wisconsin Department of Health Services](https://data.dhsgis.wi.gov/datasets/covid-19-historical-data-table/)"
   ]
  },
  {
   "cell_type": "code",
   "execution_count": 9,
   "metadata": {
    "execution": {
     "iopub.execute_input": "2021-01-07T10:28:28.744721Z",
     "iopub.status.busy": "2021-01-07T10:28:28.744079Z",
     "iopub.status.idle": "2021-01-07T10:28:28.747323Z",
     "shell.execute_reply": "2021-01-07T10:28:28.746908Z"
    },
    "jupyter": {
     "source_hidden": true
    },
    "papermill": {
     "duration": 0.016251,
     "end_time": "2021-01-07T10:28:28.747423",
     "exception": false,
     "start_time": "2021-01-07T10:28:28.731172",
     "status": "completed"
    },
    "tags": []
   },
   "outputs": [
    {
     "data": {
      "text/html": [
       "<style>\n",
       "div.input {\n",
       "    display:none;\n",
       "}\n",
       "</style>\n"
      ],
      "text/plain": [
       "<IPython.core.display.HTML object>"
      ]
     },
     "metadata": {},
     "output_type": "display_data"
    }
   ],
   "source": [
    "%%html\n",
    "<style>\n",
    "div.input {\n",
    "    display:none;\n",
    "}\n",
    "</style>"
   ]
  }
 ],
 "metadata": {
  "kernelspec": {
   "display_name": "Python 3",
   "language": "python",
   "name": "python3"
  },
  "language_info": {
   "codemirror_mode": {
    "name": "ipython",
    "version": 3
   },
   "file_extension": ".py",
   "mimetype": "text/x-python",
   "name": "python",
   "nbconvert_exporter": "python",
   "pygments_lexer": "ipython3",
   "version": "3.8.6"
  },
  "papermill": {
   "duration": 5.556222,
   "end_time": "2021-01-07T10:28:29.064834",
   "environment_variables": {},
   "exception": null,
   "input_path": "DunnCounty_COVID19.ipynb",
   "output_path": "DunnCounty_COVID19.ipynb",
   "parameters": {
    "Start": "True",
    "secretsPath": "/home/runner/work/_temp/secrets.json"
   },
   "start_time": "2021-01-07T10:28:23.508612",
   "version": "1.1.16"
  }
 },
 "nbformat": 4,
 "nbformat_minor": 2
}