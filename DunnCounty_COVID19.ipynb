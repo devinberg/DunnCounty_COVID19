{
 "cells": [
  {
   "cell_type": "code",
   "execution_count": 1,
   "metadata": {
    "execution": {
     "iopub.execute_input": "2020-12-19T10:14:28.396657Z",
     "iopub.status.busy": "2020-12-19T10:14:28.396148Z",
     "iopub.status.idle": "2020-12-19T10:14:30.691268Z",
     "shell.execute_reply": "2020-12-19T10:14:30.690607Z"
    },
    "jupyter": {
     "source_hidden": true
    },
    "papermill": {
     "duration": 2.310559,
     "end_time": "2020-12-19T10:14:30.691451",
     "exception": false,
     "start_time": "2020-12-19T10:14:28.380892",
     "status": "completed"
    },
    "scrolled": true,
    "tags": [
     "hide-input"
    ]
   },
   "outputs": [],
   "source": [
    "import pandas as pd\n",
    "import matplotlib.pyplot as plt\n",
    "from matplotlib import dates\n",
    "from IPython.display import display, Markdown\n",
    "%matplotlib inline"
   ]
  },
  {
   "cell_type": "code",
   "execution_count": 2,
   "metadata": {
    "execution": {
     "iopub.execute_input": "2020-12-19T10:14:30.710334Z",
     "iopub.status.busy": "2020-12-19T10:14:30.709849Z",
     "iopub.status.idle": "2020-12-19T10:14:31.415916Z",
     "shell.execute_reply": "2020-12-19T10:14:31.415481Z"
    },
    "jupyter": {
     "source_hidden": true
    },
    "papermill": {
     "duration": 0.717026,
     "end_time": "2020-12-19T10:14:31.416037",
     "exception": false,
     "start_time": "2020-12-19T10:14:30.699011",
     "status": "completed"
    },
    "scrolled": true,
    "tags": [
     "hide-input"
    ]
   },
   "outputs": [],
   "source": [
    "# This is the data for all of Wisconsin.\n",
    "url = \"https://opendata.arcgis.com/datasets/5374188992374b318d3e2305216ee413_12.csv\"\n",
    "data = pd.read_csv(url, parse_dates=['DATE'], low_memory=False)"
   ]
  },
  {
   "cell_type": "code",
   "execution_count": 3,
   "metadata": {
    "execution": {
     "iopub.execute_input": "2020-12-19T10:14:31.433731Z",
     "iopub.status.busy": "2020-12-19T10:14:31.431093Z",
     "iopub.status.idle": "2020-12-19T10:14:31.442415Z",
     "shell.execute_reply": "2020-12-19T10:14:31.442806Z"
    },
    "jupyter": {
     "source_hidden": true
    },
    "papermill": {
     "duration": 0.020062,
     "end_time": "2020-12-19T10:14:31.442945",
     "exception": false,
     "start_time": "2020-12-19T10:14:31.422883",
     "status": "completed"
    },
    "scrolled": true,
    "tags": [
     "hide-input"
    ]
   },
   "outputs": [],
   "source": [
    "dc = data.groupby('NAME').get_group('Dunn').sort_values(by='DATE') # Select the data for Dunn County from the full data.\n",
    "PNi = dc.columns.get_loc(\"POS_NEW\")\n",
    "dc['7_DAY'] = dc.iloc[:,PNi].rolling(window=7).mean() # Calculates the rolling 7-day average of new cases.\n",
    "dc['14_DAY'] = dc.iloc[:,PNi].rolling(window=14).mean() # Calculates the rolling 14-day average of new cases."
   ]
  },
  {
   "cell_type": "code",
   "execution_count": 4,
   "metadata": {
    "execution": {
     "iopub.execute_input": "2020-12-19T10:14:31.460457Z",
     "iopub.status.busy": "2020-12-19T10:14:31.459631Z",
     "iopub.status.idle": "2020-12-19T10:14:31.462997Z",
     "shell.execute_reply": "2020-12-19T10:14:31.464227Z"
    },
    "jupyter": {
     "source_hidden": true
    },
    "papermill": {
     "duration": 0.01565,
     "end_time": "2020-12-19T10:14:31.464346",
     "exception": false,
     "start_time": "2020-12-19T10:14:31.448696",
     "status": "completed"
    },
    "scrolled": true,
    "tags": [
     "hide-input"
    ]
   },
   "outputs": [
    {
     "data": {
      "text/markdown": [
       "### Last updated: December 18, 2020"
      ],
      "text/plain": [
       "<IPython.core.display.Markdown object>"
      ]
     },
     "metadata": {},
     "output_type": "display_data"
    }
   ],
   "source": [
    "display(Markdown('### Last updated: ' + dc.iloc[-1]['DATE'].strftime(\"%B %d, %Y\")))"
   ]
  },
  {
   "cell_type": "code",
   "execution_count": 5,
   "metadata": {
    "execution": {
     "iopub.execute_input": "2020-12-19T10:14:31.482825Z",
     "iopub.status.busy": "2020-12-19T10:14:31.482280Z",
     "iopub.status.idle": "2020-12-19T10:14:31.485212Z",
     "shell.execute_reply": "2020-12-19T10:14:31.485579Z"
    },
    "jupyter": {
     "source_hidden": true
    },
    "papermill": {
     "duration": 0.013904,
     "end_time": "2020-12-19T10:14:31.485698",
     "exception": false,
     "start_time": "2020-12-19T10:14:31.471794",
     "status": "completed"
    },
    "tags": [
     "hide-input"
    ]
   },
   "outputs": [
    {
     "data": {
      "text/markdown": [
       "# Dunn County has 3272 total positive cases, with 21 new cases reported today."
      ],
      "text/plain": [
       "<IPython.core.display.Markdown object>"
      ]
     },
     "metadata": {},
     "output_type": "display_data"
    }
   ],
   "source": [
    "display(Markdown('# Dunn County has ' + str(dc.iloc[-1]['POSITIVE']) + ' total positive cases, with '+ str(int(dc.iloc[-1]['POS_NEW'])) + ' new cases reported today.'))"
   ]
  },
  {
   "cell_type": "code",
   "execution_count": 6,
   "metadata": {
    "execution": {
     "iopub.execute_input": "2020-12-19T10:14:31.503123Z",
     "iopub.status.busy": "2020-12-19T10:14:31.502574Z",
     "iopub.status.idle": "2020-12-19T10:14:31.749253Z",
     "shell.execute_reply": "2020-12-19T10:14:31.749664Z"
    },
    "jupyter": {
     "source_hidden": true
    },
    "papermill": {
     "duration": 0.257227,
     "end_time": "2020-12-19T10:14:31.749809",
     "exception": false,
     "start_time": "2020-12-19T10:14:31.492582",
     "status": "completed"
    },
    "scrolled": false,
    "tags": [
     "hide-input"
    ]
   },
   "outputs": [
    {
     "data": {
      "image/png": "[encoded data removed]",
      "text/plain": [
       "<Figure size 864x432 with 1 Axes>"
      ]
     },
     "metadata": {
      "needs_background": "light"
     },
     "output_type": "display_data"
    }
   ],
   "source": [
    "dc.plot(x='DATE',y='POSITIVE',color='red',grid='True',figsize=(12,6)).set_xlabel('Date');"
   ]
  },
  {
   "cell_type": "markdown",
   "metadata": {
    "papermill": {
     "duration": 0.007855,
     "end_time": "2020-12-19T10:14:31.765738",
     "exception": false,
     "start_time": "2020-12-19T10:14:31.757883",
     "status": "completed"
    },
    "tags": []
   },
   "source": [
    "## Figure 1: Cummulative number of positive cases."
   ]
  },
  {
   "cell_type": "code",
   "execution_count": 7,
   "metadata": {
    "execution": {
     "iopub.execute_input": "2020-12-19T10:14:31.785503Z",
     "iopub.status.busy": "2020-12-19T10:14:31.784953Z",
     "iopub.status.idle": "2020-12-19T10:14:32.024279Z",
     "shell.execute_reply": "2020-12-19T10:14:32.024682Z"
    },
    "jupyter": {
     "source_hidden": true
    },
    "papermill": {
     "duration": 0.251557,
     "end_time": "2020-12-19T10:14:32.024824",
     "exception": false,
     "start_time": "2020-12-19T10:14:31.773267",
     "status": "completed"
    },
    "scrolled": false,
    "tags": [
     "hide-input"
    ]
   },
   "outputs": [
    {
     "data": {
      "image/png": "[encoded data removed]",
      "text/plain": [
       "<Figure size 864x432 with 1 Axes>"
      ]
     },
     "metadata": {
      "needs_background": "light"
     },
     "output_type": "display_data"
    }
   ],
   "source": [
    "dc.plot(kind='line',x='DATE',y='7_DAY',color='blue',grid='True',figsize=(12,6)).set_xlabel('Date');"
   ]
  },
  {
   "cell_type": "markdown",
   "metadata": {
    "papermill": {
     "duration": 0.008329,
     "end_time": "2020-12-19T10:14:32.041735",
     "exception": false,
     "start_time": "2020-12-19T10:14:32.033406",
     "status": "completed"
    },
    "tags": []
   },
   "source": [
    "## Figure 2: Rolling 7-day average of daily new cases."
   ]
  },
  {
   "cell_type": "code",
   "execution_count": 8,
   "metadata": {
    "execution": {
     "iopub.execute_input": "2020-12-19T10:14:32.063937Z",
     "iopub.status.busy": "2020-12-19T10:14:32.063389Z",
     "iopub.status.idle": "2020-12-19T10:14:32.294328Z",
     "shell.execute_reply": "2020-12-19T10:14:32.294788Z"
    },
    "jupyter": {
     "source_hidden": true
    },
    "papermill": {
     "duration": 0.245168,
     "end_time": "2020-12-19T10:14:32.294928",
     "exception": false,
     "start_time": "2020-12-19T10:14:32.049760",
     "status": "completed"
    },
    "tags": []
   },
   "outputs": [
    {
     "data": {
      "image/png": "[encoded data removed]",
      "text/plain": [
       "<Figure size 864x432 with 1 Axes>"
      ]
     },
     "metadata": {
      "needs_background": "light"
     },
     "output_type": "display_data"
    }
   ],
   "source": [
    "dc.plot(kind='line',x='DATE',y='14_DAY',color='green',grid='True',figsize=(12,6)).set_xlabel('Date');"
   ]
  },
  {
   "cell_type": "markdown",
   "metadata": {
    "papermill": {
     "duration": 0.009091,
     "end_time": "2020-12-19T10:14:32.314043",
     "exception": false,
     "start_time": "2020-12-19T10:14:32.304952",
     "status": "completed"
    },
    "tags": []
   },
   "source": [
    "## Figure 3: Rolling 14-day average of daily new cases."
   ]
  },
  {
   "cell_type": "markdown",
   "metadata": {
    "papermill": {
     "duration": 0.009325,
     "end_time": "2020-12-19T10:14:32.332183",
     "exception": false,
     "start_time": "2020-12-19T10:14:32.322858",
     "status": "completed"
    },
    "tags": []
   },
   "source": [
    "Data source: [Wisconsin Department of Health Services](https://data.dhsgis.wi.gov/datasets/covid-19-historical-data-table/)"
   ]
  },
  {
   "cell_type": "code",
   "execution_count": 9,
   "metadata": {
    "execution": {
     "iopub.execute_input": "2020-12-19T10:14:32.353484Z",
     "iopub.status.busy": "2020-12-19T10:14:32.352942Z",
     "iopub.status.idle": "2020-12-19T10:14:32.356403Z",
     "shell.execute_reply": "2020-12-19T10:14:32.355994Z"
    },
    "jupyter": {
     "source_hidden": true
    },
    "papermill": {
     "duration": 0.015346,
     "end_time": "2020-12-19T10:14:32.356608",
     "exception": false,
     "start_time": "2020-12-19T10:14:32.341262",
     "status": "completed"
    },
    "tags": []
   },
   "outputs": [
    {
     "data": {
      "text/html": [
       "<style>\n",
       "div.input {\n",
       "    display:none;\n",
       "}\n",
       "</style>\n"
      ],
      "text/plain": [
       "<IPython.core.display.HTML object>"
      ]
     },
     "metadata": {},
     "output_type": "display_data"
    }
   ],
   "source": [
    "%%html\n",
    "<style>\n",
    "div.input {\n",
    "    display:none;\n",
    "}\n",
    "</style>"
   ]
  }
 ],
 "metadata": {
  "kernelspec": {
   "display_name": "Python 3",
   "language": "python",
   "name": "python3"
  },
  "language_info": {
   "codemirror_mode": {
    "name": "ipython",
    "version": 3
   },
   "file_extension": ".py",
   "mimetype": "text/x-python",
   "name": "python",
   "nbconvert_exporter": "python",
   "pygments_lexer": "ipython3",
   "version": "3.8.6"
  },
  "papermill": {
   "duration": 5.885707,
   "end_time": "2020-12-19T10:14:32.675420",
   "environment_variables": {},
   "exception": null,
   "input_path": "DunnCounty_COVID19.ipynb",
   "output_path": "DunnCounty_COVID19.ipynb",
   "parameters": {
    "Start": "True",
    "secretsPath": "/home/runner/work/_temp/secrets.json"
   },
   "start_time": "2020-12-19T10:14:26.789713",
   "version": "1.1.16"
  }
 },
 "nbformat": 4,
 "nbformat_minor": 2
}