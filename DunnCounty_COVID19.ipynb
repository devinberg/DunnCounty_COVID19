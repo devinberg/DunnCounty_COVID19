{
 "cells": [
  {
   "cell_type": "code",
   "execution_count": 1,
   "id": "solar-understanding",
   "metadata": {
    "execution": {
     "iopub.execute_input": "2021-05-26T22:19:42.020461Z",
     "iopub.status.busy": "2021-05-26T22:19:42.019873Z",
     "iopub.status.idle": "2021-05-26T22:19:42.949629Z",
     "shell.execute_reply": "2021-05-26T22:19:42.948928Z"
    },
    "jupyter": {
     "source_hidden": true
    },
    "papermill": {
     "duration": 0.948625,
     "end_time": "2021-05-26T22:19:42.949776",
     "exception": false,
     "start_time": "2021-05-26T22:19:42.001151",
     "status": "completed"
    },
    "scrolled": true,
    "tags": [
     "hide-input"
    ]
   },
   "outputs": [],
   "source": [
    "import pandas as pd\n",
    "import matplotlib.pyplot as plt\n",
    "from matplotlib import dates\n",
    "from IPython.display import display, Markdown\n",
    "%matplotlib inline"
   ]
  },
  {
   "cell_type": "code",
   "execution_count": 2,
   "id": "purple-playlist",
   "metadata": {
    "execution": {
     "iopub.execute_input": "2021-05-26T22:19:42.974621Z",
     "iopub.status.busy": "2021-05-26T22:19:42.974053Z",
     "iopub.status.idle": "2021-05-26T22:19:43.701625Z",
     "shell.execute_reply": "2021-05-26T22:19:43.700821Z"
    },
    "jupyter": {
     "source_hidden": true
    },
    "papermill": {
     "duration": 0.742445,
     "end_time": "2021-05-26T22:19:43.701749",
     "exception": false,
     "start_time": "2021-05-26T22:19:42.959304",
     "status": "completed"
    },
    "scrolled": true,
    "tags": [
     "hide-input"
    ]
   },
   "outputs": [],
   "source": [
    "# This is the data for all of Wisconsin.\n",
    "url = \"https://opendata.arcgis.com/datasets/80ff9d4897db4d7692f0f4ad28447cab_12.csv\"\n",
    "data = pd.read_csv(url, parse_dates=['DATE'], low_memory=False)"
   ]
  },
  {
   "cell_type": "code",
   "execution_count": 3,
   "id": "proprietary-klein",
   "metadata": {
    "execution": {
     "iopub.execute_input": "2021-05-26T22:19:43.726164Z",
     "iopub.status.busy": "2021-05-26T22:19:43.725625Z",
     "iopub.status.idle": "2021-05-26T22:19:43.734469Z",
     "shell.execute_reply": "2021-05-26T22:19:43.733980Z"
    },
    "jupyter": {
     "source_hidden": true
    },
    "papermill": {
     "duration": 0.02394,
     "end_time": "2021-05-26T22:19:43.734584",
     "exception": false,
     "start_time": "2021-05-26T22:19:43.710644",
     "status": "completed"
    },
    "scrolled": true,
    "tags": [
     "hide-input"
    ]
   },
   "outputs": [],
   "source": [
    "dc = data.groupby('NAME').get_group('Dunn').sort_values(by='DATE') # Select the data for Dunn County from the full data.\n",
    "PNi = dc.columns.get_loc(\"POS_NEW\")\n",
    "dc['7_DAY'] = dc.iloc[:,PNi].rolling(window=7).mean() # Calculates the rolling 7-day average of new cases.\n",
    "dc['14_DAY'] = dc.iloc[:,PNi].rolling(window=14).mean() # Calculates the rolling 14-day average of new cases."
   ]
  },
  {
   "cell_type": "code",
   "execution_count": 4,
   "id": "steady-supervision",
   "metadata": {
    "execution": {
     "iopub.execute_input": "2021-05-26T22:19:43.758665Z",
     "iopub.status.busy": "2021-05-26T22:19:43.758114Z",
     "iopub.status.idle": "2021-05-26T22:19:43.763276Z",
     "shell.execute_reply": "2021-05-26T22:19:43.762844Z"
    },
    "jupyter": {
     "source_hidden": true
    },
    "papermill": {
     "duration": 0.020267,
     "end_time": "2021-05-26T22:19:43.763389",
     "exception": false,
     "start_time": "2021-05-26T22:19:43.743122",
     "status": "completed"
    },
    "scrolled": true,
    "tags": [
     "hide-input"
    ]
   },
   "outputs": [
    {
     "data": {
      "text/markdown": [
       "### Last updated: May 26, 2021"
      ],
      "text/plain": [
       "<IPython.core.display.Markdown object>"
      ]
     },
     "metadata": {},
     "output_type": "display_data"
    }
   ],
   "source": [
    "display(Markdown('### Last updated: ' + dc.iloc[-1]['DATE'].strftime(\"%B %d, %Y\")))"
   ]
  },
  {
   "cell_type": "code",
   "execution_count": 5,
   "id": "lonely-pitch",
   "metadata": {
    "execution": {
     "iopub.execute_input": "2021-05-26T22:19:43.786477Z",
     "iopub.status.busy": "2021-05-26T22:19:43.785884Z",
     "iopub.status.idle": "2021-05-26T22:19:43.789190Z",
     "shell.execute_reply": "2021-05-26T22:19:43.788737Z"
    },
    "jupyter": {
     "source_hidden": true
    },
    "papermill": {
     "duration": 0.016938,
     "end_time": "2021-05-26T22:19:43.789298",
     "exception": false,
     "start_time": "2021-05-26T22:19:43.772360",
     "status": "completed"
    },
    "tags": [
     "hide-input"
    ]
   },
   "outputs": [
    {
     "data": {
      "text/markdown": [
       "# Dunn County has 4681 total positive cases, with 2 new cases reported today."
      ],
      "text/plain": [
       "<IPython.core.display.Markdown object>"
      ]
     },
     "metadata": {},
     "output_type": "display_data"
    }
   ],
   "source": [
    "display(Markdown('# Dunn County has ' + str(dc.iloc[-1]['POSITIVE']) + ' total positive cases, with '+ str(int(dc.iloc[-1]['POS_NEW'])) + ' new cases reported today.'))"
   ]
  },
  {
   "cell_type": "code",
   "execution_count": 6,
   "id": "compound-nightmare",
   "metadata": {
    "execution": {
     "iopub.execute_input": "2021-05-26T22:19:43.812584Z",
     "iopub.status.busy": "2021-05-26T22:19:43.812051Z",
     "iopub.status.idle": "2021-05-26T22:19:44.085155Z",
     "shell.execute_reply": "2021-05-26T22:19:44.085570Z"
    },
    "jupyter": {
     "source_hidden": true
    },
    "papermill": {
     "duration": 0.287115,
     "end_time": "2021-05-26T22:19:44.085729",
     "exception": false,
     "start_time": "2021-05-26T22:19:43.798614",
     "status": "completed"
    },
    "scrolled": false,
    "tags": [
     "hide-input"
    ]
   },
   "outputs": [
    {
     "data": {
      "image/png": "[encoded data removed]",
      "text/plain": [
       "<Figure size 864x432 with 1 Axes>"
      ]
     },
     "metadata": {
      "needs_background": "light"
     },
     "output_type": "display_data"
    }
   ],
   "source": [
    "dc.plot(x='DATE',y='POSITIVE',color='red',grid='True',figsize=(12,6)).set_xlabel('Date');"
   ]
  },
  {
   "cell_type": "markdown",
   "id": "coupled-literacy",
   "metadata": {
    "papermill": {
     "duration": 0.010028,
     "end_time": "2021-05-26T22:19:44.106000",
     "exception": false,
     "start_time": "2021-05-26T22:19:44.095972",
     "status": "completed"
    },
    "tags": []
   },
   "source": [
    "## Figure 1: Cummulative number of positive cases."
   ]
  },
  {
   "cell_type": "code",
   "execution_count": 7,
   "id": "surrounded-reserve",
   "metadata": {
    "execution": {
     "iopub.execute_input": "2021-05-26T22:19:44.131140Z",
     "iopub.status.busy": "2021-05-26T22:19:44.130383Z",
     "iopub.status.idle": "2021-05-26T22:19:44.358816Z",
     "shell.execute_reply": "2021-05-26T22:19:44.359583Z"
    },
    "jupyter": {
     "source_hidden": true
    },
    "papermill": {
     "duration": 0.243545,
     "end_time": "2021-05-26T22:19:44.359823",
     "exception": false,
     "start_time": "2021-05-26T22:19:44.116278",
     "status": "completed"
    },
    "scrolled": false,
    "tags": [
     "hide-input"
    ]
   },
   "outputs": [
    {
     "data": {
      "image/png": "[encoded data removed]",
      "text/plain": [
       "<Figure size 864x432 with 1 Axes>"
      ]
     },
     "metadata": {
      "needs_background": "light"
     },
     "output_type": "display_data"
    }
   ],
   "source": [
    "dc.plot(kind='line',x='DATE',y='7_DAY',color='blue',grid='True',figsize=(12,6)).set_xlabel('Date');"
   ]
  },
  {
   "cell_type": "markdown",
   "id": "professional-savannah",
   "metadata": {
    "papermill": {
     "duration": 0.011642,
     "end_time": "2021-05-26T22:19:44.383206",
     "exception": false,
     "start_time": "2021-05-26T22:19:44.371564",
     "status": "completed"
    },
    "tags": []
   },
   "source": [
    "## Figure 2: Rolling 7-day average of daily new cases."
   ]
  },
  {
   "cell_type": "code",
   "execution_count": 8,
   "id": "stretch-investor",
   "metadata": {
    "execution": {
     "iopub.execute_input": "2021-05-26T22:19:44.411821Z",
     "iopub.status.busy": "2021-05-26T22:19:44.411294Z",
     "iopub.status.idle": "2021-05-26T22:19:44.655410Z",
     "shell.execute_reply": "2021-05-26T22:19:44.655855Z"
    },
    "jupyter": {
     "source_hidden": true
    },
    "papermill": {
     "duration": 0.261499,
     "end_time": "2021-05-26T22:19:44.656012",
     "exception": false,
     "start_time": "2021-05-26T22:19:44.394513",
     "status": "completed"
    },
    "tags": []
   },
   "outputs": [
    {
     "data": {
      "image/png": "[encoded data removed]",
      "text/plain": [
       "<Figure size 864x432 with 1 Axes>"
      ]
     },
     "metadata": {
      "needs_background": "light"
     },
     "output_type": "display_data"
    }
   ],
   "source": [
    "dc.plot(kind='line',x='DATE',y='14_DAY',color='green',grid='True',figsize=(12,6)).set_xlabel('Date');"
   ]
  },
  {
   "cell_type": "markdown",
   "id": "prerequisite-species",
   "metadata": {
    "papermill": {
     "duration": 0.013048,
     "end_time": "2021-05-26T22:19:44.681793",
     "exception": false,
     "start_time": "2021-05-26T22:19:44.668745",
     "status": "completed"
    },
    "tags": []
   },
   "source": [
    "## Figure 3: Rolling 14-day average of daily new cases."
   ]
  },
  {
   "cell_type": "markdown",
   "id": "palestinian-guard",
   "metadata": {
    "papermill": {
     "duration": 0.012317,
     "end_time": "2021-05-26T22:19:44.706456",
     "exception": false,
     "start_time": "2021-05-26T22:19:44.694139",
     "status": "completed"
    },
    "tags": []
   },
   "source": [
    "Data source: [Wisconsin Department of Health Services](https://data.dhsgis.wi.gov/datasets/covid-19-historical-data-by-county)"
   ]
  },
  {
   "cell_type": "code",
   "execution_count": 9,
   "id": "proof-medicare",
   "metadata": {
    "execution": {
     "iopub.execute_input": "2021-05-26T22:19:44.736576Z",
     "iopub.status.busy": "2021-05-26T22:19:44.736035Z",
     "iopub.status.idle": "2021-05-26T22:19:44.738722Z",
     "shell.execute_reply": "2021-05-26T22:19:44.739127Z"
    },
    "jupyter": {
     "source_hidden": true
    },
    "papermill": {
     "duration": 0.020467,
     "end_time": "2021-05-26T22:19:44.739281",
     "exception": false,
     "start_time": "2021-05-26T22:19:44.718814",
     "status": "completed"
    },
    "tags": []
   },
   "outputs": [
    {
     "data": {
      "text/html": [
       "<style>\n",
       "div.input {\n",
       "    display:none;\n",
       "}\n",
       "</style>\n"
      ],
      "text/plain": [
       "<IPython.core.display.HTML object>"
      ]
     },
     "metadata": {},
     "output_type": "display_data"
    }
   ],
   "source": [
    "%%html\n",
    "<style>\n",
    "div.input {\n",
    "    display:none;\n",
    "}\n",
    "</style>"
   ]
  }
 ],
 "metadata": {
  "kernelspec": {
   "display_name": "Python 3",
   "language": "python",
   "name": "python3"
  },
  "language_info": {
   "codemirror_mode": {
    "name": "ipython",
    "version": 3
   },
   "file_extension": ".py",
   "mimetype": "text/x-python",
   "name": "python",
   "nbconvert_exporter": "python",
   "pygments_lexer": "ipython3",
   "version": "3.8.10"
  },
  "papermill": {
   "duration": 5.378217,
   "end_time": "2021-05-26T22:19:46.036392",
   "environment_variables": {},
   "exception": null,
   "input_path": "DunnCounty_COVID19.ipynb",
   "output_path": "DunnCounty_COVID19.ipynb",
   "parameters": {
    "Start": "True",
    "secretsPath": "/home/runner/work/_temp/secrets.json"
   },
   "start_time": "2021-05-26T22:19:40.658175",
   "version": "1.1.16"
  }
 },
 "nbformat": 4,
 "nbformat_minor": 5
}