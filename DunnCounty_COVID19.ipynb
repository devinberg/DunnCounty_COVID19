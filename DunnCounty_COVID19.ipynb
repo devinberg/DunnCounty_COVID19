{
 "cells": [
  {
   "cell_type": "code",
   "execution_count": 1,
   "id": "solar-understanding",
   "metadata": {
    "execution": {
     "iopub.execute_input": "2021-05-08T22:14:38.854133Z",
     "iopub.status.busy": "2021-05-08T22:14:38.853586Z",
     "iopub.status.idle": "2021-05-08T22:14:39.841576Z",
     "shell.execute_reply": "2021-05-08T22:14:39.841970Z"
    },
    "jupyter": {
     "source_hidden": true
    },
    "papermill": {
     "duration": 1.009132,
     "end_time": "2021-05-08T22:14:39.842269",
     "exception": false,
     "start_time": "2021-05-08T22:14:38.833137",
     "status": "completed"
    },
    "scrolled": true,
    "tags": [
     "hide-input"
    ]
   },
   "outputs": [],
   "source": [
    "import pandas as pd\n",
    "import matplotlib.pyplot as plt\n",
    "from matplotlib import dates\n",
    "from IPython.display import display, Markdown\n",
    "%matplotlib inline"
   ]
  },
  {
   "cell_type": "code",
   "execution_count": 2,
   "id": "purple-playlist",
   "metadata": {
    "execution": {
     "iopub.execute_input": "2021-05-08T22:14:39.867195Z",
     "iopub.status.busy": "2021-05-08T22:14:39.866643Z",
     "iopub.status.idle": "2021-05-08T22:14:40.527897Z",
     "shell.execute_reply": "2021-05-08T22:14:40.527372Z"
    },
    "jupyter": {
     "source_hidden": true
    },
    "papermill": {
     "duration": 0.676421,
     "end_time": "2021-05-08T22:14:40.528016",
     "exception": false,
     "start_time": "2021-05-08T22:14:39.851595",
     "status": "completed"
    },
    "scrolled": true,
    "tags": [
     "hide-input"
    ]
   },
   "outputs": [],
   "source": [
    "# This is the data for all of Wisconsin.\n",
    "url = \"https://opendata.arcgis.com/datasets/80ff9d4897db4d7692f0f4ad28447cab_12.csv\"\n",
    "data = pd.read_csv(url, parse_dates=['DATE'], low_memory=False)"
   ]
  },
  {
   "cell_type": "code",
   "execution_count": 3,
   "id": "proprietary-klein",
   "metadata": {
    "execution": {
     "iopub.execute_input": "2021-05-08T22:14:40.554219Z",
     "iopub.status.busy": "2021-05-08T22:14:40.549671Z",
     "iopub.status.idle": "2021-05-08T22:14:40.561736Z",
     "shell.execute_reply": "2021-05-08T22:14:40.562108Z"
    },
    "jupyter": {
     "source_hidden": true
    },
    "papermill": {
     "duration": 0.025191,
     "end_time": "2021-05-08T22:14:40.562228",
     "exception": false,
     "start_time": "2021-05-08T22:14:40.537037",
     "status": "completed"
    },
    "scrolled": true,
    "tags": [
     "hide-input"
    ]
   },
   "outputs": [],
   "source": [
    "dc = data.groupby('NAME').get_group('Dunn').sort_values(by='DATE') # Select the data for Dunn County from the full data.\n",
    "PNi = dc.columns.get_loc(\"POS_NEW\")\n",
    "dc['7_DAY'] = dc.iloc[:,PNi].rolling(window=7).mean() # Calculates the rolling 7-day average of new cases.\n",
    "dc['14_DAY'] = dc.iloc[:,PNi].rolling(window=14).mean() # Calculates the rolling 14-day average of new cases."
   ]
  },
  {
   "cell_type": "code",
   "execution_count": 4,
   "id": "steady-supervision",
   "metadata": {
    "execution": {
     "iopub.execute_input": "2021-05-08T22:14:40.585708Z",
     "iopub.status.busy": "2021-05-08T22:14:40.585084Z",
     "iopub.status.idle": "2021-05-08T22:14:40.592657Z",
     "shell.execute_reply": "2021-05-08T22:14:40.593107Z"
    },
    "jupyter": {
     "source_hidden": true
    },
    "papermill": {
     "duration": 0.02101,
     "end_time": "2021-05-08T22:14:40.593389",
     "exception": false,
     "start_time": "2021-05-08T22:14:40.572379",
     "status": "completed"
    },
    "scrolled": true,
    "tags": [
     "hide-input"
    ]
   },
   "outputs": [
    {
     "data": {
      "text/markdown": [
       "### Last updated: May 07, 2021"
      ],
      "text/plain": [
       "<IPython.core.display.Markdown object>"
      ]
     },
     "metadata": {},
     "output_type": "display_data"
    }
   ],
   "source": [
    "display(Markdown('### Last updated: ' + dc.iloc[-1]['DATE'].strftime(\"%B %d, %Y\")))"
   ]
  },
  {
   "cell_type": "code",
   "execution_count": 5,
   "id": "lonely-pitch",
   "metadata": {
    "execution": {
     "iopub.execute_input": "2021-05-08T22:14:40.615946Z",
     "iopub.status.busy": "2021-05-08T22:14:40.615415Z",
     "iopub.status.idle": "2021-05-08T22:14:40.621887Z",
     "shell.execute_reply": "2021-05-08T22:14:40.621422Z"
    },
    "jupyter": {
     "source_hidden": true
    },
    "papermill": {
     "duration": 0.017998,
     "end_time": "2021-05-08T22:14:40.621990",
     "exception": false,
     "start_time": "2021-05-08T22:14:40.603992",
     "status": "completed"
    },
    "tags": [
     "hide-input"
    ]
   },
   "outputs": [
    {
     "data": {
      "text/markdown": [
       "# Dunn County has 4640 total positive cases, with 2 new cases reported today."
      ],
      "text/plain": [
       "<IPython.core.display.Markdown object>"
      ]
     },
     "metadata": {},
     "output_type": "display_data"
    }
   ],
   "source": [
    "display(Markdown('# Dunn County has ' + str(dc.iloc[-1]['POSITIVE']) + ' total positive cases, with '+ str(int(dc.iloc[-1]['POS_NEW'])) + ' new cases reported today.'))"
   ]
  },
  {
   "cell_type": "code",
   "execution_count": 6,
   "id": "compound-nightmare",
   "metadata": {
    "execution": {
     "iopub.execute_input": "2021-05-08T22:14:40.646393Z",
     "iopub.status.busy": "2021-05-08T22:14:40.645813Z",
     "iopub.status.idle": "2021-05-08T22:14:40.946594Z",
     "shell.execute_reply": "2021-05-08T22:14:40.947112Z"
    },
    "jupyter": {
     "source_hidden": true
    },
    "papermill": {
     "duration": 0.315616,
     "end_time": "2021-05-08T22:14:40.947321",
     "exception": false,
     "start_time": "2021-05-08T22:14:40.631705",
     "status": "completed"
    },
    "scrolled": false,
    "tags": [
     "hide-input"
    ]
   },
   "outputs": [
    {
     "data": {
      "image/png": "[encoded data removed]",
      "text/plain": [
       "<Figure size 864x432 with 1 Axes>"
      ]
     },
     "metadata": {
      "needs_background": "light"
     },
     "output_type": "display_data"
    }
   ],
   "source": [
    "dc.plot(x='DATE',y='POSITIVE',color='red',grid='True',figsize=(12,6)).set_xlabel('Date');"
   ]
  },
  {
   "cell_type": "markdown",
   "id": "coupled-literacy",
   "metadata": {
    "papermill": {
     "duration": 0.01203,
     "end_time": "2021-05-08T22:14:40.970326",
     "exception": false,
     "start_time": "2021-05-08T22:14:40.958296",
     "status": "completed"
    },
    "tags": []
   },
   "source": [
    "## Figure 1: Cummulative number of positive cases."
   ]
  },
  {
   "cell_type": "code",
   "execution_count": 7,
   "id": "surrounded-reserve",
   "metadata": {
    "execution": {
     "iopub.execute_input": "2021-05-08T22:14:40.998027Z",
     "iopub.status.busy": "2021-05-08T22:14:40.997341Z",
     "iopub.status.idle": "2021-05-08T22:14:41.259438Z",
     "shell.execute_reply": "2021-05-08T22:14:41.258965Z"
    },
    "jupyter": {
     "source_hidden": true
    },
    "papermill": {
     "duration": 0.278103,
     "end_time": "2021-05-08T22:14:41.259607",
     "exception": false,
     "start_time": "2021-05-08T22:14:40.981504",
     "status": "completed"
    },
    "scrolled": false,
    "tags": [
     "hide-input"
    ]
   },
   "outputs": [
    {
     "data": {
      "image/png": "[encoded data removed]",
      "text/plain": [
       "<Figure size 864x432 with 1 Axes>"
      ]
     },
     "metadata": {
      "needs_background": "light"
     },
     "output_type": "display_data"
    }
   ],
   "source": [
    "dc.plot(kind='line',x='DATE',y='7_DAY',color='blue',grid='True',figsize=(12,6)).set_xlabel('Date');"
   ]
  },
  {
   "cell_type": "markdown",
   "id": "professional-savannah",
   "metadata": {
    "papermill": {
     "duration": 0.012903,
     "end_time": "2021-05-08T22:14:41.285212",
     "exception": false,
     "start_time": "2021-05-08T22:14:41.272309",
     "status": "completed"
    },
    "tags": []
   },
   "source": [
    "## Figure 2: Rolling 7-day average of daily new cases."
   ]
  },
  {
   "cell_type": "code",
   "execution_count": 8,
   "id": "stretch-investor",
   "metadata": {
    "execution": {
     "iopub.execute_input": "2021-05-08T22:14:41.315875Z",
     "iopub.status.busy": "2021-05-08T22:14:41.315253Z",
     "iopub.status.idle": "2021-05-08T22:14:41.582009Z",
     "shell.execute_reply": "2021-05-08T22:14:41.582438Z"
    },
    "jupyter": {
     "source_hidden": true
    },
    "papermill": {
     "duration": 0.284492,
     "end_time": "2021-05-08T22:14:41.582594",
     "exception": false,
     "start_time": "2021-05-08T22:14:41.298102",
     "status": "completed"
    },
    "tags": []
   },
   "outputs": [
    {
     "data": {
      "image/png": "[encoded data removed]",
      "text/plain": [
       "<Figure size 864x432 with 1 Axes>"
      ]
     },
     "metadata": {
      "needs_background": "light"
     },
     "output_type": "display_data"
    }
   ],
   "source": [
    "dc.plot(kind='line',x='DATE',y='14_DAY',color='green',grid='True',figsize=(12,6)).set_xlabel('Date');"
   ]
  },
  {
   "cell_type": "markdown",
   "id": "prerequisite-species",
   "metadata": {
    "papermill": {
     "duration": 0.013053,
     "end_time": "2021-05-08T22:14:41.608902",
     "exception": false,
     "start_time": "2021-05-08T22:14:41.595849",
     "status": "completed"
    },
    "tags": []
   },
   "source": [
    "## Figure 3: Rolling 14-day average of daily new cases."
   ]
  },
  {
   "cell_type": "markdown",
   "id": "palestinian-guard",
   "metadata": {
    "papermill": {
     "duration": 0.012253,
     "end_time": "2021-05-08T22:14:41.633987",
     "exception": false,
     "start_time": "2021-05-08T22:14:41.621734",
     "status": "completed"
    },
    "tags": []
   },
   "source": [
    "Data source: [Wisconsin Department of Health Services](https://data.dhsgis.wi.gov/datasets/covid-19-historical-data-by-county)"
   ]
  },
  {
   "cell_type": "code",
   "execution_count": 9,
   "id": "proof-medicare",
   "metadata": {
    "execution": {
     "iopub.execute_input": "2021-05-08T22:14:41.664381Z",
     "iopub.status.busy": "2021-05-08T22:14:41.663765Z",
     "iopub.status.idle": "2021-05-08T22:14:41.666501Z",
     "shell.execute_reply": "2021-05-08T22:14:41.666964Z"
    },
    "jupyter": {
     "source_hidden": true
    },
    "papermill": {
     "duration": 0.020643,
     "end_time": "2021-05-08T22:14:41.667094",
     "exception": false,
     "start_time": "2021-05-08T22:14:41.646451",
     "status": "completed"
    },
    "tags": []
   },
   "outputs": [
    {
     "data": {
      "text/html": [
       "<style>\n",
       "div.input {\n",
       "    display:none;\n",
       "}\n",
       "</style>\n"
      ],
      "text/plain": [
       "<IPython.core.display.HTML object>"
      ]
     },
     "metadata": {},
     "output_type": "display_data"
    }
   ],
   "source": [
    "%%html\n",
    "<style>\n",
    "div.input {\n",
    "    display:none;\n",
    "}\n",
    "</style>"
   ]
  }
 ],
 "metadata": {
  "kernelspec": {
   "display_name": "Python 3",
   "language": "python",
   "name": "python3"
  },
  "language_info": {
   "codemirror_mode": {
    "name": "ipython",
    "version": 3
   },
   "file_extension": ".py",
   "mimetype": "text/x-python",
   "name": "python",
   "nbconvert_exporter": "python",
   "pygments_lexer": "ipython3",
   "version": "3.8.10"
  },
  "papermill": {
   "duration": 5.127548,
   "end_time": "2021-05-08T22:14:41.987442",
   "environment_variables": {},
   "exception": null,
   "input_path": "DunnCounty_COVID19.ipynb",
   "output_path": "DunnCounty_COVID19.ipynb",
   "parameters": {
    "Start": "True",
    "secretsPath": "/home/runner/work/_temp/secrets.json"
   },
   "start_time": "2021-05-08T22:14:36.859894",
   "version": "1.1.16"
  }
 },
 "nbformat": 4,
 "nbformat_minor": 5
}