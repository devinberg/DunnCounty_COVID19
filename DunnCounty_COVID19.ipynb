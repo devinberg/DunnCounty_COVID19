{
 "cells": [
  {
   "cell_type": "code",
   "execution_count": 1,
   "metadata": {
    "execution": {
     "iopub.execute_input": "2020-12-10T10:13:02.569665Z",
     "iopub.status.busy": "2020-12-10T10:13:02.569039Z",
     "iopub.status.idle": "2020-12-10T10:13:06.296221Z",
     "shell.execute_reply": "2020-12-10T10:13:06.295268Z"
    },
    "jupyter": {
     "source_hidden": true
    },
    "papermill": {
     "duration": 3.742099,
     "end_time": "2020-12-10T10:13:06.296521",
     "exception": false,
     "start_time": "2020-12-10T10:13:02.554422",
     "status": "completed"
    },
    "scrolled": true,
    "tags": [
     "hide-input"
    ]
   },
   "outputs": [],
   "source": [
    "import pandas as pd\n",
    "import matplotlib.pyplot as plt\n",
    "from matplotlib import dates\n",
    "from IPython.display import display, Markdown\n",
    "%matplotlib inline"
   ]
  },
  {
   "cell_type": "code",
   "execution_count": 2,
   "metadata": {
    "execution": {
     "iopub.execute_input": "2020-12-10T10:13:06.318084Z",
     "iopub.status.busy": "2020-12-10T10:13:06.317535Z",
     "iopub.status.idle": "2020-12-10T10:13:06.926499Z",
     "shell.execute_reply": "2020-12-10T10:13:06.925442Z"
    },
    "jupyter": {
     "source_hidden": true
    },
    "papermill": {
     "duration": 0.622575,
     "end_time": "2020-12-10T10:13:06.926641",
     "exception": false,
     "start_time": "2020-12-10T10:13:06.304066",
     "status": "completed"
    },
    "scrolled": true,
    "tags": [
     "hide-input"
    ]
   },
   "outputs": [],
   "source": [
    "# This is the data for all of Wisconsin.\n",
    "url = \"https://opendata.arcgis.com/datasets/5374188992374b318d3e2305216ee413_12.csv\"\n",
    "data = pd.read_csv(url, parse_dates=['DATE'], low_memory=False)"
   ]
  },
  {
   "cell_type": "code",
   "execution_count": 3,
   "metadata": {
    "execution": {
     "iopub.execute_input": "2020-12-10T10:13:06.946740Z",
     "iopub.status.busy": "2020-12-10T10:13:06.946181Z",
     "iopub.status.idle": "2020-12-10T10:13:06.955288Z",
     "shell.execute_reply": "2020-12-10T10:13:06.954736Z"
    },
    "jupyter": {
     "source_hidden": true
    },
    "papermill": {
     "duration": 0.021588,
     "end_time": "2020-12-10T10:13:06.955406",
     "exception": false,
     "start_time": "2020-12-10T10:13:06.933818",
     "status": "completed"
    },
    "scrolled": true,
    "tags": [
     "hide-input"
    ]
   },
   "outputs": [],
   "source": [
    "dc = data.groupby('NAME').get_group('Dunn').sort_values(by='DATE') # Select the data for Dunn County from the full data.\n",
    "PNi = dc.columns.get_loc(\"POS_NEW\")\n",
    "dc['7_DAY'] = dc.iloc[:,PNi].rolling(window=7).mean() # Calculates the rolling 7-day average of new cases.\n",
    "dc['14_DAY'] = dc.iloc[:,PNi].rolling(window=14).mean() # Calculates the rolling 14-day average of new cases."
   ]
  },
  {
   "cell_type": "code",
   "execution_count": 4,
   "metadata": {
    "execution": {
     "iopub.execute_input": "2020-12-10T10:13:06.975129Z",
     "iopub.status.busy": "2020-12-10T10:13:06.974592Z",
     "iopub.status.idle": "2020-12-10T10:13:06.977273Z",
     "shell.execute_reply": "2020-12-10T10:13:06.977699Z"
    },
    "jupyter": {
     "source_hidden": true
    },
    "papermill": {
     "duration": 0.015605,
     "end_time": "2020-12-10T10:13:06.977832",
     "exception": false,
     "start_time": "2020-12-10T10:13:06.962227",
     "status": "completed"
    },
    "scrolled": true,
    "tags": [
     "hide-input"
    ]
   },
   "outputs": [
    {
     "data": {
      "text/markdown": [
       "### Last updated: December 09, 2020"
      ],
      "text/plain": [
       "<IPython.core.display.Markdown object>"
      ]
     },
     "metadata": {},
     "output_type": "display_data"
    }
   ],
   "source": [
    "display(Markdown('### Last updated: ' + dc.iloc[-1]['DATE'].strftime(\"%B %d, %Y\")))"
   ]
  },
  {
   "cell_type": "code",
   "execution_count": 5,
   "metadata": {
    "execution": {
     "iopub.execute_input": "2020-12-10T10:13:06.997225Z",
     "iopub.status.busy": "2020-12-10T10:13:06.996699Z",
     "iopub.status.idle": "2020-12-10T10:13:07.000891Z",
     "shell.execute_reply": "2020-12-10T10:13:07.000436Z"
    },
    "jupyter": {
     "source_hidden": true
    },
    "papermill": {
     "duration": 0.015783,
     "end_time": "2020-12-10T10:13:07.001003",
     "exception": false,
     "start_time": "2020-12-10T10:13:06.985220",
     "status": "completed"
    },
    "tags": [
     "hide-input"
    ]
   },
   "outputs": [
    {
     "data": {
      "text/markdown": [
       "# Dunn County has 3039 total positive cases, with 27 new cases reported today."
      ],
      "text/plain": [
       "<IPython.core.display.Markdown object>"
      ]
     },
     "metadata": {},
     "output_type": "display_data"
    }
   ],
   "source": [
    "display(Markdown('# Dunn County has ' + str(dc.iloc[-1]['POSITIVE']) + ' total positive cases, with '+ str(int(dc.iloc[-1]['POS_NEW'])) + ' new cases reported today.'))"
   ]
  },
  {
   "cell_type": "code",
   "execution_count": 6,
   "metadata": {
    "execution": {
     "iopub.execute_input": "2020-12-10T10:13:07.021185Z",
     "iopub.status.busy": "2020-12-10T10:13:07.020656Z",
     "iopub.status.idle": "2020-12-10T10:13:07.251783Z",
     "shell.execute_reply": "2020-12-10T10:13:07.252220Z"
    },
    "jupyter": {
     "source_hidden": true
    },
    "papermill": {
     "duration": 0.243732,
     "end_time": "2020-12-10T10:13:07.252377",
     "exception": false,
     "start_time": "2020-12-10T10:13:07.008645",
     "status": "completed"
    },
    "scrolled": false,
    "tags": [
     "hide-input"
    ]
   },
   "outputs": [
    {
     "data": {
      "image/png": "[encoded data removed]",
      "text/plain": [
       "<Figure size 864x432 with 1 Axes>"
      ]
     },
     "metadata": {
      "needs_background": "light"
     },
     "output_type": "display_data"
    }
   ],
   "source": [
    "dc.plot(x='DATE',y='POSITIVE',color='red',grid='True',figsize=(12,6)).set_xlabel('Date');"
   ]
  },
  {
   "cell_type": "markdown",
   "metadata": {
    "papermill": {
     "duration": 0.008913,
     "end_time": "2020-12-10T10:13:07.270111",
     "exception": false,
     "start_time": "2020-12-10T10:13:07.261198",
     "status": "completed"
    },
    "tags": []
   },
   "source": [
    "## Figure 1: Cummulative number of positive cases."
   ]
  },
  {
   "cell_type": "code",
   "execution_count": 7,
   "metadata": {
    "execution": {
     "iopub.execute_input": "2020-12-10T10:13:07.293592Z",
     "iopub.status.busy": "2020-12-10T10:13:07.293060Z",
     "iopub.status.idle": "2020-12-10T10:13:07.511922Z",
     "shell.execute_reply": "2020-12-10T10:13:07.512686Z"
    },
    "jupyter": {
     "source_hidden": true
    },
    "papermill": {
     "duration": 0.234133,
     "end_time": "2020-12-10T10:13:07.512932",
     "exception": false,
     "start_time": "2020-12-10T10:13:07.278799",
     "status": "completed"
    },
    "scrolled": false,
    "tags": [
     "hide-input"
    ]
   },
   "outputs": [
    {
     "data": {
      "image/png": "[encoded data removed]",
      "text/plain": [
       "<Figure size 864x432 with 1 Axes>"
      ]
     },
     "metadata": {
      "needs_background": "light"
     },
     "output_type": "display_data"
    }
   ],
   "source": [
    "dc.plot(kind='line',x='DATE',y='7_DAY',color='blue',grid='True',figsize=(12,6)).set_xlabel('Date');"
   ]
  },
  {
   "cell_type": "markdown",
   "metadata": {
    "papermill": {
     "duration": 0.009841,
     "end_time": "2020-12-10T10:13:07.532957",
     "exception": false,
     "start_time": "2020-12-10T10:13:07.523116",
     "status": "completed"
    },
    "tags": []
   },
   "source": [
    "## Figure 2: Rolling 7-day average of daily new cases."
   ]
  },
  {
   "cell_type": "code",
   "execution_count": 8,
   "metadata": {
    "execution": {
     "iopub.execute_input": "2020-12-10T10:13:07.558040Z",
     "iopub.status.busy": "2020-12-10T10:13:07.557507Z",
     "iopub.status.idle": "2020-12-10T10:13:07.771358Z",
     "shell.execute_reply": "2020-12-10T10:13:07.771798Z"
    },
    "jupyter": {
     "source_hidden": true
    },
    "papermill": {
     "duration": 0.229689,
     "end_time": "2020-12-10T10:13:07.771956",
     "exception": false,
     "start_time": "2020-12-10T10:13:07.542267",
     "status": "completed"
    },
    "tags": []
   },
   "outputs": [
    {
     "data": {
      "image/png": "[encoded data removed]",
      "text/plain": [
       "<Figure size 864x432 with 1 Axes>"
      ]
     },
     "metadata": {
      "needs_background": "light"
     },
     "output_type": "display_data"
    }
   ],
   "source": [
    "dc.plot(kind='line',x='DATE',y='14_DAY',color='green',grid='True',figsize=(12,6)).set_xlabel('Date');"
   ]
  },
  {
   "cell_type": "markdown",
   "metadata": {
    "papermill": {
     "duration": 0.01096,
     "end_time": "2020-12-10T10:13:07.795788",
     "exception": false,
     "start_time": "2020-12-10T10:13:07.784828",
     "status": "completed"
    },
    "tags": []
   },
   "source": [
    "## Figure 3: Rolling 14-day average of daily new cases."
   ]
  },
  {
   "cell_type": "markdown",
   "metadata": {
    "papermill": {
     "duration": 0.010335,
     "end_time": "2020-12-10T10:13:07.816815",
     "exception": false,
     "start_time": "2020-12-10T10:13:07.806480",
     "status": "completed"
    },
    "tags": []
   },
   "source": [
    "Data source: [Wisconsin Department of Health Services](https://data.dhsgis.wi.gov/datasets/covid-19-historical-data-table/)"
   ]
  },
  {
   "cell_type": "code",
   "execution_count": 9,
   "metadata": {
    "execution": {
     "iopub.execute_input": "2020-12-10T10:13:07.842122Z",
     "iopub.status.busy": "2020-12-10T10:13:07.841581Z",
     "iopub.status.idle": "2020-12-10T10:13:07.844701Z",
     "shell.execute_reply": "2020-12-10T10:13:07.844241Z"
    },
    "jupyter": {
     "source_hidden": true
    },
    "papermill": {
     "duration": 0.017831,
     "end_time": "2020-12-10T10:13:07.844815",
     "exception": false,
     "start_time": "2020-12-10T10:13:07.826984",
     "status": "completed"
    },
    "tags": []
   },
   "outputs": [
    {
     "data": {
      "text/html": [
       "<style>\n",
       "div.input {\n",
       "    display:none;\n",
       "}\n",
       "</style>\n"
      ],
      "text/plain": [
       "<IPython.core.display.HTML object>"
      ]
     },
     "metadata": {},
     "output_type": "display_data"
    }
   ],
   "source": [
    "%%html\n",
    "<style>\n",
    "div.input {\n",
    "    display:none;\n",
    "}\n",
    "</style>"
   ]
  }
 ],
 "metadata": {
  "kernelspec": {
   "display_name": "Python 3",
   "language": "python",
   "name": "python3"
  },
  "language_info": {
   "codemirror_mode": {
    "name": "ipython",
    "version": 3
   },
   "file_extension": ".py",
   "mimetype": "text/x-python",
   "name": "python",
   "nbconvert_exporter": "python",
   "pygments_lexer": "ipython3",
   "version": "3.8.6"
  },
  "papermill": {
   "duration": 7.117668,
   "end_time": "2020-12-10T10:13:08.160984",
   "environment_variables": {},
   "exception": null,
   "input_path": "DunnCounty_COVID19.ipynb",
   "output_path": "DunnCounty_COVID19.ipynb",
   "parameters": {
    "Start": "True",
    "secretsPath": "/home/runner/work/_temp/secrets.json"
   },
   "start_time": "2020-12-10T10:13:01.043316",
   "version": "1.1.16"
  }
 },
 "nbformat": 4,
 "nbformat_minor": 2
}