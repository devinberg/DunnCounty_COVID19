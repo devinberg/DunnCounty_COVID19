{
 "cells": [
  {
   "cell_type": "code",
   "execution_count": 1,
   "id": "solar-understanding",
   "metadata": {
    "execution": {
     "iopub.execute_input": "2021-03-05T10:13:16.308401Z",
     "iopub.status.busy": "2021-03-05T10:13:16.307842Z",
     "iopub.status.idle": "2021-03-05T10:13:18.212961Z",
     "shell.execute_reply": "2021-03-05T10:13:18.212373Z"
    },
    "jupyter": {
     "source_hidden": true
    },
    "papermill": {
     "duration": 1.929016,
     "end_time": "2021-03-05T10:13:18.213105",
     "exception": false,
     "start_time": "2021-03-05T10:13:16.284089",
     "status": "completed"
    },
    "scrolled": true,
    "tags": [
     "hide-input"
    ]
   },
   "outputs": [],
   "source": [
    "import pandas as pd\n",
    "import matplotlib.pyplot as plt\n",
    "from matplotlib import dates\n",
    "from IPython.display import display, Markdown\n",
    "%matplotlib inline"
   ]
  },
  {
   "cell_type": "code",
   "execution_count": 2,
   "id": "purple-playlist",
   "metadata": {
    "execution": {
     "iopub.execute_input": "2021-03-05T10:13:18.237305Z",
     "iopub.status.busy": "2021-03-05T10:13:18.236478Z",
     "iopub.status.idle": "2021-03-05T10:13:18.933013Z",
     "shell.execute_reply": "2021-03-05T10:13:18.932119Z"
    },
    "jupyter": {
     "source_hidden": true
    },
    "papermill": {
     "duration": 0.71073,
     "end_time": "2021-03-05T10:13:18.933212",
     "exception": false,
     "start_time": "2021-03-05T10:13:18.222482",
     "status": "completed"
    },
    "scrolled": true,
    "tags": [
     "hide-input"
    ]
   },
   "outputs": [],
   "source": [
    "# This is the data for all of Wisconsin.\n",
    "url = \"https://opendata.arcgis.com/datasets/5374188992374b318d3e2305216ee413_12.csv\"\n",
    "data = pd.read_csv(url, parse_dates=['DATE'], low_memory=False)"
   ]
  },
  {
   "cell_type": "code",
   "execution_count": 3,
   "id": "proprietary-klein",
   "metadata": {
    "execution": {
     "iopub.execute_input": "2021-03-05T10:13:18.959432Z",
     "iopub.status.busy": "2021-03-05T10:13:18.958854Z",
     "iopub.status.idle": "2021-03-05T10:13:18.967419Z",
     "shell.execute_reply": "2021-03-05T10:13:18.966890Z"
    },
    "jupyter": {
     "source_hidden": true
    },
    "papermill": {
     "duration": 0.023854,
     "end_time": "2021-03-05T10:13:18.967543",
     "exception": false,
     "start_time": "2021-03-05T10:13:18.943689",
     "status": "completed"
    },
    "scrolled": true,
    "tags": [
     "hide-input"
    ]
   },
   "outputs": [],
   "source": [
    "dc = data.groupby('NAME').get_group('Dunn').sort_values(by='DATE') # Select the data for Dunn County from the full data.\n",
    "PNi = dc.columns.get_loc(\"POS_NEW\")\n",
    "dc['7_DAY'] = dc.iloc[:,PNi].rolling(window=7).mean() # Calculates the rolling 7-day average of new cases.\n",
    "dc['14_DAY'] = dc.iloc[:,PNi].rolling(window=14).mean() # Calculates the rolling 14-day average of new cases."
   ]
  },
  {
   "cell_type": "code",
   "execution_count": 4,
   "id": "steady-supervision",
   "metadata": {
    "execution": {
     "iopub.execute_input": "2021-03-05T10:13:18.994271Z",
     "iopub.status.busy": "2021-03-05T10:13:18.993538Z",
     "iopub.status.idle": "2021-03-05T10:13:18.996072Z",
     "shell.execute_reply": "2021-03-05T10:13:18.996497Z"
    },
    "jupyter": {
     "source_hidden": true
    },
    "papermill": {
     "duration": 0.020056,
     "end_time": "2021-03-05T10:13:18.996634",
     "exception": false,
     "start_time": "2021-03-05T10:13:18.976578",
     "status": "completed"
    },
    "scrolled": true,
    "tags": [
     "hide-input"
    ]
   },
   "outputs": [
    {
     "data": {
      "text/markdown": [
       "### Last updated: March 04, 2021"
      ],
      "text/plain": [
       "<IPython.core.display.Markdown object>"
      ]
     },
     "metadata": {},
     "output_type": "display_data"
    }
   ],
   "source": [
    "display(Markdown('### Last updated: ' + dc.iloc[-1]['DATE'].strftime(\"%B %d, %Y\")))"
   ]
  },
  {
   "cell_type": "code",
   "execution_count": 5,
   "id": "lonely-pitch",
   "metadata": {
    "execution": {
     "iopub.execute_input": "2021-03-05T10:13:19.021320Z",
     "iopub.status.busy": "2021-03-05T10:13:19.020790Z",
     "iopub.status.idle": "2021-03-05T10:13:19.024863Z",
     "shell.execute_reply": "2021-03-05T10:13:19.024423Z"
    },
    "jupyter": {
     "source_hidden": true
    },
    "papermill": {
     "duration": 0.018941,
     "end_time": "2021-03-05T10:13:19.024980",
     "exception": false,
     "start_time": "2021-03-05T10:13:19.006039",
     "status": "completed"
    },
    "tags": [
     "hide-input"
    ]
   },
   "outputs": [
    {
     "data": {
      "text/markdown": [
       "# Dunn County has 4283 total positive cases, with 7 new cases reported today."
      ],
      "text/plain": [
       "<IPython.core.display.Markdown object>"
      ]
     },
     "metadata": {},
     "output_type": "display_data"
    }
   ],
   "source": [
    "display(Markdown('# Dunn County has ' + str(dc.iloc[-1]['POSITIVE']) + ' total positive cases, with '+ str(int(dc.iloc[-1]['POS_NEW'])) + ' new cases reported today.'))"
   ]
  },
  {
   "cell_type": "code",
   "execution_count": 6,
   "id": "compound-nightmare",
   "metadata": {
    "execution": {
     "iopub.execute_input": "2021-03-05T10:13:19.048373Z",
     "iopub.status.busy": "2021-03-05T10:13:19.047840Z",
     "iopub.status.idle": "2021-03-05T10:13:19.342309Z",
     "shell.execute_reply": "2021-03-05T10:13:19.342744Z"
    },
    "jupyter": {
     "source_hidden": true
    },
    "papermill": {
     "duration": 0.308252,
     "end_time": "2021-03-05T10:13:19.342897",
     "exception": false,
     "start_time": "2021-03-05T10:13:19.034645",
     "status": "completed"
    },
    "scrolled": false,
    "tags": [
     "hide-input"
    ]
   },
   "outputs": [
    {
     "data": {
      "image/png": "[encoded data removed]",
      "text/plain": [
       "<Figure size 864x432 with 1 Axes>"
      ]
     },
     "metadata": {
      "needs_background": "light"
     },
     "output_type": "display_data"
    }
   ],
   "source": [
    "dc.plot(x='DATE',y='POSITIVE',color='red',grid='True',figsize=(12,6)).set_xlabel('Date');"
   ]
  },
  {
   "cell_type": "markdown",
   "id": "coupled-literacy",
   "metadata": {
    "papermill": {
     "duration": 0.011007,
     "end_time": "2021-03-05T10:13:19.364722",
     "exception": false,
     "start_time": "2021-03-05T10:13:19.353715",
     "status": "completed"
    },
    "tags": []
   },
   "source": [
    "## Figure 1: Cummulative number of positive cases."
   ]
  },
  {
   "cell_type": "code",
   "execution_count": 7,
   "id": "surrounded-reserve",
   "metadata": {
    "execution": {
     "iopub.execute_input": "2021-03-05T10:13:19.418144Z",
     "iopub.status.busy": "2021-03-05T10:13:19.413194Z",
     "iopub.status.idle": "2021-03-05T10:13:19.598382Z",
     "shell.execute_reply": "2021-03-05T10:13:19.599063Z"
    },
    "jupyter": {
     "source_hidden": true
    },
    "papermill": {
     "duration": 0.224075,
     "end_time": "2021-03-05T10:13:19.599276",
     "exception": false,
     "start_time": "2021-03-05T10:13:19.375201",
     "status": "completed"
    },
    "scrolled": false,
    "tags": [
     "hide-input"
    ]
   },
   "outputs": [
    {
     "data": {
      "image/png": "[encoded data removed]",
      "text/plain": [
       "<Figure size 864x432 with 1 Axes>"
      ]
     },
     "metadata": {
      "needs_background": "light"
     },
     "output_type": "display_data"
    }
   ],
   "source": [
    "dc.plot(kind='line',x='DATE',y='7_DAY',color='blue',grid='True',figsize=(12,6)).set_xlabel('Date');"
   ]
  },
  {
   "cell_type": "markdown",
   "id": "professional-savannah",
   "metadata": {
    "papermill": {
     "duration": 0.011967,
     "end_time": "2021-03-05T10:13:19.625073",
     "exception": false,
     "start_time": "2021-03-05T10:13:19.613106",
     "status": "completed"
    },
    "tags": []
   },
   "source": [
    "## Figure 2: Rolling 7-day average of daily new cases."
   ]
  },
  {
   "cell_type": "code",
   "execution_count": 8,
   "id": "stretch-investor",
   "metadata": {
    "execution": {
     "iopub.execute_input": "2021-03-05T10:13:19.653731Z",
     "iopub.status.busy": "2021-03-05T10:13:19.653188Z",
     "iopub.status.idle": "2021-03-05T10:13:19.854602Z",
     "shell.execute_reply": "2021-03-05T10:13:19.855040Z"
    },
    "jupyter": {
     "source_hidden": true
    },
    "papermill": {
     "duration": 0.218467,
     "end_time": "2021-03-05T10:13:19.855200",
     "exception": false,
     "start_time": "2021-03-05T10:13:19.636733",
     "status": "completed"
    },
    "tags": []
   },
   "outputs": [
    {
     "data": {
      "image/png": "[encoded data removed]",
      "text/plain": [
       "<Figure size 864x432 with 1 Axes>"
      ]
     },
     "metadata": {
      "needs_background": "light"
     },
     "output_type": "display_data"
    }
   ],
   "source": [
    "dc.plot(kind='line',x='DATE',y='14_DAY',color='green',grid='True',figsize=(12,6)).set_xlabel('Date');"
   ]
  },
  {
   "cell_type": "markdown",
   "id": "prerequisite-species",
   "metadata": {
    "papermill": {
     "duration": 0.013387,
     "end_time": "2021-03-05T10:13:19.882335",
     "exception": false,
     "start_time": "2021-03-05T10:13:19.868948",
     "status": "completed"
    },
    "tags": []
   },
   "source": [
    "## Figure 3: Rolling 14-day average of daily new cases."
   ]
  },
  {
   "cell_type": "markdown",
   "id": "palestinian-guard",
   "metadata": {
    "papermill": {
     "duration": 0.012602,
     "end_time": "2021-03-05T10:13:19.907793",
     "exception": false,
     "start_time": "2021-03-05T10:13:19.895191",
     "status": "completed"
    },
    "tags": []
   },
   "source": [
    "Data source: [Wisconsin Department of Health Services](https://data.dhsgis.wi.gov/datasets/covid-19-historical-data-table/)"
   ]
  },
  {
   "cell_type": "code",
   "execution_count": 9,
   "id": "proof-medicare",
   "metadata": {
    "execution": {
     "iopub.execute_input": "2021-03-05T10:13:19.941824Z",
     "iopub.status.busy": "2021-03-05T10:13:19.941294Z",
     "iopub.status.idle": "2021-03-05T10:13:19.944525Z",
     "shell.execute_reply": "2021-03-05T10:13:19.944984Z"
    },
    "jupyter": {
     "source_hidden": true
    },
    "papermill": {
     "duration": 0.024487,
     "end_time": "2021-03-05T10:13:19.945125",
     "exception": false,
     "start_time": "2021-03-05T10:13:19.920638",
     "status": "completed"
    },
    "tags": []
   },
   "outputs": [
    {
     "data": {
      "text/html": [
       "<style>\n",
       "div.input {\n",
       "    display:none;\n",
       "}\n",
       "</style>\n"
      ],
      "text/plain": [
       "<IPython.core.display.HTML object>"
      ]
     },
     "metadata": {},
     "output_type": "display_data"
    }
   ],
   "source": [
    "%%html\n",
    "<style>\n",
    "div.input {\n",
    "    display:none;\n",
    "}\n",
    "</style>"
   ]
  }
 ],
 "metadata": {
  "kernelspec": {
   "display_name": "Python 3",
   "language": "python",
   "name": "python3"
  },
  "language_info": {
   "codemirror_mode": {
    "name": "ipython",
    "version": 3
   },
   "file_extension": ".py",
   "mimetype": "text/x-python",
   "name": "python",
   "nbconvert_exporter": "python",
   "pygments_lexer": "ipython3",
   "version": "3.8.8"
  },
  "papermill": {
   "duration": 5.611318,
   "end_time": "2021-03-05T10:13:20.264956",
   "environment_variables": {},
   "exception": null,
   "input_path": "DunnCounty_COVID19.ipynb",
   "output_path": "DunnCounty_COVID19.ipynb",
   "parameters": {
    "Start": "True",
    "secretsPath": "/home/runner/work/_temp/secrets.json"
   },
   "start_time": "2021-03-05T10:13:14.653638",
   "version": "1.1.16"
  }
 },
 "nbformat": 4,
 "nbformat_minor": 5
}