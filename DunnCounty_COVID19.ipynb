{
 "cells": [
  {
   "cell_type": "code",
   "execution_count": 1,
   "metadata": {
    "execution": {
     "iopub.execute_input": "2020-11-12T22:09:35.664516Z",
     "iopub.status.busy": "2020-11-12T22:09:35.663942Z",
     "iopub.status.idle": "2020-11-12T22:09:36.762488Z",
     "shell.execute_reply": "2020-11-12T22:09:36.761762Z"
    },
    "jupyter": {
     "source_hidden": true
    },
    "papermill": {
     "duration": 1.114073,
     "end_time": "2020-11-12T22:09:36.762722",
     "exception": false,
     "start_time": "2020-11-12T22:09:35.648649",
     "status": "completed"
    },
    "scrolled": true,
    "tags": [
     "hide-input"
    ]
   },
   "outputs": [],
   "source": [
    "import pandas as pd\n",
    "import matplotlib.pyplot as plt\n",
    "from matplotlib import dates\n",
    "from IPython.display import display, Markdown\n",
    "%matplotlib inline"
   ]
  },
  {
   "cell_type": "code",
   "execution_count": 2,
   "metadata": {
    "execution": {
     "iopub.execute_input": "2020-11-12T22:09:36.784697Z",
     "iopub.status.busy": "2020-11-12T22:09:36.784102Z",
     "iopub.status.idle": "2020-11-12T22:09:37.320188Z",
     "shell.execute_reply": "2020-11-12T22:09:37.319498Z"
    },
    "jupyter": {
     "source_hidden": true
    },
    "papermill": {
     "duration": 0.550036,
     "end_time": "2020-11-12T22:09:37.320338",
     "exception": false,
     "start_time": "2020-11-12T22:09:36.770302",
     "status": "completed"
    },
    "scrolled": true,
    "tags": [
     "hide-input"
    ]
   },
   "outputs": [],
   "source": [
    "# This is the data for all of Wisconsin.\n",
    "url = \"https://opendata.arcgis.com/datasets/5374188992374b318d3e2305216ee413_12.csv\"\n",
    "data = pd.read_csv(url, parse_dates=['DATE'], low_memory=False)"
   ]
  },
  {
   "cell_type": "code",
   "execution_count": 3,
   "metadata": {
    "execution": {
     "iopub.execute_input": "2020-11-12T22:09:37.342761Z",
     "iopub.status.busy": "2020-11-12T22:09:37.342198Z",
     "iopub.status.idle": "2020-11-12T22:09:37.351707Z",
     "shell.execute_reply": "2020-11-12T22:09:37.350961Z"
    },
    "jupyter": {
     "source_hidden": true
    },
    "papermill": {
     "duration": 0.021719,
     "end_time": "2020-11-12T22:09:37.351895",
     "exception": false,
     "start_time": "2020-11-12T22:09:37.330176",
     "status": "completed"
    },
    "scrolled": true,
    "tags": [
     "hide-input"
    ]
   },
   "outputs": [],
   "source": [
    "dc = data.groupby('NAME').get_group('Dunn').sort_values(by='DATE') # Select the data for Dunn County from the full data.\n",
    "PNi = dc.columns.get_loc(\"POS_NEW\")\n",
    "dc['7_DAY'] = dc.iloc[:,PNi].rolling(window=7).mean() # Calculates the rolling 7-day average of new cases.\n",
    "dc['14_DAY'] = dc.iloc[:,PNi].rolling(window=14).mean() # Calculates the rolling 14-day average of new cases."
   ]
  },
  {
   "cell_type": "code",
   "execution_count": 4,
   "metadata": {
    "execution": {
     "iopub.execute_input": "2020-11-12T22:09:37.372606Z",
     "iopub.status.busy": "2020-11-12T22:09:37.371916Z",
     "iopub.status.idle": "2020-11-12T22:09:37.374758Z",
     "shell.execute_reply": "2020-11-12T22:09:37.375217Z"
    },
    "jupyter": {
     "source_hidden": true
    },
    "papermill": {
     "duration": 0.016234,
     "end_time": "2020-11-12T22:09:37.375380",
     "exception": false,
     "start_time": "2020-11-12T22:09:37.359146",
     "status": "completed"
    },
    "scrolled": true,
    "tags": [
     "hide-input"
    ]
   },
   "outputs": [
    {
     "data": {
      "text/markdown": [
       "### Last updated: November 12, 2020"
      ],
      "text/plain": [
       "<IPython.core.display.Markdown object>"
      ]
     },
     "metadata": {},
     "output_type": "display_data"
    }
   ],
   "source": [
    "display(Markdown('### Last updated: ' + dc.iloc[-1]['DATE'].strftime(\"%B %d, %Y\")))"
   ]
  },
  {
   "cell_type": "code",
   "execution_count": 5,
   "metadata": {
    "execution": {
     "iopub.execute_input": "2020-11-12T22:09:37.396099Z",
     "iopub.status.busy": "2020-11-12T22:09:37.395523Z",
     "iopub.status.idle": "2020-11-12T22:09:37.399360Z",
     "shell.execute_reply": "2020-11-12T22:09:37.398664Z"
    },
    "jupyter": {
     "source_hidden": true
    },
    "papermill": {
     "duration": 0.016353,
     "end_time": "2020-11-12T22:09:37.399465",
     "exception": false,
     "start_time": "2020-11-12T22:09:37.383112",
     "status": "completed"
    },
    "tags": [
     "hide-input"
    ]
   },
   "outputs": [
    {
     "data": {
      "text/markdown": [
       "# Dunn County has 1768 total positive cases, with 33 new cases reported today."
      ],
      "text/plain": [
       "<IPython.core.display.Markdown object>"
      ]
     },
     "metadata": {},
     "output_type": "display_data"
    }
   ],
   "source": [
    "display(Markdown('# Dunn County has ' + str(dc.iloc[-1]['POSITIVE']) + ' total positive cases, with '+ str(int(dc.iloc[-1]['POS_NEW'])) + ' new cases reported today.'))"
   ]
  },
  {
   "cell_type": "code",
   "execution_count": 6,
   "metadata": {
    "execution": {
     "iopub.execute_input": "2020-11-12T22:09:37.418968Z",
     "iopub.status.busy": "2020-11-12T22:09:37.418342Z",
     "iopub.status.idle": "2020-11-12T22:09:37.688890Z",
     "shell.execute_reply": "2020-11-12T22:09:37.689325Z"
    },
    "jupyter": {
     "source_hidden": true
    },
    "papermill": {
     "duration": 0.282223,
     "end_time": "2020-11-12T22:09:37.689480",
     "exception": false,
     "start_time": "2020-11-12T22:09:37.407257",
     "status": "completed"
    },
    "scrolled": false,
    "tags": [
     "hide-input"
    ]
   },
   "outputs": [
    {
     "data": {
      "image/png": "[encoded data removed]",
      "text/plain": [
       "<Figure size 864x432 with 1 Axes>"
      ]
     },
     "metadata": {
      "needs_background": "light"
     },
     "output_type": "display_data"
    }
   ],
   "source": [
    "dc.plot(x='DATE',y='POSITIVE',color='red',grid='True',figsize=(12,6)).set_xlabel('Date');"
   ]
  },
  {
   "cell_type": "markdown",
   "metadata": {
    "papermill": {
     "duration": 0.0096,
     "end_time": "2020-11-12T22:09:37.708748",
     "exception": false,
     "start_time": "2020-11-12T22:09:37.699148",
     "status": "completed"
    },
    "tags": []
   },
   "source": [
    "## Figure 1: Cummulative number of positive cases."
   ]
  },
  {
   "cell_type": "code",
   "execution_count": 7,
   "metadata": {
    "execution": {
     "iopub.execute_input": "2020-11-12T22:09:37.733820Z",
     "iopub.status.busy": "2020-11-12T22:09:37.733227Z",
     "iopub.status.idle": "2020-11-12T22:09:37.952496Z",
     "shell.execute_reply": "2020-11-12T22:09:37.952960Z"
    },
    "jupyter": {
     "source_hidden": true
    },
    "papermill": {
     "duration": 0.233563,
     "end_time": "2020-11-12T22:09:37.953112",
     "exception": false,
     "start_time": "2020-11-12T22:09:37.719549",
     "status": "completed"
    },
    "scrolled": false,
    "tags": [
     "hide-input"
    ]
   },
   "outputs": [
    {
     "data": {
      "image/png": "[encoded data removed]",
      "text/plain": [
       "<Figure size 864x432 with 1 Axes>"
      ]
     },
     "metadata": {
      "needs_background": "light"
     },
     "output_type": "display_data"
    }
   ],
   "source": [
    "dc.plot(kind='line',x='DATE',y='7_DAY',color='blue',grid='True',figsize=(12,6)).set_xlabel('Date');"
   ]
  },
  {
   "cell_type": "markdown",
   "metadata": {
    "papermill": {
     "duration": 0.009177,
     "end_time": "2020-11-12T22:09:37.971667",
     "exception": false,
     "start_time": "2020-11-12T22:09:37.962490",
     "status": "completed"
    },
    "tags": []
   },
   "source": [
    "## Figure 2: Rolling 7-day average of daily new cases."
   ]
  },
  {
   "cell_type": "code",
   "execution_count": 8,
   "metadata": {
    "execution": {
     "iopub.execute_input": "2020-11-12T22:09:38.009784Z",
     "iopub.status.busy": "2020-11-12T22:09:38.003327Z",
     "iopub.status.idle": "2020-11-12T22:09:38.206804Z",
     "shell.execute_reply": "2020-11-12T22:09:38.207226Z"
    },
    "jupyter": {
     "source_hidden": true
    },
    "papermill": {
     "duration": 0.226657,
     "end_time": "2020-11-12T22:09:38.207388",
     "exception": false,
     "start_time": "2020-11-12T22:09:37.980731",
     "status": "completed"
    },
    "tags": []
   },
   "outputs": [
    {
     "data": {
      "image/png": "[encoded data removed]",
      "text/plain": [
       "<Figure size 864x432 with 1 Axes>"
      ]
     },
     "metadata": {
      "needs_background": "light"
     },
     "output_type": "display_data"
    }
   ],
   "source": [
    "dc.plot(kind='line',x='DATE',y='14_DAY',color='green',grid='True',figsize=(12,6)).set_xlabel('Date');"
   ]
  },
  {
   "cell_type": "markdown",
   "metadata": {
    "papermill": {
     "duration": 0.010551,
     "end_time": "2020-11-12T22:09:38.228597",
     "exception": false,
     "start_time": "2020-11-12T22:09:38.218046",
     "status": "completed"
    },
    "tags": []
   },
   "source": [
    "## Figure 3: Rolling 14-day average of daily new cases."
   ]
  },
  {
   "cell_type": "markdown",
   "metadata": {
    "papermill": {
     "duration": 0.010347,
     "end_time": "2020-11-12T22:09:38.249055",
     "exception": false,
     "start_time": "2020-11-12T22:09:38.238708",
     "status": "completed"
    },
    "tags": []
   },
   "source": [
    "Data source: [Wisconsin Department of Health Services](https://data.dhsgis.wi.gov/datasets/covid-19-historical-data-table/)"
   ]
  },
  {
   "cell_type": "code",
   "execution_count": 9,
   "metadata": {
    "execution": {
     "iopub.execute_input": "2020-11-12T22:09:38.274698Z",
     "iopub.status.busy": "2020-11-12T22:09:38.274059Z",
     "iopub.status.idle": "2020-11-12T22:09:38.277492Z",
     "shell.execute_reply": "2020-11-12T22:09:38.277041Z"
    },
    "jupyter": {
     "source_hidden": true
    },
    "papermill": {
     "duration": 0.017619,
     "end_time": "2020-11-12T22:09:38.277602",
     "exception": false,
     "start_time": "2020-11-12T22:09:38.259983",
     "status": "completed"
    },
    "tags": []
   },
   "outputs": [
    {
     "data": {
      "text/html": [
       "<style>\n",
       "div.input {\n",
       "    display:none;\n",
       "}\n",
       "</style>\n"
      ],
      "text/plain": [
       "<IPython.core.display.HTML object>"
      ]
     },
     "metadata": {},
     "output_type": "display_data"
    }
   ],
   "source": [
    "%%html\n",
    "<style>\n",
    "div.input {\n",
    "    display:none;\n",
    "}\n",
    "</style>"
   ]
  }
 ],
 "metadata": {
  "kernelspec": {
   "display_name": "Python 3",
   "language": "python",
   "name": "python3"
  },
  "language_info": {
   "codemirror_mode": {
    "name": "ipython",
    "version": 3
   },
   "file_extension": ".py",
   "mimetype": "text/x-python",
   "name": "python",
   "nbconvert_exporter": "python",
   "pygments_lexer": "ipython3",
   "version": "3.8.6"
  },
  "papermill": {
   "duration": 4.105644,
   "end_time": "2020-11-12T22:09:38.595863",
   "environment_variables": {},
   "exception": null,
   "input_path": "DunnCounty_COVID19.ipynb",
   "output_path": "DunnCounty_COVID19.ipynb",
   "parameters": {
    "Start": "True",
    "secretsPath": "/home/runner/work/_temp/secrets.json"
   },
   "start_time": "2020-11-12T22:09:34.490219",
   "version": "1.1.16"
  }
 },
 "nbformat": 4,
 "nbformat_minor": 2
}