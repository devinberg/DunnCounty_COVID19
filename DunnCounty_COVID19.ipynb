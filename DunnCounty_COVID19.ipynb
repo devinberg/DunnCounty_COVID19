{
 "cells": [
  {
   "cell_type": "code",
   "execution_count": 1,
   "id": "solar-understanding",
   "metadata": {
    "execution": {
     "iopub.execute_input": "2021-08-06T10:12:44.219131Z",
     "iopub.status.busy": "2021-08-06T10:12:44.218652Z",
     "iopub.status.idle": "2021-08-06T10:12:44.941617Z",
     "shell.execute_reply": "2021-08-06T10:12:44.941057Z"
    },
    "jupyter": {
     "source_hidden": true
    },
    "papermill": {
     "duration": 0.739875,
     "end_time": "2021-08-06T10:12:44.941761",
     "exception": false,
     "start_time": "2021-08-06T10:12:44.201886",
     "status": "completed"
    },
    "scrolled": true,
    "tags": [
     "hide-input"
    ]
   },
   "outputs": [],
   "source": [
    "import pandas as pd\n",
    "import matplotlib.pyplot as plt\n",
    "from matplotlib import dates\n",
    "from IPython.display import display, Markdown\n",
    "%matplotlib inline"
   ]
  },
  {
   "cell_type": "code",
   "execution_count": 2,
   "id": "purple-playlist",
   "metadata": {
    "execution": {
     "iopub.execute_input": "2021-08-06T10:12:44.963579Z",
     "iopub.status.busy": "2021-08-06T10:12:44.963115Z",
     "iopub.status.idle": "2021-08-06T10:12:46.117467Z",
     "shell.execute_reply": "2021-08-06T10:12:46.116656Z"
    },
    "jupyter": {
     "source_hidden": true
    },
    "papermill": {
     "duration": 1.167195,
     "end_time": "2021-08-06T10:12:46.117597",
     "exception": false,
     "start_time": "2021-08-06T10:12:44.950402",
     "status": "completed"
    },
    "scrolled": true,
    "tags": [
     "hide-input"
    ]
   },
   "outputs": [],
   "source": [
    "# This is the data for all of Wisconsin.\n",
    "url = \"https://opendata.arcgis.com/api/v3/datasets/3161f6e01d8141c6abe85a29ff7f3d3c_12/downloads/data?format=csv&spatialRefId=3857\"\n",
    "data = pd.read_csv(url, parse_dates=['DATE'], low_memory=False)"
   ]
  },
  {
   "cell_type": "code",
   "execution_count": 3,
   "id": "proprietary-klein",
   "metadata": {
    "execution": {
     "iopub.execute_input": "2021-08-06T10:12:46.140071Z",
     "iopub.status.busy": "2021-08-06T10:12:46.139569Z",
     "iopub.status.idle": "2021-08-06T10:12:46.148332Z",
     "shell.execute_reply": "2021-08-06T10:12:46.147933Z"
    },
    "jupyter": {
     "source_hidden": true
    },
    "papermill": {
     "duration": 0.022041,
     "end_time": "2021-08-06T10:12:46.148438",
     "exception": false,
     "start_time": "2021-08-06T10:12:46.126397",
     "status": "completed"
    },
    "scrolled": true,
    "tags": [
     "hide-input"
    ]
   },
   "outputs": [],
   "source": [
    "dc = data.groupby('NAME').get_group('Dunn').sort_values(by='DATE') # Select the data for Dunn County from the full data.\n",
    "PNi = dc.columns.get_loc(\"POS_NEW\")\n",
    "dc['7_DAY'] = dc.iloc[:,PNi].rolling(window=7).mean() # Calculates the rolling 7-day average of new cases.\n",
    "dc['14_DAY'] = dc.iloc[:,PNi].rolling(window=14).mean() # Calculates the rolling 14-day average of new cases."
   ]
  },
  {
   "cell_type": "code",
   "execution_count": 4,
   "id": "steady-supervision",
   "metadata": {
    "execution": {
     "iopub.execute_input": "2021-08-06T10:12:46.170031Z",
     "iopub.status.busy": "2021-08-06T10:12:46.169567Z",
     "iopub.status.idle": "2021-08-06T10:12:46.173113Z",
     "shell.execute_reply": "2021-08-06T10:12:46.173458Z"
    },
    "jupyter": {
     "source_hidden": true
    },
    "papermill": {
     "duration": 0.017508,
     "end_time": "2021-08-06T10:12:46.173581",
     "exception": false,
     "start_time": "2021-08-06T10:12:46.156073",
     "status": "completed"
    },
    "scrolled": true,
    "tags": [
     "hide-input"
    ]
   },
   "outputs": [
    {
     "data": {
      "text/markdown": [
       "### Last updated: August 05, 2021"
      ],
      "text/plain": [
       "<IPython.core.display.Markdown object>"
      ]
     },
     "metadata": {},
     "output_type": "display_data"
    }
   ],
   "source": [
    "display(Markdown('### Last updated: ' + dc.iloc[-1]['DATE'].strftime(\"%B %d, %Y\")))"
   ]
  },
  {
   "cell_type": "code",
   "execution_count": 5,
   "id": "lonely-pitch",
   "metadata": {
    "execution": {
     "iopub.execute_input": "2021-08-06T10:12:46.194326Z",
     "iopub.status.busy": "2021-08-06T10:12:46.193875Z",
     "iopub.status.idle": "2021-08-06T10:12:46.196491Z",
     "shell.execute_reply": "2021-08-06T10:12:46.196119Z"
    },
    "jupyter": {
     "source_hidden": true
    },
    "papermill": {
     "duration": 0.014924,
     "end_time": "2021-08-06T10:12:46.196591",
     "exception": false,
     "start_time": "2021-08-06T10:12:46.181667",
     "status": "completed"
    },
    "tags": [
     "hide-input"
    ]
   },
   "outputs": [
    {
     "data": {
      "text/markdown": [
       "# Dunn County has 4817 total positive cases, with 11 new cases reported today."
      ],
      "text/plain": [
       "<IPython.core.display.Markdown object>"
      ]
     },
     "metadata": {},
     "output_type": "display_data"
    }
   ],
   "source": [
    "display(Markdown('# Dunn County has ' + str(dc.iloc[-1]['POSITIVE']) + ' total positive cases, with '+ str(int(dc.iloc[-1]['POS_NEW'])) + ' new cases reported today.'))"
   ]
  },
  {
   "cell_type": "code",
   "execution_count": 6,
   "id": "compound-nightmare",
   "metadata": {
    "execution": {
     "iopub.execute_input": "2021-08-06T10:12:46.216787Z",
     "iopub.status.busy": "2021-08-06T10:12:46.216332Z",
     "iopub.status.idle": "2021-08-06T10:12:46.530752Z",
     "shell.execute_reply": "2021-08-06T10:12:46.530304Z"
    },
    "jupyter": {
     "source_hidden": true
    },
    "papermill": {
     "duration": 0.325903,
     "end_time": "2021-08-06T10:12:46.530878",
     "exception": false,
     "start_time": "2021-08-06T10:12:46.204975",
     "status": "completed"
    },
    "scrolled": false,
    "tags": [
     "hide-input"
    ]
   },
   "outputs": [
    {
     "data": {
      "image/png": "[encoded data removed]",
      "text/plain": [
       "<Figure size 864x432 with 1 Axes>"
      ]
     },
     "metadata": {
      "needs_background": "light"
     },
     "output_type": "display_data"
    }
   ],
   "source": [
    "dc.plot(x='DATE',y='POSITIVE',color='red',grid='True',figsize=(12,6)).set_xlabel('Date');"
   ]
  },
  {
   "cell_type": "markdown",
   "id": "coupled-literacy",
   "metadata": {
    "papermill": {
     "duration": 0.00956,
     "end_time": "2021-08-06T10:12:46.549891",
     "exception": false,
     "start_time": "2021-08-06T10:12:46.540331",
     "status": "completed"
    },
    "tags": []
   },
   "source": [
    "## Figure 1: Cummulative number of positive cases."
   ]
  },
  {
   "cell_type": "code",
   "execution_count": 7,
   "id": "surrounded-reserve",
   "metadata": {
    "execution": {
     "iopub.execute_input": "2021-08-06T10:12:46.572767Z",
     "iopub.status.busy": "2021-08-06T10:12:46.572296Z",
     "iopub.status.idle": "2021-08-06T10:12:46.761603Z",
     "shell.execute_reply": "2021-08-06T10:12:46.762025Z"
    },
    "jupyter": {
     "source_hidden": true
    },
    "papermill": {
     "duration": 0.203141,
     "end_time": "2021-08-06T10:12:46.762172",
     "exception": false,
     "start_time": "2021-08-06T10:12:46.559031",
     "status": "completed"
    },
    "scrolled": false,
    "tags": [
     "hide-input"
    ]
   },
   "outputs": [
    {
     "data": {
      "image/png": "[encoded data removed]",
      "text/plain": [
       "<Figure size 864x432 with 1 Axes>"
      ]
     },
     "metadata": {
      "needs_background": "light"
     },
     "output_type": "display_data"
    }
   ],
   "source": [
    "dc.plot(kind='line',x='DATE',y='7_DAY',color='blue',grid='True',figsize=(12,6)).set_xlabel('Date');"
   ]
  },
  {
   "cell_type": "markdown",
   "id": "professional-savannah",
   "metadata": {
    "papermill": {
     "duration": 0.010307,
     "end_time": "2021-08-06T10:12:46.783272",
     "exception": false,
     "start_time": "2021-08-06T10:12:46.772965",
     "status": "completed"
    },
    "tags": []
   },
   "source": [
    "## Figure 2: Rolling 7-day average of daily new cases."
   ]
  },
  {
   "cell_type": "code",
   "execution_count": 8,
   "id": "stretch-investor",
   "metadata": {
    "execution": {
     "iopub.execute_input": "2021-08-06T10:12:46.807945Z",
     "iopub.status.busy": "2021-08-06T10:12:46.807396Z",
     "iopub.status.idle": "2021-08-06T10:12:46.989775Z",
     "shell.execute_reply": "2021-08-06T10:12:46.990143Z"
    },
    "jupyter": {
     "source_hidden": true
    },
    "papermill": {
     "duration": 0.196964,
     "end_time": "2021-08-06T10:12:46.990279",
     "exception": false,
     "start_time": "2021-08-06T10:12:46.793315",
     "status": "completed"
    },
    "tags": []
   },
   "outputs": [
    {
     "data": {
      "image/png": "[encoded data removed]",
      "text/plain": [
       "<Figure size 864x432 with 1 Axes>"
      ]
     },
     "metadata": {
      "needs_background": "light"
     },
     "output_type": "display_data"
    }
   ],
   "source": [
    "dc.plot(kind='line',x='DATE',y='14_DAY',color='green',grid='True',figsize=(12,6)).set_xlabel('Date');"
   ]
  },
  {
   "cell_type": "markdown",
   "id": "prerequisite-species",
   "metadata": {
    "papermill": {
     "duration": 0.011327,
     "end_time": "2021-08-06T10:12:47.012813",
     "exception": false,
     "start_time": "2021-08-06T10:12:47.001486",
     "status": "completed"
    },
    "tags": []
   },
   "source": [
    "## Figure 3: Rolling 14-day average of daily new cases."
   ]
  },
  {
   "cell_type": "markdown",
   "id": "palestinian-guard",
   "metadata": {
    "papermill": {
     "duration": 0.011467,
     "end_time": "2021-08-06T10:12:47.036505",
     "exception": false,
     "start_time": "2021-08-06T10:12:47.025038",
     "status": "completed"
    },
    "tags": []
   },
   "source": [
    "Data source: [Wisconsin Department of Health Services](https://data.dhsgis.wi.gov/datasets/wi-dhs::covid-19-historical-data-by-county-1)"
   ]
  },
  {
   "cell_type": "code",
   "execution_count": 9,
   "id": "proof-medicare",
   "metadata": {
    "execution": {
     "iopub.execute_input": "2021-08-06T10:12:47.062825Z",
     "iopub.status.busy": "2021-08-06T10:12:47.062181Z",
     "iopub.status.idle": "2021-08-06T10:12:47.065375Z",
     "shell.execute_reply": "2021-08-06T10:12:47.064889Z"
    },
    "jupyter": {
     "source_hidden": true
    },
    "papermill": {
     "duration": 0.018022,
     "end_time": "2021-08-06T10:12:47.065488",
     "exception": false,
     "start_time": "2021-08-06T10:12:47.047466",
     "status": "completed"
    },
    "tags": []
   },
   "outputs": [
    {
     "data": {
      "text/html": [
       "<style>\n",
       "div.input {\n",
       "    display:none;\n",
       "}\n",
       "</style>\n"
      ],
      "text/plain": [
       "<IPython.core.display.HTML object>"
      ]
     },
     "metadata": {},
     "output_type": "display_data"
    }
   ],
   "source": [
    "%%html\n",
    "<style>\n",
    "div.input {\n",
    "    display:none;\n",
    "}\n",
    "</style>"
   ]
  }
 ],
 "metadata": {
  "kernelspec": {
   "display_name": "Python 3",
   "language": "python",
   "name": "python3"
  },
  "language_info": {
   "codemirror_mode": {
    "name": "ipython",
    "version": 3
   },
   "file_extension": ".py",
   "mimetype": "text/x-python",
   "name": "python",
   "nbconvert_exporter": "python",
   "pygments_lexer": "ipython3",
   "version": "3.8.11"
  },
  "papermill": {
   "duration": 4.240471,
   "end_time": "2021-08-06T10:12:47.284242",
   "environment_variables": {},
   "exception": null,
   "input_path": "DunnCounty_COVID19.ipynb",
   "output_path": "DunnCounty_COVID19.ipynb",
   "parameters": {
    "Start": "True",
    "secretsPath": "/home/runner/work/_temp/secrets.json"
   },
   "start_time": "2021-08-06T10:12:43.043771",
   "version": "1.1.16"
  }
 },
 "nbformat": 4,
 "nbformat_minor": 5
}