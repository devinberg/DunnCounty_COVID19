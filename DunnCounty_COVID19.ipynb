{
 "cells": [
  {
   "cell_type": "code",
   "execution_count": 1,
   "id": "solar-understanding",
   "metadata": {
    "execution": {
     "iopub.execute_input": "2021-04-28T10:16:50.502493Z",
     "iopub.status.busy": "2021-04-28T10:16:50.501467Z",
     "iopub.status.idle": "2021-04-28T10:16:51.407406Z",
     "shell.execute_reply": "2021-04-28T10:16:51.406306Z"
    },
    "jupyter": {
     "source_hidden": true
    },
    "papermill": {
     "duration": 0.928195,
     "end_time": "2021-04-28T10:16:51.407557",
     "exception": false,
     "start_time": "2021-04-28T10:16:50.479362",
     "status": "completed"
    },
    "scrolled": true,
    "tags": [
     "hide-input"
    ]
   },
   "outputs": [],
   "source": [
    "import pandas as pd\n",
    "import matplotlib.pyplot as plt\n",
    "from matplotlib import dates\n",
    "from IPython.display import display, Markdown\n",
    "%matplotlib inline"
   ]
  },
  {
   "cell_type": "code",
   "execution_count": 2,
   "id": "purple-playlist",
   "metadata": {
    "execution": {
     "iopub.execute_input": "2021-04-28T10:16:51.430167Z",
     "iopub.status.busy": "2021-04-28T10:16:51.429634Z",
     "iopub.status.idle": "2021-04-28T10:16:52.490435Z",
     "shell.execute_reply": "2021-04-28T10:16:52.489681Z"
    },
    "jupyter": {
     "source_hidden": true
    },
    "papermill": {
     "duration": 1.074217,
     "end_time": "2021-04-28T10:16:52.490624",
     "exception": false,
     "start_time": "2021-04-28T10:16:51.416407",
     "status": "completed"
    },
    "scrolled": true,
    "tags": [
     "hide-input"
    ]
   },
   "outputs": [],
   "source": [
    "# This is the data for all of Wisconsin.\n",
    "url = \"https://opendata.arcgis.com/datasets/0b7bac0afc464e7783474cb62272d9b8_12.csv\"\n",
    "data = pd.read_csv(url, parse_dates=['DATE'], low_memory=False)"
   ]
  },
  {
   "cell_type": "code",
   "execution_count": 3,
   "id": "proprietary-klein",
   "metadata": {
    "execution": {
     "iopub.execute_input": "2021-04-28T10:16:52.515669Z",
     "iopub.status.busy": "2021-04-28T10:16:52.515164Z",
     "iopub.status.idle": "2021-04-28T10:16:52.524218Z",
     "shell.execute_reply": "2021-04-28T10:16:52.523761Z"
    },
    "jupyter": {
     "source_hidden": true
    },
    "papermill": {
     "duration": 0.022729,
     "end_time": "2021-04-28T10:16:52.524314",
     "exception": false,
     "start_time": "2021-04-28T10:16:52.501585",
     "status": "completed"
    },
    "scrolled": true,
    "tags": [
     "hide-input"
    ]
   },
   "outputs": [],
   "source": [
    "dc = data.groupby('NAME').get_group('Dunn').sort_values(by='DATE') # Select the data for Dunn County from the full data.\n",
    "PNi = dc.columns.get_loc(\"POS_NEW\")\n",
    "dc['7_DAY'] = dc.iloc[:,PNi].rolling(window=7).mean() # Calculates the rolling 7-day average of new cases.\n",
    "dc['14_DAY'] = dc.iloc[:,PNi].rolling(window=14).mean() # Calculates the rolling 14-day average of new cases."
   ]
  },
  {
   "cell_type": "code",
   "execution_count": 4,
   "id": "steady-supervision",
   "metadata": {
    "execution": {
     "iopub.execute_input": "2021-04-28T10:16:52.547269Z",
     "iopub.status.busy": "2021-04-28T10:16:52.546673Z",
     "iopub.status.idle": "2021-04-28T10:16:52.551983Z",
     "shell.execute_reply": "2021-04-28T10:16:52.551546Z"
    },
    "jupyter": {
     "source_hidden": true
    },
    "papermill": {
     "duration": 0.019891,
     "end_time": "2021-04-28T10:16:52.552082",
     "exception": false,
     "start_time": "2021-04-28T10:16:52.532191",
     "status": "completed"
    },
    "scrolled": true,
    "tags": [
     "hide-input"
    ]
   },
   "outputs": [
    {
     "data": {
      "text/markdown": [
       "### Last updated: April 27, 2021"
      ],
      "text/plain": [
       "<IPython.core.display.Markdown object>"
      ]
     },
     "metadata": {},
     "output_type": "display_data"
    }
   ],
   "source": [
    "display(Markdown('### Last updated: ' + dc.iloc[-1]['DATE'].strftime(\"%B %d, %Y\")))"
   ]
  },
  {
   "cell_type": "code",
   "execution_count": 5,
   "id": "lonely-pitch",
   "metadata": {
    "execution": {
     "iopub.execute_input": "2021-04-28T10:16:52.575532Z",
     "iopub.status.busy": "2021-04-28T10:16:52.574805Z",
     "iopub.status.idle": "2021-04-28T10:16:52.579516Z",
     "shell.execute_reply": "2021-04-28T10:16:52.579062Z"
    },
    "jupyter": {
     "source_hidden": true
    },
    "papermill": {
     "duration": 0.018667,
     "end_time": "2021-04-28T10:16:52.579625",
     "exception": false,
     "start_time": "2021-04-28T10:16:52.560958",
     "status": "completed"
    },
    "tags": [
     "hide-input"
    ]
   },
   "outputs": [
    {
     "data": {
      "text/markdown": [
       "# Dunn County has 4601 total positive cases, with 7 new cases reported today."
      ],
      "text/plain": [
       "<IPython.core.display.Markdown object>"
      ]
     },
     "metadata": {},
     "output_type": "display_data"
    }
   ],
   "source": [
    "display(Markdown('# Dunn County has ' + str(dc.iloc[-1]['POSITIVE']) + ' total positive cases, with '+ str(int(dc.iloc[-1]['POS_NEW'])) + ' new cases reported today.'))"
   ]
  },
  {
   "cell_type": "code",
   "execution_count": 6,
   "id": "compound-nightmare",
   "metadata": {
    "execution": {
     "iopub.execute_input": "2021-04-28T10:16:52.599929Z",
     "iopub.status.busy": "2021-04-28T10:16:52.599441Z",
     "iopub.status.idle": "2021-04-28T10:16:52.831234Z",
     "shell.execute_reply": "2021-04-28T10:16:52.831708Z"
    },
    "jupyter": {
     "source_hidden": true
    },
    "papermill": {
     "duration": 0.244091,
     "end_time": "2021-04-28T10:16:52.831873",
     "exception": false,
     "start_time": "2021-04-28T10:16:52.587782",
     "status": "completed"
    },
    "scrolled": false,
    "tags": [
     "hide-input"
    ]
   },
   "outputs": [
    {
     "data": {
      "image/png": "[encoded data removed]",
      "text/plain": [
       "<Figure size 864x432 with 1 Axes>"
      ]
     },
     "metadata": {
      "needs_background": "light"
     },
     "output_type": "display_data"
    }
   ],
   "source": [
    "dc.plot(x='DATE',y='POSITIVE',color='red',grid='True',figsize=(12,6)).set_xlabel('Date');"
   ]
  },
  {
   "cell_type": "markdown",
   "id": "coupled-literacy",
   "metadata": {
    "papermill": {
     "duration": 0.010438,
     "end_time": "2021-04-28T10:16:52.853429",
     "exception": false,
     "start_time": "2021-04-28T10:16:52.842991",
     "status": "completed"
    },
    "tags": []
   },
   "source": [
    "## Figure 1: Cummulative number of positive cases."
   ]
  },
  {
   "cell_type": "code",
   "execution_count": 7,
   "id": "surrounded-reserve",
   "metadata": {
    "execution": {
     "iopub.execute_input": "2021-04-28T10:16:52.877133Z",
     "iopub.status.busy": "2021-04-28T10:16:52.876579Z",
     "iopub.status.idle": "2021-04-28T10:16:53.049168Z",
     "shell.execute_reply": "2021-04-28T10:16:53.048615Z"
    },
    "jupyter": {
     "source_hidden": true
    },
    "papermill": {
     "duration": 0.186186,
     "end_time": "2021-04-28T10:16:53.049282",
     "exception": false,
     "start_time": "2021-04-28T10:16:52.863096",
     "status": "completed"
    },
    "scrolled": false,
    "tags": [
     "hide-input"
    ]
   },
   "outputs": [
    {
     "data": {
      "image/png": "[encoded data removed]",
      "text/plain": [
       "<Figure size 864x432 with 1 Axes>"
      ]
     },
     "metadata": {
      "needs_background": "light"
     },
     "output_type": "display_data"
    }
   ],
   "source": [
    "dc.plot(kind='line',x='DATE',y='7_DAY',color='blue',grid='True',figsize=(12,6)).set_xlabel('Date');"
   ]
  },
  {
   "cell_type": "markdown",
   "id": "professional-savannah",
   "metadata": {
    "papermill": {
     "duration": 0.011176,
     "end_time": "2021-04-28T10:16:53.071413",
     "exception": false,
     "start_time": "2021-04-28T10:16:53.060237",
     "status": "completed"
    },
    "tags": []
   },
   "source": [
    "## Figure 2: Rolling 7-day average of daily new cases."
   ]
  },
  {
   "cell_type": "code",
   "execution_count": 8,
   "id": "stretch-investor",
   "metadata": {
    "execution": {
     "iopub.execute_input": "2021-04-28T10:16:53.097727Z",
     "iopub.status.busy": "2021-04-28T10:16:53.097203Z",
     "iopub.status.idle": "2021-04-28T10:16:53.271629Z",
     "shell.execute_reply": "2021-04-28T10:16:53.272020Z"
    },
    "jupyter": {
     "source_hidden": true
    },
    "papermill": {
     "duration": 0.1901,
     "end_time": "2021-04-28T10:16:53.272165",
     "exception": false,
     "start_time": "2021-04-28T10:16:53.082065",
     "status": "completed"
    },
    "tags": []
   },
   "outputs": [
    {
     "data": {
      "image/png": "[encoded data removed]",
      "text/plain": [
       "<Figure size 864x432 with 1 Axes>"
      ]
     },
     "metadata": {
      "needs_background": "light"
     },
     "output_type": "display_data"
    }
   ],
   "source": [
    "dc.plot(kind='line',x='DATE',y='14_DAY',color='green',grid='True',figsize=(12,6)).set_xlabel('Date');"
   ]
  },
  {
   "cell_type": "markdown",
   "id": "prerequisite-species",
   "metadata": {
    "papermill": {
     "duration": 0.011972,
     "end_time": "2021-04-28T10:16:53.295534",
     "exception": false,
     "start_time": "2021-04-28T10:16:53.283562",
     "status": "completed"
    },
    "tags": []
   },
   "source": [
    "## Figure 3: Rolling 14-day average of daily new cases."
   ]
  },
  {
   "cell_type": "markdown",
   "id": "palestinian-guard",
   "metadata": {
    "papermill": {
     "duration": 0.011692,
     "end_time": "2021-04-28T10:16:53.318361",
     "exception": false,
     "start_time": "2021-04-28T10:16:53.306669",
     "status": "completed"
    },
    "tags": []
   },
   "source": [
    "Data source: [Wisconsin Department of Health Services](https://data.dhsgis.wi.gov/datasets/covid-19-historical-data-by-county)"
   ]
  },
  {
   "cell_type": "code",
   "execution_count": 9,
   "id": "proof-medicare",
   "metadata": {
    "execution": {
     "iopub.execute_input": "2021-04-28T10:16:53.345534Z",
     "iopub.status.busy": "2021-04-28T10:16:53.345019Z",
     "iopub.status.idle": "2021-04-28T10:16:53.348391Z",
     "shell.execute_reply": "2021-04-28T10:16:53.348797Z"
    },
    "jupyter": {
     "source_hidden": true
    },
    "papermill": {
     "duration": 0.020327,
     "end_time": "2021-04-28T10:16:53.348910",
     "exception": false,
     "start_time": "2021-04-28T10:16:53.328583",
     "status": "completed"
    },
    "tags": []
   },
   "outputs": [
    {
     "data": {
      "text/html": [
       "<style>\n",
       "div.input {\n",
       "    display:none;\n",
       "}\n",
       "</style>\n"
      ],
      "text/plain": [
       "<IPython.core.display.HTML object>"
      ]
     },
     "metadata": {},
     "output_type": "display_data"
    }
   ],
   "source": [
    "%%html\n",
    "<style>\n",
    "div.input {\n",
    "    display:none;\n",
    "}\n",
    "</style>"
   ]
  }
 ],
 "metadata": {
  "kernelspec": {
   "display_name": "Python 3",
   "language": "python",
   "name": "python3"
  },
  "language_info": {
   "codemirror_mode": {
    "name": "ipython",
    "version": 3
   },
   "file_extension": ".py",
   "mimetype": "text/x-python",
   "name": "python",
   "nbconvert_exporter": "python",
   "pygments_lexer": "ipython3",
   "version": "3.8.9"
  },
  "papermill": {
   "duration": 4.304542,
   "end_time": "2021-04-28T10:16:53.667275",
   "environment_variables": {},
   "exception": null,
   "input_path": "DunnCounty_COVID19.ipynb",
   "output_path": "DunnCounty_COVID19.ipynb",
   "parameters": {
    "Start": "True",
    "secretsPath": "/home/runner/work/_temp/secrets.json"
   },
   "start_time": "2021-04-28T10:16:49.362733",
   "version": "1.1.16"
  }
 },
 "nbformat": 4,
 "nbformat_minor": 5
}