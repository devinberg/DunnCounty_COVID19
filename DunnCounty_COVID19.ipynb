{
 "cells": [
  {
   "cell_type": "code",
   "execution_count": 1,
   "id": "solar-understanding",
   "metadata": {
    "execution": {
     "iopub.execute_input": "2021-03-27T10:16:31.012619Z",
     "iopub.status.busy": "2021-03-27T10:16:31.011904Z",
     "iopub.status.idle": "2021-03-27T10:16:33.984134Z",
     "shell.execute_reply": "2021-03-27T10:16:33.982943Z"
    },
    "jupyter": {
     "source_hidden": true
    },
    "papermill": {
     "duration": 2.99257,
     "end_time": "2021-03-27T10:16:33.984308",
     "exception": false,
     "start_time": "2021-03-27T10:16:30.991738",
     "status": "completed"
    },
    "scrolled": true,
    "tags": [
     "hide-input"
    ]
   },
   "outputs": [],
   "source": [
    "import pandas as pd\n",
    "import matplotlib.pyplot as plt\n",
    "from matplotlib import dates\n",
    "from IPython.display import display, Markdown\n",
    "%matplotlib inline"
   ]
  },
  {
   "cell_type": "code",
   "execution_count": 2,
   "id": "purple-playlist",
   "metadata": {
    "execution": {
     "iopub.execute_input": "2021-03-27T10:16:34.007474Z",
     "iopub.status.busy": "2021-03-27T10:16:34.006734Z",
     "iopub.status.idle": "2021-03-27T10:16:35.107762Z",
     "shell.execute_reply": "2021-03-27T10:16:35.107251Z"
    },
    "jupyter": {
     "source_hidden": true
    },
    "papermill": {
     "duration": 1.115067,
     "end_time": "2021-03-27T10:16:35.107892",
     "exception": false,
     "start_time": "2021-03-27T10:16:33.992825",
     "status": "completed"
    },
    "scrolled": true,
    "tags": [
     "hide-input"
    ]
   },
   "outputs": [],
   "source": [
    "# This is the data for all of Wisconsin.\n",
    "url = \"https://opendata.arcgis.com/datasets/5374188992374b318d3e2305216ee413_12.csv\"\n",
    "data = pd.read_csv(url, parse_dates=['DATE'], low_memory=False)"
   ]
  },
  {
   "cell_type": "code",
   "execution_count": 3,
   "id": "proprietary-klein",
   "metadata": {
    "execution": {
     "iopub.execute_input": "2021-03-27T10:16:35.133709Z",
     "iopub.status.busy": "2021-03-27T10:16:35.133164Z",
     "iopub.status.idle": "2021-03-27T10:16:35.141965Z",
     "shell.execute_reply": "2021-03-27T10:16:35.141525Z"
    },
    "jupyter": {
     "source_hidden": true
    },
    "papermill": {
     "duration": 0.023871,
     "end_time": "2021-03-27T10:16:35.142082",
     "exception": false,
     "start_time": "2021-03-27T10:16:35.118211",
     "status": "completed"
    },
    "scrolled": true,
    "tags": [
     "hide-input"
    ]
   },
   "outputs": [],
   "source": [
    "dc = data.groupby('NAME').get_group('Dunn').sort_values(by='DATE') # Select the data for Dunn County from the full data.\n",
    "PNi = dc.columns.get_loc(\"POS_NEW\")\n",
    "dc['7_DAY'] = dc.iloc[:,PNi].rolling(window=7).mean() # Calculates the rolling 7-day average of new cases.\n",
    "dc['14_DAY'] = dc.iloc[:,PNi].rolling(window=14).mean() # Calculates the rolling 14-day average of new cases."
   ]
  },
  {
   "cell_type": "code",
   "execution_count": 4,
   "id": "steady-supervision",
   "metadata": {
    "execution": {
     "iopub.execute_input": "2021-03-27T10:16:35.165180Z",
     "iopub.status.busy": "2021-03-27T10:16:35.164638Z",
     "iopub.status.idle": "2021-03-27T10:16:35.169527Z",
     "shell.execute_reply": "2021-03-27T10:16:35.169930Z"
    },
    "jupyter": {
     "source_hidden": true
    },
    "papermill": {
     "duration": 0.019462,
     "end_time": "2021-03-27T10:16:35.170060",
     "exception": false,
     "start_time": "2021-03-27T10:16:35.150598",
     "status": "completed"
    },
    "scrolled": true,
    "tags": [
     "hide-input"
    ]
   },
   "outputs": [
    {
     "data": {
      "text/markdown": [
       "### Last updated: March 26, 2021"
      ],
      "text/plain": [
       "<IPython.core.display.Markdown object>"
      ]
     },
     "metadata": {},
     "output_type": "display_data"
    }
   ],
   "source": [
    "display(Markdown('### Last updated: ' + dc.iloc[-1]['DATE'].strftime(\"%B %d, %Y\")))"
   ]
  },
  {
   "cell_type": "code",
   "execution_count": 5,
   "id": "lonely-pitch",
   "metadata": {
    "execution": {
     "iopub.execute_input": "2021-03-27T10:16:35.193007Z",
     "iopub.status.busy": "2021-03-27T10:16:35.192380Z",
     "iopub.status.idle": "2021-03-27T10:16:35.194579Z",
     "shell.execute_reply": "2021-03-27T10:16:35.195095Z"
    },
    "jupyter": {
     "source_hidden": true
    },
    "papermill": {
     "duration": 0.016217,
     "end_time": "2021-03-27T10:16:35.195225",
     "exception": false,
     "start_time": "2021-03-27T10:16:35.179008",
     "status": "completed"
    },
    "tags": [
     "hide-input"
    ]
   },
   "outputs": [
    {
     "data": {
      "text/markdown": [
       "# Dunn County has 4355 total positive cases, with 14 new cases reported today."
      ],
      "text/plain": [
       "<IPython.core.display.Markdown object>"
      ]
     },
     "metadata": {},
     "output_type": "display_data"
    }
   ],
   "source": [
    "display(Markdown('# Dunn County has ' + str(dc.iloc[-1]['POSITIVE']) + ' total positive cases, with '+ str(int(dc.iloc[-1]['POS_NEW'])) + ' new cases reported today.'))"
   ]
  },
  {
   "cell_type": "code",
   "execution_count": 6,
   "id": "compound-nightmare",
   "metadata": {
    "execution": {
     "iopub.execute_input": "2021-03-27T10:16:35.217336Z",
     "iopub.status.busy": "2021-03-27T10:16:35.216806Z",
     "iopub.status.idle": "2021-03-27T10:16:35.460143Z",
     "shell.execute_reply": "2021-03-27T10:16:35.460679Z"
    },
    "jupyter": {
     "source_hidden": true
    },
    "papermill": {
     "duration": 0.256316,
     "end_time": "2021-03-27T10:16:35.460836",
     "exception": false,
     "start_time": "2021-03-27T10:16:35.204520",
     "status": "completed"
    },
    "scrolled": false,
    "tags": [
     "hide-input"
    ]
   },
   "outputs": [
    {
     "data": {
      "image/png": "[encoded data removed]",
      "text/plain": [
       "<Figure size 864x432 with 1 Axes>"
      ]
     },
     "metadata": {
      "needs_background": "light"
     },
     "output_type": "display_data"
    }
   ],
   "source": [
    "dc.plot(x='DATE',y='POSITIVE',color='red',grid='True',figsize=(12,6)).set_xlabel('Date');"
   ]
  },
  {
   "cell_type": "markdown",
   "id": "coupled-literacy",
   "metadata": {
    "papermill": {
     "duration": 0.010204,
     "end_time": "2021-03-27T10:16:35.481290",
     "exception": false,
     "start_time": "2021-03-27T10:16:35.471086",
     "status": "completed"
    },
    "tags": []
   },
   "source": [
    "## Figure 1: Cummulative number of positive cases."
   ]
  },
  {
   "cell_type": "code",
   "execution_count": 7,
   "id": "surrounded-reserve",
   "metadata": {
    "execution": {
     "iopub.execute_input": "2021-03-27T10:16:35.507818Z",
     "iopub.status.busy": "2021-03-27T10:16:35.507281Z",
     "iopub.status.idle": "2021-03-27T10:16:35.685946Z",
     "shell.execute_reply": "2021-03-27T10:16:35.686414Z"
    },
    "jupyter": {
     "source_hidden": true
    },
    "papermill": {
     "duration": 0.195076,
     "end_time": "2021-03-27T10:16:35.686576",
     "exception": false,
     "start_time": "2021-03-27T10:16:35.491500",
     "status": "completed"
    },
    "scrolled": false,
    "tags": [
     "hide-input"
    ]
   },
   "outputs": [
    {
     "data": {
      "image/png": "[encoded data removed]",
      "text/plain": [
       "<Figure size 864x432 with 1 Axes>"
      ]
     },
     "metadata": {
      "needs_background": "light"
     },
     "output_type": "display_data"
    }
   ],
   "source": [
    "dc.plot(kind='line',x='DATE',y='7_DAY',color='blue',grid='True',figsize=(12,6)).set_xlabel('Date');"
   ]
  },
  {
   "cell_type": "markdown",
   "id": "professional-savannah",
   "metadata": {
    "papermill": {
     "duration": 0.012146,
     "end_time": "2021-03-27T10:16:35.710497",
     "exception": false,
     "start_time": "2021-03-27T10:16:35.698351",
     "status": "completed"
    },
    "tags": []
   },
   "source": [
    "## Figure 2: Rolling 7-day average of daily new cases."
   ]
  },
  {
   "cell_type": "code",
   "execution_count": 8,
   "id": "stretch-investor",
   "metadata": {
    "execution": {
     "iopub.execute_input": "2021-03-27T10:16:35.738321Z",
     "iopub.status.busy": "2021-03-27T10:16:35.737832Z",
     "iopub.status.idle": "2021-03-27T10:16:35.915112Z",
     "shell.execute_reply": "2021-03-27T10:16:35.915860Z"
    },
    "jupyter": {
     "source_hidden": true
    },
    "papermill": {
     "duration": 0.19442,
     "end_time": "2021-03-27T10:16:35.916094",
     "exception": false,
     "start_time": "2021-03-27T10:16:35.721674",
     "status": "completed"
    },
    "tags": []
   },
   "outputs": [
    {
     "data": {
      "image/png": "[encoded data removed]",
      "text/plain": [
       "<Figure size 864x432 with 1 Axes>"
      ]
     },
     "metadata": {
      "needs_background": "light"
     },
     "output_type": "display_data"
    }
   ],
   "source": [
    "dc.plot(kind='line',x='DATE',y='14_DAY',color='green',grid='True',figsize=(12,6)).set_xlabel('Date');"
   ]
  },
  {
   "cell_type": "markdown",
   "id": "prerequisite-species",
   "metadata": {
    "papermill": {
     "duration": 0.012891,
     "end_time": "2021-03-27T10:16:35.941529",
     "exception": false,
     "start_time": "2021-03-27T10:16:35.928638",
     "status": "completed"
    },
    "tags": []
   },
   "source": [
    "## Figure 3: Rolling 14-day average of daily new cases."
   ]
  },
  {
   "cell_type": "markdown",
   "id": "palestinian-guard",
   "metadata": {
    "papermill": {
     "duration": 0.012008,
     "end_time": "2021-03-27T10:16:35.965907",
     "exception": false,
     "start_time": "2021-03-27T10:16:35.953899",
     "status": "completed"
    },
    "tags": []
   },
   "source": [
    "Data source: [Wisconsin Department of Health Services](https://data.dhsgis.wi.gov/datasets/covid-19-historical-data-table/)"
   ]
  },
  {
   "cell_type": "code",
   "execution_count": 9,
   "id": "proof-medicare",
   "metadata": {
    "execution": {
     "iopub.execute_input": "2021-03-27T10:16:35.995537Z",
     "iopub.status.busy": "2021-03-27T10:16:35.994834Z",
     "iopub.status.idle": "2021-03-27T10:16:35.999308Z",
     "shell.execute_reply": "2021-03-27T10:16:35.998880Z"
    },
    "jupyter": {
     "source_hidden": true
    },
    "papermill": {
     "duration": 0.021522,
     "end_time": "2021-03-27T10:16:35.999410",
     "exception": false,
     "start_time": "2021-03-27T10:16:35.977888",
     "status": "completed"
    },
    "tags": []
   },
   "outputs": [
    {
     "data": {
      "text/html": [
       "<style>\n",
       "div.input {\n",
       "    display:none;\n",
       "}\n",
       "</style>\n"
      ],
      "text/plain": [
       "<IPython.core.display.HTML object>"
      ]
     },
     "metadata": {},
     "output_type": "display_data"
    }
   ],
   "source": [
    "%%html\n",
    "<style>\n",
    "div.input {\n",
    "    display:none;\n",
    "}\n",
    "</style>"
   ]
  }
 ],
 "metadata": {
  "kernelspec": {
   "display_name": "Python 3",
   "language": "python",
   "name": "python3"
  },
  "language_info": {
   "codemirror_mode": {
    "name": "ipython",
    "version": 3
   },
   "file_extension": ".py",
   "mimetype": "text/x-python",
   "name": "python",
   "nbconvert_exporter": "python",
   "pygments_lexer": "ipython3",
   "version": "3.8.8"
  },
  "papermill": {
   "duration": 7.159368,
   "end_time": "2021-03-27T10:16:36.317635",
   "environment_variables": {},
   "exception": null,
   "input_path": "DunnCounty_COVID19.ipynb",
   "output_path": "DunnCounty_COVID19.ipynb",
   "parameters": {
    "Start": "True",
    "secretsPath": "/home/runner/work/_temp/secrets.json"
   },
   "start_time": "2021-03-27T10:16:29.158267",
   "version": "1.1.16"
  }
 },
 "nbformat": 4,
 "nbformat_minor": 5
}