{
 "cells": [
  {
   "cell_type": "code",
   "execution_count": 1,
   "metadata": {
    "execution": {
     "iopub.execute_input": "2020-12-02T22:11:25.044851Z",
     "iopub.status.busy": "2020-12-02T22:11:25.044068Z",
     "iopub.status.idle": "2020-12-02T22:11:26.022269Z",
     "shell.execute_reply": "2020-12-02T22:11:26.021312Z"
    },
    "jupyter": {
     "source_hidden": true
    },
    "papermill": {
     "duration": 0.995057,
     "end_time": "2020-12-02T22:11:26.022580",
     "exception": false,
     "start_time": "2020-12-02T22:11:25.027523",
     "status": "completed"
    },
    "scrolled": true,
    "tags": [
     "hide-input"
    ]
   },
   "outputs": [],
   "source": [
    "import pandas as pd\n",
    "import matplotlib.pyplot as plt\n",
    "from matplotlib import dates\n",
    "from IPython.display import display, Markdown\n",
    "%matplotlib inline"
   ]
  },
  {
   "cell_type": "code",
   "execution_count": 2,
   "metadata": {
    "execution": {
     "iopub.execute_input": "2020-12-02T22:11:26.044339Z",
     "iopub.status.busy": "2020-12-02T22:11:26.043838Z",
     "iopub.status.idle": "2020-12-02T22:11:26.587808Z",
     "shell.execute_reply": "2020-12-02T22:11:26.586880Z"
    },
    "jupyter": {
     "source_hidden": true
    },
    "papermill": {
     "duration": 0.555891,
     "end_time": "2020-12-02T22:11:26.588025",
     "exception": false,
     "start_time": "2020-12-02T22:11:26.032134",
     "status": "completed"
    },
    "scrolled": true,
    "tags": [
     "hide-input"
    ]
   },
   "outputs": [],
   "source": [
    "# This is the data for all of Wisconsin.\n",
    "url = \"https://opendata.arcgis.com/datasets/5374188992374b318d3e2305216ee413_12.csv\"\n",
    "data = pd.read_csv(url, parse_dates=['DATE'], low_memory=False)"
   ]
  },
  {
   "cell_type": "code",
   "execution_count": 3,
   "metadata": {
    "execution": {
     "iopub.execute_input": "2020-12-02T22:11:26.614429Z",
     "iopub.status.busy": "2020-12-02T22:11:26.613973Z",
     "iopub.status.idle": "2020-12-02T22:11:26.622442Z",
     "shell.execute_reply": "2020-12-02T22:11:26.621920Z"
    },
    "jupyter": {
     "source_hidden": true
    },
    "papermill": {
     "duration": 0.02286,
     "end_time": "2020-12-02T22:11:26.622563",
     "exception": false,
     "start_time": "2020-12-02T22:11:26.599703",
     "status": "completed"
    },
    "scrolled": true,
    "tags": [
     "hide-input"
    ]
   },
   "outputs": [],
   "source": [
    "dc = data.groupby('NAME').get_group('Dunn').sort_values(by='DATE') # Select the data for Dunn County from the full data.\n",
    "PNi = dc.columns.get_loc(\"POS_NEW\")\n",
    "dc['7_DAY'] = dc.iloc[:,PNi].rolling(window=7).mean() # Calculates the rolling 7-day average of new cases.\n",
    "dc['14_DAY'] = dc.iloc[:,PNi].rolling(window=14).mean() # Calculates the rolling 14-day average of new cases."
   ]
  },
  {
   "cell_type": "code",
   "execution_count": 4,
   "metadata": {
    "execution": {
     "iopub.execute_input": "2020-12-02T22:11:26.640773Z",
     "iopub.status.busy": "2020-12-02T22:11:26.640262Z",
     "iopub.status.idle": "2020-12-02T22:11:26.646124Z",
     "shell.execute_reply": "2020-12-02T22:11:26.645713Z"
    },
    "jupyter": {
     "source_hidden": true
    },
    "papermill": {
     "duration": 0.017604,
     "end_time": "2020-12-02T22:11:26.646239",
     "exception": false,
     "start_time": "2020-12-02T22:11:26.628635",
     "status": "completed"
    },
    "scrolled": true,
    "tags": [
     "hide-input"
    ]
   },
   "outputs": [
    {
     "data": {
      "text/markdown": [
       "### Last updated: December 02, 2020"
      ],
      "text/plain": [
       "<IPython.core.display.Markdown object>"
      ]
     },
     "metadata": {},
     "output_type": "display_data"
    }
   ],
   "source": [
    "display(Markdown('### Last updated: ' + dc.iloc[-1]['DATE'].strftime(\"%B %d, %Y\")))"
   ]
  },
  {
   "cell_type": "code",
   "execution_count": 5,
   "metadata": {
    "execution": {
     "iopub.execute_input": "2020-12-02T22:11:26.663923Z",
     "iopub.status.busy": "2020-12-02T22:11:26.663480Z",
     "iopub.status.idle": "2020-12-02T22:11:26.665876Z",
     "shell.execute_reply": "2020-12-02T22:11:26.666274Z"
    },
    "jupyter": {
     "source_hidden": true
    },
    "papermill": {
     "duration": 0.013305,
     "end_time": "2020-12-02T22:11:26.666388",
     "exception": false,
     "start_time": "2020-12-02T22:11:26.653083",
     "status": "completed"
    },
    "tags": [
     "hide-input"
    ]
   },
   "outputs": [
    {
     "data": {
      "text/markdown": [
       "# Dunn County has 2863 total positive cases, with 34 new cases reported today."
      ],
      "text/plain": [
       "<IPython.core.display.Markdown object>"
      ]
     },
     "metadata": {},
     "output_type": "display_data"
    }
   ],
   "source": [
    "display(Markdown('# Dunn County has ' + str(dc.iloc[-1]['POSITIVE']) + ' total positive cases, with '+ str(int(dc.iloc[-1]['POS_NEW'])) + ' new cases reported today.'))"
   ]
  },
  {
   "cell_type": "code",
   "execution_count": 6,
   "metadata": {
    "execution": {
     "iopub.execute_input": "2020-12-02T22:11:26.684530Z",
     "iopub.status.busy": "2020-12-02T22:11:26.683999Z",
     "iopub.status.idle": "2020-12-02T22:11:26.899605Z",
     "shell.execute_reply": "2020-12-02T22:11:26.900014Z"
    },
    "jupyter": {
     "source_hidden": true
    },
    "papermill": {
     "duration": 0.226361,
     "end_time": "2020-12-02T22:11:26.900164",
     "exception": false,
     "start_time": "2020-12-02T22:11:26.673803",
     "status": "completed"
    },
    "scrolled": false,
    "tags": [
     "hide-input"
    ]
   },
   "outputs": [
    {
     "data": {
      "image/png": "[encoded data removed]",
      "text/plain": [
       "<Figure size 864x432 with 1 Axes>"
      ]
     },
     "metadata": {
      "needs_background": "light"
     },
     "output_type": "display_data"
    }
   ],
   "source": [
    "dc.plot(x='DATE',y='POSITIVE',color='red',grid='True',figsize=(12,6)).set_xlabel('Date');"
   ]
  },
  {
   "cell_type": "markdown",
   "metadata": {
    "papermill": {
     "duration": 0.008717,
     "end_time": "2020-12-02T22:11:26.917477",
     "exception": false,
     "start_time": "2020-12-02T22:11:26.908760",
     "status": "completed"
    },
    "tags": []
   },
   "source": [
    "## Figure 1: Cummulative number of positive cases."
   ]
  },
  {
   "cell_type": "code",
   "execution_count": 7,
   "metadata": {
    "execution": {
     "iopub.execute_input": "2020-12-02T22:11:26.939493Z",
     "iopub.status.busy": "2020-12-02T22:11:26.938971Z",
     "iopub.status.idle": "2020-12-02T22:11:27.138439Z",
     "shell.execute_reply": "2020-12-02T22:11:27.137952Z"
    },
    "jupyter": {
     "source_hidden": true
    },
    "papermill": {
     "duration": 0.212816,
     "end_time": "2020-12-02T22:11:27.138563",
     "exception": false,
     "start_time": "2020-12-02T22:11:26.925747",
     "status": "completed"
    },
    "scrolled": false,
    "tags": [
     "hide-input"
    ]
   },
   "outputs": [
    {
     "data": {
      "image/png": "[encoded data removed]",
      "text/plain": [
       "<Figure size 864x432 with 1 Axes>"
      ]
     },
     "metadata": {
      "needs_background": "light"
     },
     "output_type": "display_data"
    }
   ],
   "source": [
    "dc.plot(kind='line',x='DATE',y='7_DAY',color='blue',grid='True',figsize=(12,6)).set_xlabel('Date');"
   ]
  },
  {
   "cell_type": "markdown",
   "metadata": {
    "papermill": {
     "duration": 0.009615,
     "end_time": "2020-12-02T22:11:27.157154",
     "exception": false,
     "start_time": "2020-12-02T22:11:27.147539",
     "status": "completed"
    },
    "tags": []
   },
   "source": [
    "## Figure 2: Rolling 7-day average of daily new cases."
   ]
  },
  {
   "cell_type": "code",
   "execution_count": 8,
   "metadata": {
    "execution": {
     "iopub.execute_input": "2020-12-02T22:11:27.199423Z",
     "iopub.status.busy": "2020-12-02T22:11:27.179919Z",
     "iopub.status.idle": "2020-12-02T22:11:27.397783Z",
     "shell.execute_reply": "2020-12-02T22:11:27.396883Z"
    },
    "jupyter": {
     "source_hidden": true
    },
    "papermill": {
     "duration": 0.231732,
     "end_time": "2020-12-02T22:11:27.397944",
     "exception": false,
     "start_time": "2020-12-02T22:11:27.166212",
     "status": "completed"
    },
    "tags": []
   },
   "outputs": [
    {
     "data": {
      "image/png": "[encoded data removed]",
      "text/plain": [
       "<Figure size 864x432 with 1 Axes>"
      ]
     },
     "metadata": {
      "needs_background": "light"
     },
     "output_type": "display_data"
    }
   ],
   "source": [
    "dc.plot(kind='line',x='DATE',y='14_DAY',color='green',grid='True',figsize=(12,6)).set_xlabel('Date');"
   ]
  },
  {
   "cell_type": "markdown",
   "metadata": {
    "papermill": {
     "duration": 0.010302,
     "end_time": "2020-12-02T22:11:27.418727",
     "exception": false,
     "start_time": "2020-12-02T22:11:27.408425",
     "status": "completed"
    },
    "tags": []
   },
   "source": [
    "## Figure 3: Rolling 14-day average of daily new cases."
   ]
  },
  {
   "cell_type": "markdown",
   "metadata": {
    "papermill": {
     "duration": 0.010442,
     "end_time": "2020-12-02T22:11:27.439821",
     "exception": false,
     "start_time": "2020-12-02T22:11:27.429379",
     "status": "completed"
    },
    "tags": []
   },
   "source": [
    "Data source: [Wisconsin Department of Health Services](https://data.dhsgis.wi.gov/datasets/covid-19-historical-data-table/)"
   ]
  },
  {
   "cell_type": "code",
   "execution_count": 9,
   "metadata": {
    "execution": {
     "iopub.execute_input": "2020-12-02T22:11:27.464594Z",
     "iopub.status.busy": "2020-12-02T22:11:27.464081Z",
     "iopub.status.idle": "2020-12-02T22:11:27.466900Z",
     "shell.execute_reply": "2020-12-02T22:11:27.466343Z"
    },
    "jupyter": {
     "source_hidden": true
    },
    "papermill": {
     "duration": 0.017152,
     "end_time": "2020-12-02T22:11:27.467032",
     "exception": false,
     "start_time": "2020-12-02T22:11:27.449880",
     "status": "completed"
    },
    "tags": []
   },
   "outputs": [
    {
     "data": {
      "text/html": [
       "<style>\n",
       "div.input {\n",
       "    display:none;\n",
       "}\n",
       "</style>\n"
      ],
      "text/plain": [
       "<IPython.core.display.HTML object>"
      ]
     },
     "metadata": {},
     "output_type": "display_data"
    }
   ],
   "source": [
    "%%html\n",
    "<style>\n",
    "div.input {\n",
    "    display:none;\n",
    "}\n",
    "</style>"
   ]
  }
 ],
 "metadata": {
  "kernelspec": {
   "display_name": "Python 3",
   "language": "python",
   "name": "python3"
  },
  "language_info": {
   "codemirror_mode": {
    "name": "ipython",
    "version": 3
   },
   "file_extension": ".py",
   "mimetype": "text/x-python",
   "name": "python",
   "nbconvert_exporter": "python",
   "pygments_lexer": "ipython3",
   "version": "3.8.6"
  },
  "papermill": {
   "duration": 4.254387,
   "end_time": "2020-12-02T22:11:27.788359",
   "environment_variables": {},
   "exception": null,
   "input_path": "DunnCounty_COVID19.ipynb",
   "output_path": "DunnCounty_COVID19.ipynb",
   "parameters": {
    "Start": "True",
    "secretsPath": "/home/runner/work/_temp/secrets.json"
   },
   "start_time": "2020-12-02T22:11:23.533972",
   "version": "1.1.16"
  }
 },
 "nbformat": 4,
 "nbformat_minor": 2
}