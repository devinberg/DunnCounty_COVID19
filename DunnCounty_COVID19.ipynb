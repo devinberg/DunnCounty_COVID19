{
 "cells": [
  {
   "cell_type": "code",
   "execution_count": 1,
   "metadata": {
    "execution": {
     "iopub.execute_input": "2020-12-28T10:19:24.513329Z",
     "iopub.status.busy": "2020-12-28T10:19:24.512808Z",
     "iopub.status.idle": "2020-12-28T10:19:26.668704Z",
     "shell.execute_reply": "2020-12-28T10:19:26.668107Z"
    },
    "jupyter": {
     "source_hidden": true
    },
    "papermill": {
     "duration": 2.174097,
     "end_time": "2020-12-28T10:19:26.668897",
     "exception": false,
     "start_time": "2020-12-28T10:19:24.494800",
     "status": "completed"
    },
    "scrolled": true,
    "tags": [
     "hide-input"
    ]
   },
   "outputs": [],
   "source": [
    "import pandas as pd\n",
    "import matplotlib.pyplot as plt\n",
    "from matplotlib import dates\n",
    "from IPython.display import display, Markdown\n",
    "%matplotlib inline"
   ]
  },
  {
   "cell_type": "code",
   "execution_count": 2,
   "metadata": {
    "execution": {
     "iopub.execute_input": "2020-12-28T10:19:26.688820Z",
     "iopub.status.busy": "2020-12-28T10:19:26.687427Z",
     "iopub.status.idle": "2020-12-28T10:19:27.356608Z",
     "shell.execute_reply": "2020-12-28T10:19:27.356991Z"
    },
    "jupyter": {
     "source_hidden": true
    },
    "papermill": {
     "duration": 0.681361,
     "end_time": "2020-12-28T10:19:27.357149",
     "exception": false,
     "start_time": "2020-12-28T10:19:26.675788",
     "status": "completed"
    },
    "scrolled": true,
    "tags": [
     "hide-input"
    ]
   },
   "outputs": [],
   "source": [
    "# This is the data for all of Wisconsin.\n",
    "url = \"https://opendata.arcgis.com/datasets/5374188992374b318d3e2305216ee413_12.csv\"\n",
    "data = pd.read_csv(url, parse_dates=['DATE'], low_memory=False)"
   ]
  },
  {
   "cell_type": "code",
   "execution_count": 3,
   "metadata": {
    "execution": {
     "iopub.execute_input": "2020-12-28T10:19:27.376009Z",
     "iopub.status.busy": "2020-12-28T10:19:27.375501Z",
     "iopub.status.idle": "2020-12-28T10:19:27.382862Z",
     "shell.execute_reply": "2020-12-28T10:19:27.383251Z"
    },
    "jupyter": {
     "source_hidden": true
    },
    "papermill": {
     "duration": 0.019536,
     "end_time": "2020-12-28T10:19:27.383412",
     "exception": false,
     "start_time": "2020-12-28T10:19:27.363876",
     "status": "completed"
    },
    "scrolled": true,
    "tags": [
     "hide-input"
    ]
   },
   "outputs": [],
   "source": [
    "dc = data.groupby('NAME').get_group('Dunn').sort_values(by='DATE') # Select the data for Dunn County from the full data.\n",
    "PNi = dc.columns.get_loc(\"POS_NEW\")\n",
    "dc['7_DAY'] = dc.iloc[:,PNi].rolling(window=7).mean() # Calculates the rolling 7-day average of new cases.\n",
    "dc['14_DAY'] = dc.iloc[:,PNi].rolling(window=14).mean() # Calculates the rolling 14-day average of new cases."
   ]
  },
  {
   "cell_type": "code",
   "execution_count": 4,
   "metadata": {
    "execution": {
     "iopub.execute_input": "2020-12-28T10:19:27.402552Z",
     "iopub.status.busy": "2020-12-28T10:19:27.401920Z",
     "iopub.status.idle": "2020-12-28T10:19:27.404703Z",
     "shell.execute_reply": "2020-12-28T10:19:27.405083Z"
    },
    "jupyter": {
     "source_hidden": true
    },
    "papermill": {
     "duration": 0.015537,
     "end_time": "2020-12-28T10:19:27.405227",
     "exception": false,
     "start_time": "2020-12-28T10:19:27.389690",
     "status": "completed"
    },
    "scrolled": true,
    "tags": [
     "hide-input"
    ]
   },
   "outputs": [
    {
     "data": {
      "text/markdown": [
       "### Last updated: December 27, 2020"
      ],
      "text/plain": [
       "<IPython.core.display.Markdown object>"
      ]
     },
     "metadata": {},
     "output_type": "display_data"
    }
   ],
   "source": [
    "display(Markdown('### Last updated: ' + dc.iloc[-1]['DATE'].strftime(\"%B %d, %Y\")))"
   ]
  },
  {
   "cell_type": "code",
   "execution_count": 5,
   "metadata": {
    "execution": {
     "iopub.execute_input": "2020-12-28T10:19:27.423948Z",
     "iopub.status.busy": "2020-12-28T10:19:27.423370Z",
     "iopub.status.idle": "2020-12-28T10:19:27.425654Z",
     "shell.execute_reply": "2020-12-28T10:19:27.426063Z"
    },
    "jupyter": {
     "source_hidden": true
    },
    "papermill": {
     "duration": 0.014314,
     "end_time": "2020-12-28T10:19:27.426254",
     "exception": false,
     "start_time": "2020-12-28T10:19:27.411940",
     "status": "completed"
    },
    "tags": [
     "hide-input"
    ]
   },
   "outputs": [
    {
     "data": {
      "text/markdown": [
       "# Dunn County has 3426 total positive cases, with 37 new cases reported today."
      ],
      "text/plain": [
       "<IPython.core.display.Markdown object>"
      ]
     },
     "metadata": {},
     "output_type": "display_data"
    }
   ],
   "source": [
    "display(Markdown('# Dunn County has ' + str(dc.iloc[-1]['POSITIVE']) + ' total positive cases, with '+ str(int(dc.iloc[-1]['POS_NEW'])) + ' new cases reported today.'))"
   ]
  },
  {
   "cell_type": "code",
   "execution_count": 6,
   "metadata": {
    "execution": {
     "iopub.execute_input": "2020-12-28T10:19:27.444420Z",
     "iopub.status.busy": "2020-12-28T10:19:27.443948Z",
     "iopub.status.idle": "2020-12-28T10:19:27.661702Z",
     "shell.execute_reply": "2020-12-28T10:19:27.662165Z"
    },
    "jupyter": {
     "source_hidden": true
    },
    "papermill": {
     "duration": 0.228756,
     "end_time": "2020-12-28T10:19:27.662336",
     "exception": false,
     "start_time": "2020-12-28T10:19:27.433580",
     "status": "completed"
    },
    "scrolled": false,
    "tags": [
     "hide-input"
    ]
   },
   "outputs": [
    {
     "data": {
      "image/png": "[encoded data removed]",
      "text/plain": [
       "<Figure size 864x432 with 1 Axes>"
      ]
     },
     "metadata": {
      "needs_background": "light"
     },
     "output_type": "display_data"
    }
   ],
   "source": [
    "dc.plot(x='DATE',y='POSITIVE',color='red',grid='True',figsize=(12,6)).set_xlabel('Date');"
   ]
  },
  {
   "cell_type": "markdown",
   "metadata": {
    "papermill": {
     "duration": 0.007958,
     "end_time": "2020-12-28T10:19:27.678307",
     "exception": false,
     "start_time": "2020-12-28T10:19:27.670349",
     "status": "completed"
    },
    "tags": []
   },
   "source": [
    "## Figure 1: Cummulative number of positive cases."
   ]
  },
  {
   "cell_type": "code",
   "execution_count": 7,
   "metadata": {
    "execution": {
     "iopub.execute_input": "2020-12-28T10:19:27.698536Z",
     "iopub.status.busy": "2020-12-28T10:19:27.698005Z",
     "iopub.status.idle": "2020-12-28T10:19:27.898827Z",
     "shell.execute_reply": "2020-12-28T10:19:27.899195Z"
    },
    "jupyter": {
     "source_hidden": true
    },
    "papermill": {
     "duration": 0.213374,
     "end_time": "2020-12-28T10:19:27.899351",
     "exception": false,
     "start_time": "2020-12-28T10:19:27.685977",
     "status": "completed"
    },
    "scrolled": false,
    "tags": [
     "hide-input"
    ]
   },
   "outputs": [
    {
     "data": {
      "image/png": "[encoded data removed]",
      "text/plain": [
       "<Figure size 864x432 with 1 Axes>"
      ]
     },
     "metadata": {
      "needs_background": "light"
     },
     "output_type": "display_data"
    }
   ],
   "source": [
    "dc.plot(kind='line',x='DATE',y='7_DAY',color='blue',grid='True',figsize=(12,6)).set_xlabel('Date');"
   ]
  },
  {
   "cell_type": "markdown",
   "metadata": {
    "papermill": {
     "duration": 0.008833,
     "end_time": "2020-12-28T10:19:27.917783",
     "exception": false,
     "start_time": "2020-12-28T10:19:27.908950",
     "status": "completed"
    },
    "tags": []
   },
   "source": [
    "## Figure 2: Rolling 7-day average of daily new cases."
   ]
  },
  {
   "cell_type": "code",
   "execution_count": 8,
   "metadata": {
    "execution": {
     "iopub.execute_input": "2020-12-28T10:19:27.939645Z",
     "iopub.status.busy": "2020-12-28T10:19:27.939157Z",
     "iopub.status.idle": "2020-12-28T10:19:28.139901Z",
     "shell.execute_reply": "2020-12-28T10:19:28.140279Z"
    },
    "jupyter": {
     "source_hidden": true
    },
    "papermill": {
     "duration": 0.214164,
     "end_time": "2020-12-28T10:19:28.140431",
     "exception": false,
     "start_time": "2020-12-28T10:19:27.926267",
     "status": "completed"
    },
    "tags": []
   },
   "outputs": [
    {
     "data": {
      "image/png": "[encoded data removed]",
      "text/plain": [
       "<Figure size 864x432 with 1 Axes>"
      ]
     },
     "metadata": {
      "needs_background": "light"
     },
     "output_type": "display_data"
    }
   ],
   "source": [
    "dc.plot(kind='line',x='DATE',y='14_DAY',color='green',grid='True',figsize=(12,6)).set_xlabel('Date');"
   ]
  },
  {
   "cell_type": "markdown",
   "metadata": {
    "papermill": {
     "duration": 0.010586,
     "end_time": "2020-12-28T10:19:28.160832",
     "exception": false,
     "start_time": "2020-12-28T10:19:28.150246",
     "status": "completed"
    },
    "tags": []
   },
   "source": [
    "## Figure 3: Rolling 14-day average of daily new cases."
   ]
  },
  {
   "cell_type": "markdown",
   "metadata": {
    "papermill": {
     "duration": 0.00938,
     "end_time": "2020-12-28T10:19:28.181398",
     "exception": false,
     "start_time": "2020-12-28T10:19:28.172018",
     "status": "completed"
    },
    "tags": []
   },
   "source": [
    "Data source: [Wisconsin Department of Health Services](https://data.dhsgis.wi.gov/datasets/covid-19-historical-data-table/)"
   ]
  },
  {
   "cell_type": "code",
   "execution_count": 9,
   "metadata": {
    "execution": {
     "iopub.execute_input": "2020-12-28T10:19:28.205005Z",
     "iopub.status.busy": "2020-12-28T10:19:28.204438Z",
     "iopub.status.idle": "2020-12-28T10:19:28.207300Z",
     "shell.execute_reply": "2020-12-28T10:19:28.206830Z"
    },
    "jupyter": {
     "source_hidden": true
    },
    "papermill": {
     "duration": 0.016523,
     "end_time": "2020-12-28T10:19:28.207424",
     "exception": false,
     "start_time": "2020-12-28T10:19:28.190901",
     "status": "completed"
    },
    "tags": []
   },
   "outputs": [
    {
     "data": {
      "text/html": [
       "<style>\n",
       "div.input {\n",
       "    display:none;\n",
       "}\n",
       "</style>\n"
      ],
      "text/plain": [
       "<IPython.core.display.HTML object>"
      ]
     },
     "metadata": {},
     "output_type": "display_data"
    }
   ],
   "source": [
    "%%html\n",
    "<style>\n",
    "div.input {\n",
    "    display:none;\n",
    "}\n",
    "</style>"
   ]
  }
 ],
 "metadata": {
  "kernelspec": {
   "display_name": "Python 3",
   "language": "python",
   "name": "python3"
  },
  "language_info": {
   "codemirror_mode": {
    "name": "ipython",
    "version": 3
   },
   "file_extension": ".py",
   "mimetype": "text/x-python",
   "name": "python",
   "nbconvert_exporter": "python",
   "pygments_lexer": "ipython3",
   "version": "3.8.6"
  },
  "papermill": {
   "duration": 5.456808,
   "end_time": "2020-12-28T10:19:28.624545",
   "environment_variables": {},
   "exception": null,
   "input_path": "DunnCounty_COVID19.ipynb",
   "output_path": "DunnCounty_COVID19.ipynb",
   "parameters": {
    "Start": "True",
    "secretsPath": "/home/runner/work/_temp/secrets.json"
   },
   "start_time": "2020-12-28T10:19:23.167737",
   "version": "1.1.16"
  }
 },
 "nbformat": 4,
 "nbformat_minor": 2
}