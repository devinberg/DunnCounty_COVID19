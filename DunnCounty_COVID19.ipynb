{
 "cells": [
  {
   "cell_type": "code",
   "execution_count": 1,
   "metadata": {
    "execution": {
     "iopub.execute_input": "2020-11-12T10:09:23.706459Z",
     "iopub.status.busy": "2020-11-12T10:09:23.705855Z",
     "iopub.status.idle": "2020-11-12T10:09:26.643690Z",
     "shell.execute_reply": "2020-11-12T10:09:26.643085Z"
    },
    "jupyter": {
     "source_hidden": true
    },
    "papermill": {
     "duration": 2.956326,
     "end_time": "2020-11-12T10:09:26.643881",
     "exception": false,
     "start_time": "2020-11-12T10:09:23.687555",
     "status": "completed"
    },
    "scrolled": true,
    "tags": [
     "hide-input"
    ]
   },
   "outputs": [],
   "source": [
    "import pandas as pd\n",
    "import matplotlib.pyplot as plt\n",
    "from matplotlib import dates\n",
    "from IPython.display import display, Markdown\n",
    "%matplotlib inline"
   ]
  },
  {
   "cell_type": "code",
   "execution_count": 2,
   "metadata": {
    "execution": {
     "iopub.execute_input": "2020-11-12T10:09:26.666123Z",
     "iopub.status.busy": "2020-11-12T10:09:26.665550Z",
     "iopub.status.idle": "2020-11-12T10:09:27.618869Z",
     "shell.execute_reply": "2020-11-12T10:09:27.619354Z"
    },
    "jupyter": {
     "source_hidden": true
    },
    "papermill": {
     "duration": 0.968133,
     "end_time": "2020-11-12T10:09:27.619533",
     "exception": false,
     "start_time": "2020-11-12T10:09:26.651400",
     "status": "completed"
    },
    "scrolled": true,
    "tags": [
     "hide-input"
    ]
   },
   "outputs": [],
   "source": [
    "# This is the data for all of Wisconsin.\n",
    "url = \"https://opendata.arcgis.com/datasets/5374188992374b318d3e2305216ee413_12.csv\"\n",
    "data = pd.read_csv(url, parse_dates=['DATE'], low_memory=False)"
   ]
  },
  {
   "cell_type": "code",
   "execution_count": 3,
   "metadata": {
    "execution": {
     "iopub.execute_input": "2020-11-12T10:09:27.641584Z",
     "iopub.status.busy": "2020-11-12T10:09:27.641004Z",
     "iopub.status.idle": "2020-11-12T10:09:27.650202Z",
     "shell.execute_reply": "2020-11-12T10:09:27.649738Z"
    },
    "jupyter": {
     "source_hidden": true
    },
    "papermill": {
     "duration": 0.023462,
     "end_time": "2020-11-12T10:09:27.650333",
     "exception": false,
     "start_time": "2020-11-12T10:09:27.626871",
     "status": "completed"
    },
    "scrolled": true,
    "tags": [
     "hide-input"
    ]
   },
   "outputs": [],
   "source": [
    "dc = data.groupby('NAME').get_group('Dunn').sort_values(by='DATE') # Select the data for Dunn County from the full data.\n",
    "PNi = dc.columns.get_loc(\"POS_NEW\")\n",
    "dc['7_DAY'] = dc.iloc[:,PNi].rolling(window=7).mean() # Calculates the rolling 7-day average of new cases.\n",
    "dc['14_DAY'] = dc.iloc[:,PNi].rolling(window=14).mean() # Calculates the rolling 14-day average of new cases."
   ]
  },
  {
   "cell_type": "code",
   "execution_count": 4,
   "metadata": {
    "execution": {
     "iopub.execute_input": "2020-11-12T10:09:27.670685Z",
     "iopub.status.busy": "2020-11-12T10:09:27.668574Z",
     "iopub.status.idle": "2020-11-12T10:09:27.673311Z",
     "shell.execute_reply": "2020-11-12T10:09:27.673741Z"
    },
    "jupyter": {
     "source_hidden": true
    },
    "papermill": {
     "duration": 0.016514,
     "end_time": "2020-11-12T10:09:27.673890",
     "exception": false,
     "start_time": "2020-11-12T10:09:27.657376",
     "status": "completed"
    },
    "scrolled": true,
    "tags": [
     "hide-input"
    ]
   },
   "outputs": [
    {
     "data": {
      "text/markdown": [
       "### Last updated: November 11, 2020"
      ],
      "text/plain": [
       "<IPython.core.display.Markdown object>"
      ]
     },
     "metadata": {},
     "output_type": "display_data"
    }
   ],
   "source": [
    "display(Markdown('### Last updated: ' + dc.iloc[-1]['DATE'].strftime(\"%B %d, %Y\")))"
   ]
  },
  {
   "cell_type": "code",
   "execution_count": 5,
   "metadata": {
    "execution": {
     "iopub.execute_input": "2020-11-12T10:09:27.694381Z",
     "iopub.status.busy": "2020-11-12T10:09:27.693846Z",
     "iopub.status.idle": "2020-11-12T10:09:27.697034Z",
     "shell.execute_reply": "2020-11-12T10:09:27.696574Z"
    },
    "jupyter": {
     "source_hidden": true
    },
    "papermill": {
     "duration": 0.015608,
     "end_time": "2020-11-12T10:09:27.697150",
     "exception": false,
     "start_time": "2020-11-12T10:09:27.681542",
     "status": "completed"
    },
    "tags": [
     "hide-input"
    ]
   },
   "outputs": [
    {
     "data": {
      "text/markdown": [
       "# Dunn County has 1735 total positive cases, with 74 new cases reported today."
      ],
      "text/plain": [
       "<IPython.core.display.Markdown object>"
      ]
     },
     "metadata": {},
     "output_type": "display_data"
    }
   ],
   "source": [
    "display(Markdown('# Dunn County has ' + str(dc.iloc[-1]['POSITIVE']) + ' total positive cases, with '+ str(int(dc.iloc[-1]['POS_NEW'])) + ' new cases reported today.'))"
   ]
  },
  {
   "cell_type": "code",
   "execution_count": 6,
   "metadata": {
    "execution": {
     "iopub.execute_input": "2020-11-12T10:09:27.718147Z",
     "iopub.status.busy": "2020-11-12T10:09:27.717616Z",
     "iopub.status.idle": "2020-11-12T10:09:27.948330Z",
     "shell.execute_reply": "2020-11-12T10:09:27.947852Z"
    },
    "jupyter": {
     "source_hidden": true
    },
    "papermill": {
     "duration": 0.243547,
     "end_time": "2020-11-12T10:09:27.948466",
     "exception": false,
     "start_time": "2020-11-12T10:09:27.704919",
     "status": "completed"
    },
    "scrolled": false,
    "tags": [
     "hide-input"
    ]
   },
   "outputs": [
    {
     "data": {
      "image/png": "[encoded data removed]",
      "text/plain": [
       "<Figure size 864x432 with 1 Axes>"
      ]
     },
     "metadata": {
      "needs_background": "light"
     },
     "output_type": "display_data"
    }
   ],
   "source": [
    "dc.plot(x='DATE',y='POSITIVE',color='red',grid='True',figsize=(12,6)).set_xlabel('Date');"
   ]
  },
  {
   "cell_type": "markdown",
   "metadata": {
    "papermill": {
     "duration": 0.009004,
     "end_time": "2020-11-12T10:09:27.966414",
     "exception": false,
     "start_time": "2020-11-12T10:09:27.957410",
     "status": "completed"
    },
    "tags": []
   },
   "source": [
    "## Figure 1: Cummulative number of positive cases."
   ]
  },
  {
   "cell_type": "code",
   "execution_count": 7,
   "metadata": {
    "execution": {
     "iopub.execute_input": "2020-11-12T10:09:27.989224Z",
     "iopub.status.busy": "2020-11-12T10:09:27.988692Z",
     "iopub.status.idle": "2020-11-12T10:09:28.191752Z",
     "shell.execute_reply": "2020-11-12T10:09:28.192186Z"
    },
    "jupyter": {
     "source_hidden": true
    },
    "papermill": {
     "duration": 0.21723,
     "end_time": "2020-11-12T10:09:28.192349",
     "exception": false,
     "start_time": "2020-11-12T10:09:27.975119",
     "status": "completed"
    },
    "scrolled": false,
    "tags": [
     "hide-input"
    ]
   },
   "outputs": [
    {
     "data": {
      "image/png": "[encoded data removed]",
      "text/plain": [
       "<Figure size 864x432 with 1 Axes>"
      ]
     },
     "metadata": {
      "needs_background": "light"
     },
     "output_type": "display_data"
    }
   ],
   "source": [
    "dc.plot(kind='line',x='DATE',y='7_DAY',color='blue',grid='True',figsize=(12,6)).set_xlabel('Date');"
   ]
  },
  {
   "cell_type": "markdown",
   "metadata": {
    "papermill": {
     "duration": 0.00955,
     "end_time": "2020-11-12T10:09:28.213580",
     "exception": false,
     "start_time": "2020-11-12T10:09:28.204030",
     "status": "completed"
    },
    "tags": []
   },
   "source": [
    "## Figure 2: Rolling 7-day average of daily new cases."
   ]
  },
  {
   "cell_type": "code",
   "execution_count": 8,
   "metadata": {
    "execution": {
     "iopub.execute_input": "2020-11-12T10:09:28.238794Z",
     "iopub.status.busy": "2020-11-12T10:09:28.238257Z",
     "iopub.status.idle": "2020-11-12T10:09:28.439232Z",
     "shell.execute_reply": "2020-11-12T10:09:28.439678Z"
    },
    "jupyter": {
     "source_hidden": true
    },
    "papermill": {
     "duration": 0.216843,
     "end_time": "2020-11-12T10:09:28.439841",
     "exception": false,
     "start_time": "2020-11-12T10:09:28.222998",
     "status": "completed"
    },
    "tags": []
   },
   "outputs": [
    {
     "data": {
      "image/png": "[encoded data removed]",
      "text/plain": [
       "<Figure size 864x432 with 1 Axes>"
      ]
     },
     "metadata": {
      "needs_background": "light"
     },
     "output_type": "display_data"
    }
   ],
   "source": [
    "dc.plot(kind='line',x='DATE',y='14_DAY',color='green',grid='True',figsize=(12,6)).set_xlabel('Date');"
   ]
  },
  {
   "cell_type": "markdown",
   "metadata": {
    "papermill": {
     "duration": 0.010808,
     "end_time": "2020-11-12T10:09:28.461759",
     "exception": false,
     "start_time": "2020-11-12T10:09:28.450951",
     "status": "completed"
    },
    "tags": []
   },
   "source": [
    "## Figure 3: Rolling 14-day average of daily new cases."
   ]
  },
  {
   "cell_type": "markdown",
   "metadata": {
    "papermill": {
     "duration": 0.010862,
     "end_time": "2020-11-12T10:09:28.483466",
     "exception": false,
     "start_time": "2020-11-12T10:09:28.472604",
     "status": "completed"
    },
    "tags": []
   },
   "source": [
    "Data source: [Wisconsin Department of Health Services](https://data.dhsgis.wi.gov/datasets/covid-19-historical-data-table/)"
   ]
  },
  {
   "cell_type": "code",
   "execution_count": 9,
   "metadata": {
    "execution": {
     "iopub.execute_input": "2020-11-12T10:09:28.515402Z",
     "iopub.status.busy": "2020-11-12T10:09:28.514825Z",
     "iopub.status.idle": "2020-11-12T10:09:28.518209Z",
     "shell.execute_reply": "2020-11-12T10:09:28.517757Z"
    },
    "jupyter": {
     "source_hidden": true
    },
    "papermill": {
     "duration": 0.021944,
     "end_time": "2020-11-12T10:09:28.518336",
     "exception": false,
     "start_time": "2020-11-12T10:09:28.496392",
     "status": "completed"
    },
    "tags": []
   },
   "outputs": [
    {
     "data": {
      "text/html": [
       "<style>\n",
       "div.input {\n",
       "    display:none;\n",
       "}\n",
       "</style>\n"
      ],
      "text/plain": [
       "<IPython.core.display.HTML object>"
      ]
     },
     "metadata": {},
     "output_type": "display_data"
    }
   ],
   "source": [
    "%%html\n",
    "<style>\n",
    "div.input {\n",
    "    display:none;\n",
    "}\n",
    "</style>"
   ]
  }
 ],
 "metadata": {
  "kernelspec": {
   "display_name": "Python 3",
   "language": "python",
   "name": "python3"
  },
  "language_info": {
   "codemirror_mode": {
    "name": "ipython",
    "version": 3
   },
   "file_extension": ".py",
   "mimetype": "text/x-python",
   "name": "python",
   "nbconvert_exporter": "python",
   "pygments_lexer": "ipython3",
   "version": "3.8.6"
  },
  "papermill": {
   "duration": 6.50121,
   "end_time": "2020-11-12T10:09:28.836526",
   "environment_variables": {},
   "exception": null,
   "input_path": "DunnCounty_COVID19.ipynb",
   "output_path": "DunnCounty_COVID19.ipynb",
   "parameters": {
    "Start": "True",
    "secretsPath": "/home/runner/work/_temp/secrets.json"
   },
   "start_time": "2020-11-12T10:09:22.335316",
   "version": "1.1.16"
  }
 },
 "nbformat": 4,
 "nbformat_minor": 2
}