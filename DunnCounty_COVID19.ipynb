{
 "cells": [
  {
   "cell_type": "code",
   "execution_count": 1,
   "id": "solar-understanding",
   "metadata": {
    "execution": {
     "iopub.execute_input": "2021-05-07T10:12:45.212521Z",
     "iopub.status.busy": "2021-05-07T10:12:45.211919Z",
     "iopub.status.idle": "2021-05-07T10:12:46.017460Z",
     "shell.execute_reply": "2021-05-07T10:12:46.016514Z"
    },
    "jupyter": {
     "source_hidden": true
    },
    "papermill": {
     "duration": 0.824714,
     "end_time": "2021-05-07T10:12:46.017616",
     "exception": false,
     "start_time": "2021-05-07T10:12:45.192902",
     "status": "completed"
    },
    "scrolled": true,
    "tags": [
     "hide-input"
    ]
   },
   "outputs": [],
   "source": [
    "import pandas as pd\n",
    "import matplotlib.pyplot as plt\n",
    "from matplotlib import dates\n",
    "from IPython.display import display, Markdown\n",
    "%matplotlib inline"
   ]
  },
  {
   "cell_type": "code",
   "execution_count": 2,
   "id": "purple-playlist",
   "metadata": {
    "execution": {
     "iopub.execute_input": "2021-05-07T10:12:46.043235Z",
     "iopub.status.busy": "2021-05-07T10:12:46.042634Z",
     "iopub.status.idle": "2021-05-07T10:12:46.797493Z",
     "shell.execute_reply": "2021-05-07T10:12:46.796966Z"
    },
    "jupyter": {
     "source_hidden": true
    },
    "papermill": {
     "duration": 0.770434,
     "end_time": "2021-05-07T10:12:46.797632",
     "exception": false,
     "start_time": "2021-05-07T10:12:46.027198",
     "status": "completed"
    },
    "scrolled": true,
    "tags": [
     "hide-input"
    ]
   },
   "outputs": [],
   "source": [
    "# This is the data for all of Wisconsin.\n",
    "url = \"https://opendata.arcgis.com/datasets/80ff9d4897db4d7692f0f4ad28447cab_12.csv\"\n",
    "data = pd.read_csv(url, parse_dates=['DATE'], low_memory=False)"
   ]
  },
  {
   "cell_type": "code",
   "execution_count": 3,
   "id": "proprietary-klein",
   "metadata": {
    "execution": {
     "iopub.execute_input": "2021-05-07T10:12:46.821830Z",
     "iopub.status.busy": "2021-05-07T10:12:46.820986Z",
     "iopub.status.idle": "2021-05-07T10:12:46.831760Z",
     "shell.execute_reply": "2021-05-07T10:12:46.831270Z"
    },
    "jupyter": {
     "source_hidden": true
    },
    "papermill": {
     "duration": 0.024731,
     "end_time": "2021-05-07T10:12:46.831881",
     "exception": false,
     "start_time": "2021-05-07T10:12:46.807150",
     "status": "completed"
    },
    "scrolled": true,
    "tags": [
     "hide-input"
    ]
   },
   "outputs": [],
   "source": [
    "dc = data.groupby('NAME').get_group('Dunn').sort_values(by='DATE') # Select the data for Dunn County from the full data.\n",
    "PNi = dc.columns.get_loc(\"POS_NEW\")\n",
    "dc['7_DAY'] = dc.iloc[:,PNi].rolling(window=7).mean() # Calculates the rolling 7-day average of new cases.\n",
    "dc['14_DAY'] = dc.iloc[:,PNi].rolling(window=14).mean() # Calculates the rolling 14-day average of new cases."
   ]
  },
  {
   "cell_type": "code",
   "execution_count": 4,
   "id": "steady-supervision",
   "metadata": {
    "execution": {
     "iopub.execute_input": "2021-05-07T10:12:46.856785Z",
     "iopub.status.busy": "2021-05-07T10:12:46.856193Z",
     "iopub.status.idle": "2021-05-07T10:12:46.859671Z",
     "shell.execute_reply": "2021-05-07T10:12:46.859049Z"
    },
    "jupyter": {
     "source_hidden": true
    },
    "papermill": {
     "duration": 0.018607,
     "end_time": "2021-05-07T10:12:46.859798",
     "exception": false,
     "start_time": "2021-05-07T10:12:46.841191",
     "status": "completed"
    },
    "scrolled": true,
    "tags": [
     "hide-input"
    ]
   },
   "outputs": [
    {
     "data": {
      "text/markdown": [
       "### Last updated: May 06, 2021"
      ],
      "text/plain": [
       "<IPython.core.display.Markdown object>"
      ]
     },
     "metadata": {},
     "output_type": "display_data"
    }
   ],
   "source": [
    "display(Markdown('### Last updated: ' + dc.iloc[-1]['DATE'].strftime(\"%B %d, %Y\")))"
   ]
  },
  {
   "cell_type": "code",
   "execution_count": 5,
   "id": "lonely-pitch",
   "metadata": {
    "execution": {
     "iopub.execute_input": "2021-05-07T10:12:46.883927Z",
     "iopub.status.busy": "2021-05-07T10:12:46.883344Z",
     "iopub.status.idle": "2021-05-07T10:12:46.886623Z",
     "shell.execute_reply": "2021-05-07T10:12:46.886080Z"
    },
    "jupyter": {
     "source_hidden": true
    },
    "papermill": {
     "duration": 0.017489,
     "end_time": "2021-05-07T10:12:46.886741",
     "exception": false,
     "start_time": "2021-05-07T10:12:46.869252",
     "status": "completed"
    },
    "tags": [
     "hide-input"
    ]
   },
   "outputs": [
    {
     "data": {
      "text/markdown": [
       "# Dunn County has 4638 total positive cases, with 5 new cases reported today."
      ],
      "text/plain": [
       "<IPython.core.display.Markdown object>"
      ]
     },
     "metadata": {},
     "output_type": "display_data"
    }
   ],
   "source": [
    "display(Markdown('# Dunn County has ' + str(dc.iloc[-1]['POSITIVE']) + ' total positive cases, with '+ str(int(dc.iloc[-1]['POS_NEW'])) + ' new cases reported today.'))"
   ]
  },
  {
   "cell_type": "code",
   "execution_count": 6,
   "id": "compound-nightmare",
   "metadata": {
    "execution": {
     "iopub.execute_input": "2021-05-07T10:12:46.911881Z",
     "iopub.status.busy": "2021-05-07T10:12:46.911296Z",
     "iopub.status.idle": "2021-05-07T10:12:47.206105Z",
     "shell.execute_reply": "2021-05-07T10:12:47.206598Z"
    },
    "jupyter": {
     "source_hidden": true
    },
    "papermill": {
     "duration": 0.308988,
     "end_time": "2021-05-07T10:12:47.206763",
     "exception": false,
     "start_time": "2021-05-07T10:12:46.897775",
     "status": "completed"
    },
    "scrolled": false,
    "tags": [
     "hide-input"
    ]
   },
   "outputs": [
    {
     "data": {
      "image/png": "[encoded data removed]",
      "text/plain": [
       "<Figure size 864x432 with 1 Axes>"
      ]
     },
     "metadata": {
      "needs_background": "light"
     },
     "output_type": "display_data"
    }
   ],
   "source": [
    "dc.plot(x='DATE',y='POSITIVE',color='red',grid='True',figsize=(12,6)).set_xlabel('Date');"
   ]
  },
  {
   "cell_type": "markdown",
   "id": "coupled-literacy",
   "metadata": {
    "papermill": {
     "duration": 0.011181,
     "end_time": "2021-05-07T10:12:47.229109",
     "exception": false,
     "start_time": "2021-05-07T10:12:47.217928",
     "status": "completed"
    },
    "tags": []
   },
   "source": [
    "## Figure 1: Cummulative number of positive cases."
   ]
  },
  {
   "cell_type": "code",
   "execution_count": 7,
   "id": "surrounded-reserve",
   "metadata": {
    "execution": {
     "iopub.execute_input": "2021-05-07T10:12:47.254986Z",
     "iopub.status.busy": "2021-05-07T10:12:47.254405Z",
     "iopub.status.idle": "2021-05-07T10:12:47.496194Z",
     "shell.execute_reply": "2021-05-07T10:12:47.496679Z"
    },
    "jupyter": {
     "source_hidden": true
    },
    "papermill": {
     "duration": 0.257005,
     "end_time": "2021-05-07T10:12:47.496837",
     "exception": false,
     "start_time": "2021-05-07T10:12:47.239832",
     "status": "completed"
    },
    "scrolled": false,
    "tags": [
     "hide-input"
    ]
   },
   "outputs": [
    {
     "data": {
      "image/png": "[encoded data removed]",
      "text/plain": [
       "<Figure size 864x432 with 1 Axes>"
      ]
     },
     "metadata": {
      "needs_background": "light"
     },
     "output_type": "display_data"
    }
   ],
   "source": [
    "dc.plot(kind='line',x='DATE',y='7_DAY',color='blue',grid='True',figsize=(12,6)).set_xlabel('Date');"
   ]
  },
  {
   "cell_type": "markdown",
   "id": "professional-savannah",
   "metadata": {
    "papermill": {
     "duration": 0.011973,
     "end_time": "2021-05-07T10:12:47.520845",
     "exception": false,
     "start_time": "2021-05-07T10:12:47.508872",
     "status": "completed"
    },
    "tags": []
   },
   "source": [
    "## Figure 2: Rolling 7-day average of daily new cases."
   ]
  },
  {
   "cell_type": "code",
   "execution_count": 8,
   "id": "stretch-investor",
   "metadata": {
    "execution": {
     "iopub.execute_input": "2021-05-07T10:12:47.548610Z",
     "iopub.status.busy": "2021-05-07T10:12:47.548027Z",
     "iopub.status.idle": "2021-05-07T10:12:47.795087Z",
     "shell.execute_reply": "2021-05-07T10:12:47.794580Z"
    },
    "jupyter": {
     "source_hidden": true
    },
    "papermill": {
     "duration": 0.262588,
     "end_time": "2021-05-07T10:12:47.795224",
     "exception": false,
     "start_time": "2021-05-07T10:12:47.532636",
     "status": "completed"
    },
    "tags": []
   },
   "outputs": [
    {
     "data": {
      "image/png": "[encoded data removed]",
      "text/plain": [
       "<Figure size 864x432 with 1 Axes>"
      ]
     },
     "metadata": {
      "needs_background": "light"
     },
     "output_type": "display_data"
    }
   ],
   "source": [
    "dc.plot(kind='line',x='DATE',y='14_DAY',color='green',grid='True',figsize=(12,6)).set_xlabel('Date');"
   ]
  },
  {
   "cell_type": "markdown",
   "id": "prerequisite-species",
   "metadata": {
    "papermill": {
     "duration": 0.012891,
     "end_time": "2021-05-07T10:12:47.821547",
     "exception": false,
     "start_time": "2021-05-07T10:12:47.808656",
     "status": "completed"
    },
    "tags": []
   },
   "source": [
    "## Figure 3: Rolling 14-day average of daily new cases."
   ]
  },
  {
   "cell_type": "markdown",
   "id": "palestinian-guard",
   "metadata": {
    "papermill": {
     "duration": 0.013419,
     "end_time": "2021-05-07T10:12:47.847810",
     "exception": false,
     "start_time": "2021-05-07T10:12:47.834391",
     "status": "completed"
    },
    "tags": []
   },
   "source": [
    "Data source: [Wisconsin Department of Health Services](https://data.dhsgis.wi.gov/datasets/covid-19-historical-data-by-county)"
   ]
  },
  {
   "cell_type": "code",
   "execution_count": 9,
   "id": "proof-medicare",
   "metadata": {
    "execution": {
     "iopub.execute_input": "2021-05-07T10:12:47.877632Z",
     "iopub.status.busy": "2021-05-07T10:12:47.876875Z",
     "iopub.status.idle": "2021-05-07T10:12:47.880637Z",
     "shell.execute_reply": "2021-05-07T10:12:47.881150Z"
    },
    "jupyter": {
     "source_hidden": true
    },
    "papermill": {
     "duration": 0.020846,
     "end_time": "2021-05-07T10:12:47.881289",
     "exception": false,
     "start_time": "2021-05-07T10:12:47.860443",
     "status": "completed"
    },
    "tags": []
   },
   "outputs": [
    {
     "data": {
      "text/html": [
       "<style>\n",
       "div.input {\n",
       "    display:none;\n",
       "}\n",
       "</style>\n"
      ],
      "text/plain": [
       "<IPython.core.display.HTML object>"
      ]
     },
     "metadata": {},
     "output_type": "display_data"
    }
   ],
   "source": [
    "%%html\n",
    "<style>\n",
    "div.input {\n",
    "    display:none;\n",
    "}\n",
    "</style>"
   ]
  }
 ],
 "metadata": {
  "kernelspec": {
   "display_name": "Python 3",
   "language": "python",
   "name": "python3"
  },
  "language_info": {
   "codemirror_mode": {
    "name": "ipython",
    "version": 3
   },
   "file_extension": ".py",
   "mimetype": "text/x-python",
   "name": "python",
   "nbconvert_exporter": "python",
   "pygments_lexer": "ipython3",
   "version": "3.8.10"
  },
  "papermill": {
   "duration": 4.405704,
   "end_time": "2021-05-07T10:12:48.200424",
   "environment_variables": {},
   "exception": null,
   "input_path": "DunnCounty_COVID19.ipynb",
   "output_path": "DunnCounty_COVID19.ipynb",
   "parameters": {
    "Start": "True",
    "secretsPath": "/home/runner/work/_temp/secrets.json"
   },
   "start_time": "2021-05-07T10:12:43.794720",
   "version": "1.1.16"
  }
 },
 "nbformat": 4,
 "nbformat_minor": 5
}