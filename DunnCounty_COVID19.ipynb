{
 "cells": [
  {
   "cell_type": "code",
   "execution_count": 1,
   "metadata": {
    "execution": {
     "iopub.execute_input": "2021-01-04T22:21:53.491916Z",
     "iopub.status.busy": "2021-01-04T22:21:53.491430Z",
     "iopub.status.idle": "2021-01-04T22:21:54.537931Z",
     "shell.execute_reply": "2021-01-04T22:21:54.537346Z"
    },
    "jupyter": {
     "source_hidden": true
    },
    "papermill": {
     "duration": 1.065269,
     "end_time": "2021-01-04T22:21:54.538117",
     "exception": false,
     "start_time": "2021-01-04T22:21:53.472848",
     "status": "completed"
    },
    "scrolled": true,
    "tags": [
     "hide-input"
    ]
   },
   "outputs": [],
   "source": [
    "import pandas as pd\n",
    "import matplotlib.pyplot as plt\n",
    "from matplotlib import dates\n",
    "from IPython.display import display, Markdown\n",
    "%matplotlib inline"
   ]
  },
  {
   "cell_type": "code",
   "execution_count": 2,
   "metadata": {
    "execution": {
     "iopub.execute_input": "2021-01-04T22:21:54.557005Z",
     "iopub.status.busy": "2021-01-04T22:21:54.556542Z",
     "iopub.status.idle": "2021-01-04T22:21:55.108757Z",
     "shell.execute_reply": "2021-01-04T22:21:55.109207Z"
    },
    "jupyter": {
     "source_hidden": true
    },
    "papermill": {
     "duration": 0.563692,
     "end_time": "2021-01-04T22:21:55.109387",
     "exception": false,
     "start_time": "2021-01-04T22:21:54.545695",
     "status": "completed"
    },
    "scrolled": true,
    "tags": [
     "hide-input"
    ]
   },
   "outputs": [],
   "source": [
    "# This is the data for all of Wisconsin.\n",
    "url = \"https://opendata.arcgis.com/datasets/5374188992374b318d3e2305216ee413_12.csv\"\n",
    "data = pd.read_csv(url, parse_dates=['DATE'], low_memory=False)"
   ]
  },
  {
   "cell_type": "code",
   "execution_count": 3,
   "metadata": {
    "execution": {
     "iopub.execute_input": "2021-01-04T22:21:55.128273Z",
     "iopub.status.busy": "2021-01-04T22:21:55.127786Z",
     "iopub.status.idle": "2021-01-04T22:21:55.134726Z",
     "shell.execute_reply": "2021-01-04T22:21:55.135109Z"
    },
    "jupyter": {
     "source_hidden": true
    },
    "papermill": {
     "duration": 0.018579,
     "end_time": "2021-01-04T22:21:55.135248",
     "exception": false,
     "start_time": "2021-01-04T22:21:55.116669",
     "status": "completed"
    },
    "scrolled": true,
    "tags": [
     "hide-input"
    ]
   },
   "outputs": [],
   "source": [
    "dc = data.groupby('NAME').get_group('Dunn').sort_values(by='DATE') # Select the data for Dunn County from the full data.\n",
    "PNi = dc.columns.get_loc(\"POS_NEW\")\n",
    "dc['7_DAY'] = dc.iloc[:,PNi].rolling(window=7).mean() # Calculates the rolling 7-day average of new cases.\n",
    "dc['14_DAY'] = dc.iloc[:,PNi].rolling(window=14).mean() # Calculates the rolling 14-day average of new cases."
   ]
  },
  {
   "cell_type": "code",
   "execution_count": 4,
   "metadata": {
    "execution": {
     "iopub.execute_input": "2021-01-04T22:21:55.152723Z",
     "iopub.status.busy": "2021-01-04T22:21:55.152261Z",
     "iopub.status.idle": "2021-01-04T22:21:55.154583Z",
     "shell.execute_reply": "2021-01-04T22:21:55.154948Z"
    },
    "jupyter": {
     "source_hidden": true
    },
    "papermill": {
     "duration": 0.013689,
     "end_time": "2021-01-04T22:21:55.155099",
     "exception": false,
     "start_time": "2021-01-04T22:21:55.141410",
     "status": "completed"
    },
    "scrolled": true,
    "tags": [
     "hide-input"
    ]
   },
   "outputs": [
    {
     "data": {
      "text/markdown": [
       "### Last updated: January 04, 2021"
      ],
      "text/plain": [
       "<IPython.core.display.Markdown object>"
      ]
     },
     "metadata": {},
     "output_type": "display_data"
    }
   ],
   "source": [
    "display(Markdown('### Last updated: ' + dc.iloc[-1]['DATE'].strftime(\"%B %d, %Y\")))"
   ]
  },
  {
   "cell_type": "code",
   "execution_count": 5,
   "metadata": {
    "execution": {
     "iopub.execute_input": "2021-01-04T22:21:55.172158Z",
     "iopub.status.busy": "2021-01-04T22:21:55.171672Z",
     "iopub.status.idle": "2021-01-04T22:21:55.174453Z",
     "shell.execute_reply": "2021-01-04T22:21:55.173971Z"
    },
    "jupyter": {
     "source_hidden": true
    },
    "papermill": {
     "duration": 0.012924,
     "end_time": "2021-01-04T22:21:55.174564",
     "exception": false,
     "start_time": "2021-01-04T22:21:55.161640",
     "status": "completed"
    },
    "tags": [
     "hide-input"
    ]
   },
   "outputs": [
    {
     "data": {
      "text/markdown": [
       "# Dunn County has 3580 total positive cases, with 9 new cases reported today."
      ],
      "text/plain": [
       "<IPython.core.display.Markdown object>"
      ]
     },
     "metadata": {},
     "output_type": "display_data"
    }
   ],
   "source": [
    "display(Markdown('# Dunn County has ' + str(dc.iloc[-1]['POSITIVE']) + ' total positive cases, with '+ str(int(dc.iloc[-1]['POS_NEW'])) + ' new cases reported today.'))"
   ]
  },
  {
   "cell_type": "code",
   "execution_count": 6,
   "metadata": {
    "execution": {
     "iopub.execute_input": "2021-01-04T22:21:55.191572Z",
     "iopub.status.busy": "2021-01-04T22:21:55.191119Z",
     "iopub.status.idle": "2021-01-04T22:21:55.401841Z",
     "shell.execute_reply": "2021-01-04T22:21:55.402268Z"
    },
    "jupyter": {
     "source_hidden": true
    },
    "papermill": {
     "duration": 0.220971,
     "end_time": "2021-01-04T22:21:55.402430",
     "exception": false,
     "start_time": "2021-01-04T22:21:55.181459",
     "status": "completed"
    },
    "scrolled": false,
    "tags": [
     "hide-input"
    ]
   },
   "outputs": [
    {
     "data": {
      "image/png": "[encoded data removed]",
      "text/plain": [
       "<Figure size 864x432 with 1 Axes>"
      ]
     },
     "metadata": {
      "needs_background": "light"
     },
     "output_type": "display_data"
    }
   ],
   "source": [
    "dc.plot(x='DATE',y='POSITIVE',color='red',grid='True',figsize=(12,6)).set_xlabel('Date');"
   ]
  },
  {
   "cell_type": "markdown",
   "metadata": {
    "papermill": {
     "duration": 0.00796,
     "end_time": "2021-01-04T22:21:55.419182",
     "exception": false,
     "start_time": "2021-01-04T22:21:55.411222",
     "status": "completed"
    },
    "tags": []
   },
   "source": [
    "## Figure 1: Cummulative number of positive cases."
   ]
  },
  {
   "cell_type": "code",
   "execution_count": 7,
   "metadata": {
    "execution": {
     "iopub.execute_input": "2021-01-04T22:21:55.438421Z",
     "iopub.status.busy": "2021-01-04T22:21:55.437970Z",
     "iopub.status.idle": "2021-01-04T22:21:55.634696Z",
     "shell.execute_reply": "2021-01-04T22:21:55.635089Z"
    },
    "jupyter": {
     "source_hidden": true
    },
    "papermill": {
     "duration": 0.208439,
     "end_time": "2021-01-04T22:21:55.635253",
     "exception": false,
     "start_time": "2021-01-04T22:21:55.426814",
     "status": "completed"
    },
    "scrolled": false,
    "tags": [
     "hide-input"
    ]
   },
   "outputs": [
    {
     "data": {
      "image/png": "[encoded data removed]",
      "text/plain": [
       "<Figure size 864x432 with 1 Axes>"
      ]
     },
     "metadata": {
      "needs_background": "light"
     },
     "output_type": "display_data"
    }
   ],
   "source": [
    "dc.plot(kind='line',x='DATE',y='7_DAY',color='blue',grid='True',figsize=(12,6)).set_xlabel('Date');"
   ]
  },
  {
   "cell_type": "markdown",
   "metadata": {
    "papermill": {
     "duration": 0.008839,
     "end_time": "2021-01-04T22:21:55.652839",
     "exception": false,
     "start_time": "2021-01-04T22:21:55.644000",
     "status": "completed"
    },
    "tags": []
   },
   "source": [
    "## Figure 2: Rolling 7-day average of daily new cases."
   ]
  },
  {
   "cell_type": "code",
   "execution_count": 8,
   "metadata": {
    "execution": {
     "iopub.execute_input": "2021-01-04T22:21:55.673848Z",
     "iopub.status.busy": "2021-01-04T22:21:55.673392Z",
     "iopub.status.idle": "2021-01-04T22:21:55.868977Z",
     "shell.execute_reply": "2021-01-04T22:21:55.869352Z"
    },
    "jupyter": {
     "source_hidden": true
    },
    "papermill": {
     "duration": 0.208237,
     "end_time": "2021-01-04T22:21:55.869504",
     "exception": false,
     "start_time": "2021-01-04T22:21:55.661267",
     "status": "completed"
    },
    "tags": []
   },
   "outputs": [
    {
     "data": {
      "image/png": "[encoded data removed]",
      "text/plain": [
       "<Figure size 864x432 with 1 Axes>"
      ]
     },
     "metadata": {
      "needs_background": "light"
     },
     "output_type": "display_data"
    }
   ],
   "source": [
    "dc.plot(kind='line',x='DATE',y='14_DAY',color='green',grid='True',figsize=(12,6)).set_xlabel('Date');"
   ]
  },
  {
   "cell_type": "markdown",
   "metadata": {
    "papermill": {
     "duration": 0.009887,
     "end_time": "2021-01-04T22:21:55.889729",
     "exception": false,
     "start_time": "2021-01-04T22:21:55.879842",
     "status": "completed"
    },
    "tags": []
   },
   "source": [
    "## Figure 3: Rolling 14-day average of daily new cases."
   ]
  },
  {
   "cell_type": "markdown",
   "metadata": {
    "papermill": {
     "duration": 0.009224,
     "end_time": "2021-01-04T22:21:55.908390",
     "exception": false,
     "start_time": "2021-01-04T22:21:55.899166",
     "status": "completed"
    },
    "tags": []
   },
   "source": [
    "Data source: [Wisconsin Department of Health Services](https://data.dhsgis.wi.gov/datasets/covid-19-historical-data-table/)"
   ]
  },
  {
   "cell_type": "code",
   "execution_count": 9,
   "metadata": {
    "execution": {
     "iopub.execute_input": "2021-01-04T22:21:55.930926Z",
     "iopub.status.busy": "2021-01-04T22:21:55.930471Z",
     "iopub.status.idle": "2021-01-04T22:21:55.933303Z",
     "shell.execute_reply": "2021-01-04T22:21:55.933648Z"
    },
    "jupyter": {
     "source_hidden": true
    },
    "papermill": {
     "duration": 0.01606,
     "end_time": "2021-01-04T22:21:55.933782",
     "exception": false,
     "start_time": "2021-01-04T22:21:55.917722",
     "status": "completed"
    },
    "tags": []
   },
   "outputs": [
    {
     "data": {
      "text/html": [
       "<style>\n",
       "div.input {\n",
       "    display:none;\n",
       "}\n",
       "</style>\n"
      ],
      "text/plain": [
       "<IPython.core.display.HTML object>"
      ]
     },
     "metadata": {},
     "output_type": "display_data"
    }
   ],
   "source": [
    "%%html\n",
    "<style>\n",
    "div.input {\n",
    "    display:none;\n",
    "}\n",
    "</style>"
   ]
  }
 ],
 "metadata": {
  "kernelspec": {
   "display_name": "Python 3",
   "language": "python",
   "name": "python3"
  },
  "language_info": {
   "codemirror_mode": {
    "name": "ipython",
    "version": 3
   },
   "file_extension": ".py",
   "mimetype": "text/x-python",
   "name": "python",
   "nbconvert_exporter": "python",
   "pygments_lexer": "ipython3",
   "version": "3.8.6"
  },
  "papermill": {
   "duration": 4.08242,
   "end_time": "2021-01-04T22:21:56.250063",
   "environment_variables": {},
   "exception": null,
   "input_path": "DunnCounty_COVID19.ipynb",
   "output_path": "DunnCounty_COVID19.ipynb",
   "parameters": {
    "Start": "True",
    "secretsPath": "/home/runner/work/_temp/secrets.json"
   },
   "start_time": "2021-01-04T22:21:52.167643",
   "version": "1.1.16"
  }
 },
 "nbformat": 4,
 "nbformat_minor": 2
}