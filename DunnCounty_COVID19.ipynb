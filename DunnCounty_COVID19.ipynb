{
 "cells": [
  {
   "cell_type": "code",
   "execution_count": 1,
   "metadata": {
    "execution": {
     "iopub.execute_input": "2020-11-02T10:15:02.752222Z",
     "iopub.status.busy": "2020-11-02T10:15:02.751481Z",
     "iopub.status.idle": "2020-11-02T10:15:04.971686Z",
     "shell.execute_reply": "2020-11-02T10:15:04.970381Z"
    },
    "jupyter": {
     "source_hidden": true
    },
    "papermill": {
     "duration": 2.235693,
     "end_time": "2020-11-02T10:15:04.971997",
     "exception": false,
     "start_time": "2020-11-02T10:15:02.736304",
     "status": "completed"
    },
    "scrolled": true,
    "tags": [
     "hide-input"
    ]
   },
   "outputs": [],
   "source": [
    "import pandas as pd\n",
    "import matplotlib.pyplot as plt\n",
    "from matplotlib import dates\n",
    "from IPython.display import display, Markdown\n",
    "%matplotlib inline"
   ]
  },
  {
   "cell_type": "code",
   "execution_count": 2,
   "metadata": {
    "execution": {
     "iopub.execute_input": "2020-11-02T10:15:04.995103Z",
     "iopub.status.busy": "2020-11-02T10:15:04.994370Z",
     "iopub.status.idle": "2020-11-02T10:15:05.639667Z",
     "shell.execute_reply": "2020-11-02T10:15:05.639148Z"
    },
    "jupyter": {
     "source_hidden": true
    },
    "papermill": {
     "duration": 0.658747,
     "end_time": "2020-11-02T10:15:05.639803",
     "exception": false,
     "start_time": "2020-11-02T10:15:04.981056",
     "status": "completed"
    },
    "scrolled": true,
    "tags": [
     "hide-input"
    ]
   },
   "outputs": [],
   "source": [
    "# This is the data for all of Wisconsin.\n",
    "url = \"https://opendata.arcgis.com/datasets/5374188992374b318d3e2305216ee413_12.csv\"\n",
    "data = pd.read_csv(url, parse_dates=['DATE'], low_memory=False)"
   ]
  },
  {
   "cell_type": "code",
   "execution_count": 3,
   "metadata": {
    "execution": {
     "iopub.execute_input": "2020-11-02T10:15:05.663287Z",
     "iopub.status.busy": "2020-11-02T10:15:05.662710Z",
     "iopub.status.idle": "2020-11-02T10:15:05.672692Z",
     "shell.execute_reply": "2020-11-02T10:15:05.672231Z"
    },
    "jupyter": {
     "source_hidden": true
    },
    "papermill": {
     "duration": 0.02397,
     "end_time": "2020-11-02T10:15:05.672816",
     "exception": false,
     "start_time": "2020-11-02T10:15:05.648846",
     "status": "completed"
    },
    "scrolled": true,
    "tags": [
     "hide-input"
    ]
   },
   "outputs": [],
   "source": [
    "dc = data.groupby('NAME').get_group('Dunn').sort_values(by='DATE') # Select the data for Dunn County from the full data.\n",
    "PNi = dc.columns.get_loc(\"POS_NEW\")\n",
    "dc['7_DAY'] = dc.iloc[:,PNi].rolling(window=7).mean() # Calculates the rolling 7-day average of new cases.\n",
    "dc['14_DAY'] = dc.iloc[:,PNi].rolling(window=14).mean() # Calculates the rolling 14-day average of new cases."
   ]
  },
  {
   "cell_type": "code",
   "execution_count": 4,
   "metadata": {
    "execution": {
     "iopub.execute_input": "2020-11-02T10:15:05.694316Z",
     "iopub.status.busy": "2020-11-02T10:15:05.689446Z",
     "iopub.status.idle": "2020-11-02T10:15:05.697236Z",
     "shell.execute_reply": "2020-11-02T10:15:05.697681Z"
    },
    "jupyter": {
     "source_hidden": true
    },
    "papermill": {
     "duration": 0.017832,
     "end_time": "2020-11-02T10:15:05.697817",
     "exception": false,
     "start_time": "2020-11-02T10:15:05.679985",
     "status": "completed"
    },
    "scrolled": true,
    "tags": [
     "hide-input"
    ]
   },
   "outputs": [
    {
     "data": {
      "text/markdown": [
       "### Last updated: November 01, 2020"
      ],
      "text/plain": [
       "<IPython.core.display.Markdown object>"
      ]
     },
     "metadata": {},
     "output_type": "display_data"
    }
   ],
   "source": [
    "display(Markdown('### Last updated: ' + dc.iloc[-1]['DATE'].strftime(\"%B %d, %Y\")))"
   ]
  },
  {
   "cell_type": "code",
   "execution_count": 5,
   "metadata": {
    "execution": {
     "iopub.execute_input": "2020-11-02T10:15:05.718375Z",
     "iopub.status.busy": "2020-11-02T10:15:05.717776Z",
     "iopub.status.idle": "2020-11-02T10:15:05.720505Z",
     "shell.execute_reply": "2020-11-02T10:15:05.720951Z"
    },
    "jupyter": {
     "source_hidden": true
    },
    "papermill": {
     "duration": 0.015494,
     "end_time": "2020-11-02T10:15:05.721091",
     "exception": false,
     "start_time": "2020-11-02T10:15:05.705597",
     "status": "completed"
    },
    "tags": [
     "hide-input"
    ]
   },
   "outputs": [
    {
     "data": {
      "text/markdown": [
       "# Dunn County has 1193 total positive cases, with 16 new cases reported today."
      ],
      "text/plain": [
       "<IPython.core.display.Markdown object>"
      ]
     },
     "metadata": {},
     "output_type": "display_data"
    }
   ],
   "source": [
    "display(Markdown('# Dunn County has ' + str(dc.iloc[-1]['POSITIVE']) + ' total positive cases, with '+ str(int(dc.iloc[-1]['POS_NEW'])) + ' new cases reported today.'))"
   ]
  },
  {
   "cell_type": "code",
   "execution_count": 6,
   "metadata": {
    "execution": {
     "iopub.execute_input": "2020-11-02T10:15:05.741578Z",
     "iopub.status.busy": "2020-11-02T10:15:05.741020Z",
     "iopub.status.idle": "2020-11-02T10:15:05.982177Z",
     "shell.execute_reply": "2020-11-02T10:15:05.981458Z"
    },
    "jupyter": {
     "source_hidden": true
    },
    "papermill": {
     "duration": 0.253282,
     "end_time": "2020-11-02T10:15:05.982326",
     "exception": false,
     "start_time": "2020-11-02T10:15:05.729044",
     "status": "completed"
    },
    "scrolled": false,
    "tags": [
     "hide-input"
    ]
   },
   "outputs": [
    {
     "data": {
      "image/png": "[encoded data removed]",
      "text/plain": [
       "<Figure size 864x432 with 1 Axes>"
      ]
     },
     "metadata": {
      "needs_background": "light"
     },
     "output_type": "display_data"
    }
   ],
   "source": [
    "dc.plot(x='DATE',y='POSITIVE',color='red',grid='True',figsize=(12,6)).set_xlabel('Date');"
   ]
  },
  {
   "cell_type": "markdown",
   "metadata": {
    "papermill": {
     "duration": 0.009354,
     "end_time": "2020-11-02T10:15:06.000794",
     "exception": false,
     "start_time": "2020-11-02T10:15:05.991440",
     "status": "completed"
    },
    "tags": []
   },
   "source": [
    "## Figure 1: Cummulative number of positive cases."
   ]
  },
  {
   "cell_type": "code",
   "execution_count": 7,
   "metadata": {
    "execution": {
     "iopub.execute_input": "2020-11-02T10:15:06.023643Z",
     "iopub.status.busy": "2020-11-02T10:15:06.023084Z",
     "iopub.status.idle": "2020-11-02T10:15:06.245381Z",
     "shell.execute_reply": "2020-11-02T10:15:06.244847Z"
    },
    "jupyter": {
     "source_hidden": true
    },
    "papermill": {
     "duration": 0.235621,
     "end_time": "2020-11-02T10:15:06.245519",
     "exception": false,
     "start_time": "2020-11-02T10:15:06.009898",
     "status": "completed"
    },
    "scrolled": false,
    "tags": [
     "hide-input"
    ]
   },
   "outputs": [
    {
     "data": {
      "image/png": "[encoded data removed]",
      "text/plain": [
       "<Figure size 864x432 with 1 Axes>"
      ]
     },
     "metadata": {
      "needs_background": "light"
     },
     "output_type": "display_data"
    }
   ],
   "source": [
    "dc.plot(kind='line',x='DATE',y='7_DAY',color='blue',grid='True',figsize=(12,6)).set_xlabel('Date');"
   ]
  },
  {
   "cell_type": "markdown",
   "metadata": {
    "papermill": {
     "duration": 0.010158,
     "end_time": "2020-11-02T10:15:06.265881",
     "exception": false,
     "start_time": "2020-11-02T10:15:06.255723",
     "status": "completed"
    },
    "tags": []
   },
   "source": [
    "## Figure 2: Rolling 7-day average of daily new cases."
   ]
  },
  {
   "cell_type": "code",
   "execution_count": 8,
   "metadata": {
    "execution": {
     "iopub.execute_input": "2020-11-02T10:15:06.291519Z",
     "iopub.status.busy": "2020-11-02T10:15:06.290963Z",
     "iopub.status.idle": "2020-11-02T10:15:06.511652Z",
     "shell.execute_reply": "2020-11-02T10:15:06.512133Z"
    },
    "jupyter": {
     "source_hidden": true
    },
    "papermill": {
     "duration": 0.23654,
     "end_time": "2020-11-02T10:15:06.512300",
     "exception": false,
     "start_time": "2020-11-02T10:15:06.275760",
     "status": "completed"
    },
    "tags": []
   },
   "outputs": [
    {
     "data": {
      "image/png": "[encoded data removed]",
      "text/plain": [
       "<Figure size 864x432 with 1 Axes>"
      ]
     },
     "metadata": {
      "needs_background": "light"
     },
     "output_type": "display_data"
    }
   ],
   "source": [
    "dc.plot(kind='line',x='DATE',y='14_DAY',color='green',grid='True',figsize=(12,6)).set_xlabel('Date');"
   ]
  },
  {
   "cell_type": "markdown",
   "metadata": {
    "papermill": {
     "duration": 0.01154,
     "end_time": "2020-11-02T10:15:06.535756",
     "exception": false,
     "start_time": "2020-11-02T10:15:06.524216",
     "status": "completed"
    },
    "tags": []
   },
   "source": [
    "## Figure 3: Rolling 14-day average of daily new cases."
   ]
  },
  {
   "cell_type": "markdown",
   "metadata": {
    "papermill": {
     "duration": 0.011028,
     "end_time": "2020-11-02T10:15:06.558023",
     "exception": false,
     "start_time": "2020-11-02T10:15:06.546995",
     "status": "completed"
    },
    "tags": []
   },
   "source": [
    "Data source: [Wisconsin Department of Health Services](https://data.dhsgis.wi.gov/datasets/covid-19-historical-data-table/)"
   ]
  },
  {
   "cell_type": "code",
   "execution_count": 9,
   "metadata": {
    "execution": {
     "iopub.execute_input": "2020-11-02T10:15:06.586608Z",
     "iopub.status.busy": "2020-11-02T10:15:06.586016Z",
     "iopub.status.idle": "2020-11-02T10:15:06.591058Z",
     "shell.execute_reply": "2020-11-02T10:15:06.591800Z"
    },
    "jupyter": {
     "source_hidden": true
    },
    "papermill": {
     "duration": 0.022433,
     "end_time": "2020-11-02T10:15:06.591958",
     "exception": false,
     "start_time": "2020-11-02T10:15:06.569525",
     "status": "completed"
    },
    "tags": []
   },
   "outputs": [
    {
     "data": {
      "text/html": [
       "<style>\n",
       "div.input {\n",
       "    display:none;\n",
       "}\n",
       "</style>\n"
      ],
      "text/plain": [
       "<IPython.core.display.HTML object>"
      ]
     },
     "metadata": {},
     "output_type": "display_data"
    }
   ],
   "source": [
    "%%html\n",
    "<style>\n",
    "div.input {\n",
    "    display:none;\n",
    "}\n",
    "</style>"
   ]
  }
 ],
 "metadata": {
  "kernelspec": {
   "display_name": "Python 3",
   "language": "python",
   "name": "python3"
  },
  "language_info": {
   "codemirror_mode": {
    "name": "ipython",
    "version": 3
   },
   "file_extension": ".py",
   "mimetype": "text/x-python",
   "name": "python",
   "nbconvert_exporter": "python",
   "pygments_lexer": "ipython3",
   "version": "3.8.6"
  },
  "papermill": {
   "duration": 5.799342,
   "end_time": "2020-11-02T10:15:06.909863",
   "environment_variables": {},
   "exception": null,
   "input_path": "DunnCounty_COVID19.ipynb",
   "output_path": "DunnCounty_COVID19.ipynb",
   "parameters": {
    "Start": "True",
    "secretsPath": "/home/runner/work/_temp/secrets.json"
   },
   "start_time": "2020-11-02T10:15:01.110521",
   "version": "1.1.16"
  }
 },
 "nbformat": 4,
 "nbformat_minor": 2
}