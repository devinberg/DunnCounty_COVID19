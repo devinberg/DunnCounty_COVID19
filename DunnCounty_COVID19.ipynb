{
 "cells": [
  {
   "cell_type": "code",
   "execution_count": 1,
   "id": "solar-understanding",
   "metadata": {
    "execution": {
     "iopub.execute_input": "2021-02-09T22:13:20.881111Z",
     "iopub.status.busy": "2021-02-09T22:13:20.880390Z",
     "iopub.status.idle": "2021-02-09T22:13:22.985740Z",
     "shell.execute_reply": "2021-02-09T22:13:22.985062Z"
    },
    "jupyter": {
     "source_hidden": true
    },
    "papermill": {
     "duration": 2.125817,
     "end_time": "2021-02-09T22:13:22.985948",
     "exception": false,
     "start_time": "2021-02-09T22:13:20.860131",
     "status": "completed"
    },
    "scrolled": true,
    "tags": [
     "hide-input"
    ]
   },
   "outputs": [],
   "source": [
    "import pandas as pd\n",
    "import matplotlib.pyplot as plt\n",
    "from matplotlib import dates\n",
    "from IPython.display import display, Markdown\n",
    "%matplotlib inline"
   ]
  },
  {
   "cell_type": "code",
   "execution_count": 2,
   "id": "purple-playlist",
   "metadata": {
    "execution": {
     "iopub.execute_input": "2021-02-09T22:13:23.013274Z",
     "iopub.status.busy": "2021-02-09T22:13:23.012644Z",
     "iopub.status.idle": "2021-02-09T22:13:23.652922Z",
     "shell.execute_reply": "2021-02-09T22:13:23.652322Z"
    },
    "jupyter": {
     "source_hidden": true
    },
    "papermill": {
     "duration": 0.656335,
     "end_time": "2021-02-09T22:13:23.653081",
     "exception": false,
     "start_time": "2021-02-09T22:13:22.996746",
     "status": "completed"
    },
    "scrolled": true,
    "tags": [
     "hide-input"
    ]
   },
   "outputs": [],
   "source": [
    "# This is the data for all of Wisconsin.\n",
    "url = \"https://opendata.arcgis.com/datasets/5374188992374b318d3e2305216ee413_12.csv\"\n",
    "data = pd.read_csv(url, parse_dates=['DATE'], low_memory=False)"
   ]
  },
  {
   "cell_type": "code",
   "execution_count": 3,
   "id": "proprietary-klein",
   "metadata": {
    "execution": {
     "iopub.execute_input": "2021-02-09T22:13:23.690019Z",
     "iopub.status.busy": "2021-02-09T22:13:23.689369Z",
     "iopub.status.idle": "2021-02-09T22:13:23.698703Z",
     "shell.execute_reply": "2021-02-09T22:13:23.699214Z"
    },
    "jupyter": {
     "source_hidden": true
    },
    "papermill": {
     "duration": 0.033758,
     "end_time": "2021-02-09T22:13:23.699378",
     "exception": false,
     "start_time": "2021-02-09T22:13:23.665620",
     "status": "completed"
    },
    "scrolled": true,
    "tags": [
     "hide-input"
    ]
   },
   "outputs": [],
   "source": [
    "dc = data.groupby('NAME').get_group('Dunn').sort_values(by='DATE') # Select the data for Dunn County from the full data.\n",
    "PNi = dc.columns.get_loc(\"POS_NEW\")\n",
    "dc['7_DAY'] = dc.iloc[:,PNi].rolling(window=7).mean() # Calculates the rolling 7-day average of new cases.\n",
    "dc['14_DAY'] = dc.iloc[:,PNi].rolling(window=14).mean() # Calculates the rolling 14-day average of new cases."
   ]
  },
  {
   "cell_type": "code",
   "execution_count": 4,
   "id": "steady-supervision",
   "metadata": {
    "execution": {
     "iopub.execute_input": "2021-02-09T22:13:23.725757Z",
     "iopub.status.busy": "2021-02-09T22:13:23.725146Z",
     "iopub.status.idle": "2021-02-09T22:13:23.729357Z",
     "shell.execute_reply": "2021-02-09T22:13:23.728735Z"
    },
    "jupyter": {
     "source_hidden": true
    },
    "papermill": {
     "duration": 0.020571,
     "end_time": "2021-02-09T22:13:23.729491",
     "exception": false,
     "start_time": "2021-02-09T22:13:23.708920",
     "status": "completed"
    },
    "scrolled": true,
    "tags": [
     "hide-input"
    ]
   },
   "outputs": [
    {
     "data": {
      "text/markdown": [
       "### Last updated: February 09, 2021"
      ],
      "text/plain": [
       "<IPython.core.display.Markdown object>"
      ]
     },
     "metadata": {},
     "output_type": "display_data"
    }
   ],
   "source": [
    "display(Markdown('### Last updated: ' + dc.iloc[-1]['DATE'].strftime(\"%B %d, %Y\")))"
   ]
  },
  {
   "cell_type": "code",
   "execution_count": 5,
   "id": "lonely-pitch",
   "metadata": {
    "execution": {
     "iopub.execute_input": "2021-02-09T22:13:23.754952Z",
     "iopub.status.busy": "2021-02-09T22:13:23.754283Z",
     "iopub.status.idle": "2021-02-09T22:13:23.757999Z",
     "shell.execute_reply": "2021-02-09T22:13:23.758566Z"
    },
    "jupyter": {
     "source_hidden": true
    },
    "papermill": {
     "duration": 0.019039,
     "end_time": "2021-02-09T22:13:23.758716",
     "exception": false,
     "start_time": "2021-02-09T22:13:23.739677",
     "status": "completed"
    },
    "tags": [
     "hide-input"
    ]
   },
   "outputs": [
    {
     "data": {
      "text/markdown": [
       "# Dunn County has 4137 total positive cases, with 2 new cases reported today."
      ],
      "text/plain": [
       "<IPython.core.display.Markdown object>"
      ]
     },
     "metadata": {},
     "output_type": "display_data"
    }
   ],
   "source": [
    "display(Markdown('# Dunn County has ' + str(dc.iloc[-1]['POSITIVE']) + ' total positive cases, with '+ str(int(dc.iloc[-1]['POS_NEW'])) + ' new cases reported today.'))"
   ]
  },
  {
   "cell_type": "code",
   "execution_count": 6,
   "id": "compound-nightmare",
   "metadata": {
    "execution": {
     "iopub.execute_input": "2021-02-09T22:13:23.783763Z",
     "iopub.status.busy": "2021-02-09T22:13:23.783184Z",
     "iopub.status.idle": "2021-02-09T22:13:24.121442Z",
     "shell.execute_reply": "2021-02-09T22:13:24.121925Z"
    },
    "jupyter": {
     "source_hidden": true
    },
    "papermill": {
     "duration": 0.353055,
     "end_time": "2021-02-09T22:13:24.122141",
     "exception": false,
     "start_time": "2021-02-09T22:13:23.769086",
     "status": "completed"
    },
    "scrolled": false,
    "tags": [
     "hide-input"
    ]
   },
   "outputs": [
    {
     "data": {
      "image/png": "[encoded data removed]",
      "text/plain": [
       "<Figure size 864x432 with 1 Axes>"
      ]
     },
     "metadata": {
      "needs_background": "light"
     },
     "output_type": "display_data"
    }
   ],
   "source": [
    "dc.plot(x='DATE',y='POSITIVE',color='red',grid='True',figsize=(12,6)).set_xlabel('Date');"
   ]
  },
  {
   "cell_type": "markdown",
   "id": "coupled-literacy",
   "metadata": {
    "papermill": {
     "duration": 0.011669,
     "end_time": "2021-02-09T22:13:24.145511",
     "exception": false,
     "start_time": "2021-02-09T22:13:24.133842",
     "status": "completed"
    },
    "tags": []
   },
   "source": [
    "## Figure 1: Cummulative number of positive cases."
   ]
  },
  {
   "cell_type": "code",
   "execution_count": 7,
   "id": "surrounded-reserve",
   "metadata": {
    "execution": {
     "iopub.execute_input": "2021-02-09T22:13:24.174395Z",
     "iopub.status.busy": "2021-02-09T22:13:24.173691Z",
     "iopub.status.idle": "2021-02-09T22:13:24.471930Z",
     "shell.execute_reply": "2021-02-09T22:13:24.472422Z"
    },
    "jupyter": {
     "source_hidden": true
    },
    "papermill": {
     "duration": 0.315267,
     "end_time": "2021-02-09T22:13:24.472596",
     "exception": false,
     "start_time": "2021-02-09T22:13:24.157329",
     "status": "completed"
    },
    "scrolled": false,
    "tags": [
     "hide-input"
    ]
   },
   "outputs": [
    {
     "data": {
      "image/png": "[encoded data removed]",
      "text/plain": [
       "<Figure size 864x432 with 1 Axes>"
      ]
     },
     "metadata": {
      "needs_background": "light"
     },
     "output_type": "display_data"
    }
   ],
   "source": [
    "dc.plot(kind='line',x='DATE',y='7_DAY',color='blue',grid='True',figsize=(12,6)).set_xlabel('Date');"
   ]
  },
  {
   "cell_type": "markdown",
   "id": "professional-savannah",
   "metadata": {
    "papermill": {
     "duration": 0.01207,
     "end_time": "2021-02-09T22:13:24.497537",
     "exception": false,
     "start_time": "2021-02-09T22:13:24.485467",
     "status": "completed"
    },
    "tags": []
   },
   "source": [
    "## Figure 2: Rolling 7-day average of daily new cases."
   ]
  },
  {
   "cell_type": "code",
   "execution_count": 8,
   "id": "stretch-investor",
   "metadata": {
    "execution": {
     "iopub.execute_input": "2021-02-09T22:13:24.527779Z",
     "iopub.status.busy": "2021-02-09T22:13:24.527189Z",
     "iopub.status.idle": "2021-02-09T22:13:24.809940Z",
     "shell.execute_reply": "2021-02-09T22:13:24.810512Z"
    },
    "jupyter": {
     "source_hidden": true
    },
    "papermill": {
     "duration": 0.300482,
     "end_time": "2021-02-09T22:13:24.810748",
     "exception": false,
     "start_time": "2021-02-09T22:13:24.510266",
     "status": "completed"
    },
    "tags": []
   },
   "outputs": [
    {
     "data": {
      "image/png": "[encoded data removed]",
      "text/plain": [
       "<Figure size 864x432 with 1 Axes>"
      ]
     },
     "metadata": {
      "needs_background": "light"
     },
     "output_type": "display_data"
    }
   ],
   "source": [
    "dc.plot(kind='line',x='DATE',y='14_DAY',color='green',grid='True',figsize=(12,6)).set_xlabel('Date');"
   ]
  },
  {
   "cell_type": "markdown",
   "id": "prerequisite-species",
   "metadata": {
    "papermill": {
     "duration": 0.014542,
     "end_time": "2021-02-09T22:13:24.839438",
     "exception": false,
     "start_time": "2021-02-09T22:13:24.824896",
     "status": "completed"
    },
    "tags": []
   },
   "source": [
    "## Figure 3: Rolling 14-day average of daily new cases."
   ]
  },
  {
   "cell_type": "markdown",
   "id": "palestinian-guard",
   "metadata": {
    "papermill": {
     "duration": 0.013943,
     "end_time": "2021-02-09T22:13:24.867678",
     "exception": false,
     "start_time": "2021-02-09T22:13:24.853735",
     "status": "completed"
    },
    "tags": []
   },
   "source": [
    "Data source: [Wisconsin Department of Health Services](https://data.dhsgis.wi.gov/datasets/covid-19-historical-data-table/)"
   ]
  },
  {
   "cell_type": "code",
   "execution_count": 9,
   "id": "proof-medicare",
   "metadata": {
    "execution": {
     "iopub.execute_input": "2021-02-09T22:13:24.900703Z",
     "iopub.status.busy": "2021-02-09T22:13:24.900077Z",
     "iopub.status.idle": "2021-02-09T22:13:24.903247Z",
     "shell.execute_reply": "2021-02-09T22:13:24.903770Z"
    },
    "jupyter": {
     "source_hidden": true
    },
    "papermill": {
     "duration": 0.022418,
     "end_time": "2021-02-09T22:13:24.903960",
     "exception": false,
     "start_time": "2021-02-09T22:13:24.881542",
     "status": "completed"
    },
    "tags": []
   },
   "outputs": [
    {
     "data": {
      "text/html": [
       "<style>\n",
       "div.input {\n",
       "    display:none;\n",
       "}\n",
       "</style>\n"
      ],
      "text/plain": [
       "<IPython.core.display.HTML object>"
      ]
     },
     "metadata": {},
     "output_type": "display_data"
    }
   ],
   "source": [
    "%%html\n",
    "<style>\n",
    "div.input {\n",
    "    display:none;\n",
    "}\n",
    "</style>"
   ]
  }
 ],
 "metadata": {
  "kernelspec": {
   "display_name": "Python 3",
   "language": "python",
   "name": "python3"
  },
  "language_info": {
   "codemirror_mode": {
    "name": "ipython",
    "version": 3
   },
   "file_extension": ".py",
   "mimetype": "text/x-python",
   "name": "python",
   "nbconvert_exporter": "python",
   "pygments_lexer": "ipython3",
   "version": "3.8.7"
  },
  "papermill": {
   "duration": 5.983827,
   "end_time": "2021-02-09T22:13:25.225268",
   "environment_variables": {},
   "exception": null,
   "input_path": "DunnCounty_COVID19.ipynb",
   "output_path": "DunnCounty_COVID19.ipynb",
   "parameters": {
    "Start": "True",
    "secretsPath": "/home/runner/work/_temp/secrets.json"
   },
   "start_time": "2021-02-09T22:13:19.241441",
   "version": "1.1.16"
  }
 },
 "nbformat": 4,
 "nbformat_minor": 5
}