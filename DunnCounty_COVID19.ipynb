{
 "cells": [
  {
   "cell_type": "code",
   "execution_count": 1,
   "metadata": {
    "execution": {
     "iopub.execute_input": "2020-11-23T10:10:51.959290Z",
     "iopub.status.busy": "2020-11-23T10:10:51.958678Z",
     "iopub.status.idle": "2020-11-23T10:10:55.240986Z",
     "shell.execute_reply": "2020-11-23T10:10:55.240250Z"
    },
    "jupyter": {
     "source_hidden": true
    },
    "papermill": {
     "duration": 3.296553,
     "end_time": "2020-11-23T10:10:55.241255",
     "exception": false,
     "start_time": "2020-11-23T10:10:51.944702",
     "status": "completed"
    },
    "scrolled": true,
    "tags": [
     "hide-input"
    ]
   },
   "outputs": [],
   "source": [
    "import pandas as pd\n",
    "import matplotlib.pyplot as plt\n",
    "from matplotlib import dates\n",
    "from IPython.display import display, Markdown\n",
    "%matplotlib inline"
   ]
  },
  {
   "cell_type": "code",
   "execution_count": 2,
   "metadata": {
    "execution": {
     "iopub.execute_input": "2020-11-23T10:10:55.267131Z",
     "iopub.status.busy": "2020-11-23T10:10:55.266131Z",
     "iopub.status.idle": "2020-11-23T10:10:56.410702Z",
     "shell.execute_reply": "2020-11-23T10:10:56.409528Z"
    },
    "jupyter": {
     "source_hidden": true
    },
    "papermill": {
     "duration": 1.160621,
     "end_time": "2020-11-23T10:10:56.410866",
     "exception": false,
     "start_time": "2020-11-23T10:10:55.250245",
     "status": "completed"
    },
    "scrolled": true,
    "tags": [
     "hide-input"
    ]
   },
   "outputs": [],
   "source": [
    "# This is the data for all of Wisconsin.\n",
    "url = \"https://opendata.arcgis.com/datasets/5374188992374b318d3e2305216ee413_12.csv\"\n",
    "data = pd.read_csv(url, parse_dates=['DATE'], low_memory=False)"
   ]
  },
  {
   "cell_type": "code",
   "execution_count": 3,
   "metadata": {
    "execution": {
     "iopub.execute_input": "2020-11-23T10:10:56.433467Z",
     "iopub.status.busy": "2020-11-23T10:10:56.432814Z",
     "iopub.status.idle": "2020-11-23T10:10:56.442948Z",
     "shell.execute_reply": "2020-11-23T10:10:56.443395Z"
    },
    "jupyter": {
     "source_hidden": true
    },
    "papermill": {
     "duration": 0.025014,
     "end_time": "2020-11-23T10:10:56.443578",
     "exception": false,
     "start_time": "2020-11-23T10:10:56.418564",
     "status": "completed"
    },
    "scrolled": true,
    "tags": [
     "hide-input"
    ]
   },
   "outputs": [],
   "source": [
    "dc = data.groupby('NAME').get_group('Dunn').sort_values(by='DATE') # Select the data for Dunn County from the full data.\n",
    "PNi = dc.columns.get_loc(\"POS_NEW\")\n",
    "dc['7_DAY'] = dc.iloc[:,PNi].rolling(window=7).mean() # Calculates the rolling 7-day average of new cases.\n",
    "dc['14_DAY'] = dc.iloc[:,PNi].rolling(window=14).mean() # Calculates the rolling 14-day average of new cases."
   ]
  },
  {
   "cell_type": "code",
   "execution_count": 4,
   "metadata": {
    "execution": {
     "iopub.execute_input": "2020-11-23T10:10:56.466257Z",
     "iopub.status.busy": "2020-11-23T10:10:56.465643Z",
     "iopub.status.idle": "2020-11-23T10:10:56.469237Z",
     "shell.execute_reply": "2020-11-23T10:10:56.469701Z"
    },
    "jupyter": {
     "source_hidden": true
    },
    "papermill": {
     "duration": 0.019065,
     "end_time": "2020-11-23T10:10:56.469871",
     "exception": false,
     "start_time": "2020-11-23T10:10:56.450806",
     "status": "completed"
    },
    "scrolled": true,
    "tags": [
     "hide-input"
    ]
   },
   "outputs": [
    {
     "data": {
      "text/markdown": [
       "### Last updated: November 22, 2020"
      ],
      "text/plain": [
       "<IPython.core.display.Markdown object>"
      ]
     },
     "metadata": {},
     "output_type": "display_data"
    }
   ],
   "source": [
    "display(Markdown('### Last updated: ' + dc.iloc[-1]['DATE'].strftime(\"%B %d, %Y\")))"
   ]
  },
  {
   "cell_type": "code",
   "execution_count": 5,
   "metadata": {
    "execution": {
     "iopub.execute_input": "2020-11-23T10:10:56.492591Z",
     "iopub.status.busy": "2020-11-23T10:10:56.492016Z",
     "iopub.status.idle": "2020-11-23T10:10:56.495391Z",
     "shell.execute_reply": "2020-11-23T10:10:56.495864Z"
    },
    "jupyter": {
     "source_hidden": true
    },
    "papermill": {
     "duration": 0.018128,
     "end_time": "2020-11-23T10:10:56.496036",
     "exception": false,
     "start_time": "2020-11-23T10:10:56.477908",
     "status": "completed"
    },
    "tags": [
     "hide-input"
    ]
   },
   "outputs": [
    {
     "data": {
      "text/markdown": [
       "# Dunn County has 2413 total positive cases, with 109 new cases reported today."
      ],
      "text/plain": [
       "<IPython.core.display.Markdown object>"
      ]
     },
     "metadata": {},
     "output_type": "display_data"
    }
   ],
   "source": [
    "display(Markdown('# Dunn County has ' + str(dc.iloc[-1]['POSITIVE']) + ' total positive cases, with '+ str(int(dc.iloc[-1]['POS_NEW'])) + ' new cases reported today.'))"
   ]
  },
  {
   "cell_type": "code",
   "execution_count": 6,
   "metadata": {
    "execution": {
     "iopub.execute_input": "2020-11-23T10:10:56.518569Z",
     "iopub.status.busy": "2020-11-23T10:10:56.517389Z",
     "iopub.status.idle": "2020-11-23T10:10:56.774003Z",
     "shell.execute_reply": "2020-11-23T10:10:56.774458Z"
    },
    "jupyter": {
     "source_hidden": true
    },
    "papermill": {
     "duration": 0.269631,
     "end_time": "2020-11-23T10:10:56.774630",
     "exception": false,
     "start_time": "2020-11-23T10:10:56.504999",
     "status": "completed"
    },
    "scrolled": false,
    "tags": [
     "hide-input"
    ]
   },
   "outputs": [
    {
     "data": {
      "image/png": "[encoded data removed]",
      "text/plain": [
       "<Figure size 864x432 with 1 Axes>"
      ]
     },
     "metadata": {
      "needs_background": "light"
     },
     "output_type": "display_data"
    }
   ],
   "source": [
    "dc.plot(x='DATE',y='POSITIVE',color='red',grid='True',figsize=(12,6)).set_xlabel('Date');"
   ]
  },
  {
   "cell_type": "markdown",
   "metadata": {
    "papermill": {
     "duration": 0.010627,
     "end_time": "2020-11-23T10:10:56.795565",
     "exception": false,
     "start_time": "2020-11-23T10:10:56.784938",
     "status": "completed"
    },
    "tags": []
   },
   "source": [
    "## Figure 1: Cummulative number of positive cases."
   ]
  },
  {
   "cell_type": "code",
   "execution_count": 7,
   "metadata": {
    "execution": {
     "iopub.execute_input": "2020-11-23T10:10:56.820821Z",
     "iopub.status.busy": "2020-11-23T10:10:56.820250Z",
     "iopub.status.idle": "2020-11-23T10:10:57.048843Z",
     "shell.execute_reply": "2020-11-23T10:10:57.050980Z"
    },
    "jupyter": {
     "source_hidden": true
    },
    "papermill": {
     "duration": 0.245123,
     "end_time": "2020-11-23T10:10:57.051176",
     "exception": false,
     "start_time": "2020-11-23T10:10:56.806053",
     "status": "completed"
    },
    "scrolled": false,
    "tags": [
     "hide-input"
    ]
   },
   "outputs": [
    {
     "data": {
      "image/png": "[encoded data removed]",
      "text/plain": [
       "<Figure size 864x432 with 1 Axes>"
      ]
     },
     "metadata": {
      "needs_background": "light"
     },
     "output_type": "display_data"
    }
   ],
   "source": [
    "dc.plot(kind='line',x='DATE',y='7_DAY',color='blue',grid='True',figsize=(12,6)).set_xlabel('Date');"
   ]
  },
  {
   "cell_type": "markdown",
   "metadata": {
    "papermill": {
     "duration": 0.010306,
     "end_time": "2020-11-23T10:10:57.072173",
     "exception": false,
     "start_time": "2020-11-23T10:10:57.061867",
     "status": "completed"
    },
    "tags": []
   },
   "source": [
    "## Figure 2: Rolling 7-day average of daily new cases."
   ]
  },
  {
   "cell_type": "code",
   "execution_count": 8,
   "metadata": {
    "execution": {
     "iopub.execute_input": "2020-11-23T10:10:57.107094Z",
     "iopub.status.busy": "2020-11-23T10:10:57.097163Z",
     "iopub.status.idle": "2020-11-23T10:10:57.330169Z",
     "shell.execute_reply": "2020-11-23T10:10:57.329693Z"
    },
    "jupyter": {
     "source_hidden": true
    },
    "papermill": {
     "duration": 0.24838,
     "end_time": "2020-11-23T10:10:57.330403",
     "exception": false,
     "start_time": "2020-11-23T10:10:57.082023",
     "status": "completed"
    },
    "tags": []
   },
   "outputs": [
    {
     "data": {
      "image/png": "[encoded data removed]",
      "text/plain": [
       "<Figure size 864x432 with 1 Axes>"
      ]
     },
     "metadata": {
      "needs_background": "light"
     },
     "output_type": "display_data"
    }
   ],
   "source": [
    "dc.plot(kind='line',x='DATE',y='14_DAY',color='green',grid='True',figsize=(12,6)).set_xlabel('Date');"
   ]
  },
  {
   "cell_type": "markdown",
   "metadata": {
    "papermill": {
     "duration": 0.010977,
     "end_time": "2020-11-23T10:10:57.355207",
     "exception": false,
     "start_time": "2020-11-23T10:10:57.344230",
     "status": "completed"
    },
    "tags": []
   },
   "source": [
    "## Figure 3: Rolling 14-day average of daily new cases."
   ]
  },
  {
   "cell_type": "markdown",
   "metadata": {
    "papermill": {
     "duration": 0.01045,
     "end_time": "2020-11-23T10:10:57.376507",
     "exception": false,
     "start_time": "2020-11-23T10:10:57.366057",
     "status": "completed"
    },
    "tags": []
   },
   "source": [
    "Data source: [Wisconsin Department of Health Services](https://data.dhsgis.wi.gov/datasets/covid-19-historical-data-table/)"
   ]
  },
  {
   "cell_type": "code",
   "execution_count": 9,
   "metadata": {
    "execution": {
     "iopub.execute_input": "2020-11-23T10:10:57.403265Z",
     "iopub.status.busy": "2020-11-23T10:10:57.402679Z",
     "iopub.status.idle": "2020-11-23T10:10:57.406894Z",
     "shell.execute_reply": "2020-11-23T10:10:57.407313Z"
    },
    "jupyter": {
     "source_hidden": true
    },
    "papermill": {
     "duration": 0.019638,
     "end_time": "2020-11-23T10:10:57.407481",
     "exception": false,
     "start_time": "2020-11-23T10:10:57.387843",
     "status": "completed"
    },
    "tags": []
   },
   "outputs": [
    {
     "data": {
      "text/html": [
       "<style>\n",
       "div.input {\n",
       "    display:none;\n",
       "}\n",
       "</style>\n"
      ],
      "text/plain": [
       "<IPython.core.display.HTML object>"
      ]
     },
     "metadata": {},
     "output_type": "display_data"
    }
   ],
   "source": [
    "%%html\n",
    "<style>\n",
    "div.input {\n",
    "    display:none;\n",
    "}\n",
    "</style>"
   ]
  }
 ],
 "metadata": {
  "kernelspec": {
   "display_name": "Python 3",
   "language": "python",
   "name": "python3"
  },
  "language_info": {
   "codemirror_mode": {
    "name": "ipython",
    "version": 3
   },
   "file_extension": ".py",
   "mimetype": "text/x-python",
   "name": "python",
   "nbconvert_exporter": "python",
   "pygments_lexer": "ipython3",
   "version": "3.8.6"
  },
  "papermill": {
   "duration": 7.525735,
   "end_time": "2020-11-23T10:10:57.828963",
   "environment_variables": {},
   "exception": null,
   "input_path": "DunnCounty_COVID19.ipynb",
   "output_path": "DunnCounty_COVID19.ipynb",
   "parameters": {
    "Start": "True",
    "secretsPath": "/home/runner/work/_temp/secrets.json"
   },
   "start_time": "2020-11-23T10:10:50.303228",
   "version": "1.1.16"
  }
 },
 "nbformat": 4,
 "nbformat_minor": 2
}