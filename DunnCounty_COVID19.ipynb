{
 "cells": [
  {
   "cell_type": "code",
   "execution_count": 1,
   "id": "solar-understanding",
   "metadata": {
    "execution": {
     "iopub.execute_input": "2021-07-01T10:12:36.661038Z",
     "iopub.status.busy": "2021-07-01T10:12:36.659405Z",
     "iopub.status.idle": "2021-07-01T10:12:37.592712Z",
     "shell.execute_reply": "2021-07-01T10:12:37.592078Z"
    },
    "jupyter": {
     "source_hidden": true
    },
    "papermill": {
     "duration": 0.953883,
     "end_time": "2021-07-01T10:12:37.592859",
     "exception": false,
     "start_time": "2021-07-01T10:12:36.638976",
     "status": "completed"
    },
    "scrolled": true,
    "tags": [
     "hide-input"
    ]
   },
   "outputs": [],
   "source": [
    "import pandas as pd\n",
    "import matplotlib.pyplot as plt\n",
    "from matplotlib import dates\n",
    "from IPython.display import display, Markdown\n",
    "%matplotlib inline"
   ]
  },
  {
   "cell_type": "code",
   "execution_count": 2,
   "id": "purple-playlist",
   "metadata": {
    "execution": {
     "iopub.execute_input": "2021-07-01T10:12:37.617151Z",
     "iopub.status.busy": "2021-07-01T10:12:37.616606Z",
     "iopub.status.idle": "2021-07-01T10:12:38.439041Z",
     "shell.execute_reply": "2021-07-01T10:12:38.438388Z"
    },
    "jupyter": {
     "source_hidden": true
    },
    "papermill": {
     "duration": 0.837019,
     "end_time": "2021-07-01T10:12:38.439193",
     "exception": false,
     "start_time": "2021-07-01T10:12:37.602174",
     "status": "completed"
    },
    "scrolled": true,
    "tags": [
     "hide-input"
    ]
   },
   "outputs": [],
   "source": [
    "# This is the data for all of Wisconsin.\n",
    "url = \"https://opendata.arcgis.com/api/v3/datasets/3161f6e01d8141c6abe85a29ff7f3d3c_12/downloads/data?format=csv&spatialRefId=3857\"\n",
    "data = pd.read_csv(url, parse_dates=['DATE'], low_memory=False)"
   ]
  },
  {
   "cell_type": "code",
   "execution_count": 3,
   "id": "proprietary-klein",
   "metadata": {
    "execution": {
     "iopub.execute_input": "2021-07-01T10:12:38.465641Z",
     "iopub.status.busy": "2021-07-01T10:12:38.465108Z",
     "iopub.status.idle": "2021-07-01T10:12:38.476487Z",
     "shell.execute_reply": "2021-07-01T10:12:38.476920Z"
    },
    "jupyter": {
     "source_hidden": true
    },
    "papermill": {
     "duration": 0.028,
     "end_time": "2021-07-01T10:12:38.477058",
     "exception": false,
     "start_time": "2021-07-01T10:12:38.449058",
     "status": "completed"
    },
    "scrolled": true,
    "tags": [
     "hide-input"
    ]
   },
   "outputs": [],
   "source": [
    "dc = data.groupby('NAME').get_group('Dunn').sort_values(by='DATE') # Select the data for Dunn County from the full data.\n",
    "PNi = dc.columns.get_loc(\"POS_NEW\")\n",
    "dc['7_DAY'] = dc.iloc[:,PNi].rolling(window=7).mean() # Calculates the rolling 7-day average of new cases.\n",
    "dc['14_DAY'] = dc.iloc[:,PNi].rolling(window=14).mean() # Calculates the rolling 14-day average of new cases."
   ]
  },
  {
   "cell_type": "code",
   "execution_count": 4,
   "id": "steady-supervision",
   "metadata": {
    "execution": {
     "iopub.execute_input": "2021-07-01T10:12:38.502676Z",
     "iopub.status.busy": "2021-07-01T10:12:38.501909Z",
     "iopub.status.idle": "2021-07-01T10:12:38.504511Z",
     "shell.execute_reply": "2021-07-01T10:12:38.504930Z"
    },
    "jupyter": {
     "source_hidden": true
    },
    "papermill": {
     "duration": 0.019408,
     "end_time": "2021-07-01T10:12:38.505068",
     "exception": false,
     "start_time": "2021-07-01T10:12:38.485660",
     "status": "completed"
    },
    "scrolled": true,
    "tags": [
     "hide-input"
    ]
   },
   "outputs": [
    {
     "data": {
      "text/markdown": [
       "### Last updated: June 30, 2021"
      ],
      "text/plain": [
       "<IPython.core.display.Markdown object>"
      ]
     },
     "metadata": {},
     "output_type": "display_data"
    }
   ],
   "source": [
    "display(Markdown('### Last updated: ' + dc.iloc[-1]['DATE'].strftime(\"%B %d, %Y\")))"
   ]
  },
  {
   "cell_type": "code",
   "execution_count": 5,
   "id": "lonely-pitch",
   "metadata": {
    "execution": {
     "iopub.execute_input": "2021-07-01T10:12:38.528017Z",
     "iopub.status.busy": "2021-07-01T10:12:38.525202Z",
     "iopub.status.idle": "2021-07-01T10:12:38.530900Z",
     "shell.execute_reply": "2021-07-01T10:12:38.530278Z"
    },
    "jupyter": {
     "source_hidden": true
    },
    "papermill": {
     "duration": 0.017084,
     "end_time": "2021-07-01T10:12:38.531041",
     "exception": false,
     "start_time": "2021-07-01T10:12:38.513957",
     "status": "completed"
    },
    "tags": [
     "hide-input"
    ]
   },
   "outputs": [
    {
     "data": {
      "text/markdown": [
       "# Dunn County has 4715 total positive cases, with 9 new cases reported today."
      ],
      "text/plain": [
       "<IPython.core.display.Markdown object>"
      ]
     },
     "metadata": {},
     "output_type": "display_data"
    }
   ],
   "source": [
    "display(Markdown('# Dunn County has ' + str(dc.iloc[-1]['POSITIVE']) + ' total positive cases, with '+ str(int(dc.iloc[-1]['POS_NEW'])) + ' new cases reported today.'))"
   ]
  },
  {
   "cell_type": "code",
   "execution_count": 6,
   "id": "compound-nightmare",
   "metadata": {
    "execution": {
     "iopub.execute_input": "2021-07-01T10:12:38.555096Z",
     "iopub.status.busy": "2021-07-01T10:12:38.554563Z",
     "iopub.status.idle": "2021-07-01T10:12:38.792052Z",
     "shell.execute_reply": "2021-07-01T10:12:38.792662Z"
    },
    "jupyter": {
     "source_hidden": true
    },
    "papermill": {
     "duration": 0.251389,
     "end_time": "2021-07-01T10:12:38.792874",
     "exception": false,
     "start_time": "2021-07-01T10:12:38.541485",
     "status": "completed"
    },
    "scrolled": false,
    "tags": [
     "hide-input"
    ]
   },
   "outputs": [
    {
     "data": {
      "image/png": "[encoded data removed]",
      "text/plain": [
       "<Figure size 864x432 with 1 Axes>"
      ]
     },
     "metadata": {
      "needs_background": "light"
     },
     "output_type": "display_data"
    }
   ],
   "source": [
    "dc.plot(x='DATE',y='POSITIVE',color='red',grid='True',figsize=(12,6)).set_xlabel('Date');"
   ]
  },
  {
   "cell_type": "markdown",
   "id": "coupled-literacy",
   "metadata": {
    "papermill": {
     "duration": 0.010085,
     "end_time": "2021-07-01T10:12:38.814660",
     "exception": false,
     "start_time": "2021-07-01T10:12:38.804575",
     "status": "completed"
    },
    "tags": []
   },
   "source": [
    "## Figure 1: Cummulative number of positive cases."
   ]
  },
  {
   "cell_type": "code",
   "execution_count": 7,
   "id": "surrounded-reserve",
   "metadata": {
    "execution": {
     "iopub.execute_input": "2021-07-01T10:12:38.839735Z",
     "iopub.status.busy": "2021-07-01T10:12:38.839241Z",
     "iopub.status.idle": "2021-07-01T10:12:39.057756Z",
     "shell.execute_reply": "2021-07-01T10:12:39.058175Z"
    },
    "jupyter": {
     "source_hidden": true
    },
    "papermill": {
     "duration": 0.233802,
     "end_time": "2021-07-01T10:12:39.058336",
     "exception": false,
     "start_time": "2021-07-01T10:12:38.824534",
     "status": "completed"
    },
    "scrolled": false,
    "tags": [
     "hide-input"
    ]
   },
   "outputs": [
    {
     "data": {
      "image/png": "[encoded data removed]",
      "text/plain": [
       "<Figure size 864x432 with 1 Axes>"
      ]
     },
     "metadata": {
      "needs_background": "light"
     },
     "output_type": "display_data"
    }
   ],
   "source": [
    "dc.plot(kind='line',x='DATE',y='7_DAY',color='blue',grid='True',figsize=(12,6)).set_xlabel('Date');"
   ]
  },
  {
   "cell_type": "markdown",
   "id": "professional-savannah",
   "metadata": {
    "papermill": {
     "duration": 0.01128,
     "end_time": "2021-07-01T10:12:39.081092",
     "exception": false,
     "start_time": "2021-07-01T10:12:39.069812",
     "status": "completed"
    },
    "tags": []
   },
   "source": [
    "## Figure 2: Rolling 7-day average of daily new cases."
   ]
  },
  {
   "cell_type": "code",
   "execution_count": 8,
   "id": "stretch-investor",
   "metadata": {
    "execution": {
     "iopub.execute_input": "2021-07-01T10:12:39.108877Z",
     "iopub.status.busy": "2021-07-01T10:12:39.107939Z",
     "iopub.status.idle": "2021-07-01T10:12:39.313334Z",
     "shell.execute_reply": "2021-07-01T10:12:39.312642Z"
    },
    "jupyter": {
     "source_hidden": true
    },
    "papermill": {
     "duration": 0.221251,
     "end_time": "2021-07-01T10:12:39.313491",
     "exception": false,
     "start_time": "2021-07-01T10:12:39.092240",
     "status": "completed"
    },
    "tags": []
   },
   "outputs": [
    {
     "data": {
      "image/png": "[encoded data removed]",
      "text/plain": [
       "<Figure size 864x432 with 1 Axes>"
      ]
     },
     "metadata": {
      "needs_background": "light"
     },
     "output_type": "display_data"
    }
   ],
   "source": [
    "dc.plot(kind='line',x='DATE',y='14_DAY',color='green',grid='True',figsize=(12,6)).set_xlabel('Date');"
   ]
  },
  {
   "cell_type": "markdown",
   "id": "prerequisite-species",
   "metadata": {
    "papermill": {
     "duration": 0.012705,
     "end_time": "2021-07-01T10:12:39.339163",
     "exception": false,
     "start_time": "2021-07-01T10:12:39.326458",
     "status": "completed"
    },
    "tags": []
   },
   "source": [
    "## Figure 3: Rolling 14-day average of daily new cases."
   ]
  },
  {
   "cell_type": "markdown",
   "id": "palestinian-guard",
   "metadata": {
    "papermill": {
     "duration": 0.012205,
     "end_time": "2021-07-01T10:12:39.363679",
     "exception": false,
     "start_time": "2021-07-01T10:12:39.351474",
     "status": "completed"
    },
    "tags": []
   },
   "source": [
    "Data source: [Wisconsin Department of Health Services](https://data.dhsgis.wi.gov/datasets/wi-dhs::covid-19-historical-data-by-county-1)"
   ]
  },
  {
   "cell_type": "code",
   "execution_count": 9,
   "id": "proof-medicare",
   "metadata": {
    "execution": {
     "iopub.execute_input": "2021-07-01T10:12:39.394179Z",
     "iopub.status.busy": "2021-07-01T10:12:39.393211Z",
     "iopub.status.idle": "2021-07-01T10:12:39.399620Z",
     "shell.execute_reply": "2021-07-01T10:12:39.399157Z"
    },
    "jupyter": {
     "source_hidden": true
    },
    "papermill": {
     "duration": 0.023387,
     "end_time": "2021-07-01T10:12:39.399730",
     "exception": false,
     "start_time": "2021-07-01T10:12:39.376343",
     "status": "completed"
    },
    "tags": []
   },
   "outputs": [
    {
     "data": {
      "text/html": [
       "<style>\n",
       "div.input {\n",
       "    display:none;\n",
       "}\n",
       "</style>\n"
      ],
      "text/plain": [
       "<IPython.core.display.HTML object>"
      ]
     },
     "metadata": {},
     "output_type": "display_data"
    }
   ],
   "source": [
    "%%html\n",
    "<style>\n",
    "div.input {\n",
    "    display:none;\n",
    "}\n",
    "</style>"
   ]
  }
 ],
 "metadata": {
  "kernelspec": {
   "display_name": "Python 3",
   "language": "python",
   "name": "python3"
  },
  "language_info": {
   "codemirror_mode": {
    "name": "ipython",
    "version": 3
   },
   "file_extension": ".py",
   "mimetype": "text/x-python",
   "name": "python",
   "nbconvert_exporter": "python",
   "pygments_lexer": "ipython3",
   "version": "3.8.10"
  },
  "papermill": {
   "duration": 4.273502,
   "end_time": "2021-07-01T10:12:39.619179",
   "environment_variables": {},
   "exception": null,
   "input_path": "DunnCounty_COVID19.ipynb",
   "output_path": "DunnCounty_COVID19.ipynb",
   "parameters": {
    "Start": "True",
    "secretsPath": "/home/runner/work/_temp/secrets.json"
   },
   "start_time": "2021-07-01T10:12:35.345677",
   "version": "1.1.16"
  }
 },
 "nbformat": 4,
 "nbformat_minor": 5
}