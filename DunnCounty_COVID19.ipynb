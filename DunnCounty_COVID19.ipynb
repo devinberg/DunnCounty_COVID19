{
 "cells": [
  {
   "cell_type": "code",
   "execution_count": 1,
   "id": "solar-understanding",
   "metadata": {
    "execution": {
     "iopub.execute_input": "2021-02-27T10:12:24.611243Z",
     "iopub.status.busy": "2021-02-27T10:12:24.610588Z",
     "iopub.status.idle": "2021-02-27T10:12:25.549687Z",
     "shell.execute_reply": "2021-02-27T10:12:25.548718Z"
    },
    "jupyter": {
     "source_hidden": true
    },
    "papermill": {
     "duration": 0.962821,
     "end_time": "2021-02-27T10:12:25.549845",
     "exception": false,
     "start_time": "2021-02-27T10:12:24.587024",
     "status": "completed"
    },
    "scrolled": true,
    "tags": [
     "hide-input"
    ]
   },
   "outputs": [],
   "source": [
    "import pandas as pd\n",
    "import matplotlib.pyplot as plt\n",
    "from matplotlib import dates\n",
    "from IPython.display import display, Markdown\n",
    "%matplotlib inline"
   ]
  },
  {
   "cell_type": "code",
   "execution_count": 2,
   "id": "purple-playlist",
   "metadata": {
    "execution": {
     "iopub.execute_input": "2021-02-27T10:12:25.575147Z",
     "iopub.status.busy": "2021-02-27T10:12:25.574444Z",
     "iopub.status.idle": "2021-02-27T10:12:26.161190Z",
     "shell.execute_reply": "2021-02-27T10:12:26.161761Z"
    },
    "jupyter": {
     "source_hidden": true
    },
    "papermill": {
     "duration": 0.601577,
     "end_time": "2021-02-27T10:12:26.161953",
     "exception": false,
     "start_time": "2021-02-27T10:12:25.560376",
     "status": "completed"
    },
    "scrolled": true,
    "tags": [
     "hide-input"
    ]
   },
   "outputs": [],
   "source": [
    "# This is the data for all of Wisconsin.\n",
    "url = \"https://opendata.arcgis.com/datasets/5374188992374b318d3e2305216ee413_12.csv\"\n",
    "data = pd.read_csv(url, parse_dates=['DATE'], low_memory=False)"
   ]
  },
  {
   "cell_type": "code",
   "execution_count": 3,
   "id": "proprietary-klein",
   "metadata": {
    "execution": {
     "iopub.execute_input": "2021-02-27T10:12:26.187108Z",
     "iopub.status.busy": "2021-02-27T10:12:26.186470Z",
     "iopub.status.idle": "2021-02-27T10:12:26.195338Z",
     "shell.execute_reply": "2021-02-27T10:12:26.195804Z"
    },
    "jupyter": {
     "source_hidden": true
    },
    "papermill": {
     "duration": 0.024196,
     "end_time": "2021-02-27T10:12:26.195949",
     "exception": false,
     "start_time": "2021-02-27T10:12:26.171753",
     "status": "completed"
    },
    "scrolled": true,
    "tags": [
     "hide-input"
    ]
   },
   "outputs": [],
   "source": [
    "dc = data.groupby('NAME').get_group('Dunn').sort_values(by='DATE') # Select the data for Dunn County from the full data.\n",
    "PNi = dc.columns.get_loc(\"POS_NEW\")\n",
    "dc['7_DAY'] = dc.iloc[:,PNi].rolling(window=7).mean() # Calculates the rolling 7-day average of new cases.\n",
    "dc['14_DAY'] = dc.iloc[:,PNi].rolling(window=14).mean() # Calculates the rolling 14-day average of new cases."
   ]
  },
  {
   "cell_type": "code",
   "execution_count": 4,
   "id": "steady-supervision",
   "metadata": {
    "execution": {
     "iopub.execute_input": "2021-02-27T10:12:26.221109Z",
     "iopub.status.busy": "2021-02-27T10:12:26.220447Z",
     "iopub.status.idle": "2021-02-27T10:12:26.225839Z",
     "shell.execute_reply": "2021-02-27T10:12:26.226293Z"
    },
    "jupyter": {
     "source_hidden": true
    },
    "papermill": {
     "duration": 0.021154,
     "end_time": "2021-02-27T10:12:26.226437",
     "exception": false,
     "start_time": "2021-02-27T10:12:26.205283",
     "status": "completed"
    },
    "scrolled": true,
    "tags": [
     "hide-input"
    ]
   },
   "outputs": [
    {
     "data": {
      "text/markdown": [
       "### Last updated: February 26, 2021"
      ],
      "text/plain": [
       "<IPython.core.display.Markdown object>"
      ]
     },
     "metadata": {},
     "output_type": "display_data"
    }
   ],
   "source": [
    "display(Markdown('### Last updated: ' + dc.iloc[-1]['DATE'].strftime(\"%B %d, %Y\")))"
   ]
  },
  {
   "cell_type": "code",
   "execution_count": 5,
   "id": "lonely-pitch",
   "metadata": {
    "execution": {
     "iopub.execute_input": "2021-02-27T10:12:26.250808Z",
     "iopub.status.busy": "2021-02-27T10:12:26.250176Z",
     "iopub.status.idle": "2021-02-27T10:12:26.252714Z",
     "shell.execute_reply": "2021-02-27T10:12:26.253263Z"
    },
    "jupyter": {
     "source_hidden": true
    },
    "papermill": {
     "duration": 0.017333,
     "end_time": "2021-02-27T10:12:26.253405",
     "exception": false,
     "start_time": "2021-02-27T10:12:26.236072",
     "status": "completed"
    },
    "tags": [
     "hide-input"
    ]
   },
   "outputs": [
    {
     "data": {
      "text/markdown": [
       "# Dunn County has 4253 total positive cases, with 3 new cases reported today."
      ],
      "text/plain": [
       "<IPython.core.display.Markdown object>"
      ]
     },
     "metadata": {},
     "output_type": "display_data"
    }
   ],
   "source": [
    "display(Markdown('# Dunn County has ' + str(dc.iloc[-1]['POSITIVE']) + ' total positive cases, with '+ str(int(dc.iloc[-1]['POS_NEW'])) + ' new cases reported today.'))"
   ]
  },
  {
   "cell_type": "code",
   "execution_count": 6,
   "id": "compound-nightmare",
   "metadata": {
    "execution": {
     "iopub.execute_input": "2021-02-27T10:12:26.277470Z",
     "iopub.status.busy": "2021-02-27T10:12:26.276888Z",
     "iopub.status.idle": "2021-02-27T10:12:26.548513Z",
     "shell.execute_reply": "2021-02-27T10:12:26.549001Z"
    },
    "jupyter": {
     "source_hidden": true
    },
    "papermill": {
     "duration": 0.285264,
     "end_time": "2021-02-27T10:12:26.549172",
     "exception": false,
     "start_time": "2021-02-27T10:12:26.263908",
     "status": "completed"
    },
    "scrolled": false,
    "tags": [
     "hide-input"
    ]
   },
   "outputs": [
    {
     "data": {
      "image/png": "[encoded data removed]",
      "text/plain": [
       "<Figure size 864x432 with 1 Axes>"
      ]
     },
     "metadata": {
      "needs_background": "light"
     },
     "output_type": "display_data"
    }
   ],
   "source": [
    "dc.plot(x='DATE',y='POSITIVE',color='red',grid='True',figsize=(12,6)).set_xlabel('Date');"
   ]
  },
  {
   "cell_type": "markdown",
   "id": "coupled-literacy",
   "metadata": {
    "papermill": {
     "duration": 0.011878,
     "end_time": "2021-02-27T10:12:26.572657",
     "exception": false,
     "start_time": "2021-02-27T10:12:26.560779",
     "status": "completed"
    },
    "tags": []
   },
   "source": [
    "## Figure 1: Cummulative number of positive cases."
   ]
  },
  {
   "cell_type": "code",
   "execution_count": 7,
   "id": "surrounded-reserve",
   "metadata": {
    "execution": {
     "iopub.execute_input": "2021-02-27T10:12:26.599182Z",
     "iopub.status.busy": "2021-02-27T10:12:26.598582Z",
     "iopub.status.idle": "2021-02-27T10:12:26.815650Z",
     "shell.execute_reply": "2021-02-27T10:12:26.816145Z"
    },
    "jupyter": {
     "source_hidden": true
    },
    "papermill": {
     "duration": 0.232116,
     "end_time": "2021-02-27T10:12:26.816314",
     "exception": false,
     "start_time": "2021-02-27T10:12:26.584198",
     "status": "completed"
    },
    "scrolled": false,
    "tags": [
     "hide-input"
    ]
   },
   "outputs": [
    {
     "data": {
      "image/png": "[encoded data removed]",
      "text/plain": [
       "<Figure size 864x432 with 1 Axes>"
      ]
     },
     "metadata": {
      "needs_background": "light"
     },
     "output_type": "display_data"
    }
   ],
   "source": [
    "dc.plot(kind='line',x='DATE',y='7_DAY',color='blue',grid='True',figsize=(12,6)).set_xlabel('Date');"
   ]
  },
  {
   "cell_type": "markdown",
   "id": "professional-savannah",
   "metadata": {
    "papermill": {
     "duration": 0.01219,
     "end_time": "2021-02-27T10:12:26.841867",
     "exception": false,
     "start_time": "2021-02-27T10:12:26.829677",
     "status": "completed"
    },
    "tags": []
   },
   "source": [
    "## Figure 2: Rolling 7-day average of daily new cases."
   ]
  },
  {
   "cell_type": "code",
   "execution_count": 8,
   "id": "stretch-investor",
   "metadata": {
    "execution": {
     "iopub.execute_input": "2021-02-27T10:12:26.871216Z",
     "iopub.status.busy": "2021-02-27T10:12:26.869918Z",
     "iopub.status.idle": "2021-02-27T10:12:27.095037Z",
     "shell.execute_reply": "2021-02-27T10:12:27.095498Z"
    },
    "jupyter": {
     "source_hidden": true
    },
    "papermill": {
     "duration": 0.24229,
     "end_time": "2021-02-27T10:12:27.095670",
     "exception": false,
     "start_time": "2021-02-27T10:12:26.853380",
     "status": "completed"
    },
    "tags": []
   },
   "outputs": [
    {
     "data": {
      "image/png": "[encoded data removed]",
      "text/plain": [
       "<Figure size 864x432 with 1 Axes>"
      ]
     },
     "metadata": {
      "needs_background": "light"
     },
     "output_type": "display_data"
    }
   ],
   "source": [
    "dc.plot(kind='line',x='DATE',y='14_DAY',color='green',grid='True',figsize=(12,6)).set_xlabel('Date');"
   ]
  },
  {
   "cell_type": "markdown",
   "id": "prerequisite-species",
   "metadata": {
    "papermill": {
     "duration": 0.012842,
     "end_time": "2021-02-27T10:12:27.121699",
     "exception": false,
     "start_time": "2021-02-27T10:12:27.108857",
     "status": "completed"
    },
    "tags": []
   },
   "source": [
    "## Figure 3: Rolling 14-day average of daily new cases."
   ]
  },
  {
   "cell_type": "markdown",
   "id": "palestinian-guard",
   "metadata": {
    "papermill": {
     "duration": 0.01255,
     "end_time": "2021-02-27T10:12:27.146489",
     "exception": false,
     "start_time": "2021-02-27T10:12:27.133939",
     "status": "completed"
    },
    "tags": []
   },
   "source": [
    "Data source: [Wisconsin Department of Health Services](https://data.dhsgis.wi.gov/datasets/covid-19-historical-data-table/)"
   ]
  },
  {
   "cell_type": "code",
   "execution_count": 9,
   "id": "proof-medicare",
   "metadata": {
    "execution": {
     "iopub.execute_input": "2021-02-27T10:12:27.176472Z",
     "iopub.status.busy": "2021-02-27T10:12:27.175874Z",
     "iopub.status.idle": "2021-02-27T10:12:27.180359Z",
     "shell.execute_reply": "2021-02-27T10:12:27.180868Z"
    },
    "jupyter": {
     "source_hidden": true
    },
    "papermill": {
     "duration": 0.021311,
     "end_time": "2021-02-27T10:12:27.181011",
     "exception": false,
     "start_time": "2021-02-27T10:12:27.159700",
     "status": "completed"
    },
    "tags": []
   },
   "outputs": [
    {
     "data": {
      "text/html": [
       "<style>\n",
       "div.input {\n",
       "    display:none;\n",
       "}\n",
       "</style>\n"
      ],
      "text/plain": [
       "<IPython.core.display.HTML object>"
      ]
     },
     "metadata": {},
     "output_type": "display_data"
    }
   ],
   "source": [
    "%%html\n",
    "<style>\n",
    "div.input {\n",
    "    display:none;\n",
    "}\n",
    "</style>"
   ]
  }
 ],
 "metadata": {
  "kernelspec": {
   "display_name": "Python 3",
   "language": "python",
   "name": "python3"
  },
  "language_info": {
   "codemirror_mode": {
    "name": "ipython",
    "version": 3
   },
   "file_extension": ".py",
   "mimetype": "text/x-python",
   "name": "python",
   "nbconvert_exporter": "python",
   "pygments_lexer": "ipython3",
   "version": "3.8.7"
  },
  "papermill": {
   "duration": 4.232179,
   "end_time": "2021-02-27T10:12:27.499288",
   "environment_variables": {},
   "exception": null,
   "input_path": "DunnCounty_COVID19.ipynb",
   "output_path": "DunnCounty_COVID19.ipynb",
   "parameters": {
    "Start": "True",
    "secretsPath": "/home/runner/work/_temp/secrets.json"
   },
   "start_time": "2021-02-27T10:12:23.267109",
   "version": "1.1.16"
  }
 },
 "nbformat": 4,
 "nbformat_minor": 5
}