{
 "cells": [
  {
   "cell_type": "code",
   "execution_count": 1,
   "metadata": {
    "execution": {
     "iopub.execute_input": "2020-12-06T10:11:55.794178Z",
     "iopub.status.busy": "2020-12-06T10:11:55.793588Z",
     "iopub.status.idle": "2020-12-06T10:12:00.125976Z",
     "shell.execute_reply": "2020-12-06T10:12:00.124933Z"
    },
    "jupyter": {
     "source_hidden": true
    },
    "papermill": {
     "duration": 4.347485,
     "end_time": "2020-12-06T10:12:00.126189",
     "exception": false,
     "start_time": "2020-12-06T10:11:55.778704",
     "status": "completed"
    },
    "scrolled": true,
    "tags": [
     "hide-input"
    ]
   },
   "outputs": [],
   "source": [
    "import pandas as pd\n",
    "import matplotlib.pyplot as plt\n",
    "from matplotlib import dates\n",
    "from IPython.display import display, Markdown\n",
    "%matplotlib inline"
   ]
  },
  {
   "cell_type": "code",
   "execution_count": 2,
   "metadata": {
    "execution": {
     "iopub.execute_input": "2020-12-06T10:12:00.147453Z",
     "iopub.status.busy": "2020-12-06T10:12:00.146891Z",
     "iopub.status.idle": "2020-12-06T10:12:01.609683Z",
     "shell.execute_reply": "2020-12-06T10:12:01.608759Z"
    },
    "jupyter": {
     "source_hidden": true
    },
    "papermill": {
     "duration": 1.476349,
     "end_time": "2020-12-06T10:12:01.609918",
     "exception": false,
     "start_time": "2020-12-06T10:12:00.133569",
     "status": "completed"
    },
    "scrolled": true,
    "tags": [
     "hide-input"
    ]
   },
   "outputs": [],
   "source": [
    "# This is the data for all of Wisconsin.\n",
    "url = \"https://opendata.arcgis.com/datasets/5374188992374b318d3e2305216ee413_12.csv\"\n",
    "data = pd.read_csv(url, parse_dates=['DATE'], low_memory=False)"
   ]
  },
  {
   "cell_type": "code",
   "execution_count": 3,
   "metadata": {
    "execution": {
     "iopub.execute_input": "2020-12-06T10:12:01.632032Z",
     "iopub.status.busy": "2020-12-06T10:12:01.631475Z",
     "iopub.status.idle": "2020-12-06T10:12:01.640602Z",
     "shell.execute_reply": "2020-12-06T10:12:01.640116Z"
    },
    "jupyter": {
     "source_hidden": true
    },
    "papermill": {
     "duration": 0.021995,
     "end_time": "2020-12-06T10:12:01.640726",
     "exception": false,
     "start_time": "2020-12-06T10:12:01.618731",
     "status": "completed"
    },
    "scrolled": true,
    "tags": [
     "hide-input"
    ]
   },
   "outputs": [],
   "source": [
    "dc = data.groupby('NAME').get_group('Dunn').sort_values(by='DATE') # Select the data for Dunn County from the full data.\n",
    "PNi = dc.columns.get_loc(\"POS_NEW\")\n",
    "dc['7_DAY'] = dc.iloc[:,PNi].rolling(window=7).mean() # Calculates the rolling 7-day average of new cases.\n",
    "dc['14_DAY'] = dc.iloc[:,PNi].rolling(window=14).mean() # Calculates the rolling 14-day average of new cases."
   ]
  },
  {
   "cell_type": "code",
   "execution_count": 4,
   "metadata": {
    "execution": {
     "iopub.execute_input": "2020-12-06T10:12:01.661571Z",
     "iopub.status.busy": "2020-12-06T10:12:01.661001Z",
     "iopub.status.idle": "2020-12-06T10:12:01.664416Z",
     "shell.execute_reply": "2020-12-06T10:12:01.664848Z"
    },
    "jupyter": {
     "source_hidden": true
    },
    "papermill": {
     "duration": 0.017295,
     "end_time": "2020-12-06T10:12:01.664985",
     "exception": false,
     "start_time": "2020-12-06T10:12:01.647690",
     "status": "completed"
    },
    "scrolled": true,
    "tags": [
     "hide-input"
    ]
   },
   "outputs": [
    {
     "data": {
      "text/markdown": [
       "### Last updated: December 05, 2020"
      ],
      "text/plain": [
       "<IPython.core.display.Markdown object>"
      ]
     },
     "metadata": {},
     "output_type": "display_data"
    }
   ],
   "source": [
    "display(Markdown('### Last updated: ' + dc.iloc[-1]['DATE'].strftime(\"%B %d, %Y\")))"
   ]
  },
  {
   "cell_type": "code",
   "execution_count": 5,
   "metadata": {
    "execution": {
     "iopub.execute_input": "2020-12-06T10:12:01.684428Z",
     "iopub.status.busy": "2020-12-06T10:12:01.683864Z",
     "iopub.status.idle": "2020-12-06T10:12:01.688187Z",
     "shell.execute_reply": "2020-12-06T10:12:01.687747Z"
    },
    "jupyter": {
     "source_hidden": true
    },
    "papermill": {
     "duration": 0.015926,
     "end_time": "2020-12-06T10:12:01.688307",
     "exception": false,
     "start_time": "2020-12-06T10:12:01.672381",
     "status": "completed"
    },
    "tags": [
     "hide-input"
    ]
   },
   "outputs": [
    {
     "data": {
      "text/markdown": [
       "# Dunn County has 2960 total positive cases, with 29 new cases reported today."
      ],
      "text/plain": [
       "<IPython.core.display.Markdown object>"
      ]
     },
     "metadata": {},
     "output_type": "display_data"
    }
   ],
   "source": [
    "display(Markdown('# Dunn County has ' + str(dc.iloc[-1]['POSITIVE']) + ' total positive cases, with '+ str(int(dc.iloc[-1]['POS_NEW'])) + ' new cases reported today.'))"
   ]
  },
  {
   "cell_type": "code",
   "execution_count": 6,
   "metadata": {
    "execution": {
     "iopub.execute_input": "2020-12-06T10:12:01.707502Z",
     "iopub.status.busy": "2020-12-06T10:12:01.706955Z",
     "iopub.status.idle": "2020-12-06T10:12:01.934178Z",
     "shell.execute_reply": "2020-12-06T10:12:01.934684Z"
    },
    "jupyter": {
     "source_hidden": true
    },
    "papermill": {
     "duration": 0.238863,
     "end_time": "2020-12-06T10:12:01.934849",
     "exception": false,
     "start_time": "2020-12-06T10:12:01.695986",
     "status": "completed"
    },
    "scrolled": false,
    "tags": [
     "hide-input"
    ]
   },
   "outputs": [
    {
     "data": {
      "image/png": "[encoded data removed]",
      "text/plain": [
       "<Figure size 864x432 with 1 Axes>"
      ]
     },
     "metadata": {
      "needs_background": "light"
     },
     "output_type": "display_data"
    }
   ],
   "source": [
    "dc.plot(x='DATE',y='POSITIVE',color='red',grid='True',figsize=(12,6)).set_xlabel('Date');"
   ]
  },
  {
   "cell_type": "markdown",
   "metadata": {
    "papermill": {
     "duration": 0.012096,
     "end_time": "2020-12-06T10:12:01.958134",
     "exception": false,
     "start_time": "2020-12-06T10:12:01.946038",
     "status": "completed"
    },
    "tags": []
   },
   "source": [
    "## Figure 1: Cummulative number of positive cases."
   ]
  },
  {
   "cell_type": "code",
   "execution_count": 7,
   "metadata": {
    "execution": {
     "iopub.execute_input": "2020-12-06T10:12:01.983191Z",
     "iopub.status.busy": "2020-12-06T10:12:01.982643Z",
     "iopub.status.idle": "2020-12-06T10:12:02.198651Z",
     "shell.execute_reply": "2020-12-06T10:12:02.199098Z"
    },
    "jupyter": {
     "source_hidden": true
    },
    "papermill": {
     "duration": 0.231583,
     "end_time": "2020-12-06T10:12:02.199258",
     "exception": false,
     "start_time": "2020-12-06T10:12:01.967675",
     "status": "completed"
    },
    "scrolled": false,
    "tags": [
     "hide-input"
    ]
   },
   "outputs": [
    {
     "data": {
      "image/png": "[encoded data removed]",
      "text/plain": [
       "<Figure size 864x432 with 1 Axes>"
      ]
     },
     "metadata": {
      "needs_background": "light"
     },
     "output_type": "display_data"
    }
   ],
   "source": [
    "dc.plot(kind='line',x='DATE',y='7_DAY',color='blue',grid='True',figsize=(12,6)).set_xlabel('Date');"
   ]
  },
  {
   "cell_type": "markdown",
   "metadata": {
    "papermill": {
     "duration": 0.009884,
     "end_time": "2020-12-06T10:12:02.218937",
     "exception": false,
     "start_time": "2020-12-06T10:12:02.209053",
     "status": "completed"
    },
    "tags": []
   },
   "source": [
    "## Figure 2: Rolling 7-day average of daily new cases."
   ]
  },
  {
   "cell_type": "code",
   "execution_count": 8,
   "metadata": {
    "execution": {
     "iopub.execute_input": "2020-12-06T10:12:02.244049Z",
     "iopub.status.busy": "2020-12-06T10:12:02.243508Z",
     "iopub.status.idle": "2020-12-06T10:12:02.461855Z",
     "shell.execute_reply": "2020-12-06T10:12:02.462323Z"
    },
    "jupyter": {
     "source_hidden": true
    },
    "papermill": {
     "duration": 0.234174,
     "end_time": "2020-12-06T10:12:02.462483",
     "exception": false,
     "start_time": "2020-12-06T10:12:02.228309",
     "status": "completed"
    },
    "tags": []
   },
   "outputs": [
    {
     "data": {
      "image/png": "[encoded data removed]",
      "text/plain": [
       "<Figure size 864x432 with 1 Axes>"
      ]
     },
     "metadata": {
      "needs_background": "light"
     },
     "output_type": "display_data"
    }
   ],
   "source": [
    "dc.plot(kind='line',x='DATE',y='14_DAY',color='green',grid='True',figsize=(12,6)).set_xlabel('Date');"
   ]
  },
  {
   "cell_type": "markdown",
   "metadata": {
    "papermill": {
     "duration": 0.011493,
     "end_time": "2020-12-06T10:12:02.485222",
     "exception": false,
     "start_time": "2020-12-06T10:12:02.473729",
     "status": "completed"
    },
    "tags": []
   },
   "source": [
    "## Figure 3: Rolling 14-day average of daily new cases."
   ]
  },
  {
   "cell_type": "markdown",
   "metadata": {
    "papermill": {
     "duration": 0.010604,
     "end_time": "2020-12-06T10:12:02.506597",
     "exception": false,
     "start_time": "2020-12-06T10:12:02.495993",
     "status": "completed"
    },
    "tags": []
   },
   "source": [
    "Data source: [Wisconsin Department of Health Services](https://data.dhsgis.wi.gov/datasets/covid-19-historical-data-table/)"
   ]
  },
  {
   "cell_type": "code",
   "execution_count": 9,
   "metadata": {
    "execution": {
     "iopub.execute_input": "2020-12-06T10:12:02.533133Z",
     "iopub.status.busy": "2020-12-06T10:12:02.532578Z",
     "iopub.status.idle": "2020-12-06T10:12:02.536014Z",
     "shell.execute_reply": "2020-12-06T10:12:02.535462Z"
    },
    "jupyter": {
     "source_hidden": true
    },
    "papermill": {
     "duration": 0.019004,
     "end_time": "2020-12-06T10:12:02.536135",
     "exception": false,
     "start_time": "2020-12-06T10:12:02.517131",
     "status": "completed"
    },
    "tags": []
   },
   "outputs": [
    {
     "data": {
      "text/html": [
       "<style>\n",
       "div.input {\n",
       "    display:none;\n",
       "}\n",
       "</style>\n"
      ],
      "text/plain": [
       "<IPython.core.display.HTML object>"
      ]
     },
     "metadata": {},
     "output_type": "display_data"
    }
   ],
   "source": [
    "%%html\n",
    "<style>\n",
    "div.input {\n",
    "    display:none;\n",
    "}\n",
    "</style>"
   ]
  }
 ],
 "metadata": {
  "kernelspec": {
   "display_name": "Python 3",
   "language": "python",
   "name": "python3"
  },
  "language_info": {
   "codemirror_mode": {
    "name": "ipython",
    "version": 3
   },
   "file_extension": ".py",
   "mimetype": "text/x-python",
   "name": "python",
   "nbconvert_exporter": "python",
   "pygments_lexer": "ipython3",
   "version": "3.8.6"
  },
  "papermill": {
   "duration": 9.137953,
   "end_time": "2020-12-06T10:12:02.855157",
   "environment_variables": {},
   "exception": null,
   "input_path": "DunnCounty_COVID19.ipynb",
   "output_path": "DunnCounty_COVID19.ipynb",
   "parameters": {
    "Start": "True",
    "secretsPath": "/home/runner/work/_temp/secrets.json"
   },
   "start_time": "2020-12-06T10:11:53.717204",
   "version": "1.1.16"
  }
 },
 "nbformat": 4,
 "nbformat_minor": 2
}