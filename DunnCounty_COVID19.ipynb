{
 "cells": [
  {
   "cell_type": "code",
   "execution_count": 1,
   "metadata": {
    "execution": {
     "iopub.execute_input": "2020-11-20T10:10:09.193997Z",
     "iopub.status.busy": "2020-11-20T10:10:09.193329Z",
     "iopub.status.idle": "2020-11-20T10:10:12.562057Z",
     "shell.execute_reply": "2020-11-20T10:10:12.560669Z"
    },
    "jupyter": {
     "source_hidden": true
    },
    "papermill": {
     "duration": 3.383029,
     "end_time": "2020-11-20T10:10:12.562254",
     "exception": false,
     "start_time": "2020-11-20T10:10:09.179225",
     "status": "completed"
    },
    "scrolled": true,
    "tags": [
     "hide-input"
    ]
   },
   "outputs": [],
   "source": [
    "import pandas as pd\n",
    "import matplotlib.pyplot as plt\n",
    "from matplotlib import dates\n",
    "from IPython.display import display, Markdown\n",
    "%matplotlib inline"
   ]
  },
  {
   "cell_type": "code",
   "execution_count": 2,
   "metadata": {
    "execution": {
     "iopub.execute_input": "2020-11-20T10:10:12.585612Z",
     "iopub.status.busy": "2020-11-20T10:10:12.585048Z",
     "iopub.status.idle": "2020-11-20T10:10:13.249745Z",
     "shell.execute_reply": "2020-11-20T10:10:13.249255Z"
    },
    "jupyter": {
     "source_hidden": true
    },
    "papermill": {
     "duration": 0.680066,
     "end_time": "2020-11-20T10:10:13.249869",
     "exception": false,
     "start_time": "2020-11-20T10:10:12.569803",
     "status": "completed"
    },
    "scrolled": true,
    "tags": [
     "hide-input"
    ]
   },
   "outputs": [],
   "source": [
    "# This is the data for all of Wisconsin.\n",
    "url = \"https://opendata.arcgis.com/datasets/5374188992374b318d3e2305216ee413_12.csv\"\n",
    "data = pd.read_csv(url, parse_dates=['DATE'], low_memory=False)"
   ]
  },
  {
   "cell_type": "code",
   "execution_count": 3,
   "metadata": {
    "execution": {
     "iopub.execute_input": "2020-11-20T10:10:13.278293Z",
     "iopub.status.busy": "2020-11-20T10:10:13.277690Z",
     "iopub.status.idle": "2020-11-20T10:10:13.289029Z",
     "shell.execute_reply": "2020-11-20T10:10:13.288309Z"
    },
    "jupyter": {
     "source_hidden": true
    },
    "papermill": {
     "duration": 0.026492,
     "end_time": "2020-11-20T10:10:13.289173",
     "exception": false,
     "start_time": "2020-11-20T10:10:13.262681",
     "status": "completed"
    },
    "scrolled": true,
    "tags": [
     "hide-input"
    ]
   },
   "outputs": [],
   "source": [
    "dc = data.groupby('NAME').get_group('Dunn').sort_values(by='DATE') # Select the data for Dunn County from the full data.\n",
    "PNi = dc.columns.get_loc(\"POS_NEW\")\n",
    "dc['7_DAY'] = dc.iloc[:,PNi].rolling(window=7).mean() # Calculates the rolling 7-day average of new cases.\n",
    "dc['14_DAY'] = dc.iloc[:,PNi].rolling(window=14).mean() # Calculates the rolling 14-day average of new cases."
   ]
  },
  {
   "cell_type": "code",
   "execution_count": 4,
   "metadata": {
    "execution": {
     "iopub.execute_input": "2020-11-20T10:10:13.308896Z",
     "iopub.status.busy": "2020-11-20T10:10:13.308230Z",
     "iopub.status.idle": "2020-11-20T10:10:13.313697Z",
     "shell.execute_reply": "2020-11-20T10:10:13.314225Z"
    },
    "jupyter": {
     "source_hidden": true
    },
    "papermill": {
     "duration": 0.017597,
     "end_time": "2020-11-20T10:10:13.314372",
     "exception": false,
     "start_time": "2020-11-20T10:10:13.296775",
     "status": "completed"
    },
    "scrolled": true,
    "tags": [
     "hide-input"
    ]
   },
   "outputs": [
    {
     "data": {
      "text/markdown": [
       "### Last updated: November 19, 2020"
      ],
      "text/plain": [
       "<IPython.core.display.Markdown object>"
      ]
     },
     "metadata": {},
     "output_type": "display_data"
    }
   ],
   "source": [
    "display(Markdown('### Last updated: ' + dc.iloc[-1]['DATE'].strftime(\"%B %d, %Y\")))"
   ]
  },
  {
   "cell_type": "code",
   "execution_count": 5,
   "metadata": {
    "execution": {
     "iopub.execute_input": "2020-11-20T10:10:13.334875Z",
     "iopub.status.busy": "2020-11-20T10:10:13.334207Z",
     "iopub.status.idle": "2020-11-20T10:10:13.337621Z",
     "shell.execute_reply": "2020-11-20T10:10:13.337132Z"
    },
    "jupyter": {
     "source_hidden": true
    },
    "papermill": {
     "duration": 0.015513,
     "end_time": "2020-11-20T10:10:13.337735",
     "exception": false,
     "start_time": "2020-11-20T10:10:13.322222",
     "status": "completed"
    },
    "tags": [
     "hide-input"
    ]
   },
   "outputs": [
    {
     "data": {
      "text/markdown": [
       "# Dunn County has 2217 total positive cases, with 56 new cases reported today."
      ],
      "text/plain": [
       "<IPython.core.display.Markdown object>"
      ]
     },
     "metadata": {},
     "output_type": "display_data"
    }
   ],
   "source": [
    "display(Markdown('# Dunn County has ' + str(dc.iloc[-1]['POSITIVE']) + ' total positive cases, with '+ str(int(dc.iloc[-1]['POS_NEW'])) + ' new cases reported today.'))"
   ]
  },
  {
   "cell_type": "code",
   "execution_count": 6,
   "metadata": {
    "execution": {
     "iopub.execute_input": "2020-11-20T10:10:13.357814Z",
     "iopub.status.busy": "2020-11-20T10:10:13.356982Z",
     "iopub.status.idle": "2020-11-20T10:10:13.608061Z",
     "shell.execute_reply": "2020-11-20T10:10:13.607494Z"
    },
    "jupyter": {
     "source_hidden": true
    },
    "papermill": {
     "duration": 0.262287,
     "end_time": "2020-11-20T10:10:13.608188",
     "exception": false,
     "start_time": "2020-11-20T10:10:13.345901",
     "status": "completed"
    },
    "scrolled": false,
    "tags": [
     "hide-input"
    ]
   },
   "outputs": [
    {
     "data": {
      "image/png": "[encoded data removed]",
      "text/plain": [
       "<Figure size 864x432 with 1 Axes>"
      ]
     },
     "metadata": {
      "needs_background": "light"
     },
     "output_type": "display_data"
    }
   ],
   "source": [
    "dc.plot(x='DATE',y='POSITIVE',color='red',grid='True',figsize=(12,6)).set_xlabel('Date');"
   ]
  },
  {
   "cell_type": "markdown",
   "metadata": {
    "papermill": {
     "duration": 0.009346,
     "end_time": "2020-11-20T10:10:13.626405",
     "exception": false,
     "start_time": "2020-11-20T10:10:13.617059",
     "status": "completed"
    },
    "tags": []
   },
   "source": [
    "## Figure 1: Cummulative number of positive cases."
   ]
  },
  {
   "cell_type": "code",
   "execution_count": 7,
   "metadata": {
    "execution": {
     "iopub.execute_input": "2020-11-20T10:10:13.666398Z",
     "iopub.status.busy": "2020-11-20T10:10:13.648710Z",
     "iopub.status.idle": "2020-11-20T10:10:13.900944Z",
     "shell.execute_reply": "2020-11-20T10:10:13.900417Z"
    },
    "jupyter": {
     "source_hidden": true
    },
    "papermill": {
     "duration": 0.265383,
     "end_time": "2020-11-20T10:10:13.901087",
     "exception": false,
     "start_time": "2020-11-20T10:10:13.635704",
     "status": "completed"
    },
    "scrolled": false,
    "tags": [
     "hide-input"
    ]
   },
   "outputs": [
    {
     "data": {
      "image/png": "[encoded data removed]",
      "text/plain": [
       "<Figure size 864x432 with 1 Axes>"
      ]
     },
     "metadata": {
      "needs_background": "light"
     },
     "output_type": "display_data"
    }
   ],
   "source": [
    "dc.plot(kind='line',x='DATE',y='7_DAY',color='blue',grid='True',figsize=(12,6)).set_xlabel('Date');"
   ]
  },
  {
   "cell_type": "markdown",
   "metadata": {
    "papermill": {
     "duration": 0.00998,
     "end_time": "2020-11-20T10:10:13.921168",
     "exception": false,
     "start_time": "2020-11-20T10:10:13.911188",
     "status": "completed"
    },
    "tags": []
   },
   "source": [
    "## Figure 2: Rolling 7-day average of daily new cases."
   ]
  },
  {
   "cell_type": "code",
   "execution_count": 8,
   "metadata": {
    "execution": {
     "iopub.execute_input": "2020-11-20T10:10:13.945794Z",
     "iopub.status.busy": "2020-11-20T10:10:13.945194Z",
     "iopub.status.idle": "2020-11-20T10:10:14.191137Z",
     "shell.execute_reply": "2020-11-20T10:10:14.191650Z"
    },
    "jupyter": {
     "source_hidden": true
    },
    "papermill": {
     "duration": 0.26069,
     "end_time": "2020-11-20T10:10:14.191817",
     "exception": false,
     "start_time": "2020-11-20T10:10:13.931127",
     "status": "completed"
    },
    "tags": []
   },
   "outputs": [
    {
     "data": {
      "image/png": "[encoded data removed]",
      "text/plain": [
       "<Figure size 864x432 with 1 Axes>"
      ]
     },
     "metadata": {
      "needs_background": "light"
     },
     "output_type": "display_data"
    }
   ],
   "source": [
    "dc.plot(kind='line',x='DATE',y='14_DAY',color='green',grid='True',figsize=(12,6)).set_xlabel('Date');"
   ]
  },
  {
   "cell_type": "markdown",
   "metadata": {
    "papermill": {
     "duration": 0.011694,
     "end_time": "2020-11-20T10:10:14.214423",
     "exception": false,
     "start_time": "2020-11-20T10:10:14.202729",
     "status": "completed"
    },
    "tags": []
   },
   "source": [
    "## Figure 3: Rolling 14-day average of daily new cases."
   ]
  },
  {
   "cell_type": "markdown",
   "metadata": {
    "papermill": {
     "duration": 0.012637,
     "end_time": "2020-11-20T10:10:14.246183",
     "exception": false,
     "start_time": "2020-11-20T10:10:14.233546",
     "status": "completed"
    },
    "tags": []
   },
   "source": [
    "Data source: [Wisconsin Department of Health Services](https://data.dhsgis.wi.gov/datasets/covid-19-historical-data-table/)"
   ]
  },
  {
   "cell_type": "code",
   "execution_count": 9,
   "metadata": {
    "execution": {
     "iopub.execute_input": "2020-11-20T10:10:14.277963Z",
     "iopub.status.busy": "2020-11-20T10:10:14.277341Z",
     "iopub.status.idle": "2020-11-20T10:10:14.280993Z",
     "shell.execute_reply": "2020-11-20T10:10:14.280385Z"
    },
    "jupyter": {
     "source_hidden": true
    },
    "papermill": {
     "duration": 0.02224,
     "end_time": "2020-11-20T10:10:14.281127",
     "exception": false,
     "start_time": "2020-11-20T10:10:14.258887",
     "status": "completed"
    },
    "tags": []
   },
   "outputs": [
    {
     "data": {
      "text/html": [
       "<style>\n",
       "div.input {\n",
       "    display:none;\n",
       "}\n",
       "</style>\n"
      ],
      "text/plain": [
       "<IPython.core.display.HTML object>"
      ]
     },
     "metadata": {},
     "output_type": "display_data"
    }
   ],
   "source": [
    "%%html\n",
    "<style>\n",
    "div.input {\n",
    "    display:none;\n",
    "}\n",
    "</style>"
   ]
  }
 ],
 "metadata": {
  "kernelspec": {
   "display_name": "Python 3",
   "language": "python",
   "name": "python3"
  },
  "language_info": {
   "codemirror_mode": {
    "name": "ipython",
    "version": 3
   },
   "file_extension": ".py",
   "mimetype": "text/x-python",
   "name": "python",
   "nbconvert_exporter": "python",
   "pygments_lexer": "ipython3",
   "version": "3.8.6"
  },
  "papermill": {
   "duration": 7.045007,
   "end_time": "2020-11-20T10:10:14.600738",
   "environment_variables": {},
   "exception": null,
   "input_path": "DunnCounty_COVID19.ipynb",
   "output_path": "DunnCounty_COVID19.ipynb",
   "parameters": {
    "Start": "True",
    "secretsPath": "/home/runner/work/_temp/secrets.json"
   },
   "start_time": "2020-11-20T10:10:07.555731",
   "version": "1.1.16"
  }
 },
 "nbformat": 4,
 "nbformat_minor": 2
}