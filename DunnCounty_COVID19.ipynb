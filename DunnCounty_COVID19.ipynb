{
 "cells": [
  {
   "cell_type": "code",
   "execution_count": 1,
   "id": "solar-understanding",
   "metadata": {
    "execution": {
     "iopub.execute_input": "2021-04-08T10:16:20.519805Z",
     "iopub.status.busy": "2021-04-08T10:16:20.519248Z",
     "iopub.status.idle": "2021-04-08T10:16:24.845479Z",
     "shell.execute_reply": "2021-04-08T10:16:24.844449Z"
    },
    "jupyter": {
     "source_hidden": true
    },
    "papermill": {
     "duration": 4.350134,
     "end_time": "2021-04-08T10:16:24.845720",
     "exception": false,
     "start_time": "2021-04-08T10:16:20.495586",
     "status": "completed"
    },
    "scrolled": true,
    "tags": [
     "hide-input"
    ]
   },
   "outputs": [],
   "source": [
    "import pandas as pd\n",
    "import matplotlib.pyplot as plt\n",
    "from matplotlib import dates\n",
    "from IPython.display import display, Markdown\n",
    "%matplotlib inline"
   ]
  },
  {
   "cell_type": "code",
   "execution_count": 2,
   "id": "purple-playlist",
   "metadata": {
    "execution": {
     "iopub.execute_input": "2021-04-08T10:16:24.869876Z",
     "iopub.status.busy": "2021-04-08T10:16:24.869341Z",
     "iopub.status.idle": "2021-04-08T10:16:25.673794Z",
     "shell.execute_reply": "2021-04-08T10:16:25.674562Z"
    },
    "jupyter": {
     "source_hidden": true
    },
    "papermill": {
     "duration": 0.819556,
     "end_time": "2021-04-08T10:16:25.674940",
     "exception": false,
     "start_time": "2021-04-08T10:16:24.855384",
     "status": "completed"
    },
    "scrolled": true,
    "tags": [
     "hide-input"
    ]
   },
   "outputs": [],
   "source": [
    "# This is the data for all of Wisconsin.\n",
    "url = \"https://opendata.arcgis.com/datasets/5374188992374b318d3e2305216ee413_12.csv\"\n",
    "data = pd.read_csv(url, parse_dates=['DATE'], low_memory=False)"
   ]
  },
  {
   "cell_type": "code",
   "execution_count": 3,
   "id": "proprietary-klein",
   "metadata": {
    "execution": {
     "iopub.execute_input": "2021-04-08T10:16:25.701465Z",
     "iopub.status.busy": "2021-04-08T10:16:25.700914Z",
     "iopub.status.idle": "2021-04-08T10:16:25.711459Z",
     "shell.execute_reply": "2021-04-08T10:16:25.710770Z"
    },
    "jupyter": {
     "source_hidden": true
    },
    "papermill": {
     "duration": 0.026214,
     "end_time": "2021-04-08T10:16:25.711584",
     "exception": false,
     "start_time": "2021-04-08T10:16:25.685370",
     "status": "completed"
    },
    "scrolled": true,
    "tags": [
     "hide-input"
    ]
   },
   "outputs": [],
   "source": [
    "dc = data.groupby('NAME').get_group('Dunn').sort_values(by='DATE') # Select the data for Dunn County from the full data.\n",
    "PNi = dc.columns.get_loc(\"POS_NEW\")\n",
    "dc['7_DAY'] = dc.iloc[:,PNi].rolling(window=7).mean() # Calculates the rolling 7-day average of new cases.\n",
    "dc['14_DAY'] = dc.iloc[:,PNi].rolling(window=14).mean() # Calculates the rolling 14-day average of new cases."
   ]
  },
  {
   "cell_type": "code",
   "execution_count": 4,
   "id": "steady-supervision",
   "metadata": {
    "execution": {
     "iopub.execute_input": "2021-04-08T10:16:25.743489Z",
     "iopub.status.busy": "2021-04-08T10:16:25.742893Z",
     "iopub.status.idle": "2021-04-08T10:16:25.747258Z",
     "shell.execute_reply": "2021-04-08T10:16:25.746812Z"
    },
    "jupyter": {
     "source_hidden": true
    },
    "papermill": {
     "duration": 0.023472,
     "end_time": "2021-04-08T10:16:25.747379",
     "exception": false,
     "start_time": "2021-04-08T10:16:25.723907",
     "status": "completed"
    },
    "scrolled": true,
    "tags": [
     "hide-input"
    ]
   },
   "outputs": [
    {
     "data": {
      "text/markdown": [
       "### Last updated: April 07, 2021"
      ],
      "text/plain": [
       "<IPython.core.display.Markdown object>"
      ]
     },
     "metadata": {},
     "output_type": "display_data"
    }
   ],
   "source": [
    "display(Markdown('### Last updated: ' + dc.iloc[-1]['DATE'].strftime(\"%B %d, %Y\")))"
   ]
  },
  {
   "cell_type": "code",
   "execution_count": 5,
   "id": "lonely-pitch",
   "metadata": {
    "execution": {
     "iopub.execute_input": "2021-04-08T10:16:25.771463Z",
     "iopub.status.busy": "2021-04-08T10:16:25.770922Z",
     "iopub.status.idle": "2021-04-08T10:16:25.773974Z",
     "shell.execute_reply": "2021-04-08T10:16:25.773536Z"
    },
    "jupyter": {
     "source_hidden": true
    },
    "papermill": {
     "duration": 0.017596,
     "end_time": "2021-04-08T10:16:25.774101",
     "exception": false,
     "start_time": "2021-04-08T10:16:25.756505",
     "status": "completed"
    },
    "tags": [
     "hide-input"
    ]
   },
   "outputs": [
    {
     "data": {
      "text/markdown": [
       "# Dunn County has 4460 total positive cases, with 18 new cases reported today."
      ],
      "text/plain": [
       "<IPython.core.display.Markdown object>"
      ]
     },
     "metadata": {},
     "output_type": "display_data"
    }
   ],
   "source": [
    "display(Markdown('# Dunn County has ' + str(dc.iloc[-1]['POSITIVE']) + ' total positive cases, with '+ str(int(dc.iloc[-1]['POS_NEW'])) + ' new cases reported today.'))"
   ]
  },
  {
   "cell_type": "code",
   "execution_count": 6,
   "id": "compound-nightmare",
   "metadata": {
    "execution": {
     "iopub.execute_input": "2021-04-08T10:16:25.797661Z",
     "iopub.status.busy": "2021-04-08T10:16:25.797126Z",
     "iopub.status.idle": "2021-04-08T10:16:26.114653Z",
     "shell.execute_reply": "2021-04-08T10:16:26.114190Z"
    },
    "jupyter": {
     "source_hidden": true
    },
    "papermill": {
     "duration": 0.331336,
     "end_time": "2021-04-08T10:16:26.114778",
     "exception": false,
     "start_time": "2021-04-08T10:16:25.783442",
     "status": "completed"
    },
    "scrolled": false,
    "tags": [
     "hide-input"
    ]
   },
   "outputs": [
    {
     "data": {
      "image/png": "[encoded data removed]",
      "text/plain": [
       "<Figure size 864x432 with 1 Axes>"
      ]
     },
     "metadata": {
      "needs_background": "light"
     },
     "output_type": "display_data"
    }
   ],
   "source": [
    "dc.plot(x='DATE',y='POSITIVE',color='red',grid='True',figsize=(12,6)).set_xlabel('Date');"
   ]
  },
  {
   "cell_type": "markdown",
   "id": "coupled-literacy",
   "metadata": {
    "papermill": {
     "duration": 0.010475,
     "end_time": "2021-04-08T10:16:26.135816",
     "exception": false,
     "start_time": "2021-04-08T10:16:26.125341",
     "status": "completed"
    },
    "tags": []
   },
   "source": [
    "## Figure 1: Cummulative number of positive cases."
   ]
  },
  {
   "cell_type": "code",
   "execution_count": 7,
   "id": "surrounded-reserve",
   "metadata": {
    "execution": {
     "iopub.execute_input": "2021-04-08T10:16:26.161741Z",
     "iopub.status.busy": "2021-04-08T10:16:26.160745Z",
     "iopub.status.idle": "2021-04-08T10:16:26.353760Z",
     "shell.execute_reply": "2021-04-08T10:16:26.354172Z"
    },
    "jupyter": {
     "source_hidden": true
    },
    "papermill": {
     "duration": 0.208127,
     "end_time": "2021-04-08T10:16:26.354330",
     "exception": false,
     "start_time": "2021-04-08T10:16:26.146203",
     "status": "completed"
    },
    "scrolled": false,
    "tags": [
     "hide-input"
    ]
   },
   "outputs": [
    {
     "data": {
      "image/png": "[encoded data removed]",
      "text/plain": [
       "<Figure size 864x432 with 1 Axes>"
      ]
     },
     "metadata": {
      "needs_background": "light"
     },
     "output_type": "display_data"
    }
   ],
   "source": [
    "dc.plot(kind='line',x='DATE',y='7_DAY',color='blue',grid='True',figsize=(12,6)).set_xlabel('Date');"
   ]
  },
  {
   "cell_type": "markdown",
   "id": "professional-savannah",
   "metadata": {
    "papermill": {
     "duration": 0.011667,
     "end_time": "2021-04-08T10:16:26.377840",
     "exception": false,
     "start_time": "2021-04-08T10:16:26.366173",
     "status": "completed"
    },
    "tags": []
   },
   "source": [
    "## Figure 2: Rolling 7-day average of daily new cases."
   ]
  },
  {
   "cell_type": "code",
   "execution_count": 8,
   "id": "stretch-investor",
   "metadata": {
    "execution": {
     "iopub.execute_input": "2021-04-08T10:16:26.405366Z",
     "iopub.status.busy": "2021-04-08T10:16:26.404826Z",
     "iopub.status.idle": "2021-04-08T10:16:26.606666Z",
     "shell.execute_reply": "2021-04-08T10:16:26.606180Z"
    },
    "jupyter": {
     "source_hidden": true
    },
    "papermill": {
     "duration": 0.217414,
     "end_time": "2021-04-08T10:16:26.606787",
     "exception": false,
     "start_time": "2021-04-08T10:16:26.389373",
     "status": "completed"
    },
    "tags": []
   },
   "outputs": [
    {
     "data": {
      "image/png": "[encoded data removed]",
      "text/plain": [
       "<Figure size 864x432 with 1 Axes>"
      ]
     },
     "metadata": {
      "needs_background": "light"
     },
     "output_type": "display_data"
    }
   ],
   "source": [
    "dc.plot(kind='line',x='DATE',y='14_DAY',color='green',grid='True',figsize=(12,6)).set_xlabel('Date');"
   ]
  },
  {
   "cell_type": "markdown",
   "id": "prerequisite-species",
   "metadata": {
    "papermill": {
     "duration": 0.012974,
     "end_time": "2021-04-08T10:16:26.633524",
     "exception": false,
     "start_time": "2021-04-08T10:16:26.620550",
     "status": "completed"
    },
    "tags": []
   },
   "source": [
    "## Figure 3: Rolling 14-day average of daily new cases."
   ]
  },
  {
   "cell_type": "markdown",
   "id": "palestinian-guard",
   "metadata": {
    "papermill": {
     "duration": 0.012599,
     "end_time": "2021-04-08T10:16:26.658987",
     "exception": false,
     "start_time": "2021-04-08T10:16:26.646388",
     "status": "completed"
    },
    "tags": []
   },
   "source": [
    "Data source: [Wisconsin Department of Health Services](https://data.dhsgis.wi.gov/datasets/covid-19-historical-data-table/)"
   ]
  },
  {
   "cell_type": "code",
   "execution_count": 9,
   "id": "proof-medicare",
   "metadata": {
    "execution": {
     "iopub.execute_input": "2021-04-08T10:16:26.691797Z",
     "iopub.status.busy": "2021-04-08T10:16:26.690931Z",
     "iopub.status.idle": "2021-04-08T10:16:26.693454Z",
     "shell.execute_reply": "2021-04-08T10:16:26.693882Z"
    },
    "jupyter": {
     "source_hidden": true
    },
    "papermill": {
     "duration": 0.022233,
     "end_time": "2021-04-08T10:16:26.694024",
     "exception": false,
     "start_time": "2021-04-08T10:16:26.671791",
     "status": "completed"
    },
    "tags": []
   },
   "outputs": [
    {
     "data": {
      "text/html": [
       "<style>\n",
       "div.input {\n",
       "    display:none;\n",
       "}\n",
       "</style>\n"
      ],
      "text/plain": [
       "<IPython.core.display.HTML object>"
      ]
     },
     "metadata": {},
     "output_type": "display_data"
    }
   ],
   "source": [
    "%%html\n",
    "<style>\n",
    "div.input {\n",
    "    display:none;\n",
    "}\n",
    "</style>"
   ]
  }
 ],
 "metadata": {
  "kernelspec": {
   "display_name": "Python 3",
   "language": "python",
   "name": "python3"
  },
  "language_info": {
   "codemirror_mode": {
    "name": "ipython",
    "version": 3
   },
   "file_extension": ".py",
   "mimetype": "text/x-python",
   "name": "python",
   "nbconvert_exporter": "python",
   "pygments_lexer": "ipython3",
   "version": "3.8.8"
  },
  "papermill": {
   "duration": 9.330036,
   "end_time": "2021-04-08T10:16:27.115089",
   "environment_variables": {},
   "exception": null,
   "input_path": "DunnCounty_COVID19.ipynb",
   "output_path": "DunnCounty_COVID19.ipynb",
   "parameters": {
    "Start": "True",
    "secretsPath": "/home/runner/work/_temp/secrets.json"
   },
   "start_time": "2021-04-08T10:16:17.785053",
   "version": "1.1.16"
  }
 },
 "nbformat": 4,
 "nbformat_minor": 5
}