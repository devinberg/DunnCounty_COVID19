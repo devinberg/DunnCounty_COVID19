{
 "cells": [
  {
   "cell_type": "code",
   "execution_count": 1,
   "id": "solar-understanding",
   "metadata": {
    "execution": {
     "iopub.execute_input": "2021-07-23T22:11:13.427707Z",
     "iopub.status.busy": "2021-07-23T22:11:13.427186Z",
     "iopub.status.idle": "2021-07-23T22:11:14.206969Z",
     "shell.execute_reply": "2021-07-23T22:11:14.206382Z"
    },
    "jupyter": {
     "source_hidden": true
    },
    "papermill": {
     "duration": 0.797861,
     "end_time": "2021-07-23T22:11:14.207129",
     "exception": false,
     "start_time": "2021-07-23T22:11:13.409268",
     "status": "completed"
    },
    "scrolled": true,
    "tags": [
     "hide-input"
    ]
   },
   "outputs": [],
   "source": [
    "import pandas as pd\n",
    "import matplotlib.pyplot as plt\n",
    "from matplotlib import dates\n",
    "from IPython.display import display, Markdown\n",
    "%matplotlib inline"
   ]
  },
  {
   "cell_type": "code",
   "execution_count": 2,
   "id": "purple-playlist",
   "metadata": {
    "execution": {
     "iopub.execute_input": "2021-07-23T22:11:14.230571Z",
     "iopub.status.busy": "2021-07-23T22:11:14.230078Z",
     "iopub.status.idle": "2021-07-23T22:11:15.232609Z",
     "shell.execute_reply": "2021-07-23T22:11:15.232115Z"
    },
    "jupyter": {
     "source_hidden": true
    },
    "papermill": {
     "duration": 1.016828,
     "end_time": "2021-07-23T22:11:15.232743",
     "exception": false,
     "start_time": "2021-07-23T22:11:14.215915",
     "status": "completed"
    },
    "scrolled": true,
    "tags": [
     "hide-input"
    ]
   },
   "outputs": [],
   "source": [
    "# This is the data for all of Wisconsin.\n",
    "url = \"https://opendata.arcgis.com/api/v3/datasets/3161f6e01d8141c6abe85a29ff7f3d3c_12/downloads/data?format=csv&spatialRefId=3857\"\n",
    "data = pd.read_csv(url, parse_dates=['DATE'], low_memory=False)"
   ]
  },
  {
   "cell_type": "code",
   "execution_count": 3,
   "id": "proprietary-klein",
   "metadata": {
    "execution": {
     "iopub.execute_input": "2021-07-23T22:11:15.255789Z",
     "iopub.status.busy": "2021-07-23T22:11:15.255228Z",
     "iopub.status.idle": "2021-07-23T22:11:15.264885Z",
     "shell.execute_reply": "2021-07-23T22:11:15.264436Z"
    },
    "jupyter": {
     "source_hidden": true
    },
    "papermill": {
     "duration": 0.023811,
     "end_time": "2021-07-23T22:11:15.265000",
     "exception": false,
     "start_time": "2021-07-23T22:11:15.241189",
     "status": "completed"
    },
    "scrolled": true,
    "tags": [
     "hide-input"
    ]
   },
   "outputs": [],
   "source": [
    "dc = data.groupby('NAME').get_group('Dunn').sort_values(by='DATE') # Select the data for Dunn County from the full data.\n",
    "PNi = dc.columns.get_loc(\"POS_NEW\")\n",
    "dc['7_DAY'] = dc.iloc[:,PNi].rolling(window=7).mean() # Calculates the rolling 7-day average of new cases.\n",
    "dc['14_DAY'] = dc.iloc[:,PNi].rolling(window=14).mean() # Calculates the rolling 14-day average of new cases."
   ]
  },
  {
   "cell_type": "code",
   "execution_count": 4,
   "id": "steady-supervision",
   "metadata": {
    "execution": {
     "iopub.execute_input": "2021-07-23T22:11:15.289007Z",
     "iopub.status.busy": "2021-07-23T22:11:15.288504Z",
     "iopub.status.idle": "2021-07-23T22:11:15.291581Z",
     "shell.execute_reply": "2021-07-23T22:11:15.291934Z"
    },
    "jupyter": {
     "source_hidden": true
    },
    "papermill": {
     "duration": 0.019327,
     "end_time": "2021-07-23T22:11:15.292075",
     "exception": false,
     "start_time": "2021-07-23T22:11:15.272748",
     "status": "completed"
    },
    "scrolled": true,
    "tags": [
     "hide-input"
    ]
   },
   "outputs": [
    {
     "data": {
      "text/markdown": [
       "### Last updated: July 23, 2021"
      ],
      "text/plain": [
       "<IPython.core.display.Markdown object>"
      ]
     },
     "metadata": {},
     "output_type": "display_data"
    }
   ],
   "source": [
    "display(Markdown('### Last updated: ' + dc.iloc[-1]['DATE'].strftime(\"%B %d, %Y\")))"
   ]
  },
  {
   "cell_type": "code",
   "execution_count": 5,
   "id": "lonely-pitch",
   "metadata": {
    "execution": {
     "iopub.execute_input": "2021-07-23T22:11:15.315615Z",
     "iopub.status.busy": "2021-07-23T22:11:15.315034Z",
     "iopub.status.idle": "2021-07-23T22:11:15.317058Z",
     "shell.execute_reply": "2021-07-23T22:11:15.317457Z"
    },
    "jupyter": {
     "source_hidden": true
    },
    "papermill": {
     "duration": 0.017316,
     "end_time": "2021-07-23T22:11:15.317635",
     "exception": false,
     "start_time": "2021-07-23T22:11:15.300319",
     "status": "completed"
    },
    "tags": [
     "hide-input"
    ]
   },
   "outputs": [
    {
     "data": {
      "text/markdown": [
       "# Dunn County has 4759 total positive cases, with 5 new cases reported today."
      ],
      "text/plain": [
       "<IPython.core.display.Markdown object>"
      ]
     },
     "metadata": {},
     "output_type": "display_data"
    }
   ],
   "source": [
    "display(Markdown('# Dunn County has ' + str(dc.iloc[-1]['POSITIVE']) + ' total positive cases, with '+ str(int(dc.iloc[-1]['POS_NEW'])) + ' new cases reported today.'))"
   ]
  },
  {
   "cell_type": "code",
   "execution_count": 6,
   "id": "compound-nightmare",
   "metadata": {
    "execution": {
     "iopub.execute_input": "2021-07-23T22:11:15.339558Z",
     "iopub.status.busy": "2021-07-23T22:11:15.339034Z",
     "iopub.status.idle": "2021-07-23T22:11:15.672475Z",
     "shell.execute_reply": "2021-07-23T22:11:15.671995Z"
    },
    "jupyter": {
     "source_hidden": true
    },
    "papermill": {
     "duration": 0.346368,
     "end_time": "2021-07-23T22:11:15.672612",
     "exception": false,
     "start_time": "2021-07-23T22:11:15.326244",
     "status": "completed"
    },
    "scrolled": false,
    "tags": [
     "hide-input"
    ]
   },
   "outputs": [
    {
     "data": {
      "image/png": "[encoded data removed]",
      "text/plain": [
       "<Figure size 864x432 with 1 Axes>"
      ]
     },
     "metadata": {
      "needs_background": "light"
     },
     "output_type": "display_data"
    }
   ],
   "source": [
    "dc.plot(x='DATE',y='POSITIVE',color='red',grid='True',figsize=(12,6)).set_xlabel('Date');"
   ]
  },
  {
   "cell_type": "markdown",
   "id": "coupled-literacy",
   "metadata": {
    "papermill": {
     "duration": 0.009621,
     "end_time": "2021-07-23T22:11:15.691931",
     "exception": false,
     "start_time": "2021-07-23T22:11:15.682310",
     "status": "completed"
    },
    "tags": []
   },
   "source": [
    "## Figure 1: Cummulative number of positive cases."
   ]
  },
  {
   "cell_type": "code",
   "execution_count": 7,
   "id": "surrounded-reserve",
   "metadata": {
    "execution": {
     "iopub.execute_input": "2021-07-23T22:11:15.715507Z",
     "iopub.status.busy": "2021-07-23T22:11:15.715005Z",
     "iopub.status.idle": "2021-07-23T22:11:15.916205Z",
     "shell.execute_reply": "2021-07-23T22:11:15.916640Z"
    },
    "jupyter": {
     "source_hidden": true
    },
    "papermill": {
     "duration": 0.215567,
     "end_time": "2021-07-23T22:11:15.916797",
     "exception": false,
     "start_time": "2021-07-23T22:11:15.701230",
     "status": "completed"
    },
    "scrolled": false,
    "tags": [
     "hide-input"
    ]
   },
   "outputs": [
    {
     "data": {
      "image/png": "[encoded data removed]",
      "text/plain": [
       "<Figure size 864x432 with 1 Axes>"
      ]
     },
     "metadata": {
      "needs_background": "light"
     },
     "output_type": "display_data"
    }
   ],
   "source": [
    "dc.plot(kind='line',x='DATE',y='7_DAY',color='blue',grid='True',figsize=(12,6)).set_xlabel('Date');"
   ]
  },
  {
   "cell_type": "markdown",
   "id": "professional-savannah",
   "metadata": {
    "papermill": {
     "duration": 0.010476,
     "end_time": "2021-07-23T22:11:15.938344",
     "exception": false,
     "start_time": "2021-07-23T22:11:15.927868",
     "status": "completed"
    },
    "tags": []
   },
   "source": [
    "## Figure 2: Rolling 7-day average of daily new cases."
   ]
  },
  {
   "cell_type": "code",
   "execution_count": 8,
   "id": "stretch-investor",
   "metadata": {
    "execution": {
     "iopub.execute_input": "2021-07-23T22:11:15.963450Z",
     "iopub.status.busy": "2021-07-23T22:11:15.962959Z",
     "iopub.status.idle": "2021-07-23T22:11:16.161025Z",
     "shell.execute_reply": "2021-07-23T22:11:16.161416Z"
    },
    "jupyter": {
     "source_hidden": true
    },
    "papermill": {
     "duration": 0.213066,
     "end_time": "2021-07-23T22:11:16.161588",
     "exception": false,
     "start_time": "2021-07-23T22:11:15.948522",
     "status": "completed"
    },
    "tags": []
   },
   "outputs": [
    {
     "data": {
      "image/png": "[encoded data removed]",
      "text/plain": [
       "<Figure size 864x432 with 1 Axes>"
      ]
     },
     "metadata": {
      "needs_background": "light"
     },
     "output_type": "display_data"
    }
   ],
   "source": [
    "dc.plot(kind='line',x='DATE',y='14_DAY',color='green',grid='True',figsize=(12,6)).set_xlabel('Date');"
   ]
  },
  {
   "cell_type": "markdown",
   "id": "prerequisite-species",
   "metadata": {
    "papermill": {
     "duration": 0.011824,
     "end_time": "2021-07-23T22:11:16.185148",
     "exception": false,
     "start_time": "2021-07-23T22:11:16.173324",
     "status": "completed"
    },
    "tags": []
   },
   "source": [
    "## Figure 3: Rolling 14-day average of daily new cases."
   ]
  },
  {
   "cell_type": "markdown",
   "id": "palestinian-guard",
   "metadata": {
    "papermill": {
     "duration": 0.011227,
     "end_time": "2021-07-23T22:11:16.207541",
     "exception": false,
     "start_time": "2021-07-23T22:11:16.196314",
     "status": "completed"
    },
    "tags": []
   },
   "source": [
    "Data source: [Wisconsin Department of Health Services](https://data.dhsgis.wi.gov/datasets/wi-dhs::covid-19-historical-data-by-county-1)"
   ]
  },
  {
   "cell_type": "code",
   "execution_count": 9,
   "id": "proof-medicare",
   "metadata": {
    "execution": {
     "iopub.execute_input": "2021-07-23T22:11:16.235407Z",
     "iopub.status.busy": "2021-07-23T22:11:16.234894Z",
     "iopub.status.idle": "2021-07-23T22:11:16.237814Z",
     "shell.execute_reply": "2021-07-23T22:11:16.238190Z"
    },
    "jupyter": {
     "source_hidden": true
    },
    "papermill": {
     "duration": 0.019598,
     "end_time": "2021-07-23T22:11:16.238341",
     "exception": false,
     "start_time": "2021-07-23T22:11:16.218743",
     "status": "completed"
    },
    "tags": []
   },
   "outputs": [
    {
     "data": {
      "text/html": [
       "<style>\n",
       "div.input {\n",
       "    display:none;\n",
       "}\n",
       "</style>\n"
      ],
      "text/plain": [
       "<IPython.core.display.HTML object>"
      ]
     },
     "metadata": {},
     "output_type": "display_data"
    }
   ],
   "source": [
    "%%html\n",
    "<style>\n",
    "div.input {\n",
    "    display:none;\n",
    "}\n",
    "</style>"
   ]
  }
 ],
 "metadata": {
  "kernelspec": {
   "display_name": "Python 3",
   "language": "python",
   "name": "python3"
  },
  "language_info": {
   "codemirror_mode": {
    "name": "ipython",
    "version": 3
   },
   "file_extension": ".py",
   "mimetype": "text/x-python",
   "name": "python",
   "nbconvert_exporter": "python",
   "pygments_lexer": "ipython3",
   "version": "3.8.11"
  },
  "papermill": {
   "duration": 4.580286,
   "end_time": "2021-07-23T22:11:16.558673",
   "environment_variables": {},
   "exception": null,
   "input_path": "DunnCounty_COVID19.ipynb",
   "output_path": "DunnCounty_COVID19.ipynb",
   "parameters": {
    "Start": "True",
    "secretsPath": "/home/runner/work/_temp/secrets.json"
   },
   "start_time": "2021-07-23T22:11:11.978387",
   "version": "1.1.16"
  }
 },
 "nbformat": 4,
 "nbformat_minor": 5
}