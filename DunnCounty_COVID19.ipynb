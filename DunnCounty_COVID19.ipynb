{
 "cells": [
  {
   "cell_type": "code",
   "execution_count": 1,
   "metadata": {
    "execution": {
     "iopub.execute_input": "2020-12-07T10:12:11.722453Z",
     "iopub.status.busy": "2020-12-07T10:12:11.721845Z",
     "iopub.status.idle": "2020-12-07T10:12:16.534713Z",
     "shell.execute_reply": "2020-12-07T10:12:16.533669Z"
    },
    "jupyter": {
     "source_hidden": true
    },
    "papermill": {
     "duration": 4.829838,
     "end_time": "2020-12-07T10:12:16.534940",
     "exception": false,
     "start_time": "2020-12-07T10:12:11.705102",
     "status": "completed"
    },
    "scrolled": true,
    "tags": [
     "hide-input"
    ]
   },
   "outputs": [],
   "source": [
    "import pandas as pd\n",
    "import matplotlib.pyplot as plt\n",
    "from matplotlib import dates\n",
    "from IPython.display import display, Markdown\n",
    "%matplotlib inline"
   ]
  },
  {
   "cell_type": "code",
   "execution_count": 2,
   "metadata": {
    "execution": {
     "iopub.execute_input": "2020-12-07T10:12:16.559007Z",
     "iopub.status.busy": "2020-12-07T10:12:16.558407Z",
     "iopub.status.idle": "2020-12-07T10:12:17.322674Z",
     "shell.execute_reply": "2020-12-07T10:12:17.322174Z"
    },
    "jupyter": {
     "source_hidden": true
    },
    "papermill": {
     "duration": 0.77922,
     "end_time": "2020-12-07T10:12:17.322818",
     "exception": false,
     "start_time": "2020-12-07T10:12:16.543598",
     "status": "completed"
    },
    "scrolled": true,
    "tags": [
     "hide-input"
    ]
   },
   "outputs": [],
   "source": [
    "# This is the data for all of Wisconsin.\n",
    "url = \"https://opendata.arcgis.com/datasets/5374188992374b318d3e2305216ee413_12.csv\"\n",
    "data = pd.read_csv(url, parse_dates=['DATE'], low_memory=False)"
   ]
  },
  {
   "cell_type": "code",
   "execution_count": 3,
   "metadata": {
    "execution": {
     "iopub.execute_input": "2020-12-07T10:12:17.345227Z",
     "iopub.status.busy": "2020-12-07T10:12:17.344604Z",
     "iopub.status.idle": "2020-12-07T10:12:17.353630Z",
     "shell.execute_reply": "2020-12-07T10:12:17.354111Z"
    },
    "jupyter": {
     "source_hidden": true
    },
    "papermill": {
     "duration": 0.023816,
     "end_time": "2020-12-07T10:12:17.354290",
     "exception": false,
     "start_time": "2020-12-07T10:12:17.330474",
     "status": "completed"
    },
    "scrolled": true,
    "tags": [
     "hide-input"
    ]
   },
   "outputs": [],
   "source": [
    "dc = data.groupby('NAME').get_group('Dunn').sort_values(by='DATE') # Select the data for Dunn County from the full data.\n",
    "PNi = dc.columns.get_loc(\"POS_NEW\")\n",
    "dc['7_DAY'] = dc.iloc[:,PNi].rolling(window=7).mean() # Calculates the rolling 7-day average of new cases.\n",
    "dc['14_DAY'] = dc.iloc[:,PNi].rolling(window=14).mean() # Calculates the rolling 14-day average of new cases."
   ]
  },
  {
   "cell_type": "code",
   "execution_count": 4,
   "metadata": {
    "execution": {
     "iopub.execute_input": "2020-12-07T10:12:17.376494Z",
     "iopub.status.busy": "2020-12-07T10:12:17.375887Z",
     "iopub.status.idle": "2020-12-07T10:12:17.382344Z",
     "shell.execute_reply": "2020-12-07T10:12:17.382777Z"
    },
    "jupyter": {
     "source_hidden": true
    },
    "papermill": {
     "duration": 0.021101,
     "end_time": "2020-12-07T10:12:17.382947",
     "exception": false,
     "start_time": "2020-12-07T10:12:17.361846",
     "status": "completed"
    },
    "scrolled": true,
    "tags": [
     "hide-input"
    ]
   },
   "outputs": [
    {
     "data": {
      "text/markdown": [
       "### Last updated: December 06, 2020"
      ],
      "text/plain": [
       "<IPython.core.display.Markdown object>"
      ]
     },
     "metadata": {},
     "output_type": "display_data"
    }
   ],
   "source": [
    "display(Markdown('### Last updated: ' + dc.iloc[-1]['DATE'].strftime(\"%B %d, %Y\")))"
   ]
  },
  {
   "cell_type": "code",
   "execution_count": 5,
   "metadata": {
    "execution": {
     "iopub.execute_input": "2020-12-07T10:12:17.405713Z",
     "iopub.status.busy": "2020-12-07T10:12:17.405079Z",
     "iopub.status.idle": "2020-12-07T10:12:17.408716Z",
     "shell.execute_reply": "2020-12-07T10:12:17.408227Z"
    },
    "jupyter": {
     "source_hidden": true
    },
    "papermill": {
     "duration": 0.016714,
     "end_time": "2020-12-07T10:12:17.408851",
     "exception": false,
     "start_time": "2020-12-07T10:12:17.392137",
     "status": "completed"
    },
    "tags": [
     "hide-input"
    ]
   },
   "outputs": [
    {
     "data": {
      "text/markdown": [
       "# Dunn County has 2979 total positive cases, with 19 new cases reported today."
      ],
      "text/plain": [
       "<IPython.core.display.Markdown object>"
      ]
     },
     "metadata": {},
     "output_type": "display_data"
    }
   ],
   "source": [
    "display(Markdown('# Dunn County has ' + str(dc.iloc[-1]['POSITIVE']) + ' total positive cases, with '+ str(int(dc.iloc[-1]['POS_NEW'])) + ' new cases reported today.'))"
   ]
  },
  {
   "cell_type": "code",
   "execution_count": 6,
   "metadata": {
    "execution": {
     "iopub.execute_input": "2020-12-07T10:12:17.429996Z",
     "iopub.status.busy": "2020-12-07T10:12:17.429324Z",
     "iopub.status.idle": "2020-12-07T10:12:17.678277Z",
     "shell.execute_reply": "2020-12-07T10:12:17.679062Z"
    },
    "jupyter": {
     "source_hidden": true
    },
    "papermill": {
     "duration": 0.262159,
     "end_time": "2020-12-07T10:12:17.679316",
     "exception": false,
     "start_time": "2020-12-07T10:12:17.417157",
     "status": "completed"
    },
    "scrolled": false,
    "tags": [
     "hide-input"
    ]
   },
   "outputs": [
    {
     "data": {
      "image/png": "[encoded data removed]",
      "text/plain": [
       "<Figure size 864x432 with 1 Axes>"
      ]
     },
     "metadata": {
      "needs_background": "light"
     },
     "output_type": "display_data"
    }
   ],
   "source": [
    "dc.plot(x='DATE',y='POSITIVE',color='red',grid='True',figsize=(12,6)).set_xlabel('Date');"
   ]
  },
  {
   "cell_type": "markdown",
   "metadata": {
    "papermill": {
     "duration": 0.009147,
     "end_time": "2020-12-07T10:12:17.698259",
     "exception": false,
     "start_time": "2020-12-07T10:12:17.689112",
     "status": "completed"
    },
    "tags": []
   },
   "source": [
    "## Figure 1: Cummulative number of positive cases."
   ]
  },
  {
   "cell_type": "code",
   "execution_count": 7,
   "metadata": {
    "execution": {
     "iopub.execute_input": "2020-12-07T10:12:17.721926Z",
     "iopub.status.busy": "2020-12-07T10:12:17.720518Z",
     "iopub.status.idle": "2020-12-07T10:12:17.958579Z",
     "shell.execute_reply": "2020-12-07T10:12:17.959018Z"
    },
    "jupyter": {
     "source_hidden": true
    },
    "papermill": {
     "duration": 0.251921,
     "end_time": "2020-12-07T10:12:17.959191",
     "exception": false,
     "start_time": "2020-12-07T10:12:17.707270",
     "status": "completed"
    },
    "scrolled": false,
    "tags": [
     "hide-input"
    ]
   },
   "outputs": [
    {
     "data": {
      "image/png": "[encoded data removed]",
      "text/plain": [
       "<Figure size 864x432 with 1 Axes>"
      ]
     },
     "metadata": {
      "needs_background": "light"
     },
     "output_type": "display_data"
    }
   ],
   "source": [
    "dc.plot(kind='line',x='DATE',y='7_DAY',color='blue',grid='True',figsize=(12,6)).set_xlabel('Date');"
   ]
  },
  {
   "cell_type": "markdown",
   "metadata": {
    "papermill": {
     "duration": 0.010189,
     "end_time": "2020-12-07T10:12:17.979938",
     "exception": false,
     "start_time": "2020-12-07T10:12:17.969749",
     "status": "completed"
    },
    "tags": []
   },
   "source": [
    "## Figure 2: Rolling 7-day average of daily new cases."
   ]
  },
  {
   "cell_type": "code",
   "execution_count": 8,
   "metadata": {
    "execution": {
     "iopub.execute_input": "2020-12-07T10:12:18.007072Z",
     "iopub.status.busy": "2020-12-07T10:12:18.006480Z",
     "iopub.status.idle": "2020-12-07T10:12:18.261137Z",
     "shell.execute_reply": "2020-12-07T10:12:18.261618Z"
    },
    "jupyter": {
     "source_hidden": true
    },
    "papermill": {
     "duration": 0.272091,
     "end_time": "2020-12-07T10:12:18.261873",
     "exception": false,
     "start_time": "2020-12-07T10:12:17.989782",
     "status": "completed"
    },
    "tags": []
   },
   "outputs": [
    {
     "data": {
      "image/png": "[encoded data removed]",
      "text/plain": [
       "<Figure size 864x432 with 1 Axes>"
      ]
     },
     "metadata": {
      "needs_background": "light"
     },
     "output_type": "display_data"
    }
   ],
   "source": [
    "dc.plot(kind='line',x='DATE',y='14_DAY',color='green',grid='True',figsize=(12,6)).set_xlabel('Date');"
   ]
  },
  {
   "cell_type": "markdown",
   "metadata": {
    "papermill": {
     "duration": 0.011996,
     "end_time": "2020-12-07T10:12:18.286050",
     "exception": false,
     "start_time": "2020-12-07T10:12:18.274054",
     "status": "completed"
    },
    "tags": []
   },
   "source": [
    "## Figure 3: Rolling 14-day average of daily new cases."
   ]
  },
  {
   "cell_type": "markdown",
   "metadata": {
    "papermill": {
     "duration": 0.010724,
     "end_time": "2020-12-07T10:12:18.308062",
     "exception": false,
     "start_time": "2020-12-07T10:12:18.297338",
     "status": "completed"
    },
    "tags": []
   },
   "source": [
    "Data source: [Wisconsin Department of Health Services](https://data.dhsgis.wi.gov/datasets/covid-19-historical-data-table/)"
   ]
  },
  {
   "cell_type": "code",
   "execution_count": 9,
   "metadata": {
    "execution": {
     "iopub.execute_input": "2020-12-07T10:12:18.335783Z",
     "iopub.status.busy": "2020-12-07T10:12:18.335134Z",
     "iopub.status.idle": "2020-12-07T10:12:18.338188Z",
     "shell.execute_reply": "2020-12-07T10:12:18.338663Z"
    },
    "jupyter": {
     "source_hidden": true
    },
    "papermill": {
     "duration": 0.01996,
     "end_time": "2020-12-07T10:12:18.338835",
     "exception": false,
     "start_time": "2020-12-07T10:12:18.318875",
     "status": "completed"
    },
    "tags": []
   },
   "outputs": [
    {
     "data": {
      "text/html": [
       "<style>\n",
       "div.input {\n",
       "    display:none;\n",
       "}\n",
       "</style>\n"
      ],
      "text/plain": [
       "<IPython.core.display.HTML object>"
      ]
     },
     "metadata": {},
     "output_type": "display_data"
    }
   ],
   "source": [
    "%%html\n",
    "<style>\n",
    "div.input {\n",
    "    display:none;\n",
    "}\n",
    "</style>"
   ]
  }
 ],
 "metadata": {
  "kernelspec": {
   "display_name": "Python 3",
   "language": "python",
   "name": "python3"
  },
  "language_info": {
   "codemirror_mode": {
    "name": "ipython",
    "version": 3
   },
   "file_extension": ".py",
   "mimetype": "text/x-python",
   "name": "python",
   "nbconvert_exporter": "python",
   "pygments_lexer": "ipython3",
   "version": "3.8.6"
  },
  "papermill": {
   "duration": 9.337701,
   "end_time": "2020-12-07T10:12:18.759024",
   "environment_variables": {},
   "exception": null,
   "input_path": "DunnCounty_COVID19.ipynb",
   "output_path": "DunnCounty_COVID19.ipynb",
   "parameters": {
    "Start": "True",
    "secretsPath": "/home/runner/work/_temp/secrets.json"
   },
   "start_time": "2020-12-07T10:12:09.421323",
   "version": "1.1.16"
  }
 },
 "nbformat": 4,
 "nbformat_minor": 2
}