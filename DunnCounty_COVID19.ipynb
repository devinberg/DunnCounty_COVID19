{
 "cells": [
  {
   "cell_type": "code",
   "execution_count": 1,
   "id": "solar-understanding",
   "metadata": {
    "execution": {
     "iopub.execute_input": "2021-05-10T10:12:40.312296Z",
     "iopub.status.busy": "2021-05-10T10:12:40.311724Z",
     "iopub.status.idle": "2021-05-10T10:12:41.069127Z",
     "shell.execute_reply": "2021-05-10T10:12:41.068491Z"
    },
    "jupyter": {
     "source_hidden": true
    },
    "papermill": {
     "duration": 0.781142,
     "end_time": "2021-05-10T10:12:41.069289",
     "exception": false,
     "start_time": "2021-05-10T10:12:40.288147",
     "status": "completed"
    },
    "scrolled": true,
    "tags": [
     "hide-input"
    ]
   },
   "outputs": [],
   "source": [
    "import pandas as pd\n",
    "import matplotlib.pyplot as plt\n",
    "from matplotlib import dates\n",
    "from IPython.display import display, Markdown\n",
    "%matplotlib inline"
   ]
  },
  {
   "cell_type": "code",
   "execution_count": 2,
   "id": "purple-playlist",
   "metadata": {
    "execution": {
     "iopub.execute_input": "2021-05-10T10:12:41.093223Z",
     "iopub.status.busy": "2021-05-10T10:12:41.092647Z",
     "iopub.status.idle": "2021-05-10T10:12:41.966570Z",
     "shell.execute_reply": "2021-05-10T10:12:41.965777Z"
    },
    "jupyter": {
     "source_hidden": true
    },
    "papermill": {
     "duration": 0.888548,
     "end_time": "2021-05-10T10:12:41.966709",
     "exception": false,
     "start_time": "2021-05-10T10:12:41.078161",
     "status": "completed"
    },
    "scrolled": true,
    "tags": [
     "hide-input"
    ]
   },
   "outputs": [],
   "source": [
    "# This is the data for all of Wisconsin.\n",
    "url = \"https://opendata.arcgis.com/datasets/80ff9d4897db4d7692f0f4ad28447cab_12.csv\"\n",
    "data = pd.read_csv(url, parse_dates=['DATE'], low_memory=False)"
   ]
  },
  {
   "cell_type": "code",
   "execution_count": 3,
   "id": "proprietary-klein",
   "metadata": {
    "execution": {
     "iopub.execute_input": "2021-05-10T10:12:41.989623Z",
     "iopub.status.busy": "2021-05-10T10:12:41.989095Z",
     "iopub.status.idle": "2021-05-10T10:12:41.998623Z",
     "shell.execute_reply": "2021-05-10T10:12:41.997968Z"
    },
    "jupyter": {
     "source_hidden": true
    },
    "papermill": {
     "duration": 0.023265,
     "end_time": "2021-05-10T10:12:41.998729",
     "exception": false,
     "start_time": "2021-05-10T10:12:41.975464",
     "status": "completed"
    },
    "scrolled": true,
    "tags": [
     "hide-input"
    ]
   },
   "outputs": [],
   "source": [
    "dc = data.groupby('NAME').get_group('Dunn').sort_values(by='DATE') # Select the data for Dunn County from the full data.\n",
    "PNi = dc.columns.get_loc(\"POS_NEW\")\n",
    "dc['7_DAY'] = dc.iloc[:,PNi].rolling(window=7).mean() # Calculates the rolling 7-day average of new cases.\n",
    "dc['14_DAY'] = dc.iloc[:,PNi].rolling(window=14).mean() # Calculates the rolling 14-day average of new cases."
   ]
  },
  {
   "cell_type": "code",
   "execution_count": 4,
   "id": "steady-supervision",
   "metadata": {
    "execution": {
     "iopub.execute_input": "2021-05-10T10:12:42.029816Z",
     "iopub.status.busy": "2021-05-10T10:12:42.029157Z",
     "iopub.status.idle": "2021-05-10T10:12:42.031857Z",
     "shell.execute_reply": "2021-05-10T10:12:42.032258Z"
    },
    "jupyter": {
     "source_hidden": true
    },
    "papermill": {
     "duration": 0.025032,
     "end_time": "2021-05-10T10:12:42.032393",
     "exception": false,
     "start_time": "2021-05-10T10:12:42.007361",
     "status": "completed"
    },
    "scrolled": true,
    "tags": [
     "hide-input"
    ]
   },
   "outputs": [
    {
     "data": {
      "text/markdown": [
       "### Last updated: May 09, 2021"
      ],
      "text/plain": [
       "<IPython.core.display.Markdown object>"
      ]
     },
     "metadata": {},
     "output_type": "display_data"
    }
   ],
   "source": [
    "display(Markdown('### Last updated: ' + dc.iloc[-1]['DATE'].strftime(\"%B %d, %Y\")))"
   ]
  },
  {
   "cell_type": "code",
   "execution_count": 5,
   "id": "lonely-pitch",
   "metadata": {
    "execution": {
     "iopub.execute_input": "2021-05-10T10:12:42.055575Z",
     "iopub.status.busy": "2021-05-10T10:12:42.055040Z",
     "iopub.status.idle": "2021-05-10T10:12:42.057498Z",
     "shell.execute_reply": "2021-05-10T10:12:42.057956Z"
    },
    "jupyter": {
     "source_hidden": true
    },
    "papermill": {
     "duration": 0.01683,
     "end_time": "2021-05-10T10:12:42.058089",
     "exception": false,
     "start_time": "2021-05-10T10:12:42.041259",
     "status": "completed"
    },
    "tags": [
     "hide-input"
    ]
   },
   "outputs": [
    {
     "data": {
      "text/markdown": [
       "# Dunn County has 4647 total positive cases, with 5 new cases reported today."
      ],
      "text/plain": [
       "<IPython.core.display.Markdown object>"
      ]
     },
     "metadata": {},
     "output_type": "display_data"
    }
   ],
   "source": [
    "display(Markdown('# Dunn County has ' + str(dc.iloc[-1]['POSITIVE']) + ' total positive cases, with '+ str(int(dc.iloc[-1]['POS_NEW'])) + ' new cases reported today.'))"
   ]
  },
  {
   "cell_type": "code",
   "execution_count": 6,
   "id": "compound-nightmare",
   "metadata": {
    "execution": {
     "iopub.execute_input": "2021-05-10T10:12:42.081414Z",
     "iopub.status.busy": "2021-05-10T10:12:42.080852Z",
     "iopub.status.idle": "2021-05-10T10:12:42.350276Z",
     "shell.execute_reply": "2021-05-10T10:12:42.350703Z"
    },
    "jupyter": {
     "source_hidden": true
    },
    "papermill": {
     "duration": 0.283448,
     "end_time": "2021-05-10T10:12:42.350870",
     "exception": false,
     "start_time": "2021-05-10T10:12:42.067422",
     "status": "completed"
    },
    "scrolled": false,
    "tags": [
     "hide-input"
    ]
   },
   "outputs": [
    {
     "data": {
      "image/png": "[encoded data removed]",
      "text/plain": [
       "<Figure size 864x432 with 1 Axes>"
      ]
     },
     "metadata": {
      "needs_background": "light"
     },
     "output_type": "display_data"
    }
   ],
   "source": [
    "dc.plot(x='DATE',y='POSITIVE',color='red',grid='True',figsize=(12,6)).set_xlabel('Date');"
   ]
  },
  {
   "cell_type": "markdown",
   "id": "coupled-literacy",
   "metadata": {
    "papermill": {
     "duration": 0.009983,
     "end_time": "2021-05-10T10:12:42.371009",
     "exception": false,
     "start_time": "2021-05-10T10:12:42.361026",
     "status": "completed"
    },
    "tags": []
   },
   "source": [
    "## Figure 1: Cummulative number of positive cases."
   ]
  },
  {
   "cell_type": "code",
   "execution_count": 7,
   "id": "surrounded-reserve",
   "metadata": {
    "execution": {
     "iopub.execute_input": "2021-05-10T10:12:42.416085Z",
     "iopub.status.busy": "2021-05-10T10:12:42.414142Z",
     "iopub.status.idle": "2021-05-10T10:12:42.613513Z",
     "shell.execute_reply": "2021-05-10T10:12:42.613078Z"
    },
    "jupyter": {
     "source_hidden": true
    },
    "papermill": {
     "duration": 0.232645,
     "end_time": "2021-05-10T10:12:42.613637",
     "exception": false,
     "start_time": "2021-05-10T10:12:42.380992",
     "status": "completed"
    },
    "scrolled": false,
    "tags": [
     "hide-input"
    ]
   },
   "outputs": [
    {
     "data": {
      "image/png": "[encoded data removed]",
      "text/plain": [
       "<Figure size 864x432 with 1 Axes>"
      ]
     },
     "metadata": {
      "needs_background": "light"
     },
     "output_type": "display_data"
    }
   ],
   "source": [
    "dc.plot(kind='line',x='DATE',y='7_DAY',color='blue',grid='True',figsize=(12,6)).set_xlabel('Date');"
   ]
  },
  {
   "cell_type": "markdown",
   "id": "professional-savannah",
   "metadata": {
    "papermill": {
     "duration": 0.011021,
     "end_time": "2021-05-10T10:12:42.635822",
     "exception": false,
     "start_time": "2021-05-10T10:12:42.624801",
     "status": "completed"
    },
    "tags": []
   },
   "source": [
    "## Figure 2: Rolling 7-day average of daily new cases."
   ]
  },
  {
   "cell_type": "code",
   "execution_count": 8,
   "id": "stretch-investor",
   "metadata": {
    "execution": {
     "iopub.execute_input": "2021-05-10T10:12:42.663254Z",
     "iopub.status.busy": "2021-05-10T10:12:42.662747Z",
     "iopub.status.idle": "2021-05-10T10:12:42.879796Z",
     "shell.execute_reply": "2021-05-10T10:12:42.880326Z"
    },
    "jupyter": {
     "source_hidden": true
    },
    "papermill": {
     "duration": 0.233236,
     "end_time": "2021-05-10T10:12:42.880513",
     "exception": false,
     "start_time": "2021-05-10T10:12:42.647277",
     "status": "completed"
    },
    "tags": []
   },
   "outputs": [
    {
     "data": {
      "image/png": "[encoded data removed]",
      "text/plain": [
       "<Figure size 864x432 with 1 Axes>"
      ]
     },
     "metadata": {
      "needs_background": "light"
     },
     "output_type": "display_data"
    }
   ],
   "source": [
    "dc.plot(kind='line',x='DATE',y='14_DAY',color='green',grid='True',figsize=(12,6)).set_xlabel('Date');"
   ]
  },
  {
   "cell_type": "markdown",
   "id": "prerequisite-species",
   "metadata": {
    "papermill": {
     "duration": 0.01371,
     "end_time": "2021-05-10T10:12:42.907628",
     "exception": false,
     "start_time": "2021-05-10T10:12:42.893918",
     "status": "completed"
    },
    "tags": []
   },
   "source": [
    "## Figure 3: Rolling 14-day average of daily new cases."
   ]
  },
  {
   "cell_type": "markdown",
   "id": "palestinian-guard",
   "metadata": {
    "papermill": {
     "duration": 0.012148,
     "end_time": "2021-05-10T10:12:42.932941",
     "exception": false,
     "start_time": "2021-05-10T10:12:42.920793",
     "status": "completed"
    },
    "tags": []
   },
   "source": [
    "Data source: [Wisconsin Department of Health Services](https://data.dhsgis.wi.gov/datasets/covid-19-historical-data-by-county)"
   ]
  },
  {
   "cell_type": "code",
   "execution_count": 9,
   "id": "proof-medicare",
   "metadata": {
    "execution": {
     "iopub.execute_input": "2021-05-10T10:12:42.961458Z",
     "iopub.status.busy": "2021-05-10T10:12:42.960920Z",
     "iopub.status.idle": "2021-05-10T10:12:42.964635Z",
     "shell.execute_reply": "2021-05-10T10:12:42.964222Z"
    },
    "jupyter": {
     "source_hidden": true
    },
    "papermill": {
     "duration": 0.01958,
     "end_time": "2021-05-10T10:12:42.964741",
     "exception": false,
     "start_time": "2021-05-10T10:12:42.945161",
     "status": "completed"
    },
    "tags": []
   },
   "outputs": [
    {
     "data": {
      "text/html": [
       "<style>\n",
       "div.input {\n",
       "    display:none;\n",
       "}\n",
       "</style>\n"
      ],
      "text/plain": [
       "<IPython.core.display.HTML object>"
      ]
     },
     "metadata": {},
     "output_type": "display_data"
    }
   ],
   "source": [
    "%%html\n",
    "<style>\n",
    "div.input {\n",
    "    display:none;\n",
    "}\n",
    "</style>"
   ]
  }
 ],
 "metadata": {
  "kernelspec": {
   "display_name": "Python 3",
   "language": "python",
   "name": "python3"
  },
  "language_info": {
   "codemirror_mode": {
    "name": "ipython",
    "version": 3
   },
   "file_extension": ".py",
   "mimetype": "text/x-python",
   "name": "python",
   "nbconvert_exporter": "python",
   "pygments_lexer": "ipython3",
   "version": "3.8.10"
  },
  "papermill": {
   "duration": 4.147283,
   "end_time": "2021-05-10T10:12:43.284583",
   "environment_variables": {},
   "exception": null,
   "input_path": "DunnCounty_COVID19.ipynb",
   "output_path": "DunnCounty_COVID19.ipynb",
   "parameters": {
    "Start": "True",
    "secretsPath": "/home/runner/work/_temp/secrets.json"
   },
   "start_time": "2021-05-10T10:12:39.137300",
   "version": "1.1.16"
  }
 },
 "nbformat": 4,
 "nbformat_minor": 5
}