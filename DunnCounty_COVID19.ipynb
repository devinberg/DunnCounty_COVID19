{
 "cells": [
  {
   "cell_type": "code",
   "execution_count": 1,
   "id": "solar-understanding",
   "metadata": {
    "execution": {
     "iopub.execute_input": "2021-04-29T10:14:38.201374Z",
     "iopub.status.busy": "2021-04-29T10:14:38.200803Z",
     "iopub.status.idle": "2021-04-29T10:14:40.149010Z",
     "shell.execute_reply": "2021-04-29T10:14:40.147969Z"
    },
    "jupyter": {
     "source_hidden": true
    },
    "papermill": {
     "duration": 1.972733,
     "end_time": "2021-04-29T10:14:40.149161",
     "exception": false,
     "start_time": "2021-04-29T10:14:38.176428",
     "status": "completed"
    },
    "scrolled": true,
    "tags": [
     "hide-input"
    ]
   },
   "outputs": [],
   "source": [
    "import pandas as pd\n",
    "import matplotlib.pyplot as plt\n",
    "from matplotlib import dates\n",
    "from IPython.display import display, Markdown\n",
    "%matplotlib inline"
   ]
  },
  {
   "cell_type": "code",
   "execution_count": 2,
   "id": "purple-playlist",
   "metadata": {
    "execution": {
     "iopub.execute_input": "2021-04-29T10:14:40.173573Z",
     "iopub.status.busy": "2021-04-29T10:14:40.172813Z",
     "iopub.status.idle": "2021-04-29T10:14:41.157099Z",
     "shell.execute_reply": "2021-04-29T10:14:41.157883Z"
    },
    "jupyter": {
     "source_hidden": true
    },
    "papermill": {
     "duration": 0.999768,
     "end_time": "2021-04-29T10:14:41.158146",
     "exception": false,
     "start_time": "2021-04-29T10:14:40.158378",
     "status": "completed"
    },
    "scrolled": true,
    "tags": [
     "hide-input"
    ]
   },
   "outputs": [],
   "source": [
    "# This is the data for all of Wisconsin.\n",
    "url = \"https://opendata.arcgis.com/datasets/0b7bac0afc464e7783474cb62272d9b8_12.csv\"\n",
    "data = pd.read_csv(url, parse_dates=['DATE'], low_memory=False)"
   ]
  },
  {
   "cell_type": "code",
   "execution_count": 3,
   "id": "proprietary-klein",
   "metadata": {
    "execution": {
     "iopub.execute_input": "2021-04-29T10:14:41.183958Z",
     "iopub.status.busy": "2021-04-29T10:14:41.183427Z",
     "iopub.status.idle": "2021-04-29T10:14:41.192496Z",
     "shell.execute_reply": "2021-04-29T10:14:41.191998Z"
    },
    "jupyter": {
     "source_hidden": true
    },
    "papermill": {
     "duration": 0.024992,
     "end_time": "2021-04-29T10:14:41.192606",
     "exception": false,
     "start_time": "2021-04-29T10:14:41.167614",
     "status": "completed"
    },
    "scrolled": true,
    "tags": [
     "hide-input"
    ]
   },
   "outputs": [],
   "source": [
    "dc = data.groupby('NAME').get_group('Dunn').sort_values(by='DATE') # Select the data for Dunn County from the full data.\n",
    "PNi = dc.columns.get_loc(\"POS_NEW\")\n",
    "dc['7_DAY'] = dc.iloc[:,PNi].rolling(window=7).mean() # Calculates the rolling 7-day average of new cases.\n",
    "dc['14_DAY'] = dc.iloc[:,PNi].rolling(window=14).mean() # Calculates the rolling 14-day average of new cases."
   ]
  },
  {
   "cell_type": "code",
   "execution_count": 4,
   "id": "steady-supervision",
   "metadata": {
    "execution": {
     "iopub.execute_input": "2021-04-29T10:14:41.221697Z",
     "iopub.status.busy": "2021-04-29T10:14:41.219103Z",
     "iopub.status.idle": "2021-04-29T10:14:41.224696Z",
     "shell.execute_reply": "2021-04-29T10:14:41.225130Z"
    },
    "jupyter": {
     "source_hidden": true
    },
    "papermill": {
     "duration": 0.021301,
     "end_time": "2021-04-29T10:14:41.225263",
     "exception": false,
     "start_time": "2021-04-29T10:14:41.203962",
     "status": "completed"
    },
    "scrolled": true,
    "tags": [
     "hide-input"
    ]
   },
   "outputs": [
    {
     "data": {
      "text/markdown": [
       "### Last updated: April 28, 2021"
      ],
      "text/plain": [
       "<IPython.core.display.Markdown object>"
      ]
     },
     "metadata": {},
     "output_type": "display_data"
    }
   ],
   "source": [
    "display(Markdown('### Last updated: ' + dc.iloc[-1]['DATE'].strftime(\"%B %d, %Y\")))"
   ]
  },
  {
   "cell_type": "code",
   "execution_count": 5,
   "id": "lonely-pitch",
   "metadata": {
    "execution": {
     "iopub.execute_input": "2021-04-29T10:14:41.247776Z",
     "iopub.status.busy": "2021-04-29T10:14:41.247249Z",
     "iopub.status.idle": "2021-04-29T10:14:41.250214Z",
     "shell.execute_reply": "2021-04-29T10:14:41.249758Z"
    },
    "jupyter": {
     "source_hidden": true
    },
    "papermill": {
     "duration": 0.016469,
     "end_time": "2021-04-29T10:14:41.250319",
     "exception": false,
     "start_time": "2021-04-29T10:14:41.233850",
     "status": "completed"
    },
    "tags": [
     "hide-input"
    ]
   },
   "outputs": [
    {
     "data": {
      "text/markdown": [
       "# Dunn County has 4603 total positive cases, with 2 new cases reported today."
      ],
      "text/plain": [
       "<IPython.core.display.Markdown object>"
      ]
     },
     "metadata": {},
     "output_type": "display_data"
    }
   ],
   "source": [
    "display(Markdown('# Dunn County has ' + str(dc.iloc[-1]['POSITIVE']) + ' total positive cases, with '+ str(int(dc.iloc[-1]['POS_NEW'])) + ' new cases reported today.'))"
   ]
  },
  {
   "cell_type": "code",
   "execution_count": 6,
   "id": "compound-nightmare",
   "metadata": {
    "execution": {
     "iopub.execute_input": "2021-04-29T10:14:41.274413Z",
     "iopub.status.busy": "2021-04-29T10:14:41.273881Z",
     "iopub.status.idle": "2021-04-29T10:14:41.541480Z",
     "shell.execute_reply": "2021-04-29T10:14:41.540651Z"
    },
    "jupyter": {
     "source_hidden": true
    },
    "papermill": {
     "duration": 0.281809,
     "end_time": "2021-04-29T10:14:41.541687",
     "exception": false,
     "start_time": "2021-04-29T10:14:41.259878",
     "status": "completed"
    },
    "scrolled": false,
    "tags": [
     "hide-input"
    ]
   },
   "outputs": [
    {
     "data": {
      "image/png": "[encoded data removed]",
      "text/plain": [
       "<Figure size 864x432 with 1 Axes>"
      ]
     },
     "metadata": {
      "needs_background": "light"
     },
     "output_type": "display_data"
    }
   ],
   "source": [
    "dc.plot(x='DATE',y='POSITIVE',color='red',grid='True',figsize=(12,6)).set_xlabel('Date');"
   ]
  },
  {
   "cell_type": "markdown",
   "id": "coupled-literacy",
   "metadata": {
    "papermill": {
     "duration": 0.011687,
     "end_time": "2021-04-29T10:14:41.565027",
     "exception": false,
     "start_time": "2021-04-29T10:14:41.553340",
     "status": "completed"
    },
    "tags": []
   },
   "source": [
    "## Figure 1: Cummulative number of positive cases."
   ]
  },
  {
   "cell_type": "code",
   "execution_count": 7,
   "id": "surrounded-reserve",
   "metadata": {
    "execution": {
     "iopub.execute_input": "2021-04-29T10:14:41.592100Z",
     "iopub.status.busy": "2021-04-29T10:14:41.591552Z",
     "iopub.status.idle": "2021-04-29T10:14:41.792561Z",
     "shell.execute_reply": "2021-04-29T10:14:41.793005Z"
    },
    "jupyter": {
     "source_hidden": true
    },
    "papermill": {
     "duration": 0.217818,
     "end_time": "2021-04-29T10:14:41.793157",
     "exception": false,
     "start_time": "2021-04-29T10:14:41.575339",
     "status": "completed"
    },
    "scrolled": false,
    "tags": [
     "hide-input"
    ]
   },
   "outputs": [
    {
     "data": {
      "image/png": "[encoded data removed]",
      "text/plain": [
       "<Figure size 864x432 with 1 Axes>"
      ]
     },
     "metadata": {
      "needs_background": "light"
     },
     "output_type": "display_data"
    }
   ],
   "source": [
    "dc.plot(kind='line',x='DATE',y='7_DAY',color='blue',grid='True',figsize=(12,6)).set_xlabel('Date');"
   ]
  },
  {
   "cell_type": "markdown",
   "id": "professional-savannah",
   "metadata": {
    "papermill": {
     "duration": 0.011681,
     "end_time": "2021-04-29T10:14:41.816537",
     "exception": false,
     "start_time": "2021-04-29T10:14:41.804856",
     "status": "completed"
    },
    "tags": []
   },
   "source": [
    "## Figure 2: Rolling 7-day average of daily new cases."
   ]
  },
  {
   "cell_type": "code",
   "execution_count": 8,
   "id": "stretch-investor",
   "metadata": {
    "execution": {
     "iopub.execute_input": "2021-04-29T10:14:41.848283Z",
     "iopub.status.busy": "2021-04-29T10:14:41.843097Z",
     "iopub.status.idle": "2021-04-29T10:14:42.036667Z",
     "shell.execute_reply": "2021-04-29T10:14:42.035833Z"
    },
    "jupyter": {
     "source_hidden": true
    },
    "papermill": {
     "duration": 0.209053,
     "end_time": "2021-04-29T10:14:42.036797",
     "exception": false,
     "start_time": "2021-04-29T10:14:41.827744",
     "status": "completed"
    },
    "tags": []
   },
   "outputs": [
    {
     "data": {
      "image/png": "[encoded data removed]",
      "text/plain": [
       "<Figure size 864x432 with 1 Axes>"
      ]
     },
     "metadata": {
      "needs_background": "light"
     },
     "output_type": "display_data"
    }
   ],
   "source": [
    "dc.plot(kind='line',x='DATE',y='14_DAY',color='green',grid='True',figsize=(12,6)).set_xlabel('Date');"
   ]
  },
  {
   "cell_type": "markdown",
   "id": "prerequisite-species",
   "metadata": {
    "papermill": {
     "duration": 0.01508,
     "end_time": "2021-04-29T10:14:42.066097",
     "exception": false,
     "start_time": "2021-04-29T10:14:42.051017",
     "status": "completed"
    },
    "tags": []
   },
   "source": [
    "## Figure 3: Rolling 14-day average of daily new cases."
   ]
  },
  {
   "cell_type": "markdown",
   "id": "palestinian-guard",
   "metadata": {
    "papermill": {
     "duration": 0.013359,
     "end_time": "2021-04-29T10:14:42.093009",
     "exception": false,
     "start_time": "2021-04-29T10:14:42.079650",
     "status": "completed"
    },
    "tags": []
   },
   "source": [
    "Data source: [Wisconsin Department of Health Services](https://data.dhsgis.wi.gov/datasets/covid-19-historical-data-by-county)"
   ]
  },
  {
   "cell_type": "code",
   "execution_count": 9,
   "id": "proof-medicare",
   "metadata": {
    "execution": {
     "iopub.execute_input": "2021-04-29T10:14:42.135487Z",
     "iopub.status.busy": "2021-04-29T10:14:42.134918Z",
     "iopub.status.idle": "2021-04-29T10:14:42.136863Z",
     "shell.execute_reply": "2021-04-29T10:14:42.137267Z"
    },
    "jupyter": {
     "source_hidden": true
    },
    "papermill": {
     "duration": 0.030873,
     "end_time": "2021-04-29T10:14:42.137398",
     "exception": false,
     "start_time": "2021-04-29T10:14:42.106525",
     "status": "completed"
    },
    "tags": []
   },
   "outputs": [
    {
     "data": {
      "text/html": [
       "<style>\n",
       "div.input {\n",
       "    display:none;\n",
       "}\n",
       "</style>\n"
      ],
      "text/plain": [
       "<IPython.core.display.HTML object>"
      ]
     },
     "metadata": {},
     "output_type": "display_data"
    }
   ],
   "source": [
    "%%html\n",
    "<style>\n",
    "div.input {\n",
    "    display:none;\n",
    "}\n",
    "</style>"
   ]
  }
 ],
 "metadata": {
  "kernelspec": {
   "display_name": "Python 3",
   "language": "python",
   "name": "python3"
  },
  "language_info": {
   "codemirror_mode": {
    "name": "ipython",
    "version": 3
   },
   "file_extension": ".py",
   "mimetype": "text/x-python",
   "name": "python",
   "nbconvert_exporter": "python",
   "pygments_lexer": "ipython3",
   "version": "3.8.9"
  },
  "papermill": {
   "duration": 5.649989,
   "end_time": "2021-04-29T10:14:42.457056",
   "environment_variables": {},
   "exception": null,
   "input_path": "DunnCounty_COVID19.ipynb",
   "output_path": "DunnCounty_COVID19.ipynb",
   "parameters": {
    "Start": "True",
    "secretsPath": "/home/runner/work/_temp/secrets.json"
   },
   "start_time": "2021-04-29T10:14:36.807067",
   "version": "1.1.16"
  }
 },
 "nbformat": 4,
 "nbformat_minor": 5
}