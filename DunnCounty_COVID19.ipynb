{
 "cells": [
  {
   "cell_type": "code",
   "execution_count": 1,
   "id": "solar-understanding",
   "metadata": {
    "execution": {
     "iopub.execute_input": "2021-05-17T22:16:28.563840Z",
     "iopub.status.busy": "2021-05-17T22:16:28.563338Z",
     "iopub.status.idle": "2021-05-17T22:16:29.452361Z",
     "shell.execute_reply": "2021-05-17T22:16:29.451476Z"
    },
    "jupyter": {
     "source_hidden": true
    },
    "papermill": {
     "duration": 0.906383,
     "end_time": "2021-05-17T22:16:29.452502",
     "exception": false,
     "start_time": "2021-05-17T22:16:28.546119",
     "status": "completed"
    },
    "scrolled": true,
    "tags": [
     "hide-input"
    ]
   },
   "outputs": [],
   "source": [
    "import pandas as pd\n",
    "import matplotlib.pyplot as plt\n",
    "from matplotlib import dates\n",
    "from IPython.display import display, Markdown\n",
    "%matplotlib inline"
   ]
  },
  {
   "cell_type": "code",
   "execution_count": 2,
   "id": "purple-playlist",
   "metadata": {
    "execution": {
     "iopub.execute_input": "2021-05-17T22:16:29.475183Z",
     "iopub.status.busy": "2021-05-17T22:16:29.474650Z",
     "iopub.status.idle": "2021-05-17T22:16:30.415325Z",
     "shell.execute_reply": "2021-05-17T22:16:30.414465Z"
    },
    "jupyter": {
     "source_hidden": true
    },
    "papermill": {
     "duration": 0.954156,
     "end_time": "2021-05-17T22:16:30.415448",
     "exception": false,
     "start_time": "2021-05-17T22:16:29.461292",
     "status": "completed"
    },
    "scrolled": true,
    "tags": [
     "hide-input"
    ]
   },
   "outputs": [],
   "source": [
    "# This is the data for all of Wisconsin.\n",
    "url = \"https://opendata.arcgis.com/datasets/80ff9d4897db4d7692f0f4ad28447cab_12.csv\"\n",
    "data = pd.read_csv(url, parse_dates=['DATE'], low_memory=False)"
   ]
  },
  {
   "cell_type": "code",
   "execution_count": 3,
   "id": "proprietary-klein",
   "metadata": {
    "execution": {
     "iopub.execute_input": "2021-05-17T22:16:30.436530Z",
     "iopub.status.busy": "2021-05-17T22:16:30.436065Z",
     "iopub.status.idle": "2021-05-17T22:16:30.443597Z",
     "shell.execute_reply": "2021-05-17T22:16:30.443045Z"
    },
    "jupyter": {
     "source_hidden": true
    },
    "papermill": {
     "duration": 0.020378,
     "end_time": "2021-05-17T22:16:30.443708",
     "exception": false,
     "start_time": "2021-05-17T22:16:30.423330",
     "status": "completed"
    },
    "scrolled": true,
    "tags": [
     "hide-input"
    ]
   },
   "outputs": [],
   "source": [
    "dc = data.groupby('NAME').get_group('Dunn').sort_values(by='DATE') # Select the data for Dunn County from the full data.\n",
    "PNi = dc.columns.get_loc(\"POS_NEW\")\n",
    "dc['7_DAY'] = dc.iloc[:,PNi].rolling(window=7).mean() # Calculates the rolling 7-day average of new cases.\n",
    "dc['14_DAY'] = dc.iloc[:,PNi].rolling(window=14).mean() # Calculates the rolling 14-day average of new cases."
   ]
  },
  {
   "cell_type": "code",
   "execution_count": 4,
   "id": "steady-supervision",
   "metadata": {
    "execution": {
     "iopub.execute_input": "2021-05-17T22:16:30.467278Z",
     "iopub.status.busy": "2021-05-17T22:16:30.466727Z",
     "iopub.status.idle": "2021-05-17T22:16:30.470635Z",
     "shell.execute_reply": "2021-05-17T22:16:30.470213Z"
    },
    "jupyter": {
     "source_hidden": true
    },
    "papermill": {
     "duration": 0.018413,
     "end_time": "2021-05-17T22:16:30.470746",
     "exception": false,
     "start_time": "2021-05-17T22:16:30.452333",
     "status": "completed"
    },
    "scrolled": true,
    "tags": [
     "hide-input"
    ]
   },
   "outputs": [
    {
     "data": {
      "text/markdown": [
       "### Last updated: May 15, 2021"
      ],
      "text/plain": [
       "<IPython.core.display.Markdown object>"
      ]
     },
     "metadata": {},
     "output_type": "display_data"
    }
   ],
   "source": [
    "display(Markdown('### Last updated: ' + dc.iloc[-1]['DATE'].strftime(\"%B %d, %Y\")))"
   ]
  },
  {
   "cell_type": "code",
   "execution_count": 5,
   "id": "lonely-pitch",
   "metadata": {
    "execution": {
     "iopub.execute_input": "2021-05-17T22:16:30.490824Z",
     "iopub.status.busy": "2021-05-17T22:16:30.490367Z",
     "iopub.status.idle": "2021-05-17T22:16:30.494706Z",
     "shell.execute_reply": "2021-05-17T22:16:30.495055Z"
    },
    "jupyter": {
     "source_hidden": true
    },
    "papermill": {
     "duration": 0.016504,
     "end_time": "2021-05-17T22:16:30.495233",
     "exception": false,
     "start_time": "2021-05-17T22:16:30.478729",
     "status": "completed"
    },
    "tags": [
     "hide-input"
    ]
   },
   "outputs": [
    {
     "data": {
      "text/markdown": [
       "# Dunn County has 4662 total positive cases, with 1 new cases reported today."
      ],
      "text/plain": [
       "<IPython.core.display.Markdown object>"
      ]
     },
     "metadata": {},
     "output_type": "display_data"
    }
   ],
   "source": [
    "display(Markdown('# Dunn County has ' + str(dc.iloc[-1]['POSITIVE']) + ' total positive cases, with '+ str(int(dc.iloc[-1]['POS_NEW'])) + ' new cases reported today.'))"
   ]
  },
  {
   "cell_type": "code",
   "execution_count": 6,
   "id": "compound-nightmare",
   "metadata": {
    "execution": {
     "iopub.execute_input": "2021-05-17T22:16:30.515874Z",
     "iopub.status.busy": "2021-05-17T22:16:30.515354Z",
     "iopub.status.idle": "2021-05-17T22:16:30.744031Z",
     "shell.execute_reply": "2021-05-17T22:16:30.744445Z"
    },
    "jupyter": {
     "source_hidden": true
    },
    "papermill": {
     "duration": 0.240823,
     "end_time": "2021-05-17T22:16:30.744598",
     "exception": false,
     "start_time": "2021-05-17T22:16:30.503775",
     "status": "completed"
    },
    "scrolled": false,
    "tags": [
     "hide-input"
    ]
   },
   "outputs": [
    {
     "data": {
      "image/png": "[encoded data removed]",
      "text/plain": [
       "<Figure size 864x432 with 1 Axes>"
      ]
     },
     "metadata": {
      "needs_background": "light"
     },
     "output_type": "display_data"
    }
   ],
   "source": [
    "dc.plot(x='DATE',y='POSITIVE',color='red',grid='True',figsize=(12,6)).set_xlabel('Date');"
   ]
  },
  {
   "cell_type": "markdown",
   "id": "coupled-literacy",
   "metadata": {
    "papermill": {
     "duration": 0.00979,
     "end_time": "2021-05-17T22:16:30.763695",
     "exception": false,
     "start_time": "2021-05-17T22:16:30.753905",
     "status": "completed"
    },
    "tags": []
   },
   "source": [
    "## Figure 1: Cummulative number of positive cases."
   ]
  },
  {
   "cell_type": "code",
   "execution_count": 7,
   "id": "surrounded-reserve",
   "metadata": {
    "execution": {
     "iopub.execute_input": "2021-05-17T22:16:30.786753Z",
     "iopub.status.busy": "2021-05-17T22:16:30.786303Z",
     "iopub.status.idle": "2021-05-17T22:16:30.958532Z",
     "shell.execute_reply": "2021-05-17T22:16:30.958909Z"
    },
    "jupyter": {
     "source_hidden": true
    },
    "papermill": {
     "duration": 0.186305,
     "end_time": "2021-05-17T22:16:30.959042",
     "exception": false,
     "start_time": "2021-05-17T22:16:30.772737",
     "status": "completed"
    },
    "scrolled": false,
    "tags": [
     "hide-input"
    ]
   },
   "outputs": [
    {
     "data": {
      "image/png": "[encoded data removed]",
      "text/plain": [
       "<Figure size 864x432 with 1 Axes>"
      ]
     },
     "metadata": {
      "needs_background": "light"
     },
     "output_type": "display_data"
    }
   ],
   "source": [
    "dc.plot(kind='line',x='DATE',y='7_DAY',color='blue',grid='True',figsize=(12,6)).set_xlabel('Date');"
   ]
  },
  {
   "cell_type": "markdown",
   "id": "professional-savannah",
   "metadata": {
    "papermill": {
     "duration": 0.010328,
     "end_time": "2021-05-17T22:16:30.979663",
     "exception": false,
     "start_time": "2021-05-17T22:16:30.969335",
     "status": "completed"
    },
    "tags": []
   },
   "source": [
    "## Figure 2: Rolling 7-day average of daily new cases."
   ]
  },
  {
   "cell_type": "code",
   "execution_count": 8,
   "id": "stretch-investor",
   "metadata": {
    "execution": {
     "iopub.execute_input": "2021-05-17T22:16:31.003762Z",
     "iopub.status.busy": "2021-05-17T22:16:31.003302Z",
     "iopub.status.idle": "2021-05-17T22:16:31.176767Z",
     "shell.execute_reply": "2021-05-17T22:16:31.177190Z"
    },
    "jupyter": {
     "source_hidden": true
    },
    "papermill": {
     "duration": 0.187723,
     "end_time": "2021-05-17T22:16:31.177336",
     "exception": false,
     "start_time": "2021-05-17T22:16:30.989613",
     "status": "completed"
    },
    "tags": []
   },
   "outputs": [
    {
     "data": {
      "image/png": "[encoded data removed]",
      "text/plain": [
       "<Figure size 864x432 with 1 Axes>"
      ]
     },
     "metadata": {
      "needs_background": "light"
     },
     "output_type": "display_data"
    }
   ],
   "source": [
    "dc.plot(kind='line',x='DATE',y='14_DAY',color='green',grid='True',figsize=(12,6)).set_xlabel('Date');"
   ]
  },
  {
   "cell_type": "markdown",
   "id": "prerequisite-species",
   "metadata": {
    "papermill": {
     "duration": 0.01131,
     "end_time": "2021-05-17T22:16:31.200406",
     "exception": false,
     "start_time": "2021-05-17T22:16:31.189096",
     "status": "completed"
    },
    "tags": []
   },
   "source": [
    "## Figure 3: Rolling 14-day average of daily new cases."
   ]
  },
  {
   "cell_type": "markdown",
   "id": "palestinian-guard",
   "metadata": {
    "papermill": {
     "duration": 0.010798,
     "end_time": "2021-05-17T22:16:31.221966",
     "exception": false,
     "start_time": "2021-05-17T22:16:31.211168",
     "status": "completed"
    },
    "tags": []
   },
   "source": [
    "Data source: [Wisconsin Department of Health Services](https://data.dhsgis.wi.gov/datasets/covid-19-historical-data-by-county)"
   ]
  },
  {
   "cell_type": "code",
   "execution_count": 9,
   "id": "proof-medicare",
   "metadata": {
    "execution": {
     "iopub.execute_input": "2021-05-17T22:16:31.248445Z",
     "iopub.status.busy": "2021-05-17T22:16:31.247892Z",
     "iopub.status.idle": "2021-05-17T22:16:31.249879Z",
     "shell.execute_reply": "2021-05-17T22:16:31.250305Z"
    },
    "jupyter": {
     "source_hidden": true
    },
    "papermill": {
     "duration": 0.017549,
     "end_time": "2021-05-17T22:16:31.250440",
     "exception": false,
     "start_time": "2021-05-17T22:16:31.232891",
     "status": "completed"
    },
    "tags": []
   },
   "outputs": [
    {
     "data": {
      "text/html": [
       "<style>\n",
       "div.input {\n",
       "    display:none;\n",
       "}\n",
       "</style>\n"
      ],
      "text/plain": [
       "<IPython.core.display.HTML object>"
      ]
     },
     "metadata": {},
     "output_type": "display_data"
    }
   ],
   "source": [
    "%%html\n",
    "<style>\n",
    "div.input {\n",
    "    display:none;\n",
    "}\n",
    "</style>"
   ]
  }
 ],
 "metadata": {
  "kernelspec": {
   "display_name": "Python 3",
   "language": "python",
   "name": "python3"
  },
  "language_info": {
   "codemirror_mode": {
    "name": "ipython",
    "version": 3
   },
   "file_extension": ".py",
   "mimetype": "text/x-python",
   "name": "python",
   "nbconvert_exporter": "python",
   "pygments_lexer": "ipython3",
   "version": "3.8.10"
  },
  "papermill": {
   "duration": 4.140763,
   "end_time": "2021-05-17T22:16:31.568884",
   "environment_variables": {},
   "exception": null,
   "input_path": "DunnCounty_COVID19.ipynb",
   "output_path": "DunnCounty_COVID19.ipynb",
   "parameters": {
    "Start": "True",
    "secretsPath": "/home/runner/work/_temp/secrets.json"
   },
   "start_time": "2021-05-17T22:16:27.428121",
   "version": "1.1.16"
  }
 },
 "nbformat": 4,
 "nbformat_minor": 5
}