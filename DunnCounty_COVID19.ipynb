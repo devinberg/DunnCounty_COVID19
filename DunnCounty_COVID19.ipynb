{
 "cells": [
  {
   "cell_type": "code",
   "execution_count": 1,
   "id": "solar-understanding",
   "metadata": {
    "execution": {
     "iopub.execute_input": "2021-02-03T10:12:52.486615Z",
     "iopub.status.busy": "2021-02-03T10:12:52.486018Z",
     "iopub.status.idle": "2021-02-03T10:12:57.789375Z",
     "shell.execute_reply": "2021-02-03T10:12:57.788728Z"
    },
    "jupyter": {
     "source_hidden": true
    },
    "papermill": {
     "duration": 5.322998,
     "end_time": "2021-02-03T10:12:57.789578",
     "exception": false,
     "start_time": "2021-02-03T10:12:52.466580",
     "status": "completed"
    },
    "scrolled": true,
    "tags": [
     "hide-input"
    ]
   },
   "outputs": [],
   "source": [
    "import pandas as pd\n",
    "import matplotlib.pyplot as plt\n",
    "from matplotlib import dates\n",
    "from IPython.display import display, Markdown\n",
    "%matplotlib inline"
   ]
  },
  {
   "cell_type": "code",
   "execution_count": 2,
   "id": "purple-playlist",
   "metadata": {
    "execution": {
     "iopub.execute_input": "2021-02-03T10:12:57.817148Z",
     "iopub.status.busy": "2021-02-03T10:12:57.816490Z",
     "iopub.status.idle": "2021-02-03T10:12:58.861370Z",
     "shell.execute_reply": "2021-02-03T10:12:58.860760Z"
    },
    "jupyter": {
     "source_hidden": true
    },
    "papermill": {
     "duration": 1.060751,
     "end_time": "2021-02-03T10:12:58.861519",
     "exception": false,
     "start_time": "2021-02-03T10:12:57.800768",
     "status": "completed"
    },
    "scrolled": true,
    "tags": [
     "hide-input"
    ]
   },
   "outputs": [],
   "source": [
    "# This is the data for all of Wisconsin.\n",
    "url = \"https://opendata.arcgis.com/datasets/5374188992374b318d3e2305216ee413_12.csv\"\n",
    "data = pd.read_csv(url, parse_dates=['DATE'], low_memory=False)"
   ]
  },
  {
   "cell_type": "code",
   "execution_count": 3,
   "id": "proprietary-klein",
   "metadata": {
    "execution": {
     "iopub.execute_input": "2021-02-03T10:12:58.892054Z",
     "iopub.status.busy": "2021-02-03T10:12:58.891281Z",
     "iopub.status.idle": "2021-02-03T10:12:58.909660Z",
     "shell.execute_reply": "2021-02-03T10:12:58.910189Z"
    },
    "jupyter": {
     "source_hidden": true
    },
    "papermill": {
     "duration": 0.035155,
     "end_time": "2021-02-03T10:12:58.910373",
     "exception": false,
     "start_time": "2021-02-03T10:12:58.875218",
     "status": "completed"
    },
    "scrolled": true,
    "tags": [
     "hide-input"
    ]
   },
   "outputs": [],
   "source": [
    "dc = data.groupby('NAME').get_group('Dunn').sort_values(by='DATE') # Select the data for Dunn County from the full data.\n",
    "PNi = dc.columns.get_loc(\"POS_NEW\")\n",
    "dc['7_DAY'] = dc.iloc[:,PNi].rolling(window=7).mean() # Calculates the rolling 7-day average of new cases.\n",
    "dc['14_DAY'] = dc.iloc[:,PNi].rolling(window=14).mean() # Calculates the rolling 14-day average of new cases."
   ]
  },
  {
   "cell_type": "code",
   "execution_count": 4,
   "id": "steady-supervision",
   "metadata": {
    "execution": {
     "iopub.execute_input": "2021-02-03T10:12:58.940369Z",
     "iopub.status.busy": "2021-02-03T10:12:58.939755Z",
     "iopub.status.idle": "2021-02-03T10:12:58.942709Z",
     "shell.execute_reply": "2021-02-03T10:12:58.943201Z"
    },
    "jupyter": {
     "source_hidden": true
    },
    "papermill": {
     "duration": 0.023408,
     "end_time": "2021-02-03T10:12:58.943349",
     "exception": false,
     "start_time": "2021-02-03T10:12:58.919941",
     "status": "completed"
    },
    "scrolled": true,
    "tags": [
     "hide-input"
    ]
   },
   "outputs": [
    {
     "data": {
      "text/markdown": [
       "### Last updated: February 02, 2021"
      ],
      "text/plain": [
       "<IPython.core.display.Markdown object>"
      ]
     },
     "metadata": {},
     "output_type": "display_data"
    }
   ],
   "source": [
    "display(Markdown('### Last updated: ' + dc.iloc[-1]['DATE'].strftime(\"%B %d, %Y\")))"
   ]
  },
  {
   "cell_type": "code",
   "execution_count": 5,
   "id": "lonely-pitch",
   "metadata": {
    "execution": {
     "iopub.execute_input": "2021-02-03T10:12:58.966088Z",
     "iopub.status.busy": "2021-02-03T10:12:58.965408Z",
     "iopub.status.idle": "2021-02-03T10:12:58.968456Z",
     "shell.execute_reply": "2021-02-03T10:12:58.968857Z"
    },
    "jupyter": {
     "source_hidden": true
    },
    "papermill": {
     "duration": 0.016836,
     "end_time": "2021-02-03T10:12:58.968998",
     "exception": false,
     "start_time": "2021-02-03T10:12:58.952162",
     "status": "completed"
    },
    "tags": [
     "hide-input"
    ]
   },
   "outputs": [
    {
     "data": {
      "text/markdown": [
       "# Dunn County has 4074 total positive cases, with 7 new cases reported today."
      ],
      "text/plain": [
       "<IPython.core.display.Markdown object>"
      ]
     },
     "metadata": {},
     "output_type": "display_data"
    }
   ],
   "source": [
    "display(Markdown('# Dunn County has ' + str(dc.iloc[-1]['POSITIVE']) + ' total positive cases, with '+ str(int(dc.iloc[-1]['POS_NEW'])) + ' new cases reported today.'))"
   ]
  },
  {
   "cell_type": "code",
   "execution_count": 6,
   "id": "compound-nightmare",
   "metadata": {
    "execution": {
     "iopub.execute_input": "2021-02-03T10:12:58.991405Z",
     "iopub.status.busy": "2021-02-03T10:12:58.990927Z",
     "iopub.status.idle": "2021-02-03T10:12:59.332548Z",
     "shell.execute_reply": "2021-02-03T10:12:59.331956Z"
    },
    "jupyter": {
     "source_hidden": true
    },
    "papermill": {
     "duration": 0.354578,
     "end_time": "2021-02-03T10:12:59.332722",
     "exception": false,
     "start_time": "2021-02-03T10:12:58.978144",
     "status": "completed"
    },
    "scrolled": false,
    "tags": [
     "hide-input"
    ]
   },
   "outputs": [
    {
     "data": {
      "image/png": "[encoded data removed]",
      "text/plain": [
       "<Figure size 864x432 with 1 Axes>"
      ]
     },
     "metadata": {
      "needs_background": "light"
     },
     "output_type": "display_data"
    }
   ],
   "source": [
    "dc.plot(x='DATE',y='POSITIVE',color='red',grid='True',figsize=(12,6)).set_xlabel('Date');"
   ]
  },
  {
   "cell_type": "markdown",
   "id": "coupled-literacy",
   "metadata": {
    "papermill": {
     "duration": 0.013753,
     "end_time": "2021-02-03T10:12:59.357463",
     "exception": false,
     "start_time": "2021-02-03T10:12:59.343710",
     "status": "completed"
    },
    "tags": []
   },
   "source": [
    "## Figure 1: Cummulative number of positive cases."
   ]
  },
  {
   "cell_type": "code",
   "execution_count": 7,
   "id": "surrounded-reserve",
   "metadata": {
    "execution": {
     "iopub.execute_input": "2021-02-03T10:12:59.387829Z",
     "iopub.status.busy": "2021-02-03T10:12:59.387228Z",
     "iopub.status.idle": "2021-02-03T10:12:59.661051Z",
     "shell.execute_reply": "2021-02-03T10:12:59.661608Z"
    },
    "jupyter": {
     "source_hidden": true
    },
    "papermill": {
     "duration": 0.290946,
     "end_time": "2021-02-03T10:12:59.661845",
     "exception": false,
     "start_time": "2021-02-03T10:12:59.370899",
     "status": "completed"
    },
    "scrolled": false,
    "tags": [
     "hide-input"
    ]
   },
   "outputs": [
    {
     "data": {
      "image/png": "[encoded data removed]",
      "text/plain": [
       "<Figure size 864x432 with 1 Axes>"
      ]
     },
     "metadata": {
      "needs_background": "light"
     },
     "output_type": "display_data"
    }
   ],
   "source": [
    "dc.plot(kind='line',x='DATE',y='7_DAY',color='blue',grid='True',figsize=(12,6)).set_xlabel('Date');"
   ]
  },
  {
   "cell_type": "markdown",
   "id": "professional-savannah",
   "metadata": {
    "papermill": {
     "duration": 0.012389,
     "end_time": "2021-02-03T10:12:59.687325",
     "exception": false,
     "start_time": "2021-02-03T10:12:59.674936",
     "status": "completed"
    },
    "tags": []
   },
   "source": [
    "## Figure 2: Rolling 7-day average of daily new cases."
   ]
  },
  {
   "cell_type": "code",
   "execution_count": 8,
   "id": "stretch-investor",
   "metadata": {
    "execution": {
     "iopub.execute_input": "2021-02-03T10:12:59.722870Z",
     "iopub.status.busy": "2021-02-03T10:12:59.722172Z",
     "iopub.status.idle": "2021-02-03T10:13:00.003513Z",
     "shell.execute_reply": "2021-02-03T10:13:00.003988Z"
    },
    "jupyter": {
     "source_hidden": true
    },
    "papermill": {
     "duration": 0.298923,
     "end_time": "2021-02-03T10:13:00.004170",
     "exception": false,
     "start_time": "2021-02-03T10:12:59.705247",
     "status": "completed"
    },
    "tags": []
   },
   "outputs": [
    {
     "data": {
      "image/png": "[encoded data removed]",
      "text/plain": [
       "<Figure size 864x432 with 1 Axes>"
      ]
     },
     "metadata": {
      "needs_background": "light"
     },
     "output_type": "display_data"
    }
   ],
   "source": [
    "dc.plot(kind='line',x='DATE',y='14_DAY',color='green',grid='True',figsize=(12,6)).set_xlabel('Date');"
   ]
  },
  {
   "cell_type": "markdown",
   "id": "prerequisite-species",
   "metadata": {
    "papermill": {
     "duration": 0.013633,
     "end_time": "2021-02-03T10:13:00.031773",
     "exception": false,
     "start_time": "2021-02-03T10:13:00.018140",
     "status": "completed"
    },
    "tags": []
   },
   "source": [
    "## Figure 3: Rolling 14-day average of daily new cases."
   ]
  },
  {
   "cell_type": "markdown",
   "id": "palestinian-guard",
   "metadata": {
    "papermill": {
     "duration": 0.01324,
     "end_time": "2021-02-03T10:13:00.058626",
     "exception": false,
     "start_time": "2021-02-03T10:13:00.045386",
     "status": "completed"
    },
    "tags": []
   },
   "source": [
    "Data source: [Wisconsin Department of Health Services](https://data.dhsgis.wi.gov/datasets/covid-19-historical-data-table/)"
   ]
  },
  {
   "cell_type": "code",
   "execution_count": 9,
   "id": "proof-medicare",
   "metadata": {
    "execution": {
     "iopub.execute_input": "2021-02-03T10:13:00.090515Z",
     "iopub.status.busy": "2021-02-03T10:13:00.089784Z",
     "iopub.status.idle": "2021-02-03T10:13:00.093897Z",
     "shell.execute_reply": "2021-02-03T10:13:00.093392Z"
    },
    "jupyter": {
     "source_hidden": true
    },
    "papermill": {
     "duration": 0.02162,
     "end_time": "2021-02-03T10:13:00.094026",
     "exception": false,
     "start_time": "2021-02-03T10:13:00.072406",
     "status": "completed"
    },
    "tags": []
   },
   "outputs": [
    {
     "data": {
      "text/html": [
       "<style>\n",
       "div.input {\n",
       "    display:none;\n",
       "}\n",
       "</style>\n"
      ],
      "text/plain": [
       "<IPython.core.display.HTML object>"
      ]
     },
     "metadata": {},
     "output_type": "display_data"
    }
   ],
   "source": [
    "%%html\n",
    "<style>\n",
    "div.input {\n",
    "    display:none;\n",
    "}\n",
    "</style>"
   ]
  }
 ],
 "metadata": {
  "kernelspec": {
   "display_name": "Python 3",
   "language": "python",
   "name": "python3"
  },
  "language_info": {
   "codemirror_mode": {
    "name": "ipython",
    "version": 3
   },
   "file_extension": ".py",
   "mimetype": "text/x-python",
   "name": "python",
   "nbconvert_exporter": "python",
   "pygments_lexer": "ipython3",
   "version": "3.8.7"
  },
  "papermill": {
   "duration": 10.721135,
   "end_time": "2021-02-03T10:13:00.422491",
   "environment_variables": {},
   "exception": null,
   "input_path": "DunnCounty_COVID19.ipynb",
   "output_path": "DunnCounty_COVID19.ipynb",
   "parameters": {
    "Start": "True",
    "secretsPath": "/home/runner/work/_temp/secrets.json"
   },
   "start_time": "2021-02-03T10:12:49.701356",
   "version": "1.1.16"
  }
 },
 "nbformat": 4,
 "nbformat_minor": 5
}