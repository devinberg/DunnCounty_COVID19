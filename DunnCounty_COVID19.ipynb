{
 "cells": [
  {
   "cell_type": "code",
   "execution_count": 1,
   "id": "solar-understanding",
   "metadata": {
    "execution": {
     "iopub.execute_input": "2021-03-12T22:12:39.773629Z",
     "iopub.status.busy": "2021-03-12T22:12:39.773051Z",
     "iopub.status.idle": "2021-03-12T22:12:40.528871Z",
     "shell.execute_reply": "2021-03-12T22:12:40.528247Z"
    },
    "jupyter": {
     "source_hidden": true
    },
    "papermill": {
     "duration": 0.775373,
     "end_time": "2021-03-12T22:12:40.529049",
     "exception": false,
     "start_time": "2021-03-12T22:12:39.753676",
     "status": "completed"
    },
    "scrolled": true,
    "tags": [
     "hide-input"
    ]
   },
   "outputs": [],
   "source": [
    "import pandas as pd\n",
    "import matplotlib.pyplot as plt\n",
    "from matplotlib import dates\n",
    "from IPython.display import display, Markdown\n",
    "%matplotlib inline"
   ]
  },
  {
   "cell_type": "code",
   "execution_count": 2,
   "id": "purple-playlist",
   "metadata": {
    "execution": {
     "iopub.execute_input": "2021-03-12T22:12:40.552949Z",
     "iopub.status.busy": "2021-03-12T22:12:40.552333Z",
     "iopub.status.idle": "2021-03-12T22:12:41.169755Z",
     "shell.execute_reply": "2021-03-12T22:12:41.168930Z"
    },
    "jupyter": {
     "source_hidden": true
    },
    "papermill": {
     "duration": 0.631538,
     "end_time": "2021-03-12T22:12:41.169910",
     "exception": false,
     "start_time": "2021-03-12T22:12:40.538372",
     "status": "completed"
    },
    "scrolled": true,
    "tags": [
     "hide-input"
    ]
   },
   "outputs": [],
   "source": [
    "# This is the data for all of Wisconsin.\n",
    "url = \"https://opendata.arcgis.com/datasets/5374188992374b318d3e2305216ee413_12.csv\"\n",
    "data = pd.read_csv(url, parse_dates=['DATE'], low_memory=False)"
   ]
  },
  {
   "cell_type": "code",
   "execution_count": 3,
   "id": "proprietary-klein",
   "metadata": {
    "execution": {
     "iopub.execute_input": "2021-03-12T22:12:41.194973Z",
     "iopub.status.busy": "2021-03-12T22:12:41.194365Z",
     "iopub.status.idle": "2021-03-12T22:12:41.203400Z",
     "shell.execute_reply": "2021-03-12T22:12:41.202955Z"
    },
    "jupyter": {
     "source_hidden": true
    },
    "papermill": {
     "duration": 0.024274,
     "end_time": "2021-03-12T22:12:41.203524",
     "exception": false,
     "start_time": "2021-03-12T22:12:41.179250",
     "status": "completed"
    },
    "scrolled": true,
    "tags": [
     "hide-input"
    ]
   },
   "outputs": [],
   "source": [
    "dc = data.groupby('NAME').get_group('Dunn').sort_values(by='DATE') # Select the data for Dunn County from the full data.\n",
    "PNi = dc.columns.get_loc(\"POS_NEW\")\n",
    "dc['7_DAY'] = dc.iloc[:,PNi].rolling(window=7).mean() # Calculates the rolling 7-day average of new cases.\n",
    "dc['14_DAY'] = dc.iloc[:,PNi].rolling(window=14).mean() # Calculates the rolling 14-day average of new cases."
   ]
  },
  {
   "cell_type": "code",
   "execution_count": 4,
   "id": "steady-supervision",
   "metadata": {
    "execution": {
     "iopub.execute_input": "2021-03-12T22:12:41.227255Z",
     "iopub.status.busy": "2021-03-12T22:12:41.225066Z",
     "iopub.status.idle": "2021-03-12T22:12:41.230495Z",
     "shell.execute_reply": "2021-03-12T22:12:41.230979Z"
    },
    "jupyter": {
     "source_hidden": true
    },
    "papermill": {
     "duration": 0.018667,
     "end_time": "2021-03-12T22:12:41.231104",
     "exception": false,
     "start_time": "2021-03-12T22:12:41.212437",
     "status": "completed"
    },
    "scrolled": true,
    "tags": [
     "hide-input"
    ]
   },
   "outputs": [
    {
     "data": {
      "text/markdown": [
       "### Last updated: March 12, 2021"
      ],
      "text/plain": [
       "<IPython.core.display.Markdown object>"
      ]
     },
     "metadata": {},
     "output_type": "display_data"
    }
   ],
   "source": [
    "display(Markdown('### Last updated: ' + dc.iloc[-1]['DATE'].strftime(\"%B %d, %Y\")))"
   ]
  },
  {
   "cell_type": "code",
   "execution_count": 5,
   "id": "lonely-pitch",
   "metadata": {
    "execution": {
     "iopub.execute_input": "2021-03-12T22:12:41.254896Z",
     "iopub.status.busy": "2021-03-12T22:12:41.254305Z",
     "iopub.status.idle": "2021-03-12T22:12:41.257175Z",
     "shell.execute_reply": "2021-03-12T22:12:41.257667Z"
    },
    "jupyter": {
     "source_hidden": true
    },
    "papermill": {
     "duration": 0.017041,
     "end_time": "2021-03-12T22:12:41.257804",
     "exception": false,
     "start_time": "2021-03-12T22:12:41.240763",
     "status": "completed"
    },
    "tags": [
     "hide-input"
    ]
   },
   "outputs": [
    {
     "data": {
      "text/markdown": [
       "# Dunn County has 4296 total positive cases, with 4 new cases reported today."
      ],
      "text/plain": [
       "<IPython.core.display.Markdown object>"
      ]
     },
     "metadata": {},
     "output_type": "display_data"
    }
   ],
   "source": [
    "display(Markdown('# Dunn County has ' + str(dc.iloc[-1]['POSITIVE']) + ' total positive cases, with '+ str(int(dc.iloc[-1]['POS_NEW'])) + ' new cases reported today.'))"
   ]
  },
  {
   "cell_type": "code",
   "execution_count": 6,
   "id": "compound-nightmare",
   "metadata": {
    "execution": {
     "iopub.execute_input": "2021-03-12T22:12:41.282794Z",
     "iopub.status.busy": "2021-03-12T22:12:41.282188Z",
     "iopub.status.idle": "2021-03-12T22:12:41.551831Z",
     "shell.execute_reply": "2021-03-12T22:12:41.550997Z"
    },
    "jupyter": {
     "source_hidden": true
    },
    "papermill": {
     "duration": 0.283695,
     "end_time": "2021-03-12T22:12:41.552043",
     "exception": false,
     "start_time": "2021-03-12T22:12:41.268348",
     "status": "completed"
    },
    "scrolled": false,
    "tags": [
     "hide-input"
    ]
   },
   "outputs": [
    {
     "data": {
      "image/png": "[encoded data removed]",
      "text/plain": [
       "<Figure size 864x432 with 1 Axes>"
      ]
     },
     "metadata": {
      "needs_background": "light"
     },
     "output_type": "display_data"
    }
   ],
   "source": [
    "dc.plot(x='DATE',y='POSITIVE',color='red',grid='True',figsize=(12,6)).set_xlabel('Date');"
   ]
  },
  {
   "cell_type": "markdown",
   "id": "coupled-literacy",
   "metadata": {
    "papermill": {
     "duration": 0.012304,
     "end_time": "2021-03-12T22:12:41.579024",
     "exception": false,
     "start_time": "2021-03-12T22:12:41.566720",
     "status": "completed"
    },
    "tags": []
   },
   "source": [
    "## Figure 1: Cummulative number of positive cases."
   ]
  },
  {
   "cell_type": "code",
   "execution_count": 7,
   "id": "surrounded-reserve",
   "metadata": {
    "execution": {
     "iopub.execute_input": "2021-03-12T22:12:41.606188Z",
     "iopub.status.busy": "2021-03-12T22:12:41.605564Z",
     "iopub.status.idle": "2021-03-12T22:12:41.823452Z",
     "shell.execute_reply": "2021-03-12T22:12:41.822944Z"
    },
    "jupyter": {
     "source_hidden": true
    },
    "papermill": {
     "duration": 0.232699,
     "end_time": "2021-03-12T22:12:41.823598",
     "exception": false,
     "start_time": "2021-03-12T22:12:41.590899",
     "status": "completed"
    },
    "scrolled": false,
    "tags": [
     "hide-input"
    ]
   },
   "outputs": [
    {
     "data": {
      "image/png": "[encoded data removed]",
      "text/plain": [
       "<Figure size 864x432 with 1 Axes>"
      ]
     },
     "metadata": {
      "needs_background": "light"
     },
     "output_type": "display_data"
    }
   ],
   "source": [
    "dc.plot(kind='line',x='DATE',y='7_DAY',color='blue',grid='True',figsize=(12,6)).set_xlabel('Date');"
   ]
  },
  {
   "cell_type": "markdown",
   "id": "professional-savannah",
   "metadata": {
    "papermill": {
     "duration": 0.012186,
     "end_time": "2021-03-12T22:12:41.850010",
     "exception": false,
     "start_time": "2021-03-12T22:12:41.837824",
     "status": "completed"
    },
    "tags": []
   },
   "source": [
    "## Figure 2: Rolling 7-day average of daily new cases."
   ]
  },
  {
   "cell_type": "code",
   "execution_count": 8,
   "id": "stretch-investor",
   "metadata": {
    "execution": {
     "iopub.execute_input": "2021-03-12T22:12:41.881165Z",
     "iopub.status.busy": "2021-03-12T22:12:41.880615Z",
     "iopub.status.idle": "2021-03-12T22:12:42.089389Z",
     "shell.execute_reply": "2021-03-12T22:12:42.089926Z"
    },
    "jupyter": {
     "source_hidden": true
    },
    "papermill": {
     "duration": 0.227876,
     "end_time": "2021-03-12T22:12:42.090092",
     "exception": false,
     "start_time": "2021-03-12T22:12:41.862216",
     "status": "completed"
    },
    "tags": []
   },
   "outputs": [
    {
     "data": {
      "image/png": "[encoded data removed]",
      "text/plain": [
       "<Figure size 864x432 with 1 Axes>"
      ]
     },
     "metadata": {
      "needs_background": "light"
     },
     "output_type": "display_data"
    }
   ],
   "source": [
    "dc.plot(kind='line',x='DATE',y='14_DAY',color='green',grid='True',figsize=(12,6)).set_xlabel('Date');"
   ]
  },
  {
   "cell_type": "markdown",
   "id": "prerequisite-species",
   "metadata": {
    "papermill": {
     "duration": 0.012751,
     "end_time": "2021-03-12T22:12:42.116067",
     "exception": false,
     "start_time": "2021-03-12T22:12:42.103316",
     "status": "completed"
    },
    "tags": []
   },
   "source": [
    "## Figure 3: Rolling 14-day average of daily new cases."
   ]
  },
  {
   "cell_type": "markdown",
   "id": "palestinian-guard",
   "metadata": {
    "papermill": {
     "duration": 0.012484,
     "end_time": "2021-03-12T22:12:42.141299",
     "exception": false,
     "start_time": "2021-03-12T22:12:42.128815",
     "status": "completed"
    },
    "tags": []
   },
   "source": [
    "Data source: [Wisconsin Department of Health Services](https://data.dhsgis.wi.gov/datasets/covid-19-historical-data-table/)"
   ]
  },
  {
   "cell_type": "code",
   "execution_count": 9,
   "id": "proof-medicare",
   "metadata": {
    "execution": {
     "iopub.execute_input": "2021-03-12T22:12:42.170706Z",
     "iopub.status.busy": "2021-03-12T22:12:42.170126Z",
     "iopub.status.idle": "2021-03-12T22:12:42.172908Z",
     "shell.execute_reply": "2021-03-12T22:12:42.173443Z"
    },
    "jupyter": {
     "source_hidden": true
    },
    "papermill": {
     "duration": 0.019308,
     "end_time": "2021-03-12T22:12:42.173576",
     "exception": false,
     "start_time": "2021-03-12T22:12:42.154268",
     "status": "completed"
    },
    "tags": []
   },
   "outputs": [
    {
     "data": {
      "text/html": [
       "<style>\n",
       "div.input {\n",
       "    display:none;\n",
       "}\n",
       "</style>\n"
      ],
      "text/plain": [
       "<IPython.core.display.HTML object>"
      ]
     },
     "metadata": {},
     "output_type": "display_data"
    }
   ],
   "source": [
    "%%html\n",
    "<style>\n",
    "div.input {\n",
    "    display:none;\n",
    "}\n",
    "</style>"
   ]
  }
 ],
 "metadata": {
  "kernelspec": {
   "display_name": "Python 3",
   "language": "python",
   "name": "python3"
  },
  "language_info": {
   "codemirror_mode": {
    "name": "ipython",
    "version": 3
   },
   "file_extension": ".py",
   "mimetype": "text/x-python",
   "name": "python",
   "nbconvert_exporter": "python",
   "pygments_lexer": "ipython3",
   "version": "3.8.8"
  },
  "papermill": {
   "duration": 4.019396,
   "end_time": "2021-03-12T22:12:42.494802",
   "environment_variables": {},
   "exception": null,
   "input_path": "DunnCounty_COVID19.ipynb",
   "output_path": "DunnCounty_COVID19.ipynb",
   "parameters": {
    "Start": "True",
    "secretsPath": "/home/runner/work/_temp/secrets.json"
   },
   "start_time": "2021-03-12T22:12:38.475406",
   "version": "1.1.16"
  }
 },
 "nbformat": 4,
 "nbformat_minor": 5
}