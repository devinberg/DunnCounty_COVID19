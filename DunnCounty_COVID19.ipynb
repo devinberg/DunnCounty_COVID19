{
 "cells": [
  {
   "cell_type": "code",
   "execution_count": 1,
   "id": "solar-understanding",
   "metadata": {
    "execution": {
     "iopub.execute_input": "2021-06-07T11:00:27.758740Z",
     "iopub.status.busy": "2021-06-07T11:00:27.758259Z",
     "iopub.status.idle": "2021-06-07T11:00:28.468843Z",
     "shell.execute_reply": "2021-06-07T11:00:28.467978Z"
    },
    "jupyter": {
     "source_hidden": true
    },
    "papermill": {
     "duration": 0.72824,
     "end_time": "2021-06-07T11:00:28.468978",
     "exception": false,
     "start_time": "2021-06-07T11:00:27.740738",
     "status": "completed"
    },
    "scrolled": true,
    "tags": [
     "hide-input"
    ]
   },
   "outputs": [],
   "source": [
    "import pandas as pd\n",
    "import matplotlib.pyplot as plt\n",
    "from matplotlib import dates\n",
    "from IPython.display import display, Markdown\n",
    "%matplotlib inline"
   ]
  },
  {
   "cell_type": "code",
   "execution_count": 2,
   "id": "purple-playlist",
   "metadata": {
    "execution": {
     "iopub.execute_input": "2021-06-07T11:00:28.487746Z",
     "iopub.status.busy": "2021-06-07T11:00:28.487272Z",
     "iopub.status.idle": "2021-06-07T11:00:29.525859Z",
     "shell.execute_reply": "2021-06-07T11:00:29.525034Z"
    },
    "jupyter": {
     "source_hidden": true
    },
    "papermill": {
     "duration": 1.049857,
     "end_time": "2021-06-07T11:00:29.525988",
     "exception": false,
     "start_time": "2021-06-07T11:00:28.476131",
     "status": "completed"
    },
    "scrolled": true,
    "tags": [
     "hide-input"
    ]
   },
   "outputs": [],
   "source": [
    "# This is the data for all of Wisconsin.\n",
    "url = \"https://opendata.arcgis.com/api/v3/datasets/3161f6e01d8141c6abe85a29ff7f3d3c_12/downloads/data?format=csv&spatialRefId=3857\"\n",
    "data = pd.read_csv(url, parse_dates=['DATE'], low_memory=False)"
   ]
  },
  {
   "cell_type": "code",
   "execution_count": 3,
   "id": "proprietary-klein",
   "metadata": {
    "execution": {
     "iopub.execute_input": "2021-06-07T11:00:29.547636Z",
     "iopub.status.busy": "2021-06-07T11:00:29.547158Z",
     "iopub.status.idle": "2021-06-07T11:00:29.555405Z",
     "shell.execute_reply": "2021-06-07T11:00:29.554964Z"
    },
    "jupyter": {
     "source_hidden": true
    },
    "papermill": {
     "duration": 0.021624,
     "end_time": "2021-06-07T11:00:29.555508",
     "exception": false,
     "start_time": "2021-06-07T11:00:29.533884",
     "status": "completed"
    },
    "scrolled": true,
    "tags": [
     "hide-input"
    ]
   },
   "outputs": [],
   "source": [
    "dc = data.groupby('NAME').get_group('Dunn').sort_values(by='DATE') # Select the data for Dunn County from the full data.\n",
    "PNi = dc.columns.get_loc(\"POS_NEW\")\n",
    "dc['7_DAY'] = dc.iloc[:,PNi].rolling(window=7).mean() # Calculates the rolling 7-day average of new cases.\n",
    "dc['14_DAY'] = dc.iloc[:,PNi].rolling(window=14).mean() # Calculates the rolling 14-day average of new cases."
   ]
  },
  {
   "cell_type": "code",
   "execution_count": 4,
   "id": "steady-supervision",
   "metadata": {
    "execution": {
     "iopub.execute_input": "2021-06-07T11:00:29.576497Z",
     "iopub.status.busy": "2021-06-07T11:00:29.576043Z",
     "iopub.status.idle": "2021-06-07T11:00:29.580443Z",
     "shell.execute_reply": "2021-06-07T11:00:29.580783Z"
    },
    "jupyter": {
     "source_hidden": true
    },
    "papermill": {
     "duration": 0.017765,
     "end_time": "2021-06-07T11:00:29.580908",
     "exception": false,
     "start_time": "2021-06-07T11:00:29.563143",
     "status": "completed"
    },
    "scrolled": true,
    "tags": [
     "hide-input"
    ]
   },
   "outputs": [
    {
     "data": {
      "text/markdown": [
       "### Last updated: June 04, 2021"
      ],
      "text/plain": [
       "<IPython.core.display.Markdown object>"
      ]
     },
     "metadata": {},
     "output_type": "display_data"
    }
   ],
   "source": [
    "display(Markdown('### Last updated: ' + dc.iloc[-1]['DATE'].strftime(\"%B %d, %Y\")))"
   ]
  },
  {
   "cell_type": "code",
   "execution_count": 5,
   "id": "lonely-pitch",
   "metadata": {
    "execution": {
     "iopub.execute_input": "2021-06-07T11:00:29.601679Z",
     "iopub.status.busy": "2021-06-07T11:00:29.601124Z",
     "iopub.status.idle": "2021-06-07T11:00:29.603921Z",
     "shell.execute_reply": "2021-06-07T11:00:29.603472Z"
    },
    "jupyter": {
     "source_hidden": true
    },
    "papermill": {
     "duration": 0.015188,
     "end_time": "2021-06-07T11:00:29.604034",
     "exception": false,
     "start_time": "2021-06-07T11:00:29.588846",
     "status": "completed"
    },
    "tags": [
     "hide-input"
    ]
   },
   "outputs": [
    {
     "data": {
      "text/markdown": [
       "# Dunn County has 4686 total positive cases, with 0 new cases reported today."
      ],
      "text/plain": [
       "<IPython.core.display.Markdown object>"
      ]
     },
     "metadata": {},
     "output_type": "display_data"
    }
   ],
   "source": [
    "display(Markdown('# Dunn County has ' + str(dc.iloc[-1]['POSITIVE']) + ' total positive cases, with '+ str(int(dc.iloc[-1]['POS_NEW'])) + ' new cases reported today.'))"
   ]
  },
  {
   "cell_type": "code",
   "execution_count": 6,
   "id": "compound-nightmare",
   "metadata": {
    "execution": {
     "iopub.execute_input": "2021-06-07T11:00:29.624366Z",
     "iopub.status.busy": "2021-06-07T11:00:29.623924Z",
     "iopub.status.idle": "2021-06-07T11:00:29.871646Z",
     "shell.execute_reply": "2021-06-07T11:00:29.872074Z"
    },
    "jupyter": {
     "source_hidden": true
    },
    "papermill": {
     "duration": 0.259368,
     "end_time": "2021-06-07T11:00:29.872225",
     "exception": false,
     "start_time": "2021-06-07T11:00:29.612857",
     "status": "completed"
    },
    "scrolled": false,
    "tags": [
     "hide-input"
    ]
   },
   "outputs": [
    {
     "data": {
      "image/png": "[encoded data removed]",
      "text/plain": [
       "<Figure size 864x432 with 1 Axes>"
      ]
     },
     "metadata": {
      "needs_background": "light"
     },
     "output_type": "display_data"
    }
   ],
   "source": [
    "dc.plot(x='DATE',y='POSITIVE',color='red',grid='True',figsize=(12,6)).set_xlabel('Date');"
   ]
  },
  {
   "cell_type": "markdown",
   "id": "coupled-literacy",
   "metadata": {
    "papermill": {
     "duration": 0.009446,
     "end_time": "2021-06-07T11:00:29.891150",
     "exception": false,
     "start_time": "2021-06-07T11:00:29.881704",
     "status": "completed"
    },
    "tags": []
   },
   "source": [
    "## Figure 1: Cummulative number of positive cases."
   ]
  },
  {
   "cell_type": "code",
   "execution_count": 7,
   "id": "surrounded-reserve",
   "metadata": {
    "execution": {
     "iopub.execute_input": "2021-06-07T11:00:29.912761Z",
     "iopub.status.busy": "2021-06-07T11:00:29.912320Z",
     "iopub.status.idle": "2021-06-07T11:00:30.108922Z",
     "shell.execute_reply": "2021-06-07T11:00:30.109294Z"
    },
    "jupyter": {
     "source_hidden": true
    },
    "papermill": {
     "duration": 0.209291,
     "end_time": "2021-06-07T11:00:30.109434",
     "exception": false,
     "start_time": "2021-06-07T11:00:29.900143",
     "status": "completed"
    },
    "scrolled": false,
    "tags": [
     "hide-input"
    ]
   },
   "outputs": [
    {
     "data": {
      "image/png": "[encoded data removed]",
      "text/plain": [
       "<Figure size 864x432 with 1 Axes>"
      ]
     },
     "metadata": {
      "needs_background": "light"
     },
     "output_type": "display_data"
    }
   ],
   "source": [
    "dc.plot(kind='line',x='DATE',y='7_DAY',color='blue',grid='True',figsize=(12,6)).set_xlabel('Date');"
   ]
  },
  {
   "cell_type": "markdown",
   "id": "professional-savannah",
   "metadata": {
    "papermill": {
     "duration": 0.010344,
     "end_time": "2021-06-07T11:00:30.130368",
     "exception": false,
     "start_time": "2021-06-07T11:00:30.120024",
     "status": "completed"
    },
    "tags": []
   },
   "source": [
    "## Figure 2: Rolling 7-day average of daily new cases."
   ]
  },
  {
   "cell_type": "code",
   "execution_count": 8,
   "id": "stretch-investor",
   "metadata": {
    "execution": {
     "iopub.execute_input": "2021-06-07T11:00:30.154230Z",
     "iopub.status.busy": "2021-06-07T11:00:30.153779Z",
     "iopub.status.idle": "2021-06-07T11:00:30.344756Z",
     "shell.execute_reply": "2021-06-07T11:00:30.345178Z"
    },
    "jupyter": {
     "source_hidden": true
    },
    "papermill": {
     "duration": 0.205045,
     "end_time": "2021-06-07T11:00:30.345330",
     "exception": false,
     "start_time": "2021-06-07T11:00:30.140285",
     "status": "completed"
    },
    "tags": []
   },
   "outputs": [
    {
     "data": {
      "image/png": "[encoded data removed]",
      "text/plain": [
       "<Figure size 864x432 with 1 Axes>"
      ]
     },
     "metadata": {
      "needs_background": "light"
     },
     "output_type": "display_data"
    }
   ],
   "source": [
    "dc.plot(kind='line',x='DATE',y='14_DAY',color='green',grid='True',figsize=(12,6)).set_xlabel('Date');"
   ]
  },
  {
   "cell_type": "markdown",
   "id": "prerequisite-species",
   "metadata": {
    "papermill": {
     "duration": 0.01119,
     "end_time": "2021-06-07T11:00:30.368606",
     "exception": false,
     "start_time": "2021-06-07T11:00:30.357416",
     "status": "completed"
    },
    "tags": []
   },
   "source": [
    "## Figure 3: Rolling 14-day average of daily new cases."
   ]
  },
  {
   "cell_type": "markdown",
   "id": "palestinian-guard",
   "metadata": {
    "papermill": {
     "duration": 0.010825,
     "end_time": "2021-06-07T11:00:30.390207",
     "exception": false,
     "start_time": "2021-06-07T11:00:30.379382",
     "status": "completed"
    },
    "tags": []
   },
   "source": [
    "Data source: [Wisconsin Department of Health Services](https://data.dhsgis.wi.gov/datasets/wi-dhs::covid-19-historical-data-by-county-1)"
   ]
  },
  {
   "cell_type": "code",
   "execution_count": 9,
   "id": "proof-medicare",
   "metadata": {
    "execution": {
     "iopub.execute_input": "2021-06-07T11:00:30.416241Z",
     "iopub.status.busy": "2021-06-07T11:00:30.415787Z",
     "iopub.status.idle": "2021-06-07T11:00:30.418527Z",
     "shell.execute_reply": "2021-06-07T11:00:30.418914Z"
    },
    "jupyter": {
     "source_hidden": true
    },
    "papermill": {
     "duration": 0.018093,
     "end_time": "2021-06-07T11:00:30.419037",
     "exception": false,
     "start_time": "2021-06-07T11:00:30.400944",
     "status": "completed"
    },
    "tags": []
   },
   "outputs": [
    {
     "data": {
      "text/html": [
       "<style>\n",
       "div.input {\n",
       "    display:none;\n",
       "}\n",
       "</style>\n"
      ],
      "text/plain": [
       "<IPython.core.display.HTML object>"
      ]
     },
     "metadata": {},
     "output_type": "display_data"
    }
   ],
   "source": [
    "%%html\n",
    "<style>\n",
    "div.input {\n",
    "    display:none;\n",
    "}\n",
    "</style>"
   ]
  }
 ],
 "metadata": {
  "kernelspec": {
   "display_name": "Python 3",
   "language": "python",
   "name": "python3"
  },
  "language_info": {
   "codemirror_mode": {
    "name": "ipython",
    "version": 3
   },
   "file_extension": ".py",
   "mimetype": "text/x-python",
   "name": "python",
   "nbconvert_exporter": "python",
   "pygments_lexer": "ipython3",
   "version": "3.8.10"
  },
  "papermill": {
   "duration": 4.055249,
   "end_time": "2021-06-07T11:00:30.737883",
   "environment_variables": {},
   "exception": null,
   "input_path": "DunnCounty_COVID19.ipynb",
   "output_path": "DunnCounty_COVID19.ipynb",
   "parameters": {
    "Start": "True",
    "secretsPath": "/home/runner/work/_temp/secrets.json"
   },
   "start_time": "2021-06-07T11:00:26.682634",
   "version": "1.1.16"
  }
 },
 "nbformat": 4,
 "nbformat_minor": 5
}