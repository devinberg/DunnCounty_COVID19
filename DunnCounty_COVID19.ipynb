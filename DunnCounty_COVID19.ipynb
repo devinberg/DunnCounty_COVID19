{
 "cells": [
  {
   "cell_type": "code",
   "execution_count": 1,
   "metadata": {
    "execution": {
     "iopub.execute_input": "2020-12-25T22:15:48.530936Z",
     "iopub.status.busy": "2020-12-25T22:15:48.530396Z",
     "iopub.status.idle": "2020-12-25T22:15:49.592834Z",
     "shell.execute_reply": "2020-12-25T22:15:49.592318Z"
    },
    "jupyter": {
     "source_hidden": true
    },
    "papermill": {
     "duration": 1.080213,
     "end_time": "2020-12-25T22:15:49.593005",
     "exception": false,
     "start_time": "2020-12-25T22:15:48.512792",
     "status": "completed"
    },
    "scrolled": true,
    "tags": [
     "hide-input"
    ]
   },
   "outputs": [],
   "source": [
    "import pandas as pd\n",
    "import matplotlib.pyplot as plt\n",
    "from matplotlib import dates\n",
    "from IPython.display import display, Markdown\n",
    "%matplotlib inline"
   ]
  },
  {
   "cell_type": "code",
   "execution_count": 2,
   "metadata": {
    "execution": {
     "iopub.execute_input": "2020-12-25T22:15:49.610555Z",
     "iopub.status.busy": "2020-12-25T22:15:49.610039Z",
     "iopub.status.idle": "2020-12-25T22:15:50.581187Z",
     "shell.execute_reply": "2020-12-25T22:15:50.581628Z"
    },
    "jupyter": {
     "source_hidden": true
    },
    "papermill": {
     "duration": 0.982075,
     "end_time": "2020-12-25T22:15:50.581808",
     "exception": false,
     "start_time": "2020-12-25T22:15:49.599733",
     "status": "completed"
    },
    "scrolled": true,
    "tags": [
     "hide-input"
    ]
   },
   "outputs": [],
   "source": [
    "# This is the data for all of Wisconsin.\n",
    "url = \"https://opendata.arcgis.com/datasets/5374188992374b318d3e2305216ee413_12.csv\"\n",
    "data = pd.read_csv(url, parse_dates=['DATE'], low_memory=False)"
   ]
  },
  {
   "cell_type": "code",
   "execution_count": 3,
   "metadata": {
    "execution": {
     "iopub.execute_input": "2020-12-25T22:15:50.601280Z",
     "iopub.status.busy": "2020-12-25T22:15:50.600717Z",
     "iopub.status.idle": "2020-12-25T22:15:50.608844Z",
     "shell.execute_reply": "2020-12-25T22:15:50.608370Z"
    },
    "jupyter": {
     "source_hidden": true
    },
    "papermill": {
     "duration": 0.020345,
     "end_time": "2020-12-25T22:15:50.608954",
     "exception": false,
     "start_time": "2020-12-25T22:15:50.588609",
     "status": "completed"
    },
    "scrolled": true,
    "tags": [
     "hide-input"
    ]
   },
   "outputs": [],
   "source": [
    "dc = data.groupby('NAME').get_group('Dunn').sort_values(by='DATE') # Select the data for Dunn County from the full data.\n",
    "PNi = dc.columns.get_loc(\"POS_NEW\")\n",
    "dc['7_DAY'] = dc.iloc[:,PNi].rolling(window=7).mean() # Calculates the rolling 7-day average of new cases.\n",
    "dc['14_DAY'] = dc.iloc[:,PNi].rolling(window=14).mean() # Calculates the rolling 14-day average of new cases."
   ]
  },
  {
   "cell_type": "code",
   "execution_count": 4,
   "metadata": {
    "execution": {
     "iopub.execute_input": "2020-12-25T22:15:50.628379Z",
     "iopub.status.busy": "2020-12-25T22:15:50.627786Z",
     "iopub.status.idle": "2020-12-25T22:15:50.633724Z",
     "shell.execute_reply": "2020-12-25T22:15:50.633280Z"
    },
    "jupyter": {
     "source_hidden": true
    },
    "papermill": {
     "duration": 0.018157,
     "end_time": "2020-12-25T22:15:50.633830",
     "exception": false,
     "start_time": "2020-12-25T22:15:50.615673",
     "status": "completed"
    },
    "scrolled": true,
    "tags": [
     "hide-input"
    ]
   },
   "outputs": [
    {
     "data": {
      "text/markdown": [
       "### Last updated: December 25, 2020"
      ],
      "text/plain": [
       "<IPython.core.display.Markdown object>"
      ]
     },
     "metadata": {},
     "output_type": "display_data"
    }
   ],
   "source": [
    "display(Markdown('### Last updated: ' + dc.iloc[-1]['DATE'].strftime(\"%B %d, %Y\")))"
   ]
  },
  {
   "cell_type": "code",
   "execution_count": 5,
   "metadata": {
    "execution": {
     "iopub.execute_input": "2020-12-25T22:15:50.651828Z",
     "iopub.status.busy": "2020-12-25T22:15:50.651315Z",
     "iopub.status.idle": "2020-12-25T22:15:50.654513Z",
     "shell.execute_reply": "2020-12-25T22:15:50.654915Z"
    },
    "jupyter": {
     "source_hidden": true
    },
    "papermill": {
     "duration": 0.01468,
     "end_time": "2020-12-25T22:15:50.655043",
     "exception": false,
     "start_time": "2020-12-25T22:15:50.640363",
     "status": "completed"
    },
    "tags": [
     "hide-input"
    ]
   },
   "outputs": [
    {
     "data": {
      "text/markdown": [
       "# Dunn County has 3389 total positive cases, with 0 new cases reported today."
      ],
      "text/plain": [
       "<IPython.core.display.Markdown object>"
      ]
     },
     "metadata": {},
     "output_type": "display_data"
    }
   ],
   "source": [
    "display(Markdown('# Dunn County has ' + str(dc.iloc[-1]['POSITIVE']) + ' total positive cases, with '+ str(int(dc.iloc[-1]['POS_NEW'])) + ' new cases reported today.'))"
   ]
  },
  {
   "cell_type": "code",
   "execution_count": 6,
   "metadata": {
    "execution": {
     "iopub.execute_input": "2020-12-25T22:15:50.673380Z",
     "iopub.status.busy": "2020-12-25T22:15:50.672898Z",
     "iopub.status.idle": "2020-12-25T22:15:50.937896Z",
     "shell.execute_reply": "2020-12-25T22:15:50.937432Z"
    },
    "jupyter": {
     "source_hidden": true
    },
    "papermill": {
     "duration": 0.275223,
     "end_time": "2020-12-25T22:15:50.938020",
     "exception": false,
     "start_time": "2020-12-25T22:15:50.662797",
     "status": "completed"
    },
    "scrolled": false,
    "tags": [
     "hide-input"
    ]
   },
   "outputs": [
    {
     "data": {
      "image/png": "[encoded data removed]",
      "text/plain": [
       "<Figure size 864x432 with 1 Axes>"
      ]
     },
     "metadata": {
      "needs_background": "light"
     },
     "output_type": "display_data"
    }
   ],
   "source": [
    "dc.plot(x='DATE',y='POSITIVE',color='red',grid='True',figsize=(12,6)).set_xlabel('Date');"
   ]
  },
  {
   "cell_type": "markdown",
   "metadata": {
    "papermill": {
     "duration": 0.007765,
     "end_time": "2020-12-25T22:15:50.954001",
     "exception": false,
     "start_time": "2020-12-25T22:15:50.946236",
     "status": "completed"
    },
    "tags": []
   },
   "source": [
    "## Figure 1: Cummulative number of positive cases."
   ]
  },
  {
   "cell_type": "code",
   "execution_count": 7,
   "metadata": {
    "execution": {
     "iopub.execute_input": "2020-12-25T22:15:50.998965Z",
     "iopub.status.busy": "2020-12-25T22:15:50.996179Z",
     "iopub.status.idle": "2020-12-25T22:15:51.218251Z",
     "shell.execute_reply": "2020-12-25T22:15:51.217831Z"
    },
    "jupyter": {
     "source_hidden": true
    },
    "papermill": {
     "duration": 0.256267,
     "end_time": "2020-12-25T22:15:51.218373",
     "exception": false,
     "start_time": "2020-12-25T22:15:50.962106",
     "status": "completed"
    },
    "scrolled": false,
    "tags": [
     "hide-input"
    ]
   },
   "outputs": [
    {
     "data": {
      "image/png": "[encoded data removed]",
      "text/plain": [
       "<Figure size 864x432 with 1 Axes>"
      ]
     },
     "metadata": {
      "needs_background": "light"
     },
     "output_type": "display_data"
    }
   ],
   "source": [
    "dc.plot(kind='line',x='DATE',y='7_DAY',color='blue',grid='True',figsize=(12,6)).set_xlabel('Date');"
   ]
  },
  {
   "cell_type": "markdown",
   "metadata": {
    "papermill": {
     "duration": 0.008088,
     "end_time": "2020-12-25T22:15:51.234920",
     "exception": false,
     "start_time": "2020-12-25T22:15:51.226832",
     "status": "completed"
    },
    "tags": []
   },
   "source": [
    "## Figure 2: Rolling 7-day average of daily new cases."
   ]
  },
  {
   "cell_type": "code",
   "execution_count": 8,
   "metadata": {
    "execution": {
     "iopub.execute_input": "2020-12-25T22:15:51.259117Z",
     "iopub.status.busy": "2020-12-25T22:15:51.258638Z",
     "iopub.status.idle": "2020-12-25T22:15:51.490959Z",
     "shell.execute_reply": "2020-12-25T22:15:51.491452Z"
    },
    "jupyter": {
     "source_hidden": true
    },
    "papermill": {
     "duration": 0.245809,
     "end_time": "2020-12-25T22:15:51.491644",
     "exception": false,
     "start_time": "2020-12-25T22:15:51.245835",
     "status": "completed"
    },
    "tags": []
   },
   "outputs": [
    {
     "data": {
      "image/png": "[encoded data removed]",
      "text/plain": [
       "<Figure size 864x432 with 1 Axes>"
      ]
     },
     "metadata": {
      "needs_background": "light"
     },
     "output_type": "display_data"
    }
   ],
   "source": [
    "dc.plot(kind='line',x='DATE',y='14_DAY',color='green',grid='True',figsize=(12,6)).set_xlabel('Date');"
   ]
  },
  {
   "cell_type": "markdown",
   "metadata": {
    "papermill": {
     "duration": 0.009497,
     "end_time": "2020-12-25T22:15:51.510654",
     "exception": false,
     "start_time": "2020-12-25T22:15:51.501157",
     "status": "completed"
    },
    "tags": []
   },
   "source": [
    "## Figure 3: Rolling 14-day average of daily new cases."
   ]
  },
  {
   "cell_type": "markdown",
   "metadata": {
    "papermill": {
     "duration": 0.009042,
     "end_time": "2020-12-25T22:15:51.529166",
     "exception": false,
     "start_time": "2020-12-25T22:15:51.520124",
     "status": "completed"
    },
    "tags": []
   },
   "source": [
    "Data source: [Wisconsin Department of Health Services](https://data.dhsgis.wi.gov/datasets/covid-19-historical-data-table/)"
   ]
  },
  {
   "cell_type": "code",
   "execution_count": 9,
   "metadata": {
    "execution": {
     "iopub.execute_input": "2020-12-25T22:15:51.553299Z",
     "iopub.status.busy": "2020-12-25T22:15:51.552747Z",
     "iopub.status.idle": "2020-12-25T22:15:51.555652Z",
     "shell.execute_reply": "2020-12-25T22:15:51.556034Z"
    },
    "jupyter": {
     "source_hidden": true
    },
    "papermill": {
     "duration": 0.017584,
     "end_time": "2020-12-25T22:15:51.556148",
     "exception": false,
     "start_time": "2020-12-25T22:15:51.538564",
     "status": "completed"
    },
    "tags": []
   },
   "outputs": [
    {
     "data": {
      "text/html": [
       "<style>\n",
       "div.input {\n",
       "    display:none;\n",
       "}\n",
       "</style>\n"
      ],
      "text/plain": [
       "<IPython.core.display.HTML object>"
      ]
     },
     "metadata": {},
     "output_type": "display_data"
    }
   ],
   "source": [
    "%%html\n",
    "<style>\n",
    "div.input {\n",
    "    display:none;\n",
    "}\n",
    "</style>"
   ]
  }
 ],
 "metadata": {
  "kernelspec": {
   "display_name": "Python 3",
   "language": "python",
   "name": "python3"
  },
  "language_info": {
   "codemirror_mode": {
    "name": "ipython",
    "version": 3
   },
   "file_extension": ".py",
   "mimetype": "text/x-python",
   "name": "python",
   "nbconvert_exporter": "python",
   "pygments_lexer": "ipython3",
   "version": "3.8.6"
  },
  "papermill": {
   "duration": 5.537549,
   "end_time": "2020-12-25T22:15:52.752224",
   "environment_variables": {},
   "exception": null,
   "input_path": "DunnCounty_COVID19.ipynb",
   "output_path": "DunnCounty_COVID19.ipynb",
   "parameters": {
    "Start": "True",
    "secretsPath": "/home/runner/work/_temp/secrets.json"
   },
   "start_time": "2020-12-25T22:15:47.214675",
   "version": "1.1.16"
  }
 },
 "nbformat": 4,
 "nbformat_minor": 2
}