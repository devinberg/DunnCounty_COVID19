{
 "cells": [
  {
   "cell_type": "code",
   "execution_count": 1,
   "id": "solar-understanding",
   "metadata": {
    "execution": {
     "iopub.execute_input": "2021-02-07T22:11:46.154604Z",
     "iopub.status.busy": "2021-02-07T22:11:46.153888Z",
     "iopub.status.idle": "2021-02-07T22:11:48.150710Z",
     "shell.execute_reply": "2021-02-07T22:11:48.151175Z"
    },
    "jupyter": {
     "source_hidden": true
    },
    "papermill": {
     "duration": 2.01717,
     "end_time": "2021-02-07T22:11:48.151461",
     "exception": false,
     "start_time": "2021-02-07T22:11:46.134291",
     "status": "completed"
    },
    "scrolled": true,
    "tags": [
     "hide-input"
    ]
   },
   "outputs": [],
   "source": [
    "import pandas as pd\n",
    "import matplotlib.pyplot as plt\n",
    "from matplotlib import dates\n",
    "from IPython.display import display, Markdown\n",
    "%matplotlib inline"
   ]
  },
  {
   "cell_type": "code",
   "execution_count": 2,
   "id": "purple-playlist",
   "metadata": {
    "execution": {
     "iopub.execute_input": "2021-02-07T22:11:48.174722Z",
     "iopub.status.busy": "2021-02-07T22:11:48.174174Z",
     "iopub.status.idle": "2021-02-07T22:11:48.784206Z",
     "shell.execute_reply": "2021-02-07T22:11:48.783606Z"
    },
    "jupyter": {
     "source_hidden": true
    },
    "papermill": {
     "duration": 0.62329,
     "end_time": "2021-02-07T22:11:48.784382",
     "exception": false,
     "start_time": "2021-02-07T22:11:48.161092",
     "status": "completed"
    },
    "scrolled": true,
    "tags": [
     "hide-input"
    ]
   },
   "outputs": [],
   "source": [
    "# This is the data for all of Wisconsin.\n",
    "url = \"https://opendata.arcgis.com/datasets/5374188992374b318d3e2305216ee413_12.csv\"\n",
    "data = pd.read_csv(url, parse_dates=['DATE'], low_memory=False)"
   ]
  },
  {
   "cell_type": "code",
   "execution_count": 3,
   "id": "proprietary-klein",
   "metadata": {
    "execution": {
     "iopub.execute_input": "2021-02-07T22:11:48.808855Z",
     "iopub.status.busy": "2021-02-07T22:11:48.808268Z",
     "iopub.status.idle": "2021-02-07T22:11:48.817071Z",
     "shell.execute_reply": "2021-02-07T22:11:48.816448Z"
    },
    "jupyter": {
     "source_hidden": true
    },
    "papermill": {
     "duration": 0.023866,
     "end_time": "2021-02-07T22:11:48.817187",
     "exception": false,
     "start_time": "2021-02-07T22:11:48.793321",
     "status": "completed"
    },
    "scrolled": true,
    "tags": [
     "hide-input"
    ]
   },
   "outputs": [],
   "source": [
    "dc = data.groupby('NAME').get_group('Dunn').sort_values(by='DATE') # Select the data for Dunn County from the full data.\n",
    "PNi = dc.columns.get_loc(\"POS_NEW\")\n",
    "dc['7_DAY'] = dc.iloc[:,PNi].rolling(window=7).mean() # Calculates the rolling 7-day average of new cases.\n",
    "dc['14_DAY'] = dc.iloc[:,PNi].rolling(window=14).mean() # Calculates the rolling 14-day average of new cases."
   ]
  },
  {
   "cell_type": "code",
   "execution_count": 4,
   "id": "steady-supervision",
   "metadata": {
    "execution": {
     "iopub.execute_input": "2021-02-07T22:11:48.839155Z",
     "iopub.status.busy": "2021-02-07T22:11:48.838625Z",
     "iopub.status.idle": "2021-02-07T22:11:48.841917Z",
     "shell.execute_reply": "2021-02-07T22:11:48.841465Z"
    },
    "jupyter": {
     "source_hidden": true
    },
    "papermill": {
     "duration": 0.016711,
     "end_time": "2021-02-07T22:11:48.842025",
     "exception": false,
     "start_time": "2021-02-07T22:11:48.825314",
     "status": "completed"
    },
    "scrolled": true,
    "tags": [
     "hide-input"
    ]
   },
   "outputs": [
    {
     "data": {
      "text/markdown": [
       "### Last updated: February 07, 2021"
      ],
      "text/plain": [
       "<IPython.core.display.Markdown object>"
      ]
     },
     "metadata": {},
     "output_type": "display_data"
    }
   ],
   "source": [
    "display(Markdown('### Last updated: ' + dc.iloc[-1]['DATE'].strftime(\"%B %d, %Y\")))"
   ]
  },
  {
   "cell_type": "code",
   "execution_count": 5,
   "id": "lonely-pitch",
   "metadata": {
    "execution": {
     "iopub.execute_input": "2021-02-07T22:11:48.864790Z",
     "iopub.status.busy": "2021-02-07T22:11:48.864240Z",
     "iopub.status.idle": "2021-02-07T22:11:48.867002Z",
     "shell.execute_reply": "2021-02-07T22:11:48.867426Z"
    },
    "jupyter": {
     "source_hidden": true
    },
    "papermill": {
     "duration": 0.016459,
     "end_time": "2021-02-07T22:11:48.867558",
     "exception": false,
     "start_time": "2021-02-07T22:11:48.851099",
     "status": "completed"
    },
    "tags": [
     "hide-input"
    ]
   },
   "outputs": [
    {
     "data": {
      "text/markdown": [
       "# Dunn County has 4137 total positive cases, with 6 new cases reported today."
      ],
      "text/plain": [
       "<IPython.core.display.Markdown object>"
      ]
     },
     "metadata": {},
     "output_type": "display_data"
    }
   ],
   "source": [
    "display(Markdown('# Dunn County has ' + str(dc.iloc[-1]['POSITIVE']) + ' total positive cases, with '+ str(int(dc.iloc[-1]['POS_NEW'])) + ' new cases reported today.'))"
   ]
  },
  {
   "cell_type": "code",
   "execution_count": 6,
   "id": "compound-nightmare",
   "metadata": {
    "execution": {
     "iopub.execute_input": "2021-02-07T22:11:48.891080Z",
     "iopub.status.busy": "2021-02-07T22:11:48.890443Z",
     "iopub.status.idle": "2021-02-07T22:11:49.170670Z",
     "shell.execute_reply": "2021-02-07T22:11:49.171228Z"
    },
    "jupyter": {
     "source_hidden": true
    },
    "papermill": {
     "duration": 0.29427,
     "end_time": "2021-02-07T22:11:49.171429",
     "exception": false,
     "start_time": "2021-02-07T22:11:48.877159",
     "status": "completed"
    },
    "scrolled": false,
    "tags": [
     "hide-input"
    ]
   },
   "outputs": [
    {
     "data": {
      "image/png": "[encoded data removed]",
      "text/plain": [
       "<Figure size 864x432 with 1 Axes>"
      ]
     },
     "metadata": {
      "needs_background": "light"
     },
     "output_type": "display_data"
    }
   ],
   "source": [
    "dc.plot(x='DATE',y='POSITIVE',color='red',grid='True',figsize=(12,6)).set_xlabel('Date');"
   ]
  },
  {
   "cell_type": "markdown",
   "id": "coupled-literacy",
   "metadata": {
    "papermill": {
     "duration": 0.009783,
     "end_time": "2021-02-07T22:11:49.190982",
     "exception": false,
     "start_time": "2021-02-07T22:11:49.181199",
     "status": "completed"
    },
    "tags": []
   },
   "source": [
    "## Figure 1: Cummulative number of positive cases."
   ]
  },
  {
   "cell_type": "code",
   "execution_count": 7,
   "id": "surrounded-reserve",
   "metadata": {
    "execution": {
     "iopub.execute_input": "2021-02-07T22:11:49.214956Z",
     "iopub.status.busy": "2021-02-07T22:11:49.214430Z",
     "iopub.status.idle": "2021-02-07T22:11:49.457137Z",
     "shell.execute_reply": "2021-02-07T22:11:49.457612Z"
    },
    "jupyter": {
     "source_hidden": true
    },
    "papermill": {
     "duration": 0.257297,
     "end_time": "2021-02-07T22:11:49.457791",
     "exception": false,
     "start_time": "2021-02-07T22:11:49.200494",
     "status": "completed"
    },
    "scrolled": false,
    "tags": [
     "hide-input"
    ]
   },
   "outputs": [
    {
     "data": {
      "image/png": "[encoded data removed]",
      "text/plain": [
       "<Figure size 864x432 with 1 Axes>"
      ]
     },
     "metadata": {
      "needs_background": "light"
     },
     "output_type": "display_data"
    }
   ],
   "source": [
    "dc.plot(kind='line',x='DATE',y='7_DAY',color='blue',grid='True',figsize=(12,6)).set_xlabel('Date');"
   ]
  },
  {
   "cell_type": "markdown",
   "id": "professional-savannah",
   "metadata": {
    "papermill": {
     "duration": 0.010645,
     "end_time": "2021-02-07T22:11:49.479753",
     "exception": false,
     "start_time": "2021-02-07T22:11:49.469108",
     "status": "completed"
    },
    "tags": []
   },
   "source": [
    "## Figure 2: Rolling 7-day average of daily new cases."
   ]
  },
  {
   "cell_type": "code",
   "execution_count": 8,
   "id": "stretch-investor",
   "metadata": {
    "execution": {
     "iopub.execute_input": "2021-02-07T22:11:49.523011Z",
     "iopub.status.busy": "2021-02-07T22:11:49.505463Z",
     "iopub.status.idle": "2021-02-07T22:11:49.741840Z",
     "shell.execute_reply": "2021-02-07T22:11:49.742318Z"
    },
    "jupyter": {
     "source_hidden": true
    },
    "papermill": {
     "duration": 0.252036,
     "end_time": "2021-02-07T22:11:49.742487",
     "exception": false,
     "start_time": "2021-02-07T22:11:49.490451",
     "status": "completed"
    },
    "tags": []
   },
   "outputs": [
    {
     "data": {
      "image/png": "[encoded data removed]",
      "text/plain": [
       "<Figure size 864x432 with 1 Axes>"
      ]
     },
     "metadata": {
      "needs_background": "light"
     },
     "output_type": "display_data"
    }
   ],
   "source": [
    "dc.plot(kind='line',x='DATE',y='14_DAY',color='green',grid='True',figsize=(12,6)).set_xlabel('Date');"
   ]
  },
  {
   "cell_type": "markdown",
   "id": "prerequisite-species",
   "metadata": {
    "papermill": {
     "duration": 0.012013,
     "end_time": "2021-02-07T22:11:49.767184",
     "exception": false,
     "start_time": "2021-02-07T22:11:49.755171",
     "status": "completed"
    },
    "tags": []
   },
   "source": [
    "## Figure 3: Rolling 14-day average of daily new cases."
   ]
  },
  {
   "cell_type": "markdown",
   "id": "palestinian-guard",
   "metadata": {
    "papermill": {
     "duration": 0.012373,
     "end_time": "2021-02-07T22:11:49.792379",
     "exception": false,
     "start_time": "2021-02-07T22:11:49.780006",
     "status": "completed"
    },
    "tags": []
   },
   "source": [
    "Data source: [Wisconsin Department of Health Services](https://data.dhsgis.wi.gov/datasets/covid-19-historical-data-table/)"
   ]
  },
  {
   "cell_type": "code",
   "execution_count": 9,
   "id": "proof-medicare",
   "metadata": {
    "execution": {
     "iopub.execute_input": "2021-02-07T22:11:49.821092Z",
     "iopub.status.busy": "2021-02-07T22:11:49.820520Z",
     "iopub.status.idle": "2021-02-07T22:11:49.823638Z",
     "shell.execute_reply": "2021-02-07T22:11:49.823170Z"
    },
    "jupyter": {
     "source_hidden": true
    },
    "papermill": {
     "duration": 0.018394,
     "end_time": "2021-02-07T22:11:49.823754",
     "exception": false,
     "start_time": "2021-02-07T22:11:49.805360",
     "status": "completed"
    },
    "tags": []
   },
   "outputs": [
    {
     "data": {
      "text/html": [
       "<style>\n",
       "div.input {\n",
       "    display:none;\n",
       "}\n",
       "</style>\n"
      ],
      "text/plain": [
       "<IPython.core.display.HTML object>"
      ]
     },
     "metadata": {},
     "output_type": "display_data"
    }
   ],
   "source": [
    "%%html\n",
    "<style>\n",
    "div.input {\n",
    "    display:none;\n",
    "}\n",
    "</style>"
   ]
  }
 ],
 "metadata": {
  "kernelspec": {
   "display_name": "Python 3",
   "language": "python",
   "name": "python3"
  },
  "language_info": {
   "codemirror_mode": {
    "name": "ipython",
    "version": 3
   },
   "file_extension": ".py",
   "mimetype": "text/x-python",
   "name": "python",
   "nbconvert_exporter": "python",
   "pygments_lexer": "ipython3",
   "version": "3.8.7"
  },
  "papermill": {
   "duration": 5.458298,
   "end_time": "2021-02-07T22:11:50.141904",
   "environment_variables": {},
   "exception": null,
   "input_path": "DunnCounty_COVID19.ipynb",
   "output_path": "DunnCounty_COVID19.ipynb",
   "parameters": {
    "Start": "True",
    "secretsPath": "/home/runner/work/_temp/secrets.json"
   },
   "start_time": "2021-02-07T22:11:44.683606",
   "version": "1.1.16"
  }
 },
 "nbformat": 4,
 "nbformat_minor": 5
}