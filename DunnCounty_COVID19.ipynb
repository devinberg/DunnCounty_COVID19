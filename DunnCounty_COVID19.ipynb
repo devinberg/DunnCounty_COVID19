{
 "cells": [
  {
   "cell_type": "code",
   "execution_count": 1,
   "metadata": {
    "execution": {
     "iopub.execute_input": "2020-12-23T22:18:25.924151Z",
     "iopub.status.busy": "2020-12-23T22:18:25.922732Z",
     "iopub.status.idle": "2020-12-23T22:18:27.038222Z",
     "shell.execute_reply": "2020-12-23T22:18:27.037516Z"
    },
    "jupyter": {
     "source_hidden": true
    },
    "papermill": {
     "duration": 1.135479,
     "end_time": "2020-12-23T22:18:27.038457",
     "exception": false,
     "start_time": "2020-12-23T22:18:25.902978",
     "status": "completed"
    },
    "scrolled": true,
    "tags": [
     "hide-input"
    ]
   },
   "outputs": [],
   "source": [
    "import pandas as pd\n",
    "import matplotlib.pyplot as plt\n",
    "from matplotlib import dates\n",
    "from IPython.display import display, Markdown\n",
    "%matplotlib inline"
   ]
  },
  {
   "cell_type": "code",
   "execution_count": 2,
   "metadata": {
    "execution": {
     "iopub.execute_input": "2020-12-23T22:18:27.067505Z",
     "iopub.status.busy": "2020-12-23T22:18:27.066897Z",
     "iopub.status.idle": "2020-12-23T22:18:27.737120Z",
     "shell.execute_reply": "2020-12-23T22:18:27.736539Z"
    },
    "jupyter": {
     "source_hidden": true
    },
    "papermill": {
     "duration": 0.685814,
     "end_time": "2020-12-23T22:18:27.737291",
     "exception": false,
     "start_time": "2020-12-23T22:18:27.051477",
     "status": "completed"
    },
    "scrolled": true,
    "tags": [
     "hide-input"
    ]
   },
   "outputs": [],
   "source": [
    "# This is the data for all of Wisconsin.\n",
    "url = \"https://opendata.arcgis.com/datasets/5374188992374b318d3e2305216ee413_12.csv\"\n",
    "data = pd.read_csv(url, parse_dates=['DATE'], low_memory=False)"
   ]
  },
  {
   "cell_type": "code",
   "execution_count": 3,
   "metadata": {
    "execution": {
     "iopub.execute_input": "2020-12-23T22:18:27.760045Z",
     "iopub.status.busy": "2020-12-23T22:18:27.758870Z",
     "iopub.status.idle": "2020-12-23T22:18:27.769930Z",
     "shell.execute_reply": "2020-12-23T22:18:27.770403Z"
    },
    "jupyter": {
     "source_hidden": true
    },
    "papermill": {
     "duration": 0.025201,
     "end_time": "2020-12-23T22:18:27.770580",
     "exception": false,
     "start_time": "2020-12-23T22:18:27.745379",
     "status": "completed"
    },
    "scrolled": true,
    "tags": [
     "hide-input"
    ]
   },
   "outputs": [],
   "source": [
    "dc = data.groupby('NAME').get_group('Dunn').sort_values(by='DATE') # Select the data for Dunn County from the full data.\n",
    "PNi = dc.columns.get_loc(\"POS_NEW\")\n",
    "dc['7_DAY'] = dc.iloc[:,PNi].rolling(window=7).mean() # Calculates the rolling 7-day average of new cases.\n",
    "dc['14_DAY'] = dc.iloc[:,PNi].rolling(window=14).mean() # Calculates the rolling 14-day average of new cases."
   ]
  },
  {
   "cell_type": "code",
   "execution_count": 4,
   "metadata": {
    "execution": {
     "iopub.execute_input": "2020-12-23T22:18:27.792959Z",
     "iopub.status.busy": "2020-12-23T22:18:27.792363Z",
     "iopub.status.idle": "2020-12-23T22:18:27.798386Z",
     "shell.execute_reply": "2020-12-23T22:18:27.798841Z"
    },
    "jupyter": {
     "source_hidden": true
    },
    "papermill": {
     "duration": 0.020428,
     "end_time": "2020-12-23T22:18:27.798987",
     "exception": false,
     "start_time": "2020-12-23T22:18:27.778559",
     "status": "completed"
    },
    "scrolled": true,
    "tags": [
     "hide-input"
    ]
   },
   "outputs": [
    {
     "data": {
      "text/markdown": [
       "### Last updated: December 23, 2020"
      ],
      "text/plain": [
       "<IPython.core.display.Markdown object>"
      ]
     },
     "metadata": {},
     "output_type": "display_data"
    }
   ],
   "source": [
    "display(Markdown('### Last updated: ' + dc.iloc[-1]['DATE'].strftime(\"%B %d, %Y\")))"
   ]
  },
  {
   "cell_type": "code",
   "execution_count": 5,
   "metadata": {
    "execution": {
     "iopub.execute_input": "2020-12-23T22:18:27.820528Z",
     "iopub.status.busy": "2020-12-23T22:18:27.819201Z",
     "iopub.status.idle": "2020-12-23T22:18:27.822036Z",
     "shell.execute_reply": "2020-12-23T22:18:27.822709Z"
    },
    "jupyter": {
     "source_hidden": true
    },
    "papermill": {
     "duration": 0.015286,
     "end_time": "2020-12-23T22:18:27.822859",
     "exception": false,
     "start_time": "2020-12-23T22:18:27.807573",
     "status": "completed"
    },
    "tags": [
     "hide-input"
    ]
   },
   "outputs": [
    {
     "data": {
      "text/markdown": [
       "# Dunn County has 3363 total positive cases, with 36 new cases reported today."
      ],
      "text/plain": [
       "<IPython.core.display.Markdown object>"
      ]
     },
     "metadata": {},
     "output_type": "display_data"
    }
   ],
   "source": [
    "display(Markdown('# Dunn County has ' + str(dc.iloc[-1]['POSITIVE']) + ' total positive cases, with '+ str(int(dc.iloc[-1]['POS_NEW'])) + ' new cases reported today.'))"
   ]
  },
  {
   "cell_type": "code",
   "execution_count": 6,
   "metadata": {
    "execution": {
     "iopub.execute_input": "2020-12-23T22:18:27.842984Z",
     "iopub.status.busy": "2020-12-23T22:18:27.842401Z",
     "iopub.status.idle": "2020-12-23T22:18:28.119872Z",
     "shell.execute_reply": "2020-12-23T22:18:28.120374Z"
    },
    "jupyter": {
     "source_hidden": true
    },
    "papermill": {
     "duration": 0.289595,
     "end_time": "2020-12-23T22:18:28.120575",
     "exception": false,
     "start_time": "2020-12-23T22:18:27.830980",
     "status": "completed"
    },
    "scrolled": false,
    "tags": [
     "hide-input"
    ]
   },
   "outputs": [
    {
     "data": {
      "image/png": "[encoded data removed]",
      "text/plain": [
       "<Figure size 864x432 with 1 Axes>"
      ]
     },
     "metadata": {
      "needs_background": "light"
     },
     "output_type": "display_data"
    }
   ],
   "source": [
    "dc.plot(x='DATE',y='POSITIVE',color='red',grid='True',figsize=(12,6)).set_xlabel('Date');"
   ]
  },
  {
   "cell_type": "markdown",
   "metadata": {
    "papermill": {
     "duration": 0.01026,
     "end_time": "2020-12-23T22:18:28.140316",
     "exception": false,
     "start_time": "2020-12-23T22:18:28.130056",
     "status": "completed"
    },
    "tags": []
   },
   "source": [
    "## Figure 1: Cummulative number of positive cases."
   ]
  },
  {
   "cell_type": "code",
   "execution_count": 7,
   "metadata": {
    "execution": {
     "iopub.execute_input": "2020-12-23T22:18:28.165127Z",
     "iopub.status.busy": "2020-12-23T22:18:28.164497Z",
     "iopub.status.idle": "2020-12-23T22:18:28.427805Z",
     "shell.execute_reply": "2020-12-23T22:18:28.428277Z"
    },
    "jupyter": {
     "source_hidden": true
    },
    "papermill": {
     "duration": 0.278742,
     "end_time": "2020-12-23T22:18:28.428488",
     "exception": false,
     "start_time": "2020-12-23T22:18:28.149746",
     "status": "completed"
    },
    "scrolled": false,
    "tags": [
     "hide-input"
    ]
   },
   "outputs": [
    {
     "data": {
      "image/png": "[encoded data removed]",
      "text/plain": [
       "<Figure size 864x432 with 1 Axes>"
      ]
     },
     "metadata": {
      "needs_background": "light"
     },
     "output_type": "display_data"
    }
   ],
   "source": [
    "dc.plot(kind='line',x='DATE',y='7_DAY',color='blue',grid='True',figsize=(12,6)).set_xlabel('Date');"
   ]
  },
  {
   "cell_type": "markdown",
   "metadata": {
    "papermill": {
     "duration": 0.009915,
     "end_time": "2020-12-23T22:18:28.448927",
     "exception": false,
     "start_time": "2020-12-23T22:18:28.439012",
     "status": "completed"
    },
    "tags": []
   },
   "source": [
    "## Figure 2: Rolling 7-day average of daily new cases."
   ]
  },
  {
   "cell_type": "code",
   "execution_count": 8,
   "metadata": {
    "execution": {
     "iopub.execute_input": "2020-12-23T22:18:28.475147Z",
     "iopub.status.busy": "2020-12-23T22:18:28.474549Z",
     "iopub.status.idle": "2020-12-23T22:18:28.749863Z",
     "shell.execute_reply": "2020-12-23T22:18:28.750360Z"
    },
    "jupyter": {
     "source_hidden": true
    },
    "papermill": {
     "duration": 0.291943,
     "end_time": "2020-12-23T22:18:28.750559",
     "exception": false,
     "start_time": "2020-12-23T22:18:28.458616",
     "status": "completed"
    },
    "tags": []
   },
   "outputs": [
    {
     "data": {
      "image/png": "[encoded data removed]",
      "text/plain": [
       "<Figure size 864x432 with 1 Axes>"
      ]
     },
     "metadata": {
      "needs_background": "light"
     },
     "output_type": "display_data"
    }
   ],
   "source": [
    "dc.plot(kind='line',x='DATE',y='14_DAY',color='green',grid='True',figsize=(12,6)).set_xlabel('Date');"
   ]
  },
  {
   "cell_type": "markdown",
   "metadata": {
    "papermill": {
     "duration": 0.011194,
     "end_time": "2020-12-23T22:18:28.773642",
     "exception": false,
     "start_time": "2020-12-23T22:18:28.762448",
     "status": "completed"
    },
    "tags": []
   },
   "source": [
    "## Figure 3: Rolling 14-day average of daily new cases."
   ]
  },
  {
   "cell_type": "markdown",
   "metadata": {
    "papermill": {
     "duration": 0.011009,
     "end_time": "2020-12-23T22:18:28.795239",
     "exception": false,
     "start_time": "2020-12-23T22:18:28.784230",
     "status": "completed"
    },
    "tags": []
   },
   "source": [
    "Data source: [Wisconsin Department of Health Services](https://data.dhsgis.wi.gov/datasets/covid-19-historical-data-table/)"
   ]
  },
  {
   "cell_type": "code",
   "execution_count": 9,
   "metadata": {
    "execution": {
     "iopub.execute_input": "2020-12-23T22:18:28.822466Z",
     "iopub.status.busy": "2020-12-23T22:18:28.821853Z",
     "iopub.status.idle": "2020-12-23T22:18:28.825140Z",
     "shell.execute_reply": "2020-12-23T22:18:28.824624Z"
    },
    "jupyter": {
     "source_hidden": true
    },
    "papermill": {
     "duration": 0.018872,
     "end_time": "2020-12-23T22:18:28.825283",
     "exception": false,
     "start_time": "2020-12-23T22:18:28.806411",
     "status": "completed"
    },
    "tags": []
   },
   "outputs": [
    {
     "data": {
      "text/html": [
       "<style>\n",
       "div.input {\n",
       "    display:none;\n",
       "}\n",
       "</style>\n"
      ],
      "text/plain": [
       "<IPython.core.display.HTML object>"
      ]
     },
     "metadata": {},
     "output_type": "display_data"
    }
   ],
   "source": [
    "%%html\n",
    "<style>\n",
    "div.input {\n",
    "    display:none;\n",
    "}\n",
    "</style>"
   ]
  }
 ],
 "metadata": {
  "kernelspec": {
   "display_name": "Python 3",
   "language": "python",
   "name": "python3"
  },
  "language_info": {
   "codemirror_mode": {
    "name": "ipython",
    "version": 3
   },
   "file_extension": ".py",
   "mimetype": "text/x-python",
   "name": "python",
   "nbconvert_exporter": "python",
   "pygments_lexer": "ipython3",
   "version": "3.8.6"
  },
  "papermill": {
   "duration": 5.528119,
   "end_time": "2020-12-23T22:18:30.141948",
   "environment_variables": {},
   "exception": null,
   "input_path": "DunnCounty_COVID19.ipynb",
   "output_path": "DunnCounty_COVID19.ipynb",
   "parameters": {
    "Start": "True",
    "secretsPath": "/home/runner/work/_temp/secrets.json"
   },
   "start_time": "2020-12-23T22:18:24.613829",
   "version": "1.1.16"
  }
 },
 "nbformat": 4,
 "nbformat_minor": 2
}