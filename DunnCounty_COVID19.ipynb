{
 "cells": [
  {
   "cell_type": "code",
   "execution_count": 1,
   "metadata": {
    "execution": {
     "iopub.execute_input": "2020-11-07T10:14:32.304870Z",
     "iopub.status.busy": "2020-11-07T10:14:32.304252Z",
     "iopub.status.idle": "2020-11-07T10:14:33.797423Z",
     "shell.execute_reply": "2020-11-07T10:14:33.796132Z"
    },
    "jupyter": {
     "source_hidden": true
    },
    "papermill": {
     "duration": 1.511316,
     "end_time": "2020-11-07T10:14:33.797649",
     "exception": false,
     "start_time": "2020-11-07T10:14:32.286333",
     "status": "completed"
    },
    "scrolled": true,
    "tags": [
     "hide-input"
    ]
   },
   "outputs": [],
   "source": [
    "import pandas as pd\n",
    "import matplotlib.pyplot as plt\n",
    "from matplotlib import dates\n",
    "from IPython.display import display, Markdown\n",
    "%matplotlib inline"
   ]
  },
  {
   "cell_type": "code",
   "execution_count": 2,
   "metadata": {
    "execution": {
     "iopub.execute_input": "2020-11-07T10:14:33.819567Z",
     "iopub.status.busy": "2020-11-07T10:14:33.818964Z",
     "iopub.status.idle": "2020-11-07T10:14:34.398247Z",
     "shell.execute_reply": "2020-11-07T10:14:34.397675Z"
    },
    "jupyter": {
     "source_hidden": true
    },
    "papermill": {
     "duration": 0.593204,
     "end_time": "2020-11-07T10:14:34.398390",
     "exception": false,
     "start_time": "2020-11-07T10:14:33.805186",
     "status": "completed"
    },
    "scrolled": true,
    "tags": [
     "hide-input"
    ]
   },
   "outputs": [],
   "source": [
    "# This is the data for all of Wisconsin.\n",
    "url = \"https://opendata.arcgis.com/datasets/5374188992374b318d3e2305216ee413_12.csv\"\n",
    "data = pd.read_csv(url, parse_dates=['DATE'], low_memory=False)"
   ]
  },
  {
   "cell_type": "code",
   "execution_count": 3,
   "metadata": {
    "execution": {
     "iopub.execute_input": "2020-11-07T10:14:34.421343Z",
     "iopub.status.busy": "2020-11-07T10:14:34.420699Z",
     "iopub.status.idle": "2020-11-07T10:14:34.430258Z",
     "shell.execute_reply": "2020-11-07T10:14:34.429730Z"
    },
    "jupyter": {
     "source_hidden": true
    },
    "papermill": {
     "duration": 0.024409,
     "end_time": "2020-11-07T10:14:34.430412",
     "exception": false,
     "start_time": "2020-11-07T10:14:34.406003",
     "status": "completed"
    },
    "scrolled": true,
    "tags": [
     "hide-input"
    ]
   },
   "outputs": [],
   "source": [
    "dc = data.groupby('NAME').get_group('Dunn').sort_values(by='DATE') # Select the data for Dunn County from the full data.\n",
    "PNi = dc.columns.get_loc(\"POS_NEW\")\n",
    "dc['7_DAY'] = dc.iloc[:,PNi].rolling(window=7).mean() # Calculates the rolling 7-day average of new cases.\n",
    "dc['14_DAY'] = dc.iloc[:,PNi].rolling(window=14).mean() # Calculates the rolling 14-day average of new cases."
   ]
  },
  {
   "cell_type": "code",
   "execution_count": 4,
   "metadata": {
    "execution": {
     "iopub.execute_input": "2020-11-07T10:14:34.453017Z",
     "iopub.status.busy": "2020-11-07T10:14:34.452429Z",
     "iopub.status.idle": "2020-11-07T10:14:34.455327Z",
     "shell.execute_reply": "2020-11-07T10:14:34.455761Z"
    },
    "jupyter": {
     "source_hidden": true
    },
    "papermill": {
     "duration": 0.018014,
     "end_time": "2020-11-07T10:14:34.455922",
     "exception": false,
     "start_time": "2020-11-07T10:14:34.437908",
     "status": "completed"
    },
    "scrolled": true,
    "tags": [
     "hide-input"
    ]
   },
   "outputs": [
    {
     "data": {
      "text/markdown": [
       "### Last updated: November 06, 2020"
      ],
      "text/plain": [
       "<IPython.core.display.Markdown object>"
      ]
     },
     "metadata": {},
     "output_type": "display_data"
    }
   ],
   "source": [
    "display(Markdown('### Last updated: ' + dc.iloc[-1]['DATE'].strftime(\"%B %d, %Y\")))"
   ]
  },
  {
   "cell_type": "code",
   "execution_count": 5,
   "metadata": {
    "execution": {
     "iopub.execute_input": "2020-11-07T10:14:34.478770Z",
     "iopub.status.busy": "2020-11-07T10:14:34.478157Z",
     "iopub.status.idle": "2020-11-07T10:14:34.480139Z",
     "shell.execute_reply": "2020-11-07T10:14:34.480650Z"
    },
    "jupyter": {
     "source_hidden": true
    },
    "papermill": {
     "duration": 0.017217,
     "end_time": "2020-11-07T10:14:34.480809",
     "exception": false,
     "start_time": "2020-11-07T10:14:34.463592",
     "status": "completed"
    },
    "tags": [
     "hide-input"
    ]
   },
   "outputs": [
    {
     "data": {
      "text/markdown": [
       "# Dunn County has 1500 total positive cases, with 61 new cases reported today."
      ],
      "text/plain": [
       "<IPython.core.display.Markdown object>"
      ]
     },
     "metadata": {},
     "output_type": "display_data"
    }
   ],
   "source": [
    "display(Markdown('# Dunn County has ' + str(dc.iloc[-1]['POSITIVE']) + ' total positive cases, with '+ str(int(dc.iloc[-1]['POS_NEW'])) + ' new cases reported today.'))"
   ]
  },
  {
   "cell_type": "code",
   "execution_count": 6,
   "metadata": {
    "execution": {
     "iopub.execute_input": "2020-11-07T10:14:34.502343Z",
     "iopub.status.busy": "2020-11-07T10:14:34.501801Z",
     "iopub.status.idle": "2020-11-07T10:14:34.740215Z",
     "shell.execute_reply": "2020-11-07T10:14:34.739718Z"
    },
    "jupyter": {
     "source_hidden": true
    },
    "papermill": {
     "duration": 0.251672,
     "end_time": "2020-11-07T10:14:34.740352",
     "exception": false,
     "start_time": "2020-11-07T10:14:34.488680",
     "status": "completed"
    },
    "scrolled": false,
    "tags": [
     "hide-input"
    ]
   },
   "outputs": [
    {
     "data": {
      "image/png": "[encoded data removed]",
      "text/plain": [
       "<Figure size 864x432 with 1 Axes>"
      ]
     },
     "metadata": {
      "needs_background": "light"
     },
     "output_type": "display_data"
    }
   ],
   "source": [
    "dc.plot(x='DATE',y='POSITIVE',color='red',grid='True',figsize=(12,6)).set_xlabel('Date');"
   ]
  },
  {
   "cell_type": "markdown",
   "metadata": {
    "papermill": {
     "duration": 0.008582,
     "end_time": "2020-11-07T10:14:34.757882",
     "exception": false,
     "start_time": "2020-11-07T10:14:34.749300",
     "status": "completed"
    },
    "tags": []
   },
   "source": [
    "## Figure 1: Cummulative number of positive cases."
   ]
  },
  {
   "cell_type": "code",
   "execution_count": 7,
   "metadata": {
    "execution": {
     "iopub.execute_input": "2020-11-07T10:14:34.803513Z",
     "iopub.status.busy": "2020-11-07T10:14:34.781806Z",
     "iopub.status.idle": "2020-11-07T10:14:34.997007Z",
     "shell.execute_reply": "2020-11-07T10:14:34.996498Z"
    },
    "jupyter": {
     "source_hidden": true
    },
    "papermill": {
     "duration": 0.230538,
     "end_time": "2020-11-07T10:14:34.997146",
     "exception": false,
     "start_time": "2020-11-07T10:14:34.766608",
     "status": "completed"
    },
    "scrolled": false,
    "tags": [
     "hide-input"
    ]
   },
   "outputs": [
    {
     "data": {
      "image/png": "[encoded data removed]",
      "text/plain": [
       "<Figure size 864x432 with 1 Axes>"
      ]
     },
     "metadata": {
      "needs_background": "light"
     },
     "output_type": "display_data"
    }
   ],
   "source": [
    "dc.plot(kind='line',x='DATE',y='7_DAY',color='blue',grid='True',figsize=(12,6)).set_xlabel('Date');"
   ]
  },
  {
   "cell_type": "markdown",
   "metadata": {
    "papermill": {
     "duration": 0.010137,
     "end_time": "2020-11-07T10:14:35.017215",
     "exception": false,
     "start_time": "2020-11-07T10:14:35.007078",
     "status": "completed"
    },
    "tags": []
   },
   "source": [
    "## Figure 2: Rolling 7-day average of daily new cases."
   ]
  },
  {
   "cell_type": "code",
   "execution_count": 8,
   "metadata": {
    "execution": {
     "iopub.execute_input": "2020-11-07T10:14:35.069975Z",
     "iopub.status.busy": "2020-11-07T10:14:35.042850Z",
     "iopub.status.idle": "2020-11-07T10:14:35.265849Z",
     "shell.execute_reply": "2020-11-07T10:14:35.266288Z"
    },
    "jupyter": {
     "source_hidden": true
    },
    "papermill": {
     "duration": 0.239435,
     "end_time": "2020-11-07T10:14:35.266468",
     "exception": false,
     "start_time": "2020-11-07T10:14:35.027033",
     "status": "completed"
    },
    "tags": []
   },
   "outputs": [
    {
     "data": {
      "image/png": "[encoded data removed]",
      "text/plain": [
       "<Figure size 864x432 with 1 Axes>"
      ]
     },
     "metadata": {
      "needs_background": "light"
     },
     "output_type": "display_data"
    }
   ],
   "source": [
    "dc.plot(kind='line',x='DATE',y='14_DAY',color='green',grid='True',figsize=(12,6)).set_xlabel('Date');"
   ]
  },
  {
   "cell_type": "markdown",
   "metadata": {
    "papermill": {
     "duration": 0.010739,
     "end_time": "2020-11-07T10:14:35.288186",
     "exception": false,
     "start_time": "2020-11-07T10:14:35.277447",
     "status": "completed"
    },
    "tags": []
   },
   "source": [
    "## Figure 3: Rolling 14-day average of daily new cases."
   ]
  },
  {
   "cell_type": "markdown",
   "metadata": {
    "papermill": {
     "duration": 0.010401,
     "end_time": "2020-11-07T10:14:35.309186",
     "exception": false,
     "start_time": "2020-11-07T10:14:35.298785",
     "status": "completed"
    },
    "tags": []
   },
   "source": [
    "Data source: [Wisconsin Department of Health Services](https://data.dhsgis.wi.gov/datasets/covid-19-historical-data-table/)"
   ]
  },
  {
   "cell_type": "code",
   "execution_count": 9,
   "metadata": {
    "execution": {
     "iopub.execute_input": "2020-11-07T10:14:35.336341Z",
     "iopub.status.busy": "2020-11-07T10:14:35.335577Z",
     "iopub.status.idle": "2020-11-07T10:14:35.338395Z",
     "shell.execute_reply": "2020-11-07T10:14:35.338864Z"
    },
    "jupyter": {
     "source_hidden": true
    },
    "papermill": {
     "duration": 0.019324,
     "end_time": "2020-11-07T10:14:35.339029",
     "exception": false,
     "start_time": "2020-11-07T10:14:35.319705",
     "status": "completed"
    },
    "tags": []
   },
   "outputs": [
    {
     "data": {
      "text/html": [
       "<style>\n",
       "div.input {\n",
       "    display:none;\n",
       "}\n",
       "</style>\n"
      ],
      "text/plain": [
       "<IPython.core.display.HTML object>"
      ]
     },
     "metadata": {},
     "output_type": "display_data"
    }
   ],
   "source": [
    "%%html\n",
    "<style>\n",
    "div.input {\n",
    "    display:none;\n",
    "}\n",
    "</style>"
   ]
  }
 ],
 "metadata": {
  "kernelspec": {
   "display_name": "Python 3",
   "language": "python",
   "name": "python3"
  },
  "language_info": {
   "codemirror_mode": {
    "name": "ipython",
    "version": 3
   },
   "file_extension": ".py",
   "mimetype": "text/x-python",
   "name": "python",
   "nbconvert_exporter": "python",
   "pygments_lexer": "ipython3",
   "version": "3.8.6"
  },
  "papermill": {
   "duration": 6.140492,
   "end_time": "2020-11-07T10:14:36.522865",
   "environment_variables": {},
   "exception": null,
   "input_path": "DunnCounty_COVID19.ipynb",
   "output_path": "DunnCounty_COVID19.ipynb",
   "parameters": {
    "Start": "True",
    "secretsPath": "/home/runner/work/_temp/secrets.json"
   },
   "start_time": "2020-11-07T10:14:30.382373",
   "version": "1.1.16"
  }
 },
 "nbformat": 4,
 "nbformat_minor": 2
}