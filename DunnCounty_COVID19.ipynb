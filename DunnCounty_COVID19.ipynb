{
 "cells": [
  {
   "cell_type": "code",
   "execution_count": 1,
   "id": "solar-understanding",
   "metadata": {
    "execution": {
     "iopub.execute_input": "2021-02-18T22:11:46.203381Z",
     "iopub.status.busy": "2021-02-18T22:11:46.202930Z",
     "iopub.status.idle": "2021-02-18T22:11:47.081648Z",
     "shell.execute_reply": "2021-02-18T22:11:47.080700Z"
    },
    "jupyter": {
     "source_hidden": true
    },
    "papermill": {
     "duration": 0.90269,
     "end_time": "2021-02-18T22:11:47.081872",
     "exception": false,
     "start_time": "2021-02-18T22:11:46.179182",
     "status": "completed"
    },
    "scrolled": true,
    "tags": [
     "hide-input"
    ]
   },
   "outputs": [],
   "source": [
    "import pandas as pd\n",
    "import matplotlib.pyplot as plt\n",
    "from matplotlib import dates\n",
    "from IPython.display import display, Markdown\n",
    "%matplotlib inline"
   ]
  },
  {
   "cell_type": "code",
   "execution_count": 2,
   "id": "purple-playlist",
   "metadata": {
    "execution": {
     "iopub.execute_input": "2021-02-18T22:11:47.103773Z",
     "iopub.status.busy": "2021-02-18T22:11:47.103267Z",
     "iopub.status.idle": "2021-02-18T22:11:47.748730Z",
     "shell.execute_reply": "2021-02-18T22:11:47.747705Z"
    },
    "jupyter": {
     "source_hidden": true
    },
    "papermill": {
     "duration": 0.65835,
     "end_time": "2021-02-18T22:11:47.748868",
     "exception": false,
     "start_time": "2021-02-18T22:11:47.090518",
     "status": "completed"
    },
    "scrolled": true,
    "tags": [
     "hide-input"
    ]
   },
   "outputs": [],
   "source": [
    "# This is the data for all of Wisconsin.\n",
    "url = \"https://opendata.arcgis.com/datasets/5374188992374b318d3e2305216ee413_12.csv\"\n",
    "data = pd.read_csv(url, parse_dates=['DATE'], low_memory=False)"
   ]
  },
  {
   "cell_type": "code",
   "execution_count": 3,
   "id": "proprietary-klein",
   "metadata": {
    "execution": {
     "iopub.execute_input": "2021-02-18T22:11:47.768952Z",
     "iopub.status.busy": "2021-02-18T22:11:47.768472Z",
     "iopub.status.idle": "2021-02-18T22:11:47.776420Z",
     "shell.execute_reply": "2021-02-18T22:11:47.775960Z"
    },
    "jupyter": {
     "source_hidden": true
    },
    "papermill": {
     "duration": 0.020521,
     "end_time": "2021-02-18T22:11:47.776532",
     "exception": false,
     "start_time": "2021-02-18T22:11:47.756011",
     "status": "completed"
    },
    "scrolled": true,
    "tags": [
     "hide-input"
    ]
   },
   "outputs": [],
   "source": [
    "dc = data.groupby('NAME').get_group('Dunn').sort_values(by='DATE') # Select the data for Dunn County from the full data.\n",
    "PNi = dc.columns.get_loc(\"POS_NEW\")\n",
    "dc['7_DAY'] = dc.iloc[:,PNi].rolling(window=7).mean() # Calculates the rolling 7-day average of new cases.\n",
    "dc['14_DAY'] = dc.iloc[:,PNi].rolling(window=14).mean() # Calculates the rolling 14-day average of new cases."
   ]
  },
  {
   "cell_type": "code",
   "execution_count": 4,
   "id": "steady-supervision",
   "metadata": {
    "execution": {
     "iopub.execute_input": "2021-02-18T22:11:47.797601Z",
     "iopub.status.busy": "2021-02-18T22:11:47.795473Z",
     "iopub.status.idle": "2021-02-18T22:11:47.800184Z",
     "shell.execute_reply": "2021-02-18T22:11:47.800583Z"
    },
    "jupyter": {
     "source_hidden": true
    },
    "papermill": {
     "duration": 0.016548,
     "end_time": "2021-02-18T22:11:47.800710",
     "exception": false,
     "start_time": "2021-02-18T22:11:47.784162",
     "status": "completed"
    },
    "scrolled": true,
    "tags": [
     "hide-input"
    ]
   },
   "outputs": [
    {
     "data": {
      "text/markdown": [
       "### Last updated: February 18, 2021"
      ],
      "text/plain": [
       "<IPython.core.display.Markdown object>"
      ]
     },
     "metadata": {},
     "output_type": "display_data"
    }
   ],
   "source": [
    "display(Markdown('### Last updated: ' + dc.iloc[-1]['DATE'].strftime(\"%B %d, %Y\")))"
   ]
  },
  {
   "cell_type": "code",
   "execution_count": 5,
   "id": "lonely-pitch",
   "metadata": {
    "execution": {
     "iopub.execute_input": "2021-02-18T22:11:47.820736Z",
     "iopub.status.busy": "2021-02-18T22:11:47.820247Z",
     "iopub.status.idle": "2021-02-18T22:11:47.822750Z",
     "shell.execute_reply": "2021-02-18T22:11:47.822420Z"
    },
    "jupyter": {
     "source_hidden": true
    },
    "papermill": {
     "duration": 0.014679,
     "end_time": "2021-02-18T22:11:47.822832",
     "exception": false,
     "start_time": "2021-02-18T22:11:47.808153",
     "status": "completed"
    },
    "tags": [
     "hide-input"
    ]
   },
   "outputs": [
    {
     "data": {
      "text/markdown": [
       "# Dunn County has 4205 total positive cases, with 1 new cases reported today."
      ],
      "text/plain": [
       "<IPython.core.display.Markdown object>"
      ]
     },
     "metadata": {},
     "output_type": "display_data"
    }
   ],
   "source": [
    "display(Markdown('# Dunn County has ' + str(dc.iloc[-1]['POSITIVE']) + ' total positive cases, with '+ str(int(dc.iloc[-1]['POS_NEW'])) + ' new cases reported today.'))"
   ]
  },
  {
   "cell_type": "code",
   "execution_count": 6,
   "id": "compound-nightmare",
   "metadata": {
    "execution": {
     "iopub.execute_input": "2021-02-18T22:11:47.842129Z",
     "iopub.status.busy": "2021-02-18T22:11:47.841598Z",
     "iopub.status.idle": "2021-02-18T22:11:48.045343Z",
     "shell.execute_reply": "2021-02-18T22:11:48.045785Z"
    },
    "jupyter": {
     "source_hidden": true
    },
    "papermill": {
     "duration": 0.21519,
     "end_time": "2021-02-18T22:11:48.045915",
     "exception": false,
     "start_time": "2021-02-18T22:11:47.830725",
     "status": "completed"
    },
    "scrolled": false,
    "tags": [
     "hide-input"
    ]
   },
   "outputs": [
    {
     "data": {
      "image/png": "[encoded data removed]",
      "text/plain": [
       "<Figure size 864x432 with 1 Axes>"
      ]
     },
     "metadata": {
      "needs_background": "light"
     },
     "output_type": "display_data"
    }
   ],
   "source": [
    "dc.plot(x='DATE',y='POSITIVE',color='red',grid='True',figsize=(12,6)).set_xlabel('Date');"
   ]
  },
  {
   "cell_type": "markdown",
   "id": "coupled-literacy",
   "metadata": {
    "papermill": {
     "duration": 0.009186,
     "end_time": "2021-02-18T22:11:48.064180",
     "exception": false,
     "start_time": "2021-02-18T22:11:48.054994",
     "status": "completed"
    },
    "tags": []
   },
   "source": [
    "## Figure 1: Cummulative number of positive cases."
   ]
  },
  {
   "cell_type": "code",
   "execution_count": 7,
   "id": "surrounded-reserve",
   "metadata": {
    "execution": {
     "iopub.execute_input": "2021-02-18T22:11:48.098808Z",
     "iopub.status.busy": "2021-02-18T22:11:48.085357Z",
     "iopub.status.idle": "2021-02-18T22:11:48.261714Z",
     "shell.execute_reply": "2021-02-18T22:11:48.261196Z"
    },
    "jupyter": {
     "source_hidden": true
    },
    "papermill": {
     "duration": 0.189374,
     "end_time": "2021-02-18T22:11:48.261817",
     "exception": false,
     "start_time": "2021-02-18T22:11:48.072443",
     "status": "completed"
    },
    "scrolled": false,
    "tags": [
     "hide-input"
    ]
   },
   "outputs": [
    {
     "data": {
      "image/png": "[encoded data removed]",
      "text/plain": [
       "<Figure size 864x432 with 1 Axes>"
      ]
     },
     "metadata": {
      "needs_background": "light"
     },
     "output_type": "display_data"
    }
   ],
   "source": [
    "dc.plot(kind='line',x='DATE',y='7_DAY',color='blue',grid='True',figsize=(12,6)).set_xlabel('Date');"
   ]
  },
  {
   "cell_type": "markdown",
   "id": "professional-savannah",
   "metadata": {
    "papermill": {
     "duration": 0.010008,
     "end_time": "2021-02-18T22:11:48.282467",
     "exception": false,
     "start_time": "2021-02-18T22:11:48.272459",
     "status": "completed"
    },
    "tags": []
   },
   "source": [
    "## Figure 2: Rolling 7-day average of daily new cases."
   ]
  },
  {
   "cell_type": "code",
   "execution_count": 8,
   "id": "stretch-investor",
   "metadata": {
    "execution": {
     "iopub.execute_input": "2021-02-18T22:11:48.304545Z",
     "iopub.status.busy": "2021-02-18T22:11:48.304156Z",
     "iopub.status.idle": "2021-02-18T22:11:48.520629Z",
     "shell.execute_reply": "2021-02-18T22:11:48.519927Z"
    },
    "jupyter": {
     "source_hidden": true
    },
    "papermill": {
     "duration": 0.229754,
     "end_time": "2021-02-18T22:11:48.520745",
     "exception": false,
     "start_time": "2021-02-18T22:11:48.290991",
     "status": "completed"
    },
    "tags": []
   },
   "outputs": [
    {
     "data": {
      "image/png": "[encoded data removed]",
      "text/plain": [
       "<Figure size 864x432 with 1 Axes>"
      ]
     },
     "metadata": {
      "needs_background": "light"
     },
     "output_type": "display_data"
    }
   ],
   "source": [
    "dc.plot(kind='line',x='DATE',y='14_DAY',color='green',grid='True',figsize=(12,6)).set_xlabel('Date');"
   ]
  },
  {
   "cell_type": "markdown",
   "id": "prerequisite-species",
   "metadata": {
    "papermill": {
     "duration": 0.010802,
     "end_time": "2021-02-18T22:11:48.543059",
     "exception": false,
     "start_time": "2021-02-18T22:11:48.532257",
     "status": "completed"
    },
    "tags": []
   },
   "source": [
    "## Figure 3: Rolling 14-day average of daily new cases."
   ]
  },
  {
   "cell_type": "markdown",
   "id": "palestinian-guard",
   "metadata": {
    "papermill": {
     "duration": 0.011305,
     "end_time": "2021-02-18T22:11:48.564187",
     "exception": false,
     "start_time": "2021-02-18T22:11:48.552882",
     "status": "completed"
    },
    "tags": []
   },
   "source": [
    "Data source: [Wisconsin Department of Health Services](https://data.dhsgis.wi.gov/datasets/covid-19-historical-data-table/)"
   ]
  },
  {
   "cell_type": "code",
   "execution_count": 9,
   "id": "proof-medicare",
   "metadata": {
    "execution": {
     "iopub.execute_input": "2021-02-18T22:11:48.590527Z",
     "iopub.status.busy": "2021-02-18T22:11:48.589374Z",
     "iopub.status.idle": "2021-02-18T22:11:48.592781Z",
     "shell.execute_reply": "2021-02-18T22:11:48.592408Z"
    },
    "jupyter": {
     "source_hidden": true
    },
    "papermill": {
     "duration": 0.018839,
     "end_time": "2021-02-18T22:11:48.592869",
     "exception": false,
     "start_time": "2021-02-18T22:11:48.574030",
     "status": "completed"
    },
    "tags": []
   },
   "outputs": [
    {
     "data": {
      "text/html": [
       "<style>\n",
       "div.input {\n",
       "    display:none;\n",
       "}\n",
       "</style>\n"
      ],
      "text/plain": [
       "<IPython.core.display.HTML object>"
      ]
     },
     "metadata": {},
     "output_type": "display_data"
    }
   ],
   "source": [
    "%%html\n",
    "<style>\n",
    "div.input {\n",
    "    display:none;\n",
    "}\n",
    "</style>"
   ]
  }
 ],
 "metadata": {
  "kernelspec": {
   "display_name": "Python 3",
   "language": "python",
   "name": "python3"
  },
  "language_info": {
   "codemirror_mode": {
    "name": "ipython",
    "version": 3
   },
   "file_extension": ".py",
   "mimetype": "text/x-python",
   "name": "python",
   "nbconvert_exporter": "python",
   "pygments_lexer": "ipython3",
   "version": "3.8.7"
  },
  "papermill": {
   "duration": 5.617793,
   "end_time": "2021-02-18T22:11:48.910114",
   "environment_variables": {},
   "exception": null,
   "input_path": "DunnCounty_COVID19.ipynb",
   "output_path": "DunnCounty_COVID19.ipynb",
   "parameters": {
    "Start": "True",
    "secretsPath": "/home/runner/work/_temp/secrets.json"
   },
   "start_time": "2021-02-18T22:11:43.292321",
   "version": "1.1.16"
  }
 },
 "nbformat": 4,
 "nbformat_minor": 5
}