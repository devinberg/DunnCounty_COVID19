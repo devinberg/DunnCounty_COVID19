{
 "cells": [
  {
   "cell_type": "code",
   "execution_count": 1,
   "metadata": {
    "execution": {
     "iopub.execute_input": "2020-12-29T10:21:46.047610Z",
     "iopub.status.busy": "2020-12-29T10:21:46.047042Z",
     "iopub.status.idle": "2020-12-29T10:21:47.199088Z",
     "shell.execute_reply": "2020-12-29T10:21:47.198135Z"
    },
    "jupyter": {
     "source_hidden": true
    },
    "papermill": {
     "duration": 1.177191,
     "end_time": "2020-12-29T10:21:47.199389",
     "exception": false,
     "start_time": "2020-12-29T10:21:46.022198",
     "status": "completed"
    },
    "scrolled": true,
    "tags": [
     "hide-input"
    ]
   },
   "outputs": [],
   "source": [
    "import pandas as pd\n",
    "import matplotlib.pyplot as plt\n",
    "from matplotlib import dates\n",
    "from IPython.display import display, Markdown\n",
    "%matplotlib inline"
   ]
  },
  {
   "cell_type": "code",
   "execution_count": 2,
   "metadata": {
    "execution": {
     "iopub.execute_input": "2020-12-29T10:21:47.220884Z",
     "iopub.status.busy": "2020-12-29T10:21:47.220304Z",
     "iopub.status.idle": "2020-12-29T10:21:48.304542Z",
     "shell.execute_reply": "2020-12-29T10:21:48.303702Z"
    },
    "jupyter": {
     "source_hidden": true
    },
    "papermill": {
     "duration": 1.096945,
     "end_time": "2020-12-29T10:21:48.304796",
     "exception": false,
     "start_time": "2020-12-29T10:21:47.207851",
     "status": "completed"
    },
    "scrolled": true,
    "tags": [
     "hide-input"
    ]
   },
   "outputs": [],
   "source": [
    "# This is the data for all of Wisconsin.\n",
    "url = \"https://opendata.arcgis.com/datasets/5374188992374b318d3e2305216ee413_12.csv\"\n",
    "data = pd.read_csv(url, parse_dates=['DATE'], low_memory=False)"
   ]
  },
  {
   "cell_type": "code",
   "execution_count": 3,
   "metadata": {
    "execution": {
     "iopub.execute_input": "2020-12-29T10:21:48.326055Z",
     "iopub.status.busy": "2020-12-29T10:21:48.325503Z",
     "iopub.status.idle": "2020-12-29T10:21:48.333389Z",
     "shell.execute_reply": "2020-12-29T10:21:48.332965Z"
    },
    "jupyter": {
     "source_hidden": true
    },
    "papermill": {
     "duration": 0.021007,
     "end_time": "2020-12-29T10:21:48.333508",
     "exception": false,
     "start_time": "2020-12-29T10:21:48.312501",
     "status": "completed"
    },
    "scrolled": true,
    "tags": [
     "hide-input"
    ]
   },
   "outputs": [],
   "source": [
    "dc = data.groupby('NAME').get_group('Dunn').sort_values(by='DATE') # Select the data for Dunn County from the full data.\n",
    "PNi = dc.columns.get_loc(\"POS_NEW\")\n",
    "dc['7_DAY'] = dc.iloc[:,PNi].rolling(window=7).mean() # Calculates the rolling 7-day average of new cases.\n",
    "dc['14_DAY'] = dc.iloc[:,PNi].rolling(window=14).mean() # Calculates the rolling 14-day average of new cases."
   ]
  },
  {
   "cell_type": "code",
   "execution_count": 4,
   "metadata": {
    "execution": {
     "iopub.execute_input": "2020-12-29T10:21:48.353426Z",
     "iopub.status.busy": "2020-12-29T10:21:48.352786Z",
     "iopub.status.idle": "2020-12-29T10:21:48.355729Z",
     "shell.execute_reply": "2020-12-29T10:21:48.356159Z"
    },
    "jupyter": {
     "source_hidden": true
    },
    "papermill": {
     "duration": 0.016023,
     "end_time": "2020-12-29T10:21:48.356294",
     "exception": false,
     "start_time": "2020-12-29T10:21:48.340271",
     "status": "completed"
    },
    "scrolled": true,
    "tags": [
     "hide-input"
    ]
   },
   "outputs": [
    {
     "data": {
      "text/markdown": [
       "### Last updated: December 28, 2020"
      ],
      "text/plain": [
       "<IPython.core.display.Markdown object>"
      ]
     },
     "metadata": {},
     "output_type": "display_data"
    }
   ],
   "source": [
    "display(Markdown('### Last updated: ' + dc.iloc[-1]['DATE'].strftime(\"%B %d, %Y\")))"
   ]
  },
  {
   "cell_type": "code",
   "execution_count": 5,
   "metadata": {
    "execution": {
     "iopub.execute_input": "2020-12-29T10:21:48.375865Z",
     "iopub.status.busy": "2020-12-29T10:21:48.375324Z",
     "iopub.status.idle": "2020-12-29T10:21:48.378386Z",
     "shell.execute_reply": "2020-12-29T10:21:48.377922Z"
    },
    "jupyter": {
     "source_hidden": true
    },
    "papermill": {
     "duration": 0.014712,
     "end_time": "2020-12-29T10:21:48.378503",
     "exception": false,
     "start_time": "2020-12-29T10:21:48.363791",
     "status": "completed"
    },
    "tags": [
     "hide-input"
    ]
   },
   "outputs": [
    {
     "data": {
      "text/markdown": [
       "# Dunn County has 3439 total positive cases, with 13 new cases reported today."
      ],
      "text/plain": [
       "<IPython.core.display.Markdown object>"
      ]
     },
     "metadata": {},
     "output_type": "display_data"
    }
   ],
   "source": [
    "display(Markdown('# Dunn County has ' + str(dc.iloc[-1]['POSITIVE']) + ' total positive cases, with '+ str(int(dc.iloc[-1]['POS_NEW'])) + ' new cases reported today.'))"
   ]
  },
  {
   "cell_type": "code",
   "execution_count": 6,
   "metadata": {
    "execution": {
     "iopub.execute_input": "2020-12-29T10:21:48.398041Z",
     "iopub.status.busy": "2020-12-29T10:21:48.397507Z",
     "iopub.status.idle": "2020-12-29T10:21:48.638805Z",
     "shell.execute_reply": "2020-12-29T10:21:48.639569Z"
    },
    "jupyter": {
     "source_hidden": true
    },
    "papermill": {
     "duration": 0.253508,
     "end_time": "2020-12-29T10:21:48.639819",
     "exception": false,
     "start_time": "2020-12-29T10:21:48.386311",
     "status": "completed"
    },
    "scrolled": false,
    "tags": [
     "hide-input"
    ]
   },
   "outputs": [
    {
     "data": {
      "image/png": "[encoded data removed]",
      "text/plain": [
       "<Figure size 864x432 with 1 Axes>"
      ]
     },
     "metadata": {
      "needs_background": "light"
     },
     "output_type": "display_data"
    }
   ],
   "source": [
    "dc.plot(x='DATE',y='POSITIVE',color='red',grid='True',figsize=(12,6)).set_xlabel('Date');"
   ]
  },
  {
   "cell_type": "markdown",
   "metadata": {
    "papermill": {
     "duration": 0.009148,
     "end_time": "2020-12-29T10:21:48.658043",
     "exception": false,
     "start_time": "2020-12-29T10:21:48.648895",
     "status": "completed"
    },
    "tags": []
   },
   "source": [
    "## Figure 1: Cummulative number of positive cases."
   ]
  },
  {
   "cell_type": "code",
   "execution_count": 7,
   "metadata": {
    "execution": {
     "iopub.execute_input": "2020-12-29T10:21:48.681671Z",
     "iopub.status.busy": "2020-12-29T10:21:48.681102Z",
     "iopub.status.idle": "2020-12-29T10:21:48.904956Z",
     "shell.execute_reply": "2020-12-29T10:21:48.904430Z"
    },
    "jupyter": {
     "source_hidden": true
    },
    "papermill": {
     "duration": 0.23833,
     "end_time": "2020-12-29T10:21:48.905096",
     "exception": false,
     "start_time": "2020-12-29T10:21:48.666766",
     "status": "completed"
    },
    "scrolled": false,
    "tags": [
     "hide-input"
    ]
   },
   "outputs": [
    {
     "data": {
      "image/png": "[encoded data removed]",
      "text/plain": [
       "<Figure size 864x432 with 1 Axes>"
      ]
     },
     "metadata": {
      "needs_background": "light"
     },
     "output_type": "display_data"
    }
   ],
   "source": [
    "dc.plot(kind='line',x='DATE',y='7_DAY',color='blue',grid='True',figsize=(12,6)).set_xlabel('Date');"
   ]
  },
  {
   "cell_type": "markdown",
   "metadata": {
    "papermill": {
     "duration": 0.010136,
     "end_time": "2020-12-29T10:21:48.925198",
     "exception": false,
     "start_time": "2020-12-29T10:21:48.915062",
     "status": "completed"
    },
    "tags": []
   },
   "source": [
    "## Figure 2: Rolling 7-day average of daily new cases."
   ]
  },
  {
   "cell_type": "code",
   "execution_count": 8,
   "metadata": {
    "execution": {
     "iopub.execute_input": "2020-12-29T10:21:48.950779Z",
     "iopub.status.busy": "2020-12-29T10:21:48.950243Z",
     "iopub.status.idle": "2020-12-29T10:21:49.174915Z",
     "shell.execute_reply": "2020-12-29T10:21:49.175682Z"
    },
    "jupyter": {
     "source_hidden": true
    },
    "papermill": {
     "duration": 0.241077,
     "end_time": "2020-12-29T10:21:49.175929",
     "exception": false,
     "start_time": "2020-12-29T10:21:48.934852",
     "status": "completed"
    },
    "tags": []
   },
   "outputs": [
    {
     "data": {
      "image/png": "[encoded data removed]",
      "text/plain": [
       "<Figure size 864x432 with 1 Axes>"
      ]
     },
     "metadata": {
      "needs_background": "light"
     },
     "output_type": "display_data"
    }
   ],
   "source": [
    "dc.plot(kind='line',x='DATE',y='14_DAY',color='green',grid='True',figsize=(12,6)).set_xlabel('Date');"
   ]
  },
  {
   "cell_type": "markdown",
   "metadata": {
    "papermill": {
     "duration": 0.011003,
     "end_time": "2020-12-29T10:21:49.198268",
     "exception": false,
     "start_time": "2020-12-29T10:21:49.187265",
     "status": "completed"
    },
    "tags": []
   },
   "source": [
    "## Figure 3: Rolling 14-day average of daily new cases."
   ]
  },
  {
   "cell_type": "markdown",
   "metadata": {
    "papermill": {
     "duration": 0.01063,
     "end_time": "2020-12-29T10:21:49.219622",
     "exception": false,
     "start_time": "2020-12-29T10:21:49.208992",
     "status": "completed"
    },
    "tags": []
   },
   "source": [
    "Data source: [Wisconsin Department of Health Services](https://data.dhsgis.wi.gov/datasets/covid-19-historical-data-table/)"
   ]
  },
  {
   "cell_type": "code",
   "execution_count": 9,
   "metadata": {
    "execution": {
     "iopub.execute_input": "2020-12-29T10:21:49.246730Z",
     "iopub.status.busy": "2020-12-29T10:21:49.246187Z",
     "iopub.status.idle": "2020-12-29T10:21:49.250252Z",
     "shell.execute_reply": "2020-12-29T10:21:49.249786Z"
    },
    "jupyter": {
     "source_hidden": true
    },
    "papermill": {
     "duration": 0.020032,
     "end_time": "2020-12-29T10:21:49.250372",
     "exception": false,
     "start_time": "2020-12-29T10:21:49.230340",
     "status": "completed"
    },
    "tags": []
   },
   "outputs": [
    {
     "data": {
      "text/html": [
       "<style>\n",
       "div.input {\n",
       "    display:none;\n",
       "}\n",
       "</style>\n"
      ],
      "text/plain": [
       "<IPython.core.display.HTML object>"
      ]
     },
     "metadata": {},
     "output_type": "display_data"
    }
   ],
   "source": [
    "%%html\n",
    "<style>\n",
    "div.input {\n",
    "    display:none;\n",
    "}\n",
    "</style>"
   ]
  }
 ],
 "metadata": {
  "kernelspec": {
   "display_name": "Python 3",
   "language": "python",
   "name": "python3"
  },
  "language_info": {
   "codemirror_mode": {
    "name": "ipython",
    "version": 3
   },
   "file_extension": ".py",
   "mimetype": "text/x-python",
   "name": "python",
   "nbconvert_exporter": "python",
   "pygments_lexer": "ipython3",
   "version": "3.8.6"
  },
  "papermill": {
   "duration": 4.995693,
   "end_time": "2020-12-29T10:21:49.568558",
   "environment_variables": {},
   "exception": null,
   "input_path": "DunnCounty_COVID19.ipynb",
   "output_path": "DunnCounty_COVID19.ipynb",
   "parameters": {
    "Start": "True",
    "secretsPath": "/home/runner/work/_temp/secrets.json"
   },
   "start_time": "2020-12-29T10:21:44.572865",
   "version": "1.1.16"
  }
 },
 "nbformat": 4,
 "nbformat_minor": 2
}