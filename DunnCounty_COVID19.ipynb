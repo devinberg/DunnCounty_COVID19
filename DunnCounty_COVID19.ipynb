{
 "cells": [
  {
   "cell_type": "code",
   "execution_count": 1,
   "id": "solar-understanding",
   "metadata": {
    "execution": {
     "iopub.execute_input": "2021-04-21T22:18:57.548295Z",
     "iopub.status.busy": "2021-04-21T22:18:57.547681Z",
     "iopub.status.idle": "2021-04-21T22:18:59.504502Z",
     "shell.execute_reply": "2021-04-21T22:18:59.503918Z"
    },
    "jupyter": {
     "source_hidden": true
    },
    "papermill": {
     "duration": 1.975002,
     "end_time": "2021-04-21T22:18:59.504645",
     "exception": false,
     "start_time": "2021-04-21T22:18:57.529643",
     "status": "completed"
    },
    "scrolled": true,
    "tags": [
     "hide-input"
    ]
   },
   "outputs": [],
   "source": [
    "import pandas as pd\n",
    "import matplotlib.pyplot as plt\n",
    "from matplotlib import dates\n",
    "from IPython.display import display, Markdown\n",
    "%matplotlib inline"
   ]
  },
  {
   "cell_type": "code",
   "execution_count": 2,
   "id": "purple-playlist",
   "metadata": {
    "execution": {
     "iopub.execute_input": "2021-04-21T22:18:59.528095Z",
     "iopub.status.busy": "2021-04-21T22:18:59.527573Z",
     "iopub.status.idle": "2021-04-21T22:19:00.461501Z",
     "shell.execute_reply": "2021-04-21T22:19:00.460872Z"
    },
    "jupyter": {
     "source_hidden": true
    },
    "papermill": {
     "duration": 0.947783,
     "end_time": "2021-04-21T22:19:00.461644",
     "exception": false,
     "start_time": "2021-04-21T22:18:59.513861",
     "status": "completed"
    },
    "scrolled": true,
    "tags": [
     "hide-input"
    ]
   },
   "outputs": [],
   "source": [
    "# This is the data for all of Wisconsin.\n",
    "url = \"https://opendata.arcgis.com/datasets/0b7bac0afc464e7783474cb62272d9b8_12.csv\"\n",
    "data = pd.read_csv(url, parse_dates=['DATE'], low_memory=False)"
   ]
  },
  {
   "cell_type": "code",
   "execution_count": 3,
   "id": "proprietary-klein",
   "metadata": {
    "execution": {
     "iopub.execute_input": "2021-04-21T22:19:00.488451Z",
     "iopub.status.busy": "2021-04-21T22:19:00.487872Z",
     "iopub.status.idle": "2021-04-21T22:19:00.497003Z",
     "shell.execute_reply": "2021-04-21T22:19:00.496499Z"
    },
    "jupyter": {
     "source_hidden": true
    },
    "papermill": {
     "duration": 0.024636,
     "end_time": "2021-04-21T22:19:00.497110",
     "exception": false,
     "start_time": "2021-04-21T22:19:00.472474",
     "status": "completed"
    },
    "scrolled": true,
    "tags": [
     "hide-input"
    ]
   },
   "outputs": [],
   "source": [
    "dc = data.groupby('NAME').get_group('Dunn').sort_values(by='DATE') # Select the data for Dunn County from the full data.\n",
    "PNi = dc.columns.get_loc(\"POS_NEW\")\n",
    "dc['7_DAY'] = dc.iloc[:,PNi].rolling(window=7).mean() # Calculates the rolling 7-day average of new cases.\n",
    "dc['14_DAY'] = dc.iloc[:,PNi].rolling(window=14).mean() # Calculates the rolling 14-day average of new cases."
   ]
  },
  {
   "cell_type": "code",
   "execution_count": 4,
   "id": "steady-supervision",
   "metadata": {
    "execution": {
     "iopub.execute_input": "2021-04-21T22:19:00.519831Z",
     "iopub.status.busy": "2021-04-21T22:19:00.519313Z",
     "iopub.status.idle": "2021-04-21T22:19:00.524884Z",
     "shell.execute_reply": "2021-04-21T22:19:00.524406Z"
    },
    "jupyter": {
     "source_hidden": true
    },
    "papermill": {
     "duration": 0.019441,
     "end_time": "2021-04-21T22:19:00.524988",
     "exception": false,
     "start_time": "2021-04-21T22:19:00.505547",
     "status": "completed"
    },
    "scrolled": true,
    "tags": [
     "hide-input"
    ]
   },
   "outputs": [
    {
     "data": {
      "text/markdown": [
       "### Last updated: April 21, 2021"
      ],
      "text/plain": [
       "<IPython.core.display.Markdown object>"
      ]
     },
     "metadata": {},
     "output_type": "display_data"
    }
   ],
   "source": [
    "display(Markdown('### Last updated: ' + dc.iloc[-1]['DATE'].strftime(\"%B %d, %Y\")))"
   ]
  },
  {
   "cell_type": "code",
   "execution_count": 5,
   "id": "lonely-pitch",
   "metadata": {
    "execution": {
     "iopub.execute_input": "2021-04-21T22:19:00.547077Z",
     "iopub.status.busy": "2021-04-21T22:19:00.546550Z",
     "iopub.status.idle": "2021-04-21T22:19:00.551962Z",
     "shell.execute_reply": "2021-04-21T22:19:00.551444Z"
    },
    "jupyter": {
     "source_hidden": true
    },
    "papermill": {
     "duration": 0.018628,
     "end_time": "2021-04-21T22:19:00.552219",
     "exception": false,
     "start_time": "2021-04-21T22:19:00.533591",
     "status": "completed"
    },
    "tags": [
     "hide-input"
    ]
   },
   "outputs": [
    {
     "data": {
      "text/markdown": [
       "# Dunn County has 4569 total positive cases, with 15 new cases reported today."
      ],
      "text/plain": [
       "<IPython.core.display.Markdown object>"
      ]
     },
     "metadata": {},
     "output_type": "display_data"
    }
   ],
   "source": [
    "display(Markdown('# Dunn County has ' + str(dc.iloc[-1]['POSITIVE']) + ' total positive cases, with '+ str(int(dc.iloc[-1]['POS_NEW'])) + ' new cases reported today.'))"
   ]
  },
  {
   "cell_type": "code",
   "execution_count": 6,
   "id": "compound-nightmare",
   "metadata": {
    "execution": {
     "iopub.execute_input": "2021-04-21T22:19:00.575081Z",
     "iopub.status.busy": "2021-04-21T22:19:00.574460Z",
     "iopub.status.idle": "2021-04-21T22:19:00.838817Z",
     "shell.execute_reply": "2021-04-21T22:19:00.839277Z"
    },
    "jupyter": {
     "source_hidden": true
    },
    "papermill": {
     "duration": 0.278135,
     "end_time": "2021-04-21T22:19:00.839448",
     "exception": false,
     "start_time": "2021-04-21T22:19:00.561313",
     "status": "completed"
    },
    "scrolled": false,
    "tags": [
     "hide-input"
    ]
   },
   "outputs": [
    {
     "data": {
      "image/png": "[encoded data removed]",
      "text/plain": [
       "<Figure size 864x432 with 1 Axes>"
      ]
     },
     "metadata": {
      "needs_background": "light"
     },
     "output_type": "display_data"
    }
   ],
   "source": [
    "dc.plot(x='DATE',y='POSITIVE',color='red',grid='True',figsize=(12,6)).set_xlabel('Date');"
   ]
  },
  {
   "cell_type": "markdown",
   "id": "coupled-literacy",
   "metadata": {
    "papermill": {
     "duration": 0.012573,
     "end_time": "2021-04-21T22:19:00.863882",
     "exception": false,
     "start_time": "2021-04-21T22:19:00.851309",
     "status": "completed"
    },
    "tags": []
   },
   "source": [
    "## Figure 1: Cummulative number of positive cases."
   ]
  },
  {
   "cell_type": "code",
   "execution_count": 7,
   "id": "surrounded-reserve",
   "metadata": {
    "execution": {
     "iopub.execute_input": "2021-04-21T22:19:00.890579Z",
     "iopub.status.busy": "2021-04-21T22:19:00.889962Z",
     "iopub.status.idle": "2021-04-21T22:19:01.098815Z",
     "shell.execute_reply": "2021-04-21T22:19:01.099213Z"
    },
    "jupyter": {
     "source_hidden": true
    },
    "papermill": {
     "duration": 0.223974,
     "end_time": "2021-04-21T22:19:01.099364",
     "exception": false,
     "start_time": "2021-04-21T22:19:00.875390",
     "status": "completed"
    },
    "scrolled": false,
    "tags": [
     "hide-input"
    ]
   },
   "outputs": [
    {
     "data": {
      "image/png": "[encoded data removed]",
      "text/plain": [
       "<Figure size 864x432 with 1 Axes>"
      ]
     },
     "metadata": {
      "needs_background": "light"
     },
     "output_type": "display_data"
    }
   ],
   "source": [
    "dc.plot(kind='line',x='DATE',y='7_DAY',color='blue',grid='True',figsize=(12,6)).set_xlabel('Date');"
   ]
  },
  {
   "cell_type": "markdown",
   "id": "professional-savannah",
   "metadata": {
    "papermill": {
     "duration": 0.012536,
     "end_time": "2021-04-21T22:19:01.127521",
     "exception": false,
     "start_time": "2021-04-21T22:19:01.114985",
     "status": "completed"
    },
    "tags": []
   },
   "source": [
    "## Figure 2: Rolling 7-day average of daily new cases."
   ]
  },
  {
   "cell_type": "code",
   "execution_count": 8,
   "id": "stretch-investor",
   "metadata": {
    "execution": {
     "iopub.execute_input": "2021-04-21T22:19:01.154542Z",
     "iopub.status.busy": "2021-04-21T22:19:01.154010Z",
     "iopub.status.idle": "2021-04-21T22:19:01.358749Z",
     "shell.execute_reply": "2021-04-21T22:19:01.359171Z"
    },
    "jupyter": {
     "source_hidden": true
    },
    "papermill": {
     "duration": 0.220909,
     "end_time": "2021-04-21T22:19:01.359448",
     "exception": false,
     "start_time": "2021-04-21T22:19:01.138539",
     "status": "completed"
    },
    "tags": []
   },
   "outputs": [
    {
     "data": {
      "image/png": "[encoded data removed]",
      "text/plain": [
       "<Figure size 864x432 with 1 Axes>"
      ]
     },
     "metadata": {
      "needs_background": "light"
     },
     "output_type": "display_data"
    }
   ],
   "source": [
    "dc.plot(kind='line',x='DATE',y='14_DAY',color='green',grid='True',figsize=(12,6)).set_xlabel('Date');"
   ]
  },
  {
   "cell_type": "markdown",
   "id": "prerequisite-species",
   "metadata": {
    "papermill": {
     "duration": 0.012585,
     "end_time": "2021-04-21T22:19:01.386892",
     "exception": false,
     "start_time": "2021-04-21T22:19:01.374307",
     "status": "completed"
    },
    "tags": []
   },
   "source": [
    "## Figure 3: Rolling 14-day average of daily new cases."
   ]
  },
  {
   "cell_type": "markdown",
   "id": "palestinian-guard",
   "metadata": {
    "papermill": {
     "duration": 0.01231,
     "end_time": "2021-04-21T22:19:01.411593",
     "exception": false,
     "start_time": "2021-04-21T22:19:01.399283",
     "status": "completed"
    },
    "tags": []
   },
   "source": [
    "Data source: [Wisconsin Department of Health Services](https://data.dhsgis.wi.gov/datasets/covid-19-historical-data-by-county)"
   ]
  },
  {
   "cell_type": "code",
   "execution_count": 9,
   "id": "proof-medicare",
   "metadata": {
    "execution": {
     "iopub.execute_input": "2021-04-21T22:19:01.441791Z",
     "iopub.status.busy": "2021-04-21T22:19:01.441222Z",
     "iopub.status.idle": "2021-04-21T22:19:01.443937Z",
     "shell.execute_reply": "2021-04-21T22:19:01.443419Z"
    },
    "jupyter": {
     "source_hidden": true
    },
    "papermill": {
     "duration": 0.019802,
     "end_time": "2021-04-21T22:19:01.444046",
     "exception": false,
     "start_time": "2021-04-21T22:19:01.424244",
     "status": "completed"
    },
    "tags": []
   },
   "outputs": [
    {
     "data": {
      "text/html": [
       "<style>\n",
       "div.input {\n",
       "    display:none;\n",
       "}\n",
       "</style>\n"
      ],
      "text/plain": [
       "<IPython.core.display.HTML object>"
      ]
     },
     "metadata": {},
     "output_type": "display_data"
    }
   ],
   "source": [
    "%%html\n",
    "<style>\n",
    "div.input {\n",
    "    display:none;\n",
    "}\n",
    "</style>"
   ]
  }
 ],
 "metadata": {
  "kernelspec": {
   "display_name": "Python 3",
   "language": "python",
   "name": "python3"
  },
  "language_info": {
   "codemirror_mode": {
    "name": "ipython",
    "version": 3
   },
   "file_extension": ".py",
   "mimetype": "text/x-python",
   "name": "python",
   "nbconvert_exporter": "python",
   "pygments_lexer": "ipython3",
   "version": "3.8.9"
  },
  "papermill": {
   "duration": 5.86871,
   "end_time": "2021-04-21T22:19:01.762600",
   "environment_variables": {},
   "exception": null,
   "input_path": "DunnCounty_COVID19.ipynb",
   "output_path": "DunnCounty_COVID19.ipynb",
   "parameters": {
    "Start": "True",
    "secretsPath": "/home/runner/work/_temp/secrets.json"
   },
   "start_time": "2021-04-21T22:18:55.893890",
   "version": "1.1.16"
  }
 },
 "nbformat": 4,
 "nbformat_minor": 5
}