{
 "cells": [
  {
   "cell_type": "code",
   "execution_count": 1,
   "id": "solar-understanding",
   "metadata": {
    "execution": {
     "iopub.execute_input": "2021-01-25T10:46:51.407016Z",
     "iopub.status.busy": "2021-01-25T10:46:51.406038Z",
     "iopub.status.idle": "2021-01-25T10:46:52.581950Z",
     "shell.execute_reply": "2021-01-25T10:46:52.581171Z"
    },
    "jupyter": {
     "source_hidden": true
    },
    "papermill": {
     "duration": 1.195843,
     "end_time": "2021-01-25T10:46:52.582193",
     "exception": false,
     "start_time": "2021-01-25T10:46:51.386350",
     "status": "completed"
    },
    "scrolled": true,
    "tags": [
     "hide-input"
    ]
   },
   "outputs": [],
   "source": [
    "import pandas as pd\n",
    "import matplotlib.pyplot as plt\n",
    "from matplotlib import dates\n",
    "from IPython.display import display, Markdown\n",
    "%matplotlib inline"
   ]
  },
  {
   "cell_type": "code",
   "execution_count": 2,
   "id": "purple-playlist",
   "metadata": {
    "execution": {
     "iopub.execute_input": "2021-01-25T10:46:52.607583Z",
     "iopub.status.busy": "2021-01-25T10:46:52.607028Z",
     "iopub.status.idle": "2021-01-25T10:46:53.758853Z",
     "shell.execute_reply": "2021-01-25T10:46:53.757857Z"
    },
    "jupyter": {
     "source_hidden": true
    },
    "papermill": {
     "duration": 1.166457,
     "end_time": "2021-01-25T10:46:53.758996",
     "exception": false,
     "start_time": "2021-01-25T10:46:52.592539",
     "status": "completed"
    },
    "scrolled": true,
    "tags": [
     "hide-input"
    ]
   },
   "outputs": [],
   "source": [
    "# This is the data for all of Wisconsin.\n",
    "url = \"https://opendata.arcgis.com/datasets/5374188992374b318d3e2305216ee413_12.csv\"\n",
    "data = pd.read_csv(url, parse_dates=['DATE'], low_memory=False)"
   ]
  },
  {
   "cell_type": "code",
   "execution_count": 3,
   "id": "proprietary-klein",
   "metadata": {
    "execution": {
     "iopub.execute_input": "2021-01-25T10:46:53.782940Z",
     "iopub.status.busy": "2021-01-25T10:46:53.782394Z",
     "iopub.status.idle": "2021-01-25T10:46:53.790411Z",
     "shell.execute_reply": "2021-01-25T10:46:53.789912Z"
    },
    "jupyter": {
     "source_hidden": true
    },
    "papermill": {
     "duration": 0.022606,
     "end_time": "2021-01-25T10:46:53.790531",
     "exception": false,
     "start_time": "2021-01-25T10:46:53.767925",
     "status": "completed"
    },
    "scrolled": true,
    "tags": [
     "hide-input"
    ]
   },
   "outputs": [],
   "source": [
    "dc = data.groupby('NAME').get_group('Dunn').sort_values(by='DATE') # Select the data for Dunn County from the full data.\n",
    "PNi = dc.columns.get_loc(\"POS_NEW\")\n",
    "dc['7_DAY'] = dc.iloc[:,PNi].rolling(window=7).mean() # Calculates the rolling 7-day average of new cases.\n",
    "dc['14_DAY'] = dc.iloc[:,PNi].rolling(window=14).mean() # Calculates the rolling 14-day average of new cases."
   ]
  },
  {
   "cell_type": "code",
   "execution_count": 4,
   "id": "steady-supervision",
   "metadata": {
    "execution": {
     "iopub.execute_input": "2021-01-25T10:46:53.815349Z",
     "iopub.status.busy": "2021-01-25T10:46:53.814681Z",
     "iopub.status.idle": "2021-01-25T10:46:53.820157Z",
     "shell.execute_reply": "2021-01-25T10:46:53.819622Z"
    },
    "jupyter": {
     "source_hidden": true
    },
    "papermill": {
     "duration": 0.020923,
     "end_time": "2021-01-25T10:46:53.820286",
     "exception": false,
     "start_time": "2021-01-25T10:46:53.799363",
     "status": "completed"
    },
    "scrolled": true,
    "tags": [
     "hide-input"
    ]
   },
   "outputs": [
    {
     "data": {
      "text/markdown": [
       "### Last updated: January 24, 2021"
      ],
      "text/plain": [
       "<IPython.core.display.Markdown object>"
      ]
     },
     "metadata": {},
     "output_type": "display_data"
    }
   ],
   "source": [
    "display(Markdown('### Last updated: ' + dc.iloc[-1]['DATE'].strftime(\"%B %d, %Y\")))"
   ]
  },
  {
   "cell_type": "code",
   "execution_count": 5,
   "id": "lonely-pitch",
   "metadata": {
    "execution": {
     "iopub.execute_input": "2021-01-25T10:46:53.845207Z",
     "iopub.status.busy": "2021-01-25T10:46:53.844205Z",
     "iopub.status.idle": "2021-01-25T10:46:53.847262Z",
     "shell.execute_reply": "2021-01-25T10:46:53.847694Z"
    },
    "jupyter": {
     "source_hidden": true
    },
    "papermill": {
     "duration": 0.018463,
     "end_time": "2021-01-25T10:46:53.847836",
     "exception": false,
     "start_time": "2021-01-25T10:46:53.829373",
     "status": "completed"
    },
    "tags": [
     "hide-input"
    ]
   },
   "outputs": [
    {
     "data": {
      "text/markdown": [
       "# Dunn County has 3959 total positive cases, with 14 new cases reported today."
      ],
      "text/plain": [
       "<IPython.core.display.Markdown object>"
      ]
     },
     "metadata": {},
     "output_type": "display_data"
    }
   ],
   "source": [
    "display(Markdown('# Dunn County has ' + str(dc.iloc[-1]['POSITIVE']) + ' total positive cases, with '+ str(int(dc.iloc[-1]['POS_NEW'])) + ' new cases reported today.'))"
   ]
  },
  {
   "cell_type": "code",
   "execution_count": 6,
   "id": "compound-nightmare",
   "metadata": {
    "execution": {
     "iopub.execute_input": "2021-01-25T10:46:53.871642Z",
     "iopub.status.busy": "2021-01-25T10:46:53.871107Z",
     "iopub.status.idle": "2021-01-25T10:46:54.145145Z",
     "shell.execute_reply": "2021-01-25T10:46:54.145770Z"
    },
    "jupyter": {
     "source_hidden": true
    },
    "papermill": {
     "duration": 0.288672,
     "end_time": "2021-01-25T10:46:54.145975",
     "exception": false,
     "start_time": "2021-01-25T10:46:53.857303",
     "status": "completed"
    },
    "scrolled": false,
    "tags": [
     "hide-input"
    ]
   },
   "outputs": [
    {
     "data": {
      "image/png": "[encoded data removed]",
      "text/plain": [
       "<Figure size 864x432 with 1 Axes>"
      ]
     },
     "metadata": {
      "needs_background": "light"
     },
     "output_type": "display_data"
    }
   ],
   "source": [
    "dc.plot(x='DATE',y='POSITIVE',color='red',grid='True',figsize=(12,6)).set_xlabel('Date');"
   ]
  },
  {
   "cell_type": "markdown",
   "id": "coupled-literacy",
   "metadata": {
    "papermill": {
     "duration": 0.010576,
     "end_time": "2021-01-25T10:46:54.168927",
     "exception": false,
     "start_time": "2021-01-25T10:46:54.158351",
     "status": "completed"
    },
    "tags": []
   },
   "source": [
    "## Figure 1: Cummulative number of positive cases."
   ]
  },
  {
   "cell_type": "code",
   "execution_count": 7,
   "id": "surrounded-reserve",
   "metadata": {
    "execution": {
     "iopub.execute_input": "2021-01-25T10:46:54.195705Z",
     "iopub.status.busy": "2021-01-25T10:46:54.195158Z",
     "iopub.status.idle": "2021-01-25T10:46:54.436299Z",
     "shell.execute_reply": "2021-01-25T10:46:54.437047Z"
    },
    "jupyter": {
     "source_hidden": true
    },
    "papermill": {
     "duration": 0.258135,
     "end_time": "2021-01-25T10:46:54.437474",
     "exception": false,
     "start_time": "2021-01-25T10:46:54.179339",
     "status": "completed"
    },
    "scrolled": false,
    "tags": [
     "hide-input"
    ]
   },
   "outputs": [
    {
     "data": {
      "image/png": "[encoded data removed]",
      "text/plain": [
       "<Figure size 864x432 with 1 Axes>"
      ]
     },
     "metadata": {
      "needs_background": "light"
     },
     "output_type": "display_data"
    }
   ],
   "source": [
    "dc.plot(kind='line',x='DATE',y='7_DAY',color='blue',grid='True',figsize=(12,6)).set_xlabel('Date');"
   ]
  },
  {
   "cell_type": "markdown",
   "id": "professional-savannah",
   "metadata": {
    "papermill": {
     "duration": 0.012009,
     "end_time": "2021-01-25T10:46:54.461294",
     "exception": false,
     "start_time": "2021-01-25T10:46:54.449285",
     "status": "completed"
    },
    "tags": []
   },
   "source": [
    "## Figure 2: Rolling 7-day average of daily new cases."
   ]
  },
  {
   "cell_type": "code",
   "execution_count": 8,
   "id": "stretch-investor",
   "metadata": {
    "execution": {
     "iopub.execute_input": "2021-01-25T10:46:54.490807Z",
     "iopub.status.busy": "2021-01-25T10:46:54.490253Z",
     "iopub.status.idle": "2021-01-25T10:46:54.728740Z",
     "shell.execute_reply": "2021-01-25T10:46:54.727865Z"
    },
    "jupyter": {
     "source_hidden": true
    },
    "papermill": {
     "duration": 0.256023,
     "end_time": "2021-01-25T10:46:54.728946",
     "exception": false,
     "start_time": "2021-01-25T10:46:54.472923",
     "status": "completed"
    },
    "tags": []
   },
   "outputs": [
    {
     "data": {
      "image/png": "[encoded data removed]",
      "text/plain": [
       "<Figure size 864x432 with 1 Axes>"
      ]
     },
     "metadata": {
      "needs_background": "light"
     },
     "output_type": "display_data"
    }
   ],
   "source": [
    "dc.plot(kind='line',x='DATE',y='14_DAY',color='green',grid='True',figsize=(12,6)).set_xlabel('Date');"
   ]
  },
  {
   "cell_type": "markdown",
   "id": "prerequisite-species",
   "metadata": {
    "papermill": {
     "duration": 0.013092,
     "end_time": "2021-01-25T10:46:54.756426",
     "exception": false,
     "start_time": "2021-01-25T10:46:54.743334",
     "status": "completed"
    },
    "tags": []
   },
   "source": [
    "## Figure 3: Rolling 14-day average of daily new cases."
   ]
  },
  {
   "cell_type": "markdown",
   "id": "palestinian-guard",
   "metadata": {
    "papermill": {
     "duration": 0.013225,
     "end_time": "2021-01-25T10:46:54.783453",
     "exception": false,
     "start_time": "2021-01-25T10:46:54.770228",
     "status": "completed"
    },
    "tags": []
   },
   "source": [
    "Data source: [Wisconsin Department of Health Services](https://data.dhsgis.wi.gov/datasets/covid-19-historical-data-table/)"
   ]
  },
  {
   "cell_type": "code",
   "execution_count": 9,
   "id": "proof-medicare",
   "metadata": {
    "execution": {
     "iopub.execute_input": "2021-01-25T10:46:54.816052Z",
     "iopub.status.busy": "2021-01-25T10:46:54.815502Z",
     "iopub.status.idle": "2021-01-25T10:46:54.820374Z",
     "shell.execute_reply": "2021-01-25T10:46:54.819922Z"
    },
    "jupyter": {
     "source_hidden": true
    },
    "papermill": {
     "duration": 0.02446,
     "end_time": "2021-01-25T10:46:54.820503",
     "exception": false,
     "start_time": "2021-01-25T10:46:54.796043",
     "status": "completed"
    },
    "tags": []
   },
   "outputs": [
    {
     "data": {
      "text/html": [
       "<style>\n",
       "div.input {\n",
       "    display:none;\n",
       "}\n",
       "</style>\n"
      ],
      "text/plain": [
       "<IPython.core.display.HTML object>"
      ]
     },
     "metadata": {},
     "output_type": "display_data"
    }
   ],
   "source": [
    "%%html\n",
    "<style>\n",
    "div.input {\n",
    "    display:none;\n",
    "}\n",
    "</style>"
   ]
  }
 ],
 "metadata": {
  "kernelspec": {
   "display_name": "Python 3",
   "language": "python",
   "name": "python3"
  },
  "language_info": {
   "codemirror_mode": {
    "name": "ipython",
    "version": 3
   },
   "file_extension": ".py",
   "mimetype": "text/x-python",
   "name": "python",
   "nbconvert_exporter": "python",
   "pygments_lexer": "ipython3",
   "version": "3.8.6"
  },
  "papermill": {
   "duration": 5.360582,
   "end_time": "2021-01-25T10:46:55.241674",
   "environment_variables": {},
   "exception": null,
   "input_path": "DunnCounty_COVID19.ipynb",
   "output_path": "DunnCounty_COVID19.ipynb",
   "parameters": {
    "Start": "True",
    "secretsPath": "/home/runner/work/_temp/secrets.json"
   },
   "start_time": "2021-01-25T10:46:49.881092",
   "version": "1.1.16"
  }
 },
 "nbformat": 4,
 "nbformat_minor": 5
}