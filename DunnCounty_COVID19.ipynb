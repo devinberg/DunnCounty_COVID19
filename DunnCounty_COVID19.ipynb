{
 "cells": [
  {
   "cell_type": "code",
   "execution_count": 1,
   "id": "solar-understanding",
   "metadata": {
    "execution": {
     "iopub.execute_input": "2021-03-21T22:12:47.910735Z",
     "iopub.status.busy": "2021-03-21T22:12:47.909558Z",
     "iopub.status.idle": "2021-03-21T22:12:49.383535Z",
     "shell.execute_reply": "2021-03-21T22:12:49.382787Z"
    },
    "jupyter": {
     "source_hidden": true
    },
    "papermill": {
     "duration": 1.495454,
     "end_time": "2021-03-21T22:12:49.383682",
     "exception": false,
     "start_time": "2021-03-21T22:12:47.888228",
     "status": "completed"
    },
    "scrolled": true,
    "tags": [
     "hide-input"
    ]
   },
   "outputs": [],
   "source": [
    "import pandas as pd\n",
    "import matplotlib.pyplot as plt\n",
    "from matplotlib import dates\n",
    "from IPython.display import display, Markdown\n",
    "%matplotlib inline"
   ]
  },
  {
   "cell_type": "code",
   "execution_count": 2,
   "id": "purple-playlist",
   "metadata": {
    "execution": {
     "iopub.execute_input": "2021-03-21T22:12:49.407377Z",
     "iopub.status.busy": "2021-03-21T22:12:49.406828Z",
     "iopub.status.idle": "2021-03-21T22:12:50.484998Z",
     "shell.execute_reply": "2021-03-21T22:12:50.485449Z"
    },
    "jupyter": {
     "source_hidden": true
    },
    "papermill": {
     "duration": 1.092775,
     "end_time": "2021-03-21T22:12:50.485611",
     "exception": false,
     "start_time": "2021-03-21T22:12:49.392836",
     "status": "completed"
    },
    "scrolled": true,
    "tags": [
     "hide-input"
    ]
   },
   "outputs": [],
   "source": [
    "# This is the data for all of Wisconsin.\n",
    "url = \"https://opendata.arcgis.com/datasets/5374188992374b318d3e2305216ee413_12.csv\"\n",
    "data = pd.read_csv(url, parse_dates=['DATE'], low_memory=False)"
   ]
  },
  {
   "cell_type": "code",
   "execution_count": 3,
   "id": "proprietary-klein",
   "metadata": {
    "execution": {
     "iopub.execute_input": "2021-03-21T22:12:50.512768Z",
     "iopub.status.busy": "2021-03-21T22:12:50.512210Z",
     "iopub.status.idle": "2021-03-21T22:12:50.520520Z",
     "shell.execute_reply": "2021-03-21T22:12:50.520942Z"
    },
    "jupyter": {
     "source_hidden": true
    },
    "papermill": {
     "duration": 0.025769,
     "end_time": "2021-03-21T22:12:50.521099",
     "exception": false,
     "start_time": "2021-03-21T22:12:50.495330",
     "status": "completed"
    },
    "scrolled": true,
    "tags": [
     "hide-input"
    ]
   },
   "outputs": [],
   "source": [
    "dc = data.groupby('NAME').get_group('Dunn').sort_values(by='DATE') # Select the data for Dunn County from the full data.\n",
    "PNi = dc.columns.get_loc(\"POS_NEW\")\n",
    "dc['7_DAY'] = dc.iloc[:,PNi].rolling(window=7).mean() # Calculates the rolling 7-day average of new cases.\n",
    "dc['14_DAY'] = dc.iloc[:,PNi].rolling(window=14).mean() # Calculates the rolling 14-day average of new cases."
   ]
  },
  {
   "cell_type": "code",
   "execution_count": 4,
   "id": "steady-supervision",
   "metadata": {
    "execution": {
     "iopub.execute_input": "2021-03-21T22:12:50.544880Z",
     "iopub.status.busy": "2021-03-21T22:12:50.544329Z",
     "iopub.status.idle": "2021-03-21T22:12:50.548398Z",
     "shell.execute_reply": "2021-03-21T22:12:50.547951Z"
    },
    "jupyter": {
     "source_hidden": true
    },
    "papermill": {
     "duration": 0.018766,
     "end_time": "2021-03-21T22:12:50.548515",
     "exception": false,
     "start_time": "2021-03-21T22:12:50.529749",
     "status": "completed"
    },
    "scrolled": true,
    "tags": [
     "hide-input"
    ]
   },
   "outputs": [
    {
     "data": {
      "text/markdown": [
       "### Last updated: March 21, 2021"
      ],
      "text/plain": [
       "<IPython.core.display.Markdown object>"
      ]
     },
     "metadata": {},
     "output_type": "display_data"
    }
   ],
   "source": [
    "display(Markdown('### Last updated: ' + dc.iloc[-1]['DATE'].strftime(\"%B %d, %Y\")))"
   ]
  },
  {
   "cell_type": "code",
   "execution_count": 5,
   "id": "lonely-pitch",
   "metadata": {
    "execution": {
     "iopub.execute_input": "2021-03-21T22:12:50.571591Z",
     "iopub.status.busy": "2021-03-21T22:12:50.571062Z",
     "iopub.status.idle": "2021-03-21T22:12:50.573622Z",
     "shell.execute_reply": "2021-03-21T22:12:50.574073Z"
    },
    "jupyter": {
     "source_hidden": true
    },
    "papermill": {
     "duration": 0.016656,
     "end_time": "2021-03-21T22:12:50.574207",
     "exception": false,
     "start_time": "2021-03-21T22:12:50.557551",
     "status": "completed"
    },
    "tags": [
     "hide-input"
    ]
   },
   "outputs": [
    {
     "data": {
      "text/markdown": [
       "# Dunn County has 4328 total positive cases, with 9 new cases reported today."
      ],
      "text/plain": [
       "<IPython.core.display.Markdown object>"
      ]
     },
     "metadata": {},
     "output_type": "display_data"
    }
   ],
   "source": [
    "display(Markdown('# Dunn County has ' + str(dc.iloc[-1]['POSITIVE']) + ' total positive cases, with '+ str(int(dc.iloc[-1]['POS_NEW'])) + ' new cases reported today.'))"
   ]
  },
  {
   "cell_type": "code",
   "execution_count": 6,
   "id": "compound-nightmare",
   "metadata": {
    "execution": {
     "iopub.execute_input": "2021-03-21T22:12:50.598387Z",
     "iopub.status.busy": "2021-03-21T22:12:50.597854Z",
     "iopub.status.idle": "2021-03-21T22:12:50.863456Z",
     "shell.execute_reply": "2021-03-21T22:12:50.864030Z"
    },
    "jupyter": {
     "source_hidden": true
    },
    "papermill": {
     "duration": 0.280993,
     "end_time": "2021-03-21T22:12:50.864520",
     "exception": false,
     "start_time": "2021-03-21T22:12:50.583527",
     "status": "completed"
    },
    "scrolled": false,
    "tags": [
     "hide-input"
    ]
   },
   "outputs": [
    {
     "data": {
      "image/png": "[encoded data removed]",
      "text/plain": [
       "<Figure size 864x432 with 1 Axes>"
      ]
     },
     "metadata": {
      "needs_background": "light"
     },
     "output_type": "display_data"
    }
   ],
   "source": [
    "dc.plot(x='DATE',y='POSITIVE',color='red',grid='True',figsize=(12,6)).set_xlabel('Date');"
   ]
  },
  {
   "cell_type": "markdown",
   "id": "coupled-literacy",
   "metadata": {
    "papermill": {
     "duration": 0.010737,
     "end_time": "2021-03-21T22:12:50.886457",
     "exception": false,
     "start_time": "2021-03-21T22:12:50.875720",
     "status": "completed"
    },
    "tags": []
   },
   "source": [
    "## Figure 1: Cummulative number of positive cases."
   ]
  },
  {
   "cell_type": "code",
   "execution_count": 7,
   "id": "surrounded-reserve",
   "metadata": {
    "execution": {
     "iopub.execute_input": "2021-03-21T22:12:50.915069Z",
     "iopub.status.busy": "2021-03-21T22:12:50.914478Z",
     "iopub.status.idle": "2021-03-21T22:12:51.114312Z",
     "shell.execute_reply": "2021-03-21T22:12:51.113804Z"
    },
    "jupyter": {
     "source_hidden": true
    },
    "papermill": {
     "duration": 0.217248,
     "end_time": "2021-03-21T22:12:51.114450",
     "exception": false,
     "start_time": "2021-03-21T22:12:50.897202",
     "status": "completed"
    },
    "scrolled": false,
    "tags": [
     "hide-input"
    ]
   },
   "outputs": [
    {
     "data": {
      "image/png": "[encoded data removed]",
      "text/plain": [
       "<Figure size 864x432 with 1 Axes>"
      ]
     },
     "metadata": {
      "needs_background": "light"
     },
     "output_type": "display_data"
    }
   ],
   "source": [
    "dc.plot(kind='line',x='DATE',y='7_DAY',color='blue',grid='True',figsize=(12,6)).set_xlabel('Date');"
   ]
  },
  {
   "cell_type": "markdown",
   "id": "professional-savannah",
   "metadata": {
    "papermill": {
     "duration": 0.011377,
     "end_time": "2021-03-21T22:12:51.138788",
     "exception": false,
     "start_time": "2021-03-21T22:12:51.127411",
     "status": "completed"
    },
    "tags": []
   },
   "source": [
    "## Figure 2: Rolling 7-day average of daily new cases."
   ]
  },
  {
   "cell_type": "code",
   "execution_count": 8,
   "id": "stretch-investor",
   "metadata": {
    "execution": {
     "iopub.execute_input": "2021-03-21T22:12:51.167564Z",
     "iopub.status.busy": "2021-03-21T22:12:51.167026Z",
     "iopub.status.idle": "2021-03-21T22:12:51.363190Z",
     "shell.execute_reply": "2021-03-21T22:12:51.363620Z"
    },
    "jupyter": {
     "source_hidden": true
    },
    "papermill": {
     "duration": 0.213449,
     "end_time": "2021-03-21T22:12:51.363775",
     "exception": false,
     "start_time": "2021-03-21T22:12:51.150326",
     "status": "completed"
    },
    "tags": []
   },
   "outputs": [
    {
     "data": {
      "image/png": "[encoded data removed]",
      "text/plain": [
       "<Figure size 864x432 with 1 Axes>"
      ]
     },
     "metadata": {
      "needs_background": "light"
     },
     "output_type": "display_data"
    }
   ],
   "source": [
    "dc.plot(kind='line',x='DATE',y='14_DAY',color='green',grid='True',figsize=(12,6)).set_xlabel('Date');"
   ]
  },
  {
   "cell_type": "markdown",
   "id": "prerequisite-species",
   "metadata": {
    "papermill": {
     "duration": 0.012894,
     "end_time": "2021-03-21T22:12:51.389496",
     "exception": false,
     "start_time": "2021-03-21T22:12:51.376602",
     "status": "completed"
    },
    "tags": []
   },
   "source": [
    "## Figure 3: Rolling 14-day average of daily new cases."
   ]
  },
  {
   "cell_type": "markdown",
   "id": "palestinian-guard",
   "metadata": {
    "papermill": {
     "duration": 0.012612,
     "end_time": "2021-03-21T22:12:51.414838",
     "exception": false,
     "start_time": "2021-03-21T22:12:51.402226",
     "status": "completed"
    },
    "tags": []
   },
   "source": [
    "Data source: [Wisconsin Department of Health Services](https://data.dhsgis.wi.gov/datasets/covid-19-historical-data-table/)"
   ]
  },
  {
   "cell_type": "code",
   "execution_count": 9,
   "id": "proof-medicare",
   "metadata": {
    "execution": {
     "iopub.execute_input": "2021-03-21T22:12:51.446877Z",
     "iopub.status.busy": "2021-03-21T22:12:51.446208Z",
     "iopub.status.idle": "2021-03-21T22:12:51.448590Z",
     "shell.execute_reply": "2021-03-21T22:12:51.449102Z"
    },
    "jupyter": {
     "source_hidden": true
    },
    "papermill": {
     "duration": 0.021165,
     "end_time": "2021-03-21T22:12:51.449258",
     "exception": false,
     "start_time": "2021-03-21T22:12:51.428093",
     "status": "completed"
    },
    "tags": []
   },
   "outputs": [
    {
     "data": {
      "text/html": [
       "<style>\n",
       "div.input {\n",
       "    display:none;\n",
       "}\n",
       "</style>\n"
      ],
      "text/plain": [
       "<IPython.core.display.HTML object>"
      ]
     },
     "metadata": {},
     "output_type": "display_data"
    }
   ],
   "source": [
    "%%html\n",
    "<style>\n",
    "div.input {\n",
    "    display:none;\n",
    "}\n",
    "</style>"
   ]
  }
 ],
 "metadata": {
  "kernelspec": {
   "display_name": "Python 3",
   "language": "python",
   "name": "python3"
  },
  "language_info": {
   "codemirror_mode": {
    "name": "ipython",
    "version": 3
   },
   "file_extension": ".py",
   "mimetype": "text/x-python",
   "name": "python",
   "nbconvert_exporter": "python",
   "pygments_lexer": "ipython3",
   "version": "3.8.8"
  },
  "papermill": {
   "duration": 5.258192,
   "end_time": "2021-03-21T22:12:51.769745",
   "environment_variables": {},
   "exception": null,
   "input_path": "DunnCounty_COVID19.ipynb",
   "output_path": "DunnCounty_COVID19.ipynb",
   "parameters": {
    "Start": "True",
    "secretsPath": "/home/runner/work/_temp/secrets.json"
   },
   "start_time": "2021-03-21T22:12:46.511553",
   "version": "1.1.16"
  }
 },
 "nbformat": 4,
 "nbformat_minor": 5
}