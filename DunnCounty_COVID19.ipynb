{
 "cells": [
  {
   "cell_type": "code",
   "execution_count": 1,
   "id": "solar-understanding",
   "metadata": {
    "execution": {
     "iopub.execute_input": "2021-03-11T22:12:43.342948Z",
     "iopub.status.busy": "2021-03-11T22:12:43.342237Z",
     "iopub.status.idle": "2021-03-11T22:12:44.274049Z",
     "shell.execute_reply": "2021-03-11T22:12:44.272986Z"
    },
    "jupyter": {
     "source_hidden": true
    },
    "papermill": {
     "duration": 0.951819,
     "end_time": "2021-03-11T22:12:44.274266",
     "exception": false,
     "start_time": "2021-03-11T22:12:43.322447",
     "status": "completed"
    },
    "scrolled": true,
    "tags": [
     "hide-input"
    ]
   },
   "outputs": [],
   "source": [
    "import pandas as pd\n",
    "import matplotlib.pyplot as plt\n",
    "from matplotlib import dates\n",
    "from IPython.display import display, Markdown\n",
    "%matplotlib inline"
   ]
  },
  {
   "cell_type": "code",
   "execution_count": 2,
   "id": "purple-playlist",
   "metadata": {
    "execution": {
     "iopub.execute_input": "2021-03-11T22:12:44.302179Z",
     "iopub.status.busy": "2021-03-11T22:12:44.301491Z",
     "iopub.status.idle": "2021-03-11T22:12:44.951484Z",
     "shell.execute_reply": "2021-03-11T22:12:44.950919Z"
    },
    "jupyter": {
     "source_hidden": true
    },
    "papermill": {
     "duration": 0.667721,
     "end_time": "2021-03-11T22:12:44.952477",
     "exception": false,
     "start_time": "2021-03-11T22:12:44.284756",
     "status": "completed"
    },
    "scrolled": true,
    "tags": [
     "hide-input"
    ]
   },
   "outputs": [],
   "source": [
    "# This is the data for all of Wisconsin.\n",
    "url = \"https://opendata.arcgis.com/datasets/5374188992374b318d3e2305216ee413_12.csv\"\n",
    "data = pd.read_csv(url, parse_dates=['DATE'], low_memory=False)"
   ]
  },
  {
   "cell_type": "code",
   "execution_count": 3,
   "id": "proprietary-klein",
   "metadata": {
    "execution": {
     "iopub.execute_input": "2021-03-11T22:12:44.980233Z",
     "iopub.status.busy": "2021-03-11T22:12:44.979575Z",
     "iopub.status.idle": "2021-03-11T22:12:44.989404Z",
     "shell.execute_reply": "2021-03-11T22:12:44.988784Z"
    },
    "jupyter": {
     "source_hidden": true
    },
    "papermill": {
     "duration": 0.025849,
     "end_time": "2021-03-11T22:12:44.989530",
     "exception": false,
     "start_time": "2021-03-11T22:12:44.963681",
     "status": "completed"
    },
    "scrolled": true,
    "tags": [
     "hide-input"
    ]
   },
   "outputs": [],
   "source": [
    "dc = data.groupby('NAME').get_group('Dunn').sort_values(by='DATE') # Select the data for Dunn County from the full data.\n",
    "PNi = dc.columns.get_loc(\"POS_NEW\")\n",
    "dc['7_DAY'] = dc.iloc[:,PNi].rolling(window=7).mean() # Calculates the rolling 7-day average of new cases.\n",
    "dc['14_DAY'] = dc.iloc[:,PNi].rolling(window=14).mean() # Calculates the rolling 14-day average of new cases."
   ]
  },
  {
   "cell_type": "code",
   "execution_count": 4,
   "id": "steady-supervision",
   "metadata": {
    "execution": {
     "iopub.execute_input": "2021-03-11T22:12:45.015935Z",
     "iopub.status.busy": "2021-03-11T22:12:45.015291Z",
     "iopub.status.idle": "2021-03-11T22:12:45.019872Z",
     "shell.execute_reply": "2021-03-11T22:12:45.020406Z"
    },
    "jupyter": {
     "source_hidden": true
    },
    "papermill": {
     "duration": 0.021358,
     "end_time": "2021-03-11T22:12:45.020555",
     "exception": false,
     "start_time": "2021-03-11T22:12:44.999197",
     "status": "completed"
    },
    "scrolled": true,
    "tags": [
     "hide-input"
    ]
   },
   "outputs": [
    {
     "data": {
      "text/markdown": [
       "### Last updated: March 11, 2021"
      ],
      "text/plain": [
       "<IPython.core.display.Markdown object>"
      ]
     },
     "metadata": {},
     "output_type": "display_data"
    }
   ],
   "source": [
    "display(Markdown('### Last updated: ' + dc.iloc[-1]['DATE'].strftime(\"%B %d, %Y\")))"
   ]
  },
  {
   "cell_type": "code",
   "execution_count": 5,
   "id": "lonely-pitch",
   "metadata": {
    "execution": {
     "iopub.execute_input": "2021-03-11T22:12:45.045707Z",
     "iopub.status.busy": "2021-03-11T22:12:45.044916Z",
     "iopub.status.idle": "2021-03-11T22:12:45.051129Z",
     "shell.execute_reply": "2021-03-11T22:12:45.051687Z"
    },
    "jupyter": {
     "source_hidden": true
    },
    "papermill": {
     "duration": 0.020991,
     "end_time": "2021-03-11T22:12:45.051863",
     "exception": false,
     "start_time": "2021-03-11T22:12:45.030872",
     "status": "completed"
    },
    "tags": [
     "hide-input"
    ]
   },
   "outputs": [
    {
     "data": {
      "text/markdown": [
       "# Dunn County has 4292 total positive cases, with 6 new cases reported today."
      ],
      "text/plain": [
       "<IPython.core.display.Markdown object>"
      ]
     },
     "metadata": {},
     "output_type": "display_data"
    }
   ],
   "source": [
    "display(Markdown('# Dunn County has ' + str(dc.iloc[-1]['POSITIVE']) + ' total positive cases, with '+ str(int(dc.iloc[-1]['POS_NEW'])) + ' new cases reported today.'))"
   ]
  },
  {
   "cell_type": "code",
   "execution_count": 6,
   "id": "compound-nightmare",
   "metadata": {
    "execution": {
     "iopub.execute_input": "2021-03-11T22:12:45.081129Z",
     "iopub.status.busy": "2021-03-11T22:12:45.077662Z",
     "iopub.status.idle": "2021-03-11T22:12:45.391584Z",
     "shell.execute_reply": "2021-03-11T22:12:45.390902Z"
    },
    "jupyter": {
     "source_hidden": true
    },
    "papermill": {
     "duration": 0.32901,
     "end_time": "2021-03-11T22:12:45.391830",
     "exception": false,
     "start_time": "2021-03-11T22:12:45.062820",
     "status": "completed"
    },
    "scrolled": false,
    "tags": [
     "hide-input"
    ]
   },
   "outputs": [
    {
     "data": {
      "image/png": "[encoded data removed]",
      "text/plain": [
       "<Figure size 864x432 with 1 Axes>"
      ]
     },
     "metadata": {
      "needs_background": "light"
     },
     "output_type": "display_data"
    }
   ],
   "source": [
    "dc.plot(x='DATE',y='POSITIVE',color='red',grid='True',figsize=(12,6)).set_xlabel('Date');"
   ]
  },
  {
   "cell_type": "markdown",
   "id": "coupled-literacy",
   "metadata": {
    "papermill": {
     "duration": 0.011706,
     "end_time": "2021-03-11T22:12:45.415650",
     "exception": false,
     "start_time": "2021-03-11T22:12:45.403944",
     "status": "completed"
    },
    "tags": []
   },
   "source": [
    "## Figure 1: Cummulative number of positive cases."
   ]
  },
  {
   "cell_type": "code",
   "execution_count": 7,
   "id": "surrounded-reserve",
   "metadata": {
    "execution": {
     "iopub.execute_input": "2021-03-11T22:12:45.460473Z",
     "iopub.status.busy": "2021-03-11T22:12:45.443228Z",
     "iopub.status.idle": "2021-03-11T22:12:45.681368Z",
     "shell.execute_reply": "2021-03-11T22:12:45.681854Z"
    },
    "jupyter": {
     "source_hidden": true
    },
    "papermill": {
     "duration": 0.254828,
     "end_time": "2021-03-11T22:12:45.682022",
     "exception": false,
     "start_time": "2021-03-11T22:12:45.427194",
     "status": "completed"
    },
    "scrolled": false,
    "tags": [
     "hide-input"
    ]
   },
   "outputs": [
    {
     "data": {
      "image/png": "[encoded data removed]",
      "text/plain": [
       "<Figure size 864x432 with 1 Axes>"
      ]
     },
     "metadata": {
      "needs_background": "light"
     },
     "output_type": "display_data"
    }
   ],
   "source": [
    "dc.plot(kind='line',x='DATE',y='7_DAY',color='blue',grid='True',figsize=(12,6)).set_xlabel('Date');"
   ]
  },
  {
   "cell_type": "markdown",
   "id": "professional-savannah",
   "metadata": {
    "papermill": {
     "duration": 0.013127,
     "end_time": "2021-03-11T22:12:45.708027",
     "exception": false,
     "start_time": "2021-03-11T22:12:45.694900",
     "status": "completed"
    },
    "tags": []
   },
   "source": [
    "## Figure 2: Rolling 7-day average of daily new cases."
   ]
  },
  {
   "cell_type": "code",
   "execution_count": 8,
   "id": "stretch-investor",
   "metadata": {
    "execution": {
     "iopub.execute_input": "2021-03-11T22:12:45.738911Z",
     "iopub.status.busy": "2021-03-11T22:12:45.738286Z",
     "iopub.status.idle": "2021-03-11T22:12:45.978964Z",
     "shell.execute_reply": "2021-03-11T22:12:45.979515Z"
    },
    "jupyter": {
     "source_hidden": true
    },
    "papermill": {
     "duration": 0.258128,
     "end_time": "2021-03-11T22:12:45.979695",
     "exception": false,
     "start_time": "2021-03-11T22:12:45.721567",
     "status": "completed"
    },
    "tags": []
   },
   "outputs": [
    {
     "data": {
      "image/png": "[encoded data removed]",
      "text/plain": [
       "<Figure size 864x432 with 1 Axes>"
      ]
     },
     "metadata": {
      "needs_background": "light"
     },
     "output_type": "display_data"
    }
   ],
   "source": [
    "dc.plot(kind='line',x='DATE',y='14_DAY',color='green',grid='True',figsize=(12,6)).set_xlabel('Date');"
   ]
  },
  {
   "cell_type": "markdown",
   "id": "prerequisite-species",
   "metadata": {
    "papermill": {
     "duration": 0.013681,
     "end_time": "2021-03-11T22:12:46.007614",
     "exception": false,
     "start_time": "2021-03-11T22:12:45.993933",
     "status": "completed"
    },
    "tags": []
   },
   "source": [
    "## Figure 3: Rolling 14-day average of daily new cases."
   ]
  },
  {
   "cell_type": "markdown",
   "id": "palestinian-guard",
   "metadata": {
    "papermill": {
     "duration": 0.013191,
     "end_time": "2021-03-11T22:12:46.033291",
     "exception": false,
     "start_time": "2021-03-11T22:12:46.020100",
     "status": "completed"
    },
    "tags": []
   },
   "source": [
    "Data source: [Wisconsin Department of Health Services](https://data.dhsgis.wi.gov/datasets/covid-19-historical-data-table/)"
   ]
  },
  {
   "cell_type": "code",
   "execution_count": 9,
   "id": "proof-medicare",
   "metadata": {
    "execution": {
     "iopub.execute_input": "2021-03-11T22:12:46.065916Z",
     "iopub.status.busy": "2021-03-11T22:12:46.065173Z",
     "iopub.status.idle": "2021-03-11T22:12:46.068588Z",
     "shell.execute_reply": "2021-03-11T22:12:46.068112Z"
    },
    "jupyter": {
     "source_hidden": true
    },
    "papermill": {
     "duration": 0.021487,
     "end_time": "2021-03-11T22:12:46.068703",
     "exception": false,
     "start_time": "2021-03-11T22:12:46.047216",
     "status": "completed"
    },
    "tags": []
   },
   "outputs": [
    {
     "data": {
      "text/html": [
       "<style>\n",
       "div.input {\n",
       "    display:none;\n",
       "}\n",
       "</style>\n"
      ],
      "text/plain": [
       "<IPython.core.display.HTML object>"
      ]
     },
     "metadata": {},
     "output_type": "display_data"
    }
   ],
   "source": [
    "%%html\n",
    "<style>\n",
    "div.input {\n",
    "    display:none;\n",
    "}\n",
    "</style>"
   ]
  }
 ],
 "metadata": {
  "kernelspec": {
   "display_name": "Python 3",
   "language": "python",
   "name": "python3"
  },
  "language_info": {
   "codemirror_mode": {
    "name": "ipython",
    "version": 3
   },
   "file_extension": ".py",
   "mimetype": "text/x-python",
   "name": "python",
   "nbconvert_exporter": "python",
   "pygments_lexer": "ipython3",
   "version": "3.8.8"
  },
  "papermill": {
   "duration": 5.085141,
   "end_time": "2021-03-11T22:12:46.387963",
   "environment_variables": {},
   "exception": null,
   "input_path": "DunnCounty_COVID19.ipynb",
   "output_path": "DunnCounty_COVID19.ipynb",
   "parameters": {
    "Start": "True",
    "secretsPath": "/home/runner/work/_temp/secrets.json"
   },
   "start_time": "2021-03-11T22:12:41.302822",
   "version": "1.1.16"
  }
 },
 "nbformat": 4,
 "nbformat_minor": 5
}