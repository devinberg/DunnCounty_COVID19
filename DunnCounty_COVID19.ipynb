{
 "cells": [
  {
   "cell_type": "code",
   "execution_count": 1,
   "id": "solar-understanding",
   "metadata": {
    "execution": {
     "iopub.execute_input": "2021-04-26T22:19:13.657711Z",
     "iopub.status.busy": "2021-04-26T22:19:13.657145Z",
     "iopub.status.idle": "2021-04-26T22:19:14.574077Z",
     "shell.execute_reply": "2021-04-26T22:19:14.573482Z"
    },
    "jupyter": {
     "source_hidden": true
    },
    "papermill": {
     "duration": 0.936267,
     "end_time": "2021-04-26T22:19:14.574223",
     "exception": false,
     "start_time": "2021-04-26T22:19:13.637956",
     "status": "completed"
    },
    "scrolled": true,
    "tags": [
     "hide-input"
    ]
   },
   "outputs": [],
   "source": [
    "import pandas as pd\n",
    "import matplotlib.pyplot as plt\n",
    "from matplotlib import dates\n",
    "from IPython.display import display, Markdown\n",
    "%matplotlib inline"
   ]
  },
  {
   "cell_type": "code",
   "execution_count": 2,
   "id": "purple-playlist",
   "metadata": {
    "execution": {
     "iopub.execute_input": "2021-04-26T22:19:14.600120Z",
     "iopub.status.busy": "2021-04-26T22:19:14.599559Z",
     "iopub.status.idle": "2021-04-26T22:19:15.519480Z",
     "shell.execute_reply": "2021-04-26T22:19:15.518944Z"
    },
    "jupyter": {
     "source_hidden": true
    },
    "papermill": {
     "duration": 0.936177,
     "end_time": "2021-04-26T22:19:15.519602",
     "exception": false,
     "start_time": "2021-04-26T22:19:14.583425",
     "status": "completed"
    },
    "scrolled": true,
    "tags": [
     "hide-input"
    ]
   },
   "outputs": [],
   "source": [
    "# This is the data for all of Wisconsin.\n",
    "url = \"https://opendata.arcgis.com/datasets/0b7bac0afc464e7783474cb62272d9b8_12.csv\"\n",
    "data = pd.read_csv(url, parse_dates=['DATE'], low_memory=False)"
   ]
  },
  {
   "cell_type": "code",
   "execution_count": 3,
   "id": "proprietary-klein",
   "metadata": {
    "execution": {
     "iopub.execute_input": "2021-04-26T22:19:15.547331Z",
     "iopub.status.busy": "2021-04-26T22:19:15.546733Z",
     "iopub.status.idle": "2021-04-26T22:19:15.558775Z",
     "shell.execute_reply": "2021-04-26T22:19:15.558235Z"
    },
    "jupyter": {
     "source_hidden": true
    },
    "papermill": {
     "duration": 0.030346,
     "end_time": "2021-04-26T22:19:15.558931",
     "exception": false,
     "start_time": "2021-04-26T22:19:15.528585",
     "status": "completed"
    },
    "scrolled": true,
    "tags": [
     "hide-input"
    ]
   },
   "outputs": [],
   "source": [
    "dc = data.groupby('NAME').get_group('Dunn').sort_values(by='DATE') # Select the data for Dunn County from the full data.\n",
    "PNi = dc.columns.get_loc(\"POS_NEW\")\n",
    "dc['7_DAY'] = dc.iloc[:,PNi].rolling(window=7).mean() # Calculates the rolling 7-day average of new cases.\n",
    "dc['14_DAY'] = dc.iloc[:,PNi].rolling(window=14).mean() # Calculates the rolling 14-day average of new cases."
   ]
  },
  {
   "cell_type": "code",
   "execution_count": 4,
   "id": "steady-supervision",
   "metadata": {
    "execution": {
     "iopub.execute_input": "2021-04-26T22:19:15.583544Z",
     "iopub.status.busy": "2021-04-26T22:19:15.582760Z",
     "iopub.status.idle": "2021-04-26T22:19:15.586592Z",
     "shell.execute_reply": "2021-04-26T22:19:15.586153Z"
    },
    "jupyter": {
     "source_hidden": true
    },
    "papermill": {
     "duration": 0.019042,
     "end_time": "2021-04-26T22:19:15.586709",
     "exception": false,
     "start_time": "2021-04-26T22:19:15.567667",
     "status": "completed"
    },
    "scrolled": true,
    "tags": [
     "hide-input"
    ]
   },
   "outputs": [
    {
     "data": {
      "text/markdown": [
       "### Last updated: April 26, 2021"
      ],
      "text/plain": [
       "<IPython.core.display.Markdown object>"
      ]
     },
     "metadata": {},
     "output_type": "display_data"
    }
   ],
   "source": [
    "display(Markdown('### Last updated: ' + dc.iloc[-1]['DATE'].strftime(\"%B %d, %Y\")))"
   ]
  },
  {
   "cell_type": "code",
   "execution_count": 5,
   "id": "lonely-pitch",
   "metadata": {
    "execution": {
     "iopub.execute_input": "2021-04-26T22:19:15.611326Z",
     "iopub.status.busy": "2021-04-26T22:19:15.610754Z",
     "iopub.status.idle": "2021-04-26T22:19:15.614338Z",
     "shell.execute_reply": "2021-04-26T22:19:15.613904Z"
    },
    "jupyter": {
     "source_hidden": true
    },
    "papermill": {
     "duration": 0.017724,
     "end_time": "2021-04-26T22:19:15.614453",
     "exception": false,
     "start_time": "2021-04-26T22:19:15.596729",
     "status": "completed"
    },
    "tags": [
     "hide-input"
    ]
   },
   "outputs": [
    {
     "data": {
      "text/markdown": [
       "# Dunn County has 4594 total positive cases, with 0 new cases reported today."
      ],
      "text/plain": [
       "<IPython.core.display.Markdown object>"
      ]
     },
     "metadata": {},
     "output_type": "display_data"
    }
   ],
   "source": [
    "display(Markdown('# Dunn County has ' + str(dc.iloc[-1]['POSITIVE']) + ' total positive cases, with '+ str(int(dc.iloc[-1]['POS_NEW'])) + ' new cases reported today.'))"
   ]
  },
  {
   "cell_type": "code",
   "execution_count": 6,
   "id": "compound-nightmare",
   "metadata": {
    "execution": {
     "iopub.execute_input": "2021-04-26T22:19:15.638374Z",
     "iopub.status.busy": "2021-04-26T22:19:15.637304Z",
     "iopub.status.idle": "2021-04-26T22:19:15.890104Z",
     "shell.execute_reply": "2021-04-26T22:19:15.889193Z"
    },
    "jupyter": {
     "source_hidden": true
    },
    "papermill": {
     "duration": 0.266168,
     "end_time": "2021-04-26T22:19:15.890251",
     "exception": false,
     "start_time": "2021-04-26T22:19:15.624083",
     "status": "completed"
    },
    "scrolled": false,
    "tags": [
     "hide-input"
    ]
   },
   "outputs": [
    {
     "data": {
      "image/png": "[encoded data removed]",
      "text/plain": [
       "<Figure size 864x432 with 1 Axes>"
      ]
     },
     "metadata": {
      "needs_background": "light"
     },
     "output_type": "display_data"
    }
   ],
   "source": [
    "dc.plot(x='DATE',y='POSITIVE',color='red',grid='True',figsize=(12,6)).set_xlabel('Date');"
   ]
  },
  {
   "cell_type": "markdown",
   "id": "coupled-literacy",
   "metadata": {
    "papermill": {
     "duration": 0.010428,
     "end_time": "2021-04-26T22:19:15.911906",
     "exception": false,
     "start_time": "2021-04-26T22:19:15.901478",
     "status": "completed"
    },
    "tags": []
   },
   "source": [
    "## Figure 1: Cummulative number of positive cases."
   ]
  },
  {
   "cell_type": "code",
   "execution_count": 7,
   "id": "surrounded-reserve",
   "metadata": {
    "execution": {
     "iopub.execute_input": "2021-04-26T22:19:15.965132Z",
     "iopub.status.busy": "2021-04-26T22:19:15.936837Z",
     "iopub.status.idle": "2021-04-26T22:19:16.133993Z",
     "shell.execute_reply": "2021-04-26T22:19:16.133520Z"
    },
    "jupyter": {
     "source_hidden": true
    },
    "papermill": {
     "duration": 0.211856,
     "end_time": "2021-04-26T22:19:16.134123",
     "exception": false,
     "start_time": "2021-04-26T22:19:15.922267",
     "status": "completed"
    },
    "scrolled": false,
    "tags": [
     "hide-input"
    ]
   },
   "outputs": [
    {
     "data": {
      "image/png": "[encoded data removed]",
      "text/plain": [
       "<Figure size 864x432 with 1 Axes>"
      ]
     },
     "metadata": {
      "needs_background": "light"
     },
     "output_type": "display_data"
    }
   ],
   "source": [
    "dc.plot(kind='line',x='DATE',y='7_DAY',color='blue',grid='True',figsize=(12,6)).set_xlabel('Date');"
   ]
  },
  {
   "cell_type": "markdown",
   "id": "professional-savannah",
   "metadata": {
    "papermill": {
     "duration": 0.011521,
     "end_time": "2021-04-26T22:19:16.157526",
     "exception": false,
     "start_time": "2021-04-26T22:19:16.146005",
     "status": "completed"
    },
    "tags": []
   },
   "source": [
    "## Figure 2: Rolling 7-day average of daily new cases."
   ]
  },
  {
   "cell_type": "code",
   "execution_count": 8,
   "id": "stretch-investor",
   "metadata": {
    "execution": {
     "iopub.execute_input": "2021-04-26T22:19:16.203786Z",
     "iopub.status.busy": "2021-04-26T22:19:16.185197Z",
     "iopub.status.idle": "2021-04-26T22:19:16.383015Z",
     "shell.execute_reply": "2021-04-26T22:19:16.382130Z"
    },
    "jupyter": {
     "source_hidden": true
    },
    "papermill": {
     "duration": 0.21412,
     "end_time": "2021-04-26T22:19:16.383166",
     "exception": false,
     "start_time": "2021-04-26T22:19:16.169046",
     "status": "completed"
    },
    "tags": []
   },
   "outputs": [
    {
     "data": {
      "image/png": "[encoded data removed]",
      "text/plain": [
       "<Figure size 864x432 with 1 Axes>"
      ]
     },
     "metadata": {
      "needs_background": "light"
     },
     "output_type": "display_data"
    }
   ],
   "source": [
    "dc.plot(kind='line',x='DATE',y='14_DAY',color='green',grid='True',figsize=(12,6)).set_xlabel('Date');"
   ]
  },
  {
   "cell_type": "markdown",
   "id": "prerequisite-species",
   "metadata": {
    "papermill": {
     "duration": 0.0129,
     "end_time": "2021-04-26T22:19:16.409120",
     "exception": false,
     "start_time": "2021-04-26T22:19:16.396220",
     "status": "completed"
    },
    "tags": []
   },
   "source": [
    "## Figure 3: Rolling 14-day average of daily new cases."
   ]
  },
  {
   "cell_type": "markdown",
   "id": "palestinian-guard",
   "metadata": {
    "papermill": {
     "duration": 0.012488,
     "end_time": "2021-04-26T22:19:16.434163",
     "exception": false,
     "start_time": "2021-04-26T22:19:16.421675",
     "status": "completed"
    },
    "tags": []
   },
   "source": [
    "Data source: [Wisconsin Department of Health Services](https://data.dhsgis.wi.gov/datasets/covid-19-historical-data-by-county)"
   ]
  },
  {
   "cell_type": "code",
   "execution_count": 9,
   "id": "proof-medicare",
   "metadata": {
    "execution": {
     "iopub.execute_input": "2021-04-26T22:19:16.466608Z",
     "iopub.status.busy": "2021-04-26T22:19:16.464565Z",
     "iopub.status.idle": "2021-04-26T22:19:16.468635Z",
     "shell.execute_reply": "2021-04-26T22:19:16.468163Z"
    },
    "jupyter": {
     "source_hidden": true
    },
    "papermill": {
     "duration": 0.022029,
     "end_time": "2021-04-26T22:19:16.468756",
     "exception": false,
     "start_time": "2021-04-26T22:19:16.446727",
     "status": "completed"
    },
    "tags": []
   },
   "outputs": [
    {
     "data": {
      "text/html": [
       "<style>\n",
       "div.input {\n",
       "    display:none;\n",
       "}\n",
       "</style>\n"
      ],
      "text/plain": [
       "<IPython.core.display.HTML object>"
      ]
     },
     "metadata": {},
     "output_type": "display_data"
    }
   ],
   "source": [
    "%%html\n",
    "<style>\n",
    "div.input {\n",
    "    display:none;\n",
    "}\n",
    "</style>"
   ]
  }
 ],
 "metadata": {
  "kernelspec": {
   "display_name": "Python 3",
   "language": "python",
   "name": "python3"
  },
  "language_info": {
   "codemirror_mode": {
    "name": "ipython",
    "version": 3
   },
   "file_extension": ".py",
   "mimetype": "text/x-python",
   "name": "python",
   "nbconvert_exporter": "python",
   "pygments_lexer": "ipython3",
   "version": "3.8.9"
  },
  "papermill": {
   "duration": 4.620491,
   "end_time": "2021-04-26T22:19:16.892026",
   "environment_variables": {},
   "exception": null,
   "input_path": "DunnCounty_COVID19.ipynb",
   "output_path": "DunnCounty_COVID19.ipynb",
   "parameters": {
    "Start": "True",
    "secretsPath": "/home/runner/work/_temp/secrets.json"
   },
   "start_time": "2021-04-26T22:19:12.271535",
   "version": "1.1.16"
  }
 },
 "nbformat": 4,
 "nbformat_minor": 5
}