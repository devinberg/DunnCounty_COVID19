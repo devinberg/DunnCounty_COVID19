{
 "cells": [
  {
   "cell_type": "code",
   "execution_count": 1,
   "id": "solar-understanding",
   "metadata": {
    "execution": {
     "iopub.execute_input": "2021-02-04T22:13:06.108546Z",
     "iopub.status.busy": "2021-02-04T22:13:06.108114Z",
     "iopub.status.idle": "2021-02-04T22:13:07.062621Z",
     "shell.execute_reply": "2021-02-04T22:13:07.062076Z"
    },
    "jupyter": {
     "source_hidden": true
    },
    "papermill": {
     "duration": 0.970629,
     "end_time": "2021-02-04T22:13:07.062796",
     "exception": false,
     "start_time": "2021-02-04T22:13:06.092167",
     "status": "completed"
    },
    "scrolled": true,
    "tags": [
     "hide-input"
    ]
   },
   "outputs": [],
   "source": [
    "import pandas as pd\n",
    "import matplotlib.pyplot as plt\n",
    "from matplotlib import dates\n",
    "from IPython.display import display, Markdown\n",
    "%matplotlib inline"
   ]
  },
  {
   "cell_type": "code",
   "execution_count": 2,
   "id": "purple-playlist",
   "metadata": {
    "execution": {
     "iopub.execute_input": "2021-02-04T22:13:07.083952Z",
     "iopub.status.busy": "2021-02-04T22:13:07.083472Z",
     "iopub.status.idle": "2021-02-04T22:13:08.078786Z",
     "shell.execute_reply": "2021-02-04T22:13:08.078332Z"
    },
    "jupyter": {
     "source_hidden": true
    },
    "papermill": {
     "duration": 1.008006,
     "end_time": "2021-02-04T22:13:08.078915",
     "exception": false,
     "start_time": "2021-02-04T22:13:07.070909",
     "status": "completed"
    },
    "scrolled": true,
    "tags": [
     "hide-input"
    ]
   },
   "outputs": [],
   "source": [
    "# This is the data for all of Wisconsin.\n",
    "url = \"https://opendata.arcgis.com/datasets/5374188992374b318d3e2305216ee413_12.csv\"\n",
    "data = pd.read_csv(url, parse_dates=['DATE'], low_memory=False)"
   ]
  },
  {
   "cell_type": "code",
   "execution_count": 3,
   "id": "proprietary-klein",
   "metadata": {
    "execution": {
     "iopub.execute_input": "2021-02-04T22:13:08.102645Z",
     "iopub.status.busy": "2021-02-04T22:13:08.102153Z",
     "iopub.status.idle": "2021-02-04T22:13:08.112228Z",
     "shell.execute_reply": "2021-02-04T22:13:08.112585Z"
    },
    "jupyter": {
     "source_hidden": true
    },
    "papermill": {
     "duration": 0.025643,
     "end_time": "2021-02-04T22:13:08.112733",
     "exception": false,
     "start_time": "2021-02-04T22:13:08.087090",
     "status": "completed"
    },
    "scrolled": true,
    "tags": [
     "hide-input"
    ]
   },
   "outputs": [],
   "source": [
    "dc = data.groupby('NAME').get_group('Dunn').sort_values(by='DATE') # Select the data for Dunn County from the full data.\n",
    "PNi = dc.columns.get_loc(\"POS_NEW\")\n",
    "dc['7_DAY'] = dc.iloc[:,PNi].rolling(window=7).mean() # Calculates the rolling 7-day average of new cases.\n",
    "dc['14_DAY'] = dc.iloc[:,PNi].rolling(window=14).mean() # Calculates the rolling 14-day average of new cases."
   ]
  },
  {
   "cell_type": "code",
   "execution_count": 4,
   "id": "steady-supervision",
   "metadata": {
    "execution": {
     "iopub.execute_input": "2021-02-04T22:13:08.134499Z",
     "iopub.status.busy": "2021-02-04T22:13:08.133943Z",
     "iopub.status.idle": "2021-02-04T22:13:08.136045Z",
     "shell.execute_reply": "2021-02-04T22:13:08.136473Z"
    },
    "jupyter": {
     "source_hidden": true
    },
    "papermill": {
     "duration": 0.016222,
     "end_time": "2021-02-04T22:13:08.136625",
     "exception": false,
     "start_time": "2021-02-04T22:13:08.120403",
     "status": "completed"
    },
    "scrolled": true,
    "tags": [
     "hide-input"
    ]
   },
   "outputs": [
    {
     "data": {
      "text/markdown": [
       "### Last updated: February 04, 2021"
      ],
      "text/plain": [
       "<IPython.core.display.Markdown object>"
      ]
     },
     "metadata": {},
     "output_type": "display_data"
    }
   ],
   "source": [
    "display(Markdown('### Last updated: ' + dc.iloc[-1]['DATE'].strftime(\"%B %d, %Y\")))"
   ]
  },
  {
   "cell_type": "code",
   "execution_count": 5,
   "id": "lonely-pitch",
   "metadata": {
    "execution": {
     "iopub.execute_input": "2021-02-04T22:13:08.161371Z",
     "iopub.status.busy": "2021-02-04T22:13:08.160859Z",
     "iopub.status.idle": "2021-02-04T22:13:08.163894Z",
     "shell.execute_reply": "2021-02-04T22:13:08.163507Z"
    },
    "jupyter": {
     "source_hidden": true
    },
    "papermill": {
     "duration": 0.01643,
     "end_time": "2021-02-04T22:13:08.164009",
     "exception": false,
     "start_time": "2021-02-04T22:13:08.147579",
     "status": "completed"
    },
    "tags": [
     "hide-input"
    ]
   },
   "outputs": [
    {
     "data": {
      "text/markdown": [
       "# Dunn County has 4117 total positive cases, with 21 new cases reported today."
      ],
      "text/plain": [
       "<IPython.core.display.Markdown object>"
      ]
     },
     "metadata": {},
     "output_type": "display_data"
    }
   ],
   "source": [
    "display(Markdown('# Dunn County has ' + str(dc.iloc[-1]['POSITIVE']) + ' total positive cases, with '+ str(int(dc.iloc[-1]['POS_NEW'])) + ' new cases reported today.'))"
   ]
  },
  {
   "cell_type": "code",
   "execution_count": 6,
   "id": "compound-nightmare",
   "metadata": {
    "execution": {
     "iopub.execute_input": "2021-02-04T22:13:08.184764Z",
     "iopub.status.busy": "2021-02-04T22:13:08.184277Z",
     "iopub.status.idle": "2021-02-04T22:13:08.452868Z",
     "shell.execute_reply": "2021-02-04T22:13:08.453254Z"
    },
    "jupyter": {
     "source_hidden": true
    },
    "papermill": {
     "duration": 0.281148,
     "end_time": "2021-02-04T22:13:08.453438",
     "exception": false,
     "start_time": "2021-02-04T22:13:08.172290",
     "status": "completed"
    },
    "scrolled": false,
    "tags": [
     "hide-input"
    ]
   },
   "outputs": [
    {
     "data": {
      "image/png": "[encoded data removed]",
      "text/plain": [
       "<Figure size 864x432 with 1 Axes>"
      ]
     },
     "metadata": {
      "needs_background": "light"
     },
     "output_type": "display_data"
    }
   ],
   "source": [
    "dc.plot(x='DATE',y='POSITIVE',color='red',grid='True',figsize=(12,6)).set_xlabel('Date');"
   ]
  },
  {
   "cell_type": "markdown",
   "id": "coupled-literacy",
   "metadata": {
    "papermill": {
     "duration": 0.015378,
     "end_time": "2021-02-04T22:13:08.478589",
     "exception": false,
     "start_time": "2021-02-04T22:13:08.463211",
     "status": "completed"
    },
    "tags": []
   },
   "source": [
    "## Figure 1: Cummulative number of positive cases."
   ]
  },
  {
   "cell_type": "code",
   "execution_count": 7,
   "id": "surrounded-reserve",
   "metadata": {
    "execution": {
     "iopub.execute_input": "2021-02-04T22:13:08.501965Z",
     "iopub.status.busy": "2021-02-04T22:13:08.501496Z",
     "iopub.status.idle": "2021-02-04T22:13:08.705442Z",
     "shell.execute_reply": "2021-02-04T22:13:08.705823Z"
    },
    "jupyter": {
     "source_hidden": true
    },
    "papermill": {
     "duration": 0.217568,
     "end_time": "2021-02-04T22:13:08.705981",
     "exception": false,
     "start_time": "2021-02-04T22:13:08.488413",
     "status": "completed"
    },
    "scrolled": false,
    "tags": [
     "hide-input"
    ]
   },
   "outputs": [
    {
     "data": {
      "image/png": "[encoded data removed]",
      "text/plain": [
       "<Figure size 864x432 with 1 Axes>"
      ]
     },
     "metadata": {
      "needs_background": "light"
     },
     "output_type": "display_data"
    }
   ],
   "source": [
    "dc.plot(kind='line',x='DATE',y='7_DAY',color='blue',grid='True',figsize=(12,6)).set_xlabel('Date');"
   ]
  },
  {
   "cell_type": "markdown",
   "id": "professional-savannah",
   "metadata": {
    "papermill": {
     "duration": 0.017477,
     "end_time": "2021-02-04T22:13:08.735644",
     "exception": false,
     "start_time": "2021-02-04T22:13:08.718167",
     "status": "completed"
    },
    "tags": []
   },
   "source": [
    "## Figure 2: Rolling 7-day average of daily new cases."
   ]
  },
  {
   "cell_type": "code",
   "execution_count": 8,
   "id": "stretch-investor",
   "metadata": {
    "execution": {
     "iopub.execute_input": "2021-02-04T22:13:08.760609Z",
     "iopub.status.busy": "2021-02-04T22:13:08.760133Z",
     "iopub.status.idle": "2021-02-04T22:13:08.981310Z",
     "shell.execute_reply": "2021-02-04T22:13:08.980889Z"
    },
    "jupyter": {
     "source_hidden": true
    },
    "papermill": {
     "duration": 0.235802,
     "end_time": "2021-02-04T22:13:08.981470",
     "exception": false,
     "start_time": "2021-02-04T22:13:08.745668",
     "status": "completed"
    },
    "tags": []
   },
   "outputs": [
    {
     "data": {
      "image/png": "[encoded data removed]",
      "text/plain": [
       "<Figure size 864x432 with 1 Axes>"
      ]
     },
     "metadata": {
      "needs_background": "light"
     },
     "output_type": "display_data"
    }
   ],
   "source": [
    "dc.plot(kind='line',x='DATE',y='14_DAY',color='green',grid='True',figsize=(12,6)).set_xlabel('Date');"
   ]
  },
  {
   "cell_type": "markdown",
   "id": "prerequisite-species",
   "metadata": {
    "papermill": {
     "duration": 0.011076,
     "end_time": "2021-02-04T22:13:09.003686",
     "exception": false,
     "start_time": "2021-02-04T22:13:08.992610",
     "status": "completed"
    },
    "tags": []
   },
   "source": [
    "## Figure 3: Rolling 14-day average of daily new cases."
   ]
  },
  {
   "cell_type": "markdown",
   "id": "palestinian-guard",
   "metadata": {
    "papermill": {
     "duration": 0.010816,
     "end_time": "2021-02-04T22:13:09.025327",
     "exception": false,
     "start_time": "2021-02-04T22:13:09.014511",
     "status": "completed"
    },
    "tags": []
   },
   "source": [
    "Data source: [Wisconsin Department of Health Services](https://data.dhsgis.wi.gov/datasets/covid-19-historical-data-table/)"
   ]
  },
  {
   "cell_type": "code",
   "execution_count": 9,
   "id": "proof-medicare",
   "metadata": {
    "execution": {
     "iopub.execute_input": "2021-02-04T22:13:09.051175Z",
     "iopub.status.busy": "2021-02-04T22:13:09.050705Z",
     "iopub.status.idle": "2021-02-04T22:13:09.053521Z",
     "shell.execute_reply": "2021-02-04T22:13:09.053923Z"
    },
    "jupyter": {
     "source_hidden": true
    },
    "papermill": {
     "duration": 0.017931,
     "end_time": "2021-02-04T22:13:09.054062",
     "exception": false,
     "start_time": "2021-02-04T22:13:09.036131",
     "status": "completed"
    },
    "tags": []
   },
   "outputs": [
    {
     "data": {
      "text/html": [
       "<style>\n",
       "div.input {\n",
       "    display:none;\n",
       "}\n",
       "</style>\n"
      ],
      "text/plain": [
       "<IPython.core.display.HTML object>"
      ]
     },
     "metadata": {},
     "output_type": "display_data"
    }
   ],
   "source": [
    "%%html\n",
    "<style>\n",
    "div.input {\n",
    "    display:none;\n",
    "}\n",
    "</style>"
   ]
  }
 ],
 "metadata": {
  "kernelspec": {
   "display_name": "Python 3",
   "language": "python",
   "name": "python3"
  },
  "language_info": {
   "codemirror_mode": {
    "name": "ipython",
    "version": 3
   },
   "file_extension": ".py",
   "mimetype": "text/x-python",
   "name": "python",
   "nbconvert_exporter": "python",
   "pygments_lexer": "ipython3",
   "version": "3.8.7"
  },
  "papermill": {
   "duration": 4.945588,
   "end_time": "2021-02-04T22:13:09.371321",
   "environment_variables": {},
   "exception": null,
   "input_path": "DunnCounty_COVID19.ipynb",
   "output_path": "DunnCounty_COVID19.ipynb",
   "parameters": {
    "Start": "True",
    "secretsPath": "/home/runner/work/_temp/secrets.json"
   },
   "start_time": "2021-02-04T22:13:04.425733",
   "version": "1.1.16"
  }
 },
 "nbformat": 4,
 "nbformat_minor": 5
}