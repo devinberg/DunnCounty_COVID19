{
 "cells": [
  {
   "cell_type": "code",
   "execution_count": 1,
   "id": "solar-understanding",
   "metadata": {
    "execution": {
     "iopub.execute_input": "2021-04-05T22:18:15.582599Z",
     "iopub.status.busy": "2021-04-05T22:18:15.582107Z",
     "iopub.status.idle": "2021-04-05T22:18:17.946487Z",
     "shell.execute_reply": "2021-04-05T22:18:17.945832Z"
    },
    "jupyter": {
     "source_hidden": true
    },
    "papermill": {
     "duration": 2.380288,
     "end_time": "2021-04-05T22:18:17.946624",
     "exception": false,
     "start_time": "2021-04-05T22:18:15.566336",
     "status": "completed"
    },
    "scrolled": true,
    "tags": [
     "hide-input"
    ]
   },
   "outputs": [],
   "source": [
    "import pandas as pd\n",
    "import matplotlib.pyplot as plt\n",
    "from matplotlib import dates\n",
    "from IPython.display import display, Markdown\n",
    "%matplotlib inline"
   ]
  },
  {
   "cell_type": "code",
   "execution_count": 2,
   "id": "purple-playlist",
   "metadata": {
    "execution": {
     "iopub.execute_input": "2021-04-05T22:18:17.968278Z",
     "iopub.status.busy": "2021-04-05T22:18:17.967793Z",
     "iopub.status.idle": "2021-04-05T22:18:18.620982Z",
     "shell.execute_reply": "2021-04-05T22:18:18.620502Z"
    },
    "jupyter": {
     "source_hidden": true
    },
    "papermill": {
     "duration": 0.665272,
     "end_time": "2021-04-05T22:18:18.621106",
     "exception": false,
     "start_time": "2021-04-05T22:18:17.955834",
     "status": "completed"
    },
    "scrolled": true,
    "tags": [
     "hide-input"
    ]
   },
   "outputs": [],
   "source": [
    "# This is the data for all of Wisconsin.\n",
    "url = \"https://opendata.arcgis.com/datasets/5374188992374b318d3e2305216ee413_12.csv\"\n",
    "data = pd.read_csv(url, parse_dates=['DATE'], low_memory=False)"
   ]
  },
  {
   "cell_type": "code",
   "execution_count": 3,
   "id": "proprietary-klein",
   "metadata": {
    "execution": {
     "iopub.execute_input": "2021-04-05T22:18:18.643272Z",
     "iopub.status.busy": "2021-04-05T22:18:18.642730Z",
     "iopub.status.idle": "2021-04-05T22:18:18.651464Z",
     "shell.execute_reply": "2021-04-05T22:18:18.650967Z"
    },
    "jupyter": {
     "source_hidden": true
    },
    "papermill": {
     "duration": 0.022245,
     "end_time": "2021-04-05T22:18:18.651601",
     "exception": false,
     "start_time": "2021-04-05T22:18:18.629356",
     "status": "completed"
    },
    "scrolled": true,
    "tags": [
     "hide-input"
    ]
   },
   "outputs": [],
   "source": [
    "dc = data.groupby('NAME').get_group('Dunn').sort_values(by='DATE') # Select the data for Dunn County from the full data.\n",
    "PNi = dc.columns.get_loc(\"POS_NEW\")\n",
    "dc['7_DAY'] = dc.iloc[:,PNi].rolling(window=7).mean() # Calculates the rolling 7-day average of new cases.\n",
    "dc['14_DAY'] = dc.iloc[:,PNi].rolling(window=14).mean() # Calculates the rolling 14-day average of new cases."
   ]
  },
  {
   "cell_type": "code",
   "execution_count": 4,
   "id": "steady-supervision",
   "metadata": {
    "execution": {
     "iopub.execute_input": "2021-04-05T22:18:18.673221Z",
     "iopub.status.busy": "2021-04-05T22:18:18.672678Z",
     "iopub.status.idle": "2021-04-05T22:18:18.676999Z",
     "shell.execute_reply": "2021-04-05T22:18:18.677394Z"
    },
    "jupyter": {
     "source_hidden": true
    },
    "papermill": {
     "duration": 0.018426,
     "end_time": "2021-04-05T22:18:18.677533",
     "exception": false,
     "start_time": "2021-04-05T22:18:18.659107",
     "status": "completed"
    },
    "scrolled": true,
    "tags": [
     "hide-input"
    ]
   },
   "outputs": [
    {
     "data": {
      "text/markdown": [
       "### Last updated: April 05, 2021"
      ],
      "text/plain": [
       "<IPython.core.display.Markdown object>"
      ]
     },
     "metadata": {},
     "output_type": "display_data"
    }
   ],
   "source": [
    "display(Markdown('### Last updated: ' + dc.iloc[-1]['DATE'].strftime(\"%B %d, %Y\")))"
   ]
  },
  {
   "cell_type": "code",
   "execution_count": 5,
   "id": "lonely-pitch",
   "metadata": {
    "execution": {
     "iopub.execute_input": "2021-04-05T22:18:18.699325Z",
     "iopub.status.busy": "2021-04-05T22:18:18.698830Z",
     "iopub.status.idle": "2021-04-05T22:18:18.701336Z",
     "shell.execute_reply": "2021-04-05T22:18:18.701867Z"
    },
    "jupyter": {
     "source_hidden": true
    },
    "papermill": {
     "duration": 0.015973,
     "end_time": "2021-04-05T22:18:18.702002",
     "exception": false,
     "start_time": "2021-04-05T22:18:18.686029",
     "status": "completed"
    },
    "tags": [
     "hide-input"
    ]
   },
   "outputs": [
    {
     "data": {
      "text/markdown": [
       "# Dunn County has 4423 total positive cases, with 0 new cases reported today."
      ],
      "text/plain": [
       "<IPython.core.display.Markdown object>"
      ]
     },
     "metadata": {},
     "output_type": "display_data"
    }
   ],
   "source": [
    "display(Markdown('# Dunn County has ' + str(dc.iloc[-1]['POSITIVE']) + ' total positive cases, with '+ str(int(dc.iloc[-1]['POS_NEW'])) + ' new cases reported today.'))"
   ]
  },
  {
   "cell_type": "code",
   "execution_count": 6,
   "id": "compound-nightmare",
   "metadata": {
    "execution": {
     "iopub.execute_input": "2021-04-05T22:18:18.722033Z",
     "iopub.status.busy": "2021-04-05T22:18:18.721535Z",
     "iopub.status.idle": "2021-04-05T22:18:18.961965Z",
     "shell.execute_reply": "2021-04-05T22:18:18.961529Z"
    },
    "jupyter": {
     "source_hidden": true
    },
    "papermill": {
     "duration": 0.251824,
     "end_time": "2021-04-05T22:18:18.962075",
     "exception": false,
     "start_time": "2021-04-05T22:18:18.710251",
     "status": "completed"
    },
    "scrolled": false,
    "tags": [
     "hide-input"
    ]
   },
   "outputs": [
    {
     "data": {
      "image/png": "[encoded data removed]",
      "text/plain": [
       "<Figure size 864x432 with 1 Axes>"
      ]
     },
     "metadata": {
      "needs_background": "light"
     },
     "output_type": "display_data"
    }
   ],
   "source": [
    "dc.plot(x='DATE',y='POSITIVE',color='red',grid='True',figsize=(12,6)).set_xlabel('Date');"
   ]
  },
  {
   "cell_type": "markdown",
   "id": "coupled-literacy",
   "metadata": {
    "papermill": {
     "duration": 0.008989,
     "end_time": "2021-04-05T22:18:18.979628",
     "exception": false,
     "start_time": "2021-04-05T22:18:18.970639",
     "status": "completed"
    },
    "tags": []
   },
   "source": [
    "## Figure 1: Cummulative number of positive cases."
   ]
  },
  {
   "cell_type": "code",
   "execution_count": 7,
   "id": "surrounded-reserve",
   "metadata": {
    "execution": {
     "iopub.execute_input": "2021-04-05T22:18:19.000476Z",
     "iopub.status.busy": "2021-04-05T22:18:18.999997Z",
     "iopub.status.idle": "2021-04-05T22:18:19.183985Z",
     "shell.execute_reply": "2021-04-05T22:18:19.183517Z"
    },
    "jupyter": {
     "source_hidden": true
    },
    "papermill": {
     "duration": 0.195917,
     "end_time": "2021-04-05T22:18:19.184084",
     "exception": false,
     "start_time": "2021-04-05T22:18:18.988167",
     "status": "completed"
    },
    "scrolled": false,
    "tags": [
     "hide-input"
    ]
   },
   "outputs": [
    {
     "data": {
      "image/png": "[encoded data removed]",
      "text/plain": [
       "<Figure size 864x432 with 1 Axes>"
      ]
     },
     "metadata": {
      "needs_background": "light"
     },
     "output_type": "display_data"
    }
   ],
   "source": [
    "dc.plot(kind='line',x='DATE',y='7_DAY',color='blue',grid='True',figsize=(12,6)).set_xlabel('Date');"
   ]
  },
  {
   "cell_type": "markdown",
   "id": "professional-savannah",
   "metadata": {
    "papermill": {
     "duration": 0.009684,
     "end_time": "2021-04-05T22:18:19.202835",
     "exception": false,
     "start_time": "2021-04-05T22:18:19.193151",
     "status": "completed"
    },
    "tags": []
   },
   "source": [
    "## Figure 2: Rolling 7-day average of daily new cases."
   ]
  },
  {
   "cell_type": "code",
   "execution_count": 8,
   "id": "stretch-investor",
   "metadata": {
    "execution": {
     "iopub.execute_input": "2021-04-05T22:18:19.225511Z",
     "iopub.status.busy": "2021-04-05T22:18:19.225058Z",
     "iopub.status.idle": "2021-04-05T22:18:19.404211Z",
     "shell.execute_reply": "2021-04-05T22:18:19.404640Z"
    },
    "jupyter": {
     "source_hidden": true
    },
    "papermill": {
     "duration": 0.192144,
     "end_time": "2021-04-05T22:18:19.404771",
     "exception": false,
     "start_time": "2021-04-05T22:18:19.212627",
     "status": "completed"
    },
    "tags": []
   },
   "outputs": [
    {
     "data": {
      "image/png": "[encoded data removed]",
      "text/plain": [
       "<Figure size 864x432 with 1 Axes>"
      ]
     },
     "metadata": {
      "needs_background": "light"
     },
     "output_type": "display_data"
    }
   ],
   "source": [
    "dc.plot(kind='line',x='DATE',y='14_DAY',color='green',grid='True',figsize=(12,6)).set_xlabel('Date');"
   ]
  },
  {
   "cell_type": "markdown",
   "id": "prerequisite-species",
   "metadata": {
    "papermill": {
     "duration": 0.010212,
     "end_time": "2021-04-05T22:18:19.425483",
     "exception": false,
     "start_time": "2021-04-05T22:18:19.415271",
     "status": "completed"
    },
    "tags": []
   },
   "source": [
    "## Figure 3: Rolling 14-day average of daily new cases."
   ]
  },
  {
   "cell_type": "markdown",
   "id": "palestinian-guard",
   "metadata": {
    "papermill": {
     "duration": 0.010783,
     "end_time": "2021-04-05T22:18:19.447133",
     "exception": false,
     "start_time": "2021-04-05T22:18:19.436350",
     "status": "completed"
    },
    "tags": []
   },
   "source": [
    "Data source: [Wisconsin Department of Health Services](https://data.dhsgis.wi.gov/datasets/covid-19-historical-data-table/)"
   ]
  },
  {
   "cell_type": "code",
   "execution_count": 9,
   "id": "proof-medicare",
   "metadata": {
    "execution": {
     "iopub.execute_input": "2021-04-05T22:18:19.472863Z",
     "iopub.status.busy": "2021-04-05T22:18:19.472377Z",
     "iopub.status.idle": "2021-04-05T22:18:19.474996Z",
     "shell.execute_reply": "2021-04-05T22:18:19.474554Z"
    },
    "jupyter": {
     "source_hidden": true
    },
    "papermill": {
     "duration": 0.017419,
     "end_time": "2021-04-05T22:18:19.475098",
     "exception": false,
     "start_time": "2021-04-05T22:18:19.457679",
     "status": "completed"
    },
    "tags": []
   },
   "outputs": [
    {
     "data": {
      "text/html": [
       "<style>\n",
       "div.input {\n",
       "    display:none;\n",
       "}\n",
       "</style>\n"
      ],
      "text/plain": [
       "<IPython.core.display.HTML object>"
      ]
     },
     "metadata": {},
     "output_type": "display_data"
    }
   ],
   "source": [
    "%%html\n",
    "<style>\n",
    "div.input {\n",
    "    display:none;\n",
    "}\n",
    "</style>"
   ]
  }
 ],
 "metadata": {
  "kernelspec": {
   "display_name": "Python 3",
   "language": "python",
   "name": "python3"
  },
  "language_info": {
   "codemirror_mode": {
    "name": "ipython",
    "version": 3
   },
   "file_extension": ".py",
   "mimetype": "text/x-python",
   "name": "python",
   "nbconvert_exporter": "python",
   "pygments_lexer": "ipython3",
   "version": "3.8.8"
  },
  "papermill": {
   "duration": 5.648737,
   "end_time": "2021-04-05T22:18:19.791573",
   "environment_variables": {},
   "exception": null,
   "input_path": "DunnCounty_COVID19.ipynb",
   "output_path": "DunnCounty_COVID19.ipynb",
   "parameters": {
    "Start": "True",
    "secretsPath": "/home/runner/work/_temp/secrets.json"
   },
   "start_time": "2021-04-05T22:18:14.142836",
   "version": "1.1.16"
  }
 },
 "nbformat": 4,
 "nbformat_minor": 5
}