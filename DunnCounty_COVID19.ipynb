{
 "cells": [
  {
   "cell_type": "code",
   "execution_count": 1,
   "metadata": {
    "execution": {
     "iopub.execute_input": "2020-11-03T10:15:59.866782Z",
     "iopub.status.busy": "2020-11-03T10:15:59.866231Z",
     "iopub.status.idle": "2020-11-03T10:16:03.786018Z",
     "shell.execute_reply": "2020-11-03T10:16:03.786588Z"
    },
    "jupyter": {
     "source_hidden": true
    },
    "papermill": {
     "duration": 3.937095,
     "end_time": "2020-11-03T10:16:03.786939",
     "exception": false,
     "start_time": "2020-11-03T10:15:59.849844",
     "status": "completed"
    },
    "scrolled": true,
    "tags": [
     "hide-input"
    ]
   },
   "outputs": [],
   "source": [
    "import pandas as pd\n",
    "import matplotlib.pyplot as plt\n",
    "from matplotlib import dates\n",
    "from IPython.display import display, Markdown\n",
    "%matplotlib inline"
   ]
  },
  {
   "cell_type": "code",
   "execution_count": 2,
   "metadata": {
    "execution": {
     "iopub.execute_input": "2020-11-03T10:16:03.811056Z",
     "iopub.status.busy": "2020-11-03T10:16:03.810530Z",
     "iopub.status.idle": "2020-11-03T10:16:04.854964Z",
     "shell.execute_reply": "2020-11-03T10:16:04.854144Z"
    },
    "jupyter": {
     "source_hidden": true
    },
    "papermill": {
     "duration": 1.058935,
     "end_time": "2020-11-03T10:16:04.855179",
     "exception": false,
     "start_time": "2020-11-03T10:16:03.796244",
     "status": "completed"
    },
    "scrolled": true,
    "tags": [
     "hide-input"
    ]
   },
   "outputs": [],
   "source": [
    "# This is the data for all of Wisconsin.\n",
    "url = \"https://opendata.arcgis.com/datasets/5374188992374b318d3e2305216ee413_12.csv\"\n",
    "data = pd.read_csv(url, parse_dates=['DATE'], low_memory=False)"
   ]
  },
  {
   "cell_type": "code",
   "execution_count": 3,
   "metadata": {
    "execution": {
     "iopub.execute_input": "2020-11-03T10:16:04.874626Z",
     "iopub.status.busy": "2020-11-03T10:16:04.874115Z",
     "iopub.status.idle": "2020-11-03T10:16:04.882199Z",
     "shell.execute_reply": "2020-11-03T10:16:04.881747Z"
    },
    "jupyter": {
     "source_hidden": true
    },
    "papermill": {
     "duration": 0.020143,
     "end_time": "2020-11-03T10:16:04.882324",
     "exception": false,
     "start_time": "2020-11-03T10:16:04.862181",
     "status": "completed"
    },
    "scrolled": true,
    "tags": [
     "hide-input"
    ]
   },
   "outputs": [],
   "source": [
    "dc = data.groupby('NAME').get_group('Dunn').sort_values(by='DATE') # Select the data for Dunn County from the full data.\n",
    "PNi = dc.columns.get_loc(\"POS_NEW\")\n",
    "dc['7_DAY'] = dc.iloc[:,PNi].rolling(window=7).mean() # Calculates the rolling 7-day average of new cases.\n",
    "dc['14_DAY'] = dc.iloc[:,PNi].rolling(window=14).mean() # Calculates the rolling 14-day average of new cases."
   ]
  },
  {
   "cell_type": "code",
   "execution_count": 4,
   "metadata": {
    "execution": {
     "iopub.execute_input": "2020-11-03T10:16:04.901297Z",
     "iopub.status.busy": "2020-11-03T10:16:04.900764Z",
     "iopub.status.idle": "2020-11-03T10:16:04.903346Z",
     "shell.execute_reply": "2020-11-03T10:16:04.903744Z"
    },
    "jupyter": {
     "source_hidden": true
    },
    "papermill": {
     "duration": 0.014958,
     "end_time": "2020-11-03T10:16:04.903865",
     "exception": false,
     "start_time": "2020-11-03T10:16:04.888907",
     "status": "completed"
    },
    "scrolled": true,
    "tags": [
     "hide-input"
    ]
   },
   "outputs": [
    {
     "data": {
      "text/markdown": [
       "### Last updated: November 02, 2020"
      ],
      "text/plain": [
       "<IPython.core.display.Markdown object>"
      ]
     },
     "metadata": {},
     "output_type": "display_data"
    }
   ],
   "source": [
    "display(Markdown('### Last updated: ' + dc.iloc[-1]['DATE'].strftime(\"%B %d, %Y\")))"
   ]
  },
  {
   "cell_type": "code",
   "execution_count": 5,
   "metadata": {
    "execution": {
     "iopub.execute_input": "2020-11-03T10:16:04.924889Z",
     "iopub.status.busy": "2020-11-03T10:16:04.924359Z",
     "iopub.status.idle": "2020-11-03T10:16:04.928660Z",
     "shell.execute_reply": "2020-11-03T10:16:04.929112Z"
    },
    "jupyter": {
     "source_hidden": true
    },
    "papermill": {
     "duration": 0.018473,
     "end_time": "2020-11-03T10:16:04.929241",
     "exception": false,
     "start_time": "2020-11-03T10:16:04.910768",
     "status": "completed"
    },
    "tags": [
     "hide-input"
    ]
   },
   "outputs": [
    {
     "data": {
      "text/markdown": [
       "# Dunn County has 1245 total positive cases, with 52 new cases reported today."
      ],
      "text/plain": [
       "<IPython.core.display.Markdown object>"
      ]
     },
     "metadata": {},
     "output_type": "display_data"
    }
   ],
   "source": [
    "display(Markdown('# Dunn County has ' + str(dc.iloc[-1]['POSITIVE']) + ' total positive cases, with '+ str(int(dc.iloc[-1]['POS_NEW'])) + ' new cases reported today.'))"
   ]
  },
  {
   "cell_type": "code",
   "execution_count": 6,
   "metadata": {
    "execution": {
     "iopub.execute_input": "2020-11-03T10:16:04.950294Z",
     "iopub.status.busy": "2020-11-03T10:16:04.949763Z",
     "iopub.status.idle": "2020-11-03T10:16:05.166229Z",
     "shell.execute_reply": "2020-11-03T10:16:05.165523Z"
    },
    "jupyter": {
     "source_hidden": true
    },
    "papermill": {
     "duration": 0.22982,
     "end_time": "2020-11-03T10:16:05.166423",
     "exception": false,
     "start_time": "2020-11-03T10:16:04.936603",
     "status": "completed"
    },
    "scrolled": false,
    "tags": [
     "hide-input"
    ]
   },
   "outputs": [
    {
     "data": {
      "image/png": "[encoded data removed]",
      "text/plain": [
       "<Figure size 864x432 with 1 Axes>"
      ]
     },
     "metadata": {
      "needs_background": "light"
     },
     "output_type": "display_data"
    }
   ],
   "source": [
    "dc.plot(x='DATE',y='POSITIVE',color='red',grid='True',figsize=(12,6)).set_xlabel('Date');"
   ]
  },
  {
   "cell_type": "markdown",
   "metadata": {
    "papermill": {
     "duration": 0.008734,
     "end_time": "2020-11-03T10:16:05.185113",
     "exception": false,
     "start_time": "2020-11-03T10:16:05.176379",
     "status": "completed"
    },
    "tags": []
   },
   "source": [
    "## Figure 1: Cummulative number of positive cases."
   ]
  },
  {
   "cell_type": "code",
   "execution_count": 7,
   "metadata": {
    "execution": {
     "iopub.execute_input": "2020-11-03T10:16:05.208848Z",
     "iopub.status.busy": "2020-11-03T10:16:05.208227Z",
     "iopub.status.idle": "2020-11-03T10:16:05.404848Z",
     "shell.execute_reply": "2020-11-03T10:16:05.405260Z"
    },
    "jupyter": {
     "source_hidden": true
    },
    "papermill": {
     "duration": 0.212142,
     "end_time": "2020-11-03T10:16:05.405413",
     "exception": false,
     "start_time": "2020-11-03T10:16:05.193271",
     "status": "completed"
    },
    "scrolled": false,
    "tags": [
     "hide-input"
    ]
   },
   "outputs": [
    {
     "data": {
      "image/png": "[encoded data removed]",
      "text/plain": [
       "<Figure size 864x432 with 1 Axes>"
      ]
     },
     "metadata": {
      "needs_background": "light"
     },
     "output_type": "display_data"
    }
   ],
   "source": [
    "dc.plot(kind='line',x='DATE',y='7_DAY',color='blue',grid='True',figsize=(12,6)).set_xlabel('Date');"
   ]
  },
  {
   "cell_type": "markdown",
   "metadata": {
    "papermill": {
     "duration": 0.00992,
     "end_time": "2020-11-03T10:16:05.424842",
     "exception": false,
     "start_time": "2020-11-03T10:16:05.414922",
     "status": "completed"
    },
    "tags": []
   },
   "source": [
    "## Figure 2: Rolling 7-day average of daily new cases."
   ]
  },
  {
   "cell_type": "code",
   "execution_count": 8,
   "metadata": {
    "execution": {
     "iopub.execute_input": "2020-11-03T10:16:05.474509Z",
     "iopub.status.busy": "2020-11-03T10:16:05.473976Z",
     "iopub.status.idle": "2020-11-03T10:16:05.647138Z",
     "shell.execute_reply": "2020-11-03T10:16:05.647557Z"
    },
    "jupyter": {
     "source_hidden": true
    },
    "papermill": {
     "duration": 0.213277,
     "end_time": "2020-11-03T10:16:05.647721",
     "exception": false,
     "start_time": "2020-11-03T10:16:05.434444",
     "status": "completed"
    },
    "tags": []
   },
   "outputs": [
    {
     "data": {
      "image/png": "[encoded data removed]",
      "text/plain": [
       "<Figure size 864x432 with 1 Axes>"
      ]
     },
     "metadata": {
      "needs_background": "light"
     },
     "output_type": "display_data"
    }
   ],
   "source": [
    "dc.plot(kind='line',x='DATE',y='14_DAY',color='green',grid='True',figsize=(12,6)).set_xlabel('Date');"
   ]
  },
  {
   "cell_type": "markdown",
   "metadata": {
    "papermill": {
     "duration": 0.010371,
     "end_time": "2020-11-03T10:16:05.668202",
     "exception": false,
     "start_time": "2020-11-03T10:16:05.657831",
     "status": "completed"
    },
    "tags": []
   },
   "source": [
    "## Figure 3: Rolling 14-day average of daily new cases."
   ]
  },
  {
   "cell_type": "markdown",
   "metadata": {
    "papermill": {
     "duration": 0.009871,
     "end_time": "2020-11-03T10:16:05.688138",
     "exception": false,
     "start_time": "2020-11-03T10:16:05.678267",
     "status": "completed"
    },
    "tags": []
   },
   "source": [
    "Data source: [Wisconsin Department of Health Services](https://data.dhsgis.wi.gov/datasets/covid-19-historical-data-table/)"
   ]
  },
  {
   "cell_type": "code",
   "execution_count": 9,
   "metadata": {
    "execution": {
     "iopub.execute_input": "2020-11-03T10:16:05.715242Z",
     "iopub.status.busy": "2020-11-03T10:16:05.714708Z",
     "iopub.status.idle": "2020-11-03T10:16:05.718941Z",
     "shell.execute_reply": "2020-11-03T10:16:05.718509Z"
    },
    "jupyter": {
     "source_hidden": true
    },
    "papermill": {
     "duration": 0.020878,
     "end_time": "2020-11-03T10:16:05.719049",
     "exception": false,
     "start_time": "2020-11-03T10:16:05.698171",
     "status": "completed"
    },
    "tags": []
   },
   "outputs": [
    {
     "data": {
      "text/html": [
       "<style>\n",
       "div.input {\n",
       "    display:none;\n",
       "}\n",
       "</style>\n"
      ],
      "text/plain": [
       "<IPython.core.display.HTML object>"
      ]
     },
     "metadata": {},
     "output_type": "display_data"
    }
   ],
   "source": [
    "%%html\n",
    "<style>\n",
    "div.input {\n",
    "    display:none;\n",
    "}\n",
    "</style>"
   ]
  }
 ],
 "metadata": {
  "kernelspec": {
   "display_name": "Python 3",
   "language": "python",
   "name": "python3"
  },
  "language_info": {
   "codemirror_mode": {
    "name": "ipython",
    "version": 3
   },
   "file_extension": ".py",
   "mimetype": "text/x-python",
   "name": "python",
   "nbconvert_exporter": "python",
   "pygments_lexer": "ipython3",
   "version": "3.8.6"
  },
  "papermill": {
   "duration": 8.201526,
   "end_time": "2020-11-03T10:16:06.036699",
   "environment_variables": {},
   "exception": null,
   "input_path": "DunnCounty_COVID19.ipynb",
   "output_path": "DunnCounty_COVID19.ipynb",
   "parameters": {
    "Start": "True",
    "secretsPath": "/home/runner/work/_temp/secrets.json"
   },
   "start_time": "2020-11-03T10:15:57.835173",
   "version": "1.1.16"
  }
 },
 "nbformat": 4,
 "nbformat_minor": 2
}