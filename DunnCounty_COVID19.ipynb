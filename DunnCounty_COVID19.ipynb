{
 "cells": [
  {
   "cell_type": "code",
   "execution_count": 1,
   "id": "solar-understanding",
   "metadata": {
    "execution": {
     "iopub.execute_input": "2021-03-29T10:18:09.708100Z",
     "iopub.status.busy": "2021-03-29T10:18:09.707627Z",
     "iopub.status.idle": "2021-03-29T10:18:14.449053Z",
     "shell.execute_reply": "2021-03-29T10:18:14.448502Z"
    },
    "jupyter": {
     "source_hidden": true
    },
    "papermill": {
     "duration": 4.758934,
     "end_time": "2021-03-29T10:18:14.449210",
     "exception": false,
     "start_time": "2021-03-29T10:18:09.690276",
     "status": "completed"
    },
    "scrolled": true,
    "tags": [
     "hide-input"
    ]
   },
   "outputs": [],
   "source": [
    "import pandas as pd\n",
    "import matplotlib.pyplot as plt\n",
    "from matplotlib import dates\n",
    "from IPython.display import display, Markdown\n",
    "%matplotlib inline"
   ]
  },
  {
   "cell_type": "code",
   "execution_count": 2,
   "id": "purple-playlist",
   "metadata": {
    "execution": {
     "iopub.execute_input": "2021-03-29T10:18:14.470133Z",
     "iopub.status.busy": "2021-03-29T10:18:14.469647Z",
     "iopub.status.idle": "2021-03-29T10:18:15.126078Z",
     "shell.execute_reply": "2021-03-29T10:18:15.125580Z"
    },
    "jupyter": {
     "source_hidden": true
    },
    "papermill": {
     "duration": 0.668849,
     "end_time": "2021-03-29T10:18:15.126209",
     "exception": false,
     "start_time": "2021-03-29T10:18:14.457360",
     "status": "completed"
    },
    "scrolled": true,
    "tags": [
     "hide-input"
    ]
   },
   "outputs": [],
   "source": [
    "# This is the data for all of Wisconsin.\n",
    "url = \"https://opendata.arcgis.com/datasets/5374188992374b318d3e2305216ee413_12.csv\"\n",
    "data = pd.read_csv(url, parse_dates=['DATE'], low_memory=False)"
   ]
  },
  {
   "cell_type": "code",
   "execution_count": 3,
   "id": "proprietary-klein",
   "metadata": {
    "execution": {
     "iopub.execute_input": "2021-03-29T10:18:15.148892Z",
     "iopub.status.busy": "2021-03-29T10:18:15.148418Z",
     "iopub.status.idle": "2021-03-29T10:18:15.156545Z",
     "shell.execute_reply": "2021-03-29T10:18:15.156096Z"
    },
    "jupyter": {
     "source_hidden": true
    },
    "papermill": {
     "duration": 0.021533,
     "end_time": "2021-03-29T10:18:15.156639",
     "exception": false,
     "start_time": "2021-03-29T10:18:15.135106",
     "status": "completed"
    },
    "scrolled": true,
    "tags": [
     "hide-input"
    ]
   },
   "outputs": [],
   "source": [
    "dc = data.groupby('NAME').get_group('Dunn').sort_values(by='DATE') # Select the data for Dunn County from the full data.\n",
    "PNi = dc.columns.get_loc(\"POS_NEW\")\n",
    "dc['7_DAY'] = dc.iloc[:,PNi].rolling(window=7).mean() # Calculates the rolling 7-day average of new cases.\n",
    "dc['14_DAY'] = dc.iloc[:,PNi].rolling(window=14).mean() # Calculates the rolling 14-day average of new cases."
   ]
  },
  {
   "cell_type": "code",
   "execution_count": 4,
   "id": "steady-supervision",
   "metadata": {
    "execution": {
     "iopub.execute_input": "2021-03-29T10:18:15.176820Z",
     "iopub.status.busy": "2021-03-29T10:18:15.176362Z",
     "iopub.status.idle": "2021-03-29T10:18:15.180221Z",
     "shell.execute_reply": "2021-03-29T10:18:15.179831Z"
    },
    "jupyter": {
     "source_hidden": true
    },
    "papermill": {
     "duration": 0.016182,
     "end_time": "2021-03-29T10:18:15.180312",
     "exception": false,
     "start_time": "2021-03-29T10:18:15.164130",
     "status": "completed"
    },
    "scrolled": true,
    "tags": [
     "hide-input"
    ]
   },
   "outputs": [
    {
     "data": {
      "text/markdown": [
       "### Last updated: March 28, 2021"
      ],
      "text/plain": [
       "<IPython.core.display.Markdown object>"
      ]
     },
     "metadata": {},
     "output_type": "display_data"
    }
   ],
   "source": [
    "display(Markdown('### Last updated: ' + dc.iloc[-1]['DATE'].strftime(\"%B %d, %Y\")))"
   ]
  },
  {
   "cell_type": "code",
   "execution_count": 5,
   "id": "lonely-pitch",
   "metadata": {
    "execution": {
     "iopub.execute_input": "2021-03-29T10:18:15.200332Z",
     "iopub.status.busy": "2021-03-29T10:18:15.199886Z",
     "iopub.status.idle": "2021-03-29T10:18:15.202926Z",
     "shell.execute_reply": "2021-03-29T10:18:15.202560Z"
    },
    "jupyter": {
     "source_hidden": true
    },
    "papermill": {
     "duration": 0.014874,
     "end_time": "2021-03-29T10:18:15.203023",
     "exception": false,
     "start_time": "2021-03-29T10:18:15.188149",
     "status": "completed"
    },
    "tags": [
     "hide-input"
    ]
   },
   "outputs": [
    {
     "data": {
      "text/markdown": [
       "# Dunn County has 4367 total positive cases, with 9 new cases reported today."
      ],
      "text/plain": [
       "<IPython.core.display.Markdown object>"
      ]
     },
     "metadata": {},
     "output_type": "display_data"
    }
   ],
   "source": [
    "display(Markdown('# Dunn County has ' + str(dc.iloc[-1]['POSITIVE']) + ' total positive cases, with '+ str(int(dc.iloc[-1]['POS_NEW'])) + ' new cases reported today.'))"
   ]
  },
  {
   "cell_type": "code",
   "execution_count": 6,
   "id": "compound-nightmare",
   "metadata": {
    "execution": {
     "iopub.execute_input": "2021-03-29T10:18:15.222778Z",
     "iopub.status.busy": "2021-03-29T10:18:15.222323Z",
     "iopub.status.idle": "2021-03-29T10:18:15.454666Z",
     "shell.execute_reply": "2021-03-29T10:18:15.455093Z"
    },
    "jupyter": {
     "source_hidden": true
    },
    "papermill": {
     "duration": 0.244104,
     "end_time": "2021-03-29T10:18:15.455251",
     "exception": false,
     "start_time": "2021-03-29T10:18:15.211147",
     "status": "completed"
    },
    "scrolled": false,
    "tags": [
     "hide-input"
    ]
   },
   "outputs": [
    {
     "data": {
      "image/png": "[encoded data removed]",
      "text/plain": [
       "<Figure size 864x432 with 1 Axes>"
      ]
     },
     "metadata": {
      "needs_background": "light"
     },
     "output_type": "display_data"
    }
   ],
   "source": [
    "dc.plot(x='DATE',y='POSITIVE',color='red',grid='True',figsize=(12,6)).set_xlabel('Date');"
   ]
  },
  {
   "cell_type": "markdown",
   "id": "coupled-literacy",
   "metadata": {
    "papermill": {
     "duration": 0.009322,
     "end_time": "2021-03-29T10:18:15.474349",
     "exception": false,
     "start_time": "2021-03-29T10:18:15.465027",
     "status": "completed"
    },
    "tags": []
   },
   "source": [
    "## Figure 1: Cummulative number of positive cases."
   ]
  },
  {
   "cell_type": "code",
   "execution_count": 7,
   "id": "surrounded-reserve",
   "metadata": {
    "execution": {
     "iopub.execute_input": "2021-03-29T10:18:15.496320Z",
     "iopub.status.busy": "2021-03-29T10:18:15.495872Z",
     "iopub.status.idle": "2021-03-29T10:18:15.654973Z",
     "shell.execute_reply": "2021-03-29T10:18:15.655343Z"
    },
    "jupyter": {
     "source_hidden": true
    },
    "papermill": {
     "duration": 0.17205,
     "end_time": "2021-03-29T10:18:15.655484",
     "exception": false,
     "start_time": "2021-03-29T10:18:15.483434",
     "status": "completed"
    },
    "scrolled": false,
    "tags": [
     "hide-input"
    ]
   },
   "outputs": [
    {
     "data": {
      "image/png": "[encoded data removed]",
      "text/plain": [
       "<Figure size 864x432 with 1 Axes>"
      ]
     },
     "metadata": {
      "needs_background": "light"
     },
     "output_type": "display_data"
    }
   ],
   "source": [
    "dc.plot(kind='line',x='DATE',y='7_DAY',color='blue',grid='True',figsize=(12,6)).set_xlabel('Date');"
   ]
  },
  {
   "cell_type": "markdown",
   "id": "professional-savannah",
   "metadata": {
    "papermill": {
     "duration": 0.010336,
     "end_time": "2021-03-29T10:18:15.676014",
     "exception": false,
     "start_time": "2021-03-29T10:18:15.665678",
     "status": "completed"
    },
    "tags": []
   },
   "source": [
    "## Figure 2: Rolling 7-day average of daily new cases."
   ]
  },
  {
   "cell_type": "code",
   "execution_count": 8,
   "id": "stretch-investor",
   "metadata": {
    "execution": {
     "iopub.execute_input": "2021-03-29T10:18:15.700213Z",
     "iopub.status.busy": "2021-03-29T10:18:15.699761Z",
     "iopub.status.idle": "2021-03-29T10:18:15.858230Z",
     "shell.execute_reply": "2021-03-29T10:18:15.858597Z"
    },
    "jupyter": {
     "source_hidden": true
    },
    "papermill": {
     "duration": 0.172887,
     "end_time": "2021-03-29T10:18:15.858742",
     "exception": false,
     "start_time": "2021-03-29T10:18:15.685855",
     "status": "completed"
    },
    "tags": []
   },
   "outputs": [
    {
     "data": {
      "image/png": "[encoded data removed]",
      "text/plain": [
       "<Figure size 864x432 with 1 Axes>"
      ]
     },
     "metadata": {
      "needs_background": "light"
     },
     "output_type": "display_data"
    }
   ],
   "source": [
    "dc.plot(kind='line',x='DATE',y='14_DAY',color='green',grid='True',figsize=(12,6)).set_xlabel('Date');"
   ]
  },
  {
   "cell_type": "markdown",
   "id": "prerequisite-species",
   "metadata": {
    "papermill": {
     "duration": 0.011184,
     "end_time": "2021-03-29T10:18:15.881112",
     "exception": false,
     "start_time": "2021-03-29T10:18:15.869928",
     "status": "completed"
    },
    "tags": []
   },
   "source": [
    "## Figure 3: Rolling 14-day average of daily new cases."
   ]
  },
  {
   "cell_type": "markdown",
   "id": "palestinian-guard",
   "metadata": {
    "papermill": {
     "duration": 0.010797,
     "end_time": "2021-03-29T10:18:15.902707",
     "exception": false,
     "start_time": "2021-03-29T10:18:15.891910",
     "status": "completed"
    },
    "tags": []
   },
   "source": [
    "Data source: [Wisconsin Department of Health Services](https://data.dhsgis.wi.gov/datasets/covid-19-historical-data-table/)"
   ]
  },
  {
   "cell_type": "code",
   "execution_count": 9,
   "id": "proof-medicare",
   "metadata": {
    "execution": {
     "iopub.execute_input": "2021-03-29T10:18:15.928406Z",
     "iopub.status.busy": "2021-03-29T10:18:15.927951Z",
     "iopub.status.idle": "2021-03-29T10:18:15.930915Z",
     "shell.execute_reply": "2021-03-29T10:18:15.930517Z"
    },
    "jupyter": {
     "source_hidden": true
    },
    "papermill": {
     "duration": 0.017481,
     "end_time": "2021-03-29T10:18:15.931009",
     "exception": false,
     "start_time": "2021-03-29T10:18:15.913528",
     "status": "completed"
    },
    "tags": []
   },
   "outputs": [
    {
     "data": {
      "text/html": [
       "<style>\n",
       "div.input {\n",
       "    display:none;\n",
       "}\n",
       "</style>\n"
      ],
      "text/plain": [
       "<IPython.core.display.HTML object>"
      ]
     },
     "metadata": {},
     "output_type": "display_data"
    }
   ],
   "source": [
    "%%html\n",
    "<style>\n",
    "div.input {\n",
    "    display:none;\n",
    "}\n",
    "</style>"
   ]
  }
 ],
 "metadata": {
  "kernelspec": {
   "display_name": "Python 3",
   "language": "python",
   "name": "python3"
  },
  "language_info": {
   "codemirror_mode": {
    "name": "ipython",
    "version": 3
   },
   "file_extension": ".py",
   "mimetype": "text/x-python",
   "name": "python",
   "nbconvert_exporter": "python",
   "pygments_lexer": "ipython3",
   "version": "3.8.8"
  },
  "papermill": {
   "duration": 9.677352,
   "end_time": "2021-03-29T10:18:17.108491",
   "environment_variables": {},
   "exception": null,
   "input_path": "DunnCounty_COVID19.ipynb",
   "output_path": "DunnCounty_COVID19.ipynb",
   "parameters": {
    "Start": "True",
    "secretsPath": "/home/runner/work/_temp/secrets.json"
   },
   "start_time": "2021-03-29T10:18:07.431139",
   "version": "1.1.16"
  }
 },
 "nbformat": 4,
 "nbformat_minor": 5
}