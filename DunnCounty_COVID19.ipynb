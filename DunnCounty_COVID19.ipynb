{
 "cells": [
  {
   "cell_type": "code",
   "execution_count": 1,
   "metadata": {
    "execution": {
     "iopub.execute_input": "2021-01-03T17:53:06.738194Z",
     "iopub.status.busy": "2021-01-03T17:53:06.737582Z",
     "iopub.status.idle": "2021-01-03T17:53:09.300844Z",
     "shell.execute_reply": "2021-01-03T17:53:09.300170Z"
    },
    "jupyter": {
     "source_hidden": true
    },
    "papermill": {
     "duration": 2.582827,
     "end_time": "2021-01-03T17:53:09.301060",
     "exception": false,
     "start_time": "2021-01-03T17:53:06.718233",
     "status": "completed"
    },
    "scrolled": true,
    "tags": [
     "hide-input"
    ]
   },
   "outputs": [],
   "source": [
    "import pandas as pd\n",
    "import matplotlib.pyplot as plt\n",
    "from matplotlib import dates\n",
    "from IPython.display import display, Markdown\n",
    "%matplotlib inline"
   ]
  },
  {
   "cell_type": "code",
   "execution_count": 2,
   "metadata": {
    "execution": {
     "iopub.execute_input": "2021-01-03T17:53:09.324444Z",
     "iopub.status.busy": "2021-01-03T17:53:09.323823Z",
     "iopub.status.idle": "2021-01-03T17:53:09.978286Z",
     "shell.execute_reply": "2021-01-03T17:53:09.977331Z"
    },
    "jupyter": {
     "source_hidden": true
    },
    "papermill": {
     "duration": 0.669277,
     "end_time": "2021-01-03T17:53:09.978444",
     "exception": false,
     "start_time": "2021-01-03T17:53:09.309167",
     "status": "completed"
    },
    "scrolled": true,
    "tags": [
     "hide-input"
    ]
   },
   "outputs": [],
   "source": [
    "# This is the data for all of Wisconsin.\n",
    "url = \"https://opendata.arcgis.com/datasets/5374188992374b318d3e2305216ee413_12.csv\"\n",
    "data = pd.read_csv(url, parse_dates=['DATE'], low_memory=False)"
   ]
  },
  {
   "cell_type": "code",
   "execution_count": 3,
   "metadata": {
    "execution": {
     "iopub.execute_input": "2021-01-03T17:53:10.000934Z",
     "iopub.status.busy": "2021-01-03T17:53:10.000273Z",
     "iopub.status.idle": "2021-01-03T17:53:10.008932Z",
     "shell.execute_reply": "2021-01-03T17:53:10.008254Z"
    },
    "jupyter": {
     "source_hidden": true
    },
    "papermill": {
     "duration": 0.022682,
     "end_time": "2021-01-03T17:53:10.009066",
     "exception": false,
     "start_time": "2021-01-03T17:53:09.986384",
     "status": "completed"
    },
    "scrolled": true,
    "tags": [
     "hide-input"
    ]
   },
   "outputs": [],
   "source": [
    "dc = data.groupby('NAME').get_group('Dunn').sort_values(by='DATE') # Select the data for Dunn County from the full data.\n",
    "PNi = dc.columns.get_loc(\"POS_NEW\")\n",
    "dc['7_DAY'] = dc.iloc[:,PNi].rolling(window=7).mean() # Calculates the rolling 7-day average of new cases.\n",
    "dc['14_DAY'] = dc.iloc[:,PNi].rolling(window=14).mean() # Calculates the rolling 14-day average of new cases."
   ]
  },
  {
   "cell_type": "code",
   "execution_count": 4,
   "metadata": {
    "execution": {
     "iopub.execute_input": "2021-01-03T17:53:10.030673Z",
     "iopub.status.busy": "2021-01-03T17:53:10.030070Z",
     "iopub.status.idle": "2021-01-03T17:53:10.033131Z",
     "shell.execute_reply": "2021-01-03T17:53:10.033665Z"
    },
    "jupyter": {
     "source_hidden": true
    },
    "papermill": {
     "duration": 0.017213,
     "end_time": "2021-01-03T17:53:10.033822",
     "exception": false,
     "start_time": "2021-01-03T17:53:10.016609",
     "status": "completed"
    },
    "scrolled": true,
    "tags": [
     "hide-input"
    ]
   },
   "outputs": [
    {
     "data": {
      "text/markdown": [
       "### Last updated: January 02, 2021"
      ],
      "text/plain": [
       "<IPython.core.display.Markdown object>"
      ]
     },
     "metadata": {},
     "output_type": "display_data"
    }
   ],
   "source": [
    "display(Markdown('### Last updated: ' + dc.iloc[-1]['DATE'].strftime(\"%B %d, %Y\")))"
   ]
  },
  {
   "cell_type": "code",
   "execution_count": 5,
   "metadata": {
    "execution": {
     "iopub.execute_input": "2021-01-03T17:53:10.054571Z",
     "iopub.status.busy": "2021-01-03T17:53:10.053955Z",
     "iopub.status.idle": "2021-01-03T17:53:10.056961Z",
     "shell.execute_reply": "2021-01-03T17:53:10.057484Z"
    },
    "jupyter": {
     "source_hidden": true
    },
    "papermill": {
     "duration": 0.015852,
     "end_time": "2021-01-03T17:53:10.057641",
     "exception": false,
     "start_time": "2021-01-03T17:53:10.041789",
     "status": "completed"
    },
    "tags": [
     "hide-input"
    ]
   },
   "outputs": [
    {
     "data": {
      "text/markdown": [
       "# Dunn County has 3546 total positive cases, with 0 new cases reported today."
      ],
      "text/plain": [
       "<IPython.core.display.Markdown object>"
      ]
     },
     "metadata": {},
     "output_type": "display_data"
    }
   ],
   "source": [
    "display(Markdown('# Dunn County has ' + str(dc.iloc[-1]['POSITIVE']) + ' total positive cases, with '+ str(int(dc.iloc[-1]['POS_NEW'])) + ' new cases reported today.'))"
   ]
  },
  {
   "cell_type": "code",
   "execution_count": 6,
   "metadata": {
    "execution": {
     "iopub.execute_input": "2021-01-03T17:53:10.081483Z",
     "iopub.status.busy": "2021-01-03T17:53:10.080885Z",
     "iopub.status.idle": "2021-01-03T17:53:10.363189Z",
     "shell.execute_reply": "2021-01-03T17:53:10.363713Z"
    },
    "jupyter": {
     "source_hidden": true
    },
    "papermill": {
     "duration": 0.297162,
     "end_time": "2021-01-03T17:53:10.363899",
     "exception": false,
     "start_time": "2021-01-03T17:53:10.066737",
     "status": "completed"
    },
    "scrolled": false,
    "tags": [
     "hide-input"
    ]
   },
   "outputs": [
    {
     "data": {
      "image/png": "[encoded data removed]",
      "text/plain": [
       "<Figure size 864x432 with 1 Axes>"
      ]
     },
     "metadata": {
      "needs_background": "light"
     },
     "output_type": "display_data"
    }
   ],
   "source": [
    "dc.plot(x='DATE',y='POSITIVE',color='red',grid='True',figsize=(12,6)).set_xlabel('Date');"
   ]
  },
  {
   "cell_type": "markdown",
   "metadata": {
    "papermill": {
     "duration": 0.010274,
     "end_time": "2021-01-03T17:53:10.383844",
     "exception": false,
     "start_time": "2021-01-03T17:53:10.373570",
     "status": "completed"
    },
    "tags": []
   },
   "source": [
    "## Figure 1: Cummulative number of positive cases."
   ]
  },
  {
   "cell_type": "code",
   "execution_count": 7,
   "metadata": {
    "execution": {
     "iopub.execute_input": "2021-01-03T17:53:10.410125Z",
     "iopub.status.busy": "2021-01-03T17:53:10.409519Z",
     "iopub.status.idle": "2021-01-03T17:53:10.669070Z",
     "shell.execute_reply": "2021-01-03T17:53:10.669549Z"
    },
    "jupyter": {
     "source_hidden": true
    },
    "papermill": {
     "duration": 0.274351,
     "end_time": "2021-01-03T17:53:10.669729",
     "exception": false,
     "start_time": "2021-01-03T17:53:10.395378",
     "status": "completed"
    },
    "scrolled": false,
    "tags": [
     "hide-input"
    ]
   },
   "outputs": [
    {
     "data": {
      "image/png": "[encoded data removed]",
      "text/plain": [
       "<Figure size 864x432 with 1 Axes>"
      ]
     },
     "metadata": {
      "needs_background": "light"
     },
     "output_type": "display_data"
    }
   ],
   "source": [
    "dc.plot(kind='line',x='DATE',y='7_DAY',color='blue',grid='True',figsize=(12,6)).set_xlabel('Date');"
   ]
  },
  {
   "cell_type": "markdown",
   "metadata": {
    "papermill": {
     "duration": 0.010294,
     "end_time": "2021-01-03T17:53:10.690198",
     "exception": false,
     "start_time": "2021-01-03T17:53:10.679904",
     "status": "completed"
    },
    "tags": []
   },
   "source": [
    "## Figure 2: Rolling 7-day average of daily new cases."
   ]
  },
  {
   "cell_type": "code",
   "execution_count": 8,
   "metadata": {
    "execution": {
     "iopub.execute_input": "2021-01-03T17:53:10.714701Z",
     "iopub.status.busy": "2021-01-03T17:53:10.714101Z",
     "iopub.status.idle": "2021-01-03T17:53:10.976154Z",
     "shell.execute_reply": "2021-01-03T17:53:10.975515Z"
    },
    "jupyter": {
     "source_hidden": true
    },
    "papermill": {
     "duration": 0.276312,
     "end_time": "2021-01-03T17:53:10.976322",
     "exception": false,
     "start_time": "2021-01-03T17:53:10.700010",
     "status": "completed"
    },
    "tags": []
   },
   "outputs": [
    {
     "data": {
      "image/png": "[encoded data removed]",
      "text/plain": [
       "<Figure size 864x432 with 1 Axes>"
      ]
     },
     "metadata": {
      "needs_background": "light"
     },
     "output_type": "display_data"
    }
   ],
   "source": [
    "dc.plot(kind='line',x='DATE',y='14_DAY',color='green',grid='True',figsize=(12,6)).set_xlabel('Date');"
   ]
  },
  {
   "cell_type": "markdown",
   "metadata": {
    "papermill": {
     "duration": 0.011273,
     "end_time": "2021-01-03T17:53:10.999202",
     "exception": false,
     "start_time": "2021-01-03T17:53:10.987929",
     "status": "completed"
    },
    "tags": []
   },
   "source": [
    "## Figure 3: Rolling 14-day average of daily new cases."
   ]
  },
  {
   "cell_type": "markdown",
   "metadata": {
    "papermill": {
     "duration": 0.011751,
     "end_time": "2021-01-03T17:53:11.021929",
     "exception": false,
     "start_time": "2021-01-03T17:53:11.010178",
     "status": "completed"
    },
    "tags": []
   },
   "source": [
    "Data source: [Wisconsin Department of Health Services](https://data.dhsgis.wi.gov/datasets/covid-19-historical-data-table/)"
   ]
  },
  {
   "cell_type": "code",
   "execution_count": 9,
   "metadata": {
    "execution": {
     "iopub.execute_input": "2021-01-03T17:53:11.048712Z",
     "iopub.status.busy": "2021-01-03T17:53:11.047789Z",
     "iopub.status.idle": "2021-01-03T17:53:11.051576Z",
     "shell.execute_reply": "2021-01-03T17:53:11.051045Z"
    },
    "jupyter": {
     "source_hidden": true
    },
    "papermill": {
     "duration": 0.018759,
     "end_time": "2021-01-03T17:53:11.051702",
     "exception": false,
     "start_time": "2021-01-03T17:53:11.032943",
     "status": "completed"
    },
    "tags": []
   },
   "outputs": [
    {
     "data": {
      "text/html": [
       "<style>\n",
       "div.input {\n",
       "    display:none;\n",
       "}\n",
       "</style>\n"
      ],
      "text/plain": [
       "<IPython.core.display.HTML object>"
      ]
     },
     "metadata": {},
     "output_type": "display_data"
    }
   ],
   "source": [
    "%%html\n",
    "<style>\n",
    "div.input {\n",
    "    display:none;\n",
    "}\n",
    "</style>"
   ]
  }
 ],
 "metadata": {
  "kernelspec": {
   "display_name": "Python 3",
   "language": "python",
   "name": "python3"
  },
  "language_info": {
   "codemirror_mode": {
    "name": "ipython",
    "version": 3
   },
   "file_extension": ".py",
   "mimetype": "text/x-python",
   "name": "python",
   "nbconvert_exporter": "python",
   "pygments_lexer": "ipython3",
   "version": "3.8.6"
  },
  "papermill": {
   "duration": 6.208419,
   "end_time": "2021-01-03T17:53:11.370601",
   "environment_variables": {},
   "exception": null,
   "input_path": "DunnCounty_COVID19.ipynb",
   "output_path": "DunnCounty_COVID19.ipynb",
   "parameters": {
    "Start": "True",
    "secretsPath": "/home/runner/work/_temp/secrets.json"
   },
   "start_time": "2021-01-03T17:53:05.162182",
   "version": "1.1.16"
  }
 },
 "nbformat": 4,
 "nbformat_minor": 2
}