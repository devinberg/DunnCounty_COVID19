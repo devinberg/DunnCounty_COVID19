{
 "cells": [
  {
   "cell_type": "code",
   "execution_count": 1,
   "id": "solar-understanding",
   "metadata": {
    "execution": {
     "iopub.execute_input": "2021-06-17T22:12:13.904198Z",
     "iopub.status.busy": "2021-06-17T22:12:13.903706Z",
     "iopub.status.idle": "2021-06-17T22:12:15.754130Z",
     "shell.execute_reply": "2021-06-17T22:12:15.753541Z"
    },
    "jupyter": {
     "source_hidden": true
    },
    "papermill": {
     "duration": 1.868906,
     "end_time": "2021-06-17T22:12:15.754273",
     "exception": false,
     "start_time": "2021-06-17T22:12:13.885367",
     "status": "completed"
    },
    "scrolled": true,
    "tags": [
     "hide-input"
    ]
   },
   "outputs": [],
   "source": [
    "import pandas as pd\n",
    "import matplotlib.pyplot as plt\n",
    "from matplotlib import dates\n",
    "from IPython.display import display, Markdown\n",
    "%matplotlib inline"
   ]
  },
  {
   "cell_type": "code",
   "execution_count": 2,
   "id": "purple-playlist",
   "metadata": {
    "execution": {
     "iopub.execute_input": "2021-06-17T22:12:15.776467Z",
     "iopub.status.busy": "2021-06-17T22:12:15.776003Z",
     "iopub.status.idle": "2021-06-17T22:12:16.764825Z",
     "shell.execute_reply": "2021-06-17T22:12:16.764055Z"
    },
    "jupyter": {
     "source_hidden": true
    },
    "papermill": {
     "duration": 1.002393,
     "end_time": "2021-06-17T22:12:16.764954",
     "exception": false,
     "start_time": "2021-06-17T22:12:15.762561",
     "status": "completed"
    },
    "scrolled": true,
    "tags": [
     "hide-input"
    ]
   },
   "outputs": [],
   "source": [
    "# This is the data for all of Wisconsin.\n",
    "url = \"https://opendata.arcgis.com/api/v3/datasets/3161f6e01d8141c6abe85a29ff7f3d3c_12/downloads/data?format=csv&spatialRefId=3857\"\n",
    "data = pd.read_csv(url, parse_dates=['DATE'], low_memory=False)"
   ]
  },
  {
   "cell_type": "code",
   "execution_count": 3,
   "id": "proprietary-klein",
   "metadata": {
    "execution": {
     "iopub.execute_input": "2021-06-17T22:12:16.786616Z",
     "iopub.status.busy": "2021-06-17T22:12:16.786160Z",
     "iopub.status.idle": "2021-06-17T22:12:16.793754Z",
     "shell.execute_reply": "2021-06-17T22:12:16.793386Z"
    },
    "jupyter": {
     "source_hidden": true
    },
    "papermill": {
     "duration": 0.020606,
     "end_time": "2021-06-17T22:12:16.793853",
     "exception": false,
     "start_time": "2021-06-17T22:12:16.773247",
     "status": "completed"
    },
    "scrolled": true,
    "tags": [
     "hide-input"
    ]
   },
   "outputs": [],
   "source": [
    "dc = data.groupby('NAME').get_group('Dunn').sort_values(by='DATE') # Select the data for Dunn County from the full data.\n",
    "PNi = dc.columns.get_loc(\"POS_NEW\")\n",
    "dc['7_DAY'] = dc.iloc[:,PNi].rolling(window=7).mean() # Calculates the rolling 7-day average of new cases.\n",
    "dc['14_DAY'] = dc.iloc[:,PNi].rolling(window=14).mean() # Calculates the rolling 14-day average of new cases."
   ]
  },
  {
   "cell_type": "code",
   "execution_count": 4,
   "id": "steady-supervision",
   "metadata": {
    "execution": {
     "iopub.execute_input": "2021-06-17T22:12:16.815026Z",
     "iopub.status.busy": "2021-06-17T22:12:16.814350Z",
     "iopub.status.idle": "2021-06-17T22:12:16.817598Z",
     "shell.execute_reply": "2021-06-17T22:12:16.817942Z"
    },
    "jupyter": {
     "source_hidden": true
    },
    "papermill": {
     "duration": 0.016732,
     "end_time": "2021-06-17T22:12:16.818052",
     "exception": false,
     "start_time": "2021-06-17T22:12:16.801320",
     "status": "completed"
    },
    "scrolled": true,
    "tags": [
     "hide-input"
    ]
   },
   "outputs": [
    {
     "data": {
      "text/markdown": [
       "### Last updated: June 17, 2021"
      ],
      "text/plain": [
       "<IPython.core.display.Markdown object>"
      ]
     },
     "metadata": {},
     "output_type": "display_data"
    }
   ],
   "source": [
    "display(Markdown('### Last updated: ' + dc.iloc[-1]['DATE'].strftime(\"%B %d, %Y\")))"
   ]
  },
  {
   "cell_type": "code",
   "execution_count": 5,
   "id": "lonely-pitch",
   "metadata": {
    "execution": {
     "iopub.execute_input": "2021-06-17T22:12:16.837800Z",
     "iopub.status.busy": "2021-06-17T22:12:16.837358Z",
     "iopub.status.idle": "2021-06-17T22:12:16.840011Z",
     "shell.execute_reply": "2021-06-17T22:12:16.839609Z"
    },
    "jupyter": {
     "source_hidden": true
    },
    "papermill": {
     "duration": 0.014186,
     "end_time": "2021-06-17T22:12:16.840099",
     "exception": false,
     "start_time": "2021-06-17T22:12:16.825913",
     "status": "completed"
    },
    "tags": [
     "hide-input"
    ]
   },
   "outputs": [
    {
     "data": {
      "text/markdown": [
       "# Dunn County has 4696 total positive cases, with 0 new cases reported today."
      ],
      "text/plain": [
       "<IPython.core.display.Markdown object>"
      ]
     },
     "metadata": {},
     "output_type": "display_data"
    }
   ],
   "source": [
    "display(Markdown('# Dunn County has ' + str(dc.iloc[-1]['POSITIVE']) + ' total positive cases, with '+ str(int(dc.iloc[-1]['POS_NEW'])) + ' new cases reported today.'))"
   ]
  },
  {
   "cell_type": "code",
   "execution_count": 6,
   "id": "compound-nightmare",
   "metadata": {
    "execution": {
     "iopub.execute_input": "2021-06-17T22:12:16.859458Z",
     "iopub.status.busy": "2021-06-17T22:12:16.859016Z",
     "iopub.status.idle": "2021-06-17T22:12:17.073210Z",
     "shell.execute_reply": "2021-06-17T22:12:17.072710Z"
    },
    "jupyter": {
     "source_hidden": true
    },
    "papermill": {
     "duration": 0.224979,
     "end_time": "2021-06-17T22:12:17.073319",
     "exception": false,
     "start_time": "2021-06-17T22:12:16.848340",
     "status": "completed"
    },
    "scrolled": false,
    "tags": [
     "hide-input"
    ]
   },
   "outputs": [
    {
     "data": {
      "image/png": "[encoded data removed]",
      "text/plain": [
       "<Figure size 864x432 with 1 Axes>"
      ]
     },
     "metadata": {
      "needs_background": "light"
     },
     "output_type": "display_data"
    }
   ],
   "source": [
    "dc.plot(x='DATE',y='POSITIVE',color='red',grid='True',figsize=(12,6)).set_xlabel('Date');"
   ]
  },
  {
   "cell_type": "markdown",
   "id": "coupled-literacy",
   "metadata": {
    "papermill": {
     "duration": 0.009418,
     "end_time": "2021-06-17T22:12:17.091962",
     "exception": false,
     "start_time": "2021-06-17T22:12:17.082544",
     "status": "completed"
    },
    "tags": []
   },
   "source": [
    "## Figure 1: Cummulative number of positive cases."
   ]
  },
  {
   "cell_type": "code",
   "execution_count": 7,
   "id": "surrounded-reserve",
   "metadata": {
    "execution": {
     "iopub.execute_input": "2021-06-17T22:12:17.113441Z",
     "iopub.status.busy": "2021-06-17T22:12:17.112993Z",
     "iopub.status.idle": "2021-06-17T22:12:17.314246Z",
     "shell.execute_reply": "2021-06-17T22:12:17.314666Z"
    },
    "jupyter": {
     "source_hidden": true
    },
    "papermill": {
     "duration": 0.213908,
     "end_time": "2021-06-17T22:12:17.314816",
     "exception": false,
     "start_time": "2021-06-17T22:12:17.100908",
     "status": "completed"
    },
    "scrolled": false,
    "tags": [
     "hide-input"
    ]
   },
   "outputs": [
    {
     "data": {
      "image/png": "[encoded data removed]",
      "text/plain": [
       "<Figure size 864x432 with 1 Axes>"
      ]
     },
     "metadata": {
      "needs_background": "light"
     },
     "output_type": "display_data"
    }
   ],
   "source": [
    "dc.plot(kind='line',x='DATE',y='7_DAY',color='blue',grid='True',figsize=(12,6)).set_xlabel('Date');"
   ]
  },
  {
   "cell_type": "markdown",
   "id": "professional-savannah",
   "metadata": {
    "papermill": {
     "duration": 0.010196,
     "end_time": "2021-06-17T22:12:17.335416",
     "exception": false,
     "start_time": "2021-06-17T22:12:17.325220",
     "status": "completed"
    },
    "tags": []
   },
   "source": [
    "## Figure 2: Rolling 7-day average of daily new cases."
   ]
  },
  {
   "cell_type": "code",
   "execution_count": 8,
   "id": "stretch-investor",
   "metadata": {
    "execution": {
     "iopub.execute_input": "2021-06-17T22:12:17.358979Z",
     "iopub.status.busy": "2021-06-17T22:12:17.358533Z",
     "iopub.status.idle": "2021-06-17T22:12:17.551227Z",
     "shell.execute_reply": "2021-06-17T22:12:17.551590Z"
    },
    "jupyter": {
     "source_hidden": true
    },
    "papermill": {
     "duration": 0.206586,
     "end_time": "2021-06-17T22:12:17.551747",
     "exception": false,
     "start_time": "2021-06-17T22:12:17.345161",
     "status": "completed"
    },
    "tags": []
   },
   "outputs": [
    {
     "data": {
      "image/png": "[encoded data removed]",
      "text/plain": [
       "<Figure size 864x432 with 1 Axes>"
      ]
     },
     "metadata": {
      "needs_background": "light"
     },
     "output_type": "display_data"
    }
   ],
   "source": [
    "dc.plot(kind='line',x='DATE',y='14_DAY',color='green',grid='True',figsize=(12,6)).set_xlabel('Date');"
   ]
  },
  {
   "cell_type": "markdown",
   "id": "prerequisite-species",
   "metadata": {
    "papermill": {
     "duration": 0.011115,
     "end_time": "2021-06-17T22:12:17.573895",
     "exception": false,
     "start_time": "2021-06-17T22:12:17.562780",
     "status": "completed"
    },
    "tags": []
   },
   "source": [
    "## Figure 3: Rolling 14-day average of daily new cases."
   ]
  },
  {
   "cell_type": "markdown",
   "id": "palestinian-guard",
   "metadata": {
    "papermill": {
     "duration": 0.010667,
     "end_time": "2021-06-17T22:12:17.595317",
     "exception": false,
     "start_time": "2021-06-17T22:12:17.584650",
     "status": "completed"
    },
    "tags": []
   },
   "source": [
    "Data source: [Wisconsin Department of Health Services](https://data.dhsgis.wi.gov/datasets/wi-dhs::covid-19-historical-data-by-county-1)"
   ]
  },
  {
   "cell_type": "code",
   "execution_count": 9,
   "id": "proof-medicare",
   "metadata": {
    "execution": {
     "iopub.execute_input": "2021-06-17T22:12:17.620956Z",
     "iopub.status.busy": "2021-06-17T22:12:17.620432Z",
     "iopub.status.idle": "2021-06-17T22:12:17.623012Z",
     "shell.execute_reply": "2021-06-17T22:12:17.622592Z"
    },
    "jupyter": {
     "source_hidden": true
    },
    "papermill": {
     "duration": 0.017143,
     "end_time": "2021-06-17T22:12:17.623102",
     "exception": false,
     "start_time": "2021-06-17T22:12:17.605959",
     "status": "completed"
    },
    "tags": []
   },
   "outputs": [
    {
     "data": {
      "text/html": [
       "<style>\n",
       "div.input {\n",
       "    display:none;\n",
       "}\n",
       "</style>\n"
      ],
      "text/plain": [
       "<IPython.core.display.HTML object>"
      ]
     },
     "metadata": {},
     "output_type": "display_data"
    }
   ],
   "source": [
    "%%html\n",
    "<style>\n",
    "div.input {\n",
    "    display:none;\n",
    "}\n",
    "</style>"
   ]
  }
 ],
 "metadata": {
  "kernelspec": {
   "display_name": "Python 3",
   "language": "python",
   "name": "python3"
  },
  "language_info": {
   "codemirror_mode": {
    "name": "ipython",
    "version": 3
   },
   "file_extension": ".py",
   "mimetype": "text/x-python",
   "name": "python",
   "nbconvert_exporter": "python",
   "pygments_lexer": "ipython3",
   "version": "3.8.10"
  },
  "papermill": {
   "duration": 5.630402,
   "end_time": "2021-06-17T22:12:17.940320",
   "environment_variables": {},
   "exception": null,
   "input_path": "DunnCounty_COVID19.ipynb",
   "output_path": "DunnCounty_COVID19.ipynb",
   "parameters": {
    "Start": "True",
    "secretsPath": "/home/runner/work/_temp/secrets.json"
   },
   "start_time": "2021-06-17T22:12:12.309918",
   "version": "1.1.16"
  }
 },
 "nbformat": 4,
 "nbformat_minor": 5
}