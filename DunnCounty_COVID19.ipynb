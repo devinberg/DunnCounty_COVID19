{
 "cells": [
  {
   "cell_type": "code",
   "execution_count": 1,
   "metadata": {
    "execution": {
     "iopub.execute_input": "2020-12-12T22:13:08.625899Z",
     "iopub.status.busy": "2020-12-12T22:13:08.625339Z",
     "iopub.status.idle": "2020-12-12T22:13:10.882911Z",
     "shell.execute_reply": "2020-12-12T22:13:10.883377Z"
    },
    "jupyter": {
     "source_hidden": true
    },
    "papermill": {
     "duration": 2.277853,
     "end_time": "2020-12-12T22:13:10.883671",
     "exception": false,
     "start_time": "2020-12-12T22:13:08.605818",
     "status": "completed"
    },
    "scrolled": true,
    "tags": [
     "hide-input"
    ]
   },
   "outputs": [],
   "source": [
    "import pandas as pd\n",
    "import matplotlib.pyplot as plt\n",
    "from matplotlib import dates\n",
    "from IPython.display import display, Markdown\n",
    "%matplotlib inline"
   ]
  },
  {
   "cell_type": "code",
   "execution_count": 2,
   "metadata": {
    "execution": {
     "iopub.execute_input": "2020-12-12T22:13:10.910431Z",
     "iopub.status.busy": "2020-12-12T22:13:10.909823Z",
     "iopub.status.idle": "2020-12-12T22:13:11.471213Z",
     "shell.execute_reply": "2020-12-12T22:13:11.470349Z"
    },
    "jupyter": {
     "source_hidden": true
    },
    "papermill": {
     "duration": 0.576102,
     "end_time": "2020-12-12T22:13:11.471414",
     "exception": false,
     "start_time": "2020-12-12T22:13:10.895312",
     "status": "completed"
    },
    "scrolled": true,
    "tags": [
     "hide-input"
    ]
   },
   "outputs": [],
   "source": [
    "# This is the data for all of Wisconsin.\n",
    "url = \"https://opendata.arcgis.com/datasets/5374188992374b318d3e2305216ee413_12.csv\"\n",
    "data = pd.read_csv(url, parse_dates=['DATE'], low_memory=False)"
   ]
  },
  {
   "cell_type": "code",
   "execution_count": 3,
   "metadata": {
    "execution": {
     "iopub.execute_input": "2020-12-12T22:13:11.494992Z",
     "iopub.status.busy": "2020-12-12T22:13:11.494429Z",
     "iopub.status.idle": "2020-12-12T22:13:11.503943Z",
     "shell.execute_reply": "2020-12-12T22:13:11.503345Z"
    },
    "jupyter": {
     "source_hidden": true
    },
    "papermill": {
     "duration": 0.024122,
     "end_time": "2020-12-12T22:13:11.504074",
     "exception": false,
     "start_time": "2020-12-12T22:13:11.479952",
     "status": "completed"
    },
    "scrolled": true,
    "tags": [
     "hide-input"
    ]
   },
   "outputs": [],
   "source": [
    "dc = data.groupby('NAME').get_group('Dunn').sort_values(by='DATE') # Select the data for Dunn County from the full data.\n",
    "PNi = dc.columns.get_loc(\"POS_NEW\")\n",
    "dc['7_DAY'] = dc.iloc[:,PNi].rolling(window=7).mean() # Calculates the rolling 7-day average of new cases.\n",
    "dc['14_DAY'] = dc.iloc[:,PNi].rolling(window=14).mean() # Calculates the rolling 14-day average of new cases."
   ]
  },
  {
   "cell_type": "code",
   "execution_count": 4,
   "metadata": {
    "execution": {
     "iopub.execute_input": "2020-12-12T22:13:11.527281Z",
     "iopub.status.busy": "2020-12-12T22:13:11.526724Z",
     "iopub.status.idle": "2020-12-12T22:13:11.530969Z",
     "shell.execute_reply": "2020-12-12T22:13:11.530512Z"
    },
    "jupyter": {
     "source_hidden": true
    },
    "papermill": {
     "duration": 0.019639,
     "end_time": "2020-12-12T22:13:11.531093",
     "exception": false,
     "start_time": "2020-12-12T22:13:11.511454",
     "status": "completed"
    },
    "scrolled": true,
    "tags": [
     "hide-input"
    ]
   },
   "outputs": [
    {
     "data": {
      "text/markdown": [
       "### Last updated: December 12, 2020"
      ],
      "text/plain": [
       "<IPython.core.display.Markdown object>"
      ]
     },
     "metadata": {},
     "output_type": "display_data"
    }
   ],
   "source": [
    "display(Markdown('### Last updated: ' + dc.iloc[-1]['DATE'].strftime(\"%B %d, %Y\")))"
   ]
  },
  {
   "cell_type": "code",
   "execution_count": 5,
   "metadata": {
    "execution": {
     "iopub.execute_input": "2020-12-12T22:13:11.552251Z",
     "iopub.status.busy": "2020-12-12T22:13:11.551661Z",
     "iopub.status.idle": "2020-12-12T22:13:11.555071Z",
     "shell.execute_reply": "2020-12-12T22:13:11.554617Z"
    },
    "jupyter": {
     "source_hidden": true
    },
    "papermill": {
     "duration": 0.015777,
     "end_time": "2020-12-12T22:13:11.555193",
     "exception": false,
     "start_time": "2020-12-12T22:13:11.539416",
     "status": "completed"
    },
    "tags": [
     "hide-input"
    ]
   },
   "outputs": [
    {
     "data": {
      "text/markdown": [
       "# Dunn County has 3127 total positive cases, with 26 new cases reported today."
      ],
      "text/plain": [
       "<IPython.core.display.Markdown object>"
      ]
     },
     "metadata": {},
     "output_type": "display_data"
    }
   ],
   "source": [
    "display(Markdown('# Dunn County has ' + str(dc.iloc[-1]['POSITIVE']) + ' total positive cases, with '+ str(int(dc.iloc[-1]['POS_NEW'])) + ' new cases reported today.'))"
   ]
  },
  {
   "cell_type": "code",
   "execution_count": 6,
   "metadata": {
    "execution": {
     "iopub.execute_input": "2020-12-12T22:13:11.575388Z",
     "iopub.status.busy": "2020-12-12T22:13:11.574842Z",
     "iopub.status.idle": "2020-12-12T22:13:11.829359Z",
     "shell.execute_reply": "2020-12-12T22:13:11.829808Z"
    },
    "jupyter": {
     "source_hidden": true
    },
    "papermill": {
     "duration": 0.266649,
     "end_time": "2020-12-12T22:13:11.829970",
     "exception": false,
     "start_time": "2020-12-12T22:13:11.563321",
     "status": "completed"
    },
    "scrolled": false,
    "tags": [
     "hide-input"
    ]
   },
   "outputs": [
    {
     "data": {
      "image/png": "[encoded data removed]",
      "text/plain": [
       "<Figure size 864x432 with 1 Axes>"
      ]
     },
     "metadata": {
      "needs_background": "light"
     },
     "output_type": "display_data"
    }
   ],
   "source": [
    "dc.plot(x='DATE',y='POSITIVE',color='red',grid='True',figsize=(12,6)).set_xlabel('Date');"
   ]
  },
  {
   "cell_type": "markdown",
   "metadata": {
    "papermill": {
     "duration": 0.009499,
     "end_time": "2020-12-12T22:13:11.849933",
     "exception": false,
     "start_time": "2020-12-12T22:13:11.840434",
     "status": "completed"
    },
    "tags": []
   },
   "source": [
    "## Figure 1: Cummulative number of positive cases."
   ]
  },
  {
   "cell_type": "code",
   "execution_count": 7,
   "metadata": {
    "execution": {
     "iopub.execute_input": "2020-12-12T22:13:11.873984Z",
     "iopub.status.busy": "2020-12-12T22:13:11.873428Z",
     "iopub.status.idle": "2020-12-12T22:13:12.108851Z",
     "shell.execute_reply": "2020-12-12T22:13:12.108367Z"
    },
    "jupyter": {
     "source_hidden": true
    },
    "papermill": {
     "duration": 0.249881,
     "end_time": "2020-12-12T22:13:12.108988",
     "exception": false,
     "start_time": "2020-12-12T22:13:11.859107",
     "status": "completed"
    },
    "scrolled": false,
    "tags": [
     "hide-input"
    ]
   },
   "outputs": [
    {
     "data": {
      "image/png": "[encoded data removed]",
      "text/plain": [
       "<Figure size 864x432 with 1 Axes>"
      ]
     },
     "metadata": {
      "needs_background": "light"
     },
     "output_type": "display_data"
    }
   ],
   "source": [
    "dc.plot(kind='line',x='DATE',y='7_DAY',color='blue',grid='True',figsize=(12,6)).set_xlabel('Date');"
   ]
  },
  {
   "cell_type": "markdown",
   "metadata": {
    "papermill": {
     "duration": 0.010183,
     "end_time": "2020-12-12T22:13:12.129746",
     "exception": false,
     "start_time": "2020-12-12T22:13:12.119563",
     "status": "completed"
    },
    "tags": []
   },
   "source": [
    "## Figure 2: Rolling 7-day average of daily new cases."
   ]
  },
  {
   "cell_type": "code",
   "execution_count": 8,
   "metadata": {
    "execution": {
     "iopub.execute_input": "2020-12-12T22:13:12.170832Z",
     "iopub.status.busy": "2020-12-12T22:13:12.157650Z",
     "iopub.status.idle": "2020-12-12T22:13:12.403754Z",
     "shell.execute_reply": "2020-12-12T22:13:12.404216Z"
    },
    "jupyter": {
     "source_hidden": true
    },
    "papermill": {
     "duration": 0.264571,
     "end_time": "2020-12-12T22:13:12.404390",
     "exception": false,
     "start_time": "2020-12-12T22:13:12.139819",
     "status": "completed"
    },
    "tags": []
   },
   "outputs": [
    {
     "data": {
      "image/png": "[encoded data removed]",
      "text/plain": [
       "<Figure size 864x432 with 1 Axes>"
      ]
     },
     "metadata": {
      "needs_background": "light"
     },
     "output_type": "display_data"
    }
   ],
   "source": [
    "dc.plot(kind='line',x='DATE',y='14_DAY',color='green',grid='True',figsize=(12,6)).set_xlabel('Date');"
   ]
  },
  {
   "cell_type": "markdown",
   "metadata": {
    "papermill": {
     "duration": 0.012278,
     "end_time": "2020-12-12T22:13:12.429362",
     "exception": false,
     "start_time": "2020-12-12T22:13:12.417084",
     "status": "completed"
    },
    "tags": []
   },
   "source": [
    "## Figure 3: Rolling 14-day average of daily new cases."
   ]
  },
  {
   "cell_type": "markdown",
   "metadata": {
    "papermill": {
     "duration": 0.011696,
     "end_time": "2020-12-12T22:13:12.454969",
     "exception": false,
     "start_time": "2020-12-12T22:13:12.443273",
     "status": "completed"
    },
    "tags": []
   },
   "source": [
    "Data source: [Wisconsin Department of Health Services](https://data.dhsgis.wi.gov/datasets/covid-19-historical-data-table/)"
   ]
  },
  {
   "cell_type": "code",
   "execution_count": 9,
   "metadata": {
    "execution": {
     "iopub.execute_input": "2020-12-12T22:13:12.483399Z",
     "iopub.status.busy": "2020-12-12T22:13:12.482843Z",
     "iopub.status.idle": "2020-12-12T22:13:12.486843Z",
     "shell.execute_reply": "2020-12-12T22:13:12.486366Z"
    },
    "jupyter": {
     "source_hidden": true
    },
    "papermill": {
     "duration": 0.020697,
     "end_time": "2020-12-12T22:13:12.486962",
     "exception": false,
     "start_time": "2020-12-12T22:13:12.466265",
     "status": "completed"
    },
    "tags": []
   },
   "outputs": [
    {
     "data": {
      "text/html": [
       "<style>\n",
       "div.input {\n",
       "    display:none;\n",
       "}\n",
       "</style>\n"
      ],
      "text/plain": [
       "<IPython.core.display.HTML object>"
      ]
     },
     "metadata": {},
     "output_type": "display_data"
    }
   ],
   "source": [
    "%%html\n",
    "<style>\n",
    "div.input {\n",
    "    display:none;\n",
    "}\n",
    "</style>"
   ]
  }
 ],
 "metadata": {
  "kernelspec": {
   "display_name": "Python 3",
   "language": "python",
   "name": "python3"
  },
  "language_info": {
   "codemirror_mode": {
    "name": "ipython",
    "version": 3
   },
   "file_extension": ".py",
   "mimetype": "text/x-python",
   "name": "python",
   "nbconvert_exporter": "python",
   "pygments_lexer": "ipython3",
   "version": "3.8.6"
  },
  "papermill": {
   "duration": 5.532368,
   "end_time": "2020-12-12T22:13:12.805928",
   "environment_variables": {},
   "exception": null,
   "input_path": "DunnCounty_COVID19.ipynb",
   "output_path": "DunnCounty_COVID19.ipynb",
   "parameters": {
    "Start": "True",
    "secretsPath": "/home/runner/work/_temp/secrets.json"
   },
   "start_time": "2020-12-12T22:13:07.273560",
   "version": "1.1.16"
  }
 },
 "nbformat": 4,
 "nbformat_minor": 2
}