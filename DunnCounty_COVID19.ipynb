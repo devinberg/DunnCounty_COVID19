{
 "cells": [
  {
   "cell_type": "code",
   "execution_count": 1,
   "id": "solar-understanding",
   "metadata": {
    "execution": {
     "iopub.execute_input": "2021-05-23T22:14:08.234910Z",
     "iopub.status.busy": "2021-05-23T22:14:08.234373Z",
     "iopub.status.idle": "2021-05-23T22:14:11.955439Z",
     "shell.execute_reply": "2021-05-23T22:14:11.954686Z"
    },
    "jupyter": {
     "source_hidden": true
    },
    "papermill": {
     "duration": 3.740976,
     "end_time": "2021-05-23T22:14:11.955583",
     "exception": false,
     "start_time": "2021-05-23T22:14:08.214607",
     "status": "completed"
    },
    "scrolled": true,
    "tags": [
     "hide-input"
    ]
   },
   "outputs": [],
   "source": [
    "import pandas as pd\n",
    "import matplotlib.pyplot as plt\n",
    "from matplotlib import dates\n",
    "from IPython.display import display, Markdown\n",
    "%matplotlib inline"
   ]
  },
  {
   "cell_type": "code",
   "execution_count": 2,
   "id": "purple-playlist",
   "metadata": {
    "execution": {
     "iopub.execute_input": "2021-05-23T22:14:11.979571Z",
     "iopub.status.busy": "2021-05-23T22:14:11.979035Z",
     "iopub.status.idle": "2021-05-23T22:14:12.741779Z",
     "shell.execute_reply": "2021-05-23T22:14:12.740821Z"
    },
    "jupyter": {
     "source_hidden": true
    },
    "papermill": {
     "duration": 0.777182,
     "end_time": "2021-05-23T22:14:12.741918",
     "exception": false,
     "start_time": "2021-05-23T22:14:11.964736",
     "status": "completed"
    },
    "scrolled": true,
    "tags": [
     "hide-input"
    ]
   },
   "outputs": [],
   "source": [
    "# This is the data for all of Wisconsin.\n",
    "url = \"https://opendata.arcgis.com/datasets/80ff9d4897db4d7692f0f4ad28447cab_12.csv\"\n",
    "data = pd.read_csv(url, parse_dates=['DATE'], low_memory=False)"
   ]
  },
  {
   "cell_type": "code",
   "execution_count": 3,
   "id": "proprietary-klein",
   "metadata": {
    "execution": {
     "iopub.execute_input": "2021-05-23T22:14:12.765842Z",
     "iopub.status.busy": "2021-05-23T22:14:12.765306Z",
     "iopub.status.idle": "2021-05-23T22:14:12.773956Z",
     "shell.execute_reply": "2021-05-23T22:14:12.773506Z"
    },
    "jupyter": {
     "source_hidden": true
    },
    "papermill": {
     "duration": 0.02344,
     "end_time": "2021-05-23T22:14:12.774093",
     "exception": false,
     "start_time": "2021-05-23T22:14:12.750653",
     "status": "completed"
    },
    "scrolled": true,
    "tags": [
     "hide-input"
    ]
   },
   "outputs": [],
   "source": [
    "dc = data.groupby('NAME').get_group('Dunn').sort_values(by='DATE') # Select the data for Dunn County from the full data.\n",
    "PNi = dc.columns.get_loc(\"POS_NEW\")\n",
    "dc['7_DAY'] = dc.iloc[:,PNi].rolling(window=7).mean() # Calculates the rolling 7-day average of new cases.\n",
    "dc['14_DAY'] = dc.iloc[:,PNi].rolling(window=14).mean() # Calculates the rolling 14-day average of new cases."
   ]
  },
  {
   "cell_type": "code",
   "execution_count": 4,
   "id": "steady-supervision",
   "metadata": {
    "execution": {
     "iopub.execute_input": "2021-05-23T22:14:12.799546Z",
     "iopub.status.busy": "2021-05-23T22:14:12.798878Z",
     "iopub.status.idle": "2021-05-23T22:14:12.801025Z",
     "shell.execute_reply": "2021-05-23T22:14:12.801445Z"
    },
    "jupyter": {
     "source_hidden": true
    },
    "papermill": {
     "duration": 0.018708,
     "end_time": "2021-05-23T22:14:12.801573",
     "exception": false,
     "start_time": "2021-05-23T22:14:12.782865",
     "status": "completed"
    },
    "scrolled": true,
    "tags": [
     "hide-input"
    ]
   },
   "outputs": [
    {
     "data": {
      "text/markdown": [
       "### Last updated: May 22, 2021"
      ],
      "text/plain": [
       "<IPython.core.display.Markdown object>"
      ]
     },
     "metadata": {},
     "output_type": "display_data"
    }
   ],
   "source": [
    "display(Markdown('### Last updated: ' + dc.iloc[-1]['DATE'].strftime(\"%B %d, %Y\")))"
   ]
  },
  {
   "cell_type": "code",
   "execution_count": 5,
   "id": "lonely-pitch",
   "metadata": {
    "execution": {
     "iopub.execute_input": "2021-05-23T22:14:12.825221Z",
     "iopub.status.busy": "2021-05-23T22:14:12.824702Z",
     "iopub.status.idle": "2021-05-23T22:14:12.828488Z",
     "shell.execute_reply": "2021-05-23T22:14:12.828026Z"
    },
    "jupyter": {
     "source_hidden": true
    },
    "papermill": {
     "duration": 0.018141,
     "end_time": "2021-05-23T22:14:12.828602",
     "exception": false,
     "start_time": "2021-05-23T22:14:12.810461",
     "status": "completed"
    },
    "tags": [
     "hide-input"
    ]
   },
   "outputs": [
    {
     "data": {
      "text/markdown": [
       "# Dunn County has 4674 total positive cases, with 0 new cases reported today."
      ],
      "text/plain": [
       "<IPython.core.display.Markdown object>"
      ]
     },
     "metadata": {},
     "output_type": "display_data"
    }
   ],
   "source": [
    "display(Markdown('# Dunn County has ' + str(dc.iloc[-1]['POSITIVE']) + ' total positive cases, with '+ str(int(dc.iloc[-1]['POS_NEW'])) + ' new cases reported today.'))"
   ]
  },
  {
   "cell_type": "code",
   "execution_count": 6,
   "id": "compound-nightmare",
   "metadata": {
    "execution": {
     "iopub.execute_input": "2021-05-23T22:14:12.850863Z",
     "iopub.status.busy": "2021-05-23T22:14:12.850349Z",
     "iopub.status.idle": "2021-05-23T22:14:13.137187Z",
     "shell.execute_reply": "2021-05-23T22:14:13.136756Z"
    },
    "jupyter": {
     "source_hidden": true
    },
    "papermill": {
     "duration": 0.299466,
     "end_time": "2021-05-23T22:14:13.137309",
     "exception": false,
     "start_time": "2021-05-23T22:14:12.837843",
     "status": "completed"
    },
    "scrolled": false,
    "tags": [
     "hide-input"
    ]
   },
   "outputs": [
    {
     "data": {
      "image/png": "[encoded data removed]",
      "text/plain": [
       "<Figure size 864x432 with 1 Axes>"
      ]
     },
     "metadata": {
      "needs_background": "light"
     },
     "output_type": "display_data"
    }
   ],
   "source": [
    "dc.plot(x='DATE',y='POSITIVE',color='red',grid='True',figsize=(12,6)).set_xlabel('Date');"
   ]
  },
  {
   "cell_type": "markdown",
   "id": "coupled-literacy",
   "metadata": {
    "papermill": {
     "duration": 0.010558,
     "end_time": "2021-05-23T22:14:13.158361",
     "exception": false,
     "start_time": "2021-05-23T22:14:13.147803",
     "status": "completed"
    },
    "tags": []
   },
   "source": [
    "## Figure 1: Cummulative number of positive cases."
   ]
  },
  {
   "cell_type": "code",
   "execution_count": 7,
   "id": "surrounded-reserve",
   "metadata": {
    "execution": {
     "iopub.execute_input": "2021-05-23T22:14:13.194555Z",
     "iopub.status.busy": "2021-05-23T22:14:13.194016Z",
     "iopub.status.idle": "2021-05-23T22:14:13.402039Z",
     "shell.execute_reply": "2021-05-23T22:14:13.402420Z"
    },
    "jupyter": {
     "source_hidden": true
    },
    "papermill": {
     "duration": 0.234183,
     "end_time": "2021-05-23T22:14:13.402571",
     "exception": false,
     "start_time": "2021-05-23T22:14:13.168388",
     "status": "completed"
    },
    "scrolled": false,
    "tags": [
     "hide-input"
    ]
   },
   "outputs": [
    {
     "data": {
      "image/png": "[encoded data removed]",
      "text/plain": [
       "<Figure size 864x432 with 1 Axes>"
      ]
     },
     "metadata": {
      "needs_background": "light"
     },
     "output_type": "display_data"
    }
   ],
   "source": [
    "dc.plot(kind='line',x='DATE',y='7_DAY',color='blue',grid='True',figsize=(12,6)).set_xlabel('Date');"
   ]
  },
  {
   "cell_type": "markdown",
   "id": "professional-savannah",
   "metadata": {
    "papermill": {
     "duration": 0.011331,
     "end_time": "2021-05-23T22:14:13.425699",
     "exception": false,
     "start_time": "2021-05-23T22:14:13.414368",
     "status": "completed"
    },
    "tags": []
   },
   "source": [
    "## Figure 2: Rolling 7-day average of daily new cases."
   ]
  },
  {
   "cell_type": "code",
   "execution_count": 8,
   "id": "stretch-investor",
   "metadata": {
    "execution": {
     "iopub.execute_input": "2021-05-23T22:14:13.452436Z",
     "iopub.status.busy": "2021-05-23T22:14:13.451924Z",
     "iopub.status.idle": "2021-05-23T22:14:13.664082Z",
     "shell.execute_reply": "2021-05-23T22:14:13.664546Z"
    },
    "jupyter": {
     "source_hidden": true
    },
    "papermill": {
     "duration": 0.228046,
     "end_time": "2021-05-23T22:14:13.664702",
     "exception": false,
     "start_time": "2021-05-23T22:14:13.436656",
     "status": "completed"
    },
    "tags": []
   },
   "outputs": [
    {
     "data": {
      "image/png": "[encoded data removed]",
      "text/plain": [
       "<Figure size 864x432 with 1 Axes>"
      ]
     },
     "metadata": {
      "needs_background": "light"
     },
     "output_type": "display_data"
    }
   ],
   "source": [
    "dc.plot(kind='line',x='DATE',y='14_DAY',color='green',grid='True',figsize=(12,6)).set_xlabel('Date');"
   ]
  },
  {
   "cell_type": "markdown",
   "id": "prerequisite-species",
   "metadata": {
    "papermill": {
     "duration": 0.012872,
     "end_time": "2021-05-23T22:14:13.690308",
     "exception": false,
     "start_time": "2021-05-23T22:14:13.677436",
     "status": "completed"
    },
    "tags": []
   },
   "source": [
    "## Figure 3: Rolling 14-day average of daily new cases."
   ]
  },
  {
   "cell_type": "markdown",
   "id": "palestinian-guard",
   "metadata": {
    "papermill": {
     "duration": 0.012251,
     "end_time": "2021-05-23T22:14:13.714769",
     "exception": false,
     "start_time": "2021-05-23T22:14:13.702518",
     "status": "completed"
    },
    "tags": []
   },
   "source": [
    "Data source: [Wisconsin Department of Health Services](https://data.dhsgis.wi.gov/datasets/covid-19-historical-data-by-county)"
   ]
  },
  {
   "cell_type": "code",
   "execution_count": 9,
   "id": "proof-medicare",
   "metadata": {
    "execution": {
     "iopub.execute_input": "2021-05-23T22:14:13.745786Z",
     "iopub.status.busy": "2021-05-23T22:14:13.745256Z",
     "iopub.status.idle": "2021-05-23T22:14:13.748275Z",
     "shell.execute_reply": "2021-05-23T22:14:13.748679Z"
    },
    "jupyter": {
     "source_hidden": true
    },
    "papermill": {
     "duration": 0.02186,
     "end_time": "2021-05-23T22:14:13.748828",
     "exception": false,
     "start_time": "2021-05-23T22:14:13.726968",
     "status": "completed"
    },
    "tags": []
   },
   "outputs": [
    {
     "data": {
      "text/html": [
       "<style>\n",
       "div.input {\n",
       "    display:none;\n",
       "}\n",
       "</style>\n"
      ],
      "text/plain": [
       "<IPython.core.display.HTML object>"
      ]
     },
     "metadata": {},
     "output_type": "display_data"
    }
   ],
   "source": [
    "%%html\n",
    "<style>\n",
    "div.input {\n",
    "    display:none;\n",
    "}\n",
    "</style>"
   ]
  }
 ],
 "metadata": {
  "kernelspec": {
   "display_name": "Python 3",
   "language": "python",
   "name": "python3"
  },
  "language_info": {
   "codemirror_mode": {
    "name": "ipython",
    "version": 3
   },
   "file_extension": ".py",
   "mimetype": "text/x-python",
   "name": "python",
   "nbconvert_exporter": "python",
   "pygments_lexer": "ipython3",
   "version": "3.8.10"
  },
  "papermill": {
   "duration": 7.786403,
   "end_time": "2021-05-23T22:14:14.068021",
   "environment_variables": {},
   "exception": null,
   "input_path": "DunnCounty_COVID19.ipynb",
   "output_path": "DunnCounty_COVID19.ipynb",
   "parameters": {
    "Start": "True",
    "secretsPath": "/home/runner/work/_temp/secrets.json"
   },
   "start_time": "2021-05-23T22:14:06.281618",
   "version": "1.1.16"
  }
 },
 "nbformat": 4,
 "nbformat_minor": 5
}