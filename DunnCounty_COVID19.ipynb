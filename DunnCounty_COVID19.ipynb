{
 "cells": [
  {
   "cell_type": "code",
   "execution_count": 1,
   "metadata": {
    "execution": {
     "iopub.execute_input": "2020-12-08T10:12:13.931418Z",
     "iopub.status.busy": "2020-12-08T10:12:13.930446Z",
     "iopub.status.idle": "2020-12-08T10:12:15.226153Z",
     "shell.execute_reply": "2020-12-08T10:12:15.225581Z"
    },
    "jupyter": {
     "source_hidden": true
    },
    "papermill": {
     "duration": 1.310367,
     "end_time": "2020-12-08T10:12:15.226309",
     "exception": false,
     "start_time": "2020-12-08T10:12:13.915942",
     "status": "completed"
    },
    "scrolled": true,
    "tags": [
     "hide-input"
    ]
   },
   "outputs": [],
   "source": [
    "import pandas as pd\n",
    "import matplotlib.pyplot as plt\n",
    "from matplotlib import dates\n",
    "from IPython.display import display, Markdown\n",
    "%matplotlib inline"
   ]
  },
  {
   "cell_type": "code",
   "execution_count": 2,
   "metadata": {
    "execution": {
     "iopub.execute_input": "2020-12-08T10:12:15.245190Z",
     "iopub.status.busy": "2020-12-08T10:12:15.244672Z",
     "iopub.status.idle": "2020-12-08T10:12:15.960745Z",
     "shell.execute_reply": "2020-12-08T10:12:15.959368Z"
    },
    "jupyter": {
     "source_hidden": true
    },
    "papermill": {
     "duration": 0.72747,
     "end_time": "2020-12-08T10:12:15.960964",
     "exception": false,
     "start_time": "2020-12-08T10:12:15.233494",
     "status": "completed"
    },
    "scrolled": true,
    "tags": [
     "hide-input"
    ]
   },
   "outputs": [],
   "source": [
    "# This is the data for all of Wisconsin.\n",
    "url = \"https://opendata.arcgis.com/datasets/5374188992374b318d3e2305216ee413_12.csv\"\n",
    "data = pd.read_csv(url, parse_dates=['DATE'], low_memory=False)"
   ]
  },
  {
   "cell_type": "code",
   "execution_count": 3,
   "metadata": {
    "execution": {
     "iopub.execute_input": "2020-12-08T10:12:15.982583Z",
     "iopub.status.busy": "2020-12-08T10:12:15.982036Z",
     "iopub.status.idle": "2020-12-08T10:12:15.989449Z",
     "shell.execute_reply": "2020-12-08T10:12:15.989783Z"
    },
    "jupyter": {
     "source_hidden": true
    },
    "papermill": {
     "duration": 0.019099,
     "end_time": "2020-12-08T10:12:15.989903",
     "exception": false,
     "start_time": "2020-12-08T10:12:15.970804",
     "status": "completed"
    },
    "scrolled": true,
    "tags": [
     "hide-input"
    ]
   },
   "outputs": [],
   "source": [
    "dc = data.groupby('NAME').get_group('Dunn').sort_values(by='DATE') # Select the data for Dunn County from the full data.\n",
    "PNi = dc.columns.get_loc(\"POS_NEW\")\n",
    "dc['7_DAY'] = dc.iloc[:,PNi].rolling(window=7).mean() # Calculates the rolling 7-day average of new cases.\n",
    "dc['14_DAY'] = dc.iloc[:,PNi].rolling(window=14).mean() # Calculates the rolling 14-day average of new cases."
   ]
  },
  {
   "cell_type": "code",
   "execution_count": 4,
   "metadata": {
    "execution": {
     "iopub.execute_input": "2020-12-08T10:12:16.009315Z",
     "iopub.status.busy": "2020-12-08T10:12:16.008818Z",
     "iopub.status.idle": "2020-12-08T10:12:16.014552Z",
     "shell.execute_reply": "2020-12-08T10:12:16.014007Z"
    },
    "jupyter": {
     "source_hidden": true
    },
    "papermill": {
     "duration": 0.018467,
     "end_time": "2020-12-08T10:12:16.014668",
     "exception": false,
     "start_time": "2020-12-08T10:12:15.996201",
     "status": "completed"
    },
    "scrolled": true,
    "tags": [
     "hide-input"
    ]
   },
   "outputs": [
    {
     "data": {
      "text/markdown": [
       "### Last updated: December 07, 2020"
      ],
      "text/plain": [
       "<IPython.core.display.Markdown object>"
      ]
     },
     "metadata": {},
     "output_type": "display_data"
    }
   ],
   "source": [
    "display(Markdown('### Last updated: ' + dc.iloc[-1]['DATE'].strftime(\"%B %d, %Y\")))"
   ]
  },
  {
   "cell_type": "code",
   "execution_count": 5,
   "metadata": {
    "execution": {
     "iopub.execute_input": "2020-12-08T10:12:16.034117Z",
     "iopub.status.busy": "2020-12-08T10:12:16.033454Z",
     "iopub.status.idle": "2020-12-08T10:12:16.035638Z",
     "shell.execute_reply": "2020-12-08T10:12:16.036071Z"
    },
    "jupyter": {
     "source_hidden": true
    },
    "papermill": {
     "duration": 0.014427,
     "end_time": "2020-12-08T10:12:16.036193",
     "exception": false,
     "start_time": "2020-12-08T10:12:16.021766",
     "status": "completed"
    },
    "tags": [
     "hide-input"
    ]
   },
   "outputs": [
    {
     "data": {
      "text/markdown": [
       "# Dunn County has 2988 total positive cases, with 9 new cases reported today."
      ],
      "text/plain": [
       "<IPython.core.display.Markdown object>"
      ]
     },
     "metadata": {},
     "output_type": "display_data"
    }
   ],
   "source": [
    "display(Markdown('# Dunn County has ' + str(dc.iloc[-1]['POSITIVE']) + ' total positive cases, with '+ str(int(dc.iloc[-1]['POS_NEW'])) + ' new cases reported today.'))"
   ]
  },
  {
   "cell_type": "code",
   "execution_count": 6,
   "metadata": {
    "execution": {
     "iopub.execute_input": "2020-12-08T10:12:16.054806Z",
     "iopub.status.busy": "2020-12-08T10:12:16.054319Z",
     "iopub.status.idle": "2020-12-08T10:12:16.268875Z",
     "shell.execute_reply": "2020-12-08T10:12:16.269285Z"
    },
    "jupyter": {
     "source_hidden": true
    },
    "papermill": {
     "duration": 0.225899,
     "end_time": "2020-12-08T10:12:16.269438",
     "exception": false,
     "start_time": "2020-12-08T10:12:16.043539",
     "status": "completed"
    },
    "scrolled": false,
    "tags": [
     "hide-input"
    ]
   },
   "outputs": [
    {
     "data": {
      "image/png": "[encoded data removed]",
      "text/plain": [
       "<Figure size 864x432 with 1 Axes>"
      ]
     },
     "metadata": {
      "needs_background": "light"
     },
     "output_type": "display_data"
    }
   ],
   "source": [
    "dc.plot(x='DATE',y='POSITIVE',color='red',grid='True',figsize=(12,6)).set_xlabel('Date');"
   ]
  },
  {
   "cell_type": "markdown",
   "metadata": {
    "papermill": {
     "duration": 0.012425,
     "end_time": "2020-12-08T10:12:16.341179",
     "exception": false,
     "start_time": "2020-12-08T10:12:16.328754",
     "status": "completed"
    },
    "tags": []
   },
   "source": [
    "## Figure 1: Cummulative number of positive cases."
   ]
  },
  {
   "cell_type": "code",
   "execution_count": 7,
   "metadata": {
    "execution": {
     "iopub.execute_input": "2020-12-08T10:12:16.490707Z",
     "iopub.status.busy": "2020-12-08T10:12:16.490202Z",
     "iopub.status.idle": "2020-12-08T10:12:16.692397Z",
     "shell.execute_reply": "2020-12-08T10:12:16.692799Z"
    },
    "jupyter": {
     "source_hidden": true
    },
    "papermill": {
     "duration": 0.271214,
     "end_time": "2020-12-08T10:12:16.692952",
     "exception": false,
     "start_time": "2020-12-08T10:12:16.421738",
     "status": "completed"
    },
    "scrolled": false,
    "tags": [
     "hide-input"
    ]
   },
   "outputs": [
    {
     "data": {
      "image/png": "[encoded data removed]",
      "text/plain": [
       "<Figure size 864x432 with 1 Axes>"
      ]
     },
     "metadata": {
      "needs_background": "light"
     },
     "output_type": "display_data"
    }
   ],
   "source": [
    "dc.plot(kind='line',x='DATE',y='7_DAY',color='blue',grid='True',figsize=(12,6)).set_xlabel('Date');"
   ]
  },
  {
   "cell_type": "markdown",
   "metadata": {
    "papermill": {
     "duration": 0.009153,
     "end_time": "2020-12-08T10:12:16.711240",
     "exception": false,
     "start_time": "2020-12-08T10:12:16.702087",
     "status": "completed"
    },
    "tags": []
   },
   "source": [
    "## Figure 2: Rolling 7-day average of daily new cases."
   ]
  },
  {
   "cell_type": "code",
   "execution_count": 8,
   "metadata": {
    "execution": {
     "iopub.execute_input": "2020-12-08T10:12:16.734301Z",
     "iopub.status.busy": "2020-12-08T10:12:16.733772Z",
     "iopub.status.idle": "2020-12-08T10:12:16.934900Z",
     "shell.execute_reply": "2020-12-08T10:12:16.935495Z"
    },
    "jupyter": {
     "source_hidden": true
    },
    "papermill": {
     "duration": 0.215356,
     "end_time": "2020-12-08T10:12:16.935647",
     "exception": false,
     "start_time": "2020-12-08T10:12:16.720291",
     "status": "completed"
    },
    "tags": []
   },
   "outputs": [
    {
     "data": {
      "image/png": "[encoded data removed]",
      "text/plain": [
       "<Figure size 864x432 with 1 Axes>"
      ]
     },
     "metadata": {
      "needs_background": "light"
     },
     "output_type": "display_data"
    }
   ],
   "source": [
    "dc.plot(kind='line',x='DATE',y='14_DAY',color='green',grid='True',figsize=(12,6)).set_xlabel('Date');"
   ]
  },
  {
   "cell_type": "markdown",
   "metadata": {
    "papermill": {
     "duration": 0.010511,
     "end_time": "2020-12-08T10:12:16.956604",
     "exception": false,
     "start_time": "2020-12-08T10:12:16.946093",
     "status": "completed"
    },
    "tags": []
   },
   "source": [
    "## Figure 3: Rolling 14-day average of daily new cases."
   ]
  },
  {
   "cell_type": "markdown",
   "metadata": {
    "papermill": {
     "duration": 0.00992,
     "end_time": "2020-12-08T10:12:16.976836",
     "exception": false,
     "start_time": "2020-12-08T10:12:16.966916",
     "status": "completed"
    },
    "tags": []
   },
   "source": [
    "Data source: [Wisconsin Department of Health Services](https://data.dhsgis.wi.gov/datasets/covid-19-historical-data-table/)"
   ]
  },
  {
   "cell_type": "code",
   "execution_count": 9,
   "metadata": {
    "execution": {
     "iopub.execute_input": "2020-12-08T10:12:17.002824Z",
     "iopub.status.busy": "2020-12-08T10:12:17.001879Z",
     "iopub.status.idle": "2020-12-08T10:12:17.005214Z",
     "shell.execute_reply": "2020-12-08T10:12:17.005956Z"
    },
    "jupyter": {
     "source_hidden": true
    },
    "papermill": {
     "duration": 0.01959,
     "end_time": "2020-12-08T10:12:17.006184",
     "exception": false,
     "start_time": "2020-12-08T10:12:16.986594",
     "status": "completed"
    },
    "tags": []
   },
   "outputs": [
    {
     "data": {
      "text/html": [
       "<style>\n",
       "div.input {\n",
       "    display:none;\n",
       "}\n",
       "</style>\n"
      ],
      "text/plain": [
       "<IPython.core.display.HTML object>"
      ]
     },
     "metadata": {},
     "output_type": "display_data"
    }
   ],
   "source": [
    "%%html\n",
    "<style>\n",
    "div.input {\n",
    "    display:none;\n",
    "}\n",
    "</style>"
   ]
  }
 ],
 "metadata": {
  "kernelspec": {
   "display_name": "Python 3",
   "language": "python",
   "name": "python3"
  },
  "language_info": {
   "codemirror_mode": {
    "name": "ipython",
    "version": 3
   },
   "file_extension": ".py",
   "mimetype": "text/x-python",
   "name": "python",
   "nbconvert_exporter": "python",
   "pygments_lexer": "ipython3",
   "version": "3.8.6"
  },
  "papermill": {
   "duration": 5.809045,
   "end_time": "2020-12-08T10:12:18.303483",
   "environment_variables": {},
   "exception": null,
   "input_path": "DunnCounty_COVID19.ipynb",
   "output_path": "DunnCounty_COVID19.ipynb",
   "parameters": {
    "Start": "True",
    "secretsPath": "/home/runner/work/_temp/secrets.json"
   },
   "start_time": "2020-12-08T10:12:12.494438",
   "version": "1.1.16"
  }
 },
 "nbformat": 4,
 "nbformat_minor": 2
}