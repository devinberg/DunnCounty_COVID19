{
 "cells": [
  {
   "cell_type": "code",
   "execution_count": 1,
   "id": "solar-understanding",
   "metadata": {
    "execution": {
     "iopub.execute_input": "2021-05-02T23:05:54.015190Z",
     "iopub.status.busy": "2021-05-02T23:05:54.014641Z",
     "iopub.status.idle": "2021-05-02T23:05:56.185164Z",
     "shell.execute_reply": "2021-05-02T23:05:56.183730Z"
    },
    "jupyter": {
     "source_hidden": true
    },
    "papermill": {
     "duration": 2.192999,
     "end_time": "2021-05-02T23:05:56.185429",
     "exception": false,
     "start_time": "2021-05-02T23:05:53.992430",
     "status": "completed"
    },
    "scrolled": true,
    "tags": [
     "hide-input"
    ]
   },
   "outputs": [],
   "source": [
    "import pandas as pd\n",
    "import matplotlib.pyplot as plt\n",
    "from matplotlib import dates\n",
    "from IPython.display import display, Markdown\n",
    "%matplotlib inline"
   ]
  },
  {
   "cell_type": "code",
   "execution_count": 2,
   "id": "purple-playlist",
   "metadata": {
    "execution": {
     "iopub.execute_input": "2021-05-02T23:05:56.210499Z",
     "iopub.status.busy": "2021-05-02T23:05:56.209951Z",
     "iopub.status.idle": "2021-05-02T23:05:57.252945Z",
     "shell.execute_reply": "2021-05-02T23:05:57.252029Z"
    },
    "jupyter": {
     "source_hidden": true
    },
    "papermill": {
     "duration": 1.05719,
     "end_time": "2021-05-02T23:05:57.253083",
     "exception": false,
     "start_time": "2021-05-02T23:05:56.195893",
     "status": "completed"
    },
    "scrolled": true,
    "tags": [
     "hide-input"
    ]
   },
   "outputs": [],
   "source": [
    "# This is the data for all of Wisconsin.\n",
    "url = \"https://opendata.arcgis.com/datasets/80ff9d4897db4d7692f0f4ad28447cab_12.csv\"\n",
    "data = pd.read_csv(url, parse_dates=['DATE'], low_memory=False)"
   ]
  },
  {
   "cell_type": "code",
   "execution_count": 3,
   "id": "proprietary-klein",
   "metadata": {
    "execution": {
     "iopub.execute_input": "2021-05-02T23:05:57.277817Z",
     "iopub.status.busy": "2021-05-02T23:05:57.276998Z",
     "iopub.status.idle": "2021-05-02T23:05:57.285564Z",
     "shell.execute_reply": "2021-05-02T23:05:57.285120Z"
    },
    "jupyter": {
     "source_hidden": true
    },
    "papermill": {
     "duration": 0.023662,
     "end_time": "2021-05-02T23:05:57.285680",
     "exception": false,
     "start_time": "2021-05-02T23:05:57.262018",
     "status": "completed"
    },
    "scrolled": true,
    "tags": [
     "hide-input"
    ]
   },
   "outputs": [],
   "source": [
    "dc = data.groupby('NAME').get_group('Dunn').sort_values(by='DATE') # Select the data for Dunn County from the full data.\n",
    "PNi = dc.columns.get_loc(\"POS_NEW\")\n",
    "dc['7_DAY'] = dc.iloc[:,PNi].rolling(window=7).mean() # Calculates the rolling 7-day average of new cases.\n",
    "dc['14_DAY'] = dc.iloc[:,PNi].rolling(window=14).mean() # Calculates the rolling 14-day average of new cases."
   ]
  },
  {
   "cell_type": "code",
   "execution_count": 4,
   "id": "steady-supervision",
   "metadata": {
    "execution": {
     "iopub.execute_input": "2021-05-02T23:05:57.310665Z",
     "iopub.status.busy": "2021-05-02T23:05:57.310099Z",
     "iopub.status.idle": "2021-05-02T23:05:57.312682Z",
     "shell.execute_reply": "2021-05-02T23:05:57.313185Z"
    },
    "jupyter": {
     "source_hidden": true
    },
    "papermill": {
     "duration": 0.018884,
     "end_time": "2021-05-02T23:05:57.313327",
     "exception": false,
     "start_time": "2021-05-02T23:05:57.294443",
     "status": "completed"
    },
    "scrolled": true,
    "tags": [
     "hide-input"
    ]
   },
   "outputs": [
    {
     "data": {
      "text/markdown": [
       "### Last updated: May 02, 2021"
      ],
      "text/plain": [
       "<IPython.core.display.Markdown object>"
      ]
     },
     "metadata": {},
     "output_type": "display_data"
    }
   ],
   "source": [
    "display(Markdown('### Last updated: ' + dc.iloc[-1]['DATE'].strftime(\"%B %d, %Y\")))"
   ]
  },
  {
   "cell_type": "code",
   "execution_count": 5,
   "id": "lonely-pitch",
   "metadata": {
    "execution": {
     "iopub.execute_input": "2021-05-02T23:05:57.337505Z",
     "iopub.status.busy": "2021-05-02T23:05:57.336971Z",
     "iopub.status.idle": "2021-05-02T23:05:57.340004Z",
     "shell.execute_reply": "2021-05-02T23:05:57.339546Z"
    },
    "jupyter": {
     "source_hidden": true
    },
    "papermill": {
     "duration": 0.017454,
     "end_time": "2021-05-02T23:05:57.340111",
     "exception": false,
     "start_time": "2021-05-02T23:05:57.322657",
     "status": "completed"
    },
    "tags": [
     "hide-input"
    ]
   },
   "outputs": [
    {
     "data": {
      "text/markdown": [
       "# Dunn County has 4616 total positive cases, with 5 new cases reported today."
      ],
      "text/plain": [
       "<IPython.core.display.Markdown object>"
      ]
     },
     "metadata": {},
     "output_type": "display_data"
    }
   ],
   "source": [
    "display(Markdown('# Dunn County has ' + str(dc.iloc[-1]['POSITIVE']) + ' total positive cases, with '+ str(int(dc.iloc[-1]['POS_NEW'])) + ' new cases reported today.'))"
   ]
  },
  {
   "cell_type": "code",
   "execution_count": 6,
   "id": "compound-nightmare",
   "metadata": {
    "execution": {
     "iopub.execute_input": "2021-05-02T23:05:57.363432Z",
     "iopub.status.busy": "2021-05-02T23:05:57.362884Z",
     "iopub.status.idle": "2021-05-02T23:05:57.651706Z",
     "shell.execute_reply": "2021-05-02T23:05:57.652137Z"
    },
    "jupyter": {
     "source_hidden": true
    },
    "papermill": {
     "duration": 0.303055,
     "end_time": "2021-05-02T23:05:57.652593",
     "exception": false,
     "start_time": "2021-05-02T23:05:57.349538",
     "status": "completed"
    },
    "scrolled": false,
    "tags": [
     "hide-input"
    ]
   },
   "outputs": [
    {
     "data": {
      "image/png": "[encoded data removed]",
      "text/plain": [
       "<Figure size 864x432 with 1 Axes>"
      ]
     },
     "metadata": {
      "needs_background": "light"
     },
     "output_type": "display_data"
    }
   ],
   "source": [
    "dc.plot(x='DATE',y='POSITIVE',color='red',grid='True',figsize=(12,6)).set_xlabel('Date');"
   ]
  },
  {
   "cell_type": "markdown",
   "id": "coupled-literacy",
   "metadata": {
    "papermill": {
     "duration": 0.010982,
     "end_time": "2021-05-02T23:05:57.678238",
     "exception": false,
     "start_time": "2021-05-02T23:05:57.667256",
     "status": "completed"
    },
    "tags": []
   },
   "source": [
    "## Figure 1: Cummulative number of positive cases."
   ]
  },
  {
   "cell_type": "code",
   "execution_count": 7,
   "id": "surrounded-reserve",
   "metadata": {
    "execution": {
     "iopub.execute_input": "2021-05-02T23:05:57.727321Z",
     "iopub.status.busy": "2021-05-02T23:05:57.724296Z",
     "iopub.status.idle": "2021-05-02T23:05:57.930062Z",
     "shell.execute_reply": "2021-05-02T23:05:57.929220Z"
    },
    "jupyter": {
     "source_hidden": true
    },
    "papermill": {
     "duration": 0.241767,
     "end_time": "2021-05-02T23:05:57.930269",
     "exception": false,
     "start_time": "2021-05-02T23:05:57.688502",
     "status": "completed"
    },
    "scrolled": false,
    "tags": [
     "hide-input"
    ]
   },
   "outputs": [
    {
     "data": {
      "image/png": "[encoded data removed]",
      "text/plain": [
       "<Figure size 864x432 with 1 Axes>"
      ]
     },
     "metadata": {
      "needs_background": "light"
     },
     "output_type": "display_data"
    }
   ],
   "source": [
    "dc.plot(kind='line',x='DATE',y='7_DAY',color='blue',grid='True',figsize=(12,6)).set_xlabel('Date');"
   ]
  },
  {
   "cell_type": "markdown",
   "id": "professional-savannah",
   "metadata": {
    "papermill": {
     "duration": 0.012072,
     "end_time": "2021-05-02T23:05:57.956222",
     "exception": false,
     "start_time": "2021-05-02T23:05:57.944150",
     "status": "completed"
    },
    "tags": []
   },
   "source": [
    "## Figure 2: Rolling 7-day average of daily new cases."
   ]
  },
  {
   "cell_type": "code",
   "execution_count": 8,
   "id": "stretch-investor",
   "metadata": {
    "execution": {
     "iopub.execute_input": "2021-05-02T23:05:57.986308Z",
     "iopub.status.busy": "2021-05-02T23:05:57.985779Z",
     "iopub.status.idle": "2021-05-02T23:05:58.211403Z",
     "shell.execute_reply": "2021-05-02T23:05:58.211811Z"
    },
    "jupyter": {
     "source_hidden": true
    },
    "papermill": {
     "duration": 0.244094,
     "end_time": "2021-05-02T23:05:58.211955",
     "exception": false,
     "start_time": "2021-05-02T23:05:57.967861",
     "status": "completed"
    },
    "tags": []
   },
   "outputs": [
    {
     "data": {
      "image/png": "[encoded data removed]",
      "text/plain": [
       "<Figure size 864x432 with 1 Axes>"
      ]
     },
     "metadata": {
      "needs_background": "light"
     },
     "output_type": "display_data"
    }
   ],
   "source": [
    "dc.plot(kind='line',x='DATE',y='14_DAY',color='green',grid='True',figsize=(12,6)).set_xlabel('Date');"
   ]
  },
  {
   "cell_type": "markdown",
   "id": "prerequisite-species",
   "metadata": {
    "papermill": {
     "duration": 0.013725,
     "end_time": "2021-05-02T23:05:58.238554",
     "exception": false,
     "start_time": "2021-05-02T23:05:58.224829",
     "status": "completed"
    },
    "tags": []
   },
   "source": [
    "## Figure 3: Rolling 14-day average of daily new cases."
   ]
  },
  {
   "cell_type": "markdown",
   "id": "palestinian-guard",
   "metadata": {
    "papermill": {
     "duration": 0.012717,
     "end_time": "2021-05-02T23:05:58.263694",
     "exception": false,
     "start_time": "2021-05-02T23:05:58.250977",
     "status": "completed"
    },
    "tags": []
   },
   "source": [
    "Data source: [Wisconsin Department of Health Services](https://data.dhsgis.wi.gov/datasets/covid-19-historical-data-by-county)"
   ]
  },
  {
   "cell_type": "code",
   "execution_count": 9,
   "id": "proof-medicare",
   "metadata": {
    "execution": {
     "iopub.execute_input": "2021-05-02T23:05:58.294295Z",
     "iopub.status.busy": "2021-05-02T23:05:58.293602Z",
     "iopub.status.idle": "2021-05-02T23:05:58.297128Z",
     "shell.execute_reply": "2021-05-02T23:05:58.297583Z"
    },
    "jupyter": {
     "source_hidden": true
    },
    "papermill": {
     "duration": 0.021413,
     "end_time": "2021-05-02T23:05:58.297722",
     "exception": false,
     "start_time": "2021-05-02T23:05:58.276309",
     "status": "completed"
    },
    "tags": []
   },
   "outputs": [
    {
     "data": {
      "text/html": [
       "<style>\n",
       "div.input {\n",
       "    display:none;\n",
       "}\n",
       "</style>\n"
      ],
      "text/plain": [
       "<IPython.core.display.HTML object>"
      ]
     },
     "metadata": {},
     "output_type": "display_data"
    }
   ],
   "source": [
    "%%html\n",
    "<style>\n",
    "div.input {\n",
    "    display:none;\n",
    "}\n",
    "</style>"
   ]
  }
 ],
 "metadata": {
  "kernelspec": {
   "display_name": "Python 3",
   "language": "python",
   "name": "python3"
  },
  "language_info": {
   "codemirror_mode": {
    "name": "ipython",
    "version": 3
   },
   "file_extension": ".py",
   "mimetype": "text/x-python",
   "name": "python",
   "nbconvert_exporter": "python",
   "pygments_lexer": "ipython3",
   "version": "3.8.9"
  },
  "papermill": {
   "duration": 6.130475,
   "end_time": "2021-05-02T23:05:58.617838",
   "environment_variables": {},
   "exception": null,
   "input_path": "DunnCounty_COVID19.ipynb",
   "output_path": "DunnCounty_COVID19.ipynb",
   "parameters": {
    "Start": "True",
    "secretsPath": "/home/runner/work/_temp/secrets.json"
   },
   "start_time": "2021-05-02T23:05:52.487363",
   "version": "1.1.16"
  }
 },
 "nbformat": 4,
 "nbformat_minor": 5
}