{
 "cells": [
  {
   "cell_type": "code",
   "execution_count": 1,
   "metadata": {
    "execution": {
     "iopub.execute_input": "2020-11-14T22:10:09.071802Z",
     "iopub.status.busy": "2020-11-14T22:10:09.071184Z",
     "iopub.status.idle": "2020-11-14T22:10:10.479466Z",
     "shell.execute_reply": "2020-11-14T22:10:10.479973Z"
    },
    "jupyter": {
     "source_hidden": true
    },
    "papermill": {
     "duration": 1.423893,
     "end_time": "2020-11-14T22:10:10.480303",
     "exception": false,
     "start_time": "2020-11-14T22:10:09.056410",
     "status": "completed"
    },
    "scrolled": true,
    "tags": [
     "hide-input"
    ]
   },
   "outputs": [],
   "source": [
    "import pandas as pd\n",
    "import matplotlib.pyplot as plt\n",
    "from matplotlib import dates\n",
    "from IPython.display import display, Markdown\n",
    "%matplotlib inline"
   ]
  },
  {
   "cell_type": "code",
   "execution_count": 2,
   "metadata": {
    "execution": {
     "iopub.execute_input": "2020-11-14T22:10:10.503269Z",
     "iopub.status.busy": "2020-11-14T22:10:10.502605Z",
     "iopub.status.idle": "2020-11-14T22:10:11.063749Z",
     "shell.execute_reply": "2020-11-14T22:10:11.063031Z"
    },
    "jupyter": {
     "source_hidden": true
    },
    "papermill": {
     "duration": 0.574942,
     "end_time": "2020-11-14T22:10:11.063898",
     "exception": false,
     "start_time": "2020-11-14T22:10:10.488956",
     "status": "completed"
    },
    "scrolled": true,
    "tags": [
     "hide-input"
    ]
   },
   "outputs": [],
   "source": [
    "# This is the data for all of Wisconsin.\n",
    "url = \"https://opendata.arcgis.com/datasets/5374188992374b318d3e2305216ee413_12.csv\"\n",
    "data = pd.read_csv(url, parse_dates=['DATE'], low_memory=False)"
   ]
  },
  {
   "cell_type": "code",
   "execution_count": 3,
   "metadata": {
    "execution": {
     "iopub.execute_input": "2020-11-14T22:10:11.088615Z",
     "iopub.status.busy": "2020-11-14T22:10:11.087974Z",
     "iopub.status.idle": "2020-11-14T22:10:11.097851Z",
     "shell.execute_reply": "2020-11-14T22:10:11.098349Z"
    },
    "jupyter": {
     "source_hidden": true
    },
    "papermill": {
     "duration": 0.025021,
     "end_time": "2020-11-14T22:10:11.098589",
     "exception": false,
     "start_time": "2020-11-14T22:10:11.073568",
     "status": "completed"
    },
    "scrolled": true,
    "tags": [
     "hide-input"
    ]
   },
   "outputs": [],
   "source": [
    "dc = data.groupby('NAME').get_group('Dunn').sort_values(by='DATE') # Select the data for Dunn County from the full data.\n",
    "PNi = dc.columns.get_loc(\"POS_NEW\")\n",
    "dc['7_DAY'] = dc.iloc[:,PNi].rolling(window=7).mean() # Calculates the rolling 7-day average of new cases.\n",
    "dc['14_DAY'] = dc.iloc[:,PNi].rolling(window=14).mean() # Calculates the rolling 14-day average of new cases."
   ]
  },
  {
   "cell_type": "code",
   "execution_count": 4,
   "metadata": {
    "execution": {
     "iopub.execute_input": "2020-11-14T22:10:11.122042Z",
     "iopub.status.busy": "2020-11-14T22:10:11.121358Z",
     "iopub.status.idle": "2020-11-14T22:10:11.124684Z",
     "shell.execute_reply": "2020-11-14T22:10:11.125210Z"
    },
    "jupyter": {
     "source_hidden": true
    },
    "papermill": {
     "duration": 0.018981,
     "end_time": "2020-11-14T22:10:11.125383",
     "exception": false,
     "start_time": "2020-11-14T22:10:11.106402",
     "status": "completed"
    },
    "scrolled": true,
    "tags": [
     "hide-input"
    ]
   },
   "outputs": [
    {
     "data": {
      "text/markdown": [
       "### Last updated: November 14, 2020"
      ],
      "text/plain": [
       "<IPython.core.display.Markdown object>"
      ]
     },
     "metadata": {},
     "output_type": "display_data"
    }
   ],
   "source": [
    "display(Markdown('### Last updated: ' + dc.iloc[-1]['DATE'].strftime(\"%B %d, %Y\")))"
   ]
  },
  {
   "cell_type": "code",
   "execution_count": 5,
   "metadata": {
    "execution": {
     "iopub.execute_input": "2020-11-14T22:10:11.148927Z",
     "iopub.status.busy": "2020-11-14T22:10:11.148266Z",
     "iopub.status.idle": "2020-11-14T22:10:11.151640Z",
     "shell.execute_reply": "2020-11-14T22:10:11.152230Z"
    },
    "jupyter": {
     "source_hidden": true
    },
    "papermill": {
     "duration": 0.018043,
     "end_time": "2020-11-14T22:10:11.152401",
     "exception": false,
     "start_time": "2020-11-14T22:10:11.134358",
     "status": "completed"
    },
    "tags": [
     "hide-input"
    ]
   },
   "outputs": [
    {
     "data": {
      "text/markdown": [
       "# Dunn County has 1879 total positive cases, with 39 new cases reported today."
      ],
      "text/plain": [
       "<IPython.core.display.Markdown object>"
      ]
     },
     "metadata": {},
     "output_type": "display_data"
    }
   ],
   "source": [
    "display(Markdown('# Dunn County has ' + str(dc.iloc[-1]['POSITIVE']) + ' total positive cases, with '+ str(int(dc.iloc[-1]['POS_NEW'])) + ' new cases reported today.'))"
   ]
  },
  {
   "cell_type": "code",
   "execution_count": 6,
   "metadata": {
    "execution": {
     "iopub.execute_input": "2020-11-14T22:10:11.175421Z",
     "iopub.status.busy": "2020-11-14T22:10:11.174732Z",
     "iopub.status.idle": "2020-11-14T22:10:11.452458Z",
     "shell.execute_reply": "2020-11-14T22:10:11.453110Z"
    },
    "jupyter": {
     "source_hidden": true
    },
    "papermill": {
     "duration": 0.29189,
     "end_time": "2020-11-14T22:10:11.453280",
     "exception": false,
     "start_time": "2020-11-14T22:10:11.161390",
     "status": "completed"
    },
    "scrolled": false,
    "tags": [
     "hide-input"
    ]
   },
   "outputs": [
    {
     "data": {
      "image/png": "[encoded data removed]",
      "text/plain": [
       "<Figure size 864x432 with 1 Axes>"
      ]
     },
     "metadata": {
      "needs_background": "light"
     },
     "output_type": "display_data"
    }
   ],
   "source": [
    "dc.plot(x='DATE',y='POSITIVE',color='red',grid='True',figsize=(12,6)).set_xlabel('Date');"
   ]
  },
  {
   "cell_type": "markdown",
   "metadata": {
    "papermill": {
     "duration": 0.009977,
     "end_time": "2020-11-14T22:10:11.473172",
     "exception": false,
     "start_time": "2020-11-14T22:10:11.463195",
     "status": "completed"
    },
    "tags": []
   },
   "source": [
    "## Figure 1: Cummulative number of positive cases."
   ]
  },
  {
   "cell_type": "code",
   "execution_count": 7,
   "metadata": {
    "execution": {
     "iopub.execute_input": "2020-11-14T22:10:11.516964Z",
     "iopub.status.busy": "2020-11-14T22:10:11.497360Z",
     "iopub.status.idle": "2020-11-14T22:10:11.748594Z",
     "shell.execute_reply": "2020-11-14T22:10:11.749090Z"
    },
    "jupyter": {
     "source_hidden": true
    },
    "papermill": {
     "duration": 0.266492,
     "end_time": "2020-11-14T22:10:11.749262",
     "exception": false,
     "start_time": "2020-11-14T22:10:11.482770",
     "status": "completed"
    },
    "scrolled": false,
    "tags": [
     "hide-input"
    ]
   },
   "outputs": [
    {
     "data": {
      "image/png": "[encoded data removed]",
      "text/plain": [
       "<Figure size 864x432 with 1 Axes>"
      ]
     },
     "metadata": {
      "needs_background": "light"
     },
     "output_type": "display_data"
    }
   ],
   "source": [
    "dc.plot(kind='line',x='DATE',y='7_DAY',color='blue',grid='True',figsize=(12,6)).set_xlabel('Date');"
   ]
  },
  {
   "cell_type": "markdown",
   "metadata": {
    "papermill": {
     "duration": 0.010246,
     "end_time": "2020-11-14T22:10:11.770353",
     "exception": false,
     "start_time": "2020-11-14T22:10:11.760107",
     "status": "completed"
    },
    "tags": []
   },
   "source": [
    "## Figure 2: Rolling 7-day average of daily new cases."
   ]
  },
  {
   "cell_type": "code",
   "execution_count": 8,
   "metadata": {
    "execution": {
     "iopub.execute_input": "2020-11-14T22:10:11.795803Z",
     "iopub.status.busy": "2020-11-14T22:10:11.795154Z",
     "iopub.status.idle": "2020-11-14T22:10:12.039301Z",
     "shell.execute_reply": "2020-11-14T22:10:12.039839Z"
    },
    "jupyter": {
     "source_hidden": true
    },
    "papermill": {
     "duration": 0.259812,
     "end_time": "2020-11-14T22:10:12.040018",
     "exception": false,
     "start_time": "2020-11-14T22:10:11.780206",
     "status": "completed"
    },
    "tags": []
   },
   "outputs": [
    {
     "data": {
      "image/png": "[encoded data removed]",
      "text/plain": [
       "<Figure size 864x432 with 1 Axes>"
      ]
     },
     "metadata": {
      "needs_background": "light"
     },
     "output_type": "display_data"
    }
   ],
   "source": [
    "dc.plot(kind='line',x='DATE',y='14_DAY',color='green',grid='True',figsize=(12,6)).set_xlabel('Date');"
   ]
  },
  {
   "cell_type": "markdown",
   "metadata": {
    "papermill": {
     "duration": 0.011703,
     "end_time": "2020-11-14T22:10:12.065099",
     "exception": false,
     "start_time": "2020-11-14T22:10:12.053396",
     "status": "completed"
    },
    "tags": []
   },
   "source": [
    "## Figure 3: Rolling 14-day average of daily new cases."
   ]
  },
  {
   "cell_type": "markdown",
   "metadata": {
    "papermill": {
     "duration": 0.011804,
     "end_time": "2020-11-14T22:10:12.088255",
     "exception": false,
     "start_time": "2020-11-14T22:10:12.076451",
     "status": "completed"
    },
    "tags": []
   },
   "source": [
    "Data source: [Wisconsin Department of Health Services](https://data.dhsgis.wi.gov/datasets/covid-19-historical-data-table/)"
   ]
  },
  {
   "cell_type": "code",
   "execution_count": 9,
   "metadata": {
    "execution": {
     "iopub.execute_input": "2020-11-14T22:10:12.117600Z",
     "iopub.status.busy": "2020-11-14T22:10:12.116888Z",
     "iopub.status.idle": "2020-11-14T22:10:12.120262Z",
     "shell.execute_reply": "2020-11-14T22:10:12.119766Z"
    },
    "jupyter": {
     "source_hidden": true
    },
    "papermill": {
     "duration": 0.020442,
     "end_time": "2020-11-14T22:10:12.120398",
     "exception": false,
     "start_time": "2020-11-14T22:10:12.099956",
     "status": "completed"
    },
    "tags": []
   },
   "outputs": [
    {
     "data": {
      "text/html": [
       "<style>\n",
       "div.input {\n",
       "    display:none;\n",
       "}\n",
       "</style>\n"
      ],
      "text/plain": [
       "<IPython.core.display.HTML object>"
      ]
     },
     "metadata": {},
     "output_type": "display_data"
    }
   ],
   "source": [
    "%%html\n",
    "<style>\n",
    "div.input {\n",
    "    display:none;\n",
    "}\n",
    "</style>"
   ]
  }
 ],
 "metadata": {
  "kernelspec": {
   "display_name": "Python 3",
   "language": "python",
   "name": "python3"
  },
  "language_info": {
   "codemirror_mode": {
    "name": "ipython",
    "version": 3
   },
   "file_extension": ".py",
   "mimetype": "text/x-python",
   "name": "python",
   "nbconvert_exporter": "python",
   "pygments_lexer": "ipython3",
   "version": "3.8.6"
  },
  "papermill": {
   "duration": 5.803248,
   "end_time": "2020-11-14T22:10:13.292266",
   "environment_variables": {},
   "exception": null,
   "input_path": "DunnCounty_COVID19.ipynb",
   "output_path": "DunnCounty_COVID19.ipynb",
   "parameters": {
    "Start": "True",
    "secretsPath": "/home/runner/work/_temp/secrets.json"
   },
   "start_time": "2020-11-14T22:10:07.489018",
   "version": "1.1.16"
  }
 },
 "nbformat": 4,
 "nbformat_minor": 2
}