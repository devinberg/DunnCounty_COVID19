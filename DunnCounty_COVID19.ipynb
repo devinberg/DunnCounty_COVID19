{
 "cells": [
  {
   "cell_type": "code",
   "execution_count": 1,
   "metadata": {
    "execution": {
     "iopub.execute_input": "2021-01-10T10:31:08.787066Z",
     "iopub.status.busy": "2021-01-10T10:31:08.786102Z",
     "iopub.status.idle": "2021-01-10T10:31:09.843864Z",
     "shell.execute_reply": "2021-01-10T10:31:09.842795Z"
    },
    "jupyter": {
     "source_hidden": true
    },
    "papermill": {
     "duration": 1.074465,
     "end_time": "2021-01-10T10:31:09.844046",
     "exception": false,
     "start_time": "2021-01-10T10:31:08.769581",
     "status": "completed"
    },
    "scrolled": true,
    "tags": [
     "hide-input"
    ]
   },
   "outputs": [],
   "source": [
    "import pandas as pd\n",
    "import matplotlib.pyplot as plt\n",
    "from matplotlib import dates\n",
    "from IPython.display import display, Markdown\n",
    "%matplotlib inline"
   ]
  },
  {
   "cell_type": "code",
   "execution_count": 2,
   "metadata": {
    "execution": {
     "iopub.execute_input": "2021-01-10T10:31:09.862197Z",
     "iopub.status.busy": "2021-01-10T10:31:09.861665Z",
     "iopub.status.idle": "2021-01-10T10:31:10.919395Z",
     "shell.execute_reply": "2021-01-10T10:31:10.918449Z"
    },
    "jupyter": {
     "source_hidden": true
    },
    "papermill": {
     "duration": 1.069461,
     "end_time": "2021-01-10T10:31:10.919542",
     "exception": false,
     "start_time": "2021-01-10T10:31:09.850081",
     "status": "completed"
    },
    "scrolled": true,
    "tags": [
     "hide-input"
    ]
   },
   "outputs": [],
   "source": [
    "# This is the data for all of Wisconsin.\n",
    "url = \"https://opendata.arcgis.com/datasets/5374188992374b318d3e2305216ee413_12.csv\"\n",
    "data = pd.read_csv(url, parse_dates=['DATE'], low_memory=False)"
   ]
  },
  {
   "cell_type": "code",
   "execution_count": 3,
   "metadata": {
    "execution": {
     "iopub.execute_input": "2021-01-10T10:31:10.938215Z",
     "iopub.status.busy": "2021-01-10T10:31:10.937684Z",
     "iopub.status.idle": "2021-01-10T10:31:10.945556Z",
     "shell.execute_reply": "2021-01-10T10:31:10.945021Z"
    },
    "jupyter": {
     "source_hidden": true
    },
    "papermill": {
     "duration": 0.019335,
     "end_time": "2021-01-10T10:31:10.945675",
     "exception": false,
     "start_time": "2021-01-10T10:31:10.926340",
     "status": "completed"
    },
    "scrolled": true,
    "tags": [
     "hide-input"
    ]
   },
   "outputs": [],
   "source": [
    "dc = data.groupby('NAME').get_group('Dunn').sort_values(by='DATE') # Select the data for Dunn County from the full data.\n",
    "PNi = dc.columns.get_loc(\"POS_NEW\")\n",
    "dc['7_DAY'] = dc.iloc[:,PNi].rolling(window=7).mean() # Calculates the rolling 7-day average of new cases.\n",
    "dc['14_DAY'] = dc.iloc[:,PNi].rolling(window=14).mean() # Calculates the rolling 14-day average of new cases."
   ]
  },
  {
   "cell_type": "code",
   "execution_count": 4,
   "metadata": {
    "execution": {
     "iopub.execute_input": "2021-01-10T10:31:10.964153Z",
     "iopub.status.busy": "2021-01-10T10:31:10.963659Z",
     "iopub.status.idle": "2021-01-10T10:31:10.969659Z",
     "shell.execute_reply": "2021-01-10T10:31:10.969215Z"
    },
    "jupyter": {
     "source_hidden": true
    },
    "papermill": {
     "duration": 0.017629,
     "end_time": "2021-01-10T10:31:10.969768",
     "exception": false,
     "start_time": "2021-01-10T10:31:10.952139",
     "status": "completed"
    },
    "scrolled": true,
    "tags": [
     "hide-input"
    ]
   },
   "outputs": [
    {
     "data": {
      "text/markdown": [
       "### Last updated: January 09, 2021"
      ],
      "text/plain": [
       "<IPython.core.display.Markdown object>"
      ]
     },
     "metadata": {},
     "output_type": "display_data"
    }
   ],
   "source": [
    "display(Markdown('### Last updated: ' + dc.iloc[-1]['DATE'].strftime(\"%B %d, %Y\")))"
   ]
  },
  {
   "cell_type": "code",
   "execution_count": 5,
   "metadata": {
    "execution": {
     "iopub.execute_input": "2021-01-10T10:31:10.987596Z",
     "iopub.status.busy": "2021-01-10T10:31:10.987169Z",
     "iopub.status.idle": "2021-01-10T10:31:10.990923Z",
     "shell.execute_reply": "2021-01-10T10:31:10.990461Z"
    },
    "jupyter": {
     "source_hidden": true
    },
    "papermill": {
     "duration": 0.014524,
     "end_time": "2021-01-10T10:31:10.991015",
     "exception": false,
     "start_time": "2021-01-10T10:31:10.976491",
     "status": "completed"
    },
    "tags": [
     "hide-input"
    ]
   },
   "outputs": [
    {
     "data": {
      "text/markdown": [
       "# Dunn County has 3698 total positive cases, with 10 new cases reported today."
      ],
      "text/plain": [
       "<IPython.core.display.Markdown object>"
      ]
     },
     "metadata": {},
     "output_type": "display_data"
    }
   ],
   "source": [
    "display(Markdown('# Dunn County has ' + str(dc.iloc[-1]['POSITIVE']) + ' total positive cases, with '+ str(int(dc.iloc[-1]['POS_NEW'])) + ' new cases reported today.'))"
   ]
  },
  {
   "cell_type": "code",
   "execution_count": 6,
   "metadata": {
    "execution": {
     "iopub.execute_input": "2021-01-10T10:31:11.007721Z",
     "iopub.status.busy": "2021-01-10T10:31:11.007200Z",
     "iopub.status.idle": "2021-01-10T10:31:11.231806Z",
     "shell.execute_reply": "2021-01-10T10:31:11.231376Z"
    },
    "jupyter": {
     "source_hidden": true
    },
    "papermill": {
     "duration": 0.234294,
     "end_time": "2021-01-10T10:31:11.231936",
     "exception": false,
     "start_time": "2021-01-10T10:31:10.997642",
     "status": "completed"
    },
    "scrolled": false,
    "tags": [
     "hide-input"
    ]
   },
   "outputs": [
    {
     "data": {
      "image/png": "[encoded data removed]",
      "text/plain": [
       "<Figure size 864x432 with 1 Axes>"
      ]
     },
     "metadata": {
      "needs_background": "light"
     },
     "output_type": "display_data"
    }
   ],
   "source": [
    "dc.plot(x='DATE',y='POSITIVE',color='red',grid='True',figsize=(12,6)).set_xlabel('Date');"
   ]
  },
  {
   "cell_type": "markdown",
   "metadata": {
    "papermill": {
     "duration": 0.008122,
     "end_time": "2021-01-10T10:31:11.247319",
     "exception": false,
     "start_time": "2021-01-10T10:31:11.239197",
     "status": "completed"
    },
    "tags": []
   },
   "source": [
    "## Figure 1: Cummulative number of positive cases."
   ]
  },
  {
   "cell_type": "code",
   "execution_count": 7,
   "metadata": {
    "execution": {
     "iopub.execute_input": "2021-01-10T10:31:11.266900Z",
     "iopub.status.busy": "2021-01-10T10:31:11.266394Z",
     "iopub.status.idle": "2021-01-10T10:31:11.474999Z",
     "shell.execute_reply": "2021-01-10T10:31:11.474538Z"
    },
    "jupyter": {
     "source_hidden": true
    },
    "papermill": {
     "duration": 0.220858,
     "end_time": "2021-01-10T10:31:11.475119",
     "exception": false,
     "start_time": "2021-01-10T10:31:11.254261",
     "status": "completed"
    },
    "scrolled": false,
    "tags": [
     "hide-input"
    ]
   },
   "outputs": [
    {
     "data": {
      "image/png": "[encoded data removed]",
      "text/plain": [
       "<Figure size 864x432 with 1 Axes>"
      ]
     },
     "metadata": {
      "needs_background": "light"
     },
     "output_type": "display_data"
    }
   ],
   "source": [
    "dc.plot(kind='line',x='DATE',y='7_DAY',color='blue',grid='True',figsize=(12,6)).set_xlabel('Date');"
   ]
  },
  {
   "cell_type": "markdown",
   "metadata": {
    "papermill": {
     "duration": 0.009267,
     "end_time": "2021-01-10T10:31:11.494458",
     "exception": false,
     "start_time": "2021-01-10T10:31:11.485191",
     "status": "completed"
    },
    "tags": []
   },
   "source": [
    "## Figure 2: Rolling 7-day average of daily new cases."
   ]
  },
  {
   "cell_type": "code",
   "execution_count": 8,
   "metadata": {
    "execution": {
     "iopub.execute_input": "2021-01-10T10:31:11.517791Z",
     "iopub.status.busy": "2021-01-10T10:31:11.517273Z",
     "iopub.status.idle": "2021-01-10T10:31:11.722725Z",
     "shell.execute_reply": "2021-01-10T10:31:11.723073Z"
    },
    "jupyter": {
     "source_hidden": true
    },
    "papermill": {
     "duration": 0.220341,
     "end_time": "2021-01-10T10:31:11.723218",
     "exception": false,
     "start_time": "2021-01-10T10:31:11.502877",
     "status": "completed"
    },
    "tags": []
   },
   "outputs": [
    {
     "data": {
      "image/png": "[encoded data removed]",
      "text/plain": [
       "<Figure size 864x432 with 1 Axes>"
      ]
     },
     "metadata": {
      "needs_background": "light"
     },
     "output_type": "display_data"
    }
   ],
   "source": [
    "dc.plot(kind='line',x='DATE',y='14_DAY',color='green',grid='True',figsize=(12,6)).set_xlabel('Date');"
   ]
  },
  {
   "cell_type": "markdown",
   "metadata": {
    "papermill": {
     "duration": 0.073238,
     "end_time": "2021-01-10T10:31:11.806384",
     "exception": false,
     "start_time": "2021-01-10T10:31:11.733146",
     "status": "completed"
    },
    "tags": []
   },
   "source": [
    "## Figure 3: Rolling 14-day average of daily new cases."
   ]
  },
  {
   "cell_type": "markdown",
   "metadata": {
    "papermill": {
     "duration": 0.008881,
     "end_time": "2021-01-10T10:31:11.827112",
     "exception": false,
     "start_time": "2021-01-10T10:31:11.818231",
     "status": "completed"
    },
    "tags": []
   },
   "source": [
    "Data source: [Wisconsin Department of Health Services](https://data.dhsgis.wi.gov/datasets/covid-19-historical-data-table/)"
   ]
  },
  {
   "cell_type": "code",
   "execution_count": 9,
   "metadata": {
    "execution": {
     "iopub.execute_input": "2021-01-10T10:31:11.855489Z",
     "iopub.status.busy": "2021-01-10T10:31:11.855088Z",
     "iopub.status.idle": "2021-01-10T10:31:11.858967Z",
     "shell.execute_reply": "2021-01-10T10:31:11.859447Z"
    },
    "jupyter": {
     "source_hidden": true
    },
    "papermill": {
     "duration": 0.023069,
     "end_time": "2021-01-10T10:31:11.859571",
     "exception": false,
     "start_time": "2021-01-10T10:31:11.836502",
     "status": "completed"
    },
    "tags": []
   },
   "outputs": [
    {
     "data": {
      "text/html": [
       "<style>\n",
       "div.input {\n",
       "    display:none;\n",
       "}\n",
       "</style>\n"
      ],
      "text/plain": [
       "<IPython.core.display.HTML object>"
      ]
     },
     "metadata": {},
     "output_type": "display_data"
    }
   ],
   "source": [
    "%%html\n",
    "<style>\n",
    "div.input {\n",
    "    display:none;\n",
    "}\n",
    "</style>"
   ]
  }
 ],
 "metadata": {
  "kernelspec": {
   "display_name": "Python 3",
   "language": "python",
   "name": "python3"
  },
  "language_info": {
   "codemirror_mode": {
    "name": "ipython",
    "version": 3
   },
   "file_extension": ".py",
   "mimetype": "text/x-python",
   "name": "python",
   "nbconvert_exporter": "python",
   "pygments_lexer": "ipython3",
   "version": "3.8.6"
  },
  "papermill": {
   "duration": 5.680059,
   "end_time": "2021-01-10T10:31:13.176595",
   "environment_variables": {},
   "exception": null,
   "input_path": "DunnCounty_COVID19.ipynb",
   "output_path": "DunnCounty_COVID19.ipynb",
   "parameters": {
    "Start": "True",
    "secretsPath": "/home/runner/work/_temp/secrets.json"
   },
   "start_time": "2021-01-10T10:31:07.496536",
   "version": "1.1.16"
  }
 },
 "nbformat": 4,
 "nbformat_minor": 2
}