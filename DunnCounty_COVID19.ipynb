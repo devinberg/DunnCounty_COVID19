{
 "cells": [
  {
   "cell_type": "code",
   "execution_count": 1,
   "metadata": {
    "execution": {
     "iopub.execute_input": "2020-09-26T22:09:46.830490Z",
     "iopub.status.busy": "2020-09-26T22:09:46.829744Z",
     "iopub.status.idle": "2020-09-26T22:09:48.136435Z",
     "shell.execute_reply": "2020-09-26T22:09:48.135753Z"
    },
    "jupyter": {
     "source_hidden": true
    },
    "papermill": {
     "duration": 1.323718,
     "end_time": "2020-09-26T22:09:48.136660",
     "exception": false,
     "start_time": "2020-09-26T22:09:46.812942",
     "status": "completed"
    },
    "scrolled": true,
    "tags": [
     "hide-input"
    ]
   },
   "outputs": [],
   "source": [
    "import pandas as pd\n",
    "import matplotlib.pyplot as plt\n",
    "from matplotlib import dates\n",
    "from IPython.display import display, Markdown\n",
    "%matplotlib inline"
   ]
  },
  {
   "cell_type": "code",
   "execution_count": 2,
   "metadata": {
    "execution": {
     "iopub.execute_input": "2020-09-26T22:09:48.170477Z",
     "iopub.status.busy": "2020-09-26T22:09:48.169745Z",
     "iopub.status.idle": "2020-09-26T22:09:52.296024Z",
     "shell.execute_reply": "2020-09-26T22:09:52.295035Z"
    },
    "jupyter": {
     "source_hidden": true
    },
    "papermill": {
     "duration": 4.142467,
     "end_time": "2020-09-26T22:09:52.296173",
     "exception": false,
     "start_time": "2020-09-26T22:09:48.153706",
     "status": "completed"
    },
    "scrolled": true,
    "tags": [
     "hide-input"
    ]
   },
   "outputs": [],
   "source": [
    "# This is the data for all of Wisconsin.\n",
    "url = \"https://opendata.arcgis.com/datasets/b913e9591eae4912b33dc5b4e88646c5_10.csv\"\n",
    "data = pd.read_csv(url, parse_dates=['DATE'], low_memory=False)"
   ]
  },
  {
   "cell_type": "code",
   "execution_count": 3,
   "metadata": {
    "execution": {
     "iopub.execute_input": "2020-09-26T22:09:52.329887Z",
     "iopub.status.busy": "2020-09-26T22:09:52.329183Z",
     "iopub.status.idle": "2020-09-26T22:09:52.340062Z",
     "shell.execute_reply": "2020-09-26T22:09:52.339456Z"
    },
    "jupyter": {
     "source_hidden": true
    },
    "papermill": {
     "duration": 0.034717,
     "end_time": "2020-09-26T22:09:52.340218",
     "exception": false,
     "start_time": "2020-09-26T22:09:52.305501",
     "status": "completed"
    },
    "scrolled": true,
    "tags": [
     "hide-input"
    ]
   },
   "outputs": [],
   "source": [
    "dc = data.groupby('NAME').get_group('Dunn').sort_values(by='DATE') # Select the data for Dunn County from the full data.\n",
    "PNi = dc.columns.get_loc(\"POS_NEW\")\n",
    "dc['7_DAY'] = dc.iloc[:,PNi].rolling(window=7).mean() # Calculates the rolling 7-day average of new cases.\n",
    "dc['14_DAY'] = dc.iloc[:,PNi].rolling(window=14).mean() # Calculates the rolling 14-day average of new cases."
   ]
  },
  {
   "cell_type": "code",
   "execution_count": 4,
   "metadata": {
    "execution": {
     "iopub.execute_input": "2020-09-26T22:09:52.366185Z",
     "iopub.status.busy": "2020-09-26T22:09:52.364986Z",
     "iopub.status.idle": "2020-09-26T22:09:52.369771Z",
     "shell.execute_reply": "2020-09-26T22:09:52.369202Z"
    },
    "jupyter": {
     "source_hidden": true
    },
    "papermill": {
     "duration": 0.021282,
     "end_time": "2020-09-26T22:09:52.369925",
     "exception": false,
     "start_time": "2020-09-26T22:09:52.348643",
     "status": "completed"
    },
    "scrolled": true,
    "tags": [
     "hide-input"
    ]
   },
   "outputs": [
    {
     "data": {
      "text/markdown": [
       "### Last updated: September 26, 2020"
      ],
      "text/plain": [
       "<IPython.core.display.Markdown object>"
      ]
     },
     "metadata": {},
     "output_type": "display_data"
    }
   ],
   "source": [
    "display(Markdown('### Last updated: ' + dc.iloc[-1]['DATE'].strftime(\"%B %d, %Y\")))"
   ]
  },
  {
   "cell_type": "code",
   "execution_count": 5,
   "metadata": {
    "execution": {
     "iopub.execute_input": "2020-09-26T22:09:52.395130Z",
     "iopub.status.busy": "2020-09-26T22:09:52.394521Z",
     "iopub.status.idle": "2020-09-26T22:09:52.398235Z",
     "shell.execute_reply": "2020-09-26T22:09:52.397673Z"
    },
    "jupyter": {
     "source_hidden": true
    },
    "papermill": {
     "duration": 0.018823,
     "end_time": "2020-09-26T22:09:52.398379",
     "exception": false,
     "start_time": "2020-09-26T22:09:52.379556",
     "status": "completed"
    },
    "tags": [
     "hide-input"
    ]
   },
   "outputs": [
    {
     "data": {
      "text/markdown": [
       "# Dunn County has 498 total positive cases, with 26 new cases reported today."
      ],
      "text/plain": [
       "<IPython.core.display.Markdown object>"
      ]
     },
     "metadata": {},
     "output_type": "display_data"
    }
   ],
   "source": [
    "display(Markdown('# Dunn County has ' + str(dc.iloc[-1]['POSITIVE']) + ' total positive cases, with '+ str(int(dc.iloc[-1]['POS_NEW'])) + ' new cases reported today.'))"
   ]
  },
  {
   "cell_type": "code",
   "execution_count": 6,
   "metadata": {
    "execution": {
     "iopub.execute_input": "2020-09-26T22:09:52.421008Z",
     "iopub.status.busy": "2020-09-26T22:09:52.420413Z",
     "iopub.status.idle": "2020-09-26T22:09:52.693612Z",
     "shell.execute_reply": "2020-09-26T22:09:52.693009Z"
    },
    "jupyter": {
     "source_hidden": true
    },
    "papermill": {
     "duration": 0.286793,
     "end_time": "2020-09-26T22:09:52.693766",
     "exception": false,
     "start_time": "2020-09-26T22:09:52.406973",
     "status": "completed"
    },
    "scrolled": false,
    "tags": [
     "hide-input"
    ]
   },
   "outputs": [
    {
     "data": {
      "image/png": "[encoded data removed]",
      "text/plain": [
       "<Figure size 864x432 with 1 Axes>"
      ]
     },
     "metadata": {
      "needs_background": "light"
     },
     "output_type": "display_data"
    }
   ],
   "source": [
    "dc.plot(x='DATE',y='POSITIVE',color='red',grid='True',figsize=(12,6)).set_xlabel('Date');"
   ]
  },
  {
   "cell_type": "markdown",
   "metadata": {
    "papermill": {
     "duration": 0.010899,
     "end_time": "2020-09-26T22:09:52.714908",
     "exception": false,
     "start_time": "2020-09-26T22:09:52.704009",
     "status": "completed"
    },
    "tags": []
   },
   "source": [
    "## Figure 1: Cummulative number of positive cases."
   ]
  },
  {
   "cell_type": "code",
   "execution_count": 7,
   "metadata": {
    "execution": {
     "iopub.execute_input": "2020-09-26T22:09:52.747124Z",
     "iopub.status.busy": "2020-09-26T22:09:52.746523Z",
     "iopub.status.idle": "2020-09-26T22:09:52.967616Z",
     "shell.execute_reply": "2020-09-26T22:09:52.968161Z"
    },
    "jupyter": {
     "source_hidden": true
    },
    "papermill": {
     "duration": 0.24182,
     "end_time": "2020-09-26T22:09:52.968352",
     "exception": false,
     "start_time": "2020-09-26T22:09:52.726532",
     "status": "completed"
    },
    "scrolled": false,
    "tags": [
     "hide-input"
    ]
   },
   "outputs": [
    {
     "data": {
      "image/png": "[encoded data removed]",
      "text/plain": [
       "<Figure size 864x432 with 1 Axes>"
      ]
     },
     "metadata": {
      "needs_background": "light"
     },
     "output_type": "display_data"
    }
   ],
   "source": [
    "dc.plot(kind='line',x='DATE',y='7_DAY',color='blue',grid='True',figsize=(12,6)).set_xlabel('Date');"
   ]
  },
  {
   "cell_type": "markdown",
   "metadata": {
    "papermill": {
     "duration": 0.010966,
     "end_time": "2020-09-26T22:09:52.991525",
     "exception": false,
     "start_time": "2020-09-26T22:09:52.980559",
     "status": "completed"
    },
    "tags": []
   },
   "source": [
    "## Figure 2: Rolling 7-day average of daily new cases."
   ]
  },
  {
   "cell_type": "code",
   "execution_count": 8,
   "metadata": {
    "execution": {
     "iopub.execute_input": "2020-09-26T22:09:53.016998Z",
     "iopub.status.busy": "2020-09-26T22:09:53.016398Z",
     "iopub.status.idle": "2020-09-26T22:09:53.257921Z",
     "shell.execute_reply": "2020-09-26T22:09:53.258463Z"
    },
    "jupyter": {
     "source_hidden": true
    },
    "papermill": {
     "duration": 0.256858,
     "end_time": "2020-09-26T22:09:53.258663",
     "exception": false,
     "start_time": "2020-09-26T22:09:53.001805",
     "status": "completed"
    },
    "tags": []
   },
   "outputs": [
    {
     "data": {
      "image/png": "[encoded data removed]",
      "text/plain": [
       "<Figure size 864x432 with 1 Axes>"
      ]
     },
     "metadata": {
      "needs_background": "light"
     },
     "output_type": "display_data"
    }
   ],
   "source": [
    "dc.plot(kind='line',x='DATE',y='14_DAY',color='green',grid='True',figsize=(12,6)).set_xlabel('Date');"
   ]
  },
  {
   "cell_type": "markdown",
   "metadata": {
    "papermill": {
     "duration": 0.012498,
     "end_time": "2020-09-26T22:09:53.284411",
     "exception": false,
     "start_time": "2020-09-26T22:09:53.271913",
     "status": "completed"
    },
    "tags": []
   },
   "source": [
    "## Figure 3: Rolling 14-day average of daily new cases."
   ]
  },
  {
   "cell_type": "markdown",
   "metadata": {
    "papermill": {
     "duration": 0.011847,
     "end_time": "2020-09-26T22:09:53.308072",
     "exception": false,
     "start_time": "2020-09-26T22:09:53.296225",
     "status": "completed"
    },
    "tags": []
   },
   "source": [
    "Data source: [Wisconsin Department of Health Services](https://data.dhsgis.wi.gov/datasets/covid-19-historical-data-table/)"
   ]
  },
  {
   "cell_type": "code",
   "execution_count": 9,
   "metadata": {
    "execution": {
     "iopub.execute_input": "2020-09-26T22:09:53.338127Z",
     "iopub.status.busy": "2020-09-26T22:09:53.337486Z",
     "iopub.status.idle": "2020-09-26T22:09:53.341127Z",
     "shell.execute_reply": "2020-09-26T22:09:53.340611Z"
    },
    "jupyter": {
     "source_hidden": true
    },
    "papermill": {
     "duration": 0.019713,
     "end_time": "2020-09-26T22:09:53.341260",
     "exception": false,
     "start_time": "2020-09-26T22:09:53.321547",
     "status": "completed"
    },
    "tags": []
   },
   "outputs": [
    {
     "data": {
      "text/html": [
       "<style>\n",
       "div.input {\n",
       "    display:none;\n",
       "}\n",
       "</style>\n"
      ],
      "text/plain": [
       "<IPython.core.display.HTML object>"
      ]
     },
     "metadata": {},
     "output_type": "display_data"
    }
   ],
   "source": [
    "%%html\n",
    "<style>\n",
    "div.input {\n",
    "    display:none;\n",
    "}\n",
    "</style>"
   ]
  }
 ],
 "metadata": {
  "kernelspec": {
   "display_name": "Python 3",
   "language": "python",
   "name": "python3"
  },
  "language_info": {
   "codemirror_mode": {
    "name": "ipython",
    "version": 3
   },
   "file_extension": ".py",
   "mimetype": "text/x-python",
   "name": "python",
   "nbconvert_exporter": "python",
   "pygments_lexer": "ipython3",
   "version": "3.8.5"
  },
  "papermill": {
   "duration": 8.637663,
   "end_time": "2020-09-26T22:09:53.759812",
   "environment_variables": {},
   "exception": null,
   "input_path": "DunnCounty_COVID19.ipynb",
   "output_path": "DunnCounty_COVID19.ipynb",
   "parameters": {
    "Start": "True",
    "secretsPath": "/home/runner/work/_temp/secrets.json"
   },
   "start_time": "2020-09-26T22:09:45.122149",
   "version": "1.1.16"
  }
 },
 "nbformat": 4,
 "nbformat_minor": 2
}