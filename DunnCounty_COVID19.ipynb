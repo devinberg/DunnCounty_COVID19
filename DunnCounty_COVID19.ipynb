{
 "cells": [
  {
   "cell_type": "code",
   "execution_count": 1,
   "metadata": {
    "execution": {
     "iopub.execute_input": "2020-09-19T10:09:35.749503Z",
     "iopub.status.busy": "2020-09-19T10:09:35.748945Z",
     "iopub.status.idle": "2020-09-19T10:09:36.947849Z",
     "shell.execute_reply": "2020-09-19T10:09:36.946856Z"
    },
    "jupyter": {
     "source_hidden": true
    },
    "papermill": {
     "duration": 1.21508,
     "end_time": "2020-09-19T10:09:36.948152",
     "exception": false,
     "start_time": "2020-09-19T10:09:35.733072",
     "status": "completed"
    },
    "scrolled": true,
    "tags": [
     "hide-input"
    ]
   },
   "outputs": [],
   "source": [
    "import pandas as pd\n",
    "import matplotlib.pyplot as plt\n",
    "from matplotlib import dates\n",
    "from IPython.display import display, Markdown\n",
    "%matplotlib inline"
   ]
  },
  {
   "cell_type": "code",
   "execution_count": 2,
   "metadata": {
    "execution": {
     "iopub.execute_input": "2020-09-19T10:09:36.968524Z",
     "iopub.status.busy": "2020-09-19T10:09:36.968065Z",
     "iopub.status.idle": "2020-09-19T10:09:39.735282Z",
     "shell.execute_reply": "2020-09-19T10:09:39.734300Z"
    },
    "jupyter": {
     "source_hidden": true
    },
    "papermill": {
     "duration": 2.778798,
     "end_time": "2020-09-19T10:09:39.735431",
     "exception": false,
     "start_time": "2020-09-19T10:09:36.956633",
     "status": "completed"
    },
    "scrolled": true,
    "tags": [
     "hide-input"
    ]
   },
   "outputs": [],
   "source": [
    "# This is the data for all of Wisconsin.\n",
    "url = \"https://opendata.arcgis.com/datasets/b913e9591eae4912b33dc5b4e88646c5_10.csv\"\n",
    "data = pd.read_csv(url, parse_dates=['DATE'], low_memory=False)"
   ]
  },
  {
   "cell_type": "code",
   "execution_count": 3,
   "metadata": {
    "execution": {
     "iopub.execute_input": "2020-09-19T10:09:39.766046Z",
     "iopub.status.busy": "2020-09-19T10:09:39.765484Z",
     "iopub.status.idle": "2020-09-19T10:09:39.775452Z",
     "shell.execute_reply": "2020-09-19T10:09:39.774934Z"
    },
    "jupyter": {
     "source_hidden": true
    },
    "papermill": {
     "duration": 0.031252,
     "end_time": "2020-09-19T10:09:39.775574",
     "exception": false,
     "start_time": "2020-09-19T10:09:39.744322",
     "status": "completed"
    },
    "scrolled": true,
    "tags": [
     "hide-input"
    ]
   },
   "outputs": [],
   "source": [
    "dc = data.groupby('NAME').get_group('Dunn').sort_values(by='DATE') # Select the data for Dunn County from the full data.\n",
    "PNi = dc.columns.get_loc(\"POS_NEW\")\n",
    "dc['7_DAY'] = dc.iloc[:,PNi].rolling(window=7).mean() # Calculates the rolling 7-day average of new cases.\n",
    "dc['14_DAY'] = dc.iloc[:,PNi].rolling(window=14).mean() # Calculates the rolling 14-day average of new cases."
   ]
  },
  {
   "cell_type": "code",
   "execution_count": 4,
   "metadata": {
    "execution": {
     "iopub.execute_input": "2020-09-19T10:09:39.797257Z",
     "iopub.status.busy": "2020-09-19T10:09:39.796628Z",
     "iopub.status.idle": "2020-09-19T10:09:39.802206Z",
     "shell.execute_reply": "2020-09-19T10:09:39.801674Z"
    },
    "jupyter": {
     "source_hidden": true
    },
    "papermill": {
     "duration": 0.019209,
     "end_time": "2020-09-19T10:09:39.802320",
     "exception": false,
     "start_time": "2020-09-19T10:09:39.783111",
     "status": "completed"
    },
    "scrolled": true,
    "tags": [
     "hide-input"
    ]
   },
   "outputs": [
    {
     "data": {
      "text/markdown": [
       "### Last updated: September 18, 2020"
      ],
      "text/plain": [
       "<IPython.core.display.Markdown object>"
      ]
     },
     "metadata": {},
     "output_type": "display_data"
    }
   ],
   "source": [
    "display(Markdown('### Last updated: ' + dc.iloc[-1]['DATE'].strftime(\"%B %d, %Y\")))"
   ]
  },
  {
   "cell_type": "code",
   "execution_count": 5,
   "metadata": {
    "execution": {
     "iopub.execute_input": "2020-09-19T10:09:39.822041Z",
     "iopub.status.busy": "2020-09-19T10:09:39.821505Z",
     "iopub.status.idle": "2020-09-19T10:09:39.824539Z",
     "shell.execute_reply": "2020-09-19T10:09:39.823989Z"
    },
    "jupyter": {
     "source_hidden": true
    },
    "papermill": {
     "duration": 0.014804,
     "end_time": "2020-09-19T10:09:39.824654",
     "exception": false,
     "start_time": "2020-09-19T10:09:39.809850",
     "status": "completed"
    },
    "tags": [
     "hide-input"
    ]
   },
   "outputs": [
    {
     "data": {
      "text/markdown": [
       "# Dunn County has 319 total positive cases, with 30 new cases reported today."
      ],
      "text/plain": [
       "<IPython.core.display.Markdown object>"
      ]
     },
     "metadata": {},
     "output_type": "display_data"
    }
   ],
   "source": [
    "display(Markdown('# Dunn County has ' + str(dc.iloc[-1]['POSITIVE']) + ' total positive cases, with '+ str(int(dc.iloc[-1]['POS_NEW'])) + ' new cases reported today.'))"
   ]
  },
  {
   "cell_type": "code",
   "execution_count": 6,
   "metadata": {
    "execution": {
     "iopub.execute_input": "2020-09-19T10:09:39.851496Z",
     "iopub.status.busy": "2020-09-19T10:09:39.850956Z",
     "iopub.status.idle": "2020-09-19T10:09:40.068975Z",
     "shell.execute_reply": "2020-09-19T10:09:40.068499Z"
    },
    "jupyter": {
     "source_hidden": true
    },
    "papermill": {
     "duration": 0.235786,
     "end_time": "2020-09-19T10:09:40.069113",
     "exception": false,
     "start_time": "2020-09-19T10:09:39.833327",
     "status": "completed"
    },
    "scrolled": false,
    "tags": [
     "hide-input"
    ]
   },
   "outputs": [
    {
     "data": {
      "image/png": "[encoded data removed]",
      "text/plain": [
       "<Figure size 864x432 with 1 Axes>"
      ]
     },
     "metadata": {
      "needs_background": "light"
     },
     "output_type": "display_data"
    }
   ],
   "source": [
    "dc.plot(x='DATE',y='POSITIVE',color='red',grid='True',figsize=(12,6)).set_xlabel('Date');"
   ]
  },
  {
   "cell_type": "markdown",
   "metadata": {
    "papermill": {
     "duration": 0.009409,
     "end_time": "2020-09-19T10:09:40.090030",
     "exception": false,
     "start_time": "2020-09-19T10:09:40.080621",
     "status": "completed"
    },
    "tags": []
   },
   "source": [
    "## Figure 1: Cummulative number of positive cases."
   ]
  },
  {
   "cell_type": "code",
   "execution_count": 7,
   "metadata": {
    "execution": {
     "iopub.execute_input": "2020-09-19T10:09:40.113251Z",
     "iopub.status.busy": "2020-09-19T10:09:40.112558Z",
     "iopub.status.idle": "2020-09-19T10:09:40.310685Z",
     "shell.execute_reply": "2020-09-19T10:09:40.311156Z"
    },
    "jupyter": {
     "source_hidden": true
    },
    "papermill": {
     "duration": 0.21265,
     "end_time": "2020-09-19T10:09:40.311321",
     "exception": false,
     "start_time": "2020-09-19T10:09:40.098671",
     "status": "completed"
    },
    "scrolled": false,
    "tags": [
     "hide-input"
    ]
   },
   "outputs": [
    {
     "data": {
      "image/png": "[encoded data removed]",
      "text/plain": [
       "<Figure size 864x432 with 1 Axes>"
      ]
     },
     "metadata": {
      "needs_background": "light"
     },
     "output_type": "display_data"
    }
   ],
   "source": [
    "dc.plot(kind='line',x='DATE',y='7_DAY',color='blue',grid='True',figsize=(12,6)).set_xlabel('Date');"
   ]
  },
  {
   "cell_type": "markdown",
   "metadata": {
    "papermill": {
     "duration": 0.010912,
     "end_time": "2020-09-19T10:09:40.333683",
     "exception": false,
     "start_time": "2020-09-19T10:09:40.322771",
     "status": "completed"
    },
    "tags": []
   },
   "source": [
    "## Figure 2: Rolling 7-day average of daily new cases."
   ]
  },
  {
   "cell_type": "code",
   "execution_count": 8,
   "metadata": {
    "execution": {
     "iopub.execute_input": "2020-09-19T10:09:40.359772Z",
     "iopub.status.busy": "2020-09-19T10:09:40.359181Z",
     "iopub.status.idle": "2020-09-19T10:09:40.536814Z",
     "shell.execute_reply": "2020-09-19T10:09:40.537253Z"
    },
    "jupyter": {
     "source_hidden": true
    },
    "papermill": {
     "duration": 0.194098,
     "end_time": "2020-09-19T10:09:40.537412",
     "exception": false,
     "start_time": "2020-09-19T10:09:40.343314",
     "status": "completed"
    },
    "tags": []
   },
   "outputs": [
    {
     "data": {
      "image/png": "[encoded data removed]",
      "text/plain": [
       "<Figure size 864x432 with 1 Axes>"
      ]
     },
     "metadata": {
      "needs_background": "light"
     },
     "output_type": "display_data"
    }
   ],
   "source": [
    "dc.plot(kind='line',x='DATE',y='14_DAY',color='green',grid='True',figsize=(12,6)).set_xlabel('Date');"
   ]
  },
  {
   "cell_type": "markdown",
   "metadata": {
    "papermill": {
     "duration": 0.009626,
     "end_time": "2020-09-19T10:09:40.557996",
     "exception": false,
     "start_time": "2020-09-19T10:09:40.548370",
     "status": "completed"
    },
    "tags": []
   },
   "source": [
    "## Figure 3: Rolling 14-day average of daily new cases."
   ]
  },
  {
   "cell_type": "markdown",
   "metadata": {
    "papermill": {
     "duration": 0.010219,
     "end_time": "2020-09-19T10:09:40.578304",
     "exception": false,
     "start_time": "2020-09-19T10:09:40.568085",
     "status": "completed"
    },
    "tags": []
   },
   "source": [
    "Data source: [Wisconsin Department of Health Services](https://data.dhsgis.wi.gov/datasets/covid-19-historical-data-table/)"
   ]
  },
  {
   "cell_type": "code",
   "execution_count": 9,
   "metadata": {
    "execution": {
     "iopub.execute_input": "2020-09-19T10:09:40.602948Z",
     "iopub.status.busy": "2020-09-19T10:09:40.602318Z",
     "iopub.status.idle": "2020-09-19T10:09:40.605337Z",
     "shell.execute_reply": "2020-09-19T10:09:40.604874Z"
    },
    "jupyter": {
     "source_hidden": true
    },
    "papermill": {
     "duration": 0.017161,
     "end_time": "2020-09-19T10:09:40.605479",
     "exception": false,
     "start_time": "2020-09-19T10:09:40.588318",
     "status": "completed"
    },
    "tags": []
   },
   "outputs": [
    {
     "data": {
      "text/html": [
       "<style>\n",
       "div.input {\n",
       "    display:none;\n",
       "}\n",
       "</style>\n"
      ],
      "text/plain": [
       "<IPython.core.display.HTML object>"
      ]
     },
     "metadata": {},
     "output_type": "display_data"
    }
   ],
   "source": [
    "%%html\n",
    "<style>\n",
    "div.input {\n",
    "    display:none;\n",
    "}\n",
    "</style>"
   ]
  }
 ],
 "metadata": {
  "kernelspec": {
   "display_name": "Python 3",
   "language": "python",
   "name": "python3"
  },
  "language_info": {
   "codemirror_mode": {
    "name": "ipython",
    "version": 3
   },
   "file_extension": ".py",
   "mimetype": "text/x-python",
   "name": "python",
   "nbconvert_exporter": "python",
   "pygments_lexer": "ipython3",
   "version": "3.8.5"
  },
  "papermill": {
   "duration": 6.653133,
   "end_time": "2020-09-19T10:09:40.923005",
   "environment_variables": {},
   "exception": null,
   "input_path": "DunnCounty_COVID19.ipynb",
   "output_path": "DunnCounty_COVID19.ipynb",
   "parameters": {
    "Start": "True",
    "secretsPath": "/home/runner/work/_temp/secrets.json"
   },
   "start_time": "2020-09-19T10:09:34.269872",
   "version": "1.1.16"
  }
 },
 "nbformat": 4,
 "nbformat_minor": 2
}