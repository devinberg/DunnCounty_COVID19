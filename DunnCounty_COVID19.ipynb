{
 "cells": [
  {
   "cell_type": "code",
   "execution_count": 1,
   "metadata": {
    "execution": {
     "iopub.execute_input": "2020-11-09T22:11:14.736959Z",
     "iopub.status.busy": "2020-11-09T22:11:14.736426Z",
     "iopub.status.idle": "2020-11-09T22:11:16.443149Z",
     "shell.execute_reply": "2020-11-09T22:11:16.442326Z"
    },
    "jupyter": {
     "source_hidden": true
    },
    "papermill": {
     "duration": 1.721483,
     "end_time": "2020-11-09T22:11:16.443345",
     "exception": false,
     "start_time": "2020-11-09T22:11:14.721862",
     "status": "completed"
    },
    "scrolled": true,
    "tags": [
     "hide-input"
    ]
   },
   "outputs": [],
   "source": [
    "import pandas as pd\n",
    "import matplotlib.pyplot as plt\n",
    "from matplotlib import dates\n",
    "from IPython.display import display, Markdown\n",
    "%matplotlib inline"
   ]
  },
  {
   "cell_type": "code",
   "execution_count": 2,
   "metadata": {
    "execution": {
     "iopub.execute_input": "2020-11-09T22:11:16.463687Z",
     "iopub.status.busy": "2020-11-09T22:11:16.463151Z",
     "iopub.status.idle": "2020-11-09T22:11:17.457433Z",
     "shell.execute_reply": "2020-11-09T22:11:17.456916Z"
    },
    "jupyter": {
     "source_hidden": true
    },
    "papermill": {
     "duration": 1.006078,
     "end_time": "2020-11-09T22:11:17.457567",
     "exception": false,
     "start_time": "2020-11-09T22:11:16.451489",
     "status": "completed"
    },
    "scrolled": true,
    "tags": [
     "hide-input"
    ]
   },
   "outputs": [],
   "source": [
    "# This is the data for all of Wisconsin.\n",
    "url = \"https://opendata.arcgis.com/datasets/5374188992374b318d3e2305216ee413_12.csv\"\n",
    "data = pd.read_csv(url, parse_dates=['DATE'], low_memory=False)"
   ]
  },
  {
   "cell_type": "code",
   "execution_count": 3,
   "metadata": {
    "execution": {
     "iopub.execute_input": "2020-11-09T22:11:17.482623Z",
     "iopub.status.busy": "2020-11-09T22:11:17.482071Z",
     "iopub.status.idle": "2020-11-09T22:11:17.490510Z",
     "shell.execute_reply": "2020-11-09T22:11:17.490001Z"
    },
    "jupyter": {
     "source_hidden": true
    },
    "papermill": {
     "duration": 0.022559,
     "end_time": "2020-11-09T22:11:17.490646",
     "exception": false,
     "start_time": "2020-11-09T22:11:17.468087",
     "status": "completed"
    },
    "scrolled": true,
    "tags": [
     "hide-input"
    ]
   },
   "outputs": [],
   "source": [
    "dc = data.groupby('NAME').get_group('Dunn').sort_values(by='DATE') # Select the data for Dunn County from the full data.\n",
    "PNi = dc.columns.get_loc(\"POS_NEW\")\n",
    "dc['7_DAY'] = dc.iloc[:,PNi].rolling(window=7).mean() # Calculates the rolling 7-day average of new cases.\n",
    "dc['14_DAY'] = dc.iloc[:,PNi].rolling(window=14).mean() # Calculates the rolling 14-day average of new cases."
   ]
  },
  {
   "cell_type": "code",
   "execution_count": 4,
   "metadata": {
    "execution": {
     "iopub.execute_input": "2020-11-09T22:11:17.511097Z",
     "iopub.status.busy": "2020-11-09T22:11:17.510502Z",
     "iopub.status.idle": "2020-11-09T22:11:17.517541Z",
     "shell.execute_reply": "2020-11-09T22:11:17.518082Z"
    },
    "jupyter": {
     "source_hidden": true
    },
    "papermill": {
     "duration": 0.020711,
     "end_time": "2020-11-09T22:11:17.518212",
     "exception": false,
     "start_time": "2020-11-09T22:11:17.497501",
     "status": "completed"
    },
    "scrolled": true,
    "tags": [
     "hide-input"
    ]
   },
   "outputs": [
    {
     "data": {
      "text/markdown": [
       "### Last updated: November 09, 2020"
      ],
      "text/plain": [
       "<IPython.core.display.Markdown object>"
      ]
     },
     "metadata": {},
     "output_type": "display_data"
    }
   ],
   "source": [
    "display(Markdown('### Last updated: ' + dc.iloc[-1]['DATE'].strftime(\"%B %d, %Y\")))"
   ]
  },
  {
   "cell_type": "code",
   "execution_count": 5,
   "metadata": {
    "execution": {
     "iopub.execute_input": "2020-11-09T22:11:17.539696Z",
     "iopub.status.busy": "2020-11-09T22:11:17.538930Z",
     "iopub.status.idle": "2020-11-09T22:11:17.544090Z",
     "shell.execute_reply": "2020-11-09T22:11:17.543520Z"
    },
    "jupyter": {
     "source_hidden": true
    },
    "papermill": {
     "duration": 0.017142,
     "end_time": "2020-11-09T22:11:17.544205",
     "exception": false,
     "start_time": "2020-11-09T22:11:17.527063",
     "status": "completed"
    },
    "tags": [
     "hide-input"
    ]
   },
   "outputs": [
    {
     "data": {
      "text/markdown": [
       "# Dunn County has 1628 total positive cases, with 41 new cases reported today."
      ],
      "text/plain": [
       "<IPython.core.display.Markdown object>"
      ]
     },
     "metadata": {},
     "output_type": "display_data"
    }
   ],
   "source": [
    "display(Markdown('# Dunn County has ' + str(dc.iloc[-1]['POSITIVE']) + ' total positive cases, with '+ str(int(dc.iloc[-1]['POS_NEW'])) + ' new cases reported today.'))"
   ]
  },
  {
   "cell_type": "code",
   "execution_count": 6,
   "metadata": {
    "execution": {
     "iopub.execute_input": "2020-11-09T22:11:17.564065Z",
     "iopub.status.busy": "2020-11-09T22:11:17.563501Z",
     "iopub.status.idle": "2020-11-09T22:11:17.836263Z",
     "shell.execute_reply": "2020-11-09T22:11:17.837035Z"
    },
    "jupyter": {
     "source_hidden": true
    },
    "papermill": {
     "duration": 0.285205,
     "end_time": "2020-11-09T22:11:17.837215",
     "exception": false,
     "start_time": "2020-11-09T22:11:17.552010",
     "status": "completed"
    },
    "scrolled": false,
    "tags": [
     "hide-input"
    ]
   },
   "outputs": [
    {
     "data": {
      "image/png": "[encoded data removed]",
      "text/plain": [
       "<Figure size 864x432 with 1 Axes>"
      ]
     },
     "metadata": {
      "needs_background": "light"
     },
     "output_type": "display_data"
    }
   ],
   "source": [
    "dc.plot(x='DATE',y='POSITIVE',color='red',grid='True',figsize=(12,6)).set_xlabel('Date');"
   ]
  },
  {
   "cell_type": "markdown",
   "metadata": {
    "papermill": {
     "duration": 0.009132,
     "end_time": "2020-11-09T22:11:17.856212",
     "exception": false,
     "start_time": "2020-11-09T22:11:17.847080",
     "status": "completed"
    },
    "tags": []
   },
   "source": [
    "## Figure 1: Cummulative number of positive cases."
   ]
  },
  {
   "cell_type": "code",
   "execution_count": 7,
   "metadata": {
    "execution": {
     "iopub.execute_input": "2020-11-09T22:11:17.878815Z",
     "iopub.status.busy": "2020-11-09T22:11:17.878289Z",
     "iopub.status.idle": "2020-11-09T22:11:18.107040Z",
     "shell.execute_reply": "2020-11-09T22:11:18.106619Z"
    },
    "jupyter": {
     "source_hidden": true
    },
    "papermill": {
     "duration": 0.242237,
     "end_time": "2020-11-09T22:11:18.107163",
     "exception": false,
     "start_time": "2020-11-09T22:11:17.864926",
     "status": "completed"
    },
    "scrolled": false,
    "tags": [
     "hide-input"
    ]
   },
   "outputs": [
    {
     "data": {
      "image/png": "[encoded data removed]",
      "text/plain": [
       "<Figure size 864x432 with 1 Axes>"
      ]
     },
     "metadata": {
      "needs_background": "light"
     },
     "output_type": "display_data"
    }
   ],
   "source": [
    "dc.plot(kind='line',x='DATE',y='7_DAY',color='blue',grid='True',figsize=(12,6)).set_xlabel('Date');"
   ]
  },
  {
   "cell_type": "markdown",
   "metadata": {
    "papermill": {
     "duration": 0.009352,
     "end_time": "2020-11-09T22:11:18.126315",
     "exception": false,
     "start_time": "2020-11-09T22:11:18.116963",
     "status": "completed"
    },
    "tags": []
   },
   "source": [
    "## Figure 2: Rolling 7-day average of daily new cases."
   ]
  },
  {
   "cell_type": "code",
   "execution_count": 8,
   "metadata": {
    "execution": {
     "iopub.execute_input": "2020-11-09T22:11:18.148753Z",
     "iopub.status.busy": "2020-11-09T22:11:18.148013Z",
     "iopub.status.idle": "2020-11-09T22:11:18.369667Z",
     "shell.execute_reply": "2020-11-09T22:11:18.370082Z"
    },
    "jupyter": {
     "source_hidden": true
    },
    "papermill": {
     "duration": 0.234868,
     "end_time": "2020-11-09T22:11:18.370228",
     "exception": false,
     "start_time": "2020-11-09T22:11:18.135360",
     "status": "completed"
    },
    "tags": []
   },
   "outputs": [
    {
     "data": {
      "image/png": "[encoded data removed]",
      "text/plain": [
       "<Figure size 864x432 with 1 Axes>"
      ]
     },
     "metadata": {
      "needs_background": "light"
     },
     "output_type": "display_data"
    }
   ],
   "source": [
    "dc.plot(kind='line',x='DATE',y='14_DAY',color='green',grid='True',figsize=(12,6)).set_xlabel('Date');"
   ]
  },
  {
   "cell_type": "markdown",
   "metadata": {
    "papermill": {
     "duration": 0.010673,
     "end_time": "2020-11-09T22:11:18.390494",
     "exception": false,
     "start_time": "2020-11-09T22:11:18.379821",
     "status": "completed"
    },
    "tags": []
   },
   "source": [
    "## Figure 3: Rolling 14-day average of daily new cases."
   ]
  },
  {
   "cell_type": "markdown",
   "metadata": {
    "papermill": {
     "duration": 0.01008,
     "end_time": "2020-11-09T22:11:18.411117",
     "exception": false,
     "start_time": "2020-11-09T22:11:18.401037",
     "status": "completed"
    },
    "tags": []
   },
   "source": [
    "Data source: [Wisconsin Department of Health Services](https://data.dhsgis.wi.gov/datasets/covid-19-historical-data-table/)"
   ]
  },
  {
   "cell_type": "code",
   "execution_count": 9,
   "metadata": {
    "execution": {
     "iopub.execute_input": "2020-11-09T22:11:18.435350Z",
     "iopub.status.busy": "2020-11-09T22:11:18.434661Z",
     "iopub.status.idle": "2020-11-09T22:11:18.438297Z",
     "shell.execute_reply": "2020-11-09T22:11:18.438853Z"
    },
    "jupyter": {
     "source_hidden": true
    },
    "papermill": {
     "duration": 0.017706,
     "end_time": "2020-11-09T22:11:18.439004",
     "exception": false,
     "start_time": "2020-11-09T22:11:18.421298",
     "status": "completed"
    },
    "tags": []
   },
   "outputs": [
    {
     "data": {
      "text/html": [
       "<style>\n",
       "div.input {\n",
       "    display:none;\n",
       "}\n",
       "</style>\n"
      ],
      "text/plain": [
       "<IPython.core.display.HTML object>"
      ]
     },
     "metadata": {},
     "output_type": "display_data"
    }
   ],
   "source": [
    "%%html\n",
    "<style>\n",
    "div.input {\n",
    "    display:none;\n",
    "}\n",
    "</style>"
   ]
  }
 ],
 "metadata": {
  "kernelspec": {
   "display_name": "Python 3",
   "language": "python",
   "name": "python3"
  },
  "language_info": {
   "codemirror_mode": {
    "name": "ipython",
    "version": 3
   },
   "file_extension": ".py",
   "mimetype": "text/x-python",
   "name": "python",
   "nbconvert_exporter": "python",
   "pygments_lexer": "ipython3",
   "version": "3.8.6"
  },
  "papermill": {
   "duration": 5.89353,
   "end_time": "2020-11-09T22:11:18.756693",
   "environment_variables": {},
   "exception": null,
   "input_path": "DunnCounty_COVID19.ipynb",
   "output_path": "DunnCounty_COVID19.ipynb",
   "parameters": {
    "Start": "True",
    "secretsPath": "/home/runner/work/_temp/secrets.json"
   },
   "start_time": "2020-11-09T22:11:12.863163",
   "version": "1.1.16"
  }
 },
 "nbformat": 4,
 "nbformat_minor": 2
}