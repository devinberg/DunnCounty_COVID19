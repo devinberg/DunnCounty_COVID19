{
 "cells": [
  {
   "cell_type": "code",
   "execution_count": 1,
   "metadata": {
    "execution": {
     "iopub.execute_input": "2020-12-22T22:17:42.046349Z",
     "iopub.status.busy": "2020-12-22T22:17:42.045832Z",
     "iopub.status.idle": "2020-12-22T22:17:44.650748Z",
     "shell.execute_reply": "2020-12-22T22:17:44.649620Z"
    },
    "jupyter": {
     "source_hidden": true
    },
    "papermill": {
     "duration": 2.628889,
     "end_time": "2020-12-22T22:17:44.650942",
     "exception": false,
     "start_time": "2020-12-22T22:17:42.022053",
     "status": "completed"
    },
    "scrolled": true,
    "tags": [
     "hide-input"
    ]
   },
   "outputs": [],
   "source": [
    "import pandas as pd\n",
    "import matplotlib.pyplot as plt\n",
    "from matplotlib import dates\n",
    "from IPython.display import display, Markdown\n",
    "%matplotlib inline"
   ]
  },
  {
   "cell_type": "code",
   "execution_count": 2,
   "metadata": {
    "execution": {
     "iopub.execute_input": "2020-12-22T22:17:44.667793Z",
     "iopub.status.busy": "2020-12-22T22:17:44.667346Z",
     "iopub.status.idle": "2020-12-22T22:17:45.240096Z",
     "shell.execute_reply": "2020-12-22T22:17:45.239254Z"
    },
    "jupyter": {
     "source_hidden": true
    },
    "papermill": {
     "duration": 0.583419,
     "end_time": "2020-12-22T22:17:45.240318",
     "exception": false,
     "start_time": "2020-12-22T22:17:44.656899",
     "status": "completed"
    },
    "scrolled": true,
    "tags": [
     "hide-input"
    ]
   },
   "outputs": [],
   "source": [
    "# This is the data for all of Wisconsin.\n",
    "url = \"https://opendata.arcgis.com/datasets/5374188992374b318d3e2305216ee413_12.csv\"\n",
    "data = pd.read_csv(url, parse_dates=['DATE'], low_memory=False)"
   ]
  },
  {
   "cell_type": "code",
   "execution_count": 3,
   "metadata": {
    "execution": {
     "iopub.execute_input": "2020-12-22T22:17:45.259687Z",
     "iopub.status.busy": "2020-12-22T22:17:45.259243Z",
     "iopub.status.idle": "2020-12-22T22:17:45.267282Z",
     "shell.execute_reply": "2020-12-22T22:17:45.266923Z"
    },
    "jupyter": {
     "source_hidden": true
    },
    "papermill": {
     "duration": 0.019543,
     "end_time": "2020-12-22T22:17:45.267422",
     "exception": false,
     "start_time": "2020-12-22T22:17:45.247879",
     "status": "completed"
    },
    "scrolled": true,
    "tags": [
     "hide-input"
    ]
   },
   "outputs": [],
   "source": [
    "dc = data.groupby('NAME').get_group('Dunn').sort_values(by='DATE') # Select the data for Dunn County from the full data.\n",
    "PNi = dc.columns.get_loc(\"POS_NEW\")\n",
    "dc['7_DAY'] = dc.iloc[:,PNi].rolling(window=7).mean() # Calculates the rolling 7-day average of new cases.\n",
    "dc['14_DAY'] = dc.iloc[:,PNi].rolling(window=14).mean() # Calculates the rolling 14-day average of new cases."
   ]
  },
  {
   "cell_type": "code",
   "execution_count": 4,
   "metadata": {
    "execution": {
     "iopub.execute_input": "2020-12-22T22:17:45.284472Z",
     "iopub.status.busy": "2020-12-22T22:17:45.283965Z",
     "iopub.status.idle": "2020-12-22T22:17:45.286293Z",
     "shell.execute_reply": "2020-12-22T22:17:45.286714Z"
    },
    "jupyter": {
     "source_hidden": true
    },
    "papermill": {
     "duration": 0.013231,
     "end_time": "2020-12-22T22:17:45.286834",
     "exception": false,
     "start_time": "2020-12-22T22:17:45.273603",
     "status": "completed"
    },
    "scrolled": true,
    "tags": [
     "hide-input"
    ]
   },
   "outputs": [
    {
     "data": {
      "text/markdown": [
       "### Last updated: December 22, 2020"
      ],
      "text/plain": [
       "<IPython.core.display.Markdown object>"
      ]
     },
     "metadata": {},
     "output_type": "display_data"
    }
   ],
   "source": [
    "display(Markdown('### Last updated: ' + dc.iloc[-1]['DATE'].strftime(\"%B %d, %Y\")))"
   ]
  },
  {
   "cell_type": "code",
   "execution_count": 5,
   "metadata": {
    "execution": {
     "iopub.execute_input": "2020-12-22T22:17:45.302437Z",
     "iopub.status.busy": "2020-12-22T22:17:45.301952Z",
     "iopub.status.idle": "2020-12-22T22:17:45.305022Z",
     "shell.execute_reply": "2020-12-22T22:17:45.304653Z"
    },
    "jupyter": {
     "source_hidden": true
    },
    "papermill": {
     "duration": 0.012416,
     "end_time": "2020-12-22T22:17:45.305111",
     "exception": false,
     "start_time": "2020-12-22T22:17:45.292695",
     "status": "completed"
    },
    "tags": [
     "hide-input"
    ]
   },
   "outputs": [
    {
     "data": {
      "text/markdown": [
       "# Dunn County has 3327 total positive cases, with 6 new cases reported today."
      ],
      "text/plain": [
       "<IPython.core.display.Markdown object>"
      ]
     },
     "metadata": {},
     "output_type": "display_data"
    }
   ],
   "source": [
    "display(Markdown('# Dunn County has ' + str(dc.iloc[-1]['POSITIVE']) + ' total positive cases, with '+ str(int(dc.iloc[-1]['POS_NEW'])) + ' new cases reported today.'))"
   ]
  },
  {
   "cell_type": "code",
   "execution_count": 6,
   "metadata": {
    "execution": {
     "iopub.execute_input": "2020-12-22T22:17:45.320418Z",
     "iopub.status.busy": "2020-12-22T22:17:45.319992Z",
     "iopub.status.idle": "2020-12-22T22:17:45.516048Z",
     "shell.execute_reply": "2020-12-22T22:17:45.515541Z"
    },
    "jupyter": {
     "source_hidden": true
    },
    "papermill": {
     "duration": 0.205415,
     "end_time": "2020-12-22T22:17:45.516173",
     "exception": false,
     "start_time": "2020-12-22T22:17:45.310758",
     "status": "completed"
    },
    "scrolled": false,
    "tags": [
     "hide-input"
    ]
   },
   "outputs": [
    {
     "data": {
      "image/png": "[encoded data removed]",
      "text/plain": [
       "<Figure size 864x432 with 1 Axes>"
      ]
     },
     "metadata": {
      "needs_background": "light"
     },
     "output_type": "display_data"
    }
   ],
   "source": [
    "dc.plot(x='DATE',y='POSITIVE',color='red',grid='True',figsize=(12,6)).set_xlabel('Date');"
   ]
  },
  {
   "cell_type": "markdown",
   "metadata": {
    "papermill": {
     "duration": 0.007672,
     "end_time": "2020-12-22T22:17:45.531749",
     "exception": false,
     "start_time": "2020-12-22T22:17:45.524077",
     "status": "completed"
    },
    "tags": []
   },
   "source": [
    "## Figure 1: Cummulative number of positive cases."
   ]
  },
  {
   "cell_type": "code",
   "execution_count": 7,
   "metadata": {
    "execution": {
     "iopub.execute_input": "2020-12-22T22:17:45.572710Z",
     "iopub.status.busy": "2020-12-22T22:17:45.565573Z",
     "iopub.status.idle": "2020-12-22T22:17:45.739631Z",
     "shell.execute_reply": "2020-12-22T22:17:45.739116Z"
    },
    "jupyter": {
     "source_hidden": true
    },
    "papermill": {
     "duration": 0.200595,
     "end_time": "2020-12-22T22:17:45.739740",
     "exception": false,
     "start_time": "2020-12-22T22:17:45.539145",
     "status": "completed"
    },
    "scrolled": false,
    "tags": [
     "hide-input"
    ]
   },
   "outputs": [
    {
     "data": {
      "image/png": "[encoded data removed]",
      "text/plain": [
       "<Figure size 864x432 with 1 Axes>"
      ]
     },
     "metadata": {
      "needs_background": "light"
     },
     "output_type": "display_data"
    }
   ],
   "source": [
    "dc.plot(kind='line',x='DATE',y='7_DAY',color='blue',grid='True',figsize=(12,6)).set_xlabel('Date');"
   ]
  },
  {
   "cell_type": "markdown",
   "metadata": {
    "papermill": {
     "duration": 0.008384,
     "end_time": "2020-12-22T22:17:45.755640",
     "exception": false,
     "start_time": "2020-12-22T22:17:45.747256",
     "status": "completed"
    },
    "tags": []
   },
   "source": [
    "## Figure 2: Rolling 7-day average of daily new cases."
   ]
  },
  {
   "cell_type": "code",
   "execution_count": 8,
   "metadata": {
    "execution": {
     "iopub.execute_input": "2020-12-22T22:17:45.776358Z",
     "iopub.status.busy": "2020-12-22T22:17:45.775766Z",
     "iopub.status.idle": "2020-12-22T22:17:45.971706Z",
     "shell.execute_reply": "2020-12-22T22:17:45.970872Z"
    },
    "jupyter": {
     "source_hidden": true
    },
    "papermill": {
     "duration": 0.207489,
     "end_time": "2020-12-22T22:17:45.971907",
     "exception": false,
     "start_time": "2020-12-22T22:17:45.764418",
     "status": "completed"
    },
    "tags": []
   },
   "outputs": [
    {
     "data": {
      "image/png": "[encoded data removed]",
      "text/plain": [
       "<Figure size 864x432 with 1 Axes>"
      ]
     },
     "metadata": {
      "needs_background": "light"
     },
     "output_type": "display_data"
    }
   ],
   "source": [
    "dc.plot(kind='line',x='DATE',y='14_DAY',color='green',grid='True',figsize=(12,6)).set_xlabel('Date');"
   ]
  },
  {
   "cell_type": "markdown",
   "metadata": {
    "papermill": {
     "duration": 0.010016,
     "end_time": "2020-12-22T22:17:45.991403",
     "exception": false,
     "start_time": "2020-12-22T22:17:45.981387",
     "status": "completed"
    },
    "tags": []
   },
   "source": [
    "## Figure 3: Rolling 14-day average of daily new cases."
   ]
  },
  {
   "cell_type": "markdown",
   "metadata": {
    "papermill": {
     "duration": 0.009131,
     "end_time": "2020-12-22T22:17:46.009593",
     "exception": false,
     "start_time": "2020-12-22T22:17:46.000462",
     "status": "completed"
    },
    "tags": []
   },
   "source": [
    "Data source: [Wisconsin Department of Health Services](https://data.dhsgis.wi.gov/datasets/covid-19-historical-data-table/)"
   ]
  },
  {
   "cell_type": "code",
   "execution_count": 9,
   "metadata": {
    "execution": {
     "iopub.execute_input": "2020-12-22T22:17:46.033174Z",
     "iopub.status.busy": "2020-12-22T22:17:46.032685Z",
     "iopub.status.idle": "2020-12-22T22:17:46.037580Z",
     "shell.execute_reply": "2020-12-22T22:17:46.037150Z"
    },
    "jupyter": {
     "source_hidden": true
    },
    "papermill": {
     "duration": 0.018791,
     "end_time": "2020-12-22T22:17:46.037686",
     "exception": false,
     "start_time": "2020-12-22T22:17:46.018895",
     "status": "completed"
    },
    "tags": []
   },
   "outputs": [
    {
     "data": {
      "text/html": [
       "<style>\n",
       "div.input {\n",
       "    display:none;\n",
       "}\n",
       "</style>\n"
      ],
      "text/plain": [
       "<IPython.core.display.HTML object>"
      ]
     },
     "metadata": {},
     "output_type": "display_data"
    }
   ],
   "source": [
    "%%html\n",
    "<style>\n",
    "div.input {\n",
    "    display:none;\n",
    "}\n",
    "</style>"
   ]
  }
 ],
 "metadata": {
  "kernelspec": {
   "display_name": "Python 3",
   "language": "python",
   "name": "python3"
  },
  "language_info": {
   "codemirror_mode": {
    "name": "ipython",
    "version": 3
   },
   "file_extension": ".py",
   "mimetype": "text/x-python",
   "name": "python",
   "nbconvert_exporter": "python",
   "pygments_lexer": "ipython3",
   "version": "3.8.6"
  },
  "papermill": {
   "duration": 5.831217,
   "end_time": "2020-12-22T22:17:46.352708",
   "environment_variables": {},
   "exception": null,
   "input_path": "DunnCounty_COVID19.ipynb",
   "output_path": "DunnCounty_COVID19.ipynb",
   "parameters": {
    "Start": "True",
    "secretsPath": "/home/runner/work/_temp/secrets.json"
   },
   "start_time": "2020-12-22T22:17:40.521491",
   "version": "1.1.16"
  }
 },
 "nbformat": 4,
 "nbformat_minor": 2
}