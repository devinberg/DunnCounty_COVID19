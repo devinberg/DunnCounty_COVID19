{
 "cells": [
  {
   "cell_type": "code",
   "execution_count": 1,
   "id": "solar-understanding",
   "metadata": {
    "execution": {
     "iopub.execute_input": "2021-03-04T10:17:52.579175Z",
     "iopub.status.busy": "2021-03-04T10:17:52.578577Z",
     "iopub.status.idle": "2021-03-04T10:17:54.688810Z",
     "shell.execute_reply": "2021-03-04T10:17:54.688153Z"
    },
    "jupyter": {
     "source_hidden": true
    },
    "papermill": {
     "duration": 2.135083,
     "end_time": "2021-03-04T10:17:54.688974",
     "exception": false,
     "start_time": "2021-03-04T10:17:52.553891",
     "status": "completed"
    },
    "scrolled": true,
    "tags": [
     "hide-input"
    ]
   },
   "outputs": [],
   "source": [
    "import pandas as pd\n",
    "import matplotlib.pyplot as plt\n",
    "from matplotlib import dates\n",
    "from IPython.display import display, Markdown\n",
    "%matplotlib inline"
   ]
  },
  {
   "cell_type": "code",
   "execution_count": 2,
   "id": "purple-playlist",
   "metadata": {
    "execution": {
     "iopub.execute_input": "2021-03-04T10:17:54.720207Z",
     "iopub.status.busy": "2021-03-04T10:17:54.719627Z",
     "iopub.status.idle": "2021-03-04T10:17:55.837445Z",
     "shell.execute_reply": "2021-03-04T10:17:55.836909Z"
    },
    "jupyter": {
     "source_hidden": true
    },
    "papermill": {
     "duration": 1.133646,
     "end_time": "2021-03-04T10:17:55.837575",
     "exception": false,
     "start_time": "2021-03-04T10:17:54.703929",
     "status": "completed"
    },
    "scrolled": true,
    "tags": [
     "hide-input"
    ]
   },
   "outputs": [],
   "source": [
    "# This is the data for all of Wisconsin.\n",
    "url = \"https://opendata.arcgis.com/datasets/5374188992374b318d3e2305216ee413_12.csv\"\n",
    "data = pd.read_csv(url, parse_dates=['DATE'], low_memory=False)"
   ]
  },
  {
   "cell_type": "code",
   "execution_count": 3,
   "id": "proprietary-klein",
   "metadata": {
    "execution": {
     "iopub.execute_input": "2021-03-04T10:17:55.863301Z",
     "iopub.status.busy": "2021-03-04T10:17:55.862697Z",
     "iopub.status.idle": "2021-03-04T10:17:55.872093Z",
     "shell.execute_reply": "2021-03-04T10:17:55.871544Z"
    },
    "jupyter": {
     "source_hidden": true
    },
    "papermill": {
     "duration": 0.025454,
     "end_time": "2021-03-04T10:17:55.872219",
     "exception": false,
     "start_time": "2021-03-04T10:17:55.846765",
     "status": "completed"
    },
    "scrolled": true,
    "tags": [
     "hide-input"
    ]
   },
   "outputs": [],
   "source": [
    "dc = data.groupby('NAME').get_group('Dunn').sort_values(by='DATE') # Select the data for Dunn County from the full data.\n",
    "PNi = dc.columns.get_loc(\"POS_NEW\")\n",
    "dc['7_DAY'] = dc.iloc[:,PNi].rolling(window=7).mean() # Calculates the rolling 7-day average of new cases.\n",
    "dc['14_DAY'] = dc.iloc[:,PNi].rolling(window=14).mean() # Calculates the rolling 14-day average of new cases."
   ]
  },
  {
   "cell_type": "code",
   "execution_count": 4,
   "id": "steady-supervision",
   "metadata": {
    "execution": {
     "iopub.execute_input": "2021-03-04T10:17:55.897716Z",
     "iopub.status.busy": "2021-03-04T10:17:55.897138Z",
     "iopub.status.idle": "2021-03-04T10:17:55.903076Z",
     "shell.execute_reply": "2021-03-04T10:17:55.902610Z"
    },
    "jupyter": {
     "source_hidden": true
    },
    "papermill": {
     "duration": 0.021971,
     "end_time": "2021-03-04T10:17:55.903205",
     "exception": false,
     "start_time": "2021-03-04T10:17:55.881234",
     "status": "completed"
    },
    "scrolled": true,
    "tags": [
     "hide-input"
    ]
   },
   "outputs": [
    {
     "data": {
      "text/markdown": [
       "### Last updated: March 03, 2021"
      ],
      "text/plain": [
       "<IPython.core.display.Markdown object>"
      ]
     },
     "metadata": {},
     "output_type": "display_data"
    }
   ],
   "source": [
    "display(Markdown('### Last updated: ' + dc.iloc[-1]['DATE'].strftime(\"%B %d, %Y\")))"
   ]
  },
  {
   "cell_type": "code",
   "execution_count": 5,
   "id": "lonely-pitch",
   "metadata": {
    "execution": {
     "iopub.execute_input": "2021-03-04T10:17:55.928695Z",
     "iopub.status.busy": "2021-03-04T10:17:55.928093Z",
     "iopub.status.idle": "2021-03-04T10:17:55.931064Z",
     "shell.execute_reply": "2021-03-04T10:17:55.931533Z"
    },
    "jupyter": {
     "source_hidden": true
    },
    "papermill": {
     "duration": 0.01786,
     "end_time": "2021-03-04T10:17:55.931683",
     "exception": false,
     "start_time": "2021-03-04T10:17:55.913823",
     "status": "completed"
    },
    "tags": [
     "hide-input"
    ]
   },
   "outputs": [
    {
     "data": {
      "text/markdown": [
       "# Dunn County has 4276 total positive cases, with 7 new cases reported today."
      ],
      "text/plain": [
       "<IPython.core.display.Markdown object>"
      ]
     },
     "metadata": {},
     "output_type": "display_data"
    }
   ],
   "source": [
    "display(Markdown('# Dunn County has ' + str(dc.iloc[-1]['POSITIVE']) + ' total positive cases, with '+ str(int(dc.iloc[-1]['POS_NEW'])) + ' new cases reported today.'))"
   ]
  },
  {
   "cell_type": "code",
   "execution_count": 6,
   "id": "compound-nightmare",
   "metadata": {
    "execution": {
     "iopub.execute_input": "2021-03-04T10:17:55.956351Z",
     "iopub.status.busy": "2021-03-04T10:17:55.955751Z",
     "iopub.status.idle": "2021-03-04T10:17:56.252234Z",
     "shell.execute_reply": "2021-03-04T10:17:56.251747Z"
    },
    "jupyter": {
     "source_hidden": true
    },
    "papermill": {
     "duration": 0.310913,
     "end_time": "2021-03-04T10:17:56.252369",
     "exception": false,
     "start_time": "2021-03-04T10:17:55.941456",
     "status": "completed"
    },
    "scrolled": false,
    "tags": [
     "hide-input"
    ]
   },
   "outputs": [
    {
     "data": {
      "image/png": "[encoded data removed]",
      "text/plain": [
       "<Figure size 864x432 with 1 Axes>"
      ]
     },
     "metadata": {
      "needs_background": "light"
     },
     "output_type": "display_data"
    }
   ],
   "source": [
    "dc.plot(x='DATE',y='POSITIVE',color='red',grid='True',figsize=(12,6)).set_xlabel('Date');"
   ]
  },
  {
   "cell_type": "markdown",
   "id": "coupled-literacy",
   "metadata": {
    "papermill": {
     "duration": 0.010733,
     "end_time": "2021-03-04T10:17:56.274319",
     "exception": false,
     "start_time": "2021-03-04T10:17:56.263586",
     "status": "completed"
    },
    "tags": []
   },
   "source": [
    "## Figure 1: Cummulative number of positive cases."
   ]
  },
  {
   "cell_type": "code",
   "execution_count": 7,
   "id": "surrounded-reserve",
   "metadata": {
    "execution": {
     "iopub.execute_input": "2021-03-04T10:17:56.323836Z",
     "iopub.status.busy": "2021-03-04T10:17:56.318115Z",
     "iopub.status.idle": "2021-03-04T10:17:56.511121Z",
     "shell.execute_reply": "2021-03-04T10:17:56.510627Z"
    },
    "jupyter": {
     "source_hidden": true
    },
    "papermill": {
     "duration": 0.226134,
     "end_time": "2021-03-04T10:17:56.511255",
     "exception": false,
     "start_time": "2021-03-04T10:17:56.285121",
     "status": "completed"
    },
    "scrolled": false,
    "tags": [
     "hide-input"
    ]
   },
   "outputs": [
    {
     "data": {
      "image/png": "[encoded data removed]",
      "text/plain": [
       "<Figure size 864x432 with 1 Axes>"
      ]
     },
     "metadata": {
      "needs_background": "light"
     },
     "output_type": "display_data"
    }
   ],
   "source": [
    "dc.plot(kind='line',x='DATE',y='7_DAY',color='blue',grid='True',figsize=(12,6)).set_xlabel('Date');"
   ]
  },
  {
   "cell_type": "markdown",
   "id": "professional-savannah",
   "metadata": {
    "papermill": {
     "duration": 0.01465,
     "end_time": "2021-03-04T10:17:56.539052",
     "exception": false,
     "start_time": "2021-03-04T10:17:56.524402",
     "status": "completed"
    },
    "tags": []
   },
   "source": [
    "## Figure 2: Rolling 7-day average of daily new cases."
   ]
  },
  {
   "cell_type": "code",
   "execution_count": 8,
   "id": "stretch-investor",
   "metadata": {
    "execution": {
     "iopub.execute_input": "2021-03-04T10:17:56.570310Z",
     "iopub.status.busy": "2021-03-04T10:17:56.569701Z",
     "iopub.status.idle": "2021-03-04T10:17:56.775960Z",
     "shell.execute_reply": "2021-03-04T10:17:56.776387Z"
    },
    "jupyter": {
     "source_hidden": true
    },
    "papermill": {
     "duration": 0.225,
     "end_time": "2021-03-04T10:17:56.776578",
     "exception": false,
     "start_time": "2021-03-04T10:17:56.551578",
     "status": "completed"
    },
    "tags": []
   },
   "outputs": [
    {
     "data": {
      "image/png": "[encoded data removed]",
      "text/plain": [
       "<Figure size 864x432 with 1 Axes>"
      ]
     },
     "metadata": {
      "needs_background": "light"
     },
     "output_type": "display_data"
    }
   ],
   "source": [
    "dc.plot(kind='line',x='DATE',y='14_DAY',color='green',grid='True',figsize=(12,6)).set_xlabel('Date');"
   ]
  },
  {
   "cell_type": "markdown",
   "id": "prerequisite-species",
   "metadata": {
    "papermill": {
     "duration": 0.012989,
     "end_time": "2021-03-04T10:17:56.802997",
     "exception": false,
     "start_time": "2021-03-04T10:17:56.790008",
     "status": "completed"
    },
    "tags": []
   },
   "source": [
    "## Figure 3: Rolling 14-day average of daily new cases."
   ]
  },
  {
   "cell_type": "markdown",
   "id": "palestinian-guard",
   "metadata": {
    "papermill": {
     "duration": 0.01292,
     "end_time": "2021-03-04T10:17:56.828918",
     "exception": false,
     "start_time": "2021-03-04T10:17:56.815998",
     "status": "completed"
    },
    "tags": []
   },
   "source": [
    "Data source: [Wisconsin Department of Health Services](https://data.dhsgis.wi.gov/datasets/covid-19-historical-data-table/)"
   ]
  },
  {
   "cell_type": "code",
   "execution_count": 9,
   "id": "proof-medicare",
   "metadata": {
    "execution": {
     "iopub.execute_input": "2021-03-04T10:17:56.859105Z",
     "iopub.status.busy": "2021-03-04T10:17:56.858543Z",
     "iopub.status.idle": "2021-03-04T10:17:56.862292Z",
     "shell.execute_reply": "2021-03-04T10:17:56.862738Z"
    },
    "jupyter": {
     "source_hidden": true
    },
    "papermill": {
     "duration": 0.021,
     "end_time": "2021-03-04T10:17:56.862890",
     "exception": false,
     "start_time": "2021-03-04T10:17:56.841890",
     "status": "completed"
    },
    "tags": []
   },
   "outputs": [
    {
     "data": {
      "text/html": [
       "<style>\n",
       "div.input {\n",
       "    display:none;\n",
       "}\n",
       "</style>\n"
      ],
      "text/plain": [
       "<IPython.core.display.HTML object>"
      ]
     },
     "metadata": {},
     "output_type": "display_data"
    }
   ],
   "source": [
    "%%html\n",
    "<style>\n",
    "div.input {\n",
    "    display:none;\n",
    "}\n",
    "</style>"
   ]
  }
 ],
 "metadata": {
  "kernelspec": {
   "display_name": "Python 3",
   "language": "python",
   "name": "python3"
  },
  "language_info": {
   "codemirror_mode": {
    "name": "ipython",
    "version": 3
   },
   "file_extension": ".py",
   "mimetype": "text/x-python",
   "name": "python",
   "nbconvert_exporter": "python",
   "pygments_lexer": "ipython3",
   "version": "3.8.7"
  },
  "papermill": {
   "duration": 6.463938,
   "end_time": "2021-03-04T10:17:57.284250",
   "environment_variables": {},
   "exception": null,
   "input_path": "DunnCounty_COVID19.ipynb",
   "output_path": "DunnCounty_COVID19.ipynb",
   "parameters": {
    "Start": "True",
    "secretsPath": "/home/runner/work/_temp/secrets.json"
   },
   "start_time": "2021-03-04T10:17:50.820312",
   "version": "1.1.16"
  }
 },
 "nbformat": 4,
 "nbformat_minor": 5
}