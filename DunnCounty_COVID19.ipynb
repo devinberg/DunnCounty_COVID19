{
 "cells": [
  {
   "cell_type": "code",
   "execution_count": 1,
   "id": "solar-understanding",
   "metadata": {
    "execution": {
     "iopub.execute_input": "2021-03-15T10:13:06.843208Z",
     "iopub.status.busy": "2021-03-15T10:13:06.842647Z",
     "iopub.status.idle": "2021-03-15T10:13:10.335072Z",
     "shell.execute_reply": "2021-03-15T10:13:10.334122Z"
    },
    "jupyter": {
     "source_hidden": true
    },
    "papermill": {
     "duration": 3.514526,
     "end_time": "2021-03-15T10:13:10.335302",
     "exception": false,
     "start_time": "2021-03-15T10:13:06.820776",
     "status": "completed"
    },
    "scrolled": true,
    "tags": [
     "hide-input"
    ]
   },
   "outputs": [],
   "source": [
    "import pandas as pd\n",
    "import matplotlib.pyplot as plt\n",
    "from matplotlib import dates\n",
    "from IPython.display import display, Markdown\n",
    "%matplotlib inline"
   ]
  },
  {
   "cell_type": "code",
   "execution_count": 2,
   "id": "purple-playlist",
   "metadata": {
    "execution": {
     "iopub.execute_input": "2021-03-15T10:13:10.361633Z",
     "iopub.status.busy": "2021-03-15T10:13:10.361020Z",
     "iopub.status.idle": "2021-03-15T10:13:11.197330Z",
     "shell.execute_reply": "2021-03-15T10:13:11.196789Z"
    },
    "jupyter": {
     "source_hidden": true
    },
    "papermill": {
     "duration": 0.85108,
     "end_time": "2021-03-15T10:13:11.197461",
     "exception": false,
     "start_time": "2021-03-15T10:13:10.346381",
     "status": "completed"
    },
    "scrolled": true,
    "tags": [
     "hide-input"
    ]
   },
   "outputs": [],
   "source": [
    "# This is the data for all of Wisconsin.\n",
    "url = \"https://opendata.arcgis.com/datasets/5374188992374b318d3e2305216ee413_12.csv\"\n",
    "data = pd.read_csv(url, parse_dates=['DATE'], low_memory=False)"
   ]
  },
  {
   "cell_type": "code",
   "execution_count": 3,
   "id": "proprietary-klein",
   "metadata": {
    "execution": {
     "iopub.execute_input": "2021-03-15T10:13:11.222470Z",
     "iopub.status.busy": "2021-03-15T10:13:11.221917Z",
     "iopub.status.idle": "2021-03-15T10:13:11.230135Z",
     "shell.execute_reply": "2021-03-15T10:13:11.230551Z"
    },
    "jupyter": {
     "source_hidden": true
    },
    "papermill": {
     "duration": 0.024229,
     "end_time": "2021-03-15T10:13:11.230714",
     "exception": false,
     "start_time": "2021-03-15T10:13:11.206485",
     "status": "completed"
    },
    "scrolled": true,
    "tags": [
     "hide-input"
    ]
   },
   "outputs": [],
   "source": [
    "dc = data.groupby('NAME').get_group('Dunn').sort_values(by='DATE') # Select the data for Dunn County from the full data.\n",
    "PNi = dc.columns.get_loc(\"POS_NEW\")\n",
    "dc['7_DAY'] = dc.iloc[:,PNi].rolling(window=7).mean() # Calculates the rolling 7-day average of new cases.\n",
    "dc['14_DAY'] = dc.iloc[:,PNi].rolling(window=14).mean() # Calculates the rolling 14-day average of new cases."
   ]
  },
  {
   "cell_type": "code",
   "execution_count": 4,
   "id": "steady-supervision",
   "metadata": {
    "execution": {
     "iopub.execute_input": "2021-03-15T10:13:11.255299Z",
     "iopub.status.busy": "2021-03-15T10:13:11.254739Z",
     "iopub.status.idle": "2021-03-15T10:13:11.257954Z",
     "shell.execute_reply": "2021-03-15T10:13:11.257500Z"
    },
    "jupyter": {
     "source_hidden": true
    },
    "papermill": {
     "duration": 0.018551,
     "end_time": "2021-03-15T10:13:11.258080",
     "exception": false,
     "start_time": "2021-03-15T10:13:11.239529",
     "status": "completed"
    },
    "scrolled": true,
    "tags": [
     "hide-input"
    ]
   },
   "outputs": [
    {
     "data": {
      "text/markdown": [
       "### Last updated: March 14, 2021"
      ],
      "text/plain": [
       "<IPython.core.display.Markdown object>"
      ]
     },
     "metadata": {},
     "output_type": "display_data"
    }
   ],
   "source": [
    "display(Markdown('### Last updated: ' + dc.iloc[-1]['DATE'].strftime(\"%B %d, %Y\")))"
   ]
  },
  {
   "cell_type": "code",
   "execution_count": 5,
   "id": "lonely-pitch",
   "metadata": {
    "execution": {
     "iopub.execute_input": "2021-03-15T10:13:11.282823Z",
     "iopub.status.busy": "2021-03-15T10:13:11.282275Z",
     "iopub.status.idle": "2021-03-15T10:13:11.286811Z",
     "shell.execute_reply": "2021-03-15T10:13:11.287216Z"
    },
    "jupyter": {
     "source_hidden": true
    },
    "papermill": {
     "duration": 0.020005,
     "end_time": "2021-03-15T10:13:11.287375",
     "exception": false,
     "start_time": "2021-03-15T10:13:11.267370",
     "status": "completed"
    },
    "tags": [
     "hide-input"
    ]
   },
   "outputs": [
    {
     "data": {
      "text/markdown": [
       "# Dunn County has 4297 total positive cases, with 2 new cases reported today."
      ],
      "text/plain": [
       "<IPython.core.display.Markdown object>"
      ]
     },
     "metadata": {},
     "output_type": "display_data"
    }
   ],
   "source": [
    "display(Markdown('# Dunn County has ' + str(dc.iloc[-1]['POSITIVE']) + ' total positive cases, with '+ str(int(dc.iloc[-1]['POS_NEW'])) + ' new cases reported today.'))"
   ]
  },
  {
   "cell_type": "code",
   "execution_count": 6,
   "id": "compound-nightmare",
   "metadata": {
    "execution": {
     "iopub.execute_input": "2021-03-15T10:13:11.311869Z",
     "iopub.status.busy": "2021-03-15T10:13:11.311310Z",
     "iopub.status.idle": "2021-03-15T10:13:11.619136Z",
     "shell.execute_reply": "2021-03-15T10:13:11.619571Z"
    },
    "jupyter": {
     "source_hidden": true
    },
    "papermill": {
     "duration": 0.322546,
     "end_time": "2021-03-15T10:13:11.619729",
     "exception": false,
     "start_time": "2021-03-15T10:13:11.297183",
     "status": "completed"
    },
    "scrolled": false,
    "tags": [
     "hide-input"
    ]
   },
   "outputs": [
    {
     "data": {
      "image/png": "[encoded data removed]",
      "text/plain": [
       "<Figure size 864x432 with 1 Axes>"
      ]
     },
     "metadata": {
      "needs_background": "light"
     },
     "output_type": "display_data"
    }
   ],
   "source": [
    "dc.plot(x='DATE',y='POSITIVE',color='red',grid='True',figsize=(12,6)).set_xlabel('Date');"
   ]
  },
  {
   "cell_type": "markdown",
   "id": "coupled-literacy",
   "metadata": {
    "papermill": {
     "duration": 0.010632,
     "end_time": "2021-03-15T10:13:11.641040",
     "exception": false,
     "start_time": "2021-03-15T10:13:11.630408",
     "status": "completed"
    },
    "tags": []
   },
   "source": [
    "## Figure 1: Cummulative number of positive cases."
   ]
  },
  {
   "cell_type": "code",
   "execution_count": 7,
   "id": "surrounded-reserve",
   "metadata": {
    "execution": {
     "iopub.execute_input": "2021-03-15T10:13:11.671982Z",
     "iopub.status.busy": "2021-03-15T10:13:11.668663Z",
     "iopub.status.idle": "2021-03-15T10:13:11.869829Z",
     "shell.execute_reply": "2021-03-15T10:13:11.869355Z"
    },
    "jupyter": {
     "source_hidden": true
    },
    "papermill": {
     "duration": 0.218386,
     "end_time": "2021-03-15T10:13:11.869958",
     "exception": false,
     "start_time": "2021-03-15T10:13:11.651572",
     "status": "completed"
    },
    "scrolled": false,
    "tags": [
     "hide-input"
    ]
   },
   "outputs": [
    {
     "data": {
      "image/png": "[encoded data removed]",
      "text/plain": [
       "<Figure size 864x432 with 1 Axes>"
      ]
     },
     "metadata": {
      "needs_background": "light"
     },
     "output_type": "display_data"
    }
   ],
   "source": [
    "dc.plot(kind='line',x='DATE',y='7_DAY',color='blue',grid='True',figsize=(12,6)).set_xlabel('Date');"
   ]
  },
  {
   "cell_type": "markdown",
   "id": "professional-savannah",
   "metadata": {
    "papermill": {
     "duration": 0.012133,
     "end_time": "2021-03-15T10:13:11.893954",
     "exception": false,
     "start_time": "2021-03-15T10:13:11.881821",
     "status": "completed"
    },
    "tags": []
   },
   "source": [
    "## Figure 2: Rolling 7-day average of daily new cases."
   ]
  },
  {
   "cell_type": "code",
   "execution_count": 8,
   "id": "stretch-investor",
   "metadata": {
    "execution": {
     "iopub.execute_input": "2021-03-15T10:13:11.923159Z",
     "iopub.status.busy": "2021-03-15T10:13:11.922621Z",
     "iopub.status.idle": "2021-03-15T10:13:12.122511Z",
     "shell.execute_reply": "2021-03-15T10:13:12.122947Z"
    },
    "jupyter": {
     "source_hidden": true
    },
    "papermill": {
     "duration": 0.217585,
     "end_time": "2021-03-15T10:13:12.123102",
     "exception": false,
     "start_time": "2021-03-15T10:13:11.905517",
     "status": "completed"
    },
    "tags": []
   },
   "outputs": [
    {
     "data": {
      "image/png": "[encoded data removed]",
      "text/plain": [
       "<Figure size 864x432 with 1 Axes>"
      ]
     },
     "metadata": {
      "needs_background": "light"
     },
     "output_type": "display_data"
    }
   ],
   "source": [
    "dc.plot(kind='line',x='DATE',y='14_DAY',color='green',grid='True',figsize=(12,6)).set_xlabel('Date');"
   ]
  },
  {
   "cell_type": "markdown",
   "id": "prerequisite-species",
   "metadata": {
    "papermill": {
     "duration": 0.013114,
     "end_time": "2021-03-15T10:13:12.150193",
     "exception": false,
     "start_time": "2021-03-15T10:13:12.137079",
     "status": "completed"
    },
    "tags": []
   },
   "source": [
    "## Figure 3: Rolling 14-day average of daily new cases."
   ]
  },
  {
   "cell_type": "markdown",
   "id": "palestinian-guard",
   "metadata": {
    "papermill": {
     "duration": 0.012838,
     "end_time": "2021-03-15T10:13:12.175973",
     "exception": false,
     "start_time": "2021-03-15T10:13:12.163135",
     "status": "completed"
    },
    "tags": []
   },
   "source": [
    "Data source: [Wisconsin Department of Health Services](https://data.dhsgis.wi.gov/datasets/covid-19-historical-data-table/)"
   ]
  },
  {
   "cell_type": "code",
   "execution_count": 9,
   "id": "proof-medicare",
   "metadata": {
    "execution": {
     "iopub.execute_input": "2021-03-15T10:13:12.205611Z",
     "iopub.status.busy": "2021-03-15T10:13:12.205039Z",
     "iopub.status.idle": "2021-03-15T10:13:12.208666Z",
     "shell.execute_reply": "2021-03-15T10:13:12.208207Z"
    },
    "jupyter": {
     "source_hidden": true
    },
    "papermill": {
     "duration": 0.020004,
     "end_time": "2021-03-15T10:13:12.208783",
     "exception": false,
     "start_time": "2021-03-15T10:13:12.188779",
     "status": "completed"
    },
    "tags": []
   },
   "outputs": [
    {
     "data": {
      "text/html": [
       "<style>\n",
       "div.input {\n",
       "    display:none;\n",
       "}\n",
       "</style>\n"
      ],
      "text/plain": [
       "<IPython.core.display.HTML object>"
      ]
     },
     "metadata": {},
     "output_type": "display_data"
    }
   ],
   "source": [
    "%%html\n",
    "<style>\n",
    "div.input {\n",
    "    display:none;\n",
    "}\n",
    "</style>"
   ]
  }
 ],
 "metadata": {
  "kernelspec": {
   "display_name": "Python 3",
   "language": "python",
   "name": "python3"
  },
  "language_info": {
   "codemirror_mode": {
    "name": "ipython",
    "version": 3
   },
   "file_extension": ".py",
   "mimetype": "text/x-python",
   "name": "python",
   "nbconvert_exporter": "python",
   "pygments_lexer": "ipython3",
   "version": "3.8.8"
  },
  "papermill": {
   "duration": 8.271579,
   "end_time": "2021-03-15T10:13:12.630564",
   "environment_variables": {},
   "exception": null,
   "input_path": "DunnCounty_COVID19.ipynb",
   "output_path": "DunnCounty_COVID19.ipynb",
   "parameters": {
    "Start": "True",
    "secretsPath": "/home/runner/work/_temp/secrets.json"
   },
   "start_time": "2021-03-15T10:13:04.358985",
   "version": "1.1.16"
  }
 },
 "nbformat": 4,
 "nbformat_minor": 5
}