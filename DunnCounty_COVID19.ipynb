{
 "cells": [
  {
   "cell_type": "code",
   "execution_count": 1,
   "metadata": {
    "execution": {
     "iopub.execute_input": "2020-11-08T22:13:50.378928Z",
     "iopub.status.busy": "2020-11-08T22:13:50.378304Z",
     "iopub.status.idle": "2020-11-08T22:13:51.514226Z",
     "shell.execute_reply": "2020-11-08T22:13:51.513496Z"
    },
    "jupyter": {
     "source_hidden": true
    },
    "papermill": {
     "duration": 1.153745,
     "end_time": "2020-11-08T22:13:51.514459",
     "exception": false,
     "start_time": "2020-11-08T22:13:50.360714",
     "status": "completed"
    },
    "scrolled": true,
    "tags": [
     "hide-input"
    ]
   },
   "outputs": [],
   "source": [
    "import pandas as pd\n",
    "import matplotlib.pyplot as plt\n",
    "from matplotlib import dates\n",
    "from IPython.display import display, Markdown\n",
    "%matplotlib inline"
   ]
  },
  {
   "cell_type": "code",
   "execution_count": 2,
   "metadata": {
    "execution": {
     "iopub.execute_input": "2020-11-08T22:13:51.536057Z",
     "iopub.status.busy": "2020-11-08T22:13:51.535464Z",
     "iopub.status.idle": "2020-11-08T22:13:52.139666Z",
     "shell.execute_reply": "2020-11-08T22:13:52.139172Z"
    },
    "jupyter": {
     "source_hidden": true
    },
    "papermill": {
     "duration": 0.6171,
     "end_time": "2020-11-08T22:13:52.139806",
     "exception": false,
     "start_time": "2020-11-08T22:13:51.522706",
     "status": "completed"
    },
    "scrolled": true,
    "tags": [
     "hide-input"
    ]
   },
   "outputs": [],
   "source": [
    "# This is the data for all of Wisconsin.\n",
    "url = \"https://opendata.arcgis.com/datasets/5374188992374b318d3e2305216ee413_12.csv\"\n",
    "data = pd.read_csv(url, parse_dates=['DATE'], low_memory=False)"
   ]
  },
  {
   "cell_type": "code",
   "execution_count": 3,
   "metadata": {
    "execution": {
     "iopub.execute_input": "2020-11-08T22:13:52.161925Z",
     "iopub.status.busy": "2020-11-08T22:13:52.161342Z",
     "iopub.status.idle": "2020-11-08T22:13:52.169758Z",
     "shell.execute_reply": "2020-11-08T22:13:52.169290Z"
    },
    "jupyter": {
     "source_hidden": true
    },
    "papermill": {
     "duration": 0.021112,
     "end_time": "2020-11-08T22:13:52.169873",
     "exception": false,
     "start_time": "2020-11-08T22:13:52.148761",
     "status": "completed"
    },
    "scrolled": true,
    "tags": [
     "hide-input"
    ]
   },
   "outputs": [],
   "source": [
    "dc = data.groupby('NAME').get_group('Dunn').sort_values(by='DATE') # Select the data for Dunn County from the full data.\n",
    "PNi = dc.columns.get_loc(\"POS_NEW\")\n",
    "dc['7_DAY'] = dc.iloc[:,PNi].rolling(window=7).mean() # Calculates the rolling 7-day average of new cases.\n",
    "dc['14_DAY'] = dc.iloc[:,PNi].rolling(window=14).mean() # Calculates the rolling 14-day average of new cases."
   ]
  },
  {
   "cell_type": "code",
   "execution_count": 4,
   "metadata": {
    "execution": {
     "iopub.execute_input": "2020-11-08T22:13:52.190477Z",
     "iopub.status.busy": "2020-11-08T22:13:52.189886Z",
     "iopub.status.idle": "2020-11-08T22:13:52.196395Z",
     "shell.execute_reply": "2020-11-08T22:13:52.195973Z"
    },
    "jupyter": {
     "source_hidden": true
    },
    "papermill": {
     "duration": 0.019755,
     "end_time": "2020-11-08T22:13:52.196536",
     "exception": false,
     "start_time": "2020-11-08T22:13:52.176781",
     "status": "completed"
    },
    "scrolled": true,
    "tags": [
     "hide-input"
    ]
   },
   "outputs": [
    {
     "data": {
      "text/markdown": [
       "### Last updated: November 08, 2020"
      ],
      "text/plain": [
       "<IPython.core.display.Markdown object>"
      ]
     },
     "metadata": {},
     "output_type": "display_data"
    }
   ],
   "source": [
    "display(Markdown('### Last updated: ' + dc.iloc[-1]['DATE'].strftime(\"%B %d, %Y\")))"
   ]
  },
  {
   "cell_type": "code",
   "execution_count": 5,
   "metadata": {
    "execution": {
     "iopub.execute_input": "2020-11-08T22:13:52.218053Z",
     "iopub.status.busy": "2020-11-08T22:13:52.217356Z",
     "iopub.status.idle": "2020-11-08T22:13:52.224815Z",
     "shell.execute_reply": "2020-11-08T22:13:52.225234Z"
    },
    "jupyter": {
     "source_hidden": true
    },
    "papermill": {
     "duration": 0.021157,
     "end_time": "2020-11-08T22:13:52.225390",
     "exception": false,
     "start_time": "2020-11-08T22:13:52.204233",
     "status": "completed"
    },
    "tags": [
     "hide-input"
    ]
   },
   "outputs": [
    {
     "data": {
      "text/markdown": [
       "# Dunn County has 1587 total positive cases, with 36 new cases reported today."
      ],
      "text/plain": [
       "<IPython.core.display.Markdown object>"
      ]
     },
     "metadata": {},
     "output_type": "display_data"
    }
   ],
   "source": [
    "display(Markdown('# Dunn County has ' + str(dc.iloc[-1]['POSITIVE']) + ' total positive cases, with '+ str(int(dc.iloc[-1]['POS_NEW'])) + ' new cases reported today.'))"
   ]
  },
  {
   "cell_type": "code",
   "execution_count": 6,
   "metadata": {
    "execution": {
     "iopub.execute_input": "2020-11-08T22:13:52.245552Z",
     "iopub.status.busy": "2020-11-08T22:13:52.245032Z",
     "iopub.status.idle": "2020-11-08T22:13:52.470062Z",
     "shell.execute_reply": "2020-11-08T22:13:52.469622Z"
    },
    "jupyter": {
     "source_hidden": true
    },
    "papermill": {
     "duration": 0.236588,
     "end_time": "2020-11-08T22:13:52.470193",
     "exception": false,
     "start_time": "2020-11-08T22:13:52.233605",
     "status": "completed"
    },
    "scrolled": false,
    "tags": [
     "hide-input"
    ]
   },
   "outputs": [
    {
     "data": {
      "image/png": "[encoded data removed]",
      "text/plain": [
       "<Figure size 864x432 with 1 Axes>"
      ]
     },
     "metadata": {
      "needs_background": "light"
     },
     "output_type": "display_data"
    }
   ],
   "source": [
    "dc.plot(x='DATE',y='POSITIVE',color='red',grid='True',figsize=(12,6)).set_xlabel('Date');"
   ]
  },
  {
   "cell_type": "markdown",
   "metadata": {
    "papermill": {
     "duration": 0.008208,
     "end_time": "2020-11-08T22:13:52.487377",
     "exception": false,
     "start_time": "2020-11-08T22:13:52.479169",
     "status": "completed"
    },
    "tags": []
   },
   "source": [
    "## Figure 1: Cummulative number of positive cases."
   ]
  },
  {
   "cell_type": "code",
   "execution_count": 7,
   "metadata": {
    "execution": {
     "iopub.execute_input": "2020-11-08T22:13:52.508842Z",
     "iopub.status.busy": "2020-11-08T22:13:52.508323Z",
     "iopub.status.idle": "2020-11-08T22:13:52.709351Z",
     "shell.execute_reply": "2020-11-08T22:13:52.708536Z"
    },
    "jupyter": {
     "source_hidden": true
    },
    "papermill": {
     "duration": 0.213713,
     "end_time": "2020-11-08T22:13:52.709558",
     "exception": false,
     "start_time": "2020-11-08T22:13:52.495845",
     "status": "completed"
    },
    "scrolled": false,
    "tags": [
     "hide-input"
    ]
   },
   "outputs": [
    {
     "data": {
      "image/png": "[encoded data removed]",
      "text/plain": [
       "<Figure size 864x432 with 1 Axes>"
      ]
     },
     "metadata": {
      "needs_background": "light"
     },
     "output_type": "display_data"
    }
   ],
   "source": [
    "dc.plot(kind='line',x='DATE',y='7_DAY',color='blue',grid='True',figsize=(12,6)).set_xlabel('Date');"
   ]
  },
  {
   "cell_type": "markdown",
   "metadata": {
    "papermill": {
     "duration": 0.009954,
     "end_time": "2020-11-08T22:13:52.728982",
     "exception": false,
     "start_time": "2020-11-08T22:13:52.719028",
     "status": "completed"
    },
    "tags": []
   },
   "source": [
    "## Figure 2: Rolling 7-day average of daily new cases."
   ]
  },
  {
   "cell_type": "code",
   "execution_count": 8,
   "metadata": {
    "execution": {
     "iopub.execute_input": "2020-11-08T22:13:52.753084Z",
     "iopub.status.busy": "2020-11-08T22:13:52.752390Z",
     "iopub.status.idle": "2020-11-08T22:13:52.950991Z",
     "shell.execute_reply": "2020-11-08T22:13:52.951721Z"
    },
    "jupyter": {
     "source_hidden": true
    },
    "papermill": {
     "duration": 0.213665,
     "end_time": "2020-11-08T22:13:52.951960",
     "exception": false,
     "start_time": "2020-11-08T22:13:52.738295",
     "status": "completed"
    },
    "tags": []
   },
   "outputs": [
    {
     "data": {
      "image/png": "[encoded data removed]",
      "text/plain": [
       "<Figure size 864x432 with 1 Axes>"
      ]
     },
     "metadata": {
      "needs_background": "light"
     },
     "output_type": "display_data"
    }
   ],
   "source": [
    "dc.plot(kind='line',x='DATE',y='14_DAY',color='green',grid='True',figsize=(12,6)).set_xlabel('Date');"
   ]
  },
  {
   "cell_type": "markdown",
   "metadata": {
    "papermill": {
     "duration": 0.010425,
     "end_time": "2020-11-08T22:13:52.973369",
     "exception": false,
     "start_time": "2020-11-08T22:13:52.962944",
     "status": "completed"
    },
    "tags": []
   },
   "source": [
    "## Figure 3: Rolling 14-day average of daily new cases."
   ]
  },
  {
   "cell_type": "markdown",
   "metadata": {
    "papermill": {
     "duration": 0.010347,
     "end_time": "2020-11-08T22:13:52.993601",
     "exception": false,
     "start_time": "2020-11-08T22:13:52.983254",
     "status": "completed"
    },
    "tags": []
   },
   "source": [
    "Data source: [Wisconsin Department of Health Services](https://data.dhsgis.wi.gov/datasets/covid-19-historical-data-table/)"
   ]
  },
  {
   "cell_type": "code",
   "execution_count": 9,
   "metadata": {
    "execution": {
     "iopub.execute_input": "2020-11-08T22:13:53.018058Z",
     "iopub.status.busy": "2020-11-08T22:13:53.017568Z",
     "iopub.status.idle": "2020-11-08T22:13:53.019558Z",
     "shell.execute_reply": "2020-11-08T22:13:53.020050Z"
    },
    "jupyter": {
     "source_hidden": true
    },
    "papermill": {
     "duration": 0.016792,
     "end_time": "2020-11-08T22:13:53.020194",
     "exception": false,
     "start_time": "2020-11-08T22:13:53.003402",
     "status": "completed"
    },
    "tags": []
   },
   "outputs": [
    {
     "data": {
      "text/html": [
       "<style>\n",
       "div.input {\n",
       "    display:none;\n",
       "}\n",
       "</style>\n"
      ],
      "text/plain": [
       "<IPython.core.display.HTML object>"
      ]
     },
     "metadata": {},
     "output_type": "display_data"
    }
   ],
   "source": [
    "%%html\n",
    "<style>\n",
    "div.input {\n",
    "    display:none;\n",
    "}\n",
    "</style>"
   ]
  }
 ],
 "metadata": {
  "kernelspec": {
   "display_name": "Python 3",
   "language": "python",
   "name": "python3"
  },
  "language_info": {
   "codemirror_mode": {
    "name": "ipython",
    "version": 3
   },
   "file_extension": ".py",
   "mimetype": "text/x-python",
   "name": "python",
   "nbconvert_exporter": "python",
   "pygments_lexer": "ipython3",
   "version": "3.8.6"
  },
  "papermill": {
   "duration": 4.42778,
   "end_time": "2020-11-08T22:13:53.337388",
   "environment_variables": {},
   "exception": null,
   "input_path": "DunnCounty_COVID19.ipynb",
   "output_path": "DunnCounty_COVID19.ipynb",
   "parameters": {
    "Start": "True",
    "secretsPath": "/home/runner/work/_temp/secrets.json"
   },
   "start_time": "2020-11-08T22:13:48.909608",
   "version": "1.1.16"
  }
 },
 "nbformat": 4,
 "nbformat_minor": 2
}