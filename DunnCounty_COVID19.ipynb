{
 "cells": [
  {
   "cell_type": "code",
   "execution_count": 1,
   "id": "solar-understanding",
   "metadata": {
    "execution": {
     "iopub.execute_input": "2021-02-09T10:12:55.908208Z",
     "iopub.status.busy": "2021-02-09T10:12:55.907612Z",
     "iopub.status.idle": "2021-02-09T10:12:57.690145Z",
     "shell.execute_reply": "2021-02-09T10:12:57.689565Z"
    },
    "jupyter": {
     "source_hidden": true
    },
    "papermill": {
     "duration": 1.807526,
     "end_time": "2021-02-09T10:12:57.690331",
     "exception": false,
     "start_time": "2021-02-09T10:12:55.882805",
     "status": "completed"
    },
    "scrolled": true,
    "tags": [
     "hide-input"
    ]
   },
   "outputs": [],
   "source": [
    "import pandas as pd\n",
    "import matplotlib.pyplot as plt\n",
    "from matplotlib import dates\n",
    "from IPython.display import display, Markdown\n",
    "%matplotlib inline"
   ]
  },
  {
   "cell_type": "code",
   "execution_count": 2,
   "id": "purple-playlist",
   "metadata": {
    "execution": {
     "iopub.execute_input": "2021-02-09T10:12:57.717052Z",
     "iopub.status.busy": "2021-02-09T10:12:57.716549Z",
     "iopub.status.idle": "2021-02-09T10:12:58.327524Z",
     "shell.execute_reply": "2021-02-09T10:12:58.327034Z"
    },
    "jupyter": {
     "source_hidden": true
    },
    "papermill": {
     "duration": 0.626011,
     "end_time": "2021-02-09T10:12:58.327663",
     "exception": false,
     "start_time": "2021-02-09T10:12:57.701652",
     "status": "completed"
    },
    "scrolled": true,
    "tags": [
     "hide-input"
    ]
   },
   "outputs": [],
   "source": [
    "# This is the data for all of Wisconsin.\n",
    "url = \"https://opendata.arcgis.com/datasets/5374188992374b318d3e2305216ee413_12.csv\"\n",
    "data = pd.read_csv(url, parse_dates=['DATE'], low_memory=False)"
   ]
  },
  {
   "cell_type": "code",
   "execution_count": 3,
   "id": "proprietary-klein",
   "metadata": {
    "execution": {
     "iopub.execute_input": "2021-02-09T10:12:58.362318Z",
     "iopub.status.busy": "2021-02-09T10:12:58.361750Z",
     "iopub.status.idle": "2021-02-09T10:12:58.370577Z",
     "shell.execute_reply": "2021-02-09T10:12:58.370955Z"
    },
    "jupyter": {
     "source_hidden": true
    },
    "papermill": {
     "duration": 0.02862,
     "end_time": "2021-02-09T10:12:58.371093",
     "exception": false,
     "start_time": "2021-02-09T10:12:58.342473",
     "status": "completed"
    },
    "scrolled": true,
    "tags": [
     "hide-input"
    ]
   },
   "outputs": [],
   "source": [
    "dc = data.groupby('NAME').get_group('Dunn').sort_values(by='DATE') # Select the data for Dunn County from the full data.\n",
    "PNi = dc.columns.get_loc(\"POS_NEW\")\n",
    "dc['7_DAY'] = dc.iloc[:,PNi].rolling(window=7).mean() # Calculates the rolling 7-day average of new cases.\n",
    "dc['14_DAY'] = dc.iloc[:,PNi].rolling(window=14).mean() # Calculates the rolling 14-day average of new cases."
   ]
  },
  {
   "cell_type": "code",
   "execution_count": 4,
   "id": "steady-supervision",
   "metadata": {
    "execution": {
     "iopub.execute_input": "2021-02-09T10:12:58.394305Z",
     "iopub.status.busy": "2021-02-09T10:12:58.393746Z",
     "iopub.status.idle": "2021-02-09T10:12:58.398316Z",
     "shell.execute_reply": "2021-02-09T10:12:58.397726Z"
    },
    "jupyter": {
     "source_hidden": true
    },
    "papermill": {
     "duration": 0.019035,
     "end_time": "2021-02-09T10:12:58.398493",
     "exception": false,
     "start_time": "2021-02-09T10:12:58.379458",
     "status": "completed"
    },
    "scrolled": true,
    "tags": [
     "hide-input"
    ]
   },
   "outputs": [
    {
     "data": {
      "text/markdown": [
       "### Last updated: February 08, 2021"
      ],
      "text/plain": [
       "<IPython.core.display.Markdown object>"
      ]
     },
     "metadata": {},
     "output_type": "display_data"
    }
   ],
   "source": [
    "display(Markdown('### Last updated: ' + dc.iloc[-1]['DATE'].strftime(\"%B %d, %Y\")))"
   ]
  },
  {
   "cell_type": "code",
   "execution_count": 5,
   "id": "lonely-pitch",
   "metadata": {
    "execution": {
     "iopub.execute_input": "2021-02-09T10:12:58.421678Z",
     "iopub.status.busy": "2021-02-09T10:12:58.421182Z",
     "iopub.status.idle": "2021-02-09T10:12:58.425183Z",
     "shell.execute_reply": "2021-02-09T10:12:58.424744Z"
    },
    "jupyter": {
     "source_hidden": true
    },
    "papermill": {
     "duration": 0.018085,
     "end_time": "2021-02-09T10:12:58.425294",
     "exception": false,
     "start_time": "2021-02-09T10:12:58.407209",
     "status": "completed"
    },
    "tags": [
     "hide-input"
    ]
   },
   "outputs": [
    {
     "data": {
      "text/markdown": [
       "# Dunn County has 4135 total positive cases, with -2 new cases reported today."
      ],
      "text/plain": [
       "<IPython.core.display.Markdown object>"
      ]
     },
     "metadata": {},
     "output_type": "display_data"
    }
   ],
   "source": [
    "display(Markdown('# Dunn County has ' + str(dc.iloc[-1]['POSITIVE']) + ' total positive cases, with '+ str(int(dc.iloc[-1]['POS_NEW'])) + ' new cases reported today.'))"
   ]
  },
  {
   "cell_type": "code",
   "execution_count": 6,
   "id": "compound-nightmare",
   "metadata": {
    "execution": {
     "iopub.execute_input": "2021-02-09T10:12:58.447787Z",
     "iopub.status.busy": "2021-02-09T10:12:58.447250Z",
     "iopub.status.idle": "2021-02-09T10:12:58.718925Z",
     "shell.execute_reply": "2021-02-09T10:12:58.719308Z"
    },
    "jupyter": {
     "source_hidden": true
    },
    "papermill": {
     "duration": 0.284939,
     "end_time": "2021-02-09T10:12:58.719463",
     "exception": false,
     "start_time": "2021-02-09T10:12:58.434524",
     "status": "completed"
    },
    "scrolled": false,
    "tags": [
     "hide-input"
    ]
   },
   "outputs": [
    {
     "data": {
      "image/png": "[encoded data removed]",
      "text/plain": [
       "<Figure size 864x432 with 1 Axes>"
      ]
     },
     "metadata": {
      "needs_background": "light"
     },
     "output_type": "display_data"
    }
   ],
   "source": [
    "dc.plot(x='DATE',y='POSITIVE',color='red',grid='True',figsize=(12,6)).set_xlabel('Date');"
   ]
  },
  {
   "cell_type": "markdown",
   "id": "coupled-literacy",
   "metadata": {
    "papermill": {
     "duration": 0.010039,
     "end_time": "2021-02-09T10:12:58.739786",
     "exception": false,
     "start_time": "2021-02-09T10:12:58.729747",
     "status": "completed"
    },
    "tags": []
   },
   "source": [
    "## Figure 1: Cummulative number of positive cases."
   ]
  },
  {
   "cell_type": "code",
   "execution_count": 7,
   "id": "surrounded-reserve",
   "metadata": {
    "execution": {
     "iopub.execute_input": "2021-02-09T10:12:58.764887Z",
     "iopub.status.busy": "2021-02-09T10:12:58.764391Z",
     "iopub.status.idle": "2021-02-09T10:12:58.982695Z",
     "shell.execute_reply": "2021-02-09T10:12:58.983083Z"
    },
    "jupyter": {
     "source_hidden": true
    },
    "papermill": {
     "duration": 0.233273,
     "end_time": "2021-02-09T10:12:58.983231",
     "exception": false,
     "start_time": "2021-02-09T10:12:58.749958",
     "status": "completed"
    },
    "scrolled": false,
    "tags": [
     "hide-input"
    ]
   },
   "outputs": [
    {
     "data": {
      "image/png": "[encoded data removed]",
      "text/plain": [
       "<Figure size 864x432 with 1 Axes>"
      ]
     },
     "metadata": {
      "needs_background": "light"
     },
     "output_type": "display_data"
    }
   ],
   "source": [
    "dc.plot(kind='line',x='DATE',y='7_DAY',color='blue',grid='True',figsize=(12,6)).set_xlabel('Date');"
   ]
  },
  {
   "cell_type": "markdown",
   "id": "professional-savannah",
   "metadata": {
    "papermill": {
     "duration": 0.012979,
     "end_time": "2021-02-09T10:12:59.008725",
     "exception": false,
     "start_time": "2021-02-09T10:12:58.995746",
     "status": "completed"
    },
    "tags": []
   },
   "source": [
    "## Figure 2: Rolling 7-day average of daily new cases."
   ]
  },
  {
   "cell_type": "code",
   "execution_count": 8,
   "id": "stretch-investor",
   "metadata": {
    "execution": {
     "iopub.execute_input": "2021-02-09T10:12:59.038829Z",
     "iopub.status.busy": "2021-02-09T10:12:59.038294Z",
     "iopub.status.idle": "2021-02-09T10:12:59.258862Z",
     "shell.execute_reply": "2021-02-09T10:12:59.259297Z"
    },
    "jupyter": {
     "source_hidden": true
    },
    "papermill": {
     "duration": 0.238212,
     "end_time": "2021-02-09T10:12:59.259608",
     "exception": false,
     "start_time": "2021-02-09T10:12:59.021396",
     "status": "completed"
    },
    "tags": []
   },
   "outputs": [
    {
     "data": {
      "image/png": "[encoded data removed]",
      "text/plain": [
       "<Figure size 864x432 with 1 Axes>"
      ]
     },
     "metadata": {
      "needs_background": "light"
     },
     "output_type": "display_data"
    }
   ],
   "source": [
    "dc.plot(kind='line',x='DATE',y='14_DAY',color='green',grid='True',figsize=(12,6)).set_xlabel('Date');"
   ]
  },
  {
   "cell_type": "markdown",
   "id": "prerequisite-species",
   "metadata": {
    "papermill": {
     "duration": 0.01514,
     "end_time": "2021-02-09T10:12:59.289683",
     "exception": false,
     "start_time": "2021-02-09T10:12:59.274543",
     "status": "completed"
    },
    "tags": []
   },
   "source": [
    "## Figure 3: Rolling 14-day average of daily new cases."
   ]
  },
  {
   "cell_type": "markdown",
   "id": "palestinian-guard",
   "metadata": {
    "papermill": {
     "duration": 0.012203,
     "end_time": "2021-02-09T10:12:59.314801",
     "exception": false,
     "start_time": "2021-02-09T10:12:59.302598",
     "status": "completed"
    },
    "tags": []
   },
   "source": [
    "Data source: [Wisconsin Department of Health Services](https://data.dhsgis.wi.gov/datasets/covid-19-historical-data-table/)"
   ]
  },
  {
   "cell_type": "code",
   "execution_count": 9,
   "id": "proof-medicare",
   "metadata": {
    "execution": {
     "iopub.execute_input": "2021-02-09T10:12:59.349201Z",
     "iopub.status.busy": "2021-02-09T10:12:59.348657Z",
     "iopub.status.idle": "2021-02-09T10:12:59.351434Z",
     "shell.execute_reply": "2021-02-09T10:12:59.351889Z"
    },
    "jupyter": {
     "source_hidden": true
    },
    "papermill": {
     "duration": 0.021737,
     "end_time": "2021-02-09T10:12:59.352027",
     "exception": false,
     "start_time": "2021-02-09T10:12:59.330290",
     "status": "completed"
    },
    "tags": []
   },
   "outputs": [
    {
     "data": {
      "text/html": [
       "<style>\n",
       "div.input {\n",
       "    display:none;\n",
       "}\n",
       "</style>\n"
      ],
      "text/plain": [
       "<IPython.core.display.HTML object>"
      ]
     },
     "metadata": {},
     "output_type": "display_data"
    }
   ],
   "source": [
    "%%html\n",
    "<style>\n",
    "div.input {\n",
    "    display:none;\n",
    "}\n",
    "</style>"
   ]
  }
 ],
 "metadata": {
  "kernelspec": {
   "display_name": "Python 3",
   "language": "python",
   "name": "python3"
  },
  "language_info": {
   "codemirror_mode": {
    "name": "ipython",
    "version": 3
   },
   "file_extension": ".py",
   "mimetype": "text/x-python",
   "name": "python",
   "nbconvert_exporter": "python",
   "pygments_lexer": "ipython3",
   "version": "3.8.7"
  },
  "papermill": {
   "duration": 5.261829,
   "end_time": "2021-02-09T10:12:59.670883",
   "environment_variables": {},
   "exception": null,
   "input_path": "DunnCounty_COVID19.ipynb",
   "output_path": "DunnCounty_COVID19.ipynb",
   "parameters": {
    "Start": "True",
    "secretsPath": "/home/runner/work/_temp/secrets.json"
   },
   "start_time": "2021-02-09T10:12:54.409054",
   "version": "1.1.16"
  }
 },
 "nbformat": 4,
 "nbformat_minor": 5
}