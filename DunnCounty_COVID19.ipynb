{
 "cells": [
  {
   "cell_type": "code",
   "execution_count": 1,
   "metadata": {
    "execution": {
     "iopub.execute_input": "2020-09-24T22:09:45.905691Z",
     "iopub.status.busy": "2020-09-24T22:09:45.905099Z",
     "iopub.status.idle": "2020-09-24T22:09:47.005730Z",
     "shell.execute_reply": "2020-09-24T22:09:47.005004Z"
    },
    "jupyter": {
     "source_hidden": true
    },
    "papermill": {
     "duration": 1.115534,
     "end_time": "2020-09-24T22:09:47.005987",
     "exception": false,
     "start_time": "2020-09-24T22:09:45.890453",
     "status": "completed"
    },
    "scrolled": true,
    "tags": [
     "hide-input"
    ]
   },
   "outputs": [],
   "source": [
    "import pandas as pd\n",
    "import matplotlib.pyplot as plt\n",
    "from matplotlib import dates\n",
    "from IPython.display import display, Markdown\n",
    "%matplotlib inline"
   ]
  },
  {
   "cell_type": "code",
   "execution_count": 2,
   "metadata": {
    "execution": {
     "iopub.execute_input": "2020-09-24T22:09:47.024944Z",
     "iopub.status.busy": "2020-09-24T22:09:47.024397Z",
     "iopub.status.idle": "2020-09-24T22:09:50.981454Z",
     "shell.execute_reply": "2020-09-24T22:09:50.980859Z"
    },
    "jupyter": {
     "source_hidden": true
    },
    "papermill": {
     "duration": 3.968211,
     "end_time": "2020-09-24T22:09:50.981645",
     "exception": false,
     "start_time": "2020-09-24T22:09:47.013434",
     "status": "completed"
    },
    "scrolled": true,
    "tags": [
     "hide-input"
    ]
   },
   "outputs": [],
   "source": [
    "# This is the data for all of Wisconsin.\n",
    "url = \"https://opendata.arcgis.com/datasets/b913e9591eae4912b33dc5b4e88646c5_10.csv\"\n",
    "data = pd.read_csv(url, parse_dates=['DATE'], low_memory=False)"
   ]
  },
  {
   "cell_type": "code",
   "execution_count": 3,
   "metadata": {
    "execution": {
     "iopub.execute_input": "2020-09-24T22:09:51.018119Z",
     "iopub.status.busy": "2020-09-24T22:09:51.017385Z",
     "iopub.status.idle": "2020-09-24T22:09:51.028651Z",
     "shell.execute_reply": "2020-09-24T22:09:51.027961Z"
    },
    "jupyter": {
     "source_hidden": true
    },
    "papermill": {
     "duration": 0.035849,
     "end_time": "2020-09-24T22:09:51.028795",
     "exception": false,
     "start_time": "2020-09-24T22:09:50.992946",
     "status": "completed"
    },
    "scrolled": true,
    "tags": [
     "hide-input"
    ]
   },
   "outputs": [],
   "source": [
    "dc = data.groupby('NAME').get_group('Dunn').sort_values(by='DATE') # Select the data for Dunn County from the full data.\n",
    "PNi = dc.columns.get_loc(\"POS_NEW\")\n",
    "dc['7_DAY'] = dc.iloc[:,PNi].rolling(window=7).mean() # Calculates the rolling 7-day average of new cases.\n",
    "dc['14_DAY'] = dc.iloc[:,PNi].rolling(window=14).mean() # Calculates the rolling 14-day average of new cases."
   ]
  },
  {
   "cell_type": "code",
   "execution_count": 4,
   "metadata": {
    "execution": {
     "iopub.execute_input": "2020-09-24T22:09:51.051317Z",
     "iopub.status.busy": "2020-09-24T22:09:51.050790Z",
     "iopub.status.idle": "2020-09-24T22:09:51.055537Z",
     "shell.execute_reply": "2020-09-24T22:09:51.054630Z"
    },
    "jupyter": {
     "source_hidden": true
    },
    "papermill": {
     "duration": 0.018867,
     "end_time": "2020-09-24T22:09:51.055662",
     "exception": false,
     "start_time": "2020-09-24T22:09:51.036795",
     "status": "completed"
    },
    "scrolled": true,
    "tags": [
     "hide-input"
    ]
   },
   "outputs": [
    {
     "data": {
      "text/markdown": [
       "### Last updated: September 24, 2020"
      ],
      "text/plain": [
       "<IPython.core.display.Markdown object>"
      ]
     },
     "metadata": {},
     "output_type": "display_data"
    }
   ],
   "source": [
    "display(Markdown('### Last updated: ' + dc.iloc[-1]['DATE'].strftime(\"%B %d, %Y\")))"
   ]
  },
  {
   "cell_type": "code",
   "execution_count": 5,
   "metadata": {
    "execution": {
     "iopub.execute_input": "2020-09-24T22:09:51.074380Z",
     "iopub.status.busy": "2020-09-24T22:09:51.073755Z",
     "iopub.status.idle": "2020-09-24T22:09:51.076871Z",
     "shell.execute_reply": "2020-09-24T22:09:51.077445Z"
    },
    "jupyter": {
     "source_hidden": true
    },
    "papermill": {
     "duration": 0.015116,
     "end_time": "2020-09-24T22:09:51.077607",
     "exception": false,
     "start_time": "2020-09-24T22:09:51.062491",
     "status": "completed"
    },
    "tags": [
     "hide-input"
    ]
   },
   "outputs": [
    {
     "data": {
      "text/markdown": [
       "# Dunn County has 449 total positive cases, with 23 new cases reported today."
      ],
      "text/plain": [
       "<IPython.core.display.Markdown object>"
      ]
     },
     "metadata": {},
     "output_type": "display_data"
    }
   ],
   "source": [
    "display(Markdown('# Dunn County has ' + str(dc.iloc[-1]['POSITIVE']) + ' total positive cases, with '+ str(int(dc.iloc[-1]['POS_NEW'])) + ' new cases reported today.'))"
   ]
  },
  {
   "cell_type": "code",
   "execution_count": 6,
   "metadata": {
    "execution": {
     "iopub.execute_input": "2020-09-24T22:09:51.096672Z",
     "iopub.status.busy": "2020-09-24T22:09:51.096120Z",
     "iopub.status.idle": "2020-09-24T22:09:51.337022Z",
     "shell.execute_reply": "2020-09-24T22:09:51.337472Z"
    },
    "jupyter": {
     "source_hidden": true
    },
    "papermill": {
     "duration": 0.251964,
     "end_time": "2020-09-24T22:09:51.337674",
     "exception": false,
     "start_time": "2020-09-24T22:09:51.085710",
     "status": "completed"
    },
    "scrolled": false,
    "tags": [
     "hide-input"
    ]
   },
   "outputs": [
    {
     "data": {
      "image/png": "[encoded data removed]",
      "text/plain": [
       "<Figure size 864x432 with 1 Axes>"
      ]
     },
     "metadata": {
      "needs_background": "light"
     },
     "output_type": "display_data"
    }
   ],
   "source": [
    "dc.plot(x='DATE',y='POSITIVE',color='red',grid='True',figsize=(12,6)).set_xlabel('Date');"
   ]
  },
  {
   "cell_type": "markdown",
   "metadata": {
    "papermill": {
     "duration": 0.008279,
     "end_time": "2020-09-24T22:09:51.354087",
     "exception": false,
     "start_time": "2020-09-24T22:09:51.345808",
     "status": "completed"
    },
    "tags": []
   },
   "source": [
    "## Figure 1: Cummulative number of positive cases."
   ]
  },
  {
   "cell_type": "code",
   "execution_count": 7,
   "metadata": {
    "execution": {
     "iopub.execute_input": "2020-09-24T22:09:51.376149Z",
     "iopub.status.busy": "2020-09-24T22:09:51.375470Z",
     "iopub.status.idle": "2020-09-24T22:09:51.580151Z",
     "shell.execute_reply": "2020-09-24T22:09:51.580576Z"
    },
    "jupyter": {
     "source_hidden": true
    },
    "papermill": {
     "duration": 0.218248,
     "end_time": "2020-09-24T22:09:51.580747",
     "exception": false,
     "start_time": "2020-09-24T22:09:51.362499",
     "status": "completed"
    },
    "scrolled": false,
    "tags": [
     "hide-input"
    ]
   },
   "outputs": [
    {
     "data": {
      "image/png": "[encoded data removed]",
      "text/plain": [
       "<Figure size 864x432 with 1 Axes>"
      ]
     },
     "metadata": {
      "needs_background": "light"
     },
     "output_type": "display_data"
    }
   ],
   "source": [
    "dc.plot(kind='line',x='DATE',y='7_DAY',color='blue',grid='True',figsize=(12,6)).set_xlabel('Date');"
   ]
  },
  {
   "cell_type": "markdown",
   "metadata": {
    "papermill": {
     "duration": 0.008356,
     "end_time": "2020-09-24T22:09:51.598928",
     "exception": false,
     "start_time": "2020-09-24T22:09:51.590572",
     "status": "completed"
    },
    "tags": []
   },
   "source": [
    "## Figure 2: Rolling 7-day average of daily new cases."
   ]
  },
  {
   "cell_type": "code",
   "execution_count": 8,
   "metadata": {
    "execution": {
     "iopub.execute_input": "2020-09-24T22:09:51.620917Z",
     "iopub.status.busy": "2020-09-24T22:09:51.620386Z",
     "iopub.status.idle": "2020-09-24T22:09:51.881859Z",
     "shell.execute_reply": "2020-09-24T22:09:51.882306Z"
    },
    "jupyter": {
     "source_hidden": true
    },
    "papermill": {
     "duration": 0.274894,
     "end_time": "2020-09-24T22:09:51.882465",
     "exception": false,
     "start_time": "2020-09-24T22:09:51.607571",
     "status": "completed"
    },
    "tags": []
   },
   "outputs": [
    {
     "data": {
      "image/png": "[encoded data removed]",
      "text/plain": [
       "<Figure size 864x432 with 1 Axes>"
      ]
     },
     "metadata": {
      "needs_background": "light"
     },
     "output_type": "display_data"
    }
   ],
   "source": [
    "dc.plot(kind='line',x='DATE',y='14_DAY',color='green',grid='True',figsize=(12,6)).set_xlabel('Date');"
   ]
  },
  {
   "cell_type": "markdown",
   "metadata": {
    "papermill": {
     "duration": 0.010362,
     "end_time": "2020-09-24T22:09:51.904436",
     "exception": false,
     "start_time": "2020-09-24T22:09:51.894074",
     "status": "completed"
    },
    "tags": []
   },
   "source": [
    "## Figure 3: Rolling 14-day average of daily new cases."
   ]
  },
  {
   "cell_type": "markdown",
   "metadata": {
    "papermill": {
     "duration": 0.013143,
     "end_time": "2020-09-24T22:09:51.927523",
     "exception": false,
     "start_time": "2020-09-24T22:09:51.914380",
     "status": "completed"
    },
    "tags": []
   },
   "source": [
    "Data source: [Wisconsin Department of Health Services](https://data.dhsgis.wi.gov/datasets/covid-19-historical-data-table/)"
   ]
  },
  {
   "cell_type": "code",
   "execution_count": 9,
   "metadata": {
    "execution": {
     "iopub.execute_input": "2020-09-24T22:09:51.955257Z",
     "iopub.status.busy": "2020-09-24T22:09:51.954581Z",
     "iopub.status.idle": "2020-09-24T22:09:51.957915Z",
     "shell.execute_reply": "2020-09-24T22:09:51.957312Z"
    },
    "jupyter": {
     "source_hidden": true
    },
    "papermill": {
     "duration": 0.01926,
     "end_time": "2020-09-24T22:09:51.958053",
     "exception": false,
     "start_time": "2020-09-24T22:09:51.938793",
     "status": "completed"
    },
    "tags": []
   },
   "outputs": [
    {
     "data": {
      "text/html": [
       "<style>\n",
       "div.input {\n",
       "    display:none;\n",
       "}\n",
       "</style>\n"
      ],
      "text/plain": [
       "<IPython.core.display.HTML object>"
      ]
     },
     "metadata": {},
     "output_type": "display_data"
    }
   ],
   "source": [
    "%%html\n",
    "<style>\n",
    "div.input {\n",
    "    display:none;\n",
    "}\n",
    "</style>"
   ]
  }
 ],
 "metadata": {
  "kernelspec": {
   "display_name": "Python 3",
   "language": "python",
   "name": "python3"
  },
  "language_info": {
   "codemirror_mode": {
    "name": "ipython",
    "version": 3
   },
   "file_extension": ".py",
   "mimetype": "text/x-python",
   "name": "python",
   "nbconvert_exporter": "python",
   "pygments_lexer": "ipython3",
   "version": "3.8.5"
  },
  "papermill": {
   "duration": 8.755893,
   "end_time": "2020-09-24T22:09:53.133252",
   "environment_variables": {},
   "exception": null,
   "input_path": "DunnCounty_COVID19.ipynb",
   "output_path": "DunnCounty_COVID19.ipynb",
   "parameters": {
    "Start": "True",
    "secretsPath": "/home/runner/work/_temp/secrets.json"
   },
   "start_time": "2020-09-24T22:09:44.377359",
   "version": "1.1.16"
  }
 },
 "nbformat": 4,
 "nbformat_minor": 2
}