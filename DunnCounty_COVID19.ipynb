{
 "cells": [
  {
   "cell_type": "code",
   "execution_count": 1,
   "id": "solar-understanding",
   "metadata": {
    "execution": {
     "iopub.execute_input": "2021-03-06T10:12:58.014949Z",
     "iopub.status.busy": "2021-03-06T10:12:58.014328Z",
     "iopub.status.idle": "2021-03-06T10:13:00.142905Z",
     "shell.execute_reply": "2021-03-06T10:13:00.143321Z"
    },
    "jupyter": {
     "source_hidden": true
    },
    "papermill": {
     "duration": 2.146833,
     "end_time": "2021-03-06T10:13:00.143552",
     "exception": false,
     "start_time": "2021-03-06T10:12:57.996719",
     "status": "completed"
    },
    "scrolled": true,
    "tags": [
     "hide-input"
    ]
   },
   "outputs": [],
   "source": [
    "import pandas as pd\n",
    "import matplotlib.pyplot as plt\n",
    "from matplotlib import dates\n",
    "from IPython.display import display, Markdown\n",
    "%matplotlib inline"
   ]
  },
  {
   "cell_type": "code",
   "execution_count": 2,
   "id": "purple-playlist",
   "metadata": {
    "execution": {
     "iopub.execute_input": "2021-03-06T10:13:00.167616Z",
     "iopub.status.busy": "2021-03-06T10:13:00.166995Z",
     "iopub.status.idle": "2021-03-06T10:13:00.853448Z",
     "shell.execute_reply": "2021-03-06T10:13:00.852336Z"
    },
    "jupyter": {
     "source_hidden": true
    },
    "papermill": {
     "duration": 0.700598,
     "end_time": "2021-03-06T10:13:00.853596",
     "exception": false,
     "start_time": "2021-03-06T10:13:00.152998",
     "status": "completed"
    },
    "scrolled": true,
    "tags": [
     "hide-input"
    ]
   },
   "outputs": [],
   "source": [
    "# This is the data for all of Wisconsin.\n",
    "url = \"https://opendata.arcgis.com/datasets/5374188992374b318d3e2305216ee413_12.csv\"\n",
    "data = pd.read_csv(url, parse_dates=['DATE'], low_memory=False)"
   ]
  },
  {
   "cell_type": "code",
   "execution_count": 3,
   "id": "proprietary-klein",
   "metadata": {
    "execution": {
     "iopub.execute_input": "2021-03-06T10:13:00.882852Z",
     "iopub.status.busy": "2021-03-06T10:13:00.882125Z",
     "iopub.status.idle": "2021-03-06T10:13:00.891838Z",
     "shell.execute_reply": "2021-03-06T10:13:00.891360Z"
    },
    "jupyter": {
     "source_hidden": true
    },
    "papermill": {
     "duration": 0.025511,
     "end_time": "2021-03-06T10:13:00.891961",
     "exception": false,
     "start_time": "2021-03-06T10:13:00.866450",
     "status": "completed"
    },
    "scrolled": true,
    "tags": [
     "hide-input"
    ]
   },
   "outputs": [],
   "source": [
    "dc = data.groupby('NAME').get_group('Dunn').sort_values(by='DATE') # Select the data for Dunn County from the full data.\n",
    "PNi = dc.columns.get_loc(\"POS_NEW\")\n",
    "dc['7_DAY'] = dc.iloc[:,PNi].rolling(window=7).mean() # Calculates the rolling 7-day average of new cases.\n",
    "dc['14_DAY'] = dc.iloc[:,PNi].rolling(window=14).mean() # Calculates the rolling 14-day average of new cases."
   ]
  },
  {
   "cell_type": "code",
   "execution_count": 4,
   "id": "steady-supervision",
   "metadata": {
    "execution": {
     "iopub.execute_input": "2021-03-06T10:13:00.916156Z",
     "iopub.status.busy": "2021-03-06T10:13:00.915672Z",
     "iopub.status.idle": "2021-03-06T10:13:00.919698Z",
     "shell.execute_reply": "2021-03-06T10:13:00.918981Z"
    },
    "jupyter": {
     "source_hidden": true
    },
    "papermill": {
     "duration": 0.019197,
     "end_time": "2021-03-06T10:13:00.919834",
     "exception": false,
     "start_time": "2021-03-06T10:13:00.900637",
     "status": "completed"
    },
    "scrolled": true,
    "tags": [
     "hide-input"
    ]
   },
   "outputs": [
    {
     "data": {
      "text/markdown": [
       "### Last updated: March 05, 2021"
      ],
      "text/plain": [
       "<IPython.core.display.Markdown object>"
      ]
     },
     "metadata": {},
     "output_type": "display_data"
    }
   ],
   "source": [
    "display(Markdown('### Last updated: ' + dc.iloc[-1]['DATE'].strftime(\"%B %d, %Y\")))"
   ]
  },
  {
   "cell_type": "code",
   "execution_count": 5,
   "id": "lonely-pitch",
   "metadata": {
    "execution": {
     "iopub.execute_input": "2021-03-06T10:13:00.942133Z",
     "iopub.status.busy": "2021-03-06T10:13:00.941283Z",
     "iopub.status.idle": "2021-03-06T10:13:00.944052Z",
     "shell.execute_reply": "2021-03-06T10:13:00.944432Z"
    },
    "jupyter": {
     "source_hidden": true
    },
    "papermill": {
     "duration": 0.016423,
     "end_time": "2021-03-06T10:13:00.944539",
     "exception": false,
     "start_time": "2021-03-06T10:13:00.928116",
     "status": "completed"
    },
    "tags": [
     "hide-input"
    ]
   },
   "outputs": [
    {
     "data": {
      "text/markdown": [
       "# Dunn County has 4289 total positive cases, with 6 new cases reported today."
      ],
      "text/plain": [
       "<IPython.core.display.Markdown object>"
      ]
     },
     "metadata": {},
     "output_type": "display_data"
    }
   ],
   "source": [
    "display(Markdown('# Dunn County has ' + str(dc.iloc[-1]['POSITIVE']) + ' total positive cases, with '+ str(int(dc.iloc[-1]['POS_NEW'])) + ' new cases reported today.'))"
   ]
  },
  {
   "cell_type": "code",
   "execution_count": 6,
   "id": "compound-nightmare",
   "metadata": {
    "execution": {
     "iopub.execute_input": "2021-03-06T10:13:00.970818Z",
     "iopub.status.busy": "2021-03-06T10:13:00.970112Z",
     "iopub.status.idle": "2021-03-06T10:13:01.249034Z",
     "shell.execute_reply": "2021-03-06T10:13:01.249483Z"
    },
    "jupyter": {
     "source_hidden": true
    },
    "papermill": {
     "duration": 0.295667,
     "end_time": "2021-03-06T10:13:01.249661",
     "exception": false,
     "start_time": "2021-03-06T10:13:00.953994",
     "status": "completed"
    },
    "scrolled": false,
    "tags": [
     "hide-input"
    ]
   },
   "outputs": [
    {
     "data": {
      "image/png": "[encoded data removed]",
      "text/plain": [
       "<Figure size 864x432 with 1 Axes>"
      ]
     },
     "metadata": {
      "needs_background": "light"
     },
     "output_type": "display_data"
    }
   ],
   "source": [
    "dc.plot(x='DATE',y='POSITIVE',color='red',grid='True',figsize=(12,6)).set_xlabel('Date');"
   ]
  },
  {
   "cell_type": "markdown",
   "id": "coupled-literacy",
   "metadata": {
    "papermill": {
     "duration": 0.010368,
     "end_time": "2021-03-06T10:13:01.269821",
     "exception": false,
     "start_time": "2021-03-06T10:13:01.259453",
     "status": "completed"
    },
    "tags": []
   },
   "source": [
    "## Figure 1: Cummulative number of positive cases."
   ]
  },
  {
   "cell_type": "code",
   "execution_count": 7,
   "id": "surrounded-reserve",
   "metadata": {
    "execution": {
     "iopub.execute_input": "2021-03-06T10:13:01.294888Z",
     "iopub.status.busy": "2021-03-06T10:13:01.294358Z",
     "iopub.status.idle": "2021-03-06T10:13:01.509189Z",
     "shell.execute_reply": "2021-03-06T10:13:01.509655Z"
    },
    "jupyter": {
     "source_hidden": true
    },
    "papermill": {
     "duration": 0.230375,
     "end_time": "2021-03-06T10:13:01.509823",
     "exception": false,
     "start_time": "2021-03-06T10:13:01.279448",
     "status": "completed"
    },
    "scrolled": false,
    "tags": [
     "hide-input"
    ]
   },
   "outputs": [
    {
     "data": {
      "image/png": "[encoded data removed]",
      "text/plain": [
       "<Figure size 864x432 with 1 Axes>"
      ]
     },
     "metadata": {
      "needs_background": "light"
     },
     "output_type": "display_data"
    }
   ],
   "source": [
    "dc.plot(kind='line',x='DATE',y='7_DAY',color='blue',grid='True',figsize=(12,6)).set_xlabel('Date');"
   ]
  },
  {
   "cell_type": "markdown",
   "id": "professional-savannah",
   "metadata": {
    "papermill": {
     "duration": 0.010903,
     "end_time": "2021-03-06T10:13:01.534047",
     "exception": false,
     "start_time": "2021-03-06T10:13:01.523144",
     "status": "completed"
    },
    "tags": []
   },
   "source": [
    "## Figure 2: Rolling 7-day average of daily new cases."
   ]
  },
  {
   "cell_type": "code",
   "execution_count": 8,
   "id": "stretch-investor",
   "metadata": {
    "execution": {
     "iopub.execute_input": "2021-03-06T10:13:01.559582Z",
     "iopub.status.busy": "2021-03-06T10:13:01.559059Z",
     "iopub.status.idle": "2021-03-06T10:13:01.782016Z",
     "shell.execute_reply": "2021-03-06T10:13:01.782551Z"
    },
    "jupyter": {
     "source_hidden": true
    },
    "papermill": {
     "duration": 0.237912,
     "end_time": "2021-03-06T10:13:01.782702",
     "exception": false,
     "start_time": "2021-03-06T10:13:01.544790",
     "status": "completed"
    },
    "tags": []
   },
   "outputs": [
    {
     "data": {
      "image/png": "[encoded data removed]",
      "text/plain": [
       "<Figure size 864x432 with 1 Axes>"
      ]
     },
     "metadata": {
      "needs_background": "light"
     },
     "output_type": "display_data"
    }
   ],
   "source": [
    "dc.plot(kind='line',x='DATE',y='14_DAY',color='green',grid='True',figsize=(12,6)).set_xlabel('Date');"
   ]
  },
  {
   "cell_type": "markdown",
   "id": "prerequisite-species",
   "metadata": {
    "papermill": {
     "duration": 0.011867,
     "end_time": "2021-03-06T10:13:01.806701",
     "exception": false,
     "start_time": "2021-03-06T10:13:01.794834",
     "status": "completed"
    },
    "tags": []
   },
   "source": [
    "## Figure 3: Rolling 14-day average of daily new cases."
   ]
  },
  {
   "cell_type": "markdown",
   "id": "palestinian-guard",
   "metadata": {
    "papermill": {
     "duration": 0.011733,
     "end_time": "2021-03-06T10:13:01.832890",
     "exception": false,
     "start_time": "2021-03-06T10:13:01.821157",
     "status": "completed"
    },
    "tags": []
   },
   "source": [
    "Data source: [Wisconsin Department of Health Services](https://data.dhsgis.wi.gov/datasets/covid-19-historical-data-table/)"
   ]
  },
  {
   "cell_type": "code",
   "execution_count": 9,
   "id": "proof-medicare",
   "metadata": {
    "execution": {
     "iopub.execute_input": "2021-03-06T10:13:01.863354Z",
     "iopub.status.busy": "2021-03-06T10:13:01.862846Z",
     "iopub.status.idle": "2021-03-06T10:13:01.865545Z",
     "shell.execute_reply": "2021-03-06T10:13:01.866011Z"
    },
    "jupyter": {
     "source_hidden": true
    },
    "papermill": {
     "duration": 0.019337,
     "end_time": "2021-03-06T10:13:01.866154",
     "exception": false,
     "start_time": "2021-03-06T10:13:01.846817",
     "status": "completed"
    },
    "tags": []
   },
   "outputs": [
    {
     "data": {
      "text/html": [
       "<style>\n",
       "div.input {\n",
       "    display:none;\n",
       "}\n",
       "</style>\n"
      ],
      "text/plain": [
       "<IPython.core.display.HTML object>"
      ]
     },
     "metadata": {},
     "output_type": "display_data"
    }
   ],
   "source": [
    "%%html\n",
    "<style>\n",
    "div.input {\n",
    "    display:none;\n",
    "}\n",
    "</style>"
   ]
  }
 ],
 "metadata": {
  "kernelspec": {
   "display_name": "Python 3",
   "language": "python",
   "name": "python3"
  },
  "language_info": {
   "codemirror_mode": {
    "name": "ipython",
    "version": 3
   },
   "file_extension": ".py",
   "mimetype": "text/x-python",
   "name": "python",
   "nbconvert_exporter": "python",
   "pygments_lexer": "ipython3",
   "version": "3.8.8"
  },
  "papermill": {
   "duration": 5.627565,
   "end_time": "2021-03-06T10:13:02.185787",
   "environment_variables": {},
   "exception": null,
   "input_path": "DunnCounty_COVID19.ipynb",
   "output_path": "DunnCounty_COVID19.ipynb",
   "parameters": {
    "Start": "True",
    "secretsPath": "/home/runner/work/_temp/secrets.json"
   },
   "start_time": "2021-03-06T10:12:56.558222",
   "version": "1.1.16"
  }
 },
 "nbformat": 4,
 "nbformat_minor": 5
}