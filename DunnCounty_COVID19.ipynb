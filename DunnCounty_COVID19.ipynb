{
 "cells": [
  {
   "cell_type": "code",
   "execution_count": 1,
   "id": "solar-understanding",
   "metadata": {
    "execution": {
     "iopub.execute_input": "2021-06-08T10:17:09.807645Z",
     "iopub.status.busy": "2021-06-08T10:17:09.806531Z",
     "iopub.status.idle": "2021-06-08T10:17:11.123204Z",
     "shell.execute_reply": "2021-06-08T10:17:11.122550Z"
    },
    "jupyter": {
     "source_hidden": true
    },
    "papermill": {
     "duration": 1.335127,
     "end_time": "2021-06-08T10:17:11.123367",
     "exception": false,
     "start_time": "2021-06-08T10:17:09.788240",
     "status": "completed"
    },
    "scrolled": true,
    "tags": [
     "hide-input"
    ]
   },
   "outputs": [],
   "source": [
    "import pandas as pd\n",
    "import matplotlib.pyplot as plt\n",
    "from matplotlib import dates\n",
    "from IPython.display import display, Markdown\n",
    "%matplotlib inline"
   ]
  },
  {
   "cell_type": "code",
   "execution_count": 2,
   "id": "purple-playlist",
   "metadata": {
    "execution": {
     "iopub.execute_input": "2021-06-08T10:17:11.150151Z",
     "iopub.status.busy": "2021-06-08T10:17:11.149574Z",
     "iopub.status.idle": "2021-06-08T10:17:11.898196Z",
     "shell.execute_reply": "2021-06-08T10:17:11.897298Z"
    },
    "jupyter": {
     "source_hidden": true
    },
    "papermill": {
     "duration": 0.76486,
     "end_time": "2021-06-08T10:17:11.898397",
     "exception": false,
     "start_time": "2021-06-08T10:17:11.133537",
     "status": "completed"
    },
    "scrolled": true,
    "tags": [
     "hide-input"
    ]
   },
   "outputs": [],
   "source": [
    "# This is the data for all of Wisconsin.\n",
    "url = \"https://opendata.arcgis.com/api/v3/datasets/3161f6e01d8141c6abe85a29ff7f3d3c_12/downloads/data?format=csv&spatialRefId=3857\"\n",
    "data = pd.read_csv(url, parse_dates=['DATE'], low_memory=False)"
   ]
  },
  {
   "cell_type": "code",
   "execution_count": 3,
   "id": "proprietary-klein",
   "metadata": {
    "execution": {
     "iopub.execute_input": "2021-06-08T10:17:11.926133Z",
     "iopub.status.busy": "2021-06-08T10:17:11.925556Z",
     "iopub.status.idle": "2021-06-08T10:17:11.981139Z",
     "shell.execute_reply": "2021-06-08T10:17:11.980254Z"
    },
    "jupyter": {
     "source_hidden": true
    },
    "papermill": {
     "duration": 0.072545,
     "end_time": "2021-06-08T10:17:11.981341",
     "exception": false,
     "start_time": "2021-06-08T10:17:11.908796",
     "status": "completed"
    },
    "scrolled": true,
    "tags": [
     "hide-input"
    ]
   },
   "outputs": [],
   "source": [
    "dc = data.groupby('NAME').get_group('Dunn').sort_values(by='DATE') # Select the data for Dunn County from the full data.\n",
    "PNi = dc.columns.get_loc(\"POS_NEW\")\n",
    "dc['7_DAY'] = dc.iloc[:,PNi].rolling(window=7).mean() # Calculates the rolling 7-day average of new cases.\n",
    "dc['14_DAY'] = dc.iloc[:,PNi].rolling(window=14).mean() # Calculates the rolling 14-day average of new cases."
   ]
  },
  {
   "cell_type": "code",
   "execution_count": 4,
   "id": "steady-supervision",
   "metadata": {
    "execution": {
     "iopub.execute_input": "2021-06-08T10:17:12.006958Z",
     "iopub.status.busy": "2021-06-08T10:17:12.006376Z",
     "iopub.status.idle": "2021-06-08T10:17:12.010730Z",
     "shell.execute_reply": "2021-06-08T10:17:12.011149Z"
    },
    "jupyter": {
     "source_hidden": true
    },
    "papermill": {
     "duration": 0.020553,
     "end_time": "2021-06-08T10:17:12.011308",
     "exception": false,
     "start_time": "2021-06-08T10:17:11.990755",
     "status": "completed"
    },
    "scrolled": true,
    "tags": [
     "hide-input"
    ]
   },
   "outputs": [
    {
     "data": {
      "text/markdown": [
       "### Last updated: June 07, 2021"
      ],
      "text/plain": [
       "<IPython.core.display.Markdown object>"
      ]
     },
     "metadata": {},
     "output_type": "display_data"
    }
   ],
   "source": [
    "display(Markdown('### Last updated: ' + dc.iloc[-1]['DATE'].strftime(\"%B %d, %Y\")))"
   ]
  },
  {
   "cell_type": "code",
   "execution_count": 5,
   "id": "lonely-pitch",
   "metadata": {
    "execution": {
     "iopub.execute_input": "2021-06-08T10:17:12.034934Z",
     "iopub.status.busy": "2021-06-08T10:17:12.034346Z",
     "iopub.status.idle": "2021-06-08T10:17:12.038261Z",
     "shell.execute_reply": "2021-06-08T10:17:12.037779Z"
    },
    "jupyter": {
     "source_hidden": true
    },
    "papermill": {
     "duration": 0.017656,
     "end_time": "2021-06-08T10:17:12.038377",
     "exception": false,
     "start_time": "2021-06-08T10:17:12.020721",
     "status": "completed"
    },
    "tags": [
     "hide-input"
    ]
   },
   "outputs": [
    {
     "data": {
      "text/markdown": [
       "# Dunn County has 4688 total positive cases, with 2 new cases reported today."
      ],
      "text/plain": [
       "<IPython.core.display.Markdown object>"
      ]
     },
     "metadata": {},
     "output_type": "display_data"
    }
   ],
   "source": [
    "display(Markdown('# Dunn County has ' + str(dc.iloc[-1]['POSITIVE']) + ' total positive cases, with '+ str(int(dc.iloc[-1]['POS_NEW'])) + ' new cases reported today.'))"
   ]
  },
  {
   "cell_type": "code",
   "execution_count": 6,
   "id": "compound-nightmare",
   "metadata": {
    "execution": {
     "iopub.execute_input": "2021-06-08T10:17:12.062206Z",
     "iopub.status.busy": "2021-06-08T10:17:12.061666Z",
     "iopub.status.idle": "2021-06-08T10:17:12.323949Z",
     "shell.execute_reply": "2021-06-08T10:17:12.323428Z"
    },
    "jupyter": {
     "source_hidden": true
    },
    "papermill": {
     "duration": 0.27618,
     "end_time": "2021-06-08T10:17:12.324074",
     "exception": false,
     "start_time": "2021-06-08T10:17:12.047894",
     "status": "completed"
    },
    "scrolled": false,
    "tags": [
     "hide-input"
    ]
   },
   "outputs": [
    {
     "data": {
      "image/png": "[encoded data removed]",
      "text/plain": [
       "<Figure size 864x432 with 1 Axes>"
      ]
     },
     "metadata": {
      "needs_background": "light"
     },
     "output_type": "display_data"
    }
   ],
   "source": [
    "dc.plot(x='DATE',y='POSITIVE',color='red',grid='True',figsize=(12,6)).set_xlabel('Date');"
   ]
  },
  {
   "cell_type": "markdown",
   "id": "coupled-literacy",
   "metadata": {
    "papermill": {
     "duration": 0.010451,
     "end_time": "2021-06-08T10:17:12.345008",
     "exception": false,
     "start_time": "2021-06-08T10:17:12.334557",
     "status": "completed"
    },
    "tags": []
   },
   "source": [
    "## Figure 1: Cummulative number of positive cases."
   ]
  },
  {
   "cell_type": "code",
   "execution_count": 7,
   "id": "surrounded-reserve",
   "metadata": {
    "execution": {
     "iopub.execute_input": "2021-06-08T10:17:12.382900Z",
     "iopub.status.busy": "2021-06-08T10:17:12.370252Z",
     "iopub.status.idle": "2021-06-08T10:17:12.608371Z",
     "shell.execute_reply": "2021-06-08T10:17:12.607846Z"
    },
    "jupyter": {
     "source_hidden": true
    },
    "papermill": {
     "duration": 0.253102,
     "end_time": "2021-06-08T10:17:12.608496",
     "exception": false,
     "start_time": "2021-06-08T10:17:12.355394",
     "status": "completed"
    },
    "scrolled": false,
    "tags": [
     "hide-input"
    ]
   },
   "outputs": [
    {
     "data": {
      "image/png": "[encoded data removed]",
      "text/plain": [
       "<Figure size 864x432 with 1 Axes>"
      ]
     },
     "metadata": {
      "needs_background": "light"
     },
     "output_type": "display_data"
    }
   ],
   "source": [
    "dc.plot(kind='line',x='DATE',y='7_DAY',color='blue',grid='True',figsize=(12,6)).set_xlabel('Date');"
   ]
  },
  {
   "cell_type": "markdown",
   "id": "professional-savannah",
   "metadata": {
    "papermill": {
     "duration": 0.011432,
     "end_time": "2021-06-08T10:17:12.631725",
     "exception": false,
     "start_time": "2021-06-08T10:17:12.620293",
     "status": "completed"
    },
    "tags": []
   },
   "source": [
    "## Figure 2: Rolling 7-day average of daily new cases."
   ]
  },
  {
   "cell_type": "code",
   "execution_count": 8,
   "id": "stretch-investor",
   "metadata": {
    "execution": {
     "iopub.execute_input": "2021-06-08T10:17:12.658931Z",
     "iopub.status.busy": "2021-06-08T10:17:12.658393Z",
     "iopub.status.idle": "2021-06-08T10:17:12.898168Z",
     "shell.execute_reply": "2021-06-08T10:17:12.898608Z"
    },
    "jupyter": {
     "source_hidden": true
    },
    "papermill": {
     "duration": 0.255718,
     "end_time": "2021-06-08T10:17:12.898761",
     "exception": false,
     "start_time": "2021-06-08T10:17:12.643043",
     "status": "completed"
    },
    "tags": []
   },
   "outputs": [
    {
     "data": {
      "image/png": "[encoded data removed]",
      "text/plain": [
       "<Figure size 864x432 with 1 Axes>"
      ]
     },
     "metadata": {
      "needs_background": "light"
     },
     "output_type": "display_data"
    }
   ],
   "source": [
    "dc.plot(kind='line',x='DATE',y='14_DAY',color='green',grid='True',figsize=(12,6)).set_xlabel('Date');"
   ]
  },
  {
   "cell_type": "markdown",
   "id": "prerequisite-species",
   "metadata": {
    "papermill": {
     "duration": 0.013859,
     "end_time": "2021-06-08T10:17:12.925394",
     "exception": false,
     "start_time": "2021-06-08T10:17:12.911535",
     "status": "completed"
    },
    "tags": []
   },
   "source": [
    "## Figure 3: Rolling 14-day average of daily new cases."
   ]
  },
  {
   "cell_type": "markdown",
   "id": "palestinian-guard",
   "metadata": {
    "papermill": {
     "duration": 0.012431,
     "end_time": "2021-06-08T10:17:12.950421",
     "exception": false,
     "start_time": "2021-06-08T10:17:12.937990",
     "status": "completed"
    },
    "tags": []
   },
   "source": [
    "Data source: [Wisconsin Department of Health Services](https://data.dhsgis.wi.gov/datasets/wi-dhs::covid-19-historical-data-by-county-1)"
   ]
  },
  {
   "cell_type": "code",
   "execution_count": 9,
   "id": "proof-medicare",
   "metadata": {
    "execution": {
     "iopub.execute_input": "2021-06-08T10:17:12.980134Z",
     "iopub.status.busy": "2021-06-08T10:17:12.979528Z",
     "iopub.status.idle": "2021-06-08T10:17:12.982955Z",
     "shell.execute_reply": "2021-06-08T10:17:12.983421Z"
    },
    "jupyter": {
     "source_hidden": true
    },
    "papermill": {
     "duration": 0.020595,
     "end_time": "2021-06-08T10:17:12.983567",
     "exception": false,
     "start_time": "2021-06-08T10:17:12.962972",
     "status": "completed"
    },
    "tags": []
   },
   "outputs": [
    {
     "data": {
      "text/html": [
       "<style>\n",
       "div.input {\n",
       "    display:none;\n",
       "}\n",
       "</style>\n"
      ],
      "text/plain": [
       "<IPython.core.display.HTML object>"
      ]
     },
     "metadata": {},
     "output_type": "display_data"
    }
   ],
   "source": [
    "%%html\n",
    "<style>\n",
    "div.input {\n",
    "    display:none;\n",
    "}\n",
    "</style>"
   ]
  }
 ],
 "metadata": {
  "kernelspec": {
   "display_name": "Python 3",
   "language": "python",
   "name": "python3"
  },
  "language_info": {
   "codemirror_mode": {
    "name": "ipython",
    "version": 3
   },
   "file_extension": ".py",
   "mimetype": "text/x-python",
   "name": "python",
   "nbconvert_exporter": "python",
   "pygments_lexer": "ipython3",
   "version": "3.8.10"
  },
  "papermill": {
   "duration": 4.882586,
   "end_time": "2021-06-08T10:17:13.404358",
   "environment_variables": {},
   "exception": null,
   "input_path": "DunnCounty_COVID19.ipynb",
   "output_path": "DunnCounty_COVID19.ipynb",
   "parameters": {
    "Start": "True",
    "secretsPath": "/home/runner/work/_temp/secrets.json"
   },
   "start_time": "2021-06-08T10:17:08.521772",
   "version": "1.1.16"
  }
 },
 "nbformat": 4,
 "nbformat_minor": 5
}